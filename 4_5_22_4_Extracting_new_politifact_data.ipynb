{
  "nbformat": 4,
  "nbformat_minor": 0,
  "metadata": {
    "colab": {
      "name": "politifact_data.ipynb",
      "provenance": [],
      "collapsed_sections": [],
      "include_colab_link": true
    },
    "kernelspec": {
      "name": "python3",
      "display_name": "Python 3"
    },
    "language_info": {
      "name": "python"
    },
    "widgets": {
      "application/vnd.jupyter.widget-state+json": {
        "3e0833955d5d46749069ec7ffd5a3d5a": {
          "model_module": "@jupyter-widgets/controls",
          "model_name": "HBoxModel",
          "model_module_version": "1.5.0",
          "state": {
            "_dom_classes": [],
            "_model_module": "@jupyter-widgets/controls",
            "_model_module_version": "1.5.0",
            "_model_name": "HBoxModel",
            "_view_count": null,
            "_view_module": "@jupyter-widgets/controls",
            "_view_module_version": "1.5.0",
            "_view_name": "HBoxView",
            "box_style": "",
            "children": [
              "IPY_MODEL_7c2c12a1805747a7a6af7c245279beec",
              "IPY_MODEL_940a84124449424398ac81524ae3ee48",
              "IPY_MODEL_b7972b93a21d4a20b35b3b7471c4c824"
            ],
            "layout": "IPY_MODEL_986936f347da4e9c91c1f82a9d6922cc"
          }
        },
        "7c2c12a1805747a7a6af7c245279beec": {
          "model_module": "@jupyter-widgets/controls",
          "model_name": "HTMLModel",
          "model_module_version": "1.5.0",
          "state": {
            "_dom_classes": [],
            "_model_module": "@jupyter-widgets/controls",
            "_model_module_version": "1.5.0",
            "_model_name": "HTMLModel",
            "_view_count": null,
            "_view_module": "@jupyter-widgets/controls",
            "_view_module_version": "1.5.0",
            "_view_name": "HTMLView",
            "description": "",
            "description_tooltip": null,
            "layout": "IPY_MODEL_b99c704cffe540efb38e7e98fe801c9b",
            "placeholder": "​",
            "style": "IPY_MODEL_5baa2a0a9df047a4bd3f88a7d74f6035",
            "value": "100%"
          }
        },
        "940a84124449424398ac81524ae3ee48": {
          "model_module": "@jupyter-widgets/controls",
          "model_name": "FloatProgressModel",
          "model_module_version": "1.5.0",
          "state": {
            "_dom_classes": [],
            "_model_module": "@jupyter-widgets/controls",
            "_model_module_version": "1.5.0",
            "_model_name": "FloatProgressModel",
            "_view_count": null,
            "_view_module": "@jupyter-widgets/controls",
            "_view_module_version": "1.5.0",
            "_view_name": "ProgressView",
            "bar_style": "success",
            "description": "",
            "description_tooltip": null,
            "layout": "IPY_MODEL_35726c12937949a9b512a627e652bdd4",
            "max": 1056,
            "min": 0,
            "orientation": "horizontal",
            "style": "IPY_MODEL_1aa3a50d590446379cec1a10b73bbac4",
            "value": 1056
          }
        },
        "b7972b93a21d4a20b35b3b7471c4c824": {
          "model_module": "@jupyter-widgets/controls",
          "model_name": "HTMLModel",
          "model_module_version": "1.5.0",
          "state": {
            "_dom_classes": [],
            "_model_module": "@jupyter-widgets/controls",
            "_model_module_version": "1.5.0",
            "_model_name": "HTMLModel",
            "_view_count": null,
            "_view_module": "@jupyter-widgets/controls",
            "_view_module_version": "1.5.0",
            "_view_name": "HTMLView",
            "description": "",
            "description_tooltip": null,
            "layout": "IPY_MODEL_ac65c28cef644fb6b413dc33e98807c7",
            "placeholder": "​",
            "style": "IPY_MODEL_c93337af467247ce87da98812af63f98",
            "value": " 1056/1056 [00:10&lt;00:00, 342.90it/s]"
          }
        },
        "986936f347da4e9c91c1f82a9d6922cc": {
          "model_module": "@jupyter-widgets/base",
          "model_name": "LayoutModel",
          "model_module_version": "1.2.0",
          "state": {
            "_model_module": "@jupyter-widgets/base",
            "_model_module_version": "1.2.0",
            "_model_name": "LayoutModel",
            "_view_count": null,
            "_view_module": "@jupyter-widgets/base",
            "_view_module_version": "1.2.0",
            "_view_name": "LayoutView",
            "align_content": null,
            "align_items": null,
            "align_self": null,
            "border": null,
            "bottom": null,
            "display": null,
            "flex": null,
            "flex_flow": null,
            "grid_area": null,
            "grid_auto_columns": null,
            "grid_auto_flow": null,
            "grid_auto_rows": null,
            "grid_column": null,
            "grid_gap": null,
            "grid_row": null,
            "grid_template_areas": null,
            "grid_template_columns": null,
            "grid_template_rows": null,
            "height": null,
            "justify_content": null,
            "justify_items": null,
            "left": null,
            "margin": null,
            "max_height": null,
            "max_width": null,
            "min_height": null,
            "min_width": null,
            "object_fit": null,
            "object_position": null,
            "order": null,
            "overflow": null,
            "overflow_x": null,
            "overflow_y": null,
            "padding": null,
            "right": null,
            "top": null,
            "visibility": null,
            "width": null
          }
        },
        "b99c704cffe540efb38e7e98fe801c9b": {
          "model_module": "@jupyter-widgets/base",
          "model_name": "LayoutModel",
          "model_module_version": "1.2.0",
          "state": {
            "_model_module": "@jupyter-widgets/base",
            "_model_module_version": "1.2.0",
            "_model_name": "LayoutModel",
            "_view_count": null,
            "_view_module": "@jupyter-widgets/base",
            "_view_module_version": "1.2.0",
            "_view_name": "LayoutView",
            "align_content": null,
            "align_items": null,
            "align_self": null,
            "border": null,
            "bottom": null,
            "display": null,
            "flex": null,
            "flex_flow": null,
            "grid_area": null,
            "grid_auto_columns": null,
            "grid_auto_flow": null,
            "grid_auto_rows": null,
            "grid_column": null,
            "grid_gap": null,
            "grid_row": null,
            "grid_template_areas": null,
            "grid_template_columns": null,
            "grid_template_rows": null,
            "height": null,
            "justify_content": null,
            "justify_items": null,
            "left": null,
            "margin": null,
            "max_height": null,
            "max_width": null,
            "min_height": null,
            "min_width": null,
            "object_fit": null,
            "object_position": null,
            "order": null,
            "overflow": null,
            "overflow_x": null,
            "overflow_y": null,
            "padding": null,
            "right": null,
            "top": null,
            "visibility": null,
            "width": null
          }
        },
        "5baa2a0a9df047a4bd3f88a7d74f6035": {
          "model_module": "@jupyter-widgets/controls",
          "model_name": "DescriptionStyleModel",
          "model_module_version": "1.5.0",
          "state": {
            "_model_module": "@jupyter-widgets/controls",
            "_model_module_version": "1.5.0",
            "_model_name": "DescriptionStyleModel",
            "_view_count": null,
            "_view_module": "@jupyter-widgets/base",
            "_view_module_version": "1.2.0",
            "_view_name": "StyleView",
            "description_width": ""
          }
        },
        "35726c12937949a9b512a627e652bdd4": {
          "model_module": "@jupyter-widgets/base",
          "model_name": "LayoutModel",
          "model_module_version": "1.2.0",
          "state": {
            "_model_module": "@jupyter-widgets/base",
            "_model_module_version": "1.2.0",
            "_model_name": "LayoutModel",
            "_view_count": null,
            "_view_module": "@jupyter-widgets/base",
            "_view_module_version": "1.2.0",
            "_view_name": "LayoutView",
            "align_content": null,
            "align_items": null,
            "align_self": null,
            "border": null,
            "bottom": null,
            "display": null,
            "flex": null,
            "flex_flow": null,
            "grid_area": null,
            "grid_auto_columns": null,
            "grid_auto_flow": null,
            "grid_auto_rows": null,
            "grid_column": null,
            "grid_gap": null,
            "grid_row": null,
            "grid_template_areas": null,
            "grid_template_columns": null,
            "grid_template_rows": null,
            "height": null,
            "justify_content": null,
            "justify_items": null,
            "left": null,
            "margin": null,
            "max_height": null,
            "max_width": null,
            "min_height": null,
            "min_width": null,
            "object_fit": null,
            "object_position": null,
            "order": null,
            "overflow": null,
            "overflow_x": null,
            "overflow_y": null,
            "padding": null,
            "right": null,
            "top": null,
            "visibility": null,
            "width": null
          }
        },
        "1aa3a50d590446379cec1a10b73bbac4": {
          "model_module": "@jupyter-widgets/controls",
          "model_name": "ProgressStyleModel",
          "model_module_version": "1.5.0",
          "state": {
            "_model_module": "@jupyter-widgets/controls",
            "_model_module_version": "1.5.0",
            "_model_name": "ProgressStyleModel",
            "_view_count": null,
            "_view_module": "@jupyter-widgets/base",
            "_view_module_version": "1.2.0",
            "_view_name": "StyleView",
            "bar_color": null,
            "description_width": ""
          }
        },
        "ac65c28cef644fb6b413dc33e98807c7": {
          "model_module": "@jupyter-widgets/base",
          "model_name": "LayoutModel",
          "model_module_version": "1.2.0",
          "state": {
            "_model_module": "@jupyter-widgets/base",
            "_model_module_version": "1.2.0",
            "_model_name": "LayoutModel",
            "_view_count": null,
            "_view_module": "@jupyter-widgets/base",
            "_view_module_version": "1.2.0",
            "_view_name": "LayoutView",
            "align_content": null,
            "align_items": null,
            "align_self": null,
            "border": null,
            "bottom": null,
            "display": null,
            "flex": null,
            "flex_flow": null,
            "grid_area": null,
            "grid_auto_columns": null,
            "grid_auto_flow": null,
            "grid_auto_rows": null,
            "grid_column": null,
            "grid_gap": null,
            "grid_row": null,
            "grid_template_areas": null,
            "grid_template_columns": null,
            "grid_template_rows": null,
            "height": null,
            "justify_content": null,
            "justify_items": null,
            "left": null,
            "margin": null,
            "max_height": null,
            "max_width": null,
            "min_height": null,
            "min_width": null,
            "object_fit": null,
            "object_position": null,
            "order": null,
            "overflow": null,
            "overflow_x": null,
            "overflow_y": null,
            "padding": null,
            "right": null,
            "top": null,
            "visibility": null,
            "width": null
          }
        },
        "c93337af467247ce87da98812af63f98": {
          "model_module": "@jupyter-widgets/controls",
          "model_name": "DescriptionStyleModel",
          "model_module_version": "1.5.0",
          "state": {
            "_model_module": "@jupyter-widgets/controls",
            "_model_module_version": "1.5.0",
            "_model_name": "DescriptionStyleModel",
            "_view_count": null,
            "_view_module": "@jupyter-widgets/base",
            "_view_module_version": "1.2.0",
            "_view_name": "StyleView",
            "description_width": ""
          }
        }
      }
    },
    "accelerator": "GPU"
  },
  "cells": [
    {
      "cell_type": "markdown",
      "metadata": {
        "id": "view-in-github",
        "colab_type": "text"
      },
      "source": [
        "<a href=\"https://colab.research.google.com/github/verma-saloni/Thesis-Work/blob/main/4_5_22_4_Extracting_new_politifact_data.ipynb\" target=\"_parent\"><img src=\"https://colab.research.google.com/assets/colab-badge.svg\" alt=\"Open In Colab\"/></a>"
      ]
    },
    {
      "cell_type": "code",
      "source": [
        "from pathlib import Path\n",
        "import glob\n",
        "import json\n",
        "import pandas as pd\n",
        "from tqdm.auto import tqdm\n",
        "import numpy as np"
      ],
      "metadata": {
        "id": "UGY0G62oxtap"
      },
      "execution_count": null,
      "outputs": []
    },
    {
      "cell_type": "code",
      "source": [
        "from google.colab import drive\n",
        "drive.mount('/content/drive')"
      ],
      "metadata": {
        "colab": {
          "base_uri": "https://localhost:8080/"
        },
        "id": "UxNEaltli8H_",
        "outputId": "bedd0a5c-9788-49fc-ef8c-4ce6f7ee7f38"
      },
      "execution_count": null,
      "outputs": [
        {
          "output_type": "stream",
          "name": "stdout",
          "text": [
            "Mounted at /content/drive\n"
          ]
        }
      ]
    },
    {
      "cell_type": "code",
      "source": [
        "base_dir = Path(\"/content/drive/MyDrive/fakenews/Research FakeNews\")\n",
        "assert base_dir.exists()"
      ],
      "metadata": {
        "id": "MhTCGgmQl8IC"
      },
      "execution_count": null,
      "outputs": []
    },
    {
      "cell_type": "markdown",
      "source": [
        "## Read data"
      ],
      "metadata": {
        "id": "R_4mZElNIVb5"
      }
    },
    {
      "cell_type": "code",
      "source": [
        "%%capture\n",
        "!unzip /content/drive/MyDrive/fakenews/Research\\ FakeNews/Datasets\\ Fakenews/fakenewsnet_dataset_politifact.zip"
      ],
      "metadata": {
        "id": "HcTr8qwot-Mc"
      },
      "execution_count": null,
      "outputs": []
    },
    {
      "cell_type": "code",
      "source": [
        "items = glob.glob((\"/content/fakenewsnet_dataset/politifact/*/politifact*\"), recursive=True)\n",
        "len(items)"
      ],
      "metadata": {
        "colab": {
          "base_uri": "https://localhost:8080/"
        },
        "id": "s7KgSbhG3Ge5",
        "outputId": "7fd42e76-a4a1-454f-859f-35de5d065eb7"
      },
      "execution_count": null,
      "outputs": [
        {
          "output_type": "execute_result",
          "data": {
            "text/plain": [
              "1056"
            ]
          },
          "metadata": {},
          "execution_count": 5
        }
      ]
    },
    {
      "cell_type": "code",
      "source": [
        "def _process_content(path:Path) -> dict:\n",
        "    filepath = path/\"news content.json\"\n",
        "    if filepath.exists():\n",
        "        with open(filepath) as f:\n",
        "            news_content = json.load(f)\n",
        "    else:\n",
        "        news_content = dict()\n",
        "    return news_content\n",
        "\n",
        "def _process_tweet(filepath:Path) -> dict:\n",
        "    with open(filepath) as f:\n",
        "        tweet = json.load(f)\n",
        "    keys = [\"id\", \"text\", \"retweet_count\"]\n",
        "    tweet_info = {k:tweet.get(k, None) for k in keys}\n",
        "    user_keys = [\"id\", 'location', \"friends_count\", \"followers_count\"]\n",
        "    user = tweet.get(\"user\", {})\n",
        "    user_info = {f\"user_{k}\":user.get(k, None) for k in user_keys}\n",
        "    return {**tweet_info, **user_info}"
      ],
      "metadata": {
        "id": "tjzpm1gy4kvu"
      },
      "execution_count": null,
      "outputs": []
    },
    {
      "cell_type": "code",
      "source": [
        "for e in items:\n",
        "    tweets = list((Path(e)/\"tweets\").glob(\"*.json\"))\n",
        "    if len(tweets):\n",
        "        break"
      ],
      "metadata": {
        "id": "12lGjJ8R7kWL"
      },
      "execution_count": null,
      "outputs": []
    },
    {
      "cell_type": "code",
      "source": [
        "tweets[0]"
      ],
      "metadata": {
        "colab": {
          "base_uri": "https://localhost:8080/"
        },
        "id": "qZHpw1Cqptah",
        "outputId": "d916c7bf-9615-4a08-cc61-9ab29132a907"
      },
      "execution_count": null,
      "outputs": [
        {
          "output_type": "execute_result",
          "data": {
            "text/plain": [
              "PosixPath('/content/fakenewsnet_dataset/politifact/fake/politifact14235/tweets/873326045058838528.json')"
            ]
          },
          "metadata": {},
          "execution_count": 11
        }
      ]
    },
    {
      "cell_type": "code",
      "source": [
        "_process_tweet(tweets[2])"
      ],
      "metadata": {
        "colab": {
          "base_uri": "https://localhost:8080/"
        },
        "id": "oncNNLJX-jch",
        "outputId": "95ba7e41-f60a-4b74-c035-7fad996ad748"
      },
      "execution_count": null,
      "outputs": [
        {
          "output_type": "execute_result",
          "data": {
            "text/plain": [
              "{'id': 871714089986396161,\n",
              " 'retweet_count': 0,\n",
              " 'text': 'Liberal Women Hate Me Because Of My \"Striking Beauty And Intellect\", Says Kellyanne Conway - London Web News https://t.co/YbYq9LThas',\n",
              " 'user_followers_count': 709,\n",
              " 'user_friends_count': 1888,\n",
              " 'user_id': 16560700,\n",
              " 'user_location': ''}"
            ]
          },
          "metadata": {},
          "execution_count": 12
        }
      ]
    },
    {
      "cell_type": "code",
      "source": [
        "base_keys = [\"id\", \"label\"]\n",
        "news_content_keys = ['url', 'text', 'top_img', 'keywords', 'authors', 'canonical_link', 'title', 'meta_data', 'publish_date', 'source', 'summary']\n",
        "tweeter_keys = [\"retweets\", \"tweets\"]\n",
        "row_list = []\n",
        "\n",
        "for e in tqdm(items):\n",
        "    row = {}\n",
        "    path = Path(e)\n",
        "    row[\"id\"] = path.name\n",
        "    row[\"label\"] = path.parent.name\n",
        "    # add news content\n",
        "    news_content = _process_content(path)\n",
        "    for k in news_content_keys:\n",
        "        row[k] = news_content.get(k, None)\n",
        "    # add tweeter data\n",
        "    row[\"retweets\"] = [x.name.split(\".\")[0] for x in (path/\"retweets\").glob(\"*.json\")]\n",
        "    tweets = [_process_tweet(x) for x in (path/\"tweets\").glob(\"*.json\")]\n",
        "    row[\"tweets\"] = tweets\n",
        "\n",
        "    row_list.append(row)\n",
        "    \n",
        "\n",
        "df = pd.DataFrame(row_list, columns=base_keys+news_content_keys+tweeter_keys)"
      ],
      "metadata": {
        "id": "KRdC7LqC0Dje",
        "colab": {
          "base_uri": "https://localhost:8080/",
          "height": 52,
          "referenced_widgets": [
            "3e0833955d5d46749069ec7ffd5a3d5a",
            "7c2c12a1805747a7a6af7c245279beec",
            "940a84124449424398ac81524ae3ee48",
            "b7972b93a21d4a20b35b3b7471c4c824",
            "986936f347da4e9c91c1f82a9d6922cc",
            "b99c704cffe540efb38e7e98fe801c9b",
            "5baa2a0a9df047a4bd3f88a7d74f6035",
            "35726c12937949a9b512a627e652bdd4",
            "1aa3a50d590446379cec1a10b73bbac4",
            "ac65c28cef644fb6b413dc33e98807c7",
            "c93337af467247ce87da98812af63f98"
          ]
        },
        "outputId": "01b4f073-9c74-4a17-cd5b-b0913da1884f"
      },
      "execution_count": null,
      "outputs": [
        {
          "output_type": "display_data",
          "data": {
            "text/plain": [
              "  0%|          | 0/1056 [00:00<?, ?it/s]"
            ],
            "application/vnd.jupyter.widget-view+json": {
              "version_major": 2,
              "version_minor": 0,
              "model_id": "3e0833955d5d46749069ec7ffd5a3d5a"
            }
          },
          "metadata": {}
        }
      ]
    },
    {
      "cell_type": "code",
      "source": [
        "df.head()"
      ],
      "metadata": {
        "colab": {
          "base_uri": "https://localhost:8080/",
          "height": 728
        },
        "id": "zFCFBDrj0P1X",
        "outputId": "c21e1903-3832-44b9-b25a-903b37353ce6"
      },
      "execution_count": null,
      "outputs": [
        {
          "output_type": "execute_result",
          "data": {
            "text/plain": [
              "                id label                                                url  \\\n",
              "0  politifact14667  fake  https://www.facebook.com/StopDjTrump/photos/a....   \n",
              "1  politifact14235  fake  http://londonwebnews.com/2017/06/01/liberal-wo...   \n",
              "2  politifact15037  fake  www.reddit.com/r/conspiracy/comments/7ww8j1/ru...   \n",
              "3  politifact15534  fake  https://web.archive.org/web/20180630141610/htt...   \n",
              "4  politifact14119  fake  https://web.archive.org/web/20170521002626/htt...   \n",
              "\n",
              "                                                text  \\\n",
              "0                                                      \n",
              "1  Kellyanne Conway, counselor to President Trump...   \n",
              "2  Wir verwenden Cookies auf unseren Websites für...   \n",
              "3  They’ve only started on Jupiter recently, henc...   \n",
              "4  Fox News’ bright and shining primetime star, T...   \n",
              "\n",
              "                                             top_img keywords authors  \\\n",
              "0  https://static.xx.fbcdn.net/rsrc.php/yD/r/d4ZI...       []      []   \n",
              "1  http://londonwebnews.com/wp-content/uploads/20...       []      []   \n",
              "2  https://www.redditstatic.com/desktop2x/img/fav...       []      []   \n",
              "3  https://web.archive.org/web/20180630141610im_/...       []      []   \n",
              "4  https://web.archive.org/web/20170521002626im_/...       []      []   \n",
              "\n",
              "                                      canonical_link  \\\n",
              "0                                                      \n",
              "1  http://londonwebnews.com/2017/06/01/liberal-wo...   \n",
              "2  https://www.reddit.com/r/conspiracy/comments/7...   \n",
              "3  https://web.archive.org/web/20180630141610/htt...   \n",
              "4  https://web.archive.org/web/20170521002626/htt...   \n",
              "\n",
              "                                               title  \\\n",
              "0                                           Facebook   \n",
              "1  Liberal Women Hate Me Because Of My “Striking ...   \n",
              "2  Russian source behind Trump dossier killed in ...   \n",
              "3  NASA ANNOUNCED THAT IT COMMUNICATED WITH FOUR ...   \n",
              "4  BREAKING: Fox Star Tucker Carlson In Critical ...   \n",
              "\n",
              "                                           meta_data  publish_date  \\\n",
              "0  {'viewport': 'width=device-width,initial-scale...           NaN   \n",
              "1  {'viewport': 'width=device-width, initial-scal...  1.496268e+09   \n",
              "2  {'viewport': 'width=device-width, initial-scal...           NaN   \n",
              "3  {'viewport': 'width=device-width, initial-scal...  1.529786e+09   \n",
              "4  {'viewport': 'width=device-width, initial-scal...  1.494678e+09   \n",
              "\n",
              "                     source summary  \\\n",
              "0  https://www.facebook.com           \n",
              "1  http://londonwebnews.com           \n",
              "2     http://www.reddit.com           \n",
              "3   https://web.archive.org           \n",
              "4   https://web.archive.org           \n",
              "\n",
              "                                            retweets  \\\n",
              "0  [1022546912858103808, 1020337613474009089, 105...   \n",
              "1  [873326045058838528, 872593394324951042, 87171...   \n",
              "2  [963508344026693633, 962788790338174976, 96412...   \n",
              "3  [909138789754441730, 906251398718910464, 88211...   \n",
              "4  [863760194244759552, 863421319752364032, 86376...   \n",
              "\n",
              "                                              tweets  \n",
              "0                                                 []  \n",
              "1  [{'id': 873326045058838528, 'text': 'Liberal W...  \n",
              "2                                                 []  \n",
              "3                                                 []  \n",
              "4                                                 []  "
            ],
            "text/html": [
              "\n",
              "  <div id=\"df-bc20e1ad-dad1-48eb-a95e-d08c7ac8b307\">\n",
              "    <div class=\"colab-df-container\">\n",
              "      <div>\n",
              "<style scoped>\n",
              "    .dataframe tbody tr th:only-of-type {\n",
              "        vertical-align: middle;\n",
              "    }\n",
              "\n",
              "    .dataframe tbody tr th {\n",
              "        vertical-align: top;\n",
              "    }\n",
              "\n",
              "    .dataframe thead th {\n",
              "        text-align: right;\n",
              "    }\n",
              "</style>\n",
              "<table border=\"1\" class=\"dataframe\">\n",
              "  <thead>\n",
              "    <tr style=\"text-align: right;\">\n",
              "      <th></th>\n",
              "      <th>id</th>\n",
              "      <th>label</th>\n",
              "      <th>url</th>\n",
              "      <th>text</th>\n",
              "      <th>top_img</th>\n",
              "      <th>keywords</th>\n",
              "      <th>authors</th>\n",
              "      <th>canonical_link</th>\n",
              "      <th>title</th>\n",
              "      <th>meta_data</th>\n",
              "      <th>publish_date</th>\n",
              "      <th>source</th>\n",
              "      <th>summary</th>\n",
              "      <th>retweets</th>\n",
              "      <th>tweets</th>\n",
              "    </tr>\n",
              "  </thead>\n",
              "  <tbody>\n",
              "    <tr>\n",
              "      <th>0</th>\n",
              "      <td>politifact14667</td>\n",
              "      <td>fake</td>\n",
              "      <td>https://www.facebook.com/StopDjTrump/photos/a....</td>\n",
              "      <td></td>\n",
              "      <td>https://static.xx.fbcdn.net/rsrc.php/yD/r/d4ZI...</td>\n",
              "      <td>[]</td>\n",
              "      <td>[]</td>\n",
              "      <td></td>\n",
              "      <td>Facebook</td>\n",
              "      <td>{'viewport': 'width=device-width,initial-scale...</td>\n",
              "      <td>NaN</td>\n",
              "      <td>https://www.facebook.com</td>\n",
              "      <td></td>\n",
              "      <td>[1022546912858103808, 1020337613474009089, 105...</td>\n",
              "      <td>[]</td>\n",
              "    </tr>\n",
              "    <tr>\n",
              "      <th>1</th>\n",
              "      <td>politifact14235</td>\n",
              "      <td>fake</td>\n",
              "      <td>http://londonwebnews.com/2017/06/01/liberal-wo...</td>\n",
              "      <td>Kellyanne Conway, counselor to President Trump...</td>\n",
              "      <td>http://londonwebnews.com/wp-content/uploads/20...</td>\n",
              "      <td>[]</td>\n",
              "      <td>[]</td>\n",
              "      <td>http://londonwebnews.com/2017/06/01/liberal-wo...</td>\n",
              "      <td>Liberal Women Hate Me Because Of My “Striking ...</td>\n",
              "      <td>{'viewport': 'width=device-width, initial-scal...</td>\n",
              "      <td>1.496268e+09</td>\n",
              "      <td>http://londonwebnews.com</td>\n",
              "      <td></td>\n",
              "      <td>[873326045058838528, 872593394324951042, 87171...</td>\n",
              "      <td>[{'id': 873326045058838528, 'text': 'Liberal W...</td>\n",
              "    </tr>\n",
              "    <tr>\n",
              "      <th>2</th>\n",
              "      <td>politifact15037</td>\n",
              "      <td>fake</td>\n",
              "      <td>www.reddit.com/r/conspiracy/comments/7ww8j1/ru...</td>\n",
              "      <td>Wir verwenden Cookies auf unseren Websites für...</td>\n",
              "      <td>https://www.redditstatic.com/desktop2x/img/fav...</td>\n",
              "      <td>[]</td>\n",
              "      <td>[]</td>\n",
              "      <td>https://www.reddit.com/r/conspiracy/comments/7...</td>\n",
              "      <td>Russian source behind Trump dossier killed in ...</td>\n",
              "      <td>{'viewport': 'width=device-width, initial-scal...</td>\n",
              "      <td>NaN</td>\n",
              "      <td>http://www.reddit.com</td>\n",
              "      <td></td>\n",
              "      <td>[963508344026693633, 962788790338174976, 96412...</td>\n",
              "      <td>[]</td>\n",
              "    </tr>\n",
              "    <tr>\n",
              "      <th>3</th>\n",
              "      <td>politifact15534</td>\n",
              "      <td>fake</td>\n",
              "      <td>https://web.archive.org/web/20180630141610/htt...</td>\n",
              "      <td>They’ve only started on Jupiter recently, henc...</td>\n",
              "      <td>https://web.archive.org/web/20180630141610im_/...</td>\n",
              "      <td>[]</td>\n",
              "      <td>[]</td>\n",
              "      <td>https://web.archive.org/web/20180630141610/htt...</td>\n",
              "      <td>NASA ANNOUNCED THAT IT COMMUNICATED WITH FOUR ...</td>\n",
              "      <td>{'viewport': 'width=device-width, initial-scal...</td>\n",
              "      <td>1.529786e+09</td>\n",
              "      <td>https://web.archive.org</td>\n",
              "      <td></td>\n",
              "      <td>[909138789754441730, 906251398718910464, 88211...</td>\n",
              "      <td>[]</td>\n",
              "    </tr>\n",
              "    <tr>\n",
              "      <th>4</th>\n",
              "      <td>politifact14119</td>\n",
              "      <td>fake</td>\n",
              "      <td>https://web.archive.org/web/20170521002626/htt...</td>\n",
              "      <td>Fox News’ bright and shining primetime star, T...</td>\n",
              "      <td>https://web.archive.org/web/20170521002626im_/...</td>\n",
              "      <td>[]</td>\n",
              "      <td>[]</td>\n",
              "      <td>https://web.archive.org/web/20170521002626/htt...</td>\n",
              "      <td>BREAKING: Fox Star Tucker Carlson In Critical ...</td>\n",
              "      <td>{'viewport': 'width=device-width, initial-scal...</td>\n",
              "      <td>1.494678e+09</td>\n",
              "      <td>https://web.archive.org</td>\n",
              "      <td></td>\n",
              "      <td>[863760194244759552, 863421319752364032, 86376...</td>\n",
              "      <td>[]</td>\n",
              "    </tr>\n",
              "  </tbody>\n",
              "</table>\n",
              "</div>\n",
              "      <button class=\"colab-df-convert\" onclick=\"convertToInteractive('df-bc20e1ad-dad1-48eb-a95e-d08c7ac8b307')\"\n",
              "              title=\"Convert this dataframe to an interactive table.\"\n",
              "              style=\"display:none;\">\n",
              "        \n",
              "  <svg xmlns=\"http://www.w3.org/2000/svg\" height=\"24px\"viewBox=\"0 0 24 24\"\n",
              "       width=\"24px\">\n",
              "    <path d=\"M0 0h24v24H0V0z\" fill=\"none\"/>\n",
              "    <path d=\"M18.56 5.44l.94 2.06.94-2.06 2.06-.94-2.06-.94-.94-2.06-.94 2.06-2.06.94zm-11 1L8.5 8.5l.94-2.06 2.06-.94-2.06-.94L8.5 2.5l-.94 2.06-2.06.94zm10 10l.94 2.06.94-2.06 2.06-.94-2.06-.94-.94-2.06-.94 2.06-2.06.94z\"/><path d=\"M17.41 7.96l-1.37-1.37c-.4-.4-.92-.59-1.43-.59-.52 0-1.04.2-1.43.59L10.3 9.45l-7.72 7.72c-.78.78-.78 2.05 0 2.83L4 21.41c.39.39.9.59 1.41.59.51 0 1.02-.2 1.41-.59l7.78-7.78 2.81-2.81c.8-.78.8-2.07 0-2.86zM5.41 20L4 18.59l7.72-7.72 1.47 1.35L5.41 20z\"/>\n",
              "  </svg>\n",
              "      </button>\n",
              "      \n",
              "  <style>\n",
              "    .colab-df-container {\n",
              "      display:flex;\n",
              "      flex-wrap:wrap;\n",
              "      gap: 12px;\n",
              "    }\n",
              "\n",
              "    .colab-df-convert {\n",
              "      background-color: #E8F0FE;\n",
              "      border: none;\n",
              "      border-radius: 50%;\n",
              "      cursor: pointer;\n",
              "      display: none;\n",
              "      fill: #1967D2;\n",
              "      height: 32px;\n",
              "      padding: 0 0 0 0;\n",
              "      width: 32px;\n",
              "    }\n",
              "\n",
              "    .colab-df-convert:hover {\n",
              "      background-color: #E2EBFA;\n",
              "      box-shadow: 0px 1px 2px rgba(60, 64, 67, 0.3), 0px 1px 3px 1px rgba(60, 64, 67, 0.15);\n",
              "      fill: #174EA6;\n",
              "    }\n",
              "\n",
              "    [theme=dark] .colab-df-convert {\n",
              "      background-color: #3B4455;\n",
              "      fill: #D2E3FC;\n",
              "    }\n",
              "\n",
              "    [theme=dark] .colab-df-convert:hover {\n",
              "      background-color: #434B5C;\n",
              "      box-shadow: 0px 1px 3px 1px rgba(0, 0, 0, 0.15);\n",
              "      filter: drop-shadow(0px 1px 2px rgba(0, 0, 0, 0.3));\n",
              "      fill: #FFFFFF;\n",
              "    }\n",
              "  </style>\n",
              "\n",
              "      <script>\n",
              "        const buttonEl =\n",
              "          document.querySelector('#df-bc20e1ad-dad1-48eb-a95e-d08c7ac8b307 button.colab-df-convert');\n",
              "        buttonEl.style.display =\n",
              "          google.colab.kernel.accessAllowed ? 'block' : 'none';\n",
              "\n",
              "        async function convertToInteractive(key) {\n",
              "          const element = document.querySelector('#df-bc20e1ad-dad1-48eb-a95e-d08c7ac8b307');\n",
              "          const dataTable =\n",
              "            await google.colab.kernel.invokeFunction('convertToInteractive',\n",
              "                                                     [key], {});\n",
              "          if (!dataTable) return;\n",
              "\n",
              "          const docLinkHtml = 'Like what you see? Visit the ' +\n",
              "            '<a target=\"_blank\" href=https://colab.research.google.com/notebooks/data_table.ipynb>data table notebook</a>'\n",
              "            + ' to learn more about interactive tables.';\n",
              "          element.innerHTML = '';\n",
              "          dataTable['output_type'] = 'display_data';\n",
              "          await google.colab.output.renderOutput(dataTable, element);\n",
              "          const docLink = document.createElement('div');\n",
              "          docLink.innerHTML = docLinkHtml;\n",
              "          element.appendChild(docLink);\n",
              "        }\n",
              "      </script>\n",
              "    </div>\n",
              "  </div>\n",
              "  "
            ]
          },
          "metadata": {},
          "execution_count": 17
        }
      ]
    },
    {
      "cell_type": "code",
      "source": [
        "def get_tid(a):\n",
        "    if len(a) == 0:\n",
        "        return\n",
        "    return a[0][\"id\"]\n",
        "\n",
        "\n",
        "df.tweets.map(get_tid).isna().all()"
      ],
      "metadata": {
        "colab": {
          "base_uri": "https://localhost:8080/"
        },
        "id": "kM_HpF-ntDsW",
        "outputId": "4afb3ae3-0e56-49d9-934e-025ca1a43050"
      },
      "execution_count": null,
      "outputs": [
        {
          "output_type": "execute_result",
          "data": {
            "text/plain": [
              "False"
            ]
          },
          "metadata": {},
          "execution_count": 18
        }
      ]
    },
    {
      "cell_type": "code",
      "source": [
        "(df.label == 'fake').sum(), (df.label == 'real').sum()"
      ],
      "metadata": {
        "colab": {
          "base_uri": "https://localhost:8080/"
        },
        "id": "jkn1gfF-5EfU",
        "outputId": "ba2e9553-e44a-465a-a506-3cbcf5f7dabd"
      },
      "execution_count": null,
      "outputs": [
        {
          "output_type": "execute_result",
          "data": {
            "text/plain": [
              "(432, 624)"
            ]
          },
          "metadata": {},
          "execution_count": 19
        }
      ]
    },
    {
      "cell_type": "code",
      "source": [
        "len(df[df.text.str.len()==0]) + df.text.isna().sum()"
      ],
      "metadata": {
        "colab": {
          "base_uri": "https://localhost:8080/"
        },
        "id": "VCMbfL3h6SSV",
        "outputId": "da15eec6-3393-4e9a-9a77-c3ff5e3f20d7"
      },
      "execution_count": null,
      "outputs": [
        {
          "output_type": "execute_result",
          "data": {
            "text/plain": [
              "181"
            ]
          },
          "metadata": {},
          "execution_count": 20
        }
      ]
    },
    {
      "cell_type": "markdown",
      "source": [
        "## Load data"
      ],
      "metadata": {
        "id": "QZDjXapXNHxU"
      }
    },
    {
      "cell_type": "code",
      "source": [
        "import ast\n",
        "\n",
        "converters = {\"retweets\":ast.literal_eval, \"tweets\":ast.literal_eval}\n",
        "df = pd.read_csv(base_dir/\"politifact.csv\", index_col=0, converters=converters, parse_dates=[\"publish_date\"])"
      ],
      "metadata": {
        "id": "ghVSsNI0Ci-V"
      },
      "execution_count": null,
      "outputs": []
    },
    {
      "cell_type": "code",
      "source": [
        "df.head()"
      ],
      "metadata": {
        "colab": {
          "base_uri": "https://localhost:8080/",
          "height": 671
        },
        "id": "bjYdaIs51j87",
        "outputId": "3de09fcb-a238-4716-b4b2-64a358a83e70"
      },
      "execution_count": null,
      "outputs": [
        {
          "output_type": "execute_result",
          "data": {
            "text/plain": [
              "               id label                                                url  \\\n",
              "0  politifact1212  real  http://www.youtube.com/watch?v=5zrsl8o4ZPo&fea...   \n",
              "1  politifact6730  real  http://www.motherjones.com/politics/2012/09/se...   \n",
              "2  politifact2298  real  https://web.archive.org/web/20050322064340/htt...   \n",
              "3    politifact87  real  http://www.ilga.gov/legislation/BillStatus.asp...   \n",
              "4  politifact3180  real  http://abcnews.go.com/Politics/rand-paul-repub...   \n",
              "\n",
              "                                                text  \\\n",
              "0  ein Google-Unternehmen\\n\\nDienste anbieten und...   \n",
              "1  During a private fundraiser earlier this year,...   \n",
              "2  COPYRIGHT © 2005 LexisNexis, a division of Ree...   \n",
              "3  ×\\n\\nThe Illinois General Assembly offers the ...   \n",
              "4  Feb. 4, 2011  -- In an exclusive interview wi...   \n",
              "\n",
              "                                             top_img keywords  \\\n",
              "0                  http://www.google.com/favicon.ico       []   \n",
              "1  https://www.motherjones.com/wp-content/uploads...       []   \n",
              "2                                                NaN       []   \n",
              "3                   http://www.ilga.gov/LISlogo1.ico       []   \n",
              "4  http://abcnews.go.com/Politics/rand-paul-repub...       []   \n",
              "\n",
              "                                             authors  \\\n",
              "0                                                 []   \n",
              "1  ['David Corn', 'Dave Gilson', 'Tim Murphy', 'B...   \n",
              "2                                                 []   \n",
              "3                                                 []   \n",
              "4          ['Abc News', 'Jonathan Karl', 'February']   \n",
              "\n",
              "                                      canonical_link  \\\n",
              "0                                                NaN   \n",
              "1  https://www.motherjones.com/politics/2012/09/s...   \n",
              "2                                                NaN   \n",
              "3                                                NaN   \n",
              "4  https://abcnews.go.com/Politics/rand-paul-repu...   \n",
              "\n",
              "                                               title  \\\n",
              "0                   Bevor Sie zu YouTube weitergehen   \n",
              "1  SECRET VIDEO: Romney Tells Millionaire Donors ...   \n",
              "2                            LexisNexis(R) Publisher   \n",
              "3                          Illinois General Assembly   \n",
              "4  ABC News Exclusive: Rand Paul Says Republicans...   \n",
              "\n",
              "                                           meta_data  publish_date  \\\n",
              "0  {'viewport': 'initial-scale=1, maximum-scale=5...           NaN   \n",
              "1  {'viewport': 'width=device-width, initial-scal...  1347904858.0   \n",
              "2                                                 {}           NaN   \n",
              "3  {'classification': 'Government', 'distribution...           NaN   \n",
              "4  {'description': 'In an exclusive interview wit...           NaN   \n",
              "\n",
              "                       source  summary retweets  \\\n",
              "0      http://www.youtube.com      NaN       []   \n",
              "1  http://www.motherjones.com      NaN       []   \n",
              "2     https://web.archive.org      NaN       []   \n",
              "3         http://www.ilga.gov      NaN       []   \n",
              "4       http://abcnews.go.com      NaN       []   \n",
              "\n",
              "                                              tweets  \n",
              "0  [{'id': None, 'text': None, 'retweet_count': N...  \n",
              "1  [{'id': None, 'text': None, 'retweet_count': N...  \n",
              "2  [{'id': None, 'text': None, 'retweet_count': N...  \n",
              "3                                                 []  \n",
              "4                                                 []  "
            ],
            "text/html": [
              "\n",
              "  <div id=\"df-358400f2-32bd-4971-89c4-a2c8778ce3e0\">\n",
              "    <div class=\"colab-df-container\">\n",
              "      <div>\n",
              "<style scoped>\n",
              "    .dataframe tbody tr th:only-of-type {\n",
              "        vertical-align: middle;\n",
              "    }\n",
              "\n",
              "    .dataframe tbody tr th {\n",
              "        vertical-align: top;\n",
              "    }\n",
              "\n",
              "    .dataframe thead th {\n",
              "        text-align: right;\n",
              "    }\n",
              "</style>\n",
              "<table border=\"1\" class=\"dataframe\">\n",
              "  <thead>\n",
              "    <tr style=\"text-align: right;\">\n",
              "      <th></th>\n",
              "      <th>id</th>\n",
              "      <th>label</th>\n",
              "      <th>url</th>\n",
              "      <th>text</th>\n",
              "      <th>top_img</th>\n",
              "      <th>keywords</th>\n",
              "      <th>authors</th>\n",
              "      <th>canonical_link</th>\n",
              "      <th>title</th>\n",
              "      <th>meta_data</th>\n",
              "      <th>publish_date</th>\n",
              "      <th>source</th>\n",
              "      <th>summary</th>\n",
              "      <th>retweets</th>\n",
              "      <th>tweets</th>\n",
              "    </tr>\n",
              "  </thead>\n",
              "  <tbody>\n",
              "    <tr>\n",
              "      <th>0</th>\n",
              "      <td>politifact1212</td>\n",
              "      <td>real</td>\n",
              "      <td>http://www.youtube.com/watch?v=5zrsl8o4ZPo&amp;fea...</td>\n",
              "      <td>ein Google-Unternehmen\\n\\nDienste anbieten und...</td>\n",
              "      <td>http://www.google.com/favicon.ico</td>\n",
              "      <td>[]</td>\n",
              "      <td>[]</td>\n",
              "      <td>NaN</td>\n",
              "      <td>Bevor Sie zu YouTube weitergehen</td>\n",
              "      <td>{'viewport': 'initial-scale=1, maximum-scale=5...</td>\n",
              "      <td>NaN</td>\n",
              "      <td>http://www.youtube.com</td>\n",
              "      <td>NaN</td>\n",
              "      <td>[]</td>\n",
              "      <td>[{'id': None, 'text': None, 'retweet_count': N...</td>\n",
              "    </tr>\n",
              "    <tr>\n",
              "      <th>1</th>\n",
              "      <td>politifact6730</td>\n",
              "      <td>real</td>\n",
              "      <td>http://www.motherjones.com/politics/2012/09/se...</td>\n",
              "      <td>During a private fundraiser earlier this year,...</td>\n",
              "      <td>https://www.motherjones.com/wp-content/uploads...</td>\n",
              "      <td>[]</td>\n",
              "      <td>['David Corn', 'Dave Gilson', 'Tim Murphy', 'B...</td>\n",
              "      <td>https://www.motherjones.com/politics/2012/09/s...</td>\n",
              "      <td>SECRET VIDEO: Romney Tells Millionaire Donors ...</td>\n",
              "      <td>{'viewport': 'width=device-width, initial-scal...</td>\n",
              "      <td>1347904858.0</td>\n",
              "      <td>http://www.motherjones.com</td>\n",
              "      <td>NaN</td>\n",
              "      <td>[]</td>\n",
              "      <td>[{'id': None, 'text': None, 'retweet_count': N...</td>\n",
              "    </tr>\n",
              "    <tr>\n",
              "      <th>2</th>\n",
              "      <td>politifact2298</td>\n",
              "      <td>real</td>\n",
              "      <td>https://web.archive.org/web/20050322064340/htt...</td>\n",
              "      <td>COPYRIGHT © 2005 LexisNexis, a division of Ree...</td>\n",
              "      <td>NaN</td>\n",
              "      <td>[]</td>\n",
              "      <td>[]</td>\n",
              "      <td>NaN</td>\n",
              "      <td>LexisNexis(R) Publisher</td>\n",
              "      <td>{}</td>\n",
              "      <td>NaN</td>\n",
              "      <td>https://web.archive.org</td>\n",
              "      <td>NaN</td>\n",
              "      <td>[]</td>\n",
              "      <td>[{'id': None, 'text': None, 'retweet_count': N...</td>\n",
              "    </tr>\n",
              "    <tr>\n",
              "      <th>3</th>\n",
              "      <td>politifact87</td>\n",
              "      <td>real</td>\n",
              "      <td>http://www.ilga.gov/legislation/BillStatus.asp...</td>\n",
              "      <td>×\\n\\nThe Illinois General Assembly offers the ...</td>\n",
              "      <td>http://www.ilga.gov/LISlogo1.ico</td>\n",
              "      <td>[]</td>\n",
              "      <td>[]</td>\n",
              "      <td>NaN</td>\n",
              "      <td>Illinois General Assembly</td>\n",
              "      <td>{'classification': 'Government', 'distribution...</td>\n",
              "      <td>NaN</td>\n",
              "      <td>http://www.ilga.gov</td>\n",
              "      <td>NaN</td>\n",
              "      <td>[]</td>\n",
              "      <td>[]</td>\n",
              "    </tr>\n",
              "    <tr>\n",
              "      <th>4</th>\n",
              "      <td>politifact3180</td>\n",
              "      <td>real</td>\n",
              "      <td>http://abcnews.go.com/Politics/rand-paul-repub...</td>\n",
              "      <td>Feb. 4, 2011  -- In an exclusive interview wi...</td>\n",
              "      <td>http://abcnews.go.com/Politics/rand-paul-repub...</td>\n",
              "      <td>[]</td>\n",
              "      <td>['Abc News', 'Jonathan Karl', 'February']</td>\n",
              "      <td>https://abcnews.go.com/Politics/rand-paul-repu...</td>\n",
              "      <td>ABC News Exclusive: Rand Paul Says Republicans...</td>\n",
              "      <td>{'description': 'In an exclusive interview wit...</td>\n",
              "      <td>NaN</td>\n",
              "      <td>http://abcnews.go.com</td>\n",
              "      <td>NaN</td>\n",
              "      <td>[]</td>\n",
              "      <td>[]</td>\n",
              "    </tr>\n",
              "  </tbody>\n",
              "</table>\n",
              "</div>\n",
              "      <button class=\"colab-df-convert\" onclick=\"convertToInteractive('df-358400f2-32bd-4971-89c4-a2c8778ce3e0')\"\n",
              "              title=\"Convert this dataframe to an interactive table.\"\n",
              "              style=\"display:none;\">\n",
              "        \n",
              "  <svg xmlns=\"http://www.w3.org/2000/svg\" height=\"24px\"viewBox=\"0 0 24 24\"\n",
              "       width=\"24px\">\n",
              "    <path d=\"M0 0h24v24H0V0z\" fill=\"none\"/>\n",
              "    <path d=\"M18.56 5.44l.94 2.06.94-2.06 2.06-.94-2.06-.94-.94-2.06-.94 2.06-2.06.94zm-11 1L8.5 8.5l.94-2.06 2.06-.94-2.06-.94L8.5 2.5l-.94 2.06-2.06.94zm10 10l.94 2.06.94-2.06 2.06-.94-2.06-.94-.94-2.06-.94 2.06-2.06.94z\"/><path d=\"M17.41 7.96l-1.37-1.37c-.4-.4-.92-.59-1.43-.59-.52 0-1.04.2-1.43.59L10.3 9.45l-7.72 7.72c-.78.78-.78 2.05 0 2.83L4 21.41c.39.39.9.59 1.41.59.51 0 1.02-.2 1.41-.59l7.78-7.78 2.81-2.81c.8-.78.8-2.07 0-2.86zM5.41 20L4 18.59l7.72-7.72 1.47 1.35L5.41 20z\"/>\n",
              "  </svg>\n",
              "      </button>\n",
              "      \n",
              "  <style>\n",
              "    .colab-df-container {\n",
              "      display:flex;\n",
              "      flex-wrap:wrap;\n",
              "      gap: 12px;\n",
              "    }\n",
              "\n",
              "    .colab-df-convert {\n",
              "      background-color: #E8F0FE;\n",
              "      border: none;\n",
              "      border-radius: 50%;\n",
              "      cursor: pointer;\n",
              "      display: none;\n",
              "      fill: #1967D2;\n",
              "      height: 32px;\n",
              "      padding: 0 0 0 0;\n",
              "      width: 32px;\n",
              "    }\n",
              "\n",
              "    .colab-df-convert:hover {\n",
              "      background-color: #E2EBFA;\n",
              "      box-shadow: 0px 1px 2px rgba(60, 64, 67, 0.3), 0px 1px 3px 1px rgba(60, 64, 67, 0.15);\n",
              "      fill: #174EA6;\n",
              "    }\n",
              "\n",
              "    [theme=dark] .colab-df-convert {\n",
              "      background-color: #3B4455;\n",
              "      fill: #D2E3FC;\n",
              "    }\n",
              "\n",
              "    [theme=dark] .colab-df-convert:hover {\n",
              "      background-color: #434B5C;\n",
              "      box-shadow: 0px 1px 3px 1px rgba(0, 0, 0, 0.15);\n",
              "      filter: drop-shadow(0px 1px 2px rgba(0, 0, 0, 0.3));\n",
              "      fill: #FFFFFF;\n",
              "    }\n",
              "  </style>\n",
              "\n",
              "      <script>\n",
              "        const buttonEl =\n",
              "          document.querySelector('#df-358400f2-32bd-4971-89c4-a2c8778ce3e0 button.colab-df-convert');\n",
              "        buttonEl.style.display =\n",
              "          google.colab.kernel.accessAllowed ? 'block' : 'none';\n",
              "\n",
              "        async function convertToInteractive(key) {\n",
              "          const element = document.querySelector('#df-358400f2-32bd-4971-89c4-a2c8778ce3e0');\n",
              "          const dataTable =\n",
              "            await google.colab.kernel.invokeFunction('convertToInteractive',\n",
              "                                                     [key], {});\n",
              "          if (!dataTable) return;\n",
              "\n",
              "          const docLinkHtml = 'Like what you see? Visit the ' +\n",
              "            '<a target=\"_blank\" href=https://colab.research.google.com/notebooks/data_table.ipynb>data table notebook</a>'\n",
              "            + ' to learn more about interactive tables.';\n",
              "          element.innerHTML = '';\n",
              "          dataTable['output_type'] = 'display_data';\n",
              "          await google.colab.output.renderOutput(dataTable, element);\n",
              "          const docLink = document.createElement('div');\n",
              "          docLink.innerHTML = docLinkHtml;\n",
              "          element.appendChild(docLink);\n",
              "        }\n",
              "      </script>\n",
              "    </div>\n",
              "  </div>\n",
              "  "
            ]
          },
          "metadata": {},
          "execution_count": 19
        }
      ]
    },
    {
      "cell_type": "code",
      "source": [
        "num_retweets = df.retweets.map(len)\n",
        "num_retweets.min(), num_retweets.mean(), num_retweets.max()"
      ],
      "metadata": {
        "colab": {
          "base_uri": "https://localhost:8080/"
        },
        "id": "VPcU5Q75BdrF",
        "outputId": "50c36662-c044-45d6-cd3c-9e3d6f7dbd22"
      },
      "execution_count": null,
      "outputs": [
        {
          "output_type": "execute_result",
          "data": {
            "text/plain": [
              "(0, 59.75473484848485, 21984)"
            ]
          },
          "metadata": {},
          "execution_count": 6
        }
      ]
    },
    {
      "cell_type": "code",
      "source": [
        "num_tweets = df.tweets.map(len)\n",
        "num_tweets.min(), num_tweets.mean(), num_tweets.max()"
      ],
      "metadata": {
        "colab": {
          "base_uri": "https://localhost:8080/"
        },
        "id": "mMpdXmeUFFKK",
        "outputId": "3cab20fd-a7ab-4ef7-a75a-66e366210fcc"
      },
      "execution_count": null,
      "outputs": [
        {
          "output_type": "execute_result",
          "data": {
            "text/plain": [
              "(0, 552.5719696969697, 29060)"
            ]
          },
          "metadata": {},
          "execution_count": 7
        }
      ]
    },
    {
      "cell_type": "markdown",
      "source": [
        "## Add data for entries missing `news_content`"
      ],
      "metadata": {
        "id": "4c3Bl5DNGa38"
      }
    },
    {
      "cell_type": "code",
      "source": [
        "list(base_dir.glob(\"*.csv\"))"
      ],
      "metadata": {
        "colab": {
          "base_uri": "https://localhost:8080/"
        },
        "id": "_nHw1nL7GmZ7",
        "outputId": "c9a07ed9-92d9-4b6e-da5f-4a12fe32f501"
      },
      "execution_count": null,
      "outputs": [
        {
          "output_type": "execute_result",
          "data": {
            "text/plain": [
              "[PosixPath('/content/drive/MyDrive/fakenews/Research FakeNews/politifact_fake.csv'),\n",
              " PosixPath('/content/drive/MyDrive/fakenews/Research FakeNews/churn_data.csv'),\n",
              " PosixPath('/content/drive/MyDrive/fakenews/Research FakeNews/gossipcop_real.csv'),\n",
              " PosixPath('/content/drive/MyDrive/fakenews/Research FakeNews/politifact_real.csv'),\n",
              " PosixPath('/content/drive/MyDrive/fakenews/Research FakeNews/gossipcop_fake.csv'),\n",
              " PosixPath('/content/drive/MyDrive/fakenews/Research FakeNews/politifact.csv')]"
            ]
          },
          "metadata": {},
          "execution_count": 8
        }
      ]
    },
    {
      "cell_type": "code",
      "source": [
        "df_fake = pd.read_csv(base_dir/'politifact_fake.csv')\n",
        "df_real = pd.read_csv(base_dir/'politifact_real.csv')\n",
        "df_fake['label']=0\n",
        "df_real['label']=1\n",
        "class_names = [\"Fake\", \"Real\"]\n",
        "\n",
        "df_old = df_fake.append(df_real)\n",
        "df_old.reset_index(drop=True, inplace=True)"
      ],
      "metadata": {
        "id": "F0xXhbafGvqJ"
      },
      "execution_count": null,
      "outputs": []
    },
    {
      "cell_type": "code",
      "source": [
        "len(df_old.id.unique()), len(df)"
      ],
      "metadata": {
        "colab": {
          "base_uri": "https://localhost:8080/"
        },
        "id": "ibJ6VKcvJbDw",
        "outputId": "955e795a-c12c-4152-9087-dea7efdd947e"
      },
      "execution_count": null,
      "outputs": [
        {
          "output_type": "execute_result",
          "data": {
            "text/plain": [
              "(1054, 1056)"
            ]
          },
          "metadata": {},
          "execution_count": 11
        }
      ]
    },
    {
      "cell_type": "markdown",
      "source": [
        "Two ids appear in both fake and real. Exclude?"
      ],
      "metadata": {
        "id": "DiDKh1mzKKmv"
      }
    },
    {
      "cell_type": "code",
      "source": [
        "dup_ids, dup_groups = [], []\n",
        "for n, g in df.groupby(\"id\"):\n",
        "    if len(g) > 1:\n",
        "        dup_ids.append(n)\n",
        "        dup_groups.append(g)\n",
        "print(len(dup_ids))"
      ],
      "metadata": {
        "colab": {
          "base_uri": "https://localhost:8080/"
        },
        "id": "BzfAwQuvJiia",
        "outputId": "64187f13-0c57-4c66-a78f-cc44b1ad3534"
      },
      "execution_count": null,
      "outputs": [
        {
          "output_type": "stream",
          "name": "stdout",
          "text": [
            "2\n"
          ]
        }
      ]
    },
    {
      "cell_type": "code",
      "source": [
        "dup_ids"
      ],
      "metadata": {
        "colab": {
          "base_uri": "https://localhost:8080/"
        },
        "id": "7LSVHuXjKeTm",
        "outputId": "c264fb26-031a-4224-e666-cdd425dad65f"
      },
      "execution_count": null,
      "outputs": [
        {
          "output_type": "execute_result",
          "data": {
            "text/plain": [
              "['politifact14920', 'politifact14940']"
            ]
          },
          "metadata": {},
          "execution_count": 26
        }
      ]
    },
    {
      "cell_type": "code",
      "source": [
        "dup_groups[0]"
      ],
      "metadata": {
        "colab": {
          "base_uri": "https://localhost:8080/",
          "height": 338
        },
        "id": "MvOxY_PwJ7c6",
        "outputId": "cd1a4aea-3fec-4a9d-a434-0e6869908603"
      },
      "execution_count": null,
      "outputs": [
        {
          "output_type": "execute_result",
          "data": {
            "text/plain": [
              "                  id label                                                url  \\\n",
              "213  politifact14920  fake  https://www.ecfr.gov/cgi-bin/text-idx?gp=&SID=...   \n",
              "741  politifact14920  real  https://www.ecfr.gov/cgi-bin/text-idx?gp=&SID=...   \n",
              "\n",
              "                                                  text top_img keywords  \\\n",
              "213  Home\\n\\ngpo.gov\\n\\ngovinfo.gov\\n\\ne-CFR Naviga...               []   \n",
              "741  Home\\n\\ngpo.gov\\n\\ngovinfo.gov\\n\\ne-CFR Naviga...               []   \n",
              "\n",
              "    authors         canonical_link  \\\n",
              "213      []  https://www.ecfr.gov/   \n",
              "741      []  https://www.ecfr.gov/   \n",
              "\n",
              "                                             title  \\\n",
              "213  Electronic Code of Federal Regulations (eCFR)   \n",
              "741  Electronic Code of Federal Regulations (eCFR)   \n",
              "\n",
              "                                             meta_data  publish_date  \\\n",
              "213  {'content-type': 'text/html; charset=utf-8', '...           NaN   \n",
              "741  {'content-type': 'text/html; charset=utf-8', '...           NaN   \n",
              "\n",
              "                   source summary  \\\n",
              "213  https://www.ecfr.gov           \n",
              "741  https://www.ecfr.gov           \n",
              "\n",
              "                                              retweets tweets  \n",
              "213  [759182777761890304, 942617526986559488, 73000...     []  \n",
              "741  [1053921270297841665, 1060573426438553600, 105...     []  "
            ],
            "text/html": [
              "\n",
              "  <div id=\"df-b2dbe9bf-3245-43ca-80fd-f1709ff8d0fb\">\n",
              "    <div class=\"colab-df-container\">\n",
              "      <div>\n",
              "<style scoped>\n",
              "    .dataframe tbody tr th:only-of-type {\n",
              "        vertical-align: middle;\n",
              "    }\n",
              "\n",
              "    .dataframe tbody tr th {\n",
              "        vertical-align: top;\n",
              "    }\n",
              "\n",
              "    .dataframe thead th {\n",
              "        text-align: right;\n",
              "    }\n",
              "</style>\n",
              "<table border=\"1\" class=\"dataframe\">\n",
              "  <thead>\n",
              "    <tr style=\"text-align: right;\">\n",
              "      <th></th>\n",
              "      <th>id</th>\n",
              "      <th>label</th>\n",
              "      <th>url</th>\n",
              "      <th>text</th>\n",
              "      <th>top_img</th>\n",
              "      <th>keywords</th>\n",
              "      <th>authors</th>\n",
              "      <th>canonical_link</th>\n",
              "      <th>title</th>\n",
              "      <th>meta_data</th>\n",
              "      <th>publish_date</th>\n",
              "      <th>source</th>\n",
              "      <th>summary</th>\n",
              "      <th>retweets</th>\n",
              "      <th>tweets</th>\n",
              "    </tr>\n",
              "  </thead>\n",
              "  <tbody>\n",
              "    <tr>\n",
              "      <th>213</th>\n",
              "      <td>politifact14920</td>\n",
              "      <td>fake</td>\n",
              "      <td>https://www.ecfr.gov/cgi-bin/text-idx?gp=&amp;SID=...</td>\n",
              "      <td>Home\\n\\ngpo.gov\\n\\ngovinfo.gov\\n\\ne-CFR Naviga...</td>\n",
              "      <td></td>\n",
              "      <td>[]</td>\n",
              "      <td>[]</td>\n",
              "      <td>https://www.ecfr.gov/</td>\n",
              "      <td>Electronic Code of Federal Regulations (eCFR)</td>\n",
              "      <td>{'content-type': 'text/html; charset=utf-8', '...</td>\n",
              "      <td>NaN</td>\n",
              "      <td>https://www.ecfr.gov</td>\n",
              "      <td></td>\n",
              "      <td>[759182777761890304, 942617526986559488, 73000...</td>\n",
              "      <td>[]</td>\n",
              "    </tr>\n",
              "    <tr>\n",
              "      <th>741</th>\n",
              "      <td>politifact14920</td>\n",
              "      <td>real</td>\n",
              "      <td>https://www.ecfr.gov/cgi-bin/text-idx?gp=&amp;SID=...</td>\n",
              "      <td>Home\\n\\ngpo.gov\\n\\ngovinfo.gov\\n\\ne-CFR Naviga...</td>\n",
              "      <td></td>\n",
              "      <td>[]</td>\n",
              "      <td>[]</td>\n",
              "      <td>https://www.ecfr.gov/</td>\n",
              "      <td>Electronic Code of Federal Regulations (eCFR)</td>\n",
              "      <td>{'content-type': 'text/html; charset=utf-8', '...</td>\n",
              "      <td>NaN</td>\n",
              "      <td>https://www.ecfr.gov</td>\n",
              "      <td></td>\n",
              "      <td>[1053921270297841665, 1060573426438553600, 105...</td>\n",
              "      <td>[]</td>\n",
              "    </tr>\n",
              "  </tbody>\n",
              "</table>\n",
              "</div>\n",
              "      <button class=\"colab-df-convert\" onclick=\"convertToInteractive('df-b2dbe9bf-3245-43ca-80fd-f1709ff8d0fb')\"\n",
              "              title=\"Convert this dataframe to an interactive table.\"\n",
              "              style=\"display:none;\">\n",
              "        \n",
              "  <svg xmlns=\"http://www.w3.org/2000/svg\" height=\"24px\"viewBox=\"0 0 24 24\"\n",
              "       width=\"24px\">\n",
              "    <path d=\"M0 0h24v24H0V0z\" fill=\"none\"/>\n",
              "    <path d=\"M18.56 5.44l.94 2.06.94-2.06 2.06-.94-2.06-.94-.94-2.06-.94 2.06-2.06.94zm-11 1L8.5 8.5l.94-2.06 2.06-.94-2.06-.94L8.5 2.5l-.94 2.06-2.06.94zm10 10l.94 2.06.94-2.06 2.06-.94-2.06-.94-.94-2.06-.94 2.06-2.06.94z\"/><path d=\"M17.41 7.96l-1.37-1.37c-.4-.4-.92-.59-1.43-.59-.52 0-1.04.2-1.43.59L10.3 9.45l-7.72 7.72c-.78.78-.78 2.05 0 2.83L4 21.41c.39.39.9.59 1.41.59.51 0 1.02-.2 1.41-.59l7.78-7.78 2.81-2.81c.8-.78.8-2.07 0-2.86zM5.41 20L4 18.59l7.72-7.72 1.47 1.35L5.41 20z\"/>\n",
              "  </svg>\n",
              "      </button>\n",
              "      \n",
              "  <style>\n",
              "    .colab-df-container {\n",
              "      display:flex;\n",
              "      flex-wrap:wrap;\n",
              "      gap: 12px;\n",
              "    }\n",
              "\n",
              "    .colab-df-convert {\n",
              "      background-color: #E8F0FE;\n",
              "      border: none;\n",
              "      border-radius: 50%;\n",
              "      cursor: pointer;\n",
              "      display: none;\n",
              "      fill: #1967D2;\n",
              "      height: 32px;\n",
              "      padding: 0 0 0 0;\n",
              "      width: 32px;\n",
              "    }\n",
              "\n",
              "    .colab-df-convert:hover {\n",
              "      background-color: #E2EBFA;\n",
              "      box-shadow: 0px 1px 2px rgba(60, 64, 67, 0.3), 0px 1px 3px 1px rgba(60, 64, 67, 0.15);\n",
              "      fill: #174EA6;\n",
              "    }\n",
              "\n",
              "    [theme=dark] .colab-df-convert {\n",
              "      background-color: #3B4455;\n",
              "      fill: #D2E3FC;\n",
              "    }\n",
              "\n",
              "    [theme=dark] .colab-df-convert:hover {\n",
              "      background-color: #434B5C;\n",
              "      box-shadow: 0px 1px 3px 1px rgba(0, 0, 0, 0.15);\n",
              "      filter: drop-shadow(0px 1px 2px rgba(0, 0, 0, 0.3));\n",
              "      fill: #FFFFFF;\n",
              "    }\n",
              "  </style>\n",
              "\n",
              "      <script>\n",
              "        const buttonEl =\n",
              "          document.querySelector('#df-b2dbe9bf-3245-43ca-80fd-f1709ff8d0fb button.colab-df-convert');\n",
              "        buttonEl.style.display =\n",
              "          google.colab.kernel.accessAllowed ? 'block' : 'none';\n",
              "\n",
              "        async function convertToInteractive(key) {\n",
              "          const element = document.querySelector('#df-b2dbe9bf-3245-43ca-80fd-f1709ff8d0fb');\n",
              "          const dataTable =\n",
              "            await google.colab.kernel.invokeFunction('convertToInteractive',\n",
              "                                                     [key], {});\n",
              "          if (!dataTable) return;\n",
              "\n",
              "          const docLinkHtml = 'Like what you see? Visit the ' +\n",
              "            '<a target=\"_blank\" href=https://colab.research.google.com/notebooks/data_table.ipynb>data table notebook</a>'\n",
              "            + ' to learn more about interactive tables.';\n",
              "          element.innerHTML = '';\n",
              "          dataTable['output_type'] = 'display_data';\n",
              "          await google.colab.output.renderOutput(dataTable, element);\n",
              "          const docLink = document.createElement('div');\n",
              "          docLink.innerHTML = docLinkHtml;\n",
              "          element.appendChild(docLink);\n",
              "        }\n",
              "      </script>\n",
              "    </div>\n",
              "  </div>\n",
              "  "
            ]
          },
          "metadata": {},
          "execution_count": 27
        }
      ]
    },
    {
      "cell_type": "code",
      "source": [
        "dup_groups[1]"
      ],
      "metadata": {
        "colab": {
          "base_uri": "https://localhost:8080/",
          "height": 377
        },
        "id": "mmiTel9vJ_GI",
        "outputId": "0ed9661c-65ee-4329-bc47-2f86fec1f08c"
      },
      "execution_count": null,
      "outputs": [
        {
          "output_type": "execute_result",
          "data": {
            "text/plain": [
              "                  id label                                                url  \\\n",
              "35   politifact14940  fake  https://www.politico.com/story/2018/01/17/full...   \n",
              "478  politifact14940  real  https://www.politico.com/story/2018/01/17/full...   \n",
              "\n",
              "                                                  text  \\\n",
              "35   Full text: Jeff Flake on Trump speech transcri...   \n",
              "478  Full text: Jeff Flake on Trump speech transcri...   \n",
              "\n",
              "                                               top_img keywords  \\\n",
              "35   https://cf-images.us-east-1.prod.boltdns.net/v...       []   \n",
              "478  https://cf-images.us-east-1.prod.boltdns.net/v...       []   \n",
              "\n",
              "                                               authors  \\\n",
              "35   [Louis Nelson, Darren Samuelsohn, Politico Staff]   \n",
              "478  [Louis Nelson, Darren Samuelsohn, Politico Staff]   \n",
              "\n",
              "                                        canonical_link  \\\n",
              "35   https://www.politico.com/story/2018/01/17/full...   \n",
              "478  https://www.politico.com/story/2018/01/17/full...   \n",
              "\n",
              "                                                title  \\\n",
              "35   Full text: Jeff Flake on Trump speech transcript   \n",
              "478  Full text: Jeff Flake on Trump speech transcript   \n",
              "\n",
              "                                             meta_data  publish_date  \\\n",
              "35   {'article': {'opinion': 'false'}, 'og': {'titl...  1.516144e+09   \n",
              "478  {'article': {'opinion': 'false'}, 'og': {'titl...  1.516144e+09   \n",
              "\n",
              "                       source summary  \\\n",
              "35   https://www.politico.com           \n",
              "478  https://www.politico.com           \n",
              "\n",
              "                                              retweets  \\\n",
              "35   [922998131758739457, 923200199539019776, 92294...   \n",
              "478  [922998131758739457, 923200199539019776, 92294...   \n",
              "\n",
              "                                                tweets  \n",
              "35   [{'id': 922998131758739457, 'text': 'Transcrip...  \n",
              "478                                                 []  "
            ],
            "text/html": [
              "\n",
              "  <div id=\"df-083921ab-51f4-4ffa-9393-0eb399bb0c13\">\n",
              "    <div class=\"colab-df-container\">\n",
              "      <div>\n",
              "<style scoped>\n",
              "    .dataframe tbody tr th:only-of-type {\n",
              "        vertical-align: middle;\n",
              "    }\n",
              "\n",
              "    .dataframe tbody tr th {\n",
              "        vertical-align: top;\n",
              "    }\n",
              "\n",
              "    .dataframe thead th {\n",
              "        text-align: right;\n",
              "    }\n",
              "</style>\n",
              "<table border=\"1\" class=\"dataframe\">\n",
              "  <thead>\n",
              "    <tr style=\"text-align: right;\">\n",
              "      <th></th>\n",
              "      <th>id</th>\n",
              "      <th>label</th>\n",
              "      <th>url</th>\n",
              "      <th>text</th>\n",
              "      <th>top_img</th>\n",
              "      <th>keywords</th>\n",
              "      <th>authors</th>\n",
              "      <th>canonical_link</th>\n",
              "      <th>title</th>\n",
              "      <th>meta_data</th>\n",
              "      <th>publish_date</th>\n",
              "      <th>source</th>\n",
              "      <th>summary</th>\n",
              "      <th>retweets</th>\n",
              "      <th>tweets</th>\n",
              "    </tr>\n",
              "  </thead>\n",
              "  <tbody>\n",
              "    <tr>\n",
              "      <th>35</th>\n",
              "      <td>politifact14940</td>\n",
              "      <td>fake</td>\n",
              "      <td>https://www.politico.com/story/2018/01/17/full...</td>\n",
              "      <td>Full text: Jeff Flake on Trump speech transcri...</td>\n",
              "      <td>https://cf-images.us-east-1.prod.boltdns.net/v...</td>\n",
              "      <td>[]</td>\n",
              "      <td>[Louis Nelson, Darren Samuelsohn, Politico Staff]</td>\n",
              "      <td>https://www.politico.com/story/2018/01/17/full...</td>\n",
              "      <td>Full text: Jeff Flake on Trump speech transcript</td>\n",
              "      <td>{'article': {'opinion': 'false'}, 'og': {'titl...</td>\n",
              "      <td>1.516144e+09</td>\n",
              "      <td>https://www.politico.com</td>\n",
              "      <td></td>\n",
              "      <td>[922998131758739457, 923200199539019776, 92294...</td>\n",
              "      <td>[{'id': 922998131758739457, 'text': 'Transcrip...</td>\n",
              "    </tr>\n",
              "    <tr>\n",
              "      <th>478</th>\n",
              "      <td>politifact14940</td>\n",
              "      <td>real</td>\n",
              "      <td>https://www.politico.com/story/2018/01/17/full...</td>\n",
              "      <td>Full text: Jeff Flake on Trump speech transcri...</td>\n",
              "      <td>https://cf-images.us-east-1.prod.boltdns.net/v...</td>\n",
              "      <td>[]</td>\n",
              "      <td>[Louis Nelson, Darren Samuelsohn, Politico Staff]</td>\n",
              "      <td>https://www.politico.com/story/2018/01/17/full...</td>\n",
              "      <td>Full text: Jeff Flake on Trump speech transcript</td>\n",
              "      <td>{'article': {'opinion': 'false'}, 'og': {'titl...</td>\n",
              "      <td>1.516144e+09</td>\n",
              "      <td>https://www.politico.com</td>\n",
              "      <td></td>\n",
              "      <td>[922998131758739457, 923200199539019776, 92294...</td>\n",
              "      <td>[]</td>\n",
              "    </tr>\n",
              "  </tbody>\n",
              "</table>\n",
              "</div>\n",
              "      <button class=\"colab-df-convert\" onclick=\"convertToInteractive('df-083921ab-51f4-4ffa-9393-0eb399bb0c13')\"\n",
              "              title=\"Convert this dataframe to an interactive table.\"\n",
              "              style=\"display:none;\">\n",
              "        \n",
              "  <svg xmlns=\"http://www.w3.org/2000/svg\" height=\"24px\"viewBox=\"0 0 24 24\"\n",
              "       width=\"24px\">\n",
              "    <path d=\"M0 0h24v24H0V0z\" fill=\"none\"/>\n",
              "    <path d=\"M18.56 5.44l.94 2.06.94-2.06 2.06-.94-2.06-.94-.94-2.06-.94 2.06-2.06.94zm-11 1L8.5 8.5l.94-2.06 2.06-.94-2.06-.94L8.5 2.5l-.94 2.06-2.06.94zm10 10l.94 2.06.94-2.06 2.06-.94-2.06-.94-.94-2.06-.94 2.06-2.06.94z\"/><path d=\"M17.41 7.96l-1.37-1.37c-.4-.4-.92-.59-1.43-.59-.52 0-1.04.2-1.43.59L10.3 9.45l-7.72 7.72c-.78.78-.78 2.05 0 2.83L4 21.41c.39.39.9.59 1.41.59.51 0 1.02-.2 1.41-.59l7.78-7.78 2.81-2.81c.8-.78.8-2.07 0-2.86zM5.41 20L4 18.59l7.72-7.72 1.47 1.35L5.41 20z\"/>\n",
              "  </svg>\n",
              "      </button>\n",
              "      \n",
              "  <style>\n",
              "    .colab-df-container {\n",
              "      display:flex;\n",
              "      flex-wrap:wrap;\n",
              "      gap: 12px;\n",
              "    }\n",
              "\n",
              "    .colab-df-convert {\n",
              "      background-color: #E8F0FE;\n",
              "      border: none;\n",
              "      border-radius: 50%;\n",
              "      cursor: pointer;\n",
              "      display: none;\n",
              "      fill: #1967D2;\n",
              "      height: 32px;\n",
              "      padding: 0 0 0 0;\n",
              "      width: 32px;\n",
              "    }\n",
              "\n",
              "    .colab-df-convert:hover {\n",
              "      background-color: #E2EBFA;\n",
              "      box-shadow: 0px 1px 2px rgba(60, 64, 67, 0.3), 0px 1px 3px 1px rgba(60, 64, 67, 0.15);\n",
              "      fill: #174EA6;\n",
              "    }\n",
              "\n",
              "    [theme=dark] .colab-df-convert {\n",
              "      background-color: #3B4455;\n",
              "      fill: #D2E3FC;\n",
              "    }\n",
              "\n",
              "    [theme=dark] .colab-df-convert:hover {\n",
              "      background-color: #434B5C;\n",
              "      box-shadow: 0px 1px 3px 1px rgba(0, 0, 0, 0.15);\n",
              "      filter: drop-shadow(0px 1px 2px rgba(0, 0, 0, 0.3));\n",
              "      fill: #FFFFFF;\n",
              "    }\n",
              "  </style>\n",
              "\n",
              "      <script>\n",
              "        const buttonEl =\n",
              "          document.querySelector('#df-083921ab-51f4-4ffa-9393-0eb399bb0c13 button.colab-df-convert');\n",
              "        buttonEl.style.display =\n",
              "          google.colab.kernel.accessAllowed ? 'block' : 'none';\n",
              "\n",
              "        async function convertToInteractive(key) {\n",
              "          const element = document.querySelector('#df-083921ab-51f4-4ffa-9393-0eb399bb0c13');\n",
              "          const dataTable =\n",
              "            await google.colab.kernel.invokeFunction('convertToInteractive',\n",
              "                                                     [key], {});\n",
              "          if (!dataTable) return;\n",
              "\n",
              "          const docLinkHtml = 'Like what you see? Visit the ' +\n",
              "            '<a target=\"_blank\" href=https://colab.research.google.com/notebooks/data_table.ipynb>data table notebook</a>'\n",
              "            + ' to learn more about interactive tables.';\n",
              "          element.innerHTML = '';\n",
              "          dataTable['output_type'] = 'display_data';\n",
              "          await google.colab.output.renderOutput(dataTable, element);\n",
              "          const docLink = document.createElement('div');\n",
              "          docLink.innerHTML = docLinkHtml;\n",
              "          element.appendChild(docLink);\n",
              "        }\n",
              "      </script>\n",
              "    </div>\n",
              "  </div>\n",
              "  "
            ]
          },
          "metadata": {},
          "execution_count": 28
        }
      ]
    },
    {
      "cell_type": "code",
      "source": [
        "df = df[df.id.map(lambda x: x not in dup_ids)]\n",
        "df.reset_index(inplace=True)\n",
        "df.shape"
      ],
      "metadata": {
        "colab": {
          "base_uri": "https://localhost:8080/"
        },
        "id": "luDVDGoL0ZTD",
        "outputId": "28263b27-67cf-4f2c-ef78-21cca264e3d7"
      },
      "execution_count": null,
      "outputs": [
        {
          "output_type": "execute_result",
          "data": {
            "text/plain": [
              "(1052, 15)"
            ]
          },
          "metadata": {},
          "execution_count": 29
        }
      ]
    },
    {
      "cell_type": "code",
      "source": [
        "id2title = df_old[[\"id\", \"title\"]].groupby(\"id\").first().to_dict()[\"title\"]"
      ],
      "metadata": {
        "id": "0662Kr58Kyow"
      },
      "execution_count": null,
      "outputs": []
    },
    {
      "cell_type": "code",
      "source": [
        "df.title.fillna(\"\", inplace=True)\n",
        "(df.title==\"\").sum()"
      ],
      "metadata": {
        "colab": {
          "base_uri": "https://localhost:8080/"
        },
        "id": "Z2-N0o1NMor-",
        "outputId": "8b3dd363-961f-4b8e-9235-ddc5421f2bc9"
      },
      "execution_count": null,
      "outputs": [
        {
          "output_type": "execute_result",
          "data": {
            "text/plain": [
              "161"
            ]
          },
          "metadata": {},
          "execution_count": 21
        }
      ]
    },
    {
      "cell_type": "code",
      "source": [
        "for i, row in df.iterrows():\n",
        "    if row.title == \"\":\n",
        "        df.loc[i, \"title\"] = id2title.get(row.id, \"\")"
      ],
      "metadata": {
        "id": "Qy6qbf-3LKLj"
      },
      "execution_count": null,
      "outputs": []
    },
    {
      "cell_type": "code",
      "source": [
        "(df.title==\"\").sum()"
      ],
      "metadata": {
        "colab": {
          "base_uri": "https://localhost:8080/"
        },
        "id": "fihihtjdMvfh",
        "outputId": "7cf429ff-7a7f-4b73-f749-63ce7e9434c1"
      },
      "execution_count": null,
      "outputs": [
        {
          "output_type": "execute_result",
          "data": {
            "text/plain": [
              "0"
            ]
          },
          "metadata": {},
          "execution_count": 25
        }
      ]
    },
    {
      "cell_type": "markdown",
      "source": [
        "Is there a way to get content for those ids?"
      ],
      "metadata": {
        "id": "SYJFXj4wM0MB"
      }
    },
    {
      "cell_type": "markdown",
      "source": [
        "### Get texts"
      ],
      "metadata": {
        "id": "aFYLRKKa1Sk2"
      }
    },
    {
      "cell_type": "code",
      "source": [
        "%%capture\n",
        "!pip install -U selenium\n",
        "!apt-get update && apt install chromium-chromedriver\n",
        "!cp /usr/lib/chromium-browser/chromedriver /usr/bin\n",
        "import sys\n",
        "sys.path.insert(0,'/usr/lib/chromium-browser/chromedriver')"
      ],
      "metadata": {
        "id": "1kFLS5I70WI0"
      },
      "execution_count": null,
      "outputs": []
    },
    {
      "cell_type": "code",
      "execution_count": null,
      "metadata": {
        "id": "YT0AGpM7QdZv"
      },
      "outputs": [],
      "source": [
        "from bs4 import BeautifulSoup\n",
        "from selenium import webdriver\n",
        "import pandas as pd"
      ]
    },
    {
      "cell_type": "code",
      "source": [
        "chrome_options = webdriver.ChromeOptions()\n",
        "chrome_options.add_argument('--headless')\n",
        "chrome_options.add_argument('--no-sandbox')\n",
        "chrome_options.add_argument('--disable-dev-shm-usage')\n",
        "driver = webdriver.Chrome('chromedriver', options=chrome_options)"
      ],
      "metadata": {
        "id": "nVYDFwd01nGs"
      },
      "execution_count": null,
      "outputs": []
    },
    {
      "cell_type": "code",
      "source": [
        "df_old.head()"
      ],
      "metadata": {
        "colab": {
          "base_uri": "https://localhost:8080/",
          "height": 365
        },
        "id": "dFccElcV2mlU",
        "outputId": "7b0d5032-e7bf-4aab-ce28-9060d95c7a6f"
      },
      "execution_count": null,
      "outputs": [
        {
          "output_type": "execute_result",
          "data": {
            "text/plain": [
              "                id                                           news_url  \\\n",
              "0  politifact15014          speedtalk.com/forum/viewtopic.php?t=51650   \n",
              "1  politifact15156  politics2020.info/index.php/2018/03/13/court-o...   \n",
              "2  politifact14745  www.nscdscamps.org/blog/category/parenting/467...   \n",
              "3  politifact14355  https://howafrica.com/oscar-pistorius-attempts...   \n",
              "4  politifact15371  http://washingtonsources.org/trump-votes-for-d...   \n",
              "\n",
              "                                               title  \\\n",
              "0  BREAKING: First NFL Team Declares Bankruptcy O...   \n",
              "1  Court Orders Obama To Pay $400 Million In Rest...   \n",
              "2  UPDATE: Second Roy Moore Accuser Works For Mic...   \n",
              "3         Oscar Pistorius Attempts To Commit Suicide   \n",
              "4        Trump Votes For Death Penalty For Being Gay   \n",
              "\n",
              "                                           tweet_ids  label  \n",
              "0  937349434668498944\\t937379378006282240\\t937380...      0  \n",
              "1  972666281441878016\\t972678396575559680\\t972827...      0  \n",
              "2  929405740732870656\\t929439450400264192\\t929439...      0  \n",
              "3  886941526458347521\\t887011300278194176\\t887023...      0  \n",
              "4  915205698212040704\\t915242076681506816\\t915249...      0  "
            ],
            "text/html": [
              "\n",
              "  <div id=\"df-865dedac-c67a-4fe6-9529-a975c10d69ad\">\n",
              "    <div class=\"colab-df-container\">\n",
              "      <div>\n",
              "<style scoped>\n",
              "    .dataframe tbody tr th:only-of-type {\n",
              "        vertical-align: middle;\n",
              "    }\n",
              "\n",
              "    .dataframe tbody tr th {\n",
              "        vertical-align: top;\n",
              "    }\n",
              "\n",
              "    .dataframe thead th {\n",
              "        text-align: right;\n",
              "    }\n",
              "</style>\n",
              "<table border=\"1\" class=\"dataframe\">\n",
              "  <thead>\n",
              "    <tr style=\"text-align: right;\">\n",
              "      <th></th>\n",
              "      <th>id</th>\n",
              "      <th>news_url</th>\n",
              "      <th>title</th>\n",
              "      <th>tweet_ids</th>\n",
              "      <th>label</th>\n",
              "    </tr>\n",
              "  </thead>\n",
              "  <tbody>\n",
              "    <tr>\n",
              "      <th>0</th>\n",
              "      <td>politifact15014</td>\n",
              "      <td>speedtalk.com/forum/viewtopic.php?t=51650</td>\n",
              "      <td>BREAKING: First NFL Team Declares Bankruptcy O...</td>\n",
              "      <td>937349434668498944\\t937379378006282240\\t937380...</td>\n",
              "      <td>0</td>\n",
              "    </tr>\n",
              "    <tr>\n",
              "      <th>1</th>\n",
              "      <td>politifact15156</td>\n",
              "      <td>politics2020.info/index.php/2018/03/13/court-o...</td>\n",
              "      <td>Court Orders Obama To Pay $400 Million In Rest...</td>\n",
              "      <td>972666281441878016\\t972678396575559680\\t972827...</td>\n",
              "      <td>0</td>\n",
              "    </tr>\n",
              "    <tr>\n",
              "      <th>2</th>\n",
              "      <td>politifact14745</td>\n",
              "      <td>www.nscdscamps.org/blog/category/parenting/467...</td>\n",
              "      <td>UPDATE: Second Roy Moore Accuser Works For Mic...</td>\n",
              "      <td>929405740732870656\\t929439450400264192\\t929439...</td>\n",
              "      <td>0</td>\n",
              "    </tr>\n",
              "    <tr>\n",
              "      <th>3</th>\n",
              "      <td>politifact14355</td>\n",
              "      <td>https://howafrica.com/oscar-pistorius-attempts...</td>\n",
              "      <td>Oscar Pistorius Attempts To Commit Suicide</td>\n",
              "      <td>886941526458347521\\t887011300278194176\\t887023...</td>\n",
              "      <td>0</td>\n",
              "    </tr>\n",
              "    <tr>\n",
              "      <th>4</th>\n",
              "      <td>politifact15371</td>\n",
              "      <td>http://washingtonsources.org/trump-votes-for-d...</td>\n",
              "      <td>Trump Votes For Death Penalty For Being Gay</td>\n",
              "      <td>915205698212040704\\t915242076681506816\\t915249...</td>\n",
              "      <td>0</td>\n",
              "    </tr>\n",
              "  </tbody>\n",
              "</table>\n",
              "</div>\n",
              "      <button class=\"colab-df-convert\" onclick=\"convertToInteractive('df-865dedac-c67a-4fe6-9529-a975c10d69ad')\"\n",
              "              title=\"Convert this dataframe to an interactive table.\"\n",
              "              style=\"display:none;\">\n",
              "        \n",
              "  <svg xmlns=\"http://www.w3.org/2000/svg\" height=\"24px\"viewBox=\"0 0 24 24\"\n",
              "       width=\"24px\">\n",
              "    <path d=\"M0 0h24v24H0V0z\" fill=\"none\"/>\n",
              "    <path d=\"M18.56 5.44l.94 2.06.94-2.06 2.06-.94-2.06-.94-.94-2.06-.94 2.06-2.06.94zm-11 1L8.5 8.5l.94-2.06 2.06-.94-2.06-.94L8.5 2.5l-.94 2.06-2.06.94zm10 10l.94 2.06.94-2.06 2.06-.94-2.06-.94-.94-2.06-.94 2.06-2.06.94z\"/><path d=\"M17.41 7.96l-1.37-1.37c-.4-.4-.92-.59-1.43-.59-.52 0-1.04.2-1.43.59L10.3 9.45l-7.72 7.72c-.78.78-.78 2.05 0 2.83L4 21.41c.39.39.9.59 1.41.59.51 0 1.02-.2 1.41-.59l7.78-7.78 2.81-2.81c.8-.78.8-2.07 0-2.86zM5.41 20L4 18.59l7.72-7.72 1.47 1.35L5.41 20z\"/>\n",
              "  </svg>\n",
              "      </button>\n",
              "      \n",
              "  <style>\n",
              "    .colab-df-container {\n",
              "      display:flex;\n",
              "      flex-wrap:wrap;\n",
              "      gap: 12px;\n",
              "    }\n",
              "\n",
              "    .colab-df-convert {\n",
              "      background-color: #E8F0FE;\n",
              "      border: none;\n",
              "      border-radius: 50%;\n",
              "      cursor: pointer;\n",
              "      display: none;\n",
              "      fill: #1967D2;\n",
              "      height: 32px;\n",
              "      padding: 0 0 0 0;\n",
              "      width: 32px;\n",
              "    }\n",
              "\n",
              "    .colab-df-convert:hover {\n",
              "      background-color: #E2EBFA;\n",
              "      box-shadow: 0px 1px 2px rgba(60, 64, 67, 0.3), 0px 1px 3px 1px rgba(60, 64, 67, 0.15);\n",
              "      fill: #174EA6;\n",
              "    }\n",
              "\n",
              "    [theme=dark] .colab-df-convert {\n",
              "      background-color: #3B4455;\n",
              "      fill: #D2E3FC;\n",
              "    }\n",
              "\n",
              "    [theme=dark] .colab-df-convert:hover {\n",
              "      background-color: #434B5C;\n",
              "      box-shadow: 0px 1px 3px 1px rgba(0, 0, 0, 0.15);\n",
              "      filter: drop-shadow(0px 1px 2px rgba(0, 0, 0, 0.3));\n",
              "      fill: #FFFFFF;\n",
              "    }\n",
              "  </style>\n",
              "\n",
              "      <script>\n",
              "        const buttonEl =\n",
              "          document.querySelector('#df-865dedac-c67a-4fe6-9529-a975c10d69ad button.colab-df-convert');\n",
              "        buttonEl.style.display =\n",
              "          google.colab.kernel.accessAllowed ? 'block' : 'none';\n",
              "\n",
              "        async function convertToInteractive(key) {\n",
              "          const element = document.querySelector('#df-865dedac-c67a-4fe6-9529-a975c10d69ad');\n",
              "          const dataTable =\n",
              "            await google.colab.kernel.invokeFunction('convertToInteractive',\n",
              "                                                     [key], {});\n",
              "          if (!dataTable) return;\n",
              "\n",
              "          const docLinkHtml = 'Like what you see? Visit the ' +\n",
              "            '<a target=\"_blank\" href=https://colab.research.google.com/notebooks/data_table.ipynb>data table notebook</a>'\n",
              "            + ' to learn more about interactive tables.';\n",
              "          element.innerHTML = '';\n",
              "          dataTable['output_type'] = 'display_data';\n",
              "          await google.colab.output.renderOutput(dataTable, element);\n",
              "          const docLink = document.createElement('div');\n",
              "          docLink.innerHTML = docLinkHtml;\n",
              "          element.appendChild(docLink);\n",
              "        }\n",
              "      </script>\n",
              "    </div>\n",
              "  </div>\n",
              "  "
            ]
          },
          "metadata": {},
          "execution_count": 33
        }
      ]
    },
    {
      "cell_type": "code",
      "source": [
        "id2url = df_old[[\"id\", \"news_url\"]].groupby(\"id\").first().to_dict()[\"news_url\"]"
      ],
      "metadata": {
        "id": "CHkHhiRh2Yc6"
      },
      "execution_count": null,
      "outputs": []
    },
    {
      "cell_type": "code",
      "source": [
        "for i, row in df[df.url.isna()].iterrows():\n",
        "    df.loc[i, \"url\"] = id2url.get(row.id, \"\")"
      ],
      "metadata": {
        "id": "_ChDw1C32Mr8"
      },
      "execution_count": null,
      "outputs": []
    },
    {
      "cell_type": "code",
      "source": [
        "df_old.news_url.isna().sum()"
      ],
      "metadata": {
        "colab": {
          "base_uri": "https://localhost:8080/"
        },
        "id": "1m04GdN132dy",
        "outputId": "abc24b5e-267d-4c56-8cab-45eaae6abb9f"
      },
      "execution_count": null,
      "outputs": [
        {
          "output_type": "execute_result",
          "data": {
            "text/plain": [
              "61"
            ]
          },
          "metadata": {},
          "execution_count": 46
        }
      ]
    },
    {
      "cell_type": "code",
      "source": [
        "(df.url.isna()).sum()"
      ],
      "metadata": {
        "colab": {
          "base_uri": "https://localhost:8080/"
        },
        "id": "_IGkwONr3NHk",
        "outputId": "b137e465-8c86-4440-97d3-d0fe8061f439"
      },
      "execution_count": null,
      "outputs": [
        {
          "output_type": "execute_result",
          "data": {
            "text/plain": [
              "61"
            ]
          },
          "metadata": {},
          "execution_count": 43
        }
      ]
    },
    {
      "cell_type": "code",
      "source": [
        "urls = df[df.text.isna()].url.tolist()"
      ],
      "metadata": {
        "id": "WEGsHZNx1t_t"
      },
      "execution_count": null,
      "outputs": []
    },
    {
      "cell_type": "code",
      "source": [
        "new_texts = dict()\n",
        "for i, row in df[df.text.isna()].iterrows():\n",
        "    url = row.url\n",
        "    if (url is not None) and (\"archive.org\" in url) and (not url.endswith(\".pdf\")):\n",
        "        print(url)\n",
        "        driver.get(url)\n",
        "        html = driver.page_source\n",
        "        soup = BeautifulSoup(html, \"html.parser\")\n",
        "        _a = soup.find_all(\"div\", {\"id\":\"articleWrap\"})\n",
        "        text = None\n",
        "        if len(_a):\n",
        "            article = _a[0]\n",
        "            paragraphs = article.find_all(\"p\")\n",
        "            text = \"\\n\".join(p.text for p in paragraphs if len(p.text.strip()))\n",
        "            text = \" \".join(text.split())\n",
        "        elif len(soup.find_all(\"meta\", {\"name\":\"DESCRIPTION\"})):\n",
        "            meta = soup.find_all(\"meta\", {\"name\":\"DESCRIPTION\"})[0]\n",
        "            text = meta.get(\"content\", None)\n",
        "            \n",
        "        if text:\n",
        "            new_texts[i] = text"
      ],
      "metadata": {
        "colab": {
          "base_uri": "https://localhost:8080/"
        },
        "id": "5BXdBogyCzFQ",
        "outputId": "a2f657ec-a113-4f1d-cb8e-d30d6203452a"
      },
      "execution_count": null,
      "outputs": [
        {
          "output_type": "stream",
          "name": "stdout",
          "text": [
            "https://web.archive.org/web/20070518064337/http://www.time.com:80/time/magazine/article/0,9171,810925,00.html\n",
            "https://web.archive.org/web/20070212105712/http://www.bea.gov:80/national/xls/gdpchg.xls\n",
            "https://web.archive.org/web/20051124053404/http://www.time.com:80/time/magazine/article/0,9171,1129494,00.html\n",
            "https://web.archive.org/web/20100202204116/http://alexander.senate.gov/public/index.cfm?p=NewsArticles\n"
          ]
        }
      ]
    },
    {
      "cell_type": "code",
      "source": [
        "len(new_texts)"
      ],
      "metadata": {
        "colab": {
          "base_uri": "https://localhost:8080/"
        },
        "id": "crD94YzCHMDf",
        "outputId": "4d0a5e03-9a06-457f-d0d4-25931675f6a8"
      },
      "execution_count": null,
      "outputs": [
        {
          "output_type": "execute_result",
          "data": {
            "text/plain": [
              "2"
            ]
          },
          "metadata": {},
          "execution_count": 91
        }
      ]
    },
    {
      "cell_type": "code",
      "source": [
        "for t in new_texts.values():\n",
        "    print(t[:100])"
      ],
      "metadata": {
        "colab": {
          "base_uri": "https://localhost:8080/"
        },
        "id": "U0vkx09DIGyV",
        "outputId": "f008d8c8-e489-4bcc-83b6-5d04f44f0cc1"
      },
      "execution_count": null,
      "outputs": [
        {
          "output_type": "stream",
          "name": "stdout",
          "text": [
            "(See Cover) George Wilcken Romney, at 51, is a broad-shouldered, Bible-quoting broth of a man who bu\n",
            "When it comes to raw political\n",
            "talent, there's not a Bill Clinton in this group. But these are the\n",
            "r\n"
          ]
        }
      ]
    },
    {
      "cell_type": "code",
      "source": [
        "for i, t in new_texts.items():\n",
        "    df.loc[i, \"text\"] = \" \".join(text.split())"
      ],
      "metadata": {
        "id": "gqHg5haqMBis"
      },
      "execution_count": null,
      "outputs": []
    },
    {
      "cell_type": "code",
      "source": [
        "df.to_csv(base_dir/\"politifact.csv\")"
      ],
      "metadata": {
        "id": "Ijdg3NqHMWbh"
      },
      "execution_count": null,
      "outputs": []
    },
    {
      "cell_type": "markdown",
      "source": [
        "## Data cleaning"
      ],
      "metadata": {
        "id": "aZZ6iKlxGQsF"
      }
    },
    {
      "cell_type": "code",
      "source": [
        "df = df[df.title.str.len() > 0]\n",
        "\n",
        "dups = []\n",
        "for name, group in df.groupby(\"title\"):\n",
        "    if len(group) > 1:\n",
        "        dups.append(group)"
      ],
      "metadata": {
        "id": "TySUSZiUO7La"
      },
      "execution_count": null,
      "outputs": []
    },
    {
      "cell_type": "code",
      "source": [
        "df = df.groupby(\"title\", as_index=False).first()\n",
        "\n",
        "texts = df.title + \" \" + df.text"
      ],
      "metadata": {
        "id": "uHWvcI1I748W"
      },
      "execution_count": null,
      "outputs": []
    },
    {
      "cell_type": "code",
      "source": [
        "len(texts)"
      ],
      "metadata": {
        "colab": {
          "base_uri": "https://localhost:8080/"
        },
        "id": "PfZSpiXU8IHY",
        "outputId": "4739f41a-9a94-4025-a534-de422ba78b1b"
      },
      "execution_count": null,
      "outputs": [
        {
          "output_type": "execute_result",
          "data": {
            "text/plain": [
              "741"
            ]
          },
          "metadata": {},
          "execution_count": 45
        }
      ]
    },
    {
      "cell_type": "code",
      "source": [
        "texts"
      ],
      "metadata": {
        "colab": {
          "base_uri": "https://localhost:8080/"
        },
        "id": "6XuaObUl8EtL",
        "outputId": "0294e72d-4d40-46e3-bfee-fb18be918147"
      },
      "execution_count": null,
      "outputs": [
        {
          "output_type": "execute_result",
          "data": {
            "text/plain": [
              "0      \"Face the Nation\" transcripts, August 26, 2012...\n",
              "1      'Discriminatory animus': Trump sued on DACA Ne...\n",
              "2      'This Week' Transcript: Adm. Mike Mullen Novem...\n",
              "3      'This Week' Transcript: Biden July 11, 2010  ...\n",
              "4      'This Week' Transcript: Former Vice President ...\n",
              "                             ...                        \n",
              "736    ‘NASA Confirms’ 15 Days Of Darkness Coming Thi...\n",
              "737    ‘Smallville’ Star Confesses She Sold Children ...\n",
              "738    ‘The Daily Show’s’ Michelle Wolf Lands Her Own...\n",
              "739    “Dictionary” on President Obama’s Health Care ...\n",
              "740    “Gay People Should Wear Specially-Colored Clot...\n",
              "Length: 741, dtype: object"
            ]
          },
          "metadata": {},
          "execution_count": 46
        }
      ]
    },
    {
      "cell_type": "markdown",
      "source": [
        "## Source"
      ],
      "metadata": {
        "id": "5gR1J2jMwO3i"
      }
    },
    {
      "cell_type": "code",
      "source": [
        "source = df.news_url.str.replace(\"^(https://)?web.archive.org/web/\\d+/\", \"\", regex=True)"
      ],
      "metadata": {
        "id": "UUJ449ZWsrU4"
      },
      "execution_count": null,
      "outputs": []
    },
    {
      "cell_type": "code",
      "source": [
        "source = source.str.replace(\"^(https?://)?(www.)?\", \"\", regex=True)"
      ],
      "metadata": {
        "id": "DZjoUFQCn8xl"
      },
      "execution_count": null,
      "outputs": []
    },
    {
      "cell_type": "code",
      "source": [
        "source = source.str.replace(\"\\.(com|info|org|gov|tv|us|news|me|co.uk|net|club|co|live|edu|xyz|site|life|ru|online|tk|website|pw|one|world|mil).*$\", \"\", regex=True)"
      ],
      "metadata": {
        "id": "bNP4YyZlrFZA"
      },
      "execution_count": null,
      "outputs": []
    },
    {
      "cell_type": "code",
      "source": [
        "len(source), len(source.unique())"
      ],
      "metadata": {
        "colab": {
          "base_uri": "https://localhost:8080/"
        },
        "id": "2Trjg1cst_Dl",
        "outputId": "330d2f2b-2798-4a5a-ec42-76a22f43c0cd"
      },
      "execution_count": null,
      "outputs": [
        {
          "output_type": "execute_result",
          "data": {
            "text/plain": [
              "(1056, 526)"
            ]
          },
          "metadata": {},
          "execution_count": 70
        }
      ]
    },
    {
      "cell_type": "markdown",
      "source": [
        "## Number of retweets"
      ],
      "metadata": {
        "id": "D-aGRh_BwR48"
      }
    },
    {
      "cell_type": "code",
      "source": [
        "df[\"num_retweets\"] = df.retweets.map(len)\n",
        "df[\"log_num_retweets\"] = np.log1p(df.num_retweets.to_numpy())\n",
        "df[\"num_tweets\"] = df.tweets.map(len)\n",
        "df[\"log_num_tweets\"] = np.log1p(df.num_tweets.to_numpy())"
      ],
      "metadata": {
        "id": "sMq3WS0cwVed"
      },
      "execution_count": null,
      "outputs": []
    },
    {
      "cell_type": "code",
      "source": [
        "df.describe()"
      ],
      "metadata": {
        "colab": {
          "base_uri": "https://localhost:8080/",
          "height": 329
        },
        "id": "CEn8t4O9wVW6",
        "outputId": "a92e039b-15de-4345-b217-26d8a17bce42"
      },
      "execution_count": null,
      "outputs": [
        {
          "output_type": "execute_result",
          "data": {
            "text/plain": [
              "       summary  num_retweets  log_num_retweets    num_tweets  log_num_tweets\n",
              "count      0.0    741.000000        741.000000    741.000000      741.000000\n",
              "mean       NaN     72.734143          0.810143    464.350877        3.376457\n",
              "std        NaN    847.921827          1.829153   2057.171092        2.580387\n",
              "min        NaN      0.000000          0.000000      0.000000        0.000000\n",
              "25%        NaN      0.000000          0.000000      1.000000        0.693147\n",
              "50%        NaN      0.000000          0.000000     34.000000        3.555348\n",
              "75%        NaN      0.000000          0.000000    220.000000        5.398163\n",
              "max        NaN  21984.000000          9.998116  29060.000000       10.277152"
            ],
            "text/html": [
              "\n",
              "  <div id=\"df-e9b1510d-7d4d-48c2-b799-ea077750bcb5\">\n",
              "    <div class=\"colab-df-container\">\n",
              "      <div>\n",
              "<style scoped>\n",
              "    .dataframe tbody tr th:only-of-type {\n",
              "        vertical-align: middle;\n",
              "    }\n",
              "\n",
              "    .dataframe tbody tr th {\n",
              "        vertical-align: top;\n",
              "    }\n",
              "\n",
              "    .dataframe thead th {\n",
              "        text-align: right;\n",
              "    }\n",
              "</style>\n",
              "<table border=\"1\" class=\"dataframe\">\n",
              "  <thead>\n",
              "    <tr style=\"text-align: right;\">\n",
              "      <th></th>\n",
              "      <th>summary</th>\n",
              "      <th>num_retweets</th>\n",
              "      <th>log_num_retweets</th>\n",
              "      <th>num_tweets</th>\n",
              "      <th>log_num_tweets</th>\n",
              "    </tr>\n",
              "  </thead>\n",
              "  <tbody>\n",
              "    <tr>\n",
              "      <th>count</th>\n",
              "      <td>0.0</td>\n",
              "      <td>741.000000</td>\n",
              "      <td>741.000000</td>\n",
              "      <td>741.000000</td>\n",
              "      <td>741.000000</td>\n",
              "    </tr>\n",
              "    <tr>\n",
              "      <th>mean</th>\n",
              "      <td>NaN</td>\n",
              "      <td>72.734143</td>\n",
              "      <td>0.810143</td>\n",
              "      <td>464.350877</td>\n",
              "      <td>3.376457</td>\n",
              "    </tr>\n",
              "    <tr>\n",
              "      <th>std</th>\n",
              "      <td>NaN</td>\n",
              "      <td>847.921827</td>\n",
              "      <td>1.829153</td>\n",
              "      <td>2057.171092</td>\n",
              "      <td>2.580387</td>\n",
              "    </tr>\n",
              "    <tr>\n",
              "      <th>min</th>\n",
              "      <td>NaN</td>\n",
              "      <td>0.000000</td>\n",
              "      <td>0.000000</td>\n",
              "      <td>0.000000</td>\n",
              "      <td>0.000000</td>\n",
              "    </tr>\n",
              "    <tr>\n",
              "      <th>25%</th>\n",
              "      <td>NaN</td>\n",
              "      <td>0.000000</td>\n",
              "      <td>0.000000</td>\n",
              "      <td>1.000000</td>\n",
              "      <td>0.693147</td>\n",
              "    </tr>\n",
              "    <tr>\n",
              "      <th>50%</th>\n",
              "      <td>NaN</td>\n",
              "      <td>0.000000</td>\n",
              "      <td>0.000000</td>\n",
              "      <td>34.000000</td>\n",
              "      <td>3.555348</td>\n",
              "    </tr>\n",
              "    <tr>\n",
              "      <th>75%</th>\n",
              "      <td>NaN</td>\n",
              "      <td>0.000000</td>\n",
              "      <td>0.000000</td>\n",
              "      <td>220.000000</td>\n",
              "      <td>5.398163</td>\n",
              "    </tr>\n",
              "    <tr>\n",
              "      <th>max</th>\n",
              "      <td>NaN</td>\n",
              "      <td>21984.000000</td>\n",
              "      <td>9.998116</td>\n",
              "      <td>29060.000000</td>\n",
              "      <td>10.277152</td>\n",
              "    </tr>\n",
              "  </tbody>\n",
              "</table>\n",
              "</div>\n",
              "      <button class=\"colab-df-convert\" onclick=\"convertToInteractive('df-e9b1510d-7d4d-48c2-b799-ea077750bcb5')\"\n",
              "              title=\"Convert this dataframe to an interactive table.\"\n",
              "              style=\"display:none;\">\n",
              "        \n",
              "  <svg xmlns=\"http://www.w3.org/2000/svg\" height=\"24px\"viewBox=\"0 0 24 24\"\n",
              "       width=\"24px\">\n",
              "    <path d=\"M0 0h24v24H0V0z\" fill=\"none\"/>\n",
              "    <path d=\"M18.56 5.44l.94 2.06.94-2.06 2.06-.94-2.06-.94-.94-2.06-.94 2.06-2.06.94zm-11 1L8.5 8.5l.94-2.06 2.06-.94-2.06-.94L8.5 2.5l-.94 2.06-2.06.94zm10 10l.94 2.06.94-2.06 2.06-.94-2.06-.94-.94-2.06-.94 2.06-2.06.94z\"/><path d=\"M17.41 7.96l-1.37-1.37c-.4-.4-.92-.59-1.43-.59-.52 0-1.04.2-1.43.59L10.3 9.45l-7.72 7.72c-.78.78-.78 2.05 0 2.83L4 21.41c.39.39.9.59 1.41.59.51 0 1.02-.2 1.41-.59l7.78-7.78 2.81-2.81c.8-.78.8-2.07 0-2.86zM5.41 20L4 18.59l7.72-7.72 1.47 1.35L5.41 20z\"/>\n",
              "  </svg>\n",
              "      </button>\n",
              "      \n",
              "  <style>\n",
              "    .colab-df-container {\n",
              "      display:flex;\n",
              "      flex-wrap:wrap;\n",
              "      gap: 12px;\n",
              "    }\n",
              "\n",
              "    .colab-df-convert {\n",
              "      background-color: #E8F0FE;\n",
              "      border: none;\n",
              "      border-radius: 50%;\n",
              "      cursor: pointer;\n",
              "      display: none;\n",
              "      fill: #1967D2;\n",
              "      height: 32px;\n",
              "      padding: 0 0 0 0;\n",
              "      width: 32px;\n",
              "    }\n",
              "\n",
              "    .colab-df-convert:hover {\n",
              "      background-color: #E2EBFA;\n",
              "      box-shadow: 0px 1px 2px rgba(60, 64, 67, 0.3), 0px 1px 3px 1px rgba(60, 64, 67, 0.15);\n",
              "      fill: #174EA6;\n",
              "    }\n",
              "\n",
              "    [theme=dark] .colab-df-convert {\n",
              "      background-color: #3B4455;\n",
              "      fill: #D2E3FC;\n",
              "    }\n",
              "\n",
              "    [theme=dark] .colab-df-convert:hover {\n",
              "      background-color: #434B5C;\n",
              "      box-shadow: 0px 1px 3px 1px rgba(0, 0, 0, 0.15);\n",
              "      filter: drop-shadow(0px 1px 2px rgba(0, 0, 0, 0.3));\n",
              "      fill: #FFFFFF;\n",
              "    }\n",
              "  </style>\n",
              "\n",
              "      <script>\n",
              "        const buttonEl =\n",
              "          document.querySelector('#df-e9b1510d-7d4d-48c2-b799-ea077750bcb5 button.colab-df-convert');\n",
              "        buttonEl.style.display =\n",
              "          google.colab.kernel.accessAllowed ? 'block' : 'none';\n",
              "\n",
              "        async function convertToInteractive(key) {\n",
              "          const element = document.querySelector('#df-e9b1510d-7d4d-48c2-b799-ea077750bcb5');\n",
              "          const dataTable =\n",
              "            await google.colab.kernel.invokeFunction('convertToInteractive',\n",
              "                                                     [key], {});\n",
              "          if (!dataTable) return;\n",
              "\n",
              "          const docLinkHtml = 'Like what you see? Visit the ' +\n",
              "            '<a target=\"_blank\" href=https://colab.research.google.com/notebooks/data_table.ipynb>data table notebook</a>'\n",
              "            + ' to learn more about interactive tables.';\n",
              "          element.innerHTML = '';\n",
              "          dataTable['output_type'] = 'display_data';\n",
              "          await google.colab.output.renderOutput(dataTable, element);\n",
              "          const docLink = document.createElement('div');\n",
              "          docLink.innerHTML = docLinkHtml;\n",
              "          element.appendChild(docLink);\n",
              "        }\n",
              "      </script>\n",
              "    </div>\n",
              "  </div>\n",
              "  "
            ]
          },
          "metadata": {},
          "execution_count": 50
        }
      ]
    },
    {
      "cell_type": "markdown",
      "source": [
        "## More to come"
      ],
      "metadata": {
        "id": "RZ2uB24zzJGW"
      }
    }
  ]
}