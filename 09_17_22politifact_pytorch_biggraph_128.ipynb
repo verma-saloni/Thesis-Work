{
  "nbformat": 4,
  "nbformat_minor": 0,
  "metadata": {
    "colab": {
      "provenance": [],
      "collapsed_sections": [],
      "include_colab_link": true
    },
    "kernelspec": {
      "name": "python3",
      "display_name": "Python 3"
    },
    "language_info": {
      "name": "python"
    },
    "accelerator": "GPU"
  },
  "cells": [
    {
      "cell_type": "markdown",
      "metadata": {
        "id": "view-in-github",
        "colab_type": "text"
      },
      "source": [
        "<a href=\"https://colab.research.google.com/github/verma-saloni/Thesis-Work/blob/main/09_17_22politifact_pytorch_biggraph_128.ipynb\" target=\"_parent\"><img src=\"https://colab.research.google.com/assets/colab-badge.svg\" alt=\"Open In Colab\"/></a>"
      ]
    },
    {
      "cell_type": "code",
      "execution_count": null,
      "metadata": {
        "id": "xpTeMbYZwmf7"
      },
      "outputs": [],
      "source": [
        "!pip -qq install jsonlines"
      ]
    },
    {
      "cell_type": "code",
      "source": [
        "%cd PyTorch-BigGraph/\n",
        "!pip -qq install .\n",
        "%cd /content/"
      ],
      "metadata": {
        "id": "fKc3Ix04OThj",
        "colab": {
          "base_uri": "https://localhost:8080/"
        },
        "outputId": "8fafc16a-5fa2-43e8-d341-537878d06a5c"
      },
      "execution_count": null,
      "outputs": [
        {
          "output_type": "stream",
          "name": "stdout",
          "text": [
            "/content/PyTorch-BigGraph\n",
            "\u001b[33m  DEPRECATION: A future pip version will change local packages to be built in-place without first copying to a temporary directory. We recommend you use --use-feature=in-tree-build to test your packages with this new behavior before it becomes the default.\n",
            "   pip 21.3 will remove support for this functionality. You can find discussion regarding this at https://github.com/pypa/pip/issues/7555.\u001b[0m\n",
            "  Building wheel for torchbiggraph (setup.py) ... \u001b[?25l\u001b[?25hdone\n",
            "/content\n"
          ]
        }
      ]
    },
    {
      "cell_type": "code",
      "source": [
        "from google.colab import drive\n",
        "drive.mount('/gdrive')\n",
        "\n",
        "from pathlib import Path\n",
        "base_dir = Path(\"/gdrive/MyDrive/ResearchFND\")\n",
        "assert base_dir.exists()"
      ],
      "metadata": {
        "colab": {
          "base_uri": "https://localhost:8080/"
        },
        "id": "UxNEaltli8H_",
        "outputId": "67b59a8c-e62e-4229-ec31-7ab3fd1a9532"
      },
      "execution_count": null,
      "outputs": [
        {
          "output_type": "stream",
          "name": "stdout",
          "text": [
            "Mounted at /gdrive\n"
          ]
        }
      ]
    },
    {
      "cell_type": "code",
      "source": [
        "(base_dir/'politifact_edges.txt').exists()"
      ],
      "metadata": {
        "colab": {
          "base_uri": "https://localhost:8080/"
        },
        "id": "l39QT3APPL_v",
        "outputId": "1f79e539-0157-4eec-eaa6-37b57f0df997"
      },
      "execution_count": null,
      "outputs": [
        {
          "output_type": "execute_result",
          "data": {
            "text/plain": [
              "True"
            ]
          },
          "metadata": {},
          "execution_count": 5
        }
      ]
    },
    {
      "cell_type": "markdown",
      "source": [
        "## Data prep\n",
        "\n",
        "> THIS STEP CAN BE SKIPPED IF `politifact_edges.txt` exists"
      ],
      "metadata": {
        "id": "NHdG78wwVumY"
      }
    },
    {
      "cell_type": "code",
      "source": [
        "import pandas as pd\n",
        "import ast"
      ],
      "metadata": {
        "id": "7tPiW_FBWO8s"
      },
      "execution_count": null,
      "outputs": []
    },
    {
      "cell_type": "code",
      "source": [
        "df = pd.read_csv(base_dir/'politifact_agg.csv', index_col=0)\n",
        "df.head(2)"
      ],
      "metadata": {
        "colab": {
          "base_uri": "https://localhost:8080/",
          "height": 166
        },
        "id": "0BsiweMKV3Kt",
        "outputId": "98788634-7173-4c6f-b59e-3bc907dcf01c"
      },
      "execution_count": null,
      "outputs": [
        {
          "output_type": "execute_result",
          "data": {
            "text/plain": [
              "                                               title text tweets  \\\n",
              "0   Actress Emma Stone ‘For the first time in his...  NaN     []   \n",
              "1   Breaking President Trump makes English the of...  NaN     []   \n",
              "\n",
              "                                            retweets label  url tweet_ids  \\\n",
              "0  ['1020554564334964741', '1020817527046197248',...  fake  NaN        []   \n",
              "1                                                 []  fake  NaN        []   \n",
              "\n",
              "   num_retweets  log_num_retweets  num_tweets  log_num_tweets  \n",
              "0          2911          7.976595           0             0.0  \n",
              "1             0          0.000000           0             0.0  "
            ],
            "text/html": [
              "\n",
              "  <div id=\"df-fd641558-9248-4b9c-9b5c-01fb3689e44e\">\n",
              "    <div class=\"colab-df-container\">\n",
              "      <div>\n",
              "<style scoped>\n",
              "    .dataframe tbody tr th:only-of-type {\n",
              "        vertical-align: middle;\n",
              "    }\n",
              "\n",
              "    .dataframe tbody tr th {\n",
              "        vertical-align: top;\n",
              "    }\n",
              "\n",
              "    .dataframe thead th {\n",
              "        text-align: right;\n",
              "    }\n",
              "</style>\n",
              "<table border=\"1\" class=\"dataframe\">\n",
              "  <thead>\n",
              "    <tr style=\"text-align: right;\">\n",
              "      <th></th>\n",
              "      <th>title</th>\n",
              "      <th>text</th>\n",
              "      <th>tweets</th>\n",
              "      <th>retweets</th>\n",
              "      <th>label</th>\n",
              "      <th>url</th>\n",
              "      <th>tweet_ids</th>\n",
              "      <th>num_retweets</th>\n",
              "      <th>log_num_retweets</th>\n",
              "      <th>num_tweets</th>\n",
              "      <th>log_num_tweets</th>\n",
              "    </tr>\n",
              "  </thead>\n",
              "  <tbody>\n",
              "    <tr>\n",
              "      <th>0</th>\n",
              "      <td>Actress Emma Stone ‘For the first time in his...</td>\n",
              "      <td>NaN</td>\n",
              "      <td>[]</td>\n",
              "      <td>['1020554564334964741', '1020817527046197248',...</td>\n",
              "      <td>fake</td>\n",
              "      <td>NaN</td>\n",
              "      <td>[]</td>\n",
              "      <td>2911</td>\n",
              "      <td>7.976595</td>\n",
              "      <td>0</td>\n",
              "      <td>0.0</td>\n",
              "    </tr>\n",
              "    <tr>\n",
              "      <th>1</th>\n",
              "      <td>Breaking President Trump makes English the of...</td>\n",
              "      <td>NaN</td>\n",
              "      <td>[]</td>\n",
              "      <td>[]</td>\n",
              "      <td>fake</td>\n",
              "      <td>NaN</td>\n",
              "      <td>[]</td>\n",
              "      <td>0</td>\n",
              "      <td>0.000000</td>\n",
              "      <td>0</td>\n",
              "      <td>0.0</td>\n",
              "    </tr>\n",
              "  </tbody>\n",
              "</table>\n",
              "</div>\n",
              "      <button class=\"colab-df-convert\" onclick=\"convertToInteractive('df-fd641558-9248-4b9c-9b5c-01fb3689e44e')\"\n",
              "              title=\"Convert this dataframe to an interactive table.\"\n",
              "              style=\"display:none;\">\n",
              "        \n",
              "  <svg xmlns=\"http://www.w3.org/2000/svg\" height=\"24px\"viewBox=\"0 0 24 24\"\n",
              "       width=\"24px\">\n",
              "    <path d=\"M0 0h24v24H0V0z\" fill=\"none\"/>\n",
              "    <path d=\"M18.56 5.44l.94 2.06.94-2.06 2.06-.94-2.06-.94-.94-2.06-.94 2.06-2.06.94zm-11 1L8.5 8.5l.94-2.06 2.06-.94-2.06-.94L8.5 2.5l-.94 2.06-2.06.94zm10 10l.94 2.06.94-2.06 2.06-.94-2.06-.94-.94-2.06-.94 2.06-2.06.94z\"/><path d=\"M17.41 7.96l-1.37-1.37c-.4-.4-.92-.59-1.43-.59-.52 0-1.04.2-1.43.59L10.3 9.45l-7.72 7.72c-.78.78-.78 2.05 0 2.83L4 21.41c.39.39.9.59 1.41.59.51 0 1.02-.2 1.41-.59l7.78-7.78 2.81-2.81c.8-.78.8-2.07 0-2.86zM5.41 20L4 18.59l7.72-7.72 1.47 1.35L5.41 20z\"/>\n",
              "  </svg>\n",
              "      </button>\n",
              "      \n",
              "  <style>\n",
              "    .colab-df-container {\n",
              "      display:flex;\n",
              "      flex-wrap:wrap;\n",
              "      gap: 12px;\n",
              "    }\n",
              "\n",
              "    .colab-df-convert {\n",
              "      background-color: #E8F0FE;\n",
              "      border: none;\n",
              "      border-radius: 50%;\n",
              "      cursor: pointer;\n",
              "      display: none;\n",
              "      fill: #1967D2;\n",
              "      height: 32px;\n",
              "      padding: 0 0 0 0;\n",
              "      width: 32px;\n",
              "    }\n",
              "\n",
              "    .colab-df-convert:hover {\n",
              "      background-color: #E2EBFA;\n",
              "      box-shadow: 0px 1px 2px rgba(60, 64, 67, 0.3), 0px 1px 3px 1px rgba(60, 64, 67, 0.15);\n",
              "      fill: #174EA6;\n",
              "    }\n",
              "\n",
              "    [theme=dark] .colab-df-convert {\n",
              "      background-color: #3B4455;\n",
              "      fill: #D2E3FC;\n",
              "    }\n",
              "\n",
              "    [theme=dark] .colab-df-convert:hover {\n",
              "      background-color: #434B5C;\n",
              "      box-shadow: 0px 1px 3px 1px rgba(0, 0, 0, 0.15);\n",
              "      filter: drop-shadow(0px 1px 2px rgba(0, 0, 0, 0.3));\n",
              "      fill: #FFFFFF;\n",
              "    }\n",
              "  </style>\n",
              "\n",
              "      <script>\n",
              "        const buttonEl =\n",
              "          document.querySelector('#df-fd641558-9248-4b9c-9b5c-01fb3689e44e button.colab-df-convert');\n",
              "        buttonEl.style.display =\n",
              "          google.colab.kernel.accessAllowed ? 'block' : 'none';\n",
              "\n",
              "        async function convertToInteractive(key) {\n",
              "          const element = document.querySelector('#df-fd641558-9248-4b9c-9b5c-01fb3689e44e');\n",
              "          const dataTable =\n",
              "            await google.colab.kernel.invokeFunction('convertToInteractive',\n",
              "                                                     [key], {});\n",
              "          if (!dataTable) return;\n",
              "\n",
              "          const docLinkHtml = 'Like what you see? Visit the ' +\n",
              "            '<a target=\"_blank\" href=https://colab.research.google.com/notebooks/data_table.ipynb>data table notebook</a>'\n",
              "            + ' to learn more about interactive tables.';\n",
              "          element.innerHTML = '';\n",
              "          dataTable['output_type'] = 'display_data';\n",
              "          await google.colab.output.renderOutput(dataTable, element);\n",
              "          const docLink = document.createElement('div');\n",
              "          docLink.innerHTML = docLinkHtml;\n",
              "          element.appendChild(docLink);\n",
              "        }\n",
              "      </script>\n",
              "    </div>\n",
              "  </div>\n",
              "  "
            ]
          },
          "metadata": {},
          "execution_count": 6
        }
      ]
    },
    {
      "cell_type": "code",
      "source": [
        "df['tweets'] = df.tweets.map(ast.literal_eval)"
      ],
      "metadata": {
        "id": "cruZFCpNWRLb"
      },
      "execution_count": null,
      "outputs": []
    },
    {
      "cell_type": "code",
      "source": [
        "users_tweeted = df.tweets.map(lambda x: [int(e['user_id']) for e in x])"
      ],
      "metadata": {
        "id": "wH5i98HOWz1w"
      },
      "execution_count": null,
      "outputs": []
    },
    {
      "cell_type": "code",
      "source": [
        "len(users_tweeted), sum(users_tweeted.map(len) > 0)"
      ],
      "metadata": {
        "colab": {
          "base_uri": "https://localhost:8080/"
        },
        "id": "exnDy-5ud_uJ",
        "outputId": "61d30ca6-e1ae-49a4-d7b0-c8247c3cb9ff"
      },
      "execution_count": null,
      "outputs": [
        {
          "output_type": "execute_result",
          "data": {
            "text/plain": [
              "(894, 149)"
            ]
          },
          "metadata": {},
          "execution_count": 9
        }
      ]
    },
    {
      "cell_type": "code",
      "source": [
        "import os\n",
        "import jsonlines\n",
        "import numpy as np\n",
        "import torch\n",
        "\n",
        "import IPython.display as ipd"
      ],
      "metadata": {
        "id": "yp52MLR1mdxA"
      },
      "execution_count": null,
      "outputs": []
    },
    {
      "cell_type": "code",
      "source": [
        "follow_src = []\n",
        "follow_dst = []\n",
        "with jsonlines.open(base_dir/\"followers.jsonl\") as reader:\n",
        "    for line in reader:\n",
        "        v = line[\"user_id\"]\n",
        "        for u in line[\"followers\"]:\n",
        "            follow_src.append(u)\n",
        "            follow_dst.append(v)"
      ],
      "metadata": {
        "id": "h3XOCaEwoMvx"
      },
      "execution_count": null,
      "outputs": []
    },
    {
      "cell_type": "code",
      "source": [
        "with jsonlines.open(base_dir/\"following.jsonl\") as reader:\n",
        "    for line in reader:\n",
        "        u = line[\"user_id\"]\n",
        "        for v in line[\"following\"]:\n",
        "            follow_src.append(u)\n",
        "            follow_dst.append(v)"
      ],
      "metadata": {
        "id": "sWJFoJ_4oMvz"
      },
      "execution_count": null,
      "outputs": []
    },
    {
      "cell_type": "code",
      "source": [
        "tweet_src = []\n",
        "tweet_dst = []\n",
        "\n",
        "for v, l in users_tweeted.iteritems():\n",
        "    if not len(l):\n",
        "        continue\n",
        "    for u in l:\n",
        "        tweet_src.append(u)\n",
        "        tweet_dst.append(v)"
      ],
      "metadata": {
        "id": "DWM9MEXDpiyX"
      },
      "execution_count": null,
      "outputs": []
    },
    {
      "cell_type": "code",
      "source": [
        "with open('edges.txt', 'w') as f:\n",
        "    for src, dst in zip(follow_src, follow_dst):\n",
        "        f.write(f\"{src}\\t{dst}\\tfollows\\n\")\n",
        "    for src, dst in zip(tweet_src, tweet_dst):\n",
        "        f.write(f\"{src}\\t{dst}\\ttwitted\\n\")"
      ],
      "metadata": {
        "id": "OkIxZJL5UuD0"
      },
      "execution_count": null,
      "outputs": []
    },
    {
      "cell_type": "code",
      "source": [
        "!head -n 5 edges.txt"
      ],
      "metadata": {
        "colab": {
          "base_uri": "https://localhost:8080/"
        },
        "id": "QHqWee-K9jDA",
        "outputId": "361227c0-7b21-45c7-fd1c-406c6c61f5c6"
      },
      "execution_count": null,
      "outputs": [
        {
          "output_type": "stream",
          "name": "stdout",
          "text": [
            "983553159057498114\t961251714857828357\tfollows\n",
            "988529911873921024\t961251714857828357\tfollows\n",
            "961635897929359360\t961251714857828357\tfollows\n",
            "159717173\t961251714857828357\tfollows\n",
            "4737344780\t961251714857828357\tfollows\n"
          ]
        }
      ]
    },
    {
      "cell_type": "code",
      "source": [
        "!cp edges.txt $base_dir/"
      ],
      "metadata": {
        "id": "wF1RCfArK1bW"
      },
      "execution_count": null,
      "outputs": []
    },
    {
      "cell_type": "markdown",
      "source": [
        "## Training"
      ],
      "metadata": {
        "id": "A9DZtJEvKUrH"
      }
    },
    {
      "cell_type": "code",
      "source": [
        "import random\n",
        "from pathlib import Path\n",
        "\n",
        "import attr\n",
        "import pkg_resources\n",
        "from torchbiggraph.config import add_to_sys_path, ConfigFileLoader\n",
        "from torchbiggraph.converters.importers import convert_input_data, TSVEdgelistReader\n",
        "from torchbiggraph.converters.utils import download_url, extract_gzip, extract_tar\n",
        "from torchbiggraph.eval import do_eval\n",
        "from torchbiggraph.train import train\n",
        "from torchbiggraph.util import (\n",
        "    set_logging_verbosity,\n",
        "    setup_logging,\n",
        "    SubprocessInitializer,\n",
        ")"
      ],
      "metadata": {
        "id": "2AfA9wOUQFzE"
      },
      "execution_count": null,
      "outputs": []
    },
    {
      "cell_type": "code",
      "source": [
        "data_dir = Path('./data')\n",
        "data_dir.mkdir(parents=True, exist_ok=True)\n",
        "fpath = base_dir/'politifact_edges.txt'"
      ],
      "metadata": {
        "id": "EhJ-IR1D2_Qx"
      },
      "execution_count": null,
      "outputs": []
    },
    {
      "cell_type": "code",
      "source": [
        "import random\n",
        "\n",
        "def split_edges(input_file, pct=0.8, train_file='data/train_edges.txt', valid_file='data/valid_edges.txt'):\n",
        "\n",
        "    with open(input_file) as f:\n",
        "        lines = f.readlines()\n",
        "\n",
        "    follow_edges, tweet_edges = [], []\n",
        "    for line in lines:\n",
        "        if line.strip().endswith('follows'):\n",
        "            follow_edges.append(line)\n",
        "        else:\n",
        "            tweet_edges.append(line)\n",
        "\n",
        "    random.shuffle(follow_edges)\n",
        "    random.shuffle(tweet_edges)\n",
        "    follow_split, tweet_split = int(pct*len(follow_edges)), int(pct*len(tweet_edges))\n",
        "    train_edges = follow_edges[:follow_split] + tweet_edges[:tweet_split]\n",
        "    valid_edges = follow_edges[follow_split:] + tweet_edges[tweet_split:]\n",
        "\n",
        "    with open(train_file, 'w') as f:\n",
        "        f.writelines(train_edges)\n",
        "\n",
        "    with open(valid_file, 'w') as f:\n",
        "        f.writelines(valid_edges)"
      ],
      "metadata": {
        "id": "6IufRqmI_3yy"
      },
      "execution_count": null,
      "outputs": []
    },
    {
      "cell_type": "code",
      "source": [
        "split_edges(fpath)"
      ],
      "metadata": {
        "id": "m8CRfFnyAPob"
      },
      "execution_count": null,
      "outputs": []
    },
    {
      "cell_type": "code",
      "source": [
        "dimension = 128\n",
        "\n",
        "loader = ConfigFileLoader()\n",
        "config = loader.load_config('PyTorch-BigGraph/torchbiggraph/examples/configs/politifact_config.py', [[f'dimension={dimension}']])\n",
        "set_logging_verbosity(0)\n",
        "subprocess_init = SubprocessInitializer()\n",
        "subprocess_init.register(setup_logging, 0)\n",
        "subprocess_init.register(add_to_sys_path, loader.config_dir.name)\n",
        "input_edge_paths = [data_dir/'train_edges.txt', data_dir/'valid_edges.txt']\n",
        "output_train_path, output_test_path = config.edge_paths"
      ],
      "metadata": {
        "id": "arg_IAqn9SPt"
      },
      "execution_count": null,
      "outputs": []
    },
    {
      "cell_type": "code",
      "source": [
        "convert_input_data(\n",
        "    config.entities,\n",
        "    config.relations,\n",
        "    config.entity_path,\n",
        "    config.edge_paths,\n",
        "    input_edge_paths,\n",
        "    TSVEdgelistReader(lhs_col=0, rhs_col=1, rel_col=2),\n",
        "    dynamic_relations=config.dynamic_relations,\n",
        ")"
      ],
      "metadata": {
        "colab": {
          "base_uri": "https://localhost:8080/"
        },
        "id": "oTXJLODH-RQx",
        "outputId": "1d40e6c1-ffe2-464d-b5be-76e01943f47c"
      },
      "execution_count": null,
      "outputs": [
        {
          "output_type": "stream",
          "name": "stdout",
          "text": [
            "[2022-09-17 07:00:57.960547] Using the 2 relation types given in the config\n",
            "[2022-09-17 07:00:57.970457] Searching for the entities in the edge files...\n",
            "[2022-09-17 07:00:58.542051] Entity type user:\n",
            "[2022-09-17 07:00:58.545003] - Found 71759 entities\n",
            "[2022-09-17 07:00:58.550094] - Removing the ones with fewer than 1 occurrences...\n",
            "[2022-09-17 07:00:58.583477] - Left with 71759 entities\n",
            "[2022-09-17 07:00:58.586187] - Shuffling them...\n",
            "[2022-09-17 07:00:58.819144] Entity type article:\n",
            "[2022-09-17 07:00:58.829161] - Found 149 entities\n",
            "[2022-09-17 07:00:58.834049] - Removing the ones with fewer than 1 occurrences...\n",
            "[2022-09-17 07:00:58.839047] - Left with 149 entities\n",
            "[2022-09-17 07:00:58.841370] - Shuffling them...\n",
            "[2022-09-17 07:00:58.844502] Preparing counts and dictionaries for entities and relation types:\n",
            "[2022-09-17 07:00:58.848084] - Writing count of entity type user and partition 0\n",
            "[2022-09-17 07:00:59.016599] - Writing count of entity type article and partition 0\n",
            "[2022-09-17 07:00:59.029151] Preparing edge path data/train_partitioned, out of the edges found in data/train_edges.txt\n",
            "[2022-09-17 07:00:59.034189] - Edges will be partitioned in 1 x 1 buckets.\n",
            "[2022-09-17 07:01:00.810680] - Processed 89098 edges in total\n",
            "[2022-09-17 07:01:00.831229] Preparing edge path data/test_partitioned, out of the edges found in data/valid_edges.txt\n",
            "[2022-09-17 07:01:00.847079] - Edges will be partitioned in 1 x 1 buckets.\n",
            "[2022-09-17 07:01:01.571409] - Processed 22275 edges in total\n"
          ]
        }
      ]
    },
    {
      "cell_type": "code",
      "source": [
        "train_config = attr.evolve(config, edge_paths=[output_train_path])\n",
        "train(train_config, subprocess_init=subprocess_init)"
      ],
      "metadata": {
        "colab": {
          "base_uri": "https://localhost:8080/"
        },
        "id": "xMLAogkkFQKW",
        "outputId": "3820177d-74f5-4c0c-ea61-a581bbc67206"
      },
      "execution_count": null,
      "outputs": [
        {
          "output_type": "stream",
          "name": "stderr",
          "text": [
            "INFO:torchbiggraph:Loading entity counts...\n",
            "INFO:torchbiggraph:Creating workers...\n",
            "INFO:torchbiggraph:Initializing global model...\n",
            "INFO:torchbiggraph:Starting epoch 1 / 30, edge path 1 / 1, edge chunk 1 / 1\n",
            "INFO:torchbiggraph:Edge path: data/train_partitioned\n",
            "INFO:torchbiggraph:still in queue: 0\n",
            "INFO:torchbiggraph:Swapping partitioned embeddings None ( 0 , 0 )\n",
            "INFO:torchbiggraph:Loading partitioned embeddings from checkpoint\n",
            "INFO:torchbiggraph:( 0 , 0 ): Stats before training: loss:  466.963 , pos_rank:  964.257 , mrr:  0.00360081 , r1:  0.000785811 , r10:  0.00348002 , r50:  0.0179614 , auc:  0.490346 , count:  4454\n",
            "INFO:torchbiggraph:( 0 , 0 ): Training stats: loss:  20.4477 , reg:  0 , violators_lhs:  37.7744 , violators_rhs:  37.7295 , count:  84644\n",
            "INFO:torchbiggraph:( 0 , 0 ): Stats after training: loss:  317.026 , pos_rank:  566.755 , mrr:  0.071909 , r1:  0.0550067 , r10:  0.0956444 , r50:  0.17546 , auc:  0.714863 , count:  4454\n",
            "INFO:torchbiggraph:( 0 , 0 ): bucket 1 / 1 : Trained 84644 edges in 1.11 s ( 0.076 M/sec ); Eval 2*4454 edges in 1.68 s ( 0.0053 M/sec ); io: 0.28 s for 38,955,248 bytes ( 139.71 MB/sec )\n",
            "INFO:torchbiggraph:Swapping partitioned embeddings ( 0 , 0 ) None\n",
            "INFO:torchbiggraph:Saving partitioned embeddings to checkpoint\n",
            "INFO:torchbiggraph:Finished epoch 1 / 30, edge path 1 / 1, edge chunk 1 / 1\n",
            "INFO:torchbiggraph:Writing the metadata\n",
            "INFO:torchbiggraph:Writing the training stats\n",
            "INFO:torchbiggraph:Writing the checkpoint\n",
            "INFO:torchbiggraph:Switching to the new checkpoint version\n",
            "INFO:torchbiggraph:Starting epoch 2 / 30, edge path 1 / 1, edge chunk 1 / 1\n",
            "INFO:torchbiggraph:Edge path: data/train_partitioned\n",
            "INFO:torchbiggraph:still in queue: 0\n",
            "INFO:torchbiggraph:Swapping partitioned embeddings None ( 0 , 0 )\n",
            "INFO:torchbiggraph:Loading partitioned embeddings from checkpoint\n",
            "INFO:torchbiggraph:( 0 , 0 ): Stats before training: loss:  316.287 , pos_rank:  566.34 , mrr:  0.0713488 , r1:  0.0543332 , r10:  0.0973282 , r50:  0.174787 , auc:  0.715873 , count:  4454\n",
            "INFO:torchbiggraph:( 0 , 0 ): Training stats: loss:  2.69916 , reg:  0 , violators_lhs:  4.82679 , violators_rhs:  3.90034 , count:  84644\n",
            "INFO:torchbiggraph:( 0 , 0 ): Stats after training: loss:  319.416 , pos_rank:  559.9 , mrr:  0.0805041 , r1:  0.0623035 , r10:  0.105411 , r50:  0.181747 , auc:  0.724742 , count:  4454\n",
            "INFO:torchbiggraph:( 0 , 0 ): bucket 1 / 1 : Trained 84644 edges in 1.01 s ( 0.084 M/sec ); Eval 2*4454 edges in 0.31 s ( 0.029 M/sec ); io: 0.03 s for 38,955,248 bytes ( 1451.93 MB/sec )\n",
            "INFO:torchbiggraph:Swapping partitioned embeddings ( 0 , 0 ) None\n",
            "INFO:torchbiggraph:Saving partitioned embeddings to checkpoint\n",
            "INFO:torchbiggraph:Finished epoch 2 / 30, edge path 1 / 1, edge chunk 1 / 1\n",
            "INFO:torchbiggraph:Writing the metadata\n",
            "INFO:torchbiggraph:Writing the training stats\n",
            "INFO:torchbiggraph:Writing the checkpoint\n",
            "INFO:torchbiggraph:Switching to the new checkpoint version\n",
            "INFO:torchbiggraph:Starting epoch 3 / 30, edge path 1 / 1, edge chunk 1 / 1\n",
            "INFO:torchbiggraph:Edge path: data/train_partitioned\n",
            "INFO:torchbiggraph:still in queue: 0\n",
            "INFO:torchbiggraph:Swapping partitioned embeddings None ( 0 , 0 )\n",
            "INFO:torchbiggraph:Loading partitioned embeddings from checkpoint\n",
            "INFO:torchbiggraph:( 0 , 0 ): Stats before training: loss:  318.762 , pos_rank:  560.19 , mrr:  0.0827013 , r1:  0.0653345 , r10:  0.107881 , r50:  0.184553 , auc:  0.725191 , count:  4454\n",
            "INFO:torchbiggraph:( 0 , 0 ): Training stats: loss:  2.43729 , reg:  0 , violators_lhs:  4.61815 , violators_rhs:  3.71442 , count:  84644\n",
            "INFO:torchbiggraph:( 0 , 0 ): Stats after training: loss:  317.312 , pos_rank:  558.919 , mrr:  0.0832228 , r1:  0.0657836 , r10:  0.10687 , r50:  0.184104 , auc:  0.715986 , count:  4454\n",
            "INFO:torchbiggraph:( 0 , 0 ): bucket 1 / 1 : Trained 84644 edges in 1.05 s ( 0.081 M/sec ); Eval 2*4454 edges in 0.31 s ( 0.029 M/sec ); io: 0.02 s for 38,955,248 bytes ( 1753.66 MB/sec )\n",
            "INFO:torchbiggraph:Swapping partitioned embeddings ( 0 , 0 ) None\n",
            "INFO:torchbiggraph:Saving partitioned embeddings to checkpoint\n",
            "INFO:torchbiggraph:Finished epoch 3 / 30, edge path 1 / 1, edge chunk 1 / 1\n",
            "INFO:torchbiggraph:Writing the metadata\n",
            "INFO:torchbiggraph:Writing the training stats\n",
            "INFO:torchbiggraph:Writing the checkpoint\n",
            "INFO:torchbiggraph:Switching to the new checkpoint version\n",
            "INFO:torchbiggraph:Starting epoch 4 / 30, edge path 1 / 1, edge chunk 1 / 1\n",
            "INFO:torchbiggraph:Edge path: data/train_partitioned\n",
            "INFO:torchbiggraph:still in queue: 0\n",
            "INFO:torchbiggraph:Swapping partitioned embeddings None ( 0 , 0 )\n",
            "INFO:torchbiggraph:Loading partitioned embeddings from checkpoint\n",
            "INFO:torchbiggraph:( 0 , 0 ): Stats before training: loss:  317.461 , pos_rank:  558.526 , mrr:  0.0830641 , r1:  0.0656713 , r10:  0.105523 , r50:  0.183206 , auc:  0.705546 , count:  4454\n",
            "INFO:torchbiggraph:( 0 , 0 ): Training stats: loss:  2.34777 , reg:  0 , violators_lhs:  4.55417 , violators_rhs:  3.666 , count:  84644\n",
            "INFO:torchbiggraph:( 0 , 0 ): Stats after training: loss:  315.693 , pos_rank:  558.005 , mrr:  0.0837431 , r1:  0.0663449 , r10:  0.109228 , r50:  0.189156 , auc:  0.724405 , count:  4454\n",
            "INFO:torchbiggraph:( 0 , 0 ): bucket 1 / 1 : Trained 84644 edges in 1.05 s ( 0.08 M/sec ); Eval 2*4454 edges in 0.31 s ( 0.029 M/sec ); io: 0.03 s for 38,955,248 bytes ( 1331.87 MB/sec )\n",
            "INFO:torchbiggraph:Swapping partitioned embeddings ( 0 , 0 ) None\n",
            "INFO:torchbiggraph:Saving partitioned embeddings to checkpoint\n",
            "INFO:torchbiggraph:Finished epoch 4 / 30, edge path 1 / 1, edge chunk 1 / 1\n",
            "INFO:torchbiggraph:Writing the metadata\n",
            "INFO:torchbiggraph:Writing the training stats\n",
            "INFO:torchbiggraph:Writing the checkpoint\n",
            "INFO:torchbiggraph:Switching to the new checkpoint version\n",
            "INFO:torchbiggraph:Starting epoch 5 / 30, edge path 1 / 1, edge chunk 1 / 1\n",
            "INFO:torchbiggraph:Edge path: data/train_partitioned\n",
            "INFO:torchbiggraph:still in queue: 0\n",
            "INFO:torchbiggraph:Swapping partitioned embeddings None ( 0 , 0 )\n",
            "INFO:torchbiggraph:Loading partitioned embeddings from checkpoint\n",
            "INFO:torchbiggraph:( 0 , 0 ): Stats before training: loss:  316.234 , pos_rank:  558.08 , mrr:  0.0839117 , r1:  0.0663449 , r10:  0.108442 , r50:  0.187135 , auc:  0.716547 , count:  4454\n",
            "INFO:torchbiggraph:( 0 , 0 ): Training stats: loss:  2.30065 , reg:  0 , violators_lhs:  4.51094 , violators_rhs:  3.63447 , count:  84644\n",
            "INFO:torchbiggraph:( 0 , 0 ): Stats after training: loss:  315.121 , pos_rank:  557.054 , mrr:  0.0849559 , r1:  0.0670184 , r10:  0.11181 , r50:  0.190727 , auc:  0.72463 , count:  4454\n",
            "INFO:torchbiggraph:( 0 , 0 ): bucket 1 / 1 : Trained 84644 edges in 1.05 s ( 0.081 M/sec ); Eval 2*4454 edges in 0.31 s ( 0.029 M/sec ); io: 0.02 s for 38,955,248 bytes ( 1604.75 MB/sec )\n",
            "INFO:torchbiggraph:Swapping partitioned embeddings ( 0 , 0 ) None\n",
            "INFO:torchbiggraph:Saving partitioned embeddings to checkpoint\n",
            "INFO:torchbiggraph:Finished epoch 5 / 30, edge path 1 / 1, edge chunk 1 / 1\n",
            "INFO:torchbiggraph:Writing the metadata\n",
            "INFO:torchbiggraph:Writing the training stats\n",
            "INFO:torchbiggraph:Writing the checkpoint\n",
            "INFO:torchbiggraph:Switching to the new checkpoint version\n",
            "INFO:torchbiggraph:Starting epoch 6 / 30, edge path 1 / 1, edge chunk 1 / 1\n",
            "INFO:torchbiggraph:Edge path: data/train_partitioned\n",
            "INFO:torchbiggraph:still in queue: 0\n",
            "INFO:torchbiggraph:Swapping partitioned embeddings None ( 0 , 0 )\n",
            "INFO:torchbiggraph:Loading partitioned embeddings from checkpoint\n",
            "INFO:torchbiggraph:( 0 , 0 ): Stats before training: loss:  315.408 , pos_rank:  557.576 , mrr:  0.0869275 , r1:  0.0694881 , r10:  0.111024 , r50:  0.192973 , auc:  0.721037 , count:  4454\n",
            "INFO:torchbiggraph:( 0 , 0 ): Training stats: loss:  2.2695 , reg:  0 , violators_lhs:  4.5254 , violators_rhs:  3.64286 , count:  84644\n",
            "INFO:torchbiggraph:( 0 , 0 ): Stats after training: loss:  314.096 , pos_rank:  555.363 , mrr:  0.0833248 , r1:  0.0654468 , r10:  0.109115 , r50:  0.18837 , auc:  0.715424 , count:  4454\n",
            "INFO:torchbiggraph:( 0 , 0 ): bucket 1 / 1 : Trained 84644 edges in 1.02 s ( 0.083 M/sec ); Eval 2*4454 edges in 0.32 s ( 0.028 M/sec ); io: 0.03 s for 38,955,248 bytes ( 1428.91 MB/sec )\n",
            "INFO:torchbiggraph:Swapping partitioned embeddings ( 0 , 0 ) None\n",
            "INFO:torchbiggraph:Saving partitioned embeddings to checkpoint\n",
            "INFO:torchbiggraph:Finished epoch 6 / 30, edge path 1 / 1, edge chunk 1 / 1\n",
            "INFO:torchbiggraph:Writing the metadata\n",
            "INFO:torchbiggraph:Writing the training stats\n",
            "INFO:torchbiggraph:Writing the checkpoint\n",
            "INFO:torchbiggraph:Switching to the new checkpoint version\n",
            "INFO:torchbiggraph:Starting epoch 7 / 30, edge path 1 / 1, edge chunk 1 / 1\n",
            "INFO:torchbiggraph:Edge path: data/train_partitioned\n",
            "INFO:torchbiggraph:still in queue: 0\n",
            "INFO:torchbiggraph:Swapping partitioned embeddings None ( 0 , 0 )\n",
            "INFO:torchbiggraph:Loading partitioned embeddings from checkpoint\n",
            "INFO:torchbiggraph:( 0 , 0 ): Stats before training: loss:  314.736 , pos_rank:  556.266 , mrr:  0.0832049 , r1:  0.064661 , r10:  0.108554 , r50:  0.189605 , auc:  0.722048 , count:  4454\n",
            "INFO:torchbiggraph:( 0 , 0 ): Training stats: loss:  2.23235 , reg:  0 , violators_lhs:  4.48963 , violators_rhs:  3.65981 , count:  84644\n",
            "INFO:torchbiggraph:( 0 , 0 ): Stats after training: loss:  314.717 , pos_rank:  554.646 , mrr:  0.0837213 , r1:  0.0665694 , r10:  0.10833 , r50:  0.186686 , auc:  0.719802 , count:  4454\n",
            "INFO:torchbiggraph:( 0 , 0 ): bucket 1 / 1 : Trained 84644 edges in 1.01 s ( 0.084 M/sec ); Eval 2*4454 edges in 0.33 s ( 0.027 M/sec ); io: 0.03 s for 38,955,248 bytes ( 1245.24 MB/sec )\n",
            "INFO:torchbiggraph:Swapping partitioned embeddings ( 0 , 0 ) None\n",
            "INFO:torchbiggraph:Saving partitioned embeddings to checkpoint\n",
            "INFO:torchbiggraph:Finished epoch 7 / 30, edge path 1 / 1, edge chunk 1 / 1\n",
            "INFO:torchbiggraph:Writing the metadata\n",
            "INFO:torchbiggraph:Writing the training stats\n",
            "INFO:torchbiggraph:Writing the checkpoint\n",
            "INFO:torchbiggraph:Switching to the new checkpoint version\n",
            "INFO:torchbiggraph:Starting epoch 8 / 30, edge path 1 / 1, edge chunk 1 / 1\n",
            "INFO:torchbiggraph:Edge path: data/train_partitioned\n",
            "INFO:torchbiggraph:still in queue: 0\n",
            "INFO:torchbiggraph:Swapping partitioned embeddings None ( 0 , 0 )\n",
            "INFO:torchbiggraph:Loading partitioned embeddings from checkpoint\n",
            "INFO:torchbiggraph:( 0 , 0 ): Stats before training: loss:  314.614 , pos_rank:  554.618 , mrr:  0.0838603 , r1:  0.0665694 , r10:  0.109003 , r50:  0.185227 , auc:  0.72564 , count:  4454\n",
            "INFO:torchbiggraph:( 0 , 0 ): Training stats: loss:  2.20401 , reg:  0 , violators_lhs:  4.46583 , violators_rhs:  3.5988 , count:  84644\n",
            "INFO:torchbiggraph:( 0 , 0 ): Stats after training: loss:  313.975 , pos_rank:  554.679 , mrr:  0.0841034 , r1:  0.0663449 , r10:  0.108891 , r50:  0.188595 , auc:  0.717557 , count:  4454\n",
            "INFO:torchbiggraph:( 0 , 0 ): bucket 1 / 1 : Trained 84644 edges in 1.10 s ( 0.077 M/sec ); Eval 2*4454 edges in 0.32 s ( 0.028 M/sec ); io: 0.03 s for 38,955,248 bytes ( 1554.11 MB/sec )\n",
            "INFO:torchbiggraph:Swapping partitioned embeddings ( 0 , 0 ) None\n",
            "INFO:torchbiggraph:Saving partitioned embeddings to checkpoint\n",
            "INFO:torchbiggraph:Finished epoch 8 / 30, edge path 1 / 1, edge chunk 1 / 1\n",
            "INFO:torchbiggraph:Writing the metadata\n",
            "INFO:torchbiggraph:Writing the training stats\n",
            "INFO:torchbiggraph:Writing the checkpoint\n",
            "INFO:torchbiggraph:Switching to the new checkpoint version\n",
            "INFO:torchbiggraph:Starting epoch 9 / 30, edge path 1 / 1, edge chunk 1 / 1\n",
            "INFO:torchbiggraph:Edge path: data/train_partitioned\n",
            "INFO:torchbiggraph:still in queue: 0\n",
            "INFO:torchbiggraph:Swapping partitioned embeddings None ( 0 , 0 )\n",
            "INFO:torchbiggraph:Loading partitioned embeddings from checkpoint\n",
            "INFO:torchbiggraph:( 0 , 0 ): Stats before training: loss:  314.384 , pos_rank:  554.532 , mrr:  0.0854432 , r1:  0.0682533 , r10:  0.108891 , r50:  0.187584 , auc:  0.72463 , count:  4454\n",
            "INFO:torchbiggraph:( 0 , 0 ): Training stats: loss:  2.18395 , reg:  0 , violators_lhs:  4.47871 , violators_rhs:  3.63136 , count:  84644\n",
            "INFO:torchbiggraph:( 0 , 0 ): Stats after training: loss:  314.132 , pos_rank:  554.664 , mrr:  0.0813262 , r1:  0.0638752 , r10:  0.105748 , r50:  0.184329 , auc:  0.719241 , count:  4454\n",
            "INFO:torchbiggraph:( 0 , 0 ): bucket 1 / 1 : Trained 84644 edges in 1.03 s ( 0.082 M/sec ); Eval 2*4454 edges in 0.31 s ( 0.028 M/sec ); io: 0.03 s for 38,955,248 bytes ( 1425.09 MB/sec )\n",
            "INFO:torchbiggraph:Swapping partitioned embeddings ( 0 , 0 ) None\n",
            "INFO:torchbiggraph:Saving partitioned embeddings to checkpoint\n",
            "INFO:torchbiggraph:Finished epoch 9 / 30, edge path 1 / 1, edge chunk 1 / 1\n",
            "INFO:torchbiggraph:Writing the metadata\n",
            "INFO:torchbiggraph:Writing the training stats\n",
            "INFO:torchbiggraph:Writing the checkpoint\n",
            "INFO:torchbiggraph:Switching to the new checkpoint version\n",
            "INFO:torchbiggraph:Starting epoch 10 / 30, edge path 1 / 1, edge chunk 1 / 1\n",
            "INFO:torchbiggraph:Edge path: data/train_partitioned\n",
            "INFO:torchbiggraph:still in queue: 0\n",
            "INFO:torchbiggraph:Swapping partitioned embeddings None ( 0 , 0 )\n",
            "INFO:torchbiggraph:Loading partitioned embeddings from checkpoint\n",
            "INFO:torchbiggraph:( 0 , 0 ): Stats before training: loss:  314.613 , pos_rank:  554.498 , mrr:  0.0816157 , r1:  0.0642119 , r10:  0.106646 , r50:  0.185115 , auc:  0.720251 , count:  4454\n",
            "INFO:torchbiggraph:( 0 , 0 ): Training stats: loss:  2.16019 , reg:  0 , violators_lhs:  4.45709 , violators_rhs:  3.618 , count:  84644\n",
            "INFO:torchbiggraph:( 0 , 0 ): Stats after training: loss:  313.642 , pos_rank:  553.446 , mrr:  0.0861213 , r1:  0.0680287 , r10:  0.111024 , r50:  0.19084 , auc:  0.720027 , count:  4454\n",
            "INFO:torchbiggraph:( 0 , 0 ): bucket 1 / 1 : Trained 84644 edges in 1.08 s ( 0.079 M/sec ); Eval 2*4454 edges in 0.32 s ( 0.028 M/sec ); io: 0.03 s for 38,955,248 bytes ( 1466.66 MB/sec )\n",
            "INFO:torchbiggraph:Swapping partitioned embeddings ( 0 , 0 ) None\n",
            "INFO:torchbiggraph:Saving partitioned embeddings to checkpoint\n",
            "INFO:torchbiggraph:Finished epoch 10 / 30, edge path 1 / 1, edge chunk 1 / 1\n",
            "INFO:torchbiggraph:Writing the metadata\n",
            "INFO:torchbiggraph:Writing the training stats\n",
            "INFO:torchbiggraph:Writing the checkpoint\n",
            "INFO:torchbiggraph:Switching to the new checkpoint version\n",
            "INFO:torchbiggraph:Starting epoch 11 / 30, edge path 1 / 1, edge chunk 1 / 1\n",
            "INFO:torchbiggraph:Edge path: data/train_partitioned\n",
            "INFO:torchbiggraph:still in queue: 0\n",
            "INFO:torchbiggraph:Swapping partitioned embeddings None ( 0 , 0 )\n",
            "INFO:torchbiggraph:Loading partitioned embeddings from checkpoint\n",
            "INFO:torchbiggraph:( 0 , 0 ): Stats before training: loss:  313.567 , pos_rank:  552.654 , mrr:  0.0855009 , r1:  0.0671307 , r10:  0.111024 , r50:  0.189605 , auc:  0.725752 , count:  4454\n",
            "INFO:torchbiggraph:( 0 , 0 ): Training stats: loss:  2.14772 , reg:  0 , violators_lhs:  4.47148 , violators_rhs:  3.62665 , count:  84644\n",
            "INFO:torchbiggraph:( 0 , 0 ): Stats after training: loss:  314.602 , pos_rank:  553.532 , mrr:  0.0887674 , r1:  0.0718455 , r10:  0.112483 , r50:  0.189156 , auc:  0.714751 , count:  4454\n",
            "INFO:torchbiggraph:( 0 , 0 ): bucket 1 / 1 : Trained 84644 edges in 1.08 s ( 0.079 M/sec ); Eval 2*4454 edges in 0.32 s ( 0.028 M/sec ); io: 0.02 s for 38,955,248 bytes ( 1697.27 MB/sec )\n",
            "INFO:torchbiggraph:Swapping partitioned embeddings ( 0 , 0 ) None\n",
            "INFO:torchbiggraph:Saving partitioned embeddings to checkpoint\n",
            "INFO:torchbiggraph:Finished epoch 11 / 30, edge path 1 / 1, edge chunk 1 / 1\n",
            "INFO:torchbiggraph:Writing the metadata\n",
            "INFO:torchbiggraph:Writing the training stats\n",
            "INFO:torchbiggraph:Writing the checkpoint\n",
            "INFO:torchbiggraph:Switching to the new checkpoint version\n",
            "INFO:torchbiggraph:Starting epoch 12 / 30, edge path 1 / 1, edge chunk 1 / 1\n",
            "INFO:torchbiggraph:Edge path: data/train_partitioned\n",
            "INFO:torchbiggraph:still in queue: 0\n",
            "INFO:torchbiggraph:Swapping partitioned embeddings None ( 0 , 0 )\n",
            "INFO:torchbiggraph:Loading partitioned embeddings from checkpoint\n",
            "INFO:torchbiggraph:( 0 , 0 ): Stats before training: loss:  313.889 , pos_rank:  553.54 , mrr:  0.0879545 , r1:  0.0706107 , r10:  0.112259 , r50:  0.190615 , auc:  0.729457 , count:  4454\n",
            "INFO:torchbiggraph:( 0 , 0 ): Training stats: loss:  2.12611 , reg:  0 , violators_lhs:  4.45628 , violators_rhs:  3.61151 , count:  84644\n",
            "INFO:torchbiggraph:( 0 , 0 ): Stats after training: loss:  314.258 , pos_rank:  553.794 , mrr:  0.0844906 , r1:  0.0660081 , r10:  0.110013 , r50:  0.18736 , auc:  0.722048 , count:  4454\n",
            "INFO:torchbiggraph:( 0 , 0 ): bucket 1 / 1 : Trained 84644 edges in 1.13 s ( 0.075 M/sec ); Eval 2*4454 edges in 0.31 s ( 0.029 M/sec ); io: 0.03 s for 38,955,248 bytes ( 1529.79 MB/sec )\n",
            "INFO:torchbiggraph:Swapping partitioned embeddings ( 0 , 0 ) None\n",
            "INFO:torchbiggraph:Saving partitioned embeddings to checkpoint\n",
            "INFO:torchbiggraph:Finished epoch 12 / 30, edge path 1 / 1, edge chunk 1 / 1\n",
            "INFO:torchbiggraph:Writing the metadata\n",
            "INFO:torchbiggraph:Writing the training stats\n",
            "INFO:torchbiggraph:Writing the checkpoint\n",
            "INFO:torchbiggraph:Switching to the new checkpoint version\n",
            "INFO:torchbiggraph:Starting epoch 13 / 30, edge path 1 / 1, edge chunk 1 / 1\n",
            "INFO:torchbiggraph:Edge path: data/train_partitioned\n",
            "INFO:torchbiggraph:still in queue: 0\n",
            "INFO:torchbiggraph:Swapping partitioned embeddings None ( 0 , 0 )\n",
            "INFO:torchbiggraph:Loading partitioned embeddings from checkpoint\n",
            "INFO:torchbiggraph:( 0 , 0 ): Stats before training: loss:  313.963 , pos_rank:  554.425 , mrr:  0.0849118 , r1:  0.0667939 , r10:  0.109789 , r50:  0.189268 , auc:  0.729906 , count:  4454\n",
            "INFO:torchbiggraph:( 0 , 0 ): Training stats: loss:  2.10651 , reg:  0 , violators_lhs:  4.45991 , violators_rhs:  3.60113 , count:  84644\n",
            "INFO:torchbiggraph:( 0 , 0 ): Stats after training: loss:  315.022 , pos_rank:  554.234 , mrr:  0.0892378 , r1:  0.0726313 , r10:  0.112483 , r50:  0.187921 , auc:  0.720139 , count:  4454\n",
            "INFO:torchbiggraph:( 0 , 0 ): bucket 1 / 1 : Trained 84644 edges in 1.15 s ( 0.074 M/sec ); Eval 2*4454 edges in 0.30 s ( 0.03 M/sec ); io: 0.03 s for 38,955,248 bytes ( 1457.55 MB/sec )\n",
            "INFO:torchbiggraph:Swapping partitioned embeddings ( 0 , 0 ) None\n",
            "INFO:torchbiggraph:Saving partitioned embeddings to checkpoint\n",
            "INFO:torchbiggraph:Finished epoch 13 / 30, edge path 1 / 1, edge chunk 1 / 1\n",
            "INFO:torchbiggraph:Writing the metadata\n",
            "INFO:torchbiggraph:Writing the training stats\n",
            "INFO:torchbiggraph:Writing the checkpoint\n",
            "INFO:torchbiggraph:Switching to the new checkpoint version\n",
            "INFO:torchbiggraph:Starting epoch 14 / 30, edge path 1 / 1, edge chunk 1 / 1\n",
            "INFO:torchbiggraph:Edge path: data/train_partitioned\n",
            "INFO:torchbiggraph:still in queue: 0\n",
            "INFO:torchbiggraph:Swapping partitioned embeddings None ( 0 , 0 )\n",
            "INFO:torchbiggraph:Loading partitioned embeddings from checkpoint\n",
            "INFO:torchbiggraph:( 0 , 0 ): Stats before training: loss:  314.98 , pos_rank:  554.829 , mrr:  0.0895867 , r1:  0.071621 , r10:  0.114279 , r50:  0.187921 , auc:  0.722946 , count:  4454\n",
            "INFO:torchbiggraph:( 0 , 0 ): Training stats: loss:  2.0926 , reg:  0 , violators_lhs:  4.44102 , violators_rhs:  3.5698 , count:  84644\n",
            "INFO:torchbiggraph:( 0 , 0 ): Stats after training: loss:  314.451 , pos_rank:  554.802 , mrr:  0.0853132 , r1:  0.0691513 , r10:  0.109003 , r50:  0.185115 , auc:  0.721037 , count:  4454\n",
            "INFO:torchbiggraph:( 0 , 0 ): bucket 1 / 1 : Trained 84644 edges in 1.11 s ( 0.076 M/sec ); Eval 2*4454 edges in 0.31 s ( 0.028 M/sec ); io: 0.03 s for 38,955,248 bytes ( 1377.36 MB/sec )\n",
            "INFO:torchbiggraph:Swapping partitioned embeddings ( 0 , 0 ) None\n",
            "INFO:torchbiggraph:Saving partitioned embeddings to checkpoint\n",
            "INFO:torchbiggraph:Finished epoch 14 / 30, edge path 1 / 1, edge chunk 1 / 1\n",
            "INFO:torchbiggraph:Writing the metadata\n",
            "INFO:torchbiggraph:Writing the training stats\n",
            "INFO:torchbiggraph:Writing the checkpoint\n",
            "INFO:torchbiggraph:Switching to the new checkpoint version\n",
            "INFO:torchbiggraph:Starting epoch 15 / 30, edge path 1 / 1, edge chunk 1 / 1\n",
            "INFO:torchbiggraph:Edge path: data/train_partitioned\n",
            "INFO:torchbiggraph:still in queue: 0\n",
            "INFO:torchbiggraph:Swapping partitioned embeddings None ( 0 , 0 )\n",
            "INFO:torchbiggraph:Loading partitioned embeddings from checkpoint\n",
            "INFO:torchbiggraph:( 0 , 0 ): Stats before training: loss:  314.603 , pos_rank:  554.494 , mrr:  0.0858326 , r1:  0.0691513 , r10:  0.109228 , r50:  0.184329 , auc:  0.7207 , count:  4454\n",
            "INFO:torchbiggraph:( 0 , 0 ): Training stats: loss:  2.07579 , reg:  0 , violators_lhs:  4.44779 , violators_rhs:  3.58596 , count:  84644\n",
            "INFO:torchbiggraph:( 0 , 0 ): Stats after training: loss:  314.633 , pos_rank:  553.969 , mrr:  0.0805949 , r1:  0.0632016 , r10:  0.105299 , r50:  0.185451 , auc:  0.72463 , count:  4454\n",
            "INFO:torchbiggraph:( 0 , 0 ): bucket 1 / 1 : Trained 84644 edges in 1.15 s ( 0.074 M/sec ); Eval 2*4454 edges in 0.31 s ( 0.028 M/sec ); io: 0.02 s for 38,955,248 bytes ( 1741.99 MB/sec )\n",
            "INFO:torchbiggraph:Swapping partitioned embeddings ( 0 , 0 ) None\n",
            "INFO:torchbiggraph:Saving partitioned embeddings to checkpoint\n",
            "INFO:torchbiggraph:Finished epoch 15 / 30, edge path 1 / 1, edge chunk 1 / 1\n",
            "INFO:torchbiggraph:Writing the metadata\n",
            "INFO:torchbiggraph:Writing the training stats\n",
            "INFO:torchbiggraph:Writing the checkpoint\n",
            "INFO:torchbiggraph:Switching to the new checkpoint version\n",
            "INFO:torchbiggraph:Starting epoch 16 / 30, edge path 1 / 1, edge chunk 1 / 1\n",
            "INFO:torchbiggraph:Edge path: data/train_partitioned\n",
            "INFO:torchbiggraph:still in queue: 0\n",
            "INFO:torchbiggraph:Swapping partitioned embeddings None ( 0 , 0 )\n",
            "INFO:torchbiggraph:Loading partitioned embeddings from checkpoint\n",
            "INFO:torchbiggraph:( 0 , 0 ): Stats before training: loss:  314.468 , pos_rank:  554.164 , mrr:  0.0804884 , r1:  0.0633139 , r10:  0.103727 , r50:  0.183206 , auc:  0.729344 , count:  4454\n",
            "INFO:torchbiggraph:( 0 , 0 ): Training stats: loss:  2.06547 , reg:  0 , violators_lhs:  4.44985 , violators_rhs:  3.61153 , count:  84644\n",
            "INFO:torchbiggraph:( 0 , 0 ): Stats after training: loss:  314.364 , pos_rank:  554.425 , mrr:  0.0873675 , r1:  0.0706107 , r10:  0.111361 , r50:  0.189156 , auc:  0.72564 , count:  4454\n",
            "INFO:torchbiggraph:( 0 , 0 ): bucket 1 / 1 : Trained 84644 edges in 1.17 s ( 0.072 M/sec ); Eval 2*4454 edges in 0.33 s ( 0.027 M/sec ); io: 0.03 s for 38,955,248 bytes ( 1536.90 MB/sec )\n",
            "INFO:torchbiggraph:Swapping partitioned embeddings ( 0 , 0 ) None\n",
            "INFO:torchbiggraph:Saving partitioned embeddings to checkpoint\n",
            "INFO:torchbiggraph:Finished epoch 16 / 30, edge path 1 / 1, edge chunk 1 / 1\n",
            "INFO:torchbiggraph:Writing the metadata\n",
            "INFO:torchbiggraph:Writing the training stats\n",
            "INFO:torchbiggraph:Writing the checkpoint\n",
            "INFO:torchbiggraph:Switching to the new checkpoint version\n",
            "INFO:torchbiggraph:Starting epoch 17 / 30, edge path 1 / 1, edge chunk 1 / 1\n",
            "INFO:torchbiggraph:Edge path: data/train_partitioned\n",
            "INFO:torchbiggraph:still in queue: 0\n",
            "INFO:torchbiggraph:Swapping partitioned embeddings None ( 0 , 0 )\n",
            "INFO:torchbiggraph:Loading partitioned embeddings from checkpoint\n",
            "INFO:torchbiggraph:( 0 , 0 ): Stats before training: loss:  315.072 , pos_rank:  554.565 , mrr:  0.0862109 , r1:  0.0683655 , r10:  0.11035 , r50:  0.187809 , auc:  0.719578 , count:  4454\n",
            "INFO:torchbiggraph:( 0 , 0 ): Training stats: loss:  2.0552 , reg:  0 , violators_lhs:  4.45618 , violators_rhs:  3.58543 , count:  84644\n",
            "INFO:torchbiggraph:( 0 , 0 ): Stats after training: loss:  315.363 , pos_rank:  553.277 , mrr:  0.0877165 , r1:  0.0704984 , r10:  0.111922 , r50:  0.187135 , auc:  0.722833 , count:  4454\n",
            "INFO:torchbiggraph:( 0 , 0 ): bucket 1 / 1 : Trained 84644 edges in 1.78 s ( 0.048 M/sec ); Eval 2*4454 edges in 0.40 s ( 0.022 M/sec ); io: 0.03 s for 38,955,248 bytes ( 1226.31 MB/sec )\n",
            "INFO:torchbiggraph:Swapping partitioned embeddings ( 0 , 0 ) None\n",
            "INFO:torchbiggraph:Saving partitioned embeddings to checkpoint\n",
            "INFO:torchbiggraph:Finished epoch 17 / 30, edge path 1 / 1, edge chunk 1 / 1\n",
            "INFO:torchbiggraph:Writing the metadata\n",
            "INFO:torchbiggraph:Writing the training stats\n",
            "INFO:torchbiggraph:Writing the checkpoint\n",
            "INFO:torchbiggraph:Switching to the new checkpoint version\n",
            "INFO:torchbiggraph:Starting epoch 18 / 30, edge path 1 / 1, edge chunk 1 / 1\n",
            "INFO:torchbiggraph:Edge path: data/train_partitioned\n",
            "INFO:torchbiggraph:still in queue: 0\n",
            "INFO:torchbiggraph:Swapping partitioned embeddings None ( 0 , 0 )\n",
            "INFO:torchbiggraph:Loading partitioned embeddings from checkpoint\n",
            "INFO:torchbiggraph:( 0 , 0 ): Stats before training: loss:  314.668 , pos_rank:  553.024 , mrr:  0.0881425 , r1:  0.0708352 , r10:  0.114279 , r50:  0.189268 , auc:  0.723619 , count:  4454\n",
            "INFO:torchbiggraph:( 0 , 0 ): Training stats: loss:  2.04001 , reg:  0 , violators_lhs:  4.45745 , violators_rhs:  3.60092 , count:  84644\n",
            "INFO:torchbiggraph:( 0 , 0 ): Stats after training: loss:  315.041 , pos_rank:  553.546 , mrr:  0.0906223 , r1:  0.0730804 , r10:  0.114055 , r50:  0.190503 , auc:  0.72463 , count:  4454\n",
            "INFO:torchbiggraph:( 0 , 0 ): bucket 1 / 1 : Trained 84644 edges in 1.10 s ( 0.077 M/sec ); Eval 2*4454 edges in 0.32 s ( 0.028 M/sec ); io: 0.03 s for 38,955,248 bytes ( 1433.89 MB/sec )\n",
            "INFO:torchbiggraph:Swapping partitioned embeddings ( 0 , 0 ) None\n",
            "INFO:torchbiggraph:Saving partitioned embeddings to checkpoint\n",
            "INFO:torchbiggraph:Finished epoch 18 / 30, edge path 1 / 1, edge chunk 1 / 1\n",
            "INFO:torchbiggraph:Writing the metadata\n",
            "INFO:torchbiggraph:Writing the training stats\n",
            "INFO:torchbiggraph:Writing the checkpoint\n",
            "INFO:torchbiggraph:Switching to the new checkpoint version\n",
            "INFO:torchbiggraph:Starting epoch 19 / 30, edge path 1 / 1, edge chunk 1 / 1\n",
            "INFO:torchbiggraph:Edge path: data/train_partitioned\n",
            "INFO:torchbiggraph:still in queue: 0\n",
            "INFO:torchbiggraph:Swapping partitioned embeddings None ( 0 , 0 )\n",
            "INFO:torchbiggraph:Loading partitioned embeddings from checkpoint\n",
            "INFO:torchbiggraph:( 0 , 0 ): Stats before training: loss:  315.022 , pos_rank:  554.214 , mrr:  0.0898502 , r1:  0.0715088 , r10:  0.115739 , r50:  0.190166 , auc:  0.725528 , count:  4454\n",
            "INFO:torchbiggraph:( 0 , 0 ): Training stats: loss:  2.03148 , reg:  0 , violators_lhs:  4.46707 , violators_rhs:  3.60002 , count:  84644\n",
            "INFO:torchbiggraph:( 0 , 0 ): Stats after training: loss:  315.164 , pos_rank:  553.987 , mrr:  0.0892093 , r1:  0.0713965 , r10:  0.114504 , r50:  0.190615 , auc:  0.723395 , count:  4454\n",
            "INFO:torchbiggraph:( 0 , 0 ): bucket 1 / 1 : Trained 84644 edges in 1.17 s ( 0.073 M/sec ); Eval 2*4454 edges in 0.32 s ( 0.028 M/sec ); io: 0.03 s for 38,955,248 bytes ( 1498.46 MB/sec )\n",
            "INFO:torchbiggraph:Swapping partitioned embeddings ( 0 , 0 ) None\n",
            "INFO:torchbiggraph:Saving partitioned embeddings to checkpoint\n",
            "INFO:torchbiggraph:Finished epoch 19 / 30, edge path 1 / 1, edge chunk 1 / 1\n",
            "INFO:torchbiggraph:Writing the metadata\n",
            "INFO:torchbiggraph:Writing the training stats\n",
            "INFO:torchbiggraph:Writing the checkpoint\n",
            "INFO:torchbiggraph:Switching to the new checkpoint version\n",
            "INFO:torchbiggraph:Starting epoch 20 / 30, edge path 1 / 1, edge chunk 1 / 1\n",
            "INFO:torchbiggraph:Edge path: data/train_partitioned\n",
            "INFO:torchbiggraph:still in queue: 0\n",
            "INFO:torchbiggraph:Swapping partitioned embeddings None ( 0 , 0 )\n",
            "INFO:torchbiggraph:Loading partitioned embeddings from checkpoint\n",
            "INFO:torchbiggraph:( 0 , 0 ): Stats before training: loss:  315.437 , pos_rank:  554.035 , mrr:  0.0894066 , r1:  0.0718455 , r10:  0.11383 , r50:  0.190278 , auc:  0.728334 , count:  4454\n",
            "INFO:torchbiggraph:( 0 , 0 ): Training stats: loss:  2.0173 , reg:  0 , violators_lhs:  4.45752 , violators_rhs:  3.56557 , count:  84644\n",
            "INFO:torchbiggraph:( 0 , 0 ): Stats after training: loss:  315.186 , pos_rank:  552.402 , mrr:  0.092148 , r1:  0.0757746 , r10:  0.116861 , r50:  0.188931 , auc:  0.722272 , count:  4454\n",
            "INFO:torchbiggraph:( 0 , 0 ): bucket 1 / 1 : Trained 84644 edges in 1.12 s ( 0.076 M/sec ); Eval 2*4454 edges in 0.31 s ( 0.028 M/sec ); io: 0.03 s for 38,955,248 bytes ( 1413.69 MB/sec )\n",
            "INFO:torchbiggraph:Swapping partitioned embeddings ( 0 , 0 ) None\n",
            "INFO:torchbiggraph:Saving partitioned embeddings to checkpoint\n",
            "INFO:torchbiggraph:Finished epoch 20 / 30, edge path 1 / 1, edge chunk 1 / 1\n",
            "INFO:torchbiggraph:Writing the metadata\n",
            "INFO:torchbiggraph:Writing the training stats\n",
            "INFO:torchbiggraph:Writing the checkpoint\n",
            "INFO:torchbiggraph:Switching to the new checkpoint version\n",
            "INFO:torchbiggraph:Starting epoch 21 / 30, edge path 1 / 1, edge chunk 1 / 1\n",
            "INFO:torchbiggraph:Edge path: data/train_partitioned\n",
            "INFO:torchbiggraph:still in queue: 0\n",
            "INFO:torchbiggraph:Swapping partitioned embeddings None ( 0 , 0 )\n",
            "INFO:torchbiggraph:Loading partitioned embeddings from checkpoint\n",
            "INFO:torchbiggraph:( 0 , 0 ): Stats before training: loss:  315.201 , pos_rank:  552.142 , mrr:  0.0903135 , r1:  0.0731926 , r10:  0.114841 , r50:  0.189605 , auc:  0.724742 , count:  4454\n",
            "INFO:torchbiggraph:( 0 , 0 ): Training stats: loss:  2.00632 , reg:  0 , violators_lhs:  4.45214 , violators_rhs:  3.57209 , count:  84644\n",
            "INFO:torchbiggraph:( 0 , 0 ): Stats after training: loss:  314.393 , pos_rank:  553.421 , mrr:  0.0875832 , r1:  0.0709475 , r10:  0.108666 , r50:  0.190054 , auc:  0.724517 , count:  4454\n",
            "INFO:torchbiggraph:( 0 , 0 ): bucket 1 / 1 : Trained 84644 edges in 1.19 s ( 0.071 M/sec ); Eval 2*4454 edges in 0.33 s ( 0.027 M/sec ); io: 0.03 s for 38,955,248 bytes ( 1475.04 MB/sec )\n",
            "INFO:torchbiggraph:Swapping partitioned embeddings ( 0 , 0 ) None\n",
            "INFO:torchbiggraph:Saving partitioned embeddings to checkpoint\n",
            "INFO:torchbiggraph:Finished epoch 21 / 30, edge path 1 / 1, edge chunk 1 / 1\n",
            "INFO:torchbiggraph:Writing the metadata\n",
            "INFO:torchbiggraph:Writing the training stats\n",
            "INFO:torchbiggraph:Writing the checkpoint\n",
            "INFO:torchbiggraph:Switching to the new checkpoint version\n",
            "INFO:torchbiggraph:Starting epoch 22 / 30, edge path 1 / 1, edge chunk 1 / 1\n",
            "INFO:torchbiggraph:Edge path: data/train_partitioned\n",
            "INFO:torchbiggraph:still in queue: 0\n",
            "INFO:torchbiggraph:Swapping partitioned embeddings None ( 0 , 0 )\n",
            "INFO:torchbiggraph:Loading partitioned embeddings from checkpoint\n",
            "INFO:torchbiggraph:( 0 , 0 ): Stats before training: loss:  315.108 , pos_rank:  553.459 , mrr:  0.0849177 , r1:  0.0662326 , r10:  0.111473 , r50:  0.191401 , auc:  0.721823 , count:  4454\n",
            "INFO:torchbiggraph:( 0 , 0 ): Training stats: loss:  1.99627 , reg:  0 , violators_lhs:  4.43614 , violators_rhs:  3.61457 , count:  84644\n",
            "INFO:torchbiggraph:( 0 , 0 ): Stats after training: loss:  315.259 , pos_rank:  551.279 , mrr:  0.0920658 , r1:  0.0757746 , r10:  0.1163 , r50:  0.19084 , auc:  0.718343 , count:  4454\n",
            "INFO:torchbiggraph:( 0 , 0 ): bucket 1 / 1 : Trained 84644 edges in 1.18 s ( 0.072 M/sec ); Eval 2*4454 edges in 0.31 s ( 0.029 M/sec ); io: 0.03 s for 38,955,248 bytes ( 1546.95 MB/sec )\n",
            "INFO:torchbiggraph:Swapping partitioned embeddings ( 0 , 0 ) None\n",
            "INFO:torchbiggraph:Saving partitioned embeddings to checkpoint\n",
            "INFO:torchbiggraph:Finished epoch 22 / 30, edge path 1 / 1, edge chunk 1 / 1\n",
            "INFO:torchbiggraph:Writing the metadata\n",
            "INFO:torchbiggraph:Writing the training stats\n",
            "INFO:torchbiggraph:Writing the checkpoint\n",
            "INFO:torchbiggraph:Switching to the new checkpoint version\n",
            "INFO:torchbiggraph:Starting epoch 23 / 30, edge path 1 / 1, edge chunk 1 / 1\n",
            "INFO:torchbiggraph:Edge path: data/train_partitioned\n",
            "INFO:torchbiggraph:still in queue: 0\n",
            "INFO:torchbiggraph:Swapping partitioned embeddings None ( 0 , 0 )\n",
            "INFO:torchbiggraph:Loading partitioned embeddings from checkpoint\n",
            "INFO:torchbiggraph:( 0 , 0 ): Stats before training: loss:  314.958 , pos_rank:  551.461 , mrr:  0.0908259 , r1:  0.0743152 , r10:  0.117198 , r50:  0.190615 , auc:  0.7152 , count:  4454\n",
            "INFO:torchbiggraph:( 0 , 0 ): Training stats: loss:  1.99073 , reg:  0 , violators_lhs:  4.45787 , violators_rhs:  3.62861 , count:  84644\n",
            "INFO:torchbiggraph:( 0 , 0 ): Stats after training: loss:  314.271 , pos_rank:  551.041 , mrr:  0.092117 , r1:  0.0752133 , r10:  0.1163 , r50:  0.191289 , auc:  0.726762 , count:  4454\n",
            "INFO:torchbiggraph:( 0 , 0 ): bucket 1 / 1 : Trained 84644 edges in 1.17 s ( 0.072 M/sec ); Eval 2*4454 edges in 0.30 s ( 0.029 M/sec ); io: 0.03 s for 38,955,248 bytes ( 1271.92 MB/sec )\n",
            "INFO:torchbiggraph:Swapping partitioned embeddings ( 0 , 0 ) None\n",
            "INFO:torchbiggraph:Saving partitioned embeddings to checkpoint\n",
            "INFO:torchbiggraph:Finished epoch 23 / 30, edge path 1 / 1, edge chunk 1 / 1\n",
            "INFO:torchbiggraph:Writing the metadata\n",
            "INFO:torchbiggraph:Writing the training stats\n",
            "INFO:torchbiggraph:Writing the checkpoint\n",
            "INFO:torchbiggraph:Switching to the new checkpoint version\n",
            "INFO:torchbiggraph:Starting epoch 24 / 30, edge path 1 / 1, edge chunk 1 / 1\n",
            "INFO:torchbiggraph:Edge path: data/train_partitioned\n",
            "INFO:torchbiggraph:still in queue: 0\n",
            "INFO:torchbiggraph:Swapping partitioned embeddings None ( 0 , 0 )\n",
            "INFO:torchbiggraph:Loading partitioned embeddings from checkpoint\n",
            "INFO:torchbiggraph:( 0 , 0 ): Stats before training: loss:  314.579 , pos_rank:  551.576 , mrr:  0.0921133 , r1:  0.0747643 , r10:  0.116861 , r50:  0.191626 , auc:  0.722609 , count:  4454\n",
            "INFO:torchbiggraph:( 0 , 0 ): Training stats: loss:  1.97674 , reg:  0 , violators_lhs:  4.43568 , violators_rhs:  3.60836 , count:  84644\n",
            "INFO:torchbiggraph:( 0 , 0 ): Stats after training: loss:  315.066 , pos_rank:  551.219 , mrr:  0.0900826 , r1:  0.0728559 , r10:  0.115514 , r50:  0.190503 , auc:  0.707342 , count:  4454\n",
            "INFO:torchbiggraph:( 0 , 0 ): bucket 1 / 1 : Trained 84644 edges in 1.16 s ( 0.073 M/sec ); Eval 2*4454 edges in 0.32 s ( 0.028 M/sec ); io: 0.02 s for 38,955,248 bytes ( 1602.16 MB/sec )\n",
            "INFO:torchbiggraph:Swapping partitioned embeddings ( 0 , 0 ) None\n",
            "INFO:torchbiggraph:Saving partitioned embeddings to checkpoint\n",
            "INFO:torchbiggraph:Finished epoch 24 / 30, edge path 1 / 1, edge chunk 1 / 1\n",
            "INFO:torchbiggraph:Writing the metadata\n",
            "INFO:torchbiggraph:Writing the training stats\n",
            "INFO:torchbiggraph:Writing the checkpoint\n",
            "INFO:torchbiggraph:Switching to the new checkpoint version\n",
            "INFO:torchbiggraph:Starting epoch 25 / 30, edge path 1 / 1, edge chunk 1 / 1\n",
            "INFO:torchbiggraph:Edge path: data/train_partitioned\n",
            "INFO:torchbiggraph:still in queue: 0\n",
            "INFO:torchbiggraph:Swapping partitioned embeddings None ( 0 , 0 )\n",
            "INFO:torchbiggraph:Loading partitioned embeddings from checkpoint\n",
            "INFO:torchbiggraph:( 0 , 0 ): Stats before training: loss:  314.745 , pos_rank:  551.638 , mrr:  0.0905828 , r1:  0.0739784 , r10:  0.114279 , r50:  0.190952 , auc:  0.729232 , count:  4454\n",
            "INFO:torchbiggraph:( 0 , 0 ): Training stats: loss:  1.96347 , reg:  0 , violators_lhs:  4.423 , violators_rhs:  3.57422 , count:  84644\n",
            "INFO:torchbiggraph:( 0 , 0 ): Stats after training: loss:  314.316 , pos_rank:  551.799 , mrr:  0.0894041 , r1:  0.07207 , r10:  0.114279 , r50:  0.188258 , auc:  0.722609 , count:  4454\n",
            "INFO:torchbiggraph:( 0 , 0 ): bucket 1 / 1 : Trained 84644 edges in 1.09 s ( 0.077 M/sec ); Eval 2*4454 edges in 0.32 s ( 0.027 M/sec ); io: 0.02 s for 38,955,248 bytes ( 1804.90 MB/sec )\n",
            "INFO:torchbiggraph:Swapping partitioned embeddings ( 0 , 0 ) None\n",
            "INFO:torchbiggraph:Saving partitioned embeddings to checkpoint\n",
            "INFO:torchbiggraph:Finished epoch 25 / 30, edge path 1 / 1, edge chunk 1 / 1\n",
            "INFO:torchbiggraph:Writing the metadata\n",
            "INFO:torchbiggraph:Writing the training stats\n",
            "INFO:torchbiggraph:Writing the checkpoint\n",
            "INFO:torchbiggraph:Switching to the new checkpoint version\n",
            "INFO:torchbiggraph:Starting epoch 26 / 30, edge path 1 / 1, edge chunk 1 / 1\n",
            "INFO:torchbiggraph:Edge path: data/train_partitioned\n",
            "INFO:torchbiggraph:still in queue: 0\n",
            "INFO:torchbiggraph:Swapping partitioned embeddings None ( 0 , 0 )\n",
            "INFO:torchbiggraph:Loading partitioned embeddings from checkpoint\n",
            "INFO:torchbiggraph:( 0 , 0 ): Stats before training: loss:  314.811 , pos_rank:  552.414 , mrr:  0.0895465 , r1:  0.0731926 , r10:  0.112483 , r50:  0.187921 , auc:  0.723058 , count:  4454\n",
            "INFO:torchbiggraph:( 0 , 0 ): Training stats: loss:  1.96436 , reg:  0 , violators_lhs:  4.44348 , violators_rhs:  3.6085 , count:  84644\n",
            "INFO:torchbiggraph:( 0 , 0 ): Stats after training: loss:  314.928 , pos_rank:  550.563 , mrr:  0.0908304 , r1:  0.0733049 , r10:  0.116861 , r50:  0.193422 , auc:  0.718006 , count:  4454\n",
            "INFO:torchbiggraph:( 0 , 0 ): bucket 1 / 1 : Trained 84644 edges in 1.12 s ( 0.076 M/sec ); Eval 2*4454 edges in 0.30 s ( 0.03 M/sec ); io: 0.02 s for 38,955,248 bytes ( 1612.20 MB/sec )\n",
            "INFO:torchbiggraph:Swapping partitioned embeddings ( 0 , 0 ) None\n",
            "INFO:torchbiggraph:Saving partitioned embeddings to checkpoint\n",
            "INFO:torchbiggraph:Finished epoch 26 / 30, edge path 1 / 1, edge chunk 1 / 1\n",
            "INFO:torchbiggraph:Writing the metadata\n",
            "INFO:torchbiggraph:Writing the training stats\n",
            "INFO:torchbiggraph:Writing the checkpoint\n",
            "INFO:torchbiggraph:Switching to the new checkpoint version\n",
            "INFO:torchbiggraph:Starting epoch 27 / 30, edge path 1 / 1, edge chunk 1 / 1\n",
            "INFO:torchbiggraph:Edge path: data/train_partitioned\n",
            "INFO:torchbiggraph:still in queue: 0\n",
            "INFO:torchbiggraph:Swapping partitioned embeddings None ( 0 , 0 )\n",
            "INFO:torchbiggraph:Loading partitioned embeddings from checkpoint\n",
            "INFO:torchbiggraph:( 0 , 0 ): Stats before training: loss:  315.014 , pos_rank:  551.213 , mrr:  0.0914858 , r1:  0.0739784 , r10:  0.116637 , r50:  0.192636 , auc:  0.718568 , count:  4454\n",
            "INFO:torchbiggraph:( 0 , 0 ): Training stats: loss:  1.95773 , reg:  0 , violators_lhs:  4.4491 , violators_rhs:  3.6322 , count:  84644\n",
            "INFO:torchbiggraph:( 0 , 0 ): Stats after training: loss:  314.934 , pos_rank:  551.737 , mrr:  0.0862414 , r1:  0.0674674 , r10:  0.111024 , r50:  0.188931 , auc:  0.724854 , count:  4454\n",
            "INFO:torchbiggraph:( 0 , 0 ): bucket 1 / 1 : Trained 84644 edges in 1.10 s ( 0.077 M/sec ); Eval 2*4454 edges in 0.30 s ( 0.03 M/sec ); io: 0.03 s for 38,955,248 bytes ( 1517.60 MB/sec )\n",
            "INFO:torchbiggraph:Swapping partitioned embeddings ( 0 , 0 ) None\n",
            "INFO:torchbiggraph:Saving partitioned embeddings to checkpoint\n",
            "INFO:torchbiggraph:Finished epoch 27 / 30, edge path 1 / 1, edge chunk 1 / 1\n",
            "INFO:torchbiggraph:Writing the metadata\n",
            "INFO:torchbiggraph:Writing the training stats\n",
            "INFO:torchbiggraph:Writing the checkpoint\n",
            "INFO:torchbiggraph:Switching to the new checkpoint version\n",
            "INFO:torchbiggraph:Starting epoch 28 / 30, edge path 1 / 1, edge chunk 1 / 1\n",
            "INFO:torchbiggraph:Edge path: data/train_partitioned\n",
            "INFO:torchbiggraph:still in queue: 0\n",
            "INFO:torchbiggraph:Swapping partitioned embeddings None ( 0 , 0 )\n",
            "INFO:torchbiggraph:Loading partitioned embeddings from checkpoint\n",
            "INFO:torchbiggraph:( 0 , 0 ): Stats before training: loss:  314.511 , pos_rank:  552.278 , mrr:  0.08832 , r1:  0.0715088 , r10:  0.112483 , r50:  0.188145 , auc:  0.724517 , count:  4454\n",
            "INFO:torchbiggraph:( 0 , 0 ): Training stats: loss:  1.94812 , reg:  0 , violators_lhs:  4.43658 , violators_rhs:  3.59507 , count:  84644\n",
            "INFO:torchbiggraph:( 0 , 0 ): Stats after training: loss:  314.974 , pos_rank:  552.181 , mrr:  0.0916456 , r1:  0.0756623 , r10:  0.114953 , r50:  0.18938 , auc:  0.722272 , count:  4454\n",
            "INFO:torchbiggraph:( 0 , 0 ): bucket 1 / 1 : Trained 84644 edges in 1.12 s ( 0.075 M/sec ); Eval 2*4454 edges in 0.31 s ( 0.029 M/sec ); io: 0.02 s for 38,955,248 bytes ( 1808.38 MB/sec )\n",
            "INFO:torchbiggraph:Swapping partitioned embeddings ( 0 , 0 ) None\n",
            "INFO:torchbiggraph:Saving partitioned embeddings to checkpoint\n",
            "INFO:torchbiggraph:Finished epoch 28 / 30, edge path 1 / 1, edge chunk 1 / 1\n",
            "INFO:torchbiggraph:Writing the metadata\n",
            "INFO:torchbiggraph:Writing the training stats\n",
            "INFO:torchbiggraph:Writing the checkpoint\n",
            "INFO:torchbiggraph:Switching to the new checkpoint version\n",
            "INFO:torchbiggraph:Starting epoch 29 / 30, edge path 1 / 1, edge chunk 1 / 1\n",
            "INFO:torchbiggraph:Edge path: data/train_partitioned\n",
            "INFO:torchbiggraph:still in queue: 0\n",
            "INFO:torchbiggraph:Swapping partitioned embeddings None ( 0 , 0 )\n",
            "INFO:torchbiggraph:Loading partitioned embeddings from checkpoint\n",
            "INFO:torchbiggraph:( 0 , 0 ): Stats before training: loss:  314.915 , pos_rank:  552.398 , mrr:  0.0909788 , r1:  0.0737539 , r10:  0.114616 , r50:  0.19084 , auc:  0.725303 , count:  4454\n",
            "INFO:torchbiggraph:( 0 , 0 ): Training stats: loss:  1.94351 , reg:  0 , violators_lhs:  4.45415 , violators_rhs:  3.62352 , count:  84644\n",
            "INFO:torchbiggraph:( 0 , 0 ): Stats after training: loss:  314.367 , pos_rank:  551.568 , mrr:  0.0849085 , r1:  0.0678042 , r10:  0.107768 , r50:  0.186349 , auc:  0.724966 , count:  4454\n",
            "INFO:torchbiggraph:( 0 , 0 ): bucket 1 / 1 : Trained 84644 edges in 1.15 s ( 0.074 M/sec ); Eval 2*4454 edges in 0.30 s ( 0.029 M/sec ); io: 0.02 s for 38,955,248 bytes ( 1601.95 MB/sec )\n",
            "INFO:torchbiggraph:Swapping partitioned embeddings ( 0 , 0 ) None\n",
            "INFO:torchbiggraph:Saving partitioned embeddings to checkpoint\n",
            "INFO:torchbiggraph:Finished epoch 29 / 30, edge path 1 / 1, edge chunk 1 / 1\n",
            "INFO:torchbiggraph:Writing the metadata\n",
            "INFO:torchbiggraph:Writing the training stats\n",
            "INFO:torchbiggraph:Writing the checkpoint\n",
            "INFO:torchbiggraph:Switching to the new checkpoint version\n",
            "INFO:torchbiggraph:Starting epoch 30 / 30, edge path 1 / 1, edge chunk 1 / 1\n",
            "INFO:torchbiggraph:Edge path: data/train_partitioned\n",
            "INFO:torchbiggraph:still in queue: 0\n",
            "INFO:torchbiggraph:Swapping partitioned embeddings None ( 0 , 0 )\n",
            "INFO:torchbiggraph:Loading partitioned embeddings from checkpoint\n",
            "INFO:torchbiggraph:( 0 , 0 ): Stats before training: loss:  314.573 , pos_rank:  552.104 , mrr:  0.0853418 , r1:  0.0682533 , r10:  0.108891 , r50:  0.187472 , auc:  0.727211 , count:  4454\n",
            "INFO:torchbiggraph:( 0 , 0 ): Training stats: loss:  1.93573 , reg:  0 , violators_lhs:  4.45531 , violators_rhs:  3.61123 , count:  84644\n",
            "INFO:torchbiggraph:( 0 , 0 ): Stats after training: loss:  314.768 , pos_rank:  550.955 , mrr:  0.0935251 , r1:  0.0767849 , r10:  0.118545 , r50:  0.193983 , auc:  0.7207 , count:  4454\n",
            "INFO:torchbiggraph:( 0 , 0 ): bucket 1 / 1 : Trained 84644 edges in 1.19 s ( 0.071 M/sec ); Eval 2*4454 edges in 0.49 s ( 0.018 M/sec ); io: 0.02 s for 38,955,248 bytes ( 1610.37 MB/sec )\n",
            "INFO:torchbiggraph:Swapping partitioned embeddings ( 0 , 0 ) None\n",
            "INFO:torchbiggraph:Saving partitioned embeddings to checkpoint\n",
            "INFO:torchbiggraph:Finished epoch 30 / 30, edge path 1 / 1, edge chunk 1 / 1\n",
            "INFO:torchbiggraph:Writing the metadata\n",
            "INFO:torchbiggraph:Writing the training stats\n",
            "INFO:torchbiggraph:Writing the checkpoint\n",
            "INFO:torchbiggraph:Switching to the new checkpoint version\n",
            "INFO:torchbiggraph:Exiting\n"
          ]
        }
      ]
    },
    {
      "cell_type": "code",
      "source": [
        "eval_config = attr.evolve(config, edge_paths=[output_test_path])\n",
        "do_eval(eval_config, subprocess_init=subprocess_init)"
      ],
      "metadata": {
        "colab": {
          "base_uri": "https://localhost:8080/"
        },
        "id": "YTI_xjLuFeVd",
        "outputId": "5e658898-45c8-4df9-cbf5-3945d1d4d827"
      },
      "execution_count": null,
      "outputs": [
        {
          "output_type": "stream",
          "name": "stderr",
          "text": [
            "INFO:torchbiggraph:Starting edge path 1 / 1 (data/test_partitioned)\n",
            "INFO:torchbiggraph:( 0 , 0 ): Processed 22275 edges in 2 s (0.011M/sec); load time: 0.036 s\n",
            "INFO:torchbiggraph:Stats for edge path 1 / 1, bucket ( 0 , 0 ): loss:  17.4281 , pos_rank:  31.2618 , mrr:  0.187778 , r1:  0.107475 , r10:  0.362402 , r50:  0.738765 , auc:  0.709675 , count:  22275\n",
            "INFO:torchbiggraph:\n",
            "INFO:torchbiggraph:Stats for edge path 1 / 1: loss:  17.4281 , pos_rank:  31.2618 , mrr:  0.187778 , r1:  0.107475 , r10:  0.362402 , r50:  0.738765 , auc:  0.709675 , count:  22275\n",
            "INFO:torchbiggraph:\n",
            "INFO:torchbiggraph:\n",
            "INFO:torchbiggraph:Stats: loss:  17.4281 , pos_rank:  31.2618 , mrr:  0.187778 , r1:  0.107475 , r10:  0.362402 , r50:  0.738765 , auc:  0.709675 , count:  22275\n",
            "INFO:torchbiggraph:\n"
          ]
        }
      ]
    },
    {
      "cell_type": "markdown",
      "source": [
        "## Save embeddings"
      ],
      "metadata": {
        "id": "XdtRjULVLS8t"
      }
    },
    {
      "cell_type": "code",
      "source": [
        "!torchbiggraph_export_to_tsv \\\n",
        "    'PyTorch-BigGraph/torchbiggraph/examples/configs/politifact_config.py' \\\n",
        "    --entities-output entity_embeddings.tsv \\\n",
        "    --relation-types-output relation_types_parameters.tsv"
      ],
      "metadata": {
        "colab": {
          "base_uri": "https://localhost:8080/"
        },
        "id": "aaY3jLuWV6K4",
        "outputId": "9174004e-3df6-47b0-b05c-6e9fde788089"
      },
      "execution_count": null,
      "outputs": [
        {
          "output_type": "stream",
          "name": "stdout",
          "text": [
            "Loading relation types and entities...\n",
            "Initializing model...\n",
            "Loading model check point...\n",
            "Writing entity embeddings...\n",
            "Reading embeddings for entity type user partition 0 from checkpoint...\n",
            "Writing embeddings for entity type user partition 0 to output file...\n",
            "- Processed 5000/71759 entities so far...\n",
            "- Processed 10000/71759 entities so far...\n",
            "- Processed 15000/71759 entities so far...\n",
            "- Processed 20000/71759 entities so far...\n",
            "- Processed 25000/71759 entities so far...\n",
            "- Processed 30000/71759 entities so far...\n",
            "- Processed 35000/71759 entities so far...\n",
            "- Processed 40000/71759 entities so far...\n",
            "- Processed 45000/71759 entities so far...\n",
            "- Processed 50000/71759 entities so far...\n",
            "- Processed 55000/71759 entities so far...\n",
            "- Processed 60000/71759 entities so far...\n",
            "- Processed 65000/71759 entities so far...\n",
            "- Processed 70000/71759 entities so far...\n",
            "- Processed all 71759 entities\n",
            "Reading embeddings for entity type article partition 0 from checkpoint...\n",
            "Writing embeddings for entity type article partition 0 to output file...\n",
            "- Processed all 149 entities\n",
            "Done exporting entity data to entity_embeddings.tsv\n",
            "Writing relation type parameters...\n",
            "Done exporting relation type data to relation_types_parameters.tsv\n"
          ]
        }
      ]
    },
    {
      "cell_type": "markdown",
      "source": [
        "### Save article embeddings"
      ],
      "metadata": {
        "id": "uOr3ukfCQ8be"
      }
    },
    {
      "cell_type": "code",
      "source": [
        "import numpy as np\n",
        "\n",
        "from torchbiggraph.checkpoint_manager import CheckpointManager\n",
        "from torchbiggraph.config import ConfigFileLoader, ConfigSchema\n",
        "from torchbiggraph.graph_storages import (\n",
        "    AbstractEntityStorage,\n",
        "    AbstractRelationTypeStorage,\n",
        "    ENTITY_STORAGES,\n",
        "    RELATION_TYPE_STORAGES,\n",
        ")\n",
        "from torchbiggraph.model import make_model, MultiRelationEmbedder"
      ],
      "metadata": {
        "id": "Oy8omdmFGPle"
      },
      "execution_count": null,
      "outputs": []
    },
    {
      "cell_type": "code",
      "source": [
        "ent_t_name = 'article'"
      ],
      "metadata": {
        "id": "3rmdTpAILZaj"
      },
      "execution_count": null,
      "outputs": []
    },
    {
      "cell_type": "code",
      "source": [
        "entity_storage = ENTITY_STORAGES.make_instance(config.entity_path)\n",
        "relation_type_storage = RELATION_TYPE_STORAGES.make_instance(config.entity_path)\n",
        "\n",
        "print(\"Initializing model...\")\n",
        "model = make_model(config)\n",
        "\n",
        "print(\"Loading model check point...\")\n",
        "checkpoint_manager = CheckpointManager(config.checkpoint_path)\n",
        "state_dict, _ = checkpoint_manager.read_model()\n",
        "if state_dict is not None:\n",
        "    model.load_state_dict(state_dict, strict=False)"
      ],
      "metadata": {
        "colab": {
          "base_uri": "https://localhost:8080/"
        },
        "id": "0OlBL3RqISAk",
        "outputId": "a34d69cc-f647-4b9c-d13c-d2e1b4ed28bf"
      },
      "execution_count": null,
      "outputs": [
        {
          "output_type": "stream",
          "name": "stdout",
          "text": [
            "Initializing model...\n",
            "Loading model check point...\n"
          ]
        }
      ]
    },
    {
      "cell_type": "code",
      "source": [
        "ent_t_config = model.entities[ent_t_name]"
      ],
      "metadata": {
        "id": "AQz7ZblHI5Hy"
      },
      "execution_count": null,
      "outputs": []
    },
    {
      "cell_type": "code",
      "source": [
        "entities = []\n",
        "embeddings = []\n",
        "for partition in range(ent_t_config.num_partitions):\n",
        "    print(\n",
        "        f\"Reading embeddings for entity type {ent_t_name} partition \"\n",
        "        f\"{partition} from checkpoint...\"\n",
        "    )\n",
        "    entities.extend(entity_storage.load_names(ent_t_name, partition))\n",
        "    embeddings_, _ = checkpoint_manager.read(ent_t_name, partition)\n",
        "\n",
        "    if model.global_embs is not None:\n",
        "        embeddings_ += model.global_embs[model.EMB_PREFIX + ent_t_name]\n",
        "    embeddings.append(embeddings_)\n",
        "\n",
        "embeddings = np.concatenate(embeddings)"
      ],
      "metadata": {
        "colab": {
          "base_uri": "https://localhost:8080/"
        },
        "id": "jsjFJD8pIm9E",
        "outputId": "b2a04b5a-9ade-4293-e154-9e7decf41839"
      },
      "execution_count": null,
      "outputs": [
        {
          "output_type": "stream",
          "name": "stdout",
          "text": [
            "Reading embeddings for entity type article partition 0 from checkpoint...\n"
          ]
        }
      ]
    },
    {
      "cell_type": "code",
      "source": [
        "np.save(base_dir/f'pt_biggraph_article_idx_{dimension}.npy', np.array([int(e) for e in entities]))\n",
        "np.save(base_dir/f'pt_biggraph_article_embeddings_{dimension}.npy', embeddings)"
      ],
      "metadata": {
        "id": "gEHxv2O4MLyW"
      },
      "execution_count": null,
      "outputs": []
    },
    {
      "cell_type": "code",
      "source": [],
      "metadata": {
        "id": "ZSUvXc2xQBIj"
      },
      "execution_count": null,
      "outputs": []
    }
  ]
}