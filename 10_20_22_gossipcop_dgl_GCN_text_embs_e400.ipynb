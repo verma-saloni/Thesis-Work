{
  "nbformat": 4,
  "nbformat_minor": 0,
  "metadata": {
    "colab": {
      "provenance": [],
      "collapsed_sections": [
        "ywmJcojaOk4E",
        "FfaOg08xmfEp"
      ],
      "include_colab_link": true
    },
    "kernelspec": {
      "name": "python3",
      "display_name": "Python 3"
    },
    "language_info": {
      "name": "python"
    },
    "widgets": {
      "application/vnd.jupyter.widget-state+json": {
        "dea4096c7b1c45ff87eaeae8279857d3": {
          "model_module": "@jupyter-widgets/controls",
          "model_name": "VBoxModel",
          "model_module_version": "1.5.0",
          "state": {
            "_dom_classes": [],
            "_model_module": "@jupyter-widgets/controls",
            "_model_module_version": "1.5.0",
            "_model_name": "VBoxModel",
            "_view_count": null,
            "_view_module": "@jupyter-widgets/controls",
            "_view_module_version": "1.5.0",
            "_view_name": "VBoxView",
            "box_style": "",
            "children": [
              "IPY_MODEL_52a489be3a2642da82151bb13a6341d8",
              "IPY_MODEL_cfa641eba71f4b5993288d0e31d7e979"
            ],
            "layout": "IPY_MODEL_837f204aac354880a1dd3fedbdc125c1"
          }
        },
        "52a489be3a2642da82151bb13a6341d8": {
          "model_module": "@jupyter-widgets/controls",
          "model_name": "LabelModel",
          "model_module_version": "1.5.0",
          "state": {
            "_dom_classes": [],
            "_model_module": "@jupyter-widgets/controls",
            "_model_module_version": "1.5.0",
            "_model_name": "LabelModel",
            "_view_count": null,
            "_view_module": "@jupyter-widgets/controls",
            "_view_module_version": "1.5.0",
            "_view_name": "LabelView",
            "description": "",
            "description_tooltip": null,
            "layout": "IPY_MODEL_37bbc8cc31c74c6e997716681380f340",
            "placeholder": "​",
            "style": "IPY_MODEL_705d2f6d9023458eaeb913a3514fa65d",
            "value": "0.001 MB of 0.001 MB uploaded (0.000 MB deduped)\r"
          }
        },
        "cfa641eba71f4b5993288d0e31d7e979": {
          "model_module": "@jupyter-widgets/controls",
          "model_name": "FloatProgressModel",
          "model_module_version": "1.5.0",
          "state": {
            "_dom_classes": [],
            "_model_module": "@jupyter-widgets/controls",
            "_model_module_version": "1.5.0",
            "_model_name": "FloatProgressModel",
            "_view_count": null,
            "_view_module": "@jupyter-widgets/controls",
            "_view_module_version": "1.5.0",
            "_view_name": "ProgressView",
            "bar_style": "",
            "description": "",
            "description_tooltip": null,
            "layout": "IPY_MODEL_b1965c3161c74bbdb9f5f9ccdf27ae69",
            "max": 1,
            "min": 0,
            "orientation": "horizontal",
            "style": "IPY_MODEL_2ec66108ca2544e888e8fe8c7ee612b9",
            "value": 0.8624472573839662
          }
        },
        "837f204aac354880a1dd3fedbdc125c1": {
          "model_module": "@jupyter-widgets/base",
          "model_name": "LayoutModel",
          "model_module_version": "1.2.0",
          "state": {
            "_model_module": "@jupyter-widgets/base",
            "_model_module_version": "1.2.0",
            "_model_name": "LayoutModel",
            "_view_count": null,
            "_view_module": "@jupyter-widgets/base",
            "_view_module_version": "1.2.0",
            "_view_name": "LayoutView",
            "align_content": null,
            "align_items": null,
            "align_self": null,
            "border": null,
            "bottom": null,
            "display": null,
            "flex": null,
            "flex_flow": null,
            "grid_area": null,
            "grid_auto_columns": null,
            "grid_auto_flow": null,
            "grid_auto_rows": null,
            "grid_column": null,
            "grid_gap": null,
            "grid_row": null,
            "grid_template_areas": null,
            "grid_template_columns": null,
            "grid_template_rows": null,
            "height": null,
            "justify_content": null,
            "justify_items": null,
            "left": null,
            "margin": null,
            "max_height": null,
            "max_width": null,
            "min_height": null,
            "min_width": null,
            "object_fit": null,
            "object_position": null,
            "order": null,
            "overflow": null,
            "overflow_x": null,
            "overflow_y": null,
            "padding": null,
            "right": null,
            "top": null,
            "visibility": null,
            "width": null
          }
        },
        "37bbc8cc31c74c6e997716681380f340": {
          "model_module": "@jupyter-widgets/base",
          "model_name": "LayoutModel",
          "model_module_version": "1.2.0",
          "state": {
            "_model_module": "@jupyter-widgets/base",
            "_model_module_version": "1.2.0",
            "_model_name": "LayoutModel",
            "_view_count": null,
            "_view_module": "@jupyter-widgets/base",
            "_view_module_version": "1.2.0",
            "_view_name": "LayoutView",
            "align_content": null,
            "align_items": null,
            "align_self": null,
            "border": null,
            "bottom": null,
            "display": null,
            "flex": null,
            "flex_flow": null,
            "grid_area": null,
            "grid_auto_columns": null,
            "grid_auto_flow": null,
            "grid_auto_rows": null,
            "grid_column": null,
            "grid_gap": null,
            "grid_row": null,
            "grid_template_areas": null,
            "grid_template_columns": null,
            "grid_template_rows": null,
            "height": null,
            "justify_content": null,
            "justify_items": null,
            "left": null,
            "margin": null,
            "max_height": null,
            "max_width": null,
            "min_height": null,
            "min_width": null,
            "object_fit": null,
            "object_position": null,
            "order": null,
            "overflow": null,
            "overflow_x": null,
            "overflow_y": null,
            "padding": null,
            "right": null,
            "top": null,
            "visibility": null,
            "width": null
          }
        },
        "705d2f6d9023458eaeb913a3514fa65d": {
          "model_module": "@jupyter-widgets/controls",
          "model_name": "DescriptionStyleModel",
          "model_module_version": "1.5.0",
          "state": {
            "_model_module": "@jupyter-widgets/controls",
            "_model_module_version": "1.5.0",
            "_model_name": "DescriptionStyleModel",
            "_view_count": null,
            "_view_module": "@jupyter-widgets/base",
            "_view_module_version": "1.2.0",
            "_view_name": "StyleView",
            "description_width": ""
          }
        },
        "b1965c3161c74bbdb9f5f9ccdf27ae69": {
          "model_module": "@jupyter-widgets/base",
          "model_name": "LayoutModel",
          "model_module_version": "1.2.0",
          "state": {
            "_model_module": "@jupyter-widgets/base",
            "_model_module_version": "1.2.0",
            "_model_name": "LayoutModel",
            "_view_count": null,
            "_view_module": "@jupyter-widgets/base",
            "_view_module_version": "1.2.0",
            "_view_name": "LayoutView",
            "align_content": null,
            "align_items": null,
            "align_self": null,
            "border": null,
            "bottom": null,
            "display": null,
            "flex": null,
            "flex_flow": null,
            "grid_area": null,
            "grid_auto_columns": null,
            "grid_auto_flow": null,
            "grid_auto_rows": null,
            "grid_column": null,
            "grid_gap": null,
            "grid_row": null,
            "grid_template_areas": null,
            "grid_template_columns": null,
            "grid_template_rows": null,
            "height": null,
            "justify_content": null,
            "justify_items": null,
            "left": null,
            "margin": null,
            "max_height": null,
            "max_width": null,
            "min_height": null,
            "min_width": null,
            "object_fit": null,
            "object_position": null,
            "order": null,
            "overflow": null,
            "overflow_x": null,
            "overflow_y": null,
            "padding": null,
            "right": null,
            "top": null,
            "visibility": null,
            "width": null
          }
        },
        "2ec66108ca2544e888e8fe8c7ee612b9": {
          "model_module": "@jupyter-widgets/controls",
          "model_name": "ProgressStyleModel",
          "model_module_version": "1.5.0",
          "state": {
            "_model_module": "@jupyter-widgets/controls",
            "_model_module_version": "1.5.0",
            "_model_name": "ProgressStyleModel",
            "_view_count": null,
            "_view_module": "@jupyter-widgets/base",
            "_view_module_version": "1.2.0",
            "_view_name": "StyleView",
            "bar_color": null,
            "description_width": ""
          }
        }
      }
    }
  },
  "cells": [
    {
      "cell_type": "markdown",
      "metadata": {
        "id": "view-in-github",
        "colab_type": "text"
      },
      "source": [
        "<a href=\"https://colab.research.google.com/github/verma-saloni/Thesis-Work/blob/main/gossipcop_dgl_GCN_text_embs_e400.ipynb\" target=\"_parent\"><img src=\"https://colab.research.google.com/assets/colab-badge.svg\" alt=\"Open In Colab\"/></a>"
      ]
    },
    {
      "cell_type": "code",
      "execution_count": 1,
      "metadata": {
        "id": "xpTeMbYZwmf7"
      },
      "outputs": [],
      "source": [
        "!pip -qq install jsonlines"
      ]
    },
    {
      "cell_type": "markdown",
      "source": [
        "Gossipcop: Text Embeddings + GCN (The choice of embeddings Sbert or Fasttext FT) can be done at the top. Fully customisable. "
      ],
      "metadata": {
        "id": "f-BFWYzNAPBW"
      }
    },
    {
      "cell_type": "code",
      "source": [
        "from google.colab import drive\n",
        "drive.mount('/gdrive')"
      ],
      "metadata": {
        "colab": {
          "base_uri": "https://localhost:8080/"
        },
        "id": "UxNEaltli8H_",
        "outputId": "2f0644f6-9aa6-4b64-e281-4717f435fea6"
      },
      "execution_count": 2,
      "outputs": [
        {
          "output_type": "stream",
          "name": "stdout",
          "text": [
            "Mounted at /gdrive\n"
          ]
        }
      ]
    },
    {
      "cell_type": "code",
      "source": [
        "from pathlib import Path\n",
        "base_dir = Path(\"/gdrive/MyDrive/ResearchFND\")\n",
        "assert base_dir.exists()"
      ],
      "metadata": {
        "id": "E1KzQ-APvvbj"
      },
      "execution_count": 3,
      "outputs": []
    },
    {
      "cell_type": "markdown",
      "source": [
        "## Data"
      ],
      "metadata": {
        "id": "ywmJcojaOk4E"
      }
    },
    {
      "cell_type": "code",
      "source": [
        "import pandas as pd\n",
        "import ast\n",
        "import json"
      ],
      "metadata": {
        "id": "Pi19HZwbOnpK"
      },
      "execution_count": 4,
      "outputs": []
    },
    {
      "cell_type": "code",
      "source": [
        "dataset_id = 'gossipcop'\n",
        "text_embeddings = 'ft' # options: sbert, ft"
      ],
      "metadata": {
        "id": "5XqiYfvoPECo"
      },
      "execution_count": 5,
      "outputs": []
    },
    {
      "cell_type": "code",
      "source": [
        "df = pd.read_csv(base_dir/f'{dataset_id}_agg.csv')\n",
        "df.head(2)"
      ],
      "metadata": {
        "colab": {
          "base_uri": "https://localhost:8080/",
          "height": 112
        },
        "outputId": "c232fce2-b4ff-4439-883b-1c73575399b0",
        "id": "9fSNOSLsOnpP"
      },
      "execution_count": 6,
      "outputs": [
        {
          "output_type": "execute_result",
          "data": {
            "text/plain": [
              "                                               title text tweets  \\\n",
              "0      Kendall   Kylie Jenner Jenner NOT Upset Up...  NaN     []   \n",
              "1      Kim Kardashian Dethroned Dethroned By Khlo...  NaN     []   \n",
              "\n",
              "                                            retweets label  url  num_retweets  \\\n",
              "0  ['995423424741888001', '995461685166202880', '...  fake  NaN             3   \n",
              "1  ['848843565027516416', '849030801970868224', '...  fake  NaN             3   \n",
              "\n",
              "   log_num_retweets  num_tweets  log_num_tweets  \n",
              "0          1.386294           0             0.0  \n",
              "1          1.386294           0             0.0  "
            ],
            "text/html": [
              "\n",
              "  <div id=\"df-e4a38226-9a47-44ad-b0ab-7ce624a0a07e\">\n",
              "    <div class=\"colab-df-container\">\n",
              "      <div>\n",
              "<style scoped>\n",
              "    .dataframe tbody tr th:only-of-type {\n",
              "        vertical-align: middle;\n",
              "    }\n",
              "\n",
              "    .dataframe tbody tr th {\n",
              "        vertical-align: top;\n",
              "    }\n",
              "\n",
              "    .dataframe thead th {\n",
              "        text-align: right;\n",
              "    }\n",
              "</style>\n",
              "<table border=\"1\" class=\"dataframe\">\n",
              "  <thead>\n",
              "    <tr style=\"text-align: right;\">\n",
              "      <th></th>\n",
              "      <th>title</th>\n",
              "      <th>text</th>\n",
              "      <th>tweets</th>\n",
              "      <th>retweets</th>\n",
              "      <th>label</th>\n",
              "      <th>url</th>\n",
              "      <th>num_retweets</th>\n",
              "      <th>log_num_retweets</th>\n",
              "      <th>num_tweets</th>\n",
              "      <th>log_num_tweets</th>\n",
              "    </tr>\n",
              "  </thead>\n",
              "  <tbody>\n",
              "    <tr>\n",
              "      <th>0</th>\n",
              "      <td>Kendall   Kylie Jenner Jenner NOT Upset Up...</td>\n",
              "      <td>NaN</td>\n",
              "      <td>[]</td>\n",
              "      <td>['995423424741888001', '995461685166202880', '...</td>\n",
              "      <td>fake</td>\n",
              "      <td>NaN</td>\n",
              "      <td>3</td>\n",
              "      <td>1.386294</td>\n",
              "      <td>0</td>\n",
              "      <td>0.0</td>\n",
              "    </tr>\n",
              "    <tr>\n",
              "      <th>1</th>\n",
              "      <td>Kim Kardashian Dethroned Dethroned By Khlo...</td>\n",
              "      <td>NaN</td>\n",
              "      <td>[]</td>\n",
              "      <td>['848843565027516416', '849030801970868224', '...</td>\n",
              "      <td>fake</td>\n",
              "      <td>NaN</td>\n",
              "      <td>3</td>\n",
              "      <td>1.386294</td>\n",
              "      <td>0</td>\n",
              "      <td>0.0</td>\n",
              "    </tr>\n",
              "  </tbody>\n",
              "</table>\n",
              "</div>\n",
              "      <button class=\"colab-df-convert\" onclick=\"convertToInteractive('df-e4a38226-9a47-44ad-b0ab-7ce624a0a07e')\"\n",
              "              title=\"Convert this dataframe to an interactive table.\"\n",
              "              style=\"display:none;\">\n",
              "        \n",
              "  <svg xmlns=\"http://www.w3.org/2000/svg\" height=\"24px\"viewBox=\"0 0 24 24\"\n",
              "       width=\"24px\">\n",
              "    <path d=\"M0 0h24v24H0V0z\" fill=\"none\"/>\n",
              "    <path d=\"M18.56 5.44l.94 2.06.94-2.06 2.06-.94-2.06-.94-.94-2.06-.94 2.06-2.06.94zm-11 1L8.5 8.5l.94-2.06 2.06-.94-2.06-.94L8.5 2.5l-.94 2.06-2.06.94zm10 10l.94 2.06.94-2.06 2.06-.94-2.06-.94-.94-2.06-.94 2.06-2.06.94z\"/><path d=\"M17.41 7.96l-1.37-1.37c-.4-.4-.92-.59-1.43-.59-.52 0-1.04.2-1.43.59L10.3 9.45l-7.72 7.72c-.78.78-.78 2.05 0 2.83L4 21.41c.39.39.9.59 1.41.59.51 0 1.02-.2 1.41-.59l7.78-7.78 2.81-2.81c.8-.78.8-2.07 0-2.86zM5.41 20L4 18.59l7.72-7.72 1.47 1.35L5.41 20z\"/>\n",
              "  </svg>\n",
              "      </button>\n",
              "      \n",
              "  <style>\n",
              "    .colab-df-container {\n",
              "      display:flex;\n",
              "      flex-wrap:wrap;\n",
              "      gap: 12px;\n",
              "    }\n",
              "\n",
              "    .colab-df-convert {\n",
              "      background-color: #E8F0FE;\n",
              "      border: none;\n",
              "      border-radius: 50%;\n",
              "      cursor: pointer;\n",
              "      display: none;\n",
              "      fill: #1967D2;\n",
              "      height: 32px;\n",
              "      padding: 0 0 0 0;\n",
              "      width: 32px;\n",
              "    }\n",
              "\n",
              "    .colab-df-convert:hover {\n",
              "      background-color: #E2EBFA;\n",
              "      box-shadow: 0px 1px 2px rgba(60, 64, 67, 0.3), 0px 1px 3px 1px rgba(60, 64, 67, 0.15);\n",
              "      fill: #174EA6;\n",
              "    }\n",
              "\n",
              "    [theme=dark] .colab-df-convert {\n",
              "      background-color: #3B4455;\n",
              "      fill: #D2E3FC;\n",
              "    }\n",
              "\n",
              "    [theme=dark] .colab-df-convert:hover {\n",
              "      background-color: #434B5C;\n",
              "      box-shadow: 0px 1px 3px 1px rgba(0, 0, 0, 0.15);\n",
              "      filter: drop-shadow(0px 1px 2px rgba(0, 0, 0, 0.3));\n",
              "      fill: #FFFFFF;\n",
              "    }\n",
              "  </style>\n",
              "\n",
              "      <script>\n",
              "        const buttonEl =\n",
              "          document.querySelector('#df-e4a38226-9a47-44ad-b0ab-7ce624a0a07e button.colab-df-convert');\n",
              "        buttonEl.style.display =\n",
              "          google.colab.kernel.accessAllowed ? 'block' : 'none';\n",
              "\n",
              "        async function convertToInteractive(key) {\n",
              "          const element = document.querySelector('#df-e4a38226-9a47-44ad-b0ab-7ce624a0a07e');\n",
              "          const dataTable =\n",
              "            await google.colab.kernel.invokeFunction('convertToInteractive',\n",
              "                                                     [key], {});\n",
              "          if (!dataTable) return;\n",
              "\n",
              "          const docLinkHtml = 'Like what you see? Visit the ' +\n",
              "            '<a target=\"_blank\" href=https://colab.research.google.com/notebooks/data_table.ipynb>data table notebook</a>'\n",
              "            + ' to learn more about interactive tables.';\n",
              "          element.innerHTML = '';\n",
              "          dataTable['output_type'] = 'display_data';\n",
              "          await google.colab.output.renderOutput(dataTable, element);\n",
              "          const docLink = document.createElement('div');\n",
              "          docLink.innerHTML = docLinkHtml;\n",
              "          element.appendChild(docLink);\n",
              "        }\n",
              "      </script>\n",
              "    </div>\n",
              "  </div>\n",
              "  "
            ]
          },
          "metadata": {},
          "execution_count": 6
        }
      ]
    },
    {
      "cell_type": "code",
      "source": [
        "df['tweets'] = df.tweets.map(ast.literal_eval)"
      ],
      "metadata": {
        "id": "qjvjCmHpOnpS"
      },
      "execution_count": 7,
      "outputs": []
    },
    {
      "cell_type": "code",
      "source": [
        "users_tweeted = df.tweets.map(lambda x: [int(e['user_id']) for e in x])"
      ],
      "metadata": {
        "id": "CovrRHkeOnpU"
      },
      "execution_count": 8,
      "outputs": []
    },
    {
      "cell_type": "code",
      "source": [
        "len(users_tweeted), sum(users_tweeted.map(len) > 0)"
      ],
      "metadata": {
        "colab": {
          "base_uri": "https://localhost:8080/"
        },
        "outputId": "da88703d-d9de-47c5-b568-741ef1f4eff1",
        "id": "VmjV_67MOnpW"
      },
      "execution_count": 9,
      "outputs": [
        {
          "output_type": "execute_result",
          "data": {
            "text/plain": [
              "(19968, 2117)"
            ]
          },
          "metadata": {},
          "execution_count": 9
        }
      ]
    },
    {
      "cell_type": "markdown",
      "source": [
        "## GNN"
      ],
      "metadata": {
        "id": "gI6AtSffmcqr"
      }
    },
    {
      "cell_type": "markdown",
      "source": [
        "### Data"
      ],
      "metadata": {
        "id": "FfaOg08xmfEp"
      }
    },
    {
      "cell_type": "code",
      "source": [
        "%%capture\n",
        "!pip install dgl wandb"
      ],
      "metadata": {
        "id": "xjD3rF-MmwKa"
      },
      "execution_count": 10,
      "outputs": []
    },
    {
      "cell_type": "code",
      "source": [
        "%env DGLBACKEND=pytorch"
      ],
      "metadata": {
        "colab": {
          "base_uri": "https://localhost:8080/"
        },
        "id": "w96ReVNpwHTY",
        "outputId": "46456828-50f3-478f-ed6c-eb917464bdda"
      },
      "execution_count": 11,
      "outputs": [
        {
          "output_type": "stream",
          "name": "stdout",
          "text": [
            "env: DGLBACKEND=pytorch\n"
          ]
        }
      ]
    },
    {
      "cell_type": "code",
      "source": [
        "import os\n",
        "import json\n",
        "import jsonlines\n",
        "import numpy as np\n",
        "import torch\n",
        "import dgl\n",
        "\n",
        "import wandb\n",
        "import IPython.display as ipd"
      ],
      "metadata": {
        "id": "yp52MLR1mdxA"
      },
      "execution_count": 12,
      "outputs": []
    },
    {
      "cell_type": "code",
      "source": [
        "u2i = {}\n",
        "\n",
        "follow_src = []\n",
        "follow_dst = []\n",
        "with jsonlines.open(base_dir/\"followers.jsonl\") as reader:\n",
        "    for line in reader:\n",
        "        v = line[\"user_id\"]\n",
        "        if v not in u2i:\n",
        "            u2i[v] = len(u2i)\n",
        "        for u in line[\"followers\"]:\n",
        "            if u not in u2i:\n",
        "                u2i[u] = len(u2i)\n",
        "            follow_src.append(u2i[u])\n",
        "            follow_dst.append(u2i[v])"
      ],
      "metadata": {
        "id": "h3XOCaEwoMvx"
      },
      "execution_count": 13,
      "outputs": []
    },
    {
      "cell_type": "code",
      "source": [
        "with jsonlines.open(base_dir/\"following.jsonl\") as reader:\n",
        "    for line in reader:\n",
        "        u = line[\"user_id\"]\n",
        "        if u not in u2i:\n",
        "            u2i[u] = len(u2i)\n",
        "        for v in line[\"following\"]:\n",
        "            if v not in u2i:\n",
        "                u2i[v] = len(u2i)\n",
        "            follow_src.append(u2i[u])\n",
        "            follow_dst.append(u2i[v])"
      ],
      "metadata": {
        "id": "sWJFoJ_4oMvz"
      },
      "execution_count": 14,
      "outputs": []
    },
    {
      "cell_type": "code",
      "source": [
        "tweet_src = []\n",
        "tweet_dst = []\n",
        "\n",
        "for v, l in users_tweeted.iteritems():\n",
        "    if not len(l):\n",
        "        continue\n",
        "    for u in l:\n",
        "        u = int(u)\n",
        "        if u in u2i:\n",
        "            tweet_src.append(u2i[u])\n",
        "            tweet_dst.append(v)"
      ],
      "metadata": {
        "id": "DWM9MEXDpiyX"
      },
      "execution_count": 15,
      "outputs": []
    },
    {
      "cell_type": "code",
      "source": [
        "text_embs = np.load(base_dir/f'{dataset_id}_{text_embeddings}_fulltext_embeddings.npy')\n",
        "text_embs.shape"
      ],
      "metadata": {
        "id": "CxkWUv799WnY",
        "colab": {
          "base_uri": "https://localhost:8080/"
        },
        "outputId": "cc32e1a1-5816-4940-a6a7-07c0a2c8c6b1"
      },
      "execution_count": 16,
      "outputs": [
        {
          "output_type": "execute_result",
          "data": {
            "text/plain": [
              "(19968, 300)"
            ]
          },
          "metadata": {},
          "execution_count": 16
        }
      ]
    },
    {
      "cell_type": "code",
      "source": [
        "num_users = len(set(follow_src+follow_dst+tweet_src))"
      ],
      "metadata": {
        "id": "CWYAnXYALbwo"
      },
      "execution_count": 17,
      "outputs": []
    },
    {
      "cell_type": "code",
      "source": [
        "follow_src = torch.tensor(follow_src)\n",
        "follow_dst = torch.tensor(follow_dst)\n",
        "tweet_src = torch.tensor(tweet_src)\n",
        "tweet_dst = torch.tensor(tweet_dst)\n",
        "\n",
        "graph = dgl.heterograph({\n",
        "    ('user', 'follow', 'user'): (follow_src, follow_dst),\n",
        "    ('user', 'followed-by', 'user'): (follow_dst, follow_src),\n",
        "    ('user', 'tweet', 'article'): (tweet_src, tweet_dst),\n",
        "    ('article', 'tweeted-by', 'user'): (tweet_dst, tweet_src)},\n",
        "    {'article':len(df), 'user':num_users}\n",
        ")\n",
        "\n",
        "graph.nodes['user'].data['feat'] = torch.arange(graph.num_nodes('user'))\n",
        "graph.nodes['article'].data['feat'] = torch.tensor(text_embs)\n",
        "graph.nodes['article'].data['label'] = torch.tensor((df.label==\"real\").to_numpy()).long()"
      ],
      "metadata": {
        "id": "0o-_TVpQ2Ag8"
      },
      "execution_count": 18,
      "outputs": []
    },
    {
      "cell_type": "code",
      "source": [
        "graph"
      ],
      "metadata": {
        "colab": {
          "base_uri": "https://localhost:8080/"
        },
        "id": "o_gsQ0ELzwpN",
        "outputId": "b6843221-67f5-412c-ac1e-952e49be8d8c"
      },
      "execution_count": 19,
      "outputs": [
        {
          "output_type": "execute_result",
          "data": {
            "text/plain": [
              "Graph(num_nodes={'article': 19968, 'user': 31792},\n",
              "      num_edges={('article', 'tweeted-by', 'user'): 588, ('user', 'follow', 'user'): 48409, ('user', 'followed-by', 'user'): 48409, ('user', 'tweet', 'article'): 588},\n",
              "      metagraph=[('article', 'user', 'tweeted-by'), ('user', 'user', 'follow'), ('user', 'user', 'followed-by'), ('user', 'article', 'tweet')])"
            ]
          },
          "metadata": {},
          "execution_count": 19
        }
      ]
    },
    {
      "cell_type": "code",
      "source": [
        "from sklearn.model_selection import StratifiedKFold\n",
        "\n",
        "skf = StratifiedKFold(shuffle=True, random_state=124)"
      ],
      "metadata": {
        "id": "_wR6tgjekCGZ"
      },
      "execution_count": 20,
      "outputs": []
    },
    {
      "cell_type": "code",
      "source": [
        "labels = graph.ndata['label']['article']\n",
        "\n",
        "train_idx, valid_idx = next(skf.split(labels, labels))"
      ],
      "metadata": {
        "id": "vUYRWGCqkNJw"
      },
      "execution_count": 21,
      "outputs": []
    },
    {
      "cell_type": "code",
      "source": [
        "device = torch.device('cuda' if torch.cuda.is_available() else 'cpu')"
      ],
      "metadata": {
        "id": "bz8FvZRmkrFt"
      },
      "execution_count": 22,
      "outputs": []
    },
    {
      "cell_type": "code",
      "source": [
        "sampler = dgl.dataloading.NeighborSampler([10, 10])\n",
        "train_loader = dgl.dataloading.DataLoader(\n",
        "    graph,\n",
        "    {'article':train_idx},\n",
        "    sampler,\n",
        "    device=device,\n",
        "    batch_size=64,\n",
        "    shuffle=True,\n",
        "    drop_last=False,\n",
        "    num_workers=0\n",
        ")"
      ],
      "metadata": {
        "id": "9lWNOaTwj86U"
      },
      "execution_count": 23,
      "outputs": []
    },
    {
      "cell_type": "code",
      "source": [
        "eval_sampler = dgl.dataloading.NeighborSampler([-1, -1])\n",
        "eval_loader = dgl.dataloading.DataLoader(\n",
        "    graph,\n",
        "    {'article':valid_idx},\n",
        "    eval_sampler,\n",
        "    device=device,\n",
        "    batch_size=64,\n",
        "    shuffle=False,\n",
        "    drop_last=False,\n",
        "    num_workers=0\n",
        ")"
      ],
      "metadata": {
        "id": "2P7O9wNi1GXS"
      },
      "execution_count": 24,
      "outputs": []
    },
    {
      "cell_type": "code",
      "source": [
        "batch = next(iter(train_loader))"
      ],
      "metadata": {
        "colab": {
          "base_uri": "https://localhost:8080/"
        },
        "id": "XKlDjmxnkvaT",
        "outputId": "a4629c59-2581-4df4-fce1-3792fdcf0e0e"
      },
      "execution_count": 25,
      "outputs": [
        {
          "output_type": "stream",
          "name": "stderr",
          "text": [
            "/usr/local/lib/python3.7/dist-packages/dgl/dataloading/dataloader.py:859: DGLWarning: Dataloader CPU affinity opt is not enabled, consider switching it on (see enable_cpu_affinity() or CPU best practices for DGL [https://docs.dgl.ai/tutorials/cpu/cpu_best_practises.html])\n",
            "  dgl_warning(f'Dataloader CPU affinity opt is not enabled, consider switching it on '\n"
          ]
        }
      ]
    },
    {
      "cell_type": "markdown",
      "source": [
        "### Model"
      ],
      "metadata": {
        "id": "a_NnqbhIvgQm"
      }
    },
    {
      "cell_type": "code",
      "source": [
        "from collections import defaultdict\n",
        "import torch.nn as nn\n",
        "import torch.nn.functional as F\n",
        "\n",
        "d_emb_dict = defaultdict(lambda: 64)\n",
        "\n",
        "def flatten_dict(d):\n",
        "    for k, v in d.items():\n",
        "        d[k] = v.flatten(1)\n",
        "    return d"
      ],
      "metadata": {
        "id": "oSGL7euSjzR-"
      },
      "execution_count": 26,
      "outputs": []
    },
    {
      "cell_type": "code",
      "source": [
        "class NodeEmbedding(nn.Module):\n",
        "\n",
        "    def __init__(self, n_nodes:dict, d_in:dict, d_emb:dict, proj_nodes=None, embed_nodes=None):\n",
        "        super().__init__()\n",
        "        self.proj_nodes = proj_nodes if proj_nodes is not None else list(d_in.keys())\n",
        "        self.embed_nodes = embed_nodes if embed_nodes is not None else list(n_nodes.keys())\n",
        "        self.emb = nn.ModuleDict({k:nn.Embedding(n_nodes[k], d_emb) for k in self.embed_nodes})\n",
        "        self.proj = nn.ModuleDict({k:nn.Linear(d_in[k], d_emb, bias=False) for k in self.proj_nodes})\n",
        "        self.init()\n",
        "\n",
        "    def forward(self, nx):\n",
        "        out = {}\n",
        "        for k, m  in self.emb.items():\n",
        "            out[k] = m(nx[k])\n",
        "        for k, m  in self.proj.items():\n",
        "            out[k] = m(nx[k])\n",
        "        return out\n",
        "\n",
        "    def init(self):\n",
        "        for _, m in self.emb.items():\n",
        "            torch.nn.init.xavier_uniform_(m.weight)\n",
        "        for _, m in self.proj.items():\n",
        "            torch.nn.init.xavier_uniform_(m.weight)"
      ],
      "metadata": {
        "id": "YGqNa5UVgfio"
      },
      "execution_count": 27,
      "outputs": []
    },
    {
      "cell_type": "code",
      "source": [
        "class Residual(nn.Module):\n",
        "\n",
        "    def __init__(self, conv):\n",
        "        super().__init__()\n",
        "        self.conv = conv\n",
        "\n",
        "    def forward(self, graph, x):\n",
        "        h = self.conv(graph, x)\n",
        "        res = x[1]\n",
        "        return h + res"
      ],
      "metadata": {
        "id": "vN3hV1uAv1L2"
      },
      "execution_count": 28,
      "outputs": []
    },
    {
      "cell_type": "code",
      "source": [
        "in_proj = NodeEmbedding({k:graph.num_nodes(k) for k in [\"user\"]}, {\"article\":text_embs.shape[1]}, 64)\n",
        "conv = dgl.nn.HeteroGraphConv({rel:Residual(dgl.nn.GraphConv(64, 64, allow_zero_in_degree=True)) for rel in graph.etypes})"
      ],
      "metadata": {
        "id": "yc-vcrjpw-6T"
      },
      "execution_count": 29,
      "outputs": []
    },
    {
      "cell_type": "code",
      "source": [
        "blocks = batch[-1]\n",
        "block = blocks[0]\n",
        "x = block.ndata['feat']\n",
        "\n",
        "with torch.no_grad():\n",
        "    h = in_proj(x)\n",
        "    res = conv(block, h)"
      ],
      "metadata": {
        "id": "uKQd2Wn3xDSn"
      },
      "execution_count": 30,
      "outputs": []
    },
    {
      "cell_type": "code",
      "source": [
        "res['article'].shape, res['user'].shape"
      ],
      "metadata": {
        "colab": {
          "base_uri": "https://localhost:8080/"
        },
        "id": "dEYSQp_oyewZ",
        "outputId": "c33451ee-bea1-44e7-a397-92511b8df77a"
      },
      "execution_count": 31,
      "outputs": [
        {
          "output_type": "execute_result",
          "data": {
            "text/plain": [
              "(torch.Size([64, 64]), torch.Size([0, 64]))"
            ]
          },
          "metadata": {},
          "execution_count": 31
        }
      ]
    },
    {
      "cell_type": "code",
      "source": [
        "class Encoder(torch.nn.Module):\n",
        "\n",
        "    def __init__(self, d_in, d_h, etypes, dropout=0.0):\n",
        "        super().__init__()\n",
        "        self.layers = nn.ModuleList([\n",
        "            dgl.nn.HeteroGraphConv({\n",
        "                rel : Residual(dgl.nn.GraphConv(d_in, d_h, allow_zero_in_degree=True)) for rel in etypes\n",
        "            }),\n",
        "            dgl.nn.HeteroGraphConv({\n",
        "                rel : Residual(dgl.nn.GraphConv(d_h, d_h, allow_zero_in_degree=True)) for rel in etypes\n",
        "            })\n",
        "        ])\n",
        "\n",
        "    def forward(self, blocks, x):\n",
        "        \n",
        "        for layer, block in zip(self.layers, blocks):\n",
        "            x = layer(block, x)\n",
        "        return x"
      ],
      "metadata": {
        "id": "bceu2k_-OgIG"
      },
      "execution_count": 32,
      "outputs": []
    },
    {
      "cell_type": "code",
      "source": [
        "graph.ndata['feat']['article'].shape"
      ],
      "metadata": {
        "colab": {
          "base_uri": "https://localhost:8080/"
        },
        "id": "9tfx9M1N37yc",
        "outputId": "ef5ce4a8-da55-4907-c82b-c13ae652a011"
      },
      "execution_count": 33,
      "outputs": [
        {
          "output_type": "execute_result",
          "data": {
            "text/plain": [
              "torch.Size([19968, 300])"
            ]
          },
          "metadata": {},
          "execution_count": 33
        }
      ]
    },
    {
      "cell_type": "code",
      "source": [
        "class GNN(nn.Module):\n",
        "\n",
        "    def __init__(self, g, d_h:int, tgt_ntype:str, emb_nodes:list=['user'], proj_nodes:list=['article']):\n",
        "        super().__init__()\n",
        "        self.tgt_ntype = tgt_ntype\n",
        "        self.in_proj = NodeEmbedding(\n",
        "            {k:g.num_nodes(k) for k in emb_nodes}, \n",
        "            {k:graph.ndata['feat'][k].shape[1] for k in proj_nodes},\n",
        "            d_h\n",
        "        )\n",
        "        self.encoder = Encoder(d_h, d_h, g.etypes)\n",
        "        self.head = nn.Linear(d_h, 2)\n",
        "\n",
        "    def forward(self, blocks, x):\n",
        "        h = self.in_proj(x)\n",
        "        h = self.encoder(blocks, h)\n",
        "        return self.head(h[self.tgt_ntype])\n",
        "\n",
        "    @torch.no_grad()\n",
        "    def get_embeddings(self, graph, x):\n",
        "        h = self.emb(x)\n",
        "        h = self.encoder(graph, h)\n",
        "        return h[self.tgt_ntype]"
      ],
      "metadata": {
        "id": "hFfx0YmfXoom"
      },
      "execution_count": 34,
      "outputs": []
    },
    {
      "cell_type": "code",
      "source": [
        "model = GNN(graph, 128, 'article')\n",
        "\n",
        "with torch.no_grad():\n",
        "    logits = model(blocks, x)"
      ],
      "metadata": {
        "id": "wFkuDQQgd3-v"
      },
      "execution_count": 35,
      "outputs": []
    },
    {
      "cell_type": "code",
      "source": [
        "logits.shape"
      ],
      "metadata": {
        "colab": {
          "base_uri": "https://localhost:8080/"
        },
        "id": "yhjU0-N1zShT",
        "outputId": "def461cb-fe41-44a8-899f-19cefdf504b1"
      },
      "execution_count": 36,
      "outputs": [
        {
          "output_type": "execute_result",
          "data": {
            "text/plain": [
              "torch.Size([64, 2])"
            ]
          },
          "metadata": {},
          "execution_count": 36
        }
      ]
    },
    {
      "cell_type": "code",
      "source": [
        "def accuracy(logits, labels):\n",
        "    return (logits.argmax(-1) == labels).float().mean()"
      ],
      "metadata": {
        "id": "BunQmwFY8Xso"
      },
      "execution_count": 37,
      "outputs": []
    },
    {
      "cell_type": "code",
      "source": [
        "from sklearn.model_selection import StratifiedKFold\n",
        "\n",
        "skf = StratifiedKFold(shuffle=True, random_state=124)"
      ],
      "metadata": {
        "id": "faEjToOWbAQl"
      },
      "execution_count": 38,
      "outputs": []
    },
    {
      "cell_type": "code",
      "source": [
        "from sklearn.metrics import accuracy_score, f1_score, precision_score, recall_score\n",
        "\n",
        "metrics = [accuracy_score, f1_score, precision_score, recall_score]\n",
        "def get_name(score_func):\n",
        "    return score_func.__name__.split(\"_\")[0]"
      ],
      "metadata": {
        "id": "1vjIXm2wM6_T"
      },
      "execution_count": 39,
      "outputs": []
    },
    {
      "cell_type": "code",
      "source": [
        "class AverageMeter:\n",
        "\n",
        "    def __init__(self, store_vals=False, store_avgs=False):\n",
        "        self.store_vals = store_vals\n",
        "        self.store_avgs = store_avgs\n",
        "        if store_vals: self.values = []\n",
        "        if store_avgs: self.avgs = []\n",
        "        self.tot, self.n = 0, 0\n",
        "\n",
        "    def update(self, v, n=1):\n",
        "        if self.store_vals: self.values.append(v)\n",
        "        self.n += n\n",
        "        self.tot += v*n\n",
        "\n",
        "    @property\n",
        "    def avg(self):\n",
        "        if self.n == 0:\n",
        "            return\n",
        "        return self.tot / self.n\n",
        "\n",
        "    def reset(self):\n",
        "        if self.store_avgs and self.avg: self.avgs.append(self.avg)\n",
        "        self.tot, self.n = 0, 0"
      ],
      "metadata": {
        "id": "S40fYMCU7nzh"
      },
      "execution_count": 40,
      "outputs": []
    },
    {
      "cell_type": "code",
      "source": [
        "def train(fold, train_idx, valid_idx, params):\n",
        "\n",
        "    model = GNN(graph, 128, 'article')\n",
        "    opt = torch.optim.Adam(model.parameters(), params['lr'])\n",
        "    scheduler = torch.optim.lr_scheduler.ReduceLROnPlateau(opt, factor=0.5, patience=10, verbose=True)\n",
        "\n",
        "    train_loss = AverageMeter(store_avgs=True)\n",
        "    train_acc = AverageMeter(store_avgs=True)\n",
        "    valid_loss = AverageMeter(store_avgs=True)\n",
        "    valid_acc = AverageMeter(store_avgs=True)\n",
        "\n",
        "    best_acc = 0\n",
        "    for epoch in range(params['n_epochs']):\n",
        "        model.train()\n",
        "        for batch in train_loader:\n",
        "            blocks = batch[-1]\n",
        "            x = blocks[0].ndata['feat']\n",
        "            logits = model(blocks, x)\n",
        "            \n",
        "            labels = blocks[-1].dstdata['label']['article']\n",
        "            loss = F.cross_entropy(logits, labels)\n",
        "            acc = accuracy(logits, labels)\n",
        "            opt.zero_grad()\n",
        "            loss.backward()\n",
        "            opt.step()\n",
        "\n",
        "            train_loss.update(loss.item(), len(labels))\n",
        "            train_acc.update(acc, len(labels))\n",
        "\n",
        "        model.eval()\n",
        "        for i, batch in enumerate(eval_loader):\n",
        "            blocks = batch[-1]\n",
        "            x = blocks[0].ndata['feat']\n",
        "            with torch.no_grad():\n",
        "                logits = model(blocks, x)\n",
        "\n",
        "                labels = blocks[-1].dstdata['label']['article']\n",
        "                val_loss = F.cross_entropy(logits, labels)\n",
        "                val_acc = accuracy(logits, labels)\n",
        "\n",
        "                valid_loss.update(val_loss.item(), len(labels))\n",
        "                valid_acc.update(val_acc, len(labels))\n",
        "        \n",
        "        scheduler.step(valid_loss.avg)\n",
        "        wandb.log({'train_loss':loss.item(), 'train_acc':acc, 'valid_loss':val_loss.item(), 'valid_acc':val_acc}, step=epoch)\n",
        "        print(f\"{epoch+1:>3}: Train loss {train_loss.avg:.4f}, acc {train_acc.avg:.4f}%; validation loss {valid_loss.avg:.4f}, acc {valid_acc.avg:.4f}%\")\n",
        "        \n",
        "        if valid_acc.avg >= best_acc:\n",
        "            best_acc = valid_acc.avg\n",
        "            torch.save(model.state_dict(), f'models/model-{fold}.pt')\n",
        "        \n",
        "        train_loss.reset()\n",
        "        train_acc.reset()\n",
        "        valid_loss.reset()\n",
        "        valid_acc.reset()\n",
        "\n",
        "        \n",
        "\n",
        "    # load best model and evaluate\n",
        "    model.load_state_dict(torch.load(f'models/model-{fold}.pt'))\n",
        "    model.eval()\n",
        "    preds = []\n",
        "    targs = []\n",
        "    for i, batch in enumerate(eval_loader):\n",
        "        blocks = batch[-1]\n",
        "        x = blocks[0].ndata['feat']\n",
        "        with torch.no_grad():\n",
        "            logits = model(blocks, x)\n",
        "\n",
        "            labels = blocks[-1].dstdata['label']['article']\n",
        "            \n",
        "        preds.append(logits.argmax(-1).cpu().numpy())\n",
        "        targs.append(labels.cpu().numpy())\n",
        "    preds = np.concatenate(preds)\n",
        "    targs = np.concatenate(targs)\n",
        "    eval_results = {get_name(f):f(y_pred=preds, y_true=targs) for f in metrics}\n",
        "    print(\"Final evaluation results:\")\n",
        "    for k,v in eval_results.items():\n",
        "        print(f\"{k:<16}{v:.4f}\")\n",
        "    \n",
        "    wandb.log(eval_results)\n",
        "    wandb.log({\"conf_mat\" : wandb.plot.confusion_matrix(probs=None,\n",
        "                            y_true=targs, preds=preds,\n",
        "                            class_names=[\"Fake\", \"Real\"])})\n",
        "\n",
        "    return {\n",
        "        'train_loss':train_loss,\n",
        "        'train_acc':train_acc,\n",
        "        'valid_loss':valid_loss,\n",
        "        'valid_acc':valid_acc\n",
        "    }"
      ],
      "metadata": {
        "id": "4lvLwrItbAQp"
      },
      "execution_count": 41,
      "outputs": []
    },
    {
      "cell_type": "code",
      "source": [
        "params = {\n",
        "    \"n_epochs\":400,\n",
        "    'bs': 16,\n",
        "    'lr':1e-2,\n",
        "    \"seed\":124,\n",
        "}\n",
        "\n",
        "labels = graph.ndata['label']['article']"
      ],
      "metadata": {
        "id": "VWKvv1xebAQu"
      },
      "execution_count": 48,
      "outputs": []
    },
    {
      "cell_type": "code",
      "source": [
        "if not os.path.exists('models'):\n",
        "    os.mkdir('models')\n",
        "\n",
        "GROUP = \"sbert-fulltextGCop-hetgnn-ua-e400\"\n",
        "for fold_id, (train_idx, valid_idx) in enumerate(skf.split(labels, labels)):\n",
        "    ipd.clear_output()\n",
        "    with wandb.init(entity=\"saloniteam\", project=\"nofolds\", group=GROUP, name=f\"{GROUP}-fold-{fold_id}\") as run:\n",
        "        log = train(fold_id, train_idx, valid_idx, params)\n",
        "    break"
      ],
      "metadata": {
        "id": "7qBu9i1ebAQx",
        "colab": {
          "base_uri": "https://localhost:8080/",
          "height": 1000,
          "referenced_widgets": [
            "dea4096c7b1c45ff87eaeae8279857d3",
            "52a489be3a2642da82151bb13a6341d8",
            "cfa641eba71f4b5993288d0e31d7e979",
            "837f204aac354880a1dd3fedbdc125c1",
            "37bbc8cc31c74c6e997716681380f340",
            "705d2f6d9023458eaeb913a3514fa65d",
            "b1965c3161c74bbdb9f5f9ccdf27ae69",
            "2ec66108ca2544e888e8fe8c7ee612b9"
          ]
        },
        "outputId": "dce5dc0e-9291-4c4d-e544-70df77c22e2a"
      },
      "execution_count": 49,
      "outputs": [
        {
          "data": {
            "text/html": [
              "Tracking run with wandb version 0.13.4"
            ],
            "text/plain": [
              "<IPython.core.display.HTML object>"
            ]
          },
          "metadata": {},
          "output_type": "display_data"
        },
        {
          "data": {
            "text/html": [
              "Run data is saved locally in <code>/content/wandb/run-20221019_181548-15lkappw</code>"
            ],
            "text/plain": [
              "<IPython.core.display.HTML object>"
            ]
          },
          "metadata": {},
          "output_type": "display_data"
        },
        {
          "data": {
            "text/html": [
              "Syncing run <strong><a href=\"https://wandb.ai/saloniteam/nofolds/runs/15lkappw\" target=\"_blank\">sbert-fulltextGCop-hetgnn-ua-e400-fold-0</a></strong> to <a href=\"https://wandb.ai/saloniteam/nofolds\" target=\"_blank\">Weights & Biases</a> (<a href=\"https://wandb.me/run\" target=\"_blank\">docs</a>)<br/>"
            ],
            "text/plain": [
              "<IPython.core.display.HTML object>"
            ]
          },
          "metadata": {},
          "output_type": "display_data"
        },
        {
          "metadata": {
            "tags": null
          },
          "name": "stderr",
          "output_type": "stream",
          "text": [
            "/usr/local/lib/python3.7/dist-packages/dgl/dataloading/dataloader.py:859: DGLWarning: Dataloader CPU affinity opt is not enabled, consider switching it on (see enable_cpu_affinity() or CPU best practices for DGL [https://docs.dgl.ai/tutorials/cpu/cpu_best_practises.html])\n",
            "  dgl_warning(f'Dataloader CPU affinity opt is not enabled, consider switching it on '\n",
            "/usr/local/lib/python3.7/dist-packages/torch/amp/autocast_mode.py:198: UserWarning: User provided device_type of 'cuda', but CUDA is not available. Disabling\n",
            "  warnings.warn('User provided device_type of \\'cuda\\', but CUDA is not available. Disabling')\n"
          ]
        },
        {
          "output_type": "stream",
          "name": "stdout",
          "text": [
            "  1: Train loss 0.5502, acc 0.7808%; validation loss 0.7558, acc 0.7807%\n",
            "  2: Train loss 0.5920, acc 0.7892%; validation loss 0.5991, acc 0.7869%\n",
            "  3: Train loss 0.5200, acc 0.8048%; validation loss 0.5056, acc 0.8132%\n",
            "  4: Train loss 0.4475, acc 0.8216%; validation loss 0.5015, acc 0.8127%\n",
            "  5: Train loss 0.4315, acc 0.8283%; validation loss 0.4844, acc 0.8180%\n",
            "  6: Train loss 0.4222, acc 0.8334%; validation loss 0.5679, acc 0.8135%\n",
            "  7: Train loss 0.4110, acc 0.8354%; validation loss 0.6292, acc 0.8220%\n",
            "  8: Train loss 2.8583, acc 0.8212%; validation loss 6.2250, acc 0.7904%\n",
            "  9: Train loss 4.6424, acc 0.8152%; validation loss 2.1866, acc 0.8227%\n",
            " 10: Train loss 0.6808, acc 0.8254%; validation loss 1.1563, acc 0.8227%\n",
            " 11: Train loss 0.5305, acc 0.8243%; validation loss 0.8613, acc 0.8172%\n",
            " 12: Train loss 0.5197, acc 0.8251%; validation loss 0.8571, acc 0.8202%\n",
            " 13: Train loss 0.4364, acc 0.8319%; validation loss 0.7687, acc 0.8165%\n",
            " 14: Train loss 0.4445, acc 0.8307%; validation loss 2.6736, acc 0.8235%\n",
            " 15: Train loss 0.5044, acc 0.8350%; validation loss 1.3441, acc 0.8220%\n",
            "Epoch 00016: reducing learning rate of group 0 to 5.0000e-03.\n",
            " 16: Train loss 0.4420, acc 0.8363%; validation loss 0.6096, acc 0.8170%\n",
            " 17: Train loss 0.4251, acc 0.8340%; validation loss 0.6383, acc 0.8235%\n",
            " 18: Train loss 0.4116, acc 0.8375%; validation loss 0.5657, acc 0.8260%\n",
            " 19: Train loss 0.4254, acc 0.8386%; validation loss 0.8678, acc 0.8247%\n",
            " 20: Train loss 0.4092, acc 0.8361%; validation loss 0.6262, acc 0.8260%\n",
            " 21: Train loss 0.4111, acc 0.8404%; validation loss 0.5881, acc 0.8250%\n",
            " 22: Train loss 0.4051, acc 0.8393%; validation loss 0.5798, acc 0.8232%\n",
            " 23: Train loss 0.3976, acc 0.8418%; validation loss 0.6555, acc 0.8227%\n",
            " 24: Train loss 0.4044, acc 0.8409%; validation loss 0.6444, acc 0.8227%\n",
            " 25: Train loss 0.4020, acc 0.8412%; validation loss 0.8506, acc 0.8287%\n",
            " 26: Train loss 0.4143, acc 0.8422%; validation loss 0.7326, acc 0.8247%\n",
            "Epoch 00027: reducing learning rate of group 0 to 2.5000e-03.\n",
            " 27: Train loss 0.4070, acc 0.8422%; validation loss 0.7235, acc 0.8247%\n",
            " 28: Train loss 0.3954, acc 0.8422%; validation loss 0.5705, acc 0.8292%\n",
            " 29: Train loss 0.4000, acc 0.8435%; validation loss 0.6843, acc 0.8270%\n",
            " 30: Train loss 0.3894, acc 0.8445%; validation loss 0.5304, acc 0.8247%\n",
            " 31: Train loss 0.3909, acc 0.8452%; validation loss 0.7195, acc 0.8287%\n",
            " 32: Train loss 0.3905, acc 0.8452%; validation loss 0.5889, acc 0.8255%\n",
            " 33: Train loss 0.3912, acc 0.8442%; validation loss 0.6406, acc 0.8265%\n",
            " 34: Train loss 0.3867, acc 0.8459%; validation loss 0.5850, acc 0.8287%\n",
            " 35: Train loss 0.3877, acc 0.8443%; validation loss 0.6446, acc 0.8235%\n",
            " 36: Train loss 0.3896, acc 0.8455%; validation loss 0.7047, acc 0.8265%\n",
            " 37: Train loss 0.4022, acc 0.8449%; validation loss 0.9446, acc 0.8300%\n",
            "Epoch 00038: reducing learning rate of group 0 to 1.2500e-03.\n",
            " 38: Train loss 0.4010, acc 0.8444%; validation loss 0.7100, acc 0.8262%\n",
            " 39: Train loss 0.3860, acc 0.8451%; validation loss 0.6507, acc 0.8300%\n",
            " 40: Train loss 0.3850, acc 0.8453%; validation loss 0.6321, acc 0.8262%\n",
            " 41: Train loss 0.3832, acc 0.8452%; validation loss 0.6131, acc 0.8287%\n",
            " 42: Train loss 0.3843, acc 0.8454%; validation loss 0.6029, acc 0.8292%\n",
            " 43: Train loss 0.3835, acc 0.8457%; validation loss 0.6296, acc 0.8307%\n",
            " 44: Train loss 0.3832, acc 0.8452%; validation loss 0.6566, acc 0.8292%\n",
            " 45: Train loss 0.3817, acc 0.8463%; validation loss 0.5980, acc 0.8257%\n",
            " 46: Train loss 0.3828, acc 0.8457%; validation loss 0.6165, acc 0.8302%\n",
            " 47: Train loss 0.3830, acc 0.8461%; validation loss 0.6048, acc 0.8292%\n",
            " 48: Train loss 0.3838, acc 0.8463%; validation loss 0.5955, acc 0.8267%\n",
            "Epoch 00049: reducing learning rate of group 0 to 6.2500e-04.\n",
            " 49: Train loss 0.3818, acc 0.8457%; validation loss 0.5680, acc 0.8290%\n",
            " 50: Train loss 0.3802, acc 0.8459%; validation loss 0.5717, acc 0.8280%\n",
            " 51: Train loss 0.3791, acc 0.8471%; validation loss 0.5809, acc 0.8287%\n",
            " 52: Train loss 0.3801, acc 0.8468%; validation loss 0.5777, acc 0.8282%\n",
            " 53: Train loss 0.3789, acc 0.8474%; validation loss 0.5600, acc 0.8282%\n",
            " 54: Train loss 0.3786, acc 0.8479%; validation loss 0.5943, acc 0.8272%\n",
            " 55: Train loss 0.3785, acc 0.8479%; validation loss 0.5375, acc 0.8312%\n",
            " 56: Train loss 0.3792, acc 0.8477%; validation loss 0.7378, acc 0.8242%\n",
            " 57: Train loss 0.3812, acc 0.8478%; validation loss 0.6330, acc 0.8312%\n",
            " 58: Train loss 0.3789, acc 0.8473%; validation loss 0.5965, acc 0.8300%\n",
            " 59: Train loss 0.3781, acc 0.8477%; validation loss 0.5576, acc 0.8282%\n",
            "Epoch 00060: reducing learning rate of group 0 to 3.1250e-04.\n",
            " 60: Train loss 0.3780, acc 0.8474%; validation loss 0.5424, acc 0.8315%\n",
            " 61: Train loss 0.3771, acc 0.8478%; validation loss 0.5724, acc 0.8282%\n",
            " 62: Train loss 0.3770, acc 0.8483%; validation loss 0.5560, acc 0.8297%\n",
            " 63: Train loss 0.3772, acc 0.8473%; validation loss 0.5286, acc 0.8277%\n",
            " 64: Train loss 0.3770, acc 0.8482%; validation loss 0.5283, acc 0.8282%\n",
            " 65: Train loss 0.3766, acc 0.8486%; validation loss 0.5184, acc 0.8280%\n",
            " 66: Train loss 0.3769, acc 0.8480%; validation loss 0.5185, acc 0.8300%\n",
            " 67: Train loss 0.3768, acc 0.8469%; validation loss 0.5122, acc 0.8302%\n",
            " 68: Train loss 0.3778, acc 0.8485%; validation loss 0.5473, acc 0.8292%\n",
            " 69: Train loss 0.3769, acc 0.8478%; validation loss 0.5329, acc 0.8310%\n",
            " 70: Train loss 0.3766, acc 0.8489%; validation loss 0.5259, acc 0.8302%\n",
            "Epoch 00071: reducing learning rate of group 0 to 1.5625e-04.\n",
            " 71: Train loss 0.3766, acc 0.8489%; validation loss 0.5237, acc 0.8277%\n",
            " 72: Train loss 0.3762, acc 0.8491%; validation loss 0.5234, acc 0.8297%\n",
            " 73: Train loss 0.3760, acc 0.8480%; validation loss 0.5171, acc 0.8297%\n",
            " 74: Train loss 0.3760, acc 0.8479%; validation loss 0.5172, acc 0.8307%\n",
            " 75: Train loss 0.3765, acc 0.8476%; validation loss 0.5458, acc 0.8292%\n",
            " 76: Train loss 0.3760, acc 0.8479%; validation loss 0.5262, acc 0.8290%\n",
            " 77: Train loss 0.3761, acc 0.8479%; validation loss 0.5068, acc 0.8297%\n",
            " 78: Train loss 0.3758, acc 0.8486%; validation loss 0.5048, acc 0.8300%\n",
            " 79: Train loss 0.3759, acc 0.8481%; validation loss 0.4989, acc 0.8290%\n",
            " 80: Train loss 0.3758, acc 0.8484%; validation loss 0.4935, acc 0.8295%\n",
            " 81: Train loss 0.3758, acc 0.8484%; validation loss 0.4780, acc 0.8302%\n",
            " 82: Train loss 0.3757, acc 0.8491%; validation loss 0.4697, acc 0.8297%\n",
            " 83: Train loss 0.3757, acc 0.8485%; validation loss 0.4702, acc 0.8300%\n",
            " 84: Train loss 0.3756, acc 0.8486%; validation loss 0.4933, acc 0.8277%\n",
            " 85: Train loss 0.3757, acc 0.8489%; validation loss 0.4863, acc 0.8297%\n",
            " 86: Train loss 0.3756, acc 0.8483%; validation loss 0.4773, acc 0.8300%\n",
            " 87: Train loss 0.3756, acc 0.8484%; validation loss 0.4749, acc 0.8295%\n",
            " 88: Train loss 0.3755, acc 0.8488%; validation loss 0.4698, acc 0.8290%\n",
            " 89: Train loss 0.3755, acc 0.8484%; validation loss 0.4708, acc 0.8295%\n",
            " 90: Train loss 0.3757, acc 0.8483%; validation loss 0.4706, acc 0.8287%\n",
            " 91: Train loss 0.3753, acc 0.8491%; validation loss 0.4655, acc 0.8277%\n",
            " 92: Train loss 0.3756, acc 0.8479%; validation loss 0.4604, acc 0.8297%\n",
            " 93: Train loss 0.3754, acc 0.8484%; validation loss 0.4622, acc 0.8295%\n",
            " 94: Train loss 0.3767, acc 0.8478%; validation loss 0.4863, acc 0.8300%\n",
            " 95: Train loss 0.3754, acc 0.8481%; validation loss 0.4841, acc 0.8302%\n",
            " 96: Train loss 0.3752, acc 0.8483%; validation loss 0.4837, acc 0.8295%\n",
            " 97: Train loss 0.3755, acc 0.8489%; validation loss 0.4796, acc 0.8305%\n",
            " 98: Train loss 0.3752, acc 0.8479%; validation loss 0.4787, acc 0.8295%\n",
            " 99: Train loss 0.3761, acc 0.8477%; validation loss 0.5042, acc 0.8282%\n",
            "100: Train loss 0.3753, acc 0.8483%; validation loss 0.4839, acc 0.8302%\n",
            "101: Train loss 0.3751, acc 0.8487%; validation loss 0.4812, acc 0.8295%\n",
            "102: Train loss 0.3753, acc 0.8482%; validation loss 0.4764, acc 0.8297%\n",
            "Epoch 00103: reducing learning rate of group 0 to 7.8125e-05.\n",
            "103: Train loss 0.3752, acc 0.8485%; validation loss 0.4709, acc 0.8297%\n",
            "104: Train loss 0.3755, acc 0.8480%; validation loss 0.4709, acc 0.8292%\n",
            "105: Train loss 0.3750, acc 0.8486%; validation loss 0.4652, acc 0.8300%\n",
            "106: Train loss 0.3748, acc 0.8484%; validation loss 0.4637, acc 0.8297%\n",
            "107: Train loss 0.3750, acc 0.8489%; validation loss 0.4597, acc 0.8297%\n",
            "108: Train loss 0.3748, acc 0.8486%; validation loss 0.4599, acc 0.8302%\n",
            "109: Train loss 0.3749, acc 0.8479%; validation loss 0.4604, acc 0.8297%\n",
            "110: Train loss 0.3749, acc 0.8487%; validation loss 0.4582, acc 0.8300%\n",
            "111: Train loss 0.3750, acc 0.8489%; validation loss 0.4571, acc 0.8297%\n",
            "112: Train loss 0.3748, acc 0.8484%; validation loss 0.4549, acc 0.8300%\n",
            "113: Train loss 0.3748, acc 0.8484%; validation loss 0.4485, acc 0.8300%\n",
            "114: Train loss 0.3746, acc 0.8492%; validation loss 0.4454, acc 0.8282%\n",
            "115: Train loss 0.3750, acc 0.8484%; validation loss 0.4734, acc 0.8290%\n",
            "116: Train loss 0.3749, acc 0.8488%; validation loss 0.4692, acc 0.8290%\n",
            "117: Train loss 0.3749, acc 0.8486%; validation loss 0.4650, acc 0.8292%\n",
            "118: Train loss 0.3748, acc 0.8483%; validation loss 0.4614, acc 0.8290%\n",
            "119: Train loss 0.3750, acc 0.8483%; validation loss 0.4750, acc 0.8295%\n",
            "120: Train loss 0.3747, acc 0.8488%; validation loss 0.4630, acc 0.8295%\n",
            "121: Train loss 0.3748, acc 0.8485%; validation loss 0.4628, acc 0.8300%\n",
            "122: Train loss 0.3748, acc 0.8478%; validation loss 0.4585, acc 0.8295%\n",
            "123: Train loss 0.3747, acc 0.8486%; validation loss 0.4596, acc 0.8290%\n",
            "124: Train loss 0.3747, acc 0.8484%; validation loss 0.4516, acc 0.8300%\n",
            "Epoch 00125: reducing learning rate of group 0 to 3.9063e-05.\n",
            "125: Train loss 0.3746, acc 0.8489%; validation loss 0.4529, acc 0.8272%\n",
            "126: Train loss 0.3746, acc 0.8488%; validation loss 0.4508, acc 0.8292%\n",
            "127: Train loss 0.3745, acc 0.8489%; validation loss 0.4469, acc 0.8295%\n",
            "128: Train loss 0.3745, acc 0.8489%; validation loss 0.4462, acc 0.8295%\n",
            "129: Train loss 0.3745, acc 0.8484%; validation loss 0.4455, acc 0.8292%\n",
            "130: Train loss 0.3745, acc 0.8486%; validation loss 0.4456, acc 0.8292%\n",
            "131: Train loss 0.3745, acc 0.8488%; validation loss 0.4453, acc 0.8290%\n",
            "132: Train loss 0.3745, acc 0.8486%; validation loss 0.4447, acc 0.8290%\n",
            "133: Train loss 0.3745, acc 0.8482%; validation loss 0.4444, acc 0.8285%\n",
            "134: Train loss 0.3745, acc 0.8485%; validation loss 0.4418, acc 0.8295%\n",
            "135: Train loss 0.3745, acc 0.8481%; validation loss 0.4402, acc 0.8295%\n",
            "136: Train loss 0.3751, acc 0.8483%; validation loss 0.4476, acc 0.8290%\n",
            "137: Train loss 0.3744, acc 0.8482%; validation loss 0.4452, acc 0.8290%\n",
            "138: Train loss 0.3745, acc 0.8484%; validation loss 0.4438, acc 0.8290%\n",
            "139: Train loss 0.3743, acc 0.8486%; validation loss 0.4399, acc 0.8292%\n",
            "140: Train loss 0.3744, acc 0.8486%; validation loss 0.4399, acc 0.8287%\n",
            "141: Train loss 0.3745, acc 0.8484%; validation loss 0.4377, acc 0.8292%\n",
            "142: Train loss 0.3744, acc 0.8488%; validation loss 0.4375, acc 0.8290%\n",
            "143: Train loss 0.3747, acc 0.8486%; validation loss 0.4425, acc 0.8287%\n",
            "144: Train loss 0.3744, acc 0.8487%; validation loss 0.4412, acc 0.8290%\n",
            "145: Train loss 0.3745, acc 0.8484%; validation loss 0.4412, acc 0.8292%\n",
            "146: Train loss 0.3744, acc 0.8485%; validation loss 0.4416, acc 0.8292%\n",
            "147: Train loss 0.3744, acc 0.8486%; validation loss 0.4401, acc 0.8287%\n",
            "148: Train loss 0.3744, acc 0.8488%; validation loss 0.4375, acc 0.8290%\n",
            "149: Train loss 0.3744, acc 0.8486%; validation loss 0.4366, acc 0.8290%\n",
            "150: Train loss 0.3743, acc 0.8485%; validation loss 0.4416, acc 0.8277%\n",
            "151: Train loss 0.3744, acc 0.8491%; validation loss 0.4382, acc 0.8287%\n",
            "152: Train loss 0.3744, acc 0.8488%; validation loss 0.4371, acc 0.8285%\n",
            "153: Train loss 0.3743, acc 0.8484%; validation loss 0.4371, acc 0.8290%\n",
            "154: Train loss 0.3744, acc 0.8484%; validation loss 0.4399, acc 0.8285%\n",
            "155: Train loss 0.3744, acc 0.8485%; validation loss 0.4362, acc 0.8290%\n",
            "156: Train loss 0.3743, acc 0.8484%; validation loss 0.4385, acc 0.8290%\n",
            "157: Train loss 0.3744, acc 0.8488%; validation loss 0.4381, acc 0.8287%\n",
            "158: Train loss 0.3743, acc 0.8486%; validation loss 0.4452, acc 0.8280%\n",
            "159: Train loss 0.3744, acc 0.8488%; validation loss 0.4423, acc 0.8285%\n",
            "160: Train loss 0.3744, acc 0.8483%; validation loss 0.4389, acc 0.8285%\n",
            "161: Train loss 0.3743, acc 0.8489%; validation loss 0.4375, acc 0.8285%\n",
            "162: Train loss 0.3743, acc 0.8493%; validation loss 0.4370, acc 0.8287%\n",
            "163: Train loss 0.3743, acc 0.8488%; validation loss 0.4351, acc 0.8285%\n",
            "164: Train loss 0.3743, acc 0.8488%; validation loss 0.4340, acc 0.8292%\n",
            "165: Train loss 0.3742, acc 0.8491%; validation loss 0.4381, acc 0.8287%\n",
            "166: Train loss 0.3743, acc 0.8486%; validation loss 0.4326, acc 0.8290%\n",
            "167: Train loss 0.3743, acc 0.8484%; validation loss 0.4307, acc 0.8285%\n",
            "168: Train loss 0.3742, acc 0.8491%; validation loss 0.4314, acc 0.8290%\n",
            "169: Train loss 0.3743, acc 0.8489%; validation loss 0.4391, acc 0.8292%\n",
            "170: Train loss 0.3743, acc 0.8489%; validation loss 0.4372, acc 0.8290%\n",
            "171: Train loss 0.3743, acc 0.8486%; validation loss 0.4357, acc 0.8290%\n",
            "172: Train loss 0.3742, acc 0.8489%; validation loss 0.4365, acc 0.8280%\n",
            "173: Train loss 0.3742, acc 0.8491%; validation loss 0.4353, acc 0.8290%\n",
            "174: Train loss 0.3742, acc 0.8488%; validation loss 0.4329, acc 0.8287%\n",
            "175: Train loss 0.3743, acc 0.8491%; validation loss 0.4392, acc 0.8285%\n",
            "176: Train loss 0.3742, acc 0.8489%; validation loss 0.4385, acc 0.8280%\n",
            "177: Train loss 0.3743, acc 0.8489%; validation loss 0.4331, acc 0.8287%\n",
            "Epoch 00178: reducing learning rate of group 0 to 1.9531e-05.\n",
            "178: Train loss 0.3742, acc 0.8486%; validation loss 0.4307, acc 0.8290%\n",
            "179: Train loss 0.3741, acc 0.8490%; validation loss 0.4306, acc 0.8287%\n",
            "180: Train loss 0.3741, acc 0.8491%; validation loss 0.4307, acc 0.8282%\n",
            "181: Train loss 0.3742, acc 0.8490%; validation loss 0.4313, acc 0.8290%\n",
            "182: Train loss 0.3741, acc 0.8491%; validation loss 0.4331, acc 0.8285%\n",
            "183: Train loss 0.3741, acc 0.8491%; validation loss 0.4318, acc 0.8282%\n",
            "184: Train loss 0.3743, acc 0.8488%; validation loss 0.4326, acc 0.8282%\n",
            "185: Train loss 0.3741, acc 0.8490%; validation loss 0.4381, acc 0.8280%\n",
            "186: Train loss 0.3741, acc 0.8489%; validation loss 0.4372, acc 0.8280%\n",
            "187: Train loss 0.3741, acc 0.8488%; validation loss 0.4349, acc 0.8272%\n",
            "188: Train loss 0.3742, acc 0.8488%; validation loss 0.4356, acc 0.8282%\n",
            "189: Train loss 0.3741, acc 0.8491%; validation loss 0.4350, acc 0.8280%\n",
            "Epoch 00190: reducing learning rate of group 0 to 9.7656e-06.\n",
            "190: Train loss 0.3742, acc 0.8488%; validation loss 0.4334, acc 0.8285%\n",
            "191: Train loss 0.3740, acc 0.8489%; validation loss 0.4335, acc 0.8285%\n",
            "192: Train loss 0.3740, acc 0.8491%; validation loss 0.4328, acc 0.8282%\n",
            "193: Train loss 0.3740, acc 0.8491%; validation loss 0.4316, acc 0.8282%\n",
            "194: Train loss 0.3740, acc 0.8489%; validation loss 0.4312, acc 0.8282%\n",
            "195: Train loss 0.3740, acc 0.8490%; validation loss 0.4314, acc 0.8280%\n",
            "196: Train loss 0.3741, acc 0.8489%; validation loss 0.4313, acc 0.8282%\n",
            "197: Train loss 0.3740, acc 0.8493%; validation loss 0.4308, acc 0.8282%\n",
            "198: Train loss 0.3741, acc 0.8490%; validation loss 0.4304, acc 0.8282%\n",
            "199: Train loss 0.3740, acc 0.8491%; validation loss 0.4299, acc 0.8285%\n",
            "200: Train loss 0.3740, acc 0.8491%; validation loss 0.4302, acc 0.8282%\n",
            "201: Train loss 0.3740, acc 0.8491%; validation loss 0.4293, acc 0.8282%\n",
            "202: Train loss 0.3740, acc 0.8491%; validation loss 0.4290, acc 0.8285%\n",
            "203: Train loss 0.3740, acc 0.8491%; validation loss 0.4284, acc 0.8287%\n",
            "204: Train loss 0.3740, acc 0.8491%; validation loss 0.4278, acc 0.8292%\n",
            "205: Train loss 0.3740, acc 0.8491%; validation loss 0.4271, acc 0.8290%\n",
            "206: Train loss 0.3740, acc 0.8491%; validation loss 0.4274, acc 0.8290%\n",
            "207: Train loss 0.3740, acc 0.8489%; validation loss 0.4274, acc 0.8290%\n",
            "208: Train loss 0.3740, acc 0.8491%; validation loss 0.4263, acc 0.8290%\n",
            "209: Train loss 0.3740, acc 0.8490%; validation loss 0.4265, acc 0.8290%\n",
            "210: Train loss 0.3740, acc 0.8490%; validation loss 0.4288, acc 0.8282%\n",
            "211: Train loss 0.3740, acc 0.8491%; validation loss 0.4284, acc 0.8287%\n",
            "212: Train loss 0.3741, acc 0.8489%; validation loss 0.4285, acc 0.8287%\n",
            "213: Train loss 0.3740, acc 0.8489%; validation loss 0.4281, acc 0.8287%\n",
            "214: Train loss 0.3741, acc 0.8489%; validation loss 0.4291, acc 0.8290%\n",
            "215: Train loss 0.3740, acc 0.8489%; validation loss 0.4293, acc 0.8290%\n",
            "216: Train loss 0.3740, acc 0.8493%; validation loss 0.4282, acc 0.8287%\n",
            "217: Train loss 0.3741, acc 0.8489%; validation loss 0.4288, acc 0.8285%\n",
            "218: Train loss 0.3740, acc 0.8491%; validation loss 0.4285, acc 0.8290%\n",
            "Epoch 00219: reducing learning rate of group 0 to 4.8828e-06.\n",
            "219: Train loss 0.3740, acc 0.8489%; validation loss 0.4282, acc 0.8290%\n",
            "220: Train loss 0.3740, acc 0.8490%; validation loss 0.4280, acc 0.8292%\n",
            "221: Train loss 0.3739, acc 0.8490%; validation loss 0.4279, acc 0.8290%\n",
            "222: Train loss 0.3739, acc 0.8489%; validation loss 0.4277, acc 0.8292%\n",
            "223: Train loss 0.3741, acc 0.8490%; validation loss 0.4291, acc 0.8285%\n",
            "224: Train loss 0.3740, acc 0.8490%; validation loss 0.4290, acc 0.8285%\n",
            "225: Train loss 0.3740, acc 0.8489%; validation loss 0.4288, acc 0.8285%\n",
            "226: Train loss 0.3739, acc 0.8490%; validation loss 0.4288, acc 0.8287%\n",
            "227: Train loss 0.3740, acc 0.8489%; validation loss 0.4287, acc 0.8290%\n",
            "228: Train loss 0.3739, acc 0.8490%; validation loss 0.4284, acc 0.8290%\n",
            "229: Train loss 0.3740, acc 0.8490%; validation loss 0.4280, acc 0.8292%\n",
            "Epoch 00230: reducing learning rate of group 0 to 2.4414e-06.\n",
            "230: Train loss 0.3740, acc 0.8489%; validation loss 0.4278, acc 0.8292%\n",
            "231: Train loss 0.3739, acc 0.8492%; validation loss 0.4278, acc 0.8290%\n",
            "232: Train loss 0.3740, acc 0.8489%; validation loss 0.4280, acc 0.8292%\n",
            "233: Train loss 0.3740, acc 0.8490%; validation loss 0.4281, acc 0.8292%\n",
            "234: Train loss 0.3740, acc 0.8489%; validation loss 0.4279, acc 0.8292%\n",
            "235: Train loss 0.3739, acc 0.8491%; validation loss 0.4280, acc 0.8290%\n",
            "236: Train loss 0.3739, acc 0.8491%; validation loss 0.4279, acc 0.8292%\n",
            "237: Train loss 0.3739, acc 0.8491%; validation loss 0.4277, acc 0.8290%\n",
            "238: Train loss 0.3740, acc 0.8489%; validation loss 0.4286, acc 0.8287%\n",
            "239: Train loss 0.3739, acc 0.8491%; validation loss 0.4284, acc 0.8290%\n",
            "240: Train loss 0.3739, acc 0.8490%; validation loss 0.4285, acc 0.8287%\n",
            "Epoch 00241: reducing learning rate of group 0 to 1.2207e-06.\n",
            "241: Train loss 0.3739, acc 0.8489%; validation loss 0.4282, acc 0.8292%\n",
            "242: Train loss 0.3739, acc 0.8491%; validation loss 0.4281, acc 0.8290%\n",
            "243: Train loss 0.3739, acc 0.8490%; validation loss 0.4281, acc 0.8290%\n",
            "244: Train loss 0.3739, acc 0.8491%; validation loss 0.4282, acc 0.8292%\n",
            "245: Train loss 0.3739, acc 0.8489%; validation loss 0.4282, acc 0.8292%\n",
            "246: Train loss 0.3742, acc 0.8489%; validation loss 0.4280, acc 0.8292%\n",
            "247: Train loss 0.3740, acc 0.8489%; validation loss 0.4280, acc 0.8292%\n",
            "248: Train loss 0.3741, acc 0.8489%; validation loss 0.4281, acc 0.8292%\n",
            "249: Train loss 0.3739, acc 0.8490%; validation loss 0.4281, acc 0.8292%\n",
            "250: Train loss 0.3739, acc 0.8490%; validation loss 0.4281, acc 0.8292%\n",
            "251: Train loss 0.3739, acc 0.8490%; validation loss 0.4280, acc 0.8292%\n",
            "Epoch 00252: reducing learning rate of group 0 to 6.1035e-07.\n",
            "252: Train loss 0.3740, acc 0.8489%; validation loss 0.4280, acc 0.8292%\n",
            "253: Train loss 0.3739, acc 0.8489%; validation loss 0.4280, acc 0.8292%\n",
            "254: Train loss 0.3739, acc 0.8491%; validation loss 0.4280, acc 0.8292%\n",
            "255: Train loss 0.3739, acc 0.8489%; validation loss 0.4280, acc 0.8292%\n",
            "256: Train loss 0.3740, acc 0.8490%; validation loss 0.4280, acc 0.8292%\n",
            "257: Train loss 0.3740, acc 0.8489%; validation loss 0.4279, acc 0.8292%\n",
            "258: Train loss 0.3739, acc 0.8489%; validation loss 0.4279, acc 0.8292%\n",
            "259: Train loss 0.3739, acc 0.8489%; validation loss 0.4279, acc 0.8292%\n",
            "260: Train loss 0.3739, acc 0.8489%; validation loss 0.4278, acc 0.8292%\n",
            "261: Train loss 0.3739, acc 0.8490%; validation loss 0.4278, acc 0.8292%\n",
            "262: Train loss 0.3739, acc 0.8489%; validation loss 0.4278, acc 0.8292%\n",
            "Epoch 00263: reducing learning rate of group 0 to 3.0518e-07.\n",
            "263: Train loss 0.3739, acc 0.8489%; validation loss 0.4278, acc 0.8292%\n",
            "264: Train loss 0.3740, acc 0.8489%; validation loss 0.4278, acc 0.8292%\n",
            "265: Train loss 0.3739, acc 0.8489%; validation loss 0.4278, acc 0.8292%\n",
            "266: Train loss 0.3740, acc 0.8489%; validation loss 0.4278, acc 0.8292%\n",
            "267: Train loss 0.3739, acc 0.8489%; validation loss 0.4277, acc 0.8292%\n",
            "268: Train loss 0.3738, acc 0.8491%; validation loss 0.4277, acc 0.8292%\n",
            "269: Train loss 0.3739, acc 0.8489%; validation loss 0.4277, acc 0.8292%\n",
            "270: Train loss 0.3741, acc 0.8488%; validation loss 0.4278, acc 0.8292%\n",
            "271: Train loss 0.3739, acc 0.8489%; validation loss 0.4278, acc 0.8292%\n",
            "272: Train loss 0.3739, acc 0.8489%; validation loss 0.4278, acc 0.8292%\n",
            "273: Train loss 0.3739, acc 0.8489%; validation loss 0.4278, acc 0.8292%\n",
            "Epoch 00274: reducing learning rate of group 0 to 1.5259e-07.\n",
            "274: Train loss 0.3739, acc 0.8490%; validation loss 0.4278, acc 0.8292%\n",
            "275: Train loss 0.3739, acc 0.8489%; validation loss 0.4278, acc 0.8292%\n",
            "276: Train loss 0.3739, acc 0.8489%; validation loss 0.4278, acc 0.8292%\n",
            "277: Train loss 0.3739, acc 0.8489%; validation loss 0.4278, acc 0.8292%\n",
            "278: Train loss 0.3739, acc 0.8489%; validation loss 0.4277, acc 0.8292%\n",
            "279: Train loss 0.3739, acc 0.8490%; validation loss 0.4277, acc 0.8292%\n",
            "280: Train loss 0.3739, acc 0.8488%; validation loss 0.4278, acc 0.8292%\n",
            "281: Train loss 0.3739, acc 0.8489%; validation loss 0.4278, acc 0.8292%\n",
            "282: Train loss 0.3739, acc 0.8489%; validation loss 0.4278, acc 0.8292%\n",
            "283: Train loss 0.3739, acc 0.8489%; validation loss 0.4278, acc 0.8292%\n",
            "284: Train loss 0.3739, acc 0.8489%; validation loss 0.4278, acc 0.8292%\n",
            "Epoch 00285: reducing learning rate of group 0 to 7.6294e-08.\n",
            "285: Train loss 0.3739, acc 0.8489%; validation loss 0.4278, acc 0.8292%\n",
            "286: Train loss 0.3739, acc 0.8489%; validation loss 0.4278, acc 0.8292%\n",
            "287: Train loss 0.3740, acc 0.8489%; validation loss 0.4278, acc 0.8292%\n",
            "288: Train loss 0.3740, acc 0.8489%; validation loss 0.4278, acc 0.8292%\n",
            "289: Train loss 0.3739, acc 0.8489%; validation loss 0.4278, acc 0.8292%\n",
            "290: Train loss 0.3740, acc 0.8489%; validation loss 0.4278, acc 0.8292%\n",
            "291: Train loss 0.3740, acc 0.8488%; validation loss 0.4278, acc 0.8292%\n",
            "292: Train loss 0.3740, acc 0.8488%; validation loss 0.4278, acc 0.8292%\n",
            "293: Train loss 0.3739, acc 0.8489%; validation loss 0.4278, acc 0.8292%\n",
            "294: Train loss 0.3739, acc 0.8489%; validation loss 0.4278, acc 0.8292%\n",
            "295: Train loss 0.3739, acc 0.8489%; validation loss 0.4278, acc 0.8292%\n",
            "Epoch 00296: reducing learning rate of group 0 to 3.8147e-08.\n",
            "296: Train loss 0.3739, acc 0.8490%; validation loss 0.4278, acc 0.8292%\n",
            "297: Train loss 0.3740, acc 0.8489%; validation loss 0.4278, acc 0.8292%\n",
            "298: Train loss 0.3739, acc 0.8488%; validation loss 0.4278, acc 0.8292%\n",
            "299: Train loss 0.3739, acc 0.8489%; validation loss 0.4278, acc 0.8292%\n",
            "300: Train loss 0.3740, acc 0.8488%; validation loss 0.4278, acc 0.8292%\n",
            "301: Train loss 0.3740, acc 0.8489%; validation loss 0.4278, acc 0.8292%\n",
            "302: Train loss 0.3739, acc 0.8489%; validation loss 0.4278, acc 0.8292%\n",
            "303: Train loss 0.3740, acc 0.8488%; validation loss 0.4278, acc 0.8292%\n",
            "304: Train loss 0.3740, acc 0.8489%; validation loss 0.4278, acc 0.8292%\n",
            "305: Train loss 0.3739, acc 0.8489%; validation loss 0.4278, acc 0.8292%\n",
            "306: Train loss 0.3740, acc 0.8488%; validation loss 0.4278, acc 0.8292%\n",
            "Epoch 00307: reducing learning rate of group 0 to 1.9073e-08.\n",
            "307: Train loss 0.3740, acc 0.8489%; validation loss 0.4278, acc 0.8292%\n",
            "308: Train loss 0.3739, acc 0.8489%; validation loss 0.4278, acc 0.8292%\n",
            "309: Train loss 0.3739, acc 0.8489%; validation loss 0.4278, acc 0.8292%\n",
            "310: Train loss 0.3739, acc 0.8489%; validation loss 0.4278, acc 0.8292%\n",
            "311: Train loss 0.3740, acc 0.8489%; validation loss 0.4278, acc 0.8292%\n",
            "312: Train loss 0.3739, acc 0.8489%; validation loss 0.4278, acc 0.8292%\n",
            "313: Train loss 0.3739, acc 0.8489%; validation loss 0.4278, acc 0.8292%\n",
            "314: Train loss 0.3739, acc 0.8489%; validation loss 0.4278, acc 0.8292%\n",
            "315: Train loss 0.3739, acc 0.8488%; validation loss 0.4278, acc 0.8292%\n",
            "316: Train loss 0.3740, acc 0.8488%; validation loss 0.4278, acc 0.8292%\n",
            "317: Train loss 0.3739, acc 0.8488%; validation loss 0.4278, acc 0.8292%\n",
            "318: Train loss 0.3739, acc 0.8489%; validation loss 0.4278, acc 0.8292%\n",
            "319: Train loss 0.3739, acc 0.8490%; validation loss 0.4278, acc 0.8292%\n",
            "320: Train loss 0.3739, acc 0.8489%; validation loss 0.4278, acc 0.8292%\n",
            "321: Train loss 0.3739, acc 0.8489%; validation loss 0.4278, acc 0.8292%\n",
            "322: Train loss 0.3740, acc 0.8489%; validation loss 0.4278, acc 0.8292%\n",
            "323: Train loss 0.3740, acc 0.8489%; validation loss 0.4278, acc 0.8292%\n",
            "324: Train loss 0.3740, acc 0.8489%; validation loss 0.4278, acc 0.8292%\n",
            "325: Train loss 0.3739, acc 0.8489%; validation loss 0.4278, acc 0.8292%\n",
            "326: Train loss 0.3739, acc 0.8489%; validation loss 0.4278, acc 0.8292%\n",
            "327: Train loss 0.3740, acc 0.8489%; validation loss 0.4278, acc 0.8292%\n",
            "328: Train loss 0.3739, acc 0.8490%; validation loss 0.4278, acc 0.8292%\n",
            "329: Train loss 0.3740, acc 0.8489%; validation loss 0.4278, acc 0.8292%\n",
            "330: Train loss 0.3739, acc 0.8489%; validation loss 0.4278, acc 0.8292%\n",
            "331: Train loss 0.3739, acc 0.8489%; validation loss 0.4278, acc 0.8292%\n",
            "332: Train loss 0.3740, acc 0.8489%; validation loss 0.4278, acc 0.8292%\n",
            "333: Train loss 0.3739, acc 0.8490%; validation loss 0.4278, acc 0.8292%\n",
            "334: Train loss 0.3740, acc 0.8488%; validation loss 0.4278, acc 0.8292%\n",
            "335: Train loss 0.3739, acc 0.8489%; validation loss 0.4278, acc 0.8292%\n",
            "336: Train loss 0.3739, acc 0.8489%; validation loss 0.4278, acc 0.8292%\n",
            "337: Train loss 0.3739, acc 0.8489%; validation loss 0.4278, acc 0.8292%\n",
            "338: Train loss 0.3739, acc 0.8489%; validation loss 0.4278, acc 0.8292%\n",
            "339: Train loss 0.3739, acc 0.8489%; validation loss 0.4278, acc 0.8292%\n",
            "340: Train loss 0.3739, acc 0.8490%; validation loss 0.4278, acc 0.8292%\n",
            "341: Train loss 0.3739, acc 0.8490%; validation loss 0.4278, acc 0.8292%\n",
            "342: Train loss 0.3739, acc 0.8489%; validation loss 0.4278, acc 0.8292%\n",
            "343: Train loss 0.3739, acc 0.8489%; validation loss 0.4278, acc 0.8292%\n",
            "344: Train loss 0.3739, acc 0.8489%; validation loss 0.4278, acc 0.8292%\n",
            "345: Train loss 0.3739, acc 0.8489%; validation loss 0.4278, acc 0.8292%\n",
            "346: Train loss 0.3740, acc 0.8489%; validation loss 0.4278, acc 0.8292%\n",
            "347: Train loss 0.3739, acc 0.8489%; validation loss 0.4278, acc 0.8292%\n",
            "348: Train loss 0.3739, acc 0.8489%; validation loss 0.4278, acc 0.8292%\n",
            "349: Train loss 0.3739, acc 0.8490%; validation loss 0.4278, acc 0.8292%\n",
            "350: Train loss 0.3739, acc 0.8490%; validation loss 0.4278, acc 0.8292%\n",
            "351: Train loss 0.3739, acc 0.8489%; validation loss 0.4278, acc 0.8292%\n",
            "352: Train loss 0.3739, acc 0.8489%; validation loss 0.4278, acc 0.8292%\n",
            "353: Train loss 0.3740, acc 0.8488%; validation loss 0.4278, acc 0.8292%\n",
            "354: Train loss 0.3739, acc 0.8489%; validation loss 0.4278, acc 0.8292%\n",
            "355: Train loss 0.3740, acc 0.8488%; validation loss 0.4278, acc 0.8292%\n",
            "356: Train loss 0.3740, acc 0.8488%; validation loss 0.4278, acc 0.8292%\n",
            "357: Train loss 0.3739, acc 0.8489%; validation loss 0.4278, acc 0.8292%\n",
            "358: Train loss 0.3739, acc 0.8489%; validation loss 0.4278, acc 0.8292%\n",
            "359: Train loss 0.3739, acc 0.8489%; validation loss 0.4278, acc 0.8292%\n",
            "360: Train loss 0.3739, acc 0.8489%; validation loss 0.4278, acc 0.8292%\n",
            "361: Train loss 0.3740, acc 0.8488%; validation loss 0.4278, acc 0.8292%\n",
            "362: Train loss 0.3739, acc 0.8490%; validation loss 0.4278, acc 0.8292%\n",
            "363: Train loss 0.3740, acc 0.8488%; validation loss 0.4278, acc 0.8292%\n",
            "364: Train loss 0.3739, acc 0.8489%; validation loss 0.4278, acc 0.8292%\n",
            "365: Train loss 0.3739, acc 0.8489%; validation loss 0.4278, acc 0.8292%\n",
            "366: Train loss 0.3739, acc 0.8489%; validation loss 0.4278, acc 0.8292%\n",
            "367: Train loss 0.3739, acc 0.8489%; validation loss 0.4278, acc 0.8292%\n",
            "368: Train loss 0.3741, acc 0.8489%; validation loss 0.4278, acc 0.8292%\n",
            "369: Train loss 0.3739, acc 0.8489%; validation loss 0.4278, acc 0.8292%\n",
            "370: Train loss 0.3739, acc 0.8489%; validation loss 0.4278, acc 0.8292%\n",
            "371: Train loss 0.3740, acc 0.8489%; validation loss 0.4278, acc 0.8292%\n",
            "372: Train loss 0.3739, acc 0.8489%; validation loss 0.4278, acc 0.8292%\n",
            "373: Train loss 0.3739, acc 0.8489%; validation loss 0.4278, acc 0.8292%\n",
            "374: Train loss 0.3739, acc 0.8489%; validation loss 0.4278, acc 0.8292%\n",
            "375: Train loss 0.3739, acc 0.8489%; validation loss 0.4278, acc 0.8292%\n",
            "376: Train loss 0.3739, acc 0.8489%; validation loss 0.4278, acc 0.8292%\n",
            "377: Train loss 0.3739, acc 0.8489%; validation loss 0.4278, acc 0.8292%\n",
            "378: Train loss 0.3739, acc 0.8488%; validation loss 0.4278, acc 0.8292%\n",
            "379: Train loss 0.3739, acc 0.8489%; validation loss 0.4278, acc 0.8292%\n",
            "380: Train loss 0.3739, acc 0.8489%; validation loss 0.4278, acc 0.8292%\n",
            "381: Train loss 0.3739, acc 0.8489%; validation loss 0.4278, acc 0.8292%\n",
            "382: Train loss 0.3739, acc 0.8489%; validation loss 0.4278, acc 0.8292%\n",
            "383: Train loss 0.3739, acc 0.8490%; validation loss 0.4278, acc 0.8292%\n",
            "384: Train loss 0.3739, acc 0.8489%; validation loss 0.4278, acc 0.8292%\n",
            "385: Train loss 0.3740, acc 0.8488%; validation loss 0.4278, acc 0.8292%\n",
            "386: Train loss 0.3739, acc 0.8489%; validation loss 0.4278, acc 0.8292%\n",
            "387: Train loss 0.3739, acc 0.8489%; validation loss 0.4278, acc 0.8292%\n",
            "388: Train loss 0.3740, acc 0.8488%; validation loss 0.4278, acc 0.8292%\n",
            "389: Train loss 0.3740, acc 0.8489%; validation loss 0.4278, acc 0.8292%\n",
            "390: Train loss 0.3739, acc 0.8489%; validation loss 0.4278, acc 0.8292%\n",
            "391: Train loss 0.3739, acc 0.8489%; validation loss 0.4278, acc 0.8292%\n",
            "392: Train loss 0.3739, acc 0.8489%; validation loss 0.4278, acc 0.8292%\n",
            "393: Train loss 0.3740, acc 0.8488%; validation loss 0.4278, acc 0.8292%\n",
            "394: Train loss 0.3739, acc 0.8489%; validation loss 0.4278, acc 0.8292%\n",
            "395: Train loss 0.3740, acc 0.8489%; validation loss 0.4278, acc 0.8292%\n",
            "396: Train loss 0.3740, acc 0.8489%; validation loss 0.4278, acc 0.8292%\n",
            "397: Train loss 0.3740, acc 0.8489%; validation loss 0.4278, acc 0.8292%\n",
            "398: Train loss 0.3739, acc 0.8489%; validation loss 0.4278, acc 0.8292%\n",
            "399: Train loss 0.3739, acc 0.8489%; validation loss 0.4278, acc 0.8292%\n",
            "400: Train loss 0.3739, acc 0.8488%; validation loss 0.4278, acc 0.8292%\n",
            "Final evaluation results:\n",
            "accuracy        0.8315\n",
            "f1              0.8972\n",
            "precision       0.8486\n",
            "recall          0.9517\n"
          ]
        },
        {
          "output_type": "display_data",
          "data": {
            "text/plain": [
              "<IPython.core.display.HTML object>"
            ],
            "text/html": [
              "Waiting for W&B process to finish... <strong style=\"color:green\">(success).</strong>"
            ]
          },
          "metadata": {}
        },
        {
          "output_type": "display_data",
          "data": {
            "text/plain": [
              "VBox(children=(Label(value='0.001 MB of 0.001 MB uploaded (0.000 MB deduped)\\r'), FloatProgress(value=0.862447…"
            ],
            "application/vnd.jupyter.widget-view+json": {
              "version_major": 2,
              "version_minor": 0,
              "model_id": "dea4096c7b1c45ff87eaeae8279857d3"
            }
          },
          "metadata": {}
        },
        {
          "output_type": "display_data",
          "data": {
            "text/plain": [
              "<IPython.core.display.HTML object>"
            ],
            "text/html": [
              "<style>\n",
              "    table.wandb td:nth-child(1) { padding: 0 10px; text-align: left ; width: auto;} td:nth-child(2) {text-align: left ; width: 100%}\n",
              "    .wandb-row { display: flex; flex-direction: row; flex-wrap: wrap; justify-content: flex-start; width: 100% }\n",
              "    .wandb-col { display: flex; flex-direction: column; flex-basis: 100%; flex: 1; padding: 10px; }\n",
              "    </style>\n",
              "<div class=\"wandb-row\"><div class=\"wandb-col\"><h3>Run history:</h3><br/><table class=\"wandb\"><tr><td>accuracy</td><td>▁</td></tr><tr><td>f1</td><td>▁</td></tr><tr><td>precision</td><td>▁</td></tr><tr><td>recall</td><td>▁</td></tr><tr><td>train_acc</td><td>▃▂▅▂▅▄▅▄▄▄▄▅▄▂▅▄▅▅▅▅▅▁▆▅█▅▆▂▄▅▂▅▅▄▄▆▅▅▅▃</td></tr><tr><td>train_loss</td><td>▃▅▂█▃▄▃▃▃▃▄▄▄▄▃▃▃▃▄▂▃▄▂▄▁▂▃▃▃▃▃▂▃▅▄▂▃▂▃▂</td></tr><tr><td>valid_acc</td><td>▁▁▁▁▁▁▁▁▁▁▁▁▁▁▁▁▁▁▁▁▁▁▁▁▁▁▁▁▁▁▁▁▁▁▁▁▁▁▁▁</td></tr><tr><td>valid_loss</td><td>▂█▃▂▄▃▂▂▂▂▂▂▁▁▁▁▁▁▁▁▁▁▁▁▁▁▁▁▁▁▁▁▁▁▁▁▁▁▁▁</td></tr></table><br/></div><div class=\"wandb-col\"><h3>Run summary:</h3><br/><table class=\"wandb\"><tr><td>accuracy</td><td>0.8315</td></tr><tr><td>f1</td><td>0.8972</td></tr><tr><td>precision</td><td>0.8486</td></tr><tr><td>recall</td><td>0.95172</td></tr><tr><td>train_acc</td><td>0.81579</td></tr><tr><td>train_loss</td><td>0.27258</td></tr><tr><td>valid_acc</td><td>0.88462</td></tr><tr><td>valid_loss</td><td>0.43792</td></tr></table><br/></div></div>"
            ]
          },
          "metadata": {}
        },
        {
          "output_type": "display_data",
          "data": {
            "text/plain": [
              "<IPython.core.display.HTML object>"
            ],
            "text/html": [
              "Synced <strong style=\"color:#cdcd00\">sbert-fulltextGCop-hetgnn-ua-e400-fold-0</strong>: <a href=\"https://wandb.ai/saloniteam/nofolds/runs/15lkappw\" target=\"_blank\">https://wandb.ai/saloniteam/nofolds/runs/15lkappw</a><br/>Synced 5 W&B file(s), 1 media file(s), 1 artifact file(s) and 0 other file(s)"
            ]
          },
          "metadata": {}
        },
        {
          "output_type": "display_data",
          "data": {
            "text/plain": [
              "<IPython.core.display.HTML object>"
            ],
            "text/html": [
              "Find logs at: <code>./wandb/run-20221019_181548-15lkappw/logs</code>"
            ]
          },
          "metadata": {}
        }
      ]
    },
    {
      "cell_type": "code",
      "source": [
        "model = GNN(graph, 128, \"article\")\n",
        "\n",
        "model.load_state_dict(torch.load(f'models/model-{fold_id}.pt'))"
      ],
      "metadata": {
        "id": "wY33CRA85L6h",
        "colab": {
          "base_uri": "https://localhost:8080/"
        },
        "outputId": "f0110e1b-02b5-4291-eb66-469f1d045bba"
      },
      "execution_count": 50,
      "outputs": [
        {
          "output_type": "execute_result",
          "data": {
            "text/plain": [
              "<All keys matched successfully>"
            ]
          },
          "metadata": {},
          "execution_count": 50
        }
      ]
    },
    {
      "cell_type": "code",
      "source": [],
      "metadata": {
        "id": "wj6KA7GN5Q8s"
      },
      "execution_count": null,
      "outputs": []
    }
  ]
}
