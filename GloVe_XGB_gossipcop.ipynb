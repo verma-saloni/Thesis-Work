{
  "nbformat": 4,
  "nbformat_minor": 0,
  "metadata": {
    "colab": {
      "name": "GloVe_XGB_gossipcop.ipynb",
      "provenance": [],
      "collapsed_sections": [],
      "include_colab_link": true
    },
    "kernelspec": {
      "name": "python3",
      "display_name": "Python 3"
    },
    "language_info": {
      "name": "python"
    },
    "widgets": {
      "application/vnd.jupyter.widget-state+json": {
        "3506e391b16341f2b8a289e767f19cad": {
          "model_module": "@jupyter-widgets/controls",
          "model_name": "VBoxModel",
          "model_module_version": "1.5.0",
          "state": {
            "_dom_classes": [],
            "_model_module": "@jupyter-widgets/controls",
            "_model_module_version": "1.5.0",
            "_model_name": "VBoxModel",
            "_view_count": null,
            "_view_module": "@jupyter-widgets/controls",
            "_view_module_version": "1.5.0",
            "_view_name": "VBoxView",
            "box_style": "",
            "children": [
              "IPY_MODEL_582eeae318054558942fe1ae4527f048",
              "IPY_MODEL_8c98eea3294546808cb8737d4de28b7d"
            ],
            "layout": "IPY_MODEL_d86f34bd8559442f866f4e4d3508ddd0"
          }
        },
        "582eeae318054558942fe1ae4527f048": {
          "model_module": "@jupyter-widgets/controls",
          "model_name": "LabelModel",
          "model_module_version": "1.5.0",
          "state": {
            "_dom_classes": [],
            "_model_module": "@jupyter-widgets/controls",
            "_model_module_version": "1.5.0",
            "_model_name": "LabelModel",
            "_view_count": null,
            "_view_module": "@jupyter-widgets/controls",
            "_view_module_version": "1.5.0",
            "_view_name": "LabelView",
            "description": "",
            "description_tooltip": null,
            "layout": "IPY_MODEL_482396c7d5da4cfaa9c9be7ab779cc1d",
            "placeholder": "​",
            "style": "IPY_MODEL_9bf6bb131b294e1481d24b4fea906570",
            "value": "0.042 MB of 0.042 MB uploaded (0.000 MB deduped)\r"
          }
        },
        "8c98eea3294546808cb8737d4de28b7d": {
          "model_module": "@jupyter-widgets/controls",
          "model_name": "FloatProgressModel",
          "model_module_version": "1.5.0",
          "state": {
            "_dom_classes": [],
            "_model_module": "@jupyter-widgets/controls",
            "_model_module_version": "1.5.0",
            "_model_name": "FloatProgressModel",
            "_view_count": null,
            "_view_module": "@jupyter-widgets/controls",
            "_view_module_version": "1.5.0",
            "_view_name": "ProgressView",
            "bar_style": "",
            "description": "",
            "description_tooltip": null,
            "layout": "IPY_MODEL_318cd06172a54854a988d8c795d9a301",
            "max": 1,
            "min": 0,
            "orientation": "horizontal",
            "style": "IPY_MODEL_88bb185dca4443f5a4066954319c3a91",
            "value": 1
          }
        },
        "d86f34bd8559442f866f4e4d3508ddd0": {
          "model_module": "@jupyter-widgets/base",
          "model_name": "LayoutModel",
          "model_module_version": "1.2.0",
          "state": {
            "_model_module": "@jupyter-widgets/base",
            "_model_module_version": "1.2.0",
            "_model_name": "LayoutModel",
            "_view_count": null,
            "_view_module": "@jupyter-widgets/base",
            "_view_module_version": "1.2.0",
            "_view_name": "LayoutView",
            "align_content": null,
            "align_items": null,
            "align_self": null,
            "border": null,
            "bottom": null,
            "display": null,
            "flex": null,
            "flex_flow": null,
            "grid_area": null,
            "grid_auto_columns": null,
            "grid_auto_flow": null,
            "grid_auto_rows": null,
            "grid_column": null,
            "grid_gap": null,
            "grid_row": null,
            "grid_template_areas": null,
            "grid_template_columns": null,
            "grid_template_rows": null,
            "height": null,
            "justify_content": null,
            "justify_items": null,
            "left": null,
            "margin": null,
            "max_height": null,
            "max_width": null,
            "min_height": null,
            "min_width": null,
            "object_fit": null,
            "object_position": null,
            "order": null,
            "overflow": null,
            "overflow_x": null,
            "overflow_y": null,
            "padding": null,
            "right": null,
            "top": null,
            "visibility": null,
            "width": null
          }
        },
        "482396c7d5da4cfaa9c9be7ab779cc1d": {
          "model_module": "@jupyter-widgets/base",
          "model_name": "LayoutModel",
          "model_module_version": "1.2.0",
          "state": {
            "_model_module": "@jupyter-widgets/base",
            "_model_module_version": "1.2.0",
            "_model_name": "LayoutModel",
            "_view_count": null,
            "_view_module": "@jupyter-widgets/base",
            "_view_module_version": "1.2.0",
            "_view_name": "LayoutView",
            "align_content": null,
            "align_items": null,
            "align_self": null,
            "border": null,
            "bottom": null,
            "display": null,
            "flex": null,
            "flex_flow": null,
            "grid_area": null,
            "grid_auto_columns": null,
            "grid_auto_flow": null,
            "grid_auto_rows": null,
            "grid_column": null,
            "grid_gap": null,
            "grid_row": null,
            "grid_template_areas": null,
            "grid_template_columns": null,
            "grid_template_rows": null,
            "height": null,
            "justify_content": null,
            "justify_items": null,
            "left": null,
            "margin": null,
            "max_height": null,
            "max_width": null,
            "min_height": null,
            "min_width": null,
            "object_fit": null,
            "object_position": null,
            "order": null,
            "overflow": null,
            "overflow_x": null,
            "overflow_y": null,
            "padding": null,
            "right": null,
            "top": null,
            "visibility": null,
            "width": null
          }
        },
        "9bf6bb131b294e1481d24b4fea906570": {
          "model_module": "@jupyter-widgets/controls",
          "model_name": "DescriptionStyleModel",
          "model_module_version": "1.5.0",
          "state": {
            "_model_module": "@jupyter-widgets/controls",
            "_model_module_version": "1.5.0",
            "_model_name": "DescriptionStyleModel",
            "_view_count": null,
            "_view_module": "@jupyter-widgets/base",
            "_view_module_version": "1.2.0",
            "_view_name": "StyleView",
            "description_width": ""
          }
        },
        "318cd06172a54854a988d8c795d9a301": {
          "model_module": "@jupyter-widgets/base",
          "model_name": "LayoutModel",
          "model_module_version": "1.2.0",
          "state": {
            "_model_module": "@jupyter-widgets/base",
            "_model_module_version": "1.2.0",
            "_model_name": "LayoutModel",
            "_view_count": null,
            "_view_module": "@jupyter-widgets/base",
            "_view_module_version": "1.2.0",
            "_view_name": "LayoutView",
            "align_content": null,
            "align_items": null,
            "align_self": null,
            "border": null,
            "bottom": null,
            "display": null,
            "flex": null,
            "flex_flow": null,
            "grid_area": null,
            "grid_auto_columns": null,
            "grid_auto_flow": null,
            "grid_auto_rows": null,
            "grid_column": null,
            "grid_gap": null,
            "grid_row": null,
            "grid_template_areas": null,
            "grid_template_columns": null,
            "grid_template_rows": null,
            "height": null,
            "justify_content": null,
            "justify_items": null,
            "left": null,
            "margin": null,
            "max_height": null,
            "max_width": null,
            "min_height": null,
            "min_width": null,
            "object_fit": null,
            "object_position": null,
            "order": null,
            "overflow": null,
            "overflow_x": null,
            "overflow_y": null,
            "padding": null,
            "right": null,
            "top": null,
            "visibility": null,
            "width": null
          }
        },
        "88bb185dca4443f5a4066954319c3a91": {
          "model_module": "@jupyter-widgets/controls",
          "model_name": "ProgressStyleModel",
          "model_module_version": "1.5.0",
          "state": {
            "_model_module": "@jupyter-widgets/controls",
            "_model_module_version": "1.5.0",
            "_model_name": "ProgressStyleModel",
            "_view_count": null,
            "_view_module": "@jupyter-widgets/base",
            "_view_module_version": "1.2.0",
            "_view_name": "StyleView",
            "bar_color": null,
            "description_width": ""
          }
        },
        "12766b55a9e149f1a6f67d3024dc3207": {
          "model_module": "@jupyter-widgets/controls",
          "model_name": "VBoxModel",
          "model_module_version": "1.5.0",
          "state": {
            "_dom_classes": [],
            "_model_module": "@jupyter-widgets/controls",
            "_model_module_version": "1.5.0",
            "_model_name": "VBoxModel",
            "_view_count": null,
            "_view_module": "@jupyter-widgets/controls",
            "_view_module_version": "1.5.0",
            "_view_name": "VBoxView",
            "box_style": "",
            "children": [
              "IPY_MODEL_aa784b2b099b4cf4baf17c160cd64a7b",
              "IPY_MODEL_29a9ac63b83a485f9c003fb5420722bd"
            ],
            "layout": "IPY_MODEL_9b75556b25174e29a0dca121fadf9d9e"
          }
        },
        "aa784b2b099b4cf4baf17c160cd64a7b": {
          "model_module": "@jupyter-widgets/controls",
          "model_name": "LabelModel",
          "model_module_version": "1.5.0",
          "state": {
            "_dom_classes": [],
            "_model_module": "@jupyter-widgets/controls",
            "_model_module_version": "1.5.0",
            "_model_name": "LabelModel",
            "_view_count": null,
            "_view_module": "@jupyter-widgets/controls",
            "_view_module_version": "1.5.0",
            "_view_name": "LabelView",
            "description": "",
            "description_tooltip": null,
            "layout": "IPY_MODEL_06af3d6b76b84b6f839418e1015af069",
            "placeholder": "​",
            "style": "IPY_MODEL_10a5fbb5a83b4ab0b81dd190d9884ad9",
            "value": "0.042 MB of 0.042 MB uploaded (0.000 MB deduped)\r"
          }
        },
        "29a9ac63b83a485f9c003fb5420722bd": {
          "model_module": "@jupyter-widgets/controls",
          "model_name": "FloatProgressModel",
          "model_module_version": "1.5.0",
          "state": {
            "_dom_classes": [],
            "_model_module": "@jupyter-widgets/controls",
            "_model_module_version": "1.5.0",
            "_model_name": "FloatProgressModel",
            "_view_count": null,
            "_view_module": "@jupyter-widgets/controls",
            "_view_module_version": "1.5.0",
            "_view_name": "ProgressView",
            "bar_style": "",
            "description": "",
            "description_tooltip": null,
            "layout": "IPY_MODEL_140544ccb0fb42428f6e57c2755e6597",
            "max": 1,
            "min": 0,
            "orientation": "horizontal",
            "style": "IPY_MODEL_35da40e5eba14b2c947ab178a79d8b33",
            "value": 1
          }
        },
        "9b75556b25174e29a0dca121fadf9d9e": {
          "model_module": "@jupyter-widgets/base",
          "model_name": "LayoutModel",
          "model_module_version": "1.2.0",
          "state": {
            "_model_module": "@jupyter-widgets/base",
            "_model_module_version": "1.2.0",
            "_model_name": "LayoutModel",
            "_view_count": null,
            "_view_module": "@jupyter-widgets/base",
            "_view_module_version": "1.2.0",
            "_view_name": "LayoutView",
            "align_content": null,
            "align_items": null,
            "align_self": null,
            "border": null,
            "bottom": null,
            "display": null,
            "flex": null,
            "flex_flow": null,
            "grid_area": null,
            "grid_auto_columns": null,
            "grid_auto_flow": null,
            "grid_auto_rows": null,
            "grid_column": null,
            "grid_gap": null,
            "grid_row": null,
            "grid_template_areas": null,
            "grid_template_columns": null,
            "grid_template_rows": null,
            "height": null,
            "justify_content": null,
            "justify_items": null,
            "left": null,
            "margin": null,
            "max_height": null,
            "max_width": null,
            "min_height": null,
            "min_width": null,
            "object_fit": null,
            "object_position": null,
            "order": null,
            "overflow": null,
            "overflow_x": null,
            "overflow_y": null,
            "padding": null,
            "right": null,
            "top": null,
            "visibility": null,
            "width": null
          }
        },
        "06af3d6b76b84b6f839418e1015af069": {
          "model_module": "@jupyter-widgets/base",
          "model_name": "LayoutModel",
          "model_module_version": "1.2.0",
          "state": {
            "_model_module": "@jupyter-widgets/base",
            "_model_module_version": "1.2.0",
            "_model_name": "LayoutModel",
            "_view_count": null,
            "_view_module": "@jupyter-widgets/base",
            "_view_module_version": "1.2.0",
            "_view_name": "LayoutView",
            "align_content": null,
            "align_items": null,
            "align_self": null,
            "border": null,
            "bottom": null,
            "display": null,
            "flex": null,
            "flex_flow": null,
            "grid_area": null,
            "grid_auto_columns": null,
            "grid_auto_flow": null,
            "grid_auto_rows": null,
            "grid_column": null,
            "grid_gap": null,
            "grid_row": null,
            "grid_template_areas": null,
            "grid_template_columns": null,
            "grid_template_rows": null,
            "height": null,
            "justify_content": null,
            "justify_items": null,
            "left": null,
            "margin": null,
            "max_height": null,
            "max_width": null,
            "min_height": null,
            "min_width": null,
            "object_fit": null,
            "object_position": null,
            "order": null,
            "overflow": null,
            "overflow_x": null,
            "overflow_y": null,
            "padding": null,
            "right": null,
            "top": null,
            "visibility": null,
            "width": null
          }
        },
        "10a5fbb5a83b4ab0b81dd190d9884ad9": {
          "model_module": "@jupyter-widgets/controls",
          "model_name": "DescriptionStyleModel",
          "model_module_version": "1.5.0",
          "state": {
            "_model_module": "@jupyter-widgets/controls",
            "_model_module_version": "1.5.0",
            "_model_name": "DescriptionStyleModel",
            "_view_count": null,
            "_view_module": "@jupyter-widgets/base",
            "_view_module_version": "1.2.0",
            "_view_name": "StyleView",
            "description_width": ""
          }
        },
        "140544ccb0fb42428f6e57c2755e6597": {
          "model_module": "@jupyter-widgets/base",
          "model_name": "LayoutModel",
          "model_module_version": "1.2.0",
          "state": {
            "_model_module": "@jupyter-widgets/base",
            "_model_module_version": "1.2.0",
            "_model_name": "LayoutModel",
            "_view_count": null,
            "_view_module": "@jupyter-widgets/base",
            "_view_module_version": "1.2.0",
            "_view_name": "LayoutView",
            "align_content": null,
            "align_items": null,
            "align_self": null,
            "border": null,
            "bottom": null,
            "display": null,
            "flex": null,
            "flex_flow": null,
            "grid_area": null,
            "grid_auto_columns": null,
            "grid_auto_flow": null,
            "grid_auto_rows": null,
            "grid_column": null,
            "grid_gap": null,
            "grid_row": null,
            "grid_template_areas": null,
            "grid_template_columns": null,
            "grid_template_rows": null,
            "height": null,
            "justify_content": null,
            "justify_items": null,
            "left": null,
            "margin": null,
            "max_height": null,
            "max_width": null,
            "min_height": null,
            "min_width": null,
            "object_fit": null,
            "object_position": null,
            "order": null,
            "overflow": null,
            "overflow_x": null,
            "overflow_y": null,
            "padding": null,
            "right": null,
            "top": null,
            "visibility": null,
            "width": null
          }
        },
        "35da40e5eba14b2c947ab178a79d8b33": {
          "model_module": "@jupyter-widgets/controls",
          "model_name": "ProgressStyleModel",
          "model_module_version": "1.5.0",
          "state": {
            "_model_module": "@jupyter-widgets/controls",
            "_model_module_version": "1.5.0",
            "_model_name": "ProgressStyleModel",
            "_view_count": null,
            "_view_module": "@jupyter-widgets/base",
            "_view_module_version": "1.2.0",
            "_view_name": "StyleView",
            "bar_color": null,
            "description_width": ""
          }
        },
        "acf9d272e8da409bbfcb353f1e2ef388": {
          "model_module": "@jupyter-widgets/controls",
          "model_name": "VBoxModel",
          "model_module_version": "1.5.0",
          "state": {
            "_dom_classes": [],
            "_model_module": "@jupyter-widgets/controls",
            "_model_module_version": "1.5.0",
            "_model_name": "VBoxModel",
            "_view_count": null,
            "_view_module": "@jupyter-widgets/controls",
            "_view_module_version": "1.5.0",
            "_view_name": "VBoxView",
            "box_style": "",
            "children": [
              "IPY_MODEL_4941eb117138474d9c2e72adcd62441d",
              "IPY_MODEL_157315cc0fa54beba540cf6ce13b26d8"
            ],
            "layout": "IPY_MODEL_a510879f0bba4f8bbd501cd7c8b335fb"
          }
        },
        "4941eb117138474d9c2e72adcd62441d": {
          "model_module": "@jupyter-widgets/controls",
          "model_name": "LabelModel",
          "model_module_version": "1.5.0",
          "state": {
            "_dom_classes": [],
            "_model_module": "@jupyter-widgets/controls",
            "_model_module_version": "1.5.0",
            "_model_name": "LabelModel",
            "_view_count": null,
            "_view_module": "@jupyter-widgets/controls",
            "_view_module_version": "1.5.0",
            "_view_name": "LabelView",
            "description": "",
            "description_tooltip": null,
            "layout": "IPY_MODEL_81d02b11ed3846afa623903845add936",
            "placeholder": "​",
            "style": "IPY_MODEL_edee8435d0024361a556416b6a02d63c",
            "value": "0.042 MB of 0.042 MB uploaded (0.000 MB deduped)\r"
          }
        },
        "157315cc0fa54beba540cf6ce13b26d8": {
          "model_module": "@jupyter-widgets/controls",
          "model_name": "FloatProgressModel",
          "model_module_version": "1.5.0",
          "state": {
            "_dom_classes": [],
            "_model_module": "@jupyter-widgets/controls",
            "_model_module_version": "1.5.0",
            "_model_name": "FloatProgressModel",
            "_view_count": null,
            "_view_module": "@jupyter-widgets/controls",
            "_view_module_version": "1.5.0",
            "_view_name": "ProgressView",
            "bar_style": "",
            "description": "",
            "description_tooltip": null,
            "layout": "IPY_MODEL_8e52c4e8b8c4472b9006f53bcaa05ae6",
            "max": 1,
            "min": 0,
            "orientation": "horizontal",
            "style": "IPY_MODEL_fa44d6845f7f4450b4e4d88afcd98793",
            "value": 1
          }
        },
        "a510879f0bba4f8bbd501cd7c8b335fb": {
          "model_module": "@jupyter-widgets/base",
          "model_name": "LayoutModel",
          "model_module_version": "1.2.0",
          "state": {
            "_model_module": "@jupyter-widgets/base",
            "_model_module_version": "1.2.0",
            "_model_name": "LayoutModel",
            "_view_count": null,
            "_view_module": "@jupyter-widgets/base",
            "_view_module_version": "1.2.0",
            "_view_name": "LayoutView",
            "align_content": null,
            "align_items": null,
            "align_self": null,
            "border": null,
            "bottom": null,
            "display": null,
            "flex": null,
            "flex_flow": null,
            "grid_area": null,
            "grid_auto_columns": null,
            "grid_auto_flow": null,
            "grid_auto_rows": null,
            "grid_column": null,
            "grid_gap": null,
            "grid_row": null,
            "grid_template_areas": null,
            "grid_template_columns": null,
            "grid_template_rows": null,
            "height": null,
            "justify_content": null,
            "justify_items": null,
            "left": null,
            "margin": null,
            "max_height": null,
            "max_width": null,
            "min_height": null,
            "min_width": null,
            "object_fit": null,
            "object_position": null,
            "order": null,
            "overflow": null,
            "overflow_x": null,
            "overflow_y": null,
            "padding": null,
            "right": null,
            "top": null,
            "visibility": null,
            "width": null
          }
        },
        "81d02b11ed3846afa623903845add936": {
          "model_module": "@jupyter-widgets/base",
          "model_name": "LayoutModel",
          "model_module_version": "1.2.0",
          "state": {
            "_model_module": "@jupyter-widgets/base",
            "_model_module_version": "1.2.0",
            "_model_name": "LayoutModel",
            "_view_count": null,
            "_view_module": "@jupyter-widgets/base",
            "_view_module_version": "1.2.0",
            "_view_name": "LayoutView",
            "align_content": null,
            "align_items": null,
            "align_self": null,
            "border": null,
            "bottom": null,
            "display": null,
            "flex": null,
            "flex_flow": null,
            "grid_area": null,
            "grid_auto_columns": null,
            "grid_auto_flow": null,
            "grid_auto_rows": null,
            "grid_column": null,
            "grid_gap": null,
            "grid_row": null,
            "grid_template_areas": null,
            "grid_template_columns": null,
            "grid_template_rows": null,
            "height": null,
            "justify_content": null,
            "justify_items": null,
            "left": null,
            "margin": null,
            "max_height": null,
            "max_width": null,
            "min_height": null,
            "min_width": null,
            "object_fit": null,
            "object_position": null,
            "order": null,
            "overflow": null,
            "overflow_x": null,
            "overflow_y": null,
            "padding": null,
            "right": null,
            "top": null,
            "visibility": null,
            "width": null
          }
        },
        "edee8435d0024361a556416b6a02d63c": {
          "model_module": "@jupyter-widgets/controls",
          "model_name": "DescriptionStyleModel",
          "model_module_version": "1.5.0",
          "state": {
            "_model_module": "@jupyter-widgets/controls",
            "_model_module_version": "1.5.0",
            "_model_name": "DescriptionStyleModel",
            "_view_count": null,
            "_view_module": "@jupyter-widgets/base",
            "_view_module_version": "1.2.0",
            "_view_name": "StyleView",
            "description_width": ""
          }
        },
        "8e52c4e8b8c4472b9006f53bcaa05ae6": {
          "model_module": "@jupyter-widgets/base",
          "model_name": "LayoutModel",
          "model_module_version": "1.2.0",
          "state": {
            "_model_module": "@jupyter-widgets/base",
            "_model_module_version": "1.2.0",
            "_model_name": "LayoutModel",
            "_view_count": null,
            "_view_module": "@jupyter-widgets/base",
            "_view_module_version": "1.2.0",
            "_view_name": "LayoutView",
            "align_content": null,
            "align_items": null,
            "align_self": null,
            "border": null,
            "bottom": null,
            "display": null,
            "flex": null,
            "flex_flow": null,
            "grid_area": null,
            "grid_auto_columns": null,
            "grid_auto_flow": null,
            "grid_auto_rows": null,
            "grid_column": null,
            "grid_gap": null,
            "grid_row": null,
            "grid_template_areas": null,
            "grid_template_columns": null,
            "grid_template_rows": null,
            "height": null,
            "justify_content": null,
            "justify_items": null,
            "left": null,
            "margin": null,
            "max_height": null,
            "max_width": null,
            "min_height": null,
            "min_width": null,
            "object_fit": null,
            "object_position": null,
            "order": null,
            "overflow": null,
            "overflow_x": null,
            "overflow_y": null,
            "padding": null,
            "right": null,
            "top": null,
            "visibility": null,
            "width": null
          }
        },
        "fa44d6845f7f4450b4e4d88afcd98793": {
          "model_module": "@jupyter-widgets/controls",
          "model_name": "ProgressStyleModel",
          "model_module_version": "1.5.0",
          "state": {
            "_model_module": "@jupyter-widgets/controls",
            "_model_module_version": "1.5.0",
            "_model_name": "ProgressStyleModel",
            "_view_count": null,
            "_view_module": "@jupyter-widgets/base",
            "_view_module_version": "1.2.0",
            "_view_name": "StyleView",
            "bar_color": null,
            "description_width": ""
          }
        }
      }
    },
    "accelerator": "GPU",
    "gpuClass": "standard"
  },
  "cells": [
    {
      "cell_type": "markdown",
      "metadata": {
        "id": "view-in-github",
        "colab_type": "text"
      },
      "source": [
        "<a href=\"https://colab.research.google.com/github/verma-saloni/Thesis-Work/blob/main/GloVe_XGB_gossipcop.ipynb\" target=\"_parent\"><img src=\"https://colab.research.google.com/assets/colab-badge.svg\" alt=\"Open In Colab\"/></a>"
      ]
    },
    {
      "cell_type": "markdown",
      "source": [
        "RQ1: Glove embeddings for feature Title and Text of the news article. Embeddings fed into the XgBoost ML model to see results. \n"
      ],
      "metadata": {
        "id": "-ppRdlsrDTcD"
      }
    },
    {
      "cell_type": "code",
      "source": [
        "!pip install -U xgboost wandb"
      ],
      "metadata": {
        "id": "GtXAlqhAwtgD",
        "colab": {
          "base_uri": "https://localhost:8080/"
        },
        "outputId": "1bb99d50-46f7-482a-c79c-987a56f989be"
      },
      "execution_count": 1,
      "outputs": [
        {
          "output_type": "stream",
          "name": "stdout",
          "text": [
            "Looking in indexes: https://pypi.org/simple, https://us-python.pkg.dev/colab-wheels/public/simple/\n",
            "Requirement already satisfied: xgboost in /usr/local/lib/python3.7/dist-packages (0.90)\n",
            "Collecting xgboost\n",
            "  Downloading xgboost-1.6.1-py3-none-manylinux2014_x86_64.whl (192.9 MB)\n",
            "\u001b[K     |████████████████████████████████| 192.9 MB 56 kB/s \n",
            "\u001b[?25hCollecting wandb\n",
            "  Downloading wandb-0.12.21-py2.py3-none-any.whl (1.8 MB)\n",
            "\u001b[K     |████████████████████████████████| 1.8 MB 53.6 MB/s \n",
            "\u001b[?25hRequirement already satisfied: scipy in /usr/local/lib/python3.7/dist-packages (from xgboost) (1.7.3)\n",
            "Requirement already satisfied: numpy in /usr/local/lib/python3.7/dist-packages (from xgboost) (1.21.6)\n",
            "Requirement already satisfied: requests<3,>=2.0.0 in /usr/local/lib/python3.7/dist-packages (from wandb) (2.23.0)\n",
            "Collecting shortuuid>=0.5.0\n",
            "  Downloading shortuuid-1.0.9-py3-none-any.whl (9.4 kB)\n",
            "Requirement already satisfied: setuptools in /usr/local/lib/python3.7/dist-packages (from wandb) (57.4.0)\n",
            "Requirement already satisfied: protobuf<4.0dev,>=3.12.0 in /usr/local/lib/python3.7/dist-packages (from wandb) (3.17.3)\n",
            "Collecting pathtools\n",
            "  Downloading pathtools-0.1.2.tar.gz (11 kB)\n",
            "Requirement already satisfied: six>=1.13.0 in /usr/local/lib/python3.7/dist-packages (from wandb) (1.15.0)\n",
            "Collecting docker-pycreds>=0.4.0\n",
            "  Downloading docker_pycreds-0.4.0-py2.py3-none-any.whl (9.0 kB)\n",
            "Requirement already satisfied: psutil>=5.0.0 in /usr/local/lib/python3.7/dist-packages (from wandb) (5.4.8)\n",
            "Collecting sentry-sdk>=1.0.0\n",
            "  Downloading sentry_sdk-1.7.1-py2.py3-none-any.whl (146 kB)\n",
            "\u001b[K     |████████████████████████████████| 146 kB 61.2 MB/s \n",
            "\u001b[?25hRequirement already satisfied: Click!=8.0.0,>=7.0 in /usr/local/lib/python3.7/dist-packages (from wandb) (7.1.2)\n",
            "Requirement already satisfied: promise<3,>=2.0 in /usr/local/lib/python3.7/dist-packages (from wandb) (2.3)\n",
            "Collecting GitPython>=1.0.0\n",
            "  Downloading GitPython-3.1.27-py3-none-any.whl (181 kB)\n",
            "\u001b[K     |████████████████████████████████| 181 kB 55.4 MB/s \n",
            "\u001b[?25hCollecting setproctitle\n",
            "  Downloading setproctitle-1.2.3-cp37-cp37m-manylinux_2_5_x86_64.manylinux1_x86_64.manylinux_2_17_x86_64.manylinux2014_x86_64.whl (29 kB)\n",
            "Requirement already satisfied: PyYAML in /usr/local/lib/python3.7/dist-packages (from wandb) (3.13)\n",
            "Requirement already satisfied: typing-extensions>=3.7.4.3 in /usr/local/lib/python3.7/dist-packages (from GitPython>=1.0.0->wandb) (4.1.1)\n",
            "Collecting gitdb<5,>=4.0.1\n",
            "  Downloading gitdb-4.0.9-py3-none-any.whl (63 kB)\n",
            "\u001b[K     |████████████████████████████████| 63 kB 2.2 MB/s \n",
            "\u001b[?25hCollecting smmap<6,>=3.0.1\n",
            "  Downloading smmap-5.0.0-py3-none-any.whl (24 kB)\n",
            "Requirement already satisfied: urllib3!=1.25.0,!=1.25.1,<1.26,>=1.21.1 in /usr/local/lib/python3.7/dist-packages (from requests<3,>=2.0.0->wandb) (1.24.3)\n",
            "Requirement already satisfied: certifi>=2017.4.17 in /usr/local/lib/python3.7/dist-packages (from requests<3,>=2.0.0->wandb) (2022.6.15)\n",
            "Requirement already satisfied: idna<3,>=2.5 in /usr/local/lib/python3.7/dist-packages (from requests<3,>=2.0.0->wandb) (2.10)\n",
            "Requirement already satisfied: chardet<4,>=3.0.2 in /usr/local/lib/python3.7/dist-packages (from requests<3,>=2.0.0->wandb) (3.0.4)\n",
            "Building wheels for collected packages: pathtools\n",
            "  Building wheel for pathtools (setup.py) ... \u001b[?25l\u001b[?25hdone\n",
            "  Created wheel for pathtools: filename=pathtools-0.1.2-py3-none-any.whl size=8806 sha256=f411d31ade6538419c04c021a9477ff6201c7ff8cf6f66a73c566bef942c9a42\n",
            "  Stored in directory: /root/.cache/pip/wheels/3e/31/09/fa59cef12cdcfecc627b3d24273699f390e71828921b2cbba2\n",
            "Successfully built pathtools\n",
            "Installing collected packages: smmap, gitdb, shortuuid, setproctitle, sentry-sdk, pathtools, GitPython, docker-pycreds, xgboost, wandb\n",
            "  Attempting uninstall: xgboost\n",
            "    Found existing installation: xgboost 0.90\n",
            "    Uninstalling xgboost-0.90:\n",
            "      Successfully uninstalled xgboost-0.90\n",
            "Successfully installed GitPython-3.1.27 docker-pycreds-0.4.0 gitdb-4.0.9 pathtools-0.1.2 sentry-sdk-1.7.1 setproctitle-1.2.3 shortuuid-1.0.9 smmap-5.0.0 wandb-0.12.21 xgboost-1.6.1\n"
          ]
        }
      ]
    },
    {
      "cell_type": "code",
      "execution_count": 2,
      "metadata": {
        "id": "nCwf-JxlIEJ3"
      },
      "outputs": [],
      "source": [
        "import numpy as np\n",
        "import pandas as pd\n",
        "import seaborn as sns\n",
        "import matplotlib.pyplot as plt\n",
        "import nltk\n",
        "from nltk.corpus import stopwords\n",
        "from nltk.stem.porter import PorterStemmer\n",
        "from wordcloud import WordCloud,STOPWORDS\n",
        "from nltk.stem import WordNetLemmatizer\n",
        "from nltk.tokenize import word_tokenize,sent_tokenize\n",
        "from bs4 import BeautifulSoup\n",
        "import re,string,unicodedata\n",
        "from keras.preprocessing import text, sequence\n",
        "from nltk.tokenize.toktok import ToktokTokenizer\n",
        "from sklearn.metrics import classification_report,confusion_matrix,accuracy_score\n",
        "from string import punctuation\n",
        "from nltk import pos_tag\n",
        "from nltk.corpus import wordnet\n",
        "import gensim.downloader as api\n",
        "\n",
        "import xgboost as xgb\n",
        "\n",
        "from sklearn.model_selection import StratifiedKFold\n",
        "from sklearn.metrics import accuracy_score, f1_score, precision_score, recall_score\n",
        "from pathlib import Path\n",
        "\n",
        "import wandb\n",
        "from wandb.xgboost import WandbCallback\n",
        "from IPython.display import clear_output\n",
        "\n",
        "\n",
        "metrics = [accuracy_score, f1_score, precision_score, recall_score]\n",
        "\n",
        "def get_name(score_func):\n",
        "    return 'eval/' + score_func.__name__.split(\"_\")[0]"
      ]
    },
    {
      "cell_type": "code",
      "source": [
        "from google.colab import drive\n",
        "drive.mount('/content/drive')\n",
        "\n",
        "base_dir = Path(\"/content/drive/MyDrive/ResearchFND\")\n",
        "assert base_dir.exists()"
      ],
      "metadata": {
        "id": "JNkz9D2TIS3n",
        "colab": {
          "base_uri": "https://localhost:8080/"
        },
        "outputId": "62c7a3c0-fcf4-4657-d440-8aaadf1fec93"
      },
      "execution_count": 3,
      "outputs": [
        {
          "output_type": "stream",
          "name": "stdout",
          "text": [
            "Mounted at /content/drive\n"
          ]
        }
      ]
    },
    {
      "cell_type": "code",
      "source": [
        "dataset_id = 'gossipcop'"
      ],
      "metadata": {
        "id": "ICjM3pebMwtW"
      },
      "execution_count": 4,
      "outputs": []
    },
    {
      "cell_type": "code",
      "source": [
        "df = pd.read_csv(base_dir/f\"{dataset_id}_agg.csv\")\n",
        "df.text.fillna('', inplace=True)\n",
        "df.head()"
      ],
      "metadata": {
        "id": "5EOKd3_lIS6L",
        "colab": {
          "base_uri": "https://localhost:8080/",
          "height": 206
        },
        "outputId": "5e1cb2a8-181c-4c6c-c0d7-a15c47e89508"
      },
      "execution_count": 8,
      "outputs": [
        {
          "output_type": "execute_result",
          "data": {
            "text/plain": [
              "                                               title text  \\\n",
              "0      Kendall   Kylie Jenner Jenner NOT Upset Up...        \n",
              "1      Kim Kardashian Dethroned Dethroned By Khlo...        \n",
              "2      Kim Kardashian Did NOT Hot Staffer Hot Sta...        \n",
              "3      The Voice The Voice Team NOT Surprised Sur...        \n",
              "4     Drake NOT Angelina Jolie s Toy Boy Toy Boy ...        \n",
              "\n",
              "                                              tweets  \\\n",
              "0                                                 []   \n",
              "1                                                 []   \n",
              "2                                                 []   \n",
              "3                                                 []   \n",
              "4  [{'id': 948630026496323585, 'text': 'Drake NOT...   \n",
              "\n",
              "                                            retweets label  url  \n",
              "0  ['995423424741888001', '995461685166202880', '...  fake  NaN  \n",
              "1  ['848843565027516416', '849030801970868224', '...  fake  NaN  \n",
              "2  ['940685393112064001', '977921622672920576', '...  fake  NaN  \n",
              "3                                                 []  fake  NaN  \n",
              "4  ['948022124626808832', '948630026496323585', '...  fake  NaN  "
            ],
            "text/html": [
              "\n",
              "  <div id=\"df-e61a8628-8e0a-4ac8-a9aa-705e10e31e69\">\n",
              "    <div class=\"colab-df-container\">\n",
              "      <div>\n",
              "<style scoped>\n",
              "    .dataframe tbody tr th:only-of-type {\n",
              "        vertical-align: middle;\n",
              "    }\n",
              "\n",
              "    .dataframe tbody tr th {\n",
              "        vertical-align: top;\n",
              "    }\n",
              "\n",
              "    .dataframe thead th {\n",
              "        text-align: right;\n",
              "    }\n",
              "</style>\n",
              "<table border=\"1\" class=\"dataframe\">\n",
              "  <thead>\n",
              "    <tr style=\"text-align: right;\">\n",
              "      <th></th>\n",
              "      <th>title</th>\n",
              "      <th>text</th>\n",
              "      <th>tweets</th>\n",
              "      <th>retweets</th>\n",
              "      <th>label</th>\n",
              "      <th>url</th>\n",
              "    </tr>\n",
              "  </thead>\n",
              "  <tbody>\n",
              "    <tr>\n",
              "      <th>0</th>\n",
              "      <td>Kendall   Kylie Jenner Jenner NOT Upset Up...</td>\n",
              "      <td></td>\n",
              "      <td>[]</td>\n",
              "      <td>['995423424741888001', '995461685166202880', '...</td>\n",
              "      <td>fake</td>\n",
              "      <td>NaN</td>\n",
              "    </tr>\n",
              "    <tr>\n",
              "      <th>1</th>\n",
              "      <td>Kim Kardashian Dethroned Dethroned By Khlo...</td>\n",
              "      <td></td>\n",
              "      <td>[]</td>\n",
              "      <td>['848843565027516416', '849030801970868224', '...</td>\n",
              "      <td>fake</td>\n",
              "      <td>NaN</td>\n",
              "    </tr>\n",
              "    <tr>\n",
              "      <th>2</th>\n",
              "      <td>Kim Kardashian Did NOT Hot Staffer Hot Sta...</td>\n",
              "      <td></td>\n",
              "      <td>[]</td>\n",
              "      <td>['940685393112064001', '977921622672920576', '...</td>\n",
              "      <td>fake</td>\n",
              "      <td>NaN</td>\n",
              "    </tr>\n",
              "    <tr>\n",
              "      <th>3</th>\n",
              "      <td>The Voice The Voice Team NOT Surprised Sur...</td>\n",
              "      <td></td>\n",
              "      <td>[]</td>\n",
              "      <td>[]</td>\n",
              "      <td>fake</td>\n",
              "      <td>NaN</td>\n",
              "    </tr>\n",
              "    <tr>\n",
              "      <th>4</th>\n",
              "      <td>Drake NOT Angelina Jolie s Toy Boy Toy Boy ...</td>\n",
              "      <td></td>\n",
              "      <td>[{'id': 948630026496323585, 'text': 'Drake NOT...</td>\n",
              "      <td>['948022124626808832', '948630026496323585', '...</td>\n",
              "      <td>fake</td>\n",
              "      <td>NaN</td>\n",
              "    </tr>\n",
              "  </tbody>\n",
              "</table>\n",
              "</div>\n",
              "      <button class=\"colab-df-convert\" onclick=\"convertToInteractive('df-e61a8628-8e0a-4ac8-a9aa-705e10e31e69')\"\n",
              "              title=\"Convert this dataframe to an interactive table.\"\n",
              "              style=\"display:none;\">\n",
              "        \n",
              "  <svg xmlns=\"http://www.w3.org/2000/svg\" height=\"24px\"viewBox=\"0 0 24 24\"\n",
              "       width=\"24px\">\n",
              "    <path d=\"M0 0h24v24H0V0z\" fill=\"none\"/>\n",
              "    <path d=\"M18.56 5.44l.94 2.06.94-2.06 2.06-.94-2.06-.94-.94-2.06-.94 2.06-2.06.94zm-11 1L8.5 8.5l.94-2.06 2.06-.94-2.06-.94L8.5 2.5l-.94 2.06-2.06.94zm10 10l.94 2.06.94-2.06 2.06-.94-2.06-.94-.94-2.06-.94 2.06-2.06.94z\"/><path d=\"M17.41 7.96l-1.37-1.37c-.4-.4-.92-.59-1.43-.59-.52 0-1.04.2-1.43.59L10.3 9.45l-7.72 7.72c-.78.78-.78 2.05 0 2.83L4 21.41c.39.39.9.59 1.41.59.51 0 1.02-.2 1.41-.59l7.78-7.78 2.81-2.81c.8-.78.8-2.07 0-2.86zM5.41 20L4 18.59l7.72-7.72 1.47 1.35L5.41 20z\"/>\n",
              "  </svg>\n",
              "      </button>\n",
              "      \n",
              "  <style>\n",
              "    .colab-df-container {\n",
              "      display:flex;\n",
              "      flex-wrap:wrap;\n",
              "      gap: 12px;\n",
              "    }\n",
              "\n",
              "    .colab-df-convert {\n",
              "      background-color: #E8F0FE;\n",
              "      border: none;\n",
              "      border-radius: 50%;\n",
              "      cursor: pointer;\n",
              "      display: none;\n",
              "      fill: #1967D2;\n",
              "      height: 32px;\n",
              "      padding: 0 0 0 0;\n",
              "      width: 32px;\n",
              "    }\n",
              "\n",
              "    .colab-df-convert:hover {\n",
              "      background-color: #E2EBFA;\n",
              "      box-shadow: 0px 1px 2px rgba(60, 64, 67, 0.3), 0px 1px 3px 1px rgba(60, 64, 67, 0.15);\n",
              "      fill: #174EA6;\n",
              "    }\n",
              "\n",
              "    [theme=dark] .colab-df-convert {\n",
              "      background-color: #3B4455;\n",
              "      fill: #D2E3FC;\n",
              "    }\n",
              "\n",
              "    [theme=dark] .colab-df-convert:hover {\n",
              "      background-color: #434B5C;\n",
              "      box-shadow: 0px 1px 3px 1px rgba(0, 0, 0, 0.15);\n",
              "      filter: drop-shadow(0px 1px 2px rgba(0, 0, 0, 0.3));\n",
              "      fill: #FFFFFF;\n",
              "    }\n",
              "  </style>\n",
              "\n",
              "      <script>\n",
              "        const buttonEl =\n",
              "          document.querySelector('#df-e61a8628-8e0a-4ac8-a9aa-705e10e31e69 button.colab-df-convert');\n",
              "        buttonEl.style.display =\n",
              "          google.colab.kernel.accessAllowed ? 'block' : 'none';\n",
              "\n",
              "        async function convertToInteractive(key) {\n",
              "          const element = document.querySelector('#df-e61a8628-8e0a-4ac8-a9aa-705e10e31e69');\n",
              "          const dataTable =\n",
              "            await google.colab.kernel.invokeFunction('convertToInteractive',\n",
              "                                                     [key], {});\n",
              "          if (!dataTable) return;\n",
              "\n",
              "          const docLinkHtml = 'Like what you see? Visit the ' +\n",
              "            '<a target=\"_blank\" href=https://colab.research.google.com/notebooks/data_table.ipynb>data table notebook</a>'\n",
              "            + ' to learn more about interactive tables.';\n",
              "          element.innerHTML = '';\n",
              "          dataTable['output_type'] = 'display_data';\n",
              "          await google.colab.output.renderOutput(dataTable, element);\n",
              "          const docLink = document.createElement('div');\n",
              "          docLink.innerHTML = docLinkHtml;\n",
              "          element.appendChild(docLink);\n",
              "        }\n",
              "      </script>\n",
              "    </div>\n",
              "  </div>\n",
              "  "
            ]
          },
          "metadata": {},
          "execution_count": 8
        }
      ]
    },
    {
      "cell_type": "code",
      "source": [
        "(df.title.str.len() == 0).any()"
      ],
      "metadata": {
        "colab": {
          "base_uri": "https://localhost:8080/"
        },
        "id": "2xdHl9MaFXmj",
        "outputId": "74c52a90-0914-413d-fe39-b24bf46bb897"
      },
      "execution_count": 9,
      "outputs": [
        {
          "output_type": "execute_result",
          "data": {
            "text/plain": [
              "False"
            ]
          },
          "metadata": {},
          "execution_count": 9
        }
      ]
    },
    {
      "cell_type": "code",
      "source": [
        "assert len(df) == len(df.title.unique())"
      ],
      "metadata": {
        "id": "5oFq2KCxDnO_"
      },
      "execution_count": 10,
      "outputs": []
    },
    {
      "cell_type": "code",
      "source": [
        "news = df[['title', 'text', 'label']].copy()\n",
        "\n",
        "print(news.isna().any())\n",
        "news.count()"
      ],
      "metadata": {
        "id": "bKsgv1uaITAo",
        "colab": {
          "base_uri": "https://localhost:8080/"
        },
        "outputId": "172e2a3c-2297-4394-9c24-78c746a29368"
      },
      "execution_count": 11,
      "outputs": [
        {
          "output_type": "stream",
          "name": "stdout",
          "text": [
            "title    False\n",
            "text     False\n",
            "label    False\n",
            "dtype: bool\n"
          ]
        },
        {
          "output_type": "execute_result",
          "data": {
            "text/plain": [
              "title    19968\n",
              "text     19968\n",
              "label    19968\n",
              "dtype: int64"
            ]
          },
          "metadata": {},
          "execution_count": 11
        }
      ]
    },
    {
      "cell_type": "markdown",
      "source": [
        "Importing libraries to preprocess the title column. "
      ],
      "metadata": {
        "id": "cFqk-IzAEGcq"
      }
    },
    {
      "cell_type": "code",
      "source": [
        "import nltk\n",
        "nltk.download('stopwords')\n",
        "\n",
        "stop = set(stopwords.words('english'))\n",
        "punctuation = list(string.punctuation)\n",
        "stop.update(punctuation)"
      ],
      "metadata": {
        "id": "7A0mIde_JSkM",
        "colab": {
          "base_uri": "https://localhost:8080/"
        },
        "outputId": "967d6f4a-9789-4347-ad5f-ca3e9fac45e0"
      },
      "execution_count": 12,
      "outputs": [
        {
          "output_type": "stream",
          "name": "stderr",
          "text": [
            "[nltk_data] Downloading package stopwords to /root/nltk_data...\n",
            "[nltk_data]   Unzipping corpora/stopwords.zip.\n"
          ]
        }
      ]
    },
    {
      "cell_type": "code",
      "source": [
        "def strip_html(text):\n",
        "    soup = BeautifulSoup(text, \"html.parser\")\n",
        "    return soup.get_text()\n",
        "\n",
        "#Removing the square brackets\n",
        "def remove_between_square_brackets(text):\n",
        "    return re.sub('\\[[^]]*\\]', '', text)\n",
        "# Removing URL's\n",
        "def remove_between_square_brackets(text):\n",
        "    return re.sub(r'http\\S+', '', text)\n",
        "#Removing the stopwords from text\n",
        "def remove_stopwords(text):\n",
        "    final_text = []\n",
        "    for i in text.split():\n",
        "        if i.strip().lower() not in stop:\n",
        "            final_text.append(i.strip())\n",
        "    return \" \".join(final_text)\n",
        "#Removing the noisy text\n",
        "def denoise_text(text):\n",
        "    text = strip_html(text)\n",
        "    text = remove_between_square_brackets(text)\n",
        "    text = remove_stopwords(text)\n",
        "    return text\n",
        "#Apply function on review column\n",
        "news['text']= news['text'].apply(denoise_text)"
      ],
      "metadata": {
        "id": "3szcamzHJSnN"
      },
      "execution_count": 13,
      "outputs": []
    },
    {
      "cell_type": "code",
      "source": [
        "#Tokenizing Text -> Repsesenting each word by a number\n",
        "tokenizer = text.Tokenizer(oov_token=\"<unk>\")\n",
        "tokenizer.fit_on_texts(news.title)"
      ],
      "metadata": {
        "id": "p4YesU-aKold"
      },
      "execution_count": 14,
      "outputs": []
    },
    {
      "cell_type": "code",
      "source": [
        "d_wv = 300\n",
        "glove = api.load(f'glove-wiki-gigaword-{d_wv}')"
      ],
      "metadata": {
        "id": "mTgiYMDZ_QZp",
        "colab": {
          "base_uri": "https://localhost:8080/"
        },
        "outputId": "3452a5ee-7382-407f-a2d8-374d0f9a193f"
      },
      "execution_count": 15,
      "outputs": [
        {
          "output_type": "stream",
          "name": "stdout",
          "text": [
            "[==================================================] 100.0% 376.1/376.1MB downloaded\n"
          ]
        }
      ]
    },
    {
      "cell_type": "markdown",
      "source": [
        "Creating the embedding matrix to convert features to model-readable format. "
      ],
      "metadata": {
        "id": "-JGQTPtAEPqh"
      }
    },
    {
      "cell_type": "code",
      "source": [
        "emb_matrix = np.zeros((max(tokenizer.word_index.values())+1, d_wv), dtype=np.float32)\n",
        "for i in range(1,max(tokenizer.word_index.values())+1):\n",
        "    word = tokenizer.index_word[i]\n",
        "    if word in glove.vocab:\n",
        "        emb_matrix[i, :] = glove.word_vec(word)"
      ],
      "metadata": {
        "id": "18kZxkq9h6yD"
      },
      "execution_count": 16,
      "outputs": []
    },
    {
      "cell_type": "code",
      "source": [
        "import ast\n",
        "\n",
        "df['tweets'] = df.tweets.map(ast.literal_eval)"
      ],
      "metadata": {
        "id": "1YpnIoGEp2a6"
      },
      "execution_count": 17,
      "outputs": []
    },
    {
      "cell_type": "markdown",
      "source": [
        "Prepping the features."
      ],
      "metadata": {
        "id": "kH0_TnHKEZUc"
      }
    },
    {
      "cell_type": "code",
      "source": [
        "df[\"num_retweets\"] = df.retweets.map(lambda x: len(x.split(',')))\n",
        "df[\"log_num_retweets\"] = np.log1p(df.num_retweets.to_numpy())\n",
        "df[\"num_tweets\"] = df.tweets.map(lambda x: len(set([t[\"id\"] for t in x])))\n",
        "df[\"log_num_tweets\"] = np.log1p(df.num_tweets.to_numpy())"
      ],
      "metadata": {
        "id": "uUGrq9B1mW4n"
      },
      "execution_count": 18,
      "outputs": []
    },
    {
      "cell_type": "markdown",
      "source": [
        "# Training"
      ],
      "metadata": {
        "id": "vr-2gPcEn9qX"
      }
    },
    {
      "cell_type": "code",
      "source": [
        "WANDB_ENTITY = 'saloniteam'\n",
        "WANDB_PROJECT = 'nofolds'"
      ],
      "metadata": {
        "id": "87E6VYHkn_KW"
      },
      "execution_count": 19,
      "outputs": []
    },
    {
      "cell_type": "markdown",
      "source": [
        "The wandb is already logged in a session. Access key to be provided if login is not done. It logs the results into the *nofolds* project in the saloniteam entity (name of account) "
      ],
      "metadata": {
        "id": "1vJ74VwMEepj"
      }
    },
    {
      "cell_type": "markdown",
      "source": [
        "Training the model for titles and full text below respectively. Taking the tokenised text, defining the train parameters, specifiying the name of the run which will be logged in wandb. Once the run is complete, a short summary and the link to wandb is displayed. The wandb tracking can be customised to include different evaluation metrics, and run statistics as well. "
      ],
      "metadata": {
        "id": "YcwJHqcKDRoh"
      }
    },
    {
      "cell_type": "markdown",
      "source": [
        "## Titles"
      ],
      "metadata": {
        "id": "CUdNFHAyEM_3"
      }
    },
    {
      "cell_type": "code",
      "source": [
        "tokenized_titles = tokenizer.texts_to_sequences(news.title.tolist())\n",
        "\n",
        "X = []\n",
        "for title in tokenized_titles:\n",
        "    X.append(emb_matrix[title].mean(0))\n",
        "\n",
        "X = np.stack(X, axis=0)\n",
        "y = (df.label==\"real\").to_numpy().astype(int)\n",
        "\n",
        "X.shape, y.shape"
      ],
      "metadata": {
        "id": "BytT7j9WKon0",
        "colab": {
          "base_uri": "https://localhost:8080/"
        },
        "outputId": "0dbe4753-7d2f-4c34-f971-8800f9e11a88"
      },
      "execution_count": 20,
      "outputs": [
        {
          "output_type": "execute_result",
          "data": {
            "text/plain": [
              "((19968, 300), (19968,))"
            ]
          },
          "metadata": {},
          "execution_count": 20
        }
      ]
    },
    {
      "cell_type": "code",
      "source": [
        "skf = StratifiedKFold(shuffle=True, random_state=124)"
      ],
      "metadata": {
        "id": "Ec5ppDaQK16F"
      },
      "execution_count": 21,
      "outputs": []
    },
    {
      "cell_type": "code",
      "source": [
        "def train(train_idx, test_idx, params):\n",
        "\n",
        "    # training\n",
        "    X_train, X_test = X[train_idx], X[test_idx]\n",
        "    y_train, y_test = y[train_idx], y[test_idx]\n",
        "    dtrain = xgb.DMatrix(X_train, label=y_train)\n",
        "    dtest = xgb.DMatrix(X_test, label=y_test)\n",
        "    watchlist = [(dtrain,'train'), (dtest,'eval')]\n",
        "    N = params.get('num_boost_round', 200)\n",
        "    clf = xgb.train(params, dtrain, num_boost_round=N, early_stopping_rounds=None, evals=watchlist, callbacks=[WandbCallback()])\n",
        "    #evaluation\n",
        "    probs = clf.predict(dtest)\n",
        "    y_pred = (probs > 0.5).astype(int)\n",
        "    eval_results = {get_name(f):f(y_pred=y_pred, y_true=y_test) for f in metrics}\n",
        "    wandb.log(eval_results)\n",
        "    wandb.log({\"conf_mat\" : wandb.plot.confusion_matrix(probs=None,\n",
        "                            y_true=y_test, preds=y_pred,\n",
        "                            class_names=[\"Fake\", \"Real\"])})"
      ],
      "metadata": {
        "id": "5oSeII1QLot_"
      },
      "execution_count": 22,
      "outputs": []
    },
    {
      "cell_type": "code",
      "source": [
        "params = {\n",
        "    \"objective\":'binary:logistic',\n",
        "    \"seed\":124,\n",
        "    'num_boost_round':200\n",
        "}"
      ],
      "metadata": {
        "id": "5IvqyG9jPVQw"
      },
      "execution_count": 23,
      "outputs": []
    },
    {
      "cell_type": "code",
      "source": [
        "GROUP = f\"{dataset_id}-me-glove-title-xgb\"\n",
        "\n",
        "for fold_id, (train_idx, test_idx) in enumerate(skf.split(X, y)):\n",
        "    clear_output()\n",
        "    with wandb.init(entity=WANDB_ENTITY, project=WANDB_PROJECT, group=GROUP, name=f\"{GROUP}-{fold_id}\") as run:\n",
        "        train(train_idx, test_idx, params)\n",
        "    break"
      ],
      "metadata": {
        "id": "UoH1hD_3-rt8",
        "colab": {
          "base_uri": "https://localhost:8080/",
          "referenced_widgets": [
            "3506e391b16341f2b8a289e767f19cad",
            "582eeae318054558942fe1ae4527f048",
            "8c98eea3294546808cb8737d4de28b7d",
            "d86f34bd8559442f866f4e4d3508ddd0",
            "482396c7d5da4cfaa9c9be7ab779cc1d",
            "9bf6bb131b294e1481d24b4fea906570",
            "318cd06172a54854a988d8c795d9a301",
            "88bb185dca4443f5a4066954319c3a91"
          ],
          "height": 1000
        },
        "outputId": "fc0c8598-7199-44d3-c68e-625af7d281f8"
      },
      "execution_count": 24,
      "outputs": [
        {
          "output_type": "display_data",
          "data": {
            "text/plain": [
              "<IPython.core.display.Javascript object>"
            ],
            "application/javascript": [
              "\n",
              "        window._wandbApiKey = new Promise((resolve, reject) => {\n",
              "            function loadScript(url) {\n",
              "            return new Promise(function(resolve, reject) {\n",
              "                let newScript = document.createElement(\"script\");\n",
              "                newScript.onerror = reject;\n",
              "                newScript.onload = resolve;\n",
              "                document.body.appendChild(newScript);\n",
              "                newScript.src = url;\n",
              "            });\n",
              "            }\n",
              "            loadScript(\"https://cdn.jsdelivr.net/npm/postmate/build/postmate.min.js\").then(() => {\n",
              "            const iframe = document.createElement('iframe')\n",
              "            iframe.style.cssText = \"width:0;height:0;border:none\"\n",
              "            document.body.appendChild(iframe)\n",
              "            const handshake = new Postmate({\n",
              "                container: iframe,\n",
              "                url: 'https://wandb.ai/authorize'\n",
              "            });\n",
              "            const timeout = setTimeout(() => reject(\"Couldn't auto authenticate\"), 5000)\n",
              "            handshake.then(function(child) {\n",
              "                child.on('authorize', data => {\n",
              "                    clearTimeout(timeout)\n",
              "                    resolve(data)\n",
              "                });\n",
              "            });\n",
              "            })\n",
              "        });\n",
              "    "
            ]
          },
          "metadata": {}
        },
        {
          "output_type": "stream",
          "name": "stderr",
          "text": [
            "\u001b[34m\u001b[1mwandb\u001b[0m: Appending key for api.wandb.ai to your netrc file: /root/.netrc\n"
          ]
        },
        {
          "output_type": "display_data",
          "data": {
            "text/plain": [
              "<IPython.core.display.HTML object>"
            ],
            "text/html": [
              "Tracking run with wandb version 0.12.21"
            ]
          },
          "metadata": {}
        },
        {
          "output_type": "display_data",
          "data": {
            "text/plain": [
              "<IPython.core.display.HTML object>"
            ],
            "text/html": [
              "Run data is saved locally in <code>/content/wandb/run-20220714_191842-35jdotx0</code>"
            ]
          },
          "metadata": {}
        },
        {
          "output_type": "display_data",
          "data": {
            "text/plain": [
              "<IPython.core.display.HTML object>"
            ],
            "text/html": [
              "Syncing run <strong><a href=\"https://wandb.ai/saloniteam/nofolds/runs/35jdotx0\" target=\"_blank\">gossipcop-me-glove-title-xgb-0</a></strong> to <a href=\"https://wandb.ai/saloniteam/nofolds\" target=\"_blank\">Weights & Biases</a> (<a href=\"https://wandb.me/run\" target=\"_blank\">docs</a>)<br/>"
            ]
          },
          "metadata": {}
        },
        {
          "output_type": "stream",
          "name": "stdout",
          "text": [
            "[19:18:43] WARNING: ../src/learner.cc:627: \n",
            "Parameters: { \"num_boost_round\" } might not be used.\n",
            "\n",
            "  This could be a false alarm, with some parameters getting used by language bindings but\n",
            "  then being mistakenly passed down to XGBoost core, or some parameter actually being used\n",
            "  but getting flagged wrongly here. Please open an issue if you find any such cases.\n",
            "\n",
            "\n",
            "[0]\ttrain-logloss:0.58670\teval-logloss:0.60014\n",
            "[1]\ttrain-logloss:0.52188\teval-logloss:0.54931\n",
            "[2]\ttrain-logloss:0.47744\teval-logloss:0.51655\n",
            "[3]\ttrain-logloss:0.44686\teval-logloss:0.49819\n",
            "[4]\ttrain-logloss:0.42172\teval-logloss:0.48486\n",
            "[5]\ttrain-logloss:0.40078\teval-logloss:0.47534\n",
            "[6]\ttrain-logloss:0.38394\teval-logloss:0.46910\n",
            "[7]\ttrain-logloss:0.36684\teval-logloss:0.46478\n",
            "[8]\ttrain-logloss:0.35352\teval-logloss:0.45999\n",
            "[9]\ttrain-logloss:0.34141\teval-logloss:0.45613\n",
            "[10]\ttrain-logloss:0.33027\teval-logloss:0.45353\n",
            "[11]\ttrain-logloss:0.31975\teval-logloss:0.45098\n",
            "[12]\ttrain-logloss:0.31059\teval-logloss:0.45022\n",
            "[13]\ttrain-logloss:0.30126\teval-logloss:0.44908\n",
            "[14]\ttrain-logloss:0.29501\teval-logloss:0.44744\n",
            "[15]\ttrain-logloss:0.28634\teval-logloss:0.44709\n",
            "[16]\ttrain-logloss:0.28069\teval-logloss:0.44573\n",
            "[17]\ttrain-logloss:0.27280\teval-logloss:0.44571\n",
            "[18]\ttrain-logloss:0.26510\teval-logloss:0.44572\n",
            "[19]\ttrain-logloss:0.25753\teval-logloss:0.44433\n",
            "[20]\ttrain-logloss:0.25055\teval-logloss:0.44509\n",
            "[21]\ttrain-logloss:0.24358\teval-logloss:0.44409\n",
            "[22]\ttrain-logloss:0.23930\teval-logloss:0.44344\n",
            "[23]\ttrain-logloss:0.23243\teval-logloss:0.44162\n",
            "[24]\ttrain-logloss:0.22710\teval-logloss:0.44171\n",
            "[25]\ttrain-logloss:0.22259\teval-logloss:0.44103\n",
            "[26]\ttrain-logloss:0.21747\teval-logloss:0.44094\n",
            "[27]\ttrain-logloss:0.21241\teval-logloss:0.44165\n",
            "[28]\ttrain-logloss:0.20855\teval-logloss:0.44153\n",
            "[29]\ttrain-logloss:0.20545\teval-logloss:0.44112\n",
            "[30]\ttrain-logloss:0.20333\teval-logloss:0.44158\n",
            "[31]\ttrain-logloss:0.19792\teval-logloss:0.44162\n",
            "[32]\ttrain-logloss:0.19536\teval-logloss:0.44171\n",
            "[33]\ttrain-logloss:0.19158\teval-logloss:0.44160\n",
            "[34]\ttrain-logloss:0.18836\teval-logloss:0.44175\n",
            "[35]\ttrain-logloss:0.18415\teval-logloss:0.44149\n",
            "[36]\ttrain-logloss:0.18022\teval-logloss:0.44182\n",
            "[37]\ttrain-logloss:0.17722\teval-logloss:0.44205\n",
            "[38]\ttrain-logloss:0.17212\teval-logloss:0.44417\n",
            "[39]\ttrain-logloss:0.17080\teval-logloss:0.44404\n",
            "[40]\ttrain-logloss:0.16543\teval-logloss:0.44359\n",
            "[41]\ttrain-logloss:0.16339\teval-logloss:0.44330\n",
            "[42]\ttrain-logloss:0.16117\teval-logloss:0.44397\n",
            "[43]\ttrain-logloss:0.15662\teval-logloss:0.44452\n",
            "[44]\ttrain-logloss:0.15185\teval-logloss:0.44379\n",
            "[45]\ttrain-logloss:0.14866\teval-logloss:0.44450\n",
            "[46]\ttrain-logloss:0.14666\teval-logloss:0.44485\n",
            "[47]\ttrain-logloss:0.14499\teval-logloss:0.44527\n",
            "[48]\ttrain-logloss:0.14271\teval-logloss:0.44620\n",
            "[49]\ttrain-logloss:0.13962\teval-logloss:0.44659\n",
            "[50]\ttrain-logloss:0.13881\teval-logloss:0.44652\n",
            "[51]\ttrain-logloss:0.13639\teval-logloss:0.44761\n",
            "[52]\ttrain-logloss:0.13363\teval-logloss:0.44894\n",
            "[53]\ttrain-logloss:0.13015\teval-logloss:0.45152\n",
            "[54]\ttrain-logloss:0.12850\teval-logloss:0.45274\n",
            "[55]\ttrain-logloss:0.12485\teval-logloss:0.45386\n",
            "[56]\ttrain-logloss:0.12196\teval-logloss:0.45357\n",
            "[57]\ttrain-logloss:0.11919\teval-logloss:0.45459\n",
            "[58]\ttrain-logloss:0.11742\teval-logloss:0.45502\n",
            "[59]\ttrain-logloss:0.11541\teval-logloss:0.45528\n",
            "[60]\ttrain-logloss:0.11183\teval-logloss:0.45683\n",
            "[61]\ttrain-logloss:0.10863\teval-logloss:0.45711\n",
            "[62]\ttrain-logloss:0.10564\teval-logloss:0.45694\n",
            "[63]\ttrain-logloss:0.10334\teval-logloss:0.45784\n",
            "[64]\ttrain-logloss:0.10083\teval-logloss:0.45913\n",
            "[65]\ttrain-logloss:0.09944\teval-logloss:0.45877\n",
            "[66]\ttrain-logloss:0.09728\teval-logloss:0.45910\n",
            "[67]\ttrain-logloss:0.09549\teval-logloss:0.45991\n",
            "[68]\ttrain-logloss:0.09304\teval-logloss:0.46022\n",
            "[69]\ttrain-logloss:0.09191\teval-logloss:0.46101\n",
            "[70]\ttrain-logloss:0.08973\teval-logloss:0.46265\n",
            "[71]\ttrain-logloss:0.08746\teval-logloss:0.46234\n",
            "[72]\ttrain-logloss:0.08583\teval-logloss:0.46336\n",
            "[73]\ttrain-logloss:0.08480\teval-logloss:0.46321\n",
            "[74]\ttrain-logloss:0.08376\teval-logloss:0.46405\n",
            "[75]\ttrain-logloss:0.08244\teval-logloss:0.46534\n",
            "[76]\ttrain-logloss:0.08091\teval-logloss:0.46673\n",
            "[77]\ttrain-logloss:0.07968\teval-logloss:0.46663\n",
            "[78]\ttrain-logloss:0.07882\teval-logloss:0.46661\n",
            "[79]\ttrain-logloss:0.07795\teval-logloss:0.46574\n",
            "[80]\ttrain-logloss:0.07622\teval-logloss:0.46679\n",
            "[81]\ttrain-logloss:0.07435\teval-logloss:0.46715\n",
            "[82]\ttrain-logloss:0.07245\teval-logloss:0.46789\n",
            "[83]\ttrain-logloss:0.07147\teval-logloss:0.46823\n",
            "[84]\ttrain-logloss:0.06992\teval-logloss:0.46913\n",
            "[85]\ttrain-logloss:0.06813\teval-logloss:0.46949\n",
            "[86]\ttrain-logloss:0.06682\teval-logloss:0.47033\n",
            "[87]\ttrain-logloss:0.06513\teval-logloss:0.47144\n",
            "[88]\ttrain-logloss:0.06335\teval-logloss:0.47320\n",
            "[89]\ttrain-logloss:0.06222\teval-logloss:0.47474\n",
            "[90]\ttrain-logloss:0.06092\teval-logloss:0.47574\n",
            "[91]\ttrain-logloss:0.05947\teval-logloss:0.47709\n",
            "[92]\ttrain-logloss:0.05777\teval-logloss:0.47801\n",
            "[93]\ttrain-logloss:0.05638\teval-logloss:0.47888\n",
            "[94]\ttrain-logloss:0.05487\teval-logloss:0.47944\n",
            "[95]\ttrain-logloss:0.05409\teval-logloss:0.47988\n",
            "[96]\ttrain-logloss:0.05284\teval-logloss:0.48049\n",
            "[97]\ttrain-logloss:0.05172\teval-logloss:0.48093\n",
            "[98]\ttrain-logloss:0.05067\teval-logloss:0.48266\n",
            "[99]\ttrain-logloss:0.05006\teval-logloss:0.48240\n",
            "[100]\ttrain-logloss:0.04952\teval-logloss:0.48199\n",
            "[101]\ttrain-logloss:0.04858\teval-logloss:0.48296\n",
            "[102]\ttrain-logloss:0.04794\teval-logloss:0.48283\n",
            "[103]\ttrain-logloss:0.04693\teval-logloss:0.48315\n",
            "[104]\ttrain-logloss:0.04577\teval-logloss:0.48427\n",
            "[105]\ttrain-logloss:0.04466\teval-logloss:0.48547\n",
            "[106]\ttrain-logloss:0.04340\teval-logloss:0.48674\n",
            "[107]\ttrain-logloss:0.04231\teval-logloss:0.48746\n",
            "[108]\ttrain-logloss:0.04168\teval-logloss:0.48800\n",
            "[109]\ttrain-logloss:0.04066\teval-logloss:0.48861\n",
            "[110]\ttrain-logloss:0.04024\teval-logloss:0.48911\n",
            "[111]\ttrain-logloss:0.03970\teval-logloss:0.48983\n",
            "[112]\ttrain-logloss:0.03875\teval-logloss:0.49174\n",
            "[113]\ttrain-logloss:0.03837\teval-logloss:0.49234\n",
            "[114]\ttrain-logloss:0.03774\teval-logloss:0.49318\n",
            "[115]\ttrain-logloss:0.03748\teval-logloss:0.49296\n",
            "[116]\ttrain-logloss:0.03719\teval-logloss:0.49311\n",
            "[117]\ttrain-logloss:0.03657\teval-logloss:0.49379\n",
            "[118]\ttrain-logloss:0.03575\teval-logloss:0.49440\n",
            "[119]\ttrain-logloss:0.03522\teval-logloss:0.49536\n",
            "[120]\ttrain-logloss:0.03474\teval-logloss:0.49649\n",
            "[121]\ttrain-logloss:0.03419\teval-logloss:0.49827\n",
            "[122]\ttrain-logloss:0.03353\teval-logloss:0.49930\n",
            "[123]\ttrain-logloss:0.03284\teval-logloss:0.49942\n",
            "[124]\ttrain-logloss:0.03247\teval-logloss:0.49973\n",
            "[125]\ttrain-logloss:0.03200\teval-logloss:0.50108\n",
            "[126]\ttrain-logloss:0.03133\teval-logloss:0.50118\n",
            "[127]\ttrain-logloss:0.03084\teval-logloss:0.50183\n",
            "[128]\ttrain-logloss:0.03022\teval-logloss:0.50151\n",
            "[129]\ttrain-logloss:0.02958\teval-logloss:0.50253\n",
            "[130]\ttrain-logloss:0.02887\teval-logloss:0.50316\n",
            "[131]\ttrain-logloss:0.02824\teval-logloss:0.50368\n",
            "[132]\ttrain-logloss:0.02763\teval-logloss:0.50394\n",
            "[133]\ttrain-logloss:0.02699\teval-logloss:0.50451\n",
            "[134]\ttrain-logloss:0.02638\teval-logloss:0.50559\n",
            "[135]\ttrain-logloss:0.02594\teval-logloss:0.50739\n",
            "[136]\ttrain-logloss:0.02564\teval-logloss:0.50808\n",
            "[137]\ttrain-logloss:0.02526\teval-logloss:0.50873\n",
            "[138]\ttrain-logloss:0.02469\teval-logloss:0.50828\n",
            "[139]\ttrain-logloss:0.02429\teval-logloss:0.50830\n",
            "[140]\ttrain-logloss:0.02384\teval-logloss:0.50889\n",
            "[141]\ttrain-logloss:0.02327\teval-logloss:0.51008\n",
            "[142]\ttrain-logloss:0.02282\teval-logloss:0.51051\n",
            "[143]\ttrain-logloss:0.02257\teval-logloss:0.51036\n",
            "[144]\ttrain-logloss:0.02208\teval-logloss:0.51128\n",
            "[145]\ttrain-logloss:0.02178\teval-logloss:0.51270\n",
            "[146]\ttrain-logloss:0.02158\teval-logloss:0.51330\n",
            "[147]\ttrain-logloss:0.02126\teval-logloss:0.51373\n",
            "[148]\ttrain-logloss:0.02099\teval-logloss:0.51397\n",
            "[149]\ttrain-logloss:0.02074\teval-logloss:0.51503\n",
            "[150]\ttrain-logloss:0.02044\teval-logloss:0.51546\n",
            "[151]\ttrain-logloss:0.02016\teval-logloss:0.51618\n",
            "[152]\ttrain-logloss:0.01983\teval-logloss:0.51712\n",
            "[153]\ttrain-logloss:0.01965\teval-logloss:0.51764\n",
            "[154]\ttrain-logloss:0.01927\teval-logloss:0.51828\n",
            "[155]\ttrain-logloss:0.01892\teval-logloss:0.51916\n",
            "[156]\ttrain-logloss:0.01868\teval-logloss:0.51957\n",
            "[157]\ttrain-logloss:0.01856\teval-logloss:0.51954\n",
            "[158]\ttrain-logloss:0.01832\teval-logloss:0.52035\n",
            "[159]\ttrain-logloss:0.01812\teval-logloss:0.52158\n",
            "[160]\ttrain-logloss:0.01788\teval-logloss:0.52220\n",
            "[161]\ttrain-logloss:0.01753\teval-logloss:0.52298\n",
            "[162]\ttrain-logloss:0.01725\teval-logloss:0.52314\n",
            "[163]\ttrain-logloss:0.01695\teval-logloss:0.52455\n",
            "[164]\ttrain-logloss:0.01676\teval-logloss:0.52427\n",
            "[165]\ttrain-logloss:0.01651\teval-logloss:0.52541\n",
            "[166]\ttrain-logloss:0.01630\teval-logloss:0.52513\n",
            "[167]\ttrain-logloss:0.01603\teval-logloss:0.52598\n",
            "[168]\ttrain-logloss:0.01573\teval-logloss:0.52714\n",
            "[169]\ttrain-logloss:0.01561\teval-logloss:0.52714\n",
            "[170]\ttrain-logloss:0.01540\teval-logloss:0.52758\n",
            "[171]\ttrain-logloss:0.01517\teval-logloss:0.52864\n",
            "[172]\ttrain-logloss:0.01494\teval-logloss:0.52904\n",
            "[173]\ttrain-logloss:0.01483\teval-logloss:0.52953\n",
            "[174]\ttrain-logloss:0.01470\teval-logloss:0.52994\n",
            "[175]\ttrain-logloss:0.01455\teval-logloss:0.53008\n",
            "[176]\ttrain-logloss:0.01427\teval-logloss:0.53108\n",
            "[177]\ttrain-logloss:0.01410\teval-logloss:0.53182\n",
            "[178]\ttrain-logloss:0.01384\teval-logloss:0.53180\n",
            "[179]\ttrain-logloss:0.01361\teval-logloss:0.53299\n",
            "[180]\ttrain-logloss:0.01341\teval-logloss:0.53458\n",
            "[181]\ttrain-logloss:0.01324\teval-logloss:0.53509\n",
            "[182]\ttrain-logloss:0.01309\teval-logloss:0.53567\n",
            "[183]\ttrain-logloss:0.01296\teval-logloss:0.53610\n",
            "[184]\ttrain-logloss:0.01283\teval-logloss:0.53685\n",
            "[185]\ttrain-logloss:0.01263\teval-logloss:0.53795\n",
            "[186]\ttrain-logloss:0.01256\teval-logloss:0.53858\n",
            "[187]\ttrain-logloss:0.01239\teval-logloss:0.53996\n",
            "[188]\ttrain-logloss:0.01230\teval-logloss:0.54046\n",
            "[189]\ttrain-logloss:0.01216\teval-logloss:0.54055\n",
            "[190]\ttrain-logloss:0.01196\teval-logloss:0.54137\n",
            "[191]\ttrain-logloss:0.01187\teval-logloss:0.54214\n",
            "[192]\ttrain-logloss:0.01179\teval-logloss:0.54243\n",
            "[193]\ttrain-logloss:0.01165\teval-logloss:0.54243\n",
            "[194]\ttrain-logloss:0.01154\teval-logloss:0.54290\n",
            "[195]\ttrain-logloss:0.01142\teval-logloss:0.54344\n",
            "[196]\ttrain-logloss:0.01129\teval-logloss:0.54405\n",
            "[197]\ttrain-logloss:0.01115\teval-logloss:0.54608\n",
            "[198]\ttrain-logloss:0.01104\teval-logloss:0.54712\n",
            "[199]\ttrain-logloss:0.01084\teval-logloss:0.54877\n"
          ]
        },
        {
          "output_type": "display_data",
          "data": {
            "text/plain": [
              "<IPython.core.display.HTML object>"
            ],
            "text/html": [
              "Waiting for W&B process to finish... <strong style=\"color:green\">(success).</strong>"
            ]
          },
          "metadata": {}
        },
        {
          "output_type": "display_data",
          "data": {
            "text/plain": [
              "VBox(children=(Label(value='0.018 MB of 0.018 MB uploaded (0.000 MB deduped)\\r'), FloatProgress(value=0.991527…"
            ],
            "application/vnd.jupyter.widget-view+json": {
              "version_major": 2,
              "version_minor": 0,
              "model_id": "3506e391b16341f2b8a289e767f19cad"
            }
          },
          "metadata": {}
        },
        {
          "output_type": "display_data",
          "data": {
            "text/plain": [
              "<IPython.core.display.HTML object>"
            ],
            "text/html": [
              "<style>\n",
              "    table.wandb td:nth-child(1) { padding: 0 10px; text-align: left ; width: auto;} td:nth-child(2) {text-align: left ; width: 100%}\n",
              "    .wandb-row { display: flex; flex-direction: row; flex-wrap: wrap; justify-content: flex-start; width: 100% }\n",
              "    .wandb-col { display: flex; flex-direction: column; flex-basis: 100%; flex: 1; padding: 10px; }\n",
              "    </style>\n",
              "<div class=\"wandb-row\"><div class=\"wandb-col\"><h3>Run history:</h3><br/><table class=\"wandb\"><tr><td>epoch</td><td>▁▁▁▁▂▂▂▂▂▃▃▃▃▃▃▄▄▄▄▄▅▅▅▅▅▅▆▆▆▆▆▇▇▇▇▇▇███</td></tr><tr><td>eval-logloss</td><td>█▃▂▁▁▁▁▁▁▁▁▂▂▂▂▃▃▃▃▄▄▄▄▄▅▅▅▅▅▆▆▆▆▆▇▇▇▇██</td></tr><tr><td>eval/accuracy</td><td>▁</td></tr><tr><td>eval/f1</td><td>▁</td></tr><tr><td>eval/precision</td><td>▁</td></tr><tr><td>eval/recall</td><td>▁</td></tr><tr><td>train-logloss</td><td>█▆▅▅▄▄▄▃▃▃▃▃▂▂▂▂▂▂▂▂▂▁▁▁▁▁▁▁▁▁▁▁▁▁▁▁▁▁▁▁</td></tr></table><br/></div><div class=\"wandb-col\"><h3>Run summary:</h3><br/><table class=\"wandb\"><tr><td>epoch</td><td>199</td></tr><tr><td>eval/accuracy</td><td>0.81948</td></tr><tr><td>eval/f1</td><td>0.89051</td></tr><tr><td>eval/precision</td><td>0.83795</td></tr><tr><td>eval/recall</td><td>0.9501</td></tr></table><br/></div></div>"
            ]
          },
          "metadata": {}
        },
        {
          "output_type": "display_data",
          "data": {
            "text/plain": [
              "<IPython.core.display.HTML object>"
            ],
            "text/html": [
              "Synced <strong style=\"color:#cdcd00\">gossipcop-me-glove-title-xgb-0</strong>: <a href=\"https://wandb.ai/saloniteam/nofolds/runs/35jdotx0\" target=\"_blank\">https://wandb.ai/saloniteam/nofolds/runs/35jdotx0</a><br/>Synced 5 W&B file(s), 2 media file(s), 2 artifact file(s) and 0 other file(s)"
            ]
          },
          "metadata": {}
        },
        {
          "output_type": "display_data",
          "data": {
            "text/plain": [
              "<IPython.core.display.HTML object>"
            ],
            "text/html": [
              "Find logs at: <code>./wandb/run-20220714_191842-35jdotx0/logs</code>"
            ]
          },
          "metadata": {}
        }
      ]
    },
    {
      "cell_type": "markdown",
      "source": [
        "## Fulltext"
      ],
      "metadata": {
        "id": "chLwp438Mdun"
      }
    },
    {
      "cell_type": "markdown",
      "source": [
        "Training for full text + titles now. It can be compared to the performance above to see if there was an improvement or not by adding another feature for real/fake news prediction. "
      ],
      "metadata": {
        "id": "kK0EQV1rFOds"
      }
    },
    {
      "cell_type": "code",
      "source": [
        "news['fulltext'] = news['title'] + '\\n' + news['text']"
      ],
      "metadata": {
        "id": "vtmuh83oMgEx"
      },
      "execution_count": 25,
      "outputs": []
    },
    {
      "cell_type": "code",
      "source": [
        "#Tokenizing Text -> Repsesenting each word by a number\n",
        "tokenizer = text.Tokenizer(oov_token=\"<unk>\")\n",
        "tokenizer.fit_on_texts(news.fulltext)"
      ],
      "metadata": {
        "id": "co9_90NYOFsk"
      },
      "execution_count": 26,
      "outputs": []
    },
    {
      "cell_type": "code",
      "source": [
        "emb_matrix = np.zeros((len(tokenizer.word_index)+1, d_wv), dtype=np.float32)\n",
        "for i in range(1,max(tokenizer.word_index.values())+1):\n",
        "    word = tokenizer.index_word[i]\n",
        "    if word in glove.vocab:\n",
        "        emb_matrix[i, :] = glove.word_vec(word)\n",
        "print(emb_matrix.shape)"
      ],
      "metadata": {
        "colab": {
          "base_uri": "https://localhost:8080/"
        },
        "id": "lGLM2xb0OFs1",
        "outputId": "2842e6dc-3ec7-42b5-f1b4-fc1eab3894d0"
      },
      "execution_count": 27,
      "outputs": [
        {
          "output_type": "stream",
          "name": "stdout",
          "text": [
            "(155471, 300)\n"
          ]
        }
      ]
    },
    {
      "cell_type": "code",
      "source": [
        "tokenized_texts = tokenizer.texts_to_sequences(news.fulltext.tolist())\n",
        "\n",
        "# maximal number of tokens to use (set to -1 to use full article)\n",
        "max_len = 128 \n",
        "X = []\n",
        "for text_ids in tokenized_texts:\n",
        "    text_ids = text_ids[:max_len]\n",
        "    X.append(emb_matrix[text_ids].mean(0))\n",
        "\n",
        "X = np.stack(X, axis=0)\n",
        "y = (df.label==\"real\").to_numpy().astype(int)\n",
        "\n",
        "X.shape, y.shape"
      ],
      "metadata": {
        "colab": {
          "base_uri": "https://localhost:8080/"
        },
        "outputId": "d2284014-49df-40ca-d5ca-600c81e0e873",
        "id": "eozwoQccPaTa"
      },
      "execution_count": 28,
      "outputs": [
        {
          "output_type": "execute_result",
          "data": {
            "text/plain": [
              "((19968, 300), (19968,))"
            ]
          },
          "metadata": {},
          "execution_count": 28
        }
      ]
    },
    {
      "cell_type": "code",
      "source": [
        "params = {\n",
        "    \"objective\":'binary:logistic',\n",
        "    \"seed\":124,\n",
        "    'num_boost_round':200\n",
        "}"
      ],
      "metadata": {
        "id": "5bheiM_bsonl"
      },
      "execution_count": 29,
      "outputs": []
    },
    {
      "cell_type": "code",
      "source": [
        "GROUP = f\"{dataset_id}-me-glove-fulltext-xgb\"\n",
        "\n",
        "for fold_id, (train_idx, test_idx) in enumerate(skf.split(X, y)):\n",
        "    clear_output()\n",
        "    with wandb.init(entity=WANDB_ENTITY, project=WANDB_PROJECT, group=GROUP, name=f\"{GROUP}-{fold_id}\", tags=['glove', 'xgb']) as run:\n",
        "        train(train_idx, test_idx, params)\n",
        "    break"
      ],
      "metadata": {
        "colab": {
          "base_uri": "https://localhost:8080/",
          "height": 1000,
          "referenced_widgets": [
            "12766b55a9e149f1a6f67d3024dc3207",
            "aa784b2b099b4cf4baf17c160cd64a7b",
            "29a9ac63b83a485f9c003fb5420722bd",
            "9b75556b25174e29a0dca121fadf9d9e",
            "06af3d6b76b84b6f839418e1015af069",
            "10a5fbb5a83b4ab0b81dd190d9884ad9",
            "140544ccb0fb42428f6e57c2755e6597",
            "35da40e5eba14b2c947ab178a79d8b33"
          ]
        },
        "outputId": "3915ba4f-1525-4f06-9755-3456e276c61d",
        "id": "OeM095LRsonn"
      },
      "execution_count": 30,
      "outputs": [
        {
          "output_type": "stream",
          "name": "stderr",
          "text": [
            "\u001b[34m\u001b[1mwandb\u001b[0m: Currently logged in as: \u001b[33msaloni\u001b[0m (\u001b[33msaloniteam\u001b[0m). Use \u001b[1m`wandb login --relogin`\u001b[0m to force relogin\n"
          ]
        },
        {
          "output_type": "display_data",
          "data": {
            "text/plain": [
              "<IPython.core.display.HTML object>"
            ],
            "text/html": [
              "Tracking run with wandb version 0.12.21"
            ]
          },
          "metadata": {}
        },
        {
          "output_type": "display_data",
          "data": {
            "text/plain": [
              "<IPython.core.display.HTML object>"
            ],
            "text/html": [
              "Run data is saved locally in <code>/content/wandb/run-20220714_192153-fwfufd23</code>"
            ]
          },
          "metadata": {}
        },
        {
          "output_type": "display_data",
          "data": {
            "text/plain": [
              "<IPython.core.display.HTML object>"
            ],
            "text/html": [
              "Syncing run <strong><a href=\"https://wandb.ai/saloniteam/nofolds/runs/fwfufd23\" target=\"_blank\">gossipcop-me-glove-fulltext-xgb-0</a></strong> to <a href=\"https://wandb.ai/saloniteam/nofolds\" target=\"_blank\">Weights & Biases</a> (<a href=\"https://wandb.me/run\" target=\"_blank\">docs</a>)<br/>"
            ]
          },
          "metadata": {}
        },
        {
          "output_type": "stream",
          "name": "stdout",
          "text": [
            "[19:21:55] WARNING: ../src/learner.cc:627: \n",
            "Parameters: { \"num_boost_round\" } might not be used.\n",
            "\n",
            "  This could be a false alarm, with some parameters getting used by language bindings but\n",
            "  then being mistakenly passed down to XGBoost core, or some parameter actually being used\n",
            "  but getting flagged wrongly here. Please open an issue if you find any such cases.\n",
            "\n",
            "\n",
            "[0]\ttrain-logloss:0.58040\teval-logloss:0.59681\n",
            "[1]\ttrain-logloss:0.51274\teval-logloss:0.53984\n",
            "[2]\ttrain-logloss:0.46633\teval-logloss:0.50653\n",
            "[3]\ttrain-logloss:0.43331\teval-logloss:0.48344\n",
            "[4]\ttrain-logloss:0.40866\teval-logloss:0.47011\n",
            "[5]\ttrain-logloss:0.38701\teval-logloss:0.45858\n",
            "[6]\ttrain-logloss:0.37183\teval-logloss:0.45281\n",
            "[7]\ttrain-logloss:0.35518\teval-logloss:0.44776\n",
            "[8]\ttrain-logloss:0.34178\teval-logloss:0.44280\n",
            "[9]\ttrain-logloss:0.33063\teval-logloss:0.44081\n",
            "[10]\ttrain-logloss:0.31863\teval-logloss:0.43782\n",
            "[11]\ttrain-logloss:0.30761\teval-logloss:0.43418\n",
            "[12]\ttrain-logloss:0.29898\teval-logloss:0.43039\n",
            "[13]\ttrain-logloss:0.28967\teval-logloss:0.42716\n",
            "[14]\ttrain-logloss:0.27890\teval-logloss:0.42554\n",
            "[15]\ttrain-logloss:0.27257\teval-logloss:0.42494\n",
            "[16]\ttrain-logloss:0.26392\teval-logloss:0.42412\n",
            "[17]\ttrain-logloss:0.25618\teval-logloss:0.42338\n",
            "[18]\ttrain-logloss:0.24861\teval-logloss:0.42262\n",
            "[19]\ttrain-logloss:0.24028\teval-logloss:0.42182\n",
            "[20]\ttrain-logloss:0.23366\teval-logloss:0.42197\n",
            "[21]\ttrain-logloss:0.22801\teval-logloss:0.42133\n",
            "[22]\ttrain-logloss:0.22048\teval-logloss:0.42071\n",
            "[23]\ttrain-logloss:0.21341\teval-logloss:0.42152\n",
            "[24]\ttrain-logloss:0.20802\teval-logloss:0.41870\n",
            "[25]\ttrain-logloss:0.20255\teval-logloss:0.41848\n",
            "[26]\ttrain-logloss:0.19735\teval-logloss:0.41780\n",
            "[27]\ttrain-logloss:0.19201\teval-logloss:0.41797\n",
            "[28]\ttrain-logloss:0.18636\teval-logloss:0.41755\n",
            "[29]\ttrain-logloss:0.18186\teval-logloss:0.41773\n",
            "[30]\ttrain-logloss:0.17848\teval-logloss:0.41829\n",
            "[31]\ttrain-logloss:0.17427\teval-logloss:0.41706\n",
            "[32]\ttrain-logloss:0.17023\teval-logloss:0.41682\n",
            "[33]\ttrain-logloss:0.16492\teval-logloss:0.41695\n",
            "[34]\ttrain-logloss:0.16157\teval-logloss:0.41694\n",
            "[35]\ttrain-logloss:0.15656\teval-logloss:0.41831\n",
            "[36]\ttrain-logloss:0.15335\teval-logloss:0.41763\n",
            "[37]\ttrain-logloss:0.15049\teval-logloss:0.41755\n",
            "[38]\ttrain-logloss:0.14797\teval-logloss:0.41834\n",
            "[39]\ttrain-logloss:0.14344\teval-logloss:0.41881\n",
            "[40]\ttrain-logloss:0.13963\teval-logloss:0.42004\n",
            "[41]\ttrain-logloss:0.13675\teval-logloss:0.42111\n",
            "[42]\ttrain-logloss:0.13459\teval-logloss:0.42107\n",
            "[43]\ttrain-logloss:0.13164\teval-logloss:0.42115\n",
            "[44]\ttrain-logloss:0.12889\teval-logloss:0.42177\n",
            "[45]\ttrain-logloss:0.12456\teval-logloss:0.42088\n",
            "[46]\ttrain-logloss:0.12211\teval-logloss:0.42142\n",
            "[47]\ttrain-logloss:0.11985\teval-logloss:0.42185\n",
            "[48]\ttrain-logloss:0.11555\teval-logloss:0.42098\n",
            "[49]\ttrain-logloss:0.11289\teval-logloss:0.42085\n",
            "[50]\ttrain-logloss:0.11063\teval-logloss:0.42170\n",
            "[51]\ttrain-logloss:0.10861\teval-logloss:0.42174\n",
            "[52]\ttrain-logloss:0.10654\teval-logloss:0.42250\n",
            "[53]\ttrain-logloss:0.10388\teval-logloss:0.42338\n",
            "[54]\ttrain-logloss:0.10237\teval-logloss:0.42375\n",
            "[55]\ttrain-logloss:0.09989\teval-logloss:0.42432\n",
            "[56]\ttrain-logloss:0.09788\teval-logloss:0.42555\n",
            "[57]\ttrain-logloss:0.09455\teval-logloss:0.42652\n",
            "[58]\ttrain-logloss:0.09242\teval-logloss:0.42709\n",
            "[59]\ttrain-logloss:0.09041\teval-logloss:0.42846\n",
            "[60]\ttrain-logloss:0.08836\teval-logloss:0.42896\n",
            "[61]\ttrain-logloss:0.08620\teval-logloss:0.42923\n",
            "[62]\ttrain-logloss:0.08409\teval-logloss:0.42893\n",
            "[63]\ttrain-logloss:0.08324\teval-logloss:0.42944\n",
            "[64]\ttrain-logloss:0.08122\teval-logloss:0.42951\n",
            "[65]\ttrain-logloss:0.07927\teval-logloss:0.42957\n",
            "[66]\ttrain-logloss:0.07716\teval-logloss:0.42923\n",
            "[67]\ttrain-logloss:0.07524\teval-logloss:0.42901\n",
            "[68]\ttrain-logloss:0.07318\teval-logloss:0.42959\n",
            "[69]\ttrain-logloss:0.07098\teval-logloss:0.43109\n",
            "[70]\ttrain-logloss:0.06933\teval-logloss:0.43176\n",
            "[71]\ttrain-logloss:0.06726\teval-logloss:0.43182\n",
            "[72]\ttrain-logloss:0.06594\teval-logloss:0.43285\n",
            "[73]\ttrain-logloss:0.06391\teval-logloss:0.43511\n",
            "[74]\ttrain-logloss:0.06218\teval-logloss:0.43654\n",
            "[75]\ttrain-logloss:0.06076\teval-logloss:0.43754\n",
            "[76]\ttrain-logloss:0.05999\teval-logloss:0.43716\n",
            "[77]\ttrain-logloss:0.05883\teval-logloss:0.43741\n",
            "[78]\ttrain-logloss:0.05730\teval-logloss:0.43774\n",
            "[79]\ttrain-logloss:0.05563\teval-logloss:0.43900\n",
            "[80]\ttrain-logloss:0.05506\teval-logloss:0.43904\n",
            "[81]\ttrain-logloss:0.05409\teval-logloss:0.43913\n",
            "[82]\ttrain-logloss:0.05255\teval-logloss:0.43926\n",
            "[83]\ttrain-logloss:0.05187\teval-logloss:0.43945\n",
            "[84]\ttrain-logloss:0.05066\teval-logloss:0.44018\n",
            "[85]\ttrain-logloss:0.04902\teval-logloss:0.44224\n",
            "[86]\ttrain-logloss:0.04822\teval-logloss:0.44278\n",
            "[87]\ttrain-logloss:0.04719\teval-logloss:0.44330\n",
            "[88]\ttrain-logloss:0.04587\teval-logloss:0.44470\n",
            "[89]\ttrain-logloss:0.04550\teval-logloss:0.44522\n",
            "[90]\ttrain-logloss:0.04423\teval-logloss:0.44696\n",
            "[91]\ttrain-logloss:0.04379\teval-logloss:0.44779\n",
            "[92]\ttrain-logloss:0.04324\teval-logloss:0.44753\n",
            "[93]\ttrain-logloss:0.04221\teval-logloss:0.44870\n",
            "[94]\ttrain-logloss:0.04158\teval-logloss:0.44907\n",
            "[95]\ttrain-logloss:0.04056\teval-logloss:0.45103\n",
            "[96]\ttrain-logloss:0.03983\teval-logloss:0.45217\n",
            "[97]\ttrain-logloss:0.03911\teval-logloss:0.45222\n",
            "[98]\ttrain-logloss:0.03820\teval-logloss:0.45335\n",
            "[99]\ttrain-logloss:0.03718\teval-logloss:0.45369\n",
            "[100]\ttrain-logloss:0.03660\teval-logloss:0.45470\n",
            "[101]\ttrain-logloss:0.03577\teval-logloss:0.45558\n",
            "[102]\ttrain-logloss:0.03493\teval-logloss:0.45551\n",
            "[103]\ttrain-logloss:0.03409\teval-logloss:0.45695\n",
            "[104]\ttrain-logloss:0.03340\teval-logloss:0.45745\n",
            "[105]\ttrain-logloss:0.03255\teval-logloss:0.45829\n",
            "[106]\ttrain-logloss:0.03205\teval-logloss:0.45948\n",
            "[107]\ttrain-logloss:0.03159\teval-logloss:0.45948\n",
            "[108]\ttrain-logloss:0.03087\teval-logloss:0.46061\n",
            "[109]\ttrain-logloss:0.03043\teval-logloss:0.46083\n",
            "[110]\ttrain-logloss:0.02963\teval-logloss:0.46231\n",
            "[111]\ttrain-logloss:0.02921\teval-logloss:0.46287\n",
            "[112]\ttrain-logloss:0.02855\teval-logloss:0.46332\n",
            "[113]\ttrain-logloss:0.02827\teval-logloss:0.46395\n",
            "[114]\ttrain-logloss:0.02756\teval-logloss:0.46533\n",
            "[115]\ttrain-logloss:0.02721\teval-logloss:0.46552\n",
            "[116]\ttrain-logloss:0.02706\teval-logloss:0.46584\n",
            "[117]\ttrain-logloss:0.02676\teval-logloss:0.46663\n",
            "[118]\ttrain-logloss:0.02630\teval-logloss:0.46743\n",
            "[119]\ttrain-logloss:0.02598\teval-logloss:0.46761\n",
            "[120]\ttrain-logloss:0.02538\teval-logloss:0.46737\n",
            "[121]\ttrain-logloss:0.02493\teval-logloss:0.46779\n",
            "[122]\ttrain-logloss:0.02437\teval-logloss:0.46847\n",
            "[123]\ttrain-logloss:0.02382\teval-logloss:0.46921\n",
            "[124]\ttrain-logloss:0.02355\teval-logloss:0.46982\n",
            "[125]\ttrain-logloss:0.02296\teval-logloss:0.47022\n",
            "[126]\ttrain-logloss:0.02246\teval-logloss:0.47073\n",
            "[127]\ttrain-logloss:0.02214\teval-logloss:0.47128\n",
            "[128]\ttrain-logloss:0.02187\teval-logloss:0.47181\n",
            "[129]\ttrain-logloss:0.02167\teval-logloss:0.47264\n",
            "[130]\ttrain-logloss:0.02124\teval-logloss:0.47308\n",
            "[131]\ttrain-logloss:0.02094\teval-logloss:0.47362\n",
            "[132]\ttrain-logloss:0.02061\teval-logloss:0.47428\n",
            "[133]\ttrain-logloss:0.02025\teval-logloss:0.47522\n",
            "[134]\ttrain-logloss:0.01991\teval-logloss:0.47617\n",
            "[135]\ttrain-logloss:0.01955\teval-logloss:0.47704\n",
            "[136]\ttrain-logloss:0.01943\teval-logloss:0.47725\n",
            "[137]\ttrain-logloss:0.01926\teval-logloss:0.47727\n",
            "[138]\ttrain-logloss:0.01908\teval-logloss:0.47767\n",
            "[139]\ttrain-logloss:0.01883\teval-logloss:0.47857\n",
            "[140]\ttrain-logloss:0.01857\teval-logloss:0.47944\n",
            "[141]\ttrain-logloss:0.01814\teval-logloss:0.48082\n",
            "[142]\ttrain-logloss:0.01799\teval-logloss:0.48115\n",
            "[143]\ttrain-logloss:0.01762\teval-logloss:0.48237\n",
            "[144]\ttrain-logloss:0.01739\teval-logloss:0.48310\n",
            "[145]\ttrain-logloss:0.01698\teval-logloss:0.48420\n",
            "[146]\ttrain-logloss:0.01669\teval-logloss:0.48472\n",
            "[147]\ttrain-logloss:0.01636\teval-logloss:0.48621\n",
            "[148]\ttrain-logloss:0.01622\teval-logloss:0.48651\n",
            "[149]\ttrain-logloss:0.01598\teval-logloss:0.48707\n",
            "[150]\ttrain-logloss:0.01571\teval-logloss:0.48758\n",
            "[151]\ttrain-logloss:0.01538\teval-logloss:0.48848\n",
            "[152]\ttrain-logloss:0.01523\teval-logloss:0.48873\n",
            "[153]\ttrain-logloss:0.01512\teval-logloss:0.48911\n",
            "[154]\ttrain-logloss:0.01482\teval-logloss:0.49021\n",
            "[155]\ttrain-logloss:0.01464\teval-logloss:0.49090\n",
            "[156]\ttrain-logloss:0.01440\teval-logloss:0.49171\n",
            "[157]\ttrain-logloss:0.01415\teval-logloss:0.49289\n",
            "[158]\ttrain-logloss:0.01396\teval-logloss:0.49355\n",
            "[159]\ttrain-logloss:0.01373\teval-logloss:0.49381\n",
            "[160]\ttrain-logloss:0.01360\teval-logloss:0.49380\n",
            "[161]\ttrain-logloss:0.01341\teval-logloss:0.49459\n",
            "[162]\ttrain-logloss:0.01320\teval-logloss:0.49595\n",
            "[163]\ttrain-logloss:0.01296\teval-logloss:0.49747\n",
            "[164]\ttrain-logloss:0.01270\teval-logloss:0.49877\n",
            "[165]\ttrain-logloss:0.01255\teval-logloss:0.49896\n",
            "[166]\ttrain-logloss:0.01237\teval-logloss:0.49933\n",
            "[167]\ttrain-logloss:0.01223\teval-logloss:0.49946\n",
            "[168]\ttrain-logloss:0.01211\teval-logloss:0.49998\n",
            "[169]\ttrain-logloss:0.01197\teval-logloss:0.50088\n",
            "[170]\ttrain-logloss:0.01182\teval-logloss:0.50106\n",
            "[171]\ttrain-logloss:0.01161\teval-logloss:0.50105\n",
            "[172]\ttrain-logloss:0.01143\teval-logloss:0.50192\n",
            "[173]\ttrain-logloss:0.01130\teval-logloss:0.50317\n",
            "[174]\ttrain-logloss:0.01110\teval-logloss:0.50410\n",
            "[175]\ttrain-logloss:0.01092\teval-logloss:0.50541\n",
            "[176]\ttrain-logloss:0.01074\teval-logloss:0.50657\n",
            "[177]\ttrain-logloss:0.01061\teval-logloss:0.50711\n",
            "[178]\ttrain-logloss:0.01042\teval-logloss:0.50779\n",
            "[179]\ttrain-logloss:0.01025\teval-logloss:0.50841\n",
            "[180]\ttrain-logloss:0.01015\teval-logloss:0.50836\n",
            "[181]\ttrain-logloss:0.01000\teval-logloss:0.50853\n",
            "[182]\ttrain-logloss:0.00992\teval-logloss:0.50937\n",
            "[183]\ttrain-logloss:0.00980\teval-logloss:0.50992\n",
            "[184]\ttrain-logloss:0.00977\teval-logloss:0.51024\n",
            "[185]\ttrain-logloss:0.00962\teval-logloss:0.51046\n",
            "[186]\ttrain-logloss:0.00953\teval-logloss:0.51103\n",
            "[187]\ttrain-logloss:0.00947\teval-logloss:0.51137\n",
            "[188]\ttrain-logloss:0.00938\teval-logloss:0.51132\n",
            "[189]\ttrain-logloss:0.00924\teval-logloss:0.51200\n",
            "[190]\ttrain-logloss:0.00913\teval-logloss:0.51315\n",
            "[191]\ttrain-logloss:0.00899\teval-logloss:0.51337\n",
            "[192]\ttrain-logloss:0.00889\teval-logloss:0.51397\n",
            "[193]\ttrain-logloss:0.00876\teval-logloss:0.51447\n",
            "[194]\ttrain-logloss:0.00859\teval-logloss:0.51488\n",
            "[195]\ttrain-logloss:0.00851\teval-logloss:0.51552\n",
            "[196]\ttrain-logloss:0.00837\teval-logloss:0.51527\n",
            "[197]\ttrain-logloss:0.00828\teval-logloss:0.51618\n",
            "[198]\ttrain-logloss:0.00821\teval-logloss:0.51641\n",
            "[199]\ttrain-logloss:0.00811\teval-logloss:0.51739\n"
          ]
        },
        {
          "output_type": "display_data",
          "data": {
            "text/plain": [
              "<IPython.core.display.HTML object>"
            ],
            "text/html": [
              "Waiting for W&B process to finish... <strong style=\"color:green\">(success).</strong>"
            ]
          },
          "metadata": {}
        },
        {
          "output_type": "display_data",
          "data": {
            "text/plain": [
              "VBox(children=(Label(value='0.018 MB of 0.018 MB uploaded (0.000 MB deduped)\\r'), FloatProgress(value=1.0, max…"
            ],
            "application/vnd.jupyter.widget-view+json": {
              "version_major": 2,
              "version_minor": 0,
              "model_id": "12766b55a9e149f1a6f67d3024dc3207"
            }
          },
          "metadata": {}
        },
        {
          "output_type": "display_data",
          "data": {
            "text/plain": [
              "<IPython.core.display.HTML object>"
            ],
            "text/html": [
              "<style>\n",
              "    table.wandb td:nth-child(1) { padding: 0 10px; text-align: left ; width: auto;} td:nth-child(2) {text-align: left ; width: 100%}\n",
              "    .wandb-row { display: flex; flex-direction: row; flex-wrap: wrap; justify-content: flex-start; width: 100% }\n",
              "    .wandb-col { display: flex; flex-direction: column; flex-basis: 100%; flex: 1; padding: 10px; }\n",
              "    </style>\n",
              "<div class=\"wandb-row\"><div class=\"wandb-col\"><h3>Run history:</h3><br/><table class=\"wandb\"><tr><td>epoch</td><td>▁▁▁▁▂▂▂▂▂▃▃▃▃▃▃▄▄▄▄▄▅▅▅▅▅▅▆▆▆▆▆▇▇▇▇▇▇███</td></tr><tr><td>eval-logloss</td><td>█▃▂▁▁▁▁▁▁▁▁▁▂▂▂▂▂▂▃▃▃▃▄▄▄▄▄▄▅▅▅▅▆▆▆▆▆▆▇▇</td></tr><tr><td>eval/accuracy</td><td>▁</td></tr><tr><td>eval/f1</td><td>▁</td></tr><tr><td>eval/precision</td><td>▁</td></tr><tr><td>eval/recall</td><td>▁</td></tr><tr><td>train-logloss</td><td>█▆▅▅▄▄▃▃▃▃▂▂▂▂▂▂▂▂▁▁▁▁▁▁▁▁▁▁▁▁▁▁▁▁▁▁▁▁▁▁</td></tr></table><br/></div><div class=\"wandb-col\"><h3>Run summary:</h3><br/><table class=\"wandb\"><tr><td>epoch</td><td>199</td></tr><tr><td>eval/accuracy</td><td>0.83425</td></tr><tr><td>eval/f1</td><td>0.8989</td></tr><tr><td>eval/precision</td><td>0.85009</td></tr><tr><td>eval/recall</td><td>0.95366</td></tr></table><br/></div></div>"
            ]
          },
          "metadata": {}
        },
        {
          "output_type": "display_data",
          "data": {
            "text/plain": [
              "<IPython.core.display.HTML object>"
            ],
            "text/html": [
              "Synced <strong style=\"color:#cdcd00\">gossipcop-me-glove-fulltext-xgb-0</strong>: <a href=\"https://wandb.ai/saloniteam/nofolds/runs/fwfufd23\" target=\"_blank\">https://wandb.ai/saloniteam/nofolds/runs/fwfufd23</a><br/>Synced 5 W&B file(s), 2 media file(s), 2 artifact file(s) and 0 other file(s)"
            ]
          },
          "metadata": {}
        },
        {
          "output_type": "display_data",
          "data": {
            "text/plain": [
              "<IPython.core.display.HTML object>"
            ],
            "text/html": [
              "Find logs at: <code>./wandb/run-20220714_192153-fwfufd23/logs</code>"
            ]
          },
          "metadata": {}
        }
      ]
    },
    {
      "cell_type": "markdown",
      "source": [
        "## + num tweets/retweets"
      ],
      "metadata": {
        "id": "453F2wUts4u_"
      }
    },
    {
      "cell_type": "code",
      "source": [
        "glove_text_embs = X.copy()"
      ],
      "metadata": {
        "id": "W7NiFd4As2sE"
      },
      "execution_count": 31,
      "outputs": []
    },
    {
      "cell_type": "code",
      "source": [
        "X = np.concatenate([glove_text_embs, df.num_retweets.to_numpy()[..., None], df.num_tweets.to_numpy()[..., None]], axis=1)\n",
        "y = (df.label==\"real\").to_numpy().astype(int)\n",
        "\n",
        "X.shape, y.shape"
      ],
      "metadata": {
        "colab": {
          "base_uri": "https://localhost:8080/"
        },
        "outputId": "0104961e-6847-46fa-b24d-663e0869e6a6",
        "id": "NYFQrhVkqGbC"
      },
      "execution_count": 32,
      "outputs": [
        {
          "output_type": "execute_result",
          "data": {
            "text/plain": [
              "((19968, 302), (19968,))"
            ]
          },
          "metadata": {},
          "execution_count": 32
        }
      ]
    },
    {
      "cell_type": "code",
      "source": [
        "GROUP = f\"{dataset_id}-me-glove-fulltext+tw-xgb\"\n",
        "\n",
        "for fold_id, (train_idx, test_idx) in enumerate(skf.split(X, y)):\n",
        "    clear_output()\n",
        "    with wandb.init(entity=WANDB_ENTITY, project=WANDB_PROJECT, group=GROUP, name=f\"{GROUP}-{fold_id}\", tags=['glove', 'xgb']) as run:\n",
        "        train(train_idx, test_idx, params)\n",
        "    break"
      ],
      "metadata": {
        "colab": {
          "base_uri": "https://localhost:8080/",
          "height": 1000,
          "referenced_widgets": [
            "acf9d272e8da409bbfcb353f1e2ef388",
            "4941eb117138474d9c2e72adcd62441d",
            "157315cc0fa54beba540cf6ce13b26d8",
            "a510879f0bba4f8bbd501cd7c8b335fb",
            "81d02b11ed3846afa623903845add936",
            "edee8435d0024361a556416b6a02d63c",
            "8e52c4e8b8c4472b9006f53bcaa05ae6",
            "fa44d6845f7f4450b4e4d88afcd98793"
          ]
        },
        "outputId": "2bcadf17-c3b6-42cb-e2cb-863e90bead68",
        "id": "XwV0fuaYtXFY"
      },
      "execution_count": 33,
      "outputs": [
        {
          "output_type": "display_data",
          "data": {
            "text/plain": [
              "<IPython.core.display.HTML object>"
            ],
            "text/html": [
              "Tracking run with wandb version 0.12.21"
            ]
          },
          "metadata": {}
        },
        {
          "output_type": "display_data",
          "data": {
            "text/plain": [
              "<IPython.core.display.HTML object>"
            ],
            "text/html": [
              "Run data is saved locally in <code>/content/wandb/run-20220714_192448-3o5wdn9p</code>"
            ]
          },
          "metadata": {}
        },
        {
          "output_type": "display_data",
          "data": {
            "text/plain": [
              "<IPython.core.display.HTML object>"
            ],
            "text/html": [
              "Syncing run <strong><a href=\"https://wandb.ai/saloniteam/nofolds/runs/3o5wdn9p\" target=\"_blank\">gossipcop-me-glove-fulltext+tw-xgb-0</a></strong> to <a href=\"https://wandb.ai/saloniteam/nofolds\" target=\"_blank\">Weights & Biases</a> (<a href=\"https://wandb.me/run\" target=\"_blank\">docs</a>)<br/>"
            ]
          },
          "metadata": {}
        },
        {
          "output_type": "stream",
          "name": "stdout",
          "text": [
            "[19:24:50] WARNING: ../src/learner.cc:627: \n",
            "Parameters: { \"num_boost_round\" } might not be used.\n",
            "\n",
            "  This could be a false alarm, with some parameters getting used by language bindings but\n",
            "  then being mistakenly passed down to XGBoost core, or some parameter actually being used\n",
            "  but getting flagged wrongly here. Please open an issue if you find any such cases.\n",
            "\n",
            "\n",
            "[0]\ttrain-logloss:0.54947\teval-logloss:0.56159\n",
            "[1]\ttrain-logloss:0.46563\teval-logloss:0.48752\n",
            "[2]\ttrain-logloss:0.41149\teval-logloss:0.44420\n",
            "[3]\ttrain-logloss:0.37356\teval-logloss:0.41588\n",
            "[4]\ttrain-logloss:0.34520\teval-logloss:0.39685\n",
            "[5]\ttrain-logloss:0.32312\teval-logloss:0.38530\n",
            "[6]\ttrain-logloss:0.30408\teval-logloss:0.37242\n",
            "[7]\ttrain-logloss:0.28808\teval-logloss:0.36498\n",
            "[8]\ttrain-logloss:0.27410\teval-logloss:0.35810\n",
            "[9]\ttrain-logloss:0.26130\teval-logloss:0.35396\n",
            "[10]\ttrain-logloss:0.24960\teval-logloss:0.35002\n",
            "[11]\ttrain-logloss:0.24017\teval-logloss:0.34684\n",
            "[12]\ttrain-logloss:0.23036\teval-logloss:0.34404\n",
            "[13]\ttrain-logloss:0.22030\teval-logloss:0.34240\n",
            "[14]\ttrain-logloss:0.21257\teval-logloss:0.34001\n",
            "[15]\ttrain-logloss:0.20498\teval-logloss:0.33843\n",
            "[16]\ttrain-logloss:0.19739\teval-logloss:0.33595\n",
            "[17]\ttrain-logloss:0.19010\teval-logloss:0.33491\n",
            "[18]\ttrain-logloss:0.18344\teval-logloss:0.33449\n",
            "[19]\ttrain-logloss:0.17681\teval-logloss:0.33251\n",
            "[20]\ttrain-logloss:0.17065\teval-logloss:0.33093\n",
            "[21]\ttrain-logloss:0.16554\teval-logloss:0.33144\n",
            "[22]\ttrain-logloss:0.15981\teval-logloss:0.33076\n",
            "[23]\ttrain-logloss:0.15382\teval-logloss:0.33033\n",
            "[24]\ttrain-logloss:0.14920\teval-logloss:0.32931\n",
            "[25]\ttrain-logloss:0.14403\teval-logloss:0.32884\n",
            "[26]\ttrain-logloss:0.13917\teval-logloss:0.32631\n",
            "[27]\ttrain-logloss:0.13590\teval-logloss:0.32598\n",
            "[28]\ttrain-logloss:0.13150\teval-logloss:0.32641\n",
            "[29]\ttrain-logloss:0.12823\teval-logloss:0.32591\n",
            "[30]\ttrain-logloss:0.12411\teval-logloss:0.32697\n",
            "[31]\ttrain-logloss:0.11985\teval-logloss:0.32727\n",
            "[32]\ttrain-logloss:0.11735\teval-logloss:0.32694\n",
            "[33]\ttrain-logloss:0.11497\teval-logloss:0.32737\n",
            "[34]\ttrain-logloss:0.11181\teval-logloss:0.32647\n",
            "[35]\ttrain-logloss:0.10747\teval-logloss:0.32671\n",
            "[36]\ttrain-logloss:0.10417\teval-logloss:0.32629\n",
            "[37]\ttrain-logloss:0.10177\teval-logloss:0.32652\n",
            "[38]\ttrain-logloss:0.09829\teval-logloss:0.32559\n",
            "[39]\ttrain-logloss:0.09586\teval-logloss:0.32639\n",
            "[40]\ttrain-logloss:0.09292\teval-logloss:0.32602\n",
            "[41]\ttrain-logloss:0.08964\teval-logloss:0.32579\n",
            "[42]\ttrain-logloss:0.08689\teval-logloss:0.32605\n",
            "[43]\ttrain-logloss:0.08540\teval-logloss:0.32637\n",
            "[44]\ttrain-logloss:0.08433\teval-logloss:0.32603\n",
            "[45]\ttrain-logloss:0.08259\teval-logloss:0.32601\n",
            "[46]\ttrain-logloss:0.07988\teval-logloss:0.32637\n",
            "[47]\ttrain-logloss:0.07750\teval-logloss:0.32741\n",
            "[48]\ttrain-logloss:0.07489\teval-logloss:0.32746\n",
            "[49]\ttrain-logloss:0.07272\teval-logloss:0.32693\n",
            "[50]\ttrain-logloss:0.07015\teval-logloss:0.32701\n",
            "[51]\ttrain-logloss:0.06811\teval-logloss:0.32691\n",
            "[52]\ttrain-logloss:0.06606\teval-logloss:0.32652\n",
            "[53]\ttrain-logloss:0.06432\teval-logloss:0.32705\n",
            "[54]\ttrain-logloss:0.06243\teval-logloss:0.32679\n",
            "[55]\ttrain-logloss:0.05999\teval-logloss:0.32722\n",
            "[56]\ttrain-logloss:0.05854\teval-logloss:0.32749\n",
            "[57]\ttrain-logloss:0.05710\teval-logloss:0.32725\n",
            "[58]\ttrain-logloss:0.05532\teval-logloss:0.32832\n",
            "[59]\ttrain-logloss:0.05376\teval-logloss:0.32886\n",
            "[60]\ttrain-logloss:0.05282\teval-logloss:0.32957\n",
            "[61]\ttrain-logloss:0.05178\teval-logloss:0.33049\n",
            "[62]\ttrain-logloss:0.05024\teval-logloss:0.33081\n",
            "[63]\ttrain-logloss:0.04883\teval-logloss:0.33135\n",
            "[64]\ttrain-logloss:0.04708\teval-logloss:0.33286\n",
            "[65]\ttrain-logloss:0.04599\teval-logloss:0.33320\n",
            "[66]\ttrain-logloss:0.04490\teval-logloss:0.33369\n",
            "[67]\ttrain-logloss:0.04348\teval-logloss:0.33365\n",
            "[68]\ttrain-logloss:0.04204\teval-logloss:0.33455\n",
            "[69]\ttrain-logloss:0.04169\teval-logloss:0.33429\n",
            "[70]\ttrain-logloss:0.04072\teval-logloss:0.33395\n",
            "[71]\ttrain-logloss:0.03968\teval-logloss:0.33411\n",
            "[72]\ttrain-logloss:0.03862\teval-logloss:0.33447\n",
            "[73]\ttrain-logloss:0.03781\teval-logloss:0.33478\n",
            "[74]\ttrain-logloss:0.03695\teval-logloss:0.33510\n",
            "[75]\ttrain-logloss:0.03620\teval-logloss:0.33587\n",
            "[76]\ttrain-logloss:0.03546\teval-logloss:0.33592\n",
            "[77]\ttrain-logloss:0.03468\teval-logloss:0.33589\n",
            "[78]\ttrain-logloss:0.03379\teval-logloss:0.33640\n",
            "[79]\ttrain-logloss:0.03325\teval-logloss:0.33670\n",
            "[80]\ttrain-logloss:0.03230\teval-logloss:0.33790\n",
            "[81]\ttrain-logloss:0.03169\teval-logloss:0.33856\n",
            "[82]\ttrain-logloss:0.03068\teval-logloss:0.33870\n",
            "[83]\ttrain-logloss:0.02968\teval-logloss:0.33964\n",
            "[84]\ttrain-logloss:0.02905\teval-logloss:0.34015\n",
            "[85]\ttrain-logloss:0.02821\teval-logloss:0.34153\n",
            "[86]\ttrain-logloss:0.02761\teval-logloss:0.34215\n",
            "[87]\ttrain-logloss:0.02713\teval-logloss:0.34243\n",
            "[88]\ttrain-logloss:0.02636\teval-logloss:0.34244\n",
            "[89]\ttrain-logloss:0.02591\teval-logloss:0.34343\n",
            "[90]\ttrain-logloss:0.02522\teval-logloss:0.34351\n",
            "[91]\ttrain-logloss:0.02471\teval-logloss:0.34471\n",
            "[92]\ttrain-logloss:0.02425\teval-logloss:0.34439\n",
            "[93]\ttrain-logloss:0.02388\teval-logloss:0.34528\n",
            "[94]\ttrain-logloss:0.02352\teval-logloss:0.34579\n",
            "[95]\ttrain-logloss:0.02310\teval-logloss:0.34567\n",
            "[96]\ttrain-logloss:0.02242\teval-logloss:0.34602\n",
            "[97]\ttrain-logloss:0.02189\teval-logloss:0.34719\n",
            "[98]\ttrain-logloss:0.02135\teval-logloss:0.34780\n",
            "[99]\ttrain-logloss:0.02097\teval-logloss:0.34864\n",
            "[100]\ttrain-logloss:0.02036\teval-logloss:0.34963\n",
            "[101]\ttrain-logloss:0.02003\teval-logloss:0.35066\n",
            "[102]\ttrain-logloss:0.01947\teval-logloss:0.35094\n",
            "[103]\ttrain-logloss:0.01905\teval-logloss:0.35145\n",
            "[104]\ttrain-logloss:0.01865\teval-logloss:0.35231\n",
            "[105]\ttrain-logloss:0.01814\teval-logloss:0.35294\n",
            "[106]\ttrain-logloss:0.01778\teval-logloss:0.35343\n",
            "[107]\ttrain-logloss:0.01732\teval-logloss:0.35389\n",
            "[108]\ttrain-logloss:0.01692\teval-logloss:0.35455\n",
            "[109]\ttrain-logloss:0.01665\teval-logloss:0.35539\n",
            "[110]\ttrain-logloss:0.01630\teval-logloss:0.35582\n",
            "[111]\ttrain-logloss:0.01604\teval-logloss:0.35693\n",
            "[112]\ttrain-logloss:0.01572\teval-logloss:0.35678\n",
            "[113]\ttrain-logloss:0.01558\teval-logloss:0.35716\n",
            "[114]\ttrain-logloss:0.01530\teval-logloss:0.35782\n",
            "[115]\ttrain-logloss:0.01499\teval-logloss:0.35796\n",
            "[116]\ttrain-logloss:0.01467\teval-logloss:0.35882\n",
            "[117]\ttrain-logloss:0.01439\teval-logloss:0.35988\n",
            "[118]\ttrain-logloss:0.01411\teval-logloss:0.36012\n",
            "[119]\ttrain-logloss:0.01372\teval-logloss:0.36028\n",
            "[120]\ttrain-logloss:0.01340\teval-logloss:0.36120\n",
            "[121]\ttrain-logloss:0.01322\teval-logloss:0.36181\n",
            "[122]\ttrain-logloss:0.01298\teval-logloss:0.36279\n",
            "[123]\ttrain-logloss:0.01280\teval-logloss:0.36319\n",
            "[124]\ttrain-logloss:0.01260\teval-logloss:0.36374\n",
            "[125]\ttrain-logloss:0.01232\teval-logloss:0.36546\n",
            "[126]\ttrain-logloss:0.01205\teval-logloss:0.36594\n",
            "[127]\ttrain-logloss:0.01180\teval-logloss:0.36663\n",
            "[128]\ttrain-logloss:0.01156\teval-logloss:0.36758\n",
            "[129]\ttrain-logloss:0.01141\teval-logloss:0.36845\n",
            "[130]\ttrain-logloss:0.01130\teval-logloss:0.36845\n",
            "[131]\ttrain-logloss:0.01112\teval-logloss:0.36920\n",
            "[132]\ttrain-logloss:0.01094\teval-logloss:0.37022\n",
            "[133]\ttrain-logloss:0.01080\teval-logloss:0.36976\n",
            "[134]\ttrain-logloss:0.01060\teval-logloss:0.37006\n",
            "[135]\ttrain-logloss:0.01050\teval-logloss:0.37048\n",
            "[136]\ttrain-logloss:0.01028\teval-logloss:0.37154\n",
            "[137]\ttrain-logloss:0.01003\teval-logloss:0.37209\n",
            "[138]\ttrain-logloss:0.00977\teval-logloss:0.37307\n",
            "[139]\ttrain-logloss:0.00962\teval-logloss:0.37412\n",
            "[140]\ttrain-logloss:0.00955\teval-logloss:0.37440\n",
            "[141]\ttrain-logloss:0.00936\teval-logloss:0.37486\n",
            "[142]\ttrain-logloss:0.00922\teval-logloss:0.37611\n",
            "[143]\ttrain-logloss:0.00905\teval-logloss:0.37653\n",
            "[144]\ttrain-logloss:0.00894\teval-logloss:0.37676\n",
            "[145]\ttrain-logloss:0.00879\teval-logloss:0.37777\n",
            "[146]\ttrain-logloss:0.00864\teval-logloss:0.37761\n",
            "[147]\ttrain-logloss:0.00847\teval-logloss:0.37774\n",
            "[148]\ttrain-logloss:0.00834\teval-logloss:0.37835\n",
            "[149]\ttrain-logloss:0.00823\teval-logloss:0.37882\n",
            "[150]\ttrain-logloss:0.00806\teval-logloss:0.37917\n",
            "[151]\ttrain-logloss:0.00799\teval-logloss:0.37966\n",
            "[152]\ttrain-logloss:0.00787\teval-logloss:0.38050\n",
            "[153]\ttrain-logloss:0.00774\teval-logloss:0.38078\n",
            "[154]\ttrain-logloss:0.00763\teval-logloss:0.38130\n",
            "[155]\ttrain-logloss:0.00752\teval-logloss:0.38247\n",
            "[156]\ttrain-logloss:0.00744\teval-logloss:0.38224\n",
            "[157]\ttrain-logloss:0.00729\teval-logloss:0.38226\n",
            "[158]\ttrain-logloss:0.00719\teval-logloss:0.38263\n",
            "[159]\ttrain-logloss:0.00710\teval-logloss:0.38390\n",
            "[160]\ttrain-logloss:0.00702\teval-logloss:0.38444\n",
            "[161]\ttrain-logloss:0.00691\teval-logloss:0.38469\n",
            "[162]\ttrain-logloss:0.00680\teval-logloss:0.38574\n",
            "[163]\ttrain-logloss:0.00672\teval-logloss:0.38582\n",
            "[164]\ttrain-logloss:0.00663\teval-logloss:0.38548\n",
            "[165]\ttrain-logloss:0.00654\teval-logloss:0.38612\n",
            "[166]\ttrain-logloss:0.00649\teval-logloss:0.38635\n",
            "[167]\ttrain-logloss:0.00641\teval-logloss:0.38753\n",
            "[168]\ttrain-logloss:0.00635\teval-logloss:0.38754\n",
            "[169]\ttrain-logloss:0.00626\teval-logloss:0.38799\n",
            "[170]\ttrain-logloss:0.00618\teval-logloss:0.38893\n",
            "[171]\ttrain-logloss:0.00611\teval-logloss:0.38910\n",
            "[172]\ttrain-logloss:0.00602\teval-logloss:0.38970\n",
            "[173]\ttrain-logloss:0.00591\teval-logloss:0.39006\n",
            "[174]\ttrain-logloss:0.00584\teval-logloss:0.39044\n",
            "[175]\ttrain-logloss:0.00575\teval-logloss:0.39141\n",
            "[176]\ttrain-logloss:0.00566\teval-logloss:0.39225\n",
            "[177]\ttrain-logloss:0.00557\teval-logloss:0.39317\n",
            "[178]\ttrain-logloss:0.00547\teval-logloss:0.39387\n",
            "[179]\ttrain-logloss:0.00539\teval-logloss:0.39427\n",
            "[180]\ttrain-logloss:0.00531\teval-logloss:0.39523\n",
            "[181]\ttrain-logloss:0.00524\teval-logloss:0.39604\n",
            "[182]\ttrain-logloss:0.00517\teval-logloss:0.39663\n",
            "[183]\ttrain-logloss:0.00513\teval-logloss:0.39675\n",
            "[184]\ttrain-logloss:0.00507\teval-logloss:0.39765\n",
            "[185]\ttrain-logloss:0.00500\teval-logloss:0.39789\n",
            "[186]\ttrain-logloss:0.00494\teval-logloss:0.39805\n",
            "[187]\ttrain-logloss:0.00488\teval-logloss:0.39827\n",
            "[188]\ttrain-logloss:0.00481\teval-logloss:0.39814\n",
            "[189]\ttrain-logloss:0.00477\teval-logloss:0.39910\n",
            "[190]\ttrain-logloss:0.00470\teval-logloss:0.39966\n",
            "[191]\ttrain-logloss:0.00463\teval-logloss:0.40022\n",
            "[192]\ttrain-logloss:0.00460\teval-logloss:0.40066\n",
            "[193]\ttrain-logloss:0.00455\teval-logloss:0.40133\n",
            "[194]\ttrain-logloss:0.00449\teval-logloss:0.40189\n",
            "[195]\ttrain-logloss:0.00446\teval-logloss:0.40235\n",
            "[196]\ttrain-logloss:0.00443\teval-logloss:0.40244\n",
            "[197]\ttrain-logloss:0.00439\teval-logloss:0.40269\n",
            "[198]\ttrain-logloss:0.00432\teval-logloss:0.40353\n",
            "[199]\ttrain-logloss:0.00427\teval-logloss:0.40411\n"
          ]
        },
        {
          "output_type": "display_data",
          "data": {
            "text/plain": [
              "<IPython.core.display.HTML object>"
            ],
            "text/html": [
              "Waiting for W&B process to finish... <strong style=\"color:green\">(success).</strong>"
            ]
          },
          "metadata": {}
        },
        {
          "output_type": "display_data",
          "data": {
            "text/plain": [
              "VBox(children=(Label(value='0.018 MB of 0.018 MB uploaded (0.000 MB deduped)\\r'), FloatProgress(value=0.991573…"
            ],
            "application/vnd.jupyter.widget-view+json": {
              "version_major": 2,
              "version_minor": 0,
              "model_id": "acf9d272e8da409bbfcb353f1e2ef388"
            }
          },
          "metadata": {}
        },
        {
          "output_type": "display_data",
          "data": {
            "text/plain": [
              "<IPython.core.display.HTML object>"
            ],
            "text/html": [
              "<style>\n",
              "    table.wandb td:nth-child(1) { padding: 0 10px; text-align: left ; width: auto;} td:nth-child(2) {text-align: left ; width: 100%}\n",
              "    .wandb-row { display: flex; flex-direction: row; flex-wrap: wrap; justify-content: flex-start; width: 100% }\n",
              "    .wandb-col { display: flex; flex-direction: column; flex-basis: 100%; flex: 1; padding: 10px; }\n",
              "    </style>\n",
              "<div class=\"wandb-row\"><div class=\"wandb-col\"><h3>Run history:</h3><br/><table class=\"wandb\"><tr><td>epoch</td><td>▁▁▁▁▂▂▂▂▂▃▃▃▃▃▃▄▄▄▄▄▅▅▅▅▅▅▆▆▆▆▆▇▇▇▇▇▇███</td></tr><tr><td>eval-logloss</td><td>█▄▂▂▁▁▁▁▁▁▁▁▁▁▁▁▂▂▂▂▂▂▂▂▃▃▃▃▃▃▃▃▄▄▄▄▄▄▄▄</td></tr><tr><td>eval/accuracy</td><td>▁</td></tr><tr><td>eval/f1</td><td>▁</td></tr><tr><td>eval/precision</td><td>▁</td></tr><tr><td>eval/recall</td><td>▁</td></tr><tr><td>train-logloss</td><td>█▆▅▄▃▃▃▃▂▂▂▂▂▂▂▁▁▁▁▁▁▁▁▁▁▁▁▁▁▁▁▁▁▁▁▁▁▁▁▁</td></tr></table><br/></div><div class=\"wandb-col\"><h3>Run summary:</h3><br/><table class=\"wandb\"><tr><td>epoch</td><td>199</td></tr><tr><td>eval/accuracy</td><td>0.87732</td></tr><tr><td>eval/f1</td><td>0.92325</td></tr><tr><td>eval/precision</td><td>0.89357</td></tr><tr><td>eval/recall</td><td>0.95496</td></tr></table><br/></div></div>"
            ]
          },
          "metadata": {}
        },
        {
          "output_type": "display_data",
          "data": {
            "text/plain": [
              "<IPython.core.display.HTML object>"
            ],
            "text/html": [
              "Synced <strong style=\"color:#cdcd00\">gossipcop-me-glove-fulltext+tw-xgb-0</strong>: <a href=\"https://wandb.ai/saloniteam/nofolds/runs/3o5wdn9p\" target=\"_blank\">https://wandb.ai/saloniteam/nofolds/runs/3o5wdn9p</a><br/>Synced 5 W&B file(s), 2 media file(s), 2 artifact file(s) and 0 other file(s)"
            ]
          },
          "metadata": {}
        },
        {
          "output_type": "display_data",
          "data": {
            "text/plain": [
              "<IPython.core.display.HTML object>"
            ],
            "text/html": [
              "Find logs at: <code>./wandb/run-20220714_192448-3o5wdn9p/logs</code>"
            ]
          },
          "metadata": {}
        }
      ]
    },
    {
      "cell_type": "markdown",
      "source": [
        "The run can be found in the specified group by name or direct link to wandb. "
      ],
      "metadata": {
        "id": "kXAQTZroFf-8"
      }
    }
  ]
}