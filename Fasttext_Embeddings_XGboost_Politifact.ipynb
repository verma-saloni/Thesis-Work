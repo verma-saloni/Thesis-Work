{
  "nbformat": 4,
  "nbformat_minor": 0,
  "metadata": {
    "colab": {
      "name": "Fasttext Embeddings XGboost Politifact.ipynb",
      "provenance": [],
      "collapsed_sections": [],
      "include_colab_link": true
    },
    "kernelspec": {
      "name": "python3",
      "display_name": "Python 3"
    },
    "language_info": {
      "name": "python"
    },
    "accelerator": "GPU"
  },
  "cells": [
    {
      "cell_type": "markdown",
      "metadata": {
        "id": "view-in-github",
        "colab_type": "text"
      },
      "source": [
        "<a href=\"https://colab.research.google.com/github/verma-saloni/Thesis-Work/blob/main/Fasttext_Embeddings_XGboost_Politifact.ipynb\" target=\"_parent\"><img src=\"https://colab.research.google.com/assets/colab-badge.svg\" alt=\"Open In Colab\"/></a>"
      ]
    },
    {
      "cell_type": "code",
      "source": [
        "!pip install unidecode\n",
        "!pip install word2number\n",
        "!pip install contractions"
      ],
      "metadata": {
        "colab": {
          "base_uri": "https://localhost:8080/"
        },
        "id": "aByzVMdkzqAJ",
        "outputId": "e90193b9-3581-4703-b67d-e6cb5d324329"
      },
      "execution_count": 1,
      "outputs": [
        {
          "output_type": "stream",
          "name": "stdout",
          "text": [
            "Collecting unidecode\n",
            "  Using cached Unidecode-1.3.3-py3-none-any.whl (235 kB)\n",
            "Installing collected packages: unidecode\n",
            "Successfully installed unidecode-1.3.3\n",
            "Collecting word2number\n",
            "  Downloading word2number-1.1.zip (9.7 kB)\n",
            "Building wheels for collected packages: word2number\n",
            "  Building wheel for word2number (setup.py) ... \u001b[?25l\u001b[?25hdone\n",
            "  Created wheel for word2number: filename=word2number-1.1-py3-none-any.whl size=5582 sha256=81007015a0e36df60c913806a6019ced3388b929e905e3fe2f71bd3a91ff0058\n",
            "  Stored in directory: /root/.cache/pip/wheels/4b/c3/77/a5f48aeb0d3efb7cd5ad61cbd3da30bbf9ffc9662b07c9f879\n",
            "Successfully built word2number\n",
            "Installing collected packages: word2number\n",
            "Successfully installed word2number-1.1\n",
            "Collecting contractions\n",
            "  Using cached contractions-0.1.66-py2.py3-none-any.whl (8.0 kB)\n",
            "Collecting textsearch>=0.0.21\n",
            "  Using cached textsearch-0.0.21-py2.py3-none-any.whl (7.5 kB)\n",
            "Collecting anyascii\n",
            "  Using cached anyascii-0.3.0-py3-none-any.whl (284 kB)\n",
            "Collecting pyahocorasick\n",
            "  Using cached pyahocorasick-1.4.4-cp37-cp37m-manylinux_2_17_x86_64.manylinux2014_x86_64.whl (106 kB)\n",
            "Installing collected packages: pyahocorasick, anyascii, textsearch, contractions\n",
            "Successfully installed anyascii-0.3.0 contractions-0.1.66 pyahocorasick-1.4.4 textsearch-0.0.21\n"
          ]
        }
      ]
    },
    {
      "cell_type": "code",
      "execution_count": 2,
      "metadata": {
        "colab": {
          "base_uri": "https://localhost:8080/"
        },
        "id": "8wffusyCytsx",
        "outputId": "6a07ebd0-9779-4674-cc4b-29d14daf03fb"
      },
      "outputs": [
        {
          "output_type": "stream",
          "name": "stdout",
          "text": [
            "[nltk_data] Downloading package stopwords to /root/nltk_data...\n",
            "[nltk_data]   Unzipping corpora/stopwords.zip.\n"
          ]
        }
      ],
      "source": [
        "import pandas as pd\n",
        "import numpy as np\n",
        "import nltk\n",
        "import gensim\n",
        "from gensim.models import Word2Vec\n",
        "import string\n",
        "string.punctuation\n",
        "nltk.download('stopwords')\n",
        "import re\n",
        "from bs4 import BeautifulSoup\n",
        "import spacy\n",
        "import unidecode\n",
        "from word2number import w2n\n",
        "import contractions\n",
        "from nltk.tokenize.treebank import TreebankWordDetokenizer\n",
        "# load spacy model, can be \"en_core_web_sm\" as well\n",
        "from sklearn.model_selection import train_test_split\n",
        "import xgboost as xgb\n",
        "\n"
      ]
    },
    {
      "cell_type": "code",
      "source": [
        "from google.colab import drive\n",
        "drive.mount('/content/drive')"
      ],
      "metadata": {
        "colab": {
          "base_uri": "https://localhost:8080/"
        },
        "id": "UxNEaltli8H_",
        "outputId": "77852032-b486-4a10-9cbe-05b7b24d8220"
      },
      "execution_count": 12,
      "outputs": [
        {
          "output_type": "stream",
          "name": "stdout",
          "text": [
            "Drive already mounted at /content/drive; to attempt to forcibly remount, call drive.mount(\"/content/drive\", force_remount=True).\n"
          ]
        }
      ]
    },
    {
      "cell_type": "code",
      "source": [
        "df_fake = pd.read_csv('/content/drive/MyDrive/politifact_fake.csv')\n",
        "df_real = pd.read_csv('/content/drive/MyDrive/politifact_real.csv')\n",
        "df_fake['labelML']=0\n",
        "df_real['labelML']=1\n",
        "\n",
        "df_fake.count()\n"
      ],
      "metadata": {
        "id": "bwskIeYazYL6",
        "colab": {
          "base_uri": "https://localhost:8080/"
        },
        "outputId": "857f4a9f-25eb-4d6c-e02b-cbc64aec1785"
      },
      "execution_count": 14,
      "outputs": [
        {
          "output_type": "execute_result",
          "data": {
            "text/plain": [
              "id           432\n",
              "news_url     428\n",
              "title        432\n",
              "tweet_ids    392\n",
              "labelML      432\n",
              "dtype: int64"
            ]
          },
          "metadata": {},
          "execution_count": 14
        }
      ]
    },
    {
      "cell_type": "code",
      "source": [
        "#dforiginal = df_fake.head(5).append(df_real.head(5))"
      ],
      "metadata": {
        "id": "wfCAm3KZ4mxR"
      },
      "execution_count": null,
      "outputs": []
    },
    {
      "cell_type": "code",
      "source": [
        "#df= df_fake.head(10).append(df_real.head(10))\n",
        "df= df_fake.append(df_real)\n",
        "df.reset_index(drop=True, inplace=True)"
      ],
      "metadata": {
        "id": "mbqeWkN1JDGJ"
      },
      "execution_count": 15,
      "outputs": []
    },
    {
      "cell_type": "code",
      "source": [
        "#print(df.columns)\n",
        "df.count()\n",
        "df"
      ],
      "metadata": {
        "colab": {
          "base_uri": "https://localhost:8080/",
          "height": 423
        },
        "id": "bjYdaIs51j87",
        "outputId": "2e5bce4f-1c4f-408a-823f-fe3e7e56f881"
      },
      "execution_count": 25,
      "outputs": [
        {
          "output_type": "execute_result",
          "data": {
            "text/html": [
              "\n",
              "  <div id=\"df-395ab3a0-0467-4f6a-8824-b1ea33c4b984\">\n",
              "    <div class=\"colab-df-container\">\n",
              "      <div>\n",
              "<style scoped>\n",
              "    .dataframe tbody tr th:only-of-type {\n",
              "        vertical-align: middle;\n",
              "    }\n",
              "\n",
              "    .dataframe tbody tr th {\n",
              "        vertical-align: top;\n",
              "    }\n",
              "\n",
              "    .dataframe thead th {\n",
              "        text-align: right;\n",
              "    }\n",
              "</style>\n",
              "<table border=\"1\" class=\"dataframe\">\n",
              "  <thead>\n",
              "    <tr style=\"text-align: right;\">\n",
              "      <th></th>\n",
              "      <th>id</th>\n",
              "      <th>news_url</th>\n",
              "      <th>title</th>\n",
              "      <th>tweet_ids</th>\n",
              "      <th>labelML</th>\n",
              "    </tr>\n",
              "  </thead>\n",
              "  <tbody>\n",
              "    <tr>\n",
              "      <th>0</th>\n",
              "      <td>politifact15014</td>\n",
              "      <td>speedtalk.com/forum/viewtopic.php?t=51650</td>\n",
              "      <td>BREAKING: First NFL Team Declares Bankruptcy O...</td>\n",
              "      <td>937349434668498944\\t937379378006282240\\t937380...</td>\n",
              "      <td>0</td>\n",
              "    </tr>\n",
              "    <tr>\n",
              "      <th>1</th>\n",
              "      <td>politifact15156</td>\n",
              "      <td>politics2020.info/index.php/2018/03/13/court-o...</td>\n",
              "      <td>Court Orders Obama To Pay $400 Million In Rest...</td>\n",
              "      <td>972666281441878016\\t972678396575559680\\t972827...</td>\n",
              "      <td>0</td>\n",
              "    </tr>\n",
              "    <tr>\n",
              "      <th>2</th>\n",
              "      <td>politifact14745</td>\n",
              "      <td>www.nscdscamps.org/blog/category/parenting/467...</td>\n",
              "      <td>UPDATE: Second Roy Moore Accuser Works For Mic...</td>\n",
              "      <td>929405740732870656\\t929439450400264192\\t929439...</td>\n",
              "      <td>0</td>\n",
              "    </tr>\n",
              "    <tr>\n",
              "      <th>3</th>\n",
              "      <td>politifact14355</td>\n",
              "      <td>https://howafrica.com/oscar-pistorius-attempts...</td>\n",
              "      <td>Oscar Pistorius Attempts To Commit Suicide</td>\n",
              "      <td>886941526458347521\\t887011300278194176\\t887023...</td>\n",
              "      <td>0</td>\n",
              "    </tr>\n",
              "    <tr>\n",
              "      <th>4</th>\n",
              "      <td>politifact15371</td>\n",
              "      <td>http://washingtonsources.org/trump-votes-for-d...</td>\n",
              "      <td>Trump Votes For Death Penalty For Being Gay</td>\n",
              "      <td>915205698212040704\\t915242076681506816\\t915249...</td>\n",
              "      <td>0</td>\n",
              "    </tr>\n",
              "    <tr>\n",
              "      <th>...</th>\n",
              "      <td>...</td>\n",
              "      <td>...</td>\n",
              "      <td>...</td>\n",
              "      <td>...</td>\n",
              "      <td>...</td>\n",
              "    </tr>\n",
              "    <tr>\n",
              "      <th>1051</th>\n",
              "      <td>politifact14731</td>\n",
              "      <td>https://www.flake.senate.gov/public/index.cfm/...</td>\n",
              "      <td>Flake: “Religious tests should have no place i...</td>\n",
              "      <td>NaN</td>\n",
              "      <td>1</td>\n",
              "    </tr>\n",
              "    <tr>\n",
              "      <th>1052</th>\n",
              "      <td>politifact329</td>\n",
              "      <td>https://web.archive.org/web/20080131000131/htt...</td>\n",
              "      <td>Change We Can Believe In</td>\n",
              "      <td>634287923135909888\\t946743411100536832\\t946816...</td>\n",
              "      <td>1</td>\n",
              "    </tr>\n",
              "    <tr>\n",
              "      <th>1053</th>\n",
              "      <td>politifact1576</td>\n",
              "      <td>http://www.youtube.com/watch?v=4O8CxZ1OD58</td>\n",
              "      <td>deputy director of national health statistics ...</td>\n",
              "      <td>NaN</td>\n",
              "      <td>1</td>\n",
              "    </tr>\n",
              "    <tr>\n",
              "      <th>1054</th>\n",
              "      <td>politifact4720</td>\n",
              "      <td>http://www.youtube.com/watch?v=EhyMplwY6HY</td>\n",
              "      <td>Romneys ProLife Conversion Myth or Reality Jun...</td>\n",
              "      <td>188871706637647874</td>\n",
              "      <td>1</td>\n",
              "    </tr>\n",
              "    <tr>\n",
              "      <th>1055</th>\n",
              "      <td>politifact52</td>\n",
              "      <td>https://web.archive.org/web/20071102131244/htt...</td>\n",
              "      <td>Interest Group Ratings</td>\n",
              "      <td>1002208963239337984\\t1024651239697666048</td>\n",
              "      <td>1</td>\n",
              "    </tr>\n",
              "  </tbody>\n",
              "</table>\n",
              "<p>1056 rows × 5 columns</p>\n",
              "</div>\n",
              "      <button class=\"colab-df-convert\" onclick=\"convertToInteractive('df-395ab3a0-0467-4f6a-8824-b1ea33c4b984')\"\n",
              "              title=\"Convert this dataframe to an interactive table.\"\n",
              "              style=\"display:none;\">\n",
              "        \n",
              "  <svg xmlns=\"http://www.w3.org/2000/svg\" height=\"24px\"viewBox=\"0 0 24 24\"\n",
              "       width=\"24px\">\n",
              "    <path d=\"M0 0h24v24H0V0z\" fill=\"none\"/>\n",
              "    <path d=\"M18.56 5.44l.94 2.06.94-2.06 2.06-.94-2.06-.94-.94-2.06-.94 2.06-2.06.94zm-11 1L8.5 8.5l.94-2.06 2.06-.94-2.06-.94L8.5 2.5l-.94 2.06-2.06.94zm10 10l.94 2.06.94-2.06 2.06-.94-2.06-.94-.94-2.06-.94 2.06-2.06.94z\"/><path d=\"M17.41 7.96l-1.37-1.37c-.4-.4-.92-.59-1.43-.59-.52 0-1.04.2-1.43.59L10.3 9.45l-7.72 7.72c-.78.78-.78 2.05 0 2.83L4 21.41c.39.39.9.59 1.41.59.51 0 1.02-.2 1.41-.59l7.78-7.78 2.81-2.81c.8-.78.8-2.07 0-2.86zM5.41 20L4 18.59l7.72-7.72 1.47 1.35L5.41 20z\"/>\n",
              "  </svg>\n",
              "      </button>\n",
              "      \n",
              "  <style>\n",
              "    .colab-df-container {\n",
              "      display:flex;\n",
              "      flex-wrap:wrap;\n",
              "      gap: 12px;\n",
              "    }\n",
              "\n",
              "    .colab-df-convert {\n",
              "      background-color: #E8F0FE;\n",
              "      border: none;\n",
              "      border-radius: 50%;\n",
              "      cursor: pointer;\n",
              "      display: none;\n",
              "      fill: #1967D2;\n",
              "      height: 32px;\n",
              "      padding: 0 0 0 0;\n",
              "      width: 32px;\n",
              "    }\n",
              "\n",
              "    .colab-df-convert:hover {\n",
              "      background-color: #E2EBFA;\n",
              "      box-shadow: 0px 1px 2px rgba(60, 64, 67, 0.3), 0px 1px 3px 1px rgba(60, 64, 67, 0.15);\n",
              "      fill: #174EA6;\n",
              "    }\n",
              "\n",
              "    [theme=dark] .colab-df-convert {\n",
              "      background-color: #3B4455;\n",
              "      fill: #D2E3FC;\n",
              "    }\n",
              "\n",
              "    [theme=dark] .colab-df-convert:hover {\n",
              "      background-color: #434B5C;\n",
              "      box-shadow: 0px 1px 3px 1px rgba(0, 0, 0, 0.15);\n",
              "      filter: drop-shadow(0px 1px 2px rgba(0, 0, 0, 0.3));\n",
              "      fill: #FFFFFF;\n",
              "    }\n",
              "  </style>\n",
              "\n",
              "      <script>\n",
              "        const buttonEl =\n",
              "          document.querySelector('#df-395ab3a0-0467-4f6a-8824-b1ea33c4b984 button.colab-df-convert');\n",
              "        buttonEl.style.display =\n",
              "          google.colab.kernel.accessAllowed ? 'block' : 'none';\n",
              "\n",
              "        async function convertToInteractive(key) {\n",
              "          const element = document.querySelector('#df-395ab3a0-0467-4f6a-8824-b1ea33c4b984');\n",
              "          const dataTable =\n",
              "            await google.colab.kernel.invokeFunction('convertToInteractive',\n",
              "                                                     [key], {});\n",
              "          if (!dataTable) return;\n",
              "\n",
              "          const docLinkHtml = 'Like what you see? Visit the ' +\n",
              "            '<a target=\"_blank\" href=https://colab.research.google.com/notebooks/data_table.ipynb>data table notebook</a>'\n",
              "            + ' to learn more about interactive tables.';\n",
              "          element.innerHTML = '';\n",
              "          dataTable['output_type'] = 'display_data';\n",
              "          await google.colab.output.renderOutput(dataTable, element);\n",
              "          const docLink = document.createElement('div');\n",
              "          docLink.innerHTML = docLinkHtml;\n",
              "          element.appendChild(docLink);\n",
              "        }\n",
              "      </script>\n",
              "    </div>\n",
              "  </div>\n",
              "  "
            ],
            "text/plain": [
              "                   id                                           news_url  \\\n",
              "0     politifact15014          speedtalk.com/forum/viewtopic.php?t=51650   \n",
              "1     politifact15156  politics2020.info/index.php/2018/03/13/court-o...   \n",
              "2     politifact14745  www.nscdscamps.org/blog/category/parenting/467...   \n",
              "3     politifact14355  https://howafrica.com/oscar-pistorius-attempts...   \n",
              "4     politifact15371  http://washingtonsources.org/trump-votes-for-d...   \n",
              "...               ...                                                ...   \n",
              "1051  politifact14731  https://www.flake.senate.gov/public/index.cfm/...   \n",
              "1052    politifact329  https://web.archive.org/web/20080131000131/htt...   \n",
              "1053   politifact1576         http://www.youtube.com/watch?v=4O8CxZ1OD58   \n",
              "1054   politifact4720         http://www.youtube.com/watch?v=EhyMplwY6HY   \n",
              "1055     politifact52  https://web.archive.org/web/20071102131244/htt...   \n",
              "\n",
              "                                                  title  \\\n",
              "0     BREAKING: First NFL Team Declares Bankruptcy O...   \n",
              "1     Court Orders Obama To Pay $400 Million In Rest...   \n",
              "2     UPDATE: Second Roy Moore Accuser Works For Mic...   \n",
              "3            Oscar Pistorius Attempts To Commit Suicide   \n",
              "4           Trump Votes For Death Penalty For Being Gay   \n",
              "...                                                 ...   \n",
              "1051  Flake: “Religious tests should have no place i...   \n",
              "1052                           Change We Can Believe In   \n",
              "1053  deputy director of national health statistics ...   \n",
              "1054  Romneys ProLife Conversion Myth or Reality Jun...   \n",
              "1055                             Interest Group Ratings   \n",
              "\n",
              "                                              tweet_ids  labelML  \n",
              "0     937349434668498944\\t937379378006282240\\t937380...        0  \n",
              "1     972666281441878016\\t972678396575559680\\t972827...        0  \n",
              "2     929405740732870656\\t929439450400264192\\t929439...        0  \n",
              "3     886941526458347521\\t887011300278194176\\t887023...        0  \n",
              "4     915205698212040704\\t915242076681506816\\t915249...        0  \n",
              "...                                                 ...      ...  \n",
              "1051                                                NaN        1  \n",
              "1052  634287923135909888\\t946743411100536832\\t946816...        1  \n",
              "1053                                                NaN        1  \n",
              "1054                                 188871706637647874        1  \n",
              "1055           1002208963239337984\\t1024651239697666048        1  \n",
              "\n",
              "[1056 rows x 5 columns]"
            ]
          },
          "metadata": {},
          "execution_count": 25
        }
      ]
    },
    {
      "cell_type": "code",
      "source": [
        "print(df)"
      ],
      "metadata": {
        "id": "o2VUVYCL1q1i",
        "colab": {
          "base_uri": "https://localhost:8080/"
        },
        "outputId": "e854635e-80f5-4514-8d99-f63941bf4366"
      },
      "execution_count": 17,
      "outputs": [
        {
          "output_type": "stream",
          "name": "stdout",
          "text": [
            "                   id                                           news_url  \\\n",
            "0     politifact15014          speedtalk.com/forum/viewtopic.php?t=51650   \n",
            "1     politifact15156  politics2020.info/index.php/2018/03/13/court-o...   \n",
            "2     politifact14745  www.nscdscamps.org/blog/category/parenting/467...   \n",
            "3     politifact14355  https://howafrica.com/oscar-pistorius-attempts...   \n",
            "4     politifact15371  http://washingtonsources.org/trump-votes-for-d...   \n",
            "...               ...                                                ...   \n",
            "1051  politifact14731  https://www.flake.senate.gov/public/index.cfm/...   \n",
            "1052    politifact329  https://web.archive.org/web/20080131000131/htt...   \n",
            "1053   politifact1576         http://www.youtube.com/watch?v=4O8CxZ1OD58   \n",
            "1054   politifact4720         http://www.youtube.com/watch?v=EhyMplwY6HY   \n",
            "1055     politifact52  https://web.archive.org/web/20071102131244/htt...   \n",
            "\n",
            "                                                  title  \\\n",
            "0     BREAKING: First NFL Team Declares Bankruptcy O...   \n",
            "1     Court Orders Obama To Pay $400 Million In Rest...   \n",
            "2     UPDATE: Second Roy Moore Accuser Works For Mic...   \n",
            "3            Oscar Pistorius Attempts To Commit Suicide   \n",
            "4           Trump Votes For Death Penalty For Being Gay   \n",
            "...                                                 ...   \n",
            "1051  Flake: “Religious tests should have no place i...   \n",
            "1052                           Change We Can Believe In   \n",
            "1053  deputy director of national health statistics ...   \n",
            "1054  Romneys ProLife Conversion Myth or Reality Jun...   \n",
            "1055                             Interest Group Ratings   \n",
            "\n",
            "                                              tweet_ids  labelML  \n",
            "0     937349434668498944\\t937379378006282240\\t937380...        0  \n",
            "1     972666281441878016\\t972678396575559680\\t972827...        0  \n",
            "2     929405740732870656\\t929439450400264192\\t929439...        0  \n",
            "3     886941526458347521\\t887011300278194176\\t887023...        0  \n",
            "4     915205698212040704\\t915242076681506816\\t915249...        0  \n",
            "...                                                 ...      ...  \n",
            "1051                                                NaN        1  \n",
            "1052  634287923135909888\\t946743411100536832\\t946816...        1  \n",
            "1053                                                NaN        1  \n",
            "1054                                 188871706637647874        1  \n",
            "1055           1002208963239337984\\t1024651239697666048        1  \n",
            "\n",
            "[1056 rows x 5 columns]\n"
          ]
        }
      ]
    },
    {
      "cell_type": "code",
      "source": [
        "df1= df.drop(['tweet_ids', 'news_url','id'], axis=1)\n",
        "df1.count()"
      ],
      "metadata": {
        "id": "jwscw5FG1t8P",
        "colab": {
          "base_uri": "https://localhost:8080/"
        },
        "outputId": "e1890d28-7a51-48b2-e118-fe01fbdd647a"
      },
      "execution_count": 18,
      "outputs": [
        {
          "output_type": "execute_result",
          "data": {
            "text/plain": [
              "title      1056\n",
              "labelML    1056\n",
              "dtype: int64"
            ]
          },
          "metadata": {},
          "execution_count": 18
        }
      ]
    },
    {
      "cell_type": "code",
      "source": [
        "# FOR URL Preprocessing now. \n",
        "dfurl = df.drop(['tweet_ids','id'], axis=1)\n",
        "dfurl.head()"
      ],
      "metadata": {
        "colab": {
          "base_uri": "https://localhost:8080/",
          "height": 206
        },
        "id": "h1S2L_fBCg_I",
        "outputId": "bb92173f-1546-481c-9fe7-6e2325233acf"
      },
      "execution_count": 19,
      "outputs": [
        {
          "output_type": "execute_result",
          "data": {
            "text/html": [
              "\n",
              "  <div id=\"df-c1b3046a-f521-487f-afcc-bc74788e13ca\">\n",
              "    <div class=\"colab-df-container\">\n",
              "      <div>\n",
              "<style scoped>\n",
              "    .dataframe tbody tr th:only-of-type {\n",
              "        vertical-align: middle;\n",
              "    }\n",
              "\n",
              "    .dataframe tbody tr th {\n",
              "        vertical-align: top;\n",
              "    }\n",
              "\n",
              "    .dataframe thead th {\n",
              "        text-align: right;\n",
              "    }\n",
              "</style>\n",
              "<table border=\"1\" class=\"dataframe\">\n",
              "  <thead>\n",
              "    <tr style=\"text-align: right;\">\n",
              "      <th></th>\n",
              "      <th>news_url</th>\n",
              "      <th>title</th>\n",
              "      <th>labelML</th>\n",
              "    </tr>\n",
              "  </thead>\n",
              "  <tbody>\n",
              "    <tr>\n",
              "      <th>0</th>\n",
              "      <td>speedtalk.com/forum/viewtopic.php?t=51650</td>\n",
              "      <td>BREAKING: First NFL Team Declares Bankruptcy O...</td>\n",
              "      <td>0</td>\n",
              "    </tr>\n",
              "    <tr>\n",
              "      <th>1</th>\n",
              "      <td>politics2020.info/index.php/2018/03/13/court-o...</td>\n",
              "      <td>Court Orders Obama To Pay $400 Million In Rest...</td>\n",
              "      <td>0</td>\n",
              "    </tr>\n",
              "    <tr>\n",
              "      <th>2</th>\n",
              "      <td>www.nscdscamps.org/blog/category/parenting/467...</td>\n",
              "      <td>UPDATE: Second Roy Moore Accuser Works For Mic...</td>\n",
              "      <td>0</td>\n",
              "    </tr>\n",
              "    <tr>\n",
              "      <th>3</th>\n",
              "      <td>https://howafrica.com/oscar-pistorius-attempts...</td>\n",
              "      <td>Oscar Pistorius Attempts To Commit Suicide</td>\n",
              "      <td>0</td>\n",
              "    </tr>\n",
              "    <tr>\n",
              "      <th>4</th>\n",
              "      <td>http://washingtonsources.org/trump-votes-for-d...</td>\n",
              "      <td>Trump Votes For Death Penalty For Being Gay</td>\n",
              "      <td>0</td>\n",
              "    </tr>\n",
              "  </tbody>\n",
              "</table>\n",
              "</div>\n",
              "      <button class=\"colab-df-convert\" onclick=\"convertToInteractive('df-c1b3046a-f521-487f-afcc-bc74788e13ca')\"\n",
              "              title=\"Convert this dataframe to an interactive table.\"\n",
              "              style=\"display:none;\">\n",
              "        \n",
              "  <svg xmlns=\"http://www.w3.org/2000/svg\" height=\"24px\"viewBox=\"0 0 24 24\"\n",
              "       width=\"24px\">\n",
              "    <path d=\"M0 0h24v24H0V0z\" fill=\"none\"/>\n",
              "    <path d=\"M18.56 5.44l.94 2.06.94-2.06 2.06-.94-2.06-.94-.94-2.06-.94 2.06-2.06.94zm-11 1L8.5 8.5l.94-2.06 2.06-.94-2.06-.94L8.5 2.5l-.94 2.06-2.06.94zm10 10l.94 2.06.94-2.06 2.06-.94-2.06-.94-.94-2.06-.94 2.06-2.06.94z\"/><path d=\"M17.41 7.96l-1.37-1.37c-.4-.4-.92-.59-1.43-.59-.52 0-1.04.2-1.43.59L10.3 9.45l-7.72 7.72c-.78.78-.78 2.05 0 2.83L4 21.41c.39.39.9.59 1.41.59.51 0 1.02-.2 1.41-.59l7.78-7.78 2.81-2.81c.8-.78.8-2.07 0-2.86zM5.41 20L4 18.59l7.72-7.72 1.47 1.35L5.41 20z\"/>\n",
              "  </svg>\n",
              "      </button>\n",
              "      \n",
              "  <style>\n",
              "    .colab-df-container {\n",
              "      display:flex;\n",
              "      flex-wrap:wrap;\n",
              "      gap: 12px;\n",
              "    }\n",
              "\n",
              "    .colab-df-convert {\n",
              "      background-color: #E8F0FE;\n",
              "      border: none;\n",
              "      border-radius: 50%;\n",
              "      cursor: pointer;\n",
              "      display: none;\n",
              "      fill: #1967D2;\n",
              "      height: 32px;\n",
              "      padding: 0 0 0 0;\n",
              "      width: 32px;\n",
              "    }\n",
              "\n",
              "    .colab-df-convert:hover {\n",
              "      background-color: #E2EBFA;\n",
              "      box-shadow: 0px 1px 2px rgba(60, 64, 67, 0.3), 0px 1px 3px 1px rgba(60, 64, 67, 0.15);\n",
              "      fill: #174EA6;\n",
              "    }\n",
              "\n",
              "    [theme=dark] .colab-df-convert {\n",
              "      background-color: #3B4455;\n",
              "      fill: #D2E3FC;\n",
              "    }\n",
              "\n",
              "    [theme=dark] .colab-df-convert:hover {\n",
              "      background-color: #434B5C;\n",
              "      box-shadow: 0px 1px 3px 1px rgba(0, 0, 0, 0.15);\n",
              "      filter: drop-shadow(0px 1px 2px rgba(0, 0, 0, 0.3));\n",
              "      fill: #FFFFFF;\n",
              "    }\n",
              "  </style>\n",
              "\n",
              "      <script>\n",
              "        const buttonEl =\n",
              "          document.querySelector('#df-c1b3046a-f521-487f-afcc-bc74788e13ca button.colab-df-convert');\n",
              "        buttonEl.style.display =\n",
              "          google.colab.kernel.accessAllowed ? 'block' : 'none';\n",
              "\n",
              "        async function convertToInteractive(key) {\n",
              "          const element = document.querySelector('#df-c1b3046a-f521-487f-afcc-bc74788e13ca');\n",
              "          const dataTable =\n",
              "            await google.colab.kernel.invokeFunction('convertToInteractive',\n",
              "                                                     [key], {});\n",
              "          if (!dataTable) return;\n",
              "\n",
              "          const docLinkHtml = 'Like what you see? Visit the ' +\n",
              "            '<a target=\"_blank\" href=https://colab.research.google.com/notebooks/data_table.ipynb>data table notebook</a>'\n",
              "            + ' to learn more about interactive tables.';\n",
              "          element.innerHTML = '';\n",
              "          dataTable['output_type'] = 'display_data';\n",
              "          await google.colab.output.renderOutput(dataTable, element);\n",
              "          const docLink = document.createElement('div');\n",
              "          docLink.innerHTML = docLinkHtml;\n",
              "          element.appendChild(docLink);\n",
              "        }\n",
              "      </script>\n",
              "    </div>\n",
              "  </div>\n",
              "  "
            ],
            "text/plain": [
              "                                            news_url  \\\n",
              "0          speedtalk.com/forum/viewtopic.php?t=51650   \n",
              "1  politics2020.info/index.php/2018/03/13/court-o...   \n",
              "2  www.nscdscamps.org/blog/category/parenting/467...   \n",
              "3  https://howafrica.com/oscar-pistorius-attempts...   \n",
              "4  http://washingtonsources.org/trump-votes-for-d...   \n",
              "\n",
              "                                               title  labelML  \n",
              "0  BREAKING: First NFL Team Declares Bankruptcy O...        0  \n",
              "1  Court Orders Obama To Pay $400 Million In Rest...        0  \n",
              "2  UPDATE: Second Roy Moore Accuser Works For Mic...        0  \n",
              "3         Oscar Pistorius Attempts To Commit Suicide        0  \n",
              "4        Trump Votes For Death Penalty For Being Gay        0  "
            ]
          },
          "metadata": {},
          "execution_count": 19
        }
      ]
    },
    {
      "cell_type": "code",
      "source": [
        "def remove_URL(sample):\n",
        "    print(type(sample))\n",
        "    if type(sample) == \"str\":\n",
        "      return re.sub(r\"http\\S+\", \"\", sample)"
      ],
      "metadata": {
        "id": "Ow9rfEHUoY0n"
      },
      "execution_count": 26,
      "outputs": []
    },
    {
      "cell_type": "code",
      "source": [
        "#dfurl['news_url'] = dfurl['news_url'].apply(lambda x: ' '.join(remove_URL(x)))"
      ],
      "metadata": {
        "id": "yzXhJ3JuofCd"
      },
      "execution_count": null,
      "outputs": []
    },
    {
      "cell_type": "code",
      "source": [
        "# NLP Preprocessing\n",
        "from gensim.utils import simple_preprocess\n",
        "\n",
        "# NLP Preprocess - gensim.utils.simple_preprocess(doc, deacc=False, min_len=2, max_len=15)[source]\n",
        "# Convert a document into a list of tokens.\n",
        "# This lowercases, tokenizes, de-accents (optional). – the output are final tokens = unicode strings, that won’t be processed any further.\n",
        "\n",
        "df1.iloc[:, 0] = df1.iloc[:, 0].apply(lambda x: ' '.join(simple_preprocess(x)))"
      ],
      "metadata": {
        "id": "hdd1tdzS2HmB"
      },
      "execution_count": 27,
      "outputs": []
    },
    {
      "cell_type": "code",
      "source": [
        "print(df1)\n",
        "df1.count()"
      ],
      "metadata": {
        "id": "h6wPx2906bxr",
        "colab": {
          "base_uri": "https://localhost:8080/"
        },
        "outputId": "a3143f93-5ad2-4c5e-d2f0-e20fe351aeb5"
      },
      "execution_count": 28,
      "outputs": [
        {
          "output_type": "stream",
          "name": "stdout",
          "text": [
            "                                                  title  labelML\n",
            "0     breaking first nfl team declares bankruptcy ov...        0\n",
            "1      court orders obama to pay million in restitution        0\n",
            "2     update second roy moore accuser works for mich...        0\n",
            "3            oscar pistorius attempts to commit suicide        0\n",
            "4           trump votes for death penalty for being gay        0\n",
            "...                                                 ...      ...\n",
            "1051  flake religious tests should have no place in ...        1\n",
            "1052                           change we can believe in        1\n",
            "1053  deputy director of national health statistics ...        1\n",
            "1054    romneys prolife conversion myth or reality june        1\n",
            "1055                             interest group ratings        1\n",
            "\n",
            "[1056 rows x 2 columns]\n"
          ]
        },
        {
          "output_type": "execute_result",
          "data": {
            "text/plain": [
              "title      1056\n",
              "labelML    1056\n",
              "dtype: int64"
            ]
          },
          "metadata": {},
          "execution_count": 28
        }
      ]
    },
    {
      "cell_type": "code",
      "source": [
        ""
      ],
      "metadata": {
        "id": "A6LGL-V67EHw"
      },
      "execution_count": null,
      "outputs": []
    },
    {
      "cell_type": "code",
      "source": [
        "print(df1)"
      ],
      "metadata": {
        "colab": {
          "base_uri": "https://localhost:8080/"
        },
        "id": "d370GpN5NJc7",
        "outputId": "67383286-7b93-44d6-d634-0d9602bdba9a"
      },
      "execution_count": 29,
      "outputs": [
        {
          "output_type": "stream",
          "name": "stdout",
          "text": [
            "                                                  title  labelML\n",
            "0     breaking first nfl team declares bankruptcy ov...        0\n",
            "1      court orders obama to pay million in restitution        0\n",
            "2     update second roy moore accuser works for mich...        0\n",
            "3            oscar pistorius attempts to commit suicide        0\n",
            "4           trump votes for death penalty for being gay        0\n",
            "...                                                 ...      ...\n",
            "1051  flake religious tests should have no place in ...        1\n",
            "1052                           change we can believe in        1\n",
            "1053  deputy director of national health statistics ...        1\n",
            "1054    romneys prolife conversion myth or reality june        1\n",
            "1055                             interest group ratings        1\n",
            "\n",
            "[1056 rows x 2 columns]\n"
          ]
        }
      ]
    },
    {
      "cell_type": "code",
      "source": [
        "df1.count()"
      ],
      "metadata": {
        "colab": {
          "base_uri": "https://localhost:8080/"
        },
        "id": "6cQ2Qo3dE028",
        "outputId": "c664bd4a-419d-4d2d-964e-e5688320d0f4"
      },
      "execution_count": 30,
      "outputs": [
        {
          "output_type": "execute_result",
          "data": {
            "text/plain": [
              "title      1056\n",
              "labelML    1056\n",
              "dtype: int64"
            ]
          },
          "metadata": {},
          "execution_count": 30
        }
      ]
    },
    {
      "cell_type": "code",
      "source": [
        "!wget https://dl.fbaipublicfiles.com/fasttext/vectors-crawl/cc.en.300.bin.gz\n",
        "!gunzip cc.en.300.bin.gz"
      ],
      "metadata": {
        "id": "k8Q5iYqKFV5l",
        "colab": {
          "base_uri": "https://localhost:8080/"
        },
        "outputId": "b49bf148-fb8a-4b0c-cc76-adfbe71915e7"
      },
      "execution_count": 31,
      "outputs": [
        {
          "output_type": "stream",
          "name": "stdout",
          "text": [
            "--2022-03-05 10:14:29--  https://dl.fbaipublicfiles.com/fasttext/vectors-crawl/cc.en.300.bin.gz\n",
            "Resolving dl.fbaipublicfiles.com (dl.fbaipublicfiles.com)... 172.67.9.4, 104.22.74.142, 104.22.75.142, ...\n",
            "Connecting to dl.fbaipublicfiles.com (dl.fbaipublicfiles.com)|172.67.9.4|:443... connected.\n",
            "HTTP request sent, awaiting response... 200 OK\n",
            "Length: 4503593528 (4.2G) [application/octet-stream]\n",
            "Saving to: ‘cc.en.300.bin.gz’\n",
            "\n",
            "cc.en.300.bin.gz    100%[===================>]   4.19G  39.5MB/s    in 1m 46s  \n",
            "\n",
            "2022-03-05 10:16:15 (40.6 MB/s) - ‘cc.en.300.bin.gz’ saved [4503593528/4503593528]\n",
            "\n"
          ]
        }
      ]
    },
    {
      "cell_type": "markdown",
      "source": [
        "trying to see similarity of vectors created."
      ],
      "metadata": {
        "id": "gH6DjpzfyzPb"
      }
    },
    {
      "cell_type": "code",
      "source": [
        "!pip install fasttext\n",
        "!pip install pyfasttext "
      ],
      "metadata": {
        "id": "asJbjFDkaYqy",
        "colab": {
          "base_uri": "https://localhost:8080/"
        },
        "outputId": "c48d18bd-2259-42fa-de10-080a8c2cfb7d"
      },
      "execution_count": 32,
      "outputs": [
        {
          "output_type": "stream",
          "name": "stdout",
          "text": [
            "Collecting fasttext\n",
            "  Downloading fasttext-0.9.2.tar.gz (68 kB)\n",
            "\u001b[?25l\r\u001b[K     |████▊                           | 10 kB 24.5 MB/s eta 0:00:01\r\u001b[K     |█████████▌                      | 20 kB 25.9 MB/s eta 0:00:01\r\u001b[K     |██████████████▎                 | 30 kB 11.3 MB/s eta 0:00:01\r\u001b[K     |███████████████████             | 40 kB 4.6 MB/s eta 0:00:01\r\u001b[K     |███████████████████████▉        | 51 kB 4.4 MB/s eta 0:00:01\r\u001b[K     |████████████████████████████▋   | 61 kB 5.2 MB/s eta 0:00:01\r\u001b[K     |████████████████████████████████| 68 kB 3.4 MB/s \n",
            "\u001b[?25hCollecting pybind11>=2.2\n",
            "  Using cached pybind11-2.9.1-py2.py3-none-any.whl (211 kB)\n",
            "Requirement already satisfied: setuptools>=0.7.0 in /usr/local/lib/python3.7/dist-packages (from fasttext) (57.4.0)\n",
            "Requirement already satisfied: numpy in /usr/local/lib/python3.7/dist-packages (from fasttext) (1.21.5)\n",
            "Building wheels for collected packages: fasttext\n",
            "  Building wheel for fasttext (setup.py) ... \u001b[?25l\u001b[?25hdone\n",
            "  Created wheel for fasttext: filename=fasttext-0.9.2-cp37-cp37m-linux_x86_64.whl size=3129232 sha256=d1ee584308cccc3591fc932138f2d2c305b0a42237f675aa46ec351f9925912d\n",
            "  Stored in directory: /root/.cache/pip/wheels/4e/ca/bf/b020d2be95f7641801a6597a29c8f4f19e38f9c02a345bab9b\n",
            "Successfully built fasttext\n",
            "Installing collected packages: pybind11, fasttext\n",
            "Successfully installed fasttext-0.9.2 pybind11-2.9.1\n",
            "Collecting pyfasttext\n",
            "  Downloading pyfasttext-0.4.6.tar.gz (244 kB)\n",
            "\u001b[K     |████████████████████████████████| 244 kB 5.2 MB/s \n",
            "\u001b[?25hRequirement already satisfied: future in /usr/local/lib/python3.7/dist-packages (from pyfasttext) (0.16.0)\n",
            "Collecting cysignals\n",
            "  Using cached cysignals-1.11.2-cp37-cp37m-manylinux_2_17_x86_64.manylinux2014_x86_64.whl (871 kB)\n",
            "Requirement already satisfied: numpy in /usr/local/lib/python3.7/dist-packages (from pyfasttext) (1.21.5)\n",
            "Requirement already satisfied: Cython>=0.28 in /usr/local/lib/python3.7/dist-packages (from cysignals->pyfasttext) (0.29.28)\n",
            "Building wheels for collected packages: pyfasttext\n",
            "  Building wheel for pyfasttext (setup.py) ... \u001b[?25l\u001b[?25hdone\n",
            "  Created wheel for pyfasttext: filename=pyfasttext-0.4.6-cp37-cp37m-linux_x86_64.whl size=1460471 sha256=18a7217538d269ee24b26bf427b6ab4345f56973969470b668d58a0270afbb1f\n",
            "  Stored in directory: /root/.cache/pip/wheels/e6/e7/60/c4506ea3173416f3774e221bd741d06bfc2127ec23ceff6619\n",
            "Successfully built pyfasttext\n",
            "Installing collected packages: cysignals, pyfasttext\n",
            "Successfully installed cysignals-1.11.2 pyfasttext-0.4.6\n"
          ]
        }
      ]
    },
    {
      "cell_type": "code",
      "source": [
        "!pip install fasttext\n",
        "import fasttext as ft\n",
        "\n",
        "!pip3 install pyfasttext\n",
        "from pyfasttext import FastText\n",
        "\n",
        "# Loading model for English\n",
        "modelog = ft.load_model('cc.en.300.bin') "
      ],
      "metadata": {
        "colab": {
          "base_uri": "https://localhost:8080/"
        },
        "id": "xrnuFNBEUjj7",
        "outputId": "c4a85c59-d16d-4f36-e340-7e2512298be3"
      },
      "execution_count": 33,
      "outputs": [
        {
          "output_type": "stream",
          "name": "stdout",
          "text": [
            "Requirement already satisfied: fasttext in /usr/local/lib/python3.7/dist-packages (0.9.2)\n",
            "Requirement already satisfied: numpy in /usr/local/lib/python3.7/dist-packages (from fasttext) (1.21.5)\n",
            "Requirement already satisfied: pybind11>=2.2 in /usr/local/lib/python3.7/dist-packages (from fasttext) (2.9.1)\n",
            "Requirement already satisfied: setuptools>=0.7.0 in /usr/local/lib/python3.7/dist-packages (from fasttext) (57.4.0)\n",
            "Requirement already satisfied: pyfasttext in /usr/local/lib/python3.7/dist-packages (0.4.6)\n",
            "Requirement already satisfied: numpy in /usr/local/lib/python3.7/dist-packages (from pyfasttext) (1.21.5)\n",
            "Requirement already satisfied: future in /usr/local/lib/python3.7/dist-packages (from pyfasttext) (0.16.0)\n",
            "Requirement already satisfied: cysignals in /usr/local/lib/python3.7/dist-packages (from pyfasttext) (1.11.2)\n",
            "Requirement already satisfied: Cython>=0.28 in /usr/local/lib/python3.7/dist-packages (from cysignals->pyfasttext) (0.29.28)\n"
          ]
        },
        {
          "output_type": "stream",
          "name": "stderr",
          "text": [
            "Warning : `load_model` does not return WordVectorModel or SupervisedModel any more, but a `FastText` object which is very similar.\n"
          ]
        }
      ]
    },
    {
      "cell_type": "code",
      "source": [
        "c = modelog.get_sentence_vector('court orders obama to pay million in restitution')\n",
        "d = modelog.get_sentence_vector('romneys prolife conversion myth or reality july')"
      ],
      "metadata": {
        "id": "MKWpkiLsUA7J"
      },
      "execution_count": 36,
      "outputs": []
    },
    {
      "cell_type": "code",
      "source": [
        "from sklearn.metrics.pairwise import cosine_similarity\n",
        "from scipy import spatial\n",
        "cosine_similarity = 1 - spatial.distance.cosine(c, d)\n",
        "cosine_similarity"
      ],
      "metadata": {
        "colab": {
          "base_uri": "https://localhost:8080/"
        },
        "id": "aJrDSBU5UNgf",
        "outputId": "1a7199c4-748c-4c63-8c9a-2d312113e35d"
      },
      "execution_count": 37,
      "outputs": [
        {
          "output_type": "execute_result",
          "data": {
            "text/plain": [
              "0.4243735373020172"
            ]
          },
          "metadata": {},
          "execution_count": 37
        }
      ]
    },
    {
      "cell_type": "code",
      "source": [
        "modelog.get_nearest_neighbors('hello')"
      ],
      "metadata": {
        "colab": {
          "base_uri": "https://localhost:8080/"
        },
        "id": "7KSjpJQ12O8o",
        "outputId": "0081ba67-3bff-47f0-c238-d17b05657619"
      },
      "execution_count": 38,
      "outputs": [
        {
          "output_type": "execute_result",
          "data": {
            "text/plain": [
              "[(0.7143728733062744, 'hellow'),\n",
              " (0.7095366716384888, 'hello.'),\n",
              " (0.703833818435669, 'hi'),\n",
              " (0.6944323182106018, 'hullo'),\n",
              " (0.6912142038345337, 'hello-'),\n",
              " (0.663975715637207, 'Hello'),\n",
              " (0.6563249230384827, 'hello.I'),\n",
              " (0.6529381275177002, 'howdy'),\n",
              " (0.6283847689628601, 'hellooo'),\n",
              " (0.6235803365707397, 'hellooooo')]"
            ]
          },
          "metadata": {},
          "execution_count": 38
        }
      ]
    },
    {
      "cell_type": "code",
      "source": [
        "embedding=[]\n",
        "for line in df1['title']:\n",
        "    pred_label=modelog.get_sentence_vector(line)\n",
        "    embedding.append(pred_label)\n",
        "\n",
        "# you add the list to the dataframe, then save the datframe to new csv\n",
        "df1['prediction']=embedding\n",
        "df1.to_csv('csv_word_embed_gossipcop.csv',index=False)"
      ],
      "metadata": {
        "id": "ieRTxztPYT7L"
      },
      "execution_count": 39,
      "outputs": []
    },
    {
      "cell_type": "code",
      "source": [
        "df1"
      ],
      "metadata": {
        "colab": {
          "base_uri": "https://localhost:8080/",
          "height": 423
        },
        "id": "pVI_o45Ay2E3",
        "outputId": "648209ed-cc00-481e-f720-6f948019825e"
      },
      "execution_count": 40,
      "outputs": [
        {
          "output_type": "execute_result",
          "data": {
            "text/html": [
              "\n",
              "  <div id=\"df-44b22c4a-0390-4e8f-bc2e-9827c9daf515\">\n",
              "    <div class=\"colab-df-container\">\n",
              "      <div>\n",
              "<style scoped>\n",
              "    .dataframe tbody tr th:only-of-type {\n",
              "        vertical-align: middle;\n",
              "    }\n",
              "\n",
              "    .dataframe tbody tr th {\n",
              "        vertical-align: top;\n",
              "    }\n",
              "\n",
              "    .dataframe thead th {\n",
              "        text-align: right;\n",
              "    }\n",
              "</style>\n",
              "<table border=\"1\" class=\"dataframe\">\n",
              "  <thead>\n",
              "    <tr style=\"text-align: right;\">\n",
              "      <th></th>\n",
              "      <th>title</th>\n",
              "      <th>labelML</th>\n",
              "      <th>prediction</th>\n",
              "    </tr>\n",
              "  </thead>\n",
              "  <tbody>\n",
              "    <tr>\n",
              "      <th>0</th>\n",
              "      <td>breaking first nfl team declares bankruptcy ov...</td>\n",
              "      <td>0</td>\n",
              "      <td>[0.0069501833, 0.012378238, 0.006992966, 0.079...</td>\n",
              "    </tr>\n",
              "    <tr>\n",
              "      <th>1</th>\n",
              "      <td>court orders obama to pay million in restitution</td>\n",
              "      <td>0</td>\n",
              "      <td>[-0.043015987, 0.001276843, 0.04020724, 0.0318...</td>\n",
              "    </tr>\n",
              "    <tr>\n",
              "      <th>2</th>\n",
              "      <td>update second roy moore accuser works for mich...</td>\n",
              "      <td>0</td>\n",
              "      <td>[-0.033957314, 0.014177965, 0.0071734735, 0.06...</td>\n",
              "    </tr>\n",
              "    <tr>\n",
              "      <th>3</th>\n",
              "      <td>oscar pistorius attempts to commit suicide</td>\n",
              "      <td>0</td>\n",
              "      <td>[-0.048852272, -0.013508869, 0.029568031, 0.04...</td>\n",
              "    </tr>\n",
              "    <tr>\n",
              "      <th>4</th>\n",
              "      <td>trump votes for death penalty for being gay</td>\n",
              "      <td>0</td>\n",
              "      <td>[-0.00546249, 0.0050944164, -0.010664497, 0.07...</td>\n",
              "    </tr>\n",
              "    <tr>\n",
              "      <th>...</th>\n",
              "      <td>...</td>\n",
              "      <td>...</td>\n",
              "      <td>...</td>\n",
              "    </tr>\n",
              "    <tr>\n",
              "      <th>1051</th>\n",
              "      <td>flake religious tests should have no place in ...</td>\n",
              "      <td>1</td>\n",
              "      <td>[-0.026969075, 0.009240309, 0.01840479, 0.0655...</td>\n",
              "    </tr>\n",
              "    <tr>\n",
              "      <th>1052</th>\n",
              "      <td>change we can believe in</td>\n",
              "      <td>1</td>\n",
              "      <td>[-0.0300128, -0.002050096, 0.04633387, 0.05090...</td>\n",
              "    </tr>\n",
              "    <tr>\n",
              "      <th>1053</th>\n",
              "      <td>deputy director of national health statistics ...</td>\n",
              "      <td>1</td>\n",
              "      <td>[-0.0047038035, 0.0029697777, 0.008903842, 0.0...</td>\n",
              "    </tr>\n",
              "    <tr>\n",
              "      <th>1054</th>\n",
              "      <td>romneys prolife conversion myth or reality june</td>\n",
              "      <td>1</td>\n",
              "      <td>[-0.044189956, 0.004192572, -0.041098025, 0.00...</td>\n",
              "    </tr>\n",
              "    <tr>\n",
              "      <th>1055</th>\n",
              "      <td>interest group ratings</td>\n",
              "      <td>1</td>\n",
              "      <td>[-0.022183288, 0.029604357, 0.024421662, 0.029...</td>\n",
              "    </tr>\n",
              "  </tbody>\n",
              "</table>\n",
              "<p>1056 rows × 3 columns</p>\n",
              "</div>\n",
              "      <button class=\"colab-df-convert\" onclick=\"convertToInteractive('df-44b22c4a-0390-4e8f-bc2e-9827c9daf515')\"\n",
              "              title=\"Convert this dataframe to an interactive table.\"\n",
              "              style=\"display:none;\">\n",
              "        \n",
              "  <svg xmlns=\"http://www.w3.org/2000/svg\" height=\"24px\"viewBox=\"0 0 24 24\"\n",
              "       width=\"24px\">\n",
              "    <path d=\"M0 0h24v24H0V0z\" fill=\"none\"/>\n",
              "    <path d=\"M18.56 5.44l.94 2.06.94-2.06 2.06-.94-2.06-.94-.94-2.06-.94 2.06-2.06.94zm-11 1L8.5 8.5l.94-2.06 2.06-.94-2.06-.94L8.5 2.5l-.94 2.06-2.06.94zm10 10l.94 2.06.94-2.06 2.06-.94-2.06-.94-.94-2.06-.94 2.06-2.06.94z\"/><path d=\"M17.41 7.96l-1.37-1.37c-.4-.4-.92-.59-1.43-.59-.52 0-1.04.2-1.43.59L10.3 9.45l-7.72 7.72c-.78.78-.78 2.05 0 2.83L4 21.41c.39.39.9.59 1.41.59.51 0 1.02-.2 1.41-.59l7.78-7.78 2.81-2.81c.8-.78.8-2.07 0-2.86zM5.41 20L4 18.59l7.72-7.72 1.47 1.35L5.41 20z\"/>\n",
              "  </svg>\n",
              "      </button>\n",
              "      \n",
              "  <style>\n",
              "    .colab-df-container {\n",
              "      display:flex;\n",
              "      flex-wrap:wrap;\n",
              "      gap: 12px;\n",
              "    }\n",
              "\n",
              "    .colab-df-convert {\n",
              "      background-color: #E8F0FE;\n",
              "      border: none;\n",
              "      border-radius: 50%;\n",
              "      cursor: pointer;\n",
              "      display: none;\n",
              "      fill: #1967D2;\n",
              "      height: 32px;\n",
              "      padding: 0 0 0 0;\n",
              "      width: 32px;\n",
              "    }\n",
              "\n",
              "    .colab-df-convert:hover {\n",
              "      background-color: #E2EBFA;\n",
              "      box-shadow: 0px 1px 2px rgba(60, 64, 67, 0.3), 0px 1px 3px 1px rgba(60, 64, 67, 0.15);\n",
              "      fill: #174EA6;\n",
              "    }\n",
              "\n",
              "    [theme=dark] .colab-df-convert {\n",
              "      background-color: #3B4455;\n",
              "      fill: #D2E3FC;\n",
              "    }\n",
              "\n",
              "    [theme=dark] .colab-df-convert:hover {\n",
              "      background-color: #434B5C;\n",
              "      box-shadow: 0px 1px 3px 1px rgba(0, 0, 0, 0.15);\n",
              "      filter: drop-shadow(0px 1px 2px rgba(0, 0, 0, 0.3));\n",
              "      fill: #FFFFFF;\n",
              "    }\n",
              "  </style>\n",
              "\n",
              "      <script>\n",
              "        const buttonEl =\n",
              "          document.querySelector('#df-44b22c4a-0390-4e8f-bc2e-9827c9daf515 button.colab-df-convert');\n",
              "        buttonEl.style.display =\n",
              "          google.colab.kernel.accessAllowed ? 'block' : 'none';\n",
              "\n",
              "        async function convertToInteractive(key) {\n",
              "          const element = document.querySelector('#df-44b22c4a-0390-4e8f-bc2e-9827c9daf515');\n",
              "          const dataTable =\n",
              "            await google.colab.kernel.invokeFunction('convertToInteractive',\n",
              "                                                     [key], {});\n",
              "          if (!dataTable) return;\n",
              "\n",
              "          const docLinkHtml = 'Like what you see? Visit the ' +\n",
              "            '<a target=\"_blank\" href=https://colab.research.google.com/notebooks/data_table.ipynb>data table notebook</a>'\n",
              "            + ' to learn more about interactive tables.';\n",
              "          element.innerHTML = '';\n",
              "          dataTable['output_type'] = 'display_data';\n",
              "          await google.colab.output.renderOutput(dataTable, element);\n",
              "          const docLink = document.createElement('div');\n",
              "          docLink.innerHTML = docLinkHtml;\n",
              "          element.appendChild(docLink);\n",
              "        }\n",
              "      </script>\n",
              "    </div>\n",
              "  </div>\n",
              "  "
            ],
            "text/plain": [
              "                                                  title  labelML  \\\n",
              "0     breaking first nfl team declares bankruptcy ov...        0   \n",
              "1      court orders obama to pay million in restitution        0   \n",
              "2     update second roy moore accuser works for mich...        0   \n",
              "3            oscar pistorius attempts to commit suicide        0   \n",
              "4           trump votes for death penalty for being gay        0   \n",
              "...                                                 ...      ...   \n",
              "1051  flake religious tests should have no place in ...        1   \n",
              "1052                           change we can believe in        1   \n",
              "1053  deputy director of national health statistics ...        1   \n",
              "1054    romneys prolife conversion myth or reality june        1   \n",
              "1055                             interest group ratings        1   \n",
              "\n",
              "                                             prediction  \n",
              "0     [0.0069501833, 0.012378238, 0.006992966, 0.079...  \n",
              "1     [-0.043015987, 0.001276843, 0.04020724, 0.0318...  \n",
              "2     [-0.033957314, 0.014177965, 0.0071734735, 0.06...  \n",
              "3     [-0.048852272, -0.013508869, 0.029568031, 0.04...  \n",
              "4     [-0.00546249, 0.0050944164, -0.010664497, 0.07...  \n",
              "...                                                 ...  \n",
              "1051  [-0.026969075, 0.009240309, 0.01840479, 0.0655...  \n",
              "1052  [-0.0300128, -0.002050096, 0.04633387, 0.05090...  \n",
              "1053  [-0.0047038035, 0.0029697777, 0.008903842, 0.0...  \n",
              "1054  [-0.044189956, 0.004192572, -0.041098025, 0.00...  \n",
              "1055  [-0.022183288, 0.029604357, 0.024421662, 0.029...  \n",
              "\n",
              "[1056 rows x 3 columns]"
            ]
          },
          "metadata": {},
          "execution_count": 40
        }
      ]
    },
    {
      "cell_type": "code",
      "source": [
        "type(df1)"
      ],
      "metadata": {
        "colab": {
          "base_uri": "https://localhost:8080/"
        },
        "id": "93oeEQOYyRaE",
        "outputId": "ac94f7f6-bd0a-4262-a658-b8321bafb5e9"
      },
      "execution_count": 41,
      "outputs": [
        {
          "output_type": "execute_result",
          "data": {
            "text/plain": [
              "pandas.core.frame.DataFrame"
            ]
          },
          "metadata": {},
          "execution_count": 41
        }
      ]
    },
    {
      "cell_type": "code",
      "source": [
        "df3 = df1.drop(['title'], axis=1)\n",
        "df3"
      ],
      "metadata": {
        "colab": {
          "base_uri": "https://localhost:8080/",
          "height": 423
        },
        "id": "Anndz_RL2bSf",
        "outputId": "fa516f5f-d20b-417b-aac3-d92442b1f6c5"
      },
      "execution_count": 42,
      "outputs": [
        {
          "output_type": "execute_result",
          "data": {
            "text/html": [
              "\n",
              "  <div id=\"df-8cf84d6e-22d5-4f77-b203-fdb01750da19\">\n",
              "    <div class=\"colab-df-container\">\n",
              "      <div>\n",
              "<style scoped>\n",
              "    .dataframe tbody tr th:only-of-type {\n",
              "        vertical-align: middle;\n",
              "    }\n",
              "\n",
              "    .dataframe tbody tr th {\n",
              "        vertical-align: top;\n",
              "    }\n",
              "\n",
              "    .dataframe thead th {\n",
              "        text-align: right;\n",
              "    }\n",
              "</style>\n",
              "<table border=\"1\" class=\"dataframe\">\n",
              "  <thead>\n",
              "    <tr style=\"text-align: right;\">\n",
              "      <th></th>\n",
              "      <th>labelML</th>\n",
              "      <th>prediction</th>\n",
              "    </tr>\n",
              "  </thead>\n",
              "  <tbody>\n",
              "    <tr>\n",
              "      <th>0</th>\n",
              "      <td>0</td>\n",
              "      <td>[0.0069501833, 0.012378238, 0.006992966, 0.079...</td>\n",
              "    </tr>\n",
              "    <tr>\n",
              "      <th>1</th>\n",
              "      <td>0</td>\n",
              "      <td>[-0.043015987, 0.001276843, 0.04020724, 0.0318...</td>\n",
              "    </tr>\n",
              "    <tr>\n",
              "      <th>2</th>\n",
              "      <td>0</td>\n",
              "      <td>[-0.033957314, 0.014177965, 0.0071734735, 0.06...</td>\n",
              "    </tr>\n",
              "    <tr>\n",
              "      <th>3</th>\n",
              "      <td>0</td>\n",
              "      <td>[-0.048852272, -0.013508869, 0.029568031, 0.04...</td>\n",
              "    </tr>\n",
              "    <tr>\n",
              "      <th>4</th>\n",
              "      <td>0</td>\n",
              "      <td>[-0.00546249, 0.0050944164, -0.010664497, 0.07...</td>\n",
              "    </tr>\n",
              "    <tr>\n",
              "      <th>...</th>\n",
              "      <td>...</td>\n",
              "      <td>...</td>\n",
              "    </tr>\n",
              "    <tr>\n",
              "      <th>1051</th>\n",
              "      <td>1</td>\n",
              "      <td>[-0.026969075, 0.009240309, 0.01840479, 0.0655...</td>\n",
              "    </tr>\n",
              "    <tr>\n",
              "      <th>1052</th>\n",
              "      <td>1</td>\n",
              "      <td>[-0.0300128, -0.002050096, 0.04633387, 0.05090...</td>\n",
              "    </tr>\n",
              "    <tr>\n",
              "      <th>1053</th>\n",
              "      <td>1</td>\n",
              "      <td>[-0.0047038035, 0.0029697777, 0.008903842, 0.0...</td>\n",
              "    </tr>\n",
              "    <tr>\n",
              "      <th>1054</th>\n",
              "      <td>1</td>\n",
              "      <td>[-0.044189956, 0.004192572, -0.041098025, 0.00...</td>\n",
              "    </tr>\n",
              "    <tr>\n",
              "      <th>1055</th>\n",
              "      <td>1</td>\n",
              "      <td>[-0.022183288, 0.029604357, 0.024421662, 0.029...</td>\n",
              "    </tr>\n",
              "  </tbody>\n",
              "</table>\n",
              "<p>1056 rows × 2 columns</p>\n",
              "</div>\n",
              "      <button class=\"colab-df-convert\" onclick=\"convertToInteractive('df-8cf84d6e-22d5-4f77-b203-fdb01750da19')\"\n",
              "              title=\"Convert this dataframe to an interactive table.\"\n",
              "              style=\"display:none;\">\n",
              "        \n",
              "  <svg xmlns=\"http://www.w3.org/2000/svg\" height=\"24px\"viewBox=\"0 0 24 24\"\n",
              "       width=\"24px\">\n",
              "    <path d=\"M0 0h24v24H0V0z\" fill=\"none\"/>\n",
              "    <path d=\"M18.56 5.44l.94 2.06.94-2.06 2.06-.94-2.06-.94-.94-2.06-.94 2.06-2.06.94zm-11 1L8.5 8.5l.94-2.06 2.06-.94-2.06-.94L8.5 2.5l-.94 2.06-2.06.94zm10 10l.94 2.06.94-2.06 2.06-.94-2.06-.94-.94-2.06-.94 2.06-2.06.94z\"/><path d=\"M17.41 7.96l-1.37-1.37c-.4-.4-.92-.59-1.43-.59-.52 0-1.04.2-1.43.59L10.3 9.45l-7.72 7.72c-.78.78-.78 2.05 0 2.83L4 21.41c.39.39.9.59 1.41.59.51 0 1.02-.2 1.41-.59l7.78-7.78 2.81-2.81c.8-.78.8-2.07 0-2.86zM5.41 20L4 18.59l7.72-7.72 1.47 1.35L5.41 20z\"/>\n",
              "  </svg>\n",
              "      </button>\n",
              "      \n",
              "  <style>\n",
              "    .colab-df-container {\n",
              "      display:flex;\n",
              "      flex-wrap:wrap;\n",
              "      gap: 12px;\n",
              "    }\n",
              "\n",
              "    .colab-df-convert {\n",
              "      background-color: #E8F0FE;\n",
              "      border: none;\n",
              "      border-radius: 50%;\n",
              "      cursor: pointer;\n",
              "      display: none;\n",
              "      fill: #1967D2;\n",
              "      height: 32px;\n",
              "      padding: 0 0 0 0;\n",
              "      width: 32px;\n",
              "    }\n",
              "\n",
              "    .colab-df-convert:hover {\n",
              "      background-color: #E2EBFA;\n",
              "      box-shadow: 0px 1px 2px rgba(60, 64, 67, 0.3), 0px 1px 3px 1px rgba(60, 64, 67, 0.15);\n",
              "      fill: #174EA6;\n",
              "    }\n",
              "\n",
              "    [theme=dark] .colab-df-convert {\n",
              "      background-color: #3B4455;\n",
              "      fill: #D2E3FC;\n",
              "    }\n",
              "\n",
              "    [theme=dark] .colab-df-convert:hover {\n",
              "      background-color: #434B5C;\n",
              "      box-shadow: 0px 1px 3px 1px rgba(0, 0, 0, 0.15);\n",
              "      filter: drop-shadow(0px 1px 2px rgba(0, 0, 0, 0.3));\n",
              "      fill: #FFFFFF;\n",
              "    }\n",
              "  </style>\n",
              "\n",
              "      <script>\n",
              "        const buttonEl =\n",
              "          document.querySelector('#df-8cf84d6e-22d5-4f77-b203-fdb01750da19 button.colab-df-convert');\n",
              "        buttonEl.style.display =\n",
              "          google.colab.kernel.accessAllowed ? 'block' : 'none';\n",
              "\n",
              "        async function convertToInteractive(key) {\n",
              "          const element = document.querySelector('#df-8cf84d6e-22d5-4f77-b203-fdb01750da19');\n",
              "          const dataTable =\n",
              "            await google.colab.kernel.invokeFunction('convertToInteractive',\n",
              "                                                     [key], {});\n",
              "          if (!dataTable) return;\n",
              "\n",
              "          const docLinkHtml = 'Like what you see? Visit the ' +\n",
              "            '<a target=\"_blank\" href=https://colab.research.google.com/notebooks/data_table.ipynb>data table notebook</a>'\n",
              "            + ' to learn more about interactive tables.';\n",
              "          element.innerHTML = '';\n",
              "          dataTable['output_type'] = 'display_data';\n",
              "          await google.colab.output.renderOutput(dataTable, element);\n",
              "          const docLink = document.createElement('div');\n",
              "          docLink.innerHTML = docLinkHtml;\n",
              "          element.appendChild(docLink);\n",
              "        }\n",
              "      </script>\n",
              "    </div>\n",
              "  </div>\n",
              "  "
            ],
            "text/plain": [
              "      labelML                                         prediction\n",
              "0           0  [0.0069501833, 0.012378238, 0.006992966, 0.079...\n",
              "1           0  [-0.043015987, 0.001276843, 0.04020724, 0.0318...\n",
              "2           0  [-0.033957314, 0.014177965, 0.0071734735, 0.06...\n",
              "3           0  [-0.048852272, -0.013508869, 0.029568031, 0.04...\n",
              "4           0  [-0.00546249, 0.0050944164, -0.010664497, 0.07...\n",
              "...       ...                                                ...\n",
              "1051        1  [-0.026969075, 0.009240309, 0.01840479, 0.0655...\n",
              "1052        1  [-0.0300128, -0.002050096, 0.04633387, 0.05090...\n",
              "1053        1  [-0.0047038035, 0.0029697777, 0.008903842, 0.0...\n",
              "1054        1  [-0.044189956, 0.004192572, -0.041098025, 0.00...\n",
              "1055        1  [-0.022183288, 0.029604357, 0.024421662, 0.029...\n",
              "\n",
              "[1056 rows x 2 columns]"
            ]
          },
          "metadata": {},
          "execution_count": 42
        }
      ]
    },
    {
      "cell_type": "code",
      "source": [
        "#to split the embedding \n",
        "for index, arr in df3['prediction'].iteritems():\n",
        "  for i in range(len(arr)):\n",
        "    df3.loc[index, str(i)] = arr[i]"
      ],
      "metadata": {
        "colab": {
          "base_uri": "https://localhost:8080/"
        },
        "id": "iyaOuNjR3z-k",
        "outputId": "ee0c05f3-28d0-46d7-9fc6-c29c4326410a"
      },
      "execution_count": 43,
      "outputs": [
        {
          "output_type": "stream",
          "name": "stderr",
          "text": [
            "/usr/local/lib/python3.7/dist-packages/pandas/core/indexing.py:1684: PerformanceWarning: DataFrame is highly fragmented.  This is usually the result of calling `frame.insert` many times, which has poor performance.  Consider joining all columns at once using pd.concat(axis=1) instead.  To get a de-fragmented frame, use `newframe = frame.copy()`\n",
            "  self.obj[key] = infer_fill_value(value)\n"
          ]
        }
      ]
    },
    {
      "cell_type": "code",
      "source": [
        "df3.to_pickle('ourpickle_politifact.pkl', compression=None)\n",
        "df3.to_csv('title_embed_politifact.csv', index=False)\n",
        "#to keep the files for reuse later. although xgboost gives error with just the pkl file, 0 features given error, can be checked later. "
      ],
      "metadata": {
        "id": "NQlNT_bFB9hN"
      },
      "execution_count": 84,
      "outputs": []
    },
    {
      "cell_type": "code",
      "source": [
        "df3"
      ],
      "metadata": {
        "colab": {
          "base_uri": "https://localhost:8080/",
          "height": 1000
        },
        "id": "SS4R2kJRBoj6",
        "outputId": "e4da450b-9f11-4ea3-b19f-f1a49a8d5320"
      },
      "execution_count": 85,
      "outputs": [
        {
          "output_type": "execute_result",
          "data": {
            "text/html": [
              "\n",
              "  <div id=\"df-d4db30cf-f52a-4ad8-9c60-23b948dc8854\">\n",
              "    <div class=\"colab-df-container\">\n",
              "      <div>\n",
              "<style scoped>\n",
              "    .dataframe tbody tr th:only-of-type {\n",
              "        vertical-align: middle;\n",
              "    }\n",
              "\n",
              "    .dataframe tbody tr th {\n",
              "        vertical-align: top;\n",
              "    }\n",
              "\n",
              "    .dataframe thead th {\n",
              "        text-align: right;\n",
              "    }\n",
              "</style>\n",
              "<table border=\"1\" class=\"dataframe\">\n",
              "  <thead>\n",
              "    <tr style=\"text-align: right;\">\n",
              "      <th></th>\n",
              "      <th>labelML</th>\n",
              "      <th>prediction</th>\n",
              "      <th>0</th>\n",
              "      <th>1</th>\n",
              "      <th>2</th>\n",
              "      <th>3</th>\n",
              "      <th>4</th>\n",
              "      <th>5</th>\n",
              "      <th>6</th>\n",
              "      <th>7</th>\n",
              "      <th>...</th>\n",
              "      <th>290</th>\n",
              "      <th>291</th>\n",
              "      <th>292</th>\n",
              "      <th>293</th>\n",
              "      <th>294</th>\n",
              "      <th>295</th>\n",
              "      <th>296</th>\n",
              "      <th>297</th>\n",
              "      <th>298</th>\n",
              "      <th>299</th>\n",
              "    </tr>\n",
              "  </thead>\n",
              "  <tbody>\n",
              "    <tr>\n",
              "      <th>0</th>\n",
              "      <td>0</td>\n",
              "      <td>[0.0069501833, 0.012378238, 0.006992966, 0.079...</td>\n",
              "      <td>0.006950</td>\n",
              "      <td>0.012378</td>\n",
              "      <td>0.006993</td>\n",
              "      <td>0.079798</td>\n",
              "      <td>-0.076734</td>\n",
              "      <td>0.016184</td>\n",
              "      <td>0.023233</td>\n",
              "      <td>-0.027754</td>\n",
              "      <td>...</td>\n",
              "      <td>-0.002141</td>\n",
              "      <td>0.001098</td>\n",
              "      <td>-0.065715</td>\n",
              "      <td>0.016447</td>\n",
              "      <td>-0.012058</td>\n",
              "      <td>-0.006030</td>\n",
              "      <td>0.003967</td>\n",
              "      <td>0.060633</td>\n",
              "      <td>-0.001201</td>\n",
              "      <td>0.015366</td>\n",
              "    </tr>\n",
              "    <tr>\n",
              "      <th>1</th>\n",
              "      <td>0</td>\n",
              "      <td>[-0.043015987, 0.001276843, 0.04020724, 0.0318...</td>\n",
              "      <td>-0.043016</td>\n",
              "      <td>0.001277</td>\n",
              "      <td>0.040207</td>\n",
              "      <td>0.031881</td>\n",
              "      <td>-0.071609</td>\n",
              "      <td>0.016816</td>\n",
              "      <td>0.021525</td>\n",
              "      <td>-0.028840</td>\n",
              "      <td>...</td>\n",
              "      <td>0.024870</td>\n",
              "      <td>-0.005575</td>\n",
              "      <td>-0.032846</td>\n",
              "      <td>0.005065</td>\n",
              "      <td>0.031414</td>\n",
              "      <td>0.009491</td>\n",
              "      <td>-0.020626</td>\n",
              "      <td>0.052110</td>\n",
              "      <td>0.016882</td>\n",
              "      <td>0.012650</td>\n",
              "    </tr>\n",
              "    <tr>\n",
              "      <th>2</th>\n",
              "      <td>0</td>\n",
              "      <td>[-0.033957314, 0.014177965, 0.0071734735, 0.06...</td>\n",
              "      <td>-0.033957</td>\n",
              "      <td>0.014178</td>\n",
              "      <td>0.007173</td>\n",
              "      <td>0.068037</td>\n",
              "      <td>-0.052269</td>\n",
              "      <td>-0.003744</td>\n",
              "      <td>0.020675</td>\n",
              "      <td>0.002652</td>\n",
              "      <td>...</td>\n",
              "      <td>0.034091</td>\n",
              "      <td>-0.002843</td>\n",
              "      <td>-0.148873</td>\n",
              "      <td>0.025825</td>\n",
              "      <td>-0.007882</td>\n",
              "      <td>-0.000168</td>\n",
              "      <td>-0.001640</td>\n",
              "      <td>0.072320</td>\n",
              "      <td>-0.009994</td>\n",
              "      <td>-0.012056</td>\n",
              "    </tr>\n",
              "    <tr>\n",
              "      <th>3</th>\n",
              "      <td>0</td>\n",
              "      <td>[-0.048852272, -0.013508869, 0.029568031, 0.04...</td>\n",
              "      <td>-0.048852</td>\n",
              "      <td>-0.013509</td>\n",
              "      <td>0.029568</td>\n",
              "      <td>0.047458</td>\n",
              "      <td>-0.018791</td>\n",
              "      <td>-0.032403</td>\n",
              "      <td>-0.032814</td>\n",
              "      <td>0.034912</td>\n",
              "      <td>...</td>\n",
              "      <td>0.024242</td>\n",
              "      <td>0.007002</td>\n",
              "      <td>-0.127479</td>\n",
              "      <td>0.019416</td>\n",
              "      <td>0.060609</td>\n",
              "      <td>0.009883</td>\n",
              "      <td>0.003603</td>\n",
              "      <td>0.055205</td>\n",
              "      <td>-0.016031</td>\n",
              "      <td>0.010726</td>\n",
              "    </tr>\n",
              "    <tr>\n",
              "      <th>4</th>\n",
              "      <td>0</td>\n",
              "      <td>[-0.00546249, 0.0050944164, -0.010664497, 0.07...</td>\n",
              "      <td>-0.005462</td>\n",
              "      <td>0.005094</td>\n",
              "      <td>-0.010664</td>\n",
              "      <td>0.070058</td>\n",
              "      <td>-0.062735</td>\n",
              "      <td>-0.019179</td>\n",
              "      <td>0.031027</td>\n",
              "      <td>-0.003604</td>\n",
              "      <td>...</td>\n",
              "      <td>-0.005758</td>\n",
              "      <td>0.016082</td>\n",
              "      <td>-0.022874</td>\n",
              "      <td>0.028298</td>\n",
              "      <td>0.022922</td>\n",
              "      <td>0.017507</td>\n",
              "      <td>0.009065</td>\n",
              "      <td>0.031150</td>\n",
              "      <td>0.030781</td>\n",
              "      <td>0.034070</td>\n",
              "    </tr>\n",
              "    <tr>\n",
              "      <th>...</th>\n",
              "      <td>...</td>\n",
              "      <td>...</td>\n",
              "      <td>...</td>\n",
              "      <td>...</td>\n",
              "      <td>...</td>\n",
              "      <td>...</td>\n",
              "      <td>...</td>\n",
              "      <td>...</td>\n",
              "      <td>...</td>\n",
              "      <td>...</td>\n",
              "      <td>...</td>\n",
              "      <td>...</td>\n",
              "      <td>...</td>\n",
              "      <td>...</td>\n",
              "      <td>...</td>\n",
              "      <td>...</td>\n",
              "      <td>...</td>\n",
              "      <td>...</td>\n",
              "      <td>...</td>\n",
              "      <td>...</td>\n",
              "      <td>...</td>\n",
              "    </tr>\n",
              "    <tr>\n",
              "      <th>1051</th>\n",
              "      <td>1</td>\n",
              "      <td>[-0.026969075, 0.009240309, 0.01840479, 0.0655...</td>\n",
              "      <td>-0.026969</td>\n",
              "      <td>0.009240</td>\n",
              "      <td>0.018405</td>\n",
              "      <td>0.065564</td>\n",
              "      <td>-0.069260</td>\n",
              "      <td>-0.020922</td>\n",
              "      <td>0.059876</td>\n",
              "      <td>-0.003409</td>\n",
              "      <td>...</td>\n",
              "      <td>0.034735</td>\n",
              "      <td>-0.049131</td>\n",
              "      <td>-0.056735</td>\n",
              "      <td>-0.002440</td>\n",
              "      <td>-0.012588</td>\n",
              "      <td>0.013866</td>\n",
              "      <td>0.034057</td>\n",
              "      <td>0.087729</td>\n",
              "      <td>0.014852</td>\n",
              "      <td>0.017551</td>\n",
              "    </tr>\n",
              "    <tr>\n",
              "      <th>1052</th>\n",
              "      <td>1</td>\n",
              "      <td>[-0.0300128, -0.002050096, 0.04633387, 0.05090...</td>\n",
              "      <td>-0.030013</td>\n",
              "      <td>-0.002050</td>\n",
              "      <td>0.046334</td>\n",
              "      <td>0.050906</td>\n",
              "      <td>-0.092111</td>\n",
              "      <td>-0.032680</td>\n",
              "      <td>0.000134</td>\n",
              "      <td>-0.011542</td>\n",
              "      <td>...</td>\n",
              "      <td>0.085058</td>\n",
              "      <td>0.014162</td>\n",
              "      <td>-0.068230</td>\n",
              "      <td>0.021052</td>\n",
              "      <td>-0.002458</td>\n",
              "      <td>0.012554</td>\n",
              "      <td>0.032322</td>\n",
              "      <td>0.054333</td>\n",
              "      <td>-0.024740</td>\n",
              "      <td>0.047798</td>\n",
              "    </tr>\n",
              "    <tr>\n",
              "      <th>1053</th>\n",
              "      <td>1</td>\n",
              "      <td>[-0.0047038035, 0.0029697777, 0.008903842, 0.0...</td>\n",
              "      <td>-0.004704</td>\n",
              "      <td>0.002970</td>\n",
              "      <td>0.008904</td>\n",
              "      <td>0.006196</td>\n",
              "      <td>-0.042154</td>\n",
              "      <td>0.020076</td>\n",
              "      <td>0.043571</td>\n",
              "      <td>0.003330</td>\n",
              "      <td>...</td>\n",
              "      <td>0.010371</td>\n",
              "      <td>0.009233</td>\n",
              "      <td>-0.042913</td>\n",
              "      <td>0.040871</td>\n",
              "      <td>-0.013417</td>\n",
              "      <td>0.007694</td>\n",
              "      <td>0.013532</td>\n",
              "      <td>0.075981</td>\n",
              "      <td>0.026263</td>\n",
              "      <td>0.008664</td>\n",
              "    </tr>\n",
              "    <tr>\n",
              "      <th>1054</th>\n",
              "      <td>1</td>\n",
              "      <td>[-0.044189956, 0.004192572, -0.041098025, 0.00...</td>\n",
              "      <td>-0.044190</td>\n",
              "      <td>0.004193</td>\n",
              "      <td>-0.041098</td>\n",
              "      <td>0.006770</td>\n",
              "      <td>-0.064896</td>\n",
              "      <td>-0.030824</td>\n",
              "      <td>0.033080</td>\n",
              "      <td>-0.018795</td>\n",
              "      <td>...</td>\n",
              "      <td>-0.011757</td>\n",
              "      <td>0.011331</td>\n",
              "      <td>-0.086264</td>\n",
              "      <td>0.052676</td>\n",
              "      <td>0.015928</td>\n",
              "      <td>0.025641</td>\n",
              "      <td>0.022189</td>\n",
              "      <td>0.065121</td>\n",
              "      <td>-0.008549</td>\n",
              "      <td>0.063377</td>\n",
              "    </tr>\n",
              "    <tr>\n",
              "      <th>1055</th>\n",
              "      <td>1</td>\n",
              "      <td>[-0.022183288, 0.029604357, 0.024421662, 0.029...</td>\n",
              "      <td>-0.022183</td>\n",
              "      <td>0.029604</td>\n",
              "      <td>0.024422</td>\n",
              "      <td>0.029446</td>\n",
              "      <td>-0.032232</td>\n",
              "      <td>0.023205</td>\n",
              "      <td>0.057840</td>\n",
              "      <td>-0.075828</td>\n",
              "      <td>...</td>\n",
              "      <td>0.054513</td>\n",
              "      <td>0.007649</td>\n",
              "      <td>-0.031901</td>\n",
              "      <td>0.106879</td>\n",
              "      <td>-0.012549</td>\n",
              "      <td>0.056045</td>\n",
              "      <td>0.014998</td>\n",
              "      <td>0.048229</td>\n",
              "      <td>-0.027294</td>\n",
              "      <td>-0.058049</td>\n",
              "    </tr>\n",
              "  </tbody>\n",
              "</table>\n",
              "<p>1056 rows × 302 columns</p>\n",
              "</div>\n",
              "      <button class=\"colab-df-convert\" onclick=\"convertToInteractive('df-d4db30cf-f52a-4ad8-9c60-23b948dc8854')\"\n",
              "              title=\"Convert this dataframe to an interactive table.\"\n",
              "              style=\"display:none;\">\n",
              "        \n",
              "  <svg xmlns=\"http://www.w3.org/2000/svg\" height=\"24px\"viewBox=\"0 0 24 24\"\n",
              "       width=\"24px\">\n",
              "    <path d=\"M0 0h24v24H0V0z\" fill=\"none\"/>\n",
              "    <path d=\"M18.56 5.44l.94 2.06.94-2.06 2.06-.94-2.06-.94-.94-2.06-.94 2.06-2.06.94zm-11 1L8.5 8.5l.94-2.06 2.06-.94-2.06-.94L8.5 2.5l-.94 2.06-2.06.94zm10 10l.94 2.06.94-2.06 2.06-.94-2.06-.94-.94-2.06-.94 2.06-2.06.94z\"/><path d=\"M17.41 7.96l-1.37-1.37c-.4-.4-.92-.59-1.43-.59-.52 0-1.04.2-1.43.59L10.3 9.45l-7.72 7.72c-.78.78-.78 2.05 0 2.83L4 21.41c.39.39.9.59 1.41.59.51 0 1.02-.2 1.41-.59l7.78-7.78 2.81-2.81c.8-.78.8-2.07 0-2.86zM5.41 20L4 18.59l7.72-7.72 1.47 1.35L5.41 20z\"/>\n",
              "  </svg>\n",
              "      </button>\n",
              "      \n",
              "  <style>\n",
              "    .colab-df-container {\n",
              "      display:flex;\n",
              "      flex-wrap:wrap;\n",
              "      gap: 12px;\n",
              "    }\n",
              "\n",
              "    .colab-df-convert {\n",
              "      background-color: #E8F0FE;\n",
              "      border: none;\n",
              "      border-radius: 50%;\n",
              "      cursor: pointer;\n",
              "      display: none;\n",
              "      fill: #1967D2;\n",
              "      height: 32px;\n",
              "      padding: 0 0 0 0;\n",
              "      width: 32px;\n",
              "    }\n",
              "\n",
              "    .colab-df-convert:hover {\n",
              "      background-color: #E2EBFA;\n",
              "      box-shadow: 0px 1px 2px rgba(60, 64, 67, 0.3), 0px 1px 3px 1px rgba(60, 64, 67, 0.15);\n",
              "      fill: #174EA6;\n",
              "    }\n",
              "\n",
              "    [theme=dark] .colab-df-convert {\n",
              "      background-color: #3B4455;\n",
              "      fill: #D2E3FC;\n",
              "    }\n",
              "\n",
              "    [theme=dark] .colab-df-convert:hover {\n",
              "      background-color: #434B5C;\n",
              "      box-shadow: 0px 1px 3px 1px rgba(0, 0, 0, 0.15);\n",
              "      filter: drop-shadow(0px 1px 2px rgba(0, 0, 0, 0.3));\n",
              "      fill: #FFFFFF;\n",
              "    }\n",
              "  </style>\n",
              "\n",
              "      <script>\n",
              "        const buttonEl =\n",
              "          document.querySelector('#df-d4db30cf-f52a-4ad8-9c60-23b948dc8854 button.colab-df-convert');\n",
              "        buttonEl.style.display =\n",
              "          google.colab.kernel.accessAllowed ? 'block' : 'none';\n",
              "\n",
              "        async function convertToInteractive(key) {\n",
              "          const element = document.querySelector('#df-d4db30cf-f52a-4ad8-9c60-23b948dc8854');\n",
              "          const dataTable =\n",
              "            await google.colab.kernel.invokeFunction('convertToInteractive',\n",
              "                                                     [key], {});\n",
              "          if (!dataTable) return;\n",
              "\n",
              "          const docLinkHtml = 'Like what you see? Visit the ' +\n",
              "            '<a target=\"_blank\" href=https://colab.research.google.com/notebooks/data_table.ipynb>data table notebook</a>'\n",
              "            + ' to learn more about interactive tables.';\n",
              "          element.innerHTML = '';\n",
              "          dataTable['output_type'] = 'display_data';\n",
              "          await google.colab.output.renderOutput(dataTable, element);\n",
              "          const docLink = document.createElement('div');\n",
              "          docLink.innerHTML = docLinkHtml;\n",
              "          element.appendChild(docLink);\n",
              "        }\n",
              "      </script>\n",
              "    </div>\n",
              "  </div>\n",
              "  "
            ],
            "text/plain": [
              "      labelML                                         prediction         0  \\\n",
              "0           0  [0.0069501833, 0.012378238, 0.006992966, 0.079...  0.006950   \n",
              "1           0  [-0.043015987, 0.001276843, 0.04020724, 0.0318... -0.043016   \n",
              "2           0  [-0.033957314, 0.014177965, 0.0071734735, 0.06... -0.033957   \n",
              "3           0  [-0.048852272, -0.013508869, 0.029568031, 0.04... -0.048852   \n",
              "4           0  [-0.00546249, 0.0050944164, -0.010664497, 0.07... -0.005462   \n",
              "...       ...                                                ...       ...   \n",
              "1051        1  [-0.026969075, 0.009240309, 0.01840479, 0.0655... -0.026969   \n",
              "1052        1  [-0.0300128, -0.002050096, 0.04633387, 0.05090... -0.030013   \n",
              "1053        1  [-0.0047038035, 0.0029697777, 0.008903842, 0.0... -0.004704   \n",
              "1054        1  [-0.044189956, 0.004192572, -0.041098025, 0.00... -0.044190   \n",
              "1055        1  [-0.022183288, 0.029604357, 0.024421662, 0.029... -0.022183   \n",
              "\n",
              "             1         2         3         4         5         6         7  \\\n",
              "0     0.012378  0.006993  0.079798 -0.076734  0.016184  0.023233 -0.027754   \n",
              "1     0.001277  0.040207  0.031881 -0.071609  0.016816  0.021525 -0.028840   \n",
              "2     0.014178  0.007173  0.068037 -0.052269 -0.003744  0.020675  0.002652   \n",
              "3    -0.013509  0.029568  0.047458 -0.018791 -0.032403 -0.032814  0.034912   \n",
              "4     0.005094 -0.010664  0.070058 -0.062735 -0.019179  0.031027 -0.003604   \n",
              "...        ...       ...       ...       ...       ...       ...       ...   \n",
              "1051  0.009240  0.018405  0.065564 -0.069260 -0.020922  0.059876 -0.003409   \n",
              "1052 -0.002050  0.046334  0.050906 -0.092111 -0.032680  0.000134 -0.011542   \n",
              "1053  0.002970  0.008904  0.006196 -0.042154  0.020076  0.043571  0.003330   \n",
              "1054  0.004193 -0.041098  0.006770 -0.064896 -0.030824  0.033080 -0.018795   \n",
              "1055  0.029604  0.024422  0.029446 -0.032232  0.023205  0.057840 -0.075828   \n",
              "\n",
              "      ...       290       291       292       293       294       295  \\\n",
              "0     ... -0.002141  0.001098 -0.065715  0.016447 -0.012058 -0.006030   \n",
              "1     ...  0.024870 -0.005575 -0.032846  0.005065  0.031414  0.009491   \n",
              "2     ...  0.034091 -0.002843 -0.148873  0.025825 -0.007882 -0.000168   \n",
              "3     ...  0.024242  0.007002 -0.127479  0.019416  0.060609  0.009883   \n",
              "4     ... -0.005758  0.016082 -0.022874  0.028298  0.022922  0.017507   \n",
              "...   ...       ...       ...       ...       ...       ...       ...   \n",
              "1051  ...  0.034735 -0.049131 -0.056735 -0.002440 -0.012588  0.013866   \n",
              "1052  ...  0.085058  0.014162 -0.068230  0.021052 -0.002458  0.012554   \n",
              "1053  ...  0.010371  0.009233 -0.042913  0.040871 -0.013417  0.007694   \n",
              "1054  ... -0.011757  0.011331 -0.086264  0.052676  0.015928  0.025641   \n",
              "1055  ...  0.054513  0.007649 -0.031901  0.106879 -0.012549  0.056045   \n",
              "\n",
              "           296       297       298       299  \n",
              "0     0.003967  0.060633 -0.001201  0.015366  \n",
              "1    -0.020626  0.052110  0.016882  0.012650  \n",
              "2    -0.001640  0.072320 -0.009994 -0.012056  \n",
              "3     0.003603  0.055205 -0.016031  0.010726  \n",
              "4     0.009065  0.031150  0.030781  0.034070  \n",
              "...        ...       ...       ...       ...  \n",
              "1051  0.034057  0.087729  0.014852  0.017551  \n",
              "1052  0.032322  0.054333 -0.024740  0.047798  \n",
              "1053  0.013532  0.075981  0.026263  0.008664  \n",
              "1054  0.022189  0.065121 -0.008549  0.063377  \n",
              "1055  0.014998  0.048229 -0.027294 -0.058049  \n",
              "\n",
              "[1056 rows x 302 columns]"
            ]
          },
          "metadata": {},
          "execution_count": 85
        }
      ]
    },
    {
      "cell_type": "markdown",
      "source": [
        "Will be attempting xgboost here."
      ],
      "metadata": {
        "id": "KiNRzdelTQqa"
      }
    },
    {
      "cell_type": "code",
      "source": [
        "#use when RUNTIME DISCONNECTED AND ONLY NEEDED FOR XGBOOST IMPLEMENTATION\n",
        "df3 = pd.read_pickle('/content/ourpickle.pkl')"
      ],
      "metadata": {
        "id": "6_NCK9eA0JO4"
      },
      "execution_count": 86,
      "outputs": []
    },
    {
      "cell_type": "code",
      "source": [
        "from numpy import loadtxt\n",
        "from xgboost import XGBClassifier\n",
        "from sklearn.model_selection import train_test_split\n",
        "from sklearn.metrics import accuracy_score"
      ],
      "metadata": {
        "id": "GIkKkcP33UAy"
      },
      "execution_count": 87,
      "outputs": []
    },
    {
      "cell_type": "code",
      "source": [
        "# split data into X and y\n",
        "X = df3.iloc[:, 2:]\n",
        "Y = df3['labelML']"
      ],
      "metadata": {
        "id": "HZI_-vmQ3u_h"
      },
      "execution_count": 88,
      "outputs": []
    },
    {
      "cell_type": "code",
      "source": [
        "X_train, X_test, y_train, y_test = train_test_split(X, Y, test_size=0.20,random_state=1,stratify=Y)"
      ],
      "metadata": {
        "id": "gtf2k5Ci4MVx"
      },
      "execution_count": 89,
      "outputs": []
    },
    {
      "cell_type": "code",
      "source": [
        "X_train.shape"
      ],
      "metadata": {
        "colab": {
          "base_uri": "https://localhost:8080/"
        },
        "id": "UoH1hD_3-rt8",
        "outputId": "e578b2fe-3222-4ba0-b4eb-5a4d6a276b08"
      },
      "execution_count": 90,
      "outputs": [
        {
          "output_type": "execute_result",
          "data": {
            "text/plain": [
              "(844, 300)"
            ]
          },
          "metadata": {},
          "execution_count": 90
        }
      ]
    },
    {
      "cell_type": "code",
      "source": [
        "X_test.shape"
      ],
      "metadata": {
        "colab": {
          "base_uri": "https://localhost:8080/"
        },
        "id": "kPKc3B4r5HyI",
        "outputId": "e5ea7c3a-b8cf-4f03-bf84-40832eead5c0"
      },
      "execution_count": 91,
      "outputs": [
        {
          "output_type": "execute_result",
          "data": {
            "text/plain": [
              "(212, 300)"
            ]
          },
          "metadata": {},
          "execution_count": 91
        }
      ]
    },
    {
      "cell_type": "code",
      "source": [
        "y_train"
      ],
      "metadata": {
        "colab": {
          "base_uri": "https://localhost:8080/"
        },
        "id": "IgY08vmP5KxY",
        "outputId": "d73fe874-d856-41cc-abec-cc71e385adb1"
      },
      "execution_count": 92,
      "outputs": [
        {
          "output_type": "execute_result",
          "data": {
            "text/plain": [
              "868    1\n",
              "729    1\n",
              "542    1\n",
              "92     0\n",
              "537    1\n",
              "      ..\n",
              "930    1\n",
              "212    0\n",
              "928    1\n",
              "713    1\n",
              "341    0\n",
              "Name: labelML, Length: 844, dtype: int64"
            ]
          },
          "metadata": {},
          "execution_count": 92
        }
      ]
    },
    {
      "cell_type": "code",
      "source": [
        "from collections import Counter\n",
        "Counter(y_test).values()"
      ],
      "metadata": {
        "colab": {
          "base_uri": "https://localhost:8080/"
        },
        "id": "Dn1lXaMe4c1z",
        "outputId": "cfe1f1a6-6afd-4e35-f117-5df0c6ae4b13"
      },
      "execution_count": 93,
      "outputs": [
        {
          "output_type": "execute_result",
          "data": {
            "text/plain": [
              "dict_values([125, 87])"
            ]
          },
          "metadata": {},
          "execution_count": 93
        }
      ]
    },
    {
      "cell_type": "code",
      "source": [
        "# Instantiate the XGBClassifier: xg_cl\n",
        "xg_cl = xgb.XGBClassifier(objective='binary:logistic', n_estimators=10, seed=123)\n",
        "\n",
        "# Fit the classifier to the training set\n",
        "xg_cl.fit(X_train, y_train)\n",
        "\n",
        "# Predict the labels of the test set: preds\n",
        "y_pred = xg_cl.predict(X_test)\n",
        "\n",
        "# Compute the accuracy: accuracy\n",
        "accuracy = float(np.sum(y_pred == y_test)) / y_test.shape[0]\n",
        "print(\"accuracy: %f\" % (accuracy))"
      ],
      "metadata": {
        "id": "uz6F4x7mQd9Z",
        "colab": {
          "base_uri": "https://localhost:8080/"
        },
        "outputId": "ba4fd09d-b5b1-4405-bd43-37f87eaa8f0b"
      },
      "execution_count": 94,
      "outputs": [
        {
          "output_type": "stream",
          "name": "stdout",
          "text": [
            "accuracy: 0.768868\n"
          ]
        }
      ]
    },
    {
      "cell_type": "code",
      "source": [
        "from sklearn.neighbors import KNeighborsClassifier as KNN\n"
      ],
      "metadata": {
        "id": "hZ_5CVOh1wPa"
      },
      "execution_count": 95,
      "outputs": []
    },
    {
      "cell_type": "code",
      "source": [
        "from sklearn.metrics import confusion_matrix\n",
        "#Source: https://www.stackvidhya.com/plot-confusion-matrix-in-python-and-why/ \n",
        "#Generate the confusion matrix\n",
        "cf_matrix = confusion_matrix(y_test, y_pred)\n",
        "\n",
        "print(cf_matrix)"
      ],
      "metadata": {
        "colab": {
          "base_uri": "https://localhost:8080/"
        },
        "id": "Wmmw6ibJsLSz",
        "outputId": "979b513c-04a5-4017-dbb9-cd854e1ab0d4"
      },
      "execution_count": 96,
      "outputs": [
        {
          "output_type": "stream",
          "name": "stdout",
          "text": [
            "[[ 62  25]\n",
            " [ 24 101]]\n"
          ]
        }
      ]
    },
    {
      "cell_type": "code",
      "source": [
        "import seaborn as sns\n",
        "from matplotlib import pyplot as plt\n",
        "\n",
        "ax = sns.heatmap(cf_matrix, annot=True, cmap='Blues', fmt= '.3g')\n",
        "\n",
        "ax.set_title('Seaborn Confusion Matrix with labels\\n\\n');\n",
        "ax.set_xlabel('\\nPredicted Values')\n",
        "ax.set_ylabel('Actual Values ');\n",
        "\n",
        "## Ticket labels - List must be in alphabetical order\n",
        "ax.xaxis.set_ticklabels(['False','True'])\n",
        "ax.yaxis.set_ticklabels(['False','True'])\n",
        "\n",
        "## Display the visualization of the Confusion Matrix.\n",
        "plt.show()"
      ],
      "metadata": {
        "colab": {
          "base_uri": "https://localhost:8080/",
          "height": 337
        },
        "id": "RgDVbwjJsLVF",
        "outputId": "6d1ba9e8-4c09-4854-8ceb-6feb8a4007de"
      },
      "execution_count": 97,
      "outputs": [
        {
          "output_type": "display_data",
          "data": {
            "image/png": "[encoded data removed]",
            "text/plain": [
              "<Figure size 432x288 with 2 Axes>"
            ]
          },
          "metadata": {
            "needs_background": "light"
          }
        }
      ]
    },
    {
      "cell_type": "code",
      "source": [
        ""
      ],
      "metadata": {
        "id": "BZIGxfBWsLXG"
      },
      "execution_count": null,
      "outputs": []
    },
    {
      "cell_type": "code",
      "source": [
        ""
      ],
      "metadata": {
        "id": "qq_44Iy7sLZc"
      },
      "execution_count": null,
      "outputs": []
    },
    {
      "cell_type": "code",
      "source": [
        ""
      ],
      "metadata": {
        "id": "FvGB5HkzsLbX"
      },
      "execution_count": null,
      "outputs": []
    },
    {
      "cell_type": "code",
      "source": [
        ""
      ],
      "metadata": {
        "id": "RiTdvH9SsLd5"
      },
      "execution_count": null,
      "outputs": []
    },
    {
      "cell_type": "markdown",
      "source": [
        "Next step, keras NN model."
      ],
      "metadata": {
        "id": "YM8zVuVzYuhH"
      }
    }
  ]
}