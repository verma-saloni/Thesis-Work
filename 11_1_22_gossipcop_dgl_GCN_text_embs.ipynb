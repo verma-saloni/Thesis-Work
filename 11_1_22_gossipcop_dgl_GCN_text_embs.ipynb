{
  "nbformat": 4,
  "nbformat_minor": 0,
  "metadata": {
    "colab": {
      "provenance": [],
      "collapsed_sections": [],
      "include_colab_link": true
    },
    "kernelspec": {
      "name": "python3",
      "display_name": "Python 3"
    },
    "language_info": {
      "name": "python"
    },
    "widgets": {
      "application/vnd.jupyter.widget-state+json": {
        "02eab8b4c6594bdf99fd8c06ca237f52": {
          "model_module": "@jupyter-widgets/controls",
          "model_name": "VBoxModel",
          "model_module_version": "1.5.0",
          "state": {
            "_dom_classes": [],
            "_model_module": "@jupyter-widgets/controls",
            "_model_module_version": "1.5.0",
            "_model_name": "VBoxModel",
            "_view_count": null,
            "_view_module": "@jupyter-widgets/controls",
            "_view_module_version": "1.5.0",
            "_view_name": "VBoxView",
            "box_style": "",
            "children": [
              "IPY_MODEL_a3f99bd6f5844b7b91b533a4fee6da41",
              "IPY_MODEL_af314c7efb9c47a88bb11ed5e4224710"
            ],
            "layout": "IPY_MODEL_8c6d48b114a44acca7483a0936aa3483"
          }
        },
        "a3f99bd6f5844b7b91b533a4fee6da41": {
          "model_module": "@jupyter-widgets/controls",
          "model_name": "LabelModel",
          "model_module_version": "1.5.0",
          "state": {
            "_dom_classes": [],
            "_model_module": "@jupyter-widgets/controls",
            "_model_module_version": "1.5.0",
            "_model_name": "LabelModel",
            "_view_count": null,
            "_view_module": "@jupyter-widgets/controls",
            "_view_module_version": "1.5.0",
            "_view_name": "LabelView",
            "description": "",
            "description_tooltip": null,
            "layout": "IPY_MODEL_3e72fc482ae4424594b4d707b0ac87ca",
            "placeholder": "​",
            "style": "IPY_MODEL_93816292581f4695a046a1c9c87baa1f",
            "value": "0.001 MB of 0.001 MB uploaded (0.000 MB deduped)\r"
          }
        },
        "af314c7efb9c47a88bb11ed5e4224710": {
          "model_module": "@jupyter-widgets/controls",
          "model_name": "FloatProgressModel",
          "model_module_version": "1.5.0",
          "state": {
            "_dom_classes": [],
            "_model_module": "@jupyter-widgets/controls",
            "_model_module_version": "1.5.0",
            "_model_name": "FloatProgressModel",
            "_view_count": null,
            "_view_module": "@jupyter-widgets/controls",
            "_view_module_version": "1.5.0",
            "_view_name": "ProgressView",
            "bar_style": "",
            "description": "",
            "description_tooltip": null,
            "layout": "IPY_MODEL_531fc4003fde447d8c98a538cb2a330c",
            "max": 1,
            "min": 0,
            "orientation": "horizontal",
            "style": "IPY_MODEL_baf8f7fc62c0493896e86750d123d903",
            "value": 1
          }
        },
        "8c6d48b114a44acca7483a0936aa3483": {
          "model_module": "@jupyter-widgets/base",
          "model_name": "LayoutModel",
          "model_module_version": "1.2.0",
          "state": {
            "_model_module": "@jupyter-widgets/base",
            "_model_module_version": "1.2.0",
            "_model_name": "LayoutModel",
            "_view_count": null,
            "_view_module": "@jupyter-widgets/base",
            "_view_module_version": "1.2.0",
            "_view_name": "LayoutView",
            "align_content": null,
            "align_items": null,
            "align_self": null,
            "border": null,
            "bottom": null,
            "display": null,
            "flex": null,
            "flex_flow": null,
            "grid_area": null,
            "grid_auto_columns": null,
            "grid_auto_flow": null,
            "grid_auto_rows": null,
            "grid_column": null,
            "grid_gap": null,
            "grid_row": null,
            "grid_template_areas": null,
            "grid_template_columns": null,
            "grid_template_rows": null,
            "height": null,
            "justify_content": null,
            "justify_items": null,
            "left": null,
            "margin": null,
            "max_height": null,
            "max_width": null,
            "min_height": null,
            "min_width": null,
            "object_fit": null,
            "object_position": null,
            "order": null,
            "overflow": null,
            "overflow_x": null,
            "overflow_y": null,
            "padding": null,
            "right": null,
            "top": null,
            "visibility": null,
            "width": null
          }
        },
        "3e72fc482ae4424594b4d707b0ac87ca": {
          "model_module": "@jupyter-widgets/base",
          "model_name": "LayoutModel",
          "model_module_version": "1.2.0",
          "state": {
            "_model_module": "@jupyter-widgets/base",
            "_model_module_version": "1.2.0",
            "_model_name": "LayoutModel",
            "_view_count": null,
            "_view_module": "@jupyter-widgets/base",
            "_view_module_version": "1.2.0",
            "_view_name": "LayoutView",
            "align_content": null,
            "align_items": null,
            "align_self": null,
            "border": null,
            "bottom": null,
            "display": null,
            "flex": null,
            "flex_flow": null,
            "grid_area": null,
            "grid_auto_columns": null,
            "grid_auto_flow": null,
            "grid_auto_rows": null,
            "grid_column": null,
            "grid_gap": null,
            "grid_row": null,
            "grid_template_areas": null,
            "grid_template_columns": null,
            "grid_template_rows": null,
            "height": null,
            "justify_content": null,
            "justify_items": null,
            "left": null,
            "margin": null,
            "max_height": null,
            "max_width": null,
            "min_height": null,
            "min_width": null,
            "object_fit": null,
            "object_position": null,
            "order": null,
            "overflow": null,
            "overflow_x": null,
            "overflow_y": null,
            "padding": null,
            "right": null,
            "top": null,
            "visibility": null,
            "width": null
          }
        },
        "93816292581f4695a046a1c9c87baa1f": {
          "model_module": "@jupyter-widgets/controls",
          "model_name": "DescriptionStyleModel",
          "model_module_version": "1.5.0",
          "state": {
            "_model_module": "@jupyter-widgets/controls",
            "_model_module_version": "1.5.0",
            "_model_name": "DescriptionStyleModel",
            "_view_count": null,
            "_view_module": "@jupyter-widgets/base",
            "_view_module_version": "1.2.0",
            "_view_name": "StyleView",
            "description_width": ""
          }
        },
        "531fc4003fde447d8c98a538cb2a330c": {
          "model_module": "@jupyter-widgets/base",
          "model_name": "LayoutModel",
          "model_module_version": "1.2.0",
          "state": {
            "_model_module": "@jupyter-widgets/base",
            "_model_module_version": "1.2.0",
            "_model_name": "LayoutModel",
            "_view_count": null,
            "_view_module": "@jupyter-widgets/base",
            "_view_module_version": "1.2.0",
            "_view_name": "LayoutView",
            "align_content": null,
            "align_items": null,
            "align_self": null,
            "border": null,
            "bottom": null,
            "display": null,
            "flex": null,
            "flex_flow": null,
            "grid_area": null,
            "grid_auto_columns": null,
            "grid_auto_flow": null,
            "grid_auto_rows": null,
            "grid_column": null,
            "grid_gap": null,
            "grid_row": null,
            "grid_template_areas": null,
            "grid_template_columns": null,
            "grid_template_rows": null,
            "height": null,
            "justify_content": null,
            "justify_items": null,
            "left": null,
            "margin": null,
            "max_height": null,
            "max_width": null,
            "min_height": null,
            "min_width": null,
            "object_fit": null,
            "object_position": null,
            "order": null,
            "overflow": null,
            "overflow_x": null,
            "overflow_y": null,
            "padding": null,
            "right": null,
            "top": null,
            "visibility": null,
            "width": null
          }
        },
        "baf8f7fc62c0493896e86750d123d903": {
          "model_module": "@jupyter-widgets/controls",
          "model_name": "ProgressStyleModel",
          "model_module_version": "1.5.0",
          "state": {
            "_model_module": "@jupyter-widgets/controls",
            "_model_module_version": "1.5.0",
            "_model_name": "ProgressStyleModel",
            "_view_count": null,
            "_view_module": "@jupyter-widgets/base",
            "_view_module_version": "1.2.0",
            "_view_name": "StyleView",
            "bar_color": null,
            "description_width": ""
          }
        }
      }
    },
    "gpuClass": "standard"
  },
  "cells": [
    {
      "cell_type": "markdown",
      "metadata": {
        "id": "view-in-github",
        "colab_type": "text"
      },
      "source": [
        "<a href=\"https://colab.research.google.com/github/verma-saloni/Thesis-Work/blob/main/11_1_22_gossipcop_dgl_GCN_text_embs.ipynb\" target=\"_parent\"><img src=\"https://colab.research.google.com/assets/colab-badge.svg\" alt=\"Open In Colab\"/></a>"
      ]
    },
    {
      "cell_type": "code",
      "execution_count": 7,
      "metadata": {
        "id": "xpTeMbYZwmf7"
      },
      "outputs": [],
      "source": [
        "!pip -qq install jsonlines"
      ]
    },
    {
      "cell_type": "code",
      "source": [
        "from google.colab import drive\n",
        "drive.mount('/gdrive')"
      ],
      "metadata": {
        "colab": {
          "base_uri": "https://localhost:8080/"
        },
        "id": "UxNEaltli8H_",
        "outputId": "693b78d8-8eda-403e-afbd-e4715b44c25e"
      },
      "execution_count": 8,
      "outputs": [
        {
          "output_type": "stream",
          "name": "stdout",
          "text": [
            "Drive already mounted at /gdrive; to attempt to forcibly remount, call drive.mount(\"/gdrive\", force_remount=True).\n"
          ]
        }
      ]
    },
    {
      "cell_type": "code",
      "source": [
        "from pathlib import Path\n",
        "base_dir = Path(\"/gdrive/MyDrive/ResearchFND\")\n",
        "assert base_dir.exists()"
      ],
      "metadata": {
        "id": "E1KzQ-APvvbj"
      },
      "execution_count": 9,
      "outputs": []
    },
    {
      "cell_type": "markdown",
      "source": [
        "## Data"
      ],
      "metadata": {
        "id": "ywmJcojaOk4E"
      }
    },
    {
      "cell_type": "code",
      "source": [],
      "metadata": {
        "id": "I-Bd_WNiLkOc"
      },
      "execution_count": 9,
      "outputs": []
    },
    {
      "cell_type": "code",
      "source": [
        "import pandas as pd\n",
        "import ast\n",
        "import json"
      ],
      "metadata": {
        "id": "Pi19HZwbOnpK"
      },
      "execution_count": 10,
      "outputs": []
    },
    {
      "cell_type": "code",
      "source": [
        "dataset_id = 'gossipcop'\n",
        "text_embeddings = 'sbert' # options: sbert, ft"
      ],
      "metadata": {
        "id": "5XqiYfvoPECo"
      },
      "execution_count": 11,
      "outputs": []
    },
    {
      "cell_type": "code",
      "source": [
        "df = pd.read_csv(base_dir/f'{dataset_id}_agg.csv')\n",
        "df.head(2)"
      ],
      "metadata": {
        "colab": {
          "base_uri": "https://localhost:8080/",
          "height": 112
        },
        "outputId": "c049ba11-dc2b-43c4-f49a-33900e94217d",
        "id": "9fSNOSLsOnpP"
      },
      "execution_count": 12,
      "outputs": [
        {
          "output_type": "execute_result",
          "data": {
            "text/plain": [
              "                                               title text tweets  \\\n",
              "0      Kendall   Kylie Jenner Jenner NOT Upset Up...  NaN     []   \n",
              "1      Kim Kardashian Dethroned Dethroned By Khlo...  NaN     []   \n",
              "\n",
              "                                            retweets label  url  num_retweets  \\\n",
              "0  ['995423424741888001', '995461685166202880', '...  fake  NaN             3   \n",
              "1  ['848843565027516416', '849030801970868224', '...  fake  NaN             3   \n",
              "\n",
              "   log_num_retweets  num_tweets  log_num_tweets  \n",
              "0          1.386294           0             0.0  \n",
              "1          1.386294           0             0.0  "
            ],
            "text/html": [
              "\n",
              "  <div id=\"df-996fa839-eab2-4a9f-9bce-1f454622d67e\">\n",
              "    <div class=\"colab-df-container\">\n",
              "      <div>\n",
              "<style scoped>\n",
              "    .dataframe tbody tr th:only-of-type {\n",
              "        vertical-align: middle;\n",
              "    }\n",
              "\n",
              "    .dataframe tbody tr th {\n",
              "        vertical-align: top;\n",
              "    }\n",
              "\n",
              "    .dataframe thead th {\n",
              "        text-align: right;\n",
              "    }\n",
              "</style>\n",
              "<table border=\"1\" class=\"dataframe\">\n",
              "  <thead>\n",
              "    <tr style=\"text-align: right;\">\n",
              "      <th></th>\n",
              "      <th>title</th>\n",
              "      <th>text</th>\n",
              "      <th>tweets</th>\n",
              "      <th>retweets</th>\n",
              "      <th>label</th>\n",
              "      <th>url</th>\n",
              "      <th>num_retweets</th>\n",
              "      <th>log_num_retweets</th>\n",
              "      <th>num_tweets</th>\n",
              "      <th>log_num_tweets</th>\n",
              "    </tr>\n",
              "  </thead>\n",
              "  <tbody>\n",
              "    <tr>\n",
              "      <th>0</th>\n",
              "      <td>Kendall   Kylie Jenner Jenner NOT Upset Up...</td>\n",
              "      <td>NaN</td>\n",
              "      <td>[]</td>\n",
              "      <td>['995423424741888001', '995461685166202880', '...</td>\n",
              "      <td>fake</td>\n",
              "      <td>NaN</td>\n",
              "      <td>3</td>\n",
              "      <td>1.386294</td>\n",
              "      <td>0</td>\n",
              "      <td>0.0</td>\n",
              "    </tr>\n",
              "    <tr>\n",
              "      <th>1</th>\n",
              "      <td>Kim Kardashian Dethroned Dethroned By Khlo...</td>\n",
              "      <td>NaN</td>\n",
              "      <td>[]</td>\n",
              "      <td>['848843565027516416', '849030801970868224', '...</td>\n",
              "      <td>fake</td>\n",
              "      <td>NaN</td>\n",
              "      <td>3</td>\n",
              "      <td>1.386294</td>\n",
              "      <td>0</td>\n",
              "      <td>0.0</td>\n",
              "    </tr>\n",
              "  </tbody>\n",
              "</table>\n",
              "</div>\n",
              "      <button class=\"colab-df-convert\" onclick=\"convertToInteractive('df-996fa839-eab2-4a9f-9bce-1f454622d67e')\"\n",
              "              title=\"Convert this dataframe to an interactive table.\"\n",
              "              style=\"display:none;\">\n",
              "        \n",
              "  <svg xmlns=\"http://www.w3.org/2000/svg\" height=\"24px\"viewBox=\"0 0 24 24\"\n",
              "       width=\"24px\">\n",
              "    <path d=\"M0 0h24v24H0V0z\" fill=\"none\"/>\n",
              "    <path d=\"M18.56 5.44l.94 2.06.94-2.06 2.06-.94-2.06-.94-.94-2.06-.94 2.06-2.06.94zm-11 1L8.5 8.5l.94-2.06 2.06-.94-2.06-.94L8.5 2.5l-.94 2.06-2.06.94zm10 10l.94 2.06.94-2.06 2.06-.94-2.06-.94-.94-2.06-.94 2.06-2.06.94z\"/><path d=\"M17.41 7.96l-1.37-1.37c-.4-.4-.92-.59-1.43-.59-.52 0-1.04.2-1.43.59L10.3 9.45l-7.72 7.72c-.78.78-.78 2.05 0 2.83L4 21.41c.39.39.9.59 1.41.59.51 0 1.02-.2 1.41-.59l7.78-7.78 2.81-2.81c.8-.78.8-2.07 0-2.86zM5.41 20L4 18.59l7.72-7.72 1.47 1.35L5.41 20z\"/>\n",
              "  </svg>\n",
              "      </button>\n",
              "      \n",
              "  <style>\n",
              "    .colab-df-container {\n",
              "      display:flex;\n",
              "      flex-wrap:wrap;\n",
              "      gap: 12px;\n",
              "    }\n",
              "\n",
              "    .colab-df-convert {\n",
              "      background-color: #E8F0FE;\n",
              "      border: none;\n",
              "      border-radius: 50%;\n",
              "      cursor: pointer;\n",
              "      display: none;\n",
              "      fill: #1967D2;\n",
              "      height: 32px;\n",
              "      padding: 0 0 0 0;\n",
              "      width: 32px;\n",
              "    }\n",
              "\n",
              "    .colab-df-convert:hover {\n",
              "      background-color: #E2EBFA;\n",
              "      box-shadow: 0px 1px 2px rgba(60, 64, 67, 0.3), 0px 1px 3px 1px rgba(60, 64, 67, 0.15);\n",
              "      fill: #174EA6;\n",
              "    }\n",
              "\n",
              "    [theme=dark] .colab-df-convert {\n",
              "      background-color: #3B4455;\n",
              "      fill: #D2E3FC;\n",
              "    }\n",
              "\n",
              "    [theme=dark] .colab-df-convert:hover {\n",
              "      background-color: #434B5C;\n",
              "      box-shadow: 0px 1px 3px 1px rgba(0, 0, 0, 0.15);\n",
              "      filter: drop-shadow(0px 1px 2px rgba(0, 0, 0, 0.3));\n",
              "      fill: #FFFFFF;\n",
              "    }\n",
              "  </style>\n",
              "\n",
              "      <script>\n",
              "        const buttonEl =\n",
              "          document.querySelector('#df-996fa839-eab2-4a9f-9bce-1f454622d67e button.colab-df-convert');\n",
              "        buttonEl.style.display =\n",
              "          google.colab.kernel.accessAllowed ? 'block' : 'none';\n",
              "\n",
              "        async function convertToInteractive(key) {\n",
              "          const element = document.querySelector('#df-996fa839-eab2-4a9f-9bce-1f454622d67e');\n",
              "          const dataTable =\n",
              "            await google.colab.kernel.invokeFunction('convertToInteractive',\n",
              "                                                     [key], {});\n",
              "          if (!dataTable) return;\n",
              "\n",
              "          const docLinkHtml = 'Like what you see? Visit the ' +\n",
              "            '<a target=\"_blank\" href=https://colab.research.google.com/notebooks/data_table.ipynb>data table notebook</a>'\n",
              "            + ' to learn more about interactive tables.';\n",
              "          element.innerHTML = '';\n",
              "          dataTable['output_type'] = 'display_data';\n",
              "          await google.colab.output.renderOutput(dataTable, element);\n",
              "          const docLink = document.createElement('div');\n",
              "          docLink.innerHTML = docLinkHtml;\n",
              "          element.appendChild(docLink);\n",
              "        }\n",
              "      </script>\n",
              "    </div>\n",
              "  </div>\n",
              "  "
            ]
          },
          "metadata": {},
          "execution_count": 12
        }
      ]
    },
    {
      "cell_type": "code",
      "source": [
        "df['tweets'] = df.tweets.map(ast.literal_eval)"
      ],
      "metadata": {
        "id": "qjvjCmHpOnpS"
      },
      "execution_count": 13,
      "outputs": []
    },
    {
      "cell_type": "code",
      "source": [
        "users_tweeted = df.tweets.map(lambda x: [int(e['user_id']) for e in x])"
      ],
      "metadata": {
        "id": "CovrRHkeOnpU"
      },
      "execution_count": 14,
      "outputs": []
    },
    {
      "cell_type": "code",
      "source": [
        "len(users_tweeted), sum(users_tweeted.map(len) > 0)"
      ],
      "metadata": {
        "colab": {
          "base_uri": "https://localhost:8080/"
        },
        "outputId": "596f70bb-2fbd-4947-bbda-af507560741b",
        "id": "VmjV_67MOnpW"
      },
      "execution_count": 15,
      "outputs": [
        {
          "output_type": "execute_result",
          "data": {
            "text/plain": [
              "(19968, 2117)"
            ]
          },
          "metadata": {},
          "execution_count": 15
        }
      ]
    },
    {
      "cell_type": "markdown",
      "source": [
        "## GNN"
      ],
      "metadata": {
        "id": "gI6AtSffmcqr"
      }
    },
    {
      "cell_type": "markdown",
      "source": [
        "### Data"
      ],
      "metadata": {
        "id": "FfaOg08xmfEp"
      }
    },
    {
      "cell_type": "code",
      "source": [
        "#%%capture\n",
        "!pip install dgl wandb"
      ],
      "metadata": {
        "id": "xjD3rF-MmwKa",
        "colab": {
          "base_uri": "https://localhost:8080/",
          "height": 1000
        },
        "outputId": "ad9d636b-8610-43f8-ce1f-dc820b14aa75"
      },
      "execution_count": 16,
      "outputs": [
        {
          "output_type": "stream",
          "name": "stdout",
          "text": [
            "Looking in indexes: https://pypi.org/simple, https://us-python.pkg.dev/colab-wheels/public/simple/\n",
            "Collecting dgl\n",
            "  Downloading dgl-0.9.1-cp37-cp37m-manylinux1_x86_64.whl (4.9 MB)\n",
            "\u001b[K     |████████████████████████████████| 4.9 MB 5.2 MB/s \n",
            "\u001b[?25hCollecting wandb\n",
            "  Downloading wandb-0.13.4-py2.py3-none-any.whl (1.9 MB)\n",
            "\u001b[K     |████████████████████████████████| 1.9 MB 64.5 MB/s \n",
            "\u001b[?25hRequirement already satisfied: scipy>=1.1.0 in /usr/local/lib/python3.7/dist-packages (from dgl) (1.7.3)\n",
            "Collecting psutil>=5.8.0\n",
            "  Downloading psutil-5.9.3-cp37-cp37m-manylinux_2_12_x86_64.manylinux2010_x86_64.manylinux_2_17_x86_64.manylinux2014_x86_64.whl (291 kB)\n",
            "\u001b[K     |████████████████████████████████| 291 kB 62.7 MB/s \n",
            "\u001b[?25hRequirement already satisfied: tqdm in /usr/local/lib/python3.7/dist-packages (from dgl) (4.64.1)\n",
            "Requirement already satisfied: networkx>=2.1 in /usr/local/lib/python3.7/dist-packages (from dgl) (2.6.3)\n",
            "Requirement already satisfied: numpy>=1.14.0 in /usr/local/lib/python3.7/dist-packages (from dgl) (1.21.6)\n",
            "Requirement already satisfied: requests>=2.19.0 in /usr/local/lib/python3.7/dist-packages (from dgl) (2.23.0)\n",
            "Requirement already satisfied: chardet<4,>=3.0.2 in /usr/local/lib/python3.7/dist-packages (from requests>=2.19.0->dgl) (3.0.4)\n",
            "Requirement already satisfied: urllib3!=1.25.0,!=1.25.1,<1.26,>=1.21.1 in /usr/local/lib/python3.7/dist-packages (from requests>=2.19.0->dgl) (1.24.3)\n",
            "Requirement already satisfied: certifi>=2017.4.17 in /usr/local/lib/python3.7/dist-packages (from requests>=2.19.0->dgl) (2022.9.24)\n",
            "Requirement already satisfied: idna<3,>=2.5 in /usr/local/lib/python3.7/dist-packages (from requests>=2.19.0->dgl) (2.10)\n",
            "Requirement already satisfied: protobuf!=4.0.*,!=4.21.0,<5,>=3.12.0 in /usr/local/lib/python3.7/dist-packages (from wandb) (3.17.3)\n",
            "Collecting setproctitle\n",
            "  Downloading setproctitle-1.3.2-cp37-cp37m-manylinux_2_5_x86_64.manylinux1_x86_64.manylinux_2_17_x86_64.manylinux2014_x86_64.whl (30 kB)\n",
            "Collecting pathtools\n",
            "  Downloading pathtools-0.1.2.tar.gz (11 kB)\n",
            "Collecting shortuuid>=0.5.0\n",
            "  Downloading shortuuid-1.0.9-py3-none-any.whl (9.4 kB)\n",
            "Requirement already satisfied: PyYAML in /usr/local/lib/python3.7/dist-packages (from wandb) (6.0)\n",
            "Requirement already satisfied: six>=1.13.0 in /usr/local/lib/python3.7/dist-packages (from wandb) (1.15.0)\n",
            "Requirement already satisfied: Click!=8.0.0,>=7.0 in /usr/local/lib/python3.7/dist-packages (from wandb) (7.1.2)\n",
            "Collecting docker-pycreds>=0.4.0\n",
            "  Downloading docker_pycreds-0.4.0-py2.py3-none-any.whl (9.0 kB)\n",
            "Requirement already satisfied: promise<3,>=2.0 in /usr/local/lib/python3.7/dist-packages (from wandb) (2.3)\n",
            "Requirement already satisfied: setuptools in /usr/local/lib/python3.7/dist-packages (from wandb) (57.4.0)\n",
            "Collecting GitPython>=1.0.0\n",
            "  Downloading GitPython-3.1.29-py3-none-any.whl (182 kB)\n",
            "\u001b[K     |████████████████████████████████| 182 kB 47.5 MB/s \n",
            "\u001b[?25hCollecting sentry-sdk>=1.0.0\n",
            "  Downloading sentry_sdk-1.10.1-py2.py3-none-any.whl (166 kB)\n",
            "\u001b[K     |████████████████████████████████| 166 kB 51.9 MB/s \n",
            "\u001b[?25hCollecting gitdb<5,>=4.0.1\n",
            "  Downloading gitdb-4.0.9-py3-none-any.whl (63 kB)\n",
            "\u001b[K     |████████████████████████████████| 63 kB 1.6 MB/s \n",
            "\u001b[?25hRequirement already satisfied: typing-extensions>=3.7.4.3 in /usr/local/lib/python3.7/dist-packages (from GitPython>=1.0.0->wandb) (4.1.1)\n",
            "Collecting smmap<6,>=3.0.1\n",
            "  Downloading smmap-5.0.0-py3-none-any.whl (24 kB)\n",
            "Collecting sentry-sdk>=1.0.0\n",
            "  Downloading sentry_sdk-1.10.0-py2.py3-none-any.whl (166 kB)\n",
            "\u001b[K     |████████████████████████████████| 166 kB 69.1 MB/s \n",
            "\u001b[?25h  Downloading sentry_sdk-1.9.10-py2.py3-none-any.whl (162 kB)\n",
            "\u001b[K     |████████████████████████████████| 162 kB 58.2 MB/s \n",
            "\u001b[?25h  Downloading sentry_sdk-1.9.9-py2.py3-none-any.whl (162 kB)\n",
            "\u001b[K     |████████████████████████████████| 162 kB 45.7 MB/s \n",
            "\u001b[?25h  Downloading sentry_sdk-1.9.8-py2.py3-none-any.whl (158 kB)\n",
            "\u001b[K     |████████████████████████████████| 158 kB 57.7 MB/s \n",
            "\u001b[?25h  Downloading sentry_sdk-1.9.7-py2.py3-none-any.whl (157 kB)\n",
            "\u001b[K     |████████████████████████████████| 157 kB 59.2 MB/s \n",
            "\u001b[?25h  Downloading sentry_sdk-1.9.6-py2.py3-none-any.whl (157 kB)\n",
            "\u001b[K     |████████████████████████████████| 157 kB 47.4 MB/s \n",
            "\u001b[?25h  Downloading sentry_sdk-1.9.5-py2.py3-none-any.whl (157 kB)\n",
            "\u001b[K     |████████████████████████████████| 157 kB 50.3 MB/s \n",
            "\u001b[?25h  Downloading sentry_sdk-1.9.4-py2.py3-none-any.whl (157 kB)\n",
            "\u001b[K     |████████████████████████████████| 157 kB 46.2 MB/s \n",
            "\u001b[?25h  Downloading sentry_sdk-1.9.3-py2.py3-none-any.whl (157 kB)\n",
            "\u001b[K     |████████████████████████████████| 157 kB 67.7 MB/s \n",
            "\u001b[?25h  Downloading sentry_sdk-1.9.2-py2.py3-none-any.whl (157 kB)\n",
            "\u001b[K     |████████████████████████████████| 157 kB 62.0 MB/s \n",
            "\u001b[?25h  Downloading sentry_sdk-1.9.1-py2.py3-none-any.whl (157 kB)\n",
            "\u001b[K     |████████████████████████████████| 157 kB 59.7 MB/s \n",
            "\u001b[?25h  Downloading sentry_sdk-1.9.0-py2.py3-none-any.whl (156 kB)\n",
            "\u001b[K     |████████████████████████████████| 156 kB 43.6 MB/s \n",
            "\u001b[?25hBuilding wheels for collected packages: pathtools\n",
            "  Building wheel for pathtools (setup.py) ... \u001b[?25l\u001b[?25hdone\n",
            "  Created wheel for pathtools: filename=pathtools-0.1.2-py3-none-any.whl size=8806 sha256=dd7a2b3f9a462317b875d8b5dbea21eb59b12eba59dc929f841f2350981cdd05\n",
            "  Stored in directory: /root/.cache/pip/wheels/3e/31/09/fa59cef12cdcfecc627b3d24273699f390e71828921b2cbba2\n",
            "Successfully built pathtools\n",
            "Installing collected packages: smmap, gitdb, shortuuid, setproctitle, sentry-sdk, psutil, pathtools, GitPython, docker-pycreds, wandb, dgl\n",
            "  Attempting uninstall: psutil\n",
            "    Found existing installation: psutil 5.4.8\n",
            "    Uninstalling psutil-5.4.8:\n",
            "      Successfully uninstalled psutil-5.4.8\n",
            "Successfully installed GitPython-3.1.29 dgl-0.9.1 docker-pycreds-0.4.0 gitdb-4.0.9 pathtools-0.1.2 psutil-5.9.3 sentry-sdk-1.9.0 setproctitle-1.3.2 shortuuid-1.0.9 smmap-5.0.0 wandb-0.13.4\n"
          ]
        },
        {
          "output_type": "display_data",
          "data": {
            "application/vnd.colab-display-data+json": {
              "pip_warning": {
                "packages": [
                  "psutil"
                ]
              }
            }
          },
          "metadata": {}
        }
      ]
    },
    {
      "cell_type": "code",
      "source": [
        "%env DGLBACKEND=pytorch"
      ],
      "metadata": {
        "colab": {
          "base_uri": "https://localhost:8080/"
        },
        "id": "w96ReVNpwHTY",
        "outputId": "46ad1b13-d496-40fb-c856-656b114cddfe"
      },
      "execution_count": 17,
      "outputs": [
        {
          "output_type": "stream",
          "name": "stdout",
          "text": [
            "env: DGLBACKEND=pytorch\n"
          ]
        }
      ]
    },
    {
      "cell_type": "code",
      "source": [
        "import os\n",
        "import json\n",
        "import jsonlines\n",
        "import numpy as np\n",
        "import torch\n",
        "import dgl\n",
        "\n",
        "import wandb\n",
        "import IPython.display as ipd"
      ],
      "metadata": {
        "id": "yp52MLR1mdxA"
      },
      "execution_count": 18,
      "outputs": []
    },
    {
      "cell_type": "code",
      "source": [
        "u2i = {}\n",
        "\n",
        "follow_src = []\n",
        "follow_dst = []\n",
        "with jsonlines.open(base_dir/\"followers.jsonl\") as reader:\n",
        "    for line in reader:\n",
        "        v = line[\"user_id\"]\n",
        "        if v not in u2i:\n",
        "            u2i[v] = len(u2i)\n",
        "        for u in line[\"followers\"]:\n",
        "            if u not in u2i:\n",
        "                u2i[u] = len(u2i)\n",
        "            follow_src.append(u2i[u])\n",
        "            follow_dst.append(u2i[v])"
      ],
      "metadata": {
        "id": "h3XOCaEwoMvx"
      },
      "execution_count": 19,
      "outputs": []
    },
    {
      "cell_type": "code",
      "source": [
        "with jsonlines.open(base_dir/\"following.jsonl\") as reader:\n",
        "    for line in reader:\n",
        "        u = line[\"user_id\"]\n",
        "        if u not in u2i:\n",
        "            u2i[u] = len(u2i)\n",
        "        for v in line[\"following\"]:\n",
        "            if v not in u2i:\n",
        "                u2i[v] = len(u2i)\n",
        "            follow_src.append(u2i[u])\n",
        "            follow_dst.append(u2i[v])"
      ],
      "metadata": {
        "id": "sWJFoJ_4oMvz"
      },
      "execution_count": 20,
      "outputs": []
    },
    {
      "cell_type": "code",
      "source": [
        "tweet_src = []\n",
        "tweet_dst = []\n",
        "\n",
        "for v, l in users_tweeted.iteritems():\n",
        "    if not len(l):\n",
        "        continue\n",
        "    for u in l:\n",
        "        u = int(u)\n",
        "        if u in u2i:\n",
        "            tweet_src.append(u2i[u])\n",
        "            tweet_dst.append(v)"
      ],
      "metadata": {
        "id": "DWM9MEXDpiyX"
      },
      "execution_count": 21,
      "outputs": []
    },
    {
      "cell_type": "code",
      "source": [
        "text_embs = np.load(base_dir/f'{dataset_id}_{text_embeddings}_fulltext_embeddings.npy')\n",
        "text_embs.shape"
      ],
      "metadata": {
        "id": "CxkWUv799WnY",
        "colab": {
          "base_uri": "https://localhost:8080/"
        },
        "outputId": "0c43f10a-1ff7-4d0f-9436-f8613c53e27c"
      },
      "execution_count": 22,
      "outputs": [
        {
          "output_type": "execute_result",
          "data": {
            "text/plain": [
              "(19968, 768)"
            ]
          },
          "metadata": {},
          "execution_count": 22
        }
      ]
    },
    {
      "cell_type": "code",
      "source": [
        "num_users = len(set(follow_src+follow_dst+tweet_src))"
      ],
      "metadata": {
        "id": "CWYAnXYALbwo"
      },
      "execution_count": 23,
      "outputs": []
    },
    {
      "cell_type": "code",
      "source": [
        "follow_src = torch.tensor(follow_src)\n",
        "follow_dst = torch.tensor(follow_dst)\n",
        "tweet_src = torch.tensor(tweet_src)\n",
        "tweet_dst = torch.tensor(tweet_dst)\n",
        "\n",
        "graph = dgl.heterograph({\n",
        "    ('user', 'follow', 'user'): (follow_src, follow_dst),\n",
        "    ('user', 'followed-by', 'user'): (follow_dst, follow_src),\n",
        "    ('user', 'tweet', 'article'): (tweet_src, tweet_dst),\n",
        "    ('article', 'tweeted-by', 'user'): (tweet_dst, tweet_src)},\n",
        "    {'article':len(df), 'user':num_users}\n",
        ")\n",
        "\n",
        "graph.nodes['user'].data['feat'] = torch.arange(graph.num_nodes('user'))\n",
        "graph.nodes['article'].data['feat'] = torch.tensor(text_embs)\n",
        "graph.nodes['article'].data['label'] = torch.tensor((df.label==\"real\").to_numpy()).long()"
      ],
      "metadata": {
        "id": "0o-_TVpQ2Ag8"
      },
      "execution_count": 24,
      "outputs": []
    },
    {
      "cell_type": "code",
      "source": [
        "graph"
      ],
      "metadata": {
        "colab": {
          "base_uri": "https://localhost:8080/"
        },
        "id": "o_gsQ0ELzwpN",
        "outputId": "aa72bd4e-f03f-4680-9cef-964cee0f21ef"
      },
      "execution_count": 25,
      "outputs": [
        {
          "output_type": "execute_result",
          "data": {
            "text/plain": [
              "Graph(num_nodes={'article': 19968, 'user': 31792},\n",
              "      num_edges={('article', 'tweeted-by', 'user'): 588, ('user', 'follow', 'user'): 48409, ('user', 'followed-by', 'user'): 48409, ('user', 'tweet', 'article'): 588},\n",
              "      metagraph=[('article', 'user', 'tweeted-by'), ('user', 'user', 'follow'), ('user', 'user', 'followed-by'), ('user', 'article', 'tweet')])"
            ]
          },
          "metadata": {},
          "execution_count": 25
        }
      ]
    },
    {
      "cell_type": "code",
      "source": [
        "from sklearn.model_selection import StratifiedKFold\n",
        "\n",
        "skf = StratifiedKFold(shuffle=True, random_state=124)"
      ],
      "metadata": {
        "id": "_wR6tgjekCGZ"
      },
      "execution_count": 26,
      "outputs": []
    },
    {
      "cell_type": "code",
      "source": [
        "labels = graph.ndata['label']['article']\n",
        "\n",
        "train_idx, valid_idx = next(skf.split(labels, labels))"
      ],
      "metadata": {
        "id": "vUYRWGCqkNJw"
      },
      "execution_count": 27,
      "outputs": []
    },
    {
      "cell_type": "code",
      "source": [
        "device = torch.device('cuda' if torch.cuda.is_available() else 'cpu')"
      ],
      "metadata": {
        "id": "bz8FvZRmkrFt"
      },
      "execution_count": 28,
      "outputs": []
    },
    {
      "cell_type": "code",
      "source": [
        "n_layers = 3\n",
        "n_neighbors = 10"
      ],
      "metadata": {
        "id": "wNxxuCrpVGUN"
      },
      "execution_count": 29,
      "outputs": []
    },
    {
      "cell_type": "code",
      "source": [
        "sampler = dgl.dataloading.NeighborSampler([n_neighbors]*n_layers)\n",
        "train_loader = dgl.dataloading.DataLoader(\n",
        "    graph,\n",
        "    {'article':train_idx},\n",
        "    sampler,\n",
        "    device=device,\n",
        "    batch_size=64,\n",
        "    shuffle=True,\n",
        "    drop_last=False,\n",
        "    num_workers=0\n",
        ")"
      ],
      "metadata": {
        "id": "9lWNOaTwj86U"
      },
      "execution_count": 30,
      "outputs": []
    },
    {
      "cell_type": "code",
      "source": [
        "eval_sampler = dgl.dataloading.NeighborSampler([-1]*n_layers)\n",
        "eval_loader = dgl.dataloading.DataLoader(\n",
        "    graph,\n",
        "    {'article':valid_idx},\n",
        "    eval_sampler,\n",
        "    device=device,\n",
        "    batch_size=64,\n",
        "    shuffle=False,\n",
        "    drop_last=False,\n",
        "    num_workers=0\n",
        ")"
      ],
      "metadata": {
        "id": "2P7O9wNi1GXS"
      },
      "execution_count": 31,
      "outputs": []
    },
    {
      "cell_type": "code",
      "source": [
        "batch = next(iter(train_loader))"
      ],
      "metadata": {
        "colab": {
          "base_uri": "https://localhost:8080/"
        },
        "id": "XKlDjmxnkvaT",
        "outputId": "a05e92f0-3a8b-4298-b1ef-108a91132db1"
      },
      "execution_count": 32,
      "outputs": [
        {
          "output_type": "stream",
          "name": "stderr",
          "text": [
            "/usr/local/lib/python3.7/dist-packages/dgl/dataloading/dataloader.py:859: DGLWarning: Dataloader CPU affinity opt is not enabled, consider switching it on (see enable_cpu_affinity() or CPU best practices for DGL [https://docs.dgl.ai/tutorials/cpu/cpu_best_practises.html])\n",
            "  dgl_warning(f'Dataloader CPU affinity opt is not enabled, consider switching it on '\n"
          ]
        }
      ]
    },
    {
      "cell_type": "markdown",
      "source": [
        "### Model"
      ],
      "metadata": {
        "id": "a_NnqbhIvgQm"
      }
    },
    {
      "cell_type": "code",
      "source": [
        "from collections import defaultdict\n",
        "import torch.nn as nn\n",
        "import torch.nn.functional as F\n",
        "\n",
        "d_emb_dict = defaultdict(lambda: 64)\n",
        "\n",
        "def flatten_dict(d):\n",
        "    for k, v in d.items():\n",
        "        d[k] = v.flatten(1)\n",
        "    return d"
      ],
      "metadata": {
        "id": "oSGL7euSjzR-"
      },
      "execution_count": 33,
      "outputs": []
    },
    {
      "cell_type": "code",
      "source": [
        "class NodeEmbedding(nn.Module):\n",
        "    \"\"\"\n",
        "    Node embedding layer. Handles input node features of varying dimentionality.\n",
        "    \n",
        "    Parameters:\n",
        "    - n_nodes: dict[str,int] - a dictionary containing number of nodes per type\n",
        "    for id only nodes (without precmputed features)\n",
        "    - d_in: dict[str,int] - a dictionary mapping node type to the node feature dim\n",
        "    for nodes with precomputed vector features\n",
        "    - d_emb: int - size of output feature vector for all node types\n",
        "    - proj_nodes: list[str] - optional list of node types with vector features to be\n",
        "    processed with linear projection. If None keys of `d_in` are used\n",
        "    - embed_nodes: list[str] - optional list of node types without vector features to be\n",
        "    processed with embedding layer. If None keys of `n_nnodes` are used\n",
        "\n",
        "    Inputs:\n",
        "    - nx - dict[str,Tensor] - dictionary containing input node features per node type\n",
        "\n",
        "    Outputs:\n",
        "    - out - dict[str, Tensor] - dictionary of node embedding tensors of shape [bs, d_emb]\n",
        "    \"\"\"\n",
        "    def __init__(self, n_nodes:dict, d_in:dict, d_emb:int, proj_nodes:list=None, embed_nodes:list=None):\n",
        "        super().__init__()\n",
        "        self.proj_nodes = proj_nodes if proj_nodes is not None else list(d_in.keys())\n",
        "        self.embed_nodes = embed_nodes if embed_nodes is not None else list(n_nodes.keys())\n",
        "        self.emb = nn.ModuleDict({k:nn.Embedding(n_nodes[k], d_emb) for k in self.embed_nodes})\n",
        "        self.proj = nn.ModuleDict({k:nn.Linear(d_in[k], d_emb, bias=False) for k in self.proj_nodes})\n",
        "        self.init()\n",
        "\n",
        "    def forward(self, nx):\n",
        "        out = {}\n",
        "        for k, m  in self.emb.items():\n",
        "            out[k] = m(nx[k])\n",
        "        for k, m  in self.proj.items():\n",
        "            out[k] = m(nx[k])\n",
        "        return out\n",
        "\n",
        "    def init(self):\n",
        "        for _, m in self.emb.items():\n",
        "            torch.nn.init.xavier_uniform_(m.weight)\n",
        "        for _, m in self.proj.items():\n",
        "            torch.nn.init.xavier_uniform_(m.weight)"
      ],
      "metadata": {
        "id": "YGqNa5UVgfio"
      },
      "execution_count": 34,
      "outputs": []
    },
    {
      "cell_type": "code",
      "source": [
        "class Residual(nn.Module):\n",
        "    \"\"\"\n",
        "    Residual connection. Computes output node features as:\n",
        "    x_out_dst = GraphConv(graph, x_in_all) + x_in_dst\n",
        "    \"\"\"\n",
        "    def __init__(self, conv):\n",
        "        super().__init__()\n",
        "        self.conv = conv\n",
        "\n",
        "    def forward(self, graph, x):\n",
        "        h = self.conv(graph, x)\n",
        "        res = x[1]\n",
        "        return h + res"
      ],
      "metadata": {
        "id": "vN3hV1uAv1L2"
      },
      "execution_count": 35,
      "outputs": []
    },
    {
      "cell_type": "code",
      "source": [
        "in_proj = NodeEmbedding({k:graph.num_nodes(k) for k in [\"user\"]}, {\"article\":text_embs.shape[1]}, 64)\n",
        "conv = dgl.nn.HeteroGraphConv({rel:Residual(dgl.nn.GraphConv(64, 64, allow_zero_in_degree=True)) for rel in graph.etypes})"
      ],
      "metadata": {
        "id": "yc-vcrjpw-6T"
      },
      "execution_count": 36,
      "outputs": []
    },
    {
      "cell_type": "code",
      "source": [
        "blocks = batch[-1]\n",
        "block = blocks[0]\n",
        "x = block.ndata['feat']\n",
        "\n",
        "with torch.no_grad():\n",
        "    h = in_proj(x)\n",
        "    res = conv(block, h)"
      ],
      "metadata": {
        "id": "uKQd2Wn3xDSn"
      },
      "execution_count": 37,
      "outputs": []
    },
    {
      "cell_type": "code",
      "source": [
        "res['article'].shape, res['user'].shape"
      ],
      "metadata": {
        "colab": {
          "base_uri": "https://localhost:8080/"
        },
        "id": "dEYSQp_oyewZ",
        "outputId": "68974500-98ce-41e4-d743-8c58c830ded5"
      },
      "execution_count": 38,
      "outputs": [
        {
          "output_type": "execute_result",
          "data": {
            "text/plain": [
              "(torch.Size([74, 64]), torch.Size([4, 64]))"
            ]
          },
          "metadata": {},
          "execution_count": 38
        }
      ]
    },
    {
      "cell_type": "code",
      "source": [
        "class Encoder(torch.nn.Module):\n",
        "    \"\"\"\n",
        "    Encoder for heterogenous graph using GCN layer.\n",
        "    \"\"\"\n",
        "    def __init__(self, d_in, d_h, etypes, n_layers=2, dropout=0.0):\n",
        "        super().__init__()\n",
        "        ds = [d_in] + [d_h] * n_layers\n",
        "        self.layers = nn.ModuleList([\n",
        "            dgl.nn.HeteroGraphConv({\n",
        "                rel : Residual(dgl.nn.GraphConv(ds[i], ds[i+1], allow_zero_in_degree=True)) for rel in etypes\n",
        "            }) for i in range(n_layers)\n",
        "        ])\n",
        "\n",
        "    def forward(self, blocks, x):\n",
        "        \n",
        "        for layer, block in zip(self.layers, blocks):\n",
        "            x = layer(block, x)\n",
        "        return x"
      ],
      "metadata": {
        "id": "bceu2k_-OgIG"
      },
      "execution_count": 39,
      "outputs": []
    },
    {
      "cell_type": "code",
      "source": [
        "graph.ndata['feat']['article'].shape"
      ],
      "metadata": {
        "colab": {
          "base_uri": "https://localhost:8080/"
        },
        "id": "9tfx9M1N37yc",
        "outputId": "6363d0a0-2431-4629-ebaf-c09028eeba1f"
      },
      "execution_count": 40,
      "outputs": [
        {
          "output_type": "execute_result",
          "data": {
            "text/plain": [
              "torch.Size([19968, 768])"
            ]
          },
          "metadata": {},
          "execution_count": 40
        }
      ]
    },
    {
      "cell_type": "code",
      "source": [
        "class GNN(nn.Module):\n",
        "    \n",
        "    def __init__(self, g, d_h:int, n_layers:int, tgt_ntype:str, emb_nodes:list=['user'], proj_nodes:list=['article']):\n",
        "        super().__init__()\n",
        "        self.tgt_ntype = tgt_ntype\n",
        "        self.in_proj = NodeEmbedding(\n",
        "            {k:g.num_nodes(k) for k in emb_nodes}, \n",
        "            {k:graph.ndata['feat'][k].shape[1] for k in proj_nodes},\n",
        "            d_h\n",
        "        )\n",
        "        self.encoder = Encoder(d_h, d_h, g.etypes)\n",
        "        self.head = nn.Linear(d_h, 2)\n",
        "\n",
        "    def forward(self, blocks, x):\n",
        "        h = self.in_proj(x)\n",
        "        h = self.encoder(blocks, h)\n",
        "        return self.head(h[self.tgt_ntype])\n",
        "\n",
        "    @torch.no_grad()\n",
        "    def get_embeddings(self, graph, x):\n",
        "        h = self.emb(x)\n",
        "        h = self.encoder(graph, h)\n",
        "        return h[self.tgt_ntype]"
      ],
      "metadata": {
        "id": "hFfx0YmfXoom"
      },
      "execution_count": 41,
      "outputs": []
    },
    {
      "cell_type": "code",
      "source": [
        "model = GNN(graph, 128, n_layers, 'article')\n",
        "\n",
        "with torch.no_grad():\n",
        "    logits = model(blocks, x)"
      ],
      "metadata": {
        "id": "wFkuDQQgd3-v"
      },
      "execution_count": 42,
      "outputs": []
    },
    {
      "cell_type": "code",
      "source": [
        "logits.shape"
      ],
      "metadata": {
        "colab": {
          "base_uri": "https://localhost:8080/"
        },
        "id": "yhjU0-N1zShT",
        "outputId": "cb2b251d-64da-443b-a598-bea7840aa2bc"
      },
      "execution_count": 43,
      "outputs": [
        {
          "output_type": "execute_result",
          "data": {
            "text/plain": [
              "torch.Size([64, 2])"
            ]
          },
          "metadata": {},
          "execution_count": 43
        }
      ]
    },
    {
      "cell_type": "code",
      "source": [
        "def accuracy(logits, labels):\n",
        "    return (logits.argmax(-1) == labels).float().mean()"
      ],
      "metadata": {
        "id": "BunQmwFY8Xso"
      },
      "execution_count": 44,
      "outputs": []
    },
    {
      "cell_type": "code",
      "source": [
        "from sklearn.model_selection import StratifiedKFold\n",
        "\n",
        "skf = StratifiedKFold(shuffle=True, random_state=124)"
      ],
      "metadata": {
        "id": "faEjToOWbAQl"
      },
      "execution_count": 45,
      "outputs": []
    },
    {
      "cell_type": "code",
      "source": [
        "from sklearn.metrics import accuracy_score, f1_score, precision_score, recall_score\n",
        "\n",
        "metrics = [accuracy_score, f1_score, precision_score, recall_score]\n",
        "def get_name(score_func):\n",
        "    return score_func.__name__.split(\"_\")[0]"
      ],
      "metadata": {
        "id": "1vjIXm2wM6_T"
      },
      "execution_count": 46,
      "outputs": []
    },
    {
      "cell_type": "code",
      "source": [
        "class AverageMeter:\n",
        "\n",
        "    def __init__(self, store_vals=False, store_avgs=False):\n",
        "        self.store_vals = store_vals\n",
        "        self.store_avgs = store_avgs\n",
        "        if store_vals: self.values = []\n",
        "        if store_avgs: self.avgs = []\n",
        "        self.tot, self.n = 0, 0\n",
        "\n",
        "    def update(self, v, n=1):\n",
        "        if self.store_vals: self.values.append(v)\n",
        "        self.n += n\n",
        "        self.tot += v*n\n",
        "\n",
        "    @property\n",
        "    def avg(self):\n",
        "        if self.n == 0:\n",
        "            return\n",
        "        return self.tot / self.n\n",
        "\n",
        "    def reset(self):\n",
        "        if self.store_avgs and self.avg: self.avgs.append(self.avg)\n",
        "        self.tot, self.n = 0, 0"
      ],
      "metadata": {
        "id": "S40fYMCU7nzh"
      },
      "execution_count": 47,
      "outputs": []
    },
    {
      "cell_type": "code",
      "source": [
        "class_weights = torch.tensor([1/(labels==0).sum(), 1/(labels==1).sum()])*len(labels)"
      ],
      "metadata": {
        "id": "tCjiRKIjXdd2"
      },
      "execution_count": 48,
      "outputs": []
    },
    {
      "cell_type": "code",
      "source": [
        "def train(fold, train_idx, valid_idx, params):\n",
        "\n",
        "    model = GNN(graph, 128, n_layers, 'article')\n",
        "    opt = torch.optim.Adam(model.parameters(), params['lr'])\n",
        "    scheduler = torch.optim.lr_scheduler.ReduceLROnPlateau(\n",
        "        opt, factor=params[\"lr_sched_factor\"], patience=params[\"patience\"], verbose=True\n",
        "    )\n",
        "\n",
        "    train_loss = AverageMeter(store_avgs=True)\n",
        "    train_acc = AverageMeter(store_avgs=True)\n",
        "    valid_loss = AverageMeter(store_avgs=True)\n",
        "    valid_acc = AverageMeter(store_avgs=True)\n",
        "\n",
        "    best_acc = 0\n",
        "    for epoch in range(params['n_epochs']):\n",
        "        model.train()\n",
        "        for batch in train_loader:\n",
        "            blocks = batch[-1]\n",
        "            x = blocks[0].ndata['feat']\n",
        "            logits = model(blocks, x)\n",
        "            \n",
        "            labels = blocks[-1].dstdata['label']['article']\n",
        "            loss = F.cross_entropy(logits, labels, weight=class_weights)\n",
        "            acc = accuracy(logits, labels)\n",
        "            opt.zero_grad()\n",
        "            loss.backward()\n",
        "            opt.step()\n",
        "\n",
        "            train_loss.update(loss.item(), len(labels))\n",
        "            train_acc.update(acc, len(labels))\n",
        "\n",
        "        model.eval()\n",
        "        for i, batch in enumerate(eval_loader):\n",
        "            blocks = batch[-1]\n",
        "            x = blocks[0].ndata['feat']\n",
        "            with torch.no_grad():\n",
        "                logits = model(blocks, x)\n",
        "\n",
        "                labels = blocks[-1].dstdata['label']['article']\n",
        "                val_loss = F.cross_entropy(logits, labels, weight=class_weights)\n",
        "                val_acc = accuracy(logits, labels)\n",
        "\n",
        "                valid_loss.update(val_loss.item(), len(labels))\n",
        "                valid_acc.update(val_acc, len(labels))\n",
        "        \n",
        "        scheduler.step(valid_loss.avg)\n",
        "        wandb.log({'train_loss':loss.item(), 'train_acc':acc, 'valid_loss':val_loss.item(), 'valid_acc':val_acc}, step=epoch)\n",
        "        print(f\"{epoch+1:>3}: Train loss {train_loss.avg:.4f}, acc {train_acc.avg:.4f}%; validation loss {valid_loss.avg:.4f}, acc {valid_acc.avg:.4f}%\")\n",
        "        \n",
        "        if valid_acc.avg >= best_acc:\n",
        "            best_acc = valid_acc.avg\n",
        "            torch.save(model.state_dict(), f'models/model-{fold}.pt')\n",
        "        \n",
        "        train_loss.reset()\n",
        "        train_acc.reset()\n",
        "        valid_loss.reset()\n",
        "        valid_acc.reset()\n",
        "\n",
        "        \n",
        "\n",
        "    # load best model and evaluate\n",
        "    model.load_state_dict(torch.load(f'models/model-{fold}.pt'))\n",
        "    model.eval()\n",
        "    preds = []\n",
        "    targs = []\n",
        "    for i, batch in enumerate(eval_loader):\n",
        "        blocks = batch[-1]\n",
        "        x = blocks[0].ndata['feat']\n",
        "        with torch.no_grad():\n",
        "            logits = model(blocks, x)\n",
        "\n",
        "            labels = blocks[-1].dstdata['label']['article']\n",
        "            \n",
        "        preds.append(logits.argmax(-1).cpu().numpy())\n",
        "        targs.append(labels.cpu().numpy())\n",
        "    preds = np.concatenate(preds)\n",
        "    targs = np.concatenate(targs)\n",
        "    eval_results = {get_name(f):f(y_pred=preds, y_true=targs) for f in metrics}\n",
        "    print(\"Final evaluation results:\")\n",
        "    for k,v in eval_results.items():\n",
        "        print(f\"{k:<16}{v:.4f}\")\n",
        "    \n",
        "    wandb.log(eval_results)\n",
        "    wandb.log({\"conf_mat\" : wandb.plot.confusion_matrix(probs=None,\n",
        "                            y_true=targs, preds=preds,\n",
        "                            class_names=[\"Fake\", \"Real\"])})\n",
        "\n",
        "    return {\n",
        "        'train_loss':train_loss,\n",
        "        'train_acc':train_acc,\n",
        "        'valid_loss':valid_loss,\n",
        "        'valid_acc':valid_acc\n",
        "    }"
      ],
      "metadata": {
        "id": "4lvLwrItbAQp"
      },
      "execution_count": 49,
      "outputs": []
    },
    {
      "cell_type": "code",
      "source": [
        "params = {\n",
        "    \"n_epochs\":200,\n",
        "    'bs': 32,\n",
        "    'lr':4e-3,\n",
        "    \"seed\":124,\n",
        "    \"lr_sched_factor\":0.5,\n",
        "    \"patience\":40\n",
        "}\n",
        "\n",
        "labels = graph.ndata['label']['article']"
      ],
      "metadata": {
        "id": "VWKvv1xebAQu"
      },
      "execution_count": 53,
      "outputs": []
    },
    {
      "cell_type": "code",
      "source": [
        "if not os.path.exists('models'):\n",
        "    os.mkdir('models')\n",
        "\n",
        "GROUP = \"sbert-fulltext-gcn-B32P40updatedE200\"\n",
        "for fold_id, (train_idx, valid_idx) in enumerate(skf.split(labels, labels)):\n",
        "    ipd.clear_output()\n",
        "    with wandb.init(entity=\"saloniteam\", project=\"nofolds\", group=GROUP, name=f\"{GROUP}-fold-{fold_id}\") as run:\n",
        "        log = train(fold_id, train_idx, valid_idx, params)\n",
        "    break"
      ],
      "metadata": {
        "id": "7qBu9i1ebAQx",
        "colab": {
          "base_uri": "https://localhost:8080/",
          "height": 1000,
          "referenced_widgets": [
            "02eab8b4c6594bdf99fd8c06ca237f52",
            "a3f99bd6f5844b7b91b533a4fee6da41",
            "af314c7efb9c47a88bb11ed5e4224710",
            "8c6d48b114a44acca7483a0936aa3483",
            "3e72fc482ae4424594b4d707b0ac87ca",
            "93816292581f4695a046a1c9c87baa1f",
            "531fc4003fde447d8c98a538cb2a330c",
            "baf8f7fc62c0493896e86750d123d903"
          ]
        },
        "outputId": "7aaa096c-0696-44b4-d569-622480c0c9c9"
      },
      "execution_count": 54,
      "outputs": [
        {
          "metadata": {
            "tags": null
          },
          "name": "stderr",
          "output_type": "stream",
          "text": [
            "\u001b[34m\u001b[1mwandb\u001b[0m: Currently logged in as: \u001b[33msaloni\u001b[0m (\u001b[33msaloniteam\u001b[0m). Use \u001b[1m`wandb login --relogin`\u001b[0m to force relogin\n"
          ]
        },
        {
          "data": {
            "text/html": [
              "Tracking run with wandb version 0.13.4"
            ],
            "text/plain": [
              "<IPython.core.display.HTML object>"
            ]
          },
          "metadata": {},
          "output_type": "display_data"
        },
        {
          "data": {
            "text/html": [
              "Run data is saved locally in <code>/content/wandb/run-20221101_094619-3o1gbfe1</code>"
            ],
            "text/plain": [
              "<IPython.core.display.HTML object>"
            ]
          },
          "metadata": {},
          "output_type": "display_data"
        },
        {
          "data": {
            "text/html": [
              "Syncing run <strong><a href=\"https://wandb.ai/saloniteam/nofolds/runs/3o1gbfe1\" target=\"_blank\">sbert-fulltext-gcn-B32P40updatedE200-fold-0</a></strong> to <a href=\"https://wandb.ai/saloniteam/nofolds\" target=\"_blank\">Weights & Biases</a> (<a href=\"https://wandb.me/run\" target=\"_blank\">docs</a>)<br/>"
            ],
            "text/plain": [
              "<IPython.core.display.HTML object>"
            ]
          },
          "metadata": {},
          "output_type": "display_data"
        },
        {
          "metadata": {
            "tags": null
          },
          "name": "stderr",
          "output_type": "stream",
          "text": [
            "/usr/local/lib/python3.7/dist-packages/dgl/dataloading/dataloader.py:859: DGLWarning: Dataloader CPU affinity opt is not enabled, consider switching it on (see enable_cpu_affinity() or CPU best practices for DGL [https://docs.dgl.ai/tutorials/cpu/cpu_best_practises.html])\n",
            "  dgl_warning(f'Dataloader CPU affinity opt is not enabled, consider switching it on '\n",
            "/usr/local/lib/python3.7/dist-packages/torch/amp/autocast_mode.py:198: UserWarning: User provided device_type of 'cuda', but CUDA is not available. Disabling\n",
            "  warnings.warn('User provided device_type of \\'cuda\\', but CUDA is not available. Disabling')\n"
          ]
        },
        {
          "output_type": "stream",
          "name": "stdout",
          "text": [
            "  1: Train loss 0.5060, acc 0.7731%; validation loss 0.6865, acc 0.7789%\n",
            "  2: Train loss 0.4739, acc 0.7969%; validation loss 0.4787, acc 0.7952%\n",
            "  3: Train loss 0.4441, acc 0.8028%; validation loss 0.4749, acc 0.7752%\n",
            "  4: Train loss 0.4662, acc 0.8067%; validation loss 0.5470, acc 0.7764%\n",
            "  5: Train loss 0.4817, acc 0.7986%; validation loss 0.4977, acc 0.8197%\n",
            "  6: Train loss 0.4396, acc 0.8104%; validation loss 0.5795, acc 0.7679%\n",
            "  7: Train loss 0.4292, acc 0.8091%; validation loss 0.5093, acc 0.7804%\n",
            "  8: Train loss 0.4306, acc 0.8108%; validation loss 0.4886, acc 0.8140%\n",
            "  9: Train loss 0.4270, acc 0.8134%; validation loss 0.4838, acc 0.8057%\n",
            " 10: Train loss 0.4291, acc 0.8131%; validation loss 0.4958, acc 0.7664%\n",
            " 11: Train loss 0.4238, acc 0.8155%; validation loss 0.5116, acc 0.7922%\n",
            " 12: Train loss 0.4256, acc 0.8111%; validation loss 0.5124, acc 0.8425%\n",
            " 13: Train loss 0.4338, acc 0.8156%; validation loss 0.5411, acc 0.8435%\n",
            " 14: Train loss 0.8403, acc 0.8068%; validation loss 1.5004, acc 0.7479%\n",
            " 15: Train loss 0.4772, acc 0.8156%; validation loss 0.9126, acc 0.7912%\n",
            " 16: Train loss 0.4528, acc 0.8205%; validation loss 0.7393, acc 0.7817%\n",
            " 17: Train loss 0.4379, acc 0.8209%; validation loss 0.6050, acc 0.8100%\n",
            " 18: Train loss 0.4351, acc 0.8203%; validation loss 0.5597, acc 0.8087%\n",
            " 19: Train loss 0.4317, acc 0.8190%; validation loss 0.6039, acc 0.7884%\n",
            " 20: Train loss 0.4208, acc 0.8210%; validation loss 1.0552, acc 0.7937%\n",
            " 21: Train loss 0.4216, acc 0.8206%; validation loss 0.5806, acc 0.7934%\n",
            " 22: Train loss 0.4207, acc 0.8212%; validation loss 0.6110, acc 0.8012%\n",
            " 23: Train loss 0.4236, acc 0.8188%; validation loss 0.5796, acc 0.8107%\n",
            " 24: Train loss 0.4191, acc 0.8199%; validation loss 0.5663, acc 0.8017%\n",
            " 25: Train loss 0.4269, acc 0.8198%; validation loss 0.6320, acc 0.8135%\n",
            " 26: Train loss 0.4310, acc 0.8177%; validation loss 0.7692, acc 0.8057%\n",
            " 27: Train loss 0.4189, acc 0.8191%; validation loss 0.6159, acc 0.8100%\n",
            " 28: Train loss 0.4207, acc 0.8210%; validation loss 0.6152, acc 0.7894%\n",
            " 29: Train loss 0.4382, acc 0.8166%; validation loss 0.6400, acc 0.8065%\n",
            " 30: Train loss 0.4290, acc 0.8218%; validation loss 0.5562, acc 0.8097%\n",
            " 31: Train loss 0.4127, acc 0.8207%; validation loss 0.7024, acc 0.7674%\n",
            " 32: Train loss 0.4238, acc 0.8199%; validation loss 0.7897, acc 0.7982%\n",
            " 33: Train loss 0.4710, acc 0.8149%; validation loss 0.5467, acc 0.7629%\n",
            " 34: Train loss 0.4189, acc 0.8228%; validation loss 0.5790, acc 0.8217%\n",
            " 35: Train loss 0.4241, acc 0.8194%; validation loss 0.7856, acc 0.8077%\n",
            " 36: Train loss 0.4280, acc 0.8208%; validation loss 0.7707, acc 0.8040%\n",
            " 37: Train loss 0.4482, acc 0.8200%; validation loss 0.5972, acc 0.8105%\n",
            " 38: Train loss 0.4223, acc 0.8230%; validation loss 0.6097, acc 0.7907%\n",
            " 39: Train loss 0.4149, acc 0.8216%; validation loss 0.6518, acc 0.8025%\n",
            " 40: Train loss 0.4173, acc 0.8203%; validation loss 0.8843, acc 0.8115%\n",
            " 41: Train loss 0.4165, acc 0.8247%; validation loss 0.6662, acc 0.8127%\n",
            " 42: Train loss 0.4167, acc 0.8258%; validation loss 0.5407, acc 0.7992%\n",
            " 43: Train loss 0.4099, acc 0.8210%; validation loss 0.5992, acc 0.8170%\n",
            "Epoch 00044: reducing learning rate of group 0 to 2.0000e-03.\n",
            " 44: Train loss 0.4205, acc 0.8201%; validation loss 0.8543, acc 0.7904%\n",
            " 45: Train loss 0.4104, acc 0.8240%; validation loss 0.6119, acc 0.8157%\n",
            " 46: Train loss 0.4033, acc 0.8262%; validation loss 0.6559, acc 0.8072%\n",
            " 47: Train loss 0.4025, acc 0.8268%; validation loss 0.5951, acc 0.7922%\n",
            " 48: Train loss 0.4004, acc 0.8267%; validation loss 0.6916, acc 0.8192%\n",
            " 49: Train loss 0.3967, acc 0.8258%; validation loss 0.6179, acc 0.8090%\n",
            " 50: Train loss 0.4022, acc 0.8241%; validation loss 0.6046, acc 0.7994%\n",
            " 51: Train loss 0.4001, acc 0.8254%; validation loss 0.7976, acc 0.7962%\n",
            " 52: Train loss 0.3991, acc 0.8262%; validation loss 0.6693, acc 0.7887%\n",
            " 53: Train loss 0.3991, acc 0.8254%; validation loss 0.7281, acc 0.7937%\n",
            " 54: Train loss 0.4009, acc 0.8265%; validation loss 0.6162, acc 0.8102%\n",
            " 55: Train loss 0.3968, acc 0.8252%; validation loss 0.7161, acc 0.7724%\n",
            " 56: Train loss 0.3970, acc 0.8244%; validation loss 0.7196, acc 0.8190%\n",
            " 57: Train loss 0.3959, acc 0.8256%; validation loss 0.6428, acc 0.8265%\n",
            " 58: Train loss 0.3978, acc 0.8270%; validation loss 0.6038, acc 0.8087%\n",
            " 59: Train loss 0.3969, acc 0.8272%; validation loss 0.6175, acc 0.8180%\n",
            " 60: Train loss 0.3944, acc 0.8291%; validation loss 0.6814, acc 0.7997%\n",
            " 61: Train loss 0.3961, acc 0.8245%; validation loss 0.6286, acc 0.7922%\n",
            " 62: Train loss 0.3944, acc 0.8251%; validation loss 0.6120, acc 0.8017%\n",
            " 63: Train loss 0.3965, acc 0.8275%; validation loss 0.5938, acc 0.7829%\n",
            " 64: Train loss 0.4108, acc 0.8250%; validation loss 0.6198, acc 0.8025%\n",
            " 65: Train loss 0.4012, acc 0.8283%; validation loss 0.6174, acc 0.8005%\n",
            " 66: Train loss 0.3973, acc 0.8270%; validation loss 0.6896, acc 0.8182%\n",
            " 67: Train loss 0.3953, acc 0.8278%; validation loss 0.6352, acc 0.7912%\n",
            " 68: Train loss 0.3965, acc 0.8255%; validation loss 0.6250, acc 0.8092%\n",
            " 69: Train loss 0.3923, acc 0.8300%; validation loss 0.8700, acc 0.8042%\n",
            " 70: Train loss 0.3951, acc 0.8291%; validation loss 0.6400, acc 0.8127%\n",
            " 71: Train loss 0.3926, acc 0.8270%; validation loss 0.6620, acc 0.8052%\n",
            " 72: Train loss 0.3927, acc 0.8281%; validation loss 0.6275, acc 0.8012%\n",
            " 73: Train loss 0.3926, acc 0.8279%; validation loss 0.6866, acc 0.8100%\n",
            " 74: Train loss 0.3929, acc 0.8283%; validation loss 0.6258, acc 0.8042%\n",
            " 75: Train loss 0.3949, acc 0.8250%; validation loss 0.6376, acc 0.8030%\n",
            " 76: Train loss 0.3945, acc 0.8288%; validation loss 0.5951, acc 0.8040%\n",
            " 77: Train loss 0.3973, acc 0.8256%; validation loss 0.5387, acc 0.8037%\n",
            " 78: Train loss 0.3939, acc 0.8270%; validation loss 0.5627, acc 0.7929%\n",
            " 79: Train loss 0.3946, acc 0.8283%; validation loss 0.5394, acc 0.7819%\n",
            " 80: Train loss 0.3949, acc 0.8260%; validation loss 0.5503, acc 0.8115%\n",
            " 81: Train loss 0.3932, acc 0.8267%; validation loss 0.6298, acc 0.8117%\n",
            " 82: Train loss 0.3930, acc 0.8270%; validation loss 0.5625, acc 0.7974%\n",
            " 83: Train loss 0.3928, acc 0.8271%; validation loss 0.5380, acc 0.8130%\n",
            " 84: Train loss 0.3930, acc 0.8306%; validation loss 0.6977, acc 0.8032%\n",
            "Epoch 00085: reducing learning rate of group 0 to 1.0000e-03.\n",
            " 85: Train loss 0.3940, acc 0.8270%; validation loss 0.5727, acc 0.8167%\n",
            " 86: Train loss 0.3889, acc 0.8290%; validation loss 0.5736, acc 0.8070%\n",
            " 87: Train loss 0.3869, acc 0.8289%; validation loss 0.5961, acc 0.8172%\n",
            " 88: Train loss 0.3868, acc 0.8296%; validation loss 0.6079, acc 0.8035%\n",
            " 89: Train loss 0.3860, acc 0.8295%; validation loss 0.5832, acc 0.8022%\n",
            " 90: Train loss 0.3869, acc 0.8304%; validation loss 0.5975, acc 0.8035%\n",
            " 91: Train loss 0.3876, acc 0.8290%; validation loss 0.5930, acc 0.8037%\n",
            " 92: Train loss 0.3873, acc 0.8295%; validation loss 0.5961, acc 0.8100%\n",
            " 93: Train loss 0.3865, acc 0.8297%; validation loss 0.6136, acc 0.7992%\n",
            " 94: Train loss 0.3855, acc 0.8303%; validation loss 0.6020, acc 0.7937%\n",
            " 95: Train loss 0.3850, acc 0.8323%; validation loss 0.6068, acc 0.8117%\n",
            " 96: Train loss 0.3864, acc 0.8297%; validation loss 0.6139, acc 0.8067%\n",
            " 97: Train loss 0.3857, acc 0.8306%; validation loss 0.6106, acc 0.8047%\n",
            " 98: Train loss 0.3853, acc 0.8318%; validation loss 0.5955, acc 0.7939%\n",
            " 99: Train loss 0.3850, acc 0.8322%; validation loss 0.6122, acc 0.7957%\n",
            "100: Train loss 0.3855, acc 0.8290%; validation loss 0.6148, acc 0.8160%\n",
            "101: Train loss 0.3843, acc 0.8319%; validation loss 0.5965, acc 0.7869%\n",
            "102: Train loss 0.3858, acc 0.8281%; validation loss 0.6034, acc 0.8050%\n",
            "103: Train loss 0.3852, acc 0.8292%; validation loss 0.5931, acc 0.8122%\n",
            "104: Train loss 0.3860, acc 0.8305%; validation loss 0.6298, acc 0.7977%\n",
            "105: Train loss 0.3852, acc 0.8295%; validation loss 0.6144, acc 0.7962%\n",
            "106: Train loss 0.3856, acc 0.8278%; validation loss 0.5939, acc 0.8022%\n",
            "107: Train loss 0.3845, acc 0.8305%; validation loss 0.6110, acc 0.8127%\n",
            "108: Train loss 0.3845, acc 0.8300%; validation loss 0.6029, acc 0.7972%\n",
            "109: Train loss 0.3851, acc 0.8305%; validation loss 0.5966, acc 0.8037%\n",
            "110: Train loss 0.3849, acc 0.8285%; validation loss 0.5930, acc 0.8040%\n",
            "111: Train loss 0.3849, acc 0.8302%; validation loss 0.6032, acc 0.8012%\n",
            "112: Train loss 0.3841, acc 0.8305%; validation loss 0.6026, acc 0.8122%\n",
            "113: Train loss 0.3850, acc 0.8307%; validation loss 0.5998, acc 0.8030%\n",
            "114: Train loss 0.3851, acc 0.8315%; validation loss 0.6049, acc 0.7889%\n",
            "115: Train loss 0.3858, acc 0.8299%; validation loss 0.6166, acc 0.8002%\n",
            "116: Train loss 0.3872, acc 0.8285%; validation loss 0.5831, acc 0.8162%\n",
            "117: Train loss 0.3843, acc 0.8297%; validation loss 0.5999, acc 0.8097%\n",
            "118: Train loss 0.3850, acc 0.8310%; validation loss 0.5752, acc 0.8080%\n",
            "119: Train loss 0.3838, acc 0.8294%; validation loss 0.5888, acc 0.8045%\n",
            "120: Train loss 0.3849, acc 0.8292%; validation loss 0.5949, acc 0.8087%\n",
            "121: Train loss 0.3837, acc 0.8303%; validation loss 0.5859, acc 0.8090%\n",
            "122: Train loss 0.3834, acc 0.8311%; validation loss 0.5936, acc 0.7979%\n",
            "123: Train loss 0.3855, acc 0.8303%; validation loss 0.5849, acc 0.8080%\n",
            "124: Train loss 0.3838, acc 0.8311%; validation loss 0.5855, acc 0.8050%\n",
            "125: Train loss 0.3849, acc 0.8300%; validation loss 0.6000, acc 0.8010%\n",
            "Epoch 00126: reducing learning rate of group 0 to 5.0000e-04.\n",
            "126: Train loss 0.3841, acc 0.8309%; validation loss 0.6102, acc 0.8137%\n",
            "127: Train loss 0.3823, acc 0.8315%; validation loss 0.5875, acc 0.8020%\n",
            "128: Train loss 0.3815, acc 0.8323%; validation loss 0.5903, acc 0.7939%\n",
            "129: Train loss 0.3814, acc 0.8312%; validation loss 0.6028, acc 0.8125%\n",
            "130: Train loss 0.3810, acc 0.8324%; validation loss 0.5916, acc 0.8042%\n",
            "131: Train loss 0.3802, acc 0.8320%; validation loss 0.5931, acc 0.8052%\n",
            "132: Train loss 0.3808, acc 0.8332%; validation loss 0.5938, acc 0.7994%\n",
            "133: Train loss 0.3805, acc 0.8315%; validation loss 0.5959, acc 0.8147%\n",
            "134: Train loss 0.3822, acc 0.8334%; validation loss 0.5866, acc 0.8020%\n",
            "135: Train loss 0.3802, acc 0.8310%; validation loss 0.5906, acc 0.8087%\n",
            "136: Train loss 0.3813, acc 0.8324%; validation loss 0.5931, acc 0.8092%\n",
            "137: Train loss 0.3819, acc 0.8323%; validation loss 0.5837, acc 0.8082%\n",
            "138: Train loss 0.3812, acc 0.8322%; validation loss 0.5919, acc 0.7992%\n",
            "139: Train loss 0.3814, acc 0.8314%; validation loss 0.5941, acc 0.8057%\n",
            "140: Train loss 0.3806, acc 0.8319%; validation loss 0.6033, acc 0.8117%\n",
            "141: Train loss 0.3812, acc 0.8325%; validation loss 0.5825, acc 0.8037%\n",
            "142: Train loss 0.3811, acc 0.8317%; validation loss 0.5965, acc 0.7972%\n",
            "143: Train loss 0.3806, acc 0.8312%; validation loss 0.5923, acc 0.8012%\n",
            "144: Train loss 0.3816, acc 0.8309%; validation loss 0.5902, acc 0.8087%\n",
            "145: Train loss 0.3811, acc 0.8331%; validation loss 0.5972, acc 0.8070%\n",
            "146: Train loss 0.3815, acc 0.8301%; validation loss 0.5999, acc 0.8135%\n",
            "147: Train loss 0.3811, acc 0.8324%; validation loss 0.5910, acc 0.8082%\n",
            "148: Train loss 0.3807, acc 0.8322%; validation loss 0.5998, acc 0.8020%\n",
            "149: Train loss 0.3814, acc 0.8316%; validation loss 0.5932, acc 0.8067%\n",
            "150: Train loss 0.3817, acc 0.8305%; validation loss 0.5937, acc 0.8142%\n",
            "151: Train loss 0.3811, acc 0.8320%; validation loss 0.5815, acc 0.8010%\n",
            "152: Train loss 0.3804, acc 0.8329%; validation loss 0.5940, acc 0.8055%\n",
            "153: Train loss 0.3810, acc 0.8309%; validation loss 0.5856, acc 0.8045%\n",
            "154: Train loss 0.3800, acc 0.8325%; validation loss 0.5867, acc 0.7957%\n",
            "155: Train loss 0.3810, acc 0.8309%; validation loss 0.5928, acc 0.7984%\n",
            "156: Train loss 0.3806, acc 0.8315%; validation loss 0.5966, acc 0.8125%\n",
            "157: Train loss 0.3807, acc 0.8316%; validation loss 0.5875, acc 0.8020%\n",
            "158: Train loss 0.3811, acc 0.8316%; validation loss 0.6139, acc 0.8087%\n",
            "159: Train loss 0.3803, acc 0.8326%; validation loss 0.6013, acc 0.8090%\n",
            "160: Train loss 0.3803, acc 0.8347%; validation loss 0.5999, acc 0.8007%\n",
            "161: Train loss 0.3813, acc 0.8307%; validation loss 0.5877, acc 0.8052%\n",
            "162: Train loss 0.3805, acc 0.8325%; validation loss 0.6034, acc 0.8027%\n",
            "163: Train loss 0.3815, acc 0.8320%; validation loss 0.5864, acc 0.8102%\n",
            "164: Train loss 0.3813, acc 0.8323%; validation loss 0.6013, acc 0.8065%\n",
            "165: Train loss 0.3814, acc 0.8320%; validation loss 0.5991, acc 0.8040%\n",
            "166: Train loss 0.3800, acc 0.8334%; validation loss 0.5908, acc 0.7964%\n",
            "Epoch 00167: reducing learning rate of group 0 to 2.5000e-04.\n",
            "167: Train loss 0.3801, acc 0.8325%; validation loss 0.6031, acc 0.8050%\n",
            "168: Train loss 0.3789, acc 0.8332%; validation loss 0.6050, acc 0.8052%\n",
            "169: Train loss 0.3787, acc 0.8330%; validation loss 0.6015, acc 0.8065%\n",
            "170: Train loss 0.3796, acc 0.8321%; validation loss 0.6003, acc 0.8067%\n",
            "171: Train loss 0.3794, acc 0.8324%; validation loss 0.6001, acc 0.8075%\n",
            "172: Train loss 0.3788, acc 0.8329%; validation loss 0.5968, acc 0.8077%\n",
            "173: Train loss 0.3796, acc 0.8324%; validation loss 0.5974, acc 0.8060%\n",
            "174: Train loss 0.3788, acc 0.8328%; validation loss 0.5983, acc 0.8060%\n",
            "175: Train loss 0.3789, acc 0.8330%; validation loss 0.5947, acc 0.8067%\n",
            "176: Train loss 0.3792, acc 0.8334%; validation loss 0.5942, acc 0.8052%\n",
            "177: Train loss 0.3783, acc 0.8322%; validation loss 0.5969, acc 0.8080%\n",
            "178: Train loss 0.3788, acc 0.8342%; validation loss 0.5949, acc 0.8060%\n",
            "179: Train loss 0.3791, acc 0.8327%; validation loss 0.5924, acc 0.8022%\n",
            "180: Train loss 0.3784, acc 0.8310%; validation loss 0.5927, acc 0.8130%\n",
            "181: Train loss 0.3789, acc 0.8335%; validation loss 0.5880, acc 0.8052%\n",
            "182: Train loss 0.3787, acc 0.8323%; validation loss 0.5976, acc 0.8070%\n",
            "183: Train loss 0.3793, acc 0.8334%; validation loss 0.5955, acc 0.8020%\n",
            "184: Train loss 0.3797, acc 0.8319%; validation loss 0.5879, acc 0.8067%\n",
            "185: Train loss 0.3790, acc 0.8347%; validation loss 0.5898, acc 0.7982%\n",
            "186: Train loss 0.3779, acc 0.8307%; validation loss 0.5968, acc 0.8125%\n",
            "187: Train loss 0.3787, acc 0.8332%; validation loss 0.5957, acc 0.8072%\n",
            "188: Train loss 0.3781, acc 0.8332%; validation loss 0.5888, acc 0.8070%\n",
            "189: Train loss 0.3779, acc 0.8335%; validation loss 0.5882, acc 0.8055%\n",
            "190: Train loss 0.3794, acc 0.8327%; validation loss 0.5942, acc 0.8072%\n",
            "191: Train loss 0.3794, acc 0.8327%; validation loss 0.6019, acc 0.8107%\n",
            "192: Train loss 0.3797, acc 0.8330%; validation loss 0.5915, acc 0.8075%\n",
            "193: Train loss 0.3784, acc 0.8335%; validation loss 0.5967, acc 0.8047%\n",
            "194: Train loss 0.3789, acc 0.8329%; validation loss 0.5964, acc 0.8075%\n",
            "195: Train loss 0.3787, acc 0.8339%; validation loss 0.5932, acc 0.8042%\n",
            "196: Train loss 0.3788, acc 0.8318%; validation loss 0.5927, acc 0.8060%\n",
            "197: Train loss 0.3790, acc 0.8335%; validation loss 0.5908, acc 0.8025%\n",
            "198: Train loss 0.3783, acc 0.8320%; validation loss 0.5891, acc 0.8042%\n",
            "199: Train loss 0.3790, acc 0.8345%; validation loss 0.5945, acc 0.8060%\n",
            "200: Train loss 0.3795, acc 0.8323%; validation loss 0.5892, acc 0.8070%\n",
            "Final evaluation results:\n",
            "accuracy        0.8435\n",
            "f1              0.9004\n",
            "precision       0.8861\n",
            "recall          0.9151\n"
          ]
        },
        {
          "output_type": "display_data",
          "data": {
            "text/plain": [
              "<IPython.core.display.HTML object>"
            ],
            "text/html": [
              "Waiting for W&B process to finish... <strong style=\"color:green\">(success).</strong>"
            ]
          },
          "metadata": {}
        },
        {
          "output_type": "display_data",
          "data": {
            "text/plain": [
              "VBox(children=(Label(value='0.001 MB of 0.001 MB uploaded (0.000 MB deduped)\\r'), FloatProgress(value=1.0, max…"
            ],
            "application/vnd.jupyter.widget-view+json": {
              "version_major": 2,
              "version_minor": 0,
              "model_id": "02eab8b4c6594bdf99fd8c06ca237f52"
            }
          },
          "metadata": {}
        },
        {
          "output_type": "display_data",
          "data": {
            "text/plain": [
              "<IPython.core.display.HTML object>"
            ],
            "text/html": [
              "<style>\n",
              "    table.wandb td:nth-child(1) { padding: 0 10px; text-align: left ; width: auto;} td:nth-child(2) {text-align: left ; width: 100%}\n",
              "    .wandb-row { display: flex; flex-direction: row; flex-wrap: wrap; justify-content: flex-start; width: 100% }\n",
              "    .wandb-col { display: flex; flex-direction: column; flex-basis: 100%; flex: 1; padding: 10px; }\n",
              "    </style>\n",
              "<div class=\"wandb-row\"><div class=\"wandb-col\"><h3>Run history:</h3><br/><table class=\"wandb\"><tr><td>accuracy</td><td>▁</td></tr><tr><td>f1</td><td>▁</td></tr><tr><td>precision</td><td>▁</td></tr><tr><td>recall</td><td>▁</td></tr><tr><td>train_acc</td><td>▇▁█▁▃▆▅▆▆▃▆▆▆▅▆▇▆▇▇▄▃▆▅▃▅▆▃▅▆▆▆▇▆▆▄▇▆▇▆▆</td></tr><tr><td>train_loss</td><td>▃▆▃▇▄▃▄▄▄▄▂▄▂▇▅▂▇▄▅▃█▄▅▅▄▂▅▅▂▅▃▂▃▁▃▄▅▂▅▃</td></tr><tr><td>valid_acc</td><td>███████████▄▄███▁██▄▄▄▁▄▄▄▄▄▄▄▄▄▄▄▄▄▄▄▄▄</td></tr><tr><td>valid_loss</td><td>▁▂▁▇▅▇▇█▃▄▅▅▄▄▄▃▃▄▃▃▄▄▃▃▃▃▃▃▃▃▃▃▃▃▃▃▃▃▃▃</td></tr></table><br/></div><div class=\"wandb-col\"><h3>Run summary:</h3><br/><table class=\"wandb\"><tr><td>accuracy</td><td>0.84352</td></tr><tr><td>f1</td><td>0.90037</td></tr><tr><td>precision</td><td>0.8861</td></tr><tr><td>recall</td><td>0.9151</td></tr><tr><td>train_acc</td><td>0.84211</td></tr><tr><td>train_loss</td><td>0.30458</td></tr><tr><td>valid_acc</td><td>0.88462</td></tr><tr><td>valid_loss</td><td>3.49338</td></tr></table><br/></div></div>"
            ]
          },
          "metadata": {}
        },
        {
          "output_type": "display_data",
          "data": {
            "text/plain": [
              "<IPython.core.display.HTML object>"
            ],
            "text/html": [
              "Synced <strong style=\"color:#cdcd00\">sbert-fulltext-gcn-B32P40updatedE200-fold-0</strong>: <a href=\"https://wandb.ai/saloniteam/nofolds/runs/3o1gbfe1\" target=\"_blank\">https://wandb.ai/saloniteam/nofolds/runs/3o1gbfe1</a><br/>Synced 5 W&B file(s), 1 media file(s), 1 artifact file(s) and 0 other file(s)"
            ]
          },
          "metadata": {}
        },
        {
          "output_type": "display_data",
          "data": {
            "text/plain": [
              "<IPython.core.display.HTML object>"
            ],
            "text/html": [
              "Find logs at: <code>./wandb/run-20221101_094619-3o1gbfe1/logs</code>"
            ]
          },
          "metadata": {}
        }
      ]
    },
    {
      "cell_type": "code",
      "source": [
        "model = GNN(graph, 128, n_layers, \"article\")\n",
        "\n",
        "model.load_state_dict(torch.load(f'models/model-{fold_id}.pt'))"
      ],
      "metadata": {
        "id": "wj6KA7GN5Q8s",
        "colab": {
          "base_uri": "https://localhost:8080/"
        },
        "outputId": "fa09905e-6990-4489-f91e-e26f43effc9d"
      },
      "execution_count": 52,
      "outputs": [
        {
          "output_type": "execute_result",
          "data": {
            "text/plain": [
              "<All keys matched successfully>"
            ]
          },
          "metadata": {},
          "execution_count": 52
        }
      ]
    }
  ]
}