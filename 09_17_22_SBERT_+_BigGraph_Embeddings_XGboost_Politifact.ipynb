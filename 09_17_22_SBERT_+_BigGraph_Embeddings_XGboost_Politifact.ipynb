{
  "nbformat": 4,
  "nbformat_minor": 0,
  "metadata": {
    "colab": {
      "provenance": [],
      "collapsed_sections": [],
      "include_colab_link": true
    },
    "kernelspec": {
      "name": "python3",
      "display_name": "Python 3"
    },
    "language_info": {
      "name": "python"
    },
    "widgets": {
      "application/vnd.jupyter.widget-state+json": {
        "394fdacd8372424fb09986a89d60e17f": {
          "model_module": "@jupyter-widgets/controls",
          "model_name": "HBoxModel",
          "model_module_version": "1.5.0",
          "state": {
            "_dom_classes": [],
            "_model_module": "@jupyter-widgets/controls",
            "_model_module_version": "1.5.0",
            "_model_name": "HBoxModel",
            "_view_count": null,
            "_view_module": "@jupyter-widgets/controls",
            "_view_module_version": "1.5.0",
            "_view_name": "HBoxView",
            "box_style": "",
            "children": [
              "IPY_MODEL_fd734b33ee8c404eab593b3e209a29da",
              "IPY_MODEL_00816c38fd3049a0834975a558e30fd4",
              "IPY_MODEL_42a5f988ba96441d810f9628fc0a2f7e"
            ],
            "layout": "IPY_MODEL_e0b35e6905404e73ac9ea4499493f9c5"
          }
        },
        "fd734b33ee8c404eab593b3e209a29da": {
          "model_module": "@jupyter-widgets/controls",
          "model_name": "HTMLModel",
          "model_module_version": "1.5.0",
          "state": {
            "_dom_classes": [],
            "_model_module": "@jupyter-widgets/controls",
            "_model_module_version": "1.5.0",
            "_model_name": "HTMLModel",
            "_view_count": null,
            "_view_module": "@jupyter-widgets/controls",
            "_view_module_version": "1.5.0",
            "_view_name": "HTMLView",
            "description": "",
            "description_tooltip": null,
            "layout": "IPY_MODEL_088bfd1cfdd944fbb98bda8c7c2cf6ce",
            "placeholder": "​",
            "style": "IPY_MODEL_9aa4c9c63b344137946147c995f0239f",
            "value": ""
          }
        },
        "00816c38fd3049a0834975a558e30fd4": {
          "model_module": "@jupyter-widgets/controls",
          "model_name": "FloatProgressModel",
          "model_module_version": "1.5.0",
          "state": {
            "_dom_classes": [],
            "_model_module": "@jupyter-widgets/controls",
            "_model_module_version": "1.5.0",
            "_model_name": "FloatProgressModel",
            "_view_count": null,
            "_view_module": "@jupyter-widgets/controls",
            "_view_module_version": "1.5.0",
            "_view_name": "ProgressView",
            "bar_style": "success",
            "description": "",
            "description_tooltip": null,
            "layout": "IPY_MODEL_1a67323efb1a4c86af9b03b469459c9a",
            "max": 1,
            "min": 0,
            "orientation": "horizontal",
            "style": "IPY_MODEL_69a18eb940a1468a85306e4fc01e324a",
            "value": 0
          }
        },
        "42a5f988ba96441d810f9628fc0a2f7e": {
          "model_module": "@jupyter-widgets/controls",
          "model_name": "HTMLModel",
          "model_module_version": "1.5.0",
          "state": {
            "_dom_classes": [],
            "_model_module": "@jupyter-widgets/controls",
            "_model_module_version": "1.5.0",
            "_model_name": "HTMLModel",
            "_view_count": null,
            "_view_module": "@jupyter-widgets/controls",
            "_view_module_version": "1.5.0",
            "_view_name": "HTMLView",
            "description": "",
            "description_tooltip": null,
            "layout": "IPY_MODEL_dd6fac2671654149a4df17164eb88a99",
            "placeholder": "​",
            "style": "IPY_MODEL_7d455fde05bb4e068255b9625eb49d4e",
            "value": " 0/0 [00:00&lt;?, ?it/s]"
          }
        },
        "e0b35e6905404e73ac9ea4499493f9c5": {
          "model_module": "@jupyter-widgets/base",
          "model_name": "LayoutModel",
          "model_module_version": "1.2.0",
          "state": {
            "_model_module": "@jupyter-widgets/base",
            "_model_module_version": "1.2.0",
            "_model_name": "LayoutModel",
            "_view_count": null,
            "_view_module": "@jupyter-widgets/base",
            "_view_module_version": "1.2.0",
            "_view_name": "LayoutView",
            "align_content": null,
            "align_items": null,
            "align_self": null,
            "border": null,
            "bottom": null,
            "display": null,
            "flex": null,
            "flex_flow": null,
            "grid_area": null,
            "grid_auto_columns": null,
            "grid_auto_flow": null,
            "grid_auto_rows": null,
            "grid_column": null,
            "grid_gap": null,
            "grid_row": null,
            "grid_template_areas": null,
            "grid_template_columns": null,
            "grid_template_rows": null,
            "height": null,
            "justify_content": null,
            "justify_items": null,
            "left": null,
            "margin": null,
            "max_height": null,
            "max_width": null,
            "min_height": null,
            "min_width": null,
            "object_fit": null,
            "object_position": null,
            "order": null,
            "overflow": null,
            "overflow_x": null,
            "overflow_y": null,
            "padding": null,
            "right": null,
            "top": null,
            "visibility": null,
            "width": null
          }
        },
        "088bfd1cfdd944fbb98bda8c7c2cf6ce": {
          "model_module": "@jupyter-widgets/base",
          "model_name": "LayoutModel",
          "model_module_version": "1.2.0",
          "state": {
            "_model_module": "@jupyter-widgets/base",
            "_model_module_version": "1.2.0",
            "_model_name": "LayoutModel",
            "_view_count": null,
            "_view_module": "@jupyter-widgets/base",
            "_view_module_version": "1.2.0",
            "_view_name": "LayoutView",
            "align_content": null,
            "align_items": null,
            "align_self": null,
            "border": null,
            "bottom": null,
            "display": null,
            "flex": null,
            "flex_flow": null,
            "grid_area": null,
            "grid_auto_columns": null,
            "grid_auto_flow": null,
            "grid_auto_rows": null,
            "grid_column": null,
            "grid_gap": null,
            "grid_row": null,
            "grid_template_areas": null,
            "grid_template_columns": null,
            "grid_template_rows": null,
            "height": null,
            "justify_content": null,
            "justify_items": null,
            "left": null,
            "margin": null,
            "max_height": null,
            "max_width": null,
            "min_height": null,
            "min_width": null,
            "object_fit": null,
            "object_position": null,
            "order": null,
            "overflow": null,
            "overflow_x": null,
            "overflow_y": null,
            "padding": null,
            "right": null,
            "top": null,
            "visibility": null,
            "width": null
          }
        },
        "9aa4c9c63b344137946147c995f0239f": {
          "model_module": "@jupyter-widgets/controls",
          "model_name": "DescriptionStyleModel",
          "model_module_version": "1.5.0",
          "state": {
            "_model_module": "@jupyter-widgets/controls",
            "_model_module_version": "1.5.0",
            "_model_name": "DescriptionStyleModel",
            "_view_count": null,
            "_view_module": "@jupyter-widgets/base",
            "_view_module_version": "1.2.0",
            "_view_name": "StyleView",
            "description_width": ""
          }
        },
        "1a67323efb1a4c86af9b03b469459c9a": {
          "model_module": "@jupyter-widgets/base",
          "model_name": "LayoutModel",
          "model_module_version": "1.2.0",
          "state": {
            "_model_module": "@jupyter-widgets/base",
            "_model_module_version": "1.2.0",
            "_model_name": "LayoutModel",
            "_view_count": null,
            "_view_module": "@jupyter-widgets/base",
            "_view_module_version": "1.2.0",
            "_view_name": "LayoutView",
            "align_content": null,
            "align_items": null,
            "align_self": null,
            "border": null,
            "bottom": null,
            "display": null,
            "flex": null,
            "flex_flow": null,
            "grid_area": null,
            "grid_auto_columns": null,
            "grid_auto_flow": null,
            "grid_auto_rows": null,
            "grid_column": null,
            "grid_gap": null,
            "grid_row": null,
            "grid_template_areas": null,
            "grid_template_columns": null,
            "grid_template_rows": null,
            "height": null,
            "justify_content": null,
            "justify_items": null,
            "left": null,
            "margin": null,
            "max_height": null,
            "max_width": null,
            "min_height": null,
            "min_width": null,
            "object_fit": null,
            "object_position": null,
            "order": null,
            "overflow": null,
            "overflow_x": null,
            "overflow_y": null,
            "padding": null,
            "right": null,
            "top": null,
            "visibility": null,
            "width": "20px"
          }
        },
        "69a18eb940a1468a85306e4fc01e324a": {
          "model_module": "@jupyter-widgets/controls",
          "model_name": "ProgressStyleModel",
          "model_module_version": "1.5.0",
          "state": {
            "_model_module": "@jupyter-widgets/controls",
            "_model_module_version": "1.5.0",
            "_model_name": "ProgressStyleModel",
            "_view_count": null,
            "_view_module": "@jupyter-widgets/base",
            "_view_module_version": "1.2.0",
            "_view_name": "StyleView",
            "bar_color": null,
            "description_width": ""
          }
        },
        "dd6fac2671654149a4df17164eb88a99": {
          "model_module": "@jupyter-widgets/base",
          "model_name": "LayoutModel",
          "model_module_version": "1.2.0",
          "state": {
            "_model_module": "@jupyter-widgets/base",
            "_model_module_version": "1.2.0",
            "_model_name": "LayoutModel",
            "_view_count": null,
            "_view_module": "@jupyter-widgets/base",
            "_view_module_version": "1.2.0",
            "_view_name": "LayoutView",
            "align_content": null,
            "align_items": null,
            "align_self": null,
            "border": null,
            "bottom": null,
            "display": null,
            "flex": null,
            "flex_flow": null,
            "grid_area": null,
            "grid_auto_columns": null,
            "grid_auto_flow": null,
            "grid_auto_rows": null,
            "grid_column": null,
            "grid_gap": null,
            "grid_row": null,
            "grid_template_areas": null,
            "grid_template_columns": null,
            "grid_template_rows": null,
            "height": null,
            "justify_content": null,
            "justify_items": null,
            "left": null,
            "margin": null,
            "max_height": null,
            "max_width": null,
            "min_height": null,
            "min_width": null,
            "object_fit": null,
            "object_position": null,
            "order": null,
            "overflow": null,
            "overflow_x": null,
            "overflow_y": null,
            "padding": null,
            "right": null,
            "top": null,
            "visibility": null,
            "width": null
          }
        },
        "7d455fde05bb4e068255b9625eb49d4e": {
          "model_module": "@jupyter-widgets/controls",
          "model_name": "DescriptionStyleModel",
          "model_module_version": "1.5.0",
          "state": {
            "_model_module": "@jupyter-widgets/controls",
            "_model_module_version": "1.5.0",
            "_model_name": "DescriptionStyleModel",
            "_view_count": null,
            "_view_module": "@jupyter-widgets/base",
            "_view_module_version": "1.2.0",
            "_view_name": "StyleView",
            "description_width": ""
          }
        },
        "3afd52f6983f46e9aad806b70563e327": {
          "model_module": "@jupyter-widgets/controls",
          "model_name": "VBoxModel",
          "model_module_version": "1.5.0",
          "state": {
            "_dom_classes": [],
            "_model_module": "@jupyter-widgets/controls",
            "_model_module_version": "1.5.0",
            "_model_name": "VBoxModel",
            "_view_count": null,
            "_view_module": "@jupyter-widgets/controls",
            "_view_module_version": "1.5.0",
            "_view_name": "VBoxView",
            "box_style": "",
            "children": [
              "IPY_MODEL_730a536459724998bd7c0bdb3e46206e",
              "IPY_MODEL_4a0720523bee4fb6a624495e5845249b"
            ],
            "layout": "IPY_MODEL_29312ed498d34dd28bb8d9edd22a75b3"
          }
        },
        "730a536459724998bd7c0bdb3e46206e": {
          "model_module": "@jupyter-widgets/controls",
          "model_name": "LabelModel",
          "model_module_version": "1.5.0",
          "state": {
            "_dom_classes": [],
            "_model_module": "@jupyter-widgets/controls",
            "_model_module_version": "1.5.0",
            "_model_name": "LabelModel",
            "_view_count": null,
            "_view_module": "@jupyter-widgets/controls",
            "_view_module_version": "1.5.0",
            "_view_name": "LabelView",
            "description": "",
            "description_tooltip": null,
            "layout": "IPY_MODEL_dd711902766148398f1371459b30b837",
            "placeholder": "​",
            "style": "IPY_MODEL_4380fa6d81a64426a11fabad2e2d9d4b",
            "value": "0.040 MB of 0.040 MB uploaded (0.000 MB deduped)\r"
          }
        },
        "4a0720523bee4fb6a624495e5845249b": {
          "model_module": "@jupyter-widgets/controls",
          "model_name": "FloatProgressModel",
          "model_module_version": "1.5.0",
          "state": {
            "_dom_classes": [],
            "_model_module": "@jupyter-widgets/controls",
            "_model_module_version": "1.5.0",
            "_model_name": "FloatProgressModel",
            "_view_count": null,
            "_view_module": "@jupyter-widgets/controls",
            "_view_module_version": "1.5.0",
            "_view_name": "ProgressView",
            "bar_style": "",
            "description": "",
            "description_tooltip": null,
            "layout": "IPY_MODEL_4e6e6d1f0f2c4b4baf2c60d7325870f6",
            "max": 1,
            "min": 0,
            "orientation": "horizontal",
            "style": "IPY_MODEL_7fc49fe2357f491fa27dd3ef3d90f8e5",
            "value": 1
          }
        },
        "29312ed498d34dd28bb8d9edd22a75b3": {
          "model_module": "@jupyter-widgets/base",
          "model_name": "LayoutModel",
          "model_module_version": "1.2.0",
          "state": {
            "_model_module": "@jupyter-widgets/base",
            "_model_module_version": "1.2.0",
            "_model_name": "LayoutModel",
            "_view_count": null,
            "_view_module": "@jupyter-widgets/base",
            "_view_module_version": "1.2.0",
            "_view_name": "LayoutView",
            "align_content": null,
            "align_items": null,
            "align_self": null,
            "border": null,
            "bottom": null,
            "display": null,
            "flex": null,
            "flex_flow": null,
            "grid_area": null,
            "grid_auto_columns": null,
            "grid_auto_flow": null,
            "grid_auto_rows": null,
            "grid_column": null,
            "grid_gap": null,
            "grid_row": null,
            "grid_template_areas": null,
            "grid_template_columns": null,
            "grid_template_rows": null,
            "height": null,
            "justify_content": null,
            "justify_items": null,
            "left": null,
            "margin": null,
            "max_height": null,
            "max_width": null,
            "min_height": null,
            "min_width": null,
            "object_fit": null,
            "object_position": null,
            "order": null,
            "overflow": null,
            "overflow_x": null,
            "overflow_y": null,
            "padding": null,
            "right": null,
            "top": null,
            "visibility": null,
            "width": null
          }
        },
        "dd711902766148398f1371459b30b837": {
          "model_module": "@jupyter-widgets/base",
          "model_name": "LayoutModel",
          "model_module_version": "1.2.0",
          "state": {
            "_model_module": "@jupyter-widgets/base",
            "_model_module_version": "1.2.0",
            "_model_name": "LayoutModel",
            "_view_count": null,
            "_view_module": "@jupyter-widgets/base",
            "_view_module_version": "1.2.0",
            "_view_name": "LayoutView",
            "align_content": null,
            "align_items": null,
            "align_self": null,
            "border": null,
            "bottom": null,
            "display": null,
            "flex": null,
            "flex_flow": null,
            "grid_area": null,
            "grid_auto_columns": null,
            "grid_auto_flow": null,
            "grid_auto_rows": null,
            "grid_column": null,
            "grid_gap": null,
            "grid_row": null,
            "grid_template_areas": null,
            "grid_template_columns": null,
            "grid_template_rows": null,
            "height": null,
            "justify_content": null,
            "justify_items": null,
            "left": null,
            "margin": null,
            "max_height": null,
            "max_width": null,
            "min_height": null,
            "min_width": null,
            "object_fit": null,
            "object_position": null,
            "order": null,
            "overflow": null,
            "overflow_x": null,
            "overflow_y": null,
            "padding": null,
            "right": null,
            "top": null,
            "visibility": null,
            "width": null
          }
        },
        "4380fa6d81a64426a11fabad2e2d9d4b": {
          "model_module": "@jupyter-widgets/controls",
          "model_name": "DescriptionStyleModel",
          "model_module_version": "1.5.0",
          "state": {
            "_model_module": "@jupyter-widgets/controls",
            "_model_module_version": "1.5.0",
            "_model_name": "DescriptionStyleModel",
            "_view_count": null,
            "_view_module": "@jupyter-widgets/base",
            "_view_module_version": "1.2.0",
            "_view_name": "StyleView",
            "description_width": ""
          }
        },
        "4e6e6d1f0f2c4b4baf2c60d7325870f6": {
          "model_module": "@jupyter-widgets/base",
          "model_name": "LayoutModel",
          "model_module_version": "1.2.0",
          "state": {
            "_model_module": "@jupyter-widgets/base",
            "_model_module_version": "1.2.0",
            "_model_name": "LayoutModel",
            "_view_count": null,
            "_view_module": "@jupyter-widgets/base",
            "_view_module_version": "1.2.0",
            "_view_name": "LayoutView",
            "align_content": null,
            "align_items": null,
            "align_self": null,
            "border": null,
            "bottom": null,
            "display": null,
            "flex": null,
            "flex_flow": null,
            "grid_area": null,
            "grid_auto_columns": null,
            "grid_auto_flow": null,
            "grid_auto_rows": null,
            "grid_column": null,
            "grid_gap": null,
            "grid_row": null,
            "grid_template_areas": null,
            "grid_template_columns": null,
            "grid_template_rows": null,
            "height": null,
            "justify_content": null,
            "justify_items": null,
            "left": null,
            "margin": null,
            "max_height": null,
            "max_width": null,
            "min_height": null,
            "min_width": null,
            "object_fit": null,
            "object_position": null,
            "order": null,
            "overflow": null,
            "overflow_x": null,
            "overflow_y": null,
            "padding": null,
            "right": null,
            "top": null,
            "visibility": null,
            "width": null
          }
        },
        "7fc49fe2357f491fa27dd3ef3d90f8e5": {
          "model_module": "@jupyter-widgets/controls",
          "model_name": "ProgressStyleModel",
          "model_module_version": "1.5.0",
          "state": {
            "_model_module": "@jupyter-widgets/controls",
            "_model_module_version": "1.5.0",
            "_model_name": "ProgressStyleModel",
            "_view_count": null,
            "_view_module": "@jupyter-widgets/base",
            "_view_module_version": "1.2.0",
            "_view_name": "StyleView",
            "bar_color": null,
            "description_width": ""
          }
        }
      }
    },
    "accelerator": "GPU"
  },
  "cells": [
    {
      "cell_type": "markdown",
      "metadata": {
        "id": "view-in-github",
        "colab_type": "text"
      },
      "source": [
        "<a href=\"https://colab.research.google.com/github/verma-saloni/Thesis-Work/blob/main/09_17_22_SBERT_%2B_BigGraph_Embeddings_XGboost_Politifact.ipynb\" target=\"_parent\"><img src=\"https://colab.research.google.com/assets/colab-badge.svg\" alt=\"Open In Colab\"/></a>"
      ]
    },
    {
      "cell_type": "code",
      "source": [
        "#%%capture\n",
        "!pip install -U xgboost sentence-transformers wandb"
      ],
      "metadata": {
        "id": "aByzVMdkzqAJ",
        "colab": {
          "base_uri": "https://localhost:8080/"
        },
        "outputId": "7509d544-ac85-4e49-cefd-f9b27c15fca1"
      },
      "execution_count": 1,
      "outputs": [
        {
          "output_type": "stream",
          "name": "stdout",
          "text": [
            "Looking in indexes: https://pypi.org/simple, https://us-python.pkg.dev/colab-wheels/public/simple/\n",
            "Requirement already satisfied: xgboost in /usr/local/lib/python3.7/dist-packages (0.90)\n",
            "Collecting xgboost\n",
            "  Downloading xgboost-1.6.2-py3-none-manylinux2014_x86_64.whl (255.9 MB)\n",
            "\u001b[K     |████████████████████████████████| 255.9 MB 42 kB/s \n",
            "\u001b[?25hCollecting sentence-transformers\n",
            "  Downloading sentence-transformers-2.2.2.tar.gz (85 kB)\n",
            "\u001b[K     |████████████████████████████████| 85 kB 6.3 MB/s \n",
            "\u001b[?25hCollecting wandb\n",
            "  Downloading wandb-0.13.3-py2.py3-none-any.whl (1.8 MB)\n",
            "\u001b[K     |████████████████████████████████| 1.8 MB 55.0 MB/s \n",
            "\u001b[?25hRequirement already satisfied: scipy in /usr/local/lib/python3.7/dist-packages (from xgboost) (1.7.3)\n",
            "Requirement already satisfied: numpy in /usr/local/lib/python3.7/dist-packages (from xgboost) (1.21.6)\n",
            "Collecting transformers<5.0.0,>=4.6.0\n",
            "  Downloading transformers-4.22.1-py3-none-any.whl (4.9 MB)\n",
            "\u001b[K     |████████████████████████████████| 4.9 MB 53.9 MB/s \n",
            "\u001b[?25hRequirement already satisfied: tqdm in /usr/local/lib/python3.7/dist-packages (from sentence-transformers) (4.64.1)\n",
            "Requirement already satisfied: torch>=1.6.0 in /usr/local/lib/python3.7/dist-packages (from sentence-transformers) (1.12.1+cu113)\n",
            "Requirement already satisfied: torchvision in /usr/local/lib/python3.7/dist-packages (from sentence-transformers) (0.13.1+cu113)\n",
            "Requirement already satisfied: scikit-learn in /usr/local/lib/python3.7/dist-packages (from sentence-transformers) (1.0.2)\n",
            "Requirement already satisfied: nltk in /usr/local/lib/python3.7/dist-packages (from sentence-transformers) (3.7)\n",
            "Collecting sentencepiece\n",
            "  Downloading sentencepiece-0.1.97-cp37-cp37m-manylinux_2_17_x86_64.manylinux2014_x86_64.whl (1.3 MB)\n",
            "\u001b[K     |████████████████████████████████| 1.3 MB 70.4 MB/s \n",
            "\u001b[?25hCollecting huggingface-hub>=0.4.0\n",
            "  Downloading huggingface_hub-0.9.1-py3-none-any.whl (120 kB)\n",
            "\u001b[K     |████████████████████████████████| 120 kB 73.1 MB/s \n",
            "\u001b[?25hRequirement already satisfied: packaging>=20.9 in /usr/local/lib/python3.7/dist-packages (from huggingface-hub>=0.4.0->sentence-transformers) (21.3)\n",
            "Requirement already satisfied: typing-extensions>=3.7.4.3 in /usr/local/lib/python3.7/dist-packages (from huggingface-hub>=0.4.0->sentence-transformers) (4.1.1)\n",
            "Requirement already satisfied: filelock in /usr/local/lib/python3.7/dist-packages (from huggingface-hub>=0.4.0->sentence-transformers) (3.8.0)\n",
            "Requirement already satisfied: importlib-metadata in /usr/local/lib/python3.7/dist-packages (from huggingface-hub>=0.4.0->sentence-transformers) (4.12.0)\n",
            "Requirement already satisfied: requests in /usr/local/lib/python3.7/dist-packages (from huggingface-hub>=0.4.0->sentence-transformers) (2.23.0)\n",
            "Requirement already satisfied: pyyaml>=5.1 in /usr/local/lib/python3.7/dist-packages (from huggingface-hub>=0.4.0->sentence-transformers) (6.0)\n",
            "Requirement already satisfied: pyparsing!=3.0.5,>=2.0.2 in /usr/local/lib/python3.7/dist-packages (from packaging>=20.9->huggingface-hub>=0.4.0->sentence-transformers) (3.0.9)\n",
            "Requirement already satisfied: regex!=2019.12.17 in /usr/local/lib/python3.7/dist-packages (from transformers<5.0.0,>=4.6.0->sentence-transformers) (2022.6.2)\n",
            "Collecting tokenizers!=0.11.3,<0.13,>=0.11.1\n",
            "  Downloading tokenizers-0.12.1-cp37-cp37m-manylinux_2_12_x86_64.manylinux2010_x86_64.whl (6.6 MB)\n",
            "\u001b[K     |████████████████████████████████| 6.6 MB 54.7 MB/s \n",
            "\u001b[?25hCollecting GitPython>=1.0.0\n",
            "  Downloading GitPython-3.1.27-py3-none-any.whl (181 kB)\n",
            "\u001b[K     |████████████████████████████████| 181 kB 73.9 MB/s \n",
            "\u001b[?25hRequirement already satisfied: Click!=8.0.0,>=7.0 in /usr/local/lib/python3.7/dist-packages (from wandb) (7.1.2)\n",
            "Requirement already satisfied: promise<3,>=2.0 in /usr/local/lib/python3.7/dist-packages (from wandb) (2.3)\n",
            "Collecting docker-pycreds>=0.4.0\n",
            "  Downloading docker_pycreds-0.4.0-py2.py3-none-any.whl (9.0 kB)\n",
            "Collecting sentry-sdk>=1.0.0\n",
            "  Downloading sentry_sdk-1.9.8-py2.py3-none-any.whl (158 kB)\n",
            "\u001b[K     |████████████████████████████████| 158 kB 71.4 MB/s \n",
            "\u001b[?25hRequirement already satisfied: psutil>=5.0.0 in /usr/local/lib/python3.7/dist-packages (from wandb) (5.4.8)\n",
            "Collecting pathtools\n",
            "  Downloading pathtools-0.1.2.tar.gz (11 kB)\n",
            "Collecting setproctitle\n",
            "  Downloading setproctitle-1.3.2-cp37-cp37m-manylinux_2_5_x86_64.manylinux1_x86_64.manylinux_2_17_x86_64.manylinux2014_x86_64.whl (30 kB)\n",
            "Requirement already satisfied: six>=1.13.0 in /usr/local/lib/python3.7/dist-packages (from wandb) (1.15.0)\n",
            "Collecting shortuuid>=0.5.0\n",
            "  Downloading shortuuid-1.0.9-py3-none-any.whl (9.4 kB)\n",
            "Requirement already satisfied: protobuf<4.0dev,>=3.12.0 in /usr/local/lib/python3.7/dist-packages (from wandb) (3.17.3)\n",
            "Requirement already satisfied: setuptools in /usr/local/lib/python3.7/dist-packages (from wandb) (57.4.0)\n",
            "Collecting gitdb<5,>=4.0.1\n",
            "  Downloading gitdb-4.0.9-py3-none-any.whl (63 kB)\n",
            "\u001b[K     |████████████████████████████████| 63 kB 2.4 MB/s \n",
            "\u001b[?25hCollecting smmap<6,>=3.0.1\n",
            "  Downloading smmap-5.0.0-py3-none-any.whl (24 kB)\n",
            "Requirement already satisfied: idna<3,>=2.5 in /usr/local/lib/python3.7/dist-packages (from requests->huggingface-hub>=0.4.0->sentence-transformers) (2.10)\n",
            "Requirement already satisfied: chardet<4,>=3.0.2 in /usr/local/lib/python3.7/dist-packages (from requests->huggingface-hub>=0.4.0->sentence-transformers) (3.0.4)\n",
            "Requirement already satisfied: urllib3!=1.25.0,!=1.25.1,<1.26,>=1.21.1 in /usr/local/lib/python3.7/dist-packages (from requests->huggingface-hub>=0.4.0->sentence-transformers) (1.24.3)\n",
            "Requirement already satisfied: certifi>=2017.4.17 in /usr/local/lib/python3.7/dist-packages (from requests->huggingface-hub>=0.4.0->sentence-transformers) (2022.6.15)\n",
            "Collecting sentry-sdk>=1.0.0\n",
            "  Downloading sentry_sdk-1.9.7-py2.py3-none-any.whl (157 kB)\n",
            "\u001b[K     |████████████████████████████████| 157 kB 69.0 MB/s \n",
            "\u001b[?25h  Downloading sentry_sdk-1.9.6-py2.py3-none-any.whl (157 kB)\n",
            "\u001b[K     |████████████████████████████████| 157 kB 51.9 MB/s \n",
            "\u001b[?25h  Downloading sentry_sdk-1.9.5-py2.py3-none-any.whl (157 kB)\n",
            "\u001b[K     |████████████████████████████████| 157 kB 66.5 MB/s \n",
            "\u001b[?25h  Downloading sentry_sdk-1.9.4-py2.py3-none-any.whl (157 kB)\n",
            "\u001b[K     |████████████████████████████████| 157 kB 74.3 MB/s \n",
            "\u001b[?25h  Downloading sentry_sdk-1.9.3-py2.py3-none-any.whl (157 kB)\n",
            "\u001b[K     |████████████████████████████████| 157 kB 71.6 MB/s \n",
            "\u001b[?25h  Downloading sentry_sdk-1.9.2-py2.py3-none-any.whl (157 kB)\n",
            "\u001b[K     |████████████████████████████████| 157 kB 65.6 MB/s \n",
            "\u001b[?25h  Downloading sentry_sdk-1.9.1-py2.py3-none-any.whl (157 kB)\n",
            "\u001b[K     |████████████████████████████████| 157 kB 78.5 MB/s \n",
            "\u001b[?25h  Downloading sentry_sdk-1.9.0-py2.py3-none-any.whl (156 kB)\n",
            "\u001b[K     |████████████████████████████████| 156 kB 72.3 MB/s \n",
            "\u001b[?25hRequirement already satisfied: zipp>=0.5 in /usr/local/lib/python3.7/dist-packages (from importlib-metadata->huggingface-hub>=0.4.0->sentence-transformers) (3.8.1)\n",
            "Requirement already satisfied: joblib in /usr/local/lib/python3.7/dist-packages (from nltk->sentence-transformers) (1.1.0)\n",
            "Requirement already satisfied: threadpoolctl>=2.0.0 in /usr/local/lib/python3.7/dist-packages (from scikit-learn->sentence-transformers) (3.1.0)\n",
            "Requirement already satisfied: pillow!=8.3.*,>=5.3.0 in /usr/local/lib/python3.7/dist-packages (from torchvision->sentence-transformers) (7.1.2)\n",
            "Building wheels for collected packages: sentence-transformers, pathtools\n",
            "  Building wheel for sentence-transformers (setup.py) ... \u001b[?25l\u001b[?25hdone\n",
            "  Created wheel for sentence-transformers: filename=sentence_transformers-2.2.2-py3-none-any.whl size=125938 sha256=3a8ed66c571321bc39199874948f8f29be3d3d1cc8945193a7cf9717b9723797\n",
            "  Stored in directory: /root/.cache/pip/wheels/bf/06/fb/d59c1e5bd1dac7f6cf61ec0036cc3a10ab8fecaa6b2c3d3ee9\n",
            "  Building wheel for pathtools (setup.py) ... \u001b[?25l\u001b[?25hdone\n",
            "  Created wheel for pathtools: filename=pathtools-0.1.2-py3-none-any.whl size=8806 sha256=48431c2a24913454bd2b3869c9a8231cbbf5e97dc79f8ca1d948eddf893fc045\n",
            "  Stored in directory: /root/.cache/pip/wheels/3e/31/09/fa59cef12cdcfecc627b3d24273699f390e71828921b2cbba2\n",
            "Successfully built sentence-transformers pathtools\n",
            "Installing collected packages: smmap, tokenizers, huggingface-hub, gitdb, transformers, shortuuid, setproctitle, sentry-sdk, sentencepiece, pathtools, GitPython, docker-pycreds, xgboost, wandb, sentence-transformers\n",
            "  Attempting uninstall: xgboost\n",
            "    Found existing installation: xgboost 0.90\n",
            "    Uninstalling xgboost-0.90:\n",
            "      Successfully uninstalled xgboost-0.90\n",
            "Successfully installed GitPython-3.1.27 docker-pycreds-0.4.0 gitdb-4.0.9 huggingface-hub-0.9.1 pathtools-0.1.2 sentence-transformers-2.2.2 sentencepiece-0.1.97 sentry-sdk-1.9.0 setproctitle-1.3.2 shortuuid-1.0.9 smmap-5.0.0 tokenizers-0.12.1 transformers-4.22.1 wandb-0.13.3 xgboost-1.6.2\n"
          ]
        }
      ]
    },
    {
      "cell_type": "code",
      "execution_count": 2,
      "metadata": {
        "id": "8wffusyCytsx",
        "colab": {
          "base_uri": "https://localhost:8080/",
          "height": 104,
          "referenced_widgets": [
            "394fdacd8372424fb09986a89d60e17f",
            "fd734b33ee8c404eab593b3e209a29da",
            "00816c38fd3049a0834975a558e30fd4",
            "42a5f988ba96441d810f9628fc0a2f7e",
            "e0b35e6905404e73ac9ea4499493f9c5",
            "088bfd1cfdd944fbb98bda8c7c2cf6ce",
            "9aa4c9c63b344137946147c995f0239f",
            "1a67323efb1a4c86af9b03b469459c9a",
            "69a18eb940a1468a85306e4fc01e324a",
            "dd6fac2671654149a4df17164eb88a99",
            "7d455fde05bb4e068255b9625eb49d4e"
          ]
        },
        "outputId": "673edc59-26f0-4b40-9595-387d0dc7b438"
      },
      "outputs": [
        {
          "output_type": "stream",
          "name": "stderr",
          "text": [
            "The cache for model files in Transformers v4.22.0 has been updated. Migrating your old cache. This is a one-time only operation. You can interrupt this and resume the migration later on by calling `transformers.utils.move_cache()`.\n"
          ]
        },
        {
          "output_type": "stream",
          "name": "stdout",
          "text": [
            "Moving 0 files to the new cache system\n"
          ]
        },
        {
          "output_type": "display_data",
          "data": {
            "text/plain": [
              "0it [00:00, ?it/s]"
            ],
            "application/vnd.jupyter.widget-view+json": {
              "version_major": 2,
              "version_minor": 0,
              "model_id": "394fdacd8372424fb09986a89d60e17f"
            }
          },
          "metadata": {}
        }
      ],
      "source": [
        "from pathlib import Path\n",
        "import numpy as np\n",
        "import pandas as pd\n",
        "import re\n",
        "import json\n",
        "\n",
        "from sentence_transformers import SentenceTransformer \n",
        "\n",
        "from sklearn.model_selection import StratifiedKFold\n",
        "from sklearn.metrics import accuracy_score, f1_score, precision_score, recall_score\n",
        "import xgboost as xgb\n",
        "\n",
        "import wandb\n",
        "from wandb.xgboost import WandbCallback\n",
        "from IPython.display import clear_output"
      ]
    },
    {
      "cell_type": "code",
      "source": [
        "metrics = [accuracy_score, f1_score, precision_score, recall_score]\n",
        "\n",
        "def get_name(score_func):\n",
        "    return score_func.__name__.split(\"_\")[0]"
      ],
      "metadata": {
        "id": "oUUMZeWMuZXE"
      },
      "execution_count": 3,
      "outputs": []
    },
    {
      "cell_type": "markdown",
      "source": [
        "# Load data"
      ],
      "metadata": {
        "id": "R_4mZElNIVb5"
      }
    },
    {
      "cell_type": "code",
      "source": [
        "from google.colab import drive\n",
        "drive.mount('/content/drive')\n",
        "base_dir = Path(\"/content/drive/MyDrive/ResearchFND\")\n",
        "assert base_dir.exists()"
      ],
      "metadata": {
        "id": "UxNEaltli8H_",
        "colab": {
          "base_uri": "https://localhost:8080/"
        },
        "outputId": "65758a99-a076-4054-cb61-613c0777dd15"
      },
      "execution_count": 4,
      "outputs": [
        {
          "output_type": "stream",
          "name": "stdout",
          "text": [
            "Mounted at /content/drive\n"
          ]
        }
      ]
    },
    {
      "cell_type": "code",
      "source": [
        "dataset_id = 'politifact'"
      ],
      "metadata": {
        "id": "p1sDxnH0xX1S"
      },
      "execution_count": 5,
      "outputs": []
    },
    {
      "cell_type": "code",
      "source": [
        "import ast\n",
        "\n",
        "converters = {\"retweets\":ast.literal_eval, \"tweets\":ast.literal_eval}\n",
        "df = pd.read_csv(base_dir/f\"{dataset_id}_agg.csv\", index_col=0, converters=converters)\n",
        "df.head()"
      ],
      "metadata": {
        "id": "2YYgYvwB7nkO",
        "colab": {
          "base_uri": "https://localhost:8080/",
          "height": 528
        },
        "outputId": "bf614629-36cc-4bef-c05b-0f83073b58a5"
      },
      "execution_count": 6,
      "outputs": [
        {
          "output_type": "execute_result",
          "data": {
            "text/plain": [
              "                                               title  \\\n",
              "0   Actress Emma Stone ‘For the first time in his...   \n",
              "1   Breaking President Trump makes English the of...   \n",
              "2   Friendly Fire … Charlottesville Car attacker ...   \n",
              "3   If You Are Using This Toothpaste… Throw It Aw...   \n",
              "4  \"Face the Nation\" transcripts, August 26, 2012...   \n",
              "\n",
              "                                                text tweets  \\\n",
              "0                                                NaN     []   \n",
              "1                                                NaN     []   \n",
              "2                                                NaN     []   \n",
              "3  MightyLiving Blog\\n\\nHelpful inspiration from ...     []   \n",
              "4  \"Face the Nation\" transcripts, August 26, 2012...     []   \n",
              "\n",
              "                                            retweets label  \\\n",
              "0  [1020554564334964741, 1020817527046197248, 106...  fake   \n",
              "1                                                 []  fake   \n",
              "2  [3265439004, 3250621593, 3253922920, 326691851...  fake   \n",
              "3  [911971426571255810, 1036749614853103616, 1033...  fake   \n",
              "4                                                 []  real   \n",
              "\n",
              "                                                 url tweet_ids  num_retweets  \\\n",
              "0                                                NaN        []          2911   \n",
              "1                                                NaN        []             0   \n",
              "2                                                NaN        []            24   \n",
              "3  mightynest.com/learn/research-by-concern/dange...        []          2569   \n",
              "4  https://web.archive.org/web/20120827001956/htt...        []             0   \n",
              "\n",
              "   log_num_retweets  num_tweets  log_num_tweets  \n",
              "0          7.976595           0             0.0  \n",
              "1          0.000000           0             0.0  \n",
              "2          3.218876           0             0.0  \n",
              "3          7.851661           0             0.0  \n",
              "4          0.000000           0             0.0  "
            ],
            "text/html": [
              "\n",
              "  <div id=\"df-867a69b1-02ab-45a4-bf30-1a34d87e69d5\">\n",
              "    <div class=\"colab-df-container\">\n",
              "      <div>\n",
              "<style scoped>\n",
              "    .dataframe tbody tr th:only-of-type {\n",
              "        vertical-align: middle;\n",
              "    }\n",
              "\n",
              "    .dataframe tbody tr th {\n",
              "        vertical-align: top;\n",
              "    }\n",
              "\n",
              "    .dataframe thead th {\n",
              "        text-align: right;\n",
              "    }\n",
              "</style>\n",
              "<table border=\"1\" class=\"dataframe\">\n",
              "  <thead>\n",
              "    <tr style=\"text-align: right;\">\n",
              "      <th></th>\n",
              "      <th>title</th>\n",
              "      <th>text</th>\n",
              "      <th>tweets</th>\n",
              "      <th>retweets</th>\n",
              "      <th>label</th>\n",
              "      <th>url</th>\n",
              "      <th>tweet_ids</th>\n",
              "      <th>num_retweets</th>\n",
              "      <th>log_num_retweets</th>\n",
              "      <th>num_tweets</th>\n",
              "      <th>log_num_tweets</th>\n",
              "    </tr>\n",
              "  </thead>\n",
              "  <tbody>\n",
              "    <tr>\n",
              "      <th>0</th>\n",
              "      <td>Actress Emma Stone ‘For the first time in his...</td>\n",
              "      <td>NaN</td>\n",
              "      <td>[]</td>\n",
              "      <td>[1020554564334964741, 1020817527046197248, 106...</td>\n",
              "      <td>fake</td>\n",
              "      <td>NaN</td>\n",
              "      <td>[]</td>\n",
              "      <td>2911</td>\n",
              "      <td>7.976595</td>\n",
              "      <td>0</td>\n",
              "      <td>0.0</td>\n",
              "    </tr>\n",
              "    <tr>\n",
              "      <th>1</th>\n",
              "      <td>Breaking President Trump makes English the of...</td>\n",
              "      <td>NaN</td>\n",
              "      <td>[]</td>\n",
              "      <td>[]</td>\n",
              "      <td>fake</td>\n",
              "      <td>NaN</td>\n",
              "      <td>[]</td>\n",
              "      <td>0</td>\n",
              "      <td>0.000000</td>\n",
              "      <td>0</td>\n",
              "      <td>0.0</td>\n",
              "    </tr>\n",
              "    <tr>\n",
              "      <th>2</th>\n",
              "      <td>Friendly Fire … Charlottesville Car attacker ...</td>\n",
              "      <td>NaN</td>\n",
              "      <td>[]</td>\n",
              "      <td>[3265439004, 3250621593, 3253922920, 326691851...</td>\n",
              "      <td>fake</td>\n",
              "      <td>NaN</td>\n",
              "      <td>[]</td>\n",
              "      <td>24</td>\n",
              "      <td>3.218876</td>\n",
              "      <td>0</td>\n",
              "      <td>0.0</td>\n",
              "    </tr>\n",
              "    <tr>\n",
              "      <th>3</th>\n",
              "      <td>If You Are Using This Toothpaste… Throw It Aw...</td>\n",
              "      <td>MightyLiving Blog\\n\\nHelpful inspiration from ...</td>\n",
              "      <td>[]</td>\n",
              "      <td>[911971426571255810, 1036749614853103616, 1033...</td>\n",
              "      <td>fake</td>\n",
              "      <td>mightynest.com/learn/research-by-concern/dange...</td>\n",
              "      <td>[]</td>\n",
              "      <td>2569</td>\n",
              "      <td>7.851661</td>\n",
              "      <td>0</td>\n",
              "      <td>0.0</td>\n",
              "    </tr>\n",
              "    <tr>\n",
              "      <th>4</th>\n",
              "      <td>\"Face the Nation\" transcripts, August 26, 2012...</td>\n",
              "      <td>\"Face the Nation\" transcripts, August 26, 2012...</td>\n",
              "      <td>[]</td>\n",
              "      <td>[]</td>\n",
              "      <td>real</td>\n",
              "      <td>https://web.archive.org/web/20120827001956/htt...</td>\n",
              "      <td>[]</td>\n",
              "      <td>0</td>\n",
              "      <td>0.000000</td>\n",
              "      <td>0</td>\n",
              "      <td>0.0</td>\n",
              "    </tr>\n",
              "  </tbody>\n",
              "</table>\n",
              "</div>\n",
              "      <button class=\"colab-df-convert\" onclick=\"convertToInteractive('df-867a69b1-02ab-45a4-bf30-1a34d87e69d5')\"\n",
              "              title=\"Convert this dataframe to an interactive table.\"\n",
              "              style=\"display:none;\">\n",
              "        \n",
              "  <svg xmlns=\"http://www.w3.org/2000/svg\" height=\"24px\"viewBox=\"0 0 24 24\"\n",
              "       width=\"24px\">\n",
              "    <path d=\"M0 0h24v24H0V0z\" fill=\"none\"/>\n",
              "    <path d=\"M18.56 5.44l.94 2.06.94-2.06 2.06-.94-2.06-.94-.94-2.06-.94 2.06-2.06.94zm-11 1L8.5 8.5l.94-2.06 2.06-.94-2.06-.94L8.5 2.5l-.94 2.06-2.06.94zm10 10l.94 2.06.94-2.06 2.06-.94-2.06-.94-.94-2.06-.94 2.06-2.06.94z\"/><path d=\"M17.41 7.96l-1.37-1.37c-.4-.4-.92-.59-1.43-.59-.52 0-1.04.2-1.43.59L10.3 9.45l-7.72 7.72c-.78.78-.78 2.05 0 2.83L4 21.41c.39.39.9.59 1.41.59.51 0 1.02-.2 1.41-.59l7.78-7.78 2.81-2.81c.8-.78.8-2.07 0-2.86zM5.41 20L4 18.59l7.72-7.72 1.47 1.35L5.41 20z\"/>\n",
              "  </svg>\n",
              "      </button>\n",
              "      \n",
              "  <style>\n",
              "    .colab-df-container {\n",
              "      display:flex;\n",
              "      flex-wrap:wrap;\n",
              "      gap: 12px;\n",
              "    }\n",
              "\n",
              "    .colab-df-convert {\n",
              "      background-color: #E8F0FE;\n",
              "      border: none;\n",
              "      border-radius: 50%;\n",
              "      cursor: pointer;\n",
              "      display: none;\n",
              "      fill: #1967D2;\n",
              "      height: 32px;\n",
              "      padding: 0 0 0 0;\n",
              "      width: 32px;\n",
              "    }\n",
              "\n",
              "    .colab-df-convert:hover {\n",
              "      background-color: #E2EBFA;\n",
              "      box-shadow: 0px 1px 2px rgba(60, 64, 67, 0.3), 0px 1px 3px 1px rgba(60, 64, 67, 0.15);\n",
              "      fill: #174EA6;\n",
              "    }\n",
              "\n",
              "    [theme=dark] .colab-df-convert {\n",
              "      background-color: #3B4455;\n",
              "      fill: #D2E3FC;\n",
              "    }\n",
              "\n",
              "    [theme=dark] .colab-df-convert:hover {\n",
              "      background-color: #434B5C;\n",
              "      box-shadow: 0px 1px 3px 1px rgba(0, 0, 0, 0.15);\n",
              "      filter: drop-shadow(0px 1px 2px rgba(0, 0, 0, 0.3));\n",
              "      fill: #FFFFFF;\n",
              "    }\n",
              "  </style>\n",
              "\n",
              "      <script>\n",
              "        const buttonEl =\n",
              "          document.querySelector('#df-867a69b1-02ab-45a4-bf30-1a34d87e69d5 button.colab-df-convert');\n",
              "        buttonEl.style.display =\n",
              "          google.colab.kernel.accessAllowed ? 'block' : 'none';\n",
              "\n",
              "        async function convertToInteractive(key) {\n",
              "          const element = document.querySelector('#df-867a69b1-02ab-45a4-bf30-1a34d87e69d5');\n",
              "          const dataTable =\n",
              "            await google.colab.kernel.invokeFunction('convertToInteractive',\n",
              "                                                     [key], {});\n",
              "          if (!dataTable) return;\n",
              "\n",
              "          const docLinkHtml = 'Like what you see? Visit the ' +\n",
              "            '<a target=\"_blank\" href=https://colab.research.google.com/notebooks/data_table.ipynb>data table notebook</a>'\n",
              "            + ' to learn more about interactive tables.';\n",
              "          element.innerHTML = '';\n",
              "          dataTable['output_type'] = 'display_data';\n",
              "          await google.colab.output.renderOutput(dataTable, element);\n",
              "          const docLink = document.createElement('div');\n",
              "          docLink.innerHTML = docLinkHtml;\n",
              "          element.appendChild(docLink);\n",
              "        }\n",
              "      </script>\n",
              "    </div>\n",
              "  </div>\n",
              "  "
            ]
          },
          "metadata": {},
          "execution_count": 6
        }
      ]
    },
    {
      "cell_type": "code",
      "source": [
        "df.title.isna().sum(), (df.title == \"\").sum()"
      ],
      "metadata": {
        "colab": {
          "base_uri": "https://localhost:8080/"
        },
        "id": "N2PltrGzNia4",
        "outputId": "f13d6635-075b-4f75-b6c7-5bedf17714bd"
      },
      "execution_count": 7,
      "outputs": [
        {
          "output_type": "execute_result",
          "data": {
            "text/plain": [
              "(0, 0)"
            ]
          },
          "metadata": {},
          "execution_count": 7
        }
      ]
    },
    {
      "cell_type": "code",
      "source": [
        "titles = df.title.tolist()\n",
        "texts = (df.title + \" \" + df.text).tolist()"
      ],
      "metadata": {
        "id": "9BG1btWEm0b_"
      },
      "execution_count": 8,
      "outputs": []
    },
    {
      "cell_type": "code",
      "source": [
        "len(texts)"
      ],
      "metadata": {
        "colab": {
          "base_uri": "https://localhost:8080/"
        },
        "id": "PfZSpiXU8IHY",
        "outputId": "f7ce1175-824c-4387-efbd-cfa6b5599310"
      },
      "execution_count": 9,
      "outputs": [
        {
          "output_type": "execute_result",
          "data": {
            "text/plain": [
              "894"
            ]
          },
          "metadata": {},
          "execution_count": 9
        }
      ]
    },
    {
      "cell_type": "markdown",
      "source": [
        "# Prepare emebeddings"
      ],
      "metadata": {
        "id": "CnksS6trIRdd"
      }
    },
    {
      "cell_type": "code",
      "source": [
        "title_embedding_file = base_dir/\"sbert_title_embeddings.npy\"\n",
        "\n",
        "if title_embedding_file.exists():\n",
        "    title_embeddings = np.load(title_embedding_file)\n",
        "else:\n",
        "    model_id = \"all-mpnet-base-v2\"\n",
        "    model = SentenceTransformer(model_id)\n",
        "\n",
        "    title_embeddings = model.encode(titles, show_progress_bar=True)\n",
        "    np.save(title_embedding_file, title_embeddings)"
      ],
      "metadata": {
        "id": "8H5eVnOyPFam"
      },
      "execution_count": 10,
      "outputs": []
    },
    {
      "cell_type": "code",
      "source": [
        "text_embedding_file = base_dir/\"sbert_fulltext_embeddings.npy\"\n",
        "\n",
        "if text_embedding_file.exists():\n",
        "    text_embeddings = np.load(text_embedding_file)\n",
        "else:\n",
        "    model_id = \"all-mpnet-base-v2\"\n",
        "    model = SentenceTransformer(model_id)\n",
        "\n",
        "    text_embeddings = model.encode(texts, show_progress_bar=True)\n",
        "    np.save(text_embedding_file, text_embeddings)"
      ],
      "metadata": {
        "id": "Uc88pT1nIRFX"
      },
      "execution_count": 11,
      "outputs": []
    },
    {
      "cell_type": "code",
      "source": [
        "edim = 128\n",
        "bg_embeddings = np.load(base_dir/f'{dataset_id}_pt_biggraph_article_embeddings_{edim}.npy')\n",
        "idx = np.load(base_dir/f\"{dataset_id}_pt_biggraph_article_idx_{edim}.npy\")"
      ],
      "metadata": {
        "id": "uQjE8biJFfW8"
      },
      "execution_count": 12,
      "outputs": []
    },
    {
      "cell_type": "code",
      "source": [
        "graph_embeddings = np.zeros((text_embeddings.shape[0], edim))\n",
        "graph_embeddings[idx] = bg_embeddings"
      ],
      "metadata": {
        "id": "NWS6KO7UpUX3"
      },
      "execution_count": 13,
      "outputs": []
    },
    {
      "cell_type": "code",
      "source": [
        "X = np.concatenate([\n",
        "    text_embeddings, \n",
        "    df.num_retweets.to_numpy()[..., None], \n",
        "    df.num_tweets.to_numpy()[..., None],\n",
        "    graph_embeddings], axis=1)\n",
        "y = (df.label==\"real\").to_numpy().astype(int)\n",
        "\n",
        "X.shape, y.shape"
      ],
      "metadata": {
        "colab": {
          "base_uri": "https://localhost:8080/"
        },
        "outputId": "556553d9-a065-418f-8e08-44c4a75fdeaa",
        "id": "CHZ56FHKxQd3"
      },
      "execution_count": 14,
      "outputs": [
        {
          "output_type": "execute_result",
          "data": {
            "text/plain": [
              "((894, 898), (894,))"
            ]
          },
          "metadata": {},
          "execution_count": 14
        }
      ]
    },
    {
      "cell_type": "code",
      "source": [
        "skf = StratifiedKFold(shuffle=True, random_state=124)"
      ],
      "metadata": {
        "id": "Ec5ppDaQK16F"
      },
      "execution_count": 15,
      "outputs": []
    },
    {
      "cell_type": "markdown",
      "source": [
        "# Traing XGB"
      ],
      "metadata": {
        "id": "pOEREu_Yz5YQ"
      }
    },
    {
      "cell_type": "code",
      "source": [
        "def train(train_idx, test_idx, params):\n",
        "\n",
        "    # training\n",
        "    X_train, X_test = X[train_idx], X[test_idx]\n",
        "    y_train, y_test = y[train_idx], y[test_idx]\n",
        "    dtrain = xgb.DMatrix(X_train, label=y_train)\n",
        "    dtest = xgb.DMatrix(X_test, label=y_test)\n",
        "    watchlist = [(dtrain,'train'), (dtest,'eval')]\n",
        "    clf = xgb.train(params, dtrain, num_boost_round=params['num_boost_round'], early_stopping_rounds=None, evals=watchlist, callbacks=[WandbCallback()])\n",
        "    #evaluation\n",
        "    probs = clf.predict(dtest)\n",
        "    y_pred = (probs > 0.5).astype(int)\n",
        "    eval_results = {get_name(f):f(y_pred=y_pred, y_true=y_test) for f in metrics}\n",
        "    wandb.log(eval_results)\n",
        "    wandb.log({\"conf_mat\" : wandb.plot.confusion_matrix(probs=None,\n",
        "                            y_true=y_test, preds=y_pred,\n",
        "                            class_names=[\"Fake\", \"Real\"])})"
      ],
      "metadata": {
        "id": "5oSeII1QLot_"
      },
      "execution_count": 16,
      "outputs": []
    },
    {
      "cell_type": "code",
      "source": [
        "params = {\n",
        "    \"objective\":'binary:logistic',\n",
        "    \"seed\":124,\n",
        "    \"num_boost_round\":200\n",
        "}"
      ],
      "metadata": {
        "id": "5IvqyG9jPVQw"
      },
      "execution_count": 17,
      "outputs": []
    },
    {
      "cell_type": "code",
      "source": [
        "WANDB_ENTITY = 'saloniteam'\n",
        "WANDB_PROJECT = 'nofolds'\n",
        "GROUP = \"sbert-mpnet-v2-biggraph128-xgb\"\n",
        "\n",
        "for fold_id, (train_idx, test_idx) in enumerate(skf.split(X, y)):\n",
        "    clear_output()\n",
        "    with wandb.init(entity=WANDB_ENTITY, project=WANDB_PROJECT, group=GROUP, name=f\"{GROUP}-fold-{fold_id}\", tags=['xgb', 'sbert', 'biggraph']) as run:\n",
        "        train(train_idx, test_idx, params)\n",
        "    break"
      ],
      "metadata": {
        "id": "UoH1hD_3-rt8",
        "colab": {
          "base_uri": "https://localhost:8080/",
          "height": 1000,
          "referenced_widgets": [
            "3afd52f6983f46e9aad806b70563e327",
            "730a536459724998bd7c0bdb3e46206e",
            "4a0720523bee4fb6a624495e5845249b",
            "29312ed498d34dd28bb8d9edd22a75b3",
            "dd711902766148398f1371459b30b837",
            "4380fa6d81a64426a11fabad2e2d9d4b",
            "4e6e6d1f0f2c4b4baf2c60d7325870f6",
            "7fc49fe2357f491fa27dd3ef3d90f8e5"
          ]
        },
        "outputId": "ae656512-233d-4161-c07a-ee36bb96dc0a"
      },
      "execution_count": 18,
      "outputs": [
        {
          "output_type": "stream",
          "name": "stderr",
          "text": [
            "ERROR:wandb.jupyter:Failed to detect the name of this notebook, you can set it manually with the WANDB_NOTEBOOK_NAME environment variable to enable code saving.\n"
          ]
        },
        {
          "output_type": "display_data",
          "data": {
            "text/plain": [
              "<IPython.core.display.Javascript object>"
            ],
            "application/javascript": [
              "\n",
              "        window._wandbApiKey = new Promise((resolve, reject) => {\n",
              "            function loadScript(url) {\n",
              "            return new Promise(function(resolve, reject) {\n",
              "                let newScript = document.createElement(\"script\");\n",
              "                newScript.onerror = reject;\n",
              "                newScript.onload = resolve;\n",
              "                document.body.appendChild(newScript);\n",
              "                newScript.src = url;\n",
              "            });\n",
              "            }\n",
              "            loadScript(\"https://cdn.jsdelivr.net/npm/postmate/build/postmate.min.js\").then(() => {\n",
              "            const iframe = document.createElement('iframe')\n",
              "            iframe.style.cssText = \"width:0;height:0;border:none\"\n",
              "            document.body.appendChild(iframe)\n",
              "            const handshake = new Postmate({\n",
              "                container: iframe,\n",
              "                url: 'https://wandb.ai/authorize'\n",
              "            });\n",
              "            const timeout = setTimeout(() => reject(\"Couldn't auto authenticate\"), 5000)\n",
              "            handshake.then(function(child) {\n",
              "                child.on('authorize', data => {\n",
              "                    clearTimeout(timeout)\n",
              "                    resolve(data)\n",
              "                });\n",
              "            });\n",
              "            })\n",
              "        });\n",
              "    "
            ]
          },
          "metadata": {}
        },
        {
          "output_type": "stream",
          "name": "stderr",
          "text": [
            "\u001b[34m\u001b[1mwandb\u001b[0m: Appending key for api.wandb.ai to your netrc file: /root/.netrc\n"
          ]
        },
        {
          "output_type": "display_data",
          "data": {
            "text/plain": [
              "<IPython.core.display.HTML object>"
            ],
            "text/html": [
              "Tracking run with wandb version 0.13.3"
            ]
          },
          "metadata": {}
        },
        {
          "output_type": "display_data",
          "data": {
            "text/plain": [
              "<IPython.core.display.HTML object>"
            ],
            "text/html": [
              "Run data is saved locally in <code>/content/wandb/run-20220917_095637-2ogcrjls</code>"
            ]
          },
          "metadata": {}
        },
        {
          "output_type": "display_data",
          "data": {
            "text/plain": [
              "<IPython.core.display.HTML object>"
            ],
            "text/html": [
              "Syncing run <strong><a href=\"https://wandb.ai/saloniteam/nofolds/runs/2ogcrjls\" target=\"_blank\">sbert-mpnet-v2-biggraph128-xgb-fold-0</a></strong> to <a href=\"https://wandb.ai/saloniteam/nofolds\" target=\"_blank\">Weights & Biases</a> (<a href=\"https://wandb.me/run\" target=\"_blank\">docs</a>)<br/>"
            ]
          },
          "metadata": {}
        },
        {
          "output_type": "stream",
          "name": "stdout",
          "text": [
            "[09:56:38] WARNING: ../src/learner.cc:627: \n",
            "Parameters: { \"num_boost_round\" } might not be used.\n",
            "\n",
            "  This could be a false alarm, with some parameters getting used by language bindings but\n",
            "  then being mistakenly passed down to XGBoost core, or some parameter actually being used\n",
            "  but getting flagged wrongly here. Please open an issue if you find any such cases.\n",
            "\n",
            "\n",
            "[0]\ttrain-logloss:0.50098\teval-logloss:0.57861\n",
            "[1]\ttrain-logloss:0.38241\teval-logloss:0.50379\n",
            "[2]\ttrain-logloss:0.29781\teval-logloss:0.44574\n",
            "[3]\ttrain-logloss:0.23607\teval-logloss:0.42591\n",
            "[4]\ttrain-logloss:0.18599\teval-logloss:0.38281\n",
            "[5]\ttrain-logloss:0.15074\teval-logloss:0.35640\n",
            "[6]\ttrain-logloss:0.12567\teval-logloss:0.33761\n",
            "[7]\ttrain-logloss:0.10443\teval-logloss:0.32065\n",
            "[8]\ttrain-logloss:0.08728\teval-logloss:0.30331\n",
            "[9]\ttrain-logloss:0.07384\teval-logloss:0.29282\n",
            "[10]\ttrain-logloss:0.06324\teval-logloss:0.28872\n",
            "[11]\ttrain-logloss:0.05487\teval-logloss:0.28212\n",
            "[12]\ttrain-logloss:0.04817\teval-logloss:0.27298\n",
            "[13]\ttrain-logloss:0.04265\teval-logloss:0.26681\n",
            "[14]\ttrain-logloss:0.03807\teval-logloss:0.26341\n",
            "[15]\ttrain-logloss:0.03469\teval-logloss:0.26005\n",
            "[16]\ttrain-logloss:0.03131\teval-logloss:0.25922\n",
            "[17]\ttrain-logloss:0.02870\teval-logloss:0.25566\n",
            "[18]\ttrain-logloss:0.02614\teval-logloss:0.25295\n",
            "[19]\ttrain-logloss:0.02438\teval-logloss:0.24908\n",
            "[20]\ttrain-logloss:0.02259\teval-logloss:0.24114\n",
            "[21]\ttrain-logloss:0.02103\teval-logloss:0.23698\n",
            "[22]\ttrain-logloss:0.01962\teval-logloss:0.23436\n",
            "[23]\ttrain-logloss:0.01836\teval-logloss:0.23356\n",
            "[24]\ttrain-logloss:0.01730\teval-logloss:0.23378\n",
            "[25]\ttrain-logloss:0.01632\teval-logloss:0.22813\n",
            "[26]\ttrain-logloss:0.01552\teval-logloss:0.23031\n",
            "[27]\ttrain-logloss:0.01476\teval-logloss:0.23223\n",
            "[28]\ttrain-logloss:0.01403\teval-logloss:0.23454\n",
            "[29]\ttrain-logloss:0.01336\teval-logloss:0.23161\n",
            "[30]\ttrain-logloss:0.01277\teval-logloss:0.23011\n",
            "[31]\ttrain-logloss:0.01233\teval-logloss:0.23006\n",
            "[32]\ttrain-logloss:0.01181\teval-logloss:0.22757\n",
            "[33]\ttrain-logloss:0.01139\teval-logloss:0.22803\n",
            "[34]\ttrain-logloss:0.01094\teval-logloss:0.22335\n",
            "[35]\ttrain-logloss:0.01058\teval-logloss:0.22330\n",
            "[36]\ttrain-logloss:0.01027\teval-logloss:0.22293\n",
            "[37]\ttrain-logloss:0.00995\teval-logloss:0.22151\n",
            "[38]\ttrain-logloss:0.00964\teval-logloss:0.22276\n",
            "[39]\ttrain-logloss:0.00936\teval-logloss:0.22123\n",
            "[40]\ttrain-logloss:0.00911\teval-logloss:0.22252\n",
            "[41]\ttrain-logloss:0.00890\teval-logloss:0.22205\n",
            "[42]\ttrain-logloss:0.00872\teval-logloss:0.22165\n",
            "[43]\ttrain-logloss:0.00850\teval-logloss:0.22186\n",
            "[44]\ttrain-logloss:0.00834\teval-logloss:0.22214\n",
            "[45]\ttrain-logloss:0.00814\teval-logloss:0.22227\n",
            "[46]\ttrain-logloss:0.00798\teval-logloss:0.22277\n",
            "[47]\ttrain-logloss:0.00779\teval-logloss:0.22003\n",
            "[48]\ttrain-logloss:0.00765\teval-logloss:0.21852\n",
            "[49]\ttrain-logloss:0.00751\teval-logloss:0.21727\n",
            "[50]\ttrain-logloss:0.00735\teval-logloss:0.21781\n",
            "[51]\ttrain-logloss:0.00722\teval-logloss:0.21771\n",
            "[52]\ttrain-logloss:0.00706\teval-logloss:0.21668\n",
            "[53]\ttrain-logloss:0.00691\teval-logloss:0.21625\n",
            "[54]\ttrain-logloss:0.00682\teval-logloss:0.21651\n",
            "[55]\ttrain-logloss:0.00672\teval-logloss:0.21583\n",
            "[56]\ttrain-logloss:0.00663\teval-logloss:0.21460\n",
            "[57]\ttrain-logloss:0.00655\teval-logloss:0.21442\n",
            "[58]\ttrain-logloss:0.00647\teval-logloss:0.21528\n",
            "[59]\ttrain-logloss:0.00638\teval-logloss:0.21481\n",
            "[60]\ttrain-logloss:0.00627\teval-logloss:0.21470\n",
            "[61]\ttrain-logloss:0.00619\teval-logloss:0.21411\n",
            "[62]\ttrain-logloss:0.00610\teval-logloss:0.21483\n",
            "[63]\ttrain-logloss:0.00603\teval-logloss:0.21232\n",
            "[64]\ttrain-logloss:0.00595\teval-logloss:0.21223\n",
            "[65]\ttrain-logloss:0.00587\teval-logloss:0.21246\n",
            "[66]\ttrain-logloss:0.00581\teval-logloss:0.21238\n",
            "[67]\ttrain-logloss:0.00574\teval-logloss:0.21219\n",
            "[68]\ttrain-logloss:0.00568\teval-logloss:0.21121\n",
            "[69]\ttrain-logloss:0.00561\teval-logloss:0.21192\n",
            "[70]\ttrain-logloss:0.00554\teval-logloss:0.20977\n",
            "[71]\ttrain-logloss:0.00548\teval-logloss:0.20713\n",
            "[72]\ttrain-logloss:0.00542\teval-logloss:0.20659\n",
            "[73]\ttrain-logloss:0.00535\teval-logloss:0.20703\n",
            "[74]\ttrain-logloss:0.00529\teval-logloss:0.20724\n",
            "[75]\ttrain-logloss:0.00524\teval-logloss:0.20905\n",
            "[76]\ttrain-logloss:0.00517\teval-logloss:0.20856\n",
            "[77]\ttrain-logloss:0.00511\teval-logloss:0.20905\n",
            "[78]\ttrain-logloss:0.00506\teval-logloss:0.20956\n",
            "[79]\ttrain-logloss:0.00500\teval-logloss:0.20984\n",
            "[80]\ttrain-logloss:0.00494\teval-logloss:0.21069\n",
            "[81]\ttrain-logloss:0.00489\teval-logloss:0.21026\n",
            "[82]\ttrain-logloss:0.00484\teval-logloss:0.20949\n",
            "[83]\ttrain-logloss:0.00482\teval-logloss:0.20983\n",
            "[84]\ttrain-logloss:0.00479\teval-logloss:0.20952\n",
            "[85]\ttrain-logloss:0.00477\teval-logloss:0.20885\n",
            "[86]\ttrain-logloss:0.00475\teval-logloss:0.20820\n",
            "[87]\ttrain-logloss:0.00470\teval-logloss:0.20874\n",
            "[88]\ttrain-logloss:0.00468\teval-logloss:0.20766\n",
            "[89]\ttrain-logloss:0.00464\teval-logloss:0.20748\n",
            "[90]\ttrain-logloss:0.00462\teval-logloss:0.20690\n",
            "[91]\ttrain-logloss:0.00458\teval-logloss:0.20751\n",
            "[92]\ttrain-logloss:0.00456\teval-logloss:0.20783\n",
            "[93]\ttrain-logloss:0.00451\teval-logloss:0.20684\n",
            "[94]\ttrain-logloss:0.00449\teval-logloss:0.20652\n",
            "[95]\ttrain-logloss:0.00445\teval-logloss:0.20690\n",
            "[96]\ttrain-logloss:0.00442\teval-logloss:0.20714\n",
            "[97]\ttrain-logloss:0.00440\teval-logloss:0.20739\n",
            "[98]\ttrain-logloss:0.00438\teval-logloss:0.20832\n",
            "[99]\ttrain-logloss:0.00436\teval-logloss:0.20754\n",
            "[100]\ttrain-logloss:0.00434\teval-logloss:0.20782\n",
            "[101]\ttrain-logloss:0.00432\teval-logloss:0.20673\n",
            "[102]\ttrain-logloss:0.00431\teval-logloss:0.20525\n",
            "[103]\ttrain-logloss:0.00429\teval-logloss:0.20566\n",
            "[104]\ttrain-logloss:0.00427\teval-logloss:0.20533\n",
            "[105]\ttrain-logloss:0.00425\teval-logloss:0.20481\n",
            "[106]\ttrain-logloss:0.00424\teval-logloss:0.20456\n",
            "[107]\ttrain-logloss:0.00422\teval-logloss:0.20488\n",
            "[108]\ttrain-logloss:0.00421\teval-logloss:0.20559\n",
            "[109]\ttrain-logloss:0.00419\teval-logloss:0.20565\n",
            "[110]\ttrain-logloss:0.00417\teval-logloss:0.20627\n",
            "[111]\ttrain-logloss:0.00416\teval-logloss:0.20590\n",
            "[112]\ttrain-logloss:0.00414\teval-logloss:0.20588\n",
            "[113]\ttrain-logloss:0.00412\teval-logloss:0.20555\n",
            "[114]\ttrain-logloss:0.00411\teval-logloss:0.20442\n",
            "[115]\ttrain-logloss:0.00409\teval-logloss:0.20400\n",
            "[116]\ttrain-logloss:0.00408\teval-logloss:0.20395\n",
            "[117]\ttrain-logloss:0.00406\teval-logloss:0.20419\n",
            "[118]\ttrain-logloss:0.00405\teval-logloss:0.20400\n",
            "[119]\ttrain-logloss:0.00403\teval-logloss:0.20266\n",
            "[120]\ttrain-logloss:0.00401\teval-logloss:0.20249\n",
            "[121]\ttrain-logloss:0.00400\teval-logloss:0.20256\n",
            "[122]\ttrain-logloss:0.00398\teval-logloss:0.20236\n",
            "[123]\ttrain-logloss:0.00397\teval-logloss:0.20237\n",
            "[124]\ttrain-logloss:0.00395\teval-logloss:0.20228\n",
            "[125]\ttrain-logloss:0.00394\teval-logloss:0.20202\n",
            "[126]\ttrain-logloss:0.00393\teval-logloss:0.20233\n",
            "[127]\ttrain-logloss:0.00391\teval-logloss:0.20304\n",
            "[128]\ttrain-logloss:0.00390\teval-logloss:0.20362\n",
            "[129]\ttrain-logloss:0.00388\teval-logloss:0.20295\n",
            "[130]\ttrain-logloss:0.00387\teval-logloss:0.20380\n",
            "[131]\ttrain-logloss:0.00385\teval-logloss:0.20427\n",
            "[132]\ttrain-logloss:0.00384\teval-logloss:0.20413\n",
            "[133]\ttrain-logloss:0.00383\teval-logloss:0.20452\n",
            "[134]\ttrain-logloss:0.00381\teval-logloss:0.20392\n",
            "[135]\ttrain-logloss:0.00380\teval-logloss:0.20385\n",
            "[136]\ttrain-logloss:0.00379\teval-logloss:0.20280\n",
            "[137]\ttrain-logloss:0.00377\teval-logloss:0.20291\n",
            "[138]\ttrain-logloss:0.00376\teval-logloss:0.20238\n",
            "[139]\ttrain-logloss:0.00375\teval-logloss:0.20212\n",
            "[140]\ttrain-logloss:0.00373\teval-logloss:0.20254\n",
            "[141]\ttrain-logloss:0.00372\teval-logloss:0.20132\n",
            "[142]\ttrain-logloss:0.00371\teval-logloss:0.20172\n",
            "[143]\ttrain-logloss:0.00370\teval-logloss:0.20134\n",
            "[144]\ttrain-logloss:0.00368\teval-logloss:0.20068\n",
            "[145]\ttrain-logloss:0.00367\teval-logloss:0.20005\n",
            "[146]\ttrain-logloss:0.00366\teval-logloss:0.20032\n",
            "[147]\ttrain-logloss:0.00365\teval-logloss:0.20071\n",
            "[148]\ttrain-logloss:0.00363\teval-logloss:0.20089\n",
            "[149]\ttrain-logloss:0.00362\teval-logloss:0.20102\n",
            "[150]\ttrain-logloss:0.00361\teval-logloss:0.20094\n",
            "[151]\ttrain-logloss:0.00360\teval-logloss:0.20132\n",
            "[152]\ttrain-logloss:0.00359\teval-logloss:0.20145\n",
            "[153]\ttrain-logloss:0.00358\teval-logloss:0.20180\n",
            "[154]\ttrain-logloss:0.00356\teval-logloss:0.20137\n",
            "[155]\ttrain-logloss:0.00355\teval-logloss:0.20116\n",
            "[156]\ttrain-logloss:0.00354\teval-logloss:0.20110\n",
            "[157]\ttrain-logloss:0.00353\teval-logloss:0.20097\n",
            "[158]\ttrain-logloss:0.00352\teval-logloss:0.20121\n",
            "[159]\ttrain-logloss:0.00351\teval-logloss:0.20073\n",
            "[160]\ttrain-logloss:0.00349\teval-logloss:0.20063\n",
            "[161]\ttrain-logloss:0.00348\teval-logloss:0.20160\n",
            "[162]\ttrain-logloss:0.00347\teval-logloss:0.20155\n",
            "[163]\ttrain-logloss:0.00346\teval-logloss:0.20195\n",
            "[164]\ttrain-logloss:0.00345\teval-logloss:0.20166\n",
            "[165]\ttrain-logloss:0.00344\teval-logloss:0.20149\n",
            "[166]\ttrain-logloss:0.00343\teval-logloss:0.20175\n",
            "[167]\ttrain-logloss:0.00342\teval-logloss:0.20180\n",
            "[168]\ttrain-logloss:0.00341\teval-logloss:0.20243\n",
            "[169]\ttrain-logloss:0.00340\teval-logloss:0.20149\n",
            "[170]\ttrain-logloss:0.00339\teval-logloss:0.20039\n",
            "[171]\ttrain-logloss:0.00338\teval-logloss:0.20032\n",
            "[172]\ttrain-logloss:0.00337\teval-logloss:0.20020\n",
            "[173]\ttrain-logloss:0.00336\teval-logloss:0.19999\n",
            "[174]\ttrain-logloss:0.00335\teval-logloss:0.19910\n",
            "[175]\ttrain-logloss:0.00334\teval-logloss:0.19930\n",
            "[176]\ttrain-logloss:0.00333\teval-logloss:0.19941\n",
            "[177]\ttrain-logloss:0.00332\teval-logloss:0.19978\n",
            "[178]\ttrain-logloss:0.00331\teval-logloss:0.19892\n",
            "[179]\ttrain-logloss:0.00330\teval-logloss:0.19936\n",
            "[180]\ttrain-logloss:0.00329\teval-logloss:0.19927\n",
            "[181]\ttrain-logloss:0.00328\teval-logloss:0.19936\n",
            "[182]\ttrain-logloss:0.00327\teval-logloss:0.19933\n",
            "[183]\ttrain-logloss:0.00327\teval-logloss:0.19928\n",
            "[184]\ttrain-logloss:0.00326\teval-logloss:0.19970\n",
            "[185]\ttrain-logloss:0.00325\teval-logloss:0.19952\n",
            "[186]\ttrain-logloss:0.00324\teval-logloss:0.20005\n",
            "[187]\ttrain-logloss:0.00323\teval-logloss:0.20079\n",
            "[188]\ttrain-logloss:0.00322\teval-logloss:0.20052\n",
            "[189]\ttrain-logloss:0.00321\teval-logloss:0.20044\n",
            "[190]\ttrain-logloss:0.00320\teval-logloss:0.20008\n",
            "[191]\ttrain-logloss:0.00319\teval-logloss:0.20017\n",
            "[192]\ttrain-logloss:0.00318\teval-logloss:0.20025\n",
            "[193]\ttrain-logloss:0.00318\teval-logloss:0.19983\n",
            "[194]\ttrain-logloss:0.00317\teval-logloss:0.19965\n",
            "[195]\ttrain-logloss:0.00316\teval-logloss:0.19956\n",
            "[196]\ttrain-logloss:0.00315\teval-logloss:0.19917\n",
            "[197]\ttrain-logloss:0.00314\teval-logloss:0.19906\n",
            "[198]\ttrain-logloss:0.00313\teval-logloss:0.19952\n",
            "[199]\ttrain-logloss:0.00313\teval-logloss:0.19950\n"
          ]
        },
        {
          "output_type": "display_data",
          "data": {
            "text/plain": [
              "<IPython.core.display.HTML object>"
            ],
            "text/html": [
              "Waiting for W&B process to finish... <strong style=\"color:green\">(success).</strong>"
            ]
          },
          "metadata": {}
        },
        {
          "output_type": "display_data",
          "data": {
            "text/plain": [
              "VBox(children=(Label(value='0.018 MB of 0.018 MB uploaded (0.000 MB deduped)\\r'), FloatProgress(value=1.0, max…"
            ],
            "application/vnd.jupyter.widget-view+json": {
              "version_major": 2,
              "version_minor": 0,
              "model_id": "3afd52f6983f46e9aad806b70563e327"
            }
          },
          "metadata": {}
        },
        {
          "output_type": "display_data",
          "data": {
            "text/plain": [
              "<IPython.core.display.HTML object>"
            ],
            "text/html": [
              "<style>\n",
              "    table.wandb td:nth-child(1) { padding: 0 10px; text-align: left ; width: auto;} td:nth-child(2) {text-align: left ; width: 100%}\n",
              "    .wandb-row { display: flex; flex-direction: row; flex-wrap: wrap; justify-content: flex-start; width: 100% }\n",
              "    .wandb-col { display: flex; flex-direction: column; flex-basis: 100%; flex: 1; padding: 10px; }\n",
              "    </style>\n",
              "<div class=\"wandb-row\"><div class=\"wandb-col\"><h3>Run history:</h3><br/><table class=\"wandb\"><tr><td>accuracy</td><td>▁</td></tr><tr><td>epoch</td><td>▁▁▁▁▂▂▂▂▂▃▃▃▃▃▃▄▄▄▄▄▅▅▅▅▅▅▆▆▆▆▆▇▇▇▇▇▇███</td></tr><tr><td>eval-logloss</td><td>█▅▃▂▂▂▂▂▂▂▁▁▁▁▁▁▁▁▁▁▁▁▁▁▁▁▁▁▁▁▁▁▁▁▁▁▁▁▁▁</td></tr><tr><td>f1</td><td>▁</td></tr><tr><td>precision</td><td>▁</td></tr><tr><td>recall</td><td>▁</td></tr><tr><td>train-logloss</td><td>█▄▂▂▁▁▁▁▁▁▁▁▁▁▁▁▁▁▁▁▁▁▁▁▁▁▁▁▁▁▁▁▁▁▁▁▁▁▁▁</td></tr></table><br/></div><div class=\"wandb-col\"><h3>Run summary:</h3><br/><table class=\"wandb\"><tr><td>accuracy</td><td>0.91061</td></tr><tr><td>epoch</td><td>199</td></tr><tr><td>f1</td><td>0.91489</td></tr><tr><td>precision</td><td>0.93478</td></tr><tr><td>recall</td><td>0.89583</td></tr></table><br/></div></div>"
            ]
          },
          "metadata": {}
        },
        {
          "output_type": "display_data",
          "data": {
            "text/plain": [
              "<IPython.core.display.HTML object>"
            ],
            "text/html": [
              "Synced <strong style=\"color:#cdcd00\">sbert-mpnet-v2-biggraph128-xgb-fold-0</strong>: <a href=\"https://wandb.ai/saloniteam/nofolds/runs/2ogcrjls\" target=\"_blank\">https://wandb.ai/saloniteam/nofolds/runs/2ogcrjls</a><br/>Synced 5 W&B file(s), 2 media file(s), 2 artifact file(s) and 0 other file(s)"
            ]
          },
          "metadata": {}
        },
        {
          "output_type": "display_data",
          "data": {
            "text/plain": [
              "<IPython.core.display.HTML object>"
            ],
            "text/html": [
              "Find logs at: <code>./wandb/run-20220917_095637-2ogcrjls/logs</code>"
            ]
          },
          "metadata": {}
        }
      ]
    }
  ]
}