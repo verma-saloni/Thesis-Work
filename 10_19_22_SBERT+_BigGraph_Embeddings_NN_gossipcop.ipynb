{
  "nbformat": 4,
  "nbformat_minor": 0,
  "metadata": {
    "colab": {
      "provenance": [],
      "collapsed_sections": [],
      "include_colab_link": true
    },
    "kernelspec": {
      "name": "python3",
      "display_name": "Python 3"
    },
    "language_info": {
      "name": "python"
    },
    "widgets": {
      "application/vnd.jupyter.widget-state+json": {
        "dd175d2573364770be52f3453f308094": {
          "model_module": "@jupyter-widgets/controls",
          "model_name": "VBoxModel",
          "model_module_version": "1.5.0",
          "state": {
            "_dom_classes": [],
            "_model_module": "@jupyter-widgets/controls",
            "_model_module_version": "1.5.0",
            "_model_name": "VBoxModel",
            "_view_count": null,
            "_view_module": "@jupyter-widgets/controls",
            "_view_module_version": "1.5.0",
            "_view_name": "VBoxView",
            "box_style": "",
            "children": [
              "IPY_MODEL_d4307aabbff24ff5b4b0fbf76e18a8d2",
              "IPY_MODEL_67ddae2631154ff9b01c64792c804fbf"
            ],
            "layout": "IPY_MODEL_c2d79b5f25524f288c6cbb5a71cd38d3"
          }
        },
        "d4307aabbff24ff5b4b0fbf76e18a8d2": {
          "model_module": "@jupyter-widgets/controls",
          "model_name": "LabelModel",
          "model_module_version": "1.5.0",
          "state": {
            "_dom_classes": [],
            "_model_module": "@jupyter-widgets/controls",
            "_model_module_version": "1.5.0",
            "_model_name": "LabelModel",
            "_view_count": null,
            "_view_module": "@jupyter-widgets/controls",
            "_view_module_version": "1.5.0",
            "_view_name": "LabelView",
            "description": "",
            "description_tooltip": null,
            "layout": "IPY_MODEL_46ed9161bb484f3b9f29abdc8f10cc6a",
            "placeholder": "​",
            "style": "IPY_MODEL_556ffcfb4b8b4fb190ef9d9b6db317d4",
            "value": "21.840 MB of 21.840 MB uploaded (0.007 MB deduped)\r"
          }
        },
        "67ddae2631154ff9b01c64792c804fbf": {
          "model_module": "@jupyter-widgets/controls",
          "model_name": "FloatProgressModel",
          "model_module_version": "1.5.0",
          "state": {
            "_dom_classes": [],
            "_model_module": "@jupyter-widgets/controls",
            "_model_module_version": "1.5.0",
            "_model_name": "FloatProgressModel",
            "_view_count": null,
            "_view_module": "@jupyter-widgets/controls",
            "_view_module_version": "1.5.0",
            "_view_name": "ProgressView",
            "bar_style": "",
            "description": "",
            "description_tooltip": null,
            "layout": "IPY_MODEL_2d1e4e85c944425fa58d780821d56f44",
            "max": 1,
            "min": 0,
            "orientation": "horizontal",
            "style": "IPY_MODEL_8c0a3e8a0d4340f5afec74885ed39cc0",
            "value": 1
          }
        },
        "c2d79b5f25524f288c6cbb5a71cd38d3": {
          "model_module": "@jupyter-widgets/base",
          "model_name": "LayoutModel",
          "model_module_version": "1.2.0",
          "state": {
            "_model_module": "@jupyter-widgets/base",
            "_model_module_version": "1.2.0",
            "_model_name": "LayoutModel",
            "_view_count": null,
            "_view_module": "@jupyter-widgets/base",
            "_view_module_version": "1.2.0",
            "_view_name": "LayoutView",
            "align_content": null,
            "align_items": null,
            "align_self": null,
            "border": null,
            "bottom": null,
            "display": null,
            "flex": null,
            "flex_flow": null,
            "grid_area": null,
            "grid_auto_columns": null,
            "grid_auto_flow": null,
            "grid_auto_rows": null,
            "grid_column": null,
            "grid_gap": null,
            "grid_row": null,
            "grid_template_areas": null,
            "grid_template_columns": null,
            "grid_template_rows": null,
            "height": null,
            "justify_content": null,
            "justify_items": null,
            "left": null,
            "margin": null,
            "max_height": null,
            "max_width": null,
            "min_height": null,
            "min_width": null,
            "object_fit": null,
            "object_position": null,
            "order": null,
            "overflow": null,
            "overflow_x": null,
            "overflow_y": null,
            "padding": null,
            "right": null,
            "top": null,
            "visibility": null,
            "width": null
          }
        },
        "46ed9161bb484f3b9f29abdc8f10cc6a": {
          "model_module": "@jupyter-widgets/base",
          "model_name": "LayoutModel",
          "model_module_version": "1.2.0",
          "state": {
            "_model_module": "@jupyter-widgets/base",
            "_model_module_version": "1.2.0",
            "_model_name": "LayoutModel",
            "_view_count": null,
            "_view_module": "@jupyter-widgets/base",
            "_view_module_version": "1.2.0",
            "_view_name": "LayoutView",
            "align_content": null,
            "align_items": null,
            "align_self": null,
            "border": null,
            "bottom": null,
            "display": null,
            "flex": null,
            "flex_flow": null,
            "grid_area": null,
            "grid_auto_columns": null,
            "grid_auto_flow": null,
            "grid_auto_rows": null,
            "grid_column": null,
            "grid_gap": null,
            "grid_row": null,
            "grid_template_areas": null,
            "grid_template_columns": null,
            "grid_template_rows": null,
            "height": null,
            "justify_content": null,
            "justify_items": null,
            "left": null,
            "margin": null,
            "max_height": null,
            "max_width": null,
            "min_height": null,
            "min_width": null,
            "object_fit": null,
            "object_position": null,
            "order": null,
            "overflow": null,
            "overflow_x": null,
            "overflow_y": null,
            "padding": null,
            "right": null,
            "top": null,
            "visibility": null,
            "width": null
          }
        },
        "556ffcfb4b8b4fb190ef9d9b6db317d4": {
          "model_module": "@jupyter-widgets/controls",
          "model_name": "DescriptionStyleModel",
          "model_module_version": "1.5.0",
          "state": {
            "_model_module": "@jupyter-widgets/controls",
            "_model_module_version": "1.5.0",
            "_model_name": "DescriptionStyleModel",
            "_view_count": null,
            "_view_module": "@jupyter-widgets/base",
            "_view_module_version": "1.2.0",
            "_view_name": "StyleView",
            "description_width": ""
          }
        },
        "2d1e4e85c944425fa58d780821d56f44": {
          "model_module": "@jupyter-widgets/base",
          "model_name": "LayoutModel",
          "model_module_version": "1.2.0",
          "state": {
            "_model_module": "@jupyter-widgets/base",
            "_model_module_version": "1.2.0",
            "_model_name": "LayoutModel",
            "_view_count": null,
            "_view_module": "@jupyter-widgets/base",
            "_view_module_version": "1.2.0",
            "_view_name": "LayoutView",
            "align_content": null,
            "align_items": null,
            "align_self": null,
            "border": null,
            "bottom": null,
            "display": null,
            "flex": null,
            "flex_flow": null,
            "grid_area": null,
            "grid_auto_columns": null,
            "grid_auto_flow": null,
            "grid_auto_rows": null,
            "grid_column": null,
            "grid_gap": null,
            "grid_row": null,
            "grid_template_areas": null,
            "grid_template_columns": null,
            "grid_template_rows": null,
            "height": null,
            "justify_content": null,
            "justify_items": null,
            "left": null,
            "margin": null,
            "max_height": null,
            "max_width": null,
            "min_height": null,
            "min_width": null,
            "object_fit": null,
            "object_position": null,
            "order": null,
            "overflow": null,
            "overflow_x": null,
            "overflow_y": null,
            "padding": null,
            "right": null,
            "top": null,
            "visibility": null,
            "width": null
          }
        },
        "8c0a3e8a0d4340f5afec74885ed39cc0": {
          "model_module": "@jupyter-widgets/controls",
          "model_name": "ProgressStyleModel",
          "model_module_version": "1.5.0",
          "state": {
            "_model_module": "@jupyter-widgets/controls",
            "_model_module_version": "1.5.0",
            "_model_name": "ProgressStyleModel",
            "_view_count": null,
            "_view_module": "@jupyter-widgets/base",
            "_view_module_version": "1.2.0",
            "_view_name": "StyleView",
            "bar_color": null,
            "description_width": ""
          }
        }
      }
    },
    "accelerator": "GPU"
  },
  "cells": [
    {
      "cell_type": "markdown",
      "metadata": {
        "id": "view-in-github",
        "colab_type": "text"
      },
      "source": [
        "<a href=\"https://colab.research.google.com/github/verma-saloni/Thesis-Work/blob/main/10_19_22_SBERT%2B_BigGraph_Embeddings_NN_gossipcop.ipynb\" target=\"_parent\"><img src=\"https://colab.research.google.com/assets/colab-badge.svg\" alt=\"Open In Colab\"/></a>"
      ]
    },
    {
      "cell_type": "code",
      "source": [
        "#%%capture\n",
        "!pip install -U sentence-transformers wandb"
      ],
      "metadata": {
        "id": "aByzVMdkzqAJ",
        "colab": {
          "base_uri": "https://localhost:8080/"
        },
        "outputId": "6486eafb-de65-41cf-efc3-a80c781f97fb"
      },
      "execution_count": 41,
      "outputs": [
        {
          "output_type": "stream",
          "name": "stdout",
          "text": [
            "Looking in indexes: https://pypi.org/simple, https://us-python.pkg.dev/colab-wheels/public/simple/\n",
            "Requirement already satisfied: sentence-transformers in /usr/local/lib/python3.7/dist-packages (2.2.2)\n",
            "Requirement already satisfied: wandb in /usr/local/lib/python3.7/dist-packages (0.13.4)\n",
            "Requirement already satisfied: scikit-learn in /usr/local/lib/python3.7/dist-packages (from sentence-transformers) (1.0.2)\n",
            "Requirement already satisfied: numpy in /usr/local/lib/python3.7/dist-packages (from sentence-transformers) (1.21.6)\n",
            "Requirement already satisfied: nltk in /usr/local/lib/python3.7/dist-packages (from sentence-transformers) (3.7)\n",
            "Requirement already satisfied: torch>=1.6.0 in /usr/local/lib/python3.7/dist-packages (from sentence-transformers) (1.12.1+cu113)\n",
            "Requirement already satisfied: transformers<5.0.0,>=4.6.0 in /usr/local/lib/python3.7/dist-packages (from sentence-transformers) (4.23.1)\n",
            "Requirement already satisfied: torchvision in /usr/local/lib/python3.7/dist-packages (from sentence-transformers) (0.13.1+cu113)\n",
            "Requirement already satisfied: scipy in /usr/local/lib/python3.7/dist-packages (from sentence-transformers) (1.7.3)\n",
            "Requirement already satisfied: sentencepiece in /usr/local/lib/python3.7/dist-packages (from sentence-transformers) (0.1.97)\n",
            "Requirement already satisfied: huggingface-hub>=0.4.0 in /usr/local/lib/python3.7/dist-packages (from sentence-transformers) (0.10.1)\n",
            "Requirement already satisfied: tqdm in /usr/local/lib/python3.7/dist-packages (from sentence-transformers) (4.64.1)\n",
            "Requirement already satisfied: typing-extensions>=3.7.4.3 in /usr/local/lib/python3.7/dist-packages (from huggingface-hub>=0.4.0->sentence-transformers) (4.1.1)\n",
            "Requirement already satisfied: importlib-metadata in /usr/local/lib/python3.7/dist-packages (from huggingface-hub>=0.4.0->sentence-transformers) (4.13.0)\n",
            "Requirement already satisfied: packaging>=20.9 in /usr/local/lib/python3.7/dist-packages (from huggingface-hub>=0.4.0->sentence-transformers) (21.3)\n",
            "Requirement already satisfied: requests in /usr/local/lib/python3.7/dist-packages (from huggingface-hub>=0.4.0->sentence-transformers) (2.23.0)\n",
            "Requirement already satisfied: filelock in /usr/local/lib/python3.7/dist-packages (from huggingface-hub>=0.4.0->sentence-transformers) (3.8.0)\n",
            "Requirement already satisfied: pyyaml>=5.1 in /usr/local/lib/python3.7/dist-packages (from huggingface-hub>=0.4.0->sentence-transformers) (6.0)\n",
            "Requirement already satisfied: pyparsing!=3.0.5,>=2.0.2 in /usr/local/lib/python3.7/dist-packages (from packaging>=20.9->huggingface-hub>=0.4.0->sentence-transformers) (3.0.9)\n",
            "Requirement already satisfied: regex!=2019.12.17 in /usr/local/lib/python3.7/dist-packages (from transformers<5.0.0,>=4.6.0->sentence-transformers) (2022.6.2)\n",
            "Requirement already satisfied: tokenizers!=0.11.3,<0.14,>=0.11.1 in /usr/local/lib/python3.7/dist-packages (from transformers<5.0.0,>=4.6.0->sentence-transformers) (0.13.1)\n",
            "Requirement already satisfied: setuptools in /usr/local/lib/python3.7/dist-packages (from wandb) (57.4.0)\n",
            "Requirement already satisfied: promise<3,>=2.0 in /usr/local/lib/python3.7/dist-packages (from wandb) (2.3)\n",
            "Requirement already satisfied: pathtools in /usr/local/lib/python3.7/dist-packages (from wandb) (0.1.2)\n",
            "Requirement already satisfied: psutil>=5.0.0 in /usr/local/lib/python3.7/dist-packages (from wandb) (5.4.8)\n",
            "Requirement already satisfied: protobuf!=4.0.*,!=4.21.0,<5,>=3.12.0 in /usr/local/lib/python3.7/dist-packages (from wandb) (3.17.3)\n",
            "Requirement already satisfied: setproctitle in /usr/local/lib/python3.7/dist-packages (from wandb) (1.3.2)\n",
            "Requirement already satisfied: docker-pycreds>=0.4.0 in /usr/local/lib/python3.7/dist-packages (from wandb) (0.4.0)\n",
            "Requirement already satisfied: Click!=8.0.0,>=7.0 in /usr/local/lib/python3.7/dist-packages (from wandb) (7.1.2)\n",
            "Requirement already satisfied: GitPython>=1.0.0 in /usr/local/lib/python3.7/dist-packages (from wandb) (3.1.29)\n",
            "Requirement already satisfied: six>=1.13.0 in /usr/local/lib/python3.7/dist-packages (from wandb) (1.15.0)\n",
            "Requirement already satisfied: sentry-sdk>=1.0.0 in /usr/local/lib/python3.7/dist-packages (from wandb) (1.9.0)\n",
            "Requirement already satisfied: shortuuid>=0.5.0 in /usr/local/lib/python3.7/dist-packages (from wandb) (1.0.9)\n",
            "Requirement already satisfied: gitdb<5,>=4.0.1 in /usr/local/lib/python3.7/dist-packages (from GitPython>=1.0.0->wandb) (4.0.9)\n",
            "Requirement already satisfied: smmap<6,>=3.0.1 in /usr/local/lib/python3.7/dist-packages (from gitdb<5,>=4.0.1->GitPython>=1.0.0->wandb) (5.0.0)\n",
            "Requirement already satisfied: chardet<4,>=3.0.2 in /usr/local/lib/python3.7/dist-packages (from requests->huggingface-hub>=0.4.0->sentence-transformers) (3.0.4)\n",
            "Requirement already satisfied: urllib3!=1.25.0,!=1.25.1,<1.26,>=1.21.1 in /usr/local/lib/python3.7/dist-packages (from requests->huggingface-hub>=0.4.0->sentence-transformers) (1.24.3)\n",
            "Requirement already satisfied: idna<3,>=2.5 in /usr/local/lib/python3.7/dist-packages (from requests->huggingface-hub>=0.4.0->sentence-transformers) (2.10)\n",
            "Requirement already satisfied: certifi>=2017.4.17 in /usr/local/lib/python3.7/dist-packages (from requests->huggingface-hub>=0.4.0->sentence-transformers) (2022.9.24)\n",
            "Requirement already satisfied: zipp>=0.5 in /usr/local/lib/python3.7/dist-packages (from importlib-metadata->huggingface-hub>=0.4.0->sentence-transformers) (3.9.0)\n",
            "Requirement already satisfied: joblib in /usr/local/lib/python3.7/dist-packages (from nltk->sentence-transformers) (1.2.0)\n",
            "Requirement already satisfied: threadpoolctl>=2.0.0 in /usr/local/lib/python3.7/dist-packages (from scikit-learn->sentence-transformers) (3.1.0)\n",
            "Requirement already satisfied: pillow!=8.3.*,>=5.3.0 in /usr/local/lib/python3.7/dist-packages (from torchvision->sentence-transformers) (7.1.2)\n"
          ]
        }
      ]
    },
    {
      "cell_type": "markdown",
      "source": [
        "The notebook for Gossipcop. (Similar one present for Politifact is already saved in the Drive and on Github) "
      ],
      "metadata": {
        "id": "sEes5Jav2t9e"
      }
    },
    {
      "cell_type": "code",
      "execution_count": 42,
      "metadata": {
        "id": "8wffusyCytsx"
      },
      "outputs": [],
      "source": [
        "from pathlib import Path\n",
        "import numpy as np\n",
        "import pandas as pd\n",
        "import re\n",
        "import json\n",
        "\n",
        "from sentence_transformers import SentenceTransformer \n",
        "\n",
        "from sklearn.model_selection import StratifiedKFold\n",
        "from sklearn.metrics import accuracy_score, f1_score, precision_score, recall_score\n",
        "\n",
        "import wandb\n",
        "from wandb.keras import WandbCallback\n",
        "from IPython.display import clear_output"
      ]
    },
    {
      "cell_type": "code",
      "source": [
        "metrics = [accuracy_score, f1_score, precision_score, recall_score]\n",
        "\n",
        "def get_name(score_func):\n",
        "    return 'eval/' + score_func.__name__.split(\"_\")[0]"
      ],
      "metadata": {
        "id": "oUUMZeWMuZXE"
      },
      "execution_count": 43,
      "outputs": []
    },
    {
      "cell_type": "markdown",
      "source": [
        "# Load data"
      ],
      "metadata": {
        "id": "R_4mZElNIVb5"
      }
    },
    {
      "cell_type": "code",
      "source": [
        "from google.colab import drive\n",
        "drive.mount('/content/drive')\n",
        "\n",
        "base_dir = Path(\"/content/drive/MyDrive/ResearchFND\")\n",
        "assert base_dir.exists()"
      ],
      "metadata": {
        "id": "UxNEaltli8H_",
        "colab": {
          "base_uri": "https://localhost:8080/"
        },
        "outputId": "7a5d8ed9-c538-474e-d73f-0147b28f2211"
      },
      "execution_count": 44,
      "outputs": [
        {
          "output_type": "stream",
          "name": "stdout",
          "text": [
            "Drive already mounted at /content/drive; to attempt to forcibly remount, call drive.mount(\"/content/drive\", force_remount=True).\n"
          ]
        }
      ]
    },
    {
      "cell_type": "code",
      "source": [
        "dataset_id = 'gossipcop'"
      ],
      "metadata": {
        "id": "GdnjXaSwE46w"
      },
      "execution_count": 45,
      "outputs": []
    },
    {
      "cell_type": "code",
      "source": [
        "import ast\n",
        "\n",
        "converters = {\"retweets\":ast.literal_eval, \"tweets\":ast.literal_eval}\n",
        "df = pd.read_csv(base_dir/f\"{dataset_id}_agg.csv\", converters=converters)\n",
        "df.head()"
      ],
      "metadata": {
        "id": "2YYgYvwB7nkO",
        "colab": {
          "base_uri": "https://localhost:8080/",
          "height": 337
        },
        "outputId": "b0ad9302-72c0-4f14-b8d8-ec64d92d3e97"
      },
      "execution_count": 46,
      "outputs": [
        {
          "output_type": "execute_result",
          "data": {
            "text/plain": [
              "                                               title text  \\\n",
              "0      Kendall   Kylie Jenner Jenner NOT Upset Up...  NaN   \n",
              "1      Kim Kardashian Dethroned Dethroned By Khlo...  NaN   \n",
              "2      Kim Kardashian Did NOT Hot Staffer Hot Sta...  NaN   \n",
              "3      The Voice The Voice Team NOT Surprised Sur...  NaN   \n",
              "4     Drake NOT Angelina Jolie s Toy Boy Toy Boy ...  NaN   \n",
              "\n",
              "                                              tweets  \\\n",
              "0                                                 []   \n",
              "1                                                 []   \n",
              "2                                                 []   \n",
              "3                                                 []   \n",
              "4  [{'id': 948630026496323585, 'text': 'Drake NOT...   \n",
              "\n",
              "                                            retweets label  url  num_retweets  \\\n",
              "0  [995423424741888001, 995461685166202880, 99987...  fake  NaN             3   \n",
              "1  [848843565027516416, 849030801970868224, 84884...  fake  NaN             3   \n",
              "2  [940685393112064001, 977921622672920576, 94031...  fake  NaN             8   \n",
              "3                                                 []  fake  NaN             0   \n",
              "4  [948022124626808832, 948630026496323585, 94801...  fake  NaN            18   \n",
              "\n",
              "   log_num_retweets  num_tweets  log_num_tweets  \n",
              "0          1.386294           0        0.000000  \n",
              "1          1.386294           0        0.000000  \n",
              "2          2.197225           0        0.000000  \n",
              "3          0.000000           0        0.000000  \n",
              "4          2.944439           7        2.079442  "
            ],
            "text/html": [
              "\n",
              "  <div id=\"df-db252da3-1507-43fd-8fe5-733bda6e5777\">\n",
              "    <div class=\"colab-df-container\">\n",
              "      <div>\n",
              "<style scoped>\n",
              "    .dataframe tbody tr th:only-of-type {\n",
              "        vertical-align: middle;\n",
              "    }\n",
              "\n",
              "    .dataframe tbody tr th {\n",
              "        vertical-align: top;\n",
              "    }\n",
              "\n",
              "    .dataframe thead th {\n",
              "        text-align: right;\n",
              "    }\n",
              "</style>\n",
              "<table border=\"1\" class=\"dataframe\">\n",
              "  <thead>\n",
              "    <tr style=\"text-align: right;\">\n",
              "      <th></th>\n",
              "      <th>title</th>\n",
              "      <th>text</th>\n",
              "      <th>tweets</th>\n",
              "      <th>retweets</th>\n",
              "      <th>label</th>\n",
              "      <th>url</th>\n",
              "      <th>num_retweets</th>\n",
              "      <th>log_num_retweets</th>\n",
              "      <th>num_tweets</th>\n",
              "      <th>log_num_tweets</th>\n",
              "    </tr>\n",
              "  </thead>\n",
              "  <tbody>\n",
              "    <tr>\n",
              "      <th>0</th>\n",
              "      <td>Kendall   Kylie Jenner Jenner NOT Upset Up...</td>\n",
              "      <td>NaN</td>\n",
              "      <td>[]</td>\n",
              "      <td>[995423424741888001, 995461685166202880, 99987...</td>\n",
              "      <td>fake</td>\n",
              "      <td>NaN</td>\n",
              "      <td>3</td>\n",
              "      <td>1.386294</td>\n",
              "      <td>0</td>\n",
              "      <td>0.000000</td>\n",
              "    </tr>\n",
              "    <tr>\n",
              "      <th>1</th>\n",
              "      <td>Kim Kardashian Dethroned Dethroned By Khlo...</td>\n",
              "      <td>NaN</td>\n",
              "      <td>[]</td>\n",
              "      <td>[848843565027516416, 849030801970868224, 84884...</td>\n",
              "      <td>fake</td>\n",
              "      <td>NaN</td>\n",
              "      <td>3</td>\n",
              "      <td>1.386294</td>\n",
              "      <td>0</td>\n",
              "      <td>0.000000</td>\n",
              "    </tr>\n",
              "    <tr>\n",
              "      <th>2</th>\n",
              "      <td>Kim Kardashian Did NOT Hot Staffer Hot Sta...</td>\n",
              "      <td>NaN</td>\n",
              "      <td>[]</td>\n",
              "      <td>[940685393112064001, 977921622672920576, 94031...</td>\n",
              "      <td>fake</td>\n",
              "      <td>NaN</td>\n",
              "      <td>8</td>\n",
              "      <td>2.197225</td>\n",
              "      <td>0</td>\n",
              "      <td>0.000000</td>\n",
              "    </tr>\n",
              "    <tr>\n",
              "      <th>3</th>\n",
              "      <td>The Voice The Voice Team NOT Surprised Sur...</td>\n",
              "      <td>NaN</td>\n",
              "      <td>[]</td>\n",
              "      <td>[]</td>\n",
              "      <td>fake</td>\n",
              "      <td>NaN</td>\n",
              "      <td>0</td>\n",
              "      <td>0.000000</td>\n",
              "      <td>0</td>\n",
              "      <td>0.000000</td>\n",
              "    </tr>\n",
              "    <tr>\n",
              "      <th>4</th>\n",
              "      <td>Drake NOT Angelina Jolie s Toy Boy Toy Boy ...</td>\n",
              "      <td>NaN</td>\n",
              "      <td>[{'id': 948630026496323585, 'text': 'Drake NOT...</td>\n",
              "      <td>[948022124626808832, 948630026496323585, 94801...</td>\n",
              "      <td>fake</td>\n",
              "      <td>NaN</td>\n",
              "      <td>18</td>\n",
              "      <td>2.944439</td>\n",
              "      <td>7</td>\n",
              "      <td>2.079442</td>\n",
              "    </tr>\n",
              "  </tbody>\n",
              "</table>\n",
              "</div>\n",
              "      <button class=\"colab-df-convert\" onclick=\"convertToInteractive('df-db252da3-1507-43fd-8fe5-733bda6e5777')\"\n",
              "              title=\"Convert this dataframe to an interactive table.\"\n",
              "              style=\"display:none;\">\n",
              "        \n",
              "  <svg xmlns=\"http://www.w3.org/2000/svg\" height=\"24px\"viewBox=\"0 0 24 24\"\n",
              "       width=\"24px\">\n",
              "    <path d=\"M0 0h24v24H0V0z\" fill=\"none\"/>\n",
              "    <path d=\"M18.56 5.44l.94 2.06.94-2.06 2.06-.94-2.06-.94-.94-2.06-.94 2.06-2.06.94zm-11 1L8.5 8.5l.94-2.06 2.06-.94-2.06-.94L8.5 2.5l-.94 2.06-2.06.94zm10 10l.94 2.06.94-2.06 2.06-.94-2.06-.94-.94-2.06-.94 2.06-2.06.94z\"/><path d=\"M17.41 7.96l-1.37-1.37c-.4-.4-.92-.59-1.43-.59-.52 0-1.04.2-1.43.59L10.3 9.45l-7.72 7.72c-.78.78-.78 2.05 0 2.83L4 21.41c.39.39.9.59 1.41.59.51 0 1.02-.2 1.41-.59l7.78-7.78 2.81-2.81c.8-.78.8-2.07 0-2.86zM5.41 20L4 18.59l7.72-7.72 1.47 1.35L5.41 20z\"/>\n",
              "  </svg>\n",
              "      </button>\n",
              "      \n",
              "  <style>\n",
              "    .colab-df-container {\n",
              "      display:flex;\n",
              "      flex-wrap:wrap;\n",
              "      gap: 12px;\n",
              "    }\n",
              "\n",
              "    .colab-df-convert {\n",
              "      background-color: #E8F0FE;\n",
              "      border: none;\n",
              "      border-radius: 50%;\n",
              "      cursor: pointer;\n",
              "      display: none;\n",
              "      fill: #1967D2;\n",
              "      height: 32px;\n",
              "      padding: 0 0 0 0;\n",
              "      width: 32px;\n",
              "    }\n",
              "\n",
              "    .colab-df-convert:hover {\n",
              "      background-color: #E2EBFA;\n",
              "      box-shadow: 0px 1px 2px rgba(60, 64, 67, 0.3), 0px 1px 3px 1px rgba(60, 64, 67, 0.15);\n",
              "      fill: #174EA6;\n",
              "    }\n",
              "\n",
              "    [theme=dark] .colab-df-convert {\n",
              "      background-color: #3B4455;\n",
              "      fill: #D2E3FC;\n",
              "    }\n",
              "\n",
              "    [theme=dark] .colab-df-convert:hover {\n",
              "      background-color: #434B5C;\n",
              "      box-shadow: 0px 1px 3px 1px rgba(0, 0, 0, 0.15);\n",
              "      filter: drop-shadow(0px 1px 2px rgba(0, 0, 0, 0.3));\n",
              "      fill: #FFFFFF;\n",
              "    }\n",
              "  </style>\n",
              "\n",
              "      <script>\n",
              "        const buttonEl =\n",
              "          document.querySelector('#df-db252da3-1507-43fd-8fe5-733bda6e5777 button.colab-df-convert');\n",
              "        buttonEl.style.display =\n",
              "          google.colab.kernel.accessAllowed ? 'block' : 'none';\n",
              "\n",
              "        async function convertToInteractive(key) {\n",
              "          const element = document.querySelector('#df-db252da3-1507-43fd-8fe5-733bda6e5777');\n",
              "          const dataTable =\n",
              "            await google.colab.kernel.invokeFunction('convertToInteractive',\n",
              "                                                     [key], {});\n",
              "          if (!dataTable) return;\n",
              "\n",
              "          const docLinkHtml = 'Like what you see? Visit the ' +\n",
              "            '<a target=\"_blank\" href=https://colab.research.google.com/notebooks/data_table.ipynb>data table notebook</a>'\n",
              "            + ' to learn more about interactive tables.';\n",
              "          element.innerHTML = '';\n",
              "          dataTable['output_type'] = 'display_data';\n",
              "          await google.colab.output.renderOutput(dataTable, element);\n",
              "          const docLink = document.createElement('div');\n",
              "          docLink.innerHTML = docLinkHtml;\n",
              "          element.appendChild(docLink);\n",
              "        }\n",
              "      </script>\n",
              "    </div>\n",
              "  </div>\n",
              "  "
            ]
          },
          "metadata": {},
          "execution_count": 46
        }
      ]
    },
    {
      "cell_type": "markdown",
      "source": [
        "# Using the embeddings for title and text from previous experiments"
      ],
      "metadata": {
        "id": "CnksS6trIRdd"
      }
    },
    {
      "cell_type": "code",
      "source": [
        "title_embedding_file = base_dir/f\"{dataset_id}_sbert_title_embeddings.npy\"\n",
        "\n",
        "if title_embedding_file.exists():\n",
        "    title_embeddings = np.load(title_embedding_file)\n",
        "else:\n",
        "    model_id = \"all-mpnet-base-v2\"\n",
        "    model = SentenceTransformer(model_id)\n",
        "    titles = df.title.tolist()\n",
        "    title_embeddings = model.encode(titles, show_progress_bar=True)\n",
        "    np.save(title_embedding_file, title_embeddings)"
      ],
      "metadata": {
        "id": "8H5eVnOyPFam"
      },
      "execution_count": 47,
      "outputs": []
    },
    {
      "cell_type": "code",
      "source": [
        "text_embedding_file = base_dir/f\"{dataset_id}_sbert_fulltext_embeddings.npy\"\n",
        "\n",
        "if text_embedding_file.exists():\n",
        "    text_embeddings = np.load(text_embedding_file)\n",
        "else:\n",
        "    model_id = \"all-mpnet-base-v2\"\n",
        "    model = SentenceTransformer(model_id)\n",
        "    texts = (df.title + \"\\n\" + df.text).tolist()\n",
        "    text_embeddings = model.encode(texts, show_progress_bar=True)\n",
        "    np.save(text_embedding_file, text_embeddings)"
      ],
      "metadata": {
        "id": "Uc88pT1nIRFX"
      },
      "execution_count": 48,
      "outputs": []
    },
    {
      "cell_type": "markdown",
      "source": [
        "# Training - Saving the machine learning model specifications"
      ],
      "metadata": {
        "id": "BIJrjc_jMSmB"
      }
    },
    {
      "cell_type": "code",
      "source": [
        "import tensorflow as tf"
      ],
      "metadata": {
        "id": "crdL5CNX_guQ"
      },
      "execution_count": 49,
      "outputs": []
    },
    {
      "cell_type": "code",
      "source": [
        "def get_model(d_h=64, p_in:float=0.2, p_out:float=0.2):\n",
        "    model = tf.keras.Sequential([\n",
        "        tf.keras.layers.Dropout(p_in), # input dropout\n",
        "        tf.keras.layers.Dense(d_h, activation='relu'),\n",
        "        tf.keras.layers.Dropout(p_out),  \n",
        "        tf.keras.layers.Dense(1)\n",
        "    ])\n",
        "\n",
        "    model.compile(loss=tf.keras.losses.BinaryCrossentropy(from_logits=True), \n",
        "                  optimizer='adam',metrics=['accuracy'])\n",
        "    return model"
      ],
      "metadata": {
        "id": "-_V-I0VdTezQ"
      },
      "execution_count": 50,
      "outputs": []
    },
    {
      "cell_type": "code",
      "source": [
        "def train(fold_id, train_idx, test_idx, params):\n",
        "\n",
        "    # setup\n",
        "    X_train, X_test = X[train_idx], X[test_idx]\n",
        "    y_train, y_test = y[train_idx], y[test_idx]\n",
        "    model = get_model()\n",
        "    # training\n",
        "    ckpt_filepath = f'ckpt/fold_{fold_id}'\n",
        "    save_model_cb = tf.keras.callbacks.ModelCheckpoint(\n",
        "        filepath=ckpt_filepath,\n",
        "        save_weights_only=True,\n",
        "        monitor='val_accuracy',\n",
        "        mode='max',\n",
        "        save_best_only=True)\n",
        "    history = model.fit(\n",
        "        X_train, y_train, validation_data = (X_test, y_test), \n",
        "        batch_size = params['bs'] , epochs=params['epochs'],\n",
        "        callbacks=[WandbCallback(), save_model_cb]\n",
        "    )\n",
        "    #evaluation\n",
        "    model.load_weights(ckpt_filepath)\n",
        "    logits = model.predict(X_test).squeeze()\n",
        "    y_pred = (logits > 0.).astype(int)\n",
        "    eval_results = {get_name(f):f(y_pred=y_pred, y_true=y_test) for f in metrics}\n",
        "    wandb.log(eval_results)\n",
        "    wandb.log({\"conf_mat\" : wandb.plot.confusion_matrix(probs=None,\n",
        "                            y_true=y_test, preds=y_pred,\n",
        "                            class_names=[\"Fake\", \"Real\"])})\n",
        "    return history"
      ],
      "metadata": {
        "id": "d4qbKryd_e3g"
      },
      "execution_count": 51,
      "outputs": []
    },
    {
      "cell_type": "markdown",
      "source": [
        "### PyTorch_BigGraph embeddings"
      ],
      "metadata": {
        "id": "NetZ3uulKwmk"
      }
    },
    {
      "cell_type": "code",
      "source": [
        "edim = 128\n",
        "bg_embeddings = np.load(base_dir/f'{dataset_id}_pt_biggraph_article_embeddings_{edim}.npy')\n",
        "idx = np.load(base_dir/f\"{dataset_id}_pt_biggraph_article_idx_{edim}.npy\")"
      ],
      "metadata": {
        "id": "uQjE8biJFfW8"
      },
      "execution_count": 52,
      "outputs": []
    },
    {
      "cell_type": "code",
      "source": [
        "graph_embeddings = np.zeros((text_embeddings.shape[0], edim))\n",
        "graph_embeddings[idx] = bg_embeddings"
      ],
      "metadata": {
        "id": "NWS6KO7UpUX3"
      },
      "execution_count": 53,
      "outputs": []
    },
    {
      "cell_type": "code",
      "source": [
        "params = {\n",
        "    \"epochs\":600,\n",
        "    \"bs\":128,\n",
        "    # 'lr':1e-3\n",
        "}"
      ],
      "metadata": {
        "id": "zYG-ufSkM92E"
      },
      "execution_count": 54,
      "outputs": []
    },
    {
      "cell_type": "code",
      "source": [
        "X = np.concatenate([\n",
        "    text_embeddings, \n",
        "    df.log_num_retweets.to_numpy()[..., None], \n",
        "    df.log_num_tweets.to_numpy()[..., None],\n",
        "    graph_embeddings], axis=1)\n",
        "y = (df.label==\"real\").to_numpy().astype(int)\n",
        "\n",
        "X.shape, y.shape"
      ],
      "metadata": {
        "colab": {
          "base_uri": "https://localhost:8080/"
        },
        "outputId": "ba559e93-602f-4e12-b9c6-b4ea383df436",
        "id": "NYFQrhVkqGbC"
      },
      "execution_count": 55,
      "outputs": [
        {
          "output_type": "execute_result",
          "data": {
            "text/plain": [
              "((19968, 898), (19968,))"
            ]
          },
          "metadata": {},
          "execution_count": 55
        }
      ]
    },
    {
      "cell_type": "code",
      "source": [
        "skf = StratifiedKFold(shuffle=True, random_state=124)"
      ],
      "metadata": {
        "id": "35HIz5jGM92K"
      },
      "execution_count": 56,
      "outputs": []
    },
    {
      "cell_type": "markdown",
      "source": [
        "Creating a group and logging all train, test data in wandb for better tracking and visualisation."
      ],
      "metadata": {
        "id": "l0wGrjhLM92M"
      }
    },
    {
      "cell_type": "code",
      "source": [
        "WANDB_ENTITY = 'saloniteam'\n",
        "WANDB_PROJECTS = 'nofolds'\n",
        "\n",
        "GROUP = f\"{dataset_id}-fulltext-sbert+tw+ptbg128-mlp-e600\"\n",
        "\n",
        "for fold_id, (train_idx, test_idx) in enumerate(skf.split(X, y)):\n",
        "    clear_output()\n",
        "    with wandb.init(entity=WANDB_ENTITY, project=WANDB_ENTITY, group=GROUP, name=f\"{GROUP}-{fold_id}\") as run:\n",
        "        train(fold_id, train_idx, test_idx, params)\n",
        "    break"
      ],
      "metadata": {
        "colab": {
          "base_uri": "https://localhost:8080/",
          "height": 1000,
          "referenced_widgets": [
            "dd175d2573364770be52f3453f308094",
            "d4307aabbff24ff5b4b0fbf76e18a8d2",
            "67ddae2631154ff9b01c64792c804fbf",
            "c2d79b5f25524f288c6cbb5a71cd38d3",
            "46ed9161bb484f3b9f29abdc8f10cc6a",
            "556ffcfb4b8b4fb190ef9d9b6db317d4",
            "2d1e4e85c944425fa58d780821d56f44",
            "8c0a3e8a0d4340f5afec74885ed39cc0"
          ]
        },
        "outputId": "f2376d69-09ca-43ea-97d1-84e3b9f21c93",
        "id": "BQRR58uNM92O"
      },
      "execution_count": 57,
      "outputs": [
        {
          "output_type": "display_data",
          "data": {
            "text/plain": [
              "<IPython.core.display.HTML object>"
            ],
            "text/html": [
              "Tracking run with wandb version 0.13.4"
            ]
          },
          "metadata": {}
        },
        {
          "output_type": "display_data",
          "data": {
            "text/plain": [
              "<IPython.core.display.HTML object>"
            ],
            "text/html": [
              "Run data is saved locally in <code>/content/wandb/run-20221019_110651-262n1vwp</code>"
            ]
          },
          "metadata": {}
        },
        {
          "output_type": "display_data",
          "data": {
            "text/plain": [
              "<IPython.core.display.HTML object>"
            ],
            "text/html": [
              "Syncing run <strong><a href=\"https://wandb.ai/saloniteam/saloniteam/runs/262n1vwp\" target=\"_blank\">gossipcop-fulltext-sbert+tw+ptbg128-mlp-e600-0</a></strong> to <a href=\"https://wandb.ai/saloniteam/saloniteam\" target=\"_blank\">Weights & Biases</a> (<a href=\"https://wandb.me/run\" target=\"_blank\">docs</a>)<br/>"
            ]
          },
          "metadata": {}
        },
        {
          "output_type": "stream",
          "name": "stdout",
          "text": [
            "Epoch 1/600\n",
            "121/125 [============================>.] - ETA: 0s - loss: 0.4685 - accuracy: 0.7777"
          ]
        },
        {
          "output_type": "stream",
          "name": "stderr",
          "text": [
            "\u001b[34m\u001b[1mwandb\u001b[0m: Adding directory to artifact (/content/wandb/run-20221019_110651-262n1vwp/files/model-best)... Done. 0.1s\n"
          ]
        },
        {
          "output_type": "stream",
          "name": "stdout",
          "text": [
            "\b\b\b\b\b\b\b\b\b\b\b\b\b\b\b\b\b\b\b\b\b\b\b\b\b\b\b\b\b\b\b\b\b\b\b\b\b\b\b\b\b\b\b\b\b\b\b\b\b\b\b\b\b\b\b\b\b\b\b\b\b\b\b\b\b\b\b\b\b\b\b\b\b\b\b\b\b\b\b\b\b\b\b\b\r125/125 [==============================] - 3s 18ms/step - loss: 0.4669 - accuracy: 0.7791 - val_loss: 0.4055 - val_accuracy: 0.8205\n",
            "Epoch 2/600\n",
            "125/125 [==============================] - ETA: 0s - loss: 0.3812 - accuracy: 0.8339"
          ]
        },
        {
          "output_type": "stream",
          "name": "stderr",
          "text": [
            "\u001b[34m\u001b[1mwandb\u001b[0m: Adding directory to artifact (/content/wandb/run-20221019_110651-262n1vwp/files/model-best)... Done. 0.1s\n"
          ]
        },
        {
          "output_type": "stream",
          "name": "stdout",
          "text": [
            "\b\b\b\b\b\b\b\b\b\b\b\b\b\b\b\b\b\b\b\b\b\b\b\b\b\b\b\b\b\b\b\b\b\b\b\b\b\b\b\b\b\b\b\b\b\b\b\b\b\b\b\b\b\b\b\b\b\b\b\b\b\b\b\b\b\b\b\b\b\b\b\b\b\b\b\b\b\b\b\b\b\b\b\b\r125/125 [==============================] - 2s 19ms/step - loss: 0.3812 - accuracy: 0.8339 - val_loss: 0.3818 - val_accuracy: 0.8282\n",
            "Epoch 3/600\n",
            "116/125 [==========================>...] - ETA: 0s - loss: 0.3642 - accuracy: 0.8433"
          ]
        },
        {
          "output_type": "stream",
          "name": "stderr",
          "text": [
            "\u001b[34m\u001b[1mwandb\u001b[0m: Adding directory to artifact (/content/wandb/run-20221019_110651-262n1vwp/files/model-best)... Done. 0.1s\n"
          ]
        },
        {
          "output_type": "stream",
          "name": "stdout",
          "text": [
            "\b\b\b\b\b\b\b\b\b\b\b\b\b\b\b\b\b\b\b\b\b\b\b\b\b\b\b\b\b\b\b\b\b\b\b\b\b\b\b\b\b\b\b\b\b\b\b\b\b\b\b\b\b\b\b\b\b\b\b\b\b\b\b\b\b\b\b\b\b\b\b\b\b\b\b\b\b\b\b\b\b\b\b\b\r125/125 [==============================] - 2s 17ms/step - loss: 0.3629 - accuracy: 0.8436 - val_loss: 0.3721 - val_accuracy: 0.8320\n",
            "Epoch 4/600\n",
            "121/125 [============================>.] - ETA: 0s - loss: 0.3527 - accuracy: 0.8489"
          ]
        },
        {
          "output_type": "stream",
          "name": "stderr",
          "text": [
            "\u001b[34m\u001b[1mwandb\u001b[0m: Adding directory to artifact (/content/wandb/run-20221019_110651-262n1vwp/files/model-best)... Done. 0.1s\n"
          ]
        },
        {
          "output_type": "stream",
          "name": "stdout",
          "text": [
            "\b\b\b\b\b\b\b\b\b\b\b\b\b\b\b\b\b\b\b\b\b\b\b\b\b\b\b\b\b\b\b\b\b\b\b\b\b\b\b\b\b\b\b\b\b\b\b\b\b\b\b\b\b\b\b\b\b\b\b\b\b\b\b\b\b\b\b\b\b\b\b\b\b\b\b\b\b\b\b\b\b\b\b\b\r125/125 [==============================] - 2s 15ms/step - loss: 0.3534 - accuracy: 0.8490 - val_loss: 0.3638 - val_accuracy: 0.8385\n",
            "Epoch 5/600\n",
            "112/125 [=========================>....] - ETA: 0s - loss: 0.3428 - accuracy: 0.8536"
          ]
        },
        {
          "output_type": "stream",
          "name": "stderr",
          "text": [
            "\u001b[34m\u001b[1mwandb\u001b[0m: Adding directory to artifact (/content/wandb/run-20221019_110651-262n1vwp/files/model-best)... Done. 0.1s\n"
          ]
        },
        {
          "output_type": "stream",
          "name": "stdout",
          "text": [
            "\b\b\b\b\b\b\b\b\b\b\b\b\b\b\b\b\b\b\b\b\b\b\b\b\b\b\b\b\b\b\b\b\b\b\b\b\b\b\b\b\b\b\b\b\b\b\b\b\b\b\b\b\b\b\b\b\b\b\b\b\b\b\b\b\b\b\b\b\b\b\b\b\b\b\b\b\b\b\b\b\b\b\b\b\r125/125 [==============================] - 1s 11ms/step - loss: 0.3416 - accuracy: 0.8538 - val_loss: 0.3565 - val_accuracy: 0.8403\n",
            "Epoch 6/600\n",
            "112/125 [=========================>....] - ETA: 0s - loss: 0.3350 - accuracy: 0.8569"
          ]
        },
        {
          "output_type": "stream",
          "name": "stderr",
          "text": [
            "\u001b[34m\u001b[1mwandb\u001b[0m: Adding directory to artifact (/content/wandb/run-20221019_110651-262n1vwp/files/model-best)... Done. 0.1s\n"
          ]
        },
        {
          "output_type": "stream",
          "name": "stdout",
          "text": [
            "\b\b\b\b\b\b\b\b\b\b\b\b\b\b\b\b\b\b\b\b\b\b\b\b\b\b\b\b\b\b\b\b\b\b\b\b\b\b\b\b\b\b\b\b\b\b\b\b\b\b\b\b\b\b\b\b\b\b\b\b\b\b\b\b\b\b\b\b\b\b\b\b\b\b\b\b\b\b\b\b\b\b\b\b\r125/125 [==============================] - 1s 10ms/step - loss: 0.3356 - accuracy: 0.8570 - val_loss: 0.3483 - val_accuracy: 0.8458\n",
            "Epoch 7/600\n",
            "112/125 [=========================>....] - ETA: 0s - loss: 0.3318 - accuracy: 0.8588"
          ]
        },
        {
          "output_type": "stream",
          "name": "stderr",
          "text": [
            "\u001b[34m\u001b[1mwandb\u001b[0m: Adding directory to artifact (/content/wandb/run-20221019_110651-262n1vwp/files/model-best)... Done. 0.1s\n"
          ]
        },
        {
          "output_type": "stream",
          "name": "stdout",
          "text": [
            "\b\b\b\b\b\b\b\b\b\b\b\b\b\b\b\b\b\b\b\b\b\b\b\b\b\b\b\b\b\b\b\b\b\b\b\b\b\b\b\b\b\b\b\b\b\b\b\b\b\b\b\b\b\b\b\b\b\b\b\b\b\b\b\b\b\b\b\b\b\b\b\b\b\b\b\b\b\b\b\b\b\b\b\b\r125/125 [==============================] - 1s 10ms/step - loss: 0.3317 - accuracy: 0.8585 - val_loss: 0.3415 - val_accuracy: 0.8478\n",
            "Epoch 8/600\n",
            "124/125 [============================>.] - ETA: 0s - loss: 0.3251 - accuracy: 0.8622"
          ]
        },
        {
          "output_type": "stream",
          "name": "stderr",
          "text": [
            "\u001b[34m\u001b[1mwandb\u001b[0m: Adding directory to artifact (/content/wandb/run-20221019_110651-262n1vwp/files/model-best)... Done. 0.1s\n"
          ]
        },
        {
          "output_type": "stream",
          "name": "stdout",
          "text": [
            "\b\b\b\b\b\b\b\b\b\b\b\b\b\b\b\b\b\b\b\b\b\b\b\b\b\b\b\b\b\b\b\b\b\b\b\b\b\b\b\b\b\b\b\b\b\b\b\b\b\b\b\b\b\b\b\b\b\b\b\b\b\b\b\b\b\b\b\b\b\b\b\b\b\b\b\b\b\b\b\b\b\b\b\b\r125/125 [==============================] - 1s 11ms/step - loss: 0.3248 - accuracy: 0.8623 - val_loss: 0.3385 - val_accuracy: 0.8533\n",
            "Epoch 9/600\n",
            "120/125 [===========================>..] - ETA: 0s - loss: 0.3226 - accuracy: 0.8610"
          ]
        },
        {
          "output_type": "stream",
          "name": "stderr",
          "text": [
            "\u001b[34m\u001b[1mwandb\u001b[0m: Adding directory to artifact (/content/wandb/run-20221019_110651-262n1vwp/files/model-best)... Done. 0.1s\n"
          ]
        },
        {
          "output_type": "stream",
          "name": "stdout",
          "text": [
            "\b\b\b\b\b\b\b\b\b\b\b\b\b\b\b\b\b\b\b\b\b\b\b\b\b\b\b\b\b\b\b\b\b\b\b\b\b\b\b\b\b\b\b\b\b\b\b\b\b\b\b\b\b\b\b\b\b\b\b\b\b\b\b\b\b\b\b\b\b\b\b\b\b\b\b\b\b\b\b\b\b\b\b\b\r125/125 [==============================] - 1s 12ms/step - loss: 0.3219 - accuracy: 0.8614 - val_loss: 0.3322 - val_accuracy: 0.8615\n",
            "Epoch 10/600\n",
            "113/125 [==========================>...] - ETA: 0s - loss: 0.3123 - accuracy: 0.8673"
          ]
        },
        {
          "output_type": "stream",
          "name": "stderr",
          "text": [
            "\u001b[34m\u001b[1mwandb\u001b[0m: Adding directory to artifact (/content/wandb/run-20221019_110651-262n1vwp/files/model-best)... Done. 0.1s\n"
          ]
        },
        {
          "output_type": "stream",
          "name": "stdout",
          "text": [
            "\b\b\b\b\b\b\b\b\b\b\b\b\b\b\b\b\b\b\b\b\b\b\b\b\b\b\b\b\b\b\b\b\b\b\b\b\b\b\b\b\b\b\b\b\b\b\b\b\b\b\b\b\b\b\b\b\b\b\b\b\b\b\b\b\b\b\b\b\b\b\b\b\b\b\b\b\b\b\b\b\b\b\b\b\r125/125 [==============================] - 1s 11ms/step - loss: 0.3128 - accuracy: 0.8670 - val_loss: 0.3299 - val_accuracy: 0.8573\n",
            "Epoch 11/600\n",
            "124/125 [============================>.] - ETA: 0s - loss: 0.3103 - accuracy: 0.8691"
          ]
        },
        {
          "output_type": "stream",
          "name": "stderr",
          "text": [
            "\u001b[34m\u001b[1mwandb\u001b[0m: Adding directory to artifact (/content/wandb/run-20221019_110651-262n1vwp/files/model-best)... Done. 0.1s\n"
          ]
        },
        {
          "output_type": "stream",
          "name": "stdout",
          "text": [
            "\b\b\b\b\b\b\b\b\b\b\b\b\b\b\b\b\b\b\b\b\b\b\b\b\b\b\b\b\b\b\b\b\b\b\b\b\b\b\b\b\b\b\b\b\b\b\b\b\b\b\b\b\b\b\b\b\b\b\b\b\b\b\b\b\b\b\b\b\b\b\b\b\b\b\b\b\b\b\b\b\b\b\b\b\r125/125 [==============================] - 2s 15ms/step - loss: 0.3106 - accuracy: 0.8688 - val_loss: 0.3272 - val_accuracy: 0.8518\n",
            "Epoch 12/600\n",
            "119/125 [===========================>..] - ETA: 0s - loss: 0.3049 - accuracy: 0.8685"
          ]
        },
        {
          "output_type": "stream",
          "name": "stderr",
          "text": [
            "\u001b[34m\u001b[1mwandb\u001b[0m: Adding directory to artifact (/content/wandb/run-20221019_110651-262n1vwp/files/model-best)... Done. 0.1s\n"
          ]
        },
        {
          "output_type": "stream",
          "name": "stdout",
          "text": [
            "\b\b\b\b\b\b\b\b\b\b\b\b\b\b\b\b\b\b\b\b\b\b\b\b\b\b\b\b\b\b\b\b\b\b\b\b\b\b\b\b\b\b\b\b\b\b\b\b\b\b\b\b\b\b\b\b\b\b\b\b\b\b\b\b\b\b\b\b\b\b\b\b\b\b\b\b\b\b\b\b\b\b\b\b\r125/125 [==============================] - 1s 11ms/step - loss: 0.3042 - accuracy: 0.8689 - val_loss: 0.3214 - val_accuracy: 0.8555\n",
            "Epoch 13/600\n",
            "125/125 [==============================] - 1s 4ms/step - loss: 0.2995 - accuracy: 0.8730 - val_loss: 0.3224 - val_accuracy: 0.8558\n",
            "Epoch 14/600\n",
            "122/125 [============================>.] - ETA: 0s - loss: 0.2984 - accuracy: 0.8716"
          ]
        },
        {
          "output_type": "stream",
          "name": "stderr",
          "text": [
            "\u001b[34m\u001b[1mwandb\u001b[0m: Adding directory to artifact (/content/wandb/run-20221019_110651-262n1vwp/files/model-best)... Done. 0.1s\n"
          ]
        },
        {
          "output_type": "stream",
          "name": "stdout",
          "text": [
            "\b\b\b\b\b\b\b\b\b\b\b\b\b\b\b\b\b\b\b\b\b\b\b\b\b\b\b\b\b\b\b\b\b\b\b\b\b\b\b\b\b\b\b\b\b\b\b\b\b\b\b\b\b\b\b\b\b\b\b\b\b\b\b\b\b\b\b\b\b\b\b\b\b\b\b\b\b\b\b\b\b\b\b\b\r125/125 [==============================] - 1s 11ms/step - loss: 0.2976 - accuracy: 0.8722 - val_loss: 0.3157 - val_accuracy: 0.8603\n",
            "Epoch 15/600\n",
            "116/125 [==========================>...] - ETA: 0s - loss: 0.2938 - accuracy: 0.8780"
          ]
        },
        {
          "output_type": "stream",
          "name": "stderr",
          "text": [
            "\u001b[34m\u001b[1mwandb\u001b[0m: Adding directory to artifact (/content/wandb/run-20221019_110651-262n1vwp/files/model-best)... Done. 0.1s\n"
          ]
        },
        {
          "output_type": "stream",
          "name": "stdout",
          "text": [
            "\b\b\b\b\b\b\b\b\b\b\b\b\b\b\b\b\b\b\b\b\b\b\b\b\b\b\b\b\b\b\b\b\b\b\b\b\b\b\b\b\b\b\b\b\b\b\b\b\b\b\b\b\b\b\b\b\b\b\b\b\b\b\b\b\b\b\b\b\b\b\b\b\b\b\b\b\b\b\b\b\b\b\b\b\r125/125 [==============================] - 1s 11ms/step - loss: 0.2965 - accuracy: 0.8763 - val_loss: 0.3147 - val_accuracy: 0.8658\n",
            "Epoch 16/600\n",
            "125/125 [==============================] - 1s 4ms/step - loss: 0.2899 - accuracy: 0.8779 - val_loss: 0.3152 - val_accuracy: 0.8603\n",
            "Epoch 17/600\n",
            "114/125 [==========================>...] - ETA: 0s - loss: 0.2892 - accuracy: 0.8782"
          ]
        },
        {
          "output_type": "stream",
          "name": "stderr",
          "text": [
            "\u001b[34m\u001b[1mwandb\u001b[0m: Adding directory to artifact (/content/wandb/run-20221019_110651-262n1vwp/files/model-best)... Done. 0.1s\n"
          ]
        },
        {
          "output_type": "stream",
          "name": "stdout",
          "text": [
            "\b\b\b\b\b\b\b\b\b\b\b\b\b\b\b\b\b\b\b\b\b\b\b\b\b\b\b\b\b\b\b\b\b\b\b\b\b\b\b\b\b\b\b\b\b\b\b\b\b\b\b\b\b\b\b\b\b\b\b\b\b\b\b\b\b\b\b\b\b\b\b\b\b\b\b\b\b\b\b\b\b\b\b\b\r125/125 [==============================] - 1s 11ms/step - loss: 0.2890 - accuracy: 0.8782 - val_loss: 0.3119 - val_accuracy: 0.8655\n",
            "Epoch 18/600\n",
            "114/125 [==========================>...] - ETA: 0s - loss: 0.2862 - accuracy: 0.8800"
          ]
        },
        {
          "output_type": "stream",
          "name": "stderr",
          "text": [
            "\u001b[34m\u001b[1mwandb\u001b[0m: Adding directory to artifact (/content/wandb/run-20221019_110651-262n1vwp/files/model-best)... Done. 0.1s\n"
          ]
        },
        {
          "output_type": "stream",
          "name": "stdout",
          "text": [
            "\b\b\b\b\b\b\b\b\b\b\b\b\b\b\b\b\b\b\b\b\b\b\b\b\b\b\b\b\b\b\b\b\b\b\b\b\b\b\b\b\b\b\b\b\b\b\b\b\b\b\b\b\b\b\b\b\b\b\b\b\b\b\b\b\b\b\b\b\b\b\b\b\b\b\b\b\b\b\b\b\b\b\b\b\r125/125 [==============================] - 1s 11ms/step - loss: 0.2879 - accuracy: 0.8787 - val_loss: 0.3084 - val_accuracy: 0.8660\n",
            "Epoch 19/600\n",
            "120/125 [===========================>..] - ETA: 0s - loss: 0.2813 - accuracy: 0.8805"
          ]
        },
        {
          "output_type": "stream",
          "name": "stderr",
          "text": [
            "\u001b[34m\u001b[1mwandb\u001b[0m: Adding directory to artifact (/content/wandb/run-20221019_110651-262n1vwp/files/model-best)... Done. 0.1s\n"
          ]
        },
        {
          "output_type": "stream",
          "name": "stdout",
          "text": [
            "\b\b\b\b\b\b\b\b\b\b\b\b\b\b\b\b\b\b\b\b\b\b\b\b\b\b\b\b\b\b\b\b\b\b\b\b\b\b\b\b\b\b\b\b\b\b\b\b\b\b\b\b\b\b\b\b\b\b\b\b\b\b\b\b\b\b\b\b\b\b\b\b\b\b\b\b\b\b\b\b\b\b\b\b\r125/125 [==============================] - 1s 11ms/step - loss: 0.2820 - accuracy: 0.8804 - val_loss: 0.3063 - val_accuracy: 0.8673\n",
            "Epoch 20/600\n",
            "122/125 [============================>.] - ETA: 0s - loss: 0.2798 - accuracy: 0.8824"
          ]
        },
        {
          "output_type": "stream",
          "name": "stderr",
          "text": [
            "\u001b[34m\u001b[1mwandb\u001b[0m: Adding directory to artifact (/content/wandb/run-20221019_110651-262n1vwp/files/model-best)... Done. 0.1s\n"
          ]
        },
        {
          "output_type": "stream",
          "name": "stdout",
          "text": [
            "\b\b\b\b\b\b\b\b\b\b\b\b\b\b\b\b\b\b\b\b\b\b\b\b\b\b\b\b\b\b\b\b\b\b\b\b\b\b\b\b\b\b\b\b\b\b\b\b\b\b\b\b\b\b\b\b\b\b\b\b\b\b\b\b\b\b\b\b\b\b\b\b\b\b\b\b\b\b\b\b\b\b\b\b\r125/125 [==============================] - 1s 11ms/step - loss: 0.2802 - accuracy: 0.8822 - val_loss: 0.3050 - val_accuracy: 0.8718\n",
            "Epoch 21/600\n",
            "125/125 [==============================] - 1s 4ms/step - loss: 0.2798 - accuracy: 0.8827 - val_loss: 0.3063 - val_accuracy: 0.8665\n",
            "Epoch 22/600\n",
            "115/125 [==========================>...] - ETA: 0s - loss: 0.2749 - accuracy: 0.8833"
          ]
        },
        {
          "output_type": "stream",
          "name": "stderr",
          "text": [
            "\u001b[34m\u001b[1mwandb\u001b[0m: Adding directory to artifact (/content/wandb/run-20221019_110651-262n1vwp/files/model-best)... Done. 0.1s\n"
          ]
        },
        {
          "output_type": "stream",
          "name": "stdout",
          "text": [
            "\b\b\b\b\b\b\b\b\b\b\b\b\b\b\b\b\b\b\b\b\b\b\b\b\b\b\b\b\b\b\b\b\b\b\b\b\b\b\b\b\b\b\b\b\b\b\b\b\b\b\b\b\b\b\b\b\b\b\b\b\b\b\b\b\b\b\b\b\b\b\b\b\b\b\b\b\b\b\b\b\b\b\b\b\r125/125 [==============================] - 1s 11ms/step - loss: 0.2722 - accuracy: 0.8848 - val_loss: 0.3012 - val_accuracy: 0.8698\n",
            "Epoch 23/600\n",
            "125/125 [==============================] - 1s 5ms/step - loss: 0.2745 - accuracy: 0.8843 - val_loss: 0.3023 - val_accuracy: 0.8728\n",
            "Epoch 24/600\n",
            "122/125 [============================>.] - ETA: 0s - loss: 0.2683 - accuracy: 0.8864"
          ]
        },
        {
          "output_type": "stream",
          "name": "stderr",
          "text": [
            "\u001b[34m\u001b[1mwandb\u001b[0m: Adding directory to artifact (/content/wandb/run-20221019_110651-262n1vwp/files/model-best)... Done. 0.1s\n"
          ]
        },
        {
          "output_type": "stream",
          "name": "stdout",
          "text": [
            "\b\b\b\b\b\b\b\b\b\b\b\b\b\b\b\b\b\b\b\b\b\b\b\b\b\b\b\b\b\b\b\b\b\b\b\b\b\b\b\b\b\b\b\b\b\b\b\b\b\b\b\b\b\b\b\b\b\b\b\b\b\b\b\b\b\b\b\b\b\b\b\b\b\b\b\b\b\b\b\b\b\b\b\b\r125/125 [==============================] - 1s 11ms/step - loss: 0.2683 - accuracy: 0.8864 - val_loss: 0.3004 - val_accuracy: 0.8721\n",
            "Epoch 25/600\n",
            "125/125 [==============================] - 1s 5ms/step - loss: 0.2637 - accuracy: 0.8892 - val_loss: 0.3005 - val_accuracy: 0.8763\n",
            "Epoch 26/600\n",
            "125/125 [==============================] - 1s 5ms/step - loss: 0.2629 - accuracy: 0.8944 - val_loss: 0.3021 - val_accuracy: 0.8645\n",
            "Epoch 27/600\n",
            "125/125 [==============================] - 1s 5ms/step - loss: 0.2613 - accuracy: 0.8926 - val_loss: 0.3031 - val_accuracy: 0.8630\n",
            "Epoch 28/600\n",
            "115/125 [==========================>...] - ETA: 0s - loss: 0.2619 - accuracy: 0.8913"
          ]
        },
        {
          "output_type": "stream",
          "name": "stderr",
          "text": [
            "\u001b[34m\u001b[1mwandb\u001b[0m: Adding directory to artifact (/content/wandb/run-20221019_110651-262n1vwp/files/model-best)... Done. 0.1s\n"
          ]
        },
        {
          "output_type": "stream",
          "name": "stdout",
          "text": [
            "\b\b\b\b\b\b\b\b\b\b\b\b\b\b\b\b\b\b\b\b\b\b\b\b\b\b\b\b\b\b\b\b\b\b\b\b\b\b\b\b\b\b\b\b\b\b\b\b\b\b\b\b\b\b\b\b\b\b\b\b\b\b\b\b\b\b\b\b\b\b\b\b\b\b\b\b\b\b\b\b\b\b\b\b\r125/125 [==============================] - 1s 12ms/step - loss: 0.2623 - accuracy: 0.8901 - val_loss: 0.2989 - val_accuracy: 0.8691\n",
            "Epoch 29/600\n",
            "115/125 [==========================>...] - ETA: 0s - loss: 0.2578 - accuracy: 0.8948"
          ]
        },
        {
          "output_type": "stream",
          "name": "stderr",
          "text": [
            "\u001b[34m\u001b[1mwandb\u001b[0m: Adding directory to artifact (/content/wandb/run-20221019_110651-262n1vwp/files/model-best)... Done. 0.1s\n"
          ]
        },
        {
          "output_type": "stream",
          "name": "stdout",
          "text": [
            "\b\b\b\b\b\b\b\b\b\b\b\b\b\b\b\b\b\b\b\b\b\b\b\b\b\b\b\b\b\b\b\b\b\b\b\b\b\b\b\b\b\b\b\b\b\b\b\b\b\b\b\b\b\b\b\b\b\b\b\b\b\b\b\b\b\b\b\b\b\b\b\b\b\b\b\b\b\b\b\b\b\b\b\b\r125/125 [==============================] - 1s 12ms/step - loss: 0.2586 - accuracy: 0.8945 - val_loss: 0.2977 - val_accuracy: 0.8728\n",
            "Epoch 30/600\n",
            "125/125 [==============================] - 1s 5ms/step - loss: 0.2572 - accuracy: 0.8947 - val_loss: 0.3032 - val_accuracy: 0.8650\n",
            "Epoch 31/600\n",
            "115/125 [==========================>...] - ETA: 0s - loss: 0.2523 - accuracy: 0.8948"
          ]
        },
        {
          "output_type": "stream",
          "name": "stderr",
          "text": [
            "\u001b[34m\u001b[1mwandb\u001b[0m: Adding directory to artifact (/content/wandb/run-20221019_110651-262n1vwp/files/model-best)... Done. 0.1s\n"
          ]
        },
        {
          "output_type": "stream",
          "name": "stdout",
          "text": [
            "\b\b\b\b\b\b\b\b\b\b\b\b\b\b\b\b\b\b\b\b\b\b\b\b\b\b\b\b\b\b\b\b\b\b\b\b\b\b\b\b\b\b\b\b\b\b\b\b\b\b\b\b\b\b\b\b\b\b\b\b\b\b\b\b\b\b\b\b\b\b\b\b\b\b\b\b\b\b\b\b\b\b\b\b\r125/125 [==============================] - 1s 11ms/step - loss: 0.2522 - accuracy: 0.8948 - val_loss: 0.2959 - val_accuracy: 0.8681\n",
            "Epoch 32/600\n",
            "117/125 [===========================>..] - ETA: 0s - loss: 0.2509 - accuracy: 0.8966"
          ]
        },
        {
          "output_type": "stream",
          "name": "stderr",
          "text": [
            "\u001b[34m\u001b[1mwandb\u001b[0m: Adding directory to artifact (/content/wandb/run-20221019_110651-262n1vwp/files/model-best)... Done. 0.1s\n"
          ]
        },
        {
          "output_type": "stream",
          "name": "stdout",
          "text": [
            "\b\b\b\b\b\b\b\b\b\b\b\b\b\b\b\b\b\b\b\b\b\b\b\b\b\b\b\b\b\b\b\b\b\b\b\b\b\b\b\b\b\b\b\b\b\b\b\b\b\b\b\b\b\b\b\b\b\b\b\b\b\b\b\b\b\b\b\b\b\b\b\b\b\b\b\b\b\b\b\b\b\b\b\b\r125/125 [==============================] - 2s 14ms/step - loss: 0.2502 - accuracy: 0.8970 - val_loss: 0.2936 - val_accuracy: 0.8773\n",
            "Epoch 33/600\n",
            "125/125 [==============================] - 1s 6ms/step - loss: 0.2497 - accuracy: 0.8974 - val_loss: 0.2965 - val_accuracy: 0.8731\n",
            "Epoch 34/600\n",
            "117/125 [===========================>..] - ETA: 0s - loss: 0.2445 - accuracy: 0.9004"
          ]
        },
        {
          "output_type": "stream",
          "name": "stderr",
          "text": [
            "\u001b[34m\u001b[1mwandb\u001b[0m: Adding directory to artifact (/content/wandb/run-20221019_110651-262n1vwp/files/model-best)... Done. 0.1s\n"
          ]
        },
        {
          "output_type": "stream",
          "name": "stdout",
          "text": [
            "\b\b\b\b\b\b\b\b\b\b\b\b\b\b\b\b\b\b\b\b\b\b\b\b\b\b\b\b\b\b\b\b\b\b\b\b\b\b\b\b\b\b\b\b\b\b\b\b\b\b\b\b\b\b\b\b\b\b\b\b\b\b\b\b\b\b\b\b\b\b\b\b\b\b\b\b\b\b\b\b\b\b\b\b\r125/125 [==============================] - 2s 13ms/step - loss: 0.2450 - accuracy: 0.8998 - val_loss: 0.2915 - val_accuracy: 0.8776\n",
            "Epoch 35/600\n",
            "125/125 [==============================] - 1s 5ms/step - loss: 0.2432 - accuracy: 0.9002 - val_loss: 0.3001 - val_accuracy: 0.8836\n",
            "Epoch 36/600\n",
            "125/125 [==============================] - ETA: 0s - loss: 0.2428 - accuracy: 0.9018"
          ]
        },
        {
          "output_type": "stream",
          "name": "stderr",
          "text": [
            "\u001b[34m\u001b[1mwandb\u001b[0m: Adding directory to artifact (/content/wandb/run-20221019_110651-262n1vwp/files/model-best)... Done. 0.1s\n"
          ]
        },
        {
          "output_type": "stream",
          "name": "stdout",
          "text": [
            "\b\b\b\b\b\b\b\b\b\b\b\b\b\b\b\b\b\b\b\b\b\b\b\b\b\b\b\b\b\b\b\b\b\b\b\b\b\b\b\b\b\b\b\b\b\b\b\b\b\b\b\b\b\b\b\b\b\b\b\b\b\b\b\b\b\b\b\b\b\b\b\b\b\b\b\b\b\b\b\b\b\b\b\b\r125/125 [==============================] - 2s 15ms/step - loss: 0.2428 - accuracy: 0.9018 - val_loss: 0.2911 - val_accuracy: 0.8718\n",
            "Epoch 37/600\n",
            "125/125 [==============================] - 1s 5ms/step - loss: 0.2443 - accuracy: 0.9020 - val_loss: 0.2917 - val_accuracy: 0.8763\n",
            "Epoch 38/600\n",
            "125/125 [==============================] - 1s 4ms/step - loss: 0.2407 - accuracy: 0.9015 - val_loss: 0.2950 - val_accuracy: 0.8650\n",
            "Epoch 39/600\n",
            "125/125 [==============================] - 1s 4ms/step - loss: 0.2410 - accuracy: 0.9005 - val_loss: 0.2948 - val_accuracy: 0.8698\n",
            "Epoch 40/600\n",
            "125/125 [==============================] - 1s 5ms/step - loss: 0.2362 - accuracy: 0.9019 - val_loss: 0.2924 - val_accuracy: 0.8728\n",
            "Epoch 41/600\n",
            "123/125 [============================>.] - ETA: 0s - loss: 0.2339 - accuracy: 0.9052"
          ]
        },
        {
          "output_type": "stream",
          "name": "stderr",
          "text": [
            "\u001b[34m\u001b[1mwandb\u001b[0m: Adding directory to artifact (/content/wandb/run-20221019_110651-262n1vwp/files/model-best)... Done. 0.1s\n"
          ]
        },
        {
          "output_type": "stream",
          "name": "stdout",
          "text": [
            "\b\b\b\b\b\b\b\b\b\b\b\b\b\b\b\b\b\b\b\b\b\b\b\b\b\b\b\b\b\b\b\b\b\b\b\b\b\b\b\b\b\b\b\b\b\b\b\b\b\b\b\b\b\b\b\b\b\b\b\b\b\b\b\b\b\b\b\b\b\b\b\b\b\b\b\b\b\b\b\b\b\b\b\b\r125/125 [==============================] - 1s 11ms/step - loss: 0.2347 - accuracy: 0.9050 - val_loss: 0.2896 - val_accuracy: 0.8753\n",
            "Epoch 42/600\n",
            "125/125 [==============================] - 1s 5ms/step - loss: 0.2274 - accuracy: 0.9099 - val_loss: 0.2915 - val_accuracy: 0.8823\n",
            "Epoch 43/600\n",
            "125/125 [==============================] - 1s 4ms/step - loss: 0.2266 - accuracy: 0.9081 - val_loss: 0.2936 - val_accuracy: 0.8681\n",
            "Epoch 44/600\n",
            "125/125 [==============================] - 1s 4ms/step - loss: 0.2276 - accuracy: 0.9079 - val_loss: 0.2918 - val_accuracy: 0.8806\n",
            "Epoch 45/600\n",
            "124/125 [============================>.] - ETA: 0s - loss: 0.2294 - accuracy: 0.9064"
          ]
        },
        {
          "output_type": "stream",
          "name": "stderr",
          "text": [
            "\u001b[34m\u001b[1mwandb\u001b[0m: Adding directory to artifact (/content/wandb/run-20221019_110651-262n1vwp/files/model-best)... Done. 0.1s\n"
          ]
        },
        {
          "output_type": "stream",
          "name": "stdout",
          "text": [
            "\b\b\b\b\b\b\b\b\b\b\b\b\b\b\b\b\b\b\b\b\b\b\b\b\b\b\b\b\b\b\b\b\b\b\b\b\b\b\b\b\b\b\b\b\b\b\b\b\b\b\b\b\b\b\b\b\b\b\b\b\b\b\b\b\b\b\b\b\b\b\b\b\b\b\b\b\b\b\b\b\b\b\b\b\r125/125 [==============================] - 1s 10ms/step - loss: 0.2296 - accuracy: 0.9063 - val_loss: 0.2866 - val_accuracy: 0.8798\n",
            "Epoch 46/600\n",
            "125/125 [==============================] - 1s 5ms/step - loss: 0.2244 - accuracy: 0.9095 - val_loss: 0.2967 - val_accuracy: 0.8655\n",
            "Epoch 47/600\n",
            "125/125 [==============================] - 1s 5ms/step - loss: 0.2257 - accuracy: 0.9074 - val_loss: 0.2923 - val_accuracy: 0.8778\n",
            "Epoch 48/600\n",
            "125/125 [==============================] - 0s 4ms/step - loss: 0.2217 - accuracy: 0.9107 - val_loss: 0.2934 - val_accuracy: 0.8771\n",
            "Epoch 49/600\n",
            "125/125 [==============================] - 1s 4ms/step - loss: 0.2254 - accuracy: 0.9081 - val_loss: 0.2887 - val_accuracy: 0.8783\n",
            "Epoch 50/600\n",
            "125/125 [==============================] - 1s 4ms/step - loss: 0.2167 - accuracy: 0.9125 - val_loss: 0.2918 - val_accuracy: 0.8751\n",
            "Epoch 51/600\n",
            "125/125 [==============================] - 1s 4ms/step - loss: 0.2208 - accuracy: 0.9086 - val_loss: 0.2942 - val_accuracy: 0.8713\n",
            "Epoch 52/600\n",
            "125/125 [==============================] - 1s 5ms/step - loss: 0.2198 - accuracy: 0.9091 - val_loss: 0.2926 - val_accuracy: 0.8758\n",
            "Epoch 53/600\n",
            "125/125 [==============================] - 1s 4ms/step - loss: 0.2178 - accuracy: 0.9128 - val_loss: 0.2913 - val_accuracy: 0.8726\n",
            "Epoch 54/600\n",
            "125/125 [==============================] - 1s 4ms/step - loss: 0.2109 - accuracy: 0.9147 - val_loss: 0.2935 - val_accuracy: 0.8716\n",
            "Epoch 55/600\n",
            "125/125 [==============================] - 1s 5ms/step - loss: 0.2126 - accuracy: 0.9132 - val_loss: 0.2891 - val_accuracy: 0.8748\n",
            "Epoch 56/600\n",
            "125/125 [==============================] - 1s 4ms/step - loss: 0.2138 - accuracy: 0.9128 - val_loss: 0.2940 - val_accuracy: 0.8683\n",
            "Epoch 57/600\n",
            "125/125 [==============================] - 0s 4ms/step - loss: 0.2112 - accuracy: 0.9144 - val_loss: 0.2934 - val_accuracy: 0.8688\n",
            "Epoch 58/600\n",
            "125/125 [==============================] - 1s 4ms/step - loss: 0.2144 - accuracy: 0.9125 - val_loss: 0.2897 - val_accuracy: 0.8748\n",
            "Epoch 59/600\n",
            "125/125 [==============================] - 0s 4ms/step - loss: 0.2101 - accuracy: 0.9149 - val_loss: 0.2908 - val_accuracy: 0.8778\n",
            "Epoch 60/600\n",
            "125/125 [==============================] - 1s 4ms/step - loss: 0.2053 - accuracy: 0.9168 - val_loss: 0.2890 - val_accuracy: 0.8791\n",
            "Epoch 61/600\n",
            "125/125 [==============================] - 1s 5ms/step - loss: 0.2046 - accuracy: 0.9181 - val_loss: 0.2901 - val_accuracy: 0.8746\n",
            "Epoch 62/600\n",
            "125/125 [==============================] - 1s 4ms/step - loss: 0.2031 - accuracy: 0.9172 - val_loss: 0.2948 - val_accuracy: 0.8731\n",
            "Epoch 63/600\n",
            "125/125 [==============================] - 0s 4ms/step - loss: 0.2059 - accuracy: 0.9166 - val_loss: 0.2888 - val_accuracy: 0.8816\n",
            "Epoch 64/600\n",
            "125/125 [==============================] - 1s 5ms/step - loss: 0.2035 - accuracy: 0.9177 - val_loss: 0.2904 - val_accuracy: 0.8758\n",
            "Epoch 65/600\n",
            "125/125 [==============================] - 1s 4ms/step - loss: 0.1982 - accuracy: 0.9196 - val_loss: 0.2911 - val_accuracy: 0.8843\n",
            "Epoch 66/600\n",
            "125/125 [==============================] - 1s 4ms/step - loss: 0.1993 - accuracy: 0.9201 - val_loss: 0.2932 - val_accuracy: 0.8798\n",
            "Epoch 67/600\n",
            "125/125 [==============================] - 0s 4ms/step - loss: 0.1997 - accuracy: 0.9178 - val_loss: 0.2880 - val_accuracy: 0.8756\n",
            "Epoch 68/600\n",
            "125/125 [==============================] - 1s 4ms/step - loss: 0.1936 - accuracy: 0.9260 - val_loss: 0.2934 - val_accuracy: 0.8743\n",
            "Epoch 69/600\n",
            "125/125 [==============================] - 1s 4ms/step - loss: 0.1976 - accuracy: 0.9214 - val_loss: 0.2945 - val_accuracy: 0.8701\n",
            "Epoch 70/600\n",
            "125/125 [==============================] - 1s 4ms/step - loss: 0.1932 - accuracy: 0.9234 - val_loss: 0.2998 - val_accuracy: 0.8686\n",
            "Epoch 71/600\n",
            "125/125 [==============================] - 1s 4ms/step - loss: 0.1931 - accuracy: 0.9238 - val_loss: 0.2910 - val_accuracy: 0.8796\n",
            "Epoch 72/600\n",
            "125/125 [==============================] - 1s 4ms/step - loss: 0.1940 - accuracy: 0.9246 - val_loss: 0.2961 - val_accuracy: 0.8823\n",
            "Epoch 73/600\n",
            "125/125 [==============================] - 1s 4ms/step - loss: 0.1917 - accuracy: 0.9211 - val_loss: 0.2914 - val_accuracy: 0.8766\n",
            "Epoch 74/600\n",
            "125/125 [==============================] - 1s 4ms/step - loss: 0.1904 - accuracy: 0.9231 - val_loss: 0.2945 - val_accuracy: 0.8793\n",
            "Epoch 75/600\n",
            "125/125 [==============================] - 1s 4ms/step - loss: 0.1859 - accuracy: 0.9279 - val_loss: 0.2939 - val_accuracy: 0.8786\n",
            "Epoch 76/600\n",
            "125/125 [==============================] - 1s 4ms/step - loss: 0.1873 - accuracy: 0.9272 - val_loss: 0.2940 - val_accuracy: 0.8731\n",
            "Epoch 77/600\n",
            "125/125 [==============================] - 1s 4ms/step - loss: 0.1858 - accuracy: 0.9244 - val_loss: 0.2920 - val_accuracy: 0.8791\n",
            "Epoch 78/600\n",
            "125/125 [==============================] - 1s 4ms/step - loss: 0.1886 - accuracy: 0.9254 - val_loss: 0.2933 - val_accuracy: 0.8763\n",
            "Epoch 79/600\n",
            "125/125 [==============================] - 1s 4ms/step - loss: 0.1883 - accuracy: 0.9217 - val_loss: 0.2937 - val_accuracy: 0.8741\n",
            "Epoch 80/600\n",
            "125/125 [==============================] - 1s 4ms/step - loss: 0.1842 - accuracy: 0.9251 - val_loss: 0.2964 - val_accuracy: 0.8783\n",
            "Epoch 81/600\n",
            "125/125 [==============================] - 1s 4ms/step - loss: 0.1815 - accuracy: 0.9287 - val_loss: 0.2957 - val_accuracy: 0.8856\n",
            "Epoch 82/600\n",
            "125/125 [==============================] - 0s 4ms/step - loss: 0.1820 - accuracy: 0.9261 - val_loss: 0.2995 - val_accuracy: 0.8763\n",
            "Epoch 83/600\n",
            "125/125 [==============================] - 1s 4ms/step - loss: 0.1795 - accuracy: 0.9290 - val_loss: 0.3000 - val_accuracy: 0.8798\n",
            "Epoch 84/600\n",
            "125/125 [==============================] - 1s 4ms/step - loss: 0.1813 - accuracy: 0.9289 - val_loss: 0.2982 - val_accuracy: 0.8708\n",
            "Epoch 85/600\n",
            "125/125 [==============================] - 1s 5ms/step - loss: 0.1743 - accuracy: 0.9292 - val_loss: 0.2976 - val_accuracy: 0.8708\n",
            "Epoch 86/600\n",
            "125/125 [==============================] - 1s 5ms/step - loss: 0.1796 - accuracy: 0.9278 - val_loss: 0.2963 - val_accuracy: 0.8826\n",
            "Epoch 87/600\n",
            "125/125 [==============================] - 1s 5ms/step - loss: 0.1790 - accuracy: 0.9276 - val_loss: 0.2948 - val_accuracy: 0.8808\n",
            "Epoch 88/600\n",
            "125/125 [==============================] - 1s 4ms/step - loss: 0.1744 - accuracy: 0.9300 - val_loss: 0.3018 - val_accuracy: 0.8806\n",
            "Epoch 89/600\n",
            "125/125 [==============================] - 1s 5ms/step - loss: 0.1751 - accuracy: 0.9303 - val_loss: 0.2992 - val_accuracy: 0.8806\n",
            "Epoch 90/600\n",
            "125/125 [==============================] - 1s 4ms/step - loss: 0.1727 - accuracy: 0.9322 - val_loss: 0.2959 - val_accuracy: 0.8701\n",
            "Epoch 91/600\n",
            "125/125 [==============================] - 1s 5ms/step - loss: 0.1747 - accuracy: 0.9298 - val_loss: 0.3028 - val_accuracy: 0.8738\n",
            "Epoch 92/600\n",
            "125/125 [==============================] - 1s 4ms/step - loss: 0.1715 - accuracy: 0.9313 - val_loss: 0.3062 - val_accuracy: 0.8723\n",
            "Epoch 93/600\n",
            "125/125 [==============================] - 0s 4ms/step - loss: 0.1712 - accuracy: 0.9316 - val_loss: 0.3013 - val_accuracy: 0.8718\n",
            "Epoch 94/600\n",
            "125/125 [==============================] - 1s 4ms/step - loss: 0.1720 - accuracy: 0.9325 - val_loss: 0.3018 - val_accuracy: 0.8761\n",
            "Epoch 95/600\n",
            "125/125 [==============================] - 1s 4ms/step - loss: 0.1722 - accuracy: 0.9306 - val_loss: 0.3007 - val_accuracy: 0.8768\n",
            "Epoch 96/600\n",
            "125/125 [==============================] - 1s 4ms/step - loss: 0.1673 - accuracy: 0.9324 - val_loss: 0.3013 - val_accuracy: 0.8701\n",
            "Epoch 97/600\n",
            "125/125 [==============================] - 1s 4ms/step - loss: 0.1698 - accuracy: 0.9324 - val_loss: 0.3024 - val_accuracy: 0.8751\n",
            "Epoch 98/600\n",
            "125/125 [==============================] - 1s 4ms/step - loss: 0.1713 - accuracy: 0.9326 - val_loss: 0.3044 - val_accuracy: 0.8783\n",
            "Epoch 99/600\n",
            "125/125 [==============================] - 1s 5ms/step - loss: 0.1618 - accuracy: 0.9369 - val_loss: 0.3029 - val_accuracy: 0.8763\n",
            "Epoch 100/600\n",
            "125/125 [==============================] - 1s 5ms/step - loss: 0.1696 - accuracy: 0.9323 - val_loss: 0.3095 - val_accuracy: 0.8798\n",
            "Epoch 101/600\n",
            "125/125 [==============================] - 1s 4ms/step - loss: 0.1670 - accuracy: 0.9358 - val_loss: 0.3006 - val_accuracy: 0.8818\n",
            "Epoch 102/600\n",
            "125/125 [==============================] - 1s 4ms/step - loss: 0.1645 - accuracy: 0.9357 - val_loss: 0.3082 - val_accuracy: 0.8786\n",
            "Epoch 103/600\n",
            "125/125 [==============================] - 1s 5ms/step - loss: 0.1664 - accuracy: 0.9321 - val_loss: 0.3017 - val_accuracy: 0.8763\n",
            "Epoch 104/600\n",
            "125/125 [==============================] - 1s 4ms/step - loss: 0.1617 - accuracy: 0.9380 - val_loss: 0.3018 - val_accuracy: 0.8731\n",
            "Epoch 105/600\n",
            "125/125 [==============================] - 1s 4ms/step - loss: 0.1623 - accuracy: 0.9358 - val_loss: 0.3089 - val_accuracy: 0.8758\n",
            "Epoch 106/600\n",
            "125/125 [==============================] - 1s 4ms/step - loss: 0.1620 - accuracy: 0.9369 - val_loss: 0.3025 - val_accuracy: 0.8751\n",
            "Epoch 107/600\n",
            "125/125 [==============================] - 1s 4ms/step - loss: 0.1605 - accuracy: 0.9363 - val_loss: 0.3048 - val_accuracy: 0.8728\n",
            "Epoch 108/600\n",
            "125/125 [==============================] - 1s 4ms/step - loss: 0.1617 - accuracy: 0.9352 - val_loss: 0.3045 - val_accuracy: 0.8713\n",
            "Epoch 109/600\n",
            "125/125 [==============================] - 1s 4ms/step - loss: 0.1583 - accuracy: 0.9361 - val_loss: 0.3032 - val_accuracy: 0.8763\n",
            "Epoch 110/600\n",
            "125/125 [==============================] - 1s 5ms/step - loss: 0.1589 - accuracy: 0.9366 - val_loss: 0.3033 - val_accuracy: 0.8751\n",
            "Epoch 111/600\n",
            "125/125 [==============================] - 1s 4ms/step - loss: 0.1575 - accuracy: 0.9378 - val_loss: 0.3096 - val_accuracy: 0.8708\n",
            "Epoch 112/600\n",
            "125/125 [==============================] - 1s 5ms/step - loss: 0.1595 - accuracy: 0.9389 - val_loss: 0.3031 - val_accuracy: 0.8786\n",
            "Epoch 113/600\n",
            "125/125 [==============================] - 1s 5ms/step - loss: 0.1565 - accuracy: 0.9390 - val_loss: 0.3066 - val_accuracy: 0.8756\n",
            "Epoch 114/600\n",
            "125/125 [==============================] - 1s 4ms/step - loss: 0.1592 - accuracy: 0.9376 - val_loss: 0.3062 - val_accuracy: 0.8818\n",
            "Epoch 115/600\n",
            "125/125 [==============================] - 1s 4ms/step - loss: 0.1552 - accuracy: 0.9387 - val_loss: 0.3106 - val_accuracy: 0.8676\n",
            "Epoch 116/600\n",
            "125/125 [==============================] - 1s 4ms/step - loss: 0.1539 - accuracy: 0.9402 - val_loss: 0.3072 - val_accuracy: 0.8771\n",
            "Epoch 117/600\n",
            "125/125 [==============================] - 1s 5ms/step - loss: 0.1580 - accuracy: 0.9356 - val_loss: 0.3090 - val_accuracy: 0.8676\n",
            "Epoch 118/600\n",
            "125/125 [==============================] - 1s 4ms/step - loss: 0.1575 - accuracy: 0.9372 - val_loss: 0.3132 - val_accuracy: 0.8773\n",
            "Epoch 119/600\n",
            "125/125 [==============================] - 1s 5ms/step - loss: 0.1544 - accuracy: 0.9382 - val_loss: 0.3116 - val_accuracy: 0.8716\n",
            "Epoch 120/600\n",
            "125/125 [==============================] - 1s 4ms/step - loss: 0.1532 - accuracy: 0.9397 - val_loss: 0.3121 - val_accuracy: 0.8776\n",
            "Epoch 121/600\n",
            "125/125 [==============================] - 1s 4ms/step - loss: 0.1517 - accuracy: 0.9404 - val_loss: 0.3093 - val_accuracy: 0.8681\n",
            "Epoch 122/600\n",
            "125/125 [==============================] - 1s 4ms/step - loss: 0.1513 - accuracy: 0.9392 - val_loss: 0.3106 - val_accuracy: 0.8763\n",
            "Epoch 123/600\n",
            "125/125 [==============================] - 1s 5ms/step - loss: 0.1459 - accuracy: 0.9434 - val_loss: 0.3178 - val_accuracy: 0.8731\n",
            "Epoch 124/600\n",
            "125/125 [==============================] - 1s 4ms/step - loss: 0.1533 - accuracy: 0.9387 - val_loss: 0.3134 - val_accuracy: 0.8773\n",
            "Epoch 125/600\n",
            "125/125 [==============================] - 1s 4ms/step - loss: 0.1463 - accuracy: 0.9423 - val_loss: 0.3184 - val_accuracy: 0.8748\n",
            "Epoch 126/600\n",
            "125/125 [==============================] - 1s 4ms/step - loss: 0.1516 - accuracy: 0.9392 - val_loss: 0.3138 - val_accuracy: 0.8693\n",
            "Epoch 127/600\n",
            "125/125 [==============================] - 1s 4ms/step - loss: 0.1519 - accuracy: 0.9392 - val_loss: 0.3117 - val_accuracy: 0.8696\n",
            "Epoch 128/600\n",
            "125/125 [==============================] - 1s 4ms/step - loss: 0.1446 - accuracy: 0.9433 - val_loss: 0.3199 - val_accuracy: 0.8798\n",
            "Epoch 129/600\n",
            "125/125 [==============================] - 1s 4ms/step - loss: 0.1473 - accuracy: 0.9417 - val_loss: 0.3182 - val_accuracy: 0.8746\n",
            "Epoch 130/600\n",
            "125/125 [==============================] - 1s 4ms/step - loss: 0.1483 - accuracy: 0.9432 - val_loss: 0.3214 - val_accuracy: 0.8763\n",
            "Epoch 131/600\n",
            "125/125 [==============================] - 1s 4ms/step - loss: 0.1495 - accuracy: 0.9410 - val_loss: 0.3240 - val_accuracy: 0.8796\n",
            "Epoch 132/600\n",
            "125/125 [==============================] - 0s 4ms/step - loss: 0.1464 - accuracy: 0.9391 - val_loss: 0.3239 - val_accuracy: 0.8726\n",
            "Epoch 133/600\n",
            "125/125 [==============================] - 1s 4ms/step - loss: 0.1421 - accuracy: 0.9426 - val_loss: 0.3191 - val_accuracy: 0.8748\n",
            "Epoch 134/600\n",
            "125/125 [==============================] - 1s 4ms/step - loss: 0.1428 - accuracy: 0.9447 - val_loss: 0.3211 - val_accuracy: 0.8743\n",
            "Epoch 135/600\n",
            "125/125 [==============================] - 1s 4ms/step - loss: 0.1442 - accuracy: 0.9429 - val_loss: 0.3212 - val_accuracy: 0.8733\n",
            "Epoch 136/600\n",
            "125/125 [==============================] - 1s 4ms/step - loss: 0.1424 - accuracy: 0.9429 - val_loss: 0.3234 - val_accuracy: 0.8796\n",
            "Epoch 137/600\n",
            "125/125 [==============================] - 1s 4ms/step - loss: 0.1400 - accuracy: 0.9440 - val_loss: 0.3211 - val_accuracy: 0.8781\n",
            "Epoch 138/600\n",
            "125/125 [==============================] - 1s 4ms/step - loss: 0.1414 - accuracy: 0.9445 - val_loss: 0.3250 - val_accuracy: 0.8803\n",
            "Epoch 139/600\n",
            "125/125 [==============================] - 1s 4ms/step - loss: 0.1394 - accuracy: 0.9457 - val_loss: 0.3195 - val_accuracy: 0.8758\n",
            "Epoch 140/600\n",
            "125/125 [==============================] - 1s 4ms/step - loss: 0.1441 - accuracy: 0.9425 - val_loss: 0.3199 - val_accuracy: 0.8776\n",
            "Epoch 141/600\n",
            "125/125 [==============================] - 1s 5ms/step - loss: 0.1432 - accuracy: 0.9448 - val_loss: 0.3299 - val_accuracy: 0.8686\n",
            "Epoch 142/600\n",
            "125/125 [==============================] - 1s 4ms/step - loss: 0.1412 - accuracy: 0.9447 - val_loss: 0.3247 - val_accuracy: 0.8721\n",
            "Epoch 143/600\n",
            "125/125 [==============================] - 1s 4ms/step - loss: 0.1388 - accuracy: 0.9468 - val_loss: 0.3254 - val_accuracy: 0.8731\n",
            "Epoch 144/600\n",
            "125/125 [==============================] - 1s 5ms/step - loss: 0.1408 - accuracy: 0.9434 - val_loss: 0.3157 - val_accuracy: 0.8753\n",
            "Epoch 145/600\n",
            "125/125 [==============================] - 1s 4ms/step - loss: 0.1412 - accuracy: 0.9421 - val_loss: 0.3207 - val_accuracy: 0.8701\n",
            "Epoch 146/600\n",
            "125/125 [==============================] - 1s 5ms/step - loss: 0.1397 - accuracy: 0.9450 - val_loss: 0.3275 - val_accuracy: 0.8751\n",
            "Epoch 147/600\n",
            "125/125 [==============================] - 1s 5ms/step - loss: 0.1423 - accuracy: 0.9441 - val_loss: 0.3266 - val_accuracy: 0.8748\n",
            "Epoch 148/600\n",
            "125/125 [==============================] - 1s 4ms/step - loss: 0.1400 - accuracy: 0.9429 - val_loss: 0.3253 - val_accuracy: 0.8673\n",
            "Epoch 149/600\n",
            "125/125 [==============================] - 1s 4ms/step - loss: 0.1396 - accuracy: 0.9447 - val_loss: 0.3314 - val_accuracy: 0.8781\n",
            "Epoch 150/600\n",
            "125/125 [==============================] - 1s 4ms/step - loss: 0.1385 - accuracy: 0.9443 - val_loss: 0.3240 - val_accuracy: 0.8723\n",
            "Epoch 151/600\n",
            "125/125 [==============================] - 1s 4ms/step - loss: 0.1394 - accuracy: 0.9440 - val_loss: 0.3286 - val_accuracy: 0.8723\n",
            "Epoch 152/600\n",
            "125/125 [==============================] - 1s 5ms/step - loss: 0.1390 - accuracy: 0.9460 - val_loss: 0.3266 - val_accuracy: 0.8791\n",
            "Epoch 153/600\n",
            "125/125 [==============================] - 1s 4ms/step - loss: 0.1365 - accuracy: 0.9472 - val_loss: 0.3250 - val_accuracy: 0.8751\n",
            "Epoch 154/600\n",
            "125/125 [==============================] - 1s 5ms/step - loss: 0.1421 - accuracy: 0.9450 - val_loss: 0.3238 - val_accuracy: 0.8708\n",
            "Epoch 155/600\n",
            "125/125 [==============================] - 1s 4ms/step - loss: 0.1385 - accuracy: 0.9453 - val_loss: 0.3248 - val_accuracy: 0.8698\n",
            "Epoch 156/600\n",
            "125/125 [==============================] - 1s 5ms/step - loss: 0.1341 - accuracy: 0.9472 - val_loss: 0.3313 - val_accuracy: 0.8798\n",
            "Epoch 157/600\n",
            "125/125 [==============================] - 1s 5ms/step - loss: 0.1378 - accuracy: 0.9459 - val_loss: 0.3256 - val_accuracy: 0.8746\n",
            "Epoch 158/600\n",
            "125/125 [==============================] - 1s 4ms/step - loss: 0.1333 - accuracy: 0.9492 - val_loss: 0.3295 - val_accuracy: 0.8691\n",
            "Epoch 159/600\n",
            "125/125 [==============================] - 1s 4ms/step - loss: 0.1345 - accuracy: 0.9467 - val_loss: 0.3329 - val_accuracy: 0.8743\n",
            "Epoch 160/600\n",
            "125/125 [==============================] - 1s 4ms/step - loss: 0.1373 - accuracy: 0.9446 - val_loss: 0.3384 - val_accuracy: 0.8713\n",
            "Epoch 161/600\n",
            "125/125 [==============================] - 1s 4ms/step - loss: 0.1346 - accuracy: 0.9465 - val_loss: 0.3319 - val_accuracy: 0.8766\n",
            "Epoch 162/600\n",
            "125/125 [==============================] - 1s 4ms/step - loss: 0.1346 - accuracy: 0.9461 - val_loss: 0.3286 - val_accuracy: 0.8771\n",
            "Epoch 163/600\n",
            "125/125 [==============================] - 1s 4ms/step - loss: 0.1326 - accuracy: 0.9472 - val_loss: 0.3329 - val_accuracy: 0.8691\n",
            "Epoch 164/600\n",
            "125/125 [==============================] - 1s 4ms/step - loss: 0.1327 - accuracy: 0.9468 - val_loss: 0.3365 - val_accuracy: 0.8668\n",
            "Epoch 165/600\n",
            "125/125 [==============================] - 1s 5ms/step - loss: 0.1327 - accuracy: 0.9463 - val_loss: 0.3381 - val_accuracy: 0.8741\n",
            "Epoch 166/600\n",
            "125/125 [==============================] - 1s 4ms/step - loss: 0.1321 - accuracy: 0.9489 - val_loss: 0.3400 - val_accuracy: 0.8731\n",
            "Epoch 167/600\n",
            "125/125 [==============================] - 1s 4ms/step - loss: 0.1310 - accuracy: 0.9471 - val_loss: 0.3338 - val_accuracy: 0.8673\n",
            "Epoch 168/600\n",
            "125/125 [==============================] - 1s 4ms/step - loss: 0.1306 - accuracy: 0.9480 - val_loss: 0.3358 - val_accuracy: 0.8716\n",
            "Epoch 169/600\n",
            "125/125 [==============================] - 1s 4ms/step - loss: 0.1314 - accuracy: 0.9479 - val_loss: 0.3381 - val_accuracy: 0.8776\n",
            "Epoch 170/600\n",
            "125/125 [==============================] - 1s 4ms/step - loss: 0.1303 - accuracy: 0.9482 - val_loss: 0.3325 - val_accuracy: 0.8681\n",
            "Epoch 171/600\n",
            "125/125 [==============================] - 1s 4ms/step - loss: 0.1289 - accuracy: 0.9505 - val_loss: 0.3451 - val_accuracy: 0.8751\n",
            "Epoch 172/600\n",
            "125/125 [==============================] - 1s 4ms/step - loss: 0.1298 - accuracy: 0.9490 - val_loss: 0.3325 - val_accuracy: 0.8698\n",
            "Epoch 173/600\n",
            "125/125 [==============================] - 1s 4ms/step - loss: 0.1279 - accuracy: 0.9510 - val_loss: 0.3414 - val_accuracy: 0.8731\n",
            "Epoch 174/600\n",
            "125/125 [==============================] - 1s 5ms/step - loss: 0.1282 - accuracy: 0.9492 - val_loss: 0.3354 - val_accuracy: 0.8683\n",
            "Epoch 175/600\n",
            "125/125 [==============================] - 1s 5ms/step - loss: 0.1246 - accuracy: 0.9511 - val_loss: 0.3491 - val_accuracy: 0.8786\n",
            "Epoch 176/600\n",
            "125/125 [==============================] - 1s 4ms/step - loss: 0.1296 - accuracy: 0.9486 - val_loss: 0.3437 - val_accuracy: 0.8703\n",
            "Epoch 177/600\n",
            "125/125 [==============================] - 1s 4ms/step - loss: 0.1243 - accuracy: 0.9500 - val_loss: 0.3437 - val_accuracy: 0.8728\n",
            "Epoch 178/600\n",
            "125/125 [==============================] - 1s 4ms/step - loss: 0.1229 - accuracy: 0.9507 - val_loss: 0.3395 - val_accuracy: 0.8758\n",
            "Epoch 179/600\n",
            "125/125 [==============================] - 1s 4ms/step - loss: 0.1266 - accuracy: 0.9501 - val_loss: 0.3409 - val_accuracy: 0.8658\n",
            "Epoch 180/600\n",
            "125/125 [==============================] - 1s 4ms/step - loss: 0.1301 - accuracy: 0.9477 - val_loss: 0.3381 - val_accuracy: 0.8711\n",
            "Epoch 181/600\n",
            "125/125 [==============================] - 1s 4ms/step - loss: 0.1262 - accuracy: 0.9492 - val_loss: 0.3427 - val_accuracy: 0.8768\n",
            "Epoch 182/600\n",
            "125/125 [==============================] - 1s 5ms/step - loss: 0.1234 - accuracy: 0.9505 - val_loss: 0.3399 - val_accuracy: 0.8678\n",
            "Epoch 183/600\n",
            "125/125 [==============================] - 1s 4ms/step - loss: 0.1259 - accuracy: 0.9482 - val_loss: 0.3427 - val_accuracy: 0.8703\n",
            "Epoch 184/600\n",
            "125/125 [==============================] - 1s 4ms/step - loss: 0.1253 - accuracy: 0.9510 - val_loss: 0.3435 - val_accuracy: 0.8658\n",
            "Epoch 185/600\n",
            "125/125 [==============================] - 1s 5ms/step - loss: 0.1242 - accuracy: 0.9524 - val_loss: 0.3435 - val_accuracy: 0.8686\n",
            "Epoch 186/600\n",
            "125/125 [==============================] - 1s 4ms/step - loss: 0.1197 - accuracy: 0.9519 - val_loss: 0.3458 - val_accuracy: 0.8726\n",
            "Epoch 187/600\n",
            "125/125 [==============================] - 1s 5ms/step - loss: 0.1318 - accuracy: 0.9480 - val_loss: 0.3411 - val_accuracy: 0.8783\n",
            "Epoch 188/600\n",
            "125/125 [==============================] - 1s 4ms/step - loss: 0.1204 - accuracy: 0.9524 - val_loss: 0.3419 - val_accuracy: 0.8701\n",
            "Epoch 189/600\n",
            "125/125 [==============================] - 1s 4ms/step - loss: 0.1220 - accuracy: 0.9513 - val_loss: 0.3380 - val_accuracy: 0.8643\n",
            "Epoch 190/600\n",
            "125/125 [==============================] - 1s 4ms/step - loss: 0.1236 - accuracy: 0.9555 - val_loss: 0.3453 - val_accuracy: 0.8698\n",
            "Epoch 191/600\n",
            "125/125 [==============================] - 1s 4ms/step - loss: 0.1225 - accuracy: 0.9499 - val_loss: 0.3450 - val_accuracy: 0.8686\n",
            "Epoch 192/600\n",
            "125/125 [==============================] - 1s 4ms/step - loss: 0.1229 - accuracy: 0.9511 - val_loss: 0.3425 - val_accuracy: 0.8673\n",
            "Epoch 193/600\n",
            "125/125 [==============================] - 1s 4ms/step - loss: 0.1230 - accuracy: 0.9507 - val_loss: 0.3465 - val_accuracy: 0.8678\n",
            "Epoch 194/600\n",
            "125/125 [==============================] - 1s 4ms/step - loss: 0.1240 - accuracy: 0.9515 - val_loss: 0.3465 - val_accuracy: 0.8703\n",
            "Epoch 195/600\n",
            "125/125 [==============================] - 1s 4ms/step - loss: 0.1256 - accuracy: 0.9491 - val_loss: 0.3451 - val_accuracy: 0.8648\n",
            "Epoch 196/600\n",
            "125/125 [==============================] - 1s 5ms/step - loss: 0.1204 - accuracy: 0.9512 - val_loss: 0.3496 - val_accuracy: 0.8640\n",
            "Epoch 197/600\n",
            "125/125 [==============================] - 0s 4ms/step - loss: 0.1193 - accuracy: 0.9531 - val_loss: 0.3412 - val_accuracy: 0.8718\n",
            "Epoch 198/600\n",
            "125/125 [==============================] - 1s 4ms/step - loss: 0.1228 - accuracy: 0.9509 - val_loss: 0.3463 - val_accuracy: 0.8726\n",
            "Epoch 199/600\n",
            "125/125 [==============================] - 1s 4ms/step - loss: 0.1219 - accuracy: 0.9539 - val_loss: 0.3529 - val_accuracy: 0.8711\n",
            "Epoch 200/600\n",
            "125/125 [==============================] - 1s 4ms/step - loss: 0.1143 - accuracy: 0.9554 - val_loss: 0.3459 - val_accuracy: 0.8698\n",
            "Epoch 201/600\n",
            "125/125 [==============================] - 1s 5ms/step - loss: 0.1190 - accuracy: 0.9529 - val_loss: 0.3548 - val_accuracy: 0.8663\n",
            "Epoch 202/600\n",
            "125/125 [==============================] - 1s 4ms/step - loss: 0.1179 - accuracy: 0.9534 - val_loss: 0.3487 - val_accuracy: 0.8665\n",
            "Epoch 203/600\n",
            "125/125 [==============================] - 0s 4ms/step - loss: 0.1239 - accuracy: 0.9504 - val_loss: 0.3453 - val_accuracy: 0.8708\n",
            "Epoch 204/600\n",
            "125/125 [==============================] - 1s 4ms/step - loss: 0.1249 - accuracy: 0.9514 - val_loss: 0.3465 - val_accuracy: 0.8701\n",
            "Epoch 205/600\n",
            "125/125 [==============================] - 1s 4ms/step - loss: 0.1191 - accuracy: 0.9521 - val_loss: 0.3483 - val_accuracy: 0.8731\n",
            "Epoch 206/600\n",
            "125/125 [==============================] - 1s 5ms/step - loss: 0.1203 - accuracy: 0.9518 - val_loss: 0.3618 - val_accuracy: 0.8728\n",
            "Epoch 207/600\n",
            "125/125 [==============================] - 1s 4ms/step - loss: 0.1168 - accuracy: 0.9551 - val_loss: 0.3497 - val_accuracy: 0.8691\n",
            "Epoch 208/600\n",
            "125/125 [==============================] - 1s 4ms/step - loss: 0.1171 - accuracy: 0.9520 - val_loss: 0.3513 - val_accuracy: 0.8668\n",
            "Epoch 209/600\n",
            "125/125 [==============================] - 1s 4ms/step - loss: 0.1168 - accuracy: 0.9527 - val_loss: 0.3545 - val_accuracy: 0.8603\n",
            "Epoch 210/600\n",
            "125/125 [==============================] - 1s 4ms/step - loss: 0.1189 - accuracy: 0.9539 - val_loss: 0.3556 - val_accuracy: 0.8726\n",
            "Epoch 211/600\n",
            "125/125 [==============================] - 1s 5ms/step - loss: 0.1134 - accuracy: 0.9566 - val_loss: 0.3575 - val_accuracy: 0.8726\n",
            "Epoch 212/600\n",
            "125/125 [==============================] - 1s 4ms/step - loss: 0.1145 - accuracy: 0.9537 - val_loss: 0.3535 - val_accuracy: 0.8696\n",
            "Epoch 213/600\n",
            "125/125 [==============================] - 1s 4ms/step - loss: 0.1144 - accuracy: 0.9536 - val_loss: 0.3583 - val_accuracy: 0.8678\n",
            "Epoch 214/600\n",
            "125/125 [==============================] - 1s 4ms/step - loss: 0.1135 - accuracy: 0.9553 - val_loss: 0.3568 - val_accuracy: 0.8668\n",
            "Epoch 215/600\n",
            "125/125 [==============================] - 1s 5ms/step - loss: 0.1167 - accuracy: 0.9517 - val_loss: 0.3551 - val_accuracy: 0.8736\n",
            "Epoch 216/600\n",
            "125/125 [==============================] - 1s 4ms/step - loss: 0.1165 - accuracy: 0.9537 - val_loss: 0.3551 - val_accuracy: 0.8638\n",
            "Epoch 217/600\n",
            "125/125 [==============================] - 1s 4ms/step - loss: 0.1167 - accuracy: 0.9532 - val_loss: 0.3635 - val_accuracy: 0.8703\n",
            "Epoch 218/600\n",
            "125/125 [==============================] - 1s 5ms/step - loss: 0.1159 - accuracy: 0.9522 - val_loss: 0.3590 - val_accuracy: 0.8708\n",
            "Epoch 219/600\n",
            "125/125 [==============================] - 1s 4ms/step - loss: 0.1164 - accuracy: 0.9555 - val_loss: 0.3615 - val_accuracy: 0.8706\n",
            "Epoch 220/600\n",
            "125/125 [==============================] - 1s 4ms/step - loss: 0.1161 - accuracy: 0.9547 - val_loss: 0.3646 - val_accuracy: 0.8678\n",
            "Epoch 221/600\n",
            "125/125 [==============================] - 1s 4ms/step - loss: 0.1155 - accuracy: 0.9552 - val_loss: 0.3558 - val_accuracy: 0.8691\n",
            "Epoch 222/600\n",
            "125/125 [==============================] - 1s 4ms/step - loss: 0.1147 - accuracy: 0.9552 - val_loss: 0.3583 - val_accuracy: 0.8635\n",
            "Epoch 223/600\n",
            "125/125 [==============================] - 1s 4ms/step - loss: 0.1151 - accuracy: 0.9543 - val_loss: 0.3620 - val_accuracy: 0.8676\n",
            "Epoch 224/600\n",
            "125/125 [==============================] - 1s 4ms/step - loss: 0.1180 - accuracy: 0.9530 - val_loss: 0.3633 - val_accuracy: 0.8688\n",
            "Epoch 225/600\n",
            "125/125 [==============================] - 1s 4ms/step - loss: 0.1143 - accuracy: 0.9530 - val_loss: 0.3659 - val_accuracy: 0.8665\n",
            "Epoch 226/600\n",
            "125/125 [==============================] - 1s 5ms/step - loss: 0.1128 - accuracy: 0.9562 - val_loss: 0.3747 - val_accuracy: 0.8718\n",
            "Epoch 227/600\n",
            "125/125 [==============================] - 1s 4ms/step - loss: 0.1094 - accuracy: 0.9561 - val_loss: 0.3705 - val_accuracy: 0.8713\n",
            "Epoch 228/600\n",
            "125/125 [==============================] - 1s 4ms/step - loss: 0.1145 - accuracy: 0.9551 - val_loss: 0.3566 - val_accuracy: 0.8678\n",
            "Epoch 229/600\n",
            "125/125 [==============================] - 1s 4ms/step - loss: 0.1123 - accuracy: 0.9556 - val_loss: 0.3685 - val_accuracy: 0.8706\n",
            "Epoch 230/600\n",
            "125/125 [==============================] - 1s 4ms/step - loss: 0.1160 - accuracy: 0.9532 - val_loss: 0.3722 - val_accuracy: 0.8658\n",
            "Epoch 231/600\n",
            "125/125 [==============================] - 1s 4ms/step - loss: 0.1166 - accuracy: 0.9533 - val_loss: 0.3640 - val_accuracy: 0.8746\n",
            "Epoch 232/600\n",
            "125/125 [==============================] - 1s 4ms/step - loss: 0.1156 - accuracy: 0.9539 - val_loss: 0.3687 - val_accuracy: 0.8733\n",
            "Epoch 233/600\n",
            "125/125 [==============================] - 1s 5ms/step - loss: 0.1137 - accuracy: 0.9538 - val_loss: 0.3663 - val_accuracy: 0.8686\n",
            "Epoch 234/600\n",
            "125/125 [==============================] - 1s 4ms/step - loss: 0.1103 - accuracy: 0.9567 - val_loss: 0.3601 - val_accuracy: 0.8663\n",
            "Epoch 235/600\n",
            "125/125 [==============================] - 1s 4ms/step - loss: 0.1124 - accuracy: 0.9557 - val_loss: 0.3631 - val_accuracy: 0.8711\n",
            "Epoch 236/600\n",
            "125/125 [==============================] - 1s 5ms/step - loss: 0.1082 - accuracy: 0.9584 - val_loss: 0.3686 - val_accuracy: 0.8703\n",
            "Epoch 237/600\n",
            "125/125 [==============================] - 1s 4ms/step - loss: 0.1151 - accuracy: 0.9546 - val_loss: 0.3671 - val_accuracy: 0.8701\n",
            "Epoch 238/600\n",
            "125/125 [==============================] - 1s 5ms/step - loss: 0.1094 - accuracy: 0.9560 - val_loss: 0.3653 - val_accuracy: 0.8706\n",
            "Epoch 239/600\n",
            "125/125 [==============================] - 1s 4ms/step - loss: 0.1133 - accuracy: 0.9559 - val_loss: 0.3614 - val_accuracy: 0.8640\n",
            "Epoch 240/600\n",
            "125/125 [==============================] - 1s 4ms/step - loss: 0.1131 - accuracy: 0.9564 - val_loss: 0.3680 - val_accuracy: 0.8718\n",
            "Epoch 241/600\n",
            "125/125 [==============================] - 1s 5ms/step - loss: 0.1112 - accuracy: 0.9551 - val_loss: 0.3634 - val_accuracy: 0.8630\n",
            "Epoch 242/600\n",
            "125/125 [==============================] - 1s 4ms/step - loss: 0.1106 - accuracy: 0.9552 - val_loss: 0.3694 - val_accuracy: 0.8665\n",
            "Epoch 243/600\n",
            "125/125 [==============================] - 1s 4ms/step - loss: 0.1129 - accuracy: 0.9524 - val_loss: 0.3667 - val_accuracy: 0.8706\n",
            "Epoch 244/600\n",
            "125/125 [==============================] - 1s 4ms/step - loss: 0.1094 - accuracy: 0.9568 - val_loss: 0.3715 - val_accuracy: 0.8665\n",
            "Epoch 245/600\n",
            "125/125 [==============================] - 1s 4ms/step - loss: 0.1119 - accuracy: 0.9549 - val_loss: 0.3685 - val_accuracy: 0.8716\n",
            "Epoch 246/600\n",
            "125/125 [==============================] - 1s 4ms/step - loss: 0.1099 - accuracy: 0.9554 - val_loss: 0.3702 - val_accuracy: 0.8653\n",
            "Epoch 247/600\n",
            "125/125 [==============================] - 1s 5ms/step - loss: 0.1205 - accuracy: 0.9508 - val_loss: 0.3667 - val_accuracy: 0.8673\n",
            "Epoch 248/600\n",
            "125/125 [==============================] - 1s 5ms/step - loss: 0.1101 - accuracy: 0.9563 - val_loss: 0.3767 - val_accuracy: 0.8686\n",
            "Epoch 249/600\n",
            "125/125 [==============================] - 1s 4ms/step - loss: 0.1078 - accuracy: 0.9562 - val_loss: 0.3736 - val_accuracy: 0.8706\n",
            "Epoch 250/600\n",
            "125/125 [==============================] - 1s 4ms/step - loss: 0.1075 - accuracy: 0.9551 - val_loss: 0.3703 - val_accuracy: 0.8721\n",
            "Epoch 251/600\n",
            "125/125 [==============================] - 1s 4ms/step - loss: 0.1082 - accuracy: 0.9564 - val_loss: 0.3783 - val_accuracy: 0.8718\n",
            "Epoch 252/600\n",
            "125/125 [==============================] - 1s 5ms/step - loss: 0.1094 - accuracy: 0.9582 - val_loss: 0.3682 - val_accuracy: 0.8665\n",
            "Epoch 253/600\n",
            "125/125 [==============================] - 1s 5ms/step - loss: 0.1100 - accuracy: 0.9571 - val_loss: 0.3763 - val_accuracy: 0.8655\n",
            "Epoch 254/600\n",
            "125/125 [==============================] - 1s 4ms/step - loss: 0.1088 - accuracy: 0.9567 - val_loss: 0.3741 - val_accuracy: 0.8650\n",
            "Epoch 255/600\n",
            "125/125 [==============================] - 1s 5ms/step - loss: 0.1129 - accuracy: 0.9554 - val_loss: 0.3686 - val_accuracy: 0.8645\n",
            "Epoch 256/600\n",
            "125/125 [==============================] - 1s 4ms/step - loss: 0.1115 - accuracy: 0.9551 - val_loss: 0.3716 - val_accuracy: 0.8643\n",
            "Epoch 257/600\n",
            "125/125 [==============================] - 1s 4ms/step - loss: 0.1086 - accuracy: 0.9564 - val_loss: 0.3738 - val_accuracy: 0.8693\n",
            "Epoch 258/600\n",
            "125/125 [==============================] - 1s 4ms/step - loss: 0.1111 - accuracy: 0.9547 - val_loss: 0.3809 - val_accuracy: 0.8698\n",
            "Epoch 259/600\n",
            "125/125 [==============================] - 1s 4ms/step - loss: 0.1073 - accuracy: 0.9577 - val_loss: 0.3787 - val_accuracy: 0.8658\n",
            "Epoch 260/600\n",
            "125/125 [==============================] - 1s 4ms/step - loss: 0.1098 - accuracy: 0.9564 - val_loss: 0.3842 - val_accuracy: 0.8688\n",
            "Epoch 261/600\n",
            "125/125 [==============================] - 1s 4ms/step - loss: 0.1064 - accuracy: 0.9573 - val_loss: 0.3743 - val_accuracy: 0.8658\n",
            "Epoch 262/600\n",
            "125/125 [==============================] - 1s 4ms/step - loss: 0.1084 - accuracy: 0.9561 - val_loss: 0.3753 - val_accuracy: 0.8645\n",
            "Epoch 263/600\n",
            "125/125 [==============================] - 1s 4ms/step - loss: 0.1084 - accuracy: 0.9573 - val_loss: 0.3734 - val_accuracy: 0.8623\n",
            "Epoch 264/600\n",
            "125/125 [==============================] - 1s 5ms/step - loss: 0.1055 - accuracy: 0.9573 - val_loss: 0.3735 - val_accuracy: 0.8645\n",
            "Epoch 265/600\n",
            "125/125 [==============================] - 1s 4ms/step - loss: 0.1039 - accuracy: 0.9592 - val_loss: 0.3774 - val_accuracy: 0.8625\n",
            "Epoch 266/600\n",
            "125/125 [==============================] - 1s 5ms/step - loss: 0.1064 - accuracy: 0.9574 - val_loss: 0.3730 - val_accuracy: 0.8693\n",
            "Epoch 267/600\n",
            "125/125 [==============================] - 1s 4ms/step - loss: 0.1050 - accuracy: 0.9591 - val_loss: 0.3740 - val_accuracy: 0.8713\n",
            "Epoch 268/600\n",
            "125/125 [==============================] - 1s 5ms/step - loss: 0.1100 - accuracy: 0.9566 - val_loss: 0.3796 - val_accuracy: 0.8658\n",
            "Epoch 269/600\n",
            "125/125 [==============================] - 1s 4ms/step - loss: 0.1097 - accuracy: 0.9566 - val_loss: 0.3829 - val_accuracy: 0.8683\n",
            "Epoch 270/600\n",
            "125/125 [==============================] - 1s 4ms/step - loss: 0.1088 - accuracy: 0.9581 - val_loss: 0.3796 - val_accuracy: 0.8640\n",
            "Epoch 271/600\n",
            "125/125 [==============================] - 1s 4ms/step - loss: 0.1044 - accuracy: 0.9595 - val_loss: 0.3785 - val_accuracy: 0.8668\n",
            "Epoch 272/600\n",
            "125/125 [==============================] - 1s 4ms/step - loss: 0.1091 - accuracy: 0.9569 - val_loss: 0.3751 - val_accuracy: 0.8686\n",
            "Epoch 273/600\n",
            "125/125 [==============================] - 1s 5ms/step - loss: 0.1118 - accuracy: 0.9547 - val_loss: 0.3722 - val_accuracy: 0.8658\n",
            "Epoch 274/600\n",
            "125/125 [==============================] - 1s 4ms/step - loss: 0.1084 - accuracy: 0.9568 - val_loss: 0.3744 - val_accuracy: 0.8681\n",
            "Epoch 275/600\n",
            "125/125 [==============================] - 1s 5ms/step - loss: 0.1058 - accuracy: 0.9563 - val_loss: 0.3778 - val_accuracy: 0.8658\n",
            "Epoch 276/600\n",
            "125/125 [==============================] - 1s 4ms/step - loss: 0.1055 - accuracy: 0.9571 - val_loss: 0.3842 - val_accuracy: 0.8701\n",
            "Epoch 277/600\n",
            "125/125 [==============================] - 1s 4ms/step - loss: 0.1045 - accuracy: 0.9576 - val_loss: 0.3920 - val_accuracy: 0.8686\n",
            "Epoch 278/600\n",
            "125/125 [==============================] - 1s 4ms/step - loss: 0.1057 - accuracy: 0.9559 - val_loss: 0.3829 - val_accuracy: 0.8736\n",
            "Epoch 279/600\n",
            "125/125 [==============================] - 1s 4ms/step - loss: 0.1058 - accuracy: 0.9585 - val_loss: 0.3788 - val_accuracy: 0.8701\n",
            "Epoch 280/600\n",
            "125/125 [==============================] - 1s 4ms/step - loss: 0.1078 - accuracy: 0.9561 - val_loss: 0.3813 - val_accuracy: 0.8663\n",
            "Epoch 281/600\n",
            "125/125 [==============================] - 1s 4ms/step - loss: 0.1043 - accuracy: 0.9592 - val_loss: 0.3844 - val_accuracy: 0.8713\n",
            "Epoch 282/600\n",
            "125/125 [==============================] - 1s 4ms/step - loss: 0.1044 - accuracy: 0.9595 - val_loss: 0.3794 - val_accuracy: 0.8665\n",
            "Epoch 283/600\n",
            "125/125 [==============================] - 1s 4ms/step - loss: 0.1057 - accuracy: 0.9569 - val_loss: 0.3923 - val_accuracy: 0.8688\n",
            "Epoch 284/600\n",
            "125/125 [==============================] - 1s 5ms/step - loss: 0.1058 - accuracy: 0.9586 - val_loss: 0.3780 - val_accuracy: 0.8733\n",
            "Epoch 285/600\n",
            "125/125 [==============================] - 1s 4ms/step - loss: 0.1016 - accuracy: 0.9596 - val_loss: 0.3839 - val_accuracy: 0.8605\n",
            "Epoch 286/600\n",
            "125/125 [==============================] - 1s 4ms/step - loss: 0.1028 - accuracy: 0.9586 - val_loss: 0.3829 - val_accuracy: 0.8665\n",
            "Epoch 287/600\n",
            "125/125 [==============================] - 1s 4ms/step - loss: 0.1058 - accuracy: 0.9579 - val_loss: 0.3833 - val_accuracy: 0.8681\n",
            "Epoch 288/600\n",
            "125/125 [==============================] - 1s 4ms/step - loss: 0.1027 - accuracy: 0.9589 - val_loss: 0.3864 - val_accuracy: 0.8628\n",
            "Epoch 289/600\n",
            "125/125 [==============================] - 1s 4ms/step - loss: 0.1053 - accuracy: 0.9575 - val_loss: 0.3809 - val_accuracy: 0.8678\n",
            "Epoch 290/600\n",
            "125/125 [==============================] - 1s 4ms/step - loss: 0.1104 - accuracy: 0.9562 - val_loss: 0.3807 - val_accuracy: 0.8701\n",
            "Epoch 291/600\n",
            "125/125 [==============================] - 1s 4ms/step - loss: 0.1022 - accuracy: 0.9592 - val_loss: 0.3861 - val_accuracy: 0.8716\n",
            "Epoch 292/600\n",
            "125/125 [==============================] - 1s 4ms/step - loss: 0.1012 - accuracy: 0.9598 - val_loss: 0.3894 - val_accuracy: 0.8711\n",
            "Epoch 293/600\n",
            "125/125 [==============================] - 1s 4ms/step - loss: 0.1013 - accuracy: 0.9600 - val_loss: 0.4014 - val_accuracy: 0.8696\n",
            "Epoch 294/600\n",
            "125/125 [==============================] - 1s 4ms/step - loss: 0.1022 - accuracy: 0.9612 - val_loss: 0.3860 - val_accuracy: 0.8635\n",
            "Epoch 295/600\n",
            "125/125 [==============================] - 1s 4ms/step - loss: 0.1069 - accuracy: 0.9581 - val_loss: 0.3878 - val_accuracy: 0.8671\n",
            "Epoch 296/600\n",
            "125/125 [==============================] - 1s 5ms/step - loss: 0.1008 - accuracy: 0.9594 - val_loss: 0.3914 - val_accuracy: 0.8655\n",
            "Epoch 297/600\n",
            "125/125 [==============================] - 1s 4ms/step - loss: 0.1042 - accuracy: 0.9589 - val_loss: 0.3927 - val_accuracy: 0.8681\n",
            "Epoch 298/600\n",
            "125/125 [==============================] - 1s 4ms/step - loss: 0.1090 - accuracy: 0.9549 - val_loss: 0.3926 - val_accuracy: 0.8573\n",
            "Epoch 299/600\n",
            "125/125 [==============================] - 1s 4ms/step - loss: 0.1038 - accuracy: 0.9593 - val_loss: 0.3853 - val_accuracy: 0.8635\n",
            "Epoch 300/600\n",
            "125/125 [==============================] - 1s 4ms/step - loss: 0.1008 - accuracy: 0.9599 - val_loss: 0.3925 - val_accuracy: 0.8643\n",
            "Epoch 301/600\n",
            "125/125 [==============================] - 1s 4ms/step - loss: 0.0976 - accuracy: 0.9618 - val_loss: 0.3979 - val_accuracy: 0.8663\n",
            "Epoch 302/600\n",
            "125/125 [==============================] - 1s 4ms/step - loss: 0.0988 - accuracy: 0.9601 - val_loss: 0.4025 - val_accuracy: 0.8655\n",
            "Epoch 303/600\n",
            "125/125 [==============================] - 1s 5ms/step - loss: 0.1049 - accuracy: 0.9586 - val_loss: 0.4000 - val_accuracy: 0.8671\n",
            "Epoch 304/600\n",
            "125/125 [==============================] - 1s 4ms/step - loss: 0.1001 - accuracy: 0.9600 - val_loss: 0.3926 - val_accuracy: 0.8625\n",
            "Epoch 305/600\n",
            "125/125 [==============================] - 1s 4ms/step - loss: 0.1035 - accuracy: 0.9595 - val_loss: 0.3932 - val_accuracy: 0.8605\n",
            "Epoch 306/600\n",
            "125/125 [==============================] - 1s 4ms/step - loss: 0.1032 - accuracy: 0.9586 - val_loss: 0.3918 - val_accuracy: 0.8603\n",
            "Epoch 307/600\n",
            "125/125 [==============================] - 1s 4ms/step - loss: 0.0977 - accuracy: 0.9604 - val_loss: 0.4060 - val_accuracy: 0.8691\n",
            "Epoch 308/600\n",
            "125/125 [==============================] - 1s 4ms/step - loss: 0.1024 - accuracy: 0.9587 - val_loss: 0.3935 - val_accuracy: 0.8590\n",
            "Epoch 309/600\n",
            "125/125 [==============================] - 1s 4ms/step - loss: 0.0998 - accuracy: 0.9594 - val_loss: 0.3986 - val_accuracy: 0.8638\n",
            "Epoch 310/600\n",
            "125/125 [==============================] - 1s 4ms/step - loss: 0.1000 - accuracy: 0.9596 - val_loss: 0.4017 - val_accuracy: 0.8658\n",
            "Epoch 311/600\n",
            "125/125 [==============================] - 1s 4ms/step - loss: 0.0976 - accuracy: 0.9609 - val_loss: 0.3936 - val_accuracy: 0.8683\n",
            "Epoch 312/600\n",
            "125/125 [==============================] - 1s 5ms/step - loss: 0.1019 - accuracy: 0.9612 - val_loss: 0.3907 - val_accuracy: 0.8628\n",
            "Epoch 313/600\n",
            "125/125 [==============================] - 1s 4ms/step - loss: 0.0980 - accuracy: 0.9610 - val_loss: 0.4039 - val_accuracy: 0.8678\n",
            "Epoch 314/600\n",
            "125/125 [==============================] - 1s 4ms/step - loss: 0.1002 - accuracy: 0.9609 - val_loss: 0.3864 - val_accuracy: 0.8660\n",
            "Epoch 315/600\n",
            "125/125 [==============================] - 1s 4ms/step - loss: 0.1048 - accuracy: 0.9587 - val_loss: 0.3868 - val_accuracy: 0.8645\n",
            "Epoch 316/600\n",
            "125/125 [==============================] - 1s 5ms/step - loss: 0.0954 - accuracy: 0.9634 - val_loss: 0.3925 - val_accuracy: 0.8673\n",
            "Epoch 317/600\n",
            "125/125 [==============================] - 1s 4ms/step - loss: 0.0977 - accuracy: 0.9594 - val_loss: 0.3986 - val_accuracy: 0.8628\n",
            "Epoch 318/600\n",
            "125/125 [==============================] - 1s 4ms/step - loss: 0.0988 - accuracy: 0.9604 - val_loss: 0.4046 - val_accuracy: 0.8696\n",
            "Epoch 319/600\n",
            "125/125 [==============================] - 1s 4ms/step - loss: 0.1045 - accuracy: 0.9580 - val_loss: 0.4035 - val_accuracy: 0.8693\n",
            "Epoch 320/600\n",
            "125/125 [==============================] - 1s 4ms/step - loss: 0.0994 - accuracy: 0.9596 - val_loss: 0.3946 - val_accuracy: 0.8625\n",
            "Epoch 321/600\n",
            "125/125 [==============================] - 1s 4ms/step - loss: 0.1023 - accuracy: 0.9592 - val_loss: 0.3928 - val_accuracy: 0.8706\n",
            "Epoch 322/600\n",
            "125/125 [==============================] - 1s 4ms/step - loss: 0.0982 - accuracy: 0.9608 - val_loss: 0.3989 - val_accuracy: 0.8655\n",
            "Epoch 323/600\n",
            "125/125 [==============================] - 1s 4ms/step - loss: 0.1007 - accuracy: 0.9599 - val_loss: 0.3974 - val_accuracy: 0.8630\n",
            "Epoch 324/600\n",
            "125/125 [==============================] - 1s 4ms/step - loss: 0.0975 - accuracy: 0.9623 - val_loss: 0.4004 - val_accuracy: 0.8676\n",
            "Epoch 325/600\n",
            "125/125 [==============================] - 1s 4ms/step - loss: 0.1015 - accuracy: 0.9578 - val_loss: 0.3961 - val_accuracy: 0.8733\n",
            "Epoch 326/600\n",
            "125/125 [==============================] - 1s 4ms/step - loss: 0.1021 - accuracy: 0.9581 - val_loss: 0.3997 - val_accuracy: 0.8711\n",
            "Epoch 327/600\n",
            "125/125 [==============================] - 1s 4ms/step - loss: 0.1003 - accuracy: 0.9602 - val_loss: 0.4031 - val_accuracy: 0.8686\n",
            "Epoch 328/600\n",
            "125/125 [==============================] - 1s 5ms/step - loss: 0.1014 - accuracy: 0.9595 - val_loss: 0.4022 - val_accuracy: 0.8741\n",
            "Epoch 329/600\n",
            "125/125 [==============================] - 1s 4ms/step - loss: 0.0961 - accuracy: 0.9617 - val_loss: 0.4102 - val_accuracy: 0.8736\n",
            "Epoch 330/600\n",
            "125/125 [==============================] - 1s 4ms/step - loss: 0.0993 - accuracy: 0.9600 - val_loss: 0.4008 - val_accuracy: 0.8660\n",
            "Epoch 331/600\n",
            "125/125 [==============================] - 1s 4ms/step - loss: 0.0950 - accuracy: 0.9605 - val_loss: 0.4188 - val_accuracy: 0.8691\n",
            "Epoch 332/600\n",
            "125/125 [==============================] - 1s 4ms/step - loss: 0.0958 - accuracy: 0.9601 - val_loss: 0.3975 - val_accuracy: 0.8706\n",
            "Epoch 333/600\n",
            "125/125 [==============================] - 1s 4ms/step - loss: 0.0980 - accuracy: 0.9616 - val_loss: 0.3977 - val_accuracy: 0.8615\n",
            "Epoch 334/600\n",
            "125/125 [==============================] - 1s 4ms/step - loss: 0.0996 - accuracy: 0.9584 - val_loss: 0.3912 - val_accuracy: 0.8673\n",
            "Epoch 335/600\n",
            "125/125 [==============================] - 1s 4ms/step - loss: 0.1013 - accuracy: 0.9603 - val_loss: 0.4017 - val_accuracy: 0.8686\n",
            "Epoch 336/600\n",
            "125/125 [==============================] - 1s 5ms/step - loss: 0.0980 - accuracy: 0.9607 - val_loss: 0.4109 - val_accuracy: 0.8703\n",
            "Epoch 337/600\n",
            "125/125 [==============================] - 1s 4ms/step - loss: 0.0992 - accuracy: 0.9591 - val_loss: 0.4030 - val_accuracy: 0.8683\n",
            "Epoch 338/600\n",
            "125/125 [==============================] - 1s 4ms/step - loss: 0.0955 - accuracy: 0.9631 - val_loss: 0.4012 - val_accuracy: 0.8731\n",
            "Epoch 339/600\n",
            "125/125 [==============================] - 1s 4ms/step - loss: 0.0966 - accuracy: 0.9603 - val_loss: 0.4028 - val_accuracy: 0.8645\n",
            "Epoch 340/600\n",
            "125/125 [==============================] - 1s 4ms/step - loss: 0.1025 - accuracy: 0.9579 - val_loss: 0.4152 - val_accuracy: 0.8751\n",
            "Epoch 341/600\n",
            "125/125 [==============================] - 1s 4ms/step - loss: 0.1041 - accuracy: 0.9596 - val_loss: 0.4078 - val_accuracy: 0.8668\n",
            "Epoch 342/600\n",
            "125/125 [==============================] - 1s 4ms/step - loss: 0.0961 - accuracy: 0.9636 - val_loss: 0.4035 - val_accuracy: 0.8686\n",
            "Epoch 343/600\n",
            "125/125 [==============================] - 1s 5ms/step - loss: 0.0977 - accuracy: 0.9606 - val_loss: 0.4073 - val_accuracy: 0.8728\n",
            "Epoch 344/600\n",
            "125/125 [==============================] - 1s 4ms/step - loss: 0.1001 - accuracy: 0.9607 - val_loss: 0.4074 - val_accuracy: 0.8628\n",
            "Epoch 345/600\n",
            "125/125 [==============================] - 1s 4ms/step - loss: 0.0957 - accuracy: 0.9623 - val_loss: 0.4119 - val_accuracy: 0.8711\n",
            "Epoch 346/600\n",
            "125/125 [==============================] - 1s 5ms/step - loss: 0.0966 - accuracy: 0.9600 - val_loss: 0.4090 - val_accuracy: 0.8706\n",
            "Epoch 347/600\n",
            "125/125 [==============================] - 1s 5ms/step - loss: 0.0985 - accuracy: 0.9609 - val_loss: 0.4028 - val_accuracy: 0.8688\n",
            "Epoch 348/600\n",
            "125/125 [==============================] - 1s 4ms/step - loss: 0.0985 - accuracy: 0.9601 - val_loss: 0.3965 - val_accuracy: 0.8691\n",
            "Epoch 349/600\n",
            "125/125 [==============================] - 1s 4ms/step - loss: 0.0922 - accuracy: 0.9631 - val_loss: 0.4036 - val_accuracy: 0.8708\n",
            "Epoch 350/600\n",
            "125/125 [==============================] - 1s 4ms/step - loss: 0.0993 - accuracy: 0.9630 - val_loss: 0.4111 - val_accuracy: 0.8713\n",
            "Epoch 351/600\n",
            "125/125 [==============================] - 1s 4ms/step - loss: 0.0968 - accuracy: 0.9619 - val_loss: 0.4074 - val_accuracy: 0.8645\n",
            "Epoch 352/600\n",
            "125/125 [==============================] - 1s 4ms/step - loss: 0.0982 - accuracy: 0.9596 - val_loss: 0.3991 - val_accuracy: 0.8731\n",
            "Epoch 353/600\n",
            "125/125 [==============================] - 1s 5ms/step - loss: 0.0987 - accuracy: 0.9611 - val_loss: 0.4152 - val_accuracy: 0.8743\n",
            "Epoch 354/600\n",
            "125/125 [==============================] - 1s 5ms/step - loss: 0.0979 - accuracy: 0.9606 - val_loss: 0.4143 - val_accuracy: 0.8701\n",
            "Epoch 355/600\n",
            "125/125 [==============================] - 1s 4ms/step - loss: 0.0942 - accuracy: 0.9615 - val_loss: 0.4105 - val_accuracy: 0.8728\n",
            "Epoch 356/600\n",
            "125/125 [==============================] - 1s 4ms/step - loss: 0.0954 - accuracy: 0.9605 - val_loss: 0.4125 - val_accuracy: 0.8671\n",
            "Epoch 357/600\n",
            "125/125 [==============================] - 1s 4ms/step - loss: 0.0956 - accuracy: 0.9614 - val_loss: 0.4043 - val_accuracy: 0.8726\n",
            "Epoch 358/600\n",
            "125/125 [==============================] - 1s 4ms/step - loss: 0.0966 - accuracy: 0.9609 - val_loss: 0.4023 - val_accuracy: 0.8640\n",
            "Epoch 359/600\n",
            "125/125 [==============================] - 1s 4ms/step - loss: 0.0927 - accuracy: 0.9639 - val_loss: 0.4128 - val_accuracy: 0.8693\n",
            "Epoch 360/600\n",
            "125/125 [==============================] - 1s 4ms/step - loss: 0.0914 - accuracy: 0.9631 - val_loss: 0.4118 - val_accuracy: 0.8688\n",
            "Epoch 361/600\n",
            "125/125 [==============================] - 1s 4ms/step - loss: 0.0913 - accuracy: 0.9653 - val_loss: 0.4089 - val_accuracy: 0.8638\n",
            "Epoch 362/600\n",
            "125/125 [==============================] - 1s 4ms/step - loss: 0.0969 - accuracy: 0.9616 - val_loss: 0.4201 - val_accuracy: 0.8668\n",
            "Epoch 363/600\n",
            "125/125 [==============================] - 1s 5ms/step - loss: 0.0940 - accuracy: 0.9629 - val_loss: 0.4141 - val_accuracy: 0.8688\n",
            "Epoch 364/600\n",
            "125/125 [==============================] - 1s 5ms/step - loss: 0.0957 - accuracy: 0.9611 - val_loss: 0.4055 - val_accuracy: 0.8655\n",
            "Epoch 365/600\n",
            "125/125 [==============================] - 1s 4ms/step - loss: 0.0945 - accuracy: 0.9617 - val_loss: 0.4186 - val_accuracy: 0.8718\n",
            "Epoch 366/600\n",
            "125/125 [==============================] - 1s 5ms/step - loss: 0.1003 - accuracy: 0.9613 - val_loss: 0.4034 - val_accuracy: 0.8650\n",
            "Epoch 367/600\n",
            "125/125 [==============================] - 1s 4ms/step - loss: 0.0964 - accuracy: 0.9622 - val_loss: 0.4041 - val_accuracy: 0.8688\n",
            "Epoch 368/600\n",
            "125/125 [==============================] - 1s 5ms/step - loss: 0.0949 - accuracy: 0.9623 - val_loss: 0.4007 - val_accuracy: 0.8668\n",
            "Epoch 369/600\n",
            "125/125 [==============================] - 1s 5ms/step - loss: 0.0942 - accuracy: 0.9611 - val_loss: 0.4033 - val_accuracy: 0.8678\n",
            "Epoch 370/600\n",
            "125/125 [==============================] - 1s 5ms/step - loss: 0.0979 - accuracy: 0.9611 - val_loss: 0.4073 - val_accuracy: 0.8638\n",
            "Epoch 371/600\n",
            "125/125 [==============================] - 1s 5ms/step - loss: 0.0913 - accuracy: 0.9651 - val_loss: 0.4139 - val_accuracy: 0.8668\n",
            "Epoch 372/600\n",
            "125/125 [==============================] - 1s 5ms/step - loss: 0.0935 - accuracy: 0.9624 - val_loss: 0.4057 - val_accuracy: 0.8653\n",
            "Epoch 373/600\n",
            "125/125 [==============================] - 1s 4ms/step - loss: 0.0975 - accuracy: 0.9595 - val_loss: 0.4142 - val_accuracy: 0.8665\n",
            "Epoch 374/600\n",
            "125/125 [==============================] - 1s 5ms/step - loss: 0.0955 - accuracy: 0.9624 - val_loss: 0.4068 - val_accuracy: 0.8623\n",
            "Epoch 375/600\n",
            "125/125 [==============================] - 1s 4ms/step - loss: 0.0912 - accuracy: 0.9644 - val_loss: 0.4186 - val_accuracy: 0.8663\n",
            "Epoch 376/600\n",
            "125/125 [==============================] - 1s 4ms/step - loss: 0.0915 - accuracy: 0.9628 - val_loss: 0.4112 - val_accuracy: 0.8630\n",
            "Epoch 377/600\n",
            "125/125 [==============================] - 1s 4ms/step - loss: 0.0912 - accuracy: 0.9630 - val_loss: 0.4069 - val_accuracy: 0.8711\n",
            "Epoch 378/600\n",
            "125/125 [==============================] - 1s 4ms/step - loss: 0.0962 - accuracy: 0.9614 - val_loss: 0.4123 - val_accuracy: 0.8686\n",
            "Epoch 379/600\n",
            "125/125 [==============================] - 1s 5ms/step - loss: 0.0913 - accuracy: 0.9649 - val_loss: 0.4170 - val_accuracy: 0.8708\n",
            "Epoch 380/600\n",
            "125/125 [==============================] - 1s 4ms/step - loss: 0.0968 - accuracy: 0.9616 - val_loss: 0.4178 - val_accuracy: 0.8640\n",
            "Epoch 381/600\n",
            "125/125 [==============================] - 1s 5ms/step - loss: 0.0929 - accuracy: 0.9633 - val_loss: 0.4225 - val_accuracy: 0.8716\n",
            "Epoch 382/600\n",
            "125/125 [==============================] - 1s 4ms/step - loss: 0.0992 - accuracy: 0.9606 - val_loss: 0.4100 - val_accuracy: 0.8676\n",
            "Epoch 383/600\n",
            "125/125 [==============================] - 1s 4ms/step - loss: 0.0976 - accuracy: 0.9601 - val_loss: 0.4079 - val_accuracy: 0.8600\n",
            "Epoch 384/600\n",
            "125/125 [==============================] - 1s 4ms/step - loss: 0.0938 - accuracy: 0.9641 - val_loss: 0.4138 - val_accuracy: 0.8653\n",
            "Epoch 385/600\n",
            "125/125 [==============================] - 1s 4ms/step - loss: 0.0938 - accuracy: 0.9632 - val_loss: 0.4181 - val_accuracy: 0.8653\n",
            "Epoch 386/600\n",
            "125/125 [==============================] - 1s 5ms/step - loss: 0.0949 - accuracy: 0.9633 - val_loss: 0.4161 - val_accuracy: 0.8683\n",
            "Epoch 387/600\n",
            "125/125 [==============================] - 1s 5ms/step - loss: 0.0902 - accuracy: 0.9631 - val_loss: 0.4131 - val_accuracy: 0.8663\n",
            "Epoch 388/600\n",
            "125/125 [==============================] - 1s 4ms/step - loss: 0.0933 - accuracy: 0.9641 - val_loss: 0.4192 - val_accuracy: 0.8693\n",
            "Epoch 389/600\n",
            "125/125 [==============================] - 1s 5ms/step - loss: 0.0934 - accuracy: 0.9619 - val_loss: 0.4189 - val_accuracy: 0.8686\n",
            "Epoch 390/600\n",
            "125/125 [==============================] - 1s 4ms/step - loss: 0.0925 - accuracy: 0.9637 - val_loss: 0.4094 - val_accuracy: 0.8686\n",
            "Epoch 391/600\n",
            "125/125 [==============================] - 1s 4ms/step - loss: 0.0893 - accuracy: 0.9659 - val_loss: 0.4129 - val_accuracy: 0.8648\n",
            "Epoch 392/600\n",
            "125/125 [==============================] - 1s 4ms/step - loss: 0.0956 - accuracy: 0.9631 - val_loss: 0.4244 - val_accuracy: 0.8693\n",
            "Epoch 393/600\n",
            "125/125 [==============================] - 1s 4ms/step - loss: 0.0942 - accuracy: 0.9620 - val_loss: 0.4149 - val_accuracy: 0.8683\n",
            "Epoch 394/600\n",
            "125/125 [==============================] - 1s 4ms/step - loss: 0.0895 - accuracy: 0.9638 - val_loss: 0.4313 - val_accuracy: 0.8708\n",
            "Epoch 395/600\n",
            "125/125 [==============================] - 1s 4ms/step - loss: 0.0890 - accuracy: 0.9647 - val_loss: 0.4187 - val_accuracy: 0.8673\n",
            "Epoch 396/600\n",
            "125/125 [==============================] - 1s 5ms/step - loss: 0.0963 - accuracy: 0.9619 - val_loss: 0.4184 - val_accuracy: 0.8668\n",
            "Epoch 397/600\n",
            "125/125 [==============================] - 1s 4ms/step - loss: 0.0978 - accuracy: 0.9600 - val_loss: 0.4249 - val_accuracy: 0.8673\n",
            "Epoch 398/600\n",
            "125/125 [==============================] - 1s 5ms/step - loss: 0.0915 - accuracy: 0.9649 - val_loss: 0.4123 - val_accuracy: 0.8703\n",
            "Epoch 399/600\n",
            "125/125 [==============================] - 1s 4ms/step - loss: 0.0941 - accuracy: 0.9621 - val_loss: 0.4165 - val_accuracy: 0.8653\n",
            "Epoch 400/600\n",
            "125/125 [==============================] - 1s 4ms/step - loss: 0.0908 - accuracy: 0.9633 - val_loss: 0.4117 - val_accuracy: 0.8645\n",
            "Epoch 401/600\n",
            "125/125 [==============================] - 1s 5ms/step - loss: 0.0916 - accuracy: 0.9629 - val_loss: 0.4229 - val_accuracy: 0.8668\n",
            "Epoch 402/600\n",
            "125/125 [==============================] - 1s 4ms/step - loss: 0.0905 - accuracy: 0.9656 - val_loss: 0.4190 - val_accuracy: 0.8643\n",
            "Epoch 403/600\n",
            "125/125 [==============================] - 1s 4ms/step - loss: 0.0850 - accuracy: 0.9664 - val_loss: 0.4226 - val_accuracy: 0.8681\n",
            "Epoch 404/600\n",
            "125/125 [==============================] - 1s 5ms/step - loss: 0.0940 - accuracy: 0.9612 - val_loss: 0.4261 - val_accuracy: 0.8706\n",
            "Epoch 405/600\n",
            "125/125 [==============================] - 1s 4ms/step - loss: 0.0910 - accuracy: 0.9654 - val_loss: 0.4228 - val_accuracy: 0.8691\n",
            "Epoch 406/600\n",
            "125/125 [==============================] - 1s 4ms/step - loss: 0.0925 - accuracy: 0.9639 - val_loss: 0.4270 - val_accuracy: 0.8665\n",
            "Epoch 407/600\n",
            "125/125 [==============================] - 1s 5ms/step - loss: 0.0868 - accuracy: 0.9639 - val_loss: 0.4298 - val_accuracy: 0.8688\n",
            "Epoch 408/600\n",
            "125/125 [==============================] - 1s 5ms/step - loss: 0.0952 - accuracy: 0.9610 - val_loss: 0.4229 - val_accuracy: 0.8595\n",
            "Epoch 409/600\n",
            "125/125 [==============================] - 1s 5ms/step - loss: 0.0952 - accuracy: 0.9615 - val_loss: 0.4210 - val_accuracy: 0.8683\n",
            "Epoch 410/600\n",
            "125/125 [==============================] - 1s 5ms/step - loss: 0.0886 - accuracy: 0.9653 - val_loss: 0.4258 - val_accuracy: 0.8645\n",
            "Epoch 411/600\n",
            "125/125 [==============================] - 1s 4ms/step - loss: 0.0905 - accuracy: 0.9646 - val_loss: 0.4160 - val_accuracy: 0.8660\n",
            "Epoch 412/600\n",
            "125/125 [==============================] - 1s 4ms/step - loss: 0.0887 - accuracy: 0.9641 - val_loss: 0.4247 - val_accuracy: 0.8648\n",
            "Epoch 413/600\n",
            "125/125 [==============================] - 1s 4ms/step - loss: 0.0860 - accuracy: 0.9655 - val_loss: 0.4272 - val_accuracy: 0.8671\n",
            "Epoch 414/600\n",
            "125/125 [==============================] - 1s 5ms/step - loss: 0.0913 - accuracy: 0.9628 - val_loss: 0.4203 - val_accuracy: 0.8635\n",
            "Epoch 415/600\n",
            "125/125 [==============================] - 1s 4ms/step - loss: 0.0948 - accuracy: 0.9611 - val_loss: 0.4333 - val_accuracy: 0.8615\n",
            "Epoch 416/600\n",
            "125/125 [==============================] - 1s 5ms/step - loss: 0.0931 - accuracy: 0.9625 - val_loss: 0.4134 - val_accuracy: 0.8663\n",
            "Epoch 417/600\n",
            "125/125 [==============================] - 1s 4ms/step - loss: 0.0903 - accuracy: 0.9641 - val_loss: 0.4311 - val_accuracy: 0.8671\n",
            "Epoch 418/600\n",
            "125/125 [==============================] - 1s 5ms/step - loss: 0.0910 - accuracy: 0.9643 - val_loss: 0.4282 - val_accuracy: 0.8668\n",
            "Epoch 419/600\n",
            "125/125 [==============================] - 1s 5ms/step - loss: 0.0877 - accuracy: 0.9658 - val_loss: 0.4312 - val_accuracy: 0.8671\n",
            "Epoch 420/600\n",
            "125/125 [==============================] - 1s 5ms/step - loss: 0.0890 - accuracy: 0.9646 - val_loss: 0.4256 - val_accuracy: 0.8648\n",
            "Epoch 421/600\n",
            "125/125 [==============================] - 1s 5ms/step - loss: 0.0934 - accuracy: 0.9629 - val_loss: 0.4257 - val_accuracy: 0.8645\n",
            "Epoch 422/600\n",
            "125/125 [==============================] - 1s 5ms/step - loss: 0.0897 - accuracy: 0.9648 - val_loss: 0.4234 - val_accuracy: 0.8698\n",
            "Epoch 423/600\n",
            "125/125 [==============================] - 1s 4ms/step - loss: 0.0904 - accuracy: 0.9628 - val_loss: 0.4304 - val_accuracy: 0.8633\n",
            "Epoch 424/600\n",
            "125/125 [==============================] - 1s 5ms/step - loss: 0.0892 - accuracy: 0.9649 - val_loss: 0.4305 - val_accuracy: 0.8693\n",
            "Epoch 425/600\n",
            "125/125 [==============================] - 1s 4ms/step - loss: 0.0875 - accuracy: 0.9657 - val_loss: 0.4320 - val_accuracy: 0.8640\n",
            "Epoch 426/600\n",
            "125/125 [==============================] - 1s 5ms/step - loss: 0.0901 - accuracy: 0.9626 - val_loss: 0.4208 - val_accuracy: 0.8663\n",
            "Epoch 427/600\n",
            "125/125 [==============================] - 1s 4ms/step - loss: 0.0883 - accuracy: 0.9648 - val_loss: 0.4234 - val_accuracy: 0.8703\n",
            "Epoch 428/600\n",
            "125/125 [==============================] - 1s 5ms/step - loss: 0.0900 - accuracy: 0.9648 - val_loss: 0.4236 - val_accuracy: 0.8633\n",
            "Epoch 429/600\n",
            "125/125 [==============================] - 1s 5ms/step - loss: 0.0904 - accuracy: 0.9651 - val_loss: 0.4282 - val_accuracy: 0.8671\n",
            "Epoch 430/600\n",
            "125/125 [==============================] - 1s 4ms/step - loss: 0.0886 - accuracy: 0.9644 - val_loss: 0.4382 - val_accuracy: 0.8681\n",
            "Epoch 431/600\n",
            "125/125 [==============================] - 1s 5ms/step - loss: 0.0891 - accuracy: 0.9641 - val_loss: 0.4373 - val_accuracy: 0.8608\n",
            "Epoch 432/600\n",
            "125/125 [==============================] - 1s 4ms/step - loss: 0.0891 - accuracy: 0.9646 - val_loss: 0.4379 - val_accuracy: 0.8665\n",
            "Epoch 433/600\n",
            "125/125 [==============================] - 1s 5ms/step - loss: 0.0856 - accuracy: 0.9665 - val_loss: 0.4324 - val_accuracy: 0.8678\n",
            "Epoch 434/600\n",
            "125/125 [==============================] - 1s 5ms/step - loss: 0.0921 - accuracy: 0.9624 - val_loss: 0.4324 - val_accuracy: 0.8696\n",
            "Epoch 435/600\n",
            "125/125 [==============================] - 1s 5ms/step - loss: 0.0877 - accuracy: 0.9656 - val_loss: 0.4270 - val_accuracy: 0.8620\n",
            "Epoch 436/600\n",
            "125/125 [==============================] - 1s 5ms/step - loss: 0.0912 - accuracy: 0.9634 - val_loss: 0.4370 - val_accuracy: 0.8665\n",
            "Epoch 437/600\n",
            "125/125 [==============================] - 1s 5ms/step - loss: 0.0884 - accuracy: 0.9639 - val_loss: 0.4206 - val_accuracy: 0.8658\n",
            "Epoch 438/600\n",
            "125/125 [==============================] - 1s 5ms/step - loss: 0.0932 - accuracy: 0.9633 - val_loss: 0.4269 - val_accuracy: 0.8696\n",
            "Epoch 439/600\n",
            "125/125 [==============================] - 1s 5ms/step - loss: 0.0942 - accuracy: 0.9638 - val_loss: 0.4147 - val_accuracy: 0.8681\n",
            "Epoch 440/600\n",
            "125/125 [==============================] - 1s 5ms/step - loss: 0.0891 - accuracy: 0.9644 - val_loss: 0.4283 - val_accuracy: 0.8665\n",
            "Epoch 441/600\n",
            "125/125 [==============================] - 1s 5ms/step - loss: 0.0895 - accuracy: 0.9623 - val_loss: 0.4323 - val_accuracy: 0.8688\n",
            "Epoch 442/600\n",
            "125/125 [==============================] - 1s 4ms/step - loss: 0.0946 - accuracy: 0.9631 - val_loss: 0.4327 - val_accuracy: 0.8686\n",
            "Epoch 443/600\n",
            "125/125 [==============================] - 1s 5ms/step - loss: 0.0864 - accuracy: 0.9649 - val_loss: 0.4338 - val_accuracy: 0.8623\n",
            "Epoch 444/600\n",
            "125/125 [==============================] - 1s 4ms/step - loss: 0.0898 - accuracy: 0.9636 - val_loss: 0.4354 - val_accuracy: 0.8696\n",
            "Epoch 445/600\n",
            "125/125 [==============================] - 1s 5ms/step - loss: 0.0905 - accuracy: 0.9637 - val_loss: 0.4280 - val_accuracy: 0.8653\n",
            "Epoch 446/600\n",
            "125/125 [==============================] - 1s 5ms/step - loss: 0.0892 - accuracy: 0.9632 - val_loss: 0.4355 - val_accuracy: 0.8663\n",
            "Epoch 447/600\n",
            "125/125 [==============================] - 1s 5ms/step - loss: 0.0918 - accuracy: 0.9651 - val_loss: 0.4272 - val_accuracy: 0.8665\n",
            "Epoch 448/600\n",
            "125/125 [==============================] - 1s 4ms/step - loss: 0.0889 - accuracy: 0.9656 - val_loss: 0.4411 - val_accuracy: 0.8645\n",
            "Epoch 449/600\n",
            "125/125 [==============================] - 1s 4ms/step - loss: 0.0947 - accuracy: 0.9621 - val_loss: 0.4308 - val_accuracy: 0.8686\n",
            "Epoch 450/600\n",
            "125/125 [==============================] - 1s 5ms/step - loss: 0.0871 - accuracy: 0.9661 - val_loss: 0.4289 - val_accuracy: 0.8658\n",
            "Epoch 451/600\n",
            "125/125 [==============================] - 1s 4ms/step - loss: 0.0898 - accuracy: 0.9654 - val_loss: 0.4384 - val_accuracy: 0.8653\n",
            "Epoch 452/600\n",
            "125/125 [==============================] - 1s 4ms/step - loss: 0.0856 - accuracy: 0.9663 - val_loss: 0.4433 - val_accuracy: 0.8671\n",
            "Epoch 453/600\n",
            "125/125 [==============================] - 1s 5ms/step - loss: 0.0898 - accuracy: 0.9633 - val_loss: 0.4453 - val_accuracy: 0.8650\n",
            "Epoch 454/600\n",
            "125/125 [==============================] - 1s 5ms/step - loss: 0.0935 - accuracy: 0.9638 - val_loss: 0.4281 - val_accuracy: 0.8638\n",
            "Epoch 455/600\n",
            "125/125 [==============================] - 1s 5ms/step - loss: 0.0880 - accuracy: 0.9660 - val_loss: 0.4372 - val_accuracy: 0.8655\n",
            "Epoch 456/600\n",
            "125/125 [==============================] - 1s 5ms/step - loss: 0.0908 - accuracy: 0.9640 - val_loss: 0.4403 - val_accuracy: 0.8653\n",
            "Epoch 457/600\n",
            "125/125 [==============================] - 1s 5ms/step - loss: 0.0860 - accuracy: 0.9664 - val_loss: 0.4310 - val_accuracy: 0.8633\n",
            "Epoch 458/600\n",
            "125/125 [==============================] - 1s 5ms/step - loss: 0.0880 - accuracy: 0.9656 - val_loss: 0.4330 - val_accuracy: 0.8645\n",
            "Epoch 459/600\n",
            "125/125 [==============================] - 1s 5ms/step - loss: 0.0937 - accuracy: 0.9644 - val_loss: 0.4266 - val_accuracy: 0.8633\n",
            "Epoch 460/600\n",
            "125/125 [==============================] - 1s 5ms/step - loss: 0.0868 - accuracy: 0.9649 - val_loss: 0.4339 - val_accuracy: 0.8605\n",
            "Epoch 461/600\n",
            "125/125 [==============================] - 1s 5ms/step - loss: 0.0945 - accuracy: 0.9637 - val_loss: 0.4367 - val_accuracy: 0.8648\n",
            "Epoch 462/600\n",
            "125/125 [==============================] - 1s 5ms/step - loss: 0.0857 - accuracy: 0.9654 - val_loss: 0.4394 - val_accuracy: 0.8635\n",
            "Epoch 463/600\n",
            "125/125 [==============================] - 1s 5ms/step - loss: 0.0891 - accuracy: 0.9649 - val_loss: 0.4423 - val_accuracy: 0.8658\n",
            "Epoch 464/600\n",
            "125/125 [==============================] - 1s 5ms/step - loss: 0.0894 - accuracy: 0.9667 - val_loss: 0.4274 - val_accuracy: 0.8676\n",
            "Epoch 465/600\n",
            "125/125 [==============================] - 1s 5ms/step - loss: 0.0922 - accuracy: 0.9633 - val_loss: 0.4349 - val_accuracy: 0.8603\n",
            "Epoch 466/600\n",
            "125/125 [==============================] - 1s 5ms/step - loss: 0.0888 - accuracy: 0.9637 - val_loss: 0.4380 - val_accuracy: 0.8640\n",
            "Epoch 467/600\n",
            "125/125 [==============================] - 1s 4ms/step - loss: 0.0835 - accuracy: 0.9674 - val_loss: 0.4369 - val_accuracy: 0.8625\n",
            "Epoch 468/600\n",
            "125/125 [==============================] - 1s 4ms/step - loss: 0.0875 - accuracy: 0.9661 - val_loss: 0.4421 - val_accuracy: 0.8643\n",
            "Epoch 469/600\n",
            "125/125 [==============================] - 1s 5ms/step - loss: 0.0908 - accuracy: 0.9620 - val_loss: 0.4471 - val_accuracy: 0.8658\n",
            "Epoch 470/600\n",
            "125/125 [==============================] - 1s 4ms/step - loss: 0.0884 - accuracy: 0.9652 - val_loss: 0.4409 - val_accuracy: 0.8640\n",
            "Epoch 471/600\n",
            "125/125 [==============================] - 1s 5ms/step - loss: 0.0908 - accuracy: 0.9644 - val_loss: 0.4466 - val_accuracy: 0.8658\n",
            "Epoch 472/600\n",
            "125/125 [==============================] - 1s 5ms/step - loss: 0.0873 - accuracy: 0.9645 - val_loss: 0.4307 - val_accuracy: 0.8691\n",
            "Epoch 473/600\n",
            "125/125 [==============================] - 1s 4ms/step - loss: 0.0870 - accuracy: 0.9649 - val_loss: 0.4280 - val_accuracy: 0.8653\n",
            "Epoch 474/600\n",
            "125/125 [==============================] - 1s 5ms/step - loss: 0.0871 - accuracy: 0.9655 - val_loss: 0.4414 - val_accuracy: 0.8683\n",
            "Epoch 475/600\n",
            "125/125 [==============================] - 1s 4ms/step - loss: 0.0905 - accuracy: 0.9644 - val_loss: 0.4404 - val_accuracy: 0.8645\n",
            "Epoch 476/600\n",
            "125/125 [==============================] - 1s 5ms/step - loss: 0.0942 - accuracy: 0.9625 - val_loss: 0.4438 - val_accuracy: 0.8630\n",
            "Epoch 477/600\n",
            "125/125 [==============================] - 1s 5ms/step - loss: 0.0902 - accuracy: 0.9649 - val_loss: 0.4398 - val_accuracy: 0.8683\n",
            "Epoch 478/600\n",
            "125/125 [==============================] - 1s 5ms/step - loss: 0.0900 - accuracy: 0.9647 - val_loss: 0.4396 - val_accuracy: 0.8708\n",
            "Epoch 479/600\n",
            "125/125 [==============================] - 1s 5ms/step - loss: 0.0895 - accuracy: 0.9643 - val_loss: 0.4483 - val_accuracy: 0.8663\n",
            "Epoch 480/600\n",
            "125/125 [==============================] - 1s 4ms/step - loss: 0.0832 - accuracy: 0.9661 - val_loss: 0.4501 - val_accuracy: 0.8668\n",
            "Epoch 481/600\n",
            "125/125 [==============================] - 1s 5ms/step - loss: 0.0892 - accuracy: 0.9646 - val_loss: 0.4425 - val_accuracy: 0.8665\n",
            "Epoch 482/600\n",
            "125/125 [==============================] - 1s 4ms/step - loss: 0.0908 - accuracy: 0.9638 - val_loss: 0.4400 - val_accuracy: 0.8600\n",
            "Epoch 483/600\n",
            "125/125 [==============================] - 1s 5ms/step - loss: 0.0876 - accuracy: 0.9642 - val_loss: 0.4464 - val_accuracy: 0.8650\n",
            "Epoch 484/600\n",
            "125/125 [==============================] - 1s 5ms/step - loss: 0.0854 - accuracy: 0.9670 - val_loss: 0.4386 - val_accuracy: 0.8633\n",
            "Epoch 485/600\n",
            "125/125 [==============================] - 1s 4ms/step - loss: 0.0904 - accuracy: 0.9640 - val_loss: 0.4460 - val_accuracy: 0.8688\n",
            "Epoch 486/600\n",
            "125/125 [==============================] - 1s 5ms/step - loss: 0.0882 - accuracy: 0.9642 - val_loss: 0.4502 - val_accuracy: 0.8655\n",
            "Epoch 487/600\n",
            "125/125 [==============================] - 1s 5ms/step - loss: 0.0886 - accuracy: 0.9651 - val_loss: 0.4426 - val_accuracy: 0.8615\n",
            "Epoch 488/600\n",
            "125/125 [==============================] - 1s 5ms/step - loss: 0.0875 - accuracy: 0.9651 - val_loss: 0.4425 - val_accuracy: 0.8653\n",
            "Epoch 489/600\n",
            "125/125 [==============================] - 1s 5ms/step - loss: 0.0869 - accuracy: 0.9659 - val_loss: 0.4515 - val_accuracy: 0.8701\n",
            "Epoch 490/600\n",
            "125/125 [==============================] - 1s 5ms/step - loss: 0.0870 - accuracy: 0.9656 - val_loss: 0.4401 - val_accuracy: 0.8663\n",
            "Epoch 491/600\n",
            "125/125 [==============================] - 1s 4ms/step - loss: 0.0921 - accuracy: 0.9635 - val_loss: 0.4453 - val_accuracy: 0.8640\n",
            "Epoch 492/600\n",
            "125/125 [==============================] - 1s 4ms/step - loss: 0.0818 - accuracy: 0.9671 - val_loss: 0.4446 - val_accuracy: 0.8660\n",
            "Epoch 493/600\n",
            "125/125 [==============================] - 1s 5ms/step - loss: 0.0857 - accuracy: 0.9657 - val_loss: 0.4420 - val_accuracy: 0.8683\n",
            "Epoch 494/600\n",
            "125/125 [==============================] - 1s 5ms/step - loss: 0.0877 - accuracy: 0.9656 - val_loss: 0.4454 - val_accuracy: 0.8618\n",
            "Epoch 495/600\n",
            "125/125 [==============================] - 1s 5ms/step - loss: 0.0867 - accuracy: 0.9659 - val_loss: 0.4425 - val_accuracy: 0.8655\n",
            "Epoch 496/600\n",
            "125/125 [==============================] - 1s 5ms/step - loss: 0.0853 - accuracy: 0.9666 - val_loss: 0.4406 - val_accuracy: 0.8633\n",
            "Epoch 497/600\n",
            "125/125 [==============================] - 1s 5ms/step - loss: 0.0897 - accuracy: 0.9624 - val_loss: 0.4480 - val_accuracy: 0.8655\n",
            "Epoch 498/600\n",
            "125/125 [==============================] - 1s 5ms/step - loss: 0.0894 - accuracy: 0.9661 - val_loss: 0.4430 - val_accuracy: 0.8668\n",
            "Epoch 499/600\n",
            "125/125 [==============================] - 1s 5ms/step - loss: 0.0852 - accuracy: 0.9659 - val_loss: 0.4518 - val_accuracy: 0.8640\n",
            "Epoch 500/600\n",
            "125/125 [==============================] - 1s 5ms/step - loss: 0.0885 - accuracy: 0.9642 - val_loss: 0.4406 - val_accuracy: 0.8643\n",
            "Epoch 501/600\n",
            "125/125 [==============================] - 1s 5ms/step - loss: 0.0879 - accuracy: 0.9640 - val_loss: 0.4422 - val_accuracy: 0.8668\n",
            "Epoch 502/600\n",
            "125/125 [==============================] - 1s 4ms/step - loss: 0.0817 - accuracy: 0.9666 - val_loss: 0.4490 - val_accuracy: 0.8696\n",
            "Epoch 503/600\n",
            "125/125 [==============================] - 1s 5ms/step - loss: 0.0885 - accuracy: 0.9639 - val_loss: 0.4465 - val_accuracy: 0.8638\n",
            "Epoch 504/600\n",
            "125/125 [==============================] - 1s 5ms/step - loss: 0.0922 - accuracy: 0.9624 - val_loss: 0.4400 - val_accuracy: 0.8671\n",
            "Epoch 505/600\n",
            "125/125 [==============================] - 1s 6ms/step - loss: 0.0895 - accuracy: 0.9649 - val_loss: 0.4353 - val_accuracy: 0.8698\n",
            "Epoch 506/600\n",
            "125/125 [==============================] - 1s 7ms/step - loss: 0.0866 - accuracy: 0.9654 - val_loss: 0.4566 - val_accuracy: 0.8663\n",
            "Epoch 507/600\n",
            "125/125 [==============================] - 1s 7ms/step - loss: 0.0856 - accuracy: 0.9659 - val_loss: 0.4477 - val_accuracy: 0.8645\n",
            "Epoch 508/600\n",
            "125/125 [==============================] - 1s 7ms/step - loss: 0.0865 - accuracy: 0.9662 - val_loss: 0.4447 - val_accuracy: 0.8613\n",
            "Epoch 509/600\n",
            "125/125 [==============================] - 1s 7ms/step - loss: 0.0846 - accuracy: 0.9677 - val_loss: 0.4560 - val_accuracy: 0.8668\n",
            "Epoch 510/600\n",
            "125/125 [==============================] - 1s 7ms/step - loss: 0.0893 - accuracy: 0.9643 - val_loss: 0.4586 - val_accuracy: 0.8595\n",
            "Epoch 511/600\n",
            "125/125 [==============================] - 1s 7ms/step - loss: 0.0879 - accuracy: 0.9645 - val_loss: 0.4533 - val_accuracy: 0.8671\n",
            "Epoch 512/600\n",
            "125/125 [==============================] - 1s 6ms/step - loss: 0.0882 - accuracy: 0.9628 - val_loss: 0.4501 - val_accuracy: 0.8706\n",
            "Epoch 513/600\n",
            "125/125 [==============================] - 1s 6ms/step - loss: 0.0877 - accuracy: 0.9639 - val_loss: 0.4379 - val_accuracy: 0.8686\n",
            "Epoch 514/600\n",
            "125/125 [==============================] - 1s 7ms/step - loss: 0.0853 - accuracy: 0.9656 - val_loss: 0.4462 - val_accuracy: 0.8610\n",
            "Epoch 515/600\n",
            "125/125 [==============================] - 1s 6ms/step - loss: 0.0856 - accuracy: 0.9644 - val_loss: 0.4479 - val_accuracy: 0.8608\n",
            "Epoch 516/600\n",
            "125/125 [==============================] - 1s 7ms/step - loss: 0.0900 - accuracy: 0.9642 - val_loss: 0.4279 - val_accuracy: 0.8645\n",
            "Epoch 517/600\n",
            "125/125 [==============================] - 1s 7ms/step - loss: 0.0854 - accuracy: 0.9668 - val_loss: 0.4514 - val_accuracy: 0.8698\n",
            "Epoch 518/600\n",
            "125/125 [==============================] - 1s 6ms/step - loss: 0.0840 - accuracy: 0.9673 - val_loss: 0.4539 - val_accuracy: 0.8676\n",
            "Epoch 519/600\n",
            "125/125 [==============================] - 1s 6ms/step - loss: 0.0871 - accuracy: 0.9638 - val_loss: 0.4506 - val_accuracy: 0.8650\n",
            "Epoch 520/600\n",
            "125/125 [==============================] - 1s 5ms/step - loss: 0.0800 - accuracy: 0.9679 - val_loss: 0.4549 - val_accuracy: 0.8663\n",
            "Epoch 521/600\n",
            "125/125 [==============================] - 1s 5ms/step - loss: 0.0839 - accuracy: 0.9669 - val_loss: 0.4496 - val_accuracy: 0.8660\n",
            "Epoch 522/600\n",
            "125/125 [==============================] - 1s 5ms/step - loss: 0.0906 - accuracy: 0.9636 - val_loss: 0.4554 - val_accuracy: 0.8686\n",
            "Epoch 523/600\n",
            "125/125 [==============================] - 1s 5ms/step - loss: 0.0805 - accuracy: 0.9686 - val_loss: 0.4585 - val_accuracy: 0.8665\n",
            "Epoch 524/600\n",
            "125/125 [==============================] - 1s 4ms/step - loss: 0.0832 - accuracy: 0.9668 - val_loss: 0.4511 - val_accuracy: 0.8658\n",
            "Epoch 525/600\n",
            "125/125 [==============================] - 1s 5ms/step - loss: 0.0843 - accuracy: 0.9659 - val_loss: 0.4461 - val_accuracy: 0.8650\n",
            "Epoch 526/600\n",
            "125/125 [==============================] - 1s 4ms/step - loss: 0.0816 - accuracy: 0.9677 - val_loss: 0.4515 - val_accuracy: 0.8693\n",
            "Epoch 527/600\n",
            "125/125 [==============================] - 1s 5ms/step - loss: 0.0824 - accuracy: 0.9679 - val_loss: 0.4513 - val_accuracy: 0.8686\n",
            "Epoch 528/600\n",
            "125/125 [==============================] - 1s 5ms/step - loss: 0.0850 - accuracy: 0.9658 - val_loss: 0.4518 - val_accuracy: 0.8673\n",
            "Epoch 529/600\n",
            "125/125 [==============================] - 1s 5ms/step - loss: 0.0848 - accuracy: 0.9656 - val_loss: 0.4458 - val_accuracy: 0.8640\n",
            "Epoch 530/600\n",
            "125/125 [==============================] - 1s 5ms/step - loss: 0.0842 - accuracy: 0.9660 - val_loss: 0.4411 - val_accuracy: 0.8676\n",
            "Epoch 531/600\n",
            "125/125 [==============================] - 1s 5ms/step - loss: 0.0858 - accuracy: 0.9654 - val_loss: 0.4516 - val_accuracy: 0.8665\n",
            "Epoch 532/600\n",
            "125/125 [==============================] - 1s 5ms/step - loss: 0.0864 - accuracy: 0.9660 - val_loss: 0.4479 - val_accuracy: 0.8660\n",
            "Epoch 533/600\n",
            "125/125 [==============================] - 1s 4ms/step - loss: 0.0858 - accuracy: 0.9669 - val_loss: 0.4644 - val_accuracy: 0.8658\n",
            "Epoch 534/600\n",
            "125/125 [==============================] - 1s 5ms/step - loss: 0.0824 - accuracy: 0.9669 - val_loss: 0.4578 - val_accuracy: 0.8660\n",
            "Epoch 535/600\n",
            "125/125 [==============================] - 1s 5ms/step - loss: 0.0796 - accuracy: 0.9689 - val_loss: 0.4523 - val_accuracy: 0.8676\n",
            "Epoch 536/600\n",
            "125/125 [==============================] - 1s 5ms/step - loss: 0.0797 - accuracy: 0.9671 - val_loss: 0.4492 - val_accuracy: 0.8653\n",
            "Epoch 537/600\n",
            "125/125 [==============================] - 1s 5ms/step - loss: 0.0849 - accuracy: 0.9671 - val_loss: 0.4543 - val_accuracy: 0.8648\n",
            "Epoch 538/600\n",
            "125/125 [==============================] - 1s 5ms/step - loss: 0.0854 - accuracy: 0.9656 - val_loss: 0.4482 - val_accuracy: 0.8655\n",
            "Epoch 539/600\n",
            "125/125 [==============================] - 1s 5ms/step - loss: 0.0850 - accuracy: 0.9660 - val_loss: 0.4530 - val_accuracy: 0.8653\n",
            "Epoch 540/600\n",
            "125/125 [==============================] - 1s 5ms/step - loss: 0.0851 - accuracy: 0.9661 - val_loss: 0.4567 - val_accuracy: 0.8733\n",
            "Epoch 541/600\n",
            "125/125 [==============================] - 1s 5ms/step - loss: 0.0875 - accuracy: 0.9649 - val_loss: 0.4398 - val_accuracy: 0.8711\n",
            "Epoch 542/600\n",
            "125/125 [==============================] - 1s 5ms/step - loss: 0.0893 - accuracy: 0.9657 - val_loss: 0.4433 - val_accuracy: 0.8640\n",
            "Epoch 543/600\n",
            "125/125 [==============================] - 1s 5ms/step - loss: 0.0823 - accuracy: 0.9668 - val_loss: 0.4566 - val_accuracy: 0.8701\n",
            "Epoch 544/600\n",
            "125/125 [==============================] - 1s 5ms/step - loss: 0.0853 - accuracy: 0.9669 - val_loss: 0.4454 - val_accuracy: 0.8623\n",
            "Epoch 545/600\n",
            "125/125 [==============================] - 1s 5ms/step - loss: 0.0869 - accuracy: 0.9662 - val_loss: 0.4375 - val_accuracy: 0.8638\n",
            "Epoch 546/600\n",
            "125/125 [==============================] - 1s 5ms/step - loss: 0.0860 - accuracy: 0.9657 - val_loss: 0.4475 - val_accuracy: 0.8653\n",
            "Epoch 547/600\n",
            "125/125 [==============================] - 1s 5ms/step - loss: 0.0826 - accuracy: 0.9692 - val_loss: 0.4499 - val_accuracy: 0.8676\n",
            "Epoch 548/600\n",
            "125/125 [==============================] - 1s 4ms/step - loss: 0.0856 - accuracy: 0.9663 - val_loss: 0.4520 - val_accuracy: 0.8673\n",
            "Epoch 549/600\n",
            "125/125 [==============================] - 1s 5ms/step - loss: 0.0839 - accuracy: 0.9669 - val_loss: 0.4381 - val_accuracy: 0.8706\n",
            "Epoch 550/600\n",
            "125/125 [==============================] - 1s 4ms/step - loss: 0.0836 - accuracy: 0.9664 - val_loss: 0.4567 - val_accuracy: 0.8701\n",
            "Epoch 551/600\n",
            "125/125 [==============================] - 1s 5ms/step - loss: 0.0803 - accuracy: 0.9689 - val_loss: 0.4532 - val_accuracy: 0.8665\n",
            "Epoch 552/600\n",
            "125/125 [==============================] - 1s 5ms/step - loss: 0.0820 - accuracy: 0.9672 - val_loss: 0.4617 - val_accuracy: 0.8688\n",
            "Epoch 553/600\n",
            "125/125 [==============================] - 1s 5ms/step - loss: 0.0797 - accuracy: 0.9672 - val_loss: 0.4529 - val_accuracy: 0.8678\n",
            "Epoch 554/600\n",
            "125/125 [==============================] - 1s 5ms/step - loss: 0.0828 - accuracy: 0.9686 - val_loss: 0.4544 - val_accuracy: 0.8716\n",
            "Epoch 555/600\n",
            "125/125 [==============================] - 1s 4ms/step - loss: 0.0891 - accuracy: 0.9660 - val_loss: 0.4576 - val_accuracy: 0.8711\n",
            "Epoch 556/600\n",
            "125/125 [==============================] - 1s 6ms/step - loss: 0.0867 - accuracy: 0.9652 - val_loss: 0.4581 - val_accuracy: 0.8726\n",
            "Epoch 557/600\n",
            "125/125 [==============================] - 1s 5ms/step - loss: 0.0868 - accuracy: 0.9663 - val_loss: 0.4517 - val_accuracy: 0.8696\n",
            "Epoch 558/600\n",
            "125/125 [==============================] - 1s 5ms/step - loss: 0.0857 - accuracy: 0.9670 - val_loss: 0.4584 - val_accuracy: 0.8635\n",
            "Epoch 559/600\n",
            "125/125 [==============================] - 1s 5ms/step - loss: 0.0844 - accuracy: 0.9658 - val_loss: 0.4635 - val_accuracy: 0.8696\n",
            "Epoch 560/600\n",
            "125/125 [==============================] - 1s 5ms/step - loss: 0.0841 - accuracy: 0.9670 - val_loss: 0.4500 - val_accuracy: 0.8650\n",
            "Epoch 561/600\n",
            "125/125 [==============================] - 1s 5ms/step - loss: 0.0804 - accuracy: 0.9684 - val_loss: 0.4641 - val_accuracy: 0.8693\n",
            "Epoch 562/600\n",
            "125/125 [==============================] - 1s 5ms/step - loss: 0.0875 - accuracy: 0.9644 - val_loss: 0.4576 - val_accuracy: 0.8665\n",
            "Epoch 563/600\n",
            "125/125 [==============================] - 1s 5ms/step - loss: 0.0868 - accuracy: 0.9653 - val_loss: 0.4544 - val_accuracy: 0.8660\n",
            "Epoch 564/600\n",
            "125/125 [==============================] - 1s 5ms/step - loss: 0.0808 - accuracy: 0.9695 - val_loss: 0.4662 - val_accuracy: 0.8640\n",
            "Epoch 565/600\n",
            "125/125 [==============================] - 1s 5ms/step - loss: 0.0849 - accuracy: 0.9648 - val_loss: 0.4588 - val_accuracy: 0.8686\n",
            "Epoch 566/600\n",
            "125/125 [==============================] - 1s 5ms/step - loss: 0.0887 - accuracy: 0.9636 - val_loss: 0.4513 - val_accuracy: 0.8676\n",
            "Epoch 567/600\n",
            "125/125 [==============================] - 1s 5ms/step - loss: 0.0883 - accuracy: 0.9635 - val_loss: 0.4624 - val_accuracy: 0.8673\n",
            "Epoch 568/600\n",
            "125/125 [==============================] - 1s 5ms/step - loss: 0.0843 - accuracy: 0.9651 - val_loss: 0.4554 - val_accuracy: 0.8711\n",
            "Epoch 569/600\n",
            "125/125 [==============================] - 1s 5ms/step - loss: 0.0850 - accuracy: 0.9668 - val_loss: 0.4528 - val_accuracy: 0.8693\n",
            "Epoch 570/600\n",
            "125/125 [==============================] - 1s 5ms/step - loss: 0.0837 - accuracy: 0.9677 - val_loss: 0.4580 - val_accuracy: 0.8676\n",
            "Epoch 571/600\n",
            "125/125 [==============================] - 1s 5ms/step - loss: 0.0897 - accuracy: 0.9634 - val_loss: 0.4469 - val_accuracy: 0.8650\n",
            "Epoch 572/600\n",
            "125/125 [==============================] - 1s 5ms/step - loss: 0.0796 - accuracy: 0.9686 - val_loss: 0.4665 - val_accuracy: 0.8678\n",
            "Epoch 573/600\n",
            "125/125 [==============================] - 1s 5ms/step - loss: 0.0854 - accuracy: 0.9658 - val_loss: 0.4530 - val_accuracy: 0.8698\n",
            "Epoch 574/600\n",
            "125/125 [==============================] - 1s 5ms/step - loss: 0.0856 - accuracy: 0.9671 - val_loss: 0.4574 - val_accuracy: 0.8648\n",
            "Epoch 575/600\n",
            "125/125 [==============================] - 1s 5ms/step - loss: 0.0817 - accuracy: 0.9670 - val_loss: 0.4551 - val_accuracy: 0.8668\n",
            "Epoch 576/600\n",
            "125/125 [==============================] - 1s 5ms/step - loss: 0.0815 - accuracy: 0.9676 - val_loss: 0.4577 - val_accuracy: 0.8585\n",
            "Epoch 577/600\n",
            "125/125 [==============================] - 1s 5ms/step - loss: 0.0831 - accuracy: 0.9678 - val_loss: 0.4481 - val_accuracy: 0.8688\n",
            "Epoch 578/600\n",
            "125/125 [==============================] - 1s 5ms/step - loss: 0.0836 - accuracy: 0.9686 - val_loss: 0.4576 - val_accuracy: 0.8658\n",
            "Epoch 579/600\n",
            "125/125 [==============================] - 1s 5ms/step - loss: 0.0856 - accuracy: 0.9663 - val_loss: 0.4595 - val_accuracy: 0.8668\n",
            "Epoch 580/600\n",
            "125/125 [==============================] - 1s 5ms/step - loss: 0.0845 - accuracy: 0.9668 - val_loss: 0.4629 - val_accuracy: 0.8655\n",
            "Epoch 581/600\n",
            "125/125 [==============================] - 1s 5ms/step - loss: 0.0856 - accuracy: 0.9641 - val_loss: 0.4506 - val_accuracy: 0.8726\n",
            "Epoch 582/600\n",
            "125/125 [==============================] - 1s 5ms/step - loss: 0.0869 - accuracy: 0.9648 - val_loss: 0.4606 - val_accuracy: 0.8698\n",
            "Epoch 583/600\n",
            "125/125 [==============================] - 1s 5ms/step - loss: 0.0843 - accuracy: 0.9672 - val_loss: 0.4615 - val_accuracy: 0.8696\n",
            "Epoch 584/600\n",
            "125/125 [==============================] - 1s 5ms/step - loss: 0.0826 - accuracy: 0.9677 - val_loss: 0.4615 - val_accuracy: 0.8681\n",
            "Epoch 585/600\n",
            "125/125 [==============================] - 1s 5ms/step - loss: 0.0824 - accuracy: 0.9661 - val_loss: 0.4558 - val_accuracy: 0.8658\n",
            "Epoch 586/600\n",
            "125/125 [==============================] - 1s 5ms/step - loss: 0.0846 - accuracy: 0.9675 - val_loss: 0.4665 - val_accuracy: 0.8638\n",
            "Epoch 587/600\n",
            "125/125 [==============================] - 1s 5ms/step - loss: 0.0863 - accuracy: 0.9656 - val_loss: 0.4690 - val_accuracy: 0.8630\n",
            "Epoch 588/600\n",
            "125/125 [==============================] - 1s 5ms/step - loss: 0.0863 - accuracy: 0.9654 - val_loss: 0.4526 - val_accuracy: 0.8650\n",
            "Epoch 589/600\n",
            "125/125 [==============================] - 1s 5ms/step - loss: 0.0817 - accuracy: 0.9684 - val_loss: 0.4528 - val_accuracy: 0.8678\n",
            "Epoch 590/600\n",
            "125/125 [==============================] - 1s 5ms/step - loss: 0.0802 - accuracy: 0.9673 - val_loss: 0.4489 - val_accuracy: 0.8678\n",
            "Epoch 591/600\n",
            "125/125 [==============================] - 1s 5ms/step - loss: 0.0802 - accuracy: 0.9686 - val_loss: 0.4642 - val_accuracy: 0.8655\n",
            "Epoch 592/600\n",
            "125/125 [==============================] - 1s 5ms/step - loss: 0.0809 - accuracy: 0.9674 - val_loss: 0.4651 - val_accuracy: 0.8645\n",
            "Epoch 593/600\n",
            "125/125 [==============================] - 1s 5ms/step - loss: 0.0851 - accuracy: 0.9652 - val_loss: 0.4645 - val_accuracy: 0.8645\n",
            "Epoch 594/600\n",
            "125/125 [==============================] - 1s 5ms/step - loss: 0.0812 - accuracy: 0.9677 - val_loss: 0.4646 - val_accuracy: 0.8618\n",
            "Epoch 595/600\n",
            "125/125 [==============================] - 1s 5ms/step - loss: 0.0842 - accuracy: 0.9673 - val_loss: 0.4674 - val_accuracy: 0.8696\n",
            "Epoch 596/600\n",
            "125/125 [==============================] - 1s 5ms/step - loss: 0.0749 - accuracy: 0.9705 - val_loss: 0.4757 - val_accuracy: 0.8683\n",
            "Epoch 597/600\n",
            "125/125 [==============================] - 1s 5ms/step - loss: 0.0826 - accuracy: 0.9676 - val_loss: 0.4805 - val_accuracy: 0.8665\n",
            "Epoch 598/600\n",
            "125/125 [==============================] - 1s 5ms/step - loss: 0.0857 - accuracy: 0.9641 - val_loss: 0.4649 - val_accuracy: 0.8701\n",
            "Epoch 599/600\n",
            "125/125 [==============================] - 1s 5ms/step - loss: 0.0825 - accuracy: 0.9675 - val_loss: 0.4732 - val_accuracy: 0.8701\n",
            "Epoch 600/600\n",
            "125/125 [==============================] - 1s 5ms/step - loss: 0.0865 - accuracy: 0.9661 - val_loss: 0.4620 - val_accuracy: 0.8653\n",
            "125/125 [==============================] - 0s 2ms/step\n"
          ]
        },
        {
          "output_type": "display_data",
          "data": {
            "text/plain": [
              "<IPython.core.display.HTML object>"
            ],
            "text/html": [
              "Waiting for W&B process to finish... <strong style=\"color:green\">(success).</strong>"
            ]
          },
          "metadata": {}
        },
        {
          "output_type": "display_data",
          "data": {
            "text/plain": [
              "VBox(children=(Label(value='21.840 MB of 21.840 MB uploaded (0.007 MB deduped)\\r'), FloatProgress(value=0.9999…"
            ],
            "application/vnd.jupyter.widget-view+json": {
              "version_major": 2,
              "version_minor": 0,
              "model_id": "dd175d2573364770be52f3453f308094"
            }
          },
          "metadata": {}
        },
        {
          "output_type": "display_data",
          "data": {
            "text/plain": [
              "<IPython.core.display.HTML object>"
            ],
            "text/html": [
              "<style>\n",
              "    table.wandb td:nth-child(1) { padding: 0 10px; text-align: left ; width: auto;} td:nth-child(2) {text-align: left ; width: 100%}\n",
              "    .wandb-row { display: flex; flex-direction: row; flex-wrap: wrap; justify-content: flex-start; width: 100% }\n",
              "    .wandb-col { display: flex; flex-direction: column; flex-basis: 100%; flex: 1; padding: 10px; }\n",
              "    </style>\n",
              "<div class=\"wandb-row\"><div class=\"wandb-col\"><h3>Run history:</h3><br/><table class=\"wandb\"><tr><td>accuracy</td><td>▁▂▃▄▅▅▆▆▆▆▇▇▇▇▇▇▇▇▇▇▇▇█▇████████████████</td></tr><tr><td>epoch</td><td>▁▁▁▁▂▂▂▂▂▃▃▃▃▃▃▄▄▄▄▄▅▅▅▅▅▅▆▆▆▆▆▆▇▇▇▇▇███</td></tr><tr><td>eval/accuracy</td><td>▁</td></tr><tr><td>eval/f1</td><td>▁</td></tr><tr><td>eval/precision</td><td>▁</td></tr><tr><td>eval/recall</td><td>▁</td></tr><tr><td>loss</td><td>█▇▆▅▅▄▄▃▃▃▃▂▂▂▂▂▂▂▂▂▂▂▂▂▁▁▁▁▁▁▁▁▁▁▁▁▁▁▁▁</td></tr><tr><td>val_accuracy</td><td>▁▃▇▇▇█▅██▇█▆▄▅▄▆▅▄▄▄▃▃▅▆▅▄▄▄▅▄▄▅▄▅▄▄▅▆▅▄</td></tr><tr><td>val_loss</td><td>▃▂▁▁▁▁▁▂▂▂▂▃▃▃▄▄▅▄▅▅▅▅▆▅▅▆▆▆▇▇▇▇▇▇█▇████</td></tr></table><br/></div><div class=\"wandb-col\"><h3>Run summary:</h3><br/><table class=\"wandb\"><tr><td>accuracy</td><td>0.96607</td></tr><tr><td>best_epoch</td><td>44</td></tr><tr><td>best_val_loss</td><td>0.28661</td></tr><tr><td>epoch</td><td>599</td></tr><tr><td>eval/accuracy</td><td>0.88658</td></tr><tr><td>eval/f1</td><td>0.92903</td></tr><tr><td>eval/precision</td><td>0.8993</td></tr><tr><td>eval/recall</td><td>0.96079</td></tr><tr><td>loss</td><td>0.0865</td></tr><tr><td>val_accuracy</td><td>0.8653</td></tr><tr><td>val_loss</td><td>0.46196</td></tr></table><br/></div></div>"
            ]
          },
          "metadata": {}
        },
        {
          "output_type": "display_data",
          "data": {
            "text/plain": [
              "<IPython.core.display.HTML object>"
            ],
            "text/html": [
              "Synced <strong style=\"color:#cdcd00\">gossipcop-fulltext-sbert+tw+ptbg128-mlp-e600-0</strong>: <a href=\"https://wandb.ai/saloniteam/saloniteam/runs/262n1vwp\" target=\"_blank\">https://wandb.ai/saloniteam/saloniteam/runs/262n1vwp</a><br/>Synced 5 W&B file(s), 2 media file(s), 86 artifact file(s) and 1 other file(s)"
            ]
          },
          "metadata": {}
        },
        {
          "output_type": "display_data",
          "data": {
            "text/plain": [
              "<IPython.core.display.HTML object>"
            ],
            "text/html": [
              "Find logs at: <code>./wandb/run-20221019_110651-262n1vwp/logs</code>"
            ]
          },
          "metadata": {}
        }
      ]
    },
    {
      "cell_type": "code",
      "source": [],
      "metadata": {
        "id": "T22dH9GrNv2t"
      },
      "execution_count": 57,
      "outputs": []
    }
  ]
}