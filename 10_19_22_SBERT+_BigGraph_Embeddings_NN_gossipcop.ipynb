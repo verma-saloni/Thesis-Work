{
  "nbformat": 4,
  "nbformat_minor": 0,
  "metadata": {
    "colab": {
      "provenance": [],
      "collapsed_sections": [],
      "include_colab_link": true
    },
    "kernelspec": {
      "name": "python3",
      "display_name": "Python 3"
    },
    "language_info": {
      "name": "python"
    },
    "widgets": {
      "application/vnd.jupyter.widget-state+json": {
        "075b9838ae3d4d7d8c1b11cba9a7bc28": {
          "model_module": "@jupyter-widgets/controls",
          "model_name": "VBoxModel",
          "model_module_version": "1.5.0",
          "state": {
            "_dom_classes": [],
            "_model_module": "@jupyter-widgets/controls",
            "_model_module_version": "1.5.0",
            "_model_name": "VBoxModel",
            "_view_count": null,
            "_view_module": "@jupyter-widgets/controls",
            "_view_module_version": "1.5.0",
            "_view_name": "VBoxView",
            "box_style": "",
            "children": [
              "IPY_MODEL_58604ed70cd1422c8d292bda201f961d",
              "IPY_MODEL_8c338291fdb64770842375082c6435cf"
            ],
            "layout": "IPY_MODEL_07851fac77ad42b69ebcb5100273b8a8"
          }
        },
        "58604ed70cd1422c8d292bda201f961d": {
          "model_module": "@jupyter-widgets/controls",
          "model_name": "LabelModel",
          "model_module_version": "1.5.0",
          "state": {
            "_dom_classes": [],
            "_model_module": "@jupyter-widgets/controls",
            "_model_module_version": "1.5.0",
            "_model_name": "LabelModel",
            "_view_count": null,
            "_view_module": "@jupyter-widgets/controls",
            "_view_module_version": "1.5.0",
            "_view_name": "LabelView",
            "description": "",
            "description_tooltip": null,
            "layout": "IPY_MODEL_3bd7879e8d47405184ba639ef8a94b3e",
            "placeholder": "​",
            "style": "IPY_MODEL_757b0810d720491eb79eedfd09c73c5e",
            "value": "18.797 MB of 18.797 MB uploaded (0.007 MB deduped)\r"
          }
        },
        "8c338291fdb64770842375082c6435cf": {
          "model_module": "@jupyter-widgets/controls",
          "model_name": "FloatProgressModel",
          "model_module_version": "1.5.0",
          "state": {
            "_dom_classes": [],
            "_model_module": "@jupyter-widgets/controls",
            "_model_module_version": "1.5.0",
            "_model_name": "FloatProgressModel",
            "_view_count": null,
            "_view_module": "@jupyter-widgets/controls",
            "_view_module_version": "1.5.0",
            "_view_name": "ProgressView",
            "bar_style": "",
            "description": "",
            "description_tooltip": null,
            "layout": "IPY_MODEL_253b5f804e5e4a3a9eeffe08374376d5",
            "max": 1,
            "min": 0,
            "orientation": "horizontal",
            "style": "IPY_MODEL_c8a4db16a31d49178150f1275831f325",
            "value": 0.9999917300963206
          }
        },
        "07851fac77ad42b69ebcb5100273b8a8": {
          "model_module": "@jupyter-widgets/base",
          "model_name": "LayoutModel",
          "model_module_version": "1.2.0",
          "state": {
            "_model_module": "@jupyter-widgets/base",
            "_model_module_version": "1.2.0",
            "_model_name": "LayoutModel",
            "_view_count": null,
            "_view_module": "@jupyter-widgets/base",
            "_view_module_version": "1.2.0",
            "_view_name": "LayoutView",
            "align_content": null,
            "align_items": null,
            "align_self": null,
            "border": null,
            "bottom": null,
            "display": null,
            "flex": null,
            "flex_flow": null,
            "grid_area": null,
            "grid_auto_columns": null,
            "grid_auto_flow": null,
            "grid_auto_rows": null,
            "grid_column": null,
            "grid_gap": null,
            "grid_row": null,
            "grid_template_areas": null,
            "grid_template_columns": null,
            "grid_template_rows": null,
            "height": null,
            "justify_content": null,
            "justify_items": null,
            "left": null,
            "margin": null,
            "max_height": null,
            "max_width": null,
            "min_height": null,
            "min_width": null,
            "object_fit": null,
            "object_position": null,
            "order": null,
            "overflow": null,
            "overflow_x": null,
            "overflow_y": null,
            "padding": null,
            "right": null,
            "top": null,
            "visibility": null,
            "width": null
          }
        },
        "3bd7879e8d47405184ba639ef8a94b3e": {
          "model_module": "@jupyter-widgets/base",
          "model_name": "LayoutModel",
          "model_module_version": "1.2.0",
          "state": {
            "_model_module": "@jupyter-widgets/base",
            "_model_module_version": "1.2.0",
            "_model_name": "LayoutModel",
            "_view_count": null,
            "_view_module": "@jupyter-widgets/base",
            "_view_module_version": "1.2.0",
            "_view_name": "LayoutView",
            "align_content": null,
            "align_items": null,
            "align_self": null,
            "border": null,
            "bottom": null,
            "display": null,
            "flex": null,
            "flex_flow": null,
            "grid_area": null,
            "grid_auto_columns": null,
            "grid_auto_flow": null,
            "grid_auto_rows": null,
            "grid_column": null,
            "grid_gap": null,
            "grid_row": null,
            "grid_template_areas": null,
            "grid_template_columns": null,
            "grid_template_rows": null,
            "height": null,
            "justify_content": null,
            "justify_items": null,
            "left": null,
            "margin": null,
            "max_height": null,
            "max_width": null,
            "min_height": null,
            "min_width": null,
            "object_fit": null,
            "object_position": null,
            "order": null,
            "overflow": null,
            "overflow_x": null,
            "overflow_y": null,
            "padding": null,
            "right": null,
            "top": null,
            "visibility": null,
            "width": null
          }
        },
        "757b0810d720491eb79eedfd09c73c5e": {
          "model_module": "@jupyter-widgets/controls",
          "model_name": "DescriptionStyleModel",
          "model_module_version": "1.5.0",
          "state": {
            "_model_module": "@jupyter-widgets/controls",
            "_model_module_version": "1.5.0",
            "_model_name": "DescriptionStyleModel",
            "_view_count": null,
            "_view_module": "@jupyter-widgets/base",
            "_view_module_version": "1.2.0",
            "_view_name": "StyleView",
            "description_width": ""
          }
        },
        "253b5f804e5e4a3a9eeffe08374376d5": {
          "model_module": "@jupyter-widgets/base",
          "model_name": "LayoutModel",
          "model_module_version": "1.2.0",
          "state": {
            "_model_module": "@jupyter-widgets/base",
            "_model_module_version": "1.2.0",
            "_model_name": "LayoutModel",
            "_view_count": null,
            "_view_module": "@jupyter-widgets/base",
            "_view_module_version": "1.2.0",
            "_view_name": "LayoutView",
            "align_content": null,
            "align_items": null,
            "align_self": null,
            "border": null,
            "bottom": null,
            "display": null,
            "flex": null,
            "flex_flow": null,
            "grid_area": null,
            "grid_auto_columns": null,
            "grid_auto_flow": null,
            "grid_auto_rows": null,
            "grid_column": null,
            "grid_gap": null,
            "grid_row": null,
            "grid_template_areas": null,
            "grid_template_columns": null,
            "grid_template_rows": null,
            "height": null,
            "justify_content": null,
            "justify_items": null,
            "left": null,
            "margin": null,
            "max_height": null,
            "max_width": null,
            "min_height": null,
            "min_width": null,
            "object_fit": null,
            "object_position": null,
            "order": null,
            "overflow": null,
            "overflow_x": null,
            "overflow_y": null,
            "padding": null,
            "right": null,
            "top": null,
            "visibility": null,
            "width": null
          }
        },
        "c8a4db16a31d49178150f1275831f325": {
          "model_module": "@jupyter-widgets/controls",
          "model_name": "ProgressStyleModel",
          "model_module_version": "1.5.0",
          "state": {
            "_model_module": "@jupyter-widgets/controls",
            "_model_module_version": "1.5.0",
            "_model_name": "ProgressStyleModel",
            "_view_count": null,
            "_view_module": "@jupyter-widgets/base",
            "_view_module_version": "1.2.0",
            "_view_name": "StyleView",
            "bar_color": null,
            "description_width": ""
          }
        }
      }
    },
    "accelerator": "GPU"
  },
  "cells": [
    {
      "cell_type": "markdown",
      "metadata": {
        "id": "view-in-github",
        "colab_type": "text"
      },
      "source": [
        "<a href=\"https://colab.research.google.com/github/verma-saloni/Thesis-Work/blob/main/10_19_22_SBERT%2B_BigGraph_Embeddings_NN_gossipcop.ipynb\" target=\"_parent\"><img src=\"https://colab.research.google.com/assets/colab-badge.svg\" alt=\"Open In Colab\"/></a>"
      ]
    },
    {
      "cell_type": "code",
      "source": [
        "#%%capture\n",
        "!pip install -U sentence-transformers wandb"
      ],
      "metadata": {
        "id": "aByzVMdkzqAJ",
        "colab": {
          "base_uri": "https://localhost:8080/"
        },
        "outputId": "0c7e1a5b-ede6-4bc1-9f13-c07776ec5eca"
      },
      "execution_count": 1,
      "outputs": [
        {
          "output_type": "stream",
          "name": "stdout",
          "text": [
            "Looking in indexes: https://pypi.org/simple, https://us-python.pkg.dev/colab-wheels/public/simple/\n",
            "Collecting sentence-transformers\n",
            "  Downloading sentence-transformers-2.2.2.tar.gz (85 kB)\n",
            "\u001b[K     |████████████████████████████████| 85 kB 3.5 MB/s \n",
            "\u001b[?25hCollecting wandb\n",
            "  Downloading wandb-0.13.4-py2.py3-none-any.whl (1.9 MB)\n",
            "\u001b[K     |████████████████████████████████| 1.9 MB 57.1 MB/s \n",
            "\u001b[?25hCollecting transformers<5.0.0,>=4.6.0\n",
            "  Downloading transformers-4.23.1-py3-none-any.whl (5.3 MB)\n",
            "\u001b[K     |████████████████████████████████| 5.3 MB 50.6 MB/s \n",
            "\u001b[?25hRequirement already satisfied: tqdm in /usr/local/lib/python3.7/dist-packages (from sentence-transformers) (4.64.1)\n",
            "Requirement already satisfied: torch>=1.6.0 in /usr/local/lib/python3.7/dist-packages (from sentence-transformers) (1.12.1+cu113)\n",
            "Requirement already satisfied: torchvision in /usr/local/lib/python3.7/dist-packages (from sentence-transformers) (0.13.1+cu113)\n",
            "Requirement already satisfied: numpy in /usr/local/lib/python3.7/dist-packages (from sentence-transformers) (1.21.6)\n",
            "Requirement already satisfied: scikit-learn in /usr/local/lib/python3.7/dist-packages (from sentence-transformers) (1.0.2)\n",
            "Requirement already satisfied: scipy in /usr/local/lib/python3.7/dist-packages (from sentence-transformers) (1.7.3)\n",
            "Requirement already satisfied: nltk in /usr/local/lib/python3.7/dist-packages (from sentence-transformers) (3.7)\n",
            "Collecting sentencepiece\n",
            "  Downloading sentencepiece-0.1.97-cp37-cp37m-manylinux_2_17_x86_64.manylinux2014_x86_64.whl (1.3 MB)\n",
            "\u001b[K     |████████████████████████████████| 1.3 MB 55.9 MB/s \n",
            "\u001b[?25hCollecting huggingface-hub>=0.4.0\n",
            "  Downloading huggingface_hub-0.10.1-py3-none-any.whl (163 kB)\n",
            "\u001b[K     |████████████████████████████████| 163 kB 72.0 MB/s \n",
            "\u001b[?25hRequirement already satisfied: filelock in /usr/local/lib/python3.7/dist-packages (from huggingface-hub>=0.4.0->sentence-transformers) (3.8.0)\n",
            "Requirement already satisfied: requests in /usr/local/lib/python3.7/dist-packages (from huggingface-hub>=0.4.0->sentence-transformers) (2.23.0)\n",
            "Requirement already satisfied: importlib-metadata in /usr/local/lib/python3.7/dist-packages (from huggingface-hub>=0.4.0->sentence-transformers) (4.13.0)\n",
            "Requirement already satisfied: pyyaml>=5.1 in /usr/local/lib/python3.7/dist-packages (from huggingface-hub>=0.4.0->sentence-transformers) (6.0)\n",
            "Requirement already satisfied: packaging>=20.9 in /usr/local/lib/python3.7/dist-packages (from huggingface-hub>=0.4.0->sentence-transformers) (21.3)\n",
            "Requirement already satisfied: typing-extensions>=3.7.4.3 in /usr/local/lib/python3.7/dist-packages (from huggingface-hub>=0.4.0->sentence-transformers) (4.1.1)\n",
            "Requirement already satisfied: pyparsing!=3.0.5,>=2.0.2 in /usr/local/lib/python3.7/dist-packages (from packaging>=20.9->huggingface-hub>=0.4.0->sentence-transformers) (3.0.9)\n",
            "Requirement already satisfied: regex!=2019.12.17 in /usr/local/lib/python3.7/dist-packages (from transformers<5.0.0,>=4.6.0->sentence-transformers) (2022.6.2)\n",
            "Collecting tokenizers!=0.11.3,<0.14,>=0.11.1\n",
            "  Downloading tokenizers-0.13.1-cp37-cp37m-manylinux_2_17_x86_64.manylinux2014_x86_64.whl (7.6 MB)\n",
            "\u001b[K     |████████████████████████████████| 7.6 MB 44.9 MB/s \n",
            "\u001b[?25hCollecting pathtools\n",
            "  Downloading pathtools-0.1.2.tar.gz (11 kB)\n",
            "Collecting docker-pycreds>=0.4.0\n",
            "  Downloading docker_pycreds-0.4.0-py2.py3-none-any.whl (9.0 kB)\n",
            "Requirement already satisfied: protobuf!=4.0.*,!=4.21.0,<5,>=3.12.0 in /usr/local/lib/python3.7/dist-packages (from wandb) (3.17.3)\n",
            "Requirement already satisfied: psutil>=5.0.0 in /usr/local/lib/python3.7/dist-packages (from wandb) (5.4.8)\n",
            "Requirement already satisfied: setuptools in /usr/local/lib/python3.7/dist-packages (from wandb) (57.4.0)\n",
            "Collecting sentry-sdk>=1.0.0\n",
            "  Downloading sentry_sdk-1.9.10-py2.py3-none-any.whl (162 kB)\n",
            "\u001b[K     |████████████████████████████████| 162 kB 35.8 MB/s \n",
            "\u001b[?25hRequirement already satisfied: six>=1.13.0 in /usr/local/lib/python3.7/dist-packages (from wandb) (1.15.0)\n",
            "Requirement already satisfied: Click!=8.0.0,>=7.0 in /usr/local/lib/python3.7/dist-packages (from wandb) (7.1.2)\n",
            "Requirement already satisfied: promise<3,>=2.0 in /usr/local/lib/python3.7/dist-packages (from wandb) (2.3)\n",
            "Collecting setproctitle\n",
            "  Downloading setproctitle-1.3.2-cp37-cp37m-manylinux_2_5_x86_64.manylinux1_x86_64.manylinux_2_17_x86_64.manylinux2014_x86_64.whl (30 kB)\n",
            "Collecting GitPython>=1.0.0\n",
            "  Downloading GitPython-3.1.29-py3-none-any.whl (182 kB)\n",
            "\u001b[K     |████████████████████████████████| 182 kB 38.4 MB/s \n",
            "\u001b[?25hCollecting shortuuid>=0.5.0\n",
            "  Downloading shortuuid-1.0.9-py3-none-any.whl (9.4 kB)\n",
            "Collecting gitdb<5,>=4.0.1\n",
            "  Downloading gitdb-4.0.9-py3-none-any.whl (63 kB)\n",
            "\u001b[K     |████████████████████████████████| 63 kB 1.9 MB/s \n",
            "\u001b[?25hCollecting smmap<6,>=3.0.1\n",
            "  Downloading smmap-5.0.0-py3-none-any.whl (24 kB)\n",
            "Requirement already satisfied: idna<3,>=2.5 in /usr/local/lib/python3.7/dist-packages (from requests->huggingface-hub>=0.4.0->sentence-transformers) (2.10)\n",
            "Requirement already satisfied: chardet<4,>=3.0.2 in /usr/local/lib/python3.7/dist-packages (from requests->huggingface-hub>=0.4.0->sentence-transformers) (3.0.4)\n",
            "Requirement already satisfied: certifi>=2017.4.17 in /usr/local/lib/python3.7/dist-packages (from requests->huggingface-hub>=0.4.0->sentence-transformers) (2022.9.24)\n",
            "Requirement already satisfied: urllib3!=1.25.0,!=1.25.1,<1.26,>=1.21.1 in /usr/local/lib/python3.7/dist-packages (from requests->huggingface-hub>=0.4.0->sentence-transformers) (1.24.3)\n",
            "Collecting sentry-sdk>=1.0.0\n",
            "  Downloading sentry_sdk-1.9.9-py2.py3-none-any.whl (162 kB)\n",
            "\u001b[K     |████████████████████████████████| 162 kB 52.6 MB/s \n",
            "\u001b[?25h  Downloading sentry_sdk-1.9.8-py2.py3-none-any.whl (158 kB)\n",
            "\u001b[K     |████████████████████████████████| 158 kB 47.8 MB/s \n",
            "\u001b[?25h  Downloading sentry_sdk-1.9.7-py2.py3-none-any.whl (157 kB)\n",
            "\u001b[K     |████████████████████████████████| 157 kB 34.5 MB/s \n",
            "\u001b[?25h  Downloading sentry_sdk-1.9.6-py2.py3-none-any.whl (157 kB)\n",
            "\u001b[K     |████████████████████████████████| 157 kB 59.5 MB/s \n",
            "\u001b[?25h  Downloading sentry_sdk-1.9.5-py2.py3-none-any.whl (157 kB)\n",
            "\u001b[K     |████████████████████████████████| 157 kB 48.7 MB/s \n",
            "\u001b[?25h  Downloading sentry_sdk-1.9.4-py2.py3-none-any.whl (157 kB)\n",
            "\u001b[K     |████████████████████████████████| 157 kB 12.5 MB/s \n",
            "\u001b[?25h  Downloading sentry_sdk-1.9.3-py2.py3-none-any.whl (157 kB)\n",
            "\u001b[K     |████████████████████████████████| 157 kB 44.2 MB/s \n",
            "\u001b[?25h  Downloading sentry_sdk-1.9.2-py2.py3-none-any.whl (157 kB)\n",
            "\u001b[K     |████████████████████████████████| 157 kB 55.8 MB/s \n",
            "\u001b[?25h  Downloading sentry_sdk-1.9.1-py2.py3-none-any.whl (157 kB)\n",
            "\u001b[K     |████████████████████████████████| 157 kB 26.7 MB/s \n",
            "\u001b[?25h  Downloading sentry_sdk-1.9.0-py2.py3-none-any.whl (156 kB)\n",
            "\u001b[K     |████████████████████████████████| 156 kB 38.6 MB/s \n",
            "\u001b[?25hRequirement already satisfied: zipp>=0.5 in /usr/local/lib/python3.7/dist-packages (from importlib-metadata->huggingface-hub>=0.4.0->sentence-transformers) (3.9.0)\n",
            "Requirement already satisfied: joblib in /usr/local/lib/python3.7/dist-packages (from nltk->sentence-transformers) (1.2.0)\n",
            "Requirement already satisfied: threadpoolctl>=2.0.0 in /usr/local/lib/python3.7/dist-packages (from scikit-learn->sentence-transformers) (3.1.0)\n",
            "Requirement already satisfied: pillow!=8.3.*,>=5.3.0 in /usr/local/lib/python3.7/dist-packages (from torchvision->sentence-transformers) (7.1.2)\n",
            "Building wheels for collected packages: sentence-transformers, pathtools\n",
            "  Building wheel for sentence-transformers (setup.py) ... \u001b[?25l\u001b[?25hdone\n",
            "  Created wheel for sentence-transformers: filename=sentence_transformers-2.2.2-py3-none-any.whl size=125938 sha256=6a50f01b6bf0b36980db05df2d286341fd51ca62af5bc7a6ba4fe9155db92e86\n",
            "  Stored in directory: /root/.cache/pip/wheels/bf/06/fb/d59c1e5bd1dac7f6cf61ec0036cc3a10ab8fecaa6b2c3d3ee9\n",
            "  Building wheel for pathtools (setup.py) ... \u001b[?25l\u001b[?25hdone\n",
            "  Created wheel for pathtools: filename=pathtools-0.1.2-py3-none-any.whl size=8806 sha256=35762cfa21b7868372a0a303632a5bf8956313ce7c6a6af70f4d70c4cafed2f9\n",
            "  Stored in directory: /root/.cache/pip/wheels/3e/31/09/fa59cef12cdcfecc627b3d24273699f390e71828921b2cbba2\n",
            "Successfully built sentence-transformers pathtools\n",
            "Installing collected packages: smmap, tokenizers, huggingface-hub, gitdb, transformers, shortuuid, setproctitle, sentry-sdk, sentencepiece, pathtools, GitPython, docker-pycreds, wandb, sentence-transformers\n",
            "Successfully installed GitPython-3.1.29 docker-pycreds-0.4.0 gitdb-4.0.9 huggingface-hub-0.10.1 pathtools-0.1.2 sentence-transformers-2.2.2 sentencepiece-0.1.97 sentry-sdk-1.9.0 setproctitle-1.3.2 shortuuid-1.0.9 smmap-5.0.0 tokenizers-0.13.1 transformers-4.23.1 wandb-0.13.4\n"
          ]
        }
      ]
    },
    {
      "cell_type": "markdown",
      "source": [
        "The notebook for Gossipcop. (Similar one present for Politifact is already saved in the Drive and on Github) "
      ],
      "metadata": {
        "id": "sEes5Jav2t9e"
      }
    },
    {
      "cell_type": "code",
      "execution_count": 2,
      "metadata": {
        "id": "8wffusyCytsx"
      },
      "outputs": [],
      "source": [
        "from pathlib import Path\n",
        "import numpy as np\n",
        "import pandas as pd\n",
        "import re\n",
        "import json\n",
        "\n",
        "from sentence_transformers import SentenceTransformer \n",
        "\n",
        "from sklearn.model_selection import StratifiedKFold\n",
        "from sklearn.metrics import accuracy_score, f1_score, precision_score, recall_score\n",
        "\n",
        "import wandb\n",
        "from wandb.keras import WandbCallback\n",
        "from IPython.display import clear_output"
      ]
    },
    {
      "cell_type": "code",
      "source": [
        "metrics = [accuracy_score, f1_score, precision_score, recall_score]\n",
        "\n",
        "def get_name(score_func):\n",
        "    return 'eval/' + score_func.__name__.split(\"_\")[0]"
      ],
      "metadata": {
        "id": "oUUMZeWMuZXE"
      },
      "execution_count": 3,
      "outputs": []
    },
    {
      "cell_type": "markdown",
      "source": [
        "# Load data"
      ],
      "metadata": {
        "id": "R_4mZElNIVb5"
      }
    },
    {
      "cell_type": "code",
      "source": [
        "from google.colab import drive\n",
        "drive.mount('/content/drive')\n",
        "\n",
        "base_dir = Path(\"/content/drive/MyDrive/ResearchFND\")\n",
        "assert base_dir.exists()"
      ],
      "metadata": {
        "id": "UxNEaltli8H_",
        "colab": {
          "base_uri": "https://localhost:8080/"
        },
        "outputId": "5fce42d6-0230-48d9-c5db-af0a871dc7a5"
      },
      "execution_count": 4,
      "outputs": [
        {
          "output_type": "stream",
          "name": "stdout",
          "text": [
            "Mounted at /content/drive\n"
          ]
        }
      ]
    },
    {
      "cell_type": "code",
      "source": [
        "dataset_id = 'gossipcop'"
      ],
      "metadata": {
        "id": "GdnjXaSwE46w"
      },
      "execution_count": 5,
      "outputs": []
    },
    {
      "cell_type": "code",
      "source": [
        "import ast\n",
        "\n",
        "converters = {\"retweets\":ast.literal_eval, \"tweets\":ast.literal_eval}\n",
        "df = pd.read_csv(base_dir/f\"{dataset_id}_agg.csv\", converters=converters)\n",
        "df.head()"
      ],
      "metadata": {
        "id": "2YYgYvwB7nkO",
        "colab": {
          "base_uri": "https://localhost:8080/",
          "height": 337
        },
        "outputId": "b2382dad-9618-4070-db47-1802ad073042"
      },
      "execution_count": 6,
      "outputs": [
        {
          "output_type": "execute_result",
          "data": {
            "text/plain": [
              "                                               title text  \\\n",
              "0      Kendall   Kylie Jenner Jenner NOT Upset Up...  NaN   \n",
              "1      Kim Kardashian Dethroned Dethroned By Khlo...  NaN   \n",
              "2      Kim Kardashian Did NOT Hot Staffer Hot Sta...  NaN   \n",
              "3      The Voice The Voice Team NOT Surprised Sur...  NaN   \n",
              "4     Drake NOT Angelina Jolie s Toy Boy Toy Boy ...  NaN   \n",
              "\n",
              "                                              tweets  \\\n",
              "0                                                 []   \n",
              "1                                                 []   \n",
              "2                                                 []   \n",
              "3                                                 []   \n",
              "4  [{'id': 948630026496323585, 'text': 'Drake NOT...   \n",
              "\n",
              "                                            retweets label  url  num_retweets  \\\n",
              "0  [995423424741888001, 995461685166202880, 99987...  fake  NaN             3   \n",
              "1  [848843565027516416, 849030801970868224, 84884...  fake  NaN             3   \n",
              "2  [940685393112064001, 977921622672920576, 94031...  fake  NaN             8   \n",
              "3                                                 []  fake  NaN             0   \n",
              "4  [948022124626808832, 948630026496323585, 94801...  fake  NaN            18   \n",
              "\n",
              "   log_num_retweets  num_tweets  log_num_tweets  \n",
              "0          1.386294           0        0.000000  \n",
              "1          1.386294           0        0.000000  \n",
              "2          2.197225           0        0.000000  \n",
              "3          0.000000           0        0.000000  \n",
              "4          2.944439           7        2.079442  "
            ],
            "text/html": [
              "\n",
              "  <div id=\"df-51a2ce01-798c-4a5f-9c5e-c5ba9470e61c\">\n",
              "    <div class=\"colab-df-container\">\n",
              "      <div>\n",
              "<style scoped>\n",
              "    .dataframe tbody tr th:only-of-type {\n",
              "        vertical-align: middle;\n",
              "    }\n",
              "\n",
              "    .dataframe tbody tr th {\n",
              "        vertical-align: top;\n",
              "    }\n",
              "\n",
              "    .dataframe thead th {\n",
              "        text-align: right;\n",
              "    }\n",
              "</style>\n",
              "<table border=\"1\" class=\"dataframe\">\n",
              "  <thead>\n",
              "    <tr style=\"text-align: right;\">\n",
              "      <th></th>\n",
              "      <th>title</th>\n",
              "      <th>text</th>\n",
              "      <th>tweets</th>\n",
              "      <th>retweets</th>\n",
              "      <th>label</th>\n",
              "      <th>url</th>\n",
              "      <th>num_retweets</th>\n",
              "      <th>log_num_retweets</th>\n",
              "      <th>num_tweets</th>\n",
              "      <th>log_num_tweets</th>\n",
              "    </tr>\n",
              "  </thead>\n",
              "  <tbody>\n",
              "    <tr>\n",
              "      <th>0</th>\n",
              "      <td>Kendall   Kylie Jenner Jenner NOT Upset Up...</td>\n",
              "      <td>NaN</td>\n",
              "      <td>[]</td>\n",
              "      <td>[995423424741888001, 995461685166202880, 99987...</td>\n",
              "      <td>fake</td>\n",
              "      <td>NaN</td>\n",
              "      <td>3</td>\n",
              "      <td>1.386294</td>\n",
              "      <td>0</td>\n",
              "      <td>0.000000</td>\n",
              "    </tr>\n",
              "    <tr>\n",
              "      <th>1</th>\n",
              "      <td>Kim Kardashian Dethroned Dethroned By Khlo...</td>\n",
              "      <td>NaN</td>\n",
              "      <td>[]</td>\n",
              "      <td>[848843565027516416, 849030801970868224, 84884...</td>\n",
              "      <td>fake</td>\n",
              "      <td>NaN</td>\n",
              "      <td>3</td>\n",
              "      <td>1.386294</td>\n",
              "      <td>0</td>\n",
              "      <td>0.000000</td>\n",
              "    </tr>\n",
              "    <tr>\n",
              "      <th>2</th>\n",
              "      <td>Kim Kardashian Did NOT Hot Staffer Hot Sta...</td>\n",
              "      <td>NaN</td>\n",
              "      <td>[]</td>\n",
              "      <td>[940685393112064001, 977921622672920576, 94031...</td>\n",
              "      <td>fake</td>\n",
              "      <td>NaN</td>\n",
              "      <td>8</td>\n",
              "      <td>2.197225</td>\n",
              "      <td>0</td>\n",
              "      <td>0.000000</td>\n",
              "    </tr>\n",
              "    <tr>\n",
              "      <th>3</th>\n",
              "      <td>The Voice The Voice Team NOT Surprised Sur...</td>\n",
              "      <td>NaN</td>\n",
              "      <td>[]</td>\n",
              "      <td>[]</td>\n",
              "      <td>fake</td>\n",
              "      <td>NaN</td>\n",
              "      <td>0</td>\n",
              "      <td>0.000000</td>\n",
              "      <td>0</td>\n",
              "      <td>0.000000</td>\n",
              "    </tr>\n",
              "    <tr>\n",
              "      <th>4</th>\n",
              "      <td>Drake NOT Angelina Jolie s Toy Boy Toy Boy ...</td>\n",
              "      <td>NaN</td>\n",
              "      <td>[{'id': 948630026496323585, 'text': 'Drake NOT...</td>\n",
              "      <td>[948022124626808832, 948630026496323585, 94801...</td>\n",
              "      <td>fake</td>\n",
              "      <td>NaN</td>\n",
              "      <td>18</td>\n",
              "      <td>2.944439</td>\n",
              "      <td>7</td>\n",
              "      <td>2.079442</td>\n",
              "    </tr>\n",
              "  </tbody>\n",
              "</table>\n",
              "</div>\n",
              "      <button class=\"colab-df-convert\" onclick=\"convertToInteractive('df-51a2ce01-798c-4a5f-9c5e-c5ba9470e61c')\"\n",
              "              title=\"Convert this dataframe to an interactive table.\"\n",
              "              style=\"display:none;\">\n",
              "        \n",
              "  <svg xmlns=\"http://www.w3.org/2000/svg\" height=\"24px\"viewBox=\"0 0 24 24\"\n",
              "       width=\"24px\">\n",
              "    <path d=\"M0 0h24v24H0V0z\" fill=\"none\"/>\n",
              "    <path d=\"M18.56 5.44l.94 2.06.94-2.06 2.06-.94-2.06-.94-.94-2.06-.94 2.06-2.06.94zm-11 1L8.5 8.5l.94-2.06 2.06-.94-2.06-.94L8.5 2.5l-.94 2.06-2.06.94zm10 10l.94 2.06.94-2.06 2.06-.94-2.06-.94-.94-2.06-.94 2.06-2.06.94z\"/><path d=\"M17.41 7.96l-1.37-1.37c-.4-.4-.92-.59-1.43-.59-.52 0-1.04.2-1.43.59L10.3 9.45l-7.72 7.72c-.78.78-.78 2.05 0 2.83L4 21.41c.39.39.9.59 1.41.59.51 0 1.02-.2 1.41-.59l7.78-7.78 2.81-2.81c.8-.78.8-2.07 0-2.86zM5.41 20L4 18.59l7.72-7.72 1.47 1.35L5.41 20z\"/>\n",
              "  </svg>\n",
              "      </button>\n",
              "      \n",
              "  <style>\n",
              "    .colab-df-container {\n",
              "      display:flex;\n",
              "      flex-wrap:wrap;\n",
              "      gap: 12px;\n",
              "    }\n",
              "\n",
              "    .colab-df-convert {\n",
              "      background-color: #E8F0FE;\n",
              "      border: none;\n",
              "      border-radius: 50%;\n",
              "      cursor: pointer;\n",
              "      display: none;\n",
              "      fill: #1967D2;\n",
              "      height: 32px;\n",
              "      padding: 0 0 0 0;\n",
              "      width: 32px;\n",
              "    }\n",
              "\n",
              "    .colab-df-convert:hover {\n",
              "      background-color: #E2EBFA;\n",
              "      box-shadow: 0px 1px 2px rgba(60, 64, 67, 0.3), 0px 1px 3px 1px rgba(60, 64, 67, 0.15);\n",
              "      fill: #174EA6;\n",
              "    }\n",
              "\n",
              "    [theme=dark] .colab-df-convert {\n",
              "      background-color: #3B4455;\n",
              "      fill: #D2E3FC;\n",
              "    }\n",
              "\n",
              "    [theme=dark] .colab-df-convert:hover {\n",
              "      background-color: #434B5C;\n",
              "      box-shadow: 0px 1px 3px 1px rgba(0, 0, 0, 0.15);\n",
              "      filter: drop-shadow(0px 1px 2px rgba(0, 0, 0, 0.3));\n",
              "      fill: #FFFFFF;\n",
              "    }\n",
              "  </style>\n",
              "\n",
              "      <script>\n",
              "        const buttonEl =\n",
              "          document.querySelector('#df-51a2ce01-798c-4a5f-9c5e-c5ba9470e61c button.colab-df-convert');\n",
              "        buttonEl.style.display =\n",
              "          google.colab.kernel.accessAllowed ? 'block' : 'none';\n",
              "\n",
              "        async function convertToInteractive(key) {\n",
              "          const element = document.querySelector('#df-51a2ce01-798c-4a5f-9c5e-c5ba9470e61c');\n",
              "          const dataTable =\n",
              "            await google.colab.kernel.invokeFunction('convertToInteractive',\n",
              "                                                     [key], {});\n",
              "          if (!dataTable) return;\n",
              "\n",
              "          const docLinkHtml = 'Like what you see? Visit the ' +\n",
              "            '<a target=\"_blank\" href=https://colab.research.google.com/notebooks/data_table.ipynb>data table notebook</a>'\n",
              "            + ' to learn more about interactive tables.';\n",
              "          element.innerHTML = '';\n",
              "          dataTable['output_type'] = 'display_data';\n",
              "          await google.colab.output.renderOutput(dataTable, element);\n",
              "          const docLink = document.createElement('div');\n",
              "          docLink.innerHTML = docLinkHtml;\n",
              "          element.appendChild(docLink);\n",
              "        }\n",
              "      </script>\n",
              "    </div>\n",
              "  </div>\n",
              "  "
            ]
          },
          "metadata": {},
          "execution_count": 6
        }
      ]
    },
    {
      "cell_type": "markdown",
      "source": [
        "# Using the embeddings for title and text from previous experiments"
      ],
      "metadata": {
        "id": "CnksS6trIRdd"
      }
    },
    {
      "cell_type": "code",
      "source": [
        "title_embedding_file = base_dir/f\"{dataset_id}_sbert_title_embeddings.npy\"\n",
        "\n",
        "if title_embedding_file.exists():\n",
        "    title_embeddings = np.load(title_embedding_file)\n",
        "else:\n",
        "    model_id = \"all-mpnet-base-v2\"\n",
        "    model = SentenceTransformer(model_id)\n",
        "    titles = df.title.tolist()\n",
        "    title_embeddings = model.encode(titles, show_progress_bar=True)\n",
        "    np.save(title_embedding_file, title_embeddings)"
      ],
      "metadata": {
        "id": "8H5eVnOyPFam"
      },
      "execution_count": 7,
      "outputs": []
    },
    {
      "cell_type": "code",
      "source": [
        "text_embedding_file = base_dir/f\"{dataset_id}_sbert_fulltext_embeddings.npy\"\n",
        "\n",
        "if text_embedding_file.exists():\n",
        "    text_embeddings = np.load(text_embedding_file)\n",
        "else:\n",
        "    model_id = \"all-mpnet-base-v2\"\n",
        "    model = SentenceTransformer(model_id)\n",
        "    texts = (df.title + \"\\n\" + df.text).tolist()\n",
        "    text_embeddings = model.encode(texts, show_progress_bar=True)\n",
        "    np.save(text_embedding_file, text_embeddings)"
      ],
      "metadata": {
        "id": "Uc88pT1nIRFX"
      },
      "execution_count": 8,
      "outputs": []
    },
    {
      "cell_type": "markdown",
      "source": [
        "# Training - Saving the machine learning model specifications"
      ],
      "metadata": {
        "id": "BIJrjc_jMSmB"
      }
    },
    {
      "cell_type": "code",
      "source": [
        "import tensorflow as tf"
      ],
      "metadata": {
        "id": "crdL5CNX_guQ"
      },
      "execution_count": 9,
      "outputs": []
    },
    {
      "cell_type": "code",
      "source": [
        "def get_model(d_h=64, p_in:float=0.2, p_out:float=0.2):\n",
        "    model = tf.keras.Sequential([\n",
        "        tf.keras.layers.Dropout(p_in), # input dropout\n",
        "        tf.keras.layers.Dense(d_h, activation='relu'),\n",
        "        tf.keras.layers.Dropout(p_out),  \n",
        "        tf.keras.layers.Dense(1)\n",
        "    ])\n",
        "\n",
        "    model.compile(loss=tf.keras.losses.BinaryCrossentropy(from_logits=True), \n",
        "                  optimizer='adam',metrics=['accuracy'])\n",
        "    return model"
      ],
      "metadata": {
        "id": "-_V-I0VdTezQ"
      },
      "execution_count": 10,
      "outputs": []
    },
    {
      "cell_type": "code",
      "source": [
        "def train(fold_id, train_idx, test_idx, params):\n",
        "\n",
        "    # setup\n",
        "    X_train, X_test = X[train_idx], X[test_idx]\n",
        "    y_train, y_test = y[train_idx], y[test_idx]\n",
        "    model = get_model()\n",
        "    # training\n",
        "    ckpt_filepath = f'ckpt/fold_{fold_id}'\n",
        "    save_model_cb = tf.keras.callbacks.ModelCheckpoint(\n",
        "        filepath=ckpt_filepath,\n",
        "        save_weights_only=True,\n",
        "        monitor='val_accuracy',\n",
        "        mode='max',\n",
        "        save_best_only=True)\n",
        "    history = model.fit(\n",
        "        X_train, y_train, validation_data = (X_test, y_test), \n",
        "        batch_size = params['bs'] , epochs=params['epochs'],\n",
        "        callbacks=[WandbCallback(), save_model_cb]\n",
        "    )\n",
        "    #evaluation\n",
        "    model.load_weights(ckpt_filepath)\n",
        "    logits = model.predict(X_test).squeeze()\n",
        "    y_pred = (logits > 0.).astype(int)\n",
        "    eval_results = {get_name(f):f(y_pred=y_pred, y_true=y_test) for f in metrics}\n",
        "    wandb.log(eval_results)\n",
        "    wandb.log({\"conf_mat\" : wandb.plot.confusion_matrix(probs=None,\n",
        "                            y_true=y_test, preds=y_pred,\n",
        "                            class_names=[\"Fake\", \"Real\"])})\n",
        "    return history"
      ],
      "metadata": {
        "id": "d4qbKryd_e3g"
      },
      "execution_count": 11,
      "outputs": []
    },
    {
      "cell_type": "markdown",
      "source": [
        "### PyTorch_BigGraph embeddings"
      ],
      "metadata": {
        "id": "NetZ3uulKwmk"
      }
    },
    {
      "cell_type": "code",
      "source": [
        "edim = 128\n",
        "bg_embeddings = np.load(base_dir/f'{dataset_id}_pt_biggraph_article_embeddings_{edim}.npy')\n",
        "idx = np.load(base_dir/f\"{dataset_id}_pt_biggraph_article_idx_{edim}.npy\")"
      ],
      "metadata": {
        "id": "uQjE8biJFfW8"
      },
      "execution_count": 12,
      "outputs": []
    },
    {
      "cell_type": "code",
      "source": [
        "graph_embeddings = np.zeros((text_embeddings.shape[0], edim))\n",
        "graph_embeddings[idx] = bg_embeddings"
      ],
      "metadata": {
        "id": "NWS6KO7UpUX3"
      },
      "execution_count": 13,
      "outputs": []
    },
    {
      "cell_type": "code",
      "source": [
        "params = {\n",
        "    \"epochs\":200,\n",
        "    \"bs\":128,\n",
        "    # 'lr':1e-3\n",
        "}"
      ],
      "metadata": {
        "id": "zYG-ufSkM92E"
      },
      "execution_count": 14,
      "outputs": []
    },
    {
      "cell_type": "code",
      "source": [
        "X = np.concatenate([\n",
        "    text_embeddings, \n",
        "    df.log_num_retweets.to_numpy()[..., None], \n",
        "    df.log_num_tweets.to_numpy()[..., None],\n",
        "    graph_embeddings], axis=1)\n",
        "y = (df.label==\"real\").to_numpy().astype(int)\n",
        "\n",
        "X.shape, y.shape"
      ],
      "metadata": {
        "colab": {
          "base_uri": "https://localhost:8080/"
        },
        "outputId": "5f313d9e-23ba-4a23-c8bb-829b29a29108",
        "id": "NYFQrhVkqGbC"
      },
      "execution_count": 15,
      "outputs": [
        {
          "output_type": "execute_result",
          "data": {
            "text/plain": [
              "((19968, 898), (19968,))"
            ]
          },
          "metadata": {},
          "execution_count": 15
        }
      ]
    },
    {
      "cell_type": "code",
      "source": [
        "skf = StratifiedKFold(shuffle=True, random_state=124)"
      ],
      "metadata": {
        "id": "35HIz5jGM92K"
      },
      "execution_count": 16,
      "outputs": []
    },
    {
      "cell_type": "markdown",
      "source": [
        "Creating a group and logging all train, test data in wandb for better tracking and visualisation."
      ],
      "metadata": {
        "id": "l0wGrjhLM92M"
      }
    },
    {
      "cell_type": "code",
      "source": [
        "WANDB_ENTITY = 'saloniteam'\n",
        "WANDB_PROJECTS = 'nofolds'\n",
        "\n",
        "GROUP = f\"{dataset_id}-fulltext-sbert+tw+ptbg128-mlp\"\n",
        "\n",
        "for fold_id, (train_idx, test_idx) in enumerate(skf.split(X, y)):\n",
        "    clear_output()\n",
        "    with wandb.init(entity=WANDB_ENTITY, project=WANDB_ENTITY, group=GROUP, name=f\"{GROUP}-{fold_id}\") as run:\n",
        "        train(fold_id, train_idx, test_idx, params)\n",
        "    break"
      ],
      "metadata": {
        "colab": {
          "base_uri": "https://localhost:8080/",
          "height": 1000,
          "referenced_widgets": [
            "075b9838ae3d4d7d8c1b11cba9a7bc28",
            "58604ed70cd1422c8d292bda201f961d",
            "8c338291fdb64770842375082c6435cf",
            "07851fac77ad42b69ebcb5100273b8a8",
            "3bd7879e8d47405184ba639ef8a94b3e",
            "757b0810d720491eb79eedfd09c73c5e",
            "253b5f804e5e4a3a9eeffe08374376d5",
            "c8a4db16a31d49178150f1275831f325"
          ]
        },
        "outputId": "568e3f3a-6b88-43eb-9c8d-f52c47b0e76d",
        "id": "BQRR58uNM92O"
      },
      "execution_count": 17,
      "outputs": [
        {
          "output_type": "stream",
          "name": "stderr",
          "text": [
            "ERROR:wandb.jupyter:Failed to detect the name of this notebook, you can set it manually with the WANDB_NOTEBOOK_NAME environment variable to enable code saving.\n"
          ]
        },
        {
          "output_type": "display_data",
          "data": {
            "text/plain": [
              "<IPython.core.display.Javascript object>"
            ],
            "application/javascript": [
              "\n",
              "        window._wandbApiKey = new Promise((resolve, reject) => {\n",
              "            function loadScript(url) {\n",
              "            return new Promise(function(resolve, reject) {\n",
              "                let newScript = document.createElement(\"script\");\n",
              "                newScript.onerror = reject;\n",
              "                newScript.onload = resolve;\n",
              "                document.body.appendChild(newScript);\n",
              "                newScript.src = url;\n",
              "            });\n",
              "            }\n",
              "            loadScript(\"https://cdn.jsdelivr.net/npm/postmate/build/postmate.min.js\").then(() => {\n",
              "            const iframe = document.createElement('iframe')\n",
              "            iframe.style.cssText = \"width:0;height:0;border:none\"\n",
              "            document.body.appendChild(iframe)\n",
              "            const handshake = new Postmate({\n",
              "                container: iframe,\n",
              "                url: 'https://wandb.ai/authorize'\n",
              "            });\n",
              "            const timeout = setTimeout(() => reject(\"Couldn't auto authenticate\"), 5000)\n",
              "            handshake.then(function(child) {\n",
              "                child.on('authorize', data => {\n",
              "                    clearTimeout(timeout)\n",
              "                    resolve(data)\n",
              "                });\n",
              "            });\n",
              "            })\n",
              "        });\n",
              "    "
            ]
          },
          "metadata": {}
        },
        {
          "output_type": "stream",
          "name": "stderr",
          "text": [
            "\u001b[34m\u001b[1mwandb\u001b[0m: Appending key for api.wandb.ai to your netrc file: /root/.netrc\n"
          ]
        },
        {
          "output_type": "display_data",
          "data": {
            "text/plain": [
              "<IPython.core.display.HTML object>"
            ],
            "text/html": [
              "Tracking run with wandb version 0.13.4"
            ]
          },
          "metadata": {}
        },
        {
          "output_type": "display_data",
          "data": {
            "text/plain": [
              "<IPython.core.display.HTML object>"
            ],
            "text/html": [
              "Run data is saved locally in <code>/content/wandb/run-20221019_105142-3t1wmuk7</code>"
            ]
          },
          "metadata": {}
        },
        {
          "output_type": "display_data",
          "data": {
            "text/plain": [
              "<IPython.core.display.HTML object>"
            ],
            "text/html": [
              "Syncing run <strong><a href=\"https://wandb.ai/saloniteam/saloniteam/runs/3t1wmuk7\" target=\"_blank\">gossipcop-fulltext-sbert+tw+ptbg128-mlp-0</a></strong> to <a href=\"https://wandb.ai/saloniteam/saloniteam\" target=\"_blank\">Weights & Biases</a> (<a href=\"https://wandb.me/run\" target=\"_blank\">docs</a>)<br/>"
            ]
          },
          "metadata": {}
        },
        {
          "output_type": "stream",
          "name": "stderr",
          "text": [
            "\u001b[34m\u001b[1mwandb\u001b[0m: \u001b[33mWARNING\u001b[0m The save_model argument by default saves the model in the HDF5 format that cannot save custom objects like subclassed models and custom layers. This behavior will be deprecated in a future release in favor of the SavedModel format. Meanwhile, the HDF5 model is saved as W&B files and the SavedModel as W&B Artifacts.\n"
          ]
        },
        {
          "output_type": "stream",
          "name": "stdout",
          "text": [
            "Epoch 1/200\n",
            "118/125 [===========================>..] - ETA: 0s - loss: 0.4825 - accuracy: 0.7508"
          ]
        },
        {
          "output_type": "stream",
          "name": "stderr",
          "text": [
            "\u001b[34m\u001b[1mwandb\u001b[0m: Adding directory to artifact (/content/wandb/run-20221019_105142-3t1wmuk7/files/model-best)... Done. 0.1s\n"
          ]
        },
        {
          "output_type": "stream",
          "name": "stdout",
          "text": [
            "\b\b\b\b\b\b\b\b\b\b\b\b\b\b\b\b\b\b\b\b\b\b\b\b\b\b\b\b\b\b\b\b\b\b\b\b\b\b\b\b\b\b\b\b\b\b\b\b\b\b\b\b\b\b\b\b\b\b\b\b\b\b\b\b\b\b\b\b\b\b\b\b\b\b\b\b\b\b\b\b\b\b\b\b\r125/125 [==============================] - 5s 14ms/step - loss: 0.4785 - accuracy: 0.7544 - val_loss: 0.4083 - val_accuracy: 0.8282\n",
            "Epoch 2/200\n",
            "109/125 [=========================>....] - ETA: 0s - loss: 0.3877 - accuracy: 0.8328"
          ]
        },
        {
          "output_type": "stream",
          "name": "stderr",
          "text": [
            "\u001b[34m\u001b[1mwandb\u001b[0m: Adding directory to artifact (/content/wandb/run-20221019_105142-3t1wmuk7/files/model-best)... Done. 0.1s\n"
          ]
        },
        {
          "output_type": "stream",
          "name": "stdout",
          "text": [
            "\b\b\b\b\b\b\b\b\b\b\b\b\b\b\b\b\b\b\b\b\b\b\b\b\b\b\b\b\b\b\b\b\b\b\b\b\b\b\b\b\b\b\b\b\b\b\b\b\b\b\b\b\b\b\b\b\b\b\b\b\b\b\b\b\b\b\b\b\b\b\b\b\b\b\b\b\b\b\b\b\b\b\b\b\r125/125 [==============================] - 1s 11ms/step - loss: 0.3852 - accuracy: 0.8339 - val_loss: 0.3819 - val_accuracy: 0.8277\n",
            "Epoch 3/200\n",
            "123/125 [============================>.] - ETA: 0s - loss: 0.3679 - accuracy: 0.8420"
          ]
        },
        {
          "output_type": "stream",
          "name": "stderr",
          "text": [
            "\u001b[34m\u001b[1mwandb\u001b[0m: Adding directory to artifact (/content/wandb/run-20221019_105142-3t1wmuk7/files/model-best)... Done. 0.1s\n"
          ]
        },
        {
          "output_type": "stream",
          "name": "stdout",
          "text": [
            "\b\b\b\b\b\b\b\b\b\b\b\b\b\b\b\b\b\b\b\b\b\b\b\b\b\b\b\b\b\b\b\b\b\b\b\b\b\b\b\b\b\b\b\b\b\b\b\b\b\b\b\b\b\b\b\b\b\b\b\b\b\b\b\b\b\b\b\b\b\b\b\b\b\b\b\b\b\b\b\b\b\b\b\b\r125/125 [==============================] - 2s 14ms/step - loss: 0.3667 - accuracy: 0.8426 - val_loss: 0.3714 - val_accuracy: 0.8380\n",
            "Epoch 4/200\n",
            "120/125 [===========================>..] - ETA: 0s - loss: 0.3530 - accuracy: 0.8471"
          ]
        },
        {
          "output_type": "stream",
          "name": "stderr",
          "text": [
            "\u001b[34m\u001b[1mwandb\u001b[0m: Adding directory to artifact (/content/wandb/run-20221019_105142-3t1wmuk7/files/model-best)... Done. 0.1s\n"
          ]
        },
        {
          "output_type": "stream",
          "name": "stdout",
          "text": [
            "\b\b\b\b\b\b\b\b\b\b\b\b\b\b\b\b\b\b\b\b\b\b\b\b\b\b\b\b\b\b\b\b\b\b\b\b\b\b\b\b\b\b\b\b\b\b\b\b\b\b\b\b\b\b\b\b\b\b\b\b\b\b\b\b\b\b\b\b\b\b\b\b\b\b\b\b\b\b\b\b\b\b\b\b\r125/125 [==============================] - 2s 12ms/step - loss: 0.3519 - accuracy: 0.8477 - val_loss: 0.3629 - val_accuracy: 0.8425\n",
            "Epoch 5/200\n",
            "125/125 [==============================] - ETA: 0s - loss: 0.3470 - accuracy: 0.8498"
          ]
        },
        {
          "output_type": "stream",
          "name": "stderr",
          "text": [
            "\u001b[34m\u001b[1mwandb\u001b[0m: Adding directory to artifact (/content/wandb/run-20221019_105142-3t1wmuk7/files/model-best)... Done. 0.1s\n"
          ]
        },
        {
          "output_type": "stream",
          "name": "stdout",
          "text": [
            "\b\b\b\b\b\b\b\b\b\b\b\b\b\b\b\b\b\b\b\b\b\b\b\b\b\b\b\b\b\b\b\b\b\b\b\b\b\b\b\b\b\b\b\b\b\b\b\b\b\b\b\b\b\b\b\b\b\b\b\b\b\b\b\b\b\b\b\b\b\b\b\b\b\b\b\b\b\b\b\b\b\b\b\b\r125/125 [==============================] - 1s 12ms/step - loss: 0.3470 - accuracy: 0.8498 - val_loss: 0.3567 - val_accuracy: 0.8428\n",
            "Epoch 6/200\n",
            "112/125 [=========================>....] - ETA: 0s - loss: 0.3355 - accuracy: 0.8570"
          ]
        },
        {
          "output_type": "stream",
          "name": "stderr",
          "text": [
            "\u001b[34m\u001b[1mwandb\u001b[0m: Adding directory to artifact (/content/wandb/run-20221019_105142-3t1wmuk7/files/model-best)... Done. 0.1s\n"
          ]
        },
        {
          "output_type": "stream",
          "name": "stdout",
          "text": [
            "\b\b\b\b\b\b\b\b\b\b\b\b\b\b\b\b\b\b\b\b\b\b\b\b\b\b\b\b\b\b\b\b\b\b\b\b\b\b\b\b\b\b\b\b\b\b\b\b\b\b\b\b\b\b\b\b\b\b\b\b\b\b\b\b\b\b\b\b\b\b\b\b\b\b\b\b\b\b\b\b\b\b\b\b\r125/125 [==============================] - 1s 11ms/step - loss: 0.3358 - accuracy: 0.8562 - val_loss: 0.3476 - val_accuracy: 0.8483\n",
            "Epoch 7/200\n",
            "118/125 [===========================>..] - ETA: 0s - loss: 0.3295 - accuracy: 0.8583"
          ]
        },
        {
          "output_type": "stream",
          "name": "stderr",
          "text": [
            "\u001b[34m\u001b[1mwandb\u001b[0m: Adding directory to artifact (/content/wandb/run-20221019_105142-3t1wmuk7/files/model-best)... Done. 0.1s\n"
          ]
        },
        {
          "output_type": "stream",
          "name": "stdout",
          "text": [
            "\b\b\b\b\b\b\b\b\b\b\b\b\b\b\b\b\b\b\b\b\b\b\b\b\b\b\b\b\b\b\b\b\b\b\b\b\b\b\b\b\b\b\b\b\b\b\b\b\b\b\b\b\b\b\b\b\b\b\b\b\b\b\b\b\b\b\b\b\b\b\b\b\b\b\b\b\b\b\b\b\b\b\b\b\r125/125 [==============================] - 1s 11ms/step - loss: 0.3304 - accuracy: 0.8578 - val_loss: 0.3427 - val_accuracy: 0.8448\n",
            "Epoch 8/200\n",
            "125/125 [==============================] - ETA: 0s - loss: 0.3235 - accuracy: 0.8611"
          ]
        },
        {
          "output_type": "stream",
          "name": "stderr",
          "text": [
            "\u001b[34m\u001b[1mwandb\u001b[0m: Adding directory to artifact (/content/wandb/run-20221019_105142-3t1wmuk7/files/model-best)... Done. 0.1s\n"
          ]
        },
        {
          "output_type": "stream",
          "name": "stdout",
          "text": [
            "\b\b\b\b\b\b\b\b\b\b\b\b\b\b\b\b\b\b\b\b\b\b\b\b\b\b\b\b\b\b\b\b\b\b\b\b\b\b\b\b\b\b\b\b\b\b\b\b\b\b\b\b\b\b\b\b\b\b\b\b\b\b\b\b\b\b\b\b\b\b\b\b\b\b\b\b\b\b\b\b\b\b\b\b\r125/125 [==============================] - 1s 11ms/step - loss: 0.3235 - accuracy: 0.8611 - val_loss: 0.3420 - val_accuracy: 0.8375\n",
            "Epoch 9/200\n",
            "110/125 [=========================>....] - ETA: 0s - loss: 0.3131 - accuracy: 0.8679"
          ]
        },
        {
          "output_type": "stream",
          "name": "stderr",
          "text": [
            "\u001b[34m\u001b[1mwandb\u001b[0m: Adding directory to artifact (/content/wandb/run-20221019_105142-3t1wmuk7/files/model-best)... Done. 0.1s\n"
          ]
        },
        {
          "output_type": "stream",
          "name": "stdout",
          "text": [
            "\b\b\b\b\b\b\b\b\b\b\b\b\b\b\b\b\b\b\b\b\b\b\b\b\b\b\b\b\b\b\b\b\b\b\b\b\b\b\b\b\b\b\b\b\b\b\b\b\b\b\b\b\b\b\b\b\b\b\b\b\b\b\b\b\b\b\b\b\b\b\b\b\b\b\b\b\b\b\b\b\b\b\b\b\r125/125 [==============================] - 1s 11ms/step - loss: 0.3135 - accuracy: 0.8669 - val_loss: 0.3308 - val_accuracy: 0.8515\n",
            "Epoch 10/200\n",
            "118/125 [===========================>..] - ETA: 0s - loss: 0.3131 - accuracy: 0.8654"
          ]
        },
        {
          "output_type": "stream",
          "name": "stderr",
          "text": [
            "\u001b[34m\u001b[1mwandb\u001b[0m: Adding directory to artifact (/content/wandb/run-20221019_105142-3t1wmuk7/files/model-best)... Done. 0.1s\n"
          ]
        },
        {
          "output_type": "stream",
          "name": "stdout",
          "text": [
            "\b\b\b\b\b\b\b\b\b\b\b\b\b\b\b\b\b\b\b\b\b\b\b\b\b\b\b\b\b\b\b\b\b\b\b\b\b\b\b\b\b\b\b\b\b\b\b\b\b\b\b\b\b\b\b\b\b\b\b\b\b\b\b\b\b\b\b\b\b\b\b\b\b\b\b\b\b\b\b\b\b\b\b\b\r125/125 [==============================] - 1s 12ms/step - loss: 0.3133 - accuracy: 0.8652 - val_loss: 0.3256 - val_accuracy: 0.8545\n",
            "Epoch 11/200\n",
            "122/125 [============================>.] - ETA: 0s - loss: 0.3039 - accuracy: 0.8695"
          ]
        },
        {
          "output_type": "stream",
          "name": "stderr",
          "text": [
            "\u001b[34m\u001b[1mwandb\u001b[0m: Adding directory to artifact (/content/wandb/run-20221019_105142-3t1wmuk7/files/model-best)... Done. 0.1s\n"
          ]
        },
        {
          "output_type": "stream",
          "name": "stdout",
          "text": [
            "\b\b\b\b\b\b\b\b\b\b\b\b\b\b\b\b\b\b\b\b\b\b\b\b\b\b\b\b\b\b\b\b\b\b\b\b\b\b\b\b\b\b\b\b\b\b\b\b\b\b\b\b\b\b\b\b\b\b\b\b\b\b\b\b\b\b\b\b\b\b\b\b\b\b\b\b\b\b\b\b\b\b\b\b\r125/125 [==============================] - 1s 11ms/step - loss: 0.3043 - accuracy: 0.8700 - val_loss: 0.3247 - val_accuracy: 0.8538\n",
            "Epoch 12/200\n",
            "118/125 [===========================>..] - ETA: 0s - loss: 0.2986 - accuracy: 0.8731"
          ]
        },
        {
          "output_type": "stream",
          "name": "stderr",
          "text": [
            "\u001b[34m\u001b[1mwandb\u001b[0m: Adding directory to artifact (/content/wandb/run-20221019_105142-3t1wmuk7/files/model-best)... Done. 0.1s\n"
          ]
        },
        {
          "output_type": "stream",
          "name": "stdout",
          "text": [
            "\b\b\b\b\b\b\b\b\b\b\b\b\b\b\b\b\b\b\b\b\b\b\b\b\b\b\b\b\b\b\b\b\b\b\b\b\b\b\b\b\b\b\b\b\b\b\b\b\b\b\b\b\b\b\b\b\b\b\b\b\b\b\b\b\b\b\b\b\b\b\b\b\b\b\b\b\b\b\b\b\b\b\b\b\r125/125 [==============================] - 1s 12ms/step - loss: 0.2990 - accuracy: 0.8726 - val_loss: 0.3211 - val_accuracy: 0.8570\n",
            "Epoch 13/200\n",
            "125/125 [==============================] - 1s 5ms/step - loss: 0.2968 - accuracy: 0.8759 - val_loss: 0.3219 - val_accuracy: 0.8550\n",
            "Epoch 14/200\n",
            "124/125 [============================>.] - ETA: 0s - loss: 0.2943 - accuracy: 0.8742"
          ]
        },
        {
          "output_type": "stream",
          "name": "stderr",
          "text": [
            "\u001b[34m\u001b[1mwandb\u001b[0m: Adding directory to artifact (/content/wandb/run-20221019_105142-3t1wmuk7/files/model-best)... Done. 0.1s\n"
          ]
        },
        {
          "output_type": "stream",
          "name": "stdout",
          "text": [
            "\b\b\b\b\b\b\b\b\b\b\b\b\b\b\b\b\b\b\b\b\b\b\b\b\b\b\b\b\b\b\b\b\b\b\b\b\b\b\b\b\b\b\b\b\b\b\b\b\b\b\b\b\b\b\b\b\b\b\b\b\b\b\b\b\b\b\b\b\b\b\b\b\b\b\b\b\b\b\b\b\b\b\b\b\r125/125 [==============================] - 1s 12ms/step - loss: 0.2939 - accuracy: 0.8744 - val_loss: 0.3166 - val_accuracy: 0.8603\n",
            "Epoch 15/200\n",
            "125/125 [==============================] - ETA: 0s - loss: 0.2904 - accuracy: 0.8778"
          ]
        },
        {
          "output_type": "stream",
          "name": "stderr",
          "text": [
            "\u001b[34m\u001b[1mwandb\u001b[0m: Adding directory to artifact (/content/wandb/run-20221019_105142-3t1wmuk7/files/model-best)... Done. 0.1s\n"
          ]
        },
        {
          "output_type": "stream",
          "name": "stdout",
          "text": [
            "\b\b\b\b\b\b\b\b\b\b\b\b\b\b\b\b\b\b\b\b\b\b\b\b\b\b\b\b\b\b\b\b\b\b\b\b\b\b\b\b\b\b\b\b\b\b\b\b\b\b\b\b\b\b\b\b\b\b\b\b\b\b\b\b\b\b\b\b\b\b\b\b\b\b\b\b\b\b\b\b\b\b\b\b\r125/125 [==============================] - 2s 14ms/step - loss: 0.2904 - accuracy: 0.8778 - val_loss: 0.3108 - val_accuracy: 0.8655\n",
            "Epoch 16/200\n",
            "125/125 [==============================] - 1s 5ms/step - loss: 0.2813 - accuracy: 0.8811 - val_loss: 0.3135 - val_accuracy: 0.8660\n",
            "Epoch 17/200\n",
            "116/125 [==========================>...] - ETA: 0s - loss: 0.2805 - accuracy: 0.8806"
          ]
        },
        {
          "output_type": "stream",
          "name": "stderr",
          "text": [
            "\u001b[34m\u001b[1mwandb\u001b[0m: Adding directory to artifact (/content/wandb/run-20221019_105142-3t1wmuk7/files/model-best)... Done. 0.1s\n"
          ]
        },
        {
          "output_type": "stream",
          "name": "stdout",
          "text": [
            "\b\b\b\b\b\b\b\b\b\b\b\b\b\b\b\b\b\b\b\b\b\b\b\b\b\b\b\b\b\b\b\b\b\b\b\b\b\b\b\b\b\b\b\b\b\b\b\b\b\b\b\b\b\b\b\b\b\b\b\b\b\b\b\b\b\b\b\b\b\b\b\b\b\b\b\b\b\b\b\b\b\b\b\b\r125/125 [==============================] - 1s 11ms/step - loss: 0.2796 - accuracy: 0.8808 - val_loss: 0.3089 - val_accuracy: 0.8625\n",
            "Epoch 18/200\n",
            "118/125 [===========================>..] - ETA: 0s - loss: 0.2774 - accuracy: 0.8858"
          ]
        },
        {
          "output_type": "stream",
          "name": "stderr",
          "text": [
            "\u001b[34m\u001b[1mwandb\u001b[0m: Adding directory to artifact (/content/wandb/run-20221019_105142-3t1wmuk7/files/model-best)... Done. 0.1s\n"
          ]
        },
        {
          "output_type": "stream",
          "name": "stdout",
          "text": [
            "\b\b\b\b\b\b\b\b\b\b\b\b\b\b\b\b\b\b\b\b\b\b\b\b\b\b\b\b\b\b\b\b\b\b\b\b\b\b\b\b\b\b\b\b\b\b\b\b\b\b\b\b\b\b\b\b\b\b\b\b\b\b\b\b\b\b\b\b\b\b\b\b\b\b\b\b\b\b\b\b\b\b\b\b\r125/125 [==============================] - 1s 11ms/step - loss: 0.2778 - accuracy: 0.8854 - val_loss: 0.3078 - val_accuracy: 0.8665\n",
            "Epoch 19/200\n",
            "125/125 [==============================] - 1s 5ms/step - loss: 0.2746 - accuracy: 0.8851 - val_loss: 0.3096 - val_accuracy: 0.8630\n",
            "Epoch 20/200\n",
            "119/125 [===========================>..] - ETA: 0s - loss: 0.2707 - accuracy: 0.8888"
          ]
        },
        {
          "output_type": "stream",
          "name": "stderr",
          "text": [
            "\u001b[34m\u001b[1mwandb\u001b[0m: Adding directory to artifact (/content/wandb/run-20221019_105142-3t1wmuk7/files/model-best)... Done. 0.1s\n"
          ]
        },
        {
          "output_type": "stream",
          "name": "stdout",
          "text": [
            "\b\b\b\b\b\b\b\b\b\b\b\b\b\b\b\b\b\b\b\b\b\b\b\b\b\b\b\b\b\b\b\b\b\b\b\b\b\b\b\b\b\b\b\b\b\b\b\b\b\b\b\b\b\b\b\b\b\b\b\b\b\b\b\b\b\b\b\b\b\b\b\b\b\b\b\b\b\b\b\b\b\b\b\b\r125/125 [==============================] - 1s 11ms/step - loss: 0.2710 - accuracy: 0.8888 - val_loss: 0.3050 - val_accuracy: 0.8686\n",
            "Epoch 21/200\n",
            "125/125 [==============================] - 1s 5ms/step - loss: 0.2690 - accuracy: 0.8886 - val_loss: 0.3104 - val_accuracy: 0.8625\n",
            "Epoch 22/200\n",
            "125/125 [==============================] - 1s 5ms/step - loss: 0.2646 - accuracy: 0.8868 - val_loss: 0.3063 - val_accuracy: 0.8743\n",
            "Epoch 23/200\n",
            "115/125 [==========================>...] - ETA: 0s - loss: 0.2636 - accuracy: 0.8879"
          ]
        },
        {
          "output_type": "stream",
          "name": "stderr",
          "text": [
            "\u001b[34m\u001b[1mwandb\u001b[0m: Adding directory to artifact (/content/wandb/run-20221019_105142-3t1wmuk7/files/model-best)... Done. 0.1s\n"
          ]
        },
        {
          "output_type": "stream",
          "name": "stdout",
          "text": [
            "\b\b\b\b\b\b\b\b\b\b\b\b\b\b\b\b\b\b\b\b\b\b\b\b\b\b\b\b\b\b\b\b\b\b\b\b\b\b\b\b\b\b\b\b\b\b\b\b\b\b\b\b\b\b\b\b\b\b\b\b\b\b\b\b\b\b\b\b\b\b\b\b\b\b\b\b\b\b\b\b\b\b\b\b\r125/125 [==============================] - 1s 10ms/step - loss: 0.2619 - accuracy: 0.8886 - val_loss: 0.3004 - val_accuracy: 0.8721\n",
            "Epoch 24/200\n",
            "125/125 [==============================] - 1s 4ms/step - loss: 0.2589 - accuracy: 0.8933 - val_loss: 0.3018 - val_accuracy: 0.8708\n",
            "Epoch 25/200\n",
            "118/125 [===========================>..] - ETA: 0s - loss: 0.2553 - accuracy: 0.8945"
          ]
        },
        {
          "output_type": "stream",
          "name": "stderr",
          "text": [
            "\u001b[34m\u001b[1mwandb\u001b[0m: Adding directory to artifact (/content/wandb/run-20221019_105142-3t1wmuk7/files/model-best)... Done. 0.1s\n"
          ]
        },
        {
          "output_type": "stream",
          "name": "stdout",
          "text": [
            "\b\b\b\b\b\b\b\b\b\b\b\b\b\b\b\b\b\b\b\b\b\b\b\b\b\b\b\b\b\b\b\b\b\b\b\b\b\b\b\b\b\b\b\b\b\b\b\b\b\b\b\b\b\b\b\b\b\b\b\b\b\b\b\b\b\b\b\b\b\b\b\b\b\b\b\b\b\b\b\b\b\b\b\b\r125/125 [==============================] - 1s 11ms/step - loss: 0.2555 - accuracy: 0.8945 - val_loss: 0.2965 - val_accuracy: 0.8713\n",
            "Epoch 26/200\n",
            "125/125 [==============================] - 1s 5ms/step - loss: 0.2531 - accuracy: 0.8963 - val_loss: 0.2983 - val_accuracy: 0.8761\n",
            "Epoch 27/200\n",
            "125/125 [==============================] - 1s 4ms/step - loss: 0.2478 - accuracy: 0.8999 - val_loss: 0.3004 - val_accuracy: 0.8728\n",
            "Epoch 28/200\n",
            "120/125 [===========================>..] - ETA: 0s - loss: 0.2526 - accuracy: 0.8953"
          ]
        },
        {
          "output_type": "stream",
          "name": "stderr",
          "text": [
            "\u001b[34m\u001b[1mwandb\u001b[0m: Adding directory to artifact (/content/wandb/run-20221019_105142-3t1wmuk7/files/model-best)... Done. 0.1s\n"
          ]
        },
        {
          "output_type": "stream",
          "name": "stdout",
          "text": [
            "\b\b\b\b\b\b\b\b\b\b\b\b\b\b\b\b\b\b\b\b\b\b\b\b\b\b\b\b\b\b\b\b\b\b\b\b\b\b\b\b\b\b\b\b\b\b\b\b\b\b\b\b\b\b\b\b\b\b\b\b\b\b\b\b\b\b\b\b\b\b\b\b\b\b\b\b\b\b\b\b\b\b\b\b\r125/125 [==============================] - 1s 11ms/step - loss: 0.2527 - accuracy: 0.8953 - val_loss: 0.2937 - val_accuracy: 0.8813\n",
            "Epoch 29/200\n",
            "125/125 [==============================] - 1s 5ms/step - loss: 0.2480 - accuracy: 0.8981 - val_loss: 0.2954 - val_accuracy: 0.8778\n",
            "Epoch 30/200\n",
            "125/125 [==============================] - 1s 4ms/step - loss: 0.2449 - accuracy: 0.9012 - val_loss: 0.3002 - val_accuracy: 0.8693\n",
            "Epoch 31/200\n",
            "124/125 [============================>.] - ETA: 0s - loss: 0.2441 - accuracy: 0.8993"
          ]
        },
        {
          "output_type": "stream",
          "name": "stderr",
          "text": [
            "\u001b[34m\u001b[1mwandb\u001b[0m: Adding directory to artifact (/content/wandb/run-20221019_105142-3t1wmuk7/files/model-best)... Done. 0.1s\n"
          ]
        },
        {
          "output_type": "stream",
          "name": "stdout",
          "text": [
            "\b\b\b\b\b\b\b\b\b\b\b\b\b\b\b\b\b\b\b\b\b\b\b\b\b\b\b\b\b\b\b\b\b\b\b\b\b\b\b\b\b\b\b\b\b\b\b\b\b\b\b\b\b\b\b\b\b\b\b\b\b\b\b\b\b\b\b\b\b\b\b\b\b\b\b\b\b\b\b\b\b\b\b\b\r125/125 [==============================] - 1s 10ms/step - loss: 0.2443 - accuracy: 0.8989 - val_loss: 0.2910 - val_accuracy: 0.8801\n",
            "Epoch 32/200\n",
            "125/125 [==============================] - 1s 5ms/step - loss: 0.2450 - accuracy: 0.8989 - val_loss: 0.2926 - val_accuracy: 0.8781\n",
            "Epoch 33/200\n",
            "125/125 [==============================] - 1s 4ms/step - loss: 0.2420 - accuracy: 0.9016 - val_loss: 0.2941 - val_accuracy: 0.8801\n",
            "Epoch 34/200\n",
            "125/125 [==============================] - 1s 4ms/step - loss: 0.2404 - accuracy: 0.9018 - val_loss: 0.2995 - val_accuracy: 0.8781\n",
            "Epoch 35/200\n",
            "125/125 [==============================] - 1s 4ms/step - loss: 0.2344 - accuracy: 0.9033 - val_loss: 0.2930 - val_accuracy: 0.8806\n",
            "Epoch 36/200\n",
            "125/125 [==============================] - 1s 4ms/step - loss: 0.2345 - accuracy: 0.9039 - val_loss: 0.2911 - val_accuracy: 0.8828\n",
            "Epoch 37/200\n",
            "125/125 [==============================] - 1s 4ms/step - loss: 0.2308 - accuracy: 0.9078 - val_loss: 0.2954 - val_accuracy: 0.8718\n",
            "Epoch 38/200\n",
            "125/125 [==============================] - 1s 4ms/step - loss: 0.2307 - accuracy: 0.9062 - val_loss: 0.2920 - val_accuracy: 0.8756\n",
            "Epoch 39/200\n",
            "120/125 [===========================>..] - ETA: 0s - loss: 0.2282 - accuracy: 0.9081"
          ]
        },
        {
          "output_type": "stream",
          "name": "stderr",
          "text": [
            "\u001b[34m\u001b[1mwandb\u001b[0m: Adding directory to artifact (/content/wandb/run-20221019_105142-3t1wmuk7/files/model-best)... Done. 0.1s\n"
          ]
        },
        {
          "output_type": "stream",
          "name": "stdout",
          "text": [
            "\b\b\b\b\b\b\b\b\b\b\b\b\b\b\b\b\b\b\b\b\b\b\b\b\b\b\b\b\b\b\b\b\b\b\b\b\b\b\b\b\b\b\b\b\b\b\b\b\b\b\b\b\b\b\b\b\b\b\b\b\b\b\b\b\b\b\b\b\b\b\b\b\b\b\b\b\b\b\b\b\b\b\b\b\r125/125 [==============================] - 1s 10ms/step - loss: 0.2284 - accuracy: 0.9080 - val_loss: 0.2903 - val_accuracy: 0.8643\n",
            "Epoch 40/200\n",
            "125/125 [==============================] - 1s 5ms/step - loss: 0.2277 - accuracy: 0.9048 - val_loss: 0.2931 - val_accuracy: 0.8663\n",
            "Epoch 41/200\n",
            "125/125 [==============================] - 1s 5ms/step - loss: 0.2255 - accuracy: 0.9066 - val_loss: 0.2932 - val_accuracy: 0.8620\n",
            "Epoch 42/200\n",
            "118/125 [===========================>..] - ETA: 0s - loss: 0.2263 - accuracy: 0.9079"
          ]
        },
        {
          "output_type": "stream",
          "name": "stderr",
          "text": [
            "\u001b[34m\u001b[1mwandb\u001b[0m: Adding directory to artifact (/content/wandb/run-20221019_105142-3t1wmuk7/files/model-best)... Done. 0.1s\n"
          ]
        },
        {
          "output_type": "stream",
          "name": "stdout",
          "text": [
            "\b\b\b\b\b\b\b\b\b\b\b\b\b\b\b\b\b\b\b\b\b\b\b\b\b\b\b\b\b\b\b\b\b\b\b\b\b\b\b\b\b\b\b\b\b\b\b\b\b\b\b\b\b\b\b\b\b\b\b\b\b\b\b\b\b\b\b\b\b\b\b\b\b\b\b\b\b\b\b\b\b\b\b\b\r125/125 [==============================] - 1s 11ms/step - loss: 0.2268 - accuracy: 0.9073 - val_loss: 0.2899 - val_accuracy: 0.8748\n",
            "Epoch 43/200\n",
            "120/125 [===========================>..] - ETA: 0s - loss: 0.2222 - accuracy: 0.9092"
          ]
        },
        {
          "output_type": "stream",
          "name": "stderr",
          "text": [
            "\u001b[34m\u001b[1mwandb\u001b[0m: Adding directory to artifact (/content/wandb/run-20221019_105142-3t1wmuk7/files/model-best)... Done. 0.1s\n"
          ]
        },
        {
          "output_type": "stream",
          "name": "stdout",
          "text": [
            "\b\b\b\b\b\b\b\b\b\b\b\b\b\b\b\b\b\b\b\b\b\b\b\b\b\b\b\b\b\b\b\b\b\b\b\b\b\b\b\b\b\b\b\b\b\b\b\b\b\b\b\b\b\b\b\b\b\b\b\b\b\b\b\b\b\b\b\b\b\b\b\b\b\b\b\b\b\b\b\b\b\b\b\b\r125/125 [==============================] - 1s 11ms/step - loss: 0.2221 - accuracy: 0.9090 - val_loss: 0.2871 - val_accuracy: 0.8786\n",
            "Epoch 44/200\n",
            "125/125 [==============================] - 1s 5ms/step - loss: 0.2204 - accuracy: 0.9106 - val_loss: 0.2931 - val_accuracy: 0.8728\n",
            "Epoch 45/200\n",
            "125/125 [==============================] - 1s 4ms/step - loss: 0.2181 - accuracy: 0.9101 - val_loss: 0.2904 - val_accuracy: 0.8696\n",
            "Epoch 46/200\n",
            "125/125 [==============================] - 1s 4ms/step - loss: 0.2198 - accuracy: 0.9086 - val_loss: 0.2936 - val_accuracy: 0.8793\n",
            "Epoch 47/200\n",
            "125/125 [==============================] - 1s 5ms/step - loss: 0.2162 - accuracy: 0.9108 - val_loss: 0.2922 - val_accuracy: 0.8726\n",
            "Epoch 48/200\n",
            "125/125 [==============================] - 1s 5ms/step - loss: 0.2146 - accuracy: 0.9122 - val_loss: 0.2968 - val_accuracy: 0.8653\n",
            "Epoch 49/200\n",
            "125/125 [==============================] - 1s 4ms/step - loss: 0.2128 - accuracy: 0.9134 - val_loss: 0.2928 - val_accuracy: 0.8753\n",
            "Epoch 50/200\n",
            "125/125 [==============================] - 1s 4ms/step - loss: 0.2165 - accuracy: 0.9128 - val_loss: 0.2984 - val_accuracy: 0.8663\n",
            "Epoch 51/200\n",
            "125/125 [==============================] - 1s 5ms/step - loss: 0.2127 - accuracy: 0.9132 - val_loss: 0.2886 - val_accuracy: 0.8821\n",
            "Epoch 52/200\n",
            "125/125 [==============================] - 1s 4ms/step - loss: 0.2094 - accuracy: 0.9150 - val_loss: 0.2958 - val_accuracy: 0.8668\n",
            "Epoch 53/200\n",
            "125/125 [==============================] - 1s 5ms/step - loss: 0.2056 - accuracy: 0.9161 - val_loss: 0.3004 - val_accuracy: 0.8736\n",
            "Epoch 54/200\n",
            "125/125 [==============================] - 1s 5ms/step - loss: 0.2077 - accuracy: 0.9145 - val_loss: 0.2905 - val_accuracy: 0.8731\n",
            "Epoch 55/200\n",
            "125/125 [==============================] - 1s 5ms/step - loss: 0.2035 - accuracy: 0.9162 - val_loss: 0.2932 - val_accuracy: 0.8826\n",
            "Epoch 56/200\n",
            "125/125 [==============================] - 1s 5ms/step - loss: 0.2067 - accuracy: 0.9151 - val_loss: 0.2932 - val_accuracy: 0.8723\n",
            "Epoch 57/200\n",
            "125/125 [==============================] - 1s 4ms/step - loss: 0.1984 - accuracy: 0.9184 - val_loss: 0.2978 - val_accuracy: 0.8763\n",
            "Epoch 58/200\n",
            "125/125 [==============================] - 1s 5ms/step - loss: 0.1993 - accuracy: 0.9172 - val_loss: 0.2937 - val_accuracy: 0.8786\n",
            "Epoch 59/200\n",
            "125/125 [==============================] - 1s 5ms/step - loss: 0.2067 - accuracy: 0.9175 - val_loss: 0.2968 - val_accuracy: 0.8736\n",
            "Epoch 60/200\n",
            "125/125 [==============================] - 1s 4ms/step - loss: 0.1979 - accuracy: 0.9193 - val_loss: 0.2990 - val_accuracy: 0.8728\n",
            "Epoch 61/200\n",
            "125/125 [==============================] - 1s 4ms/step - loss: 0.1970 - accuracy: 0.9197 - val_loss: 0.3001 - val_accuracy: 0.8673\n",
            "Epoch 62/200\n",
            "125/125 [==============================] - 1s 4ms/step - loss: 0.1958 - accuracy: 0.9222 - val_loss: 0.2953 - val_accuracy: 0.8783\n",
            "Epoch 63/200\n",
            "125/125 [==============================] - 1s 5ms/step - loss: 0.1934 - accuracy: 0.9221 - val_loss: 0.2968 - val_accuracy: 0.8758\n",
            "Epoch 64/200\n",
            "125/125 [==============================] - 1s 4ms/step - loss: 0.1939 - accuracy: 0.9216 - val_loss: 0.2972 - val_accuracy: 0.8788\n",
            "Epoch 65/200\n",
            "125/125 [==============================] - 1s 5ms/step - loss: 0.1915 - accuracy: 0.9233 - val_loss: 0.3018 - val_accuracy: 0.8786\n",
            "Epoch 66/200\n",
            "125/125 [==============================] - 1s 4ms/step - loss: 0.1957 - accuracy: 0.9196 - val_loss: 0.3000 - val_accuracy: 0.8743\n",
            "Epoch 67/200\n",
            "125/125 [==============================] - 1s 4ms/step - loss: 0.1951 - accuracy: 0.9209 - val_loss: 0.2981 - val_accuracy: 0.8813\n",
            "Epoch 68/200\n",
            "125/125 [==============================] - 1s 4ms/step - loss: 0.1874 - accuracy: 0.9254 - val_loss: 0.2991 - val_accuracy: 0.8816\n",
            "Epoch 69/200\n",
            "125/125 [==============================] - 1s 4ms/step - loss: 0.1890 - accuracy: 0.9236 - val_loss: 0.2950 - val_accuracy: 0.8683\n",
            "Epoch 70/200\n",
            "125/125 [==============================] - 1s 4ms/step - loss: 0.1913 - accuracy: 0.9219 - val_loss: 0.2945 - val_accuracy: 0.8778\n",
            "Epoch 71/200\n",
            "125/125 [==============================] - 1s 4ms/step - loss: 0.1859 - accuracy: 0.9255 - val_loss: 0.2963 - val_accuracy: 0.8731\n",
            "Epoch 72/200\n",
            "125/125 [==============================] - 1s 4ms/step - loss: 0.1846 - accuracy: 0.9254 - val_loss: 0.2967 - val_accuracy: 0.8768\n",
            "Epoch 73/200\n",
            "125/125 [==============================] - 1s 4ms/step - loss: 0.1833 - accuracy: 0.9269 - val_loss: 0.2933 - val_accuracy: 0.8798\n",
            "Epoch 74/200\n",
            "125/125 [==============================] - 1s 5ms/step - loss: 0.1865 - accuracy: 0.9264 - val_loss: 0.2977 - val_accuracy: 0.8736\n",
            "Epoch 75/200\n",
            "125/125 [==============================] - 1s 4ms/step - loss: 0.1841 - accuracy: 0.9236 - val_loss: 0.3025 - val_accuracy: 0.8753\n",
            "Epoch 76/200\n",
            "125/125 [==============================] - 1s 4ms/step - loss: 0.1809 - accuracy: 0.9283 - val_loss: 0.3004 - val_accuracy: 0.8686\n",
            "Epoch 77/200\n",
            "125/125 [==============================] - 1s 5ms/step - loss: 0.1874 - accuracy: 0.9224 - val_loss: 0.3052 - val_accuracy: 0.8671\n",
            "Epoch 78/200\n",
            "125/125 [==============================] - 1s 4ms/step - loss: 0.1811 - accuracy: 0.9268 - val_loss: 0.3083 - val_accuracy: 0.8806\n",
            "Epoch 79/200\n",
            "125/125 [==============================] - 1s 5ms/step - loss: 0.1781 - accuracy: 0.9293 - val_loss: 0.3030 - val_accuracy: 0.8776\n",
            "Epoch 80/200\n",
            "125/125 [==============================] - 1s 5ms/step - loss: 0.1809 - accuracy: 0.9272 - val_loss: 0.2987 - val_accuracy: 0.8758\n",
            "Epoch 81/200\n",
            "125/125 [==============================] - 1s 5ms/step - loss: 0.1774 - accuracy: 0.9302 - val_loss: 0.3035 - val_accuracy: 0.8721\n",
            "Epoch 82/200\n",
            "125/125 [==============================] - 1s 4ms/step - loss: 0.1777 - accuracy: 0.9291 - val_loss: 0.3040 - val_accuracy: 0.8678\n",
            "Epoch 83/200\n",
            "125/125 [==============================] - 1s 4ms/step - loss: 0.1733 - accuracy: 0.9297 - val_loss: 0.3018 - val_accuracy: 0.8731\n",
            "Epoch 84/200\n",
            "125/125 [==============================] - 1s 4ms/step - loss: 0.1724 - accuracy: 0.9330 - val_loss: 0.3029 - val_accuracy: 0.8746\n",
            "Epoch 85/200\n",
            "125/125 [==============================] - 1s 4ms/step - loss: 0.1724 - accuracy: 0.9321 - val_loss: 0.3037 - val_accuracy: 0.8671\n",
            "Epoch 86/200\n",
            "125/125 [==============================] - 1s 4ms/step - loss: 0.1734 - accuracy: 0.9308 - val_loss: 0.3138 - val_accuracy: 0.8771\n",
            "Epoch 87/200\n",
            "125/125 [==============================] - 1s 4ms/step - loss: 0.1771 - accuracy: 0.9299 - val_loss: 0.3137 - val_accuracy: 0.8628\n",
            "Epoch 88/200\n",
            "125/125 [==============================] - 1s 4ms/step - loss: 0.1720 - accuracy: 0.9320 - val_loss: 0.3044 - val_accuracy: 0.8771\n",
            "Epoch 89/200\n",
            "125/125 [==============================] - 1s 4ms/step - loss: 0.1755 - accuracy: 0.9308 - val_loss: 0.3003 - val_accuracy: 0.8746\n",
            "Epoch 90/200\n",
            "125/125 [==============================] - 1s 4ms/step - loss: 0.1673 - accuracy: 0.9339 - val_loss: 0.3041 - val_accuracy: 0.8753\n",
            "Epoch 91/200\n",
            "125/125 [==============================] - 1s 5ms/step - loss: 0.1649 - accuracy: 0.9370 - val_loss: 0.3069 - val_accuracy: 0.8691\n",
            "Epoch 92/200\n",
            "125/125 [==============================] - 1s 4ms/step - loss: 0.1693 - accuracy: 0.9323 - val_loss: 0.3053 - val_accuracy: 0.8748\n",
            "Epoch 93/200\n",
            "125/125 [==============================] - 1s 4ms/step - loss: 0.1690 - accuracy: 0.9342 - val_loss: 0.3128 - val_accuracy: 0.8786\n",
            "Epoch 94/200\n",
            "125/125 [==============================] - 1s 5ms/step - loss: 0.1685 - accuracy: 0.9315 - val_loss: 0.3104 - val_accuracy: 0.8758\n",
            "Epoch 95/200\n",
            "125/125 [==============================] - 1s 4ms/step - loss: 0.1688 - accuracy: 0.9327 - val_loss: 0.3059 - val_accuracy: 0.8681\n",
            "Epoch 96/200\n",
            "125/125 [==============================] - 1s 4ms/step - loss: 0.1634 - accuracy: 0.9378 - val_loss: 0.3091 - val_accuracy: 0.8748\n",
            "Epoch 97/200\n",
            "125/125 [==============================] - 1s 4ms/step - loss: 0.1646 - accuracy: 0.9340 - val_loss: 0.3085 - val_accuracy: 0.8686\n",
            "Epoch 98/200\n",
            "125/125 [==============================] - 1s 4ms/step - loss: 0.1642 - accuracy: 0.9342 - val_loss: 0.3118 - val_accuracy: 0.8756\n",
            "Epoch 99/200\n",
            "125/125 [==============================] - 1s 4ms/step - loss: 0.1652 - accuracy: 0.9325 - val_loss: 0.3103 - val_accuracy: 0.8743\n",
            "Epoch 100/200\n",
            "125/125 [==============================] - 1s 4ms/step - loss: 0.1572 - accuracy: 0.9374 - val_loss: 0.3056 - val_accuracy: 0.8783\n",
            "Epoch 101/200\n",
            "125/125 [==============================] - 1s 4ms/step - loss: 0.1647 - accuracy: 0.9345 - val_loss: 0.3074 - val_accuracy: 0.8778\n",
            "Epoch 102/200\n",
            "125/125 [==============================] - 1s 5ms/step - loss: 0.1616 - accuracy: 0.9355 - val_loss: 0.3107 - val_accuracy: 0.8681\n",
            "Epoch 103/200\n",
            "125/125 [==============================] - 1s 4ms/step - loss: 0.1614 - accuracy: 0.9373 - val_loss: 0.3137 - val_accuracy: 0.8733\n",
            "Epoch 104/200\n",
            "125/125 [==============================] - 1s 5ms/step - loss: 0.1601 - accuracy: 0.9375 - val_loss: 0.3220 - val_accuracy: 0.8796\n",
            "Epoch 105/200\n",
            "125/125 [==============================] - 1s 4ms/step - loss: 0.1586 - accuracy: 0.9363 - val_loss: 0.3190 - val_accuracy: 0.8821\n",
            "Epoch 106/200\n",
            "125/125 [==============================] - 1s 4ms/step - loss: 0.1584 - accuracy: 0.9363 - val_loss: 0.3136 - val_accuracy: 0.8658\n",
            "Epoch 107/200\n",
            "125/125 [==============================] - 1s 4ms/step - loss: 0.1607 - accuracy: 0.9352 - val_loss: 0.3099 - val_accuracy: 0.8716\n",
            "Epoch 108/200\n",
            "125/125 [==============================] - 1s 4ms/step - loss: 0.1610 - accuracy: 0.9368 - val_loss: 0.3167 - val_accuracy: 0.8728\n",
            "Epoch 109/200\n",
            "125/125 [==============================] - 1s 4ms/step - loss: 0.1606 - accuracy: 0.9363 - val_loss: 0.3121 - val_accuracy: 0.8738\n",
            "Epoch 110/200\n",
            "125/125 [==============================] - 1s 4ms/step - loss: 0.1612 - accuracy: 0.9366 - val_loss: 0.3131 - val_accuracy: 0.8746\n",
            "Epoch 111/200\n",
            "125/125 [==============================] - 1s 4ms/step - loss: 0.1558 - accuracy: 0.9376 - val_loss: 0.3147 - val_accuracy: 0.8776\n",
            "Epoch 112/200\n",
            "125/125 [==============================] - 1s 4ms/step - loss: 0.1524 - accuracy: 0.9387 - val_loss: 0.3111 - val_accuracy: 0.8781\n",
            "Epoch 113/200\n",
            "125/125 [==============================] - 1s 4ms/step - loss: 0.1550 - accuracy: 0.9378 - val_loss: 0.3114 - val_accuracy: 0.8753\n",
            "Epoch 114/200\n",
            "125/125 [==============================] - 1s 4ms/step - loss: 0.1549 - accuracy: 0.9400 - val_loss: 0.3136 - val_accuracy: 0.8768\n",
            "Epoch 115/200\n",
            "125/125 [==============================] - 0s 4ms/step - loss: 0.1536 - accuracy: 0.9394 - val_loss: 0.3144 - val_accuracy: 0.8801\n",
            "Epoch 116/200\n",
            "125/125 [==============================] - 1s 4ms/step - loss: 0.1543 - accuracy: 0.9402 - val_loss: 0.3226 - val_accuracy: 0.8761\n",
            "Epoch 117/200\n",
            "125/125 [==============================] - 1s 4ms/step - loss: 0.1459 - accuracy: 0.9419 - val_loss: 0.3188 - val_accuracy: 0.8731\n",
            "Epoch 118/200\n",
            "125/125 [==============================] - 1s 4ms/step - loss: 0.1492 - accuracy: 0.9407 - val_loss: 0.3246 - val_accuracy: 0.8786\n",
            "Epoch 119/200\n",
            "125/125 [==============================] - 1s 4ms/step - loss: 0.1476 - accuracy: 0.9407 - val_loss: 0.3087 - val_accuracy: 0.8736\n",
            "Epoch 120/200\n",
            "125/125 [==============================] - 1s 4ms/step - loss: 0.1505 - accuracy: 0.9418 - val_loss: 0.3190 - val_accuracy: 0.8731\n",
            "Epoch 121/200\n",
            "125/125 [==============================] - 1s 4ms/step - loss: 0.1502 - accuracy: 0.9419 - val_loss: 0.3189 - val_accuracy: 0.8748\n",
            "Epoch 122/200\n",
            "125/125 [==============================] - 1s 4ms/step - loss: 0.1495 - accuracy: 0.9420 - val_loss: 0.3198 - val_accuracy: 0.8723\n",
            "Epoch 123/200\n",
            "125/125 [==============================] - 1s 4ms/step - loss: 0.1466 - accuracy: 0.9408 - val_loss: 0.3164 - val_accuracy: 0.8796\n",
            "Epoch 124/200\n",
            "125/125 [==============================] - 1s 5ms/step - loss: 0.1474 - accuracy: 0.9408 - val_loss: 0.3229 - val_accuracy: 0.8738\n",
            "Epoch 125/200\n",
            "125/125 [==============================] - 1s 5ms/step - loss: 0.1508 - accuracy: 0.9392 - val_loss: 0.3178 - val_accuracy: 0.8746\n",
            "Epoch 126/200\n",
            "125/125 [==============================] - 1s 4ms/step - loss: 0.1513 - accuracy: 0.9410 - val_loss: 0.3176 - val_accuracy: 0.8663\n",
            "Epoch 127/200\n",
            "125/125 [==============================] - 1s 4ms/step - loss: 0.1450 - accuracy: 0.9442 - val_loss: 0.3217 - val_accuracy: 0.8768\n",
            "Epoch 128/200\n",
            "125/125 [==============================] - 1s 5ms/step - loss: 0.1446 - accuracy: 0.9405 - val_loss: 0.3151 - val_accuracy: 0.8748\n",
            "Epoch 129/200\n",
            "125/125 [==============================] - 1s 5ms/step - loss: 0.1466 - accuracy: 0.9433 - val_loss: 0.3296 - val_accuracy: 0.8753\n",
            "Epoch 130/200\n",
            "125/125 [==============================] - 1s 4ms/step - loss: 0.1496 - accuracy: 0.9408 - val_loss: 0.3287 - val_accuracy: 0.8791\n",
            "Epoch 131/200\n",
            "125/125 [==============================] - 1s 5ms/step - loss: 0.1444 - accuracy: 0.9405 - val_loss: 0.3262 - val_accuracy: 0.8691\n",
            "Epoch 132/200\n",
            "125/125 [==============================] - 1s 4ms/step - loss: 0.1451 - accuracy: 0.9433 - val_loss: 0.3241 - val_accuracy: 0.8773\n",
            "Epoch 133/200\n",
            "125/125 [==============================] - 1s 4ms/step - loss: 0.1389 - accuracy: 0.9458 - val_loss: 0.3210 - val_accuracy: 0.8756\n",
            "Epoch 134/200\n",
            "125/125 [==============================] - 1s 4ms/step - loss: 0.1440 - accuracy: 0.9428 - val_loss: 0.3191 - val_accuracy: 0.8693\n",
            "Epoch 135/200\n",
            "125/125 [==============================] - 1s 4ms/step - loss: 0.1426 - accuracy: 0.9418 - val_loss: 0.3295 - val_accuracy: 0.8796\n",
            "Epoch 136/200\n",
            "125/125 [==============================] - 1s 4ms/step - loss: 0.1422 - accuracy: 0.9412 - val_loss: 0.3213 - val_accuracy: 0.8766\n",
            "Epoch 137/200\n",
            "125/125 [==============================] - 1s 4ms/step - loss: 0.1456 - accuracy: 0.9419 - val_loss: 0.3278 - val_accuracy: 0.8766\n",
            "Epoch 138/200\n",
            "125/125 [==============================] - 1s 5ms/step - loss: 0.1441 - accuracy: 0.9422 - val_loss: 0.3156 - val_accuracy: 0.8706\n",
            "Epoch 139/200\n",
            "125/125 [==============================] - 1s 4ms/step - loss: 0.1459 - accuracy: 0.9417 - val_loss: 0.3245 - val_accuracy: 0.8738\n",
            "Epoch 140/200\n",
            "125/125 [==============================] - 1s 5ms/step - loss: 0.1404 - accuracy: 0.9455 - val_loss: 0.3267 - val_accuracy: 0.8801\n",
            "Epoch 141/200\n",
            "125/125 [==============================] - 1s 4ms/step - loss: 0.1377 - accuracy: 0.9465 - val_loss: 0.3270 - val_accuracy: 0.8796\n",
            "Epoch 142/200\n",
            "125/125 [==============================] - 1s 4ms/step - loss: 0.1401 - accuracy: 0.9443 - val_loss: 0.3240 - val_accuracy: 0.8753\n",
            "Epoch 143/200\n",
            "125/125 [==============================] - 1s 5ms/step - loss: 0.1425 - accuracy: 0.9443 - val_loss: 0.3286 - val_accuracy: 0.8798\n",
            "Epoch 144/200\n",
            "125/125 [==============================] - 1s 4ms/step - loss: 0.1399 - accuracy: 0.9446 - val_loss: 0.3283 - val_accuracy: 0.8748\n",
            "Epoch 145/200\n",
            "125/125 [==============================] - 1s 4ms/step - loss: 0.1377 - accuracy: 0.9469 - val_loss: 0.3266 - val_accuracy: 0.8763\n",
            "Epoch 146/200\n",
            "125/125 [==============================] - 1s 4ms/step - loss: 0.1382 - accuracy: 0.9470 - val_loss: 0.3187 - val_accuracy: 0.8738\n",
            "Epoch 147/200\n",
            "125/125 [==============================] - 1s 5ms/step - loss: 0.1399 - accuracy: 0.9430 - val_loss: 0.3286 - val_accuracy: 0.8746\n",
            "Epoch 148/200\n",
            "125/125 [==============================] - 1s 5ms/step - loss: 0.1351 - accuracy: 0.9453 - val_loss: 0.3289 - val_accuracy: 0.8718\n",
            "Epoch 149/200\n",
            "125/125 [==============================] - 1s 4ms/step - loss: 0.1397 - accuracy: 0.9468 - val_loss: 0.3277 - val_accuracy: 0.8786\n",
            "Epoch 150/200\n",
            "125/125 [==============================] - 1s 4ms/step - loss: 0.1342 - accuracy: 0.9457 - val_loss: 0.3342 - val_accuracy: 0.8781\n",
            "Epoch 151/200\n",
            "125/125 [==============================] - 1s 4ms/step - loss: 0.1360 - accuracy: 0.9473 - val_loss: 0.3211 - val_accuracy: 0.8758\n",
            "Epoch 152/200\n",
            "125/125 [==============================] - 1s 4ms/step - loss: 0.1349 - accuracy: 0.9456 - val_loss: 0.3340 - val_accuracy: 0.8773\n",
            "Epoch 153/200\n",
            "125/125 [==============================] - 1s 4ms/step - loss: 0.1358 - accuracy: 0.9445 - val_loss: 0.3302 - val_accuracy: 0.8833\n",
            "Epoch 154/200\n",
            "125/125 [==============================] - 1s 4ms/step - loss: 0.1361 - accuracy: 0.9448 - val_loss: 0.3242 - val_accuracy: 0.8811\n",
            "Epoch 155/200\n",
            "125/125 [==============================] - 1s 4ms/step - loss: 0.1315 - accuracy: 0.9489 - val_loss: 0.3315 - val_accuracy: 0.8716\n",
            "Epoch 156/200\n",
            "125/125 [==============================] - 1s 5ms/step - loss: 0.1343 - accuracy: 0.9477 - val_loss: 0.3315 - val_accuracy: 0.8778\n",
            "Epoch 157/200\n",
            "125/125 [==============================] - 1s 4ms/step - loss: 0.1337 - accuracy: 0.9464 - val_loss: 0.3287 - val_accuracy: 0.8733\n",
            "Epoch 158/200\n",
            "125/125 [==============================] - 1s 4ms/step - loss: 0.1298 - accuracy: 0.9491 - val_loss: 0.3279 - val_accuracy: 0.8748\n",
            "Epoch 159/200\n",
            "125/125 [==============================] - 1s 5ms/step - loss: 0.1324 - accuracy: 0.9470 - val_loss: 0.3339 - val_accuracy: 0.8736\n",
            "Epoch 160/200\n",
            "125/125 [==============================] - 1s 4ms/step - loss: 0.1372 - accuracy: 0.9435 - val_loss: 0.3334 - val_accuracy: 0.8663\n",
            "Epoch 161/200\n",
            "125/125 [==============================] - 1s 4ms/step - loss: 0.1334 - accuracy: 0.9460 - val_loss: 0.3347 - val_accuracy: 0.8756\n",
            "Epoch 162/200\n",
            "125/125 [==============================] - 1s 4ms/step - loss: 0.1352 - accuracy: 0.9455 - val_loss: 0.3406 - val_accuracy: 0.8756\n",
            "Epoch 163/200\n",
            "125/125 [==============================] - 1s 4ms/step - loss: 0.1338 - accuracy: 0.9460 - val_loss: 0.3327 - val_accuracy: 0.8768\n",
            "Epoch 164/200\n",
            "125/125 [==============================] - 1s 4ms/step - loss: 0.1329 - accuracy: 0.9447 - val_loss: 0.3465 - val_accuracy: 0.8751\n",
            "Epoch 165/200\n",
            "125/125 [==============================] - 1s 4ms/step - loss: 0.1355 - accuracy: 0.9464 - val_loss: 0.3351 - val_accuracy: 0.8726\n",
            "Epoch 166/200\n",
            "125/125 [==============================] - 1s 5ms/step - loss: 0.1319 - accuracy: 0.9467 - val_loss: 0.3348 - val_accuracy: 0.8771\n",
            "Epoch 167/200\n",
            "125/125 [==============================] - 1s 4ms/step - loss: 0.1316 - accuracy: 0.9462 - val_loss: 0.3372 - val_accuracy: 0.8693\n",
            "Epoch 168/200\n",
            "125/125 [==============================] - 1s 4ms/step - loss: 0.1336 - accuracy: 0.9471 - val_loss: 0.3289 - val_accuracy: 0.8768\n",
            "Epoch 169/200\n",
            "125/125 [==============================] - 1s 5ms/step - loss: 0.1335 - accuracy: 0.9469 - val_loss: 0.3391 - val_accuracy: 0.8721\n",
            "Epoch 170/200\n",
            "125/125 [==============================] - 1s 5ms/step - loss: 0.1331 - accuracy: 0.9459 - val_loss: 0.3368 - val_accuracy: 0.8698\n",
            "Epoch 171/200\n",
            "125/125 [==============================] - 1s 4ms/step - loss: 0.1368 - accuracy: 0.9444 - val_loss: 0.3332 - val_accuracy: 0.8796\n",
            "Epoch 172/200\n",
            "125/125 [==============================] - 1s 4ms/step - loss: 0.1272 - accuracy: 0.9502 - val_loss: 0.3323 - val_accuracy: 0.8786\n",
            "Epoch 173/200\n",
            "125/125 [==============================] - 1s 4ms/step - loss: 0.1297 - accuracy: 0.9477 - val_loss: 0.3316 - val_accuracy: 0.8788\n",
            "Epoch 174/200\n",
            "125/125 [==============================] - 1s 4ms/step - loss: 0.1347 - accuracy: 0.9448 - val_loss: 0.3306 - val_accuracy: 0.8721\n",
            "Epoch 175/200\n",
            "125/125 [==============================] - 1s 5ms/step - loss: 0.1301 - accuracy: 0.9477 - val_loss: 0.3307 - val_accuracy: 0.8731\n",
            "Epoch 176/200\n",
            "125/125 [==============================] - 1s 5ms/step - loss: 0.1303 - accuracy: 0.9482 - val_loss: 0.3417 - val_accuracy: 0.8746\n",
            "Epoch 177/200\n",
            "125/125 [==============================] - 1s 4ms/step - loss: 0.1267 - accuracy: 0.9502 - val_loss: 0.3336 - val_accuracy: 0.8723\n",
            "Epoch 178/200\n",
            "125/125 [==============================] - 1s 4ms/step - loss: 0.1300 - accuracy: 0.9479 - val_loss: 0.3386 - val_accuracy: 0.8663\n",
            "Epoch 179/200\n",
            "125/125 [==============================] - 1s 5ms/step - loss: 0.1315 - accuracy: 0.9467 - val_loss: 0.3373 - val_accuracy: 0.8721\n",
            "Epoch 180/200\n",
            "125/125 [==============================] - 1s 4ms/step - loss: 0.1261 - accuracy: 0.9499 - val_loss: 0.3396 - val_accuracy: 0.8741\n",
            "Epoch 181/200\n",
            "125/125 [==============================] - 1s 4ms/step - loss: 0.1273 - accuracy: 0.9492 - val_loss: 0.3389 - val_accuracy: 0.8678\n",
            "Epoch 182/200\n",
            "125/125 [==============================] - 1s 4ms/step - loss: 0.1290 - accuracy: 0.9477 - val_loss: 0.3341 - val_accuracy: 0.8738\n",
            "Epoch 183/200\n",
            "125/125 [==============================] - 1s 4ms/step - loss: 0.1261 - accuracy: 0.9520 - val_loss: 0.3323 - val_accuracy: 0.8743\n",
            "Epoch 184/200\n",
            "125/125 [==============================] - 1s 4ms/step - loss: 0.1226 - accuracy: 0.9516 - val_loss: 0.3451 - val_accuracy: 0.8741\n",
            "Epoch 185/200\n",
            "125/125 [==============================] - 1s 4ms/step - loss: 0.1266 - accuracy: 0.9486 - val_loss: 0.3422 - val_accuracy: 0.8781\n",
            "Epoch 186/200\n",
            "125/125 [==============================] - 1s 4ms/step - loss: 0.1242 - accuracy: 0.9515 - val_loss: 0.3448 - val_accuracy: 0.8693\n",
            "Epoch 187/200\n",
            "125/125 [==============================] - 1s 4ms/step - loss: 0.1290 - accuracy: 0.9498 - val_loss: 0.3441 - val_accuracy: 0.8706\n",
            "Epoch 188/200\n",
            "125/125 [==============================] - 1s 4ms/step - loss: 0.1270 - accuracy: 0.9485 - val_loss: 0.3415 - val_accuracy: 0.8696\n",
            "Epoch 189/200\n",
            "125/125 [==============================] - 1s 4ms/step - loss: 0.1250 - accuracy: 0.9495 - val_loss: 0.3445 - val_accuracy: 0.8650\n",
            "Epoch 190/200\n",
            "125/125 [==============================] - 1s 5ms/step - loss: 0.1229 - accuracy: 0.9495 - val_loss: 0.3477 - val_accuracy: 0.8723\n",
            "Epoch 191/200\n",
            "125/125 [==============================] - 1s 4ms/step - loss: 0.1243 - accuracy: 0.9505 - val_loss: 0.3390 - val_accuracy: 0.8718\n",
            "Epoch 192/200\n",
            "125/125 [==============================] - 1s 4ms/step - loss: 0.1243 - accuracy: 0.9503 - val_loss: 0.3396 - val_accuracy: 0.8746\n",
            "Epoch 193/200\n",
            "125/125 [==============================] - 1s 5ms/step - loss: 0.1286 - accuracy: 0.9498 - val_loss: 0.3472 - val_accuracy: 0.8738\n",
            "Epoch 194/200\n",
            "125/125 [==============================] - 1s 5ms/step - loss: 0.1229 - accuracy: 0.9499 - val_loss: 0.3484 - val_accuracy: 0.8726\n",
            "Epoch 195/200\n",
            "125/125 [==============================] - 1s 4ms/step - loss: 0.1248 - accuracy: 0.9493 - val_loss: 0.3398 - val_accuracy: 0.8718\n",
            "Epoch 196/200\n",
            "125/125 [==============================] - 1s 4ms/step - loss: 0.1217 - accuracy: 0.9517 - val_loss: 0.3505 - val_accuracy: 0.8683\n",
            "Epoch 197/200\n",
            "125/125 [==============================] - 1s 5ms/step - loss: 0.1257 - accuracy: 0.9498 - val_loss: 0.3489 - val_accuracy: 0.8743\n",
            "Epoch 198/200\n",
            "125/125 [==============================] - 1s 4ms/step - loss: 0.1250 - accuracy: 0.9502 - val_loss: 0.3467 - val_accuracy: 0.8625\n",
            "Epoch 199/200\n",
            "125/125 [==============================] - 1s 4ms/step - loss: 0.1252 - accuracy: 0.9510 - val_loss: 0.3523 - val_accuracy: 0.8721\n",
            "Epoch 200/200\n",
            "125/125 [==============================] - 1s 4ms/step - loss: 0.1168 - accuracy: 0.9555 - val_loss: 0.3480 - val_accuracy: 0.8748\n",
            "125/125 [==============================] - 0s 1ms/step\n"
          ]
        },
        {
          "output_type": "display_data",
          "data": {
            "text/plain": [
              "<IPython.core.display.HTML object>"
            ],
            "text/html": [
              "Waiting for W&B process to finish... <strong style=\"color:green\">(success).</strong>"
            ]
          },
          "metadata": {}
        },
        {
          "output_type": "display_data",
          "data": {
            "text/plain": [
              "VBox(children=(Label(value='18.797 MB of 18.797 MB uploaded (0.007 MB deduped)\\r'), FloatProgress(value=0.9999…"
            ],
            "application/vnd.jupyter.widget-view+json": {
              "version_major": 2,
              "version_minor": 0,
              "model_id": "075b9838ae3d4d7d8c1b11cba9a7bc28"
            }
          },
          "metadata": {}
        },
        {
          "output_type": "display_data",
          "data": {
            "text/plain": [
              "<IPython.core.display.HTML object>"
            ],
            "text/html": [
              "<style>\n",
              "    table.wandb td:nth-child(1) { padding: 0 10px; text-align: left ; width: auto;} td:nth-child(2) {text-align: left ; width: 100%}\n",
              "    .wandb-row { display: flex; flex-direction: row; flex-wrap: wrap; justify-content: flex-start; width: 100% }\n",
              "    .wandb-col { display: flex; flex-direction: column; flex-basis: 100%; flex: 1; padding: 10px; }\n",
              "    </style>\n",
              "<div class=\"wandb-row\"><div class=\"wandb-col\"><h3>Run history:</h3><br/><table class=\"wandb\"><tr><td>accuracy</td><td>▁▂▃▄▄▅▅▅▅▅▆▆▆▆▆▆▆▇▇▇▇▇▇▇▇▇▇▇▇▇▇█▇█▇█████</td></tr><tr><td>epoch</td><td>▁▁▁▁▂▂▂▂▂▃▃▃▃▃▃▄▄▄▄▄▅▅▅▅▅▅▆▆▆▆▆▇▇▇▇▇▇███</td></tr><tr><td>eval/accuracy</td><td>▁</td></tr><tr><td>eval/f1</td><td>▁</td></tr><tr><td>eval/precision</td><td>▁</td></tr><tr><td>eval/recall</td><td>▁</td></tr><tr><td>loss</td><td>█▇▆▅▅▅▄▄▄▄▃▃▃▃▃▃▃▂▂▂▂▂▂▂▂▂▂▂▂▁▂▁▁▁▁▁▁▁▁▁</td></tr><tr><td>val_accuracy</td><td>▁▄▅▆▇▇▇█▇█▆▇▇█▇█▆▇▇▇▆▇▇▇▇▇▆▆▇▇█▇▇▇▇▆▇▆▇▇</td></tr><tr><td>val_loss</td><td>█▅▃▃▂▂▁▁▁▁▁▁▁▂▂▂▂▂▂▃▃▃▃▄▃▃▃▃▄▄▄▄▅▄▄▅▅▅▅▅</td></tr></table><br/></div><div class=\"wandb-col\"><h3>Run summary:</h3><br/><table class=\"wandb\"><tr><td>accuracy</td><td>0.95549</td></tr><tr><td>best_epoch</td><td>42</td></tr><tr><td>best_val_loss</td><td>0.28714</td></tr><tr><td>epoch</td><td>199</td></tr><tr><td>eval/accuracy</td><td>0.88433</td></tr><tr><td>eval/f1</td><td>0.92754</td></tr><tr><td>eval/precision</td><td>0.89878</td></tr><tr><td>eval/recall</td><td>0.9582</td></tr><tr><td>loss</td><td>0.11681</td></tr><tr><td>val_accuracy</td><td>0.87481</td></tr><tr><td>val_loss</td><td>0.34801</td></tr></table><br/></div></div>"
            ]
          },
          "metadata": {}
        },
        {
          "output_type": "display_data",
          "data": {
            "text/plain": [
              "<IPython.core.display.HTML object>"
            ],
            "text/html": [
              "Synced <strong style=\"color:#cdcd00\">gossipcop-fulltext-sbert+tw+ptbg128-mlp-0</strong>: <a href=\"https://wandb.ai/saloniteam/saloniteam/runs/3t1wmuk7\" target=\"_blank\">https://wandb.ai/saloniteam/saloniteam/runs/3t1wmuk7</a><br/>Synced 5 W&B file(s), 2 media file(s), 74 artifact file(s) and 1 other file(s)"
            ]
          },
          "metadata": {}
        },
        {
          "output_type": "display_data",
          "data": {
            "text/plain": [
              "<IPython.core.display.HTML object>"
            ],
            "text/html": [
              "Find logs at: <code>./wandb/run-20221019_105142-3t1wmuk7/logs</code>"
            ]
          },
          "metadata": {}
        }
      ]
    },
    {
      "cell_type": "code",
      "source": [],
      "metadata": {
        "id": "T22dH9GrNv2t"
      },
      "execution_count": 17,
      "outputs": []
    }
  ]
}