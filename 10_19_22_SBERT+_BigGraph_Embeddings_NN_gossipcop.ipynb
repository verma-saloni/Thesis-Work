{
  "nbformat": 4,
  "nbformat_minor": 0,
  "metadata": {
    "colab": {
      "provenance": [],
      "collapsed_sections": [],
      "include_colab_link": true
    },
    "kernelspec": {
      "name": "python3",
      "display_name": "Python 3"
    },
    "language_info": {
      "name": "python"
    },
    "widgets": {
      "application/vnd.jupyter.widget-state+json": {
        "a4cdc017e8a84dbca0ba81f94310571d": {
          "model_module": "@jupyter-widgets/controls",
          "model_name": "VBoxModel",
          "model_module_version": "1.5.0",
          "state": {
            "_dom_classes": [],
            "_model_module": "@jupyter-widgets/controls",
            "_model_module_version": "1.5.0",
            "_model_name": "VBoxModel",
            "_view_count": null,
            "_view_module": "@jupyter-widgets/controls",
            "_view_module_version": "1.5.0",
            "_view_name": "VBoxView",
            "box_style": "",
            "children": [
              "IPY_MODEL_0707c870f39b4e0bb74cf2e6c053a131",
              "IPY_MODEL_944da99f951d433a87e4b6430c37f066"
            ],
            "layout": "IPY_MODEL_bbd478edb9234530a2ed3c2054adc619"
          }
        },
        "0707c870f39b4e0bb74cf2e6c053a131": {
          "model_module": "@jupyter-widgets/controls",
          "model_name": "LabelModel",
          "model_module_version": "1.5.0",
          "state": {
            "_dom_classes": [],
            "_model_module": "@jupyter-widgets/controls",
            "_model_module_version": "1.5.0",
            "_model_name": "LabelModel",
            "_view_count": null,
            "_view_module": "@jupyter-widgets/controls",
            "_view_module_version": "1.5.0",
            "_view_name": "LabelView",
            "description": "",
            "description_tooltip": null,
            "layout": "IPY_MODEL_92e99b4cb17a402ba56bc6de0e46e885",
            "placeholder": "​",
            "style": "IPY_MODEL_faa8ba75be0a465997bdbb27344cddd1",
            "value": "19.574 MB of 19.575 MB uploaded (0.007 MB deduped)\r"
          }
        },
        "944da99f951d433a87e4b6430c37f066": {
          "model_module": "@jupyter-widgets/controls",
          "model_name": "FloatProgressModel",
          "model_module_version": "1.5.0",
          "state": {
            "_dom_classes": [],
            "_model_module": "@jupyter-widgets/controls",
            "_model_module_version": "1.5.0",
            "_model_name": "FloatProgressModel",
            "_view_count": null,
            "_view_module": "@jupyter-widgets/controls",
            "_view_module_version": "1.5.0",
            "_view_name": "ProgressView",
            "bar_style": "",
            "description": "",
            "description_tooltip": null,
            "layout": "IPY_MODEL_aad0864c72714e9fa8fdcfc61282d57c",
            "max": 1,
            "min": 0,
            "orientation": "horizontal",
            "style": "IPY_MODEL_b62472d2aed64b8abb2f173f3dcab640",
            "value": 0.9999920586022536
          }
        },
        "bbd478edb9234530a2ed3c2054adc619": {
          "model_module": "@jupyter-widgets/base",
          "model_name": "LayoutModel",
          "model_module_version": "1.2.0",
          "state": {
            "_model_module": "@jupyter-widgets/base",
            "_model_module_version": "1.2.0",
            "_model_name": "LayoutModel",
            "_view_count": null,
            "_view_module": "@jupyter-widgets/base",
            "_view_module_version": "1.2.0",
            "_view_name": "LayoutView",
            "align_content": null,
            "align_items": null,
            "align_self": null,
            "border": null,
            "bottom": null,
            "display": null,
            "flex": null,
            "flex_flow": null,
            "grid_area": null,
            "grid_auto_columns": null,
            "grid_auto_flow": null,
            "grid_auto_rows": null,
            "grid_column": null,
            "grid_gap": null,
            "grid_row": null,
            "grid_template_areas": null,
            "grid_template_columns": null,
            "grid_template_rows": null,
            "height": null,
            "justify_content": null,
            "justify_items": null,
            "left": null,
            "margin": null,
            "max_height": null,
            "max_width": null,
            "min_height": null,
            "min_width": null,
            "object_fit": null,
            "object_position": null,
            "order": null,
            "overflow": null,
            "overflow_x": null,
            "overflow_y": null,
            "padding": null,
            "right": null,
            "top": null,
            "visibility": null,
            "width": null
          }
        },
        "92e99b4cb17a402ba56bc6de0e46e885": {
          "model_module": "@jupyter-widgets/base",
          "model_name": "LayoutModel",
          "model_module_version": "1.2.0",
          "state": {
            "_model_module": "@jupyter-widgets/base",
            "_model_module_version": "1.2.0",
            "_model_name": "LayoutModel",
            "_view_count": null,
            "_view_module": "@jupyter-widgets/base",
            "_view_module_version": "1.2.0",
            "_view_name": "LayoutView",
            "align_content": null,
            "align_items": null,
            "align_self": null,
            "border": null,
            "bottom": null,
            "display": null,
            "flex": null,
            "flex_flow": null,
            "grid_area": null,
            "grid_auto_columns": null,
            "grid_auto_flow": null,
            "grid_auto_rows": null,
            "grid_column": null,
            "grid_gap": null,
            "grid_row": null,
            "grid_template_areas": null,
            "grid_template_columns": null,
            "grid_template_rows": null,
            "height": null,
            "justify_content": null,
            "justify_items": null,
            "left": null,
            "margin": null,
            "max_height": null,
            "max_width": null,
            "min_height": null,
            "min_width": null,
            "object_fit": null,
            "object_position": null,
            "order": null,
            "overflow": null,
            "overflow_x": null,
            "overflow_y": null,
            "padding": null,
            "right": null,
            "top": null,
            "visibility": null,
            "width": null
          }
        },
        "faa8ba75be0a465997bdbb27344cddd1": {
          "model_module": "@jupyter-widgets/controls",
          "model_name": "DescriptionStyleModel",
          "model_module_version": "1.5.0",
          "state": {
            "_model_module": "@jupyter-widgets/controls",
            "_model_module_version": "1.5.0",
            "_model_name": "DescriptionStyleModel",
            "_view_count": null,
            "_view_module": "@jupyter-widgets/base",
            "_view_module_version": "1.2.0",
            "_view_name": "StyleView",
            "description_width": ""
          }
        },
        "aad0864c72714e9fa8fdcfc61282d57c": {
          "model_module": "@jupyter-widgets/base",
          "model_name": "LayoutModel",
          "model_module_version": "1.2.0",
          "state": {
            "_model_module": "@jupyter-widgets/base",
            "_model_module_version": "1.2.0",
            "_model_name": "LayoutModel",
            "_view_count": null,
            "_view_module": "@jupyter-widgets/base",
            "_view_module_version": "1.2.0",
            "_view_name": "LayoutView",
            "align_content": null,
            "align_items": null,
            "align_self": null,
            "border": null,
            "bottom": null,
            "display": null,
            "flex": null,
            "flex_flow": null,
            "grid_area": null,
            "grid_auto_columns": null,
            "grid_auto_flow": null,
            "grid_auto_rows": null,
            "grid_column": null,
            "grid_gap": null,
            "grid_row": null,
            "grid_template_areas": null,
            "grid_template_columns": null,
            "grid_template_rows": null,
            "height": null,
            "justify_content": null,
            "justify_items": null,
            "left": null,
            "margin": null,
            "max_height": null,
            "max_width": null,
            "min_height": null,
            "min_width": null,
            "object_fit": null,
            "object_position": null,
            "order": null,
            "overflow": null,
            "overflow_x": null,
            "overflow_y": null,
            "padding": null,
            "right": null,
            "top": null,
            "visibility": null,
            "width": null
          }
        },
        "b62472d2aed64b8abb2f173f3dcab640": {
          "model_module": "@jupyter-widgets/controls",
          "model_name": "ProgressStyleModel",
          "model_module_version": "1.5.0",
          "state": {
            "_model_module": "@jupyter-widgets/controls",
            "_model_module_version": "1.5.0",
            "_model_name": "ProgressStyleModel",
            "_view_count": null,
            "_view_module": "@jupyter-widgets/base",
            "_view_module_version": "1.2.0",
            "_view_name": "StyleView",
            "bar_color": null,
            "description_width": ""
          }
        }
      }
    },
    "accelerator": "GPU"
  },
  "cells": [
    {
      "cell_type": "markdown",
      "metadata": {
        "id": "view-in-github",
        "colab_type": "text"
      },
      "source": [
        "<a href=\"https://colab.research.google.com/github/verma-saloni/Thesis-Work/blob/main/10_19_22_SBERT%2B_BigGraph_Embeddings_NN_gossipcop.ipynb\" target=\"_parent\"><img src=\"https://colab.research.google.com/assets/colab-badge.svg\" alt=\"Open In Colab\"/></a>"
      ]
    },
    {
      "cell_type": "code",
      "source": [
        "#%%capture\n",
        "!pip install -U sentence-transformers wandb"
      ],
      "metadata": {
        "id": "aByzVMdkzqAJ",
        "colab": {
          "base_uri": "https://localhost:8080/"
        },
        "outputId": "4e2398d3-7196-4a0d-e208-eb52391b7e16"
      },
      "execution_count": 24,
      "outputs": [
        {
          "output_type": "stream",
          "name": "stdout",
          "text": [
            "Looking in indexes: https://pypi.org/simple, https://us-python.pkg.dev/colab-wheels/public/simple/\n",
            "Requirement already satisfied: sentence-transformers in /usr/local/lib/python3.7/dist-packages (2.2.2)\n",
            "Requirement already satisfied: wandb in /usr/local/lib/python3.7/dist-packages (0.13.4)\n",
            "Requirement already satisfied: tqdm in /usr/local/lib/python3.7/dist-packages (from sentence-transformers) (4.64.1)\n",
            "Requirement already satisfied: sentencepiece in /usr/local/lib/python3.7/dist-packages (from sentence-transformers) (0.1.97)\n",
            "Requirement already satisfied: scipy in /usr/local/lib/python3.7/dist-packages (from sentence-transformers) (1.7.3)\n",
            "Requirement already satisfied: huggingface-hub>=0.4.0 in /usr/local/lib/python3.7/dist-packages (from sentence-transformers) (0.10.1)\n",
            "Requirement already satisfied: torchvision in /usr/local/lib/python3.7/dist-packages (from sentence-transformers) (0.13.1+cu113)\n",
            "Requirement already satisfied: transformers<5.0.0,>=4.6.0 in /usr/local/lib/python3.7/dist-packages (from sentence-transformers) (4.23.1)\n",
            "Requirement already satisfied: scikit-learn in /usr/local/lib/python3.7/dist-packages (from sentence-transformers) (1.0.2)\n",
            "Requirement already satisfied: nltk in /usr/local/lib/python3.7/dist-packages (from sentence-transformers) (3.7)\n",
            "Requirement already satisfied: numpy in /usr/local/lib/python3.7/dist-packages (from sentence-transformers) (1.21.6)\n",
            "Requirement already satisfied: torch>=1.6.0 in /usr/local/lib/python3.7/dist-packages (from sentence-transformers) (1.12.1+cu113)\n",
            "Requirement already satisfied: pyyaml>=5.1 in /usr/local/lib/python3.7/dist-packages (from huggingface-hub>=0.4.0->sentence-transformers) (6.0)\n",
            "Requirement already satisfied: filelock in /usr/local/lib/python3.7/dist-packages (from huggingface-hub>=0.4.0->sentence-transformers) (3.8.0)\n",
            "Requirement already satisfied: importlib-metadata in /usr/local/lib/python3.7/dist-packages (from huggingface-hub>=0.4.0->sentence-transformers) (4.13.0)\n",
            "Requirement already satisfied: typing-extensions>=3.7.4.3 in /usr/local/lib/python3.7/dist-packages (from huggingface-hub>=0.4.0->sentence-transformers) (4.1.1)\n",
            "Requirement already satisfied: requests in /usr/local/lib/python3.7/dist-packages (from huggingface-hub>=0.4.0->sentence-transformers) (2.23.0)\n",
            "Requirement already satisfied: packaging>=20.9 in /usr/local/lib/python3.7/dist-packages (from huggingface-hub>=0.4.0->sentence-transformers) (21.3)\n",
            "Requirement already satisfied: pyparsing!=3.0.5,>=2.0.2 in /usr/local/lib/python3.7/dist-packages (from packaging>=20.9->huggingface-hub>=0.4.0->sentence-transformers) (3.0.9)\n",
            "Requirement already satisfied: tokenizers!=0.11.3,<0.14,>=0.11.1 in /usr/local/lib/python3.7/dist-packages (from transformers<5.0.0,>=4.6.0->sentence-transformers) (0.13.1)\n",
            "Requirement already satisfied: regex!=2019.12.17 in /usr/local/lib/python3.7/dist-packages (from transformers<5.0.0,>=4.6.0->sentence-transformers) (2022.6.2)\n",
            "Requirement already satisfied: psutil>=5.0.0 in /usr/local/lib/python3.7/dist-packages (from wandb) (5.4.8)\n",
            "Requirement already satisfied: Click!=8.0.0,>=7.0 in /usr/local/lib/python3.7/dist-packages (from wandb) (7.1.2)\n",
            "Requirement already satisfied: setproctitle in /usr/local/lib/python3.7/dist-packages (from wandb) (1.3.2)\n",
            "Requirement already satisfied: setuptools in /usr/local/lib/python3.7/dist-packages (from wandb) (57.4.0)\n",
            "Requirement already satisfied: GitPython>=1.0.0 in /usr/local/lib/python3.7/dist-packages (from wandb) (3.1.29)\n",
            "Requirement already satisfied: docker-pycreds>=0.4.0 in /usr/local/lib/python3.7/dist-packages (from wandb) (0.4.0)\n",
            "Requirement already satisfied: protobuf!=4.0.*,!=4.21.0,<5,>=3.12.0 in /usr/local/lib/python3.7/dist-packages (from wandb) (3.17.3)\n",
            "Requirement already satisfied: pathtools in /usr/local/lib/python3.7/dist-packages (from wandb) (0.1.2)\n",
            "Requirement already satisfied: six>=1.13.0 in /usr/local/lib/python3.7/dist-packages (from wandb) (1.15.0)\n",
            "Requirement already satisfied: promise<3,>=2.0 in /usr/local/lib/python3.7/dist-packages (from wandb) (2.3)\n",
            "Requirement already satisfied: shortuuid>=0.5.0 in /usr/local/lib/python3.7/dist-packages (from wandb) (1.0.9)\n",
            "Requirement already satisfied: sentry-sdk>=1.0.0 in /usr/local/lib/python3.7/dist-packages (from wandb) (1.9.0)\n",
            "Requirement already satisfied: gitdb<5,>=4.0.1 in /usr/local/lib/python3.7/dist-packages (from GitPython>=1.0.0->wandb) (4.0.9)\n",
            "Requirement already satisfied: smmap<6,>=3.0.1 in /usr/local/lib/python3.7/dist-packages (from gitdb<5,>=4.0.1->GitPython>=1.0.0->wandb) (5.0.0)\n",
            "Requirement already satisfied: certifi>=2017.4.17 in /usr/local/lib/python3.7/dist-packages (from requests->huggingface-hub>=0.4.0->sentence-transformers) (2022.9.24)\n",
            "Requirement already satisfied: chardet<4,>=3.0.2 in /usr/local/lib/python3.7/dist-packages (from requests->huggingface-hub>=0.4.0->sentence-transformers) (3.0.4)\n",
            "Requirement already satisfied: idna<3,>=2.5 in /usr/local/lib/python3.7/dist-packages (from requests->huggingface-hub>=0.4.0->sentence-transformers) (2.10)\n",
            "Requirement already satisfied: urllib3!=1.25.0,!=1.25.1,<1.26,>=1.21.1 in /usr/local/lib/python3.7/dist-packages (from requests->huggingface-hub>=0.4.0->sentence-transformers) (1.24.3)\n",
            "Requirement already satisfied: zipp>=0.5 in /usr/local/lib/python3.7/dist-packages (from importlib-metadata->huggingface-hub>=0.4.0->sentence-transformers) (3.9.0)\n",
            "Requirement already satisfied: joblib in /usr/local/lib/python3.7/dist-packages (from nltk->sentence-transformers) (1.2.0)\n",
            "Requirement already satisfied: threadpoolctl>=2.0.0 in /usr/local/lib/python3.7/dist-packages (from scikit-learn->sentence-transformers) (3.1.0)\n",
            "Requirement already satisfied: pillow!=8.3.*,>=5.3.0 in /usr/local/lib/python3.7/dist-packages (from torchvision->sentence-transformers) (7.1.2)\n"
          ]
        }
      ]
    },
    {
      "cell_type": "markdown",
      "source": [
        "The notebook for Gossipcop. (Similar one present for Politifact is already saved in the Drive and on Github) "
      ],
      "metadata": {
        "id": "sEes5Jav2t9e"
      }
    },
    {
      "cell_type": "code",
      "execution_count": 25,
      "metadata": {
        "id": "8wffusyCytsx"
      },
      "outputs": [],
      "source": [
        "from pathlib import Path\n",
        "import numpy as np\n",
        "import pandas as pd\n",
        "import re\n",
        "import json\n",
        "\n",
        "from sentence_transformers import SentenceTransformer \n",
        "\n",
        "from sklearn.model_selection import StratifiedKFold\n",
        "from sklearn.metrics import accuracy_score, f1_score, precision_score, recall_score\n",
        "\n",
        "import wandb\n",
        "from wandb.keras import WandbCallback\n",
        "from IPython.display import clear_output"
      ]
    },
    {
      "cell_type": "code",
      "source": [
        "metrics = [accuracy_score, f1_score, precision_score, recall_score]\n",
        "\n",
        "def get_name(score_func):\n",
        "    return 'eval/' + score_func.__name__.split(\"_\")[0]"
      ],
      "metadata": {
        "id": "oUUMZeWMuZXE"
      },
      "execution_count": 26,
      "outputs": []
    },
    {
      "cell_type": "markdown",
      "source": [
        "# Load data"
      ],
      "metadata": {
        "id": "R_4mZElNIVb5"
      }
    },
    {
      "cell_type": "code",
      "source": [
        "from google.colab import drive\n",
        "drive.mount('/content/drive')\n",
        "\n",
        "base_dir = Path(\"/content/drive/MyDrive/ResearchFND\")\n",
        "assert base_dir.exists()"
      ],
      "metadata": {
        "id": "UxNEaltli8H_",
        "colab": {
          "base_uri": "https://localhost:8080/"
        },
        "outputId": "366db384-2813-445f-db3b-5ce37e2a245d"
      },
      "execution_count": 27,
      "outputs": [
        {
          "output_type": "stream",
          "name": "stdout",
          "text": [
            "Drive already mounted at /content/drive; to attempt to forcibly remount, call drive.mount(\"/content/drive\", force_remount=True).\n"
          ]
        }
      ]
    },
    {
      "cell_type": "code",
      "source": [
        "dataset_id = 'gossipcop'"
      ],
      "metadata": {
        "id": "GdnjXaSwE46w"
      },
      "execution_count": 28,
      "outputs": []
    },
    {
      "cell_type": "code",
      "source": [
        "import ast\n",
        "\n",
        "converters = {\"retweets\":ast.literal_eval, \"tweets\":ast.literal_eval}\n",
        "df = pd.read_csv(base_dir/f\"{dataset_id}_agg.csv\", converters=converters)\n",
        "df.head()"
      ],
      "metadata": {
        "id": "2YYgYvwB7nkO",
        "colab": {
          "base_uri": "https://localhost:8080/",
          "height": 337
        },
        "outputId": "6f4fd52f-4322-4e8e-9dbc-429ffb5e2e14"
      },
      "execution_count": 29,
      "outputs": [
        {
          "output_type": "execute_result",
          "data": {
            "text/plain": [
              "                                               title text  \\\n",
              "0      Kendall   Kylie Jenner Jenner NOT Upset Up...  NaN   \n",
              "1      Kim Kardashian Dethroned Dethroned By Khlo...  NaN   \n",
              "2      Kim Kardashian Did NOT Hot Staffer Hot Sta...  NaN   \n",
              "3      The Voice The Voice Team NOT Surprised Sur...  NaN   \n",
              "4     Drake NOT Angelina Jolie s Toy Boy Toy Boy ...  NaN   \n",
              "\n",
              "                                              tweets  \\\n",
              "0                                                 []   \n",
              "1                                                 []   \n",
              "2                                                 []   \n",
              "3                                                 []   \n",
              "4  [{'id': 948630026496323585, 'text': 'Drake NOT...   \n",
              "\n",
              "                                            retweets label  url  num_retweets  \\\n",
              "0  [995423424741888001, 995461685166202880, 99987...  fake  NaN             3   \n",
              "1  [848843565027516416, 849030801970868224, 84884...  fake  NaN             3   \n",
              "2  [940685393112064001, 977921622672920576, 94031...  fake  NaN             8   \n",
              "3                                                 []  fake  NaN             0   \n",
              "4  [948022124626808832, 948630026496323585, 94801...  fake  NaN            18   \n",
              "\n",
              "   log_num_retweets  num_tweets  log_num_tweets  \n",
              "0          1.386294           0        0.000000  \n",
              "1          1.386294           0        0.000000  \n",
              "2          2.197225           0        0.000000  \n",
              "3          0.000000           0        0.000000  \n",
              "4          2.944439           7        2.079442  "
            ],
            "text/html": [
              "\n",
              "  <div id=\"df-d1817a58-65a3-4b8c-8e4e-3ab7f826df9c\">\n",
              "    <div class=\"colab-df-container\">\n",
              "      <div>\n",
              "<style scoped>\n",
              "    .dataframe tbody tr th:only-of-type {\n",
              "        vertical-align: middle;\n",
              "    }\n",
              "\n",
              "    .dataframe tbody tr th {\n",
              "        vertical-align: top;\n",
              "    }\n",
              "\n",
              "    .dataframe thead th {\n",
              "        text-align: right;\n",
              "    }\n",
              "</style>\n",
              "<table border=\"1\" class=\"dataframe\">\n",
              "  <thead>\n",
              "    <tr style=\"text-align: right;\">\n",
              "      <th></th>\n",
              "      <th>title</th>\n",
              "      <th>text</th>\n",
              "      <th>tweets</th>\n",
              "      <th>retweets</th>\n",
              "      <th>label</th>\n",
              "      <th>url</th>\n",
              "      <th>num_retweets</th>\n",
              "      <th>log_num_retweets</th>\n",
              "      <th>num_tweets</th>\n",
              "      <th>log_num_tweets</th>\n",
              "    </tr>\n",
              "  </thead>\n",
              "  <tbody>\n",
              "    <tr>\n",
              "      <th>0</th>\n",
              "      <td>Kendall   Kylie Jenner Jenner NOT Upset Up...</td>\n",
              "      <td>NaN</td>\n",
              "      <td>[]</td>\n",
              "      <td>[995423424741888001, 995461685166202880, 99987...</td>\n",
              "      <td>fake</td>\n",
              "      <td>NaN</td>\n",
              "      <td>3</td>\n",
              "      <td>1.386294</td>\n",
              "      <td>0</td>\n",
              "      <td>0.000000</td>\n",
              "    </tr>\n",
              "    <tr>\n",
              "      <th>1</th>\n",
              "      <td>Kim Kardashian Dethroned Dethroned By Khlo...</td>\n",
              "      <td>NaN</td>\n",
              "      <td>[]</td>\n",
              "      <td>[848843565027516416, 849030801970868224, 84884...</td>\n",
              "      <td>fake</td>\n",
              "      <td>NaN</td>\n",
              "      <td>3</td>\n",
              "      <td>1.386294</td>\n",
              "      <td>0</td>\n",
              "      <td>0.000000</td>\n",
              "    </tr>\n",
              "    <tr>\n",
              "      <th>2</th>\n",
              "      <td>Kim Kardashian Did NOT Hot Staffer Hot Sta...</td>\n",
              "      <td>NaN</td>\n",
              "      <td>[]</td>\n",
              "      <td>[940685393112064001, 977921622672920576, 94031...</td>\n",
              "      <td>fake</td>\n",
              "      <td>NaN</td>\n",
              "      <td>8</td>\n",
              "      <td>2.197225</td>\n",
              "      <td>0</td>\n",
              "      <td>0.000000</td>\n",
              "    </tr>\n",
              "    <tr>\n",
              "      <th>3</th>\n",
              "      <td>The Voice The Voice Team NOT Surprised Sur...</td>\n",
              "      <td>NaN</td>\n",
              "      <td>[]</td>\n",
              "      <td>[]</td>\n",
              "      <td>fake</td>\n",
              "      <td>NaN</td>\n",
              "      <td>0</td>\n",
              "      <td>0.000000</td>\n",
              "      <td>0</td>\n",
              "      <td>0.000000</td>\n",
              "    </tr>\n",
              "    <tr>\n",
              "      <th>4</th>\n",
              "      <td>Drake NOT Angelina Jolie s Toy Boy Toy Boy ...</td>\n",
              "      <td>NaN</td>\n",
              "      <td>[{'id': 948630026496323585, 'text': 'Drake NOT...</td>\n",
              "      <td>[948022124626808832, 948630026496323585, 94801...</td>\n",
              "      <td>fake</td>\n",
              "      <td>NaN</td>\n",
              "      <td>18</td>\n",
              "      <td>2.944439</td>\n",
              "      <td>7</td>\n",
              "      <td>2.079442</td>\n",
              "    </tr>\n",
              "  </tbody>\n",
              "</table>\n",
              "</div>\n",
              "      <button class=\"colab-df-convert\" onclick=\"convertToInteractive('df-d1817a58-65a3-4b8c-8e4e-3ab7f826df9c')\"\n",
              "              title=\"Convert this dataframe to an interactive table.\"\n",
              "              style=\"display:none;\">\n",
              "        \n",
              "  <svg xmlns=\"http://www.w3.org/2000/svg\" height=\"24px\"viewBox=\"0 0 24 24\"\n",
              "       width=\"24px\">\n",
              "    <path d=\"M0 0h24v24H0V0z\" fill=\"none\"/>\n",
              "    <path d=\"M18.56 5.44l.94 2.06.94-2.06 2.06-.94-2.06-.94-.94-2.06-.94 2.06-2.06.94zm-11 1L8.5 8.5l.94-2.06 2.06-.94-2.06-.94L8.5 2.5l-.94 2.06-2.06.94zm10 10l.94 2.06.94-2.06 2.06-.94-2.06-.94-.94-2.06-.94 2.06-2.06.94z\"/><path d=\"M17.41 7.96l-1.37-1.37c-.4-.4-.92-.59-1.43-.59-.52 0-1.04.2-1.43.59L10.3 9.45l-7.72 7.72c-.78.78-.78 2.05 0 2.83L4 21.41c.39.39.9.59 1.41.59.51 0 1.02-.2 1.41-.59l7.78-7.78 2.81-2.81c.8-.78.8-2.07 0-2.86zM5.41 20L4 18.59l7.72-7.72 1.47 1.35L5.41 20z\"/>\n",
              "  </svg>\n",
              "      </button>\n",
              "      \n",
              "  <style>\n",
              "    .colab-df-container {\n",
              "      display:flex;\n",
              "      flex-wrap:wrap;\n",
              "      gap: 12px;\n",
              "    }\n",
              "\n",
              "    .colab-df-convert {\n",
              "      background-color: #E8F0FE;\n",
              "      border: none;\n",
              "      border-radius: 50%;\n",
              "      cursor: pointer;\n",
              "      display: none;\n",
              "      fill: #1967D2;\n",
              "      height: 32px;\n",
              "      padding: 0 0 0 0;\n",
              "      width: 32px;\n",
              "    }\n",
              "\n",
              "    .colab-df-convert:hover {\n",
              "      background-color: #E2EBFA;\n",
              "      box-shadow: 0px 1px 2px rgba(60, 64, 67, 0.3), 0px 1px 3px 1px rgba(60, 64, 67, 0.15);\n",
              "      fill: #174EA6;\n",
              "    }\n",
              "\n",
              "    [theme=dark] .colab-df-convert {\n",
              "      background-color: #3B4455;\n",
              "      fill: #D2E3FC;\n",
              "    }\n",
              "\n",
              "    [theme=dark] .colab-df-convert:hover {\n",
              "      background-color: #434B5C;\n",
              "      box-shadow: 0px 1px 3px 1px rgba(0, 0, 0, 0.15);\n",
              "      filter: drop-shadow(0px 1px 2px rgba(0, 0, 0, 0.3));\n",
              "      fill: #FFFFFF;\n",
              "    }\n",
              "  </style>\n",
              "\n",
              "      <script>\n",
              "        const buttonEl =\n",
              "          document.querySelector('#df-d1817a58-65a3-4b8c-8e4e-3ab7f826df9c button.colab-df-convert');\n",
              "        buttonEl.style.display =\n",
              "          google.colab.kernel.accessAllowed ? 'block' : 'none';\n",
              "\n",
              "        async function convertToInteractive(key) {\n",
              "          const element = document.querySelector('#df-d1817a58-65a3-4b8c-8e4e-3ab7f826df9c');\n",
              "          const dataTable =\n",
              "            await google.colab.kernel.invokeFunction('convertToInteractive',\n",
              "                                                     [key], {});\n",
              "          if (!dataTable) return;\n",
              "\n",
              "          const docLinkHtml = 'Like what you see? Visit the ' +\n",
              "            '<a target=\"_blank\" href=https://colab.research.google.com/notebooks/data_table.ipynb>data table notebook</a>'\n",
              "            + ' to learn more about interactive tables.';\n",
              "          element.innerHTML = '';\n",
              "          dataTable['output_type'] = 'display_data';\n",
              "          await google.colab.output.renderOutput(dataTable, element);\n",
              "          const docLink = document.createElement('div');\n",
              "          docLink.innerHTML = docLinkHtml;\n",
              "          element.appendChild(docLink);\n",
              "        }\n",
              "      </script>\n",
              "    </div>\n",
              "  </div>\n",
              "  "
            ]
          },
          "metadata": {},
          "execution_count": 29
        }
      ]
    },
    {
      "cell_type": "markdown",
      "source": [
        "# Using the embeddings for title and text from previous experiments"
      ],
      "metadata": {
        "id": "CnksS6trIRdd"
      }
    },
    {
      "cell_type": "code",
      "source": [
        "title_embedding_file = base_dir/f\"{dataset_id}_sbert_title_embeddings.npy\"\n",
        "\n",
        "if title_embedding_file.exists():\n",
        "    title_embeddings = np.load(title_embedding_file)\n",
        "else:\n",
        "    model_id = \"all-mpnet-base-v2\"\n",
        "    model = SentenceTransformer(model_id)\n",
        "    titles = df.title.tolist()\n",
        "    title_embeddings = model.encode(titles, show_progress_bar=True)\n",
        "    np.save(title_embedding_file, title_embeddings)"
      ],
      "metadata": {
        "id": "8H5eVnOyPFam"
      },
      "execution_count": 30,
      "outputs": []
    },
    {
      "cell_type": "code",
      "source": [
        "text_embedding_file = base_dir/f\"{dataset_id}_sbert_fulltext_embeddings.npy\"\n",
        "\n",
        "if text_embedding_file.exists():\n",
        "    text_embeddings = np.load(text_embedding_file)\n",
        "else:\n",
        "    model_id = \"all-mpnet-base-v2\"\n",
        "    model = SentenceTransformer(model_id)\n",
        "    texts = (df.title + \"\\n\" + df.text).tolist()\n",
        "    text_embeddings = model.encode(texts, show_progress_bar=True)\n",
        "    np.save(text_embedding_file, text_embeddings)"
      ],
      "metadata": {
        "id": "Uc88pT1nIRFX"
      },
      "execution_count": 31,
      "outputs": []
    },
    {
      "cell_type": "markdown",
      "source": [
        "# Training - Saving the machine learning model specifications"
      ],
      "metadata": {
        "id": "BIJrjc_jMSmB"
      }
    },
    {
      "cell_type": "code",
      "source": [
        "import tensorflow as tf"
      ],
      "metadata": {
        "id": "crdL5CNX_guQ"
      },
      "execution_count": 32,
      "outputs": []
    },
    {
      "cell_type": "code",
      "source": [
        "def get_model(d_h=64, p_in:float=0.2, p_out:float=0.2):\n",
        "    model = tf.keras.Sequential([\n",
        "        tf.keras.layers.Dropout(p_in), # input dropout\n",
        "        tf.keras.layers.Dense(d_h, activation='relu'),\n",
        "        tf.keras.layers.Dropout(p_out),  \n",
        "        tf.keras.layers.Dense(1)\n",
        "    ])\n",
        "\n",
        "    model.compile(loss=tf.keras.losses.BinaryCrossentropy(from_logits=True), \n",
        "                  optimizer='adam',metrics=['accuracy'])\n",
        "    return model"
      ],
      "metadata": {
        "id": "-_V-I0VdTezQ"
      },
      "execution_count": 33,
      "outputs": []
    },
    {
      "cell_type": "code",
      "source": [
        "def train(fold_id, train_idx, test_idx, params):\n",
        "\n",
        "    # setup\n",
        "    X_train, X_test = X[train_idx], X[test_idx]\n",
        "    y_train, y_test = y[train_idx], y[test_idx]\n",
        "    model = get_model()\n",
        "    # training\n",
        "    ckpt_filepath = f'ckpt/fold_{fold_id}'\n",
        "    save_model_cb = tf.keras.callbacks.ModelCheckpoint(\n",
        "        filepath=ckpt_filepath,\n",
        "        save_weights_only=True,\n",
        "        monitor='val_accuracy',\n",
        "        mode='max',\n",
        "        save_best_only=True)\n",
        "    history = model.fit(\n",
        "        X_train, y_train, validation_data = (X_test, y_test), \n",
        "        batch_size = params['bs'] , epochs=params['epochs'],\n",
        "        callbacks=[WandbCallback(), save_model_cb]\n",
        "    )\n",
        "    #evaluation\n",
        "    model.load_weights(ckpt_filepath)\n",
        "    logits = model.predict(X_test).squeeze()\n",
        "    y_pred = (logits > 0.).astype(int)\n",
        "    eval_results = {get_name(f):f(y_pred=y_pred, y_true=y_test) for f in metrics}\n",
        "    wandb.log(eval_results)\n",
        "    wandb.log({\"conf_mat\" : wandb.plot.confusion_matrix(probs=None,\n",
        "                            y_true=y_test, preds=y_pred,\n",
        "                            class_names=[\"Fake\", \"Real\"])})\n",
        "    return history"
      ],
      "metadata": {
        "id": "d4qbKryd_e3g"
      },
      "execution_count": 34,
      "outputs": []
    },
    {
      "cell_type": "markdown",
      "source": [
        "### PyTorch_BigGraph embeddings"
      ],
      "metadata": {
        "id": "NetZ3uulKwmk"
      }
    },
    {
      "cell_type": "code",
      "source": [
        "edim = 128\n",
        "bg_embeddings = np.load(base_dir/f'{dataset_id}_pt_biggraph_article_embeddings_{edim}.npy')\n",
        "idx = np.load(base_dir/f\"{dataset_id}_pt_biggraph_article_idx_{edim}.npy\")"
      ],
      "metadata": {
        "id": "uQjE8biJFfW8"
      },
      "execution_count": 35,
      "outputs": []
    },
    {
      "cell_type": "code",
      "source": [
        "graph_embeddings = np.zeros((text_embeddings.shape[0], edim))\n",
        "graph_embeddings[idx] = bg_embeddings"
      ],
      "metadata": {
        "id": "NWS6KO7UpUX3"
      },
      "execution_count": 36,
      "outputs": []
    },
    {
      "cell_type": "code",
      "source": [
        "params = {\n",
        "    \"epochs\":400,\n",
        "    \"bs\":128,\n",
        "    # 'lr':1e-3\n",
        "}"
      ],
      "metadata": {
        "id": "zYG-ufSkM92E"
      },
      "execution_count": 37,
      "outputs": []
    },
    {
      "cell_type": "code",
      "source": [
        "X = np.concatenate([\n",
        "    text_embeddings, \n",
        "    df.log_num_retweets.to_numpy()[..., None], \n",
        "    df.log_num_tweets.to_numpy()[..., None],\n",
        "    graph_embeddings], axis=1)\n",
        "y = (df.label==\"real\").to_numpy().astype(int)\n",
        "\n",
        "X.shape, y.shape"
      ],
      "metadata": {
        "colab": {
          "base_uri": "https://localhost:8080/"
        },
        "outputId": "30281394-d86f-47f2-90af-1d07c562a4aa",
        "id": "NYFQrhVkqGbC"
      },
      "execution_count": 38,
      "outputs": [
        {
          "output_type": "execute_result",
          "data": {
            "text/plain": [
              "((19968, 898), (19968,))"
            ]
          },
          "metadata": {},
          "execution_count": 38
        }
      ]
    },
    {
      "cell_type": "code",
      "source": [
        "skf = StratifiedKFold(shuffle=True, random_state=124)"
      ],
      "metadata": {
        "id": "35HIz5jGM92K"
      },
      "execution_count": 39,
      "outputs": []
    },
    {
      "cell_type": "markdown",
      "source": [
        "Creating a group and logging all train, test data in wandb for better tracking and visualisation."
      ],
      "metadata": {
        "id": "l0wGrjhLM92M"
      }
    },
    {
      "cell_type": "code",
      "source": [
        "WANDB_ENTITY = 'saloniteam'\n",
        "WANDB_PROJECTS = 'nofolds'\n",
        "\n",
        "GROUP = f\"{dataset_id}-fulltext-sbert+tw+ptbg128-mlp-e400\"\n",
        "\n",
        "for fold_id, (train_idx, test_idx) in enumerate(skf.split(X, y)):\n",
        "    clear_output()\n",
        "    with wandb.init(entity=WANDB_ENTITY, project=WANDB_ENTITY, group=GROUP, name=f\"{GROUP}-{fold_id}\") as run:\n",
        "        train(fold_id, train_idx, test_idx, params)\n",
        "    break"
      ],
      "metadata": {
        "colab": {
          "base_uri": "https://localhost:8080/",
          "height": 1000,
          "referenced_widgets": [
            "a4cdc017e8a84dbca0ba81f94310571d",
            "0707c870f39b4e0bb74cf2e6c053a131",
            "944da99f951d433a87e4b6430c37f066",
            "bbd478edb9234530a2ed3c2054adc619",
            "92e99b4cb17a402ba56bc6de0e46e885",
            "faa8ba75be0a465997bdbb27344cddd1",
            "aad0864c72714e9fa8fdcfc61282d57c",
            "b62472d2aed64b8abb2f173f3dcab640"
          ]
        },
        "outputId": "32e38fad-6718-43b5-839c-875838b33177",
        "id": "BQRR58uNM92O"
      },
      "execution_count": 40,
      "outputs": [
        {
          "output_type": "stream",
          "name": "stderr",
          "text": [
            "\u001b[34m\u001b[1mwandb\u001b[0m: Currently logged in as: \u001b[33msaloni\u001b[0m (\u001b[33msaloniteam\u001b[0m). Use \u001b[1m`wandb login --relogin`\u001b[0m to force relogin\n"
          ]
        },
        {
          "output_type": "display_data",
          "data": {
            "text/plain": [
              "<IPython.core.display.HTML object>"
            ],
            "text/html": [
              "Tracking run with wandb version 0.13.4"
            ]
          },
          "metadata": {}
        },
        {
          "output_type": "display_data",
          "data": {
            "text/plain": [
              "<IPython.core.display.HTML object>"
            ],
            "text/html": [
              "Run data is saved locally in <code>/content/wandb/run-20221019_105756-dafj960p</code>"
            ]
          },
          "metadata": {}
        },
        {
          "output_type": "display_data",
          "data": {
            "text/plain": [
              "<IPython.core.display.HTML object>"
            ],
            "text/html": [
              "Syncing run <strong><a href=\"https://wandb.ai/saloniteam/saloniteam/runs/dafj960p\" target=\"_blank\">gossipcop-fulltext-sbert+tw+ptbg128-mlp-e400-0</a></strong> to <a href=\"https://wandb.ai/saloniteam/saloniteam\" target=\"_blank\">Weights & Biases</a> (<a href=\"https://wandb.me/run\" target=\"_blank\">docs</a>)<br/>"
            ]
          },
          "metadata": {}
        },
        {
          "output_type": "stream",
          "name": "stdout",
          "text": [
            "Epoch 1/400\n",
            "119/125 [===========================>..] - ETA: 0s - loss: 0.4791 - accuracy: 0.7618"
          ]
        },
        {
          "output_type": "stream",
          "name": "stderr",
          "text": [
            "\u001b[34m\u001b[1mwandb\u001b[0m: Adding directory to artifact (/content/wandb/run-20221019_105756-dafj960p/files/model-best)... Done. 0.1s\n"
          ]
        },
        {
          "output_type": "stream",
          "name": "stdout",
          "text": [
            "\b\b\b\b\b\b\b\b\b\b\b\b\b\b\b\b\b\b\b\b\b\b\b\b\b\b\b\b\b\b\b\b\b\b\b\b\b\b\b\b\b\b\b\b\b\b\b\b\b\b\b\b\b\b\b\b\b\b\b\b\b\b\b\b\b\b\b\b\b\b\b\b\b\b\b\b\b\b\b\b\b\b\b\b\r125/125 [==============================] - 2s 13ms/step - loss: 0.4757 - accuracy: 0.7652 - val_loss: 0.4087 - val_accuracy: 0.8310\n",
            "Epoch 2/400\n",
            "118/125 [===========================>..] - ETA: 0s - loss: 0.3826 - accuracy: 0.8399"
          ]
        },
        {
          "output_type": "stream",
          "name": "stderr",
          "text": [
            "\u001b[34m\u001b[1mwandb\u001b[0m: Adding directory to artifact (/content/wandb/run-20221019_105756-dafj960p/files/model-best)... Done. 0.1s\n"
          ]
        },
        {
          "output_type": "stream",
          "name": "stdout",
          "text": [
            "\b\b\b\b\b\b\b\b\b\b\b\b\b\b\b\b\b\b\b\b\b\b\b\b\b\b\b\b\b\b\b\b\b\b\b\b\b\b\b\b\b\b\b\b\b\b\b\b\b\b\b\b\b\b\b\b\b\b\b\b\b\b\b\b\b\b\b\b\b\b\b\b\b\b\b\b\b\b\b\b\b\b\b\b\r125/125 [==============================] - 1s 11ms/step - loss: 0.3824 - accuracy: 0.8403 - val_loss: 0.3820 - val_accuracy: 0.8277\n",
            "Epoch 3/400\n",
            "121/125 [============================>.] - ETA: 0s - loss: 0.3669 - accuracy: 0.8434"
          ]
        },
        {
          "output_type": "stream",
          "name": "stderr",
          "text": [
            "\u001b[34m\u001b[1mwandb\u001b[0m: Adding directory to artifact (/content/wandb/run-20221019_105756-dafj960p/files/model-best)... Done. 0.1s\n"
          ]
        },
        {
          "output_type": "stream",
          "name": "stdout",
          "text": [
            "\b\b\b\b\b\b\b\b\b\b\b\b\b\b\b\b\b\b\b\b\b\b\b\b\b\b\b\b\b\b\b\b\b\b\b\b\b\b\b\b\b\b\b\b\b\b\b\b\b\b\b\b\b\b\b\b\b\b\b\b\b\b\b\b\b\b\b\b\b\b\b\b\b\b\b\b\b\b\b\b\b\b\b\b\r125/125 [==============================] - 1s 11ms/step - loss: 0.3666 - accuracy: 0.8435 - val_loss: 0.3734 - val_accuracy: 0.8317\n",
            "Epoch 4/400\n",
            "125/125 [==============================] - ETA: 0s - loss: 0.3548 - accuracy: 0.8486"
          ]
        },
        {
          "output_type": "stream",
          "name": "stderr",
          "text": [
            "\u001b[34m\u001b[1mwandb\u001b[0m: Adding directory to artifact (/content/wandb/run-20221019_105756-dafj960p/files/model-best)... Done. 0.1s\n"
          ]
        },
        {
          "output_type": "stream",
          "name": "stdout",
          "text": [
            "\b\b\b\b\b\b\b\b\b\b\b\b\b\b\b\b\b\b\b\b\b\b\b\b\b\b\b\b\b\b\b\b\b\b\b\b\b\b\b\b\b\b\b\b\b\b\b\b\b\b\b\b\b\b\b\b\b\b\b\b\b\b\b\b\b\b\b\b\b\b\b\b\b\b\b\b\b\b\b\b\b\b\b\b\r125/125 [==============================] - 1s 12ms/step - loss: 0.3548 - accuracy: 0.8486 - val_loss: 0.3655 - val_accuracy: 0.8310\n",
            "Epoch 5/400\n",
            "113/125 [==========================>...] - ETA: 0s - loss: 0.3440 - accuracy: 0.8502"
          ]
        },
        {
          "output_type": "stream",
          "name": "stderr",
          "text": [
            "\u001b[34m\u001b[1mwandb\u001b[0m: Adding directory to artifact (/content/wandb/run-20221019_105756-dafj960p/files/model-best)... Done. 0.1s\n"
          ]
        },
        {
          "output_type": "stream",
          "name": "stdout",
          "text": [
            "\b\b\b\b\b\b\b\b\b\b\b\b\b\b\b\b\b\b\b\b\b\b\b\b\b\b\b\b\b\b\b\b\b\b\b\b\b\b\b\b\b\b\b\b\b\b\b\b\b\b\b\b\b\b\b\b\b\b\b\b\b\b\b\b\b\b\b\b\b\b\b\b\b\b\b\b\b\b\b\b\b\b\b\b\r125/125 [==============================] - 1s 12ms/step - loss: 0.3441 - accuracy: 0.8514 - val_loss: 0.3587 - val_accuracy: 0.8370\n",
            "Epoch 6/400\n",
            "120/125 [===========================>..] - ETA: 0s - loss: 0.3363 - accuracy: 0.8533"
          ]
        },
        {
          "output_type": "stream",
          "name": "stderr",
          "text": [
            "\u001b[34m\u001b[1mwandb\u001b[0m: Adding directory to artifact (/content/wandb/run-20221019_105756-dafj960p/files/model-best)... Done. 0.1s\n"
          ]
        },
        {
          "output_type": "stream",
          "name": "stdout",
          "text": [
            "\b\b\b\b\b\b\b\b\b\b\b\b\b\b\b\b\b\b\b\b\b\b\b\b\b\b\b\b\b\b\b\b\b\b\b\b\b\b\b\b\b\b\b\b\b\b\b\b\b\b\b\b\b\b\b\b\b\b\b\b\b\b\b\b\b\b\b\b\b\b\b\b\b\b\b\b\b\b\b\b\b\b\b\b\r125/125 [==============================] - 1s 11ms/step - loss: 0.3370 - accuracy: 0.8529 - val_loss: 0.3482 - val_accuracy: 0.8453\n",
            "Epoch 7/400\n",
            "120/125 [===========================>..] - ETA: 0s - loss: 0.3276 - accuracy: 0.8554"
          ]
        },
        {
          "output_type": "stream",
          "name": "stderr",
          "text": [
            "\u001b[34m\u001b[1mwandb\u001b[0m: Adding directory to artifact (/content/wandb/run-20221019_105756-dafj960p/files/model-best)... Done. 0.1s\n"
          ]
        },
        {
          "output_type": "stream",
          "name": "stdout",
          "text": [
            "\b\b\b\b\b\b\b\b\b\b\b\b\b\b\b\b\b\b\b\b\b\b\b\b\b\b\b\b\b\b\b\b\b\b\b\b\b\b\b\b\b\b\b\b\b\b\b\b\b\b\b\b\b\b\b\b\b\b\b\b\b\b\b\b\b\b\b\b\b\b\b\b\b\b\b\b\b\b\b\b\b\b\b\b\r125/125 [==============================] - 1s 12ms/step - loss: 0.3280 - accuracy: 0.8550 - val_loss: 0.3407 - val_accuracy: 0.8475\n",
            "Epoch 8/400\n",
            "125/125 [==============================] - ETA: 0s - loss: 0.3245 - accuracy: 0.8615"
          ]
        },
        {
          "output_type": "stream",
          "name": "stderr",
          "text": [
            "\u001b[34m\u001b[1mwandb\u001b[0m: Adding directory to artifact (/content/wandb/run-20221019_105756-dafj960p/files/model-best)... Done. 0.1s\n"
          ]
        },
        {
          "output_type": "stream",
          "name": "stdout",
          "text": [
            "\b\b\b\b\b\b\b\b\b\b\b\b\b\b\b\b\b\b\b\b\b\b\b\b\b\b\b\b\b\b\b\b\b\b\b\b\b\b\b\b\b\b\b\b\b\b\b\b\b\b\b\b\b\b\b\b\b\b\b\b\b\b\b\b\b\b\b\b\b\b\b\b\b\b\b\b\b\b\b\b\b\b\b\b\r125/125 [==============================] - 1s 12ms/step - loss: 0.3245 - accuracy: 0.8615 - val_loss: 0.3330 - val_accuracy: 0.8513\n",
            "Epoch 9/400\n",
            "125/125 [==============================] - 1s 4ms/step - loss: 0.3161 - accuracy: 0.8662 - val_loss: 0.3347 - val_accuracy: 0.8408\n",
            "Epoch 10/400\n",
            "118/125 [===========================>..] - ETA: 0s - loss: 0.3112 - accuracy: 0.8657"
          ]
        },
        {
          "output_type": "stream",
          "name": "stderr",
          "text": [
            "\u001b[34m\u001b[1mwandb\u001b[0m: Adding directory to artifact (/content/wandb/run-20221019_105756-dafj960p/files/model-best)... Done. 0.1s\n"
          ]
        },
        {
          "output_type": "stream",
          "name": "stdout",
          "text": [
            "\b\b\b\b\b\b\b\b\b\b\b\b\b\b\b\b\b\b\b\b\b\b\b\b\b\b\b\b\b\b\b\b\b\b\b\b\b\b\b\b\b\b\b\b\b\b\b\b\b\b\b\b\b\b\b\b\b\b\b\b\b\b\b\b\b\b\b\b\b\b\b\b\b\b\b\b\b\b\b\b\b\b\b\b\r125/125 [==============================] - 1s 11ms/step - loss: 0.3104 - accuracy: 0.8660 - val_loss: 0.3248 - val_accuracy: 0.8538\n",
            "Epoch 11/400\n",
            "124/125 [============================>.] - ETA: 0s - loss: 0.3080 - accuracy: 0.8670"
          ]
        },
        {
          "output_type": "stream",
          "name": "stderr",
          "text": [
            "\u001b[34m\u001b[1mwandb\u001b[0m: Adding directory to artifact (/content/wandb/run-20221019_105756-dafj960p/files/model-best)... Done. 0.1s\n"
          ]
        },
        {
          "output_type": "stream",
          "name": "stdout",
          "text": [
            "\b\b\b\b\b\b\b\b\b\b\b\b\b\b\b\b\b\b\b\b\b\b\b\b\b\b\b\b\b\b\b\b\b\b\b\b\b\b\b\b\b\b\b\b\b\b\b\b\b\b\b\b\b\b\b\b\b\b\b\b\b\b\b\b\b\b\b\b\b\b\b\b\b\b\b\b\b\b\b\b\b\b\b\b\r125/125 [==============================] - 1s 10ms/step - loss: 0.3083 - accuracy: 0.8668 - val_loss: 0.3241 - val_accuracy: 0.8525\n",
            "Epoch 12/400\n",
            "111/125 [=========================>....] - ETA: 0s - loss: 0.2975 - accuracy: 0.8746"
          ]
        },
        {
          "output_type": "stream",
          "name": "stderr",
          "text": [
            "\u001b[34m\u001b[1mwandb\u001b[0m: Adding directory to artifact (/content/wandb/run-20221019_105756-dafj960p/files/model-best)... Done. 0.1s\n"
          ]
        },
        {
          "output_type": "stream",
          "name": "stdout",
          "text": [
            "\b\b\b\b\b\b\b\b\b\b\b\b\b\b\b\b\b\b\b\b\b\b\b\b\b\b\b\b\b\b\b\b\b\b\b\b\b\b\b\b\b\b\b\b\b\b\b\b\b\b\b\b\b\b\b\b\b\b\b\b\b\b\b\b\b\b\b\b\b\b\b\b\b\b\b\b\b\b\b\b\b\b\b\b\r125/125 [==============================] - 1s 11ms/step - loss: 0.3003 - accuracy: 0.8729 - val_loss: 0.3179 - val_accuracy: 0.8560\n",
            "Epoch 13/400\n",
            "124/125 [============================>.] - ETA: 0s - loss: 0.2963 - accuracy: 0.8766"
          ]
        },
        {
          "output_type": "stream",
          "name": "stderr",
          "text": [
            "\u001b[34m\u001b[1mwandb\u001b[0m: Adding directory to artifact (/content/wandb/run-20221019_105756-dafj960p/files/model-best)... Done. 0.1s\n"
          ]
        },
        {
          "output_type": "stream",
          "name": "stdout",
          "text": [
            "\b\b\b\b\b\b\b\b\b\b\b\b\b\b\b\b\b\b\b\b\b\b\b\b\b\b\b\b\b\b\b\b\b\b\b\b\b\b\b\b\b\b\b\b\b\b\b\b\b\b\b\b\b\b\b\b\b\b\b\b\b\b\b\b\b\b\b\b\b\b\b\b\b\b\b\b\b\b\b\b\b\b\b\b\r125/125 [==============================] - 1s 12ms/step - loss: 0.2969 - accuracy: 0.8762 - val_loss: 0.3170 - val_accuracy: 0.8583\n",
            "Epoch 14/400\n",
            "125/125 [==============================] - ETA: 0s - loss: 0.2914 - accuracy: 0.8779"
          ]
        },
        {
          "output_type": "stream",
          "name": "stderr",
          "text": [
            "\u001b[34m\u001b[1mwandb\u001b[0m: Adding directory to artifact (/content/wandb/run-20221019_105756-dafj960p/files/model-best)... Done. 0.1s\n"
          ]
        },
        {
          "output_type": "stream",
          "name": "stdout",
          "text": [
            "\b\b\b\b\b\b\b\b\b\b\b\b\b\b\b\b\b\b\b\b\b\b\b\b\b\b\b\b\b\b\b\b\b\b\b\b\b\b\b\b\b\b\b\b\b\b\b\b\b\b\b\b\b\b\b\b\b\b\b\b\b\b\b\b\b\b\b\b\b\b\b\b\b\b\b\b\b\b\b\b\b\b\b\b\r125/125 [==============================] - 1s 12ms/step - loss: 0.2914 - accuracy: 0.8779 - val_loss: 0.3151 - val_accuracy: 0.8660\n",
            "Epoch 15/400\n",
            "125/125 [==============================] - 1s 4ms/step - loss: 0.2884 - accuracy: 0.8791 - val_loss: 0.3158 - val_accuracy: 0.8538\n",
            "Epoch 16/400\n",
            "125/125 [==============================] - 1s 5ms/step - loss: 0.2862 - accuracy: 0.8792 - val_loss: 0.3153 - val_accuracy: 0.8540\n",
            "Epoch 17/400\n",
            "112/125 [=========================>....] - ETA: 0s - loss: 0.2818 - accuracy: 0.8832"
          ]
        },
        {
          "output_type": "stream",
          "name": "stderr",
          "text": [
            "\u001b[34m\u001b[1mwandb\u001b[0m: Adding directory to artifact (/content/wandb/run-20221019_105756-dafj960p/files/model-best)... Done. 0.1s\n"
          ]
        },
        {
          "output_type": "stream",
          "name": "stdout",
          "text": [
            "\b\b\b\b\b\b\b\b\b\b\b\b\b\b\b\b\b\b\b\b\b\b\b\b\b\b\b\b\b\b\b\b\b\b\b\b\b\b\b\b\b\b\b\b\b\b\b\b\b\b\b\b\b\b\b\b\b\b\b\b\b\b\b\b\b\b\b\b\b\b\b\b\b\b\b\b\b\b\b\b\b\b\b\b\r125/125 [==============================] - 2s 15ms/step - loss: 0.2821 - accuracy: 0.8832 - val_loss: 0.3147 - val_accuracy: 0.8533\n",
            "Epoch 18/400\n",
            "120/125 [===========================>..] - ETA: 0s - loss: 0.2811 - accuracy: 0.8805"
          ]
        },
        {
          "output_type": "stream",
          "name": "stderr",
          "text": [
            "\u001b[34m\u001b[1mwandb\u001b[0m: Adding directory to artifact (/content/wandb/run-20221019_105756-dafj960p/files/model-best)... Done. 0.1s\n"
          ]
        },
        {
          "output_type": "stream",
          "name": "stdout",
          "text": [
            "\b\b\b\b\b\b\b\b\b\b\b\b\b\b\b\b\b\b\b\b\b\b\b\b\b\b\b\b\b\b\b\b\b\b\b\b\b\b\b\b\b\b\b\b\b\b\b\b\b\b\b\b\b\b\b\b\b\b\b\b\b\b\b\b\b\b\b\b\b\b\b\b\b\b\b\b\b\b\b\b\b\b\b\b\r125/125 [==============================] - 1s 11ms/step - loss: 0.2829 - accuracy: 0.8792 - val_loss: 0.3119 - val_accuracy: 0.8623\n",
            "Epoch 19/400\n",
            "119/125 [===========================>..] - ETA: 0s - loss: 0.2774 - accuracy: 0.8851"
          ]
        },
        {
          "output_type": "stream",
          "name": "stderr",
          "text": [
            "\u001b[34m\u001b[1mwandb\u001b[0m: Adding directory to artifact (/content/wandb/run-20221019_105756-dafj960p/files/model-best)... Done. 0.1s\n"
          ]
        },
        {
          "output_type": "stream",
          "name": "stdout",
          "text": [
            "\b\b\b\b\b\b\b\b\b\b\b\b\b\b\b\b\b\b\b\b\b\b\b\b\b\b\b\b\b\b\b\b\b\b\b\b\b\b\b\b\b\b\b\b\b\b\b\b\b\b\b\b\b\b\b\b\b\b\b\b\b\b\b\b\b\b\b\b\b\b\b\b\b\b\b\b\b\b\b\b\b\b\b\b\r125/125 [==============================] - 1s 11ms/step - loss: 0.2778 - accuracy: 0.8853 - val_loss: 0.3110 - val_accuracy: 0.8608\n",
            "Epoch 20/400\n",
            "122/125 [============================>.] - ETA: 0s - loss: 0.2749 - accuracy: 0.8833"
          ]
        },
        {
          "output_type": "stream",
          "name": "stderr",
          "text": [
            "\u001b[34m\u001b[1mwandb\u001b[0m: Adding directory to artifact (/content/wandb/run-20221019_105756-dafj960p/files/model-best)... Done. 0.1s\n"
          ]
        },
        {
          "output_type": "stream",
          "name": "stdout",
          "text": [
            "\b\b\b\b\b\b\b\b\b\b\b\b\b\b\b\b\b\b\b\b\b\b\b\b\b\b\b\b\b\b\b\b\b\b\b\b\b\b\b\b\b\b\b\b\b\b\b\b\b\b\b\b\b\b\b\b\b\b\b\b\b\b\b\b\b\b\b\b\b\b\b\b\b\b\b\b\b\b\b\b\b\b\b\b\r125/125 [==============================] - 1s 11ms/step - loss: 0.2746 - accuracy: 0.8834 - val_loss: 0.3056 - val_accuracy: 0.8653\n",
            "Epoch 21/400\n",
            "125/125 [==============================] - 1s 4ms/step - loss: 0.2732 - accuracy: 0.8852 - val_loss: 0.3057 - val_accuracy: 0.8635\n",
            "Epoch 22/400\n",
            "125/125 [==============================] - 1s 4ms/step - loss: 0.2706 - accuracy: 0.8874 - val_loss: 0.3091 - val_accuracy: 0.8613\n",
            "Epoch 23/400\n",
            "125/125 [==============================] - 1s 5ms/step - loss: 0.2665 - accuracy: 0.8892 - val_loss: 0.3091 - val_accuracy: 0.8580\n",
            "Epoch 24/400\n",
            "124/125 [============================>.] - ETA: 0s - loss: 0.2634 - accuracy: 0.8922"
          ]
        },
        {
          "output_type": "stream",
          "name": "stderr",
          "text": [
            "\u001b[34m\u001b[1mwandb\u001b[0m: Adding directory to artifact (/content/wandb/run-20221019_105756-dafj960p/files/model-best)... Done. 0.1s\n"
          ]
        },
        {
          "output_type": "stream",
          "name": "stdout",
          "text": [
            "\b\b\b\b\b\b\b\b\b\b\b\b\b\b\b\b\b\b\b\b\b\b\b\b\b\b\b\b\b\b\b\b\b\b\b\b\b\b\b\b\b\b\b\b\b\b\b\b\b\b\b\b\b\b\b\b\b\b\b\b\b\b\b\b\b\b\b\b\b\b\b\b\b\b\b\b\b\b\b\b\b\b\b\b\r125/125 [==============================] - 1s 11ms/step - loss: 0.2633 - accuracy: 0.8921 - val_loss: 0.3034 - val_accuracy: 0.8738\n",
            "Epoch 25/400\n",
            "120/125 [===========================>..] - ETA: 0s - loss: 0.2639 - accuracy: 0.8904"
          ]
        },
        {
          "output_type": "stream",
          "name": "stderr",
          "text": [
            "\u001b[34m\u001b[1mwandb\u001b[0m: Adding directory to artifact (/content/wandb/run-20221019_105756-dafj960p/files/model-best)... Done. 0.1s\n"
          ]
        },
        {
          "output_type": "stream",
          "name": "stdout",
          "text": [
            "\b\b\b\b\b\b\b\b\b\b\b\b\b\b\b\b\b\b\b\b\b\b\b\b\b\b\b\b\b\b\b\b\b\b\b\b\b\b\b\b\b\b\b\b\b\b\b\b\b\b\b\b\b\b\b\b\b\b\b\b\b\b\b\b\b\b\b\b\b\b\b\b\b\b\b\b\b\b\b\b\b\b\b\b\r125/125 [==============================] - 1s 11ms/step - loss: 0.2636 - accuracy: 0.8898 - val_loss: 0.3001 - val_accuracy: 0.8706\n",
            "Epoch 26/400\n",
            "125/125 [==============================] - 1s 4ms/step - loss: 0.2601 - accuracy: 0.8918 - val_loss: 0.3026 - val_accuracy: 0.8673\n",
            "Epoch 27/400\n",
            "125/125 [==============================] - 1s 5ms/step - loss: 0.2560 - accuracy: 0.8944 - val_loss: 0.3027 - val_accuracy: 0.8703\n",
            "Epoch 28/400\n",
            "125/125 [==============================] - 1s 4ms/step - loss: 0.2553 - accuracy: 0.8942 - val_loss: 0.3042 - val_accuracy: 0.8613\n",
            "Epoch 29/400\n",
            "125/125 [==============================] - 1s 5ms/step - loss: 0.2583 - accuracy: 0.8935 - val_loss: 0.3011 - val_accuracy: 0.8688\n",
            "Epoch 30/400\n",
            "117/125 [===========================>..] - ETA: 0s - loss: 0.2527 - accuracy: 0.8972"
          ]
        },
        {
          "output_type": "stream",
          "name": "stderr",
          "text": [
            "\u001b[34m\u001b[1mwandb\u001b[0m: Adding directory to artifact (/content/wandb/run-20221019_105756-dafj960p/files/model-best)... Done. 0.1s\n"
          ]
        },
        {
          "output_type": "stream",
          "name": "stdout",
          "text": [
            "\b\b\b\b\b\b\b\b\b\b\b\b\b\b\b\b\b\b\b\b\b\b\b\b\b\b\b\b\b\b\b\b\b\b\b\b\b\b\b\b\b\b\b\b\b\b\b\b\b\b\b\b\b\b\b\b\b\b\b\b\b\b\b\b\b\b\b\b\b\b\b\b\b\b\b\b\b\b\b\b\b\b\b\b\r125/125 [==============================] - 1s 11ms/step - loss: 0.2530 - accuracy: 0.8968 - val_loss: 0.2994 - val_accuracy: 0.8691\n",
            "Epoch 31/400\n",
            "123/125 [============================>.] - ETA: 0s - loss: 0.2481 - accuracy: 0.9002"
          ]
        },
        {
          "output_type": "stream",
          "name": "stderr",
          "text": [
            "\u001b[34m\u001b[1mwandb\u001b[0m: Adding directory to artifact (/content/wandb/run-20221019_105756-dafj960p/files/model-best)... Done. 0.1s\n"
          ]
        },
        {
          "output_type": "stream",
          "name": "stdout",
          "text": [
            "\b\b\b\b\b\b\b\b\b\b\b\b\b\b\b\b\b\b\b\b\b\b\b\b\b\b\b\b\b\b\b\b\b\b\b\b\b\b\b\b\b\b\b\b\b\b\b\b\b\b\b\b\b\b\b\b\b\b\b\b\b\b\b\b\b\b\b\b\b\b\b\b\b\b\b\b\b\b\b\b\b\b\b\b\r125/125 [==============================] - 1s 11ms/step - loss: 0.2483 - accuracy: 0.9001 - val_loss: 0.2988 - val_accuracy: 0.8676\n",
            "Epoch 32/400\n",
            "125/125 [==============================] - 1s 5ms/step - loss: 0.2462 - accuracy: 0.8995 - val_loss: 0.3001 - val_accuracy: 0.8741\n",
            "Epoch 33/400\n",
            "125/125 [==============================] - 1s 4ms/step - loss: 0.2432 - accuracy: 0.9002 - val_loss: 0.3034 - val_accuracy: 0.8628\n",
            "Epoch 34/400\n",
            "119/125 [===========================>..] - ETA: 0s - loss: 0.2469 - accuracy: 0.8990"
          ]
        },
        {
          "output_type": "stream",
          "name": "stderr",
          "text": [
            "\u001b[34m\u001b[1mwandb\u001b[0m: Adding directory to artifact (/content/wandb/run-20221019_105756-dafj960p/files/model-best)... Done. 0.1s\n"
          ]
        },
        {
          "output_type": "stream",
          "name": "stdout",
          "text": [
            "\b\b\b\b\b\b\b\b\b\b\b\b\b\b\b\b\b\b\b\b\b\b\b\b\b\b\b\b\b\b\b\b\b\b\b\b\b\b\b\b\b\b\b\b\b\b\b\b\b\b\b\b\b\b\b\b\b\b\b\b\b\b\b\b\b\b\b\b\b\b\b\b\b\b\b\b\b\b\b\b\b\b\b\b\r125/125 [==============================] - 1s 11ms/step - loss: 0.2461 - accuracy: 0.8993 - val_loss: 0.2963 - val_accuracy: 0.8766\n",
            "Epoch 35/400\n",
            "118/125 [===========================>..] - ETA: 0s - loss: 0.2482 - accuracy: 0.8986"
          ]
        },
        {
          "output_type": "stream",
          "name": "stderr",
          "text": [
            "\u001b[34m\u001b[1mwandb\u001b[0m: Adding directory to artifact (/content/wandb/run-20221019_105756-dafj960p/files/model-best)... Done. 0.1s\n"
          ]
        },
        {
          "output_type": "stream",
          "name": "stdout",
          "text": [
            "\b\b\b\b\b\b\b\b\b\b\b\b\b\b\b\b\b\b\b\b\b\b\b\b\b\b\b\b\b\b\b\b\b\b\b\b\b\b\b\b\b\b\b\b\b\b\b\b\b\b\b\b\b\b\b\b\b\b\b\b\b\b\b\b\b\b\b\b\b\b\b\b\b\b\b\b\b\b\b\b\b\b\b\b\r125/125 [==============================] - 2s 12ms/step - loss: 0.2463 - accuracy: 0.8990 - val_loss: 0.2948 - val_accuracy: 0.8726\n",
            "Epoch 36/400\n",
            "125/125 [==============================] - 1s 7ms/step - loss: 0.2432 - accuracy: 0.9001 - val_loss: 0.3014 - val_accuracy: 0.8721\n",
            "Epoch 37/400\n",
            "125/125 [==============================] - 1s 6ms/step - loss: 0.2420 - accuracy: 0.8988 - val_loss: 0.3041 - val_accuracy: 0.8578\n",
            "Epoch 38/400\n",
            "116/125 [==========================>...] - ETA: 0s - loss: 0.2424 - accuracy: 0.9032"
          ]
        },
        {
          "output_type": "stream",
          "name": "stderr",
          "text": [
            "\u001b[34m\u001b[1mwandb\u001b[0m: Adding directory to artifact (/content/wandb/run-20221019_105756-dafj960p/files/model-best)... Done. 0.1s\n"
          ]
        },
        {
          "output_type": "stream",
          "name": "stdout",
          "text": [
            "\b\b\b\b\b\b\b\b\b\b\b\b\b\b\b\b\b\b\b\b\b\b\b\b\b\b\b\b\b\b\b\b\b\b\b\b\b\b\b\b\b\b\b\b\b\b\b\b\b\b\b\b\b\b\b\b\b\b\b\b\b\b\b\b\b\b\b\b\b\b\b\b\b\b\b\b\b\b\b\b\b\b\b\b\r125/125 [==============================] - 2s 13ms/step - loss: 0.2412 - accuracy: 0.9033 - val_loss: 0.2921 - val_accuracy: 0.8748\n",
            "Epoch 39/400\n",
            "125/125 [==============================] - 1s 5ms/step - loss: 0.2374 - accuracy: 0.9056 - val_loss: 0.2965 - val_accuracy: 0.8728\n",
            "Epoch 40/400\n",
            "125/125 [==============================] - 1s 5ms/step - loss: 0.2325 - accuracy: 0.9050 - val_loss: 0.2966 - val_accuracy: 0.8736\n",
            "Epoch 41/400\n",
            "125/125 [==============================] - 1s 4ms/step - loss: 0.2371 - accuracy: 0.9043 - val_loss: 0.3008 - val_accuracy: 0.8741\n",
            "Epoch 42/400\n",
            "125/125 [==============================] - 1s 5ms/step - loss: 0.2350 - accuracy: 0.9048 - val_loss: 0.2964 - val_accuracy: 0.8798\n",
            "Epoch 43/400\n",
            "125/125 [==============================] - 1s 4ms/step - loss: 0.2265 - accuracy: 0.9070 - val_loss: 0.2996 - val_accuracy: 0.8638\n",
            "Epoch 44/400\n",
            "125/125 [==============================] - 1s 4ms/step - loss: 0.2343 - accuracy: 0.9052 - val_loss: 0.2951 - val_accuracy: 0.8696\n",
            "Epoch 45/400\n",
            "125/125 [==============================] - 1s 4ms/step - loss: 0.2291 - accuracy: 0.9087 - val_loss: 0.2964 - val_accuracy: 0.8676\n",
            "Epoch 46/400\n",
            "122/125 [============================>.] - ETA: 0s - loss: 0.2278 - accuracy: 0.9079"
          ]
        },
        {
          "output_type": "stream",
          "name": "stderr",
          "text": [
            "\u001b[34m\u001b[1mwandb\u001b[0m: Adding directory to artifact (/content/wandb/run-20221019_105756-dafj960p/files/model-best)... Done. 0.1s\n"
          ]
        },
        {
          "output_type": "stream",
          "name": "stdout",
          "text": [
            "\b\b\b\b\b\b\b\b\b\b\b\b\b\b\b\b\b\b\b\b\b\b\b\b\b\b\b\b\b\b\b\b\b\b\b\b\b\b\b\b\b\b\b\b\b\b\b\b\b\b\b\b\b\b\b\b\b\b\b\b\b\b\b\b\b\b\b\b\b\b\b\b\b\b\b\b\b\b\b\b\b\b\b\b\r125/125 [==============================] - 1s 10ms/step - loss: 0.2280 - accuracy: 0.9081 - val_loss: 0.2904 - val_accuracy: 0.8781\n",
            "Epoch 47/400\n",
            "125/125 [==============================] - 1s 4ms/step - loss: 0.2249 - accuracy: 0.9059 - val_loss: 0.2940 - val_accuracy: 0.8736\n",
            "Epoch 48/400\n",
            "125/125 [==============================] - 1s 5ms/step - loss: 0.2268 - accuracy: 0.9090 - val_loss: 0.2975 - val_accuracy: 0.8728\n",
            "Epoch 49/400\n",
            "125/125 [==============================] - 1s 4ms/step - loss: 0.2236 - accuracy: 0.9089 - val_loss: 0.2987 - val_accuracy: 0.8633\n",
            "Epoch 50/400\n",
            "125/125 [==============================] - 1s 4ms/step - loss: 0.2219 - accuracy: 0.9126 - val_loss: 0.2958 - val_accuracy: 0.8716\n",
            "Epoch 51/400\n",
            "125/125 [==============================] - 1s 4ms/step - loss: 0.2223 - accuracy: 0.9111 - val_loss: 0.2990 - val_accuracy: 0.8721\n",
            "Epoch 52/400\n",
            "125/125 [==============================] - 1s 4ms/step - loss: 0.2186 - accuracy: 0.9116 - val_loss: 0.2990 - val_accuracy: 0.8655\n",
            "Epoch 53/400\n",
            "125/125 [==============================] - 1s 5ms/step - loss: 0.2168 - accuracy: 0.9113 - val_loss: 0.2963 - val_accuracy: 0.8741\n",
            "Epoch 54/400\n",
            "125/125 [==============================] - 1s 4ms/step - loss: 0.2173 - accuracy: 0.9147 - val_loss: 0.2951 - val_accuracy: 0.8721\n",
            "Epoch 55/400\n",
            "125/125 [==============================] - 1s 4ms/step - loss: 0.2154 - accuracy: 0.9130 - val_loss: 0.3015 - val_accuracy: 0.8728\n",
            "Epoch 56/400\n",
            "125/125 [==============================] - 1s 4ms/step - loss: 0.2102 - accuracy: 0.9160 - val_loss: 0.2975 - val_accuracy: 0.8763\n",
            "Epoch 57/400\n",
            "125/125 [==============================] - 1s 4ms/step - loss: 0.2114 - accuracy: 0.9166 - val_loss: 0.2957 - val_accuracy: 0.8776\n",
            "Epoch 58/400\n",
            "125/125 [==============================] - 1s 5ms/step - loss: 0.2093 - accuracy: 0.9154 - val_loss: 0.2960 - val_accuracy: 0.8768\n",
            "Epoch 59/400\n",
            "125/125 [==============================] - 1s 4ms/step - loss: 0.2122 - accuracy: 0.9124 - val_loss: 0.2966 - val_accuracy: 0.8781\n",
            "Epoch 60/400\n",
            "125/125 [==============================] - 1s 4ms/step - loss: 0.2090 - accuracy: 0.9144 - val_loss: 0.2947 - val_accuracy: 0.8818\n",
            "Epoch 61/400\n",
            "125/125 [==============================] - 0s 4ms/step - loss: 0.2073 - accuracy: 0.9183 - val_loss: 0.2961 - val_accuracy: 0.8726\n",
            "Epoch 62/400\n",
            "125/125 [==============================] - 1s 5ms/step - loss: 0.2054 - accuracy: 0.9161 - val_loss: 0.2996 - val_accuracy: 0.8678\n",
            "Epoch 63/400\n",
            "125/125 [==============================] - 1s 4ms/step - loss: 0.2073 - accuracy: 0.9150 - val_loss: 0.2963 - val_accuracy: 0.8753\n",
            "Epoch 64/400\n",
            "125/125 [==============================] - 1s 5ms/step - loss: 0.2066 - accuracy: 0.9156 - val_loss: 0.2981 - val_accuracy: 0.8655\n",
            "Epoch 65/400\n",
            "125/125 [==============================] - 1s 4ms/step - loss: 0.2069 - accuracy: 0.9149 - val_loss: 0.2979 - val_accuracy: 0.8703\n",
            "Epoch 66/400\n",
            "125/125 [==============================] - 1s 4ms/step - loss: 0.2061 - accuracy: 0.9166 - val_loss: 0.3012 - val_accuracy: 0.8718\n",
            "Epoch 67/400\n",
            "125/125 [==============================] - 1s 4ms/step - loss: 0.2008 - accuracy: 0.9196 - val_loss: 0.3016 - val_accuracy: 0.8748\n",
            "Epoch 68/400\n",
            "125/125 [==============================] - 1s 5ms/step - loss: 0.1971 - accuracy: 0.9199 - val_loss: 0.3023 - val_accuracy: 0.8761\n",
            "Epoch 69/400\n",
            "125/125 [==============================] - 1s 4ms/step - loss: 0.1970 - accuracy: 0.9215 - val_loss: 0.2965 - val_accuracy: 0.8756\n",
            "Epoch 70/400\n",
            "125/125 [==============================] - 1s 4ms/step - loss: 0.1983 - accuracy: 0.9203 - val_loss: 0.2992 - val_accuracy: 0.8741\n",
            "Epoch 71/400\n",
            "125/125 [==============================] - 1s 5ms/step - loss: 0.1969 - accuracy: 0.9211 - val_loss: 0.2985 - val_accuracy: 0.8713\n",
            "Epoch 72/400\n",
            "125/125 [==============================] - 1s 5ms/step - loss: 0.1984 - accuracy: 0.9187 - val_loss: 0.2994 - val_accuracy: 0.8706\n",
            "Epoch 73/400\n",
            "125/125 [==============================] - 1s 4ms/step - loss: 0.1934 - accuracy: 0.9228 - val_loss: 0.2997 - val_accuracy: 0.8711\n",
            "Epoch 74/400\n",
            "125/125 [==============================] - 1s 4ms/step - loss: 0.1931 - accuracy: 0.9216 - val_loss: 0.3041 - val_accuracy: 0.8756\n",
            "Epoch 75/400\n",
            "125/125 [==============================] - 1s 4ms/step - loss: 0.1929 - accuracy: 0.9220 - val_loss: 0.3025 - val_accuracy: 0.8773\n",
            "Epoch 76/400\n",
            "125/125 [==============================] - 1s 4ms/step - loss: 0.1960 - accuracy: 0.9196 - val_loss: 0.3004 - val_accuracy: 0.8713\n",
            "Epoch 77/400\n",
            "125/125 [==============================] - 1s 5ms/step - loss: 0.1914 - accuracy: 0.9214 - val_loss: 0.3000 - val_accuracy: 0.8741\n",
            "Epoch 78/400\n",
            "125/125 [==============================] - 1s 4ms/step - loss: 0.1912 - accuracy: 0.9216 - val_loss: 0.3035 - val_accuracy: 0.8663\n",
            "Epoch 79/400\n",
            "125/125 [==============================] - 1s 4ms/step - loss: 0.1872 - accuracy: 0.9274 - val_loss: 0.2974 - val_accuracy: 0.8741\n",
            "Epoch 80/400\n",
            "125/125 [==============================] - 1s 4ms/step - loss: 0.1903 - accuracy: 0.9229 - val_loss: 0.3053 - val_accuracy: 0.8813\n",
            "Epoch 81/400\n",
            "125/125 [==============================] - 1s 4ms/step - loss: 0.1873 - accuracy: 0.9241 - val_loss: 0.2983 - val_accuracy: 0.8801\n",
            "Epoch 82/400\n",
            "125/125 [==============================] - 1s 4ms/step - loss: 0.1853 - accuracy: 0.9238 - val_loss: 0.3058 - val_accuracy: 0.8686\n",
            "Epoch 83/400\n",
            "125/125 [==============================] - 1s 4ms/step - loss: 0.1840 - accuracy: 0.9268 - val_loss: 0.3027 - val_accuracy: 0.8781\n",
            "Epoch 84/400\n",
            "125/125 [==============================] - 1s 4ms/step - loss: 0.1874 - accuracy: 0.9257 - val_loss: 0.3021 - val_accuracy: 0.8793\n",
            "Epoch 85/400\n",
            "125/125 [==============================] - 1s 5ms/step - loss: 0.1885 - accuracy: 0.9245 - val_loss: 0.3033 - val_accuracy: 0.8711\n",
            "Epoch 86/400\n",
            "125/125 [==============================] - 1s 5ms/step - loss: 0.1804 - accuracy: 0.9269 - val_loss: 0.3038 - val_accuracy: 0.8741\n",
            "Epoch 87/400\n",
            "125/125 [==============================] - 1s 4ms/step - loss: 0.1822 - accuracy: 0.9261 - val_loss: 0.3037 - val_accuracy: 0.8733\n",
            "Epoch 88/400\n",
            "125/125 [==============================] - 1s 4ms/step - loss: 0.1808 - accuracy: 0.9240 - val_loss: 0.3036 - val_accuracy: 0.8748\n",
            "Epoch 89/400\n",
            "125/125 [==============================] - 1s 5ms/step - loss: 0.1800 - accuracy: 0.9289 - val_loss: 0.3014 - val_accuracy: 0.8688\n",
            "Epoch 90/400\n",
            "125/125 [==============================] - 1s 4ms/step - loss: 0.1811 - accuracy: 0.9262 - val_loss: 0.3053 - val_accuracy: 0.8821\n",
            "Epoch 91/400\n",
            "125/125 [==============================] - 1s 4ms/step - loss: 0.1804 - accuracy: 0.9286 - val_loss: 0.3077 - val_accuracy: 0.8768\n",
            "Epoch 92/400\n",
            "125/125 [==============================] - 1s 4ms/step - loss: 0.1785 - accuracy: 0.9269 - val_loss: 0.3029 - val_accuracy: 0.8816\n",
            "Epoch 93/400\n",
            "125/125 [==============================] - 1s 5ms/step - loss: 0.1834 - accuracy: 0.9256 - val_loss: 0.3095 - val_accuracy: 0.8696\n",
            "Epoch 94/400\n",
            "125/125 [==============================] - 1s 4ms/step - loss: 0.1753 - accuracy: 0.9319 - val_loss: 0.3081 - val_accuracy: 0.8791\n",
            "Epoch 95/400\n",
            "125/125 [==============================] - 1s 4ms/step - loss: 0.1817 - accuracy: 0.9281 - val_loss: 0.3015 - val_accuracy: 0.8746\n",
            "Epoch 96/400\n",
            "125/125 [==============================] - 1s 4ms/step - loss: 0.1725 - accuracy: 0.9316 - val_loss: 0.3115 - val_accuracy: 0.8748\n",
            "Epoch 97/400\n",
            "125/125 [==============================] - 1s 4ms/step - loss: 0.1746 - accuracy: 0.9297 - val_loss: 0.3076 - val_accuracy: 0.8648\n",
            "Epoch 98/400\n",
            "125/125 [==============================] - 1s 4ms/step - loss: 0.1726 - accuracy: 0.9306 - val_loss: 0.3119 - val_accuracy: 0.8625\n",
            "Epoch 99/400\n",
            "125/125 [==============================] - 1s 4ms/step - loss: 0.1730 - accuracy: 0.9299 - val_loss: 0.3047 - val_accuracy: 0.8756\n",
            "Epoch 100/400\n",
            "125/125 [==============================] - 1s 4ms/step - loss: 0.1723 - accuracy: 0.9315 - val_loss: 0.3064 - val_accuracy: 0.8746\n",
            "Epoch 101/400\n",
            "125/125 [==============================] - 1s 4ms/step - loss: 0.1734 - accuracy: 0.9310 - val_loss: 0.3062 - val_accuracy: 0.8756\n",
            "Epoch 102/400\n",
            "125/125 [==============================] - 1s 4ms/step - loss: 0.1691 - accuracy: 0.9326 - val_loss: 0.3193 - val_accuracy: 0.8553\n",
            "Epoch 103/400\n",
            "125/125 [==============================] - 1s 4ms/step - loss: 0.1700 - accuracy: 0.9313 - val_loss: 0.3104 - val_accuracy: 0.8788\n",
            "Epoch 104/400\n",
            "125/125 [==============================] - 1s 5ms/step - loss: 0.1704 - accuracy: 0.9308 - val_loss: 0.3122 - val_accuracy: 0.8796\n",
            "Epoch 105/400\n",
            "125/125 [==============================] - 1s 4ms/step - loss: 0.1675 - accuracy: 0.9320 - val_loss: 0.3119 - val_accuracy: 0.8681\n",
            "Epoch 106/400\n",
            "125/125 [==============================] - 1s 4ms/step - loss: 0.1682 - accuracy: 0.9331 - val_loss: 0.3079 - val_accuracy: 0.8686\n",
            "Epoch 107/400\n",
            "125/125 [==============================] - 1s 4ms/step - loss: 0.1675 - accuracy: 0.9310 - val_loss: 0.3075 - val_accuracy: 0.8688\n",
            "Epoch 108/400\n",
            "125/125 [==============================] - 1s 5ms/step - loss: 0.1683 - accuracy: 0.9315 - val_loss: 0.3112 - val_accuracy: 0.8681\n",
            "Epoch 109/400\n",
            "125/125 [==============================] - 1s 4ms/step - loss: 0.1635 - accuracy: 0.9362 - val_loss: 0.3080 - val_accuracy: 0.8711\n",
            "Epoch 110/400\n",
            "125/125 [==============================] - 1s 5ms/step - loss: 0.1644 - accuracy: 0.9341 - val_loss: 0.3086 - val_accuracy: 0.8650\n",
            "Epoch 111/400\n",
            "125/125 [==============================] - 1s 4ms/step - loss: 0.1643 - accuracy: 0.9348 - val_loss: 0.3093 - val_accuracy: 0.8751\n",
            "Epoch 112/400\n",
            "125/125 [==============================] - 1s 5ms/step - loss: 0.1675 - accuracy: 0.9320 - val_loss: 0.3020 - val_accuracy: 0.8778\n",
            "Epoch 113/400\n",
            "125/125 [==============================] - 1s 4ms/step - loss: 0.1660 - accuracy: 0.9355 - val_loss: 0.3131 - val_accuracy: 0.8640\n",
            "Epoch 114/400\n",
            "125/125 [==============================] - 1s 5ms/step - loss: 0.1659 - accuracy: 0.9343 - val_loss: 0.3105 - val_accuracy: 0.8711\n",
            "Epoch 115/400\n",
            "125/125 [==============================] - 1s 4ms/step - loss: 0.1642 - accuracy: 0.9346 - val_loss: 0.3168 - val_accuracy: 0.8638\n",
            "Epoch 116/400\n",
            "125/125 [==============================] - 1s 4ms/step - loss: 0.1569 - accuracy: 0.9357 - val_loss: 0.3101 - val_accuracy: 0.8763\n",
            "Epoch 117/400\n",
            "125/125 [==============================] - 1s 4ms/step - loss: 0.1593 - accuracy: 0.9370 - val_loss: 0.3148 - val_accuracy: 0.8703\n",
            "Epoch 118/400\n",
            "125/125 [==============================] - 1s 4ms/step - loss: 0.1621 - accuracy: 0.9344 - val_loss: 0.3156 - val_accuracy: 0.8691\n",
            "Epoch 119/400\n",
            "125/125 [==============================] - 1s 4ms/step - loss: 0.1632 - accuracy: 0.9328 - val_loss: 0.3109 - val_accuracy: 0.8761\n",
            "Epoch 120/400\n",
            "125/125 [==============================] - 1s 4ms/step - loss: 0.1607 - accuracy: 0.9356 - val_loss: 0.3116 - val_accuracy: 0.8696\n",
            "Epoch 121/400\n",
            "125/125 [==============================] - 1s 4ms/step - loss: 0.1601 - accuracy: 0.9355 - val_loss: 0.3112 - val_accuracy: 0.8723\n",
            "Epoch 122/400\n",
            "125/125 [==============================] - 1s 4ms/step - loss: 0.1607 - accuracy: 0.9374 - val_loss: 0.3162 - val_accuracy: 0.8771\n",
            "Epoch 123/400\n",
            "125/125 [==============================] - 1s 4ms/step - loss: 0.1583 - accuracy: 0.9350 - val_loss: 0.3190 - val_accuracy: 0.8553\n",
            "Epoch 124/400\n",
            "125/125 [==============================] - 1s 5ms/step - loss: 0.1613 - accuracy: 0.9348 - val_loss: 0.3112 - val_accuracy: 0.8698\n",
            "Epoch 125/400\n",
            "125/125 [==============================] - 1s 4ms/step - loss: 0.1605 - accuracy: 0.9351 - val_loss: 0.3087 - val_accuracy: 0.8788\n",
            "Epoch 126/400\n",
            "125/125 [==============================] - 1s 4ms/step - loss: 0.1586 - accuracy: 0.9380 - val_loss: 0.3130 - val_accuracy: 0.8736\n",
            "Epoch 127/400\n",
            "125/125 [==============================] - 1s 5ms/step - loss: 0.1578 - accuracy: 0.9378 - val_loss: 0.3145 - val_accuracy: 0.8698\n",
            "Epoch 128/400\n",
            "125/125 [==============================] - 1s 5ms/step - loss: 0.1568 - accuracy: 0.9379 - val_loss: 0.3163 - val_accuracy: 0.8723\n",
            "Epoch 129/400\n",
            "125/125 [==============================] - 1s 4ms/step - loss: 0.1512 - accuracy: 0.9371 - val_loss: 0.3090 - val_accuracy: 0.8706\n",
            "Epoch 130/400\n",
            "125/125 [==============================] - 1s 5ms/step - loss: 0.1518 - accuracy: 0.9408 - val_loss: 0.3102 - val_accuracy: 0.8728\n",
            "Epoch 131/400\n",
            "125/125 [==============================] - 1s 5ms/step - loss: 0.1575 - accuracy: 0.9365 - val_loss: 0.3122 - val_accuracy: 0.8698\n",
            "Epoch 132/400\n",
            "125/125 [==============================] - 1s 4ms/step - loss: 0.1521 - accuracy: 0.9383 - val_loss: 0.3222 - val_accuracy: 0.8743\n",
            "Epoch 133/400\n",
            "125/125 [==============================] - 1s 4ms/step - loss: 0.1523 - accuracy: 0.9383 - val_loss: 0.3142 - val_accuracy: 0.8693\n",
            "Epoch 134/400\n",
            "125/125 [==============================] - 1s 4ms/step - loss: 0.1508 - accuracy: 0.9400 - val_loss: 0.3133 - val_accuracy: 0.8708\n",
            "Epoch 135/400\n",
            "125/125 [==============================] - 1s 4ms/step - loss: 0.1561 - accuracy: 0.9357 - val_loss: 0.3129 - val_accuracy: 0.8776\n",
            "Epoch 136/400\n",
            "125/125 [==============================] - 0s 4ms/step - loss: 0.1546 - accuracy: 0.9367 - val_loss: 0.3135 - val_accuracy: 0.8733\n",
            "Epoch 137/400\n",
            "125/125 [==============================] - 1s 5ms/step - loss: 0.1543 - accuracy: 0.9398 - val_loss: 0.3143 - val_accuracy: 0.8711\n",
            "Epoch 138/400\n",
            "125/125 [==============================] - 1s 5ms/step - loss: 0.1499 - accuracy: 0.9399 - val_loss: 0.3156 - val_accuracy: 0.8686\n",
            "Epoch 139/400\n",
            "125/125 [==============================] - 1s 5ms/step - loss: 0.1528 - accuracy: 0.9393 - val_loss: 0.3164 - val_accuracy: 0.8728\n",
            "Epoch 140/400\n",
            "125/125 [==============================] - 1s 4ms/step - loss: 0.1546 - accuracy: 0.9374 - val_loss: 0.3164 - val_accuracy: 0.8768\n",
            "Epoch 141/400\n",
            "125/125 [==============================] - 1s 4ms/step - loss: 0.1496 - accuracy: 0.9386 - val_loss: 0.3215 - val_accuracy: 0.8783\n",
            "Epoch 142/400\n",
            "125/125 [==============================] - 1s 4ms/step - loss: 0.1466 - accuracy: 0.9426 - val_loss: 0.3090 - val_accuracy: 0.8713\n",
            "Epoch 143/400\n",
            "125/125 [==============================] - 1s 4ms/step - loss: 0.1480 - accuracy: 0.9410 - val_loss: 0.3220 - val_accuracy: 0.8723\n",
            "Epoch 144/400\n",
            "125/125 [==============================] - 1s 4ms/step - loss: 0.1463 - accuracy: 0.9408 - val_loss: 0.3164 - val_accuracy: 0.8706\n",
            "Epoch 145/400\n",
            "125/125 [==============================] - 1s 5ms/step - loss: 0.1466 - accuracy: 0.9415 - val_loss: 0.3154 - val_accuracy: 0.8796\n",
            "Epoch 146/400\n",
            "125/125 [==============================] - 1s 4ms/step - loss: 0.1466 - accuracy: 0.9420 - val_loss: 0.3128 - val_accuracy: 0.8771\n",
            "Epoch 147/400\n",
            "125/125 [==============================] - 1s 5ms/step - loss: 0.1488 - accuracy: 0.9399 - val_loss: 0.3271 - val_accuracy: 0.8620\n",
            "Epoch 148/400\n",
            "125/125 [==============================] - 1s 5ms/step - loss: 0.1445 - accuracy: 0.9413 - val_loss: 0.3126 - val_accuracy: 0.8741\n",
            "Epoch 149/400\n",
            "125/125 [==============================] - 1s 5ms/step - loss: 0.1482 - accuracy: 0.9403 - val_loss: 0.3200 - val_accuracy: 0.8741\n",
            "Epoch 150/400\n",
            "125/125 [==============================] - 1s 4ms/step - loss: 0.1447 - accuracy: 0.9418 - val_loss: 0.3192 - val_accuracy: 0.8681\n",
            "Epoch 151/400\n",
            "125/125 [==============================] - 1s 4ms/step - loss: 0.1497 - accuracy: 0.9402 - val_loss: 0.3287 - val_accuracy: 0.8721\n",
            "Epoch 152/400\n",
            "125/125 [==============================] - 1s 5ms/step - loss: 0.1452 - accuracy: 0.9401 - val_loss: 0.3206 - val_accuracy: 0.8721\n",
            "Epoch 153/400\n",
            "125/125 [==============================] - 1s 5ms/step - loss: 0.1470 - accuracy: 0.9427 - val_loss: 0.3200 - val_accuracy: 0.8686\n",
            "Epoch 154/400\n",
            "125/125 [==============================] - 1s 5ms/step - loss: 0.1469 - accuracy: 0.9407 - val_loss: 0.3178 - val_accuracy: 0.8748\n",
            "Epoch 155/400\n",
            "125/125 [==============================] - 1s 4ms/step - loss: 0.1489 - accuracy: 0.9395 - val_loss: 0.3153 - val_accuracy: 0.8728\n",
            "Epoch 156/400\n",
            "125/125 [==============================] - 1s 5ms/step - loss: 0.1387 - accuracy: 0.9450 - val_loss: 0.3190 - val_accuracy: 0.8773\n",
            "Epoch 157/400\n",
            "125/125 [==============================] - 1s 4ms/step - loss: 0.1439 - accuracy: 0.9414 - val_loss: 0.3274 - val_accuracy: 0.8683\n",
            "Epoch 158/400\n",
            "125/125 [==============================] - 1s 4ms/step - loss: 0.1436 - accuracy: 0.9432 - val_loss: 0.3231 - val_accuracy: 0.8763\n",
            "Epoch 159/400\n",
            "125/125 [==============================] - 1s 4ms/step - loss: 0.1420 - accuracy: 0.9427 - val_loss: 0.3243 - val_accuracy: 0.8671\n",
            "Epoch 160/400\n",
            "125/125 [==============================] - 1s 4ms/step - loss: 0.1433 - accuracy: 0.9435 - val_loss: 0.3226 - val_accuracy: 0.8741\n",
            "Epoch 161/400\n",
            "125/125 [==============================] - 1s 5ms/step - loss: 0.1420 - accuracy: 0.9446 - val_loss: 0.3233 - val_accuracy: 0.8748\n",
            "Epoch 162/400\n",
            "125/125 [==============================] - 1s 4ms/step - loss: 0.1365 - accuracy: 0.9452 - val_loss: 0.3197 - val_accuracy: 0.8746\n",
            "Epoch 163/400\n",
            "125/125 [==============================] - 1s 4ms/step - loss: 0.1412 - accuracy: 0.9441 - val_loss: 0.3230 - val_accuracy: 0.8746\n",
            "Epoch 164/400\n",
            "125/125 [==============================] - 1s 4ms/step - loss: 0.1380 - accuracy: 0.9448 - val_loss: 0.3226 - val_accuracy: 0.8743\n",
            "Epoch 165/400\n",
            "125/125 [==============================] - 1s 4ms/step - loss: 0.1398 - accuracy: 0.9425 - val_loss: 0.3270 - val_accuracy: 0.8723\n",
            "Epoch 166/400\n",
            "125/125 [==============================] - 1s 5ms/step - loss: 0.1413 - accuracy: 0.9425 - val_loss: 0.3255 - val_accuracy: 0.8733\n",
            "Epoch 167/400\n",
            "125/125 [==============================] - 1s 4ms/step - loss: 0.1368 - accuracy: 0.9443 - val_loss: 0.3279 - val_accuracy: 0.8693\n",
            "Epoch 168/400\n",
            "125/125 [==============================] - 1s 4ms/step - loss: 0.1441 - accuracy: 0.9427 - val_loss: 0.3263 - val_accuracy: 0.8676\n",
            "Epoch 169/400\n",
            "125/125 [==============================] - 1s 4ms/step - loss: 0.1395 - accuracy: 0.9441 - val_loss: 0.3303 - val_accuracy: 0.8618\n",
            "Epoch 170/400\n",
            "125/125 [==============================] - 1s 4ms/step - loss: 0.1360 - accuracy: 0.9458 - val_loss: 0.3240 - val_accuracy: 0.8758\n",
            "Epoch 171/400\n",
            "125/125 [==============================] - 1s 5ms/step - loss: 0.1353 - accuracy: 0.9464 - val_loss: 0.3198 - val_accuracy: 0.8721\n",
            "Epoch 172/400\n",
            "125/125 [==============================] - 1s 5ms/step - loss: 0.1365 - accuracy: 0.9452 - val_loss: 0.3277 - val_accuracy: 0.8665\n",
            "Epoch 173/400\n",
            "125/125 [==============================] - 1s 4ms/step - loss: 0.1404 - accuracy: 0.9443 - val_loss: 0.3232 - val_accuracy: 0.8686\n",
            "Epoch 174/400\n",
            "125/125 [==============================] - 1s 5ms/step - loss: 0.1405 - accuracy: 0.9442 - val_loss: 0.3267 - val_accuracy: 0.8718\n",
            "Epoch 175/400\n",
            "125/125 [==============================] - 1s 5ms/step - loss: 0.1379 - accuracy: 0.9427 - val_loss: 0.3276 - val_accuracy: 0.8768\n",
            "Epoch 176/400\n",
            "125/125 [==============================] - 1s 4ms/step - loss: 0.1345 - accuracy: 0.9463 - val_loss: 0.3216 - val_accuracy: 0.8741\n",
            "Epoch 177/400\n",
            "125/125 [==============================] - 1s 4ms/step - loss: 0.1376 - accuracy: 0.9457 - val_loss: 0.3286 - val_accuracy: 0.8595\n",
            "Epoch 178/400\n",
            "125/125 [==============================] - 1s 4ms/step - loss: 0.1381 - accuracy: 0.9440 - val_loss: 0.3234 - val_accuracy: 0.8723\n",
            "Epoch 179/400\n",
            "125/125 [==============================] - 1s 5ms/step - loss: 0.1354 - accuracy: 0.9470 - val_loss: 0.3298 - val_accuracy: 0.8728\n",
            "Epoch 180/400\n",
            "125/125 [==============================] - 1s 4ms/step - loss: 0.1323 - accuracy: 0.9455 - val_loss: 0.3324 - val_accuracy: 0.8648\n",
            "Epoch 181/400\n",
            "125/125 [==============================] - 1s 4ms/step - loss: 0.1369 - accuracy: 0.9450 - val_loss: 0.3268 - val_accuracy: 0.8708\n",
            "Epoch 182/400\n",
            "125/125 [==============================] - 1s 4ms/step - loss: 0.1380 - accuracy: 0.9455 - val_loss: 0.3355 - val_accuracy: 0.8773\n",
            "Epoch 183/400\n",
            "125/125 [==============================] - 1s 4ms/step - loss: 0.1344 - accuracy: 0.9474 - val_loss: 0.3335 - val_accuracy: 0.8650\n",
            "Epoch 184/400\n",
            "125/125 [==============================] - 1s 4ms/step - loss: 0.1346 - accuracy: 0.9468 - val_loss: 0.3316 - val_accuracy: 0.8676\n",
            "Epoch 185/400\n",
            "125/125 [==============================] - 1s 4ms/step - loss: 0.1327 - accuracy: 0.9464 - val_loss: 0.3392 - val_accuracy: 0.8741\n",
            "Epoch 186/400\n",
            "125/125 [==============================] - 1s 4ms/step - loss: 0.1333 - accuracy: 0.9470 - val_loss: 0.3315 - val_accuracy: 0.8726\n",
            "Epoch 187/400\n",
            "125/125 [==============================] - 1s 4ms/step - loss: 0.1323 - accuracy: 0.9462 - val_loss: 0.3300 - val_accuracy: 0.8718\n",
            "Epoch 188/400\n",
            "125/125 [==============================] - 1s 5ms/step - loss: 0.1316 - accuracy: 0.9479 - val_loss: 0.3252 - val_accuracy: 0.8763\n",
            "Epoch 189/400\n",
            "125/125 [==============================] - 1s 5ms/step - loss: 0.1338 - accuracy: 0.9465 - val_loss: 0.3256 - val_accuracy: 0.8676\n",
            "Epoch 190/400\n",
            "125/125 [==============================] - 1s 4ms/step - loss: 0.1342 - accuracy: 0.9476 - val_loss: 0.3344 - val_accuracy: 0.8713\n",
            "Epoch 191/400\n",
            "125/125 [==============================] - 1s 5ms/step - loss: 0.1302 - accuracy: 0.9467 - val_loss: 0.3340 - val_accuracy: 0.8758\n",
            "Epoch 192/400\n",
            "125/125 [==============================] - 1s 4ms/step - loss: 0.1291 - accuracy: 0.9484 - val_loss: 0.3353 - val_accuracy: 0.8676\n",
            "Epoch 193/400\n",
            "125/125 [==============================] - 1s 4ms/step - loss: 0.1364 - accuracy: 0.9445 - val_loss: 0.3392 - val_accuracy: 0.8728\n",
            "Epoch 194/400\n",
            "125/125 [==============================] - 1s 4ms/step - loss: 0.1369 - accuracy: 0.9458 - val_loss: 0.3344 - val_accuracy: 0.8693\n",
            "Epoch 195/400\n",
            "125/125 [==============================] - 1s 4ms/step - loss: 0.1370 - accuracy: 0.9460 - val_loss: 0.3355 - val_accuracy: 0.8658\n",
            "Epoch 196/400\n",
            "125/125 [==============================] - 1s 4ms/step - loss: 0.1296 - accuracy: 0.9484 - val_loss: 0.3308 - val_accuracy: 0.8748\n",
            "Epoch 197/400\n",
            "125/125 [==============================] - 1s 5ms/step - loss: 0.1302 - accuracy: 0.9472 - val_loss: 0.3302 - val_accuracy: 0.8610\n",
            "Epoch 198/400\n",
            "125/125 [==============================] - 1s 4ms/step - loss: 0.1322 - accuracy: 0.9492 - val_loss: 0.3341 - val_accuracy: 0.8698\n",
            "Epoch 199/400\n",
            "125/125 [==============================] - 1s 5ms/step - loss: 0.1280 - accuracy: 0.9482 - val_loss: 0.3327 - val_accuracy: 0.8681\n",
            "Epoch 200/400\n",
            "125/125 [==============================] - 1s 4ms/step - loss: 0.1313 - accuracy: 0.9471 - val_loss: 0.3391 - val_accuracy: 0.8650\n",
            "Epoch 201/400\n",
            "125/125 [==============================] - 1s 4ms/step - loss: 0.1250 - accuracy: 0.9528 - val_loss: 0.3478 - val_accuracy: 0.8633\n",
            "Epoch 202/400\n",
            "125/125 [==============================] - 1s 5ms/step - loss: 0.1307 - accuracy: 0.9481 - val_loss: 0.3295 - val_accuracy: 0.8648\n",
            "Epoch 203/400\n",
            "125/125 [==============================] - 1s 4ms/step - loss: 0.1294 - accuracy: 0.9469 - val_loss: 0.3335 - val_accuracy: 0.8645\n",
            "Epoch 204/400\n",
            "125/125 [==============================] - 1s 5ms/step - loss: 0.1286 - accuracy: 0.9482 - val_loss: 0.3373 - val_accuracy: 0.8693\n",
            "Epoch 205/400\n",
            "125/125 [==============================] - 1s 4ms/step - loss: 0.1286 - accuracy: 0.9499 - val_loss: 0.3337 - val_accuracy: 0.8640\n",
            "Epoch 206/400\n",
            "125/125 [==============================] - 1s 4ms/step - loss: 0.1310 - accuracy: 0.9474 - val_loss: 0.3384 - val_accuracy: 0.8698\n",
            "Epoch 207/400\n",
            "125/125 [==============================] - 1s 4ms/step - loss: 0.1279 - accuracy: 0.9472 - val_loss: 0.3369 - val_accuracy: 0.8763\n",
            "Epoch 208/400\n",
            "125/125 [==============================] - 1s 4ms/step - loss: 0.1342 - accuracy: 0.9453 - val_loss: 0.3360 - val_accuracy: 0.8723\n",
            "Epoch 209/400\n",
            "125/125 [==============================] - 1s 4ms/step - loss: 0.1301 - accuracy: 0.9469 - val_loss: 0.3416 - val_accuracy: 0.8771\n",
            "Epoch 210/400\n",
            "125/125 [==============================] - 1s 4ms/step - loss: 0.1269 - accuracy: 0.9506 - val_loss: 0.3414 - val_accuracy: 0.8676\n",
            "Epoch 211/400\n",
            "125/125 [==============================] - 1s 4ms/step - loss: 0.1270 - accuracy: 0.9496 - val_loss: 0.3396 - val_accuracy: 0.8678\n",
            "Epoch 212/400\n",
            "125/125 [==============================] - 1s 4ms/step - loss: 0.1292 - accuracy: 0.9474 - val_loss: 0.3396 - val_accuracy: 0.8681\n",
            "Epoch 213/400\n",
            "125/125 [==============================] - 1s 4ms/step - loss: 0.1260 - accuracy: 0.9486 - val_loss: 0.3415 - val_accuracy: 0.8721\n",
            "Epoch 214/400\n",
            "125/125 [==============================] - 1s 4ms/step - loss: 0.1280 - accuracy: 0.9464 - val_loss: 0.3401 - val_accuracy: 0.8678\n",
            "Epoch 215/400\n",
            "125/125 [==============================] - 1s 4ms/step - loss: 0.1214 - accuracy: 0.9524 - val_loss: 0.3507 - val_accuracy: 0.8678\n",
            "Epoch 216/400\n",
            "125/125 [==============================] - 1s 4ms/step - loss: 0.1323 - accuracy: 0.9455 - val_loss: 0.3402 - val_accuracy: 0.8671\n",
            "Epoch 217/400\n",
            "125/125 [==============================] - 1s 4ms/step - loss: 0.1308 - accuracy: 0.9449 - val_loss: 0.3433 - val_accuracy: 0.8711\n",
            "Epoch 218/400\n",
            "125/125 [==============================] - 1s 5ms/step - loss: 0.1293 - accuracy: 0.9450 - val_loss: 0.3431 - val_accuracy: 0.8708\n",
            "Epoch 219/400\n",
            "125/125 [==============================] - 1s 4ms/step - loss: 0.1226 - accuracy: 0.9525 - val_loss: 0.3332 - val_accuracy: 0.8673\n",
            "Epoch 220/400\n",
            "125/125 [==============================] - 1s 5ms/step - loss: 0.1271 - accuracy: 0.9489 - val_loss: 0.3446 - val_accuracy: 0.8660\n",
            "Epoch 221/400\n",
            "125/125 [==============================] - 1s 4ms/step - loss: 0.1272 - accuracy: 0.9489 - val_loss: 0.3498 - val_accuracy: 0.8635\n",
            "Epoch 222/400\n",
            "125/125 [==============================] - 1s 4ms/step - loss: 0.1270 - accuracy: 0.9474 - val_loss: 0.3440 - val_accuracy: 0.8620\n",
            "Epoch 223/400\n",
            "125/125 [==============================] - 1s 5ms/step - loss: 0.1194 - accuracy: 0.9517 - val_loss: 0.3427 - val_accuracy: 0.8653\n",
            "Epoch 224/400\n",
            "125/125 [==============================] - 1s 5ms/step - loss: 0.1293 - accuracy: 0.9479 - val_loss: 0.3372 - val_accuracy: 0.8691\n",
            "Epoch 225/400\n",
            "125/125 [==============================] - 1s 5ms/step - loss: 0.1248 - accuracy: 0.9492 - val_loss: 0.3427 - val_accuracy: 0.8676\n",
            "Epoch 226/400\n",
            "125/125 [==============================] - 1s 5ms/step - loss: 0.1231 - accuracy: 0.9482 - val_loss: 0.3455 - val_accuracy: 0.8691\n",
            "Epoch 227/400\n",
            "125/125 [==============================] - 1s 4ms/step - loss: 0.1244 - accuracy: 0.9500 - val_loss: 0.3401 - val_accuracy: 0.8688\n",
            "Epoch 228/400\n",
            "125/125 [==============================] - 1s 4ms/step - loss: 0.1231 - accuracy: 0.9508 - val_loss: 0.3537 - val_accuracy: 0.8763\n",
            "Epoch 229/400\n",
            "125/125 [==============================] - 1s 4ms/step - loss: 0.1208 - accuracy: 0.9509 - val_loss: 0.3582 - val_accuracy: 0.8645\n",
            "Epoch 230/400\n",
            "125/125 [==============================] - 1s 4ms/step - loss: 0.1249 - accuracy: 0.9499 - val_loss: 0.3466 - val_accuracy: 0.8713\n",
            "Epoch 231/400\n",
            "125/125 [==============================] - 1s 4ms/step - loss: 0.1274 - accuracy: 0.9492 - val_loss: 0.3473 - val_accuracy: 0.8718\n",
            "Epoch 232/400\n",
            "125/125 [==============================] - 1s 4ms/step - loss: 0.1231 - accuracy: 0.9508 - val_loss: 0.3430 - val_accuracy: 0.8678\n",
            "Epoch 233/400\n",
            "125/125 [==============================] - 1s 4ms/step - loss: 0.1292 - accuracy: 0.9472 - val_loss: 0.3476 - val_accuracy: 0.8721\n",
            "Epoch 234/400\n",
            "125/125 [==============================] - 1s 5ms/step - loss: 0.1158 - accuracy: 0.9538 - val_loss: 0.3465 - val_accuracy: 0.8708\n",
            "Epoch 235/400\n",
            "125/125 [==============================] - 1s 4ms/step - loss: 0.1271 - accuracy: 0.9474 - val_loss: 0.3504 - val_accuracy: 0.8723\n",
            "Epoch 236/400\n",
            "125/125 [==============================] - 1s 4ms/step - loss: 0.1221 - accuracy: 0.9515 - val_loss: 0.3515 - val_accuracy: 0.8618\n",
            "Epoch 237/400\n",
            "125/125 [==============================] - 1s 5ms/step - loss: 0.1255 - accuracy: 0.9493 - val_loss: 0.3515 - val_accuracy: 0.8665\n",
            "Epoch 238/400\n",
            "125/125 [==============================] - 1s 5ms/step - loss: 0.1231 - accuracy: 0.9503 - val_loss: 0.3464 - val_accuracy: 0.8696\n",
            "Epoch 239/400\n",
            "125/125 [==============================] - 1s 4ms/step - loss: 0.1221 - accuracy: 0.9507 - val_loss: 0.3504 - val_accuracy: 0.8711\n",
            "Epoch 240/400\n",
            "125/125 [==============================] - 1s 4ms/step - loss: 0.1197 - accuracy: 0.9522 - val_loss: 0.3495 - val_accuracy: 0.8648\n",
            "Epoch 241/400\n",
            "125/125 [==============================] - 1s 4ms/step - loss: 0.1237 - accuracy: 0.9486 - val_loss: 0.3486 - val_accuracy: 0.8658\n",
            "Epoch 242/400\n",
            "125/125 [==============================] - 1s 5ms/step - loss: 0.1188 - accuracy: 0.9508 - val_loss: 0.3430 - val_accuracy: 0.8671\n",
            "Epoch 243/400\n",
            "125/125 [==============================] - 1s 4ms/step - loss: 0.1228 - accuracy: 0.9494 - val_loss: 0.3480 - val_accuracy: 0.8676\n",
            "Epoch 244/400\n",
            "125/125 [==============================] - 1s 4ms/step - loss: 0.1254 - accuracy: 0.9492 - val_loss: 0.3475 - val_accuracy: 0.8630\n",
            "Epoch 245/400\n",
            "125/125 [==============================] - 1s 5ms/step - loss: 0.1217 - accuracy: 0.9512 - val_loss: 0.3580 - val_accuracy: 0.8728\n",
            "Epoch 246/400\n",
            "125/125 [==============================] - 1s 4ms/step - loss: 0.1198 - accuracy: 0.9529 - val_loss: 0.3512 - val_accuracy: 0.8610\n",
            "Epoch 247/400\n",
            "125/125 [==============================] - 1s 5ms/step - loss: 0.1208 - accuracy: 0.9486 - val_loss: 0.3607 - val_accuracy: 0.8701\n",
            "Epoch 248/400\n",
            "125/125 [==============================] - 1s 4ms/step - loss: 0.1192 - accuracy: 0.9526 - val_loss: 0.3576 - val_accuracy: 0.8731\n",
            "Epoch 249/400\n",
            "125/125 [==============================] - 1s 4ms/step - loss: 0.1208 - accuracy: 0.9535 - val_loss: 0.3589 - val_accuracy: 0.8686\n",
            "Epoch 250/400\n",
            "125/125 [==============================] - 1s 4ms/step - loss: 0.1212 - accuracy: 0.9510 - val_loss: 0.3540 - val_accuracy: 0.8673\n",
            "Epoch 251/400\n",
            "125/125 [==============================] - 1s 4ms/step - loss: 0.1169 - accuracy: 0.9526 - val_loss: 0.3627 - val_accuracy: 0.8676\n",
            "Epoch 252/400\n",
            "125/125 [==============================] - 1s 4ms/step - loss: 0.1156 - accuracy: 0.9520 - val_loss: 0.3521 - val_accuracy: 0.8711\n",
            "Epoch 253/400\n",
            "125/125 [==============================] - 1s 4ms/step - loss: 0.1200 - accuracy: 0.9531 - val_loss: 0.3538 - val_accuracy: 0.8668\n",
            "Epoch 254/400\n",
            "125/125 [==============================] - 1s 4ms/step - loss: 0.1189 - accuracy: 0.9505 - val_loss: 0.3489 - val_accuracy: 0.8683\n",
            "Epoch 255/400\n",
            "125/125 [==============================] - 1s 5ms/step - loss: 0.1161 - accuracy: 0.9537 - val_loss: 0.3563 - val_accuracy: 0.8585\n",
            "Epoch 256/400\n",
            "125/125 [==============================] - 1s 4ms/step - loss: 0.1226 - accuracy: 0.9497 - val_loss: 0.3536 - val_accuracy: 0.8736\n",
            "Epoch 257/400\n",
            "125/125 [==============================] - 1s 4ms/step - loss: 0.1185 - accuracy: 0.9510 - val_loss: 0.3535 - val_accuracy: 0.8673\n",
            "Epoch 258/400\n",
            "125/125 [==============================] - 1s 4ms/step - loss: 0.1186 - accuracy: 0.9520 - val_loss: 0.3608 - val_accuracy: 0.8688\n",
            "Epoch 259/400\n",
            "125/125 [==============================] - 1s 4ms/step - loss: 0.1236 - accuracy: 0.9504 - val_loss: 0.3528 - val_accuracy: 0.8668\n",
            "Epoch 260/400\n",
            "125/125 [==============================] - 1s 4ms/step - loss: 0.1136 - accuracy: 0.9528 - val_loss: 0.3452 - val_accuracy: 0.8683\n",
            "Epoch 261/400\n",
            "125/125 [==============================] - 1s 5ms/step - loss: 0.1204 - accuracy: 0.9520 - val_loss: 0.3577 - val_accuracy: 0.8635\n",
            "Epoch 262/400\n",
            "125/125 [==============================] - 1s 4ms/step - loss: 0.1228 - accuracy: 0.9482 - val_loss: 0.3512 - val_accuracy: 0.8660\n",
            "Epoch 263/400\n",
            "125/125 [==============================] - 1s 5ms/step - loss: 0.1199 - accuracy: 0.9542 - val_loss: 0.3613 - val_accuracy: 0.8613\n",
            "Epoch 264/400\n",
            "125/125 [==============================] - 1s 4ms/step - loss: 0.1216 - accuracy: 0.9511 - val_loss: 0.3552 - val_accuracy: 0.8638\n",
            "Epoch 265/400\n",
            "125/125 [==============================] - 1s 4ms/step - loss: 0.1169 - accuracy: 0.9542 - val_loss: 0.3662 - val_accuracy: 0.8645\n",
            "Epoch 266/400\n",
            "125/125 [==============================] - 1s 4ms/step - loss: 0.1196 - accuracy: 0.9531 - val_loss: 0.3569 - val_accuracy: 0.8660\n",
            "Epoch 267/400\n",
            "125/125 [==============================] - 1s 5ms/step - loss: 0.1200 - accuracy: 0.9514 - val_loss: 0.3569 - val_accuracy: 0.8681\n",
            "Epoch 268/400\n",
            "125/125 [==============================] - 1s 4ms/step - loss: 0.1241 - accuracy: 0.9512 - val_loss: 0.3456 - val_accuracy: 0.8693\n",
            "Epoch 269/400\n",
            "125/125 [==============================] - 1s 4ms/step - loss: 0.1165 - accuracy: 0.9537 - val_loss: 0.3578 - val_accuracy: 0.8653\n",
            "Epoch 270/400\n",
            "125/125 [==============================] - 1s 4ms/step - loss: 0.1152 - accuracy: 0.9521 - val_loss: 0.3577 - val_accuracy: 0.8640\n",
            "Epoch 271/400\n",
            "125/125 [==============================] - 1s 4ms/step - loss: 0.1171 - accuracy: 0.9517 - val_loss: 0.3571 - val_accuracy: 0.8635\n",
            "Epoch 272/400\n",
            "125/125 [==============================] - 1s 5ms/step - loss: 0.1141 - accuracy: 0.9539 - val_loss: 0.3626 - val_accuracy: 0.8698\n",
            "Epoch 273/400\n",
            "125/125 [==============================] - 1s 5ms/step - loss: 0.1153 - accuracy: 0.9546 - val_loss: 0.3495 - val_accuracy: 0.8741\n",
            "Epoch 274/400\n",
            "125/125 [==============================] - 1s 4ms/step - loss: 0.1197 - accuracy: 0.9499 - val_loss: 0.3521 - val_accuracy: 0.8718\n",
            "Epoch 275/400\n",
            "125/125 [==============================] - 1s 4ms/step - loss: 0.1139 - accuracy: 0.9544 - val_loss: 0.3572 - val_accuracy: 0.8683\n",
            "Epoch 276/400\n",
            "125/125 [==============================] - 1s 4ms/step - loss: 0.1168 - accuracy: 0.9536 - val_loss: 0.3558 - val_accuracy: 0.8686\n",
            "Epoch 277/400\n",
            "125/125 [==============================] - 1s 4ms/step - loss: 0.1157 - accuracy: 0.9537 - val_loss: 0.3636 - val_accuracy: 0.8713\n",
            "Epoch 278/400\n",
            "125/125 [==============================] - 1s 4ms/step - loss: 0.1166 - accuracy: 0.9531 - val_loss: 0.3649 - val_accuracy: 0.8663\n",
            "Epoch 279/400\n",
            "125/125 [==============================] - 1s 4ms/step - loss: 0.1130 - accuracy: 0.9532 - val_loss: 0.3572 - val_accuracy: 0.8658\n",
            "Epoch 280/400\n",
            "125/125 [==============================] - 1s 5ms/step - loss: 0.1192 - accuracy: 0.9510 - val_loss: 0.3622 - val_accuracy: 0.8681\n",
            "Epoch 281/400\n",
            "125/125 [==============================] - 1s 5ms/step - loss: 0.1162 - accuracy: 0.9534 - val_loss: 0.3565 - val_accuracy: 0.8701\n",
            "Epoch 282/400\n",
            "125/125 [==============================] - 1s 5ms/step - loss: 0.1110 - accuracy: 0.9557 - val_loss: 0.3521 - val_accuracy: 0.8736\n",
            "Epoch 283/400\n",
            "125/125 [==============================] - 1s 4ms/step - loss: 0.1138 - accuracy: 0.9552 - val_loss: 0.3605 - val_accuracy: 0.8620\n",
            "Epoch 284/400\n",
            "125/125 [==============================] - 1s 5ms/step - loss: 0.1151 - accuracy: 0.9547 - val_loss: 0.3646 - val_accuracy: 0.8673\n",
            "Epoch 285/400\n",
            "125/125 [==============================] - 1s 5ms/step - loss: 0.1086 - accuracy: 0.9571 - val_loss: 0.3693 - val_accuracy: 0.8693\n",
            "Epoch 286/400\n",
            "125/125 [==============================] - 1s 5ms/step - loss: 0.1169 - accuracy: 0.9531 - val_loss: 0.3656 - val_accuracy: 0.8736\n",
            "Epoch 287/400\n",
            "125/125 [==============================] - 1s 4ms/step - loss: 0.1167 - accuracy: 0.9520 - val_loss: 0.3603 - val_accuracy: 0.8703\n",
            "Epoch 288/400\n",
            "125/125 [==============================] - 1s 5ms/step - loss: 0.1185 - accuracy: 0.9494 - val_loss: 0.3551 - val_accuracy: 0.8610\n",
            "Epoch 289/400\n",
            "125/125 [==============================] - 1s 5ms/step - loss: 0.1149 - accuracy: 0.9530 - val_loss: 0.3549 - val_accuracy: 0.8698\n",
            "Epoch 290/400\n",
            "125/125 [==============================] - 1s 4ms/step - loss: 0.1156 - accuracy: 0.9551 - val_loss: 0.3664 - val_accuracy: 0.8663\n",
            "Epoch 291/400\n",
            "125/125 [==============================] - 1s 5ms/step - loss: 0.1137 - accuracy: 0.9537 - val_loss: 0.3659 - val_accuracy: 0.8718\n",
            "Epoch 292/400\n",
            "125/125 [==============================] - 1s 4ms/step - loss: 0.1143 - accuracy: 0.9533 - val_loss: 0.3667 - val_accuracy: 0.8703\n",
            "Epoch 293/400\n",
            "125/125 [==============================] - 1s 4ms/step - loss: 0.1155 - accuracy: 0.9522 - val_loss: 0.3705 - val_accuracy: 0.8721\n",
            "Epoch 294/400\n",
            "125/125 [==============================] - 1s 4ms/step - loss: 0.1192 - accuracy: 0.9517 - val_loss: 0.3675 - val_accuracy: 0.8693\n",
            "Epoch 295/400\n",
            "125/125 [==============================] - 1s 4ms/step - loss: 0.1178 - accuracy: 0.9532 - val_loss: 0.3608 - val_accuracy: 0.8736\n",
            "Epoch 296/400\n",
            "125/125 [==============================] - 1s 4ms/step - loss: 0.1119 - accuracy: 0.9548 - val_loss: 0.3702 - val_accuracy: 0.8731\n",
            "Epoch 297/400\n",
            "125/125 [==============================] - 1s 4ms/step - loss: 0.1174 - accuracy: 0.9528 - val_loss: 0.3682 - val_accuracy: 0.8711\n",
            "Epoch 298/400\n",
            "125/125 [==============================] - 1s 5ms/step - loss: 0.1109 - accuracy: 0.9554 - val_loss: 0.3634 - val_accuracy: 0.8635\n",
            "Epoch 299/400\n",
            "125/125 [==============================] - 1s 4ms/step - loss: 0.1113 - accuracy: 0.9539 - val_loss: 0.3671 - val_accuracy: 0.8605\n",
            "Epoch 300/400\n",
            "125/125 [==============================] - 1s 4ms/step - loss: 0.1156 - accuracy: 0.9535 - val_loss: 0.3650 - val_accuracy: 0.8668\n",
            "Epoch 301/400\n",
            "125/125 [==============================] - 1s 4ms/step - loss: 0.1099 - accuracy: 0.9557 - val_loss: 0.3775 - val_accuracy: 0.8688\n",
            "Epoch 302/400\n",
            "125/125 [==============================] - 1s 4ms/step - loss: 0.1174 - accuracy: 0.9515 - val_loss: 0.3707 - val_accuracy: 0.8696\n",
            "Epoch 303/400\n",
            "125/125 [==============================] - 1s 5ms/step - loss: 0.1166 - accuracy: 0.9538 - val_loss: 0.3673 - val_accuracy: 0.8668\n",
            "Epoch 304/400\n",
            "125/125 [==============================] - 1s 4ms/step - loss: 0.1123 - accuracy: 0.9529 - val_loss: 0.3671 - val_accuracy: 0.8686\n",
            "Epoch 305/400\n",
            "125/125 [==============================] - 1s 4ms/step - loss: 0.1121 - accuracy: 0.9544 - val_loss: 0.3713 - val_accuracy: 0.8643\n",
            "Epoch 306/400\n",
            "125/125 [==============================] - 1s 5ms/step - loss: 0.1112 - accuracy: 0.9546 - val_loss: 0.3705 - val_accuracy: 0.8648\n",
            "Epoch 307/400\n",
            "125/125 [==============================] - 1s 4ms/step - loss: 0.1149 - accuracy: 0.9527 - val_loss: 0.3645 - val_accuracy: 0.8638\n",
            "Epoch 308/400\n",
            "125/125 [==============================] - 1s 5ms/step - loss: 0.1093 - accuracy: 0.9547 - val_loss: 0.3708 - val_accuracy: 0.8686\n",
            "Epoch 309/400\n",
            "125/125 [==============================] - 1s 5ms/step - loss: 0.1145 - accuracy: 0.9529 - val_loss: 0.3666 - val_accuracy: 0.8653\n",
            "Epoch 310/400\n",
            "125/125 [==============================] - 1s 4ms/step - loss: 0.1099 - accuracy: 0.9550 - val_loss: 0.3704 - val_accuracy: 0.8640\n",
            "Epoch 311/400\n",
            "125/125 [==============================] - 1s 4ms/step - loss: 0.1105 - accuracy: 0.9555 - val_loss: 0.3690 - val_accuracy: 0.8660\n",
            "Epoch 312/400\n",
            "125/125 [==============================] - 1s 4ms/step - loss: 0.1099 - accuracy: 0.9553 - val_loss: 0.3667 - val_accuracy: 0.8663\n",
            "Epoch 313/400\n",
            "125/125 [==============================] - 1s 4ms/step - loss: 0.1106 - accuracy: 0.9539 - val_loss: 0.3680 - val_accuracy: 0.8665\n",
            "Epoch 314/400\n",
            "125/125 [==============================] - 1s 5ms/step - loss: 0.1119 - accuracy: 0.9553 - val_loss: 0.3735 - val_accuracy: 0.8600\n",
            "Epoch 315/400\n",
            "125/125 [==============================] - 1s 5ms/step - loss: 0.1102 - accuracy: 0.9550 - val_loss: 0.3686 - val_accuracy: 0.8618\n",
            "Epoch 316/400\n",
            "125/125 [==============================] - 1s 4ms/step - loss: 0.1128 - accuracy: 0.9547 - val_loss: 0.3640 - val_accuracy: 0.8691\n",
            "Epoch 317/400\n",
            "125/125 [==============================] - 1s 5ms/step - loss: 0.1099 - accuracy: 0.9555 - val_loss: 0.3748 - val_accuracy: 0.8678\n",
            "Epoch 318/400\n",
            "125/125 [==============================] - 1s 4ms/step - loss: 0.1138 - accuracy: 0.9543 - val_loss: 0.3860 - val_accuracy: 0.8693\n",
            "Epoch 319/400\n",
            "125/125 [==============================] - 1s 5ms/step - loss: 0.1095 - accuracy: 0.9558 - val_loss: 0.3714 - val_accuracy: 0.8665\n",
            "Epoch 320/400\n",
            "125/125 [==============================] - 1s 5ms/step - loss: 0.1152 - accuracy: 0.9539 - val_loss: 0.3609 - val_accuracy: 0.8676\n",
            "Epoch 321/400\n",
            "125/125 [==============================] - 1s 5ms/step - loss: 0.1129 - accuracy: 0.9557 - val_loss: 0.3780 - val_accuracy: 0.8655\n",
            "Epoch 322/400\n",
            "125/125 [==============================] - 1s 4ms/step - loss: 0.1118 - accuracy: 0.9556 - val_loss: 0.3759 - val_accuracy: 0.8673\n",
            "Epoch 323/400\n",
            "125/125 [==============================] - 1s 5ms/step - loss: 0.1106 - accuracy: 0.9543 - val_loss: 0.3718 - val_accuracy: 0.8736\n",
            "Epoch 324/400\n",
            "125/125 [==============================] - 1s 5ms/step - loss: 0.1112 - accuracy: 0.9551 - val_loss: 0.3805 - val_accuracy: 0.8683\n",
            "Epoch 325/400\n",
            "125/125 [==============================] - 1s 5ms/step - loss: 0.1044 - accuracy: 0.9579 - val_loss: 0.3883 - val_accuracy: 0.8693\n",
            "Epoch 326/400\n",
            "125/125 [==============================] - 1s 4ms/step - loss: 0.1109 - accuracy: 0.9546 - val_loss: 0.3735 - val_accuracy: 0.8708\n",
            "Epoch 327/400\n",
            "125/125 [==============================] - 1s 5ms/step - loss: 0.1076 - accuracy: 0.9559 - val_loss: 0.3728 - val_accuracy: 0.8723\n",
            "Epoch 328/400\n",
            "125/125 [==============================] - 1s 4ms/step - loss: 0.1121 - accuracy: 0.9552 - val_loss: 0.3721 - val_accuracy: 0.8743\n",
            "Epoch 329/400\n",
            "125/125 [==============================] - 1s 4ms/step - loss: 0.1046 - accuracy: 0.9579 - val_loss: 0.3759 - val_accuracy: 0.8711\n",
            "Epoch 330/400\n",
            "125/125 [==============================] - 1s 4ms/step - loss: 0.1089 - accuracy: 0.9570 - val_loss: 0.3843 - val_accuracy: 0.8696\n",
            "Epoch 331/400\n",
            "125/125 [==============================] - 1s 4ms/step - loss: 0.1073 - accuracy: 0.9576 - val_loss: 0.3774 - val_accuracy: 0.8655\n",
            "Epoch 332/400\n",
            "125/125 [==============================] - 1s 4ms/step - loss: 0.1107 - accuracy: 0.9559 - val_loss: 0.3800 - val_accuracy: 0.8628\n",
            "Epoch 333/400\n",
            "125/125 [==============================] - 1s 4ms/step - loss: 0.1136 - accuracy: 0.9546 - val_loss: 0.3760 - val_accuracy: 0.8726\n",
            "Epoch 334/400\n",
            "125/125 [==============================] - 1s 4ms/step - loss: 0.1064 - accuracy: 0.9569 - val_loss: 0.3806 - val_accuracy: 0.8691\n",
            "Epoch 335/400\n",
            "125/125 [==============================] - 1s 4ms/step - loss: 0.1135 - accuracy: 0.9539 - val_loss: 0.3914 - val_accuracy: 0.8748\n",
            "Epoch 336/400\n",
            "125/125 [==============================] - 1s 4ms/step - loss: 0.1064 - accuracy: 0.9577 - val_loss: 0.3729 - val_accuracy: 0.8640\n",
            "Epoch 337/400\n",
            "125/125 [==============================] - 1s 5ms/step - loss: 0.1013 - accuracy: 0.9592 - val_loss: 0.3740 - val_accuracy: 0.8678\n",
            "Epoch 338/400\n",
            "125/125 [==============================] - 1s 5ms/step - loss: 0.1099 - accuracy: 0.9548 - val_loss: 0.3874 - val_accuracy: 0.8706\n",
            "Epoch 339/400\n",
            "125/125 [==============================] - 1s 4ms/step - loss: 0.1089 - accuracy: 0.9554 - val_loss: 0.3765 - val_accuracy: 0.8613\n",
            "Epoch 340/400\n",
            "125/125 [==============================] - 1s 4ms/step - loss: 0.1112 - accuracy: 0.9543 - val_loss: 0.3835 - val_accuracy: 0.8595\n",
            "Epoch 341/400\n",
            "125/125 [==============================] - 1s 5ms/step - loss: 0.1076 - accuracy: 0.9564 - val_loss: 0.3733 - val_accuracy: 0.8713\n",
            "Epoch 342/400\n",
            "125/125 [==============================] - 1s 4ms/step - loss: 0.1113 - accuracy: 0.9549 - val_loss: 0.3707 - val_accuracy: 0.8726\n",
            "Epoch 343/400\n",
            "125/125 [==============================] - 1s 5ms/step - loss: 0.1128 - accuracy: 0.9554 - val_loss: 0.3742 - val_accuracy: 0.8653\n",
            "Epoch 344/400\n",
            "125/125 [==============================] - 1s 4ms/step - loss: 0.1081 - accuracy: 0.9555 - val_loss: 0.3852 - val_accuracy: 0.8711\n",
            "Epoch 345/400\n",
            "125/125 [==============================] - 1s 4ms/step - loss: 0.1076 - accuracy: 0.9571 - val_loss: 0.3749 - val_accuracy: 0.8736\n",
            "Epoch 346/400\n",
            "125/125 [==============================] - 1s 4ms/step - loss: 0.1052 - accuracy: 0.9597 - val_loss: 0.3807 - val_accuracy: 0.8688\n",
            "Epoch 347/400\n",
            "125/125 [==============================] - 1s 4ms/step - loss: 0.1125 - accuracy: 0.9542 - val_loss: 0.3737 - val_accuracy: 0.8696\n",
            "Epoch 348/400\n",
            "125/125 [==============================] - 1s 5ms/step - loss: 0.1041 - accuracy: 0.9582 - val_loss: 0.3861 - val_accuracy: 0.8706\n",
            "Epoch 349/400\n",
            "125/125 [==============================] - 1s 4ms/step - loss: 0.1058 - accuracy: 0.9594 - val_loss: 0.3739 - val_accuracy: 0.8731\n",
            "Epoch 350/400\n",
            "125/125 [==============================] - 1s 5ms/step - loss: 0.1038 - accuracy: 0.9592 - val_loss: 0.3939 - val_accuracy: 0.8713\n",
            "Epoch 351/400\n",
            "125/125 [==============================] - 1s 4ms/step - loss: 0.1032 - accuracy: 0.9595 - val_loss: 0.3848 - val_accuracy: 0.8706\n",
            "Epoch 352/400\n",
            "125/125 [==============================] - 1s 4ms/step - loss: 0.1063 - accuracy: 0.9570 - val_loss: 0.3886 - val_accuracy: 0.8686\n",
            "Epoch 353/400\n",
            "125/125 [==============================] - 1s 5ms/step - loss: 0.1065 - accuracy: 0.9570 - val_loss: 0.3813 - val_accuracy: 0.8618\n",
            "Epoch 354/400\n",
            "125/125 [==============================] - 1s 5ms/step - loss: 0.1019 - accuracy: 0.9606 - val_loss: 0.3899 - val_accuracy: 0.8663\n",
            "Epoch 355/400\n",
            "125/125 [==============================] - 1s 7ms/step - loss: 0.1096 - accuracy: 0.9564 - val_loss: 0.3897 - val_accuracy: 0.8703\n",
            "Epoch 356/400\n",
            "125/125 [==============================] - 1s 8ms/step - loss: 0.1076 - accuracy: 0.9585 - val_loss: 0.3877 - val_accuracy: 0.8708\n",
            "Epoch 357/400\n",
            "125/125 [==============================] - 1s 7ms/step - loss: 0.1063 - accuracy: 0.9586 - val_loss: 0.3831 - val_accuracy: 0.8655\n",
            "Epoch 358/400\n",
            "125/125 [==============================] - 1s 7ms/step - loss: 0.1048 - accuracy: 0.9575 - val_loss: 0.3835 - val_accuracy: 0.8703\n",
            "Epoch 359/400\n",
            "125/125 [==============================] - 1s 7ms/step - loss: 0.1057 - accuracy: 0.9576 - val_loss: 0.3827 - val_accuracy: 0.8763\n",
            "Epoch 360/400\n",
            "125/125 [==============================] - 1s 7ms/step - loss: 0.1123 - accuracy: 0.9548 - val_loss: 0.3837 - val_accuracy: 0.8673\n",
            "Epoch 361/400\n",
            "125/125 [==============================] - 1s 7ms/step - loss: 0.1045 - accuracy: 0.9572 - val_loss: 0.3822 - val_accuracy: 0.8696\n",
            "Epoch 362/400\n",
            "125/125 [==============================] - 1s 9ms/step - loss: 0.1036 - accuracy: 0.9583 - val_loss: 0.3898 - val_accuracy: 0.8756\n",
            "Epoch 363/400\n",
            "125/125 [==============================] - 1s 7ms/step - loss: 0.1091 - accuracy: 0.9542 - val_loss: 0.3881 - val_accuracy: 0.8743\n",
            "Epoch 364/400\n",
            "125/125 [==============================] - 1s 7ms/step - loss: 0.1037 - accuracy: 0.9585 - val_loss: 0.3771 - val_accuracy: 0.8728\n",
            "Epoch 365/400\n",
            "125/125 [==============================] - 1s 6ms/step - loss: 0.1041 - accuracy: 0.9590 - val_loss: 0.3750 - val_accuracy: 0.8703\n",
            "Epoch 366/400\n",
            "125/125 [==============================] - 1s 6ms/step - loss: 0.1075 - accuracy: 0.9559 - val_loss: 0.3809 - val_accuracy: 0.8618\n",
            "Epoch 367/400\n",
            "125/125 [==============================] - 1s 6ms/step - loss: 0.1082 - accuracy: 0.9557 - val_loss: 0.3851 - val_accuracy: 0.8623\n",
            "Epoch 368/400\n",
            "125/125 [==============================] - 1s 4ms/step - loss: 0.1073 - accuracy: 0.9561 - val_loss: 0.3855 - val_accuracy: 0.8625\n",
            "Epoch 369/400\n",
            "125/125 [==============================] - 1s 4ms/step - loss: 0.1032 - accuracy: 0.9582 - val_loss: 0.3902 - val_accuracy: 0.8738\n",
            "Epoch 370/400\n",
            "125/125 [==============================] - 1s 5ms/step - loss: 0.1078 - accuracy: 0.9559 - val_loss: 0.3890 - val_accuracy: 0.8653\n",
            "Epoch 371/400\n",
            "125/125 [==============================] - 1s 4ms/step - loss: 0.0978 - accuracy: 0.9594 - val_loss: 0.3887 - val_accuracy: 0.8668\n",
            "Epoch 372/400\n",
            "125/125 [==============================] - 1s 5ms/step - loss: 0.1039 - accuracy: 0.9576 - val_loss: 0.3906 - val_accuracy: 0.8716\n",
            "Epoch 373/400\n",
            "125/125 [==============================] - 1s 4ms/step - loss: 0.1064 - accuracy: 0.9572 - val_loss: 0.3824 - val_accuracy: 0.8593\n",
            "Epoch 374/400\n",
            "125/125 [==============================] - 1s 4ms/step - loss: 0.1033 - accuracy: 0.9578 - val_loss: 0.3923 - val_accuracy: 0.8663\n",
            "Epoch 375/400\n",
            "125/125 [==============================] - 1s 4ms/step - loss: 0.1084 - accuracy: 0.9563 - val_loss: 0.3941 - val_accuracy: 0.8676\n",
            "Epoch 376/400\n",
            "125/125 [==============================] - 1s 5ms/step - loss: 0.1056 - accuracy: 0.9581 - val_loss: 0.3952 - val_accuracy: 0.8600\n",
            "Epoch 377/400\n",
            "125/125 [==============================] - 1s 5ms/step - loss: 0.1045 - accuracy: 0.9557 - val_loss: 0.3864 - val_accuracy: 0.8768\n",
            "Epoch 378/400\n",
            "125/125 [==============================] - 1s 4ms/step - loss: 0.1014 - accuracy: 0.9598 - val_loss: 0.3834 - val_accuracy: 0.8676\n",
            "Epoch 379/400\n",
            "125/125 [==============================] - 1s 5ms/step - loss: 0.1028 - accuracy: 0.9591 - val_loss: 0.3813 - val_accuracy: 0.8713\n",
            "Epoch 380/400\n",
            "125/125 [==============================] - 1s 5ms/step - loss: 0.1040 - accuracy: 0.9579 - val_loss: 0.3892 - val_accuracy: 0.8625\n",
            "Epoch 381/400\n",
            "125/125 [==============================] - 1s 5ms/step - loss: 0.1082 - accuracy: 0.9544 - val_loss: 0.3834 - val_accuracy: 0.8648\n",
            "Epoch 382/400\n",
            "125/125 [==============================] - 1s 4ms/step - loss: 0.1026 - accuracy: 0.9592 - val_loss: 0.3854 - val_accuracy: 0.8698\n",
            "Epoch 383/400\n",
            "125/125 [==============================] - 1s 5ms/step - loss: 0.1024 - accuracy: 0.9576 - val_loss: 0.3988 - val_accuracy: 0.8726\n",
            "Epoch 384/400\n",
            "125/125 [==============================] - 1s 4ms/step - loss: 0.1089 - accuracy: 0.9564 - val_loss: 0.4001 - val_accuracy: 0.8746\n",
            "Epoch 385/400\n",
            "125/125 [==============================] - 1s 4ms/step - loss: 0.1025 - accuracy: 0.9572 - val_loss: 0.3908 - val_accuracy: 0.8668\n",
            "Epoch 386/400\n",
            "125/125 [==============================] - 1s 4ms/step - loss: 0.1056 - accuracy: 0.9564 - val_loss: 0.3836 - val_accuracy: 0.8698\n",
            "Epoch 387/400\n",
            "125/125 [==============================] - 1s 4ms/step - loss: 0.1022 - accuracy: 0.9587 - val_loss: 0.3923 - val_accuracy: 0.8658\n",
            "Epoch 388/400\n",
            "125/125 [==============================] - 1s 5ms/step - loss: 0.1073 - accuracy: 0.9569 - val_loss: 0.3867 - val_accuracy: 0.8676\n",
            "Epoch 389/400\n",
            "125/125 [==============================] - 1s 4ms/step - loss: 0.1050 - accuracy: 0.9565 - val_loss: 0.3849 - val_accuracy: 0.8726\n",
            "Epoch 390/400\n",
            "125/125 [==============================] - 1s 4ms/step - loss: 0.1042 - accuracy: 0.9579 - val_loss: 0.3863 - val_accuracy: 0.8711\n",
            "Epoch 391/400\n",
            "125/125 [==============================] - 1s 4ms/step - loss: 0.1017 - accuracy: 0.9581 - val_loss: 0.3927 - val_accuracy: 0.8676\n",
            "Epoch 392/400\n",
            "125/125 [==============================] - 1s 4ms/step - loss: 0.1052 - accuracy: 0.9571 - val_loss: 0.3824 - val_accuracy: 0.8676\n",
            "Epoch 393/400\n",
            "125/125 [==============================] - 1s 5ms/step - loss: 0.1069 - accuracy: 0.9562 - val_loss: 0.3924 - val_accuracy: 0.8718\n",
            "Epoch 394/400\n",
            "125/125 [==============================] - 1s 5ms/step - loss: 0.1025 - accuracy: 0.9581 - val_loss: 0.3990 - val_accuracy: 0.8738\n",
            "Epoch 395/400\n",
            "125/125 [==============================] - 1s 5ms/step - loss: 0.1002 - accuracy: 0.9586 - val_loss: 0.3933 - val_accuracy: 0.8681\n",
            "Epoch 396/400\n",
            "125/125 [==============================] - 1s 5ms/step - loss: 0.1024 - accuracy: 0.9580 - val_loss: 0.3963 - val_accuracy: 0.8703\n",
            "Epoch 397/400\n",
            "125/125 [==============================] - 1s 4ms/step - loss: 0.1045 - accuracy: 0.9569 - val_loss: 0.3984 - val_accuracy: 0.8678\n",
            "Epoch 398/400\n",
            "125/125 [==============================] - 1s 4ms/step - loss: 0.1035 - accuracy: 0.9592 - val_loss: 0.3982 - val_accuracy: 0.8723\n",
            "Epoch 399/400\n",
            "125/125 [==============================] - 1s 5ms/step - loss: 0.1016 - accuracy: 0.9594 - val_loss: 0.3938 - val_accuracy: 0.8640\n",
            "Epoch 400/400\n",
            "125/125 [==============================] - 1s 5ms/step - loss: 0.1025 - accuracy: 0.9585 - val_loss: 0.3927 - val_accuracy: 0.8663\n",
            "125/125 [==============================] - 0s 2ms/step\n"
          ]
        },
        {
          "output_type": "display_data",
          "data": {
            "text/plain": [
              "<IPython.core.display.HTML object>"
            ],
            "text/html": [
              "Waiting for W&B process to finish... <strong style=\"color:green\">(success).</strong>"
            ]
          },
          "metadata": {}
        },
        {
          "output_type": "display_data",
          "data": {
            "text/plain": [
              "VBox(children=(Label(value='19.574 MB of 19.575 MB uploaded (0.007 MB deduped)\\r'), FloatProgress(value=0.9999…"
            ],
            "application/vnd.jupyter.widget-view+json": {
              "version_major": 2,
              "version_minor": 0,
              "model_id": "a4cdc017e8a84dbca0ba81f94310571d"
            }
          },
          "metadata": {}
        },
        {
          "output_type": "display_data",
          "data": {
            "text/plain": [
              "<IPython.core.display.HTML object>"
            ],
            "text/html": [
              "<style>\n",
              "    table.wandb td:nth-child(1) { padding: 0 10px; text-align: left ; width: auto;} td:nth-child(2) {text-align: left ; width: 100%}\n",
              "    .wandb-row { display: flex; flex-direction: row; flex-wrap: wrap; justify-content: flex-start; width: 100% }\n",
              "    .wandb-col { display: flex; flex-direction: column; flex-basis: 100%; flex: 1; padding: 10px; }\n",
              "    </style>\n",
              "<div class=\"wandb-row\"><div class=\"wandb-col\"><h3>Run history:</h3><br/><table class=\"wandb\"><tr><td>accuracy</td><td>▁▃▄▄▅▅▅▅▆▆▆▆▆▇▇▇▇▇▇▇▇▇▇█▇▇██▇███████████</td></tr><tr><td>epoch</td><td>▁▁▁▁▂▂▂▂▂▃▃▃▃▃▃▄▄▄▄▄▅▅▅▅▅▅▆▆▆▆▆▇▇▇▇▇▇███</td></tr><tr><td>eval/accuracy</td><td>▁</td></tr><tr><td>eval/f1</td><td>▁</td></tr><tr><td>eval/precision</td><td>▁</td></tr><tr><td>eval/recall</td><td>▁</td></tr><tr><td>loss</td><td>█▆▅▅▅▄▄▄▃▃▃▃▃▂▂▂▂▂▂▂▂▂▂▂▂▂▂▁▁▁▁▁▁▁▁▁▁▁▁▁</td></tr><tr><td>val_accuracy</td><td>▁▄▇▇▆▆▆▆███▇▆▇▆▇▇▇▆▇▆▆▆▅▅▇▆▆▅▇▆▆▇▆▆▇▅▅▆▆</td></tr><tr><td>val_loss</td><td>▆▃▂▁▁▁▁▁▁▂▂▁▂▂▂▃▃▃▄▃▄▄▄▅▅▅▅▅▅▆▆▆▆▆▇▇▇█▇█</td></tr></table><br/></div><div class=\"wandb-col\"><h3>Run summary:</h3><br/><table class=\"wandb\"><tr><td>accuracy</td><td>0.9585</td></tr><tr><td>best_epoch</td><td>45</td></tr><tr><td>best_val_loss</td><td>0.29036</td></tr><tr><td>epoch</td><td>399</td></tr><tr><td>eval/accuracy</td><td>0.88332</td></tr><tr><td>eval/f1</td><td>0.92689</td></tr><tr><td>eval/precision</td><td>0.89842</td></tr><tr><td>eval/recall</td><td>0.95723</td></tr><tr><td>loss</td><td>0.10251</td></tr><tr><td>val_accuracy</td><td>0.8663</td></tr><tr><td>val_loss</td><td>0.39274</td></tr></table><br/></div></div>"
            ]
          },
          "metadata": {}
        },
        {
          "output_type": "display_data",
          "data": {
            "text/plain": [
              "<IPython.core.display.HTML object>"
            ],
            "text/html": [
              "Synced <strong style=\"color:#cdcd00\">gossipcop-fulltext-sbert+tw+ptbg128-mlp-e400-0</strong>: <a href=\"https://wandb.ai/saloniteam/saloniteam/runs/dafj960p\" target=\"_blank\">https://wandb.ai/saloniteam/saloniteam/runs/dafj960p</a><br/>Synced 5 W&B file(s), 2 media file(s), 77 artifact file(s) and 1 other file(s)"
            ]
          },
          "metadata": {}
        },
        {
          "output_type": "display_data",
          "data": {
            "text/plain": [
              "<IPython.core.display.HTML object>"
            ],
            "text/html": [
              "Find logs at: <code>./wandb/run-20221019_105756-dafj960p/logs</code>"
            ]
          },
          "metadata": {}
        }
      ]
    },
    {
      "cell_type": "code",
      "source": [],
      "metadata": {
        "id": "T22dH9GrNv2t"
      },
      "execution_count": 40,
      "outputs": []
    }
  ]
}