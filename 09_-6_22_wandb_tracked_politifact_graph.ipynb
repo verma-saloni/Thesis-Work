{
  "nbformat": 4,
  "nbformat_minor": 0,
  "metadata": {
    "colab": {
      "name": "politifact_graph.ipynb",
      "provenance": [],
      "collapsed_sections": [
        "qbRXmgXCwoNj"
      ],
      "include_colab_link": true
    },
    "kernelspec": {
      "name": "python3",
      "display_name": "Python 3"
    },
    "language_info": {
      "name": "python"
    },
    "widgets": {
      "application/vnd.jupyter.widget-state+json": {
        "ff106795f8904d72bfdbfe07d25dc7f1": {
          "model_module": "@jupyter-widgets/controls",
          "model_name": "VBoxModel",
          "model_module_version": "1.5.0",
          "state": {
            "_dom_classes": [],
            "_model_module": "@jupyter-widgets/controls",
            "_model_module_version": "1.5.0",
            "_model_name": "VBoxModel",
            "_view_count": null,
            "_view_module": "@jupyter-widgets/controls",
            "_view_module_version": "1.5.0",
            "_view_name": "VBoxView",
            "box_style": "",
            "children": [
              "IPY_MODEL_3e0258748c284888a4c886d7f3f3196e",
              "IPY_MODEL_28392f803b264dcc83322a7323043806"
            ],
            "layout": "IPY_MODEL_e7dfc0f9df8f40c1867e994c9f065cf6"
          }
        },
        "3e0258748c284888a4c886d7f3f3196e": {
          "model_module": "@jupyter-widgets/controls",
          "model_name": "LabelModel",
          "model_module_version": "1.5.0",
          "state": {
            "_dom_classes": [],
            "_model_module": "@jupyter-widgets/controls",
            "_model_module_version": "1.5.0",
            "_model_name": "LabelModel",
            "_view_count": null,
            "_view_module": "@jupyter-widgets/controls",
            "_view_module_version": "1.5.0",
            "_view_name": "LabelView",
            "description": "",
            "description_tooltip": null,
            "layout": "IPY_MODEL_9cdc7d051c54403dbae0bc3b2f4b2e3c",
            "placeholder": "​",
            "style": "IPY_MODEL_cae3248d4a3a4038a4d55f6197f80415",
            "value": "0.012 MB of 0.012 MB uploaded (0.000 MB deduped)\r"
          }
        },
        "28392f803b264dcc83322a7323043806": {
          "model_module": "@jupyter-widgets/controls",
          "model_name": "FloatProgressModel",
          "model_module_version": "1.5.0",
          "state": {
            "_dom_classes": [],
            "_model_module": "@jupyter-widgets/controls",
            "_model_module_version": "1.5.0",
            "_model_name": "FloatProgressModel",
            "_view_count": null,
            "_view_module": "@jupyter-widgets/controls",
            "_view_module_version": "1.5.0",
            "_view_name": "ProgressView",
            "bar_style": "",
            "description": "",
            "description_tooltip": null,
            "layout": "IPY_MODEL_a5f9841ab698461aa5a4ca3a5d47cb25",
            "max": 1,
            "min": 0,
            "orientation": "horizontal",
            "style": "IPY_MODEL_b35e30f59bc94f98a9d7598c9779ae3c",
            "value": 1
          }
        },
        "e7dfc0f9df8f40c1867e994c9f065cf6": {
          "model_module": "@jupyter-widgets/base",
          "model_name": "LayoutModel",
          "model_module_version": "1.2.0",
          "state": {
            "_model_module": "@jupyter-widgets/base",
            "_model_module_version": "1.2.0",
            "_model_name": "LayoutModel",
            "_view_count": null,
            "_view_module": "@jupyter-widgets/base",
            "_view_module_version": "1.2.0",
            "_view_name": "LayoutView",
            "align_content": null,
            "align_items": null,
            "align_self": null,
            "border": null,
            "bottom": null,
            "display": null,
            "flex": null,
            "flex_flow": null,
            "grid_area": null,
            "grid_auto_columns": null,
            "grid_auto_flow": null,
            "grid_auto_rows": null,
            "grid_column": null,
            "grid_gap": null,
            "grid_row": null,
            "grid_template_areas": null,
            "grid_template_columns": null,
            "grid_template_rows": null,
            "height": null,
            "justify_content": null,
            "justify_items": null,
            "left": null,
            "margin": null,
            "max_height": null,
            "max_width": null,
            "min_height": null,
            "min_width": null,
            "object_fit": null,
            "object_position": null,
            "order": null,
            "overflow": null,
            "overflow_x": null,
            "overflow_y": null,
            "padding": null,
            "right": null,
            "top": null,
            "visibility": null,
            "width": null
          }
        },
        "9cdc7d051c54403dbae0bc3b2f4b2e3c": {
          "model_module": "@jupyter-widgets/base",
          "model_name": "LayoutModel",
          "model_module_version": "1.2.0",
          "state": {
            "_model_module": "@jupyter-widgets/base",
            "_model_module_version": "1.2.0",
            "_model_name": "LayoutModel",
            "_view_count": null,
            "_view_module": "@jupyter-widgets/base",
            "_view_module_version": "1.2.0",
            "_view_name": "LayoutView",
            "align_content": null,
            "align_items": null,
            "align_self": null,
            "border": null,
            "bottom": null,
            "display": null,
            "flex": null,
            "flex_flow": null,
            "grid_area": null,
            "grid_auto_columns": null,
            "grid_auto_flow": null,
            "grid_auto_rows": null,
            "grid_column": null,
            "grid_gap": null,
            "grid_row": null,
            "grid_template_areas": null,
            "grid_template_columns": null,
            "grid_template_rows": null,
            "height": null,
            "justify_content": null,
            "justify_items": null,
            "left": null,
            "margin": null,
            "max_height": null,
            "max_width": null,
            "min_height": null,
            "min_width": null,
            "object_fit": null,
            "object_position": null,
            "order": null,
            "overflow": null,
            "overflow_x": null,
            "overflow_y": null,
            "padding": null,
            "right": null,
            "top": null,
            "visibility": null,
            "width": null
          }
        },
        "cae3248d4a3a4038a4d55f6197f80415": {
          "model_module": "@jupyter-widgets/controls",
          "model_name": "DescriptionStyleModel",
          "model_module_version": "1.5.0",
          "state": {
            "_model_module": "@jupyter-widgets/controls",
            "_model_module_version": "1.5.0",
            "_model_name": "DescriptionStyleModel",
            "_view_count": null,
            "_view_module": "@jupyter-widgets/base",
            "_view_module_version": "1.2.0",
            "_view_name": "StyleView",
            "description_width": ""
          }
        },
        "a5f9841ab698461aa5a4ca3a5d47cb25": {
          "model_module": "@jupyter-widgets/base",
          "model_name": "LayoutModel",
          "model_module_version": "1.2.0",
          "state": {
            "_model_module": "@jupyter-widgets/base",
            "_model_module_version": "1.2.0",
            "_model_name": "LayoutModel",
            "_view_count": null,
            "_view_module": "@jupyter-widgets/base",
            "_view_module_version": "1.2.0",
            "_view_name": "LayoutView",
            "align_content": null,
            "align_items": null,
            "align_self": null,
            "border": null,
            "bottom": null,
            "display": null,
            "flex": null,
            "flex_flow": null,
            "grid_area": null,
            "grid_auto_columns": null,
            "grid_auto_flow": null,
            "grid_auto_rows": null,
            "grid_column": null,
            "grid_gap": null,
            "grid_row": null,
            "grid_template_areas": null,
            "grid_template_columns": null,
            "grid_template_rows": null,
            "height": null,
            "justify_content": null,
            "justify_items": null,
            "left": null,
            "margin": null,
            "max_height": null,
            "max_width": null,
            "min_height": null,
            "min_width": null,
            "object_fit": null,
            "object_position": null,
            "order": null,
            "overflow": null,
            "overflow_x": null,
            "overflow_y": null,
            "padding": null,
            "right": null,
            "top": null,
            "visibility": null,
            "width": null
          }
        },
        "b35e30f59bc94f98a9d7598c9779ae3c": {
          "model_module": "@jupyter-widgets/controls",
          "model_name": "ProgressStyleModel",
          "model_module_version": "1.5.0",
          "state": {
            "_model_module": "@jupyter-widgets/controls",
            "_model_module_version": "1.5.0",
            "_model_name": "ProgressStyleModel",
            "_view_count": null,
            "_view_module": "@jupyter-widgets/base",
            "_view_module_version": "1.2.0",
            "_view_name": "StyleView",
            "bar_color": null,
            "description_width": ""
          }
        },
        "f668e837ad874750a052e657c14e6332": {
          "model_module": "@jupyter-widgets/controls",
          "model_name": "VBoxModel",
          "model_module_version": "1.5.0",
          "state": {
            "_dom_classes": [],
            "_model_module": "@jupyter-widgets/controls",
            "_model_module_version": "1.5.0",
            "_model_name": "VBoxModel",
            "_view_count": null,
            "_view_module": "@jupyter-widgets/controls",
            "_view_module_version": "1.5.0",
            "_view_name": "VBoxView",
            "box_style": "",
            "children": [
              "IPY_MODEL_4e440f3ea0cb4b6c851d08bc61410d15",
              "IPY_MODEL_cd0aa5d64dc04b56bf23559f8959d0d8"
            ],
            "layout": "IPY_MODEL_861a586468454bc08b1c7144e1865e69"
          }
        },
        "4e440f3ea0cb4b6c851d08bc61410d15": {
          "model_module": "@jupyter-widgets/controls",
          "model_name": "LabelModel",
          "model_module_version": "1.5.0",
          "state": {
            "_dom_classes": [],
            "_model_module": "@jupyter-widgets/controls",
            "_model_module_version": "1.5.0",
            "_model_name": "LabelModel",
            "_view_count": null,
            "_view_module": "@jupyter-widgets/controls",
            "_view_module_version": "1.5.0",
            "_view_name": "LabelView",
            "description": "",
            "description_tooltip": null,
            "layout": "IPY_MODEL_ce1fede034e04b2c8f164aa6a380f756",
            "placeholder": "​",
            "style": "IPY_MODEL_d529a641eef34fe7a5f5d5f433ec120e",
            "value": "0.012 MB of 0.012 MB uploaded (0.000 MB deduped)\r"
          }
        },
        "cd0aa5d64dc04b56bf23559f8959d0d8": {
          "model_module": "@jupyter-widgets/controls",
          "model_name": "FloatProgressModel",
          "model_module_version": "1.5.0",
          "state": {
            "_dom_classes": [],
            "_model_module": "@jupyter-widgets/controls",
            "_model_module_version": "1.5.0",
            "_model_name": "FloatProgressModel",
            "_view_count": null,
            "_view_module": "@jupyter-widgets/controls",
            "_view_module_version": "1.5.0",
            "_view_name": "ProgressView",
            "bar_style": "",
            "description": "",
            "description_tooltip": null,
            "layout": "IPY_MODEL_5f6b1671837a4542b625b17b9dd58c65",
            "max": 1,
            "min": 0,
            "orientation": "horizontal",
            "style": "IPY_MODEL_6ff2b15f244e45ce852d779ddc320cdc",
            "value": 1
          }
        },
        "861a586468454bc08b1c7144e1865e69": {
          "model_module": "@jupyter-widgets/base",
          "model_name": "LayoutModel",
          "model_module_version": "1.2.0",
          "state": {
            "_model_module": "@jupyter-widgets/base",
            "_model_module_version": "1.2.0",
            "_model_name": "LayoutModel",
            "_view_count": null,
            "_view_module": "@jupyter-widgets/base",
            "_view_module_version": "1.2.0",
            "_view_name": "LayoutView",
            "align_content": null,
            "align_items": null,
            "align_self": null,
            "border": null,
            "bottom": null,
            "display": null,
            "flex": null,
            "flex_flow": null,
            "grid_area": null,
            "grid_auto_columns": null,
            "grid_auto_flow": null,
            "grid_auto_rows": null,
            "grid_column": null,
            "grid_gap": null,
            "grid_row": null,
            "grid_template_areas": null,
            "grid_template_columns": null,
            "grid_template_rows": null,
            "height": null,
            "justify_content": null,
            "justify_items": null,
            "left": null,
            "margin": null,
            "max_height": null,
            "max_width": null,
            "min_height": null,
            "min_width": null,
            "object_fit": null,
            "object_position": null,
            "order": null,
            "overflow": null,
            "overflow_x": null,
            "overflow_y": null,
            "padding": null,
            "right": null,
            "top": null,
            "visibility": null,
            "width": null
          }
        },
        "ce1fede034e04b2c8f164aa6a380f756": {
          "model_module": "@jupyter-widgets/base",
          "model_name": "LayoutModel",
          "model_module_version": "1.2.0",
          "state": {
            "_model_module": "@jupyter-widgets/base",
            "_model_module_version": "1.2.0",
            "_model_name": "LayoutModel",
            "_view_count": null,
            "_view_module": "@jupyter-widgets/base",
            "_view_module_version": "1.2.0",
            "_view_name": "LayoutView",
            "align_content": null,
            "align_items": null,
            "align_self": null,
            "border": null,
            "bottom": null,
            "display": null,
            "flex": null,
            "flex_flow": null,
            "grid_area": null,
            "grid_auto_columns": null,
            "grid_auto_flow": null,
            "grid_auto_rows": null,
            "grid_column": null,
            "grid_gap": null,
            "grid_row": null,
            "grid_template_areas": null,
            "grid_template_columns": null,
            "grid_template_rows": null,
            "height": null,
            "justify_content": null,
            "justify_items": null,
            "left": null,
            "margin": null,
            "max_height": null,
            "max_width": null,
            "min_height": null,
            "min_width": null,
            "object_fit": null,
            "object_position": null,
            "order": null,
            "overflow": null,
            "overflow_x": null,
            "overflow_y": null,
            "padding": null,
            "right": null,
            "top": null,
            "visibility": null,
            "width": null
          }
        },
        "d529a641eef34fe7a5f5d5f433ec120e": {
          "model_module": "@jupyter-widgets/controls",
          "model_name": "DescriptionStyleModel",
          "model_module_version": "1.5.0",
          "state": {
            "_model_module": "@jupyter-widgets/controls",
            "_model_module_version": "1.5.0",
            "_model_name": "DescriptionStyleModel",
            "_view_count": null,
            "_view_module": "@jupyter-widgets/base",
            "_view_module_version": "1.2.0",
            "_view_name": "StyleView",
            "description_width": ""
          }
        },
        "5f6b1671837a4542b625b17b9dd58c65": {
          "model_module": "@jupyter-widgets/base",
          "model_name": "LayoutModel",
          "model_module_version": "1.2.0",
          "state": {
            "_model_module": "@jupyter-widgets/base",
            "_model_module_version": "1.2.0",
            "_model_name": "LayoutModel",
            "_view_count": null,
            "_view_module": "@jupyter-widgets/base",
            "_view_module_version": "1.2.0",
            "_view_name": "LayoutView",
            "align_content": null,
            "align_items": null,
            "align_self": null,
            "border": null,
            "bottom": null,
            "display": null,
            "flex": null,
            "flex_flow": null,
            "grid_area": null,
            "grid_auto_columns": null,
            "grid_auto_flow": null,
            "grid_auto_rows": null,
            "grid_column": null,
            "grid_gap": null,
            "grid_row": null,
            "grid_template_areas": null,
            "grid_template_columns": null,
            "grid_template_rows": null,
            "height": null,
            "justify_content": null,
            "justify_items": null,
            "left": null,
            "margin": null,
            "max_height": null,
            "max_width": null,
            "min_height": null,
            "min_width": null,
            "object_fit": null,
            "object_position": null,
            "order": null,
            "overflow": null,
            "overflow_x": null,
            "overflow_y": null,
            "padding": null,
            "right": null,
            "top": null,
            "visibility": null,
            "width": null
          }
        },
        "6ff2b15f244e45ce852d779ddc320cdc": {
          "model_module": "@jupyter-widgets/controls",
          "model_name": "ProgressStyleModel",
          "model_module_version": "1.5.0",
          "state": {
            "_model_module": "@jupyter-widgets/controls",
            "_model_module_version": "1.5.0",
            "_model_name": "ProgressStyleModel",
            "_view_count": null,
            "_view_module": "@jupyter-widgets/base",
            "_view_module_version": "1.2.0",
            "_view_name": "StyleView",
            "bar_color": null,
            "description_width": ""
          }
        },
        "7932bee259764a2ba061007fb9e9e7db": {
          "model_module": "@jupyter-widgets/controls",
          "model_name": "VBoxModel",
          "model_module_version": "1.5.0",
          "state": {
            "_dom_classes": [],
            "_model_module": "@jupyter-widgets/controls",
            "_model_module_version": "1.5.0",
            "_model_name": "VBoxModel",
            "_view_count": null,
            "_view_module": "@jupyter-widgets/controls",
            "_view_module_version": "1.5.0",
            "_view_name": "VBoxView",
            "box_style": "",
            "children": [
              "IPY_MODEL_3b6eba709e084dd9ba272413f2e52e85",
              "IPY_MODEL_8de6ed54e64c4cc9b83f3ca7460df0d1"
            ],
            "layout": "IPY_MODEL_fa9e473d24724f0e841252a97d1d021b"
          }
        },
        "3b6eba709e084dd9ba272413f2e52e85": {
          "model_module": "@jupyter-widgets/controls",
          "model_name": "LabelModel",
          "model_module_version": "1.5.0",
          "state": {
            "_dom_classes": [],
            "_model_module": "@jupyter-widgets/controls",
            "_model_module_version": "1.5.0",
            "_model_name": "LabelModel",
            "_view_count": null,
            "_view_module": "@jupyter-widgets/controls",
            "_view_module_version": "1.5.0",
            "_view_name": "LabelView",
            "description": "",
            "description_tooltip": null,
            "layout": "IPY_MODEL_ce8f540fd6fa4e388984d4a4a7719a27",
            "placeholder": "​",
            "style": "IPY_MODEL_b6a084df08c4472783e69ce2a70afa3a",
            "value": "0.012 MB of 0.012 MB uploaded (0.000 MB deduped)\r"
          }
        },
        "8de6ed54e64c4cc9b83f3ca7460df0d1": {
          "model_module": "@jupyter-widgets/controls",
          "model_name": "FloatProgressModel",
          "model_module_version": "1.5.0",
          "state": {
            "_dom_classes": [],
            "_model_module": "@jupyter-widgets/controls",
            "_model_module_version": "1.5.0",
            "_model_name": "FloatProgressModel",
            "_view_count": null,
            "_view_module": "@jupyter-widgets/controls",
            "_view_module_version": "1.5.0",
            "_view_name": "ProgressView",
            "bar_style": "",
            "description": "",
            "description_tooltip": null,
            "layout": "IPY_MODEL_0bb75709ff814916b43ababfa1c44755",
            "max": 1,
            "min": 0,
            "orientation": "horizontal",
            "style": "IPY_MODEL_6420e91d8d5648d6bf6a4c8a6c5071be",
            "value": 1
          }
        },
        "fa9e473d24724f0e841252a97d1d021b": {
          "model_module": "@jupyter-widgets/base",
          "model_name": "LayoutModel",
          "model_module_version": "1.2.0",
          "state": {
            "_model_module": "@jupyter-widgets/base",
            "_model_module_version": "1.2.0",
            "_model_name": "LayoutModel",
            "_view_count": null,
            "_view_module": "@jupyter-widgets/base",
            "_view_module_version": "1.2.0",
            "_view_name": "LayoutView",
            "align_content": null,
            "align_items": null,
            "align_self": null,
            "border": null,
            "bottom": null,
            "display": null,
            "flex": null,
            "flex_flow": null,
            "grid_area": null,
            "grid_auto_columns": null,
            "grid_auto_flow": null,
            "grid_auto_rows": null,
            "grid_column": null,
            "grid_gap": null,
            "grid_row": null,
            "grid_template_areas": null,
            "grid_template_columns": null,
            "grid_template_rows": null,
            "height": null,
            "justify_content": null,
            "justify_items": null,
            "left": null,
            "margin": null,
            "max_height": null,
            "max_width": null,
            "min_height": null,
            "min_width": null,
            "object_fit": null,
            "object_position": null,
            "order": null,
            "overflow": null,
            "overflow_x": null,
            "overflow_y": null,
            "padding": null,
            "right": null,
            "top": null,
            "visibility": null,
            "width": null
          }
        },
        "ce8f540fd6fa4e388984d4a4a7719a27": {
          "model_module": "@jupyter-widgets/base",
          "model_name": "LayoutModel",
          "model_module_version": "1.2.0",
          "state": {
            "_model_module": "@jupyter-widgets/base",
            "_model_module_version": "1.2.0",
            "_model_name": "LayoutModel",
            "_view_count": null,
            "_view_module": "@jupyter-widgets/base",
            "_view_module_version": "1.2.0",
            "_view_name": "LayoutView",
            "align_content": null,
            "align_items": null,
            "align_self": null,
            "border": null,
            "bottom": null,
            "display": null,
            "flex": null,
            "flex_flow": null,
            "grid_area": null,
            "grid_auto_columns": null,
            "grid_auto_flow": null,
            "grid_auto_rows": null,
            "grid_column": null,
            "grid_gap": null,
            "grid_row": null,
            "grid_template_areas": null,
            "grid_template_columns": null,
            "grid_template_rows": null,
            "height": null,
            "justify_content": null,
            "justify_items": null,
            "left": null,
            "margin": null,
            "max_height": null,
            "max_width": null,
            "min_height": null,
            "min_width": null,
            "object_fit": null,
            "object_position": null,
            "order": null,
            "overflow": null,
            "overflow_x": null,
            "overflow_y": null,
            "padding": null,
            "right": null,
            "top": null,
            "visibility": null,
            "width": null
          }
        },
        "b6a084df08c4472783e69ce2a70afa3a": {
          "model_module": "@jupyter-widgets/controls",
          "model_name": "DescriptionStyleModel",
          "model_module_version": "1.5.0",
          "state": {
            "_model_module": "@jupyter-widgets/controls",
            "_model_module_version": "1.5.0",
            "_model_name": "DescriptionStyleModel",
            "_view_count": null,
            "_view_module": "@jupyter-widgets/base",
            "_view_module_version": "1.2.0",
            "_view_name": "StyleView",
            "description_width": ""
          }
        },
        "0bb75709ff814916b43ababfa1c44755": {
          "model_module": "@jupyter-widgets/base",
          "model_name": "LayoutModel",
          "model_module_version": "1.2.0",
          "state": {
            "_model_module": "@jupyter-widgets/base",
            "_model_module_version": "1.2.0",
            "_model_name": "LayoutModel",
            "_view_count": null,
            "_view_module": "@jupyter-widgets/base",
            "_view_module_version": "1.2.0",
            "_view_name": "LayoutView",
            "align_content": null,
            "align_items": null,
            "align_self": null,
            "border": null,
            "bottom": null,
            "display": null,
            "flex": null,
            "flex_flow": null,
            "grid_area": null,
            "grid_auto_columns": null,
            "grid_auto_flow": null,
            "grid_auto_rows": null,
            "grid_column": null,
            "grid_gap": null,
            "grid_row": null,
            "grid_template_areas": null,
            "grid_template_columns": null,
            "grid_template_rows": null,
            "height": null,
            "justify_content": null,
            "justify_items": null,
            "left": null,
            "margin": null,
            "max_height": null,
            "max_width": null,
            "min_height": null,
            "min_width": null,
            "object_fit": null,
            "object_position": null,
            "order": null,
            "overflow": null,
            "overflow_x": null,
            "overflow_y": null,
            "padding": null,
            "right": null,
            "top": null,
            "visibility": null,
            "width": null
          }
        },
        "6420e91d8d5648d6bf6a4c8a6c5071be": {
          "model_module": "@jupyter-widgets/controls",
          "model_name": "ProgressStyleModel",
          "model_module_version": "1.5.0",
          "state": {
            "_model_module": "@jupyter-widgets/controls",
            "_model_module_version": "1.5.0",
            "_model_name": "ProgressStyleModel",
            "_view_count": null,
            "_view_module": "@jupyter-widgets/base",
            "_view_module_version": "1.2.0",
            "_view_name": "StyleView",
            "bar_color": null,
            "description_width": ""
          }
        },
        "9f68aae0625b49878ec25d725a7e6118": {
          "model_module": "@jupyter-widgets/controls",
          "model_name": "VBoxModel",
          "model_module_version": "1.5.0",
          "state": {
            "_dom_classes": [],
            "_model_module": "@jupyter-widgets/controls",
            "_model_module_version": "1.5.0",
            "_model_name": "VBoxModel",
            "_view_count": null,
            "_view_module": "@jupyter-widgets/controls",
            "_view_module_version": "1.5.0",
            "_view_name": "VBoxView",
            "box_style": "",
            "children": [
              "IPY_MODEL_8de93de23fce448595ca3f809e079551",
              "IPY_MODEL_73d58c00760e4a969eb1b86892fa0415"
            ],
            "layout": "IPY_MODEL_9c82bc55ad5f4f31910507f272e8ef66"
          }
        },
        "8de93de23fce448595ca3f809e079551": {
          "model_module": "@jupyter-widgets/controls",
          "model_name": "LabelModel",
          "model_module_version": "1.5.0",
          "state": {
            "_dom_classes": [],
            "_model_module": "@jupyter-widgets/controls",
            "_model_module_version": "1.5.0",
            "_model_name": "LabelModel",
            "_view_count": null,
            "_view_module": "@jupyter-widgets/controls",
            "_view_module_version": "1.5.0",
            "_view_name": "LabelView",
            "description": "",
            "description_tooltip": null,
            "layout": "IPY_MODEL_0fb50bf1d1ba48e3a61a8d49c21ff371",
            "placeholder": "​",
            "style": "IPY_MODEL_3a8c3a1242a34554a60917836a84ca00",
            "value": "0.012 MB of 0.012 MB uploaded (0.000 MB deduped)\r"
          }
        },
        "73d58c00760e4a969eb1b86892fa0415": {
          "model_module": "@jupyter-widgets/controls",
          "model_name": "FloatProgressModel",
          "model_module_version": "1.5.0",
          "state": {
            "_dom_classes": [],
            "_model_module": "@jupyter-widgets/controls",
            "_model_module_version": "1.5.0",
            "_model_name": "FloatProgressModel",
            "_view_count": null,
            "_view_module": "@jupyter-widgets/controls",
            "_view_module_version": "1.5.0",
            "_view_name": "ProgressView",
            "bar_style": "",
            "description": "",
            "description_tooltip": null,
            "layout": "IPY_MODEL_b22340affc354a73a03cb0f9a9d6aa59",
            "max": 1,
            "min": 0,
            "orientation": "horizontal",
            "style": "IPY_MODEL_d953522f17df4a10bbec76d04856be57",
            "value": 1
          }
        },
        "9c82bc55ad5f4f31910507f272e8ef66": {
          "model_module": "@jupyter-widgets/base",
          "model_name": "LayoutModel",
          "model_module_version": "1.2.0",
          "state": {
            "_model_module": "@jupyter-widgets/base",
            "_model_module_version": "1.2.0",
            "_model_name": "LayoutModel",
            "_view_count": null,
            "_view_module": "@jupyter-widgets/base",
            "_view_module_version": "1.2.0",
            "_view_name": "LayoutView",
            "align_content": null,
            "align_items": null,
            "align_self": null,
            "border": null,
            "bottom": null,
            "display": null,
            "flex": null,
            "flex_flow": null,
            "grid_area": null,
            "grid_auto_columns": null,
            "grid_auto_flow": null,
            "grid_auto_rows": null,
            "grid_column": null,
            "grid_gap": null,
            "grid_row": null,
            "grid_template_areas": null,
            "grid_template_columns": null,
            "grid_template_rows": null,
            "height": null,
            "justify_content": null,
            "justify_items": null,
            "left": null,
            "margin": null,
            "max_height": null,
            "max_width": null,
            "min_height": null,
            "min_width": null,
            "object_fit": null,
            "object_position": null,
            "order": null,
            "overflow": null,
            "overflow_x": null,
            "overflow_y": null,
            "padding": null,
            "right": null,
            "top": null,
            "visibility": null,
            "width": null
          }
        },
        "0fb50bf1d1ba48e3a61a8d49c21ff371": {
          "model_module": "@jupyter-widgets/base",
          "model_name": "LayoutModel",
          "model_module_version": "1.2.0",
          "state": {
            "_model_module": "@jupyter-widgets/base",
            "_model_module_version": "1.2.0",
            "_model_name": "LayoutModel",
            "_view_count": null,
            "_view_module": "@jupyter-widgets/base",
            "_view_module_version": "1.2.0",
            "_view_name": "LayoutView",
            "align_content": null,
            "align_items": null,
            "align_self": null,
            "border": null,
            "bottom": null,
            "display": null,
            "flex": null,
            "flex_flow": null,
            "grid_area": null,
            "grid_auto_columns": null,
            "grid_auto_flow": null,
            "grid_auto_rows": null,
            "grid_column": null,
            "grid_gap": null,
            "grid_row": null,
            "grid_template_areas": null,
            "grid_template_columns": null,
            "grid_template_rows": null,
            "height": null,
            "justify_content": null,
            "justify_items": null,
            "left": null,
            "margin": null,
            "max_height": null,
            "max_width": null,
            "min_height": null,
            "min_width": null,
            "object_fit": null,
            "object_position": null,
            "order": null,
            "overflow": null,
            "overflow_x": null,
            "overflow_y": null,
            "padding": null,
            "right": null,
            "top": null,
            "visibility": null,
            "width": null
          }
        },
        "3a8c3a1242a34554a60917836a84ca00": {
          "model_module": "@jupyter-widgets/controls",
          "model_name": "DescriptionStyleModel",
          "model_module_version": "1.5.0",
          "state": {
            "_model_module": "@jupyter-widgets/controls",
            "_model_module_version": "1.5.0",
            "_model_name": "DescriptionStyleModel",
            "_view_count": null,
            "_view_module": "@jupyter-widgets/base",
            "_view_module_version": "1.2.0",
            "_view_name": "StyleView",
            "description_width": ""
          }
        },
        "b22340affc354a73a03cb0f9a9d6aa59": {
          "model_module": "@jupyter-widgets/base",
          "model_name": "LayoutModel",
          "model_module_version": "1.2.0",
          "state": {
            "_model_module": "@jupyter-widgets/base",
            "_model_module_version": "1.2.0",
            "_model_name": "LayoutModel",
            "_view_count": null,
            "_view_module": "@jupyter-widgets/base",
            "_view_module_version": "1.2.0",
            "_view_name": "LayoutView",
            "align_content": null,
            "align_items": null,
            "align_self": null,
            "border": null,
            "bottom": null,
            "display": null,
            "flex": null,
            "flex_flow": null,
            "grid_area": null,
            "grid_auto_columns": null,
            "grid_auto_flow": null,
            "grid_auto_rows": null,
            "grid_column": null,
            "grid_gap": null,
            "grid_row": null,
            "grid_template_areas": null,
            "grid_template_columns": null,
            "grid_template_rows": null,
            "height": null,
            "justify_content": null,
            "justify_items": null,
            "left": null,
            "margin": null,
            "max_height": null,
            "max_width": null,
            "min_height": null,
            "min_width": null,
            "object_fit": null,
            "object_position": null,
            "order": null,
            "overflow": null,
            "overflow_x": null,
            "overflow_y": null,
            "padding": null,
            "right": null,
            "top": null,
            "visibility": null,
            "width": null
          }
        },
        "d953522f17df4a10bbec76d04856be57": {
          "model_module": "@jupyter-widgets/controls",
          "model_name": "ProgressStyleModel",
          "model_module_version": "1.5.0",
          "state": {
            "_model_module": "@jupyter-widgets/controls",
            "_model_module_version": "1.5.0",
            "_model_name": "ProgressStyleModel",
            "_view_count": null,
            "_view_module": "@jupyter-widgets/base",
            "_view_module_version": "1.2.0",
            "_view_name": "StyleView",
            "bar_color": null,
            "description_width": ""
          }
        },
        "145c8810ed614593876013facabf785e": {
          "model_module": "@jupyter-widgets/controls",
          "model_name": "VBoxModel",
          "model_module_version": "1.5.0",
          "state": {
            "_dom_classes": [],
            "_model_module": "@jupyter-widgets/controls",
            "_model_module_version": "1.5.0",
            "_model_name": "VBoxModel",
            "_view_count": null,
            "_view_module": "@jupyter-widgets/controls",
            "_view_module_version": "1.5.0",
            "_view_name": "VBoxView",
            "box_style": "",
            "children": [
              "IPY_MODEL_7c3725f9ee254b40bf1a60511bc1c9e7",
              "IPY_MODEL_0af8fad886674198ae6e757d59986da6"
            ],
            "layout": "IPY_MODEL_d12279e8742e4afebc04c929501770ad"
          }
        },
        "7c3725f9ee254b40bf1a60511bc1c9e7": {
          "model_module": "@jupyter-widgets/controls",
          "model_name": "LabelModel",
          "model_module_version": "1.5.0",
          "state": {
            "_dom_classes": [],
            "_model_module": "@jupyter-widgets/controls",
            "_model_module_version": "1.5.0",
            "_model_name": "LabelModel",
            "_view_count": null,
            "_view_module": "@jupyter-widgets/controls",
            "_view_module_version": "1.5.0",
            "_view_name": "LabelView",
            "description": "",
            "description_tooltip": null,
            "layout": "IPY_MODEL_95ff52e3a3c9444ea9fb5aeed5caeb4d",
            "placeholder": "​",
            "style": "IPY_MODEL_c556b39c041e492ea91eff5e15d09d16",
            "value": "0.012 MB of 0.012 MB uploaded (0.000 MB deduped)\r"
          }
        },
        "0af8fad886674198ae6e757d59986da6": {
          "model_module": "@jupyter-widgets/controls",
          "model_name": "FloatProgressModel",
          "model_module_version": "1.5.0",
          "state": {
            "_dom_classes": [],
            "_model_module": "@jupyter-widgets/controls",
            "_model_module_version": "1.5.0",
            "_model_name": "FloatProgressModel",
            "_view_count": null,
            "_view_module": "@jupyter-widgets/controls",
            "_view_module_version": "1.5.0",
            "_view_name": "ProgressView",
            "bar_style": "",
            "description": "",
            "description_tooltip": null,
            "layout": "IPY_MODEL_8351ee104d3f41a2b20dfe648775da4a",
            "max": 1,
            "min": 0,
            "orientation": "horizontal",
            "style": "IPY_MODEL_64c89267742043458fe15e99abc4cc8b",
            "value": 1
          }
        },
        "d12279e8742e4afebc04c929501770ad": {
          "model_module": "@jupyter-widgets/base",
          "model_name": "LayoutModel",
          "model_module_version": "1.2.0",
          "state": {
            "_model_module": "@jupyter-widgets/base",
            "_model_module_version": "1.2.0",
            "_model_name": "LayoutModel",
            "_view_count": null,
            "_view_module": "@jupyter-widgets/base",
            "_view_module_version": "1.2.0",
            "_view_name": "LayoutView",
            "align_content": null,
            "align_items": null,
            "align_self": null,
            "border": null,
            "bottom": null,
            "display": null,
            "flex": null,
            "flex_flow": null,
            "grid_area": null,
            "grid_auto_columns": null,
            "grid_auto_flow": null,
            "grid_auto_rows": null,
            "grid_column": null,
            "grid_gap": null,
            "grid_row": null,
            "grid_template_areas": null,
            "grid_template_columns": null,
            "grid_template_rows": null,
            "height": null,
            "justify_content": null,
            "justify_items": null,
            "left": null,
            "margin": null,
            "max_height": null,
            "max_width": null,
            "min_height": null,
            "min_width": null,
            "object_fit": null,
            "object_position": null,
            "order": null,
            "overflow": null,
            "overflow_x": null,
            "overflow_y": null,
            "padding": null,
            "right": null,
            "top": null,
            "visibility": null,
            "width": null
          }
        },
        "95ff52e3a3c9444ea9fb5aeed5caeb4d": {
          "model_module": "@jupyter-widgets/base",
          "model_name": "LayoutModel",
          "model_module_version": "1.2.0",
          "state": {
            "_model_module": "@jupyter-widgets/base",
            "_model_module_version": "1.2.0",
            "_model_name": "LayoutModel",
            "_view_count": null,
            "_view_module": "@jupyter-widgets/base",
            "_view_module_version": "1.2.0",
            "_view_name": "LayoutView",
            "align_content": null,
            "align_items": null,
            "align_self": null,
            "border": null,
            "bottom": null,
            "display": null,
            "flex": null,
            "flex_flow": null,
            "grid_area": null,
            "grid_auto_columns": null,
            "grid_auto_flow": null,
            "grid_auto_rows": null,
            "grid_column": null,
            "grid_gap": null,
            "grid_row": null,
            "grid_template_areas": null,
            "grid_template_columns": null,
            "grid_template_rows": null,
            "height": null,
            "justify_content": null,
            "justify_items": null,
            "left": null,
            "margin": null,
            "max_height": null,
            "max_width": null,
            "min_height": null,
            "min_width": null,
            "object_fit": null,
            "object_position": null,
            "order": null,
            "overflow": null,
            "overflow_x": null,
            "overflow_y": null,
            "padding": null,
            "right": null,
            "top": null,
            "visibility": null,
            "width": null
          }
        },
        "c556b39c041e492ea91eff5e15d09d16": {
          "model_module": "@jupyter-widgets/controls",
          "model_name": "DescriptionStyleModel",
          "model_module_version": "1.5.0",
          "state": {
            "_model_module": "@jupyter-widgets/controls",
            "_model_module_version": "1.5.0",
            "_model_name": "DescriptionStyleModel",
            "_view_count": null,
            "_view_module": "@jupyter-widgets/base",
            "_view_module_version": "1.2.0",
            "_view_name": "StyleView",
            "description_width": ""
          }
        },
        "8351ee104d3f41a2b20dfe648775da4a": {
          "model_module": "@jupyter-widgets/base",
          "model_name": "LayoutModel",
          "model_module_version": "1.2.0",
          "state": {
            "_model_module": "@jupyter-widgets/base",
            "_model_module_version": "1.2.0",
            "_model_name": "LayoutModel",
            "_view_count": null,
            "_view_module": "@jupyter-widgets/base",
            "_view_module_version": "1.2.0",
            "_view_name": "LayoutView",
            "align_content": null,
            "align_items": null,
            "align_self": null,
            "border": null,
            "bottom": null,
            "display": null,
            "flex": null,
            "flex_flow": null,
            "grid_area": null,
            "grid_auto_columns": null,
            "grid_auto_flow": null,
            "grid_auto_rows": null,
            "grid_column": null,
            "grid_gap": null,
            "grid_row": null,
            "grid_template_areas": null,
            "grid_template_columns": null,
            "grid_template_rows": null,
            "height": null,
            "justify_content": null,
            "justify_items": null,
            "left": null,
            "margin": null,
            "max_height": null,
            "max_width": null,
            "min_height": null,
            "min_width": null,
            "object_fit": null,
            "object_position": null,
            "order": null,
            "overflow": null,
            "overflow_x": null,
            "overflow_y": null,
            "padding": null,
            "right": null,
            "top": null,
            "visibility": null,
            "width": null
          }
        },
        "64c89267742043458fe15e99abc4cc8b": {
          "model_module": "@jupyter-widgets/controls",
          "model_name": "ProgressStyleModel",
          "model_module_version": "1.5.0",
          "state": {
            "_model_module": "@jupyter-widgets/controls",
            "_model_module_version": "1.5.0",
            "_model_name": "ProgressStyleModel",
            "_view_count": null,
            "_view_module": "@jupyter-widgets/base",
            "_view_module_version": "1.2.0",
            "_view_name": "StyleView",
            "bar_color": null,
            "description_width": ""
          }
        }
      }
    },
    "accelerator": "GPU"
  },
  "cells": [
    {
      "cell_type": "markdown",
      "metadata": {
        "id": "view-in-github",
        "colab_type": "text"
      },
      "source": [
        "<a href=\"https://colab.research.google.com/github/verma-saloni/Thesis-Work/blob/main/09_-6_22_wandb_tracked_politifact_graph.ipynb\" target=\"_parent\"><img src=\"https://colab.research.google.com/assets/colab-badge.svg\" alt=\"Open In Colab\"/></a>"
      ]
    },
    {
      "cell_type": "code",
      "execution_count": 5,
      "metadata": {
        "id": "xpTeMbYZwmf7"
      },
      "outputs": [],
      "source": [
        "!pip -qq install jsonlines"
      ]
    },
    {
      "cell_type": "code",
      "source": [
        "from google.colab import drive\n",
        "drive.mount('/gdrive')\n",
        "\n",
        "from pathlib import Path\n",
        "base_dir = Path(\"/gdrive/MyDrive/Research FakeNews\")\n",
        "assert base_dir.exists()"
      ],
      "metadata": {
        "colab": {
          "base_uri": "https://localhost:8080/"
        },
        "id": "UxNEaltli8H_",
        "outputId": "1e377369-b899-4e93-b9b5-ef3b25571402"
      },
      "execution_count": 6,
      "outputs": [
        {
          "output_type": "stream",
          "name": "stdout",
          "text": [
            "Drive already mounted at /gdrive; to attempt to forcibly remount, call drive.mount(\"/gdrive\", force_remount=True).\n"
          ]
        }
      ]
    },
    {
      "cell_type": "markdown",
      "source": [
        "### Twt user graphs"
      ],
      "metadata": {
        "id": "60XHa2QqsF2p"
      }
    },
    {
      "cell_type": "code",
      "source": [
        "import networkx as nx\n",
        "import jsonlines"
      ],
      "metadata": {
        "id": "7lCdLfhNsEyM"
      },
      "execution_count": 7,
      "outputs": []
    },
    {
      "cell_type": "code",
      "source": [
        "graph = nx.DiGraph()"
      ],
      "metadata": {
        "id": "Q0vjdfpgsQJ_"
      },
      "execution_count": 8,
      "outputs": []
    },
    {
      "cell_type": "code",
      "source": [
        "with jsonlines.open(base_dir/\"followers.jsonl\") as reader:\n",
        "    for line in reader:\n",
        "        v = line[\"user_id\"]\n",
        "        for u in line[\"followers\"]:\n",
        "            graph.add_edge(u, v)"
      ],
      "metadata": {
        "id": "KnrRSt2Qsb6O"
      },
      "execution_count": 9,
      "outputs": []
    },
    {
      "cell_type": "code",
      "source": [
        "with jsonlines.open(base_dir/\"following.jsonl\") as reader:\n",
        "    for line in reader:\n",
        "        u = line[\"user_id\"]\n",
        "        for v in line[\"following\"]:\n",
        "            graph.add_edge(u, v)"
      ],
      "metadata": {
        "id": "Y7DLQ78as4pZ"
      },
      "execution_count": 10,
      "outputs": []
    },
    {
      "cell_type": "code",
      "source": [
        "graph.number_of_nodes(), graph.number_of_edges()"
      ],
      "metadata": {
        "colab": {
          "base_uri": "https://localhost:8080/"
        },
        "id": "MCN3DvNQtiJR",
        "outputId": "9149e8ac-f98f-479d-be5d-7ed59efec554"
      },
      "execution_count": 11,
      "outputs": [
        {
          "output_type": "execute_result",
          "data": {
            "text/plain": [
              "(31792, 48408)"
            ]
          },
          "metadata": {},
          "execution_count": 11
        }
      ]
    },
    {
      "cell_type": "code",
      "source": [
        "followed = [n for n in graph.nodes if graph.in_degree(n)>2]\n",
        "len(followed)"
      ],
      "metadata": {
        "colab": {
          "base_uri": "https://localhost:8080/"
        },
        "id": "v-x18_ZZulOd",
        "outputId": "65163925-c779-4a25-e6b1-73c9a2e78dda"
      },
      "execution_count": 12,
      "outputs": [
        {
          "output_type": "execute_result",
          "data": {
            "text/plain": [
              "444"
            ]
          },
          "metadata": {},
          "execution_count": 12
        }
      ]
    },
    {
      "cell_type": "code",
      "source": [
        "import random\n",
        "\n",
        "sample_nodes = random.sample(followed, 12)\n",
        "sg = graph.edge_subgraph(graph.in_edges(sample_nodes))\n",
        "sg.number_of_nodes(), sg.number_of_edges()"
      ],
      "metadata": {
        "id": "ytEH363Cu7e_",
        "colab": {
          "base_uri": "https://localhost:8080/"
        },
        "outputId": "72638237-4356-4bde-8c2e-651dc64b5d8b"
      },
      "execution_count": 13,
      "outputs": [
        {
          "output_type": "execute_result",
          "data": {
            "text/plain": [
              "(21, 41)"
            ]
          },
          "metadata": {},
          "execution_count": 13
        }
      ]
    },
    {
      "cell_type": "code",
      "source": [
        "nx.draw(sg, node_size=100)"
      ],
      "metadata": {
        "colab": {
          "base_uri": "https://localhost:8080/",
          "height": 319
        },
        "id": "yYc34e6ts7PN",
        "outputId": "f24ceab6-74ed-4c53-b9c4-64d8c4c80c7a"
      },
      "execution_count": 14,
      "outputs": [
        {
          "output_type": "display_data",
          "data": {
            "text/plain": [
              "<Figure size 432x288 with 1 Axes>"
            ],
            "image/png": "[encoded data removed]"
          },
          "metadata": {}
        }
      ]
    },
    {
      "cell_type": "markdown",
      "source": [
        "### Node embeddings"
      ],
      "metadata": {
        "id": "qbRXmgXCwoNj"
      }
    },
    {
      "cell_type": "code",
      "execution_count": 15,
      "metadata": {
        "colab": {
          "base_uri": "https://localhost:8080/"
        },
        "id": "28effea1-9db8-4c0f-b037-3df8dadbea17",
        "outputId": "4ccb6493-de9c-4df3-a340-4252b0732c20"
      },
      "outputs": [
        {
          "output_type": "stream",
          "name": "stdout",
          "text": [
            "  Building wheel for csrgraph (setup.py) ... \u001b[?25l\u001b[?25hdone\n",
            "  Building wheel for nodevectors (setup.py) ... \u001b[?25l\u001b[?25hdone\n"
          ]
        }
      ],
      "source": [
        "!pip install -Uqq csrgraph nodevectors"
      ]
    },
    {
      "cell_type": "code",
      "source": [
        "import csrgraph as cg\n",
        "from nodevectors import Node2Vec"
      ],
      "metadata": {
        "id": "qvL85vFzr2XK"
      },
      "execution_count": 16,
      "outputs": []
    },
    {
      "cell_type": "markdown",
      "source": [
        "#### user vectors"
      ],
      "metadata": {
        "id": "odOQGulI-EeS"
      }
    },
    {
      "cell_type": "code",
      "source": [
        "n2v = Node2Vec(n_components=128, walklen=10, epochs=10)"
      ],
      "metadata": {
        "id": "RvlSsu6jvXS7"
      },
      "execution_count": 17,
      "outputs": []
    },
    {
      "cell_type": "code",
      "source": [
        "n2v.fit(graph)"
      ],
      "metadata": {
        "colab": {
          "base_uri": "https://localhost:8080/"
        },
        "id": "EHoiGFydwFMk",
        "outputId": "d45de5ff-cce7-405a-e86b-1e7116cebf39"
      },
      "execution_count": 18,
      "outputs": [
        {
          "output_type": "stream",
          "name": "stdout",
          "text": [
            "Making walks... "
          ]
        },
        {
          "output_type": "stream",
          "name": "stderr",
          "text": [
            "/usr/local/lib/python3.7/dist-packages/numba/np/ufunc/parallel.py:363: NumbaWarning: The TBB threading layer requires TBB version 2019.5 or later i.e., TBB_INTERFACE_VERSION >= 11005. Found TBB_INTERFACE_VERSION = 9107. The TBB threading layer is disabled.\n",
            "  warnings.warn(problem)\n"
          ]
        },
        {
          "output_type": "stream",
          "name": "stdout",
          "text": [
            "Done, T=4.65\n",
            "Mapping Walk Names... Done, T=5.12\n",
            "Training W2V... Done, T=101.47\n"
          ]
        }
      ]
    },
    {
      "cell_type": "code",
      "source": [
        "n2v.predict(followed[0])"
      ],
      "metadata": {
        "colab": {
          "base_uri": "https://localhost:8080/"
        },
        "id": "RicJpnXuwJhE",
        "outputId": "42bae65e-92c9-4df7-a5bd-7a0a10686ef5"
      },
      "execution_count": 19,
      "outputs": [
        {
          "output_type": "execute_result",
          "data": {
            "text/plain": [
              "array([ 2.76751578e-01,  5.37470542e-02, -3.10383081e-01, -1.53569840e-02,\n",
              "       -6.15727156e-02, -1.30085096e-01, -5.39560795e-01,  1.59271788e-02,\n",
              "       -3.63354236e-01,  9.04850364e-02, -3.15886527e-01, -3.49157378e-02,\n",
              "       -2.85309285e-01, -6.37377143e-01,  9.38616991e-02, -1.42329410e-01,\n",
              "       -3.03182721e-01, -1.56377673e-01,  3.64720196e-01,  3.04872692e-01,\n",
              "       -1.05943374e-01,  2.14770898e-01,  8.39153305e-02, -3.17197919e-01,\n",
              "        9.33880210e-02,  5.73201776e-01, -1.98848307e-01,  1.57262519e-01,\n",
              "       -2.15470031e-01, -7.06244335e-02, -5.16755953e-02, -4.71997768e-01,\n",
              "        1.82524562e-01,  1.22295812e-01, -3.32071722e-01,  2.60672182e-01,\n",
              "       -3.93539727e-01,  8.07036906e-02,  8.99263993e-02, -4.63248380e-02,\n",
              "       -1.49142250e-01, -3.90988350e-01,  2.92597234e-01,  2.11950839e-01,\n",
              "        2.64653027e-01,  2.61936814e-01, -2.56224275e-01, -7.30868801e-02,\n",
              "       -2.46128187e-01,  3.85959782e-02, -1.14008330e-01, -3.05067539e-01,\n",
              "       -6.84406579e-01,  6.00780249e-01,  2.51154155e-01,  2.73989946e-01,\n",
              "       -1.38308734e-01,  5.81374159e-04, -3.35297547e-02,  6.87514991e-02,\n",
              "        1.82590857e-01,  2.49829203e-01, -3.20595205e-01, -4.15249139e-01,\n",
              "       -2.98633605e-01,  1.00133613e-01, -2.59954512e-01, -1.29226163e-01,\n",
              "        4.84140217e-01,  9.14122835e-02,  5.52416593e-02,  2.51934290e-01,\n",
              "        1.31029859e-01,  6.71512038e-02, -2.71199524e-01, -5.90265393e-01,\n",
              "       -4.06687289e-01,  2.14094952e-01, -2.44510353e-01, -1.77018449e-01,\n",
              "        3.90627980e-01,  2.29473889e-01,  4.18105334e-01,  3.47491324e-01,\n",
              "       -3.91184464e-02, -2.69691408e-01, -8.50245208e-02,  9.72937346e-02,\n",
              "        5.77141166e-01,  1.10741243e-01,  1.72253013e-01, -3.51377875e-02,\n",
              "        5.95833063e-01, -2.30101570e-01,  4.09536809e-02,  2.10702360e-01,\n",
              "        5.08091748e-01, -2.15376347e-01, -1.63297266e-01, -1.85962439e-01,\n",
              "       -2.04860494e-01, -1.10342912e-01, -2.54970521e-01,  1.06894396e-01,\n",
              "        3.10091168e-01, -1.74158812e-01, -1.56808451e-01,  5.68507493e-01,\n",
              "        4.81908023e-01,  4.97529775e-01,  1.85338318e-01, -5.63556015e-01,\n",
              "       -2.85252541e-01,  1.08312741e-01, -2.07937703e-01,  4.48066950e-01,\n",
              "        1.18984893e-01,  2.81800628e-01, -2.36115441e-01, -7.26539418e-02,\n",
              "       -6.38787597e-02, -8.54290128e-02, -2.52610117e-01, -1.74207881e-01,\n",
              "        2.30330035e-01, -8.15445930e-02, -1.67920049e-02, -3.06867152e-01],\n",
              "      dtype=float32)"
            ]
          },
          "metadata": {},
          "execution_count": 19
        }
      ]
    },
    {
      "cell_type": "markdown",
      "source": [
        "## user-article graph"
      ],
      "metadata": {
        "id": "NHdG78wwVumY"
      }
    },
    {
      "cell_type": "code",
      "source": [
        "import pandas as pd\n",
        "import ast"
      ],
      "metadata": {
        "id": "7tPiW_FBWO8s"
      },
      "execution_count": 20,
      "outputs": []
    },
    {
      "cell_type": "code",
      "source": [
        "df = pd.read_csv(base_dir/'politifact_agg.csv', index_col=0)\n",
        "df.head(2)"
      ],
      "metadata": {
        "colab": {
          "base_uri": "https://localhost:8080/",
          "height": 112
        },
        "id": "0BsiweMKV3Kt",
        "outputId": "cfbfa88e-a9af-4f10-ff59-6df8d7f9c859"
      },
      "execution_count": 21,
      "outputs": [
        {
          "output_type": "execute_result",
          "data": {
            "text/plain": [
              "                                               title text tweets  \\\n",
              "0   Actress Emma Stone ‘For the first time in his...  NaN     []   \n",
              "1   Breaking President Trump makes English the of...  NaN     []   \n",
              "\n",
              "                                            retweets label  url tweet_ids  \\\n",
              "0  ['1020554564334964741', '1020817527046197248',...  fake  NaN        []   \n",
              "1                                                 []  fake  NaN        []   \n",
              "\n",
              "   num_retweets  log_num_retweets  num_tweets  log_num_tweets  \n",
              "0          2911          7.976595           0             0.0  \n",
              "1             0          0.000000           0             0.0  "
            ],
            "text/html": [
              "\n",
              "  <div id=\"df-29a6a48d-c950-4de4-9fca-4bb71cd73325\">\n",
              "    <div class=\"colab-df-container\">\n",
              "      <div>\n",
              "<style scoped>\n",
              "    .dataframe tbody tr th:only-of-type {\n",
              "        vertical-align: middle;\n",
              "    }\n",
              "\n",
              "    .dataframe tbody tr th {\n",
              "        vertical-align: top;\n",
              "    }\n",
              "\n",
              "    .dataframe thead th {\n",
              "        text-align: right;\n",
              "    }\n",
              "</style>\n",
              "<table border=\"1\" class=\"dataframe\">\n",
              "  <thead>\n",
              "    <tr style=\"text-align: right;\">\n",
              "      <th></th>\n",
              "      <th>title</th>\n",
              "      <th>text</th>\n",
              "      <th>tweets</th>\n",
              "      <th>retweets</th>\n",
              "      <th>label</th>\n",
              "      <th>url</th>\n",
              "      <th>tweet_ids</th>\n",
              "      <th>num_retweets</th>\n",
              "      <th>log_num_retweets</th>\n",
              "      <th>num_tweets</th>\n",
              "      <th>log_num_tweets</th>\n",
              "    </tr>\n",
              "  </thead>\n",
              "  <tbody>\n",
              "    <tr>\n",
              "      <th>0</th>\n",
              "      <td>Actress Emma Stone ‘For the first time in his...</td>\n",
              "      <td>NaN</td>\n",
              "      <td>[]</td>\n",
              "      <td>['1020554564334964741', '1020817527046197248',...</td>\n",
              "      <td>fake</td>\n",
              "      <td>NaN</td>\n",
              "      <td>[]</td>\n",
              "      <td>2911</td>\n",
              "      <td>7.976595</td>\n",
              "      <td>0</td>\n",
              "      <td>0.0</td>\n",
              "    </tr>\n",
              "    <tr>\n",
              "      <th>1</th>\n",
              "      <td>Breaking President Trump makes English the of...</td>\n",
              "      <td>NaN</td>\n",
              "      <td>[]</td>\n",
              "      <td>[]</td>\n",
              "      <td>fake</td>\n",
              "      <td>NaN</td>\n",
              "      <td>[]</td>\n",
              "      <td>0</td>\n",
              "      <td>0.000000</td>\n",
              "      <td>0</td>\n",
              "      <td>0.0</td>\n",
              "    </tr>\n",
              "  </tbody>\n",
              "</table>\n",
              "</div>\n",
              "      <button class=\"colab-df-convert\" onclick=\"convertToInteractive('df-29a6a48d-c950-4de4-9fca-4bb71cd73325')\"\n",
              "              title=\"Convert this dataframe to an interactive table.\"\n",
              "              style=\"display:none;\">\n",
              "        \n",
              "  <svg xmlns=\"http://www.w3.org/2000/svg\" height=\"24px\"viewBox=\"0 0 24 24\"\n",
              "       width=\"24px\">\n",
              "    <path d=\"M0 0h24v24H0V0z\" fill=\"none\"/>\n",
              "    <path d=\"M18.56 5.44l.94 2.06.94-2.06 2.06-.94-2.06-.94-.94-2.06-.94 2.06-2.06.94zm-11 1L8.5 8.5l.94-2.06 2.06-.94-2.06-.94L8.5 2.5l-.94 2.06-2.06.94zm10 10l.94 2.06.94-2.06 2.06-.94-2.06-.94-.94-2.06-.94 2.06-2.06.94z\"/><path d=\"M17.41 7.96l-1.37-1.37c-.4-.4-.92-.59-1.43-.59-.52 0-1.04.2-1.43.59L10.3 9.45l-7.72 7.72c-.78.78-.78 2.05 0 2.83L4 21.41c.39.39.9.59 1.41.59.51 0 1.02-.2 1.41-.59l7.78-7.78 2.81-2.81c.8-.78.8-2.07 0-2.86zM5.41 20L4 18.59l7.72-7.72 1.47 1.35L5.41 20z\"/>\n",
              "  </svg>\n",
              "      </button>\n",
              "      \n",
              "  <style>\n",
              "    .colab-df-container {\n",
              "      display:flex;\n",
              "      flex-wrap:wrap;\n",
              "      gap: 12px;\n",
              "    }\n",
              "\n",
              "    .colab-df-convert {\n",
              "      background-color: #E8F0FE;\n",
              "      border: none;\n",
              "      border-radius: 50%;\n",
              "      cursor: pointer;\n",
              "      display: none;\n",
              "      fill: #1967D2;\n",
              "      height: 32px;\n",
              "      padding: 0 0 0 0;\n",
              "      width: 32px;\n",
              "    }\n",
              "\n",
              "    .colab-df-convert:hover {\n",
              "      background-color: #E2EBFA;\n",
              "      box-shadow: 0px 1px 2px rgba(60, 64, 67, 0.3), 0px 1px 3px 1px rgba(60, 64, 67, 0.15);\n",
              "      fill: #174EA6;\n",
              "    }\n",
              "\n",
              "    [theme=dark] .colab-df-convert {\n",
              "      background-color: #3B4455;\n",
              "      fill: #D2E3FC;\n",
              "    }\n",
              "\n",
              "    [theme=dark] .colab-df-convert:hover {\n",
              "      background-color: #434B5C;\n",
              "      box-shadow: 0px 1px 3px 1px rgba(0, 0, 0, 0.15);\n",
              "      filter: drop-shadow(0px 1px 2px rgba(0, 0, 0, 0.3));\n",
              "      fill: #FFFFFF;\n",
              "    }\n",
              "  </style>\n",
              "\n",
              "      <script>\n",
              "        const buttonEl =\n",
              "          document.querySelector('#df-29a6a48d-c950-4de4-9fca-4bb71cd73325 button.colab-df-convert');\n",
              "        buttonEl.style.display =\n",
              "          google.colab.kernel.accessAllowed ? 'block' : 'none';\n",
              "\n",
              "        async function convertToInteractive(key) {\n",
              "          const element = document.querySelector('#df-29a6a48d-c950-4de4-9fca-4bb71cd73325');\n",
              "          const dataTable =\n",
              "            await google.colab.kernel.invokeFunction('convertToInteractive',\n",
              "                                                     [key], {});\n",
              "          if (!dataTable) return;\n",
              "\n",
              "          const docLinkHtml = 'Like what you see? Visit the ' +\n",
              "            '<a target=\"_blank\" href=https://colab.research.google.com/notebooks/data_table.ipynb>data table notebook</a>'\n",
              "            + ' to learn more about interactive tables.';\n",
              "          element.innerHTML = '';\n",
              "          dataTable['output_type'] = 'display_data';\n",
              "          await google.colab.output.renderOutput(dataTable, element);\n",
              "          const docLink = document.createElement('div');\n",
              "          docLink.innerHTML = docLinkHtml;\n",
              "          element.appendChild(docLink);\n",
              "        }\n",
              "      </script>\n",
              "    </div>\n",
              "  </div>\n",
              "  "
            ]
          },
          "metadata": {},
          "execution_count": 21
        }
      ]
    },
    {
      "cell_type": "code",
      "source": [
        "df['tweets'] = df.tweets.map(ast.literal_eval)"
      ],
      "metadata": {
        "id": "cruZFCpNWRLb"
      },
      "execution_count": 22,
      "outputs": []
    },
    {
      "cell_type": "code",
      "source": [
        "users_tweeted = df.tweets.map(lambda x: [int(e['user_id']) for e in x])"
      ],
      "metadata": {
        "id": "wH5i98HOWz1w"
      },
      "execution_count": 23,
      "outputs": []
    },
    {
      "cell_type": "code",
      "source": [
        "len(users_tweeted), sum(users_tweeted.map(len) > 0)"
      ],
      "metadata": {
        "colab": {
          "base_uri": "https://localhost:8080/"
        },
        "id": "exnDy-5ud_uJ",
        "outputId": "1199400a-32dc-46b6-97d8-690fe4f37185"
      },
      "execution_count": 24,
      "outputs": [
        {
          "output_type": "execute_result",
          "data": {
            "text/plain": [
              "(894, 149)"
            ]
          },
          "metadata": {},
          "execution_count": 24
        }
      ]
    },
    {
      "cell_type": "code",
      "source": [
        "unique_users = set()\n",
        "for e in users_tweeted:\n",
        "    unique_users.update(set(e))\n",
        "\n",
        "len(unique_users)"
      ],
      "metadata": {
        "colab": {
          "base_uri": "https://localhost:8080/"
        },
        "id": "fUjaXHhFYIMc",
        "outputId": "4641c63f-0dc3-4430-c264-a560e8e88541"
      },
      "execution_count": 25,
      "outputs": [
        {
          "output_type": "execute_result",
          "data": {
            "text/plain": [
              "40723"
            ]
          },
          "metadata": {},
          "execution_count": 25
        }
      ]
    },
    {
      "cell_type": "code",
      "source": [
        "i = 0\n",
        "for u in unique_users:\n",
        "    if u in graph:\n",
        "        i += 1\n",
        "print(i)"
      ],
      "metadata": {
        "colab": {
          "base_uri": "https://localhost:8080/"
        },
        "id": "CF3sOiF_bcip",
        "outputId": "ab2c7281-de87-4f17-fe11-e63c1750a55f"
      },
      "execution_count": 26,
      "outputs": [
        {
          "output_type": "stream",
          "name": "stdout",
          "text": [
            "756\n"
          ]
        }
      ]
    },
    {
      "cell_type": "code",
      "source": [
        "users_retweeted = df.retweets.map(lambda x: [int(e) for e in ast.literal_eval(x)])"
      ],
      "metadata": {
        "id": "NPSabn0Je819"
      },
      "execution_count": 27,
      "outputs": []
    },
    {
      "cell_type": "code",
      "source": [
        "for e in users_retweeted:\n",
        "    unique_users.update(set(e))\n",
        "\n",
        "len(unique_users)"
      ],
      "metadata": {
        "colab": {
          "base_uri": "https://localhost:8080/"
        },
        "id": "UevgMKgIfeqt",
        "outputId": "ad906140-ae8d-4851-c6ea-2f80d5eaccd9"
      },
      "execution_count": 28,
      "outputs": [
        {
          "output_type": "execute_result",
          "data": {
            "text/plain": [
              "595543"
            ]
          },
          "metadata": {},
          "execution_count": 28
        }
      ]
    },
    {
      "cell_type": "code",
      "source": [
        "i = 0\n",
        "for u in unique_users:\n",
        "    if u in graph:\n",
        "        i += 1\n",
        "print(i)"
      ],
      "metadata": {
        "colab": {
          "base_uri": "https://localhost:8080/"
        },
        "id": "bQttmXbOfwz3",
        "outputId": "aad1e14e-f84c-4c56-d477-69c019ef27eb"
      },
      "execution_count": 29,
      "outputs": [
        {
          "output_type": "stream",
          "name": "stdout",
          "text": [
            "756\n"
          ]
        }
      ]
    },
    {
      "cell_type": "code",
      "source": [
        "for i, l in users_tweeted.iteritems():\n",
        "    if not len(l):\n",
        "        continue\n",
        "    a_node = f\"a{i}\"\n",
        "    graph.add_edges_from([(a_node, u_node) for u_node in l if u_node in graph])\n",
        "\n",
        "graph.number_of_nodes(), graph.number_of_edges()"
      ],
      "metadata": {
        "id": "TacXl683Z-BC",
        "colab": {
          "base_uri": "https://localhost:8080/"
        },
        "outputId": "733f83e1-c886-4410-ccc7-d50de0e63d5c"
      },
      "execution_count": 30,
      "outputs": [
        {
          "output_type": "execute_result",
          "data": {
            "text/plain": [
              "(31896, 49576)"
            ]
          },
          "metadata": {},
          "execution_count": 30
        }
      ]
    },
    {
      "cell_type": "code",
      "source": [
        "tmp = users_tweeted.map(len)\n",
        "tmp.min(), tmp.mean(), tmp.max()"
      ],
      "metadata": {
        "colab": {
          "base_uri": "https://localhost:8080/"
        },
        "id": "-lnh-YSHaYlH",
        "outputId": "8787815a-48b7-4d74-b5e7-40456e35c34f"
      },
      "execution_count": 31,
      "outputs": [
        {
          "output_type": "execute_result",
          "data": {
            "text/plain": [
              "(0, 70.42953020134229, 21984)"
            ]
          },
          "metadata": {},
          "execution_count": 31
        }
      ]
    },
    {
      "cell_type": "markdown",
      "source": [
        "## GNN"
      ],
      "metadata": {
        "id": "gI6AtSffmcqr"
      }
    },
    {
      "cell_type": "markdown",
      "source": [
        "### data"
      ],
      "metadata": {
        "id": "FfaOg08xmfEp"
      }
    },
    {
      "cell_type": "code",
      "source": [
        "%%capture\n",
        "!pip install dgl wandb"
      ],
      "metadata": {
        "id": "xjD3rF-MmwKa"
      },
      "execution_count": 32,
      "outputs": []
    },
    {
      "cell_type": "code",
      "source": [
        "import os\n",
        "import jsonlines\n",
        "import numpy as np\n",
        "import torch\n",
        "import dgl\n",
        "\n",
        "import wandb\n",
        "import IPython.display as ipd"
      ],
      "metadata": {
        "id": "yp52MLR1mdxA",
        "colab": {
          "base_uri": "https://localhost:8080/"
        },
        "outputId": "223d5a48-9605-49b4-9cec-230b16ed2111"
      },
      "execution_count": 33,
      "outputs": [
        {
          "output_type": "stream",
          "name": "stderr",
          "text": [
            "DGL backend not selected or invalid.  Assuming PyTorch for now.\n",
            "Using backend: pytorch\n"
          ]
        },
        {
          "output_type": "stream",
          "name": "stdout",
          "text": [
            "Setting the default backend to \"pytorch\". You can change it in the ~/.dgl/config.json file or export the DGLBACKEND environment variable.  Valid options are: pytorch, mxnet, tensorflow (all lowercase)\n"
          ]
        }
      ]
    },
    {
      "cell_type": "code",
      "source": [
        "u2i = {}\n",
        "\n",
        "follow_src = []\n",
        "follow_dst = []\n",
        "with jsonlines.open(base_dir/\"followers.jsonl\") as reader:\n",
        "    for line in reader:\n",
        "        v = line[\"user_id\"]\n",
        "        if v not in u2i:\n",
        "            u2i[v] = len(u2i)\n",
        "        for u in line[\"followers\"]:\n",
        "            if u not in u2i:\n",
        "                u2i[u] = len(u2i)\n",
        "            follow_src.append(u2i[u])\n",
        "            follow_dst.append(u2i[v])"
      ],
      "metadata": {
        "id": "h3XOCaEwoMvx"
      },
      "execution_count": 34,
      "outputs": []
    },
    {
      "cell_type": "code",
      "source": [
        "with jsonlines.open(base_dir/\"following.jsonl\") as reader:\n",
        "    for line in reader:\n",
        "        u = line[\"user_id\"]\n",
        "        if u not in u2i:\n",
        "            u2i[u] = len(u2i)\n",
        "        for v in line[\"following\"]:\n",
        "            if v not in u2i:\n",
        "                u2i[v] = len(u2i)\n",
        "            follow_src.append(u2i[u])\n",
        "            follow_dst.append(u2i[v])"
      ],
      "metadata": {
        "id": "sWJFoJ_4oMvz"
      },
      "execution_count": 35,
      "outputs": []
    },
    {
      "cell_type": "code",
      "source": [
        "tweet_src = []\n",
        "tweet_dst = []\n",
        "\n",
        "for v, l in users_tweeted.iteritems():\n",
        "    if not len(l):\n",
        "        continue\n",
        "    for u in l:\n",
        "        if u in u2i:\n",
        "            tweet_src.append(u2i[u])\n",
        "            tweet_dst.append(v)"
      ],
      "metadata": {
        "id": "DWM9MEXDpiyX"
      },
      "execution_count": 36,
      "outputs": []
    },
    {
      "cell_type": "code",
      "source": [
        "text_embs = np.load(base_dir/'sbert_fulltext_embeddings.npy')\n",
        "text_embs.shape"
      ],
      "metadata": {
        "colab": {
          "base_uri": "https://localhost:8080/"
        },
        "id": "CxkWUv799WnY",
        "outputId": "992de9ae-5518-4176-df52-7b24f6cbd70d"
      },
      "execution_count": 37,
      "outputs": [
        {
          "output_type": "execute_result",
          "data": {
            "text/plain": [
              "(894, 768)"
            ]
          },
          "metadata": {},
          "execution_count": 37
        }
      ]
    },
    {
      "cell_type": "code",
      "source": [
        "follow_src = torch.tensor(follow_src)\n",
        "follow_dst = torch.tensor(follow_dst)\n",
        "tweet_src = torch.tensor(tweet_src)\n",
        "tweet_dst = torch.tensor(tweet_dst)\n",
        "\n",
        "hetero_graph = dgl.heterograph({\n",
        "    ('user', 'follow', 'user'): (follow_src, follow_dst),\n",
        "    ('user', 'followed-by', 'user'): (follow_dst, follow_src),\n",
        "    ('user', 'tweet', 'article'): (tweet_src, tweet_dst),\n",
        "    ('article', 'tweeted-by', 'user'): (tweet_dst, tweet_src)})\n",
        "\n",
        "hetero_graph.nodes['user'].data['feat'] = torch.arange(hetero_graph.num_nodes('user'))\n",
        "hetero_graph.nodes['article'].data['feat'] = torch.tensor(text_embs)\n",
        "hetero_graph.nodes['article'].data['label'] = torch.tensor((df.label==\"real\").to_numpy()).long()"
      ],
      "metadata": {
        "id": "ui3y2a80muWe"
      },
      "execution_count": 38,
      "outputs": []
    },
    {
      "cell_type": "code",
      "source": [
        "hetero_graph.number_of_nodes(ntype='article'), hetero_graph.number_of_nodes(ntype='user')"
      ],
      "metadata": {
        "colab": {
          "base_uri": "https://localhost:8080/"
        },
        "id": "IcmqOPpJsK6Z",
        "outputId": "99aaee3e-1194-4683-d155-713dd53f5312"
      },
      "execution_count": 39,
      "outputs": [
        {
          "output_type": "execute_result",
          "data": {
            "text/plain": [
              "(894, 31792)"
            ]
          },
          "metadata": {},
          "execution_count": 39
        }
      ]
    },
    {
      "cell_type": "code",
      "source": [
        "# hetero_graph.nodes['article'].data['train_mask'] = torch.zeros(hetero_graph.number_of_nodes(ntype='article'), dtype=torch.bool).bernoulli(0.8)"
      ],
      "metadata": {
        "id": "2LboKsvbsJAR"
      },
      "execution_count": 40,
      "outputs": []
    },
    {
      "cell_type": "markdown",
      "source": [
        "### Model"
      ],
      "metadata": {
        "id": "a_NnqbhIvgQm"
      }
    },
    {
      "cell_type": "code",
      "source": [
        "def flatten_dict(d):\n",
        "    for k, v in d.items():\n",
        "        d[k] = v.flatten(1)\n",
        "    return d"
      ],
      "metadata": {
        "id": "LqjDfQQYCzml"
      },
      "execution_count": 41,
      "outputs": []
    },
    {
      "cell_type": "code",
      "source": [
        "from collections import defaultdict\n",
        "import torch.nn as nn\n",
        "import torch.nn.functional as F\n",
        "\n",
        "def _d_emb(): return 64\n",
        "\n",
        "d_emb_dict = defaultdict(_d_emb)"
      ],
      "metadata": {
        "id": "oSGL7euSjzR-"
      },
      "execution_count": 42,
      "outputs": []
    },
    {
      "cell_type": "code",
      "source": [
        "class NodeEmbedding(nn.Module):\n",
        "\n",
        "    def __init__(self, n_nodes, d_in, d_emb, proj_nodes=None, embed_nodes=None):\n",
        "        super().__init__()\n",
        "        self.proj_nodes = proj_nodes if proj_nodes is not None else list(d_in.keys())\n",
        "        self.embed_nodes = embed_nodes if embed_nodes is not None else list(n_nodes.keys())\n",
        "        self.emb = nn.ModuleDict({k:nn.Embedding(n_nodes[k], d_emb) for k in self.embed_nodes})\n",
        "        self.proj = nn.ModuleDict({k:nn.Linear(d_in[k], d_emb, bias=False) for k in self.proj_nodes})\n",
        "        self.init()\n",
        "\n",
        "    def forward(self, nx):\n",
        "        out = {}\n",
        "        for k, m  in self.emb.items():\n",
        "            out[k] = m(nx[k])\n",
        "        for k, m  in self.proj.items():\n",
        "            out[k] = m(nx[k])\n",
        "        return out\n",
        "\n",
        "    def init(self):\n",
        "        for _, m in self.emb.items():\n",
        "            torch.nn.init.xavier_uniform_(m.weight)\n",
        "        for _, m in self.proj.items():\n",
        "            torch.nn.init.xavier_uniform_(m.weight)"
      ],
      "metadata": {
        "id": "YGqNa5UVgfio"
      },
      "execution_count": 43,
      "outputs": []
    },
    {
      "cell_type": "code",
      "source": [
        "emb = NodeEmbedding({k:hetero_graph.num_nodes(k) for k in [\"user\"]}, {\"article\":text_embs.shape[1]}, 64)"
      ],
      "metadata": {
        "id": "HZMUKp0Xl-8v"
      },
      "execution_count": 44,
      "outputs": []
    },
    {
      "cell_type": "code",
      "source": [
        "with torch.no_grad():\n",
        "    x = emb(hetero_graph.ndata['feat'])"
      ],
      "metadata": {
        "id": "BTV2S60Hwcut"
      },
      "execution_count": 45,
      "outputs": []
    },
    {
      "cell_type": "code",
      "source": [
        "for k, v in x.items():\n",
        "    print(k, v.shape)"
      ],
      "metadata": {
        "colab": {
          "base_uri": "https://localhost:8080/"
        },
        "id": "DPxiP5oiLFPb",
        "outputId": "da156b4f-6ebe-44c4-c6d4-2c5907bec49c"
      },
      "execution_count": 46,
      "outputs": [
        {
          "output_type": "stream",
          "name": "stdout",
          "text": [
            "user torch.Size([31792, 64])\n",
            "article torch.Size([894, 64])\n"
          ]
        }
      ]
    },
    {
      "cell_type": "code",
      "source": [
        "import torch as th\n",
        "from torch import nn\n",
        "\n",
        "from dgl import function as fn\n",
        "from dgl.nn.functional import edge_softmax\n",
        "from dgl.base import DGLError\n",
        "from dgl.nn.pytorch.utils import Identity\n",
        "from dgl.utils import expand_as_pair\n",
        "\n",
        "\n",
        "class GATConv(nn.Module):\n",
        "    r\"\"\"\n",
        "\n",
        "    Description\n",
        "    -----------\n",
        "    Apply `Graph Attention Network <https://arxiv.org/pdf/1710.10903.pdf>`__\n",
        "    over an input signal.\n",
        "\n",
        "    .. math::\n",
        "        h_i^{(l+1)} = \\sum_{j\\in \\mathcal{N}(i)} \\alpha_{i,j} W^{(l)} h_j^{(l)}\n",
        "\n",
        "    where :math:`\\alpha_{ij}` is the attention score bewteen node :math:`i` and\n",
        "    node :math:`j`:\n",
        "\n",
        "    .. math::\n",
        "        \\alpha_{ij}^{l} &= \\mathrm{softmax_i} (e_{ij}^{l})\n",
        "\n",
        "        e_{ij}^{l} &= \\mathrm{LeakyReLU}\\left(\\vec{a}^T [W h_{i} \\| W h_{j}]\\right)\n",
        "\n",
        "    Parameters\n",
        "    ----------\n",
        "    in_feats : int, or pair of ints\n",
        "        Input feature size; i.e, the number of dimensions of :math:`h_i^{(l)}`.\n",
        "        GATConv can be applied on homogeneous graph and unidirectional\n",
        "        `bipartite graph <https://docs.dgl.ai/generated/dgl.bipartite.html?highlight=bipartite>`__.\n",
        "        If the layer is to be applied to a unidirectional bipartite graph, ``in_feats``\n",
        "        specifies the input feature size on both the source and destination nodes.  If\n",
        "        a scalar is given, the source and destination node feature size would take the\n",
        "        same value.\n",
        "    out_feats : int\n",
        "        Output feature size; i.e, the number of dimensions of :math:`h_i^{(l+1)}`.\n",
        "    num_heads : int\n",
        "        Number of heads in Multi-Head Attention.\n",
        "    feat_drop : float, optional\n",
        "        Dropout rate on feature. Defaults: ``0``.\n",
        "    attn_drop : float, optional\n",
        "        Dropout rate on attention weight. Defaults: ``0``.\n",
        "    negative_slope : float, optional\n",
        "        LeakyReLU angle of negative slope. Defaults: ``0.2``.\n",
        "    residual : bool, optional\n",
        "        If True, use residual connection. Defaults: ``False``.\n",
        "    activation : callable activation function/layer or None, optional.\n",
        "        If not None, applies an activation function to the updated node features.\n",
        "        Default: ``None``.\n",
        "    allow_zero_in_degree : bool, optional\n",
        "        If there are 0-in-degree nodes in the graph, output for those nodes will be invalid\n",
        "        since no message will be passed to those nodes. This is harmful for some applications\n",
        "        causing silent performance regression. This module will raise a DGLError if it detects\n",
        "        0-in-degree nodes in input graph. By setting ``True``, it will suppress the check\n",
        "        and let the users handle it by themselves. Defaults: ``False``.\n",
        "    bias : bool, optional\n",
        "        If True, learns a bias term. Defaults: ``True``.\n",
        "\n",
        "    Note\n",
        "    ----\n",
        "    Zero in-degree nodes will lead to invalid output value. This is because no message\n",
        "    will be passed to those nodes, the aggregation function will be appied on empty input.\n",
        "    A common practice to avoid this is to add a self-loop for each node in the graph if\n",
        "    it is homogeneous, which can be achieved by:\n",
        "\n",
        "    >>> g = ... # a DGLGraph\n",
        "    >>> g = dgl.add_self_loop(g)\n",
        "\n",
        "    Calling ``add_self_loop`` will not work for some graphs, for example, heterogeneous graph\n",
        "    since the edge type can not be decided for self_loop edges. Set ``allow_zero_in_degree``\n",
        "    to ``True`` for those cases to unblock the code and handle zero-in-degree nodes manually.\n",
        "    A common practise to handle this is to filter out the nodes with zero-in-degree when use\n",
        "    after conv.\n",
        "\n",
        "    Examples\n",
        "    --------\n",
        "    >>> import dgl\n",
        "    >>> import numpy as np\n",
        "    >>> import torch as th\n",
        "    >>> from dgl.nn import GATConv\n",
        "\n",
        "    >>> # Case 1: Homogeneous graph\n",
        "    >>> g = dgl.graph(([0,1,2,3,2,5], [1,2,3,4,0,3]))\n",
        "    >>> g = dgl.add_self_loop(g)\n",
        "    >>> feat = th.ones(6, 10)\n",
        "    >>> gatconv = GATConv(10, 2, num_heads=3)\n",
        "    >>> res = gatconv(g, feat)\n",
        "    >>> res\n",
        "    tensor([[[ 3.4570,  1.8634],\n",
        "            [ 1.3805, -0.0762],\n",
        "            [ 1.0390, -1.1479]],\n",
        "            [[ 3.4570,  1.8634],\n",
        "            [ 1.3805, -0.0762],\n",
        "            [ 1.0390, -1.1479]],\n",
        "            [[ 3.4570,  1.8634],\n",
        "            [ 1.3805, -0.0762],\n",
        "            [ 1.0390, -1.1479]],\n",
        "            [[ 3.4570,  1.8634],\n",
        "            [ 1.3805, -0.0762],\n",
        "            [ 1.0390, -1.1479]],\n",
        "            [[ 3.4570,  1.8634],\n",
        "            [ 1.3805, -0.0762],\n",
        "            [ 1.0390, -1.1479]],\n",
        "            [[ 3.4570,  1.8634],\n",
        "            [ 1.3805, -0.0762],\n",
        "            [ 1.0390, -1.1479]]], grad_fn=<BinaryReduceBackward>)\n",
        "\n",
        "    >>> # Case 2: Unidirectional bipartite graph\n",
        "    >>> u = [0, 1, 0, 0, 1]\n",
        "    >>> v = [0, 1, 2, 3, 2]\n",
        "    >>> g = dgl.heterograph({('A', 'r', 'B'): (u, v)})\n",
        "    >>> u_feat = th.tensor(np.random.rand(2, 5).astype(np.float32))\n",
        "    >>> v_feat = th.tensor(np.random.rand(4, 10).astype(np.float32))\n",
        "    >>> gatconv = GATConv((5,10), 2, 3)\n",
        "    >>> res = gatconv(g, (u_feat, v_feat))\n",
        "    >>> res\n",
        "    tensor([[[-0.6066,  1.0268],\n",
        "            [-0.5945, -0.4801],\n",
        "            [ 0.1594,  0.3825]],\n",
        "            [[ 0.0268,  1.0783],\n",
        "            [ 0.5041, -1.3025],\n",
        "            [ 0.6568,  0.7048]],\n",
        "            [[-0.2688,  1.0543],\n",
        "            [-0.0315, -0.9016],\n",
        "            [ 0.3943,  0.5347]],\n",
        "            [[-0.6066,  1.0268],\n",
        "            [-0.5945, -0.4801],\n",
        "            [ 0.1594,  0.3825]]], grad_fn=<BinaryReduceBackward>)\n",
        "    \"\"\"\n",
        "    def __init__(self,\n",
        "                 in_feats,\n",
        "                 out_feats,\n",
        "                 num_heads,\n",
        "                 feat_drop=0.,\n",
        "                 attn_drop=0.,\n",
        "                 negative_slope=0.2,\n",
        "                 residual=False,\n",
        "                 activation=None,\n",
        "                 allow_zero_in_degree=False,\n",
        "                 bias=True):\n",
        "        super(GATConv, self).__init__()\n",
        "        self._num_heads = num_heads\n",
        "        self._in_src_feats, self._in_dst_feats = expand_as_pair(in_feats)\n",
        "        self._out_feats = out_feats\n",
        "        self._allow_zero_in_degree = allow_zero_in_degree\n",
        "        if isinstance(in_feats, tuple):\n",
        "            self.fc_src = nn.Linear(\n",
        "                self._in_src_feats, out_feats * num_heads, bias=False)\n",
        "            self.fc_dst = nn.Linear(\n",
        "                self._in_dst_feats, out_feats * num_heads, bias=False)\n",
        "        else:\n",
        "            self.fc = nn.Linear(\n",
        "                self._in_src_feats, out_feats * num_heads, bias=False)\n",
        "        self.attn_l = nn.Parameter(th.FloatTensor(size=(1, num_heads, out_feats)))\n",
        "        self.attn_r = nn.Parameter(th.FloatTensor(size=(1, num_heads, out_feats)))\n",
        "        self.feat_drop = nn.Dropout(feat_drop)\n",
        "        self.attn_drop = nn.Dropout(attn_drop)\n",
        "        self.leaky_relu = nn.LeakyReLU(negative_slope)\n",
        "        if bias:\n",
        "            self.bias = nn.Parameter(th.FloatTensor(size=(num_heads * out_feats,)))\n",
        "        else:\n",
        "            self.register_buffer('bias', None)\n",
        "        if residual:\n",
        "            if self._in_dst_feats != out_feats * num_heads:\n",
        "                self.res_fc = nn.Linear(\n",
        "                    self._in_dst_feats, num_heads * out_feats, bias=False)\n",
        "            else:\n",
        "                self.res_fc = Identity()\n",
        "        else:\n",
        "            self.register_buffer('res_fc', None)\n",
        "        self.reset_parameters()\n",
        "        self.activation = activation\n",
        "\n",
        "    def reset_parameters(self):\n",
        "        \"\"\"\n",
        "\n",
        "        Description\n",
        "        -----------\n",
        "        Reinitialize learnable parameters.\n",
        "\n",
        "        Note\n",
        "        ----\n",
        "        The fc weights :math:`W^{(l)}` are initialized using Glorot uniform initialization.\n",
        "        The attention weights are using xavier initialization method.\n",
        "        \"\"\"\n",
        "        gain = nn.init.calculate_gain('relu')\n",
        "        if hasattr(self, 'fc'):\n",
        "            nn.init.xavier_normal_(self.fc.weight, gain=gain)\n",
        "        else:\n",
        "            nn.init.xavier_normal_(self.fc_src.weight, gain=gain)\n",
        "            nn.init.xavier_normal_(self.fc_dst.weight, gain=gain)\n",
        "        nn.init.xavier_normal_(self.attn_l, gain=gain)\n",
        "        nn.init.xavier_normal_(self.attn_r, gain=gain)\n",
        "        if self.bias is not None:\n",
        "            nn.init.constant_(self.bias, 0)\n",
        "        if isinstance(self.res_fc, nn.Linear):\n",
        "            nn.init.xavier_normal_(self.res_fc.weight, gain=gain)\n",
        "\n",
        "    def set_allow_zero_in_degree(self, set_value):\n",
        "        r\"\"\"\n",
        "\n",
        "        Description\n",
        "        -----------\n",
        "        Set allow_zero_in_degree flag.\n",
        "\n",
        "        Parameters\n",
        "        ----------\n",
        "        set_value : bool\n",
        "            The value to be set to the flag.\n",
        "        \"\"\"\n",
        "        self._allow_zero_in_degree = set_value\n",
        "\n",
        "    def forward(self, graph, feat, get_attention=False):\n",
        "        r\"\"\"\n",
        "\n",
        "        Description\n",
        "        -----------\n",
        "        Compute graph attention network layer.\n",
        "\n",
        "        Parameters\n",
        "        ----------\n",
        "        graph : DGLGraph\n",
        "            The graph.\n",
        "        feat : torch.Tensor or pair of torch.Tensor\n",
        "            If a torch.Tensor is given, the input feature of shape :math:`(N, *, D_{in})` where\n",
        "            :math:`D_{in}` is size of input feature, :math:`N` is the number of nodes.\n",
        "            If a pair of torch.Tensor is given, the pair must contain two tensors of shape\n",
        "            :math:`(N_{in}, *, D_{in_{src}})` and :math:`(N_{out}, *, D_{in_{dst}})`.\n",
        "        get_attention : bool, optional\n",
        "            Whether to return the attention values. Default to False.\n",
        "\n",
        "        Returns\n",
        "        -------\n",
        "        torch.Tensor\n",
        "            The output feature of shape :math:`(N, *, H, D_{out})` where :math:`H`\n",
        "            is the number of heads, and :math:`D_{out}` is size of output feature.\n",
        "        torch.Tensor, optional\n",
        "            The attention values of shape :math:`(E, *, H, 1)`, where :math:`E` is the number of\n",
        "            edges. This is returned only when :attr:`get_attention` is ``True``.\n",
        "\n",
        "        Raises\n",
        "        ------\n",
        "        DGLError\n",
        "            If there are 0-in-degree nodes in the input graph, it will raise DGLError\n",
        "            since no message will be passed to those nodes. This will cause invalid output.\n",
        "            The error can be ignored by setting ``allow_zero_in_degree`` parameter to ``True``.\n",
        "        \"\"\"\n",
        "        with graph.local_scope():\n",
        "            if not self._allow_zero_in_degree:\n",
        "                if (graph.in_degrees() == 0).any():\n",
        "                    raise DGLError('There are 0-in-degree nodes in the graph, '\n",
        "                                   'output for those nodes will be invalid. '\n",
        "                                   'This is harmful for some applications, '\n",
        "                                   'causing silent performance regression. '\n",
        "                                   'Adding self-loop on the input graph by '\n",
        "                                   'calling `g = dgl.add_self_loop(g)` will resolve '\n",
        "                                   'the issue. Setting ``allow_zero_in_degree`` '\n",
        "                                   'to be `True` when constructing this module will '\n",
        "                                   'suppress the check and let the code run.')\n",
        "\n",
        "            if isinstance(feat, tuple):\n",
        "                src_prefix_shape = feat[0].shape[:-1]\n",
        "                dst_prefix_shape = feat[1].shape[:-1]\n",
        "                h_src = self.feat_drop(feat[0])\n",
        "                h_dst = self.feat_drop(feat[1])\n",
        "                if not hasattr(self, 'fc_src'):\n",
        "                    feat_src = self.fc(h_src).view(\n",
        "                        *src_prefix_shape, self._num_heads, self._out_feats)\n",
        "                    feat_dst = self.fc(h_dst).view(\n",
        "                        *dst_prefix_shape, self._num_heads, self._out_feats)\n",
        "                else:\n",
        "                    feat_src = self.fc_src(h_src).view(\n",
        "                        *src_prefix_shape, self._num_heads, self._out_feats)\n",
        "                    feat_dst = self.fc_dst(h_dst).view(\n",
        "                        *dst_prefix_shape, self._num_heads, self._out_feats)\n",
        "            else:\n",
        "                src_prefix_shape = dst_prefix_shape = feat.shape[:-1]\n",
        "                h_src = h_dst = self.feat_drop(feat)\n",
        "                feat_src = feat_dst = self.fc(h_src).view(\n",
        "                    *src_prefix_shape, self._num_heads, self._out_feats)\n",
        "                if graph.is_block:\n",
        "                    feat_dst = feat_src[:graph.number_of_dst_nodes()]\n",
        "                    h_dst = h_dst[:graph.number_of_dst_nodes()]\n",
        "                    dst_prefix_shape = (graph.number_of_dst_nodes(),) + dst_prefix_shape[1:]\n",
        "            # NOTE: GAT paper uses \"first concatenation then linear projection\"\n",
        "            # to compute attention scores, while ours is \"first projection then\n",
        "            # addition\", the two approaches are mathematically equivalent:\n",
        "            # We decompose the weight vector a mentioned in the paper into\n",
        "            # [a_l || a_r], then\n",
        "            # a^T [Wh_i || Wh_j] = a_l Wh_i + a_r Wh_j\n",
        "            # Our implementation is much efficient because we do not need to\n",
        "            # save [Wh_i || Wh_j] on edges, which is not memory-efficient. Plus,\n",
        "            # addition could be optimized with DGL's built-in function u_add_v,\n",
        "            # which further speeds up computation and saves memory footprint.\n",
        "            el = (feat_src * self.attn_l).sum(dim=-1).unsqueeze(-1)\n",
        "            er = (feat_dst * self.attn_r).sum(dim=-1).unsqueeze(-1)\n",
        "            graph.srcdata.update({'ft': feat_src, 'el': el})\n",
        "            graph.dstdata.update({'er': er})\n",
        "            # compute edge attention, el and er are a_l Wh_i and a_r Wh_j respectively.\n",
        "            graph.apply_edges(fn.u_add_v('el', 'er', 'e'))\n",
        "            e = self.leaky_relu(graph.edata.pop('e'))\n",
        "            # compute softmax\n",
        "            graph.edata['a'] = self.attn_drop(edge_softmax(graph, e))\n",
        "            # message passing\n",
        "            graph.update_all(fn.u_mul_e('ft', 'a', 'm'),\n",
        "                             fn.sum('m', 'ft'))\n",
        "            rst = graph.dstdata['ft']\n",
        "            # residual\n",
        "            if self.res_fc is not None:\n",
        "                # Use -1 rather than self._num_heads to handle broadcasting\n",
        "                resval = self.res_fc(h_dst).view(*dst_prefix_shape, self._num_heads, self._out_feats)\n",
        "                rst = rst + resval\n",
        "            # bias\n",
        "            if self.bias is not None:\n",
        "                rst = rst + self.bias.view(\n",
        "                    *((1,) * len(dst_prefix_shape)), self._num_heads, self._out_feats)\n",
        "            # activation\n",
        "            if self.activation:\n",
        "                rst = self.activation(rst)\n",
        "\n",
        "            if get_attention:\n",
        "                return rst, graph.edata['a']\n",
        "            else:\n",
        "                return rst\n"
      ],
      "metadata": {
        "id": "k82o39yKiI6l"
      },
      "execution_count": 47,
      "outputs": []
    },
    {
      "cell_type": "code",
      "source": [
        "class GATEncoder(torch.nn.Module):\n",
        "\n",
        "    def __init__(self, d_in, d_h, etypes, num_heads=1, dropout=0.1):\n",
        "        super().__init__()\n",
        "        self.conv1 = dgl.nn.HeteroGraphConv({\n",
        "            rel : GATConv(d_in, d_h, num_heads, dropout, dropout,\n",
        "                      residual=True, activation=nn.SELU(), \n",
        "                  ) for rel in etypes\n",
        "        })\n",
        "        self.conv2 = dgl.nn.HeteroGraphConv({\n",
        "            rel : GATConv(d_h*num_heads, d_h, num_heads, dropout, dropout,\n",
        "                      residual=True, activation=None, \n",
        "                  ) for rel in etypes\n",
        "        })\n",
        "\n",
        "    def forward(self, graph, x):\n",
        "        x = flatten_dict(self.conv1(graph, x))\n",
        "        x = flatten_dict(self.conv2(graph, x))\n",
        "        return x"
      ],
      "metadata": {
        "id": "VFx3l8mOsuke"
      },
      "execution_count": 48,
      "outputs": []
    },
    {
      "cell_type": "code",
      "source": [
        "enc = GATEncoder(64, 64, hetero_graph.etypes)\n",
        "\n",
        "with torch.no_grad():\n",
        "    out = enc(hetero_graph, x)\n",
        "\n",
        "for k, v in out.items():\n",
        "    print(k, v.shape)"
      ],
      "metadata": {
        "colab": {
          "base_uri": "https://localhost:8080/"
        },
        "id": "2qTEeMWt1NUq",
        "outputId": "71a75fab-91fa-407d-88ee-f9d73d6a1ec3"
      },
      "execution_count": 49,
      "outputs": [
        {
          "output_type": "stream",
          "name": "stdout",
          "text": [
            "article torch.Size([894, 64])\n",
            "user torch.Size([31792, 64])\n"
          ]
        }
      ]
    },
    {
      "cell_type": "code",
      "source": [
        "class HetGNN(nn.Module):\n",
        "\n",
        "    def __init__(self, g, n_nodes, d_feats, d_emb, d_h, tgt_ntype, num_heads=1):\n",
        "        super().__init__()\n",
        "        self.tgt_ntype = tgt_ntype\n",
        "        self.emb = NodeEmbedding(n_nodes, d_feats, d_emb)\n",
        "        self.encoder = GATEncoder(d_emb, d_h, g.etypes, num_heads)\n",
        "        self.head = nn.Linear(d_h*num_heads, 2)\n",
        "\n",
        "    def forward(self, graph, x):\n",
        "        h = self.emb(x)\n",
        "        h = self.encoder(graph, h)\n",
        "        return self.head(h[self.tgt_ntype])"
      ],
      "metadata": {
        "id": "QKkjZgvfzZbn"
      },
      "execution_count": 50,
      "outputs": []
    },
    {
      "cell_type": "code",
      "source": [
        "model = HetGNN(hetero_graph, {k:hetero_graph.num_nodes(k) for k in [\"user\"]}, {'article':text_embs.shape[1]}, 64, 64, \"article\")"
      ],
      "metadata": {
        "id": "aY0DeDcd3jy-"
      },
      "execution_count": 51,
      "outputs": []
    },
    {
      "cell_type": "code",
      "source": [
        "with torch.no_grad():\n",
        "    x = hetero_graph.ndata['feat']\n",
        "    logits = model(hetero_graph, x)\n",
        "\n",
        "logits.shape"
      ],
      "metadata": {
        "colab": {
          "base_uri": "https://localhost:8080/"
        },
        "id": "gz8m3W6l4S6J",
        "outputId": "13b39783-e795-44b0-fd99-e6b618a2b0a4"
      },
      "execution_count": 52,
      "outputs": [
        {
          "output_type": "execute_result",
          "data": {
            "text/plain": [
              "torch.Size([894, 2])"
            ]
          },
          "metadata": {},
          "execution_count": 52
        }
      ]
    },
    {
      "cell_type": "code",
      "source": [
        "def accuracy(logits, labels):\n",
        "    return (logits.argmax(-1) == labels).float().mean()"
      ],
      "metadata": {
        "id": "BunQmwFY8Xso"
      },
      "execution_count": 53,
      "outputs": []
    },
    {
      "cell_type": "code",
      "source": [
        "x = hetero_graph.ndata['feat']\n",
        "labels = hetero_graph.ndata['label']['article']"
      ],
      "metadata": {
        "id": "yvbuuvi556U4"
      },
      "execution_count": 54,
      "outputs": []
    },
    {
      "cell_type": "code",
      "source": [
        "from sklearn.model_selection import StratifiedKFold\n",
        "\n",
        "skf = StratifiedKFold(shuffle=True, random_state=124)"
      ],
      "metadata": {
        "id": "faEjToOWbAQl"
      },
      "execution_count": 55,
      "outputs": []
    },
    {
      "cell_type": "code",
      "source": [
        "from sklearn.metrics import accuracy_score, f1_score, precision_score, recall_score\n",
        "\n",
        "metrics = [accuracy_score, f1_score, precision_score, recall_score]\n",
        "def get_name(score_func):\n",
        "    return score_func.__name__.split(\"_\")[0]"
      ],
      "metadata": {
        "id": "1vjIXm2wM6_T"
      },
      "execution_count": 56,
      "outputs": []
    },
    {
      "cell_type": "code",
      "source": [
        "def train(fold, train_idx, valid_idx, params):\n",
        "\n",
        "    model = HetGNN(hetero_graph, {k:hetero_graph.num_nodes(k) for k in [\"user\"]}, {'article':text_embs.shape[1]}, 64, 64, \"article\")\n",
        "    opt = torch.optim.Adam(model.parameters(), params['lr'])\n",
        "\n",
        "    best_acc = 0\n",
        "    for epoch in range(params['n_epochs']):\n",
        "        model.train()\n",
        "        logits = model(hetero_graph, x)\n",
        "        \n",
        "        loss = F.cross_entropy(logits[train_idx], labels[train_idx])\n",
        "        acc = accuracy(logits[train_idx], labels[train_idx])\n",
        "        opt.zero_grad()\n",
        "        loss.backward()\n",
        "        opt.step()\n",
        "\n",
        "        model.eval()\n",
        "        with torch.no_grad():\n",
        "            logits = model(hetero_graph, x)\n",
        "            val_loss = F.cross_entropy(logits[valid_idx], labels[valid_idx])\n",
        "            val_acc = accuracy(logits[valid_idx], labels[valid_idx])\n",
        "        wandb.log({'train_loss':loss.item(), 'train_acc':acc, 'valid_loss':val_loss.item(), 'valid_acc':val_acc}, step=epoch)\n",
        "        print(f\"{epoch+1:>2}: Train loss {loss.item():.4f}, acc {acc:.4f}%; validation loss {val_loss.item():.4f}, acc {val_acc:.4f}%\")\n",
        "\n",
        "        if val_acc >= best_acc:\n",
        "            best_acc = val_acc\n",
        "            torch.save(model.state_dict(), f'models/model-{fold}.pt')\n",
        "\n",
        "    # load best model and evaluate\n",
        "    model.load_state_dict(torch.load(f'models/model-{fold}.pt'))\n",
        "    model.eval()\n",
        "    with torch.no_grad():\n",
        "        logits = model(hetero_graph, x)\n",
        "    preds = logits[valid_idx].argmax(-1).cpu().numpy()\n",
        "    targs = labels[valid_idx].cpu().numpy()\n",
        "    \n",
        "    eval_results = {get_name(f):f(y_pred=preds, y_true=targs) for f in metrics}\n",
        "    print(\"Final evaluation results:\")\n",
        "    for k,v in eval_results.items():\n",
        "        print(f\"{k:<16}{v:.4f}\")\n",
        "    \n",
        "    wandb.log(eval_results)\n",
        "    wandb.log({\"conf_mat\" : wandb.plot.confusion_matrix(probs=None,\n",
        "                            y_true=targs, preds=preds,\n",
        "                            class_names=[\"Fake\", \"Real\"])})\n"
      ],
      "metadata": {
        "id": "4lvLwrItbAQp"
      },
      "execution_count": 57,
      "outputs": []
    },
    {
      "cell_type": "code",
      "source": [
        "params = {\n",
        "    \"n_epochs\":20,\n",
        "    'lr':1e-2,\n",
        "    \"seed\":124\n",
        "}\n",
        "\n",
        "x = hetero_graph.ndata['feat']\n",
        "labels = hetero_graph.ndata['label']['article']"
      ],
      "metadata": {
        "id": "VWKvv1xebAQu"
      },
      "execution_count": 58,
      "outputs": []
    },
    {
      "cell_type": "code",
      "source": [
        "if not os.path.exists('models'):\n",
        "    os.mkdir('models')\n",
        "\n",
        "\n",
        "GROUP = \"sbert-fulltext-hetgnn-ua\"\n",
        "for fold_id, (train_idx, valid_idx) in enumerate(skf.split(labels, labels)):\n",
        "    ipd.clear_output()\n",
        "    with wandb.init(entity=\"saloniteam\", project=\"fnd\", group=GROUP, name=f\"{GROUP}-fold-{fold_id}\") as run:\n",
        "        train(fold_id, train_idx, valid_idx, params)\n"
      ],
      "metadata": {
        "colab": {
          "base_uri": "https://localhost:8080/",
          "height": 841,
          "referenced_widgets": [
            "ff106795f8904d72bfdbfe07d25dc7f1",
            "3e0258748c284888a4c886d7f3f3196e",
            "28392f803b264dcc83322a7323043806",
            "e7dfc0f9df8f40c1867e994c9f065cf6",
            "9cdc7d051c54403dbae0bc3b2f4b2e3c",
            "cae3248d4a3a4038a4d55f6197f80415",
            "a5f9841ab698461aa5a4ca3a5d47cb25",
            "b35e30f59bc94f98a9d7598c9779ae3c",
            "f668e837ad874750a052e657c14e6332",
            "4e440f3ea0cb4b6c851d08bc61410d15",
            "cd0aa5d64dc04b56bf23559f8959d0d8",
            "861a586468454bc08b1c7144e1865e69",
            "ce1fede034e04b2c8f164aa6a380f756",
            "d529a641eef34fe7a5f5d5f433ec120e",
            "5f6b1671837a4542b625b17b9dd58c65",
            "6ff2b15f244e45ce852d779ddc320cdc",
            "7932bee259764a2ba061007fb9e9e7db",
            "3b6eba709e084dd9ba272413f2e52e85",
            "8de6ed54e64c4cc9b83f3ca7460df0d1",
            "fa9e473d24724f0e841252a97d1d021b",
            "ce8f540fd6fa4e388984d4a4a7719a27",
            "b6a084df08c4472783e69ce2a70afa3a",
            "0bb75709ff814916b43ababfa1c44755",
            "6420e91d8d5648d6bf6a4c8a6c5071be",
            "9f68aae0625b49878ec25d725a7e6118",
            "8de93de23fce448595ca3f809e079551",
            "73d58c00760e4a969eb1b86892fa0415",
            "9c82bc55ad5f4f31910507f272e8ef66",
            "0fb50bf1d1ba48e3a61a8d49c21ff371",
            "3a8c3a1242a34554a60917836a84ca00",
            "b22340affc354a73a03cb0f9a9d6aa59",
            "d953522f17df4a10bbec76d04856be57",
            "145c8810ed614593876013facabf785e",
            "7c3725f9ee254b40bf1a60511bc1c9e7",
            "0af8fad886674198ae6e757d59986da6",
            "d12279e8742e4afebc04c929501770ad",
            "95ff52e3a3c9444ea9fb5aeed5caeb4d",
            "c556b39c041e492ea91eff5e15d09d16",
            "8351ee104d3f41a2b20dfe648775da4a",
            "64c89267742043458fe15e99abc4cc8b"
          ]
        },
        "outputId": "2f998ee4-118e-4f1c-8374-a4a5a0457c13",
        "id": "7qBu9i1ebAQx"
      },
      "execution_count": 59,
      "outputs": [
        {
          "output_type": "display_data",
          "data": {
            "text/plain": [
              "<IPython.core.display.HTML object>"
            ],
            "text/html": [
              "Tracking run with wandb version 0.12.17"
            ]
          },
          "metadata": {}
        },
        {
          "output_type": "display_data",
          "data": {
            "text/plain": [
              "<IPython.core.display.HTML object>"
            ],
            "text/html": [
              "Run data is saved locally in <code>/content/wandb/run-20220609_124121-1d2rl8z6</code>"
            ]
          },
          "metadata": {}
        },
        {
          "output_type": "display_data",
          "data": {
            "text/plain": [
              "<IPython.core.display.HTML object>"
            ],
            "text/html": [
              "Syncing run <strong><a href=\"https://wandb.ai/saloniteam/fnd/runs/1d2rl8z6\" target=\"_blank\">sbert-fulltext-hetgnn-ua-fold-4</a></strong> to <a href=\"https://wandb.ai/saloniteam/fnd\" target=\"_blank\">Weights & Biases</a> (<a href=\"https://wandb.me/run\" target=\"_blank\">docs</a>)<br/>"
            ]
          },
          "metadata": {}
        },
        {
          "output_type": "stream",
          "name": "stdout",
          "text": [
            " 1: Train loss 0.6919, acc 0.5209%; validation loss 0.5611, acc 0.6180%\n",
            " 2: Train loss 0.5581, acc 0.6466%; validation loss 0.4725, acc 0.8483%\n",
            " 3: Train loss 0.4582, acc 0.8883%; validation loss 0.4083, acc 0.8483%\n",
            " 4: Train loss 0.3786, acc 0.8855%; validation loss 0.3637, acc 0.8427%\n",
            " 5: Train loss 0.3197, acc 0.8925%; validation loss 0.3284, acc 0.8652%\n",
            " 6: Train loss 0.2690, acc 0.9078%; validation loss 0.3079, acc 0.8876%\n",
            " 7: Train loss 0.2313, acc 0.9162%; validation loss 0.3029, acc 0.8876%\n",
            " 8: Train loss 0.2119, acc 0.9176%; validation loss 0.3064, acc 0.8876%\n",
            " 9: Train loss 0.1915, acc 0.9260%; validation loss 0.3163, acc 0.8820%\n",
            "10: Train loss 0.1737, acc 0.9330%; validation loss 0.3307, acc 0.8820%\n",
            "11: Train loss 0.1625, acc 0.9399%; validation loss 0.3448, acc 0.8764%\n",
            "12: Train loss 0.1505, acc 0.9427%; validation loss 0.3544, acc 0.8820%\n",
            "13: Train loss 0.1398, acc 0.9497%; validation loss 0.3614, acc 0.8876%\n",
            "14: Train loss 0.1337, acc 0.9483%; validation loss 0.3676, acc 0.8876%\n",
            "15: Train loss 0.1223, acc 0.9455%; validation loss 0.3742, acc 0.8764%\n",
            "16: Train loss 0.1151, acc 0.9511%; validation loss 0.3806, acc 0.8764%\n",
            "17: Train loss 0.1026, acc 0.9581%; validation loss 0.3869, acc 0.8820%\n",
            "18: Train loss 0.0972, acc 0.9609%; validation loss 0.3933, acc 0.8876%\n",
            "19: Train loss 0.0852, acc 0.9693%; validation loss 0.3990, acc 0.8764%\n",
            "20: Train loss 0.0802, acc 0.9721%; validation loss 0.4031, acc 0.8652%\n",
            "Final evaluation results:\n",
            "accuracy        0.8876\n",
            "f1              0.8947\n",
            "precision       0.9043\n",
            "recall          0.8854\n"
          ]
        },
        {
          "output_type": "display_data",
          "data": {
            "text/plain": [
              "<IPython.core.display.HTML object>"
            ],
            "text/html": [
              "Waiting for W&B process to finish... <strong style=\"color:green\">(success).</strong>"
            ]
          },
          "metadata": {}
        },
        {
          "output_type": "display_data",
          "data": {
            "text/plain": [
              "VBox(children=(Label(value='0.001 MB of 0.001 MB uploaded (0.000 MB deduped)\\r'), FloatProgress(value=0.880244…"
            ],
            "application/vnd.jupyter.widget-view+json": {
              "version_major": 2,
              "version_minor": 0,
              "model_id": "145c8810ed614593876013facabf785e"
            }
          },
          "metadata": {}
        },
        {
          "output_type": "display_data",
          "data": {
            "text/plain": [
              "<IPython.core.display.HTML object>"
            ],
            "text/html": [
              "<style>\n",
              "    table.wandb td:nth-child(1) { padding: 0 10px; text-align: left ; width: auto;} td:nth-child(2) {text-align: left ; width: 100%}\n",
              "    .wandb-row { display: flex; flex-direction: row; flex-wrap: wrap; justify-content: flex-start; width: 100% }\n",
              "    .wandb-col { display: flex; flex-direction: column; flex-basis: 100%; flex: 1; padding: 10px; }\n",
              "    </style>\n",
              "<div class=\"wandb-row\"><div class=\"wandb-col\"><h3>Run history:</h3><br/><table class=\"wandb\"><tr><td>accuracy</td><td>▁</td></tr><tr><td>f1</td><td>▁</td></tr><tr><td>precision</td><td>▁</td></tr><tr><td>recall</td><td>▁</td></tr><tr><td>train_acc</td><td>▁▃▇▇▇▇▇▇▇▇██████████</td></tr><tr><td>train_loss</td><td>█▆▅▄▄▃▃▃▂▂▂▂▂▂▁▁▁▁▁▁</td></tr><tr><td>valid_acc</td><td>▁▇▇▇▇██████████████▇</td></tr><tr><td>valid_loss</td><td>█▆▄▃▂▁▁▁▁▂▂▂▃▃▃▃▃▃▄▄</td></tr></table><br/></div><div class=\"wandb-col\"><h3>Run summary:</h3><br/><table class=\"wandb\"><tr><td>accuracy</td><td>0.88764</td></tr><tr><td>f1</td><td>0.89474</td></tr><tr><td>precision</td><td>0.90426</td></tr><tr><td>recall</td><td>0.88542</td></tr><tr><td>train_acc</td><td>0.97207</td></tr><tr><td>train_loss</td><td>0.08018</td></tr><tr><td>valid_acc</td><td>0.86517</td></tr><tr><td>valid_loss</td><td>0.40313</td></tr></table><br/></div></div>"
            ]
          },
          "metadata": {}
        },
        {
          "output_type": "display_data",
          "data": {
            "text/plain": [
              "<IPython.core.display.HTML object>"
            ],
            "text/html": [
              "Synced <strong style=\"color:#cdcd00\">sbert-fulltext-hetgnn-ua-fold-4</strong>: <a href=\"https://wandb.ai/saloniteam/fnd/runs/1d2rl8z6\" target=\"_blank\">https://wandb.ai/saloniteam/fnd/runs/1d2rl8z6</a><br/>Synced 5 W&B file(s), 1 media file(s), 1 artifact file(s) and 0 other file(s)"
            ]
          },
          "metadata": {}
        },
        {
          "output_type": "display_data",
          "data": {
            "text/plain": [
              "<IPython.core.display.HTML object>"
            ],
            "text/html": [
              "Find logs at: <code>./wandb/run-20220609_124121-1d2rl8z6/logs</code>"
            ]
          },
          "metadata": {}
        }
      ]
    },
    {
      "cell_type": "code",
      "source": [
        ""
      ],
      "metadata": {
        "id": "EJY3UcWXPnVk"
      },
      "execution_count": 59,
      "outputs": []
    }
  ]
}