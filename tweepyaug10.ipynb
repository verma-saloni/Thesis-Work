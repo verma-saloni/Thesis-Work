{
  "cells": [
    {
      "cell_type": "markdown",
      "metadata": {
        "id": "view-in-github",
        "colab_type": "text"
      },
      "source": [
        "<a href=\"https://colab.research.google.com/github/verma-saloni/Thesis-Work/blob/main/tweepyaug10.ipynb\" target=\"_parent\"><img src=\"https://colab.research.google.com/assets/colab-badge.svg\" alt=\"Open In Colab\"/></a>"
      ]
    },
    {
      "cell_type": "code",
      "execution_count": null,
      "id": "9f6b3071",
      "metadata": {
        "id": "9f6b3071",
        "outputId": "fee3b75b-ca18-40d8-f7cf-4863b17bf87a"
      },
      "outputs": [
        {
          "ename": "SyntaxError",
          "evalue": "(unicode error) 'unicodeescape' codec can't decode bytes in position 2-3: truncated \\UXXXXXXXX escape (Temp/ipykernel_27424/4272834908.py, line 88)",
          "output_type": "error",
          "traceback": [
            "\u001b[1;36m  File \u001b[1;32m\"C:\\Users\\salon\\AppData\\Local\\Temp/ipykernel_27424/4272834908.py\"\u001b[1;36m, line \u001b[1;32m88\u001b[0m\n\u001b[1;33m    parser.add_argument('C:\\Users\\salon\\Downloads\\politifact_agg.csv', type=str, help=\"Path to dataframe with `retweets` column\")\u001b[0m\n\u001b[1;37m                                                                     ^\u001b[0m\n\u001b[1;31mSyntaxError\u001b[0m\u001b[1;31m:\u001b[0m (unicode error) 'unicodeescape' codec can't decode bytes in position 2-3: truncated \\UXXXXXXXX escape\n"
          ]
        }
      ],
      "source": [
        "!python get_retweet_user_info.py --df politifact_agg.csv --label real --bs 4 --max-iter 5\n",
        "\n",
        "import argparse\n",
        "\n",
        "import json\n",
        "import ast\n",
        "import tweepy\n",
        "import pandas as pd\n",
        "from tqdm.auto import tqdm\n",
        "\n",
        "from datetime import datetime\n",
        "\n",
        "consumer_key = \"sGqhuuHrWcoPleaKhBgAv6Iff\"\n",
        "consumer_secret = \"kvTUnIkhf4jWCUOR73xSisYY3ksiT8eMFN4FBJxjqoBuhMjHkK\"\n",
        "access_key = \"3289043624-Rme14R7m9XK4jIJywousUezoOc6s8WI5BrZkZoxG\"\n",
        "access_secret = \"PleIICcykMGeySUnUYKiarUljnTltnXftUZ5Yz5TrvcfR\"\n",
        "\n",
        "def main(api, args):\n",
        "\n",
        "    df = pd.read_csv(args.df)\n",
        "    assert args.label in ('fake', 'real'), \"category should be one of `fake`, `real`\"\n",
        "\n",
        "    df = df[df['label'] == args.label]\n",
        "    df['retweets'] = df.retweets.map(ast.literal_eval)\n",
        "\n",
        "    retweets = set()\n",
        "    for l in df.retweets:\n",
        "        l = [int(x) for x in l[:args.max_retweets]]\n",
        "        retweets.update(set(l))\n",
        "\n",
        "    retweets = sorted(list(retweets))\n",
        "\n",
        "    if args.t2u is None:\n",
        "        t2u = {}\n",
        "    else:\n",
        "        with open(args.t2u) as f:\n",
        "            t2u = json.load(f)\n",
        "\n",
        "    if args.users_dict is None:\n",
        "        users_dict = {}\n",
        "    else:\n",
        "        with open(args.users_dict) as f:\n",
        "            users_dict = json.load(f)\n",
        "\n",
        "    if len(t2u):\n",
        "        retweets = [x for x in retweets if str(x) not in t2u]\n",
        "    print(f\"{len(retweets)} retweets to process...\")\n",
        "    user_keys = ['screen_name', 'location', 'description', 'followers_count', 'friends_count', 'verified']\n",
        "\n",
        "    for i in range(len(retweets)//args.bs):\n",
        "        batch = retweets[i*args.bs: (i+1)*args.bs]\n",
        "        tweet_infos = api.lookup_statuses(batch, include_entities=False, trim_user=False)\n",
        "        if not len(tweet_infos):\n",
        "            continue\n",
        "        for tweet in tqdm(tweet_infos):\n",
        "            uid = tweet.user.id\n",
        "            t2u[tweet.id] = uid\n",
        "\n",
        "            if uid in users_dict:\n",
        "                continue\n",
        "            user_info = {k:getattr(tweet.user, k, None) for k in user_keys}\n",
        "            friends = []\n",
        "            for page in tweepy.Cursor(api.get_friend_ids, user_id=uid).pages():\n",
        "                friends.extend(page)\n",
        "                if args.max_friends and len(friends) >= args.max_friends:\n",
        "                    break\n",
        "            followers = []\n",
        "            for page in tweepy.Cursor(api.get_follower_ids, user_id=uid).pages():\n",
        "                followers.extend(page)\n",
        "                if args.max_followers and len(friends) >= args.max_followers:\n",
        "                    break\n",
        "            user_info['friends'] = friends\n",
        "            user_info['followers'] = followers\n",
        "            users_dict[uid] = user_info\n",
        "        if i == args.max_iter:\n",
        "            break\n",
        "        # time.sleep(1200)\n",
        "\n",
        "    with open('users_info.json', 'w') as f:\n",
        "        json.dump(users_dict, f)\n",
        "    with open('t2u.json', 'w') as f:\n",
        "        json.dump(t2u, f)\n",
        "\n",
        "\n",
        "if __name__==\"__main__\":\n",
        "\n",
        "    parser = argparse.ArgumentParser()\n",
        "    parser.add_argument('C:\\Users\\salon\\Downloads\\politifact_agg.csv', type=str, help=\"Path to dataframe with `retweets` column\")\n",
        "    parser.add_argument('--t2u', type=str, help=\"Path to json file containing tweet-to-user mapping\")\n",
        "    parser.add_argument('--users-dict', type=str, help=\"Path to user info dictionary\")\n",
        "    parser.add_argument('--max-iter', type=int, default=1, help='Number of tweet_id batches to process')\n",
        "    parser.add_argument('--max-friends', type=int, default=5000, help='Maximal number of friends to retrieve per user')\n",
        "    parser.add_argument('--max-followers', type=int, defaultc=5000, help='Maximal number of followers to retrieve per user')\n",
        "    parser.add_argument('--max_retweets', type=int, default=100, help=\"Maximal number of retweets per article to process\")\n",
        "    parser.add_argument('--label', type=str, help=\"Article label: fake or real\")\n",
        "    parser.add_argument('--bs', type=int, default=1, help=\"Batch size to process tweets\")\n",
        "\n",
        "    args = parser.parse_args()\n",
        "    \n",
        "    auth = tweepy.OAuthHandler(consumer_key,consumer_secret)\n",
        "    auth.set_access_token(access_key, access_secret)\n",
        "    api = tweepy.API(auth, wait_on_rate_limit=True)\n",
        "\n",
        "    main(api, args)\n",
        "\n"
      ]
    },
    {
      "cell_type": "code",
      "execution_count": null,
      "id": "baebdc70",
      "metadata": {
        "id": "baebdc70"
      },
      "outputs": [],
      "source": []
    },
    {
      "cell_type": "code",
      "execution_count": null,
      "id": "2152fccb",
      "metadata": {
        "id": "2152fccb"
      },
      "outputs": [],
      "source": []
    },
    {
      "cell_type": "code",
      "execution_count": null,
      "id": "f536c017",
      "metadata": {
        "id": "f536c017"
      },
      "outputs": [],
      "source": []
    },
    {
      "cell_type": "code",
      "execution_count": null,
      "id": "086406e7",
      "metadata": {
        "id": "086406e7"
      },
      "outputs": [],
      "source": []
    },
    {
      "cell_type": "code",
      "execution_count": null,
      "id": "e81f0713",
      "metadata": {
        "id": "e81f0713"
      },
      "outputs": [],
      "source": []
    }
  ],
  "metadata": {
    "kernelspec": {
      "display_name": "Python 3 (ipykernel)",
      "language": "python",
      "name": "python3"
    },
    "language_info": {
      "codemirror_mode": {
        "name": "ipython",
        "version": 3
      },
      "file_extension": ".py",
      "mimetype": "text/x-python",
      "name": "python",
      "nbconvert_exporter": "python",
      "pygments_lexer": "ipython3",
      "version": "3.9.7"
    },
    "colab": {
      "provenance": [],
      "include_colab_link": true
    }
  },
  "nbformat": 4,
  "nbformat_minor": 5
}