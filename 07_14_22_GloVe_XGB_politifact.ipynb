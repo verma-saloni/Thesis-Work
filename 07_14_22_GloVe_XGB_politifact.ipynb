{
  "nbformat": 4,
  "nbformat_minor": 0,
  "metadata": {
    "colab": {
      "name": "Copy of GloVe_XGB_politifact.ipynb",
      "provenance": [],
      "collapsed_sections": [],
      "include_colab_link": true
    },
    "kernelspec": {
      "name": "python3",
      "display_name": "Python 3"
    },
    "language_info": {
      "name": "python"
    },
    "widgets": {
      "application/vnd.jupyter.widget-state+json": {
        "c9f820d6c663470baa9e15156fb3b465": {
          "model_module": "@jupyter-widgets/controls",
          "model_name": "VBoxModel",
          "model_module_version": "1.5.0",
          "state": {
            "_dom_classes": [],
            "_model_module": "@jupyter-widgets/controls",
            "_model_module_version": "1.5.0",
            "_model_name": "VBoxModel",
            "_view_count": null,
            "_view_module": "@jupyter-widgets/controls",
            "_view_module_version": "1.5.0",
            "_view_name": "VBoxView",
            "box_style": "",
            "children": [
              "IPY_MODEL_1c8ea029acf44e2493d5bd5e86876fb9",
              "IPY_MODEL_0b8dce888c0642a6bc73fd0e526f4fa0"
            ],
            "layout": "IPY_MODEL_00e09a36fee0478eb26945ba4bd9ef99"
          }
        },
        "1c8ea029acf44e2493d5bd5e86876fb9": {
          "model_module": "@jupyter-widgets/controls",
          "model_name": "LabelModel",
          "model_module_version": "1.5.0",
          "state": {
            "_dom_classes": [],
            "_model_module": "@jupyter-widgets/controls",
            "_model_module_version": "1.5.0",
            "_model_name": "LabelModel",
            "_view_count": null,
            "_view_module": "@jupyter-widgets/controls",
            "_view_module_version": "1.5.0",
            "_view_name": "LabelView",
            "description": "",
            "description_tooltip": null,
            "layout": "IPY_MODEL_ff1bf02f1aa94b4a9781966d1df2cc3a",
            "placeholder": "​",
            "style": "IPY_MODEL_76381112b5e64bbe831e988d294eb849",
            "value": "0.040 MB of 0.040 MB uploaded (0.000 MB deduped)\r"
          }
        },
        "0b8dce888c0642a6bc73fd0e526f4fa0": {
          "model_module": "@jupyter-widgets/controls",
          "model_name": "FloatProgressModel",
          "model_module_version": "1.5.0",
          "state": {
            "_dom_classes": [],
            "_model_module": "@jupyter-widgets/controls",
            "_model_module_version": "1.5.0",
            "_model_name": "FloatProgressModel",
            "_view_count": null,
            "_view_module": "@jupyter-widgets/controls",
            "_view_module_version": "1.5.0",
            "_view_name": "ProgressView",
            "bar_style": "",
            "description": "",
            "description_tooltip": null,
            "layout": "IPY_MODEL_fa9c47db33374225ba26034e468c5bae",
            "max": 1,
            "min": 0,
            "orientation": "horizontal",
            "style": "IPY_MODEL_5131fca9b193430c91e36a576cdf57d7",
            "value": 1
          }
        },
        "00e09a36fee0478eb26945ba4bd9ef99": {
          "model_module": "@jupyter-widgets/base",
          "model_name": "LayoutModel",
          "model_module_version": "1.2.0",
          "state": {
            "_model_module": "@jupyter-widgets/base",
            "_model_module_version": "1.2.0",
            "_model_name": "LayoutModel",
            "_view_count": null,
            "_view_module": "@jupyter-widgets/base",
            "_view_module_version": "1.2.0",
            "_view_name": "LayoutView",
            "align_content": null,
            "align_items": null,
            "align_self": null,
            "border": null,
            "bottom": null,
            "display": null,
            "flex": null,
            "flex_flow": null,
            "grid_area": null,
            "grid_auto_columns": null,
            "grid_auto_flow": null,
            "grid_auto_rows": null,
            "grid_column": null,
            "grid_gap": null,
            "grid_row": null,
            "grid_template_areas": null,
            "grid_template_columns": null,
            "grid_template_rows": null,
            "height": null,
            "justify_content": null,
            "justify_items": null,
            "left": null,
            "margin": null,
            "max_height": null,
            "max_width": null,
            "min_height": null,
            "min_width": null,
            "object_fit": null,
            "object_position": null,
            "order": null,
            "overflow": null,
            "overflow_x": null,
            "overflow_y": null,
            "padding": null,
            "right": null,
            "top": null,
            "visibility": null,
            "width": null
          }
        },
        "ff1bf02f1aa94b4a9781966d1df2cc3a": {
          "model_module": "@jupyter-widgets/base",
          "model_name": "LayoutModel",
          "model_module_version": "1.2.0",
          "state": {
            "_model_module": "@jupyter-widgets/base",
            "_model_module_version": "1.2.0",
            "_model_name": "LayoutModel",
            "_view_count": null,
            "_view_module": "@jupyter-widgets/base",
            "_view_module_version": "1.2.0",
            "_view_name": "LayoutView",
            "align_content": null,
            "align_items": null,
            "align_self": null,
            "border": null,
            "bottom": null,
            "display": null,
            "flex": null,
            "flex_flow": null,
            "grid_area": null,
            "grid_auto_columns": null,
            "grid_auto_flow": null,
            "grid_auto_rows": null,
            "grid_column": null,
            "grid_gap": null,
            "grid_row": null,
            "grid_template_areas": null,
            "grid_template_columns": null,
            "grid_template_rows": null,
            "height": null,
            "justify_content": null,
            "justify_items": null,
            "left": null,
            "margin": null,
            "max_height": null,
            "max_width": null,
            "min_height": null,
            "min_width": null,
            "object_fit": null,
            "object_position": null,
            "order": null,
            "overflow": null,
            "overflow_x": null,
            "overflow_y": null,
            "padding": null,
            "right": null,
            "top": null,
            "visibility": null,
            "width": null
          }
        },
        "76381112b5e64bbe831e988d294eb849": {
          "model_module": "@jupyter-widgets/controls",
          "model_name": "DescriptionStyleModel",
          "model_module_version": "1.5.0",
          "state": {
            "_model_module": "@jupyter-widgets/controls",
            "_model_module_version": "1.5.0",
            "_model_name": "DescriptionStyleModel",
            "_view_count": null,
            "_view_module": "@jupyter-widgets/base",
            "_view_module_version": "1.2.0",
            "_view_name": "StyleView",
            "description_width": ""
          }
        },
        "fa9c47db33374225ba26034e468c5bae": {
          "model_module": "@jupyter-widgets/base",
          "model_name": "LayoutModel",
          "model_module_version": "1.2.0",
          "state": {
            "_model_module": "@jupyter-widgets/base",
            "_model_module_version": "1.2.0",
            "_model_name": "LayoutModel",
            "_view_count": null,
            "_view_module": "@jupyter-widgets/base",
            "_view_module_version": "1.2.0",
            "_view_name": "LayoutView",
            "align_content": null,
            "align_items": null,
            "align_self": null,
            "border": null,
            "bottom": null,
            "display": null,
            "flex": null,
            "flex_flow": null,
            "grid_area": null,
            "grid_auto_columns": null,
            "grid_auto_flow": null,
            "grid_auto_rows": null,
            "grid_column": null,
            "grid_gap": null,
            "grid_row": null,
            "grid_template_areas": null,
            "grid_template_columns": null,
            "grid_template_rows": null,
            "height": null,
            "justify_content": null,
            "justify_items": null,
            "left": null,
            "margin": null,
            "max_height": null,
            "max_width": null,
            "min_height": null,
            "min_width": null,
            "object_fit": null,
            "object_position": null,
            "order": null,
            "overflow": null,
            "overflow_x": null,
            "overflow_y": null,
            "padding": null,
            "right": null,
            "top": null,
            "visibility": null,
            "width": null
          }
        },
        "5131fca9b193430c91e36a576cdf57d7": {
          "model_module": "@jupyter-widgets/controls",
          "model_name": "ProgressStyleModel",
          "model_module_version": "1.5.0",
          "state": {
            "_model_module": "@jupyter-widgets/controls",
            "_model_module_version": "1.5.0",
            "_model_name": "ProgressStyleModel",
            "_view_count": null,
            "_view_module": "@jupyter-widgets/base",
            "_view_module_version": "1.2.0",
            "_view_name": "StyleView",
            "bar_color": null,
            "description_width": ""
          }
        },
        "ab47a07daafe4171bf27e7311c7ac4e6": {
          "model_module": "@jupyter-widgets/controls",
          "model_name": "VBoxModel",
          "model_module_version": "1.5.0",
          "state": {
            "_dom_classes": [],
            "_model_module": "@jupyter-widgets/controls",
            "_model_module_version": "1.5.0",
            "_model_name": "VBoxModel",
            "_view_count": null,
            "_view_module": "@jupyter-widgets/controls",
            "_view_module_version": "1.5.0",
            "_view_name": "VBoxView",
            "box_style": "",
            "children": [
              "IPY_MODEL_6bc4f23b7be746389019e66d4751ccf6",
              "IPY_MODEL_6e7a7f51e7da40b4b619c0c0d0b27e67"
            ],
            "layout": "IPY_MODEL_54e70fc4f78f4b40981d425c6c7cb04a"
          }
        },
        "6bc4f23b7be746389019e66d4751ccf6": {
          "model_module": "@jupyter-widgets/controls",
          "model_name": "LabelModel",
          "model_module_version": "1.5.0",
          "state": {
            "_dom_classes": [],
            "_model_module": "@jupyter-widgets/controls",
            "_model_module_version": "1.5.0",
            "_model_name": "LabelModel",
            "_view_count": null,
            "_view_module": "@jupyter-widgets/controls",
            "_view_module_version": "1.5.0",
            "_view_name": "LabelView",
            "description": "",
            "description_tooltip": null,
            "layout": "IPY_MODEL_fd34c5d78f26494f935e922580021882",
            "placeholder": "​",
            "style": "IPY_MODEL_9cc027d2602f479aacad972780e80292",
            "value": "0.039 MB of 0.039 MB uploaded (0.000 MB deduped)\r"
          }
        },
        "6e7a7f51e7da40b4b619c0c0d0b27e67": {
          "model_module": "@jupyter-widgets/controls",
          "model_name": "FloatProgressModel",
          "model_module_version": "1.5.0",
          "state": {
            "_dom_classes": [],
            "_model_module": "@jupyter-widgets/controls",
            "_model_module_version": "1.5.0",
            "_model_name": "FloatProgressModel",
            "_view_count": null,
            "_view_module": "@jupyter-widgets/controls",
            "_view_module_version": "1.5.0",
            "_view_name": "ProgressView",
            "bar_style": "",
            "description": "",
            "description_tooltip": null,
            "layout": "IPY_MODEL_bc735d9f9890439bab7b06bd25c2f938",
            "max": 1,
            "min": 0,
            "orientation": "horizontal",
            "style": "IPY_MODEL_1e0e13b45a8f40d399b9222861476e1e",
            "value": 1
          }
        },
        "54e70fc4f78f4b40981d425c6c7cb04a": {
          "model_module": "@jupyter-widgets/base",
          "model_name": "LayoutModel",
          "model_module_version": "1.2.0",
          "state": {
            "_model_module": "@jupyter-widgets/base",
            "_model_module_version": "1.2.0",
            "_model_name": "LayoutModel",
            "_view_count": null,
            "_view_module": "@jupyter-widgets/base",
            "_view_module_version": "1.2.0",
            "_view_name": "LayoutView",
            "align_content": null,
            "align_items": null,
            "align_self": null,
            "border": null,
            "bottom": null,
            "display": null,
            "flex": null,
            "flex_flow": null,
            "grid_area": null,
            "grid_auto_columns": null,
            "grid_auto_flow": null,
            "grid_auto_rows": null,
            "grid_column": null,
            "grid_gap": null,
            "grid_row": null,
            "grid_template_areas": null,
            "grid_template_columns": null,
            "grid_template_rows": null,
            "height": null,
            "justify_content": null,
            "justify_items": null,
            "left": null,
            "margin": null,
            "max_height": null,
            "max_width": null,
            "min_height": null,
            "min_width": null,
            "object_fit": null,
            "object_position": null,
            "order": null,
            "overflow": null,
            "overflow_x": null,
            "overflow_y": null,
            "padding": null,
            "right": null,
            "top": null,
            "visibility": null,
            "width": null
          }
        },
        "fd34c5d78f26494f935e922580021882": {
          "model_module": "@jupyter-widgets/base",
          "model_name": "LayoutModel",
          "model_module_version": "1.2.0",
          "state": {
            "_model_module": "@jupyter-widgets/base",
            "_model_module_version": "1.2.0",
            "_model_name": "LayoutModel",
            "_view_count": null,
            "_view_module": "@jupyter-widgets/base",
            "_view_module_version": "1.2.0",
            "_view_name": "LayoutView",
            "align_content": null,
            "align_items": null,
            "align_self": null,
            "border": null,
            "bottom": null,
            "display": null,
            "flex": null,
            "flex_flow": null,
            "grid_area": null,
            "grid_auto_columns": null,
            "grid_auto_flow": null,
            "grid_auto_rows": null,
            "grid_column": null,
            "grid_gap": null,
            "grid_row": null,
            "grid_template_areas": null,
            "grid_template_columns": null,
            "grid_template_rows": null,
            "height": null,
            "justify_content": null,
            "justify_items": null,
            "left": null,
            "margin": null,
            "max_height": null,
            "max_width": null,
            "min_height": null,
            "min_width": null,
            "object_fit": null,
            "object_position": null,
            "order": null,
            "overflow": null,
            "overflow_x": null,
            "overflow_y": null,
            "padding": null,
            "right": null,
            "top": null,
            "visibility": null,
            "width": null
          }
        },
        "9cc027d2602f479aacad972780e80292": {
          "model_module": "@jupyter-widgets/controls",
          "model_name": "DescriptionStyleModel",
          "model_module_version": "1.5.0",
          "state": {
            "_model_module": "@jupyter-widgets/controls",
            "_model_module_version": "1.5.0",
            "_model_name": "DescriptionStyleModel",
            "_view_count": null,
            "_view_module": "@jupyter-widgets/base",
            "_view_module_version": "1.2.0",
            "_view_name": "StyleView",
            "description_width": ""
          }
        },
        "bc735d9f9890439bab7b06bd25c2f938": {
          "model_module": "@jupyter-widgets/base",
          "model_name": "LayoutModel",
          "model_module_version": "1.2.0",
          "state": {
            "_model_module": "@jupyter-widgets/base",
            "_model_module_version": "1.2.0",
            "_model_name": "LayoutModel",
            "_view_count": null,
            "_view_module": "@jupyter-widgets/base",
            "_view_module_version": "1.2.0",
            "_view_name": "LayoutView",
            "align_content": null,
            "align_items": null,
            "align_self": null,
            "border": null,
            "bottom": null,
            "display": null,
            "flex": null,
            "flex_flow": null,
            "grid_area": null,
            "grid_auto_columns": null,
            "grid_auto_flow": null,
            "grid_auto_rows": null,
            "grid_column": null,
            "grid_gap": null,
            "grid_row": null,
            "grid_template_areas": null,
            "grid_template_columns": null,
            "grid_template_rows": null,
            "height": null,
            "justify_content": null,
            "justify_items": null,
            "left": null,
            "margin": null,
            "max_height": null,
            "max_width": null,
            "min_height": null,
            "min_width": null,
            "object_fit": null,
            "object_position": null,
            "order": null,
            "overflow": null,
            "overflow_x": null,
            "overflow_y": null,
            "padding": null,
            "right": null,
            "top": null,
            "visibility": null,
            "width": null
          }
        },
        "1e0e13b45a8f40d399b9222861476e1e": {
          "model_module": "@jupyter-widgets/controls",
          "model_name": "ProgressStyleModel",
          "model_module_version": "1.5.0",
          "state": {
            "_model_module": "@jupyter-widgets/controls",
            "_model_module_version": "1.5.0",
            "_model_name": "ProgressStyleModel",
            "_view_count": null,
            "_view_module": "@jupyter-widgets/base",
            "_view_module_version": "1.2.0",
            "_view_name": "StyleView",
            "bar_color": null,
            "description_width": ""
          }
        },
        "2d38a78a071a45e08335542fd42b7275": {
          "model_module": "@jupyter-widgets/controls",
          "model_name": "VBoxModel",
          "model_module_version": "1.5.0",
          "state": {
            "_dom_classes": [],
            "_model_module": "@jupyter-widgets/controls",
            "_model_module_version": "1.5.0",
            "_model_name": "VBoxModel",
            "_view_count": null,
            "_view_module": "@jupyter-widgets/controls",
            "_view_module_version": "1.5.0",
            "_view_name": "VBoxView",
            "box_style": "",
            "children": [
              "IPY_MODEL_d1029735d4b6490c8d15ef6434e110b6",
              "IPY_MODEL_2cca62af4d3a4c948be193369a164a59"
            ],
            "layout": "IPY_MODEL_18a3d7f5473c41aeb374897e01d94ffb"
          }
        },
        "d1029735d4b6490c8d15ef6434e110b6": {
          "model_module": "@jupyter-widgets/controls",
          "model_name": "LabelModel",
          "model_module_version": "1.5.0",
          "state": {
            "_dom_classes": [],
            "_model_module": "@jupyter-widgets/controls",
            "_model_module_version": "1.5.0",
            "_model_name": "LabelModel",
            "_view_count": null,
            "_view_module": "@jupyter-widgets/controls",
            "_view_module_version": "1.5.0",
            "_view_name": "LabelView",
            "description": "",
            "description_tooltip": null,
            "layout": "IPY_MODEL_9debbaabf193495e8d1fa9cd96429cf4",
            "placeholder": "​",
            "style": "IPY_MODEL_5b4ba4c8fd9046adb52fc62e67131339",
            "value": "0.038 MB of 0.038 MB uploaded (0.000 MB deduped)\r"
          }
        },
        "2cca62af4d3a4c948be193369a164a59": {
          "model_module": "@jupyter-widgets/controls",
          "model_name": "FloatProgressModel",
          "model_module_version": "1.5.0",
          "state": {
            "_dom_classes": [],
            "_model_module": "@jupyter-widgets/controls",
            "_model_module_version": "1.5.0",
            "_model_name": "FloatProgressModel",
            "_view_count": null,
            "_view_module": "@jupyter-widgets/controls",
            "_view_module_version": "1.5.0",
            "_view_name": "ProgressView",
            "bar_style": "",
            "description": "",
            "description_tooltip": null,
            "layout": "IPY_MODEL_f3848211b5484979a1d0388c72f64dbb",
            "max": 1,
            "min": 0,
            "orientation": "horizontal",
            "style": "IPY_MODEL_848610815be741c4acb645c096452dcb",
            "value": 1
          }
        },
        "18a3d7f5473c41aeb374897e01d94ffb": {
          "model_module": "@jupyter-widgets/base",
          "model_name": "LayoutModel",
          "model_module_version": "1.2.0",
          "state": {
            "_model_module": "@jupyter-widgets/base",
            "_model_module_version": "1.2.0",
            "_model_name": "LayoutModel",
            "_view_count": null,
            "_view_module": "@jupyter-widgets/base",
            "_view_module_version": "1.2.0",
            "_view_name": "LayoutView",
            "align_content": null,
            "align_items": null,
            "align_self": null,
            "border": null,
            "bottom": null,
            "display": null,
            "flex": null,
            "flex_flow": null,
            "grid_area": null,
            "grid_auto_columns": null,
            "grid_auto_flow": null,
            "grid_auto_rows": null,
            "grid_column": null,
            "grid_gap": null,
            "grid_row": null,
            "grid_template_areas": null,
            "grid_template_columns": null,
            "grid_template_rows": null,
            "height": null,
            "justify_content": null,
            "justify_items": null,
            "left": null,
            "margin": null,
            "max_height": null,
            "max_width": null,
            "min_height": null,
            "min_width": null,
            "object_fit": null,
            "object_position": null,
            "order": null,
            "overflow": null,
            "overflow_x": null,
            "overflow_y": null,
            "padding": null,
            "right": null,
            "top": null,
            "visibility": null,
            "width": null
          }
        },
        "9debbaabf193495e8d1fa9cd96429cf4": {
          "model_module": "@jupyter-widgets/base",
          "model_name": "LayoutModel",
          "model_module_version": "1.2.0",
          "state": {
            "_model_module": "@jupyter-widgets/base",
            "_model_module_version": "1.2.0",
            "_model_name": "LayoutModel",
            "_view_count": null,
            "_view_module": "@jupyter-widgets/base",
            "_view_module_version": "1.2.0",
            "_view_name": "LayoutView",
            "align_content": null,
            "align_items": null,
            "align_self": null,
            "border": null,
            "bottom": null,
            "display": null,
            "flex": null,
            "flex_flow": null,
            "grid_area": null,
            "grid_auto_columns": null,
            "grid_auto_flow": null,
            "grid_auto_rows": null,
            "grid_column": null,
            "grid_gap": null,
            "grid_row": null,
            "grid_template_areas": null,
            "grid_template_columns": null,
            "grid_template_rows": null,
            "height": null,
            "justify_content": null,
            "justify_items": null,
            "left": null,
            "margin": null,
            "max_height": null,
            "max_width": null,
            "min_height": null,
            "min_width": null,
            "object_fit": null,
            "object_position": null,
            "order": null,
            "overflow": null,
            "overflow_x": null,
            "overflow_y": null,
            "padding": null,
            "right": null,
            "top": null,
            "visibility": null,
            "width": null
          }
        },
        "5b4ba4c8fd9046adb52fc62e67131339": {
          "model_module": "@jupyter-widgets/controls",
          "model_name": "DescriptionStyleModel",
          "model_module_version": "1.5.0",
          "state": {
            "_model_module": "@jupyter-widgets/controls",
            "_model_module_version": "1.5.0",
            "_model_name": "DescriptionStyleModel",
            "_view_count": null,
            "_view_module": "@jupyter-widgets/base",
            "_view_module_version": "1.2.0",
            "_view_name": "StyleView",
            "description_width": ""
          }
        },
        "f3848211b5484979a1d0388c72f64dbb": {
          "model_module": "@jupyter-widgets/base",
          "model_name": "LayoutModel",
          "model_module_version": "1.2.0",
          "state": {
            "_model_module": "@jupyter-widgets/base",
            "_model_module_version": "1.2.0",
            "_model_name": "LayoutModel",
            "_view_count": null,
            "_view_module": "@jupyter-widgets/base",
            "_view_module_version": "1.2.0",
            "_view_name": "LayoutView",
            "align_content": null,
            "align_items": null,
            "align_self": null,
            "border": null,
            "bottom": null,
            "display": null,
            "flex": null,
            "flex_flow": null,
            "grid_area": null,
            "grid_auto_columns": null,
            "grid_auto_flow": null,
            "grid_auto_rows": null,
            "grid_column": null,
            "grid_gap": null,
            "grid_row": null,
            "grid_template_areas": null,
            "grid_template_columns": null,
            "grid_template_rows": null,
            "height": null,
            "justify_content": null,
            "justify_items": null,
            "left": null,
            "margin": null,
            "max_height": null,
            "max_width": null,
            "min_height": null,
            "min_width": null,
            "object_fit": null,
            "object_position": null,
            "order": null,
            "overflow": null,
            "overflow_x": null,
            "overflow_y": null,
            "padding": null,
            "right": null,
            "top": null,
            "visibility": null,
            "width": null
          }
        },
        "848610815be741c4acb645c096452dcb": {
          "model_module": "@jupyter-widgets/controls",
          "model_name": "ProgressStyleModel",
          "model_module_version": "1.5.0",
          "state": {
            "_model_module": "@jupyter-widgets/controls",
            "_model_module_version": "1.5.0",
            "_model_name": "ProgressStyleModel",
            "_view_count": null,
            "_view_module": "@jupyter-widgets/base",
            "_view_module_version": "1.2.0",
            "_view_name": "StyleView",
            "bar_color": null,
            "description_width": ""
          }
        }
      }
    },
    "accelerator": "GPU",
    "gpuClass": "standard"
  },
  "cells": [
    {
      "cell_type": "markdown",
      "metadata": {
        "id": "view-in-github",
        "colab_type": "text"
      },
      "source": [
        "<a href=\"https://colab.research.google.com/github/verma-saloni/Thesis-Work/blob/main/07_14_22_GloVe_XGB_politifact.ipynb\" target=\"_parent\"><img src=\"https://colab.research.google.com/assets/colab-badge.svg\" alt=\"Open In Colab\"/></a>"
      ]
    },
    {
      "cell_type": "markdown",
      "source": [
        "RQ1: Glove embeddings for feature Title and Text of the news article. Embeddings fed into the XgBoost ML model to see results. \n"
      ],
      "metadata": {
        "id": "-ppRdlsrDTcD"
      }
    },
    {
      "cell_type": "code",
      "source": [
        "!pip install -U xgboost wandb"
      ],
      "metadata": {
        "id": "GtXAlqhAwtgD",
        "colab": {
          "base_uri": "https://localhost:8080/"
        },
        "outputId": "a45dcae9-d997-4fd6-f505-15abac1c36da"
      },
      "execution_count": null,
      "outputs": [
        {
          "output_type": "stream",
          "name": "stdout",
          "text": [
            "Looking in indexes: https://pypi.org/simple, https://us-python.pkg.dev/colab-wheels/public/simple/\n",
            "Requirement already satisfied: xgboost in /usr/local/lib/python3.7/dist-packages (0.90)\n",
            "Collecting xgboost\n",
            "  Downloading xgboost-1.6.1-py3-none-manylinux2014_x86_64.whl (192.9 MB)\n",
            "\u001b[K     |████████████████████████████████| 192.9 MB 75 kB/s \n",
            "\u001b[?25hCollecting wandb\n",
            "  Downloading wandb-0.12.21-py2.py3-none-any.whl (1.8 MB)\n",
            "\u001b[K     |████████████████████████████████| 1.8 MB 48.0 MB/s \n",
            "\u001b[?25hRequirement already satisfied: scipy in /usr/local/lib/python3.7/dist-packages (from xgboost) (1.7.3)\n",
            "Requirement already satisfied: numpy in /usr/local/lib/python3.7/dist-packages (from xgboost) (1.21.6)\n",
            "Collecting pathtools\n",
            "  Downloading pathtools-0.1.2.tar.gz (11 kB)\n",
            "Requirement already satisfied: requests<3,>=2.0.0 in /usr/local/lib/python3.7/dist-packages (from wandb) (2.23.0)\n",
            "Collecting shortuuid>=0.5.0\n",
            "  Downloading shortuuid-1.0.9-py3-none-any.whl (9.4 kB)\n",
            "Collecting docker-pycreds>=0.4.0\n",
            "  Downloading docker_pycreds-0.4.0-py2.py3-none-any.whl (9.0 kB)\n",
            "Requirement already satisfied: setuptools in /usr/local/lib/python3.7/dist-packages (from wandb) (57.4.0)\n",
            "Requirement already satisfied: PyYAML in /usr/local/lib/python3.7/dist-packages (from wandb) (3.13)\n",
            "Requirement already satisfied: six>=1.13.0 in /usr/local/lib/python3.7/dist-packages (from wandb) (1.15.0)\n",
            "Requirement already satisfied: promise<3,>=2.0 in /usr/local/lib/python3.7/dist-packages (from wandb) (2.3)\n",
            "Requirement already satisfied: Click!=8.0.0,>=7.0 in /usr/local/lib/python3.7/dist-packages (from wandb) (7.1.2)\n",
            "Collecting sentry-sdk>=1.0.0\n",
            "  Downloading sentry_sdk-1.7.1-py2.py3-none-any.whl (146 kB)\n",
            "\u001b[K     |████████████████████████████████| 146 kB 44.1 MB/s \n",
            "\u001b[?25hRequirement already satisfied: protobuf<4.0dev,>=3.12.0 in /usr/local/lib/python3.7/dist-packages (from wandb) (3.17.3)\n",
            "Requirement already satisfied: psutil>=5.0.0 in /usr/local/lib/python3.7/dist-packages (from wandb) (5.4.8)\n",
            "Collecting GitPython>=1.0.0\n",
            "  Downloading GitPython-3.1.27-py3-none-any.whl (181 kB)\n",
            "\u001b[K     |████████████████████████████████| 181 kB 44.3 MB/s \n",
            "\u001b[?25hCollecting setproctitle\n",
            "  Downloading setproctitle-1.2.3-cp37-cp37m-manylinux_2_5_x86_64.manylinux1_x86_64.manylinux_2_17_x86_64.manylinux2014_x86_64.whl (29 kB)\n",
            "Collecting gitdb<5,>=4.0.1\n",
            "  Downloading gitdb-4.0.9-py3-none-any.whl (63 kB)\n",
            "\u001b[K     |████████████████████████████████| 63 kB 756 kB/s \n",
            "\u001b[?25hRequirement already satisfied: typing-extensions>=3.7.4.3 in /usr/local/lib/python3.7/dist-packages (from GitPython>=1.0.0->wandb) (4.1.1)\n",
            "Collecting smmap<6,>=3.0.1\n",
            "  Downloading smmap-5.0.0-py3-none-any.whl (24 kB)\n",
            "Requirement already satisfied: idna<3,>=2.5 in /usr/local/lib/python3.7/dist-packages (from requests<3,>=2.0.0->wandb) (2.10)\n",
            "Requirement already satisfied: urllib3!=1.25.0,!=1.25.1,<1.26,>=1.21.1 in /usr/local/lib/python3.7/dist-packages (from requests<3,>=2.0.0->wandb) (1.24.3)\n",
            "Requirement already satisfied: chardet<4,>=3.0.2 in /usr/local/lib/python3.7/dist-packages (from requests<3,>=2.0.0->wandb) (3.0.4)\n",
            "Requirement already satisfied: certifi>=2017.4.17 in /usr/local/lib/python3.7/dist-packages (from requests<3,>=2.0.0->wandb) (2022.6.15)\n",
            "Building wheels for collected packages: pathtools\n",
            "  Building wheel for pathtools (setup.py) ... \u001b[?25l\u001b[?25hdone\n",
            "  Created wheel for pathtools: filename=pathtools-0.1.2-py3-none-any.whl size=8806 sha256=4c11404b1f9b2f99b3c8db338b1d81b20c6e3ee8eb81b13ccac538cbcbf0a045\n",
            "  Stored in directory: /root/.cache/pip/wheels/3e/31/09/fa59cef12cdcfecc627b3d24273699f390e71828921b2cbba2\n",
            "Successfully built pathtools\n",
            "Installing collected packages: smmap, gitdb, shortuuid, setproctitle, sentry-sdk, pathtools, GitPython, docker-pycreds, xgboost, wandb\n",
            "  Attempting uninstall: xgboost\n",
            "    Found existing installation: xgboost 0.90\n",
            "    Uninstalling xgboost-0.90:\n",
            "      Successfully uninstalled xgboost-0.90\n",
            "Successfully installed GitPython-3.1.27 docker-pycreds-0.4.0 gitdb-4.0.9 pathtools-0.1.2 sentry-sdk-1.7.1 setproctitle-1.2.3 shortuuid-1.0.9 smmap-5.0.0 wandb-0.12.21 xgboost-1.6.1\n"
          ]
        }
      ]
    },
    {
      "cell_type": "code",
      "execution_count": null,
      "metadata": {
        "id": "nCwf-JxlIEJ3"
      },
      "outputs": [],
      "source": [
        "import numpy as np\n",
        "import pandas as pd\n",
        "import seaborn as sns\n",
        "import matplotlib.pyplot as plt\n",
        "import nltk\n",
        "from nltk.corpus import stopwords\n",
        "from nltk.stem.porter import PorterStemmer\n",
        "from wordcloud import WordCloud,STOPWORDS\n",
        "from nltk.stem import WordNetLemmatizer\n",
        "from nltk.tokenize import word_tokenize,sent_tokenize\n",
        "from bs4 import BeautifulSoup\n",
        "import re,string,unicodedata\n",
        "from keras.preprocessing import text, sequence\n",
        "from nltk.tokenize.toktok import ToktokTokenizer\n",
        "from sklearn.metrics import classification_report,confusion_matrix,accuracy_score\n",
        "from string import punctuation\n",
        "from nltk import pos_tag\n",
        "from nltk.corpus import wordnet\n",
        "import gensim.downloader as api\n",
        "\n",
        "import xgboost as xgb\n",
        "\n",
        "from sklearn.model_selection import StratifiedKFold\n",
        "from sklearn.metrics import accuracy_score, f1_score, precision_score, recall_score\n",
        "from pathlib import Path\n",
        "\n",
        "import wandb\n",
        "from wandb.xgboost import WandbCallback\n",
        "from IPython.display import clear_output\n",
        "\n",
        "\n",
        "metrics = [accuracy_score, f1_score, precision_score, recall_score]\n",
        "\n",
        "def get_name(score_func):\n",
        "    return 'eval/' + score_func.__name__.split(\"_\")[0]"
      ]
    },
    {
      "cell_type": "code",
      "source": [
        "from google.colab import drive\n",
        "drive.mount('/content/drive')\n",
        "\n",
        "base_dir = Path(\"/content/drive/MyDrive/ResearchFND\")\n",
        "assert base_dir.exists()"
      ],
      "metadata": {
        "id": "JNkz9D2TIS3n",
        "colab": {
          "base_uri": "https://localhost:8080/"
        },
        "outputId": "8ffb55c0-ead6-4039-91c9-9bdfc2b13562"
      },
      "execution_count": null,
      "outputs": [
        {
          "output_type": "stream",
          "name": "stdout",
          "text": [
            "Mounted at /content/drive\n"
          ]
        }
      ]
    },
    {
      "cell_type": "code",
      "source": [
        "dataset_id = 'politifact'"
      ],
      "metadata": {
        "id": "ICjM3pebMwtW"
      },
      "execution_count": null,
      "outputs": []
    },
    {
      "cell_type": "code",
      "source": [
        "df = pd.read_csv(base_dir/f\"{dataset_id}_agg_2.csv\")\n",
        "df.text.fillna('', inplace=True)\n",
        "df.head()"
      ],
      "metadata": {
        "id": "5EOKd3_lIS6L",
        "colab": {
          "base_uri": "https://localhost:8080/",
          "height": 206
        },
        "outputId": "ab6e82dd-b1fa-45bb-c666-cbda03972547"
      },
      "execution_count": null,
      "outputs": [
        {
          "output_type": "execute_result",
          "data": {
            "text/plain": [
              "                                               title  \\\n",
              "0   Actress Emma Stone ‘For the first time in his...   \n",
              "1   Breaking President Trump makes English the of...   \n",
              "2   Friendly Fire … Charlottesville Car attacker ...   \n",
              "3   If You Are Using This Toothpaste… Throw It Aw...   \n",
              "4  \"Face the Nation\" transcripts, August 26, 2012...   \n",
              "\n",
              "                                                text  \\\n",
              "0                                                      \n",
              "1                                                      \n",
              "2                                                      \n",
              "3  MightyLiving Blog\\n\\nHelpful inspiration from ...   \n",
              "4  \"Face the Nation\" transcripts, August 26, 2012...   \n",
              "\n",
              "                                              tweets  \\\n",
              "0                                                 []   \n",
              "1                                                 []   \n",
              "2                                                 []   \n",
              "3  [{'id': 931006425966501893, 'text': 'If You Ar...   \n",
              "4                                                 []   \n",
              "\n",
              "                                            retweets label  \\\n",
              "0  ['1020554564334964741', '1020817527046197248',...  fake   \n",
              "1                                                 []  fake   \n",
              "2  ['3265439004', '3250621593', '3253922920', '32...  fake   \n",
              "3  ['911971426571255810', '1036749614853103616', ...  fake   \n",
              "4                                                 []  real   \n",
              "\n",
              "                                                 url  \n",
              "0                                                NaN  \n",
              "1                                                NaN  \n",
              "2                                                NaN  \n",
              "3  mightynest.com/learn/research-by-concern/dange...  \n",
              "4  https://web.archive.org/web/20120827001956/htt...  "
            ],
            "text/html": [
              "\n",
              "  <div id=\"df-6ad94f3f-03c7-404f-8cb0-a061408d181f\">\n",
              "    <div class=\"colab-df-container\">\n",
              "      <div>\n",
              "<style scoped>\n",
              "    .dataframe tbody tr th:only-of-type {\n",
              "        vertical-align: middle;\n",
              "    }\n",
              "\n",
              "    .dataframe tbody tr th {\n",
              "        vertical-align: top;\n",
              "    }\n",
              "\n",
              "    .dataframe thead th {\n",
              "        text-align: right;\n",
              "    }\n",
              "</style>\n",
              "<table border=\"1\" class=\"dataframe\">\n",
              "  <thead>\n",
              "    <tr style=\"text-align: right;\">\n",
              "      <th></th>\n",
              "      <th>title</th>\n",
              "      <th>text</th>\n",
              "      <th>tweets</th>\n",
              "      <th>retweets</th>\n",
              "      <th>label</th>\n",
              "      <th>url</th>\n",
              "    </tr>\n",
              "  </thead>\n",
              "  <tbody>\n",
              "    <tr>\n",
              "      <th>0</th>\n",
              "      <td>Actress Emma Stone ‘For the first time in his...</td>\n",
              "      <td></td>\n",
              "      <td>[]</td>\n",
              "      <td>['1020554564334964741', '1020817527046197248',...</td>\n",
              "      <td>fake</td>\n",
              "      <td>NaN</td>\n",
              "    </tr>\n",
              "    <tr>\n",
              "      <th>1</th>\n",
              "      <td>Breaking President Trump makes English the of...</td>\n",
              "      <td></td>\n",
              "      <td>[]</td>\n",
              "      <td>[]</td>\n",
              "      <td>fake</td>\n",
              "      <td>NaN</td>\n",
              "    </tr>\n",
              "    <tr>\n",
              "      <th>2</th>\n",
              "      <td>Friendly Fire … Charlottesville Car attacker ...</td>\n",
              "      <td></td>\n",
              "      <td>[]</td>\n",
              "      <td>['3265439004', '3250621593', '3253922920', '32...</td>\n",
              "      <td>fake</td>\n",
              "      <td>NaN</td>\n",
              "    </tr>\n",
              "    <tr>\n",
              "      <th>3</th>\n",
              "      <td>If You Are Using This Toothpaste… Throw It Aw...</td>\n",
              "      <td>MightyLiving Blog\\n\\nHelpful inspiration from ...</td>\n",
              "      <td>[{'id': 931006425966501893, 'text': 'If You Ar...</td>\n",
              "      <td>['911971426571255810', '1036749614853103616', ...</td>\n",
              "      <td>fake</td>\n",
              "      <td>mightynest.com/learn/research-by-concern/dange...</td>\n",
              "    </tr>\n",
              "    <tr>\n",
              "      <th>4</th>\n",
              "      <td>\"Face the Nation\" transcripts, August 26, 2012...</td>\n",
              "      <td>\"Face the Nation\" transcripts, August 26, 2012...</td>\n",
              "      <td>[]</td>\n",
              "      <td>[]</td>\n",
              "      <td>real</td>\n",
              "      <td>https://web.archive.org/web/20120827001956/htt...</td>\n",
              "    </tr>\n",
              "  </tbody>\n",
              "</table>\n",
              "</div>\n",
              "      <button class=\"colab-df-convert\" onclick=\"convertToInteractive('df-6ad94f3f-03c7-404f-8cb0-a061408d181f')\"\n",
              "              title=\"Convert this dataframe to an interactive table.\"\n",
              "              style=\"display:none;\">\n",
              "        \n",
              "  <svg xmlns=\"http://www.w3.org/2000/svg\" height=\"24px\"viewBox=\"0 0 24 24\"\n",
              "       width=\"24px\">\n",
              "    <path d=\"M0 0h24v24H0V0z\" fill=\"none\"/>\n",
              "    <path d=\"M18.56 5.44l.94 2.06.94-2.06 2.06-.94-2.06-.94-.94-2.06-.94 2.06-2.06.94zm-11 1L8.5 8.5l.94-2.06 2.06-.94-2.06-.94L8.5 2.5l-.94 2.06-2.06.94zm10 10l.94 2.06.94-2.06 2.06-.94-2.06-.94-.94-2.06-.94 2.06-2.06.94z\"/><path d=\"M17.41 7.96l-1.37-1.37c-.4-.4-.92-.59-1.43-.59-.52 0-1.04.2-1.43.59L10.3 9.45l-7.72 7.72c-.78.78-.78 2.05 0 2.83L4 21.41c.39.39.9.59 1.41.59.51 0 1.02-.2 1.41-.59l7.78-7.78 2.81-2.81c.8-.78.8-2.07 0-2.86zM5.41 20L4 18.59l7.72-7.72 1.47 1.35L5.41 20z\"/>\n",
              "  </svg>\n",
              "      </button>\n",
              "      \n",
              "  <style>\n",
              "    .colab-df-container {\n",
              "      display:flex;\n",
              "      flex-wrap:wrap;\n",
              "      gap: 12px;\n",
              "    }\n",
              "\n",
              "    .colab-df-convert {\n",
              "      background-color: #E8F0FE;\n",
              "      border: none;\n",
              "      border-radius: 50%;\n",
              "      cursor: pointer;\n",
              "      display: none;\n",
              "      fill: #1967D2;\n",
              "      height: 32px;\n",
              "      padding: 0 0 0 0;\n",
              "      width: 32px;\n",
              "    }\n",
              "\n",
              "    .colab-df-convert:hover {\n",
              "      background-color: #E2EBFA;\n",
              "      box-shadow: 0px 1px 2px rgba(60, 64, 67, 0.3), 0px 1px 3px 1px rgba(60, 64, 67, 0.15);\n",
              "      fill: #174EA6;\n",
              "    }\n",
              "\n",
              "    [theme=dark] .colab-df-convert {\n",
              "      background-color: #3B4455;\n",
              "      fill: #D2E3FC;\n",
              "    }\n",
              "\n",
              "    [theme=dark] .colab-df-convert:hover {\n",
              "      background-color: #434B5C;\n",
              "      box-shadow: 0px 1px 3px 1px rgba(0, 0, 0, 0.15);\n",
              "      filter: drop-shadow(0px 1px 2px rgba(0, 0, 0, 0.3));\n",
              "      fill: #FFFFFF;\n",
              "    }\n",
              "  </style>\n",
              "\n",
              "      <script>\n",
              "        const buttonEl =\n",
              "          document.querySelector('#df-6ad94f3f-03c7-404f-8cb0-a061408d181f button.colab-df-convert');\n",
              "        buttonEl.style.display =\n",
              "          google.colab.kernel.accessAllowed ? 'block' : 'none';\n",
              "\n",
              "        async function convertToInteractive(key) {\n",
              "          const element = document.querySelector('#df-6ad94f3f-03c7-404f-8cb0-a061408d181f');\n",
              "          const dataTable =\n",
              "            await google.colab.kernel.invokeFunction('convertToInteractive',\n",
              "                                                     [key], {});\n",
              "          if (!dataTable) return;\n",
              "\n",
              "          const docLinkHtml = 'Like what you see? Visit the ' +\n",
              "            '<a target=\"_blank\" href=https://colab.research.google.com/notebooks/data_table.ipynb>data table notebook</a>'\n",
              "            + ' to learn more about interactive tables.';\n",
              "          element.innerHTML = '';\n",
              "          dataTable['output_type'] = 'display_data';\n",
              "          await google.colab.output.renderOutput(dataTable, element);\n",
              "          const docLink = document.createElement('div');\n",
              "          docLink.innerHTML = docLinkHtml;\n",
              "          element.appendChild(docLink);\n",
              "        }\n",
              "      </script>\n",
              "    </div>\n",
              "  </div>\n",
              "  "
            ]
          },
          "metadata": {},
          "execution_count": 5
        }
      ]
    },
    {
      "cell_type": "code",
      "source": [
        "(df.title.str.len() == 0).any()"
      ],
      "metadata": {
        "colab": {
          "base_uri": "https://localhost:8080/"
        },
        "id": "2xdHl9MaFXmj",
        "outputId": "4bad7b92-0a16-4252-f2d4-9288d7aa5ac4"
      },
      "execution_count": null,
      "outputs": [
        {
          "output_type": "execute_result",
          "data": {
            "text/plain": [
              "False"
            ]
          },
          "metadata": {},
          "execution_count": 6
        }
      ]
    },
    {
      "cell_type": "code",
      "source": [
        "assert len(df) == len(df.title.unique())"
      ],
      "metadata": {
        "id": "5oFq2KCxDnO_"
      },
      "execution_count": null,
      "outputs": []
    },
    {
      "cell_type": "code",
      "source": [
        "news = df[['title', 'text', 'label']].copy()\n",
        "\n",
        "print(news.isna().any())\n",
        "news.count()"
      ],
      "metadata": {
        "id": "bKsgv1uaITAo",
        "colab": {
          "base_uri": "https://localhost:8080/"
        },
        "outputId": "525472d8-e371-4cfa-e9c4-0957de88be47"
      },
      "execution_count": null,
      "outputs": [
        {
          "output_type": "stream",
          "name": "stdout",
          "text": [
            "title    False\n",
            "text     False\n",
            "label    False\n",
            "dtype: bool\n"
          ]
        },
        {
          "output_type": "execute_result",
          "data": {
            "text/plain": [
              "title    894\n",
              "text     894\n",
              "label    894\n",
              "dtype: int64"
            ]
          },
          "metadata": {},
          "execution_count": 8
        }
      ]
    },
    {
      "cell_type": "markdown",
      "source": [
        "Importing libraries to preprocess the title column. "
      ],
      "metadata": {
        "id": "cFqk-IzAEGcq"
      }
    },
    {
      "cell_type": "code",
      "source": [
        "import nltk\n",
        "nltk.download('stopwords')\n",
        "\n",
        "stop = set(stopwords.words('english'))\n",
        "punctuation = list(string.punctuation)\n",
        "stop.update(punctuation)"
      ],
      "metadata": {
        "id": "7A0mIde_JSkM",
        "colab": {
          "base_uri": "https://localhost:8080/"
        },
        "outputId": "e5e79ef9-8ac5-405d-d6dd-22624295db9e"
      },
      "execution_count": null,
      "outputs": [
        {
          "output_type": "stream",
          "name": "stderr",
          "text": [
            "[nltk_data] Downloading package stopwords to /root/nltk_data...\n",
            "[nltk_data]   Unzipping corpora/stopwords.zip.\n"
          ]
        }
      ]
    },
    {
      "cell_type": "code",
      "source": [
        "def strip_html(text):\n",
        "    soup = BeautifulSoup(text, \"html.parser\")\n",
        "    return soup.get_text()\n",
        "\n",
        "#Removing the square brackets\n",
        "def remove_between_square_brackets(text):\n",
        "    return re.sub('\\[[^]]*\\]', '', text)\n",
        "# Removing URL's\n",
        "def remove_between_square_brackets(text):\n",
        "    return re.sub(r'http\\S+', '', text)\n",
        "#Removing the stopwords from text\n",
        "def remove_stopwords(text):\n",
        "    final_text = []\n",
        "    for i in text.split():\n",
        "        if i.strip().lower() not in stop:\n",
        "            final_text.append(i.strip())\n",
        "    return \" \".join(final_text)\n",
        "#Removing the noisy text\n",
        "def denoise_text(text):\n",
        "    text = strip_html(text)\n",
        "    text = remove_between_square_brackets(text)\n",
        "    text = remove_stopwords(text)\n",
        "    return text\n",
        "#Apply function on review column\n",
        "news['text']= news['text'].apply(denoise_text)"
      ],
      "metadata": {
        "id": "3szcamzHJSnN"
      },
      "execution_count": null,
      "outputs": []
    },
    {
      "cell_type": "code",
      "source": [
        "#Tokenizing Text -> Repsesenting each word by a number\n",
        "tokenizer = text.Tokenizer(oov_token=\"<unk>\")\n",
        "tokenizer.fit_on_texts(news.title)"
      ],
      "metadata": {
        "id": "p4YesU-aKold"
      },
      "execution_count": null,
      "outputs": []
    },
    {
      "cell_type": "code",
      "source": [
        "d_wv = 300\n",
        "glove = api.load(f'glove-wiki-gigaword-{d_wv}')"
      ],
      "metadata": {
        "id": "mTgiYMDZ_QZp",
        "colab": {
          "base_uri": "https://localhost:8080/"
        },
        "outputId": "337959e0-d720-42c2-e228-6819933d9795"
      },
      "execution_count": null,
      "outputs": [
        {
          "output_type": "stream",
          "name": "stdout",
          "text": [
            "[==================================================] 100.0% 376.1/376.1MB downloaded\n"
          ]
        }
      ]
    },
    {
      "cell_type": "markdown",
      "source": [
        "Creating the embedding matrix to convert features to model-readable format. "
      ],
      "metadata": {
        "id": "-JGQTPtAEPqh"
      }
    },
    {
      "cell_type": "code",
      "source": [
        "emb_matrix = np.zeros((max(tokenizer.word_index.values())+1, d_wv), dtype=np.float32)\n",
        "for i in range(1,max(tokenizer.word_index.values())+1):\n",
        "    word = tokenizer.index_word[i]\n",
        "    if word in glove.vocab:\n",
        "        emb_matrix[i, :] = glove.word_vec(word)"
      ],
      "metadata": {
        "id": "18kZxkq9h6yD"
      },
      "execution_count": null,
      "outputs": []
    },
    {
      "cell_type": "code",
      "source": [
        "import ast\n",
        "\n",
        "df['tweets'] = df.tweets.map(ast.literal_eval)"
      ],
      "metadata": {
        "id": "1YpnIoGEp2a6"
      },
      "execution_count": null,
      "outputs": []
    },
    {
      "cell_type": "markdown",
      "source": [
        "Prepping the features."
      ],
      "metadata": {
        "id": "kH0_TnHKEZUc"
      }
    },
    {
      "cell_type": "code",
      "source": [
        "df[\"num_retweets\"] = df.retweets.map(lambda x: len(x.split(',')))\n",
        "df[\"log_num_retweets\"] = np.log1p(df.num_retweets.to_numpy())\n",
        "df[\"num_tweets\"] = df.tweets.map(lambda x: len(set([t[\"id\"] for t in x])))\n",
        "df[\"log_num_tweets\"] = np.log1p(df.num_tweets.to_numpy())"
      ],
      "metadata": {
        "id": "uUGrq9B1mW4n"
      },
      "execution_count": null,
      "outputs": []
    },
    {
      "cell_type": "markdown",
      "source": [
        "# Training"
      ],
      "metadata": {
        "id": "vr-2gPcEn9qX"
      }
    },
    {
      "cell_type": "code",
      "source": [
        "WANDB_ENTITY = 'saloniteam'\n",
        "WANDB_PROJECT = 'nofolds'"
      ],
      "metadata": {
        "id": "87E6VYHkn_KW"
      },
      "execution_count": null,
      "outputs": []
    },
    {
      "cell_type": "markdown",
      "source": [
        "The wandb is already logged in a session. Access key to be provided if login is not done. It logs the results into the *nofolds* project in the saloniteam entity (name of account) "
      ],
      "metadata": {
        "id": "1vJ74VwMEepj"
      }
    },
    {
      "cell_type": "markdown",
      "source": [
        "Training the model for titles and full text below respectively. Taking the tokenised text, defining the train parameters, specifiying the name of the run which will be logged in wandb. Once the run is complete, a short summary and the link to wandb is displayed. The wandb tracking can be customised to include different evaluation metrics, and run statistics as well. "
      ],
      "metadata": {
        "id": "YcwJHqcKDRoh"
      }
    },
    {
      "cell_type": "markdown",
      "source": [
        "## Titles"
      ],
      "metadata": {
        "id": "CUdNFHAyEM_3"
      }
    },
    {
      "cell_type": "code",
      "source": [
        "tokenized_titles = tokenizer.texts_to_sequences(news.title.tolist())\n",
        "\n",
        "X = []\n",
        "for title in tokenized_titles:\n",
        "    X.append(emb_matrix[title].mean(0))\n",
        "\n",
        "X = np.stack(X, axis=0)\n",
        "y = (df.label==\"real\").to_numpy().astype(int)\n",
        "\n",
        "X.shape, y.shape"
      ],
      "metadata": {
        "id": "BytT7j9WKon0",
        "colab": {
          "base_uri": "https://localhost:8080/"
        },
        "outputId": "f94e3c57-7083-45b5-e03a-bcc6fb8b51da"
      },
      "execution_count": null,
      "outputs": [
        {
          "output_type": "execute_result",
          "data": {
            "text/plain": [
              "((894, 300), (894,))"
            ]
          },
          "metadata": {},
          "execution_count": 17
        }
      ]
    },
    {
      "cell_type": "code",
      "source": [
        "skf = StratifiedKFold(shuffle=True, random_state=124)"
      ],
      "metadata": {
        "id": "Ec5ppDaQK16F"
      },
      "execution_count": null,
      "outputs": []
    },
    {
      "cell_type": "code",
      "source": [
        "def train(train_idx, test_idx, params):\n",
        "\n",
        "    # training\n",
        "    X_train, X_test = X[train_idx], X[test_idx]\n",
        "    y_train, y_test = y[train_idx], y[test_idx]\n",
        "    dtrain = xgb.DMatrix(X_train, label=y_train)\n",
        "    dtest = xgb.DMatrix(X_test, label=y_test)\n",
        "    watchlist = [(dtrain,'train'), (dtest,'eval')]\n",
        "    N = params.get('num_boost_round', 200)\n",
        "    clf = xgb.train(params, dtrain, num_boost_round=N, early_stopping_rounds=None, evals=watchlist, callbacks=[WandbCallback()])\n",
        "    #evaluation\n",
        "    probs = clf.predict(dtest)\n",
        "    y_pred = (probs > 0.5).astype(int)\n",
        "    eval_results = {get_name(f):f(y_pred=y_pred, y_true=y_test) for f in metrics}\n",
        "    wandb.log(eval_results)\n",
        "    wandb.log({\"conf_mat\" : wandb.plot.confusion_matrix(probs=None,\n",
        "                            y_true=y_test, preds=y_pred,\n",
        "                            class_names=[\"Fake\", \"Real\"])})"
      ],
      "metadata": {
        "id": "5oSeII1QLot_"
      },
      "execution_count": null,
      "outputs": []
    },
    {
      "cell_type": "code",
      "source": [
        "params = {\n",
        "    \"objective\":'binary:logistic',\n",
        "    \"seed\":124,\n",
        "    'num_boost_round':200\n",
        "}"
      ],
      "metadata": {
        "id": "5IvqyG9jPVQw"
      },
      "execution_count": null,
      "outputs": []
    },
    {
      "cell_type": "code",
      "source": [
        "GROUP = f\"{dataset_id}-glove-title-xgb\"\n",
        "\n",
        "for fold_id, (train_idx, test_idx) in enumerate(skf.split(X, y)):\n",
        "    clear_output()\n",
        "    with wandb.init(entity=WANDB_ENTITY, project=WANDB_PROJECT, group=GROUP, name=f\"{GROUP}-{fold_id}\") as run:\n",
        "        train(train_idx, test_idx, params)\n",
        "    break"
      ],
      "metadata": {
        "id": "UoH1hD_3-rt8",
        "colab": {
          "base_uri": "https://localhost:8080/",
          "referenced_widgets": [
            "c9f820d6c663470baa9e15156fb3b465",
            "1c8ea029acf44e2493d5bd5e86876fb9",
            "0b8dce888c0642a6bc73fd0e526f4fa0",
            "00e09a36fee0478eb26945ba4bd9ef99",
            "ff1bf02f1aa94b4a9781966d1df2cc3a",
            "76381112b5e64bbe831e988d294eb849",
            "fa9c47db33374225ba26034e468c5bae",
            "5131fca9b193430c91e36a576cdf57d7"
          ]
        },
        "outputId": "c8ac742c-724c-4604-e59b-7b6d754ad1fa"
      },
      "execution_count": null,
      "outputs": [
        {
          "output_type": "display_data",
          "data": {
            "text/plain": [
              "<IPython.core.display.Javascript object>"
            ],
            "application/javascript": [
              "\n",
              "        window._wandbApiKey = new Promise((resolve, reject) => {\n",
              "            function loadScript(url) {\n",
              "            return new Promise(function(resolve, reject) {\n",
              "                let newScript = document.createElement(\"script\");\n",
              "                newScript.onerror = reject;\n",
              "                newScript.onload = resolve;\n",
              "                document.body.appendChild(newScript);\n",
              "                newScript.src = url;\n",
              "            });\n",
              "            }\n",
              "            loadScript(\"https://cdn.jsdelivr.net/npm/postmate/build/postmate.min.js\").then(() => {\n",
              "            const iframe = document.createElement('iframe')\n",
              "            iframe.style.cssText = \"width:0;height:0;border:none\"\n",
              "            document.body.appendChild(iframe)\n",
              "            const handshake = new Postmate({\n",
              "                container: iframe,\n",
              "                url: 'https://wandb.ai/authorize'\n",
              "            });\n",
              "            const timeout = setTimeout(() => reject(\"Couldn't auto authenticate\"), 5000)\n",
              "            handshake.then(function(child) {\n",
              "                child.on('authorize', data => {\n",
              "                    clearTimeout(timeout)\n",
              "                    resolve(data)\n",
              "                });\n",
              "            });\n",
              "            })\n",
              "        });\n",
              "    "
            ]
          },
          "metadata": {}
        },
        {
          "output_type": "stream",
          "name": "stderr",
          "text": [
            "\u001b[34m\u001b[1mwandb\u001b[0m: Appending key for api.wandb.ai to your netrc file: /root/.netrc\n"
          ]
        },
        {
          "output_type": "display_data",
          "data": {
            "text/plain": [
              "<IPython.core.display.HTML object>"
            ],
            "text/html": [
              "Tracking run with wandb version 0.12.21"
            ]
          },
          "metadata": {}
        },
        {
          "output_type": "display_data",
          "data": {
            "text/plain": [
              "<IPython.core.display.HTML object>"
            ],
            "text/html": [
              "Run data is saved locally in <code>/content/wandb/run-20220714_181156-1gdcgqv8</code>"
            ]
          },
          "metadata": {}
        },
        {
          "output_type": "display_data",
          "data": {
            "text/plain": [
              "<IPython.core.display.HTML object>"
            ],
            "text/html": [
              "Syncing run <strong><a href=\"https://wandb.ai/saloniteam/nofolds/runs/1gdcgqv8\" target=\"_blank\">politifact-glove-title-xgb-0</a></strong> to <a href=\"https://wandb.ai/saloniteam/nofolds\" target=\"_blank\">Weights & Biases</a> (<a href=\"https://wandb.me/run\" target=\"_blank\">docs</a>)<br/>"
            ]
          },
          "metadata": {}
        },
        {
          "output_type": "stream",
          "name": "stdout",
          "text": [
            "[18:11:58] WARNING: ../src/learner.cc:627: \n",
            "Parameters: { \"num_boost_round\" } might not be used.\n",
            "\n",
            "  This could be a false alarm, with some parameters getting used by language bindings but\n",
            "  then being mistakenly passed down to XGBoost core, or some parameter actually being used\n",
            "  but getting flagged wrongly here. Please open an issue if you find any such cases.\n",
            "\n",
            "\n",
            "[0]\ttrain-logloss:0.52274\teval-logloss:0.63264\n",
            "[1]\ttrain-logloss:0.40558\teval-logloss:0.57738\n",
            "[2]\ttrain-logloss:0.32335\teval-logloss:0.53764\n",
            "[3]\ttrain-logloss:0.26573\teval-logloss:0.51009\n",
            "[4]\ttrain-logloss:0.21525\teval-logloss:0.48832\n",
            "[5]\ttrain-logloss:0.17902\teval-logloss:0.48723\n",
            "[6]\ttrain-logloss:0.15532\teval-logloss:0.48219\n",
            "[7]\ttrain-logloss:0.13369\teval-logloss:0.47892\n",
            "[8]\ttrain-logloss:0.11677\teval-logloss:0.47172\n",
            "[9]\ttrain-logloss:0.10297\teval-logloss:0.45909\n",
            "[10]\ttrain-logloss:0.09133\teval-logloss:0.45128\n",
            "[11]\ttrain-logloss:0.08210\teval-logloss:0.45444\n",
            "[12]\ttrain-logloss:0.07415\teval-logloss:0.45656\n",
            "[13]\ttrain-logloss:0.06846\teval-logloss:0.45609\n",
            "[14]\ttrain-logloss:0.06279\teval-logloss:0.45314\n",
            "[15]\ttrain-logloss:0.05846\teval-logloss:0.45984\n",
            "[16]\ttrain-logloss:0.05449\teval-logloss:0.45152\n",
            "[17]\ttrain-logloss:0.05091\teval-logloss:0.45104\n",
            "[18]\ttrain-logloss:0.04796\teval-logloss:0.44345\n",
            "[19]\ttrain-logloss:0.04535\teval-logloss:0.44187\n",
            "[20]\ttrain-logloss:0.04317\teval-logloss:0.43674\n",
            "[21]\ttrain-logloss:0.04100\teval-logloss:0.42927\n",
            "[22]\ttrain-logloss:0.03904\teval-logloss:0.43020\n",
            "[23]\ttrain-logloss:0.03747\teval-logloss:0.43757\n",
            "[24]\ttrain-logloss:0.03593\teval-logloss:0.44209\n",
            "[25]\ttrain-logloss:0.03459\teval-logloss:0.44299\n",
            "[26]\ttrain-logloss:0.03333\teval-logloss:0.43872\n",
            "[27]\ttrain-logloss:0.03220\teval-logloss:0.43829\n",
            "[28]\ttrain-logloss:0.03118\teval-logloss:0.43886\n",
            "[29]\ttrain-logloss:0.03027\teval-logloss:0.43642\n",
            "[30]\ttrain-logloss:0.02940\teval-logloss:0.43654\n",
            "[31]\ttrain-logloss:0.02856\teval-logloss:0.43992\n",
            "[32]\ttrain-logloss:0.02783\teval-logloss:0.43834\n",
            "[33]\ttrain-logloss:0.02720\teval-logloss:0.43251\n",
            "[34]\ttrain-logloss:0.02652\teval-logloss:0.43042\n",
            "[35]\ttrain-logloss:0.02592\teval-logloss:0.43040\n",
            "[36]\ttrain-logloss:0.02538\teval-logloss:0.43307\n",
            "[37]\ttrain-logloss:0.02491\teval-logloss:0.43151\n",
            "[38]\ttrain-logloss:0.02450\teval-logloss:0.42814\n",
            "[39]\ttrain-logloss:0.02404\teval-logloss:0.42763\n",
            "[40]\ttrain-logloss:0.02363\teval-logloss:0.42745\n",
            "[41]\ttrain-logloss:0.02322\teval-logloss:0.42561\n",
            "[42]\ttrain-logloss:0.02289\teval-logloss:0.42761\n",
            "[43]\ttrain-logloss:0.02259\teval-logloss:0.42817\n",
            "[44]\ttrain-logloss:0.02230\teval-logloss:0.42699\n",
            "[45]\ttrain-logloss:0.02202\teval-logloss:0.42994\n",
            "[46]\ttrain-logloss:0.02175\teval-logloss:0.43030\n",
            "[47]\ttrain-logloss:0.02147\teval-logloss:0.42825\n",
            "[48]\ttrain-logloss:0.02124\teval-logloss:0.42899\n",
            "[49]\ttrain-logloss:0.02104\teval-logloss:0.42920\n",
            "[50]\ttrain-logloss:0.02080\teval-logloss:0.42801\n",
            "[51]\ttrain-logloss:0.02058\teval-logloss:0.42768\n",
            "[52]\ttrain-logloss:0.02038\teval-logloss:0.42780\n",
            "[53]\ttrain-logloss:0.02018\teval-logloss:0.42852\n",
            "[54]\ttrain-logloss:0.02000\teval-logloss:0.42405\n",
            "[55]\ttrain-logloss:0.01980\teval-logloss:0.42507\n",
            "[56]\ttrain-logloss:0.01964\teval-logloss:0.42352\n",
            "[57]\ttrain-logloss:0.01948\teval-logloss:0.42506\n",
            "[58]\ttrain-logloss:0.01936\teval-logloss:0.42539\n",
            "[59]\ttrain-logloss:0.01921\teval-logloss:0.42483\n",
            "[60]\ttrain-logloss:0.01905\teval-logloss:0.41973\n",
            "[61]\ttrain-logloss:0.01895\teval-logloss:0.42084\n",
            "[62]\ttrain-logloss:0.01877\teval-logloss:0.42326\n",
            "[63]\ttrain-logloss:0.01866\teval-logloss:0.42123\n",
            "[64]\ttrain-logloss:0.01856\teval-logloss:0.41956\n",
            "[65]\ttrain-logloss:0.01843\teval-logloss:0.41743\n",
            "[66]\ttrain-logloss:0.01832\teval-logloss:0.41899\n",
            "[67]\ttrain-logloss:0.01820\teval-logloss:0.42004\n",
            "[68]\ttrain-logloss:0.01812\teval-logloss:0.42220\n",
            "[69]\ttrain-logloss:0.01803\teval-logloss:0.42385\n",
            "[70]\ttrain-logloss:0.01789\teval-logloss:0.42403\n",
            "[71]\ttrain-logloss:0.01781\teval-logloss:0.42477\n",
            "[72]\ttrain-logloss:0.01771\teval-logloss:0.42548\n",
            "[73]\ttrain-logloss:0.01763\teval-logloss:0.42529\n",
            "[74]\ttrain-logloss:0.01752\teval-logloss:0.42691\n",
            "[75]\ttrain-logloss:0.01744\teval-logloss:0.42410\n",
            "[76]\ttrain-logloss:0.01737\teval-logloss:0.42279\n",
            "[77]\ttrain-logloss:0.01730\teval-logloss:0.42382\n",
            "[78]\ttrain-logloss:0.01721\teval-logloss:0.42491\n",
            "[79]\ttrain-logloss:0.01713\teval-logloss:0.42623\n",
            "[80]\ttrain-logloss:0.01705\teval-logloss:0.42429\n",
            "[81]\ttrain-logloss:0.01699\teval-logloss:0.42584\n",
            "[82]\ttrain-logloss:0.01692\teval-logloss:0.42767\n",
            "[83]\ttrain-logloss:0.01686\teval-logloss:0.42824\n",
            "[84]\ttrain-logloss:0.01679\teval-logloss:0.42969\n",
            "[85]\ttrain-logloss:0.01672\teval-logloss:0.42985\n",
            "[86]\ttrain-logloss:0.01666\teval-logloss:0.42976\n",
            "[87]\ttrain-logloss:0.01659\teval-logloss:0.43040\n",
            "[88]\ttrain-logloss:0.01654\teval-logloss:0.43058\n",
            "[89]\ttrain-logloss:0.01648\teval-logloss:0.42976\n",
            "[90]\ttrain-logloss:0.01642\teval-logloss:0.43060\n",
            "[91]\ttrain-logloss:0.01637\teval-logloss:0.43016\n",
            "[92]\ttrain-logloss:0.01632\teval-logloss:0.43101\n",
            "[93]\ttrain-logloss:0.01627\teval-logloss:0.42932\n",
            "[94]\ttrain-logloss:0.01623\teval-logloss:0.42889\n",
            "[95]\ttrain-logloss:0.01616\teval-logloss:0.43078\n",
            "[96]\ttrain-logloss:0.01610\teval-logloss:0.43124\n",
            "[97]\ttrain-logloss:0.01603\teval-logloss:0.43260\n",
            "[98]\ttrain-logloss:0.01598\teval-logloss:0.43052\n",
            "[99]\ttrain-logloss:0.01593\teval-logloss:0.43058\n",
            "[100]\ttrain-logloss:0.01587\teval-logloss:0.42989\n",
            "[101]\ttrain-logloss:0.01583\teval-logloss:0.43116\n",
            "[102]\ttrain-logloss:0.01579\teval-logloss:0.42952\n",
            "[103]\ttrain-logloss:0.01575\teval-logloss:0.43010\n",
            "[104]\ttrain-logloss:0.01572\teval-logloss:0.43063\n",
            "[105]\ttrain-logloss:0.01567\teval-logloss:0.43018\n",
            "[106]\ttrain-logloss:0.01564\teval-logloss:0.42972\n",
            "[107]\ttrain-logloss:0.01560\teval-logloss:0.43062\n",
            "[108]\ttrain-logloss:0.01556\teval-logloss:0.43081\n",
            "[109]\ttrain-logloss:0.01553\teval-logloss:0.43136\n",
            "[110]\ttrain-logloss:0.01548\teval-logloss:0.42825\n",
            "[111]\ttrain-logloss:0.01546\teval-logloss:0.42851\n",
            "[112]\ttrain-logloss:0.01543\teval-logloss:0.42945\n",
            "[113]\ttrain-logloss:0.01539\teval-logloss:0.42925\n",
            "[114]\ttrain-logloss:0.01536\teval-logloss:0.43015\n",
            "[115]\ttrain-logloss:0.01534\teval-logloss:0.42993\n",
            "[116]\ttrain-logloss:0.01530\teval-logloss:0.42974\n",
            "[117]\ttrain-logloss:0.01527\teval-logloss:0.43041\n",
            "[118]\ttrain-logloss:0.01524\teval-logloss:0.43093\n",
            "[119]\ttrain-logloss:0.01521\teval-logloss:0.43179\n",
            "[120]\ttrain-logloss:0.01517\teval-logloss:0.43317\n",
            "[121]\ttrain-logloss:0.01513\teval-logloss:0.43291\n",
            "[122]\ttrain-logloss:0.01510\teval-logloss:0.43547\n",
            "[123]\ttrain-logloss:0.01508\teval-logloss:0.43512\n",
            "[124]\ttrain-logloss:0.01504\teval-logloss:0.43664\n",
            "[125]\ttrain-logloss:0.01502\teval-logloss:0.43635\n",
            "[126]\ttrain-logloss:0.01498\teval-logloss:0.43423\n",
            "[127]\ttrain-logloss:0.01496\teval-logloss:0.43589\n",
            "[128]\ttrain-logloss:0.01493\teval-logloss:0.43509\n",
            "[129]\ttrain-logloss:0.01490\teval-logloss:0.43608\n",
            "[130]\ttrain-logloss:0.01487\teval-logloss:0.43572\n",
            "[131]\ttrain-logloss:0.01484\teval-logloss:0.43536\n",
            "[132]\ttrain-logloss:0.01481\teval-logloss:0.43453\n",
            "[133]\ttrain-logloss:0.01478\teval-logloss:0.43389\n",
            "[134]\ttrain-logloss:0.01476\teval-logloss:0.43447\n",
            "[135]\ttrain-logloss:0.01474\teval-logloss:0.43278\n",
            "[136]\ttrain-logloss:0.01472\teval-logloss:0.43298\n",
            "[137]\ttrain-logloss:0.01470\teval-logloss:0.43276\n",
            "[138]\ttrain-logloss:0.01468\teval-logloss:0.43220\n",
            "[139]\ttrain-logloss:0.01466\teval-logloss:0.43266\n",
            "[140]\ttrain-logloss:0.01463\teval-logloss:0.43297\n",
            "[141]\ttrain-logloss:0.01461\teval-logloss:0.43352\n",
            "[142]\ttrain-logloss:0.01459\teval-logloss:0.43327\n",
            "[143]\ttrain-logloss:0.01457\teval-logloss:0.43377\n",
            "[144]\ttrain-logloss:0.01456\teval-logloss:0.43381\n",
            "[145]\ttrain-logloss:0.01454\teval-logloss:0.43462\n",
            "[146]\ttrain-logloss:0.01452\teval-logloss:0.43497\n",
            "[147]\ttrain-logloss:0.01451\teval-logloss:0.43494\n",
            "[148]\ttrain-logloss:0.01449\teval-logloss:0.43575\n",
            "[149]\ttrain-logloss:0.01447\teval-logloss:0.43420\n",
            "[150]\ttrain-logloss:0.01445\teval-logloss:0.43462\n",
            "[151]\ttrain-logloss:0.01443\teval-logloss:0.43446\n",
            "[152]\ttrain-logloss:0.01441\teval-logloss:0.43496\n",
            "[153]\ttrain-logloss:0.01440\teval-logloss:0.43451\n",
            "[154]\ttrain-logloss:0.01437\teval-logloss:0.43389\n",
            "[155]\ttrain-logloss:0.01436\teval-logloss:0.43242\n",
            "[156]\ttrain-logloss:0.01434\teval-logloss:0.43248\n",
            "[157]\ttrain-logloss:0.01432\teval-logloss:0.43215\n",
            "[158]\ttrain-logloss:0.01431\teval-logloss:0.43197\n",
            "[159]\ttrain-logloss:0.01430\teval-logloss:0.43266\n",
            "[160]\ttrain-logloss:0.01428\teval-logloss:0.43364\n",
            "[161]\ttrain-logloss:0.01426\teval-logloss:0.43483\n",
            "[162]\ttrain-logloss:0.01425\teval-logloss:0.43538\n",
            "[163]\ttrain-logloss:0.01423\teval-logloss:0.43611\n",
            "[164]\ttrain-logloss:0.01422\teval-logloss:0.43567\n",
            "[165]\ttrain-logloss:0.01421\teval-logloss:0.43562\n",
            "[166]\ttrain-logloss:0.01419\teval-logloss:0.43601\n",
            "[167]\ttrain-logloss:0.01418\teval-logloss:0.43593\n",
            "[168]\ttrain-logloss:0.01417\teval-logloss:0.43693\n",
            "[169]\ttrain-logloss:0.01415\teval-logloss:0.43702\n",
            "[170]\ttrain-logloss:0.01414\teval-logloss:0.43690\n",
            "[171]\ttrain-logloss:0.01413\teval-logloss:0.43752\n",
            "[172]\ttrain-logloss:0.01411\teval-logloss:0.43795\n",
            "[173]\ttrain-logloss:0.01410\teval-logloss:0.43864\n",
            "[174]\ttrain-logloss:0.01409\teval-logloss:0.43939\n",
            "[175]\ttrain-logloss:0.01407\teval-logloss:0.43935\n",
            "[176]\ttrain-logloss:0.01407\teval-logloss:0.43957\n",
            "[177]\ttrain-logloss:0.01405\teval-logloss:0.43927\n",
            "[178]\ttrain-logloss:0.01404\teval-logloss:0.43945\n",
            "[179]\ttrain-logloss:0.01403\teval-logloss:0.43933\n",
            "[180]\ttrain-logloss:0.01402\teval-logloss:0.43864\n",
            "[181]\ttrain-logloss:0.01401\teval-logloss:0.44061\n",
            "[182]\ttrain-logloss:0.01400\teval-logloss:0.43938\n",
            "[183]\ttrain-logloss:0.01399\teval-logloss:0.43930\n",
            "[184]\ttrain-logloss:0.01398\teval-logloss:0.43908\n",
            "[185]\ttrain-logloss:0.01397\teval-logloss:0.43952\n",
            "[186]\ttrain-logloss:0.01396\teval-logloss:0.43907\n",
            "[187]\ttrain-logloss:0.01395\teval-logloss:0.43898\n",
            "[188]\ttrain-logloss:0.01393\teval-logloss:0.43997\n",
            "[189]\ttrain-logloss:0.01392\teval-logloss:0.43948\n",
            "[190]\ttrain-logloss:0.01391\teval-logloss:0.43977\n",
            "[191]\ttrain-logloss:0.01390\teval-logloss:0.44047\n",
            "[192]\ttrain-logloss:0.01389\teval-logloss:0.44050\n",
            "[193]\ttrain-logloss:0.01388\teval-logloss:0.44062\n",
            "[194]\ttrain-logloss:0.01387\teval-logloss:0.44107\n",
            "[195]\ttrain-logloss:0.01386\teval-logloss:0.44199\n",
            "[196]\ttrain-logloss:0.01385\teval-logloss:0.44093\n",
            "[197]\ttrain-logloss:0.01383\teval-logloss:0.44026\n",
            "[198]\ttrain-logloss:0.01382\teval-logloss:0.44085\n",
            "[199]\ttrain-logloss:0.01381\teval-logloss:0.44080\n"
          ]
        },
        {
          "output_type": "display_data",
          "data": {
            "text/plain": [
              "<IPython.core.display.HTML object>"
            ],
            "text/html": [
              "Waiting for W&B process to finish... <strong style=\"color:green\">(success).</strong>"
            ]
          },
          "metadata": {}
        },
        {
          "output_type": "display_data",
          "data": {
            "text/plain": [
              "VBox(children=(Label(value='0.017 MB of 0.017 MB uploaded (0.000 MB deduped)\\r'), FloatProgress(value=1.0, max…"
            ],
            "application/vnd.jupyter.widget-view+json": {
              "version_major": 2,
              "version_minor": 0,
              "model_id": "c9f820d6c663470baa9e15156fb3b465"
            }
          },
          "metadata": {}
        },
        {
          "output_type": "display_data",
          "data": {
            "text/plain": [
              "<IPython.core.display.HTML object>"
            ],
            "text/html": [
              "<style>\n",
              "    table.wandb td:nth-child(1) { padding: 0 10px; text-align: left ; width: auto;} td:nth-child(2) {text-align: left ; width: 100%}\n",
              "    .wandb-row { display: flex; flex-direction: row; flex-wrap: wrap; justify-content: flex-start; width: 100% }\n",
              "    .wandb-col { display: flex; flex-direction: column; flex-basis: 100%; flex: 1; padding: 10px; }\n",
              "    </style>\n",
              "<div class=\"wandb-row\"><div class=\"wandb-col\"><h3>Run history:</h3><br/><table class=\"wandb\"><tr><td>epoch</td><td>▁▁▁▁▂▂▂▂▂▃▃▃▃▃▃▄▄▄▄▄▅▅▅▅▅▅▆▆▆▆▆▇▇▇▇▇▇███</td></tr><tr><td>eval-logloss</td><td>█▄▃▃▁▂▂▁▁▁▁▁▁▁▁▁▁▁▁▂▁▁▁▁▂▂▂▂▂▂▂▂▂▂▂▂▂▂▂▂</td></tr><tr><td>eval/accuracy</td><td>▁</td></tr><tr><td>eval/f1</td><td>▁</td></tr><tr><td>eval/precision</td><td>▁</td></tr><tr><td>eval/recall</td><td>▁</td></tr><tr><td>train-logloss</td><td>█▄▂▂▁▁▁▁▁▁▁▁▁▁▁▁▁▁▁▁▁▁▁▁▁▁▁▁▁▁▁▁▁▁▁▁▁▁▁▁</td></tr></table><br/></div><div class=\"wandb-col\"><h3>Run summary:</h3><br/><table class=\"wandb\"><tr><td>epoch</td><td>199</td></tr><tr><td>eval/accuracy</td><td>0.84358</td></tr><tr><td>eval/f1</td><td>0.84615</td></tr><tr><td>eval/precision</td><td>0.89535</td></tr><tr><td>eval/recall</td><td>0.80208</td></tr></table><br/></div></div>"
            ]
          },
          "metadata": {}
        },
        {
          "output_type": "display_data",
          "data": {
            "text/plain": [
              "<IPython.core.display.HTML object>"
            ],
            "text/html": [
              "Synced <strong style=\"color:#cdcd00\">politifact-glove-title-xgb-0</strong>: <a href=\"https://wandb.ai/saloniteam/nofolds/runs/1gdcgqv8\" target=\"_blank\">https://wandb.ai/saloniteam/nofolds/runs/1gdcgqv8</a><br/>Synced 5 W&B file(s), 2 media file(s), 2 artifact file(s) and 0 other file(s)"
            ]
          },
          "metadata": {}
        },
        {
          "output_type": "display_data",
          "data": {
            "text/plain": [
              "<IPython.core.display.HTML object>"
            ],
            "text/html": [
              "Find logs at: <code>./wandb/run-20220714_181156-1gdcgqv8/logs</code>"
            ]
          },
          "metadata": {}
        }
      ]
    },
    {
      "cell_type": "markdown",
      "source": [
        "## Fulltext"
      ],
      "metadata": {
        "id": "chLwp438Mdun"
      }
    },
    {
      "cell_type": "markdown",
      "source": [
        "Training for full text + titles now. It can be compared to the performance above to see if there was an improvement or not by adding another feature for real/fake news prediction. "
      ],
      "metadata": {
        "id": "kK0EQV1rFOds"
      }
    },
    {
      "cell_type": "code",
      "source": [
        "news['fulltext'] = news['title'] + '\\n' + news['text']"
      ],
      "metadata": {
        "id": "vtmuh83oMgEx"
      },
      "execution_count": null,
      "outputs": []
    },
    {
      "cell_type": "code",
      "source": [
        "#Tokenizing Text -> Repsesenting each word by a number\n",
        "tokenizer = text.Tokenizer(oov_token=\"<unk>\")\n",
        "tokenizer.fit_on_texts(news.fulltext)"
      ],
      "metadata": {
        "id": "co9_90NYOFsk"
      },
      "execution_count": null,
      "outputs": []
    },
    {
      "cell_type": "code",
      "source": [
        "emb_matrix = np.zeros((len(tokenizer.word_index)+1, d_wv), dtype=np.float32)\n",
        "for i in range(1,max(tokenizer.word_index.values())+1):\n",
        "    word = tokenizer.index_word[i]\n",
        "    if word in glove.vocab:\n",
        "        emb_matrix[i, :] = glove.word_vec(word)\n",
        "print(emb_matrix.shape)"
      ],
      "metadata": {
        "colab": {
          "base_uri": "https://localhost:8080/"
        },
        "id": "lGLM2xb0OFs1",
        "outputId": "00620873-6e4d-469b-90a4-f62fa6a22572"
      },
      "execution_count": null,
      "outputs": [
        {
          "output_type": "stream",
          "name": "stdout",
          "text": [
            "(33450, 300)\n"
          ]
        }
      ]
    },
    {
      "cell_type": "code",
      "source": [
        "tokenized_texts = tokenizer.texts_to_sequences(news.fulltext.tolist())\n",
        "\n",
        "# maximal number of tokens to use (set to -1 to use full article)\n",
        "max_len = 128 \n",
        "X = []\n",
        "for text_ids in tokenized_texts:\n",
        "    text_ids = text_ids[:max_len]\n",
        "    X.append(emb_matrix[text_ids].mean(0))\n",
        "\n",
        "X = np.stack(X, axis=0)\n",
        "y = (df.label==\"real\").to_numpy().astype(int)\n",
        "\n",
        "X.shape, y.shape"
      ],
      "metadata": {
        "colab": {
          "base_uri": "https://localhost:8080/"
        },
        "outputId": "f4c7bd26-9c6c-49b7-f293-ae5414e425b4",
        "id": "eozwoQccPaTa"
      },
      "execution_count": null,
      "outputs": [
        {
          "output_type": "execute_result",
          "data": {
            "text/plain": [
              "((894, 300), (894,))"
            ]
          },
          "metadata": {},
          "execution_count": 25
        }
      ]
    },
    {
      "cell_type": "code",
      "source": [
        "params = {\n",
        "    \"objective\":'binary:logistic',\n",
        "    \"seed\":124,\n",
        "    'num_boost_round':200\n",
        "}"
      ],
      "metadata": {
        "id": "5bheiM_bsonl"
      },
      "execution_count": null,
      "outputs": []
    },
    {
      "cell_type": "code",
      "source": [
        "GROUP = f\"{dataset_id}-me-glove-fulltext-xgb\"\n",
        "\n",
        "for fold_id, (train_idx, test_idx) in enumerate(skf.split(X, y)):\n",
        "    clear_output()\n",
        "    with wandb.init(entity=WANDB_ENTITY, project=WANDB_PROJECT, group=GROUP, name=f\"{GROUP}-{fold_id}\", tags=['glove', 'xgb']) as run:\n",
        "        train(train_idx, test_idx, params)\n",
        "    break"
      ],
      "metadata": {
        "colab": {
          "base_uri": "https://localhost:8080/",
          "height": 1000,
          "referenced_widgets": [
            "ab47a07daafe4171bf27e7311c7ac4e6",
            "6bc4f23b7be746389019e66d4751ccf6",
            "6e7a7f51e7da40b4b619c0c0d0b27e67",
            "54e70fc4f78f4b40981d425c6c7cb04a",
            "fd34c5d78f26494f935e922580021882",
            "9cc027d2602f479aacad972780e80292",
            "bc735d9f9890439bab7b06bd25c2f938",
            "1e0e13b45a8f40d399b9222861476e1e"
          ]
        },
        "outputId": "f67a04b8-d847-454a-903c-c74e479167f7",
        "id": "OeM095LRsonn"
      },
      "execution_count": null,
      "outputs": [
        {
          "output_type": "stream",
          "name": "stderr",
          "text": [
            "\u001b[34m\u001b[1mwandb\u001b[0m: Currently logged in as: \u001b[33msaloni\u001b[0m (\u001b[33msaloniteam\u001b[0m). Use \u001b[1m`wandb login --relogin`\u001b[0m to force relogin\n"
          ]
        },
        {
          "output_type": "display_data",
          "data": {
            "text/plain": [
              "<IPython.core.display.HTML object>"
            ],
            "text/html": [
              "Tracking run with wandb version 0.12.21"
            ]
          },
          "metadata": {}
        },
        {
          "output_type": "display_data",
          "data": {
            "text/plain": [
              "<IPython.core.display.HTML object>"
            ],
            "text/html": [
              "Run data is saved locally in <code>/content/wandb/run-20220714_181213-2imm3iw8</code>"
            ]
          },
          "metadata": {}
        },
        {
          "output_type": "display_data",
          "data": {
            "text/plain": [
              "<IPython.core.display.HTML object>"
            ],
            "text/html": [
              "Syncing run <strong><a href=\"https://wandb.ai/saloniteam/nofolds/runs/2imm3iw8\" target=\"_blank\">politifact-me-glove-fulltext-xgb-0</a></strong> to <a href=\"https://wandb.ai/saloniteam/nofolds\" target=\"_blank\">Weights & Biases</a> (<a href=\"https://wandb.me/run\" target=\"_blank\">docs</a>)<br/>"
            ]
          },
          "metadata": {}
        },
        {
          "output_type": "stream",
          "name": "stdout",
          "text": [
            "[18:12:14] WARNING: ../src/learner.cc:627: \n",
            "Parameters: { \"num_boost_round\" } might not be used.\n",
            "\n",
            "  This could be a false alarm, with some parameters getting used by language bindings but\n",
            "  then being mistakenly passed down to XGBoost core, or some parameter actually being used\n",
            "  but getting flagged wrongly here. Please open an issue if you find any such cases.\n",
            "\n",
            "\n",
            "[0]\ttrain-logloss:0.52696\teval-logloss:0.61568\n",
            "[1]\ttrain-logloss:0.41723\teval-logloss:0.54795\n",
            "[2]\ttrain-logloss:0.33532\teval-logloss:0.50581\n",
            "[3]\ttrain-logloss:0.27260\teval-logloss:0.47416\n",
            "[4]\ttrain-logloss:0.22333\teval-logloss:0.45915\n",
            "[5]\ttrain-logloss:0.18656\teval-logloss:0.42178\n",
            "[6]\ttrain-logloss:0.15786\teval-logloss:0.41525\n",
            "[7]\ttrain-logloss:0.13376\teval-logloss:0.40534\n",
            "[8]\ttrain-logloss:0.11567\teval-logloss:0.39289\n",
            "[9]\ttrain-logloss:0.10092\teval-logloss:0.38169\n",
            "[10]\ttrain-logloss:0.08871\teval-logloss:0.38449\n",
            "[11]\ttrain-logloss:0.07824\teval-logloss:0.38074\n",
            "[12]\ttrain-logloss:0.06986\teval-logloss:0.37336\n",
            "[13]\ttrain-logloss:0.06259\teval-logloss:0.36158\n",
            "[14]\ttrain-logloss:0.05626\teval-logloss:0.36198\n",
            "[15]\ttrain-logloss:0.05103\teval-logloss:0.35314\n",
            "[16]\ttrain-logloss:0.04709\teval-logloss:0.34125\n",
            "[17]\ttrain-logloss:0.04343\teval-logloss:0.33879\n",
            "[18]\ttrain-logloss:0.04031\teval-logloss:0.34334\n",
            "[19]\ttrain-logloss:0.03742\teval-logloss:0.34220\n",
            "[20]\ttrain-logloss:0.03498\teval-logloss:0.34234\n",
            "[21]\ttrain-logloss:0.03269\teval-logloss:0.34092\n",
            "[22]\ttrain-logloss:0.03080\teval-logloss:0.33951\n",
            "[23]\ttrain-logloss:0.02912\teval-logloss:0.33969\n",
            "[24]\ttrain-logloss:0.02755\teval-logloss:0.34110\n",
            "[25]\ttrain-logloss:0.02630\teval-logloss:0.34243\n",
            "[26]\ttrain-logloss:0.02522\teval-logloss:0.34015\n",
            "[27]\ttrain-logloss:0.02416\teval-logloss:0.33830\n",
            "[28]\ttrain-logloss:0.02320\teval-logloss:0.34064\n",
            "[29]\ttrain-logloss:0.02237\teval-logloss:0.34221\n",
            "[30]\ttrain-logloss:0.02152\teval-logloss:0.34178\n",
            "[31]\ttrain-logloss:0.02085\teval-logloss:0.34171\n",
            "[32]\ttrain-logloss:0.02016\teval-logloss:0.34375\n",
            "[33]\ttrain-logloss:0.01947\teval-logloss:0.34350\n",
            "[34]\ttrain-logloss:0.01893\teval-logloss:0.34202\n",
            "[35]\ttrain-logloss:0.01826\teval-logloss:0.34327\n",
            "[36]\ttrain-logloss:0.01779\teval-logloss:0.34462\n",
            "[37]\ttrain-logloss:0.01725\teval-logloss:0.34162\n",
            "[38]\ttrain-logloss:0.01679\teval-logloss:0.34293\n",
            "[39]\ttrain-logloss:0.01638\teval-logloss:0.34448\n",
            "[40]\ttrain-logloss:0.01602\teval-logloss:0.34514\n",
            "[41]\ttrain-logloss:0.01558\teval-logloss:0.34528\n",
            "[42]\ttrain-logloss:0.01521\teval-logloss:0.34551\n",
            "[43]\ttrain-logloss:0.01484\teval-logloss:0.34584\n",
            "[44]\ttrain-logloss:0.01449\teval-logloss:0.34383\n",
            "[45]\ttrain-logloss:0.01422\teval-logloss:0.34494\n",
            "[46]\ttrain-logloss:0.01395\teval-logloss:0.34787\n",
            "[47]\ttrain-logloss:0.01368\teval-logloss:0.34955\n",
            "[48]\ttrain-logloss:0.01348\teval-logloss:0.34923\n",
            "[49]\ttrain-logloss:0.01327\teval-logloss:0.35059\n",
            "[50]\ttrain-logloss:0.01309\teval-logloss:0.35110\n",
            "[51]\ttrain-logloss:0.01289\teval-logloss:0.34886\n",
            "[52]\ttrain-logloss:0.01266\teval-logloss:0.34716\n",
            "[53]\ttrain-logloss:0.01249\teval-logloss:0.34911\n",
            "[54]\ttrain-logloss:0.01228\teval-logloss:0.34601\n",
            "[55]\ttrain-logloss:0.01211\teval-logloss:0.34657\n",
            "[56]\ttrain-logloss:0.01194\teval-logloss:0.34710\n",
            "[57]\ttrain-logloss:0.01178\teval-logloss:0.34711\n",
            "[58]\ttrain-logloss:0.01162\teval-logloss:0.34835\n",
            "[59]\ttrain-logloss:0.01143\teval-logloss:0.35020\n",
            "[60]\ttrain-logloss:0.01128\teval-logloss:0.34968\n",
            "[61]\ttrain-logloss:0.01114\teval-logloss:0.34749\n",
            "[62]\ttrain-logloss:0.01099\teval-logloss:0.34654\n",
            "[63]\ttrain-logloss:0.01086\teval-logloss:0.34693\n",
            "[64]\ttrain-logloss:0.01073\teval-logloss:0.34770\n",
            "[65]\ttrain-logloss:0.01059\teval-logloss:0.35098\n",
            "[66]\ttrain-logloss:0.01050\teval-logloss:0.35209\n",
            "[67]\ttrain-logloss:0.01042\teval-logloss:0.35377\n",
            "[68]\ttrain-logloss:0.01030\teval-logloss:0.35366\n",
            "[69]\ttrain-logloss:0.01022\teval-logloss:0.35455\n",
            "[70]\ttrain-logloss:0.01010\teval-logloss:0.35368\n",
            "[71]\ttrain-logloss:0.00998\teval-logloss:0.35302\n",
            "[72]\ttrain-logloss:0.00990\teval-logloss:0.35151\n",
            "[73]\ttrain-logloss:0.00980\teval-logloss:0.35009\n",
            "[74]\ttrain-logloss:0.00969\teval-logloss:0.34993\n",
            "[75]\ttrain-logloss:0.00961\teval-logloss:0.35051\n",
            "[76]\ttrain-logloss:0.00952\teval-logloss:0.35074\n",
            "[77]\ttrain-logloss:0.00945\teval-logloss:0.35222\n",
            "[78]\ttrain-logloss:0.00936\teval-logloss:0.35300\n",
            "[79]\ttrain-logloss:0.00929\teval-logloss:0.35504\n",
            "[80]\ttrain-logloss:0.00922\teval-logloss:0.35639\n",
            "[81]\ttrain-logloss:0.00915\teval-logloss:0.35813\n",
            "[82]\ttrain-logloss:0.00908\teval-logloss:0.35719\n",
            "[83]\ttrain-logloss:0.00900\teval-logloss:0.35808\n",
            "[84]\ttrain-logloss:0.00893\teval-logloss:0.35727\n",
            "[85]\ttrain-logloss:0.00888\teval-logloss:0.35744\n",
            "[86]\ttrain-logloss:0.00881\teval-logloss:0.35798\n",
            "[87]\ttrain-logloss:0.00875\teval-logloss:0.35687\n",
            "[88]\ttrain-logloss:0.00871\teval-logloss:0.35882\n",
            "[89]\ttrain-logloss:0.00863\teval-logloss:0.35798\n",
            "[90]\ttrain-logloss:0.00857\teval-logloss:0.35869\n",
            "[91]\ttrain-logloss:0.00853\teval-logloss:0.35798\n",
            "[92]\ttrain-logloss:0.00848\teval-logloss:0.35711\n",
            "[93]\ttrain-logloss:0.00844\teval-logloss:0.35827\n",
            "[94]\ttrain-logloss:0.00839\teval-logloss:0.35924\n",
            "[95]\ttrain-logloss:0.00834\teval-logloss:0.36054\n",
            "[96]\ttrain-logloss:0.00830\teval-logloss:0.36175\n",
            "[97]\ttrain-logloss:0.00826\teval-logloss:0.36172\n",
            "[98]\ttrain-logloss:0.00821\teval-logloss:0.36225\n",
            "[99]\ttrain-logloss:0.00818\teval-logloss:0.36160\n",
            "[100]\ttrain-logloss:0.00814\teval-logloss:0.36215\n",
            "[101]\ttrain-logloss:0.00811\teval-logloss:0.36240\n",
            "[102]\ttrain-logloss:0.00807\teval-logloss:0.36220\n",
            "[103]\ttrain-logloss:0.00804\teval-logloss:0.36282\n",
            "[104]\ttrain-logloss:0.00800\teval-logloss:0.36383\n",
            "[105]\ttrain-logloss:0.00797\teval-logloss:0.36539\n",
            "[106]\ttrain-logloss:0.00792\teval-logloss:0.36476\n",
            "[107]\ttrain-logloss:0.00788\teval-logloss:0.36578\n",
            "[108]\ttrain-logloss:0.00785\teval-logloss:0.36597\n",
            "[109]\ttrain-logloss:0.00782\teval-logloss:0.36602\n",
            "[110]\ttrain-logloss:0.00779\teval-logloss:0.36548\n",
            "[111]\ttrain-logloss:0.00776\teval-logloss:0.36513\n",
            "[112]\ttrain-logloss:0.00773\teval-logloss:0.36470\n",
            "[113]\ttrain-logloss:0.00770\teval-logloss:0.36507\n",
            "[114]\ttrain-logloss:0.00767\teval-logloss:0.36726\n",
            "[115]\ttrain-logloss:0.00763\teval-logloss:0.36748\n",
            "[116]\ttrain-logloss:0.00760\teval-logloss:0.36632\n",
            "[117]\ttrain-logloss:0.00757\teval-logloss:0.36717\n",
            "[118]\ttrain-logloss:0.00755\teval-logloss:0.36647\n",
            "[119]\ttrain-logloss:0.00752\teval-logloss:0.36682\n",
            "[120]\ttrain-logloss:0.00750\teval-logloss:0.36722\n",
            "[121]\ttrain-logloss:0.00747\teval-logloss:0.36749\n",
            "[122]\ttrain-logloss:0.00745\teval-logloss:0.36712\n",
            "[123]\ttrain-logloss:0.00742\teval-logloss:0.36785\n",
            "[124]\ttrain-logloss:0.00740\teval-logloss:0.36707\n",
            "[125]\ttrain-logloss:0.00737\teval-logloss:0.36706\n",
            "[126]\ttrain-logloss:0.00735\teval-logloss:0.36765\n",
            "[127]\ttrain-logloss:0.00733\teval-logloss:0.36851\n",
            "[128]\ttrain-logloss:0.00730\teval-logloss:0.36827\n",
            "[129]\ttrain-logloss:0.00729\teval-logloss:0.36799\n",
            "[130]\ttrain-logloss:0.00726\teval-logloss:0.36667\n",
            "[131]\ttrain-logloss:0.00724\teval-logloss:0.36694\n",
            "[132]\ttrain-logloss:0.00722\teval-logloss:0.36681\n",
            "[133]\ttrain-logloss:0.00719\teval-logloss:0.36689\n",
            "[134]\ttrain-logloss:0.00717\teval-logloss:0.36724\n",
            "[135]\ttrain-logloss:0.00715\teval-logloss:0.36767\n",
            "[136]\ttrain-logloss:0.00713\teval-logloss:0.36797\n",
            "[137]\ttrain-logloss:0.00710\teval-logloss:0.36796\n",
            "[138]\ttrain-logloss:0.00709\teval-logloss:0.36770\n",
            "[139]\ttrain-logloss:0.00707\teval-logloss:0.36805\n",
            "[140]\ttrain-logloss:0.00705\teval-logloss:0.36760\n",
            "[141]\ttrain-logloss:0.00703\teval-logloss:0.36812\n",
            "[142]\ttrain-logloss:0.00700\teval-logloss:0.36797\n",
            "[143]\ttrain-logloss:0.00699\teval-logloss:0.36809\n",
            "[144]\ttrain-logloss:0.00697\teval-logloss:0.36863\n",
            "[145]\ttrain-logloss:0.00695\teval-logloss:0.36775\n",
            "[146]\ttrain-logloss:0.00694\teval-logloss:0.36779\n",
            "[147]\ttrain-logloss:0.00692\teval-logloss:0.36767\n",
            "[148]\ttrain-logloss:0.00689\teval-logloss:0.36770\n",
            "[149]\ttrain-logloss:0.00688\teval-logloss:0.36751\n",
            "[150]\ttrain-logloss:0.00686\teval-logloss:0.36870\n",
            "[151]\ttrain-logloss:0.00685\teval-logloss:0.36902\n",
            "[152]\ttrain-logloss:0.00683\teval-logloss:0.37010\n",
            "[153]\ttrain-logloss:0.00682\teval-logloss:0.37026\n",
            "[154]\ttrain-logloss:0.00680\teval-logloss:0.37060\n",
            "[155]\ttrain-logloss:0.00678\teval-logloss:0.37105\n",
            "[156]\ttrain-logloss:0.00676\teval-logloss:0.37120\n",
            "[157]\ttrain-logloss:0.00674\teval-logloss:0.37154\n",
            "[158]\ttrain-logloss:0.00674\teval-logloss:0.37118\n",
            "[159]\ttrain-logloss:0.00672\teval-logloss:0.37207\n",
            "[160]\ttrain-logloss:0.00671\teval-logloss:0.37270\n",
            "[161]\ttrain-logloss:0.00669\teval-logloss:0.37299\n",
            "[162]\ttrain-logloss:0.00668\teval-logloss:0.37242\n",
            "[163]\ttrain-logloss:0.00666\teval-logloss:0.37255\n",
            "[164]\ttrain-logloss:0.00665\teval-logloss:0.37209\n",
            "[165]\ttrain-logloss:0.00663\teval-logloss:0.37175\n",
            "[166]\ttrain-logloss:0.00661\teval-logloss:0.37145\n",
            "[167]\ttrain-logloss:0.00660\teval-logloss:0.37173\n",
            "[168]\ttrain-logloss:0.00659\teval-logloss:0.37164\n",
            "[169]\ttrain-logloss:0.00658\teval-logloss:0.37160\n",
            "[170]\ttrain-logloss:0.00656\teval-logloss:0.37111\n",
            "[171]\ttrain-logloss:0.00656\teval-logloss:0.37127\n",
            "[172]\ttrain-logloss:0.00654\teval-logloss:0.37183\n",
            "[173]\ttrain-logloss:0.00653\teval-logloss:0.37109\n",
            "[174]\ttrain-logloss:0.00652\teval-logloss:0.37112\n",
            "[175]\ttrain-logloss:0.00651\teval-logloss:0.37226\n",
            "[176]\ttrain-logloss:0.00650\teval-logloss:0.37162\n",
            "[177]\ttrain-logloss:0.00649\teval-logloss:0.37158\n",
            "[178]\ttrain-logloss:0.00648\teval-logloss:0.37267\n",
            "[179]\ttrain-logloss:0.00646\teval-logloss:0.37307\n",
            "[180]\ttrain-logloss:0.00644\teval-logloss:0.37233\n",
            "[181]\ttrain-logloss:0.00643\teval-logloss:0.37322\n",
            "[182]\ttrain-logloss:0.00641\teval-logloss:0.37389\n",
            "[183]\ttrain-logloss:0.00640\teval-logloss:0.37402\n",
            "[184]\ttrain-logloss:0.00639\teval-logloss:0.37437\n",
            "[185]\ttrain-logloss:0.00638\teval-logloss:0.37459\n",
            "[186]\ttrain-logloss:0.00637\teval-logloss:0.37552\n",
            "[187]\ttrain-logloss:0.00635\teval-logloss:0.37444\n",
            "[188]\ttrain-logloss:0.00634\teval-logloss:0.37444\n",
            "[189]\ttrain-logloss:0.00633\teval-logloss:0.37370\n",
            "[190]\ttrain-logloss:0.00632\teval-logloss:0.37392\n",
            "[191]\ttrain-logloss:0.00630\teval-logloss:0.37411\n",
            "[192]\ttrain-logloss:0.00630\teval-logloss:0.37484\n",
            "[193]\ttrain-logloss:0.00629\teval-logloss:0.37503\n",
            "[194]\ttrain-logloss:0.00627\teval-logloss:0.37512\n",
            "[195]\ttrain-logloss:0.00626\teval-logloss:0.37482\n",
            "[196]\ttrain-logloss:0.00626\teval-logloss:0.37538\n",
            "[197]\ttrain-logloss:0.00624\teval-logloss:0.37496\n",
            "[198]\ttrain-logloss:0.00624\teval-logloss:0.37489\n",
            "[199]\ttrain-logloss:0.00623\teval-logloss:0.37519\n"
          ]
        },
        {
          "output_type": "display_data",
          "data": {
            "text/plain": [
              "<IPython.core.display.HTML object>"
            ],
            "text/html": [
              "Waiting for W&B process to finish... <strong style=\"color:green\">(success).</strong>"
            ]
          },
          "metadata": {}
        },
        {
          "output_type": "display_data",
          "data": {
            "text/plain": [
              "VBox(children=(Label(value='0.016 MB of 0.016 MB uploaded (0.000 MB deduped)\\r'), FloatProgress(value=1.0, max…"
            ],
            "application/vnd.jupyter.widget-view+json": {
              "version_major": 2,
              "version_minor": 0,
              "model_id": "ab47a07daafe4171bf27e7311c7ac4e6"
            }
          },
          "metadata": {}
        },
        {
          "output_type": "display_data",
          "data": {
            "text/plain": [
              "<IPython.core.display.HTML object>"
            ],
            "text/html": [
              "<style>\n",
              "    table.wandb td:nth-child(1) { padding: 0 10px; text-align: left ; width: auto;} td:nth-child(2) {text-align: left ; width: 100%}\n",
              "    .wandb-row { display: flex; flex-direction: row; flex-wrap: wrap; justify-content: flex-start; width: 100% }\n",
              "    .wandb-col { display: flex; flex-direction: column; flex-basis: 100%; flex: 1; padding: 10px; }\n",
              "    </style>\n",
              "<div class=\"wandb-row\"><div class=\"wandb-col\"><h3>Run history:</h3><br/><table class=\"wandb\"><tr><td>epoch</td><td>▁▁▁▁▂▂▂▂▂▃▃▃▃▃▃▄▄▄▄▄▅▅▅▅▅▅▆▆▆▆▆▇▇▇▇▇▇███</td></tr><tr><td>eval-logloss</td><td>█▄▂▁▁▁▁▁▁▁▁▁▁▁▁▁▂▂▂▂▂▂▂▂▂▂▂▂▂▂▂▂▂▂▂▂▂▂▂▂</td></tr><tr><td>eval/accuracy</td><td>▁</td></tr><tr><td>eval/f1</td><td>▁</td></tr><tr><td>eval/precision</td><td>▁</td></tr><tr><td>eval/recall</td><td>▁</td></tr><tr><td>train-logloss</td><td>█▄▂▂▁▁▁▁▁▁▁▁▁▁▁▁▁▁▁▁▁▁▁▁▁▁▁▁▁▁▁▁▁▁▁▁▁▁▁▁</td></tr></table><br/></div><div class=\"wandb-col\"><h3>Run summary:</h3><br/><table class=\"wandb\"><tr><td>epoch</td><td>199</td></tr><tr><td>eval/accuracy</td><td>0.87151</td></tr><tr><td>eval/f1</td><td>0.87701</td></tr><tr><td>eval/precision</td><td>0.9011</td></tr><tr><td>eval/recall</td><td>0.85417</td></tr></table><br/></div></div>"
            ]
          },
          "metadata": {}
        },
        {
          "output_type": "display_data",
          "data": {
            "text/plain": [
              "<IPython.core.display.HTML object>"
            ],
            "text/html": [
              "Synced <strong style=\"color:#cdcd00\">politifact-me-glove-fulltext-xgb-0</strong>: <a href=\"https://wandb.ai/saloniteam/nofolds/runs/2imm3iw8\" target=\"_blank\">https://wandb.ai/saloniteam/nofolds/runs/2imm3iw8</a><br/>Synced 5 W&B file(s), 2 media file(s), 2 artifact file(s) and 0 other file(s)"
            ]
          },
          "metadata": {}
        },
        {
          "output_type": "display_data",
          "data": {
            "text/plain": [
              "<IPython.core.display.HTML object>"
            ],
            "text/html": [
              "Find logs at: <code>./wandb/run-20220714_181213-2imm3iw8/logs</code>"
            ]
          },
          "metadata": {}
        }
      ]
    },
    {
      "cell_type": "markdown",
      "source": [
        "## + num tweets/retweets"
      ],
      "metadata": {
        "id": "453F2wUts4u_"
      }
    },
    {
      "cell_type": "code",
      "source": [
        "glove_text_embs = X.copy()"
      ],
      "metadata": {
        "id": "W7NiFd4As2sE"
      },
      "execution_count": null,
      "outputs": []
    },
    {
      "cell_type": "code",
      "source": [
        "X = np.concatenate([glove_text_embs, df.num_retweets.to_numpy()[..., None], df.num_tweets.to_numpy()[..., None]], axis=1)\n",
        "y = (df.label==\"real\").to_numpy().astype(int)\n",
        "\n",
        "X.shape, y.shape"
      ],
      "metadata": {
        "colab": {
          "base_uri": "https://localhost:8080/"
        },
        "outputId": "9c667153-ddee-4604-d96a-0d699f2a1bfe",
        "id": "NYFQrhVkqGbC"
      },
      "execution_count": null,
      "outputs": [
        {
          "output_type": "execute_result",
          "data": {
            "text/plain": [
              "((894, 302), (894,))"
            ]
          },
          "metadata": {},
          "execution_count": 29
        }
      ]
    },
    {
      "cell_type": "code",
      "source": [
        "GROUP = f\"{dataset_id}-me-glove-fulltext+tw-xgb\"\n",
        "\n",
        "for fold_id, (train_idx, test_idx) in enumerate(skf.split(X, y)):\n",
        "    clear_output()\n",
        "    with wandb.init(entity=WANDB_ENTITY, project=WANDB_PROJECT, group=GROUP, name=f\"{GROUP}-{fold_id}\", tags=['glove', 'xgb']) as run:\n",
        "        train(train_idx, test_idx, params)\n",
        "    break"
      ],
      "metadata": {
        "colab": {
          "base_uri": "https://localhost:8080/",
          "height": 1000,
          "referenced_widgets": [
            "2d38a78a071a45e08335542fd42b7275",
            "d1029735d4b6490c8d15ef6434e110b6",
            "2cca62af4d3a4c948be193369a164a59",
            "18a3d7f5473c41aeb374897e01d94ffb",
            "9debbaabf193495e8d1fa9cd96429cf4",
            "5b4ba4c8fd9046adb52fc62e67131339",
            "f3848211b5484979a1d0388c72f64dbb",
            "848610815be741c4acb645c096452dcb"
          ]
        },
        "outputId": "2a2f2799-cc4c-4b4f-ec30-a09f250a9885",
        "id": "XwV0fuaYtXFY"
      },
      "execution_count": null,
      "outputs": [
        {
          "output_type": "display_data",
          "data": {
            "text/plain": [
              "<IPython.core.display.HTML object>"
            ],
            "text/html": [
              "Tracking run with wandb version 0.12.21"
            ]
          },
          "metadata": {}
        },
        {
          "output_type": "display_data",
          "data": {
            "text/plain": [
              "<IPython.core.display.HTML object>"
            ],
            "text/html": [
              "Run data is saved locally in <code>/content/wandb/run-20220714_181226-31xzdeqj</code>"
            ]
          },
          "metadata": {}
        },
        {
          "output_type": "display_data",
          "data": {
            "text/plain": [
              "<IPython.core.display.HTML object>"
            ],
            "text/html": [
              "Syncing run <strong><a href=\"https://wandb.ai/saloniteam/nofolds/runs/31xzdeqj\" target=\"_blank\">politifact-me-glove-fulltext+tw-xgb-0</a></strong> to <a href=\"https://wandb.ai/saloniteam/nofolds\" target=\"_blank\">Weights & Biases</a> (<a href=\"https://wandb.me/run\" target=\"_blank\">docs</a>)<br/>"
            ]
          },
          "metadata": {}
        },
        {
          "output_type": "stream",
          "name": "stdout",
          "text": [
            "[18:12:28] WARNING: ../src/learner.cc:627: \n",
            "Parameters: { \"num_boost_round\" } might not be used.\n",
            "\n",
            "  This could be a false alarm, with some parameters getting used by language bindings but\n",
            "  then being mistakenly passed down to XGBoost core, or some parameter actually being used\n",
            "  but getting flagged wrongly here. Please open an issue if you find any such cases.\n",
            "\n",
            "\n",
            "[0]\ttrain-logloss:0.49505\teval-logloss:0.57970\n",
            "[1]\ttrain-logloss:0.37859\teval-logloss:0.51485\n",
            "[2]\ttrain-logloss:0.30045\teval-logloss:0.47687\n",
            "[3]\ttrain-logloss:0.24338\teval-logloss:0.44176\n",
            "[4]\ttrain-logloss:0.19947\teval-logloss:0.41492\n",
            "[5]\ttrain-logloss:0.16720\teval-logloss:0.38717\n",
            "[6]\ttrain-logloss:0.13920\teval-logloss:0.36519\n",
            "[7]\ttrain-logloss:0.11851\teval-logloss:0.34935\n",
            "[8]\ttrain-logloss:0.10153\teval-logloss:0.32836\n",
            "[9]\ttrain-logloss:0.08766\teval-logloss:0.32614\n",
            "[10]\ttrain-logloss:0.07615\teval-logloss:0.31468\n",
            "[11]\ttrain-logloss:0.06792\teval-logloss:0.30986\n",
            "[12]\ttrain-logloss:0.06063\teval-logloss:0.30604\n",
            "[13]\ttrain-logloss:0.05469\teval-logloss:0.30799\n",
            "[14]\ttrain-logloss:0.04948\teval-logloss:0.30664\n",
            "[15]\ttrain-logloss:0.04532\teval-logloss:0.30104\n",
            "[16]\ttrain-logloss:0.04134\teval-logloss:0.30592\n",
            "[17]\ttrain-logloss:0.03807\teval-logloss:0.30466\n",
            "[18]\ttrain-logloss:0.03547\teval-logloss:0.30620\n",
            "[19]\ttrain-logloss:0.03306\teval-logloss:0.30454\n",
            "[20]\ttrain-logloss:0.03075\teval-logloss:0.30344\n",
            "[21]\ttrain-logloss:0.02881\teval-logloss:0.30723\n",
            "[22]\ttrain-logloss:0.02706\teval-logloss:0.31244\n",
            "[23]\ttrain-logloss:0.02531\teval-logloss:0.31037\n",
            "[24]\ttrain-logloss:0.02401\teval-logloss:0.30713\n",
            "[25]\ttrain-logloss:0.02294\teval-logloss:0.30716\n",
            "[26]\ttrain-logloss:0.02186\teval-logloss:0.30970\n",
            "[27]\ttrain-logloss:0.02082\teval-logloss:0.31066\n",
            "[28]\ttrain-logloss:0.02002\teval-logloss:0.31182\n",
            "[29]\ttrain-logloss:0.01929\teval-logloss:0.31339\n",
            "[30]\ttrain-logloss:0.01827\teval-logloss:0.31590\n",
            "[31]\ttrain-logloss:0.01767\teval-logloss:0.31417\n",
            "[32]\ttrain-logloss:0.01702\teval-logloss:0.31727\n",
            "[33]\ttrain-logloss:0.01645\teval-logloss:0.31308\n",
            "[34]\ttrain-logloss:0.01602\teval-logloss:0.31696\n",
            "[35]\ttrain-logloss:0.01548\teval-logloss:0.31626\n",
            "[36]\ttrain-logloss:0.01501\teval-logloss:0.31486\n",
            "[37]\ttrain-logloss:0.01459\teval-logloss:0.31654\n",
            "[38]\ttrain-logloss:0.01414\teval-logloss:0.31608\n",
            "[39]\ttrain-logloss:0.01373\teval-logloss:0.31644\n",
            "[40]\ttrain-logloss:0.01334\teval-logloss:0.31864\n",
            "[41]\ttrain-logloss:0.01304\teval-logloss:0.31754\n",
            "[42]\ttrain-logloss:0.01275\teval-logloss:0.31658\n",
            "[43]\ttrain-logloss:0.01245\teval-logloss:0.31683\n",
            "[44]\ttrain-logloss:0.01215\teval-logloss:0.31572\n",
            "[45]\ttrain-logloss:0.01187\teval-logloss:0.31435\n",
            "[46]\ttrain-logloss:0.01164\teval-logloss:0.31562\n",
            "[47]\ttrain-logloss:0.01141\teval-logloss:0.31625\n",
            "[48]\ttrain-logloss:0.01121\teval-logloss:0.31977\n",
            "[49]\ttrain-logloss:0.01101\teval-logloss:0.32086\n",
            "[50]\ttrain-logloss:0.01083\teval-logloss:0.32264\n",
            "[51]\ttrain-logloss:0.01064\teval-logloss:0.32311\n",
            "[52]\ttrain-logloss:0.01050\teval-logloss:0.32205\n",
            "[53]\ttrain-logloss:0.01034\teval-logloss:0.32214\n",
            "[54]\ttrain-logloss:0.01018\teval-logloss:0.32214\n",
            "[55]\ttrain-logloss:0.01004\teval-logloss:0.32165\n",
            "[56]\ttrain-logloss:0.00988\teval-logloss:0.32040\n",
            "[57]\ttrain-logloss:0.00967\teval-logloss:0.31937\n",
            "[58]\ttrain-logloss:0.00952\teval-logloss:0.31804\n",
            "[59]\ttrain-logloss:0.00938\teval-logloss:0.31787\n",
            "[60]\ttrain-logloss:0.00925\teval-logloss:0.31881\n",
            "[61]\ttrain-logloss:0.00913\teval-logloss:0.31781\n",
            "[62]\ttrain-logloss:0.00901\teval-logloss:0.31698\n",
            "[63]\ttrain-logloss:0.00887\teval-logloss:0.31594\n",
            "[64]\ttrain-logloss:0.00873\teval-logloss:0.31739\n",
            "[65]\ttrain-logloss:0.00861\teval-logloss:0.31927\n",
            "[66]\ttrain-logloss:0.00853\teval-logloss:0.31962\n",
            "[67]\ttrain-logloss:0.00844\teval-logloss:0.31986\n",
            "[68]\ttrain-logloss:0.00836\teval-logloss:0.31995\n",
            "[69]\ttrain-logloss:0.00827\teval-logloss:0.32002\n",
            "[70]\ttrain-logloss:0.00818\teval-logloss:0.32067\n",
            "[71]\ttrain-logloss:0.00809\teval-logloss:0.32143\n",
            "[72]\ttrain-logloss:0.00801\teval-logloss:0.32253\n",
            "[73]\ttrain-logloss:0.00793\teval-logloss:0.32312\n",
            "[74]\ttrain-logloss:0.00786\teval-logloss:0.32284\n",
            "[75]\ttrain-logloss:0.00777\teval-logloss:0.32271\n",
            "[76]\ttrain-logloss:0.00772\teval-logloss:0.32417\n",
            "[77]\ttrain-logloss:0.00764\teval-logloss:0.32530\n",
            "[78]\ttrain-logloss:0.00758\teval-logloss:0.32535\n",
            "[79]\ttrain-logloss:0.00751\teval-logloss:0.32622\n",
            "[80]\ttrain-logloss:0.00747\teval-logloss:0.32755\n",
            "[81]\ttrain-logloss:0.00742\teval-logloss:0.32787\n",
            "[82]\ttrain-logloss:0.00738\teval-logloss:0.32767\n",
            "[83]\ttrain-logloss:0.00732\teval-logloss:0.32763\n",
            "[84]\ttrain-logloss:0.00727\teval-logloss:0.32951\n",
            "[85]\ttrain-logloss:0.00720\teval-logloss:0.32916\n",
            "[86]\ttrain-logloss:0.00711\teval-logloss:0.32998\n",
            "[87]\ttrain-logloss:0.00706\teval-logloss:0.33150\n",
            "[88]\ttrain-logloss:0.00702\teval-logloss:0.33057\n",
            "[89]\ttrain-logloss:0.00695\teval-logloss:0.33141\n",
            "[90]\ttrain-logloss:0.00691\teval-logloss:0.33119\n",
            "[91]\ttrain-logloss:0.00686\teval-logloss:0.33133\n",
            "[92]\ttrain-logloss:0.00682\teval-logloss:0.33122\n",
            "[93]\ttrain-logloss:0.00676\teval-logloss:0.33171\n",
            "[94]\ttrain-logloss:0.00672\teval-logloss:0.33009\n",
            "[95]\ttrain-logloss:0.00668\teval-logloss:0.33044\n",
            "[96]\ttrain-logloss:0.00661\teval-logloss:0.32953\n",
            "[97]\ttrain-logloss:0.00657\teval-logloss:0.32961\n",
            "[98]\ttrain-logloss:0.00652\teval-logloss:0.32995\n",
            "[99]\ttrain-logloss:0.00649\teval-logloss:0.33103\n",
            "[100]\ttrain-logloss:0.00645\teval-logloss:0.33017\n",
            "[101]\ttrain-logloss:0.00642\teval-logloss:0.33160\n",
            "[102]\ttrain-logloss:0.00639\teval-logloss:0.33180\n",
            "[103]\ttrain-logloss:0.00635\teval-logloss:0.33154\n",
            "[104]\ttrain-logloss:0.00631\teval-logloss:0.33149\n",
            "[105]\ttrain-logloss:0.00628\teval-logloss:0.33264\n",
            "[106]\ttrain-logloss:0.00624\teval-logloss:0.33376\n",
            "[107]\ttrain-logloss:0.00621\teval-logloss:0.33436\n",
            "[108]\ttrain-logloss:0.00617\teval-logloss:0.33473\n",
            "[109]\ttrain-logloss:0.00614\teval-logloss:0.33510\n",
            "[110]\ttrain-logloss:0.00610\teval-logloss:0.33493\n",
            "[111]\ttrain-logloss:0.00607\teval-logloss:0.33530\n",
            "[112]\ttrain-logloss:0.00603\teval-logloss:0.33576\n",
            "[113]\ttrain-logloss:0.00600\teval-logloss:0.33494\n",
            "[114]\ttrain-logloss:0.00596\teval-logloss:0.33391\n",
            "[115]\ttrain-logloss:0.00595\teval-logloss:0.33408\n",
            "[116]\ttrain-logloss:0.00592\teval-logloss:0.33511\n",
            "[117]\ttrain-logloss:0.00588\teval-logloss:0.33540\n",
            "[118]\ttrain-logloss:0.00586\teval-logloss:0.33584\n",
            "[119]\ttrain-logloss:0.00582\teval-logloss:0.33404\n",
            "[120]\ttrain-logloss:0.00579\teval-logloss:0.33376\n",
            "[121]\ttrain-logloss:0.00577\teval-logloss:0.33359\n",
            "[122]\ttrain-logloss:0.00575\teval-logloss:0.33248\n",
            "[123]\ttrain-logloss:0.00572\teval-logloss:0.33310\n",
            "[124]\ttrain-logloss:0.00571\teval-logloss:0.33356\n",
            "[125]\ttrain-logloss:0.00569\teval-logloss:0.33456\n",
            "[126]\ttrain-logloss:0.00566\teval-logloss:0.33307\n",
            "[127]\ttrain-logloss:0.00563\teval-logloss:0.33330\n",
            "[128]\ttrain-logloss:0.00561\teval-logloss:0.33397\n",
            "[129]\ttrain-logloss:0.00558\teval-logloss:0.33612\n",
            "[130]\ttrain-logloss:0.00555\teval-logloss:0.33562\n",
            "[131]\ttrain-logloss:0.00552\teval-logloss:0.33674\n",
            "[132]\ttrain-logloss:0.00550\teval-logloss:0.33711\n",
            "[133]\ttrain-logloss:0.00547\teval-logloss:0.33555\n",
            "[134]\ttrain-logloss:0.00545\teval-logloss:0.33617\n",
            "[135]\ttrain-logloss:0.00542\teval-logloss:0.33600\n",
            "[136]\ttrain-logloss:0.00540\teval-logloss:0.33613\n",
            "[137]\ttrain-logloss:0.00538\teval-logloss:0.33657\n",
            "[138]\ttrain-logloss:0.00537\teval-logloss:0.33674\n",
            "[139]\ttrain-logloss:0.00534\teval-logloss:0.33653\n",
            "[140]\ttrain-logloss:0.00533\teval-logloss:0.33691\n",
            "[141]\ttrain-logloss:0.00531\teval-logloss:0.33753\n",
            "[142]\ttrain-logloss:0.00530\teval-logloss:0.33643\n",
            "[143]\ttrain-logloss:0.00529\teval-logloss:0.33597\n",
            "[144]\ttrain-logloss:0.00527\teval-logloss:0.33642\n",
            "[145]\ttrain-logloss:0.00524\teval-logloss:0.33855\n",
            "[146]\ttrain-logloss:0.00523\teval-logloss:0.33748\n",
            "[147]\ttrain-logloss:0.00521\teval-logloss:0.33946\n",
            "[148]\ttrain-logloss:0.00519\teval-logloss:0.34057\n",
            "[149]\ttrain-logloss:0.00517\teval-logloss:0.33991\n",
            "[150]\ttrain-logloss:0.00514\teval-logloss:0.34173\n",
            "[151]\ttrain-logloss:0.00512\teval-logloss:0.34057\n",
            "[152]\ttrain-logloss:0.00510\teval-logloss:0.33924\n",
            "[153]\ttrain-logloss:0.00507\teval-logloss:0.33980\n",
            "[154]\ttrain-logloss:0.00506\teval-logloss:0.34011\n",
            "[155]\ttrain-logloss:0.00504\teval-logloss:0.34126\n",
            "[156]\ttrain-logloss:0.00503\teval-logloss:0.34137\n",
            "[157]\ttrain-logloss:0.00500\teval-logloss:0.34214\n",
            "[158]\ttrain-logloss:0.00499\teval-logloss:0.34193\n",
            "[159]\ttrain-logloss:0.00497\teval-logloss:0.34223\n",
            "[160]\ttrain-logloss:0.00495\teval-logloss:0.34292\n",
            "[161]\ttrain-logloss:0.00493\teval-logloss:0.34367\n",
            "[162]\ttrain-logloss:0.00492\teval-logloss:0.34381\n",
            "[163]\ttrain-logloss:0.00491\teval-logloss:0.34260\n",
            "[164]\ttrain-logloss:0.00490\teval-logloss:0.34412\n",
            "[165]\ttrain-logloss:0.00488\teval-logloss:0.34330\n",
            "[166]\ttrain-logloss:0.00487\teval-logloss:0.34386\n",
            "[167]\ttrain-logloss:0.00486\teval-logloss:0.34376\n",
            "[168]\ttrain-logloss:0.00485\teval-logloss:0.34401\n",
            "[169]\ttrain-logloss:0.00484\teval-logloss:0.34411\n",
            "[170]\ttrain-logloss:0.00483\teval-logloss:0.34339\n",
            "[171]\ttrain-logloss:0.00482\teval-logloss:0.34367\n",
            "[172]\ttrain-logloss:0.00481\teval-logloss:0.34381\n",
            "[173]\ttrain-logloss:0.00480\teval-logloss:0.34424\n",
            "[174]\ttrain-logloss:0.00480\teval-logloss:0.34426\n",
            "[175]\ttrain-logloss:0.00479\teval-logloss:0.34500\n",
            "[176]\ttrain-logloss:0.00477\teval-logloss:0.34583\n",
            "[177]\ttrain-logloss:0.00476\teval-logloss:0.34578\n",
            "[178]\ttrain-logloss:0.00475\teval-logloss:0.34663\n",
            "[179]\ttrain-logloss:0.00474\teval-logloss:0.34707\n",
            "[180]\ttrain-logloss:0.00472\teval-logloss:0.34635\n",
            "[181]\ttrain-logloss:0.00471\teval-logloss:0.34672\n",
            "[182]\ttrain-logloss:0.00469\teval-logloss:0.34683\n",
            "[183]\ttrain-logloss:0.00469\teval-logloss:0.34626\n",
            "[184]\ttrain-logloss:0.00467\teval-logloss:0.34632\n",
            "[185]\ttrain-logloss:0.00466\teval-logloss:0.34603\n",
            "[186]\ttrain-logloss:0.00466\teval-logloss:0.34630\n",
            "[187]\ttrain-logloss:0.00464\teval-logloss:0.34773\n",
            "[188]\ttrain-logloss:0.00463\teval-logloss:0.34778\n",
            "[189]\ttrain-logloss:0.00461\teval-logloss:0.34791\n",
            "[190]\ttrain-logloss:0.00461\teval-logloss:0.34881\n",
            "[191]\ttrain-logloss:0.00460\teval-logloss:0.34898\n",
            "[192]\ttrain-logloss:0.00459\teval-logloss:0.34872\n",
            "[193]\ttrain-logloss:0.00458\teval-logloss:0.34800\n",
            "[194]\ttrain-logloss:0.00458\teval-logloss:0.34761\n",
            "[195]\ttrain-logloss:0.00457\teval-logloss:0.34750\n",
            "[196]\ttrain-logloss:0.00456\teval-logloss:0.34775\n",
            "[197]\ttrain-logloss:0.00456\teval-logloss:0.34739\n",
            "[198]\ttrain-logloss:0.00455\teval-logloss:0.34724\n",
            "[199]\ttrain-logloss:0.00454\teval-logloss:0.34756\n"
          ]
        },
        {
          "output_type": "display_data",
          "data": {
            "text/plain": [
              "<IPython.core.display.HTML object>"
            ],
            "text/html": [
              "Waiting for W&B process to finish... <strong style=\"color:green\">(success).</strong>"
            ]
          },
          "metadata": {}
        },
        {
          "output_type": "display_data",
          "data": {
            "text/plain": [
              "VBox(children=(Label(value='0.015 MB of 0.015 MB uploaded (0.000 MB deduped)\\r'), FloatProgress(value=0.989828…"
            ],
            "application/vnd.jupyter.widget-view+json": {
              "version_major": 2,
              "version_minor": 0,
              "model_id": "2d38a78a071a45e08335542fd42b7275"
            }
          },
          "metadata": {}
        },
        {
          "output_type": "display_data",
          "data": {
            "text/plain": [
              "<IPython.core.display.HTML object>"
            ],
            "text/html": [
              "<style>\n",
              "    table.wandb td:nth-child(1) { padding: 0 10px; text-align: left ; width: auto;} td:nth-child(2) {text-align: left ; width: 100%}\n",
              "    .wandb-row { display: flex; flex-direction: row; flex-wrap: wrap; justify-content: flex-start; width: 100% }\n",
              "    .wandb-col { display: flex; flex-direction: column; flex-basis: 100%; flex: 1; padding: 10px; }\n",
              "    </style>\n",
              "<div class=\"wandb-row\"><div class=\"wandb-col\"><h3>Run history:</h3><br/><table class=\"wandb\"><tr><td>epoch</td><td>▁▁▁▁▂▂▂▂▂▃▃▃▃▃▃▄▄▄▄▄▅▅▅▅▅▅▆▆▆▆▆▇▇▇▇▇▇███</td></tr><tr><td>eval-logloss</td><td>█▄▁▁▁▁▁▁▂▁▂▂▂▂▂▂▂▂▂▂▂▂▂▂▂▂▂▂▂▂▂▂▂▂▂▂▂▃▃▃</td></tr><tr><td>eval/accuracy</td><td>▁</td></tr><tr><td>eval/f1</td><td>▁</td></tr><tr><td>eval/precision</td><td>▁</td></tr><tr><td>eval/recall</td><td>▁</td></tr><tr><td>train-logloss</td><td>█▄▂▂▁▁▁▁▁▁▁▁▁▁▁▁▁▁▁▁▁▁▁▁▁▁▁▁▁▁▁▁▁▁▁▁▁▁▁▁</td></tr></table><br/></div><div class=\"wandb-col\"><h3>Run summary:</h3><br/><table class=\"wandb\"><tr><td>epoch</td><td>199</td></tr><tr><td>eval/accuracy</td><td>0.88827</td></tr><tr><td>eval/f1</td><td>0.89583</td></tr><tr><td>eval/precision</td><td>0.89583</td></tr><tr><td>eval/recall</td><td>0.89583</td></tr></table><br/></div></div>"
            ]
          },
          "metadata": {}
        },
        {
          "output_type": "display_data",
          "data": {
            "text/plain": [
              "<IPython.core.display.HTML object>"
            ],
            "text/html": [
              "Synced <strong style=\"color:#cdcd00\">politifact-me-glove-fulltext+tw-xgb-0</strong>: <a href=\"https://wandb.ai/saloniteam/nofolds/runs/31xzdeqj\" target=\"_blank\">https://wandb.ai/saloniteam/nofolds/runs/31xzdeqj</a><br/>Synced 5 W&B file(s), 2 media file(s), 2 artifact file(s) and 0 other file(s)"
            ]
          },
          "metadata": {}
        },
        {
          "output_type": "display_data",
          "data": {
            "text/plain": [
              "<IPython.core.display.HTML object>"
            ],
            "text/html": [
              "Find logs at: <code>./wandb/run-20220714_181226-31xzdeqj/logs</code>"
            ]
          },
          "metadata": {}
        }
      ]
    },
    {
      "cell_type": "markdown",
      "source": [
        "The run can be found in the specified group by name or direct link to wandb. "
      ],
      "metadata": {
        "id": "kXAQTZroFf-8"
      }
    }
  ]
}