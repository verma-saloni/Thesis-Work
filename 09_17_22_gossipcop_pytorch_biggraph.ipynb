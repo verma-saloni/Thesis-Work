{
  "nbformat": 4,
  "nbformat_minor": 0,
  "metadata": {
    "colab": {
      "provenance": [],
      "collapsed_sections": [],
      "include_colab_link": true
    },
    "kernelspec": {
      "name": "python3",
      "display_name": "Python 3"
    },
    "language_info": {
      "name": "python"
    }
  },
  "cells": [
    {
      "cell_type": "markdown",
      "metadata": {
        "id": "view-in-github",
        "colab_type": "text"
      },
      "source": [
        "<a href=\"https://colab.research.google.com/github/verma-saloni/Thesis-Work/blob/main/09_17_22_gossipcop_pytorch_biggraph.ipynb\" target=\"_parent\"><img src=\"https://colab.research.google.com/assets/colab-badge.svg\" alt=\"Open In Colab\"/></a>"
      ]
    },
    {
      "cell_type": "code",
      "execution_count": 1,
      "metadata": {
        "id": "xpTeMbYZwmf7"
      },
      "outputs": [],
      "source": [
        "!pip -qq install jsonlines"
      ]
    },
    {
      "cell_type": "code",
      "source": [
        "!git clone -qb working https://github.com/arampacha/PyTorch-BigGraph"
      ],
      "metadata": {
        "id": "Vne7O50jOJRz"
      },
      "execution_count": 2,
      "outputs": []
    },
    {
      "cell_type": "code",
      "source": [
        "%cd PyTorch-BigGraph/\n",
        "!pip -qq install .\n",
        "%cd /content/"
      ],
      "metadata": {
        "id": "fKc3Ix04OThj",
        "colab": {
          "base_uri": "https://localhost:8080/"
        },
        "outputId": "6698d3f3-5c19-44cb-c6db-709aaa482114"
      },
      "execution_count": 3,
      "outputs": [
        {
          "output_type": "stream",
          "name": "stdout",
          "text": [
            "/content/PyTorch-BigGraph\n",
            "\u001b[33m  DEPRECATION: A future pip version will change local packages to be built in-place without first copying to a temporary directory. We recommend you use --use-feature=in-tree-build to test your packages with this new behavior before it becomes the default.\n",
            "   pip 21.3 will remove support for this functionality. You can find discussion regarding this at https://github.com/pypa/pip/issues/7555.\u001b[0m\n",
            "  Building wheel for torchbiggraph (setup.py) ... \u001b[?25l\u001b[?25hdone\n",
            "/content\n"
          ]
        }
      ]
    },
    {
      "cell_type": "code",
      "source": [
        "from google.colab import drive\n",
        "drive.mount('/gdrive')\n",
        "\n",
        "from pathlib import Path\n",
        "base_dir = Path(\"/gdrive/MyDrive/ResearchFND\")\n",
        "assert base_dir.exists()"
      ],
      "metadata": {
        "colab": {
          "base_uri": "https://localhost:8080/"
        },
        "id": "UxNEaltli8H_",
        "outputId": "b7f47b96-9f65-49f7-8b60-508b98eabaeb"
      },
      "execution_count": 5,
      "outputs": [
        {
          "output_type": "stream",
          "name": "stdout",
          "text": [
            "Drive already mounted at /gdrive; to attempt to forcibly remount, call drive.mount(\"/gdrive\", force_remount=True).\n"
          ]
        }
      ]
    },
    {
      "cell_type": "code",
      "source": [
        "dataset_id = 'gossipcop'"
      ],
      "metadata": {
        "id": "HHElky4bs0T_"
      },
      "execution_count": 8,
      "outputs": []
    },
    {
      "cell_type": "code",
      "source": [
        "(base_dir/f'{dataset_id}_edges.txt').exists()"
      ],
      "metadata": {
        "colab": {
          "base_uri": "https://localhost:8080/"
        },
        "id": "l39QT3APPL_v",
        "outputId": "c4b8956e-8121-496d-dc50-84a40be22316"
      },
      "execution_count": 9,
      "outputs": [
        {
          "output_type": "execute_result",
          "data": {
            "text/plain": [
              "True"
            ]
          },
          "metadata": {},
          "execution_count": 9
        }
      ]
    },
    {
      "cell_type": "markdown",
      "source": [
        "## Data prep\n",
        "\n",
        "> THIS STEP CAN BE SKIPPED IF `politifact_edges.txt` exists"
      ],
      "metadata": {
        "id": "NHdG78wwVumY"
      }
    },
    {
      "cell_type": "code",
      "source": [
        "import pandas as pd\n",
        "import ast\n",
        "import json"
      ],
      "metadata": {
        "id": "7tPiW_FBWO8s"
      },
      "execution_count": null,
      "outputs": []
    },
    {
      "cell_type": "code",
      "source": [
        "df = pd.read_csv(base_dir/f'{dataset_id}_agg.csv', index_col=0)\n",
        "df.head(2)"
      ],
      "metadata": {
        "colab": {
          "base_uri": "https://localhost:8080/",
          "height": 166
        },
        "id": "0BsiweMKV3Kt",
        "outputId": "bc8fd8e5-b97d-447a-a5e9-aa648f546d48"
      },
      "execution_count": null,
      "outputs": [
        {
          "output_type": "execute_result",
          "data": {
            "text/plain": [
              "                                               title text tweets  \\\n",
              "0   Actress Emma Stone ‘For the first time in his...  NaN     []   \n",
              "1   Breaking President Trump makes English the of...  NaN     []   \n",
              "\n",
              "                                            retweets label  url tweet_ids  \\\n",
              "0  ['1020554564334964741', '1020817527046197248',...  fake  NaN        []   \n",
              "1                                                 []  fake  NaN        []   \n",
              "\n",
              "   num_retweets  log_num_retweets  num_tweets  log_num_tweets  \n",
              "0          2911          7.976595           0             0.0  \n",
              "1             0          0.000000           0             0.0  "
            ],
            "text/html": [
              "\n",
              "  <div id=\"df-921b06df-5ecf-4710-9897-d2b589bbc963\">\n",
              "    <div class=\"colab-df-container\">\n",
              "      <div>\n",
              "<style scoped>\n",
              "    .dataframe tbody tr th:only-of-type {\n",
              "        vertical-align: middle;\n",
              "    }\n",
              "\n",
              "    .dataframe tbody tr th {\n",
              "        vertical-align: top;\n",
              "    }\n",
              "\n",
              "    .dataframe thead th {\n",
              "        text-align: right;\n",
              "    }\n",
              "</style>\n",
              "<table border=\"1\" class=\"dataframe\">\n",
              "  <thead>\n",
              "    <tr style=\"text-align: right;\">\n",
              "      <th></th>\n",
              "      <th>title</th>\n",
              "      <th>text</th>\n",
              "      <th>tweets</th>\n",
              "      <th>retweets</th>\n",
              "      <th>label</th>\n",
              "      <th>url</th>\n",
              "      <th>tweet_ids</th>\n",
              "      <th>num_retweets</th>\n",
              "      <th>log_num_retweets</th>\n",
              "      <th>num_tweets</th>\n",
              "      <th>log_num_tweets</th>\n",
              "    </tr>\n",
              "  </thead>\n",
              "  <tbody>\n",
              "    <tr>\n",
              "      <th>0</th>\n",
              "      <td>Actress Emma Stone ‘For the first time in his...</td>\n",
              "      <td>NaN</td>\n",
              "      <td>[]</td>\n",
              "      <td>['1020554564334964741', '1020817527046197248',...</td>\n",
              "      <td>fake</td>\n",
              "      <td>NaN</td>\n",
              "      <td>[]</td>\n",
              "      <td>2911</td>\n",
              "      <td>7.976595</td>\n",
              "      <td>0</td>\n",
              "      <td>0.0</td>\n",
              "    </tr>\n",
              "    <tr>\n",
              "      <th>1</th>\n",
              "      <td>Breaking President Trump makes English the of...</td>\n",
              "      <td>NaN</td>\n",
              "      <td>[]</td>\n",
              "      <td>[]</td>\n",
              "      <td>fake</td>\n",
              "      <td>NaN</td>\n",
              "      <td>[]</td>\n",
              "      <td>0</td>\n",
              "      <td>0.000000</td>\n",
              "      <td>0</td>\n",
              "      <td>0.0</td>\n",
              "    </tr>\n",
              "  </tbody>\n",
              "</table>\n",
              "</div>\n",
              "      <button class=\"colab-df-convert\" onclick=\"convertToInteractive('df-921b06df-5ecf-4710-9897-d2b589bbc963')\"\n",
              "              title=\"Convert this dataframe to an interactive table.\"\n",
              "              style=\"display:none;\">\n",
              "        \n",
              "  <svg xmlns=\"http://www.w3.org/2000/svg\" height=\"24px\"viewBox=\"0 0 24 24\"\n",
              "       width=\"24px\">\n",
              "    <path d=\"M0 0h24v24H0V0z\" fill=\"none\"/>\n",
              "    <path d=\"M18.56 5.44l.94 2.06.94-2.06 2.06-.94-2.06-.94-.94-2.06-.94 2.06-2.06.94zm-11 1L8.5 8.5l.94-2.06 2.06-.94-2.06-.94L8.5 2.5l-.94 2.06-2.06.94zm10 10l.94 2.06.94-2.06 2.06-.94-2.06-.94-.94-2.06-.94 2.06-2.06.94z\"/><path d=\"M17.41 7.96l-1.37-1.37c-.4-.4-.92-.59-1.43-.59-.52 0-1.04.2-1.43.59L10.3 9.45l-7.72 7.72c-.78.78-.78 2.05 0 2.83L4 21.41c.39.39.9.59 1.41.59.51 0 1.02-.2 1.41-.59l7.78-7.78 2.81-2.81c.8-.78.8-2.07 0-2.86zM5.41 20L4 18.59l7.72-7.72 1.47 1.35L5.41 20z\"/>\n",
              "  </svg>\n",
              "      </button>\n",
              "      \n",
              "  <style>\n",
              "    .colab-df-container {\n",
              "      display:flex;\n",
              "      flex-wrap:wrap;\n",
              "      gap: 12px;\n",
              "    }\n",
              "\n",
              "    .colab-df-convert {\n",
              "      background-color: #E8F0FE;\n",
              "      border: none;\n",
              "      border-radius: 50%;\n",
              "      cursor: pointer;\n",
              "      display: none;\n",
              "      fill: #1967D2;\n",
              "      height: 32px;\n",
              "      padding: 0 0 0 0;\n",
              "      width: 32px;\n",
              "    }\n",
              "\n",
              "    .colab-df-convert:hover {\n",
              "      background-color: #E2EBFA;\n",
              "      box-shadow: 0px 1px 2px rgba(60, 64, 67, 0.3), 0px 1px 3px 1px rgba(60, 64, 67, 0.15);\n",
              "      fill: #174EA6;\n",
              "    }\n",
              "\n",
              "    [theme=dark] .colab-df-convert {\n",
              "      background-color: #3B4455;\n",
              "      fill: #D2E3FC;\n",
              "    }\n",
              "\n",
              "    [theme=dark] .colab-df-convert:hover {\n",
              "      background-color: #434B5C;\n",
              "      box-shadow: 0px 1px 3px 1px rgba(0, 0, 0, 0.15);\n",
              "      filter: drop-shadow(0px 1px 2px rgba(0, 0, 0, 0.3));\n",
              "      fill: #FFFFFF;\n",
              "    }\n",
              "  </style>\n",
              "\n",
              "      <script>\n",
              "        const buttonEl =\n",
              "          document.querySelector('#df-921b06df-5ecf-4710-9897-d2b589bbc963 button.colab-df-convert');\n",
              "        buttonEl.style.display =\n",
              "          google.colab.kernel.accessAllowed ? 'block' : 'none';\n",
              "\n",
              "        async function convertToInteractive(key) {\n",
              "          const element = document.querySelector('#df-921b06df-5ecf-4710-9897-d2b589bbc963');\n",
              "          const dataTable =\n",
              "            await google.colab.kernel.invokeFunction('convertToInteractive',\n",
              "                                                     [key], {});\n",
              "          if (!dataTable) return;\n",
              "\n",
              "          const docLinkHtml = 'Like what you see? Visit the ' +\n",
              "            '<a target=\"_blank\" href=https://colab.research.google.com/notebooks/data_table.ipynb>data table notebook</a>'\n",
              "            + ' to learn more about interactive tables.';\n",
              "          element.innerHTML = '';\n",
              "          dataTable['output_type'] = 'display_data';\n",
              "          await google.colab.output.renderOutput(dataTable, element);\n",
              "          const docLink = document.createElement('div');\n",
              "          docLink.innerHTML = docLinkHtml;\n",
              "          element.appendChild(docLink);\n",
              "        }\n",
              "      </script>\n",
              "    </div>\n",
              "  </div>\n",
              "  "
            ]
          },
          "metadata": {},
          "execution_count": 8
        }
      ]
    },
    {
      "cell_type": "code",
      "source": [
        "df['tweets'] = df.tweets.map(ast.literal_eval)"
      ],
      "metadata": {
        "id": "cruZFCpNWRLb"
      },
      "execution_count": null,
      "outputs": []
    },
    {
      "cell_type": "code",
      "source": [
        "users_tweeted = df.tweets.map(lambda x: [int(e['user_id']) for e in x])"
      ],
      "metadata": {
        "id": "wH5i98HOWz1w"
      },
      "execution_count": null,
      "outputs": []
    },
    {
      "cell_type": "code",
      "source": [
        "len(users_tweeted), sum(users_tweeted.map(len) > 0)"
      ],
      "metadata": {
        "colab": {
          "base_uri": "https://localhost:8080/"
        },
        "id": "exnDy-5ud_uJ",
        "outputId": "ce74cb19-73b2-4823-be72-68fdc0d2cbed"
      },
      "execution_count": null,
      "outputs": [
        {
          "output_type": "execute_result",
          "data": {
            "text/plain": [
              "(894, 149)"
            ]
          },
          "metadata": {},
          "execution_count": 11
        }
      ]
    },
    {
      "cell_type": "code",
      "source": [
        "import os\n",
        "import jsonlines\n",
        "import numpy as np\n",
        "import torch\n",
        "\n",
        "import IPython.display as ipd"
      ],
      "metadata": {
        "id": "yp52MLR1mdxA"
      },
      "execution_count": null,
      "outputs": []
    },
    {
      "cell_type": "code",
      "source": [
        "follow_src = []\n",
        "follow_dst = []\n",
        "with jsonlines.open(base_dir/\"followers.jsonl\") as reader:\n",
        "    for line in reader:\n",
        "        v = line[\"user_id\"]\n",
        "        for u in line[\"followers\"]:\n",
        "            follow_src.append(u)\n",
        "            follow_dst.append(v)"
      ],
      "metadata": {
        "id": "h3XOCaEwoMvx"
      },
      "execution_count": null,
      "outputs": []
    },
    {
      "cell_type": "code",
      "source": [
        "with jsonlines.open(base_dir/\"following.jsonl\") as reader:\n",
        "    for line in reader:\n",
        "        u = line[\"user_id\"]\n",
        "        for v in line[\"following\"]:\n",
        "            follow_src.append(u)\n",
        "            follow_dst.append(v)"
      ],
      "metadata": {
        "id": "sWJFoJ_4oMvz"
      },
      "execution_count": null,
      "outputs": []
    },
    {
      "cell_type": "code",
      "source": [
        "with open(base_dir/'t2u.json') as f:\n",
        "    t2u = json.load(f)\n",
        "\n",
        "with open(base_dir/'users_info.json') as f:\n",
        "    users_info = json.load(f)"
      ],
      "metadata": {
        "id": "-6bwXASDJdFJ"
      },
      "execution_count": null,
      "outputs": []
    },
    {
      "cell_type": "code",
      "source": [
        "for u, info in users_info.items():\n",
        "    for v in info['followers']:\n",
        "        break\n",
        "        follow_src.append(v)\n",
        "        follow_dst.append(int(u))\n",
        "    for v in info['friends']:\n",
        "        follow_src.append(int(u))\n",
        "        follow_dst.append(v)"
      ],
      "metadata": {
        "id": "Wj-m05WwJ75g"
      },
      "execution_count": null,
      "outputs": []
    },
    {
      "cell_type": "code",
      "source": [
        "tweet_src = []\n",
        "tweet_dst = []\n",
        "\n",
        "for v, l in users_tweeted.iteritems():\n",
        "    if not len(l):\n",
        "        continue\n",
        "    for u in l:\n",
        "        tweet_src.append(u)\n",
        "        tweet_dst.append(v)"
      ],
      "metadata": {
        "id": "DWM9MEXDpiyX"
      },
      "execution_count": null,
      "outputs": []
    },
    {
      "cell_type": "code",
      "source": [
        "users_retweeted = df.retweets.map(lambda x: [t2u[str(e)] for e in x if (str(e) in t2u)])"
      ],
      "metadata": {
        "id": "aXe6_WGU3klf"
      },
      "execution_count": null,
      "outputs": []
    },
    {
      "cell_type": "code",
      "source": [
        "for v, l in users_retweeted.iteritems():\n",
        "    if not len(l):\n",
        "        continue\n",
        "    for u in l:    \n",
        "        tweet_src.append(u)\n",
        "        tweet_dst.append(v)"
      ],
      "metadata": {
        "id": "FOxa9h9d3saM"
      },
      "execution_count": null,
      "outputs": []
    },
    {
      "cell_type": "code",
      "source": [
        "with open(base_dir/f'{dataset_id}_edges.txt', 'w') as f:\n",
        "    for src, dst in zip(follow_src, follow_dst):\n",
        "        f.write(f\"{src}\\t{dst}\\tfollows\\n\")\n",
        "    for src, dst in zip(tweet_src, tweet_dst):\n",
        "        f.write(f\"{src}\\t{dst}\\ttwitted\\n\")"
      ],
      "metadata": {
        "id": "OkIxZJL5UuD0"
      },
      "execution_count": null,
      "outputs": []
    },
    {
      "cell_type": "markdown",
      "source": [
        "## Training"
      ],
      "metadata": {
        "id": "A9DZtJEvKUrH"
      }
    },
    {
      "cell_type": "code",
      "source": [
        "import random\n",
        "from pathlib import Path\n",
        "\n",
        "import attr\n",
        "import pkg_resources\n",
        "from torchbiggraph.config import add_to_sys_path, ConfigFileLoader\n",
        "from torchbiggraph.converters.importers import convert_input_data, TSVEdgelistReader\n",
        "from torchbiggraph.converters.utils import download_url, extract_gzip, extract_tar\n",
        "from torchbiggraph.eval import do_eval\n",
        "from torchbiggraph.train import train\n",
        "from torchbiggraph.util import (\n",
        "    set_logging_verbosity,\n",
        "    setup_logging,\n",
        "    SubprocessInitializer,\n",
        ")"
      ],
      "metadata": {
        "id": "2AfA9wOUQFzE"
      },
      "execution_count": 10,
      "outputs": []
    },
    {
      "cell_type": "code",
      "source": [
        "data_dir = Path('./data')\n",
        "data_dir.mkdir(parents=True, exist_ok=True)\n",
        "fpath = base_dir/f'{dataset_id}_edges.txt'"
      ],
      "metadata": {
        "id": "EhJ-IR1D2_Qx"
      },
      "execution_count": 11,
      "outputs": []
    },
    {
      "cell_type": "code",
      "source": [
        "import random\n",
        "\n",
        "def split_edges(input_file, pct=0.8, train_file='data/train_edges.txt', valid_file='data/valid_edges.txt'):\n",
        "\n",
        "    with open(input_file) as f:\n",
        "        lines = f.readlines()\n",
        "\n",
        "    follow_edges, tweet_edges = [], []\n",
        "    for line in lines:\n",
        "        if line.strip().endswith('follows'):\n",
        "            follow_edges.append(line)\n",
        "        else:\n",
        "            tweet_edges.append(line)\n",
        "\n",
        "    random.shuffle(follow_edges)\n",
        "    random.shuffle(tweet_edges)\n",
        "    follow_split, tweet_split = int(pct*len(follow_edges)), int(pct*len(tweet_edges))\n",
        "    train_edges = follow_edges[:follow_split] + tweet_edges[:tweet_split]\n",
        "    valid_edges = follow_edges[follow_split:] + tweet_edges[tweet_split:]\n",
        "\n",
        "    with open(train_file, 'w') as f:\n",
        "        f.writelines(train_edges)\n",
        "\n",
        "    with open(valid_file, 'w') as f:\n",
        "        f.writelines(valid_edges)"
      ],
      "metadata": {
        "id": "6IufRqmI_3yy"
      },
      "execution_count": 12,
      "outputs": []
    },
    {
      "cell_type": "code",
      "source": [
        "split_edges(fpath)"
      ],
      "metadata": {
        "id": "m8CRfFnyAPob"
      },
      "execution_count": 15,
      "outputs": []
    },
    {
      "cell_type": "code",
      "source": [
        "dimension = 64\n",
        "\n",
        "loader = ConfigFileLoader()\n",
        "config = loader.load_config('PyTorch-BigGraph/torchbiggraph/examples/configs/politifact_config.py', [[f'dimension={dimension}']])\n",
        "set_logging_verbosity(0)\n",
        "subprocess_init = SubprocessInitializer()\n",
        "subprocess_init.register(setup_logging, 0)\n",
        "subprocess_init.register(add_to_sys_path, loader.config_dir.name)\n",
        "input_edge_paths = [data_dir/'train_edges.txt', data_dir/'valid_edges.txt']\n",
        "output_train_path, output_test_path = config.edge_paths"
      ],
      "metadata": {
        "id": "arg_IAqn9SPt"
      },
      "execution_count": 16,
      "outputs": []
    },
    {
      "cell_type": "code",
      "source": [
        "convert_input_data(\n",
        "    config.entities,\n",
        "    config.relations,\n",
        "    config.entity_path,\n",
        "    config.edge_paths,\n",
        "    input_edge_paths,\n",
        "    TSVEdgelistReader(lhs_col=0, rhs_col=1, rel_col=2),\n",
        "    dynamic_relations=config.dynamic_relations,\n",
        ")"
      ],
      "metadata": {
        "colab": {
          "base_uri": "https://localhost:8080/"
        },
        "id": "oTXJLODH-RQx",
        "outputId": "0014cde2-5fe5-42bc-8105-77a06de61475"
      },
      "execution_count": 17,
      "outputs": [
        {
          "output_type": "stream",
          "name": "stdout",
          "text": [
            "[2022-09-17 10:52:10.749828] Using the 2 relation types given in the config\n",
            "[2022-09-17 10:52:10.755335] Searching for the entities in the edge files...\n",
            "[2022-09-17 10:52:11.275445] Entity type user:\n",
            "[2022-09-17 10:52:11.282003] - Found 83652 entities\n",
            "[2022-09-17 10:52:11.288735] - Removing the ones with fewer than 1 occurrences...\n",
            "[2022-09-17 10:52:11.324504] - Left with 83652 entities\n",
            "[2022-09-17 10:52:11.326608] - Shuffling them...\n",
            "[2022-09-17 10:52:11.437056] Entity type article:\n",
            "[2022-09-17 10:52:11.438734] - Found 2117 entities\n",
            "[2022-09-17 10:52:11.443935] - Removing the ones with fewer than 1 occurrences...\n",
            "[2022-09-17 10:52:11.448384] - Left with 2117 entities\n",
            "[2022-09-17 10:52:11.449560] - Shuffling them...\n",
            "[2022-09-17 10:52:11.456033] Preparing counts and dictionaries for entities and relation types:\n",
            "[2022-09-17 10:52:11.458138] - Writing count of entity type user and partition 0\n",
            "[2022-09-17 10:52:11.532684] - Writing count of entity type article and partition 0\n",
            "[2022-09-17 10:52:11.538818] Preparing edge path data/train_partitioned, out of the edges found in data/train_edges.txt\n",
            "[2022-09-17 10:52:11.541926] - Edges will be partitioned in 1 x 1 buckets.\n",
            "[2022-09-17 10:52:12.445959] - Processed 100000 edges so far...\n",
            "[2022-09-17 10:52:13.482650] - Processed 156290 edges in total\n",
            "[2022-09-17 10:52:13.496919] Preparing edge path data/test_partitioned, out of the edges found in data/valid_edges.txt\n",
            "[2022-09-17 10:52:13.501432] - Edges will be partitioned in 1 x 1 buckets.\n",
            "[2022-09-17 10:52:14.792802] - Processed 39073 edges in total\n"
          ]
        }
      ]
    },
    {
      "cell_type": "code",
      "source": [
        "train_config = attr.evolve(config, edge_paths=[output_train_path])\n",
        "train(train_config, subprocess_init=subprocess_init)"
      ],
      "metadata": {
        "colab": {
          "base_uri": "https://localhost:8080/"
        },
        "id": "xMLAogkkFQKW",
        "outputId": "04f322d2-79eb-498d-864f-4de092663b70"
      },
      "execution_count": 18,
      "outputs": [
        {
          "output_type": "stream",
          "name": "stderr",
          "text": [
            "INFO:torchbiggraph:Loading entity counts...\n",
            "INFO:torchbiggraph:Creating workers...\n",
            "INFO:torchbiggraph:Initializing global model...\n",
            "INFO:torchbiggraph:Starting epoch 1 / 30, edge path 1 / 1, edge chunk 1 / 1\n",
            "INFO:torchbiggraph:Edge path: data/train_partitioned\n",
            "INFO:torchbiggraph:still in queue: 0\n",
            "INFO:torchbiggraph:Swapping partitioned embeddings None ( 0 , 0 )\n",
            "INFO:torchbiggraph:Loading partitioned embeddings from checkpoint\n",
            "INFO:torchbiggraph:( 0 , 0 ): Stats before training: loss:  540.151 , pos_rank:  1003.11 , mrr:  0.00380424 , r1:  0.000383926 , r10:  0.00479908 , r50:  0.0223317 , auc:  0.483555 , count:  7814\n",
            "INFO:torchbiggraph:( 0 , 0 ): Training stats: loss:  19.1803 , reg:  0 , violators_lhs:  33.9436 , violators_rhs:  35.5767 , count:  148476\n",
            "INFO:torchbiggraph:( 0 , 0 ): Stats after training: loss:  275.058 , pos_rank:  498.813 , mrr:  0.0692515 , r1:  0.0412081 , r10:  0.12452 , r50:  0.209368 , auc:  0.75979 , count:  7814\n",
            "INFO:torchbiggraph:( 0 , 0 ): bucket 1 / 1 : Trained 148476 edges in 2.04 s ( 0.073 M/sec ); Eval 2*7814 edges in 2.38 s ( 0.0066 M/sec ); io: 0.18 s for 25,707,824 bytes ( 143.21 MB/sec )\n",
            "INFO:torchbiggraph:Swapping partitioned embeddings ( 0 , 0 ) None\n",
            "INFO:torchbiggraph:Saving partitioned embeddings to checkpoint\n",
            "INFO:torchbiggraph:Finished epoch 1 / 30, edge path 1 / 1, edge chunk 1 / 1\n",
            "INFO:torchbiggraph:Writing the metadata\n",
            "INFO:torchbiggraph:Writing the training stats\n",
            "INFO:torchbiggraph:Writing the checkpoint\n",
            "INFO:torchbiggraph:Switching to the new checkpoint version\n",
            "INFO:torchbiggraph:Starting epoch 2 / 30, edge path 1 / 1, edge chunk 1 / 1\n",
            "INFO:torchbiggraph:Edge path: data/train_partitioned\n",
            "INFO:torchbiggraph:still in queue: 0\n",
            "INFO:torchbiggraph:Swapping partitioned embeddings None ( 0 , 0 )\n",
            "INFO:torchbiggraph:Loading partitioned embeddings from checkpoint\n",
            "INFO:torchbiggraph:( 0 , 0 ): Stats before training: loss:  274.664 , pos_rank:  498.629 , mrr:  0.0693122 , r1:  0.0412721 , r10:  0.124712 , r50:  0.2086 , auc:  0.756335 , count:  7814\n",
            "INFO:torchbiggraph:( 0 , 0 ): Training stats: loss:  2.49981 , reg:  0 , violators_lhs:  3.57261 , violators_rhs:  5.67441 , count:  148476\n",
            "INFO:torchbiggraph:( 0 , 0 ): Stats after training: loss:  265.673 , pos_rank:  484.101 , mrr:  0.0737206 , r1:  0.0440875 , r10:  0.132071 , r50:  0.219222 , auc:  0.76235 , count:  7814\n",
            "INFO:torchbiggraph:( 0 , 0 ): bucket 1 / 1 : Trained 148476 edges in 1.88 s ( 0.079 M/sec ); Eval 2*7814 edges in 0.56 s ( 0.028 M/sec ); io: 0.04 s for 25,707,824 bytes ( 730.36 MB/sec )\n",
            "INFO:torchbiggraph:Swapping partitioned embeddings ( 0 , 0 ) None\n",
            "INFO:torchbiggraph:Saving partitioned embeddings to checkpoint\n",
            "INFO:torchbiggraph:Finished epoch 2 / 30, edge path 1 / 1, edge chunk 1 / 1\n",
            "INFO:torchbiggraph:Writing the metadata\n",
            "INFO:torchbiggraph:Writing the training stats\n",
            "INFO:torchbiggraph:Writing the checkpoint\n",
            "INFO:torchbiggraph:Switching to the new checkpoint version\n",
            "INFO:torchbiggraph:Starting epoch 3 / 30, edge path 1 / 1, edge chunk 1 / 1\n",
            "INFO:torchbiggraph:Edge path: data/train_partitioned\n",
            "INFO:torchbiggraph:still in queue: 0\n",
            "INFO:torchbiggraph:Swapping partitioned embeddings None ( 0 , 0 )\n",
            "INFO:torchbiggraph:Loading partitioned embeddings from checkpoint\n",
            "INFO:torchbiggraph:( 0 , 0 ): Stats before training: loss:  265.33 , pos_rank:  483.695 , mrr:  0.0731448 , r1:  0.0436396 , r10:  0.132519 , r50:  0.218646 , auc:  0.763949 , count:  7814\n",
            "INFO:torchbiggraph:( 0 , 0 ): Training stats: loss:  2.17113 , reg:  0 , violators_lhs:  2.99551 , violators_rhs:  5.13902 , count:  148476\n",
            "INFO:torchbiggraph:( 0 , 0 ): Stats after training: loss:  262.165 , pos_rank:  479.522 , mrr:  0.0739134 , r1:  0.0437036 , r10:  0.134246 , r50:  0.222677 , auc:  0.764269 , count:  7814\n",
            "INFO:torchbiggraph:( 0 , 0 ): bucket 1 / 1 : Trained 148476 edges in 1.90 s ( 0.078 M/sec ); Eval 2*7814 edges in 0.57 s ( 0.028 M/sec ); io: 0.03 s for 25,707,824 bytes ( 963.64 MB/sec )\n",
            "INFO:torchbiggraph:Swapping partitioned embeddings ( 0 , 0 ) None\n",
            "INFO:torchbiggraph:Saving partitioned embeddings to checkpoint\n",
            "INFO:torchbiggraph:Finished epoch 3 / 30, edge path 1 / 1, edge chunk 1 / 1\n",
            "INFO:torchbiggraph:Writing the metadata\n",
            "INFO:torchbiggraph:Writing the training stats\n",
            "INFO:torchbiggraph:Writing the checkpoint\n",
            "INFO:torchbiggraph:Switching to the new checkpoint version\n",
            "INFO:torchbiggraph:Starting epoch 4 / 30, edge path 1 / 1, edge chunk 1 / 1\n",
            "INFO:torchbiggraph:Edge path: data/train_partitioned\n",
            "INFO:torchbiggraph:still in queue: 0\n",
            "INFO:torchbiggraph:Swapping partitioned embeddings None ( 0 , 0 )\n",
            "INFO:torchbiggraph:Loading partitioned embeddings from checkpoint\n",
            "INFO:torchbiggraph:( 0 , 0 ): Stats before training: loss:  262.675 , pos_rank:  480.083 , mrr:  0.0731034 , r1:  0.0426158 , r10:  0.132775 , r50:  0.222677 , auc:  0.765165 , count:  7814\n",
            "INFO:torchbiggraph:( 0 , 0 ): Training stats: loss:  2.02826 , reg:  0 , violators_lhs:  2.76416 , violators_rhs:  4.88552 , count:  148476\n",
            "INFO:torchbiggraph:( 0 , 0 ): Stats after training: loss:  261.296 , pos_rank:  477.889 , mrr:  0.0757444 , r1:  0.0456232 , r10:  0.13335 , r50:  0.221973 , auc:  0.769324 , count:  7814\n",
            "INFO:torchbiggraph:( 0 , 0 ): bucket 1 / 1 : Trained 148476 edges in 1.89 s ( 0.078 M/sec ); Eval 2*7814 edges in 0.57 s ( 0.028 M/sec ); io: 0.03 s for 25,707,824 bytes ( 833.21 MB/sec )\n",
            "INFO:torchbiggraph:Swapping partitioned embeddings ( 0 , 0 ) None\n",
            "INFO:torchbiggraph:Saving partitioned embeddings to checkpoint\n",
            "INFO:torchbiggraph:Finished epoch 4 / 30, edge path 1 / 1, edge chunk 1 / 1\n",
            "INFO:torchbiggraph:Writing the metadata\n",
            "INFO:torchbiggraph:Writing the training stats\n",
            "INFO:torchbiggraph:Writing the checkpoint\n",
            "INFO:torchbiggraph:Switching to the new checkpoint version\n",
            "INFO:torchbiggraph:Starting epoch 5 / 30, edge path 1 / 1, edge chunk 1 / 1\n",
            "INFO:torchbiggraph:Edge path: data/train_partitioned\n",
            "INFO:torchbiggraph:still in queue: 0\n",
            "INFO:torchbiggraph:Swapping partitioned embeddings None ( 0 , 0 )\n",
            "INFO:torchbiggraph:Loading partitioned embeddings from checkpoint\n",
            "INFO:torchbiggraph:( 0 , 0 ): Stats before training: loss:  261.383 , pos_rank:  478.628 , mrr:  0.0764747 , r1:  0.0474149 , r10:  0.133926 , r50:  0.221781 , auc:  0.763373 , count:  7814\n",
            "INFO:torchbiggraph:( 0 , 0 ): Training stats: loss:  1.94281 , reg:  0 , violators_lhs:  2.63373 , violators_rhs:  4.73108 , count:  148476\n",
            "INFO:torchbiggraph:( 0 , 0 ): Stats after training: loss:  260.713 , pos_rank:  477.28 , mrr:  0.0749025 , r1:  0.0445994 , r10:  0.135782 , r50:  0.222549 , auc:  0.769324 , count:  7814\n",
            "INFO:torchbiggraph:( 0 , 0 ): bucket 1 / 1 : Trained 148476 edges in 1.88 s ( 0.079 M/sec ); Eval 2*7814 edges in 0.56 s ( 0.028 M/sec ); io: 0.03 s for 25,707,824 bytes ( 827.31 MB/sec )\n",
            "INFO:torchbiggraph:Swapping partitioned embeddings ( 0 , 0 ) None\n",
            "INFO:torchbiggraph:Saving partitioned embeddings to checkpoint\n",
            "INFO:torchbiggraph:Finished epoch 5 / 30, edge path 1 / 1, edge chunk 1 / 1\n",
            "INFO:torchbiggraph:Writing the metadata\n",
            "INFO:torchbiggraph:Writing the training stats\n",
            "INFO:torchbiggraph:Writing the checkpoint\n",
            "INFO:torchbiggraph:Switching to the new checkpoint version\n",
            "INFO:torchbiggraph:Starting epoch 6 / 30, edge path 1 / 1, edge chunk 1 / 1\n",
            "INFO:torchbiggraph:Edge path: data/train_partitioned\n",
            "INFO:torchbiggraph:still in queue: 0\n",
            "INFO:torchbiggraph:Swapping partitioned embeddings None ( 0 , 0 )\n",
            "INFO:torchbiggraph:Loading partitioned embeddings from checkpoint\n",
            "INFO:torchbiggraph:( 0 , 0 ): Stats before training: loss:  260.377 , pos_rank:  476.763 , mrr:  0.0747598 , r1:  0.0440875 , r10:  0.135014 , r50:  0.223957 , auc:  0.771756 , count:  7814\n",
            "INFO:torchbiggraph:( 0 , 0 ): Training stats: loss:  1.88046 , reg:  0 , violators_lhs:  2.54282 , violators_rhs:  4.61656 , count:  148476\n",
            "INFO:torchbiggraph:( 0 , 0 ): Stats after training: loss:  260.546 , pos_rank:  477.127 , mrr:  0.0780842 , r1:  0.0475429 , r10:  0.137318 , r50:  0.224085 , auc:  0.767853 , count:  7814\n",
            "INFO:torchbiggraph:( 0 , 0 ): bucket 1 / 1 : Trained 148476 edges in 1.92 s ( 0.077 M/sec ); Eval 2*7814 edges in 0.58 s ( 0.027 M/sec ); io: 0.03 s for 25,707,824 bytes ( 795.41 MB/sec )\n",
            "INFO:torchbiggraph:Swapping partitioned embeddings ( 0 , 0 ) None\n",
            "INFO:torchbiggraph:Saving partitioned embeddings to checkpoint\n",
            "INFO:torchbiggraph:Finished epoch 6 / 30, edge path 1 / 1, edge chunk 1 / 1\n",
            "INFO:torchbiggraph:Writing the metadata\n",
            "INFO:torchbiggraph:Writing the training stats\n",
            "INFO:torchbiggraph:Writing the checkpoint\n",
            "INFO:torchbiggraph:Switching to the new checkpoint version\n",
            "INFO:torchbiggraph:Starting epoch 7 / 30, edge path 1 / 1, edge chunk 1 / 1\n",
            "INFO:torchbiggraph:Edge path: data/train_partitioned\n",
            "INFO:torchbiggraph:still in queue: 0\n",
            "INFO:torchbiggraph:Swapping partitioned embeddings None ( 0 , 0 )\n",
            "INFO:torchbiggraph:Loading partitioned embeddings from checkpoint\n",
            "INFO:torchbiggraph:( 0 , 0 ): Stats before training: loss:  260.287 , pos_rank:  477.014 , mrr:  0.0777755 , r1:  0.0473509 , r10:  0.136422 , r50:  0.223765 , auc:  0.761774 , count:  7814\n",
            "INFO:torchbiggraph:( 0 , 0 ): Training stats: loss:  1.83248 , reg:  0 , violators_lhs:  2.48157 , violators_rhs:  4.53099 , count:  148476\n",
            "INFO:torchbiggraph:( 0 , 0 ): Stats after training: loss:  260.308 , pos_rank:  477.113 , mrr:  0.0782073 , r1:  0.0476708 , r10:  0.137318 , r50:  0.224853 , auc:  0.77214 , count:  7814\n",
            "INFO:torchbiggraph:( 0 , 0 ): bucket 1 / 1 : Trained 148476 edges in 1.91 s ( 0.078 M/sec ); Eval 2*7814 edges in 0.60 s ( 0.026 M/sec ); io: 0.03 s for 25,707,824 bytes ( 776.36 MB/sec )\n",
            "INFO:torchbiggraph:Swapping partitioned embeddings ( 0 , 0 ) None\n",
            "INFO:torchbiggraph:Saving partitioned embeddings to checkpoint\n",
            "INFO:torchbiggraph:Finished epoch 7 / 30, edge path 1 / 1, edge chunk 1 / 1\n",
            "INFO:torchbiggraph:Writing the metadata\n",
            "INFO:torchbiggraph:Writing the training stats\n",
            "INFO:torchbiggraph:Writing the checkpoint\n",
            "INFO:torchbiggraph:Switching to the new checkpoint version\n",
            "INFO:torchbiggraph:Starting epoch 8 / 30, edge path 1 / 1, edge chunk 1 / 1\n",
            "INFO:torchbiggraph:Edge path: data/train_partitioned\n",
            "INFO:torchbiggraph:still in queue: 0\n",
            "INFO:torchbiggraph:Swapping partitioned embeddings None ( 0 , 0 )\n",
            "INFO:torchbiggraph:Loading partitioned embeddings from checkpoint\n",
            "INFO:torchbiggraph:( 0 , 0 ): Stats before training: loss:  260.069 , pos_rank:  476.879 , mrr:  0.0776858 , r1:  0.046903 , r10:  0.137638 , r50:  0.223893 , auc:  0.766445 , count:  7814\n",
            "INFO:torchbiggraph:( 0 , 0 ): Training stats: loss:  1.79289 , reg:  0 , violators_lhs:  2.42663 , violators_rhs:  4.46687 , count:  148476\n",
            "INFO:torchbiggraph:( 0 , 0 ): Stats after training: loss:  259.834 , pos_rank:  476.212 , mrr:  0.0765281 , r1:  0.0451753 , r10:  0.137254 , r50:  0.224149 , auc:  0.768684 , count:  7814\n",
            "INFO:torchbiggraph:( 0 , 0 ): bucket 1 / 1 : Trained 148476 edges in 1.91 s ( 0.078 M/sec ); Eval 2*7814 edges in 0.58 s ( 0.027 M/sec ); io: 0.03 s for 25,707,824 bytes ( 889.34 MB/sec )\n",
            "INFO:torchbiggraph:Swapping partitioned embeddings ( 0 , 0 ) None\n",
            "INFO:torchbiggraph:Saving partitioned embeddings to checkpoint\n",
            "INFO:torchbiggraph:Finished epoch 8 / 30, edge path 1 / 1, edge chunk 1 / 1\n",
            "INFO:torchbiggraph:Writing the metadata\n",
            "INFO:torchbiggraph:Writing the training stats\n",
            "INFO:torchbiggraph:Writing the checkpoint\n",
            "INFO:torchbiggraph:Switching to the new checkpoint version\n",
            "INFO:torchbiggraph:Starting epoch 9 / 30, edge path 1 / 1, edge chunk 1 / 1\n",
            "INFO:torchbiggraph:Edge path: data/train_partitioned\n",
            "INFO:torchbiggraph:still in queue: 0\n",
            "INFO:torchbiggraph:Swapping partitioned embeddings None ( 0 , 0 )\n",
            "INFO:torchbiggraph:Loading partitioned embeddings from checkpoint\n",
            "INFO:torchbiggraph:( 0 , 0 ): Stats before training: loss:  260.44 , pos_rank:  477.34 , mrr:  0.0770632 , r1:  0.0458152 , r10:  0.137894 , r50:  0.224149 , auc:  0.76894 , count:  7814\n",
            "INFO:torchbiggraph:( 0 , 0 ): Training stats: loss:  1.75864 , reg:  0 , violators_lhs:  2.38843 , violators_rhs:  4.40082 , count:  148476\n",
            "INFO:torchbiggraph:( 0 , 0 ): Stats after training: loss:  259.815 , pos_rank:  475.855 , mrr:  0.0797009 , r1:  0.0490146 , r10:  0.138853 , r50:  0.224981 , auc:  0.769964 , count:  7814\n",
            "INFO:torchbiggraph:( 0 , 0 ): bucket 1 / 1 : Trained 148476 edges in 1.91 s ( 0.078 M/sec ); Eval 2*7814 edges in 0.58 s ( 0.027 M/sec ); io: 0.03 s for 25,707,824 bytes ( 785.45 MB/sec )\n",
            "INFO:torchbiggraph:Swapping partitioned embeddings ( 0 , 0 ) None\n",
            "INFO:torchbiggraph:Saving partitioned embeddings to checkpoint\n",
            "INFO:torchbiggraph:Finished epoch 9 / 30, edge path 1 / 1, edge chunk 1 / 1\n",
            "INFO:torchbiggraph:Writing the metadata\n",
            "INFO:torchbiggraph:Writing the training stats\n",
            "INFO:torchbiggraph:Writing the checkpoint\n",
            "INFO:torchbiggraph:Switching to the new checkpoint version\n",
            "INFO:torchbiggraph:Starting epoch 10 / 30, edge path 1 / 1, edge chunk 1 / 1\n",
            "INFO:torchbiggraph:Edge path: data/train_partitioned\n",
            "INFO:torchbiggraph:still in queue: 0\n",
            "INFO:torchbiggraph:Swapping partitioned embeddings None ( 0 , 0 )\n",
            "INFO:torchbiggraph:Loading partitioned embeddings from checkpoint\n",
            "INFO:torchbiggraph:( 0 , 0 ): Stats before training: loss:  260.126 , pos_rank:  476.694 , mrr:  0.0800055 , r1:  0.0488866 , r10:  0.137894 , r50:  0.224341 , auc:  0.767405 , count:  7814\n",
            "INFO:torchbiggraph:( 0 , 0 ): Training stats: loss:  1.72368 , reg:  0 , violators_lhs:  2.34393 , violators_rhs:  4.35177 , count:  148476\n",
            "INFO:torchbiggraph:( 0 , 0 ): Stats after training: loss:  260 , pos_rank:  476.581 , mrr:  0.0791182 , r1:  0.0473509 , r10:  0.139493 , r50:  0.224405 , auc:  0.769132 , count:  7814\n",
            "INFO:torchbiggraph:( 0 , 0 ): bucket 1 / 1 : Trained 148476 edges in 1.83 s ( 0.081 M/sec ); Eval 2*7814 edges in 0.57 s ( 0.027 M/sec ); io: 0.04 s for 25,707,824 bytes ( 734.10 MB/sec )\n",
            "INFO:torchbiggraph:Swapping partitioned embeddings ( 0 , 0 ) None\n",
            "INFO:torchbiggraph:Saving partitioned embeddings to checkpoint\n",
            "INFO:torchbiggraph:Finished epoch 10 / 30, edge path 1 / 1, edge chunk 1 / 1\n",
            "INFO:torchbiggraph:Writing the metadata\n",
            "INFO:torchbiggraph:Writing the training stats\n",
            "INFO:torchbiggraph:Writing the checkpoint\n",
            "INFO:torchbiggraph:Switching to the new checkpoint version\n",
            "INFO:torchbiggraph:Starting epoch 11 / 30, edge path 1 / 1, edge chunk 1 / 1\n",
            "INFO:torchbiggraph:Edge path: data/train_partitioned\n",
            "INFO:torchbiggraph:still in queue: 0\n",
            "INFO:torchbiggraph:Swapping partitioned embeddings None ( 0 , 0 )\n",
            "INFO:torchbiggraph:Loading partitioned embeddings from checkpoint\n",
            "INFO:torchbiggraph:( 0 , 0 ): Stats before training: loss:  260.147 , pos_rank:  476.933 , mrr:  0.0798369 , r1:  0.0485027 , r10:  0.140261 , r50:  0.225621 , auc:  0.763949 , count:  7814\n",
            "INFO:torchbiggraph:( 0 , 0 ): Training stats: loss:  1.69749 , reg:  0 , violators_lhs:  2.31644 , violators_rhs:  4.2973 , count:  148476\n",
            "INFO:torchbiggraph:( 0 , 0 ): Stats after training: loss:  260.458 , pos_rank:  477.261 , mrr:  0.0811387 , r1:  0.0508062 , r10:  0.138021 , r50:  0.222997 , auc:  0.767469 , count:  7814\n",
            "INFO:torchbiggraph:( 0 , 0 ): bucket 1 / 1 : Trained 148476 edges in 2.00 s ( 0.074 M/sec ); Eval 2*7814 edges in 0.66 s ( 0.024 M/sec ); io: 0.03 s for 25,707,824 bytes ( 770.08 MB/sec )\n",
            "INFO:torchbiggraph:Swapping partitioned embeddings ( 0 , 0 ) None\n",
            "INFO:torchbiggraph:Saving partitioned embeddings to checkpoint\n",
            "INFO:torchbiggraph:Finished epoch 11 / 30, edge path 1 / 1, edge chunk 1 / 1\n",
            "INFO:torchbiggraph:Writing the metadata\n",
            "INFO:torchbiggraph:Writing the training stats\n",
            "INFO:torchbiggraph:Writing the checkpoint\n",
            "INFO:torchbiggraph:Switching to the new checkpoint version\n",
            "INFO:torchbiggraph:Starting epoch 12 / 30, edge path 1 / 1, edge chunk 1 / 1\n",
            "INFO:torchbiggraph:Edge path: data/train_partitioned\n",
            "INFO:torchbiggraph:still in queue: 0\n",
            "INFO:torchbiggraph:Swapping partitioned embeddings None ( 0 , 0 )\n",
            "INFO:torchbiggraph:Loading partitioned embeddings from checkpoint\n",
            "INFO:torchbiggraph:( 0 , 0 ): Stats before training: loss:  260.298 , pos_rank:  476.792 , mrr:  0.0803503 , r1:  0.0490146 , r10:  0.138597 , r50:  0.222933 , auc:  0.768748 , count:  7814\n",
            "INFO:torchbiggraph:( 0 , 0 ): Training stats: loss:  1.67464 , reg:  0 , violators_lhs:  2.29385 , violators_rhs:  4.28546 , count:  148476\n",
            "INFO:torchbiggraph:( 0 , 0 ): Stats after training: loss:  260.508 , pos_rank:  477.696 , mrr:  0.0801742 , r1:  0.0497824 , r10:  0.139493 , r50:  0.224917 , auc:  0.77086 , count:  7814\n",
            "INFO:torchbiggraph:( 0 , 0 ): bucket 1 / 1 : Trained 148476 edges in 1.90 s ( 0.078 M/sec ); Eval 2*7814 edges in 0.58 s ( 0.027 M/sec ); io: 0.03 s for 25,707,824 bytes ( 842.30 MB/sec )\n",
            "INFO:torchbiggraph:Swapping partitioned embeddings ( 0 , 0 ) None\n",
            "INFO:torchbiggraph:Saving partitioned embeddings to checkpoint\n",
            "INFO:torchbiggraph:Finished epoch 12 / 30, edge path 1 / 1, edge chunk 1 / 1\n",
            "INFO:torchbiggraph:Writing the metadata\n",
            "INFO:torchbiggraph:Writing the training stats\n",
            "INFO:torchbiggraph:Writing the checkpoint\n",
            "INFO:torchbiggraph:Switching to the new checkpoint version\n",
            "INFO:torchbiggraph:Starting epoch 13 / 30, edge path 1 / 1, edge chunk 1 / 1\n",
            "INFO:torchbiggraph:Edge path: data/train_partitioned\n",
            "INFO:torchbiggraph:still in queue: 0\n",
            "INFO:torchbiggraph:Swapping partitioned embeddings None ( 0 , 0 )\n",
            "INFO:torchbiggraph:Loading partitioned embeddings from checkpoint\n",
            "INFO:torchbiggraph:( 0 , 0 ): Stats before training: loss:  260.656 , pos_rank:  477.832 , mrr:  0.081005 , r1:  0.0506783 , r10:  0.140197 , r50:  0.224597 , auc:  0.767149 , count:  7814\n",
            "INFO:torchbiggraph:( 0 , 0 ): Training stats: loss:  1.65176 , reg:  0 , violators_lhs:  2.27081 , violators_rhs:  4.23883 , count:  148476\n",
            "INFO:torchbiggraph:( 0 , 0 ): Stats after training: loss:  260.852 , pos_rank:  478.057 , mrr:  0.0801215 , r1:  0.0490786 , r10:  0.141605 , r50:  0.224981 , auc:  0.764205 , count:  7814\n",
            "INFO:torchbiggraph:( 0 , 0 ): bucket 1 / 1 : Trained 148476 edges in 1.89 s ( 0.078 M/sec ); Eval 2*7814 edges in 0.60 s ( 0.026 M/sec ); io: 0.04 s for 25,707,824 bytes ( 705.11 MB/sec )\n",
            "INFO:torchbiggraph:Swapping partitioned embeddings ( 0 , 0 ) None\n",
            "INFO:torchbiggraph:Saving partitioned embeddings to checkpoint\n",
            "INFO:torchbiggraph:Finished epoch 13 / 30, edge path 1 / 1, edge chunk 1 / 1\n",
            "INFO:torchbiggraph:Writing the metadata\n",
            "INFO:torchbiggraph:Writing the training stats\n",
            "INFO:torchbiggraph:Writing the checkpoint\n",
            "INFO:torchbiggraph:Switching to the new checkpoint version\n",
            "INFO:torchbiggraph:Starting epoch 14 / 30, edge path 1 / 1, edge chunk 1 / 1\n",
            "INFO:torchbiggraph:Edge path: data/train_partitioned\n",
            "INFO:torchbiggraph:still in queue: 0\n",
            "INFO:torchbiggraph:Swapping partitioned embeddings None ( 0 , 0 )\n",
            "INFO:torchbiggraph:Loading partitioned embeddings from checkpoint\n",
            "INFO:torchbiggraph:( 0 , 0 ): Stats before training: loss:  260.861 , pos_rank:  478.016 , mrr:  0.08051 , r1:  0.0486307 , r10:  0.140581 , r50:  0.224853 , auc:  0.767341 , count:  7814\n",
            "INFO:torchbiggraph:( 0 , 0 ): Training stats: loss:  1.63121 , reg:  0 , violators_lhs:  2.25529 , violators_rhs:  4.2052 , count:  148476\n",
            "INFO:torchbiggraph:( 0 , 0 ): Stats after training: loss:  260.541 , pos_rank:  477.566 , mrr:  0.0797174 , r1:  0.0485027 , r10:  0.139941 , r50:  0.224341 , auc:  0.774123 , count:  7814\n",
            "INFO:torchbiggraph:( 0 , 0 ): bucket 1 / 1 : Trained 148476 edges in 1.91 s ( 0.078 M/sec ); Eval 2*7814 edges in 0.56 s ( 0.028 M/sec ); io: 0.03 s for 25,707,824 bytes ( 781.65 MB/sec )\n",
            "INFO:torchbiggraph:Swapping partitioned embeddings ( 0 , 0 ) None\n",
            "INFO:torchbiggraph:Saving partitioned embeddings to checkpoint\n",
            "INFO:torchbiggraph:Finished epoch 14 / 30, edge path 1 / 1, edge chunk 1 / 1\n",
            "INFO:torchbiggraph:Writing the metadata\n",
            "INFO:torchbiggraph:Writing the training stats\n",
            "INFO:torchbiggraph:Writing the checkpoint\n",
            "INFO:torchbiggraph:Switching to the new checkpoint version\n",
            "INFO:torchbiggraph:Starting epoch 15 / 30, edge path 1 / 1, edge chunk 1 / 1\n",
            "INFO:torchbiggraph:Edge path: data/train_partitioned\n",
            "INFO:torchbiggraph:still in queue: 0\n",
            "INFO:torchbiggraph:Swapping partitioned embeddings None ( 0 , 0 )\n",
            "INFO:torchbiggraph:Loading partitioned embeddings from checkpoint\n",
            "INFO:torchbiggraph:( 0 , 0 ): Stats before training: loss:  261.245 , pos_rank:  478.844 , mrr:  0.0800759 , r1:  0.0486947 , r10:  0.139749 , r50:  0.223509 , auc:  0.769324 , count:  7814\n",
            "INFO:torchbiggraph:( 0 , 0 ): Training stats: loss:  1.61363 , reg:  0 , violators_lhs:  2.23354 , violators_rhs:  4.18635 , count:  148476\n",
            "INFO:torchbiggraph:( 0 , 0 ): Stats after training: loss:  261.111 , pos_rank:  478.247 , mrr:  0.0810135 , r1:  0.0507423 , r10:  0.140325 , r50:  0.224661 , auc:  0.765677 , count:  7814\n",
            "INFO:torchbiggraph:( 0 , 0 ): bucket 1 / 1 : Trained 148476 edges in 1.88 s ( 0.079 M/sec ); Eval 2*7814 edges in 0.57 s ( 0.027 M/sec ); io: 0.03 s for 25,707,824 bytes ( 757.85 MB/sec )\n",
            "INFO:torchbiggraph:Swapping partitioned embeddings ( 0 , 0 ) None\n",
            "INFO:torchbiggraph:Saving partitioned embeddings to checkpoint\n",
            "INFO:torchbiggraph:Finished epoch 15 / 30, edge path 1 / 1, edge chunk 1 / 1\n",
            "INFO:torchbiggraph:Writing the metadata\n",
            "INFO:torchbiggraph:Writing the training stats\n",
            "INFO:torchbiggraph:Writing the checkpoint\n",
            "INFO:torchbiggraph:Switching to the new checkpoint version\n",
            "INFO:torchbiggraph:Starting epoch 16 / 30, edge path 1 / 1, edge chunk 1 / 1\n",
            "INFO:torchbiggraph:Edge path: data/train_partitioned\n",
            "INFO:torchbiggraph:still in queue: 0\n",
            "INFO:torchbiggraph:Swapping partitioned embeddings None ( 0 , 0 )\n",
            "INFO:torchbiggraph:Loading partitioned embeddings from checkpoint\n",
            "INFO:torchbiggraph:( 0 , 0 ): Stats before training: loss:  261.075 , pos_rank:  478.033 , mrr:  0.0810978 , r1:  0.0507423 , r10:  0.139109 , r50:  0.224981 , auc:  0.764013 , count:  7814\n",
            "INFO:torchbiggraph:( 0 , 0 ): Training stats: loss:  1.59468 , reg:  0 , violators_lhs:  2.22571 , violators_rhs:  4.14779 , count:  148476\n",
            "INFO:torchbiggraph:( 0 , 0 ): Stats after training: loss:  261.303 , pos_rank:  478.795 , mrr:  0.0808451 , r1:  0.0509982 , r10:  0.137446 , r50:  0.221845 , auc:  0.772652 , count:  7814\n",
            "INFO:torchbiggraph:( 0 , 0 ): bucket 1 / 1 : Trained 148476 edges in 1.89 s ( 0.079 M/sec ); Eval 2*7814 edges in 0.56 s ( 0.028 M/sec ); io: 0.03 s for 25,707,824 bytes ( 870.95 MB/sec )\n",
            "INFO:torchbiggraph:Swapping partitioned embeddings ( 0 , 0 ) None\n",
            "INFO:torchbiggraph:Saving partitioned embeddings to checkpoint\n",
            "INFO:torchbiggraph:Finished epoch 16 / 30, edge path 1 / 1, edge chunk 1 / 1\n",
            "INFO:torchbiggraph:Writing the metadata\n",
            "INFO:torchbiggraph:Writing the training stats\n",
            "INFO:torchbiggraph:Writing the checkpoint\n",
            "INFO:torchbiggraph:Switching to the new checkpoint version\n",
            "INFO:torchbiggraph:Starting epoch 17 / 30, edge path 1 / 1, edge chunk 1 / 1\n",
            "INFO:torchbiggraph:Edge path: data/train_partitioned\n",
            "INFO:torchbiggraph:still in queue: 0\n",
            "INFO:torchbiggraph:Swapping partitioned embeddings None ( 0 , 0 )\n",
            "INFO:torchbiggraph:Loading partitioned embeddings from checkpoint\n",
            "INFO:torchbiggraph:( 0 , 0 ): Stats before training: loss:  260.962 , pos_rank:  478.376 , mrr:  0.0803956 , r1:  0.0501664 , r10:  0.138853 , r50:  0.221845 , auc:  0.767085 , count:  7814\n",
            "INFO:torchbiggraph:( 0 , 0 ): Training stats: loss:  1.57913 , reg:  0 , violators_lhs:  2.21257 , violators_rhs:  4.12719 , count:  148476\n",
            "INFO:torchbiggraph:( 0 , 0 ): Stats after training: loss:  261.277 , pos_rank:  478.785 , mrr:  0.0802812 , r1:  0.0492705 , r10:  0.140069 , r50:  0.223573 , auc:  0.768045 , count:  7814\n",
            "INFO:torchbiggraph:( 0 , 0 ): bucket 1 / 1 : Trained 148476 edges in 1.92 s ( 0.077 M/sec ); Eval 2*7814 edges in 0.89 s ( 0.018 M/sec ); io: 0.04 s for 25,707,824 bytes ( 720.41 MB/sec )\n",
            "INFO:torchbiggraph:Swapping partitioned embeddings ( 0 , 0 ) None\n",
            "INFO:torchbiggraph:Saving partitioned embeddings to checkpoint\n",
            "INFO:torchbiggraph:Finished epoch 17 / 30, edge path 1 / 1, edge chunk 1 / 1\n",
            "INFO:torchbiggraph:Writing the metadata\n",
            "INFO:torchbiggraph:Writing the training stats\n",
            "INFO:torchbiggraph:Writing the checkpoint\n",
            "INFO:torchbiggraph:Switching to the new checkpoint version\n",
            "INFO:torchbiggraph:Starting epoch 18 / 30, edge path 1 / 1, edge chunk 1 / 1\n",
            "INFO:torchbiggraph:Edge path: data/train_partitioned\n",
            "INFO:torchbiggraph:still in queue: 0\n",
            "INFO:torchbiggraph:Swapping partitioned embeddings None ( 0 , 0 )\n",
            "INFO:torchbiggraph:Loading partitioned embeddings from checkpoint\n",
            "INFO:torchbiggraph:( 0 , 0 ): Stats before training: loss:  261.545 , pos_rank:  478.972 , mrr:  0.080268 , r1:  0.0495265 , r10:  0.138789 , r50:  0.223893 , auc:  0.767277 , count:  7814\n",
            "INFO:torchbiggraph:( 0 , 0 ): Training stats: loss:  1.56712 , reg:  0 , violators_lhs:  2.19842 , violators_rhs:  4.11869 , count:  148476\n",
            "INFO:torchbiggraph:( 0 , 0 ): Stats after training: loss:  261.689 , pos_rank:  478.681 , mrr:  0.0805546 , r1:  0.0499104 , r10:  0.140325 , r50:  0.223125 , auc:  0.766701 , count:  7814\n",
            "INFO:torchbiggraph:( 0 , 0 ): bucket 1 / 1 : Trained 148476 edges in 1.88 s ( 0.079 M/sec ); Eval 2*7814 edges in 0.60 s ( 0.026 M/sec ); io: 0.03 s for 25,707,824 bytes ( 779.97 MB/sec )\n",
            "INFO:torchbiggraph:Swapping partitioned embeddings ( 0 , 0 ) None\n",
            "INFO:torchbiggraph:Saving partitioned embeddings to checkpoint\n",
            "INFO:torchbiggraph:Finished epoch 18 / 30, edge path 1 / 1, edge chunk 1 / 1\n",
            "INFO:torchbiggraph:Writing the metadata\n",
            "INFO:torchbiggraph:Writing the training stats\n",
            "INFO:torchbiggraph:Writing the checkpoint\n",
            "INFO:torchbiggraph:Switching to the new checkpoint version\n",
            "INFO:torchbiggraph:Starting epoch 19 / 30, edge path 1 / 1, edge chunk 1 / 1\n",
            "INFO:torchbiggraph:Edge path: data/train_partitioned\n",
            "INFO:torchbiggraph:still in queue: 0\n",
            "INFO:torchbiggraph:Swapping partitioned embeddings None ( 0 , 0 )\n",
            "INFO:torchbiggraph:Loading partitioned embeddings from checkpoint\n",
            "INFO:torchbiggraph:( 0 , 0 ): Stats before training: loss:  261.735 , pos_rank:  479.231 , mrr:  0.0822631 , r1:  0.052022 , r10:  0.141093 , r50:  0.223445 , auc:  0.766701 , count:  7814\n",
            "INFO:torchbiggraph:( 0 , 0 ): Training stats: loss:  1.55285 , reg:  0 , violators_lhs:  2.19295 , violators_rhs:  4.09552 , count:  148476\n",
            "INFO:torchbiggraph:( 0 , 0 ): Stats after training: loss:  262.214 , pos_rank:  479.415 , mrr:  0.0821941 , r1:  0.0516381 , r10:  0.141029 , r50:  0.223189 , auc:  0.767277 , count:  7814\n",
            "INFO:torchbiggraph:( 0 , 0 ): bucket 1 / 1 : Trained 148476 edges in 1.92 s ( 0.077 M/sec ); Eval 2*7814 edges in 0.59 s ( 0.027 M/sec ); io: 0.03 s for 25,707,824 bytes ( 937.73 MB/sec )\n",
            "INFO:torchbiggraph:Swapping partitioned embeddings ( 0 , 0 ) None\n",
            "INFO:torchbiggraph:Saving partitioned embeddings to checkpoint\n",
            "INFO:torchbiggraph:Finished epoch 19 / 30, edge path 1 / 1, edge chunk 1 / 1\n",
            "INFO:torchbiggraph:Writing the metadata\n",
            "INFO:torchbiggraph:Writing the training stats\n",
            "INFO:torchbiggraph:Writing the checkpoint\n",
            "INFO:torchbiggraph:Switching to the new checkpoint version\n",
            "INFO:torchbiggraph:Starting epoch 20 / 30, edge path 1 / 1, edge chunk 1 / 1\n",
            "INFO:torchbiggraph:Edge path: data/train_partitioned\n",
            "INFO:torchbiggraph:still in queue: 0\n",
            "INFO:torchbiggraph:Swapping partitioned embeddings None ( 0 , 0 )\n",
            "INFO:torchbiggraph:Loading partitioned embeddings from checkpoint\n",
            "INFO:torchbiggraph:( 0 , 0 ): Stats before training: loss:  262.108 , pos_rank:  479.535 , mrr:  0.0825511 , r1:  0.0515741 , r10:  0.141413 , r50:  0.223125 , auc:  0.765229 , count:  7814\n",
            "INFO:torchbiggraph:( 0 , 0 ): Training stats: loss:  1.53734 , reg:  0 , violators_lhs:  2.17611 , violators_rhs:  4.06384 , count:  148476\n",
            "INFO:torchbiggraph:( 0 , 0 ): Stats after training: loss:  262.586 , pos_rank:  480.153 , mrr:  0.0822085 , r1:  0.0515101 , r10:  0.140453 , r50:  0.223957 , auc:  0.767149 , count:  7814\n",
            "INFO:torchbiggraph:( 0 , 0 ): bucket 1 / 1 : Trained 148476 edges in 2.29 s ( 0.065 M/sec ); Eval 2*7814 edges in 0.81 s ( 0.019 M/sec ); io: 0.03 s for 25,707,824 bytes ( 825.09 MB/sec )\n",
            "INFO:torchbiggraph:Swapping partitioned embeddings ( 0 , 0 ) None\n",
            "INFO:torchbiggraph:Saving partitioned embeddings to checkpoint\n",
            "INFO:torchbiggraph:Finished epoch 20 / 30, edge path 1 / 1, edge chunk 1 / 1\n",
            "INFO:torchbiggraph:Writing the metadata\n",
            "INFO:torchbiggraph:Writing the training stats\n",
            "INFO:torchbiggraph:Writing the checkpoint\n",
            "INFO:torchbiggraph:Switching to the new checkpoint version\n",
            "INFO:torchbiggraph:Starting epoch 21 / 30, edge path 1 / 1, edge chunk 1 / 1\n",
            "INFO:torchbiggraph:Edge path: data/train_partitioned\n",
            "INFO:torchbiggraph:still in queue: 0\n",
            "INFO:torchbiggraph:Swapping partitioned embeddings None ( 0 , 0 )\n",
            "INFO:torchbiggraph:Loading partitioned embeddings from checkpoint\n",
            "INFO:torchbiggraph:( 0 , 0 ): Stats before training: loss:  262.486 , pos_rank:  479.991 , mrr:  0.0824861 , r1:  0.051958 , r10:  0.140965 , r50:  0.224789 , auc:  0.771244 , count:  7814\n",
            "INFO:torchbiggraph:( 0 , 0 ): Training stats: loss:  1.52385 , reg:  0 , violators_lhs:  2.16894 , violators_rhs:  4.05263 , count:  148476\n",
            "INFO:torchbiggraph:( 0 , 0 ): Stats after training: loss:  262.251 , pos_rank:  479.329 , mrr:  0.0824122 , r1:  0.0513821 , r10:  0.141797 , r50:  0.225173 , auc:  0.767789 , count:  7814\n",
            "INFO:torchbiggraph:( 0 , 0 ): bucket 1 / 1 : Trained 148476 edges in 2.88 s ( 0.052 M/sec ); Eval 2*7814 edges in 0.75 s ( 0.021 M/sec ); io: 0.05 s for 25,707,824 bytes ( 513.73 MB/sec )\n",
            "INFO:torchbiggraph:Swapping partitioned embeddings ( 0 , 0 ) None\n",
            "INFO:torchbiggraph:Saving partitioned embeddings to checkpoint\n",
            "INFO:torchbiggraph:Finished epoch 21 / 30, edge path 1 / 1, edge chunk 1 / 1\n",
            "INFO:torchbiggraph:Writing the metadata\n",
            "INFO:torchbiggraph:Writing the training stats\n",
            "INFO:torchbiggraph:Writing the checkpoint\n",
            "INFO:torchbiggraph:Switching to the new checkpoint version\n",
            "INFO:torchbiggraph:Starting epoch 22 / 30, edge path 1 / 1, edge chunk 1 / 1\n",
            "INFO:torchbiggraph:Edge path: data/train_partitioned\n",
            "INFO:torchbiggraph:still in queue: 0\n",
            "INFO:torchbiggraph:Swapping partitioned embeddings None ( 0 , 0 )\n",
            "INFO:torchbiggraph:Loading partitioned embeddings from checkpoint\n",
            "INFO:torchbiggraph:( 0 , 0 ): Stats before training: loss:  262.418 , pos_rank:  479.069 , mrr:  0.0822363 , r1:  0.0513821 , r10:  0.141669 , r50:  0.225557 , auc:  0.77054 , count:  7814\n",
            "INFO:torchbiggraph:( 0 , 0 ): Training stats: loss:  1.51743 , reg:  0 , violators_lhs:  2.16338 , violators_rhs:  4.05234 , count:  148476\n",
            "INFO:torchbiggraph:( 0 , 0 ): Stats after training: loss:  262.8 , pos_rank:  480.86 , mrr:  0.0814575 , r1:  0.0512542 , r10:  0.137766 , r50:  0.220502 , auc:  0.769388 , count:  7814\n",
            "INFO:torchbiggraph:( 0 , 0 ): bucket 1 / 1 : Trained 148476 edges in 1.89 s ( 0.079 M/sec ); Eval 2*7814 edges in 0.58 s ( 0.027 M/sec ); io: 0.03 s for 25,707,824 bytes ( 874.06 MB/sec )\n",
            "INFO:torchbiggraph:Swapping partitioned embeddings ( 0 , 0 ) None\n",
            "INFO:torchbiggraph:Saving partitioned embeddings to checkpoint\n",
            "INFO:torchbiggraph:Finished epoch 22 / 30, edge path 1 / 1, edge chunk 1 / 1\n",
            "INFO:torchbiggraph:Writing the metadata\n",
            "INFO:torchbiggraph:Writing the training stats\n",
            "INFO:torchbiggraph:Writing the checkpoint\n",
            "INFO:torchbiggraph:Switching to the new checkpoint version\n",
            "INFO:torchbiggraph:Starting epoch 23 / 30, edge path 1 / 1, edge chunk 1 / 1\n",
            "INFO:torchbiggraph:Edge path: data/train_partitioned\n",
            "INFO:torchbiggraph:still in queue: 0\n",
            "INFO:torchbiggraph:Swapping partitioned embeddings None ( 0 , 0 )\n",
            "INFO:torchbiggraph:Loading partitioned embeddings from checkpoint\n",
            "INFO:torchbiggraph:( 0 , 0 ): Stats before training: loss:  262.57 , pos_rank:  480.732 , mrr:  0.0816365 , r1:  0.0516381 , r10:  0.138085 , r50:  0.221142 , auc:  0.767341 , count:  7814\n",
            "INFO:torchbiggraph:( 0 , 0 ): Training stats: loss:  1.50441 , reg:  0 , violators_lhs:  2.15588 , violators_rhs:  4.02814 , count:  148476\n",
            "INFO:torchbiggraph:( 0 , 0 ): Stats after training: loss:  262.511 , pos_rank:  480.421 , mrr:  0.0814556 , r1:  0.0511262 , r10:  0.140645 , r50:  0.222869 , auc:  0.763757 , count:  7814\n",
            "INFO:torchbiggraph:( 0 , 0 ): bucket 1 / 1 : Trained 148476 edges in 2.22 s ( 0.067 M/sec ); Eval 2*7814 edges in 0.57 s ( 0.027 M/sec ); io: 0.03 s for 25,707,824 bytes ( 776.10 MB/sec )\n",
            "INFO:torchbiggraph:Swapping partitioned embeddings ( 0 , 0 ) None\n",
            "INFO:torchbiggraph:Saving partitioned embeddings to checkpoint\n",
            "INFO:torchbiggraph:Finished epoch 23 / 30, edge path 1 / 1, edge chunk 1 / 1\n",
            "INFO:torchbiggraph:Writing the metadata\n",
            "INFO:torchbiggraph:Writing the training stats\n",
            "INFO:torchbiggraph:Writing the checkpoint\n",
            "INFO:torchbiggraph:Switching to the new checkpoint version\n",
            "INFO:torchbiggraph:Starting epoch 24 / 30, edge path 1 / 1, edge chunk 1 / 1\n",
            "INFO:torchbiggraph:Edge path: data/train_partitioned\n",
            "INFO:torchbiggraph:still in queue: 0\n",
            "INFO:torchbiggraph:Swapping partitioned embeddings None ( 0 , 0 )\n",
            "INFO:torchbiggraph:Loading partitioned embeddings from checkpoint\n",
            "INFO:torchbiggraph:( 0 , 0 ): Stats before training: loss:  262.93 , pos_rank:  480.702 , mrr:  0.0816405 , r1:  0.0509342 , r10:  0.140197 , r50:  0.222805 , auc:  0.756783 , count:  7814\n",
            "INFO:torchbiggraph:( 0 , 0 ): Training stats: loss:  1.49672 , reg:  0 , violators_lhs:  2.15013 , violators_rhs:  4.01769 , count:  148476\n",
            "INFO:torchbiggraph:( 0 , 0 ): Stats after training: loss:  263.592 , pos_rank:  481.162 , mrr:  0.0846223 , r1:  0.0542616 , r10:  0.14346 , r50:  0.225813 , auc:  0.767405 , count:  7814\n",
            "INFO:torchbiggraph:( 0 , 0 ): bucket 1 / 1 : Trained 148476 edges in 1.95 s ( 0.076 M/sec ); Eval 2*7814 edges in 0.71 s ( 0.022 M/sec ); io: 0.09 s for 25,707,824 bytes ( 286.20 MB/sec )\n",
            "INFO:torchbiggraph:Swapping partitioned embeddings ( 0 , 0 ) None\n",
            "INFO:torchbiggraph:Saving partitioned embeddings to checkpoint\n",
            "INFO:torchbiggraph:Finished epoch 24 / 30, edge path 1 / 1, edge chunk 1 / 1\n",
            "INFO:torchbiggraph:Writing the metadata\n",
            "INFO:torchbiggraph:Writing the training stats\n",
            "INFO:torchbiggraph:Writing the checkpoint\n",
            "INFO:torchbiggraph:Switching to the new checkpoint version\n",
            "INFO:torchbiggraph:Starting epoch 25 / 30, edge path 1 / 1, edge chunk 1 / 1\n",
            "INFO:torchbiggraph:Edge path: data/train_partitioned\n",
            "INFO:torchbiggraph:still in queue: 0\n",
            "INFO:torchbiggraph:Swapping partitioned embeddings None ( 0 , 0 )\n",
            "INFO:torchbiggraph:Loading partitioned embeddings from checkpoint\n",
            "INFO:torchbiggraph:( 0 , 0 ): Stats before training: loss:  263.491 , pos_rank:  480.693 , mrr:  0.085058 , r1:  0.0546455 , r10:  0.143396 , r50:  0.225173 , auc:  0.763885 , count:  7814\n",
            "INFO:torchbiggraph:( 0 , 0 ): Training stats: loss:  1.48915 , reg:  0 , violators_lhs:  2.14357 , violators_rhs:  4.01175 , count:  148476\n",
            "INFO:torchbiggraph:( 0 , 0 ): Stats after training: loss:  263.445 , pos_rank:  481.238 , mrr:  0.0826963 , r1:  0.0517661 , r10:  0.141797 , r50:  0.224213 , auc:  0.765165 , count:  7814\n",
            "INFO:torchbiggraph:( 0 , 0 ): bucket 1 / 1 : Trained 148476 edges in 1.83 s ( 0.081 M/sec ); Eval 2*7814 edges in 0.57 s ( 0.028 M/sec ); io: 0.03 s for 25,707,824 bytes ( 766.02 MB/sec )\n",
            "INFO:torchbiggraph:Swapping partitioned embeddings ( 0 , 0 ) None\n",
            "INFO:torchbiggraph:Saving partitioned embeddings to checkpoint\n",
            "INFO:torchbiggraph:Finished epoch 25 / 30, edge path 1 / 1, edge chunk 1 / 1\n",
            "INFO:torchbiggraph:Writing the metadata\n",
            "INFO:torchbiggraph:Writing the training stats\n",
            "INFO:torchbiggraph:Writing the checkpoint\n",
            "INFO:torchbiggraph:Switching to the new checkpoint version\n",
            "INFO:torchbiggraph:Starting epoch 26 / 30, edge path 1 / 1, edge chunk 1 / 1\n",
            "INFO:torchbiggraph:Edge path: data/train_partitioned\n",
            "INFO:torchbiggraph:still in queue: 0\n",
            "INFO:torchbiggraph:Swapping partitioned embeddings None ( 0 , 0 )\n",
            "INFO:torchbiggraph:Loading partitioned embeddings from checkpoint\n",
            "INFO:torchbiggraph:( 0 , 0 ): Stats before training: loss:  263.492 , pos_rank:  481.095 , mrr:  0.0816997 , r1:  0.0502943 , r10:  0.141733 , r50:  0.224853 , auc:  0.760878 , count:  7814\n",
            "INFO:torchbiggraph:( 0 , 0 ): Training stats: loss:  1.47848 , reg:  0 , violators_lhs:  2.133 , violators_rhs:  3.99714 , count:  148476\n",
            "INFO:torchbiggraph:( 0 , 0 ): Stats after training: loss:  263.518 , pos_rank:  480.771 , mrr:  0.081821 , r1:  0.0506143 , r10:  0.140389 , r50:  0.222997 , auc:  0.767917 , count:  7814\n",
            "INFO:torchbiggraph:( 0 , 0 ): bucket 1 / 1 : Trained 148476 edges in 1.83 s ( 0.081 M/sec ); Eval 2*7814 edges in 0.58 s ( 0.027 M/sec ); io: 0.03 s for 25,707,824 bytes ( 835.95 MB/sec )\n",
            "INFO:torchbiggraph:Swapping partitioned embeddings ( 0 , 0 ) None\n",
            "INFO:torchbiggraph:Saving partitioned embeddings to checkpoint\n",
            "INFO:torchbiggraph:Finished epoch 26 / 30, edge path 1 / 1, edge chunk 1 / 1\n",
            "INFO:torchbiggraph:Writing the metadata\n",
            "INFO:torchbiggraph:Writing the training stats\n",
            "INFO:torchbiggraph:Writing the checkpoint\n",
            "INFO:torchbiggraph:Switching to the new checkpoint version\n",
            "INFO:torchbiggraph:Starting epoch 27 / 30, edge path 1 / 1, edge chunk 1 / 1\n",
            "INFO:torchbiggraph:Edge path: data/train_partitioned\n",
            "INFO:torchbiggraph:still in queue: 0\n",
            "INFO:torchbiggraph:Swapping partitioned embeddings None ( 0 , 0 )\n",
            "INFO:torchbiggraph:Loading partitioned embeddings from checkpoint\n",
            "INFO:torchbiggraph:( 0 , 0 ): Stats before training: loss:  263.563 , pos_rank:  481.378 , mrr:  0.0821201 , r1:  0.0513181 , r10:  0.139685 , r50:  0.222933 , auc:  0.771436 , count:  7814\n",
            "INFO:torchbiggraph:( 0 , 0 ): Training stats: loss:  1.46899 , reg:  0 , violators_lhs:  2.12344 , violators_rhs:  3.97805 , count:  148476\n",
            "INFO:torchbiggraph:( 0 , 0 ): Stats after training: loss:  264.365 , pos_rank:  482.118 , mrr:  0.0846842 , r1:  0.0545815 , r10:  0.141925 , r50:  0.224085 , auc:  0.766445 , count:  7814\n",
            "INFO:torchbiggraph:( 0 , 0 ): bucket 1 / 1 : Trained 148476 edges in 1.81 s ( 0.082 M/sec ); Eval 2*7814 edges in 0.57 s ( 0.027 M/sec ); io: 0.03 s for 25,707,824 bytes ( 791.31 MB/sec )\n",
            "INFO:torchbiggraph:Swapping partitioned embeddings ( 0 , 0 ) None\n",
            "INFO:torchbiggraph:Saving partitioned embeddings to checkpoint\n",
            "INFO:torchbiggraph:Finished epoch 27 / 30, edge path 1 / 1, edge chunk 1 / 1\n",
            "INFO:torchbiggraph:Writing the metadata\n",
            "INFO:torchbiggraph:Writing the training stats\n",
            "INFO:torchbiggraph:Writing the checkpoint\n",
            "INFO:torchbiggraph:Switching to the new checkpoint version\n",
            "INFO:torchbiggraph:Starting epoch 28 / 30, edge path 1 / 1, edge chunk 1 / 1\n",
            "INFO:torchbiggraph:Edge path: data/train_partitioned\n",
            "INFO:torchbiggraph:still in queue: 0\n",
            "INFO:torchbiggraph:Swapping partitioned embeddings None ( 0 , 0 )\n",
            "INFO:torchbiggraph:Loading partitioned embeddings from checkpoint\n",
            "INFO:torchbiggraph:( 0 , 0 ): Stats before training: loss:  263.975 , pos_rank:  481.537 , mrr:  0.0842029 , r1:  0.0542616 , r10:  0.142501 , r50:  0.222485 , auc:  0.767405 , count:  7814\n",
            "INFO:torchbiggraph:( 0 , 0 ): Training stats: loss:  1.46179 , reg:  0 , violators_lhs:  2.12419 , violators_rhs:  3.96816 , count:  148476\n",
            "INFO:torchbiggraph:( 0 , 0 ): Stats after training: loss:  264.147 , pos_rank:  481.889 , mrr:  0.0831466 , r1:  0.052086 , r10:  0.14346 , r50:  0.224405 , auc:  0.763565 , count:  7814\n",
            "INFO:torchbiggraph:( 0 , 0 ): bucket 1 / 1 : Trained 148476 edges in 1.88 s ( 0.079 M/sec ); Eval 2*7814 edges in 0.59 s ( 0.027 M/sec ); io: 0.03 s for 25,707,824 bytes ( 738.24 MB/sec )\n",
            "INFO:torchbiggraph:Swapping partitioned embeddings ( 0 , 0 ) None\n",
            "INFO:torchbiggraph:Saving partitioned embeddings to checkpoint\n",
            "INFO:torchbiggraph:Finished epoch 28 / 30, edge path 1 / 1, edge chunk 1 / 1\n",
            "INFO:torchbiggraph:Writing the metadata\n",
            "INFO:torchbiggraph:Writing the training stats\n",
            "INFO:torchbiggraph:Writing the checkpoint\n",
            "INFO:torchbiggraph:Switching to the new checkpoint version\n",
            "INFO:torchbiggraph:Starting epoch 29 / 30, edge path 1 / 1, edge chunk 1 / 1\n",
            "INFO:torchbiggraph:Edge path: data/train_partitioned\n",
            "INFO:torchbiggraph:still in queue: 0\n",
            "INFO:torchbiggraph:Swapping partitioned embeddings None ( 0 , 0 )\n",
            "INFO:torchbiggraph:Loading partitioned embeddings from checkpoint\n",
            "INFO:torchbiggraph:( 0 , 0 ): Stats before training: loss:  264.382 , pos_rank:  482.28 , mrr:  0.0829235 , r1:  0.052214 , r10:  0.142501 , r50:  0.224277 , auc:  0.765037 , count:  7814\n",
            "INFO:torchbiggraph:( 0 , 0 ): Training stats: loss:  1.45524 , reg:  0 , violators_lhs:  2.11914 , violators_rhs:  3.96911 , count:  148476\n",
            "INFO:torchbiggraph:( 0 , 0 ): Stats after training: loss:  264.326 , pos_rank:  481.654 , mrr:  0.0837268 , r1:  0.0524699 , r10:  0.142053 , r50:  0.223381 , auc:  0.762926 , count:  7814\n",
            "INFO:torchbiggraph:( 0 , 0 ): bucket 1 / 1 : Trained 148476 edges in 1.75 s ( 0.085 M/sec ); Eval 2*7814 edges in 0.56 s ( 0.028 M/sec ); io: 0.03 s for 25,707,824 bytes ( 872.05 MB/sec )\n",
            "INFO:torchbiggraph:Swapping partitioned embeddings ( 0 , 0 ) None\n",
            "INFO:torchbiggraph:Saving partitioned embeddings to checkpoint\n",
            "INFO:torchbiggraph:Finished epoch 29 / 30, edge path 1 / 1, edge chunk 1 / 1\n",
            "INFO:torchbiggraph:Writing the metadata\n",
            "INFO:torchbiggraph:Writing the training stats\n",
            "INFO:torchbiggraph:Writing the checkpoint\n",
            "INFO:torchbiggraph:Switching to the new checkpoint version\n",
            "INFO:torchbiggraph:Starting epoch 30 / 30, edge path 1 / 1, edge chunk 1 / 1\n",
            "INFO:torchbiggraph:Edge path: data/train_partitioned\n",
            "INFO:torchbiggraph:still in queue: 0\n",
            "INFO:torchbiggraph:Swapping partitioned embeddings None ( 0 , 0 )\n",
            "INFO:torchbiggraph:Loading partitioned embeddings from checkpoint\n",
            "INFO:torchbiggraph:( 0 , 0 ): Stats before training: loss:  264.799 , pos_rank:  482.344 , mrr:  0.0837153 , r1:  0.0529818 , r10:  0.142373 , r50:  0.224469 , auc:  0.765037 , count:  7814\n",
            "INFO:torchbiggraph:( 0 , 0 ): Training stats: loss:  1.4484 , reg:  0 , violators_lhs:  2.1118 , violators_rhs:  3.96273 , count:  148476\n",
            "INFO:torchbiggraph:( 0 , 0 ): Stats after training: loss:  264.365 , pos_rank:  482.039 , mrr:  0.0841762 , r1:  0.0541976 , r10:  0.140197 , r50:  0.221781 , auc:  0.758958 , count:  7814\n",
            "INFO:torchbiggraph:( 0 , 0 ): bucket 1 / 1 : Trained 148476 edges in 1.89 s ( 0.078 M/sec ); Eval 2*7814 edges in 0.62 s ( 0.025 M/sec ); io: 0.03 s for 25,707,824 bytes ( 798.31 MB/sec )\n",
            "INFO:torchbiggraph:Swapping partitioned embeddings ( 0 , 0 ) None\n",
            "INFO:torchbiggraph:Saving partitioned embeddings to checkpoint\n",
            "INFO:torchbiggraph:Finished epoch 30 / 30, edge path 1 / 1, edge chunk 1 / 1\n",
            "INFO:torchbiggraph:Writing the metadata\n",
            "INFO:torchbiggraph:Writing the training stats\n",
            "INFO:torchbiggraph:Writing the checkpoint\n",
            "INFO:torchbiggraph:Switching to the new checkpoint version\n",
            "INFO:torchbiggraph:Exiting\n"
          ]
        }
      ]
    },
    {
      "cell_type": "code",
      "source": [
        "eval_config = attr.evolve(config, edge_paths=[output_test_path])\n",
        "do_eval(eval_config, subprocess_init=subprocess_init)"
      ],
      "metadata": {
        "colab": {
          "base_uri": "https://localhost:8080/"
        },
        "id": "YTI_xjLuFeVd",
        "outputId": "c49360fb-f7e4-4905-c8bc-ceebc382246c"
      },
      "execution_count": 19,
      "outputs": [
        {
          "output_type": "stream",
          "name": "stderr",
          "text": [
            "INFO:torchbiggraph:Starting edge path 1 / 1 (data/test_partitioned)\n",
            "INFO:torchbiggraph:( 0 , 0 ): Processed 39073 edges in 1.9 s (0.02M/sec); load time: 0.069 s\n",
            "INFO:torchbiggraph:Stats for edge path 1 / 1, bucket ( 0 , 0 ): loss:  14.1844 , pos_rank:  26.6417 , mrr:  0.21959 , r1:  0.133135 , r10:  0.406508 , r50:  0.801333 , auc:  0.755087 , count:  39073\n",
            "INFO:torchbiggraph:\n",
            "INFO:torchbiggraph:Stats for edge path 1 / 1: loss:  14.1844 , pos_rank:  26.6417 , mrr:  0.21959 , r1:  0.133135 , r10:  0.406508 , r50:  0.801333 , auc:  0.755087 , count:  39073\n",
            "INFO:torchbiggraph:\n",
            "INFO:torchbiggraph:\n",
            "INFO:torchbiggraph:Stats: loss:  14.1844 , pos_rank:  26.6417 , mrr:  0.21959 , r1:  0.133135 , r10:  0.406508 , r50:  0.801333 , auc:  0.755087 , count:  39073\n",
            "INFO:torchbiggraph:\n"
          ]
        }
      ]
    },
    {
      "cell_type": "markdown",
      "source": [
        "## Save embeddings"
      ],
      "metadata": {
        "id": "XdtRjULVLS8t"
      }
    },
    {
      "cell_type": "code",
      "source": [
        "!torchbiggraph_export_to_tsv \\\n",
        "    'PyTorch-BigGraph/torchbiggraph/examples/configs/politifact_config.py' \\\n",
        "    --entities-output entity_embeddings.tsv \\\n",
        "    --relation-types-output relation_types_parameters.tsv"
      ],
      "metadata": {
        "colab": {
          "base_uri": "https://localhost:8080/"
        },
        "id": "aaY3jLuWV6K4",
        "outputId": "9174004e-3df6-47b0-b05c-6e9fde788089"
      },
      "execution_count": null,
      "outputs": [
        {
          "output_type": "stream",
          "name": "stdout",
          "text": [
            "Loading relation types and entities...\n",
            "Initializing model...\n",
            "Loading model check point...\n",
            "Writing entity embeddings...\n",
            "Reading embeddings for entity type user partition 0 from checkpoint...\n",
            "Writing embeddings for entity type user partition 0 to output file...\n",
            "- Processed 5000/71759 entities so far...\n",
            "- Processed 10000/71759 entities so far...\n",
            "- Processed 15000/71759 entities so far...\n",
            "- Processed 20000/71759 entities so far...\n",
            "- Processed 25000/71759 entities so far...\n",
            "- Processed 30000/71759 entities so far...\n",
            "- Processed 35000/71759 entities so far...\n",
            "- Processed 40000/71759 entities so far...\n",
            "- Processed 45000/71759 entities so far...\n",
            "- Processed 50000/71759 entities so far...\n",
            "- Processed 55000/71759 entities so far...\n",
            "- Processed 60000/71759 entities so far...\n",
            "- Processed 65000/71759 entities so far...\n",
            "- Processed 70000/71759 entities so far...\n",
            "- Processed all 71759 entities\n",
            "Reading embeddings for entity type article partition 0 from checkpoint...\n",
            "Writing embeddings for entity type article partition 0 to output file...\n",
            "- Processed all 149 entities\n",
            "Done exporting entity data to entity_embeddings.tsv\n",
            "Writing relation type parameters...\n",
            "Done exporting relation type data to relation_types_parameters.tsv\n"
          ]
        }
      ]
    },
    {
      "cell_type": "markdown",
      "source": [
        "### Save article embeddings"
      ],
      "metadata": {
        "id": "uOr3ukfCQ8be"
      }
    },
    {
      "cell_type": "code",
      "source": [
        "import numpy as np\n",
        "\n",
        "from torchbiggraph.checkpoint_manager import CheckpointManager\n",
        "from torchbiggraph.config import ConfigFileLoader, ConfigSchema\n",
        "from torchbiggraph.graph_storages import (\n",
        "    AbstractEntityStorage,\n",
        "    AbstractRelationTypeStorage,\n",
        "    ENTITY_STORAGES,\n",
        "    RELATION_TYPE_STORAGES,\n",
        ")\n",
        "from torchbiggraph.model import make_model, MultiRelationEmbedder"
      ],
      "metadata": {
        "id": "Oy8omdmFGPle"
      },
      "execution_count": null,
      "outputs": []
    },
    {
      "cell_type": "code",
      "source": [
        "ent_t_name = 'article'"
      ],
      "metadata": {
        "id": "3rmdTpAILZaj"
      },
      "execution_count": null,
      "outputs": []
    },
    {
      "cell_type": "code",
      "source": [
        "entity_storage = ENTITY_STORAGES.make_instance(config.entity_path)\n",
        "relation_type_storage = RELATION_TYPE_STORAGES.make_instance(config.entity_path)\n",
        "\n",
        "print(\"Initializing model...\")\n",
        "model = make_model(config)\n",
        "\n",
        "print(\"Loading model check point...\")\n",
        "checkpoint_manager = CheckpointManager(config.checkpoint_path)\n",
        "state_dict, _ = checkpoint_manager.read_model()\n",
        "if state_dict is not None:\n",
        "    model.load_state_dict(state_dict, strict=False)"
      ],
      "metadata": {
        "colab": {
          "base_uri": "https://localhost:8080/"
        },
        "id": "0OlBL3RqISAk",
        "outputId": "a34d69cc-f647-4b9c-d13c-d2e1b4ed28bf"
      },
      "execution_count": null,
      "outputs": [
        {
          "output_type": "stream",
          "name": "stdout",
          "text": [
            "Initializing model...\n",
            "Loading model check point...\n"
          ]
        }
      ]
    },
    {
      "cell_type": "code",
      "source": [
        "ent_t_config = model.entities[ent_t_name]"
      ],
      "metadata": {
        "id": "AQz7ZblHI5Hy"
      },
      "execution_count": null,
      "outputs": []
    },
    {
      "cell_type": "code",
      "source": [
        "entities = []\n",
        "embeddings = []\n",
        "for partition in range(ent_t_config.num_partitions):\n",
        "    print(\n",
        "        f\"Reading embeddings for entity type {ent_t_name} partition \"\n",
        "        f\"{partition} from checkpoint...\"\n",
        "    )\n",
        "    entities.extend(entity_storage.load_names(ent_t_name, partition))\n",
        "    embeddings_, _ = checkpoint_manager.read(ent_t_name, partition)\n",
        "\n",
        "    if model.global_embs is not None:\n",
        "        embeddings_ += model.global_embs[model.EMB_PREFIX + ent_t_name]\n",
        "    embeddings.append(embeddings_)\n",
        "\n",
        "embeddings = np.concatenate(embeddings)"
      ],
      "metadata": {
        "colab": {
          "base_uri": "https://localhost:8080/"
        },
        "id": "jsjFJD8pIm9E",
        "outputId": "b2a04b5a-9ade-4293-e154-9e7decf41839"
      },
      "execution_count": null,
      "outputs": [
        {
          "output_type": "stream",
          "name": "stdout",
          "text": [
            "Reading embeddings for entity type article partition 0 from checkpoint...\n"
          ]
        }
      ]
    },
    {
      "cell_type": "code",
      "source": [
        "np.save(base_dir/f'{dataset_id}_pt_biggraph_article_idx_{dimension}.npy', np.array([int(e) for e in entities]))\n",
        "np.save(base_dir/f'{dataset_id}_pt_biggraph_article_embeddings_{dimension}.npy', embeddings)"
      ],
      "metadata": {
        "id": "gEHxv2O4MLyW"
      },
      "execution_count": null,
      "outputs": []
    },
    {
      "cell_type": "code",
      "source": [],
      "metadata": {
        "id": "ZSUvXc2xQBIj"
      },
      "execution_count": null,
      "outputs": []
    }
  ]
}