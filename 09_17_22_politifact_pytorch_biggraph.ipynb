{
  "nbformat": 4,
  "nbformat_minor": 0,
  "metadata": {
    "colab": {
      "provenance": [],
      "collapsed_sections": [],
      "include_colab_link": true
    },
    "kernelspec": {
      "name": "python3",
      "display_name": "Python 3"
    },
    "language_info": {
      "name": "python"
    },
    "accelerator": "GPU"
  },
  "cells": [
    {
      "cell_type": "markdown",
      "metadata": {
        "id": "view-in-github",
        "colab_type": "text"
      },
      "source": [
        "<a href=\"https://colab.research.google.com/github/verma-saloni/Thesis-Work/blob/main/09_17_22_politifact_pytorch_biggraph.ipynb\" target=\"_parent\"><img src=\"https://colab.research.google.com/assets/colab-badge.svg\" alt=\"Open In Colab\"/></a>"
      ]
    },
    {
      "cell_type": "code",
      "execution_count": 1,
      "metadata": {
        "id": "xpTeMbYZwmf7"
      },
      "outputs": [],
      "source": [
        "!pip -qq install jsonlines"
      ]
    },
    {
      "cell_type": "code",
      "source": [
        "#cloning Git library - my Pytorch library with the py config file"
      ],
      "metadata": {
        "id": "Vne7O50jOJRz"
      },
      "execution_count": 2,
      "outputs": []
    },
    {
      "cell_type": "code",
      "source": [
        "%cd PyTorch-BigGraph/\n",
        "!pip -qq install .\n",
        "%cd /content/"
      ],
      "metadata": {
        "id": "fKc3Ix04OThj",
        "colab": {
          "base_uri": "https://localhost:8080/"
        },
        "outputId": "d7012e8e-2959-4b35-97a4-cfa2ba7a5e8f"
      },
      "execution_count": 3,
      "outputs": [
        {
          "output_type": "stream",
          "name": "stdout",
          "text": [
            "/content/PyTorch-BigGraph\n",
            "\u001b[33m  DEPRECATION: A future pip version will change local packages to be built in-place without first copying to a temporary directory. We recommend you use --use-feature=in-tree-build to test your packages with this new behavior before it becomes the default.\n",
            "   pip 21.3 will remove support for this functionality. You can find discussion regarding this at https://github.com/pypa/pip/issues/7555.\u001b[0m\n",
            "  Building wheel for torchbiggraph (setup.py) ... \u001b[?25l\u001b[?25hdone\n",
            "/content\n"
          ]
        }
      ]
    },
    {
      "cell_type": "code",
      "source": [
        "from google.colab import drive\n",
        "drive.mount('/gdrive')\n",
        "\n",
        "from pathlib import Path\n",
        "base_dir = Path(\"/gdrive/MyDrive/ResearchFND\")\n",
        "assert base_dir.exists()"
      ],
      "metadata": {
        "colab": {
          "base_uri": "https://localhost:8080/"
        },
        "id": "UxNEaltli8H_",
        "outputId": "9d649222-1fb7-4bac-de6f-d22619e830a1"
      },
      "execution_count": 4,
      "outputs": [
        {
          "output_type": "stream",
          "name": "stdout",
          "text": [
            "Mounted at /gdrive\n"
          ]
        }
      ]
    },
    {
      "cell_type": "code",
      "source": [
        "(base_dir/'politifact_edges.txt').exists()"
      ],
      "metadata": {
        "colab": {
          "base_uri": "https://localhost:8080/"
        },
        "id": "l39QT3APPL_v",
        "outputId": "620da636-712e-4a60-8f22-d3d127b3e7ef"
      },
      "execution_count": 5,
      "outputs": [
        {
          "output_type": "execute_result",
          "data": {
            "text/plain": [
              "True"
            ]
          },
          "metadata": {},
          "execution_count": 5
        }
      ]
    },
    {
      "cell_type": "markdown",
      "source": [
        "## Data prep\n",
        "\n",
        "> THIS STEP CAN BE SKIPPED IF `politifact_edges.txt` exists"
      ],
      "metadata": {
        "id": "NHdG78wwVumY"
      }
    },
    {
      "cell_type": "code",
      "source": [
        "import pandas as pd\n",
        "import ast"
      ],
      "metadata": {
        "id": "7tPiW_FBWO8s"
      },
      "execution_count": null,
      "outputs": []
    },
    {
      "cell_type": "code",
      "source": [
        "df = pd.read_csv(base_dir/'politifact_agg.csv', index_col=0)\n",
        "df.head(2)"
      ],
      "metadata": {
        "colab": {
          "base_uri": "https://localhost:8080/",
          "height": 166
        },
        "id": "0BsiweMKV3Kt",
        "outputId": "98788634-7173-4c6f-b59e-3bc907dcf01c"
      },
      "execution_count": null,
      "outputs": [
        {
          "output_type": "execute_result",
          "data": {
            "text/plain": [
              "                                               title text tweets  \\\n",
              "0   Actress Emma Stone ‘For the first time in his...  NaN     []   \n",
              "1   Breaking President Trump makes English the of...  NaN     []   \n",
              "\n",
              "                                            retweets label  url tweet_ids  \\\n",
              "0  ['1020554564334964741', '1020817527046197248',...  fake  NaN        []   \n",
              "1                                                 []  fake  NaN        []   \n",
              "\n",
              "   num_retweets  log_num_retweets  num_tweets  log_num_tweets  \n",
              "0          2911          7.976595           0             0.0  \n",
              "1             0          0.000000           0             0.0  "
            ],
            "text/html": [
              "\n",
              "  <div id=\"df-fd641558-9248-4b9c-9b5c-01fb3689e44e\">\n",
              "    <div class=\"colab-df-container\">\n",
              "      <div>\n",
              "<style scoped>\n",
              "    .dataframe tbody tr th:only-of-type {\n",
              "        vertical-align: middle;\n",
              "    }\n",
              "\n",
              "    .dataframe tbody tr th {\n",
              "        vertical-align: top;\n",
              "    }\n",
              "\n",
              "    .dataframe thead th {\n",
              "        text-align: right;\n",
              "    }\n",
              "</style>\n",
              "<table border=\"1\" class=\"dataframe\">\n",
              "  <thead>\n",
              "    <tr style=\"text-align: right;\">\n",
              "      <th></th>\n",
              "      <th>title</th>\n",
              "      <th>text</th>\n",
              "      <th>tweets</th>\n",
              "      <th>retweets</th>\n",
              "      <th>label</th>\n",
              "      <th>url</th>\n",
              "      <th>tweet_ids</th>\n",
              "      <th>num_retweets</th>\n",
              "      <th>log_num_retweets</th>\n",
              "      <th>num_tweets</th>\n",
              "      <th>log_num_tweets</th>\n",
              "    </tr>\n",
              "  </thead>\n",
              "  <tbody>\n",
              "    <tr>\n",
              "      <th>0</th>\n",
              "      <td>Actress Emma Stone ‘For the first time in his...</td>\n",
              "      <td>NaN</td>\n",
              "      <td>[]</td>\n",
              "      <td>['1020554564334964741', '1020817527046197248',...</td>\n",
              "      <td>fake</td>\n",
              "      <td>NaN</td>\n",
              "      <td>[]</td>\n",
              "      <td>2911</td>\n",
              "      <td>7.976595</td>\n",
              "      <td>0</td>\n",
              "      <td>0.0</td>\n",
              "    </tr>\n",
              "    <tr>\n",
              "      <th>1</th>\n",
              "      <td>Breaking President Trump makes English the of...</td>\n",
              "      <td>NaN</td>\n",
              "      <td>[]</td>\n",
              "      <td>[]</td>\n",
              "      <td>fake</td>\n",
              "      <td>NaN</td>\n",
              "      <td>[]</td>\n",
              "      <td>0</td>\n",
              "      <td>0.000000</td>\n",
              "      <td>0</td>\n",
              "      <td>0.0</td>\n",
              "    </tr>\n",
              "  </tbody>\n",
              "</table>\n",
              "</div>\n",
              "      <button class=\"colab-df-convert\" onclick=\"convertToInteractive('df-fd641558-9248-4b9c-9b5c-01fb3689e44e')\"\n",
              "              title=\"Convert this dataframe to an interactive table.\"\n",
              "              style=\"display:none;\">\n",
              "        \n",
              "  <svg xmlns=\"http://www.w3.org/2000/svg\" height=\"24px\"viewBox=\"0 0 24 24\"\n",
              "       width=\"24px\">\n",
              "    <path d=\"M0 0h24v24H0V0z\" fill=\"none\"/>\n",
              "    <path d=\"M18.56 5.44l.94 2.06.94-2.06 2.06-.94-2.06-.94-.94-2.06-.94 2.06-2.06.94zm-11 1L8.5 8.5l.94-2.06 2.06-.94-2.06-.94L8.5 2.5l-.94 2.06-2.06.94zm10 10l.94 2.06.94-2.06 2.06-.94-2.06-.94-.94-2.06-.94 2.06-2.06.94z\"/><path d=\"M17.41 7.96l-1.37-1.37c-.4-.4-.92-.59-1.43-.59-.52 0-1.04.2-1.43.59L10.3 9.45l-7.72 7.72c-.78.78-.78 2.05 0 2.83L4 21.41c.39.39.9.59 1.41.59.51 0 1.02-.2 1.41-.59l7.78-7.78 2.81-2.81c.8-.78.8-2.07 0-2.86zM5.41 20L4 18.59l7.72-7.72 1.47 1.35L5.41 20z\"/>\n",
              "  </svg>\n",
              "      </button>\n",
              "      \n",
              "  <style>\n",
              "    .colab-df-container {\n",
              "      display:flex;\n",
              "      flex-wrap:wrap;\n",
              "      gap: 12px;\n",
              "    }\n",
              "\n",
              "    .colab-df-convert {\n",
              "      background-color: #E8F0FE;\n",
              "      border: none;\n",
              "      border-radius: 50%;\n",
              "      cursor: pointer;\n",
              "      display: none;\n",
              "      fill: #1967D2;\n",
              "      height: 32px;\n",
              "      padding: 0 0 0 0;\n",
              "      width: 32px;\n",
              "    }\n",
              "\n",
              "    .colab-df-convert:hover {\n",
              "      background-color: #E2EBFA;\n",
              "      box-shadow: 0px 1px 2px rgba(60, 64, 67, 0.3), 0px 1px 3px 1px rgba(60, 64, 67, 0.15);\n",
              "      fill: #174EA6;\n",
              "    }\n",
              "\n",
              "    [theme=dark] .colab-df-convert {\n",
              "      background-color: #3B4455;\n",
              "      fill: #D2E3FC;\n",
              "    }\n",
              "\n",
              "    [theme=dark] .colab-df-convert:hover {\n",
              "      background-color: #434B5C;\n",
              "      box-shadow: 0px 1px 3px 1px rgba(0, 0, 0, 0.15);\n",
              "      filter: drop-shadow(0px 1px 2px rgba(0, 0, 0, 0.3));\n",
              "      fill: #FFFFFF;\n",
              "    }\n",
              "  </style>\n",
              "\n",
              "      <script>\n",
              "        const buttonEl =\n",
              "          document.querySelector('#df-fd641558-9248-4b9c-9b5c-01fb3689e44e button.colab-df-convert');\n",
              "        buttonEl.style.display =\n",
              "          google.colab.kernel.accessAllowed ? 'block' : 'none';\n",
              "\n",
              "        async function convertToInteractive(key) {\n",
              "          const element = document.querySelector('#df-fd641558-9248-4b9c-9b5c-01fb3689e44e');\n",
              "          const dataTable =\n",
              "            await google.colab.kernel.invokeFunction('convertToInteractive',\n",
              "                                                     [key], {});\n",
              "          if (!dataTable) return;\n",
              "\n",
              "          const docLinkHtml = 'Like what you see? Visit the ' +\n",
              "            '<a target=\"_blank\" href=https://colab.research.google.com/notebooks/data_table.ipynb>data table notebook</a>'\n",
              "            + ' to learn more about interactive tables.';\n",
              "          element.innerHTML = '';\n",
              "          dataTable['output_type'] = 'display_data';\n",
              "          await google.colab.output.renderOutput(dataTable, element);\n",
              "          const docLink = document.createElement('div');\n",
              "          docLink.innerHTML = docLinkHtml;\n",
              "          element.appendChild(docLink);\n",
              "        }\n",
              "      </script>\n",
              "    </div>\n",
              "  </div>\n",
              "  "
            ]
          },
          "metadata": {},
          "execution_count": 6
        }
      ]
    },
    {
      "cell_type": "code",
      "source": [
        "df['tweets'] = df.tweets.map(ast.literal_eval)"
      ],
      "metadata": {
        "id": "cruZFCpNWRLb"
      },
      "execution_count": null,
      "outputs": []
    },
    {
      "cell_type": "code",
      "source": [
        "users_tweeted = df.tweets.map(lambda x: [int(e['user_id']) for e in x])"
      ],
      "metadata": {
        "id": "wH5i98HOWz1w"
      },
      "execution_count": null,
      "outputs": []
    },
    {
      "cell_type": "code",
      "source": [
        "len(users_tweeted), sum(users_tweeted.map(len) > 0)"
      ],
      "metadata": {
        "colab": {
          "base_uri": "https://localhost:8080/"
        },
        "id": "exnDy-5ud_uJ",
        "outputId": "61d30ca6-e1ae-49a4-d7b0-c8247c3cb9ff"
      },
      "execution_count": null,
      "outputs": [
        {
          "output_type": "execute_result",
          "data": {
            "text/plain": [
              "(894, 149)"
            ]
          },
          "metadata": {},
          "execution_count": 9
        }
      ]
    },
    {
      "cell_type": "code",
      "source": [
        "import os\n",
        "import jsonlines\n",
        "import numpy as np\n",
        "import torch\n",
        "\n",
        "import IPython.display as ipd"
      ],
      "metadata": {
        "id": "yp52MLR1mdxA"
      },
      "execution_count": null,
      "outputs": []
    },
    {
      "cell_type": "code",
      "source": [
        "follow_src = []\n",
        "follow_dst = []\n",
        "with jsonlines.open(base_dir/\"followers.jsonl\") as reader:\n",
        "    for line in reader:\n",
        "        v = line[\"user_id\"]\n",
        "        for u in line[\"followers\"]:\n",
        "            follow_src.append(u)\n",
        "            follow_dst.append(v)"
      ],
      "metadata": {
        "id": "h3XOCaEwoMvx"
      },
      "execution_count": null,
      "outputs": []
    },
    {
      "cell_type": "code",
      "source": [
        "with jsonlines.open(base_dir/\"following.jsonl\") as reader:\n",
        "    for line in reader:\n",
        "        u = line[\"user_id\"]\n",
        "        for v in line[\"following\"]:\n",
        "            follow_src.append(u)\n",
        "            follow_dst.append(v)"
      ],
      "metadata": {
        "id": "sWJFoJ_4oMvz"
      },
      "execution_count": null,
      "outputs": []
    },
    {
      "cell_type": "code",
      "source": [
        "tweet_src = []\n",
        "tweet_dst = []\n",
        "\n",
        "for v, l in users_tweeted.iteritems():\n",
        "    if not len(l):\n",
        "        continue\n",
        "    for u in l:\n",
        "        tweet_src.append(u)\n",
        "        tweet_dst.append(v)"
      ],
      "metadata": {
        "id": "DWM9MEXDpiyX"
      },
      "execution_count": null,
      "outputs": []
    },
    {
      "cell_type": "code",
      "source": [
        "with open('edges.txt', 'w') as f:\n",
        "    for src, dst in zip(follow_src, follow_dst):\n",
        "        f.write(f\"{src}\\t{dst}\\tfollows\\n\")\n",
        "    for src, dst in zip(tweet_src, tweet_dst):\n",
        "        f.write(f\"{src}\\t{dst}\\ttwitted\\n\")"
      ],
      "metadata": {
        "id": "OkIxZJL5UuD0"
      },
      "execution_count": null,
      "outputs": []
    },
    {
      "cell_type": "code",
      "source": [
        "!head -n 5 edges.txt"
      ],
      "metadata": {
        "colab": {
          "base_uri": "https://localhost:8080/"
        },
        "id": "QHqWee-K9jDA",
        "outputId": "361227c0-7b21-45c7-fd1c-406c6c61f5c6"
      },
      "execution_count": null,
      "outputs": [
        {
          "output_type": "stream",
          "name": "stdout",
          "text": [
            "983553159057498114\t961251714857828357\tfollows\n",
            "988529911873921024\t961251714857828357\tfollows\n",
            "961635897929359360\t961251714857828357\tfollows\n",
            "159717173\t961251714857828357\tfollows\n",
            "4737344780\t961251714857828357\tfollows\n"
          ]
        }
      ]
    },
    {
      "cell_type": "code",
      "source": [
        "!cp edges.txt $base_dir/"
      ],
      "metadata": {
        "id": "wF1RCfArK1bW"
      },
      "execution_count": null,
      "outputs": []
    },
    {
      "cell_type": "markdown",
      "source": [
        "## Training"
      ],
      "metadata": {
        "id": "A9DZtJEvKUrH"
      }
    },
    {
      "cell_type": "code",
      "source": [
        "import random\n",
        "from pathlib import Path\n",
        "\n",
        "import attr\n",
        "import pkg_resources\n",
        "from torchbiggraph.config import add_to_sys_path, ConfigFileLoader\n",
        "from torchbiggraph.converters.importers import convert_input_data, TSVEdgelistReader\n",
        "from torchbiggraph.converters.utils import download_url, extract_gzip, extract_tar\n",
        "from torchbiggraph.eval import do_eval\n",
        "from torchbiggraph.train import train\n",
        "from torchbiggraph.util import (\n",
        "    set_logging_verbosity,\n",
        "    setup_logging,\n",
        "    SubprocessInitializer,\n",
        ")"
      ],
      "metadata": {
        "id": "2AfA9wOUQFzE"
      },
      "execution_count": 6,
      "outputs": []
    },
    {
      "cell_type": "code",
      "source": [
        "data_dir = Path('./data')\n",
        "data_dir.mkdir(parents=True, exist_ok=True)\n",
        "fpath = base_dir/'politifact_edges.txt'"
      ],
      "metadata": {
        "id": "EhJ-IR1D2_Qx"
      },
      "execution_count": 7,
      "outputs": []
    },
    {
      "cell_type": "code",
      "source": [
        "import random\n",
        "\n",
        "def split_edges(input_file, pct=0.8, train_file='data/train_edges.txt', valid_file='data/valid_edges.txt'):\n",
        "\n",
        "    with open(input_file) as f:\n",
        "        lines = f.readlines()\n",
        "\n",
        "    follow_edges, tweet_edges = [], []\n",
        "    for line in lines:\n",
        "        if line.strip().endswith('follows'):\n",
        "            follow_edges.append(line)\n",
        "        else:\n",
        "            tweet_edges.append(line)\n",
        "\n",
        "    random.shuffle(follow_edges)\n",
        "    random.shuffle(tweet_edges)\n",
        "    follow_split, tweet_split = int(pct*len(follow_edges)), int(pct*len(tweet_edges))\n",
        "    train_edges = follow_edges[:follow_split] + tweet_edges[:tweet_split]\n",
        "    valid_edges = follow_edges[follow_split:] + tweet_edges[tweet_split:]\n",
        "\n",
        "    with open(train_file, 'w') as f:\n",
        "        f.writelines(train_edges)\n",
        "\n",
        "    with open(valid_file, 'w') as f:\n",
        "        f.writelines(valid_edges)"
      ],
      "metadata": {
        "id": "6IufRqmI_3yy"
      },
      "execution_count": 8,
      "outputs": []
    },
    {
      "cell_type": "code",
      "source": [
        "split_edges(fpath)"
      ],
      "metadata": {
        "id": "m8CRfFnyAPob"
      },
      "execution_count": 9,
      "outputs": []
    },
    {
      "cell_type": "code",
      "source": [
        "dimension = 32\n",
        "\n",
        "loader = ConfigFileLoader()\n",
        "config = loader.load_config('PyTorch-BigGraph/torchbiggraph/examples/configs/politifact_config.py', [[f'dimension={dimension}']])\n",
        "set_logging_verbosity(0)\n",
        "subprocess_init = SubprocessInitializer()\n",
        "subprocess_init.register(setup_logging, 0)\n",
        "subprocess_init.register(add_to_sys_path, loader.config_dir.name)\n",
        "input_edge_paths = [data_dir/'train_edges.txt', data_dir/'valid_edges.txt']\n",
        "output_train_path, output_test_path = config.edge_paths"
      ],
      "metadata": {
        "id": "arg_IAqn9SPt"
      },
      "execution_count": 10,
      "outputs": []
    },
    {
      "cell_type": "code",
      "source": [
        "convert_input_data(\n",
        "    config.entities,\n",
        "    config.relations,\n",
        "    config.entity_path,\n",
        "    config.edge_paths,\n",
        "    input_edge_paths,\n",
        "    TSVEdgelistReader(lhs_col=0, rhs_col=1, rel_col=2),\n",
        "    dynamic_relations=config.dynamic_relations,\n",
        ")"
      ],
      "metadata": {
        "colab": {
          "base_uri": "https://localhost:8080/"
        },
        "id": "oTXJLODH-RQx",
        "outputId": "6bde66d1-97b9-4acd-c6fb-d24d7f330de7"
      },
      "execution_count": 11,
      "outputs": [
        {
          "output_type": "stream",
          "name": "stdout",
          "text": [
            "[2022-09-17 06:42:33.018585] Using the 2 relation types given in the config\n",
            "[2022-09-17 06:42:33.021267] Searching for the entities in the edge files...\n",
            "[2022-09-17 06:42:33.269415] Entity type user:\n",
            "[2022-09-17 06:42:33.270967] - Found 71759 entities\n",
            "[2022-09-17 06:42:33.274496] - Removing the ones with fewer than 1 occurrences...\n",
            "[2022-09-17 06:42:33.297779] - Left with 71759 entities\n",
            "[2022-09-17 06:42:33.299612] - Shuffling them...\n",
            "[2022-09-17 06:42:33.373282] Entity type article:\n",
            "[2022-09-17 06:42:33.374233] - Found 149 entities\n",
            "[2022-09-17 06:42:33.375512] - Removing the ones with fewer than 1 occurrences...\n",
            "[2022-09-17 06:42:33.377283] - Left with 149 entities\n",
            "[2022-09-17 06:42:33.379404] - Shuffling them...\n",
            "[2022-09-17 06:42:33.384053] Preparing counts and dictionaries for entities and relation types:\n",
            "[2022-09-17 06:42:33.387650] - Writing count of entity type user and partition 0\n",
            "[2022-09-17 06:42:33.444714] - Writing count of entity type article and partition 0\n",
            "[2022-09-17 06:42:33.450850] Preparing edge path data/train_partitioned, out of the edges found in data/train_edges.txt\n",
            "[2022-09-17 06:42:33.452120] - Edges will be partitioned in 1 x 1 buckets.\n",
            "[2022-09-17 06:42:35.266519] - Processed 89098 edges in total\n",
            "[2022-09-17 06:42:35.270422] Preparing edge path data/test_partitioned, out of the edges found in data/valid_edges.txt\n",
            "[2022-09-17 06:42:35.273413] - Edges will be partitioned in 1 x 1 buckets.\n",
            "[2022-09-17 06:42:35.731501] - Processed 22275 edges in total\n"
          ]
        }
      ]
    },
    {
      "cell_type": "code",
      "source": [
        "train_config = attr.evolve(config, edge_paths=[output_train_path])\n",
        "train(train_config, subprocess_init=subprocess_init)"
      ],
      "metadata": {
        "colab": {
          "base_uri": "https://localhost:8080/"
        },
        "id": "xMLAogkkFQKW",
        "outputId": "e1816af2-6011-4a37-92f3-e67ed0455502"
      },
      "execution_count": 12,
      "outputs": [
        {
          "output_type": "stream",
          "name": "stderr",
          "text": [
            "INFO:torchbiggraph:Loading entity counts...\n",
            "INFO:torchbiggraph:Creating workers...\n",
            "INFO:torchbiggraph:Initializing global model...\n",
            "INFO:torchbiggraph:Starting epoch 1 / 30, edge path 1 / 1, edge chunk 1 / 1\n",
            "INFO:torchbiggraph:Edge path: data/train_partitioned\n",
            "INFO:torchbiggraph:still in queue: 0\n",
            "INFO:torchbiggraph:Swapping partitioned embeddings None ( 0 , 0 )\n",
            "INFO:torchbiggraph:Loading partitioned embeddings from checkpoint\n",
            "INFO:torchbiggraph:( 0 , 0 ): Stats before training: loss:  627.452 , pos_rank:  968.06 , mrr:  0.0034974 , r1:  0.000673552 , r10:  0.00269421 , r50:  0.0154917 , auc:  0.496632 , count:  4454\n",
            "INFO:torchbiggraph:( 0 , 0 ): Training stats: loss:  26.2822 , reg:  0 , violators_lhs:  39.2446 , violators_rhs:  38.8248 , count:  84644\n",
            "INFO:torchbiggraph:( 0 , 0 ): Stats after training: loss:  396.857 , pos_rank:  600.738 , mrr:  0.0458748 , r1:  0.0301976 , r10:  0.0698249 , r50:  0.144701 , auc:  0.698137 , count:  4454\n",
            "INFO:torchbiggraph:( 0 , 0 ): bucket 1 / 1 : Trained 84644 edges in 0.74 s ( 0.11 M/sec ); Eval 2*4454 edges in 1.76 s ( 0.0051 M/sec ); io: 0.07 s for 11,342,576 bytes ( 153.23 MB/sec )\n",
            "INFO:torchbiggraph:Swapping partitioned embeddings ( 0 , 0 ) None\n",
            "INFO:torchbiggraph:Saving partitioned embeddings to checkpoint\n",
            "INFO:torchbiggraph:Finished epoch 1 / 30, edge path 1 / 1, edge chunk 1 / 1\n",
            "INFO:torchbiggraph:Writing the metadata\n",
            "INFO:torchbiggraph:Writing the training stats\n",
            "INFO:torchbiggraph:Writing the checkpoint\n",
            "INFO:torchbiggraph:Switching to the new checkpoint version\n",
            "INFO:torchbiggraph:Starting epoch 2 / 30, edge path 1 / 1, edge chunk 1 / 1\n",
            "INFO:torchbiggraph:Edge path: data/train_partitioned\n",
            "INFO:torchbiggraph:still in queue: 0\n",
            "INFO:torchbiggraph:Swapping partitioned embeddings None ( 0 , 0 )\n",
            "INFO:torchbiggraph:Loading partitioned embeddings from checkpoint\n",
            "INFO:torchbiggraph:( 0 , 0 ): Stats before training: loss:  395.927 , pos_rank:  600.402 , mrr:  0.0465121 , r1:  0.0308711 , r10:  0.0702739 , r50:  0.144365 , auc:  0.696004 , count:  4454\n",
            "INFO:torchbiggraph:( 0 , 0 ): Training stats: loss:  3.2197 , reg:  0 , violators_lhs:  5.64934 , violators_rhs:  4.4672 , count:  84644\n",
            "INFO:torchbiggraph:( 0 , 0 ): Stats after training: loss:  391.428 , pos_rank:  589.687 , mrr:  0.0481469 , r1:  0.0319937 , r10:  0.0722946 , r50:  0.148518 , auc:  0.70128 , count:  4454\n",
            "INFO:torchbiggraph:( 0 , 0 ): bucket 1 / 1 : Trained 84644 edges in 0.66 s ( 0.13 M/sec ); Eval 2*4454 edges in 0.24 s ( 0.037 M/sec ); io: 0.02 s for 11,342,576 bytes ( 464.68 MB/sec )\n",
            "INFO:torchbiggraph:Swapping partitioned embeddings ( 0 , 0 ) None\n",
            "INFO:torchbiggraph:Saving partitioned embeddings to checkpoint\n",
            "INFO:torchbiggraph:Finished epoch 2 / 30, edge path 1 / 1, edge chunk 1 / 1\n",
            "INFO:torchbiggraph:Writing the metadata\n",
            "INFO:torchbiggraph:Writing the training stats\n",
            "INFO:torchbiggraph:Writing the checkpoint\n",
            "INFO:torchbiggraph:Switching to the new checkpoint version\n",
            "INFO:torchbiggraph:Starting epoch 3 / 30, edge path 1 / 1, edge chunk 1 / 1\n",
            "INFO:torchbiggraph:Edge path: data/train_partitioned\n",
            "INFO:torchbiggraph:still in queue: 0\n",
            "INFO:torchbiggraph:Swapping partitioned embeddings None ( 0 , 0 )\n",
            "INFO:torchbiggraph:Loading partitioned embeddings from checkpoint\n",
            "INFO:torchbiggraph:( 0 , 0 ): Stats before training: loss:  390.929 , pos_rank:  589.123 , mrr:  0.0481066 , r1:  0.0315447 , r10:  0.0721823 , r50:  0.149416 , auc:  0.703076 , count:  4454\n",
            "INFO:torchbiggraph:( 0 , 0 ): Training stats: loss:  2.65967 , reg:  0 , violators_lhs:  4.96211 , violators_rhs:  3.69756 , count:  84644\n",
            "INFO:torchbiggraph:( 0 , 0 ): Stats after training: loss:  386.662 , pos_rank:  587.678 , mrr:  0.0540205 , r1:  0.0354737 , r10:  0.0797036 , r50:  0.158509 , auc:  0.698473 , count:  4454\n",
            "INFO:torchbiggraph:( 0 , 0 ): bucket 1 / 1 : Trained 84644 edges in 0.61 s ( 0.14 M/sec ); Eval 2*4454 edges in 0.25 s ( 0.036 M/sec ); io: 0.02 s for 11,342,576 bytes ( 538.10 MB/sec )\n",
            "INFO:torchbiggraph:Swapping partitioned embeddings ( 0 , 0 ) None\n",
            "INFO:torchbiggraph:Saving partitioned embeddings to checkpoint\n",
            "INFO:torchbiggraph:Finished epoch 3 / 30, edge path 1 / 1, edge chunk 1 / 1\n",
            "INFO:torchbiggraph:Writing the metadata\n",
            "INFO:torchbiggraph:Writing the training stats\n",
            "INFO:torchbiggraph:Writing the checkpoint\n",
            "INFO:torchbiggraph:Switching to the new checkpoint version\n",
            "INFO:torchbiggraph:Starting epoch 4 / 30, edge path 1 / 1, edge chunk 1 / 1\n",
            "INFO:torchbiggraph:Edge path: data/train_partitioned\n",
            "INFO:torchbiggraph:still in queue: 0\n",
            "INFO:torchbiggraph:Swapping partitioned embeddings None ( 0 , 0 )\n",
            "INFO:torchbiggraph:Loading partitioned embeddings from checkpoint\n",
            "INFO:torchbiggraph:( 0 , 0 ): Stats before training: loss:  386.281 , pos_rank:  587.399 , mrr:  0.0558075 , r1:  0.039066 , r10:  0.0800404 , r50:  0.157274 , auc:  0.701504 , count:  4454\n",
            "INFO:torchbiggraph:( 0 , 0 ): Training stats: loss:  2.49159 , reg:  0 , violators_lhs:  4.77327 , violators_rhs:  3.56309 , count:  84644\n",
            "INFO:torchbiggraph:( 0 , 0 ): Stats after training: loss:  383.738 , pos_rank:  585.097 , mrr:  0.0572233 , r1:  0.0405254 , r10:  0.0821733 , r50:  0.160418 , auc:  0.702851 , count:  4454\n",
            "INFO:torchbiggraph:( 0 , 0 ): bucket 1 / 1 : Trained 84644 edges in 0.63 s ( 0.13 M/sec ); Eval 2*4454 edges in 0.24 s ( 0.038 M/sec ); io: 0.02 s for 11,342,576 bytes ( 488.93 MB/sec )\n",
            "INFO:torchbiggraph:Swapping partitioned embeddings ( 0 , 0 ) None\n",
            "INFO:torchbiggraph:Saving partitioned embeddings to checkpoint\n",
            "INFO:torchbiggraph:Finished epoch 4 / 30, edge path 1 / 1, edge chunk 1 / 1\n",
            "INFO:torchbiggraph:Writing the metadata\n",
            "INFO:torchbiggraph:Writing the training stats\n",
            "INFO:torchbiggraph:Writing the checkpoint\n",
            "INFO:torchbiggraph:Switching to the new checkpoint version\n",
            "INFO:torchbiggraph:Starting epoch 5 / 30, edge path 1 / 1, edge chunk 1 / 1\n",
            "INFO:torchbiggraph:Edge path: data/train_partitioned\n",
            "INFO:torchbiggraph:still in queue: 0\n",
            "INFO:torchbiggraph:Swapping partitioned embeddings None ( 0 , 0 )\n",
            "INFO:torchbiggraph:Loading partitioned embeddings from checkpoint\n",
            "INFO:torchbiggraph:( 0 , 0 ): Stats before training: loss:  382.172 , pos_rank:  584.284 , mrr:  0.0565298 , r1:  0.0396273 , r10:  0.0809385 , r50:  0.159632 , auc:  0.702066 , count:  4454\n",
            "INFO:torchbiggraph:( 0 , 0 ): Training stats: loss:  2.40725 , reg:  0 , violators_lhs:  4.7096 , violators_rhs:  3.50575 , count:  84644\n",
            "INFO:torchbiggraph:( 0 , 0 ): Stats after training: loss:  382.894 , pos_rank:  583.675 , mrr:  0.060949 , r1:  0.0422093 , r10:  0.0898069 , r50:  0.169511 , auc:  0.696565 , count:  4454\n",
            "INFO:torchbiggraph:( 0 , 0 ): bucket 1 / 1 : Trained 84644 edges in 0.65 s ( 0.13 M/sec ); Eval 2*4454 edges in 0.23 s ( 0.038 M/sec ); io: 0.03 s for 11,342,576 bytes ( 399.26 MB/sec )\n",
            "INFO:torchbiggraph:Swapping partitioned embeddings ( 0 , 0 ) None\n",
            "INFO:torchbiggraph:Saving partitioned embeddings to checkpoint\n",
            "INFO:torchbiggraph:Finished epoch 5 / 30, edge path 1 / 1, edge chunk 1 / 1\n",
            "INFO:torchbiggraph:Writing the metadata\n",
            "INFO:torchbiggraph:Writing the training stats\n",
            "INFO:torchbiggraph:Writing the checkpoint\n",
            "INFO:torchbiggraph:Switching to the new checkpoint version\n",
            "INFO:torchbiggraph:Starting epoch 6 / 30, edge path 1 / 1, edge chunk 1 / 1\n",
            "INFO:torchbiggraph:Edge path: data/train_partitioned\n",
            "INFO:torchbiggraph:still in queue: 0\n",
            "INFO:torchbiggraph:Swapping partitioned embeddings None ( 0 , 0 )\n",
            "INFO:torchbiggraph:Loading partitioned embeddings from checkpoint\n",
            "INFO:torchbiggraph:( 0 , 0 ): Stats before training: loss:  382.962 , pos_rank:  583.414 , mrr:  0.0606382 , r1:  0.0424338 , r10:  0.0887966 , r50:  0.16749 , auc:  0.700045 , count:  4454\n",
            "INFO:torchbiggraph:( 0 , 0 ): Training stats: loss:  2.33798 , reg:  0 , violators_lhs:  4.62736 , violators_rhs:  3.43961 , count:  84644\n",
            "INFO:torchbiggraph:( 0 , 0 ): Stats after training: loss:  382.123 , pos_rank:  584.781 , mrr:  0.0580077 , r1:  0.0396273 , r10:  0.0870004 , r50:  0.163898 , auc:  0.700831 , count:  4454\n",
            "INFO:torchbiggraph:( 0 , 0 ): bucket 1 / 1 : Trained 84644 edges in 0.66 s ( 0.13 M/sec ); Eval 2*4454 edges in 0.24 s ( 0.038 M/sec ); io: 0.02 s for 11,342,576 bytes ( 487.86 MB/sec )\n",
            "INFO:torchbiggraph:Swapping partitioned embeddings ( 0 , 0 ) None\n",
            "INFO:torchbiggraph:Saving partitioned embeddings to checkpoint\n",
            "INFO:torchbiggraph:Finished epoch 6 / 30, edge path 1 / 1, edge chunk 1 / 1\n",
            "INFO:torchbiggraph:Writing the metadata\n",
            "INFO:torchbiggraph:Writing the training stats\n",
            "INFO:torchbiggraph:Writing the checkpoint\n",
            "INFO:torchbiggraph:Switching to the new checkpoint version\n",
            "INFO:torchbiggraph:Starting epoch 7 / 30, edge path 1 / 1, edge chunk 1 / 1\n",
            "INFO:torchbiggraph:Edge path: data/train_partitioned\n",
            "INFO:torchbiggraph:still in queue: 0\n",
            "INFO:torchbiggraph:Swapping partitioned embeddings None ( 0 , 0 )\n",
            "INFO:torchbiggraph:Loading partitioned embeddings from checkpoint\n",
            "INFO:torchbiggraph:( 0 , 0 ): Stats before training: loss:  382.379 , pos_rank:  584.671 , mrr:  0.0557409 , r1:  0.0354737 , r10:  0.0847553 , r50:  0.164683 , auc:  0.70577 , count:  4454\n",
            "INFO:torchbiggraph:( 0 , 0 ): Training stats: loss:  2.2859 , reg:  0 , violators_lhs:  4.56907 , violators_rhs:  3.41136 , count:  84644\n",
            "INFO:torchbiggraph:( 0 , 0 ): Stats after training: loss:  381.172 , pos_rank:  583.351 , mrr:  0.0545405 , r1:  0.036035 , r10:  0.0844185 , r50:  0.165245 , auc:  0.698361 , count:  4454\n",
            "INFO:torchbiggraph:( 0 , 0 ): bucket 1 / 1 : Trained 84644 edges in 0.66 s ( 0.13 M/sec ); Eval 2*4454 edges in 0.24 s ( 0.037 M/sec ); io: 0.02 s for 11,342,576 bytes ( 523.35 MB/sec )\n",
            "INFO:torchbiggraph:Swapping partitioned embeddings ( 0 , 0 ) None\n",
            "INFO:torchbiggraph:Saving partitioned embeddings to checkpoint\n",
            "INFO:torchbiggraph:Finished epoch 7 / 30, edge path 1 / 1, edge chunk 1 / 1\n",
            "INFO:torchbiggraph:Writing the metadata\n",
            "INFO:torchbiggraph:Writing the training stats\n",
            "INFO:torchbiggraph:Writing the checkpoint\n",
            "INFO:torchbiggraph:Switching to the new checkpoint version\n",
            "INFO:torchbiggraph:Starting epoch 8 / 30, edge path 1 / 1, edge chunk 1 / 1\n",
            "INFO:torchbiggraph:Edge path: data/train_partitioned\n",
            "INFO:torchbiggraph:still in queue: 0\n",
            "INFO:torchbiggraph:Swapping partitioned embeddings None ( 0 , 0 )\n",
            "INFO:torchbiggraph:Loading partitioned embeddings from checkpoint\n",
            "INFO:torchbiggraph:( 0 , 0 ): Stats before training: loss:  381.231 , pos_rank:  582.651 , mrr:  0.0543971 , r1:  0.0358105 , r10:  0.0853166 , r50:  0.165581 , auc:  0.696453 , count:  4454\n",
            "INFO:torchbiggraph:( 0 , 0 ): Training stats: loss:  2.25085 , reg:  0 , violators_lhs:  4.54281 , violators_rhs:  3.3703 , count:  84644\n",
            "INFO:torchbiggraph:( 0 , 0 ): Stats after training: loss:  380.128 , pos_rank:  582.227 , mrr:  0.0589659 , r1:  0.0404131 , r10:  0.0930624 , r50:  0.16996 , auc:  0.694993 , count:  4454\n",
            "INFO:torchbiggraph:( 0 , 0 ): bucket 1 / 1 : Trained 84644 edges in 0.66 s ( 0.13 M/sec ); Eval 2*4454 edges in 0.23 s ( 0.038 M/sec ); io: 0.02 s for 11,342,576 bytes ( 580.37 MB/sec )\n",
            "INFO:torchbiggraph:Swapping partitioned embeddings ( 0 , 0 ) None\n",
            "INFO:torchbiggraph:Saving partitioned embeddings to checkpoint\n",
            "INFO:torchbiggraph:Finished epoch 8 / 30, edge path 1 / 1, edge chunk 1 / 1\n",
            "INFO:torchbiggraph:Writing the metadata\n",
            "INFO:torchbiggraph:Writing the training stats\n",
            "INFO:torchbiggraph:Writing the checkpoint\n",
            "INFO:torchbiggraph:Switching to the new checkpoint version\n",
            "INFO:torchbiggraph:Starting epoch 9 / 30, edge path 1 / 1, edge chunk 1 / 1\n",
            "INFO:torchbiggraph:Edge path: data/train_partitioned\n",
            "INFO:torchbiggraph:still in queue: 0\n",
            "INFO:torchbiggraph:Swapping partitioned embeddings None ( 0 , 0 )\n",
            "INFO:torchbiggraph:Loading partitioned embeddings from checkpoint\n",
            "INFO:torchbiggraph:( 0 , 0 ): Stats before training: loss:  380.27 , pos_rank:  582.526 , mrr:  0.0579187 , r1:  0.0388415 , r10:  0.0913785 , r50:  0.171868 , auc:  0.700157 , count:  4454\n",
            "INFO:torchbiggraph:( 0 , 0 ): Training stats: loss:  2.22422 , reg:  0 , violators_lhs:  4.53033 , violators_rhs:  3.35411 , count:  84644\n",
            "INFO:torchbiggraph:( 0 , 0 ): Stats after training: loss:  380.864 , pos_rank:  582.799 , mrr:  0.0603285 , r1:  0.0417602 , r10:  0.0902559 , r50:  0.167153 , auc:  0.704535 , count:  4454\n",
            "INFO:torchbiggraph:( 0 , 0 ): bucket 1 / 1 : Trained 84644 edges in 0.64 s ( 0.13 M/sec ); Eval 2*4454 edges in 0.24 s ( 0.037 M/sec ); io: 0.02 s for 11,342,576 bytes ( 464.83 MB/sec )\n",
            "INFO:torchbiggraph:Swapping partitioned embeddings ( 0 , 0 ) None\n",
            "INFO:torchbiggraph:Saving partitioned embeddings to checkpoint\n",
            "INFO:torchbiggraph:Finished epoch 9 / 30, edge path 1 / 1, edge chunk 1 / 1\n",
            "INFO:torchbiggraph:Writing the metadata\n",
            "INFO:torchbiggraph:Writing the training stats\n",
            "INFO:torchbiggraph:Writing the checkpoint\n",
            "INFO:torchbiggraph:Switching to the new checkpoint version\n",
            "INFO:torchbiggraph:Starting epoch 10 / 30, edge path 1 / 1, edge chunk 1 / 1\n",
            "INFO:torchbiggraph:Edge path: data/train_partitioned\n",
            "INFO:torchbiggraph:still in queue: 0\n",
            "INFO:torchbiggraph:Swapping partitioned embeddings None ( 0 , 0 )\n",
            "INFO:torchbiggraph:Loading partitioned embeddings from checkpoint\n",
            "INFO:torchbiggraph:( 0 , 0 ): Stats before training: loss:  380.418 , pos_rank:  582.258 , mrr:  0.0600665 , r1:  0.0418725 , r10:  0.0914908 , r50:  0.166255 , auc:  0.703974 , count:  4454\n",
            "INFO:torchbiggraph:( 0 , 0 ): Training stats: loss:  2.19297 , reg:  0 , violators_lhs:  4.5017 , violators_rhs:  3.36715 , count:  84644\n",
            "INFO:torchbiggraph:( 0 , 0 ): Stats after training: loss:  379.558 , pos_rank:  580.87 , mrr:  0.0564392 , r1:  0.0365963 , r10:  0.0899192 , r50:  0.169286 , auc:  0.707678 , count:  4454\n",
            "INFO:torchbiggraph:( 0 , 0 ): bucket 1 / 1 : Trained 84644 edges in 0.63 s ( 0.13 M/sec ); Eval 2*4454 edges in 0.25 s ( 0.036 M/sec ); io: 0.02 s for 11,342,576 bytes ( 481.79 MB/sec )\n",
            "INFO:torchbiggraph:Swapping partitioned embeddings ( 0 , 0 ) None\n",
            "INFO:torchbiggraph:Saving partitioned embeddings to checkpoint\n",
            "INFO:torchbiggraph:Finished epoch 10 / 30, edge path 1 / 1, edge chunk 1 / 1\n",
            "INFO:torchbiggraph:Writing the metadata\n",
            "INFO:torchbiggraph:Writing the training stats\n",
            "INFO:torchbiggraph:Writing the checkpoint\n",
            "INFO:torchbiggraph:Switching to the new checkpoint version\n",
            "INFO:torchbiggraph:Starting epoch 11 / 30, edge path 1 / 1, edge chunk 1 / 1\n",
            "INFO:torchbiggraph:Edge path: data/train_partitioned\n",
            "INFO:torchbiggraph:still in queue: 0\n",
            "INFO:torchbiggraph:Swapping partitioned embeddings None ( 0 , 0 )\n",
            "INFO:torchbiggraph:Loading partitioned embeddings from checkpoint\n",
            "INFO:torchbiggraph:( 0 , 0 ): Stats before training: loss:  379.919 , pos_rank:  581.4 , mrr:  0.0563897 , r1:  0.0369331 , r10:  0.0893579 , r50:  0.170409 , auc:  0.707454 , count:  4454\n",
            "INFO:torchbiggraph:( 0 , 0 ): Training stats: loss:  2.17336 , reg:  0 , violators_lhs:  4.50349 , violators_rhs:  3.35013 , count:  84644\n",
            "INFO:torchbiggraph:( 0 , 0 ): Stats after training: loss:  379.482 , pos_rank:  580.634 , mrr:  0.0562221 , r1:  0.0362595 , r10:  0.0908172 , r50:  0.167939 , auc:  0.694207 , count:  4454\n",
            "INFO:torchbiggraph:( 0 , 0 ): bucket 1 / 1 : Trained 84644 edges in 0.62 s ( 0.14 M/sec ); Eval 2*4454 edges in 0.24 s ( 0.037 M/sec ); io: 0.02 s for 11,342,576 bytes ( 526.83 MB/sec )\n",
            "INFO:torchbiggraph:Swapping partitioned embeddings ( 0 , 0 ) None\n",
            "INFO:torchbiggraph:Saving partitioned embeddings to checkpoint\n",
            "INFO:torchbiggraph:Finished epoch 11 / 30, edge path 1 / 1, edge chunk 1 / 1\n",
            "INFO:torchbiggraph:Writing the metadata\n",
            "INFO:torchbiggraph:Writing the training stats\n",
            "INFO:torchbiggraph:Writing the checkpoint\n",
            "INFO:torchbiggraph:Switching to the new checkpoint version\n",
            "INFO:torchbiggraph:Starting epoch 12 / 30, edge path 1 / 1, edge chunk 1 / 1\n",
            "INFO:torchbiggraph:Edge path: data/train_partitioned\n",
            "INFO:torchbiggraph:still in queue: 0\n",
            "INFO:torchbiggraph:Swapping partitioned embeddings None ( 0 , 0 )\n",
            "INFO:torchbiggraph:Loading partitioned embeddings from checkpoint\n",
            "INFO:torchbiggraph:( 0 , 0 ): Stats before training: loss:  379.232 , pos_rank:  580.431 , mrr:  0.0566821 , r1:  0.0367086 , r10:  0.0914908 , r50:  0.167827 , auc:  0.70229 , count:  4454\n",
            "INFO:torchbiggraph:( 0 , 0 ): Training stats: loss:  2.14876 , reg:  0 , violators_lhs:  4.49025 , violators_rhs:  3.3233 , count:  84644\n",
            "INFO:torchbiggraph:( 0 , 0 ): Stats after training: loss:  379.146 , pos_rank:  579.267 , mrr:  0.0605969 , r1:  0.0411989 , r10:  0.0933992 , r50:  0.171643 , auc:  0.71026 , count:  4454\n",
            "INFO:torchbiggraph:( 0 , 0 ): bucket 1 / 1 : Trained 84644 edges in 0.66 s ( 0.13 M/sec ); Eval 2*4454 edges in 0.23 s ( 0.038 M/sec ); io: 0.03 s for 11,342,576 bytes ( 445.60 MB/sec )\n",
            "INFO:torchbiggraph:Swapping partitioned embeddings ( 0 , 0 ) None\n",
            "INFO:torchbiggraph:Saving partitioned embeddings to checkpoint\n",
            "INFO:torchbiggraph:Finished epoch 12 / 30, edge path 1 / 1, edge chunk 1 / 1\n",
            "INFO:torchbiggraph:Writing the metadata\n",
            "INFO:torchbiggraph:Writing the training stats\n",
            "INFO:torchbiggraph:Writing the checkpoint\n",
            "INFO:torchbiggraph:Switching to the new checkpoint version\n",
            "INFO:torchbiggraph:Starting epoch 13 / 30, edge path 1 / 1, edge chunk 1 / 1\n",
            "INFO:torchbiggraph:Edge path: data/train_partitioned\n",
            "INFO:torchbiggraph:still in queue: 0\n",
            "INFO:torchbiggraph:Swapping partitioned embeddings None ( 0 , 0 )\n",
            "INFO:torchbiggraph:Loading partitioned embeddings from checkpoint\n",
            "INFO:torchbiggraph:( 0 , 0 ): Stats before training: loss:  379.049 , pos_rank:  579.616 , mrr:  0.0590489 , r1:  0.0382802 , r10:  0.0921643 , r50:  0.169174 , auc:  0.703749 , count:  4454\n",
            "INFO:torchbiggraph:( 0 , 0 ): Training stats: loss:  2.12517 , reg:  0 , violators_lhs:  4.47598 , violators_rhs:  3.3362 , count:  84644\n",
            "INFO:torchbiggraph:( 0 , 0 ): Stats after training: loss:  378.274 , pos_rank:  579.438 , mrr:  0.058969 , r1:  0.0388415 , r10:  0.0916031 , r50:  0.17097 , auc:  0.700606 , count:  4454\n",
            "INFO:torchbiggraph:( 0 , 0 ): bucket 1 / 1 : Trained 84644 edges in 0.64 s ( 0.13 M/sec ); Eval 2*4454 edges in 0.25 s ( 0.035 M/sec ); io: 0.02 s for 11,342,576 bytes ( 472.88 MB/sec )\n",
            "INFO:torchbiggraph:Swapping partitioned embeddings ( 0 , 0 ) None\n",
            "INFO:torchbiggraph:Saving partitioned embeddings to checkpoint\n",
            "INFO:torchbiggraph:Finished epoch 13 / 30, edge path 1 / 1, edge chunk 1 / 1\n",
            "INFO:torchbiggraph:Writing the metadata\n",
            "INFO:torchbiggraph:Writing the training stats\n",
            "INFO:torchbiggraph:Writing the checkpoint\n",
            "INFO:torchbiggraph:Switching to the new checkpoint version\n",
            "INFO:torchbiggraph:Starting epoch 14 / 30, edge path 1 / 1, edge chunk 1 / 1\n",
            "INFO:torchbiggraph:Edge path: data/train_partitioned\n",
            "INFO:torchbiggraph:still in queue: 0\n",
            "INFO:torchbiggraph:Swapping partitioned embeddings None ( 0 , 0 )\n",
            "INFO:torchbiggraph:Loading partitioned embeddings from checkpoint\n",
            "INFO:torchbiggraph:( 0 , 0 ): Stats before training: loss:  378.608 , pos_rank:  579.829 , mrr:  0.0588515 , r1:  0.0392905 , r10:  0.0918276 , r50:  0.169623 , auc:  0.701841 , count:  4454\n",
            "INFO:torchbiggraph:( 0 , 0 ): Training stats: loss:  2.10813 , reg:  0 , violators_lhs:  4.48033 , violators_rhs:  3.31469 , count:  84644\n",
            "INFO:torchbiggraph:( 0 , 0 ): Stats after training: loss:  378.877 , pos_rank:  580.457 , mrr:  0.0544931 , r1:  0.0334531 , r10:  0.0901437 , r50:  0.169398 , auc:  0.706556 , count:  4454\n",
            "INFO:torchbiggraph:( 0 , 0 ): bucket 1 / 1 : Trained 84644 edges in 0.64 s ( 0.13 M/sec ); Eval 2*4454 edges in 0.25 s ( 0.036 M/sec ); io: 0.03 s for 11,342,576 bytes ( 404.62 MB/sec )\n",
            "INFO:torchbiggraph:Swapping partitioned embeddings ( 0 , 0 ) None\n",
            "INFO:torchbiggraph:Saving partitioned embeddings to checkpoint\n",
            "INFO:torchbiggraph:Finished epoch 14 / 30, edge path 1 / 1, edge chunk 1 / 1\n",
            "INFO:torchbiggraph:Writing the metadata\n",
            "INFO:torchbiggraph:Writing the training stats\n",
            "INFO:torchbiggraph:Writing the checkpoint\n",
            "INFO:torchbiggraph:Switching to the new checkpoint version\n",
            "INFO:torchbiggraph:Starting epoch 15 / 30, edge path 1 / 1, edge chunk 1 / 1\n",
            "INFO:torchbiggraph:Edge path: data/train_partitioned\n",
            "INFO:torchbiggraph:still in queue: 0\n",
            "INFO:torchbiggraph:Swapping partitioned embeddings None ( 0 , 0 )\n",
            "INFO:torchbiggraph:Loading partitioned embeddings from checkpoint\n",
            "INFO:torchbiggraph:( 0 , 0 ): Stats before training: loss:  378.682 , pos_rank:  581.112 , mrr:  0.0545534 , r1:  0.0337899 , r10:  0.0891334 , r50:  0.169735 , auc:  0.696228 , count:  4454\n",
            "INFO:torchbiggraph:( 0 , 0 ): Training stats: loss:  2.08958 , reg:  0 , violators_lhs:  4.46276 , violators_rhs:  3.3189 , count:  84644\n",
            "INFO:torchbiggraph:( 0 , 0 ): Stats after training: loss:  378.179 , pos_rank:  578.308 , mrr:  0.0624863 , r1:  0.041648 , r10:  0.0980018 , r50:  0.173103 , auc:  0.712955 , count:  4454\n",
            "INFO:torchbiggraph:( 0 , 0 ): bucket 1 / 1 : Trained 84644 edges in 0.64 s ( 0.13 M/sec ); Eval 2*4454 edges in 0.23 s ( 0.038 M/sec ); io: 0.03 s for 11,342,576 bytes ( 437.08 MB/sec )\n",
            "INFO:torchbiggraph:Swapping partitioned embeddings ( 0 , 0 ) None\n",
            "INFO:torchbiggraph:Saving partitioned embeddings to checkpoint\n",
            "INFO:torchbiggraph:Finished epoch 15 / 30, edge path 1 / 1, edge chunk 1 / 1\n",
            "INFO:torchbiggraph:Writing the metadata\n",
            "INFO:torchbiggraph:Writing the training stats\n",
            "INFO:torchbiggraph:Writing the checkpoint\n",
            "INFO:torchbiggraph:Switching to the new checkpoint version\n",
            "INFO:torchbiggraph:Starting epoch 16 / 30, edge path 1 / 1, edge chunk 1 / 1\n",
            "INFO:torchbiggraph:Edge path: data/train_partitioned\n",
            "INFO:torchbiggraph:still in queue: 0\n",
            "INFO:torchbiggraph:Swapping partitioned embeddings None ( 0 , 0 )\n",
            "INFO:torchbiggraph:Loading partitioned embeddings from checkpoint\n",
            "INFO:torchbiggraph:( 0 , 0 ): Stats before training: loss:  379.196 , pos_rank:  578.877 , mrr:  0.0613811 , r1:  0.0403009 , r10:  0.0964302 , r50:  0.173103 , auc:  0.705209 , count:  4454\n",
            "INFO:torchbiggraph:( 0 , 0 ): Training stats: loss:  2.08256 , reg:  0 , violators_lhs:  4.47865 , violators_rhs:  3.2732 , count:  84644\n",
            "INFO:torchbiggraph:( 0 , 0 ): Stats after training: loss:  378.112 , pos_rank:  579.048 , mrr:  0.0607304 , r1:  0.0401886 , r10:  0.094634 , r50:  0.171419 , auc:  0.707454 , count:  4454\n",
            "INFO:torchbiggraph:( 0 , 0 ): bucket 1 / 1 : Trained 84644 edges in 0.64 s ( 0.13 M/sec ); Eval 2*4454 edges in 0.24 s ( 0.038 M/sec ); io: 0.03 s for 11,342,576 bytes ( 395.51 MB/sec )\n",
            "INFO:torchbiggraph:Swapping partitioned embeddings ( 0 , 0 ) None\n",
            "INFO:torchbiggraph:Saving partitioned embeddings to checkpoint\n",
            "INFO:torchbiggraph:Finished epoch 16 / 30, edge path 1 / 1, edge chunk 1 / 1\n",
            "INFO:torchbiggraph:Writing the metadata\n",
            "INFO:torchbiggraph:Writing the training stats\n",
            "INFO:torchbiggraph:Writing the checkpoint\n",
            "INFO:torchbiggraph:Switching to the new checkpoint version\n",
            "INFO:torchbiggraph:Starting epoch 17 / 30, edge path 1 / 1, edge chunk 1 / 1\n",
            "INFO:torchbiggraph:Edge path: data/train_partitioned\n",
            "INFO:torchbiggraph:still in queue: 0\n",
            "INFO:torchbiggraph:Swapping partitioned embeddings None ( 0 , 0 )\n",
            "INFO:torchbiggraph:Loading partitioned embeddings from checkpoint\n",
            "INFO:torchbiggraph:( 0 , 0 ): Stats before training: loss:  379.019 , pos_rank:  579.688 , mrr:  0.0596428 , r1:  0.038617 , r10:  0.0938482 , r50:  0.170858 , auc:  0.705546 , count:  4454\n",
            "INFO:torchbiggraph:( 0 , 0 ): Training stats: loss:  2.06538 , reg:  0 , violators_lhs:  4.4652 , violators_rhs:  3.30944 , count:  84644\n",
            "INFO:torchbiggraph:( 0 , 0 ): Stats after training: loss:  377.329 , pos_rank:  576.555 , mrr:  0.0597917 , r1:  0.039066 , r10:  0.0933992 , r50:  0.171307 , auc:  0.701729 , count:  4454\n",
            "INFO:torchbiggraph:( 0 , 0 ): bucket 1 / 1 : Trained 84644 edges in 0.70 s ( 0.12 M/sec ); Eval 2*4454 edges in 0.25 s ( 0.036 M/sec ); io: 0.03 s for 11,342,576 bytes ( 448.09 MB/sec )\n",
            "INFO:torchbiggraph:Swapping partitioned embeddings ( 0 , 0 ) None\n",
            "INFO:torchbiggraph:Saving partitioned embeddings to checkpoint\n",
            "INFO:torchbiggraph:Finished epoch 17 / 30, edge path 1 / 1, edge chunk 1 / 1\n",
            "INFO:torchbiggraph:Writing the metadata\n",
            "INFO:torchbiggraph:Writing the training stats\n",
            "INFO:torchbiggraph:Writing the checkpoint\n",
            "INFO:torchbiggraph:Switching to the new checkpoint version\n",
            "INFO:torchbiggraph:Starting epoch 18 / 30, edge path 1 / 1, edge chunk 1 / 1\n",
            "INFO:torchbiggraph:Edge path: data/train_partitioned\n",
            "INFO:torchbiggraph:still in queue: 0\n",
            "INFO:torchbiggraph:Swapping partitioned embeddings None ( 0 , 0 )\n",
            "INFO:torchbiggraph:Loading partitioned embeddings from checkpoint\n",
            "INFO:torchbiggraph:( 0 , 0 ): Stats before training: loss:  377.264 , pos_rank:  576.746 , mrr:  0.0596921 , r1:  0.0392905 , r10:  0.0923889 , r50:  0.17097 , auc:  0.696789 , count:  4454\n",
            "INFO:torchbiggraph:( 0 , 0 ): Training stats: loss:  2.04655 , reg:  0 , violators_lhs:  4.44276 , violators_rhs:  3.2797 , count:  84644\n",
            "INFO:torchbiggraph:( 0 , 0 ): Stats after training: loss:  377.586 , pos_rank:  577.794 , mrr:  0.0564133 , r1:  0.0339021 , r10:  0.0913785 , r50:  0.169511 , auc:  0.712618 , count:  4454\n",
            "INFO:torchbiggraph:( 0 , 0 ): bucket 1 / 1 : Trained 84644 edges in 0.64 s ( 0.13 M/sec ); Eval 2*4454 edges in 0.24 s ( 0.036 M/sec ); io: 0.02 s for 11,342,576 bytes ( 457.45 MB/sec )\n",
            "INFO:torchbiggraph:Swapping partitioned embeddings ( 0 , 0 ) None\n",
            "INFO:torchbiggraph:Saving partitioned embeddings to checkpoint\n",
            "INFO:torchbiggraph:Finished epoch 18 / 30, edge path 1 / 1, edge chunk 1 / 1\n",
            "INFO:torchbiggraph:Writing the metadata\n",
            "INFO:torchbiggraph:Writing the training stats\n",
            "INFO:torchbiggraph:Writing the checkpoint\n",
            "INFO:torchbiggraph:Switching to the new checkpoint version\n",
            "INFO:torchbiggraph:Starting epoch 19 / 30, edge path 1 / 1, edge chunk 1 / 1\n",
            "INFO:torchbiggraph:Edge path: data/train_partitioned\n",
            "INFO:torchbiggraph:still in queue: 0\n",
            "INFO:torchbiggraph:Swapping partitioned embeddings None ( 0 , 0 )\n",
            "INFO:torchbiggraph:Loading partitioned embeddings from checkpoint\n",
            "INFO:torchbiggraph:( 0 , 0 ): Stats before training: loss:  377.589 , pos_rank:  578.057 , mrr:  0.0589824 , r1:  0.0387292 , r10:  0.0923889 , r50:  0.170858 , auc:  0.715537 , count:  4454\n",
            "INFO:torchbiggraph:( 0 , 0 ): Training stats: loss:  2.04423 , reg:  0 , violators_lhs:  4.46471 , violators_rhs:  3.28451 , count:  84644\n",
            "INFO:torchbiggraph:( 0 , 0 ): Stats after training: loss:  377.604 , pos_rank:  577.047 , mrr:  0.0576135 , r1:  0.0361473 , r10:  0.0919398 , r50:  0.172205 , auc:  0.710709 , count:  4454\n",
            "INFO:torchbiggraph:( 0 , 0 ): bucket 1 / 1 : Trained 84644 edges in 0.66 s ( 0.13 M/sec ); Eval 2*4454 edges in 0.24 s ( 0.036 M/sec ); io: 0.02 s for 11,342,576 bytes ( 487.82 MB/sec )\n",
            "INFO:torchbiggraph:Swapping partitioned embeddings ( 0 , 0 ) None\n",
            "INFO:torchbiggraph:Saving partitioned embeddings to checkpoint\n",
            "INFO:torchbiggraph:Finished epoch 19 / 30, edge path 1 / 1, edge chunk 1 / 1\n",
            "INFO:torchbiggraph:Writing the metadata\n",
            "INFO:torchbiggraph:Writing the training stats\n",
            "INFO:torchbiggraph:Writing the checkpoint\n",
            "INFO:torchbiggraph:Switching to the new checkpoint version\n",
            "INFO:torchbiggraph:Starting epoch 20 / 30, edge path 1 / 1, edge chunk 1 / 1\n",
            "INFO:torchbiggraph:Edge path: data/train_partitioned\n",
            "INFO:torchbiggraph:still in queue: 0\n",
            "INFO:torchbiggraph:Swapping partitioned embeddings None ( 0 , 0 )\n",
            "INFO:torchbiggraph:Loading partitioned embeddings from checkpoint\n",
            "INFO:torchbiggraph:( 0 , 0 ): Stats before training: loss:  377.652 , pos_rank:  577.239 , mrr:  0.058274 , r1:  0.0377189 , r10:  0.0932869 , r50:  0.170745 , auc:  0.703188 , count:  4454\n",
            "INFO:torchbiggraph:( 0 , 0 ): Training stats: loss:  2.02989 , reg:  0 , violators_lhs:  4.45906 , violators_rhs:  3.30611 , count:  84644\n",
            "INFO:torchbiggraph:( 0 , 0 ): Stats after training: loss:  377.192 , pos_rank:  578.156 , mrr:  0.0571624 , r1:  0.0356982 , r10:  0.0936237 , r50:  0.169062 , auc:  0.709362 , count:  4454\n",
            "INFO:torchbiggraph:( 0 , 0 ): bucket 1 / 1 : Trained 84644 edges in 0.64 s ( 0.13 M/sec ); Eval 2*4454 edges in 0.24 s ( 0.037 M/sec ); io: 0.02 s for 11,342,576 bytes ( 520.64 MB/sec )\n",
            "INFO:torchbiggraph:Swapping partitioned embeddings ( 0 , 0 ) None\n",
            "INFO:torchbiggraph:Saving partitioned embeddings to checkpoint\n",
            "INFO:torchbiggraph:Finished epoch 20 / 30, edge path 1 / 1, edge chunk 1 / 1\n",
            "INFO:torchbiggraph:Writing the metadata\n",
            "INFO:torchbiggraph:Writing the training stats\n",
            "INFO:torchbiggraph:Writing the checkpoint\n",
            "INFO:torchbiggraph:Switching to the new checkpoint version\n",
            "INFO:torchbiggraph:Starting epoch 21 / 30, edge path 1 / 1, edge chunk 1 / 1\n",
            "INFO:torchbiggraph:Edge path: data/train_partitioned\n",
            "INFO:torchbiggraph:still in queue: 0\n",
            "INFO:torchbiggraph:Swapping partitioned embeddings None ( 0 , 0 )\n",
            "INFO:torchbiggraph:Loading partitioned embeddings from checkpoint\n",
            "INFO:torchbiggraph:( 0 , 0 ): Stats before training: loss:  377.418 , pos_rank:  578.036 , mrr:  0.0566079 , r1:  0.0354737 , r10:  0.0932869 , r50:  0.168725 , auc:  0.705209 , count:  4454\n",
            "INFO:torchbiggraph:( 0 , 0 ): Training stats: loss:  2.01938 , reg:  0 , violators_lhs:  4.44506 , violators_rhs:  3.29838 , count:  84644\n",
            "INFO:torchbiggraph:( 0 , 0 ): Stats after training: loss:  377.563 , pos_rank:  576.937 , mrr:  0.0564099 , r1:  0.0342389 , r10:  0.0913785 , r50:  0.171419 , auc:  0.700606 , count:  4454\n",
            "INFO:torchbiggraph:( 0 , 0 ): bucket 1 / 1 : Trained 84644 edges in 0.65 s ( 0.13 M/sec ); Eval 2*4454 edges in 0.23 s ( 0.038 M/sec ); io: 0.03 s for 11,342,576 bytes ( 440.43 MB/sec )\n",
            "INFO:torchbiggraph:Swapping partitioned embeddings ( 0 , 0 ) None\n",
            "INFO:torchbiggraph:Saving partitioned embeddings to checkpoint\n",
            "INFO:torchbiggraph:Finished epoch 21 / 30, edge path 1 / 1, edge chunk 1 / 1\n",
            "INFO:torchbiggraph:Writing the metadata\n",
            "INFO:torchbiggraph:Writing the training stats\n",
            "INFO:torchbiggraph:Writing the checkpoint\n",
            "INFO:torchbiggraph:Switching to the new checkpoint version\n",
            "INFO:torchbiggraph:Starting epoch 22 / 30, edge path 1 / 1, edge chunk 1 / 1\n",
            "INFO:torchbiggraph:Edge path: data/train_partitioned\n",
            "INFO:torchbiggraph:still in queue: 0\n",
            "INFO:torchbiggraph:Swapping partitioned embeddings None ( 0 , 0 )\n",
            "INFO:torchbiggraph:Loading partitioned embeddings from checkpoint\n",
            "INFO:torchbiggraph:( 0 , 0 ): Stats before training: loss:  377.565 , pos_rank:  577.523 , mrr:  0.0580869 , r1:  0.0362595 , r10:  0.0950831 , r50:  0.171082 , auc:  0.704872 , count:  4454\n",
            "INFO:torchbiggraph:( 0 , 0 ): Training stats: loss:  2.01005 , reg:  0 , violators_lhs:  4.44751 , violators_rhs:  3.31716 , count:  84644\n",
            "INFO:torchbiggraph:( 0 , 0 ): Stats after training: loss:  377.671 , pos_rank:  578.667 , mrr:  0.0588824 , r1:  0.0376066 , r10:  0.0962057 , r50:  0.173327 , auc:  0.703862 , count:  4454\n",
            "INFO:torchbiggraph:( 0 , 0 ): bucket 1 / 1 : Trained 84644 edges in 0.62 s ( 0.14 M/sec ); Eval 2*4454 edges in 0.23 s ( 0.038 M/sec ); io: 0.02 s for 11,342,576 bytes ( 494.56 MB/sec )\n",
            "INFO:torchbiggraph:Swapping partitioned embeddings ( 0 , 0 ) None\n",
            "INFO:torchbiggraph:Saving partitioned embeddings to checkpoint\n",
            "INFO:torchbiggraph:Finished epoch 22 / 30, edge path 1 / 1, edge chunk 1 / 1\n",
            "INFO:torchbiggraph:Writing the metadata\n",
            "INFO:torchbiggraph:Writing the training stats\n",
            "INFO:torchbiggraph:Writing the checkpoint\n",
            "INFO:torchbiggraph:Switching to the new checkpoint version\n",
            "INFO:torchbiggraph:Starting epoch 23 / 30, edge path 1 / 1, edge chunk 1 / 1\n",
            "INFO:torchbiggraph:Edge path: data/train_partitioned\n",
            "INFO:torchbiggraph:still in queue: 0\n",
            "INFO:torchbiggraph:Swapping partitioned embeddings None ( 0 , 0 )\n",
            "INFO:torchbiggraph:Loading partitioned embeddings from checkpoint\n",
            "INFO:torchbiggraph:( 0 , 0 ): Stats before training: loss:  377.951 , pos_rank:  578.596 , mrr:  0.0582482 , r1:  0.036035 , r10:  0.0947463 , r50:  0.172205 , auc:  0.70577 , count:  4454\n",
            "INFO:torchbiggraph:( 0 , 0 ): Training stats: loss:  1.99669 , reg:  0 , violators_lhs:  4.44673 , violators_rhs:  3.30739 , count:  84644\n",
            "INFO:torchbiggraph:( 0 , 0 ): Stats after training: loss:  377.407 , pos_rank:  576.291 , mrr:  0.0599645 , r1:  0.0383925 , r10:  0.0962057 , r50:  0.174562 , auc:  0.708128 , count:  4454\n",
            "INFO:torchbiggraph:( 0 , 0 ): bucket 1 / 1 : Trained 84644 edges in 0.62 s ( 0.14 M/sec ); Eval 2*4454 edges in 0.24 s ( 0.038 M/sec ); io: 0.02 s for 11,342,576 bytes ( 465.82 MB/sec )\n",
            "INFO:torchbiggraph:Swapping partitioned embeddings ( 0 , 0 ) None\n",
            "INFO:torchbiggraph:Saving partitioned embeddings to checkpoint\n",
            "INFO:torchbiggraph:Finished epoch 23 / 30, edge path 1 / 1, edge chunk 1 / 1\n",
            "INFO:torchbiggraph:Writing the metadata\n",
            "INFO:torchbiggraph:Writing the training stats\n",
            "INFO:torchbiggraph:Writing the checkpoint\n",
            "INFO:torchbiggraph:Switching to the new checkpoint version\n",
            "INFO:torchbiggraph:Starting epoch 24 / 30, edge path 1 / 1, edge chunk 1 / 1\n",
            "INFO:torchbiggraph:Edge path: data/train_partitioned\n",
            "INFO:torchbiggraph:still in queue: 0\n",
            "INFO:torchbiggraph:Swapping partitioned embeddings None ( 0 , 0 )\n",
            "INFO:torchbiggraph:Loading partitioned embeddings from checkpoint\n",
            "INFO:torchbiggraph:( 0 , 0 ): Stats before training: loss:  377.59 , pos_rank:  576.61 , mrr:  0.0599235 , r1:  0.0379434 , r10:  0.0956444 , r50:  0.175348 , auc:  0.718904 , count:  4454\n",
            "INFO:torchbiggraph:( 0 , 0 ): Training stats: loss:  1.98549 , reg:  0 , violators_lhs:  4.43152 , violators_rhs:  3.28022 , count:  84644\n",
            "INFO:torchbiggraph:( 0 , 0 ): Stats after training: loss:  376.953 , pos_rank:  576.339 , mrr:  0.0588336 , r1:  0.0376066 , r10:  0.0951953 , r50:  0.172991 , auc:  0.708464 , count:  4454\n",
            "INFO:torchbiggraph:( 0 , 0 ): bucket 1 / 1 : Trained 84644 edges in 0.61 s ( 0.14 M/sec ); Eval 2*4454 edges in 0.24 s ( 0.037 M/sec ); io: 0.02 s for 11,342,576 bytes ( 453.79 MB/sec )\n",
            "INFO:torchbiggraph:Swapping partitioned embeddings ( 0 , 0 ) None\n",
            "INFO:torchbiggraph:Saving partitioned embeddings to checkpoint\n",
            "INFO:torchbiggraph:Finished epoch 24 / 30, edge path 1 / 1, edge chunk 1 / 1\n",
            "INFO:torchbiggraph:Writing the metadata\n",
            "INFO:torchbiggraph:Writing the training stats\n",
            "INFO:torchbiggraph:Writing the checkpoint\n",
            "INFO:torchbiggraph:Switching to the new checkpoint version\n",
            "INFO:torchbiggraph:Starting epoch 25 / 30, edge path 1 / 1, edge chunk 1 / 1\n",
            "INFO:torchbiggraph:Edge path: data/train_partitioned\n",
            "INFO:torchbiggraph:still in queue: 0\n",
            "INFO:torchbiggraph:Swapping partitioned embeddings None ( 0 , 0 )\n",
            "INFO:torchbiggraph:Loading partitioned embeddings from checkpoint\n",
            "INFO:torchbiggraph:( 0 , 0 ): Stats before training: loss:  377.114 , pos_rank:  576.374 , mrr:  0.0593085 , r1:  0.0385047 , r10:  0.094185 , r50:  0.172542 , auc:  0.712955 , count:  4454\n",
            "INFO:torchbiggraph:( 0 , 0 ): Training stats: loss:  1.97556 , reg:  0 , violators_lhs:  4.4166 , violators_rhs:  3.29433 , count:  84644\n",
            "INFO:torchbiggraph:( 0 , 0 ): Stats after training: loss:  377.56 , pos_rank:  576.593 , mrr:  0.0650618 , r1:  0.0441176 , r10:  0.100359 , r50:  0.172654 , auc:  0.706107 , count:  4454\n",
            "INFO:torchbiggraph:( 0 , 0 ): bucket 1 / 1 : Trained 84644 edges in 0.62 s ( 0.14 M/sec ); Eval 2*4454 edges in 0.26 s ( 0.034 M/sec ); io: 0.03 s for 11,342,576 bytes ( 430.97 MB/sec )\n",
            "INFO:torchbiggraph:Swapping partitioned embeddings ( 0 , 0 ) None\n",
            "INFO:torchbiggraph:Saving partitioned embeddings to checkpoint\n",
            "INFO:torchbiggraph:Finished epoch 25 / 30, edge path 1 / 1, edge chunk 1 / 1\n",
            "INFO:torchbiggraph:Writing the metadata\n",
            "INFO:torchbiggraph:Writing the training stats\n",
            "INFO:torchbiggraph:Writing the checkpoint\n",
            "INFO:torchbiggraph:Switching to the new checkpoint version\n",
            "INFO:torchbiggraph:Starting epoch 26 / 30, edge path 1 / 1, edge chunk 1 / 1\n",
            "INFO:torchbiggraph:Edge path: data/train_partitioned\n",
            "INFO:torchbiggraph:still in queue: 0\n",
            "INFO:torchbiggraph:Swapping partitioned embeddings None ( 0 , 0 )\n",
            "INFO:torchbiggraph:Loading partitioned embeddings from checkpoint\n",
            "INFO:torchbiggraph:( 0 , 0 ): Stats before training: loss:  378.147 , pos_rank:  577.79 , mrr:  0.0652567 , r1:  0.0433318 , r10:  0.100808 , r50:  0.173552 , auc:  0.709475 , count:  4454\n",
            "INFO:torchbiggraph:( 0 , 0 ): Training stats: loss:  1.96632 , reg:  0 , violators_lhs:  4.42328 , violators_rhs:  3.25508 , count:  84644\n",
            "INFO:torchbiggraph:( 0 , 0 ): Stats after training: loss:  377.816 , pos_rank:  576.073 , mrr:  0.0614465 , r1:  0.0398518 , r10:  0.0959811 , r50:  0.169623 , auc:  0.712169 , count:  4454\n",
            "INFO:torchbiggraph:( 0 , 0 ): bucket 1 / 1 : Trained 84644 edges in 0.60 s ( 0.14 M/sec ); Eval 2*4454 edges in 0.23 s ( 0.038 M/sec ); io: 0.03 s for 11,342,576 bytes ( 427.53 MB/sec )\n",
            "INFO:torchbiggraph:Swapping partitioned embeddings ( 0 , 0 ) None\n",
            "INFO:torchbiggraph:Saving partitioned embeddings to checkpoint\n",
            "INFO:torchbiggraph:Finished epoch 26 / 30, edge path 1 / 1, edge chunk 1 / 1\n",
            "INFO:torchbiggraph:Writing the metadata\n",
            "INFO:torchbiggraph:Writing the training stats\n",
            "INFO:torchbiggraph:Writing the checkpoint\n",
            "INFO:torchbiggraph:Switching to the new checkpoint version\n",
            "INFO:torchbiggraph:Starting epoch 27 / 30, edge path 1 / 1, edge chunk 1 / 1\n",
            "INFO:torchbiggraph:Edge path: data/train_partitioned\n",
            "INFO:torchbiggraph:still in queue: 0\n",
            "INFO:torchbiggraph:Swapping partitioned embeddings None ( 0 , 0 )\n",
            "INFO:torchbiggraph:Loading partitioned embeddings from checkpoint\n",
            "INFO:torchbiggraph:( 0 , 0 ): Stats before training: loss:  377.66 , pos_rank:  576.156 , mrr:  0.0615114 , r1:  0.0398518 , r10:  0.0957566 , r50:  0.169623 , auc:  0.707903 , count:  4454\n",
            "INFO:torchbiggraph:( 0 , 0 ): Training stats: loss:  1.95872 , reg:  0 , violators_lhs:  4.41908 , violators_rhs:  3.29198 , count:  84644\n",
            "INFO:torchbiggraph:( 0 , 0 ): Stats after training: loss:  378.465 , pos_rank:  576.611 , mrr:  0.0648252 , r1:  0.0429951 , r10:  0.0991244 , r50:  0.175685 , auc:  0.711832 , count:  4454\n",
            "INFO:torchbiggraph:( 0 , 0 ): bucket 1 / 1 : Trained 84644 edges in 0.62 s ( 0.14 M/sec ); Eval 2*4454 edges in 0.24 s ( 0.037 M/sec ); io: 0.03 s for 11,342,576 bytes ( 414.09 MB/sec )\n",
            "INFO:torchbiggraph:Swapping partitioned embeddings ( 0 , 0 ) None\n",
            "INFO:torchbiggraph:Saving partitioned embeddings to checkpoint\n",
            "INFO:torchbiggraph:Finished epoch 27 / 30, edge path 1 / 1, edge chunk 1 / 1\n",
            "INFO:torchbiggraph:Writing the metadata\n",
            "INFO:torchbiggraph:Writing the training stats\n",
            "INFO:torchbiggraph:Writing the checkpoint\n",
            "INFO:torchbiggraph:Switching to the new checkpoint version\n",
            "INFO:torchbiggraph:Starting epoch 28 / 30, edge path 1 / 1, edge chunk 1 / 1\n",
            "INFO:torchbiggraph:Edge path: data/train_partitioned\n",
            "INFO:torchbiggraph:still in queue: 0\n",
            "INFO:torchbiggraph:Swapping partitioned embeddings None ( 0 , 0 )\n",
            "INFO:torchbiggraph:Loading partitioned embeddings from checkpoint\n",
            "INFO:torchbiggraph:( 0 , 0 ): Stats before training: loss:  377.656 , pos_rank:  576.278 , mrr:  0.0625006 , r1:  0.0385047 , r10:  0.100359 , r50:  0.17546 , auc:  0.701167 , count:  4454\n",
            "INFO:torchbiggraph:( 0 , 0 ): Training stats: loss:  1.95836 , reg:  0 , violators_lhs:  4.42799 , violators_rhs:  3.29096 , count:  84644\n",
            "INFO:torchbiggraph:( 0 , 0 ): Stats after training: loss:  377.1 , pos_rank:  574.764 , mrr:  0.065459 , r1:  0.0433318 , r10:  0.101145 , r50:  0.174338 , auc:  0.712955 , count:  4454\n",
            "INFO:torchbiggraph:( 0 , 0 ): bucket 1 / 1 : Trained 84644 edges in 0.69 s ( 0.12 M/sec ); Eval 2*4454 edges in 0.25 s ( 0.036 M/sec ); io: 0.02 s for 11,342,576 bytes ( 504.11 MB/sec )\n",
            "INFO:torchbiggraph:Swapping partitioned embeddings ( 0 , 0 ) None\n",
            "INFO:torchbiggraph:Saving partitioned embeddings to checkpoint\n",
            "INFO:torchbiggraph:Finished epoch 28 / 30, edge path 1 / 1, edge chunk 1 / 1\n",
            "INFO:torchbiggraph:Writing the metadata\n",
            "INFO:torchbiggraph:Writing the training stats\n",
            "INFO:torchbiggraph:Writing the checkpoint\n",
            "INFO:torchbiggraph:Switching to the new checkpoint version\n",
            "INFO:torchbiggraph:Starting epoch 29 / 30, edge path 1 / 1, edge chunk 1 / 1\n",
            "INFO:torchbiggraph:Edge path: data/train_partitioned\n",
            "INFO:torchbiggraph:still in queue: 0\n",
            "INFO:torchbiggraph:Swapping partitioned embeddings None ( 0 , 0 )\n",
            "INFO:torchbiggraph:Loading partitioned embeddings from checkpoint\n",
            "INFO:torchbiggraph:( 0 , 0 ): Stats before training: loss:  377.937 , pos_rank:  575.447 , mrr:  0.0655597 , r1:  0.0433318 , r10:  0.100921 , r50:  0.173889 , auc:  0.705546 , count:  4454\n",
            "INFO:torchbiggraph:( 0 , 0 ): Training stats: loss:  1.95057 , reg:  0 , violators_lhs:  4.43175 , violators_rhs:  3.28986 , count:  84644\n",
            "INFO:torchbiggraph:( 0 , 0 ): Stats after training: loss:  377.062 , pos_rank:  575.49 , mrr:  0.0625024 , r1:  0.041648 , r10:  0.0966547 , r50:  0.173215 , auc:  0.706219 , count:  4454\n",
            "INFO:torchbiggraph:( 0 , 0 ): bucket 1 / 1 : Trained 84644 edges in 0.64 s ( 0.13 M/sec ); Eval 2*4454 edges in 0.26 s ( 0.034 M/sec ); io: 0.03 s for 11,342,576 bytes ( 357.78 MB/sec )\n",
            "INFO:torchbiggraph:Swapping partitioned embeddings ( 0 , 0 ) None\n",
            "INFO:torchbiggraph:Saving partitioned embeddings to checkpoint\n",
            "INFO:torchbiggraph:Finished epoch 29 / 30, edge path 1 / 1, edge chunk 1 / 1\n",
            "INFO:torchbiggraph:Writing the metadata\n",
            "INFO:torchbiggraph:Writing the training stats\n",
            "INFO:torchbiggraph:Writing the checkpoint\n",
            "INFO:torchbiggraph:Switching to the new checkpoint version\n",
            "INFO:torchbiggraph:Starting epoch 30 / 30, edge path 1 / 1, edge chunk 1 / 1\n",
            "INFO:torchbiggraph:Edge path: data/train_partitioned\n",
            "INFO:torchbiggraph:still in queue: 0\n",
            "INFO:torchbiggraph:Swapping partitioned embeddings None ( 0 , 0 )\n",
            "INFO:torchbiggraph:Loading partitioned embeddings from checkpoint\n",
            "INFO:torchbiggraph:( 0 , 0 ): Stats before training: loss:  377.205 , pos_rank:  575.86 , mrr:  0.0614766 , r1:  0.0398518 , r10:  0.0973282 , r50:  0.171756 , auc:  0.709587 , count:  4454\n",
            "INFO:torchbiggraph:( 0 , 0 ): Training stats: loss:  1.94235 , reg:  0 , violators_lhs:  4.42591 , violators_rhs:  3.28877 , count:  84644\n",
            "INFO:torchbiggraph:( 0 , 0 ): Stats after training: loss:  376.96 , pos_rank:  576.951 , mrr:  0.0604663 , r1:  0.0392905 , r10:  0.0940727 , r50:  0.167265 , auc:  0.711046 , count:  4454\n",
            "INFO:torchbiggraph:( 0 , 0 ): bucket 1 / 1 : Trained 84644 edges in 0.64 s ( 0.13 M/sec ); Eval 2*4454 edges in 0.25 s ( 0.036 M/sec ); io: 0.03 s for 11,342,576 bytes ( 429.90 MB/sec )\n",
            "INFO:torchbiggraph:Swapping partitioned embeddings ( 0 , 0 ) None\n",
            "INFO:torchbiggraph:Saving partitioned embeddings to checkpoint\n",
            "INFO:torchbiggraph:Finished epoch 30 / 30, edge path 1 / 1, edge chunk 1 / 1\n",
            "INFO:torchbiggraph:Writing the metadata\n",
            "INFO:torchbiggraph:Writing the training stats\n",
            "INFO:torchbiggraph:Writing the checkpoint\n",
            "INFO:torchbiggraph:Switching to the new checkpoint version\n",
            "INFO:torchbiggraph:Exiting\n"
          ]
        }
      ]
    },
    {
      "cell_type": "code",
      "source": [
        "eval_config = attr.evolve(config, edge_paths=[output_test_path])\n",
        "do_eval(eval_config, subprocess_init=subprocess_init)"
      ],
      "metadata": {
        "colab": {
          "base_uri": "https://localhost:8080/"
        },
        "id": "YTI_xjLuFeVd",
        "outputId": "c35ca0eb-78b0-4097-c18e-1621ceee4d18"
      },
      "execution_count": 13,
      "outputs": [
        {
          "output_type": "stream",
          "name": "stderr",
          "text": [
            "INFO:torchbiggraph:Starting edge path 1 / 1 (data/test_partitioned)\n",
            "INFO:torchbiggraph:( 0 , 0 ): Processed 22275 edges in 1.5 s (0.014M/sec); load time: 0.031 s\n",
            "INFO:torchbiggraph:Stats for edge path 1 / 1, bucket ( 0 , 0 ): loss:  20.6758 , pos_rank:  32.6705 , mrr:  0.16814 , r1:  0.0887542 , r10:  0.335937 , r50:  0.723771 , auc:  0.699731 , count:  22275\n",
            "INFO:torchbiggraph:\n",
            "INFO:torchbiggraph:Stats for edge path 1 / 1: loss:  20.6758 , pos_rank:  32.6705 , mrr:  0.16814 , r1:  0.0887542 , r10:  0.335937 , r50:  0.723771 , auc:  0.699731 , count:  22275\n",
            "INFO:torchbiggraph:\n",
            "INFO:torchbiggraph:\n",
            "INFO:torchbiggraph:Stats: loss:  20.6758 , pos_rank:  32.6705 , mrr:  0.16814 , r1:  0.0887542 , r10:  0.335937 , r50:  0.723771 , auc:  0.699731 , count:  22275\n",
            "INFO:torchbiggraph:\n"
          ]
        }
      ]
    },
    {
      "cell_type": "markdown",
      "source": [
        "## Save embeddings"
      ],
      "metadata": {
        "id": "XdtRjULVLS8t"
      }
    },
    {
      "cell_type": "code",
      "source": [
        "!torchbiggraph_export_to_tsv \\\n",
        "    'PyTorch-BigGraph/torchbiggraph/examples/configs/politifact_config.py' \\\n",
        "    --entities-output entity_embeddings.tsv \\\n",
        "    --relation-types-output relation_types_parameters.tsv"
      ],
      "metadata": {
        "colab": {
          "base_uri": "https://localhost:8080/"
        },
        "id": "aaY3jLuWV6K4",
        "outputId": "9174004e-3df6-47b0-b05c-6e9fde788089"
      },
      "execution_count": null,
      "outputs": [
        {
          "output_type": "stream",
          "name": "stdout",
          "text": [
            "Loading relation types and entities...\n",
            "Initializing model...\n",
            "Loading model check point...\n",
            "Writing entity embeddings...\n",
            "Reading embeddings for entity type user partition 0 from checkpoint...\n",
            "Writing embeddings for entity type user partition 0 to output file...\n",
            "- Processed 5000/71759 entities so far...\n",
            "- Processed 10000/71759 entities so far...\n",
            "- Processed 15000/71759 entities so far...\n",
            "- Processed 20000/71759 entities so far...\n",
            "- Processed 25000/71759 entities so far...\n",
            "- Processed 30000/71759 entities so far...\n",
            "- Processed 35000/71759 entities so far...\n",
            "- Processed 40000/71759 entities so far...\n",
            "- Processed 45000/71759 entities so far...\n",
            "- Processed 50000/71759 entities so far...\n",
            "- Processed 55000/71759 entities so far...\n",
            "- Processed 60000/71759 entities so far...\n",
            "- Processed 65000/71759 entities so far...\n",
            "- Processed 70000/71759 entities so far...\n",
            "- Processed all 71759 entities\n",
            "Reading embeddings for entity type article partition 0 from checkpoint...\n",
            "Writing embeddings for entity type article partition 0 to output file...\n",
            "- Processed all 149 entities\n",
            "Done exporting entity data to entity_embeddings.tsv\n",
            "Writing relation type parameters...\n",
            "Done exporting relation type data to relation_types_parameters.tsv\n"
          ]
        }
      ]
    },
    {
      "cell_type": "markdown",
      "source": [
        "### Save article embeddings"
      ],
      "metadata": {
        "id": "uOr3ukfCQ8be"
      }
    },
    {
      "cell_type": "code",
      "source": [
        "import numpy as np\n",
        "\n",
        "from torchbiggraph.checkpoint_manager import CheckpointManager\n",
        "from torchbiggraph.config import ConfigFileLoader, ConfigSchema\n",
        "from torchbiggraph.graph_storages import (\n",
        "    AbstractEntityStorage,\n",
        "    AbstractRelationTypeStorage,\n",
        "    ENTITY_STORAGES,\n",
        "    RELATION_TYPE_STORAGES,\n",
        ")\n",
        "from torchbiggraph.model import make_model, MultiRelationEmbedder"
      ],
      "metadata": {
        "id": "Oy8omdmFGPle"
      },
      "execution_count": null,
      "outputs": []
    },
    {
      "cell_type": "code",
      "source": [
        "ent_t_name = 'article'"
      ],
      "metadata": {
        "id": "3rmdTpAILZaj"
      },
      "execution_count": null,
      "outputs": []
    },
    {
      "cell_type": "code",
      "source": [
        "entity_storage = ENTITY_STORAGES.make_instance(config.entity_path)\n",
        "relation_type_storage = RELATION_TYPE_STORAGES.make_instance(config.entity_path)\n",
        "\n",
        "print(\"Initializing model...\")\n",
        "model = make_model(config)\n",
        "\n",
        "print(\"Loading model check point...\")\n",
        "checkpoint_manager = CheckpointManager(config.checkpoint_path)\n",
        "state_dict, _ = checkpoint_manager.read_model()\n",
        "if state_dict is not None:\n",
        "    model.load_state_dict(state_dict, strict=False)"
      ],
      "metadata": {
        "colab": {
          "base_uri": "https://localhost:8080/"
        },
        "id": "0OlBL3RqISAk",
        "outputId": "a34d69cc-f647-4b9c-d13c-d2e1b4ed28bf"
      },
      "execution_count": null,
      "outputs": [
        {
          "output_type": "stream",
          "name": "stdout",
          "text": [
            "Initializing model...\n",
            "Loading model check point...\n"
          ]
        }
      ]
    },
    {
      "cell_type": "code",
      "source": [
        "ent_t_config = model.entities[ent_t_name]"
      ],
      "metadata": {
        "id": "AQz7ZblHI5Hy"
      },
      "execution_count": null,
      "outputs": []
    },
    {
      "cell_type": "code",
      "source": [
        "entities = []\n",
        "embeddings = []\n",
        "for partition in range(ent_t_config.num_partitions):\n",
        "    print(\n",
        "        f\"Reading embeddings for entity type {ent_t_name} partition \"\n",
        "        f\"{partition} from checkpoint...\"\n",
        "    )\n",
        "    entities.extend(entity_storage.load_names(ent_t_name, partition))\n",
        "    embeddings_, _ = checkpoint_manager.read(ent_t_name, partition)\n",
        "\n",
        "    if model.global_embs is not None:\n",
        "        embeddings_ += model.global_embs[model.EMB_PREFIX + ent_t_name]\n",
        "    embeddings.append(embeddings_)\n",
        "\n",
        "embeddings = np.concatenate(embeddings)"
      ],
      "metadata": {
        "colab": {
          "base_uri": "https://localhost:8080/"
        },
        "id": "jsjFJD8pIm9E",
        "outputId": "b2a04b5a-9ade-4293-e154-9e7decf41839"
      },
      "execution_count": null,
      "outputs": [
        {
          "output_type": "stream",
          "name": "stdout",
          "text": [
            "Reading embeddings for entity type article partition 0 from checkpoint...\n"
          ]
        }
      ]
    },
    {
      "cell_type": "code",
      "source": [
        "np.save(base_dir/f'pt_biggraph_article_idx_{dimension}.npy', np.array([int(e) for e in entities]))\n",
        "np.save(base_dir/f'pt_biggraph_article_embeddings_{dimension}.npy', embeddings)"
      ],
      "metadata": {
        "id": "gEHxv2O4MLyW"
      },
      "execution_count": null,
      "outputs": []
    },
    {
      "cell_type": "code",
      "source": [],
      "metadata": {
        "id": "ZSUvXc2xQBIj"
      },
      "execution_count": null,
      "outputs": []
    }
  ]
}