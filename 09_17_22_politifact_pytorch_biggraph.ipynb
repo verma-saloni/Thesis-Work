{
  "nbformat": 4,
  "nbformat_minor": 0,
  "metadata": {
    "colab": {
      "provenance": [],
      "collapsed_sections": [],
      "include_colab_link": true
    },
    "kernelspec": {
      "name": "python3",
      "display_name": "Python 3"
    },
    "language_info": {
      "name": "python"
    },
    "accelerator": "GPU"
  },
  "cells": [
    {
      "cell_type": "markdown",
      "metadata": {
        "id": "view-in-github",
        "colab_type": "text"
      },
      "source": [
        "<a href=\"https://colab.research.google.com/github/verma-saloni/Thesis-Work/blob/main/09_17_22_politifact_pytorch_biggraph.ipynb\" target=\"_parent\"><img src=\"https://colab.research.google.com/assets/colab-badge.svg\" alt=\"Open In Colab\"/></a>"
      ]
    },
    {
      "cell_type": "code",
      "execution_count": 1,
      "metadata": {
        "id": "xpTeMbYZwmf7"
      },
      "outputs": [],
      "source": [
        "!pip -qq install jsonlines"
      ]
    },
    {
      "cell_type": "markdown",
      "source": [
        "Installing the libraries and cloning the working Git repo. "
      ],
      "metadata": {
        "id": "cQw_mgtzNbei"
      }
    },
    {
      "cell_type": "code",
      "source": [
        "!git clone -qb working https://github.com/arampacha/PyTorch-BigGraph"
      ],
      "metadata": {
        "id": "Vne7O50jOJRz"
      },
      "execution_count": 2,
      "outputs": []
    },
    {
      "cell_type": "code",
      "source": [
        "%cd PyTorch-BigGraph/\n",
        "!pip -qq install .\n",
        "%cd /content/"
      ],
      "metadata": {
        "id": "fKc3Ix04OThj",
        "colab": {
          "base_uri": "https://localhost:8080/"
        },
        "outputId": "09154d65-127d-4d6e-e158-c26dd8cd875e"
      },
      "execution_count": 3,
      "outputs": [
        {
          "output_type": "stream",
          "name": "stdout",
          "text": [
            "/content/PyTorch-BigGraph\n",
            "\u001b[33m  DEPRECATION: A future pip version will change local packages to be built in-place without first copying to a temporary directory. We recommend you use --use-feature=in-tree-build to test your packages with this new behavior before it becomes the default.\n",
            "   pip 21.3 will remove support for this functionality. You can find discussion regarding this at https://github.com/pypa/pip/issues/7555.\u001b[0m\n",
            "  Building wheel for torchbiggraph (setup.py) ... \u001b[?25l\u001b[?25hdone\n",
            "/content\n"
          ]
        }
      ]
    },
    {
      "cell_type": "code",
      "source": [
        "from google.colab import drive\n",
        "drive.mount('/gdrive')\n",
        "\n",
        "from pathlib import Path\n",
        "base_dir = Path(\"/gdrive/MyDrive/ResearchFND\")\n",
        "assert base_dir.exists()"
      ],
      "metadata": {
        "colab": {
          "base_uri": "https://localhost:8080/"
        },
        "id": "UxNEaltli8H_",
        "outputId": "5a3fb01d-2242-4ea2-a1b7-11d971a49fbe"
      },
      "execution_count": 5,
      "outputs": [
        {
          "output_type": "stream",
          "name": "stdout",
          "text": [
            "Mounted at /gdrive\n"
          ]
        }
      ]
    },
    {
      "cell_type": "markdown",
      "source": [
        "If the file exists fro previous runs of other embedding dimension, it can be reused for a quicker run (optimisation technique)"
      ],
      "metadata": {
        "id": "wJuQSTXnNgHe"
      }
    },
    {
      "cell_type": "code",
      "source": [
        "(base_dir/'politifact_edges.txt').exists()"
      ],
      "metadata": {
        "colab": {
          "base_uri": "https://localhost:8080/"
        },
        "id": "l39QT3APPL_v",
        "outputId": "b4feabc5-8bde-4158-82d7-56dd9d62fa22"
      },
      "execution_count": 6,
      "outputs": [
        {
          "output_type": "execute_result",
          "data": {
            "text/plain": [
              "True"
            ]
          },
          "metadata": {},
          "execution_count": 6
        }
      ]
    },
    {
      "cell_type": "markdown",
      "source": [
        "## Data prep\n",
        "\n",
        "> THIS STEP CAN BE SKIPPED IF `politifact_edges.txt` exists"
      ],
      "metadata": {
        "id": "NHdG78wwVumY"
      }
    },
    {
      "cell_type": "code",
      "source": [
        "import pandas as pd\n",
        "import ast"
      ],
      "metadata": {
        "id": "7tPiW_FBWO8s"
      },
      "execution_count": 7,
      "outputs": []
    },
    {
      "cell_type": "code",
      "source": [
        "df = pd.read_csv(base_dir/'politifact_agg.csv', index_col=0)\n",
        "df.head(2)"
      ],
      "metadata": {
        "colab": {
          "base_uri": "https://localhost:8080/",
          "height": 166
        },
        "id": "0BsiweMKV3Kt",
        "outputId": "98788634-7173-4c6f-b59e-3bc907dcf01c"
      },
      "execution_count": null,
      "outputs": [
        {
          "output_type": "execute_result",
          "data": {
            "text/plain": [
              "                                               title text tweets  \\\n",
              "0   Actress Emma Stone ‘For the first time in his...  NaN     []   \n",
              "1   Breaking President Trump makes English the of...  NaN     []   \n",
              "\n",
              "                                            retweets label  url tweet_ids  \\\n",
              "0  ['1020554564334964741', '1020817527046197248',...  fake  NaN        []   \n",
              "1                                                 []  fake  NaN        []   \n",
              "\n",
              "   num_retweets  log_num_retweets  num_tweets  log_num_tweets  \n",
              "0          2911          7.976595           0             0.0  \n",
              "1             0          0.000000           0             0.0  "
            ],
            "text/html": [
              "\n",
              "  <div id=\"df-fd641558-9248-4b9c-9b5c-01fb3689e44e\">\n",
              "    <div class=\"colab-df-container\">\n",
              "      <div>\n",
              "<style scoped>\n",
              "    .dataframe tbody tr th:only-of-type {\n",
              "        vertical-align: middle;\n",
              "    }\n",
              "\n",
              "    .dataframe tbody tr th {\n",
              "        vertical-align: top;\n",
              "    }\n",
              "\n",
              "    .dataframe thead th {\n",
              "        text-align: right;\n",
              "    }\n",
              "</style>\n",
              "<table border=\"1\" class=\"dataframe\">\n",
              "  <thead>\n",
              "    <tr style=\"text-align: right;\">\n",
              "      <th></th>\n",
              "      <th>title</th>\n",
              "      <th>text</th>\n",
              "      <th>tweets</th>\n",
              "      <th>retweets</th>\n",
              "      <th>label</th>\n",
              "      <th>url</th>\n",
              "      <th>tweet_ids</th>\n",
              "      <th>num_retweets</th>\n",
              "      <th>log_num_retweets</th>\n",
              "      <th>num_tweets</th>\n",
              "      <th>log_num_tweets</th>\n",
              "    </tr>\n",
              "  </thead>\n",
              "  <tbody>\n",
              "    <tr>\n",
              "      <th>0</th>\n",
              "      <td>Actress Emma Stone ‘For the first time in his...</td>\n",
              "      <td>NaN</td>\n",
              "      <td>[]</td>\n",
              "      <td>['1020554564334964741', '1020817527046197248',...</td>\n",
              "      <td>fake</td>\n",
              "      <td>NaN</td>\n",
              "      <td>[]</td>\n",
              "      <td>2911</td>\n",
              "      <td>7.976595</td>\n",
              "      <td>0</td>\n",
              "      <td>0.0</td>\n",
              "    </tr>\n",
              "    <tr>\n",
              "      <th>1</th>\n",
              "      <td>Breaking President Trump makes English the of...</td>\n",
              "      <td>NaN</td>\n",
              "      <td>[]</td>\n",
              "      <td>[]</td>\n",
              "      <td>fake</td>\n",
              "      <td>NaN</td>\n",
              "      <td>[]</td>\n",
              "      <td>0</td>\n",
              "      <td>0.000000</td>\n",
              "      <td>0</td>\n",
              "      <td>0.0</td>\n",
              "    </tr>\n",
              "  </tbody>\n",
              "</table>\n",
              "</div>\n",
              "      <button class=\"colab-df-convert\" onclick=\"convertToInteractive('df-fd641558-9248-4b9c-9b5c-01fb3689e44e')\"\n",
              "              title=\"Convert this dataframe to an interactive table.\"\n",
              "              style=\"display:none;\">\n",
              "        \n",
              "  <svg xmlns=\"http://www.w3.org/2000/svg\" height=\"24px\"viewBox=\"0 0 24 24\"\n",
              "       width=\"24px\">\n",
              "    <path d=\"M0 0h24v24H0V0z\" fill=\"none\"/>\n",
              "    <path d=\"M18.56 5.44l.94 2.06.94-2.06 2.06-.94-2.06-.94-.94-2.06-.94 2.06-2.06.94zm-11 1L8.5 8.5l.94-2.06 2.06-.94-2.06-.94L8.5 2.5l-.94 2.06-2.06.94zm10 10l.94 2.06.94-2.06 2.06-.94-2.06-.94-.94-2.06-.94 2.06-2.06.94z\"/><path d=\"M17.41 7.96l-1.37-1.37c-.4-.4-.92-.59-1.43-.59-.52 0-1.04.2-1.43.59L10.3 9.45l-7.72 7.72c-.78.78-.78 2.05 0 2.83L4 21.41c.39.39.9.59 1.41.59.51 0 1.02-.2 1.41-.59l7.78-7.78 2.81-2.81c.8-.78.8-2.07 0-2.86zM5.41 20L4 18.59l7.72-7.72 1.47 1.35L5.41 20z\"/>\n",
              "  </svg>\n",
              "      </button>\n",
              "      \n",
              "  <style>\n",
              "    .colab-df-container {\n",
              "      display:flex;\n",
              "      flex-wrap:wrap;\n",
              "      gap: 12px;\n",
              "    }\n",
              "\n",
              "    .colab-df-convert {\n",
              "      background-color: #E8F0FE;\n",
              "      border: none;\n",
              "      border-radius: 50%;\n",
              "      cursor: pointer;\n",
              "      display: none;\n",
              "      fill: #1967D2;\n",
              "      height: 32px;\n",
              "      padding: 0 0 0 0;\n",
              "      width: 32px;\n",
              "    }\n",
              "\n",
              "    .colab-df-convert:hover {\n",
              "      background-color: #E2EBFA;\n",
              "      box-shadow: 0px 1px 2px rgba(60, 64, 67, 0.3), 0px 1px 3px 1px rgba(60, 64, 67, 0.15);\n",
              "      fill: #174EA6;\n",
              "    }\n",
              "\n",
              "    [theme=dark] .colab-df-convert {\n",
              "      background-color: #3B4455;\n",
              "      fill: #D2E3FC;\n",
              "    }\n",
              "\n",
              "    [theme=dark] .colab-df-convert:hover {\n",
              "      background-color: #434B5C;\n",
              "      box-shadow: 0px 1px 3px 1px rgba(0, 0, 0, 0.15);\n",
              "      filter: drop-shadow(0px 1px 2px rgba(0, 0, 0, 0.3));\n",
              "      fill: #FFFFFF;\n",
              "    }\n",
              "  </style>\n",
              "\n",
              "      <script>\n",
              "        const buttonEl =\n",
              "          document.querySelector('#df-fd641558-9248-4b9c-9b5c-01fb3689e44e button.colab-df-convert');\n",
              "        buttonEl.style.display =\n",
              "          google.colab.kernel.accessAllowed ? 'block' : 'none';\n",
              "\n",
              "        async function convertToInteractive(key) {\n",
              "          const element = document.querySelector('#df-fd641558-9248-4b9c-9b5c-01fb3689e44e');\n",
              "          const dataTable =\n",
              "            await google.colab.kernel.invokeFunction('convertToInteractive',\n",
              "                                                     [key], {});\n",
              "          if (!dataTable) return;\n",
              "\n",
              "          const docLinkHtml = 'Like what you see? Visit the ' +\n",
              "            '<a target=\"_blank\" href=https://colab.research.google.com/notebooks/data_table.ipynb>data table notebook</a>'\n",
              "            + ' to learn more about interactive tables.';\n",
              "          element.innerHTML = '';\n",
              "          dataTable['output_type'] = 'display_data';\n",
              "          await google.colab.output.renderOutput(dataTable, element);\n",
              "          const docLink = document.createElement('div');\n",
              "          docLink.innerHTML = docLinkHtml;\n",
              "          element.appendChild(docLink);\n",
              "        }\n",
              "      </script>\n",
              "    </div>\n",
              "  </div>\n",
              "  "
            ]
          },
          "metadata": {},
          "execution_count": 6
        }
      ]
    },
    {
      "cell_type": "code",
      "source": [
        "df['tweets'] = df.tweets.map(ast.literal_eval)"
      ],
      "metadata": {
        "id": "cruZFCpNWRLb"
      },
      "execution_count": null,
      "outputs": []
    },
    {
      "cell_type": "code",
      "source": [
        "users_tweeted = df.tweets.map(lambda x: [int(e['user_id']) for e in x])"
      ],
      "metadata": {
        "id": "wH5i98HOWz1w"
      },
      "execution_count": null,
      "outputs": []
    },
    {
      "cell_type": "code",
      "source": [
        "len(users_tweeted), sum(users_tweeted.map(len) > 0)"
      ],
      "metadata": {
        "colab": {
          "base_uri": "https://localhost:8080/"
        },
        "id": "exnDy-5ud_uJ",
        "outputId": "61d30ca6-e1ae-49a4-d7b0-c8247c3cb9ff"
      },
      "execution_count": null,
      "outputs": [
        {
          "output_type": "execute_result",
          "data": {
            "text/plain": [
              "(894, 149)"
            ]
          },
          "metadata": {},
          "execution_count": 9
        }
      ]
    },
    {
      "cell_type": "code",
      "source": [
        "import os\n",
        "import jsonlines\n",
        "import numpy as np\n",
        "import torch\n",
        "\n",
        "import IPython.display as ipd"
      ],
      "metadata": {
        "id": "yp52MLR1mdxA"
      },
      "execution_count": null,
      "outputs": []
    },
    {
      "cell_type": "code",
      "source": [
        "follow_src = []\n",
        "follow_dst = []\n",
        "with jsonlines.open(base_dir/\"followers.jsonl\") as reader:\n",
        "    for line in reader:\n",
        "        v = line[\"user_id\"]\n",
        "        for u in line[\"followers\"]:\n",
        "            follow_src.append(u)\n",
        "            follow_dst.append(v)"
      ],
      "metadata": {
        "id": "h3XOCaEwoMvx"
      },
      "execution_count": null,
      "outputs": []
    },
    {
      "cell_type": "code",
      "source": [
        "with jsonlines.open(base_dir/\"following.jsonl\") as reader:\n",
        "    for line in reader:\n",
        "        u = line[\"user_id\"]\n",
        "        for v in line[\"following\"]:\n",
        "            follow_src.append(u)\n",
        "            follow_dst.append(v)"
      ],
      "metadata": {
        "id": "sWJFoJ_4oMvz"
      },
      "execution_count": null,
      "outputs": []
    },
    {
      "cell_type": "code",
      "source": [
        "tweet_src = []\n",
        "tweet_dst = []\n",
        "\n",
        "for v, l in users_tweeted.iteritems():\n",
        "    if not len(l):\n",
        "        continue\n",
        "    for u in l:\n",
        "        tweet_src.append(u)\n",
        "        tweet_dst.append(v)"
      ],
      "metadata": {
        "id": "DWM9MEXDpiyX"
      },
      "execution_count": null,
      "outputs": []
    },
    {
      "cell_type": "code",
      "source": [
        "with open('edges.txt', 'w') as f:\n",
        "    for src, dst in zip(follow_src, follow_dst):\n",
        "        f.write(f\"{src}\\t{dst}\\tfollows\\n\")\n",
        "    for src, dst in zip(tweet_src, tweet_dst):\n",
        "        f.write(f\"{src}\\t{dst}\\ttwitted\\n\")"
      ],
      "metadata": {
        "id": "OkIxZJL5UuD0"
      },
      "execution_count": null,
      "outputs": []
    },
    {
      "cell_type": "code",
      "source": [
        "!head -n 5 edges.txt"
      ],
      "metadata": {
        "colab": {
          "base_uri": "https://localhost:8080/"
        },
        "id": "QHqWee-K9jDA",
        "outputId": "361227c0-7b21-45c7-fd1c-406c6c61f5c6"
      },
      "execution_count": null,
      "outputs": [
        {
          "output_type": "stream",
          "name": "stdout",
          "text": [
            "983553159057498114\t961251714857828357\tfollows\n",
            "988529911873921024\t961251714857828357\tfollows\n",
            "961635897929359360\t961251714857828357\tfollows\n",
            "159717173\t961251714857828357\tfollows\n",
            "4737344780\t961251714857828357\tfollows\n"
          ]
        }
      ]
    },
    {
      "cell_type": "code",
      "source": [
        "!cp edges.txt $base_dir/"
      ],
      "metadata": {
        "id": "wF1RCfArK1bW"
      },
      "execution_count": null,
      "outputs": []
    },
    {
      "cell_type": "markdown",
      "source": [
        "## Training"
      ],
      "metadata": {
        "id": "A9DZtJEvKUrH"
      }
    },
    {
      "cell_type": "markdown",
      "source": [
        "Starting the training using the edges file and creating the path to be traversed for PBG embeddings. "
      ],
      "metadata": {
        "id": "rdqzYu1nNkcY"
      }
    },
    {
      "cell_type": "markdown",
      "source": [],
      "metadata": {
        "id": "wrRkkWEtNmtV"
      }
    },
    {
      "cell_type": "code",
      "source": [
        "import random\n",
        "from pathlib import Path\n",
        "\n",
        "import attr\n",
        "import pkg_resources\n",
        "from torchbiggraph.config import add_to_sys_path, ConfigFileLoader\n",
        "from torchbiggraph.converters.importers import convert_input_data, TSVEdgelistReader\n",
        "from torchbiggraph.converters.utils import download_url, extract_gzip, extract_tar\n",
        "from torchbiggraph.eval import do_eval\n",
        "from torchbiggraph.train import train\n",
        "from torchbiggraph.util import (\n",
        "    set_logging_verbosity,\n",
        "    setup_logging,\n",
        "    SubprocessInitializer,\n",
        ")"
      ],
      "metadata": {
        "id": "2AfA9wOUQFzE"
      },
      "execution_count": 8,
      "outputs": []
    },
    {
      "cell_type": "code",
      "source": [
        "data_dir = Path('./data')\n",
        "data_dir.mkdir(parents=True, exist_ok=True)\n",
        "fpath = base_dir/'politifact_edges.txt'"
      ],
      "metadata": {
        "id": "EhJ-IR1D2_Qx"
      },
      "execution_count": 9,
      "outputs": []
    },
    {
      "cell_type": "code",
      "source": [
        "import random\n",
        "\n",
        "def split_edges(input_file, pct=0.8, train_file='data/train_edges.txt', valid_file='data/valid_edges.txt'):\n",
        "\n",
        "    with open(input_file) as f:\n",
        "        lines = f.readlines()\n",
        "\n",
        "    follow_edges, tweet_edges = [], []\n",
        "    for line in lines:\n",
        "        if line.strip().endswith('follows'):\n",
        "            follow_edges.append(line)\n",
        "        else:\n",
        "            tweet_edges.append(line)\n",
        "\n",
        "    random.shuffle(follow_edges)\n",
        "    random.shuffle(tweet_edges)\n",
        "    follow_split, tweet_split = int(pct*len(follow_edges)), int(pct*len(tweet_edges))\n",
        "    train_edges = follow_edges[:follow_split] + tweet_edges[:tweet_split]\n",
        "    valid_edges = follow_edges[follow_split:] + tweet_edges[tweet_split:]\n",
        "\n",
        "    with open(train_file, 'w') as f:\n",
        "        f.writelines(train_edges)\n",
        "\n",
        "    with open(valid_file, 'w') as f:\n",
        "        f.writelines(valid_edges)"
      ],
      "metadata": {
        "id": "6IufRqmI_3yy"
      },
      "execution_count": 10,
      "outputs": []
    },
    {
      "cell_type": "code",
      "source": [
        "split_edges(fpath)"
      ],
      "metadata": {
        "id": "m8CRfFnyAPob"
      },
      "execution_count": 11,
      "outputs": []
    },
    {
      "cell_type": "markdown",
      "source": [
        "Below we define the dimension length, can be customised and changed to accomodate for a bigger or smaller DS. "
      ],
      "metadata": {
        "id": "kbF0WU3LNq-4"
      }
    },
    {
      "cell_type": "code",
      "source": [
        "dimension = 64\n",
        "\n",
        "loader = ConfigFileLoader()\n",
        "config = loader.load_config('PyTorch-BigGraph/torchbiggraph/examples/configs/politifact_config.py', [[f'dimension={dimension}']])\n",
        "set_logging_verbosity(0)\n",
        "subprocess_init = SubprocessInitializer()\n",
        "subprocess_init.register(setup_logging, 0)\n",
        "subprocess_init.register(add_to_sys_path, loader.config_dir.name)\n",
        "input_edge_paths = [data_dir/'train_edges.txt', data_dir/'valid_edges.txt']\n",
        "output_train_path, output_test_path = config.edge_paths"
      ],
      "metadata": {
        "id": "arg_IAqn9SPt"
      },
      "execution_count": 12,
      "outputs": []
    },
    {
      "cell_type": "code",
      "source": [
        "convert_input_data(\n",
        "    config.entities,\n",
        "    config.relations,\n",
        "    config.entity_path,\n",
        "    config.edge_paths,\n",
        "    input_edge_paths,\n",
        "    TSVEdgelistReader(lhs_col=0, rhs_col=1, rel_col=2),\n",
        "    dynamic_relations=config.dynamic_relations,\n",
        ")"
      ],
      "metadata": {
        "colab": {
          "base_uri": "https://localhost:8080/"
        },
        "id": "oTXJLODH-RQx",
        "outputId": "76196570-9226-473d-83f1-3f2fc8ad4c96"
      },
      "execution_count": 13,
      "outputs": [
        {
          "output_type": "stream",
          "name": "stdout",
          "text": [
            "[2022-09-17 06:51:59.002438] Using the 2 relation types given in the config\n",
            "[2022-09-17 06:51:59.004279] Searching for the entities in the edge files...\n",
            "[2022-09-17 06:51:59.231080] Entity type user:\n",
            "[2022-09-17 06:51:59.232718] - Found 71759 entities\n",
            "[2022-09-17 06:51:59.235871] - Removing the ones with fewer than 1 occurrences...\n",
            "[2022-09-17 06:51:59.254318] - Left with 71759 entities\n",
            "[2022-09-17 06:51:59.256899] - Shuffling them...\n",
            "[2022-09-17 06:51:59.316336] Entity type article:\n",
            "[2022-09-17 06:51:59.317383] - Found 149 entities\n",
            "[2022-09-17 06:51:59.320261] - Removing the ones with fewer than 1 occurrences...\n",
            "[2022-09-17 06:51:59.323541] - Left with 149 entities\n",
            "[2022-09-17 06:51:59.326298] - Shuffling them...\n",
            "[2022-09-17 06:51:59.329193] Preparing counts and dictionaries for entities and relation types:\n",
            "[2022-09-17 06:51:59.331278] - Writing count of entity type user and partition 0\n",
            "[2022-09-17 06:51:59.375221] - Writing count of entity type article and partition 0\n",
            "[2022-09-17 06:51:59.378848] Preparing edge path data/train_partitioned, out of the edges found in data/train_edges.txt\n",
            "[2022-09-17 06:51:59.380035] - Edges will be partitioned in 1 x 1 buckets.\n",
            "[2022-09-17 06:52:00.360162] - Processed 89098 edges in total\n",
            "[2022-09-17 06:52:00.366238] Preparing edge path data/test_partitioned, out of the edges found in data/valid_edges.txt\n",
            "[2022-09-17 06:52:00.369360] - Edges will be partitioned in 1 x 1 buckets.\n",
            "[2022-09-17 06:52:00.882887] - Processed 22275 edges in total\n"
          ]
        }
      ]
    },
    {
      "cell_type": "code",
      "source": [
        "train_config = attr.evolve(config, edge_paths=[output_train_path])\n",
        "train(train_config, subprocess_init=subprocess_init)"
      ],
      "metadata": {
        "colab": {
          "base_uri": "https://localhost:8080/"
        },
        "id": "xMLAogkkFQKW",
        "outputId": "76673028-2bef-4279-bcc3-183e4c2d3f72"
      },
      "execution_count": 14,
      "outputs": [
        {
          "output_type": "stream",
          "name": "stderr",
          "text": [
            "INFO:torchbiggraph:Loading entity counts...\n",
            "INFO:torchbiggraph:Creating workers...\n",
            "INFO:torchbiggraph:Initializing global model...\n",
            "INFO:torchbiggraph:Starting epoch 1 / 30, edge path 1 / 1, edge chunk 1 / 1\n",
            "INFO:torchbiggraph:Edge path: data/train_partitioned\n",
            "INFO:torchbiggraph:still in queue: 0\n",
            "INFO:torchbiggraph:Swapping partitioned embeddings None ( 0 , 0 )\n",
            "INFO:torchbiggraph:Loading partitioned embeddings from checkpoint\n",
            "INFO:torchbiggraph:( 0 , 0 ): Stats before training: loss:  515.227 , pos_rank:  946.707 , mrr:  0.00386633 , r1:  0.000898069 , r10:  0.00314324 , r50:  0.0181859 , auc:  0.506623 , count:  4454\n",
            "INFO:torchbiggraph:( 0 , 0 ): Training stats: loss:  22.4724 , reg:  0 , violators_lhs:  38.2765 , violators_rhs:  38.0511 , count:  84644\n",
            "INFO:torchbiggraph:( 0 , 0 ): Stats after training: loss:  341.602 , pos_rank:  570.596 , mrr:  0.0630184 , r1:  0.0447912 , r10:  0.0883476 , r50:  0.165581 , auc:  0.709138 , count:  4454\n",
            "INFO:torchbiggraph:( 0 , 0 ): bucket 1 / 1 : Trained 84644 edges in 0.86 s ( 0.098 M/sec ); Eval 2*4454 edges in 1.75 s ( 0.0051 M/sec ); io: 0.09 s for 20,546,800 bytes ( 237.28 MB/sec )\n",
            "INFO:torchbiggraph:Swapping partitioned embeddings ( 0 , 0 ) None\n",
            "INFO:torchbiggraph:Saving partitioned embeddings to checkpoint\n",
            "INFO:torchbiggraph:Finished epoch 1 / 30, edge path 1 / 1, edge chunk 1 / 1\n",
            "INFO:torchbiggraph:Writing the metadata\n",
            "INFO:torchbiggraph:Writing the training stats\n",
            "INFO:torchbiggraph:Writing the checkpoint\n",
            "INFO:torchbiggraph:Switching to the new checkpoint version\n",
            "INFO:torchbiggraph:Starting epoch 2 / 30, edge path 1 / 1, edge chunk 1 / 1\n",
            "INFO:torchbiggraph:Edge path: data/train_partitioned\n",
            "INFO:torchbiggraph:still in queue: 0\n",
            "INFO:torchbiggraph:Swapping partitioned embeddings None ( 0 , 0 )\n",
            "INFO:torchbiggraph:Loading partitioned embeddings from checkpoint\n",
            "INFO:torchbiggraph:( 0 , 0 ): Stats before training: loss:  342.228 , pos_rank:  571.466 , mrr:  0.0626886 , r1:  0.045128 , r10:  0.0877863 , r50:  0.164459 , auc:  0.71026 , count:  4454\n",
            "INFO:torchbiggraph:( 0 , 0 ): Training stats: loss:  2.76121 , reg:  0 , violators_lhs:  4.94931 , violators_rhs:  3.90234 , count:  84644\n",
            "INFO:torchbiggraph:( 0 , 0 ): Stats after training: loss:  343.212 , pos_rank:  565.137 , mrr:  0.0713684 , r1:  0.0541087 , r10:  0.0958689 , r50:  0.17445 , auc:  0.714751 , count:  4454\n",
            "INFO:torchbiggraph:( 0 , 0 ): bucket 1 / 1 : Trained 84644 edges in 0.75 s ( 0.11 M/sec ); Eval 2*4454 edges in 0.26 s ( 0.034 M/sec ); io: 0.03 s for 20,546,800 bytes ( 650.47 MB/sec )\n",
            "INFO:torchbiggraph:Swapping partitioned embeddings ( 0 , 0 ) None\n",
            "INFO:torchbiggraph:Saving partitioned embeddings to checkpoint\n",
            "INFO:torchbiggraph:Finished epoch 2 / 30, edge path 1 / 1, edge chunk 1 / 1\n",
            "INFO:torchbiggraph:Writing the metadata\n",
            "INFO:torchbiggraph:Writing the training stats\n",
            "INFO:torchbiggraph:Writing the checkpoint\n",
            "INFO:torchbiggraph:Switching to the new checkpoint version\n",
            "INFO:torchbiggraph:Starting epoch 3 / 30, edge path 1 / 1, edge chunk 1 / 1\n",
            "INFO:torchbiggraph:Edge path: data/train_partitioned\n",
            "INFO:torchbiggraph:still in queue: 0\n",
            "INFO:torchbiggraph:Swapping partitioned embeddings None ( 0 , 0 )\n",
            "INFO:torchbiggraph:Loading partitioned embeddings from checkpoint\n",
            "INFO:torchbiggraph:( 0 , 0 ): Stats before training: loss:  343.268 , pos_rank:  565.014 , mrr:  0.0705752 , r1:  0.052537 , r10:  0.0956444 , r50:  0.174562 , auc:  0.719578 , count:  4454\n",
            "INFO:torchbiggraph:( 0 , 0 ): Training stats: loss:  2.45398 , reg:  0 , violators_lhs:  4.64625 , violators_rhs:  3.60534 , count:  84644\n",
            "INFO:torchbiggraph:( 0 , 0 ): Stats after training: loss:  342.535 , pos_rank:  564.071 , mrr:  0.0711151 , r1:  0.0526493 , r10:  0.0965424 , r50:  0.177705 , auc:  0.710373 , count:  4454\n",
            "INFO:torchbiggraph:( 0 , 0 ): bucket 1 / 1 : Trained 84644 edges in 0.73 s ( 0.12 M/sec ); Eval 2*4454 edges in 0.27 s ( 0.033 M/sec ); io: 0.02 s for 20,546,800 bytes ( 1083.19 MB/sec )\n",
            "INFO:torchbiggraph:Swapping partitioned embeddings ( 0 , 0 ) None\n",
            "INFO:torchbiggraph:Saving partitioned embeddings to checkpoint\n",
            "INFO:torchbiggraph:Finished epoch 3 / 30, edge path 1 / 1, edge chunk 1 / 1\n",
            "INFO:torchbiggraph:Writing the metadata\n",
            "INFO:torchbiggraph:Writing the training stats\n",
            "INFO:torchbiggraph:Writing the checkpoint\n",
            "INFO:torchbiggraph:Switching to the new checkpoint version\n",
            "INFO:torchbiggraph:Starting epoch 4 / 30, edge path 1 / 1, edge chunk 1 / 1\n",
            "INFO:torchbiggraph:Edge path: data/train_partitioned\n",
            "INFO:torchbiggraph:still in queue: 0\n",
            "INFO:torchbiggraph:Swapping partitioned embeddings None ( 0 , 0 )\n",
            "INFO:torchbiggraph:Loading partitioned embeddings from checkpoint\n",
            "INFO:torchbiggraph:( 0 , 0 ): Stats before training: loss:  342.194 , pos_rank:  564.039 , mrr:  0.0720909 , r1:  0.0545577 , r10:  0.0954198 , r50:  0.176246 , auc:  0.716098 , count:  4454\n",
            "INFO:torchbiggraph:( 0 , 0 ): Training stats: loss:  2.35138 , reg:  0 , violators_lhs:  4.5651 , violators_rhs:  3.51831 , count:  84644\n",
            "INFO:torchbiggraph:( 0 , 0 ): Stats after training: loss:  341.503 , pos_rank:  563.312 , mrr:  0.0683918 , r1:  0.0474854 , r10:  0.0966547 , r50:  0.179277 , auc:  0.719129 , count:  4454\n",
            "INFO:torchbiggraph:( 0 , 0 ): bucket 1 / 1 : Trained 84644 edges in 0.77 s ( 0.11 M/sec ); Eval 2*4454 edges in 0.30 s ( 0.03 M/sec ); io: 0.02 s for 20,546,800 bytes ( 912.17 MB/sec )\n",
            "INFO:torchbiggraph:Swapping partitioned embeddings ( 0 , 0 ) None\n",
            "INFO:torchbiggraph:Saving partitioned embeddings to checkpoint\n",
            "INFO:torchbiggraph:Finished epoch 4 / 30, edge path 1 / 1, edge chunk 1 / 1\n",
            "INFO:torchbiggraph:Writing the metadata\n",
            "INFO:torchbiggraph:Writing the training stats\n",
            "INFO:torchbiggraph:Writing the checkpoint\n",
            "INFO:torchbiggraph:Switching to the new checkpoint version\n",
            "INFO:torchbiggraph:Starting epoch 5 / 30, edge path 1 / 1, edge chunk 1 / 1\n",
            "INFO:torchbiggraph:Edge path: data/train_partitioned\n",
            "INFO:torchbiggraph:still in queue: 0\n",
            "INFO:torchbiggraph:Swapping partitioned embeddings None ( 0 , 0 )\n",
            "INFO:torchbiggraph:Loading partitioned embeddings from checkpoint\n",
            "INFO:torchbiggraph:( 0 , 0 ): Stats before training: loss:  342.465 , pos_rank:  564.532 , mrr:  0.0711721 , r1:  0.0532106 , r10:  0.0973282 , r50:  0.180063 , auc:  0.70577 , count:  4454\n",
            "INFO:torchbiggraph:( 0 , 0 ): Training stats: loss:  2.3026 , reg:  0 , violators_lhs:  4.55003 , violators_rhs:  3.51525 , count:  84644\n",
            "INFO:torchbiggraph:( 0 , 0 ): Stats after training: loss:  341.042 , pos_rank:  565.908 , mrr:  0.0706427 , r1:  0.0528738 , r10:  0.0965424 , r50:  0.177481 , auc:  0.71767 , count:  4454\n",
            "INFO:torchbiggraph:( 0 , 0 ): bucket 1 / 1 : Trained 84644 edges in 0.75 s ( 0.11 M/sec ); Eval 2*4454 edges in 0.26 s ( 0.034 M/sec ); io: 0.02 s for 20,546,800 bytes ( 1016.07 MB/sec )\n",
            "INFO:torchbiggraph:Swapping partitioned embeddings ( 0 , 0 ) None\n",
            "INFO:torchbiggraph:Saving partitioned embeddings to checkpoint\n",
            "INFO:torchbiggraph:Finished epoch 5 / 30, edge path 1 / 1, edge chunk 1 / 1\n",
            "INFO:torchbiggraph:Writing the metadata\n",
            "INFO:torchbiggraph:Writing the training stats\n",
            "INFO:torchbiggraph:Writing the checkpoint\n",
            "INFO:torchbiggraph:Switching to the new checkpoint version\n",
            "INFO:torchbiggraph:Starting epoch 6 / 30, edge path 1 / 1, edge chunk 1 / 1\n",
            "INFO:torchbiggraph:Edge path: data/train_partitioned\n",
            "INFO:torchbiggraph:still in queue: 0\n",
            "INFO:torchbiggraph:Swapping partitioned embeddings None ( 0 , 0 )\n",
            "INFO:torchbiggraph:Loading partitioned embeddings from checkpoint\n",
            "INFO:torchbiggraph:( 0 , 0 ): Stats before training: loss:  341.094 , pos_rank:  565.988 , mrr:  0.0708534 , r1:  0.0530983 , r10:  0.097665 , r50:  0.178042 , auc:  0.715873 , count:  4454\n",
            "INFO:torchbiggraph:( 0 , 0 ): Training stats: loss:  2.25578 , reg:  0 , violators_lhs:  4.51671 , violators_rhs:  3.51772 , count:  84644\n",
            "INFO:torchbiggraph:( 0 , 0 ): Stats after training: loss:  341.639 , pos_rank:  564.39 , mrr:  0.0713654 , r1:  0.0524248 , r10:  0.0982263 , r50:  0.1804 , auc:  0.705209 , count:  4454\n",
            "INFO:torchbiggraph:( 0 , 0 ): bucket 1 / 1 : Trained 84644 edges in 0.79 s ( 0.11 M/sec ); Eval 2*4454 edges in 0.25 s ( 0.035 M/sec ); io: 0.02 s for 20,546,800 bytes ( 1050.61 MB/sec )\n",
            "INFO:torchbiggraph:Swapping partitioned embeddings ( 0 , 0 ) None\n",
            "INFO:torchbiggraph:Saving partitioned embeddings to checkpoint\n",
            "INFO:torchbiggraph:Finished epoch 6 / 30, edge path 1 / 1, edge chunk 1 / 1\n",
            "INFO:torchbiggraph:Writing the metadata\n",
            "INFO:torchbiggraph:Writing the training stats\n",
            "INFO:torchbiggraph:Writing the checkpoint\n",
            "INFO:torchbiggraph:Switching to the new checkpoint version\n",
            "INFO:torchbiggraph:Starting epoch 7 / 30, edge path 1 / 1, edge chunk 1 / 1\n",
            "INFO:torchbiggraph:Edge path: data/train_partitioned\n",
            "INFO:torchbiggraph:still in queue: 0\n",
            "INFO:torchbiggraph:Swapping partitioned embeddings None ( 0 , 0 )\n",
            "INFO:torchbiggraph:Loading partitioned embeddings from checkpoint\n",
            "INFO:torchbiggraph:( 0 , 0 ): Stats before training: loss:  341.086 , pos_rank:  564.363 , mrr:  0.0711046 , r1:  0.0526493 , r10:  0.0973282 , r50:  0.17894 , auc:  0.71868 , count:  4454\n",
            "INFO:torchbiggraph:( 0 , 0 ): Training stats: loss:  2.22668 , reg:  0 , violators_lhs:  4.50613 , violators_rhs:  3.46898 , count:  84644\n",
            "INFO:torchbiggraph:( 0 , 0 ): Stats after training: loss:  341.404 , pos_rank:  563.9 , mrr:  0.0743282 , r1:  0.0561293 , r10:  0.100584 , r50:  0.181522 , auc:  0.713067 , count:  4454\n",
            "INFO:torchbiggraph:( 0 , 0 ): bucket 1 / 1 : Trained 84644 edges in 0.76 s ( 0.11 M/sec ); Eval 2*4454 edges in 0.26 s ( 0.035 M/sec ); io: 0.02 s for 20,546,800 bytes ( 875.93 MB/sec )\n",
            "INFO:torchbiggraph:Swapping partitioned embeddings ( 0 , 0 ) None\n",
            "INFO:torchbiggraph:Saving partitioned embeddings to checkpoint\n",
            "INFO:torchbiggraph:Finished epoch 7 / 30, edge path 1 / 1, edge chunk 1 / 1\n",
            "INFO:torchbiggraph:Writing the metadata\n",
            "INFO:torchbiggraph:Writing the training stats\n",
            "INFO:torchbiggraph:Writing the checkpoint\n",
            "INFO:torchbiggraph:Switching to the new checkpoint version\n",
            "INFO:torchbiggraph:Starting epoch 8 / 30, edge path 1 / 1, edge chunk 1 / 1\n",
            "INFO:torchbiggraph:Edge path: data/train_partitioned\n",
            "INFO:torchbiggraph:still in queue: 0\n",
            "INFO:torchbiggraph:Swapping partitioned embeddings None ( 0 , 0 )\n",
            "INFO:torchbiggraph:Loading partitioned embeddings from checkpoint\n",
            "INFO:torchbiggraph:( 0 , 0 ): Stats before training: loss:  341.281 , pos_rank:  563.619 , mrr:  0.0752712 , r1:  0.0568029 , r10:  0.100921 , r50:  0.181522 , auc:  0.706668 , count:  4454\n",
            "INFO:torchbiggraph:( 0 , 0 ): Training stats: loss:  2.19767 , reg:  0 , violators_lhs:  4.48264 , violators_rhs:  3.43234 , count:  84644\n",
            "INFO:torchbiggraph:( 0 , 0 ): Stats after training: loss:  340.757 , pos_rank:  563.714 , mrr:  0.0706404 , r1:  0.0518635 , r10:  0.0973282 , r50:  0.180736 , auc:  0.715312 , count:  4454\n",
            "INFO:torchbiggraph:( 0 , 0 ): bucket 1 / 1 : Trained 84644 edges in 0.74 s ( 0.11 M/sec ); Eval 2*4454 edges in 0.25 s ( 0.036 M/sec ); io: 0.02 s for 20,546,800 bytes ( 1021.64 MB/sec )\n",
            "INFO:torchbiggraph:Swapping partitioned embeddings ( 0 , 0 ) None\n",
            "INFO:torchbiggraph:Saving partitioned embeddings to checkpoint\n",
            "INFO:torchbiggraph:Finished epoch 8 / 30, edge path 1 / 1, edge chunk 1 / 1\n",
            "INFO:torchbiggraph:Writing the metadata\n",
            "INFO:torchbiggraph:Writing the training stats\n",
            "INFO:torchbiggraph:Writing the checkpoint\n",
            "INFO:torchbiggraph:Switching to the new checkpoint version\n",
            "INFO:torchbiggraph:Starting epoch 9 / 30, edge path 1 / 1, edge chunk 1 / 1\n",
            "INFO:torchbiggraph:Edge path: data/train_partitioned\n",
            "INFO:torchbiggraph:still in queue: 0\n",
            "INFO:torchbiggraph:Swapping partitioned embeddings None ( 0 , 0 )\n",
            "INFO:torchbiggraph:Loading partitioned embeddings from checkpoint\n",
            "INFO:torchbiggraph:( 0 , 0 ): Stats before training: loss:  340.833 , pos_rank:  563.773 , mrr:  0.0710913 , r1:  0.052537 , r10:  0.0981141 , r50:  0.180175 , auc:  0.713853 , count:  4454\n",
            "INFO:torchbiggraph:( 0 , 0 ): Training stats: loss:  2.17924 , reg:  0 , violators_lhs:  4.49462 , violators_rhs:  3.4634 , count:  84644\n",
            "INFO:torchbiggraph:( 0 , 0 ): Stats after training: loss:  340.69 , pos_rank:  563.205 , mrr:  0.0787259 , r1:  0.0602829 , r10:  0.106309 , r50:  0.185564 , auc:  0.710709 , count:  4454\n",
            "INFO:torchbiggraph:( 0 , 0 ): bucket 1 / 1 : Trained 84644 edges in 0.75 s ( 0.11 M/sec ); Eval 2*4454 edges in 0.26 s ( 0.035 M/sec ); io: 0.02 s for 20,546,800 bytes ( 949.09 MB/sec )\n",
            "INFO:torchbiggraph:Swapping partitioned embeddings ( 0 , 0 ) None\n",
            "INFO:torchbiggraph:Saving partitioned embeddings to checkpoint\n",
            "INFO:torchbiggraph:Finished epoch 9 / 30, edge path 1 / 1, edge chunk 1 / 1\n",
            "INFO:torchbiggraph:Writing the metadata\n",
            "INFO:torchbiggraph:Writing the training stats\n",
            "INFO:torchbiggraph:Writing the checkpoint\n",
            "INFO:torchbiggraph:Switching to the new checkpoint version\n",
            "INFO:torchbiggraph:Starting epoch 10 / 30, edge path 1 / 1, edge chunk 1 / 1\n",
            "INFO:torchbiggraph:Edge path: data/train_partitioned\n",
            "INFO:torchbiggraph:still in queue: 0\n",
            "INFO:torchbiggraph:Swapping partitioned embeddings None ( 0 , 0 )\n",
            "INFO:torchbiggraph:Loading partitioned embeddings from checkpoint\n",
            "INFO:torchbiggraph:( 0 , 0 ): Stats before training: loss:  340.2 , pos_rank:  562.982 , mrr:  0.0786079 , r1:  0.0602829 , r10:  0.104064 , r50:  0.186686 , auc:  0.716996 , count:  4454\n",
            "INFO:torchbiggraph:( 0 , 0 ): Training stats: loss:  2.15043 , reg:  0 , violators_lhs:  4.46991 , violators_rhs:  3.45416 , count:  84644\n",
            "INFO:torchbiggraph:( 0 , 0 ): Stats after training: loss:  340.602 , pos_rank:  563.155 , mrr:  0.0775753 , r1:  0.0596093 , r10:  0.102155 , r50:  0.183655 , auc:  0.72115 , count:  4454\n",
            "INFO:torchbiggraph:( 0 , 0 ): bucket 1 / 1 : Trained 84644 edges in 0.77 s ( 0.11 M/sec ); Eval 2*4454 edges in 0.26 s ( 0.034 M/sec ); io: 0.02 s for 20,546,800 bytes ( 829.80 MB/sec )\n",
            "INFO:torchbiggraph:Swapping partitioned embeddings ( 0 , 0 ) None\n",
            "INFO:torchbiggraph:Saving partitioned embeddings to checkpoint\n",
            "INFO:torchbiggraph:Finished epoch 10 / 30, edge path 1 / 1, edge chunk 1 / 1\n",
            "INFO:torchbiggraph:Writing the metadata\n",
            "INFO:torchbiggraph:Writing the training stats\n",
            "INFO:torchbiggraph:Writing the checkpoint\n",
            "INFO:torchbiggraph:Switching to the new checkpoint version\n",
            "INFO:torchbiggraph:Starting epoch 11 / 30, edge path 1 / 1, edge chunk 1 / 1\n",
            "INFO:torchbiggraph:Edge path: data/train_partitioned\n",
            "INFO:torchbiggraph:still in queue: 0\n",
            "INFO:torchbiggraph:Swapping partitioned embeddings None ( 0 , 0 )\n",
            "INFO:torchbiggraph:Loading partitioned embeddings from checkpoint\n",
            "INFO:torchbiggraph:( 0 , 0 ): Stats before training: loss:  340.312 , pos_rank:  562.521 , mrr:  0.077312 , r1:  0.0596093 , r10:  0.102155 , r50:  0.181185 , auc:  0.712393 , count:  4454\n",
            "INFO:torchbiggraph:( 0 , 0 ): Training stats: loss:  2.12931 , reg:  0 , violators_lhs:  4.45033 , violators_rhs:  3.44848 , count:  84644\n",
            "INFO:torchbiggraph:( 0 , 0 ): Stats after training: loss:  338.419 , pos_rank:  561.467 , mrr:  0.0731376 , r1:  0.0536596 , r10:  0.0997979 , r50:  0.178379 , auc:  0.719129 , count:  4454\n",
            "INFO:torchbiggraph:( 0 , 0 ): bucket 1 / 1 : Trained 84644 edges in 0.78 s ( 0.11 M/sec ); Eval 2*4454 edges in 0.26 s ( 0.035 M/sec ); io: 0.02 s for 20,546,800 bytes ( 890.38 MB/sec )\n",
            "INFO:torchbiggraph:Swapping partitioned embeddings ( 0 , 0 ) None\n",
            "INFO:torchbiggraph:Saving partitioned embeddings to checkpoint\n",
            "INFO:torchbiggraph:Finished epoch 11 / 30, edge path 1 / 1, edge chunk 1 / 1\n",
            "INFO:torchbiggraph:Writing the metadata\n",
            "INFO:torchbiggraph:Writing the training stats\n",
            "INFO:torchbiggraph:Writing the checkpoint\n",
            "INFO:torchbiggraph:Switching to the new checkpoint version\n",
            "INFO:torchbiggraph:Starting epoch 12 / 30, edge path 1 / 1, edge chunk 1 / 1\n",
            "INFO:torchbiggraph:Edge path: data/train_partitioned\n",
            "INFO:torchbiggraph:still in queue: 0\n",
            "INFO:torchbiggraph:Swapping partitioned embeddings None ( 0 , 0 )\n",
            "INFO:torchbiggraph:Loading partitioned embeddings from checkpoint\n",
            "INFO:torchbiggraph:( 0 , 0 ): Stats before training: loss:  339.077 , pos_rank:  562.122 , mrr:  0.0744548 , r1:  0.0554558 , r10:  0.100808 , r50:  0.177818 , auc:  0.711495 , count:  4454\n",
            "INFO:torchbiggraph:( 0 , 0 ): Training stats: loss:  2.10885 , reg:  0 , violators_lhs:  4.459 , violators_rhs:  3.41879 , count:  84644\n",
            "INFO:torchbiggraph:( 0 , 0 ): Stats after training: loss:  339.161 , pos_rank:  561.18 , mrr:  0.0771583 , r1:  0.0577009 , r10:  0.105186 , r50:  0.1804 , auc:  0.712842 , count:  4454\n",
            "INFO:torchbiggraph:( 0 , 0 ): bucket 1 / 1 : Trained 84644 edges in 0.73 s ( 0.12 M/sec ); Eval 2*4454 edges in 0.26 s ( 0.034 M/sec ); io: 0.02 s for 20,546,800 bytes ( 856.02 MB/sec )\n",
            "INFO:torchbiggraph:Swapping partitioned embeddings ( 0 , 0 ) None\n",
            "INFO:torchbiggraph:Saving partitioned embeddings to checkpoint\n",
            "INFO:torchbiggraph:Finished epoch 12 / 30, edge path 1 / 1, edge chunk 1 / 1\n",
            "INFO:torchbiggraph:Writing the metadata\n",
            "INFO:torchbiggraph:Writing the training stats\n",
            "INFO:torchbiggraph:Writing the checkpoint\n",
            "INFO:torchbiggraph:Switching to the new checkpoint version\n",
            "INFO:torchbiggraph:Starting epoch 13 / 30, edge path 1 / 1, edge chunk 1 / 1\n",
            "INFO:torchbiggraph:Edge path: data/train_partitioned\n",
            "INFO:torchbiggraph:still in queue: 0\n",
            "INFO:torchbiggraph:Swapping partitioned embeddings None ( 0 , 0 )\n",
            "INFO:torchbiggraph:Loading partitioned embeddings from checkpoint\n",
            "INFO:torchbiggraph:( 0 , 0 ): Stats before training: loss:  339.645 , pos_rank:  561.403 , mrr:  0.077625 , r1:  0.0579255 , r10:  0.10485 , r50:  0.181073 , auc:  0.70925 , count:  4454\n",
            "INFO:torchbiggraph:( 0 , 0 ): Training stats: loss:  2.09456 , reg:  0 , violators_lhs:  4.45335 , violators_rhs:  3.45556 , count:  84644\n",
            "INFO:torchbiggraph:( 0 , 0 ): Stats after training: loss:  339.667 , pos_rank:  561.957 , mrr:  0.0770421 , r1:  0.0582622 , r10:  0.103502 , r50:  0.183094 , auc:  0.717557 , count:  4454\n",
            "INFO:torchbiggraph:( 0 , 0 ): bucket 1 / 1 : Trained 84644 edges in 0.76 s ( 0.11 M/sec ); Eval 2*4454 edges in 0.26 s ( 0.035 M/sec ); io: 0.02 s for 20,546,800 bytes ( 902.41 MB/sec )\n",
            "INFO:torchbiggraph:Swapping partitioned embeddings ( 0 , 0 ) None\n",
            "INFO:torchbiggraph:Saving partitioned embeddings to checkpoint\n",
            "INFO:torchbiggraph:Finished epoch 13 / 30, edge path 1 / 1, edge chunk 1 / 1\n",
            "INFO:torchbiggraph:Writing the metadata\n",
            "INFO:torchbiggraph:Writing the training stats\n",
            "INFO:torchbiggraph:Writing the checkpoint\n",
            "INFO:torchbiggraph:Switching to the new checkpoint version\n",
            "INFO:torchbiggraph:Starting epoch 14 / 30, edge path 1 / 1, edge chunk 1 / 1\n",
            "INFO:torchbiggraph:Edge path: data/train_partitioned\n",
            "INFO:torchbiggraph:still in queue: 0\n",
            "INFO:torchbiggraph:Swapping partitioned embeddings None ( 0 , 0 )\n",
            "INFO:torchbiggraph:Loading partitioned embeddings from checkpoint\n",
            "INFO:torchbiggraph:( 0 , 0 ): Stats before training: loss:  339.387 , pos_rank:  561.493 , mrr:  0.0768916 , r1:  0.0577009 , r10:  0.102941 , r50:  0.182982 , auc:  0.720027 , count:  4454\n",
            "INFO:torchbiggraph:( 0 , 0 ): Training stats: loss:  2.08003 , reg:  0 , violators_lhs:  4.45801 , violators_rhs:  3.4593 , count:  84644\n",
            "INFO:torchbiggraph:( 0 , 0 ): Stats after training: loss:  338.848 , pos_rank:  562.278 , mrr:  0.0720913 , r1:  0.0532106 , r10:  0.0977773 , r50:  0.177256 , auc:  0.708577 , count:  4454\n",
            "INFO:torchbiggraph:( 0 , 0 ): bucket 1 / 1 : Trained 84644 edges in 0.78 s ( 0.11 M/sec ); Eval 2*4454 edges in 0.25 s ( 0.035 M/sec ); io: 0.02 s for 20,546,800 bytes ( 898.98 MB/sec )\n",
            "INFO:torchbiggraph:Swapping partitioned embeddings ( 0 , 0 ) None\n",
            "INFO:torchbiggraph:Saving partitioned embeddings to checkpoint\n",
            "INFO:torchbiggraph:Finished epoch 14 / 30, edge path 1 / 1, edge chunk 1 / 1\n",
            "INFO:torchbiggraph:Writing the metadata\n",
            "INFO:torchbiggraph:Writing the training stats\n",
            "INFO:torchbiggraph:Writing the checkpoint\n",
            "INFO:torchbiggraph:Switching to the new checkpoint version\n",
            "INFO:torchbiggraph:Starting epoch 15 / 30, edge path 1 / 1, edge chunk 1 / 1\n",
            "INFO:torchbiggraph:Edge path: data/train_partitioned\n",
            "INFO:torchbiggraph:still in queue: 0\n",
            "INFO:torchbiggraph:Swapping partitioned embeddings None ( 0 , 0 )\n",
            "INFO:torchbiggraph:Loading partitioned embeddings from checkpoint\n",
            "INFO:torchbiggraph:( 0 , 0 ): Stats before training: loss:  339.909 , pos_rank:  562.706 , mrr:  0.0710598 , r1:  0.0513022 , r10:  0.0980018 , r50:  0.178042 , auc:  0.723507 , count:  4454\n",
            "INFO:torchbiggraph:( 0 , 0 ): Training stats: loss:  2.05923 , reg:  0 , violators_lhs:  4.43453 , violators_rhs:  3.4782 , count:  84644\n",
            "INFO:torchbiggraph:( 0 , 0 ): Stats after training: loss:  339.116 , pos_rank:  561.893 , mrr:  0.0765617 , r1:  0.0583745 , r10:  0.102043 , r50:  0.180287 , auc:  0.706219 , count:  4454\n",
            "INFO:torchbiggraph:( 0 , 0 ): bucket 1 / 1 : Trained 84644 edges in 0.79 s ( 0.11 M/sec ); Eval 2*4454 edges in 0.26 s ( 0.034 M/sec ); io: 0.02 s for 20,546,800 bytes ( 944.76 MB/sec )\n",
            "INFO:torchbiggraph:Swapping partitioned embeddings ( 0 , 0 ) None\n",
            "INFO:torchbiggraph:Saving partitioned embeddings to checkpoint\n",
            "INFO:torchbiggraph:Finished epoch 15 / 30, edge path 1 / 1, edge chunk 1 / 1\n",
            "INFO:torchbiggraph:Writing the metadata\n",
            "INFO:torchbiggraph:Writing the training stats\n",
            "INFO:torchbiggraph:Writing the checkpoint\n",
            "INFO:torchbiggraph:Switching to the new checkpoint version\n",
            "INFO:torchbiggraph:Starting epoch 16 / 30, edge path 1 / 1, edge chunk 1 / 1\n",
            "INFO:torchbiggraph:Edge path: data/train_partitioned\n",
            "INFO:torchbiggraph:still in queue: 0\n",
            "INFO:torchbiggraph:Swapping partitioned embeddings None ( 0 , 0 )\n",
            "INFO:torchbiggraph:Loading partitioned embeddings from checkpoint\n",
            "INFO:torchbiggraph:( 0 , 0 ): Stats before training: loss:  339.704 , pos_rank:  561.783 , mrr:  0.0756261 , r1:  0.0569151 , r10:  0.101819 , r50:  0.180063 , auc:  0.716322 , count:  4454\n",
            "INFO:torchbiggraph:( 0 , 0 ): Training stats: loss:  2.0496 , reg:  0 , violators_lhs:  4.43447 , violators_rhs:  3.44444 , count:  84644\n",
            "INFO:torchbiggraph:( 0 , 0 ): Stats after training: loss:  339.611 , pos_rank:  559.399 , mrr:  0.0779324 , r1:  0.0562416 , r10:  0.10687 , r50:  0.184104 , auc:  0.714751 , count:  4454\n",
            "INFO:torchbiggraph:( 0 , 0 ): bucket 1 / 1 : Trained 84644 edges in 0.75 s ( 0.11 M/sec ); Eval 2*4454 edges in 0.26 s ( 0.034 M/sec ); io: 0.02 s for 20,546,800 bytes ( 871.48 MB/sec )\n",
            "INFO:torchbiggraph:Swapping partitioned embeddings ( 0 , 0 ) None\n",
            "INFO:torchbiggraph:Saving partitioned embeddings to checkpoint\n",
            "INFO:torchbiggraph:Finished epoch 16 / 30, edge path 1 / 1, edge chunk 1 / 1\n",
            "INFO:torchbiggraph:Writing the metadata\n",
            "INFO:torchbiggraph:Writing the training stats\n",
            "INFO:torchbiggraph:Writing the checkpoint\n",
            "INFO:torchbiggraph:Switching to the new checkpoint version\n",
            "INFO:torchbiggraph:Starting epoch 17 / 30, edge path 1 / 1, edge chunk 1 / 1\n",
            "INFO:torchbiggraph:Edge path: data/train_partitioned\n",
            "INFO:torchbiggraph:still in queue: 0\n",
            "INFO:torchbiggraph:Swapping partitioned embeddings None ( 0 , 0 )\n",
            "INFO:torchbiggraph:Loading partitioned embeddings from checkpoint\n",
            "INFO:torchbiggraph:( 0 , 0 ): Stats before training: loss:  339.775 , pos_rank:  559.797 , mrr:  0.078725 , r1:  0.0570274 , r10:  0.108105 , r50:  0.185788 , auc:  0.717557 , count:  4454\n",
            "INFO:torchbiggraph:( 0 , 0 ): Training stats: loss:  2.0457 , reg:  0 , violators_lhs:  4.45196 , violators_rhs:  3.46306 , count:  84644\n",
            "INFO:torchbiggraph:( 0 , 0 ): Stats after training: loss:  339.533 , pos_rank:  561.61 , mrr:  0.0744822 , r1:  0.0556803 , r10:  0.101594 , r50:  0.179165 , auc:  0.705658 , count:  4454\n",
            "INFO:torchbiggraph:( 0 , 0 ): bucket 1 / 1 : Trained 84644 edges in 0.78 s ( 0.11 M/sec ); Eval 2*4454 edges in 0.26 s ( 0.034 M/sec ); io: 0.02 s for 20,546,800 bytes ( 859.72 MB/sec )\n",
            "INFO:torchbiggraph:Swapping partitioned embeddings ( 0 , 0 ) None\n",
            "INFO:torchbiggraph:Saving partitioned embeddings to checkpoint\n",
            "INFO:torchbiggraph:Finished epoch 17 / 30, edge path 1 / 1, edge chunk 1 / 1\n",
            "INFO:torchbiggraph:Writing the metadata\n",
            "INFO:torchbiggraph:Writing the training stats\n",
            "INFO:torchbiggraph:Writing the checkpoint\n",
            "INFO:torchbiggraph:Switching to the new checkpoint version\n",
            "INFO:torchbiggraph:Starting epoch 18 / 30, edge path 1 / 1, edge chunk 1 / 1\n",
            "INFO:torchbiggraph:Edge path: data/train_partitioned\n",
            "INFO:torchbiggraph:still in queue: 0\n",
            "INFO:torchbiggraph:Swapping partitioned embeddings None ( 0 , 0 )\n",
            "INFO:torchbiggraph:Loading partitioned embeddings from checkpoint\n",
            "INFO:torchbiggraph:( 0 , 0 ): Stats before training: loss:  338.65 , pos_rank:  561.429 , mrr:  0.0749888 , r1:  0.0563538 , r10:  0.101594 , r50:  0.181298 , auc:  0.710709 , count:  4454\n",
            "INFO:torchbiggraph:( 0 , 0 ): Training stats: loss:  2.02375 , reg:  0 , violators_lhs:  4.44026 , violators_rhs:  3.43488 , count:  84644\n",
            "INFO:torchbiggraph:( 0 , 0 ): Stats after training: loss:  338.981 , pos_rank:  560.951 , mrr:  0.075944 , r1:  0.0577009 , r10:  0.102941 , r50:  0.182869 , auc:  0.723619 , count:  4454\n",
            "INFO:torchbiggraph:( 0 , 0 ): bucket 1 / 1 : Trained 84644 edges in 0.78 s ( 0.11 M/sec ); Eval 2*4454 edges in 0.26 s ( 0.034 M/sec ); io: 0.02 s for 20,546,800 bytes ( 1073.52 MB/sec )\n",
            "INFO:torchbiggraph:Swapping partitioned embeddings ( 0 , 0 ) None\n",
            "INFO:torchbiggraph:Saving partitioned embeddings to checkpoint\n",
            "INFO:torchbiggraph:Finished epoch 18 / 30, edge path 1 / 1, edge chunk 1 / 1\n",
            "INFO:torchbiggraph:Writing the metadata\n",
            "INFO:torchbiggraph:Writing the training stats\n",
            "INFO:torchbiggraph:Writing the checkpoint\n",
            "INFO:torchbiggraph:Switching to the new checkpoint version\n",
            "INFO:torchbiggraph:Starting epoch 19 / 30, edge path 1 / 1, edge chunk 1 / 1\n",
            "INFO:torchbiggraph:Edge path: data/train_partitioned\n",
            "INFO:torchbiggraph:still in queue: 0\n",
            "INFO:torchbiggraph:Swapping partitioned embeddings None ( 0 , 0 )\n",
            "INFO:torchbiggraph:Loading partitioned embeddings from checkpoint\n",
            "INFO:torchbiggraph:( 0 , 0 ): Stats before training: loss:  338.956 , pos_rank:  560.428 , mrr:  0.0729646 , r1:  0.0506286 , r10:  0.104288 , r50:  0.181859 , auc:  0.716547 , count:  4454\n",
            "INFO:torchbiggraph:( 0 , 0 ): Training stats: loss:  2.01281 , reg:  0 , violators_lhs:  4.43405 , violators_rhs:  3.44642 , count:  84644\n",
            "INFO:torchbiggraph:( 0 , 0 ): Stats after training: loss:  339.204 , pos_rank:  560.575 , mrr:  0.0789235 , r1:  0.0600584 , r10:  0.105074 , r50:  0.182645 , auc:  0.711944 , count:  4454\n",
            "INFO:torchbiggraph:( 0 , 0 ): bucket 1 / 1 : Trained 84644 edges in 0.75 s ( 0.11 M/sec ); Eval 2*4454 edges in 0.26 s ( 0.035 M/sec ); io: 0.02 s for 20,546,800 bytes ( 885.34 MB/sec )\n",
            "INFO:torchbiggraph:Swapping partitioned embeddings ( 0 , 0 ) None\n",
            "INFO:torchbiggraph:Saving partitioned embeddings to checkpoint\n",
            "INFO:torchbiggraph:Finished epoch 19 / 30, edge path 1 / 1, edge chunk 1 / 1\n",
            "INFO:torchbiggraph:Writing the metadata\n",
            "INFO:torchbiggraph:Writing the training stats\n",
            "INFO:torchbiggraph:Writing the checkpoint\n",
            "INFO:torchbiggraph:Switching to the new checkpoint version\n",
            "INFO:torchbiggraph:Starting epoch 20 / 30, edge path 1 / 1, edge chunk 1 / 1\n",
            "INFO:torchbiggraph:Edge path: data/train_partitioned\n",
            "INFO:torchbiggraph:still in queue: 0\n",
            "INFO:torchbiggraph:Swapping partitioned embeddings None ( 0 , 0 )\n",
            "INFO:torchbiggraph:Loading partitioned embeddings from checkpoint\n",
            "INFO:torchbiggraph:( 0 , 0 ): Stats before training: loss:  338.666 , pos_rank:  560.146 , mrr:  0.0799208 , r1:  0.0618545 , r10:  0.105748 , r50:  0.183318 , auc:  0.71374 , count:  4454\n",
            "INFO:torchbiggraph:( 0 , 0 ): Training stats: loss:  2.0036 , reg:  0 , violators_lhs:  4.43753 , violators_rhs:  3.4408 , count:  84644\n",
            "INFO:torchbiggraph:( 0 , 0 ): Stats after training: loss:  339.462 , pos_rank:  562.154 , mrr:  0.0738287 , r1:  0.0554558 , r10:  0.100247 , r50:  0.176358 , auc:  0.723058 , count:  4454\n",
            "INFO:torchbiggraph:( 0 , 0 ): bucket 1 / 1 : Trained 84644 edges in 0.74 s ( 0.11 M/sec ); Eval 2*4454 edges in 0.26 s ( 0.035 M/sec ); io: 0.02 s for 20,546,800 bytes ( 1031.45 MB/sec )\n",
            "INFO:torchbiggraph:Swapping partitioned embeddings ( 0 , 0 ) None\n",
            "INFO:torchbiggraph:Saving partitioned embeddings to checkpoint\n",
            "INFO:torchbiggraph:Finished epoch 20 / 30, edge path 1 / 1, edge chunk 1 / 1\n",
            "INFO:torchbiggraph:Writing the metadata\n",
            "INFO:torchbiggraph:Writing the training stats\n",
            "INFO:torchbiggraph:Writing the checkpoint\n",
            "INFO:torchbiggraph:Switching to the new checkpoint version\n",
            "INFO:torchbiggraph:Starting epoch 21 / 30, edge path 1 / 1, edge chunk 1 / 1\n",
            "INFO:torchbiggraph:Edge path: data/train_partitioned\n",
            "INFO:torchbiggraph:still in queue: 0\n",
            "INFO:torchbiggraph:Swapping partitioned embeddings None ( 0 , 0 )\n",
            "INFO:torchbiggraph:Loading partitioned embeddings from checkpoint\n",
            "INFO:torchbiggraph:( 0 , 0 ): Stats before training: loss:  338.957 , pos_rank:  560.772 , mrr:  0.0730978 , r1:  0.0538841 , r10:  0.100696 , r50:  0.177256 , auc:  0.716322 , count:  4454\n",
            "INFO:torchbiggraph:( 0 , 0 ): Training stats: loss:  1.99396 , reg:  0 , violators_lhs:  4.42933 , violators_rhs:  3.46534 , count:  84644\n",
            "INFO:torchbiggraph:( 0 , 0 ): Stats after training: loss:  339.163 , pos_rank:  561.564 , mrr:  0.0768743 , r1:  0.0579255 , r10:  0.102717 , r50:  0.179614 , auc:  0.713067 , count:  4454\n",
            "INFO:torchbiggraph:( 0 , 0 ): bucket 1 / 1 : Trained 84644 edges in 0.75 s ( 0.11 M/sec ); Eval 2*4454 edges in 0.26 s ( 0.034 M/sec ); io: 0.02 s for 20,546,800 bytes ( 985.90 MB/sec )\n",
            "INFO:torchbiggraph:Swapping partitioned embeddings ( 0 , 0 ) None\n",
            "INFO:torchbiggraph:Saving partitioned embeddings to checkpoint\n",
            "INFO:torchbiggraph:Finished epoch 21 / 30, edge path 1 / 1, edge chunk 1 / 1\n",
            "INFO:torchbiggraph:Writing the metadata\n",
            "INFO:torchbiggraph:Writing the training stats\n",
            "INFO:torchbiggraph:Writing the checkpoint\n",
            "INFO:torchbiggraph:Switching to the new checkpoint version\n",
            "INFO:torchbiggraph:Starting epoch 22 / 30, edge path 1 / 1, edge chunk 1 / 1\n",
            "INFO:torchbiggraph:Edge path: data/train_partitioned\n",
            "INFO:torchbiggraph:still in queue: 0\n",
            "INFO:torchbiggraph:Swapping partitioned embeddings None ( 0 , 0 )\n",
            "INFO:torchbiggraph:Loading partitioned embeddings from checkpoint\n",
            "INFO:torchbiggraph:( 0 , 0 ): Stats before training: loss:  338.329 , pos_rank:  561.313 , mrr:  0.0776778 , r1:  0.0594971 , r10:  0.104176 , r50:  0.179951 , auc:  0.721599 , count:  4454\n",
            "INFO:torchbiggraph:( 0 , 0 ): Training stats: loss:  1.98413 , reg:  0 , violators_lhs:  4.44609 , violators_rhs:  3.42561 , count:  84644\n",
            "INFO:torchbiggraph:( 0 , 0 ): Stats after training: loss:  339.439 , pos_rank:  560.549 , mrr:  0.0781407 , r1:  0.0596093 , r10:  0.105411 , r50:  0.180961 , auc:  0.720588 , count:  4454\n",
            "INFO:torchbiggraph:( 0 , 0 ): bucket 1 / 1 : Trained 84644 edges in 0.81 s ( 0.1 M/sec ); Eval 2*4454 edges in 0.28 s ( 0.032 M/sec ); io: 0.02 s for 20,546,800 bytes ( 1062.10 MB/sec )\n",
            "INFO:torchbiggraph:Swapping partitioned embeddings ( 0 , 0 ) None\n",
            "INFO:torchbiggraph:Saving partitioned embeddings to checkpoint\n",
            "INFO:torchbiggraph:Finished epoch 22 / 30, edge path 1 / 1, edge chunk 1 / 1\n",
            "INFO:torchbiggraph:Writing the metadata\n",
            "INFO:torchbiggraph:Writing the training stats\n",
            "INFO:torchbiggraph:Writing the checkpoint\n",
            "INFO:torchbiggraph:Switching to the new checkpoint version\n",
            "INFO:torchbiggraph:Starting epoch 23 / 30, edge path 1 / 1, edge chunk 1 / 1\n",
            "INFO:torchbiggraph:Edge path: data/train_partitioned\n",
            "INFO:torchbiggraph:still in queue: 0\n",
            "INFO:torchbiggraph:Swapping partitioned embeddings None ( 0 , 0 )\n",
            "INFO:torchbiggraph:Loading partitioned embeddings from checkpoint\n",
            "INFO:torchbiggraph:( 0 , 0 ): Stats before training: loss:  338.812 , pos_rank:  560.241 , mrr:  0.0785166 , r1:  0.0597216 , r10:  0.105748 , r50:  0.182196 , auc:  0.719241 , count:  4454\n",
            "INFO:torchbiggraph:( 0 , 0 ): Training stats: loss:  1.96546 , reg:  0 , violators_lhs:  4.41168 , violators_rhs:  3.40892 , count:  84644\n",
            "INFO:torchbiggraph:( 0 , 0 ): Stats after training: loss:  339.108 , pos_rank:  560.412 , mrr:  0.0766272 , r1:  0.05815 , r10:  0.103278 , r50:  0.180175 , auc:  0.711495 , count:  4454\n",
            "INFO:torchbiggraph:( 0 , 0 ): bucket 1 / 1 : Trained 84644 edges in 0.79 s ( 0.11 M/sec ); Eval 2*4454 edges in 0.26 s ( 0.034 M/sec ); io: 0.02 s for 20,546,800 bytes ( 882.45 MB/sec )\n",
            "INFO:torchbiggraph:Swapping partitioned embeddings ( 0 , 0 ) None\n",
            "INFO:torchbiggraph:Saving partitioned embeddings to checkpoint\n",
            "INFO:torchbiggraph:Finished epoch 23 / 30, edge path 1 / 1, edge chunk 1 / 1\n",
            "INFO:torchbiggraph:Writing the metadata\n",
            "INFO:torchbiggraph:Writing the training stats\n",
            "INFO:torchbiggraph:Writing the checkpoint\n",
            "INFO:torchbiggraph:Switching to the new checkpoint version\n",
            "INFO:torchbiggraph:Starting epoch 24 / 30, edge path 1 / 1, edge chunk 1 / 1\n",
            "INFO:torchbiggraph:Edge path: data/train_partitioned\n",
            "INFO:torchbiggraph:still in queue: 0\n",
            "INFO:torchbiggraph:Swapping partitioned embeddings None ( 0 , 0 )\n",
            "INFO:torchbiggraph:Loading partitioned embeddings from checkpoint\n",
            "INFO:torchbiggraph:( 0 , 0 ): Stats before training: loss:  339.515 , pos_rank:  560.847 , mrr:  0.076274 , r1:  0.0578132 , r10:  0.102829 , r50:  0.180063 , auc:  0.722721 , count:  4454\n",
            "INFO:torchbiggraph:( 0 , 0 ): Training stats: loss:  1.96653 , reg:  0 , violators_lhs:  4.42209 , violators_rhs:  3.47489 , count:  84644\n",
            "INFO:torchbiggraph:( 0 , 0 ): Stats after training: loss:  339.085 , pos_rank:  558.466 , mrr:  0.0797399 , r1:  0.0609564 , r10:  0.105635 , r50:  0.181747 , auc:  0.714751 , count:  4454\n",
            "INFO:torchbiggraph:( 0 , 0 ): bucket 1 / 1 : Trained 84644 edges in 0.79 s ( 0.11 M/sec ); Eval 2*4454 edges in 0.26 s ( 0.034 M/sec ); io: 0.02 s for 20,546,800 bytes ( 938.32 MB/sec )\n",
            "INFO:torchbiggraph:Swapping partitioned embeddings ( 0 , 0 ) None\n",
            "INFO:torchbiggraph:Saving partitioned embeddings to checkpoint\n",
            "INFO:torchbiggraph:Finished epoch 24 / 30, edge path 1 / 1, edge chunk 1 / 1\n",
            "INFO:torchbiggraph:Writing the metadata\n",
            "INFO:torchbiggraph:Writing the training stats\n",
            "INFO:torchbiggraph:Writing the checkpoint\n",
            "INFO:torchbiggraph:Switching to the new checkpoint version\n",
            "INFO:torchbiggraph:Starting epoch 25 / 30, edge path 1 / 1, edge chunk 1 / 1\n",
            "INFO:torchbiggraph:Edge path: data/train_partitioned\n",
            "INFO:torchbiggraph:still in queue: 0\n",
            "INFO:torchbiggraph:Swapping partitioned embeddings None ( 0 , 0 )\n",
            "INFO:torchbiggraph:Loading partitioned embeddings from checkpoint\n",
            "INFO:torchbiggraph:( 0 , 0 ): Stats before training: loss:  339.652 , pos_rank:  558.555 , mrr:  0.0801091 , r1:  0.0618545 , r10:  0.105748 , r50:  0.181185 , auc:  0.721711 , count:  4454\n",
            "INFO:torchbiggraph:( 0 , 0 ): Training stats: loss:  1.95624 , reg:  0 , violators_lhs:  4.42471 , violators_rhs:  3.40706 , count:  84644\n",
            "INFO:torchbiggraph:( 0 , 0 ): Stats after training: loss:  338.99 , pos_rank:  559.445 , mrr:  0.0786844 , r1:  0.0606197 , r10:  0.10339 , r50:  0.179165 , auc:  0.716884 , count:  4454\n",
            "INFO:torchbiggraph:( 0 , 0 ): bucket 1 / 1 : Trained 84644 edges in 0.79 s ( 0.11 M/sec ); Eval 2*4454 edges in 0.26 s ( 0.034 M/sec ); io: 0.02 s for 20,546,800 bytes ( 969.51 MB/sec )\n",
            "INFO:torchbiggraph:Swapping partitioned embeddings ( 0 , 0 ) None\n",
            "INFO:torchbiggraph:Saving partitioned embeddings to checkpoint\n",
            "INFO:torchbiggraph:Finished epoch 25 / 30, edge path 1 / 1, edge chunk 1 / 1\n",
            "INFO:torchbiggraph:Writing the metadata\n",
            "INFO:torchbiggraph:Writing the training stats\n",
            "INFO:torchbiggraph:Writing the checkpoint\n",
            "INFO:torchbiggraph:Switching to the new checkpoint version\n",
            "INFO:torchbiggraph:Starting epoch 26 / 30, edge path 1 / 1, edge chunk 1 / 1\n",
            "INFO:torchbiggraph:Edge path: data/train_partitioned\n",
            "INFO:torchbiggraph:still in queue: 0\n",
            "INFO:torchbiggraph:Swapping partitioned embeddings None ( 0 , 0 )\n",
            "INFO:torchbiggraph:Loading partitioned embeddings from checkpoint\n",
            "INFO:torchbiggraph:( 0 , 0 ): Stats before training: loss:  338.844 , pos_rank:  559.589 , mrr:  0.0784192 , r1:  0.0599461 , r10:  0.105523 , r50:  0.180624 , auc:  0.711271 , count:  4454\n",
            "INFO:torchbiggraph:( 0 , 0 ): Training stats: loss:  1.95442 , reg:  0 , violators_lhs:  4.44206 , violators_rhs:  3.43733 , count:  84644\n",
            "INFO:torchbiggraph:( 0 , 0 ): Stats after training: loss:  338.836 , pos_rank:  560.638 , mrr:  0.0744605 , r1:  0.0561293 , r10:  0.0988999 , r50:  0.175348 , auc:  0.716322 , count:  4454\n",
            "INFO:torchbiggraph:( 0 , 0 ): bucket 1 / 1 : Trained 84644 edges in 0.76 s ( 0.11 M/sec ); Eval 2*4454 edges in 0.25 s ( 0.035 M/sec ); io: 0.02 s for 20,546,800 bytes ( 940.00 MB/sec )\n",
            "INFO:torchbiggraph:Swapping partitioned embeddings ( 0 , 0 ) None\n",
            "INFO:torchbiggraph:Saving partitioned embeddings to checkpoint\n",
            "INFO:torchbiggraph:Finished epoch 26 / 30, edge path 1 / 1, edge chunk 1 / 1\n",
            "INFO:torchbiggraph:Writing the metadata\n",
            "INFO:torchbiggraph:Writing the training stats\n",
            "INFO:torchbiggraph:Writing the checkpoint\n",
            "INFO:torchbiggraph:Switching to the new checkpoint version\n",
            "INFO:torchbiggraph:Starting epoch 27 / 30, edge path 1 / 1, edge chunk 1 / 1\n",
            "INFO:torchbiggraph:Edge path: data/train_partitioned\n",
            "INFO:torchbiggraph:still in queue: 0\n",
            "INFO:torchbiggraph:Swapping partitioned embeddings None ( 0 , 0 )\n",
            "INFO:torchbiggraph:Loading partitioned embeddings from checkpoint\n",
            "INFO:torchbiggraph:( 0 , 0 ): Stats before training: loss:  339.119 , pos_rank:  560.807 , mrr:  0.0752985 , r1:  0.0566906 , r10:  0.101257 , r50:  0.176471 , auc:  0.714975 , count:  4454\n",
            "INFO:torchbiggraph:( 0 , 0 ): Training stats: loss:  1.94468 , reg:  0 , violators_lhs:  4.43142 , violators_rhs:  3.43933 , count:  84644\n",
            "INFO:torchbiggraph:( 0 , 0 ): Stats after training: loss:  338.741 , pos_rank:  559.509 , mrr:  0.0790457 , r1:  0.0603952 , r10:  0.104288 , r50:  0.178267 , auc:  0.718455 , count:  4454\n",
            "INFO:torchbiggraph:( 0 , 0 ): bucket 1 / 1 : Trained 84644 edges in 0.95 s ( 0.089 M/sec ); Eval 2*4454 edges in 0.28 s ( 0.032 M/sec ); io: 0.02 s for 20,546,800 bytes ( 976.17 MB/sec )\n",
            "INFO:torchbiggraph:Swapping partitioned embeddings ( 0 , 0 ) None\n",
            "INFO:torchbiggraph:Saving partitioned embeddings to checkpoint\n",
            "INFO:torchbiggraph:Finished epoch 27 / 30, edge path 1 / 1, edge chunk 1 / 1\n",
            "INFO:torchbiggraph:Writing the metadata\n",
            "INFO:torchbiggraph:Writing the training stats\n",
            "INFO:torchbiggraph:Writing the checkpoint\n",
            "INFO:torchbiggraph:Switching to the new checkpoint version\n",
            "INFO:torchbiggraph:Starting epoch 28 / 30, edge path 1 / 1, edge chunk 1 / 1\n",
            "INFO:torchbiggraph:Edge path: data/train_partitioned\n",
            "INFO:torchbiggraph:still in queue: 0\n",
            "INFO:torchbiggraph:Swapping partitioned embeddings None ( 0 , 0 )\n",
            "INFO:torchbiggraph:Loading partitioned embeddings from checkpoint\n",
            "INFO:torchbiggraph:( 0 , 0 ): Stats before training: loss:  338.955 , pos_rank:  559.781 , mrr:  0.0782646 , r1:  0.0592726 , r10:  0.103952 , r50:  0.179053 , auc:  0.714639 , count:  4454\n",
            "INFO:torchbiggraph:( 0 , 0 ): Training stats: loss:  1.93342 , reg:  0 , violators_lhs:  4.42192 , violators_rhs:  3.42327 , count:  84644\n",
            "INFO:torchbiggraph:( 0 , 0 ): Stats after training: loss:  339.224 , pos_rank:  559.631 , mrr:  0.08228 , r1:  0.0643242 , r10:  0.108442 , r50:  0.179053 , auc:  0.715088 , count:  4454\n",
            "INFO:torchbiggraph:( 0 , 0 ): bucket 1 / 1 : Trained 84644 edges in 0.98 s ( 0.086 M/sec ); Eval 2*4454 edges in 0.39 s ( 0.023 M/sec ); io: 0.02 s for 20,546,800 bytes ( 906.40 MB/sec )\n",
            "INFO:torchbiggraph:Swapping partitioned embeddings ( 0 , 0 ) None\n",
            "INFO:torchbiggraph:Saving partitioned embeddings to checkpoint\n",
            "INFO:torchbiggraph:Finished epoch 28 / 30, edge path 1 / 1, edge chunk 1 / 1\n",
            "INFO:torchbiggraph:Writing the metadata\n",
            "INFO:torchbiggraph:Writing the training stats\n",
            "INFO:torchbiggraph:Writing the checkpoint\n",
            "INFO:torchbiggraph:Switching to the new checkpoint version\n",
            "INFO:torchbiggraph:Starting epoch 29 / 30, edge path 1 / 1, edge chunk 1 / 1\n",
            "INFO:torchbiggraph:Edge path: data/train_partitioned\n",
            "INFO:torchbiggraph:still in queue: 0\n",
            "INFO:torchbiggraph:Swapping partitioned embeddings None ( 0 , 0 )\n",
            "INFO:torchbiggraph:Loading partitioned embeddings from checkpoint\n",
            "INFO:torchbiggraph:( 0 , 0 ): Stats before training: loss:  338.58 , pos_rank:  559.881 , mrr:  0.082929 , r1:  0.0648855 , r10:  0.108666 , r50:  0.179053 , auc:  0.71026 , count:  4454\n",
            "INFO:torchbiggraph:( 0 , 0 ): Training stats: loss:  1.92976 , reg:  0 , violators_lhs:  4.4165 , violators_rhs:  3.42459 , count:  84644\n",
            "INFO:torchbiggraph:( 0 , 0 ): Stats after training: loss:  338.349 , pos_rank:  558.725 , mrr:  0.0831376 , r1:  0.0652223 , r10:  0.10934 , r50:  0.179726 , auc:  0.730916 , count:  4454\n",
            "INFO:torchbiggraph:( 0 , 0 ): bucket 1 / 1 : Trained 84644 edges in 0.81 s ( 0.1 M/sec ); Eval 2*4454 edges in 0.27 s ( 0.033 M/sec ); io: 0.02 s for 20,546,800 bytes ( 1045.74 MB/sec )\n",
            "INFO:torchbiggraph:Swapping partitioned embeddings ( 0 , 0 ) None\n",
            "INFO:torchbiggraph:Saving partitioned embeddings to checkpoint\n",
            "INFO:torchbiggraph:Finished epoch 29 / 30, edge path 1 / 1, edge chunk 1 / 1\n",
            "INFO:torchbiggraph:Writing the metadata\n",
            "INFO:torchbiggraph:Writing the training stats\n",
            "INFO:torchbiggraph:Writing the checkpoint\n",
            "INFO:torchbiggraph:Switching to the new checkpoint version\n",
            "INFO:torchbiggraph:Starting epoch 30 / 30, edge path 1 / 1, edge chunk 1 / 1\n",
            "INFO:torchbiggraph:Edge path: data/train_partitioned\n",
            "INFO:torchbiggraph:still in queue: 0\n",
            "INFO:torchbiggraph:Swapping partitioned embeddings None ( 0 , 0 )\n",
            "INFO:torchbiggraph:Loading partitioned embeddings from checkpoint\n",
            "INFO:torchbiggraph:( 0 , 0 ): Stats before training: loss:  339.577 , pos_rank:  559.856 , mrr:  0.083656 , r1:  0.0652223 , r10:  0.109228 , r50:  0.180624 , auc:  0.722833 , count:  4454\n",
            "INFO:torchbiggraph:( 0 , 0 ): Training stats: loss:  1.92919 , reg:  0 , violators_lhs:  4.44478 , violators_rhs:  3.45109 , count:  84644\n",
            "INFO:torchbiggraph:( 0 , 0 ): Stats after training: loss:  338.872 , pos_rank:  558.776 , mrr:  0.0777249 , r1:  0.059048 , r10:  0.104176 , r50:  0.17793 , auc:  0.710934 , count:  4454\n",
            "INFO:torchbiggraph:( 0 , 0 ): bucket 1 / 1 : Trained 84644 edges in 0.78 s ( 0.11 M/sec ); Eval 2*4454 edges in 0.27 s ( 0.033 M/sec ); io: 0.02 s for 20,546,800 bytes ( 854.95 MB/sec )\n",
            "INFO:torchbiggraph:Swapping partitioned embeddings ( 0 , 0 ) None\n",
            "INFO:torchbiggraph:Saving partitioned embeddings to checkpoint\n",
            "INFO:torchbiggraph:Finished epoch 30 / 30, edge path 1 / 1, edge chunk 1 / 1\n",
            "INFO:torchbiggraph:Writing the metadata\n",
            "INFO:torchbiggraph:Writing the training stats\n",
            "INFO:torchbiggraph:Writing the checkpoint\n",
            "INFO:torchbiggraph:Switching to the new checkpoint version\n",
            "INFO:torchbiggraph:Exiting\n"
          ]
        }
      ]
    },
    {
      "cell_type": "code",
      "source": [
        "eval_config = attr.evolve(config, edge_paths=[output_test_path])\n",
        "do_eval(eval_config, subprocess_init=subprocess_init)"
      ],
      "metadata": {
        "colab": {
          "base_uri": "https://localhost:8080/"
        },
        "id": "YTI_xjLuFeVd",
        "outputId": "11255b92-4665-48ad-ad7c-54f9ea7dc494"
      },
      "execution_count": 15,
      "outputs": [
        {
          "output_type": "stream",
          "name": "stderr",
          "text": [
            "INFO:torchbiggraph:Starting edge path 1 / 1 (data/test_partitioned)\n",
            "INFO:torchbiggraph:( 0 , 0 ): Processed 22275 edges in 1.4 s (0.015M/sec); load time: 0.041 s\n",
            "INFO:torchbiggraph:Stats for edge path 1 / 1, bucket ( 0 , 0 ): loss:  18.5688 , pos_rank:  32.0802 , mrr:  0.178643 , r1:  0.10009 , r10:  0.351223 , r50:  0.726375 , auc:  0.701235 , count:  22275\n",
            "INFO:torchbiggraph:\n",
            "INFO:torchbiggraph:Stats for edge path 1 / 1: loss:  18.5688 , pos_rank:  32.0802 , mrr:  0.178643 , r1:  0.10009 , r10:  0.351223 , r50:  0.726375 , auc:  0.701235 , count:  22275\n",
            "INFO:torchbiggraph:\n",
            "INFO:torchbiggraph:\n",
            "INFO:torchbiggraph:Stats: loss:  18.5688 , pos_rank:  32.0802 , mrr:  0.178643 , r1:  0.10009 , r10:  0.351223 , r50:  0.726375 , auc:  0.701235 , count:  22275\n",
            "INFO:torchbiggraph:\n"
          ]
        }
      ]
    },
    {
      "cell_type": "markdown",
      "source": [
        "## Save embeddings"
      ],
      "metadata": {
        "id": "XdtRjULVLS8t"
      }
    },
    {
      "cell_type": "code",
      "source": [
        "!torchbiggraph_export_to_tsv \\\n",
        "    'PyTorch-BigGraph/torchbiggraph/examples/configs/politifact_config.py' \\\n",
        "    --entities-output entity_embeddings.tsv \\\n",
        "    --relation-types-output relation_types_parameters.tsv"
      ],
      "metadata": {
        "colab": {
          "base_uri": "https://localhost:8080/"
        },
        "id": "aaY3jLuWV6K4",
        "outputId": "9174004e-3df6-47b0-b05c-6e9fde788089"
      },
      "execution_count": null,
      "outputs": [
        {
          "output_type": "stream",
          "name": "stdout",
          "text": [
            "Loading relation types and entities...\n",
            "Initializing model...\n",
            "Loading model check point...\n",
            "Writing entity embeddings...\n",
            "Reading embeddings for entity type user partition 0 from checkpoint...\n",
            "Writing embeddings for entity type user partition 0 to output file...\n",
            "- Processed 5000/71759 entities so far...\n",
            "- Processed 10000/71759 entities so far...\n",
            "- Processed 15000/71759 entities so far...\n",
            "- Processed 20000/71759 entities so far...\n",
            "- Processed 25000/71759 entities so far...\n",
            "- Processed 30000/71759 entities so far...\n",
            "- Processed 35000/71759 entities so far...\n",
            "- Processed 40000/71759 entities so far...\n",
            "- Processed 45000/71759 entities so far...\n",
            "- Processed 50000/71759 entities so far...\n",
            "- Processed 55000/71759 entities so far...\n",
            "- Processed 60000/71759 entities so far...\n",
            "- Processed 65000/71759 entities so far...\n",
            "- Processed 70000/71759 entities so far...\n",
            "- Processed all 71759 entities\n",
            "Reading embeddings for entity type article partition 0 from checkpoint...\n",
            "Writing embeddings for entity type article partition 0 to output file...\n",
            "- Processed all 149 entities\n",
            "Done exporting entity data to entity_embeddings.tsv\n",
            "Writing relation type parameters...\n",
            "Done exporting relation type data to relation_types_parameters.tsv\n"
          ]
        }
      ]
    },
    {
      "cell_type": "markdown",
      "source": [
        "### Save article embeddings"
      ],
      "metadata": {
        "id": "uOr3ukfCQ8be"
      }
    },
    {
      "cell_type": "code",
      "source": [
        "import numpy as np\n",
        "\n",
        "from torchbiggraph.checkpoint_manager import CheckpointManager\n",
        "from torchbiggraph.config import ConfigFileLoader, ConfigSchema\n",
        "from torchbiggraph.graph_storages import (\n",
        "    AbstractEntityStorage,\n",
        "    AbstractRelationTypeStorage,\n",
        "    ENTITY_STORAGES,\n",
        "    RELATION_TYPE_STORAGES,\n",
        ")\n",
        "from torchbiggraph.model import make_model, MultiRelationEmbedder"
      ],
      "metadata": {
        "id": "Oy8omdmFGPle"
      },
      "execution_count": null,
      "outputs": []
    },
    {
      "cell_type": "code",
      "source": [
        "ent_t_name = 'article'"
      ],
      "metadata": {
        "id": "3rmdTpAILZaj"
      },
      "execution_count": null,
      "outputs": []
    },
    {
      "cell_type": "code",
      "source": [
        "entity_storage = ENTITY_STORAGES.make_instance(config.entity_path)\n",
        "relation_type_storage = RELATION_TYPE_STORAGES.make_instance(config.entity_path)\n",
        "\n",
        "print(\"Initializing model...\")\n",
        "model = make_model(config)\n",
        "\n",
        "print(\"Loading model check point...\")\n",
        "checkpoint_manager = CheckpointManager(config.checkpoint_path)\n",
        "state_dict, _ = checkpoint_manager.read_model()\n",
        "if state_dict is not None:\n",
        "    model.load_state_dict(state_dict, strict=False)"
      ],
      "metadata": {
        "colab": {
          "base_uri": "https://localhost:8080/"
        },
        "id": "0OlBL3RqISAk",
        "outputId": "a34d69cc-f647-4b9c-d13c-d2e1b4ed28bf"
      },
      "execution_count": null,
      "outputs": [
        {
          "output_type": "stream",
          "name": "stdout",
          "text": [
            "Initializing model...\n",
            "Loading model check point...\n"
          ]
        }
      ]
    },
    {
      "cell_type": "code",
      "source": [
        "ent_t_config = model.entities[ent_t_name]"
      ],
      "metadata": {
        "id": "AQz7ZblHI5Hy"
      },
      "execution_count": null,
      "outputs": []
    },
    {
      "cell_type": "code",
      "source": [
        "entities = []\n",
        "embeddings = []\n",
        "for partition in range(ent_t_config.num_partitions):\n",
        "    print(\n",
        "        f\"Reading embeddings for entity type {ent_t_name} partition \"\n",
        "        f\"{partition} from checkpoint...\"\n",
        "    )\n",
        "    entities.extend(entity_storage.load_names(ent_t_name, partition))\n",
        "    embeddings_, _ = checkpoint_manager.read(ent_t_name, partition)\n",
        "\n",
        "    if model.global_embs is not None:\n",
        "        embeddings_ += model.global_embs[model.EMB_PREFIX + ent_t_name]\n",
        "    embeddings.append(embeddings_)\n",
        "\n",
        "embeddings = np.concatenate(embeddings)"
      ],
      "metadata": {
        "colab": {
          "base_uri": "https://localhost:8080/"
        },
        "id": "jsjFJD8pIm9E",
        "outputId": "b2a04b5a-9ade-4293-e154-9e7decf41839"
      },
      "execution_count": null,
      "outputs": [
        {
          "output_type": "stream",
          "name": "stdout",
          "text": [
            "Reading embeddings for entity type article partition 0 from checkpoint...\n"
          ]
        }
      ]
    },
    {
      "cell_type": "code",
      "source": [
        "np.save(base_dir/f'pt_biggraph_article_idx_{dimension}.npy', np.array([int(e) for e in entities]))\n",
        "np.save(base_dir/f'pt_biggraph_article_embeddings_{dimension}.npy', embeddings)"
      ],
      "metadata": {
        "id": "gEHxv2O4MLyW"
      },
      "execution_count": null,
      "outputs": []
    },
    {
      "cell_type": "code",
      "source": [],
      "metadata": {
        "id": "ZSUvXc2xQBIj"
      },
      "execution_count": null,
      "outputs": []
    }
  ]
}