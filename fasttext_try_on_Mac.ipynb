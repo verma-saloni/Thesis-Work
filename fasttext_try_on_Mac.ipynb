{
  "nbformat": 4,
  "nbformat_minor": 0,
  "metadata": {
    "colab": {
      "name": "fasttext try on Mac",
      "provenance": [],
      "collapsed_sections": [],
      "authorship_tag": "ABX9TyOokPeI5esJ3YhanPIryOYK",
      "include_colab_link": true
    },
    "kernelspec": {
      "name": "python3",
      "display_name": "Python 3"
    },
    "language_info": {
      "name": "python"
    },
    "accelerator": "GPU"
  },
  "cells": [
    {
      "cell_type": "markdown",
      "metadata": {
        "id": "view-in-github",
        "colab_type": "text"
      },
      "source": [
        "<a href=\"https://colab.research.google.com/github/verma-saloni/Thesis-Work/blob/main/fasttext_try_on_Mac.ipynb\" target=\"_parent\"><img src=\"https://colab.research.google.com/assets/colab-badge.svg\" alt=\"Open In Colab\"/></a>"
      ]
    },
    {
      "cell_type": "code",
      "source": [
        "!wget https://dl.fbaipublicfiles.com/fasttext/vectors-crawl/cc.en.300.bin.gz\n",
        "!gunzip cc.en.300.bin.gz"
      ],
      "metadata": {
        "colab": {
          "base_uri": "https://localhost:8080/"
        },
        "id": "kUOUojgz680H",
        "outputId": "15a62c50-1082-456e-d431-ff96823f6177"
      },
      "execution_count": 3,
      "outputs": [
        {
          "output_type": "stream",
          "name": "stdout",
          "text": [
            "--2022-01-25 20:37:56--  https://dl.fbaipublicfiles.com/fasttext/vectors-crawl/cc.en.300.bin.gz\n",
            "Resolving dl.fbaipublicfiles.com (dl.fbaipublicfiles.com)... 104.22.74.142, 104.22.75.142, 172.67.9.4, ...\n",
            "Connecting to dl.fbaipublicfiles.com (dl.fbaipublicfiles.com)|104.22.74.142|:443... connected.\n",
            "HTTP request sent, awaiting response... 200 OK\n",
            "Length: 4503593528 (4.2G) [application/octet-stream]\n",
            "Saving to: ‘cc.en.300.bin.gz’\n",
            "\n",
            "cc.en.300.bin.gz    100%[===================>]   4.19G  24.0MB/s    in 3m 0s   \n",
            "\n",
            "2022-01-25 20:40:57 (23.8 MB/s) - ‘cc.en.300.bin.gz’ saved [4503593528/4503593528]\n",
            "\n"
          ]
        }
      ]
    },
    {
      "cell_type": "code",
      "source": [
        "!gunzip cc.en.300.bin.gz"
      ],
      "metadata": {
        "colab": {
          "base_uri": "https://localhost:8080/"
        },
        "id": "5gc6g5VN7gKR",
        "outputId": "1a9de25a-6a03-47de-983f-49b8c6a31f0f"
      },
      "execution_count": 2,
      "outputs": [
        {
          "output_type": "stream",
          "name": "stdout",
          "text": [
            "gzip: cc.en.300.bin.gz: No such file or directory\n"
          ]
        }
      ]
    },
    {
      "cell_type": "code",
      "execution_count": 4,
      "metadata": {
        "id": "PpPq9DOzx2rj",
        "colab": {
          "base_uri": "https://localhost:8080/"
        },
        "outputId": "0719ed10-303b-4688-f691-caf41720d337"
      },
      "outputs": [
        {
          "output_type": "stream",
          "name": "stdout",
          "text": [
            "Requirement already satisfied: fasttext in /usr/local/lib/python3.7/dist-packages (0.9.2)\n",
            "Requirement already satisfied: numpy in /usr/local/lib/python3.7/dist-packages (from fasttext) (1.19.5)\n",
            "Requirement already satisfied: pybind11>=2.2 in /usr/local/lib/python3.7/dist-packages (from fasttext) (2.9.0)\n",
            "Requirement already satisfied: setuptools>=0.7.0 in /usr/local/lib/python3.7/dist-packages (from fasttext) (57.4.0)\n",
            "Collecting pyfasttext\n",
            "  Using cached pyfasttext-0.4.6.tar.gz (244 kB)\n",
            "Requirement already satisfied: future in /usr/local/lib/python3.7/dist-packages (from pyfasttext) (0.16.0)\n",
            "Collecting cysignals\n",
            "  Using cached cysignals-1.11.2-cp37-cp37m-manylinux_2_17_x86_64.manylinux2014_x86_64.whl (871 kB)\n",
            "Requirement already satisfied: numpy in /usr/local/lib/python3.7/dist-packages (from pyfasttext) (1.19.5)\n",
            "Requirement already satisfied: Cython>=0.28 in /usr/local/lib/python3.7/dist-packages (from cysignals->pyfasttext) (0.29.26)\n",
            "Building wheels for collected packages: pyfasttext\n",
            "  Building wheel for pyfasttext (setup.py) ... \u001b[?25l\u001b[?25hdone\n",
            "  Created wheel for pyfasttext: filename=pyfasttext-0.4.6-cp37-cp37m-linux_x86_64.whl size=1459918 sha256=fa6be2fdc263475211a3dcf10ceacb1df1f66dd74b3a04e3f3f8b8edbc0296b8\n",
            "  Stored in directory: /root/.cache/pip/wheels/e6/e7/60/c4506ea3173416f3774e221bd741d06bfc2127ec23ceff6619\n",
            "Successfully built pyfasttext\n",
            "Installing collected packages: cysignals, pyfasttext\n",
            "Successfully installed cysignals-1.11.2 pyfasttext-0.4.6\n"
          ]
        },
        {
          "output_type": "stream",
          "name": "stderr",
          "text": [
            "Warning : `load_model` does not return WordVectorModel or SupervisedModel any more, but a `FastText` object which is very similar.\n"
          ]
        }
      ],
      "source": [
        "#!pip install sister\n",
        "!pip install fasttext\n",
        "#!pip install unzip\n",
        "#!pip install gunzip\n",
        "#!gunzip cc.en.300.bin.gz  #common issue: https://github.com/facebookresearch/fastText/issues/1034\n",
        "import fasttext as ft\n",
        "\n",
        "!pip3 install pyfasttext\n",
        "from pyfasttext import FastText\n",
        "\n",
        "# Loading model for English\n",
        "modelog = ft.load_model('cc.en.300.bin') \n",
        " \n",
        "# Getting word vectors for 'one' and 'two'.\n",
        "one = modelog.get_word_vector('one')\n",
        "two = modelog.get_word_vector('two')\n",
        "\n",
        "# Getting the sentence vector for the sentence \"one two\" in Finnish.\n",
        "one_two = modelog.get_sentence_vector('one two')\n",
        "one_two_avg = (one + two) / 2"
      ]
    },
    {
      "cell_type": "code",
      "source": [
        "c = modelog.get_sentence_vector('paris hiltion liam hemswoth go to hospital')"
      ],
      "metadata": {
        "id": "jEM5t51K8uBD"
      },
      "execution_count": 6,
      "outputs": []
    },
    {
      "cell_type": "code",
      "source": [
        "type(c)\n"
      ],
      "metadata": {
        "colab": {
          "base_uri": "https://localhost:8080/"
        },
        "id": "6n0-Yl_1_k8n",
        "outputId": "76312a47-183a-405e-a300-f6a119b04c00"
      },
      "execution_count": 9,
      "outputs": [
        {
          "output_type": "execute_result",
          "data": {
            "text/plain": [
              "numpy.ndarray"
            ]
          },
          "metadata": {},
          "execution_count": 9
        }
      ]
    }
  ]
}