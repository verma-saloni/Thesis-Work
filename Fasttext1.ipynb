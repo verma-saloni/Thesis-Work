{
  "nbformat": 4,
  "nbformat_minor": 0,
  "metadata": {
    "colab": {
      "name": "Fasttext1.ipynb",
      "provenance": [],
      "collapsed_sections": [],
      "mount_file_id": "1JAfWRZex7N1gP2HMjdWQZebCsMZRthYc",
      "authorship_tag": "ABX9TyMHc9eIlNfIZtsmmRtfKKqN",
      "include_colab_link": true
    },
    "kernelspec": {
      "name": "python3",
      "display_name": "Python 3"
    },
    "language_info": {
      "name": "python"
    }
  },
  "cells": [
    {
      "cell_type": "markdown",
      "metadata": {
        "id": "view-in-github",
        "colab_type": "text"
      },
      "source": [
        "<a href=\"https://colab.research.google.com/github/verma-saloni/Thesis-Work/blob/main/Fasttext1.ipynb\" target=\"_parent\"><img src=\"https://colab.research.google.com/assets/colab-badge.svg\" alt=\"Open In Colab\"/></a>"
      ]
    },
    {
      "cell_type": "code",
      "source": [
        "!pip install unidecode\n",
        "!pip install word2number\n",
        "!pip install contractions"
      ],
      "metadata": {
        "colab": {
          "base_uri": "https://localhost:8080/"
        },
        "id": "aByzVMdkzqAJ",
        "outputId": "25439cc3-63e2-4ec4-b691-7e114f10768c"
      },
      "execution_count": null,
      "outputs": [
        {
          "output_type": "stream",
          "name": "stdout",
          "text": [
            "Requirement already satisfied: unidecode in /usr/local/lib/python3.7/dist-packages (1.3.2)\n",
            "Collecting word2number\n",
            "  Downloading word2number-1.1.zip (9.7 kB)\n",
            "Building wheels for collected packages: word2number\n",
            "  Building wheel for word2number (setup.py) ... \u001b[?25l\u001b[?25hdone\n",
            "  Created wheel for word2number: filename=word2number-1.1-py3-none-any.whl size=5582 sha256=beff3aea39d80836f467cac9c7d0b1a0d2525996dd51696290e490707b2583f5\n",
            "  Stored in directory: /root/.cache/pip/wheels/4b/c3/77/a5f48aeb0d3efb7cd5ad61cbd3da30bbf9ffc9662b07c9f879\n",
            "Successfully built word2number\n",
            "Installing collected packages: word2number\n",
            "Successfully installed word2number-1.1\n",
            "Collecting contractions\n",
            "  Downloading contractions-0.0.58-py2.py3-none-any.whl (8.0 kB)\n",
            "Collecting textsearch>=0.0.21\n",
            "  Downloading textsearch-0.0.21-py2.py3-none-any.whl (7.5 kB)\n",
            "Collecting anyascii\n",
            "  Downloading anyascii-0.3.0-py3-none-any.whl (284 kB)\n",
            "\u001b[K     |████████████████████████████████| 284 kB 8.1 MB/s \n",
            "\u001b[?25hCollecting pyahocorasick\n",
            "  Downloading pyahocorasick-1.4.2.tar.gz (321 kB)\n",
            "\u001b[K     |████████████████████████████████| 321 kB 66.8 MB/s \n",
            "\u001b[?25hBuilding wheels for collected packages: pyahocorasick\n",
            "  Building wheel for pyahocorasick (setup.py) ... \u001b[?25l\u001b[?25hdone\n",
            "  Created wheel for pyahocorasick: filename=pyahocorasick-1.4.2-cp37-cp37m-linux_x86_64.whl size=85452 sha256=ac55d29d01d703d087d88315a9bf7a8bafba6aa7f47f095315e1fe5af53cd6e6\n",
            "  Stored in directory: /root/.cache/pip/wheels/25/19/a6/8f363d9939162782bb8439d886469756271abc01f76fbd790f\n",
            "Successfully built pyahocorasick\n",
            "Installing collected packages: pyahocorasick, anyascii, textsearch, contractions\n",
            "Successfully installed anyascii-0.3.0 contractions-0.0.58 pyahocorasick-1.4.2 textsearch-0.0.21\n"
          ]
        }
      ]
    },
    {
      "cell_type": "code",
      "execution_count": null,
      "metadata": {
        "colab": {
          "base_uri": "https://localhost:8080/"
        },
        "id": "8wffusyCytsx",
        "outputId": "7f440b34-acc3-44fa-cbba-8bf6f7aa9be4"
      },
      "outputs": [
        {
          "output_type": "stream",
          "name": "stdout",
          "text": [
            "[nltk_data] Downloading package punkt to /root/nltk_data...\n",
            "[nltk_data]   Package punkt is already up-to-date!\n",
            "[nltk_data] Downloading package stopwords to /root/nltk_data...\n",
            "[nltk_data]   Package stopwords is already up-to-date!\n"
          ]
        }
      ],
      "source": [
        "import pandas as pd\n",
        "import numpy as np\n",
        "import nltk\n",
        "nltk.download('punkt')\n",
        "from nltk.tokenize import sent_tokenize, word_tokenize\n",
        "import warnings\n",
        "import gensim\n",
        "from gensim.models import Word2Vec\n",
        "import string\n",
        "string.punctuation\n",
        "nltk.download('stopwords')\n",
        "import re\n",
        "from bs4 import BeautifulSoup\n",
        "import spacy\n",
        "import unidecode\n",
        "from word2number import w2n\n",
        "import contractions\n",
        "from nltk.tokenize.treebank import TreebankWordDetokenizer\n",
        "# load spacy model, can be \"en_core_web_sm\" as well\n",
        "from sklearn.model_selection import train_test_split\n",
        "import xgboost as xgb\n",
        "\n"
      ]
    },
    {
      "cell_type": "code",
      "source": [
        "from google.colab import drive\n",
        "drive._mount('/content/drive')"
      ],
      "metadata": {
        "colab": {
          "base_uri": "https://localhost:8080/"
        },
        "id": "SusBhh-CzXYG",
        "outputId": "bb0b55f8-f886-4a9b-ce7e-b18b6bb1eca2"
      },
      "execution_count": null,
      "outputs": [
        {
          "output_type": "stream",
          "name": "stdout",
          "text": [
            "Drive already mounted at /content/drive; to attempt to forcibly remount, call drive.mount(\"/content/drive\", force_remount=True).\n"
          ]
        }
      ]
    },
    {
      "cell_type": "code",
      "source": [
        "df_fake = pd.read_csv('/content/drive/MyDrive/Thesis/gossipcop_fake.csv')\n",
        "df_real = pd.read_csv('/content/drive/MyDrive/Thesis/gossipcop_real.csv')\n",
        "df_fake['labelML']=0\n",
        "df_real['labelML']=1\n",
        "\n",
        "df_fake.count()\n"
      ],
      "metadata": {
        "id": "bwskIeYazYL6",
        "colab": {
          "base_uri": "https://localhost:8080/"
        },
        "outputId": "4d2decbe-caf3-44d8-9bcb-badcd6576fd9"
      },
      "execution_count": 262,
      "outputs": [
        {
          "output_type": "execute_result",
          "data": {
            "text/plain": [
              "id           5323\n",
              "news_url     5067\n",
              "title        5323\n",
              "tweet_ids    5135\n",
              "labelML      5323\n",
              "dtype: int64"
            ]
          },
          "metadata": {},
          "execution_count": 262
        }
      ]
    },
    {
      "cell_type": "code",
      "source": [
        "#df= df_fake.head(50).append(df_real.head(50))\n",
        "df= df_fake.append(df_real)\n",
        "df.reset_index(drop=True, inplace=True)"
      ],
      "metadata": {
        "id": "mbqeWkN1JDGJ"
      },
      "execution_count": 263,
      "outputs": []
    },
    {
      "cell_type": "code",
      "source": [
        "print(df.columns)\n",
        "df.count()\n",
        "print(df)"
      ],
      "metadata": {
        "colab": {
          "base_uri": "https://localhost:8080/"
        },
        "id": "bjYdaIs51j87",
        "outputId": "771368a0-6ee9-41c8-ac1d-40445a93c58c"
      },
      "execution_count": 264,
      "outputs": [
        {
          "output_type": "stream",
          "name": "stdout",
          "text": [
            "Index(['id', 'news_url', 'title', 'tweet_ids', 'labelML'], dtype='object')\n",
            "                         id  ... labelML\n",
            "0      gossipcop-2493749932  ...       0\n",
            "1      gossipcop-4580247171  ...       0\n",
            "2       gossipcop-941805037  ...       0\n",
            "3      gossipcop-2547891536  ...       0\n",
            "4      gossipcop-5476631226  ...       0\n",
            "...                     ...  ...     ...\n",
            "22135      gossipcop-891749  ...       1\n",
            "22136      gossipcop-941486  ...       1\n",
            "22137      gossipcop-953143  ...       1\n",
            "22138      gossipcop-954366  ...       1\n",
            "22139      gossipcop-877062  ...       1\n",
            "\n",
            "[22140 rows x 5 columns]\n"
          ]
        }
      ]
    },
    {
      "cell_type": "code",
      "source": [
        "print(df)"
      ],
      "metadata": {
        "id": "o2VUVYCL1q1i",
        "colab": {
          "base_uri": "https://localhost:8080/"
        },
        "outputId": "732a918b-5841-4a88-e2ab-aa741e4fd1cd"
      },
      "execution_count": 265,
      "outputs": [
        {
          "output_type": "stream",
          "name": "stdout",
          "text": [
            "                         id  ... labelML\n",
            "0      gossipcop-2493749932  ...       0\n",
            "1      gossipcop-4580247171  ...       0\n",
            "2       gossipcop-941805037  ...       0\n",
            "3      gossipcop-2547891536  ...       0\n",
            "4      gossipcop-5476631226  ...       0\n",
            "...                     ...  ...     ...\n",
            "22135      gossipcop-891749  ...       1\n",
            "22136      gossipcop-941486  ...       1\n",
            "22137      gossipcop-953143  ...       1\n",
            "22138      gossipcop-954366  ...       1\n",
            "22139      gossipcop-877062  ...       1\n",
            "\n",
            "[22140 rows x 5 columns]\n"
          ]
        }
      ]
    },
    {
      "cell_type": "code",
      "source": [
        "df1= df.drop(['tweet_ids', 'news_url','id'], axis=1)\n",
        "df1.count()"
      ],
      "metadata": {
        "id": "jwscw5FG1t8P",
        "colab": {
          "base_uri": "https://localhost:8080/"
        },
        "outputId": "17a4ee76-9fc6-4d92-c911-95e71144d0a8"
      },
      "execution_count": 266,
      "outputs": [
        {
          "output_type": "execute_result",
          "data": {
            "text/plain": [
              "title      22140\n",
              "labelML    22140\n",
              "dtype: int64"
            ]
          },
          "metadata": {},
          "execution_count": 266
        }
      ]
    },
    {
      "cell_type": "code",
      "source": [
        "# NLP Preprocessing\n",
        "from gensim.utils import simple_preprocess\n",
        "\n",
        "# NLP Preprocess - gensim.utils.simple_preprocess(doc, deacc=False, min_len=2, max_len=15)[source]\n",
        "# Convert a document into a list of tokens.\n",
        "# This lowercases, tokenizes, de-accents (optional). – the output are final tokens = unicode strings, that won’t be processed any further.\n",
        "\n",
        "df1.iloc[:, 0] = df1.iloc[:, 0].apply(lambda x: ' '.join(simple_preprocess(x)))"
      ],
      "metadata": {
        "id": "hdd1tdzS2HmB"
      },
      "execution_count": 267,
      "outputs": []
    },
    {
      "cell_type": "code",
      "source": [
        "# Prefixing each row of the category column with '__label__' 0;10 all rows. same for column. \n",
        "#---------df1.iloc[:, 0] = df1.iloc[1:, 0].apply(lambda x: '__label__' + x)\n",
        "#print(df1)"
      ],
      "metadata": {
        "id": "l0VW4-_B3Ool"
      },
      "execution_count": 210,
      "outputs": []
    },
    {
      "cell_type": "code",
      "source": [
        "#print(df1)\n",
        "df1.count()"
      ],
      "metadata": {
        "id": "h6wPx2906bxr",
        "colab": {
          "base_uri": "https://localhost:8080/"
        },
        "outputId": "b7a67988-168f-465f-99c7-bb59977d43a5"
      },
      "execution_count": 268,
      "outputs": [
        {
          "output_type": "execute_result",
          "data": {
            "text/plain": [
              "title      22140\n",
              "labelML    22140\n",
              "dtype: int64"
            ]
          },
          "metadata": {},
          "execution_count": 268
        }
      ]
    },
    {
      "cell_type": "markdown",
      "source": [
        "\n",
        " #df = df.loc[:,\"title\"]\n",
        " # just for loc practice, ignore.\n",
        "\n",
        " X_train - This includes your all independent variables,these will be used to train the model, also as we have specified the test_size = 0.4, this means 60% of observations from your complete data will be used to train/fit the model and rest 40% will be used to test the model.\n",
        "\n",
        "2). X_test - This is remaining 40% portion of the independent variables from the data which will not be used in the training phase and will be used to make predictions to test the accuracy of the model.\n",
        "\n",
        "3). y_train - This is your dependent variable which needs to be predicted by this model, this includes category labels against your independent variables, we need to specify our dependent variable while training/fitting the model.\n",
        "\n",
        "4). y_test - This data has category labels for your test data, these labels will be used to test the accuracy between actual and predicted categories.\n"
      ],
      "metadata": {
        "id": "U0I2iZpj83sQ"
      }
    },
    {
      "cell_type": "code",
      "source": [
        "# Prefixing each row of the category column with '__label__' 0;10 all rows. same for column. \n",
        "df1.iloc[:5322, 0] = df1.iloc[:, 0].apply(lambda x: '__label__0 ' + x)\n",
        "df1.iloc[5323:, 0] = df1.iloc[1:, 0].apply(lambda x: '__label__1 ' + x)\n"
      ],
      "metadata": {
        "id": "A6LGL-V67EHw"
      },
      "execution_count": 269,
      "outputs": []
    },
    {
      "cell_type": "code",
      "source": [
        "print(df1)"
      ],
      "metadata": {
        "colab": {
          "base_uri": "https://localhost:8080/"
        },
        "id": "d370GpN5NJc7",
        "outputId": "de1122ae-6f76-48df-b753-7a7fddf178c8"
      },
      "execution_count": 270,
      "outputs": [
        {
          "output_type": "stream",
          "name": "stdout",
          "text": [
            "                                                   title  labelML\n",
            "0      __label__0 did miley cyrus and liam hemsworth ...        0\n",
            "1      __label__0 paris jackson cara delevingne enjoy...        0\n",
            "2      __label__0 celebrities join tax march in prote...        0\n",
            "3      __label__0 cindy crawford daughter kaia gerber...        0\n",
            "4      __label__0 full list of oscar nominations variety        0\n",
            "...                                                  ...      ...\n",
            "22135  __label__1 hollywood film awards the complete ...        1\n",
            "22136  __label__1 jada pinkett smith explains why son...        1\n",
            "22137  __label__1 tinsley mortimer reacts to luann de...        1\n",
            "22138  __label__1 prince harry carries on princess di...        1\n",
            "22139  __label__1 kylie jenner is actually terrified ...        1\n",
            "\n",
            "[22140 rows x 2 columns]\n"
          ]
        }
      ]
    },
    {
      "cell_type": "code",
      "source": [
        "df1.count()"
      ],
      "metadata": {
        "colab": {
          "base_uri": "https://localhost:8080/"
        },
        "id": "6cQ2Qo3dE028",
        "outputId": "9b58df8c-ccd7-469d-cbc4-21dea7ff8623"
      },
      "execution_count": 271,
      "outputs": [
        {
          "output_type": "execute_result",
          "data": {
            "text/plain": [
              "title      22140\n",
              "labelML    22140\n",
              "dtype: int64"
            ]
          },
          "metadata": {},
          "execution_count": 271
        }
      ]
    },
    {
      "cell_type": "code",
      "source": [
        "df1.reset_index(drop=True, inplace=True)\n",
        "X, y = df1.iloc[:, 1:], df1['labelML']\n",
        "\n",
        "# Create the training and test sets #IMP: use stratify when dataset is not balanced \n",
        "#https://stackoverflow.com/questions/24147278/how-do-i-create-test-and-train-samples-from-one-dataframe-with-pandas \n",
        "#--for few entries-- #X_train, X_test, y_train, y_test = train_test_split(X, y, test_size=0.1, random_state=123)\n",
        "\n",
        "X_train, X_test, y_train, y_test = train_test_split(X, y, stratify=y, test_size=0.3)\n",
        "\n",
        "# Instantiate the XGBClassifier: xg_cl\n",
        "xg_cl = xgb.XGBClassifier(objective='binary:logistic', n_estimators=10, seed=123)\n",
        "\n",
        "# Fit the classifier to the training set\n",
        "xg_cl.fit(X_train, y_train)\n",
        "\n",
        "# Predict the labels of the test set: preds\n",
        "preds = xg_cl.predict(X_test)\n",
        "\n",
        "# Compute the accuracy: accuracy\n",
        "accuracy = float(np.sum(preds == y_test)) / y_test.shape[0]\n",
        "print(\"accuracy: %f\" % (accuracy))"
      ],
      "metadata": {
        "colab": {
          "base_uri": "https://localhost:8080/"
        },
        "id": "kRG_kuxYD8ld",
        "outputId": "b2864567-7d38-4f4d-9fde-26f25f6697d9"
      },
      "execution_count": 272,
      "outputs": [
        {
          "output_type": "stream",
          "name": "stdout",
          "text": [
            "accuracy: 1.000000\n"
          ]
        }
      ]
    },
    {
      "cell_type": "code",
      "source": [
        "df2=df1\n",
        "# ------------- df2 = df2.reindex(columns=['labelML', 'title'])\n",
        "#print(df1)"
      ],
      "metadata": {
        "id": "k8Q5iYqKFV5l"
      },
      "execution_count": 273,
      "outputs": []
    },
    {
      "cell_type": "code",
      "source": [
        "traindf, testdf = train_test_split(df2, test_size=0.2)\n",
        "print(traindf)\n",
        "print(testdf)  #check things here since it is kinda wrong.\n",
        "\n",
        "traindf.count()"
      ],
      "metadata": {
        "id": "uPFqJirScaCL",
        "colab": {
          "base_uri": "https://localhost:8080/"
        },
        "outputId": "fdb4bbaa-cc81-4d90-fcca-9a72bed26bfa"
      },
      "execution_count": 274,
      "outputs": [
        {
          "output_type": "stream",
          "name": "stdout",
          "text": [
            "                                                   title  labelML\n",
            "11016  __label__1 simon cowell rushed to hospital aft...        1\n",
            "5807   __label__1 busy philipps responds to backlash ...        1\n",
            "17607  __label__1 real housewives of potomac star mon...        1\n",
            "4869   __label__0 star girly princess suri cruise vs ...        0\n",
            "11580  __label__1 johnny depp star in crisis and the ...        1\n",
            "...                                                  ...      ...\n",
            "15189                       __label__1 we day california        1\n",
            "20471  __label__1 kevin spacey replaced by christophe...        1\n",
            "2360   __label__0 is brad pitt body odor becoming pro...        0\n",
            "14326  __label__1 have adam sandler drew barrymore ev...        1\n",
            "9655   __label__1 kelly clarkson responds to grammys ...        1\n",
            "\n",
            "[17712 rows x 2 columns]\n",
            "                                                   title  labelML\n",
            "5045   __label__0 katy perry and orlando bloom cozy u...        0\n",
            "17950  __label__1 cancer destroyed tristan butt but w...        1\n",
            "3130   __label__0 britney spears speaks pop star talk...        0\n",
            "9167   __label__1 star wars fans show up for solo red...        1\n",
            "2478   __label__0 blake shelton reveals that he misse...        0\n",
            "...                                                  ...      ...\n",
            "10773  __label__1 celebs remember prince on year anni...        1\n",
            "21038  __label__1 simpson is granted parole closing a...        1\n",
            "9078   __label__1 joe jonas more celebs tweet support...        1\n",
            "13280  __label__1 rhonj danielle staub gets engaged f...        1\n",
            "6385                __label__1 america got talent season        1\n",
            "\n",
            "[4428 rows x 2 columns]\n"
          ]
        },
        {
          "output_type": "execute_result",
          "data": {
            "text/plain": [
              "title      17712\n",
              "labelML    17712\n",
              "dtype: int64"
            ]
          },
          "metadata": {},
          "execution_count": 274
        }
      ]
    },
    {
      "cell_type": "code",
      "source": [
        "# Saving the CSV file as a text file to train/test the classifier\n",
        "import csv #needed\n",
        "traindf[['labelML', 'title']].to_csv('traindf.txt', \n",
        "                                          index = False, \n",
        "                                          sep = ' ',\n",
        "                                          header = None, \n",
        "                                          quoting = csv.QUOTE_NONE, \n",
        "                                          quotechar = \"\", \n",
        "                                          escapechar = \" \")\n",
        "\n",
        "testdf[['labelML', 'title']].to_csv('testdf.txt', \n",
        "                                     index = False, \n",
        "                                     sep = ' ',\n",
        "                                     header = None, \n",
        "                                     quoting = csv.QUOTE_NONE, \n",
        "                                     quotechar = \"\", \n",
        "                                     escapechar = \" \")"
      ],
      "metadata": {
        "id": "XS3912OVE1hT"
      },
      "execution_count": 275,
      "outputs": []
    },
    {
      "cell_type": "code",
      "source": [
        "!pip install fasttext\n",
        "import fasttext\n",
        "# Training the fastText classifier\n",
        "model = fasttext.train_supervised('traindf.txt', wordNgrams = 2)\n",
        "\n",
        "# Evaluating performance on the entire test file\n",
        "model.test('testdf.txt')                      \n",
        "\n",
        "# Predicting on a single input\n",
        "testdf['labelML'] = testdf['labelML'].astype(str)\n",
        "model.predict(testdf.iloc[56, 0])\n",
        "#model.test(testdf.txt)\n",
        "\n",
        "# Save the trained model\n",
        "#model.save_model('model.bin')"
      ],
      "metadata": {
        "colab": {
          "base_uri": "https://localhost:8080/"
        },
        "id": "OmeXA3LwwCJZ",
        "outputId": "9204a5b6-6d70-4197-e0b4-a69f449faf67"
      },
      "execution_count": 276,
      "outputs": [
        {
          "output_type": "stream",
          "name": "stdout",
          "text": [
            "Requirement already satisfied: fasttext in /usr/local/lib/python3.7/dist-packages (0.9.2)\n",
            "Requirement already satisfied: pybind11>=2.2 in /usr/local/lib/python3.7/dist-packages (from fasttext) (2.9.0)\n",
            "Requirement already satisfied: numpy in /usr/local/lib/python3.7/dist-packages (from fasttext) (1.19.5)\n",
            "Requirement already satisfied: setuptools>=0.7.0 in /usr/local/lib/python3.7/dist-packages (from fasttext) (57.4.0)\n"
          ]
        },
        {
          "output_type": "execute_result",
          "data": {
            "text/plain": [
              "(('__label__1',), array([0.84595311]))"
            ]
          },
          "metadata": {},
          "execution_count": 276
        }
      ]
    },
    {
      "cell_type": "code",
      "source": [
        "testdf.head(50)\n",
        "#print(testdf.columns)"
      ],
      "metadata": {
        "colab": {
          "base_uri": "https://localhost:8080/",
          "height": 1000
        },
        "id": "q2JYv7k5xkh9",
        "outputId": "c91006cd-093d-4194-b377-2d37aabd2cd3"
      },
      "execution_count": 277,
      "outputs": [
        {
          "output_type": "execute_result",
          "data": {
            "text/html": [
              "\n",
              "  <div id=\"df-8251d64c-94c6-4d2a-a3db-82a7dd0e28b8\">\n",
              "    <div class=\"colab-df-container\">\n",
              "      <div>\n",
              "<style scoped>\n",
              "    .dataframe tbody tr th:only-of-type {\n",
              "        vertical-align: middle;\n",
              "    }\n",
              "\n",
              "    .dataframe tbody tr th {\n",
              "        vertical-align: top;\n",
              "    }\n",
              "\n",
              "    .dataframe thead th {\n",
              "        text-align: right;\n",
              "    }\n",
              "</style>\n",
              "<table border=\"1\" class=\"dataframe\">\n",
              "  <thead>\n",
              "    <tr style=\"text-align: right;\">\n",
              "      <th></th>\n",
              "      <th>title</th>\n",
              "      <th>labelML</th>\n",
              "    </tr>\n",
              "  </thead>\n",
              "  <tbody>\n",
              "    <tr>\n",
              "      <th>5045</th>\n",
              "      <td>__label__0 katy perry and orlando bloom cozy u...</td>\n",
              "      <td>0</td>\n",
              "    </tr>\n",
              "    <tr>\n",
              "      <th>17950</th>\n",
              "      <td>__label__1 cancer destroyed tristan butt but w...</td>\n",
              "      <td>1</td>\n",
              "    </tr>\n",
              "    <tr>\n",
              "      <th>3130</th>\n",
              "      <td>__label__0 britney spears speaks pop star talk...</td>\n",
              "      <td>0</td>\n",
              "    </tr>\n",
              "    <tr>\n",
              "      <th>9167</th>\n",
              "      <td>__label__1 star wars fans show up for solo red...</td>\n",
              "      <td>1</td>\n",
              "    </tr>\n",
              "    <tr>\n",
              "      <th>2478</th>\n",
              "      <td>__label__0 blake shelton reveals that he misse...</td>\n",
              "      <td>0</td>\n",
              "    </tr>\n",
              "    <tr>\n",
              "      <th>16454</th>\n",
              "      <td>__label__1 vanderpump rules ariana madix recal...</td>\n",
              "      <td>1</td>\n",
              "    </tr>\n",
              "    <tr>\n",
              "      <th>11653</th>\n",
              "      <td>__label__1 robert henstridge</td>\n",
              "      <td>1</td>\n",
              "    </tr>\n",
              "    <tr>\n",
              "      <th>15666</th>\n",
              "      <td>__label__1 see every celebrity at the royal we...</td>\n",
              "      <td>1</td>\n",
              "    </tr>\n",
              "    <tr>\n",
              "      <th>19586</th>\n",
              "      <td>__label__1 meghan markle dad thomas causing ro...</td>\n",
              "      <td>1</td>\n",
              "    </tr>\n",
              "    <tr>\n",
              "      <th>1802</th>\n",
              "      <td>__label__0 selena gomez and justin bieber hang...</td>\n",
              "      <td>0</td>\n",
              "    </tr>\n",
              "    <tr>\n",
              "      <th>11241</th>\n",
              "      <td>__label__1 jennette mccurdy comments on ariana...</td>\n",
              "      <td>1</td>\n",
              "    </tr>\n",
              "    <tr>\n",
              "      <th>1894</th>\n",
              "      <td>__label__0 here how your favorite celebrities ...</td>\n",
              "      <td>0</td>\n",
              "    </tr>\n",
              "    <tr>\n",
              "      <th>8759</th>\n",
              "      <td>__label__1 lily collins soaks up the sun with ...</td>\n",
              "      <td>1</td>\n",
              "    </tr>\n",
              "    <tr>\n",
              "      <th>5098</th>\n",
              "      <td>__label__0 beyonce welcomes sing off with wend...</td>\n",
              "      <td>0</td>\n",
              "    </tr>\n",
              "    <tr>\n",
              "      <th>7754</th>\n",
              "      <td>__label__1 former lakers star derek fisher arr...</td>\n",
              "      <td>1</td>\n",
              "    </tr>\n",
              "    <tr>\n",
              "      <th>2348</th>\n",
              "      <td>__label__0 caitlyn jenner joins girlfriend sop...</td>\n",
              "      <td>0</td>\n",
              "    </tr>\n",
              "    <tr>\n",
              "      <th>10860</th>\n",
              "      <td>__label__1 ja rule says fyre festival guests a...</td>\n",
              "      <td>1</td>\n",
              "    </tr>\n",
              "    <tr>\n",
              "      <th>20536</th>\n",
              "      <td>__label__1 anna faris kristen bell and more st...</td>\n",
              "      <td>1</td>\n",
              "    </tr>\n",
              "    <tr>\n",
              "      <th>8032</th>\n",
              "      <td>__label__1 ariana grande tells pete davidson t...</td>\n",
              "      <td>1</td>\n",
              "    </tr>\n",
              "    <tr>\n",
              "      <th>1885</th>\n",
              "      <td>__label__0 singer film actress film actor film...</td>\n",
              "      <td>0</td>\n",
              "    </tr>\n",
              "    <tr>\n",
              "      <th>21257</th>\n",
              "      <td>__label__1 jennifer garner</td>\n",
              "      <td>1</td>\n",
              "    </tr>\n",
              "    <tr>\n",
              "      <th>15650</th>\n",
              "      <td>__label__1 jada pinkett smith queen latifah on...</td>\n",
              "      <td>1</td>\n",
              "    </tr>\n",
              "    <tr>\n",
              "      <th>4769</th>\n",
              "      <td>__label__0 what kanye west said about slavery ...</td>\n",
              "      <td>0</td>\n",
              "    </tr>\n",
              "    <tr>\n",
              "      <th>13251</th>\n",
              "      <td>__label__1 here comes the bride see jessica ch...</td>\n",
              "      <td>1</td>\n",
              "    </tr>\n",
              "    <tr>\n",
              "      <th>13472</th>\n",
              "      <td>__label__1 channing tatum calls the desert his...</td>\n",
              "      <td>1</td>\n",
              "    </tr>\n",
              "    <tr>\n",
              "      <th>4264</th>\n",
              "      <td>__label__0 jennifer lopez snubbed vanessa hudg...</td>\n",
              "      <td>0</td>\n",
              "    </tr>\n",
              "    <tr>\n",
              "      <th>16062</th>\n",
              "      <td>__label__1 inside eva longoria star studded pj...</td>\n",
              "      <td>1</td>\n",
              "    </tr>\n",
              "    <tr>\n",
              "      <th>2139</th>\n",
              "      <td>__label__0 jennifer aniston emotional intervie...</td>\n",
              "      <td>0</td>\n",
              "    </tr>\n",
              "    <tr>\n",
              "      <th>5888</th>\n",
              "      <td>__label__1 don miss beat of the grammys red ca...</td>\n",
              "      <td>1</td>\n",
              "    </tr>\n",
              "    <tr>\n",
              "      <th>11694</th>\n",
              "      <td>__label__1 hoda kotb shares her inspiring jour...</td>\n",
              "      <td>1</td>\n",
              "    </tr>\n",
              "    <tr>\n",
              "      <th>7820</th>\n",
              "      <td>__label__1 broke the internet orlando bloom ta...</td>\n",
              "      <td>1</td>\n",
              "    </tr>\n",
              "    <tr>\n",
              "      <th>14342</th>\n",
              "      <td>__label__1 the walking dead steven yeun won re...</td>\n",
              "      <td>1</td>\n",
              "    </tr>\n",
              "    <tr>\n",
              "      <th>18243</th>\n",
              "      <td>__label__1 andy cohen knows exactly how to pus...</td>\n",
              "      <td>1</td>\n",
              "    </tr>\n",
              "    <tr>\n",
              "      <th>1975</th>\n",
              "      <td>__label__0 about how katie holmes is trapped a...</td>\n",
              "      <td>0</td>\n",
              "    </tr>\n",
              "    <tr>\n",
              "      <th>9980</th>\n",
              "      <td>__label__1 we re freaking out over the inside ...</td>\n",
              "      <td>1</td>\n",
              "    </tr>\n",
              "    <tr>\n",
              "      <th>8349</th>\n",
              "      <td>__label__1 married at first sight happily ever...</td>\n",
              "      <td>1</td>\n",
              "    </tr>\n",
              "    <tr>\n",
              "      <th>15892</th>\n",
              "      <td>__label__1 elle king celebrates wedding annive...</td>\n",
              "      <td>1</td>\n",
              "    </tr>\n",
              "    <tr>\n",
              "      <th>11221</th>\n",
              "      <td>__label__1 colin farrell checks into rehab aft...</td>\n",
              "      <td>1</td>\n",
              "    </tr>\n",
              "    <tr>\n",
              "      <th>9303</th>\n",
              "      <td>__label__1 mtv road rules star brian lancaster...</td>\n",
              "      <td>1</td>\n",
              "    </tr>\n",
              "    <tr>\n",
              "      <th>9068</th>\n",
              "      <td>__label__1 kim kardashian is blaming fan for h...</td>\n",
              "      <td>1</td>\n",
              "    </tr>\n",
              "    <tr>\n",
              "      <th>2852</th>\n",
              "      <td>__label__0 party before prison chris soules he...</td>\n",
              "      <td>0</td>\n",
              "    </tr>\n",
              "    <tr>\n",
              "      <th>10069</th>\n",
              "      <td>__label__1 fantastic beasts and where to find ...</td>\n",
              "      <td>1</td>\n",
              "    </tr>\n",
              "    <tr>\n",
              "      <th>8140</th>\n",
              "      <td>__label__1 lili reinhart cursing out her body ...</td>\n",
              "      <td>1</td>\n",
              "    </tr>\n",
              "    <tr>\n",
              "      <th>17963</th>\n",
              "      <td>__label__1 michelle obama to release memoir in...</td>\n",
              "      <td>1</td>\n",
              "    </tr>\n",
              "    <tr>\n",
              "      <th>5562</th>\n",
              "      <td>__label__1 lucy hale news and gossip</td>\n",
              "      <td>1</td>\n",
              "    </tr>\n",
              "    <tr>\n",
              "      <th>16648</th>\n",
              "      <td>__label__1 janelle monae on timesup we come in...</td>\n",
              "      <td>1</td>\n",
              "    </tr>\n",
              "    <tr>\n",
              "      <th>7839</th>\n",
              "      <td>__label__1 sarah stage steps on the scale week...</td>\n",
              "      <td>1</td>\n",
              "    </tr>\n",
              "    <tr>\n",
              "      <th>2513</th>\n",
              "      <td>__label__0 prince george is reportedly getting...</td>\n",
              "      <td>0</td>\n",
              "    </tr>\n",
              "    <tr>\n",
              "      <th>3842</th>\n",
              "      <td>__label__0 caitlyn jenner wants baby with kim ...</td>\n",
              "      <td>0</td>\n",
              "    </tr>\n",
              "    <tr>\n",
              "      <th>15111</th>\n",
              "      <td>__label__1 here the animated gay love story we...</td>\n",
              "      <td>1</td>\n",
              "    </tr>\n",
              "  </tbody>\n",
              "</table>\n",
              "</div>\n",
              "      <button class=\"colab-df-convert\" onclick=\"convertToInteractive('df-8251d64c-94c6-4d2a-a3db-82a7dd0e28b8')\"\n",
              "              title=\"Convert this dataframe to an interactive table.\"\n",
              "              style=\"display:none;\">\n",
              "        \n",
              "  <svg xmlns=\"http://www.w3.org/2000/svg\" height=\"24px\"viewBox=\"0 0 24 24\"\n",
              "       width=\"24px\">\n",
              "    <path d=\"M0 0h24v24H0V0z\" fill=\"none\"/>\n",
              "    <path d=\"M18.56 5.44l.94 2.06.94-2.06 2.06-.94-2.06-.94-.94-2.06-.94 2.06-2.06.94zm-11 1L8.5 8.5l.94-2.06 2.06-.94-2.06-.94L8.5 2.5l-.94 2.06-2.06.94zm10 10l.94 2.06.94-2.06 2.06-.94-2.06-.94-.94-2.06-.94 2.06-2.06.94z\"/><path d=\"M17.41 7.96l-1.37-1.37c-.4-.4-.92-.59-1.43-.59-.52 0-1.04.2-1.43.59L10.3 9.45l-7.72 7.72c-.78.78-.78 2.05 0 2.83L4 21.41c.39.39.9.59 1.41.59.51 0 1.02-.2 1.41-.59l7.78-7.78 2.81-2.81c.8-.78.8-2.07 0-2.86zM5.41 20L4 18.59l7.72-7.72 1.47 1.35L5.41 20z\"/>\n",
              "  </svg>\n",
              "      </button>\n",
              "      \n",
              "  <style>\n",
              "    .colab-df-container {\n",
              "      display:flex;\n",
              "      flex-wrap:wrap;\n",
              "      gap: 12px;\n",
              "    }\n",
              "\n",
              "    .colab-df-convert {\n",
              "      background-color: #E8F0FE;\n",
              "      border: none;\n",
              "      border-radius: 50%;\n",
              "      cursor: pointer;\n",
              "      display: none;\n",
              "      fill: #1967D2;\n",
              "      height: 32px;\n",
              "      padding: 0 0 0 0;\n",
              "      width: 32px;\n",
              "    }\n",
              "\n",
              "    .colab-df-convert:hover {\n",
              "      background-color: #E2EBFA;\n",
              "      box-shadow: 0px 1px 2px rgba(60, 64, 67, 0.3), 0px 1px 3px 1px rgba(60, 64, 67, 0.15);\n",
              "      fill: #174EA6;\n",
              "    }\n",
              "\n",
              "    [theme=dark] .colab-df-convert {\n",
              "      background-color: #3B4455;\n",
              "      fill: #D2E3FC;\n",
              "    }\n",
              "\n",
              "    [theme=dark] .colab-df-convert:hover {\n",
              "      background-color: #434B5C;\n",
              "      box-shadow: 0px 1px 3px 1px rgba(0, 0, 0, 0.15);\n",
              "      filter: drop-shadow(0px 1px 2px rgba(0, 0, 0, 0.3));\n",
              "      fill: #FFFFFF;\n",
              "    }\n",
              "  </style>\n",
              "\n",
              "      <script>\n",
              "        const buttonEl =\n",
              "          document.querySelector('#df-8251d64c-94c6-4d2a-a3db-82a7dd0e28b8 button.colab-df-convert');\n",
              "        buttonEl.style.display =\n",
              "          google.colab.kernel.accessAllowed ? 'block' : 'none';\n",
              "\n",
              "        async function convertToInteractive(key) {\n",
              "          const element = document.querySelector('#df-8251d64c-94c6-4d2a-a3db-82a7dd0e28b8');\n",
              "          const dataTable =\n",
              "            await google.colab.kernel.invokeFunction('convertToInteractive',\n",
              "                                                     [key], {});\n",
              "          if (!dataTable) return;\n",
              "\n",
              "          const docLinkHtml = 'Like what you see? Visit the ' +\n",
              "            '<a target=\"_blank\" href=https://colab.research.google.com/notebooks/data_table.ipynb>data table notebook</a>'\n",
              "            + ' to learn more about interactive tables.';\n",
              "          element.innerHTML = '';\n",
              "          dataTable['output_type'] = 'display_data';\n",
              "          await google.colab.output.renderOutput(dataTable, element);\n",
              "          const docLink = document.createElement('div');\n",
              "          docLink.innerHTML = docLinkHtml;\n",
              "          element.appendChild(docLink);\n",
              "        }\n",
              "      </script>\n",
              "    </div>\n",
              "  </div>\n",
              "  "
            ],
            "text/plain": [
              "                                                   title labelML\n",
              "5045   __label__0 katy perry and orlando bloom cozy u...       0\n",
              "17950  __label__1 cancer destroyed tristan butt but w...       1\n",
              "3130   __label__0 britney spears speaks pop star talk...       0\n",
              "9167   __label__1 star wars fans show up for solo red...       1\n",
              "2478   __label__0 blake shelton reveals that he misse...       0\n",
              "16454  __label__1 vanderpump rules ariana madix recal...       1\n",
              "11653                       __label__1 robert henstridge       1\n",
              "15666  __label__1 see every celebrity at the royal we...       1\n",
              "19586  __label__1 meghan markle dad thomas causing ro...       1\n",
              "1802   __label__0 selena gomez and justin bieber hang...       0\n",
              "11241  __label__1 jennette mccurdy comments on ariana...       1\n",
              "1894   __label__0 here how your favorite celebrities ...       0\n",
              "8759   __label__1 lily collins soaks up the sun with ...       1\n",
              "5098   __label__0 beyonce welcomes sing off with wend...       0\n",
              "7754   __label__1 former lakers star derek fisher arr...       1\n",
              "2348   __label__0 caitlyn jenner joins girlfriend sop...       0\n",
              "10860  __label__1 ja rule says fyre festival guests a...       1\n",
              "20536  __label__1 anna faris kristen bell and more st...       1\n",
              "8032   __label__1 ariana grande tells pete davidson t...       1\n",
              "1885   __label__0 singer film actress film actor film...       0\n",
              "21257                         __label__1 jennifer garner       1\n",
              "15650  __label__1 jada pinkett smith queen latifah on...       1\n",
              "4769   __label__0 what kanye west said about slavery ...       0\n",
              "13251  __label__1 here comes the bride see jessica ch...       1\n",
              "13472  __label__1 channing tatum calls the desert his...       1\n",
              "4264   __label__0 jennifer lopez snubbed vanessa hudg...       0\n",
              "16062  __label__1 inside eva longoria star studded pj...       1\n",
              "2139   __label__0 jennifer aniston emotional intervie...       0\n",
              "5888   __label__1 don miss beat of the grammys red ca...       1\n",
              "11694  __label__1 hoda kotb shares her inspiring jour...       1\n",
              "7820   __label__1 broke the internet orlando bloom ta...       1\n",
              "14342  __label__1 the walking dead steven yeun won re...       1\n",
              "18243  __label__1 andy cohen knows exactly how to pus...       1\n",
              "1975   __label__0 about how katie holmes is trapped a...       0\n",
              "9980   __label__1 we re freaking out over the inside ...       1\n",
              "8349   __label__1 married at first sight happily ever...       1\n",
              "15892  __label__1 elle king celebrates wedding annive...       1\n",
              "11221  __label__1 colin farrell checks into rehab aft...       1\n",
              "9303   __label__1 mtv road rules star brian lancaster...       1\n",
              "9068   __label__1 kim kardashian is blaming fan for h...       1\n",
              "2852   __label__0 party before prison chris soules he...       0\n",
              "10069  __label__1 fantastic beasts and where to find ...       1\n",
              "8140   __label__1 lili reinhart cursing out her body ...       1\n",
              "17963  __label__1 michelle obama to release memoir in...       1\n",
              "5562                __label__1 lucy hale news and gossip       1\n",
              "16648  __label__1 janelle monae on timesup we come in...       1\n",
              "7839   __label__1 sarah stage steps on the scale week...       1\n",
              "2513   __label__0 prince george is reportedly getting...       0\n",
              "3842   __label__0 caitlyn jenner wants baby with kim ...       0\n",
              "15111  __label__1 here the animated gay love story we...       1"
            ]
          },
          "metadata": {},
          "execution_count": 277
        }
      ]
    },
    {
      "cell_type": "markdown",
      "source": [
        "This model is running, so trying to change with vectors, or textual input for new vectors. Accuracy is only 50 percent coz I've given it such a balanced dataset."
      ],
      "metadata": {
        "id": "gH6DjpzfyzPb"
      }
    },
    {
      "cell_type": "code",
      "source": [
        "# Predicting on a single input\n",
        "#model.predict(test.iloc['Miley cyrus is new'])\n",
        "#use this later when we have the representations I guess. \n"
      ],
      "metadata": {
        "id": "XJE1lyAxy9wB"
      },
      "execution_count": null,
      "outputs": []
    }
  ]
}