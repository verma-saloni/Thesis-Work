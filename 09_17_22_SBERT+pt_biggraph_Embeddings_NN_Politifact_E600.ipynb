{
  "nbformat": 4,
  "nbformat_minor": 0,
  "metadata": {
    "colab": {
      "provenance": [],
      "collapsed_sections": [],
      "include_colab_link": true
    },
    "kernelspec": {
      "name": "python3",
      "display_name": "Python 3"
    },
    "language_info": {
      "name": "python"
    },
    "widgets": {
      "application/vnd.jupyter.widget-state+json": {
        "d16517e1bd8f4f7cb98d1759b74372ac": {
          "model_module": "@jupyter-widgets/controls",
          "model_name": "HBoxModel",
          "model_module_version": "1.5.0",
          "state": {
            "_dom_classes": [],
            "_model_module": "@jupyter-widgets/controls",
            "_model_module_version": "1.5.0",
            "_model_name": "HBoxModel",
            "_view_count": null,
            "_view_module": "@jupyter-widgets/controls",
            "_view_module_version": "1.5.0",
            "_view_name": "HBoxView",
            "box_style": "",
            "children": [
              "IPY_MODEL_a62c1c2425d34937b5f8d7f67188005c",
              "IPY_MODEL_329498387ff14188a60d3817c4cb4718",
              "IPY_MODEL_da0f3173ad5a439da8d25fa742f54fdf"
            ],
            "layout": "IPY_MODEL_4a506a123feb4b44bd1c1d0d06c34b88"
          }
        },
        "a62c1c2425d34937b5f8d7f67188005c": {
          "model_module": "@jupyter-widgets/controls",
          "model_name": "HTMLModel",
          "model_module_version": "1.5.0",
          "state": {
            "_dom_classes": [],
            "_model_module": "@jupyter-widgets/controls",
            "_model_module_version": "1.5.0",
            "_model_name": "HTMLModel",
            "_view_count": null,
            "_view_module": "@jupyter-widgets/controls",
            "_view_module_version": "1.5.0",
            "_view_name": "HTMLView",
            "description": "",
            "description_tooltip": null,
            "layout": "IPY_MODEL_63fe0e71d8904bc1b0826300795d65fc",
            "placeholder": "​",
            "style": "IPY_MODEL_995f5ba5f51a4a768de2725c0e568743",
            "value": ""
          }
        },
        "329498387ff14188a60d3817c4cb4718": {
          "model_module": "@jupyter-widgets/controls",
          "model_name": "FloatProgressModel",
          "model_module_version": "1.5.0",
          "state": {
            "_dom_classes": [],
            "_model_module": "@jupyter-widgets/controls",
            "_model_module_version": "1.5.0",
            "_model_name": "FloatProgressModel",
            "_view_count": null,
            "_view_module": "@jupyter-widgets/controls",
            "_view_module_version": "1.5.0",
            "_view_name": "ProgressView",
            "bar_style": "success",
            "description": "",
            "description_tooltip": null,
            "layout": "IPY_MODEL_cb726ba5ab7e4e039549df3dc3bf182c",
            "max": 1,
            "min": 0,
            "orientation": "horizontal",
            "style": "IPY_MODEL_2d6988f373374c2296d9a54ef7bc32c6",
            "value": 0
          }
        },
        "da0f3173ad5a439da8d25fa742f54fdf": {
          "model_module": "@jupyter-widgets/controls",
          "model_name": "HTMLModel",
          "model_module_version": "1.5.0",
          "state": {
            "_dom_classes": [],
            "_model_module": "@jupyter-widgets/controls",
            "_model_module_version": "1.5.0",
            "_model_name": "HTMLModel",
            "_view_count": null,
            "_view_module": "@jupyter-widgets/controls",
            "_view_module_version": "1.5.0",
            "_view_name": "HTMLView",
            "description": "",
            "description_tooltip": null,
            "layout": "IPY_MODEL_1bba994ea4194350a9dd92deee38138f",
            "placeholder": "​",
            "style": "IPY_MODEL_bc209849475a411385b5242beb0f2d12",
            "value": " 0/0 [00:00&lt;?, ?it/s]"
          }
        },
        "4a506a123feb4b44bd1c1d0d06c34b88": {
          "model_module": "@jupyter-widgets/base",
          "model_name": "LayoutModel",
          "model_module_version": "1.2.0",
          "state": {
            "_model_module": "@jupyter-widgets/base",
            "_model_module_version": "1.2.0",
            "_model_name": "LayoutModel",
            "_view_count": null,
            "_view_module": "@jupyter-widgets/base",
            "_view_module_version": "1.2.0",
            "_view_name": "LayoutView",
            "align_content": null,
            "align_items": null,
            "align_self": null,
            "border": null,
            "bottom": null,
            "display": null,
            "flex": null,
            "flex_flow": null,
            "grid_area": null,
            "grid_auto_columns": null,
            "grid_auto_flow": null,
            "grid_auto_rows": null,
            "grid_column": null,
            "grid_gap": null,
            "grid_row": null,
            "grid_template_areas": null,
            "grid_template_columns": null,
            "grid_template_rows": null,
            "height": null,
            "justify_content": null,
            "justify_items": null,
            "left": null,
            "margin": null,
            "max_height": null,
            "max_width": null,
            "min_height": null,
            "min_width": null,
            "object_fit": null,
            "object_position": null,
            "order": null,
            "overflow": null,
            "overflow_x": null,
            "overflow_y": null,
            "padding": null,
            "right": null,
            "top": null,
            "visibility": null,
            "width": null
          }
        },
        "63fe0e71d8904bc1b0826300795d65fc": {
          "model_module": "@jupyter-widgets/base",
          "model_name": "LayoutModel",
          "model_module_version": "1.2.0",
          "state": {
            "_model_module": "@jupyter-widgets/base",
            "_model_module_version": "1.2.0",
            "_model_name": "LayoutModel",
            "_view_count": null,
            "_view_module": "@jupyter-widgets/base",
            "_view_module_version": "1.2.0",
            "_view_name": "LayoutView",
            "align_content": null,
            "align_items": null,
            "align_self": null,
            "border": null,
            "bottom": null,
            "display": null,
            "flex": null,
            "flex_flow": null,
            "grid_area": null,
            "grid_auto_columns": null,
            "grid_auto_flow": null,
            "grid_auto_rows": null,
            "grid_column": null,
            "grid_gap": null,
            "grid_row": null,
            "grid_template_areas": null,
            "grid_template_columns": null,
            "grid_template_rows": null,
            "height": null,
            "justify_content": null,
            "justify_items": null,
            "left": null,
            "margin": null,
            "max_height": null,
            "max_width": null,
            "min_height": null,
            "min_width": null,
            "object_fit": null,
            "object_position": null,
            "order": null,
            "overflow": null,
            "overflow_x": null,
            "overflow_y": null,
            "padding": null,
            "right": null,
            "top": null,
            "visibility": null,
            "width": null
          }
        },
        "995f5ba5f51a4a768de2725c0e568743": {
          "model_module": "@jupyter-widgets/controls",
          "model_name": "DescriptionStyleModel",
          "model_module_version": "1.5.0",
          "state": {
            "_model_module": "@jupyter-widgets/controls",
            "_model_module_version": "1.5.0",
            "_model_name": "DescriptionStyleModel",
            "_view_count": null,
            "_view_module": "@jupyter-widgets/base",
            "_view_module_version": "1.2.0",
            "_view_name": "StyleView",
            "description_width": ""
          }
        },
        "cb726ba5ab7e4e039549df3dc3bf182c": {
          "model_module": "@jupyter-widgets/base",
          "model_name": "LayoutModel",
          "model_module_version": "1.2.0",
          "state": {
            "_model_module": "@jupyter-widgets/base",
            "_model_module_version": "1.2.0",
            "_model_name": "LayoutModel",
            "_view_count": null,
            "_view_module": "@jupyter-widgets/base",
            "_view_module_version": "1.2.0",
            "_view_name": "LayoutView",
            "align_content": null,
            "align_items": null,
            "align_self": null,
            "border": null,
            "bottom": null,
            "display": null,
            "flex": null,
            "flex_flow": null,
            "grid_area": null,
            "grid_auto_columns": null,
            "grid_auto_flow": null,
            "grid_auto_rows": null,
            "grid_column": null,
            "grid_gap": null,
            "grid_row": null,
            "grid_template_areas": null,
            "grid_template_columns": null,
            "grid_template_rows": null,
            "height": null,
            "justify_content": null,
            "justify_items": null,
            "left": null,
            "margin": null,
            "max_height": null,
            "max_width": null,
            "min_height": null,
            "min_width": null,
            "object_fit": null,
            "object_position": null,
            "order": null,
            "overflow": null,
            "overflow_x": null,
            "overflow_y": null,
            "padding": null,
            "right": null,
            "top": null,
            "visibility": null,
            "width": "20px"
          }
        },
        "2d6988f373374c2296d9a54ef7bc32c6": {
          "model_module": "@jupyter-widgets/controls",
          "model_name": "ProgressStyleModel",
          "model_module_version": "1.5.0",
          "state": {
            "_model_module": "@jupyter-widgets/controls",
            "_model_module_version": "1.5.0",
            "_model_name": "ProgressStyleModel",
            "_view_count": null,
            "_view_module": "@jupyter-widgets/base",
            "_view_module_version": "1.2.0",
            "_view_name": "StyleView",
            "bar_color": null,
            "description_width": ""
          }
        },
        "1bba994ea4194350a9dd92deee38138f": {
          "model_module": "@jupyter-widgets/base",
          "model_name": "LayoutModel",
          "model_module_version": "1.2.0",
          "state": {
            "_model_module": "@jupyter-widgets/base",
            "_model_module_version": "1.2.0",
            "_model_name": "LayoutModel",
            "_view_count": null,
            "_view_module": "@jupyter-widgets/base",
            "_view_module_version": "1.2.0",
            "_view_name": "LayoutView",
            "align_content": null,
            "align_items": null,
            "align_self": null,
            "border": null,
            "bottom": null,
            "display": null,
            "flex": null,
            "flex_flow": null,
            "grid_area": null,
            "grid_auto_columns": null,
            "grid_auto_flow": null,
            "grid_auto_rows": null,
            "grid_column": null,
            "grid_gap": null,
            "grid_row": null,
            "grid_template_areas": null,
            "grid_template_columns": null,
            "grid_template_rows": null,
            "height": null,
            "justify_content": null,
            "justify_items": null,
            "left": null,
            "margin": null,
            "max_height": null,
            "max_width": null,
            "min_height": null,
            "min_width": null,
            "object_fit": null,
            "object_position": null,
            "order": null,
            "overflow": null,
            "overflow_x": null,
            "overflow_y": null,
            "padding": null,
            "right": null,
            "top": null,
            "visibility": null,
            "width": null
          }
        },
        "bc209849475a411385b5242beb0f2d12": {
          "model_module": "@jupyter-widgets/controls",
          "model_name": "DescriptionStyleModel",
          "model_module_version": "1.5.0",
          "state": {
            "_model_module": "@jupyter-widgets/controls",
            "_model_module_version": "1.5.0",
            "_model_name": "DescriptionStyleModel",
            "_view_count": null,
            "_view_module": "@jupyter-widgets/base",
            "_view_module_version": "1.2.0",
            "_view_name": "StyleView",
            "description_width": ""
          }
        },
        "de591ac15e6c4420b877eb6a33463479": {
          "model_module": "@jupyter-widgets/controls",
          "model_name": "VBoxModel",
          "model_module_version": "1.5.0",
          "state": {
            "_dom_classes": [],
            "_model_module": "@jupyter-widgets/controls",
            "_model_module_version": "1.5.0",
            "_model_name": "VBoxModel",
            "_view_count": null,
            "_view_module": "@jupyter-widgets/controls",
            "_view_module_version": "1.5.0",
            "_view_name": "VBoxView",
            "box_style": "",
            "children": [
              "IPY_MODEL_76117e0fad854287a9cdd4e336617e8f",
              "IPY_MODEL_e5225fc902ab461d955cd27410424738"
            ],
            "layout": "IPY_MODEL_8fb4e9aa647846bd971bae35cf30f31c"
          }
        },
        "76117e0fad854287a9cdd4e336617e8f": {
          "model_module": "@jupyter-widgets/controls",
          "model_name": "LabelModel",
          "model_module_version": "1.5.0",
          "state": {
            "_dom_classes": [],
            "_model_module": "@jupyter-widgets/controls",
            "_model_module_version": "1.5.0",
            "_model_name": "LabelModel",
            "_view_count": null,
            "_view_module": "@jupyter-widgets/controls",
            "_view_module_version": "1.5.0",
            "_view_name": "LabelView",
            "description": "",
            "description_tooltip": null,
            "layout": "IPY_MODEL_ac0caabb4af443b989fa015c5264ab8a",
            "placeholder": "​",
            "style": "IPY_MODEL_191f9cae4d714041965e9b13726873c2",
            "value": "44.215 MB of 44.215 MB uploaded (0.007 MB deduped)\r"
          }
        },
        "e5225fc902ab461d955cd27410424738": {
          "model_module": "@jupyter-widgets/controls",
          "model_name": "FloatProgressModel",
          "model_module_version": "1.5.0",
          "state": {
            "_dom_classes": [],
            "_model_module": "@jupyter-widgets/controls",
            "_model_module_version": "1.5.0",
            "_model_name": "FloatProgressModel",
            "_view_count": null,
            "_view_module": "@jupyter-widgets/controls",
            "_view_module_version": "1.5.0",
            "_view_name": "ProgressView",
            "bar_style": "",
            "description": "",
            "description_tooltip": null,
            "layout": "IPY_MODEL_f38281665a524f13bbe74b127027aafd",
            "max": 1,
            "min": 0,
            "orientation": "horizontal",
            "style": "IPY_MODEL_a35fede387cb4179be1e47c71eb1a69c",
            "value": 1
          }
        },
        "8fb4e9aa647846bd971bae35cf30f31c": {
          "model_module": "@jupyter-widgets/base",
          "model_name": "LayoutModel",
          "model_module_version": "1.2.0",
          "state": {
            "_model_module": "@jupyter-widgets/base",
            "_model_module_version": "1.2.0",
            "_model_name": "LayoutModel",
            "_view_count": null,
            "_view_module": "@jupyter-widgets/base",
            "_view_module_version": "1.2.0",
            "_view_name": "LayoutView",
            "align_content": null,
            "align_items": null,
            "align_self": null,
            "border": null,
            "bottom": null,
            "display": null,
            "flex": null,
            "flex_flow": null,
            "grid_area": null,
            "grid_auto_columns": null,
            "grid_auto_flow": null,
            "grid_auto_rows": null,
            "grid_column": null,
            "grid_gap": null,
            "grid_row": null,
            "grid_template_areas": null,
            "grid_template_columns": null,
            "grid_template_rows": null,
            "height": null,
            "justify_content": null,
            "justify_items": null,
            "left": null,
            "margin": null,
            "max_height": null,
            "max_width": null,
            "min_height": null,
            "min_width": null,
            "object_fit": null,
            "object_position": null,
            "order": null,
            "overflow": null,
            "overflow_x": null,
            "overflow_y": null,
            "padding": null,
            "right": null,
            "top": null,
            "visibility": null,
            "width": null
          }
        },
        "ac0caabb4af443b989fa015c5264ab8a": {
          "model_module": "@jupyter-widgets/base",
          "model_name": "LayoutModel",
          "model_module_version": "1.2.0",
          "state": {
            "_model_module": "@jupyter-widgets/base",
            "_model_module_version": "1.2.0",
            "_model_name": "LayoutModel",
            "_view_count": null,
            "_view_module": "@jupyter-widgets/base",
            "_view_module_version": "1.2.0",
            "_view_name": "LayoutView",
            "align_content": null,
            "align_items": null,
            "align_self": null,
            "border": null,
            "bottom": null,
            "display": null,
            "flex": null,
            "flex_flow": null,
            "grid_area": null,
            "grid_auto_columns": null,
            "grid_auto_flow": null,
            "grid_auto_rows": null,
            "grid_column": null,
            "grid_gap": null,
            "grid_row": null,
            "grid_template_areas": null,
            "grid_template_columns": null,
            "grid_template_rows": null,
            "height": null,
            "justify_content": null,
            "justify_items": null,
            "left": null,
            "margin": null,
            "max_height": null,
            "max_width": null,
            "min_height": null,
            "min_width": null,
            "object_fit": null,
            "object_position": null,
            "order": null,
            "overflow": null,
            "overflow_x": null,
            "overflow_y": null,
            "padding": null,
            "right": null,
            "top": null,
            "visibility": null,
            "width": null
          }
        },
        "191f9cae4d714041965e9b13726873c2": {
          "model_module": "@jupyter-widgets/controls",
          "model_name": "DescriptionStyleModel",
          "model_module_version": "1.5.0",
          "state": {
            "_model_module": "@jupyter-widgets/controls",
            "_model_module_version": "1.5.0",
            "_model_name": "DescriptionStyleModel",
            "_view_count": null,
            "_view_module": "@jupyter-widgets/base",
            "_view_module_version": "1.2.0",
            "_view_name": "StyleView",
            "description_width": ""
          }
        },
        "f38281665a524f13bbe74b127027aafd": {
          "model_module": "@jupyter-widgets/base",
          "model_name": "LayoutModel",
          "model_module_version": "1.2.0",
          "state": {
            "_model_module": "@jupyter-widgets/base",
            "_model_module_version": "1.2.0",
            "_model_name": "LayoutModel",
            "_view_count": null,
            "_view_module": "@jupyter-widgets/base",
            "_view_module_version": "1.2.0",
            "_view_name": "LayoutView",
            "align_content": null,
            "align_items": null,
            "align_self": null,
            "border": null,
            "bottom": null,
            "display": null,
            "flex": null,
            "flex_flow": null,
            "grid_area": null,
            "grid_auto_columns": null,
            "grid_auto_flow": null,
            "grid_auto_rows": null,
            "grid_column": null,
            "grid_gap": null,
            "grid_row": null,
            "grid_template_areas": null,
            "grid_template_columns": null,
            "grid_template_rows": null,
            "height": null,
            "justify_content": null,
            "justify_items": null,
            "left": null,
            "margin": null,
            "max_height": null,
            "max_width": null,
            "min_height": null,
            "min_width": null,
            "object_fit": null,
            "object_position": null,
            "order": null,
            "overflow": null,
            "overflow_x": null,
            "overflow_y": null,
            "padding": null,
            "right": null,
            "top": null,
            "visibility": null,
            "width": null
          }
        },
        "a35fede387cb4179be1e47c71eb1a69c": {
          "model_module": "@jupyter-widgets/controls",
          "model_name": "ProgressStyleModel",
          "model_module_version": "1.5.0",
          "state": {
            "_model_module": "@jupyter-widgets/controls",
            "_model_module_version": "1.5.0",
            "_model_name": "ProgressStyleModel",
            "_view_count": null,
            "_view_module": "@jupyter-widgets/base",
            "_view_module_version": "1.2.0",
            "_view_name": "StyleView",
            "bar_color": null,
            "description_width": ""
          }
        }
      }
    },
    "accelerator": "GPU"
  },
  "cells": [
    {
      "cell_type": "markdown",
      "metadata": {
        "id": "view-in-github",
        "colab_type": "text"
      },
      "source": [
        "<a href=\"https://colab.research.google.com/github/verma-saloni/Thesis-Work/blob/main/09_17_22_SBERT%2Bpt_biggraph_Embeddings_NN_Politifact_E600.ipynb\" target=\"_parent\"><img src=\"https://colab.research.google.com/assets/colab-badge.svg\" alt=\"Open In Colab\"/></a>"
      ]
    },
    {
      "cell_type": "code",
      "source": [
        "#%%capture\n",
        "!pip install -U sentence-transformers wandb"
      ],
      "metadata": {
        "id": "aByzVMdkzqAJ",
        "colab": {
          "base_uri": "https://localhost:8080/"
        },
        "outputId": "0adb4ea1-9522-40b3-e216-176bba0cffad"
      },
      "execution_count": 1,
      "outputs": [
        {
          "output_type": "stream",
          "name": "stdout",
          "text": [
            "Looking in indexes: https://pypi.org/simple, https://us-python.pkg.dev/colab-wheels/public/simple/\n",
            "Collecting sentence-transformers\n",
            "  Downloading sentence-transformers-2.2.2.tar.gz (85 kB)\n",
            "\u001b[K     |████████████████████████████████| 85 kB 4.0 MB/s \n",
            "\u001b[?25hCollecting wandb\n",
            "  Downloading wandb-0.13.3-py2.py3-none-any.whl (1.8 MB)\n",
            "\u001b[K     |████████████████████████████████| 1.8 MB 51.7 MB/s \n",
            "\u001b[?25hCollecting transformers<5.0.0,>=4.6.0\n",
            "  Downloading transformers-4.22.1-py3-none-any.whl (4.9 MB)\n",
            "\u001b[K     |████████████████████████████████| 4.9 MB 48.2 MB/s \n",
            "\u001b[?25hRequirement already satisfied: tqdm in /usr/local/lib/python3.7/dist-packages (from sentence-transformers) (4.64.1)\n",
            "Requirement already satisfied: torch>=1.6.0 in /usr/local/lib/python3.7/dist-packages (from sentence-transformers) (1.12.1+cu113)\n",
            "Requirement already satisfied: torchvision in /usr/local/lib/python3.7/dist-packages (from sentence-transformers) (0.13.1+cu113)\n",
            "Requirement already satisfied: numpy in /usr/local/lib/python3.7/dist-packages (from sentence-transformers) (1.21.6)\n",
            "Requirement already satisfied: scikit-learn in /usr/local/lib/python3.7/dist-packages (from sentence-transformers) (1.0.2)\n",
            "Requirement already satisfied: scipy in /usr/local/lib/python3.7/dist-packages (from sentence-transformers) (1.7.3)\n",
            "Requirement already satisfied: nltk in /usr/local/lib/python3.7/dist-packages (from sentence-transformers) (3.7)\n",
            "Collecting sentencepiece\n",
            "  Downloading sentencepiece-0.1.97-cp37-cp37m-manylinux_2_17_x86_64.manylinux2014_x86_64.whl (1.3 MB)\n",
            "\u001b[K     |████████████████████████████████| 1.3 MB 61.5 MB/s \n",
            "\u001b[?25hCollecting huggingface-hub>=0.4.0\n",
            "  Downloading huggingface_hub-0.9.1-py3-none-any.whl (120 kB)\n",
            "\u001b[K     |████████████████████████████████| 120 kB 66.8 MB/s \n",
            "\u001b[?25hRequirement already satisfied: requests in /usr/local/lib/python3.7/dist-packages (from huggingface-hub>=0.4.0->sentence-transformers) (2.23.0)\n",
            "Requirement already satisfied: filelock in /usr/local/lib/python3.7/dist-packages (from huggingface-hub>=0.4.0->sentence-transformers) (3.8.0)\n",
            "Requirement already satisfied: typing-extensions>=3.7.4.3 in /usr/local/lib/python3.7/dist-packages (from huggingface-hub>=0.4.0->sentence-transformers) (4.1.1)\n",
            "Requirement already satisfied: importlib-metadata in /usr/local/lib/python3.7/dist-packages (from huggingface-hub>=0.4.0->sentence-transformers) (4.12.0)\n",
            "Requirement already satisfied: pyyaml>=5.1 in /usr/local/lib/python3.7/dist-packages (from huggingface-hub>=0.4.0->sentence-transformers) (6.0)\n",
            "Requirement already satisfied: packaging>=20.9 in /usr/local/lib/python3.7/dist-packages (from huggingface-hub>=0.4.0->sentence-transformers) (21.3)\n",
            "Requirement already satisfied: pyparsing!=3.0.5,>=2.0.2 in /usr/local/lib/python3.7/dist-packages (from packaging>=20.9->huggingface-hub>=0.4.0->sentence-transformers) (3.0.9)\n",
            "Collecting tokenizers!=0.11.3,<0.13,>=0.11.1\n",
            "  Downloading tokenizers-0.12.1-cp37-cp37m-manylinux_2_12_x86_64.manylinux2010_x86_64.whl (6.6 MB)\n",
            "\u001b[K     |████████████████████████████████| 6.6 MB 51.1 MB/s \n",
            "\u001b[?25hRequirement already satisfied: regex!=2019.12.17 in /usr/local/lib/python3.7/dist-packages (from transformers<5.0.0,>=4.6.0->sentence-transformers) (2022.6.2)\n",
            "Collecting shortuuid>=0.5.0\n",
            "  Downloading shortuuid-1.0.9-py3-none-any.whl (9.4 kB)\n",
            "Collecting pathtools\n",
            "  Downloading pathtools-0.1.2.tar.gz (11 kB)\n",
            "Collecting setproctitle\n",
            "  Downloading setproctitle-1.3.2-cp37-cp37m-manylinux_2_5_x86_64.manylinux1_x86_64.manylinux_2_17_x86_64.manylinux2014_x86_64.whl (30 kB)\n",
            "Requirement already satisfied: six>=1.13.0 in /usr/local/lib/python3.7/dist-packages (from wandb) (1.15.0)\n",
            "Collecting GitPython>=1.0.0\n",
            "  Downloading GitPython-3.1.27-py3-none-any.whl (181 kB)\n",
            "\u001b[K     |████████████████████████████████| 181 kB 46.2 MB/s \n",
            "\u001b[?25hRequirement already satisfied: Click!=8.0.0,>=7.0 in /usr/local/lib/python3.7/dist-packages (from wandb) (7.1.2)\n",
            "Requirement already satisfied: setuptools in /usr/local/lib/python3.7/dist-packages (from wandb) (57.4.0)\n",
            "Requirement already satisfied: psutil>=5.0.0 in /usr/local/lib/python3.7/dist-packages (from wandb) (5.4.8)\n",
            "Collecting sentry-sdk>=1.0.0\n",
            "  Downloading sentry_sdk-1.9.8-py2.py3-none-any.whl (158 kB)\n",
            "\u001b[K     |████████████████████████████████| 158 kB 54.2 MB/s \n",
            "\u001b[?25hCollecting docker-pycreds>=0.4.0\n",
            "  Downloading docker_pycreds-0.4.0-py2.py3-none-any.whl (9.0 kB)\n",
            "Requirement already satisfied: promise<3,>=2.0 in /usr/local/lib/python3.7/dist-packages (from wandb) (2.3)\n",
            "Requirement already satisfied: protobuf<4.0dev,>=3.12.0 in /usr/local/lib/python3.7/dist-packages (from wandb) (3.17.3)\n",
            "Collecting gitdb<5,>=4.0.1\n",
            "  Downloading gitdb-4.0.9-py3-none-any.whl (63 kB)\n",
            "\u001b[K     |████████████████████████████████| 63 kB 1.4 MB/s \n",
            "\u001b[?25hCollecting smmap<6,>=3.0.1\n",
            "  Downloading smmap-5.0.0-py3-none-any.whl (24 kB)\n",
            "Requirement already satisfied: chardet<4,>=3.0.2 in /usr/local/lib/python3.7/dist-packages (from requests->huggingface-hub>=0.4.0->sentence-transformers) (3.0.4)\n",
            "Requirement already satisfied: idna<3,>=2.5 in /usr/local/lib/python3.7/dist-packages (from requests->huggingface-hub>=0.4.0->sentence-transformers) (2.10)\n",
            "Requirement already satisfied: certifi>=2017.4.17 in /usr/local/lib/python3.7/dist-packages (from requests->huggingface-hub>=0.4.0->sentence-transformers) (2022.6.15)\n",
            "Requirement already satisfied: urllib3!=1.25.0,!=1.25.1,<1.26,>=1.21.1 in /usr/local/lib/python3.7/dist-packages (from requests->huggingface-hub>=0.4.0->sentence-transformers) (1.24.3)\n",
            "Collecting sentry-sdk>=1.0.0\n",
            "  Downloading sentry_sdk-1.9.7-py2.py3-none-any.whl (157 kB)\n",
            "\u001b[K     |████████████████████████████████| 157 kB 52.9 MB/s \n",
            "\u001b[?25h  Downloading sentry_sdk-1.9.6-py2.py3-none-any.whl (157 kB)\n",
            "\u001b[K     |████████████████████████████████| 157 kB 51.2 MB/s \n",
            "\u001b[?25h  Downloading sentry_sdk-1.9.5-py2.py3-none-any.whl (157 kB)\n",
            "\u001b[K     |████████████████████████████████| 157 kB 56.5 MB/s \n",
            "\u001b[?25h  Downloading sentry_sdk-1.9.4-py2.py3-none-any.whl (157 kB)\n",
            "\u001b[K     |████████████████████████████████| 157 kB 60.5 MB/s \n",
            "\u001b[?25h  Downloading sentry_sdk-1.9.3-py2.py3-none-any.whl (157 kB)\n",
            "\u001b[K     |████████████████████████████████| 157 kB 55.6 MB/s \n",
            "\u001b[?25h  Downloading sentry_sdk-1.9.2-py2.py3-none-any.whl (157 kB)\n",
            "\u001b[K     |████████████████████████████████| 157 kB 58.4 MB/s \n",
            "\u001b[?25h  Downloading sentry_sdk-1.9.1-py2.py3-none-any.whl (157 kB)\n",
            "\u001b[K     |████████████████████████████████| 157 kB 39.7 MB/s \n",
            "\u001b[?25h  Downloading sentry_sdk-1.9.0-py2.py3-none-any.whl (156 kB)\n",
            "\u001b[K     |████████████████████████████████| 156 kB 53.7 MB/s \n",
            "\u001b[?25hRequirement already satisfied: zipp>=0.5 in /usr/local/lib/python3.7/dist-packages (from importlib-metadata->huggingface-hub>=0.4.0->sentence-transformers) (3.8.1)\n",
            "Requirement already satisfied: joblib in /usr/local/lib/python3.7/dist-packages (from nltk->sentence-transformers) (1.1.0)\n",
            "Requirement already satisfied: threadpoolctl>=2.0.0 in /usr/local/lib/python3.7/dist-packages (from scikit-learn->sentence-transformers) (3.1.0)\n",
            "Requirement already satisfied: pillow!=8.3.*,>=5.3.0 in /usr/local/lib/python3.7/dist-packages (from torchvision->sentence-transformers) (7.1.2)\n",
            "Building wheels for collected packages: sentence-transformers, pathtools\n",
            "  Building wheel for sentence-transformers (setup.py) ... \u001b[?25l\u001b[?25hdone\n",
            "  Created wheel for sentence-transformers: filename=sentence_transformers-2.2.2-py3-none-any.whl size=125938 sha256=037bde55a2d7c99ceb581915bea8bce53009102fff8101713592c6e3d4d712c3\n",
            "  Stored in directory: /root/.cache/pip/wheels/bf/06/fb/d59c1e5bd1dac7f6cf61ec0036cc3a10ab8fecaa6b2c3d3ee9\n",
            "  Building wheel for pathtools (setup.py) ... \u001b[?25l\u001b[?25hdone\n",
            "  Created wheel for pathtools: filename=pathtools-0.1.2-py3-none-any.whl size=8806 sha256=5978425270e13b81f9f63b89961dac93522113fd58b26e17e681b5734b859d27\n",
            "  Stored in directory: /root/.cache/pip/wheels/3e/31/09/fa59cef12cdcfecc627b3d24273699f390e71828921b2cbba2\n",
            "Successfully built sentence-transformers pathtools\n",
            "Installing collected packages: smmap, tokenizers, huggingface-hub, gitdb, transformers, shortuuid, setproctitle, sentry-sdk, sentencepiece, pathtools, GitPython, docker-pycreds, wandb, sentence-transformers\n",
            "Successfully installed GitPython-3.1.27 docker-pycreds-0.4.0 gitdb-4.0.9 huggingface-hub-0.9.1 pathtools-0.1.2 sentence-transformers-2.2.2 sentencepiece-0.1.97 sentry-sdk-1.9.0 setproctitle-1.3.2 shortuuid-1.0.9 smmap-5.0.0 tokenizers-0.12.1 transformers-4.22.1 wandb-0.13.3\n"
          ]
        }
      ]
    },
    {
      "cell_type": "code",
      "execution_count": 2,
      "metadata": {
        "id": "8wffusyCytsx",
        "colab": {
          "base_uri": "https://localhost:8080/",
          "height": 104,
          "referenced_widgets": [
            "d16517e1bd8f4f7cb98d1759b74372ac",
            "a62c1c2425d34937b5f8d7f67188005c",
            "329498387ff14188a60d3817c4cb4718",
            "da0f3173ad5a439da8d25fa742f54fdf",
            "4a506a123feb4b44bd1c1d0d06c34b88",
            "63fe0e71d8904bc1b0826300795d65fc",
            "995f5ba5f51a4a768de2725c0e568743",
            "cb726ba5ab7e4e039549df3dc3bf182c",
            "2d6988f373374c2296d9a54ef7bc32c6",
            "1bba994ea4194350a9dd92deee38138f",
            "bc209849475a411385b5242beb0f2d12"
          ]
        },
        "outputId": "50c535d9-ccd5-439b-9a12-2684e2fa0de5"
      },
      "outputs": [
        {
          "output_type": "stream",
          "name": "stderr",
          "text": [
            "The cache for model files in Transformers v4.22.0 has been updated. Migrating your old cache. This is a one-time only operation. You can interrupt this and resume the migration later on by calling `transformers.utils.move_cache()`.\n"
          ]
        },
        {
          "output_type": "stream",
          "name": "stdout",
          "text": [
            "Moving 0 files to the new cache system\n"
          ]
        },
        {
          "output_type": "display_data",
          "data": {
            "text/plain": [
              "0it [00:00, ?it/s]"
            ],
            "application/vnd.jupyter.widget-view+json": {
              "version_major": 2,
              "version_minor": 0,
              "model_id": "d16517e1bd8f4f7cb98d1759b74372ac"
            }
          },
          "metadata": {}
        }
      ],
      "source": [
        "from pathlib import Path\n",
        "import numpy as np\n",
        "import pandas as pd\n",
        "import re\n",
        "import json\n",
        "\n",
        "from sentence_transformers import SentenceTransformer \n",
        "\n",
        "from sklearn.model_selection import StratifiedKFold\n",
        "from sklearn.metrics import accuracy_score, f1_score, precision_score, recall_score\n",
        "\n",
        "import wandb\n",
        "from wandb.keras import WandbCallback\n",
        "from IPython.display import clear_output"
      ]
    },
    {
      "cell_type": "code",
      "source": [
        "metrics = [accuracy_score, f1_score, precision_score, recall_score]\n",
        "\n",
        "def get_name(score_func):\n",
        "    return 'eval/' + score_func.__name__.split(\"_\")[0]"
      ],
      "metadata": {
        "id": "oUUMZeWMuZXE"
      },
      "execution_count": 3,
      "outputs": []
    },
    {
      "cell_type": "markdown",
      "source": [
        "# Load data"
      ],
      "metadata": {
        "id": "R_4mZElNIVb5"
      }
    },
    {
      "cell_type": "code",
      "source": [
        "from google.colab import drive\n",
        "drive.mount('/content/drive')\n",
        "\n",
        "base_dir = Path(\"/content/drive/MyDrive/ResearchFND\")\n",
        "assert base_dir.exists()"
      ],
      "metadata": {
        "id": "UxNEaltli8H_",
        "colab": {
          "base_uri": "https://localhost:8080/"
        },
        "outputId": "8376929c-6cba-44c3-8310-7d4cfed3cb5c"
      },
      "execution_count": 4,
      "outputs": [
        {
          "output_type": "stream",
          "name": "stdout",
          "text": [
            "Mounted at /content/drive\n"
          ]
        }
      ]
    },
    {
      "cell_type": "code",
      "source": [
        "dataset_id = 'politifact'"
      ],
      "metadata": {
        "id": "GdnjXaSwE46w"
      },
      "execution_count": 5,
      "outputs": []
    },
    {
      "cell_type": "code",
      "source": [
        "import ast\n",
        "\n",
        "converters = {\"retweets\":ast.literal_eval, \"tweets\":ast.literal_eval}\n",
        "df = pd.read_csv(base_dir/f\"{dataset_id}_agg.csv\", converters=converters)\n",
        "df.head()"
      ],
      "metadata": {
        "id": "2YYgYvwB7nkO",
        "colab": {
          "base_uri": "https://localhost:8080/",
          "height": 600
        },
        "outputId": "b8076e75-c352-49c8-ea71-589931cd14bc"
      },
      "execution_count": 6,
      "outputs": [
        {
          "output_type": "execute_result",
          "data": {
            "text/plain": [
              "   Unnamed: 0                                              title  \\\n",
              "0           0   Actress Emma Stone ‘For the first time in his...   \n",
              "1           1   Breaking President Trump makes English the of...   \n",
              "2           2   Friendly Fire … Charlottesville Car attacker ...   \n",
              "3           3   If You Are Using This Toothpaste… Throw It Aw...   \n",
              "4           4  \"Face the Nation\" transcripts, August 26, 2012...   \n",
              "\n",
              "                                                text tweets  \\\n",
              "0                                                NaN     []   \n",
              "1                                                NaN     []   \n",
              "2                                                NaN     []   \n",
              "3  MightyLiving Blog\\n\\nHelpful inspiration from ...     []   \n",
              "4  \"Face the Nation\" transcripts, August 26, 2012...     []   \n",
              "\n",
              "                                            retweets label  \\\n",
              "0  [1020554564334964741, 1020817527046197248, 106...  fake   \n",
              "1                                                 []  fake   \n",
              "2  [3265439004, 3250621593, 3253922920, 326691851...  fake   \n",
              "3  [911971426571255810, 1036749614853103616, 1033...  fake   \n",
              "4                                                 []  real   \n",
              "\n",
              "                                                 url tweet_ids  num_retweets  \\\n",
              "0                                                NaN        []          2911   \n",
              "1                                                NaN        []             0   \n",
              "2                                                NaN        []            24   \n",
              "3  mightynest.com/learn/research-by-concern/dange...        []          2569   \n",
              "4  https://web.archive.org/web/20120827001956/htt...        []             0   \n",
              "\n",
              "   log_num_retweets  num_tweets  log_num_tweets  \n",
              "0          7.976595           0             0.0  \n",
              "1          0.000000           0             0.0  \n",
              "2          3.218876           0             0.0  \n",
              "3          7.851661           0             0.0  \n",
              "4          0.000000           0             0.0  "
            ],
            "text/html": [
              "\n",
              "  <div id=\"df-8f6eff0a-e53d-4e3a-9b86-f3213ff37d70\">\n",
              "    <div class=\"colab-df-container\">\n",
              "      <div>\n",
              "<style scoped>\n",
              "    .dataframe tbody tr th:only-of-type {\n",
              "        vertical-align: middle;\n",
              "    }\n",
              "\n",
              "    .dataframe tbody tr th {\n",
              "        vertical-align: top;\n",
              "    }\n",
              "\n",
              "    .dataframe thead th {\n",
              "        text-align: right;\n",
              "    }\n",
              "</style>\n",
              "<table border=\"1\" class=\"dataframe\">\n",
              "  <thead>\n",
              "    <tr style=\"text-align: right;\">\n",
              "      <th></th>\n",
              "      <th>Unnamed: 0</th>\n",
              "      <th>title</th>\n",
              "      <th>text</th>\n",
              "      <th>tweets</th>\n",
              "      <th>retweets</th>\n",
              "      <th>label</th>\n",
              "      <th>url</th>\n",
              "      <th>tweet_ids</th>\n",
              "      <th>num_retweets</th>\n",
              "      <th>log_num_retweets</th>\n",
              "      <th>num_tweets</th>\n",
              "      <th>log_num_tweets</th>\n",
              "    </tr>\n",
              "  </thead>\n",
              "  <tbody>\n",
              "    <tr>\n",
              "      <th>0</th>\n",
              "      <td>0</td>\n",
              "      <td>Actress Emma Stone ‘For the first time in his...</td>\n",
              "      <td>NaN</td>\n",
              "      <td>[]</td>\n",
              "      <td>[1020554564334964741, 1020817527046197248, 106...</td>\n",
              "      <td>fake</td>\n",
              "      <td>NaN</td>\n",
              "      <td>[]</td>\n",
              "      <td>2911</td>\n",
              "      <td>7.976595</td>\n",
              "      <td>0</td>\n",
              "      <td>0.0</td>\n",
              "    </tr>\n",
              "    <tr>\n",
              "      <th>1</th>\n",
              "      <td>1</td>\n",
              "      <td>Breaking President Trump makes English the of...</td>\n",
              "      <td>NaN</td>\n",
              "      <td>[]</td>\n",
              "      <td>[]</td>\n",
              "      <td>fake</td>\n",
              "      <td>NaN</td>\n",
              "      <td>[]</td>\n",
              "      <td>0</td>\n",
              "      <td>0.000000</td>\n",
              "      <td>0</td>\n",
              "      <td>0.0</td>\n",
              "    </tr>\n",
              "    <tr>\n",
              "      <th>2</th>\n",
              "      <td>2</td>\n",
              "      <td>Friendly Fire … Charlottesville Car attacker ...</td>\n",
              "      <td>NaN</td>\n",
              "      <td>[]</td>\n",
              "      <td>[3265439004, 3250621593, 3253922920, 326691851...</td>\n",
              "      <td>fake</td>\n",
              "      <td>NaN</td>\n",
              "      <td>[]</td>\n",
              "      <td>24</td>\n",
              "      <td>3.218876</td>\n",
              "      <td>0</td>\n",
              "      <td>0.0</td>\n",
              "    </tr>\n",
              "    <tr>\n",
              "      <th>3</th>\n",
              "      <td>3</td>\n",
              "      <td>If You Are Using This Toothpaste… Throw It Aw...</td>\n",
              "      <td>MightyLiving Blog\\n\\nHelpful inspiration from ...</td>\n",
              "      <td>[]</td>\n",
              "      <td>[911971426571255810, 1036749614853103616, 1033...</td>\n",
              "      <td>fake</td>\n",
              "      <td>mightynest.com/learn/research-by-concern/dange...</td>\n",
              "      <td>[]</td>\n",
              "      <td>2569</td>\n",
              "      <td>7.851661</td>\n",
              "      <td>0</td>\n",
              "      <td>0.0</td>\n",
              "    </tr>\n",
              "    <tr>\n",
              "      <th>4</th>\n",
              "      <td>4</td>\n",
              "      <td>\"Face the Nation\" transcripts, August 26, 2012...</td>\n",
              "      <td>\"Face the Nation\" transcripts, August 26, 2012...</td>\n",
              "      <td>[]</td>\n",
              "      <td>[]</td>\n",
              "      <td>real</td>\n",
              "      <td>https://web.archive.org/web/20120827001956/htt...</td>\n",
              "      <td>[]</td>\n",
              "      <td>0</td>\n",
              "      <td>0.000000</td>\n",
              "      <td>0</td>\n",
              "      <td>0.0</td>\n",
              "    </tr>\n",
              "  </tbody>\n",
              "</table>\n",
              "</div>\n",
              "      <button class=\"colab-df-convert\" onclick=\"convertToInteractive('df-8f6eff0a-e53d-4e3a-9b86-f3213ff37d70')\"\n",
              "              title=\"Convert this dataframe to an interactive table.\"\n",
              "              style=\"display:none;\">\n",
              "        \n",
              "  <svg xmlns=\"http://www.w3.org/2000/svg\" height=\"24px\"viewBox=\"0 0 24 24\"\n",
              "       width=\"24px\">\n",
              "    <path d=\"M0 0h24v24H0V0z\" fill=\"none\"/>\n",
              "    <path d=\"M18.56 5.44l.94 2.06.94-2.06 2.06-.94-2.06-.94-.94-2.06-.94 2.06-2.06.94zm-11 1L8.5 8.5l.94-2.06 2.06-.94-2.06-.94L8.5 2.5l-.94 2.06-2.06.94zm10 10l.94 2.06.94-2.06 2.06-.94-2.06-.94-.94-2.06-.94 2.06-2.06.94z\"/><path d=\"M17.41 7.96l-1.37-1.37c-.4-.4-.92-.59-1.43-.59-.52 0-1.04.2-1.43.59L10.3 9.45l-7.72 7.72c-.78.78-.78 2.05 0 2.83L4 21.41c.39.39.9.59 1.41.59.51 0 1.02-.2 1.41-.59l7.78-7.78 2.81-2.81c.8-.78.8-2.07 0-2.86zM5.41 20L4 18.59l7.72-7.72 1.47 1.35L5.41 20z\"/>\n",
              "  </svg>\n",
              "      </button>\n",
              "      \n",
              "  <style>\n",
              "    .colab-df-container {\n",
              "      display:flex;\n",
              "      flex-wrap:wrap;\n",
              "      gap: 12px;\n",
              "    }\n",
              "\n",
              "    .colab-df-convert {\n",
              "      background-color: #E8F0FE;\n",
              "      border: none;\n",
              "      border-radius: 50%;\n",
              "      cursor: pointer;\n",
              "      display: none;\n",
              "      fill: #1967D2;\n",
              "      height: 32px;\n",
              "      padding: 0 0 0 0;\n",
              "      width: 32px;\n",
              "    }\n",
              "\n",
              "    .colab-df-convert:hover {\n",
              "      background-color: #E2EBFA;\n",
              "      box-shadow: 0px 1px 2px rgba(60, 64, 67, 0.3), 0px 1px 3px 1px rgba(60, 64, 67, 0.15);\n",
              "      fill: #174EA6;\n",
              "    }\n",
              "\n",
              "    [theme=dark] .colab-df-convert {\n",
              "      background-color: #3B4455;\n",
              "      fill: #D2E3FC;\n",
              "    }\n",
              "\n",
              "    [theme=dark] .colab-df-convert:hover {\n",
              "      background-color: #434B5C;\n",
              "      box-shadow: 0px 1px 3px 1px rgba(0, 0, 0, 0.15);\n",
              "      filter: drop-shadow(0px 1px 2px rgba(0, 0, 0, 0.3));\n",
              "      fill: #FFFFFF;\n",
              "    }\n",
              "  </style>\n",
              "\n",
              "      <script>\n",
              "        const buttonEl =\n",
              "          document.querySelector('#df-8f6eff0a-e53d-4e3a-9b86-f3213ff37d70 button.colab-df-convert');\n",
              "        buttonEl.style.display =\n",
              "          google.colab.kernel.accessAllowed ? 'block' : 'none';\n",
              "\n",
              "        async function convertToInteractive(key) {\n",
              "          const element = document.querySelector('#df-8f6eff0a-e53d-4e3a-9b86-f3213ff37d70');\n",
              "          const dataTable =\n",
              "            await google.colab.kernel.invokeFunction('convertToInteractive',\n",
              "                                                     [key], {});\n",
              "          if (!dataTable) return;\n",
              "\n",
              "          const docLinkHtml = 'Like what you see? Visit the ' +\n",
              "            '<a target=\"_blank\" href=https://colab.research.google.com/notebooks/data_table.ipynb>data table notebook</a>'\n",
              "            + ' to learn more about interactive tables.';\n",
              "          element.innerHTML = '';\n",
              "          dataTable['output_type'] = 'display_data';\n",
              "          await google.colab.output.renderOutput(dataTable, element);\n",
              "          const docLink = document.createElement('div');\n",
              "          docLink.innerHTML = docLinkHtml;\n",
              "          element.appendChild(docLink);\n",
              "        }\n",
              "      </script>\n",
              "    </div>\n",
              "  </div>\n",
              "  "
            ]
          },
          "metadata": {},
          "execution_count": 6
        }
      ]
    },
    {
      "cell_type": "markdown",
      "source": [
        "# Using the embeddings for title and text from previous experiments"
      ],
      "metadata": {
        "id": "CnksS6trIRdd"
      }
    },
    {
      "cell_type": "code",
      "source": [
        "title_embedding_file = base_dir/f\"{dataset_id}_sbert_title_embeddings.npy\"\n",
        "\n",
        "if title_embedding_file.exists():\n",
        "    title_embeddings = np.load(title_embedding_file)\n",
        "else:\n",
        "    model_id = \"all-mpnet-base-v2\"\n",
        "    model = SentenceTransformer(model_id)\n",
        "    titles = df.title.tolist()\n",
        "    title_embeddings = model.encode(titles, show_progress_bar=True)\n",
        "    np.save(title_embedding_file, title_embeddings)"
      ],
      "metadata": {
        "id": "8H5eVnOyPFam"
      },
      "execution_count": 7,
      "outputs": []
    },
    {
      "cell_type": "code",
      "source": [
        "text_embedding_file = base_dir/f\"{dataset_id}_sbert_fulltext_embeddings.npy\"\n",
        "\n",
        "if text_embedding_file.exists():\n",
        "    text_embeddings = np.load(text_embedding_file)\n",
        "else:\n",
        "    model_id = \"all-mpnet-base-v2\"\n",
        "    model = SentenceTransformer(model_id)\n",
        "    texts = (df.title + \"\\n\" + df.text).tolist()\n",
        "    text_embeddings = model.encode(texts, show_progress_bar=True)\n",
        "    np.save(text_embedding_file, text_embeddings)"
      ],
      "metadata": {
        "id": "Uc88pT1nIRFX"
      },
      "execution_count": 8,
      "outputs": []
    },
    {
      "cell_type": "code",
      "source": [
        "df[\"num_retweets\"] = df.retweets.map(lambda x: len(set(x)))\n",
        "df[\"log_num_retweets\"] = np.log1p(df.num_retweets.to_numpy())\n",
        "df[\"num_tweets\"] = df.tweets.map(lambda x: len(set([t[\"id\"] for t in x])))\n",
        "df[\"log_num_tweets\"] = np.log1p(df.num_tweets.to_numpy())"
      ],
      "metadata": {
        "id": "h3uRPu4yGYvp"
      },
      "execution_count": 9,
      "outputs": []
    },
    {
      "cell_type": "markdown",
      "source": [
        "# Training - Saving the machine learning model specifications"
      ],
      "metadata": {
        "id": "BIJrjc_jMSmB"
      }
    },
    {
      "cell_type": "code",
      "source": [
        "import tensorflow as tf"
      ],
      "metadata": {
        "id": "crdL5CNX_guQ"
      },
      "execution_count": 10,
      "outputs": []
    },
    {
      "cell_type": "code",
      "source": [
        "def get_model(d_h=64, p_in:float=0.2, p_out:float=0.2):\n",
        "    model = tf.keras.Sequential([\n",
        "        tf.keras.layers.Dropout(p_in), # input dropout\n",
        "        tf.keras.layers.Dense(d_h, activation='relu'),\n",
        "        tf.keras.layers.Dropout(p_out),  \n",
        "        tf.keras.layers.Dense(1)\n",
        "    ])\n",
        "\n",
        "    model.compile(loss=tf.keras.losses.BinaryCrossentropy(from_logits=True), \n",
        "                  optimizer='adam',metrics=['accuracy'])\n",
        "    return model"
      ],
      "metadata": {
        "id": "-_V-I0VdTezQ"
      },
      "execution_count": 11,
      "outputs": []
    },
    {
      "cell_type": "code",
      "source": [
        "def train(fold_id, train_idx, test_idx, params):\n",
        "\n",
        "    # setup\n",
        "    X_train, X_test = X[train_idx], X[test_idx]\n",
        "    y_train, y_test = y[train_idx], y[test_idx]\n",
        "    model = get_model()\n",
        "    # training\n",
        "    ckpt_filepath = f'ckpt/fold_{fold_id}'\n",
        "    save_model_cb = tf.keras.callbacks.ModelCheckpoint(\n",
        "        filepath=ckpt_filepath,\n",
        "        save_weights_only=True,\n",
        "        monitor='val_accuracy',\n",
        "        mode='max',\n",
        "        save_best_only=True)\n",
        "    history = model.fit(\n",
        "        X_train, y_train, validation_data = (X_test, y_test), \n",
        "        batch_size = params['bs'] , epochs=params['epochs'],\n",
        "        callbacks=[WandbCallback(), save_model_cb]\n",
        "    )\n",
        "    #evaluation\n",
        "    model.load_weights(ckpt_filepath)\n",
        "    logits = model.predict(X_test).squeeze()\n",
        "    y_pred = (logits > 0.).astype(int)\n",
        "    eval_results = {get_name(f):f(y_pred=y_pred, y_true=y_test) for f in metrics}\n",
        "    wandb.log(eval_results)\n",
        "    wandb.log({\"conf_mat\" : wandb.plot.confusion_matrix(probs=None,\n",
        "                            y_true=y_test, preds=y_pred,\n",
        "                            class_names=[\"Fake\", \"Real\"])})\n",
        "    return history"
      ],
      "metadata": {
        "id": "d4qbKryd_e3g"
      },
      "execution_count": 12,
      "outputs": []
    },
    {
      "cell_type": "markdown",
      "source": [
        "### PyTorch_BigGraph embeddings"
      ],
      "metadata": {
        "id": "NetZ3uulKwmk"
      }
    },
    {
      "cell_type": "code",
      "source": [
        "edim = 128\n",
        "bg_embeddings = np.load(base_dir/f'{dataset_id}_pt_biggraph_article_embeddings_{edim}.npy')\n",
        "idx = np.load(base_dir/f\"{dataset_id}_pt_biggraph_article_idx_{edim}.npy\")"
      ],
      "metadata": {
        "id": "uQjE8biJFfW8"
      },
      "execution_count": 13,
      "outputs": []
    },
    {
      "cell_type": "code",
      "source": [
        "graph_embeddings = np.zeros((text_embeddings.shape[0], edim))\n",
        "graph_embeddings[idx] = bg_embeddings"
      ],
      "metadata": {
        "id": "NWS6KO7UpUX3"
      },
      "execution_count": 14,
      "outputs": []
    },
    {
      "cell_type": "code",
      "source": [
        "params = {\n",
        "    \"epochs\":600,\n",
        "    \"bs\":128,\n",
        "    # 'lr':1e-3\n",
        "}"
      ],
      "metadata": {
        "id": "zYG-ufSkM92E"
      },
      "execution_count": 23,
      "outputs": []
    },
    {
      "cell_type": "code",
      "source": [
        "X = np.concatenate([\n",
        "    text_embeddings, \n",
        "    df.log_num_retweets.to_numpy()[..., None], \n",
        "    df.log_num_tweets.to_numpy()[..., None],\n",
        "    graph_embeddings], axis=1)\n",
        "y = (df.label==\"real\").to_numpy().astype(int)\n",
        "\n",
        "X.shape, y.shape"
      ],
      "metadata": {
        "colab": {
          "base_uri": "https://localhost:8080/"
        },
        "outputId": "78be4ec4-9483-4f90-c0ff-a2dc97d374c0",
        "id": "NYFQrhVkqGbC"
      },
      "execution_count": 24,
      "outputs": [
        {
          "output_type": "execute_result",
          "data": {
            "text/plain": [
              "((894, 898), (894,))"
            ]
          },
          "metadata": {},
          "execution_count": 24
        }
      ]
    },
    {
      "cell_type": "code",
      "source": [
        "skf = StratifiedKFold(shuffle=True, random_state=124)"
      ],
      "metadata": {
        "id": "35HIz5jGM92K"
      },
      "execution_count": 25,
      "outputs": []
    },
    {
      "cell_type": "markdown",
      "source": [
        "Creating a group and logging all train, test data in wandb for better tracking and visualisation."
      ],
      "metadata": {
        "id": "l0wGrjhLM92M"
      }
    },
    {
      "cell_type": "code",
      "source": [
        "GROUP = f\"{dataset_id}-fulltext-sbert+tw+ptbg128-mlp+e600\"\n",
        "\n",
        "for fold_id, (train_idx, test_idx) in enumerate(skf.split(X, y)):\n",
        "    clear_output()\n",
        "    with wandb.init(entity=\"saloniteam\", project=\"nofolds\", group=GROUP, name=f\"{GROUP}-{fold_id}\") as run:\n",
        "        train(fold_id, train_idx, test_idx, params)\n",
        "    break"
      ],
      "metadata": {
        "colab": {
          "base_uri": "https://localhost:8080/",
          "height": 1000,
          "referenced_widgets": [
            "de591ac15e6c4420b877eb6a33463479",
            "76117e0fad854287a9cdd4e336617e8f",
            "e5225fc902ab461d955cd27410424738",
            "8fb4e9aa647846bd971bae35cf30f31c",
            "ac0caabb4af443b989fa015c5264ab8a",
            "191f9cae4d714041965e9b13726873c2",
            "f38281665a524f13bbe74b127027aafd",
            "a35fede387cb4179be1e47c71eb1a69c"
          ]
        },
        "outputId": "6bc29e1f-040e-4e35-a256-f31da543bf64",
        "id": "BQRR58uNM92O"
      },
      "execution_count": 26,
      "outputs": [
        {
          "output_type": "display_data",
          "data": {
            "text/plain": [
              "<IPython.core.display.HTML object>"
            ],
            "text/html": [
              "Tracking run with wandb version 0.13.3"
            ]
          },
          "metadata": {}
        },
        {
          "output_type": "display_data",
          "data": {
            "text/plain": [
              "<IPython.core.display.HTML object>"
            ],
            "text/html": [
              "Run data is saved locally in <code>/content/wandb/run-20220917_094837-34p4vgkp</code>"
            ]
          },
          "metadata": {}
        },
        {
          "output_type": "display_data",
          "data": {
            "text/plain": [
              "<IPython.core.display.HTML object>"
            ],
            "text/html": [
              "Syncing run <strong><a href=\"https://wandb.ai/saloniteam/nofolds/runs/34p4vgkp\" target=\"_blank\">politifact-fulltext-sbert+tw+ptbg128-mlp+e600-0</a></strong> to <a href=\"https://wandb.ai/saloniteam/nofolds\" target=\"_blank\">Weights & Biases</a> (<a href=\"https://wandb.me/run\" target=\"_blank\">docs</a>)<br/>"
            ]
          },
          "metadata": {}
        },
        {
          "output_type": "stream",
          "name": "stderr",
          "text": [
            "\u001b[34m\u001b[1mwandb\u001b[0m: \u001b[33mWARNING\u001b[0m Unable to compute FLOPs for this model.\n"
          ]
        },
        {
          "output_type": "stream",
          "name": "stdout",
          "text": [
            "Epoch 1/600\n",
            "1/6 [====>.........................] - ETA: 2s - loss: 0.7094 - accuracy: 0.4219"
          ]
        },
        {
          "output_type": "stream",
          "name": "stderr",
          "text": [
            "\u001b[34m\u001b[1mwandb\u001b[0m: Adding directory to artifact (/content/wandb/run-20220917_094837-34p4vgkp/files/model-best)... Done. 0.1s\n"
          ]
        },
        {
          "output_type": "stream",
          "name": "stdout",
          "text": [
            "\b\b\b\b\b\b\b\b\b\b\b\b\b\b\b\b\b\b\b\b\b\b\b\b\b\b\b\b\b\b\b\b\b\b\b\b\b\b\b\b\b\b\b\b\b\b\b\b\b\b\b\b\b\b\b\b\b\b\b\b\b\b\b\b\b\b\b\b\b\b\b\b\b\b\b\b\b\b\b\b\r6/6 [==============================] - 1s 195ms/step - loss: 0.6782 - accuracy: 0.4769 - val_loss: 0.6440 - val_accuracy: 0.4860\n",
            "Epoch 2/600\n",
            "1/6 [====>.........................] - ETA: 0s - loss: 0.6524 - accuracy: 0.5156"
          ]
        },
        {
          "output_type": "stream",
          "name": "stderr",
          "text": [
            "\u001b[34m\u001b[1mwandb\u001b[0m: Adding directory to artifact (/content/wandb/run-20220917_094837-34p4vgkp/files/model-best)... Done. 0.1s\n"
          ]
        },
        {
          "output_type": "stream",
          "name": "stdout",
          "text": [
            "\b\b\b\b\b\b\b\b\b\b\b\b\b\b\b\b\b\b\b\b\b\b\b\b\b\b\b\b\b\b\b\b\b\b\b\b\b\b\b\b\b\b\b\b\b\b\b\b\b\b\b\b\b\b\b\b\b\b\b\b\b\b\b\b\b\b\b\b\b\b\b\b\b\b\b\b\b\b\b\b\r6/6 [==============================] - 1s 177ms/step - loss: 0.6288 - accuracy: 0.5832 - val_loss: 0.6010 - val_accuracy: 0.7263\n",
            "Epoch 3/600\n",
            "1/6 [====>.........................] - ETA: 0s - loss: 0.6123 - accuracy: 0.5938"
          ]
        },
        {
          "output_type": "stream",
          "name": "stderr",
          "text": [
            "\u001b[34m\u001b[1mwandb\u001b[0m: Adding directory to artifact (/content/wandb/run-20220917_094837-34p4vgkp/files/model-best)... Done. 0.1s\n"
          ]
        },
        {
          "output_type": "stream",
          "name": "stdout",
          "text": [
            "\b\b\b\b\b\b\b\b\b\b\b\b\b\b\b\b\b\b\b\b\b\b\b\b\b\b\b\b\b\b\b\b\b\b\b\b\b\b\b\b\b\b\b\b\b\b\b\b\b\b\b\b\b\b\b\b\b\b\b\b\b\b\b\b\b\b\b\b\b\b\b\b\b\b\b\b\b\b\b\b\r6/6 [==============================] - 1s 165ms/step - loss: 0.5920 - accuracy: 0.7021 - val_loss: 0.5554 - val_accuracy: 0.7821\n",
            "Epoch 4/600\n",
            "1/6 [====>.........................] - ETA: 0s - loss: 0.5574 - accuracy: 0.7578"
          ]
        },
        {
          "output_type": "stream",
          "name": "stderr",
          "text": [
            "\u001b[34m\u001b[1mwandb\u001b[0m: Adding directory to artifact (/content/wandb/run-20220917_094837-34p4vgkp/files/model-best)... Done. 0.1s\n"
          ]
        },
        {
          "output_type": "stream",
          "name": "stdout",
          "text": [
            "\b\b\b\b\b\b\b\b\b\b\b\b\b\b\b\b\b\b\b\b\b\b\b\b\b\b\b\b\b\b\b\b\b\b\b\b\b\b\b\b\b\b\b\b\b\b\b\b\b\b\b\b\b\b\b\b\b\b\b\b\b\b\b\b\b\b\b\b\b\b\b\b\b\b\b\b\b\b\b\b\r6/6 [==============================] - 1s 236ms/step - loss: 0.5372 - accuracy: 0.7706 - val_loss: 0.5060 - val_accuracy: 0.8268\n",
            "Epoch 5/600\n",
            "1/6 [====>.........................] - ETA: 0s - loss: 0.5116 - accuracy: 0.8047"
          ]
        },
        {
          "output_type": "stream",
          "name": "stderr",
          "text": [
            "\u001b[34m\u001b[1mwandb\u001b[0m: Adding directory to artifact (/content/wandb/run-20220917_094837-34p4vgkp/files/model-best)... Done. 0.1s\n"
          ]
        },
        {
          "output_type": "stream",
          "name": "stdout",
          "text": [
            "\b\b\b\b\b\b\b\b\b\b\b\b\b\b\b\b\b\b\b\b\b\b\b\b\b\b\b\b\b\b\b\b\b\b\b\b\b\b\b\b\b\b\b\b\b\b\b\b\b\b\b\b\b\b\b\b\b\b\b\b\b\b\b\b\b\b\b\b\b\b\b\b\b\b\b\b\b\b\b\b\r6/6 [==============================] - 1s 165ms/step - loss: 0.4929 - accuracy: 0.8140 - val_loss: 0.4587 - val_accuracy: 0.8436\n",
            "Epoch 6/600\n",
            "1/6 [====>.........................] - ETA: 0s - loss: 0.4488 - accuracy: 0.8516"
          ]
        },
        {
          "output_type": "stream",
          "name": "stderr",
          "text": [
            "\u001b[34m\u001b[1mwandb\u001b[0m: Adding directory to artifact (/content/wandb/run-20220917_094837-34p4vgkp/files/model-best)... Done. 0.1s\n"
          ]
        },
        {
          "output_type": "stream",
          "name": "stdout",
          "text": [
            "\b\b\b\b\b\b\b\b\b\b\b\b\b\b\b\b\b\b\b\b\b\b\b\b\b\b\b\b\b\b\b\b\b\b\b\b\b\b\b\b\b\b\b\b\b\b\b\b\b\b\b\b\b\b\b\b\b\b\b\b\b\b\b\b\b\b\b\b\b\b\b\b\b\b\b\b\b\b\b\b\r6/6 [==============================] - 1s 158ms/step - loss: 0.4446 - accuracy: 0.8503 - val_loss: 0.4128 - val_accuracy: 0.8883\n",
            "Epoch 7/600\n",
            "1/6 [====>.........................] - ETA: 0s - loss: 0.3931 - accuracy: 0.8750"
          ]
        },
        {
          "output_type": "stream",
          "name": "stderr",
          "text": [
            "\u001b[34m\u001b[1mwandb\u001b[0m: Adding directory to artifact (/content/wandb/run-20220917_094837-34p4vgkp/files/model-best)... Done. 0.1s\n"
          ]
        },
        {
          "output_type": "stream",
          "name": "stdout",
          "text": [
            "\b\b\b\b\b\b\b\b\b\b\b\b\b\b\b\b\b\b\b\b\b\b\b\b\b\b\b\b\b\b\b\b\b\b\b\b\b\b\b\b\b\b\b\b\b\b\b\b\b\b\b\b\b\b\b\b\b\b\b\b\b\b\b\b\b\b\b\b\b\b\b\b\b\b\b\b\b\b\b\b\r6/6 [==============================] - 1s 162ms/step - loss: 0.4093 - accuracy: 0.8615 - val_loss: 0.3714 - val_accuracy: 0.8883\n",
            "Epoch 8/600\n",
            "1/6 [====>.........................] - ETA: 0s - loss: 0.3757 - accuracy: 0.8672"
          ]
        },
        {
          "output_type": "stream",
          "name": "stderr",
          "text": [
            "\u001b[34m\u001b[1mwandb\u001b[0m: Adding directory to artifact (/content/wandb/run-20220917_094837-34p4vgkp/files/model-best)... Done. 0.1s\n"
          ]
        },
        {
          "output_type": "stream",
          "name": "stdout",
          "text": [
            "\b\b\b\b\b\b\b\b\b\b\b\b\b\b\b\b\b\b\b\b\b\b\b\b\b\b\b\b\b\b\b\b\b\b\b\b\b\b\b\b\b\b\b\b\b\b\b\b\b\b\b\b\b\b\b\b\b\b\b\b\b\b\b\b\b\b\b\b\b\b\b\b\b\b\b\b\b\b\b\b\r6/6 [==============================] - 1s 171ms/step - loss: 0.3742 - accuracy: 0.8573 - val_loss: 0.3372 - val_accuracy: 0.9050\n",
            "Epoch 9/600\n",
            "1/6 [====>.........................] - ETA: 0s - loss: 0.3630 - accuracy: 0.8594"
          ]
        },
        {
          "output_type": "stream",
          "name": "stderr",
          "text": [
            "\u001b[34m\u001b[1mwandb\u001b[0m: Adding directory to artifact (/content/wandb/run-20220917_094837-34p4vgkp/files/model-best)... Done. 0.1s\n"
          ]
        },
        {
          "output_type": "stream",
          "name": "stdout",
          "text": [
            "\b\b\b\b\b\b\b\b\b\b\b\b\b\b\b\b\b\b\b\b\b\b\b\b\b\b\b\b\b\b\b\b\b\b\b\b\b\b\b\b\b\b\b\b\b\b\b\b\b\b\b\b\b\b\b\b\b\b\b\b\b\b\b\b\b\b\b\b\b\b\b\b\b\b\b\b\b\b\b\b\r6/6 [==============================] - 1s 179ms/step - loss: 0.3364 - accuracy: 0.8839 - val_loss: 0.3078 - val_accuracy: 0.9050\n",
            "Epoch 10/600\n",
            "1/6 [====>.........................] - ETA: 0s - loss: 0.2889 - accuracy: 0.9219"
          ]
        },
        {
          "output_type": "stream",
          "name": "stderr",
          "text": [
            "\u001b[34m\u001b[1mwandb\u001b[0m: Adding directory to artifact (/content/wandb/run-20220917_094837-34p4vgkp/files/model-best)... Done. 0.1s\n"
          ]
        },
        {
          "output_type": "stream",
          "name": "stdout",
          "text": [
            "\b\b\b\b\b\b\b\b\b\b\b\b\b\b\b\b\b\b\b\b\b\b\b\b\b\b\b\b\b\b\b\b\b\b\b\b\b\b\b\b\b\b\b\b\b\b\b\b\b\b\b\b\b\b\b\b\b\b\b\b\b\b\b\b\b\b\b\b\b\b\b\b\b\b\b\b\b\b\b\b\r6/6 [==============================] - 1s 171ms/step - loss: 0.3076 - accuracy: 0.8853 - val_loss: 0.2836 - val_accuracy: 0.9106\n",
            "Epoch 11/600\n",
            "1/6 [====>.........................] - ETA: 0s - loss: 0.2841 - accuracy: 0.9219"
          ]
        },
        {
          "output_type": "stream",
          "name": "stderr",
          "text": [
            "\u001b[34m\u001b[1mwandb\u001b[0m: Adding directory to artifact (/content/wandb/run-20220917_094837-34p4vgkp/files/model-best)... Done. 0.1s\n"
          ]
        },
        {
          "output_type": "stream",
          "name": "stdout",
          "text": [
            "\b\b\b\b\b\b\b\b\b\b\b\b\b\b\b\b\b\b\b\b\b\b\b\b\b\b\b\b\b\b\b\b\b\b\b\b\b\b\b\b\b\b\b\b\b\b\b\b\b\b\b\b\b\b\b\b\b\b\b\b\b\b\b\b\b\b\b\b\b\b\b\b\b\b\b\b\b\b\b\b\r6/6 [==============================] - 1s 172ms/step - loss: 0.2916 - accuracy: 0.8951 - val_loss: 0.2641 - val_accuracy: 0.9106\n",
            "Epoch 12/600\n",
            "1/6 [====>.........................] - ETA: 0s - loss: 0.2850 - accuracy: 0.8672"
          ]
        },
        {
          "output_type": "stream",
          "name": "stderr",
          "text": [
            "\u001b[34m\u001b[1mwandb\u001b[0m: Adding directory to artifact (/content/wandb/run-20220917_094837-34p4vgkp/files/model-best)... Done. 0.1s\n"
          ]
        },
        {
          "output_type": "stream",
          "name": "stdout",
          "text": [
            "\b\b\b\b\b\b\b\b\b\b\b\b\b\b\b\b\b\b\b\b\b\b\b\b\b\b\b\b\b\b\b\b\b\b\b\b\b\b\b\b\b\b\b\b\b\b\b\b\b\b\b\b\b\b\b\b\b\b\b\b\b\b\b\b\b\b\b\b\b\b\b\b\b\b\b\b\b\b\b\b\r6/6 [==============================] - 1s 169ms/step - loss: 0.2781 - accuracy: 0.8993 - val_loss: 0.2477 - val_accuracy: 0.9106\n",
            "Epoch 13/600\n",
            "1/6 [====>.........................] - ETA: 0s - loss: 0.2652 - accuracy: 0.8984"
          ]
        },
        {
          "output_type": "stream",
          "name": "stderr",
          "text": [
            "\u001b[34m\u001b[1mwandb\u001b[0m: Adding directory to artifact (/content/wandb/run-20220917_094837-34p4vgkp/files/model-best)... Done. 0.1s\n"
          ]
        },
        {
          "output_type": "stream",
          "name": "stdout",
          "text": [
            "\b\b\b\b\b\b\b\b\b\b\b\b\b\b\b\b\b\b\b\b\b\b\b\b\b\b\b\b\b\b\b\b\b\b\b\b\b\b\b\b\b\b\b\b\b\b\b\b\b\b\b\b\b\b\b\b\b\b\b\b\b\b\b\b\b\b\b\b\b\b\b\b\b\b\b\b\b\b\b\b\r6/6 [==============================] - 1s 165ms/step - loss: 0.2641 - accuracy: 0.9007 - val_loss: 0.2346 - val_accuracy: 0.9106\n",
            "Epoch 14/600\n",
            "1/6 [====>.........................] - ETA: 0s - loss: 0.3026 - accuracy: 0.8438"
          ]
        },
        {
          "output_type": "stream",
          "name": "stderr",
          "text": [
            "\u001b[34m\u001b[1mwandb\u001b[0m: Adding directory to artifact (/content/wandb/run-20220917_094837-34p4vgkp/files/model-best)... Done. 0.1s\n"
          ]
        },
        {
          "output_type": "stream",
          "name": "stdout",
          "text": [
            "\b\b\b\b\b\b\b\b\b\b\b\b\b\b\b\b\b\b\b\b\b\b\b\b\b\b\b\b\b\b\b\b\b\b\b\b\b\b\b\b\b\b\b\b\b\b\b\b\b\b\b\b\b\b\b\b\b\b\b\b\b\b\b\b\b\b\b\b\b\b\b\b\b\b\b\b\b\b\b\b\r6/6 [==============================] - 1s 169ms/step - loss: 0.2550 - accuracy: 0.8979 - val_loss: 0.2231 - val_accuracy: 0.9106\n",
            "Epoch 15/600\n",
            "1/6 [====>.........................] - ETA: 0s - loss: 0.2059 - accuracy: 0.9453"
          ]
        },
        {
          "output_type": "stream",
          "name": "stderr",
          "text": [
            "\u001b[34m\u001b[1mwandb\u001b[0m: Adding directory to artifact (/content/wandb/run-20220917_094837-34p4vgkp/files/model-best)... Done. 0.1s\n"
          ]
        },
        {
          "output_type": "stream",
          "name": "stdout",
          "text": [
            "\b\b\b\b\b\b\b\b\b\b\b\b\b\b\b\b\b\b\b\b\b\b\b\b\b\b\b\b\b\b\b\b\b\b\b\b\b\b\b\b\b\b\b\b\b\b\b\b\b\b\b\b\b\b\b\b\b\b\b\b\b\b\b\b\b\b\b\b\b\b\b\b\b\b\b\b\b\b\b\b\r6/6 [==============================] - 1s 239ms/step - loss: 0.2440 - accuracy: 0.9133 - val_loss: 0.2139 - val_accuracy: 0.9162\n",
            "Epoch 16/600\n",
            "1/6 [====>.........................] - ETA: 0s - loss: 0.2191 - accuracy: 0.9219"
          ]
        },
        {
          "output_type": "stream",
          "name": "stderr",
          "text": [
            "\u001b[34m\u001b[1mwandb\u001b[0m: Adding directory to artifact (/content/wandb/run-20220917_094837-34p4vgkp/files/model-best)... Done. 0.1s\n"
          ]
        },
        {
          "output_type": "stream",
          "name": "stdout",
          "text": [
            "\b\b\b\b\b\b\b\b\b\b\b\b\b\b\b\b\b\b\b\b\b\b\b\b\b\b\b\b\b\b\b\b\b\b\b\b\b\b\b\b\b\b\b\b\b\b\b\b\b\b\b\b\b\b\b\b\b\b\b\b\b\b\b\b\b\b\b\b\b\b\b\b\b\b\b\b\b\b\b\b\r6/6 [==============================] - 1s 173ms/step - loss: 0.2361 - accuracy: 0.9175 - val_loss: 0.2059 - val_accuracy: 0.9162\n",
            "Epoch 17/600\n",
            "1/6 [====>.........................] - ETA: 0s - loss: 0.2245 - accuracy: 0.9219"
          ]
        },
        {
          "output_type": "stream",
          "name": "stderr",
          "text": [
            "\u001b[34m\u001b[1mwandb\u001b[0m: Adding directory to artifact (/content/wandb/run-20220917_094837-34p4vgkp/files/model-best)... Done. 0.1s\n"
          ]
        },
        {
          "output_type": "stream",
          "name": "stdout",
          "text": [
            "\b\b\b\b\b\b\b\b\b\b\b\b\b\b\b\b\b\b\b\b\b\b\b\b\b\b\b\b\b\b\b\b\b\b\b\b\b\b\b\b\b\b\b\b\b\b\b\b\b\b\b\b\b\b\b\b\b\b\b\b\b\b\b\b\b\b\b\b\b\b\b\b\b\b\b\b\b\b\b\b\r6/6 [==============================] - 1s 170ms/step - loss: 0.2159 - accuracy: 0.9203 - val_loss: 0.1991 - val_accuracy: 0.9162\n",
            "Epoch 18/600\n",
            "1/6 [====>.........................] - ETA: 0s - loss: 0.2460 - accuracy: 0.8906"
          ]
        },
        {
          "output_type": "stream",
          "name": "stderr",
          "text": [
            "\u001b[34m\u001b[1mwandb\u001b[0m: Adding directory to artifact (/content/wandb/run-20220917_094837-34p4vgkp/files/model-best)... Done. 0.1s\n"
          ]
        },
        {
          "output_type": "stream",
          "name": "stdout",
          "text": [
            "\b\b\b\b\b\b\b\b\b\b\b\b\b\b\b\b\b\b\b\b\b\b\b\b\b\b\b\b\b\b\b\b\b\b\b\b\b\b\b\b\b\b\b\b\b\b\b\b\b\b\b\b\b\b\b\b\b\b\b\b\b\b\b\b\b\b\b\b\b\b\b\b\b\b\b\b\b\b\b\b\r6/6 [==============================] - 1s 176ms/step - loss: 0.2192 - accuracy: 0.9203 - val_loss: 0.1929 - val_accuracy: 0.9218\n",
            "Epoch 19/600\n",
            "1/6 [====>.........................] - ETA: 0s - loss: 0.1465 - accuracy: 0.9688"
          ]
        },
        {
          "output_type": "stream",
          "name": "stderr",
          "text": [
            "\u001b[34m\u001b[1mwandb\u001b[0m: Adding directory to artifact (/content/wandb/run-20220917_094837-34p4vgkp/files/model-best)... Done. 0.1s\n"
          ]
        },
        {
          "output_type": "stream",
          "name": "stdout",
          "text": [
            "\b\b\b\b\b\b\b\b\b\b\b\b\b\b\b\b\b\b\b\b\b\b\b\b\b\b\b\b\b\b\b\b\b\b\b\b\b\b\b\b\b\b\b\b\b\b\b\b\b\b\b\b\b\b\b\b\b\b\b\b\b\b\b\b\b\b\b\b\b\b\b\b\b\b\b\b\b\b\b\b\r6/6 [==============================] - 1s 167ms/step - loss: 0.2062 - accuracy: 0.9231 - val_loss: 0.1887 - val_accuracy: 0.9218\n",
            "Epoch 20/600\n",
            "1/6 [====>.........................] - ETA: 0s - loss: 0.2485 - accuracy: 0.8984"
          ]
        },
        {
          "output_type": "stream",
          "name": "stderr",
          "text": [
            "\u001b[34m\u001b[1mwandb\u001b[0m: Adding directory to artifact (/content/wandb/run-20220917_094837-34p4vgkp/files/model-best)... Done. 0.1s\n"
          ]
        },
        {
          "output_type": "stream",
          "name": "stdout",
          "text": [
            "\b\b\b\b\b\b\b\b\b\b\b\b\b\b\b\b\b\b\b\b\b\b\b\b\b\b\b\b\b\b\b\b\b\b\b\b\b\b\b\b\b\b\b\b\b\b\b\b\b\b\b\b\b\b\b\b\b\b\b\b\b\b\b\b\b\b\b\b\b\b\b\b\b\b\b\b\b\b\b\b\r6/6 [==============================] - 1s 198ms/step - loss: 0.2047 - accuracy: 0.9287 - val_loss: 0.1839 - val_accuracy: 0.9218\n",
            "Epoch 21/600\n",
            "1/6 [====>.........................] - ETA: 0s - loss: 0.1429 - accuracy: 0.9531"
          ]
        },
        {
          "output_type": "stream",
          "name": "stderr",
          "text": [
            "\u001b[34m\u001b[1mwandb\u001b[0m: Adding directory to artifact (/content/wandb/run-20220917_094837-34p4vgkp/files/model-best)... Done. 0.1s\n"
          ]
        },
        {
          "output_type": "stream",
          "name": "stdout",
          "text": [
            "\b\b\b\b\b\b\b\b\b\b\b\b\b\b\b\b\b\b\b\b\b\b\b\b\b\b\b\b\b\b\b\b\b\b\b\b\b\b\b\b\b\b\b\b\b\b\b\b\b\b\b\b\b\b\b\b\b\b\b\b\b\b\b\b\b\b\b\b\b\b\b\b\b\b\b\b\b\b\b\b\r6/6 [==============================] - 1s 262ms/step - loss: 0.1955 - accuracy: 0.9217 - val_loss: 0.1788 - val_accuracy: 0.9218\n",
            "Epoch 22/600\n",
            "1/6 [====>.........................] - ETA: 0s - loss: 0.2221 - accuracy: 0.8906"
          ]
        },
        {
          "output_type": "stream",
          "name": "stderr",
          "text": [
            "\u001b[34m\u001b[1mwandb\u001b[0m: Adding directory to artifact (/content/wandb/run-20220917_094837-34p4vgkp/files/model-best)... Done. 0.1s\n"
          ]
        },
        {
          "output_type": "stream",
          "name": "stdout",
          "text": [
            "\b\b\b\b\b\b\b\b\b\b\b\b\b\b\b\b\b\b\b\b\b\b\b\b\b\b\b\b\b\b\b\b\b\b\b\b\b\b\b\b\b\b\b\b\b\b\b\b\b\b\b\b\b\b\b\b\b\b\b\b\b\b\b\b\b\b\b\b\b\b\b\b\b\b\b\b\b\b\b\b\r6/6 [==============================] - 1s 247ms/step - loss: 0.1936 - accuracy: 0.9189 - val_loss: 0.1750 - val_accuracy: 0.9218\n",
            "Epoch 23/600\n",
            "1/6 [====>.........................] - ETA: 0s - loss: 0.1976 - accuracy: 0.8906"
          ]
        },
        {
          "output_type": "stream",
          "name": "stderr",
          "text": [
            "\u001b[34m\u001b[1mwandb\u001b[0m: Adding directory to artifact (/content/wandb/run-20220917_094837-34p4vgkp/files/model-best)... Done. 0.1s\n"
          ]
        },
        {
          "output_type": "stream",
          "name": "stdout",
          "text": [
            "\b\b\b\b\b\b\b\b\b\b\b\b\b\b\b\b\b\b\b\b\b\b\b\b\b\b\b\b\b\b\b\b\b\b\b\b\b\b\b\b\b\b\b\b\b\b\b\b\b\b\b\b\b\b\b\b\b\b\b\b\b\b\b\b\b\b\b\b\b\b\b\b\b\b\b\b\b\b\b\b\r6/6 [==============================] - 1s 263ms/step - loss: 0.1817 - accuracy: 0.9287 - val_loss: 0.1724 - val_accuracy: 0.9218\n",
            "Epoch 24/600\n",
            "1/6 [====>.........................] - ETA: 0s - loss: 0.1935 - accuracy: 0.9219"
          ]
        },
        {
          "output_type": "stream",
          "name": "stderr",
          "text": [
            "\u001b[34m\u001b[1mwandb\u001b[0m: Adding directory to artifact (/content/wandb/run-20220917_094837-34p4vgkp/files/model-best)... Done. 0.1s\n"
          ]
        },
        {
          "output_type": "stream",
          "name": "stdout",
          "text": [
            "\b\b\b\b\b\b\b\b\b\b\b\b\b\b\b\b\b\b\b\b\b\b\b\b\b\b\b\b\b\b\b\b\b\b\b\b\b\b\b\b\b\b\b\b\b\b\b\b\b\b\b\b\b\b\b\b\b\b\b\b\b\b\b\b\b\b\b\b\b\b\b\b\b\b\b\b\b\b\b\b\r6/6 [==============================] - 1s 200ms/step - loss: 0.1797 - accuracy: 0.9371 - val_loss: 0.1701 - val_accuracy: 0.9218\n",
            "Epoch 25/600\n",
            "1/6 [====>.........................] - ETA: 0s - loss: 0.2059 - accuracy: 0.9062"
          ]
        },
        {
          "output_type": "stream",
          "name": "stderr",
          "text": [
            "\u001b[34m\u001b[1mwandb\u001b[0m: Adding directory to artifact (/content/wandb/run-20220917_094837-34p4vgkp/files/model-best)... Done. 0.1s\n"
          ]
        },
        {
          "output_type": "stream",
          "name": "stdout",
          "text": [
            "\b\b\b\b\b\b\b\b\b\b\b\b\b\b\b\b\b\b\b\b\b\b\b\b\b\b\b\b\b\b\b\b\b\b\b\b\b\b\b\b\b\b\b\b\b\b\b\b\b\b\b\b\b\b\b\b\b\b\b\b\b\b\b\b\b\b\b\b\b\b\b\b\b\b\b\b\b\b\b\b\r6/6 [==============================] - 1s 170ms/step - loss: 0.1853 - accuracy: 0.9259 - val_loss: 0.1682 - val_accuracy: 0.9218\n",
            "Epoch 26/600\n",
            "1/6 [====>.........................] - ETA: 0s - loss: 0.2041 - accuracy: 0.9375"
          ]
        },
        {
          "output_type": "stream",
          "name": "stderr",
          "text": [
            "\u001b[34m\u001b[1mwandb\u001b[0m: Adding directory to artifact (/content/wandb/run-20220917_094837-34p4vgkp/files/model-best)... Done. 0.1s\n"
          ]
        },
        {
          "output_type": "stream",
          "name": "stdout",
          "text": [
            "\b\b\b\b\b\b\b\b\b\b\b\b\b\b\b\b\b\b\b\b\b\b\b\b\b\b\b\b\b\b\b\b\b\b\b\b\b\b\b\b\b\b\b\b\b\b\b\b\b\b\b\b\b\b\b\b\b\b\b\b\b\b\b\b\b\b\b\b\b\b\b\b\b\b\b\b\b\b\b\b\r6/6 [==============================] - 1s 238ms/step - loss: 0.1712 - accuracy: 0.9357 - val_loss: 0.1649 - val_accuracy: 0.9218\n",
            "Epoch 27/600\n",
            "1/6 [====>.........................] - ETA: 0s - loss: 0.1880 - accuracy: 0.9375"
          ]
        },
        {
          "output_type": "stream",
          "name": "stderr",
          "text": [
            "\u001b[34m\u001b[1mwandb\u001b[0m: Adding directory to artifact (/content/wandb/run-20220917_094837-34p4vgkp/files/model-best)... Done. 0.1s\n"
          ]
        },
        {
          "output_type": "stream",
          "name": "stdout",
          "text": [
            "\b\b\b\b\b\b\b\b\b\b\b\b\b\b\b\b\b\b\b\b\b\b\b\b\b\b\b\b\b\b\b\b\b\b\b\b\b\b\b\b\b\b\b\b\b\b\b\b\b\b\b\b\b\b\b\b\b\b\b\b\b\b\b\b\b\b\b\b\b\b\b\b\b\b\b\b\b\b\b\b\r6/6 [==============================] - 1s 181ms/step - loss: 0.1695 - accuracy: 0.9371 - val_loss: 0.1630 - val_accuracy: 0.9218\n",
            "Epoch 28/600\n",
            "6/6 [==============================] - ETA: 0s - loss: 0.1655 - accuracy: 0.9399"
          ]
        },
        {
          "output_type": "stream",
          "name": "stderr",
          "text": [
            "\u001b[34m\u001b[1mwandb\u001b[0m: Adding directory to artifact (/content/wandb/run-20220917_094837-34p4vgkp/files/model-best)... Done. 0.1s\n"
          ]
        },
        {
          "output_type": "stream",
          "name": "stdout",
          "text": [
            "\b\b\b\b\b\b\b\b\b\b\b\b\b\b\b\b\b\b\b\b\b\b\b\b\b\b\b\b\b\b\b\b\b\b\b\b\b\b\b\b\b\b\b\b\b\b\b\b\b\b\b\b\b\b\b\b\b\b\b\b\b\b\b\b\b\b\b\b\b\b\b\b\b\b\b\b\b\b\b\b\r6/6 [==============================] - 2s 302ms/step - loss: 0.1655 - accuracy: 0.9399 - val_loss: 0.1619 - val_accuracy: 0.9218\n",
            "Epoch 29/600\n",
            "1/6 [====>.........................] - ETA: 0s - loss: 0.1761 - accuracy: 0.9297"
          ]
        },
        {
          "output_type": "stream",
          "name": "stderr",
          "text": [
            "\u001b[34m\u001b[1mwandb\u001b[0m: Adding directory to artifact (/content/wandb/run-20220917_094837-34p4vgkp/files/model-best)... Done. 0.1s\n"
          ]
        },
        {
          "output_type": "stream",
          "name": "stdout",
          "text": [
            "\b\b\b\b\b\b\b\b\b\b\b\b\b\b\b\b\b\b\b\b\b\b\b\b\b\b\b\b\b\b\b\b\b\b\b\b\b\b\b\b\b\b\b\b\b\b\b\b\b\b\b\b\b\b\b\b\b\b\b\b\b\b\b\b\b\b\b\b\b\b\b\b\b\b\b\b\b\b\b\b\r6/6 [==============================] - 2s 321ms/step - loss: 0.1709 - accuracy: 0.9273 - val_loss: 0.1607 - val_accuracy: 0.9218\n",
            "Epoch 30/600\n",
            "1/6 [====>.........................] - ETA: 0s - loss: 0.1154 - accuracy: 0.9531"
          ]
        },
        {
          "output_type": "stream",
          "name": "stderr",
          "text": [
            "\u001b[34m\u001b[1mwandb\u001b[0m: Adding directory to artifact (/content/wandb/run-20220917_094837-34p4vgkp/files/model-best)... Done. 0.1s\n"
          ]
        },
        {
          "output_type": "stream",
          "name": "stdout",
          "text": [
            "\b\b\b\b\b\b\b\b\b\b\b\b\b\b\b\b\b\b\b\b\b\b\b\b\b\b\b\b\b\b\b\b\b\b\b\b\b\b\b\b\b\b\b\b\b\b\b\b\b\b\b\b\b\b\b\b\b\b\b\b\b\b\b\b\b\b\b\b\b\b\b\b\b\b\b\b\b\b\b\b\r6/6 [==============================] - 1s 291ms/step - loss: 0.1574 - accuracy: 0.9441 - val_loss: 0.1599 - val_accuracy: 0.9218\n",
            "Epoch 31/600\n",
            "1/6 [====>.........................] - ETA: 0s - loss: 0.1788 - accuracy: 0.9297"
          ]
        },
        {
          "output_type": "stream",
          "name": "stderr",
          "text": [
            "\u001b[34m\u001b[1mwandb\u001b[0m: Adding directory to artifact (/content/wandb/run-20220917_094837-34p4vgkp/files/model-best)... Done. 0.1s\n"
          ]
        },
        {
          "output_type": "stream",
          "name": "stdout",
          "text": [
            "\b\b\b\b\b\b\b\b\b\b\b\b\b\b\b\b\b\b\b\b\b\b\b\b\b\b\b\b\b\b\b\b\b\b\b\b\b\b\b\b\b\b\b\b\b\b\b\b\b\b\b\b\b\b\b\b\b\b\b\b\b\b\b\b\b\b\b\b\b\b\b\b\b\b\b\b\b\b\b\b\r6/6 [==============================] - 2s 316ms/step - loss: 0.1625 - accuracy: 0.9329 - val_loss: 0.1575 - val_accuracy: 0.9218\n",
            "Epoch 32/600\n",
            "1/6 [====>.........................] - ETA: 0s - loss: 0.1567 - accuracy: 0.9375"
          ]
        },
        {
          "output_type": "stream",
          "name": "stderr",
          "text": [
            "\u001b[34m\u001b[1mwandb\u001b[0m: Adding directory to artifact (/content/wandb/run-20220917_094837-34p4vgkp/files/model-best)... Done. 0.1s\n"
          ]
        },
        {
          "output_type": "stream",
          "name": "stdout",
          "text": [
            "\b\b\b\b\b\b\b\b\b\b\b\b\b\b\b\b\b\b\b\b\b\b\b\b\b\b\b\b\b\b\b\b\b\b\b\b\b\b\b\b\b\b\b\b\b\b\b\b\b\b\b\b\b\b\b\b\b\b\b\b\b\b\b\b\b\b\b\b\b\b\b\b\b\b\b\b\b\b\b\b\r6/6 [==============================] - 1s 239ms/step - loss: 0.1569 - accuracy: 0.9399 - val_loss: 0.1554 - val_accuracy: 0.9274\n",
            "Epoch 33/600\n",
            "1/6 [====>.........................] - ETA: 0s - loss: 0.1540 - accuracy: 0.9219"
          ]
        },
        {
          "output_type": "stream",
          "name": "stderr",
          "text": [
            "\u001b[34m\u001b[1mwandb\u001b[0m: Adding directory to artifact (/content/wandb/run-20220917_094837-34p4vgkp/files/model-best)... Done. 0.1s\n"
          ]
        },
        {
          "output_type": "stream",
          "name": "stdout",
          "text": [
            "\b\b\b\b\b\b\b\b\b\b\b\b\b\b\b\b\b\b\b\b\b\b\b\b\b\b\b\b\b\b\b\b\b\b\b\b\b\b\b\b\b\b\b\b\b\b\b\b\b\b\b\b\b\b\b\b\b\b\b\b\b\b\b\b\b\b\b\b\b\b\b\b\b\b\b\b\b\b\b\b\r6/6 [==============================] - 1s 169ms/step - loss: 0.1551 - accuracy: 0.9427 - val_loss: 0.1540 - val_accuracy: 0.9274\n",
            "Epoch 34/600\n",
            "6/6 [==============================] - 0s 11ms/step - loss: 0.1524 - accuracy: 0.9371 - val_loss: 0.1543 - val_accuracy: 0.9274\n",
            "Epoch 35/600\n",
            "6/6 [==============================] - 0s 10ms/step - loss: 0.1436 - accuracy: 0.9469 - val_loss: 0.1543 - val_accuracy: 0.9274\n",
            "Epoch 36/600\n",
            "1/6 [====>.........................] - ETA: 0s - loss: 0.1593 - accuracy: 0.9297"
          ]
        },
        {
          "output_type": "stream",
          "name": "stderr",
          "text": [
            "\u001b[34m\u001b[1mwandb\u001b[0m: Adding directory to artifact (/content/wandb/run-20220917_094837-34p4vgkp/files/model-best)... Done. 0.1s\n"
          ]
        },
        {
          "output_type": "stream",
          "name": "stdout",
          "text": [
            "\b\b\b\b\b\b\b\b\b\b\b\b\b\b\b\b\b\b\b\b\b\b\b\b\b\b\b\b\b\b\b\b\b\b\b\b\b\b\b\b\b\b\b\b\b\b\b\b\b\b\b\b\b\b\b\b\b\b\b\b\b\b\b\b\b\b\b\b\b\b\b\b\b\b\b\b\b\b\b\b\r6/6 [==============================] - 1s 164ms/step - loss: 0.1492 - accuracy: 0.9385 - val_loss: 0.1530 - val_accuracy: 0.9218\n",
            "Epoch 37/600\n",
            "6/6 [==============================] - 0s 9ms/step - loss: 0.1363 - accuracy: 0.9455 - val_loss: 0.1530 - val_accuracy: 0.9274\n",
            "Epoch 38/600\n",
            "1/6 [====>.........................] - ETA: 0s - loss: 0.1282 - accuracy: 0.9375"
          ]
        },
        {
          "output_type": "stream",
          "name": "stderr",
          "text": [
            "\u001b[34m\u001b[1mwandb\u001b[0m: Adding directory to artifact (/content/wandb/run-20220917_094837-34p4vgkp/files/model-best)... Done. 0.1s\n"
          ]
        },
        {
          "output_type": "stream",
          "name": "stdout",
          "text": [
            "\b\b\b\b\b\b\b\b\b\b\b\b\b\b\b\b\b\b\b\b\b\b\b\b\b\b\b\b\b\b\b\b\b\b\b\b\b\b\b\b\b\b\b\b\b\b\b\b\b\b\b\b\b\b\b\b\b\b\b\b\b\b\b\b\b\b\b\b\b\b\b\b\b\b\b\b\b\b\b\b\r6/6 [==============================] - 1s 164ms/step - loss: 0.1377 - accuracy: 0.9385 - val_loss: 0.1518 - val_accuracy: 0.9274\n",
            "Epoch 39/600\n",
            "1/6 [====>.........................] - ETA: 0s - loss: 0.1401 - accuracy: 0.9453"
          ]
        },
        {
          "output_type": "stream",
          "name": "stderr",
          "text": [
            "\u001b[34m\u001b[1mwandb\u001b[0m: Adding directory to artifact (/content/wandb/run-20220917_094837-34p4vgkp/files/model-best)... Done. 0.1s\n"
          ]
        },
        {
          "output_type": "stream",
          "name": "stdout",
          "text": [
            "\b\b\b\b\b\b\b\b\b\b\b\b\b\b\b\b\b\b\b\b\b\b\b\b\b\b\b\b\b\b\b\b\b\b\b\b\b\b\b\b\b\b\b\b\b\b\b\b\b\b\b\b\b\b\b\b\b\b\b\b\b\b\b\b\b\b\b\b\b\b\b\b\b\b\b\b\b\b\b\b\r6/6 [==============================] - 1s 177ms/step - loss: 0.1296 - accuracy: 0.9552 - val_loss: 0.1501 - val_accuracy: 0.9218\n",
            "Epoch 40/600\n",
            "1/6 [====>.........................] - ETA: 0s - loss: 0.1400 - accuracy: 0.9141"
          ]
        },
        {
          "output_type": "stream",
          "name": "stderr",
          "text": [
            "\u001b[34m\u001b[1mwandb\u001b[0m: Adding directory to artifact (/content/wandb/run-20220917_094837-34p4vgkp/files/model-best)... Done. 0.1s\n"
          ]
        },
        {
          "output_type": "stream",
          "name": "stdout",
          "text": [
            "\b\b\b\b\b\b\b\b\b\b\b\b\b\b\b\b\b\b\b\b\b\b\b\b\b\b\b\b\b\b\b\b\b\b\b\b\b\b\b\b\b\b\b\b\b\b\b\b\b\b\b\b\b\b\b\b\b\b\b\b\b\b\b\b\b\b\b\b\b\b\b\b\b\b\b\b\b\b\b\b\r6/6 [==============================] - 2s 498ms/step - loss: 0.1376 - accuracy: 0.9441 - val_loss: 0.1494 - val_accuracy: 0.9218\n",
            "Epoch 41/600\n",
            "6/6 [==============================] - 0s 9ms/step - loss: 0.1378 - accuracy: 0.9455 - val_loss: 0.1511 - val_accuracy: 0.9274\n",
            "Epoch 42/600\n",
            "6/6 [==============================] - 0s 13ms/step - loss: 0.1356 - accuracy: 0.9497 - val_loss: 0.1495 - val_accuracy: 0.9274\n",
            "Epoch 43/600\n",
            "1/6 [====>.........................] - ETA: 0s - loss: 0.1528 - accuracy: 0.9453"
          ]
        },
        {
          "output_type": "stream",
          "name": "stderr",
          "text": [
            "\u001b[34m\u001b[1mwandb\u001b[0m: Adding directory to artifact (/content/wandb/run-20220917_094837-34p4vgkp/files/model-best)... Done. 0.1s\n"
          ]
        },
        {
          "output_type": "stream",
          "name": "stdout",
          "text": [
            "\b\b\b\b\b\b\b\b\b\b\b\b\b\b\b\b\b\b\b\b\b\b\b\b\b\b\b\b\b\b\b\b\b\b\b\b\b\b\b\b\b\b\b\b\b\b\b\b\b\b\b\b\b\b\b\b\b\b\b\b\b\b\b\b\b\b\b\b\b\b\b\b\b\b\b\b\b\b\b\b\r6/6 [==============================] - 1s 164ms/step - loss: 0.1246 - accuracy: 0.9552 - val_loss: 0.1466 - val_accuracy: 0.9274\n",
            "Epoch 44/600\n",
            "1/6 [====>.........................] - ETA: 0s - loss: 0.1364 - accuracy: 0.9453"
          ]
        },
        {
          "output_type": "stream",
          "name": "stderr",
          "text": [
            "\u001b[34m\u001b[1mwandb\u001b[0m: Adding directory to artifact (/content/wandb/run-20220917_094837-34p4vgkp/files/model-best)... Done. 0.1s\n"
          ]
        },
        {
          "output_type": "stream",
          "name": "stdout",
          "text": [
            "\b\b\b\b\b\b\b\b\b\b\b\b\b\b\b\b\b\b\b\b\b\b\b\b\b\b\b\b\b\b\b\b\b\b\b\b\b\b\b\b\b\b\b\b\b\b\b\b\b\b\b\b\b\b\b\b\b\b\b\b\b\b\b\b\b\b\b\b\b\b\b\b\b\b\b\b\b\b\b\b\r6/6 [==============================] - 1s 170ms/step - loss: 0.1202 - accuracy: 0.9552 - val_loss: 0.1449 - val_accuracy: 0.9274\n",
            "Epoch 45/600\n",
            "1/6 [====>.........................] - ETA: 0s - loss: 0.0947 - accuracy: 0.9688"
          ]
        },
        {
          "output_type": "stream",
          "name": "stderr",
          "text": [
            "\u001b[34m\u001b[1mwandb\u001b[0m: Adding directory to artifact (/content/wandb/run-20220917_094837-34p4vgkp/files/model-best)... Done. 0.1s\n"
          ]
        },
        {
          "output_type": "stream",
          "name": "stdout",
          "text": [
            "\b\b\b\b\b\b\b\b\b\b\b\b\b\b\b\b\b\b\b\b\b\b\b\b\b\b\b\b\b\b\b\b\b\b\b\b\b\b\b\b\b\b\b\b\b\b\b\b\b\b\b\b\b\b\b\b\b\b\b\b\b\b\b\b\b\b\b\b\b\b\b\b\b\b\b\b\b\b\b\b\r6/6 [==============================] - 1s 164ms/step - loss: 0.1227 - accuracy: 0.9510 - val_loss: 0.1436 - val_accuracy: 0.9274\n",
            "Epoch 46/600\n",
            "1/6 [====>.........................] - ETA: 0s - loss: 0.1714 - accuracy: 0.9219"
          ]
        },
        {
          "output_type": "stream",
          "name": "stderr",
          "text": [
            "\u001b[34m\u001b[1mwandb\u001b[0m: Adding directory to artifact (/content/wandb/run-20220917_094837-34p4vgkp/files/model-best)... Done. 0.1s\n"
          ]
        },
        {
          "output_type": "stream",
          "name": "stdout",
          "text": [
            "\b\b\b\b\b\b\b\b\b\b\b\b\b\b\b\b\b\b\b\b\b\b\b\b\b\b\b\b\b\b\b\b\b\b\b\b\b\b\b\b\b\b\b\b\b\b\b\b\b\b\b\b\b\b\b\b\b\b\b\b\b\b\b\b\b\b\b\b\b\b\b\b\b\b\b\b\b\b\b\b\r6/6 [==============================] - 1s 168ms/step - loss: 0.1163 - accuracy: 0.9580 - val_loss: 0.1432 - val_accuracy: 0.9274\n",
            "Epoch 47/600\n",
            "6/6 [==============================] - 0s 11ms/step - loss: 0.1195 - accuracy: 0.9580 - val_loss: 0.1447 - val_accuracy: 0.9330\n",
            "Epoch 48/600\n",
            "6/6 [==============================] - 0s 8ms/step - loss: 0.1158 - accuracy: 0.9594 - val_loss: 0.1454 - val_accuracy: 0.9330\n",
            "Epoch 49/600\n",
            "6/6 [==============================] - 0s 11ms/step - loss: 0.1248 - accuracy: 0.9524 - val_loss: 0.1441 - val_accuracy: 0.9330\n",
            "Epoch 50/600\n",
            "1/6 [====>.........................] - ETA: 0s - loss: 0.0802 - accuracy: 0.9844"
          ]
        },
        {
          "output_type": "stream",
          "name": "stderr",
          "text": [
            "\u001b[34m\u001b[1mwandb\u001b[0m: Adding directory to artifact (/content/wandb/run-20220917_094837-34p4vgkp/files/model-best)... Done. 0.1s\n"
          ]
        },
        {
          "output_type": "stream",
          "name": "stdout",
          "text": [
            "\b\b\b\b\b\b\b\b\b\b\b\b\b\b\b\b\b\b\b\b\b\b\b\b\b\b\b\b\b\b\b\b\b\b\b\b\b\b\b\b\b\b\b\b\b\b\b\b\b\b\b\b\b\b\b\b\b\b\b\b\b\b\b\b\b\b\b\b\b\b\b\b\b\b\b\b\b\b\b\b\r6/6 [==============================] - 1s 174ms/step - loss: 0.1220 - accuracy: 0.9552 - val_loss: 0.1418 - val_accuracy: 0.9330\n",
            "Epoch 51/600\n",
            "1/6 [====>.........................] - ETA: 0s - loss: 0.1592 - accuracy: 0.9531"
          ]
        },
        {
          "output_type": "stream",
          "name": "stderr",
          "text": [
            "\u001b[34m\u001b[1mwandb\u001b[0m: Adding directory to artifact (/content/wandb/run-20220917_094837-34p4vgkp/files/model-best)... Done. 0.1s\n"
          ]
        },
        {
          "output_type": "stream",
          "name": "stdout",
          "text": [
            "\b\b\b\b\b\b\b\b\b\b\b\b\b\b\b\b\b\b\b\b\b\b\b\b\b\b\b\b\b\b\b\b\b\b\b\b\b\b\b\b\b\b\b\b\b\b\b\b\b\b\b\b\b\b\b\b\b\b\b\b\b\b\b\b\b\b\b\b\b\b\b\b\b\b\b\b\b\b\b\b\r6/6 [==============================] - 1s 167ms/step - loss: 0.1186 - accuracy: 0.9538 - val_loss: 0.1407 - val_accuracy: 0.9274\n",
            "Epoch 52/600\n",
            "1/6 [====>.........................] - ETA: 0s - loss: 0.0954 - accuracy: 0.9844"
          ]
        },
        {
          "output_type": "stream",
          "name": "stderr",
          "text": [
            "\u001b[34m\u001b[1mwandb\u001b[0m: Adding directory to artifact (/content/wandb/run-20220917_094837-34p4vgkp/files/model-best)... Done. 0.1s\n"
          ]
        },
        {
          "output_type": "stream",
          "name": "stdout",
          "text": [
            "\b\b\b\b\b\b\b\b\b\b\b\b\b\b\b\b\b\b\b\b\b\b\b\b\b\b\b\b\b\b\b\b\b\b\b\b\b\b\b\b\b\b\b\b\b\b\b\b\b\b\b\b\b\b\b\b\b\b\b\b\b\b\b\b\b\b\b\b\b\b\b\b\b\b\b\b\b\b\b\b\r6/6 [==============================] - 1s 179ms/step - loss: 0.1057 - accuracy: 0.9552 - val_loss: 0.1375 - val_accuracy: 0.9274\n",
            "Epoch 53/600\n",
            "1/6 [====>.........................] - ETA: 0s - loss: 0.0987 - accuracy: 0.9766"
          ]
        },
        {
          "output_type": "stream",
          "name": "stderr",
          "text": [
            "\u001b[34m\u001b[1mwandb\u001b[0m: Adding directory to artifact (/content/wandb/run-20220917_094837-34p4vgkp/files/model-best)... Done. 0.1s\n"
          ]
        },
        {
          "output_type": "stream",
          "name": "stdout",
          "text": [
            "\b\b\b\b\b\b\b\b\b\b\b\b\b\b\b\b\b\b\b\b\b\b\b\b\b\b\b\b\b\b\b\b\b\b\b\b\b\b\b\b\b\b\b\b\b\b\b\b\b\b\b\b\b\b\b\b\b\b\b\b\b\b\b\b\b\b\b\b\b\b\b\b\b\b\b\b\b\b\b\b\r6/6 [==============================] - 1s 166ms/step - loss: 0.1086 - accuracy: 0.9636 - val_loss: 0.1368 - val_accuracy: 0.9274\n",
            "Epoch 54/600\n",
            "6/6 [==============================] - 0s 10ms/step - loss: 0.1070 - accuracy: 0.9706 - val_loss: 0.1380 - val_accuracy: 0.9274\n",
            "Epoch 55/600\n",
            "1/6 [====>.........................] - ETA: 0s - loss: 0.0843 - accuracy: 0.9688"
          ]
        },
        {
          "output_type": "stream",
          "name": "stderr",
          "text": [
            "\u001b[34m\u001b[1mwandb\u001b[0m: Adding directory to artifact (/content/wandb/run-20220917_094837-34p4vgkp/files/model-best)... Done. 0.1s\n"
          ]
        },
        {
          "output_type": "stream",
          "name": "stdout",
          "text": [
            "\b\b\b\b\b\b\b\b\b\b\b\b\b\b\b\b\b\b\b\b\b\b\b\b\b\b\b\b\b\b\b\b\b\b\b\b\b\b\b\b\b\b\b\b\b\b\b\b\b\b\b\b\b\b\b\b\b\b\b\b\b\b\b\b\b\b\b\b\b\b\b\b\b\b\b\b\b\b\b\b\r6/6 [==============================] - 1s 167ms/step - loss: 0.1069 - accuracy: 0.9580 - val_loss: 0.1360 - val_accuracy: 0.9274\n",
            "Epoch 56/600\n",
            "1/6 [====>.........................] - ETA: 0s - loss: 0.0876 - accuracy: 0.9688"
          ]
        },
        {
          "output_type": "stream",
          "name": "stderr",
          "text": [
            "\u001b[34m\u001b[1mwandb\u001b[0m: Adding directory to artifact (/content/wandb/run-20220917_094837-34p4vgkp/files/model-best)... Done. 0.1s\n"
          ]
        },
        {
          "output_type": "stream",
          "name": "stdout",
          "text": [
            "\b\b\b\b\b\b\b\b\b\b\b\b\b\b\b\b\b\b\b\b\b\b\b\b\b\b\b\b\b\b\b\b\b\b\b\b\b\b\b\b\b\b\b\b\b\b\b\b\b\b\b\b\b\b\b\b\b\b\b\b\b\b\b\b\b\b\b\b\b\b\b\b\b\b\b\b\b\b\b\b\r6/6 [==============================] - 1s 178ms/step - loss: 0.0993 - accuracy: 0.9706 - val_loss: 0.1345 - val_accuracy: 0.9274\n",
            "Epoch 57/600\n",
            "1/6 [====>.........................] - ETA: 0s - loss: 0.0687 - accuracy: 0.9844"
          ]
        },
        {
          "output_type": "stream",
          "name": "stderr",
          "text": [
            "\u001b[34m\u001b[1mwandb\u001b[0m: Adding directory to artifact (/content/wandb/run-20220917_094837-34p4vgkp/files/model-best)... Done. 0.1s\n"
          ]
        },
        {
          "output_type": "stream",
          "name": "stdout",
          "text": [
            "\b\b\b\b\b\b\b\b\b\b\b\b\b\b\b\b\b\b\b\b\b\b\b\b\b\b\b\b\b\b\b\b\b\b\b\b\b\b\b\b\b\b\b\b\b\b\b\b\b\b\b\b\b\b\b\b\b\b\b\b\b\b\b\b\b\b\b\b\b\b\b\b\b\b\b\b\b\b\b\b\r6/6 [==============================] - 1s 172ms/step - loss: 0.1050 - accuracy: 0.9664 - val_loss: 0.1337 - val_accuracy: 0.9330\n",
            "Epoch 58/600\n",
            "6/6 [==============================] - 0s 9ms/step - loss: 0.1039 - accuracy: 0.9636 - val_loss: 0.1383 - val_accuracy: 0.9274\n",
            "Epoch 59/600\n",
            "6/6 [==============================] - 0s 8ms/step - loss: 0.0950 - accuracy: 0.9692 - val_loss: 0.1377 - val_accuracy: 0.9274\n",
            "Epoch 60/600\n",
            "6/6 [==============================] - 0s 8ms/step - loss: 0.0986 - accuracy: 0.9678 - val_loss: 0.1374 - val_accuracy: 0.9274\n",
            "Epoch 61/600\n",
            "6/6 [==============================] - 0s 10ms/step - loss: 0.1027 - accuracy: 0.9608 - val_loss: 0.1342 - val_accuracy: 0.9330\n",
            "Epoch 62/600\n",
            "6/6 [==============================] - 0s 14ms/step - loss: 0.0996 - accuracy: 0.9678 - val_loss: 0.1348 - val_accuracy: 0.9274\n",
            "Epoch 63/600\n",
            "6/6 [==============================] - 0s 8ms/step - loss: 0.0918 - accuracy: 0.9664 - val_loss: 0.1363 - val_accuracy: 0.9274\n",
            "Epoch 64/600\n",
            "6/6 [==============================] - 0s 8ms/step - loss: 0.0882 - accuracy: 0.9706 - val_loss: 0.1383 - val_accuracy: 0.9274\n",
            "Epoch 65/600\n",
            "6/6 [==============================] - 0s 8ms/step - loss: 0.0922 - accuracy: 0.9678 - val_loss: 0.1349 - val_accuracy: 0.9274\n",
            "Epoch 66/600\n",
            "1/6 [====>.........................] - ETA: 0s - loss: 0.1239 - accuracy: 0.9375"
          ]
        },
        {
          "output_type": "stream",
          "name": "stderr",
          "text": [
            "\u001b[34m\u001b[1mwandb\u001b[0m: Adding directory to artifact (/content/wandb/run-20220917_094837-34p4vgkp/files/model-best)... Done. 0.1s\n"
          ]
        },
        {
          "output_type": "stream",
          "name": "stdout",
          "text": [
            "\b\b\b\b\b\b\b\b\b\b\b\b\b\b\b\b\b\b\b\b\b\b\b\b\b\b\b\b\b\b\b\b\b\b\b\b\b\b\b\b\b\b\b\b\b\b\b\b\b\b\b\b\b\b\b\b\b\b\b\b\b\b\b\b\b\b\b\b\b\b\b\b\b\b\b\b\b\b\b\b\r6/6 [==============================] - 2s 303ms/step - loss: 0.0959 - accuracy: 0.9552 - val_loss: 0.1331 - val_accuracy: 0.9274\n",
            "Epoch 67/600\n",
            "6/6 [==============================] - 0s 11ms/step - loss: 0.0888 - accuracy: 0.9706 - val_loss: 0.1339 - val_accuracy: 0.9274\n",
            "Epoch 68/600\n",
            "6/6 [==============================] - 0s 10ms/step - loss: 0.0855 - accuracy: 0.9720 - val_loss: 0.1349 - val_accuracy: 0.9274\n",
            "Epoch 69/600\n",
            "6/6 [==============================] - 0s 10ms/step - loss: 0.0855 - accuracy: 0.9678 - val_loss: 0.1348 - val_accuracy: 0.9274\n",
            "Epoch 70/600\n",
            "6/6 [==============================] - 0s 9ms/step - loss: 0.0847 - accuracy: 0.9748 - val_loss: 0.1369 - val_accuracy: 0.9274\n",
            "Epoch 71/600\n",
            "6/6 [==============================] - 0s 9ms/step - loss: 0.0783 - accuracy: 0.9734 - val_loss: 0.1347 - val_accuracy: 0.9274\n",
            "Epoch 72/600\n",
            "6/6 [==============================] - 0s 10ms/step - loss: 0.0868 - accuracy: 0.9664 - val_loss: 0.1336 - val_accuracy: 0.9330\n",
            "Epoch 73/600\n",
            "1/6 [====>.........................] - ETA: 0s - loss: 0.0525 - accuracy: 0.9922"
          ]
        },
        {
          "output_type": "stream",
          "name": "stderr",
          "text": [
            "\u001b[34m\u001b[1mwandb\u001b[0m: Adding directory to artifact (/content/wandb/run-20220917_094837-34p4vgkp/files/model-best)... Done. 0.1s\n"
          ]
        },
        {
          "output_type": "stream",
          "name": "stdout",
          "text": [
            "\b\b\b\b\b\b\b\b\b\b\b\b\b\b\b\b\b\b\b\b\b\b\b\b\b\b\b\b\b\b\b\b\b\b\b\b\b\b\b\b\b\b\b\b\b\b\b\b\b\b\b\b\b\b\b\b\b\b\b\b\b\b\b\b\b\b\b\b\b\b\b\b\b\b\b\b\b\b\b\b\r6/6 [==============================] - 1s 173ms/step - loss: 0.0880 - accuracy: 0.9692 - val_loss: 0.1330 - val_accuracy: 0.9330\n",
            "Epoch 74/600\n",
            "6/6 [==============================] - 0s 8ms/step - loss: 0.0815 - accuracy: 0.9762 - val_loss: 0.1339 - val_accuracy: 0.9274\n",
            "Epoch 75/600\n",
            "6/6 [==============================] - 0s 8ms/step - loss: 0.0843 - accuracy: 0.9734 - val_loss: 0.1346 - val_accuracy: 0.9274\n",
            "Epoch 76/600\n",
            "6/6 [==============================] - 0s 9ms/step - loss: 0.0783 - accuracy: 0.9776 - val_loss: 0.1359 - val_accuracy: 0.9274\n",
            "Epoch 77/600\n",
            "6/6 [==============================] - 0s 8ms/step - loss: 0.0697 - accuracy: 0.9818 - val_loss: 0.1355 - val_accuracy: 0.9274\n",
            "Epoch 78/600\n",
            "6/6 [==============================] - 0s 8ms/step - loss: 0.0744 - accuracy: 0.9790 - val_loss: 0.1336 - val_accuracy: 0.9274\n",
            "Epoch 79/600\n",
            "1/6 [====>.........................] - ETA: 0s - loss: 0.0599 - accuracy: 0.9766"
          ]
        },
        {
          "output_type": "stream",
          "name": "stderr",
          "text": [
            "\u001b[34m\u001b[1mwandb\u001b[0m: Adding directory to artifact (/content/wandb/run-20220917_094837-34p4vgkp/files/model-best)... Done. 0.1s\n"
          ]
        },
        {
          "output_type": "stream",
          "name": "stdout",
          "text": [
            "\b\b\b\b\b\b\b\b\b\b\b\b\b\b\b\b\b\b\b\b\b\b\b\b\b\b\b\b\b\b\b\b\b\b\b\b\b\b\b\b\b\b\b\b\b\b\b\b\b\b\b\b\b\b\b\b\b\b\b\b\b\b\b\b\b\b\b\b\b\b\b\b\b\b\b\b\b\b\b\b\r6/6 [==============================] - 1s 166ms/step - loss: 0.0792 - accuracy: 0.9734 - val_loss: 0.1298 - val_accuracy: 0.9330\n",
            "Epoch 80/600\n",
            "1/6 [====>.........................] - ETA: 0s - loss: 0.0971 - accuracy: 0.9609"
          ]
        },
        {
          "output_type": "stream",
          "name": "stderr",
          "text": [
            "\u001b[34m\u001b[1mwandb\u001b[0m: Adding directory to artifact (/content/wandb/run-20220917_094837-34p4vgkp/files/model-best)... Done. 0.1s\n"
          ]
        },
        {
          "output_type": "stream",
          "name": "stdout",
          "text": [
            "\b\b\b\b\b\b\b\b\b\b\b\b\b\b\b\b\b\b\b\b\b\b\b\b\b\b\b\b\b\b\b\b\b\b\b\b\b\b\b\b\b\b\b\b\b\b\b\b\b\b\b\b\b\b\b\b\b\b\b\b\b\b\b\b\b\b\b\b\b\b\b\b\b\b\b\b\b\b\b\b\r6/6 [==============================] - 1s 170ms/step - loss: 0.0778 - accuracy: 0.9706 - val_loss: 0.1295 - val_accuracy: 0.9330\n",
            "Epoch 81/600\n",
            "6/6 [==============================] - 0s 10ms/step - loss: 0.0660 - accuracy: 0.9888 - val_loss: 0.1306 - val_accuracy: 0.9330\n",
            "Epoch 82/600\n",
            "6/6 [==============================] - 0s 8ms/step - loss: 0.0753 - accuracy: 0.9720 - val_loss: 0.1350 - val_accuracy: 0.9330\n",
            "Epoch 83/600\n",
            "6/6 [==============================] - 0s 9ms/step - loss: 0.0626 - accuracy: 0.9776 - val_loss: 0.1355 - val_accuracy: 0.9330\n",
            "Epoch 84/600\n",
            "6/6 [==============================] - 0s 8ms/step - loss: 0.0670 - accuracy: 0.9720 - val_loss: 0.1312 - val_accuracy: 0.9330\n",
            "Epoch 85/600\n",
            "6/6 [==============================] - 0s 14ms/step - loss: 0.0713 - accuracy: 0.9832 - val_loss: 0.1307 - val_accuracy: 0.9274\n",
            "Epoch 86/600\n",
            "6/6 [==============================] - 0s 11ms/step - loss: 0.0697 - accuracy: 0.9804 - val_loss: 0.1338 - val_accuracy: 0.9385\n",
            "Epoch 87/600\n",
            "6/6 [==============================] - 0s 8ms/step - loss: 0.0850 - accuracy: 0.9818 - val_loss: 0.1368 - val_accuracy: 0.9330\n",
            "Epoch 88/600\n",
            "6/6 [==============================] - 0s 9ms/step - loss: 0.0755 - accuracy: 0.9706 - val_loss: 0.1341 - val_accuracy: 0.9385\n",
            "Epoch 89/600\n",
            "6/6 [==============================] - 0s 10ms/step - loss: 0.0700 - accuracy: 0.9818 - val_loss: 0.1321 - val_accuracy: 0.9218\n",
            "Epoch 90/600\n",
            "6/6 [==============================] - 0s 9ms/step - loss: 0.0672 - accuracy: 0.9790 - val_loss: 0.1316 - val_accuracy: 0.9218\n",
            "Epoch 91/600\n",
            "6/6 [==============================] - 0s 9ms/step - loss: 0.0593 - accuracy: 0.9874 - val_loss: 0.1311 - val_accuracy: 0.9218\n",
            "Epoch 92/600\n",
            "6/6 [==============================] - 0s 9ms/step - loss: 0.0736 - accuracy: 0.9748 - val_loss: 0.1330 - val_accuracy: 0.9330\n",
            "Epoch 93/600\n",
            "6/6 [==============================] - 0s 10ms/step - loss: 0.0666 - accuracy: 0.9846 - val_loss: 0.1349 - val_accuracy: 0.9330\n",
            "Epoch 94/600\n",
            "6/6 [==============================] - 0s 9ms/step - loss: 0.0612 - accuracy: 0.9860 - val_loss: 0.1319 - val_accuracy: 0.9218\n",
            "Epoch 95/600\n",
            "6/6 [==============================] - 0s 9ms/step - loss: 0.0616 - accuracy: 0.9860 - val_loss: 0.1306 - val_accuracy: 0.9218\n",
            "Epoch 96/600\n",
            "6/6 [==============================] - 0s 9ms/step - loss: 0.0789 - accuracy: 0.9706 - val_loss: 0.1319 - val_accuracy: 0.9218\n",
            "Epoch 97/600\n",
            "6/6 [==============================] - 0s 8ms/step - loss: 0.0564 - accuracy: 0.9874 - val_loss: 0.1318 - val_accuracy: 0.9274\n",
            "Epoch 98/600\n",
            "6/6 [==============================] - 0s 8ms/step - loss: 0.0656 - accuracy: 0.9818 - val_loss: 0.1372 - val_accuracy: 0.9274\n",
            "Epoch 99/600\n",
            "6/6 [==============================] - 0s 8ms/step - loss: 0.0626 - accuracy: 0.9832 - val_loss: 0.1393 - val_accuracy: 0.9218\n",
            "Epoch 100/600\n",
            "6/6 [==============================] - 0s 8ms/step - loss: 0.0680 - accuracy: 0.9804 - val_loss: 0.1405 - val_accuracy: 0.9218\n",
            "Epoch 101/600\n",
            "6/6 [==============================] - 0s 11ms/step - loss: 0.0627 - accuracy: 0.9734 - val_loss: 0.1382 - val_accuracy: 0.9218\n",
            "Epoch 102/600\n",
            "6/6 [==============================] - 0s 10ms/step - loss: 0.0742 - accuracy: 0.9804 - val_loss: 0.1342 - val_accuracy: 0.9218\n",
            "Epoch 103/600\n",
            "6/6 [==============================] - 0s 8ms/step - loss: 0.0691 - accuracy: 0.9790 - val_loss: 0.1358 - val_accuracy: 0.9274\n",
            "Epoch 104/600\n",
            "6/6 [==============================] - 0s 10ms/step - loss: 0.0490 - accuracy: 0.9860 - val_loss: 0.1395 - val_accuracy: 0.9274\n",
            "Epoch 105/600\n",
            "6/6 [==============================] - 0s 9ms/step - loss: 0.0543 - accuracy: 0.9804 - val_loss: 0.1384 - val_accuracy: 0.9274\n",
            "Epoch 106/600\n",
            "6/6 [==============================] - 0s 9ms/step - loss: 0.0526 - accuracy: 0.9930 - val_loss: 0.1389 - val_accuracy: 0.9274\n",
            "Epoch 107/600\n",
            "6/6 [==============================] - 0s 8ms/step - loss: 0.0605 - accuracy: 0.9790 - val_loss: 0.1377 - val_accuracy: 0.9274\n",
            "Epoch 108/600\n",
            "6/6 [==============================] - 0s 8ms/step - loss: 0.0552 - accuracy: 0.9860 - val_loss: 0.1361 - val_accuracy: 0.9274\n",
            "Epoch 109/600\n",
            "6/6 [==============================] - 0s 10ms/step - loss: 0.0641 - accuracy: 0.9790 - val_loss: 0.1363 - val_accuracy: 0.9274\n",
            "Epoch 110/600\n",
            "6/6 [==============================] - 0s 11ms/step - loss: 0.0543 - accuracy: 0.9832 - val_loss: 0.1367 - val_accuracy: 0.9330\n",
            "Epoch 111/600\n",
            "6/6 [==============================] - 0s 8ms/step - loss: 0.0581 - accuracy: 0.9818 - val_loss: 0.1363 - val_accuracy: 0.9330\n",
            "Epoch 112/600\n",
            "6/6 [==============================] - 0s 9ms/step - loss: 0.0574 - accuracy: 0.9832 - val_loss: 0.1353 - val_accuracy: 0.9330\n",
            "Epoch 113/600\n",
            "6/6 [==============================] - 0s 9ms/step - loss: 0.0542 - accuracy: 0.9874 - val_loss: 0.1321 - val_accuracy: 0.9330\n",
            "Epoch 114/600\n",
            "6/6 [==============================] - 0s 10ms/step - loss: 0.0469 - accuracy: 0.9888 - val_loss: 0.1313 - val_accuracy: 0.9330\n",
            "Epoch 115/600\n",
            "6/6 [==============================] - 0s 9ms/step - loss: 0.0547 - accuracy: 0.9860 - val_loss: 0.1350 - val_accuracy: 0.9274\n",
            "Epoch 116/600\n",
            "6/6 [==============================] - 0s 8ms/step - loss: 0.0547 - accuracy: 0.9860 - val_loss: 0.1347 - val_accuracy: 0.9330\n",
            "Epoch 117/600\n",
            "6/6 [==============================] - 0s 8ms/step - loss: 0.0497 - accuracy: 0.9874 - val_loss: 0.1349 - val_accuracy: 0.9385\n",
            "Epoch 118/600\n",
            "6/6 [==============================] - 0s 8ms/step - loss: 0.0573 - accuracy: 0.9832 - val_loss: 0.1356 - val_accuracy: 0.9385\n",
            "Epoch 119/600\n",
            "6/6 [==============================] - 0s 8ms/step - loss: 0.0512 - accuracy: 0.9860 - val_loss: 0.1393 - val_accuracy: 0.9330\n",
            "Epoch 120/600\n",
            "6/6 [==============================] - 0s 9ms/step - loss: 0.0547 - accuracy: 0.9832 - val_loss: 0.1387 - val_accuracy: 0.9330\n",
            "Epoch 121/600\n",
            "6/6 [==============================] - 0s 8ms/step - loss: 0.0480 - accuracy: 0.9846 - val_loss: 0.1370 - val_accuracy: 0.9385\n",
            "Epoch 122/600\n",
            "6/6 [==============================] - 0s 9ms/step - loss: 0.0599 - accuracy: 0.9804 - val_loss: 0.1380 - val_accuracy: 0.9385\n",
            "Epoch 123/600\n",
            "6/6 [==============================] - 0s 8ms/step - loss: 0.0508 - accuracy: 0.9832 - val_loss: 0.1401 - val_accuracy: 0.9330\n",
            "Epoch 124/600\n",
            "6/6 [==============================] - 0s 10ms/step - loss: 0.0515 - accuracy: 0.9874 - val_loss: 0.1390 - val_accuracy: 0.9330\n",
            "Epoch 125/600\n",
            "6/6 [==============================] - 0s 10ms/step - loss: 0.0557 - accuracy: 0.9818 - val_loss: 0.1386 - val_accuracy: 0.9330\n",
            "Epoch 126/600\n",
            "6/6 [==============================] - 0s 8ms/step - loss: 0.0422 - accuracy: 0.9888 - val_loss: 0.1391 - val_accuracy: 0.9330\n",
            "Epoch 127/600\n",
            "6/6 [==============================] - 0s 11ms/step - loss: 0.0468 - accuracy: 0.9888 - val_loss: 0.1383 - val_accuracy: 0.9330\n",
            "Epoch 128/600\n",
            "6/6 [==============================] - 0s 9ms/step - loss: 0.0543 - accuracy: 0.9804 - val_loss: 0.1390 - val_accuracy: 0.9274\n",
            "Epoch 129/600\n",
            "6/6 [==============================] - 0s 11ms/step - loss: 0.0418 - accuracy: 0.9916 - val_loss: 0.1390 - val_accuracy: 0.9274\n",
            "Epoch 130/600\n",
            "6/6 [==============================] - 0s 8ms/step - loss: 0.0447 - accuracy: 0.9888 - val_loss: 0.1382 - val_accuracy: 0.9330\n",
            "Epoch 131/600\n",
            "6/6 [==============================] - 0s 8ms/step - loss: 0.0474 - accuracy: 0.9902 - val_loss: 0.1388 - val_accuracy: 0.9330\n",
            "Epoch 132/600\n",
            "6/6 [==============================] - 0s 8ms/step - loss: 0.0341 - accuracy: 0.9930 - val_loss: 0.1384 - val_accuracy: 0.9330\n",
            "Epoch 133/600\n",
            "6/6 [==============================] - 0s 8ms/step - loss: 0.0496 - accuracy: 0.9846 - val_loss: 0.1401 - val_accuracy: 0.9330\n",
            "Epoch 134/600\n",
            "6/6 [==============================] - 0s 9ms/step - loss: 0.0595 - accuracy: 0.9818 - val_loss: 0.1406 - val_accuracy: 0.9330\n",
            "Epoch 135/600\n",
            "6/6 [==============================] - 0s 9ms/step - loss: 0.0402 - accuracy: 0.9846 - val_loss: 0.1371 - val_accuracy: 0.9385\n",
            "Epoch 136/600\n",
            "6/6 [==============================] - 0s 11ms/step - loss: 0.0386 - accuracy: 0.9916 - val_loss: 0.1360 - val_accuracy: 0.9441\n",
            "Epoch 137/600\n",
            "6/6 [==============================] - 0s 13ms/step - loss: 0.0500 - accuracy: 0.9860 - val_loss: 0.1354 - val_accuracy: 0.9497\n",
            "Epoch 138/600\n",
            "6/6 [==============================] - 0s 9ms/step - loss: 0.0455 - accuracy: 0.9874 - val_loss: 0.1361 - val_accuracy: 0.9385\n",
            "Epoch 139/600\n",
            "6/6 [==============================] - 0s 9ms/step - loss: 0.0510 - accuracy: 0.9846 - val_loss: 0.1346 - val_accuracy: 0.9441\n",
            "Epoch 140/600\n",
            "6/6 [==============================] - 0s 9ms/step - loss: 0.0376 - accuracy: 0.9916 - val_loss: 0.1368 - val_accuracy: 0.9385\n",
            "Epoch 141/600\n",
            "6/6 [==============================] - 0s 8ms/step - loss: 0.0370 - accuracy: 0.9916 - val_loss: 0.1366 - val_accuracy: 0.9385\n",
            "Epoch 142/600\n",
            "6/6 [==============================] - 0s 8ms/step - loss: 0.0444 - accuracy: 0.9860 - val_loss: 0.1373 - val_accuracy: 0.9385\n",
            "Epoch 143/600\n",
            "6/6 [==============================] - 0s 12ms/step - loss: 0.0370 - accuracy: 0.9944 - val_loss: 0.1390 - val_accuracy: 0.9385\n",
            "Epoch 144/600\n",
            "6/6 [==============================] - 0s 9ms/step - loss: 0.0327 - accuracy: 0.9958 - val_loss: 0.1402 - val_accuracy: 0.9441\n",
            "Epoch 145/600\n",
            "6/6 [==============================] - 0s 8ms/step - loss: 0.0414 - accuracy: 0.9860 - val_loss: 0.1370 - val_accuracy: 0.9441\n",
            "Epoch 146/600\n",
            "6/6 [==============================] - 0s 8ms/step - loss: 0.0509 - accuracy: 0.9804 - val_loss: 0.1345 - val_accuracy: 0.9441\n",
            "Epoch 147/600\n",
            "6/6 [==============================] - 0s 9ms/step - loss: 0.0404 - accuracy: 0.9902 - val_loss: 0.1350 - val_accuracy: 0.9441\n",
            "Epoch 148/600\n",
            "6/6 [==============================] - 0s 9ms/step - loss: 0.0489 - accuracy: 0.9902 - val_loss: 0.1352 - val_accuracy: 0.9497\n",
            "Epoch 149/600\n",
            "6/6 [==============================] - 0s 9ms/step - loss: 0.0389 - accuracy: 0.9930 - val_loss: 0.1380 - val_accuracy: 0.9385\n",
            "Epoch 150/600\n",
            "6/6 [==============================] - 0s 10ms/step - loss: 0.0333 - accuracy: 0.9930 - val_loss: 0.1397 - val_accuracy: 0.9330\n",
            "Epoch 151/600\n",
            "6/6 [==============================] - 0s 9ms/step - loss: 0.0413 - accuracy: 0.9874 - val_loss: 0.1380 - val_accuracy: 0.9385\n",
            "Epoch 152/600\n",
            "6/6 [==============================] - 0s 9ms/step - loss: 0.0367 - accuracy: 0.9888 - val_loss: 0.1369 - val_accuracy: 0.9497\n",
            "Epoch 153/600\n",
            "6/6 [==============================] - 0s 11ms/step - loss: 0.0412 - accuracy: 0.9916 - val_loss: 0.1345 - val_accuracy: 0.9497\n",
            "Epoch 154/600\n",
            "6/6 [==============================] - 0s 9ms/step - loss: 0.0321 - accuracy: 0.9930 - val_loss: 0.1358 - val_accuracy: 0.9497\n",
            "Epoch 155/600\n",
            "6/6 [==============================] - 0s 9ms/step - loss: 0.0453 - accuracy: 0.9874 - val_loss: 0.1395 - val_accuracy: 0.9330\n",
            "Epoch 156/600\n",
            "6/6 [==============================] - 0s 9ms/step - loss: 0.0377 - accuracy: 0.9930 - val_loss: 0.1420 - val_accuracy: 0.9330\n",
            "Epoch 157/600\n",
            "6/6 [==============================] - 0s 14ms/step - loss: 0.0431 - accuracy: 0.9832 - val_loss: 0.1375 - val_accuracy: 0.9441\n",
            "Epoch 158/600\n",
            "6/6 [==============================] - 0s 8ms/step - loss: 0.0352 - accuracy: 0.9944 - val_loss: 0.1370 - val_accuracy: 0.9497\n",
            "Epoch 159/600\n",
            "6/6 [==============================] - 0s 9ms/step - loss: 0.0417 - accuracy: 0.9916 - val_loss: 0.1410 - val_accuracy: 0.9330\n",
            "Epoch 160/600\n",
            "6/6 [==============================] - 0s 12ms/step - loss: 0.0390 - accuracy: 0.9832 - val_loss: 0.1509 - val_accuracy: 0.9274\n",
            "Epoch 161/600\n",
            "6/6 [==============================] - 0s 10ms/step - loss: 0.0425 - accuracy: 0.9832 - val_loss: 0.1405 - val_accuracy: 0.9330\n",
            "Epoch 162/600\n",
            "6/6 [==============================] - 0s 13ms/step - loss: 0.0293 - accuracy: 0.9930 - val_loss: 0.1344 - val_accuracy: 0.9497\n",
            "Epoch 163/600\n",
            "6/6 [==============================] - 0s 9ms/step - loss: 0.0396 - accuracy: 0.9916 - val_loss: 0.1339 - val_accuracy: 0.9497\n",
            "Epoch 164/600\n",
            "6/6 [==============================] - 0s 10ms/step - loss: 0.0335 - accuracy: 0.9930 - val_loss: 0.1364 - val_accuracy: 0.9385\n",
            "Epoch 165/600\n",
            "6/6 [==============================] - 0s 10ms/step - loss: 0.0398 - accuracy: 0.9930 - val_loss: 0.1403 - val_accuracy: 0.9330\n",
            "Epoch 166/600\n",
            "6/6 [==============================] - 0s 9ms/step - loss: 0.0337 - accuracy: 0.9860 - val_loss: 0.1400 - val_accuracy: 0.9330\n",
            "Epoch 167/600\n",
            "6/6 [==============================] - 0s 9ms/step - loss: 0.0391 - accuracy: 0.9874 - val_loss: 0.1380 - val_accuracy: 0.9441\n",
            "Epoch 168/600\n",
            "6/6 [==============================] - 0s 9ms/step - loss: 0.0408 - accuracy: 0.9832 - val_loss: 0.1380 - val_accuracy: 0.9441\n",
            "Epoch 169/600\n",
            "6/6 [==============================] - 0s 10ms/step - loss: 0.0355 - accuracy: 0.9888 - val_loss: 0.1413 - val_accuracy: 0.9330\n",
            "Epoch 170/600\n",
            "6/6 [==============================] - 0s 9ms/step - loss: 0.0310 - accuracy: 0.9944 - val_loss: 0.1455 - val_accuracy: 0.9385\n",
            "Epoch 171/600\n",
            "6/6 [==============================] - 0s 11ms/step - loss: 0.0356 - accuracy: 0.9902 - val_loss: 0.1465 - val_accuracy: 0.9385\n",
            "Epoch 172/600\n",
            "6/6 [==============================] - 0s 9ms/step - loss: 0.0364 - accuracy: 0.9930 - val_loss: 0.1454 - val_accuracy: 0.9385\n",
            "Epoch 173/600\n",
            "6/6 [==============================] - 0s 10ms/step - loss: 0.0302 - accuracy: 0.9930 - val_loss: 0.1427 - val_accuracy: 0.9441\n",
            "Epoch 174/600\n",
            "6/6 [==============================] - 0s 13ms/step - loss: 0.0285 - accuracy: 0.9958 - val_loss: 0.1449 - val_accuracy: 0.9441\n",
            "Epoch 175/600\n",
            "6/6 [==============================] - 0s 8ms/step - loss: 0.0428 - accuracy: 0.9902 - val_loss: 0.1473 - val_accuracy: 0.9441\n",
            "Epoch 176/600\n",
            "6/6 [==============================] - 0s 9ms/step - loss: 0.0364 - accuracy: 0.9846 - val_loss: 0.1464 - val_accuracy: 0.9441\n",
            "Epoch 177/600\n",
            "6/6 [==============================] - 0s 9ms/step - loss: 0.0350 - accuracy: 0.9944 - val_loss: 0.1438 - val_accuracy: 0.9441\n",
            "Epoch 178/600\n",
            "6/6 [==============================] - 0s 13ms/step - loss: 0.0443 - accuracy: 0.9832 - val_loss: 0.1434 - val_accuracy: 0.9441\n",
            "Epoch 179/600\n",
            "6/6 [==============================] - 0s 9ms/step - loss: 0.0464 - accuracy: 0.9888 - val_loss: 0.1431 - val_accuracy: 0.9441\n",
            "Epoch 180/600\n",
            "6/6 [==============================] - 0s 9ms/step - loss: 0.0335 - accuracy: 0.9902 - val_loss: 0.1400 - val_accuracy: 0.9497\n",
            "Epoch 181/600\n",
            "6/6 [==============================] - 0s 13ms/step - loss: 0.0333 - accuracy: 0.9916 - val_loss: 0.1426 - val_accuracy: 0.9441\n",
            "Epoch 182/600\n",
            "6/6 [==============================] - 0s 9ms/step - loss: 0.0351 - accuracy: 0.9902 - val_loss: 0.1442 - val_accuracy: 0.9330\n",
            "Epoch 183/600\n",
            "6/6 [==============================] - 0s 9ms/step - loss: 0.0414 - accuracy: 0.9860 - val_loss: 0.1426 - val_accuracy: 0.9385\n",
            "Epoch 184/600\n",
            "6/6 [==============================] - 0s 9ms/step - loss: 0.0285 - accuracy: 0.9972 - val_loss: 0.1401 - val_accuracy: 0.9441\n",
            "Epoch 185/600\n",
            "6/6 [==============================] - 0s 10ms/step - loss: 0.0471 - accuracy: 0.9846 - val_loss: 0.1381 - val_accuracy: 0.9441\n",
            "Epoch 186/600\n",
            "6/6 [==============================] - 0s 10ms/step - loss: 0.0384 - accuracy: 0.9874 - val_loss: 0.1383 - val_accuracy: 0.9441\n",
            "Epoch 187/600\n",
            "6/6 [==============================] - 0s 9ms/step - loss: 0.0257 - accuracy: 0.9986 - val_loss: 0.1428 - val_accuracy: 0.9441\n",
            "Epoch 188/600\n",
            "6/6 [==============================] - 0s 8ms/step - loss: 0.0487 - accuracy: 0.9790 - val_loss: 0.1394 - val_accuracy: 0.9385\n",
            "Epoch 189/600\n",
            "6/6 [==============================] - 0s 11ms/step - loss: 0.0340 - accuracy: 0.9902 - val_loss: 0.1371 - val_accuracy: 0.9441\n",
            "Epoch 190/600\n",
            "6/6 [==============================] - 0s 9ms/step - loss: 0.0240 - accuracy: 0.9958 - val_loss: 0.1401 - val_accuracy: 0.9441\n",
            "Epoch 191/600\n",
            "6/6 [==============================] - 0s 9ms/step - loss: 0.0444 - accuracy: 0.9874 - val_loss: 0.1486 - val_accuracy: 0.9441\n",
            "Epoch 192/600\n",
            "6/6 [==============================] - 0s 11ms/step - loss: 0.0385 - accuracy: 0.9804 - val_loss: 0.1496 - val_accuracy: 0.9330\n",
            "Epoch 193/600\n",
            "6/6 [==============================] - 0s 11ms/step - loss: 0.0312 - accuracy: 0.9874 - val_loss: 0.1413 - val_accuracy: 0.9441\n",
            "Epoch 194/600\n",
            "6/6 [==============================] - 0s 9ms/step - loss: 0.0271 - accuracy: 0.9916 - val_loss: 0.1386 - val_accuracy: 0.9441\n",
            "Epoch 195/600\n",
            "6/6 [==============================] - 0s 11ms/step - loss: 0.0385 - accuracy: 0.9860 - val_loss: 0.1359 - val_accuracy: 0.9441\n",
            "Epoch 196/600\n",
            "6/6 [==============================] - 0s 12ms/step - loss: 0.0260 - accuracy: 0.9944 - val_loss: 0.1372 - val_accuracy: 0.9385\n",
            "Epoch 197/600\n",
            "6/6 [==============================] - 0s 11ms/step - loss: 0.0297 - accuracy: 0.9916 - val_loss: 0.1389 - val_accuracy: 0.9385\n",
            "Epoch 198/600\n",
            "6/6 [==============================] - 0s 9ms/step - loss: 0.0409 - accuracy: 0.9888 - val_loss: 0.1409 - val_accuracy: 0.9385\n",
            "Epoch 199/600\n",
            "6/6 [==============================] - 0s 9ms/step - loss: 0.0216 - accuracy: 0.9958 - val_loss: 0.1447 - val_accuracy: 0.9385\n",
            "Epoch 200/600\n",
            "6/6 [==============================] - 0s 11ms/step - loss: 0.0315 - accuracy: 0.9888 - val_loss: 0.1413 - val_accuracy: 0.9441\n",
            "Epoch 201/600\n",
            "6/6 [==============================] - 0s 10ms/step - loss: 0.0263 - accuracy: 0.9958 - val_loss: 0.1423 - val_accuracy: 0.9441\n",
            "Epoch 202/600\n",
            "6/6 [==============================] - 0s 9ms/step - loss: 0.0269 - accuracy: 0.9916 - val_loss: 0.1436 - val_accuracy: 0.9385\n",
            "Epoch 203/600\n",
            "6/6 [==============================] - 0s 9ms/step - loss: 0.0304 - accuracy: 0.9958 - val_loss: 0.1418 - val_accuracy: 0.9385\n",
            "Epoch 204/600\n",
            "6/6 [==============================] - 0s 13ms/step - loss: 0.0399 - accuracy: 0.9846 - val_loss: 0.1397 - val_accuracy: 0.9385\n",
            "Epoch 205/600\n",
            "6/6 [==============================] - 0s 10ms/step - loss: 0.0463 - accuracy: 0.9860 - val_loss: 0.1344 - val_accuracy: 0.9441\n",
            "Epoch 206/600\n",
            "6/6 [==============================] - 0s 9ms/step - loss: 0.0279 - accuracy: 0.9930 - val_loss: 0.1345 - val_accuracy: 0.9441\n",
            "Epoch 207/600\n",
            "6/6 [==============================] - 0s 9ms/step - loss: 0.0219 - accuracy: 0.9958 - val_loss: 0.1362 - val_accuracy: 0.9441\n",
            "Epoch 208/600\n",
            "6/6 [==============================] - 0s 8ms/step - loss: 0.0253 - accuracy: 0.9958 - val_loss: 0.1396 - val_accuracy: 0.9385\n",
            "Epoch 209/600\n",
            "6/6 [==============================] - 0s 10ms/step - loss: 0.0264 - accuracy: 0.9888 - val_loss: 0.1417 - val_accuracy: 0.9385\n",
            "Epoch 210/600\n",
            "6/6 [==============================] - 0s 10ms/step - loss: 0.0278 - accuracy: 0.9944 - val_loss: 0.1402 - val_accuracy: 0.9441\n",
            "Epoch 211/600\n",
            "6/6 [==============================] - 0s 9ms/step - loss: 0.0323 - accuracy: 0.9916 - val_loss: 0.1380 - val_accuracy: 0.9441\n",
            "Epoch 212/600\n",
            "6/6 [==============================] - 0s 9ms/step - loss: 0.0305 - accuracy: 0.9930 - val_loss: 0.1354 - val_accuracy: 0.9441\n",
            "Epoch 213/600\n",
            "6/6 [==============================] - 0s 8ms/step - loss: 0.0298 - accuracy: 0.9944 - val_loss: 0.1348 - val_accuracy: 0.9441\n",
            "Epoch 214/600\n",
            "6/6 [==============================] - 0s 11ms/step - loss: 0.0314 - accuracy: 0.9916 - val_loss: 0.1372 - val_accuracy: 0.9441\n",
            "Epoch 215/600\n",
            "6/6 [==============================] - 0s 10ms/step - loss: 0.0277 - accuracy: 0.9888 - val_loss: 0.1309 - val_accuracy: 0.9497\n",
            "Epoch 216/600\n",
            "1/6 [====>.........................] - ETA: 0s - loss: 0.0454 - accuracy: 0.9766"
          ]
        },
        {
          "output_type": "stream",
          "name": "stderr",
          "text": [
            "\u001b[34m\u001b[1mwandb\u001b[0m: Adding directory to artifact (/content/wandb/run-20220917_094837-34p4vgkp/files/model-best)... Done. 0.1s\n"
          ]
        },
        {
          "output_type": "stream",
          "name": "stdout",
          "text": [
            "\b\b\b\b\b\b\b\b\b\b\b\b\b\b\b\b\b\b\b\b\b\b\b\b\b\b\b\b\b\b\b\b\b\b\b\b\b\b\b\b\b\b\b\b\b\b\b\b\b\b\b\b\b\b\b\b\b\b\b\b\b\b\b\b\b\b\b\b\b\b\b\b\b\b\b\b\b\b\b\b\r6/6 [==============================] - 1s 176ms/step - loss: 0.0316 - accuracy: 0.9902 - val_loss: 0.1285 - val_accuracy: 0.9497\n",
            "Epoch 217/600\n",
            "6/6 [==============================] - 0s 9ms/step - loss: 0.0305 - accuracy: 0.9930 - val_loss: 0.1313 - val_accuracy: 0.9441\n",
            "Epoch 218/600\n",
            "6/6 [==============================] - 0s 9ms/step - loss: 0.0347 - accuracy: 0.9888 - val_loss: 0.1375 - val_accuracy: 0.9441\n",
            "Epoch 219/600\n",
            "6/6 [==============================] - 0s 8ms/step - loss: 0.0304 - accuracy: 0.9916 - val_loss: 0.1397 - val_accuracy: 0.9441\n",
            "Epoch 220/600\n",
            "6/6 [==============================] - 0s 8ms/step - loss: 0.0275 - accuracy: 0.9944 - val_loss: 0.1395 - val_accuracy: 0.9441\n",
            "Epoch 221/600\n",
            "6/6 [==============================] - 0s 8ms/step - loss: 0.0299 - accuracy: 0.9972 - val_loss: 0.1435 - val_accuracy: 0.9385\n",
            "Epoch 222/600\n",
            "6/6 [==============================] - 0s 9ms/step - loss: 0.0239 - accuracy: 0.9958 - val_loss: 0.1484 - val_accuracy: 0.9441\n",
            "Epoch 223/600\n",
            "6/6 [==============================] - 0s 11ms/step - loss: 0.0271 - accuracy: 0.9888 - val_loss: 0.1425 - val_accuracy: 0.9385\n",
            "Epoch 224/600\n",
            "6/6 [==============================] - 0s 9ms/step - loss: 0.0273 - accuracy: 0.9916 - val_loss: 0.1347 - val_accuracy: 0.9441\n",
            "Epoch 225/600\n",
            "6/6 [==============================] - 0s 8ms/step - loss: 0.0245 - accuracy: 0.9958 - val_loss: 0.1345 - val_accuracy: 0.9441\n",
            "Epoch 226/600\n",
            "6/6 [==============================] - 0s 8ms/step - loss: 0.0295 - accuracy: 0.9930 - val_loss: 0.1380 - val_accuracy: 0.9385\n",
            "Epoch 227/600\n",
            "6/6 [==============================] - 0s 10ms/step - loss: 0.0287 - accuracy: 0.9888 - val_loss: 0.1408 - val_accuracy: 0.9385\n",
            "Epoch 228/600\n",
            "6/6 [==============================] - 0s 8ms/step - loss: 0.0238 - accuracy: 0.9944 - val_loss: 0.1379 - val_accuracy: 0.9441\n",
            "Epoch 229/600\n",
            "6/6 [==============================] - 0s 9ms/step - loss: 0.0184 - accuracy: 0.9972 - val_loss: 0.1378 - val_accuracy: 0.9441\n",
            "Epoch 230/600\n",
            "6/6 [==============================] - 0s 8ms/step - loss: 0.0251 - accuracy: 0.9902 - val_loss: 0.1367 - val_accuracy: 0.9441\n",
            "Epoch 231/600\n",
            "6/6 [==============================] - 0s 8ms/step - loss: 0.0241 - accuracy: 0.9944 - val_loss: 0.1354 - val_accuracy: 0.9441\n",
            "Epoch 232/600\n",
            "6/6 [==============================] - 0s 13ms/step - loss: 0.0340 - accuracy: 0.9916 - val_loss: 0.1386 - val_accuracy: 0.9385\n",
            "Epoch 233/600\n",
            "6/6 [==============================] - 0s 9ms/step - loss: 0.0188 - accuracy: 0.9944 - val_loss: 0.1379 - val_accuracy: 0.9441\n",
            "Epoch 234/600\n",
            "6/6 [==============================] - 0s 8ms/step - loss: 0.0264 - accuracy: 0.9916 - val_loss: 0.1380 - val_accuracy: 0.9497\n",
            "Epoch 235/600\n",
            "6/6 [==============================] - 0s 8ms/step - loss: 0.0330 - accuracy: 0.9860 - val_loss: 0.1381 - val_accuracy: 0.9441\n",
            "Epoch 236/600\n",
            "6/6 [==============================] - 0s 9ms/step - loss: 0.0291 - accuracy: 0.9930 - val_loss: 0.1402 - val_accuracy: 0.9441\n",
            "Epoch 237/600\n",
            "6/6 [==============================] - 0s 8ms/step - loss: 0.0210 - accuracy: 0.9944 - val_loss: 0.1428 - val_accuracy: 0.9441\n",
            "Epoch 238/600\n",
            "6/6 [==============================] - 0s 9ms/step - loss: 0.0255 - accuracy: 0.9916 - val_loss: 0.1429 - val_accuracy: 0.9441\n",
            "Epoch 239/600\n",
            "6/6 [==============================] - 0s 8ms/step - loss: 0.0364 - accuracy: 0.9888 - val_loss: 0.1432 - val_accuracy: 0.9441\n",
            "Epoch 240/600\n",
            "6/6 [==============================] - 0s 10ms/step - loss: 0.0329 - accuracy: 0.9860 - val_loss: 0.1462 - val_accuracy: 0.9441\n",
            "Epoch 241/600\n",
            "6/6 [==============================] - 0s 8ms/step - loss: 0.0240 - accuracy: 0.9958 - val_loss: 0.1486 - val_accuracy: 0.9441\n",
            "Epoch 242/600\n",
            "6/6 [==============================] - 0s 9ms/step - loss: 0.0192 - accuracy: 0.9958 - val_loss: 0.1494 - val_accuracy: 0.9441\n",
            "Epoch 243/600\n",
            "6/6 [==============================] - 0s 9ms/step - loss: 0.0292 - accuracy: 0.9902 - val_loss: 0.1448 - val_accuracy: 0.9441\n",
            "Epoch 244/600\n",
            "6/6 [==============================] - 0s 8ms/step - loss: 0.0316 - accuracy: 0.9874 - val_loss: 0.1404 - val_accuracy: 0.9441\n",
            "Epoch 245/600\n",
            "6/6 [==============================] - 0s 8ms/step - loss: 0.0312 - accuracy: 0.9902 - val_loss: 0.1375 - val_accuracy: 0.9441\n",
            "Epoch 246/600\n",
            "6/6 [==============================] - 0s 9ms/step - loss: 0.0192 - accuracy: 0.9972 - val_loss: 0.1377 - val_accuracy: 0.9441\n",
            "Epoch 247/600\n",
            "6/6 [==============================] - 0s 8ms/step - loss: 0.0236 - accuracy: 0.9930 - val_loss: 0.1357 - val_accuracy: 0.9441\n",
            "Epoch 248/600\n",
            "6/6 [==============================] - 0s 9ms/step - loss: 0.0194 - accuracy: 0.9916 - val_loss: 0.1348 - val_accuracy: 0.9441\n",
            "Epoch 249/600\n",
            "6/6 [==============================] - 0s 8ms/step - loss: 0.0164 - accuracy: 0.9972 - val_loss: 0.1378 - val_accuracy: 0.9441\n",
            "Epoch 250/600\n",
            "6/6 [==============================] - 0s 12ms/step - loss: 0.0251 - accuracy: 0.9916 - val_loss: 0.1385 - val_accuracy: 0.9441\n",
            "Epoch 251/600\n",
            "6/6 [==============================] - 0s 11ms/step - loss: 0.0260 - accuracy: 0.9916 - val_loss: 0.1401 - val_accuracy: 0.9497\n",
            "Epoch 252/600\n",
            "6/6 [==============================] - 0s 9ms/step - loss: 0.0219 - accuracy: 0.9944 - val_loss: 0.1424 - val_accuracy: 0.9441\n",
            "Epoch 253/600\n",
            "6/6 [==============================] - 0s 9ms/step - loss: 0.0243 - accuracy: 0.9902 - val_loss: 0.1353 - val_accuracy: 0.9497\n",
            "Epoch 254/600\n",
            "6/6 [==============================] - 0s 11ms/step - loss: 0.0242 - accuracy: 0.9944 - val_loss: 0.1312 - val_accuracy: 0.9441\n",
            "Epoch 255/600\n",
            "6/6 [==============================] - 0s 10ms/step - loss: 0.0214 - accuracy: 0.9930 - val_loss: 0.1315 - val_accuracy: 0.9385\n",
            "Epoch 256/600\n",
            "6/6 [==============================] - 0s 10ms/step - loss: 0.0292 - accuracy: 0.9916 - val_loss: 0.1310 - val_accuracy: 0.9385\n",
            "Epoch 257/600\n",
            "6/6 [==============================] - 0s 8ms/step - loss: 0.0204 - accuracy: 0.9930 - val_loss: 0.1317 - val_accuracy: 0.9441\n",
            "Epoch 258/600\n",
            "6/6 [==============================] - 0s 10ms/step - loss: 0.0246 - accuracy: 0.9916 - val_loss: 0.1343 - val_accuracy: 0.9441\n",
            "Epoch 259/600\n",
            "6/6 [==============================] - 0s 10ms/step - loss: 0.0292 - accuracy: 0.9902 - val_loss: 0.1375 - val_accuracy: 0.9497\n",
            "Epoch 260/600\n",
            "6/6 [==============================] - 0s 9ms/step - loss: 0.0224 - accuracy: 0.9944 - val_loss: 0.1408 - val_accuracy: 0.9497\n",
            "Epoch 261/600\n",
            "6/6 [==============================] - 0s 8ms/step - loss: 0.0221 - accuracy: 0.9958 - val_loss: 0.1421 - val_accuracy: 0.9497\n",
            "Epoch 262/600\n",
            "6/6 [==============================] - 0s 8ms/step - loss: 0.0250 - accuracy: 0.9916 - val_loss: 0.1414 - val_accuracy: 0.9441\n",
            "Epoch 263/600\n",
            "6/6 [==============================] - 0s 9ms/step - loss: 0.0255 - accuracy: 0.9930 - val_loss: 0.1383 - val_accuracy: 0.9441\n",
            "Epoch 264/600\n",
            "6/6 [==============================] - 0s 9ms/step - loss: 0.0271 - accuracy: 0.9902 - val_loss: 0.1390 - val_accuracy: 0.9497\n",
            "Epoch 265/600\n",
            "6/6 [==============================] - 0s 9ms/step - loss: 0.0265 - accuracy: 0.9902 - val_loss: 0.1393 - val_accuracy: 0.9497\n",
            "Epoch 266/600\n",
            "6/6 [==============================] - 0s 8ms/step - loss: 0.0212 - accuracy: 0.9930 - val_loss: 0.1343 - val_accuracy: 0.9497\n",
            "Epoch 267/600\n",
            "6/6 [==============================] - 0s 8ms/step - loss: 0.0255 - accuracy: 0.9888 - val_loss: 0.1314 - val_accuracy: 0.9497\n",
            "Epoch 268/600\n",
            "6/6 [==============================] - 0s 8ms/step - loss: 0.0265 - accuracy: 0.9930 - val_loss: 0.1331 - val_accuracy: 0.9497\n",
            "Epoch 269/600\n",
            "6/6 [==============================] - 0s 12ms/step - loss: 0.0220 - accuracy: 0.9930 - val_loss: 0.1315 - val_accuracy: 0.9497\n",
            "Epoch 270/600\n",
            "1/6 [====>.........................] - ETA: 0s - loss: 0.0106 - accuracy: 1.0000"
          ]
        },
        {
          "output_type": "stream",
          "name": "stderr",
          "text": [
            "\u001b[34m\u001b[1mwandb\u001b[0m: Adding directory to artifact (/content/wandb/run-20220917_094837-34p4vgkp/files/model-best)... Done. 0.1s\n"
          ]
        },
        {
          "output_type": "stream",
          "name": "stdout",
          "text": [
            "\b\b\b\b\b\b\b\b\b\b\b\b\b\b\b\b\b\b\b\b\b\b\b\b\b\b\b\b\b\b\b\b\b\b\b\b\b\b\b\b\b\b\b\b\b\b\b\b\b\b\b\b\b\b\b\b\b\b\b\b\b\b\b\b\b\b\b\b\b\b\b\b\b\b\b\b\b\b\b\b\r6/6 [==============================] - 1s 177ms/step - loss: 0.0204 - accuracy: 0.9944 - val_loss: 0.1272 - val_accuracy: 0.9497\n",
            "Epoch 271/600\n",
            "1/6 [====>.........................] - ETA: 0s - loss: 0.0370 - accuracy: 0.9766"
          ]
        },
        {
          "output_type": "stream",
          "name": "stderr",
          "text": [
            "\u001b[34m\u001b[1mwandb\u001b[0m: Adding directory to artifact (/content/wandb/run-20220917_094837-34p4vgkp/files/model-best)... Done. 0.1s\n"
          ]
        },
        {
          "output_type": "stream",
          "name": "stdout",
          "text": [
            "\b\b\b\b\b\b\b\b\b\b\b\b\b\b\b\b\b\b\b\b\b\b\b\b\b\b\b\b\b\b\b\b\b\b\b\b\b\b\b\b\b\b\b\b\b\b\b\b\b\b\b\b\b\b\b\b\b\b\b\b\b\b\b\b\b\b\b\b\b\b\b\b\b\b\b\b\b\b\b\b\r6/6 [==============================] - 1s 172ms/step - loss: 0.0298 - accuracy: 0.9888 - val_loss: 0.1257 - val_accuracy: 0.9553\n",
            "Epoch 272/600\n",
            "6/6 [==============================] - 0s 8ms/step - loss: 0.0292 - accuracy: 0.9902 - val_loss: 0.1274 - val_accuracy: 0.9497\n",
            "Epoch 273/600\n",
            "6/6 [==============================] - 0s 9ms/step - loss: 0.0249 - accuracy: 0.9902 - val_loss: 0.1317 - val_accuracy: 0.9441\n",
            "Epoch 274/600\n",
            "6/6 [==============================] - 0s 8ms/step - loss: 0.0275 - accuracy: 0.9874 - val_loss: 0.1273 - val_accuracy: 0.9497\n",
            "Epoch 275/600\n",
            "6/6 [==============================] - 0s 8ms/step - loss: 0.0247 - accuracy: 0.9916 - val_loss: 0.1283 - val_accuracy: 0.9497\n",
            "Epoch 276/600\n",
            "6/6 [==============================] - 0s 14ms/step - loss: 0.0242 - accuracy: 0.9944 - val_loss: 0.1309 - val_accuracy: 0.9497\n",
            "Epoch 277/600\n",
            "6/6 [==============================] - 0s 9ms/step - loss: 0.0276 - accuracy: 0.9902 - val_loss: 0.1346 - val_accuracy: 0.9441\n",
            "Epoch 278/600\n",
            "6/6 [==============================] - 0s 11ms/step - loss: 0.0212 - accuracy: 0.9930 - val_loss: 0.1384 - val_accuracy: 0.9385\n",
            "Epoch 279/600\n",
            "6/6 [==============================] - 0s 12ms/step - loss: 0.0295 - accuracy: 0.9888 - val_loss: 0.1354 - val_accuracy: 0.9441\n",
            "Epoch 280/600\n",
            "6/6 [==============================] - 0s 8ms/step - loss: 0.0219 - accuracy: 0.9930 - val_loss: 0.1367 - val_accuracy: 0.9441\n",
            "Epoch 281/600\n",
            "6/6 [==============================] - 0s 10ms/step - loss: 0.0187 - accuracy: 0.9958 - val_loss: 0.1365 - val_accuracy: 0.9497\n",
            "Epoch 282/600\n",
            "6/6 [==============================] - 0s 8ms/step - loss: 0.0316 - accuracy: 0.9874 - val_loss: 0.1334 - val_accuracy: 0.9497\n",
            "Epoch 283/600\n",
            "6/6 [==============================] - 0s 9ms/step - loss: 0.0290 - accuracy: 0.9874 - val_loss: 0.1324 - val_accuracy: 0.9497\n",
            "Epoch 284/600\n",
            "6/6 [==============================] - 0s 9ms/step - loss: 0.0204 - accuracy: 0.9944 - val_loss: 0.1305 - val_accuracy: 0.9497\n",
            "Epoch 285/600\n",
            "6/6 [==============================] - 0s 9ms/step - loss: 0.0197 - accuracy: 0.9986 - val_loss: 0.1323 - val_accuracy: 0.9497\n",
            "Epoch 286/600\n",
            "6/6 [==============================] - 0s 8ms/step - loss: 0.0152 - accuracy: 0.9986 - val_loss: 0.1334 - val_accuracy: 0.9497\n",
            "Epoch 287/600\n",
            "6/6 [==============================] - 0s 10ms/step - loss: 0.0167 - accuracy: 0.9958 - val_loss: 0.1358 - val_accuracy: 0.9553\n",
            "Epoch 288/600\n",
            "6/6 [==============================] - 0s 9ms/step - loss: 0.0183 - accuracy: 0.9930 - val_loss: 0.1351 - val_accuracy: 0.9497\n",
            "Epoch 289/600\n",
            "6/6 [==============================] - 0s 8ms/step - loss: 0.0157 - accuracy: 0.9972 - val_loss: 0.1335 - val_accuracy: 0.9497\n",
            "Epoch 290/600\n",
            "6/6 [==============================] - 0s 10ms/step - loss: 0.0197 - accuracy: 0.9930 - val_loss: 0.1314 - val_accuracy: 0.9497\n",
            "Epoch 291/600\n",
            "6/6 [==============================] - 0s 12ms/step - loss: 0.0228 - accuracy: 0.9944 - val_loss: 0.1332 - val_accuracy: 0.9497\n",
            "Epoch 292/600\n",
            "6/6 [==============================] - 0s 9ms/step - loss: 0.0140 - accuracy: 0.9986 - val_loss: 0.1364 - val_accuracy: 0.9497\n",
            "Epoch 293/600\n",
            "6/6 [==============================] - 0s 9ms/step - loss: 0.0198 - accuracy: 0.9958 - val_loss: 0.1399 - val_accuracy: 0.9497\n",
            "Epoch 294/600\n",
            "6/6 [==============================] - 0s 9ms/step - loss: 0.0253 - accuracy: 0.9874 - val_loss: 0.1447 - val_accuracy: 0.9441\n",
            "Epoch 295/600\n",
            "6/6 [==============================] - 0s 9ms/step - loss: 0.0229 - accuracy: 0.9888 - val_loss: 0.1418 - val_accuracy: 0.9441\n",
            "Epoch 296/600\n",
            "6/6 [==============================] - 0s 9ms/step - loss: 0.0205 - accuracy: 0.9958 - val_loss: 0.1374 - val_accuracy: 0.9497\n",
            "Epoch 297/600\n",
            "6/6 [==============================] - 0s 10ms/step - loss: 0.0161 - accuracy: 0.9972 - val_loss: 0.1371 - val_accuracy: 0.9497\n",
            "Epoch 298/600\n",
            "6/6 [==============================] - 0s 8ms/step - loss: 0.0179 - accuracy: 0.9958 - val_loss: 0.1379 - val_accuracy: 0.9497\n",
            "Epoch 299/600\n",
            "6/6 [==============================] - 0s 9ms/step - loss: 0.0193 - accuracy: 0.9930 - val_loss: 0.1400 - val_accuracy: 0.9497\n",
            "Epoch 300/600\n",
            "6/6 [==============================] - 0s 14ms/step - loss: 0.0184 - accuracy: 0.9944 - val_loss: 0.1415 - val_accuracy: 0.9441\n",
            "Epoch 301/600\n",
            "6/6 [==============================] - 0s 8ms/step - loss: 0.0248 - accuracy: 0.9958 - val_loss: 0.1515 - val_accuracy: 0.9441\n",
            "Epoch 302/600\n",
            "6/6 [==============================] - 0s 10ms/step - loss: 0.0176 - accuracy: 0.9930 - val_loss: 0.1471 - val_accuracy: 0.9441\n",
            "Epoch 303/600\n",
            "6/6 [==============================] - 0s 11ms/step - loss: 0.0167 - accuracy: 0.9944 - val_loss: 0.1405 - val_accuracy: 0.9497\n",
            "Epoch 304/600\n",
            "6/6 [==============================] - 0s 9ms/step - loss: 0.0189 - accuracy: 0.9916 - val_loss: 0.1402 - val_accuracy: 0.9497\n",
            "Epoch 305/600\n",
            "6/6 [==============================] - 0s 10ms/step - loss: 0.0154 - accuracy: 0.9958 - val_loss: 0.1379 - val_accuracy: 0.9497\n",
            "Epoch 306/600\n",
            "6/6 [==============================] - 0s 8ms/step - loss: 0.0195 - accuracy: 0.9958 - val_loss: 0.1393 - val_accuracy: 0.9497\n",
            "Epoch 307/600\n",
            "6/6 [==============================] - 0s 9ms/step - loss: 0.0187 - accuracy: 0.9972 - val_loss: 0.1411 - val_accuracy: 0.9497\n",
            "Epoch 308/600\n",
            "6/6 [==============================] - 0s 8ms/step - loss: 0.0203 - accuracy: 0.9944 - val_loss: 0.1433 - val_accuracy: 0.9497\n",
            "Epoch 309/600\n",
            "6/6 [==============================] - 0s 11ms/step - loss: 0.0177 - accuracy: 0.9972 - val_loss: 0.1447 - val_accuracy: 0.9497\n",
            "Epoch 310/600\n",
            "6/6 [==============================] - 0s 9ms/step - loss: 0.0265 - accuracy: 0.9902 - val_loss: 0.1442 - val_accuracy: 0.9497\n",
            "Epoch 311/600\n",
            "6/6 [==============================] - 0s 9ms/step - loss: 0.0203 - accuracy: 0.9916 - val_loss: 0.1439 - val_accuracy: 0.9497\n",
            "Epoch 312/600\n",
            "6/6 [==============================] - 0s 8ms/step - loss: 0.0125 - accuracy: 0.9972 - val_loss: 0.1433 - val_accuracy: 0.9497\n",
            "Epoch 313/600\n",
            "6/6 [==============================] - 0s 9ms/step - loss: 0.0182 - accuracy: 0.9958 - val_loss: 0.1456 - val_accuracy: 0.9497\n",
            "Epoch 314/600\n",
            "6/6 [==============================] - 0s 11ms/step - loss: 0.0218 - accuracy: 0.9902 - val_loss: 0.1409 - val_accuracy: 0.9497\n",
            "Epoch 315/600\n",
            "6/6 [==============================] - 0s 8ms/step - loss: 0.0191 - accuracy: 0.9972 - val_loss: 0.1387 - val_accuracy: 0.9497\n",
            "Epoch 316/600\n",
            "6/6 [==============================] - 0s 8ms/step - loss: 0.0227 - accuracy: 0.9902 - val_loss: 0.1385 - val_accuracy: 0.9497\n",
            "Epoch 317/600\n",
            "6/6 [==============================] - 0s 8ms/step - loss: 0.0200 - accuracy: 0.9944 - val_loss: 0.1373 - val_accuracy: 0.9497\n",
            "Epoch 318/600\n",
            "6/6 [==============================] - 0s 9ms/step - loss: 0.0136 - accuracy: 0.9986 - val_loss: 0.1375 - val_accuracy: 0.9497\n",
            "Epoch 319/600\n",
            "6/6 [==============================] - 0s 10ms/step - loss: 0.0135 - accuracy: 1.0000 - val_loss: 0.1416 - val_accuracy: 0.9441\n",
            "Epoch 320/600\n",
            "6/6 [==============================] - 0s 8ms/step - loss: 0.0191 - accuracy: 0.9958 - val_loss: 0.1401 - val_accuracy: 0.9441\n",
            "Epoch 321/600\n",
            "6/6 [==============================] - 0s 8ms/step - loss: 0.0194 - accuracy: 0.9958 - val_loss: 0.1402 - val_accuracy: 0.9497\n",
            "Epoch 322/600\n",
            "6/6 [==============================] - 0s 9ms/step - loss: 0.0135 - accuracy: 0.9972 - val_loss: 0.1407 - val_accuracy: 0.9441\n",
            "Epoch 323/600\n",
            "6/6 [==============================] - 0s 11ms/step - loss: 0.0217 - accuracy: 0.9902 - val_loss: 0.1409 - val_accuracy: 0.9441\n",
            "Epoch 324/600\n",
            "6/6 [==============================] - 0s 12ms/step - loss: 0.0165 - accuracy: 0.9902 - val_loss: 0.1361 - val_accuracy: 0.9497\n",
            "Epoch 325/600\n",
            "6/6 [==============================] - 0s 9ms/step - loss: 0.0183 - accuracy: 0.9930 - val_loss: 0.1326 - val_accuracy: 0.9497\n",
            "Epoch 326/600\n",
            "6/6 [==============================] - 0s 9ms/step - loss: 0.0286 - accuracy: 0.9916 - val_loss: 0.1324 - val_accuracy: 0.9497\n",
            "Epoch 327/600\n",
            "6/6 [==============================] - 0s 10ms/step - loss: 0.0200 - accuracy: 0.9958 - val_loss: 0.1416 - val_accuracy: 0.9385\n",
            "Epoch 328/600\n",
            "6/6 [==============================] - 0s 9ms/step - loss: 0.0186 - accuracy: 0.9902 - val_loss: 0.1387 - val_accuracy: 0.9497\n",
            "Epoch 329/600\n",
            "6/6 [==============================] - 0s 12ms/step - loss: 0.0179 - accuracy: 0.9944 - val_loss: 0.1317 - val_accuracy: 0.9497\n",
            "Epoch 330/600\n",
            "6/6 [==============================] - 0s 9ms/step - loss: 0.0146 - accuracy: 0.9972 - val_loss: 0.1301 - val_accuracy: 0.9497\n",
            "Epoch 331/600\n",
            "6/6 [==============================] - 0s 8ms/step - loss: 0.0192 - accuracy: 0.9958 - val_loss: 0.1330 - val_accuracy: 0.9497\n",
            "Epoch 332/600\n",
            "6/6 [==============================] - 0s 8ms/step - loss: 0.0224 - accuracy: 0.9930 - val_loss: 0.1382 - val_accuracy: 0.9497\n",
            "Epoch 333/600\n",
            "6/6 [==============================] - 0s 9ms/step - loss: 0.0367 - accuracy: 0.9846 - val_loss: 0.1381 - val_accuracy: 0.9497\n",
            "Epoch 334/600\n",
            "6/6 [==============================] - 0s 9ms/step - loss: 0.0255 - accuracy: 0.9916 - val_loss: 0.1422 - val_accuracy: 0.9497\n",
            "Epoch 335/600\n",
            "6/6 [==============================] - 0s 9ms/step - loss: 0.0133 - accuracy: 0.9972 - val_loss: 0.1441 - val_accuracy: 0.9441\n",
            "Epoch 336/600\n",
            "6/6 [==============================] - 0s 8ms/step - loss: 0.0152 - accuracy: 0.9958 - val_loss: 0.1445 - val_accuracy: 0.9441\n",
            "Epoch 337/600\n",
            "6/6 [==============================] - 0s 13ms/step - loss: 0.0242 - accuracy: 0.9944 - val_loss: 0.1424 - val_accuracy: 0.9497\n",
            "Epoch 338/600\n",
            "6/6 [==============================] - 0s 10ms/step - loss: 0.0195 - accuracy: 0.9944 - val_loss: 0.1437 - val_accuracy: 0.9441\n",
            "Epoch 339/600\n",
            "6/6 [==============================] - 0s 10ms/step - loss: 0.0146 - accuracy: 0.9972 - val_loss: 0.1450 - val_accuracy: 0.9441\n",
            "Epoch 340/600\n",
            "6/6 [==============================] - 0s 11ms/step - loss: 0.0155 - accuracy: 0.9972 - val_loss: 0.1463 - val_accuracy: 0.9441\n",
            "Epoch 341/600\n",
            "6/6 [==============================] - 0s 9ms/step - loss: 0.0188 - accuracy: 0.9944 - val_loss: 0.1445 - val_accuracy: 0.9441\n",
            "Epoch 342/600\n",
            "6/6 [==============================] - 0s 11ms/step - loss: 0.0157 - accuracy: 0.9930 - val_loss: 0.1439 - val_accuracy: 0.9441\n",
            "Epoch 343/600\n",
            "6/6 [==============================] - 0s 9ms/step - loss: 0.0146 - accuracy: 0.9958 - val_loss: 0.1444 - val_accuracy: 0.9441\n",
            "Epoch 344/600\n",
            "6/6 [==============================] - 0s 9ms/step - loss: 0.0228 - accuracy: 0.9916 - val_loss: 0.1449 - val_accuracy: 0.9441\n",
            "Epoch 345/600\n",
            "6/6 [==============================] - 0s 8ms/step - loss: 0.0236 - accuracy: 0.9916 - val_loss: 0.1419 - val_accuracy: 0.9385\n",
            "Epoch 346/600\n",
            "6/6 [==============================] - 0s 8ms/step - loss: 0.0130 - accuracy: 0.9958 - val_loss: 0.1361 - val_accuracy: 0.9497\n",
            "Epoch 347/600\n",
            "6/6 [==============================] - 0s 17ms/step - loss: 0.0190 - accuracy: 0.9944 - val_loss: 0.1366 - val_accuracy: 0.9497\n",
            "Epoch 348/600\n",
            "6/6 [==============================] - 0s 10ms/step - loss: 0.0169 - accuracy: 0.9944 - val_loss: 0.1378 - val_accuracy: 0.9441\n",
            "Epoch 349/600\n",
            "6/6 [==============================] - 0s 9ms/step - loss: 0.0240 - accuracy: 0.9902 - val_loss: 0.1383 - val_accuracy: 0.9441\n",
            "Epoch 350/600\n",
            "6/6 [==============================] - 0s 11ms/step - loss: 0.0225 - accuracy: 0.9930 - val_loss: 0.1390 - val_accuracy: 0.9441\n",
            "Epoch 351/600\n",
            "6/6 [==============================] - 0s 9ms/step - loss: 0.0157 - accuracy: 0.9958 - val_loss: 0.1404 - val_accuracy: 0.9441\n",
            "Epoch 352/600\n",
            "6/6 [==============================] - 0s 10ms/step - loss: 0.0213 - accuracy: 0.9930 - val_loss: 0.1378 - val_accuracy: 0.9441\n",
            "Epoch 353/600\n",
            "6/6 [==============================] - 0s 10ms/step - loss: 0.0150 - accuracy: 0.9972 - val_loss: 0.1359 - val_accuracy: 0.9441\n",
            "Epoch 354/600\n",
            "6/6 [==============================] - 0s 8ms/step - loss: 0.0146 - accuracy: 0.9972 - val_loss: 0.1354 - val_accuracy: 0.9497\n",
            "Epoch 355/600\n",
            "6/6 [==============================] - 0s 8ms/step - loss: 0.0173 - accuracy: 0.9916 - val_loss: 0.1363 - val_accuracy: 0.9441\n",
            "Epoch 356/600\n",
            "6/6 [==============================] - 0s 10ms/step - loss: 0.0114 - accuracy: 0.9972 - val_loss: 0.1377 - val_accuracy: 0.9441\n",
            "Epoch 357/600\n",
            "6/6 [==============================] - 0s 9ms/step - loss: 0.0140 - accuracy: 0.9958 - val_loss: 0.1344 - val_accuracy: 0.9441\n",
            "Epoch 358/600\n",
            "6/6 [==============================] - 0s 9ms/step - loss: 0.0155 - accuracy: 0.9958 - val_loss: 0.1327 - val_accuracy: 0.9441\n",
            "Epoch 359/600\n",
            "6/6 [==============================] - 0s 8ms/step - loss: 0.0143 - accuracy: 0.9986 - val_loss: 0.1340 - val_accuracy: 0.9441\n",
            "Epoch 360/600\n",
            "6/6 [==============================] - 0s 8ms/step - loss: 0.0135 - accuracy: 0.9958 - val_loss: 0.1331 - val_accuracy: 0.9441\n",
            "Epoch 361/600\n",
            "6/6 [==============================] - 0s 11ms/step - loss: 0.0140 - accuracy: 0.9986 - val_loss: 0.1363 - val_accuracy: 0.9441\n",
            "Epoch 362/600\n",
            "6/6 [==============================] - 0s 11ms/step - loss: 0.0115 - accuracy: 0.9972 - val_loss: 0.1384 - val_accuracy: 0.9385\n",
            "Epoch 363/600\n",
            "6/6 [==============================] - 0s 10ms/step - loss: 0.0225 - accuracy: 0.9902 - val_loss: 0.1365 - val_accuracy: 0.9497\n",
            "Epoch 364/600\n",
            "6/6 [==============================] - 0s 10ms/step - loss: 0.0221 - accuracy: 0.9958 - val_loss: 0.1351 - val_accuracy: 0.9497\n",
            "Epoch 365/600\n",
            "6/6 [==============================] - 0s 11ms/step - loss: 0.0087 - accuracy: 0.9986 - val_loss: 0.1341 - val_accuracy: 0.9497\n",
            "Epoch 366/600\n",
            "6/6 [==============================] - 0s 11ms/step - loss: 0.0096 - accuracy: 0.9986 - val_loss: 0.1358 - val_accuracy: 0.9497\n",
            "Epoch 367/600\n",
            "6/6 [==============================] - 0s 9ms/step - loss: 0.0135 - accuracy: 0.9944 - val_loss: 0.1391 - val_accuracy: 0.9441\n",
            "Epoch 368/600\n",
            "6/6 [==============================] - 0s 15ms/step - loss: 0.0201 - accuracy: 0.9916 - val_loss: 0.1446 - val_accuracy: 0.9497\n",
            "Epoch 369/600\n",
            "6/6 [==============================] - 0s 9ms/step - loss: 0.0183 - accuracy: 0.9944 - val_loss: 0.1522 - val_accuracy: 0.9385\n",
            "Epoch 370/600\n",
            "6/6 [==============================] - 0s 9ms/step - loss: 0.0138 - accuracy: 0.9986 - val_loss: 0.1514 - val_accuracy: 0.9385\n",
            "Epoch 371/600\n",
            "6/6 [==============================] - 0s 12ms/step - loss: 0.0182 - accuracy: 0.9916 - val_loss: 0.1460 - val_accuracy: 0.9497\n",
            "Epoch 372/600\n",
            "6/6 [==============================] - 0s 12ms/step - loss: 0.0246 - accuracy: 0.9944 - val_loss: 0.1432 - val_accuracy: 0.9441\n",
            "Epoch 373/600\n",
            "6/6 [==============================] - 0s 9ms/step - loss: 0.0151 - accuracy: 0.9958 - val_loss: 0.1413 - val_accuracy: 0.9441\n",
            "Epoch 374/600\n",
            "6/6 [==============================] - 0s 9ms/step - loss: 0.0158 - accuracy: 0.9944 - val_loss: 0.1427 - val_accuracy: 0.9441\n",
            "Epoch 375/600\n",
            "6/6 [==============================] - 0s 9ms/step - loss: 0.0150 - accuracy: 0.9986 - val_loss: 0.1519 - val_accuracy: 0.9385\n",
            "Epoch 376/600\n",
            "6/6 [==============================] - 0s 9ms/step - loss: 0.0155 - accuracy: 0.9944 - val_loss: 0.1572 - val_accuracy: 0.9330\n",
            "Epoch 377/600\n",
            "6/6 [==============================] - 0s 11ms/step - loss: 0.0146 - accuracy: 0.9930 - val_loss: 0.1533 - val_accuracy: 0.9330\n",
            "Epoch 378/600\n",
            "6/6 [==============================] - 0s 9ms/step - loss: 0.0104 - accuracy: 0.9986 - val_loss: 0.1485 - val_accuracy: 0.9385\n",
            "Epoch 379/600\n",
            "6/6 [==============================] - 0s 9ms/step - loss: 0.0153 - accuracy: 0.9930 - val_loss: 0.1445 - val_accuracy: 0.9441\n",
            "Epoch 380/600\n",
            "6/6 [==============================] - 0s 13ms/step - loss: 0.0175 - accuracy: 0.9930 - val_loss: 0.1442 - val_accuracy: 0.9441\n",
            "Epoch 381/600\n",
            "6/6 [==============================] - 0s 11ms/step - loss: 0.0152 - accuracy: 0.9930 - val_loss: 0.1504 - val_accuracy: 0.9441\n",
            "Epoch 382/600\n",
            "6/6 [==============================] - 0s 12ms/step - loss: 0.0222 - accuracy: 0.9902 - val_loss: 0.1524 - val_accuracy: 0.9441\n",
            "Epoch 383/600\n",
            "6/6 [==============================] - 0s 10ms/step - loss: 0.0099 - accuracy: 1.0000 - val_loss: 0.1511 - val_accuracy: 0.9441\n",
            "Epoch 384/600\n",
            "6/6 [==============================] - 0s 9ms/step - loss: 0.0205 - accuracy: 0.9902 - val_loss: 0.1510 - val_accuracy: 0.9441\n",
            "Epoch 385/600\n",
            "6/6 [==============================] - 0s 9ms/step - loss: 0.0164 - accuracy: 0.9930 - val_loss: 0.1497 - val_accuracy: 0.9497\n",
            "Epoch 386/600\n",
            "6/6 [==============================] - 0s 8ms/step - loss: 0.0132 - accuracy: 0.9944 - val_loss: 0.1488 - val_accuracy: 0.9497\n",
            "Epoch 387/600\n",
            "6/6 [==============================] - 0s 10ms/step - loss: 0.0186 - accuracy: 0.9944 - val_loss: 0.1481 - val_accuracy: 0.9497\n",
            "Epoch 388/600\n",
            "6/6 [==============================] - 0s 10ms/step - loss: 0.0203 - accuracy: 0.9944 - val_loss: 0.1474 - val_accuracy: 0.9497\n",
            "Epoch 389/600\n",
            "6/6 [==============================] - 0s 9ms/step - loss: 0.0257 - accuracy: 0.9888 - val_loss: 0.1448 - val_accuracy: 0.9497\n",
            "Epoch 390/600\n",
            "6/6 [==============================] - 0s 8ms/step - loss: 0.0188 - accuracy: 0.9958 - val_loss: 0.1398 - val_accuracy: 0.9497\n",
            "Epoch 391/600\n",
            "6/6 [==============================] - 0s 9ms/step - loss: 0.0215 - accuracy: 0.9902 - val_loss: 0.1389 - val_accuracy: 0.9497\n",
            "Epoch 392/600\n",
            "6/6 [==============================] - 0s 9ms/step - loss: 0.0124 - accuracy: 0.9986 - val_loss: 0.1403 - val_accuracy: 0.9497\n",
            "Epoch 393/600\n",
            "6/6 [==============================] - 0s 9ms/step - loss: 0.0140 - accuracy: 0.9944 - val_loss: 0.1425 - val_accuracy: 0.9553\n",
            "Epoch 394/600\n",
            "6/6 [==============================] - 0s 9ms/step - loss: 0.0128 - accuracy: 0.9986 - val_loss: 0.1447 - val_accuracy: 0.9553\n",
            "Epoch 395/600\n",
            "6/6 [==============================] - 0s 9ms/step - loss: 0.0155 - accuracy: 0.9916 - val_loss: 0.1416 - val_accuracy: 0.9553\n",
            "Epoch 396/600\n",
            "6/6 [==============================] - 0s 10ms/step - loss: 0.0124 - accuracy: 0.9972 - val_loss: 0.1405 - val_accuracy: 0.9553\n",
            "Epoch 397/600\n",
            "6/6 [==============================] - 0s 8ms/step - loss: 0.0169 - accuracy: 0.9930 - val_loss: 0.1352 - val_accuracy: 0.9497\n",
            "Epoch 398/600\n",
            "6/6 [==============================] - 0s 9ms/step - loss: 0.0101 - accuracy: 0.9986 - val_loss: 0.1383 - val_accuracy: 0.9497\n",
            "Epoch 399/600\n",
            "6/6 [==============================] - 0s 10ms/step - loss: 0.0143 - accuracy: 0.9944 - val_loss: 0.1377 - val_accuracy: 0.9497\n",
            "Epoch 400/600\n",
            "6/6 [==============================] - 0s 8ms/step - loss: 0.0141 - accuracy: 0.9958 - val_loss: 0.1361 - val_accuracy: 0.9497\n",
            "Epoch 401/600\n",
            "6/6 [==============================] - 0s 8ms/step - loss: 0.0153 - accuracy: 0.9958 - val_loss: 0.1381 - val_accuracy: 0.9497\n",
            "Epoch 402/600\n",
            "6/6 [==============================] - 0s 11ms/step - loss: 0.0097 - accuracy: 1.0000 - val_loss: 0.1385 - val_accuracy: 0.9497\n",
            "Epoch 403/600\n",
            "6/6 [==============================] - 0s 8ms/step - loss: 0.0194 - accuracy: 0.9930 - val_loss: 0.1404 - val_accuracy: 0.9497\n",
            "Epoch 404/600\n",
            "6/6 [==============================] - 0s 10ms/step - loss: 0.0195 - accuracy: 0.9902 - val_loss: 0.1355 - val_accuracy: 0.9497\n",
            "Epoch 405/600\n",
            "6/6 [==============================] - 0s 14ms/step - loss: 0.0170 - accuracy: 0.9958 - val_loss: 0.1361 - val_accuracy: 0.9497\n",
            "Epoch 406/600\n",
            "6/6 [==============================] - 0s 9ms/step - loss: 0.0115 - accuracy: 0.9958 - val_loss: 0.1407 - val_accuracy: 0.9497\n",
            "Epoch 407/600\n",
            "6/6 [==============================] - 0s 10ms/step - loss: 0.0298 - accuracy: 0.9888 - val_loss: 0.1409 - val_accuracy: 0.9497\n",
            "Epoch 408/600\n",
            "6/6 [==============================] - 0s 11ms/step - loss: 0.0147 - accuracy: 0.9944 - val_loss: 0.1398 - val_accuracy: 0.9497\n",
            "Epoch 409/600\n",
            "6/6 [==============================] - 0s 8ms/step - loss: 0.0114 - accuracy: 0.9958 - val_loss: 0.1381 - val_accuracy: 0.9497\n",
            "Epoch 410/600\n",
            "6/6 [==============================] - 0s 12ms/step - loss: 0.0089 - accuracy: 0.9986 - val_loss: 0.1397 - val_accuracy: 0.9441\n",
            "Epoch 411/600\n",
            "6/6 [==============================] - 0s 10ms/step - loss: 0.0109 - accuracy: 0.9972 - val_loss: 0.1444 - val_accuracy: 0.9497\n",
            "Epoch 412/600\n",
            "6/6 [==============================] - 0s 11ms/step - loss: 0.0143 - accuracy: 0.9944 - val_loss: 0.1421 - val_accuracy: 0.9441\n",
            "Epoch 413/600\n",
            "6/6 [==============================] - 0s 10ms/step - loss: 0.0105 - accuracy: 0.9972 - val_loss: 0.1439 - val_accuracy: 0.9441\n",
            "Epoch 414/600\n",
            "6/6 [==============================] - 0s 12ms/step - loss: 0.0190 - accuracy: 0.9930 - val_loss: 0.1469 - val_accuracy: 0.9441\n",
            "Epoch 415/600\n",
            "6/6 [==============================] - 0s 9ms/step - loss: 0.0108 - accuracy: 0.9958 - val_loss: 0.1473 - val_accuracy: 0.9441\n",
            "Epoch 416/600\n",
            "6/6 [==============================] - 0s 11ms/step - loss: 0.0172 - accuracy: 0.9930 - val_loss: 0.1430 - val_accuracy: 0.9441\n",
            "Epoch 417/600\n",
            "6/6 [==============================] - 0s 8ms/step - loss: 0.0117 - accuracy: 0.9958 - val_loss: 0.1403 - val_accuracy: 0.9553\n",
            "Epoch 418/600\n",
            "6/6 [==============================] - 0s 8ms/step - loss: 0.0112 - accuracy: 0.9972 - val_loss: 0.1390 - val_accuracy: 0.9553\n",
            "Epoch 419/600\n",
            "6/6 [==============================] - 0s 10ms/step - loss: 0.0186 - accuracy: 0.9944 - val_loss: 0.1397 - val_accuracy: 0.9497\n",
            "Epoch 420/600\n",
            "6/6 [==============================] - 0s 9ms/step - loss: 0.0087 - accuracy: 1.0000 - val_loss: 0.1406 - val_accuracy: 0.9441\n",
            "Epoch 421/600\n",
            "6/6 [==============================] - 0s 15ms/step - loss: 0.0118 - accuracy: 0.9958 - val_loss: 0.1364 - val_accuracy: 0.9497\n",
            "Epoch 422/600\n",
            "6/6 [==============================] - 0s 14ms/step - loss: 0.0158 - accuracy: 0.9944 - val_loss: 0.1322 - val_accuracy: 0.9497\n",
            "Epoch 423/600\n",
            "6/6 [==============================] - 0s 13ms/step - loss: 0.0183 - accuracy: 0.9944 - val_loss: 0.1341 - val_accuracy: 0.9497\n",
            "Epoch 424/600\n",
            "6/6 [==============================] - 0s 12ms/step - loss: 0.0138 - accuracy: 0.9944 - val_loss: 0.1413 - val_accuracy: 0.9497\n",
            "Epoch 425/600\n",
            "6/6 [==============================] - 0s 14ms/step - loss: 0.0101 - accuracy: 0.9986 - val_loss: 0.1405 - val_accuracy: 0.9441\n",
            "Epoch 426/600\n",
            "6/6 [==============================] - 0s 16ms/step - loss: 0.0153 - accuracy: 0.9930 - val_loss: 0.1392 - val_accuracy: 0.9497\n",
            "Epoch 427/600\n",
            "6/6 [==============================] - 0s 9ms/step - loss: 0.0135 - accuracy: 0.9944 - val_loss: 0.1362 - val_accuracy: 0.9497\n",
            "Epoch 428/600\n",
            "6/6 [==============================] - 0s 11ms/step - loss: 0.0145 - accuracy: 0.9958 - val_loss: 0.1371 - val_accuracy: 0.9441\n",
            "Epoch 429/600\n",
            "6/6 [==============================] - 0s 9ms/step - loss: 0.0105 - accuracy: 0.9986 - val_loss: 0.1402 - val_accuracy: 0.9497\n",
            "Epoch 430/600\n",
            "6/6 [==============================] - 0s 10ms/step - loss: 0.0149 - accuracy: 0.9944 - val_loss: 0.1436 - val_accuracy: 0.9497\n",
            "Epoch 431/600\n",
            "6/6 [==============================] - 0s 11ms/step - loss: 0.0073 - accuracy: 1.0000 - val_loss: 0.1453 - val_accuracy: 0.9497\n",
            "Epoch 432/600\n",
            "6/6 [==============================] - 0s 13ms/step - loss: 0.0120 - accuracy: 0.9958 - val_loss: 0.1432 - val_accuracy: 0.9497\n",
            "Epoch 433/600\n",
            "6/6 [==============================] - 0s 12ms/step - loss: 0.0119 - accuracy: 0.9972 - val_loss: 0.1403 - val_accuracy: 0.9497\n",
            "Epoch 434/600\n",
            "6/6 [==============================] - 0s 10ms/step - loss: 0.0087 - accuracy: 0.9972 - val_loss: 0.1385 - val_accuracy: 0.9497\n",
            "Epoch 435/600\n",
            "6/6 [==============================] - 0s 9ms/step - loss: 0.0118 - accuracy: 0.9986 - val_loss: 0.1376 - val_accuracy: 0.9497\n",
            "Epoch 436/600\n",
            "6/6 [==============================] - 0s 11ms/step - loss: 0.0141 - accuracy: 0.9958 - val_loss: 0.1347 - val_accuracy: 0.9553\n",
            "Epoch 437/600\n",
            "6/6 [==============================] - 0s 13ms/step - loss: 0.0090 - accuracy: 0.9986 - val_loss: 0.1343 - val_accuracy: 0.9553\n",
            "Epoch 438/600\n",
            "6/6 [==============================] - 0s 9ms/step - loss: 0.0149 - accuracy: 0.9972 - val_loss: 0.1353 - val_accuracy: 0.9497\n",
            "Epoch 439/600\n",
            "6/6 [==============================] - 0s 9ms/step - loss: 0.0176 - accuracy: 0.9916 - val_loss: 0.1376 - val_accuracy: 0.9497\n",
            "Epoch 440/600\n",
            "6/6 [==============================] - 0s 13ms/step - loss: 0.0105 - accuracy: 0.9972 - val_loss: 0.1405 - val_accuracy: 0.9441\n",
            "Epoch 441/600\n",
            "6/6 [==============================] - 0s 11ms/step - loss: 0.0072 - accuracy: 1.0000 - val_loss: 0.1416 - val_accuracy: 0.9441\n",
            "Epoch 442/600\n",
            "6/6 [==============================] - 0s 10ms/step - loss: 0.0185 - accuracy: 0.9916 - val_loss: 0.1392 - val_accuracy: 0.9441\n",
            "Epoch 443/600\n",
            "6/6 [==============================] - 0s 10ms/step - loss: 0.0089 - accuracy: 0.9986 - val_loss: 0.1432 - val_accuracy: 0.9497\n",
            "Epoch 444/600\n",
            "6/6 [==============================] - 0s 9ms/step - loss: 0.0125 - accuracy: 0.9972 - val_loss: 0.1409 - val_accuracy: 0.9497\n",
            "Epoch 445/600\n",
            "6/6 [==============================] - 0s 10ms/step - loss: 0.0166 - accuracy: 0.9916 - val_loss: 0.1340 - val_accuracy: 0.9553\n",
            "Epoch 446/600\n",
            "6/6 [==============================] - 0s 11ms/step - loss: 0.0085 - accuracy: 1.0000 - val_loss: 0.1337 - val_accuracy: 0.9497\n",
            "Epoch 447/600\n",
            "6/6 [==============================] - 0s 9ms/step - loss: 0.0140 - accuracy: 0.9958 - val_loss: 0.1361 - val_accuracy: 0.9553\n",
            "Epoch 448/600\n",
            "6/6 [==============================] - 0s 10ms/step - loss: 0.0069 - accuracy: 0.9972 - val_loss: 0.1406 - val_accuracy: 0.9497\n",
            "Epoch 449/600\n",
            "6/6 [==============================] - 0s 13ms/step - loss: 0.0135 - accuracy: 0.9958 - val_loss: 0.1431 - val_accuracy: 0.9497\n",
            "Epoch 450/600\n",
            "6/6 [==============================] - 0s 10ms/step - loss: 0.0115 - accuracy: 0.9972 - val_loss: 0.1421 - val_accuracy: 0.9497\n",
            "Epoch 451/600\n",
            "6/6 [==============================] - 0s 10ms/step - loss: 0.0104 - accuracy: 0.9986 - val_loss: 0.1458 - val_accuracy: 0.9497\n",
            "Epoch 452/600\n",
            "6/6 [==============================] - 0s 9ms/step - loss: 0.0101 - accuracy: 0.9986 - val_loss: 0.1505 - val_accuracy: 0.9497\n",
            "Epoch 453/600\n",
            "6/6 [==============================] - 0s 11ms/step - loss: 0.0104 - accuracy: 0.9972 - val_loss: 0.1501 - val_accuracy: 0.9497\n",
            "Epoch 454/600\n",
            "6/6 [==============================] - 0s 17ms/step - loss: 0.0166 - accuracy: 0.9972 - val_loss: 0.1471 - val_accuracy: 0.9497\n",
            "Epoch 455/600\n",
            "6/6 [==============================] - 0s 12ms/step - loss: 0.0094 - accuracy: 0.9958 - val_loss: 0.1416 - val_accuracy: 0.9497\n",
            "Epoch 456/600\n",
            "6/6 [==============================] - 0s 15ms/step - loss: 0.0069 - accuracy: 1.0000 - val_loss: 0.1405 - val_accuracy: 0.9497\n",
            "Epoch 457/600\n",
            "6/6 [==============================] - 0s 9ms/step - loss: 0.0147 - accuracy: 0.9944 - val_loss: 0.1430 - val_accuracy: 0.9441\n",
            "Epoch 458/600\n",
            "6/6 [==============================] - 0s 11ms/step - loss: 0.0159 - accuracy: 0.9958 - val_loss: 0.1462 - val_accuracy: 0.9497\n",
            "Epoch 459/600\n",
            "6/6 [==============================] - 0s 16ms/step - loss: 0.0081 - accuracy: 1.0000 - val_loss: 0.1482 - val_accuracy: 0.9497\n",
            "Epoch 460/600\n",
            "6/6 [==============================] - 0s 9ms/step - loss: 0.0080 - accuracy: 1.0000 - val_loss: 0.1472 - val_accuracy: 0.9497\n",
            "Epoch 461/600\n",
            "6/6 [==============================] - 0s 9ms/step - loss: 0.0132 - accuracy: 0.9958 - val_loss: 0.1435 - val_accuracy: 0.9441\n",
            "Epoch 462/600\n",
            "6/6 [==============================] - 0s 11ms/step - loss: 0.0073 - accuracy: 1.0000 - val_loss: 0.1422 - val_accuracy: 0.9553\n",
            "Epoch 463/600\n",
            "6/6 [==============================] - 0s 13ms/step - loss: 0.0113 - accuracy: 0.9944 - val_loss: 0.1402 - val_accuracy: 0.9553\n",
            "Epoch 464/600\n",
            "6/6 [==============================] - 0s 9ms/step - loss: 0.0118 - accuracy: 0.9916 - val_loss: 0.1380 - val_accuracy: 0.9553\n",
            "Epoch 465/600\n",
            "6/6 [==============================] - 0s 9ms/step - loss: 0.0101 - accuracy: 0.9958 - val_loss: 0.1359 - val_accuracy: 0.9497\n",
            "Epoch 466/600\n",
            "6/6 [==============================] - 0s 8ms/step - loss: 0.0122 - accuracy: 0.9944 - val_loss: 0.1337 - val_accuracy: 0.9553\n",
            "Epoch 467/600\n",
            "6/6 [==============================] - 0s 11ms/step - loss: 0.0055 - accuracy: 0.9986 - val_loss: 0.1347 - val_accuracy: 0.9553\n",
            "Epoch 468/600\n",
            "6/6 [==============================] - 0s 8ms/step - loss: 0.0086 - accuracy: 0.9986 - val_loss: 0.1377 - val_accuracy: 0.9553\n",
            "Epoch 469/600\n",
            "6/6 [==============================] - 0s 9ms/step - loss: 0.0206 - accuracy: 0.9916 - val_loss: 0.1421 - val_accuracy: 0.9441\n",
            "Epoch 470/600\n",
            "6/6 [==============================] - 0s 9ms/step - loss: 0.0173 - accuracy: 0.9958 - val_loss: 0.1442 - val_accuracy: 0.9441\n",
            "Epoch 471/600\n",
            "6/6 [==============================] - 0s 10ms/step - loss: 0.0088 - accuracy: 0.9972 - val_loss: 0.1418 - val_accuracy: 0.9441\n",
            "Epoch 472/600\n",
            "6/6 [==============================] - 0s 10ms/step - loss: 0.0108 - accuracy: 0.9930 - val_loss: 0.1404 - val_accuracy: 0.9441\n",
            "Epoch 473/600\n",
            "6/6 [==============================] - 0s 9ms/step - loss: 0.0128 - accuracy: 0.9958 - val_loss: 0.1394 - val_accuracy: 0.9441\n",
            "Epoch 474/600\n",
            "6/6 [==============================] - 0s 12ms/step - loss: 0.0128 - accuracy: 0.9944 - val_loss: 0.1394 - val_accuracy: 0.9441\n",
            "Epoch 475/600\n",
            "6/6 [==============================] - 0s 10ms/step - loss: 0.0083 - accuracy: 0.9986 - val_loss: 0.1397 - val_accuracy: 0.9441\n",
            "Epoch 476/600\n",
            "6/6 [==============================] - 0s 9ms/step - loss: 0.0100 - accuracy: 0.9972 - val_loss: 0.1357 - val_accuracy: 0.9497\n",
            "Epoch 477/600\n",
            "6/6 [==============================] - 0s 9ms/step - loss: 0.0199 - accuracy: 0.9958 - val_loss: 0.1347 - val_accuracy: 0.9497\n",
            "Epoch 478/600\n",
            "6/6 [==============================] - 0s 9ms/step - loss: 0.0074 - accuracy: 0.9986 - val_loss: 0.1338 - val_accuracy: 0.9553\n",
            "Epoch 479/600\n",
            "6/6 [==============================] - 0s 9ms/step - loss: 0.0064 - accuracy: 1.0000 - val_loss: 0.1338 - val_accuracy: 0.9553\n",
            "Epoch 480/600\n",
            "6/6 [==============================] - 0s 8ms/step - loss: 0.0139 - accuracy: 0.9972 - val_loss: 0.1376 - val_accuracy: 0.9441\n",
            "Epoch 481/600\n",
            "6/6 [==============================] - 0s 9ms/step - loss: 0.0106 - accuracy: 0.9958 - val_loss: 0.1380 - val_accuracy: 0.9441\n",
            "Epoch 482/600\n",
            "6/6 [==============================] - 0s 10ms/step - loss: 0.0092 - accuracy: 0.9986 - val_loss: 0.1380 - val_accuracy: 0.9497\n",
            "Epoch 483/600\n",
            "6/6 [==============================] - 0s 13ms/step - loss: 0.0129 - accuracy: 0.9958 - val_loss: 0.1367 - val_accuracy: 0.9497\n",
            "Epoch 484/600\n",
            "6/6 [==============================] - 0s 10ms/step - loss: 0.0086 - accuracy: 0.9958 - val_loss: 0.1346 - val_accuracy: 0.9497\n",
            "Epoch 485/600\n",
            "6/6 [==============================] - 0s 9ms/step - loss: 0.0115 - accuracy: 0.9958 - val_loss: 0.1331 - val_accuracy: 0.9497\n",
            "Epoch 486/600\n",
            "6/6 [==============================] - 0s 11ms/step - loss: 0.0133 - accuracy: 0.9972 - val_loss: 0.1335 - val_accuracy: 0.9497\n",
            "Epoch 487/600\n",
            "6/6 [==============================] - 0s 10ms/step - loss: 0.0127 - accuracy: 0.9972 - val_loss: 0.1354 - val_accuracy: 0.9441\n",
            "Epoch 488/600\n",
            "6/6 [==============================] - 0s 9ms/step - loss: 0.0137 - accuracy: 0.9958 - val_loss: 0.1379 - val_accuracy: 0.9497\n",
            "Epoch 489/600\n",
            "6/6 [==============================] - 0s 12ms/step - loss: 0.0090 - accuracy: 0.9958 - val_loss: 0.1382 - val_accuracy: 0.9553\n",
            "Epoch 490/600\n",
            "6/6 [==============================] - 0s 9ms/step - loss: 0.0093 - accuracy: 0.9986 - val_loss: 0.1395 - val_accuracy: 0.9553\n",
            "Epoch 491/600\n",
            "6/6 [==============================] - 0s 10ms/step - loss: 0.0153 - accuracy: 0.9944 - val_loss: 0.1395 - val_accuracy: 0.9497\n",
            "Epoch 492/600\n",
            "6/6 [==============================] - 0s 9ms/step - loss: 0.0110 - accuracy: 0.9972 - val_loss: 0.1411 - val_accuracy: 0.9497\n",
            "Epoch 493/600\n",
            "6/6 [==============================] - 0s 9ms/step - loss: 0.0067 - accuracy: 0.9986 - val_loss: 0.1488 - val_accuracy: 0.9497\n",
            "Epoch 494/600\n",
            "6/6 [==============================] - 0s 9ms/step - loss: 0.0088 - accuracy: 0.9930 - val_loss: 0.1497 - val_accuracy: 0.9497\n",
            "Epoch 495/600\n",
            "6/6 [==============================] - 0s 12ms/step - loss: 0.0193 - accuracy: 0.9958 - val_loss: 0.1458 - val_accuracy: 0.9497\n",
            "Epoch 496/600\n",
            "6/6 [==============================] - 0s 14ms/step - loss: 0.0070 - accuracy: 0.9986 - val_loss: 0.1449 - val_accuracy: 0.9497\n",
            "Epoch 497/600\n",
            "6/6 [==============================] - 0s 10ms/step - loss: 0.0101 - accuracy: 0.9944 - val_loss: 0.1442 - val_accuracy: 0.9441\n",
            "Epoch 498/600\n",
            "6/6 [==============================] - 0s 14ms/step - loss: 0.0106 - accuracy: 0.9958 - val_loss: 0.1423 - val_accuracy: 0.9441\n",
            "Epoch 499/600\n",
            "6/6 [==============================] - 0s 11ms/step - loss: 0.0173 - accuracy: 0.9958 - val_loss: 0.1390 - val_accuracy: 0.9497\n",
            "Epoch 500/600\n",
            "6/6 [==============================] - 0s 12ms/step - loss: 0.0092 - accuracy: 0.9972 - val_loss: 0.1390 - val_accuracy: 0.9441\n",
            "Epoch 501/600\n",
            "6/6 [==============================] - 0s 13ms/step - loss: 0.0154 - accuracy: 0.9958 - val_loss: 0.1403 - val_accuracy: 0.9441\n",
            "Epoch 502/600\n",
            "6/6 [==============================] - 0s 11ms/step - loss: 0.0083 - accuracy: 0.9958 - val_loss: 0.1427 - val_accuracy: 0.9441\n",
            "Epoch 503/600\n",
            "6/6 [==============================] - 0s 19ms/step - loss: 0.0081 - accuracy: 0.9986 - val_loss: 0.1431 - val_accuracy: 0.9441\n",
            "Epoch 504/600\n",
            "6/6 [==============================] - 0s 11ms/step - loss: 0.0094 - accuracy: 0.9986 - val_loss: 0.1427 - val_accuracy: 0.9441\n",
            "Epoch 505/600\n",
            "6/6 [==============================] - 0s 11ms/step - loss: 0.0123 - accuracy: 0.9986 - val_loss: 0.1426 - val_accuracy: 0.9441\n",
            "Epoch 506/600\n",
            "6/6 [==============================] - 0s 11ms/step - loss: 0.0116 - accuracy: 0.9986 - val_loss: 0.1488 - val_accuracy: 0.9441\n",
            "Epoch 507/600\n",
            "6/6 [==============================] - 0s 9ms/step - loss: 0.0086 - accuracy: 0.9972 - val_loss: 0.1539 - val_accuracy: 0.9441\n",
            "Epoch 508/600\n",
            "6/6 [==============================] - 0s 8ms/step - loss: 0.0087 - accuracy: 0.9972 - val_loss: 0.1503 - val_accuracy: 0.9497\n",
            "Epoch 509/600\n",
            "6/6 [==============================] - 0s 9ms/step - loss: 0.0079 - accuracy: 0.9972 - val_loss: 0.1468 - val_accuracy: 0.9497\n",
            "Epoch 510/600\n",
            "6/6 [==============================] - 0s 13ms/step - loss: 0.0167 - accuracy: 0.9902 - val_loss: 0.1431 - val_accuracy: 0.9497\n",
            "Epoch 511/600\n",
            "6/6 [==============================] - 0s 10ms/step - loss: 0.0111 - accuracy: 0.9972 - val_loss: 0.1362 - val_accuracy: 0.9553\n",
            "Epoch 512/600\n",
            "6/6 [==============================] - 0s 8ms/step - loss: 0.0112 - accuracy: 0.9958 - val_loss: 0.1327 - val_accuracy: 0.9553\n",
            "Epoch 513/600\n",
            "6/6 [==============================] - 0s 8ms/step - loss: 0.0157 - accuracy: 0.9944 - val_loss: 0.1313 - val_accuracy: 0.9553\n",
            "Epoch 514/600\n",
            "6/6 [==============================] - 0s 9ms/step - loss: 0.0149 - accuracy: 0.9944 - val_loss: 0.1322 - val_accuracy: 0.9553\n",
            "Epoch 515/600\n",
            "6/6 [==============================] - 0s 9ms/step - loss: 0.0072 - accuracy: 0.9986 - val_loss: 0.1330 - val_accuracy: 0.9497\n",
            "Epoch 516/600\n",
            "6/6 [==============================] - 0s 9ms/step - loss: 0.0116 - accuracy: 0.9986 - val_loss: 0.1308 - val_accuracy: 0.9497\n",
            "Epoch 517/600\n",
            "6/6 [==============================] - 0s 9ms/step - loss: 0.0075 - accuracy: 0.9986 - val_loss: 0.1318 - val_accuracy: 0.9497\n",
            "Epoch 518/600\n",
            "6/6 [==============================] - 0s 9ms/step - loss: 0.0150 - accuracy: 0.9930 - val_loss: 0.1309 - val_accuracy: 0.9497\n",
            "Epoch 519/600\n",
            "6/6 [==============================] - 0s 10ms/step - loss: 0.0086 - accuracy: 0.9986 - val_loss: 0.1336 - val_accuracy: 0.9441\n",
            "Epoch 520/600\n",
            "6/6 [==============================] - 0s 10ms/step - loss: 0.0063 - accuracy: 0.9986 - val_loss: 0.1361 - val_accuracy: 0.9497\n",
            "Epoch 521/600\n",
            "6/6 [==============================] - 0s 11ms/step - loss: 0.0111 - accuracy: 0.9944 - val_loss: 0.1368 - val_accuracy: 0.9497\n",
            "Epoch 522/600\n",
            "6/6 [==============================] - 0s 11ms/step - loss: 0.0096 - accuracy: 0.9958 - val_loss: 0.1353 - val_accuracy: 0.9497\n",
            "Epoch 523/600\n",
            "6/6 [==============================] - 0s 10ms/step - loss: 0.0058 - accuracy: 0.9986 - val_loss: 0.1330 - val_accuracy: 0.9553\n",
            "Epoch 524/600\n",
            "6/6 [==============================] - 0s 10ms/step - loss: 0.0104 - accuracy: 0.9986 - val_loss: 0.1329 - val_accuracy: 0.9553\n",
            "Epoch 525/600\n",
            "6/6 [==============================] - 0s 10ms/step - loss: 0.0106 - accuracy: 0.9972 - val_loss: 0.1312 - val_accuracy: 0.9553\n",
            "Epoch 526/600\n",
            "6/6 [==============================] - 0s 9ms/step - loss: 0.0063 - accuracy: 1.0000 - val_loss: 0.1296 - val_accuracy: 0.9553\n",
            "Epoch 527/600\n",
            "6/6 [==============================] - 0s 11ms/step - loss: 0.0122 - accuracy: 0.9972 - val_loss: 0.1293 - val_accuracy: 0.9609\n",
            "Epoch 528/600\n",
            "6/6 [==============================] - 0s 8ms/step - loss: 0.0081 - accuracy: 0.9972 - val_loss: 0.1279 - val_accuracy: 0.9553\n",
            "Epoch 529/600\n",
            "6/6 [==============================] - 0s 10ms/step - loss: 0.0072 - accuracy: 0.9986 - val_loss: 0.1268 - val_accuracy: 0.9553\n",
            "Epoch 530/600\n",
            "6/6 [==============================] - 0s 9ms/step - loss: 0.0074 - accuracy: 0.9972 - val_loss: 0.1269 - val_accuracy: 0.9553\n",
            "Epoch 531/600\n",
            "6/6 [==============================] - 0s 9ms/step - loss: 0.0054 - accuracy: 0.9986 - val_loss: 0.1305 - val_accuracy: 0.9497\n",
            "Epoch 532/600\n",
            "6/6 [==============================] - 0s 9ms/step - loss: 0.0077 - accuracy: 0.9944 - val_loss: 0.1335 - val_accuracy: 0.9497\n",
            "Epoch 533/600\n",
            "6/6 [==============================] - 0s 11ms/step - loss: 0.0115 - accuracy: 0.9972 - val_loss: 0.1345 - val_accuracy: 0.9497\n",
            "Epoch 534/600\n",
            "6/6 [==============================] - 0s 10ms/step - loss: 0.0185 - accuracy: 0.9916 - val_loss: 0.1395 - val_accuracy: 0.9497\n",
            "Epoch 535/600\n",
            "6/6 [==============================] - 0s 9ms/step - loss: 0.0061 - accuracy: 0.9986 - val_loss: 0.1437 - val_accuracy: 0.9497\n",
            "Epoch 536/600\n",
            "6/6 [==============================] - 0s 9ms/step - loss: 0.0088 - accuracy: 0.9958 - val_loss: 0.1430 - val_accuracy: 0.9497\n",
            "Epoch 537/600\n",
            "6/6 [==============================] - 0s 10ms/step - loss: 0.0069 - accuracy: 0.9986 - val_loss: 0.1380 - val_accuracy: 0.9553\n",
            "Epoch 538/600\n",
            "6/6 [==============================] - 0s 9ms/step - loss: 0.0066 - accuracy: 1.0000 - val_loss: 0.1364 - val_accuracy: 0.9553\n",
            "Epoch 539/600\n",
            "6/6 [==============================] - 0s 10ms/step - loss: 0.0102 - accuracy: 0.9972 - val_loss: 0.1354 - val_accuracy: 0.9497\n",
            "Epoch 540/600\n",
            "6/6 [==============================] - 0s 9ms/step - loss: 0.0138 - accuracy: 0.9944 - val_loss: 0.1382 - val_accuracy: 0.9497\n",
            "Epoch 541/600\n",
            "6/6 [==============================] - 0s 11ms/step - loss: 0.0084 - accuracy: 0.9986 - val_loss: 0.1423 - val_accuracy: 0.9441\n",
            "Epoch 542/600\n",
            "6/6 [==============================] - 0s 9ms/step - loss: 0.0066 - accuracy: 0.9986 - val_loss: 0.1467 - val_accuracy: 0.9441\n",
            "Epoch 543/600\n",
            "6/6 [==============================] - 0s 10ms/step - loss: 0.0087 - accuracy: 0.9986 - val_loss: 0.1437 - val_accuracy: 0.9441\n",
            "Epoch 544/600\n",
            "6/6 [==============================] - 0s 9ms/step - loss: 0.0107 - accuracy: 0.9972 - val_loss: 0.1444 - val_accuracy: 0.9441\n",
            "Epoch 545/600\n",
            "6/6 [==============================] - 0s 10ms/step - loss: 0.0089 - accuracy: 0.9972 - val_loss: 0.1423 - val_accuracy: 0.9441\n",
            "Epoch 546/600\n",
            "6/6 [==============================] - 0s 9ms/step - loss: 0.0130 - accuracy: 0.9944 - val_loss: 0.1360 - val_accuracy: 0.9497\n",
            "Epoch 547/600\n",
            "6/6 [==============================] - 0s 11ms/step - loss: 0.0076 - accuracy: 0.9986 - val_loss: 0.1337 - val_accuracy: 0.9553\n",
            "Epoch 548/600\n",
            "6/6 [==============================] - 0s 13ms/step - loss: 0.0055 - accuracy: 1.0000 - val_loss: 0.1343 - val_accuracy: 0.9553\n",
            "Epoch 549/600\n",
            "6/6 [==============================] - 0s 9ms/step - loss: 0.0076 - accuracy: 0.9986 - val_loss: 0.1356 - val_accuracy: 0.9609\n",
            "Epoch 550/600\n",
            "6/6 [==============================] - 0s 8ms/step - loss: 0.0083 - accuracy: 0.9958 - val_loss: 0.1347 - val_accuracy: 0.9553\n",
            "Epoch 551/600\n",
            "6/6 [==============================] - 0s 10ms/step - loss: 0.0201 - accuracy: 0.9930 - val_loss: 0.1337 - val_accuracy: 0.9609\n",
            "Epoch 552/600\n",
            "6/6 [==============================] - 0s 10ms/step - loss: 0.0124 - accuracy: 0.9972 - val_loss: 0.1333 - val_accuracy: 0.9609\n",
            "Epoch 553/600\n",
            "6/6 [==============================] - 0s 9ms/step - loss: 0.0063 - accuracy: 0.9986 - val_loss: 0.1322 - val_accuracy: 0.9553\n",
            "Epoch 554/600\n",
            "6/6 [==============================] - 0s 9ms/step - loss: 0.0057 - accuracy: 1.0000 - val_loss: 0.1309 - val_accuracy: 0.9497\n",
            "Epoch 555/600\n",
            "6/6 [==============================] - 0s 9ms/step - loss: 0.0062 - accuracy: 0.9986 - val_loss: 0.1280 - val_accuracy: 0.9553\n",
            "Epoch 556/600\n",
            "6/6 [==============================] - 0s 11ms/step - loss: 0.0084 - accuracy: 0.9958 - val_loss: 0.1308 - val_accuracy: 0.9553\n",
            "Epoch 557/600\n",
            "6/6 [==============================] - 0s 9ms/step - loss: 0.0064 - accuracy: 1.0000 - val_loss: 0.1334 - val_accuracy: 0.9497\n",
            "Epoch 558/600\n",
            "6/6 [==============================] - 0s 9ms/step - loss: 0.0114 - accuracy: 0.9958 - val_loss: 0.1291 - val_accuracy: 0.9497\n",
            "Epoch 559/600\n",
            "6/6 [==============================] - 0s 9ms/step - loss: 0.0123 - accuracy: 0.9972 - val_loss: 0.1260 - val_accuracy: 0.9609\n",
            "Epoch 560/600\n",
            "6/6 [==============================] - 0s 11ms/step - loss: 0.0102 - accuracy: 0.9972 - val_loss: 0.1274 - val_accuracy: 0.9553\n",
            "Epoch 561/600\n",
            "6/6 [==============================] - 0s 9ms/step - loss: 0.0056 - accuracy: 1.0000 - val_loss: 0.1297 - val_accuracy: 0.9497\n",
            "Epoch 562/600\n",
            "6/6 [==============================] - 0s 11ms/step - loss: 0.0148 - accuracy: 0.9958 - val_loss: 0.1324 - val_accuracy: 0.9553\n",
            "Epoch 563/600\n",
            "6/6 [==============================] - 0s 11ms/step - loss: 0.0052 - accuracy: 1.0000 - val_loss: 0.1333 - val_accuracy: 0.9553\n",
            "Epoch 564/600\n",
            "6/6 [==============================] - 0s 10ms/step - loss: 0.0061 - accuracy: 0.9986 - val_loss: 0.1328 - val_accuracy: 0.9553\n",
            "Epoch 565/600\n",
            "6/6 [==============================] - 0s 29ms/step - loss: 0.0051 - accuracy: 1.0000 - val_loss: 0.1348 - val_accuracy: 0.9497\n",
            "Epoch 566/600\n",
            "6/6 [==============================] - 0s 18ms/step - loss: 0.0090 - accuracy: 0.9986 - val_loss: 0.1379 - val_accuracy: 0.9441\n",
            "Epoch 567/600\n",
            "6/6 [==============================] - 0s 12ms/step - loss: 0.0121 - accuracy: 0.9958 - val_loss: 0.1380 - val_accuracy: 0.9441\n",
            "Epoch 568/600\n",
            "6/6 [==============================] - 0s 10ms/step - loss: 0.0033 - accuracy: 1.0000 - val_loss: 0.1374 - val_accuracy: 0.9497\n",
            "Epoch 569/600\n",
            "6/6 [==============================] - 0s 9ms/step - loss: 0.0067 - accuracy: 0.9986 - val_loss: 0.1370 - val_accuracy: 0.9497\n",
            "Epoch 570/600\n",
            "6/6 [==============================] - 0s 9ms/step - loss: 0.0080 - accuracy: 1.0000 - val_loss: 0.1366 - val_accuracy: 0.9497\n",
            "Epoch 571/600\n",
            "6/6 [==============================] - 0s 10ms/step - loss: 0.0096 - accuracy: 0.9972 - val_loss: 0.1385 - val_accuracy: 0.9385\n",
            "Epoch 572/600\n",
            "6/6 [==============================] - 0s 11ms/step - loss: 0.0054 - accuracy: 0.9986 - val_loss: 0.1397 - val_accuracy: 0.9385\n",
            "Epoch 573/600\n",
            "6/6 [==============================] - 0s 9ms/step - loss: 0.0068 - accuracy: 0.9986 - val_loss: 0.1356 - val_accuracy: 0.9441\n",
            "Epoch 574/600\n",
            "6/6 [==============================] - 0s 9ms/step - loss: 0.0073 - accuracy: 0.9972 - val_loss: 0.1320 - val_accuracy: 0.9553\n",
            "Epoch 575/600\n",
            "6/6 [==============================] - 0s 35ms/step - loss: 0.0075 - accuracy: 0.9986 - val_loss: 0.1309 - val_accuracy: 0.9553\n",
            "Epoch 576/600\n",
            "6/6 [==============================] - 0s 29ms/step - loss: 0.0086 - accuracy: 0.9972 - val_loss: 0.1321 - val_accuracy: 0.9553\n",
            "Epoch 577/600\n",
            "6/6 [==============================] - 0s 10ms/step - loss: 0.0065 - accuracy: 0.9986 - val_loss: 0.1329 - val_accuracy: 0.9497\n",
            "Epoch 578/600\n",
            "6/6 [==============================] - 0s 10ms/step - loss: 0.0074 - accuracy: 0.9986 - val_loss: 0.1350 - val_accuracy: 0.9497\n",
            "Epoch 579/600\n",
            "6/6 [==============================] - 0s 9ms/step - loss: 0.0091 - accuracy: 0.9972 - val_loss: 0.1407 - val_accuracy: 0.9441\n",
            "Epoch 580/600\n",
            "6/6 [==============================] - 0s 10ms/step - loss: 0.0077 - accuracy: 0.9986 - val_loss: 0.1401 - val_accuracy: 0.9385\n",
            "Epoch 581/600\n",
            "6/6 [==============================] - 0s 10ms/step - loss: 0.0090 - accuracy: 0.9958 - val_loss: 0.1344 - val_accuracy: 0.9553\n",
            "Epoch 582/600\n",
            "6/6 [==============================] - 0s 8ms/step - loss: 0.0065 - accuracy: 0.9972 - val_loss: 0.1265 - val_accuracy: 0.9553\n",
            "Epoch 583/600\n",
            "1/6 [====>.........................] - ETA: 0s - loss: 0.0153 - accuracy: 0.9922"
          ]
        },
        {
          "output_type": "stream",
          "name": "stderr",
          "text": [
            "\u001b[34m\u001b[1mwandb\u001b[0m: Adding directory to artifact (/content/wandb/run-20220917_094837-34p4vgkp/files/model-best)... Done. 0.1s\n"
          ]
        },
        {
          "output_type": "stream",
          "name": "stdout",
          "text": [
            "\b\b\b\b\b\b\b\b\b\b\b\b\b\b\b\b\b\b\b\b\b\b\b\b\b\b\b\b\b\b\b\b\b\b\b\b\b\b\b\b\b\b\b\b\b\b\b\b\b\b\b\b\b\b\b\b\b\b\b\b\b\b\b\b\b\b\b\b\b\b\b\b\b\b\b\b\b\b\b\b\r6/6 [==============================] - 1s 202ms/step - loss: 0.0093 - accuracy: 0.9986 - val_loss: 0.1249 - val_accuracy: 0.9609\n",
            "Epoch 584/600\n",
            "6/6 [==============================] - 0s 10ms/step - loss: 0.0078 - accuracy: 1.0000 - val_loss: 0.1295 - val_accuracy: 0.9553\n",
            "Epoch 585/600\n",
            "6/6 [==============================] - 0s 12ms/step - loss: 0.0127 - accuracy: 0.9972 - val_loss: 0.1280 - val_accuracy: 0.9553\n",
            "Epoch 586/600\n",
            "6/6 [==============================] - 0s 10ms/step - loss: 0.0083 - accuracy: 0.9972 - val_loss: 0.1259 - val_accuracy: 0.9553\n",
            "Epoch 587/600\n",
            "1/6 [====>.........................] - ETA: 0s - loss: 0.0126 - accuracy: 0.9922"
          ]
        },
        {
          "output_type": "stream",
          "name": "stderr",
          "text": [
            "\u001b[34m\u001b[1mwandb\u001b[0m: Adding directory to artifact (/content/wandb/run-20220917_094837-34p4vgkp/files/model-best)... Done. 0.1s\n"
          ]
        },
        {
          "output_type": "stream",
          "name": "stdout",
          "text": [
            "\b\b\b\b\b\b\b\b\b\b\b\b\b\b\b\b\b\b\b\b\b\b\b\b\b\b\b\b\b\b\b\b\b\b\b\b\b\b\b\b\b\b\b\b\b\b\b\b\b\b\b\b\b\b\b\b\b\b\b\b\b\b\b\b\b\b\b\b\b\b\b\b\b\b\b\b\b\b\b\b\r6/6 [==============================] - 1s 169ms/step - loss: 0.0095 - accuracy: 0.9958 - val_loss: 0.1229 - val_accuracy: 0.9553\n",
            "Epoch 588/600\n",
            "1/6 [====>.........................] - ETA: 0s - loss: 0.0124 - accuracy: 0.9922"
          ]
        },
        {
          "output_type": "stream",
          "name": "stderr",
          "text": [
            "\u001b[34m\u001b[1mwandb\u001b[0m: Adding directory to artifact (/content/wandb/run-20220917_094837-34p4vgkp/files/model-best)... Done. 0.1s\n"
          ]
        },
        {
          "output_type": "stream",
          "name": "stdout",
          "text": [
            "\b\b\b\b\b\b\b\b\b\b\b\b\b\b\b\b\b\b\b\b\b\b\b\b\b\b\b\b\b\b\b\b\b\b\b\b\b\b\b\b\b\b\b\b\b\b\b\b\b\b\b\b\b\b\b\b\b\b\b\b\b\b\b\b\b\b\b\b\b\b\b\b\b\b\b\b\b\b\b\b\r6/6 [==============================] - 1s 166ms/step - loss: 0.0084 - accuracy: 0.9972 - val_loss: 0.1216 - val_accuracy: 0.9609\n",
            "Epoch 589/600\n",
            "6/6 [==============================] - 0s 10ms/step - loss: 0.0086 - accuracy: 0.9972 - val_loss: 0.1226 - val_accuracy: 0.9553\n",
            "Epoch 590/600\n",
            "6/6 [==============================] - 0s 8ms/step - loss: 0.0074 - accuracy: 0.9972 - val_loss: 0.1290 - val_accuracy: 0.9553\n",
            "Epoch 591/600\n",
            "6/6 [==============================] - 0s 13ms/step - loss: 0.0051 - accuracy: 1.0000 - val_loss: 0.1357 - val_accuracy: 0.9497\n",
            "Epoch 592/600\n",
            "6/6 [==============================] - 0s 10ms/step - loss: 0.0048 - accuracy: 0.9986 - val_loss: 0.1350 - val_accuracy: 0.9497\n",
            "Epoch 593/600\n",
            "6/6 [==============================] - 0s 9ms/step - loss: 0.0091 - accuracy: 0.9972 - val_loss: 0.1314 - val_accuracy: 0.9553\n",
            "Epoch 594/600\n",
            "6/6 [==============================] - 0s 10ms/step - loss: 0.0113 - accuracy: 0.9958 - val_loss: 0.1312 - val_accuracy: 0.9553\n",
            "Epoch 595/600\n",
            "6/6 [==============================] - 0s 9ms/step - loss: 0.0076 - accuracy: 0.9986 - val_loss: 0.1301 - val_accuracy: 0.9553\n",
            "Epoch 596/600\n",
            "6/6 [==============================] - 0s 9ms/step - loss: 0.0059 - accuracy: 0.9986 - val_loss: 0.1298 - val_accuracy: 0.9553\n",
            "Epoch 597/600\n",
            "6/6 [==============================] - 0s 9ms/step - loss: 0.0055 - accuracy: 0.9986 - val_loss: 0.1317 - val_accuracy: 0.9497\n",
            "Epoch 598/600\n",
            "6/6 [==============================] - 0s 9ms/step - loss: 0.0046 - accuracy: 1.0000 - val_loss: 0.1344 - val_accuracy: 0.9441\n",
            "Epoch 599/600\n",
            "6/6 [==============================] - 0s 8ms/step - loss: 0.0045 - accuracy: 0.9986 - val_loss: 0.1362 - val_accuracy: 0.9441\n",
            "Epoch 600/600\n",
            "6/6 [==============================] - 0s 9ms/step - loss: 0.0055 - accuracy: 0.9986 - val_loss: 0.1344 - val_accuracy: 0.9497\n"
          ]
        },
        {
          "output_type": "display_data",
          "data": {
            "text/plain": [
              "<IPython.core.display.HTML object>"
            ],
            "text/html": [
              "Waiting for W&B process to finish... <strong style=\"color:green\">(success).</strong>"
            ]
          },
          "metadata": {}
        },
        {
          "output_type": "display_data",
          "data": {
            "text/plain": [
              "VBox(children=(Label(value='44.142 MB of 44.143 MB uploaded (0.007 MB deduped)\\r'), FloatProgress(value=0.9999…"
            ],
            "application/vnd.jupyter.widget-view+json": {
              "version_major": 2,
              "version_minor": 0,
              "model_id": "de591ac15e6c4420b877eb6a33463479"
            }
          },
          "metadata": {}
        },
        {
          "output_type": "display_data",
          "data": {
            "text/plain": [
              "<IPython.core.display.HTML object>"
            ],
            "text/html": [
              "<style>\n",
              "    table.wandb td:nth-child(1) { padding: 0 10px; text-align: left ; width: auto;} td:nth-child(2) {text-align: left ; width: 100%}\n",
              "    .wandb-row { display: flex; flex-direction: row; flex-wrap: wrap; justify-content: flex-start; width: 100% }\n",
              "    .wandb-col { display: flex; flex-direction: column; flex-basis: 100%; flex: 1; padding: 10px; }\n",
              "    </style>\n",
              "<div class=\"wandb-row\"><div class=\"wandb-col\"><h3>Run history:</h3><br/><table class=\"wandb\"><tr><td>accuracy</td><td>▁▄▅▆▇▇▇▇▇█▇▇█▇██████████████████████████</td></tr><tr><td>epoch</td><td>▁▁▁▁▂▂▂▂▂▃▃▃▃▃▃▄▄▄▄▄▅▅▅▅▅▅▆▆▆▆▆▆▇▇▇▇▇███</td></tr><tr><td>eval/accuracy</td><td>▁</td></tr><tr><td>eval/f1</td><td>▁</td></tr><tr><td>eval/precision</td><td>▁</td></tr><tr><td>eval/recall</td><td>▁</td></tr><tr><td>loss</td><td>█▅▄▃▃▂▂▂▂▂▂▂▁▂▂▂▁▁▁▁▁▁▁▁▁▁▁▁▁▁▁▁▁▁▁▁▁▁▁▁</td></tr><tr><td>val_accuracy</td><td>▁▂▄▄▄▄▃▄▄▆▇▆▆▆▇▅▆▇▆▇▇▆▆▆▇▆▇▆▇▇▇▆▇▆▇▇█▇▇▇</td></tr><tr><td>val_loss</td><td>█▄▂▂▁▁▁▁▁▁▁▁▁▁▁▁▁▁▁▁▁▁▂▁▂▂▁▁▁▁▁▁▁▁▁▁▁▁▁▁</td></tr></table><br/></div><div class=\"wandb-col\"><h3>Run summary:</h3><br/><table class=\"wandb\"><tr><td>accuracy</td><td>0.9986</td></tr><tr><td>best_epoch</td><td>587</td></tr><tr><td>best_val_loss</td><td>0.12161</td></tr><tr><td>epoch</td><td>599</td></tr><tr><td>eval/accuracy</td><td>0.96089</td></tr><tr><td>eval/f1</td><td>0.96296</td></tr><tr><td>eval/precision</td><td>0.97849</td></tr><tr><td>eval/recall</td><td>0.94792</td></tr><tr><td>loss</td><td>0.00549</td></tr><tr><td>val_accuracy</td><td>0.94972</td></tr><tr><td>val_loss</td><td>0.13439</td></tr></table><br/></div></div>"
            ]
          },
          "metadata": {}
        },
        {
          "output_type": "display_data",
          "data": {
            "text/plain": [
              "<IPython.core.display.HTML object>"
            ],
            "text/html": [
              "Synced <strong style=\"color:#cdcd00\">politifact-fulltext-sbert+tw+ptbg128-mlp+e600-0</strong>: <a href=\"https://wandb.ai/saloniteam/nofolds/runs/34p4vgkp\" target=\"_blank\">https://wandb.ai/saloniteam/nofolds/runs/34p4vgkp</a><br/>Synced 5 W&B file(s), 2 media file(s), 176 artifact file(s) and 1 other file(s)"
            ]
          },
          "metadata": {}
        },
        {
          "output_type": "display_data",
          "data": {
            "text/plain": [
              "<IPython.core.display.HTML object>"
            ],
            "text/html": [
              "Find logs at: <code>./wandb/run-20220917_094837-34p4vgkp/logs</code>"
            ]
          },
          "metadata": {}
        }
      ]
    },
    {
      "cell_type": "code",
      "source": [],
      "metadata": {
        "id": "T22dH9GrNv2t"
      },
      "execution_count": 18,
      "outputs": []
    }
  ]
}