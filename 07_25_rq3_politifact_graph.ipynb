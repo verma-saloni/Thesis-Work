{
  "nbformat": 4,
  "nbformat_minor": 0,
  "metadata": {
    "colab": {
      "name": "Copy of politifact_graph.ipynb",
      "provenance": [],
      "collapsed_sections": [],
      "include_colab_link": true
    },
    "kernelspec": {
      "name": "python3",
      "display_name": "Python 3"
    },
    "language_info": {
      "name": "python"
    },
    "accelerator": "GPU",
    "gpuClass": "standard"
  },
  "cells": [
    {
      "cell_type": "markdown",
      "metadata": {
        "id": "view-in-github",
        "colab_type": "text"
      },
      "source": [
        "<a href=\"https://colab.research.google.com/github/verma-saloni/Thesis-Work/blob/main/07_25_rq3_politifact_graph.ipynb\" target=\"_parent\"><img src=\"https://colab.research.google.com/assets/colab-badge.svg\" alt=\"Open In Colab\"/></a>"
      ]
    },
    {
      "cell_type": "code",
      "execution_count": 11,
      "metadata": {
        "id": "xpTeMbYZwmf7"
      },
      "outputs": [],
      "source": [
        "!pip -qq install jsonlines"
      ]
    },
    {
      "cell_type": "code",
      "source": [
        "from google.colab import drive\n",
        "drive.mount('/gdrive')\n",
        "\n",
        "from pathlib import Path\n",
        "base_dir = Path(\"/gdrive/MyDrive/ResearchFND\")\n",
        "assert base_dir.exists()"
      ],
      "metadata": {
        "colab": {
          "base_uri": "https://localhost:8080/"
        },
        "id": "UxNEaltli8H_",
        "outputId": "2ef65b7f-2b2e-42e8-aad8-8718e9d4f848"
      },
      "execution_count": 12,
      "outputs": [
        {
          "output_type": "stream",
          "name": "stdout",
          "text": [
            "Drive already mounted at /gdrive; to attempt to forcibly remount, call drive.mount(\"/gdrive\", force_remount=True).\n"
          ]
        }
      ]
    },
    {
      "cell_type": "markdown",
      "source": [
        "### Twt user graphs"
      ],
      "metadata": {
        "id": "60XHa2QqsF2p"
      }
    },
    {
      "cell_type": "code",
      "source": [
        "import networkx as nx\n",
        "import jsonlines"
      ],
      "metadata": {
        "id": "7lCdLfhNsEyM"
      },
      "execution_count": 13,
      "outputs": []
    },
    {
      "cell_type": "code",
      "source": [
        "graph = nx.DiGraph()"
      ],
      "metadata": {
        "id": "Q0vjdfpgsQJ_"
      },
      "execution_count": 14,
      "outputs": []
    },
    {
      "cell_type": "code",
      "source": [
        "with jsonlines.open(base_dir/\"followers.jsonl\") as reader:\n",
        "    for line in reader:\n",
        "        v = line[\"user_id\"]\n",
        "        for u in line[\"followers\"]:\n",
        "            graph.add_edge(u, v)"
      ],
      "metadata": {
        "id": "KnrRSt2Qsb6O"
      },
      "execution_count": 15,
      "outputs": []
    },
    {
      "cell_type": "code",
      "source": [
        "with jsonlines.open(base_dir/\"following.jsonl\") as reader:\n",
        "    for line in reader:\n",
        "        u = line[\"user_id\"]\n",
        "        for v in line[\"following\"]:\n",
        "            graph.add_edge(u, v)"
      ],
      "metadata": {
        "id": "Y7DLQ78as4pZ"
      },
      "execution_count": 16,
      "outputs": []
    },
    {
      "cell_type": "code",
      "source": [
        "graph.number_of_nodes(), graph.number_of_edges()"
      ],
      "metadata": {
        "colab": {
          "base_uri": "https://localhost:8080/"
        },
        "id": "MCN3DvNQtiJR",
        "outputId": "b4f0f440-36e5-4418-f2c4-c06728e8c8aa"
      },
      "execution_count": 17,
      "outputs": [
        {
          "output_type": "execute_result",
          "data": {
            "text/plain": [
              "(31792, 48408)"
            ]
          },
          "metadata": {},
          "execution_count": 17
        }
      ]
    },
    {
      "cell_type": "code",
      "source": [
        "followed = [n for n in graph.nodes if graph.in_degree(n)>2]\n",
        "len(followed)"
      ],
      "metadata": {
        "colab": {
          "base_uri": "https://localhost:8080/"
        },
        "id": "v-x18_ZZulOd",
        "outputId": "3e4fd2ed-76e7-4080-8b40-912de5acedea"
      },
      "execution_count": 18,
      "outputs": [
        {
          "output_type": "execute_result",
          "data": {
            "text/plain": [
              "444"
            ]
          },
          "metadata": {},
          "execution_count": 18
        }
      ]
    },
    {
      "cell_type": "code",
      "source": [
        "import random\n",
        "\n",
        "sample_nodes = random.sample(followed, 12)\n",
        "sg = graph.edge_subgraph(graph.in_edges(sample_nodes))\n",
        "sg.number_of_nodes(), sg.number_of_edges()"
      ],
      "metadata": {
        "id": "ytEH363Cu7e_",
        "colab": {
          "base_uri": "https://localhost:8080/"
        },
        "outputId": "bfc1b4d5-1f1f-479c-ff5a-21ea832bbfed"
      },
      "execution_count": 19,
      "outputs": [
        {
          "output_type": "execute_result",
          "data": {
            "text/plain": [
              "(23, 44)"
            ]
          },
          "metadata": {},
          "execution_count": 19
        }
      ]
    },
    {
      "cell_type": "code",
      "source": [
        "nx.draw(sg, node_size=100)"
      ],
      "metadata": {
        "colab": {
          "base_uri": "https://localhost:8080/",
          "height": 319
        },
        "id": "yYc34e6ts7PN",
        "outputId": "0cbcf5a1-1ffa-4dd0-cd68-8969587f2f12"
      },
      "execution_count": 20,
      "outputs": [
        {
          "output_type": "display_data",
          "data": {
            "text/plain": [
              "<Figure size 432x288 with 1 Axes>"
            ],
            "image/png": "[encoded data removed]"
          },
          "metadata": {}
        }
      ]
    },
    {
      "cell_type": "markdown",
      "source": [
        "### Node embeddings"
      ],
      "metadata": {
        "id": "qbRXmgXCwoNj"
      }
    },
    {
      "cell_type": "code",
      "execution_count": 21,
      "metadata": {
        "colab": {
          "base_uri": "https://localhost:8080/"
        },
        "id": "28effea1-9db8-4c0f-b037-3df8dadbea17",
        "outputId": "18bb945e-871c-4dea-dd0a-ccdbb85fe832"
      },
      "outputs": [
        {
          "output_type": "stream",
          "name": "stdout",
          "text": [
            "  Building wheel for csrgraph (setup.py) ... \u001b[?25l\u001b[?25hdone\n",
            "  Building wheel for nodevectors (setup.py) ... \u001b[?25l\u001b[?25hdone\n"
          ]
        }
      ],
      "source": [
        "!pip install -Uqq csrgraph nodevectors"
      ]
    },
    {
      "cell_type": "code",
      "source": [
        "import csrgraph as cg\n",
        "from nodevectors import Node2Vec"
      ],
      "metadata": {
        "id": "qvL85vFzr2XK"
      },
      "execution_count": 22,
      "outputs": []
    },
    {
      "cell_type": "markdown",
      "source": [
        "#### user vectors"
      ],
      "metadata": {
        "id": "odOQGulI-EeS"
      }
    },
    {
      "cell_type": "code",
      "source": [
        "n2v = Node2Vec(n_components=128, walklen=10, epochs=10)"
      ],
      "metadata": {
        "id": "RvlSsu6jvXS7"
      },
      "execution_count": 23,
      "outputs": []
    },
    {
      "cell_type": "code",
      "source": [
        "n2v.fit(graph)"
      ],
      "metadata": {
        "colab": {
          "base_uri": "https://localhost:8080/"
        },
        "id": "EHoiGFydwFMk",
        "outputId": "af696748-7047-4823-c293-acffb1c3f7ff"
      },
      "execution_count": 24,
      "outputs": [
        {
          "output_type": "stream",
          "name": "stdout",
          "text": [
            "Making walks... "
          ]
        },
        {
          "output_type": "stream",
          "name": "stderr",
          "text": [
            "/usr/local/lib/python3.7/dist-packages/numba/np/ufunc/parallel.py:363: NumbaWarning: The TBB threading layer requires TBB version 2019.5 or later i.e., TBB_INTERFACE_VERSION >= 11005. Found TBB_INTERFACE_VERSION = 9107. The TBB threading layer is disabled.\n",
            "  warnings.warn(problem)\n"
          ]
        },
        {
          "output_type": "stream",
          "name": "stdout",
          "text": [
            "Done, T=5.25\n",
            "Mapping Walk Names... Done, T=7.71\n",
            "Training W2V... WARNING: gensim word2vec version is unoptimizedTry version 3.6 if on windows, versions 3.7 and 3.8 have had issues\n",
            "Done, T=84.63\n"
          ]
        }
      ]
    },
    {
      "cell_type": "code",
      "source": [
        "n2v.predict(followed[0])"
      ],
      "metadata": {
        "colab": {
          "base_uri": "https://localhost:8080/"
        },
        "id": "RicJpnXuwJhE",
        "outputId": "df782e17-8f72-4e30-9eb1-ea08fb0437f1"
      },
      "execution_count": 25,
      "outputs": [
        {
          "output_type": "execute_result",
          "data": {
            "text/plain": [
              "array([-0.3675863 ,  0.1282412 ,  0.22299092, -0.31979853,  0.18588693,\n",
              "       -0.11166151, -0.25063002, -0.00243194,  0.3993893 ,  0.2265691 ,\n",
              "        0.24865997, -0.00837706, -0.07028485, -0.20618919,  0.23557512,\n",
              "       -0.14061683,  0.30435127, -0.39891508,  0.06668442, -0.33265588,\n",
              "       -0.02163144, -0.36777756, -0.16099092,  0.21908268, -0.19462305,\n",
              "       -0.40506038, -0.25495267, -0.45383984, -0.5653268 ,  0.35322955,\n",
              "       -0.5327221 ,  0.52026945,  0.32708022,  0.0113182 ,  0.40652302,\n",
              "        0.21851438,  0.10024845,  0.35892075,  0.40906376,  0.04410933,\n",
              "       -0.50577044,  0.21270105,  0.5493385 ,  0.15493374,  0.09996232,\n",
              "       -0.37725475, -0.37640077,  0.2239793 ,  0.17491885, -0.2525284 ,\n",
              "        0.16396652,  0.25392124,  0.3824317 , -0.03385516,  0.4343061 ,\n",
              "       -0.01122301,  0.03740161,  0.06381975, -0.02905279, -0.05415915,\n",
              "       -0.09567568, -0.35780594,  0.2964456 , -0.5187444 ,  0.10663714,\n",
              "       -0.30514914,  0.13067374, -0.05766976, -0.25125933,  0.02838036,\n",
              "       -0.10923844,  0.3680409 ,  0.1466139 , -0.29836094,  0.4735993 ,\n",
              "        0.41329947, -0.26242357, -0.5369673 , -0.43316695, -0.168669  ,\n",
              "        0.18525039, -0.14915812,  0.4306212 , -0.1937244 ,  0.535601  ,\n",
              "       -0.06732793, -0.42905512, -0.11690461,  0.29821655, -0.44861498,\n",
              "        0.20499462, -0.34825817,  0.07389084, -0.3002827 , -0.31174114,\n",
              "        0.05700825,  0.56036174,  0.2569448 ,  0.2916066 , -0.18752065,\n",
              "       -0.42436475,  0.2378338 , -0.4374494 , -0.32618782, -0.21294492,\n",
              "        0.3716916 , -0.12359514,  0.25273126, -0.5215603 ,  0.18840842,\n",
              "       -0.20114021, -0.3934462 ,  0.49193785,  0.04989393,  0.12659249,\n",
              "        0.12628333, -0.33194947, -0.38520122, -0.4027925 , -0.27302036,\n",
              "        0.11351606,  0.12338854, -0.22894095, -0.24686773,  0.19909653,\n",
              "        0.02797645,  0.00258626, -0.26178077], dtype=float32)"
            ]
          },
          "metadata": {},
          "execution_count": 25
        }
      ]
    },
    {
      "cell_type": "markdown",
      "source": [
        "## user-article graph"
      ],
      "metadata": {
        "id": "NHdG78wwVumY"
      }
    },
    {
      "cell_type": "code",
      "source": [
        "import pandas as pd\n",
        "import ast"
      ],
      "metadata": {
        "id": "7tPiW_FBWO8s"
      },
      "execution_count": 26,
      "outputs": []
    },
    {
      "cell_type": "code",
      "source": [
        "df = pd.read_csv(base_dir/'politifact_agg.csv', index_col=0)\n",
        "df.head(2)"
      ],
      "metadata": {
        "colab": {
          "base_uri": "https://localhost:8080/",
          "height": 112
        },
        "id": "0BsiweMKV3Kt",
        "outputId": "c2081efb-8798-419c-fdb1-3753c3ad4b1e"
      },
      "execution_count": 27,
      "outputs": [
        {
          "output_type": "execute_result",
          "data": {
            "text/plain": [
              "                                               title text tweets  \\\n",
              "0   Actress Emma Stone ‘For the first time in his...  NaN     []   \n",
              "1   Breaking President Trump makes English the of...  NaN     []   \n",
              "\n",
              "                                            retweets label  url tweet_ids  \\\n",
              "0  ['1020554564334964741', '1020817527046197248',...  fake  NaN        []   \n",
              "1                                                 []  fake  NaN        []   \n",
              "\n",
              "   num_retweets  log_num_retweets  num_tweets  log_num_tweets  \n",
              "0          2911          7.976595           0             0.0  \n",
              "1             0          0.000000           0             0.0  "
            ],
            "text/html": [
              "\n",
              "  <div id=\"df-7c002453-36bc-45de-be89-5925a63ed715\">\n",
              "    <div class=\"colab-df-container\">\n",
              "      <div>\n",
              "<style scoped>\n",
              "    .dataframe tbody tr th:only-of-type {\n",
              "        vertical-align: middle;\n",
              "    }\n",
              "\n",
              "    .dataframe tbody tr th {\n",
              "        vertical-align: top;\n",
              "    }\n",
              "\n",
              "    .dataframe thead th {\n",
              "        text-align: right;\n",
              "    }\n",
              "</style>\n",
              "<table border=\"1\" class=\"dataframe\">\n",
              "  <thead>\n",
              "    <tr style=\"text-align: right;\">\n",
              "      <th></th>\n",
              "      <th>title</th>\n",
              "      <th>text</th>\n",
              "      <th>tweets</th>\n",
              "      <th>retweets</th>\n",
              "      <th>label</th>\n",
              "      <th>url</th>\n",
              "      <th>tweet_ids</th>\n",
              "      <th>num_retweets</th>\n",
              "      <th>log_num_retweets</th>\n",
              "      <th>num_tweets</th>\n",
              "      <th>log_num_tweets</th>\n",
              "    </tr>\n",
              "  </thead>\n",
              "  <tbody>\n",
              "    <tr>\n",
              "      <th>0</th>\n",
              "      <td>Actress Emma Stone ‘For the first time in his...</td>\n",
              "      <td>NaN</td>\n",
              "      <td>[]</td>\n",
              "      <td>['1020554564334964741', '1020817527046197248',...</td>\n",
              "      <td>fake</td>\n",
              "      <td>NaN</td>\n",
              "      <td>[]</td>\n",
              "      <td>2911</td>\n",
              "      <td>7.976595</td>\n",
              "      <td>0</td>\n",
              "      <td>0.0</td>\n",
              "    </tr>\n",
              "    <tr>\n",
              "      <th>1</th>\n",
              "      <td>Breaking President Trump makes English the of...</td>\n",
              "      <td>NaN</td>\n",
              "      <td>[]</td>\n",
              "      <td>[]</td>\n",
              "      <td>fake</td>\n",
              "      <td>NaN</td>\n",
              "      <td>[]</td>\n",
              "      <td>0</td>\n",
              "      <td>0.000000</td>\n",
              "      <td>0</td>\n",
              "      <td>0.0</td>\n",
              "    </tr>\n",
              "  </tbody>\n",
              "</table>\n",
              "</div>\n",
              "      <button class=\"colab-df-convert\" onclick=\"convertToInteractive('df-7c002453-36bc-45de-be89-5925a63ed715')\"\n",
              "              title=\"Convert this dataframe to an interactive table.\"\n",
              "              style=\"display:none;\">\n",
              "        \n",
              "  <svg xmlns=\"http://www.w3.org/2000/svg\" height=\"24px\"viewBox=\"0 0 24 24\"\n",
              "       width=\"24px\">\n",
              "    <path d=\"M0 0h24v24H0V0z\" fill=\"none\"/>\n",
              "    <path d=\"M18.56 5.44l.94 2.06.94-2.06 2.06-.94-2.06-.94-.94-2.06-.94 2.06-2.06.94zm-11 1L8.5 8.5l.94-2.06 2.06-.94-2.06-.94L8.5 2.5l-.94 2.06-2.06.94zm10 10l.94 2.06.94-2.06 2.06-.94-2.06-.94-.94-2.06-.94 2.06-2.06.94z\"/><path d=\"M17.41 7.96l-1.37-1.37c-.4-.4-.92-.59-1.43-.59-.52 0-1.04.2-1.43.59L10.3 9.45l-7.72 7.72c-.78.78-.78 2.05 0 2.83L4 21.41c.39.39.9.59 1.41.59.51 0 1.02-.2 1.41-.59l7.78-7.78 2.81-2.81c.8-.78.8-2.07 0-2.86zM5.41 20L4 18.59l7.72-7.72 1.47 1.35L5.41 20z\"/>\n",
              "  </svg>\n",
              "      </button>\n",
              "      \n",
              "  <style>\n",
              "    .colab-df-container {\n",
              "      display:flex;\n",
              "      flex-wrap:wrap;\n",
              "      gap: 12px;\n",
              "    }\n",
              "\n",
              "    .colab-df-convert {\n",
              "      background-color: #E8F0FE;\n",
              "      border: none;\n",
              "      border-radius: 50%;\n",
              "      cursor: pointer;\n",
              "      display: none;\n",
              "      fill: #1967D2;\n",
              "      height: 32px;\n",
              "      padding: 0 0 0 0;\n",
              "      width: 32px;\n",
              "    }\n",
              "\n",
              "    .colab-df-convert:hover {\n",
              "      background-color: #E2EBFA;\n",
              "      box-shadow: 0px 1px 2px rgba(60, 64, 67, 0.3), 0px 1px 3px 1px rgba(60, 64, 67, 0.15);\n",
              "      fill: #174EA6;\n",
              "    }\n",
              "\n",
              "    [theme=dark] .colab-df-convert {\n",
              "      background-color: #3B4455;\n",
              "      fill: #D2E3FC;\n",
              "    }\n",
              "\n",
              "    [theme=dark] .colab-df-convert:hover {\n",
              "      background-color: #434B5C;\n",
              "      box-shadow: 0px 1px 3px 1px rgba(0, 0, 0, 0.15);\n",
              "      filter: drop-shadow(0px 1px 2px rgba(0, 0, 0, 0.3));\n",
              "      fill: #FFFFFF;\n",
              "    }\n",
              "  </style>\n",
              "\n",
              "      <script>\n",
              "        const buttonEl =\n",
              "          document.querySelector('#df-7c002453-36bc-45de-be89-5925a63ed715 button.colab-df-convert');\n",
              "        buttonEl.style.display =\n",
              "          google.colab.kernel.accessAllowed ? 'block' : 'none';\n",
              "\n",
              "        async function convertToInteractive(key) {\n",
              "          const element = document.querySelector('#df-7c002453-36bc-45de-be89-5925a63ed715');\n",
              "          const dataTable =\n",
              "            await google.colab.kernel.invokeFunction('convertToInteractive',\n",
              "                                                     [key], {});\n",
              "          if (!dataTable) return;\n",
              "\n",
              "          const docLinkHtml = 'Like what you see? Visit the ' +\n",
              "            '<a target=\"_blank\" href=https://colab.research.google.com/notebooks/data_table.ipynb>data table notebook</a>'\n",
              "            + ' to learn more about interactive tables.';\n",
              "          element.innerHTML = '';\n",
              "          dataTable['output_type'] = 'display_data';\n",
              "          await google.colab.output.renderOutput(dataTable, element);\n",
              "          const docLink = document.createElement('div');\n",
              "          docLink.innerHTML = docLinkHtml;\n",
              "          element.appendChild(docLink);\n",
              "        }\n",
              "      </script>\n",
              "    </div>\n",
              "  </div>\n",
              "  "
            ]
          },
          "metadata": {},
          "execution_count": 27
        }
      ]
    },
    {
      "cell_type": "code",
      "source": [
        "df['tweets'] = df.tweets.map(ast.literal_eval)"
      ],
      "metadata": {
        "id": "cruZFCpNWRLb"
      },
      "execution_count": 28,
      "outputs": []
    },
    {
      "cell_type": "code",
      "source": [
        "# df[df.tweets.map(len) > 0]"
      ],
      "metadata": {
        "id": "FmEDMzaPWrT2"
      },
      "execution_count": 29,
      "outputs": []
    },
    {
      "cell_type": "code",
      "source": [
        "users_tweeted = df.tweets.map(lambda x: [int(e['user_id']) for e in x])"
      ],
      "metadata": {
        "id": "wH5i98HOWz1w"
      },
      "execution_count": 30,
      "outputs": []
    },
    {
      "cell_type": "code",
      "source": [
        "len(users_tweeted), sum(users_tweeted.map(len) > 0)"
      ],
      "metadata": {
        "colab": {
          "base_uri": "https://localhost:8080/"
        },
        "id": "exnDy-5ud_uJ",
        "outputId": "8769dfed-4e4a-46ce-aa33-1bba9afcb1e9"
      },
      "execution_count": 31,
      "outputs": [
        {
          "output_type": "execute_result",
          "data": {
            "text/plain": [
              "(894, 149)"
            ]
          },
          "metadata": {},
          "execution_count": 31
        }
      ]
    },
    {
      "cell_type": "code",
      "source": [
        "users_tweeted[users_tweeted.map(len) > 0]"
      ],
      "metadata": {
        "colab": {
          "base_uri": "https://localhost:8080/"
        },
        "id": "1RfPGb15XgKE",
        "outputId": "2b74b633-6dc4-405d-e2c0-87fa24d6b183"
      },
      "execution_count": 32,
      "outputs": [
        {
          "output_type": "execute_result",
          "data": {
            "text/plain": [
              "8      [1191949489, 51600575, 2984014208, 15496777, 4...\n",
              "10     [24636033, 22473015, 129262130, 181289232, 181...\n",
              "11     [490975378, 116344653, 79423345, 53347857, 842...\n",
              "12     [586165566, 393939273, 891366735064039425, 991...\n",
              "14     [886818711105138688, 172947702, 993606350, 428...\n",
              "                             ...                        \n",
              "875    [14378429, 3187248602, 484966779, 950864702669...\n",
              "880    [2236833270, 22250210, 54835665, 347507710, 45...\n",
              "884    [2582795785, 736847516537368576, 7769521655752...\n",
              "887    [348175292, 810185480469880833, 84976273735388...\n",
              "893    [747513995096055808, 19086760, 27623387, 12455...\n",
              "Name: tweets, Length: 149, dtype: object"
            ]
          },
          "metadata": {},
          "execution_count": 32
        }
      ]
    },
    {
      "cell_type": "code",
      "source": [
        "unique_users = set()\n",
        "for e in users_tweeted:\n",
        "    unique_users.update(set(e))\n",
        "\n",
        "len(unique_users)"
      ],
      "metadata": {
        "colab": {
          "base_uri": "https://localhost:8080/"
        },
        "id": "fUjaXHhFYIMc",
        "outputId": "e52aaed2-9f68-4fef-acab-53ada5c35d4a"
      },
      "execution_count": 33,
      "outputs": [
        {
          "output_type": "execute_result",
          "data": {
            "text/plain": [
              "40723"
            ]
          },
          "metadata": {},
          "execution_count": 33
        }
      ]
    },
    {
      "cell_type": "code",
      "source": [
        "min(unique_users)"
      ],
      "metadata": {
        "colab": {
          "base_uri": "https://localhost:8080/"
        },
        "id": "YHgKrYoEYTZQ",
        "outputId": "fabb6bc1-6e47-4785-d6dd-922ecb441221"
      },
      "execution_count": 34,
      "outputs": [
        {
          "output_type": "execute_result",
          "data": {
            "text/plain": [
              "1688"
            ]
          },
          "metadata": {},
          "execution_count": 34
        }
      ]
    },
    {
      "cell_type": "code",
      "source": [
        "i = 0\n",
        "for u in unique_users:\n",
        "    if u in graph:\n",
        "        i += 1\n",
        "print(i)"
      ],
      "metadata": {
        "colab": {
          "base_uri": "https://localhost:8080/"
        },
        "id": "CF3sOiF_bcip",
        "outputId": "a7453b0b-b044-4a12-d27b-0afe53706dd6"
      },
      "execution_count": 35,
      "outputs": [
        {
          "output_type": "stream",
          "name": "stdout",
          "text": [
            "756\n"
          ]
        }
      ]
    },
    {
      "cell_type": "code",
      "source": [
        "users_retweeted = df.retweets.map(lambda x: [int(e) for e in ast.literal_eval(x)])"
      ],
      "metadata": {
        "id": "NPSabn0Je819"
      },
      "execution_count": 36,
      "outputs": []
    },
    {
      "cell_type": "code",
      "source": [
        "for e in users_retweeted:\n",
        "    unique_users.update(set(e))\n",
        "\n",
        "len(unique_users)"
      ],
      "metadata": {
        "colab": {
          "base_uri": "https://localhost:8080/"
        },
        "id": "UevgMKgIfeqt",
        "outputId": "400fcb74-1851-4474-a42c-f8206b507df2"
      },
      "execution_count": 37,
      "outputs": [
        {
          "output_type": "execute_result",
          "data": {
            "text/plain": [
              "595543"
            ]
          },
          "metadata": {},
          "execution_count": 37
        }
      ]
    },
    {
      "cell_type": "code",
      "source": [
        "i = 0\n",
        "for u in unique_users:\n",
        "    if u in graph:\n",
        "        i += 1\n",
        "print(i)"
      ],
      "metadata": {
        "colab": {
          "base_uri": "https://localhost:8080/"
        },
        "id": "bQttmXbOfwz3",
        "outputId": "d5d32941-f89a-418e-fad1-984745863f5d"
      },
      "execution_count": 38,
      "outputs": [
        {
          "output_type": "stream",
          "name": "stdout",
          "text": [
            "756\n"
          ]
        }
      ]
    },
    {
      "cell_type": "code",
      "source": [
        "for i, l in users_tweeted.iteritems():\n",
        "    if not len(l):\n",
        "        continue\n",
        "    a_node = f\"a{i}\"\n",
        "    graph.add_edges_from([(a_node, u_node) for u_node in l if u_node in graph])\n",
        "\n",
        "graph.number_of_nodes(), graph.number_of_edges()"
      ],
      "metadata": {
        "colab": {
          "base_uri": "https://localhost:8080/"
        },
        "id": "TacXl683Z-BC",
        "outputId": "9c6ffc5f-216e-49c2-e330-f35668773c67"
      },
      "execution_count": 39,
      "outputs": [
        {
          "output_type": "execute_result",
          "data": {
            "text/plain": [
              "(31896, 49576)"
            ]
          },
          "metadata": {},
          "execution_count": 39
        }
      ]
    },
    {
      "cell_type": "code",
      "source": [
        "tmp = users_tweeted.map(len)\n",
        "tmp.min(), tmp.mean(), tmp.max()"
      ],
      "metadata": {
        "colab": {
          "base_uri": "https://localhost:8080/"
        },
        "id": "-lnh-YSHaYlH",
        "outputId": "ee149d97-ddb4-44c0-ab43-60a1c645b8e6"
      },
      "execution_count": 40,
      "outputs": [
        {
          "output_type": "execute_result",
          "data": {
            "text/plain": [
              "(0, 70.42953020134229, 21984)"
            ]
          },
          "metadata": {},
          "execution_count": 40
        }
      ]
    },
    {
      "cell_type": "markdown",
      "source": [
        "## GNN"
      ],
      "metadata": {
        "id": "gI6AtSffmcqr"
      }
    },
    {
      "cell_type": "markdown",
      "source": [
        "### data"
      ],
      "metadata": {
        "id": "FfaOg08xmfEp"
      }
    },
    {
      "cell_type": "code",
      "source": [
        "!pip install dgl"
      ],
      "metadata": {
        "colab": {
          "base_uri": "https://localhost:8080/",
          "height": 486
        },
        "id": "xjD3rF-MmwKa",
        "outputId": "5228d3b5-e600-423c-cb01-9fa4cd903d9b"
      },
      "execution_count": 41,
      "outputs": [
        {
          "output_type": "stream",
          "name": "stdout",
          "text": [
            "Looking in indexes: https://pypi.org/simple, https://us-python.pkg.dev/colab-wheels/public/simple/\n",
            "Collecting dgl\n",
            "  Downloading dgl-0.9.0-cp37-cp37m-manylinux1_x86_64.whl (6.2 MB)\n",
            "\u001b[K     |████████████████████████████████| 6.2 MB 6.7 MB/s \n",
            "\u001b[?25hRequirement already satisfied: numpy>=1.14.0 in /usr/local/lib/python3.7/dist-packages (from dgl) (1.21.6)\n",
            "Requirement already satisfied: networkx>=2.1 in /usr/local/lib/python3.7/dist-packages (from dgl) (2.6.3)\n",
            "Requirement already satisfied: tqdm in /usr/local/lib/python3.7/dist-packages (from dgl) (4.64.0)\n",
            "Collecting psutil>=5.8.0\n",
            "  Downloading psutil-5.9.1-cp37-cp37m-manylinux_2_12_x86_64.manylinux2010_x86_64.manylinux_2_17_x86_64.manylinux2014_x86_64.whl (281 kB)\n",
            "\u001b[K     |████████████████████████████████| 281 kB 69.5 MB/s \n",
            "\u001b[?25hRequirement already satisfied: scipy>=1.1.0 in /usr/local/lib/python3.7/dist-packages (from dgl) (1.7.3)\n",
            "Requirement already satisfied: requests>=2.19.0 in /usr/local/lib/python3.7/dist-packages (from dgl) (2.23.0)\n",
            "Requirement already satisfied: urllib3!=1.25.0,!=1.25.1,<1.26,>=1.21.1 in /usr/local/lib/python3.7/dist-packages (from requests>=2.19.0->dgl) (1.24.3)\n",
            "Requirement already satisfied: chardet<4,>=3.0.2 in /usr/local/lib/python3.7/dist-packages (from requests>=2.19.0->dgl) (3.0.4)\n",
            "Requirement already satisfied: certifi>=2017.4.17 in /usr/local/lib/python3.7/dist-packages (from requests>=2.19.0->dgl) (2022.6.15)\n",
            "Requirement already satisfied: idna<3,>=2.5 in /usr/local/lib/python3.7/dist-packages (from requests>=2.19.0->dgl) (2.10)\n",
            "Installing collected packages: psutil, dgl\n",
            "  Attempting uninstall: psutil\n",
            "    Found existing installation: psutil 5.4.8\n",
            "    Uninstalling psutil-5.4.8:\n",
            "      Successfully uninstalled psutil-5.4.8\n",
            "Successfully installed dgl-0.9.0 psutil-5.9.1\n"
          ]
        },
        {
          "output_type": "display_data",
          "data": {
            "application/vnd.colab-display-data+json": {
              "pip_warning": {
                "packages": [
                  "psutil"
                ]
              }
            }
          },
          "metadata": {}
        }
      ]
    },
    {
      "cell_type": "code",
      "source": [
        "import dgl\n",
        "import numpy as np\n",
        "import torch"
      ],
      "metadata": {
        "colab": {
          "base_uri": "https://localhost:8080/"
        },
        "id": "yp52MLR1mdxA",
        "outputId": "cc330e1b-98b8-4e70-870d-70300830c133"
      },
      "execution_count": 42,
      "outputs": [
        {
          "output_type": "stream",
          "name": "stdout",
          "text": [
            "Setting the default backend to \"pytorch\". You can change it in the ~/.dgl/config.json file or export the DGLBACKEND environment variable.  Valid options are: pytorch, mxnet, tensorflow (all lowercase)\n"
          ]
        },
        {
          "output_type": "stream",
          "name": "stderr",
          "text": [
            "DGL backend not selected or invalid.  Assuming PyTorch for now.\n"
          ]
        }
      ]
    },
    {
      "cell_type": "code",
      "source": [
        "u2i = {}\n",
        "\n",
        "follow_src = []\n",
        "follow_dst = []\n",
        "with jsonlines.open(base_dir/\"followers.jsonl\") as reader:\n",
        "    for line in reader:\n",
        "        v = line[\"user_id\"]\n",
        "        if v not in u2i:\n",
        "            u2i[v] = len(u2i)\n",
        "        for u in line[\"followers\"]:\n",
        "            if u not in u2i:\n",
        "                u2i[u] = len(u2i)\n",
        "            follow_src.append(u2i[u])\n",
        "            follow_dst.append(u2i[v])"
      ],
      "metadata": {
        "id": "h3XOCaEwoMvx"
      },
      "execution_count": 43,
      "outputs": []
    },
    {
      "cell_type": "code",
      "source": [
        "with jsonlines.open(base_dir/\"following.jsonl\") as reader:\n",
        "    for line in reader:\n",
        "        u = line[\"user_id\"]\n",
        "        if u not in u2i:\n",
        "            u2i[u] = len(u2i)\n",
        "        for v in line[\"following\"]:\n",
        "            if v not in u2i:\n",
        "                u2i[v] = len(u2i)\n",
        "            follow_src.append(u2i[u])\n",
        "            follow_dst.append(u2i[v])"
      ],
      "metadata": {
        "id": "sWJFoJ_4oMvz"
      },
      "execution_count": 44,
      "outputs": []
    },
    {
      "cell_type": "code",
      "source": [
        "tweet_src = []\n",
        "tweet_dst = []\n",
        "\n",
        "for v, l in users_tweeted.iteritems():\n",
        "    if not len(l):\n",
        "        continue\n",
        "    for u in l:\n",
        "        if u in u2i:\n",
        "            tweet_src.append(u2i[u])\n",
        "            tweet_dst.append(v)"
      ],
      "metadata": {
        "id": "DWM9MEXDpiyX"
      },
      "execution_count": 45,
      "outputs": []
    },
    {
      "cell_type": "code",
      "source": [
        "text_embs = np.load(base_dir/'sbert_fulltext_embeddings.npy')\n",
        "text_embs.shape"
      ],
      "metadata": {
        "colab": {
          "base_uri": "https://localhost:8080/"
        },
        "id": "CxkWUv799WnY",
        "outputId": "83209797-5819-46c3-c541-f0a59b71fe35"
      },
      "execution_count": 46,
      "outputs": [
        {
          "output_type": "execute_result",
          "data": {
            "text/plain": [
              "(894, 768)"
            ]
          },
          "metadata": {},
          "execution_count": 46
        }
      ]
    },
    {
      "cell_type": "code",
      "source": [
        "final_embs= pd.read_csv('updatedEmbs.csv')\n",
        "final_embs= final_embs.drop('Unnamed: 0',axis=1)\n",
        "final_embs = final_embs.reset_index(drop=True)\n",
        "print(final_embs)\n",
        "\n",
        "text_embs= final_embs"
      ],
      "metadata": {
        "colab": {
          "base_uri": "https://localhost:8080/"
        },
        "id": "WT3XHzLyHf_k",
        "outputId": "becced59-792b-4cf7-c40d-5cd29261f39f"
      },
      "execution_count": 317,
      "outputs": [
        {
          "output_type": "stream",
          "name": "stdout",
          "text": [
            "                0             1           0.1           1.1        0.1.1  \\\n",
            "0        1.349461     -2.602859      2.833252     -2.743249     6.893370   \n",
            "1        3.731273     -4.053496      2.255937     -2.753675     7.221067   \n",
            "2        2.332864     -2.908929      2.941076     -3.133755     7.399475   \n",
            "3        1.924908     -2.274820      1.640638     -2.479522     5.149405   \n",
            "4       -3.909992      4.973126     -4.583091      7.322591   -11.548117   \n",
            "..            ...           ...           ...           ...          ...   \n",
            "889      2.716950     -3.773576      3.432483     -3.184185     6.446299   \n",
            "890      2.423111     -2.884316      2.270691     -3.015852     6.600163   \n",
            "891     -2.720943      3.260452     -4.072395      3.835468    -7.015322   \n",
            "892      2.341196     -3.274098      3.072714     -3.649316     5.207879   \n",
            "893 -49879.184000  33768.227000 -14806.883000  11694.690000 -2608.811000   \n",
            "\n",
            "           1.1.1     0.1.1.1      1.1.1.1    0.1.1.1.1    1.1.1.1.1  ...  \\\n",
            "0      -3.390698    1.659329    -3.012199     3.436132    -2.051579  ...   \n",
            "1      -4.423811    1.772402    -4.427463     3.389840    -3.910992  ...   \n",
            "2      -3.701832    1.529097    -3.323052     2.685679    -2.423942  ...   \n",
            "3      -2.522085    2.035665    -4.024216     3.072954    -1.651766  ...   \n",
            "4       5.724316   -2.577478     6.573018    -5.460110     2.931455  ...   \n",
            "..           ...         ...          ...          ...          ...  ...   \n",
            "889    -5.202756    3.625214    -3.966662     3.847220    -3.245514  ...   \n",
            "890    -4.685534    2.986126    -4.408060     3.591517    -2.934106  ...   \n",
            "891     3.222818   -2.212169     4.496822    -3.261340     2.588654  ...   \n",
            "892    -2.868720    2.375783    -3.565799     2.690030    -2.718827  ...   \n",
            "893  2288.010500 -284.562840  1012.947500 -2789.188000  2361.170200  ...   \n",
            "\n",
            "          758       759       760       761       762       763       764  \\\n",
            "0    0.012692  0.059102  0.000541  0.006523 -0.018735  0.046029 -0.031323   \n",
            "1   -0.017646  0.061697  0.007149  0.000070  0.010949  0.033709 -0.033934   \n",
            "2    0.039987  0.010057 -0.038091 -0.033632 -0.018176 -0.017782  0.028502   \n",
            "3   -0.070302 -0.045334  0.016006  0.018444  0.056975  0.053900  0.043913   \n",
            "4    0.007845  0.069599 -0.017022  0.010712 -0.014984 -0.001413 -0.022211   \n",
            "..        ...       ...       ...       ...       ...       ...       ...   \n",
            "889 -0.026921  0.033994  0.025864 -0.034472  0.024374 -0.022076 -0.001890   \n",
            "890  0.092023 -0.017697  0.014944 -0.065511  0.016395  0.007684 -0.016207   \n",
            "891 -0.050173  0.037019 -0.048023  0.000220 -0.033158  0.075531  0.064022   \n",
            "892 -0.008388  0.008983 -0.058522 -0.008533 -0.016264  0.003724 -0.005826   \n",
            "893  0.025953  0.049041 -0.015561 -0.064802  0.025398  0.007854 -0.010056   \n",
            "\n",
            "          765       766       767  \n",
            "0    0.021993 -0.059348  0.010890  \n",
            "1   -0.006214 -0.046594 -0.020140  \n",
            "2    0.009641 -0.035604 -0.009934  \n",
            "3    0.003843 -0.038083  0.000696  \n",
            "4   -0.025620  0.007522 -0.037539  \n",
            "..        ...       ...       ...  \n",
            "889  0.006269 -0.019845  0.016206  \n",
            "890 -0.008501  0.049251 -0.022232  \n",
            "891 -0.000590 -0.031904 -0.002240  \n",
            "892 -0.020846 -0.027097 -0.008377  \n",
            "893  0.026847 -0.055978 -0.010197  \n",
            "\n",
            "[894 rows x 786 columns]\n"
          ]
        }
      ]
    },
    {
      "cell_type": "code",
      "source": [
        "follow_src = torch.tensor(follow_src)\n",
        "follow_dst = torch.tensor(follow_dst)\n",
        "tweet_src = torch.tensor(tweet_src)\n",
        "tweet_dst = torch.tensor(tweet_dst)\n",
        "\n",
        "hetero_graph = dgl.heterograph({\n",
        "    ('user', 'follow', 'user'): (follow_src, follow_dst),\n",
        "    ('user', 'followed-by', 'user'): (follow_dst, follow_src),\n",
        "    ('user', 'tweet', 'article'): (tweet_src, tweet_dst),\n",
        "    ('article', 'tweeted-by', 'user'): (tweet_dst, tweet_src)})\n",
        "\n",
        "hetero_graph.nodes['user'].data['feat'] = torch.arange(hetero_graph.num_nodes('user'))  \n",
        "hetero_graph.nodes['article'].data['feat'] = torch.tensor(text_embs.values.tolist())\n",
        "hetero_graph.nodes['article'].data['label'] = torch.tensor((df.label==\"real\").to_numpy()).long()"
      ],
      "metadata": {
        "id": "ui3y2a80muWe",
        "colab": {
          "base_uri": "https://localhost:8080/"
        },
        "outputId": "5ce6fa3e-7317-4d63-d00e-5e565ce12cdd"
      },
      "execution_count": 318,
      "outputs": [
        {
          "output_type": "stream",
          "name": "stderr",
          "text": [
            "/usr/local/lib/python3.7/dist-packages/ipykernel_launcher.py:1: UserWarning: To copy construct from a tensor, it is recommended to use sourceTensor.clone().detach() or sourceTensor.clone().detach().requires_grad_(True), rather than torch.tensor(sourceTensor).\n",
            "  \"\"\"Entry point for launching an IPython kernel.\n",
            "/usr/local/lib/python3.7/dist-packages/ipykernel_launcher.py:2: UserWarning: To copy construct from a tensor, it is recommended to use sourceTensor.clone().detach() or sourceTensor.clone().detach().requires_grad_(True), rather than torch.tensor(sourceTensor).\n",
            "  \n",
            "/usr/local/lib/python3.7/dist-packages/ipykernel_launcher.py:3: UserWarning: To copy construct from a tensor, it is recommended to use sourceTensor.clone().detach() or sourceTensor.clone().detach().requires_grad_(True), rather than torch.tensor(sourceTensor).\n",
            "  This is separate from the ipykernel package so we can avoid doing imports until\n",
            "/usr/local/lib/python3.7/dist-packages/ipykernel_launcher.py:4: UserWarning: To copy construct from a tensor, it is recommended to use sourceTensor.clone().detach() or sourceTensor.clone().detach().requires_grad_(True), rather than torch.tensor(sourceTensor).\n",
            "  after removing the cwd from sys.path.\n"
          ]
        }
      ]
    },
    {
      "cell_type": "code",
      "source": [
        "hetero_graph.number_of_nodes(ntype='article'), hetero_graph.number_of_nodes(ntype='user')"
      ],
      "metadata": {
        "colab": {
          "base_uri": "https://localhost:8080/"
        },
        "id": "IcmqOPpJsK6Z",
        "outputId": "fb038a21-718d-44f3-8b2d-88fe3c73e897"
      },
      "execution_count": 319,
      "outputs": [
        {
          "output_type": "execute_result",
          "data": {
            "text/plain": [
              "(894, 31792)"
            ]
          },
          "metadata": {},
          "execution_count": 319
        }
      ]
    },
    {
      "cell_type": "code",
      "source": [
        "hetero_graph.nodes['article'].data['train_mask'] = torch.zeros(hetero_graph.number_of_nodes(ntype='article'), dtype=torch.bool).bernoulli(0.8)"
      ],
      "metadata": {
        "id": "2LboKsvbsJAR"
      },
      "execution_count": 320,
      "outputs": []
    },
    {
      "cell_type": "markdown",
      "source": [
        "### Model"
      ],
      "metadata": {
        "id": "a_NnqbhIvgQm"
      }
    },
    {
      "cell_type": "code",
      "source": [
        "def flatten_dict(d):\n",
        "    for k, v in d.items():\n",
        "        d[k] = v.flatten(1)\n",
        "    return d"
      ],
      "metadata": {
        "id": "LqjDfQQYCzml"
      },
      "execution_count": 321,
      "outputs": []
    },
    {
      "cell_type": "code",
      "source": [
        "from collections import defaultdict\n",
        "import torch.nn as nn\n",
        "import torch.nn.functional as F\n",
        "\n",
        "def _d_emb(): return 64\n",
        "\n",
        "d_emb_dict = defaultdict(_d_emb)"
      ],
      "metadata": {
        "id": "oSGL7euSjzR-"
      },
      "execution_count": 322,
      "outputs": []
    },
    {
      "cell_type": "code",
      "source": [
        "class NodeEmbedding(nn.Module):\n",
        "\n",
        "    def __init__(self, n_nodes, d_in, d_emb, proj_nodes=None, embed_nodes=None):\n",
        "        super().__init__()\n",
        "        self.proj_nodes = proj_nodes if proj_nodes is not None else list(d_in.keys())\n",
        "        self.embed_nodes = embed_nodes if embed_nodes is not None else list(n_nodes.keys())\n",
        "        self.emb = nn.ModuleDict({k:nn.Embedding(n_nodes[k], d_emb) for k in self.embed_nodes})\n",
        "        self.proj = nn.ModuleDict({k:nn.Linear(d_in[k], d_emb, bias=False) for k in self.proj_nodes})\n",
        "        self.init()\n",
        "\n",
        "    def forward(self, nx):\n",
        "        out = {}\n",
        "        for k, m  in self.emb.items():\n",
        "            out[k] = m(nx[k])\n",
        "        for k, m  in self.proj.items():\n",
        "            out[k] = m(nx[k])\n",
        "        return out\n",
        "\n",
        "    def init(self):\n",
        "        for _, m in self.emb.items():\n",
        "            torch.nn.init.xavier_uniform_(m.weight)\n",
        "        for _, m in self.proj.items():\n",
        "            torch.nn.init.xavier_uniform_(m.weight)"
      ],
      "metadata": {
        "id": "YGqNa5UVgfio"
      },
      "execution_count": 323,
      "outputs": []
    },
    {
      "cell_type": "code",
      "source": [
        "emb = NodeEmbedding({k:hetero_graph.num_nodes(k) for k in [\"user\"]}, {\"article\":text_embs.shape[1]}, 64)"
      ],
      "metadata": {
        "id": "HZMUKp0Xl-8v"
      },
      "execution_count": 324,
      "outputs": []
    },
    {
      "cell_type": "code",
      "source": [
        "with torch.no_grad():\n",
        "    x = emb(hetero_graph.ndata['feat'])"
      ],
      "metadata": {
        "id": "BTV2S60Hwcut"
      },
      "execution_count": 325,
      "outputs": []
    },
    {
      "cell_type": "code",
      "source": [
        "for k, v in x.items():\n",
        "    print(k, v.shape)"
      ],
      "metadata": {
        "colab": {
          "base_uri": "https://localhost:8080/"
        },
        "id": "DPxiP5oiLFPb",
        "outputId": "5f0a5f1f-6516-49dc-994e-8adbf498ffea"
      },
      "execution_count": 326,
      "outputs": [
        {
          "output_type": "stream",
          "name": "stdout",
          "text": [
            "user torch.Size([31792, 64])\n",
            "article torch.Size([894, 64])\n"
          ]
        }
      ]
    },
    {
      "cell_type": "code",
      "source": [
        "import torch as th\n",
        "from torch import nn\n",
        "\n",
        "from dgl import function as fn\n",
        "from dgl.nn.functional import edge_softmax\n",
        "from dgl.base import DGLError\n",
        "from dgl.nn.pytorch.utils import Identity\n",
        "from dgl.utils import expand_as_pair\n",
        "\n",
        "\n",
        "class GATConv(nn.Module):\n",
        "    r\"\"\"\n",
        "\n",
        "    Description\n",
        "    -----------\n",
        "    Apply `Graph Attention Network <https://arxiv.org/pdf/1710.10903.pdf>`__\n",
        "    over an input signal.\n",
        "\n",
        "    .. math::\n",
        "        h_i^{(l+1)} = \\sum_{j\\in \\mathcal{N}(i)} \\alpha_{i,j} W^{(l)} h_j^{(l)}\n",
        "\n",
        "    where :math:`\\alpha_{ij}` is the attention score bewteen node :math:`i` and\n",
        "    node :math:`j`:\n",
        "\n",
        "    .. math::\n",
        "        \\alpha_{ij}^{l} &= \\mathrm{softmax_i} (e_{ij}^{l})\n",
        "\n",
        "        e_{ij}^{l} &= \\mathrm{LeakyReLU}\\left(\\vec{a}^T [W h_{i} \\| W h_{j}]\\right)\n",
        "\n",
        "    Parameters\n",
        "    ----------\n",
        "    in_feats : int, or pair of ints\n",
        "        Input feature size; i.e, the number of dimensions of :math:`h_i^{(l)}`.\n",
        "        GATConv can be applied on homogeneous graph and unidirectional\n",
        "        `bipartite graph <https://docs.dgl.ai/generated/dgl.bipartite.html?highlight=bipartite>`__.\n",
        "        If the layer is to be applied to a unidirectional bipartite graph, ``in_feats``\n",
        "        specifies the input feature size on both the source and destination nodes.  If\n",
        "        a scalar is given, the source and destination node feature size would take the\n",
        "        same value.\n",
        "    out_feats : int\n",
        "        Output feature size; i.e, the number of dimensions of :math:`h_i^{(l+1)}`.\n",
        "    num_heads : int\n",
        "        Number of heads in Multi-Head Attention.\n",
        "    feat_drop : float, optional\n",
        "        Dropout rate on feature. Defaults: ``0``.\n",
        "    attn_drop : float, optional\n",
        "        Dropout rate on attention weight. Defaults: ``0``.\n",
        "    negative_slope : float, optional\n",
        "        LeakyReLU angle of negative slope. Defaults: ``0.2``.\n",
        "    residual : bool, optional\n",
        "        If True, use residual connection. Defaults: ``False``.\n",
        "    activation : callable activation function/layer or None, optional.\n",
        "        If not None, applies an activation function to the updated node features.\n",
        "        Default: ``None``.\n",
        "    allow_zero_in_degree : bool, optional\n",
        "        If there are 0-in-degree nodes in the graph, output for those nodes will be invalid\n",
        "        since no message will be passed to those nodes. This is harmful for some applications\n",
        "        causing silent performance regression. This module will raise a DGLError if it detects\n",
        "        0-in-degree nodes in input graph. By setting ``True``, it will suppress the check\n",
        "        and let the users handle it by themselves. Defaults: ``False``.\n",
        "    bias : bool, optional\n",
        "        If True, learns a bias term. Defaults: ``True``.\n",
        "\n",
        "    Note\n",
        "    ----\n",
        "    Zero in-degree nodes will lead to invalid output value. This is because no message\n",
        "    will be passed to those nodes, the aggregation function will be appied on empty input.\n",
        "    A common practice to avoid this is to add a self-loop for each node in the graph if\n",
        "    it is homogeneous, which can be achieved by:\n",
        "\n",
        "    >>> g = ... # a DGLGraph\n",
        "    >>> g = dgl.add_self_loop(g)\n",
        "\n",
        "    Calling ``add_self_loop`` will not work for some graphs, for example, heterogeneous graph\n",
        "    since the edge type can not be decided for self_loop edges. Set ``allow_zero_in_degree``\n",
        "    to ``True`` for those cases to unblock the code and handle zero-in-degree nodes manually.\n",
        "    A common practise to handle this is to filter out the nodes with zero-in-degree when use\n",
        "    after conv.\n",
        "\n",
        "    Examples\n",
        "    --------\n",
        "    >>> import dgl\n",
        "    >>> import numpy as np\n",
        "    >>> import torch as th\n",
        "    >>> from dgl.nn import GATConv\n",
        "\n",
        "    >>> # Case 1: Homogeneous graph\n",
        "    >>> g = dgl.graph(([0,1,2,3,2,5], [1,2,3,4,0,3]))\n",
        "    >>> g = dgl.add_self_loop(g)\n",
        "    >>> feat = th.ones(6, 10)\n",
        "    >>> gatconv = GATConv(10, 2, num_heads=3)\n",
        "    >>> res = gatconv(g, feat)\n",
        "    >>> res\n",
        "    tensor([[[ 3.4570,  1.8634],\n",
        "            [ 1.3805, -0.0762],\n",
        "            [ 1.0390, -1.1479]],\n",
        "            [[ 3.4570,  1.8634],\n",
        "            [ 1.3805, -0.0762],\n",
        "            [ 1.0390, -1.1479]],\n",
        "            [[ 3.4570,  1.8634],\n",
        "            [ 1.3805, -0.0762],\n",
        "            [ 1.0390, -1.1479]],\n",
        "            [[ 3.4570,  1.8634],\n",
        "            [ 1.3805, -0.0762],\n",
        "            [ 1.0390, -1.1479]],\n",
        "            [[ 3.4570,  1.8634],\n",
        "            [ 1.3805, -0.0762],\n",
        "            [ 1.0390, -1.1479]],\n",
        "            [[ 3.4570,  1.8634],\n",
        "            [ 1.3805, -0.0762],\n",
        "            [ 1.0390, -1.1479]]], grad_fn=<BinaryReduceBackward>)\n",
        "\n",
        "    >>> # Case 2: Unidirectional bipartite graph\n",
        "    >>> u = [0, 1, 0, 0, 1]\n",
        "    >>> v = [0, 1, 2, 3, 2]\n",
        "    >>> g = dgl.heterograph({('A', 'r', 'B'): (u, v)})\n",
        "    >>> u_feat = th.tensor(np.random.rand(2, 5).astype(np.float32))\n",
        "    >>> v_feat = th.tensor(np.random.rand(4, 10).astype(np.float32))\n",
        "    >>> gatconv = GATConv((5,10), 2, 3)\n",
        "    >>> res = gatconv(g, (u_feat, v_feat))\n",
        "    >>> res\n",
        "    tensor([[[-0.6066,  1.0268],\n",
        "            [-0.5945, -0.4801],\n",
        "            [ 0.1594,  0.3825]],\n",
        "            [[ 0.0268,  1.0783],\n",
        "            [ 0.5041, -1.3025],\n",
        "            [ 0.6568,  0.7048]],\n",
        "            [[-0.2688,  1.0543],\n",
        "            [-0.0315, -0.9016],\n",
        "            [ 0.3943,  0.5347]],\n",
        "            [[-0.6066,  1.0268],\n",
        "            [-0.5945, -0.4801],\n",
        "            [ 0.1594,  0.3825]]], grad_fn=<BinaryReduceBackward>)\n",
        "    \"\"\"\n",
        "    def __init__(self,\n",
        "                 in_feats,\n",
        "                 out_feats,\n",
        "                 num_heads,\n",
        "                 feat_drop=0.,\n",
        "                 attn_drop=0.,\n",
        "                 negative_slope=0.2,\n",
        "                 residual=False,\n",
        "                 activation=None,\n",
        "                 allow_zero_in_degree=False,\n",
        "                 bias=True):\n",
        "        super(GATConv, self).__init__()\n",
        "        self._num_heads = num_heads\n",
        "        self._in_src_feats, self._in_dst_feats = expand_as_pair(in_feats)\n",
        "        self._out_feats = out_feats\n",
        "        self._allow_zero_in_degree = allow_zero_in_degree\n",
        "        if isinstance(in_feats, tuple):\n",
        "            self.fc_src = nn.Linear(\n",
        "                self._in_src_feats, out_feats * num_heads, bias=False)\n",
        "            self.fc_dst = nn.Linear(\n",
        "                self._in_dst_feats, out_feats * num_heads, bias=False)\n",
        "        else:\n",
        "            self.fc = nn.Linear(\n",
        "                self._in_src_feats, out_feats * num_heads, bias=False)\n",
        "        self.attn_l = nn.Parameter(th.FloatTensor(size=(1, num_heads, out_feats)))\n",
        "        self.attn_r = nn.Parameter(th.FloatTensor(size=(1, num_heads, out_feats)))\n",
        "        self.feat_drop = nn.Dropout(feat_drop)\n",
        "        self.attn_drop = nn.Dropout(attn_drop)\n",
        "        self.leaky_relu = nn.LeakyReLU(negative_slope)\n",
        "        if bias:\n",
        "            self.bias = nn.Parameter(th.FloatTensor(size=(num_heads * out_feats,)))\n",
        "        else:\n",
        "            self.register_buffer('bias', None)\n",
        "        if residual:\n",
        "            if self._in_dst_feats != out_feats * num_heads:\n",
        "                self.res_fc = nn.Linear(\n",
        "                    self._in_dst_feats, num_heads * out_feats, bias=False)\n",
        "            else:\n",
        "                self.res_fc = Identity()\n",
        "        else:\n",
        "            self.register_buffer('res_fc', None)\n",
        "        self.reset_parameters()\n",
        "        self.activation = activation\n",
        "\n",
        "    def reset_parameters(self):\n",
        "        \"\"\"\n",
        "\n",
        "        Description\n",
        "        -----------\n",
        "        Reinitialize learnable parameters.\n",
        "\n",
        "        Note\n",
        "        ----\n",
        "        The fc weights :math:`W^{(l)}` are initialized using Glorot uniform initialization.\n",
        "        The attention weights are using xavier initialization method.\n",
        "        \"\"\"\n",
        "        gain = nn.init.calculate_gain('relu')\n",
        "        if hasattr(self, 'fc'):\n",
        "            nn.init.xavier_normal_(self.fc.weight, gain=gain)\n",
        "        else:\n",
        "            nn.init.xavier_normal_(self.fc_src.weight, gain=gain)\n",
        "            nn.init.xavier_normal_(self.fc_dst.weight, gain=gain)\n",
        "        nn.init.xavier_normal_(self.attn_l, gain=gain)\n",
        "        nn.init.xavier_normal_(self.attn_r, gain=gain)\n",
        "        if self.bias is not None:\n",
        "            nn.init.constant_(self.bias, 0)\n",
        "        if isinstance(self.res_fc, nn.Linear):\n",
        "            nn.init.xavier_normal_(self.res_fc.weight, gain=gain)\n",
        "\n",
        "    def set_allow_zero_in_degree(self, set_value):\n",
        "        r\"\"\"\n",
        "\n",
        "        Description\n",
        "        -----------\n",
        "        Set allow_zero_in_degree flag.\n",
        "\n",
        "        Parameters\n",
        "        ----------\n",
        "        set_value : bool\n",
        "            The value to be set to the flag.\n",
        "        \"\"\"\n",
        "        self._allow_zero_in_degree = set_value\n",
        "\n",
        "    def forward(self, graph, feat, get_attention=False):\n",
        "        r\"\"\"\n",
        "\n",
        "        Description\n",
        "        -----------\n",
        "        Compute graph attention network layer.\n",
        "\n",
        "        Parameters\n",
        "        ----------\n",
        "        graph : DGLGraph\n",
        "            The graph.\n",
        "        feat : torch.Tensor or pair of torch.Tensor\n",
        "            If a torch.Tensor is given, the input feature of shape :math:`(N, *, D_{in})` where\n",
        "            :math:`D_{in}` is size of input feature, :math:`N` is the number of nodes.\n",
        "            If a pair of torch.Tensor is given, the pair must contain two tensors of shape\n",
        "            :math:`(N_{in}, *, D_{in_{src}})` and :math:`(N_{out}, *, D_{in_{dst}})`.\n",
        "        get_attention : bool, optional\n",
        "            Whether to return the attention values. Default to False.\n",
        "\n",
        "        Returns\n",
        "        -------\n",
        "        torch.Tensor\n",
        "            The output feature of shape :math:`(N, *, H, D_{out})` where :math:`H`\n",
        "            is the number of heads, and :math:`D_{out}` is size of output feature.\n",
        "        torch.Tensor, optional\n",
        "            The attention values of shape :math:`(E, *, H, 1)`, where :math:`E` is the number of\n",
        "            edges. This is returned only when :attr:`get_attention` is ``True``.\n",
        "\n",
        "        Raises\n",
        "        ------\n",
        "        DGLError\n",
        "            If there are 0-in-degree nodes in the input graph, it will raise DGLError\n",
        "            since no message will be passed to those nodes. This will cause invalid output.\n",
        "            The error can be ignored by setting ``allow_zero_in_degree`` parameter to ``True``.\n",
        "        \"\"\"\n",
        "        with graph.local_scope():\n",
        "            if not self._allow_zero_in_degree:\n",
        "                if (graph.in_degrees() == 0).any():\n",
        "                    raise DGLError('There are 0-in-degree nodes in the graph, '\n",
        "                                   'output for those nodes will be invalid. '\n",
        "                                   'This is harmful for some applications, '\n",
        "                                   'causing silent performance regression. '\n",
        "                                   'Adding self-loop on the input graph by '\n",
        "                                   'calling `g = dgl.add_self_loop(g)` will resolve '\n",
        "                                   'the issue. Setting ``allow_zero_in_degree`` '\n",
        "                                   'to be `True` when constructing this module will '\n",
        "                                   'suppress the check and let the code run.')\n",
        "\n",
        "            if isinstance(feat, tuple):\n",
        "                src_prefix_shape = feat[0].shape[:-1]\n",
        "                dst_prefix_shape = feat[1].shape[:-1]\n",
        "                h_src = self.feat_drop(feat[0])\n",
        "                h_dst = self.feat_drop(feat[1])\n",
        "                if not hasattr(self, 'fc_src'):\n",
        "                    feat_src = self.fc(h_src).view(\n",
        "                        *src_prefix_shape, self._num_heads, self._out_feats)\n",
        "                    feat_dst = self.fc(h_dst).view(\n",
        "                        *dst_prefix_shape, self._num_heads, self._out_feats)\n",
        "                else:\n",
        "                    feat_src = self.fc_src(h_src).view(\n",
        "                        *src_prefix_shape, self._num_heads, self._out_feats)\n",
        "                    feat_dst = self.fc_dst(h_dst).view(\n",
        "                        *dst_prefix_shape, self._num_heads, self._out_feats)\n",
        "            else:\n",
        "                src_prefix_shape = dst_prefix_shape = feat.shape[:-1]\n",
        "                h_src = h_dst = self.feat_drop(feat)\n",
        "                feat_src = feat_dst = self.fc(h_src).view(\n",
        "                    *src_prefix_shape, self._num_heads, self._out_feats)\n",
        "                if graph.is_block:\n",
        "                    feat_dst = feat_src[:graph.number_of_dst_nodes()]\n",
        "                    h_dst = h_dst[:graph.number_of_dst_nodes()]\n",
        "                    dst_prefix_shape = (graph.number_of_dst_nodes(),) + dst_prefix_shape[1:]\n",
        "            # NOTE: GAT paper uses \"first concatenation then linear projection\"\n",
        "            # to compute attention scores, while ours is \"first projection then\n",
        "            # addition\", the two approaches are mathematically equivalent:\n",
        "            # We decompose the weight vector a mentioned in the paper into\n",
        "            # [a_l || a_r], then\n",
        "            # a^T [Wh_i || Wh_j] = a_l Wh_i + a_r Wh_j\n",
        "            # Our implementation is much efficient because we do not need to\n",
        "            # save [Wh_i || Wh_j] on edges, which is not memory-efficient. Plus,\n",
        "            # addition could be optimized with DGL's built-in function u_add_v,\n",
        "            # which further speeds up computation and saves memory footprint.\n",
        "            el = (feat_src * self.attn_l).sum(dim=-1).unsqueeze(-1)\n",
        "            er = (feat_dst * self.attn_r).sum(dim=-1).unsqueeze(-1)\n",
        "            graph.srcdata.update({'ft': feat_src, 'el': el})\n",
        "            graph.dstdata.update({'er': er})\n",
        "            # compute edge attention, el and er are a_l Wh_i and a_r Wh_j respectively.\n",
        "            graph.apply_edges(fn.u_add_v('el', 'er', 'e'))\n",
        "            e = self.leaky_relu(graph.edata.pop('e'))\n",
        "            # compute softmax\n",
        "            graph.edata['a'] = self.attn_drop(edge_softmax(graph, e))\n",
        "            # message passing\n",
        "            graph.update_all(fn.u_mul_e('ft', 'a', 'm'),\n",
        "                             fn.sum('m', 'ft'))\n",
        "            rst = graph.dstdata['ft']\n",
        "            # residual\n",
        "            if self.res_fc is not None:\n",
        "                # Use -1 rather than self._num_heads to handle broadcasting\n",
        "                resval = self.res_fc(h_dst).view(*dst_prefix_shape, self._num_heads, self._out_feats)\n",
        "                rst = rst + resval\n",
        "            # bias\n",
        "            if self.bias is not None:\n",
        "                rst = rst + self.bias.view(\n",
        "                    *((1,) * len(dst_prefix_shape)), self._num_heads, self._out_feats)\n",
        "            # activation\n",
        "            if self.activation:\n",
        "                rst = self.activation(rst)\n",
        "\n",
        "            if get_attention:\n",
        "                return rst, graph.edata['a']\n",
        "            else:\n",
        "                return rst\n"
      ],
      "metadata": {
        "id": "k82o39yKiI6l"
      },
      "execution_count": 327,
      "outputs": []
    },
    {
      "cell_type": "code",
      "source": [
        "class GATEncoder(torch.nn.Module):\n",
        "\n",
        "    def __init__(self, d_in, d_h, etypes, num_heads=1, dropout=0.1):\n",
        "        super().__init__()\n",
        "        self.conv1 = dgl.nn.HeteroGraphConv({\n",
        "            rel : GATConv(d_in, d_h, num_heads, dropout, dropout,\n",
        "                      residual=True, activation=nn.SELU(), \n",
        "                  ) for rel in etypes\n",
        "        })\n",
        "        self.conv2 = dgl.nn.HeteroGraphConv({\n",
        "            rel : GATConv(d_h*num_heads, d_h, num_heads, dropout, dropout,\n",
        "                      residual=True, activation=None, \n",
        "                  ) for rel in etypes\n",
        "        })\n",
        "\n",
        "    def forward(self, graph, x):\n",
        "        x = flatten_dict(self.conv1(graph, x))\n",
        "        x = flatten_dict(self.conv2(graph, x))\n",
        "        return x"
      ],
      "metadata": {
        "id": "VFx3l8mOsuke"
      },
      "execution_count": 328,
      "outputs": []
    },
    {
      "cell_type": "code",
      "source": [
        "hetero_graph.etypes"
      ],
      "metadata": {
        "colab": {
          "base_uri": "https://localhost:8080/"
        },
        "id": "kD2XRKbc1y05",
        "outputId": "a784033a-97d6-4d0b-ed47-5dad79b822ff"
      },
      "execution_count": 329,
      "outputs": [
        {
          "output_type": "execute_result",
          "data": {
            "text/plain": [
              "['tweeted-by', 'follow', 'followed-by', 'tweet']"
            ]
          },
          "metadata": {},
          "execution_count": 329
        }
      ]
    },
    {
      "cell_type": "code",
      "source": [
        "enc = GATEncoder(64, 64, hetero_graph.etypes)\n",
        "\n",
        "with torch.no_grad():\n",
        "    out = enc(hetero_graph, x)\n",
        "\n",
        "out"
      ],
      "metadata": {
        "colab": {
          "base_uri": "https://localhost:8080/"
        },
        "id": "2qTEeMWt1NUq",
        "outputId": "d5a2c621-cc99-4e32-8e6f-9bcf6adbd03d"
      },
      "execution_count": 330,
      "outputs": [
        {
          "output_type": "execute_result",
          "data": {
            "text/plain": [
              "{'article': tensor([[-8.6927e-01,  8.9977e-01,  4.5092e-01,  ...,  1.0683e+00,\n",
              "           0.0000e+00, -1.1636e+00],\n",
              "         [-1.0188e+00,  1.1493e+00,  0.0000e+00,  ...,  1.2287e+00,\n",
              "          -1.9891e-01, -1.3664e+00],\n",
              "         [-6.3096e-01,  0.0000e+00,  8.7443e-01,  ...,  1.4495e+00,\n",
              "           5.9866e-02, -1.2981e+00],\n",
              "         ...,\n",
              "         [ 3.4970e-01, -8.5775e-01, -1.0827e+00,  ..., -1.3127e+00,\n",
              "          -3.2055e-01,  9.7906e-01],\n",
              "         [-4.7286e-01,  9.2204e-01,  7.6464e-01,  ...,  8.8718e-01,\n",
              "          -2.1716e-01,  0.0000e+00],\n",
              "         [ 9.0053e+03,  9.0819e+03,  1.1882e+04,  ..., -7.0525e+03,\n",
              "           1.3924e+03,  1.2293e+02]]),\n",
              " 'user': tensor([[-7.1073e+03,  2.2604e+03,  7.2117e+02,  ..., -9.5134e+03,\n",
              "           3.1511e+04,  4.6570e+04],\n",
              "         [ 1.2061e+04,  9.7785e+02,  1.4455e+04,  ..., -2.0080e+02,\n",
              "          -1.7169e+04,  9.2001e+03],\n",
              "         [ 1.2061e+04,  9.7790e+02,  1.4455e+04,  ..., -2.0085e+02,\n",
              "          -1.7169e+04,  9.1998e+03],\n",
              "         ...,\n",
              "         [ 7.1512e+03,  5.2286e+03, -1.0619e+04,  ..., -4.1115e+01,\n",
              "           9.2854e+03, -1.9709e+03],\n",
              "         [ 7.1511e+03,  5.2286e+03, -1.0619e+04,  ..., -4.1233e+01,\n",
              "           9.2854e+03, -1.9709e+03],\n",
              "         [ 7.1514e+03,  5.2286e+03, -1.0619e+04,  ..., -4.1318e+01,\n",
              "           9.2851e+03, -1.9712e+03]])}"
            ]
          },
          "metadata": {},
          "execution_count": 330
        }
      ]
    },
    {
      "cell_type": "code",
      "source": [
        "class HetGNN(nn.Module):\n",
        "\n",
        "    def __init__(self, g, n_nodes, d_feats, d_emb, d_h, tgt_ntype, num_heads=1):\n",
        "        super().__init__()\n",
        "        torch.manual_seed(123)\n",
        "        self.tgt_ntype = tgt_ntype\n",
        "        self.emb = NodeEmbedding(n_nodes, d_feats, d_emb)\n",
        "        self.encoder = GATEncoder(d_emb, d_h, g.etypes, num_heads)\n",
        "        self.head = nn.Linear(d_h*num_heads, 2)\n",
        "\n",
        "    def forward(self, graph, x):\n",
        "        h = self.emb(x)\n",
        "        h = self.encoder(graph, h)\n",
        "        return self.head(h[self.tgt_ntype])"
      ],
      "metadata": {
        "id": "QKkjZgvfzZbn"
      },
      "execution_count": 331,
      "outputs": []
    },
    {
      "cell_type": "code",
      "source": [
        "model = HetGNN(hetero_graph, {k:hetero_graph.num_nodes(k) for k in [\"user\"]}, {'article':text_embs.shape[1]}, 64, 64, \"article\")"
      ],
      "metadata": {
        "id": "aY0DeDcd3jy-"
      },
      "execution_count": 332,
      "outputs": []
    },
    {
      "cell_type": "code",
      "source": [
        "with torch.no_grad():\n",
        "    x = hetero_graph.ndata['feat']\n",
        "    logits = model(hetero_graph, x)\n",
        "\n",
        "logits"
      ],
      "metadata": {
        "colab": {
          "base_uri": "https://localhost:8080/"
        },
        "id": "gz8m3W6l4S6J",
        "outputId": "c843b4e2-c03d-456c-a136-37efbe555a13"
      },
      "execution_count": 333,
      "outputs": [
        {
          "output_type": "execute_result",
          "data": {
            "text/plain": [
              "tensor([[ 2.9343e-01,  4.2438e-01],\n",
              "        [-2.4458e-01, -2.2428e-02],\n",
              "        [ 2.5643e-01, -1.3029e-01],\n",
              "        ...,\n",
              "        [ 1.9467e-01,  9.6576e-02],\n",
              "        [ 2.2322e-01,  1.2810e-01],\n",
              "        [-4.1827e+03,  8.0900e+03]])"
            ]
          },
          "metadata": {},
          "execution_count": 333
        }
      ]
    },
    {
      "cell_type": "code",
      "source": [
        "def accuracy(logits, labels):\n",
        "    return (logits.argmax(-1) == labels).float().mean()"
      ],
      "metadata": {
        "id": "BunQmwFY8Xso"
      },
      "execution_count": 334,
      "outputs": []
    },
    {
      "cell_type": "code",
      "source": [
        "model = HetGNN(hetero_graph, {k:hetero_graph.num_nodes(k) for k in [\"user\"]}, {'article':text_embs.shape[1]}, 64, 64, \"article\")\n",
        "\n",
        "x = hetero_graph.ndata['feat']\n",
        "train_mask = hetero_graph.ndata['train_mask']['article']\n",
        "labels = hetero_graph.ndata['label']['article']"
      ],
      "metadata": {
        "id": "yvbuuvi556U4"
      },
      "execution_count": 335,
      "outputs": []
    },
    {
      "cell_type": "code",
      "source": [
        "opt = torch.optim.Adam(model.parameters(), lr=0.005)\n",
        "\n",
        "for epoch in range(40):\n",
        "    model.train()\n",
        "    logits = model(hetero_graph, x)\n",
        "\n",
        "    print(logits)\n",
        "    \n",
        "    loss = F.cross_entropy(logits[train_mask], labels[train_mask])\n",
        "    acc = accuracy(logits[train_mask], labels[train_mask])*100\n",
        "    opt.zero_grad()\n",
        "    loss.backward()\n",
        "    opt.step()\n",
        "\n",
        "    with torch.no_grad():\n",
        "        val_loss = F.cross_entropy(logits[~train_mask], labels[~train_mask])\n",
        "        val_acc = accuracy(logits[~train_mask], labels[~train_mask])*100\n",
        "    print(f\"{epoch+1:>2}: Train loss {loss.item():.4f}, acc {acc:.2f}%; validation loss {val_loss.item():.4f}, acc {val_acc:.2f}%\")\n"
      ],
      "metadata": {
        "colab": {
          "base_uri": "https://localhost:8080/"
        },
        "id": "Kiu8dH-42Xay",
        "outputId": "4e4093c0-3956-4c45-fbbf-ae62cccb0d68"
      },
      "execution_count": 336,
      "outputs": [
        {
          "output_type": "stream",
          "name": "stdout",
          "text": [
            "tensor([[ 2.9343e-01,  4.2438e-01],\n",
            "        [-2.4458e-01, -2.2428e-02],\n",
            "        [ 2.5643e-01, -1.3029e-01],\n",
            "        ...,\n",
            "        [ 1.9467e-01,  9.6576e-02],\n",
            "        [ 2.2322e-01,  1.2810e-01],\n",
            "        [-4.1827e+03,  8.0900e+03]], grad_fn=<AddmmBackward0>)\n",
            " 1: Train loss 4.4912, acc 49.24%; validation loss 0.6235, acc 49.71%\n",
            "tensor([[ 1.0228e+00, -8.5557e-01],\n",
            "        [ 1.1809e+00, -8.6816e-01],\n",
            "        [ 1.0469e+00, -9.2738e-01],\n",
            "        ...,\n",
            "        [-8.3437e-01,  8.1696e-01],\n",
            "        [ 1.1226e+00, -8.9444e-01],\n",
            "        [-9.2805e+02,  1.0687e+04]], grad_fn=<AddmmBackward0>)\n",
            " 2: Train loss 0.1649, acc 96.82%; validation loss 0.1443, acc 98.25%\n",
            "tensor([[ 1.9027e+00, -1.8078e+00],\n",
            "        [ 2.0474e+00, -1.8245e+00],\n",
            "        [ 2.3304e+00, -1.0493e+00],\n",
            "        ...,\n",
            "        [-1.7957e+00,  2.0808e+00],\n",
            "        [ 2.0142e+00, -1.4106e+00],\n",
            "        [-5.0123e+03,  1.0796e+04]], grad_fn=<AddmmBackward0>)\n",
            " 3: Train loss 0.1012, acc 96.68%; validation loss 0.0724, acc 98.25%\n",
            "tensor([[ 2.3414e+00, -1.8088e+00],\n",
            "        [ 3.2008e+00, -3.1791e+00],\n",
            "        [ 3.1406e+00, -2.3051e+00],\n",
            "        ...,\n",
            "        [-2.2605e+00,  2.6444e+00],\n",
            "        [ 2.6792e+00, -2.5882e+00],\n",
            "        [-1.0093e+03,  8.9187e+03]], grad_fn=<AddmmBackward0>)\n",
            " 4: Train loss 5.7924, acc 96.54%; validation loss 0.0552, acc 98.25%\n",
            "tensor([[ 2.2086e+00, -1.9620e+00],\n",
            "        [ 3.9359e+00, -2.5876e+00],\n",
            "        [ 3.4129e+00, -2.5745e+00],\n",
            "        ...,\n",
            "        [-2.8964e+00,  2.6131e+00],\n",
            "        [ 2.6940e+00, -1.9857e+00],\n",
            "        [-6.8345e+03,  9.9772e+03]], grad_fn=<AddmmBackward0>)\n",
            " 5: Train loss 0.0922, acc 96.96%; validation loss 0.0516, acc 98.25%\n",
            "tensor([[ 2.8007e+00, -2.5241e+00],\n",
            "        [ 4.0643e+00, -3.7445e+00],\n",
            "        [ 3.3524e+00, -2.9611e+00],\n",
            "        ...,\n",
            "        [-2.2940e+00,  2.8173e+00],\n",
            "        [ 3.3858e+00, -3.0214e+00],\n",
            "        [-1.4176e+04,  2.0568e+04]], grad_fn=<AddmmBackward0>)\n",
            " 6: Train loss 0.0937, acc 96.82%; validation loss 0.0508, acc 98.25%\n",
            "tensor([[ 3.1094e+00, -2.7788e+00],\n",
            "        [ 3.5910e+00, -3.2022e+00],\n",
            "        [ 3.5077e+00, -2.4089e+00],\n",
            "        ...,\n",
            "        [-3.8087e+00,  3.1225e+00],\n",
            "        [ 2.6976e+00, -3.1720e+00],\n",
            "        [-2.1496e+04,  2.3568e+04]], grad_fn=<AddmmBackward0>)\n",
            " 7: Train loss 0.0913, acc 96.96%; validation loss 0.0528, acc 97.66%\n",
            "tensor([[ 2.8668e+00, -2.4126e+00],\n",
            "        [ 4.0806e+00, -3.5578e+00],\n",
            "        [ 3.5060e+00, -3.2642e+00],\n",
            "        ...,\n",
            "        [-3.8259e+00,  2.5094e+00],\n",
            "        [ 3.2501e+00, -2.6104e+00],\n",
            "        [-2.2050e+04,  3.0346e+04]], grad_fn=<AddmmBackward0>)\n",
            " 8: Train loss 0.0911, acc 96.82%; validation loss 0.0509, acc 97.66%\n",
            "tensor([[ 2.0250e+00, -2.1694e+00],\n",
            "        [ 3.4709e+00, -3.6108e+00],\n",
            "        [ 3.8857e+00, -3.0432e+00],\n",
            "        ...,\n",
            "        [-3.9841e+00,  3.6475e+00],\n",
            "        [ 3.7677e+00, -2.9621e+00],\n",
            "        [-2.6742e+04,  3.4808e+04]], grad_fn=<AddmmBackward0>)\n",
            " 9: Train loss 0.0951, acc 96.96%; validation loss 0.0534, acc 98.25%\n",
            "tensor([[ 3.0162e+00, -2.8445e+00],\n",
            "        [ 4.2227e+00, -3.2526e+00],\n",
            "        [ 3.8818e+00, -3.2366e+00],\n",
            "        ...,\n",
            "        [-3.8955e+00,  4.1615e+00],\n",
            "        [ 2.4457e+00, -3.4771e+00],\n",
            "        [-2.2369e+04,  2.4797e+04]], grad_fn=<AddmmBackward0>)\n",
            "10: Train loss 0.0923, acc 96.82%; validation loss 0.0565, acc 97.66%\n",
            "tensor([[ 2.8735e+00, -3.2642e+00],\n",
            "        [ 3.6453e+00, -3.6091e+00],\n",
            "        [ 3.5015e+00, -1.8205e+00],\n",
            "        ...,\n",
            "        [-4.5125e+00,  2.9709e+00],\n",
            "        [ 3.4840e+00, -3.1742e+00],\n",
            "        [-3.4477e+04,  3.9347e+04]], grad_fn=<AddmmBackward0>)\n",
            "11: Train loss 0.0955, acc 96.96%; validation loss 0.0516, acc 97.66%\n",
            "tensor([[ 2.0861e+00, -2.4164e+00],\n",
            "        [ 4.0368e+00, -4.1443e+00],\n",
            "        [ 3.2738e+00, -2.8677e+00],\n",
            "        ...,\n",
            "        [-4.8639e+00,  3.5711e+00],\n",
            "        [ 3.5440e+00, -3.1393e+00],\n",
            "        [-3.9644e+04,  4.2728e+04]], grad_fn=<AddmmBackward0>)\n",
            "12: Train loss 0.0959, acc 96.82%; validation loss 0.0525, acc 97.66%\n",
            "tensor([[ 2.7113e+00, -2.1827e+00],\n",
            "        [ 3.5654e+00, -3.8023e+00],\n",
            "        [ 3.8887e+00, -3.3398e+00],\n",
            "        ...,\n",
            "        [-4.6210e+00,  3.1936e+00],\n",
            "        [ 3.8139e+00, -2.8199e+00],\n",
            "        [-3.8293e+04,  3.9430e+04]], grad_fn=<AddmmBackward0>)\n",
            "13: Train loss 0.0920, acc 96.82%; validation loss 0.0511, acc 97.66%\n",
            "tensor([[ 3.0679e+00, -3.1108e+00],\n",
            "        [ 3.5259e+00, -3.7081e+00],\n",
            "        [ 3.8331e+00, -3.4065e+00],\n",
            "        ...,\n",
            "        [-4.8032e+00,  3.3910e+00],\n",
            "        [ 3.4550e+00, -2.2249e+00],\n",
            "        [-3.8386e+04,  4.1242e+04]], grad_fn=<AddmmBackward0>)\n",
            "14: Train loss 0.0919, acc 96.82%; validation loss 0.0561, acc 97.66%\n",
            "tensor([[ 3.0434e+00, -3.0981e+00],\n",
            "        [ 3.7345e+00, -4.7888e+00],\n",
            "        [ 3.4554e+00, -2.6881e+00],\n",
            "        ...,\n",
            "        [-5.0084e+00,  4.0150e+00],\n",
            "        [ 2.9152e+00, -3.1551e+00],\n",
            "        [-5.1224e+04,  5.4853e+04]], grad_fn=<AddmmBackward0>)\n",
            "15: Train loss 0.0888, acc 96.82%; validation loss 0.0536, acc 97.66%\n",
            "tensor([[ 3.3301e+00, -3.0395e+00],\n",
            "        [ 4.5782e+00, -3.9643e+00],\n",
            "        [ 4.1199e+00, -3.5850e+00],\n",
            "        ...,\n",
            "        [-4.6469e+00,  3.7882e+00],\n",
            "        [ 3.5658e+00, -2.5975e+00],\n",
            "        [-3.9237e+03,  4.8010e+03]], grad_fn=<AddmmBackward0>)\n",
            "16: Train loss 0.0867, acc 96.82%; validation loss 0.0552, acc 97.66%\n",
            "tensor([[ 3.9211e+00, -2.7532e+00],\n",
            "        [ 4.0882e+00, -3.5939e+00],\n",
            "        [ 3.3006e+00, -2.7654e+00],\n",
            "        ...,\n",
            "        [-4.9179e+00,  3.0494e+00],\n",
            "        [ 2.7273e+00, -2.0414e+00],\n",
            "        [-4.1810e+04,  4.3764e+04]], grad_fn=<AddmmBackward0>)\n",
            "17: Train loss 0.0862, acc 96.82%; validation loss 0.0583, acc 97.66%\n",
            "tensor([[ 2.8516e+00, -2.6493e+00],\n",
            "        [ 4.2039e+00, -3.9939e+00],\n",
            "        [ 4.7751e+00, -3.0667e+00],\n",
            "        ...,\n",
            "        [-5.4791e+00,  3.9732e+00],\n",
            "        [ 2.5558e+00, -2.8028e+00],\n",
            "        [-4.6456e+04,  4.7491e+04]], grad_fn=<AddmmBackward0>)\n",
            "18: Train loss 0.0890, acc 96.96%; validation loss 0.0571, acc 97.66%\n",
            "tensor([[ 3.4922e+00, -2.8635e+00],\n",
            "        [ 4.6266e+00, -3.8252e+00],\n",
            "        [ 3.6618e+00, -3.2531e+00],\n",
            "        ...,\n",
            "        [-5.5154e+00,  3.5762e+00],\n",
            "        [ 3.6739e+00, -2.9130e+00],\n",
            "        [-4.3991e+04,  5.0435e+04]], grad_fn=<AddmmBackward0>)\n",
            "19: Train loss 0.0843, acc 96.82%; validation loss 0.0564, acc 97.66%\n",
            "tensor([[ 2.8952e+00, -3.6319e+00],\n",
            "        [ 3.9060e+00, -2.8698e+00],\n",
            "        [ 4.0112e+00, -2.0335e+00],\n",
            "        ...,\n",
            "        [-5.8233e+00,  3.5594e+00],\n",
            "        [ 3.4797e+00, -3.3288e+00],\n",
            "        [-5.4039e+04,  5.7582e+04]], grad_fn=<AddmmBackward0>)\n",
            "20: Train loss 0.0811, acc 96.96%; validation loss 0.0587, acc 97.66%\n",
            "tensor([[ 2.2341e+00, -3.4136e+00],\n",
            "        [ 3.3752e+00, -4.6437e+00],\n",
            "        [ 3.8185e+00, -3.0734e+00],\n",
            "        ...,\n",
            "        [-4.8210e+00,  3.6372e+00],\n",
            "        [ 3.5659e+00, -3.6175e+00],\n",
            "        [-5.0664e+03,  5.8924e+03]], grad_fn=<AddmmBackward0>)\n",
            "21: Train loss 0.0795, acc 96.82%; validation loss 0.0605, acc 97.66%\n",
            "tensor([[ 1.9848e+00, -2.1615e+00],\n",
            "        [ 4.1388e+00, -4.5747e+00],\n",
            "        [ 2.6191e+00, -3.4055e+00],\n",
            "        ...,\n",
            "        [-5.2153e+00,  3.8299e+00],\n",
            "        [ 3.6287e+00, -3.1061e+00],\n",
            "        [-5.0798e+04,  4.6447e+04]], grad_fn=<AddmmBackward0>)\n",
            "22: Train loss 0.0779, acc 97.10%; validation loss 0.0600, acc 97.66%\n",
            "tensor([[ 2.6165e+00, -2.0728e+00],\n",
            "        [ 4.2710e+00, -4.0837e+00],\n",
            "        [ 3.7848e+00, -3.2166e+00],\n",
            "        ...,\n",
            "        [-5.4654e+00,  4.2629e+00],\n",
            "        [ 3.0719e+00, -3.3330e+00],\n",
            "        [-6.6182e+04,  6.4694e+04]], grad_fn=<AddmmBackward0>)\n",
            "23: Train loss 0.0780, acc 97.23%; validation loss 0.0620, acc 97.66%\n",
            "tensor([[ 2.7479e+00, -2.7676e+00],\n",
            "        [ 3.6398e+00, -3.6893e+00],\n",
            "        [ 3.1877e+00, -2.8891e+00],\n",
            "        ...,\n",
            "        [-5.1252e+00,  2.7555e+00],\n",
            "        [ 4.0455e+00, -3.2699e+00],\n",
            "        [-6.3986e+04,  6.6140e+04]], grad_fn=<AddmmBackward0>)\n",
            "24: Train loss 0.0796, acc 97.23%; validation loss 0.0587, acc 97.66%\n",
            "tensor([[ 3.7651e+00, -2.8394e+00],\n",
            "        [ 4.1637e+00, -3.9210e+00],\n",
            "        [ 3.4914e+00, -3.2741e+00],\n",
            "        ...,\n",
            "        [-3.6308e+00,  2.8836e+00],\n",
            "        [ 3.8675e+00, -3.0389e+00],\n",
            "        [-6.4029e+04,  6.5883e+04]], grad_fn=<AddmmBackward0>)\n",
            "25: Train loss 0.0739, acc 97.23%; validation loss 0.0594, acc 97.66%\n",
            "tensor([[ 2.3628e+00, -2.0576e+00],\n",
            "        [ 3.3847e+00, -3.0081e+00],\n",
            "        [ 3.5781e+00, -2.8284e+00],\n",
            "        ...,\n",
            "        [-5.3798e+00,  2.9304e+00],\n",
            "        [ 3.1418e+00, -3.6649e+00],\n",
            "        [-7.1570e+04,  7.2056e+04]], grad_fn=<AddmmBackward0>)\n",
            "26: Train loss 0.0733, acc 97.37%; validation loss 0.0619, acc 97.66%\n",
            "tensor([[ 3.4027e+00, -3.4841e+00],\n",
            "        [ 3.6983e+00, -4.8720e+00],\n",
            "        [ 2.8276e+00, -2.7521e+00],\n",
            "        ...,\n",
            "        [-5.4374e+00,  3.8851e+00],\n",
            "        [ 3.5151e+00, -4.1235e+00],\n",
            "        [-5.9339e+04,  6.0652e+04]], grad_fn=<AddmmBackward0>)\n",
            "27: Train loss 0.0679, acc 97.37%; validation loss 0.0627, acc 97.66%\n",
            "tensor([[ 3.4956e+00, -3.2779e+00],\n",
            "        [ 3.5218e+00, -4.3705e+00],\n",
            "        [ 3.9910e+00, -3.0472e+00],\n",
            "        ...,\n",
            "        [-4.4613e+00,  3.1266e+00],\n",
            "        [ 3.9469e+00, -3.6925e+00],\n",
            "        [-3.3391e+03,  3.8761e+03]], grad_fn=<AddmmBackward0>)\n",
            "28: Train loss 0.0703, acc 97.51%; validation loss 0.0666, acc 97.66%\n",
            "tensor([[ 3.1478e+00, -3.2424e+00],\n",
            "        [ 3.1638e+00, -4.0337e+00],\n",
            "        [ 4.1112e+00, -2.7054e+00],\n",
            "        ...,\n",
            "        [-4.9034e+00,  3.1330e+00],\n",
            "        [ 3.6408e+00, -3.5673e+00],\n",
            "        [-6.1736e+04,  6.1813e+04]], grad_fn=<AddmmBackward0>)\n",
            "29: Train loss 0.0666, acc 97.51%; validation loss 0.0666, acc 97.66%\n",
            "tensor([[ 2.3927e+00, -2.5115e+00],\n",
            "        [ 3.5801e+00, -3.3722e+00],\n",
            "        [ 3.0020e+00, -2.9523e+00],\n",
            "        ...,\n",
            "        [-4.7548e+00,  2.8844e+00],\n",
            "        [ 3.2795e+00, -2.6650e+00],\n",
            "        [-6.5269e+04,  6.1967e+04]], grad_fn=<AddmmBackward0>)\n",
            "30: Train loss 0.0669, acc 97.79%; validation loss 0.0630, acc 97.66%\n",
            "tensor([[ 2.0480e+00, -2.9629e+00],\n",
            "        [ 3.7711e+00, -2.7726e+00],\n",
            "        [ 2.8262e+00, -2.9191e+00],\n",
            "        ...,\n",
            "        [-4.4563e+00,  3.3698e+00],\n",
            "        [ 2.9370e+00, -2.5830e+00],\n",
            "        [-5.3351e+04,  6.0032e+04]], grad_fn=<AddmmBackward0>)\n",
            "31: Train loss 0.0652, acc 97.79%; validation loss 0.0608, acc 98.25%\n",
            "tensor([[ 2.5976e+00, -2.8859e+00],\n",
            "        [ 3.4352e+00, -3.4187e+00],\n",
            "        [ 3.1952e+00, -2.4463e+00],\n",
            "        ...,\n",
            "        [-4.0826e+00,  3.5159e+00],\n",
            "        [ 4.3842e+00, -3.4025e+00],\n",
            "        [-7.3807e+04,  7.4815e+04]], grad_fn=<AddmmBackward0>)\n",
            "32: Train loss 0.0626, acc 97.79%; validation loss 0.0625, acc 98.25%\n",
            "tensor([[ 2.3505e+00, -2.2871e+00],\n",
            "        [ 3.2947e+00, -3.6181e+00],\n",
            "        [ 2.0163e+00, -3.1178e+00],\n",
            "        ...,\n",
            "        [-3.9567e+00,  3.0596e+00],\n",
            "        [ 3.3907e+00, -3.1399e+00],\n",
            "        [-6.4012e+04,  7.2887e+04]], grad_fn=<AddmmBackward0>)\n",
            "33: Train loss 0.0616, acc 97.93%; validation loss 0.0680, acc 98.25%\n",
            "tensor([[ 3.1389e+00, -2.7157e+00],\n",
            "        [ 3.6966e+00, -3.8176e+00],\n",
            "        [ 2.9879e+00, -3.2933e+00],\n",
            "        ...,\n",
            "        [-3.4080e+00,  2.6584e+00],\n",
            "        [ 3.5717e+00, -3.3844e+00],\n",
            "        [-3.7511e+04,  3.6938e+04]], grad_fn=<AddmmBackward0>)\n",
            "34: Train loss 0.0576, acc 97.93%; validation loss 0.0669, acc 98.25%\n",
            "tensor([[ 3.2002e+00, -1.7730e+00],\n",
            "        [ 3.3620e+00, -4.0013e+00],\n",
            "        [ 2.0152e+00, -2.9158e+00],\n",
            "        ...,\n",
            "        [-5.0530e+00,  3.2380e+00],\n",
            "        [ 2.5624e+00, -2.5633e+00],\n",
            "        [-8.1206e+04,  7.8713e+04]], grad_fn=<AddmmBackward0>)\n",
            "35: Train loss 0.0569, acc 98.20%; validation loss 0.0676, acc 98.25%\n",
            "tensor([[ 2.1311e+00, -2.7478e+00],\n",
            "        [ 2.4880e+00, -3.6569e+00],\n",
            "        [ 2.7372e+00, -3.0721e+00],\n",
            "        ...,\n",
            "        [-4.6389e+00,  3.1430e+00],\n",
            "        [ 4.0025e+00, -3.6099e+00],\n",
            "        [-7.6043e+04,  7.2665e+04]], grad_fn=<AddmmBackward0>)\n",
            "36: Train loss 0.0561, acc 98.20%; validation loss 0.0746, acc 97.66%\n",
            "tensor([[ 2.7681e+00, -2.8269e+00],\n",
            "        [ 2.9984e+00, -3.5637e+00],\n",
            "        [ 2.2808e+00, -2.9639e+00],\n",
            "        ...,\n",
            "        [-4.8229e+00,  2.3283e+00],\n",
            "        [ 2.5381e+00, -2.8867e+00],\n",
            "        [-7.6731e+04,  7.6531e+04]], grad_fn=<AddmmBackward0>)\n",
            "37: Train loss 0.0546, acc 98.34%; validation loss 0.0700, acc 98.25%\n",
            "tensor([[ 3.3931e+00, -2.8218e+00],\n",
            "        [ 2.7363e+00, -2.9621e+00],\n",
            "        [ 2.7813e+00, -2.6672e+00],\n",
            "        ...,\n",
            "        [-4.5148e+00,  3.1526e+00],\n",
            "        [ 2.8620e+00, -3.2322e+00],\n",
            "        [-7.3510e+04,  7.4898e+04]], grad_fn=<AddmmBackward0>)\n",
            "38: Train loss 0.0540, acc 98.34%; validation loss 0.0695, acc 98.25%\n",
            "tensor([[ 2.0345e+00, -2.7674e+00],\n",
            "        [ 4.2301e+00, -3.4588e+00],\n",
            "        [ 3.1768e+00, -3.0753e+00],\n",
            "        ...,\n",
            "        [-4.2420e+00,  2.9292e+00],\n",
            "        [ 3.5844e+00, -3.5104e+00],\n",
            "        [-7.2121e+04,  7.9918e+04]], grad_fn=<AddmmBackward0>)\n",
            "39: Train loss 0.0507, acc 98.06%; validation loss 0.0679, acc 97.66%\n",
            "tensor([[ 2.7121e+00, -3.3345e+00],\n",
            "        [ 2.4039e+00, -3.4306e+00],\n",
            "        [ 3.1372e+00, -2.6373e+00],\n",
            "        ...,\n",
            "        [-4.6475e+00,  2.3408e+00],\n",
            "        [ 2.8793e+00, -3.0466e+00],\n",
            "        [-6.8321e+04,  7.3912e+04]], grad_fn=<AddmmBackward0>)\n",
            "40: Train loss 0.0478, acc 98.48%; validation loss 0.0693, acc 98.25%\n"
          ]
        }
      ]
    },
    {
      "cell_type": "code",
      "source": [
        "my_data = pd.DataFrame(text_embs)"
      ],
      "metadata": {
        "id": "J3G9DxAdFyiB"
      },
      "execution_count": 337,
      "outputs": []
    },
    {
      "cell_type": "code",
      "source": [
        "my_data\n"
      ],
      "metadata": {
        "id": "_tVEa3L9CmE0",
        "colab": {
          "base_uri": "https://localhost:8080/",
          "height": 488
        },
        "outputId": "3d52caaa-2ada-46c1-ebe8-b660b155e2b9"
      },
      "execution_count": 338,
      "outputs": [
        {
          "output_type": "execute_result",
          "data": {
            "text/plain": [
              "                0             1           0.1           1.1        0.1.1  \\\n",
              "0        1.349461     -2.602859      2.833252     -2.743249     6.893370   \n",
              "1        3.731273     -4.053496      2.255937     -2.753675     7.221067   \n",
              "2        2.332864     -2.908929      2.941076     -3.133755     7.399475   \n",
              "3        1.924908     -2.274820      1.640638     -2.479522     5.149405   \n",
              "4       -3.909992      4.973126     -4.583091      7.322591   -11.548117   \n",
              "..            ...           ...           ...           ...          ...   \n",
              "889      2.716950     -3.773576      3.432483     -3.184185     6.446299   \n",
              "890      2.423111     -2.884316      2.270691     -3.015852     6.600163   \n",
              "891     -2.720943      3.260452     -4.072395      3.835468    -7.015322   \n",
              "892      2.341196     -3.274098      3.072714     -3.649316     5.207879   \n",
              "893 -49879.184000  33768.227000 -14806.883000  11694.690000 -2608.811000   \n",
              "\n",
              "           1.1.1     0.1.1.1      1.1.1.1    0.1.1.1.1    1.1.1.1.1  ...  \\\n",
              "0      -3.390698    1.659329    -3.012199     3.436132    -2.051579  ...   \n",
              "1      -4.423811    1.772402    -4.427463     3.389840    -3.910992  ...   \n",
              "2      -3.701832    1.529097    -3.323052     2.685679    -2.423942  ...   \n",
              "3      -2.522085    2.035665    -4.024216     3.072954    -1.651766  ...   \n",
              "4       5.724316   -2.577478     6.573018    -5.460110     2.931455  ...   \n",
              "..           ...         ...          ...          ...          ...  ...   \n",
              "889    -5.202756    3.625214    -3.966662     3.847220    -3.245514  ...   \n",
              "890    -4.685534    2.986126    -4.408060     3.591517    -2.934106  ...   \n",
              "891     3.222818   -2.212169     4.496822    -3.261340     2.588654  ...   \n",
              "892    -2.868720    2.375783    -3.565799     2.690030    -2.718827  ...   \n",
              "893  2288.010500 -284.562840  1012.947500 -2789.188000  2361.170200  ...   \n",
              "\n",
              "          758       759       760       761       762       763       764  \\\n",
              "0    0.012692  0.059102  0.000541  0.006523 -0.018735  0.046029 -0.031323   \n",
              "1   -0.017646  0.061697  0.007149  0.000070  0.010949  0.033709 -0.033934   \n",
              "2    0.039987  0.010057 -0.038091 -0.033632 -0.018176 -0.017782  0.028502   \n",
              "3   -0.070302 -0.045334  0.016006  0.018444  0.056975  0.053900  0.043913   \n",
              "4    0.007845  0.069599 -0.017022  0.010712 -0.014984 -0.001413 -0.022211   \n",
              "..        ...       ...       ...       ...       ...       ...       ...   \n",
              "889 -0.026921  0.033994  0.025864 -0.034472  0.024374 -0.022076 -0.001890   \n",
              "890  0.092023 -0.017697  0.014944 -0.065511  0.016395  0.007684 -0.016207   \n",
              "891 -0.050173  0.037019 -0.048023  0.000220 -0.033158  0.075531  0.064022   \n",
              "892 -0.008388  0.008983 -0.058522 -0.008533 -0.016264  0.003724 -0.005826   \n",
              "893  0.025953  0.049041 -0.015561 -0.064802  0.025398  0.007854 -0.010056   \n",
              "\n",
              "          765       766       767  \n",
              "0    0.021993 -0.059348  0.010890  \n",
              "1   -0.006214 -0.046594 -0.020140  \n",
              "2    0.009641 -0.035604 -0.009934  \n",
              "3    0.003843 -0.038083  0.000696  \n",
              "4   -0.025620  0.007522 -0.037539  \n",
              "..        ...       ...       ...  \n",
              "889  0.006269 -0.019845  0.016206  \n",
              "890 -0.008501  0.049251 -0.022232  \n",
              "891 -0.000590 -0.031904 -0.002240  \n",
              "892 -0.020846 -0.027097 -0.008377  \n",
              "893  0.026847 -0.055978 -0.010197  \n",
              "\n",
              "[894 rows x 786 columns]"
            ],
            "text/html": [
              "\n",
              "  <div id=\"df-cffb88cb-6d7e-41ac-a089-31e38240453c\">\n",
              "    <div class=\"colab-df-container\">\n",
              "      <div>\n",
              "<style scoped>\n",
              "    .dataframe tbody tr th:only-of-type {\n",
              "        vertical-align: middle;\n",
              "    }\n",
              "\n",
              "    .dataframe tbody tr th {\n",
              "        vertical-align: top;\n",
              "    }\n",
              "\n",
              "    .dataframe thead th {\n",
              "        text-align: right;\n",
              "    }\n",
              "</style>\n",
              "<table border=\"1\" class=\"dataframe\">\n",
              "  <thead>\n",
              "    <tr style=\"text-align: right;\">\n",
              "      <th></th>\n",
              "      <th>0</th>\n",
              "      <th>1</th>\n",
              "      <th>0.1</th>\n",
              "      <th>1.1</th>\n",
              "      <th>0.1.1</th>\n",
              "      <th>1.1.1</th>\n",
              "      <th>0.1.1.1</th>\n",
              "      <th>1.1.1.1</th>\n",
              "      <th>0.1.1.1.1</th>\n",
              "      <th>1.1.1.1.1</th>\n",
              "      <th>...</th>\n",
              "      <th>758</th>\n",
              "      <th>759</th>\n",
              "      <th>760</th>\n",
              "      <th>761</th>\n",
              "      <th>762</th>\n",
              "      <th>763</th>\n",
              "      <th>764</th>\n",
              "      <th>765</th>\n",
              "      <th>766</th>\n",
              "      <th>767</th>\n",
              "    </tr>\n",
              "  </thead>\n",
              "  <tbody>\n",
              "    <tr>\n",
              "      <th>0</th>\n",
              "      <td>1.349461</td>\n",
              "      <td>-2.602859</td>\n",
              "      <td>2.833252</td>\n",
              "      <td>-2.743249</td>\n",
              "      <td>6.893370</td>\n",
              "      <td>-3.390698</td>\n",
              "      <td>1.659329</td>\n",
              "      <td>-3.012199</td>\n",
              "      <td>3.436132</td>\n",
              "      <td>-2.051579</td>\n",
              "      <td>...</td>\n",
              "      <td>0.012692</td>\n",
              "      <td>0.059102</td>\n",
              "      <td>0.000541</td>\n",
              "      <td>0.006523</td>\n",
              "      <td>-0.018735</td>\n",
              "      <td>0.046029</td>\n",
              "      <td>-0.031323</td>\n",
              "      <td>0.021993</td>\n",
              "      <td>-0.059348</td>\n",
              "      <td>0.010890</td>\n",
              "    </tr>\n",
              "    <tr>\n",
              "      <th>1</th>\n",
              "      <td>3.731273</td>\n",
              "      <td>-4.053496</td>\n",
              "      <td>2.255937</td>\n",
              "      <td>-2.753675</td>\n",
              "      <td>7.221067</td>\n",
              "      <td>-4.423811</td>\n",
              "      <td>1.772402</td>\n",
              "      <td>-4.427463</td>\n",
              "      <td>3.389840</td>\n",
              "      <td>-3.910992</td>\n",
              "      <td>...</td>\n",
              "      <td>-0.017646</td>\n",
              "      <td>0.061697</td>\n",
              "      <td>0.007149</td>\n",
              "      <td>0.000070</td>\n",
              "      <td>0.010949</td>\n",
              "      <td>0.033709</td>\n",
              "      <td>-0.033934</td>\n",
              "      <td>-0.006214</td>\n",
              "      <td>-0.046594</td>\n",
              "      <td>-0.020140</td>\n",
              "    </tr>\n",
              "    <tr>\n",
              "      <th>2</th>\n",
              "      <td>2.332864</td>\n",
              "      <td>-2.908929</td>\n",
              "      <td>2.941076</td>\n",
              "      <td>-3.133755</td>\n",
              "      <td>7.399475</td>\n",
              "      <td>-3.701832</td>\n",
              "      <td>1.529097</td>\n",
              "      <td>-3.323052</td>\n",
              "      <td>2.685679</td>\n",
              "      <td>-2.423942</td>\n",
              "      <td>...</td>\n",
              "      <td>0.039987</td>\n",
              "      <td>0.010057</td>\n",
              "      <td>-0.038091</td>\n",
              "      <td>-0.033632</td>\n",
              "      <td>-0.018176</td>\n",
              "      <td>-0.017782</td>\n",
              "      <td>0.028502</td>\n",
              "      <td>0.009641</td>\n",
              "      <td>-0.035604</td>\n",
              "      <td>-0.009934</td>\n",
              "    </tr>\n",
              "    <tr>\n",
              "      <th>3</th>\n",
              "      <td>1.924908</td>\n",
              "      <td>-2.274820</td>\n",
              "      <td>1.640638</td>\n",
              "      <td>-2.479522</td>\n",
              "      <td>5.149405</td>\n",
              "      <td>-2.522085</td>\n",
              "      <td>2.035665</td>\n",
              "      <td>-4.024216</td>\n",
              "      <td>3.072954</td>\n",
              "      <td>-1.651766</td>\n",
              "      <td>...</td>\n",
              "      <td>-0.070302</td>\n",
              "      <td>-0.045334</td>\n",
              "      <td>0.016006</td>\n",
              "      <td>0.018444</td>\n",
              "      <td>0.056975</td>\n",
              "      <td>0.053900</td>\n",
              "      <td>0.043913</td>\n",
              "      <td>0.003843</td>\n",
              "      <td>-0.038083</td>\n",
              "      <td>0.000696</td>\n",
              "    </tr>\n",
              "    <tr>\n",
              "      <th>4</th>\n",
              "      <td>-3.909992</td>\n",
              "      <td>4.973126</td>\n",
              "      <td>-4.583091</td>\n",
              "      <td>7.322591</td>\n",
              "      <td>-11.548117</td>\n",
              "      <td>5.724316</td>\n",
              "      <td>-2.577478</td>\n",
              "      <td>6.573018</td>\n",
              "      <td>-5.460110</td>\n",
              "      <td>2.931455</td>\n",
              "      <td>...</td>\n",
              "      <td>0.007845</td>\n",
              "      <td>0.069599</td>\n",
              "      <td>-0.017022</td>\n",
              "      <td>0.010712</td>\n",
              "      <td>-0.014984</td>\n",
              "      <td>-0.001413</td>\n",
              "      <td>-0.022211</td>\n",
              "      <td>-0.025620</td>\n",
              "      <td>0.007522</td>\n",
              "      <td>-0.037539</td>\n",
              "    </tr>\n",
              "    <tr>\n",
              "      <th>...</th>\n",
              "      <td>...</td>\n",
              "      <td>...</td>\n",
              "      <td>...</td>\n",
              "      <td>...</td>\n",
              "      <td>...</td>\n",
              "      <td>...</td>\n",
              "      <td>...</td>\n",
              "      <td>...</td>\n",
              "      <td>...</td>\n",
              "      <td>...</td>\n",
              "      <td>...</td>\n",
              "      <td>...</td>\n",
              "      <td>...</td>\n",
              "      <td>...</td>\n",
              "      <td>...</td>\n",
              "      <td>...</td>\n",
              "      <td>...</td>\n",
              "      <td>...</td>\n",
              "      <td>...</td>\n",
              "      <td>...</td>\n",
              "      <td>...</td>\n",
              "    </tr>\n",
              "    <tr>\n",
              "      <th>889</th>\n",
              "      <td>2.716950</td>\n",
              "      <td>-3.773576</td>\n",
              "      <td>3.432483</td>\n",
              "      <td>-3.184185</td>\n",
              "      <td>6.446299</td>\n",
              "      <td>-5.202756</td>\n",
              "      <td>3.625214</td>\n",
              "      <td>-3.966662</td>\n",
              "      <td>3.847220</td>\n",
              "      <td>-3.245514</td>\n",
              "      <td>...</td>\n",
              "      <td>-0.026921</td>\n",
              "      <td>0.033994</td>\n",
              "      <td>0.025864</td>\n",
              "      <td>-0.034472</td>\n",
              "      <td>0.024374</td>\n",
              "      <td>-0.022076</td>\n",
              "      <td>-0.001890</td>\n",
              "      <td>0.006269</td>\n",
              "      <td>-0.019845</td>\n",
              "      <td>0.016206</td>\n",
              "    </tr>\n",
              "    <tr>\n",
              "      <th>890</th>\n",
              "      <td>2.423111</td>\n",
              "      <td>-2.884316</td>\n",
              "      <td>2.270691</td>\n",
              "      <td>-3.015852</td>\n",
              "      <td>6.600163</td>\n",
              "      <td>-4.685534</td>\n",
              "      <td>2.986126</td>\n",
              "      <td>-4.408060</td>\n",
              "      <td>3.591517</td>\n",
              "      <td>-2.934106</td>\n",
              "      <td>...</td>\n",
              "      <td>0.092023</td>\n",
              "      <td>-0.017697</td>\n",
              "      <td>0.014944</td>\n",
              "      <td>-0.065511</td>\n",
              "      <td>0.016395</td>\n",
              "      <td>0.007684</td>\n",
              "      <td>-0.016207</td>\n",
              "      <td>-0.008501</td>\n",
              "      <td>0.049251</td>\n",
              "      <td>-0.022232</td>\n",
              "    </tr>\n",
              "    <tr>\n",
              "      <th>891</th>\n",
              "      <td>-2.720943</td>\n",
              "      <td>3.260452</td>\n",
              "      <td>-4.072395</td>\n",
              "      <td>3.835468</td>\n",
              "      <td>-7.015322</td>\n",
              "      <td>3.222818</td>\n",
              "      <td>-2.212169</td>\n",
              "      <td>4.496822</td>\n",
              "      <td>-3.261340</td>\n",
              "      <td>2.588654</td>\n",
              "      <td>...</td>\n",
              "      <td>-0.050173</td>\n",
              "      <td>0.037019</td>\n",
              "      <td>-0.048023</td>\n",
              "      <td>0.000220</td>\n",
              "      <td>-0.033158</td>\n",
              "      <td>0.075531</td>\n",
              "      <td>0.064022</td>\n",
              "      <td>-0.000590</td>\n",
              "      <td>-0.031904</td>\n",
              "      <td>-0.002240</td>\n",
              "    </tr>\n",
              "    <tr>\n",
              "      <th>892</th>\n",
              "      <td>2.341196</td>\n",
              "      <td>-3.274098</td>\n",
              "      <td>3.072714</td>\n",
              "      <td>-3.649316</td>\n",
              "      <td>5.207879</td>\n",
              "      <td>-2.868720</td>\n",
              "      <td>2.375783</td>\n",
              "      <td>-3.565799</td>\n",
              "      <td>2.690030</td>\n",
              "      <td>-2.718827</td>\n",
              "      <td>...</td>\n",
              "      <td>-0.008388</td>\n",
              "      <td>0.008983</td>\n",
              "      <td>-0.058522</td>\n",
              "      <td>-0.008533</td>\n",
              "      <td>-0.016264</td>\n",
              "      <td>0.003724</td>\n",
              "      <td>-0.005826</td>\n",
              "      <td>-0.020846</td>\n",
              "      <td>-0.027097</td>\n",
              "      <td>-0.008377</td>\n",
              "    </tr>\n",
              "    <tr>\n",
              "      <th>893</th>\n",
              "      <td>-49879.184000</td>\n",
              "      <td>33768.227000</td>\n",
              "      <td>-14806.883000</td>\n",
              "      <td>11694.690000</td>\n",
              "      <td>-2608.811000</td>\n",
              "      <td>2288.010500</td>\n",
              "      <td>-284.562840</td>\n",
              "      <td>1012.947500</td>\n",
              "      <td>-2789.188000</td>\n",
              "      <td>2361.170200</td>\n",
              "      <td>...</td>\n",
              "      <td>0.025953</td>\n",
              "      <td>0.049041</td>\n",
              "      <td>-0.015561</td>\n",
              "      <td>-0.064802</td>\n",
              "      <td>0.025398</td>\n",
              "      <td>0.007854</td>\n",
              "      <td>-0.010056</td>\n",
              "      <td>0.026847</td>\n",
              "      <td>-0.055978</td>\n",
              "      <td>-0.010197</td>\n",
              "    </tr>\n",
              "  </tbody>\n",
              "</table>\n",
              "<p>894 rows × 786 columns</p>\n",
              "</div>\n",
              "      <button class=\"colab-df-convert\" onclick=\"convertToInteractive('df-cffb88cb-6d7e-41ac-a089-31e38240453c')\"\n",
              "              title=\"Convert this dataframe to an interactive table.\"\n",
              "              style=\"display:none;\">\n",
              "        \n",
              "  <svg xmlns=\"http://www.w3.org/2000/svg\" height=\"24px\"viewBox=\"0 0 24 24\"\n",
              "       width=\"24px\">\n",
              "    <path d=\"M0 0h24v24H0V0z\" fill=\"none\"/>\n",
              "    <path d=\"M18.56 5.44l.94 2.06.94-2.06 2.06-.94-2.06-.94-.94-2.06-.94 2.06-2.06.94zm-11 1L8.5 8.5l.94-2.06 2.06-.94-2.06-.94L8.5 2.5l-.94 2.06-2.06.94zm10 10l.94 2.06.94-2.06 2.06-.94-2.06-.94-.94-2.06-.94 2.06-2.06.94z\"/><path d=\"M17.41 7.96l-1.37-1.37c-.4-.4-.92-.59-1.43-.59-.52 0-1.04.2-1.43.59L10.3 9.45l-7.72 7.72c-.78.78-.78 2.05 0 2.83L4 21.41c.39.39.9.59 1.41.59.51 0 1.02-.2 1.41-.59l7.78-7.78 2.81-2.81c.8-.78.8-2.07 0-2.86zM5.41 20L4 18.59l7.72-7.72 1.47 1.35L5.41 20z\"/>\n",
              "  </svg>\n",
              "      </button>\n",
              "      \n",
              "  <style>\n",
              "    .colab-df-container {\n",
              "      display:flex;\n",
              "      flex-wrap:wrap;\n",
              "      gap: 12px;\n",
              "    }\n",
              "\n",
              "    .colab-df-convert {\n",
              "      background-color: #E8F0FE;\n",
              "      border: none;\n",
              "      border-radius: 50%;\n",
              "      cursor: pointer;\n",
              "      display: none;\n",
              "      fill: #1967D2;\n",
              "      height: 32px;\n",
              "      padding: 0 0 0 0;\n",
              "      width: 32px;\n",
              "    }\n",
              "\n",
              "    .colab-df-convert:hover {\n",
              "      background-color: #E2EBFA;\n",
              "      box-shadow: 0px 1px 2px rgba(60, 64, 67, 0.3), 0px 1px 3px 1px rgba(60, 64, 67, 0.15);\n",
              "      fill: #174EA6;\n",
              "    }\n",
              "\n",
              "    [theme=dark] .colab-df-convert {\n",
              "      background-color: #3B4455;\n",
              "      fill: #D2E3FC;\n",
              "    }\n",
              "\n",
              "    [theme=dark] .colab-df-convert:hover {\n",
              "      background-color: #434B5C;\n",
              "      box-shadow: 0px 1px 3px 1px rgba(0, 0, 0, 0.15);\n",
              "      filter: drop-shadow(0px 1px 2px rgba(0, 0, 0, 0.3));\n",
              "      fill: #FFFFFF;\n",
              "    }\n",
              "  </style>\n",
              "\n",
              "      <script>\n",
              "        const buttonEl =\n",
              "          document.querySelector('#df-cffb88cb-6d7e-41ac-a089-31e38240453c button.colab-df-convert');\n",
              "        buttonEl.style.display =\n",
              "          google.colab.kernel.accessAllowed ? 'block' : 'none';\n",
              "\n",
              "        async function convertToInteractive(key) {\n",
              "          const element = document.querySelector('#df-cffb88cb-6d7e-41ac-a089-31e38240453c');\n",
              "          const dataTable =\n",
              "            await google.colab.kernel.invokeFunction('convertToInteractive',\n",
              "                                                     [key], {});\n",
              "          if (!dataTable) return;\n",
              "\n",
              "          const docLinkHtml = 'Like what you see? Visit the ' +\n",
              "            '<a target=\"_blank\" href=https://colab.research.google.com/notebooks/data_table.ipynb>data table notebook</a>'\n",
              "            + ' to learn more about interactive tables.';\n",
              "          element.innerHTML = '';\n",
              "          dataTable['output_type'] = 'display_data';\n",
              "          await google.colab.output.renderOutput(dataTable, element);\n",
              "          const docLink = document.createElement('div');\n",
              "          docLink.innerHTML = docLinkHtml;\n",
              "          element.appendChild(docLink);\n",
              "        }\n",
              "      </script>\n",
              "    </div>\n",
              "  </div>\n",
              "  "
            ]
          },
          "metadata": {},
          "execution_count": 338
        }
      ]
    },
    {
      "cell_type": "code",
      "source": [
        "my_tensor = pd.DataFrame(logits.detach().numpy())"
      ],
      "metadata": {
        "id": "kPUollGIGOZ1"
      },
      "execution_count": 339,
      "outputs": []
    },
    {
      "cell_type": "code",
      "source": [
        "final_df = pd.concat([my_tensor,my_data],axis=1)"
      ],
      "metadata": {
        "id": "xB1C9nIbGus4"
      },
      "execution_count": 340,
      "outputs": []
    },
    {
      "cell_type": "code",
      "source": [
        "final_df"
      ],
      "metadata": {
        "colab": {
          "base_uri": "https://localhost:8080/",
          "height": 488
        },
        "id": "wH_ulxSqHQCh",
        "outputId": "30a135d4-9a5f-45d8-e2c4-835c41f5e256"
      },
      "execution_count": 341,
      "outputs": [
        {
          "output_type": "execute_result",
          "data": {
            "text/plain": [
              "                0             1             0             1           0.1  \\\n",
              "0        2.712114     -3.334514      1.349461     -2.602859      2.833252   \n",
              "1        2.403871     -3.430604      3.731273     -4.053496      2.255937   \n",
              "2        3.137182     -2.637305      2.332864     -2.908929      2.941076   \n",
              "3        2.768392     -1.913109      1.924908     -2.274820      1.640638   \n",
              "4       -6.659483      3.588523     -3.909992      4.973126     -4.583091   \n",
              "..            ...           ...           ...           ...           ...   \n",
              "889      2.762979     -3.326401      2.716950     -3.773576      3.432483   \n",
              "890      2.342873     -2.420721      2.423111     -2.884316      2.270691   \n",
              "891     -4.647464      2.340831     -2.720943      3.260452     -4.072395   \n",
              "892      2.879259     -3.046558      2.341196     -3.274098      3.072714   \n",
              "893 -68321.148438  73912.156250 -49879.184000  33768.227000 -14806.883000   \n",
              "\n",
              "              1.1        0.1.1        1.1.1     0.1.1.1      1.1.1.1  ...  \\\n",
              "0       -2.743249     6.893370    -3.390698    1.659329    -3.012199  ...   \n",
              "1       -2.753675     7.221067    -4.423811    1.772402    -4.427463  ...   \n",
              "2       -3.133755     7.399475    -3.701832    1.529097    -3.323052  ...   \n",
              "3       -2.479522     5.149405    -2.522085    2.035665    -4.024216  ...   \n",
              "4        7.322591   -11.548117     5.724316   -2.577478     6.573018  ...   \n",
              "..            ...          ...          ...         ...          ...  ...   \n",
              "889     -3.184185     6.446299    -5.202756    3.625214    -3.966662  ...   \n",
              "890     -3.015852     6.600163    -4.685534    2.986126    -4.408060  ...   \n",
              "891      3.835468    -7.015322     3.222818   -2.212169     4.496822  ...   \n",
              "892     -3.649316     5.207879    -2.868720    2.375783    -3.565799  ...   \n",
              "893  11694.690000 -2608.811000  2288.010500 -284.562840  1012.947500  ...   \n",
              "\n",
              "          758       759       760       761       762       763       764  \\\n",
              "0    0.012692  0.059102  0.000541  0.006523 -0.018735  0.046029 -0.031323   \n",
              "1   -0.017646  0.061697  0.007149  0.000070  0.010949  0.033709 -0.033934   \n",
              "2    0.039987  0.010057 -0.038091 -0.033632 -0.018176 -0.017782  0.028502   \n",
              "3   -0.070302 -0.045334  0.016006  0.018444  0.056975  0.053900  0.043913   \n",
              "4    0.007845  0.069599 -0.017022  0.010712 -0.014984 -0.001413 -0.022211   \n",
              "..        ...       ...       ...       ...       ...       ...       ...   \n",
              "889 -0.026921  0.033994  0.025864 -0.034472  0.024374 -0.022076 -0.001890   \n",
              "890  0.092023 -0.017697  0.014944 -0.065511  0.016395  0.007684 -0.016207   \n",
              "891 -0.050173  0.037019 -0.048023  0.000220 -0.033158  0.075531  0.064022   \n",
              "892 -0.008388  0.008983 -0.058522 -0.008533 -0.016264  0.003724 -0.005826   \n",
              "893  0.025953  0.049041 -0.015561 -0.064802  0.025398  0.007854 -0.010056   \n",
              "\n",
              "          765       766       767  \n",
              "0    0.021993 -0.059348  0.010890  \n",
              "1   -0.006214 -0.046594 -0.020140  \n",
              "2    0.009641 -0.035604 -0.009934  \n",
              "3    0.003843 -0.038083  0.000696  \n",
              "4   -0.025620  0.007522 -0.037539  \n",
              "..        ...       ...       ...  \n",
              "889  0.006269 -0.019845  0.016206  \n",
              "890 -0.008501  0.049251 -0.022232  \n",
              "891 -0.000590 -0.031904 -0.002240  \n",
              "892 -0.020846 -0.027097 -0.008377  \n",
              "893  0.026847 -0.055978 -0.010197  \n",
              "\n",
              "[894 rows x 788 columns]"
            ],
            "text/html": [
              "\n",
              "  <div id=\"df-c403baef-3112-41fc-be8b-264fd512125c\">\n",
              "    <div class=\"colab-df-container\">\n",
              "      <div>\n",
              "<style scoped>\n",
              "    .dataframe tbody tr th:only-of-type {\n",
              "        vertical-align: middle;\n",
              "    }\n",
              "\n",
              "    .dataframe tbody tr th {\n",
              "        vertical-align: top;\n",
              "    }\n",
              "\n",
              "    .dataframe thead th {\n",
              "        text-align: right;\n",
              "    }\n",
              "</style>\n",
              "<table border=\"1\" class=\"dataframe\">\n",
              "  <thead>\n",
              "    <tr style=\"text-align: right;\">\n",
              "      <th></th>\n",
              "      <th>0</th>\n",
              "      <th>1</th>\n",
              "      <th>0</th>\n",
              "      <th>1</th>\n",
              "      <th>0.1</th>\n",
              "      <th>1.1</th>\n",
              "      <th>0.1.1</th>\n",
              "      <th>1.1.1</th>\n",
              "      <th>0.1.1.1</th>\n",
              "      <th>1.1.1.1</th>\n",
              "      <th>...</th>\n",
              "      <th>758</th>\n",
              "      <th>759</th>\n",
              "      <th>760</th>\n",
              "      <th>761</th>\n",
              "      <th>762</th>\n",
              "      <th>763</th>\n",
              "      <th>764</th>\n",
              "      <th>765</th>\n",
              "      <th>766</th>\n",
              "      <th>767</th>\n",
              "    </tr>\n",
              "  </thead>\n",
              "  <tbody>\n",
              "    <tr>\n",
              "      <th>0</th>\n",
              "      <td>2.712114</td>\n",
              "      <td>-3.334514</td>\n",
              "      <td>1.349461</td>\n",
              "      <td>-2.602859</td>\n",
              "      <td>2.833252</td>\n",
              "      <td>-2.743249</td>\n",
              "      <td>6.893370</td>\n",
              "      <td>-3.390698</td>\n",
              "      <td>1.659329</td>\n",
              "      <td>-3.012199</td>\n",
              "      <td>...</td>\n",
              "      <td>0.012692</td>\n",
              "      <td>0.059102</td>\n",
              "      <td>0.000541</td>\n",
              "      <td>0.006523</td>\n",
              "      <td>-0.018735</td>\n",
              "      <td>0.046029</td>\n",
              "      <td>-0.031323</td>\n",
              "      <td>0.021993</td>\n",
              "      <td>-0.059348</td>\n",
              "      <td>0.010890</td>\n",
              "    </tr>\n",
              "    <tr>\n",
              "      <th>1</th>\n",
              "      <td>2.403871</td>\n",
              "      <td>-3.430604</td>\n",
              "      <td>3.731273</td>\n",
              "      <td>-4.053496</td>\n",
              "      <td>2.255937</td>\n",
              "      <td>-2.753675</td>\n",
              "      <td>7.221067</td>\n",
              "      <td>-4.423811</td>\n",
              "      <td>1.772402</td>\n",
              "      <td>-4.427463</td>\n",
              "      <td>...</td>\n",
              "      <td>-0.017646</td>\n",
              "      <td>0.061697</td>\n",
              "      <td>0.007149</td>\n",
              "      <td>0.000070</td>\n",
              "      <td>0.010949</td>\n",
              "      <td>0.033709</td>\n",
              "      <td>-0.033934</td>\n",
              "      <td>-0.006214</td>\n",
              "      <td>-0.046594</td>\n",
              "      <td>-0.020140</td>\n",
              "    </tr>\n",
              "    <tr>\n",
              "      <th>2</th>\n",
              "      <td>3.137182</td>\n",
              "      <td>-2.637305</td>\n",
              "      <td>2.332864</td>\n",
              "      <td>-2.908929</td>\n",
              "      <td>2.941076</td>\n",
              "      <td>-3.133755</td>\n",
              "      <td>7.399475</td>\n",
              "      <td>-3.701832</td>\n",
              "      <td>1.529097</td>\n",
              "      <td>-3.323052</td>\n",
              "      <td>...</td>\n",
              "      <td>0.039987</td>\n",
              "      <td>0.010057</td>\n",
              "      <td>-0.038091</td>\n",
              "      <td>-0.033632</td>\n",
              "      <td>-0.018176</td>\n",
              "      <td>-0.017782</td>\n",
              "      <td>0.028502</td>\n",
              "      <td>0.009641</td>\n",
              "      <td>-0.035604</td>\n",
              "      <td>-0.009934</td>\n",
              "    </tr>\n",
              "    <tr>\n",
              "      <th>3</th>\n",
              "      <td>2.768392</td>\n",
              "      <td>-1.913109</td>\n",
              "      <td>1.924908</td>\n",
              "      <td>-2.274820</td>\n",
              "      <td>1.640638</td>\n",
              "      <td>-2.479522</td>\n",
              "      <td>5.149405</td>\n",
              "      <td>-2.522085</td>\n",
              "      <td>2.035665</td>\n",
              "      <td>-4.024216</td>\n",
              "      <td>...</td>\n",
              "      <td>-0.070302</td>\n",
              "      <td>-0.045334</td>\n",
              "      <td>0.016006</td>\n",
              "      <td>0.018444</td>\n",
              "      <td>0.056975</td>\n",
              "      <td>0.053900</td>\n",
              "      <td>0.043913</td>\n",
              "      <td>0.003843</td>\n",
              "      <td>-0.038083</td>\n",
              "      <td>0.000696</td>\n",
              "    </tr>\n",
              "    <tr>\n",
              "      <th>4</th>\n",
              "      <td>-6.659483</td>\n",
              "      <td>3.588523</td>\n",
              "      <td>-3.909992</td>\n",
              "      <td>4.973126</td>\n",
              "      <td>-4.583091</td>\n",
              "      <td>7.322591</td>\n",
              "      <td>-11.548117</td>\n",
              "      <td>5.724316</td>\n",
              "      <td>-2.577478</td>\n",
              "      <td>6.573018</td>\n",
              "      <td>...</td>\n",
              "      <td>0.007845</td>\n",
              "      <td>0.069599</td>\n",
              "      <td>-0.017022</td>\n",
              "      <td>0.010712</td>\n",
              "      <td>-0.014984</td>\n",
              "      <td>-0.001413</td>\n",
              "      <td>-0.022211</td>\n",
              "      <td>-0.025620</td>\n",
              "      <td>0.007522</td>\n",
              "      <td>-0.037539</td>\n",
              "    </tr>\n",
              "    <tr>\n",
              "      <th>...</th>\n",
              "      <td>...</td>\n",
              "      <td>...</td>\n",
              "      <td>...</td>\n",
              "      <td>...</td>\n",
              "      <td>...</td>\n",
              "      <td>...</td>\n",
              "      <td>...</td>\n",
              "      <td>...</td>\n",
              "      <td>...</td>\n",
              "      <td>...</td>\n",
              "      <td>...</td>\n",
              "      <td>...</td>\n",
              "      <td>...</td>\n",
              "      <td>...</td>\n",
              "      <td>...</td>\n",
              "      <td>...</td>\n",
              "      <td>...</td>\n",
              "      <td>...</td>\n",
              "      <td>...</td>\n",
              "      <td>...</td>\n",
              "      <td>...</td>\n",
              "    </tr>\n",
              "    <tr>\n",
              "      <th>889</th>\n",
              "      <td>2.762979</td>\n",
              "      <td>-3.326401</td>\n",
              "      <td>2.716950</td>\n",
              "      <td>-3.773576</td>\n",
              "      <td>3.432483</td>\n",
              "      <td>-3.184185</td>\n",
              "      <td>6.446299</td>\n",
              "      <td>-5.202756</td>\n",
              "      <td>3.625214</td>\n",
              "      <td>-3.966662</td>\n",
              "      <td>...</td>\n",
              "      <td>-0.026921</td>\n",
              "      <td>0.033994</td>\n",
              "      <td>0.025864</td>\n",
              "      <td>-0.034472</td>\n",
              "      <td>0.024374</td>\n",
              "      <td>-0.022076</td>\n",
              "      <td>-0.001890</td>\n",
              "      <td>0.006269</td>\n",
              "      <td>-0.019845</td>\n",
              "      <td>0.016206</td>\n",
              "    </tr>\n",
              "    <tr>\n",
              "      <th>890</th>\n",
              "      <td>2.342873</td>\n",
              "      <td>-2.420721</td>\n",
              "      <td>2.423111</td>\n",
              "      <td>-2.884316</td>\n",
              "      <td>2.270691</td>\n",
              "      <td>-3.015852</td>\n",
              "      <td>6.600163</td>\n",
              "      <td>-4.685534</td>\n",
              "      <td>2.986126</td>\n",
              "      <td>-4.408060</td>\n",
              "      <td>...</td>\n",
              "      <td>0.092023</td>\n",
              "      <td>-0.017697</td>\n",
              "      <td>0.014944</td>\n",
              "      <td>-0.065511</td>\n",
              "      <td>0.016395</td>\n",
              "      <td>0.007684</td>\n",
              "      <td>-0.016207</td>\n",
              "      <td>-0.008501</td>\n",
              "      <td>0.049251</td>\n",
              "      <td>-0.022232</td>\n",
              "    </tr>\n",
              "    <tr>\n",
              "      <th>891</th>\n",
              "      <td>-4.647464</td>\n",
              "      <td>2.340831</td>\n",
              "      <td>-2.720943</td>\n",
              "      <td>3.260452</td>\n",
              "      <td>-4.072395</td>\n",
              "      <td>3.835468</td>\n",
              "      <td>-7.015322</td>\n",
              "      <td>3.222818</td>\n",
              "      <td>-2.212169</td>\n",
              "      <td>4.496822</td>\n",
              "      <td>...</td>\n",
              "      <td>-0.050173</td>\n",
              "      <td>0.037019</td>\n",
              "      <td>-0.048023</td>\n",
              "      <td>0.000220</td>\n",
              "      <td>-0.033158</td>\n",
              "      <td>0.075531</td>\n",
              "      <td>0.064022</td>\n",
              "      <td>-0.000590</td>\n",
              "      <td>-0.031904</td>\n",
              "      <td>-0.002240</td>\n",
              "    </tr>\n",
              "    <tr>\n",
              "      <th>892</th>\n",
              "      <td>2.879259</td>\n",
              "      <td>-3.046558</td>\n",
              "      <td>2.341196</td>\n",
              "      <td>-3.274098</td>\n",
              "      <td>3.072714</td>\n",
              "      <td>-3.649316</td>\n",
              "      <td>5.207879</td>\n",
              "      <td>-2.868720</td>\n",
              "      <td>2.375783</td>\n",
              "      <td>-3.565799</td>\n",
              "      <td>...</td>\n",
              "      <td>-0.008388</td>\n",
              "      <td>0.008983</td>\n",
              "      <td>-0.058522</td>\n",
              "      <td>-0.008533</td>\n",
              "      <td>-0.016264</td>\n",
              "      <td>0.003724</td>\n",
              "      <td>-0.005826</td>\n",
              "      <td>-0.020846</td>\n",
              "      <td>-0.027097</td>\n",
              "      <td>-0.008377</td>\n",
              "    </tr>\n",
              "    <tr>\n",
              "      <th>893</th>\n",
              "      <td>-68321.148438</td>\n",
              "      <td>73912.156250</td>\n",
              "      <td>-49879.184000</td>\n",
              "      <td>33768.227000</td>\n",
              "      <td>-14806.883000</td>\n",
              "      <td>11694.690000</td>\n",
              "      <td>-2608.811000</td>\n",
              "      <td>2288.010500</td>\n",
              "      <td>-284.562840</td>\n",
              "      <td>1012.947500</td>\n",
              "      <td>...</td>\n",
              "      <td>0.025953</td>\n",
              "      <td>0.049041</td>\n",
              "      <td>-0.015561</td>\n",
              "      <td>-0.064802</td>\n",
              "      <td>0.025398</td>\n",
              "      <td>0.007854</td>\n",
              "      <td>-0.010056</td>\n",
              "      <td>0.026847</td>\n",
              "      <td>-0.055978</td>\n",
              "      <td>-0.010197</td>\n",
              "    </tr>\n",
              "  </tbody>\n",
              "</table>\n",
              "<p>894 rows × 788 columns</p>\n",
              "</div>\n",
              "      <button class=\"colab-df-convert\" onclick=\"convertToInteractive('df-c403baef-3112-41fc-be8b-264fd512125c')\"\n",
              "              title=\"Convert this dataframe to an interactive table.\"\n",
              "              style=\"display:none;\">\n",
              "        \n",
              "  <svg xmlns=\"http://www.w3.org/2000/svg\" height=\"24px\"viewBox=\"0 0 24 24\"\n",
              "       width=\"24px\">\n",
              "    <path d=\"M0 0h24v24H0V0z\" fill=\"none\"/>\n",
              "    <path d=\"M18.56 5.44l.94 2.06.94-2.06 2.06-.94-2.06-.94-.94-2.06-.94 2.06-2.06.94zm-11 1L8.5 8.5l.94-2.06 2.06-.94-2.06-.94L8.5 2.5l-.94 2.06-2.06.94zm10 10l.94 2.06.94-2.06 2.06-.94-2.06-.94-.94-2.06-.94 2.06-2.06.94z\"/><path d=\"M17.41 7.96l-1.37-1.37c-.4-.4-.92-.59-1.43-.59-.52 0-1.04.2-1.43.59L10.3 9.45l-7.72 7.72c-.78.78-.78 2.05 0 2.83L4 21.41c.39.39.9.59 1.41.59.51 0 1.02-.2 1.41-.59l7.78-7.78 2.81-2.81c.8-.78.8-2.07 0-2.86zM5.41 20L4 18.59l7.72-7.72 1.47 1.35L5.41 20z\"/>\n",
              "  </svg>\n",
              "      </button>\n",
              "      \n",
              "  <style>\n",
              "    .colab-df-container {\n",
              "      display:flex;\n",
              "      flex-wrap:wrap;\n",
              "      gap: 12px;\n",
              "    }\n",
              "\n",
              "    .colab-df-convert {\n",
              "      background-color: #E8F0FE;\n",
              "      border: none;\n",
              "      border-radius: 50%;\n",
              "      cursor: pointer;\n",
              "      display: none;\n",
              "      fill: #1967D2;\n",
              "      height: 32px;\n",
              "      padding: 0 0 0 0;\n",
              "      width: 32px;\n",
              "    }\n",
              "\n",
              "    .colab-df-convert:hover {\n",
              "      background-color: #E2EBFA;\n",
              "      box-shadow: 0px 1px 2px rgba(60, 64, 67, 0.3), 0px 1px 3px 1px rgba(60, 64, 67, 0.15);\n",
              "      fill: #174EA6;\n",
              "    }\n",
              "\n",
              "    [theme=dark] .colab-df-convert {\n",
              "      background-color: #3B4455;\n",
              "      fill: #D2E3FC;\n",
              "    }\n",
              "\n",
              "    [theme=dark] .colab-df-convert:hover {\n",
              "      background-color: #434B5C;\n",
              "      box-shadow: 0px 1px 3px 1px rgba(0, 0, 0, 0.15);\n",
              "      filter: drop-shadow(0px 1px 2px rgba(0, 0, 0, 0.3));\n",
              "      fill: #FFFFFF;\n",
              "    }\n",
              "  </style>\n",
              "\n",
              "      <script>\n",
              "        const buttonEl =\n",
              "          document.querySelector('#df-c403baef-3112-41fc-be8b-264fd512125c button.colab-df-convert');\n",
              "        buttonEl.style.display =\n",
              "          google.colab.kernel.accessAllowed ? 'block' : 'none';\n",
              "\n",
              "        async function convertToInteractive(key) {\n",
              "          const element = document.querySelector('#df-c403baef-3112-41fc-be8b-264fd512125c');\n",
              "          const dataTable =\n",
              "            await google.colab.kernel.invokeFunction('convertToInteractive',\n",
              "                                                     [key], {});\n",
              "          if (!dataTable) return;\n",
              "\n",
              "          const docLinkHtml = 'Like what you see? Visit the ' +\n",
              "            '<a target=\"_blank\" href=https://colab.research.google.com/notebooks/data_table.ipynb>data table notebook</a>'\n",
              "            + ' to learn more about interactive tables.';\n",
              "          element.innerHTML = '';\n",
              "          dataTable['output_type'] = 'display_data';\n",
              "          await google.colab.output.renderOutput(dataTable, element);\n",
              "          const docLink = document.createElement('div');\n",
              "          docLink.innerHTML = docLinkHtml;\n",
              "          element.appendChild(docLink);\n",
              "        }\n",
              "      </script>\n",
              "    </div>\n",
              "  </div>\n",
              "  "
            ]
          },
          "metadata": {},
          "execution_count": 341
        }
      ]
    },
    {
      "cell_type": "code",
      "source": [
        "final_df.to_csv('updatedEmbs.csv')"
      ],
      "metadata": {
        "id": "-eN1WO9hHRGq"
      },
      "execution_count": 342,
      "outputs": []
    }
  ]
}