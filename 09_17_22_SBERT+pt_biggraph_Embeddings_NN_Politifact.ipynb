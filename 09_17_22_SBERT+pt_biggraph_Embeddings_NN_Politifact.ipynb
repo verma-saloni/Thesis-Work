{
  "nbformat": 4,
  "nbformat_minor": 0,
  "metadata": {
    "colab": {
      "provenance": [],
      "collapsed_sections": [],
      "include_colab_link": true
    },
    "kernelspec": {
      "name": "python3",
      "display_name": "Python 3"
    },
    "language_info": {
      "name": "python"
    },
    "widgets": {
      "application/vnd.jupyter.widget-state+json": {
        "d16517e1bd8f4f7cb98d1759b74372ac": {
          "model_module": "@jupyter-widgets/controls",
          "model_name": "HBoxModel",
          "model_module_version": "1.5.0",
          "state": {
            "_dom_classes": [],
            "_model_module": "@jupyter-widgets/controls",
            "_model_module_version": "1.5.0",
            "_model_name": "HBoxModel",
            "_view_count": null,
            "_view_module": "@jupyter-widgets/controls",
            "_view_module_version": "1.5.0",
            "_view_name": "HBoxView",
            "box_style": "",
            "children": [
              "IPY_MODEL_a62c1c2425d34937b5f8d7f67188005c",
              "IPY_MODEL_329498387ff14188a60d3817c4cb4718",
              "IPY_MODEL_da0f3173ad5a439da8d25fa742f54fdf"
            ],
            "layout": "IPY_MODEL_4a506a123feb4b44bd1c1d0d06c34b88"
          }
        },
        "a62c1c2425d34937b5f8d7f67188005c": {
          "model_module": "@jupyter-widgets/controls",
          "model_name": "HTMLModel",
          "model_module_version": "1.5.0",
          "state": {
            "_dom_classes": [],
            "_model_module": "@jupyter-widgets/controls",
            "_model_module_version": "1.5.0",
            "_model_name": "HTMLModel",
            "_view_count": null,
            "_view_module": "@jupyter-widgets/controls",
            "_view_module_version": "1.5.0",
            "_view_name": "HTMLView",
            "description": "",
            "description_tooltip": null,
            "layout": "IPY_MODEL_63fe0e71d8904bc1b0826300795d65fc",
            "placeholder": "​",
            "style": "IPY_MODEL_995f5ba5f51a4a768de2725c0e568743",
            "value": ""
          }
        },
        "329498387ff14188a60d3817c4cb4718": {
          "model_module": "@jupyter-widgets/controls",
          "model_name": "FloatProgressModel",
          "model_module_version": "1.5.0",
          "state": {
            "_dom_classes": [],
            "_model_module": "@jupyter-widgets/controls",
            "_model_module_version": "1.5.0",
            "_model_name": "FloatProgressModel",
            "_view_count": null,
            "_view_module": "@jupyter-widgets/controls",
            "_view_module_version": "1.5.0",
            "_view_name": "ProgressView",
            "bar_style": "success",
            "description": "",
            "description_tooltip": null,
            "layout": "IPY_MODEL_cb726ba5ab7e4e039549df3dc3bf182c",
            "max": 1,
            "min": 0,
            "orientation": "horizontal",
            "style": "IPY_MODEL_2d6988f373374c2296d9a54ef7bc32c6",
            "value": 0
          }
        },
        "da0f3173ad5a439da8d25fa742f54fdf": {
          "model_module": "@jupyter-widgets/controls",
          "model_name": "HTMLModel",
          "model_module_version": "1.5.0",
          "state": {
            "_dom_classes": [],
            "_model_module": "@jupyter-widgets/controls",
            "_model_module_version": "1.5.0",
            "_model_name": "HTMLModel",
            "_view_count": null,
            "_view_module": "@jupyter-widgets/controls",
            "_view_module_version": "1.5.0",
            "_view_name": "HTMLView",
            "description": "",
            "description_tooltip": null,
            "layout": "IPY_MODEL_1bba994ea4194350a9dd92deee38138f",
            "placeholder": "​",
            "style": "IPY_MODEL_bc209849475a411385b5242beb0f2d12",
            "value": " 0/0 [00:00&lt;?, ?it/s]"
          }
        },
        "4a506a123feb4b44bd1c1d0d06c34b88": {
          "model_module": "@jupyter-widgets/base",
          "model_name": "LayoutModel",
          "model_module_version": "1.2.0",
          "state": {
            "_model_module": "@jupyter-widgets/base",
            "_model_module_version": "1.2.0",
            "_model_name": "LayoutModel",
            "_view_count": null,
            "_view_module": "@jupyter-widgets/base",
            "_view_module_version": "1.2.0",
            "_view_name": "LayoutView",
            "align_content": null,
            "align_items": null,
            "align_self": null,
            "border": null,
            "bottom": null,
            "display": null,
            "flex": null,
            "flex_flow": null,
            "grid_area": null,
            "grid_auto_columns": null,
            "grid_auto_flow": null,
            "grid_auto_rows": null,
            "grid_column": null,
            "grid_gap": null,
            "grid_row": null,
            "grid_template_areas": null,
            "grid_template_columns": null,
            "grid_template_rows": null,
            "height": null,
            "justify_content": null,
            "justify_items": null,
            "left": null,
            "margin": null,
            "max_height": null,
            "max_width": null,
            "min_height": null,
            "min_width": null,
            "object_fit": null,
            "object_position": null,
            "order": null,
            "overflow": null,
            "overflow_x": null,
            "overflow_y": null,
            "padding": null,
            "right": null,
            "top": null,
            "visibility": null,
            "width": null
          }
        },
        "63fe0e71d8904bc1b0826300795d65fc": {
          "model_module": "@jupyter-widgets/base",
          "model_name": "LayoutModel",
          "model_module_version": "1.2.0",
          "state": {
            "_model_module": "@jupyter-widgets/base",
            "_model_module_version": "1.2.0",
            "_model_name": "LayoutModel",
            "_view_count": null,
            "_view_module": "@jupyter-widgets/base",
            "_view_module_version": "1.2.0",
            "_view_name": "LayoutView",
            "align_content": null,
            "align_items": null,
            "align_self": null,
            "border": null,
            "bottom": null,
            "display": null,
            "flex": null,
            "flex_flow": null,
            "grid_area": null,
            "grid_auto_columns": null,
            "grid_auto_flow": null,
            "grid_auto_rows": null,
            "grid_column": null,
            "grid_gap": null,
            "grid_row": null,
            "grid_template_areas": null,
            "grid_template_columns": null,
            "grid_template_rows": null,
            "height": null,
            "justify_content": null,
            "justify_items": null,
            "left": null,
            "margin": null,
            "max_height": null,
            "max_width": null,
            "min_height": null,
            "min_width": null,
            "object_fit": null,
            "object_position": null,
            "order": null,
            "overflow": null,
            "overflow_x": null,
            "overflow_y": null,
            "padding": null,
            "right": null,
            "top": null,
            "visibility": null,
            "width": null
          }
        },
        "995f5ba5f51a4a768de2725c0e568743": {
          "model_module": "@jupyter-widgets/controls",
          "model_name": "DescriptionStyleModel",
          "model_module_version": "1.5.0",
          "state": {
            "_model_module": "@jupyter-widgets/controls",
            "_model_module_version": "1.5.0",
            "_model_name": "DescriptionStyleModel",
            "_view_count": null,
            "_view_module": "@jupyter-widgets/base",
            "_view_module_version": "1.2.0",
            "_view_name": "StyleView",
            "description_width": ""
          }
        },
        "cb726ba5ab7e4e039549df3dc3bf182c": {
          "model_module": "@jupyter-widgets/base",
          "model_name": "LayoutModel",
          "model_module_version": "1.2.0",
          "state": {
            "_model_module": "@jupyter-widgets/base",
            "_model_module_version": "1.2.0",
            "_model_name": "LayoutModel",
            "_view_count": null,
            "_view_module": "@jupyter-widgets/base",
            "_view_module_version": "1.2.0",
            "_view_name": "LayoutView",
            "align_content": null,
            "align_items": null,
            "align_self": null,
            "border": null,
            "bottom": null,
            "display": null,
            "flex": null,
            "flex_flow": null,
            "grid_area": null,
            "grid_auto_columns": null,
            "grid_auto_flow": null,
            "grid_auto_rows": null,
            "grid_column": null,
            "grid_gap": null,
            "grid_row": null,
            "grid_template_areas": null,
            "grid_template_columns": null,
            "grid_template_rows": null,
            "height": null,
            "justify_content": null,
            "justify_items": null,
            "left": null,
            "margin": null,
            "max_height": null,
            "max_width": null,
            "min_height": null,
            "min_width": null,
            "object_fit": null,
            "object_position": null,
            "order": null,
            "overflow": null,
            "overflow_x": null,
            "overflow_y": null,
            "padding": null,
            "right": null,
            "top": null,
            "visibility": null,
            "width": "20px"
          }
        },
        "2d6988f373374c2296d9a54ef7bc32c6": {
          "model_module": "@jupyter-widgets/controls",
          "model_name": "ProgressStyleModel",
          "model_module_version": "1.5.0",
          "state": {
            "_model_module": "@jupyter-widgets/controls",
            "_model_module_version": "1.5.0",
            "_model_name": "ProgressStyleModel",
            "_view_count": null,
            "_view_module": "@jupyter-widgets/base",
            "_view_module_version": "1.2.0",
            "_view_name": "StyleView",
            "bar_color": null,
            "description_width": ""
          }
        },
        "1bba994ea4194350a9dd92deee38138f": {
          "model_module": "@jupyter-widgets/base",
          "model_name": "LayoutModel",
          "model_module_version": "1.2.0",
          "state": {
            "_model_module": "@jupyter-widgets/base",
            "_model_module_version": "1.2.0",
            "_model_name": "LayoutModel",
            "_view_count": null,
            "_view_module": "@jupyter-widgets/base",
            "_view_module_version": "1.2.0",
            "_view_name": "LayoutView",
            "align_content": null,
            "align_items": null,
            "align_self": null,
            "border": null,
            "bottom": null,
            "display": null,
            "flex": null,
            "flex_flow": null,
            "grid_area": null,
            "grid_auto_columns": null,
            "grid_auto_flow": null,
            "grid_auto_rows": null,
            "grid_column": null,
            "grid_gap": null,
            "grid_row": null,
            "grid_template_areas": null,
            "grid_template_columns": null,
            "grid_template_rows": null,
            "height": null,
            "justify_content": null,
            "justify_items": null,
            "left": null,
            "margin": null,
            "max_height": null,
            "max_width": null,
            "min_height": null,
            "min_width": null,
            "object_fit": null,
            "object_position": null,
            "order": null,
            "overflow": null,
            "overflow_x": null,
            "overflow_y": null,
            "padding": null,
            "right": null,
            "top": null,
            "visibility": null,
            "width": null
          }
        },
        "bc209849475a411385b5242beb0f2d12": {
          "model_module": "@jupyter-widgets/controls",
          "model_name": "DescriptionStyleModel",
          "model_module_version": "1.5.0",
          "state": {
            "_model_module": "@jupyter-widgets/controls",
            "_model_module_version": "1.5.0",
            "_model_name": "DescriptionStyleModel",
            "_view_count": null,
            "_view_module": "@jupyter-widgets/base",
            "_view_module_version": "1.2.0",
            "_view_name": "StyleView",
            "description_width": ""
          }
        },
        "414a1c09b99f4001a1835464487b1ab3": {
          "model_module": "@jupyter-widgets/controls",
          "model_name": "VBoxModel",
          "model_module_version": "1.5.0",
          "state": {
            "_dom_classes": [],
            "_model_module": "@jupyter-widgets/controls",
            "_model_module_version": "1.5.0",
            "_model_name": "VBoxModel",
            "_view_count": null,
            "_view_module": "@jupyter-widgets/controls",
            "_view_module_version": "1.5.0",
            "_view_name": "VBoxView",
            "box_style": "",
            "children": [
              "IPY_MODEL_721bd5484ac14e9984dd2bc89161ea3a",
              "IPY_MODEL_572f8e40d4674f2d8e2e4fc549772ddc"
            ],
            "layout": "IPY_MODEL_408605a29c554061a52910793e78d7ab"
          }
        },
        "721bd5484ac14e9984dd2bc89161ea3a": {
          "model_module": "@jupyter-widgets/controls",
          "model_name": "LabelModel",
          "model_module_version": "1.5.0",
          "state": {
            "_dom_classes": [],
            "_model_module": "@jupyter-widgets/controls",
            "_model_module_version": "1.5.0",
            "_model_name": "LabelModel",
            "_view_count": null,
            "_view_module": "@jupyter-widgets/controls",
            "_view_module_version": "1.5.0",
            "_view_name": "LabelView",
            "description": "",
            "description_tooltip": null,
            "layout": "IPY_MODEL_8207526f97cf417b97ad92f716cf617b",
            "placeholder": "​",
            "style": "IPY_MODEL_5d662b72478847a4aa1b73d05ad65930",
            "value": "40.389 MB of 40.389 MB uploaded (0.007 MB deduped)\r"
          }
        },
        "572f8e40d4674f2d8e2e4fc549772ddc": {
          "model_module": "@jupyter-widgets/controls",
          "model_name": "FloatProgressModel",
          "model_module_version": "1.5.0",
          "state": {
            "_dom_classes": [],
            "_model_module": "@jupyter-widgets/controls",
            "_model_module_version": "1.5.0",
            "_model_name": "FloatProgressModel",
            "_view_count": null,
            "_view_module": "@jupyter-widgets/controls",
            "_view_module_version": "1.5.0",
            "_view_name": "ProgressView",
            "bar_style": "",
            "description": "",
            "description_tooltip": null,
            "layout": "IPY_MODEL_e162ed5e40f84d91bcbdb7a138e1f7bf",
            "max": 1,
            "min": 0,
            "orientation": "horizontal",
            "style": "IPY_MODEL_7626226d0f8b4fc3bd299e1708eab20e",
            "value": 1
          }
        },
        "408605a29c554061a52910793e78d7ab": {
          "model_module": "@jupyter-widgets/base",
          "model_name": "LayoutModel",
          "model_module_version": "1.2.0",
          "state": {
            "_model_module": "@jupyter-widgets/base",
            "_model_module_version": "1.2.0",
            "_model_name": "LayoutModel",
            "_view_count": null,
            "_view_module": "@jupyter-widgets/base",
            "_view_module_version": "1.2.0",
            "_view_name": "LayoutView",
            "align_content": null,
            "align_items": null,
            "align_self": null,
            "border": null,
            "bottom": null,
            "display": null,
            "flex": null,
            "flex_flow": null,
            "grid_area": null,
            "grid_auto_columns": null,
            "grid_auto_flow": null,
            "grid_auto_rows": null,
            "grid_column": null,
            "grid_gap": null,
            "grid_row": null,
            "grid_template_areas": null,
            "grid_template_columns": null,
            "grid_template_rows": null,
            "height": null,
            "justify_content": null,
            "justify_items": null,
            "left": null,
            "margin": null,
            "max_height": null,
            "max_width": null,
            "min_height": null,
            "min_width": null,
            "object_fit": null,
            "object_position": null,
            "order": null,
            "overflow": null,
            "overflow_x": null,
            "overflow_y": null,
            "padding": null,
            "right": null,
            "top": null,
            "visibility": null,
            "width": null
          }
        },
        "8207526f97cf417b97ad92f716cf617b": {
          "model_module": "@jupyter-widgets/base",
          "model_name": "LayoutModel",
          "model_module_version": "1.2.0",
          "state": {
            "_model_module": "@jupyter-widgets/base",
            "_model_module_version": "1.2.0",
            "_model_name": "LayoutModel",
            "_view_count": null,
            "_view_module": "@jupyter-widgets/base",
            "_view_module_version": "1.2.0",
            "_view_name": "LayoutView",
            "align_content": null,
            "align_items": null,
            "align_self": null,
            "border": null,
            "bottom": null,
            "display": null,
            "flex": null,
            "flex_flow": null,
            "grid_area": null,
            "grid_auto_columns": null,
            "grid_auto_flow": null,
            "grid_auto_rows": null,
            "grid_column": null,
            "grid_gap": null,
            "grid_row": null,
            "grid_template_areas": null,
            "grid_template_columns": null,
            "grid_template_rows": null,
            "height": null,
            "justify_content": null,
            "justify_items": null,
            "left": null,
            "margin": null,
            "max_height": null,
            "max_width": null,
            "min_height": null,
            "min_width": null,
            "object_fit": null,
            "object_position": null,
            "order": null,
            "overflow": null,
            "overflow_x": null,
            "overflow_y": null,
            "padding": null,
            "right": null,
            "top": null,
            "visibility": null,
            "width": null
          }
        },
        "5d662b72478847a4aa1b73d05ad65930": {
          "model_module": "@jupyter-widgets/controls",
          "model_name": "DescriptionStyleModel",
          "model_module_version": "1.5.0",
          "state": {
            "_model_module": "@jupyter-widgets/controls",
            "_model_module_version": "1.5.0",
            "_model_name": "DescriptionStyleModel",
            "_view_count": null,
            "_view_module": "@jupyter-widgets/base",
            "_view_module_version": "1.2.0",
            "_view_name": "StyleView",
            "description_width": ""
          }
        },
        "e162ed5e40f84d91bcbdb7a138e1f7bf": {
          "model_module": "@jupyter-widgets/base",
          "model_name": "LayoutModel",
          "model_module_version": "1.2.0",
          "state": {
            "_model_module": "@jupyter-widgets/base",
            "_model_module_version": "1.2.0",
            "_model_name": "LayoutModel",
            "_view_count": null,
            "_view_module": "@jupyter-widgets/base",
            "_view_module_version": "1.2.0",
            "_view_name": "LayoutView",
            "align_content": null,
            "align_items": null,
            "align_self": null,
            "border": null,
            "bottom": null,
            "display": null,
            "flex": null,
            "flex_flow": null,
            "grid_area": null,
            "grid_auto_columns": null,
            "grid_auto_flow": null,
            "grid_auto_rows": null,
            "grid_column": null,
            "grid_gap": null,
            "grid_row": null,
            "grid_template_areas": null,
            "grid_template_columns": null,
            "grid_template_rows": null,
            "height": null,
            "justify_content": null,
            "justify_items": null,
            "left": null,
            "margin": null,
            "max_height": null,
            "max_width": null,
            "min_height": null,
            "min_width": null,
            "object_fit": null,
            "object_position": null,
            "order": null,
            "overflow": null,
            "overflow_x": null,
            "overflow_y": null,
            "padding": null,
            "right": null,
            "top": null,
            "visibility": null,
            "width": null
          }
        },
        "7626226d0f8b4fc3bd299e1708eab20e": {
          "model_module": "@jupyter-widgets/controls",
          "model_name": "ProgressStyleModel",
          "model_module_version": "1.5.0",
          "state": {
            "_model_module": "@jupyter-widgets/controls",
            "_model_module_version": "1.5.0",
            "_model_name": "ProgressStyleModel",
            "_view_count": null,
            "_view_module": "@jupyter-widgets/base",
            "_view_module_version": "1.2.0",
            "_view_name": "StyleView",
            "bar_color": null,
            "description_width": ""
          }
        }
      }
    },
    "accelerator": "GPU"
  },
  "cells": [
    {
      "cell_type": "markdown",
      "metadata": {
        "id": "view-in-github",
        "colab_type": "text"
      },
      "source": [
        "<a href=\"https://colab.research.google.com/github/verma-saloni/Thesis-Work/blob/main/09_17_22_SBERT%2Bpt_biggraph_Embeddings_NN_Politifact.ipynb\" target=\"_parent\"><img src=\"https://colab.research.google.com/assets/colab-badge.svg\" alt=\"Open In Colab\"/></a>"
      ]
    },
    {
      "cell_type": "code",
      "source": [
        "#%%capture\n",
        "!pip install -U sentence-transformers wandb"
      ],
      "metadata": {
        "id": "aByzVMdkzqAJ",
        "colab": {
          "base_uri": "https://localhost:8080/"
        },
        "outputId": "0adb4ea1-9522-40b3-e216-176bba0cffad"
      },
      "execution_count": 1,
      "outputs": [
        {
          "output_type": "stream",
          "name": "stdout",
          "text": [
            "Looking in indexes: https://pypi.org/simple, https://us-python.pkg.dev/colab-wheels/public/simple/\n",
            "Collecting sentence-transformers\n",
            "  Downloading sentence-transformers-2.2.2.tar.gz (85 kB)\n",
            "\u001b[K     |████████████████████████████████| 85 kB 4.0 MB/s \n",
            "\u001b[?25hCollecting wandb\n",
            "  Downloading wandb-0.13.3-py2.py3-none-any.whl (1.8 MB)\n",
            "\u001b[K     |████████████████████████████████| 1.8 MB 51.7 MB/s \n",
            "\u001b[?25hCollecting transformers<5.0.0,>=4.6.0\n",
            "  Downloading transformers-4.22.1-py3-none-any.whl (4.9 MB)\n",
            "\u001b[K     |████████████████████████████████| 4.9 MB 48.2 MB/s \n",
            "\u001b[?25hRequirement already satisfied: tqdm in /usr/local/lib/python3.7/dist-packages (from sentence-transformers) (4.64.1)\n",
            "Requirement already satisfied: torch>=1.6.0 in /usr/local/lib/python3.7/dist-packages (from sentence-transformers) (1.12.1+cu113)\n",
            "Requirement already satisfied: torchvision in /usr/local/lib/python3.7/dist-packages (from sentence-transformers) (0.13.1+cu113)\n",
            "Requirement already satisfied: numpy in /usr/local/lib/python3.7/dist-packages (from sentence-transformers) (1.21.6)\n",
            "Requirement already satisfied: scikit-learn in /usr/local/lib/python3.7/dist-packages (from sentence-transformers) (1.0.2)\n",
            "Requirement already satisfied: scipy in /usr/local/lib/python3.7/dist-packages (from sentence-transformers) (1.7.3)\n",
            "Requirement already satisfied: nltk in /usr/local/lib/python3.7/dist-packages (from sentence-transformers) (3.7)\n",
            "Collecting sentencepiece\n",
            "  Downloading sentencepiece-0.1.97-cp37-cp37m-manylinux_2_17_x86_64.manylinux2014_x86_64.whl (1.3 MB)\n",
            "\u001b[K     |████████████████████████████████| 1.3 MB 61.5 MB/s \n",
            "\u001b[?25hCollecting huggingface-hub>=0.4.0\n",
            "  Downloading huggingface_hub-0.9.1-py3-none-any.whl (120 kB)\n",
            "\u001b[K     |████████████████████████████████| 120 kB 66.8 MB/s \n",
            "\u001b[?25hRequirement already satisfied: requests in /usr/local/lib/python3.7/dist-packages (from huggingface-hub>=0.4.0->sentence-transformers) (2.23.0)\n",
            "Requirement already satisfied: filelock in /usr/local/lib/python3.7/dist-packages (from huggingface-hub>=0.4.0->sentence-transformers) (3.8.0)\n",
            "Requirement already satisfied: typing-extensions>=3.7.4.3 in /usr/local/lib/python3.7/dist-packages (from huggingface-hub>=0.4.0->sentence-transformers) (4.1.1)\n",
            "Requirement already satisfied: importlib-metadata in /usr/local/lib/python3.7/dist-packages (from huggingface-hub>=0.4.0->sentence-transformers) (4.12.0)\n",
            "Requirement already satisfied: pyyaml>=5.1 in /usr/local/lib/python3.7/dist-packages (from huggingface-hub>=0.4.0->sentence-transformers) (6.0)\n",
            "Requirement already satisfied: packaging>=20.9 in /usr/local/lib/python3.7/dist-packages (from huggingface-hub>=0.4.0->sentence-transformers) (21.3)\n",
            "Requirement already satisfied: pyparsing!=3.0.5,>=2.0.2 in /usr/local/lib/python3.7/dist-packages (from packaging>=20.9->huggingface-hub>=0.4.0->sentence-transformers) (3.0.9)\n",
            "Collecting tokenizers!=0.11.3,<0.13,>=0.11.1\n",
            "  Downloading tokenizers-0.12.1-cp37-cp37m-manylinux_2_12_x86_64.manylinux2010_x86_64.whl (6.6 MB)\n",
            "\u001b[K     |████████████████████████████████| 6.6 MB 51.1 MB/s \n",
            "\u001b[?25hRequirement already satisfied: regex!=2019.12.17 in /usr/local/lib/python3.7/dist-packages (from transformers<5.0.0,>=4.6.0->sentence-transformers) (2022.6.2)\n",
            "Collecting shortuuid>=0.5.0\n",
            "  Downloading shortuuid-1.0.9-py3-none-any.whl (9.4 kB)\n",
            "Collecting pathtools\n",
            "  Downloading pathtools-0.1.2.tar.gz (11 kB)\n",
            "Collecting setproctitle\n",
            "  Downloading setproctitle-1.3.2-cp37-cp37m-manylinux_2_5_x86_64.manylinux1_x86_64.manylinux_2_17_x86_64.manylinux2014_x86_64.whl (30 kB)\n",
            "Requirement already satisfied: six>=1.13.0 in /usr/local/lib/python3.7/dist-packages (from wandb) (1.15.0)\n",
            "Collecting GitPython>=1.0.0\n",
            "  Downloading GitPython-3.1.27-py3-none-any.whl (181 kB)\n",
            "\u001b[K     |████████████████████████████████| 181 kB 46.2 MB/s \n",
            "\u001b[?25hRequirement already satisfied: Click!=8.0.0,>=7.0 in /usr/local/lib/python3.7/dist-packages (from wandb) (7.1.2)\n",
            "Requirement already satisfied: setuptools in /usr/local/lib/python3.7/dist-packages (from wandb) (57.4.0)\n",
            "Requirement already satisfied: psutil>=5.0.0 in /usr/local/lib/python3.7/dist-packages (from wandb) (5.4.8)\n",
            "Collecting sentry-sdk>=1.0.0\n",
            "  Downloading sentry_sdk-1.9.8-py2.py3-none-any.whl (158 kB)\n",
            "\u001b[K     |████████████████████████████████| 158 kB 54.2 MB/s \n",
            "\u001b[?25hCollecting docker-pycreds>=0.4.0\n",
            "  Downloading docker_pycreds-0.4.0-py2.py3-none-any.whl (9.0 kB)\n",
            "Requirement already satisfied: promise<3,>=2.0 in /usr/local/lib/python3.7/dist-packages (from wandb) (2.3)\n",
            "Requirement already satisfied: protobuf<4.0dev,>=3.12.0 in /usr/local/lib/python3.7/dist-packages (from wandb) (3.17.3)\n",
            "Collecting gitdb<5,>=4.0.1\n",
            "  Downloading gitdb-4.0.9-py3-none-any.whl (63 kB)\n",
            "\u001b[K     |████████████████████████████████| 63 kB 1.4 MB/s \n",
            "\u001b[?25hCollecting smmap<6,>=3.0.1\n",
            "  Downloading smmap-5.0.0-py3-none-any.whl (24 kB)\n",
            "Requirement already satisfied: chardet<4,>=3.0.2 in /usr/local/lib/python3.7/dist-packages (from requests->huggingface-hub>=0.4.0->sentence-transformers) (3.0.4)\n",
            "Requirement already satisfied: idna<3,>=2.5 in /usr/local/lib/python3.7/dist-packages (from requests->huggingface-hub>=0.4.0->sentence-transformers) (2.10)\n",
            "Requirement already satisfied: certifi>=2017.4.17 in /usr/local/lib/python3.7/dist-packages (from requests->huggingface-hub>=0.4.0->sentence-transformers) (2022.6.15)\n",
            "Requirement already satisfied: urllib3!=1.25.0,!=1.25.1,<1.26,>=1.21.1 in /usr/local/lib/python3.7/dist-packages (from requests->huggingface-hub>=0.4.0->sentence-transformers) (1.24.3)\n",
            "Collecting sentry-sdk>=1.0.0\n",
            "  Downloading sentry_sdk-1.9.7-py2.py3-none-any.whl (157 kB)\n",
            "\u001b[K     |████████████████████████████████| 157 kB 52.9 MB/s \n",
            "\u001b[?25h  Downloading sentry_sdk-1.9.6-py2.py3-none-any.whl (157 kB)\n",
            "\u001b[K     |████████████████████████████████| 157 kB 51.2 MB/s \n",
            "\u001b[?25h  Downloading sentry_sdk-1.9.5-py2.py3-none-any.whl (157 kB)\n",
            "\u001b[K     |████████████████████████████████| 157 kB 56.5 MB/s \n",
            "\u001b[?25h  Downloading sentry_sdk-1.9.4-py2.py3-none-any.whl (157 kB)\n",
            "\u001b[K     |████████████████████████████████| 157 kB 60.5 MB/s \n",
            "\u001b[?25h  Downloading sentry_sdk-1.9.3-py2.py3-none-any.whl (157 kB)\n",
            "\u001b[K     |████████████████████████████████| 157 kB 55.6 MB/s \n",
            "\u001b[?25h  Downloading sentry_sdk-1.9.2-py2.py3-none-any.whl (157 kB)\n",
            "\u001b[K     |████████████████████████████████| 157 kB 58.4 MB/s \n",
            "\u001b[?25h  Downloading sentry_sdk-1.9.1-py2.py3-none-any.whl (157 kB)\n",
            "\u001b[K     |████████████████████████████████| 157 kB 39.7 MB/s \n",
            "\u001b[?25h  Downloading sentry_sdk-1.9.0-py2.py3-none-any.whl (156 kB)\n",
            "\u001b[K     |████████████████████████████████| 156 kB 53.7 MB/s \n",
            "\u001b[?25hRequirement already satisfied: zipp>=0.5 in /usr/local/lib/python3.7/dist-packages (from importlib-metadata->huggingface-hub>=0.4.0->sentence-transformers) (3.8.1)\n",
            "Requirement already satisfied: joblib in /usr/local/lib/python3.7/dist-packages (from nltk->sentence-transformers) (1.1.0)\n",
            "Requirement already satisfied: threadpoolctl>=2.0.0 in /usr/local/lib/python3.7/dist-packages (from scikit-learn->sentence-transformers) (3.1.0)\n",
            "Requirement already satisfied: pillow!=8.3.*,>=5.3.0 in /usr/local/lib/python3.7/dist-packages (from torchvision->sentence-transformers) (7.1.2)\n",
            "Building wheels for collected packages: sentence-transformers, pathtools\n",
            "  Building wheel for sentence-transformers (setup.py) ... \u001b[?25l\u001b[?25hdone\n",
            "  Created wheel for sentence-transformers: filename=sentence_transformers-2.2.2-py3-none-any.whl size=125938 sha256=037bde55a2d7c99ceb581915bea8bce53009102fff8101713592c6e3d4d712c3\n",
            "  Stored in directory: /root/.cache/pip/wheels/bf/06/fb/d59c1e5bd1dac7f6cf61ec0036cc3a10ab8fecaa6b2c3d3ee9\n",
            "  Building wheel for pathtools (setup.py) ... \u001b[?25l\u001b[?25hdone\n",
            "  Created wheel for pathtools: filename=pathtools-0.1.2-py3-none-any.whl size=8806 sha256=5978425270e13b81f9f63b89961dac93522113fd58b26e17e681b5734b859d27\n",
            "  Stored in directory: /root/.cache/pip/wheels/3e/31/09/fa59cef12cdcfecc627b3d24273699f390e71828921b2cbba2\n",
            "Successfully built sentence-transformers pathtools\n",
            "Installing collected packages: smmap, tokenizers, huggingface-hub, gitdb, transformers, shortuuid, setproctitle, sentry-sdk, sentencepiece, pathtools, GitPython, docker-pycreds, wandb, sentence-transformers\n",
            "Successfully installed GitPython-3.1.27 docker-pycreds-0.4.0 gitdb-4.0.9 huggingface-hub-0.9.1 pathtools-0.1.2 sentence-transformers-2.2.2 sentencepiece-0.1.97 sentry-sdk-1.9.0 setproctitle-1.3.2 shortuuid-1.0.9 smmap-5.0.0 tokenizers-0.12.1 transformers-4.22.1 wandb-0.13.3\n"
          ]
        }
      ]
    },
    {
      "cell_type": "code",
      "execution_count": 2,
      "metadata": {
        "id": "8wffusyCytsx",
        "colab": {
          "base_uri": "https://localhost:8080/",
          "height": 104,
          "referenced_widgets": [
            "d16517e1bd8f4f7cb98d1759b74372ac",
            "a62c1c2425d34937b5f8d7f67188005c",
            "329498387ff14188a60d3817c4cb4718",
            "da0f3173ad5a439da8d25fa742f54fdf",
            "4a506a123feb4b44bd1c1d0d06c34b88",
            "63fe0e71d8904bc1b0826300795d65fc",
            "995f5ba5f51a4a768de2725c0e568743",
            "cb726ba5ab7e4e039549df3dc3bf182c",
            "2d6988f373374c2296d9a54ef7bc32c6",
            "1bba994ea4194350a9dd92deee38138f",
            "bc209849475a411385b5242beb0f2d12"
          ]
        },
        "outputId": "50c535d9-ccd5-439b-9a12-2684e2fa0de5"
      },
      "outputs": [
        {
          "output_type": "stream",
          "name": "stderr",
          "text": [
            "The cache for model files in Transformers v4.22.0 has been updated. Migrating your old cache. This is a one-time only operation. You can interrupt this and resume the migration later on by calling `transformers.utils.move_cache()`.\n"
          ]
        },
        {
          "output_type": "stream",
          "name": "stdout",
          "text": [
            "Moving 0 files to the new cache system\n"
          ]
        },
        {
          "output_type": "display_data",
          "data": {
            "text/plain": [
              "0it [00:00, ?it/s]"
            ],
            "application/vnd.jupyter.widget-view+json": {
              "version_major": 2,
              "version_minor": 0,
              "model_id": "d16517e1bd8f4f7cb98d1759b74372ac"
            }
          },
          "metadata": {}
        }
      ],
      "source": [
        "from pathlib import Path\n",
        "import numpy as np\n",
        "import pandas as pd\n",
        "import re\n",
        "import json\n",
        "\n",
        "from sentence_transformers import SentenceTransformer \n",
        "\n",
        "from sklearn.model_selection import StratifiedKFold\n",
        "from sklearn.metrics import accuracy_score, f1_score, precision_score, recall_score\n",
        "\n",
        "import wandb\n",
        "from wandb.keras import WandbCallback\n",
        "from IPython.display import clear_output"
      ]
    },
    {
      "cell_type": "code",
      "source": [
        "metrics = [accuracy_score, f1_score, precision_score, recall_score]\n",
        "\n",
        "def get_name(score_func):\n",
        "    return 'eval/' + score_func.__name__.split(\"_\")[0]"
      ],
      "metadata": {
        "id": "oUUMZeWMuZXE"
      },
      "execution_count": 3,
      "outputs": []
    },
    {
      "cell_type": "markdown",
      "source": [
        "# Load data"
      ],
      "metadata": {
        "id": "R_4mZElNIVb5"
      }
    },
    {
      "cell_type": "code",
      "source": [
        "from google.colab import drive\n",
        "drive.mount('/content/drive')\n",
        "\n",
        "base_dir = Path(\"/content/drive/MyDrive/ResearchFND\")\n",
        "assert base_dir.exists()"
      ],
      "metadata": {
        "id": "UxNEaltli8H_",
        "colab": {
          "base_uri": "https://localhost:8080/"
        },
        "outputId": "8376929c-6cba-44c3-8310-7d4cfed3cb5c"
      },
      "execution_count": 4,
      "outputs": [
        {
          "output_type": "stream",
          "name": "stdout",
          "text": [
            "Mounted at /content/drive\n"
          ]
        }
      ]
    },
    {
      "cell_type": "code",
      "source": [
        "dataset_id = 'politifact'"
      ],
      "metadata": {
        "id": "GdnjXaSwE46w"
      },
      "execution_count": 5,
      "outputs": []
    },
    {
      "cell_type": "code",
      "source": [
        "import ast\n",
        "\n",
        "converters = {\"retweets\":ast.literal_eval, \"tweets\":ast.literal_eval}\n",
        "df = pd.read_csv(base_dir/f\"{dataset_id}_agg.csv\", converters=converters)\n",
        "df.head()"
      ],
      "metadata": {
        "id": "2YYgYvwB7nkO",
        "colab": {
          "base_uri": "https://localhost:8080/",
          "height": 600
        },
        "outputId": "b8076e75-c352-49c8-ea71-589931cd14bc"
      },
      "execution_count": 6,
      "outputs": [
        {
          "output_type": "execute_result",
          "data": {
            "text/plain": [
              "   Unnamed: 0                                              title  \\\n",
              "0           0   Actress Emma Stone ‘For the first time in his...   \n",
              "1           1   Breaking President Trump makes English the of...   \n",
              "2           2   Friendly Fire … Charlottesville Car attacker ...   \n",
              "3           3   If You Are Using This Toothpaste… Throw It Aw...   \n",
              "4           4  \"Face the Nation\" transcripts, August 26, 2012...   \n",
              "\n",
              "                                                text tweets  \\\n",
              "0                                                NaN     []   \n",
              "1                                                NaN     []   \n",
              "2                                                NaN     []   \n",
              "3  MightyLiving Blog\\n\\nHelpful inspiration from ...     []   \n",
              "4  \"Face the Nation\" transcripts, August 26, 2012...     []   \n",
              "\n",
              "                                            retweets label  \\\n",
              "0  [1020554564334964741, 1020817527046197248, 106...  fake   \n",
              "1                                                 []  fake   \n",
              "2  [3265439004, 3250621593, 3253922920, 326691851...  fake   \n",
              "3  [911971426571255810, 1036749614853103616, 1033...  fake   \n",
              "4                                                 []  real   \n",
              "\n",
              "                                                 url tweet_ids  num_retweets  \\\n",
              "0                                                NaN        []          2911   \n",
              "1                                                NaN        []             0   \n",
              "2                                                NaN        []            24   \n",
              "3  mightynest.com/learn/research-by-concern/dange...        []          2569   \n",
              "4  https://web.archive.org/web/20120827001956/htt...        []             0   \n",
              "\n",
              "   log_num_retweets  num_tweets  log_num_tweets  \n",
              "0          7.976595           0             0.0  \n",
              "1          0.000000           0             0.0  \n",
              "2          3.218876           0             0.0  \n",
              "3          7.851661           0             0.0  \n",
              "4          0.000000           0             0.0  "
            ],
            "text/html": [
              "\n",
              "  <div id=\"df-8f6eff0a-e53d-4e3a-9b86-f3213ff37d70\">\n",
              "    <div class=\"colab-df-container\">\n",
              "      <div>\n",
              "<style scoped>\n",
              "    .dataframe tbody tr th:only-of-type {\n",
              "        vertical-align: middle;\n",
              "    }\n",
              "\n",
              "    .dataframe tbody tr th {\n",
              "        vertical-align: top;\n",
              "    }\n",
              "\n",
              "    .dataframe thead th {\n",
              "        text-align: right;\n",
              "    }\n",
              "</style>\n",
              "<table border=\"1\" class=\"dataframe\">\n",
              "  <thead>\n",
              "    <tr style=\"text-align: right;\">\n",
              "      <th></th>\n",
              "      <th>Unnamed: 0</th>\n",
              "      <th>title</th>\n",
              "      <th>text</th>\n",
              "      <th>tweets</th>\n",
              "      <th>retweets</th>\n",
              "      <th>label</th>\n",
              "      <th>url</th>\n",
              "      <th>tweet_ids</th>\n",
              "      <th>num_retweets</th>\n",
              "      <th>log_num_retweets</th>\n",
              "      <th>num_tweets</th>\n",
              "      <th>log_num_tweets</th>\n",
              "    </tr>\n",
              "  </thead>\n",
              "  <tbody>\n",
              "    <tr>\n",
              "      <th>0</th>\n",
              "      <td>0</td>\n",
              "      <td>Actress Emma Stone ‘For the first time in his...</td>\n",
              "      <td>NaN</td>\n",
              "      <td>[]</td>\n",
              "      <td>[1020554564334964741, 1020817527046197248, 106...</td>\n",
              "      <td>fake</td>\n",
              "      <td>NaN</td>\n",
              "      <td>[]</td>\n",
              "      <td>2911</td>\n",
              "      <td>7.976595</td>\n",
              "      <td>0</td>\n",
              "      <td>0.0</td>\n",
              "    </tr>\n",
              "    <tr>\n",
              "      <th>1</th>\n",
              "      <td>1</td>\n",
              "      <td>Breaking President Trump makes English the of...</td>\n",
              "      <td>NaN</td>\n",
              "      <td>[]</td>\n",
              "      <td>[]</td>\n",
              "      <td>fake</td>\n",
              "      <td>NaN</td>\n",
              "      <td>[]</td>\n",
              "      <td>0</td>\n",
              "      <td>0.000000</td>\n",
              "      <td>0</td>\n",
              "      <td>0.0</td>\n",
              "    </tr>\n",
              "    <tr>\n",
              "      <th>2</th>\n",
              "      <td>2</td>\n",
              "      <td>Friendly Fire … Charlottesville Car attacker ...</td>\n",
              "      <td>NaN</td>\n",
              "      <td>[]</td>\n",
              "      <td>[3265439004, 3250621593, 3253922920, 326691851...</td>\n",
              "      <td>fake</td>\n",
              "      <td>NaN</td>\n",
              "      <td>[]</td>\n",
              "      <td>24</td>\n",
              "      <td>3.218876</td>\n",
              "      <td>0</td>\n",
              "      <td>0.0</td>\n",
              "    </tr>\n",
              "    <tr>\n",
              "      <th>3</th>\n",
              "      <td>3</td>\n",
              "      <td>If You Are Using This Toothpaste… Throw It Aw...</td>\n",
              "      <td>MightyLiving Blog\\n\\nHelpful inspiration from ...</td>\n",
              "      <td>[]</td>\n",
              "      <td>[911971426571255810, 1036749614853103616, 1033...</td>\n",
              "      <td>fake</td>\n",
              "      <td>mightynest.com/learn/research-by-concern/dange...</td>\n",
              "      <td>[]</td>\n",
              "      <td>2569</td>\n",
              "      <td>7.851661</td>\n",
              "      <td>0</td>\n",
              "      <td>0.0</td>\n",
              "    </tr>\n",
              "    <tr>\n",
              "      <th>4</th>\n",
              "      <td>4</td>\n",
              "      <td>\"Face the Nation\" transcripts, August 26, 2012...</td>\n",
              "      <td>\"Face the Nation\" transcripts, August 26, 2012...</td>\n",
              "      <td>[]</td>\n",
              "      <td>[]</td>\n",
              "      <td>real</td>\n",
              "      <td>https://web.archive.org/web/20120827001956/htt...</td>\n",
              "      <td>[]</td>\n",
              "      <td>0</td>\n",
              "      <td>0.000000</td>\n",
              "      <td>0</td>\n",
              "      <td>0.0</td>\n",
              "    </tr>\n",
              "  </tbody>\n",
              "</table>\n",
              "</div>\n",
              "      <button class=\"colab-df-convert\" onclick=\"convertToInteractive('df-8f6eff0a-e53d-4e3a-9b86-f3213ff37d70')\"\n",
              "              title=\"Convert this dataframe to an interactive table.\"\n",
              "              style=\"display:none;\">\n",
              "        \n",
              "  <svg xmlns=\"http://www.w3.org/2000/svg\" height=\"24px\"viewBox=\"0 0 24 24\"\n",
              "       width=\"24px\">\n",
              "    <path d=\"M0 0h24v24H0V0z\" fill=\"none\"/>\n",
              "    <path d=\"M18.56 5.44l.94 2.06.94-2.06 2.06-.94-2.06-.94-.94-2.06-.94 2.06-2.06.94zm-11 1L8.5 8.5l.94-2.06 2.06-.94-2.06-.94L8.5 2.5l-.94 2.06-2.06.94zm10 10l.94 2.06.94-2.06 2.06-.94-2.06-.94-.94-2.06-.94 2.06-2.06.94z\"/><path d=\"M17.41 7.96l-1.37-1.37c-.4-.4-.92-.59-1.43-.59-.52 0-1.04.2-1.43.59L10.3 9.45l-7.72 7.72c-.78.78-.78 2.05 0 2.83L4 21.41c.39.39.9.59 1.41.59.51 0 1.02-.2 1.41-.59l7.78-7.78 2.81-2.81c.8-.78.8-2.07 0-2.86zM5.41 20L4 18.59l7.72-7.72 1.47 1.35L5.41 20z\"/>\n",
              "  </svg>\n",
              "      </button>\n",
              "      \n",
              "  <style>\n",
              "    .colab-df-container {\n",
              "      display:flex;\n",
              "      flex-wrap:wrap;\n",
              "      gap: 12px;\n",
              "    }\n",
              "\n",
              "    .colab-df-convert {\n",
              "      background-color: #E8F0FE;\n",
              "      border: none;\n",
              "      border-radius: 50%;\n",
              "      cursor: pointer;\n",
              "      display: none;\n",
              "      fill: #1967D2;\n",
              "      height: 32px;\n",
              "      padding: 0 0 0 0;\n",
              "      width: 32px;\n",
              "    }\n",
              "\n",
              "    .colab-df-convert:hover {\n",
              "      background-color: #E2EBFA;\n",
              "      box-shadow: 0px 1px 2px rgba(60, 64, 67, 0.3), 0px 1px 3px 1px rgba(60, 64, 67, 0.15);\n",
              "      fill: #174EA6;\n",
              "    }\n",
              "\n",
              "    [theme=dark] .colab-df-convert {\n",
              "      background-color: #3B4455;\n",
              "      fill: #D2E3FC;\n",
              "    }\n",
              "\n",
              "    [theme=dark] .colab-df-convert:hover {\n",
              "      background-color: #434B5C;\n",
              "      box-shadow: 0px 1px 3px 1px rgba(0, 0, 0, 0.15);\n",
              "      filter: drop-shadow(0px 1px 2px rgba(0, 0, 0, 0.3));\n",
              "      fill: #FFFFFF;\n",
              "    }\n",
              "  </style>\n",
              "\n",
              "      <script>\n",
              "        const buttonEl =\n",
              "          document.querySelector('#df-8f6eff0a-e53d-4e3a-9b86-f3213ff37d70 button.colab-df-convert');\n",
              "        buttonEl.style.display =\n",
              "          google.colab.kernel.accessAllowed ? 'block' : 'none';\n",
              "\n",
              "        async function convertToInteractive(key) {\n",
              "          const element = document.querySelector('#df-8f6eff0a-e53d-4e3a-9b86-f3213ff37d70');\n",
              "          const dataTable =\n",
              "            await google.colab.kernel.invokeFunction('convertToInteractive',\n",
              "                                                     [key], {});\n",
              "          if (!dataTable) return;\n",
              "\n",
              "          const docLinkHtml = 'Like what you see? Visit the ' +\n",
              "            '<a target=\"_blank\" href=https://colab.research.google.com/notebooks/data_table.ipynb>data table notebook</a>'\n",
              "            + ' to learn more about interactive tables.';\n",
              "          element.innerHTML = '';\n",
              "          dataTable['output_type'] = 'display_data';\n",
              "          await google.colab.output.renderOutput(dataTable, element);\n",
              "          const docLink = document.createElement('div');\n",
              "          docLink.innerHTML = docLinkHtml;\n",
              "          element.appendChild(docLink);\n",
              "        }\n",
              "      </script>\n",
              "    </div>\n",
              "  </div>\n",
              "  "
            ]
          },
          "metadata": {},
          "execution_count": 6
        }
      ]
    },
    {
      "cell_type": "markdown",
      "source": [
        "# Using the embeddings for title and text from previous experiments"
      ],
      "metadata": {
        "id": "CnksS6trIRdd"
      }
    },
    {
      "cell_type": "code",
      "source": [
        "title_embedding_file = base_dir/f\"{dataset_id}_sbert_title_embeddings.npy\"\n",
        "\n",
        "if title_embedding_file.exists():\n",
        "    title_embeddings = np.load(title_embedding_file)\n",
        "else:\n",
        "    model_id = \"all-mpnet-base-v2\"\n",
        "    model = SentenceTransformer(model_id)\n",
        "    titles = df.title.tolist()\n",
        "    title_embeddings = model.encode(titles, show_progress_bar=True)\n",
        "    np.save(title_embedding_file, title_embeddings)"
      ],
      "metadata": {
        "id": "8H5eVnOyPFam"
      },
      "execution_count": 7,
      "outputs": []
    },
    {
      "cell_type": "code",
      "source": [
        "text_embedding_file = base_dir/f\"{dataset_id}_sbert_fulltext_embeddings.npy\"\n",
        "\n",
        "if text_embedding_file.exists():\n",
        "    text_embeddings = np.load(text_embedding_file)\n",
        "else:\n",
        "    model_id = \"all-mpnet-base-v2\"\n",
        "    model = SentenceTransformer(model_id)\n",
        "    texts = (df.title + \"\\n\" + df.text).tolist()\n",
        "    text_embeddings = model.encode(texts, show_progress_bar=True)\n",
        "    np.save(text_embedding_file, text_embeddings)"
      ],
      "metadata": {
        "id": "Uc88pT1nIRFX"
      },
      "execution_count": 8,
      "outputs": []
    },
    {
      "cell_type": "code",
      "source": [
        "df[\"num_retweets\"] = df.retweets.map(lambda x: len(set(x)))\n",
        "df[\"log_num_retweets\"] = np.log1p(df.num_retweets.to_numpy())\n",
        "df[\"num_tweets\"] = df.tweets.map(lambda x: len(set([t[\"id\"] for t in x])))\n",
        "df[\"log_num_tweets\"] = np.log1p(df.num_tweets.to_numpy())"
      ],
      "metadata": {
        "id": "h3uRPu4yGYvp"
      },
      "execution_count": 9,
      "outputs": []
    },
    {
      "cell_type": "markdown",
      "source": [
        "# Training - Saving the machine learning model specifications"
      ],
      "metadata": {
        "id": "BIJrjc_jMSmB"
      }
    },
    {
      "cell_type": "code",
      "source": [
        "import tensorflow as tf"
      ],
      "metadata": {
        "id": "crdL5CNX_guQ"
      },
      "execution_count": 10,
      "outputs": []
    },
    {
      "cell_type": "code",
      "source": [
        "def get_model(d_h=64, p_in:float=0.2, p_out:float=0.2):\n",
        "    model = tf.keras.Sequential([\n",
        "        tf.keras.layers.Dropout(p_in), # input dropout\n",
        "        tf.keras.layers.Dense(d_h, activation='relu'),\n",
        "        tf.keras.layers.Dropout(p_out),  \n",
        "        tf.keras.layers.Dense(1)\n",
        "    ])\n",
        "\n",
        "    model.compile(loss=tf.keras.losses.BinaryCrossentropy(from_logits=True), \n",
        "                  optimizer='adam',metrics=['accuracy'])\n",
        "    return model"
      ],
      "metadata": {
        "id": "-_V-I0VdTezQ"
      },
      "execution_count": 11,
      "outputs": []
    },
    {
      "cell_type": "code",
      "source": [
        "def train(fold_id, train_idx, test_idx, params):\n",
        "\n",
        "    # setup\n",
        "    X_train, X_test = X[train_idx], X[test_idx]\n",
        "    y_train, y_test = y[train_idx], y[test_idx]\n",
        "    model = get_model()\n",
        "    # training\n",
        "    ckpt_filepath = f'ckpt/fold_{fold_id}'\n",
        "    save_model_cb = tf.keras.callbacks.ModelCheckpoint(\n",
        "        filepath=ckpt_filepath,\n",
        "        save_weights_only=True,\n",
        "        monitor='val_accuracy',\n",
        "        mode='max',\n",
        "        save_best_only=True)\n",
        "    history = model.fit(\n",
        "        X_train, y_train, validation_data = (X_test, y_test), \n",
        "        batch_size = params['bs'] , epochs=params['epochs'],\n",
        "        callbacks=[WandbCallback(), save_model_cb]\n",
        "    )\n",
        "    #evaluation\n",
        "    model.load_weights(ckpt_filepath)\n",
        "    logits = model.predict(X_test).squeeze()\n",
        "    y_pred = (logits > 0.).astype(int)\n",
        "    eval_results = {get_name(f):f(y_pred=y_pred, y_true=y_test) for f in metrics}\n",
        "    wandb.log(eval_results)\n",
        "    wandb.log({\"conf_mat\" : wandb.plot.confusion_matrix(probs=None,\n",
        "                            y_true=y_test, preds=y_pred,\n",
        "                            class_names=[\"Fake\", \"Real\"])})\n",
        "    return history"
      ],
      "metadata": {
        "id": "d4qbKryd_e3g"
      },
      "execution_count": 12,
      "outputs": []
    },
    {
      "cell_type": "markdown",
      "source": [
        "### PyTorch_BigGraph embeddings"
      ],
      "metadata": {
        "id": "NetZ3uulKwmk"
      }
    },
    {
      "cell_type": "code",
      "source": [
        "edim = 128\n",
        "bg_embeddings = np.load(base_dir/f'{dataset_id}_pt_biggraph_article_embeddings_{edim}.npy')\n",
        "idx = np.load(base_dir/f\"{dataset_id}_pt_biggraph_article_idx_{edim}.npy\")"
      ],
      "metadata": {
        "id": "uQjE8biJFfW8"
      },
      "execution_count": 13,
      "outputs": []
    },
    {
      "cell_type": "code",
      "source": [
        "graph_embeddings = np.zeros((text_embeddings.shape[0], edim))\n",
        "graph_embeddings[idx] = bg_embeddings"
      ],
      "metadata": {
        "id": "NWS6KO7UpUX3"
      },
      "execution_count": 14,
      "outputs": []
    },
    {
      "cell_type": "code",
      "source": [
        "params = {\n",
        "    \"epochs\":200,\n",
        "    \"bs\":128,\n",
        "    # 'lr':1e-3\n",
        "}"
      ],
      "metadata": {
        "id": "zYG-ufSkM92E"
      },
      "execution_count": 15,
      "outputs": []
    },
    {
      "cell_type": "code",
      "source": [
        "X = np.concatenate([\n",
        "    text_embeddings, \n",
        "    df.log_num_retweets.to_numpy()[..., None], \n",
        "    df.log_num_tweets.to_numpy()[..., None],\n",
        "    graph_embeddings], axis=1)\n",
        "y = (df.label==\"real\").to_numpy().astype(int)\n",
        "\n",
        "X.shape, y.shape"
      ],
      "metadata": {
        "colab": {
          "base_uri": "https://localhost:8080/"
        },
        "outputId": "6e01a4ba-b57a-4092-e50a-8a94f8e1bb4a",
        "id": "NYFQrhVkqGbC"
      },
      "execution_count": 16,
      "outputs": [
        {
          "output_type": "execute_result",
          "data": {
            "text/plain": [
              "((894, 898), (894,))"
            ]
          },
          "metadata": {},
          "execution_count": 16
        }
      ]
    },
    {
      "cell_type": "code",
      "source": [
        "skf = StratifiedKFold(shuffle=True, random_state=124)"
      ],
      "metadata": {
        "id": "35HIz5jGM92K"
      },
      "execution_count": 17,
      "outputs": []
    },
    {
      "cell_type": "markdown",
      "source": [
        "Creating a group and logging all train, test data in wandb for better tracking and visualisation."
      ],
      "metadata": {
        "id": "l0wGrjhLM92M"
      }
    },
    {
      "cell_type": "code",
      "source": [
        "GROUP = f\"{dataset_id}-fulltext-sbert+tw+ptbg128-mlp\"\n",
        "\n",
        "for fold_id, (train_idx, test_idx) in enumerate(skf.split(X, y)):\n",
        "    clear_output()\n",
        "    with wandb.init(entity=\"saloniteam\", project=\"nofolds\", group=GROUP, name=f\"{GROUP}-{fold_id}\") as run:\n",
        "        train(fold_id, train_idx, test_idx, params)\n",
        "    break"
      ],
      "metadata": {
        "colab": {
          "base_uri": "https://localhost:8080/",
          "height": 1000,
          "referenced_widgets": [
            "414a1c09b99f4001a1835464487b1ab3",
            "721bd5484ac14e9984dd2bc89161ea3a",
            "572f8e40d4674f2d8e2e4fc549772ddc",
            "408605a29c554061a52910793e78d7ab",
            "8207526f97cf417b97ad92f716cf617b",
            "5d662b72478847a4aa1b73d05ad65930",
            "e162ed5e40f84d91bcbdb7a138e1f7bf",
            "7626226d0f8b4fc3bd299e1708eab20e"
          ]
        },
        "outputId": "b69ea6d4-49b6-4e62-e9d0-46e4c6cdd9f3",
        "id": "BQRR58uNM92O"
      },
      "execution_count": 18,
      "outputs": [
        {
          "output_type": "stream",
          "name": "stderr",
          "text": [
            "ERROR:wandb.jupyter:Failed to detect the name of this notebook, you can set it manually with the WANDB_NOTEBOOK_NAME environment variable to enable code saving.\n"
          ]
        },
        {
          "output_type": "display_data",
          "data": {
            "text/plain": [
              "<IPython.core.display.Javascript object>"
            ],
            "application/javascript": [
              "\n",
              "        window._wandbApiKey = new Promise((resolve, reject) => {\n",
              "            function loadScript(url) {\n",
              "            return new Promise(function(resolve, reject) {\n",
              "                let newScript = document.createElement(\"script\");\n",
              "                newScript.onerror = reject;\n",
              "                newScript.onload = resolve;\n",
              "                document.body.appendChild(newScript);\n",
              "                newScript.src = url;\n",
              "            });\n",
              "            }\n",
              "            loadScript(\"https://cdn.jsdelivr.net/npm/postmate/build/postmate.min.js\").then(() => {\n",
              "            const iframe = document.createElement('iframe')\n",
              "            iframe.style.cssText = \"width:0;height:0;border:none\"\n",
              "            document.body.appendChild(iframe)\n",
              "            const handshake = new Postmate({\n",
              "                container: iframe,\n",
              "                url: 'https://wandb.ai/authorize'\n",
              "            });\n",
              "            const timeout = setTimeout(() => reject(\"Couldn't auto authenticate\"), 5000)\n",
              "            handshake.then(function(child) {\n",
              "                child.on('authorize', data => {\n",
              "                    clearTimeout(timeout)\n",
              "                    resolve(data)\n",
              "                });\n",
              "            });\n",
              "            })\n",
              "        });\n",
              "    "
            ]
          },
          "metadata": {}
        },
        {
          "output_type": "stream",
          "name": "stderr",
          "text": [
            "\u001b[34m\u001b[1mwandb\u001b[0m: Logging into wandb.ai. (Learn how to deploy a W&B server locally: https://wandb.me/wandb-server)\n",
            "\u001b[34m\u001b[1mwandb\u001b[0m: You can find your API key in your browser here: https://wandb.ai/authorize\n",
            "wandb: Paste an API key from your profile and hit enter, or press ctrl+c to quit: "
          ]
        },
        {
          "name": "stdout",
          "output_type": "stream",
          "text": [
            "··········\n"
          ]
        },
        {
          "output_type": "stream",
          "name": "stderr",
          "text": [
            "\u001b[34m\u001b[1mwandb\u001b[0m: Appending key for api.wandb.ai to your netrc file: /root/.netrc\n"
          ]
        },
        {
          "output_type": "display_data",
          "data": {
            "text/plain": [
              "<IPython.core.display.HTML object>"
            ],
            "text/html": [
              "Tracking run with wandb version 0.13.3"
            ]
          },
          "metadata": {}
        },
        {
          "output_type": "display_data",
          "data": {
            "text/plain": [
              "<IPython.core.display.HTML object>"
            ],
            "text/html": [
              "Run data is saved locally in <code>/content/wandb/run-20220917_093721-neauh7i7</code>"
            ]
          },
          "metadata": {}
        },
        {
          "output_type": "display_data",
          "data": {
            "text/plain": [
              "<IPython.core.display.HTML object>"
            ],
            "text/html": [
              "Syncing run <strong><a href=\"https://wandb.ai/saloniteam/nofolds/runs/neauh7i7\" target=\"_blank\">politifact-fulltext-sbert+tw+ptbg128-mlp-0</a></strong> to <a href=\"https://wandb.ai/saloniteam/nofolds\" target=\"_blank\">Weights & Biases</a> (<a href=\"https://wandb.me/run\" target=\"_blank\">docs</a>)<br/>"
            ]
          },
          "metadata": {}
        },
        {
          "output_type": "stream",
          "name": "stderr",
          "text": [
            "\u001b[34m\u001b[1mwandb\u001b[0m: \u001b[33mWARNING\u001b[0m The save_model argument by default saves the model in the HDF5 format that cannot save custom objects like subclassed models and custom layers. This behavior will be deprecated in a future release in favor of the SavedModel format. Meanwhile, the HDF5 model is saved as W&B files and the SavedModel as W&B Artifacts.\n",
            "\u001b[34m\u001b[1mwandb\u001b[0m: \u001b[33mWARNING\u001b[0m Unable to compute FLOPs for this model.\n"
          ]
        },
        {
          "output_type": "stream",
          "name": "stdout",
          "text": [
            "Epoch 1/200\n",
            "1/6 [====>.........................] - ETA: 22s - loss: 0.6684 - accuracy: 0.5156"
          ]
        },
        {
          "output_type": "stream",
          "name": "stderr",
          "text": [
            "\u001b[34m\u001b[1mwandb\u001b[0m: Adding directory to artifact (/content/wandb/run-20220917_093721-neauh7i7/files/model-best)... Done. 0.1s\n"
          ]
        },
        {
          "output_type": "stream",
          "name": "stdout",
          "text": [
            "\b\b\b\b\b\b\b\b\b\b\b\b\b\b\b\b\b\b\b\b\b\b\b\b\b\b\b\b\b\b\b\b\b\b\b\b\b\b\b\b\b\b\b\b\b\b\b\b\b\b\b\b\b\b\b\b\b\b\b\b\b\b\b\b\b\b\b\b\b\b\b\b\b\b\b\b\b\b\b\b\b\r6/6 [==============================] - 6s 226ms/step - loss: 0.6515 - accuracy: 0.5385 - val_loss: 0.6144 - val_accuracy: 0.5978\n",
            "Epoch 2/200\n",
            "1/6 [====>.........................] - ETA: 0s - loss: 0.6240 - accuracy: 0.6016"
          ]
        },
        {
          "output_type": "stream",
          "name": "stderr",
          "text": [
            "\u001b[34m\u001b[1mwandb\u001b[0m: Adding directory to artifact (/content/wandb/run-20220917_093721-neauh7i7/files/model-best)... Done. 0.1s\n"
          ]
        },
        {
          "output_type": "stream",
          "name": "stdout",
          "text": [
            "\b\b\b\b\b\b\b\b\b\b\b\b\b\b\b\b\b\b\b\b\b\b\b\b\b\b\b\b\b\b\b\b\b\b\b\b\b\b\b\b\b\b\b\b\b\b\b\b\b\b\b\b\b\b\b\b\b\b\b\b\b\b\b\b\b\b\b\b\b\b\b\b\b\b\b\b\b\b\b\b\r6/6 [==============================] - 1s 178ms/step - loss: 0.6049 - accuracy: 0.6294 - val_loss: 0.5721 - val_accuracy: 0.7095\n",
            "Epoch 3/200\n",
            "1/6 [====>.........................] - ETA: 0s - loss: 0.6119 - accuracy: 0.5781"
          ]
        },
        {
          "output_type": "stream",
          "name": "stderr",
          "text": [
            "\u001b[34m\u001b[1mwandb\u001b[0m: Adding directory to artifact (/content/wandb/run-20220917_093721-neauh7i7/files/model-best)... Done. 0.1s\n"
          ]
        },
        {
          "output_type": "stream",
          "name": "stdout",
          "text": [
            "\b\b\b\b\b\b\b\b\b\b\b\b\b\b\b\b\b\b\b\b\b\b\b\b\b\b\b\b\b\b\b\b\b\b\b\b\b\b\b\b\b\b\b\b\b\b\b\b\b\b\b\b\b\b\b\b\b\b\b\b\b\b\b\b\b\b\b\b\b\b\b\b\b\b\b\b\b\b\b\b\r6/6 [==============================] - 1s 176ms/step - loss: 0.5720 - accuracy: 0.6587 - val_loss: 0.5315 - val_accuracy: 0.7877\n",
            "Epoch 4/200\n",
            "1/6 [====>.........................] - ETA: 0s - loss: 0.5471 - accuracy: 0.7500"
          ]
        },
        {
          "output_type": "stream",
          "name": "stderr",
          "text": [
            "\u001b[34m\u001b[1mwandb\u001b[0m: Adding directory to artifact (/content/wandb/run-20220917_093721-neauh7i7/files/model-best)... Done. 0.1s\n"
          ]
        },
        {
          "output_type": "stream",
          "name": "stdout",
          "text": [
            "\b\b\b\b\b\b\b\b\b\b\b\b\b\b\b\b\b\b\b\b\b\b\b\b\b\b\b\b\b\b\b\b\b\b\b\b\b\b\b\b\b\b\b\b\b\b\b\b\b\b\b\b\b\b\b\b\b\b\b\b\b\b\b\b\b\b\b\b\b\b\b\b\b\b\b\b\b\b\b\b\r6/6 [==============================] - 1s 172ms/step - loss: 0.5250 - accuracy: 0.7594 - val_loss: 0.4887 - val_accuracy: 0.7989\n",
            "Epoch 5/200\n",
            "1/6 [====>.........................] - ETA: 0s - loss: 0.5156 - accuracy: 0.7656"
          ]
        },
        {
          "output_type": "stream",
          "name": "stderr",
          "text": [
            "\u001b[34m\u001b[1mwandb\u001b[0m: Adding directory to artifact (/content/wandb/run-20220917_093721-neauh7i7/files/model-best)... Done. 0.1s\n"
          ]
        },
        {
          "output_type": "stream",
          "name": "stdout",
          "text": [
            "\b\b\b\b\b\b\b\b\b\b\b\b\b\b\b\b\b\b\b\b\b\b\b\b\b\b\b\b\b\b\b\b\b\b\b\b\b\b\b\b\b\b\b\b\b\b\b\b\b\b\b\b\b\b\b\b\b\b\b\b\b\b\b\b\b\b\b\b\b\b\b\b\b\b\b\b\b\b\b\b\r6/6 [==============================] - 1s 234ms/step - loss: 0.4898 - accuracy: 0.7762 - val_loss: 0.4473 - val_accuracy: 0.8324\n",
            "Epoch 6/200\n",
            "1/6 [====>.........................] - ETA: 0s - loss: 0.4663 - accuracy: 0.7969"
          ]
        },
        {
          "output_type": "stream",
          "name": "stderr",
          "text": [
            "\u001b[34m\u001b[1mwandb\u001b[0m: Adding directory to artifact (/content/wandb/run-20220917_093721-neauh7i7/files/model-best)... Done. 0.1s\n"
          ]
        },
        {
          "output_type": "stream",
          "name": "stdout",
          "text": [
            "\b\b\b\b\b\b\b\b\b\b\b\b\b\b\b\b\b\b\b\b\b\b\b\b\b\b\b\b\b\b\b\b\b\b\b\b\b\b\b\b\b\b\b\b\b\b\b\b\b\b\b\b\b\b\b\b\b\b\b\b\b\b\b\b\b\b\b\b\b\b\b\b\b\b\b\b\b\b\b\b\r6/6 [==============================] - 1s 167ms/step - loss: 0.4443 - accuracy: 0.8084 - val_loss: 0.4071 - val_accuracy: 0.8603\n",
            "Epoch 7/200\n",
            "1/6 [====>.........................] - ETA: 0s - loss: 0.4307 - accuracy: 0.8203"
          ]
        },
        {
          "output_type": "stream",
          "name": "stderr",
          "text": [
            "\u001b[34m\u001b[1mwandb\u001b[0m: Adding directory to artifact (/content/wandb/run-20220917_093721-neauh7i7/files/model-best)... Done. 0.1s\n"
          ]
        },
        {
          "output_type": "stream",
          "name": "stdout",
          "text": [
            "\b\b\b\b\b\b\b\b\b\b\b\b\b\b\b\b\b\b\b\b\b\b\b\b\b\b\b\b\b\b\b\b\b\b\b\b\b\b\b\b\b\b\b\b\b\b\b\b\b\b\b\b\b\b\b\b\b\b\b\b\b\b\b\b\b\b\b\b\b\b\b\b\b\b\b\b\b\b\b\b\r6/6 [==============================] - 1s 215ms/step - loss: 0.4025 - accuracy: 0.8490 - val_loss: 0.3711 - val_accuracy: 0.8715\n",
            "Epoch 8/200\n",
            "1/6 [====>.........................] - ETA: 0s - loss: 0.3841 - accuracy: 0.8359"
          ]
        },
        {
          "output_type": "stream",
          "name": "stderr",
          "text": [
            "\u001b[34m\u001b[1mwandb\u001b[0m: Adding directory to artifact (/content/wandb/run-20220917_093721-neauh7i7/files/model-best)... Done. 0.1s\n"
          ]
        },
        {
          "output_type": "stream",
          "name": "stdout",
          "text": [
            "\b\b\b\b\b\b\b\b\b\b\b\b\b\b\b\b\b\b\b\b\b\b\b\b\b\b\b\b\b\b\b\b\b\b\b\b\b\b\b\b\b\b\b\b\b\b\b\b\b\b\b\b\b\b\b\b\b\b\b\b\b\b\b\b\b\b\b\b\b\b\b\b\b\b\b\b\b\b\b\b\r6/6 [==============================] - 1s 172ms/step - loss: 0.3761 - accuracy: 0.8545 - val_loss: 0.3399 - val_accuracy: 0.8771\n",
            "Epoch 9/200\n",
            "1/6 [====>.........................] - ETA: 0s - loss: 0.3609 - accuracy: 0.8828"
          ]
        },
        {
          "output_type": "stream",
          "name": "stderr",
          "text": [
            "\u001b[34m\u001b[1mwandb\u001b[0m: Adding directory to artifact (/content/wandb/run-20220917_093721-neauh7i7/files/model-best)... Done. 0.1s\n"
          ]
        },
        {
          "output_type": "stream",
          "name": "stdout",
          "text": [
            "\b\b\b\b\b\b\b\b\b\b\b\b\b\b\b\b\b\b\b\b\b\b\b\b\b\b\b\b\b\b\b\b\b\b\b\b\b\b\b\b\b\b\b\b\b\b\b\b\b\b\b\b\b\b\b\b\b\b\b\b\b\b\b\b\b\b\b\b\b\b\b\b\b\b\b\b\b\b\b\b\r6/6 [==============================] - 1s 166ms/step - loss: 0.3481 - accuracy: 0.8797 - val_loss: 0.3127 - val_accuracy: 0.8827\n",
            "Epoch 10/200\n",
            "1/6 [====>.........................] - ETA: 0s - loss: 0.2976 - accuracy: 0.9375"
          ]
        },
        {
          "output_type": "stream",
          "name": "stderr",
          "text": [
            "\u001b[34m\u001b[1mwandb\u001b[0m: Adding directory to artifact (/content/wandb/run-20220917_093721-neauh7i7/files/model-best)... Done. 0.1s\n"
          ]
        },
        {
          "output_type": "stream",
          "name": "stdout",
          "text": [
            "\b\b\b\b\b\b\b\b\b\b\b\b\b\b\b\b\b\b\b\b\b\b\b\b\b\b\b\b\b\b\b\b\b\b\b\b\b\b\b\b\b\b\b\b\b\b\b\b\b\b\b\b\b\b\b\b\b\b\b\b\b\b\b\b\b\b\b\b\b\b\b\b\b\b\b\b\b\b\b\b\r6/6 [==============================] - 1s 167ms/step - loss: 0.3167 - accuracy: 0.8853 - val_loss: 0.2880 - val_accuracy: 0.8994\n",
            "Epoch 11/200\n",
            "1/6 [====>.........................] - ETA: 0s - loss: 0.3422 - accuracy: 0.8438"
          ]
        },
        {
          "output_type": "stream",
          "name": "stderr",
          "text": [
            "\u001b[34m\u001b[1mwandb\u001b[0m: Adding directory to artifact (/content/wandb/run-20220917_093721-neauh7i7/files/model-best)... Done. 0.1s\n"
          ]
        },
        {
          "output_type": "stream",
          "name": "stdout",
          "text": [
            "\b\b\b\b\b\b\b\b\b\b\b\b\b\b\b\b\b\b\b\b\b\b\b\b\b\b\b\b\b\b\b\b\b\b\b\b\b\b\b\b\b\b\b\b\b\b\b\b\b\b\b\b\b\b\b\b\b\b\b\b\b\b\b\b\b\b\b\b\b\b\b\b\b\b\b\b\b\b\b\b\r6/6 [==============================] - 1s 168ms/step - loss: 0.2979 - accuracy: 0.8909 - val_loss: 0.2682 - val_accuracy: 0.9050\n",
            "Epoch 12/200\n",
            "1/6 [====>.........................] - ETA: 0s - loss: 0.2516 - accuracy: 0.9453"
          ]
        },
        {
          "output_type": "stream",
          "name": "stderr",
          "text": [
            "\u001b[34m\u001b[1mwandb\u001b[0m: Adding directory to artifact (/content/wandb/run-20220917_093721-neauh7i7/files/model-best)... Done. 0.1s\n"
          ]
        },
        {
          "output_type": "stream",
          "name": "stdout",
          "text": [
            "\b\b\b\b\b\b\b\b\b\b\b\b\b\b\b\b\b\b\b\b\b\b\b\b\b\b\b\b\b\b\b\b\b\b\b\b\b\b\b\b\b\b\b\b\b\b\b\b\b\b\b\b\b\b\b\b\b\b\b\b\b\b\b\b\b\b\b\b\b\b\b\b\b\b\b\b\b\b\b\b\r6/6 [==============================] - 1s 167ms/step - loss: 0.2772 - accuracy: 0.9133 - val_loss: 0.2511 - val_accuracy: 0.9106\n",
            "Epoch 13/200\n",
            "1/6 [====>.........................] - ETA: 0s - loss: 0.2530 - accuracy: 0.9062"
          ]
        },
        {
          "output_type": "stream",
          "name": "stderr",
          "text": [
            "\u001b[34m\u001b[1mwandb\u001b[0m: Adding directory to artifact (/content/wandb/run-20220917_093721-neauh7i7/files/model-best)... Done. 0.1s\n"
          ]
        },
        {
          "output_type": "stream",
          "name": "stdout",
          "text": [
            "\b\b\b\b\b\b\b\b\b\b\b\b\b\b\b\b\b\b\b\b\b\b\b\b\b\b\b\b\b\b\b\b\b\b\b\b\b\b\b\b\b\b\b\b\b\b\b\b\b\b\b\b\b\b\b\b\b\b\b\b\b\b\b\b\b\b\b\b\b\b\b\b\b\b\b\b\b\b\b\b\r6/6 [==============================] - 1s 176ms/step - loss: 0.2605 - accuracy: 0.9049 - val_loss: 0.2364 - val_accuracy: 0.9106\n",
            "Epoch 14/200\n",
            "1/6 [====>.........................] - ETA: 0s - loss: 0.2749 - accuracy: 0.9141"
          ]
        },
        {
          "output_type": "stream",
          "name": "stderr",
          "text": [
            "\u001b[34m\u001b[1mwandb\u001b[0m: Adding directory to artifact (/content/wandb/run-20220917_093721-neauh7i7/files/model-best)... Done. 0.1s\n"
          ]
        },
        {
          "output_type": "stream",
          "name": "stdout",
          "text": [
            "\b\b\b\b\b\b\b\b\b\b\b\b\b\b\b\b\b\b\b\b\b\b\b\b\b\b\b\b\b\b\b\b\b\b\b\b\b\b\b\b\b\b\b\b\b\b\b\b\b\b\b\b\b\b\b\b\b\b\b\b\b\b\b\b\b\b\b\b\b\b\b\b\b\b\b\b\b\b\b\b\r6/6 [==============================] - 1s 175ms/step - loss: 0.2528 - accuracy: 0.9105 - val_loss: 0.2242 - val_accuracy: 0.9162\n",
            "Epoch 15/200\n",
            "1/6 [====>.........................] - ETA: 0s - loss: 0.2806 - accuracy: 0.8750"
          ]
        },
        {
          "output_type": "stream",
          "name": "stderr",
          "text": [
            "\u001b[34m\u001b[1mwandb\u001b[0m: Adding directory to artifact (/content/wandb/run-20220917_093721-neauh7i7/files/model-best)... Done. 0.1s\n"
          ]
        },
        {
          "output_type": "stream",
          "name": "stdout",
          "text": [
            "\b\b\b\b\b\b\b\b\b\b\b\b\b\b\b\b\b\b\b\b\b\b\b\b\b\b\b\b\b\b\b\b\b\b\b\b\b\b\b\b\b\b\b\b\b\b\b\b\b\b\b\b\b\b\b\b\b\b\b\b\b\b\b\b\b\b\b\b\b\b\b\b\b\b\b\b\b\b\b\b\r6/6 [==============================] - 1s 167ms/step - loss: 0.2414 - accuracy: 0.9161 - val_loss: 0.2137 - val_accuracy: 0.9218\n",
            "Epoch 16/200\n",
            "1/6 [====>.........................] - ETA: 0s - loss: 0.2085 - accuracy: 0.9453"
          ]
        },
        {
          "output_type": "stream",
          "name": "stderr",
          "text": [
            "\u001b[34m\u001b[1mwandb\u001b[0m: Adding directory to artifact (/content/wandb/run-20220917_093721-neauh7i7/files/model-best)... Done. 0.1s\n"
          ]
        },
        {
          "output_type": "stream",
          "name": "stdout",
          "text": [
            "\b\b\b\b\b\b\b\b\b\b\b\b\b\b\b\b\b\b\b\b\b\b\b\b\b\b\b\b\b\b\b\b\b\b\b\b\b\b\b\b\b\b\b\b\b\b\b\b\b\b\b\b\b\b\b\b\b\b\b\b\b\b\b\b\b\b\b\b\b\b\b\b\b\b\b\b\b\b\b\b\r6/6 [==============================] - 1s 174ms/step - loss: 0.2272 - accuracy: 0.9133 - val_loss: 0.2065 - val_accuracy: 0.9162\n",
            "Epoch 17/200\n",
            "1/6 [====>.........................] - ETA: 0s - loss: 0.1611 - accuracy: 0.9531"
          ]
        },
        {
          "output_type": "stream",
          "name": "stderr",
          "text": [
            "\u001b[34m\u001b[1mwandb\u001b[0m: Adding directory to artifact (/content/wandb/run-20220917_093721-neauh7i7/files/model-best)... Done. 0.1s\n"
          ]
        },
        {
          "output_type": "stream",
          "name": "stdout",
          "text": [
            "\b\b\b\b\b\b\b\b\b\b\b\b\b\b\b\b\b\b\b\b\b\b\b\b\b\b\b\b\b\b\b\b\b\b\b\b\b\b\b\b\b\b\b\b\b\b\b\b\b\b\b\b\b\b\b\b\b\b\b\b\b\b\b\b\b\b\b\b\b\b\b\b\b\b\b\b\b\b\b\b\r6/6 [==============================] - 1s 161ms/step - loss: 0.2256 - accuracy: 0.9035 - val_loss: 0.1994 - val_accuracy: 0.9162\n",
            "Epoch 18/200\n",
            "1/6 [====>.........................] - ETA: 0s - loss: 0.2181 - accuracy: 0.8906"
          ]
        },
        {
          "output_type": "stream",
          "name": "stderr",
          "text": [
            "\u001b[34m\u001b[1mwandb\u001b[0m: Adding directory to artifact (/content/wandb/run-20220917_093721-neauh7i7/files/model-best)... Done. 0.1s\n"
          ]
        },
        {
          "output_type": "stream",
          "name": "stdout",
          "text": [
            "\b\b\b\b\b\b\b\b\b\b\b\b\b\b\b\b\b\b\b\b\b\b\b\b\b\b\b\b\b\b\b\b\b\b\b\b\b\b\b\b\b\b\b\b\b\b\b\b\b\b\b\b\b\b\b\b\b\b\b\b\b\b\b\b\b\b\b\b\b\b\b\b\b\b\b\b\b\b\b\b\r6/6 [==============================] - 1s 233ms/step - loss: 0.2077 - accuracy: 0.9133 - val_loss: 0.1925 - val_accuracy: 0.9274\n",
            "Epoch 19/200\n",
            "1/6 [====>.........................] - ETA: 0s - loss: 0.1950 - accuracy: 0.9062"
          ]
        },
        {
          "output_type": "stream",
          "name": "stderr",
          "text": [
            "\u001b[34m\u001b[1mwandb\u001b[0m: Adding directory to artifact (/content/wandb/run-20220917_093721-neauh7i7/files/model-best)... Done. 0.1s\n"
          ]
        },
        {
          "output_type": "stream",
          "name": "stdout",
          "text": [
            "\b\b\b\b\b\b\b\b\b\b\b\b\b\b\b\b\b\b\b\b\b\b\b\b\b\b\b\b\b\b\b\b\b\b\b\b\b\b\b\b\b\b\b\b\b\b\b\b\b\b\b\b\b\b\b\b\b\b\b\b\b\b\b\b\b\b\b\b\b\b\b\b\b\b\b\b\b\b\b\b\r6/6 [==============================] - 1s 164ms/step - loss: 0.2042 - accuracy: 0.9175 - val_loss: 0.1867 - val_accuracy: 0.9274\n",
            "Epoch 20/200\n",
            "1/6 [====>.........................] - ETA: 0s - loss: 0.2199 - accuracy: 0.9062"
          ]
        },
        {
          "output_type": "stream",
          "name": "stderr",
          "text": [
            "\u001b[34m\u001b[1mwandb\u001b[0m: Adding directory to artifact (/content/wandb/run-20220917_093721-neauh7i7/files/model-best)... Done. 0.1s\n"
          ]
        },
        {
          "output_type": "stream",
          "name": "stdout",
          "text": [
            "\b\b\b\b\b\b\b\b\b\b\b\b\b\b\b\b\b\b\b\b\b\b\b\b\b\b\b\b\b\b\b\b\b\b\b\b\b\b\b\b\b\b\b\b\b\b\b\b\b\b\b\b\b\b\b\b\b\b\b\b\b\b\b\b\b\b\b\b\b\b\b\b\b\b\b\b\b\b\b\b\r6/6 [==============================] - 1s 174ms/step - loss: 0.1942 - accuracy: 0.9273 - val_loss: 0.1811 - val_accuracy: 0.9274\n",
            "Epoch 21/200\n",
            "1/6 [====>.........................] - ETA: 0s - loss: 0.1969 - accuracy: 0.8984"
          ]
        },
        {
          "output_type": "stream",
          "name": "stderr",
          "text": [
            "\u001b[34m\u001b[1mwandb\u001b[0m: Adding directory to artifact (/content/wandb/run-20220917_093721-neauh7i7/files/model-best)... Done. 0.1s\n"
          ]
        },
        {
          "output_type": "stream",
          "name": "stdout",
          "text": [
            "\b\b\b\b\b\b\b\b\b\b\b\b\b\b\b\b\b\b\b\b\b\b\b\b\b\b\b\b\b\b\b\b\b\b\b\b\b\b\b\b\b\b\b\b\b\b\b\b\b\b\b\b\b\b\b\b\b\b\b\b\b\b\b\b\b\b\b\b\b\b\b\b\b\b\b\b\b\b\b\b\r6/6 [==============================] - 1s 168ms/step - loss: 0.2029 - accuracy: 0.9161 - val_loss: 0.1766 - val_accuracy: 0.9218\n",
            "Epoch 22/200\n",
            "1/6 [====>.........................] - ETA: 0s - loss: 0.1831 - accuracy: 0.9219"
          ]
        },
        {
          "output_type": "stream",
          "name": "stderr",
          "text": [
            "\u001b[34m\u001b[1mwandb\u001b[0m: Adding directory to artifact (/content/wandb/run-20220917_093721-neauh7i7/files/model-best)... Done. 0.1s\n"
          ]
        },
        {
          "output_type": "stream",
          "name": "stdout",
          "text": [
            "\b\b\b\b\b\b\b\b\b\b\b\b\b\b\b\b\b\b\b\b\b\b\b\b\b\b\b\b\b\b\b\b\b\b\b\b\b\b\b\b\b\b\b\b\b\b\b\b\b\b\b\b\b\b\b\b\b\b\b\b\b\b\b\b\b\b\b\b\b\b\b\b\b\b\b\b\b\b\b\b\r6/6 [==============================] - 1s 170ms/step - loss: 0.1827 - accuracy: 0.9315 - val_loss: 0.1724 - val_accuracy: 0.9274\n",
            "Epoch 23/200\n",
            "1/6 [====>.........................] - ETA: 0s - loss: 0.1940 - accuracy: 0.9219"
          ]
        },
        {
          "output_type": "stream",
          "name": "stderr",
          "text": [
            "\u001b[34m\u001b[1mwandb\u001b[0m: Adding directory to artifact (/content/wandb/run-20220917_093721-neauh7i7/files/model-best)... Done. 0.1s\n"
          ]
        },
        {
          "output_type": "stream",
          "name": "stdout",
          "text": [
            "\b\b\b\b\b\b\b\b\b\b\b\b\b\b\b\b\b\b\b\b\b\b\b\b\b\b\b\b\b\b\b\b\b\b\b\b\b\b\b\b\b\b\b\b\b\b\b\b\b\b\b\b\b\b\b\b\b\b\b\b\b\b\b\b\b\b\b\b\b\b\b\b\b\b\b\b\b\b\b\b\r6/6 [==============================] - 1s 168ms/step - loss: 0.1827 - accuracy: 0.9301 - val_loss: 0.1693 - val_accuracy: 0.9162\n",
            "Epoch 24/200\n",
            "1/6 [====>.........................] - ETA: 0s - loss: 0.1624 - accuracy: 0.9375"
          ]
        },
        {
          "output_type": "stream",
          "name": "stderr",
          "text": [
            "\u001b[34m\u001b[1mwandb\u001b[0m: Adding directory to artifact (/content/wandb/run-20220917_093721-neauh7i7/files/model-best)... Done. 0.1s\n"
          ]
        },
        {
          "output_type": "stream",
          "name": "stdout",
          "text": [
            "\b\b\b\b\b\b\b\b\b\b\b\b\b\b\b\b\b\b\b\b\b\b\b\b\b\b\b\b\b\b\b\b\b\b\b\b\b\b\b\b\b\b\b\b\b\b\b\b\b\b\b\b\b\b\b\b\b\b\b\b\b\b\b\b\b\b\b\b\b\b\b\b\b\b\b\b\b\b\b\b\r6/6 [==============================] - 1s 173ms/step - loss: 0.1750 - accuracy: 0.9287 - val_loss: 0.1674 - val_accuracy: 0.9162\n",
            "Epoch 25/200\n",
            "1/6 [====>.........................] - ETA: 0s - loss: 0.1428 - accuracy: 0.9453"
          ]
        },
        {
          "output_type": "stream",
          "name": "stderr",
          "text": [
            "\u001b[34m\u001b[1mwandb\u001b[0m: Adding directory to artifact (/content/wandb/run-20220917_093721-neauh7i7/files/model-best)... Done. 0.1s\n"
          ]
        },
        {
          "output_type": "stream",
          "name": "stdout",
          "text": [
            "\b\b\b\b\b\b\b\b\b\b\b\b\b\b\b\b\b\b\b\b\b\b\b\b\b\b\b\b\b\b\b\b\b\b\b\b\b\b\b\b\b\b\b\b\b\b\b\b\b\b\b\b\b\b\b\b\b\b\b\b\b\b\b\b\b\b\b\b\b\b\b\b\b\b\b\b\b\b\b\b\r6/6 [==============================] - 1s 168ms/step - loss: 0.1779 - accuracy: 0.9273 - val_loss: 0.1627 - val_accuracy: 0.9218\n",
            "Epoch 26/200\n",
            "1/6 [====>.........................] - ETA: 0s - loss: 0.2114 - accuracy: 0.9297"
          ]
        },
        {
          "output_type": "stream",
          "name": "stderr",
          "text": [
            "\u001b[34m\u001b[1mwandb\u001b[0m: Adding directory to artifact (/content/wandb/run-20220917_093721-neauh7i7/files/model-best)... Done. 0.1s\n"
          ]
        },
        {
          "output_type": "stream",
          "name": "stdout",
          "text": [
            "\b\b\b\b\b\b\b\b\b\b\b\b\b\b\b\b\b\b\b\b\b\b\b\b\b\b\b\b\b\b\b\b\b\b\b\b\b\b\b\b\b\b\b\b\b\b\b\b\b\b\b\b\b\b\b\b\b\b\b\b\b\b\b\b\b\b\b\b\b\b\b\b\b\b\b\b\b\b\b\b\r6/6 [==============================] - 1s 172ms/step - loss: 0.1714 - accuracy: 0.9357 - val_loss: 0.1602 - val_accuracy: 0.9218\n",
            "Epoch 27/200\n",
            "1/6 [====>.........................] - ETA: 0s - loss: 0.1511 - accuracy: 0.9531"
          ]
        },
        {
          "output_type": "stream",
          "name": "stderr",
          "text": [
            "\u001b[34m\u001b[1mwandb\u001b[0m: Adding directory to artifact (/content/wandb/run-20220917_093721-neauh7i7/files/model-best)... Done. 0.1s\n"
          ]
        },
        {
          "output_type": "stream",
          "name": "stdout",
          "text": [
            "\b\b\b\b\b\b\b\b\b\b\b\b\b\b\b\b\b\b\b\b\b\b\b\b\b\b\b\b\b\b\b\b\b\b\b\b\b\b\b\b\b\b\b\b\b\b\b\b\b\b\b\b\b\b\b\b\b\b\b\b\b\b\b\b\b\b\b\b\b\b\b\b\b\b\b\b\b\b\b\b\r6/6 [==============================] - 1s 171ms/step - loss: 0.1584 - accuracy: 0.9399 - val_loss: 0.1583 - val_accuracy: 0.9274\n",
            "Epoch 28/200\n",
            "1/6 [====>.........................] - ETA: 0s - loss: 0.1705 - accuracy: 0.9219"
          ]
        },
        {
          "output_type": "stream",
          "name": "stderr",
          "text": [
            "\u001b[34m\u001b[1mwandb\u001b[0m: Adding directory to artifact (/content/wandb/run-20220917_093721-neauh7i7/files/model-best)... Done. 0.1s\n"
          ]
        },
        {
          "output_type": "stream",
          "name": "stdout",
          "text": [
            "\b\b\b\b\b\b\b\b\b\b\b\b\b\b\b\b\b\b\b\b\b\b\b\b\b\b\b\b\b\b\b\b\b\b\b\b\b\b\b\b\b\b\b\b\b\b\b\b\b\b\b\b\b\b\b\b\b\b\b\b\b\b\b\b\b\b\b\b\b\b\b\b\b\b\b\b\b\b\b\b\r6/6 [==============================] - 1s 176ms/step - loss: 0.1749 - accuracy: 0.9315 - val_loss: 0.1552 - val_accuracy: 0.9330\n",
            "Epoch 29/200\n",
            "1/6 [====>.........................] - ETA: 0s - loss: 0.1133 - accuracy: 0.9766"
          ]
        },
        {
          "output_type": "stream",
          "name": "stderr",
          "text": [
            "\u001b[34m\u001b[1mwandb\u001b[0m: Adding directory to artifact (/content/wandb/run-20220917_093721-neauh7i7/files/model-best)... Done. 0.1s\n"
          ]
        },
        {
          "output_type": "stream",
          "name": "stdout",
          "text": [
            "\b\b\b\b\b\b\b\b\b\b\b\b\b\b\b\b\b\b\b\b\b\b\b\b\b\b\b\b\b\b\b\b\b\b\b\b\b\b\b\b\b\b\b\b\b\b\b\b\b\b\b\b\b\b\b\b\b\b\b\b\b\b\b\b\b\b\b\b\b\b\b\b\b\b\b\b\b\b\b\b\r6/6 [==============================] - 1s 244ms/step - loss: 0.1581 - accuracy: 0.9413 - val_loss: 0.1528 - val_accuracy: 0.9330\n",
            "Epoch 30/200\n",
            "6/6 [==============================] - 0s 10ms/step - loss: 0.1535 - accuracy: 0.9385 - val_loss: 0.1550 - val_accuracy: 0.9162\n",
            "Epoch 31/200\n",
            "6/6 [==============================] - 0s 8ms/step - loss: 0.1544 - accuracy: 0.9357 - val_loss: 0.1532 - val_accuracy: 0.9162\n",
            "Epoch 32/200\n",
            "1/6 [====>.........................] - ETA: 0s - loss: 0.1724 - accuracy: 0.9375"
          ]
        },
        {
          "output_type": "stream",
          "name": "stderr",
          "text": [
            "\u001b[34m\u001b[1mwandb\u001b[0m: Adding directory to artifact (/content/wandb/run-20220917_093721-neauh7i7/files/model-best)... Done. 0.1s\n"
          ]
        },
        {
          "output_type": "stream",
          "name": "stdout",
          "text": [
            "\b\b\b\b\b\b\b\b\b\b\b\b\b\b\b\b\b\b\b\b\b\b\b\b\b\b\b\b\b\b\b\b\b\b\b\b\b\b\b\b\b\b\b\b\b\b\b\b\b\b\b\b\b\b\b\b\b\b\b\b\b\b\b\b\b\b\b\b\b\b\b\b\b\b\b\b\b\b\b\b\r6/6 [==============================] - 1s 167ms/step - loss: 0.1551 - accuracy: 0.9399 - val_loss: 0.1488 - val_accuracy: 0.9218\n",
            "Epoch 33/200\n",
            "1/6 [====>.........................] - ETA: 0s - loss: 0.1507 - accuracy: 0.9375"
          ]
        },
        {
          "output_type": "stream",
          "name": "stderr",
          "text": [
            "\u001b[34m\u001b[1mwandb\u001b[0m: Adding directory to artifact (/content/wandb/run-20220917_093721-neauh7i7/files/model-best)... Done. 0.1s\n"
          ]
        },
        {
          "output_type": "stream",
          "name": "stdout",
          "text": [
            "\b\b\b\b\b\b\b\b\b\b\b\b\b\b\b\b\b\b\b\b\b\b\b\b\b\b\b\b\b\b\b\b\b\b\b\b\b\b\b\b\b\b\b\b\b\b\b\b\b\b\b\b\b\b\b\b\b\b\b\b\b\b\b\b\b\b\b\b\b\b\b\b\b\b\b\b\b\b\b\b\r6/6 [==============================] - 1s 169ms/step - loss: 0.1477 - accuracy: 0.9455 - val_loss: 0.1466 - val_accuracy: 0.9274\n",
            "Epoch 34/200\n",
            "6/6 [==============================] - 0s 9ms/step - loss: 0.1396 - accuracy: 0.9469 - val_loss: 0.1467 - val_accuracy: 0.9218\n",
            "Epoch 35/200\n",
            "6/6 [==============================] - 0s 9ms/step - loss: 0.1445 - accuracy: 0.9399 - val_loss: 0.1480 - val_accuracy: 0.9218\n",
            "Epoch 36/200\n",
            "6/6 [==============================] - 0s 9ms/step - loss: 0.1341 - accuracy: 0.9455 - val_loss: 0.1476 - val_accuracy: 0.9218\n",
            "Epoch 37/200\n",
            "1/6 [====>.........................] - ETA: 0s - loss: 0.1305 - accuracy: 0.9531"
          ]
        },
        {
          "output_type": "stream",
          "name": "stderr",
          "text": [
            "\u001b[34m\u001b[1mwandb\u001b[0m: Adding directory to artifact (/content/wandb/run-20220917_093721-neauh7i7/files/model-best)... Done. 0.1s\n"
          ]
        },
        {
          "output_type": "stream",
          "name": "stdout",
          "text": [
            "\b\b\b\b\b\b\b\b\b\b\b\b\b\b\b\b\b\b\b\b\b\b\b\b\b\b\b\b\b\b\b\b\b\b\b\b\b\b\b\b\b\b\b\b\b\b\b\b\b\b\b\b\b\b\b\b\b\b\b\b\b\b\b\b\b\b\b\b\b\b\b\b\b\b\b\b\b\b\b\b\r6/6 [==============================] - 1s 167ms/step - loss: 0.1361 - accuracy: 0.9469 - val_loss: 0.1459 - val_accuracy: 0.9218\n",
            "Epoch 38/200\n",
            "1/6 [====>.........................] - ETA: 0s - loss: 0.1625 - accuracy: 0.9297"
          ]
        },
        {
          "output_type": "stream",
          "name": "stderr",
          "text": [
            "\u001b[34m\u001b[1mwandb\u001b[0m: Adding directory to artifact (/content/wandb/run-20220917_093721-neauh7i7/files/model-best)... Done. 0.1s\n"
          ]
        },
        {
          "output_type": "stream",
          "name": "stdout",
          "text": [
            "\b\b\b\b\b\b\b\b\b\b\b\b\b\b\b\b\b\b\b\b\b\b\b\b\b\b\b\b\b\b\b\b\b\b\b\b\b\b\b\b\b\b\b\b\b\b\b\b\b\b\b\b\b\b\b\b\b\b\b\b\b\b\b\b\b\b\b\b\b\b\b\b\b\b\b\b\b\b\b\b\r6/6 [==============================] - 1s 170ms/step - loss: 0.1404 - accuracy: 0.9455 - val_loss: 0.1444 - val_accuracy: 0.9218\n",
            "Epoch 39/200\n",
            "1/6 [====>.........................] - ETA: 0s - loss: 0.1187 - accuracy: 0.9531"
          ]
        },
        {
          "output_type": "stream",
          "name": "stderr",
          "text": [
            "\u001b[34m\u001b[1mwandb\u001b[0m: Adding directory to artifact (/content/wandb/run-20220917_093721-neauh7i7/files/model-best)... Done. 0.1s\n"
          ]
        },
        {
          "output_type": "stream",
          "name": "stdout",
          "text": [
            "\b\b\b\b\b\b\b\b\b\b\b\b\b\b\b\b\b\b\b\b\b\b\b\b\b\b\b\b\b\b\b\b\b\b\b\b\b\b\b\b\b\b\b\b\b\b\b\b\b\b\b\b\b\b\b\b\b\b\b\b\b\b\b\b\b\b\b\b\b\b\b\b\b\b\b\b\b\b\b\b\r6/6 [==============================] - 1s 167ms/step - loss: 0.1169 - accuracy: 0.9594 - val_loss: 0.1442 - val_accuracy: 0.9218\n",
            "Epoch 40/200\n",
            "1/6 [====>.........................] - ETA: 0s - loss: 0.1239 - accuracy: 0.9688"
          ]
        },
        {
          "output_type": "stream",
          "name": "stderr",
          "text": [
            "\u001b[34m\u001b[1mwandb\u001b[0m: Adding directory to artifact (/content/wandb/run-20220917_093721-neauh7i7/files/model-best)... Done. 0.1s\n"
          ]
        },
        {
          "output_type": "stream",
          "name": "stdout",
          "text": [
            "\b\b\b\b\b\b\b\b\b\b\b\b\b\b\b\b\b\b\b\b\b\b\b\b\b\b\b\b\b\b\b\b\b\b\b\b\b\b\b\b\b\b\b\b\b\b\b\b\b\b\b\b\b\b\b\b\b\b\b\b\b\b\b\b\b\b\b\b\b\b\b\b\b\b\b\b\b\b\b\b\r6/6 [==============================] - 1s 171ms/step - loss: 0.1215 - accuracy: 0.9566 - val_loss: 0.1439 - val_accuracy: 0.9218\n",
            "Epoch 41/200\n",
            "1/6 [====>.........................] - ETA: 0s - loss: 0.1339 - accuracy: 0.9375"
          ]
        },
        {
          "output_type": "stream",
          "name": "stderr",
          "text": [
            "\u001b[34m\u001b[1mwandb\u001b[0m: Adding directory to artifact (/content/wandb/run-20220917_093721-neauh7i7/files/model-best)... Done. 0.1s\n"
          ]
        },
        {
          "output_type": "stream",
          "name": "stdout",
          "text": [
            "\b\b\b\b\b\b\b\b\b\b\b\b\b\b\b\b\b\b\b\b\b\b\b\b\b\b\b\b\b\b\b\b\b\b\b\b\b\b\b\b\b\b\b\b\b\b\b\b\b\b\b\b\b\b\b\b\b\b\b\b\b\b\b\b\b\b\b\b\b\b\b\b\b\b\b\b\b\b\b\b\r6/6 [==============================] - 2s 467ms/step - loss: 0.1309 - accuracy: 0.9441 - val_loss: 0.1433 - val_accuracy: 0.9218\n",
            "Epoch 42/200\n",
            "1/6 [====>.........................] - ETA: 0s - loss: 0.1389 - accuracy: 0.9453"
          ]
        },
        {
          "output_type": "stream",
          "name": "stderr",
          "text": [
            "\u001b[34m\u001b[1mwandb\u001b[0m: Adding directory to artifact (/content/wandb/run-20220917_093721-neauh7i7/files/model-best)... Done. 0.1s\n"
          ]
        },
        {
          "output_type": "stream",
          "name": "stdout",
          "text": [
            "\b\b\b\b\b\b\b\b\b\b\b\b\b\b\b\b\b\b\b\b\b\b\b\b\b\b\b\b\b\b\b\b\b\b\b\b\b\b\b\b\b\b\b\b\b\b\b\b\b\b\b\b\b\b\b\b\b\b\b\b\b\b\b\b\b\b\b\b\b\b\b\b\b\b\b\b\b\b\b\b\r6/6 [==============================] - 1s 175ms/step - loss: 0.1325 - accuracy: 0.9469 - val_loss: 0.1406 - val_accuracy: 0.9218\n",
            "Epoch 43/200\n",
            "1/6 [====>.........................] - ETA: 0s - loss: 0.1058 - accuracy: 0.9531"
          ]
        },
        {
          "output_type": "stream",
          "name": "stderr",
          "text": [
            "\u001b[34m\u001b[1mwandb\u001b[0m: Adding directory to artifact (/content/wandb/run-20220917_093721-neauh7i7/files/model-best)... Done. 0.1s\n"
          ]
        },
        {
          "output_type": "stream",
          "name": "stdout",
          "text": [
            "\b\b\b\b\b\b\b\b\b\b\b\b\b\b\b\b\b\b\b\b\b\b\b\b\b\b\b\b\b\b\b\b\b\b\b\b\b\b\b\b\b\b\b\b\b\b\b\b\b\b\b\b\b\b\b\b\b\b\b\b\b\b\b\b\b\b\b\b\b\b\b\b\b\b\b\b\b\b\b\b\r6/6 [==============================] - 1s 169ms/step - loss: 0.1184 - accuracy: 0.9427 - val_loss: 0.1395 - val_accuracy: 0.9218\n",
            "Epoch 44/200\n",
            "1/6 [====>.........................] - ETA: 0s - loss: 0.0946 - accuracy: 0.9688"
          ]
        },
        {
          "output_type": "stream",
          "name": "stderr",
          "text": [
            "\u001b[34m\u001b[1mwandb\u001b[0m: Adding directory to artifact (/content/wandb/run-20220917_093721-neauh7i7/files/model-best)... Done. 0.1s\n"
          ]
        },
        {
          "output_type": "stream",
          "name": "stdout",
          "text": [
            "\b\b\b\b\b\b\b\b\b\b\b\b\b\b\b\b\b\b\b\b\b\b\b\b\b\b\b\b\b\b\b\b\b\b\b\b\b\b\b\b\b\b\b\b\b\b\b\b\b\b\b\b\b\b\b\b\b\b\b\b\b\b\b\b\b\b\b\b\b\b\b\b\b\b\b\b\b\b\b\b\r6/6 [==============================] - 1s 164ms/step - loss: 0.1151 - accuracy: 0.9622 - val_loss: 0.1392 - val_accuracy: 0.9218\n",
            "Epoch 45/200\n",
            "1/6 [====>.........................] - ETA: 0s - loss: 0.1350 - accuracy: 0.9609"
          ]
        },
        {
          "output_type": "stream",
          "name": "stderr",
          "text": [
            "\u001b[34m\u001b[1mwandb\u001b[0m: Adding directory to artifact (/content/wandb/run-20220917_093721-neauh7i7/files/model-best)... Done. 0.1s\n"
          ]
        },
        {
          "output_type": "stream",
          "name": "stdout",
          "text": [
            "\b\b\b\b\b\b\b\b\b\b\b\b\b\b\b\b\b\b\b\b\b\b\b\b\b\b\b\b\b\b\b\b\b\b\b\b\b\b\b\b\b\b\b\b\b\b\b\b\b\b\b\b\b\b\b\b\b\b\b\b\b\b\b\b\b\b\b\b\b\b\b\b\b\b\b\b\b\b\b\b\r6/6 [==============================] - 1s 219ms/step - loss: 0.1124 - accuracy: 0.9594 - val_loss: 0.1384 - val_accuracy: 0.9218\n",
            "Epoch 46/200\n",
            "1/6 [====>.........................] - ETA: 0s - loss: 0.1071 - accuracy: 0.9375"
          ]
        },
        {
          "output_type": "stream",
          "name": "stderr",
          "text": [
            "\u001b[34m\u001b[1mwandb\u001b[0m: Adding directory to artifact (/content/wandb/run-20220917_093721-neauh7i7/files/model-best)... Done. 0.1s\n"
          ]
        },
        {
          "output_type": "stream",
          "name": "stdout",
          "text": [
            "\b\b\b\b\b\b\b\b\b\b\b\b\b\b\b\b\b\b\b\b\b\b\b\b\b\b\b\b\b\b\b\b\b\b\b\b\b\b\b\b\b\b\b\b\b\b\b\b\b\b\b\b\b\b\b\b\b\b\b\b\b\b\b\b\b\b\b\b\b\b\b\b\b\b\b\b\b\b\b\b\r6/6 [==============================] - 3s 547ms/step - loss: 0.1101 - accuracy: 0.9538 - val_loss: 0.1370 - val_accuracy: 0.9218\n",
            "Epoch 47/200\n",
            "1/6 [====>.........................] - ETA: 0s - loss: 0.1384 - accuracy: 0.9453"
          ]
        },
        {
          "output_type": "stream",
          "name": "stderr",
          "text": [
            "\u001b[34m\u001b[1mwandb\u001b[0m: Adding directory to artifact (/content/wandb/run-20220917_093721-neauh7i7/files/model-best)... Done. 0.1s\n"
          ]
        },
        {
          "output_type": "stream",
          "name": "stdout",
          "text": [
            "\b\b\b\b\b\b\b\b\b\b\b\b\b\b\b\b\b\b\b\b\b\b\b\b\b\b\b\b\b\b\b\b\b\b\b\b\b\b\b\b\b\b\b\b\b\b\b\b\b\b\b\b\b\b\b\b\b\b\b\b\b\b\b\b\b\b\b\b\b\b\b\b\b\b\b\b\b\b\b\b\r6/6 [==============================] - 1s 171ms/step - loss: 0.1111 - accuracy: 0.9580 - val_loss: 0.1358 - val_accuracy: 0.9218\n",
            "Epoch 48/200\n",
            "1/6 [====>.........................] - ETA: 0s - loss: 0.0751 - accuracy: 0.9609"
          ]
        },
        {
          "output_type": "stream",
          "name": "stderr",
          "text": [
            "\u001b[34m\u001b[1mwandb\u001b[0m: Adding directory to artifact (/content/wandb/run-20220917_093721-neauh7i7/files/model-best)... Done. 0.1s\n"
          ]
        },
        {
          "output_type": "stream",
          "name": "stdout",
          "text": [
            "\b\b\b\b\b\b\b\b\b\b\b\b\b\b\b\b\b\b\b\b\b\b\b\b\b\b\b\b\b\b\b\b\b\b\b\b\b\b\b\b\b\b\b\b\b\b\b\b\b\b\b\b\b\b\b\b\b\b\b\b\b\b\b\b\b\b\b\b\b\b\b\b\b\b\b\b\b\b\b\b\r6/6 [==============================] - 1s 167ms/step - loss: 0.1108 - accuracy: 0.9594 - val_loss: 0.1351 - val_accuracy: 0.9218\n",
            "Epoch 49/200\n",
            "1/6 [====>.........................] - ETA: 0s - loss: 0.0973 - accuracy: 0.9688"
          ]
        },
        {
          "output_type": "stream",
          "name": "stderr",
          "text": [
            "\u001b[34m\u001b[1mwandb\u001b[0m: Adding directory to artifact (/content/wandb/run-20220917_093721-neauh7i7/files/model-best)... Done. 0.1s\n"
          ]
        },
        {
          "output_type": "stream",
          "name": "stdout",
          "text": [
            "\b\b\b\b\b\b\b\b\b\b\b\b\b\b\b\b\b\b\b\b\b\b\b\b\b\b\b\b\b\b\b\b\b\b\b\b\b\b\b\b\b\b\b\b\b\b\b\b\b\b\b\b\b\b\b\b\b\b\b\b\b\b\b\b\b\b\b\b\b\b\b\b\b\b\b\b\b\b\b\b\r6/6 [==============================] - 1s 171ms/step - loss: 0.1125 - accuracy: 0.9580 - val_loss: 0.1349 - val_accuracy: 0.9274\n",
            "Epoch 50/200\n",
            "6/6 [==============================] - 0s 8ms/step - loss: 0.1123 - accuracy: 0.9524 - val_loss: 0.1362 - val_accuracy: 0.9274\n",
            "Epoch 51/200\n",
            "6/6 [==============================] - 0s 8ms/step - loss: 0.1052 - accuracy: 0.9594 - val_loss: 0.1377 - val_accuracy: 0.9274\n",
            "Epoch 52/200\n",
            "6/6 [==============================] - 0s 10ms/step - loss: 0.1288 - accuracy: 0.9371 - val_loss: 0.1374 - val_accuracy: 0.9274\n",
            "Epoch 53/200\n",
            "6/6 [==============================] - 0s 9ms/step - loss: 0.0977 - accuracy: 0.9650 - val_loss: 0.1369 - val_accuracy: 0.9274\n",
            "Epoch 54/200\n",
            "6/6 [==============================] - 0s 8ms/step - loss: 0.1096 - accuracy: 0.9622 - val_loss: 0.1378 - val_accuracy: 0.9274\n",
            "Epoch 55/200\n",
            "6/6 [==============================] - 0s 8ms/step - loss: 0.0983 - accuracy: 0.9692 - val_loss: 0.1364 - val_accuracy: 0.9274\n",
            "Epoch 56/200\n",
            "6/6 [==============================] - 0s 8ms/step - loss: 0.0907 - accuracy: 0.9622 - val_loss: 0.1352 - val_accuracy: 0.9274\n",
            "Epoch 57/200\n",
            "6/6 [==============================] - 0s 8ms/step - loss: 0.0965 - accuracy: 0.9706 - val_loss: 0.1353 - val_accuracy: 0.9218\n",
            "Epoch 58/200\n",
            "1/6 [====>.........................] - ETA: 0s - loss: 0.0876 - accuracy: 0.9531"
          ]
        },
        {
          "output_type": "stream",
          "name": "stderr",
          "text": [
            "\u001b[34m\u001b[1mwandb\u001b[0m: Adding directory to artifact (/content/wandb/run-20220917_093721-neauh7i7/files/model-best)... Done. 0.1s\n"
          ]
        },
        {
          "output_type": "stream",
          "name": "stdout",
          "text": [
            "\b\b\b\b\b\b\b\b\b\b\b\b\b\b\b\b\b\b\b\b\b\b\b\b\b\b\b\b\b\b\b\b\b\b\b\b\b\b\b\b\b\b\b\b\b\b\b\b\b\b\b\b\b\b\b\b\b\b\b\b\b\b\b\b\b\b\b\b\b\b\b\b\b\b\b\b\b\b\b\b\r6/6 [==============================] - 1s 176ms/step - loss: 0.0987 - accuracy: 0.9580 - val_loss: 0.1344 - val_accuracy: 0.9218\n",
            "Epoch 59/200\n",
            "1/6 [====>.........................] - ETA: 0s - loss: 0.1260 - accuracy: 0.9609"
          ]
        },
        {
          "output_type": "stream",
          "name": "stderr",
          "text": [
            "\u001b[34m\u001b[1mwandb\u001b[0m: Adding directory to artifact (/content/wandb/run-20220917_093721-neauh7i7/files/model-best)... Done. 0.1s\n"
          ]
        },
        {
          "output_type": "stream",
          "name": "stdout",
          "text": [
            "\b\b\b\b\b\b\b\b\b\b\b\b\b\b\b\b\b\b\b\b\b\b\b\b\b\b\b\b\b\b\b\b\b\b\b\b\b\b\b\b\b\b\b\b\b\b\b\b\b\b\b\b\b\b\b\b\b\b\b\b\b\b\b\b\b\b\b\b\b\b\b\b\b\b\b\b\b\b\b\b\r6/6 [==============================] - 1s 166ms/step - loss: 0.0966 - accuracy: 0.9622 - val_loss: 0.1341 - val_accuracy: 0.9218\n",
            "Epoch 60/200\n",
            "6/6 [==============================] - 0s 9ms/step - loss: 0.0960 - accuracy: 0.9678 - val_loss: 0.1356 - val_accuracy: 0.9162\n",
            "Epoch 61/200\n",
            "6/6 [==============================] - 0s 8ms/step - loss: 0.0830 - accuracy: 0.9734 - val_loss: 0.1375 - val_accuracy: 0.9162\n",
            "Epoch 62/200\n",
            "6/6 [==============================] - 0s 8ms/step - loss: 0.0911 - accuracy: 0.9706 - val_loss: 0.1370 - val_accuracy: 0.9162\n",
            "Epoch 63/200\n",
            "6/6 [==============================] - 0s 8ms/step - loss: 0.0882 - accuracy: 0.9692 - val_loss: 0.1358 - val_accuracy: 0.9162\n",
            "Epoch 64/200\n",
            "6/6 [==============================] - 0s 12ms/step - loss: 0.0850 - accuracy: 0.9706 - val_loss: 0.1375 - val_accuracy: 0.9162\n",
            "Epoch 65/200\n",
            "6/6 [==============================] - 0s 8ms/step - loss: 0.0894 - accuracy: 0.9692 - val_loss: 0.1356 - val_accuracy: 0.9218\n",
            "Epoch 66/200\n",
            "6/6 [==============================] - 0s 9ms/step - loss: 0.0910 - accuracy: 0.9706 - val_loss: 0.1347 - val_accuracy: 0.9218\n",
            "Epoch 67/200\n",
            "1/6 [====>.........................] - ETA: 0s - loss: 0.1007 - accuracy: 0.9688"
          ]
        },
        {
          "output_type": "stream",
          "name": "stderr",
          "text": [
            "\u001b[34m\u001b[1mwandb\u001b[0m: Adding directory to artifact (/content/wandb/run-20220917_093721-neauh7i7/files/model-best)... Done. 0.1s\n"
          ]
        },
        {
          "output_type": "stream",
          "name": "stdout",
          "text": [
            "\b\b\b\b\b\b\b\b\b\b\b\b\b\b\b\b\b\b\b\b\b\b\b\b\b\b\b\b\b\b\b\b\b\b\b\b\b\b\b\b\b\b\b\b\b\b\b\b\b\b\b\b\b\b\b\b\b\b\b\b\b\b\b\b\b\b\b\b\b\b\b\b\b\b\b\b\b\b\b\b\r6/6 [==============================] - 1s 173ms/step - loss: 0.0777 - accuracy: 0.9762 - val_loss: 0.1325 - val_accuracy: 0.9218\n",
            "Epoch 68/200\n",
            "6/6 [==============================] - 0s 14ms/step - loss: 0.0854 - accuracy: 0.9692 - val_loss: 0.1328 - val_accuracy: 0.9218\n",
            "Epoch 69/200\n",
            "6/6 [==============================] - 0s 9ms/step - loss: 0.0969 - accuracy: 0.9650 - val_loss: 0.1348 - val_accuracy: 0.9218\n",
            "Epoch 70/200\n",
            "6/6 [==============================] - 0s 8ms/step - loss: 0.0804 - accuracy: 0.9762 - val_loss: 0.1369 - val_accuracy: 0.9274\n",
            "Epoch 71/200\n",
            "6/6 [==============================] - 0s 8ms/step - loss: 0.0859 - accuracy: 0.9804 - val_loss: 0.1374 - val_accuracy: 0.9274\n",
            "Epoch 72/200\n",
            "6/6 [==============================] - 0s 12ms/step - loss: 0.0810 - accuracy: 0.9748 - val_loss: 0.1340 - val_accuracy: 0.9218\n",
            "Epoch 73/200\n",
            "1/6 [====>.........................] - ETA: 0s - loss: 0.1003 - accuracy: 0.9531"
          ]
        },
        {
          "output_type": "stream",
          "name": "stderr",
          "text": [
            "\u001b[34m\u001b[1mwandb\u001b[0m: Adding directory to artifact (/content/wandb/run-20220917_093721-neauh7i7/files/model-best)... Done. 0.1s\n"
          ]
        },
        {
          "output_type": "stream",
          "name": "stdout",
          "text": [
            "\b\b\b\b\b\b\b\b\b\b\b\b\b\b\b\b\b\b\b\b\b\b\b\b\b\b\b\b\b\b\b\b\b\b\b\b\b\b\b\b\b\b\b\b\b\b\b\b\b\b\b\b\b\b\b\b\b\b\b\b\b\b\b\b\b\b\b\b\b\b\b\b\b\b\b\b\b\b\b\b\r6/6 [==============================] - 1s 163ms/step - loss: 0.0823 - accuracy: 0.9748 - val_loss: 0.1324 - val_accuracy: 0.9218\n",
            "Epoch 74/200\n",
            "6/6 [==============================] - 0s 11ms/step - loss: 0.0730 - accuracy: 0.9762 - val_loss: 0.1337 - val_accuracy: 0.9218\n",
            "Epoch 75/200\n",
            "6/6 [==============================] - 0s 8ms/step - loss: 0.0750 - accuracy: 0.9776 - val_loss: 0.1366 - val_accuracy: 0.9218\n",
            "Epoch 76/200\n",
            "6/6 [==============================] - 0s 10ms/step - loss: 0.0877 - accuracy: 0.9594 - val_loss: 0.1355 - val_accuracy: 0.9218\n",
            "Epoch 77/200\n",
            "1/6 [====>.........................] - ETA: 0s - loss: 0.0752 - accuracy: 0.9688"
          ]
        },
        {
          "output_type": "stream",
          "name": "stderr",
          "text": [
            "\u001b[34m\u001b[1mwandb\u001b[0m: Adding directory to artifact (/content/wandb/run-20220917_093721-neauh7i7/files/model-best)... Done. 0.1s\n"
          ]
        },
        {
          "output_type": "stream",
          "name": "stdout",
          "text": [
            "\b\b\b\b\b\b\b\b\b\b\b\b\b\b\b\b\b\b\b\b\b\b\b\b\b\b\b\b\b\b\b\b\b\b\b\b\b\b\b\b\b\b\b\b\b\b\b\b\b\b\b\b\b\b\b\b\b\b\b\b\b\b\b\b\b\b\b\b\b\b\b\b\b\b\b\b\b\b\b\b\r6/6 [==============================] - 1s 167ms/step - loss: 0.0787 - accuracy: 0.9762 - val_loss: 0.1310 - val_accuracy: 0.9218\n",
            "Epoch 78/200\n",
            "6/6 [==============================] - 0s 10ms/step - loss: 0.0743 - accuracy: 0.9888 - val_loss: 0.1314 - val_accuracy: 0.9218\n",
            "Epoch 79/200\n",
            "6/6 [==============================] - 0s 9ms/step - loss: 0.0774 - accuracy: 0.9790 - val_loss: 0.1364 - val_accuracy: 0.9162\n",
            "Epoch 80/200\n",
            "6/6 [==============================] - 0s 11ms/step - loss: 0.0729 - accuracy: 0.9776 - val_loss: 0.1360 - val_accuracy: 0.9162\n",
            "Epoch 81/200\n",
            "6/6 [==============================] - 0s 8ms/step - loss: 0.0686 - accuracy: 0.9804 - val_loss: 0.1348 - val_accuracy: 0.9162\n",
            "Epoch 82/200\n",
            "6/6 [==============================] - 0s 8ms/step - loss: 0.0604 - accuracy: 0.9790 - val_loss: 0.1343 - val_accuracy: 0.9162\n",
            "Epoch 83/200\n",
            "6/6 [==============================] - 0s 8ms/step - loss: 0.0737 - accuracy: 0.9776 - val_loss: 0.1326 - val_accuracy: 0.9218\n",
            "Epoch 84/200\n",
            "6/6 [==============================] - 0s 10ms/step - loss: 0.0685 - accuracy: 0.9776 - val_loss: 0.1323 - val_accuracy: 0.9218\n",
            "Epoch 85/200\n",
            "6/6 [==============================] - 0s 10ms/step - loss: 0.0609 - accuracy: 0.9874 - val_loss: 0.1321 - val_accuracy: 0.9218\n",
            "Epoch 86/200\n",
            "6/6 [==============================] - 0s 8ms/step - loss: 0.0655 - accuracy: 0.9790 - val_loss: 0.1355 - val_accuracy: 0.9106\n",
            "Epoch 87/200\n",
            "6/6 [==============================] - 0s 12ms/step - loss: 0.0600 - accuracy: 0.9832 - val_loss: 0.1362 - val_accuracy: 0.9162\n",
            "Epoch 88/200\n",
            "6/6 [==============================] - 0s 8ms/step - loss: 0.0609 - accuracy: 0.9818 - val_loss: 0.1346 - val_accuracy: 0.9106\n",
            "Epoch 89/200\n",
            "6/6 [==============================] - 0s 9ms/step - loss: 0.0598 - accuracy: 0.9832 - val_loss: 0.1321 - val_accuracy: 0.9330\n",
            "Epoch 90/200\n",
            "6/6 [==============================] - 0s 9ms/step - loss: 0.0693 - accuracy: 0.9790 - val_loss: 0.1326 - val_accuracy: 0.9218\n",
            "Epoch 91/200\n",
            "6/6 [==============================] - 0s 8ms/step - loss: 0.0661 - accuracy: 0.9720 - val_loss: 0.1321 - val_accuracy: 0.9162\n",
            "Epoch 92/200\n",
            "1/6 [====>.........................] - ETA: 0s - loss: 0.0510 - accuracy: 0.9844"
          ]
        },
        {
          "output_type": "stream",
          "name": "stderr",
          "text": [
            "\u001b[34m\u001b[1mwandb\u001b[0m: Adding directory to artifact (/content/wandb/run-20220917_093721-neauh7i7/files/model-best)... Done. 0.1s\n"
          ]
        },
        {
          "output_type": "stream",
          "name": "stdout",
          "text": [
            "\b\b\b\b\b\b\b\b\b\b\b\b\b\b\b\b\b\b\b\b\b\b\b\b\b\b\b\b\b\b\b\b\b\b\b\b\b\b\b\b\b\b\b\b\b\b\b\b\b\b\b\b\b\b\b\b\b\b\b\b\b\b\b\b\b\b\b\b\b\b\b\b\b\b\b\b\b\b\b\b\r6/6 [==============================] - 1s 171ms/step - loss: 0.0589 - accuracy: 0.9846 - val_loss: 0.1305 - val_accuracy: 0.9274\n",
            "Epoch 93/200\n",
            "1/6 [====>.........................] - ETA: 0s - loss: 0.0986 - accuracy: 0.9766"
          ]
        },
        {
          "output_type": "stream",
          "name": "stderr",
          "text": [
            "\u001b[34m\u001b[1mwandb\u001b[0m: Adding directory to artifact (/content/wandb/run-20220917_093721-neauh7i7/files/model-best)... Done. 0.1s\n"
          ]
        },
        {
          "output_type": "stream",
          "name": "stdout",
          "text": [
            "\b\b\b\b\b\b\b\b\b\b\b\b\b\b\b\b\b\b\b\b\b\b\b\b\b\b\b\b\b\b\b\b\b\b\b\b\b\b\b\b\b\b\b\b\b\b\b\b\b\b\b\b\b\b\b\b\b\b\b\b\b\b\b\b\b\b\b\b\b\b\b\b\b\b\b\b\b\b\b\b\r6/6 [==============================] - 1s 169ms/step - loss: 0.0726 - accuracy: 0.9860 - val_loss: 0.1288 - val_accuracy: 0.9274\n",
            "Epoch 94/200\n",
            "1/6 [====>.........................] - ETA: 0s - loss: 0.0820 - accuracy: 0.9609"
          ]
        },
        {
          "output_type": "stream",
          "name": "stderr",
          "text": [
            "\u001b[34m\u001b[1mwandb\u001b[0m: Adding directory to artifact (/content/wandb/run-20220917_093721-neauh7i7/files/model-best)... Done. 0.1s\n"
          ]
        },
        {
          "output_type": "stream",
          "name": "stdout",
          "text": [
            "\b\b\b\b\b\b\b\b\b\b\b\b\b\b\b\b\b\b\b\b\b\b\b\b\b\b\b\b\b\b\b\b\b\b\b\b\b\b\b\b\b\b\b\b\b\b\b\b\b\b\b\b\b\b\b\b\b\b\b\b\b\b\b\b\b\b\b\b\b\b\b\b\b\b\b\b\b\b\b\b\r6/6 [==============================] - 1s 229ms/step - loss: 0.0586 - accuracy: 0.9804 - val_loss: 0.1285 - val_accuracy: 0.9330\n",
            "Epoch 95/200\n",
            "6/6 [==============================] - 0s 8ms/step - loss: 0.0582 - accuracy: 0.9832 - val_loss: 0.1290 - val_accuracy: 0.9274\n",
            "Epoch 96/200\n",
            "1/6 [====>.........................] - ETA: 0s - loss: 0.0695 - accuracy: 0.9688"
          ]
        },
        {
          "output_type": "stream",
          "name": "stderr",
          "text": [
            "\u001b[34m\u001b[1mwandb\u001b[0m: Adding directory to artifact (/content/wandb/run-20220917_093721-neauh7i7/files/model-best)... Done. 0.1s\n"
          ]
        },
        {
          "output_type": "stream",
          "name": "stdout",
          "text": [
            "\b\b\b\b\b\b\b\b\b\b\b\b\b\b\b\b\b\b\b\b\b\b\b\b\b\b\b\b\b\b\b\b\b\b\b\b\b\b\b\b\b\b\b\b\b\b\b\b\b\b\b\b\b\b\b\b\b\b\b\b\b\b\b\b\b\b\b\b\b\b\b\b\b\b\b\b\b\b\b\b\r6/6 [==============================] - 1s 167ms/step - loss: 0.0652 - accuracy: 0.9804 - val_loss: 0.1278 - val_accuracy: 0.9274\n",
            "Epoch 97/200\n",
            "6/6 [==============================] - 0s 10ms/step - loss: 0.0573 - accuracy: 0.9874 - val_loss: 0.1280 - val_accuracy: 0.9330\n",
            "Epoch 98/200\n",
            "6/6 [==============================] - 0s 11ms/step - loss: 0.0655 - accuracy: 0.9818 - val_loss: 0.1289 - val_accuracy: 0.9385\n",
            "Epoch 99/200\n",
            "6/6 [==============================] - 0s 10ms/step - loss: 0.0648 - accuracy: 0.9804 - val_loss: 0.1309 - val_accuracy: 0.9274\n",
            "Epoch 100/200\n",
            "6/6 [==============================] - 0s 9ms/step - loss: 0.0514 - accuracy: 0.9860 - val_loss: 0.1347 - val_accuracy: 0.9162\n",
            "Epoch 101/200\n",
            "6/6 [==============================] - 0s 8ms/step - loss: 0.0656 - accuracy: 0.9804 - val_loss: 0.1359 - val_accuracy: 0.9162\n",
            "Epoch 102/200\n",
            "6/6 [==============================] - 0s 13ms/step - loss: 0.0548 - accuracy: 0.9804 - val_loss: 0.1386 - val_accuracy: 0.9106\n",
            "Epoch 103/200\n",
            "6/6 [==============================] - 0s 8ms/step - loss: 0.0454 - accuracy: 0.9888 - val_loss: 0.1372 - val_accuracy: 0.9218\n",
            "Epoch 104/200\n",
            "6/6 [==============================] - 0s 10ms/step - loss: 0.0469 - accuracy: 0.9860 - val_loss: 0.1376 - val_accuracy: 0.9106\n",
            "Epoch 105/200\n",
            "6/6 [==============================] - 0s 11ms/step - loss: 0.0468 - accuracy: 0.9902 - val_loss: 0.1387 - val_accuracy: 0.9162\n",
            "Epoch 106/200\n",
            "6/6 [==============================] - 0s 10ms/step - loss: 0.0499 - accuracy: 0.9874 - val_loss: 0.1371 - val_accuracy: 0.9162\n",
            "Epoch 107/200\n",
            "6/6 [==============================] - 0s 8ms/step - loss: 0.0546 - accuracy: 0.9846 - val_loss: 0.1376 - val_accuracy: 0.9218\n",
            "Epoch 108/200\n",
            "6/6 [==============================] - 0s 9ms/step - loss: 0.0669 - accuracy: 0.9692 - val_loss: 0.1324 - val_accuracy: 0.9162\n",
            "Epoch 109/200\n",
            "6/6 [==============================] - 0s 8ms/step - loss: 0.0416 - accuracy: 0.9916 - val_loss: 0.1299 - val_accuracy: 0.9274\n",
            "Epoch 110/200\n",
            "6/6 [==============================] - 0s 8ms/step - loss: 0.0502 - accuracy: 0.9888 - val_loss: 0.1313 - val_accuracy: 0.9274\n",
            "Epoch 111/200\n",
            "6/6 [==============================] - 0s 11ms/step - loss: 0.0467 - accuracy: 0.9860 - val_loss: 0.1353 - val_accuracy: 0.9274\n",
            "Epoch 112/200\n",
            "6/6 [==============================] - 0s 8ms/step - loss: 0.0554 - accuracy: 0.9832 - val_loss: 0.1322 - val_accuracy: 0.9274\n",
            "Epoch 113/200\n",
            "6/6 [==============================] - 0s 8ms/step - loss: 0.0470 - accuracy: 0.9916 - val_loss: 0.1342 - val_accuracy: 0.9218\n",
            "Epoch 114/200\n",
            "6/6 [==============================] - 0s 8ms/step - loss: 0.0543 - accuracy: 0.9832 - val_loss: 0.1344 - val_accuracy: 0.9218\n",
            "Epoch 115/200\n",
            "6/6 [==============================] - 0s 8ms/step - loss: 0.0589 - accuracy: 0.9790 - val_loss: 0.1337 - val_accuracy: 0.9385\n",
            "Epoch 116/200\n",
            "6/6 [==============================] - 0s 8ms/step - loss: 0.0427 - accuracy: 0.9930 - val_loss: 0.1359 - val_accuracy: 0.9218\n",
            "Epoch 117/200\n",
            "6/6 [==============================] - 0s 10ms/step - loss: 0.0445 - accuracy: 0.9902 - val_loss: 0.1366 - val_accuracy: 0.9274\n",
            "Epoch 118/200\n",
            "6/6 [==============================] - 0s 10ms/step - loss: 0.0579 - accuracy: 0.9818 - val_loss: 0.1354 - val_accuracy: 0.9330\n",
            "Epoch 119/200\n",
            "6/6 [==============================] - 0s 8ms/step - loss: 0.0463 - accuracy: 0.9860 - val_loss: 0.1364 - val_accuracy: 0.9330\n",
            "Epoch 120/200\n",
            "6/6 [==============================] - 0s 10ms/step - loss: 0.0482 - accuracy: 0.9860 - val_loss: 0.1370 - val_accuracy: 0.9330\n",
            "Epoch 121/200\n",
            "6/6 [==============================] - 0s 8ms/step - loss: 0.0530 - accuracy: 0.9790 - val_loss: 0.1357 - val_accuracy: 0.9218\n",
            "Epoch 122/200\n",
            "6/6 [==============================] - 0s 9ms/step - loss: 0.0477 - accuracy: 0.9818 - val_loss: 0.1309 - val_accuracy: 0.9330\n",
            "Epoch 123/200\n",
            "6/6 [==============================] - 0s 10ms/step - loss: 0.0554 - accuracy: 0.9818 - val_loss: 0.1308 - val_accuracy: 0.9330\n",
            "Epoch 124/200\n",
            "6/6 [==============================] - 0s 9ms/step - loss: 0.0409 - accuracy: 0.9902 - val_loss: 0.1342 - val_accuracy: 0.9385\n",
            "Epoch 125/200\n",
            "6/6 [==============================] - 0s 12ms/step - loss: 0.0464 - accuracy: 0.9860 - val_loss: 0.1376 - val_accuracy: 0.9330\n",
            "Epoch 126/200\n",
            "6/6 [==============================] - 0s 9ms/step - loss: 0.0423 - accuracy: 0.9874 - val_loss: 0.1343 - val_accuracy: 0.9385\n",
            "Epoch 127/200\n",
            "6/6 [==============================] - 0s 8ms/step - loss: 0.0407 - accuracy: 0.9930 - val_loss: 0.1316 - val_accuracy: 0.9330\n",
            "Epoch 128/200\n",
            "6/6 [==============================] - 0s 8ms/step - loss: 0.0428 - accuracy: 0.9874 - val_loss: 0.1313 - val_accuracy: 0.9385\n",
            "Epoch 129/200\n",
            "6/6 [==============================] - 0s 10ms/step - loss: 0.0470 - accuracy: 0.9874 - val_loss: 0.1332 - val_accuracy: 0.9330\n",
            "Epoch 130/200\n",
            "6/6 [==============================] - 0s 8ms/step - loss: 0.0376 - accuracy: 0.9902 - val_loss: 0.1338 - val_accuracy: 0.9274\n",
            "Epoch 131/200\n",
            "6/6 [==============================] - 0s 9ms/step - loss: 0.0564 - accuracy: 0.9790 - val_loss: 0.1344 - val_accuracy: 0.9330\n",
            "Epoch 132/200\n",
            "6/6 [==============================] - 0s 8ms/step - loss: 0.0364 - accuracy: 0.9902 - val_loss: 0.1362 - val_accuracy: 0.9385\n",
            "Epoch 133/200\n",
            "6/6 [==============================] - 0s 9ms/step - loss: 0.0556 - accuracy: 0.9874 - val_loss: 0.1394 - val_accuracy: 0.9385\n",
            "Epoch 134/200\n",
            "6/6 [==============================] - 0s 8ms/step - loss: 0.0436 - accuracy: 0.9902 - val_loss: 0.1450 - val_accuracy: 0.9274\n",
            "Epoch 135/200\n",
            "6/6 [==============================] - 0s 9ms/step - loss: 0.0463 - accuracy: 0.9860 - val_loss: 0.1426 - val_accuracy: 0.9274\n",
            "Epoch 136/200\n",
            "6/6 [==============================] - 0s 12ms/step - loss: 0.0436 - accuracy: 0.9874 - val_loss: 0.1386 - val_accuracy: 0.9330\n",
            "Epoch 137/200\n",
            "6/6 [==============================] - 0s 8ms/step - loss: 0.0399 - accuracy: 0.9930 - val_loss: 0.1360 - val_accuracy: 0.9385\n",
            "Epoch 138/200\n",
            "6/6 [==============================] - 0s 8ms/step - loss: 0.0517 - accuracy: 0.9888 - val_loss: 0.1378 - val_accuracy: 0.9330\n",
            "Epoch 139/200\n",
            "6/6 [==============================] - 0s 11ms/step - loss: 0.0368 - accuracy: 0.9944 - val_loss: 0.1376 - val_accuracy: 0.9330\n",
            "Epoch 140/200\n",
            "6/6 [==============================] - 0s 12ms/step - loss: 0.0452 - accuracy: 0.9860 - val_loss: 0.1347 - val_accuracy: 0.9385\n",
            "Epoch 141/200\n",
            "6/6 [==============================] - 0s 10ms/step - loss: 0.0507 - accuracy: 0.9818 - val_loss: 0.1347 - val_accuracy: 0.9330\n",
            "Epoch 142/200\n",
            "6/6 [==============================] - 0s 9ms/step - loss: 0.0448 - accuracy: 0.9874 - val_loss: 0.1344 - val_accuracy: 0.9385\n",
            "Epoch 143/200\n",
            "6/6 [==============================] - 0s 8ms/step - loss: 0.0390 - accuracy: 0.9874 - val_loss: 0.1366 - val_accuracy: 0.9330\n",
            "Epoch 144/200\n",
            "6/6 [==============================] - 0s 10ms/step - loss: 0.0439 - accuracy: 0.9832 - val_loss: 0.1387 - val_accuracy: 0.9330\n",
            "Epoch 145/200\n",
            "6/6 [==============================] - 0s 8ms/step - loss: 0.0362 - accuracy: 0.9874 - val_loss: 0.1364 - val_accuracy: 0.9385\n",
            "Epoch 146/200\n",
            "6/6 [==============================] - 0s 8ms/step - loss: 0.0430 - accuracy: 0.9930 - val_loss: 0.1341 - val_accuracy: 0.9385\n",
            "Epoch 147/200\n",
            "6/6 [==============================] - 0s 9ms/step - loss: 0.0386 - accuracy: 0.9916 - val_loss: 0.1350 - val_accuracy: 0.9385\n",
            "Epoch 148/200\n",
            "6/6 [==============================] - 0s 10ms/step - loss: 0.0291 - accuracy: 0.9958 - val_loss: 0.1376 - val_accuracy: 0.9385\n",
            "Epoch 149/200\n",
            "6/6 [==============================] - 0s 8ms/step - loss: 0.0336 - accuracy: 0.9916 - val_loss: 0.1370 - val_accuracy: 0.9385\n",
            "Epoch 150/200\n",
            "6/6 [==============================] - 0s 8ms/step - loss: 0.0337 - accuracy: 0.9916 - val_loss: 0.1363 - val_accuracy: 0.9385\n",
            "Epoch 151/200\n",
            "6/6 [==============================] - 0s 9ms/step - loss: 0.0388 - accuracy: 0.9874 - val_loss: 0.1382 - val_accuracy: 0.9385\n",
            "Epoch 152/200\n",
            "6/6 [==============================] - 0s 8ms/step - loss: 0.0379 - accuracy: 0.9902 - val_loss: 0.1353 - val_accuracy: 0.9385\n",
            "Epoch 153/200\n",
            "6/6 [==============================] - 0s 10ms/step - loss: 0.0304 - accuracy: 0.9972 - val_loss: 0.1343 - val_accuracy: 0.9385\n",
            "Epoch 154/200\n",
            "6/6 [==============================] - 0s 9ms/step - loss: 0.0303 - accuracy: 0.9916 - val_loss: 0.1311 - val_accuracy: 0.9385\n",
            "Epoch 155/200\n",
            "6/6 [==============================] - 0s 9ms/step - loss: 0.0367 - accuracy: 0.9902 - val_loss: 0.1290 - val_accuracy: 0.9385\n",
            "Epoch 156/200\n",
            "6/6 [==============================] - 0s 11ms/step - loss: 0.0374 - accuracy: 0.9944 - val_loss: 0.1307 - val_accuracy: 0.9385\n",
            "Epoch 157/200\n",
            "6/6 [==============================] - 0s 8ms/step - loss: 0.0368 - accuracy: 0.9902 - val_loss: 0.1339 - val_accuracy: 0.9385\n",
            "Epoch 158/200\n",
            "6/6 [==============================] - 0s 9ms/step - loss: 0.0329 - accuracy: 0.9902 - val_loss: 0.1342 - val_accuracy: 0.9385\n",
            "Epoch 159/200\n",
            "6/6 [==============================] - 0s 9ms/step - loss: 0.0468 - accuracy: 0.9846 - val_loss: 0.1367 - val_accuracy: 0.9385\n",
            "Epoch 160/200\n",
            "6/6 [==============================] - 0s 8ms/step - loss: 0.0282 - accuracy: 0.9874 - val_loss: 0.1319 - val_accuracy: 0.9385\n",
            "Epoch 161/200\n",
            "6/6 [==============================] - 0s 11ms/step - loss: 0.0309 - accuracy: 0.9846 - val_loss: 0.1293 - val_accuracy: 0.9385\n",
            "Epoch 162/200\n",
            "6/6 [==============================] - 0s 8ms/step - loss: 0.0419 - accuracy: 0.9902 - val_loss: 0.1299 - val_accuracy: 0.9385\n",
            "Epoch 163/200\n",
            "6/6 [==============================] - 0s 12ms/step - loss: 0.0462 - accuracy: 0.9762 - val_loss: 0.1317 - val_accuracy: 0.9385\n",
            "Epoch 164/200\n",
            "6/6 [==============================] - 0s 9ms/step - loss: 0.0340 - accuracy: 0.9888 - val_loss: 0.1308 - val_accuracy: 0.9385\n",
            "Epoch 165/200\n",
            "6/6 [==============================] - 0s 8ms/step - loss: 0.0400 - accuracy: 0.9874 - val_loss: 0.1331 - val_accuracy: 0.9385\n",
            "Epoch 166/200\n",
            "6/6 [==============================] - 0s 8ms/step - loss: 0.0359 - accuracy: 0.9874 - val_loss: 0.1341 - val_accuracy: 0.9385\n",
            "Epoch 167/200\n",
            "6/6 [==============================] - 0s 9ms/step - loss: 0.0384 - accuracy: 0.9888 - val_loss: 0.1319 - val_accuracy: 0.9385\n",
            "Epoch 168/200\n",
            "6/6 [==============================] - 0s 12ms/step - loss: 0.0301 - accuracy: 0.9944 - val_loss: 0.1320 - val_accuracy: 0.9441\n",
            "Epoch 169/200\n",
            "6/6 [==============================] - 0s 12ms/step - loss: 0.0414 - accuracy: 0.9832 - val_loss: 0.1316 - val_accuracy: 0.9441\n",
            "Epoch 170/200\n",
            "6/6 [==============================] - 0s 8ms/step - loss: 0.0415 - accuracy: 0.9818 - val_loss: 0.1315 - val_accuracy: 0.9385\n",
            "Epoch 171/200\n",
            "6/6 [==============================] - 0s 11ms/step - loss: 0.0371 - accuracy: 0.9902 - val_loss: 0.1312 - val_accuracy: 0.9385\n",
            "Epoch 172/200\n",
            "6/6 [==============================] - 0s 11ms/step - loss: 0.0406 - accuracy: 0.9846 - val_loss: 0.1306 - val_accuracy: 0.9441\n",
            "Epoch 173/200\n",
            "6/6 [==============================] - 0s 10ms/step - loss: 0.0370 - accuracy: 0.9888 - val_loss: 0.1309 - val_accuracy: 0.9441\n",
            "Epoch 174/200\n",
            "6/6 [==============================] - 0s 8ms/step - loss: 0.0299 - accuracy: 0.9916 - val_loss: 0.1316 - val_accuracy: 0.9385\n",
            "Epoch 175/200\n",
            "6/6 [==============================] - 0s 8ms/step - loss: 0.0295 - accuracy: 0.9958 - val_loss: 0.1314 - val_accuracy: 0.9385\n",
            "Epoch 176/200\n",
            "6/6 [==============================] - 0s 8ms/step - loss: 0.0338 - accuracy: 0.9874 - val_loss: 0.1311 - val_accuracy: 0.9385\n",
            "Epoch 177/200\n",
            "6/6 [==============================] - 0s 9ms/step - loss: 0.0487 - accuracy: 0.9776 - val_loss: 0.1329 - val_accuracy: 0.9385\n",
            "Epoch 178/200\n",
            "6/6 [==============================] - 0s 9ms/step - loss: 0.0343 - accuracy: 0.9930 - val_loss: 0.1334 - val_accuracy: 0.9385\n",
            "Epoch 179/200\n",
            "6/6 [==============================] - 0s 8ms/step - loss: 0.0452 - accuracy: 0.9818 - val_loss: 0.1353 - val_accuracy: 0.9385\n",
            "Epoch 180/200\n",
            "6/6 [==============================] - 0s 10ms/step - loss: 0.0280 - accuracy: 0.9958 - val_loss: 0.1356 - val_accuracy: 0.9385\n",
            "Epoch 181/200\n",
            "6/6 [==============================] - 0s 9ms/step - loss: 0.0307 - accuracy: 0.9916 - val_loss: 0.1344 - val_accuracy: 0.9385\n",
            "Epoch 182/200\n",
            "6/6 [==============================] - 0s 8ms/step - loss: 0.0290 - accuracy: 0.9916 - val_loss: 0.1330 - val_accuracy: 0.9385\n",
            "Epoch 183/200\n",
            "6/6 [==============================] - 0s 11ms/step - loss: 0.0346 - accuracy: 0.9888 - val_loss: 0.1293 - val_accuracy: 0.9385\n",
            "Epoch 184/200\n",
            "6/6 [==============================] - 0s 8ms/step - loss: 0.0250 - accuracy: 0.9958 - val_loss: 0.1281 - val_accuracy: 0.9441\n",
            "Epoch 185/200\n",
            "6/6 [==============================] - 0s 11ms/step - loss: 0.0321 - accuracy: 0.9888 - val_loss: 0.1293 - val_accuracy: 0.9553\n",
            "Epoch 186/200\n",
            "6/6 [==============================] - 0s 9ms/step - loss: 0.0352 - accuracy: 0.9902 - val_loss: 0.1339 - val_accuracy: 0.9441\n",
            "Epoch 187/200\n",
            "6/6 [==============================] - 0s 10ms/step - loss: 0.0340 - accuracy: 0.9902 - val_loss: 0.1356 - val_accuracy: 0.9441\n",
            "Epoch 188/200\n",
            "6/6 [==============================] - 0s 13ms/step - loss: 0.0253 - accuracy: 0.9916 - val_loss: 0.1349 - val_accuracy: 0.9441\n",
            "Epoch 189/200\n",
            "6/6 [==============================] - 0s 10ms/step - loss: 0.0285 - accuracy: 0.9916 - val_loss: 0.1350 - val_accuracy: 0.9441\n",
            "Epoch 190/200\n",
            "6/6 [==============================] - 0s 12ms/step - loss: 0.0203 - accuracy: 0.9972 - val_loss: 0.1342 - val_accuracy: 0.9441\n",
            "Epoch 191/200\n",
            "6/6 [==============================] - 0s 9ms/step - loss: 0.0300 - accuracy: 0.9916 - val_loss: 0.1342 - val_accuracy: 0.9497\n",
            "Epoch 192/200\n",
            "6/6 [==============================] - 0s 9ms/step - loss: 0.0217 - accuracy: 0.9986 - val_loss: 0.1353 - val_accuracy: 0.9441\n",
            "Epoch 193/200\n",
            "6/6 [==============================] - 0s 10ms/step - loss: 0.0277 - accuracy: 0.9916 - val_loss: 0.1352 - val_accuracy: 0.9441\n",
            "Epoch 194/200\n",
            "6/6 [==============================] - 0s 12ms/step - loss: 0.0252 - accuracy: 0.9944 - val_loss: 0.1360 - val_accuracy: 0.9441\n",
            "Epoch 195/200\n",
            "6/6 [==============================] - 0s 8ms/step - loss: 0.0287 - accuracy: 0.9916 - val_loss: 0.1343 - val_accuracy: 0.9441\n",
            "Epoch 196/200\n",
            "6/6 [==============================] - 0s 14ms/step - loss: 0.0341 - accuracy: 0.9902 - val_loss: 0.1339 - val_accuracy: 0.9497\n",
            "Epoch 197/200\n",
            "6/6 [==============================] - 0s 8ms/step - loss: 0.0237 - accuracy: 0.9930 - val_loss: 0.1351 - val_accuracy: 0.9441\n",
            "Epoch 198/200\n",
            "6/6 [==============================] - 0s 9ms/step - loss: 0.0321 - accuracy: 0.9916 - val_loss: 0.1358 - val_accuracy: 0.9441\n",
            "Epoch 199/200\n",
            "6/6 [==============================] - 0s 11ms/step - loss: 0.0340 - accuracy: 0.9888 - val_loss: 0.1372 - val_accuracy: 0.9441\n",
            "Epoch 200/200\n",
            "6/6 [==============================] - 0s 10ms/step - loss: 0.0354 - accuracy: 0.9874 - val_loss: 0.1327 - val_accuracy: 0.9441\n"
          ]
        },
        {
          "output_type": "display_data",
          "data": {
            "text/plain": [
              "<IPython.core.display.HTML object>"
            ],
            "text/html": [
              "Waiting for W&B process to finish... <strong style=\"color:green\">(success).</strong>"
            ]
          },
          "metadata": {}
        },
        {
          "output_type": "display_data",
          "data": {
            "text/plain": [
              "VBox(children=(Label(value='40.351 MB of 40.351 MB uploaded (0.007 MB deduped)\\r'), FloatProgress(value=0.9999…"
            ],
            "application/vnd.jupyter.widget-view+json": {
              "version_major": 2,
              "version_minor": 0,
              "model_id": "414a1c09b99f4001a1835464487b1ab3"
            }
          },
          "metadata": {}
        },
        {
          "output_type": "display_data",
          "data": {
            "text/plain": [
              "<IPython.core.display.HTML object>"
            ],
            "text/html": [
              "<style>\n",
              "    table.wandb td:nth-child(1) { padding: 0 10px; text-align: left ; width: auto;} td:nth-child(2) {text-align: left ; width: 100%}\n",
              "    .wandb-row { display: flex; flex-direction: row; flex-wrap: wrap; justify-content: flex-start; width: 100% }\n",
              "    .wandb-col { display: flex; flex-direction: column; flex-basis: 100%; flex: 1; padding: 10px; }\n",
              "    </style>\n",
              "<div class=\"wandb-row\"><div class=\"wandb-col\"><h3>Run history:</h3><br/><table class=\"wandb\"><tr><td>accuracy</td><td>▁▄▆▆▇▇▇▇▇▇▇▇█▇███████▇██████████████████</td></tr><tr><td>epoch</td><td>▁▁▁▁▂▂▂▂▂▃▃▃▃▃▃▄▄▄▄▄▅▅▅▅▅▅▆▆▆▆▆▇▇▇▇▇▇███</td></tr><tr><td>eval/accuracy</td><td>▁</td></tr><tr><td>eval/f1</td><td>▁</td></tr><tr><td>eval/precision</td><td>▁</td></tr><tr><td>eval/recall</td><td>▁</td></tr><tr><td>loss</td><td>█▆▄▃▃▃▃▂▂▂▂▂▂▂▂▂▁▁▁▁▁▂▁▁▁▁▁▁▁▁▁▁▁▁▁▁▁▁▁▁</td></tr><tr><td>val_accuracy</td><td>▁▅▇▇█▇▇▇▇▇██▇▇▇▇▇▇██▇▇██████████████████</td></tr><tr><td>val_loss</td><td>█▅▃▂▂▂▁▁▁▁▁▁▁▁▁▁▁▁▁▁▁▁▁▁▁▁▁▁▁▁▁▁▁▁▁▁▁▁▁▁</td></tr></table><br/></div><div class=\"wandb-col\"><h3>Run summary:</h3><br/><table class=\"wandb\"><tr><td>accuracy</td><td>0.98741</td></tr><tr><td>best_epoch</td><td>95</td></tr><tr><td>best_val_loss</td><td>0.12777</td></tr><tr><td>epoch</td><td>199</td></tr><tr><td>eval/accuracy</td><td>0.94413</td></tr><tr><td>eval/f1</td><td>0.94737</td></tr><tr><td>eval/precision</td><td>0.95745</td></tr><tr><td>eval/recall</td><td>0.9375</td></tr><tr><td>loss</td><td>0.0354</td></tr><tr><td>val_accuracy</td><td>0.94413</td></tr><tr><td>val_loss</td><td>0.13274</td></tr></table><br/></div></div>"
            ]
          },
          "metadata": {}
        },
        {
          "output_type": "display_data",
          "data": {
            "text/plain": [
              "<IPython.core.display.HTML object>"
            ],
            "text/html": [
              "Synced <strong style=\"color:#cdcd00\">politifact-fulltext-sbert+tw+ptbg128-mlp-0</strong>: <a href=\"https://wandb.ai/saloniteam/nofolds/runs/neauh7i7\" target=\"_blank\">https://wandb.ai/saloniteam/nofolds/runs/neauh7i7</a><br/>Synced 5 W&B file(s), 2 media file(s), 161 artifact file(s) and 1 other file(s)"
            ]
          },
          "metadata": {}
        },
        {
          "output_type": "display_data",
          "data": {
            "text/plain": [
              "<IPython.core.display.HTML object>"
            ],
            "text/html": [
              "Find logs at: <code>./wandb/run-20220917_093721-neauh7i7/logs</code>"
            ]
          },
          "metadata": {}
        }
      ]
    },
    {
      "cell_type": "code",
      "source": [],
      "metadata": {
        "id": "T22dH9GrNv2t"
      },
      "execution_count": 18,
      "outputs": []
    }
  ]
}