{
  "nbformat": 4,
  "nbformat_minor": 0,
  "metadata": {
    "colab": {
      "provenance": [],
      "collapsed_sections": [],
      "include_colab_link": true
    },
    "kernelspec": {
      "name": "python3",
      "display_name": "Python 3"
    },
    "language_info": {
      "name": "python"
    },
    "gpuClass": "standard"
  },
  "cells": [
    {
      "cell_type": "markdown",
      "metadata": {
        "id": "view-in-github",
        "colab_type": "text"
      },
      "source": [
        "<a href=\"https://colab.research.google.com/github/verma-saloni/Thesis-Work/blob/main/11_3_22_gossipcop_dgl_GCN_FastText_text_embs.ipynb\" target=\"_parent\"><img src=\"https://colab.research.google.com/assets/colab-badge.svg\" alt=\"Open In Colab\"/></a>"
      ]
    },
    {
      "cell_type": "code",
      "execution_count": 1,
      "metadata": {
        "id": "xpTeMbYZwmf7"
      },
      "outputs": [],
      "source": [
        "!pip -qq install jsonlines"
      ]
    },
    {
      "cell_type": "code",
      "source": [
        "from google.colab import drive\n",
        "drive.mount('/gdrive')"
      ],
      "metadata": {
        "colab": {
          "base_uri": "https://localhost:8080/"
        },
        "id": "UxNEaltli8H_",
        "outputId": "b0065756-0334-437f-e45a-4259c90f8cb3"
      },
      "execution_count": 2,
      "outputs": [
        {
          "output_type": "stream",
          "name": "stdout",
          "text": [
            "Mounted at /gdrive\n"
          ]
        }
      ]
    },
    {
      "cell_type": "code",
      "source": [
        "from pathlib import Path\n",
        "base_dir = Path(\"/gdrive/MyDrive/ResearchFND\")\n",
        "assert base_dir.exists()"
      ],
      "metadata": {
        "id": "E1KzQ-APvvbj"
      },
      "execution_count": 3,
      "outputs": []
    },
    {
      "cell_type": "markdown",
      "source": [
        "## Data"
      ],
      "metadata": {
        "id": "ywmJcojaOk4E"
      }
    },
    {
      "cell_type": "code",
      "source": [],
      "metadata": {
        "id": "I-Bd_WNiLkOc"
      },
      "execution_count": 3,
      "outputs": []
    },
    {
      "cell_type": "code",
      "source": [
        "import pandas as pd\n",
        "import ast\n",
        "import json"
      ],
      "metadata": {
        "id": "Pi19HZwbOnpK"
      },
      "execution_count": 4,
      "outputs": []
    },
    {
      "cell_type": "code",
      "source": [
        "dataset_id = 'gossipcop'\n",
        "text_embeddings = 'ft' # options: sbert, ft"
      ],
      "metadata": {
        "id": "5XqiYfvoPECo"
      },
      "execution_count": 5,
      "outputs": []
    },
    {
      "cell_type": "code",
      "source": [
        "df = pd.read_csv(base_dir/f'{dataset_id}_agg.csv')\n",
        "df.head(2)"
      ],
      "metadata": {
        "colab": {
          "base_uri": "https://localhost:8080/",
          "height": 112
        },
        "outputId": "d29b5ab3-3591-465c-fdc6-e75b3e0d3042",
        "id": "9fSNOSLsOnpP"
      },
      "execution_count": 6,
      "outputs": [
        {
          "output_type": "execute_result",
          "data": {
            "text/plain": [
              "                                               title text tweets  \\\n",
              "0      Kendall   Kylie Jenner Jenner NOT Upset Up...  NaN     []   \n",
              "1      Kim Kardashian Dethroned Dethroned By Khlo...  NaN     []   \n",
              "\n",
              "                                            retweets label  url  num_retweets  \\\n",
              "0  ['995423424741888001', '995461685166202880', '...  fake  NaN             3   \n",
              "1  ['848843565027516416', '849030801970868224', '...  fake  NaN             3   \n",
              "\n",
              "   log_num_retweets  num_tweets  log_num_tweets  \n",
              "0          1.386294           0             0.0  \n",
              "1          1.386294           0             0.0  "
            ],
            "text/html": [
              "\n",
              "  <div id=\"df-dca7e0d0-0085-4bd6-bd0a-c480d06a9e31\">\n",
              "    <div class=\"colab-df-container\">\n",
              "      <div>\n",
              "<style scoped>\n",
              "    .dataframe tbody tr th:only-of-type {\n",
              "        vertical-align: middle;\n",
              "    }\n",
              "\n",
              "    .dataframe tbody tr th {\n",
              "        vertical-align: top;\n",
              "    }\n",
              "\n",
              "    .dataframe thead th {\n",
              "        text-align: right;\n",
              "    }\n",
              "</style>\n",
              "<table border=\"1\" class=\"dataframe\">\n",
              "  <thead>\n",
              "    <tr style=\"text-align: right;\">\n",
              "      <th></th>\n",
              "      <th>title</th>\n",
              "      <th>text</th>\n",
              "      <th>tweets</th>\n",
              "      <th>retweets</th>\n",
              "      <th>label</th>\n",
              "      <th>url</th>\n",
              "      <th>num_retweets</th>\n",
              "      <th>log_num_retweets</th>\n",
              "      <th>num_tweets</th>\n",
              "      <th>log_num_tweets</th>\n",
              "    </tr>\n",
              "  </thead>\n",
              "  <tbody>\n",
              "    <tr>\n",
              "      <th>0</th>\n",
              "      <td>Kendall   Kylie Jenner Jenner NOT Upset Up...</td>\n",
              "      <td>NaN</td>\n",
              "      <td>[]</td>\n",
              "      <td>['995423424741888001', '995461685166202880', '...</td>\n",
              "      <td>fake</td>\n",
              "      <td>NaN</td>\n",
              "      <td>3</td>\n",
              "      <td>1.386294</td>\n",
              "      <td>0</td>\n",
              "      <td>0.0</td>\n",
              "    </tr>\n",
              "    <tr>\n",
              "      <th>1</th>\n",
              "      <td>Kim Kardashian Dethroned Dethroned By Khlo...</td>\n",
              "      <td>NaN</td>\n",
              "      <td>[]</td>\n",
              "      <td>['848843565027516416', '849030801970868224', '...</td>\n",
              "      <td>fake</td>\n",
              "      <td>NaN</td>\n",
              "      <td>3</td>\n",
              "      <td>1.386294</td>\n",
              "      <td>0</td>\n",
              "      <td>0.0</td>\n",
              "    </tr>\n",
              "  </tbody>\n",
              "</table>\n",
              "</div>\n",
              "      <button class=\"colab-df-convert\" onclick=\"convertToInteractive('df-dca7e0d0-0085-4bd6-bd0a-c480d06a9e31')\"\n",
              "              title=\"Convert this dataframe to an interactive table.\"\n",
              "              style=\"display:none;\">\n",
              "        \n",
              "  <svg xmlns=\"http://www.w3.org/2000/svg\" height=\"24px\"viewBox=\"0 0 24 24\"\n",
              "       width=\"24px\">\n",
              "    <path d=\"M0 0h24v24H0V0z\" fill=\"none\"/>\n",
              "    <path d=\"M18.56 5.44l.94 2.06.94-2.06 2.06-.94-2.06-.94-.94-2.06-.94 2.06-2.06.94zm-11 1L8.5 8.5l.94-2.06 2.06-.94-2.06-.94L8.5 2.5l-.94 2.06-2.06.94zm10 10l.94 2.06.94-2.06 2.06-.94-2.06-.94-.94-2.06-.94 2.06-2.06.94z\"/><path d=\"M17.41 7.96l-1.37-1.37c-.4-.4-.92-.59-1.43-.59-.52 0-1.04.2-1.43.59L10.3 9.45l-7.72 7.72c-.78.78-.78 2.05 0 2.83L4 21.41c.39.39.9.59 1.41.59.51 0 1.02-.2 1.41-.59l7.78-7.78 2.81-2.81c.8-.78.8-2.07 0-2.86zM5.41 20L4 18.59l7.72-7.72 1.47 1.35L5.41 20z\"/>\n",
              "  </svg>\n",
              "      </button>\n",
              "      \n",
              "  <style>\n",
              "    .colab-df-container {\n",
              "      display:flex;\n",
              "      flex-wrap:wrap;\n",
              "      gap: 12px;\n",
              "    }\n",
              "\n",
              "    .colab-df-convert {\n",
              "      background-color: #E8F0FE;\n",
              "      border: none;\n",
              "      border-radius: 50%;\n",
              "      cursor: pointer;\n",
              "      display: none;\n",
              "      fill: #1967D2;\n",
              "      height: 32px;\n",
              "      padding: 0 0 0 0;\n",
              "      width: 32px;\n",
              "    }\n",
              "\n",
              "    .colab-df-convert:hover {\n",
              "      background-color: #E2EBFA;\n",
              "      box-shadow: 0px 1px 2px rgba(60, 64, 67, 0.3), 0px 1px 3px 1px rgba(60, 64, 67, 0.15);\n",
              "      fill: #174EA6;\n",
              "    }\n",
              "\n",
              "    [theme=dark] .colab-df-convert {\n",
              "      background-color: #3B4455;\n",
              "      fill: #D2E3FC;\n",
              "    }\n",
              "\n",
              "    [theme=dark] .colab-df-convert:hover {\n",
              "      background-color: #434B5C;\n",
              "      box-shadow: 0px 1px 3px 1px rgba(0, 0, 0, 0.15);\n",
              "      filter: drop-shadow(0px 1px 2px rgba(0, 0, 0, 0.3));\n",
              "      fill: #FFFFFF;\n",
              "    }\n",
              "  </style>\n",
              "\n",
              "      <script>\n",
              "        const buttonEl =\n",
              "          document.querySelector('#df-dca7e0d0-0085-4bd6-bd0a-c480d06a9e31 button.colab-df-convert');\n",
              "        buttonEl.style.display =\n",
              "          google.colab.kernel.accessAllowed ? 'block' : 'none';\n",
              "\n",
              "        async function convertToInteractive(key) {\n",
              "          const element = document.querySelector('#df-dca7e0d0-0085-4bd6-bd0a-c480d06a9e31');\n",
              "          const dataTable =\n",
              "            await google.colab.kernel.invokeFunction('convertToInteractive',\n",
              "                                                     [key], {});\n",
              "          if (!dataTable) return;\n",
              "\n",
              "          const docLinkHtml = 'Like what you see? Visit the ' +\n",
              "            '<a target=\"_blank\" href=https://colab.research.google.com/notebooks/data_table.ipynb>data table notebook</a>'\n",
              "            + ' to learn more about interactive tables.';\n",
              "          element.innerHTML = '';\n",
              "          dataTable['output_type'] = 'display_data';\n",
              "          await google.colab.output.renderOutput(dataTable, element);\n",
              "          const docLink = document.createElement('div');\n",
              "          docLink.innerHTML = docLinkHtml;\n",
              "          element.appendChild(docLink);\n",
              "        }\n",
              "      </script>\n",
              "    </div>\n",
              "  </div>\n",
              "  "
            ]
          },
          "metadata": {},
          "execution_count": 6
        }
      ]
    },
    {
      "cell_type": "code",
      "source": [
        "df['tweets'] = df.tweets.map(ast.literal_eval)"
      ],
      "metadata": {
        "id": "qjvjCmHpOnpS"
      },
      "execution_count": 7,
      "outputs": []
    },
    {
      "cell_type": "code",
      "source": [
        "users_tweeted = df.tweets.map(lambda x: [int(e['user_id']) for e in x])"
      ],
      "metadata": {
        "id": "CovrRHkeOnpU"
      },
      "execution_count": 8,
      "outputs": []
    },
    {
      "cell_type": "code",
      "source": [
        "len(users_tweeted), sum(users_tweeted.map(len) > 0)"
      ],
      "metadata": {
        "colab": {
          "base_uri": "https://localhost:8080/"
        },
        "outputId": "4375d8dc-f9f6-4789-ef61-3efb22fcbae7",
        "id": "VmjV_67MOnpW"
      },
      "execution_count": 9,
      "outputs": [
        {
          "output_type": "execute_result",
          "data": {
            "text/plain": [
              "(19968, 2117)"
            ]
          },
          "metadata": {},
          "execution_count": 9
        }
      ]
    },
    {
      "cell_type": "markdown",
      "source": [
        "## GNN"
      ],
      "metadata": {
        "id": "gI6AtSffmcqr"
      }
    },
    {
      "cell_type": "markdown",
      "source": [
        "### Data"
      ],
      "metadata": {
        "id": "FfaOg08xmfEp"
      }
    },
    {
      "cell_type": "code",
      "source": [
        "#%%capture\n",
        "!pip install dgl wandb"
      ],
      "metadata": {
        "id": "xjD3rF-MmwKa",
        "colab": {
          "base_uri": "https://localhost:8080/",
          "height": 1000
        },
        "outputId": "fa824ae4-0647-4c94-8943-00e6b3276c09"
      },
      "execution_count": 10,
      "outputs": [
        {
          "output_type": "stream",
          "name": "stdout",
          "text": [
            "Looking in indexes: https://pypi.org/simple, https://us-python.pkg.dev/colab-wheels/public/simple/\n",
            "Collecting dgl\n",
            "  Downloading dgl-0.9.1-cp37-cp37m-manylinux1_x86_64.whl (4.9 MB)\n",
            "\u001b[K     |████████████████████████████████| 4.9 MB 4.2 MB/s \n",
            "\u001b[?25hCollecting wandb\n",
            "  Downloading wandb-0.13.4-py2.py3-none-any.whl (1.9 MB)\n",
            "\u001b[K     |████████████████████████████████| 1.9 MB 55.5 MB/s \n",
            "\u001b[?25hRequirement already satisfied: numpy>=1.14.0 in /usr/local/lib/python3.7/dist-packages (from dgl) (1.21.6)\n",
            "Requirement already satisfied: requests>=2.19.0 in /usr/local/lib/python3.7/dist-packages (from dgl) (2.23.0)\n",
            "Requirement already satisfied: scipy>=1.1.0 in /usr/local/lib/python3.7/dist-packages (from dgl) (1.7.3)\n",
            "Requirement already satisfied: networkx>=2.1 in /usr/local/lib/python3.7/dist-packages (from dgl) (2.6.3)\n",
            "Requirement already satisfied: tqdm in /usr/local/lib/python3.7/dist-packages (from dgl) (4.64.1)\n",
            "Collecting psutil>=5.8.0\n",
            "  Downloading psutil-5.9.3-cp37-cp37m-manylinux_2_12_x86_64.manylinux2010_x86_64.manylinux_2_17_x86_64.manylinux2014_x86_64.whl (291 kB)\n",
            "\u001b[K     |████████████████████████████████| 291 kB 68.4 MB/s \n",
            "\u001b[?25hRequirement already satisfied: urllib3!=1.25.0,!=1.25.1,<1.26,>=1.21.1 in /usr/local/lib/python3.7/dist-packages (from requests>=2.19.0->dgl) (1.24.3)\n",
            "Requirement already satisfied: certifi>=2017.4.17 in /usr/local/lib/python3.7/dist-packages (from requests>=2.19.0->dgl) (2022.9.24)\n",
            "Requirement already satisfied: chardet<4,>=3.0.2 in /usr/local/lib/python3.7/dist-packages (from requests>=2.19.0->dgl) (3.0.4)\n",
            "Requirement already satisfied: idna<3,>=2.5 in /usr/local/lib/python3.7/dist-packages (from requests>=2.19.0->dgl) (2.10)\n",
            "Requirement already satisfied: protobuf!=4.0.*,!=4.21.0,<5,>=3.12.0 in /usr/local/lib/python3.7/dist-packages (from wandb) (3.17.3)\n",
            "Requirement already satisfied: Click!=8.0.0,>=7.0 in /usr/local/lib/python3.7/dist-packages (from wandb) (7.1.2)\n",
            "Collecting setproctitle\n",
            "  Downloading setproctitle-1.3.2-cp37-cp37m-manylinux_2_5_x86_64.manylinux1_x86_64.manylinux_2_17_x86_64.manylinux2014_x86_64.whl (30 kB)\n",
            "Collecting sentry-sdk>=1.0.0\n",
            "  Downloading sentry_sdk-1.10.1-py2.py3-none-any.whl (166 kB)\n",
            "\u001b[K     |████████████████████████████████| 166 kB 69.7 MB/s \n",
            "\u001b[?25hRequirement already satisfied: setuptools in /usr/local/lib/python3.7/dist-packages (from wandb) (57.4.0)\n",
            "Collecting GitPython>=1.0.0\n",
            "  Downloading GitPython-3.1.29-py3-none-any.whl (182 kB)\n",
            "\u001b[K     |████████████████████████████████| 182 kB 67.5 MB/s \n",
            "\u001b[?25hCollecting pathtools\n",
            "  Downloading pathtools-0.1.2.tar.gz (11 kB)\n",
            "Collecting docker-pycreds>=0.4.0\n",
            "  Downloading docker_pycreds-0.4.0-py2.py3-none-any.whl (9.0 kB)\n",
            "Collecting shortuuid>=0.5.0\n",
            "  Downloading shortuuid-1.0.9-py3-none-any.whl (9.4 kB)\n",
            "Requirement already satisfied: PyYAML in /usr/local/lib/python3.7/dist-packages (from wandb) (6.0)\n",
            "Requirement already satisfied: promise<3,>=2.0 in /usr/local/lib/python3.7/dist-packages (from wandb) (2.3)\n",
            "Requirement already satisfied: six>=1.13.0 in /usr/local/lib/python3.7/dist-packages (from wandb) (1.15.0)\n",
            "Requirement already satisfied: typing-extensions>=3.7.4.3 in /usr/local/lib/python3.7/dist-packages (from GitPython>=1.0.0->wandb) (4.1.1)\n",
            "Collecting gitdb<5,>=4.0.1\n",
            "  Downloading gitdb-4.0.9-py3-none-any.whl (63 kB)\n",
            "\u001b[K     |████████████████████████████████| 63 kB 2.0 MB/s \n",
            "\u001b[?25hCollecting smmap<6,>=3.0.1\n",
            "  Downloading smmap-5.0.0-py3-none-any.whl (24 kB)\n",
            "Collecting sentry-sdk>=1.0.0\n",
            "  Downloading sentry_sdk-1.10.0-py2.py3-none-any.whl (166 kB)\n",
            "\u001b[K     |████████████████████████████████| 166 kB 47.5 MB/s \n",
            "\u001b[?25h  Downloading sentry_sdk-1.9.10-py2.py3-none-any.whl (162 kB)\n",
            "\u001b[K     |████████████████████████████████| 162 kB 61.6 MB/s \n",
            "\u001b[?25h  Downloading sentry_sdk-1.9.9-py2.py3-none-any.whl (162 kB)\n",
            "\u001b[K     |████████████████████████████████| 162 kB 58.3 MB/s \n",
            "\u001b[?25h  Downloading sentry_sdk-1.9.8-py2.py3-none-any.whl (158 kB)\n",
            "\u001b[K     |████████████████████████████████| 158 kB 69.2 MB/s \n",
            "\u001b[?25h  Downloading sentry_sdk-1.9.7-py2.py3-none-any.whl (157 kB)\n",
            "\u001b[K     |████████████████████████████████| 157 kB 66.2 MB/s \n",
            "\u001b[?25h  Downloading sentry_sdk-1.9.6-py2.py3-none-any.whl (157 kB)\n",
            "\u001b[K     |████████████████████████████████| 157 kB 51.0 MB/s \n",
            "\u001b[?25h  Downloading sentry_sdk-1.9.5-py2.py3-none-any.whl (157 kB)\n",
            "\u001b[K     |████████████████████████████████| 157 kB 50.4 MB/s \n",
            "\u001b[?25h  Downloading sentry_sdk-1.9.4-py2.py3-none-any.whl (157 kB)\n",
            "\u001b[K     |████████████████████████████████| 157 kB 58.1 MB/s \n",
            "\u001b[?25h  Downloading sentry_sdk-1.9.3-py2.py3-none-any.whl (157 kB)\n",
            "\u001b[K     |████████████████████████████████| 157 kB 62.3 MB/s \n",
            "\u001b[?25h  Downloading sentry_sdk-1.9.2-py2.py3-none-any.whl (157 kB)\n",
            "\u001b[K     |████████████████████████████████| 157 kB 58.6 MB/s \n",
            "\u001b[?25h  Downloading sentry_sdk-1.9.1-py2.py3-none-any.whl (157 kB)\n",
            "\u001b[K     |████████████████████████████████| 157 kB 73.5 MB/s \n",
            "\u001b[?25h  Downloading sentry_sdk-1.9.0-py2.py3-none-any.whl (156 kB)\n",
            "\u001b[K     |████████████████████████████████| 156 kB 57.7 MB/s \n",
            "\u001b[?25hBuilding wheels for collected packages: pathtools\n",
            "  Building wheel for pathtools (setup.py) ... \u001b[?25l\u001b[?25hdone\n",
            "  Created wheel for pathtools: filename=pathtools-0.1.2-py3-none-any.whl size=8806 sha256=b8da429be53a36c55f35a3467ee56759b17a32d3b0cbd3d1b5674c732dd28da6\n",
            "  Stored in directory: /root/.cache/pip/wheels/3e/31/09/fa59cef12cdcfecc627b3d24273699f390e71828921b2cbba2\n",
            "Successfully built pathtools\n",
            "Installing collected packages: smmap, gitdb, shortuuid, setproctitle, sentry-sdk, psutil, pathtools, GitPython, docker-pycreds, wandb, dgl\n",
            "  Attempting uninstall: psutil\n",
            "    Found existing installation: psutil 5.4.8\n",
            "    Uninstalling psutil-5.4.8:\n",
            "      Successfully uninstalled psutil-5.4.8\n",
            "Successfully installed GitPython-3.1.29 dgl-0.9.1 docker-pycreds-0.4.0 gitdb-4.0.9 pathtools-0.1.2 psutil-5.9.3 sentry-sdk-1.9.0 setproctitle-1.3.2 shortuuid-1.0.9 smmap-5.0.0 wandb-0.13.4\n"
          ]
        },
        {
          "output_type": "display_data",
          "data": {
            "application/vnd.colab-display-data+json": {
              "pip_warning": {
                "packages": [
                  "psutil"
                ]
              }
            }
          },
          "metadata": {}
        }
      ]
    },
    {
      "cell_type": "code",
      "source": [
        "%env DGLBACKEND=pytorch"
      ],
      "metadata": {
        "colab": {
          "base_uri": "https://localhost:8080/"
        },
        "id": "w96ReVNpwHTY",
        "outputId": "90736cf6-bfb2-4eeb-b25b-cd49b98e725c"
      },
      "execution_count": 11,
      "outputs": [
        {
          "output_type": "stream",
          "name": "stdout",
          "text": [
            "env: DGLBACKEND=pytorch\n"
          ]
        }
      ]
    },
    {
      "cell_type": "code",
      "source": [
        "import os\n",
        "import json\n",
        "import jsonlines\n",
        "import numpy as np\n",
        "import torch\n",
        "import dgl\n",
        "\n",
        "import wandb\n",
        "import IPython.display as ipd"
      ],
      "metadata": {
        "id": "yp52MLR1mdxA"
      },
      "execution_count": 12,
      "outputs": []
    },
    {
      "cell_type": "code",
      "source": [
        "u2i = {}\n",
        "\n",
        "follow_src = []\n",
        "follow_dst = []\n",
        "with jsonlines.open(base_dir/\"followers.jsonl\") as reader:\n",
        "    for line in reader:\n",
        "        v = line[\"user_id\"]\n",
        "        if v not in u2i:\n",
        "            u2i[v] = len(u2i)\n",
        "        for u in line[\"followers\"]:\n",
        "            if u not in u2i:\n",
        "                u2i[u] = len(u2i)\n",
        "            follow_src.append(u2i[u])\n",
        "            follow_dst.append(u2i[v])"
      ],
      "metadata": {
        "id": "h3XOCaEwoMvx"
      },
      "execution_count": 13,
      "outputs": []
    },
    {
      "cell_type": "code",
      "source": [
        "with jsonlines.open(base_dir/\"following.jsonl\") as reader:\n",
        "    for line in reader:\n",
        "        u = line[\"user_id\"]\n",
        "        if u not in u2i:\n",
        "            u2i[u] = len(u2i)\n",
        "        for v in line[\"following\"]:\n",
        "            if v not in u2i:\n",
        "                u2i[v] = len(u2i)\n",
        "            follow_src.append(u2i[u])\n",
        "            follow_dst.append(u2i[v])"
      ],
      "metadata": {
        "id": "sWJFoJ_4oMvz"
      },
      "execution_count": 14,
      "outputs": []
    },
    {
      "cell_type": "code",
      "source": [
        "tweet_src = []\n",
        "tweet_dst = []\n",
        "\n",
        "for v, l in users_tweeted.iteritems():\n",
        "    if not len(l):\n",
        "        continue\n",
        "    for u in l:\n",
        "        u = int(u)\n",
        "        if u in u2i:\n",
        "            tweet_src.append(u2i[u])\n",
        "            tweet_dst.append(v)"
      ],
      "metadata": {
        "id": "DWM9MEXDpiyX"
      },
      "execution_count": 15,
      "outputs": []
    },
    {
      "cell_type": "code",
      "source": [
        "text_embs = np.load(base_dir/f'{dataset_id}_{text_embeddings}_fulltext_embeddings.npy')\n",
        "text_embs.shape"
      ],
      "metadata": {
        "id": "CxkWUv799WnY",
        "colab": {
          "base_uri": "https://localhost:8080/"
        },
        "outputId": "8ad8a0bb-1023-48f0-b3c7-b5127cd983c9"
      },
      "execution_count": 16,
      "outputs": [
        {
          "output_type": "execute_result",
          "data": {
            "text/plain": [
              "(19968, 300)"
            ]
          },
          "metadata": {},
          "execution_count": 16
        }
      ]
    },
    {
      "cell_type": "code",
      "source": [
        "num_users = len(set(follow_src+follow_dst+tweet_src))"
      ],
      "metadata": {
        "id": "CWYAnXYALbwo"
      },
      "execution_count": 17,
      "outputs": []
    },
    {
      "cell_type": "code",
      "source": [
        "follow_src = torch.tensor(follow_src)\n",
        "follow_dst = torch.tensor(follow_dst)\n",
        "tweet_src = torch.tensor(tweet_src)\n",
        "tweet_dst = torch.tensor(tweet_dst)\n",
        "\n",
        "graph = dgl.heterograph({\n",
        "    ('user', 'follow', 'user'): (follow_src, follow_dst),\n",
        "    ('user', 'followed-by', 'user'): (follow_dst, follow_src),\n",
        "    ('user', 'tweet', 'article'): (tweet_src, tweet_dst),\n",
        "    ('article', 'tweeted-by', 'user'): (tweet_dst, tweet_src)},\n",
        "    {'article':len(df), 'user':num_users}\n",
        ")\n",
        "\n",
        "graph.nodes['user'].data['feat'] = torch.arange(graph.num_nodes('user'))\n",
        "graph.nodes['article'].data['feat'] = torch.tensor(text_embs)\n",
        "graph.nodes['article'].data['label'] = torch.tensor((df.label==\"real\").to_numpy()).long()"
      ],
      "metadata": {
        "id": "0o-_TVpQ2Ag8"
      },
      "execution_count": 18,
      "outputs": []
    },
    {
      "cell_type": "code",
      "source": [
        "graph"
      ],
      "metadata": {
        "colab": {
          "base_uri": "https://localhost:8080/"
        },
        "id": "o_gsQ0ELzwpN",
        "outputId": "af084f09-8d31-43f4-a6de-09722134bfb1"
      },
      "execution_count": 19,
      "outputs": [
        {
          "output_type": "execute_result",
          "data": {
            "text/plain": [
              "Graph(num_nodes={'article': 19968, 'user': 31792},\n",
              "      num_edges={('article', 'tweeted-by', 'user'): 588, ('user', 'follow', 'user'): 48409, ('user', 'followed-by', 'user'): 48409, ('user', 'tweet', 'article'): 588},\n",
              "      metagraph=[('article', 'user', 'tweeted-by'), ('user', 'user', 'follow'), ('user', 'user', 'followed-by'), ('user', 'article', 'tweet')])"
            ]
          },
          "metadata": {},
          "execution_count": 19
        }
      ]
    },
    {
      "cell_type": "code",
      "source": [
        "from sklearn.model_selection import StratifiedKFold\n",
        "\n",
        "skf = StratifiedKFold(shuffle=True, random_state=124)"
      ],
      "metadata": {
        "id": "_wR6tgjekCGZ"
      },
      "execution_count": 20,
      "outputs": []
    },
    {
      "cell_type": "code",
      "source": [
        "labels = graph.ndata['label']['article']\n",
        "\n",
        "train_idx, valid_idx = next(skf.split(labels, labels))"
      ],
      "metadata": {
        "id": "vUYRWGCqkNJw"
      },
      "execution_count": 21,
      "outputs": []
    },
    {
      "cell_type": "code",
      "source": [
        "device = torch.device('cuda' if torch.cuda.is_available() else 'cpu')"
      ],
      "metadata": {
        "id": "bz8FvZRmkrFt"
      },
      "execution_count": 22,
      "outputs": []
    },
    {
      "cell_type": "code",
      "source": [
        "n_layers = 3\n",
        "n_neighbors = 10"
      ],
      "metadata": {
        "id": "wNxxuCrpVGUN"
      },
      "execution_count": 23,
      "outputs": []
    },
    {
      "cell_type": "code",
      "source": [
        "sampler = dgl.dataloading.NeighborSampler([n_neighbors]*n_layers)\n",
        "train_loader = dgl.dataloading.DataLoader(\n",
        "    graph,\n",
        "    {'article':train_idx},\n",
        "    sampler,\n",
        "    device=device,\n",
        "    batch_size=64,\n",
        "    shuffle=True,\n",
        "    drop_last=False,\n",
        "    num_workers=0\n",
        ")"
      ],
      "metadata": {
        "id": "9lWNOaTwj86U"
      },
      "execution_count": 24,
      "outputs": []
    },
    {
      "cell_type": "code",
      "source": [
        "eval_sampler = dgl.dataloading.NeighborSampler([-1]*n_layers)\n",
        "eval_loader = dgl.dataloading.DataLoader(\n",
        "    graph,\n",
        "    {'article':valid_idx},\n",
        "    eval_sampler,\n",
        "    device=device,\n",
        "    batch_size=64,\n",
        "    shuffle=False,\n",
        "    drop_last=False,\n",
        "    num_workers=0\n",
        ")"
      ],
      "metadata": {
        "id": "2P7O9wNi1GXS"
      },
      "execution_count": 25,
      "outputs": []
    },
    {
      "cell_type": "code",
      "source": [
        "batch = next(iter(train_loader))"
      ],
      "metadata": {
        "colab": {
          "base_uri": "https://localhost:8080/"
        },
        "id": "XKlDjmxnkvaT",
        "outputId": "4b2d8786-7d1d-4091-932d-20af81096eea"
      },
      "execution_count": 26,
      "outputs": [
        {
          "output_type": "stream",
          "name": "stderr",
          "text": [
            "/usr/local/lib/python3.7/dist-packages/dgl/dataloading/dataloader.py:859: DGLWarning: Dataloader CPU affinity opt is not enabled, consider switching it on (see enable_cpu_affinity() or CPU best practices for DGL [https://docs.dgl.ai/tutorials/cpu/cpu_best_practises.html])\n",
            "  dgl_warning(f'Dataloader CPU affinity opt is not enabled, consider switching it on '\n"
          ]
        }
      ]
    },
    {
      "cell_type": "markdown",
      "source": [
        "### Model"
      ],
      "metadata": {
        "id": "a_NnqbhIvgQm"
      }
    },
    {
      "cell_type": "code",
      "source": [
        "from collections import defaultdict\n",
        "import torch.nn as nn\n",
        "import torch.nn.functional as F\n",
        "\n",
        "d_emb_dict = defaultdict(lambda: 64)\n",
        "\n",
        "def flatten_dict(d):\n",
        "    for k, v in d.items():\n",
        "        d[k] = v.flatten(1)\n",
        "    return d"
      ],
      "metadata": {
        "id": "oSGL7euSjzR-"
      },
      "execution_count": 27,
      "outputs": []
    },
    {
      "cell_type": "code",
      "source": [
        "class NodeEmbedding(nn.Module):\n",
        "    \"\"\"\n",
        "    Node embedding layer. Handles input node features of varying dimentionality.\n",
        "    \n",
        "    Parameters:\n",
        "    - n_nodes: dict[str,int] - a dictionary containing number of nodes per type\n",
        "    for id only nodes (without precmputed features)\n",
        "    - d_in: dict[str,int] - a dictionary mapping node type to the node feature dim\n",
        "    for nodes with precomputed vector features\n",
        "    - d_emb: int - size of output feature vector for all node types\n",
        "    - proj_nodes: list[str] - optional list of node types with vector features to be\n",
        "    processed with linear projection. If None keys of `d_in` are used\n",
        "    - embed_nodes: list[str] - optional list of node types without vector features to be\n",
        "    processed with embedding layer. If None keys of `n_nnodes` are used\n",
        "\n",
        "    Inputs:\n",
        "    - nx - dict[str,Tensor] - dictionary containing input node features per node type\n",
        "\n",
        "    Outputs:\n",
        "    - out - dict[str, Tensor] - dictionary of node embedding tensors of shape [bs, d_emb]\n",
        "    \"\"\"\n",
        "    def __init__(self, n_nodes:dict, d_in:dict, d_emb:int, proj_nodes:list=None, embed_nodes:list=None):\n",
        "        super().__init__()\n",
        "        self.proj_nodes = proj_nodes if proj_nodes is not None else list(d_in.keys())\n",
        "        self.embed_nodes = embed_nodes if embed_nodes is not None else list(n_nodes.keys())\n",
        "        self.emb = nn.ModuleDict({k:nn.Embedding(n_nodes[k], d_emb) for k in self.embed_nodes})\n",
        "        self.proj = nn.ModuleDict({k:nn.Linear(d_in[k], d_emb, bias=False) for k in self.proj_nodes})\n",
        "        self.init()\n",
        "\n",
        "    def forward(self, nx):\n",
        "        out = {}\n",
        "        for k, m  in self.emb.items():\n",
        "            out[k] = m(nx[k])\n",
        "        for k, m  in self.proj.items():\n",
        "            out[k] = m(nx[k])\n",
        "        return out\n",
        "\n",
        "    def init(self):\n",
        "        for _, m in self.emb.items():\n",
        "            torch.nn.init.xavier_uniform_(m.weight)\n",
        "        for _, m in self.proj.items():\n",
        "            torch.nn.init.xavier_uniform_(m.weight)"
      ],
      "metadata": {
        "id": "YGqNa5UVgfio"
      },
      "execution_count": 28,
      "outputs": []
    },
    {
      "cell_type": "code",
      "source": [
        "class Residual(nn.Module):\n",
        "    \"\"\"\n",
        "    Residual connection. Computes output node features as:\n",
        "    x_out_dst = GraphConv(graph, x_in_all) + x_in_dst\n",
        "    \"\"\"\n",
        "    def __init__(self, conv):\n",
        "        super().__init__()\n",
        "        self.conv = conv\n",
        "\n",
        "    def forward(self, graph, x):\n",
        "        h = self.conv(graph, x)\n",
        "        res = x[1]\n",
        "        return h + res"
      ],
      "metadata": {
        "id": "vN3hV1uAv1L2"
      },
      "execution_count": 29,
      "outputs": []
    },
    {
      "cell_type": "code",
      "source": [
        "in_proj = NodeEmbedding({k:graph.num_nodes(k) for k in [\"user\"]}, {\"article\":text_embs.shape[1]}, 64)\n",
        "conv = dgl.nn.HeteroGraphConv({rel:Residual(dgl.nn.GraphConv(64, 64, allow_zero_in_degree=True)) for rel in graph.etypes})"
      ],
      "metadata": {
        "id": "yc-vcrjpw-6T"
      },
      "execution_count": 30,
      "outputs": []
    },
    {
      "cell_type": "code",
      "source": [
        "blocks = batch[-1]\n",
        "block = blocks[0]\n",
        "x = block.ndata['feat']\n",
        "\n",
        "with torch.no_grad():\n",
        "    h = in_proj(x)\n",
        "    res = conv(block, h)"
      ],
      "metadata": {
        "id": "uKQd2Wn3xDSn"
      },
      "execution_count": 31,
      "outputs": []
    },
    {
      "cell_type": "code",
      "source": [
        "res['article'].shape, res['user'].shape"
      ],
      "metadata": {
        "colab": {
          "base_uri": "https://localhost:8080/"
        },
        "id": "dEYSQp_oyewZ",
        "outputId": "532fdae5-b2c8-439f-ef5a-2b60824dfa19"
      },
      "execution_count": 32,
      "outputs": [
        {
          "output_type": "execute_result",
          "data": {
            "text/plain": [
              "(torch.Size([64, 64]), torch.Size([0, 64]))"
            ]
          },
          "metadata": {},
          "execution_count": 32
        }
      ]
    },
    {
      "cell_type": "code",
      "source": [
        "class Encoder(torch.nn.Module):\n",
        "    \"\"\"\n",
        "    Encoder for heterogenous graph using GCN layer.\n",
        "    \"\"\"\n",
        "    def __init__(self, d_in, d_h, etypes, n_layers=2, dropout=0.0):\n",
        "        super().__init__()\n",
        "        ds = [d_in] + [d_h] * n_layers\n",
        "        self.layers = nn.ModuleList([\n",
        "            dgl.nn.HeteroGraphConv({\n",
        "                rel : Residual(dgl.nn.GraphConv(ds[i], ds[i+1], allow_zero_in_degree=True)) for rel in etypes\n",
        "            }) for i in range(n_layers)\n",
        "        ])\n",
        "\n",
        "    def forward(self, blocks, x):\n",
        "        \n",
        "        for layer, block in zip(self.layers, blocks):\n",
        "            x = layer(block, x)\n",
        "        return x"
      ],
      "metadata": {
        "id": "bceu2k_-OgIG"
      },
      "execution_count": 33,
      "outputs": []
    },
    {
      "cell_type": "code",
      "source": [
        "graph.ndata['feat']['article'].shape"
      ],
      "metadata": {
        "colab": {
          "base_uri": "https://localhost:8080/"
        },
        "id": "9tfx9M1N37yc",
        "outputId": "c69af8ed-f1ce-4500-e29b-f5c07fdd8784"
      },
      "execution_count": 34,
      "outputs": [
        {
          "output_type": "execute_result",
          "data": {
            "text/plain": [
              "torch.Size([19968, 300])"
            ]
          },
          "metadata": {},
          "execution_count": 34
        }
      ]
    },
    {
      "cell_type": "code",
      "source": [
        "class GNN(nn.Module):\n",
        "    \n",
        "    def __init__(self, g, d_h:int, n_layers:int, tgt_ntype:str, emb_nodes:list=['user'], proj_nodes:list=['article']):\n",
        "        super().__init__()\n",
        "        self.tgt_ntype = tgt_ntype\n",
        "        self.in_proj = NodeEmbedding(\n",
        "            {k:g.num_nodes(k) for k in emb_nodes}, \n",
        "            {k:graph.ndata['feat'][k].shape[1] for k in proj_nodes},\n",
        "            d_h\n",
        "        )\n",
        "        self.encoder = Encoder(d_h, d_h, g.etypes)\n",
        "        self.head = nn.Linear(d_h, 2)\n",
        "\n",
        "    def forward(self, blocks, x):\n",
        "        h = self.in_proj(x)\n",
        "        h = self.encoder(blocks, h)\n",
        "        return self.head(h[self.tgt_ntype])\n",
        "\n",
        "    @torch.no_grad()\n",
        "    def get_embeddings(self, graph, x):\n",
        "        h = self.emb(x)\n",
        "        h = self.encoder(graph, h)\n",
        "        return h[self.tgt_ntype]"
      ],
      "metadata": {
        "id": "hFfx0YmfXoom"
      },
      "execution_count": 35,
      "outputs": []
    },
    {
      "cell_type": "code",
      "source": [
        "model = GNN(graph, 128, n_layers, 'article')\n",
        "\n",
        "with torch.no_grad():\n",
        "    logits = model(blocks, x)"
      ],
      "metadata": {
        "id": "wFkuDQQgd3-v"
      },
      "execution_count": 36,
      "outputs": []
    },
    {
      "cell_type": "code",
      "source": [
        "logits.shape"
      ],
      "metadata": {
        "colab": {
          "base_uri": "https://localhost:8080/"
        },
        "id": "yhjU0-N1zShT",
        "outputId": "bc8b6f24-c941-45d2-ad2d-33dfed84a4a2"
      },
      "execution_count": 37,
      "outputs": [
        {
          "output_type": "execute_result",
          "data": {
            "text/plain": [
              "torch.Size([64, 2])"
            ]
          },
          "metadata": {},
          "execution_count": 37
        }
      ]
    },
    {
      "cell_type": "code",
      "source": [
        "def accuracy(logits, labels):\n",
        "    return (logits.argmax(-1) == labels).float().mean()"
      ],
      "metadata": {
        "id": "BunQmwFY8Xso"
      },
      "execution_count": 38,
      "outputs": []
    },
    {
      "cell_type": "code",
      "source": [
        "from sklearn.model_selection import StratifiedKFold\n",
        "\n",
        "skf = StratifiedKFold(shuffle=True, random_state=124)"
      ],
      "metadata": {
        "id": "faEjToOWbAQl"
      },
      "execution_count": 39,
      "outputs": []
    },
    {
      "cell_type": "code",
      "source": [
        "from sklearn.metrics import accuracy_score, f1_score, precision_score, recall_score\n",
        "\n",
        "metrics = [accuracy_score, f1_score, precision_score, recall_score]\n",
        "def get_name(score_func):\n",
        "    return score_func.__name__.split(\"_\")[0]"
      ],
      "metadata": {
        "id": "1vjIXm2wM6_T"
      },
      "execution_count": 40,
      "outputs": []
    },
    {
      "cell_type": "code",
      "source": [
        "class AverageMeter:\n",
        "\n",
        "    def __init__(self, store_vals=False, store_avgs=False):\n",
        "        self.store_vals = store_vals\n",
        "        self.store_avgs = store_avgs\n",
        "        if store_vals: self.values = []\n",
        "        if store_avgs: self.avgs = []\n",
        "        self.tot, self.n = 0, 0\n",
        "\n",
        "    def update(self, v, n=1):\n",
        "        if self.store_vals: self.values.append(v)\n",
        "        self.n += n\n",
        "        self.tot += v*n\n",
        "\n",
        "    @property\n",
        "    def avg(self):\n",
        "        if self.n == 0:\n",
        "            return\n",
        "        return self.tot / self.n\n",
        "\n",
        "    def reset(self):\n",
        "        if self.store_avgs and self.avg: self.avgs.append(self.avg)\n",
        "        self.tot, self.n = 0, 0"
      ],
      "metadata": {
        "id": "S40fYMCU7nzh"
      },
      "execution_count": 41,
      "outputs": []
    },
    {
      "cell_type": "code",
      "source": [
        "class_weights = torch.tensor([1/(labels==0).sum(), 1/(labels==1).sum()])*len(labels)"
      ],
      "metadata": {
        "id": "tCjiRKIjXdd2"
      },
      "execution_count": 42,
      "outputs": []
    },
    {
      "cell_type": "code",
      "source": [
        "def train(fold, train_idx, valid_idx, params):\n",
        "\n",
        "    model = GNN(graph, 128, n_layers, 'article')\n",
        "    opt = torch.optim.Adam(model.parameters(), params['lr'])\n",
        "    scheduler = torch.optim.lr_scheduler.ReduceLROnPlateau(\n",
        "        opt, factor=params[\"lr_sched_factor\"], patience=params[\"patience\"], verbose=True\n",
        "    )\n",
        "\n",
        "    train_loss = AverageMeter(store_avgs=True)\n",
        "    train_acc = AverageMeter(store_avgs=True)\n",
        "    valid_loss = AverageMeter(store_avgs=True)\n",
        "    valid_acc = AverageMeter(store_avgs=True)\n",
        "\n",
        "    best_acc = 0\n",
        "    for epoch in range(params['n_epochs']):\n",
        "        model.train()\n",
        "        for batch in train_loader:\n",
        "            blocks = batch[-1]\n",
        "            x = blocks[0].ndata['feat']\n",
        "            logits = model(blocks, x)\n",
        "            \n",
        "            labels = blocks[-1].dstdata['label']['article']\n",
        "            loss = F.cross_entropy(logits, labels, weight=class_weights)\n",
        "            acc = accuracy(logits, labels)\n",
        "            opt.zero_grad()\n",
        "            loss.backward()\n",
        "            opt.step()\n",
        "\n",
        "            train_loss.update(loss.item(), len(labels))\n",
        "            train_acc.update(acc, len(labels))\n",
        "\n",
        "        model.eval()\n",
        "        for i, batch in enumerate(eval_loader):\n",
        "            blocks = batch[-1]\n",
        "            x = blocks[0].ndata['feat']\n",
        "            with torch.no_grad():\n",
        "                logits = model(blocks, x)\n",
        "\n",
        "                labels = blocks[-1].dstdata['label']['article']\n",
        "                val_loss = F.cross_entropy(logits, labels, weight=class_weights)\n",
        "                val_acc = accuracy(logits, labels)\n",
        "\n",
        "                valid_loss.update(val_loss.item(), len(labels))\n",
        "                valid_acc.update(val_acc, len(labels))\n",
        "        \n",
        "        scheduler.step(valid_loss.avg)\n",
        "        wandb.log({'train_loss':loss.item(), 'train_acc':acc, 'valid_loss':val_loss.item(), 'valid_acc':val_acc}, step=epoch)\n",
        "        print(f\"{epoch+1:>3}: Train loss {train_loss.avg:.4f}, acc {train_acc.avg:.4f}%; validation loss {valid_loss.avg:.4f}, acc {valid_acc.avg:.4f}%\")\n",
        "        \n",
        "        if valid_acc.avg >= best_acc:\n",
        "            best_acc = valid_acc.avg\n",
        "            torch.save(model.state_dict(), f'models/model-{fold}.pt')\n",
        "        \n",
        "        train_loss.reset()\n",
        "        train_acc.reset()\n",
        "        valid_loss.reset()\n",
        "        valid_acc.reset()\n",
        "\n",
        "        \n",
        "\n",
        "    # load best model and evaluate\n",
        "    model.load_state_dict(torch.load(f'models/model-{fold}.pt'))\n",
        "    model.eval()\n",
        "    preds = []\n",
        "    targs = []\n",
        "    for i, batch in enumerate(eval_loader):\n",
        "        blocks = batch[-1]\n",
        "        x = blocks[0].ndata['feat']\n",
        "        with torch.no_grad():\n",
        "            logits = model(blocks, x)\n",
        "\n",
        "            labels = blocks[-1].dstdata['label']['article']\n",
        "            \n",
        "        preds.append(logits.argmax(-1).cpu().numpy())\n",
        "        targs.append(labels.cpu().numpy())\n",
        "    preds = np.concatenate(preds)\n",
        "    targs = np.concatenate(targs)\n",
        "    eval_results = {get_name(f):f(y_pred=preds, y_true=targs) for f in metrics}\n",
        "    print(\"Final evaluation results:\")\n",
        "    for k,v in eval_results.items():\n",
        "        print(f\"{k:<16}{v:.4f}\")\n",
        "    \n",
        "    wandb.log(eval_results)\n",
        "    wandb.log({\"conf_mat\" : wandb.plot.confusion_matrix(probs=None,\n",
        "                            y_true=targs, preds=preds,\n",
        "                            class_names=[\"Fake\", \"Real\"])})\n",
        "\n",
        "    return {\n",
        "        'train_loss':train_loss,\n",
        "        'train_acc':train_acc,\n",
        "        'valid_loss':valid_loss,\n",
        "        'valid_acc':valid_acc\n",
        "    }"
      ],
      "metadata": {
        "id": "4lvLwrItbAQp"
      },
      "execution_count": 43,
      "outputs": []
    },
    {
      "cell_type": "code",
      "source": [
        "#early stopping for if the last 10 epochs have average loss as compared to last 10 <= now. then we stop. IMPLEMENT, and run again. + track\n",
        "params = {\n",
        "    \"n_epochs\":200,\n",
        "    'bs': 32,\n",
        "    'lr':2e-3,\n",
        "    \"seed\":124,\n",
        "    \"lr_sched_factor\":0.5,\n",
        "    \"patience\":20\n",
        "}\n",
        "\n",
        "labels = graph.ndata['label']['article']"
      ],
      "metadata": {
        "id": "VWKvv1xebAQu"
      },
      "execution_count": 50,
      "outputs": []
    },
    {
      "cell_type": "code",
      "source": [
        "if not os.path.exists('models'):\n",
        "    os.mkdir('models')\n",
        "\n",
        "GROUP = \"FT-fulltext-gcn-L4eEB128P20updatedE200\"\n",
        "for fold_id, (train_idx, valid_idx) in enumerate(skf.split(labels, labels)):\n",
        "    ipd.clear_output()\n",
        "    with wandb.init(entity=\"saloniteam\", project=\"nofolds\", group=GROUP, name=f\"{GROUP}-fold-{fold_id}\") as run:\n",
        "        log = train(fold_id, train_idx, valid_idx, params)\n",
        "    break"
      ],
      "metadata": {
        "id": "7qBu9i1ebAQx",
        "colab": {
          "base_uri": "https://localhost:8080/",
          "height": 1000
        },
        "outputId": "9a479507-65bd-4ff4-8048-31ad639e0876"
      },
      "execution_count": 51,
      "outputs": [
        {
          "output_type": "display_data",
          "data": {
            "text/plain": [
              "<IPython.core.display.HTML object>"
            ],
            "text/html": [
              "Tracking run with wandb version 0.13.4"
            ]
          },
          "metadata": {}
        },
        {
          "output_type": "display_data",
          "data": {
            "text/plain": [
              "<IPython.core.display.HTML object>"
            ],
            "text/html": [
              "Run data is saved locally in <code>/content/wandb/run-20221102_230655-28qjh252</code>"
            ]
          },
          "metadata": {}
        },
        {
          "output_type": "display_data",
          "data": {
            "text/plain": [
              "<IPython.core.display.HTML object>"
            ],
            "text/html": [
              "Syncing run <strong><a href=\"https://wandb.ai/saloniteam/nofolds/runs/28qjh252\" target=\"_blank\">FT-fulltext-gcn-L4eEB128P20updatedE200-fold-0</a></strong> to <a href=\"https://wandb.ai/saloniteam/nofolds\" target=\"_blank\">Weights & Biases</a> (<a href=\"https://wandb.me/run\" target=\"_blank\">docs</a>)<br/>"
            ]
          },
          "metadata": {}
        },
        {
          "output_type": "stream",
          "name": "stderr",
          "text": [
            "/usr/local/lib/python3.7/dist-packages/dgl/dataloading/dataloader.py:859: DGLWarning: Dataloader CPU affinity opt is not enabled, consider switching it on (see enable_cpu_affinity() or CPU best practices for DGL [https://docs.dgl.ai/tutorials/cpu/cpu_best_practises.html])\n",
            "  dgl_warning(f'Dataloader CPU affinity opt is not enabled, consider switching it on '\n",
            "/usr/local/lib/python3.7/dist-packages/torch/amp/autocast_mode.py:198: UserWarning: User provided device_type of 'cuda', but CUDA is not available. Disabling\n",
            "  warnings.warn('User provided device_type of \\'cuda\\', but CUDA is not available. Disabling')\n"
          ]
        },
        {
          "output_type": "stream",
          "name": "stdout",
          "text": [
            "  1: Train loss 0.6009, acc 0.6929%; validation loss 0.5678, acc 0.7429%\n",
            "  2: Train loss 0.5368, acc 0.7520%; validation loss 0.5762, acc 0.7894%\n",
            "  3: Train loss 0.5242, acc 0.7678%; validation loss 0.5511, acc 0.7702%\n",
            "  4: Train loss 0.5210, acc 0.7741%; validation loss 0.5501, acc 0.7832%\n",
            "  5: Train loss 0.5150, acc 0.7733%; validation loss 0.5530, acc 0.7484%\n",
            "  6: Train loss 0.5041, acc 0.7772%; validation loss 0.5900, acc 0.7912%\n",
            "  7: Train loss 0.5070, acc 0.7808%; validation loss 0.5765, acc 0.8117%\n",
            "  8: Train loss 0.5081, acc 0.7774%; validation loss 0.5708, acc 0.8117%\n",
            "  9: Train loss 0.5003, acc 0.7806%; validation loss 0.5397, acc 0.7822%\n",
            " 10: Train loss 0.4997, acc 0.7815%; validation loss 0.5540, acc 0.7659%\n",
            " 11: Train loss 0.4970, acc 0.7837%; validation loss 0.6268, acc 0.8132%\n",
            " 12: Train loss 0.5005, acc 0.7816%; validation loss 0.5818, acc 0.7191%\n",
            " 13: Train loss 0.5034, acc 0.7827%; validation loss 0.5510, acc 0.7454%\n",
            " 14: Train loss 0.5046, acc 0.7815%; validation loss 0.5688, acc 0.7759%\n",
            " 15: Train loss 0.5025, acc 0.7799%; validation loss 0.5615, acc 0.7794%\n",
            " 16: Train loss 0.5013, acc 0.7858%; validation loss 0.5556, acc 0.7759%\n",
            " 17: Train loss 0.4975, acc 0.7851%; validation loss 0.6088, acc 0.7406%\n",
            " 18: Train loss 0.4946, acc 0.7857%; validation loss 0.5635, acc 0.7757%\n",
            " 19: Train loss 0.4985, acc 0.7840%; validation loss 0.5716, acc 0.7546%\n",
            " 20: Train loss 0.4941, acc 0.7853%; validation loss 0.6334, acc 0.7591%\n",
            " 21: Train loss 0.4939, acc 0.7873%; validation loss 0.5637, acc 0.8010%\n",
            " 22: Train loss 0.4964, acc 0.7810%; validation loss 0.6070, acc 0.8115%\n",
            " 23: Train loss 0.4916, acc 0.7877%; validation loss 0.5602, acc 0.7982%\n",
            " 24: Train loss 0.4956, acc 0.7835%; validation loss 0.5708, acc 0.7804%\n",
            " 25: Train loss 0.4949, acc 0.7828%; validation loss 0.6151, acc 0.8255%\n",
            " 26: Train loss 0.5070, acc 0.7836%; validation loss 0.6378, acc 0.7654%\n",
            " 27: Train loss 0.4947, acc 0.7842%; validation loss 0.5894, acc 0.7669%\n",
            " 28: Train loss 0.5007, acc 0.7826%; validation loss 0.5584, acc 0.8112%\n",
            " 29: Train loss 0.4923, acc 0.7871%; validation loss 0.5567, acc 0.7999%\n",
            "Epoch 00030: reducing learning rate of group 0 to 1.0000e-03.\n",
            " 30: Train loss 0.4913, acc 0.7880%; validation loss 0.5514, acc 0.7749%\n",
            " 31: Train loss 0.4848, acc 0.7930%; validation loss 0.5592, acc 0.7797%\n",
            " 32: Train loss 0.4853, acc 0.7908%; validation loss 0.5793, acc 0.7767%\n",
            " 33: Train loss 0.4842, acc 0.7896%; validation loss 0.5787, acc 0.7519%\n",
            " 34: Train loss 0.4828, acc 0.7897%; validation loss 0.5777, acc 0.7774%\n",
            " 35: Train loss 0.4826, acc 0.7920%; validation loss 0.5770, acc 0.7919%\n",
            " 36: Train loss 0.4856, acc 0.7911%; validation loss 0.5645, acc 0.7682%\n",
            " 37: Train loss 0.4830, acc 0.7894%; validation loss 0.5798, acc 0.7684%\n",
            " 38: Train loss 0.4830, acc 0.7897%; validation loss 0.5729, acc 0.7842%\n",
            " 39: Train loss 0.4828, acc 0.7882%; validation loss 0.5724, acc 0.7912%\n",
            " 40: Train loss 0.4839, acc 0.7924%; validation loss 0.5802, acc 0.7844%\n",
            " 41: Train loss 0.4846, acc 0.7878%; validation loss 0.5781, acc 0.7964%\n",
            " 42: Train loss 0.4833, acc 0.7906%; validation loss 0.5655, acc 0.7469%\n",
            " 43: Train loss 0.4832, acc 0.7920%; validation loss 0.5507, acc 0.7707%\n",
            " 44: Train loss 0.4826, acc 0.7900%; validation loss 0.5580, acc 0.7899%\n",
            " 45: Train loss 0.4833, acc 0.7913%; validation loss 0.5643, acc 0.7824%\n",
            " 46: Train loss 0.4838, acc 0.7910%; validation loss 0.5704, acc 0.8047%\n",
            " 47: Train loss 0.4822, acc 0.7912%; validation loss 0.5610, acc 0.7596%\n",
            " 48: Train loss 0.4825, acc 0.7903%; validation loss 0.5560, acc 0.8032%\n",
            " 49: Train loss 0.4814, acc 0.7927%; validation loss 0.5619, acc 0.7864%\n",
            " 50: Train loss 0.4830, acc 0.7911%; validation loss 0.5525, acc 0.7516%\n",
            "Epoch 00051: reducing learning rate of group 0 to 5.0000e-04.\n",
            " 51: Train loss 0.4834, acc 0.7935%; validation loss 0.5633, acc 0.7166%\n",
            " 52: Train loss 0.4804, acc 0.7921%; validation loss 0.5594, acc 0.7331%\n",
            " 53: Train loss 0.4795, acc 0.7932%; validation loss 0.5544, acc 0.7892%\n",
            " 54: Train loss 0.4791, acc 0.7953%; validation loss 0.5541, acc 0.7794%\n",
            " 55: Train loss 0.4800, acc 0.7937%; validation loss 0.5607, acc 0.7997%\n",
            " 56: Train loss 0.4796, acc 0.7960%; validation loss 0.5555, acc 0.7894%\n",
            " 57: Train loss 0.4783, acc 0.7945%; validation loss 0.5596, acc 0.7807%\n",
            " 58: Train loss 0.4792, acc 0.7922%; validation loss 0.5601, acc 0.7904%\n",
            " 59: Train loss 0.4798, acc 0.7922%; validation loss 0.5546, acc 0.7857%\n",
            " 60: Train loss 0.4799, acc 0.7926%; validation loss 0.5516, acc 0.7884%\n",
            " 61: Train loss 0.4790, acc 0.7927%; validation loss 0.5592, acc 0.7964%\n",
            " 62: Train loss 0.4787, acc 0.7969%; validation loss 0.5636, acc 0.7273%\n",
            " 63: Train loss 0.4799, acc 0.7903%; validation loss 0.5491, acc 0.7724%\n",
            " 64: Train loss 0.4784, acc 0.7942%; validation loss 0.5550, acc 0.7799%\n",
            " 65: Train loss 0.4778, acc 0.7958%; validation loss 0.5566, acc 0.7927%\n",
            " 66: Train loss 0.4797, acc 0.7944%; validation loss 0.5549, acc 0.7631%\n",
            " 67: Train loss 0.4782, acc 0.7935%; validation loss 0.5603, acc 0.7812%\n",
            " 68: Train loss 0.4795, acc 0.7949%; validation loss 0.5529, acc 0.7867%\n",
            " 69: Train loss 0.4787, acc 0.7905%; validation loss 0.5575, acc 0.7787%\n",
            " 70: Train loss 0.4785, acc 0.7933%; validation loss 0.5529, acc 0.7837%\n",
            " 71: Train loss 0.4784, acc 0.7949%; validation loss 0.5473, acc 0.7772%\n",
            "Epoch 00072: reducing learning rate of group 0 to 2.5000e-04.\n",
            " 72: Train loss 0.4786, acc 0.7942%; validation loss 0.5499, acc 0.7656%\n",
            " 73: Train loss 0.4773, acc 0.7939%; validation loss 0.5516, acc 0.7862%\n",
            " 74: Train loss 0.4777, acc 0.7949%; validation loss 0.5499, acc 0.7772%\n",
            " 75: Train loss 0.4781, acc 0.7937%; validation loss 0.5516, acc 0.7897%\n",
            " 76: Train loss 0.4774, acc 0.7937%; validation loss 0.5524, acc 0.7707%\n",
            " 77: Train loss 0.4770, acc 0.7953%; validation loss 0.5549, acc 0.7536%\n",
            " 78: Train loss 0.4772, acc 0.7921%; validation loss 0.5546, acc 0.7832%\n",
            " 79: Train loss 0.4764, acc 0.7950%; validation loss 0.5523, acc 0.7964%\n",
            " 80: Train loss 0.4760, acc 0.7943%; validation loss 0.5600, acc 0.7409%\n",
            " 81: Train loss 0.4769, acc 0.7935%; validation loss 0.5537, acc 0.7544%\n",
            " 82: Train loss 0.4772, acc 0.7928%; validation loss 0.5566, acc 0.7631%\n",
            " 83: Train loss 0.4770, acc 0.7948%; validation loss 0.5554, acc 0.7744%\n",
            " 84: Train loss 0.4774, acc 0.7950%; validation loss 0.5566, acc 0.7651%\n",
            " 85: Train loss 0.4767, acc 0.7937%; validation loss 0.5540, acc 0.7909%\n",
            " 86: Train loss 0.4764, acc 0.7954%; validation loss 0.5570, acc 0.7714%\n",
            " 87: Train loss 0.4762, acc 0.7937%; validation loss 0.5509, acc 0.7837%\n",
            " 88: Train loss 0.4771, acc 0.7938%; validation loss 0.5695, acc 0.7809%\n",
            " 89: Train loss 0.4781, acc 0.7941%; validation loss 0.5533, acc 0.7869%\n",
            " 90: Train loss 0.4771, acc 0.7970%; validation loss 0.5591, acc 0.7629%\n",
            " 91: Train loss 0.4767, acc 0.7937%; validation loss 0.5531, acc 0.7839%\n",
            " 92: Train loss 0.4771, acc 0.7944%; validation loss 0.5557, acc 0.7722%\n",
            "Epoch 00093: reducing learning rate of group 0 to 1.2500e-04.\n",
            " 93: Train loss 0.4770, acc 0.7946%; validation loss 0.5563, acc 0.7752%\n",
            " 94: Train loss 0.4757, acc 0.7942%; validation loss 0.5556, acc 0.7822%\n",
            " 95: Train loss 0.4763, acc 0.7943%; validation loss 0.5574, acc 0.7777%\n",
            " 96: Train loss 0.4765, acc 0.7946%; validation loss 0.5564, acc 0.7812%\n",
            " 97: Train loss 0.4765, acc 0.7951%; validation loss 0.5568, acc 0.7697%\n",
            " 98: Train loss 0.4757, acc 0.7949%; validation loss 0.5572, acc 0.7799%\n",
            " 99: Train loss 0.4754, acc 0.7955%; validation loss 0.5560, acc 0.7749%\n",
            "100: Train loss 0.4757, acc 0.7958%; validation loss 0.5550, acc 0.7774%\n",
            "101: Train loss 0.4768, acc 0.7937%; validation loss 0.5562, acc 0.7672%\n",
            "102: Train loss 0.4759, acc 0.7958%; validation loss 0.5575, acc 0.7621%\n",
            "103: Train loss 0.4765, acc 0.7927%; validation loss 0.5552, acc 0.7789%\n",
            "104: Train loss 0.4773, acc 0.7959%; validation loss 0.5606, acc 0.7817%\n",
            "105: Train loss 0.4768, acc 0.7945%; validation loss 0.5589, acc 0.7782%\n",
            "106: Train loss 0.4754, acc 0.7960%; validation loss 0.5576, acc 0.7809%\n",
            "107: Train loss 0.4755, acc 0.7965%; validation loss 0.5574, acc 0.7744%\n",
            "108: Train loss 0.4752, acc 0.7954%; validation loss 0.5599, acc 0.7767%\n",
            "109: Train loss 0.4762, acc 0.7935%; validation loss 0.5597, acc 0.7764%\n",
            "110: Train loss 0.4761, acc 0.7950%; validation loss 0.5586, acc 0.7742%\n",
            "111: Train loss 0.4771, acc 0.7949%; validation loss 0.5561, acc 0.7789%\n",
            "112: Train loss 0.4759, acc 0.7965%; validation loss 0.5577, acc 0.7817%\n",
            "113: Train loss 0.4764, acc 0.7966%; validation loss 0.5585, acc 0.7779%\n",
            "Epoch 00114: reducing learning rate of group 0 to 6.2500e-05.\n",
            "114: Train loss 0.4758, acc 0.7952%; validation loss 0.5563, acc 0.7787%\n",
            "115: Train loss 0.4757, acc 0.7941%; validation loss 0.5567, acc 0.7807%\n",
            "116: Train loss 0.4754, acc 0.7942%; validation loss 0.5573, acc 0.7827%\n",
            "117: Train loss 0.4755, acc 0.7942%; validation loss 0.5575, acc 0.7787%\n",
            "118: Train loss 0.4753, acc 0.7975%; validation loss 0.5576, acc 0.7767%\n",
            "119: Train loss 0.4747, acc 0.7950%; validation loss 0.5573, acc 0.7799%\n",
            "120: Train loss 0.4753, acc 0.7969%; validation loss 0.5574, acc 0.7734%\n",
            "121: Train loss 0.4752, acc 0.7965%; validation loss 0.5586, acc 0.7697%\n",
            "122: Train loss 0.4757, acc 0.7964%; validation loss 0.5608, acc 0.7747%\n",
            "123: Train loss 0.4754, acc 0.7958%; validation loss 0.5595, acc 0.7762%\n",
            "124: Train loss 0.4763, acc 0.7949%; validation loss 0.5587, acc 0.7794%\n",
            "125: Train loss 0.4759, acc 0.7972%; validation loss 0.5590, acc 0.7757%\n",
            "126: Train loss 0.4756, acc 0.7959%; validation loss 0.5590, acc 0.7844%\n",
            "127: Train loss 0.4758, acc 0.7955%; validation loss 0.5590, acc 0.7807%\n",
            "128: Train loss 0.4758, acc 0.7972%; validation loss 0.5598, acc 0.7729%\n",
            "129: Train loss 0.4759, acc 0.7955%; validation loss 0.5580, acc 0.7789%\n",
            "130: Train loss 0.4760, acc 0.7935%; validation loss 0.5575, acc 0.7794%\n",
            "131: Train loss 0.4757, acc 0.7977%; validation loss 0.5580, acc 0.7747%\n",
            "132: Train loss 0.4761, acc 0.7949%; validation loss 0.5580, acc 0.7789%\n",
            "133: Train loss 0.4749, acc 0.7935%; validation loss 0.5581, acc 0.7817%\n",
            "134: Train loss 0.4759, acc 0.7960%; validation loss 0.5590, acc 0.7792%\n",
            "Epoch 00135: reducing learning rate of group 0 to 3.1250e-05.\n",
            "135: Train loss 0.4757, acc 0.7946%; validation loss 0.5588, acc 0.7844%\n",
            "136: Train loss 0.4749, acc 0.7986%; validation loss 0.5589, acc 0.7792%\n",
            "137: Train loss 0.4759, acc 0.7941%; validation loss 0.5592, acc 0.7789%\n",
            "138: Train loss 0.4750, acc 0.7950%; validation loss 0.5591, acc 0.7814%\n",
            "139: Train loss 0.4757, acc 0.7965%; validation loss 0.5596, acc 0.7792%\n",
            "140: Train loss 0.4754, acc 0.7944%; validation loss 0.5593, acc 0.7789%\n",
            "141: Train loss 0.4745, acc 0.7970%; validation loss 0.5590, acc 0.7792%\n",
            "142: Train loss 0.4749, acc 0.7975%; validation loss 0.5595, acc 0.7754%\n",
            "143: Train loss 0.4752, acc 0.7952%; validation loss 0.5594, acc 0.7814%\n",
            "144: Train loss 0.4750, acc 0.7949%; validation loss 0.5595, acc 0.7812%\n",
            "145: Train loss 0.4757, acc 0.7956%; validation loss 0.5601, acc 0.7827%\n",
            "146: Train loss 0.4754, acc 0.7978%; validation loss 0.5620, acc 0.7787%\n",
            "147: Train loss 0.4752, acc 0.7950%; validation loss 0.5627, acc 0.7789%\n",
            "148: Train loss 0.4750, acc 0.7954%; validation loss 0.5625, acc 0.7787%\n",
            "149: Train loss 0.4753, acc 0.7971%; validation loss 0.5624, acc 0.7777%\n",
            "150: Train loss 0.4752, acc 0.7943%; validation loss 0.5623, acc 0.7787%\n",
            "151: Train loss 0.4755, acc 0.7970%; validation loss 0.5623, acc 0.7797%\n",
            "152: Train loss 0.4750, acc 0.7952%; validation loss 0.5626, acc 0.7759%\n",
            "153: Train loss 0.4752, acc 0.7965%; validation loss 0.5626, acc 0.7769%\n",
            "154: Train loss 0.4750, acc 0.7962%; validation loss 0.5623, acc 0.7792%\n",
            "155: Train loss 0.4751, acc 0.7954%; validation loss 0.5622, acc 0.7789%\n",
            "Epoch 00156: reducing learning rate of group 0 to 1.5625e-05.\n",
            "156: Train loss 0.4753, acc 0.7947%; validation loss 0.5617, acc 0.7824%\n",
            "157: Train loss 0.4748, acc 0.7982%; validation loss 0.5618, acc 0.7807%\n",
            "158: Train loss 0.4753, acc 0.7963%; validation loss 0.5621, acc 0.7787%\n",
            "159: Train loss 0.4752, acc 0.7967%; validation loss 0.5621, acc 0.7774%\n",
            "160: Train loss 0.4742, acc 0.7955%; validation loss 0.5620, acc 0.7792%\n",
            "161: Train loss 0.4754, acc 0.7960%; validation loss 0.5621, acc 0.7794%\n",
            "162: Train loss 0.4754, acc 0.7949%; validation loss 0.5625, acc 0.7794%\n",
            "163: Train loss 0.4749, acc 0.7960%; validation loss 0.5631, acc 0.7809%\n",
            "164: Train loss 0.4758, acc 0.7991%; validation loss 0.5630, acc 0.7769%\n",
            "165: Train loss 0.4759, acc 0.7937%; validation loss 0.5625, acc 0.7784%\n",
            "166: Train loss 0.4756, acc 0.7953%; validation loss 0.5626, acc 0.7784%\n",
            "167: Train loss 0.4756, acc 0.7969%; validation loss 0.5626, acc 0.7792%\n",
            "168: Train loss 0.4752, acc 0.7950%; validation loss 0.5629, acc 0.7789%\n",
            "169: Train loss 0.4751, acc 0.7947%; validation loss 0.5629, acc 0.7809%\n",
            "170: Train loss 0.4747, acc 0.7967%; validation loss 0.5632, acc 0.7789%\n",
            "171: Train loss 0.4755, acc 0.7947%; validation loss 0.5634, acc 0.7812%\n",
            "172: Train loss 0.4759, acc 0.7980%; validation loss 0.5629, acc 0.7784%\n",
            "173: Train loss 0.4761, acc 0.7957%; validation loss 0.5626, acc 0.7787%\n",
            "174: Train loss 0.4751, acc 0.7962%; validation loss 0.5624, acc 0.7809%\n",
            "175: Train loss 0.4755, acc 0.7957%; validation loss 0.5622, acc 0.7802%\n",
            "176: Train loss 0.4748, acc 0.7982%; validation loss 0.5624, acc 0.7789%\n",
            "Epoch 00177: reducing learning rate of group 0 to 7.8125e-06.\n",
            "177: Train loss 0.4755, acc 0.7984%; validation loss 0.5626, acc 0.7752%\n",
            "178: Train loss 0.4752, acc 0.7915%; validation loss 0.5623, acc 0.7787%\n",
            "179: Train loss 0.4750, acc 0.7954%; validation loss 0.5622, acc 0.7787%\n",
            "180: Train loss 0.4748, acc 0.7959%; validation loss 0.5622, acc 0.7787%\n",
            "181: Train loss 0.4749, acc 0.7968%; validation loss 0.5621, acc 0.7784%\n",
            "182: Train loss 0.4756, acc 0.7959%; validation loss 0.5621, acc 0.7782%\n",
            "183: Train loss 0.4751, acc 0.7975%; validation loss 0.5622, acc 0.7787%\n",
            "184: Train loss 0.4749, acc 0.7954%; validation loss 0.5622, acc 0.7787%\n",
            "185: Train loss 0.4756, acc 0.7957%; validation loss 0.5623, acc 0.7782%\n",
            "186: Train loss 0.4755, acc 0.7952%; validation loss 0.5623, acc 0.7784%\n",
            "187: Train loss 0.4760, acc 0.7960%; validation loss 0.5622, acc 0.7784%\n",
            "188: Train loss 0.4756, acc 0.7968%; validation loss 0.5622, acc 0.7787%\n",
            "189: Train loss 0.4752, acc 0.7959%; validation loss 0.5621, acc 0.7784%\n",
            "190: Train loss 0.4757, acc 0.7954%; validation loss 0.5621, acc 0.7784%\n",
            "191: Train loss 0.4748, acc 0.7970%; validation loss 0.5622, acc 0.7787%\n",
            "192: Train loss 0.4751, acc 0.7950%; validation loss 0.5621, acc 0.7782%\n",
            "193: Train loss 0.4753, acc 0.7958%; validation loss 0.5621, acc 0.7787%\n",
            "194: Train loss 0.4755, acc 0.7964%; validation loss 0.5621, acc 0.7784%\n",
            "195: Train loss 0.4758, acc 0.7957%; validation loss 0.5622, acc 0.7787%\n",
            "196: Train loss 0.4745, acc 0.7942%; validation loss 0.5623, acc 0.7784%\n",
            "197: Train loss 0.4745, acc 0.7956%; validation loss 0.5625, acc 0.7784%\n",
            "Epoch 00198: reducing learning rate of group 0 to 3.9063e-06.\n",
            "198: Train loss 0.4755, acc 0.7967%; validation loss 0.5625, acc 0.7784%\n",
            "199: Train loss 0.4739, acc 0.7959%; validation loss 0.5624, acc 0.7787%\n",
            "200: Train loss 0.4746, acc 0.7965%; validation loss 0.5623, acc 0.7784%\n",
            "Final evaluation results:\n",
            "accuracy        0.8255\n",
            "f1              0.8887\n",
            "precision       0.8760\n",
            "recall          0.9018\n"
          ]
        },
        {
          "output_type": "display_data",
          "data": {
            "text/plain": [
              "<IPython.core.display.HTML object>"
            ],
            "text/html": [
              "Waiting for W&B process to finish... <strong style=\"color:green\">(success).</strong>"
            ]
          },
          "metadata": {}
        },
        {
          "output_type": "display_data",
          "data": {
            "text/plain": [
              "<IPython.core.display.HTML object>"
            ],
            "text/html": [
              "<style>\n",
              "    table.wandb td:nth-child(1) { padding: 0 10px; text-align: left ; width: auto;} td:nth-child(2) {text-align: left ; width: 100%}\n",
              "    .wandb-row { display: flex; flex-direction: row; flex-wrap: wrap; justify-content: flex-start; width: 100% }\n",
              "    .wandb-col { display: flex; flex-direction: column; flex-basis: 100%; flex: 1; padding: 10px; }\n",
              "    </style>\n",
              "<div class=\"wandb-row\"><div class=\"wandb-col\"><h3>Run history:</h3><br/><table class=\"wandb\"><tr><td>accuracy</td><td>▁</td></tr><tr><td>f1</td><td>▁</td></tr><tr><td>precision</td><td>▁</td></tr><tr><td>recall</td><td>▁</td></tr><tr><td>train_acc</td><td>▄▅▃▃▆▂▅▅▅▅█▅▃▄▆▅▃▅▃▁▆▃▇▅▃▃▅▃▆▃█▅▃▇▂▅▃▃▆▄</td></tr><tr><td>train_loss</td><td>▆▄▅▅▃▆▆▅▂▄▁▃▅▆▃▅▄▄▅▅▅▅▁▆▇▆▆▄▃▆▁▃▇▆█▃▃▆▄▃</td></tr><tr><td>valid_acc</td><td>▄▄▁█▄▄▄▄▁▄▁█▁█▄█▄███▄███████████████████</td></tr><tr><td>valid_loss</td><td>▄▂▁▁▅█▄▃▃▂▂▂▂▁▁▂▂▂▂▂▂▂▂▂▂▂▂▂▂▂▂▂▂▂▂▂▂▂▂▂</td></tr></table><br/></div><div class=\"wandb-col\"><h3>Run summary:</h3><br/><table class=\"wandb\"><tr><td>accuracy</td><td>0.82549</td></tr><tr><td>f1</td><td>0.88871</td></tr><tr><td>precision</td><td>0.87598</td></tr><tr><td>recall</td><td>0.90181</td></tr><tr><td>train_acc</td><td>0.76316</td></tr><tr><td>train_loss</td><td>0.44435</td></tr><tr><td>valid_acc</td><td>0.92308</td></tr><tr><td>valid_loss</td><td>0.71854</td></tr></table><br/></div></div>"
            ]
          },
          "metadata": {}
        },
        {
          "output_type": "display_data",
          "data": {
            "text/plain": [
              "<IPython.core.display.HTML object>"
            ],
            "text/html": [
              "Synced <strong style=\"color:#cdcd00\">FT-fulltext-gcn-L4eEB128P20updatedE200-fold-0</strong>: <a href=\"https://wandb.ai/saloniteam/nofolds/runs/28qjh252\" target=\"_blank\">https://wandb.ai/saloniteam/nofolds/runs/28qjh252</a><br/>Synced 5 W&B file(s), 1 media file(s), 1 artifact file(s) and 0 other file(s)"
            ]
          },
          "metadata": {}
        },
        {
          "output_type": "display_data",
          "data": {
            "text/plain": [
              "<IPython.core.display.HTML object>"
            ],
            "text/html": [
              "Find logs at: <code>./wandb/run-20221102_230655-28qjh252/logs</code>"
            ]
          },
          "metadata": {}
        }
      ]
    },
    {
      "cell_type": "code",
      "source": [
        "model = GNN(graph, 128, n_layers, \"article\")\n",
        "\n",
        "model.load_state_dict(torch.load(f'models/model-{fold_id}.pt'))"
      ],
      "metadata": {
        "id": "wj6KA7GN5Q8s",
        "colab": {
          "base_uri": "https://localhost:8080/"
        },
        "outputId": "98cd5ee3-a0e8-4211-f188-ae832fdddc06"
      },
      "execution_count": 52,
      "outputs": [
        {
          "output_type": "execute_result",
          "data": {
            "text/plain": [
              "<All keys matched successfully>"
            ]
          },
          "metadata": {},
          "execution_count": 52
        }
      ]
    }
  ]
}