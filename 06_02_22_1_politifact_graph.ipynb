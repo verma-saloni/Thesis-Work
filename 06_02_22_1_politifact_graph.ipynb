{
  "nbformat": 4,
  "nbformat_minor": 0,
  "metadata": {
    "colab": {
      "name": "Copy of politifact_graph.ipynb",
      "provenance": [],
      "collapsed_sections": [
        "qbRXmgXCwoNj"
      ],
      "include_colab_link": true
    },
    "kernelspec": {
      "name": "python3",
      "display_name": "Python 3"
    },
    "language_info": {
      "name": "python"
    },
    "accelerator": "GPU"
  },
  "cells": [
    {
      "cell_type": "markdown",
      "metadata": {
        "id": "view-in-github",
        "colab_type": "text"
      },
      "source": [
        "<a href=\"https://colab.research.google.com/github/verma-saloni/Thesis-Work/blob/main/06_02_22_1_politifact_graph.ipynb\" target=\"_parent\"><img src=\"https://colab.research.google.com/assets/colab-badge.svg\" alt=\"Open In Colab\"/></a>"
      ]
    },
    {
      "cell_type": "code",
      "execution_count": 1,
      "metadata": {
        "id": "xpTeMbYZwmf7"
      },
      "outputs": [],
      "source": [
        "!pip -qq install jsonlines"
      ]
    },
    {
      "cell_type": "code",
      "source": [
        "from google.colab import drive\n",
        "drive.mount('/gdrive')\n",
        "\n",
        "from pathlib import Path\n",
        "base_dir = Path(\"/gdrive/MyDrive/Research FakeNews\")\n",
        "assert base_dir.exists()"
      ],
      "metadata": {
        "colab": {
          "base_uri": "https://localhost:8080/"
        },
        "id": "UxNEaltli8H_",
        "outputId": "2957bded-cf65-4a36-a1de-094272d67cdf"
      },
      "execution_count": 4,
      "outputs": [
        {
          "output_type": "stream",
          "name": "stdout",
          "text": [
            "Drive already mounted at /gdrive; to attempt to forcibly remount, call drive.mount(\"/gdrive\", force_remount=True).\n"
          ]
        }
      ]
    },
    {
      "cell_type": "markdown",
      "source": [
        "### Twt user graphs"
      ],
      "metadata": {
        "id": "60XHa2QqsF2p"
      }
    },
    {
      "cell_type": "code",
      "source": [
        "import networkx as nx\n",
        "import jsonlines"
      ],
      "metadata": {
        "id": "7lCdLfhNsEyM"
      },
      "execution_count": 5,
      "outputs": []
    },
    {
      "cell_type": "code",
      "source": [
        "graph = nx.DiGraph()"
      ],
      "metadata": {
        "id": "Q0vjdfpgsQJ_"
      },
      "execution_count": 6,
      "outputs": []
    },
    {
      "cell_type": "code",
      "source": [
        "with jsonlines.open(base_dir/\"followers.jsonl\") as reader:\n",
        "    for line in reader:\n",
        "        v = line[\"user_id\"]\n",
        "        for u in line[\"followers\"]:\n",
        "            graph.add_edge(u, v)"
      ],
      "metadata": {
        "id": "KnrRSt2Qsb6O"
      },
      "execution_count": 7,
      "outputs": []
    },
    {
      "cell_type": "code",
      "source": [
        "with jsonlines.open(base_dir/\"following.jsonl\") as reader:\n",
        "    for line in reader:\n",
        "        u = line[\"user_id\"]\n",
        "        for v in line[\"following\"]:\n",
        "            graph.add_edge(u, v)"
      ],
      "metadata": {
        "id": "Y7DLQ78as4pZ"
      },
      "execution_count": 8,
      "outputs": []
    },
    {
      "cell_type": "code",
      "source": [
        "graph.number_of_nodes(), graph.number_of_edges()"
      ],
      "metadata": {
        "colab": {
          "base_uri": "https://localhost:8080/"
        },
        "id": "MCN3DvNQtiJR",
        "outputId": "857f6f98-19d7-4518-af2d-c122fb927908"
      },
      "execution_count": 9,
      "outputs": [
        {
          "output_type": "execute_result",
          "data": {
            "text/plain": [
              "(31792, 48408)"
            ]
          },
          "metadata": {},
          "execution_count": 9
        }
      ]
    },
    {
      "cell_type": "code",
      "source": [
        "followed = [n for n in graph.nodes if graph.in_degree(n)>2]\n",
        "len(followed)"
      ],
      "metadata": {
        "colab": {
          "base_uri": "https://localhost:8080/"
        },
        "id": "v-x18_ZZulOd",
        "outputId": "ba1de754-d486-4eb8-a193-b7a4856274ab"
      },
      "execution_count": 10,
      "outputs": [
        {
          "output_type": "execute_result",
          "data": {
            "text/plain": [
              "444"
            ]
          },
          "metadata": {},
          "execution_count": 10
        }
      ]
    },
    {
      "cell_type": "code",
      "source": [
        "import random\n",
        "\n",
        "sample_nodes = random.sample(followed, 12)\n",
        "sg = graph.edge_subgraph(graph.in_edges(sample_nodes))\n",
        "sg.number_of_nodes(), sg.number_of_edges()"
      ],
      "metadata": {
        "id": "ytEH363Cu7e_",
        "colab": {
          "base_uri": "https://localhost:8080/"
        },
        "outputId": "19162729-73d7-461a-bfc7-f41c11e306ba"
      },
      "execution_count": 11,
      "outputs": [
        {
          "output_type": "execute_result",
          "data": {
            "text/plain": [
              "(277, 295)"
            ]
          },
          "metadata": {},
          "execution_count": 11
        }
      ]
    },
    {
      "cell_type": "code",
      "source": [
        "nx.draw(sg, node_size=100)"
      ],
      "metadata": {
        "colab": {
          "base_uri": "https://localhost:8080/",
          "height": 319
        },
        "id": "yYc34e6ts7PN",
        "outputId": "d2d800d4-2e08-4670-cf56-af3ccb0d0ee9"
      },
      "execution_count": 12,
      "outputs": [
        {
          "output_type": "display_data",
          "data": {
            "text/plain": [
              "<Figure size 432x288 with 1 Axes>"
            ],
            "image/png": "[encoded data removed]"
          },
          "metadata": {}
        }
      ]
    },
    {
      "cell_type": "markdown",
      "source": [
        "### Node embeddings"
      ],
      "metadata": {
        "id": "qbRXmgXCwoNj"
      }
    },
    {
      "cell_type": "code",
      "execution_count": 13,
      "metadata": {
        "colab": {
          "base_uri": "https://localhost:8080/"
        },
        "id": "28effea1-9db8-4c0f-b037-3df8dadbea17",
        "outputId": "75ab8a58-26d9-428d-b3d7-b1dcb82bb799"
      },
      "outputs": [
        {
          "output_type": "stream",
          "name": "stdout",
          "text": [
            "  Building wheel for csrgraph (setup.py) ... \u001b[?25l\u001b[?25hdone\n",
            "  Building wheel for nodevectors (setup.py) ... \u001b[?25l\u001b[?25hdone\n"
          ]
        }
      ],
      "source": [
        "!pip install -Uqq csrgraph nodevectors"
      ]
    },
    {
      "cell_type": "code",
      "source": [
        "import csrgraph as cg\n",
        "from nodevectors import Node2Vec"
      ],
      "metadata": {
        "id": "qvL85vFzr2XK"
      },
      "execution_count": 14,
      "outputs": []
    },
    {
      "cell_type": "markdown",
      "source": [
        "#### user vectors"
      ],
      "metadata": {
        "id": "odOQGulI-EeS"
      }
    },
    {
      "cell_type": "code",
      "source": [
        "n2v = Node2Vec(n_components=128, walklen=10, epochs=10)"
      ],
      "metadata": {
        "id": "RvlSsu6jvXS7"
      },
      "execution_count": 15,
      "outputs": []
    },
    {
      "cell_type": "code",
      "source": [
        "n2v.fit(graph)"
      ],
      "metadata": {
        "colab": {
          "base_uri": "https://localhost:8080/"
        },
        "id": "EHoiGFydwFMk",
        "outputId": "ed206cc3-9b1b-4a95-e699-b88288600ae4"
      },
      "execution_count": 16,
      "outputs": [
        {
          "output_type": "stream",
          "name": "stdout",
          "text": [
            "Making walks... "
          ]
        },
        {
          "output_type": "stream",
          "name": "stderr",
          "text": [
            "/usr/local/lib/python3.7/dist-packages/numba/np/ufunc/parallel.py:363: NumbaWarning: The TBB threading layer requires TBB version 2019.5 or later i.e., TBB_INTERFACE_VERSION >= 11005. Found TBB_INTERFACE_VERSION = 9107. The TBB threading layer is disabled.\n",
            "  warnings.warn(problem)\n"
          ]
        },
        {
          "output_type": "stream",
          "name": "stdout",
          "text": [
            "Done, T=5.92\n",
            "Mapping Walk Names... Done, T=7.59\n",
            "Training W2V... Done, T=85.29\n"
          ]
        }
      ]
    },
    {
      "cell_type": "code",
      "source": [
        "n2v.predict(followed[0])"
      ],
      "metadata": {
        "colab": {
          "base_uri": "https://localhost:8080/"
        },
        "id": "RicJpnXuwJhE",
        "outputId": "8410cea4-62db-4725-ee9e-95387c3ae81b"
      },
      "execution_count": 17,
      "outputs": [
        {
          "output_type": "execute_result",
          "data": {
            "text/plain": [
              "array([-0.3210578 ,  0.2977196 ,  0.02530045, -0.21652134,  0.66584814,\n",
              "       -0.4857633 ,  0.12877865, -0.29927382,  0.18828161, -0.01517442,\n",
              "        0.38133183,  0.17488751,  0.10081111,  0.10151371, -0.3901023 ,\n",
              "       -0.36948296, -0.24147302, -0.332107  , -0.08231729, -0.23206373,\n",
              "       -0.01775289, -0.42683464,  0.11484519,  0.17650656,  0.5648368 ,\n",
              "       -0.16711509,  0.11730637,  0.17879294, -0.20885095, -0.27297384,\n",
              "        0.38898176,  0.00705956,  0.29153633, -0.01887385,  0.07869825,\n",
              "        0.11850598,  0.02846884, -0.16514637, -0.04876052, -0.12203117,\n",
              "       -0.2551387 ,  0.17195281,  0.6121425 , -0.05087089,  0.3936567 ,\n",
              "       -0.164356  , -0.2698832 ,  0.21966821, -0.3628275 ,  0.22868349,\n",
              "       -0.50554824, -0.0197217 ,  0.01785222,  0.13041392, -0.15906458,\n",
              "        0.02536914, -0.03534173, -0.5589747 , -0.13531518,  0.11370206,\n",
              "        0.20676886, -0.01834246, -0.17744702, -0.23875318, -0.32210234,\n",
              "       -0.09974513,  0.08351851, -0.07787511,  0.04426044,  0.09819374,\n",
              "       -0.52721006, -0.08876424,  0.6024224 ,  0.26924667, -0.2305692 ,\n",
              "        0.17763855,  0.05427152, -0.41436172, -0.33865517,  0.41650057,\n",
              "        0.12773235, -0.08381994,  0.05227476,  0.38096613, -0.23459652,\n",
              "       -0.44385144, -0.39866662,  0.24996477, -0.45668417, -0.3977758 ,\n",
              "        0.30893758, -0.08291083, -0.38060698, -0.26190022, -0.42015085,\n",
              "        0.00766342,  0.04329366,  0.19418463,  0.13413009,  0.26712856,\n",
              "        0.12981234,  0.30564016, -0.01737041,  0.31367776,  0.01457253,\n",
              "        0.41331905, -0.03353142,  0.0473345 ,  0.04303908, -0.33017975,\n",
              "       -0.03806951, -0.02804212,  0.58304423,  0.3767252 ,  0.00956349,\n",
              "        0.26228905, -0.41474777,  0.3113211 , -0.17559253, -0.02318051,\n",
              "       -0.16861625, -0.21757926,  0.34828094, -0.17727764, -0.88976556,\n",
              "       -0.12752195,  0.13173895,  0.29695973], dtype=float32)"
            ]
          },
          "metadata": {},
          "execution_count": 17
        }
      ]
    },
    {
      "cell_type": "markdown",
      "source": [
        "## user-article graph"
      ],
      "metadata": {
        "id": "NHdG78wwVumY"
      }
    },
    {
      "cell_type": "code",
      "source": [
        "import pandas as pd\n",
        "import ast"
      ],
      "metadata": {
        "id": "7tPiW_FBWO8s"
      },
      "execution_count": 18,
      "outputs": []
    },
    {
      "cell_type": "code",
      "source": [
        "df = pd.read_csv(base_dir/'politifact_agg.csv', index_col=0)\n",
        "df.head(2)"
      ],
      "metadata": {
        "colab": {
          "base_uri": "https://localhost:8080/",
          "height": 112
        },
        "id": "0BsiweMKV3Kt",
        "outputId": "dc4f9042-0bf3-40ad-e786-9f5a41b073c2"
      },
      "execution_count": 19,
      "outputs": [
        {
          "output_type": "execute_result",
          "data": {
            "text/plain": [
              "                                               title text tweets  \\\n",
              "0   Actress Emma Stone ‘For the first time in his...  NaN     []   \n",
              "1   Breaking President Trump makes English the of...  NaN     []   \n",
              "\n",
              "                                            retweets label  url tweet_ids  \\\n",
              "0  ['1020554564334964741', '1020817527046197248',...  fake  NaN        []   \n",
              "1                                                 []  fake  NaN        []   \n",
              "\n",
              "   num_retweets  log_num_retweets  num_tweets  log_num_tweets  \n",
              "0          2911          7.976595           0             0.0  \n",
              "1             0          0.000000           0             0.0  "
            ],
            "text/html": [
              "\n",
              "  <div id=\"df-4f120374-df4f-455f-9058-b846310d17a6\">\n",
              "    <div class=\"colab-df-container\">\n",
              "      <div>\n",
              "<style scoped>\n",
              "    .dataframe tbody tr th:only-of-type {\n",
              "        vertical-align: middle;\n",
              "    }\n",
              "\n",
              "    .dataframe tbody tr th {\n",
              "        vertical-align: top;\n",
              "    }\n",
              "\n",
              "    .dataframe thead th {\n",
              "        text-align: right;\n",
              "    }\n",
              "</style>\n",
              "<table border=\"1\" class=\"dataframe\">\n",
              "  <thead>\n",
              "    <tr style=\"text-align: right;\">\n",
              "      <th></th>\n",
              "      <th>title</th>\n",
              "      <th>text</th>\n",
              "      <th>tweets</th>\n",
              "      <th>retweets</th>\n",
              "      <th>label</th>\n",
              "      <th>url</th>\n",
              "      <th>tweet_ids</th>\n",
              "      <th>num_retweets</th>\n",
              "      <th>log_num_retweets</th>\n",
              "      <th>num_tweets</th>\n",
              "      <th>log_num_tweets</th>\n",
              "    </tr>\n",
              "  </thead>\n",
              "  <tbody>\n",
              "    <tr>\n",
              "      <th>0</th>\n",
              "      <td>Actress Emma Stone ‘For the first time in his...</td>\n",
              "      <td>NaN</td>\n",
              "      <td>[]</td>\n",
              "      <td>['1020554564334964741', '1020817527046197248',...</td>\n",
              "      <td>fake</td>\n",
              "      <td>NaN</td>\n",
              "      <td>[]</td>\n",
              "      <td>2911</td>\n",
              "      <td>7.976595</td>\n",
              "      <td>0</td>\n",
              "      <td>0.0</td>\n",
              "    </tr>\n",
              "    <tr>\n",
              "      <th>1</th>\n",
              "      <td>Breaking President Trump makes English the of...</td>\n",
              "      <td>NaN</td>\n",
              "      <td>[]</td>\n",
              "      <td>[]</td>\n",
              "      <td>fake</td>\n",
              "      <td>NaN</td>\n",
              "      <td>[]</td>\n",
              "      <td>0</td>\n",
              "      <td>0.000000</td>\n",
              "      <td>0</td>\n",
              "      <td>0.0</td>\n",
              "    </tr>\n",
              "  </tbody>\n",
              "</table>\n",
              "</div>\n",
              "      <button class=\"colab-df-convert\" onclick=\"convertToInteractive('df-4f120374-df4f-455f-9058-b846310d17a6')\"\n",
              "              title=\"Convert this dataframe to an interactive table.\"\n",
              "              style=\"display:none;\">\n",
              "        \n",
              "  <svg xmlns=\"http://www.w3.org/2000/svg\" height=\"24px\"viewBox=\"0 0 24 24\"\n",
              "       width=\"24px\">\n",
              "    <path d=\"M0 0h24v24H0V0z\" fill=\"none\"/>\n",
              "    <path d=\"M18.56 5.44l.94 2.06.94-2.06 2.06-.94-2.06-.94-.94-2.06-.94 2.06-2.06.94zm-11 1L8.5 8.5l.94-2.06 2.06-.94-2.06-.94L8.5 2.5l-.94 2.06-2.06.94zm10 10l.94 2.06.94-2.06 2.06-.94-2.06-.94-.94-2.06-.94 2.06-2.06.94z\"/><path d=\"M17.41 7.96l-1.37-1.37c-.4-.4-.92-.59-1.43-.59-.52 0-1.04.2-1.43.59L10.3 9.45l-7.72 7.72c-.78.78-.78 2.05 0 2.83L4 21.41c.39.39.9.59 1.41.59.51 0 1.02-.2 1.41-.59l7.78-7.78 2.81-2.81c.8-.78.8-2.07 0-2.86zM5.41 20L4 18.59l7.72-7.72 1.47 1.35L5.41 20z\"/>\n",
              "  </svg>\n",
              "      </button>\n",
              "      \n",
              "  <style>\n",
              "    .colab-df-container {\n",
              "      display:flex;\n",
              "      flex-wrap:wrap;\n",
              "      gap: 12px;\n",
              "    }\n",
              "\n",
              "    .colab-df-convert {\n",
              "      background-color: #E8F0FE;\n",
              "      border: none;\n",
              "      border-radius: 50%;\n",
              "      cursor: pointer;\n",
              "      display: none;\n",
              "      fill: #1967D2;\n",
              "      height: 32px;\n",
              "      padding: 0 0 0 0;\n",
              "      width: 32px;\n",
              "    }\n",
              "\n",
              "    .colab-df-convert:hover {\n",
              "      background-color: #E2EBFA;\n",
              "      box-shadow: 0px 1px 2px rgba(60, 64, 67, 0.3), 0px 1px 3px 1px rgba(60, 64, 67, 0.15);\n",
              "      fill: #174EA6;\n",
              "    }\n",
              "\n",
              "    [theme=dark] .colab-df-convert {\n",
              "      background-color: #3B4455;\n",
              "      fill: #D2E3FC;\n",
              "    }\n",
              "\n",
              "    [theme=dark] .colab-df-convert:hover {\n",
              "      background-color: #434B5C;\n",
              "      box-shadow: 0px 1px 3px 1px rgba(0, 0, 0, 0.15);\n",
              "      filter: drop-shadow(0px 1px 2px rgba(0, 0, 0, 0.3));\n",
              "      fill: #FFFFFF;\n",
              "    }\n",
              "  </style>\n",
              "\n",
              "      <script>\n",
              "        const buttonEl =\n",
              "          document.querySelector('#df-4f120374-df4f-455f-9058-b846310d17a6 button.colab-df-convert');\n",
              "        buttonEl.style.display =\n",
              "          google.colab.kernel.accessAllowed ? 'block' : 'none';\n",
              "\n",
              "        async function convertToInteractive(key) {\n",
              "          const element = document.querySelector('#df-4f120374-df4f-455f-9058-b846310d17a6');\n",
              "          const dataTable =\n",
              "            await google.colab.kernel.invokeFunction('convertToInteractive',\n",
              "                                                     [key], {});\n",
              "          if (!dataTable) return;\n",
              "\n",
              "          const docLinkHtml = 'Like what you see? Visit the ' +\n",
              "            '<a target=\"_blank\" href=https://colab.research.google.com/notebooks/data_table.ipynb>data table notebook</a>'\n",
              "            + ' to learn more about interactive tables.';\n",
              "          element.innerHTML = '';\n",
              "          dataTable['output_type'] = 'display_data';\n",
              "          await google.colab.output.renderOutput(dataTable, element);\n",
              "          const docLink = document.createElement('div');\n",
              "          docLink.innerHTML = docLinkHtml;\n",
              "          element.appendChild(docLink);\n",
              "        }\n",
              "      </script>\n",
              "    </div>\n",
              "  </div>\n",
              "  "
            ]
          },
          "metadata": {},
          "execution_count": 19
        }
      ]
    },
    {
      "cell_type": "code",
      "source": [
        "df['tweets'] = df.tweets.map(ast.literal_eval)"
      ],
      "metadata": {
        "id": "cruZFCpNWRLb"
      },
      "execution_count": 20,
      "outputs": []
    },
    {
      "cell_type": "code",
      "source": [
        "# df[df.tweets.map(len) > 0]"
      ],
      "metadata": {
        "id": "FmEDMzaPWrT2"
      },
      "execution_count": 21,
      "outputs": []
    },
    {
      "cell_type": "code",
      "source": [
        "users_tweeted = df.tweets.map(lambda x: [int(e['user_id']) for e in x])"
      ],
      "metadata": {
        "id": "wH5i98HOWz1w"
      },
      "execution_count": 22,
      "outputs": []
    },
    {
      "cell_type": "code",
      "source": [
        "len(users_tweeted), sum(users_tweeted.map(len) > 0)"
      ],
      "metadata": {
        "colab": {
          "base_uri": "https://localhost:8080/"
        },
        "id": "exnDy-5ud_uJ",
        "outputId": "6d5c53d5-080c-48ff-d6c5-a5b63d422d5d"
      },
      "execution_count": 23,
      "outputs": [
        {
          "output_type": "execute_result",
          "data": {
            "text/plain": [
              "(894, 149)"
            ]
          },
          "metadata": {},
          "execution_count": 23
        }
      ]
    },
    {
      "cell_type": "code",
      "source": [
        "users_tweeted[users_tweeted.map(len) > 0]"
      ],
      "metadata": {
        "colab": {
          "base_uri": "https://localhost:8080/"
        },
        "id": "1RfPGb15XgKE",
        "outputId": "4c61c473-4525-4178-94e5-1fb4d1a7a1c4"
      },
      "execution_count": 24,
      "outputs": [
        {
          "output_type": "execute_result",
          "data": {
            "text/plain": [
              "8      [1191949489, 51600575, 2984014208, 15496777, 4...\n",
              "10     [24636033, 22473015, 129262130, 181289232, 181...\n",
              "11     [490975378, 116344653, 79423345, 53347857, 842...\n",
              "12     [586165566, 393939273, 891366735064039425, 991...\n",
              "14     [886818711105138688, 172947702, 993606350, 428...\n",
              "                             ...                        \n",
              "875    [14378429, 3187248602, 484966779, 950864702669...\n",
              "880    [2236833270, 22250210, 54835665, 347507710, 45...\n",
              "884    [2582795785, 736847516537368576, 7769521655752...\n",
              "887    [348175292, 810185480469880833, 84976273735388...\n",
              "893    [747513995096055808, 19086760, 27623387, 12455...\n",
              "Name: tweets, Length: 149, dtype: object"
            ]
          },
          "metadata": {},
          "execution_count": 24
        }
      ]
    },
    {
      "cell_type": "code",
      "source": [
        "unique_users = set()\n",
        "for e in users_tweeted:\n",
        "    unique_users.update(set(e))\n",
        "\n",
        "len(unique_users)"
      ],
      "metadata": {
        "colab": {
          "base_uri": "https://localhost:8080/"
        },
        "id": "fUjaXHhFYIMc",
        "outputId": "6b1e8630-0026-4d91-f96d-07174d0674ee"
      },
      "execution_count": 25,
      "outputs": [
        {
          "output_type": "execute_result",
          "data": {
            "text/plain": [
              "40723"
            ]
          },
          "metadata": {},
          "execution_count": 25
        }
      ]
    },
    {
      "cell_type": "code",
      "source": [
        "min(unique_users)"
      ],
      "metadata": {
        "colab": {
          "base_uri": "https://localhost:8080/"
        },
        "id": "YHgKrYoEYTZQ",
        "outputId": "5955c5f1-9156-4208-980d-a98a7e700da1"
      },
      "execution_count": 26,
      "outputs": [
        {
          "output_type": "execute_result",
          "data": {
            "text/plain": [
              "1688"
            ]
          },
          "metadata": {},
          "execution_count": 26
        }
      ]
    },
    {
      "cell_type": "code",
      "source": [
        "i = 0\n",
        "for u in unique_users:\n",
        "    if u in graph:\n",
        "        i += 1\n",
        "print(i)"
      ],
      "metadata": {
        "colab": {
          "base_uri": "https://localhost:8080/"
        },
        "id": "CF3sOiF_bcip",
        "outputId": "65b45934-2edb-4875-d4e7-ae552eb38920"
      },
      "execution_count": 27,
      "outputs": [
        {
          "output_type": "stream",
          "name": "stdout",
          "text": [
            "756\n"
          ]
        }
      ]
    },
    {
      "cell_type": "code",
      "source": [
        "users_retweeted = df.retweets.map(lambda x: [int(e) for e in ast.literal_eval(x)])"
      ],
      "metadata": {
        "id": "NPSabn0Je819"
      },
      "execution_count": 28,
      "outputs": []
    },
    {
      "cell_type": "code",
      "source": [
        "for e in users_retweeted:\n",
        "    unique_users.update(set(e))\n",
        "\n",
        "len(unique_users)"
      ],
      "metadata": {
        "colab": {
          "base_uri": "https://localhost:8080/"
        },
        "id": "UevgMKgIfeqt",
        "outputId": "c3eac218-038d-4272-d9c8-3dffb99cc5a1"
      },
      "execution_count": 29,
      "outputs": [
        {
          "output_type": "execute_result",
          "data": {
            "text/plain": [
              "595543"
            ]
          },
          "metadata": {},
          "execution_count": 29
        }
      ]
    },
    {
      "cell_type": "code",
      "source": [
        "i = 0\n",
        "for u in unique_users:\n",
        "    if u in graph:\n",
        "        i += 1\n",
        "print(i)"
      ],
      "metadata": {
        "colab": {
          "base_uri": "https://localhost:8080/"
        },
        "id": "bQttmXbOfwz3",
        "outputId": "de35f019-0c64-44ce-97b8-d487b2542ef3"
      },
      "execution_count": 30,
      "outputs": [
        {
          "output_type": "stream",
          "name": "stdout",
          "text": [
            "756\n"
          ]
        }
      ]
    },
    {
      "cell_type": "code",
      "source": [
        "for i, l in users_tweeted.iteritems():\n",
        "    if not len(l):\n",
        "        continue\n",
        "    a_node = f\"a{i}\"\n",
        "    graph.add_edges_from([(a_node, u_node) for u_node in l if u_node in graph])\n",
        "\n",
        "graph.number_of_nodes(), graph.number_of_edges()"
      ],
      "metadata": {
        "colab": {
          "base_uri": "https://localhost:8080/"
        },
        "id": "TacXl683Z-BC",
        "outputId": "ddf873e6-9d27-417d-b07e-ac5c7665b71c"
      },
      "execution_count": 31,
      "outputs": [
        {
          "output_type": "execute_result",
          "data": {
            "text/plain": [
              "(31896, 49576)"
            ]
          },
          "metadata": {},
          "execution_count": 31
        }
      ]
    },
    {
      "cell_type": "code",
      "source": [
        "tmp = users_tweeted.map(len)\n",
        "tmp.min(), tmp.mean(), tmp.max()"
      ],
      "metadata": {
        "colab": {
          "base_uri": "https://localhost:8080/"
        },
        "id": "-lnh-YSHaYlH",
        "outputId": "c11c9a73-97b3-4a82-b547-47d224cf50f4"
      },
      "execution_count": 32,
      "outputs": [
        {
          "output_type": "execute_result",
          "data": {
            "text/plain": [
              "(0, 70.42953020134229, 21984)"
            ]
          },
          "metadata": {},
          "execution_count": 32
        }
      ]
    },
    {
      "cell_type": "markdown",
      "source": [
        "## GNN"
      ],
      "metadata": {
        "id": "gI6AtSffmcqr"
      }
    },
    {
      "cell_type": "markdown",
      "source": [
        "### data"
      ],
      "metadata": {
        "id": "FfaOg08xmfEp"
      }
    },
    {
      "cell_type": "code",
      "source": [
        "!pip install dgl"
      ],
      "metadata": {
        "colab": {
          "base_uri": "https://localhost:8080/"
        },
        "id": "xjD3rF-MmwKa",
        "outputId": "6a2e3d1d-c0dd-4d1e-c542-5a8275f52976"
      },
      "execution_count": 33,
      "outputs": [
        {
          "output_type": "stream",
          "name": "stdout",
          "text": [
            "Looking in indexes: https://pypi.org/simple, https://us-python.pkg.dev/colab-wheels/public/simple/\n",
            "Collecting dgl\n",
            "  Downloading dgl-0.6.1-cp37-cp37m-manylinux1_x86_64.whl (4.4 MB)\n",
            "\u001b[K     |████████████████████████████████| 4.4 MB 5.3 MB/s \n",
            "\u001b[?25hRequirement already satisfied: networkx>=2.1 in /usr/local/lib/python3.7/dist-packages (from dgl) (2.6.3)\n",
            "Requirement already satisfied: numpy>=1.14.0 in /usr/local/lib/python3.7/dist-packages (from dgl) (1.21.6)\n",
            "Requirement already satisfied: scipy>=1.1.0 in /usr/local/lib/python3.7/dist-packages (from dgl) (1.4.1)\n",
            "Requirement already satisfied: requests>=2.19.0 in /usr/local/lib/python3.7/dist-packages (from dgl) (2.23.0)\n",
            "Requirement already satisfied: certifi>=2017.4.17 in /usr/local/lib/python3.7/dist-packages (from requests>=2.19.0->dgl) (2022.5.18.1)\n",
            "Requirement already satisfied: chardet<4,>=3.0.2 in /usr/local/lib/python3.7/dist-packages (from requests>=2.19.0->dgl) (3.0.4)\n",
            "Requirement already satisfied: urllib3!=1.25.0,!=1.25.1,<1.26,>=1.21.1 in /usr/local/lib/python3.7/dist-packages (from requests>=2.19.0->dgl) (1.24.3)\n",
            "Requirement already satisfied: idna<3,>=2.5 in /usr/local/lib/python3.7/dist-packages (from requests>=2.19.0->dgl) (2.10)\n",
            "Installing collected packages: dgl\n",
            "Successfully installed dgl-0.6.1\n"
          ]
        }
      ]
    },
    {
      "cell_type": "code",
      "source": [
        "import dgl\n",
        "import numpy as np\n",
        "import torch"
      ],
      "metadata": {
        "colab": {
          "base_uri": "https://localhost:8080/"
        },
        "id": "yp52MLR1mdxA",
        "outputId": "31ac8702-49b6-41f3-8775-a59378fb02af"
      },
      "execution_count": 34,
      "outputs": [
        {
          "output_type": "stream",
          "name": "stdout",
          "text": [
            "Setting the default backend to \"pytorch\". You can change it in the ~/.dgl/config.json file or export the DGLBACKEND environment variable.  Valid options are: pytorch, mxnet, tensorflow (all lowercase)\n"
          ]
        },
        {
          "output_type": "stream",
          "name": "stderr",
          "text": [
            "DGL backend not selected or invalid.  Assuming PyTorch for now.\n",
            "Using backend: pytorch\n"
          ]
        }
      ]
    },
    {
      "cell_type": "code",
      "source": [
        "u2i = {}\n",
        "\n",
        "follow_src = []\n",
        "follow_dst = []\n",
        "with jsonlines.open(base_dir/\"followers.jsonl\") as reader:\n",
        "    for line in reader:\n",
        "        v = line[\"user_id\"]\n",
        "        if v not in u2i:\n",
        "            u2i[v] = len(u2i)\n",
        "        for u in line[\"followers\"]:\n",
        "            if u not in u2i:\n",
        "                u2i[u] = len(u2i)\n",
        "            follow_src.append(u2i[u])\n",
        "            follow_dst.append(u2i[v])"
      ],
      "metadata": {
        "id": "h3XOCaEwoMvx"
      },
      "execution_count": 35,
      "outputs": []
    },
    {
      "cell_type": "code",
      "source": [
        "with jsonlines.open(base_dir/\"following.jsonl\") as reader:\n",
        "    for line in reader:\n",
        "        u = line[\"user_id\"]\n",
        "        if u not in u2i:\n",
        "            u2i[u] = len(u2i)\n",
        "        for v in line[\"following\"]:\n",
        "            if v not in u2i:\n",
        "                u2i[v] = len(u2i)\n",
        "            follow_src.append(u2i[u])\n",
        "            follow_dst.append(u2i[v])"
      ],
      "metadata": {
        "id": "sWJFoJ_4oMvz"
      },
      "execution_count": 36,
      "outputs": []
    },
    {
      "cell_type": "code",
      "source": [
        "tweet_src = []\n",
        "tweet_dst = []\n",
        "\n",
        "for v, l in users_tweeted.iteritems():\n",
        "    if not len(l):\n",
        "        continue\n",
        "    for u in l:\n",
        "        if u in u2i:\n",
        "            tweet_src.append(u2i[u])\n",
        "            tweet_dst.append(v)"
      ],
      "metadata": {
        "id": "DWM9MEXDpiyX"
      },
      "execution_count": 37,
      "outputs": []
    },
    {
      "cell_type": "code",
      "source": [
        "text_embs = np.load(base_dir/'sbert_fulltext_embeddings.npy')\n",
        "text_embs.shape"
      ],
      "metadata": {
        "colab": {
          "base_uri": "https://localhost:8080/"
        },
        "id": "CxkWUv799WnY",
        "outputId": "7ce076e2-e243-4c2e-c2d1-05a60d0dc94d"
      },
      "execution_count": 38,
      "outputs": [
        {
          "output_type": "execute_result",
          "data": {
            "text/plain": [
              "(894, 768)"
            ]
          },
          "metadata": {},
          "execution_count": 38
        }
      ]
    },
    {
      "cell_type": "code",
      "source": [
        "follow_src = torch.tensor(follow_src)\n",
        "follow_dst = torch.tensor(follow_dst)\n",
        "tweet_src = torch.tensor(tweet_src)\n",
        "tweet_dst = torch.tensor(tweet_dst)\n",
        "\n",
        "hetero_graph = dgl.heterograph({\n",
        "    ('user', 'follow', 'user'): (follow_src, follow_dst),\n",
        "    ('user', 'followed-by', 'user'): (follow_dst, follow_src),\n",
        "    ('user', 'tweet', 'article'): (tweet_src, tweet_dst),\n",
        "    ('article', 'tweeted-by', 'user'): (tweet_dst, tweet_src)})\n",
        "\n",
        "hetero_graph.nodes['user'].data['feat'] = torch.arange(hetero_graph.num_nodes('user'))\n",
        "hetero_graph.nodes['article'].data['feat'] = torch.tensor(text_embs)\n",
        "hetero_graph.nodes['article'].data['label'] = torch.tensor((df.label==\"real\").to_numpy()).long()"
      ],
      "metadata": {
        "id": "ui3y2a80muWe"
      },
      "execution_count": 39,
      "outputs": []
    },
    {
      "cell_type": "code",
      "source": [
        "hetero_graph.number_of_nodes(ntype='article'), hetero_graph.number_of_nodes(ntype='user')"
      ],
      "metadata": {
        "colab": {
          "base_uri": "https://localhost:8080/"
        },
        "id": "IcmqOPpJsK6Z",
        "outputId": "3eb14b2b-3ad8-41dd-f6fd-7130cf7daf1d"
      },
      "execution_count": 40,
      "outputs": [
        {
          "output_type": "execute_result",
          "data": {
            "text/plain": [
              "(894, 31792)"
            ]
          },
          "metadata": {},
          "execution_count": 40
        }
      ]
    },
    {
      "cell_type": "code",
      "source": [
        "hetero_graph.nodes['article'].data['train_mask'] = torch.zeros(hetero_graph.number_of_nodes(ntype='article'), dtype=torch.bool).bernoulli(0.8)"
      ],
      "metadata": {
        "id": "2LboKsvbsJAR"
      },
      "execution_count": 41,
      "outputs": []
    },
    {
      "cell_type": "markdown",
      "source": [
        "### Model"
      ],
      "metadata": {
        "id": "a_NnqbhIvgQm"
      }
    },
    {
      "cell_type": "code",
      "source": [
        "def flatten_dict(d):\n",
        "    for k, v in d.items():\n",
        "        d[k] = v.flatten(1)\n",
        "    return d"
      ],
      "metadata": {
        "id": "LqjDfQQYCzml"
      },
      "execution_count": 42,
      "outputs": []
    },
    {
      "cell_type": "code",
      "source": [
        "from collections import defaultdict\n",
        "import torch.nn as nn\n",
        "import torch.nn.functional as F\n",
        "\n",
        "def _d_emb(): return 64\n",
        "\n",
        "d_emb_dict = defaultdict(_d_emb)"
      ],
      "metadata": {
        "id": "oSGL7euSjzR-"
      },
      "execution_count": 43,
      "outputs": []
    },
    {
      "cell_type": "code",
      "source": [
        "class NodeEmbedding(nn.Module):\n",
        "\n",
        "    def __init__(self, n_nodes, d_in, d_emb, proj_nodes=None, embed_nodes=None):\n",
        "        super().__init__()\n",
        "        self.proj_nodes = proj_nodes if proj_nodes is not None else list(d_in.keys())\n",
        "        self.embed_nodes = embed_nodes if embed_nodes is not None else list(n_nodes.keys())\n",
        "        self.emb = nn.ModuleDict({k:nn.Embedding(n_nodes[k], d_emb) for k in self.embed_nodes})\n",
        "        self.proj = nn.ModuleDict({k:nn.Linear(d_in[k], d_emb, bias=False) for k in self.proj_nodes})\n",
        "        self.init()\n",
        "\n",
        "    def forward(self, nx):\n",
        "        out = {}\n",
        "        for k, m  in self.emb.items():\n",
        "            out[k] = m(nx[k])\n",
        "        for k, m  in self.proj.items():\n",
        "            out[k] = m(nx[k])\n",
        "        return out\n",
        "\n",
        "    def init(self):\n",
        "        for _, m in self.emb.items():\n",
        "            torch.nn.init.xavier_uniform_(m.weight)\n",
        "        for _, m in self.proj.items():\n",
        "            torch.nn.init.xavier_uniform_(m.weight)"
      ],
      "metadata": {
        "id": "YGqNa5UVgfio"
      },
      "execution_count": 44,
      "outputs": []
    },
    {
      "cell_type": "code",
      "source": [
        "emb = NodeEmbedding({k:hetero_graph.num_nodes(k) for k in [\"user\"]}, {\"article\":text_embs.shape[1]}, 64)"
      ],
      "metadata": {
        "id": "HZMUKp0Xl-8v"
      },
      "execution_count": 45,
      "outputs": []
    },
    {
      "cell_type": "code",
      "source": [
        "with torch.no_grad():\n",
        "    x = emb(hetero_graph.ndata['feat'])"
      ],
      "metadata": {
        "id": "BTV2S60Hwcut"
      },
      "execution_count": 46,
      "outputs": []
    },
    {
      "cell_type": "code",
      "source": [
        "for k, v in x.items():\n",
        "    print(k, v.shape)"
      ],
      "metadata": {
        "colab": {
          "base_uri": "https://localhost:8080/"
        },
        "id": "DPxiP5oiLFPb",
        "outputId": "e2d294cb-4c5e-4886-9f99-c39efbb2294a"
      },
      "execution_count": 47,
      "outputs": [
        {
          "output_type": "stream",
          "name": "stdout",
          "text": [
            "user torch.Size([31792, 64])\n",
            "article torch.Size([894, 64])\n"
          ]
        }
      ]
    },
    {
      "cell_type": "code",
      "source": [
        "import torch as th\n",
        "from torch import nn\n",
        "\n",
        "from dgl import function as fn\n",
        "from dgl.nn.functional import edge_softmax\n",
        "from dgl.base import DGLError\n",
        "from dgl.nn.pytorch.utils import Identity\n",
        "from dgl.utils import expand_as_pair\n",
        "\n",
        "\n",
        "class GATConv(nn.Module):\n",
        "    r\"\"\"\n",
        "\n",
        "    Description\n",
        "    -----------\n",
        "    Apply `Graph Attention Network <https://arxiv.org/pdf/1710.10903.pdf>`__\n",
        "    over an input signal.\n",
        "\n",
        "    .. math::\n",
        "        h_i^{(l+1)} = \\sum_{j\\in \\mathcal{N}(i)} \\alpha_{i,j} W^{(l)} h_j^{(l)}\n",
        "\n",
        "    where :math:`\\alpha_{ij}` is the attention score bewteen node :math:`i` and\n",
        "    node :math:`j`:\n",
        "\n",
        "    .. math::\n",
        "        \\alpha_{ij}^{l} &= \\mathrm{softmax_i} (e_{ij}^{l})\n",
        "\n",
        "        e_{ij}^{l} &= \\mathrm{LeakyReLU}\\left(\\vec{a}^T [W h_{i} \\| W h_{j}]\\right)\n",
        "\n",
        "    Parameters\n",
        "    ----------\n",
        "    in_feats : int, or pair of ints\n",
        "        Input feature size; i.e, the number of dimensions of :math:`h_i^{(l)}`.\n",
        "        GATConv can be applied on homogeneous graph and unidirectional\n",
        "        `bipartite graph <https://docs.dgl.ai/generated/dgl.bipartite.html?highlight=bipartite>`__.\n",
        "        If the layer is to be applied to a unidirectional bipartite graph, ``in_feats``\n",
        "        specifies the input feature size on both the source and destination nodes.  If\n",
        "        a scalar is given, the source and destination node feature size would take the\n",
        "        same value.\n",
        "    out_feats : int\n",
        "        Output feature size; i.e, the number of dimensions of :math:`h_i^{(l+1)}`.\n",
        "    num_heads : int\n",
        "        Number of heads in Multi-Head Attention.\n",
        "    feat_drop : float, optional\n",
        "        Dropout rate on feature. Defaults: ``0``.\n",
        "    attn_drop : float, optional\n",
        "        Dropout rate on attention weight. Defaults: ``0``.\n",
        "    negative_slope : float, optional\n",
        "        LeakyReLU angle of negative slope. Defaults: ``0.2``.\n",
        "    residual : bool, optional\n",
        "        If True, use residual connection. Defaults: ``False``.\n",
        "    activation : callable activation function/layer or None, optional.\n",
        "        If not None, applies an activation function to the updated node features.\n",
        "        Default: ``None``.\n",
        "    allow_zero_in_degree : bool, optional\n",
        "        If there are 0-in-degree nodes in the graph, output for those nodes will be invalid\n",
        "        since no message will be passed to those nodes. This is harmful for some applications\n",
        "        causing silent performance regression. This module will raise a DGLError if it detects\n",
        "        0-in-degree nodes in input graph. By setting ``True``, it will suppress the check\n",
        "        and let the users handle it by themselves. Defaults: ``False``.\n",
        "    bias : bool, optional\n",
        "        If True, learns a bias term. Defaults: ``True``.\n",
        "\n",
        "    Note\n",
        "    ----\n",
        "    Zero in-degree nodes will lead to invalid output value. This is because no message\n",
        "    will be passed to those nodes, the aggregation function will be appied on empty input.\n",
        "    A common practice to avoid this is to add a self-loop for each node in the graph if\n",
        "    it is homogeneous, which can be achieved by:\n",
        "\n",
        "    >>> g = ... # a DGLGraph\n",
        "    >>> g = dgl.add_self_loop(g)\n",
        "\n",
        "    Calling ``add_self_loop`` will not work for some graphs, for example, heterogeneous graph\n",
        "    since the edge type can not be decided for self_loop edges. Set ``allow_zero_in_degree``\n",
        "    to ``True`` for those cases to unblock the code and handle zero-in-degree nodes manually.\n",
        "    A common practise to handle this is to filter out the nodes with zero-in-degree when use\n",
        "    after conv.\n",
        "\n",
        "    Examples\n",
        "    --------\n",
        "    >>> import dgl\n",
        "    >>> import numpy as np\n",
        "    >>> import torch as th\n",
        "    >>> from dgl.nn import GATConv\n",
        "\n",
        "    >>> # Case 1: Homogeneous graph\n",
        "    >>> g = dgl.graph(([0,1,2,3,2,5], [1,2,3,4,0,3]))\n",
        "    >>> g = dgl.add_self_loop(g)\n",
        "    >>> feat = th.ones(6, 10)\n",
        "    >>> gatconv = GATConv(10, 2, num_heads=3)\n",
        "    >>> res = gatconv(g, feat)\n",
        "    >>> res\n",
        "    tensor([[[ 3.4570,  1.8634],\n",
        "            [ 1.3805, -0.0762],\n",
        "            [ 1.0390, -1.1479]],\n",
        "            [[ 3.4570,  1.8634],\n",
        "            [ 1.3805, -0.0762],\n",
        "            [ 1.0390, -1.1479]],\n",
        "            [[ 3.4570,  1.8634],\n",
        "            [ 1.3805, -0.0762],\n",
        "            [ 1.0390, -1.1479]],\n",
        "            [[ 3.4570,  1.8634],\n",
        "            [ 1.3805, -0.0762],\n",
        "            [ 1.0390, -1.1479]],\n",
        "            [[ 3.4570,  1.8634],\n",
        "            [ 1.3805, -0.0762],\n",
        "            [ 1.0390, -1.1479]],\n",
        "            [[ 3.4570,  1.8634],\n",
        "            [ 1.3805, -0.0762],\n",
        "            [ 1.0390, -1.1479]]], grad_fn=<BinaryReduceBackward>)\n",
        "\n",
        "    >>> # Case 2: Unidirectional bipartite graph\n",
        "    >>> u = [0, 1, 0, 0, 1]\n",
        "    >>> v = [0, 1, 2, 3, 2]\n",
        "    >>> g = dgl.heterograph({('A', 'r', 'B'): (u, v)})\n",
        "    >>> u_feat = th.tensor(np.random.rand(2, 5).astype(np.float32))\n",
        "    >>> v_feat = th.tensor(np.random.rand(4, 10).astype(np.float32))\n",
        "    >>> gatconv = GATConv((5,10), 2, 3)\n",
        "    >>> res = gatconv(g, (u_feat, v_feat))\n",
        "    >>> res\n",
        "    tensor([[[-0.6066,  1.0268],\n",
        "            [-0.5945, -0.4801],\n",
        "            [ 0.1594,  0.3825]],\n",
        "            [[ 0.0268,  1.0783],\n",
        "            [ 0.5041, -1.3025],\n",
        "            [ 0.6568,  0.7048]],\n",
        "            [[-0.2688,  1.0543],\n",
        "            [-0.0315, -0.9016],\n",
        "            [ 0.3943,  0.5347]],\n",
        "            [[-0.6066,  1.0268],\n",
        "            [-0.5945, -0.4801],\n",
        "            [ 0.1594,  0.3825]]], grad_fn=<BinaryReduceBackward>)\n",
        "    \"\"\"\n",
        "    def __init__(self,\n",
        "                 in_feats,\n",
        "                 out_feats,\n",
        "                 num_heads,\n",
        "                 feat_drop=0.,\n",
        "                 attn_drop=0.,\n",
        "                 negative_slope=0.2,\n",
        "                 residual=False,\n",
        "                 activation=None,\n",
        "                 allow_zero_in_degree=False,\n",
        "                 bias=True):\n",
        "        super(GATConv, self).__init__()\n",
        "        self._num_heads = num_heads\n",
        "        self._in_src_feats, self._in_dst_feats = expand_as_pair(in_feats)\n",
        "        self._out_feats = out_feats\n",
        "        self._allow_zero_in_degree = allow_zero_in_degree\n",
        "        if isinstance(in_feats, tuple):\n",
        "            self.fc_src = nn.Linear(\n",
        "                self._in_src_feats, out_feats * num_heads, bias=False)\n",
        "            self.fc_dst = nn.Linear(\n",
        "                self._in_dst_feats, out_feats * num_heads, bias=False)\n",
        "        else:\n",
        "            self.fc = nn.Linear(\n",
        "                self._in_src_feats, out_feats * num_heads, bias=False)\n",
        "        self.attn_l = nn.Parameter(th.FloatTensor(size=(1, num_heads, out_feats)))\n",
        "        self.attn_r = nn.Parameter(th.FloatTensor(size=(1, num_heads, out_feats)))\n",
        "        self.feat_drop = nn.Dropout(feat_drop)\n",
        "        self.attn_drop = nn.Dropout(attn_drop)\n",
        "        self.leaky_relu = nn.LeakyReLU(negative_slope)\n",
        "        if bias:\n",
        "            self.bias = nn.Parameter(th.FloatTensor(size=(num_heads * out_feats,)))\n",
        "        else:\n",
        "            self.register_buffer('bias', None)\n",
        "        if residual:\n",
        "            if self._in_dst_feats != out_feats * num_heads:\n",
        "                self.res_fc = nn.Linear(\n",
        "                    self._in_dst_feats, num_heads * out_feats, bias=False)\n",
        "            else:\n",
        "                self.res_fc = Identity()\n",
        "        else:\n",
        "            self.register_buffer('res_fc', None)\n",
        "        self.reset_parameters()\n",
        "        self.activation = activation\n",
        "\n",
        "    def reset_parameters(self):\n",
        "        \"\"\"\n",
        "\n",
        "        Description\n",
        "        -----------\n",
        "        Reinitialize learnable parameters.\n",
        "\n",
        "        Note\n",
        "        ----\n",
        "        The fc weights :math:`W^{(l)}` are initialized using Glorot uniform initialization.\n",
        "        The attention weights are using xavier initialization method.\n",
        "        \"\"\"\n",
        "        gain = nn.init.calculate_gain('relu')\n",
        "        if hasattr(self, 'fc'):\n",
        "            nn.init.xavier_normal_(self.fc.weight, gain=gain)\n",
        "        else:\n",
        "            nn.init.xavier_normal_(self.fc_src.weight, gain=gain)\n",
        "            nn.init.xavier_normal_(self.fc_dst.weight, gain=gain)\n",
        "        nn.init.xavier_normal_(self.attn_l, gain=gain)\n",
        "        nn.init.xavier_normal_(self.attn_r, gain=gain)\n",
        "        if self.bias is not None:\n",
        "            nn.init.constant_(self.bias, 0)\n",
        "        if isinstance(self.res_fc, nn.Linear):\n",
        "            nn.init.xavier_normal_(self.res_fc.weight, gain=gain)\n",
        "\n",
        "    def set_allow_zero_in_degree(self, set_value):\n",
        "        r\"\"\"\n",
        "\n",
        "        Description\n",
        "        -----------\n",
        "        Set allow_zero_in_degree flag.\n",
        "\n",
        "        Parameters\n",
        "        ----------\n",
        "        set_value : bool\n",
        "            The value to be set to the flag.\n",
        "        \"\"\"\n",
        "        self._allow_zero_in_degree = set_value\n",
        "\n",
        "    def forward(self, graph, feat, get_attention=False):\n",
        "        r\"\"\"\n",
        "\n",
        "        Description\n",
        "        -----------\n",
        "        Compute graph attention network layer.\n",
        "\n",
        "        Parameters\n",
        "        ----------\n",
        "        graph : DGLGraph\n",
        "            The graph.\n",
        "        feat : torch.Tensor or pair of torch.Tensor\n",
        "            If a torch.Tensor is given, the input feature of shape :math:`(N, *, D_{in})` where\n",
        "            :math:`D_{in}` is size of input feature, :math:`N` is the number of nodes.\n",
        "            If a pair of torch.Tensor is given, the pair must contain two tensors of shape\n",
        "            :math:`(N_{in}, *, D_{in_{src}})` and :math:`(N_{out}, *, D_{in_{dst}})`.\n",
        "        get_attention : bool, optional\n",
        "            Whether to return the attention values. Default to False.\n",
        "\n",
        "        Returns\n",
        "        -------\n",
        "        torch.Tensor\n",
        "            The output feature of shape :math:`(N, *, H, D_{out})` where :math:`H`\n",
        "            is the number of heads, and :math:`D_{out}` is size of output feature.\n",
        "        torch.Tensor, optional\n",
        "            The attention values of shape :math:`(E, *, H, 1)`, where :math:`E` is the number of\n",
        "            edges. This is returned only when :attr:`get_attention` is ``True``.\n",
        "\n",
        "        Raises\n",
        "        ------\n",
        "        DGLError\n",
        "            If there are 0-in-degree nodes in the input graph, it will raise DGLError\n",
        "            since no message will be passed to those nodes. This will cause invalid output.\n",
        "            The error can be ignored by setting ``allow_zero_in_degree`` parameter to ``True``.\n",
        "        \"\"\"\n",
        "        with graph.local_scope():\n",
        "            if not self._allow_zero_in_degree:\n",
        "                if (graph.in_degrees() == 0).any():\n",
        "                    raise DGLError('There are 0-in-degree nodes in the graph, '\n",
        "                                   'output for those nodes will be invalid. '\n",
        "                                   'This is harmful for some applications, '\n",
        "                                   'causing silent performance regression. '\n",
        "                                   'Adding self-loop on the input graph by '\n",
        "                                   'calling `g = dgl.add_self_loop(g)` will resolve '\n",
        "                                   'the issue. Setting ``allow_zero_in_degree`` '\n",
        "                                   'to be `True` when constructing this module will '\n",
        "                                   'suppress the check and let the code run.')\n",
        "\n",
        "            if isinstance(feat, tuple):\n",
        "                src_prefix_shape = feat[0].shape[:-1]\n",
        "                dst_prefix_shape = feat[1].shape[:-1]\n",
        "                h_src = self.feat_drop(feat[0])\n",
        "                h_dst = self.feat_drop(feat[1])\n",
        "                if not hasattr(self, 'fc_src'):\n",
        "                    feat_src = self.fc(h_src).view(\n",
        "                        *src_prefix_shape, self._num_heads, self._out_feats)\n",
        "                    feat_dst = self.fc(h_dst).view(\n",
        "                        *dst_prefix_shape, self._num_heads, self._out_feats)\n",
        "                else:\n",
        "                    feat_src = self.fc_src(h_src).view(\n",
        "                        *src_prefix_shape, self._num_heads, self._out_feats)\n",
        "                    feat_dst = self.fc_dst(h_dst).view(\n",
        "                        *dst_prefix_shape, self._num_heads, self._out_feats)\n",
        "            else:\n",
        "                src_prefix_shape = dst_prefix_shape = feat.shape[:-1]\n",
        "                h_src = h_dst = self.feat_drop(feat)\n",
        "                feat_src = feat_dst = self.fc(h_src).view(\n",
        "                    *src_prefix_shape, self._num_heads, self._out_feats)\n",
        "                if graph.is_block:\n",
        "                    feat_dst = feat_src[:graph.number_of_dst_nodes()]\n",
        "                    h_dst = h_dst[:graph.number_of_dst_nodes()]\n",
        "                    dst_prefix_shape = (graph.number_of_dst_nodes(),) + dst_prefix_shape[1:]\n",
        "            # NOTE: GAT paper uses \"first concatenation then linear projection\"\n",
        "            # to compute attention scores, while ours is \"first projection then\n",
        "            # addition\", the two approaches are mathematically equivalent:\n",
        "            # We decompose the weight vector a mentioned in the paper into\n",
        "            # [a_l || a_r], then\n",
        "            # a^T [Wh_i || Wh_j] = a_l Wh_i + a_r Wh_j\n",
        "            # Our implementation is much efficient because we do not need to\n",
        "            # save [Wh_i || Wh_j] on edges, which is not memory-efficient. Plus,\n",
        "            # addition could be optimized with DGL's built-in function u_add_v,\n",
        "            # which further speeds up computation and saves memory footprint.\n",
        "            el = (feat_src * self.attn_l).sum(dim=-1).unsqueeze(-1)\n",
        "            er = (feat_dst * self.attn_r).sum(dim=-1).unsqueeze(-1)\n",
        "            graph.srcdata.update({'ft': feat_src, 'el': el})\n",
        "            graph.dstdata.update({'er': er})\n",
        "            # compute edge attention, el and er are a_l Wh_i and a_r Wh_j respectively.\n",
        "            graph.apply_edges(fn.u_add_v('el', 'er', 'e'))\n",
        "            e = self.leaky_relu(graph.edata.pop('e'))\n",
        "            # compute softmax\n",
        "            graph.edata['a'] = self.attn_drop(edge_softmax(graph, e))\n",
        "            # message passing\n",
        "            graph.update_all(fn.u_mul_e('ft', 'a', 'm'),\n",
        "                             fn.sum('m', 'ft'))\n",
        "            rst = graph.dstdata['ft']\n",
        "            # residual\n",
        "            if self.res_fc is not None:\n",
        "                # Use -1 rather than self._num_heads to handle broadcasting\n",
        "                resval = self.res_fc(h_dst).view(*dst_prefix_shape, self._num_heads, self._out_feats)\n",
        "                rst = rst + resval\n",
        "            # bias\n",
        "            if self.bias is not None:\n",
        "                rst = rst + self.bias.view(\n",
        "                    *((1,) * len(dst_prefix_shape)), self._num_heads, self._out_feats)\n",
        "            # activation\n",
        "            if self.activation:\n",
        "                rst = self.activation(rst)\n",
        "\n",
        "            if get_attention:\n",
        "                return rst, graph.edata['a']\n",
        "            else:\n",
        "                return rst\n"
      ],
      "metadata": {
        "id": "k82o39yKiI6l"
      },
      "execution_count": 48,
      "outputs": []
    },
    {
      "cell_type": "code",
      "source": [
        "class GATEncoder(torch.nn.Module):\n",
        "\n",
        "    def __init__(self, d_in, d_h, etypes, num_heads=1, dropout=0.1):\n",
        "        super().__init__()\n",
        "        self.conv1 = dgl.nn.HeteroGraphConv({\n",
        "            rel : GATConv(d_in, d_h, num_heads, dropout, dropout,\n",
        "                      residual=True, activation=nn.SELU(), \n",
        "                  ) for rel in etypes\n",
        "        })\n",
        "        self.conv2 = dgl.nn.HeteroGraphConv({\n",
        "            rel : GATConv(d_h*num_heads, d_h, num_heads, dropout, dropout,\n",
        "                      residual=True, activation=None, \n",
        "                  ) for rel in etypes\n",
        "        })\n",
        "\n",
        "    def forward(self, graph, x):\n",
        "        x = flatten_dict(self.conv1(graph, x))\n",
        "        x = flatten_dict(self.conv2(graph, x))\n",
        "        return x"
      ],
      "metadata": {
        "id": "VFx3l8mOsuke"
      },
      "execution_count": 49,
      "outputs": []
    },
    {
      "cell_type": "code",
      "source": [
        "hetero_graph.etypes"
      ],
      "metadata": {
        "colab": {
          "base_uri": "https://localhost:8080/"
        },
        "id": "kD2XRKbc1y05",
        "outputId": "91c38fcb-dec7-4bd2-aeec-19349be856d6"
      },
      "execution_count": 50,
      "outputs": [
        {
          "output_type": "execute_result",
          "data": {
            "text/plain": [
              "['tweeted-by', 'follow', 'followed-by', 'tweet']"
            ]
          },
          "metadata": {},
          "execution_count": 50
        }
      ]
    },
    {
      "cell_type": "code",
      "source": [
        "enc = GATEncoder(64, 64, hetero_graph.etypes)\n",
        "\n",
        "with torch.no_grad():\n",
        "    out = enc(hetero_graph, x)\n",
        "\n",
        "out"
      ],
      "metadata": {
        "colab": {
          "base_uri": "https://localhost:8080/"
        },
        "id": "2qTEeMWt1NUq",
        "outputId": "b6a1303b-3b43-44ab-e913-c8f6387a670c"
      },
      "execution_count": 51,
      "outputs": [
        {
          "output_type": "execute_result",
          "data": {
            "text/plain": [
              "{'article': tensor([[ 0.0126,  0.0377, -0.0375,  ...,  0.0376,  0.0027, -0.1643],\n",
              "         [ 0.0822,  0.0000,  0.0546,  ...,  0.0120, -0.1527, -0.2411],\n",
              "         [ 0.0000,  0.0415,  0.0200,  ...,  0.0764, -0.1299, -0.1131],\n",
              "         ...,\n",
              "         [ 0.1061, -0.0204, -0.0568,  ..., -0.0241,  0.0000, -0.1391],\n",
              "         [ 0.0164,  0.0151, -0.1419,  ...,  0.0000, -0.0695, -0.0897],\n",
              "         [ 0.1115,  0.0534, -0.0595,  ...,  0.2385,  0.0859,  0.0847]]),\n",
              " 'user': tensor([[ 0.5379, -0.1178,  0.0629,  ..., -0.1527, -0.1516,  0.2133],\n",
              "         [-0.4569, -0.0533, -0.0732,  ..., -0.0079, -0.1882,  0.4229],\n",
              "         [-0.1282, -0.1789, -0.1314,  ..., -0.3245, -0.0019,  0.1167],\n",
              "         ...,\n",
              "         [-0.0589, -0.2840,  0.0572,  ...,  0.2795, -0.4443, -0.0275],\n",
              "         [ 0.0302, -0.0872,  0.1580,  ..., -0.2001, -0.2467, -0.0261],\n",
              "         [ 0.0959, -0.3012, -0.2839,  ...,  0.3094, -0.3769,  0.1585]])}"
            ]
          },
          "metadata": {},
          "execution_count": 51
        }
      ]
    },
    {
      "cell_type": "code",
      "source": [
        "class HetGNN(nn.Module):\n",
        "\n",
        "    def __init__(self, g, n_nodes, d_feats, d_emb, d_h, tgt_ntype, num_heads=1):\n",
        "        super().__init__()\n",
        "        self.tgt_ntype = tgt_ntype\n",
        "        self.emb = NodeEmbedding(n_nodes, d_feats, d_emb)\n",
        "        self.encoder = GATEncoder(d_emb, d_h, g.etypes, num_heads)\n",
        "        self.head = nn.Linear(d_h*num_heads, 2)\n",
        "\n",
        "    def forward(self, graph, x):\n",
        "        h = self.emb(x)\n",
        "        h = self.encoder(graph, h)\n",
        "        return self.head(h[self.tgt_ntype])"
      ],
      "metadata": {
        "id": "QKkjZgvfzZbn"
      },
      "execution_count": 52,
      "outputs": []
    },
    {
      "cell_type": "code",
      "source": [
        "model = HetGNN(hetero_graph, {k:hetero_graph.num_nodes(k) for k in [\"user\"]}, {'article':text_embs.shape[1]}, 64, 64, \"article\")"
      ],
      "metadata": {
        "id": "aY0DeDcd3jy-"
      },
      "execution_count": 53,
      "outputs": []
    },
    {
      "cell_type": "code",
      "source": [
        "with torch.no_grad():\n",
        "    x = hetero_graph.ndata['feat']\n",
        "    logits = model(hetero_graph, x)\n",
        "\n",
        "logits"
      ],
      "metadata": {
        "colab": {
          "base_uri": "https://localhost:8080/"
        },
        "id": "gz8m3W6l4S6J",
        "outputId": "af3faf2f-5abb-409a-a8bf-56ef5898ab68"
      },
      "execution_count": 54,
      "outputs": [
        {
          "output_type": "execute_result",
          "data": {
            "text/plain": [
              "tensor([[ 0.0233,  0.0955],\n",
              "        [ 0.1024,  0.1960],\n",
              "        [ 0.1115,  0.1387],\n",
              "        ...,\n",
              "        [-0.0314, -0.0097],\n",
              "        [ 0.0419,  0.1224],\n",
              "        [ 0.0267,  0.0750]])"
            ]
          },
          "metadata": {},
          "execution_count": 54
        }
      ]
    },
    {
      "cell_type": "code",
      "source": [
        "def accuracy(logits, labels):\n",
        "    return (logits.argmax(-1) == labels).float().mean()"
      ],
      "metadata": {
        "id": "BunQmwFY8Xso"
      },
      "execution_count": 55,
      "outputs": []
    },
    {
      "cell_type": "code",
      "source": [
        "model = HetGNN(hetero_graph, {k:hetero_graph.num_nodes(k) for k in [\"user\"]}, {'article':text_embs.shape[1]}, 64, 64, \"article\")\n",
        "\n",
        "x = hetero_graph.ndata['feat']\n",
        "train_mask = hetero_graph.ndata['train_mask']['article']\n",
        "labels = hetero_graph.ndata['label']['article']"
      ],
      "metadata": {
        "id": "yvbuuvi556U4"
      },
      "execution_count": 56,
      "outputs": []
    },
    {
      "cell_type": "code",
      "source": [
        "opt = torch.optim.Adam(model.parameters(), lr=0.01)\n",
        "\n",
        "for epoch in range(20):\n",
        "    model.train()\n",
        "    logits = model(hetero_graph, x)\n",
        "    \n",
        "    loss = F.cross_entropy(logits[train_mask], labels[train_mask])\n",
        "    acc = accuracy(logits[train_mask], labels[train_mask])*100\n",
        "    opt.zero_grad()\n",
        "    loss.backward()\n",
        "    opt.step()\n",
        "\n",
        "    with torch.no_grad():\n",
        "        val_loss = F.cross_entropy(logits[~train_mask], labels[~train_mask])\n",
        "        val_acc = accuracy(logits[~train_mask], labels[~train_mask])*100\n",
        "    print(f\"{epoch+1:>2}: Train loss {loss.item():.4f}, acc {acc:.2f}%; validation loss {val_loss.item():.4f}, acc {val_acc:.2f}%\")\n"
      ],
      "metadata": {
        "colab": {
          "base_uri": "https://localhost:8080/"
        },
        "id": "Kiu8dH-42Xay",
        "outputId": "0893aeb6-b262-4640-e92d-8dbf57da3542"
      },
      "execution_count": 57,
      "outputs": [
        {
          "output_type": "stream",
          "name": "stdout",
          "text": [
            " 1: Train loss 0.6914, acc 50.42%; validation loss 0.6891, acc 55.32%\n",
            " 2: Train loss 0.5510, acc 70.25%; validation loss 0.5425, acc 75.00%\n",
            " 3: Train loss 0.4484, acc 87.96%; validation loss 0.4448, acc 86.17%\n",
            " 4: Train loss 0.3719, acc 88.39%; validation loss 0.3805, acc 85.11%\n",
            " 5: Train loss 0.3127, acc 88.39%; validation loss 0.3392, acc 85.64%\n",
            " 6: Train loss 0.2684, acc 89.94%; validation loss 0.2996, acc 88.30%\n",
            " 7: Train loss 0.2399, acc 90.65%; validation loss 0.2760, acc 88.30%\n",
            " 8: Train loss 0.2225, acc 91.36%; validation loss 0.2587, acc 88.83%\n",
            " 9: Train loss 0.2044, acc 91.22%; validation loss 0.2488, acc 90.43%\n",
            "10: Train loss 0.1915, acc 92.35%; validation loss 0.2415, acc 89.89%\n",
            "11: Train loss 0.1796, acc 92.92%; validation loss 0.2365, acc 89.36%\n",
            "12: Train loss 0.1659, acc 93.06%; validation loss 0.2362, acc 89.89%\n",
            "13: Train loss 0.1560, acc 93.20%; validation loss 0.2426, acc 89.36%\n",
            "14: Train loss 0.1438, acc 93.91%; validation loss 0.2235, acc 89.89%\n",
            "15: Train loss 0.1282, acc 94.19%; validation loss 0.2423, acc 89.89%\n",
            "16: Train loss 0.1146, acc 95.18%; validation loss 0.2317, acc 90.43%\n",
            "17: Train loss 0.1095, acc 95.47%; validation loss 0.2333, acc 90.43%\n",
            "18: Train loss 0.0974, acc 95.89%; validation loss 0.2499, acc 89.89%\n",
            "19: Train loss 0.0855, acc 96.46%; validation loss 0.2361, acc 89.89%\n",
            "20: Train loss 0.0804, acc 96.46%; validation loss 0.2573, acc 89.36%\n"
          ]
        }
      ]
    },
    {
      "cell_type": "code",
      "source": [
        ""
      ],
      "metadata": {
        "id": "_tVEa3L9CmE0"
      },
      "execution_count": 57,
      "outputs": []
    }
  ]
}