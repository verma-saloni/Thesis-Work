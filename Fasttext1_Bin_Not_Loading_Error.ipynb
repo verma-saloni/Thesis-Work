{
  "nbformat": 4,
  "nbformat_minor": 0,
  "metadata": {
    "colab": {
      "name": "Fasttext1 Bin Not Loading Error.ipynb",
      "provenance": [],
      "collapsed_sections": [],
      "mount_file_id": "1JAfWRZex7N1gP2HMjdWQZebCsMZRthYc",
      "authorship_tag": "ABX9TyPq9E02tDdtd2LFEs/Ye727",
      "include_colab_link": true
    },
    "kernelspec": {
      "name": "python3",
      "display_name": "Python 3"
    },
    "language_info": {
      "name": "python"
    }
  },
  "cells": [
    {
      "cell_type": "markdown",
      "metadata": {
        "id": "view-in-github",
        "colab_type": "text"
      },
      "source": [
        "<a href=\"https://colab.research.google.com/github/verma-saloni/Thesis-Work/blob/main/Fasttext1_Bin_Not_Loading_Error.ipynb\" target=\"_parent\"><img src=\"https://colab.research.google.com/assets/colab-badge.svg\" alt=\"Open In Colab\"/></a>"
      ]
    },
    {
      "cell_type": "code",
      "source": [
        "!pip install unidecode\n",
        "!pip install word2number\n",
        "!pip install contractions"
      ],
      "metadata": {
        "colab": {
          "base_uri": "https://localhost:8080/"
        },
        "id": "aByzVMdkzqAJ",
        "outputId": "25439cc3-63e2-4ec4-b691-7e114f10768c"
      },
      "execution_count": null,
      "outputs": [
        {
          "output_type": "stream",
          "name": "stdout",
          "text": [
            "Requirement already satisfied: unidecode in /usr/local/lib/python3.7/dist-packages (1.3.2)\n",
            "Collecting word2number\n",
            "  Downloading word2number-1.1.zip (9.7 kB)\n",
            "Building wheels for collected packages: word2number\n",
            "  Building wheel for word2number (setup.py) ... \u001b[?25l\u001b[?25hdone\n",
            "  Created wheel for word2number: filename=word2number-1.1-py3-none-any.whl size=5582 sha256=beff3aea39d80836f467cac9c7d0b1a0d2525996dd51696290e490707b2583f5\n",
            "  Stored in directory: /root/.cache/pip/wheels/4b/c3/77/a5f48aeb0d3efb7cd5ad61cbd3da30bbf9ffc9662b07c9f879\n",
            "Successfully built word2number\n",
            "Installing collected packages: word2number\n",
            "Successfully installed word2number-1.1\n",
            "Collecting contractions\n",
            "  Downloading contractions-0.0.58-py2.py3-none-any.whl (8.0 kB)\n",
            "Collecting textsearch>=0.0.21\n",
            "  Downloading textsearch-0.0.21-py2.py3-none-any.whl (7.5 kB)\n",
            "Collecting anyascii\n",
            "  Downloading anyascii-0.3.0-py3-none-any.whl (284 kB)\n",
            "\u001b[K     |████████████████████████████████| 284 kB 8.1 MB/s \n",
            "\u001b[?25hCollecting pyahocorasick\n",
            "  Downloading pyahocorasick-1.4.2.tar.gz (321 kB)\n",
            "\u001b[K     |████████████████████████████████| 321 kB 66.8 MB/s \n",
            "\u001b[?25hBuilding wheels for collected packages: pyahocorasick\n",
            "  Building wheel for pyahocorasick (setup.py) ... \u001b[?25l\u001b[?25hdone\n",
            "  Created wheel for pyahocorasick: filename=pyahocorasick-1.4.2-cp37-cp37m-linux_x86_64.whl size=85452 sha256=ac55d29d01d703d087d88315a9bf7a8bafba6aa7f47f095315e1fe5af53cd6e6\n",
            "  Stored in directory: /root/.cache/pip/wheels/25/19/a6/8f363d9939162782bb8439d886469756271abc01f76fbd790f\n",
            "Successfully built pyahocorasick\n",
            "Installing collected packages: pyahocorasick, anyascii, textsearch, contractions\n",
            "Successfully installed anyascii-0.3.0 contractions-0.0.58 pyahocorasick-1.4.2 textsearch-0.0.21\n"
          ]
        }
      ]
    },
    {
      "cell_type": "code",
      "execution_count": null,
      "metadata": {
        "colab": {
          "base_uri": "https://localhost:8080/"
        },
        "id": "8wffusyCytsx",
        "outputId": "7f440b34-acc3-44fa-cbba-8bf6f7aa9be4"
      },
      "outputs": [
        {
          "output_type": "stream",
          "name": "stdout",
          "text": [
            "[nltk_data] Downloading package punkt to /root/nltk_data...\n",
            "[nltk_data]   Package punkt is already up-to-date!\n",
            "[nltk_data] Downloading package stopwords to /root/nltk_data...\n",
            "[nltk_data]   Package stopwords is already up-to-date!\n"
          ]
        }
      ],
      "source": [
        "import pandas as pd\n",
        "import numpy as np\n",
        "import nltk\n",
        "nltk.download('punkt')\n",
        "from nltk.tokenize import sent_tokenize, word_tokenize\n",
        "import warnings\n",
        "import gensim\n",
        "from gensim.models import Word2Vec\n",
        "import string\n",
        "string.punctuation\n",
        "nltk.download('stopwords')\n",
        "import re\n",
        "from bs4 import BeautifulSoup\n",
        "import spacy\n",
        "import unidecode\n",
        "from word2number import w2n\n",
        "import contractions\n",
        "from nltk.tokenize.treebank import TreebankWordDetokenizer\n",
        "# load spacy model, can be \"en_core_web_sm\" as well\n",
        "from sklearn.model_selection import train_test_split\n",
        "import xgboost as xgb\n",
        "\n"
      ]
    },
    {
      "cell_type": "code",
      "source": [
        "from google.colab import drive\n",
        "drive._mount('/content/drive')"
      ],
      "metadata": {
        "colab": {
          "base_uri": "https://localhost:8080/"
        },
        "id": "SusBhh-CzXYG",
        "outputId": "b58876ea-f244-424b-89be-e523a8ff8505"
      },
      "execution_count": null,
      "outputs": [
        {
          "output_type": "stream",
          "name": "stdout",
          "text": [
            "Drive already mounted at /content/drive; to attempt to forcibly remount, call drive.mount(\"/content/drive\", force_remount=True).\n"
          ]
        }
      ]
    },
    {
      "cell_type": "code",
      "source": [
        "df_fake = pd.read_csv('/content/drive/MyDrive/Thesis/gossipcop_fake.csv')\n",
        "df_real = pd.read_csv('/content/drive/MyDrive/Thesis/gossipcop_real.csv')\n",
        "df_fake['labelML']=0\n",
        "df_real['labelML']=1\n",
        "\n",
        "df_fake.count()\n"
      ],
      "metadata": {
        "id": "bwskIeYazYL6",
        "colab": {
          "base_uri": "https://localhost:8080/"
        },
        "outputId": "4d2decbe-caf3-44d8-9bcb-badcd6576fd9"
      },
      "execution_count": null,
      "outputs": [
        {
          "output_type": "execute_result",
          "data": {
            "text/plain": [
              "id           5323\n",
              "news_url     5067\n",
              "title        5323\n",
              "tweet_ids    5135\n",
              "labelML      5323\n",
              "dtype: int64"
            ]
          },
          "metadata": {},
          "execution_count": 262
        }
      ]
    },
    {
      "cell_type": "code",
      "source": [
        "#df= df_fake.head(50).append(df_real.head(50))\n",
        "df= df_fake.append(df_real)\n",
        "df.reset_index(drop=True, inplace=True)"
      ],
      "metadata": {
        "id": "mbqeWkN1JDGJ"
      },
      "execution_count": null,
      "outputs": []
    },
    {
      "cell_type": "code",
      "source": [
        "print(df.columns)\n",
        "df.count()\n",
        "print(df)"
      ],
      "metadata": {
        "colab": {
          "base_uri": "https://localhost:8080/"
        },
        "id": "bjYdaIs51j87",
        "outputId": "771368a0-6ee9-41c8-ac1d-40445a93c58c"
      },
      "execution_count": null,
      "outputs": [
        {
          "output_type": "stream",
          "name": "stdout",
          "text": [
            "Index(['id', 'news_url', 'title', 'tweet_ids', 'labelML'], dtype='object')\n",
            "                         id  ... labelML\n",
            "0      gossipcop-2493749932  ...       0\n",
            "1      gossipcop-4580247171  ...       0\n",
            "2       gossipcop-941805037  ...       0\n",
            "3      gossipcop-2547891536  ...       0\n",
            "4      gossipcop-5476631226  ...       0\n",
            "...                     ...  ...     ...\n",
            "22135      gossipcop-891749  ...       1\n",
            "22136      gossipcop-941486  ...       1\n",
            "22137      gossipcop-953143  ...       1\n",
            "22138      gossipcop-954366  ...       1\n",
            "22139      gossipcop-877062  ...       1\n",
            "\n",
            "[22140 rows x 5 columns]\n"
          ]
        }
      ]
    },
    {
      "cell_type": "code",
      "source": [
        "print(df)"
      ],
      "metadata": {
        "id": "o2VUVYCL1q1i",
        "colab": {
          "base_uri": "https://localhost:8080/"
        },
        "outputId": "732a918b-5841-4a88-e2ab-aa741e4fd1cd"
      },
      "execution_count": null,
      "outputs": [
        {
          "output_type": "stream",
          "name": "stdout",
          "text": [
            "                         id  ... labelML\n",
            "0      gossipcop-2493749932  ...       0\n",
            "1      gossipcop-4580247171  ...       0\n",
            "2       gossipcop-941805037  ...       0\n",
            "3      gossipcop-2547891536  ...       0\n",
            "4      gossipcop-5476631226  ...       0\n",
            "...                     ...  ...     ...\n",
            "22135      gossipcop-891749  ...       1\n",
            "22136      gossipcop-941486  ...       1\n",
            "22137      gossipcop-953143  ...       1\n",
            "22138      gossipcop-954366  ...       1\n",
            "22139      gossipcop-877062  ...       1\n",
            "\n",
            "[22140 rows x 5 columns]\n"
          ]
        }
      ]
    },
    {
      "cell_type": "code",
      "source": [
        "df1= df.drop(['tweet_ids', 'news_url','id'], axis=1)\n",
        "df1.count()"
      ],
      "metadata": {
        "id": "jwscw5FG1t8P",
        "colab": {
          "base_uri": "https://localhost:8080/"
        },
        "outputId": "17a4ee76-9fc6-4d92-c911-95e71144d0a8"
      },
      "execution_count": null,
      "outputs": [
        {
          "output_type": "execute_result",
          "data": {
            "text/plain": [
              "title      22140\n",
              "labelML    22140\n",
              "dtype: int64"
            ]
          },
          "metadata": {},
          "execution_count": 266
        }
      ]
    },
    {
      "cell_type": "code",
      "source": [
        "# NLP Preprocessing\n",
        "from gensim.utils import simple_preprocess\n",
        "\n",
        "# NLP Preprocess - gensim.utils.simple_preprocess(doc, deacc=False, min_len=2, max_len=15)[source]\n",
        "# Convert a document into a list of tokens.\n",
        "# This lowercases, tokenizes, de-accents (optional). – the output are final tokens = unicode strings, that won’t be processed any further.\n",
        "\n",
        "df1.iloc[:, 0] = df1.iloc[:, 0].apply(lambda x: ' '.join(simple_preprocess(x)))"
      ],
      "metadata": {
        "id": "hdd1tdzS2HmB"
      },
      "execution_count": null,
      "outputs": []
    },
    {
      "cell_type": "code",
      "source": [
        "# Prefixing each row of the category column with '__label__' 0;10 all rows. same for column. \n",
        "#---------df1.iloc[:, 0] = df1.iloc[1:, 0].apply(lambda x: '__label__' + x)\n",
        "#print(df1)"
      ],
      "metadata": {
        "id": "l0VW4-_B3Ool"
      },
      "execution_count": null,
      "outputs": []
    },
    {
      "cell_type": "code",
      "source": [
        "#print(df1)\n",
        "df1.count()"
      ],
      "metadata": {
        "id": "h6wPx2906bxr",
        "colab": {
          "base_uri": "https://localhost:8080/"
        },
        "outputId": "b7a67988-168f-465f-99c7-bb59977d43a5"
      },
      "execution_count": null,
      "outputs": [
        {
          "output_type": "execute_result",
          "data": {
            "text/plain": [
              "title      22140\n",
              "labelML    22140\n",
              "dtype: int64"
            ]
          },
          "metadata": {},
          "execution_count": 268
        }
      ]
    },
    {
      "cell_type": "markdown",
      "source": [
        "\n",
        " #df = df.loc[:,\"title\"]\n",
        " # just for loc practice, ignore.\n",
        "\n",
        " X_train - This includes your all independent variables,these will be used to train the model, also as we have specified the test_size = 0.4, this means 60% of observations from your complete data will be used to train/fit the model and rest 40% will be used to test the model.\n",
        "\n",
        "2). X_test - This is remaining 40% portion of the independent variables from the data which will not be used in the training phase and will be used to make predictions to test the accuracy of the model.\n",
        "\n",
        "3). y_train - This is your dependent variable which needs to be predicted by this model, this includes category labels against your independent variables, we need to specify our dependent variable while training/fitting the model.\n",
        "\n",
        "4). y_test - This data has category labels for your test data, these labels will be used to test the accuracy between actual and predicted categories.\n"
      ],
      "metadata": {
        "id": "U0I2iZpj83sQ"
      }
    },
    {
      "cell_type": "code",
      "source": [
        "# Prefixing each row of the category column with '__label__' 0;10 all rows. same for column. \n",
        "df1.iloc[:5322, 0] = df1.iloc[:, 0].apply(lambda x: '__label__0 ' + x)\n",
        "df1.iloc[5323:, 0] = df1.iloc[1:, 0].apply(lambda x: '__label__1 ' + x)\n",
        "\n",
        "# NOTE BIG NOTE In general it is important to properly preprocess your data. In particular our example scripts in the root folder do this. i can see why the last cell is wierd, fix in post.\n"
      ],
      "metadata": {
        "id": "A6LGL-V67EHw"
      },
      "execution_count": null,
      "outputs": []
    },
    {
      "cell_type": "code",
      "source": [
        "print(df1)"
      ],
      "metadata": {
        "colab": {
          "base_uri": "https://localhost:8080/"
        },
        "id": "d370GpN5NJc7",
        "outputId": "de1122ae-6f76-48df-b753-7a7fddf178c8"
      },
      "execution_count": null,
      "outputs": [
        {
          "output_type": "stream",
          "name": "stdout",
          "text": [
            "                                                   title  labelML\n",
            "0      __label__0 did miley cyrus and liam hemsworth ...        0\n",
            "1      __label__0 paris jackson cara delevingne enjoy...        0\n",
            "2      __label__0 celebrities join tax march in prote...        0\n",
            "3      __label__0 cindy crawford daughter kaia gerber...        0\n",
            "4      __label__0 full list of oscar nominations variety        0\n",
            "...                                                  ...      ...\n",
            "22135  __label__1 hollywood film awards the complete ...        1\n",
            "22136  __label__1 jada pinkett smith explains why son...        1\n",
            "22137  __label__1 tinsley mortimer reacts to luann de...        1\n",
            "22138  __label__1 prince harry carries on princess di...        1\n",
            "22139  __label__1 kylie jenner is actually terrified ...        1\n",
            "\n",
            "[22140 rows x 2 columns]\n"
          ]
        }
      ]
    },
    {
      "cell_type": "code",
      "source": [
        "df1.count()"
      ],
      "metadata": {
        "colab": {
          "base_uri": "https://localhost:8080/"
        },
        "id": "6cQ2Qo3dE028",
        "outputId": "9b58df8c-ccd7-469d-cbc4-21dea7ff8623"
      },
      "execution_count": null,
      "outputs": [
        {
          "output_type": "execute_result",
          "data": {
            "text/plain": [
              "title      22140\n",
              "labelML    22140\n",
              "dtype: int64"
            ]
          },
          "metadata": {},
          "execution_count": 271
        }
      ]
    },
    {
      "cell_type": "code",
      "source": [
        "df1.reset_index(drop=True, inplace=True)\n",
        "X, y = df1.iloc[:, 1:], df1['labelML']\n",
        "\n",
        "# Create the training and test sets #IMP: use stratify when dataset is not balanced \n",
        "#https://stackoverflow.com/questions/24147278/how-do-i-create-test-and-train-samples-from-one-dataframe-with-pandas \n",
        "#--for few entries-- #X_train, X_test, y_train, y_test = train_test_split(X, y, test_size=0.1, random_state=123)\n",
        "\n",
        "X_train, X_test, y_train, y_test = train_test_split(X, y, stratify=y, test_size=0.3)\n",
        "\n",
        "# Instantiate the XGBClassifier: xg_cl\n",
        "xg_cl = xgb.XGBClassifier(objective='binary:logistic', n_estimators=10, seed=123)\n",
        "\n",
        "# Fit the classifier to the training set\n",
        "xg_cl.fit(X_train, y_train)\n",
        "\n",
        "# Predict the labels of the test set: preds\n",
        "preds = xg_cl.predict(X_test)\n",
        "\n",
        "# Compute the accuracy: accuracy\n",
        "accuracy = float(np.sum(preds == y_test)) / y_test.shape[0]\n",
        "print(\"accuracy: %f\" % (accuracy))"
      ],
      "metadata": {
        "colab": {
          "base_uri": "https://localhost:8080/"
        },
        "id": "kRG_kuxYD8ld",
        "outputId": "b2864567-7d38-4f4d-9fde-26f25f6697d9"
      },
      "execution_count": null,
      "outputs": [
        {
          "output_type": "stream",
          "name": "stdout",
          "text": [
            "accuracy: 1.000000\n"
          ]
        }
      ]
    },
    {
      "cell_type": "code",
      "source": [
        "df2=df1\n",
        "# ------------- df2 = df2.reindex(columns=['labelML', 'title'])\n",
        "#print(df1)"
      ],
      "metadata": {
        "id": "k8Q5iYqKFV5l"
      },
      "execution_count": null,
      "outputs": []
    },
    {
      "cell_type": "code",
      "source": [
        "traindf, testdf = train_test_split(df2, test_size=0.2)\n",
        "print(traindf)\n",
        "print(testdf)  \n",
        "\n",
        "traindf.count()"
      ],
      "metadata": {
        "id": "uPFqJirScaCL",
        "colab": {
          "base_uri": "https://localhost:8080/"
        },
        "outputId": "fdb4bbaa-cc81-4d90-fcca-9a72bed26bfa"
      },
      "execution_count": null,
      "outputs": [
        {
          "output_type": "stream",
          "name": "stdout",
          "text": [
            "                                                   title  labelML\n",
            "11016  __label__1 simon cowell rushed to hospital aft...        1\n",
            "5807   __label__1 busy philipps responds to backlash ...        1\n",
            "17607  __label__1 real housewives of potomac star mon...        1\n",
            "4869   __label__0 star girly princess suri cruise vs ...        0\n",
            "11580  __label__1 johnny depp star in crisis and the ...        1\n",
            "...                                                  ...      ...\n",
            "15189                       __label__1 we day california        1\n",
            "20471  __label__1 kevin spacey replaced by christophe...        1\n",
            "2360   __label__0 is brad pitt body odor becoming pro...        0\n",
            "14326  __label__1 have adam sandler drew barrymore ev...        1\n",
            "9655   __label__1 kelly clarkson responds to grammys ...        1\n",
            "\n",
            "[17712 rows x 2 columns]\n",
            "                                                   title  labelML\n",
            "5045   __label__0 katy perry and orlando bloom cozy u...        0\n",
            "17950  __label__1 cancer destroyed tristan butt but w...        1\n",
            "3130   __label__0 britney spears speaks pop star talk...        0\n",
            "9167   __label__1 star wars fans show up for solo red...        1\n",
            "2478   __label__0 blake shelton reveals that he misse...        0\n",
            "...                                                  ...      ...\n",
            "10773  __label__1 celebs remember prince on year anni...        1\n",
            "21038  __label__1 simpson is granted parole closing a...        1\n",
            "9078   __label__1 joe jonas more celebs tweet support...        1\n",
            "13280  __label__1 rhonj danielle staub gets engaged f...        1\n",
            "6385                __label__1 america got talent season        1\n",
            "\n",
            "[4428 rows x 2 columns]\n"
          ]
        },
        {
          "output_type": "execute_result",
          "data": {
            "text/plain": [
              "title      17712\n",
              "labelML    17712\n",
              "dtype: int64"
            ]
          },
          "metadata": {},
          "execution_count": 274
        }
      ]
    },
    {
      "cell_type": "code",
      "source": [
        "# Saving the CSV file as a text file to train/test the classifier\n",
        "import csv #needed\n",
        "traindf[['labelML', 'title']].to_csv('traindf.txt', \n",
        "                                          index = False, \n",
        "                                          sep = ' ',\n",
        "                                          header = None, \n",
        "                                          quoting = csv.QUOTE_NONE, \n",
        "                                          quotechar = \"\", \n",
        "                                          escapechar = \" \")\n",
        "\n",
        "testdf[['labelML', 'title']].to_csv('testdf.txt', \n",
        "                                     index = False, \n",
        "                                     sep = ' ',\n",
        "                                     header = None, \n",
        "                                     quoting = csv.QUOTE_NONE, \n",
        "                                     quotechar = \"\", \n",
        "                                     escapechar = \" \")"
      ],
      "metadata": {
        "id": "XS3912OVE1hT"
      },
      "execution_count": null,
      "outputs": []
    },
    {
      "cell_type": "code",
      "source": [
        "!pip install fasttext\n",
        "import fasttext\n",
        "# Training the fastText classifier\n",
        "model = fasttext.train_supervised('traindf.txt', wordNgrams = 2)\n",
        "\n",
        "# Evaluating performance on the entire test file\n",
        "model.test('testdf.txt')                      \n",
        "\n",
        "# Predicting on a single input\n",
        "testdf['labelML'] = testdf['labelML'].astype(str)\n",
        "model.predict(testdf.iloc[56, 0])\n",
        "#model.test(testdf.txt)\n",
        "\n",
        "# Save the trained model\n",
        "#model.save_model('model.bin')"
      ],
      "metadata": {
        "colab": {
          "base_uri": "https://localhost:8080/"
        },
        "id": "OmeXA3LwwCJZ",
        "outputId": "9204a5b6-6d70-4197-e0b4-a69f449faf67"
      },
      "execution_count": null,
      "outputs": [
        {
          "output_type": "stream",
          "name": "stdout",
          "text": [
            "Requirement already satisfied: fasttext in /usr/local/lib/python3.7/dist-packages (0.9.2)\n",
            "Requirement already satisfied: pybind11>=2.2 in /usr/local/lib/python3.7/dist-packages (from fasttext) (2.9.0)\n",
            "Requirement already satisfied: numpy in /usr/local/lib/python3.7/dist-packages (from fasttext) (1.19.5)\n",
            "Requirement already satisfied: setuptools>=0.7.0 in /usr/local/lib/python3.7/dist-packages (from fasttext) (57.4.0)\n"
          ]
        },
        {
          "output_type": "execute_result",
          "data": {
            "text/plain": [
              "(('__label__1',), array([0.84595311]))"
            ]
          },
          "metadata": {},
          "execution_count": 276
        }
      ]
    },
    {
      "cell_type": "code",
      "source": [
        "testdf.head(10)\n",
        "#print(testdf.columns)"
      ],
      "metadata": {
        "colab": {
          "base_uri": "https://localhost:8080/",
          "height": 363
        },
        "id": "q2JYv7k5xkh9",
        "outputId": "10bb3e5e-9de2-474e-c2e0-5cf575b55d32"
      },
      "execution_count": null,
      "outputs": [
        {
          "output_type": "execute_result",
          "data": {
            "text/html": [
              "\n",
              "  <div id=\"df-8c8bc7ae-9cd4-4e07-9b07-6af28580037d\">\n",
              "    <div class=\"colab-df-container\">\n",
              "      <div>\n",
              "<style scoped>\n",
              "    .dataframe tbody tr th:only-of-type {\n",
              "        vertical-align: middle;\n",
              "    }\n",
              "\n",
              "    .dataframe tbody tr th {\n",
              "        vertical-align: top;\n",
              "    }\n",
              "\n",
              "    .dataframe thead th {\n",
              "        text-align: right;\n",
              "    }\n",
              "</style>\n",
              "<table border=\"1\" class=\"dataframe\">\n",
              "  <thead>\n",
              "    <tr style=\"text-align: right;\">\n",
              "      <th></th>\n",
              "      <th>title</th>\n",
              "      <th>labelML</th>\n",
              "    </tr>\n",
              "  </thead>\n",
              "  <tbody>\n",
              "    <tr>\n",
              "      <th>5045</th>\n",
              "      <td>__label__0 katy perry and orlando bloom cozy u...</td>\n",
              "      <td>0</td>\n",
              "    </tr>\n",
              "    <tr>\n",
              "      <th>17950</th>\n",
              "      <td>__label__1 cancer destroyed tristan butt but w...</td>\n",
              "      <td>1</td>\n",
              "    </tr>\n",
              "    <tr>\n",
              "      <th>3130</th>\n",
              "      <td>__label__0 britney spears speaks pop star talk...</td>\n",
              "      <td>0</td>\n",
              "    </tr>\n",
              "    <tr>\n",
              "      <th>9167</th>\n",
              "      <td>__label__1 star wars fans show up for solo red...</td>\n",
              "      <td>1</td>\n",
              "    </tr>\n",
              "    <tr>\n",
              "      <th>2478</th>\n",
              "      <td>__label__0 blake shelton reveals that he misse...</td>\n",
              "      <td>0</td>\n",
              "    </tr>\n",
              "    <tr>\n",
              "      <th>16454</th>\n",
              "      <td>__label__1 vanderpump rules ariana madix recal...</td>\n",
              "      <td>1</td>\n",
              "    </tr>\n",
              "    <tr>\n",
              "      <th>11653</th>\n",
              "      <td>__label__1 robert henstridge</td>\n",
              "      <td>1</td>\n",
              "    </tr>\n",
              "    <tr>\n",
              "      <th>15666</th>\n",
              "      <td>__label__1 see every celebrity at the royal we...</td>\n",
              "      <td>1</td>\n",
              "    </tr>\n",
              "    <tr>\n",
              "      <th>19586</th>\n",
              "      <td>__label__1 meghan markle dad thomas causing ro...</td>\n",
              "      <td>1</td>\n",
              "    </tr>\n",
              "    <tr>\n",
              "      <th>1802</th>\n",
              "      <td>__label__0 selena gomez and justin bieber hang...</td>\n",
              "      <td>0</td>\n",
              "    </tr>\n",
              "  </tbody>\n",
              "</table>\n",
              "</div>\n",
              "      <button class=\"colab-df-convert\" onclick=\"convertToInteractive('df-8c8bc7ae-9cd4-4e07-9b07-6af28580037d')\"\n",
              "              title=\"Convert this dataframe to an interactive table.\"\n",
              "              style=\"display:none;\">\n",
              "        \n",
              "  <svg xmlns=\"http://www.w3.org/2000/svg\" height=\"24px\"viewBox=\"0 0 24 24\"\n",
              "       width=\"24px\">\n",
              "    <path d=\"M0 0h24v24H0V0z\" fill=\"none\"/>\n",
              "    <path d=\"M18.56 5.44l.94 2.06.94-2.06 2.06-.94-2.06-.94-.94-2.06-.94 2.06-2.06.94zm-11 1L8.5 8.5l.94-2.06 2.06-.94-2.06-.94L8.5 2.5l-.94 2.06-2.06.94zm10 10l.94 2.06.94-2.06 2.06-.94-2.06-.94-.94-2.06-.94 2.06-2.06.94z\"/><path d=\"M17.41 7.96l-1.37-1.37c-.4-.4-.92-.59-1.43-.59-.52 0-1.04.2-1.43.59L10.3 9.45l-7.72 7.72c-.78.78-.78 2.05 0 2.83L4 21.41c.39.39.9.59 1.41.59.51 0 1.02-.2 1.41-.59l7.78-7.78 2.81-2.81c.8-.78.8-2.07 0-2.86zM5.41 20L4 18.59l7.72-7.72 1.47 1.35L5.41 20z\"/>\n",
              "  </svg>\n",
              "      </button>\n",
              "      \n",
              "  <style>\n",
              "    .colab-df-container {\n",
              "      display:flex;\n",
              "      flex-wrap:wrap;\n",
              "      gap: 12px;\n",
              "    }\n",
              "\n",
              "    .colab-df-convert {\n",
              "      background-color: #E8F0FE;\n",
              "      border: none;\n",
              "      border-radius: 50%;\n",
              "      cursor: pointer;\n",
              "      display: none;\n",
              "      fill: #1967D2;\n",
              "      height: 32px;\n",
              "      padding: 0 0 0 0;\n",
              "      width: 32px;\n",
              "    }\n",
              "\n",
              "    .colab-df-convert:hover {\n",
              "      background-color: #E2EBFA;\n",
              "      box-shadow: 0px 1px 2px rgba(60, 64, 67, 0.3), 0px 1px 3px 1px rgba(60, 64, 67, 0.15);\n",
              "      fill: #174EA6;\n",
              "    }\n",
              "\n",
              "    [theme=dark] .colab-df-convert {\n",
              "      background-color: #3B4455;\n",
              "      fill: #D2E3FC;\n",
              "    }\n",
              "\n",
              "    [theme=dark] .colab-df-convert:hover {\n",
              "      background-color: #434B5C;\n",
              "      box-shadow: 0px 1px 3px 1px rgba(0, 0, 0, 0.15);\n",
              "      filter: drop-shadow(0px 1px 2px rgba(0, 0, 0, 0.3));\n",
              "      fill: #FFFFFF;\n",
              "    }\n",
              "  </style>\n",
              "\n",
              "      <script>\n",
              "        const buttonEl =\n",
              "          document.querySelector('#df-8c8bc7ae-9cd4-4e07-9b07-6af28580037d button.colab-df-convert');\n",
              "        buttonEl.style.display =\n",
              "          google.colab.kernel.accessAllowed ? 'block' : 'none';\n",
              "\n",
              "        async function convertToInteractive(key) {\n",
              "          const element = document.querySelector('#df-8c8bc7ae-9cd4-4e07-9b07-6af28580037d');\n",
              "          const dataTable =\n",
              "            await google.colab.kernel.invokeFunction('convertToInteractive',\n",
              "                                                     [key], {});\n",
              "          if (!dataTable) return;\n",
              "\n",
              "          const docLinkHtml = 'Like what you see? Visit the ' +\n",
              "            '<a target=\"_blank\" href=https://colab.research.google.com/notebooks/data_table.ipynb>data table notebook</a>'\n",
              "            + ' to learn more about interactive tables.';\n",
              "          element.innerHTML = '';\n",
              "          dataTable['output_type'] = 'display_data';\n",
              "          await google.colab.output.renderOutput(dataTable, element);\n",
              "          const docLink = document.createElement('div');\n",
              "          docLink.innerHTML = docLinkHtml;\n",
              "          element.appendChild(docLink);\n",
              "        }\n",
              "      </script>\n",
              "    </div>\n",
              "  </div>\n",
              "  "
            ],
            "text/plain": [
              "                                                   title labelML\n",
              "5045   __label__0 katy perry and orlando bloom cozy u...       0\n",
              "17950  __label__1 cancer destroyed tristan butt but w...       1\n",
              "3130   __label__0 britney spears speaks pop star talk...       0\n",
              "9167   __label__1 star wars fans show up for solo red...       1\n",
              "2478   __label__0 blake shelton reveals that he misse...       0\n",
              "16454  __label__1 vanderpump rules ariana madix recal...       1\n",
              "11653                       __label__1 robert henstridge       1\n",
              "15666  __label__1 see every celebrity at the royal we...       1\n",
              "19586  __label__1 meghan markle dad thomas causing ro...       1\n",
              "1802   __label__0 selena gomez and justin bieber hang...       0"
            ]
          },
          "metadata": {},
          "execution_count": 295
        }
      ]
    },
    {
      "cell_type": "markdown",
      "source": [
        "This model is running, so trying to change with vectors, or textual input for new vectors. Accuracy is only 50 percent coz I've given it such a balanced dataset."
      ],
      "metadata": {
        "id": "gH6DjpzfyzPb"
      }
    },
    {
      "cell_type": "code",
      "source": [
        "# Predicting on a single input\n",
        "#model.predict(test.iloc['Miley cyrus is new'])\n",
        "#model.test(testdf.txt)\n",
        "#use this later when we have the representations I guess. \n"
      ],
      "metadata": {
        "id": "XJE1lyAxy9wB"
      },
      "execution_count": null,
      "outputs": []
    },
    {
      "cell_type": "code",
      "source": [
        "# Once the model is trained, we can retrieve the list of words and labels\n",
        "\n",
        "# model.words \n",
        "model.labels\n",
        "#It returns all words in the vocabulary, sorted by decreasing frequency. "
      ],
      "metadata": {
        "colab": {
          "base_uri": "https://localhost:8080/"
        },
        "id": "Cpwz0En5TQAM",
        "outputId": "a2f5399f-238d-486f-81ad-780972adb9da"
      },
      "execution_count": null,
      "outputs": [
        {
          "output_type": "execute_result",
          "data": {
            "text/plain": [
              "['__label__1', '__label__0']"
            ]
          },
          "metadata": {},
          "execution_count": 305
        }
      ]
    },
    {
      "cell_type": "code",
      "source": [
        "# To evaluate our model by computing the precision at 1 (P@1) and the recall on a test set, we use the test function:\n",
        "\n",
        "def print_results(N, p, r):\n",
        "    print(\"N\\t\" + str(N))\n",
        "    print(\"P@{}\\t{:.3f}\".format(1, p))\n",
        "    print(\"R@{}\\t{:.3f}\".format(1, r))\n",
        "\n",
        "print_results(*model.test('testdf.txt'))"
      ],
      "metadata": {
        "colab": {
          "base_uri": "https://localhost:8080/"
        },
        "id": "lIrKDza2aujM",
        "outputId": "3ddc500a-a662-4933-f4f1-cc41d4418fe3"
      },
      "execution_count": null,
      "outputs": [
        {
          "output_type": "stream",
          "name": "stdout",
          "text": [
            "N\t4428\n",
            "P@1\t1.000\n",
            "R@1\t1.000\n"
          ]
        }
      ]
    },
    {
      "cell_type": "code",
      "source": [
        "#We can also predict labels for a specific text. By default, predict returns only one label :\n",
        "# the one with the highest probability. You can also predict more than one label by specifying the parameter k:\n",
        "model.predict(\"poo mooo op\", k=2)"
      ],
      "metadata": {
        "colab": {
          "base_uri": "https://localhost:8080/"
        },
        "id": "46d45je9bTf4",
        "outputId": "fe67c6ea-b0ce-471d-d9fb-29b8c7e98add"
      },
      "execution_count": null,
      "outputs": [
        {
          "output_type": "execute_result",
          "data": {
            "text/plain": [
              "(('__label__1', '__label__0'), array([0.90478355, 0.09523643]))"
            ]
          },
          "metadata": {},
          "execution_count": 312
        }
      ]
    },
    {
      "cell_type": "code",
      "source": [
        "#traindf['title'] = \n",
        "model.get_word_vector(\"the\")"
      ],
      "metadata": {
        "colab": {
          "base_uri": "https://localhost:8080/"
        },
        "id": "NIayPxG_XW3N",
        "outputId": "a69961e5-4936-4610-b8e5-d7e19601f135"
      },
      "execution_count": null,
      "outputs": [
        {
          "output_type": "execute_result",
          "data": {
            "text/plain": [
              "array([ 0.02137857,  0.01676384,  0.04503896, -0.0524342 ,  0.06966472,\n",
              "        0.02554192, -0.02811272, -0.0125381 ,  0.03379885,  0.022515  ,\n",
              "       -0.00410887, -0.043385  ,  0.00548688,  0.01112284, -0.05795665,\n",
              "       -0.02040619,  0.03973591,  0.05103175, -0.05173127, -0.02768937,\n",
              "       -0.01450215,  0.06939985,  0.02702775,  0.00922399, -0.01715516,\n",
              "       -0.07961302, -0.03875691, -0.03920429, -0.00676623,  0.02291585,\n",
              "       -0.04950753, -0.02018066, -0.02099022, -0.07745673, -0.09214057,\n",
              "       -0.02726264, -0.0315864 ,  0.0202981 ,  0.0233455 , -0.03360463,\n",
              "       -0.04834947,  0.10499092, -0.00102818,  0.05098762,  0.05997887,\n",
              "        0.01068992,  0.05072624, -0.01362669, -0.04072247,  0.0327213 ,\n",
              "       -0.03744594,  0.03770958, -0.02543122,  0.06992245, -0.07166345,\n",
              "        0.03161179, -0.05292026, -0.00376694,  0.04681172, -0.00822764,\n",
              "        0.0037593 ,  0.05232479,  0.07301264,  0.10612043,  0.01843838,\n",
              "       -0.00348117, -0.08782569,  0.00184562, -0.01502951, -0.02579596,\n",
              "       -0.0498017 ,  0.03033394,  0.03945003, -0.06769253, -0.03707773,\n",
              "       -0.03607203,  0.01555063,  0.00867342,  0.04782471,  0.025126  ,\n",
              "        0.00515263, -0.01757645,  0.02473914, -0.03650236, -0.00162112,\n",
              "       -0.01899704,  0.00579409, -0.03215744, -0.00422865,  0.04119408,\n",
              "        0.03548157,  0.03151648,  0.07375909, -0.03984464,  0.04664759,\n",
              "       -0.02934102, -0.00424205,  0.04696898, -0.04461248, -0.04763511],\n",
              "      dtype=float32)"
            ]
          },
          "metadata": {},
          "execution_count": 300
        }
      ]
    },
    {
      "cell_type": "code",
      "source": [
        "model.get_sentence_vector(\"simon cowell rushed to hospital\")"
      ],
      "metadata": {
        "colab": {
          "base_uri": "https://localhost:8080/"
        },
        "id": "ieRTxztPYT7L",
        "outputId": "c9d41501-e678-47b4-808a-21fffaf7ce6b"
      },
      "execution_count": null,
      "outputs": [
        {
          "output_type": "execute_result",
          "data": {
            "text/plain": [
              "array([ 0.00081413,  0.00415767,  0.0056617 , -0.00708038,  0.00977401,\n",
              "        0.00481745, -0.00278039, -0.00195706,  0.00271939,  0.00450671,\n",
              "        0.00133211, -0.00539508,  0.00103059,  0.00293263, -0.0096593 ,\n",
              "       -0.00487769,  0.00284352,  0.00556662, -0.00440305, -0.00490769,\n",
              "       -0.00049042,  0.01025262,  0.00385767, -0.00153705, -0.00193012,\n",
              "       -0.01131517, -0.00508423, -0.00635487,  0.00026353,  0.00357465,\n",
              "       -0.00787182, -0.00251322, -0.00391168, -0.01214969, -0.01154874,\n",
              "       -0.00332629, -0.00196435, -0.00051089,  0.0015515 , -0.00555801,\n",
              "       -0.00501047,  0.01398455, -0.00114764,  0.00663001,  0.00896661,\n",
              "       -0.00098225,  0.00453457, -0.00247772, -0.00804651,  0.00502003,\n",
              "       -0.0067461 ,  0.0064368 , -0.00588753,  0.01086427, -0.00908087,\n",
              "        0.00459908, -0.00802532,  0.00100556,  0.00544896,  0.00040345,\n",
              "       -0.00018507,  0.00644288,  0.01032001,  0.01256949,  0.00302291,\n",
              "       -0.00050707, -0.01364416,  0.00186482, -0.00200181,  0.00022313,\n",
              "       -0.00827899,  0.00395814,  0.0066794 , -0.00917676, -0.00342961,\n",
              "       -0.00624726,  0.00144212,  0.00139527,  0.00649776,  0.00434019,\n",
              "       -0.00113747, -0.00077146,  0.00418878, -0.00433359,  0.0006095 ,\n",
              "       -0.00102614,  0.00158605, -0.00556179, -0.00099939,  0.00517145,\n",
              "        0.00910601,  0.00606709,  0.00831138, -0.00620858,  0.00542544,\n",
              "       -0.00406966, -0.00010888,  0.00859431, -0.00574168, -0.00927443],\n",
              "      dtype=float32)"
            ]
          },
          "metadata": {},
          "execution_count": 301
        }
      ]
    },
    {
      "cell_type": "code",
      "source": [
        "model.get_word_vector(\"the\")"
      ],
      "metadata": {
        "colab": {
          "base_uri": "https://localhost:8080/"
        },
        "id": "GgWSh6SPTQTt",
        "outputId": "c3d5943d-b5dd-471b-bf45-112f88048b36"
      },
      "execution_count": null,
      "outputs": [
        {
          "output_type": "execute_result",
          "data": {
            "text/plain": [
              "array([ 0.02137857,  0.01676384,  0.04503896, -0.0524342 ,  0.06966472,\n",
              "        0.02554192, -0.02811272, -0.0125381 ,  0.03379885,  0.022515  ,\n",
              "       -0.00410887, -0.043385  ,  0.00548688,  0.01112284, -0.05795665,\n",
              "       -0.02040619,  0.03973591,  0.05103175, -0.05173127, -0.02768937,\n",
              "       -0.01450215,  0.06939985,  0.02702775,  0.00922399, -0.01715516,\n",
              "       -0.07961302, -0.03875691, -0.03920429, -0.00676623,  0.02291585,\n",
              "       -0.04950753, -0.02018066, -0.02099022, -0.07745673, -0.09214057,\n",
              "       -0.02726264, -0.0315864 ,  0.0202981 ,  0.0233455 , -0.03360463,\n",
              "       -0.04834947,  0.10499092, -0.00102818,  0.05098762,  0.05997887,\n",
              "        0.01068992,  0.05072624, -0.01362669, -0.04072247,  0.0327213 ,\n",
              "       -0.03744594,  0.03770958, -0.02543122,  0.06992245, -0.07166345,\n",
              "        0.03161179, -0.05292026, -0.00376694,  0.04681172, -0.00822764,\n",
              "        0.0037593 ,  0.05232479,  0.07301264,  0.10612043,  0.01843838,\n",
              "       -0.00348117, -0.08782569,  0.00184562, -0.01502951, -0.02579596,\n",
              "       -0.0498017 ,  0.03033394,  0.03945003, -0.06769253, -0.03707773,\n",
              "       -0.03607203,  0.01555063,  0.00867342,  0.04782471,  0.025126  ,\n",
              "        0.00515263, -0.01757645,  0.02473914, -0.03650236, -0.00162112,\n",
              "       -0.01899704,  0.00579409, -0.03215744, -0.00422865,  0.04119408,\n",
              "        0.03548157,  0.03151648,  0.07375909, -0.03984464,  0.04664759,\n",
              "       -0.02934102, -0.00424205,  0.04696898, -0.04461248, -0.04763511],\n",
              "      dtype=float32)"
            ]
          },
          "metadata": {},
          "execution_count": 292
        }
      ]
    },
    {
      "cell_type": "code",
      "source": [
        "model.get_nearest_neighbors('green')"
      ],
      "metadata": {
        "colab": {
          "base_uri": "https://localhost:8080/"
        },
        "id": "4Pn7dhscaAng",
        "outputId": "5981f395-d7a6-4b53-bf49-20d59d1c714e"
      },
      "execution_count": null,
      "outputs": [
        {
          "output_type": "execute_result",
          "data": {
            "text/plain": [
              "[(0.3940635025501251, 'hollywood'),\n",
              " (0.3803780674934387, 'pop'),\n",
              " (0.37719613313674927, 'this'),\n",
              " (0.3761516511440277, 'olivia'),\n",
              " (0.3665911555290222, 'kevin'),\n",
              " (0.3632358908653259, 'young'),\n",
              " (0.3584491014480591, 'up'),\n",
              " (0.35696443915367126, 'my'),\n",
              " (0.35505664348602295, 'birthday'),\n",
              " (0.3540915846824646, 'reveals')]"
            ]
          },
          "metadata": {},
          "execution_count": 304
        }
      ]
    },
    {
      "cell_type": "markdown",
      "source": [
        "Will be attempting vectors here."
      ],
      "metadata": {
        "id": "KiNRzdelTQqa"
      }
    },
    {
      "cell_type": "code",
      "source": [
        "!pip install fasttext\n",
        "#!pip install unzip\n",
        "#!pip install gunzip\n",
        "#!gunzip cc.en.300.bin.gz  #common issue: https://github.com/facebookresearch/fastText/issues/1034\n",
        "import fasttext as ft\n",
        "\n",
        "#!pip3 install pyfasttext\n",
        "#from pyfasttext import FastText\n",
        "\n",
        "# Loading model for English\n",
        "modelog = ft.load_model(r\"C:\\Users\\salon\\Downloads\\cc.en.300.bin\") \n",
        " \n",
        "# Getting word vectors for 'one' and 'two'.\n",
        "one = modelog.get_word_vector('one')\n",
        "two = modelog.get_word_vector('two')\n",
        "\n",
        "# Getting the sentence vector for the sentence \"one two\" in Finnish.\n",
        "one_two = modelog.get_sentence_vector('one two')\n",
        "one_two_avg = (one + two) / 2"
      ],
      "metadata": {
        "colab": {
          "base_uri": "https://localhost:8080/",
          "height": 466
        },
        "id": "KDqNG5AxOPES",
        "outputId": "2bd3c5c9-c1cd-4a60-f3bb-624c3899b43a"
      },
      "execution_count": null,
      "outputs": [
        {
          "output_type": "stream",
          "name": "stdout",
          "text": [
            "Requirement already satisfied: fasttext in /usr/local/lib/python3.7/dist-packages (0.9.2)\n",
            "Requirement already satisfied: numpy in /usr/local/lib/python3.7/dist-packages (from fasttext) (1.19.5)\n",
            "Requirement already satisfied: setuptools>=0.7.0 in /usr/local/lib/python3.7/dist-packages (from fasttext) (57.4.0)\n",
            "Requirement already satisfied: pybind11>=2.2 in /usr/local/lib/python3.7/dist-packages (from fasttext) (2.9.0)\n"
          ]
        },
        {
          "output_type": "stream",
          "name": "stderr",
          "text": [
            "Warning : `load_model` does not return WordVectorModel or SupervisedModel any more, but a `FastText` object which is very similar.\n"
          ]
        },
        {
          "output_type": "error",
          "ename": "ValueError",
          "evalue": "ignored",
          "traceback": [
            "\u001b[0;31m---------------------------------------------------------------------------\u001b[0m",
            "\u001b[0;31mValueError\u001b[0m                                Traceback (most recent call last)",
            "\u001b[0;32m<ipython-input-326-8dc0f4225a0f>\u001b[0m in \u001b[0;36m<module>\u001b[0;34m()\u001b[0m\n\u001b[1;32m      9\u001b[0m \u001b[0;34m\u001b[0m\u001b[0m\n\u001b[1;32m     10\u001b[0m \u001b[0;31m# Loading model for English\u001b[0m\u001b[0;34m\u001b[0m\u001b[0;34m\u001b[0m\u001b[0;34m\u001b[0m\u001b[0m\n\u001b[0;32m---> 11\u001b[0;31m \u001b[0mmodelog\u001b[0m \u001b[0;34m=\u001b[0m \u001b[0mft\u001b[0m\u001b[0;34m.\u001b[0m\u001b[0mload_model\u001b[0m\u001b[0;34m(\u001b[0m\u001b[0;34mr\"C:\\Users\\salon\\Downloads\\cc.en.300.bin\"\u001b[0m\u001b[0;34m)\u001b[0m\u001b[0;34m\u001b[0m\u001b[0;34m\u001b[0m\u001b[0m\n\u001b[0m\u001b[1;32m     12\u001b[0m \u001b[0;34m\u001b[0m\u001b[0m\n\u001b[1;32m     13\u001b[0m \u001b[0;31m# Getting word vectors for 'one' and 'two'.\u001b[0m\u001b[0;34m\u001b[0m\u001b[0;34m\u001b[0m\u001b[0;34m\u001b[0m\u001b[0m\n",
            "\u001b[0;32m/usr/local/lib/python3.7/dist-packages/fasttext/FastText.py\u001b[0m in \u001b[0;36mload_model\u001b[0;34m(path)\u001b[0m\n\u001b[1;32m    439\u001b[0m     \u001b[0;34m\"\"\"Load a model given a filepath and return a model object.\"\"\"\u001b[0m\u001b[0;34m\u001b[0m\u001b[0;34m\u001b[0m\u001b[0m\n\u001b[1;32m    440\u001b[0m     \u001b[0meprint\u001b[0m\u001b[0;34m(\u001b[0m\u001b[0;34m\"Warning : `load_model` does not return WordVectorModel or SupervisedModel any more, but a `FastText` object which is very similar.\"\u001b[0m\u001b[0;34m)\u001b[0m\u001b[0;34m\u001b[0m\u001b[0;34m\u001b[0m\u001b[0m\n\u001b[0;32m--> 441\u001b[0;31m     \u001b[0;32mreturn\u001b[0m \u001b[0m_FastText\u001b[0m\u001b[0;34m(\u001b[0m\u001b[0mmodel_path\u001b[0m\u001b[0;34m=\u001b[0m\u001b[0mpath\u001b[0m\u001b[0;34m)\u001b[0m\u001b[0;34m\u001b[0m\u001b[0;34m\u001b[0m\u001b[0m\n\u001b[0m\u001b[1;32m    442\u001b[0m \u001b[0;34m\u001b[0m\u001b[0m\n\u001b[1;32m    443\u001b[0m \u001b[0;34m\u001b[0m\u001b[0m\n",
            "\u001b[0;32m/usr/local/lib/python3.7/dist-packages/fasttext/FastText.py\u001b[0m in \u001b[0;36m__init__\u001b[0;34m(self, model_path, args)\u001b[0m\n\u001b[1;32m     96\u001b[0m         \u001b[0mself\u001b[0m\u001b[0;34m.\u001b[0m\u001b[0mf\u001b[0m \u001b[0;34m=\u001b[0m \u001b[0mfasttext\u001b[0m\u001b[0;34m.\u001b[0m\u001b[0mfasttext\u001b[0m\u001b[0;34m(\u001b[0m\u001b[0;34m)\u001b[0m\u001b[0;34m\u001b[0m\u001b[0;34m\u001b[0m\u001b[0m\n\u001b[1;32m     97\u001b[0m         \u001b[0;32mif\u001b[0m \u001b[0mmodel_path\u001b[0m \u001b[0;32mis\u001b[0m \u001b[0;32mnot\u001b[0m \u001b[0;32mNone\u001b[0m\u001b[0;34m:\u001b[0m\u001b[0;34m\u001b[0m\u001b[0;34m\u001b[0m\u001b[0m\n\u001b[0;32m---> 98\u001b[0;31m             \u001b[0mself\u001b[0m\u001b[0;34m.\u001b[0m\u001b[0mf\u001b[0m\u001b[0;34m.\u001b[0m\u001b[0mloadModel\u001b[0m\u001b[0;34m(\u001b[0m\u001b[0mmodel_path\u001b[0m\u001b[0;34m)\u001b[0m\u001b[0;34m\u001b[0m\u001b[0;34m\u001b[0m\u001b[0m\n\u001b[0m\u001b[1;32m     99\u001b[0m         \u001b[0mself\u001b[0m\u001b[0;34m.\u001b[0m\u001b[0m_words\u001b[0m \u001b[0;34m=\u001b[0m \u001b[0;32mNone\u001b[0m\u001b[0;34m\u001b[0m\u001b[0;34m\u001b[0m\u001b[0m\n\u001b[1;32m    100\u001b[0m         \u001b[0mself\u001b[0m\u001b[0;34m.\u001b[0m\u001b[0m_labels\u001b[0m \u001b[0;34m=\u001b[0m \u001b[0;32mNone\u001b[0m\u001b[0;34m\u001b[0m\u001b[0;34m\u001b[0m\u001b[0m\n",
            "\u001b[0;31mValueError\u001b[0m: C:\\Users\\salon\\Downloads\\cc.en.300.bin cannot be opened for loading!"
          ]
        }
      ]
    },
    {
      "cell_type": "code",
      "source": [
        "#Open the dataset, and for each title, get the word vector as follows: \n",
        "vector = ft.get_word_vector(text)#<DOUBTS: Does this embed only words (as opposed to sentences or sequences of words)... If it embeds only words then the average vector that represents the sentence is the dimension-wise average of all vectors of its words? What does it go if you give it an out-of-vocabulary word? (Does it give an error or a \"blank\" vector?)\n",
        "#Save the word vectors in a dataframe that has 2 fields: x (word vector) and y (label as fake_news or not)\n",
        "#Then take the dataframe that you have and train an XGBoost model over it."
      ],
      "metadata": {
        "id": "uz6F4x7mQd9Z"
      },
      "execution_count": null,
      "outputs": []
    }
  ]
}