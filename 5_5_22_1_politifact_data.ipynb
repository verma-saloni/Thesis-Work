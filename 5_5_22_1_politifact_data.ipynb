{
  "nbformat": 4,
  "nbformat_minor": 0,
  "metadata": {
    "colab": {
      "name": "politifact_data.ipynb",
      "provenance": [],
      "collapsed_sections": [],
      "include_colab_link": true
    },
    "kernelspec": {
      "name": "python3",
      "display_name": "Python 3"
    },
    "language_info": {
      "name": "python"
    },
    "widgets": {
      "application/vnd.jupyter.widget-state+json": {
        "88e2cf0354914c469e85c67857aca6aa": {
          "model_module": "@jupyter-widgets/controls",
          "model_name": "HBoxModel",
          "model_module_version": "1.5.0",
          "state": {
            "_dom_classes": [],
            "_model_module": "@jupyter-widgets/controls",
            "_model_module_version": "1.5.0",
            "_model_name": "HBoxModel",
            "_view_count": null,
            "_view_module": "@jupyter-widgets/controls",
            "_view_module_version": "1.5.0",
            "_view_name": "HBoxView",
            "box_style": "",
            "children": [
              "IPY_MODEL_6a0d495068f84bd9b2cef8ad98f60e2b",
              "IPY_MODEL_a5211626dd804d919aaf1f7b2597ee2b",
              "IPY_MODEL_00698cedb0fa4ec1834c06e7c0645249"
            ],
            "layout": "IPY_MODEL_14d9125857ac4321a02b8967f7fdc864"
          }
        },
        "6a0d495068f84bd9b2cef8ad98f60e2b": {
          "model_module": "@jupyter-widgets/controls",
          "model_name": "HTMLModel",
          "model_module_version": "1.5.0",
          "state": {
            "_dom_classes": [],
            "_model_module": "@jupyter-widgets/controls",
            "_model_module_version": "1.5.0",
            "_model_name": "HTMLModel",
            "_view_count": null,
            "_view_module": "@jupyter-widgets/controls",
            "_view_module_version": "1.5.0",
            "_view_name": "HTMLView",
            "description": "",
            "description_tooltip": null,
            "layout": "IPY_MODEL_1b3217f3b5c1439a9f7cea6cc21b297f",
            "placeholder": "​",
            "style": "IPY_MODEL_64fc8768f7ca46cd9bb17e8ea08ef47a",
            "value": ""
          }
        },
        "a5211626dd804d919aaf1f7b2597ee2b": {
          "model_module": "@jupyter-widgets/controls",
          "model_name": "FloatProgressModel",
          "model_module_version": "1.5.0",
          "state": {
            "_dom_classes": [],
            "_model_module": "@jupyter-widgets/controls",
            "_model_module_version": "1.5.0",
            "_model_name": "FloatProgressModel",
            "_view_count": null,
            "_view_module": "@jupyter-widgets/controls",
            "_view_module_version": "1.5.0",
            "_view_name": "ProgressView",
            "bar_style": "success",
            "description": "",
            "description_tooltip": null,
            "layout": "IPY_MODEL_2408c2f31fa940739a788318c8a68cd7",
            "max": 1,
            "min": 0,
            "orientation": "horizontal",
            "style": "IPY_MODEL_4dd8abdfb6a2492983b02322e74c73cc",
            "value": 0
          }
        },
        "00698cedb0fa4ec1834c06e7c0645249": {
          "model_module": "@jupyter-widgets/controls",
          "model_name": "HTMLModel",
          "model_module_version": "1.5.0",
          "state": {
            "_dom_classes": [],
            "_model_module": "@jupyter-widgets/controls",
            "_model_module_version": "1.5.0",
            "_model_name": "HTMLModel",
            "_view_count": null,
            "_view_module": "@jupyter-widgets/controls",
            "_view_module_version": "1.5.0",
            "_view_name": "HTMLView",
            "description": "",
            "description_tooltip": null,
            "layout": "IPY_MODEL_be4f6da5427b40d4acd0a3a8f44891cf",
            "placeholder": "​",
            "style": "IPY_MODEL_e6be2753297a468590a8064be0785f13",
            "value": " 0/0 [00:00&lt;?, ?it/s]"
          }
        },
        "14d9125857ac4321a02b8967f7fdc864": {
          "model_module": "@jupyter-widgets/base",
          "model_name": "LayoutModel",
          "model_module_version": "1.2.0",
          "state": {
            "_model_module": "@jupyter-widgets/base",
            "_model_module_version": "1.2.0",
            "_model_name": "LayoutModel",
            "_view_count": null,
            "_view_module": "@jupyter-widgets/base",
            "_view_module_version": "1.2.0",
            "_view_name": "LayoutView",
            "align_content": null,
            "align_items": null,
            "align_self": null,
            "border": null,
            "bottom": null,
            "display": null,
            "flex": null,
            "flex_flow": null,
            "grid_area": null,
            "grid_auto_columns": null,
            "grid_auto_flow": null,
            "grid_auto_rows": null,
            "grid_column": null,
            "grid_gap": null,
            "grid_row": null,
            "grid_template_areas": null,
            "grid_template_columns": null,
            "grid_template_rows": null,
            "height": null,
            "justify_content": null,
            "justify_items": null,
            "left": null,
            "margin": null,
            "max_height": null,
            "max_width": null,
            "min_height": null,
            "min_width": null,
            "object_fit": null,
            "object_position": null,
            "order": null,
            "overflow": null,
            "overflow_x": null,
            "overflow_y": null,
            "padding": null,
            "right": null,
            "top": null,
            "visibility": null,
            "width": null
          }
        },
        "1b3217f3b5c1439a9f7cea6cc21b297f": {
          "model_module": "@jupyter-widgets/base",
          "model_name": "LayoutModel",
          "model_module_version": "1.2.0",
          "state": {
            "_model_module": "@jupyter-widgets/base",
            "_model_module_version": "1.2.0",
            "_model_name": "LayoutModel",
            "_view_count": null,
            "_view_module": "@jupyter-widgets/base",
            "_view_module_version": "1.2.0",
            "_view_name": "LayoutView",
            "align_content": null,
            "align_items": null,
            "align_self": null,
            "border": null,
            "bottom": null,
            "display": null,
            "flex": null,
            "flex_flow": null,
            "grid_area": null,
            "grid_auto_columns": null,
            "grid_auto_flow": null,
            "grid_auto_rows": null,
            "grid_column": null,
            "grid_gap": null,
            "grid_row": null,
            "grid_template_areas": null,
            "grid_template_columns": null,
            "grid_template_rows": null,
            "height": null,
            "justify_content": null,
            "justify_items": null,
            "left": null,
            "margin": null,
            "max_height": null,
            "max_width": null,
            "min_height": null,
            "min_width": null,
            "object_fit": null,
            "object_position": null,
            "order": null,
            "overflow": null,
            "overflow_x": null,
            "overflow_y": null,
            "padding": null,
            "right": null,
            "top": null,
            "visibility": null,
            "width": null
          }
        },
        "64fc8768f7ca46cd9bb17e8ea08ef47a": {
          "model_module": "@jupyter-widgets/controls",
          "model_name": "DescriptionStyleModel",
          "model_module_version": "1.5.0",
          "state": {
            "_model_module": "@jupyter-widgets/controls",
            "_model_module_version": "1.5.0",
            "_model_name": "DescriptionStyleModel",
            "_view_count": null,
            "_view_module": "@jupyter-widgets/base",
            "_view_module_version": "1.2.0",
            "_view_name": "StyleView",
            "description_width": ""
          }
        },
        "2408c2f31fa940739a788318c8a68cd7": {
          "model_module": "@jupyter-widgets/base",
          "model_name": "LayoutModel",
          "model_module_version": "1.2.0",
          "state": {
            "_model_module": "@jupyter-widgets/base",
            "_model_module_version": "1.2.0",
            "_model_name": "LayoutModel",
            "_view_count": null,
            "_view_module": "@jupyter-widgets/base",
            "_view_module_version": "1.2.0",
            "_view_name": "LayoutView",
            "align_content": null,
            "align_items": null,
            "align_self": null,
            "border": null,
            "bottom": null,
            "display": null,
            "flex": null,
            "flex_flow": null,
            "grid_area": null,
            "grid_auto_columns": null,
            "grid_auto_flow": null,
            "grid_auto_rows": null,
            "grid_column": null,
            "grid_gap": null,
            "grid_row": null,
            "grid_template_areas": null,
            "grid_template_columns": null,
            "grid_template_rows": null,
            "height": null,
            "justify_content": null,
            "justify_items": null,
            "left": null,
            "margin": null,
            "max_height": null,
            "max_width": null,
            "min_height": null,
            "min_width": null,
            "object_fit": null,
            "object_position": null,
            "order": null,
            "overflow": null,
            "overflow_x": null,
            "overflow_y": null,
            "padding": null,
            "right": null,
            "top": null,
            "visibility": null,
            "width": "20px"
          }
        },
        "4dd8abdfb6a2492983b02322e74c73cc": {
          "model_module": "@jupyter-widgets/controls",
          "model_name": "ProgressStyleModel",
          "model_module_version": "1.5.0",
          "state": {
            "_model_module": "@jupyter-widgets/controls",
            "_model_module_version": "1.5.0",
            "_model_name": "ProgressStyleModel",
            "_view_count": null,
            "_view_module": "@jupyter-widgets/base",
            "_view_module_version": "1.2.0",
            "_view_name": "StyleView",
            "bar_color": null,
            "description_width": ""
          }
        },
        "be4f6da5427b40d4acd0a3a8f44891cf": {
          "model_module": "@jupyter-widgets/base",
          "model_name": "LayoutModel",
          "model_module_version": "1.2.0",
          "state": {
            "_model_module": "@jupyter-widgets/base",
            "_model_module_version": "1.2.0",
            "_model_name": "LayoutModel",
            "_view_count": null,
            "_view_module": "@jupyter-widgets/base",
            "_view_module_version": "1.2.0",
            "_view_name": "LayoutView",
            "align_content": null,
            "align_items": null,
            "align_self": null,
            "border": null,
            "bottom": null,
            "display": null,
            "flex": null,
            "flex_flow": null,
            "grid_area": null,
            "grid_auto_columns": null,
            "grid_auto_flow": null,
            "grid_auto_rows": null,
            "grid_column": null,
            "grid_gap": null,
            "grid_row": null,
            "grid_template_areas": null,
            "grid_template_columns": null,
            "grid_template_rows": null,
            "height": null,
            "justify_content": null,
            "justify_items": null,
            "left": null,
            "margin": null,
            "max_height": null,
            "max_width": null,
            "min_height": null,
            "min_width": null,
            "object_fit": null,
            "object_position": null,
            "order": null,
            "overflow": null,
            "overflow_x": null,
            "overflow_y": null,
            "padding": null,
            "right": null,
            "top": null,
            "visibility": null,
            "width": null
          }
        },
        "e6be2753297a468590a8064be0785f13": {
          "model_module": "@jupyter-widgets/controls",
          "model_name": "DescriptionStyleModel",
          "model_module_version": "1.5.0",
          "state": {
            "_model_module": "@jupyter-widgets/controls",
            "_model_module_version": "1.5.0",
            "_model_name": "DescriptionStyleModel",
            "_view_count": null,
            "_view_module": "@jupyter-widgets/base",
            "_view_module_version": "1.2.0",
            "_view_name": "StyleView",
            "description_width": ""
          }
        }
      }
    }
  },
  "cells": [
    {
      "cell_type": "markdown",
      "metadata": {
        "id": "view-in-github",
        "colab_type": "text"
      },
      "source": [
        "<a href=\"https://colab.research.google.com/github/verma-saloni/Thesis-Work/blob/main/5_5_22_1_politifact_data.ipynb\" target=\"_parent\"><img src=\"https://colab.research.google.com/assets/colab-badge.svg\" alt=\"Open In Colab\"/></a>"
      ]
    },
    {
      "cell_type": "code",
      "source": [
        "from pathlib import Path\n",
        "import glob\n",
        "import json\n",
        "import pandas as pd\n",
        "from tqdm.auto import tqdm\n",
        "import numpy as np"
      ],
      "metadata": {
        "id": "UGY0G62oxtap"
      },
      "execution_count": 1,
      "outputs": []
    },
    {
      "cell_type": "code",
      "source": [
        "from google.colab import drive\n",
        "drive.mount('/content/drive')"
      ],
      "metadata": {
        "colab": {
          "base_uri": "https://localhost:8080/"
        },
        "id": "UxNEaltli8H_",
        "outputId": "6e740d39-6a7b-49f1-f010-b1027058ec61"
      },
      "execution_count": 2,
      "outputs": [
        {
          "output_type": "stream",
          "name": "stdout",
          "text": [
            "Mounted at /content/drive\n"
          ]
        }
      ]
    },
    {
      "cell_type": "code",
      "source": [
        "base_dir = Path(\"/content/drive/MyDrive/Research FakeNews\")\n",
        "assert base_dir.exists()"
      ],
      "metadata": {
        "id": "MhTCGgmQl8IC"
      },
      "execution_count": 5,
      "outputs": []
    },
    {
      "cell_type": "markdown",
      "source": [
        "## Read data"
      ],
      "metadata": {
        "id": "R_4mZElNIVb5"
      }
    },
    {
      "cell_type": "code",
      "source": [
        "%%capture\n",
        "!unzip /content/drive/MyDrive/fakenews/Research\\ FakeNews/Datasets\\ Fakenews/fakenewsnet_dataset_politifact.zip"
      ],
      "metadata": {
        "id": "HcTr8qwot-Mc"
      },
      "execution_count": 6,
      "outputs": []
    },
    {
      "cell_type": "code",
      "source": [
        "items = glob.glob((\"/content/fakenewsnet_dataset/politifact/*/politifact*\"), recursive=True)\n",
        "len(items)"
      ],
      "metadata": {
        "colab": {
          "base_uri": "https://localhost:8080/"
        },
        "id": "s7KgSbhG3Ge5",
        "outputId": "4c508173-d6b2-41dc-b024-efd311dc114d"
      },
      "execution_count": 7,
      "outputs": [
        {
          "output_type": "execute_result",
          "data": {
            "text/plain": [
              "0"
            ]
          },
          "metadata": {},
          "execution_count": 7
        }
      ]
    },
    {
      "cell_type": "code",
      "source": [
        "def _process_content(path:Path) -> dict:\n",
        "    filepath = path/\"news content.json\"\n",
        "    if filepath.exists():\n",
        "        with open(filepath) as f:\n",
        "            news_content = json.load(f)\n",
        "    else:\n",
        "        news_content = dict()\n",
        "    return news_content\n",
        "\n",
        "def _process_tweet(filepath:Path) -> dict:\n",
        "    with open(filepath) as f:\n",
        "        tweet = json.load(f)\n",
        "    keys = [\"id\", \"text\", \"retweet_count\"]\n",
        "    tweet_info = {k:tweet.get(k, None) for k in keys}\n",
        "    user_keys = [\"id\", 'location', \"friends_count\", \"followers_count\"]\n",
        "    user = tweet.get(\"user\", {})\n",
        "    user_info = {f\"user_{k}\":user.get(k, None) for k in user_keys}\n",
        "    return {**tweet_info, **user_info}"
      ],
      "metadata": {
        "id": "tjzpm1gy4kvu"
      },
      "execution_count": 8,
      "outputs": []
    },
    {
      "cell_type": "code",
      "source": [
        "for e in items:\n",
        "    tweets = list((Path(e)/\"tweets\").glob(\"*.json\"))\n",
        "    if len(tweets):\n",
        "        break"
      ],
      "metadata": {
        "id": "12lGjJ8R7kWL"
      },
      "execution_count": 14,
      "outputs": []
    },
    {
      "cell_type": "code",
      "source": [
        "tweets[0]"
      ],
      "metadata": {
        "colab": {
          "base_uri": "https://localhost:8080/",
          "height": 166
        },
        "id": "qZHpw1Cqptah",
        "outputId": "7ccabd59-4d31-49fb-8d79-a81339eef68b"
      },
      "execution_count": 15,
      "outputs": [
        {
          "output_type": "error",
          "ename": "NameError",
          "evalue": "ignored",
          "traceback": [
            "\u001b[0;31m---------------------------------------------------------------------------\u001b[0m",
            "\u001b[0;31mNameError\u001b[0m                                 Traceback (most recent call last)",
            "\u001b[0;32m<ipython-input-15-a09f3bb64705>\u001b[0m in \u001b[0;36m<module>\u001b[0;34m()\u001b[0m\n\u001b[0;32m----> 1\u001b[0;31m \u001b[0mtweets\u001b[0m\u001b[0;34m[\u001b[0m\u001b[0;36m0\u001b[0m\u001b[0;34m]\u001b[0m\u001b[0;34m\u001b[0m\u001b[0;34m\u001b[0m\u001b[0m\n\u001b[0m",
            "\u001b[0;31mNameError\u001b[0m: name 'tweets' is not defined"
          ]
        }
      ]
    },
    {
      "cell_type": "code",
      "source": [
        "_process_tweet(tweets[2])"
      ],
      "metadata": {
        "colab": {
          "base_uri": "https://localhost:8080/",
          "height": 166
        },
        "id": "oncNNLJX-jch",
        "outputId": "e1fc69bd-fde8-4bf1-cc8a-921ed6166796"
      },
      "execution_count": 13,
      "outputs": [
        {
          "output_type": "error",
          "ename": "NameError",
          "evalue": "ignored",
          "traceback": [
            "\u001b[0;31m---------------------------------------------------------------------------\u001b[0m",
            "\u001b[0;31mNameError\u001b[0m                                 Traceback (most recent call last)",
            "\u001b[0;32m<ipython-input-13-1b521f330109>\u001b[0m in \u001b[0;36m<module>\u001b[0;34m()\u001b[0m\n\u001b[0;32m----> 1\u001b[0;31m \u001b[0m_process_tweet\u001b[0m\u001b[0;34m(\u001b[0m\u001b[0mtweets\u001b[0m\u001b[0;34m[\u001b[0m\u001b[0;36m2\u001b[0m\u001b[0;34m]\u001b[0m\u001b[0;34m)\u001b[0m\u001b[0;34m\u001b[0m\u001b[0;34m\u001b[0m\u001b[0m\n\u001b[0m",
            "\u001b[0;31mNameError\u001b[0m: name 'tweets' is not defined"
          ]
        }
      ]
    },
    {
      "cell_type": "code",
      "source": [
        "base_keys = [\"id\", \"label\"]\n",
        "news_content_keys = ['url', 'text', 'top_img', 'keywords', 'authors', 'canonical_link', 'title', 'meta_data', 'publish_date', 'source', 'summary']\n",
        "tweeter_keys = [\"retweets\", \"tweets\"]\n",
        "row_list = []\n",
        "\n",
        "for e in tqdm(items):\n",
        "    row = {}\n",
        "    path = Path(e)\n",
        "    row[\"id\"] = path.name\n",
        "    row[\"label\"] = path.parent.name\n",
        "    # add news content\n",
        "    news_content = _process_content(path)\n",
        "    for k in news_content_keys:\n",
        "        row[k] = news_content.get(k, None)\n",
        "    # add tweeter data\n",
        "    row[\"retweets\"] = [x.name.split(\".\")[0] for x in (path/\"retweets\").glob(\"*.json\")]\n",
        "    tweets = [_process_tweet(x) for x in (path/\"tweets\").glob(\"*.json\")]\n",
        "    row[\"tweets\"] = tweets\n",
        "\n",
        "    row_list.append(row)\n",
        "    \n",
        "\n",
        "df = pd.DataFrame(row_list, columns=base_keys+news_content_keys+tweeter_keys)"
      ],
      "metadata": {
        "id": "KRdC7LqC0Dje",
        "colab": {
          "base_uri": "https://localhost:8080/",
          "height": 49,
          "referenced_widgets": [
            "88e2cf0354914c469e85c67857aca6aa",
            "6a0d495068f84bd9b2cef8ad98f60e2b",
            "a5211626dd804d919aaf1f7b2597ee2b",
            "00698cedb0fa4ec1834c06e7c0645249",
            "14d9125857ac4321a02b8967f7fdc864",
            "1b3217f3b5c1439a9f7cea6cc21b297f",
            "64fc8768f7ca46cd9bb17e8ea08ef47a",
            "2408c2f31fa940739a788318c8a68cd7",
            "4dd8abdfb6a2492983b02322e74c73cc",
            "be4f6da5427b40d4acd0a3a8f44891cf",
            "e6be2753297a468590a8064be0785f13"
          ]
        },
        "outputId": "f3af49e0-0b8e-49eb-9dbc-a6e4bb785964"
      },
      "execution_count": 16,
      "outputs": [
        {
          "output_type": "display_data",
          "data": {
            "text/plain": [
              "0it [00:00, ?it/s]"
            ],
            "application/vnd.jupyter.widget-view+json": {
              "version_major": 2,
              "version_minor": 0,
              "model_id": "88e2cf0354914c469e85c67857aca6aa"
            }
          },
          "metadata": {}
        }
      ]
    },
    {
      "cell_type": "code",
      "source": [
        "df.head()"
      ],
      "metadata": {
        "colab": {
          "base_uri": "https://localhost:8080/",
          "height": 49
        },
        "id": "zFCFBDrj0P1X",
        "outputId": "03dcfc05-a2ae-47a2-dfa6-3b0a1d1bfdd6"
      },
      "execution_count": 18,
      "outputs": [
        {
          "output_type": "execute_result",
          "data": {
            "text/plain": [
              "Empty DataFrame\n",
              "Columns: [id, label, url, text, top_img, keywords, authors, canonical_link, title, meta_data, publish_date, source, summary, retweets, tweets]\n",
              "Index: []"
            ],
            "text/html": [
              "\n",
              "  <div id=\"df-829df29d-f5b6-4f53-a925-15bf8475d159\">\n",
              "    <div class=\"colab-df-container\">\n",
              "      <div>\n",
              "<style scoped>\n",
              "    .dataframe tbody tr th:only-of-type {\n",
              "        vertical-align: middle;\n",
              "    }\n",
              "\n",
              "    .dataframe tbody tr th {\n",
              "        vertical-align: top;\n",
              "    }\n",
              "\n",
              "    .dataframe thead th {\n",
              "        text-align: right;\n",
              "    }\n",
              "</style>\n",
              "<table border=\"1\" class=\"dataframe\">\n",
              "  <thead>\n",
              "    <tr style=\"text-align: right;\">\n",
              "      <th></th>\n",
              "      <th>id</th>\n",
              "      <th>label</th>\n",
              "      <th>url</th>\n",
              "      <th>text</th>\n",
              "      <th>top_img</th>\n",
              "      <th>keywords</th>\n",
              "      <th>authors</th>\n",
              "      <th>canonical_link</th>\n",
              "      <th>title</th>\n",
              "      <th>meta_data</th>\n",
              "      <th>publish_date</th>\n",
              "      <th>source</th>\n",
              "      <th>summary</th>\n",
              "      <th>retweets</th>\n",
              "      <th>tweets</th>\n",
              "    </tr>\n",
              "  </thead>\n",
              "  <tbody>\n",
              "  </tbody>\n",
              "</table>\n",
              "</div>\n",
              "      <button class=\"colab-df-convert\" onclick=\"convertToInteractive('df-829df29d-f5b6-4f53-a925-15bf8475d159')\"\n",
              "              title=\"Convert this dataframe to an interactive table.\"\n",
              "              style=\"display:none;\">\n",
              "        \n",
              "  <svg xmlns=\"http://www.w3.org/2000/svg\" height=\"24px\"viewBox=\"0 0 24 24\"\n",
              "       width=\"24px\">\n",
              "    <path d=\"M0 0h24v24H0V0z\" fill=\"none\"/>\n",
              "    <path d=\"M18.56 5.44l.94 2.06.94-2.06 2.06-.94-2.06-.94-.94-2.06-.94 2.06-2.06.94zm-11 1L8.5 8.5l.94-2.06 2.06-.94-2.06-.94L8.5 2.5l-.94 2.06-2.06.94zm10 10l.94 2.06.94-2.06 2.06-.94-2.06-.94-.94-2.06-.94 2.06-2.06.94z\"/><path d=\"M17.41 7.96l-1.37-1.37c-.4-.4-.92-.59-1.43-.59-.52 0-1.04.2-1.43.59L10.3 9.45l-7.72 7.72c-.78.78-.78 2.05 0 2.83L4 21.41c.39.39.9.59 1.41.59.51 0 1.02-.2 1.41-.59l7.78-7.78 2.81-2.81c.8-.78.8-2.07 0-2.86zM5.41 20L4 18.59l7.72-7.72 1.47 1.35L5.41 20z\"/>\n",
              "  </svg>\n",
              "      </button>\n",
              "      \n",
              "  <style>\n",
              "    .colab-df-container {\n",
              "      display:flex;\n",
              "      flex-wrap:wrap;\n",
              "      gap: 12px;\n",
              "    }\n",
              "\n",
              "    .colab-df-convert {\n",
              "      background-color: #E8F0FE;\n",
              "      border: none;\n",
              "      border-radius: 50%;\n",
              "      cursor: pointer;\n",
              "      display: none;\n",
              "      fill: #1967D2;\n",
              "      height: 32px;\n",
              "      padding: 0 0 0 0;\n",
              "      width: 32px;\n",
              "    }\n",
              "\n",
              "    .colab-df-convert:hover {\n",
              "      background-color: #E2EBFA;\n",
              "      box-shadow: 0px 1px 2px rgba(60, 64, 67, 0.3), 0px 1px 3px 1px rgba(60, 64, 67, 0.15);\n",
              "      fill: #174EA6;\n",
              "    }\n",
              "\n",
              "    [theme=dark] .colab-df-convert {\n",
              "      background-color: #3B4455;\n",
              "      fill: #D2E3FC;\n",
              "    }\n",
              "\n",
              "    [theme=dark] .colab-df-convert:hover {\n",
              "      background-color: #434B5C;\n",
              "      box-shadow: 0px 1px 3px 1px rgba(0, 0, 0, 0.15);\n",
              "      filter: drop-shadow(0px 1px 2px rgba(0, 0, 0, 0.3));\n",
              "      fill: #FFFFFF;\n",
              "    }\n",
              "  </style>\n",
              "\n",
              "      <script>\n",
              "        const buttonEl =\n",
              "          document.querySelector('#df-829df29d-f5b6-4f53-a925-15bf8475d159 button.colab-df-convert');\n",
              "        buttonEl.style.display =\n",
              "          google.colab.kernel.accessAllowed ? 'block' : 'none';\n",
              "\n",
              "        async function convertToInteractive(key) {\n",
              "          const element = document.querySelector('#df-829df29d-f5b6-4f53-a925-15bf8475d159');\n",
              "          const dataTable =\n",
              "            await google.colab.kernel.invokeFunction('convertToInteractive',\n",
              "                                                     [key], {});\n",
              "          if (!dataTable) return;\n",
              "\n",
              "          const docLinkHtml = 'Like what you see? Visit the ' +\n",
              "            '<a target=\"_blank\" href=https://colab.research.google.com/notebooks/data_table.ipynb>data table notebook</a>'\n",
              "            + ' to learn more about interactive tables.';\n",
              "          element.innerHTML = '';\n",
              "          dataTable['output_type'] = 'display_data';\n",
              "          await google.colab.output.renderOutput(dataTable, element);\n",
              "          const docLink = document.createElement('div');\n",
              "          docLink.innerHTML = docLinkHtml;\n",
              "          element.appendChild(docLink);\n",
              "        }\n",
              "      </script>\n",
              "    </div>\n",
              "  </div>\n",
              "  "
            ]
          },
          "metadata": {},
          "execution_count": 18
        }
      ]
    },
    {
      "cell_type": "code",
      "source": [
        "def get_tid(a):\n",
        "    if len(a) == 0:\n",
        "        return\n",
        "    return a[0][\"id\"]\n",
        "\n",
        "\n",
        "df.tweets.map(get_tid).isna().all()"
      ],
      "metadata": {
        "colab": {
          "base_uri": "https://localhost:8080/"
        },
        "id": "kM_HpF-ntDsW",
        "outputId": "c30587d4-5ad6-49cd-b15d-d0a5903f111e"
      },
      "execution_count": 19,
      "outputs": [
        {
          "output_type": "execute_result",
          "data": {
            "text/plain": [
              "True"
            ]
          },
          "metadata": {},
          "execution_count": 19
        }
      ]
    },
    {
      "cell_type": "code",
      "source": [
        "(df.label == 'fake').sum(), (df.label == 'real').sum()"
      ],
      "metadata": {
        "colab": {
          "base_uri": "https://localhost:8080/"
        },
        "id": "jkn1gfF-5EfU",
        "outputId": "12bb2127-77c7-4ca6-8584-96bb0ef5de55"
      },
      "execution_count": 20,
      "outputs": [
        {
          "output_type": "execute_result",
          "data": {
            "text/plain": [
              "(0, 0)"
            ]
          },
          "metadata": {},
          "execution_count": 20
        }
      ]
    },
    {
      "cell_type": "code",
      "source": [
        "len(df[df.text.str.len()==0]) + df.text.isna().sum()"
      ],
      "metadata": {
        "colab": {
          "base_uri": "https://localhost:8080/"
        },
        "id": "VCMbfL3h6SSV",
        "outputId": "fce5c7b7-e41e-4bc5-f194-e478876af7db"
      },
      "execution_count": 21,
      "outputs": [
        {
          "output_type": "execute_result",
          "data": {
            "text/plain": [
              "0"
            ]
          },
          "metadata": {},
          "execution_count": 21
        }
      ]
    },
    {
      "cell_type": "markdown",
      "source": [
        "## Load data"
      ],
      "metadata": {
        "id": "QZDjXapXNHxU"
      }
    },
    {
      "cell_type": "code",
      "source": [
        "import ast\n",
        "\n",
        "converters = {\"retweets\":ast.literal_eval, \"tweets\":ast.literal_eval}\n",
        "df = pd.read_csv(base_dir/\"politifact.csv\", index_col=0, converters=converters, parse_dates=[\"publish_date\"])"
      ],
      "metadata": {
        "id": "ghVSsNI0Ci-V"
      },
      "execution_count": 22,
      "outputs": []
    },
    {
      "cell_type": "code",
      "source": [
        "df.head()"
      ],
      "metadata": {
        "colab": {
          "base_uri": "https://localhost:8080/",
          "height": 565
        },
        "id": "bjYdaIs51j87",
        "outputId": "fee72632-2a4a-42be-8c6c-f7f52d0a6822"
      },
      "execution_count": 23,
      "outputs": [
        {
          "output_type": "execute_result",
          "data": {
            "text/plain": [
              "   index              id label  \\\n",
              "0      0  politifact1212  real   \n",
              "1      1  politifact6730  real   \n",
              "2      2  politifact2298  real   \n",
              "3      3    politifact87  real   \n",
              "4      4  politifact3180  real   \n",
              "\n",
              "                                                 url  \\\n",
              "0  http://www.youtube.com/watch?v=5zrsl8o4ZPo&fea...   \n",
              "1  http://www.motherjones.com/politics/2012/09/se...   \n",
              "2  https://web.archive.org/web/20050322064340/htt...   \n",
              "3  http://www.ilga.gov/legislation/BillStatus.asp...   \n",
              "4  http://abcnews.go.com/Politics/rand-paul-repub...   \n",
              "\n",
              "                                                text  \\\n",
              "0  ein Google-Unternehmen\\n\\nDienste anbieten und...   \n",
              "1  During a private fundraiser earlier this year,...   \n",
              "2  COPYRIGHT © 2005 LexisNexis, a division of Ree...   \n",
              "3  ×\\n\\nThe Illinois General Assembly offers the ...   \n",
              "4  Feb. 4, 2011  -- In an exclusive interview wi...   \n",
              "\n",
              "                                             top_img keywords  \\\n",
              "0                  http://www.google.com/favicon.ico       []   \n",
              "1  https://www.motherjones.com/wp-content/uploads...       []   \n",
              "2                                                NaN       []   \n",
              "3                   http://www.ilga.gov/LISlogo1.ico       []   \n",
              "4  http://abcnews.go.com/Politics/rand-paul-repub...       []   \n",
              "\n",
              "                                             authors  \\\n",
              "0                                                 []   \n",
              "1  ['David Corn', 'Dave Gilson', 'Tim Murphy', 'B...   \n",
              "2                                                 []   \n",
              "3                                                 []   \n",
              "4          ['Abc News', 'Jonathan Karl', 'February']   \n",
              "\n",
              "                                      canonical_link  \\\n",
              "0                                                NaN   \n",
              "1  https://www.motherjones.com/politics/2012/09/s...   \n",
              "2                                                NaN   \n",
              "3                                                NaN   \n",
              "4  https://abcnews.go.com/Politics/rand-paul-repu...   \n",
              "\n",
              "                                               title  \\\n",
              "0                   Bevor Sie zu YouTube weitergehen   \n",
              "1  SECRET VIDEO: Romney Tells Millionaire Donors ...   \n",
              "2                            LexisNexis(R) Publisher   \n",
              "3                          Illinois General Assembly   \n",
              "4  ABC News Exclusive: Rand Paul Says Republicans...   \n",
              "\n",
              "                                           meta_data  publish_date  \\\n",
              "0  {'viewport': 'initial-scale=1, maximum-scale=5...           NaN   \n",
              "1  {'viewport': 'width=device-width, initial-scal...  1347904858.0   \n",
              "2                                                 {}           NaN   \n",
              "3  {'classification': 'Government', 'distribution...           NaN   \n",
              "4  {'description': 'In an exclusive interview wit...           NaN   \n",
              "\n",
              "                       source  summary  \\\n",
              "0      http://www.youtube.com      NaN   \n",
              "1  http://www.motherjones.com      NaN   \n",
              "2     https://web.archive.org      NaN   \n",
              "3         http://www.ilga.gov      NaN   \n",
              "4       http://abcnews.go.com      NaN   \n",
              "\n",
              "                                            retweets  \\\n",
              "0  [1022546912858103808, 1020337613474009089, 105...   \n",
              "1  [873326045058838528, 872593394324951042, 87171...   \n",
              "2  [963508344026693633, 962788790338174976, 96412...   \n",
              "3  [909138789754441730, 906251398718910464, 88211...   \n",
              "4  [863760194244759552, 863421319752364032, 86376...   \n",
              "\n",
              "                                              tweets  \n",
              "0                                                 []  \n",
              "1  [{'id': 873326045058838528, 'text': 'Liberal W...  \n",
              "2                                                 []  \n",
              "3                                                 []  \n",
              "4                                                 []  "
            ],
            "text/html": [
              "\n",
              "  <div id=\"df-98934000-50b1-489c-a7e3-324f8f40b69a\">\n",
              "    <div class=\"colab-df-container\">\n",
              "      <div>\n",
              "<style scoped>\n",
              "    .dataframe tbody tr th:only-of-type {\n",
              "        vertical-align: middle;\n",
              "    }\n",
              "\n",
              "    .dataframe tbody tr th {\n",
              "        vertical-align: top;\n",
              "    }\n",
              "\n",
              "    .dataframe thead th {\n",
              "        text-align: right;\n",
              "    }\n",
              "</style>\n",
              "<table border=\"1\" class=\"dataframe\">\n",
              "  <thead>\n",
              "    <tr style=\"text-align: right;\">\n",
              "      <th></th>\n",
              "      <th>index</th>\n",
              "      <th>id</th>\n",
              "      <th>label</th>\n",
              "      <th>url</th>\n",
              "      <th>text</th>\n",
              "      <th>top_img</th>\n",
              "      <th>keywords</th>\n",
              "      <th>authors</th>\n",
              "      <th>canonical_link</th>\n",
              "      <th>title</th>\n",
              "      <th>meta_data</th>\n",
              "      <th>publish_date</th>\n",
              "      <th>source</th>\n",
              "      <th>summary</th>\n",
              "      <th>retweets</th>\n",
              "      <th>tweets</th>\n",
              "    </tr>\n",
              "  </thead>\n",
              "  <tbody>\n",
              "    <tr>\n",
              "      <th>0</th>\n",
              "      <td>0</td>\n",
              "      <td>politifact1212</td>\n",
              "      <td>real</td>\n",
              "      <td>http://www.youtube.com/watch?v=5zrsl8o4ZPo&amp;fea...</td>\n",
              "      <td>ein Google-Unternehmen\\n\\nDienste anbieten und...</td>\n",
              "      <td>http://www.google.com/favicon.ico</td>\n",
              "      <td>[]</td>\n",
              "      <td>[]</td>\n",
              "      <td>NaN</td>\n",
              "      <td>Bevor Sie zu YouTube weitergehen</td>\n",
              "      <td>{'viewport': 'initial-scale=1, maximum-scale=5...</td>\n",
              "      <td>NaN</td>\n",
              "      <td>http://www.youtube.com</td>\n",
              "      <td>NaN</td>\n",
              "      <td>[1022546912858103808, 1020337613474009089, 105...</td>\n",
              "      <td>[]</td>\n",
              "    </tr>\n",
              "    <tr>\n",
              "      <th>1</th>\n",
              "      <td>1</td>\n",
              "      <td>politifact6730</td>\n",
              "      <td>real</td>\n",
              "      <td>http://www.motherjones.com/politics/2012/09/se...</td>\n",
              "      <td>During a private fundraiser earlier this year,...</td>\n",
              "      <td>https://www.motherjones.com/wp-content/uploads...</td>\n",
              "      <td>[]</td>\n",
              "      <td>['David Corn', 'Dave Gilson', 'Tim Murphy', 'B...</td>\n",
              "      <td>https://www.motherjones.com/politics/2012/09/s...</td>\n",
              "      <td>SECRET VIDEO: Romney Tells Millionaire Donors ...</td>\n",
              "      <td>{'viewport': 'width=device-width, initial-scal...</td>\n",
              "      <td>1347904858.0</td>\n",
              "      <td>http://www.motherjones.com</td>\n",
              "      <td>NaN</td>\n",
              "      <td>[873326045058838528, 872593394324951042, 87171...</td>\n",
              "      <td>[{'id': 873326045058838528, 'text': 'Liberal W...</td>\n",
              "    </tr>\n",
              "    <tr>\n",
              "      <th>2</th>\n",
              "      <td>2</td>\n",
              "      <td>politifact2298</td>\n",
              "      <td>real</td>\n",
              "      <td>https://web.archive.org/web/20050322064340/htt...</td>\n",
              "      <td>COPYRIGHT © 2005 LexisNexis, a division of Ree...</td>\n",
              "      <td>NaN</td>\n",
              "      <td>[]</td>\n",
              "      <td>[]</td>\n",
              "      <td>NaN</td>\n",
              "      <td>LexisNexis(R) Publisher</td>\n",
              "      <td>{}</td>\n",
              "      <td>NaN</td>\n",
              "      <td>https://web.archive.org</td>\n",
              "      <td>NaN</td>\n",
              "      <td>[963508344026693633, 962788790338174976, 96412...</td>\n",
              "      <td>[]</td>\n",
              "    </tr>\n",
              "    <tr>\n",
              "      <th>3</th>\n",
              "      <td>3</td>\n",
              "      <td>politifact87</td>\n",
              "      <td>real</td>\n",
              "      <td>http://www.ilga.gov/legislation/BillStatus.asp...</td>\n",
              "      <td>×\\n\\nThe Illinois General Assembly offers the ...</td>\n",
              "      <td>http://www.ilga.gov/LISlogo1.ico</td>\n",
              "      <td>[]</td>\n",
              "      <td>[]</td>\n",
              "      <td>NaN</td>\n",
              "      <td>Illinois General Assembly</td>\n",
              "      <td>{'classification': 'Government', 'distribution...</td>\n",
              "      <td>NaN</td>\n",
              "      <td>http://www.ilga.gov</td>\n",
              "      <td>NaN</td>\n",
              "      <td>[909138789754441730, 906251398718910464, 88211...</td>\n",
              "      <td>[]</td>\n",
              "    </tr>\n",
              "    <tr>\n",
              "      <th>4</th>\n",
              "      <td>4</td>\n",
              "      <td>politifact3180</td>\n",
              "      <td>real</td>\n",
              "      <td>http://abcnews.go.com/Politics/rand-paul-repub...</td>\n",
              "      <td>Feb. 4, 2011  -- In an exclusive interview wi...</td>\n",
              "      <td>http://abcnews.go.com/Politics/rand-paul-repub...</td>\n",
              "      <td>[]</td>\n",
              "      <td>['Abc News', 'Jonathan Karl', 'February']</td>\n",
              "      <td>https://abcnews.go.com/Politics/rand-paul-repu...</td>\n",
              "      <td>ABC News Exclusive: Rand Paul Says Republicans...</td>\n",
              "      <td>{'description': 'In an exclusive interview wit...</td>\n",
              "      <td>NaN</td>\n",
              "      <td>http://abcnews.go.com</td>\n",
              "      <td>NaN</td>\n",
              "      <td>[863760194244759552, 863421319752364032, 86376...</td>\n",
              "      <td>[]</td>\n",
              "    </tr>\n",
              "  </tbody>\n",
              "</table>\n",
              "</div>\n",
              "      <button class=\"colab-df-convert\" onclick=\"convertToInteractive('df-98934000-50b1-489c-a7e3-324f8f40b69a')\"\n",
              "              title=\"Convert this dataframe to an interactive table.\"\n",
              "              style=\"display:none;\">\n",
              "        \n",
              "  <svg xmlns=\"http://www.w3.org/2000/svg\" height=\"24px\"viewBox=\"0 0 24 24\"\n",
              "       width=\"24px\">\n",
              "    <path d=\"M0 0h24v24H0V0z\" fill=\"none\"/>\n",
              "    <path d=\"M18.56 5.44l.94 2.06.94-2.06 2.06-.94-2.06-.94-.94-2.06-.94 2.06-2.06.94zm-11 1L8.5 8.5l.94-2.06 2.06-.94-2.06-.94L8.5 2.5l-.94 2.06-2.06.94zm10 10l.94 2.06.94-2.06 2.06-.94-2.06-.94-.94-2.06-.94 2.06-2.06.94z\"/><path d=\"M17.41 7.96l-1.37-1.37c-.4-.4-.92-.59-1.43-.59-.52 0-1.04.2-1.43.59L10.3 9.45l-7.72 7.72c-.78.78-.78 2.05 0 2.83L4 21.41c.39.39.9.59 1.41.59.51 0 1.02-.2 1.41-.59l7.78-7.78 2.81-2.81c.8-.78.8-2.07 0-2.86zM5.41 20L4 18.59l7.72-7.72 1.47 1.35L5.41 20z\"/>\n",
              "  </svg>\n",
              "      </button>\n",
              "      \n",
              "  <style>\n",
              "    .colab-df-container {\n",
              "      display:flex;\n",
              "      flex-wrap:wrap;\n",
              "      gap: 12px;\n",
              "    }\n",
              "\n",
              "    .colab-df-convert {\n",
              "      background-color: #E8F0FE;\n",
              "      border: none;\n",
              "      border-radius: 50%;\n",
              "      cursor: pointer;\n",
              "      display: none;\n",
              "      fill: #1967D2;\n",
              "      height: 32px;\n",
              "      padding: 0 0 0 0;\n",
              "      width: 32px;\n",
              "    }\n",
              "\n",
              "    .colab-df-convert:hover {\n",
              "      background-color: #E2EBFA;\n",
              "      box-shadow: 0px 1px 2px rgba(60, 64, 67, 0.3), 0px 1px 3px 1px rgba(60, 64, 67, 0.15);\n",
              "      fill: #174EA6;\n",
              "    }\n",
              "\n",
              "    [theme=dark] .colab-df-convert {\n",
              "      background-color: #3B4455;\n",
              "      fill: #D2E3FC;\n",
              "    }\n",
              "\n",
              "    [theme=dark] .colab-df-convert:hover {\n",
              "      background-color: #434B5C;\n",
              "      box-shadow: 0px 1px 3px 1px rgba(0, 0, 0, 0.15);\n",
              "      filter: drop-shadow(0px 1px 2px rgba(0, 0, 0, 0.3));\n",
              "      fill: #FFFFFF;\n",
              "    }\n",
              "  </style>\n",
              "\n",
              "      <script>\n",
              "        const buttonEl =\n",
              "          document.querySelector('#df-98934000-50b1-489c-a7e3-324f8f40b69a button.colab-df-convert');\n",
              "        buttonEl.style.display =\n",
              "          google.colab.kernel.accessAllowed ? 'block' : 'none';\n",
              "\n",
              "        async function convertToInteractive(key) {\n",
              "          const element = document.querySelector('#df-98934000-50b1-489c-a7e3-324f8f40b69a');\n",
              "          const dataTable =\n",
              "            await google.colab.kernel.invokeFunction('convertToInteractive',\n",
              "                                                     [key], {});\n",
              "          if (!dataTable) return;\n",
              "\n",
              "          const docLinkHtml = 'Like what you see? Visit the ' +\n",
              "            '<a target=\"_blank\" href=https://colab.research.google.com/notebooks/data_table.ipynb>data table notebook</a>'\n",
              "            + ' to learn more about interactive tables.';\n",
              "          element.innerHTML = '';\n",
              "          dataTable['output_type'] = 'display_data';\n",
              "          await google.colab.output.renderOutput(dataTable, element);\n",
              "          const docLink = document.createElement('div');\n",
              "          docLink.innerHTML = docLinkHtml;\n",
              "          element.appendChild(docLink);\n",
              "        }\n",
              "      </script>\n",
              "    </div>\n",
              "  </div>\n",
              "  "
            ]
          },
          "metadata": {},
          "execution_count": 23
        }
      ]
    },
    {
      "cell_type": "code",
      "source": [
        "num_retweets = df.retweets.map(len)\n",
        "num_retweets.min(), num_retweets.mean(), num_retweets.max()"
      ],
      "metadata": {
        "colab": {
          "base_uri": "https://localhost:8080/"
        },
        "id": "VPcU5Q75BdrF",
        "outputId": "037ed212-0e5d-48ba-86ed-0dd2249f7d25"
      },
      "execution_count": 24,
      "outputs": [
        {
          "output_type": "execute_result",
          "data": {
            "text/plain": [
              "(0, 549.7300380228137, 29060)"
            ]
          },
          "metadata": {},
          "execution_count": 24
        }
      ]
    },
    {
      "cell_type": "code",
      "source": [
        "num_tweets = df.tweets.map(len)\n",
        "num_tweets.min(), num_tweets.mean(), num_tweets.max()"
      ],
      "metadata": {
        "colab": {
          "base_uri": "https://localhost:8080/"
        },
        "id": "mMpdXmeUFFKK",
        "outputId": "c1783521-caf2-4301-f2f8-af880d30ae22"
      },
      "execution_count": 25,
      "outputs": [
        {
          "output_type": "execute_result",
          "data": {
            "text/plain": [
              "(0, 59.851711026615966, 21984)"
            ]
          },
          "metadata": {},
          "execution_count": 25
        }
      ]
    },
    {
      "cell_type": "markdown",
      "source": [
        "## Add data for entries missing `news_content`"
      ],
      "metadata": {
        "id": "4c3Bl5DNGa38"
      }
    },
    {
      "cell_type": "code",
      "source": [
        "list(base_dir.glob(\"*.csv\"))"
      ],
      "metadata": {
        "colab": {
          "base_uri": "https://localhost:8080/"
        },
        "id": "_nHw1nL7GmZ7",
        "outputId": "286edcb7-d0e8-497b-dfc7-0c8fe299c374"
      },
      "execution_count": 26,
      "outputs": [
        {
          "output_type": "execute_result",
          "data": {
            "text/plain": [
              "[PosixPath('/content/drive/MyDrive/Research FakeNews/politifact_fake.csv'),\n",
              " PosixPath('/content/drive/MyDrive/Research FakeNews/churn_data.csv'),\n",
              " PosixPath('/content/drive/MyDrive/Research FakeNews/gossipcop_real.csv'),\n",
              " PosixPath('/content/drive/MyDrive/Research FakeNews/politifact_real.csv'),\n",
              " PosixPath('/content/drive/MyDrive/Research FakeNews/gossipcop_fake.csv'),\n",
              " PosixPath('/content/drive/MyDrive/Research FakeNews/politifact.csv'),\n",
              " PosixPath('/content/drive/MyDrive/Research FakeNews/politifact_agg.csv')]"
            ]
          },
          "metadata": {},
          "execution_count": 26
        }
      ]
    },
    {
      "cell_type": "code",
      "source": [
        "df_fake = pd.read_csv(base_dir/'politifact_fake.csv')\n",
        "df_real = pd.read_csv(base_dir/'politifact_real.csv')\n",
        "df_fake['label']=0\n",
        "df_real['label']=1\n",
        "class_names = [\"Fake\", \"Real\"]\n",
        "\n",
        "df_old = df_fake.append(df_real)\n",
        "df_old.reset_index(drop=True, inplace=True)"
      ],
      "metadata": {
        "id": "F0xXhbafGvqJ"
      },
      "execution_count": 27,
      "outputs": []
    },
    {
      "cell_type": "code",
      "source": [
        "len(df_old.id.unique()), len(df)"
      ],
      "metadata": {
        "colab": {
          "base_uri": "https://localhost:8080/"
        },
        "id": "ibJ6VKcvJbDw",
        "outputId": "5f446b80-a3b0-4c5b-861b-304b549abb19"
      },
      "execution_count": 28,
      "outputs": [
        {
          "output_type": "execute_result",
          "data": {
            "text/plain": [
              "(1054, 1052)"
            ]
          },
          "metadata": {},
          "execution_count": 28
        }
      ]
    },
    {
      "cell_type": "markdown",
      "source": [
        "Two ids appear in both fake and real. Exclude?"
      ],
      "metadata": {
        "id": "DiDKh1mzKKmv"
      }
    },
    {
      "cell_type": "code",
      "source": [
        "dup_ids, dup_groups = [], []\n",
        "for n, g in df.groupby(\"id\"):\n",
        "    if len(g) > 1:\n",
        "        dup_ids.append(n)\n",
        "        dup_groups.append(g)\n",
        "print(len(dup_ids))"
      ],
      "metadata": {
        "colab": {
          "base_uri": "https://localhost:8080/"
        },
        "id": "BzfAwQuvJiia",
        "outputId": "d1b0cce4-cca7-4bc2-8bd1-7d8ddc36530a"
      },
      "execution_count": 29,
      "outputs": [
        {
          "output_type": "stream",
          "name": "stdout",
          "text": [
            "0\n"
          ]
        }
      ]
    },
    {
      "cell_type": "code",
      "source": [
        "dup_ids"
      ],
      "metadata": {
        "colab": {
          "base_uri": "https://localhost:8080/"
        },
        "id": "7LSVHuXjKeTm",
        "outputId": "4c6634f1-ffd6-4926-a440-2782657df220"
      },
      "execution_count": 30,
      "outputs": [
        {
          "output_type": "execute_result",
          "data": {
            "text/plain": [
              "[]"
            ]
          },
          "metadata": {},
          "execution_count": 30
        }
      ]
    },
    {
      "cell_type": "code",
      "source": [
        "dup_groups"
      ],
      "metadata": {
        "colab": {
          "base_uri": "https://localhost:8080/"
        },
        "id": "MvOxY_PwJ7c6",
        "outputId": "0c8cd7e7-8494-4ef2-f30a-6876b310d5f1"
      },
      "execution_count": 66,
      "outputs": [
        {
          "output_type": "execute_result",
          "data": {
            "text/plain": [
              "[]"
            ]
          },
          "metadata": {},
          "execution_count": 66
        }
      ]
    },
    {
      "cell_type": "code",
      "source": [
        "dup_groups[1]"
      ],
      "metadata": {
        "colab": {
          "base_uri": "https://localhost:8080/",
          "height": 166
        },
        "id": "mmiTel9vJ_GI",
        "outputId": "3c6208da-e287-4fd7-f126-6b250f535810"
      },
      "execution_count": 33,
      "outputs": [
        {
          "output_type": "error",
          "ename": "IndexError",
          "evalue": "ignored",
          "traceback": [
            "\u001b[0;31m---------------------------------------------------------------------------\u001b[0m",
            "\u001b[0;31mIndexError\u001b[0m                                Traceback (most recent call last)",
            "\u001b[0;32m<ipython-input-33-9c8983b74a1d>\u001b[0m in \u001b[0;36m<module>\u001b[0;34m()\u001b[0m\n\u001b[0;32m----> 1\u001b[0;31m \u001b[0mdup_groups\u001b[0m\u001b[0;34m[\u001b[0m\u001b[0;36m1\u001b[0m\u001b[0;34m]\u001b[0m\u001b[0;34m\u001b[0m\u001b[0;34m\u001b[0m\u001b[0m\n\u001b[0m",
            "\u001b[0;31mIndexError\u001b[0m: list index out of range"
          ]
        }
      ]
    },
    {
      "cell_type": "code",
      "source": [
        "df = df[df.id.map(lambda x: x not in dup_ids)]\n",
        "df.reset_index(inplace=True)\n",
        "df.shape"
      ],
      "metadata": {
        "colab": {
          "base_uri": "https://localhost:8080/"
        },
        "id": "luDVDGoL0ZTD",
        "outputId": "907a72e3-5baa-4a1a-ae44-10cb85787fde"
      },
      "execution_count": 34,
      "outputs": [
        {
          "output_type": "execute_result",
          "data": {
            "text/plain": [
              "(1052, 17)"
            ]
          },
          "metadata": {},
          "execution_count": 34
        }
      ]
    },
    {
      "cell_type": "code",
      "source": [
        "id2title = df_old[[\"id\", \"title\"]].groupby(\"id\").first().to_dict()[\"title\"]"
      ],
      "metadata": {
        "id": "0662Kr58Kyow"
      },
      "execution_count": 36,
      "outputs": []
    },
    {
      "cell_type": "code",
      "source": [
        "df.title.fillna(\"\", inplace=True)\n",
        "(df.title==\"\").sum()"
      ],
      "metadata": {
        "colab": {
          "base_uri": "https://localhost:8080/"
        },
        "id": "Z2-N0o1NMor-",
        "outputId": "e4e9de06-152e-4e83-d35b-c7e975529b33"
      },
      "execution_count": 37,
      "outputs": [
        {
          "output_type": "execute_result",
          "data": {
            "text/plain": [
              "0"
            ]
          },
          "metadata": {},
          "execution_count": 37
        }
      ]
    },
    {
      "cell_type": "code",
      "source": [
        "for i, row in df.iterrows():\n",
        "    if row.title == \"\":\n",
        "        df.loc[i, \"title\"] = id2title.get(row.id, \"\")"
      ],
      "metadata": {
        "id": "Qy6qbf-3LKLj"
      },
      "execution_count": 38,
      "outputs": []
    },
    {
      "cell_type": "code",
      "source": [
        "(df.title==\"\").sum()"
      ],
      "metadata": {
        "colab": {
          "base_uri": "https://localhost:8080/"
        },
        "id": "fihihtjdMvfh",
        "outputId": "59b8a5d1-87d5-4e59-d425-8f80da337791"
      },
      "execution_count": 39,
      "outputs": [
        {
          "output_type": "execute_result",
          "data": {
            "text/plain": [
              "0"
            ]
          },
          "metadata": {},
          "execution_count": 39
        }
      ]
    },
    {
      "cell_type": "markdown",
      "source": [
        "Is there a way to get content for those ids?"
      ],
      "metadata": {
        "id": "SYJFXj4wM0MB"
      }
    },
    {
      "cell_type": "markdown",
      "source": [
        "### Get texts"
      ],
      "metadata": {
        "id": "aFYLRKKa1Sk2"
      }
    },
    {
      "cell_type": "code",
      "source": [
        "%%capture\n",
        "!pip install -U selenium\n",
        "!apt-get update && apt install chromium-chromedriver\n",
        "!cp /usr/lib/chromium-browser/chromedriver /usr/bin\n",
        "import sys\n",
        "sys.path.insert(0,'/usr/lib/chromium-browser/chromedriver')"
      ],
      "metadata": {
        "id": "1kFLS5I70WI0"
      },
      "execution_count": 40,
      "outputs": []
    },
    {
      "cell_type": "code",
      "execution_count": 41,
      "metadata": {
        "id": "YT0AGpM7QdZv"
      },
      "outputs": [],
      "source": [
        "from bs4 import BeautifulSoup\n",
        "from selenium import webdriver\n",
        "import pandas as pd"
      ]
    },
    {
      "cell_type": "code",
      "source": [
        "chrome_options = webdriver.ChromeOptions()\n",
        "chrome_options.add_argument('--headless')\n",
        "chrome_options.add_argument('--no-sandbox')\n",
        "chrome_options.add_argument('--disable-dev-shm-usage')\n",
        "driver = webdriver.Chrome('chromedriver', options=chrome_options)"
      ],
      "metadata": {
        "id": "nVYDFwd01nGs"
      },
      "execution_count": 42,
      "outputs": []
    },
    {
      "cell_type": "code",
      "source": [
        "df_old.head()"
      ],
      "metadata": {
        "colab": {
          "base_uri": "https://localhost:8080/",
          "height": 206
        },
        "id": "dFccElcV2mlU",
        "outputId": "9f5b7c50-68cb-4ebc-a46f-bb252a4edc87"
      },
      "execution_count": 43,
      "outputs": [
        {
          "output_type": "execute_result",
          "data": {
            "text/plain": [
              "                id                                           news_url  \\\n",
              "0  politifact15014          speedtalk.com/forum/viewtopic.php?t=51650   \n",
              "1  politifact15156  politics2020.info/index.php/2018/03/13/court-o...   \n",
              "2  politifact14745  www.nscdscamps.org/blog/category/parenting/467...   \n",
              "3  politifact14355  https://howafrica.com/oscar-pistorius-attempts...   \n",
              "4  politifact15371  http://washingtonsources.org/trump-votes-for-d...   \n",
              "\n",
              "                                               title  \\\n",
              "0  BREAKING: First NFL Team Declares Bankruptcy O...   \n",
              "1  Court Orders Obama To Pay $400 Million In Rest...   \n",
              "2  UPDATE: Second Roy Moore Accuser Works For Mic...   \n",
              "3         Oscar Pistorius Attempts To Commit Suicide   \n",
              "4        Trump Votes For Death Penalty For Being Gay   \n",
              "\n",
              "                                           tweet_ids  label  \n",
              "0  937349434668498944\\t937379378006282240\\t937380...      0  \n",
              "1  972666281441878016\\t972678396575559680\\t972827...      0  \n",
              "2  929405740732870656\\t929439450400264192\\t929439...      0  \n",
              "3  886941526458347521\\t887011300278194176\\t887023...      0  \n",
              "4  915205698212040704\\t915242076681506816\\t915249...      0  "
            ],
            "text/html": [
              "\n",
              "  <div id=\"df-9fd182fc-ff60-4ca1-97da-7cb46c606106\">\n",
              "    <div class=\"colab-df-container\">\n",
              "      <div>\n",
              "<style scoped>\n",
              "    .dataframe tbody tr th:only-of-type {\n",
              "        vertical-align: middle;\n",
              "    }\n",
              "\n",
              "    .dataframe tbody tr th {\n",
              "        vertical-align: top;\n",
              "    }\n",
              "\n",
              "    .dataframe thead th {\n",
              "        text-align: right;\n",
              "    }\n",
              "</style>\n",
              "<table border=\"1\" class=\"dataframe\">\n",
              "  <thead>\n",
              "    <tr style=\"text-align: right;\">\n",
              "      <th></th>\n",
              "      <th>id</th>\n",
              "      <th>news_url</th>\n",
              "      <th>title</th>\n",
              "      <th>tweet_ids</th>\n",
              "      <th>label</th>\n",
              "    </tr>\n",
              "  </thead>\n",
              "  <tbody>\n",
              "    <tr>\n",
              "      <th>0</th>\n",
              "      <td>politifact15014</td>\n",
              "      <td>speedtalk.com/forum/viewtopic.php?t=51650</td>\n",
              "      <td>BREAKING: First NFL Team Declares Bankruptcy O...</td>\n",
              "      <td>937349434668498944\\t937379378006282240\\t937380...</td>\n",
              "      <td>0</td>\n",
              "    </tr>\n",
              "    <tr>\n",
              "      <th>1</th>\n",
              "      <td>politifact15156</td>\n",
              "      <td>politics2020.info/index.php/2018/03/13/court-o...</td>\n",
              "      <td>Court Orders Obama To Pay $400 Million In Rest...</td>\n",
              "      <td>972666281441878016\\t972678396575559680\\t972827...</td>\n",
              "      <td>0</td>\n",
              "    </tr>\n",
              "    <tr>\n",
              "      <th>2</th>\n",
              "      <td>politifact14745</td>\n",
              "      <td>www.nscdscamps.org/blog/category/parenting/467...</td>\n",
              "      <td>UPDATE: Second Roy Moore Accuser Works For Mic...</td>\n",
              "      <td>929405740732870656\\t929439450400264192\\t929439...</td>\n",
              "      <td>0</td>\n",
              "    </tr>\n",
              "    <tr>\n",
              "      <th>3</th>\n",
              "      <td>politifact14355</td>\n",
              "      <td>https://howafrica.com/oscar-pistorius-attempts...</td>\n",
              "      <td>Oscar Pistorius Attempts To Commit Suicide</td>\n",
              "      <td>886941526458347521\\t887011300278194176\\t887023...</td>\n",
              "      <td>0</td>\n",
              "    </tr>\n",
              "    <tr>\n",
              "      <th>4</th>\n",
              "      <td>politifact15371</td>\n",
              "      <td>http://washingtonsources.org/trump-votes-for-d...</td>\n",
              "      <td>Trump Votes For Death Penalty For Being Gay</td>\n",
              "      <td>915205698212040704\\t915242076681506816\\t915249...</td>\n",
              "      <td>0</td>\n",
              "    </tr>\n",
              "  </tbody>\n",
              "</table>\n",
              "</div>\n",
              "      <button class=\"colab-df-convert\" onclick=\"convertToInteractive('df-9fd182fc-ff60-4ca1-97da-7cb46c606106')\"\n",
              "              title=\"Convert this dataframe to an interactive table.\"\n",
              "              style=\"display:none;\">\n",
              "        \n",
              "  <svg xmlns=\"http://www.w3.org/2000/svg\" height=\"24px\"viewBox=\"0 0 24 24\"\n",
              "       width=\"24px\">\n",
              "    <path d=\"M0 0h24v24H0V0z\" fill=\"none\"/>\n",
              "    <path d=\"M18.56 5.44l.94 2.06.94-2.06 2.06-.94-2.06-.94-.94-2.06-.94 2.06-2.06.94zm-11 1L8.5 8.5l.94-2.06 2.06-.94-2.06-.94L8.5 2.5l-.94 2.06-2.06.94zm10 10l.94 2.06.94-2.06 2.06-.94-2.06-.94-.94-2.06-.94 2.06-2.06.94z\"/><path d=\"M17.41 7.96l-1.37-1.37c-.4-.4-.92-.59-1.43-.59-.52 0-1.04.2-1.43.59L10.3 9.45l-7.72 7.72c-.78.78-.78 2.05 0 2.83L4 21.41c.39.39.9.59 1.41.59.51 0 1.02-.2 1.41-.59l7.78-7.78 2.81-2.81c.8-.78.8-2.07 0-2.86zM5.41 20L4 18.59l7.72-7.72 1.47 1.35L5.41 20z\"/>\n",
              "  </svg>\n",
              "      </button>\n",
              "      \n",
              "  <style>\n",
              "    .colab-df-container {\n",
              "      display:flex;\n",
              "      flex-wrap:wrap;\n",
              "      gap: 12px;\n",
              "    }\n",
              "\n",
              "    .colab-df-convert {\n",
              "      background-color: #E8F0FE;\n",
              "      border: none;\n",
              "      border-radius: 50%;\n",
              "      cursor: pointer;\n",
              "      display: none;\n",
              "      fill: #1967D2;\n",
              "      height: 32px;\n",
              "      padding: 0 0 0 0;\n",
              "      width: 32px;\n",
              "    }\n",
              "\n",
              "    .colab-df-convert:hover {\n",
              "      background-color: #E2EBFA;\n",
              "      box-shadow: 0px 1px 2px rgba(60, 64, 67, 0.3), 0px 1px 3px 1px rgba(60, 64, 67, 0.15);\n",
              "      fill: #174EA6;\n",
              "    }\n",
              "\n",
              "    [theme=dark] .colab-df-convert {\n",
              "      background-color: #3B4455;\n",
              "      fill: #D2E3FC;\n",
              "    }\n",
              "\n",
              "    [theme=dark] .colab-df-convert:hover {\n",
              "      background-color: #434B5C;\n",
              "      box-shadow: 0px 1px 3px 1px rgba(0, 0, 0, 0.15);\n",
              "      filter: drop-shadow(0px 1px 2px rgba(0, 0, 0, 0.3));\n",
              "      fill: #FFFFFF;\n",
              "    }\n",
              "  </style>\n",
              "\n",
              "      <script>\n",
              "        const buttonEl =\n",
              "          document.querySelector('#df-9fd182fc-ff60-4ca1-97da-7cb46c606106 button.colab-df-convert');\n",
              "        buttonEl.style.display =\n",
              "          google.colab.kernel.accessAllowed ? 'block' : 'none';\n",
              "\n",
              "        async function convertToInteractive(key) {\n",
              "          const element = document.querySelector('#df-9fd182fc-ff60-4ca1-97da-7cb46c606106');\n",
              "          const dataTable =\n",
              "            await google.colab.kernel.invokeFunction('convertToInteractive',\n",
              "                                                     [key], {});\n",
              "          if (!dataTable) return;\n",
              "\n",
              "          const docLinkHtml = 'Like what you see? Visit the ' +\n",
              "            '<a target=\"_blank\" href=https://colab.research.google.com/notebooks/data_table.ipynb>data table notebook</a>'\n",
              "            + ' to learn more about interactive tables.';\n",
              "          element.innerHTML = '';\n",
              "          dataTable['output_type'] = 'display_data';\n",
              "          await google.colab.output.renderOutput(dataTable, element);\n",
              "          const docLink = document.createElement('div');\n",
              "          docLink.innerHTML = docLinkHtml;\n",
              "          element.appendChild(docLink);\n",
              "        }\n",
              "      </script>\n",
              "    </div>\n",
              "  </div>\n",
              "  "
            ]
          },
          "metadata": {},
          "execution_count": 43
        }
      ]
    },
    {
      "cell_type": "code",
      "source": [
        "id2url = df_old[[\"id\", \"news_url\"]].groupby(\"id\").first().to_dict()[\"news_url\"]"
      ],
      "metadata": {
        "id": "CHkHhiRh2Yc6"
      },
      "execution_count": 44,
      "outputs": []
    },
    {
      "cell_type": "code",
      "source": [
        "for i, row in df[df.url.isna()].iterrows():\n",
        "    df.loc[i, \"url\"] = id2url.get(row.id, \"\")"
      ],
      "metadata": {
        "id": "_ChDw1C32Mr8"
      },
      "execution_count": 45,
      "outputs": []
    },
    {
      "cell_type": "code",
      "source": [
        "df_old.news_url.isna().sum()"
      ],
      "metadata": {
        "colab": {
          "base_uri": "https://localhost:8080/"
        },
        "id": "1m04GdN132dy",
        "outputId": "971355fa-0b9a-41c0-a4a1-a9dc78a8f5e4"
      },
      "execution_count": 46,
      "outputs": [
        {
          "output_type": "execute_result",
          "data": {
            "text/plain": [
              "61"
            ]
          },
          "metadata": {},
          "execution_count": 46
        }
      ]
    },
    {
      "cell_type": "code",
      "source": [
        "(df.url.isna()).sum()"
      ],
      "metadata": {
        "colab": {
          "base_uri": "https://localhost:8080/"
        },
        "id": "_IGkwONr3NHk",
        "outputId": "19aac612-f158-496b-9c38-a6d8c19c6d1f"
      },
      "execution_count": 47,
      "outputs": [
        {
          "output_type": "execute_result",
          "data": {
            "text/plain": [
              "61"
            ]
          },
          "metadata": {},
          "execution_count": 47
        }
      ]
    },
    {
      "cell_type": "code",
      "source": [
        "urls = df[df.text.isna()].url.tolist()"
      ],
      "metadata": {
        "id": "WEGsHZNx1t_t"
      },
      "execution_count": 48,
      "outputs": []
    },
    {
      "cell_type": "code",
      "source": [
        "new_texts = dict()\n",
        "for i, row in df[df.text.isna()].iterrows():\n",
        "    url = row.url\n",
        "    if (url is not None) and (\"archive.org\" in url) and (not url.endswith(\".pdf\")):\n",
        "        print(url)\n",
        "        driver.get(url)\n",
        "        html = driver.page_source\n",
        "        soup = BeautifulSoup(html, \"html.parser\")\n",
        "        _a = soup.find_all(\"div\", {\"id\":\"articleWrap\"})\n",
        "        text = None\n",
        "        if len(_a):\n",
        "            article = _a[0]\n",
        "            paragraphs = article.find_all(\"p\")\n",
        "            text = \"\\n\".join(p.text for p in paragraphs if len(p.text.strip()))\n",
        "            text = \" \".join(text.split())\n",
        "        elif len(soup.find_all(\"meta\", {\"name\":\"DESCRIPTION\"})):\n",
        "            meta = soup.find_all(\"meta\", {\"name\":\"DESCRIPTION\"})[0]\n",
        "            text = meta.get(\"content\", None)\n",
        "            \n",
        "        if text:\n",
        "            new_texts[i] = text"
      ],
      "metadata": {
        "colab": {
          "base_uri": "https://localhost:8080/"
        },
        "id": "5BXdBogyCzFQ",
        "outputId": "8528bd31-672e-4442-b288-6459759e11e9"
      },
      "execution_count": 49,
      "outputs": [
        {
          "output_type": "stream",
          "name": "stdout",
          "text": [
            "https://web.archive.org/web/20070212105712/http://www.bea.gov:80/national/xls/gdpchg.xls\n",
            "https://web.archive.org/web/20100202204116/http://alexander.senate.gov/public/index.cfm?p=NewsArticles\n"
          ]
        }
      ]
    },
    {
      "cell_type": "code",
      "source": [
        "len(new_texts)"
      ],
      "metadata": {
        "colab": {
          "base_uri": "https://localhost:8080/"
        },
        "id": "crD94YzCHMDf",
        "outputId": "2eafc91d-e24d-409a-f20a-c644e79b4144"
      },
      "execution_count": 50,
      "outputs": [
        {
          "output_type": "execute_result",
          "data": {
            "text/plain": [
              "0"
            ]
          },
          "metadata": {},
          "execution_count": 50
        }
      ]
    },
    {
      "cell_type": "code",
      "source": [
        "for t in new_texts.values():\n",
        "    print(t[:100])"
      ],
      "metadata": {
        "id": "U0vkx09DIGyV"
      },
      "execution_count": 51,
      "outputs": []
    },
    {
      "cell_type": "code",
      "source": [
        "for i, t in new_texts.items():\n",
        "    df.loc[i, \"text\"] = \" \".join(text.split())"
      ],
      "metadata": {
        "id": "gqHg5haqMBis"
      },
      "execution_count": 52,
      "outputs": []
    },
    {
      "cell_type": "code",
      "source": [
        "df.to_csv(base_dir/\"politifact.csv\")"
      ],
      "metadata": {
        "id": "Ijdg3NqHMWbh"
      },
      "execution_count": 53,
      "outputs": []
    },
    {
      "cell_type": "markdown",
      "source": [
        "## Data cleaning"
      ],
      "metadata": {
        "id": "aZZ6iKlxGQsF"
      }
    },
    {
      "cell_type": "code",
      "source": [
        "df = df[df.title.str.len() > 0]\n",
        "\n",
        "dups = []\n",
        "for name, group in df.groupby(\"title\"):\n",
        "    if len(group) > 1:\n",
        "        dups.append(group)"
      ],
      "metadata": {
        "id": "TySUSZiUO7La"
      },
      "execution_count": 54,
      "outputs": []
    },
    {
      "cell_type": "code",
      "source": [
        "df = df.groupby(\"title\", as_index=False).first()\n",
        "\n",
        "texts = df.title + \" \" + df.text"
      ],
      "metadata": {
        "id": "uHWvcI1I748W"
      },
      "execution_count": 55,
      "outputs": []
    },
    {
      "cell_type": "code",
      "source": [
        "len(texts)"
      ],
      "metadata": {
        "colab": {
          "base_uri": "https://localhost:8080/"
        },
        "id": "PfZSpiXU8IHY",
        "outputId": "3c96bbe2-3316-4de1-a3b2-979237a8838f"
      },
      "execution_count": 56,
      "outputs": [
        {
          "output_type": "execute_result",
          "data": {
            "text/plain": [
              "894"
            ]
          },
          "metadata": {},
          "execution_count": 56
        }
      ]
    },
    {
      "cell_type": "code",
      "source": [
        "texts"
      ],
      "metadata": {
        "colab": {
          "base_uri": "https://localhost:8080/"
        },
        "id": "6XuaObUl8EtL",
        "outputId": "dacfd771-1605-46de-efd9-111b6fd3a37e"
      },
      "execution_count": 57,
      "outputs": [
        {
          "output_type": "execute_result",
          "data": {
            "text/plain": [
              "0                                                    NaN\n",
              "1                                                    NaN\n",
              "2                                                    NaN\n",
              "3       If You Are Using This Toothpaste… Throw It Aw...\n",
              "4      \"Face the Nation\" transcripts, August 26, 2012...\n",
              "                             ...                        \n",
              "889    ‘Smallville’ Star Confesses She Sold Children ...\n",
              "890    ‘The Daily Show’s’ Michelle Wolf Lands Her Own...\n",
              "891    “Dictionary” on President Obama’s Health Care ...\n",
              "892    “Gay People Should Wear Specially-Colored Clot...\n",
              "893                                                  NaN\n",
              "Length: 894, dtype: object"
            ]
          },
          "metadata": {},
          "execution_count": 57
        }
      ]
    },
    {
      "cell_type": "markdown",
      "source": [
        "## Source"
      ],
      "metadata": {
        "id": "5gR1J2jMwO3i"
      }
    },
    {
      "cell_type": "code",
      "source": [
        "source = df.url.str.replace(\"^(https://)?web.archive.org/web/\\d+/\", \"\", regex=True)"
      ],
      "metadata": {
        "id": "UUJ449ZWsrU4"
      },
      "execution_count": 60,
      "outputs": []
    },
    {
      "cell_type": "code",
      "source": [
        "source = source.str.replace(\"^(https?://)?(www.)?\", \"\", regex=True)"
      ],
      "metadata": {
        "id": "DZjoUFQCn8xl"
      },
      "execution_count": 61,
      "outputs": []
    },
    {
      "cell_type": "code",
      "source": [
        "source = source.str.replace(\"\\.(com|info|org|gov|tv|us|news|me|co.uk|net|club|co|live|edu|xyz|site|life|ru|online|tk|website|pw|one|world|mil).*$\", \"\", regex=True)"
      ],
      "metadata": {
        "id": "bNP4YyZlrFZA"
      },
      "execution_count": 62,
      "outputs": []
    },
    {
      "cell_type": "code",
      "source": [
        "len(source), len(source.unique())"
      ],
      "metadata": {
        "colab": {
          "base_uri": "https://localhost:8080/"
        },
        "id": "2Trjg1cst_Dl",
        "outputId": "88caef75-be3d-4d69-ed61-d1ef1d4fb755"
      },
      "execution_count": 63,
      "outputs": [
        {
          "output_type": "execute_result",
          "data": {
            "text/plain": [
              "(894, 519)"
            ]
          },
          "metadata": {},
          "execution_count": 63
        }
      ]
    },
    {
      "cell_type": "markdown",
      "source": [
        "## Number of retweets"
      ],
      "metadata": {
        "id": "D-aGRh_BwR48"
      }
    },
    {
      "cell_type": "code",
      "source": [
        "df[\"num_retweets\"] = df.retweets.map(len)\n",
        "df[\"log_num_retweets\"] = np.log1p(df.num_retweets.to_numpy())\n",
        "df[\"num_tweets\"] = df.tweets.map(len)\n",
        "df[\"log_num_tweets\"] = np.log1p(df.num_tweets.to_numpy())"
      ],
      "metadata": {
        "id": "sMq3WS0cwVed"
      },
      "execution_count": 64,
      "outputs": []
    },
    {
      "cell_type": "code",
      "source": [
        "df.describe()"
      ],
      "metadata": {
        "colab": {
          "base_uri": "https://localhost:8080/",
          "height": 300
        },
        "id": "CEn8t4O9wVW6",
        "outputId": "5470890a-a856-4fc8-ab1b-8eadbaac868b"
      },
      "execution_count": 65,
      "outputs": [
        {
          "output_type": "execute_result",
          "data": {
            "text/plain": [
              "           level_0        index  summary  num_retweets  log_num_retweets  \\\n",
              "count   894.000000   894.000000      0.0    894.000000        894.000000   \n",
              "mean    542.328859   543.908277      NaN    557.787472          3.396452   \n",
              "std     311.964162   313.087083      NaN   2147.672525          2.716938   \n",
              "min       0.000000     0.000000      NaN      0.000000          0.000000   \n",
              "25%     262.500000   263.500000      NaN      1.000000          0.693147   \n",
              "50%     570.500000   571.500000      NaN     29.500000          3.417592   \n",
              "75%     814.750000   817.750000      NaN    264.500000          5.581610   \n",
              "max    1051.000000  1055.000000      NaN  29060.000000         10.277152   \n",
              "\n",
              "        num_tweets  log_num_tweets  \n",
              "count    894.00000      894.000000  \n",
              "mean      66.61745        0.703731  \n",
              "std      776.52660        1.763433  \n",
              "min        0.00000        0.000000  \n",
              "25%        0.00000        0.000000  \n",
              "50%        0.00000        0.000000  \n",
              "75%        0.00000        0.000000  \n",
              "max    21984.00000        9.998116  "
            ],
            "text/html": [
              "\n",
              "  <div id=\"df-e6e97733-217c-4669-9e4b-fd5611ea467f\">\n",
              "    <div class=\"colab-df-container\">\n",
              "      <div>\n",
              "<style scoped>\n",
              "    .dataframe tbody tr th:only-of-type {\n",
              "        vertical-align: middle;\n",
              "    }\n",
              "\n",
              "    .dataframe tbody tr th {\n",
              "        vertical-align: top;\n",
              "    }\n",
              "\n",
              "    .dataframe thead th {\n",
              "        text-align: right;\n",
              "    }\n",
              "</style>\n",
              "<table border=\"1\" class=\"dataframe\">\n",
              "  <thead>\n",
              "    <tr style=\"text-align: right;\">\n",
              "      <th></th>\n",
              "      <th>level_0</th>\n",
              "      <th>index</th>\n",
              "      <th>summary</th>\n",
              "      <th>num_retweets</th>\n",
              "      <th>log_num_retweets</th>\n",
              "      <th>num_tweets</th>\n",
              "      <th>log_num_tweets</th>\n",
              "    </tr>\n",
              "  </thead>\n",
              "  <tbody>\n",
              "    <tr>\n",
              "      <th>count</th>\n",
              "      <td>894.000000</td>\n",
              "      <td>894.000000</td>\n",
              "      <td>0.0</td>\n",
              "      <td>894.000000</td>\n",
              "      <td>894.000000</td>\n",
              "      <td>894.00000</td>\n",
              "      <td>894.000000</td>\n",
              "    </tr>\n",
              "    <tr>\n",
              "      <th>mean</th>\n",
              "      <td>542.328859</td>\n",
              "      <td>543.908277</td>\n",
              "      <td>NaN</td>\n",
              "      <td>557.787472</td>\n",
              "      <td>3.396452</td>\n",
              "      <td>66.61745</td>\n",
              "      <td>0.703731</td>\n",
              "    </tr>\n",
              "    <tr>\n",
              "      <th>std</th>\n",
              "      <td>311.964162</td>\n",
              "      <td>313.087083</td>\n",
              "      <td>NaN</td>\n",
              "      <td>2147.672525</td>\n",
              "      <td>2.716938</td>\n",
              "      <td>776.52660</td>\n",
              "      <td>1.763433</td>\n",
              "    </tr>\n",
              "    <tr>\n",
              "      <th>min</th>\n",
              "      <td>0.000000</td>\n",
              "      <td>0.000000</td>\n",
              "      <td>NaN</td>\n",
              "      <td>0.000000</td>\n",
              "      <td>0.000000</td>\n",
              "      <td>0.00000</td>\n",
              "      <td>0.000000</td>\n",
              "    </tr>\n",
              "    <tr>\n",
              "      <th>25%</th>\n",
              "      <td>262.500000</td>\n",
              "      <td>263.500000</td>\n",
              "      <td>NaN</td>\n",
              "      <td>1.000000</td>\n",
              "      <td>0.693147</td>\n",
              "      <td>0.00000</td>\n",
              "      <td>0.000000</td>\n",
              "    </tr>\n",
              "    <tr>\n",
              "      <th>50%</th>\n",
              "      <td>570.500000</td>\n",
              "      <td>571.500000</td>\n",
              "      <td>NaN</td>\n",
              "      <td>29.500000</td>\n",
              "      <td>3.417592</td>\n",
              "      <td>0.00000</td>\n",
              "      <td>0.000000</td>\n",
              "    </tr>\n",
              "    <tr>\n",
              "      <th>75%</th>\n",
              "      <td>814.750000</td>\n",
              "      <td>817.750000</td>\n",
              "      <td>NaN</td>\n",
              "      <td>264.500000</td>\n",
              "      <td>5.581610</td>\n",
              "      <td>0.00000</td>\n",
              "      <td>0.000000</td>\n",
              "    </tr>\n",
              "    <tr>\n",
              "      <th>max</th>\n",
              "      <td>1051.000000</td>\n",
              "      <td>1055.000000</td>\n",
              "      <td>NaN</td>\n",
              "      <td>29060.000000</td>\n",
              "      <td>10.277152</td>\n",
              "      <td>21984.00000</td>\n",
              "      <td>9.998116</td>\n",
              "    </tr>\n",
              "  </tbody>\n",
              "</table>\n",
              "</div>\n",
              "      <button class=\"colab-df-convert\" onclick=\"convertToInteractive('df-e6e97733-217c-4669-9e4b-fd5611ea467f')\"\n",
              "              title=\"Convert this dataframe to an interactive table.\"\n",
              "              style=\"display:none;\">\n",
              "        \n",
              "  <svg xmlns=\"http://www.w3.org/2000/svg\" height=\"24px\"viewBox=\"0 0 24 24\"\n",
              "       width=\"24px\">\n",
              "    <path d=\"M0 0h24v24H0V0z\" fill=\"none\"/>\n",
              "    <path d=\"M18.56 5.44l.94 2.06.94-2.06 2.06-.94-2.06-.94-.94-2.06-.94 2.06-2.06.94zm-11 1L8.5 8.5l.94-2.06 2.06-.94-2.06-.94L8.5 2.5l-.94 2.06-2.06.94zm10 10l.94 2.06.94-2.06 2.06-.94-2.06-.94-.94-2.06-.94 2.06-2.06.94z\"/><path d=\"M17.41 7.96l-1.37-1.37c-.4-.4-.92-.59-1.43-.59-.52 0-1.04.2-1.43.59L10.3 9.45l-7.72 7.72c-.78.78-.78 2.05 0 2.83L4 21.41c.39.39.9.59 1.41.59.51 0 1.02-.2 1.41-.59l7.78-7.78 2.81-2.81c.8-.78.8-2.07 0-2.86zM5.41 20L4 18.59l7.72-7.72 1.47 1.35L5.41 20z\"/>\n",
              "  </svg>\n",
              "      </button>\n",
              "      \n",
              "  <style>\n",
              "    .colab-df-container {\n",
              "      display:flex;\n",
              "      flex-wrap:wrap;\n",
              "      gap: 12px;\n",
              "    }\n",
              "\n",
              "    .colab-df-convert {\n",
              "      background-color: #E8F0FE;\n",
              "      border: none;\n",
              "      border-radius: 50%;\n",
              "      cursor: pointer;\n",
              "      display: none;\n",
              "      fill: #1967D2;\n",
              "      height: 32px;\n",
              "      padding: 0 0 0 0;\n",
              "      width: 32px;\n",
              "    }\n",
              "\n",
              "    .colab-df-convert:hover {\n",
              "      background-color: #E2EBFA;\n",
              "      box-shadow: 0px 1px 2px rgba(60, 64, 67, 0.3), 0px 1px 3px 1px rgba(60, 64, 67, 0.15);\n",
              "      fill: #174EA6;\n",
              "    }\n",
              "\n",
              "    [theme=dark] .colab-df-convert {\n",
              "      background-color: #3B4455;\n",
              "      fill: #D2E3FC;\n",
              "    }\n",
              "\n",
              "    [theme=dark] .colab-df-convert:hover {\n",
              "      background-color: #434B5C;\n",
              "      box-shadow: 0px 1px 3px 1px rgba(0, 0, 0, 0.15);\n",
              "      filter: drop-shadow(0px 1px 2px rgba(0, 0, 0, 0.3));\n",
              "      fill: #FFFFFF;\n",
              "    }\n",
              "  </style>\n",
              "\n",
              "      <script>\n",
              "        const buttonEl =\n",
              "          document.querySelector('#df-e6e97733-217c-4669-9e4b-fd5611ea467f button.colab-df-convert');\n",
              "        buttonEl.style.display =\n",
              "          google.colab.kernel.accessAllowed ? 'block' : 'none';\n",
              "\n",
              "        async function convertToInteractive(key) {\n",
              "          const element = document.querySelector('#df-e6e97733-217c-4669-9e4b-fd5611ea467f');\n",
              "          const dataTable =\n",
              "            await google.colab.kernel.invokeFunction('convertToInteractive',\n",
              "                                                     [key], {});\n",
              "          if (!dataTable) return;\n",
              "\n",
              "          const docLinkHtml = 'Like what you see? Visit the ' +\n",
              "            '<a target=\"_blank\" href=https://colab.research.google.com/notebooks/data_table.ipynb>data table notebook</a>'\n",
              "            + ' to learn more about interactive tables.';\n",
              "          element.innerHTML = '';\n",
              "          dataTable['output_type'] = 'display_data';\n",
              "          await google.colab.output.renderOutput(dataTable, element);\n",
              "          const docLink = document.createElement('div');\n",
              "          docLink.innerHTML = docLinkHtml;\n",
              "          element.appendChild(docLink);\n",
              "        }\n",
              "      </script>\n",
              "    </div>\n",
              "  </div>\n",
              "  "
            ]
          },
          "metadata": {},
          "execution_count": 65
        }
      ]
    },
    {
      "cell_type": "markdown",
      "source": [
        "## More to come"
      ],
      "metadata": {
        "id": "RZ2uB24zzJGW"
      }
    }
  ]
}