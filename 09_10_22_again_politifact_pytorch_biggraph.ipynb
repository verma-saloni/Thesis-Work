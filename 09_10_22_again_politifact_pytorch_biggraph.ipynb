{
  "nbformat": 4,
  "nbformat_minor": 0,
  "metadata": {
    "colab": {
      "name": "politifact_pytorch_biggraph.ipynb",
      "provenance": [],
      "collapsed_sections": [],
      "include_colab_link": true
    },
    "kernelspec": {
      "name": "python3",
      "display_name": "Python 3"
    },
    "language_info": {
      "name": "python"
    },
    "accelerator": "GPU",
    "gpuClass": "standard"
  },
  "cells": [
    {
      "cell_type": "markdown",
      "metadata": {
        "id": "view-in-github",
        "colab_type": "text"
      },
      "source": [
        "<a href=\"https://colab.research.google.com/github/verma-saloni/Thesis-Work/blob/main/09_10_22_again_politifact_pytorch_biggraph.ipynb\" target=\"_parent\"><img src=\"https://colab.research.google.com/assets/colab-badge.svg\" alt=\"Open In Colab\"/></a>"
      ]
    },
    {
      "cell_type": "markdown",
      "source": [
        "Installing the necessary libraries for the Pytorch BigGraph embeddings. "
      ],
      "metadata": {
        "id": "JtbwP7PzgpQR"
      }
    },
    {
      "cell_type": "code",
      "execution_count": 1,
      "metadata": {
        "id": "xpTeMbYZwmf7"
      },
      "outputs": [],
      "source": [
        "!pip -qq install jsonlines"
      ]
    },
    {
      "cell_type": "code",
      "source": [
        "!git clone -qb working https://github.com/verma-saloni/PyTorch-BigGraph"
      ],
      "metadata": {
        "id": "Vne7O50jOJRz"
      },
      "execution_count": 2,
      "outputs": []
    },
    {
      "cell_type": "code",
      "source": [
        "%cd PyTorch-BigGraph/\n",
        "!pip -qq install .\n",
        "%cd /content/"
      ],
      "metadata": {
        "id": "fKc3Ix04OThj",
        "colab": {
          "base_uri": "https://localhost:8080/"
        },
        "outputId": "39a7c01a-f209-46f6-82b2-f16e2e8473f8"
      },
      "execution_count": 3,
      "outputs": [
        {
          "output_type": "stream",
          "name": "stdout",
          "text": [
            "/content/PyTorch-BigGraph\n",
            "\u001b[33m  DEPRECATION: A future pip version will change local packages to be built in-place without first copying to a temporary directory. We recommend you use --use-feature=in-tree-build to test your packages with this new behavior before it becomes the default.\n",
            "   pip 21.3 will remove support for this functionality. You can find discussion regarding this at https://github.com/pypa/pip/issues/7555.\u001b[0m\n",
            "  Building wheel for torchbiggraph (setup.py) ... \u001b[?25l\u001b[?25hdone\n",
            "/content\n"
          ]
        }
      ]
    },
    {
      "cell_type": "code",
      "source": [
        "from google.colab import drive\n",
        "drive.mount('/gdrive')\n",
        "\n",
        "from pathlib import Path\n",
        "base_dir = Path(\"/gdrive/MyDrive/ResearchFND\")\n",
        "assert base_dir.exists()"
      ],
      "metadata": {
        "colab": {
          "base_uri": "https://localhost:8080/"
        },
        "id": "UxNEaltli8H_",
        "outputId": "9ac13641-3cea-4a72-933a-0ead1a092825"
      },
      "execution_count": 4,
      "outputs": [
        {
          "output_type": "stream",
          "name": "stdout",
          "text": [
            "Mounted at /gdrive\n"
          ]
        }
      ]
    },
    {
      "cell_type": "markdown",
      "source": [
        "## Data prep"
      ],
      "metadata": {
        "id": "NHdG78wwVumY"
      }
    },
    {
      "cell_type": "code",
      "source": [
        "import pandas as pd\n",
        "import ast\n",
        "import os\n",
        "import json\n",
        "import jsonlines\n",
        "import numpy as np\n",
        "import torch\n",
        "\n",
        "import IPython.display as ipd"
      ],
      "metadata": {
        "id": "7tPiW_FBWO8s"
      },
      "execution_count": 5,
      "outputs": []
    },
    {
      "cell_type": "markdown",
      "source": [
        "Reading the input file for the dataset. \n"
      ],
      "metadata": {
        "id": "i-vVZW8Rheye"
      }
    },
    {
      "cell_type": "code",
      "source": [
        "df = pd.read_csv(base_dir/'politifact_agg.csv', index_col=0)\n",
        "df.head(2)"
      ],
      "metadata": {
        "colab": {
          "base_uri": "https://localhost:8080/",
          "height": 191
        },
        "id": "0BsiweMKV3Kt",
        "outputId": "1317f655-69aa-4750-f8b1-64394ff757af"
      },
      "execution_count": 6,
      "outputs": [
        {
          "output_type": "execute_result",
          "data": {
            "text/plain": [
              "                                               title text tweets  \\\n",
              "0   Actress Emma Stone ‘For the first time in his...  NaN     []   \n",
              "1   Breaking President Trump makes English the of...  NaN     []   \n",
              "\n",
              "                                            retweets label  url tweet_ids  \\\n",
              "0  ['1020554564334964741', '1020817527046197248',...  fake  NaN        []   \n",
              "1                                                 []  fake  NaN        []   \n",
              "\n",
              "   num_retweets  log_num_retweets  num_tweets  log_num_tweets  \n",
              "0          2911          7.976595           0             0.0  \n",
              "1             0          0.000000           0             0.0  "
            ],
            "text/html": [
              "\n",
              "  <div id=\"df-16eebaaf-5d68-4f87-8f2d-c38c48d40416\">\n",
              "    <div class=\"colab-df-container\">\n",
              "      <div>\n",
              "<style scoped>\n",
              "    .dataframe tbody tr th:only-of-type {\n",
              "        vertical-align: middle;\n",
              "    }\n",
              "\n",
              "    .dataframe tbody tr th {\n",
              "        vertical-align: top;\n",
              "    }\n",
              "\n",
              "    .dataframe thead th {\n",
              "        text-align: right;\n",
              "    }\n",
              "</style>\n",
              "<table border=\"1\" class=\"dataframe\">\n",
              "  <thead>\n",
              "    <tr style=\"text-align: right;\">\n",
              "      <th></th>\n",
              "      <th>title</th>\n",
              "      <th>text</th>\n",
              "      <th>tweets</th>\n",
              "      <th>retweets</th>\n",
              "      <th>label</th>\n",
              "      <th>url</th>\n",
              "      <th>tweet_ids</th>\n",
              "      <th>num_retweets</th>\n",
              "      <th>log_num_retweets</th>\n",
              "      <th>num_tweets</th>\n",
              "      <th>log_num_tweets</th>\n",
              "    </tr>\n",
              "  </thead>\n",
              "  <tbody>\n",
              "    <tr>\n",
              "      <th>0</th>\n",
              "      <td>Actress Emma Stone ‘For the first time in his...</td>\n",
              "      <td>NaN</td>\n",
              "      <td>[]</td>\n",
              "      <td>['1020554564334964741', '1020817527046197248',...</td>\n",
              "      <td>fake</td>\n",
              "      <td>NaN</td>\n",
              "      <td>[]</td>\n",
              "      <td>2911</td>\n",
              "      <td>7.976595</td>\n",
              "      <td>0</td>\n",
              "      <td>0.0</td>\n",
              "    </tr>\n",
              "    <tr>\n",
              "      <th>1</th>\n",
              "      <td>Breaking President Trump makes English the of...</td>\n",
              "      <td>NaN</td>\n",
              "      <td>[]</td>\n",
              "      <td>[]</td>\n",
              "      <td>fake</td>\n",
              "      <td>NaN</td>\n",
              "      <td>[]</td>\n",
              "      <td>0</td>\n",
              "      <td>0.000000</td>\n",
              "      <td>0</td>\n",
              "      <td>0.0</td>\n",
              "    </tr>\n",
              "  </tbody>\n",
              "</table>\n",
              "</div>\n",
              "      <button class=\"colab-df-convert\" onclick=\"convertToInteractive('df-16eebaaf-5d68-4f87-8f2d-c38c48d40416')\"\n",
              "              title=\"Convert this dataframe to an interactive table.\"\n",
              "              style=\"display:none;\">\n",
              "        \n",
              "  <svg xmlns=\"http://www.w3.org/2000/svg\" height=\"24px\"viewBox=\"0 0 24 24\"\n",
              "       width=\"24px\">\n",
              "    <path d=\"M0 0h24v24H0V0z\" fill=\"none\"/>\n",
              "    <path d=\"M18.56 5.44l.94 2.06.94-2.06 2.06-.94-2.06-.94-.94-2.06-.94 2.06-2.06.94zm-11 1L8.5 8.5l.94-2.06 2.06-.94-2.06-.94L8.5 2.5l-.94 2.06-2.06.94zm10 10l.94 2.06.94-2.06 2.06-.94-2.06-.94-.94-2.06-.94 2.06-2.06.94z\"/><path d=\"M17.41 7.96l-1.37-1.37c-.4-.4-.92-.59-1.43-.59-.52 0-1.04.2-1.43.59L10.3 9.45l-7.72 7.72c-.78.78-.78 2.05 0 2.83L4 21.41c.39.39.9.59 1.41.59.51 0 1.02-.2 1.41-.59l7.78-7.78 2.81-2.81c.8-.78.8-2.07 0-2.86zM5.41 20L4 18.59l7.72-7.72 1.47 1.35L5.41 20z\"/>\n",
              "  </svg>\n",
              "      </button>\n",
              "      \n",
              "  <style>\n",
              "    .colab-df-container {\n",
              "      display:flex;\n",
              "      flex-wrap:wrap;\n",
              "      gap: 12px;\n",
              "    }\n",
              "\n",
              "    .colab-df-convert {\n",
              "      background-color: #E8F0FE;\n",
              "      border: none;\n",
              "      border-radius: 50%;\n",
              "      cursor: pointer;\n",
              "      display: none;\n",
              "      fill: #1967D2;\n",
              "      height: 32px;\n",
              "      padding: 0 0 0 0;\n",
              "      width: 32px;\n",
              "    }\n",
              "\n",
              "    .colab-df-convert:hover {\n",
              "      background-color: #E2EBFA;\n",
              "      box-shadow: 0px 1px 2px rgba(60, 64, 67, 0.3), 0px 1px 3px 1px rgba(60, 64, 67, 0.15);\n",
              "      fill: #174EA6;\n",
              "    }\n",
              "\n",
              "    [theme=dark] .colab-df-convert {\n",
              "      background-color: #3B4455;\n",
              "      fill: #D2E3FC;\n",
              "    }\n",
              "\n",
              "    [theme=dark] .colab-df-convert:hover {\n",
              "      background-color: #434B5C;\n",
              "      box-shadow: 0px 1px 3px 1px rgba(0, 0, 0, 0.15);\n",
              "      filter: drop-shadow(0px 1px 2px rgba(0, 0, 0, 0.3));\n",
              "      fill: #FFFFFF;\n",
              "    }\n",
              "  </style>\n",
              "\n",
              "      <script>\n",
              "        const buttonEl =\n",
              "          document.querySelector('#df-16eebaaf-5d68-4f87-8f2d-c38c48d40416 button.colab-df-convert');\n",
              "        buttonEl.style.display =\n",
              "          google.colab.kernel.accessAllowed ? 'block' : 'none';\n",
              "\n",
              "        async function convertToInteractive(key) {\n",
              "          const element = document.querySelector('#df-16eebaaf-5d68-4f87-8f2d-c38c48d40416');\n",
              "          const dataTable =\n",
              "            await google.colab.kernel.invokeFunction('convertToInteractive',\n",
              "                                                     [key], {});\n",
              "          if (!dataTable) return;\n",
              "\n",
              "          const docLinkHtml = 'Like what you see? Visit the ' +\n",
              "            '<a target=\"_blank\" href=https://colab.research.google.com/notebooks/data_table.ipynb>data table notebook</a>'\n",
              "            + ' to learn more about interactive tables.';\n",
              "          element.innerHTML = '';\n",
              "          dataTable['output_type'] = 'display_data';\n",
              "          await google.colab.output.renderOutput(dataTable, element);\n",
              "          const docLink = document.createElement('div');\n",
              "          docLink.innerHTML = docLinkHtml;\n",
              "          element.appendChild(docLink);\n",
              "        }\n",
              "      </script>\n",
              "    </div>\n",
              "  </div>\n",
              "  "
            ]
          },
          "metadata": {},
          "execution_count": 6
        }
      ]
    },
    {
      "cell_type": "code",
      "source": [
        "with open(base_dir/'t2u.json') as f:\n",
        "    t2u = json.load(f)\n",
        "\n",
        "with open(base_dir/'users_info.json') as f:\n",
        "    users_info = json.load(f)"
      ],
      "metadata": {
        "id": "-6bwXASDJdFJ"
      },
      "execution_count": 7,
      "outputs": []
    },
    {
      "cell_type": "code",
      "source": [
        "df['tweets'] = df.tweets.map(ast.literal_eval)\n",
        "users_tweeted = df.tweets.map(lambda x: [int(e['user_id']) for e in x])"
      ],
      "metadata": {
        "id": "cruZFCpNWRLb"
      },
      "execution_count": 8,
      "outputs": []
    },
    {
      "cell_type": "code",
      "source": [
        "df['retweets'] = df.retweets.map(ast.literal_eval)\n",
        "users_retweeted = df.retweets.map(lambda x: [t2u[str(e)] for e in x if (str(e) in t2u) ])"
      ],
      "metadata": {
        "id": "gJpLhbzEMbaB"
      },
      "execution_count": 9,
      "outputs": []
    },
    {
      "cell_type": "code",
      "source": [
        "len(users_tweeted), sum(users_tweeted.map(len) > 0)"
      ],
      "metadata": {
        "colab": {
          "base_uri": "https://localhost:8080/"
        },
        "id": "exnDy-5ud_uJ",
        "outputId": "15ef290d-980f-43b1-e4ae-83bf15edff71"
      },
      "execution_count": 10,
      "outputs": [
        {
          "output_type": "execute_result",
          "data": {
            "text/plain": [
              "(894, 149)"
            ]
          },
          "metadata": {},
          "execution_count": 10
        }
      ]
    },
    {
      "cell_type": "code",
      "source": [
        "len(users_retweeted), sum(users_retweeted.map(len) > 0)"
      ],
      "metadata": {
        "colab": {
          "base_uri": "https://localhost:8080/"
        },
        "id": "ihN_iQVMN4Lu",
        "outputId": "bb29f7b6-b252-419f-9d16-a938ea6d5986"
      },
      "execution_count": 11,
      "outputs": [
        {
          "output_type": "execute_result",
          "data": {
            "text/plain": [
              "(894, 22)"
            ]
          },
          "metadata": {},
          "execution_count": 11
        }
      ]
    },
    {
      "cell_type": "code",
      "source": [
        "follow_src = []\n",
        "follow_dst = []\n",
        "with jsonlines.open(base_dir/\"followers.jsonl\") as reader:\n",
        "    for line in reader:\n",
        "        v = line[\"user_id\"]\n",
        "        for u in line[\"followers\"]:\n",
        "            follow_src.append(u)\n",
        "            follow_dst.append(v)"
      ],
      "metadata": {
        "id": "h3XOCaEwoMvx"
      },
      "execution_count": 12,
      "outputs": []
    },
    {
      "cell_type": "code",
      "source": [
        "with jsonlines.open(base_dir/\"following.jsonl\") as reader:\n",
        "    for line in reader:\n",
        "        u = line[\"user_id\"]\n",
        "        for v in line[\"following\"]:\n",
        "            follow_src.append(u)\n",
        "            follow_dst.append(v)"
      ],
      "metadata": {
        "id": "sWJFoJ_4oMvz"
      },
      "execution_count": 13,
      "outputs": []
    },
    {
      "cell_type": "code",
      "source": [
        "# \"retweet\" users\n",
        "for u, info in users_info.items():\n",
        "    u = int(u)\n",
        "    for v in info['followers']:\n",
        "        follow_src.append(v)\n",
        "        follow_dst.append(u)\n",
        "    for v in info['friends']:\n",
        "        follow_src.append(u)\n",
        "        follow_dst.append(v)"
      ],
      "metadata": {
        "id": "Wj-m05WwJ75g"
      },
      "execution_count": 14,
      "outputs": []
    },
    {
      "cell_type": "code",
      "source": [
        "tweet_src = []\n",
        "tweet_dst = []\n",
        "\n",
        "for v, l in users_tweeted.iteritems():\n",
        "    if not len(l): \n",
        "        continue\n",
        "    for u in l:\n",
        "        tweet_src.append(u)\n",
        "        tweet_dst.append(v)"
      ],
      "metadata": {
        "id": "DWM9MEXDpiyX"
      },
      "execution_count": 15,
      "outputs": []
    },
    {
      "cell_type": "code",
      "source": [
        "for v, l in users_retweeted.iteritems():\n",
        "    if not len(l):\n",
        "        continue\n",
        "    for u in l:\n",
        "        tweet_src.append(u)\n",
        "        tweet_dst.append(v)"
      ],
      "metadata": {
        "id": "7NWVWayzQdGe"
      },
      "execution_count": 16,
      "outputs": []
    },
    {
      "cell_type": "code",
      "source": [
        "with open('edges.txt', 'w') as f:\n",
        "    for src, dst in zip(follow_src, follow_dst):\n",
        "        f.write(f\"{src}\\t{dst}\\tfollows\\n\")\n",
        "    for src, dst in zip(tweet_src, tweet_dst):\n",
        "        f.write(f\"{src}\\t{dst}\\ttwitted\\n\")"
      ],
      "metadata": {
        "id": "OkIxZJL5UuD0"
      },
      "execution_count": 17,
      "outputs": []
    },
    {
      "cell_type": "code",
      "source": [
        "!head -n 5 edges.txt"
      ],
      "metadata": {
        "colab": {
          "base_uri": "https://localhost:8080/"
        },
        "id": "QHqWee-K9jDA",
        "outputId": "bd77a03d-cb44-492d-dd57-15c7621c6d54"
      },
      "execution_count": 18,
      "outputs": [
        {
          "output_type": "stream",
          "name": "stdout",
          "text": [
            "983553159057498114\t961251714857828357\tfollows\n",
            "988529911873921024\t961251714857828357\tfollows\n",
            "961635897929359360\t961251714857828357\tfollows\n",
            "159717173\t961251714857828357\tfollows\n",
            "4737344780\t961251714857828357\tfollows\n"
          ]
        }
      ]
    },
    {
      "cell_type": "code",
      "source": [
        "cp edges.txt $base_dir/"
      ],
      "metadata": {
        "id": "wF1RCfArK1bW"
      },
      "execution_count": 19,
      "outputs": []
    },
    {
      "cell_type": "markdown",
      "source": [
        "## Training"
      ],
      "metadata": {
        "id": "A9DZtJEvKUrH"
      }
    },
    {
      "cell_type": "code",
      "source": [
        "pip install torch"
      ],
      "metadata": {
        "colab": {
          "base_uri": "https://localhost:8080/"
        },
        "id": "yzq9nvhQRYYc",
        "outputId": "21d8c131-cfee-4fea-a45b-2a8729a3e182"
      },
      "execution_count": 20,
      "outputs": [
        {
          "output_type": "stream",
          "name": "stdout",
          "text": [
            "Looking in indexes: https://pypi.org/simple, https://us-python.pkg.dev/colab-wheels/public/simple/\n",
            "Requirement already satisfied: torch in /usr/local/lib/python3.7/dist-packages (1.12.1+cu113)\n",
            "Requirement already satisfied: typing-extensions in /usr/local/lib/python3.7/dist-packages (from torch) (4.1.1)\n"
          ]
        }
      ]
    },
    {
      "cell_type": "code",
      "source": [
        "import random\n",
        "from pathlib import Path\n",
        "\n",
        "import attr\n",
        "import pkg_resources\n",
        "from torchbiggraph.config import add_to_sys_path, ConfigFileLoader\n",
        "from torchbiggraph.converters.importers import convert_input_data, TSVEdgelistReader\n",
        "from torchbiggraph.converters.utils import download_url, extract_gzip, extract_tar\n",
        "from torchbiggraph.eval import do_eval\n",
        "from torchbiggraph.train import train\n",
        "from torchbiggraph.util import (\n",
        "    set_logging_verbosity,\n",
        "    setup_logging,\n",
        "    SubprocessInitializer,\n",
        ")"
      ],
      "metadata": {
        "id": "2AfA9wOUQFzE"
      },
      "execution_count": 21,
      "outputs": []
    },
    {
      "cell_type": "markdown",
      "source": [
        "Creating a new edges txt file in the library, which will show the connections between different Twitter users with their Twitter IDs. \n"
      ],
      "metadata": {
        "id": "khl7P2MyCKf5"
      }
    },
    {
      "cell_type": "code",
      "source": [
        "data_dir = Path('./data')\n",
        "data_dir.mkdir(parents=True, exist_ok=True)\n",
        "fpath = base_dir/'edges.txt'"
      ],
      "metadata": {
        "id": "EhJ-IR1D2_Qx"
      },
      "execution_count": 22,
      "outputs": []
    },
    {
      "cell_type": "markdown",
      "source": [
        "splitting into train and validation files, 80-20 split, random splits and then starts to follow a path. "
      ],
      "metadata": {
        "id": "QU676V-SCXvA"
      }
    },
    {
      "cell_type": "code",
      "source": [
        "import random\n",
        "\n",
        "def split_edges(input_file, pct=0.8, train_file='data/train_edges.txt', valid_file='data/valid_edges.txt'):\n",
        "\n",
        "    with open(input_file) as f:\n",
        "        lines = f.readlines()\n",
        "\n",
        "    follow_edges, tweet_edges = [], []\n",
        "    for line in lines:\n",
        "        if line.strip().endswith('follows'):\n",
        "            follow_edges.append(line)\n",
        "        else:\n",
        "            tweet_edges.append(line)\n",
        "\n",
        "    random.shuffle(follow_edges)\n",
        "    random.shuffle(tweet_edges)\n",
        "    follow_split, tweet_split = int(pct*len(follow_edges)), int(pct*len(tweet_edges))\n",
        "    train_edges = follow_edges[:follow_split] + tweet_edges[:tweet_split]\n",
        "    valid_edges = follow_edges[follow_split:] + tweet_edges[tweet_split:]\n",
        "\n",
        "    with open(train_file, 'w') as f:\n",
        "        f.writelines(train_edges)\n",
        "\n",
        "    with open(valid_file, 'w') as f:\n",
        "        f.writelines(valid_edges)"
      ],
      "metadata": {
        "id": "6IufRqmI_3yy"
      },
      "execution_count": 23,
      "outputs": []
    },
    {
      "cell_type": "code",
      "source": [
        "split_edges(fpath)"
      ],
      "metadata": {
        "id": "m8CRfFnyAPob"
      },
      "execution_count": 24,
      "outputs": []
    },
    {
      "cell_type": "code",
      "source": [
        "loader = ConfigFileLoader()\n",
        "config = loader.load_config('PyTorch-BigGraph/torchbiggraph/examples/configs/politifact_config.py', [])\n",
        "set_logging_verbosity(0)\n",
        "subprocess_init = SubprocessInitializer()\n",
        "#subprocess_init.register(setup_logging, 1). # commented so it will remove some unnecessary outputs for the next cells..for the github gist it was set to 1, in case it was needed later for analysis of connections\n",
        "subprocess_init.register(setup_logging, 0)\n",
        "subprocess_init.register(add_to_sys_path, loader.config_dir.name)\n",
        "input_edge_paths = [data_dir/'train_edges.txt', data_dir/'valid_edges.txt']\n",
        "output_train_path, output_test_path = config.edge_paths"
      ],
      "metadata": {
        "id": "arg_IAqn9SPt"
      },
      "execution_count": 25,
      "outputs": []
    },
    {
      "cell_type": "markdown",
      "source": [
        "Converting the input data to entities, relations and paths through which they are connected. \n"
      ],
      "metadata": {
        "id": "dw6PjgCvDlFt"
      }
    },
    {
      "cell_type": "code",
      "source": [
        "convert_input_data(\n",
        "    config.entities,\n",
        "    config.relations,\n",
        "    config.entity_path,\n",
        "    config.edge_paths,\n",
        "    input_edge_paths,\n",
        "    TSVEdgelistReader(lhs_col=0, rhs_col=1, rel_col=2),\n",
        "    dynamic_relations=config.dynamic_relations,\n",
        ")"
      ],
      "metadata": {
        "colab": {
          "base_uri": "https://localhost:8080/"
        },
        "id": "oTXJLODH-RQx",
        "outputId": "b981e7ed-427e-4ee9-bbf3-88a53c66efc0"
      },
      "execution_count": 26,
      "outputs": [
        {
          "output_type": "stream",
          "name": "stdout",
          "text": [
            "[2022-09-10 11:36:06.463218] Using the 2 relation types given in the config\n",
            "[2022-09-10 11:36:06.466648] Searching for the entities in the edge files...\n",
            "[2022-09-10 11:36:08.639378] Entity type user:\n",
            "[2022-09-10 11:36:08.640631] - Found 678041 entities\n",
            "[2022-09-10 11:36:08.646778] - Removing the ones with fewer than 1 occurrences...\n",
            "[2022-09-10 11:36:08.901279] - Left with 678041 entities\n",
            "[2022-09-10 11:36:08.911562] - Shuffling them...\n",
            "[2022-09-10 11:36:09.731474] Entity type article:\n",
            "[2022-09-10 11:36:09.732871] - Found 171 entities\n",
            "[2022-09-10 11:36:09.737945] - Removing the ones with fewer than 1 occurrences...\n",
            "[2022-09-10 11:36:09.740792] - Left with 171 entities\n",
            "[2022-09-10 11:36:09.742400] - Shuffling them...\n",
            "[2022-09-10 11:36:09.750680] Preparing counts and dictionaries for entities and relation types:\n",
            "[2022-09-10 11:36:09.752502] - Writing count of entity type user and partition 0\n",
            "[2022-09-10 11:36:10.586361] - Writing count of entity type article and partition 0\n",
            "[2022-09-10 11:36:10.599410] Preparing edge path data/train_partitioned, out of the edges found in data/train_edges.txt\n",
            "[2022-09-10 11:36:10.602403] - Edges will be partitioned in 1 x 1 buckets.\n",
            "[2022-09-10 11:36:12.480551] - Processed 100000 edges so far...\n",
            "[2022-09-10 11:36:14.978164] - Processed 200000 edges so far...\n",
            "[2022-09-10 11:36:17.244805] - Processed 300000 edges so far...\n",
            "[2022-09-10 11:36:19.424912] - Processed 400000 edges so far...\n",
            "[2022-09-10 11:36:20.317513] - Processed 500000 edges so far...\n",
            "[2022-09-10 11:36:21.355288] - Processed 600000 edges so far...\n",
            "[2022-09-10 11:36:21.780918] - Processed 606538 edges in total\n",
            "[2022-09-10 11:36:21.787981] Preparing edge path data/test_partitioned, out of the edges found in data/valid_edges.txt\n",
            "[2022-09-10 11:36:21.791191] - Edges will be partitioned in 1 x 1 buckets.\n",
            "[2022-09-10 11:36:22.582305] - Processed 100000 edges so far...\n",
            "[2022-09-10 11:36:23.640619] - Processed 151636 edges in total\n"
          ]
        }
      ]
    },
    {
      "cell_type": "code",
      "source": [
        "train_config = attr.evolve(config, edge_paths=[output_train_path])\n",
        "train(train_config, subprocess_init=subprocess_init)"
      ],
      "metadata": {
        "colab": {
          "base_uri": "https://localhost:8080/"
        },
        "id": "xMLAogkkFQKW",
        "outputId": "01d77f9c-317f-4099-8c14-f4693f40fabe"
      },
      "execution_count": 27,
      "outputs": [
        {
          "output_type": "stream",
          "name": "stderr",
          "text": [
            "INFO:torchbiggraph:Loading entity counts...\n",
            "INFO:torchbiggraph:Creating workers...\n",
            "INFO:torchbiggraph:Initializing global model...\n",
            "INFO:torchbiggraph:Starting epoch 1 / 30, edge path 1 / 1, edge chunk 1 / 1\n",
            "INFO:torchbiggraph:Edge path: data/train_partitioned\n",
            "INFO:torchbiggraph:still in queue: 0\n",
            "INFO:torchbiggraph:Swapping partitioned embeddings None ( 0 , 0 )\n",
            "INFO:torchbiggraph:Loading partitioned embeddings from checkpoint\n",
            "INFO:torchbiggraph:( 0 , 0 ): Stats before training: loss:  453.605 , pos_rank:  994.635 , mrr:  0.003828 , r1:  0.0005276 , r10:  0.00420431 , r50:  0.024352 , auc:  0.499357 , count:  30326\n",
            "INFO:torchbiggraph:( 0 , 0 ): Training stats: loss:  23.375 , reg:  0 , violators_lhs:  44.4689 , violators_rhs:  45.0932 , count:  576212\n",
            "INFO:torchbiggraph:( 0 , 0 ): Stats after training: loss:  439.466 , pos_rank:  835.509 , mrr:  0.0371225 , r1:  0.0234287 , r10:  0.0659995 , r50:  0.117259 , auc:  0.584416 , count:  30326\n",
            "INFO:torchbiggraph:( 0 , 0 ): bucket 1 / 1 : Trained 576212 edges in 7.74 s ( 0.074 M/sec ); Eval 2*30326 edges in 3.28 s ( 0.019 M/sec ); io: 0.66 s for 361,801,456 bytes ( 552.01 MB/sec )\n",
            "INFO:torchbiggraph:Swapping partitioned embeddings ( 0 , 0 ) None\n",
            "INFO:torchbiggraph:Saving partitioned embeddings to checkpoint\n",
            "INFO:torchbiggraph:Finished epoch 1 / 30, edge path 1 / 1, edge chunk 1 / 1\n",
            "INFO:torchbiggraph:Writing the metadata\n",
            "INFO:torchbiggraph:Writing the training stats\n",
            "INFO:torchbiggraph:Writing the checkpoint\n",
            "INFO:torchbiggraph:Switching to the new checkpoint version\n",
            "INFO:torchbiggraph:Starting epoch 2 / 30, edge path 1 / 1, edge chunk 1 / 1\n",
            "INFO:torchbiggraph:Edge path: data/train_partitioned\n",
            "INFO:torchbiggraph:still in queue: 0\n",
            "INFO:torchbiggraph:Swapping partitioned embeddings None ( 0 , 0 )\n",
            "INFO:torchbiggraph:Loading partitioned embeddings from checkpoint\n",
            "INFO:torchbiggraph:( 0 , 0 ): Stats before training: loss:  439.225 , pos_rank:  836.064 , mrr:  0.037074 , r1:  0.0234123 , r10:  0.06656 , r50:  0.116979 , auc:  0.578497 , count:  30326\n",
            "INFO:torchbiggraph:( 0 , 0 ): Training stats: loss:  4.18581 , reg:  0 , violators_lhs:  9.86358 , violators_rhs:  6.30307 , count:  576212\n",
            "INFO:torchbiggraph:( 0 , 0 ): Stats after training: loss:  519.988 , pos_rank:  868.073 , mrr:  0.0388662 , r1:  0.0247642 , r10:  0.0694783 , r50:  0.120359 , auc:  0.56008 , count:  30326\n",
            "INFO:torchbiggraph:( 0 , 0 ): bucket 1 / 1 : Trained 576212 edges in 7.63 s ( 0.076 M/sec ); Eval 2*30326 edges in 2.12 s ( 0.029 M/sec ); io: 0.12 s for 361,801,456 bytes ( 3034.07 MB/sec )\n",
            "INFO:torchbiggraph:Swapping partitioned embeddings ( 0 , 0 ) None\n",
            "INFO:torchbiggraph:Saving partitioned embeddings to checkpoint\n",
            "INFO:torchbiggraph:Finished epoch 2 / 30, edge path 1 / 1, edge chunk 1 / 1\n",
            "INFO:torchbiggraph:Writing the metadata\n",
            "INFO:torchbiggraph:Writing the training stats\n",
            "INFO:torchbiggraph:Writing the checkpoint\n",
            "INFO:torchbiggraph:Switching to the new checkpoint version\n",
            "INFO:torchbiggraph:Starting epoch 3 / 30, edge path 1 / 1, edge chunk 1 / 1\n",
            "INFO:torchbiggraph:Edge path: data/train_partitioned\n",
            "INFO:torchbiggraph:still in queue: 0\n",
            "INFO:torchbiggraph:Swapping partitioned embeddings None ( 0 , 0 )\n",
            "INFO:torchbiggraph:Loading partitioned embeddings from checkpoint\n",
            "INFO:torchbiggraph:( 0 , 0 ): Stats before training: loss:  518.836 , pos_rank:  867.277 , mrr:  0.0389218 , r1:  0.0247642 , r10:  0.0696597 , r50:  0.120491 , auc:  0.560839 , count:  30326\n",
            "INFO:torchbiggraph:( 0 , 0 ): Training stats: loss:  3.4805 , reg:  0 , violators_lhs:  9.45022 , violators_rhs:  5.07795 , count:  576212\n",
            "INFO:torchbiggraph:( 0 , 0 ): Stats after training: loss:  530.673 , pos_rank:  874.816 , mrr:  0.0389011 , r1:  0.0250115 , r10:  0.0700224 , r50:  0.120276 , auc:  0.554359 , count:  30326\n",
            "INFO:torchbiggraph:( 0 , 0 ): bucket 1 / 1 : Trained 576212 edges in 7.56 s ( 0.076 M/sec ); Eval 2*30326 edges in 2.13 s ( 0.028 M/sec ); io: 0.11 s for 361,801,456 bytes ( 3161.57 MB/sec )\n",
            "INFO:torchbiggraph:Swapping partitioned embeddings ( 0 , 0 ) None\n",
            "INFO:torchbiggraph:Saving partitioned embeddings to checkpoint\n",
            "INFO:torchbiggraph:Finished epoch 3 / 30, edge path 1 / 1, edge chunk 1 / 1\n",
            "INFO:torchbiggraph:Writing the metadata\n",
            "INFO:torchbiggraph:Writing the training stats\n",
            "INFO:torchbiggraph:Writing the checkpoint\n",
            "INFO:torchbiggraph:Switching to the new checkpoint version\n",
            "INFO:torchbiggraph:Starting epoch 4 / 30, edge path 1 / 1, edge chunk 1 / 1\n",
            "INFO:torchbiggraph:Edge path: data/train_partitioned\n",
            "INFO:torchbiggraph:still in queue: 0\n",
            "INFO:torchbiggraph:Swapping partitioned embeddings None ( 0 , 0 )\n",
            "INFO:torchbiggraph:Loading partitioned embeddings from checkpoint\n",
            "INFO:torchbiggraph:( 0 , 0 ): Stats before training: loss:  530.299 , pos_rank:  874.877 , mrr:  0.0388203 , r1:  0.0249291 , r10:  0.0705995 , r50:  0.120392 , auc:  0.551771 , count:  30326\n",
            "INFO:torchbiggraph:( 0 , 0 ): Training stats: loss:  3.31876 , reg:  0 , violators_lhs:  9.43452 , violators_rhs:  4.85761 , count:  576212\n",
            "INFO:torchbiggraph:( 0 , 0 ): Stats after training: loss:  532.207 , pos_rank:  881.692 , mrr:  0.0397489 , r1:  0.0257205 , r10:  0.0707644 , r50:  0.120458 , auc:  0.548902 , count:  30326\n",
            "INFO:torchbiggraph:( 0 , 0 ): bucket 1 / 1 : Trained 576212 edges in 7.89 s ( 0.073 M/sec ); Eval 2*30326 edges in 2.60 s ( 0.023 M/sec ); io: 0.11 s for 361,801,456 bytes ( 3353.44 MB/sec )\n",
            "INFO:torchbiggraph:Swapping partitioned embeddings ( 0 , 0 ) None\n",
            "INFO:torchbiggraph:Saving partitioned embeddings to checkpoint\n",
            "INFO:torchbiggraph:Finished epoch 4 / 30, edge path 1 / 1, edge chunk 1 / 1\n",
            "INFO:torchbiggraph:Writing the metadata\n",
            "INFO:torchbiggraph:Writing the training stats\n",
            "INFO:torchbiggraph:Writing the checkpoint\n",
            "INFO:torchbiggraph:Switching to the new checkpoint version\n",
            "INFO:torchbiggraph:Starting epoch 5 / 30, edge path 1 / 1, edge chunk 1 / 1\n",
            "INFO:torchbiggraph:Edge path: data/train_partitioned\n",
            "INFO:torchbiggraph:still in queue: 0\n",
            "INFO:torchbiggraph:Swapping partitioned embeddings None ( 0 , 0 )\n",
            "INFO:torchbiggraph:Loading partitioned embeddings from checkpoint\n",
            "INFO:torchbiggraph:( 0 , 0 ): Stats before training: loss:  531.606 , pos_rank:  881.927 , mrr:  0.0399301 , r1:  0.0260667 , r10:  0.0707973 , r50:  0.120689 , auc:  0.550106 , count:  30326\n",
            "INFO:torchbiggraph:( 0 , 0 ): Training stats: loss:  3.25743 , reg:  0 , violators_lhs:  9.45876 , violators_rhs:  4.78687 , count:  576212\n",
            "INFO:torchbiggraph:( 0 , 0 ): Stats after training: loss:  533.835 , pos_rank:  883.569 , mrr:  0.039646 , r1:  0.025671 , r10:  0.0713414 , r50:  0.120787 , auc:  0.546181 , count:  30326\n",
            "INFO:torchbiggraph:( 0 , 0 ): bucket 1 / 1 : Trained 576212 edges in 7.61 s ( 0.076 M/sec ); Eval 2*30326 edges in 2.11 s ( 0.029 M/sec ); io: 0.12 s for 361,801,456 bytes ( 3125.27 MB/sec )\n",
            "INFO:torchbiggraph:Swapping partitioned embeddings ( 0 , 0 ) None\n",
            "INFO:torchbiggraph:Saving partitioned embeddings to checkpoint\n",
            "INFO:torchbiggraph:Finished epoch 5 / 30, edge path 1 / 1, edge chunk 1 / 1\n",
            "INFO:torchbiggraph:Writing the metadata\n",
            "INFO:torchbiggraph:Writing the training stats\n",
            "INFO:torchbiggraph:Writing the checkpoint\n",
            "INFO:torchbiggraph:Switching to the new checkpoint version\n",
            "INFO:torchbiggraph:Starting epoch 6 / 30, edge path 1 / 1, edge chunk 1 / 1\n",
            "INFO:torchbiggraph:Edge path: data/train_partitioned\n",
            "INFO:torchbiggraph:still in queue: 0\n",
            "INFO:torchbiggraph:Swapping partitioned embeddings None ( 0 , 0 )\n",
            "INFO:torchbiggraph:Loading partitioned embeddings from checkpoint\n",
            "INFO:torchbiggraph:( 0 , 0 ): Stats before training: loss:  533.046 , pos_rank:  883.349 , mrr:  0.0396697 , r1:  0.0257535 , r10:  0.0711106 , r50:  0.120573 , auc:  0.548028 , count:  30326\n",
            "INFO:torchbiggraph:( 0 , 0 ): Training stats: loss:  3.21493 , reg:  0 , violators_lhs:  9.44262 , violators_rhs:  4.70424 , count:  576212\n",
            "INFO:torchbiggraph:( 0 , 0 ): Stats after training: loss:  534.021 , pos_rank:  884.764 , mrr:  0.0414729 , r1:  0.0277155 , r10:  0.0728088 , r50:  0.122008 , auc:  0.550749 , count:  30326\n",
            "INFO:torchbiggraph:( 0 , 0 ): bucket 1 / 1 : Trained 576212 edges in 7.69 s ( 0.075 M/sec ); Eval 2*30326 edges in 2.11 s ( 0.029 M/sec ); io: 0.12 s for 361,801,456 bytes ( 3007.14 MB/sec )\n",
            "INFO:torchbiggraph:Swapping partitioned embeddings ( 0 , 0 ) None\n",
            "INFO:torchbiggraph:Saving partitioned embeddings to checkpoint\n",
            "INFO:torchbiggraph:Finished epoch 6 / 30, edge path 1 / 1, edge chunk 1 / 1\n",
            "INFO:torchbiggraph:Writing the metadata\n",
            "INFO:torchbiggraph:Writing the training stats\n",
            "INFO:torchbiggraph:Writing the checkpoint\n",
            "INFO:torchbiggraph:Switching to the new checkpoint version\n",
            "INFO:torchbiggraph:Starting epoch 7 / 30, edge path 1 / 1, edge chunk 1 / 1\n",
            "INFO:torchbiggraph:Edge path: data/train_partitioned\n",
            "INFO:torchbiggraph:still in queue: 0\n",
            "INFO:torchbiggraph:Swapping partitioned embeddings None ( 0 , 0 )\n",
            "INFO:torchbiggraph:Loading partitioned embeddings from checkpoint\n",
            "INFO:torchbiggraph:( 0 , 0 ): Stats before training: loss:  534.457 , pos_rank:  884.415 , mrr:  0.0413853 , r1:  0.0273363 , r10:  0.073221 , r50:  0.121958 , auc:  0.547484 , count:  30326\n",
            "INFO:torchbiggraph:( 0 , 0 ): Training stats: loss:  3.18623 , reg:  0 , violators_lhs:  9.44309 , violators_rhs:  4.66462 , count:  576212\n",
            "INFO:torchbiggraph:( 0 , 0 ): Stats after training: loss:  535.813 , pos_rank:  885.607 , mrr:  0.0401761 , r1:  0.02638 , r10:  0.0718031 , r50:  0.120886 , auc:  0.549017 , count:  30326\n",
            "INFO:torchbiggraph:( 0 , 0 ): bucket 1 / 1 : Trained 576212 edges in 7.60 s ( 0.076 M/sec ); Eval 2*30326 edges in 2.13 s ( 0.028 M/sec ); io: 0.11 s for 361,801,456 bytes ( 3221.08 MB/sec )\n",
            "INFO:torchbiggraph:Swapping partitioned embeddings ( 0 , 0 ) None\n",
            "INFO:torchbiggraph:Saving partitioned embeddings to checkpoint\n",
            "INFO:torchbiggraph:Finished epoch 7 / 30, edge path 1 / 1, edge chunk 1 / 1\n",
            "INFO:torchbiggraph:Writing the metadata\n",
            "INFO:torchbiggraph:Writing the training stats\n",
            "INFO:torchbiggraph:Writing the checkpoint\n",
            "INFO:torchbiggraph:Switching to the new checkpoint version\n",
            "INFO:torchbiggraph:Starting epoch 8 / 30, edge path 1 / 1, edge chunk 1 / 1\n",
            "INFO:torchbiggraph:Edge path: data/train_partitioned\n",
            "INFO:torchbiggraph:still in queue: 0\n",
            "INFO:torchbiggraph:Swapping partitioned embeddings None ( 0 , 0 )\n",
            "INFO:torchbiggraph:Loading partitioned embeddings from checkpoint\n",
            "INFO:torchbiggraph:( 0 , 0 ): Stats before training: loss:  536.249 , pos_rank:  886.131 , mrr:  0.0400731 , r1:  0.0262316 , r10:  0.0714403 , r50:  0.12087 , auc:  0.549479 , count:  30326\n",
            "INFO:torchbiggraph:( 0 , 0 ): Training stats: loss:  3.16617 , reg:  0 , violators_lhs:  9.43498 , violators_rhs:  4.64009 , count:  576212\n",
            "INFO:torchbiggraph:( 0 , 0 ): Stats after training: loss:  536.586 , pos_rank:  886.853 , mrr:  0.0408185 , r1:  0.0271219 , r10:  0.0724955 , r50:  0.120804 , auc:  0.545258 , count:  30326\n",
            "INFO:torchbiggraph:( 0 , 0 ): bucket 1 / 1 : Trained 576212 edges in 7.78 s ( 0.074 M/sec ); Eval 2*30326 edges in 2.11 s ( 0.029 M/sec ); io: 0.11 s for 361,801,456 bytes ( 3164.48 MB/sec )\n",
            "INFO:torchbiggraph:Swapping partitioned embeddings ( 0 , 0 ) None\n",
            "INFO:torchbiggraph:Saving partitioned embeddings to checkpoint\n",
            "INFO:torchbiggraph:Finished epoch 8 / 30, edge path 1 / 1, edge chunk 1 / 1\n",
            "INFO:torchbiggraph:Writing the metadata\n",
            "INFO:torchbiggraph:Writing the training stats\n",
            "INFO:torchbiggraph:Writing the checkpoint\n",
            "INFO:torchbiggraph:Switching to the new checkpoint version\n",
            "INFO:torchbiggraph:Starting epoch 9 / 30, edge path 1 / 1, edge chunk 1 / 1\n",
            "INFO:torchbiggraph:Edge path: data/train_partitioned\n",
            "INFO:torchbiggraph:still in queue: 0\n",
            "INFO:torchbiggraph:Swapping partitioned embeddings None ( 0 , 0 )\n",
            "INFO:torchbiggraph:Loading partitioned embeddings from checkpoint\n",
            "INFO:torchbiggraph:( 0 , 0 ): Stats before training: loss:  536.758 , pos_rank:  886.631 , mrr:  0.0408277 , r1:  0.0271384 , r10:  0.0728748 , r50:  0.120804 , auc:  0.545786 , count:  30326\n",
            "INFO:torchbiggraph:( 0 , 0 ): Training stats: loss:  3.14867 , reg:  0 , violators_lhs:  9.44159 , violators_rhs:  4.59019 , count:  576212\n",
            "INFO:torchbiggraph:( 0 , 0 ): Stats after training: loss:  536.774 , pos_rank:  886.968 , mrr:  0.0410942 , r1:  0.0274187 , r10:  0.072512 , r50:  0.121216 , auc:  0.549809 , count:  30326\n",
            "INFO:torchbiggraph:( 0 , 0 ): bucket 1 / 1 : Trained 576212 edges in 9.48 s ( 0.061 M/sec ); Eval 2*30326 edges in 2.11 s ( 0.029 M/sec ); io: 0.11 s for 361,801,456 bytes ( 3181.62 MB/sec )\n",
            "INFO:torchbiggraph:Swapping partitioned embeddings ( 0 , 0 ) None\n",
            "INFO:torchbiggraph:Saving partitioned embeddings to checkpoint\n",
            "INFO:torchbiggraph:Finished epoch 9 / 30, edge path 1 / 1, edge chunk 1 / 1\n",
            "INFO:torchbiggraph:Writing the metadata\n",
            "INFO:torchbiggraph:Writing the training stats\n",
            "INFO:torchbiggraph:Writing the checkpoint\n",
            "INFO:torchbiggraph:Switching to the new checkpoint version\n",
            "INFO:torchbiggraph:Starting epoch 10 / 30, edge path 1 / 1, edge chunk 1 / 1\n",
            "INFO:torchbiggraph:Edge path: data/train_partitioned\n",
            "INFO:torchbiggraph:still in queue: 0\n",
            "INFO:torchbiggraph:Swapping partitioned embeddings None ( 0 , 0 )\n",
            "INFO:torchbiggraph:Loading partitioned embeddings from checkpoint\n",
            "INFO:torchbiggraph:( 0 , 0 ): Stats before training: loss:  536.801 , pos_rank:  886.53 , mrr:  0.0406456 , r1:  0.0263141 , r10:  0.0730891 , r50:  0.121348 , auc:  0.546907 , count:  30326\n",
            "INFO:torchbiggraph:( 0 , 0 ): Training stats: loss:  3.13102 , reg:  0 , violators_lhs:  9.42163 , violators_rhs:  4.5519 , count:  576212\n",
            "INFO:torchbiggraph:( 0 , 0 ): Stats after training: loss:  537.248 , pos_rank:  887.211 , mrr:  0.0402602 , r1:  0.0264624 , r10:  0.0720834 , r50:  0.121348 , auc:  0.547022 , count:  30326\n",
            "INFO:torchbiggraph:( 0 , 0 ): bucket 1 / 1 : Trained 576212 edges in 7.67 s ( 0.075 M/sec ); Eval 2*30326 edges in 2.13 s ( 0.028 M/sec ); io: 0.11 s for 361,801,456 bytes ( 3219.99 MB/sec )\n",
            "INFO:torchbiggraph:Swapping partitioned embeddings ( 0 , 0 ) None\n",
            "INFO:torchbiggraph:Saving partitioned embeddings to checkpoint\n",
            "INFO:torchbiggraph:Finished epoch 10 / 30, edge path 1 / 1, edge chunk 1 / 1\n",
            "INFO:torchbiggraph:Writing the metadata\n",
            "INFO:torchbiggraph:Writing the training stats\n",
            "INFO:torchbiggraph:Writing the checkpoint\n",
            "INFO:torchbiggraph:Switching to the new checkpoint version\n",
            "INFO:torchbiggraph:Starting epoch 11 / 30, edge path 1 / 1, edge chunk 1 / 1\n",
            "INFO:torchbiggraph:Edge path: data/train_partitioned\n",
            "INFO:torchbiggraph:still in queue: 0\n",
            "INFO:torchbiggraph:Swapping partitioned embeddings None ( 0 , 0 )\n",
            "INFO:torchbiggraph:Loading partitioned embeddings from checkpoint\n",
            "INFO:torchbiggraph:( 0 , 0 ): Stats before training: loss:  537.346 , pos_rank:  886.759 , mrr:  0.0403152 , r1:  0.0265284 , r10:  0.071836 , r50:  0.121117 , auc:  0.547022 , count:  30326\n",
            "INFO:torchbiggraph:( 0 , 0 ): Training stats: loss:  3.11765 , reg:  0 , violators_lhs:  9.41328 , violators_rhs:  4.53122 , count:  576212\n",
            "INFO:torchbiggraph:( 0 , 0 ): Stats after training: loss:  537.927 , pos_rank:  886.661 , mrr:  0.0408299 , r1:  0.0264954 , r10:  0.0740289 , r50:  0.121793 , auc:  0.550913 , count:  30326\n",
            "INFO:torchbiggraph:( 0 , 0 ): bucket 1 / 1 : Trained 576212 edges in 7.67 s ( 0.075 M/sec ); Eval 2*30326 edges in 2.11 s ( 0.029 M/sec ); io: 0.11 s for 361,801,456 bytes ( 3172.43 MB/sec )\n",
            "INFO:torchbiggraph:Swapping partitioned embeddings ( 0 , 0 ) None\n",
            "INFO:torchbiggraph:Saving partitioned embeddings to checkpoint\n",
            "INFO:torchbiggraph:Finished epoch 11 / 30, edge path 1 / 1, edge chunk 1 / 1\n",
            "INFO:torchbiggraph:Writing the metadata\n",
            "INFO:torchbiggraph:Writing the training stats\n",
            "INFO:torchbiggraph:Writing the checkpoint\n",
            "INFO:torchbiggraph:Switching to the new checkpoint version\n",
            "INFO:torchbiggraph:Starting epoch 12 / 30, edge path 1 / 1, edge chunk 1 / 1\n",
            "INFO:torchbiggraph:Edge path: data/train_partitioned\n",
            "INFO:torchbiggraph:still in queue: 0\n",
            "INFO:torchbiggraph:Swapping partitioned embeddings None ( 0 , 0 )\n",
            "INFO:torchbiggraph:Loading partitioned embeddings from checkpoint\n",
            "INFO:torchbiggraph:( 0 , 0 ): Stats before training: loss:  538.933 , pos_rank:  887.091 , mrr:  0.0411753 , r1:  0.0272538 , r10:  0.0735178 , r50:  0.121496 , auc:  0.546313 , count:  30326\n",
            "INFO:torchbiggraph:( 0 , 0 ): Training stats: loss:  3.10783 , reg:  0 , violators_lhs:  9.41361 , violators_rhs:  4.5182 , count:  576212\n",
            "INFO:torchbiggraph:( 0 , 0 ): Stats after training: loss:  538.276 , pos_rank:  886.698 , mrr:  0.04169 , r1:  0.0280288 , r10:  0.0731386 , r50:  0.121068 , auc:  0.547336 , count:  30326\n",
            "INFO:torchbiggraph:( 0 , 0 ): bucket 1 / 1 : Trained 576212 edges in 7.80 s ( 0.074 M/sec ); Eval 2*30326 edges in 2.12 s ( 0.029 M/sec ); io: 0.11 s for 361,801,456 bytes ( 3181.95 MB/sec )\n",
            "INFO:torchbiggraph:Swapping partitioned embeddings ( 0 , 0 ) None\n",
            "INFO:torchbiggraph:Saving partitioned embeddings to checkpoint\n",
            "INFO:torchbiggraph:Finished epoch 12 / 30, edge path 1 / 1, edge chunk 1 / 1\n",
            "INFO:torchbiggraph:Writing the metadata\n",
            "INFO:torchbiggraph:Writing the training stats\n",
            "INFO:torchbiggraph:Writing the checkpoint\n",
            "INFO:torchbiggraph:Switching to the new checkpoint version\n",
            "INFO:torchbiggraph:Starting epoch 13 / 30, edge path 1 / 1, edge chunk 1 / 1\n",
            "INFO:torchbiggraph:Edge path: data/train_partitioned\n",
            "INFO:torchbiggraph:still in queue: 0\n",
            "INFO:torchbiggraph:Swapping partitioned embeddings None ( 0 , 0 )\n",
            "INFO:torchbiggraph:Loading partitioned embeddings from checkpoint\n",
            "INFO:torchbiggraph:( 0 , 0 ): Stats before training: loss:  537.842 , pos_rank:  886.931 , mrr:  0.0415085 , r1:  0.0277979 , r10:  0.0727099 , r50:  0.121266 , auc:  0.54689 , count:  30326\n",
            "INFO:torchbiggraph:( 0 , 0 ): Training stats: loss:  3.09113 , reg:  0 , violators_lhs:  9.37933 , violators_rhs:  4.4778 , count:  576212\n",
            "INFO:torchbiggraph:( 0 , 0 ): Stats after training: loss:  538.383 , pos_rank:  886.871 , mrr:  0.040974 , r1:  0.0273528 , r10:  0.072545 , r50:  0.121299 , auc:  0.545324 , count:  30326\n",
            "INFO:torchbiggraph:( 0 , 0 ): bucket 1 / 1 : Trained 576212 edges in 7.63 s ( 0.076 M/sec ); Eval 2*30326 edges in 2.15 s ( 0.028 M/sec ); io: 0.11 s for 361,801,456 bytes ( 3153.77 MB/sec )\n",
            "INFO:torchbiggraph:Swapping partitioned embeddings ( 0 , 0 ) None\n",
            "INFO:torchbiggraph:Saving partitioned embeddings to checkpoint\n",
            "INFO:torchbiggraph:Finished epoch 13 / 30, edge path 1 / 1, edge chunk 1 / 1\n",
            "INFO:torchbiggraph:Writing the metadata\n",
            "INFO:torchbiggraph:Writing the training stats\n",
            "INFO:torchbiggraph:Writing the checkpoint\n",
            "INFO:torchbiggraph:Switching to the new checkpoint version\n",
            "INFO:torchbiggraph:Starting epoch 14 / 30, edge path 1 / 1, edge chunk 1 / 1\n",
            "INFO:torchbiggraph:Edge path: data/train_partitioned\n",
            "INFO:torchbiggraph:still in queue: 0\n",
            "INFO:torchbiggraph:Swapping partitioned embeddings None ( 0 , 0 )\n",
            "INFO:torchbiggraph:Loading partitioned embeddings from checkpoint\n",
            "INFO:torchbiggraph:( 0 , 0 ): Stats before training: loss:  538.185 , pos_rank:  886.345 , mrr:  0.0409803 , r1:  0.0272374 , r10:  0.0722812 , r50:  0.1212 , auc:  0.544895 , count:  30326\n",
            "INFO:torchbiggraph:( 0 , 0 ): Training stats: loss:  3.08575 , reg:  0 , violators_lhs:  9.39035 , violators_rhs:  4.47519 , count:  576212\n",
            "INFO:torchbiggraph:( 0 , 0 ): Stats after training: loss:  539.538 , pos_rank:  887.492 , mrr:  0.0403931 , r1:  0.0265284 , r10:  0.0729242 , r50:  0.12115 , auc:  0.54478 , count:  30326\n",
            "INFO:torchbiggraph:( 0 , 0 ): bucket 1 / 1 : Trained 576212 edges in 7.68 s ( 0.075 M/sec ); Eval 2*30326 edges in 2.10 s ( 0.029 M/sec ); io: 0.11 s for 361,801,456 bytes ( 3245.94 MB/sec )\n",
            "INFO:torchbiggraph:Swapping partitioned embeddings ( 0 , 0 ) None\n",
            "INFO:torchbiggraph:Saving partitioned embeddings to checkpoint\n",
            "INFO:torchbiggraph:Finished epoch 14 / 30, edge path 1 / 1, edge chunk 1 / 1\n",
            "INFO:torchbiggraph:Writing the metadata\n",
            "INFO:torchbiggraph:Writing the training stats\n",
            "INFO:torchbiggraph:Writing the checkpoint\n",
            "INFO:torchbiggraph:Switching to the new checkpoint version\n",
            "INFO:torchbiggraph:Starting epoch 15 / 30, edge path 1 / 1, edge chunk 1 / 1\n",
            "INFO:torchbiggraph:Edge path: data/train_partitioned\n",
            "INFO:torchbiggraph:still in queue: 0\n",
            "INFO:torchbiggraph:Swapping partitioned embeddings None ( 0 , 0 )\n",
            "INFO:torchbiggraph:Loading partitioned embeddings from checkpoint\n",
            "INFO:torchbiggraph:( 0 , 0 ): Stats before training: loss:  539.555 , pos_rank:  887.383 , mrr:  0.0406257 , r1:  0.0267592 , r10:  0.0729077 , r50:  0.121249 , auc:  0.545703 , count:  30326\n",
            "INFO:torchbiggraph:( 0 , 0 ): Training stats: loss:  3.08079 , reg:  0 , violators_lhs:  9.40548 , violators_rhs:  4.44832 , count:  576212\n",
            "INFO:torchbiggraph:( 0 , 0 ): Stats after training: loss:  539.125 , pos_rank:  886.673 , mrr:  0.0418663 , r1:  0.0281771 , r10:  0.0738475 , r50:  0.121744 , auc:  0.54844 , count:  30326\n",
            "INFO:torchbiggraph:( 0 , 0 ): bucket 1 / 1 : Trained 576212 edges in 7.54 s ( 0.076 M/sec ); Eval 2*30326 edges in 2.13 s ( 0.029 M/sec ); io: 0.12 s for 361,801,456 bytes ( 2920.63 MB/sec )\n",
            "INFO:torchbiggraph:Swapping partitioned embeddings ( 0 , 0 ) None\n",
            "INFO:torchbiggraph:Saving partitioned embeddings to checkpoint\n",
            "INFO:torchbiggraph:Finished epoch 15 / 30, edge path 1 / 1, edge chunk 1 / 1\n",
            "INFO:torchbiggraph:Writing the metadata\n",
            "INFO:torchbiggraph:Writing the training stats\n",
            "INFO:torchbiggraph:Writing the checkpoint\n",
            "INFO:torchbiggraph:Switching to the new checkpoint version\n",
            "INFO:torchbiggraph:Starting epoch 16 / 30, edge path 1 / 1, edge chunk 1 / 1\n",
            "INFO:torchbiggraph:Edge path: data/train_partitioned\n",
            "INFO:torchbiggraph:still in queue: 0\n",
            "INFO:torchbiggraph:Swapping partitioned embeddings None ( 0 , 0 )\n",
            "INFO:torchbiggraph:Loading partitioned embeddings from checkpoint\n",
            "INFO:torchbiggraph:( 0 , 0 ): Stats before training: loss:  538.913 , pos_rank:  886.958 , mrr:  0.0415433 , r1:  0.0278639 , r10:  0.0733694 , r50:  0.121612 , auc:  0.545374 , count:  30326\n",
            "INFO:torchbiggraph:( 0 , 0 ): Training stats: loss:  3.07187 , reg:  0 , violators_lhs:  9.39459 , violators_rhs:  4.43601 , count:  576212\n",
            "INFO:torchbiggraph:( 0 , 0 ): Stats after training: loss:  539.205 , pos_rank:  886.793 , mrr:  0.0407839 , r1:  0.0270395 , r10:  0.071935 , r50:  0.121975 , auc:  0.543362 , count:  30326\n",
            "INFO:torchbiggraph:( 0 , 0 ): bucket 1 / 1 : Trained 576212 edges in 7.50 s ( 0.077 M/sec ); Eval 2*30326 edges in 2.14 s ( 0.028 M/sec ); io: 0.12 s for 361,801,456 bytes ( 3004.03 MB/sec )\n",
            "INFO:torchbiggraph:Swapping partitioned embeddings ( 0 , 0 ) None\n",
            "INFO:torchbiggraph:Saving partitioned embeddings to checkpoint\n",
            "INFO:torchbiggraph:Finished epoch 16 / 30, edge path 1 / 1, edge chunk 1 / 1\n",
            "INFO:torchbiggraph:Writing the metadata\n",
            "INFO:torchbiggraph:Writing the training stats\n",
            "INFO:torchbiggraph:Writing the checkpoint\n",
            "INFO:torchbiggraph:Switching to the new checkpoint version\n",
            "INFO:torchbiggraph:Starting epoch 17 / 30, edge path 1 / 1, edge chunk 1 / 1\n",
            "INFO:torchbiggraph:Edge path: data/train_partitioned\n",
            "INFO:torchbiggraph:still in queue: 0\n",
            "INFO:torchbiggraph:Swapping partitioned embeddings None ( 0 , 0 )\n",
            "INFO:torchbiggraph:Loading partitioned embeddings from checkpoint\n",
            "INFO:torchbiggraph:( 0 , 0 ): Stats before training: loss:  539.093 , pos_rank:  887.043 , mrr:  0.0407465 , r1:  0.027056 , r10:  0.0723472 , r50:  0.122222 , auc:  0.546363 , count:  30326\n",
            "INFO:torchbiggraph:( 0 , 0 ): Training stats: loss:  3.06057 , reg:  0 , violators_lhs:  9.37589 , violators_rhs:  4.41074 , count:  576212\n",
            "INFO:torchbiggraph:( 0 , 0 ): Stats after training: loss:  540.665 , pos_rank:  887.53 , mrr:  0.0408348 , r1:  0.027023 , r10:  0.0723472 , r50:  0.121051 , auc:  0.547517 , count:  30326\n",
            "INFO:torchbiggraph:( 0 , 0 ): bucket 1 / 1 : Trained 576212 edges in 7.59 s ( 0.076 M/sec ); Eval 2*30326 edges in 2.11 s ( 0.029 M/sec ); io: 0.11 s for 361,801,456 bytes ( 3148.16 MB/sec )\n",
            "INFO:torchbiggraph:Swapping partitioned embeddings ( 0 , 0 ) None\n",
            "INFO:torchbiggraph:Saving partitioned embeddings to checkpoint\n",
            "INFO:torchbiggraph:Finished epoch 17 / 30, edge path 1 / 1, edge chunk 1 / 1\n",
            "INFO:torchbiggraph:Writing the metadata\n",
            "INFO:torchbiggraph:Writing the training stats\n",
            "INFO:torchbiggraph:Writing the checkpoint\n",
            "INFO:torchbiggraph:Switching to the new checkpoint version\n",
            "INFO:torchbiggraph:Starting epoch 18 / 30, edge path 1 / 1, edge chunk 1 / 1\n",
            "INFO:torchbiggraph:Edge path: data/train_partitioned\n",
            "INFO:torchbiggraph:still in queue: 0\n",
            "INFO:torchbiggraph:Swapping partitioned embeddings None ( 0 , 0 )\n",
            "INFO:torchbiggraph:Loading partitioned embeddings from checkpoint\n",
            "INFO:torchbiggraph:( 0 , 0 ): Stats before training: loss:  539.896 , pos_rank:  887.76 , mrr:  0.0411737 , r1:  0.0275506 , r10:  0.0727593 , r50:  0.121084 , auc:  0.546363 , count:  30326\n",
            "INFO:torchbiggraph:( 0 , 0 ): Training stats: loss:  3.0561 , reg:  0 , violators_lhs:  9.37186 , violators_rhs:  4.39648 , count:  576212\n",
            "INFO:torchbiggraph:( 0 , 0 ): Stats after training: loss:  540.479 , pos_rank:  888.089 , mrr:  0.0413188 , r1:  0.0273857 , r10:  0.0732869 , r50:  0.121892 , auc:  0.546149 , count:  30326\n",
            "INFO:torchbiggraph:( 0 , 0 ): bucket 1 / 1 : Trained 576212 edges in 7.67 s ( 0.075 M/sec ); Eval 2*30326 edges in 2.11 s ( 0.029 M/sec ); io: 0.11 s for 361,801,456 bytes ( 3170.32 MB/sec )\n",
            "INFO:torchbiggraph:Swapping partitioned embeddings ( 0 , 0 ) None\n",
            "INFO:torchbiggraph:Saving partitioned embeddings to checkpoint\n",
            "INFO:torchbiggraph:Finished epoch 18 / 30, edge path 1 / 1, edge chunk 1 / 1\n",
            "INFO:torchbiggraph:Writing the metadata\n",
            "INFO:torchbiggraph:Writing the training stats\n",
            "INFO:torchbiggraph:Writing the checkpoint\n",
            "INFO:torchbiggraph:Switching to the new checkpoint version\n",
            "INFO:torchbiggraph:Starting epoch 19 / 30, edge path 1 / 1, edge chunk 1 / 1\n",
            "INFO:torchbiggraph:Edge path: data/train_partitioned\n",
            "INFO:torchbiggraph:still in queue: 0\n",
            "INFO:torchbiggraph:Swapping partitioned embeddings None ( 0 , 0 )\n",
            "INFO:torchbiggraph:Loading partitioned embeddings from checkpoint\n",
            "INFO:torchbiggraph:( 0 , 0 ): Stats before training: loss:  539.987 , pos_rank:  888.37 , mrr:  0.0414504 , r1:  0.0278144 , r10:  0.0726439 , r50:  0.121843 , auc:  0.544104 , count:  30326\n",
            "INFO:torchbiggraph:( 0 , 0 ): Training stats: loss:  3.05044 , reg:  0 , violators_lhs:  9.36535 , violators_rhs:  4.39153 , count:  576212\n",
            "INFO:torchbiggraph:( 0 , 0 ): Stats after training: loss:  539.99 , pos_rank:  887.315 , mrr:  0.0418332 , r1:  0.0279958 , r10:  0.0729242 , r50:  0.121859 , auc:  0.547154 , count:  30326\n",
            "INFO:torchbiggraph:( 0 , 0 ): bucket 1 / 1 : Trained 576212 edges in 9.02 s ( 0.064 M/sec ); Eval 2*30326 edges in 2.38 s ( 0.026 M/sec ); io: 0.11 s for 361,801,456 bytes ( 3332.12 MB/sec )\n",
            "INFO:torchbiggraph:Swapping partitioned embeddings ( 0 , 0 ) None\n",
            "INFO:torchbiggraph:Saving partitioned embeddings to checkpoint\n",
            "INFO:torchbiggraph:Finished epoch 19 / 30, edge path 1 / 1, edge chunk 1 / 1\n",
            "INFO:torchbiggraph:Writing the metadata\n",
            "INFO:torchbiggraph:Writing the training stats\n",
            "INFO:torchbiggraph:Writing the checkpoint\n",
            "INFO:torchbiggraph:Switching to the new checkpoint version\n",
            "INFO:torchbiggraph:Starting epoch 20 / 30, edge path 1 / 1, edge chunk 1 / 1\n",
            "INFO:torchbiggraph:Edge path: data/train_partitioned\n",
            "INFO:torchbiggraph:still in queue: 0\n",
            "INFO:torchbiggraph:Swapping partitioned embeddings None ( 0 , 0 )\n",
            "INFO:torchbiggraph:Loading partitioned embeddings from checkpoint\n",
            "INFO:torchbiggraph:( 0 , 0 ): Stats before training: loss:  539.702 , pos_rank:  887.143 , mrr:  0.0418432 , r1:  0.0281936 , r10:  0.0734188 , r50:  0.121876 , auc:  0.545637 , count:  30326\n",
            "INFO:torchbiggraph:( 0 , 0 ): Training stats: loss:  3.04103 , reg:  0 , violators_lhs:  9.35209 , violators_rhs:  4.36577 , count:  576212\n",
            "INFO:torchbiggraph:( 0 , 0 ): Stats after training: loss:  540.695 , pos_rank:  888.919 , mrr:  0.04051 , r1:  0.0269076 , r10:  0.0720504 , r50:  0.120721 , auc:  0.548226 , count:  30326\n",
            "INFO:torchbiggraph:( 0 , 0 ): bucket 1 / 1 : Trained 576212 edges in 7.60 s ( 0.076 M/sec ); Eval 2*30326 edges in 2.11 s ( 0.029 M/sec ); io: 0.12 s for 361,801,456 bytes ( 3134.52 MB/sec )\n",
            "INFO:torchbiggraph:Swapping partitioned embeddings ( 0 , 0 ) None\n",
            "INFO:torchbiggraph:Saving partitioned embeddings to checkpoint\n",
            "INFO:torchbiggraph:Finished epoch 20 / 30, edge path 1 / 1, edge chunk 1 / 1\n",
            "INFO:torchbiggraph:Writing the metadata\n",
            "INFO:torchbiggraph:Writing the training stats\n",
            "INFO:torchbiggraph:Writing the checkpoint\n",
            "INFO:torchbiggraph:Switching to the new checkpoint version\n",
            "INFO:torchbiggraph:Starting epoch 21 / 30, edge path 1 / 1, edge chunk 1 / 1\n",
            "INFO:torchbiggraph:Edge path: data/train_partitioned\n",
            "INFO:torchbiggraph:still in queue: 0\n",
            "INFO:torchbiggraph:Swapping partitioned embeddings None ( 0 , 0 )\n",
            "INFO:torchbiggraph:Loading partitioned embeddings from checkpoint\n",
            "INFO:torchbiggraph:( 0 , 0 ): Stats before training: loss:  540.046 , pos_rank:  888.116 , mrr:  0.0404427 , r1:  0.0266273 , r10:  0.0724791 , r50:  0.120969 , auc:  0.54943 , count:  30326\n",
            "INFO:torchbiggraph:( 0 , 0 ): Training stats: loss:  3.03766 , reg:  0 , violators_lhs:  9.35146 , violators_rhs:  4.35582 , count:  576212\n",
            "INFO:torchbiggraph:( 0 , 0 ): Stats after training: loss:  541.152 , pos_rank:  888.64 , mrr:  0.0407887 , r1:  0.0269406 , r10:  0.0729242 , r50:  0.121612 , auc:  0.55027 , count:  30326\n",
            "INFO:torchbiggraph:( 0 , 0 ): bucket 1 / 1 : Trained 576212 edges in 7.73 s ( 0.075 M/sec ); Eval 2*30326 edges in 2.12 s ( 0.029 M/sec ); io: 0.12 s for 361,801,456 bytes ( 3038.79 MB/sec )\n",
            "INFO:torchbiggraph:Swapping partitioned embeddings ( 0 , 0 ) None\n",
            "INFO:torchbiggraph:Saving partitioned embeddings to checkpoint\n",
            "INFO:torchbiggraph:Finished epoch 21 / 30, edge path 1 / 1, edge chunk 1 / 1\n",
            "INFO:torchbiggraph:Writing the metadata\n",
            "INFO:torchbiggraph:Writing the training stats\n",
            "INFO:torchbiggraph:Writing the checkpoint\n",
            "INFO:torchbiggraph:Switching to the new checkpoint version\n",
            "INFO:torchbiggraph:Starting epoch 22 / 30, edge path 1 / 1, edge chunk 1 / 1\n",
            "INFO:torchbiggraph:Edge path: data/train_partitioned\n",
            "INFO:torchbiggraph:still in queue: 0\n",
            "INFO:torchbiggraph:Swapping partitioned embeddings None ( 0 , 0 )\n",
            "INFO:torchbiggraph:Loading partitioned embeddings from checkpoint\n",
            "INFO:torchbiggraph:( 0 , 0 ): Stats before training: loss:  540.298 , pos_rank:  887.954 , mrr:  0.0408837 , r1:  0.0269571 , r10:  0.0737981 , r50:  0.121991 , auc:  0.548226 , count:  30326\n",
            "INFO:torchbiggraph:( 0 , 0 ): Training stats: loss:  3.03334 , reg:  0 , violators_lhs:  9.35221 , violators_rhs:  4.35699 , count:  576212\n",
            "INFO:torchbiggraph:( 0 , 0 ): Stats after training: loss:  540.066 , pos_rank:  888.274 , mrr:  0.0415774 , r1:  0.0276166 , r10:  0.0736662 , r50:  0.12242 , auc:  0.550419 , count:  30326\n",
            "INFO:torchbiggraph:( 0 , 0 ): bucket 1 / 1 : Trained 576212 edges in 7.65 s ( 0.075 M/sec ); Eval 2*30326 edges in 2.14 s ( 0.028 M/sec ); io: 0.11 s for 361,801,456 bytes ( 3206.78 MB/sec )\n",
            "INFO:torchbiggraph:Swapping partitioned embeddings ( 0 , 0 ) None\n",
            "INFO:torchbiggraph:Saving partitioned embeddings to checkpoint\n",
            "INFO:torchbiggraph:Finished epoch 22 / 30, edge path 1 / 1, edge chunk 1 / 1\n",
            "INFO:torchbiggraph:Writing the metadata\n",
            "INFO:torchbiggraph:Writing the training stats\n",
            "INFO:torchbiggraph:Writing the checkpoint\n",
            "INFO:torchbiggraph:Switching to the new checkpoint version\n",
            "INFO:torchbiggraph:Starting epoch 23 / 30, edge path 1 / 1, edge chunk 1 / 1\n",
            "INFO:torchbiggraph:Edge path: data/train_partitioned\n",
            "INFO:torchbiggraph:still in queue: 0\n",
            "INFO:torchbiggraph:Swapping partitioned embeddings None ( 0 , 0 )\n",
            "INFO:torchbiggraph:Loading partitioned embeddings from checkpoint\n",
            "INFO:torchbiggraph:( 0 , 0 ): Stats before training: loss:  540.435 , pos_rank:  888.107 , mrr:  0.0411184 , r1:  0.0269076 , r10:  0.0736002 , r50:  0.122288 , auc:  0.546907 , count:  30326\n",
            "INFO:torchbiggraph:( 0 , 0 ): Training stats: loss:  3.02853 , reg:  0 , violators_lhs:  9.34658 , violators_rhs:  4.34401 , count:  576212\n",
            "INFO:torchbiggraph:( 0 , 0 ): Stats after training: loss:  540.929 , pos_rank:  889.281 , mrr:  0.0406295 , r1:  0.0267262 , r10:  0.072512 , r50:  0.121909 , auc:  0.543461 , count:  30326\n",
            "INFO:torchbiggraph:( 0 , 0 ): bucket 1 / 1 : Trained 576212 edges in 7.54 s ( 0.076 M/sec ); Eval 2*30326 edges in 2.10 s ( 0.029 M/sec ); io: 0.12 s for 361,801,456 bytes ( 3131.68 MB/sec )\n",
            "INFO:torchbiggraph:Swapping partitioned embeddings ( 0 , 0 ) None\n",
            "INFO:torchbiggraph:Saving partitioned embeddings to checkpoint\n",
            "INFO:torchbiggraph:Finished epoch 23 / 30, edge path 1 / 1, edge chunk 1 / 1\n",
            "INFO:torchbiggraph:Writing the metadata\n",
            "INFO:torchbiggraph:Writing the training stats\n",
            "INFO:torchbiggraph:Writing the checkpoint\n",
            "INFO:torchbiggraph:Switching to the new checkpoint version\n",
            "INFO:torchbiggraph:Starting epoch 24 / 30, edge path 1 / 1, edge chunk 1 / 1\n",
            "INFO:torchbiggraph:Edge path: data/train_partitioned\n",
            "INFO:torchbiggraph:still in queue: 0\n",
            "INFO:torchbiggraph:Swapping partitioned embeddings None ( 0 , 0 )\n",
            "INFO:torchbiggraph:Loading partitioned embeddings from checkpoint\n",
            "INFO:torchbiggraph:( 0 , 0 ): Stats before training: loss:  541.386 , pos_rank:  888.653 , mrr:  0.040196 , r1:  0.0258194 , r10:  0.0727593 , r50:  0.121991 , auc:  0.545802 , count:  30326\n",
            "INFO:torchbiggraph:( 0 , 0 ): Training stats: loss:  3.02053 , reg:  0 , violators_lhs:  9.32554 , violators_rhs:  4.33715 , count:  576212\n",
            "INFO:torchbiggraph:( 0 , 0 ): Stats after training: loss:  540.598 , pos_rank:  888.543 , mrr:  0.0406759 , r1:  0.0266933 , r10:  0.072611 , r50:  0.121892 , auc:  0.545918 , count:  30326\n",
            "INFO:torchbiggraph:( 0 , 0 ): bucket 1 / 1 : Trained 576212 edges in 7.77 s ( 0.074 M/sec ); Eval 2*30326 edges in 2.16 s ( 0.028 M/sec ); io: 0.11 s for 361,801,456 bytes ( 3161.47 MB/sec )\n",
            "INFO:torchbiggraph:Swapping partitioned embeddings ( 0 , 0 ) None\n",
            "INFO:torchbiggraph:Saving partitioned embeddings to checkpoint\n",
            "INFO:torchbiggraph:Finished epoch 24 / 30, edge path 1 / 1, edge chunk 1 / 1\n",
            "INFO:torchbiggraph:Writing the metadata\n",
            "INFO:torchbiggraph:Writing the training stats\n",
            "INFO:torchbiggraph:Writing the checkpoint\n",
            "INFO:torchbiggraph:Switching to the new checkpoint version\n",
            "INFO:torchbiggraph:Starting epoch 25 / 30, edge path 1 / 1, edge chunk 1 / 1\n",
            "INFO:torchbiggraph:Edge path: data/train_partitioned\n",
            "INFO:torchbiggraph:still in queue: 0\n",
            "INFO:torchbiggraph:Swapping partitioned embeddings None ( 0 , 0 )\n",
            "INFO:torchbiggraph:Loading partitioned embeddings from checkpoint\n",
            "INFO:torchbiggraph:( 0 , 0 ): Stats before training: loss:  540.552 , pos_rank:  888.127 , mrr:  0.040782 , r1:  0.0267427 , r10:  0.0731386 , r50:  0.121925 , auc:  0.545044 , count:  30326\n",
            "INFO:torchbiggraph:( 0 , 0 ): Training stats: loss:  3.02015 , reg:  0 , violators_lhs:  9.33707 , violators_rhs:  4.32241 , count:  576212\n",
            "INFO:torchbiggraph:( 0 , 0 ): Stats after training: loss:  541.037 , pos_rank:  888.556 , mrr:  0.04132 , r1:  0.0275341 , r10:  0.0731386 , r50:  0.121777 , auc:  0.544698 , count:  30326\n",
            "INFO:torchbiggraph:( 0 , 0 ): bucket 1 / 1 : Trained 576212 edges in 7.72 s ( 0.075 M/sec ); Eval 2*30326 edges in 2.29 s ( 0.027 M/sec ); io: 0.12 s for 361,801,456 bytes ( 2985.22 MB/sec )\n",
            "INFO:torchbiggraph:Swapping partitioned embeddings ( 0 , 0 ) None\n",
            "INFO:torchbiggraph:Saving partitioned embeddings to checkpoint\n",
            "INFO:torchbiggraph:Finished epoch 25 / 30, edge path 1 / 1, edge chunk 1 / 1\n",
            "INFO:torchbiggraph:Writing the metadata\n",
            "INFO:torchbiggraph:Writing the training stats\n",
            "INFO:torchbiggraph:Writing the checkpoint\n",
            "INFO:torchbiggraph:Switching to the new checkpoint version\n",
            "INFO:torchbiggraph:Starting epoch 26 / 30, edge path 1 / 1, edge chunk 1 / 1\n",
            "INFO:torchbiggraph:Edge path: data/train_partitioned\n",
            "INFO:torchbiggraph:still in queue: 0\n",
            "INFO:torchbiggraph:Swapping partitioned embeddings None ( 0 , 0 )\n",
            "INFO:torchbiggraph:Loading partitioned embeddings from checkpoint\n",
            "INFO:torchbiggraph:( 0 , 0 ): Stats before training: loss:  540.697 , pos_rank:  887.98 , mrr:  0.0412931 , r1:  0.0275836 , r10:  0.0728418 , r50:  0.121843 , auc:  0.544665 , count:  30326\n",
            "INFO:torchbiggraph:( 0 , 0 ): Training stats: loss:  3.01292 , reg:  0 , violators_lhs:  9.31297 , violators_rhs:  4.31667 , count:  576212\n",
            "INFO:torchbiggraph:( 0 , 0 ): Stats after training: loss:  541.258 , pos_rank:  887.85 , mrr:  0.0413423 , r1:  0.0275341 , r10:  0.0733859 , r50:  0.122205 , auc:  0.544797 , count:  30326\n",
            "INFO:torchbiggraph:( 0 , 0 ): bucket 1 / 1 : Trained 576212 edges in 7.58 s ( 0.076 M/sec ); Eval 2*30326 edges in 2.14 s ( 0.028 M/sec ); io: 0.12 s for 361,801,456 bytes ( 3119.06 MB/sec )\n",
            "INFO:torchbiggraph:Swapping partitioned embeddings ( 0 , 0 ) None\n",
            "INFO:torchbiggraph:Saving partitioned embeddings to checkpoint\n",
            "INFO:torchbiggraph:Finished epoch 26 / 30, edge path 1 / 1, edge chunk 1 / 1\n",
            "INFO:torchbiggraph:Writing the metadata\n",
            "INFO:torchbiggraph:Writing the training stats\n",
            "INFO:torchbiggraph:Writing the checkpoint\n",
            "INFO:torchbiggraph:Switching to the new checkpoint version\n",
            "INFO:torchbiggraph:Starting epoch 27 / 30, edge path 1 / 1, edge chunk 1 / 1\n",
            "INFO:torchbiggraph:Edge path: data/train_partitioned\n",
            "INFO:torchbiggraph:still in queue: 0\n",
            "INFO:torchbiggraph:Swapping partitioned embeddings None ( 0 , 0 )\n",
            "INFO:torchbiggraph:Loading partitioned embeddings from checkpoint\n",
            "INFO:torchbiggraph:( 0 , 0 ): Stats before training: loss:  541.842 , pos_rank:  888.055 , mrr:  0.0413586 , r1:  0.0275176 , r10:  0.0729242 , r50:  0.122321 , auc:  0.544599 , count:  30326\n",
            "INFO:torchbiggraph:( 0 , 0 ): Training stats: loss:  3.01329 , reg:  0 , violators_lhs:  9.3286 , violators_rhs:  4.29825 , count:  576212\n",
            "INFO:torchbiggraph:( 0 , 0 ): Stats after training: loss:  541.982 , pos_rank:  889.158 , mrr:  0.0400367 , r1:  0.0262646 , r10:  0.0716712 , r50:  0.121793 , auc:  0.545209 , count:  30326\n",
            "INFO:torchbiggraph:( 0 , 0 ): bucket 1 / 1 : Trained 576212 edges in 7.90 s ( 0.073 M/sec ); Eval 2*30326 edges in 2.09 s ( 0.029 M/sec ); io: 0.11 s for 361,801,456 bytes ( 3227.34 MB/sec )\n",
            "INFO:torchbiggraph:Swapping partitioned embeddings ( 0 , 0 ) None\n",
            "INFO:torchbiggraph:Saving partitioned embeddings to checkpoint\n",
            "INFO:torchbiggraph:Finished epoch 27 / 30, edge path 1 / 1, edge chunk 1 / 1\n",
            "INFO:torchbiggraph:Writing the metadata\n",
            "INFO:torchbiggraph:Writing the training stats\n",
            "INFO:torchbiggraph:Writing the checkpoint\n",
            "INFO:torchbiggraph:Switching to the new checkpoint version\n",
            "INFO:torchbiggraph:Starting epoch 28 / 30, edge path 1 / 1, edge chunk 1 / 1\n",
            "INFO:torchbiggraph:Edge path: data/train_partitioned\n",
            "INFO:torchbiggraph:still in queue: 0\n",
            "INFO:torchbiggraph:Swapping partitioned embeddings None ( 0 , 0 )\n",
            "INFO:torchbiggraph:Loading partitioned embeddings from checkpoint\n",
            "INFO:torchbiggraph:( 0 , 0 ): Stats before training: loss:  541.428 , pos_rank:  888.689 , mrr:  0.0398017 , r1:  0.025737 , r10:  0.071935 , r50:  0.121463 , auc:  0.548523 , count:  30326\n",
            "INFO:torchbiggraph:( 0 , 0 ): Training stats: loss:  3.0045 , reg:  0 , violators_lhs:  9.29969 , violators_rhs:  4.2772 , count:  576212\n",
            "INFO:torchbiggraph:( 0 , 0 ): Stats after training: loss:  541.729 , pos_rank:  887.168 , mrr:  0.0418023 , r1:  0.0279958 , r10:  0.0735837 , r50:  0.123195 , auc:  0.541895 , count:  30326\n",
            "INFO:torchbiggraph:( 0 , 0 ): bucket 1 / 1 : Trained 576212 edges in 7.62 s ( 0.076 M/sec ); Eval 2*30326 edges in 2.14 s ( 0.028 M/sec ); io: 0.12 s for 361,801,456 bytes ( 3010.52 MB/sec )\n",
            "INFO:torchbiggraph:Swapping partitioned embeddings ( 0 , 0 ) None\n",
            "INFO:torchbiggraph:Saving partitioned embeddings to checkpoint\n",
            "INFO:torchbiggraph:Finished epoch 28 / 30, edge path 1 / 1, edge chunk 1 / 1\n",
            "INFO:torchbiggraph:Writing the metadata\n",
            "INFO:torchbiggraph:Writing the training stats\n",
            "INFO:torchbiggraph:Writing the checkpoint\n",
            "INFO:torchbiggraph:Switching to the new checkpoint version\n",
            "INFO:torchbiggraph:Starting epoch 29 / 30, edge path 1 / 1, edge chunk 1 / 1\n",
            "INFO:torchbiggraph:Edge path: data/train_partitioned\n",
            "INFO:torchbiggraph:still in queue: 0\n",
            "INFO:torchbiggraph:Swapping partitioned embeddings None ( 0 , 0 )\n",
            "INFO:torchbiggraph:Loading partitioned embeddings from checkpoint\n",
            "INFO:torchbiggraph:( 0 , 0 ): Stats before training: loss:  541.156 , pos_rank:  887.087 , mrr:  0.0416909 , r1:  0.0276331 , r10:  0.0736332 , r50:  0.122931 , auc:  0.547187 , count:  30326\n",
            "INFO:torchbiggraph:( 0 , 0 ): Training stats: loss:  3.00495 , reg:  0 , violators_lhs:  9.31336 , violators_rhs:  4.29568 , count:  576212\n",
            "INFO:torchbiggraph:( 0 , 0 ): Stats after training: loss:  541.873 , pos_rank:  888.182 , mrr:  0.0416964 , r1:  0.0280452 , r10:  0.0735343 , r50:  0.121694 , auc:  0.54816 , count:  30326\n",
            "INFO:torchbiggraph:( 0 , 0 ): bucket 1 / 1 : Trained 576212 edges in 8.19 s ( 0.07 M/sec ); Eval 2*30326 edges in 3.02 s ( 0.02 M/sec ); io: 0.13 s for 361,801,456 bytes ( 2768.84 MB/sec )\n",
            "INFO:torchbiggraph:Swapping partitioned embeddings ( 0 , 0 ) None\n",
            "INFO:torchbiggraph:Saving partitioned embeddings to checkpoint\n",
            "INFO:torchbiggraph:Finished epoch 29 / 30, edge path 1 / 1, edge chunk 1 / 1\n",
            "INFO:torchbiggraph:Writing the metadata\n",
            "INFO:torchbiggraph:Writing the training stats\n",
            "INFO:torchbiggraph:Writing the checkpoint\n",
            "INFO:torchbiggraph:Switching to the new checkpoint version\n",
            "INFO:torchbiggraph:Starting epoch 30 / 30, edge path 1 / 1, edge chunk 1 / 1\n",
            "INFO:torchbiggraph:Edge path: data/train_partitioned\n",
            "INFO:torchbiggraph:still in queue: 0\n",
            "INFO:torchbiggraph:Swapping partitioned embeddings None ( 0 , 0 )\n",
            "INFO:torchbiggraph:Loading partitioned embeddings from checkpoint\n",
            "INFO:torchbiggraph:( 0 , 0 ): Stats before training: loss:  542.624 , pos_rank:  888.569 , mrr:  0.0415609 , r1:  0.0278144 , r10:  0.0734683 , r50:  0.121595 , auc:  0.549776 , count:  30326\n",
            "INFO:torchbiggraph:( 0 , 0 ): Training stats: loss:  3.00288 , reg:  0 , violators_lhs:  9.31936 , violators_rhs:  4.25968 , count:  576212\n",
            "INFO:torchbiggraph:( 0 , 0 ): Stats after training: loss:  542.366 , pos_rank:  888.685 , mrr:  0.0415555 , r1:  0.0280617 , r10:  0.0726769 , r50:  0.121694 , auc:  0.542373 , count:  30326\n",
            "INFO:torchbiggraph:( 0 , 0 ): bucket 1 / 1 : Trained 576212 edges in 7.51 s ( 0.077 M/sec ); Eval 2*30326 edges in 2.14 s ( 0.028 M/sec ); io: 0.11 s for 361,801,456 bytes ( 3166.40 MB/sec )\n",
            "INFO:torchbiggraph:Swapping partitioned embeddings ( 0 , 0 ) None\n",
            "INFO:torchbiggraph:Saving partitioned embeddings to checkpoint\n",
            "INFO:torchbiggraph:Finished epoch 30 / 30, edge path 1 / 1, edge chunk 1 / 1\n",
            "INFO:torchbiggraph:Writing the metadata\n",
            "INFO:torchbiggraph:Writing the training stats\n",
            "INFO:torchbiggraph:Writing the checkpoint\n",
            "INFO:torchbiggraph:Switching to the new checkpoint version\n",
            "INFO:torchbiggraph:Exiting\n"
          ]
        }
      ]
    },
    {
      "cell_type": "code",
      "source": [
        "eval_config = attr.evolve(config, edge_paths=[output_test_path])\n",
        "do_eval(eval_config, subprocess_init=subprocess_init)"
      ],
      "metadata": {
        "colab": {
          "base_uri": "https://localhost:8080/"
        },
        "id": "YTI_xjLuFeVd",
        "outputId": "17e3e11f-e858-4103-c21f-968b3c2c2410"
      },
      "execution_count": 28,
      "outputs": [
        {
          "output_type": "stream",
          "name": "stderr",
          "text": [
            "INFO:torchbiggraph:Starting edge path 1 / 1 (data/test_partitioned)\n",
            "INFO:torchbiggraph:( 0 , 0 ): Processed 151636 edges in 1.9 s (0.079M/sec); load time: 0.45 s\n",
            "INFO:torchbiggraph:Stats for edge path 1 / 1, bucket ( 0 , 0 ): loss:  27.5657 , pos_rank:  46.443 , mrr:  0.112117 , r1:  0.0646647 , r10:  0.165558 , r50:  0.552514 , auc:  0.538025 , count:  151636\n",
            "INFO:torchbiggraph:\n",
            "INFO:torchbiggraph:Stats for edge path 1 / 1: loss:  27.5657 , pos_rank:  46.443 , mrr:  0.112117 , r1:  0.0646647 , r10:  0.165558 , r50:  0.552514 , auc:  0.538025 , count:  151636\n",
            "INFO:torchbiggraph:\n",
            "INFO:torchbiggraph:\n",
            "INFO:torchbiggraph:Stats: loss:  27.5657 , pos_rank:  46.443 , mrr:  0.112117 , r1:  0.0646647 , r10:  0.165558 , r50:  0.552514 , auc:  0.538025 , count:  151636\n",
            "INFO:torchbiggraph:\n"
          ]
        }
      ]
    },
    {
      "cell_type": "code",
      "source": [],
      "metadata": {
        "id": "Pguzeb0Qb_OC"
      },
      "execution_count": 28,
      "outputs": []
    },
    {
      "cell_type": "code",
      "source": [
        "!torchbiggraph_export_to_tsv \\\n",
        "    'PyTorch-BigGraph/torchbiggraph/examples/configs/politifact_config.py' \\\n",
        "    --entities-output entity_embeddings.tsv \\\n",
        "    --relation-types-output relation_types_parameters.tsv"
      ],
      "metadata": {
        "colab": {
          "base_uri": "https://localhost:8080/"
        },
        "id": "uHjXkt89LR5C",
        "outputId": "77d70c90-11e0-4354-a30c-1e707346321a"
      },
      "execution_count": 29,
      "outputs": [
        {
          "output_type": "stream",
          "name": "stdout",
          "text": [
            "Loading relation types and entities...\n",
            "Initializing model...\n",
            "Loading model check point...\n",
            "Writing entity embeddings...\n",
            "Reading embeddings for entity type user partition 0 from checkpoint...\n",
            "Writing embeddings for entity type user partition 0 to output file...\n",
            "- Processed 5000/678041 entities so far...\n",
            "- Processed 10000/678041 entities so far...\n",
            "- Processed 15000/678041 entities so far...\n",
            "- Processed 20000/678041 entities so far...\n",
            "- Processed 25000/678041 entities so far...\n",
            "- Processed 30000/678041 entities so far...\n",
            "- Processed 35000/678041 entities so far...\n",
            "- Processed 40000/678041 entities so far...\n",
            "- Processed 45000/678041 entities so far...\n",
            "- Processed 50000/678041 entities so far...\n",
            "- Processed 55000/678041 entities so far...\n",
            "- Processed 60000/678041 entities so far...\n",
            "- Processed 65000/678041 entities so far...\n",
            "- Processed 70000/678041 entities so far...\n",
            "- Processed 75000/678041 entities so far...\n",
            "- Processed 80000/678041 entities so far...\n",
            "- Processed 85000/678041 entities so far...\n",
            "- Processed 90000/678041 entities so far...\n",
            "- Processed 95000/678041 entities so far...\n",
            "- Processed 100000/678041 entities so far...\n",
            "- Processed 105000/678041 entities so far...\n",
            "- Processed 110000/678041 entities so far...\n",
            "- Processed 115000/678041 entities so far...\n",
            "- Processed 120000/678041 entities so far...\n",
            "- Processed 125000/678041 entities so far...\n",
            "- Processed 130000/678041 entities so far...\n",
            "- Processed 135000/678041 entities so far...\n",
            "- Processed 140000/678041 entities so far...\n",
            "- Processed 145000/678041 entities so far...\n",
            "- Processed 150000/678041 entities so far...\n",
            "- Processed 155000/678041 entities so far...\n",
            "- Processed 160000/678041 entities so far...\n",
            "- Processed 165000/678041 entities so far...\n",
            "- Processed 170000/678041 entities so far...\n",
            "- Processed 175000/678041 entities so far...\n",
            "- Processed 180000/678041 entities so far...\n",
            "- Processed 185000/678041 entities so far...\n",
            "- Processed 190000/678041 entities so far...\n",
            "- Processed 195000/678041 entities so far...\n",
            "- Processed 200000/678041 entities so far...\n",
            "- Processed 205000/678041 entities so far...\n",
            "- Processed 210000/678041 entities so far...\n",
            "- Processed 215000/678041 entities so far...\n",
            "- Processed 220000/678041 entities so far...\n",
            "- Processed 225000/678041 entities so far...\n",
            "- Processed 230000/678041 entities so far...\n",
            "- Processed 235000/678041 entities so far...\n",
            "- Processed 240000/678041 entities so far...\n",
            "- Processed 245000/678041 entities so far...\n",
            "- Processed 250000/678041 entities so far...\n",
            "- Processed 255000/678041 entities so far...\n",
            "- Processed 260000/678041 entities so far...\n",
            "- Processed 265000/678041 entities so far...\n",
            "- Processed 270000/678041 entities so far...\n",
            "- Processed 275000/678041 entities so far...\n",
            "- Processed 280000/678041 entities so far...\n",
            "- Processed 285000/678041 entities so far...\n",
            "- Processed 290000/678041 entities so far...\n",
            "- Processed 295000/678041 entities so far...\n",
            "- Processed 300000/678041 entities so far...\n",
            "- Processed 305000/678041 entities so far...\n",
            "- Processed 310000/678041 entities so far...\n",
            "- Processed 315000/678041 entities so far...\n",
            "- Processed 320000/678041 entities so far...\n",
            "- Processed 325000/678041 entities so far...\n",
            "- Processed 330000/678041 entities so far...\n",
            "- Processed 335000/678041 entities so far...\n",
            "- Processed 340000/678041 entities so far...\n",
            "- Processed 345000/678041 entities so far...\n",
            "- Processed 350000/678041 entities so far...\n",
            "- Processed 355000/678041 entities so far...\n",
            "- Processed 360000/678041 entities so far...\n",
            "- Processed 365000/678041 entities so far...\n",
            "- Processed 370000/678041 entities so far...\n",
            "- Processed 375000/678041 entities so far...\n",
            "- Processed 380000/678041 entities so far...\n",
            "- Processed 385000/678041 entities so far...\n",
            "- Processed 390000/678041 entities so far...\n",
            "- Processed 395000/678041 entities so far...\n",
            "- Processed 400000/678041 entities so far...\n",
            "- Processed 405000/678041 entities so far...\n",
            "- Processed 410000/678041 entities so far...\n",
            "- Processed 415000/678041 entities so far...\n",
            "- Processed 420000/678041 entities so far...\n",
            "- Processed 425000/678041 entities so far...\n",
            "- Processed 430000/678041 entities so far...\n",
            "- Processed 435000/678041 entities so far...\n",
            "- Processed 440000/678041 entities so far...\n",
            "- Processed 445000/678041 entities so far...\n",
            "- Processed 450000/678041 entities so far...\n",
            "- Processed 455000/678041 entities so far...\n",
            "- Processed 460000/678041 entities so far...\n",
            "- Processed 465000/678041 entities so far...\n",
            "- Processed 470000/678041 entities so far...\n",
            "- Processed 475000/678041 entities so far...\n",
            "- Processed 480000/678041 entities so far...\n",
            "- Processed 485000/678041 entities so far...\n",
            "- Processed 490000/678041 entities so far...\n",
            "- Processed 495000/678041 entities so far...\n",
            "- Processed 500000/678041 entities so far...\n",
            "- Processed 505000/678041 entities so far...\n",
            "- Processed 510000/678041 entities so far...\n",
            "- Processed 515000/678041 entities so far...\n",
            "- Processed 520000/678041 entities so far...\n",
            "- Processed 525000/678041 entities so far...\n",
            "- Processed 530000/678041 entities so far...\n",
            "- Processed 535000/678041 entities so far...\n",
            "- Processed 540000/678041 entities so far...\n",
            "- Processed 545000/678041 entities so far...\n",
            "- Processed 550000/678041 entities so far...\n",
            "- Processed 555000/678041 entities so far...\n",
            "- Processed 560000/678041 entities so far...\n",
            "- Processed 565000/678041 entities so far...\n",
            "- Processed 570000/678041 entities so far...\n",
            "- Processed 575000/678041 entities so far...\n",
            "- Processed 580000/678041 entities so far...\n",
            "- Processed 585000/678041 entities so far...\n",
            "- Processed 590000/678041 entities so far...\n",
            "- Processed 595000/678041 entities so far...\n",
            "- Processed 600000/678041 entities so far...\n",
            "- Processed 605000/678041 entities so far...\n",
            "- Processed 610000/678041 entities so far...\n",
            "- Processed 615000/678041 entities so far...\n",
            "- Processed 620000/678041 entities so far...\n",
            "- Processed 625000/678041 entities so far...\n",
            "- Processed 630000/678041 entities so far...\n",
            "- Processed 635000/678041 entities so far...\n",
            "- Processed 640000/678041 entities so far...\n",
            "- Processed 645000/678041 entities so far...\n",
            "- Processed 650000/678041 entities so far...\n",
            "- Processed 655000/678041 entities so far...\n",
            "- Processed 660000/678041 entities so far...\n",
            "- Processed 665000/678041 entities so far...\n",
            "- Processed 670000/678041 entities so far...\n",
            "- Processed 675000/678041 entities so far...\n",
            "- Processed all 678041 entities\n",
            "Reading embeddings for entity type article partition 0 from checkpoint...\n",
            "Writing embeddings for entity type article partition 0 to output file...\n",
            "- Processed all 171 entities\n",
            "Done exporting entity data to entity_embeddings.tsv\n",
            "Writing relation type parameters...\n",
            "Done exporting relation type data to relation_types_parameters.tsv\n"
          ]
        }
      ]
    },
    {
      "cell_type": "code",
      "source": [
        "# Gitsource for PBG: https://github.com/facebookresearch/PyTorch-BigGraph#training: all explanations here. "
      ],
      "metadata": {
        "id": "88BrXT_sL0uB"
      },
      "execution_count": 30,
      "outputs": []
    }
  ]
}