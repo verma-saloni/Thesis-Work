{
  "cells": [
    {
      "cell_type": "markdown",
      "metadata": {
        "id": "view-in-github",
        "colab_type": "text"
      },
      "source": [
        "<a href=\"https://colab.research.google.com/github/verma-saloni/Thesis-Work/blob/main/10_20_22_gossipcop_dgl_GCN_SBERTtext_embs_e400.ipynb\" target=\"_parent\"><img src=\"https://colab.research.google.com/assets/colab-badge.svg\" alt=\"Open In Colab\"/></a>"
      ]
    },
    {
      "cell_type": "code",
      "execution_count": 44,
      "metadata": {
        "id": "xpTeMbYZwmf7"
      },
      "outputs": [],
      "source": [
        "!pip -qq install jsonlines"
      ]
    },
    {
      "cell_type": "markdown",
      "metadata": {
        "id": "f-BFWYzNAPBW"
      },
      "source": [
        "Gossipcop: Text Embeddings + GCN (The choice of embeddings Sbert or Fasttext FT) can be done at the top. Fully customisable. "
      ]
    },
    {
      "cell_type": "code",
      "execution_count": 45,
      "metadata": {
        "colab": {
          "base_uri": "https://localhost:8080/"
        },
        "id": "UxNEaltli8H_",
        "outputId": "6939e106-1493-4765-80f6-a587fe38c871"
      },
      "outputs": [
        {
          "output_type": "stream",
          "name": "stdout",
          "text": [
            "Drive already mounted at /gdrive; to attempt to forcibly remount, call drive.mount(\"/gdrive\", force_remount=True).\n"
          ]
        }
      ],
      "source": [
        "from google.colab import drive\n",
        "drive.mount('/gdrive')"
      ]
    },
    {
      "cell_type": "code",
      "execution_count": 46,
      "metadata": {
        "id": "E1KzQ-APvvbj"
      },
      "outputs": [],
      "source": [
        "from pathlib import Path\n",
        "base_dir = Path(\"/gdrive/MyDrive/ResearchFND\")\n",
        "assert base_dir.exists()"
      ]
    },
    {
      "cell_type": "markdown",
      "metadata": {
        "id": "ywmJcojaOk4E"
      },
      "source": [
        "## Data"
      ]
    },
    {
      "cell_type": "code",
      "execution_count": 47,
      "metadata": {
        "id": "Pi19HZwbOnpK"
      },
      "outputs": [],
      "source": [
        "import pandas as pd\n",
        "import ast\n",
        "import json"
      ]
    },
    {
      "cell_type": "code",
      "execution_count": 48,
      "metadata": {
        "id": "5XqiYfvoPECo"
      },
      "outputs": [],
      "source": [
        "dataset_id = 'gossipcop'\n",
        "text_embeddings = 'sbert' # options: sbert, ft"
      ]
    },
    {
      "cell_type": "code",
      "execution_count": 49,
      "metadata": {
        "colab": {
          "base_uri": "https://localhost:8080/",
          "height": 0
        },
        "id": "9fSNOSLsOnpP",
        "outputId": "c01bef39-6c59-441f-f7ad-82d277938e44"
      },
      "outputs": [
        {
          "output_type": "execute_result",
          "data": {
            "text/plain": [
              "                                               title text tweets  \\\n",
              "0      Kendall   Kylie Jenner Jenner NOT Upset Up...  NaN     []   \n",
              "1      Kim Kardashian Dethroned Dethroned By Khlo...  NaN     []   \n",
              "\n",
              "                                            retweets label  url  num_retweets  \\\n",
              "0  ['995423424741888001', '995461685166202880', '...  fake  NaN             3   \n",
              "1  ['848843565027516416', '849030801970868224', '...  fake  NaN             3   \n",
              "\n",
              "   log_num_retweets  num_tweets  log_num_tweets  \n",
              "0          1.386294           0             0.0  \n",
              "1          1.386294           0             0.0  "
            ],
            "text/html": [
              "\n",
              "  <div id=\"df-14c10a5b-d70a-4d72-8536-db88176e1b1d\">\n",
              "    <div class=\"colab-df-container\">\n",
              "      <div>\n",
              "<style scoped>\n",
              "    .dataframe tbody tr th:only-of-type {\n",
              "        vertical-align: middle;\n",
              "    }\n",
              "\n",
              "    .dataframe tbody tr th {\n",
              "        vertical-align: top;\n",
              "    }\n",
              "\n",
              "    .dataframe thead th {\n",
              "        text-align: right;\n",
              "    }\n",
              "</style>\n",
              "<table border=\"1\" class=\"dataframe\">\n",
              "  <thead>\n",
              "    <tr style=\"text-align: right;\">\n",
              "      <th></th>\n",
              "      <th>title</th>\n",
              "      <th>text</th>\n",
              "      <th>tweets</th>\n",
              "      <th>retweets</th>\n",
              "      <th>label</th>\n",
              "      <th>url</th>\n",
              "      <th>num_retweets</th>\n",
              "      <th>log_num_retweets</th>\n",
              "      <th>num_tweets</th>\n",
              "      <th>log_num_tweets</th>\n",
              "    </tr>\n",
              "  </thead>\n",
              "  <tbody>\n",
              "    <tr>\n",
              "      <th>0</th>\n",
              "      <td>Kendall   Kylie Jenner Jenner NOT Upset Up...</td>\n",
              "      <td>NaN</td>\n",
              "      <td>[]</td>\n",
              "      <td>['995423424741888001', '995461685166202880', '...</td>\n",
              "      <td>fake</td>\n",
              "      <td>NaN</td>\n",
              "      <td>3</td>\n",
              "      <td>1.386294</td>\n",
              "      <td>0</td>\n",
              "      <td>0.0</td>\n",
              "    </tr>\n",
              "    <tr>\n",
              "      <th>1</th>\n",
              "      <td>Kim Kardashian Dethroned Dethroned By Khlo...</td>\n",
              "      <td>NaN</td>\n",
              "      <td>[]</td>\n",
              "      <td>['848843565027516416', '849030801970868224', '...</td>\n",
              "      <td>fake</td>\n",
              "      <td>NaN</td>\n",
              "      <td>3</td>\n",
              "      <td>1.386294</td>\n",
              "      <td>0</td>\n",
              "      <td>0.0</td>\n",
              "    </tr>\n",
              "  </tbody>\n",
              "</table>\n",
              "</div>\n",
              "      <button class=\"colab-df-convert\" onclick=\"convertToInteractive('df-14c10a5b-d70a-4d72-8536-db88176e1b1d')\"\n",
              "              title=\"Convert this dataframe to an interactive table.\"\n",
              "              style=\"display:none;\">\n",
              "        \n",
              "  <svg xmlns=\"http://www.w3.org/2000/svg\" height=\"24px\"viewBox=\"0 0 24 24\"\n",
              "       width=\"24px\">\n",
              "    <path d=\"M0 0h24v24H0V0z\" fill=\"none\"/>\n",
              "    <path d=\"M18.56 5.44l.94 2.06.94-2.06 2.06-.94-2.06-.94-.94-2.06-.94 2.06-2.06.94zm-11 1L8.5 8.5l.94-2.06 2.06-.94-2.06-.94L8.5 2.5l-.94 2.06-2.06.94zm10 10l.94 2.06.94-2.06 2.06-.94-2.06-.94-.94-2.06-.94 2.06-2.06.94z\"/><path d=\"M17.41 7.96l-1.37-1.37c-.4-.4-.92-.59-1.43-.59-.52 0-1.04.2-1.43.59L10.3 9.45l-7.72 7.72c-.78.78-.78 2.05 0 2.83L4 21.41c.39.39.9.59 1.41.59.51 0 1.02-.2 1.41-.59l7.78-7.78 2.81-2.81c.8-.78.8-2.07 0-2.86zM5.41 20L4 18.59l7.72-7.72 1.47 1.35L5.41 20z\"/>\n",
              "  </svg>\n",
              "      </button>\n",
              "      \n",
              "  <style>\n",
              "    .colab-df-container {\n",
              "      display:flex;\n",
              "      flex-wrap:wrap;\n",
              "      gap: 12px;\n",
              "    }\n",
              "\n",
              "    .colab-df-convert {\n",
              "      background-color: #E8F0FE;\n",
              "      border: none;\n",
              "      border-radius: 50%;\n",
              "      cursor: pointer;\n",
              "      display: none;\n",
              "      fill: #1967D2;\n",
              "      height: 32px;\n",
              "      padding: 0 0 0 0;\n",
              "      width: 32px;\n",
              "    }\n",
              "\n",
              "    .colab-df-convert:hover {\n",
              "      background-color: #E2EBFA;\n",
              "      box-shadow: 0px 1px 2px rgba(60, 64, 67, 0.3), 0px 1px 3px 1px rgba(60, 64, 67, 0.15);\n",
              "      fill: #174EA6;\n",
              "    }\n",
              "\n",
              "    [theme=dark] .colab-df-convert {\n",
              "      background-color: #3B4455;\n",
              "      fill: #D2E3FC;\n",
              "    }\n",
              "\n",
              "    [theme=dark] .colab-df-convert:hover {\n",
              "      background-color: #434B5C;\n",
              "      box-shadow: 0px 1px 3px 1px rgba(0, 0, 0, 0.15);\n",
              "      filter: drop-shadow(0px 1px 2px rgba(0, 0, 0, 0.3));\n",
              "      fill: #FFFFFF;\n",
              "    }\n",
              "  </style>\n",
              "\n",
              "      <script>\n",
              "        const buttonEl =\n",
              "          document.querySelector('#df-14c10a5b-d70a-4d72-8536-db88176e1b1d button.colab-df-convert');\n",
              "        buttonEl.style.display =\n",
              "          google.colab.kernel.accessAllowed ? 'block' : 'none';\n",
              "\n",
              "        async function convertToInteractive(key) {\n",
              "          const element = document.querySelector('#df-14c10a5b-d70a-4d72-8536-db88176e1b1d');\n",
              "          const dataTable =\n",
              "            await google.colab.kernel.invokeFunction('convertToInteractive',\n",
              "                                                     [key], {});\n",
              "          if (!dataTable) return;\n",
              "\n",
              "          const docLinkHtml = 'Like what you see? Visit the ' +\n",
              "            '<a target=\"_blank\" href=https://colab.research.google.com/notebooks/data_table.ipynb>data table notebook</a>'\n",
              "            + ' to learn more about interactive tables.';\n",
              "          element.innerHTML = '';\n",
              "          dataTable['output_type'] = 'display_data';\n",
              "          await google.colab.output.renderOutput(dataTable, element);\n",
              "          const docLink = document.createElement('div');\n",
              "          docLink.innerHTML = docLinkHtml;\n",
              "          element.appendChild(docLink);\n",
              "        }\n",
              "      </script>\n",
              "    </div>\n",
              "  </div>\n",
              "  "
            ]
          },
          "metadata": {},
          "execution_count": 49
        }
      ],
      "source": [
        "df = pd.read_csv(base_dir/f'{dataset_id}_agg.csv')\n",
        "df.head(2)"
      ]
    },
    {
      "cell_type": "code",
      "execution_count": 50,
      "metadata": {
        "id": "qjvjCmHpOnpS"
      },
      "outputs": [],
      "source": [
        "df['tweets'] = df.tweets.map(ast.literal_eval)"
      ]
    },
    {
      "cell_type": "code",
      "execution_count": 51,
      "metadata": {
        "id": "CovrRHkeOnpU"
      },
      "outputs": [],
      "source": [
        "users_tweeted = df.tweets.map(lambda x: [int(e['user_id']) for e in x])"
      ]
    },
    {
      "cell_type": "code",
      "execution_count": 52,
      "metadata": {
        "colab": {
          "base_uri": "https://localhost:8080/"
        },
        "id": "VmjV_67MOnpW",
        "outputId": "b84afdd9-3694-4fdb-c288-11f18a7d3c22"
      },
      "outputs": [
        {
          "output_type": "execute_result",
          "data": {
            "text/plain": [
              "(19968, 2117)"
            ]
          },
          "metadata": {},
          "execution_count": 52
        }
      ],
      "source": [
        "len(users_tweeted), sum(users_tweeted.map(len) > 0)"
      ]
    },
    {
      "cell_type": "markdown",
      "metadata": {
        "id": "gI6AtSffmcqr"
      },
      "source": [
        "## GNN"
      ]
    },
    {
      "cell_type": "markdown",
      "metadata": {
        "id": "FfaOg08xmfEp"
      },
      "source": [
        "### Data"
      ]
    },
    {
      "cell_type": "code",
      "execution_count": 53,
      "metadata": {
        "id": "xjD3rF-MmwKa"
      },
      "outputs": [],
      "source": [
        "%%capture\n",
        "!pip install dgl wandb"
      ]
    },
    {
      "cell_type": "code",
      "execution_count": 54,
      "metadata": {
        "colab": {
          "base_uri": "https://localhost:8080/"
        },
        "id": "w96ReVNpwHTY",
        "outputId": "25f8fc55-6ac6-481a-f707-abdc0cd1a18c"
      },
      "outputs": [
        {
          "output_type": "stream",
          "name": "stdout",
          "text": [
            "env: DGLBACKEND=pytorch\n"
          ]
        }
      ],
      "source": [
        "%env DGLBACKEND=pytorch"
      ]
    },
    {
      "cell_type": "code",
      "execution_count": 55,
      "metadata": {
        "id": "yp52MLR1mdxA"
      },
      "outputs": [],
      "source": [
        "import os\n",
        "import json\n",
        "import jsonlines\n",
        "import numpy as np\n",
        "import torch\n",
        "import dgl\n",
        "\n",
        "import wandb\n",
        "import IPython.display as ipd"
      ]
    },
    {
      "cell_type": "code",
      "execution_count": 56,
      "metadata": {
        "id": "h3XOCaEwoMvx"
      },
      "outputs": [],
      "source": [
        "u2i = {}\n",
        "\n",
        "follow_src = []\n",
        "follow_dst = []\n",
        "with jsonlines.open(base_dir/\"followers.jsonl\") as reader:\n",
        "    for line in reader:\n",
        "        v = line[\"user_id\"]\n",
        "        if v not in u2i:\n",
        "            u2i[v] = len(u2i)\n",
        "        for u in line[\"followers\"]:\n",
        "            if u not in u2i:\n",
        "                u2i[u] = len(u2i)\n",
        "            follow_src.append(u2i[u])\n",
        "            follow_dst.append(u2i[v])"
      ]
    },
    {
      "cell_type": "code",
      "execution_count": 57,
      "metadata": {
        "id": "sWJFoJ_4oMvz"
      },
      "outputs": [],
      "source": [
        "with jsonlines.open(base_dir/\"following.jsonl\") as reader:\n",
        "    for line in reader:\n",
        "        u = line[\"user_id\"]\n",
        "        if u not in u2i:\n",
        "            u2i[u] = len(u2i)\n",
        "        for v in line[\"following\"]:\n",
        "            if v not in u2i:\n",
        "                u2i[v] = len(u2i)\n",
        "            follow_src.append(u2i[u])\n",
        "            follow_dst.append(u2i[v])"
      ]
    },
    {
      "cell_type": "code",
      "execution_count": 58,
      "metadata": {
        "id": "DWM9MEXDpiyX"
      },
      "outputs": [],
      "source": [
        "tweet_src = []\n",
        "tweet_dst = []\n",
        "\n",
        "for v, l in users_tweeted.iteritems():\n",
        "    if not len(l):\n",
        "        continue\n",
        "    for u in l:\n",
        "        u = int(u)\n",
        "        if u in u2i:\n",
        "            tweet_src.append(u2i[u])\n",
        "            tweet_dst.append(v)"
      ]
    },
    {
      "cell_type": "code",
      "execution_count": 59,
      "metadata": {
        "colab": {
          "base_uri": "https://localhost:8080/"
        },
        "id": "CxkWUv799WnY",
        "outputId": "0d03c2bd-e1e5-45e6-80bc-f347885bef53"
      },
      "outputs": [
        {
          "output_type": "execute_result",
          "data": {
            "text/plain": [
              "(19968, 768)"
            ]
          },
          "metadata": {},
          "execution_count": 59
        }
      ],
      "source": [
        "text_embs = np.load(base_dir/f'{dataset_id}_{text_embeddings}_fulltext_embeddings.npy')\n",
        "text_embs.shape"
      ]
    },
    {
      "cell_type": "code",
      "execution_count": 60,
      "metadata": {
        "id": "CWYAnXYALbwo"
      },
      "outputs": [],
      "source": [
        "num_users = len(set(follow_src+follow_dst+tweet_src))"
      ]
    },
    {
      "cell_type": "code",
      "execution_count": 61,
      "metadata": {
        "id": "0o-_TVpQ2Ag8"
      },
      "outputs": [],
      "source": [
        "follow_src = torch.tensor(follow_src)\n",
        "follow_dst = torch.tensor(follow_dst)\n",
        "tweet_src = torch.tensor(tweet_src)\n",
        "tweet_dst = torch.tensor(tweet_dst)\n",
        "\n",
        "graph = dgl.heterograph({\n",
        "    ('user', 'follow', 'user'): (follow_src, follow_dst),\n",
        "    ('user', 'followed-by', 'user'): (follow_dst, follow_src),\n",
        "    ('user', 'tweet', 'article'): (tweet_src, tweet_dst),\n",
        "    ('article', 'tweeted-by', 'user'): (tweet_dst, tweet_src)},\n",
        "    {'article':len(df), 'user':num_users}\n",
        ")\n",
        "\n",
        "graph.nodes['user'].data['feat'] = torch.arange(graph.num_nodes('user'))\n",
        "graph.nodes['article'].data['feat'] = torch.tensor(text_embs)\n",
        "graph.nodes['article'].data['label'] = torch.tensor((df.label==\"real\").to_numpy()).long()"
      ]
    },
    {
      "cell_type": "code",
      "execution_count": 62,
      "metadata": {
        "colab": {
          "base_uri": "https://localhost:8080/"
        },
        "id": "o_gsQ0ELzwpN",
        "outputId": "879d7cba-4d6b-421a-db30-ec88ea785e40"
      },
      "outputs": [
        {
          "output_type": "execute_result",
          "data": {
            "text/plain": [
              "Graph(num_nodes={'article': 19968, 'user': 31792},\n",
              "      num_edges={('article', 'tweeted-by', 'user'): 588, ('user', 'follow', 'user'): 48409, ('user', 'followed-by', 'user'): 48409, ('user', 'tweet', 'article'): 588},\n",
              "      metagraph=[('article', 'user', 'tweeted-by'), ('user', 'user', 'follow'), ('user', 'user', 'followed-by'), ('user', 'article', 'tweet')])"
            ]
          },
          "metadata": {},
          "execution_count": 62
        }
      ],
      "source": [
        "graph"
      ]
    },
    {
      "cell_type": "code",
      "execution_count": 63,
      "metadata": {
        "id": "_wR6tgjekCGZ"
      },
      "outputs": [],
      "source": [
        "from sklearn.model_selection import StratifiedKFold\n",
        "\n",
        "skf = StratifiedKFold(shuffle=True, random_state=124)"
      ]
    },
    {
      "cell_type": "code",
      "execution_count": 64,
      "metadata": {
        "id": "vUYRWGCqkNJw"
      },
      "outputs": [],
      "source": [
        "labels = graph.ndata['label']['article']\n",
        "\n",
        "train_idx, valid_idx = next(skf.split(labels, labels))"
      ]
    },
    {
      "cell_type": "code",
      "execution_count": 65,
      "metadata": {
        "id": "bz8FvZRmkrFt"
      },
      "outputs": [],
      "source": [
        "device = torch.device('cuda' if torch.cuda.is_available() else 'cpu')"
      ]
    },
    {
      "cell_type": "code",
      "execution_count": 66,
      "metadata": {
        "id": "9lWNOaTwj86U"
      },
      "outputs": [],
      "source": [
        "sampler = dgl.dataloading.NeighborSampler([10, 10])\n",
        "train_loader = dgl.dataloading.DataLoader(\n",
        "    graph,\n",
        "    {'article':train_idx},\n",
        "    sampler,\n",
        "    device=device,\n",
        "    batch_size=64,\n",
        "    shuffle=True,\n",
        "    drop_last=False,\n",
        "    num_workers=0\n",
        ")"
      ]
    },
    {
      "cell_type": "code",
      "execution_count": 67,
      "metadata": {
        "id": "2P7O9wNi1GXS"
      },
      "outputs": [],
      "source": [
        "eval_sampler = dgl.dataloading.NeighborSampler([-1, -1])\n",
        "eval_loader = dgl.dataloading.DataLoader(\n",
        "    graph,\n",
        "    {'article':valid_idx},\n",
        "    eval_sampler,\n",
        "    device=device,\n",
        "    batch_size=64,\n",
        "    shuffle=False,\n",
        "    drop_last=False,\n",
        "    num_workers=0\n",
        ")"
      ]
    },
    {
      "cell_type": "code",
      "execution_count": 68,
      "metadata": {
        "colab": {
          "base_uri": "https://localhost:8080/"
        },
        "id": "XKlDjmxnkvaT",
        "outputId": "8430baf3-6744-41c1-bc9f-b8f444ec0913"
      },
      "outputs": [
        {
          "output_type": "stream",
          "name": "stderr",
          "text": [
            "/usr/local/lib/python3.7/dist-packages/dgl/dataloading/dataloader.py:859: DGLWarning: Dataloader CPU affinity opt is not enabled, consider switching it on (see enable_cpu_affinity() or CPU best practices for DGL [https://docs.dgl.ai/tutorials/cpu/cpu_best_practises.html])\n",
            "  dgl_warning(f'Dataloader CPU affinity opt is not enabled, consider switching it on '\n"
          ]
        }
      ],
      "source": [
        "batch = next(iter(train_loader))"
      ]
    },
    {
      "cell_type": "markdown",
      "metadata": {
        "id": "a_NnqbhIvgQm"
      },
      "source": [
        "### Model"
      ]
    },
    {
      "cell_type": "code",
      "execution_count": 69,
      "metadata": {
        "id": "oSGL7euSjzR-"
      },
      "outputs": [],
      "source": [
        "from collections import defaultdict\n",
        "import torch.nn as nn\n",
        "import torch.nn.functional as F\n",
        "\n",
        "d_emb_dict = defaultdict(lambda: 64)\n",
        "\n",
        "def flatten_dict(d):\n",
        "    for k, v in d.items():\n",
        "        d[k] = v.flatten(1)\n",
        "    return d"
      ]
    },
    {
      "cell_type": "code",
      "execution_count": 70,
      "metadata": {
        "id": "YGqNa5UVgfio"
      },
      "outputs": [],
      "source": [
        "class NodeEmbedding(nn.Module):\n",
        "\n",
        "    def __init__(self, n_nodes:dict, d_in:dict, d_emb:dict, proj_nodes=None, embed_nodes=None):\n",
        "        super().__init__()\n",
        "        self.proj_nodes = proj_nodes if proj_nodes is not None else list(d_in.keys())\n",
        "        self.embed_nodes = embed_nodes if embed_nodes is not None else list(n_nodes.keys())\n",
        "        self.emb = nn.ModuleDict({k:nn.Embedding(n_nodes[k], d_emb) for k in self.embed_nodes})\n",
        "        self.proj = nn.ModuleDict({k:nn.Linear(d_in[k], d_emb, bias=False) for k in self.proj_nodes})\n",
        "        self.init()\n",
        "\n",
        "    def forward(self, nx):\n",
        "        out = {}\n",
        "        for k, m  in self.emb.items():\n",
        "            out[k] = m(nx[k])\n",
        "        for k, m  in self.proj.items():\n",
        "            out[k] = m(nx[k])\n",
        "        return out\n",
        "\n",
        "    def init(self):\n",
        "        for _, m in self.emb.items():\n",
        "            torch.nn.init.xavier_uniform_(m.weight)\n",
        "        for _, m in self.proj.items():\n",
        "            torch.nn.init.xavier_uniform_(m.weight)"
      ]
    },
    {
      "cell_type": "code",
      "execution_count": 71,
      "metadata": {
        "id": "vN3hV1uAv1L2"
      },
      "outputs": [],
      "source": [
        "class Residual(nn.Module):\n",
        "\n",
        "    def __init__(self, conv):\n",
        "        super().__init__()\n",
        "        self.conv = conv\n",
        "\n",
        "    def forward(self, graph, x):\n",
        "        h = self.conv(graph, x)\n",
        "        res = x[1]\n",
        "        return h + res"
      ]
    },
    {
      "cell_type": "code",
      "execution_count": 72,
      "metadata": {
        "id": "yc-vcrjpw-6T"
      },
      "outputs": [],
      "source": [
        "in_proj = NodeEmbedding({k:graph.num_nodes(k) for k in [\"user\"]}, {\"article\":text_embs.shape[1]}, 64)\n",
        "conv = dgl.nn.HeteroGraphConv({rel:Residual(dgl.nn.GraphConv(64, 64, allow_zero_in_degree=True)) for rel in graph.etypes})"
      ]
    },
    {
      "cell_type": "code",
      "execution_count": 73,
      "metadata": {
        "id": "uKQd2Wn3xDSn"
      },
      "outputs": [],
      "source": [
        "blocks = batch[-1]\n",
        "block = blocks[0]\n",
        "x = block.ndata['feat']\n",
        "\n",
        "with torch.no_grad():\n",
        "    h = in_proj(x)\n",
        "    res = conv(block, h)"
      ]
    },
    {
      "cell_type": "code",
      "execution_count": 74,
      "metadata": {
        "colab": {
          "base_uri": "https://localhost:8080/"
        },
        "id": "dEYSQp_oyewZ",
        "outputId": "c907a16b-2b7e-4d73-bd37-e51000730bc5"
      },
      "outputs": [
        {
          "output_type": "execute_result",
          "data": {
            "text/plain": [
              "(torch.Size([64, 64]), torch.Size([0, 64]))"
            ]
          },
          "metadata": {},
          "execution_count": 74
        }
      ],
      "source": [
        "res['article'].shape, res['user'].shape"
      ]
    },
    {
      "cell_type": "code",
      "execution_count": 75,
      "metadata": {
        "id": "bceu2k_-OgIG"
      },
      "outputs": [],
      "source": [
        "class Encoder(torch.nn.Module):\n",
        "\n",
        "    def __init__(self, d_in, d_h, etypes, dropout=0.0):\n",
        "        super().__init__()\n",
        "        self.layers = nn.ModuleList([\n",
        "            dgl.nn.HeteroGraphConv({\n",
        "                rel : Residual(dgl.nn.GraphConv(d_in, d_h, allow_zero_in_degree=True)) for rel in etypes\n",
        "            }),\n",
        "            dgl.nn.HeteroGraphConv({\n",
        "                rel : Residual(dgl.nn.GraphConv(d_h, d_h, allow_zero_in_degree=True)) for rel in etypes\n",
        "            })\n",
        "        ])\n",
        "\n",
        "    def forward(self, blocks, x):\n",
        "        \n",
        "        for layer, block in zip(self.layers, blocks):\n",
        "            x = layer(block, x)\n",
        "        return x"
      ]
    },
    {
      "cell_type": "code",
      "execution_count": 76,
      "metadata": {
        "colab": {
          "base_uri": "https://localhost:8080/"
        },
        "id": "9tfx9M1N37yc",
        "outputId": "c3b78465-65f9-4631-c3f2-3806b2dc59f4"
      },
      "outputs": [
        {
          "output_type": "execute_result",
          "data": {
            "text/plain": [
              "torch.Size([19968, 768])"
            ]
          },
          "metadata": {},
          "execution_count": 76
        }
      ],
      "source": [
        "graph.ndata['feat']['article'].shape"
      ]
    },
    {
      "cell_type": "code",
      "execution_count": 77,
      "metadata": {
        "id": "hFfx0YmfXoom"
      },
      "outputs": [],
      "source": [
        "class GNN(nn.Module):\n",
        "\n",
        "    def __init__(self, g, d_h:int, tgt_ntype:str, emb_nodes:list=['user'], proj_nodes:list=['article']):\n",
        "        super().__init__()\n",
        "        self.tgt_ntype = tgt_ntype\n",
        "        self.in_proj = NodeEmbedding(\n",
        "            {k:g.num_nodes(k) for k in emb_nodes}, \n",
        "            {k:graph.ndata['feat'][k].shape[1] for k in proj_nodes},\n",
        "            d_h\n",
        "        )\n",
        "        self.encoder = Encoder(d_h, d_h, g.etypes)\n",
        "        self.head = nn.Linear(d_h, 2)\n",
        "\n",
        "    def forward(self, blocks, x):\n",
        "        h = self.in_proj(x)\n",
        "        h = self.encoder(blocks, h)\n",
        "        return self.head(h[self.tgt_ntype])\n",
        "\n",
        "    @torch.no_grad()\n",
        "    def get_embeddings(self, graph, x):\n",
        "        h = self.emb(x)\n",
        "        h = self.encoder(graph, h)\n",
        "        return h[self.tgt_ntype]"
      ]
    },
    {
      "cell_type": "code",
      "execution_count": 78,
      "metadata": {
        "id": "wFkuDQQgd3-v"
      },
      "outputs": [],
      "source": [
        "model = GNN(graph, 128, 'article')\n",
        "\n",
        "with torch.no_grad():\n",
        "    logits = model(blocks, x)"
      ]
    },
    {
      "cell_type": "code",
      "execution_count": 79,
      "metadata": {
        "colab": {
          "base_uri": "https://localhost:8080/"
        },
        "id": "yhjU0-N1zShT",
        "outputId": "f6e3e58a-0046-4b87-d2c4-d8483dcf4915"
      },
      "outputs": [
        {
          "output_type": "execute_result",
          "data": {
            "text/plain": [
              "torch.Size([64, 2])"
            ]
          },
          "metadata": {},
          "execution_count": 79
        }
      ],
      "source": [
        "logits.shape"
      ]
    },
    {
      "cell_type": "code",
      "execution_count": 80,
      "metadata": {
        "id": "BunQmwFY8Xso"
      },
      "outputs": [],
      "source": [
        "def accuracy(logits, labels):\n",
        "    return (logits.argmax(-1) == labels).float().mean()"
      ]
    },
    {
      "cell_type": "code",
      "execution_count": 81,
      "metadata": {
        "id": "faEjToOWbAQl"
      },
      "outputs": [],
      "source": [
        "from sklearn.model_selection import StratifiedKFold\n",
        "\n",
        "skf = StratifiedKFold(shuffle=True, random_state=124)"
      ]
    },
    {
      "cell_type": "code",
      "execution_count": 82,
      "metadata": {
        "id": "1vjIXm2wM6_T"
      },
      "outputs": [],
      "source": [
        "from sklearn.metrics import accuracy_score, f1_score, precision_score, recall_score\n",
        "\n",
        "metrics = [accuracy_score, f1_score, precision_score, recall_score]\n",
        "def get_name(score_func):\n",
        "    return score_func.__name__.split(\"_\")[0]"
      ]
    },
    {
      "cell_type": "code",
      "execution_count": 83,
      "metadata": {
        "id": "S40fYMCU7nzh"
      },
      "outputs": [],
      "source": [
        "class AverageMeter:\n",
        "\n",
        "    def __init__(self, store_vals=False, store_avgs=False):\n",
        "        self.store_vals = store_vals\n",
        "        self.store_avgs = store_avgs\n",
        "        if store_vals: self.values = []\n",
        "        if store_avgs: self.avgs = []\n",
        "        self.tot, self.n = 0, 0\n",
        "\n",
        "    def update(self, v, n=1):\n",
        "        if self.store_vals: self.values.append(v)\n",
        "        self.n += n\n",
        "        self.tot += v*n\n",
        "\n",
        "    @property\n",
        "    def avg(self):\n",
        "        if self.n == 0:\n",
        "            return\n",
        "        return self.tot / self.n\n",
        "\n",
        "    def reset(self):\n",
        "        if self.store_avgs and self.avg: self.avgs.append(self.avg)\n",
        "        self.tot, self.n = 0, 0"
      ]
    },
    {
      "cell_type": "code",
      "execution_count": 84,
      "metadata": {
        "id": "4lvLwrItbAQp"
      },
      "outputs": [],
      "source": [
        "def train(fold, train_idx, valid_idx, params):\n",
        "\n",
        "    model = GNN(graph, 128, 'article')\n",
        "    opt = torch.optim.Adam(model.parameters(), params['lr'])\n",
        "    scheduler = torch.optim.lr_scheduler.ReduceLROnPlateau(opt, factor=0.5, patience=10, verbose=True)\n",
        "\n",
        "    train_loss = AverageMeter(store_avgs=True)\n",
        "    train_acc = AverageMeter(store_avgs=True)\n",
        "    valid_loss = AverageMeter(store_avgs=True)\n",
        "    valid_acc = AverageMeter(store_avgs=True)\n",
        "\n",
        "    best_acc = 0\n",
        "    for epoch in range(params['n_epochs']):\n",
        "        model.train()\n",
        "        for batch in train_loader:\n",
        "            blocks = batch[-1]\n",
        "            x = blocks[0].ndata['feat']\n",
        "            logits = model(blocks, x)\n",
        "            \n",
        "            labels = blocks[-1].dstdata['label']['article']\n",
        "            loss = F.cross_entropy(logits, labels)\n",
        "            acc = accuracy(logits, labels)\n",
        "            opt.zero_grad()\n",
        "            loss.backward()\n",
        "            opt.step()\n",
        "\n",
        "            train_loss.update(loss.item(), len(labels))\n",
        "            train_acc.update(acc, len(labels))\n",
        "\n",
        "        model.eval()\n",
        "        for i, batch in enumerate(eval_loader):\n",
        "            blocks = batch[-1]\n",
        "            x = blocks[0].ndata['feat']\n",
        "            with torch.no_grad():\n",
        "                logits = model(blocks, x)\n",
        "\n",
        "                labels = blocks[-1].dstdata['label']['article']\n",
        "                val_loss = F.cross_entropy(logits, labels)\n",
        "                val_acc = accuracy(logits, labels)\n",
        "\n",
        "                valid_loss.update(val_loss.item(), len(labels))\n",
        "                valid_acc.update(val_acc, len(labels))\n",
        "        \n",
        "        scheduler.step(valid_loss.avg)\n",
        "        wandb.log({'train_loss':loss.item(), 'train_acc':acc, 'valid_loss':val_loss.item(), 'valid_acc':val_acc}, step=epoch)\n",
        "        print(f\"{epoch+1:>3}: Train loss {train_loss.avg:.4f}, acc {train_acc.avg:.4f}%; validation loss {valid_loss.avg:.4f}, acc {valid_acc.avg:.4f}%\")\n",
        "        \n",
        "        if valid_acc.avg >= best_acc:\n",
        "            best_acc = valid_acc.avg\n",
        "            torch.save(model.state_dict(), f'models/model-{fold}.pt')\n",
        "        \n",
        "        train_loss.reset()\n",
        "        train_acc.reset()\n",
        "        valid_loss.reset()\n",
        "        valid_acc.reset()\n",
        "\n",
        "        \n",
        "\n",
        "    # load best model and evaluate\n",
        "    model.load_state_dict(torch.load(f'models/model-{fold}.pt'))\n",
        "    model.eval()\n",
        "    preds = []\n",
        "    targs = []\n",
        "    for i, batch in enumerate(eval_loader):\n",
        "        blocks = batch[-1]\n",
        "        x = blocks[0].ndata['feat']\n",
        "        with torch.no_grad():\n",
        "            logits = model(blocks, x)\n",
        "\n",
        "            labels = blocks[-1].dstdata['label']['article']\n",
        "            \n",
        "        preds.append(logits.argmax(-1).cpu().numpy())\n",
        "        targs.append(labels.cpu().numpy())\n",
        "    preds = np.concatenate(preds)\n",
        "    targs = np.concatenate(targs)\n",
        "    eval_results = {get_name(f):f(y_pred=preds, y_true=targs) for f in metrics}\n",
        "    print(\"Final evaluation results:\")\n",
        "    for k,v in eval_results.items():\n",
        "        print(f\"{k:<16}{v:.4f}\")\n",
        "    \n",
        "    wandb.log(eval_results)\n",
        "    wandb.log({\"conf_mat\" : wandb.plot.confusion_matrix(probs=None,\n",
        "                            y_true=targs, preds=preds,\n",
        "                            class_names=[\"Fake\", \"Real\"])})\n",
        "\n",
        "    return {\n",
        "        'train_loss':train_loss,\n",
        "        'train_acc':train_acc,\n",
        "        'valid_loss':valid_loss,\n",
        "        'valid_acc':valid_acc\n",
        "    }"
      ]
    },
    {
      "cell_type": "code",
      "execution_count": 85,
      "metadata": {
        "id": "VWKvv1xebAQu"
      },
      "outputs": [],
      "source": [
        "params = {\n",
        "    \"n_epochs\":400,\n",
        "    'bs': 16,\n",
        "    'lr':1e-2,\n",
        "    \"seed\":124,\n",
        "}\n",
        "\n",
        "labels = graph.ndata['label']['article']"
      ]
    },
    {
      "cell_type": "code",
      "execution_count": 86,
      "metadata": {
        "id": "7qBu9i1ebAQx",
        "colab": {
          "base_uri": "https://localhost:8080/",
          "height": 1000,
          "referenced_widgets": [
            "c23740c9c213485b80aa63fa60417bbb",
            "cf69754b92034f90a0371a816fb99644",
            "9f86995d2dea4c3d81815d44203337f9",
            "ae50db3180f0462b8a8d737e38820f99",
            "46df9af3c0784bd784d00a9e251344c5",
            "2cd0834b2d9f49fe892b74e4d8025f74",
            "9a96dc07eafc4441a5da33d241403e74",
            "7b28bb7e140b487182a828b4d3337cdd"
          ]
        },
        "outputId": "2ec94367-35e8-4726-c446-c4c6f5f49919"
      },
      "outputs": [
        {
          "output_type": "display_data",
          "data": {
            "text/plain": [
              "<IPython.core.display.Javascript object>"
            ],
            "application/javascript": [
              "\n",
              "        window._wandbApiKey = new Promise((resolve, reject) => {\n",
              "            function loadScript(url) {\n",
              "            return new Promise(function(resolve, reject) {\n",
              "                let newScript = document.createElement(\"script\");\n",
              "                newScript.onerror = reject;\n",
              "                newScript.onload = resolve;\n",
              "                document.body.appendChild(newScript);\n",
              "                newScript.src = url;\n",
              "            });\n",
              "            }\n",
              "            loadScript(\"https://cdn.jsdelivr.net/npm/postmate/build/postmate.min.js\").then(() => {\n",
              "            const iframe = document.createElement('iframe')\n",
              "            iframe.style.cssText = \"width:0;height:0;border:none\"\n",
              "            document.body.appendChild(iframe)\n",
              "            const handshake = new Postmate({\n",
              "                container: iframe,\n",
              "                url: 'https://wandb.ai/authorize'\n",
              "            });\n",
              "            const timeout = setTimeout(() => reject(\"Couldn't auto authenticate\"), 5000)\n",
              "            handshake.then(function(child) {\n",
              "                child.on('authorize', data => {\n",
              "                    clearTimeout(timeout)\n",
              "                    resolve(data)\n",
              "                });\n",
              "            });\n",
              "            })\n",
              "        });\n",
              "    "
            ]
          },
          "metadata": {}
        },
        {
          "output_type": "stream",
          "name": "stderr",
          "text": [
            "\u001b[34m\u001b[1mwandb\u001b[0m: Appending key for api.wandb.ai to your netrc file: /root/.netrc\n"
          ]
        },
        {
          "output_type": "display_data",
          "data": {
            "text/plain": [
              "<IPython.core.display.HTML object>"
            ],
            "text/html": [
              "Tracking run with wandb version 0.13.4"
            ]
          },
          "metadata": {}
        },
        {
          "output_type": "display_data",
          "data": {
            "text/plain": [
              "<IPython.core.display.HTML object>"
            ],
            "text/html": [
              "Run data is saved locally in <code>/content/wandb/run-20221020_121941-1xx4cysc</code>"
            ]
          },
          "metadata": {}
        },
        {
          "output_type": "display_data",
          "data": {
            "text/plain": [
              "<IPython.core.display.HTML object>"
            ],
            "text/html": [
              "Syncing run <strong><a href=\"https://wandb.ai/saloniteam/nofolds/runs/1xx4cysc\" target=\"_blank\">sbert-fulltextGCop-hetgnnSBERT-ua-e400-fold-0</a></strong> to <a href=\"https://wandb.ai/saloniteam/nofolds\" target=\"_blank\">Weights & Biases</a> (<a href=\"https://wandb.me/run\" target=\"_blank\">docs</a>)<br/>"
            ]
          },
          "metadata": {}
        },
        {
          "output_type": "stream",
          "name": "stderr",
          "text": [
            "/usr/local/lib/python3.7/dist-packages/dgl/dataloading/dataloader.py:859: DGLWarning: Dataloader CPU affinity opt is not enabled, consider switching it on (see enable_cpu_affinity() or CPU best practices for DGL [https://docs.dgl.ai/tutorials/cpu/cpu_best_practises.html])\n",
            "  dgl_warning(f'Dataloader CPU affinity opt is not enabled, consider switching it on '\n",
            "/usr/local/lib/python3.7/dist-packages/torch/amp/autocast_mode.py:198: UserWarning: User provided device_type of 'cuda', but CUDA is not available. Disabling\n",
            "  warnings.warn('User provided device_type of \\'cuda\\', but CUDA is not available. Disabling')\n"
          ]
        },
        {
          "output_type": "stream",
          "name": "stdout",
          "text": [
            "  1: Train loss 0.4890, acc 0.8327%; validation loss 0.5453, acc 0.8092%\n",
            "  2: Train loss 0.7034, acc 0.8356%; validation loss 0.4757, acc 0.8272%\n",
            "  3: Train loss 0.4129, acc 0.8527%; validation loss 0.4218, acc 0.8415%\n",
            "  4: Train loss 0.3722, acc 0.8600%; validation loss 0.4041, acc 0.8423%\n",
            "  5: Train loss 0.3568, acc 0.8591%; validation loss 0.3910, acc 0.8415%\n",
            "  6: Train loss 0.3591, acc 0.8613%; validation loss 0.4063, acc 0.8458%\n",
            "  7: Train loss 0.3441, acc 0.8615%; validation loss 0.4243, acc 0.8460%\n",
            "  8: Train loss 0.3474, acc 0.8613%; validation loss 0.4306, acc 0.8480%\n",
            "  9: Train loss 0.3414, acc 0.8642%; validation loss 0.4261, acc 0.8465%\n",
            " 10: Train loss 1.4739, acc 0.8538%; validation loss 0.5908, acc 0.8373%\n",
            " 11: Train loss 0.5399, acc 0.8593%; validation loss 0.4941, acc 0.8430%\n",
            " 12: Train loss 0.3912, acc 0.8641%; validation loss 0.6115, acc 0.8468%\n",
            " 13: Train loss 0.3903, acc 0.8623%; validation loss 0.5408, acc 0.8490%\n",
            " 14: Train loss 0.3952, acc 0.8654%; validation loss 0.5728, acc 0.8500%\n",
            " 15: Train loss 0.3467, acc 0.8668%; validation loss 0.5164, acc 0.8483%\n",
            "Epoch 00016: reducing learning rate of group 0 to 5.0000e-03.\n",
            " 16: Train loss 0.3456, acc 0.8682%; validation loss 0.6270, acc 0.8428%\n",
            " 17: Train loss 0.3422, acc 0.8686%; validation loss 0.5702, acc 0.8475%\n",
            " 18: Train loss 0.3367, acc 0.8690%; validation loss 0.5536, acc 0.8500%\n",
            " 19: Train loss 0.3309, acc 0.8694%; validation loss 0.5778, acc 0.8473%\n",
            " 20: Train loss 0.3270, acc 0.8687%; validation loss 0.5129, acc 0.8508%\n",
            " 21: Train loss 0.3293, acc 0.8704%; validation loss 0.5039, acc 0.8483%\n",
            " 22: Train loss 0.3258, acc 0.8703%; validation loss 0.5088, acc 0.8493%\n",
            " 23: Train loss 0.3284, acc 0.8683%; validation loss 0.5315, acc 0.8465%\n",
            " 24: Train loss 0.3269, acc 0.8695%; validation loss 0.4445, acc 0.8490%\n",
            " 25: Train loss 0.3349, acc 0.8681%; validation loss 0.4111, acc 0.8508%\n",
            " 26: Train loss 0.3300, acc 0.8682%; validation loss 0.5040, acc 0.8513%\n",
            "Epoch 00027: reducing learning rate of group 0 to 2.5000e-03.\n",
            " 27: Train loss 0.3293, acc 0.8710%; validation loss 0.4522, acc 0.8515%\n",
            " 28: Train loss 0.3263, acc 0.8711%; validation loss 0.4614, acc 0.8518%\n",
            " 29: Train loss 0.3216, acc 0.8728%; validation loss 0.4888, acc 0.8498%\n",
            " 30: Train loss 0.3200, acc 0.8708%; validation loss 0.4943, acc 0.8505%\n",
            " 31: Train loss 0.3185, acc 0.8712%; validation loss 0.4886, acc 0.8495%\n",
            " 32: Train loss 0.3182, acc 0.8710%; validation loss 0.4966, acc 0.8490%\n",
            " 33: Train loss 0.3187, acc 0.8717%; validation loss 0.4774, acc 0.8515%\n",
            " 34: Train loss 0.3182, acc 0.8719%; validation loss 0.4695, acc 0.8508%\n",
            " 35: Train loss 0.3175, acc 0.8735%; validation loss 0.4810, acc 0.8465%\n",
            " 36: Train loss 0.3174, acc 0.8718%; validation loss 0.4713, acc 0.8493%\n",
            " 37: Train loss 0.3174, acc 0.8723%; validation loss 0.4870, acc 0.8508%\n",
            "Epoch 00038: reducing learning rate of group 0 to 1.2500e-03.\n",
            " 38: Train loss 0.3181, acc 0.8742%; validation loss 0.4922, acc 0.8515%\n",
            " 39: Train loss 0.3143, acc 0.8718%; validation loss 0.4689, acc 0.8523%\n",
            " 40: Train loss 0.3131, acc 0.8746%; validation loss 0.4760, acc 0.8510%\n",
            " 41: Train loss 0.3116, acc 0.8727%; validation loss 0.4756, acc 0.8523%\n",
            " 42: Train loss 0.3122, acc 0.8734%; validation loss 0.4886, acc 0.8500%\n",
            " 43: Train loss 0.3116, acc 0.8740%; validation loss 0.4715, acc 0.8508%\n",
            " 44: Train loss 0.3116, acc 0.8748%; validation loss 0.4729, acc 0.8525%\n",
            " 45: Train loss 0.3110, acc 0.8739%; validation loss 0.4622, acc 0.8523%\n",
            " 46: Train loss 0.3128, acc 0.8745%; validation loss 0.4731, acc 0.8490%\n",
            " 47: Train loss 0.3120, acc 0.8755%; validation loss 0.4637, acc 0.8505%\n",
            " 48: Train loss 0.3121, acc 0.8748%; validation loss 0.4809, acc 0.8485%\n",
            "Epoch 00049: reducing learning rate of group 0 to 6.2500e-04.\n",
            " 49: Train loss 0.3111, acc 0.8730%; validation loss 0.5085, acc 0.8488%\n",
            " 50: Train loss 0.3099, acc 0.8743%; validation loss 0.4667, acc 0.8490%\n",
            " 51: Train loss 0.3085, acc 0.8744%; validation loss 0.4643, acc 0.8490%\n",
            " 52: Train loss 0.3083, acc 0.8744%; validation loss 0.4731, acc 0.8485%\n",
            " 53: Train loss 0.3082, acc 0.8754%; validation loss 0.4615, acc 0.8510%\n",
            " 54: Train loss 0.3086, acc 0.8753%; validation loss 0.4562, acc 0.8510%\n",
            " 55: Train loss 0.3078, acc 0.8751%; validation loss 0.4464, acc 0.8498%\n",
            " 56: Train loss 0.3081, acc 0.8754%; validation loss 0.4452, acc 0.8508%\n",
            " 57: Train loss 0.3078, acc 0.8744%; validation loss 0.4537, acc 0.8465%\n",
            " 58: Train loss 0.3078, acc 0.8758%; validation loss 0.4345, acc 0.8498%\n",
            " 59: Train loss 0.3079, acc 0.8751%; validation loss 0.4538, acc 0.8468%\n",
            "Epoch 00060: reducing learning rate of group 0 to 3.1250e-04.\n",
            " 60: Train loss 0.3079, acc 0.8754%; validation loss 0.4374, acc 0.8500%\n",
            " 61: Train loss 0.3062, acc 0.8767%; validation loss 0.4304, acc 0.8513%\n",
            " 62: Train loss 0.3062, acc 0.8757%; validation loss 0.4452, acc 0.8495%\n",
            " 63: Train loss 0.3060, acc 0.8765%; validation loss 0.4391, acc 0.8498%\n",
            " 64: Train loss 0.3059, acc 0.8767%; validation loss 0.4360, acc 0.8493%\n",
            " 65: Train loss 0.3057, acc 0.8753%; validation loss 0.4327, acc 0.8508%\n",
            " 66: Train loss 0.3058, acc 0.8764%; validation loss 0.4394, acc 0.8488%\n",
            " 67: Train loss 0.3055, acc 0.8774%; validation loss 0.4287, acc 0.8485%\n",
            " 68: Train loss 0.3055, acc 0.8772%; validation loss 0.4202, acc 0.8498%\n",
            " 69: Train loss 0.3053, acc 0.8767%; validation loss 0.4156, acc 0.8498%\n",
            " 70: Train loss 0.3054, acc 0.8763%; validation loss 0.4133, acc 0.8490%\n",
            "Epoch 00071: reducing learning rate of group 0 to 1.5625e-04.\n",
            " 71: Train loss 0.3054, acc 0.8769%; validation loss 0.4123, acc 0.8503%\n",
            " 72: Train loss 0.3044, acc 0.8772%; validation loss 0.4099, acc 0.8498%\n",
            " 73: Train loss 0.3044, acc 0.8770%; validation loss 0.4097, acc 0.8488%\n",
            " 74: Train loss 0.3044, acc 0.8780%; validation loss 0.4045, acc 0.8500%\n",
            " 75: Train loss 0.3041, acc 0.8772%; validation loss 0.4052, acc 0.8500%\n",
            " 76: Train loss 0.3045, acc 0.8781%; validation loss 0.4004, acc 0.8500%\n",
            " 77: Train loss 0.3041, acc 0.8779%; validation loss 0.4023, acc 0.8495%\n",
            " 78: Train loss 0.3041, acc 0.8784%; validation loss 0.4030, acc 0.8508%\n",
            " 79: Train loss 0.3040, acc 0.8774%; validation loss 0.4011, acc 0.8490%\n",
            " 80: Train loss 0.3041, acc 0.8779%; validation loss 0.3923, acc 0.8508%\n",
            " 81: Train loss 0.3041, acc 0.8776%; validation loss 0.3930, acc 0.8513%\n",
            "Epoch 00082: reducing learning rate of group 0 to 7.8125e-05.\n",
            " 82: Train loss 0.3040, acc 0.8779%; validation loss 0.3926, acc 0.8508%\n",
            " 83: Train loss 0.3035, acc 0.8772%; validation loss 0.3914, acc 0.8513%\n",
            " 84: Train loss 0.3035, acc 0.8779%; validation loss 0.3929, acc 0.8505%\n",
            " 85: Train loss 0.3034, acc 0.8781%; validation loss 0.3919, acc 0.8510%\n",
            " 86: Train loss 0.3034, acc 0.8783%; validation loss 0.3932, acc 0.8505%\n",
            " 87: Train loss 0.3034, acc 0.8785%; validation loss 0.3975, acc 0.8503%\n",
            " 88: Train loss 0.3033, acc 0.8774%; validation loss 0.3944, acc 0.8503%\n",
            " 89: Train loss 0.3033, acc 0.8781%; validation loss 0.3933, acc 0.8513%\n",
            " 90: Train loss 0.3032, acc 0.8775%; validation loss 0.3914, acc 0.8505%\n",
            " 91: Train loss 0.3034, acc 0.8783%; validation loss 0.3886, acc 0.8513%\n",
            " 92: Train loss 0.3032, acc 0.8782%; validation loss 0.3908, acc 0.8513%\n",
            " 93: Train loss 0.3033, acc 0.8777%; validation loss 0.3891, acc 0.8503%\n",
            " 94: Train loss 0.3032, acc 0.8786%; validation loss 0.3862, acc 0.8510%\n",
            " 95: Train loss 0.3032, acc 0.8787%; validation loss 0.3872, acc 0.8500%\n",
            " 96: Train loss 0.3031, acc 0.8780%; validation loss 0.3898, acc 0.8503%\n",
            " 97: Train loss 0.3032, acc 0.8779%; validation loss 0.3876, acc 0.8510%\n",
            " 98: Train loss 0.3031, acc 0.8786%; validation loss 0.3853, acc 0.8503%\n",
            " 99: Train loss 0.3031, acc 0.8782%; validation loss 0.3852, acc 0.8505%\n",
            "100: Train loss 0.3031, acc 0.8784%; validation loss 0.3867, acc 0.8508%\n",
            "101: Train loss 0.3031, acc 0.8786%; validation loss 0.3840, acc 0.8503%\n",
            "102: Train loss 0.3030, acc 0.8789%; validation loss 0.3989, acc 0.8498%\n",
            "103: Train loss 0.3029, acc 0.8784%; validation loss 0.3955, acc 0.8503%\n",
            "104: Train loss 0.3031, acc 0.8782%; validation loss 0.3948, acc 0.8518%\n",
            "105: Train loss 0.3030, acc 0.8786%; validation loss 0.3927, acc 0.8510%\n",
            "106: Train loss 0.3029, acc 0.8786%; validation loss 0.3910, acc 0.8508%\n",
            "107: Train loss 0.3029, acc 0.8789%; validation loss 0.3917, acc 0.8510%\n",
            "108: Train loss 0.3028, acc 0.8785%; validation loss 0.3926, acc 0.8500%\n",
            "109: Train loss 0.3028, acc 0.8780%; validation loss 0.3906, acc 0.8513%\n",
            "110: Train loss 0.3028, acc 0.8793%; validation loss 0.3882, acc 0.8500%\n",
            "111: Train loss 0.3028, acc 0.8779%; validation loss 0.3887, acc 0.8518%\n",
            "112: Train loss 0.3028, acc 0.8785%; validation loss 0.3826, acc 0.8505%\n",
            "113: Train loss 0.3029, acc 0.8789%; validation loss 0.3836, acc 0.8515%\n",
            "114: Train loss 0.3027, acc 0.8787%; validation loss 0.3848, acc 0.8500%\n",
            "115: Train loss 0.3028, acc 0.8787%; validation loss 0.3831, acc 0.8503%\n",
            "116: Train loss 0.3028, acc 0.8784%; validation loss 0.3828, acc 0.8515%\n",
            "117: Train loss 0.3028, acc 0.8785%; validation loss 0.3837, acc 0.8498%\n",
            "118: Train loss 0.3028, acc 0.8787%; validation loss 0.3790, acc 0.8510%\n",
            "119: Train loss 0.3027, acc 0.8786%; validation loss 0.3815, acc 0.8520%\n",
            "120: Train loss 0.3026, acc 0.8782%; validation loss 0.3805, acc 0.8513%\n",
            "121: Train loss 0.3027, acc 0.8782%; validation loss 0.3779, acc 0.8508%\n",
            "122: Train loss 0.3026, acc 0.8782%; validation loss 0.3807, acc 0.8518%\n",
            "123: Train loss 0.3026, acc 0.8782%; validation loss 0.3826, acc 0.8513%\n",
            "124: Train loss 0.3026, acc 0.8786%; validation loss 0.3781, acc 0.8513%\n",
            "125: Train loss 0.3024, acc 0.8791%; validation loss 0.3776, acc 0.8515%\n",
            "126: Train loss 0.3026, acc 0.8789%; validation loss 0.3778, acc 0.8515%\n",
            "127: Train loss 0.3025, acc 0.8784%; validation loss 0.3790, acc 0.8518%\n",
            "128: Train loss 0.3025, acc 0.8784%; validation loss 0.3784, acc 0.8513%\n",
            "129: Train loss 0.3023, acc 0.8782%; validation loss 0.3787, acc 0.8508%\n",
            "130: Train loss 0.3025, acc 0.8784%; validation loss 0.3795, acc 0.8520%\n",
            "131: Train loss 0.3025, acc 0.8787%; validation loss 0.3768, acc 0.8510%\n",
            "132: Train loss 0.3024, acc 0.8787%; validation loss 0.3857, acc 0.8503%\n",
            "133: Train loss 0.3024, acc 0.8787%; validation loss 0.3825, acc 0.8515%\n",
            "134: Train loss 0.3024, acc 0.8792%; validation loss 0.3794, acc 0.8508%\n",
            "135: Train loss 0.3022, acc 0.8784%; validation loss 0.3805, acc 0.8498%\n",
            "136: Train loss 0.3024, acc 0.8787%; validation loss 0.3761, acc 0.8518%\n",
            "137: Train loss 0.3024, acc 0.8787%; validation loss 0.3769, acc 0.8513%\n",
            "138: Train loss 0.3026, acc 0.8785%; validation loss 0.3812, acc 0.8523%\n",
            "139: Train loss 0.3023, acc 0.8781%; validation loss 0.3795, acc 0.8505%\n",
            "140: Train loss 0.3023, acc 0.8782%; validation loss 0.3770, acc 0.8508%\n",
            "141: Train loss 0.3023, acc 0.8786%; validation loss 0.3773, acc 0.8518%\n",
            "142: Train loss 0.3022, acc 0.8792%; validation loss 0.3759, acc 0.8515%\n",
            "143: Train loss 0.3024, acc 0.8787%; validation loss 0.3784, acc 0.8508%\n",
            "144: Train loss 0.3023, acc 0.8786%; validation loss 0.3738, acc 0.8518%\n",
            "145: Train loss 0.3023, acc 0.8784%; validation loss 0.3718, acc 0.8518%\n",
            "146: Train loss 0.3022, acc 0.8786%; validation loss 0.3737, acc 0.8515%\n",
            "147: Train loss 0.3023, acc 0.8787%; validation loss 0.3737, acc 0.8520%\n",
            "148: Train loss 0.3022, acc 0.8789%; validation loss 0.3716, acc 0.8523%\n",
            "149: Train loss 0.3022, acc 0.8794%; validation loss 0.3748, acc 0.8523%\n",
            "150: Train loss 0.3021, acc 0.8791%; validation loss 0.3738, acc 0.8515%\n",
            "151: Train loss 0.3021, acc 0.8781%; validation loss 0.3776, acc 0.8508%\n",
            "152: Train loss 0.3020, acc 0.8784%; validation loss 0.3766, acc 0.8503%\n",
            "153: Train loss 0.3020, acc 0.8795%; validation loss 0.3740, acc 0.8523%\n",
            "154: Train loss 0.3021, acc 0.8788%; validation loss 0.3699, acc 0.8508%\n",
            "155: Train loss 0.3021, acc 0.8786%; validation loss 0.3842, acc 0.8503%\n",
            "156: Train loss 0.3021, acc 0.8791%; validation loss 0.3843, acc 0.8503%\n",
            "157: Train loss 0.3019, acc 0.8787%; validation loss 0.3831, acc 0.8508%\n",
            "158: Train loss 0.3020, acc 0.8787%; validation loss 0.3825, acc 0.8515%\n",
            "159: Train loss 0.3021, acc 0.8787%; validation loss 0.3800, acc 0.8513%\n",
            "160: Train loss 0.3020, acc 0.8776%; validation loss 0.3780, acc 0.8503%\n",
            "161: Train loss 0.3019, acc 0.8789%; validation loss 0.3789, acc 0.8510%\n",
            "162: Train loss 0.3018, acc 0.8789%; validation loss 0.3769, acc 0.8510%\n",
            "163: Train loss 0.3021, acc 0.8787%; validation loss 0.3830, acc 0.8508%\n",
            "164: Train loss 0.3019, acc 0.8789%; validation loss 0.3839, acc 0.8505%\n",
            "Epoch 00165: reducing learning rate of group 0 to 3.9063e-05.\n",
            "165: Train loss 0.3019, acc 0.8784%; validation loss 0.3806, acc 0.8503%\n",
            "166: Train loss 0.3016, acc 0.8791%; validation loss 0.3798, acc 0.8495%\n",
            "167: Train loss 0.3016, acc 0.8792%; validation loss 0.3794, acc 0.8495%\n",
            "168: Train loss 0.3016, acc 0.8788%; validation loss 0.3789, acc 0.8498%\n",
            "169: Train loss 0.3016, acc 0.8795%; validation loss 0.3776, acc 0.8510%\n",
            "170: Train loss 0.3015, acc 0.8791%; validation loss 0.3779, acc 0.8500%\n",
            "171: Train loss 0.3016, acc 0.8792%; validation loss 0.3781, acc 0.8505%\n",
            "172: Train loss 0.3016, acc 0.8788%; validation loss 0.3758, acc 0.8510%\n",
            "173: Train loss 0.3016, acc 0.8786%; validation loss 0.3745, acc 0.8500%\n",
            "174: Train loss 0.3016, acc 0.8791%; validation loss 0.3745, acc 0.8508%\n",
            "175: Train loss 0.3015, acc 0.8792%; validation loss 0.3757, acc 0.8505%\n",
            "Epoch 00176: reducing learning rate of group 0 to 1.9531e-05.\n",
            "176: Train loss 0.3015, acc 0.8785%; validation loss 0.3761, acc 0.8510%\n",
            "177: Train loss 0.3013, acc 0.8794%; validation loss 0.3761, acc 0.8503%\n",
            "178: Train loss 0.3015, acc 0.8795%; validation loss 0.3756, acc 0.8503%\n",
            "179: Train loss 0.3013, acc 0.8796%; validation loss 0.3758, acc 0.8500%\n",
            "180: Train loss 0.3013, acc 0.8797%; validation loss 0.3763, acc 0.8505%\n",
            "181: Train loss 0.3014, acc 0.8787%; validation loss 0.3791, acc 0.8503%\n",
            "182: Train loss 0.3014, acc 0.8796%; validation loss 0.3780, acc 0.8500%\n",
            "183: Train loss 0.3013, acc 0.8796%; validation loss 0.3774, acc 0.8498%\n",
            "184: Train loss 0.3014, acc 0.8786%; validation loss 0.3770, acc 0.8503%\n",
            "185: Train loss 0.3015, acc 0.8792%; validation loss 0.3775, acc 0.8498%\n",
            "186: Train loss 0.3013, acc 0.8789%; validation loss 0.3775, acc 0.8500%\n",
            "Epoch 00187: reducing learning rate of group 0 to 9.7656e-06.\n",
            "187: Train loss 0.3013, acc 0.8792%; validation loss 0.3765, acc 0.8503%\n",
            "188: Train loss 0.3013, acc 0.8794%; validation loss 0.3762, acc 0.8503%\n",
            "189: Train loss 0.3012, acc 0.8796%; validation loss 0.3765, acc 0.8500%\n",
            "190: Train loss 0.3013, acc 0.8796%; validation loss 0.3765, acc 0.8503%\n",
            "191: Train loss 0.3012, acc 0.8796%; validation loss 0.3761, acc 0.8500%\n",
            "192: Train loss 0.3013, acc 0.8797%; validation loss 0.3762, acc 0.8503%\n",
            "193: Train loss 0.3012, acc 0.8798%; validation loss 0.3762, acc 0.8503%\n",
            "194: Train loss 0.3012, acc 0.8796%; validation loss 0.3758, acc 0.8503%\n",
            "195: Train loss 0.3013, acc 0.8792%; validation loss 0.3757, acc 0.8503%\n",
            "196: Train loss 0.3013, acc 0.8797%; validation loss 0.3758, acc 0.8500%\n",
            "197: Train loss 0.3012, acc 0.8797%; validation loss 0.3763, acc 0.8500%\n",
            "Epoch 00198: reducing learning rate of group 0 to 4.8828e-06.\n",
            "198: Train loss 0.3012, acc 0.8797%; validation loss 0.3765, acc 0.8503%\n",
            "199: Train loss 0.3012, acc 0.8796%; validation loss 0.3764, acc 0.8500%\n",
            "200: Train loss 0.3012, acc 0.8797%; validation loss 0.3763, acc 0.8500%\n",
            "201: Train loss 0.3012, acc 0.8797%; validation loss 0.3762, acc 0.8500%\n",
            "202: Train loss 0.3012, acc 0.8795%; validation loss 0.3761, acc 0.8500%\n",
            "203: Train loss 0.3011, acc 0.8797%; validation loss 0.3758, acc 0.8500%\n",
            "204: Train loss 0.3011, acc 0.8796%; validation loss 0.3757, acc 0.8503%\n",
            "205: Train loss 0.3011, acc 0.8797%; validation loss 0.3757, acc 0.8503%\n",
            "206: Train loss 0.3012, acc 0.8793%; validation loss 0.3758, acc 0.8503%\n",
            "207: Train loss 0.3011, acc 0.8796%; validation loss 0.3757, acc 0.8503%\n",
            "208: Train loss 0.3011, acc 0.8796%; validation loss 0.3758, acc 0.8503%\n",
            "Epoch 00209: reducing learning rate of group 0 to 2.4414e-06.\n",
            "209: Train loss 0.3011, acc 0.8796%; validation loss 0.3761, acc 0.8503%\n",
            "210: Train loss 0.3012, acc 0.8797%; validation loss 0.3762, acc 0.8503%\n",
            "211: Train loss 0.3011, acc 0.8797%; validation loss 0.3763, acc 0.8503%\n",
            "212: Train loss 0.3011, acc 0.8797%; validation loss 0.3764, acc 0.8503%\n",
            "213: Train loss 0.3012, acc 0.8795%; validation loss 0.3763, acc 0.8503%\n",
            "214: Train loss 0.3011, acc 0.8796%; validation loss 0.3763, acc 0.8503%\n",
            "215: Train loss 0.3011, acc 0.8797%; validation loss 0.3761, acc 0.8503%\n",
            "216: Train loss 0.3011, acc 0.8796%; validation loss 0.3761, acc 0.8503%\n",
            "217: Train loss 0.3012, acc 0.8796%; validation loss 0.3760, acc 0.8503%\n",
            "218: Train loss 0.3011, acc 0.8796%; validation loss 0.3759, acc 0.8503%\n",
            "219: Train loss 0.3011, acc 0.8797%; validation loss 0.3759, acc 0.8503%\n",
            "Epoch 00220: reducing learning rate of group 0 to 1.2207e-06.\n",
            "220: Train loss 0.3011, acc 0.8797%; validation loss 0.3757, acc 0.8503%\n",
            "221: Train loss 0.3012, acc 0.8797%; validation loss 0.3756, acc 0.8503%\n",
            "222: Train loss 0.3012, acc 0.8797%; validation loss 0.3755, acc 0.8503%\n",
            "223: Train loss 0.3012, acc 0.8796%; validation loss 0.3754, acc 0.8503%\n",
            "224: Train loss 0.3011, acc 0.8797%; validation loss 0.3754, acc 0.8503%\n",
            "225: Train loss 0.3011, acc 0.8797%; validation loss 0.3754, acc 0.8503%\n",
            "226: Train loss 0.3012, acc 0.8796%; validation loss 0.3753, acc 0.8503%\n",
            "227: Train loss 0.3013, acc 0.8795%; validation loss 0.3754, acc 0.8503%\n",
            "228: Train loss 0.3011, acc 0.8796%; validation loss 0.3753, acc 0.8503%\n",
            "229: Train loss 0.3011, acc 0.8796%; validation loss 0.3752, acc 0.8503%\n",
            "230: Train loss 0.3011, acc 0.8796%; validation loss 0.3752, acc 0.8503%\n",
            "Epoch 00231: reducing learning rate of group 0 to 6.1035e-07.\n",
            "231: Train loss 0.3011, acc 0.8797%; validation loss 0.3751, acc 0.8503%\n",
            "232: Train loss 0.3012, acc 0.8796%; validation loss 0.3751, acc 0.8503%\n",
            "233: Train loss 0.3011, acc 0.8796%; validation loss 0.3751, acc 0.8503%\n",
            "234: Train loss 0.3011, acc 0.8796%; validation loss 0.3751, acc 0.8503%\n",
            "235: Train loss 0.3010, acc 0.8796%; validation loss 0.3751, acc 0.8503%\n",
            "236: Train loss 0.3011, acc 0.8796%; validation loss 0.3751, acc 0.8503%\n",
            "237: Train loss 0.3010, acc 0.8796%; validation loss 0.3751, acc 0.8503%\n",
            "238: Train loss 0.3011, acc 0.8796%; validation loss 0.3751, acc 0.8503%\n",
            "239: Train loss 0.3011, acc 0.8796%; validation loss 0.3751, acc 0.8503%\n",
            "240: Train loss 0.3010, acc 0.8797%; validation loss 0.3751, acc 0.8503%\n",
            "241: Train loss 0.3011, acc 0.8795%; validation loss 0.3751, acc 0.8503%\n",
            "Epoch 00242: reducing learning rate of group 0 to 3.0518e-07.\n",
            "242: Train loss 0.3011, acc 0.8797%; validation loss 0.3751, acc 0.8503%\n",
            "243: Train loss 0.3011, acc 0.8796%; validation loss 0.3751, acc 0.8503%\n",
            "244: Train loss 0.3012, acc 0.8796%; validation loss 0.3751, acc 0.8503%\n",
            "245: Train loss 0.3011, acc 0.8796%; validation loss 0.3751, acc 0.8503%\n",
            "246: Train loss 0.3011, acc 0.8796%; validation loss 0.3751, acc 0.8503%\n",
            "247: Train loss 0.3011, acc 0.8796%; validation loss 0.3750, acc 0.8503%\n",
            "248: Train loss 0.3011, acc 0.8796%; validation loss 0.3750, acc 0.8503%\n",
            "249: Train loss 0.3011, acc 0.8796%; validation loss 0.3750, acc 0.8503%\n",
            "250: Train loss 0.3013, acc 0.8796%; validation loss 0.3750, acc 0.8503%\n",
            "251: Train loss 0.3011, acc 0.8796%; validation loss 0.3750, acc 0.8503%\n",
            "252: Train loss 0.3012, acc 0.8796%; validation loss 0.3750, acc 0.8503%\n",
            "Epoch 00253: reducing learning rate of group 0 to 1.5259e-07.\n",
            "253: Train loss 0.3013, acc 0.8795%; validation loss 0.3750, acc 0.8503%\n",
            "254: Train loss 0.3011, acc 0.8796%; validation loss 0.3750, acc 0.8503%\n",
            "255: Train loss 0.3011, acc 0.8796%; validation loss 0.3750, acc 0.8503%\n",
            "256: Train loss 0.3011, acc 0.8796%; validation loss 0.3750, acc 0.8503%\n",
            "257: Train loss 0.3013, acc 0.8796%; validation loss 0.3750, acc 0.8503%\n",
            "258: Train loss 0.3011, acc 0.8796%; validation loss 0.3750, acc 0.8503%\n",
            "259: Train loss 0.3011, acc 0.8796%; validation loss 0.3750, acc 0.8503%\n",
            "260: Train loss 0.3011, acc 0.8796%; validation loss 0.3750, acc 0.8503%\n",
            "261: Train loss 0.3014, acc 0.8795%; validation loss 0.3750, acc 0.8503%\n",
            "262: Train loss 0.3011, acc 0.8796%; validation loss 0.3750, acc 0.8503%\n",
            "263: Train loss 0.3011, acc 0.8796%; validation loss 0.3750, acc 0.8503%\n",
            "Epoch 00264: reducing learning rate of group 0 to 7.6294e-08.\n",
            "264: Train loss 0.3010, acc 0.8796%; validation loss 0.3750, acc 0.8503%\n",
            "265: Train loss 0.3011, acc 0.8796%; validation loss 0.3750, acc 0.8503%\n",
            "266: Train loss 0.3012, acc 0.8796%; validation loss 0.3750, acc 0.8503%\n",
            "267: Train loss 0.3010, acc 0.8796%; validation loss 0.3750, acc 0.8503%\n",
            "268: Train loss 0.3011, acc 0.8796%; validation loss 0.3750, acc 0.8503%\n",
            "269: Train loss 0.3012, acc 0.8796%; validation loss 0.3750, acc 0.8503%\n",
            "270: Train loss 0.3011, acc 0.8796%; validation loss 0.3750, acc 0.8503%\n",
            "271: Train loss 0.3010, acc 0.8797%; validation loss 0.3750, acc 0.8503%\n",
            "272: Train loss 0.3010, acc 0.8796%; validation loss 0.3750, acc 0.8503%\n",
            "273: Train loss 0.3011, acc 0.8796%; validation loss 0.3750, acc 0.8503%\n",
            "274: Train loss 0.3012, acc 0.8796%; validation loss 0.3750, acc 0.8503%\n",
            "Epoch 00275: reducing learning rate of group 0 to 3.8147e-08.\n",
            "275: Train loss 0.3010, acc 0.8796%; validation loss 0.3750, acc 0.8503%\n",
            "276: Train loss 0.3011, acc 0.8796%; validation loss 0.3750, acc 0.8503%\n",
            "277: Train loss 0.3011, acc 0.8796%; validation loss 0.3750, acc 0.8503%\n",
            "278: Train loss 0.3011, acc 0.8796%; validation loss 0.3750, acc 0.8503%\n",
            "279: Train loss 0.3011, acc 0.8796%; validation loss 0.3750, acc 0.8503%\n",
            "280: Train loss 0.3011, acc 0.8796%; validation loss 0.3750, acc 0.8503%\n",
            "281: Train loss 0.3011, acc 0.8796%; validation loss 0.3750, acc 0.8503%\n",
            "282: Train loss 0.3011, acc 0.8796%; validation loss 0.3750, acc 0.8503%\n",
            "283: Train loss 0.3011, acc 0.8796%; validation loss 0.3750, acc 0.8503%\n",
            "284: Train loss 0.3011, acc 0.8796%; validation loss 0.3750, acc 0.8503%\n",
            "285: Train loss 0.3011, acc 0.8796%; validation loss 0.3750, acc 0.8503%\n",
            "Epoch 00286: reducing learning rate of group 0 to 1.9073e-08.\n",
            "286: Train loss 0.3011, acc 0.8796%; validation loss 0.3750, acc 0.8503%\n",
            "287: Train loss 0.3011, acc 0.8796%; validation loss 0.3750, acc 0.8503%\n",
            "288: Train loss 0.3011, acc 0.8796%; validation loss 0.3750, acc 0.8503%\n",
            "289: Train loss 0.3011, acc 0.8796%; validation loss 0.3750, acc 0.8503%\n",
            "290: Train loss 0.3011, acc 0.8796%; validation loss 0.3750, acc 0.8503%\n",
            "291: Train loss 0.3012, acc 0.8795%; validation loss 0.3750, acc 0.8503%\n",
            "292: Train loss 0.3013, acc 0.8796%; validation loss 0.3750, acc 0.8503%\n",
            "293: Train loss 0.3011, acc 0.8796%; validation loss 0.3750, acc 0.8503%\n",
            "294: Train loss 0.3010, acc 0.8797%; validation loss 0.3750, acc 0.8503%\n",
            "295: Train loss 0.3011, acc 0.8796%; validation loss 0.3750, acc 0.8503%\n",
            "296: Train loss 0.3010, acc 0.8796%; validation loss 0.3750, acc 0.8503%\n",
            "297: Train loss 0.3010, acc 0.8796%; validation loss 0.3750, acc 0.8503%\n",
            "298: Train loss 0.3011, acc 0.8796%; validation loss 0.3750, acc 0.8503%\n",
            "299: Train loss 0.3011, acc 0.8796%; validation loss 0.3750, acc 0.8503%\n",
            "300: Train loss 0.3011, acc 0.8796%; validation loss 0.3750, acc 0.8503%\n",
            "301: Train loss 0.3011, acc 0.8796%; validation loss 0.3750, acc 0.8503%\n",
            "302: Train loss 0.3011, acc 0.8796%; validation loss 0.3750, acc 0.8503%\n",
            "303: Train loss 0.3011, acc 0.8796%; validation loss 0.3750, acc 0.8503%\n",
            "304: Train loss 0.3011, acc 0.8796%; validation loss 0.3750, acc 0.8503%\n",
            "305: Train loss 0.3011, acc 0.8796%; validation loss 0.3750, acc 0.8503%\n",
            "306: Train loss 0.3011, acc 0.8796%; validation loss 0.3750, acc 0.8503%\n",
            "307: Train loss 0.3013, acc 0.8796%; validation loss 0.3750, acc 0.8503%\n",
            "308: Train loss 0.3012, acc 0.8796%; validation loss 0.3750, acc 0.8503%\n",
            "309: Train loss 0.3011, acc 0.8796%; validation loss 0.3750, acc 0.8503%\n",
            "310: Train loss 0.3011, acc 0.8796%; validation loss 0.3750, acc 0.8503%\n",
            "311: Train loss 0.3011, acc 0.8796%; validation loss 0.3750, acc 0.8503%\n",
            "312: Train loss 0.3011, acc 0.8796%; validation loss 0.3750, acc 0.8503%\n",
            "313: Train loss 0.3012, acc 0.8796%; validation loss 0.3750, acc 0.8503%\n",
            "314: Train loss 0.3011, acc 0.8796%; validation loss 0.3750, acc 0.8503%\n",
            "315: Train loss 0.3013, acc 0.8796%; validation loss 0.3750, acc 0.8503%\n",
            "316: Train loss 0.3011, acc 0.8795%; validation loss 0.3750, acc 0.8503%\n",
            "317: Train loss 0.3011, acc 0.8797%; validation loss 0.3750, acc 0.8503%\n",
            "318: Train loss 0.3013, acc 0.8796%; validation loss 0.3750, acc 0.8503%\n",
            "319: Train loss 0.3011, acc 0.8796%; validation loss 0.3750, acc 0.8503%\n",
            "320: Train loss 0.3011, acc 0.8796%; validation loss 0.3750, acc 0.8503%\n",
            "321: Train loss 0.3012, acc 0.8796%; validation loss 0.3750, acc 0.8503%\n",
            "322: Train loss 0.3012, acc 0.8796%; validation loss 0.3750, acc 0.8503%\n",
            "323: Train loss 0.3012, acc 0.8796%; validation loss 0.3750, acc 0.8503%\n",
            "324: Train loss 0.3011, acc 0.8796%; validation loss 0.3750, acc 0.8503%\n",
            "325: Train loss 0.3011, acc 0.8796%; validation loss 0.3750, acc 0.8503%\n",
            "326: Train loss 0.3012, acc 0.8796%; validation loss 0.3750, acc 0.8503%\n",
            "327: Train loss 0.3011, acc 0.8796%; validation loss 0.3750, acc 0.8503%\n",
            "328: Train loss 0.3011, acc 0.8796%; validation loss 0.3750, acc 0.8503%\n",
            "329: Train loss 0.3010, acc 0.8796%; validation loss 0.3750, acc 0.8503%\n",
            "330: Train loss 0.3011, acc 0.8796%; validation loss 0.3750, acc 0.8503%\n",
            "331: Train loss 0.3011, acc 0.8796%; validation loss 0.3750, acc 0.8503%\n",
            "332: Train loss 0.3011, acc 0.8796%; validation loss 0.3750, acc 0.8503%\n",
            "333: Train loss 0.3013, acc 0.8796%; validation loss 0.3750, acc 0.8503%\n",
            "334: Train loss 0.3011, acc 0.8796%; validation loss 0.3750, acc 0.8503%\n",
            "335: Train loss 0.3011, acc 0.8796%; validation loss 0.3750, acc 0.8503%\n",
            "336: Train loss 0.3012, acc 0.8796%; validation loss 0.3750, acc 0.8503%\n",
            "337: Train loss 0.3012, acc 0.8796%; validation loss 0.3750, acc 0.8503%\n",
            "338: Train loss 0.3010, acc 0.8796%; validation loss 0.3750, acc 0.8503%\n",
            "339: Train loss 0.3012, acc 0.8796%; validation loss 0.3750, acc 0.8503%\n",
            "340: Train loss 0.3011, acc 0.8796%; validation loss 0.3750, acc 0.8503%\n",
            "341: Train loss 0.3012, acc 0.8796%; validation loss 0.3750, acc 0.8503%\n",
            "342: Train loss 0.3011, acc 0.8796%; validation loss 0.3750, acc 0.8503%\n",
            "343: Train loss 0.3011, acc 0.8796%; validation loss 0.3750, acc 0.8503%\n",
            "344: Train loss 0.3012, acc 0.8796%; validation loss 0.3750, acc 0.8503%\n",
            "345: Train loss 0.3011, acc 0.8796%; validation loss 0.3750, acc 0.8503%\n",
            "346: Train loss 0.3012, acc 0.8795%; validation loss 0.3750, acc 0.8503%\n",
            "347: Train loss 0.3010, acc 0.8796%; validation loss 0.3750, acc 0.8503%\n",
            "348: Train loss 0.3011, acc 0.8796%; validation loss 0.3750, acc 0.8503%\n",
            "349: Train loss 0.3011, acc 0.8796%; validation loss 0.3750, acc 0.8503%\n",
            "350: Train loss 0.3011, acc 0.8796%; validation loss 0.3750, acc 0.8503%\n",
            "351: Train loss 0.3010, acc 0.8796%; validation loss 0.3750, acc 0.8503%\n",
            "352: Train loss 0.3010, acc 0.8796%; validation loss 0.3750, acc 0.8503%\n",
            "353: Train loss 0.3012, acc 0.8796%; validation loss 0.3750, acc 0.8503%\n",
            "354: Train loss 0.3011, acc 0.8796%; validation loss 0.3750, acc 0.8503%\n",
            "355: Train loss 0.3011, acc 0.8796%; validation loss 0.3750, acc 0.8503%\n",
            "356: Train loss 0.3011, acc 0.8796%; validation loss 0.3750, acc 0.8503%\n",
            "357: Train loss 0.3011, acc 0.8796%; validation loss 0.3750, acc 0.8503%\n",
            "358: Train loss 0.3010, acc 0.8796%; validation loss 0.3750, acc 0.8503%\n",
            "359: Train loss 0.3010, acc 0.8796%; validation loss 0.3750, acc 0.8503%\n",
            "360: Train loss 0.3012, acc 0.8796%; validation loss 0.3750, acc 0.8503%\n",
            "361: Train loss 0.3012, acc 0.8796%; validation loss 0.3750, acc 0.8503%\n",
            "362: Train loss 0.3012, acc 0.8796%; validation loss 0.3750, acc 0.8503%\n",
            "363: Train loss 0.3011, acc 0.8796%; validation loss 0.3750, acc 0.8503%\n",
            "364: Train loss 0.3011, acc 0.8796%; validation loss 0.3750, acc 0.8503%\n",
            "365: Train loss 0.3010, acc 0.8796%; validation loss 0.3750, acc 0.8503%\n",
            "366: Train loss 0.3011, acc 0.8797%; validation loss 0.3750, acc 0.8503%\n",
            "367: Train loss 0.3012, acc 0.8795%; validation loss 0.3750, acc 0.8503%\n",
            "368: Train loss 0.3010, acc 0.8797%; validation loss 0.3750, acc 0.8503%\n",
            "369: Train loss 0.3011, acc 0.8796%; validation loss 0.3750, acc 0.8503%\n",
            "370: Train loss 0.3011, acc 0.8797%; validation loss 0.3750, acc 0.8503%\n",
            "371: Train loss 0.3012, acc 0.8796%; validation loss 0.3750, acc 0.8503%\n",
            "372: Train loss 0.3011, acc 0.8796%; validation loss 0.3750, acc 0.8503%\n",
            "373: Train loss 0.3011, acc 0.8796%; validation loss 0.3750, acc 0.8503%\n",
            "374: Train loss 0.3011, acc 0.8796%; validation loss 0.3750, acc 0.8503%\n",
            "375: Train loss 0.3011, acc 0.8796%; validation loss 0.3750, acc 0.8503%\n",
            "376: Train loss 0.3012, acc 0.8796%; validation loss 0.3750, acc 0.8503%\n",
            "377: Train loss 0.3011, acc 0.8796%; validation loss 0.3750, acc 0.8503%\n",
            "378: Train loss 0.3010, acc 0.8796%; validation loss 0.3750, acc 0.8503%\n",
            "379: Train loss 0.3011, acc 0.8796%; validation loss 0.3750, acc 0.8503%\n",
            "380: Train loss 0.3011, acc 0.8796%; validation loss 0.3750, acc 0.8503%\n",
            "381: Train loss 0.3012, acc 0.8796%; validation loss 0.3750, acc 0.8503%\n",
            "382: Train loss 0.3012, acc 0.8796%; validation loss 0.3750, acc 0.8503%\n",
            "383: Train loss 0.3011, acc 0.8796%; validation loss 0.3750, acc 0.8503%\n",
            "384: Train loss 0.3012, acc 0.8796%; validation loss 0.3750, acc 0.8503%\n",
            "385: Train loss 0.3013, acc 0.8796%; validation loss 0.3750, acc 0.8503%\n",
            "386: Train loss 0.3012, acc 0.8796%; validation loss 0.3750, acc 0.8503%\n",
            "387: Train loss 0.3011, acc 0.8796%; validation loss 0.3750, acc 0.8503%\n",
            "388: Train loss 0.3011, acc 0.8796%; validation loss 0.3750, acc 0.8503%\n",
            "389: Train loss 0.3011, acc 0.8796%; validation loss 0.3750, acc 0.8503%\n",
            "390: Train loss 0.3013, acc 0.8796%; validation loss 0.3750, acc 0.8503%\n",
            "391: Train loss 0.3010, acc 0.8796%; validation loss 0.3750, acc 0.8503%\n",
            "392: Train loss 0.3012, acc 0.8796%; validation loss 0.3750, acc 0.8503%\n",
            "393: Train loss 0.3011, acc 0.8796%; validation loss 0.3750, acc 0.8503%\n",
            "394: Train loss 0.3011, acc 0.8796%; validation loss 0.3750, acc 0.8503%\n",
            "395: Train loss 0.3011, acc 0.8796%; validation loss 0.3750, acc 0.8503%\n",
            "396: Train loss 0.3011, acc 0.8796%; validation loss 0.3750, acc 0.8503%\n",
            "397: Train loss 0.3011, acc 0.8796%; validation loss 0.3750, acc 0.8503%\n",
            "398: Train loss 0.3011, acc 0.8796%; validation loss 0.3750, acc 0.8503%\n",
            "399: Train loss 0.3012, acc 0.8796%; validation loss 0.3750, acc 0.8503%\n",
            "400: Train loss 0.3014, acc 0.8796%; validation loss 0.3750, acc 0.8503%\n",
            "Final evaluation results:\n",
            "accuracy        0.8525\n",
            "f1              0.9083\n",
            "precision       0.8741\n",
            "recall          0.9452\n"
          ]
        },
        {
          "output_type": "display_data",
          "data": {
            "text/plain": [
              "<IPython.core.display.HTML object>"
            ],
            "text/html": [
              "Waiting for W&B process to finish... <strong style=\"color:green\">(success).</strong>"
            ]
          },
          "metadata": {}
        },
        {
          "output_type": "display_data",
          "data": {
            "text/plain": [
              "VBox(children=(Label(value='0.001 MB of 0.001 MB uploaded (0.000 MB deduped)\\r'), FloatProgress(value=1.0, max…"
            ],
            "application/vnd.jupyter.widget-view+json": {
              "version_major": 2,
              "version_minor": 0,
              "model_id": "c23740c9c213485b80aa63fa60417bbb"
            }
          },
          "metadata": {}
        },
        {
          "output_type": "display_data",
          "data": {
            "text/plain": [
              "<IPython.core.display.HTML object>"
            ],
            "text/html": [
              "<style>\n",
              "    table.wandb td:nth-child(1) { padding: 0 10px; text-align: left ; width: auto;} td:nth-child(2) {text-align: left ; width: 100%}\n",
              "    .wandb-row { display: flex; flex-direction: row; flex-wrap: wrap; justify-content: flex-start; width: 100% }\n",
              "    .wandb-col { display: flex; flex-direction: column; flex-basis: 100%; flex: 1; padding: 10px; }\n",
              "    </style>\n",
              "<div class=\"wandb-row\"><div class=\"wandb-col\"><h3>Run history:</h3><br/><table class=\"wandb\"><tr><td>accuracy</td><td>▁</td></tr><tr><td>f1</td><td>▁</td></tr><tr><td>precision</td><td>▁</td></tr><tr><td>recall</td><td>▁</td></tr><tr><td>train_acc</td><td>▃▆▅▃█▇▂▅▄▄██▄▄█▇▅▃▆▇▄▅▇█▆▆▄▅▅▄▅▄▅▆▃▁▄▃▇▆</td></tr><tr><td>train_loss</td><td>▆▂▄▄▁▂▇▂▅▄▃▃▄▄▁▁▄▅▄▃▅▄▁▁▃▃▄▃▄▄▄▆▄▃▄█▃▅▂▂</td></tr><tr><td>valid_acc</td><td>▁█▁▁▁▁▁▁▁▁▁▁▁▁▁▁▁▁▁▁▁▁▁▁▁▁▁▁▁▁▁▁▁▁▁▁▁▁▁▁</td></tr><tr><td>valid_loss</td><td>▂▁▂█▇▆▅▃▂▂▂▂▂▂▂▂▂▁▁▁▁▂▂▂▂▂▂▂▂▂▂▂▂▂▂▂▂▂▂▂</td></tr></table><br/></div><div class=\"wandb-col\"><h3>Run summary:</h3><br/><table class=\"wandb\"><tr><td>accuracy</td><td>0.85253</td></tr><tr><td>f1</td><td>0.9083</td></tr><tr><td>precision</td><td>0.87414</td></tr><tr><td>recall</td><td>0.94524</td></tr><tr><td>train_acc</td><td>0.92105</td></tr><tr><td>train_loss</td><td>0.21772</td></tr><tr><td>valid_acc</td><td>0.80769</td></tr><tr><td>valid_loss</td><td>0.39253</td></tr></table><br/></div></div>"
            ]
          },
          "metadata": {}
        },
        {
          "output_type": "display_data",
          "data": {
            "text/plain": [
              "<IPython.core.display.HTML object>"
            ],
            "text/html": [
              "Synced <strong style=\"color:#cdcd00\">sbert-fulltextGCop-hetgnnSBERT-ua-e400-fold-0</strong>: <a href=\"https://wandb.ai/saloniteam/nofolds/runs/1xx4cysc\" target=\"_blank\">https://wandb.ai/saloniteam/nofolds/runs/1xx4cysc</a><br/>Synced 5 W&B file(s), 1 media file(s), 1 artifact file(s) and 0 other file(s)"
            ]
          },
          "metadata": {}
        },
        {
          "output_type": "display_data",
          "data": {
            "text/plain": [
              "<IPython.core.display.HTML object>"
            ],
            "text/html": [
              "Find logs at: <code>./wandb/run-20221020_121941-1xx4cysc/logs</code>"
            ]
          },
          "metadata": {}
        }
      ],
      "source": [
        "if not os.path.exists('models'):\n",
        "    os.mkdir('models')\n",
        "\n",
        "GROUP = \"sbert-fulltextGCop-hetgnnSBERT-ua-e400\"\n",
        "for fold_id, (train_idx, valid_idx) in enumerate(skf.split(labels, labels)):\n",
        "    ipd.clear_output()\n",
        "    with wandb.init(entity=\"saloniteam\", project=\"nofolds\", group=GROUP, name=f\"{GROUP}-fold-{fold_id}\") as run:\n",
        "        log = train(fold_id, train_idx, valid_idx, params)\n",
        "    break"
      ]
    },
    {
      "cell_type": "code",
      "execution_count": 87,
      "metadata": {
        "id": "wY33CRA85L6h",
        "colab": {
          "base_uri": "https://localhost:8080/"
        },
        "outputId": "4ec94a6f-1213-4144-c22d-dd986b0a1451"
      },
      "outputs": [
        {
          "output_type": "execute_result",
          "data": {
            "text/plain": [
              "<All keys matched successfully>"
            ]
          },
          "metadata": {},
          "execution_count": 87
        }
      ],
      "source": [
        "model = GNN(graph, 128, \"article\")\n",
        "\n",
        "model.load_state_dict(torch.load(f'models/model-{fold_id}.pt'))"
      ]
    },
    {
      "cell_type": "code",
      "execution_count": 87,
      "metadata": {
        "id": "wj6KA7GN5Q8s"
      },
      "outputs": [],
      "source": []
    }
  ],
  "metadata": {
    "colab": {
      "collapsed_sections": [
        "ywmJcojaOk4E",
        "FfaOg08xmfEp"
      ],
      "provenance": [],
      "include_colab_link": true
    },
    "kernelspec": {
      "display_name": "Python 3",
      "name": "python3"
    },
    "language_info": {
      "name": "python"
    },
    "widgets": {
      "application/vnd.jupyter.widget-state+json": {
        "c23740c9c213485b80aa63fa60417bbb": {
          "model_module": "@jupyter-widgets/controls",
          "model_name": "VBoxModel",
          "model_module_version": "1.5.0",
          "state": {
            "_dom_classes": [],
            "_model_module": "@jupyter-widgets/controls",
            "_model_module_version": "1.5.0",
            "_model_name": "VBoxModel",
            "_view_count": null,
            "_view_module": "@jupyter-widgets/controls",
            "_view_module_version": "1.5.0",
            "_view_name": "VBoxView",
            "box_style": "",
            "children": [
              "IPY_MODEL_cf69754b92034f90a0371a816fb99644",
              "IPY_MODEL_9f86995d2dea4c3d81815d44203337f9"
            ],
            "layout": "IPY_MODEL_ae50db3180f0462b8a8d737e38820f99"
          }
        },
        "cf69754b92034f90a0371a816fb99644": {
          "model_module": "@jupyter-widgets/controls",
          "model_name": "LabelModel",
          "model_module_version": "1.5.0",
          "state": {
            "_dom_classes": [],
            "_model_module": "@jupyter-widgets/controls",
            "_model_module_version": "1.5.0",
            "_model_name": "LabelModel",
            "_view_count": null,
            "_view_module": "@jupyter-widgets/controls",
            "_view_module_version": "1.5.0",
            "_view_name": "LabelView",
            "description": "",
            "description_tooltip": null,
            "layout": "IPY_MODEL_46df9af3c0784bd784d00a9e251344c5",
            "placeholder": "​",
            "style": "IPY_MODEL_2cd0834b2d9f49fe892b74e4d8025f74",
            "value": "0.001 MB of 0.001 MB uploaded (0.000 MB deduped)\r"
          }
        },
        "9f86995d2dea4c3d81815d44203337f9": {
          "model_module": "@jupyter-widgets/controls",
          "model_name": "FloatProgressModel",
          "model_module_version": "1.5.0",
          "state": {
            "_dom_classes": [],
            "_model_module": "@jupyter-widgets/controls",
            "_model_module_version": "1.5.0",
            "_model_name": "FloatProgressModel",
            "_view_count": null,
            "_view_module": "@jupyter-widgets/controls",
            "_view_module_version": "1.5.0",
            "_view_name": "ProgressView",
            "bar_style": "",
            "description": "",
            "description_tooltip": null,
            "layout": "IPY_MODEL_9a96dc07eafc4441a5da33d241403e74",
            "max": 1,
            "min": 0,
            "orientation": "horizontal",
            "style": "IPY_MODEL_7b28bb7e140b487182a828b4d3337cdd",
            "value": 1
          }
        },
        "ae50db3180f0462b8a8d737e38820f99": {
          "model_module": "@jupyter-widgets/base",
          "model_name": "LayoutModel",
          "model_module_version": "1.2.0",
          "state": {
            "_model_module": "@jupyter-widgets/base",
            "_model_module_version": "1.2.0",
            "_model_name": "LayoutModel",
            "_view_count": null,
            "_view_module": "@jupyter-widgets/base",
            "_view_module_version": "1.2.0",
            "_view_name": "LayoutView",
            "align_content": null,
            "align_items": null,
            "align_self": null,
            "border": null,
            "bottom": null,
            "display": null,
            "flex": null,
            "flex_flow": null,
            "grid_area": null,
            "grid_auto_columns": null,
            "grid_auto_flow": null,
            "grid_auto_rows": null,
            "grid_column": null,
            "grid_gap": null,
            "grid_row": null,
            "grid_template_areas": null,
            "grid_template_columns": null,
            "grid_template_rows": null,
            "height": null,
            "justify_content": null,
            "justify_items": null,
            "left": null,
            "margin": null,
            "max_height": null,
            "max_width": null,
            "min_height": null,
            "min_width": null,
            "object_fit": null,
            "object_position": null,
            "order": null,
            "overflow": null,
            "overflow_x": null,
            "overflow_y": null,
            "padding": null,
            "right": null,
            "top": null,
            "visibility": null,
            "width": null
          }
        },
        "46df9af3c0784bd784d00a9e251344c5": {
          "model_module": "@jupyter-widgets/base",
          "model_name": "LayoutModel",
          "model_module_version": "1.2.0",
          "state": {
            "_model_module": "@jupyter-widgets/base",
            "_model_module_version": "1.2.0",
            "_model_name": "LayoutModel",
            "_view_count": null,
            "_view_module": "@jupyter-widgets/base",
            "_view_module_version": "1.2.0",
            "_view_name": "LayoutView",
            "align_content": null,
            "align_items": null,
            "align_self": null,
            "border": null,
            "bottom": null,
            "display": null,
            "flex": null,
            "flex_flow": null,
            "grid_area": null,
            "grid_auto_columns": null,
            "grid_auto_flow": null,
            "grid_auto_rows": null,
            "grid_column": null,
            "grid_gap": null,
            "grid_row": null,
            "grid_template_areas": null,
            "grid_template_columns": null,
            "grid_template_rows": null,
            "height": null,
            "justify_content": null,
            "justify_items": null,
            "left": null,
            "margin": null,
            "max_height": null,
            "max_width": null,
            "min_height": null,
            "min_width": null,
            "object_fit": null,
            "object_position": null,
            "order": null,
            "overflow": null,
            "overflow_x": null,
            "overflow_y": null,
            "padding": null,
            "right": null,
            "top": null,
            "visibility": null,
            "width": null
          }
        },
        "2cd0834b2d9f49fe892b74e4d8025f74": {
          "model_module": "@jupyter-widgets/controls",
          "model_name": "DescriptionStyleModel",
          "model_module_version": "1.5.0",
          "state": {
            "_model_module": "@jupyter-widgets/controls",
            "_model_module_version": "1.5.0",
            "_model_name": "DescriptionStyleModel",
            "_view_count": null,
            "_view_module": "@jupyter-widgets/base",
            "_view_module_version": "1.2.0",
            "_view_name": "StyleView",
            "description_width": ""
          }
        },
        "9a96dc07eafc4441a5da33d241403e74": {
          "model_module": "@jupyter-widgets/base",
          "model_name": "LayoutModel",
          "model_module_version": "1.2.0",
          "state": {
            "_model_module": "@jupyter-widgets/base",
            "_model_module_version": "1.2.0",
            "_model_name": "LayoutModel",
            "_view_count": null,
            "_view_module": "@jupyter-widgets/base",
            "_view_module_version": "1.2.0",
            "_view_name": "LayoutView",
            "align_content": null,
            "align_items": null,
            "align_self": null,
            "border": null,
            "bottom": null,
            "display": null,
            "flex": null,
            "flex_flow": null,
            "grid_area": null,
            "grid_auto_columns": null,
            "grid_auto_flow": null,
            "grid_auto_rows": null,
            "grid_column": null,
            "grid_gap": null,
            "grid_row": null,
            "grid_template_areas": null,
            "grid_template_columns": null,
            "grid_template_rows": null,
            "height": null,
            "justify_content": null,
            "justify_items": null,
            "left": null,
            "margin": null,
            "max_height": null,
            "max_width": null,
            "min_height": null,
            "min_width": null,
            "object_fit": null,
            "object_position": null,
            "order": null,
            "overflow": null,
            "overflow_x": null,
            "overflow_y": null,
            "padding": null,
            "right": null,
            "top": null,
            "visibility": null,
            "width": null
          }
        },
        "7b28bb7e140b487182a828b4d3337cdd": {
          "model_module": "@jupyter-widgets/controls",
          "model_name": "ProgressStyleModel",
          "model_module_version": "1.5.0",
          "state": {
            "_model_module": "@jupyter-widgets/controls",
            "_model_module_version": "1.5.0",
            "_model_name": "ProgressStyleModel",
            "_view_count": null,
            "_view_module": "@jupyter-widgets/base",
            "_view_module_version": "1.2.0",
            "_view_name": "StyleView",
            "bar_color": null,
            "description_width": ""
          }
        }
      }
    }
  },
  "nbformat": 4,
  "nbformat_minor": 0
}