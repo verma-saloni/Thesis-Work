{
  "cells": [
    {
      "cell_type": "markdown",
      "metadata": {
        "id": "view-in-github",
        "colab_type": "text"
      },
      "source": [
        "<a href=\"https://colab.research.google.com/github/verma-saloni/Thesis-Work/blob/main/07_14_22_GloVe_Conv1d_keras_gossipcop.ipynb\" target=\"_parent\"><img src=\"https://colab.research.google.com/assets/colab-badge.svg\" alt=\"Open In Colab\"/></a>"
      ]
    },
    {
      "cell_type": "markdown",
      "source": [
        "For Baseline for RQ1. "
      ],
      "metadata": {
        "id": "07eK_HHeJKRm"
      }
    },
    {
      "cell_type": "code",
      "execution_count": null,
      "metadata": {
        "id": "GtXAlqhAwtgD"
      },
      "outputs": [],
      "source": [
        "\n",
        "!pip install wandb"
      ]
    },
    {
      "cell_type": "code",
      "execution_count": null,
      "metadata": {
        "id": "nCwf-JxlIEJ3"
      },
      "outputs": [],
      "source": [
        "import numpy as np\n",
        "import pandas as pd\n",
        "import seaborn as sns\n",
        "import matplotlib.pyplot as plt\n",
        "import nltk\n",
        "from sklearn.preprocessing import LabelBinarizer\n",
        "from nltk.corpus import stopwords\n",
        "from nltk.stem.porter import PorterStemmer\n",
        "from wordcloud import WordCloud,STOPWORDS\n",
        "from nltk.stem import WordNetLemmatizer\n",
        "from nltk.tokenize import word_tokenize,sent_tokenize\n",
        "from bs4 import BeautifulSoup\n",
        "import re,string,unicodedata\n",
        "from keras.preprocessing import text, sequence\n",
        "from nltk.tokenize.toktok import ToktokTokenizer\n",
        "from sklearn.metrics import classification_report,confusion_matrix,accuracy_score\n",
        "from sklearn.model_selection import train_test_split\n",
        "from string import punctuation\n",
        "from nltk import pos_tag\n",
        "from nltk.corpus import wordnet\n",
        "import keras\n",
        "from keras.models import Sequential\n",
        "from keras.layers import Dense,Embedding,LSTM,Dropout\n",
        "import tensorflow as tf\n",
        "import gensim.downloader as api\n",
        "\n",
        "from sklearn.model_selection import StratifiedKFold\n",
        "from sklearn.metrics import accuracy_score, f1_score, precision_score, recall_score\n",
        "from pathlib import Path\n",
        "\n",
        "import wandb\n",
        "from wandb.keras import WandbCallback\n",
        "from IPython.display import clear_output\n",
        "\n",
        "\n",
        "metrics = [accuracy_score, f1_score, precision_score, recall_score]\n",
        "\n",
        "def get_name(score_func):\n",
        "    return 'eval/' + score_func.__name__.split(\"_\")[0]"
      ]
    },
    {
      "cell_type": "code",
      "execution_count": null,
      "metadata": {
        "colab": {
          "base_uri": "https://localhost:8080/"
        },
        "id": "JNkz9D2TIS3n",
        "outputId": "672b4908-a7d0-4f00-9de3-7777221a852a"
      },
      "outputs": [
        {
          "name": "stdout",
          "output_type": "stream",
          "text": [
            "Mounted at /content/drive\n"
          ]
        }
      ],
      "source": [
        "from google.colab import drive\n",
        "drive.mount('/content/drive')\n",
        "\n",
        "base_dir = Path(\"/content/drive/MyDrive/fakenews/ResearchFND\")\n",
        "assert base_dir.exists()"
      ]
    },
    {
      "cell_type": "code",
      "execution_count": null,
      "metadata": {
        "id": "ICjM3pebMwtW"
      },
      "outputs": [],
      "source": [
        "dataset_id = 'gossipcop'"
      ]
    },
    {
      "cell_type": "code",
      "execution_count": null,
      "metadata": {
        "colab": {
          "base_uri": "https://localhost:8080/",
          "height": 225
        },
        "id": "5EOKd3_lIS6L",
        "outputId": "857a02de-53f0-44b1-edcc-8533c41df5b2"
      },
      "outputs": [
        {
          "data": {
            "text/html": [
              "\n",
              "  <div id=\"df-8ab4c83f-bfa7-4d3b-85b7-cf049d2f22ee\">\n",
              "    <div class=\"colab-df-container\">\n",
              "      <div>\n",
              "<style scoped>\n",
              "    .dataframe tbody tr th:only-of-type {\n",
              "        vertical-align: middle;\n",
              "    }\n",
              "\n",
              "    .dataframe tbody tr th {\n",
              "        vertical-align: top;\n",
              "    }\n",
              "\n",
              "    .dataframe thead th {\n",
              "        text-align: right;\n",
              "    }\n",
              "</style>\n",
              "<table border=\"1\" class=\"dataframe\">\n",
              "  <thead>\n",
              "    <tr style=\"text-align: right;\">\n",
              "      <th></th>\n",
              "      <th>title</th>\n",
              "      <th>text</th>\n",
              "      <th>tweets</th>\n",
              "      <th>retweets</th>\n",
              "      <th>label</th>\n",
              "      <th>url</th>\n",
              "    </tr>\n",
              "  </thead>\n",
              "  <tbody>\n",
              "    <tr>\n",
              "      <th>0</th>\n",
              "      <td>Kendall   Kylie Jenner Jenner NOT Upset Up...</td>\n",
              "      <td>NaN</td>\n",
              "      <td>[]</td>\n",
              "      <td>['995423424741888001', '995461685166202880', '...</td>\n",
              "      <td>fake</td>\n",
              "      <td>NaN</td>\n",
              "    </tr>\n",
              "    <tr>\n",
              "      <th>1</th>\n",
              "      <td>Kim Kardashian Dethroned Dethroned By Khlo...</td>\n",
              "      <td>NaN</td>\n",
              "      <td>[]</td>\n",
              "      <td>['848843565027516416', '849030801970868224', '...</td>\n",
              "      <td>fake</td>\n",
              "      <td>NaN</td>\n",
              "    </tr>\n",
              "    <tr>\n",
              "      <th>2</th>\n",
              "      <td>Kim Kardashian Did NOT Hot Staffer Hot Sta...</td>\n",
              "      <td>NaN</td>\n",
              "      <td>[]</td>\n",
              "      <td>['940685393112064001', '977921622672920576', '...</td>\n",
              "      <td>fake</td>\n",
              "      <td>NaN</td>\n",
              "    </tr>\n",
              "    <tr>\n",
              "      <th>3</th>\n",
              "      <td>The Voice The Voice Team NOT Surprised Sur...</td>\n",
              "      <td>NaN</td>\n",
              "      <td>[]</td>\n",
              "      <td>[]</td>\n",
              "      <td>fake</td>\n",
              "      <td>NaN</td>\n",
              "    </tr>\n",
              "    <tr>\n",
              "      <th>4</th>\n",
              "      <td>Drake NOT Angelina Jolie s Toy Boy Toy Boy ...</td>\n",
              "      <td>NaN</td>\n",
              "      <td>[{'id': 948630026496323585, 'text': 'Drake NOT...</td>\n",
              "      <td>['948022124626808832', '948630026496323585', '...</td>\n",
              "      <td>fake</td>\n",
              "      <td>NaN</td>\n",
              "    </tr>\n",
              "  </tbody>\n",
              "</table>\n",
              "</div>\n",
              "      <button class=\"colab-df-convert\" onclick=\"convertToInteractive('df-8ab4c83f-bfa7-4d3b-85b7-cf049d2f22ee')\"\n",
              "              title=\"Convert this dataframe to an interactive table.\"\n",
              "              style=\"display:none;\">\n",
              "        \n",
              "  <svg xmlns=\"http://www.w3.org/2000/svg\" height=\"24px\"viewBox=\"0 0 24 24\"\n",
              "       width=\"24px\">\n",
              "    <path d=\"M0 0h24v24H0V0z\" fill=\"none\"/>\n",
              "    <path d=\"M18.56 5.44l.94 2.06.94-2.06 2.06-.94-2.06-.94-.94-2.06-.94 2.06-2.06.94zm-11 1L8.5 8.5l.94-2.06 2.06-.94-2.06-.94L8.5 2.5l-.94 2.06-2.06.94zm10 10l.94 2.06.94-2.06 2.06-.94-2.06-.94-.94-2.06-.94 2.06-2.06.94z\"/><path d=\"M17.41 7.96l-1.37-1.37c-.4-.4-.92-.59-1.43-.59-.52 0-1.04.2-1.43.59L10.3 9.45l-7.72 7.72c-.78.78-.78 2.05 0 2.83L4 21.41c.39.39.9.59 1.41.59.51 0 1.02-.2 1.41-.59l7.78-7.78 2.81-2.81c.8-.78.8-2.07 0-2.86zM5.41 20L4 18.59l7.72-7.72 1.47 1.35L5.41 20z\"/>\n",
              "  </svg>\n",
              "      </button>\n",
              "      \n",
              "  <style>\n",
              "    .colab-df-container {\n",
              "      display:flex;\n",
              "      flex-wrap:wrap;\n",
              "      gap: 12px;\n",
              "    }\n",
              "\n",
              "    .colab-df-convert {\n",
              "      background-color: #E8F0FE;\n",
              "      border: none;\n",
              "      border-radius: 50%;\n",
              "      cursor: pointer;\n",
              "      display: none;\n",
              "      fill: #1967D2;\n",
              "      height: 32px;\n",
              "      padding: 0 0 0 0;\n",
              "      width: 32px;\n",
              "    }\n",
              "\n",
              "    .colab-df-convert:hover {\n",
              "      background-color: #E2EBFA;\n",
              "      box-shadow: 0px 1px 2px rgba(60, 64, 67, 0.3), 0px 1px 3px 1px rgba(60, 64, 67, 0.15);\n",
              "      fill: #174EA6;\n",
              "    }\n",
              "\n",
              "    [theme=dark] .colab-df-convert {\n",
              "      background-color: #3B4455;\n",
              "      fill: #D2E3FC;\n",
              "    }\n",
              "\n",
              "    [theme=dark] .colab-df-convert:hover {\n",
              "      background-color: #434B5C;\n",
              "      box-shadow: 0px 1px 3px 1px rgba(0, 0, 0, 0.15);\n",
              "      filter: drop-shadow(0px 1px 2px rgba(0, 0, 0, 0.3));\n",
              "      fill: #FFFFFF;\n",
              "    }\n",
              "  </style>\n",
              "\n",
              "      <script>\n",
              "        const buttonEl =\n",
              "          document.querySelector('#df-8ab4c83f-bfa7-4d3b-85b7-cf049d2f22ee button.colab-df-convert');\n",
              "        buttonEl.style.display =\n",
              "          google.colab.kernel.accessAllowed ? 'block' : 'none';\n",
              "\n",
              "        async function convertToInteractive(key) {\n",
              "          const element = document.querySelector('#df-8ab4c83f-bfa7-4d3b-85b7-cf049d2f22ee');\n",
              "          const dataTable =\n",
              "            await google.colab.kernel.invokeFunction('convertToInteractive',\n",
              "                                                     [key], {});\n",
              "          if (!dataTable) return;\n",
              "\n",
              "          const docLinkHtml = 'Like what you see? Visit the ' +\n",
              "            '<a target=\"_blank\" href=https://colab.research.google.com/notebooks/data_table.ipynb>data table notebook</a>'\n",
              "            + ' to learn more about interactive tables.';\n",
              "          element.innerHTML = '';\n",
              "          dataTable['output_type'] = 'display_data';\n",
              "          await google.colab.output.renderOutput(dataTable, element);\n",
              "          const docLink = document.createElement('div');\n",
              "          docLink.innerHTML = docLinkHtml;\n",
              "          element.appendChild(docLink);\n",
              "        }\n",
              "      </script>\n",
              "    </div>\n",
              "  </div>\n",
              "  "
            ],
            "text/plain": [
              "                                               title text  \\\n",
              "0      Kendall   Kylie Jenner Jenner NOT Upset Up...  NaN   \n",
              "1      Kim Kardashian Dethroned Dethroned By Khlo...  NaN   \n",
              "2      Kim Kardashian Did NOT Hot Staffer Hot Sta...  NaN   \n",
              "3      The Voice The Voice Team NOT Surprised Sur...  NaN   \n",
              "4     Drake NOT Angelina Jolie s Toy Boy Toy Boy ...  NaN   \n",
              "\n",
              "                                              tweets  \\\n",
              "0                                                 []   \n",
              "1                                                 []   \n",
              "2                                                 []   \n",
              "3                                                 []   \n",
              "4  [{'id': 948630026496323585, 'text': 'Drake NOT...   \n",
              "\n",
              "                                            retweets label  url  \n",
              "0  ['995423424741888001', '995461685166202880', '...  fake  NaN  \n",
              "1  ['848843565027516416', '849030801970868224', '...  fake  NaN  \n",
              "2  ['940685393112064001', '977921622672920576', '...  fake  NaN  \n",
              "3                                                 []  fake  NaN  \n",
              "4  ['948022124626808832', '948630026496323585', '...  fake  NaN  "
            ]
          },
          "execution_count": 8,
          "metadata": {},
          "output_type": "execute_result"
        }
      ],
      "source": [
        "df = pd.read_csv(base_dir/f\"{dataset_id}_agg.csv\")\n",
        "df.head()"
      ]
    },
    {
      "cell_type": "code",
      "execution_count": null,
      "metadata": {
        "colab": {
          "base_uri": "https://localhost:8080/"
        },
        "id": "2xdHl9MaFXmj",
        "outputId": "5b3f962d-c8a6-4f28-b4e3-a9c3cbf2a83b"
      },
      "outputs": [
        {
          "data": {
            "text/plain": [
              "False"
            ]
          },
          "execution_count": 9,
          "metadata": {},
          "output_type": "execute_result"
        }
      ],
      "source": [
        "(df.title.str.len() == 0).any()"
      ]
    },
    {
      "cell_type": "code",
      "execution_count": null,
      "metadata": {
        "colab": {
          "base_uri": "https://localhost:8080/"
        },
        "id": "5oFq2KCxDnO_",
        "outputId": "201f1464-4218-490b-96c9-5eba6114f730"
      },
      "outputs": [
        {
          "data": {
            "text/plain": [
              "(19968, 19968)"
            ]
          },
          "execution_count": 10,
          "metadata": {},
          "output_type": "execute_result"
        }
      ],
      "source": [
        "len(df), len(df.title.unique())"
      ]
    },
    {
      "cell_type": "code",
      "execution_count": null,
      "metadata": {
        "colab": {
          "base_uri": "https://localhost:8080/"
        },
        "id": "bKsgv1uaITAo",
        "outputId": "95806988-1452-4181-d5e4-a317f82ddc32"
      },
      "outputs": [
        {
          "name": "stdout",
          "output_type": "stream",
          "text": [
            "title    False\n",
            "text      True\n",
            "label    False\n",
            "dtype: bool\n"
          ]
        },
        {
          "data": {
            "text/plain": [
              "title    19968\n",
              "text     17691\n",
              "label    19968\n",
              "dtype: int64"
            ]
          },
          "execution_count": 11,
          "metadata": {},
          "output_type": "execute_result"
        }
      ],
      "source": [
        "news = df[['title', 'text', 'label']].copy()\n",
        "\n",
        "print(news.isna().any())\n",
        "news.count()"
      ]
    },
    {
      "cell_type": "code",
      "execution_count": null,
      "metadata": {
        "colab": {
          "base_uri": "https://localhost:8080/"
        },
        "id": "7A0mIde_JSkM",
        "outputId": "6e060639-2bcc-4d5e-d744-e7a9a7aa620b"
      },
      "outputs": [
        {
          "name": "stderr",
          "output_type": "stream",
          "text": [
            "[nltk_data] Downloading package stopwords to /root/nltk_data...\n",
            "[nltk_data]   Unzipping corpora/stopwords.zip.\n"
          ]
        }
      ],
      "source": [
        "import nltk\n",
        "nltk.download('stopwords')\n",
        "\n",
        "stop = set(stopwords.words('english'))\n",
        "punctuation = list(string.punctuation)\n",
        "stop.update(punctuation)"
      ]
    },
    {
      "cell_type": "code",
      "execution_count": null,
      "metadata": {
        "id": "3szcamzHJSnN"
      },
      "outputs": [],
      "source": [
        "def strip_html(text):\n",
        "    soup = BeautifulSoup(text, \"html.parser\")\n",
        "    return soup.get_text()\n",
        "\n",
        "#Removing the square brackets\n",
        "def remove_between_square_brackets(text):\n",
        "    return re.sub('\\[[^]]*\\]', '', text)\n",
        "# Removing URL's\n",
        "def remove_between_square_brackets(text):\n",
        "    return re.sub(r'http\\S+', '', text)\n",
        "#Removing the stopwords from text\n",
        "def remove_stopwords(text):\n",
        "    final_text = []\n",
        "    for i in text.split():\n",
        "        if i.strip().lower() not in stop:\n",
        "            final_text.append(i.strip())\n",
        "    return \" \".join(final_text)\n",
        "#Removing the noisy text\n",
        "def denoise_text(text):\n",
        "    text = strip_html(text)\n",
        "    text = remove_between_square_brackets(text)\n",
        "    text = remove_stopwords(text)\n",
        "    return text\n",
        "#Apply function on review column\n",
        "news['title']= news['title'].apply(denoise_text)"
      ]
    },
    {
      "cell_type": "code",
      "execution_count": null,
      "metadata": {
        "id": "p4YesU-aKold"
      },
      "outputs": [],
      "source": [
        "#Tokenizing Text -> Repsesenting each word by a number\n",
        "tokenizer = text.Tokenizer(oov_token=\"<unk>\")\n",
        "tokenizer.fit_on_texts(news.title)"
      ]
    },
    {
      "cell_type": "code",
      "execution_count": null,
      "metadata": {
        "colab": {
          "base_uri": "https://localhost:8080/"
        },
        "id": "mTgiYMDZ_QZp",
        "outputId": "2c436a10-6813-4820-c830-be6e6eaf0af1"
      },
      "outputs": [
        {
          "name": "stdout",
          "output_type": "stream",
          "text": [
            "[==================================================] 100.0% 376.1/376.1MB downloaded\n"
          ]
        }
      ],
      "source": [
        "d_wv = 300\n",
        "glove = api.load(f'glove-wiki-gigaword-{d_wv}')"
      ]
    },
    {
      "cell_type": "code",
      "execution_count": null,
      "metadata": {
        "id": "18kZxkq9h6yD"
      },
      "outputs": [],
      "source": [
        "emb_matrix = np.zeros((max(tokenizer.word_index.values())+1, d_wv), dtype=np.float32)\n",
        "for i in range(1,max(tokenizer.word_index.values())+1):\n",
        "    word = tokenizer.index_word[i]\n",
        "    if word in glove.vocab:\n",
        "        emb_matrix[i, :] = glove.word_vec(word)"
      ]
    },
    {
      "cell_type": "code",
      "execution_count": null,
      "metadata": {
        "colab": {
          "base_uri": "https://localhost:8080/"
        },
        "id": "bB2TQSTT1Pz0",
        "outputId": "2713f719-1a08-465f-d615-42e7ea78eaad"
      },
      "outputs": [
        {
          "data": {
            "text/plain": [
              "22625"
            ]
          },
          "execution_count": 17,
          "metadata": {},
          "output_type": "execute_result"
        }
      ],
      "source": [
        "len(tokenizer.word_index)"
      ]
    },
    {
      "cell_type": "code",
      "execution_count": null,
      "metadata": {
        "id": "-_V-I0VdTezQ"
      },
      "outputs": [],
      "source": [
        "def get_model(emb_matrix):\n",
        "    model = tf.keras.Sequential([\n",
        "        #alternatively we can use glove.get_keras_embedding(),\n",
        "        tf.keras.layers.Embedding(emb_matrix.shape[0], output_dim=emb_matrix.shape[1], weights=[emb_matrix],trainable=False, mask_zero=True),\n",
        "        tf.keras.layers.Dropout(0.2),\n",
        "        tf.keras.layers.Conv1D(256, 5, activation='relu'),\n",
        "        tf.keras.layers.MaxPooling1D(pool_size=5, strides=2),\n",
        "        tf.keras.layers.LSTM(32, return_sequences=True),\n",
        "        tf.keras.layers.LSTM(32),\n",
        "        tf.keras.layers.Dropout(0.2), \n",
        "        tf.keras.layers.Dense(64, activation='relu'),\n",
        "        tf.keras.layers.Dropout(0.2),\n",
        "        tf.keras.layers.Dense(1)\n",
        "    ])\n",
        "    model.compile(loss=tf.keras.losses.BinaryCrossentropy(from_logits=True), optimizer='adam', metrics=['accuracy'])\n",
        "    return model"
      ]
    },
    {
      "cell_type": "code",
      "execution_count": null,
      "metadata": {
        "colab": {
          "base_uri": "https://localhost:8080/"
        },
        "id": "1QVtqhPDL8KQ",
        "outputId": "840b70c8-2428-4e41-93f8-735940334375"
      },
      "outputs": [
        {
          "name": "stdout",
          "output_type": "stream",
          "text": [
            "Model: \"sequential\"\n",
            "_________________________________________________________________\n",
            " Layer (type)                Output Shape              Param #   \n",
            "=================================================================\n",
            " embedding (Embedding)       (None, None, 300)         6787800   \n",
            "                                                                 \n",
            " dropout (Dropout)           (None, None, 300)         0         \n",
            "                                                                 \n",
            " conv1d (Conv1D)             (None, None, 256)         384256    \n",
            "                                                                 \n",
            " max_pooling1d (MaxPooling1D  (None, None, 256)        0         \n",
            " )                                                               \n",
            "                                                                 \n",
            " lstm (LSTM)                 (None, None, 32)          36992     \n",
            "                                                                 \n",
            " lstm_1 (LSTM)               (None, 32)                8320      \n",
            "                                                                 \n",
            " dropout_1 (Dropout)         (None, 32)                0         \n",
            "                                                                 \n",
            " dense (Dense)               (None, 64)                2112      \n",
            "                                                                 \n",
            " dropout_2 (Dropout)         (None, 64)                0         \n",
            "                                                                 \n",
            " dense_1 (Dense)             (None, 1)                 65        \n",
            "                                                                 \n",
            "=================================================================\n",
            "Total params: 7,219,545\n",
            "Trainable params: 431,745\n",
            "Non-trainable params: 6,787,800\n",
            "_________________________________________________________________\n"
          ]
        }
      ],
      "source": [
        "model = get_model(emb_matrix)\n",
        "model.summary()"
      ]
    },
    {
      "cell_type": "markdown",
      "metadata": {
        "id": "CUdNFHAyEM_3"
      },
      "source": [
        "## Titles"
      ]
    },
    {
      "cell_type": "code",
      "execution_count": null,
      "metadata": {
        "colab": {
          "base_uri": "https://localhost:8080/"
        },
        "id": "BytT7j9WKon0",
        "outputId": "5294892a-b145-41ad-f4ec-cf39ddedddb3"
      },
      "outputs": [
        {
          "data": {
            "text/plain": [
              "((19968, 25), (19968,))"
            ]
          },
          "execution_count": 20,
          "metadata": {},
          "output_type": "execute_result"
        }
      ],
      "source": [
        "tokenized_titles = tokenizer.texts_to_sequences(news.title.tolist())\n",
        "max_len = max(map(len, tokenized_titles))\n",
        "X = sequence.pad_sequences(tokenized_titles, maxlen=max_len)\n",
        "y = (df.label==\"real\").to_numpy().astype(int)\n",
        "\n",
        "X.shape, y.shape"
      ]
    },
    {
      "cell_type": "code",
      "execution_count": null,
      "metadata": {
        "id": "Ec5ppDaQK16F"
      },
      "outputs": [],
      "source": [
        "skf = StratifiedKFold(shuffle=True, random_state=124)"
      ]
    },
    {
      "cell_type": "code",
      "execution_count": null,
      "metadata": {
        "id": "5oSeII1QLot_"
      },
      "outputs": [],
      "source": [
        "def train(fold_id, train_idx, test_idx, params):\n",
        "\n",
        "    # setup\n",
        "    X_train, X_test = X[train_idx], X[test_idx]\n",
        "    y_train, y_test = y[train_idx], y[test_idx]\n",
        "    model = get_model(emb_matrix)\n",
        "    # training\n",
        "    ckpt_filepath = f'ckpt/fold_{fold_id}'\n",
        "    save_model_cb = keras.callbacks.ModelCheckpoint(\n",
        "        filepath=ckpt_filepath,\n",
        "        save_weights_only=True,\n",
        "        monitor='val_accuracy',\n",
        "        mode='max',\n",
        "        save_best_only=True)\n",
        "    history = model.fit(\n",
        "        X_train, y_train, validation_data = (X_test, y_test), \n",
        "        batch_size = params['bs'] , epochs=params['epochs'],\n",
        "        callbacks=[WandbCallback(), save_model_cb]\n",
        "    )\n",
        "    #evaluation\n",
        "    model.load_weights(ckpt_filepath)\n",
        "    probs = model.predict(X_test).squeeze()\n",
        "    y_pred = (probs > 0.5).astype(int)\n",
        "    eval_results = {get_name(f):f(y_pred=y_pred, y_true=y_test) for f in metrics}\n",
        "    wandb.log(eval_results)\n",
        "    wandb.log({\"conf_mat\" : wandb.plot.confusion_matrix(probs=None,\n",
        "                            y_true=y_test, preds=y_pred,\n",
        "                            class_names=[\"Fake\", \"Real\"])})\n",
        "    return history"
      ]
    },
    {
      "cell_type": "code",
      "execution_count": null,
      "metadata": {
        "id": "5IvqyG9jPVQw"
      },
      "outputs": [],
      "source": [
        "params = {\n",
        "    \"epochs\":200,\n",
        "    \"bs\":128,\n",
        "    # 'lr':1e-3\n",
        "}"
      ]
    },
    {
      "cell_type": "code",
      "execution_count": null,
      "metadata": {
        "colab": {
          "background_save": true,
          "base_uri": "https://localhost:8080/",
          "height": 1000,
          "referenced_widgets": [
            "cc48de6d2b7343edafd8b47d4bc5d603"
          ]
        },
        "id": "Hr_rxn8c8R_H",
        "outputId": "fd1598da-dd13-476d-924e-59ddaccf2f8a"
      },
      "outputs": [
        {
          "data": {
            "application/javascript": [
              "\n",
              "        window._wandbApiKey = new Promise((resolve, reject) => {\n",
              "            function loadScript(url) {\n",
              "            return new Promise(function(resolve, reject) {\n",
              "                let newScript = document.createElement(\"script\");\n",
              "                newScript.onerror = reject;\n",
              "                newScript.onload = resolve;\n",
              "                document.body.appendChild(newScript);\n",
              "                newScript.src = url;\n",
              "            });\n",
              "            }\n",
              "            loadScript(\"https://cdn.jsdelivr.net/npm/postmate/build/postmate.min.js\").then(() => {\n",
              "            const iframe = document.createElement('iframe')\n",
              "            iframe.style.cssText = \"width:0;height:0;border:none\"\n",
              "            document.body.appendChild(iframe)\n",
              "            const handshake = new Postmate({\n",
              "                container: iframe,\n",
              "                url: 'https://wandb.ai/authorize'\n",
              "            });\n",
              "            const timeout = setTimeout(() => reject(\"Couldn't auto authenticate\"), 5000)\n",
              "            handshake.then(function(child) {\n",
              "                child.on('authorize', data => {\n",
              "                    clearTimeout(timeout)\n",
              "                    resolve(data)\n",
              "                });\n",
              "            });\n",
              "            })\n",
              "        });\n",
              "    "
            ],
            "text/plain": [
              "<IPython.core.display.Javascript object>"
            ]
          },
          "metadata": {},
          "output_type": "display_data"
        },
        {
          "name": "stderr",
          "output_type": "stream",
          "text": [
            "\u001b[34m\u001b[1mwandb\u001b[0m: Logging into wandb.ai. (Learn how to deploy a W&B server locally: https://wandb.me/wandb-server)\n",
            "\u001b[34m\u001b[1mwandb\u001b[0m: You can find your API key in your browser here: https://wandb.ai/authorize\n",
            "wandb: Paste an API key from your profile and hit enter, or press ctrl+c to quit: \u001b[34m\u001b[1mwandb\u001b[0m: Appending key for api.wandb.ai to your netrc file: /root/.netrc\n"
          ]
        },
        {
          "data": {
            "text/html": [
              "Tracking run with wandb version 0.12.21"
            ],
            "text/plain": [
              "<IPython.core.display.HTML object>"
            ]
          },
          "metadata": {},
          "output_type": "display_data"
        },
        {
          "data": {
            "text/html": [
              "Run data is saved locally in <code>/content/wandb/run-20220711_220040-3v3oxtzj</code>"
            ],
            "text/plain": [
              "<IPython.core.display.HTML object>"
            ]
          },
          "metadata": {},
          "output_type": "display_data"
        },
        {
          "data": {
            "text/html": [
              "Syncing run <strong><a href=\"https://wandb.ai/arampacha/fnd/runs/3v3oxtzj\" target=\"_blank\">gossipcop-glove300-title-convrnn-fold-0</a></strong> to <a href=\"https://wandb.ai/arampacha/fnd\" target=\"_blank\">Weights & Biases</a> (<a href=\"https://wandb.me/run\" target=\"_blank\">docs</a>)<br/>"
            ],
            "text/plain": [
              "<IPython.core.display.HTML object>"
            ]
          },
          "metadata": {},
          "output_type": "display_data"
        },
        {
          "name": "stderr",
          "output_type": "stream",
          "text": [
            "\u001b[34m\u001b[1mwandb\u001b[0m: \u001b[33mWARNING\u001b[0m The save_model argument by default saves the model in the HDF5 format that cannot save custom objects like subclassed models and custom layers. This behavior will be deprecated in a future release in favor of the SavedModel format. Meanwhile, the HDF5 model is saved as W&B files and the SavedModel as W&B Artifacts.\n"
          ]
        },
        {
          "name": "stdout",
          "output_type": "stream",
          "text": [
            "WARNING:tensorflow:From /usr/local/lib/python3.7/dist-packages/tensorflow/python/profiler/internal/flops_registry.py:138: tensor_shape_from_node_def_name (from tensorflow.python.framework.graph_util_impl) is deprecated and will be removed in a future version.\n",
            "Instructions for updating:\n",
            "Use `tf.compat.v1.graph_util.tensor_shape_from_node_def_name`\n",
            "Epoch 1/200\n",
            "125/125 [==============================] - 23s 133ms/step - loss: 0.4821 - accuracy: 0.7708 - val_loss: 0.4115 - val_accuracy: 0.8262 - _timestamp: 1657576867.0000 - _runtime: 27.0000\n",
            "Epoch 2/200\n",
            "125/125 [==============================] - 16s 126ms/step - loss: 0.3868 - accuracy: 0.8307 - val_loss: 0.3937 - val_accuracy: 0.8307 - _timestamp: 1657576883.0000 - _runtime: 43.0000\n",
            "Epoch 3/200\n",
            "125/125 [==============================] - 15s 123ms/step - loss: 0.3281 - accuracy: 0.8620 - val_loss: 0.3946 - val_accuracy: 0.8443 - _timestamp: 1657576898.0000 - _runtime: 58.0000\n",
            "Epoch 4/200\n",
            "125/125 [==============================] - 18s 146ms/step - loss: 0.2586 - accuracy: 0.8938 - val_loss: 0.4173 - val_accuracy: 0.8235 - _timestamp: 1657576917.0000 - _runtime: 77.0000\n",
            "Epoch 5/200\n",
            "125/125 [==============================] - 15s 122ms/step - loss: 0.1874 - accuracy: 0.9246 - val_loss: 0.4786 - val_accuracy: 0.8295 - _timestamp: 1657576932.0000 - _runtime: 92.0000\n",
            "Epoch 6/200\n",
            "125/125 [==============================] - 15s 122ms/step - loss: 0.1497 - accuracy: 0.9392 - val_loss: 0.5377 - val_accuracy: 0.8210 - _timestamp: 1657576947.0000 - _runtime: 107.0000\n",
            "Epoch 7/200\n",
            "125/125 [==============================] - 15s 122ms/step - loss: 0.1087 - accuracy: 0.9563 - val_loss: 0.5553 - val_accuracy: 0.8195 - _timestamp: 1657576963.0000 - _runtime: 123.0000\n",
            "Epoch 8/200\n",
            "125/125 [==============================] - 15s 122ms/step - loss: 0.0868 - accuracy: 0.9663 - val_loss: 0.6220 - val_accuracy: 0.8205 - _timestamp: 1657576978.0000 - _runtime: 138.0000\n",
            "Epoch 9/200\n",
            "125/125 [==============================] - 15s 123ms/step - loss: 0.0672 - accuracy: 0.9745 - val_loss: 0.7308 - val_accuracy: 0.8192 - _timestamp: 1657576993.0000 - _runtime: 153.0000\n",
            "Epoch 10/200\n",
            "125/125 [==============================] - 17s 136ms/step - loss: 0.0603 - accuracy: 0.9760 - val_loss: 0.7707 - val_accuracy: 0.8242 - _timestamp: 1657577010.0000 - _runtime: 170.0000\n",
            "Epoch 11/200\n",
            "125/125 [==============================] - 15s 122ms/step - loss: 0.0567 - accuracy: 0.9790 - val_loss: 0.7495 - val_accuracy: 0.7932 - _timestamp: 1657577025.0000 - _runtime: 185.0000\n",
            "Epoch 12/200\n",
            "125/125 [==============================] - 15s 123ms/step - loss: 0.0418 - accuracy: 0.9842 - val_loss: 0.8290 - val_accuracy: 0.8280 - _timestamp: 1657577041.0000 - _runtime: 201.0000\n",
            "Epoch 13/200\n",
            "125/125 [==============================] - 15s 122ms/step - loss: 0.0415 - accuracy: 0.9840 - val_loss: 0.8482 - val_accuracy: 0.8242 - _timestamp: 1657577056.0000 - _runtime: 216.0000\n",
            "Epoch 14/200\n",
            "125/125 [==============================] - 15s 124ms/step - loss: 0.0430 - accuracy: 0.9845 - val_loss: 0.8446 - val_accuracy: 0.8147 - _timestamp: 1657577072.0000 - _runtime: 232.0000\n",
            "Epoch 15/200\n",
            "125/125 [==============================] - 15s 122ms/step - loss: 0.0394 - accuracy: 0.9849 - val_loss: 0.8761 - val_accuracy: 0.8095 - _timestamp: 1657577087.0000 - _runtime: 247.0000\n",
            "Epoch 16/200\n",
            "125/125 [==============================] - 17s 136ms/step - loss: 0.0338 - accuracy: 0.9872 - val_loss: 0.9071 - val_accuracy: 0.8175 - _timestamp: 1657577104.0000 - _runtime: 264.0000\n",
            "Epoch 17/200\n",
            "125/125 [==============================] - 17s 139ms/step - loss: 0.0294 - accuracy: 0.9893 - val_loss: 0.9207 - val_accuracy: 0.8190 - _timestamp: 1657577121.0000 - _runtime: 281.0000\n",
            "Epoch 18/200\n",
            "125/125 [==============================] - 21s 165ms/step - loss: 0.0319 - accuracy: 0.9877 - val_loss: 0.9020 - val_accuracy: 0.8097 - _timestamp: 1657577142.0000 - _runtime: 302.0000\n",
            "Epoch 19/200\n",
            "125/125 [==============================] - 18s 140ms/step - loss: 0.0257 - accuracy: 0.9907 - val_loss: 0.9783 - val_accuracy: 0.8177 - _timestamp: 1657577159.0000 - _runtime: 319.0000\n",
            "Epoch 20/200\n",
            "125/125 [==============================] - 15s 123ms/step - loss: 0.0237 - accuracy: 0.9913 - val_loss: 1.0092 - val_accuracy: 0.8110 - _timestamp: 1657577175.0000 - _runtime: 335.0000\n",
            "Epoch 21/200\n",
            "125/125 [==============================] - 15s 124ms/step - loss: 0.0229 - accuracy: 0.9914 - val_loss: 1.0623 - val_accuracy: 0.8135 - _timestamp: 1657577190.0000 - _runtime: 350.0000\n",
            "Epoch 22/200\n",
            "125/125 [==============================] - 15s 123ms/step - loss: 0.0221 - accuracy: 0.9922 - val_loss: 1.0330 - val_accuracy: 0.8197 - _timestamp: 1657577206.0000 - _runtime: 366.0000\n",
            "Epoch 23/200\n",
            "125/125 [==============================] - 15s 122ms/step - loss: 0.0221 - accuracy: 0.9915 - val_loss: 1.0761 - val_accuracy: 0.8152 - _timestamp: 1657577221.0000 - _runtime: 381.0000\n",
            "Epoch 24/200\n",
            "125/125 [==============================] - 15s 123ms/step - loss: 0.0238 - accuracy: 0.9911 - val_loss: 1.0351 - val_accuracy: 0.7964 - _timestamp: 1657577236.0000 - _runtime: 396.0000\n",
            "Epoch 25/200\n",
            "125/125 [==============================] - 15s 123ms/step - loss: 0.0283 - accuracy: 0.9898 - val_loss: 0.9443 - val_accuracy: 0.8087 - _timestamp: 1657577252.0000 - _runtime: 412.0000\n",
            "Epoch 26/200\n",
            "125/125 [==============================] - 16s 125ms/step - loss: 0.0217 - accuracy: 0.9927 - val_loss: 0.9821 - val_accuracy: 0.8137 - _timestamp: 1657577267.0000 - _runtime: 427.0000\n",
            "Epoch 27/200\n",
            "125/125 [==============================] - 18s 143ms/step - loss: 0.0170 - accuracy: 0.9939 - val_loss: 1.0785 - val_accuracy: 0.8115 - _timestamp: 1657577285.0000 - _runtime: 445.0000\n",
            "Epoch 28/200\n",
            "125/125 [==============================] - 15s 124ms/step - loss: 0.0165 - accuracy: 0.9936 - val_loss: 1.0344 - val_accuracy: 0.8122 - _timestamp: 1657577301.0000 - _runtime: 461.0000\n",
            "Epoch 29/200\n",
            "125/125 [==============================] - 16s 124ms/step - loss: 0.0197 - accuracy: 0.9933 - val_loss: 1.0520 - val_accuracy: 0.8122 - _timestamp: 1657577316.0000 - _runtime: 476.0000\n",
            "Epoch 30/200\n",
            "125/125 [==============================] - 15s 122ms/step - loss: 0.0186 - accuracy: 0.9933 - val_loss: 1.1142 - val_accuracy: 0.8132 - _timestamp: 1657577331.0000 - _runtime: 491.0000\n",
            "Epoch 31/200\n",
            "125/125 [==============================] - 15s 121ms/step - loss: 0.0188 - accuracy: 0.9941 - val_loss: 1.1419 - val_accuracy: 0.8170 - _timestamp: 1657577346.0000 - _runtime: 506.0000\n",
            "Epoch 32/200\n",
            "125/125 [==============================] - 15s 123ms/step - loss: 0.0180 - accuracy: 0.9932 - val_loss: 1.1032 - val_accuracy: 0.8040 - _timestamp: 1657577362.0000 - _runtime: 522.0000\n",
            "Epoch 33/200\n",
            "125/125 [==============================] - 15s 122ms/step - loss: 0.0170 - accuracy: 0.9938 - val_loss: 1.0594 - val_accuracy: 0.8072 - _timestamp: 1657577377.0000 - _runtime: 537.0000\n",
            "Epoch 34/200\n",
            "125/125 [==============================] - 15s 122ms/step - loss: 0.0177 - accuracy: 0.9936 - val_loss: 1.1967 - val_accuracy: 0.8217 - _timestamp: 1657577392.0000 - _runtime: 552.0000\n",
            "Epoch 35/200\n",
            "125/125 [==============================] - 15s 121ms/step - loss: 0.0187 - accuracy: 0.9931 - val_loss: 1.0869 - val_accuracy: 0.8145 - _timestamp: 1657577407.0000 - _runtime: 567.0000\n",
            "Epoch 36/200\n",
            "125/125 [==============================] - 15s 123ms/step - loss: 0.0201 - accuracy: 0.9931 - val_loss: 0.9943 - val_accuracy: 0.8137 - _timestamp: 1657577423.0000 - _runtime: 583.0000\n",
            "Epoch 37/200\n",
            "125/125 [==============================] - 15s 122ms/step - loss: 0.0151 - accuracy: 0.9947 - val_loss: 1.1326 - val_accuracy: 0.8165 - _timestamp: 1657577438.0000 - _runtime: 598.0000\n",
            "Epoch 38/200\n",
            "125/125 [==============================] - 15s 123ms/step - loss: 0.0154 - accuracy: 0.9947 - val_loss: 1.1304 - val_accuracy: 0.8155 - _timestamp: 1657577453.0000 - _runtime: 613.0000\n",
            "Epoch 39/200\n",
            "125/125 [==============================] - 15s 124ms/step - loss: 0.0170 - accuracy: 0.9934 - val_loss: 1.0595 - val_accuracy: 0.8150 - _timestamp: 1657577469.0000 - _runtime: 629.0000\n",
            "Epoch 40/200\n",
            "125/125 [==============================] - 15s 123ms/step - loss: 0.0168 - accuracy: 0.9935 - val_loss: 1.0743 - val_accuracy: 0.7852 - _timestamp: 1657577484.0000 - _runtime: 644.0000\n",
            "Epoch 41/200\n",
            "125/125 [==============================] - 15s 124ms/step - loss: 0.0171 - accuracy: 0.9939 - val_loss: 1.0263 - val_accuracy: 0.8102 - _timestamp: 1657577500.0000 - _runtime: 660.0000\n",
            "Epoch 42/200\n",
            "125/125 [==============================] - 15s 122ms/step - loss: 0.0174 - accuracy: 0.9941 - val_loss: 1.0819 - val_accuracy: 0.8195 - _timestamp: 1657577515.0000 - _runtime: 675.0000\n",
            "Epoch 43/200\n",
            "125/125 [==============================] - 15s 123ms/step - loss: 0.0163 - accuracy: 0.9946 - val_loss: 1.0520 - val_accuracy: 0.8232 - _timestamp: 1657577530.0000 - _runtime: 690.0000\n",
            "Epoch 44/200\n",
            "125/125 [==============================] - 15s 122ms/step - loss: 0.0112 - accuracy: 0.9957 - val_loss: 1.2139 - val_accuracy: 0.8232 - _timestamp: 1657577545.0000 - _runtime: 705.0000\n",
            "Epoch 45/200\n",
            "125/125 [==============================] - 15s 124ms/step - loss: 0.0195 - accuracy: 0.9930 - val_loss: 1.0071 - val_accuracy: 0.8190 - _timestamp: 1657577561.0000 - _runtime: 721.0000\n",
            "Epoch 46/200\n",
            "125/125 [==============================] - 15s 124ms/step - loss: 0.0150 - accuracy: 0.9949 - val_loss: 1.1509 - val_accuracy: 0.8210 - _timestamp: 1657577576.0000 - _runtime: 736.0000\n",
            "Epoch 47/200\n",
            "125/125 [==============================] - 15s 124ms/step - loss: 0.0139 - accuracy: 0.9942 - val_loss: 1.1454 - val_accuracy: 0.8212 - _timestamp: 1657577592.0000 - _runtime: 752.0000\n",
            "Epoch 48/200\n",
            "125/125 [==============================] - 15s 122ms/step - loss: 0.0152 - accuracy: 0.9949 - val_loss: 1.2776 - val_accuracy: 0.8247 - _timestamp: 1657577607.0000 - _runtime: 767.0000\n",
            "Epoch 49/200\n",
            "125/125 [==============================] - 15s 123ms/step - loss: 0.0165 - accuracy: 0.9939 - val_loss: 1.0682 - val_accuracy: 0.8185 - _timestamp: 1657577623.0000 - _runtime: 783.0000\n",
            "Epoch 50/200\n",
            "125/125 [==============================] - 17s 139ms/step - loss: 0.0132 - accuracy: 0.9951 - val_loss: 1.1667 - val_accuracy: 0.8185 - _timestamp: 1657577640.0000 - _runtime: 800.0000\n",
            "Epoch 51/200\n",
            "125/125 [==============================] - 16s 124ms/step - loss: 0.0171 - accuracy: 0.9944 - val_loss: 1.1459 - val_accuracy: 0.8202 - _timestamp: 1657577655.0000 - _runtime: 815.0000\n",
            "Epoch 52/200\n",
            "125/125 [==============================] - 15s 123ms/step - loss: 0.0105 - accuracy: 0.9958 - val_loss: 1.2254 - val_accuracy: 0.7967 - _timestamp: 1657577671.0000 - _runtime: 831.0000\n",
            "Epoch 53/200\n",
            "125/125 [==============================] - 15s 124ms/step - loss: 0.0115 - accuracy: 0.9955 - val_loss: 1.1854 - val_accuracy: 0.8172 - _timestamp: 1657577686.0000 - _runtime: 846.0000\n",
            "Epoch 54/200\n",
            "125/125 [==============================] - 15s 123ms/step - loss: 0.0129 - accuracy: 0.9953 - val_loss: 1.1719 - val_accuracy: 0.8125 - _timestamp: 1657577702.0000 - _runtime: 862.0000\n",
            "Epoch 55/200\n",
            "125/125 [==============================] - 15s 123ms/step - loss: 0.0126 - accuracy: 0.9954 - val_loss: 1.1679 - val_accuracy: 0.8277 - _timestamp: 1657577717.0000 - _runtime: 877.0000\n",
            "Epoch 56/200\n",
            "125/125 [==============================] - 15s 124ms/step - loss: 0.0135 - accuracy: 0.9951 - val_loss: 1.1769 - val_accuracy: 0.8242 - _timestamp: 1657577733.0000 - _runtime: 893.0000\n",
            "Epoch 57/200\n",
            "125/125 [==============================] - 15s 124ms/step - loss: 0.0137 - accuracy: 0.9949 - val_loss: 1.1372 - val_accuracy: 0.8110 - _timestamp: 1657577748.0000 - _runtime: 908.0000\n",
            "Epoch 58/200\n",
            "125/125 [==============================] - 15s 122ms/step - loss: 0.0127 - accuracy: 0.9951 - val_loss: 1.3053 - val_accuracy: 0.8222 - _timestamp: 1657577763.0000 - _runtime: 923.0000\n",
            "Epoch 59/200\n",
            "125/125 [==============================] - 15s 124ms/step - loss: 0.0151 - accuracy: 0.9943 - val_loss: 1.1034 - val_accuracy: 0.8135 - _timestamp: 1657577779.0000 - _runtime: 939.0000\n",
            "Epoch 60/200\n",
            "125/125 [==============================] - 16s 126ms/step - loss: 0.0108 - accuracy: 0.9958 - val_loss: 1.1367 - val_accuracy: 0.8170 - _timestamp: 1657577795.0000 - _runtime: 955.0000\n",
            "Epoch 61/200\n",
            "125/125 [==============================] - 16s 126ms/step - loss: 0.0127 - accuracy: 0.9954 - val_loss: 1.1915 - val_accuracy: 0.8162 - _timestamp: 1657577810.0000 - _runtime: 970.0000\n",
            "Epoch 62/200\n",
            "125/125 [==============================] - 16s 125ms/step - loss: 0.0096 - accuracy: 0.9965 - val_loss: 1.1727 - val_accuracy: 0.8115 - _timestamp: 1657577826.0000 - _runtime: 986.0000\n",
            "Epoch 63/200\n",
            "125/125 [==============================] - 15s 124ms/step - loss: 0.0123 - accuracy: 0.9958 - val_loss: 1.2061 - val_accuracy: 0.8162 - _timestamp: 1657577841.0000 - _runtime: 1001.0000\n",
            "Epoch 64/200\n",
            "125/125 [==============================] - 15s 124ms/step - loss: 0.0124 - accuracy: 0.9951 - val_loss: 1.2199 - val_accuracy: 0.8105 - _timestamp: 1657577857.0000 - _runtime: 1017.0000\n",
            "Epoch 65/200\n",
            "125/125 [==============================] - 15s 123ms/step - loss: 0.0131 - accuracy: 0.9954 - val_loss: 1.1396 - val_accuracy: 0.8140 - _timestamp: 1657577872.0000 - _runtime: 1032.0000\n",
            "Epoch 66/200\n",
            "125/125 [==============================] - 15s 121ms/step - loss: 0.0145 - accuracy: 0.9947 - val_loss: 1.0510 - val_accuracy: 0.8102 - _timestamp: 1657577887.0000 - _runtime: 1047.0000\n",
            "Epoch 67/200\n",
            "125/125 [==============================] - 15s 120ms/step - loss: 0.0128 - accuracy: 0.9954 - val_loss: 1.0217 - val_accuracy: 0.8115 - _timestamp: 1657577902.0000 - _runtime: 1062.0000\n",
            "Epoch 68/200\n",
            "125/125 [==============================] - 15s 121ms/step - loss: 0.0119 - accuracy: 0.9954 - val_loss: 1.1187 - val_accuracy: 0.8167 - _timestamp: 1657577917.0000 - _runtime: 1077.0000\n",
            "Epoch 69/200\n",
            "125/125 [==============================] - 15s 123ms/step - loss: 0.0170 - accuracy: 0.9937 - val_loss: 1.0418 - val_accuracy: 0.8217 - _timestamp: 1657577933.0000 - _runtime: 1093.0000\n",
            "Epoch 70/200\n",
            "125/125 [==============================] - 15s 121ms/step - loss: 0.0102 - accuracy: 0.9959 - val_loss: 1.2065 - val_accuracy: 0.8150 - _timestamp: 1657577948.0000 - _runtime: 1108.0000\n",
            "Epoch 71/200\n",
            "125/125 [==============================] - 15s 123ms/step - loss: 0.0091 - accuracy: 0.9968 - val_loss: 1.2443 - val_accuracy: 0.8100 - _timestamp: 1657577963.0000 - _runtime: 1123.0000\n",
            "Epoch 72/200\n",
            "125/125 [==============================] - 15s 123ms/step - loss: 0.0122 - accuracy: 0.9951 - val_loss: 1.2472 - val_accuracy: 0.8212 - _timestamp: 1657577979.0000 - _runtime: 1139.0000\n",
            "Epoch 73/200\n",
            "125/125 [==============================] - 15s 124ms/step - loss: 0.0148 - accuracy: 0.9945 - val_loss: 1.1073 - val_accuracy: 0.8212 - _timestamp: 1657577994.0000 - _runtime: 1154.0000\n",
            "Epoch 74/200\n",
            "125/125 [==============================] - 17s 135ms/step - loss: 0.0125 - accuracy: 0.9951 - val_loss: 1.1295 - val_accuracy: 0.8102 - _timestamp: 1657578011.0000 - _runtime: 1171.0000\n",
            "Epoch 75/200\n",
            "125/125 [==============================] - 15s 121ms/step - loss: 0.0138 - accuracy: 0.9944 - val_loss: 1.0895 - val_accuracy: 0.8097 - _timestamp: 1657578026.0000 - _runtime: 1186.0000\n",
            "Epoch 76/200\n",
            "125/125 [==============================] - 15s 120ms/step - loss: 0.0080 - accuracy: 0.9972 - val_loss: 1.2715 - val_accuracy: 0.8220 - _timestamp: 1657578041.0000 - _runtime: 1201.0000\n",
            "Epoch 77/200\n",
            "125/125 [==============================] - 16s 129ms/step - loss: 0.0084 - accuracy: 0.9972 - val_loss: 1.3049 - val_accuracy: 0.8165 - _timestamp: 1657578057.0000 - _runtime: 1217.0000\n",
            "Epoch 78/200\n",
            "125/125 [==============================] - 16s 130ms/step - loss: 0.0130 - accuracy: 0.9954 - val_loss: 1.1913 - val_accuracy: 0.8237 - _timestamp: 1657578073.0000 - _runtime: 1233.0000\n",
            "Epoch 79/200\n",
            "125/125 [==============================] - 16s 130ms/step - loss: 0.0088 - accuracy: 0.9962 - val_loss: 1.2382 - val_accuracy: 0.8222 - _timestamp: 1657578090.0000 - _runtime: 1250.0000\n",
            "Epoch 80/200\n",
            "125/125 [==============================] - 16s 130ms/step - loss: 0.0127 - accuracy: 0.9954 - val_loss: 1.1832 - val_accuracy: 0.8222 - _timestamp: 1657578106.0000 - _runtime: 1266.0000\n",
            "Epoch 81/200\n",
            "125/125 [==============================] - 16s 130ms/step - loss: 0.0112 - accuracy: 0.9959 - val_loss: 1.1358 - val_accuracy: 0.8162 - _timestamp: 1657578122.0000 - _runtime: 1282.0000\n",
            "Epoch 82/200\n",
            "125/125 [==============================] - 16s 128ms/step - loss: 0.0142 - accuracy: 0.9939 - val_loss: 1.2222 - val_accuracy: 0.8175 - _timestamp: 1657578138.0000 - _runtime: 1298.0000\n",
            "Epoch 83/200\n",
            "125/125 [==============================] - 16s 128ms/step - loss: 0.0144 - accuracy: 0.9947 - val_loss: 1.0405 - val_accuracy: 0.8182 - _timestamp: 1657578154.0000 - _runtime: 1314.0000\n",
            "Epoch 84/200\n",
            "125/125 [==============================] - 16s 128ms/step - loss: 0.0085 - accuracy: 0.9966 - val_loss: 1.1696 - val_accuracy: 0.8225 - _timestamp: 1657578170.0000 - _runtime: 1330.0000\n",
            "Epoch 85/200\n",
            "125/125 [==============================] - 16s 128ms/step - loss: 0.0132 - accuracy: 0.9952 - val_loss: 1.1329 - val_accuracy: 0.8212 - _timestamp: 1657578186.0000 - _runtime: 1346.0000\n",
            "Epoch 86/200\n",
            "125/125 [==============================] - 16s 125ms/step - loss: 0.0072 - accuracy: 0.9964 - val_loss: 1.3616 - val_accuracy: 0.8220 - _timestamp: 1657578202.0000 - _runtime: 1362.0000\n",
            "Epoch 87/200\n",
            "125/125 [==============================] - 15s 123ms/step - loss: 0.0107 - accuracy: 0.9961 - val_loss: 1.2682 - val_accuracy: 0.8162 - _timestamp: 1657578217.0000 - _runtime: 1377.0000\n",
            "Epoch 88/200\n",
            "125/125 [==============================] - 15s 122ms/step - loss: 0.0112 - accuracy: 0.9959 - val_loss: 1.1977 - val_accuracy: 0.8220 - _timestamp: 1657578232.0000 - _runtime: 1392.0000\n",
            "Epoch 89/200\n",
            "125/125 [==============================] - 15s 122ms/step - loss: 0.0089 - accuracy: 0.9969 - val_loss: 1.2026 - val_accuracy: 0.8167 - _timestamp: 1657578248.0000 - _runtime: 1408.0000\n",
            "Epoch 90/200\n",
            "125/125 [==============================] - 15s 121ms/step - loss: 0.0089 - accuracy: 0.9972 - val_loss: 1.1989 - val_accuracy: 0.8202 - _timestamp: 1657578263.0000 - _runtime: 1423.0000\n",
            "Epoch 91/200\n",
            "125/125 [==============================] - 15s 123ms/step - loss: 0.0094 - accuracy: 0.9966 - val_loss: 1.2022 - val_accuracy: 0.8155 - _timestamp: 1657578278.0000 - _runtime: 1438.0000\n",
            "Epoch 92/200\n",
            "125/125 [==============================] - 15s 121ms/step - loss: 0.0112 - accuracy: 0.9957 - val_loss: 1.1382 - val_accuracy: 0.8105 - _timestamp: 1657578293.0000 - _runtime: 1453.0000\n",
            "Epoch 93/200\n",
            "125/125 [==============================] - 15s 122ms/step - loss: 0.0093 - accuracy: 0.9964 - val_loss: 1.2096 - val_accuracy: 0.8157 - _timestamp: 1657578308.0000 - _runtime: 1468.0000\n",
            "Epoch 94/200\n",
            "125/125 [==============================] - 15s 121ms/step - loss: 0.0131 - accuracy: 0.9951 - val_loss: 1.0904 - val_accuracy: 0.8137 - _timestamp: 1657578324.0000 - _runtime: 1484.0000\n",
            "Epoch 95/200\n",
            "125/125 [==============================] - 15s 122ms/step - loss: 0.0085 - accuracy: 0.9963 - val_loss: 1.2972 - val_accuracy: 0.8130 - _timestamp: 1657578339.0000 - _runtime: 1499.0000\n",
            "Epoch 96/200\n",
            "125/125 [==============================] - 17s 137ms/step - loss: 0.0125 - accuracy: 0.9959 - val_loss: 1.0241 - val_accuracy: 0.8152 - _timestamp: 1657578356.0000 - _runtime: 1516.0000\n",
            "Epoch 97/200\n",
            "125/125 [==============================] - 15s 124ms/step - loss: 0.0090 - accuracy: 0.9961 - val_loss: 1.1844 - val_accuracy: 0.8235 - _timestamp: 1657578371.0000 - _runtime: 1531.0000\n",
            "Epoch 98/200\n",
            "125/125 [==============================] - 15s 121ms/step - loss: 0.0073 - accuracy: 0.9971 - val_loss: 1.2530 - val_accuracy: 0.8225 - _timestamp: 1657578387.0000 - _runtime: 1547.0000\n",
            "Epoch 99/200\n",
            "125/125 [==============================] - 15s 122ms/step - loss: 0.0117 - accuracy: 0.9965 - val_loss: 1.0687 - val_accuracy: 0.8242 - _timestamp: 1657578402.0000 - _runtime: 1562.0000\n",
            "Epoch 100/200\n",
            "125/125 [==============================] - 15s 122ms/step - loss: 0.0070 - accuracy: 0.9974 - val_loss: 1.2547 - val_accuracy: 0.8250 - _timestamp: 1657578417.0000 - _runtime: 1577.0000\n",
            "Epoch 101/200\n",
            "125/125 [==============================] - 15s 122ms/step - loss: 0.0094 - accuracy: 0.9965 - val_loss: 1.1644 - val_accuracy: 0.8102 - _timestamp: 1657578432.0000 - _runtime: 1592.0000\n",
            "Epoch 102/200\n",
            "125/125 [==============================] - 15s 122ms/step - loss: 0.0065 - accuracy: 0.9971 - val_loss: 1.4175 - val_accuracy: 0.8175 - _timestamp: 1657578447.0000 - _runtime: 1607.0000\n",
            "Epoch 103/200\n",
            "125/125 [==============================] - 15s 122ms/step - loss: 0.0077 - accuracy: 0.9969 - val_loss: 1.3083 - val_accuracy: 0.8222 - _timestamp: 1657578463.0000 - _runtime: 1623.0000\n",
            "Epoch 104/200\n",
            "125/125 [==============================] - 15s 122ms/step - loss: 0.0072 - accuracy: 0.9969 - val_loss: 1.3437 - val_accuracy: 0.8150 - _timestamp: 1657578478.0000 - _runtime: 1638.0000\n",
            "Epoch 105/200\n",
            "125/125 [==============================] - 15s 122ms/step - loss: 0.0092 - accuracy: 0.9965 - val_loss: 1.1707 - val_accuracy: 0.8095 - _timestamp: 1657578493.0000 - _runtime: 1653.0000\n",
            "Epoch 106/200\n",
            "125/125 [==============================] - 15s 122ms/step - loss: 0.0059 - accuracy: 0.9977 - val_loss: 1.4336 - val_accuracy: 0.8260 - _timestamp: 1657578508.0000 - _runtime: 1668.0000\n",
            "Epoch 107/200\n",
            "125/125 [==============================] - 15s 122ms/step - loss: 0.0092 - accuracy: 0.9964 - val_loss: 1.2479 - val_accuracy: 0.8180 - _timestamp: 1657578524.0000 - _runtime: 1684.0000\n",
            "Epoch 108/200\n",
            "125/125 [==============================] - 15s 122ms/step - loss: 0.0087 - accuracy: 0.9966 - val_loss: 1.2960 - val_accuracy: 0.8120 - _timestamp: 1657578539.0000 - _runtime: 1699.0000\n",
            "Epoch 109/200\n",
            "125/125 [==============================] - 15s 122ms/step - loss: 0.0068 - accuracy: 0.9973 - val_loss: 1.3635 - val_accuracy: 0.8240 - _timestamp: 1657578554.0000 - _runtime: 1714.0000\n",
            "Epoch 110/200\n",
            "125/125 [==============================] - 15s 122ms/step - loss: 0.0136 - accuracy: 0.9952 - val_loss: 1.0773 - val_accuracy: 0.8187 - _timestamp: 1657578569.0000 - _runtime: 1729.0000\n",
            "Epoch 111/200\n",
            "125/125 [==============================] - 15s 121ms/step - loss: 0.0072 - accuracy: 0.9967 - val_loss: 1.2673 - val_accuracy: 0.8120 - _timestamp: 1657578584.0000 - _runtime: 1744.0000\n",
            "Epoch 112/200\n",
            "125/125 [==============================] - 15s 121ms/step - loss: 0.0075 - accuracy: 0.9972 - val_loss: 1.2143 - val_accuracy: 0.8127 - _timestamp: 1657578600.0000 - _runtime: 1760.0000\n",
            "Epoch 113/200\n",
            "125/125 [==============================] - 15s 121ms/step - loss: 0.0066 - accuracy: 0.9973 - val_loss: 1.2810 - val_accuracy: 0.8205 - _timestamp: 1657578615.0000 - _runtime: 1775.0000\n",
            "Epoch 114/200\n",
            "125/125 [==============================] - 15s 123ms/step - loss: 0.0097 - accuracy: 0.9966 - val_loss: 1.2384 - val_accuracy: 0.8190 - _timestamp: 1657578630.0000 - _runtime: 1790.0000\n",
            "Epoch 115/200\n",
            "125/125 [==============================] - 15s 121ms/step - loss: 0.0072 - accuracy: 0.9974 - val_loss: 1.2728 - val_accuracy: 0.8160 - _timestamp: 1657578645.0000 - _runtime: 1805.0000\n",
            "Epoch 116/200\n",
            "125/125 [==============================] - 15s 122ms/step - loss: 0.0086 - accuracy: 0.9968 - val_loss: 1.2690 - val_accuracy: 0.8122 - _timestamp: 1657578660.0000 - _runtime: 1820.0000\n",
            "Epoch 117/200\n",
            "125/125 [==============================] - 15s 122ms/step - loss: 0.0076 - accuracy: 0.9974 - val_loss: 1.2963 - val_accuracy: 0.8260 - _timestamp: 1657578676.0000 - _runtime: 1836.0000\n",
            "Epoch 118/200\n",
            "125/125 [==============================] - 15s 121ms/step - loss: 0.0117 - accuracy: 0.9957 - val_loss: 1.0847 - val_accuracy: 0.8202 - _timestamp: 1657578691.0000 - _runtime: 1851.0000\n",
            "Epoch 119/200\n",
            "125/125 [==============================] - 17s 137ms/step - loss: 0.0075 - accuracy: 0.9971 - val_loss: 1.2767 - val_accuracy: 0.8210 - _timestamp: 1657578708.0000 - _runtime: 1868.0000\n",
            "Epoch 120/200\n",
            "125/125 [==============================] - 15s 122ms/step - loss: 0.0086 - accuracy: 0.9967 - val_loss: 1.2197 - val_accuracy: 0.8260 - _timestamp: 1657578723.0000 - _runtime: 1883.0000\n",
            "Epoch 121/200\n",
            "125/125 [==============================] - 15s 122ms/step - loss: 0.0077 - accuracy: 0.9967 - val_loss: 1.2990 - val_accuracy: 0.8165 - _timestamp: 1657578738.0000 - _runtime: 1898.0000\n",
            "Epoch 122/200\n",
            "125/125 [==============================] - 15s 121ms/step - loss: 0.0078 - accuracy: 0.9974 - val_loss: 1.2561 - val_accuracy: 0.8207 - _timestamp: 1657578754.0000 - _runtime: 1914.0000\n",
            "Epoch 123/200\n",
            "125/125 [==============================] - 15s 122ms/step - loss: 0.0084 - accuracy: 0.9962 - val_loss: 1.2763 - val_accuracy: 0.8115 - _timestamp: 1657578769.0000 - _runtime: 1929.0000\n",
            "Epoch 124/200\n",
            "125/125 [==============================] - 15s 121ms/step - loss: 0.0068 - accuracy: 0.9974 - val_loss: 1.2889 - val_accuracy: 0.8215 - _timestamp: 1657578784.0000 - _runtime: 1944.0000\n",
            "Epoch 125/200\n",
            "125/125 [==============================] - 15s 122ms/step - loss: 0.0103 - accuracy: 0.9959 - val_loss: 1.2208 - val_accuracy: 0.8115 - _timestamp: 1657578799.0000 - _runtime: 1959.0000\n",
            "Epoch 126/200\n",
            "125/125 [==============================] - 15s 122ms/step - loss: 0.0108 - accuracy: 0.9960 - val_loss: 1.1737 - val_accuracy: 0.8157 - _timestamp: 1657578815.0000 - _runtime: 1975.0000\n",
            "Epoch 127/200\n",
            "125/125 [==============================] - 15s 123ms/step - loss: 0.0092 - accuracy: 0.9967 - val_loss: 1.1887 - val_accuracy: 0.8170 - _timestamp: 1657578830.0000 - _runtime: 1990.0000\n",
            "Epoch 128/200\n",
            "125/125 [==============================] - 15s 121ms/step - loss: 0.0074 - accuracy: 0.9972 - val_loss: 1.3009 - val_accuracy: 0.8072 - _timestamp: 1657578845.0000 - _runtime: 2005.0000\n",
            "Epoch 129/200\n",
            "125/125 [==============================] - 15s 121ms/step - loss: 0.0093 - accuracy: 0.9967 - val_loss: 1.2593 - val_accuracy: 0.7979 - _timestamp: 1657578860.0000 - _runtime: 2020.0000\n",
            "Epoch 130/200\n",
            "125/125 [==============================] - 16s 128ms/step - loss: 0.0092 - accuracy: 0.9964 - val_loss: 1.2432 - val_accuracy: 0.8200 - _timestamp: 1657578876.0000 - _runtime: 2036.0000\n",
            "Epoch 131/200\n",
            "125/125 [==============================] - 16s 126ms/step - loss: 0.0070 - accuracy: 0.9972 - val_loss: 1.3259 - val_accuracy: 0.8192 - _timestamp: 1657578892.0000 - _runtime: 2052.0000\n",
            "Epoch 132/200\n",
            "125/125 [==============================] - 15s 122ms/step - loss: 0.0070 - accuracy: 0.9970 - val_loss: 1.3834 - val_accuracy: 0.8212 - _timestamp: 1657578907.0000 - _runtime: 2067.0000\n",
            "Epoch 133/200\n",
            "125/125 [==============================] - 15s 121ms/step - loss: 0.0068 - accuracy: 0.9973 - val_loss: 1.3044 - val_accuracy: 0.8227 - _timestamp: 1657578922.0000 - _runtime: 2082.0000\n",
            "Epoch 134/200\n",
            "125/125 [==============================] - 15s 121ms/step - loss: 0.0051 - accuracy: 0.9983 - val_loss: 1.4848 - val_accuracy: 0.8220 - _timestamp: 1657578938.0000 - _runtime: 2098.0000\n",
            "Epoch 135/200\n",
            "125/125 [==============================] - 15s 122ms/step - loss: 0.0116 - accuracy: 0.9956 - val_loss: 1.1614 - val_accuracy: 0.8097 - _timestamp: 1657578953.0000 - _runtime: 2113.0000\n",
            "Epoch 136/200\n",
            "125/125 [==============================] - 15s 122ms/step - loss: 0.0067 - accuracy: 0.9974 - val_loss: 1.3423 - val_accuracy: 0.8140 - _timestamp: 1657578968.0000 - _runtime: 2128.0000\n",
            "Epoch 137/200\n",
            "125/125 [==============================] - 15s 122ms/step - loss: 0.0090 - accuracy: 0.9962 - val_loss: 1.1836 - val_accuracy: 0.8085 - _timestamp: 1657578983.0000 - _runtime: 2143.0000\n",
            "Epoch 138/200\n",
            "125/125 [==============================] - 15s 122ms/step - loss: 0.0057 - accuracy: 0.9976 - val_loss: 1.3245 - val_accuracy: 0.8112 - _timestamp: 1657578998.0000 - _runtime: 2158.0000\n",
            "Epoch 139/200\n",
            "125/125 [==============================] - 15s 123ms/step - loss: 0.0058 - accuracy: 0.9978 - val_loss: 1.3682 - val_accuracy: 0.8222 - _timestamp: 1657579014.0000 - _runtime: 2174.0000\n",
            "Epoch 140/200\n",
            "125/125 [==============================] - 16s 124ms/step - loss: 0.0064 - accuracy: 0.9975 - val_loss: 1.2741 - val_accuracy: 0.8145 - _timestamp: 1657579029.0000 - _runtime: 2189.0000\n",
            "Epoch 141/200\n",
            "125/125 [==============================] - 17s 133ms/step - loss: 0.0068 - accuracy: 0.9972 - val_loss: 1.2091 - val_accuracy: 0.8182 - _timestamp: 1657579046.0000 - _runtime: 2206.0000\n",
            "Epoch 142/200\n",
            "125/125 [==============================] - 16s 130ms/step - loss: 0.0067 - accuracy: 0.9973 - val_loss: 1.3135 - val_accuracy: 0.8140 - _timestamp: 1657579062.0000 - _runtime: 2222.0000\n",
            "Epoch 143/200\n",
            "125/125 [==============================] - 15s 124ms/step - loss: 0.0080 - accuracy: 0.9965 - val_loss: 1.3511 - val_accuracy: 0.8102 - _timestamp: 1657579078.0000 - _runtime: 2238.0000\n",
            "Epoch 144/200\n",
            "125/125 [==============================] - 15s 124ms/step - loss: 0.0069 - accuracy: 0.9971 - val_loss: 1.3758 - val_accuracy: 0.8140 - _timestamp: 1657579093.0000 - _runtime: 2253.0000\n",
            "Epoch 145/200\n",
            "125/125 [==============================] - 16s 124ms/step - loss: 0.0067 - accuracy: 0.9974 - val_loss: 1.4232 - val_accuracy: 0.8120 - _timestamp: 1657579109.0000 - _runtime: 2269.0000\n",
            "Epoch 146/200\n",
            "125/125 [==============================] - 15s 122ms/step - loss: 0.0084 - accuracy: 0.9968 - val_loss: 1.3417 - val_accuracy: 0.8182 - _timestamp: 1657579124.0000 - _runtime: 2284.0000\n",
            "Epoch 147/200\n",
            "125/125 [==============================] - 15s 124ms/step - loss: 0.0074 - accuracy: 0.9966 - val_loss: 1.2424 - val_accuracy: 0.8145 - _timestamp: 1657579140.0000 - _runtime: 2300.0000\n",
            "Epoch 148/200\n",
            "125/125 [==============================] - 15s 123ms/step - loss: 0.0094 - accuracy: 0.9961 - val_loss: 1.1783 - val_accuracy: 0.8197 - _timestamp: 1657579155.0000 - _runtime: 2315.0000\n",
            "Epoch 149/200\n",
            "125/125 [==============================] - 15s 124ms/step - loss: 0.0079 - accuracy: 0.9972 - val_loss: 1.2048 - val_accuracy: 0.8195 - _timestamp: 1657579170.0000 - _runtime: 2330.0000\n",
            "Epoch 150/200\n",
            "125/125 [==============================] - 15s 123ms/step - loss: 0.0070 - accuracy: 0.9973 - val_loss: 1.1765 - val_accuracy: 0.8177 - _timestamp: 1657579186.0000 - _runtime: 2346.0000\n",
            "Epoch 151/200\n",
            "125/125 [==============================] - 15s 123ms/step - loss: 0.0077 - accuracy: 0.9972 - val_loss: 1.2688 - val_accuracy: 0.8202 - _timestamp: 1657579201.0000 - _runtime: 2361.0000\n",
            "Epoch 152/200\n",
            "125/125 [==============================] - 15s 122ms/step - loss: 0.0058 - accuracy: 0.9977 - val_loss: 1.4131 - val_accuracy: 0.8187 - _timestamp: 1657579217.0000 - _runtime: 2377.0000\n",
            "Epoch 153/200\n",
            "125/125 [==============================] - 16s 128ms/step - loss: 0.0064 - accuracy: 0.9981 - val_loss: 1.3678 - val_accuracy: 0.8200 - _timestamp: 1657579233.0000 - _runtime: 2393.0000\n",
            "Epoch 154/200\n",
            "125/125 [==============================] - 16s 130ms/step - loss: 0.0068 - accuracy: 0.9974 - val_loss: 1.3056 - val_accuracy: 0.8162 - _timestamp: 1657579249.0000 - _runtime: 2409.0000\n",
            "Epoch 155/200\n",
            "125/125 [==============================] - 17s 134ms/step - loss: 0.0083 - accuracy: 0.9969 - val_loss: 1.1999 - val_accuracy: 0.8130 - _timestamp: 1657579266.0000 - _runtime: 2426.0000\n",
            "Epoch 156/200\n",
            "125/125 [==============================] - 16s 132ms/step - loss: 0.0042 - accuracy: 0.9984 - val_loss: 1.4058 - val_accuracy: 0.8245 - _timestamp: 1657579282.0000 - _runtime: 2442.0000\n",
            "Epoch 157/200\n",
            "125/125 [==============================] - 16s 132ms/step - loss: 0.0077 - accuracy: 0.9969 - val_loss: 1.2586 - val_accuracy: 0.8207 - _timestamp: 1657579298.0000 - _runtime: 2458.0000\n",
            "Epoch 158/200\n",
            "125/125 [==============================] - 16s 131ms/step - loss: 0.0077 - accuracy: 0.9971 - val_loss: 1.2187 - val_accuracy: 0.8235 - _timestamp: 1657579315.0000 - _runtime: 2475.0000\n",
            "Epoch 159/200\n",
            "125/125 [==============================] - 16s 131ms/step - loss: 0.0053 - accuracy: 0.9979 - val_loss: 1.3038 - val_accuracy: 0.8152 - _timestamp: 1657579331.0000 - _runtime: 2491.0000\n",
            "Epoch 160/200\n",
            "125/125 [==============================] - 16s 132ms/step - loss: 0.0047 - accuracy: 0.9977 - val_loss: 1.5436 - val_accuracy: 0.8262 - _timestamp: 1657579348.0000 - _runtime: 2508.0000\n",
            "Epoch 161/200\n",
            "125/125 [==============================] - 16s 130ms/step - loss: 0.0104 - accuracy: 0.9966 - val_loss: 1.1084 - val_accuracy: 0.8232 - _timestamp: 1657579364.0000 - _runtime: 2524.0000\n",
            "Epoch 162/200\n",
            "125/125 [==============================] - 16s 130ms/step - loss: 0.0064 - accuracy: 0.9977 - val_loss: 1.2340 - val_accuracy: 0.8182 - _timestamp: 1657579380.0000 - _runtime: 2540.0000\n",
            "Epoch 163/200\n",
            "125/125 [==============================] - 18s 142ms/step - loss: 0.0058 - accuracy: 0.9977 - val_loss: 1.4219 - val_accuracy: 0.8245 - _timestamp: 1657579398.0000 - _runtime: 2558.0000\n",
            "Epoch 164/200\n",
            "125/125 [==============================] - 16s 130ms/step - loss: 0.0060 - accuracy: 0.9976 - val_loss: 1.3790 - val_accuracy: 0.8175 - _timestamp: 1657579414.0000 - _runtime: 2574.0000\n",
            "Epoch 165/200\n",
            "125/125 [==============================] - 16s 130ms/step - loss: 0.0072 - accuracy: 0.9970 - val_loss: 1.3935 - val_accuracy: 0.8157 - _timestamp: 1657579430.0000 - _runtime: 2590.0000\n",
            "Epoch 166/200\n",
            "125/125 [==============================] - 16s 130ms/step - loss: 0.0080 - accuracy: 0.9973 - val_loss: 1.2165 - val_accuracy: 0.8220 - _timestamp: 1657579447.0000 - _runtime: 2607.0000\n",
            "Epoch 167/200\n",
            "125/125 [==============================] - 16s 131ms/step - loss: 0.0062 - accuracy: 0.9974 - val_loss: 1.3281 - val_accuracy: 0.8110 - _timestamp: 1657579463.0000 - _runtime: 2623.0000\n",
            "Epoch 168/200\n",
            "125/125 [==============================] - 16s 130ms/step - loss: 0.0070 - accuracy: 0.9974 - val_loss: 1.2057 - val_accuracy: 0.8155 - _timestamp: 1657579479.0000 - _runtime: 2639.0000\n",
            "Epoch 169/200\n",
            "125/125 [==============================] - 16s 131ms/step - loss: 0.0057 - accuracy: 0.9982 - val_loss: 1.2832 - val_accuracy: 0.8182 - _timestamp: 1657579496.0000 - _runtime: 2656.0000\n",
            "Epoch 170/200\n",
            "125/125 [==============================] - 16s 130ms/step - loss: 0.0059 - accuracy: 0.9979 - val_loss: 1.2958 - val_accuracy: 0.8120 - _timestamp: 1657579512.0000 - _runtime: 2672.0000\n",
            "Epoch 171/200\n",
            "125/125 [==============================] - 16s 129ms/step - loss: 0.0069 - accuracy: 0.9973 - val_loss: 1.2414 - val_accuracy: 0.8212 - _timestamp: 1657579528.0000 - _runtime: 2688.0000\n",
            "Epoch 172/200\n",
            "125/125 [==============================] - 16s 131ms/step - loss: 0.0070 - accuracy: 0.9969 - val_loss: 1.2704 - val_accuracy: 0.8155 - _timestamp: 1657579544.0000 - _runtime: 2704.0000\n",
            "Epoch 173/200\n",
            "125/125 [==============================] - 16s 130ms/step - loss: 0.0055 - accuracy: 0.9976 - val_loss: 1.3433 - val_accuracy: 0.8150 - _timestamp: 1657579561.0000 - _runtime: 2721.0000\n",
            "Epoch 174/200\n",
            "125/125 [==============================] - 16s 129ms/step - loss: 0.0082 - accuracy: 0.9969 - val_loss: 1.3267 - val_accuracy: 0.8080 - _timestamp: 1657579577.0000 - _runtime: 2737.0000\n",
            "Epoch 175/200\n",
            "125/125 [==============================] - 16s 130ms/step - loss: 0.0044 - accuracy: 0.9984 - val_loss: 1.4415 - val_accuracy: 0.8225 - _timestamp: 1657579593.0000 - _runtime: 2753.0000\n",
            "Epoch 176/200\n",
            "125/125 [==============================] - 16s 130ms/step - loss: 0.0101 - accuracy: 0.9964 - val_loss: 1.1592 - val_accuracy: 0.8145 - _timestamp: 1657579609.0000 - _runtime: 2769.0000\n",
            "Epoch 177/200\n",
            "125/125 [==============================] - 16s 130ms/step - loss: 0.0070 - accuracy: 0.9976 - val_loss: 1.1694 - val_accuracy: 0.8117 - _timestamp: 1657579625.0000 - _runtime: 2785.0000\n",
            "Epoch 178/200\n",
            "125/125 [==============================] - 16s 130ms/step - loss: 0.0101 - accuracy: 0.9963 - val_loss: 1.1836 - val_accuracy: 0.8205 - _timestamp: 1657579642.0000 - _runtime: 2802.0000\n",
            "Epoch 179/200\n",
            "125/125 [==============================] - 16s 131ms/step - loss: 0.0058 - accuracy: 0.9978 - val_loss: 1.3172 - val_accuracy: 0.8202 - _timestamp: 1657579658.0000 - _runtime: 2818.0000\n",
            "Epoch 180/200\n",
            "125/125 [==============================] - 16s 130ms/step - loss: 0.0051 - accuracy: 0.9983 - val_loss: 1.3867 - val_accuracy: 0.8197 - _timestamp: 1657579674.0000 - _runtime: 2834.0000\n",
            "Epoch 181/200\n",
            "125/125 [==============================] - 16s 130ms/step - loss: 0.0067 - accuracy: 0.9974 - val_loss: 1.2388 - val_accuracy: 0.8225 - _timestamp: 1657579690.0000 - _runtime: 2850.0000\n",
            "Epoch 182/200\n",
            "125/125 [==============================] - 16s 129ms/step - loss: 0.0047 - accuracy: 0.9984 - val_loss: 1.3673 - val_accuracy: 0.8210 - _timestamp: 1657579707.0000 - _runtime: 2867.0000\n",
            "Epoch 183/200\n",
            "125/125 [==============================] - 16s 130ms/step - loss: 0.0054 - accuracy: 0.9977 - val_loss: 1.3221 - val_accuracy: 0.8230 - _timestamp: 1657579723.0000 - _runtime: 2883.0000\n",
            "Epoch 184/200\n",
            "125/125 [==============================] - 17s 139ms/step - loss: 0.0064 - accuracy: 0.9973 - val_loss: 1.1757 - val_accuracy: 0.8195 - _timestamp: 1657579740.0000 - _runtime: 2900.0000\n",
            "Epoch 185/200\n",
            "125/125 [==============================] - 16s 128ms/step - loss: 0.0042 - accuracy: 0.9984 - val_loss: 1.3899 - val_accuracy: 0.8112 - _timestamp: 1657579756.0000 - _runtime: 2916.0000\n",
            "Epoch 186/200\n",
            "125/125 [==============================] - 16s 129ms/step - loss: 0.0077 - accuracy: 0.9969 - val_loss: 1.2430 - val_accuracy: 0.8217 - _timestamp: 1657579773.0000 - _runtime: 2933.0000\n",
            "Epoch 187/200\n",
            "125/125 [==============================] - 16s 131ms/step - loss: 0.0077 - accuracy: 0.9973 - val_loss: 1.3298 - val_accuracy: 0.8192 - _timestamp: 1657579789.0000 - _runtime: 2949.0000\n",
            "Epoch 188/200\n",
            "125/125 [==============================] - 16s 131ms/step - loss: 0.0078 - accuracy: 0.9970 - val_loss: 1.2875 - val_accuracy: 0.8150 - _timestamp: 1657579805.0000 - _runtime: 2965.0000\n",
            "Epoch 189/200\n",
            "125/125 [==============================] - 16s 131ms/step - loss: 0.0083 - accuracy: 0.9975 - val_loss: 1.2347 - val_accuracy: 0.8222 - _timestamp: 1657579822.0000 - _runtime: 2982.0000\n",
            "Epoch 190/200\n",
            "125/125 [==============================] - 16s 131ms/step - loss: 0.0063 - accuracy: 0.9976 - val_loss: 1.2098 - val_accuracy: 0.8167 - _timestamp: 1657579838.0000 - _runtime: 2998.0000\n",
            "Epoch 191/200\n",
            "125/125 [==============================] - 16s 131ms/step - loss: 0.0073 - accuracy: 0.9978 - val_loss: 1.1945 - val_accuracy: 0.8227 - _timestamp: 1657579854.0000 - _runtime: 3014.0000\n",
            "Epoch 192/200\n",
            "125/125 [==============================] - 16s 130ms/step - loss: 0.0051 - accuracy: 0.9980 - val_loss: 1.3028 - val_accuracy: 0.8250 - _timestamp: 1657579871.0000 - _runtime: 3031.0000\n",
            "Epoch 193/200\n",
            "125/125 [==============================] - 16s 130ms/step - loss: 0.0060 - accuracy: 0.9977 - val_loss: 1.2738 - val_accuracy: 0.8212 - _timestamp: 1657579887.0000 - _runtime: 3047.0000\n",
            "Epoch 194/200\n",
            "125/125 [==============================] - 16s 130ms/step - loss: 0.0049 - accuracy: 0.9981 - val_loss: 1.3425 - val_accuracy: 0.8202 - _timestamp: 1657579903.0000 - _runtime: 3063.0000\n",
            "Epoch 195/200\n",
            "125/125 [==============================] - 16s 130ms/step - loss: 0.0031 - accuracy: 0.9987 - val_loss: 1.4376 - val_accuracy: 0.8160 - _timestamp: 1657579919.0000 - _runtime: 3079.0000\n",
            "Epoch 196/200\n",
            "125/125 [==============================] - 16s 130ms/step - loss: 0.0077 - accuracy: 0.9974 - val_loss: 1.2548 - val_accuracy: 0.8192 - _timestamp: 1657579936.0000 - _runtime: 3096.0000\n",
            "Epoch 197/200\n",
            "125/125 [==============================] - 16s 131ms/step - loss: 0.0086 - accuracy: 0.9964 - val_loss: 1.1758 - val_accuracy: 0.8227 - _timestamp: 1657579952.0000 - _runtime: 3112.0000\n",
            "Epoch 198/200\n",
            "125/125 [==============================] - 17s 132ms/step - loss: 0.0089 - accuracy: 0.9966 - val_loss: 1.2205 - val_accuracy: 0.8230 - _timestamp: 1657579969.0000 - _runtime: 3129.0000\n",
            "Epoch 199/200\n",
            "125/125 [==============================] - 17s 132ms/step - loss: 0.0053 - accuracy: 0.9979 - val_loss: 1.3012 - val_accuracy: 0.8222 - _timestamp: 1657579985.0000 - _runtime: 3145.0000\n",
            "Epoch 200/200\n",
            "125/125 [==============================] - 17s 132ms/step - loss: 0.0065 - accuracy: 0.9974 - val_loss: 1.2088 - val_accuracy: 0.8230 - _timestamp: 1657580002.0000 - _runtime: 3162.0000\n"
          ]
        },
        {
          "data": {
            "text/html": [
              "Waiting for W&B process to finish... <strong style=\"color:green\">(success).</strong>"
            ],
            "text/plain": [
              "<IPython.core.display.HTML object>"
            ]
          },
          "metadata": {},
          "output_type": "display_data"
        },
        {
          "data": {
            "application/vnd.jupyter.widget-view+json": {
              "model_id": "cc48de6d2b7343edafd8b47d4bc5d603",
              "version_major": 2,
              "version_minor": 0
            },
            "text/plain": [
              "VBox(children=(Label(value='1.494 MB of 1.494 MB uploaded (0.000 MB deduped)\\r'), FloatProgress(value=0.999895…"
            ]
          },
          "metadata": {},
          "output_type": "display_data"
        },
        {
          "data": {
            "text/html": [
              "<style>\n",
              "    table.wandb td:nth-child(1) { padding: 0 10px; text-align: left ; width: auto;} td:nth-child(2) {text-align: left ; width: 100%}\n",
              "    .wandb-row { display: flex; flex-direction: row; flex-wrap: wrap; justify-content: flex-start; width: 100% }\n",
              "    .wandb-col { display: flex; flex-direction: column; flex-basis: 100%; flex: 1; padding: 10px; }\n",
              "    </style>\n",
              "<div class=\"wandb-row\"><div class=\"wandb-col\"><h3>Run history:</h3><br/><table class=\"wandb\"><tr><td>accuracy</td><td>▁▆▇█████████████████████████████████████</td></tr><tr><td>epoch</td><td>▁▁▁▁▂▂▂▂▂▃▃▃▃▃▃▄▄▄▄▄▅▅▅▅▅▅▆▆▆▆▆▇▇▇▇▇▇███</td></tr><tr><td>eval/accuracy</td><td>▁</td></tr><tr><td>eval/f1</td><td>▁</td></tr><tr><td>eval/precision</td><td>▁</td></tr><tr><td>eval/recall</td><td>▁</td></tr><tr><td>loss</td><td>█▄▂▂▁▁▁▁▁▁▁▁▁▁▁▁▁▁▁▁▁▁▁▁▁▁▁▁▁▁▁▁▁▁▁▁▁▁▁▁</td></tr><tr><td>val_accuracy</td><td>█▆▇▅▆▅▂▅▆▆▁▇▄▅▆▇▅▆▄▆▅▄▄▆▆▃▆▄▅▆▅▇▅▅▃▆▆▅▆▆</td></tr><tr><td>val_loss</td><td>▁▂▄▄▅▅▆▅▅▆▆▆▆▆▆▆▆▆▆▇█▇▆▅▇▇█▇▇▆▇▆▇▆▇▆▆▇▇▆</td></tr></table><br/></div><div class=\"wandb-col\"><h3>Run summary:</h3><br/><table class=\"wandb\"><tr><td>GFLOPS</td><td>0.0</td></tr><tr><td>accuracy</td><td>0.99743</td></tr><tr><td>best_epoch</td><td>1</td></tr><tr><td>best_val_loss</td><td>0.3937</td></tr><tr><td>epoch</td><td>199</td></tr><tr><td>eval/accuracy</td><td>0.84427</td></tr><tr><td>eval/f1</td><td>0.90327</td></tr><tr><td>eval/precision</td><td>0.86842</td></tr><tr><td>eval/recall</td><td>0.94102</td></tr><tr><td>loss</td><td>0.00647</td></tr><tr><td>val_accuracy</td><td>0.82298</td></tr><tr><td>val_loss</td><td>1.20879</td></tr></table><br/></div></div>"
            ],
            "text/plain": [
              "<IPython.core.display.HTML object>"
            ]
          },
          "metadata": {},
          "output_type": "display_data"
        },
        {
          "data": {
            "text/html": [
              "Synced <strong style=\"color:#cdcd00\">gossipcop-glove300-title-convrnn-fold-0</strong>: <a href=\"https://wandb.ai/arampacha/fnd/runs/3v3oxtzj\" target=\"_blank\">https://wandb.ai/arampacha/fnd/runs/3v3oxtzj</a><br/>Synced 5 W&B file(s), 2 media file(s), 1 artifact file(s) and 1 other file(s)"
            ],
            "text/plain": [
              "<IPython.core.display.HTML object>"
            ]
          },
          "metadata": {},
          "output_type": "display_data"
        },
        {
          "data": {
            "text/html": [
              "Find logs at: <code>./wandb/run-20220711_220040-3v3oxtzj/logs</code>"
            ],
            "text/plain": [
              "<IPython.core.display.HTML object>"
            ]
          },
          "metadata": {},
          "output_type": "display_data"
        }
      ],
      "source": [
        "GROUP = f\"{dataset_id}-glove{d_wv}-title-convrnn\"\n",
        "\n",
        "for fold_id, (train_idx, test_idx) in enumerate(skf.split(X, y)):\n",
        "    clear_output()\n",
        "    with wandb.init(entity=\"arampacha\", project=\"fnd\", group=GROUP, name=f\"{GROUP}-fold-{fold_id}\") as run:\n",
        "        train(fold_id, train_idx, test_idx, params)\n",
        "    break"
      ]
    },
    {
      "cell_type": "markdown",
      "metadata": {
        "id": "chLwp438Mdun"
      },
      "source": [
        "## Fulltext"
      ]
    },
    {
      "cell_type": "code",
      "execution_count": null,
      "metadata": {
        "id": "vtmuh83oMgEx"
      },
      "outputs": [],
      "source": [
        "news['text'].fillna('', inplace=True)\n",
        "news['text']= news['text'].apply(denoise_text)\n",
        "\n",
        "news['fulltext'] = news['title'] + '\\n' + news['text']"
      ]
    },
    {
      "cell_type": "code",
      "execution_count": null,
      "metadata": {
        "id": "co9_90NYOFsk"
      },
      "outputs": [],
      "source": [
        "#Tokenizing Text -> Repsesenting each word by a number\n",
        "tokenizer = text.Tokenizer(oov_token=\"<unk>\")\n",
        "tokenizer.fit_on_texts(news.fulltext)"
      ]
    },
    {
      "cell_type": "code",
      "execution_count": null,
      "metadata": {
        "id": "lGLM2xb0OFs1",
        "colab": {
          "base_uri": "https://localhost:8080/"
        },
        "outputId": "d5dd22a3-4863-428c-97f4-54bc6ca1d286"
      },
      "outputs": [
        {
          "output_type": "stream",
          "name": "stdout",
          "text": [
            "(155478, 300)\n"
          ]
        }
      ],
      "source": [
        "emb_matrix = np.zeros((len(tokenizer.word_index)+1, d_wv), dtype=np.float32)\n",
        "for i in range(1,max(tokenizer.word_index.values())+1):\n",
        "    word = tokenizer.index_word[i]\n",
        "    if word in glove.vocab:\n",
        "        emb_matrix[i, :] = glove.word_vec(word)\n",
        "print(emb_matrix.shape)"
      ]
    },
    {
      "cell_type": "code",
      "execution_count": null,
      "metadata": {
        "id": "eozwoQccPaTa",
        "colab": {
          "base_uri": "https://localhost:8080/"
        },
        "outputId": "ef509758-dac2-4e99-b227-38ee78e965c9"
      },
      "outputs": [
        {
          "output_type": "execute_result",
          "data": {
            "text/plain": [
              "((19968, 128), (19968,))"
            ]
          },
          "metadata": {},
          "execution_count": 28
        }
      ],
      "source": [
        "tokenized_texts = tokenizer.texts_to_sequences(news.fulltext.tolist())\n",
        "max_len = 128\n",
        "X = sequence.pad_sequences(tokenized_texts, maxlen=max_len)\n",
        "y = (df.label==\"real\").to_numpy().astype(int)\n",
        "\n",
        "X.shape, y.shape"
      ]
    },
    {
      "cell_type": "code",
      "execution_count": null,
      "metadata": {
        "id": "8U5tB9pIPaTs"
      },
      "outputs": [],
      "source": [
        "params = {\n",
        "    \"epochs\":200,\n",
        "    \"bs\":128,\n",
        "    # 'lr':1e-3\n",
        "}"
      ]
    },
    {
      "cell_type": "code",
      "execution_count": null,
      "metadata": {
        "id": "eNel4wysPaTv",
        "colab": {
          "base_uri": "https://localhost:8080/",
          "height": 1000,
          "referenced_widgets": [
            "00060d51b55c4ba8a53a1623f761a499",
            "e78f28e8763b4d868728f0b2e1db3330",
            "57590de0d5a94053a0d0005361426af2",
            "5a286cd7e8c340e8a3ae44aa09f503a6",
            "d21511dc3432412a80cde01c820fcf7c",
            "e88a106ef5eb4acc8e5bda2fb09f1c4f",
            "a12193ee0ccb4c7b9542afe459184074",
            "80e845dfb30a4711b6f321c1a71ca938"
          ]
        },
        "outputId": "929e4a17-25eb-4ae4-9814-5d907c144ac3"
      },
      "outputs": [
        {
          "metadata": {
            "tags": null
          },
          "name": "stderr",
          "output_type": "stream",
          "text": [
            "\u001b[34m\u001b[1mwandb\u001b[0m: Currently logged in as: \u001b[33marampacha\u001b[0m. Use \u001b[1m`wandb login --relogin`\u001b[0m to force relogin\n"
          ]
        },
        {
          "data": {
            "text/html": [
              "Tracking run with wandb version 0.12.21"
            ],
            "text/plain": [
              "<IPython.core.display.HTML object>"
            ]
          },
          "metadata": {},
          "output_type": "display_data"
        },
        {
          "data": {
            "text/html": [
              "Run data is saved locally in <code>/content/wandb/run-20220711_225447-ggi70ip8</code>"
            ],
            "text/plain": [
              "<IPython.core.display.HTML object>"
            ]
          },
          "metadata": {},
          "output_type": "display_data"
        },
        {
          "data": {
            "text/html": [
              "Syncing run <strong><a href=\"https://wandb.ai/arampacha/fnd/runs/ggi70ip8\" target=\"_blank\">glove300-fulltext128-convnet-fold-0</a></strong> to <a href=\"https://wandb.ai/arampacha/fnd\" target=\"_blank\">Weights & Biases</a> (<a href=\"https://wandb.me/run\" target=\"_blank\">docs</a>)<br/>"
            ],
            "text/plain": [
              "<IPython.core.display.HTML object>"
            ]
          },
          "metadata": {},
          "output_type": "display_data"
        },
        {
          "output_type": "stream",
          "name": "stdout",
          "text": [
            "Epoch 1/200\n",
            "125/125 [==============================] - 97s 745ms/step - loss: 0.4927 - accuracy: 0.7705 - val_loss: 0.4274 - val_accuracy: 0.8117 - _timestamp: 1657580195.0000 - _runtime: 108.0000\n",
            "Epoch 2/200\n",
            "125/125 [==============================] - 89s 710ms/step - loss: 0.4034 - accuracy: 0.8306 - val_loss: 0.4075 - val_accuracy: 0.8315 - _timestamp: 1657580284.0000 - _runtime: 197.0000\n",
            "Epoch 3/200\n",
            "125/125 [==============================] - 84s 669ms/step - loss: 0.3522 - accuracy: 0.8553 - val_loss: 0.4015 - val_accuracy: 0.8322 - _timestamp: 1657580368.0000 - _runtime: 281.0000\n",
            "Epoch 4/200\n",
            "125/125 [==============================] - 83s 667ms/step - loss: 0.3097 - accuracy: 0.8712 - val_loss: 0.4390 - val_accuracy: 0.8272 - _timestamp: 1657580453.0000 - _runtime: 366.0000\n",
            "Epoch 5/200\n",
            "125/125 [==============================] - 82s 657ms/step - loss: 0.2380 - accuracy: 0.9049 - val_loss: 0.4597 - val_accuracy: 0.8157 - _timestamp: 1657580535.0000 - _runtime: 448.0000\n",
            "Epoch 6/200\n",
            "125/125 [==============================] - 81s 652ms/step - loss: 0.1754 - accuracy: 0.9313 - val_loss: 0.5596 - val_accuracy: 0.8157 - _timestamp: 1657580616.0000 - _runtime: 529.0000\n",
            "Epoch 7/200\n",
            "125/125 [==============================] - 81s 648ms/step - loss: 0.1326 - accuracy: 0.9479 - val_loss: 0.5970 - val_accuracy: 0.8055 - _timestamp: 1657580697.0000 - _runtime: 610.0000\n",
            "Epoch 8/200\n",
            "125/125 [==============================] - 85s 684ms/step - loss: 0.1036 - accuracy: 0.9611 - val_loss: 0.6934 - val_accuracy: 0.8300 - _timestamp: 1657580783.0000 - _runtime: 696.0000\n",
            "Epoch 9/200\n",
            "125/125 [==============================] - 81s 649ms/step - loss: 0.0801 - accuracy: 0.9709 - val_loss: 0.6826 - val_accuracy: 0.8312 - _timestamp: 1657580864.0000 - _runtime: 777.0000\n",
            "Epoch 10/200\n",
            "125/125 [==============================] - 81s 651ms/step - loss: 0.0692 - accuracy: 0.9750 - val_loss: 0.7825 - val_accuracy: 0.8182 - _timestamp: 1657580945.0000 - _runtime: 858.0000\n",
            "Epoch 11/200\n",
            "125/125 [==============================] - 81s 651ms/step - loss: 0.0627 - accuracy: 0.9756 - val_loss: 0.7655 - val_accuracy: 0.8295 - _timestamp: 1657581027.0000 - _runtime: 940.0000\n",
            "Epoch 12/200\n",
            "125/125 [==============================] - 83s 663ms/step - loss: 0.0579 - accuracy: 0.9784 - val_loss: 0.7681 - val_accuracy: 0.8052 - _timestamp: 1657581109.0000 - _runtime: 1022.0000\n",
            "Epoch 13/200\n",
            "125/125 [==============================] - 81s 651ms/step - loss: 0.0477 - accuracy: 0.9820 - val_loss: 0.8859 - val_accuracy: 0.8132 - _timestamp: 1657581191.0000 - _runtime: 1104.0000\n",
            "Epoch 14/200\n",
            "125/125 [==============================] - 81s 651ms/step - loss: 0.0473 - accuracy: 0.9838 - val_loss: 0.8163 - val_accuracy: 0.8135 - _timestamp: 1657581272.0000 - _runtime: 1185.0000\n",
            "Epoch 15/200\n",
            "125/125 [==============================] - 82s 656ms/step - loss: 0.0425 - accuracy: 0.9848 - val_loss: 0.9284 - val_accuracy: 0.8330 - _timestamp: 1657581353.0000 - _runtime: 1266.0000\n",
            "Epoch 16/200\n",
            "125/125 [==============================] - 83s 662ms/step - loss: 0.0351 - accuracy: 0.9879 - val_loss: 0.9322 - val_accuracy: 0.8117 - _timestamp: 1657581437.0000 - _runtime: 1350.0000\n",
            "Epoch 17/200\n",
            "125/125 [==============================] - 81s 650ms/step - loss: 0.0374 - accuracy: 0.9865 - val_loss: 0.9182 - val_accuracy: 0.8172 - _timestamp: 1657581518.0000 - _runtime: 1431.0000\n",
            "Epoch 18/200\n",
            "125/125 [==============================] - 81s 651ms/step - loss: 0.0464 - accuracy: 0.9840 - val_loss: 0.8977 - val_accuracy: 0.8245 - _timestamp: 1657581599.0000 - _runtime: 1512.0000\n",
            "Epoch 19/200\n",
            "125/125 [==============================] - 81s 652ms/step - loss: 0.0288 - accuracy: 0.9898 - val_loss: 0.9816 - val_accuracy: 0.8192 - _timestamp: 1657581681.0000 - _runtime: 1594.0000\n",
            "Epoch 20/200\n",
            "125/125 [==============================] - 82s 653ms/step - loss: 0.0238 - accuracy: 0.9915 - val_loss: 0.9975 - val_accuracy: 0.8202 - _timestamp: 1657581762.0000 - _runtime: 1675.0000\n",
            "Epoch 21/200\n",
            "125/125 [==============================] - 81s 652ms/step - loss: 0.0288 - accuracy: 0.9902 - val_loss: 1.0121 - val_accuracy: 0.8077 - _timestamp: 1657581844.0000 - _runtime: 1757.0000\n",
            "Epoch 22/200\n",
            "125/125 [==============================] - 82s 653ms/step - loss: 0.0228 - accuracy: 0.9915 - val_loss: 1.0675 - val_accuracy: 0.8242 - _timestamp: 1657581925.0000 - _runtime: 1838.0000\n",
            "Epoch 23/200\n",
            "125/125 [==============================] - 82s 653ms/step - loss: 0.0261 - accuracy: 0.9909 - val_loss: 0.9491 - val_accuracy: 0.8047 - _timestamp: 1657582007.0000 - _runtime: 1920.0000\n",
            "Epoch 24/200\n",
            "125/125 [==============================] - 81s 652ms/step - loss: 0.0285 - accuracy: 0.9899 - val_loss: 1.0561 - val_accuracy: 0.8115 - _timestamp: 1657582088.0000 - _runtime: 2001.0000\n",
            "Epoch 25/200\n",
            "125/125 [==============================] - 81s 652ms/step - loss: 0.0310 - accuracy: 0.9889 - val_loss: 1.0502 - val_accuracy: 0.8282 - _timestamp: 1657582170.0000 - _runtime: 2083.0000\n",
            "Epoch 26/200\n",
            "125/125 [==============================] - 82s 660ms/step - loss: 0.0250 - accuracy: 0.9907 - val_loss: 1.1166 - val_accuracy: 0.8343 - _timestamp: 1657582252.0000 - _runtime: 2165.0000\n",
            "Epoch 27/200\n",
            "125/125 [==============================] - 81s 651ms/step - loss: 0.0265 - accuracy: 0.9910 - val_loss: 1.0067 - val_accuracy: 0.8240 - _timestamp: 1657582334.0000 - _runtime: 2247.0000\n",
            "Epoch 28/200\n",
            "125/125 [==============================] - 81s 651ms/step - loss: 0.0218 - accuracy: 0.9925 - val_loss: 1.0640 - val_accuracy: 0.8190 - _timestamp: 1657582415.0000 - _runtime: 2328.0000\n",
            "Epoch 29/200\n",
            "125/125 [==============================] - 81s 651ms/step - loss: 0.0199 - accuracy: 0.9930 - val_loss: 1.0655 - val_accuracy: 0.8190 - _timestamp: 1657582496.0000 - _runtime: 2409.0000\n",
            "Epoch 30/200\n",
            "125/125 [==============================] - 81s 649ms/step - loss: 0.0196 - accuracy: 0.9931 - val_loss: 1.2028 - val_accuracy: 0.8142 - _timestamp: 1657582578.0000 - _runtime: 2491.0000\n",
            "Epoch 31/200\n",
            "125/125 [==============================] - 81s 651ms/step - loss: 0.0252 - accuracy: 0.9902 - val_loss: 1.1395 - val_accuracy: 0.8210 - _timestamp: 1657582659.0000 - _runtime: 2572.0000\n",
            "Epoch 32/200\n",
            "125/125 [==============================] - 81s 650ms/step - loss: 0.0241 - accuracy: 0.9917 - val_loss: 1.1353 - val_accuracy: 0.8232 - _timestamp: 1657582740.0000 - _runtime: 2653.0000\n",
            "Epoch 33/200\n",
            "125/125 [==============================] - 81s 649ms/step - loss: 0.0181 - accuracy: 0.9941 - val_loss: 1.2000 - val_accuracy: 0.8175 - _timestamp: 1657582821.0000 - _runtime: 2734.0000\n",
            "Epoch 34/200\n",
            "125/125 [==============================] - 81s 650ms/step - loss: 0.0219 - accuracy: 0.9926 - val_loss: 1.2453 - val_accuracy: 0.8327 - _timestamp: 1657582902.0000 - _runtime: 2815.0000\n",
            "Epoch 35/200\n",
            "125/125 [==============================] - 81s 650ms/step - loss: 0.0228 - accuracy: 0.9931 - val_loss: 1.0247 - val_accuracy: 0.8012 - _timestamp: 1657582983.0000 - _runtime: 2896.0000\n",
            "Epoch 36/200\n",
            "125/125 [==============================] - 81s 649ms/step - loss: 0.0184 - accuracy: 0.9933 - val_loss: 1.1953 - val_accuracy: 0.8280 - _timestamp: 1657583065.0000 - _runtime: 2978.0000\n",
            "Epoch 37/200\n",
            "125/125 [==============================] - 81s 648ms/step - loss: 0.0236 - accuracy: 0.9922 - val_loss: 1.0481 - val_accuracy: 0.8325 - _timestamp: 1657583146.0000 - _runtime: 3059.0000\n",
            "Epoch 38/200\n",
            "125/125 [==============================] - 81s 649ms/step - loss: 0.0221 - accuracy: 0.9927 - val_loss: 1.0245 - val_accuracy: 0.8240 - _timestamp: 1657583227.0000 - _runtime: 3140.0000\n",
            "Epoch 39/200\n",
            "125/125 [==============================] - 81s 648ms/step - loss: 0.0156 - accuracy: 0.9949 - val_loss: 1.2095 - val_accuracy: 0.8197 - _timestamp: 1657583308.0000 - _runtime: 3221.0000\n",
            "Epoch 40/200\n",
            "125/125 [==============================] - 81s 650ms/step - loss: 0.0217 - accuracy: 0.9929 - val_loss: 1.1400 - val_accuracy: 0.8272 - _timestamp: 1657583389.0000 - _runtime: 3302.0000\n",
            "Epoch 41/200\n",
            "125/125 [==============================] - 81s 651ms/step - loss: 0.0169 - accuracy: 0.9940 - val_loss: 1.2341 - val_accuracy: 0.8135 - _timestamp: 1657583470.0000 - _runtime: 3383.0000\n",
            "Epoch 42/200\n",
            "125/125 [==============================] - 81s 652ms/step - loss: 0.0214 - accuracy: 0.9936 - val_loss: 1.0741 - val_accuracy: 0.8195 - _timestamp: 1657583552.0000 - _runtime: 3465.0000\n",
            "Epoch 43/200\n",
            "125/125 [==============================] - 81s 651ms/step - loss: 0.0153 - accuracy: 0.9943 - val_loss: 1.2214 - val_accuracy: 0.8207 - _timestamp: 1657583633.0000 - _runtime: 3546.0000\n",
            "Epoch 44/200\n",
            "125/125 [==============================] - 81s 650ms/step - loss: 0.0196 - accuracy: 0.9936 - val_loss: 1.1447 - val_accuracy: 0.8037 - _timestamp: 1657583714.0000 - _runtime: 3627.0000\n",
            "Epoch 45/200\n",
            "125/125 [==============================] - 81s 649ms/step - loss: 0.0196 - accuracy: 0.9934 - val_loss: 1.1306 - val_accuracy: 0.8232 - _timestamp: 1657583795.0000 - _runtime: 3708.0000\n",
            "Epoch 46/200\n",
            "125/125 [==============================] - 81s 648ms/step - loss: 0.0181 - accuracy: 0.9935 - val_loss: 1.1585 - val_accuracy: 0.8157 - _timestamp: 1657583876.0000 - _runtime: 3789.0000\n",
            "Epoch 47/200\n",
            "125/125 [==============================] - 80s 644ms/step - loss: 0.0170 - accuracy: 0.9944 - val_loss: 1.1685 - val_accuracy: 0.8222 - _timestamp: 1657583957.0000 - _runtime: 3870.0000\n",
            "Epoch 48/200\n",
            "125/125 [==============================] - 81s 645ms/step - loss: 0.0136 - accuracy: 0.9956 - val_loss: 1.3070 - val_accuracy: 0.8187 - _timestamp: 1657584037.0000 - _runtime: 3950.0000\n",
            "Epoch 49/200\n",
            "125/125 [==============================] - 81s 645ms/step - loss: 0.0185 - accuracy: 0.9946 - val_loss: 1.1170 - val_accuracy: 0.8270 - _timestamp: 1657584118.0000 - _runtime: 4031.0000\n",
            "Epoch 50/200\n",
            "125/125 [==============================] - 81s 645ms/step - loss: 0.0178 - accuracy: 0.9934 - val_loss: 1.0573 - val_accuracy: 0.8172 - _timestamp: 1657584199.0000 - _runtime: 4112.0000\n",
            "Epoch 51/200\n",
            "125/125 [==============================] - 81s 646ms/step - loss: 0.0196 - accuracy: 0.9928 - val_loss: 1.1927 - val_accuracy: 0.8252 - _timestamp: 1657584279.0000 - _runtime: 4192.0000\n",
            "Epoch 52/200\n",
            "125/125 [==============================] - 81s 646ms/step - loss: 0.0169 - accuracy: 0.9941 - val_loss: 1.2264 - val_accuracy: 0.8132 - _timestamp: 1657584360.0000 - _runtime: 4273.0000\n",
            "Epoch 53/200\n",
            "125/125 [==============================] - 81s 646ms/step - loss: 0.0161 - accuracy: 0.9945 - val_loss: 1.2598 - val_accuracy: 0.8227 - _timestamp: 1657584441.0000 - _runtime: 4354.0000\n",
            "Epoch 54/200\n",
            "125/125 [==============================] - 81s 645ms/step - loss: 0.0143 - accuracy: 0.9949 - val_loss: 1.3641 - val_accuracy: 0.8237 - _timestamp: 1657584521.0000 - _runtime: 4434.0000\n",
            "Epoch 55/200\n",
            "125/125 [==============================] - 81s 647ms/step - loss: 0.0137 - accuracy: 0.9953 - val_loss: 1.2185 - val_accuracy: 0.8017 - _timestamp: 1657584602.0000 - _runtime: 4515.0000\n",
            "Epoch 56/200\n",
            "125/125 [==============================] - 81s 647ms/step - loss: 0.0178 - accuracy: 0.9944 - val_loss: 1.3451 - val_accuracy: 0.8282 - _timestamp: 1657584683.0000 - _runtime: 4596.0000\n",
            "Epoch 57/200\n",
            "125/125 [==============================] - 81s 646ms/step - loss: 0.0191 - accuracy: 0.9934 - val_loss: 1.1549 - val_accuracy: 0.8070 - _timestamp: 1657584764.0000 - _runtime: 4677.0000\n",
            "Epoch 58/200\n",
            "125/125 [==============================] - 81s 648ms/step - loss: 0.0183 - accuracy: 0.9937 - val_loss: 1.1728 - val_accuracy: 0.8272 - _timestamp: 1657584845.0000 - _runtime: 4758.0000\n",
            "Epoch 59/200\n",
            "125/125 [==============================] - 81s 650ms/step - loss: 0.0160 - accuracy: 0.9943 - val_loss: 1.2632 - val_accuracy: 0.8195 - _timestamp: 1657584926.0000 - _runtime: 4839.0000\n",
            "Epoch 60/200\n",
            "125/125 [==============================] - 81s 650ms/step - loss: 0.0133 - accuracy: 0.9952 - val_loss: 1.4173 - val_accuracy: 0.8305 - _timestamp: 1657585007.0000 - _runtime: 4920.0000\n",
            "Epoch 61/200\n",
            "125/125 [==============================] - 81s 649ms/step - loss: 0.0184 - accuracy: 0.9939 - val_loss: 1.1902 - val_accuracy: 0.8197 - _timestamp: 1657585088.0000 - _runtime: 5001.0000\n",
            "Epoch 62/200\n",
            "125/125 [==============================] - 81s 648ms/step - loss: 0.0142 - accuracy: 0.9950 - val_loss: 1.2044 - val_accuracy: 0.8250 - _timestamp: 1657585169.0000 - _runtime: 5082.0000\n",
            "Epoch 63/200\n",
            "125/125 [==============================] - 81s 650ms/step - loss: 0.0125 - accuracy: 0.9951 - val_loss: 1.3312 - val_accuracy: 0.8260 - _timestamp: 1657585250.0000 - _runtime: 5163.0000\n",
            "Epoch 64/200\n",
            "125/125 [==============================] - 81s 649ms/step - loss: 0.0161 - accuracy: 0.9944 - val_loss: 1.2309 - val_accuracy: 0.8335 - _timestamp: 1657585331.0000 - _runtime: 5244.0000\n",
            "Epoch 65/200\n",
            "125/125 [==============================] - 81s 651ms/step - loss: 0.0142 - accuracy: 0.9948 - val_loss: 1.1651 - val_accuracy: 0.8140 - _timestamp: 1657585413.0000 - _runtime: 5326.0000\n",
            "Epoch 66/200\n",
            "125/125 [==============================] - 81s 650ms/step - loss: 0.0173 - accuracy: 0.9943 - val_loss: 1.3442 - val_accuracy: 0.8300 - _timestamp: 1657585494.0000 - _runtime: 5407.0000\n",
            "Epoch 67/200\n",
            "125/125 [==============================] - 82s 654ms/step - loss: 0.0143 - accuracy: 0.9946 - val_loss: 1.3006 - val_accuracy: 0.8217 - _timestamp: 1657585576.0000 - _runtime: 5489.0000\n",
            "Epoch 68/200\n",
            "125/125 [==============================] - 81s 649ms/step - loss: 0.0146 - accuracy: 0.9951 - val_loss: 1.3404 - val_accuracy: 0.8250 - _timestamp: 1657585657.0000 - _runtime: 5570.0000\n",
            "Epoch 69/200\n",
            "125/125 [==============================] - 82s 653ms/step - loss: 0.0173 - accuracy: 0.9940 - val_loss: 1.1901 - val_accuracy: 0.8037 - _timestamp: 1657585738.0000 - _runtime: 5651.0000\n",
            "Epoch 70/200\n",
            "125/125 [==============================] - 85s 683ms/step - loss: 0.0146 - accuracy: 0.9949 - val_loss: 1.1841 - val_accuracy: 0.8142 - _timestamp: 1657585824.0000 - _runtime: 5737.0000\n",
            "Epoch 71/200\n",
            "125/125 [==============================] - 82s 655ms/step - loss: 0.0114 - accuracy: 0.9961 - val_loss: 1.3755 - val_accuracy: 0.8212 - _timestamp: 1657585905.0000 - _runtime: 5818.0000\n",
            "Epoch 72/200\n",
            "125/125 [==============================] - 81s 651ms/step - loss: 0.0112 - accuracy: 0.9958 - val_loss: 1.4264 - val_accuracy: 0.8227 - _timestamp: 1657585987.0000 - _runtime: 5900.0000\n",
            "Epoch 73/200\n",
            "125/125 [==============================] - 82s 657ms/step - loss: 0.0142 - accuracy: 0.9952 - val_loss: 1.3489 - val_accuracy: 0.8205 - _timestamp: 1657586069.0000 - _runtime: 5982.0000\n",
            "Epoch 74/200\n",
            "125/125 [==============================] - 84s 669ms/step - loss: 0.0109 - accuracy: 0.9956 - val_loss: 1.4699 - val_accuracy: 0.8287 - _timestamp: 1657586152.0000 - _runtime: 6065.0000\n",
            "Epoch 75/200\n",
            "125/125 [==============================] - 81s 651ms/step - loss: 0.0162 - accuracy: 0.9947 - val_loss: 1.2326 - val_accuracy: 0.8197 - _timestamp: 1657586234.0000 - _runtime: 6147.0000\n",
            "Epoch 76/200\n",
            "125/125 [==============================] - 82s 653ms/step - loss: 0.0138 - accuracy: 0.9951 - val_loss: 1.2822 - val_accuracy: 0.8112 - _timestamp: 1657586315.0000 - _runtime: 6228.0000\n",
            "Epoch 77/200\n",
            "125/125 [==============================] - 81s 651ms/step - loss: 0.0169 - accuracy: 0.9944 - val_loss: 1.3633 - val_accuracy: 0.8312 - _timestamp: 1657586396.0000 - _runtime: 6309.0000\n",
            "Epoch 78/200\n",
            "125/125 [==============================] - 81s 651ms/step - loss: 0.0129 - accuracy: 0.9954 - val_loss: 1.3856 - val_accuracy: 0.8255 - _timestamp: 1657586478.0000 - _runtime: 6391.0000\n",
            "Epoch 79/200\n",
            "125/125 [==============================] - 81s 650ms/step - loss: 0.0119 - accuracy: 0.9961 - val_loss: 1.3791 - val_accuracy: 0.8277 - _timestamp: 1657586559.0000 - _runtime: 6472.0000\n",
            "Epoch 80/200\n",
            "125/125 [==============================] - 83s 665ms/step - loss: 0.0101 - accuracy: 0.9960 - val_loss: 1.4412 - val_accuracy: 0.8320 - _timestamp: 1657586642.0000 - _runtime: 6555.0000\n",
            "Epoch 81/200\n",
            "125/125 [==============================] - 83s 667ms/step - loss: 0.0156 - accuracy: 0.9947 - val_loss: 1.2457 - val_accuracy: 0.8242 - _timestamp: 1657586725.0000 - _runtime: 6638.0000\n",
            "Epoch 82/200\n",
            "125/125 [==============================] - 81s 650ms/step - loss: 0.0104 - accuracy: 0.9959 - val_loss: 1.4225 - val_accuracy: 0.8317 - _timestamp: 1657586807.0000 - _runtime: 6720.0000\n",
            "Epoch 83/200\n",
            "125/125 [==============================] - 81s 650ms/step - loss: 0.0136 - accuracy: 0.9948 - val_loss: 1.3639 - val_accuracy: 0.8260 - _timestamp: 1657586888.0000 - _runtime: 6801.0000\n",
            "Epoch 84/200\n",
            "125/125 [==============================] - 82s 654ms/step - loss: 0.0117 - accuracy: 0.9962 - val_loss: 1.2801 - val_accuracy: 0.8170 - _timestamp: 1657586970.0000 - _runtime: 6883.0000\n",
            "Epoch 85/200\n",
            "125/125 [==============================] - 81s 651ms/step - loss: 0.0119 - accuracy: 0.9958 - val_loss: 1.3703 - val_accuracy: 0.8327 - _timestamp: 1657587051.0000 - _runtime: 6964.0000\n",
            "Epoch 86/200\n",
            "125/125 [==============================] - 81s 651ms/step - loss: 0.0122 - accuracy: 0.9958 - val_loss: 1.3758 - val_accuracy: 0.8282 - _timestamp: 1657587132.0000 - _runtime: 7045.0000\n",
            "Epoch 87/200\n",
            "125/125 [==============================] - 81s 652ms/step - loss: 0.0188 - accuracy: 0.9941 - val_loss: 1.2097 - val_accuracy: 0.8297 - _timestamp: 1657587214.0000 - _runtime: 7127.0000\n",
            "Epoch 88/200\n",
            "125/125 [==============================] - 81s 650ms/step - loss: 0.0124 - accuracy: 0.9954 - val_loss: 1.3456 - val_accuracy: 0.8257 - _timestamp: 1657587295.0000 - _runtime: 7208.0000\n",
            "Epoch 89/200\n",
            "125/125 [==============================] - 81s 651ms/step - loss: 0.0124 - accuracy: 0.9957 - val_loss: 1.2537 - val_accuracy: 0.8225 - _timestamp: 1657587376.0000 - _runtime: 7289.0000\n",
            "Epoch 90/200\n",
            "125/125 [==============================] - 81s 652ms/step - loss: 0.0114 - accuracy: 0.9958 - val_loss: 1.3547 - val_accuracy: 0.8217 - _timestamp: 1657587458.0000 - _runtime: 7371.0000\n",
            "Epoch 91/200\n",
            "125/125 [==============================] - 81s 650ms/step - loss: 0.0139 - accuracy: 0.9952 - val_loss: 1.2764 - val_accuracy: 0.8340 - _timestamp: 1657587539.0000 - _runtime: 7452.0000\n",
            "Epoch 92/200\n",
            "125/125 [==============================] - 82s 653ms/step - loss: 0.0114 - accuracy: 0.9956 - val_loss: 1.3605 - val_accuracy: 0.8177 - _timestamp: 1657587620.0000 - _runtime: 7533.0000\n",
            "Epoch 93/200\n",
            "125/125 [==============================] - 82s 655ms/step - loss: 0.0133 - accuracy: 0.9947 - val_loss: 1.3761 - val_accuracy: 0.8275 - _timestamp: 1657587702.0000 - _runtime: 7615.0000\n",
            "Epoch 94/200\n",
            "125/125 [==============================] - 81s 652ms/step - loss: 0.0138 - accuracy: 0.9948 - val_loss: 1.3707 - val_accuracy: 0.8230 - _timestamp: 1657587784.0000 - _runtime: 7697.0000\n",
            "Epoch 95/200\n",
            "125/125 [==============================] - 82s 653ms/step - loss: 0.0133 - accuracy: 0.9955 - val_loss: 1.3670 - val_accuracy: 0.8217 - _timestamp: 1657587865.0000 - _runtime: 7778.0000\n",
            "Epoch 96/200\n",
            "125/125 [==============================] - 81s 652ms/step - loss: 0.0109 - accuracy: 0.9961 - val_loss: 1.2983 - val_accuracy: 0.8185 - _timestamp: 1657587947.0000 - _runtime: 7860.0000\n",
            "Epoch 97/200\n",
            "125/125 [==============================] - 82s 653ms/step - loss: 0.0117 - accuracy: 0.9963 - val_loss: 1.3098 - val_accuracy: 0.8207 - _timestamp: 1657588028.0000 - _runtime: 7941.0000\n",
            "Epoch 98/200\n",
            "125/125 [==============================] - 83s 664ms/step - loss: 0.0118 - accuracy: 0.9959 - val_loss: 1.2658 - val_accuracy: 0.8247 - _timestamp: 1657588111.0000 - _runtime: 8024.0000\n",
            "Epoch 99/200\n",
            "125/125 [==============================] - 82s 652ms/step - loss: 0.0099 - accuracy: 0.9962 - val_loss: 1.3770 - val_accuracy: 0.8317 - _timestamp: 1657588193.0000 - _runtime: 8106.0000\n",
            "Epoch 100/200\n",
            "125/125 [==============================] - 82s 653ms/step - loss: 0.0096 - accuracy: 0.9964 - val_loss: 1.5197 - val_accuracy: 0.8300 - _timestamp: 1657588274.0000 - _runtime: 8187.0000\n",
            "Epoch 101/200\n",
            "125/125 [==============================] - 82s 654ms/step - loss: 0.0127 - accuracy: 0.9957 - val_loss: 1.3722 - val_accuracy: 0.8180 - _timestamp: 1657588356.0000 - _runtime: 8269.0000\n",
            "Epoch 102/200\n",
            "125/125 [==============================] - 83s 667ms/step - loss: 0.0129 - accuracy: 0.9952 - val_loss: 1.2251 - val_accuracy: 0.8285 - _timestamp: 1657588439.0000 - _runtime: 8352.0000\n",
            "Epoch 103/200\n",
            "125/125 [==============================] - 81s 652ms/step - loss: 0.0133 - accuracy: 0.9949 - val_loss: 1.2678 - val_accuracy: 0.8205 - _timestamp: 1657588521.0000 - _runtime: 8434.0000\n",
            "Epoch 104/200\n",
            "125/125 [==============================] - 81s 652ms/step - loss: 0.0123 - accuracy: 0.9957 - val_loss: 1.2670 - val_accuracy: 0.8302 - _timestamp: 1657588602.0000 - _runtime: 8515.0000\n",
            "Epoch 105/200\n",
            "125/125 [==============================] - 81s 651ms/step - loss: 0.0105 - accuracy: 0.9964 - val_loss: 1.4701 - val_accuracy: 0.8267 - _timestamp: 1657588683.0000 - _runtime: 8596.0000\n",
            "Epoch 106/200\n",
            "125/125 [==============================] - 82s 654ms/step - loss: 0.0130 - accuracy: 0.9959 - val_loss: 1.4071 - val_accuracy: 0.8295 - _timestamp: 1657588765.0000 - _runtime: 8678.0000\n",
            "Epoch 107/200\n",
            "125/125 [==============================] - 83s 668ms/step - loss: 0.0098 - accuracy: 0.9959 - val_loss: 1.4010 - val_accuracy: 0.8310 - _timestamp: 1657588849.0000 - _runtime: 8762.0000\n",
            "Epoch 108/200\n",
            "125/125 [==============================] - 82s 657ms/step - loss: 0.0094 - accuracy: 0.9970 - val_loss: 1.4404 - val_accuracy: 0.8180 - _timestamp: 1657588931.0000 - _runtime: 8844.0000\n",
            "Epoch 109/200\n",
            "125/125 [==============================] - 82s 654ms/step - loss: 0.0142 - accuracy: 0.9950 - val_loss: 1.2789 - val_accuracy: 0.8090 - _timestamp: 1657589012.0000 - _runtime: 8925.0000\n",
            "Epoch 110/200\n",
            "125/125 [==============================] - 82s 655ms/step - loss: 0.0118 - accuracy: 0.9957 - val_loss: 1.3313 - val_accuracy: 0.8297 - _timestamp: 1657589094.0000 - _runtime: 9007.0000\n",
            "Epoch 111/200\n",
            "125/125 [==============================] - 85s 681ms/step - loss: 0.0107 - accuracy: 0.9963 - val_loss: 1.3619 - val_accuracy: 0.8237 - _timestamp: 1657589179.0000 - _runtime: 9092.0000\n",
            "Epoch 112/200\n",
            "125/125 [==============================] - 89s 709ms/step - loss: 0.0087 - accuracy: 0.9972 - val_loss: 1.3396 - val_accuracy: 0.8190 - _timestamp: 1657589268.0000 - _runtime: 9181.0000\n",
            "Epoch 113/200\n",
            "125/125 [==============================] - 83s 662ms/step - loss: 0.0114 - accuracy: 0.9962 - val_loss: 1.4115 - val_accuracy: 0.8295 - _timestamp: 1657589351.0000 - _runtime: 9264.0000\n",
            "Epoch 114/200\n",
            "125/125 [==============================] - 82s 657ms/step - loss: 0.0117 - accuracy: 0.9961 - val_loss: 1.3257 - val_accuracy: 0.8112 - _timestamp: 1657589433.0000 - _runtime: 9346.0000\n",
            "Epoch 115/200\n",
            "125/125 [==============================] - 82s 657ms/step - loss: 0.0111 - accuracy: 0.9960 - val_loss: 1.3710 - val_accuracy: 0.8280 - _timestamp: 1657589515.0000 - _runtime: 9428.0000\n",
            "Epoch 116/200\n",
            "125/125 [==============================] - 84s 669ms/step - loss: 0.0119 - accuracy: 0.9960 - val_loss: 1.3840 - val_accuracy: 0.8260 - _timestamp: 1657589598.0000 - _runtime: 9511.0000\n",
            "Epoch 117/200\n",
            "125/125 [==============================] - 82s 659ms/step - loss: 0.0117 - accuracy: 0.9959 - val_loss: 1.2677 - val_accuracy: 0.8172 - _timestamp: 1657589681.0000 - _runtime: 9594.0000\n",
            "Epoch 118/200\n",
            "125/125 [==============================] - 85s 683ms/step - loss: 0.0083 - accuracy: 0.9965 - val_loss: 1.6417 - val_accuracy: 0.8292 - _timestamp: 1657589766.0000 - _runtime: 9679.0000\n",
            "Epoch 119/200\n",
            "125/125 [==============================] - 86s 686ms/step - loss: 0.0090 - accuracy: 0.9962 - val_loss: 1.4289 - val_accuracy: 0.8192 - _timestamp: 1657589852.0000 - _runtime: 9765.0000\n",
            "Epoch 120/200\n",
            "125/125 [==============================] - 87s 697ms/step - loss: 0.0114 - accuracy: 0.9957 - val_loss: 1.5984 - val_accuracy: 0.8330 - _timestamp: 1657589939.0000 - _runtime: 9852.0000\n",
            "Epoch 121/200\n",
            "125/125 [==============================] - 87s 695ms/step - loss: 0.0114 - accuracy: 0.9964 - val_loss: 1.4428 - val_accuracy: 0.8252 - _timestamp: 1657590026.0000 - _runtime: 9939.0000\n",
            "Epoch 122/200\n",
            "125/125 [==============================] - 86s 692ms/step - loss: 0.0127 - accuracy: 0.9956 - val_loss: 1.3670 - val_accuracy: 0.8095 - _timestamp: 1657590112.0000 - _runtime: 10025.0000\n",
            "Epoch 123/200\n",
            "125/125 [==============================] - 82s 655ms/step - loss: 0.0087 - accuracy: 0.9973 - val_loss: 1.4950 - val_accuracy: 0.8255 - _timestamp: 1657590194.0000 - _runtime: 10107.0000\n",
            "Epoch 124/200\n",
            "125/125 [==============================] - 82s 656ms/step - loss: 0.0112 - accuracy: 0.9966 - val_loss: 1.3176 - val_accuracy: 0.8145 - _timestamp: 1657590276.0000 - _runtime: 10189.0000\n",
            "Epoch 125/200\n",
            "125/125 [==============================] - 82s 657ms/step - loss: 0.0087 - accuracy: 0.9972 - val_loss: 1.4257 - val_accuracy: 0.8262 - _timestamp: 1657590358.0000 - _runtime: 10271.0000\n",
            "Epoch 126/200\n",
            "125/125 [==============================] - 83s 667ms/step - loss: 0.0113 - accuracy: 0.9962 - val_loss: 1.1823 - val_accuracy: 0.8085 - _timestamp: 1657590441.0000 - _runtime: 10354.0000\n",
            "Epoch 127/200\n",
            "125/125 [==============================] - 82s 656ms/step - loss: 0.0094 - accuracy: 0.9964 - val_loss: 1.4390 - val_accuracy: 0.8267 - _timestamp: 1657590523.0000 - _runtime: 10436.0000\n",
            "Epoch 128/200\n",
            "125/125 [==============================] - 82s 655ms/step - loss: 0.0093 - accuracy: 0.9967 - val_loss: 1.3594 - val_accuracy: 0.8270 - _timestamp: 1657590605.0000 - _runtime: 10518.0000\n",
            "Epoch 129/200\n",
            "125/125 [==============================] - 82s 656ms/step - loss: 0.0106 - accuracy: 0.9959 - val_loss: 1.4723 - val_accuracy: 0.8237 - _timestamp: 1657590687.0000 - _runtime: 10600.0000\n",
            "Epoch 130/200\n",
            "125/125 [==============================] - 82s 655ms/step - loss: 0.0097 - accuracy: 0.9964 - val_loss: 1.4412 - val_accuracy: 0.8272 - _timestamp: 1657590769.0000 - _runtime: 10682.0000\n",
            "Epoch 131/200\n",
            "125/125 [==============================] - 84s 669ms/step - loss: 0.0104 - accuracy: 0.9964 - val_loss: 1.1660 - val_accuracy: 0.8070 - _timestamp: 1657590852.0000 - _runtime: 10765.0000\n",
            "Epoch 132/200\n",
            "125/125 [==============================] - 82s 653ms/step - loss: 0.0099 - accuracy: 0.9963 - val_loss: 1.4569 - val_accuracy: 0.8245 - _timestamp: 1657590934.0000 - _runtime: 10847.0000\n",
            "Epoch 133/200\n",
            "125/125 [==============================] - 82s 656ms/step - loss: 0.0113 - accuracy: 0.9956 - val_loss: 1.2621 - val_accuracy: 0.8067 - _timestamp: 1657591016.0000 - _runtime: 10929.0000\n",
            "Epoch 134/200\n",
            "125/125 [==============================] - 82s 659ms/step - loss: 0.0123 - accuracy: 0.9957 - val_loss: 1.3536 - val_accuracy: 0.8282 - _timestamp: 1657591098.0000 - _runtime: 11011.0000\n",
            "Epoch 135/200\n",
            "125/125 [==============================] - 82s 655ms/step - loss: 0.0117 - accuracy: 0.9961 - val_loss: 1.3426 - val_accuracy: 0.8172 - _timestamp: 1657591180.0000 - _runtime: 11093.0000\n",
            "Epoch 136/200\n",
            "125/125 [==============================] - 83s 667ms/step - loss: 0.0114 - accuracy: 0.9960 - val_loss: 1.3313 - val_accuracy: 0.8075 - _timestamp: 1657591263.0000 - _runtime: 11176.0000\n",
            "Epoch 137/200\n",
            "125/125 [==============================] - 82s 655ms/step - loss: 0.0092 - accuracy: 0.9966 - val_loss: 1.4856 - val_accuracy: 0.8227 - _timestamp: 1657591345.0000 - _runtime: 11258.0000\n",
            "Epoch 138/200\n",
            "125/125 [==============================] - 82s 655ms/step - loss: 0.0092 - accuracy: 0.9965 - val_loss: 1.4091 - val_accuracy: 0.8267 - _timestamp: 1657591427.0000 - _runtime: 11340.0000\n",
            "Epoch 139/200\n",
            "125/125 [==============================] - 82s 653ms/step - loss: 0.0089 - accuracy: 0.9962 - val_loss: 1.5821 - val_accuracy: 0.8232 - _timestamp: 1657591508.0000 - _runtime: 11421.0000\n",
            "Epoch 140/200\n",
            "125/125 [==============================] - 82s 653ms/step - loss: 0.0094 - accuracy: 0.9967 - val_loss: 1.4627 - val_accuracy: 0.8305 - _timestamp: 1657591590.0000 - _runtime: 11503.0000\n",
            "Epoch 141/200\n",
            "125/125 [==============================] - 83s 664ms/step - loss: 0.0105 - accuracy: 0.9960 - val_loss: 1.3278 - val_accuracy: 0.8210 - _timestamp: 1657591673.0000 - _runtime: 11586.0000\n",
            "Epoch 142/200\n",
            "125/125 [==============================] - 82s 653ms/step - loss: 0.0076 - accuracy: 0.9972 - val_loss: 1.5342 - val_accuracy: 0.8270 - _timestamp: 1657591754.0000 - _runtime: 11667.0000\n",
            "Epoch 143/200\n",
            "125/125 [==============================] - 82s 656ms/step - loss: 0.0079 - accuracy: 0.9974 - val_loss: 1.5918 - val_accuracy: 0.8338 - _timestamp: 1657591836.0000 - _runtime: 11749.0000\n",
            "Epoch 144/200\n",
            "125/125 [==============================] - 82s 655ms/step - loss: 0.0112 - accuracy: 0.9961 - val_loss: 1.2302 - val_accuracy: 0.8135 - _timestamp: 1657591918.0000 - _runtime: 11831.0000\n",
            "Epoch 145/200\n",
            "125/125 [==============================] - 82s 654ms/step - loss: 0.0123 - accuracy: 0.9956 - val_loss: 1.3723 - val_accuracy: 0.8282 - _timestamp: 1657592000.0000 - _runtime: 11913.0000\n",
            "Epoch 146/200\n",
            "125/125 [==============================] - 83s 667ms/step - loss: 0.0124 - accuracy: 0.9958 - val_loss: 1.3092 - val_accuracy: 0.8160 - _timestamp: 1657592083.0000 - _runtime: 11996.0000\n",
            "Epoch 147/200\n",
            "125/125 [==============================] - 82s 657ms/step - loss: 0.0095 - accuracy: 0.9962 - val_loss: 1.4804 - val_accuracy: 0.8285 - _timestamp: 1657592165.0000 - _runtime: 12078.0000\n",
            "Epoch 148/200\n",
            "125/125 [==============================] - 82s 660ms/step - loss: 0.0101 - accuracy: 0.9964 - val_loss: 1.5037 - val_accuracy: 0.8312 - _timestamp: 1657592248.0000 - _runtime: 12161.0000\n",
            "Epoch 149/200\n",
            "125/125 [==============================] - 83s 662ms/step - loss: 0.0107 - accuracy: 0.9962 - val_loss: 1.3593 - val_accuracy: 0.8165 - _timestamp: 1657592330.0000 - _runtime: 12243.0000\n",
            "Epoch 150/200\n",
            "125/125 [==============================] - 82s 660ms/step - loss: 0.0085 - accuracy: 0.9970 - val_loss: 1.4519 - val_accuracy: 0.8182 - _timestamp: 1657592413.0000 - _runtime: 12326.0000\n",
            "Epoch 151/200\n",
            "125/125 [==============================] - 83s 667ms/step - loss: 0.0087 - accuracy: 0.9972 - val_loss: 1.5010 - val_accuracy: 0.8255 - _timestamp: 1657592496.0000 - _runtime: 12409.0000\n",
            "Epoch 152/200\n",
            "125/125 [==============================] - 84s 673ms/step - loss: 0.0090 - accuracy: 0.9964 - val_loss: 1.3623 - val_accuracy: 0.8202 - _timestamp: 1657592580.0000 - _runtime: 12493.0000\n",
            "Epoch 153/200\n",
            "125/125 [==============================] - 82s 655ms/step - loss: 0.0086 - accuracy: 0.9966 - val_loss: 1.5510 - val_accuracy: 0.8282 - _timestamp: 1657592662.0000 - _runtime: 12575.0000\n",
            "Epoch 154/200\n",
            "125/125 [==============================] - 82s 655ms/step - loss: 0.0090 - accuracy: 0.9973 - val_loss: 1.4242 - val_accuracy: 0.8245 - _timestamp: 1657592744.0000 - _runtime: 12657.0000\n",
            "Epoch 155/200\n",
            "125/125 [==============================] - 82s 656ms/step - loss: 0.0106 - accuracy: 0.9961 - val_loss: 1.4552 - val_accuracy: 0.8272 - _timestamp: 1657592826.0000 - _runtime: 12739.0000\n",
            "Epoch 156/200\n",
            "125/125 [==============================] - 83s 668ms/step - loss: 0.0094 - accuracy: 0.9965 - val_loss: 1.4042 - val_accuracy: 0.8270 - _timestamp: 1657592909.0000 - _runtime: 12822.0000\n",
            "Epoch 157/200\n",
            "125/125 [==============================] - 82s 656ms/step - loss: 0.0097 - accuracy: 0.9961 - val_loss: 1.4333 - val_accuracy: 0.8300 - _timestamp: 1657592991.0000 - _runtime: 12904.0000\n",
            "Epoch 158/200\n",
            "125/125 [==============================] - 82s 653ms/step - loss: 0.0108 - accuracy: 0.9964 - val_loss: 1.3592 - val_accuracy: 0.8232 - _timestamp: 1657593073.0000 - _runtime: 12986.0000\n",
            "Epoch 159/200\n",
            "125/125 [==============================] - 82s 654ms/step - loss: 0.0089 - accuracy: 0.9969 - val_loss: 1.4617 - val_accuracy: 0.8172 - _timestamp: 1657593154.0000 - _runtime: 13067.0000\n",
            "Epoch 160/200\n",
            "125/125 [==============================] - 82s 655ms/step - loss: 0.0088 - accuracy: 0.9966 - val_loss: 1.5077 - val_accuracy: 0.8245 - _timestamp: 1657593236.0000 - _runtime: 13149.0000\n",
            "Epoch 161/200\n",
            "125/125 [==============================] - 83s 665ms/step - loss: 0.0093 - accuracy: 0.9968 - val_loss: 1.4961 - val_accuracy: 0.8222 - _timestamp: 1657593319.0000 - _runtime: 13232.0000\n",
            "Epoch 162/200\n",
            "125/125 [==============================] - 82s 653ms/step - loss: 0.0104 - accuracy: 0.9962 - val_loss: 1.4425 - val_accuracy: 0.8252 - _timestamp: 1657593401.0000 - _runtime: 13314.0000\n",
            "Epoch 163/200\n",
            "125/125 [==============================] - 82s 655ms/step - loss: 0.0085 - accuracy: 0.9972 - val_loss: 1.5024 - val_accuracy: 0.8260 - _timestamp: 1657593483.0000 - _runtime: 13396.0000\n",
            "Epoch 164/200\n",
            "125/125 [==============================] - 81s 652ms/step - loss: 0.0090 - accuracy: 0.9970 - val_loss: 1.5616 - val_accuracy: 0.8277 - _timestamp: 1657593564.0000 - _runtime: 13477.0000\n",
            "Epoch 165/200\n",
            "125/125 [==============================] - 82s 653ms/step - loss: 0.0093 - accuracy: 0.9964 - val_loss: 1.4851 - val_accuracy: 0.8255 - _timestamp: 1657593646.0000 - _runtime: 13559.0000\n",
            "Epoch 166/200\n",
            "125/125 [==============================] - 83s 665ms/step - loss: 0.0065 - accuracy: 0.9978 - val_loss: 1.4924 - val_accuracy: 0.8227 - _timestamp: 1657593729.0000 - _runtime: 13642.0000\n",
            "Epoch 167/200\n",
            "125/125 [==============================] - 82s 653ms/step - loss: 0.0083 - accuracy: 0.9965 - val_loss: 1.4936 - val_accuracy: 0.8260 - _timestamp: 1657593810.0000 - _runtime: 13723.0000\n",
            "Epoch 168/200\n",
            "125/125 [==============================] - 82s 652ms/step - loss: 0.0106 - accuracy: 0.9965 - val_loss: 1.5393 - val_accuracy: 0.8267 - _timestamp: 1657593892.0000 - _runtime: 13805.0000\n",
            "Epoch 169/200\n",
            "125/125 [==============================] - 82s 656ms/step - loss: 0.0071 - accuracy: 0.9977 - val_loss: 1.5844 - val_accuracy: 0.8167 - _timestamp: 1657593974.0000 - _runtime: 13887.0000\n",
            "Epoch 170/200\n",
            "125/125 [==============================] - 82s 653ms/step - loss: 0.0064 - accuracy: 0.9974 - val_loss: 1.6627 - val_accuracy: 0.8200 - _timestamp: 1657594056.0000 - _runtime: 13969.0000\n",
            "Epoch 171/200\n",
            "125/125 [==============================] - 83s 665ms/step - loss: 0.0095 - accuracy: 0.9966 - val_loss: 1.4103 - val_accuracy: 0.8130 - _timestamp: 1657594139.0000 - _runtime: 14052.0000\n",
            "Epoch 172/200\n",
            "125/125 [==============================] - 82s 654ms/step - loss: 0.0072 - accuracy: 0.9972 - val_loss: 1.6300 - val_accuracy: 0.8305 - _timestamp: 1657594220.0000 - _runtime: 14133.0000\n",
            "Epoch 173/200\n",
            "125/125 [==============================] - 82s 654ms/step - loss: 0.0094 - accuracy: 0.9969 - val_loss: 1.4687 - val_accuracy: 0.8225 - _timestamp: 1657594302.0000 - _runtime: 14215.0000\n",
            "Epoch 174/200\n",
            "125/125 [==============================] - 82s 654ms/step - loss: 0.0105 - accuracy: 0.9967 - val_loss: 1.2838 - val_accuracy: 0.8262 - _timestamp: 1657594384.0000 - _runtime: 14297.0000\n",
            "Epoch 175/200\n",
            "125/125 [==============================] - 82s 657ms/step - loss: 0.0086 - accuracy: 0.9974 - val_loss: 1.3835 - val_accuracy: 0.8065 - _timestamp: 1657594466.0000 - _runtime: 14379.0000\n",
            "Epoch 176/200\n",
            "125/125 [==============================] - 82s 654ms/step - loss: 0.0093 - accuracy: 0.9970 - val_loss: 1.4779 - val_accuracy: 0.8225 - _timestamp: 1657594547.0000 - _runtime: 14460.0000\n",
            "Epoch 177/200\n",
            "125/125 [==============================] - 83s 666ms/step - loss: 0.0107 - accuracy: 0.9962 - val_loss: 1.3697 - val_accuracy: 0.8195 - _timestamp: 1657594631.0000 - _runtime: 14544.0000\n",
            "Epoch 178/200\n",
            "125/125 [==============================] - 82s 654ms/step - loss: 0.0077 - accuracy: 0.9971 - val_loss: 1.4524 - val_accuracy: 0.8212 - _timestamp: 1657594712.0000 - _runtime: 14625.0000\n",
            "Epoch 179/200\n",
            "125/125 [==============================] - 82s 652ms/step - loss: 0.0088 - accuracy: 0.9966 - val_loss: 1.4550 - val_accuracy: 0.8302 - _timestamp: 1657594794.0000 - _runtime: 14707.0000\n",
            "Epoch 180/200\n",
            "125/125 [==============================] - 82s 653ms/step - loss: 0.0119 - accuracy: 0.9961 - val_loss: 1.3350 - val_accuracy: 0.8017 - _timestamp: 1657594875.0000 - _runtime: 14788.0000\n",
            "Epoch 181/200\n",
            "125/125 [==============================] - 82s 654ms/step - loss: 0.0095 - accuracy: 0.9967 - val_loss: 1.4216 - val_accuracy: 0.8257 - _timestamp: 1657594957.0000 - _runtime: 14870.0000\n",
            "Epoch 182/200\n",
            "125/125 [==============================] - 83s 665ms/step - loss: 0.0107 - accuracy: 0.9964 - val_loss: 1.5621 - val_accuracy: 0.8290 - _timestamp: 1657595040.0000 - _runtime: 14953.0000\n",
            "Epoch 183/200\n",
            "125/125 [==============================] - 82s 654ms/step - loss: 0.0065 - accuracy: 0.9978 - val_loss: 1.6375 - val_accuracy: 0.8212 - _timestamp: 1657595122.0000 - _runtime: 15035.0000\n",
            "Epoch 184/200\n",
            "125/125 [==============================] - 82s 656ms/step - loss: 0.0097 - accuracy: 0.9965 - val_loss: 1.5740 - val_accuracy: 0.8290 - _timestamp: 1657595204.0000 - _runtime: 15117.0000\n",
            "Epoch 185/200\n",
            "125/125 [==============================] - 81s 652ms/step - loss: 0.0112 - accuracy: 0.9964 - val_loss: 1.3487 - val_accuracy: 0.8202 - _timestamp: 1657595285.0000 - _runtime: 15198.0000\n",
            "Epoch 186/200\n",
            "125/125 [==============================] - 82s 657ms/step - loss: 0.0087 - accuracy: 0.9966 - val_loss: 1.5273 - val_accuracy: 0.8272 - _timestamp: 1657595367.0000 - _runtime: 15280.0000\n",
            "Epoch 187/200\n",
            "125/125 [==============================] - 83s 665ms/step - loss: 0.0066 - accuracy: 0.9977 - val_loss: 1.5370 - val_accuracy: 0.8195 - _timestamp: 1657595450.0000 - _runtime: 15363.0000\n",
            "Epoch 188/200\n",
            "125/125 [==============================] - 82s 654ms/step - loss: 0.0066 - accuracy: 0.9977 - val_loss: 1.6382 - val_accuracy: 0.8287 - _timestamp: 1657595532.0000 - _runtime: 15445.0000\n",
            "Epoch 189/200\n",
            "125/125 [==============================] - 82s 653ms/step - loss: 0.0071 - accuracy: 0.9975 - val_loss: 1.7098 - val_accuracy: 0.8257 - _timestamp: 1657595613.0000 - _runtime: 15526.0000\n",
            "Epoch 190/200\n",
            "125/125 [==============================] - 82s 655ms/step - loss: 0.0081 - accuracy: 0.9972 - val_loss: 1.6013 - val_accuracy: 0.8290 - _timestamp: 1657595695.0000 - _runtime: 15608.0000\n",
            "Epoch 191/200\n",
            "125/125 [==============================] - 82s 658ms/step - loss: 0.0090 - accuracy: 0.9970 - val_loss: 1.4477 - val_accuracy: 0.8242 - _timestamp: 1657595777.0000 - _runtime: 15690.0000\n",
            "Epoch 192/200\n",
            "125/125 [==============================] - 84s 669ms/step - loss: 0.0066 - accuracy: 0.9976 - val_loss: 1.5454 - val_accuracy: 0.8217 - _timestamp: 1657595861.0000 - _runtime: 15774.0000\n",
            "Epoch 193/200\n",
            "125/125 [==============================] - 82s 658ms/step - loss: 0.0085 - accuracy: 0.9970 - val_loss: 1.5662 - val_accuracy: 0.8287 - _timestamp: 1657595943.0000 - _runtime: 15856.0000\n",
            "Epoch 194/200\n",
            "125/125 [==============================] - 82s 656ms/step - loss: 0.0071 - accuracy: 0.9972 - val_loss: 1.6423 - val_accuracy: 0.8187 - _timestamp: 1657596025.0000 - _runtime: 15938.0000\n",
            "Epoch 195/200\n",
            "125/125 [==============================] - 82s 655ms/step - loss: 0.0103 - accuracy: 0.9966 - val_loss: 1.4547 - val_accuracy: 0.8140 - _timestamp: 1657596107.0000 - _runtime: 16020.0000\n",
            "Epoch 196/200\n",
            "125/125 [==============================] - 82s 655ms/step - loss: 0.0082 - accuracy: 0.9966 - val_loss: 1.5673 - val_accuracy: 0.8210 - _timestamp: 1657596189.0000 - _runtime: 16102.0000\n",
            "Epoch 197/200\n",
            "125/125 [==============================] - 82s 654ms/step - loss: 0.0094 - accuracy: 0.9969 - val_loss: 1.5122 - val_accuracy: 0.8080 - _timestamp: 1657596270.0000 - _runtime: 16183.0000\n",
            "Epoch 198/200\n",
            "125/125 [==============================] - 83s 665ms/step - loss: 0.0112 - accuracy: 0.9959 - val_loss: 1.3082 - val_accuracy: 0.8247 - _timestamp: 1657596353.0000 - _runtime: 16266.0000\n",
            "Epoch 199/200\n",
            "125/125 [==============================] - 82s 655ms/step - loss: 0.0077 - accuracy: 0.9974 - val_loss: 1.4757 - val_accuracy: 0.8305 - _timestamp: 1657596435.0000 - _runtime: 16348.0000\n",
            "Epoch 200/200\n",
            "125/125 [==============================] - 82s 657ms/step - loss: 0.0077 - accuracy: 0.9972 - val_loss: 1.4752 - val_accuracy: 0.8190 - _timestamp: 1657596518.0000 - _runtime: 16431.0000\n"
          ]
        },
        {
          "output_type": "display_data",
          "data": {
            "text/plain": [
              "<IPython.core.display.HTML object>"
            ],
            "text/html": [
              "Waiting for W&B process to finish... <strong style=\"color:green\">(success).</strong>"
            ]
          },
          "metadata": {}
        },
        {
          "output_type": "display_data",
          "data": {
            "text/plain": [
              "VBox(children=(Label(value='1.494 MB of 1.494 MB uploaded (0.000 MB deduped)\\r'), FloatProgress(value=1.0, max…"
            ],
            "application/vnd.jupyter.widget-view+json": {
              "version_major": 2,
              "version_minor": 0,
              "model_id": "00060d51b55c4ba8a53a1623f761a499"
            }
          },
          "metadata": {}
        },
        {
          "output_type": "display_data",
          "data": {
            "text/plain": [
              "<IPython.core.display.HTML object>"
            ],
            "text/html": [
              "<style>\n",
              "    table.wandb td:nth-child(1) { padding: 0 10px; text-align: left ; width: auto;} td:nth-child(2) {text-align: left ; width: 100%}\n",
              "    .wandb-row { display: flex; flex-direction: row; flex-wrap: wrap; justify-content: flex-start; width: 100% }\n",
              "    .wandb-col { display: flex; flex-direction: column; flex-basis: 100%; flex: 1; padding: 10px; }\n",
              "    </style>\n",
              "<div class=\"wandb-row\"><div class=\"wandb-col\"><h3>Run history:</h3><br/><table class=\"wandb\"><tr><td>accuracy</td><td>▁▅▇█████████████████████████████████████</td></tr><tr><td>epoch</td><td>▁▁▁▁▂▂▂▂▂▃▃▃▃▃▃▄▄▄▄▄▅▅▅▅▅▅▆▆▆▆▆▇▇▇▇▇▇███</td></tr><tr><td>eval/accuracy</td><td>▁</td></tr><tr><td>eval/f1</td><td>▁</td></tr><tr><td>eval/precision</td><td>▁</td></tr><tr><td>eval/recall</td><td>▁</td></tr><tr><td>loss</td><td>█▄▂▂▁▁▁▁▁▁▁▁▁▁▁▁▁▁▁▁▁▁▁▁▁▁▁▁▁▁▁▁▁▁▁▁▁▁▁▁</td></tr><tr><td>val_accuracy</td><td>▇▄▁▃▆█▅▆▄▄▃▇▆▆▅▆▇▆▄▆▇▄▄▇▂▆▇▆▃▇▆▅▆▆▆▅▇▇▄▄</td></tr><tr><td>val_loss</td><td>▁▂▃▄▅▅▅▅▅▅▆▆▆▆▇▇▇▆▆▆▆▇▆█▆▆▆▇▆▇▇▆█▇▆▇███▇</td></tr></table><br/></div><div class=\"wandb-col\"><h3>Run summary:</h3><br/><table class=\"wandb\"><tr><td>GFLOPS</td><td>0.0</td></tr><tr><td>accuracy</td><td>0.99718</td></tr><tr><td>best_epoch</td><td>2</td></tr><tr><td>best_val_loss</td><td>0.40152</td></tr><tr><td>epoch</td><td>199</td></tr><tr><td>eval/accuracy</td><td>0.83425</td></tr><tr><td>eval/f1</td><td>0.89746</td></tr><tr><td>eval/precision</td><td>0.85964</td></tr><tr><td>eval/recall</td><td>0.93876</td></tr><tr><td>loss</td><td>0.00774</td></tr><tr><td>val_accuracy</td><td>0.81898</td></tr><tr><td>val_loss</td><td>1.47516</td></tr></table><br/></div></div>"
            ]
          },
          "metadata": {}
        },
        {
          "output_type": "display_data",
          "data": {
            "text/plain": [
              "<IPython.core.display.HTML object>"
            ],
            "text/html": [
              "Synced <strong style=\"color:#cdcd00\">glove300-fulltext128-convnet-fold-0</strong>: <a href=\"https://wandb.ai/arampacha/fnd/runs/ggi70ip8\" target=\"_blank\">https://wandb.ai/arampacha/fnd/runs/ggi70ip8</a><br/>Synced 5 W&B file(s), 2 media file(s), 1 artifact file(s) and 1 other file(s)"
            ]
          },
          "metadata": {}
        },
        {
          "output_type": "display_data",
          "data": {
            "text/plain": [
              "<IPython.core.display.HTML object>"
            ],
            "text/html": [
              "Find logs at: <code>./wandb/run-20220711_225447-ggi70ip8/logs</code>"
            ]
          },
          "metadata": {}
        }
      ],
      "source": [
        "GROUP = f\"{dataset_id}-glove{d_wv}-fulltext{max_len}-convnet\"\n",
        "\n",
        "for fold_id, (train_idx, test_idx) in enumerate(skf.split(X, y)):\n",
        "    clear_output()\n",
        "    with wandb.init(entity=\"arampacha\", project=\"fnd\", group=GROUP, name=f\"{GROUP}-fold-{fold_id}\") as run:\n",
        "        train(fold_id, train_idx, test_idx, params)\n",
        "    break"
      ]
    },
    {
      "cell_type": "code",
      "execution_count": null,
      "metadata": {
        "id": "fqXh5vKZPxLR"
      },
      "outputs": [],
      "source": [
        ""
      ]
    }
  ],
  "metadata": {
    "colab": {
      "collapsed_sections": [],
      "name": "GloVe_Conv1d_keras_gossipcop.ipynb",
      "provenance": [],
      "include_colab_link": true
    },
    "kernelspec": {
      "display_name": "Python 3",
      "name": "python3"
    },
    "language_info": {
      "name": "python"
    },
    "widgets": {
      "application/vnd.jupyter.widget-state+json": {
        "00060d51b55c4ba8a53a1623f761a499": {
          "model_module": "@jupyter-widgets/controls",
          "model_name": "VBoxModel",
          "model_module_version": "1.5.0",
          "state": {
            "_dom_classes": [],
            "_model_module": "@jupyter-widgets/controls",
            "_model_module_version": "1.5.0",
            "_model_name": "VBoxModel",
            "_view_count": null,
            "_view_module": "@jupyter-widgets/controls",
            "_view_module_version": "1.5.0",
            "_view_name": "VBoxView",
            "box_style": "",
            "children": [
              "IPY_MODEL_e78f28e8763b4d868728f0b2e1db3330",
              "IPY_MODEL_57590de0d5a94053a0d0005361426af2"
            ],
            "layout": "IPY_MODEL_5a286cd7e8c340e8a3ae44aa09f503a6"
          }
        },
        "e78f28e8763b4d868728f0b2e1db3330": {
          "model_module": "@jupyter-widgets/controls",
          "model_name": "LabelModel",
          "model_module_version": "1.5.0",
          "state": {
            "_dom_classes": [],
            "_model_module": "@jupyter-widgets/controls",
            "_model_module_version": "1.5.0",
            "_model_name": "LabelModel",
            "_view_count": null,
            "_view_module": "@jupyter-widgets/controls",
            "_view_module_version": "1.5.0",
            "_view_name": "LabelView",
            "description": "",
            "description_tooltip": null,
            "layout": "IPY_MODEL_d21511dc3432412a80cde01c820fcf7c",
            "placeholder": "​",
            "style": "IPY_MODEL_e88a106ef5eb4acc8e5bda2fb09f1c4f",
            "value": "183.972 MB of 183.972 MB uploaded (0.000 MB deduped)\r"
          }
        },
        "57590de0d5a94053a0d0005361426af2": {
          "model_module": "@jupyter-widgets/controls",
          "model_name": "FloatProgressModel",
          "model_module_version": "1.5.0",
          "state": {
            "_dom_classes": [],
            "_model_module": "@jupyter-widgets/controls",
            "_model_module_version": "1.5.0",
            "_model_name": "FloatProgressModel",
            "_view_count": null,
            "_view_module": "@jupyter-widgets/controls",
            "_view_module_version": "1.5.0",
            "_view_name": "ProgressView",
            "bar_style": "",
            "description": "",
            "description_tooltip": null,
            "layout": "IPY_MODEL_a12193ee0ccb4c7b9542afe459184074",
            "max": 1,
            "min": 0,
            "orientation": "horizontal",
            "style": "IPY_MODEL_80e845dfb30a4711b6f321c1a71ca938",
            "value": 1
          }
        },
        "5a286cd7e8c340e8a3ae44aa09f503a6": {
          "model_module": "@jupyter-widgets/base",
          "model_name": "LayoutModel",
          "model_module_version": "1.2.0",
          "state": {
            "_model_module": "@jupyter-widgets/base",
            "_model_module_version": "1.2.0",
            "_model_name": "LayoutModel",
            "_view_count": null,
            "_view_module": "@jupyter-widgets/base",
            "_view_module_version": "1.2.0",
            "_view_name": "LayoutView",
            "align_content": null,
            "align_items": null,
            "align_self": null,
            "border": null,
            "bottom": null,
            "display": null,
            "flex": null,
            "flex_flow": null,
            "grid_area": null,
            "grid_auto_columns": null,
            "grid_auto_flow": null,
            "grid_auto_rows": null,
            "grid_column": null,
            "grid_gap": null,
            "grid_row": null,
            "grid_template_areas": null,
            "grid_template_columns": null,
            "grid_template_rows": null,
            "height": null,
            "justify_content": null,
            "justify_items": null,
            "left": null,
            "margin": null,
            "max_height": null,
            "max_width": null,
            "min_height": null,
            "min_width": null,
            "object_fit": null,
            "object_position": null,
            "order": null,
            "overflow": null,
            "overflow_x": null,
            "overflow_y": null,
            "padding": null,
            "right": null,
            "top": null,
            "visibility": null,
            "width": null
          }
        },
        "d21511dc3432412a80cde01c820fcf7c": {
          "model_module": "@jupyter-widgets/base",
          "model_name": "LayoutModel",
          "model_module_version": "1.2.0",
          "state": {
            "_model_module": "@jupyter-widgets/base",
            "_model_module_version": "1.2.0",
            "_model_name": "LayoutModel",
            "_view_count": null,
            "_view_module": "@jupyter-widgets/base",
            "_view_module_version": "1.2.0",
            "_view_name": "LayoutView",
            "align_content": null,
            "align_items": null,
            "align_self": null,
            "border": null,
            "bottom": null,
            "display": null,
            "flex": null,
            "flex_flow": null,
            "grid_area": null,
            "grid_auto_columns": null,
            "grid_auto_flow": null,
            "grid_auto_rows": null,
            "grid_column": null,
            "grid_gap": null,
            "grid_row": null,
            "grid_template_areas": null,
            "grid_template_columns": null,
            "grid_template_rows": null,
            "height": null,
            "justify_content": null,
            "justify_items": null,
            "left": null,
            "margin": null,
            "max_height": null,
            "max_width": null,
            "min_height": null,
            "min_width": null,
            "object_fit": null,
            "object_position": null,
            "order": null,
            "overflow": null,
            "overflow_x": null,
            "overflow_y": null,
            "padding": null,
            "right": null,
            "top": null,
            "visibility": null,
            "width": null
          }
        },
        "e88a106ef5eb4acc8e5bda2fb09f1c4f": {
          "model_module": "@jupyter-widgets/controls",
          "model_name": "DescriptionStyleModel",
          "model_module_version": "1.5.0",
          "state": {
            "_model_module": "@jupyter-widgets/controls",
            "_model_module_version": "1.5.0",
            "_model_name": "DescriptionStyleModel",
            "_view_count": null,
            "_view_module": "@jupyter-widgets/base",
            "_view_module_version": "1.2.0",
            "_view_name": "StyleView",
            "description_width": ""
          }
        },
        "a12193ee0ccb4c7b9542afe459184074": {
          "model_module": "@jupyter-widgets/base",
          "model_name": "LayoutModel",
          "model_module_version": "1.2.0",
          "state": {
            "_model_module": "@jupyter-widgets/base",
            "_model_module_version": "1.2.0",
            "_model_name": "LayoutModel",
            "_view_count": null,
            "_view_module": "@jupyter-widgets/base",
            "_view_module_version": "1.2.0",
            "_view_name": "LayoutView",
            "align_content": null,
            "align_items": null,
            "align_self": null,
            "border": null,
            "bottom": null,
            "display": null,
            "flex": null,
            "flex_flow": null,
            "grid_area": null,
            "grid_auto_columns": null,
            "grid_auto_flow": null,
            "grid_auto_rows": null,
            "grid_column": null,
            "grid_gap": null,
            "grid_row": null,
            "grid_template_areas": null,
            "grid_template_columns": null,
            "grid_template_rows": null,
            "height": null,
            "justify_content": null,
            "justify_items": null,
            "left": null,
            "margin": null,
            "max_height": null,
            "max_width": null,
            "min_height": null,
            "min_width": null,
            "object_fit": null,
            "object_position": null,
            "order": null,
            "overflow": null,
            "overflow_x": null,
            "overflow_y": null,
            "padding": null,
            "right": null,
            "top": null,
            "visibility": null,
            "width": null
          }
        },
        "80e845dfb30a4711b6f321c1a71ca938": {
          "model_module": "@jupyter-widgets/controls",
          "model_name": "ProgressStyleModel",
          "model_module_version": "1.5.0",
          "state": {
            "_model_module": "@jupyter-widgets/controls",
            "_model_module_version": "1.5.0",
            "_model_name": "ProgressStyleModel",
            "_view_count": null,
            "_view_module": "@jupyter-widgets/base",
            "_view_module_version": "1.2.0",
            "_view_name": "StyleView",
            "bar_color": null,
            "description_width": ""
          }
        }
      }
    }
  },
  "nbformat": 4,
  "nbformat_minor": 0
}