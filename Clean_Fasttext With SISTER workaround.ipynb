{
  "nbformat": 4,
  "nbformat_minor": 0,
  "metadata": {
    "colab": {
      "name": "Clean Fasttext",
      "provenance": [],
      "collapsed_sections": [],
      "mount_file_id": "1Ib-GuSNDnP5MGbcbUBu1Dp_MrmkHqOws",
      "authorship_tag": "ABX9TyM2kzou7K+W8DCC3WwCraF/",
      "include_colab_link": true
    },
    "kernelspec": {
      "name": "python3",
      "display_name": "Python 3"
    },
    "language_info": {
      "name": "python"
    }
  },
  "cells": [
    {
      "cell_type": "markdown",
      "metadata": {
        "id": "view-in-github",
        "colab_type": "text"
      },
      "source": [
        "<a href=\"https://colab.research.google.com/github/verma-saloni/Thesis-Work/blob/main/Clean_Fasttext%20With%20SISTER%20workaround.ipynb\" target=\"_parent\"><img src=\"https://colab.research.google.com/assets/colab-badge.svg\" alt=\"Open In Colab\"/></a>"
      ]
    },
    {
      "cell_type": "code",
      "source": [
        "!pip install unidecode\n",
        "!pip install word2number\n",
        "!pip install contractions"
      ],
      "metadata": {
        "colab": {
          "base_uri": "https://localhost:8080/"
        },
        "id": "aByzVMdkzqAJ",
        "outputId": "dab97f9e-700e-49f4-fc71-17d81583c951"
      },
      "execution_count": 6,
      "outputs": [
        {
          "output_type": "stream",
          "name": "stdout",
          "text": [
            "Requirement already satisfied: unidecode in /usr/local/lib/python3.7/dist-packages (1.3.2)\n",
            "Requirement already satisfied: word2number in /usr/local/lib/python3.7/dist-packages (1.1)\n",
            "Requirement already satisfied: contractions in /usr/local/lib/python3.7/dist-packages (0.0.58)\n",
            "Requirement already satisfied: textsearch>=0.0.21 in /usr/local/lib/python3.7/dist-packages (from contractions) (0.0.21)\n",
            "Requirement already satisfied: pyahocorasick in /usr/local/lib/python3.7/dist-packages (from textsearch>=0.0.21->contractions) (1.4.2)\n",
            "Requirement already satisfied: anyascii in /usr/local/lib/python3.7/dist-packages (from textsearch>=0.0.21->contractions) (0.3.0)\n"
          ]
        }
      ]
    },
    {
      "cell_type": "code",
      "execution_count": 7,
      "metadata": {
        "colab": {
          "base_uri": "https://localhost:8080/"
        },
        "id": "8wffusyCytsx",
        "outputId": "bee6d335-5a71-46a2-8a39-420c6a931622"
      },
      "outputs": [
        {
          "output_type": "stream",
          "name": "stdout",
          "text": [
            "[nltk_data] Downloading package stopwords to /root/nltk_data...\n",
            "[nltk_data]   Package stopwords is already up-to-date!\n"
          ]
        }
      ],
      "source": [
        "import pandas as pd\n",
        "import numpy as np\n",
        "import nltk\n",
        "import gensim\n",
        "from gensim.models import Word2Vec\n",
        "import string\n",
        "string.punctuation\n",
        "nltk.download('stopwords')\n",
        "import re\n",
        "from bs4 import BeautifulSoup\n",
        "import spacy\n",
        "import unidecode\n",
        "from word2number import w2n\n",
        "import contractions\n",
        "from nltk.tokenize.treebank import TreebankWordDetokenizer\n",
        "# load spacy model, can be \"en_core_web_sm\" as well\n",
        "from sklearn.model_selection import train_test_split\n",
        "import xgboost as xgb\n",
        "\n"
      ]
    },
    {
      "cell_type": "code",
      "source": [
        "from google.colab import drive\n",
        "drive._mount('/content/drive')"
      ],
      "metadata": {
        "colab": {
          "base_uri": "https://localhost:8080/"
        },
        "id": "SusBhh-CzXYG",
        "outputId": "14872182-f1b0-4f7e-c3ef-56883c5716eb"
      },
      "execution_count": 8,
      "outputs": [
        {
          "output_type": "stream",
          "name": "stdout",
          "text": [
            "Drive already mounted at /content/drive; to attempt to forcibly remount, call drive.mount(\"/content/drive\", force_remount=True).\n"
          ]
        }
      ]
    },
    {
      "cell_type": "code",
      "source": [
        "df_fake = pd.read_csv('/content/drive/MyDrive/Thesis/gossipcop_fake.csv')\n",
        "df_real = pd.read_csv('/content/drive/MyDrive/Thesis/gossipcop_real.csv')\n",
        "df_fake['labelML']=0\n",
        "df_real['labelML']=1\n",
        "\n",
        "df_fake.count()\n"
      ],
      "metadata": {
        "id": "bwskIeYazYL6",
        "colab": {
          "base_uri": "https://localhost:8080/"
        },
        "outputId": "6c201e7e-5a53-4529-8f40-bdb2771571ac"
      },
      "execution_count": 9,
      "outputs": [
        {
          "output_type": "execute_result",
          "data": {
            "text/plain": [
              "id           5323\n",
              "news_url     5067\n",
              "title        5323\n",
              "tweet_ids    5135\n",
              "labelML      5323\n",
              "dtype: int64"
            ]
          },
          "metadata": {},
          "execution_count": 9
        }
      ]
    },
    {
      "cell_type": "code",
      "source": [
        "dforiginal = df_fake.append(df_real)"
      ],
      "metadata": {
        "id": "wfCAm3KZ4mxR"
      },
      "execution_count": 10,
      "outputs": []
    },
    {
      "cell_type": "code",
      "source": [
        "df= df_fake.append(df_real)\n",
        "df.reset_index(drop=True, inplace=True)"
      ],
      "metadata": {
        "id": "mbqeWkN1JDGJ"
      },
      "execution_count": 11,
      "outputs": []
    },
    {
      "cell_type": "code",
      "source": [
        "print(df.columns)\n",
        "df.count()"
      ],
      "metadata": {
        "colab": {
          "base_uri": "https://localhost:8080/"
        },
        "id": "bjYdaIs51j87",
        "outputId": "55410e61-293c-4441-aabe-ce9ad00781fc"
      },
      "execution_count": 12,
      "outputs": [
        {
          "output_type": "stream",
          "name": "stdout",
          "text": [
            "Index(['id', 'news_url', 'title', 'tweet_ids', 'labelML'], dtype='object')\n"
          ]
        },
        {
          "output_type": "execute_result",
          "data": {
            "text/plain": [
              "id           22140\n",
              "news_url     21871\n",
              "title        22140\n",
              "tweet_ids    20894\n",
              "labelML      22140\n",
              "dtype: int64"
            ]
          },
          "metadata": {},
          "execution_count": 12
        }
      ]
    },
    {
      "cell_type": "code",
      "source": [
        "print(df)"
      ],
      "metadata": {
        "id": "o2VUVYCL1q1i",
        "colab": {
          "base_uri": "https://localhost:8080/"
        },
        "outputId": "e874b808-7290-4818-c312-28cc951806dd"
      },
      "execution_count": 13,
      "outputs": [
        {
          "output_type": "stream",
          "name": "stdout",
          "text": [
            "                         id  ... labelML\n",
            "0      gossipcop-2493749932  ...       0\n",
            "1      gossipcop-4580247171  ...       0\n",
            "2       gossipcop-941805037  ...       0\n",
            "3      gossipcop-2547891536  ...       0\n",
            "4      gossipcop-5476631226  ...       0\n",
            "...                     ...  ...     ...\n",
            "22135      gossipcop-891749  ...       1\n",
            "22136      gossipcop-941486  ...       1\n",
            "22137      gossipcop-953143  ...       1\n",
            "22138      gossipcop-954366  ...       1\n",
            "22139      gossipcop-877062  ...       1\n",
            "\n",
            "[22140 rows x 5 columns]\n"
          ]
        }
      ]
    },
    {
      "cell_type": "code",
      "source": [
        "df1= df.drop(['tweet_ids', 'news_url','id'], axis=1)\n",
        "df1.count()"
      ],
      "metadata": {
        "id": "jwscw5FG1t8P",
        "colab": {
          "base_uri": "https://localhost:8080/"
        },
        "outputId": "30a67e58-b0d2-4e08-e262-8dc77067aec5"
      },
      "execution_count": 14,
      "outputs": [
        {
          "output_type": "execute_result",
          "data": {
            "text/plain": [
              "title      22140\n",
              "labelML    22140\n",
              "dtype: int64"
            ]
          },
          "metadata": {},
          "execution_count": 14
        }
      ]
    },
    {
      "cell_type": "code",
      "source": [
        "# NLP Preprocessing\n",
        "from gensim.utils import simple_preprocess\n",
        "\n",
        "# NLP Preprocess - gensim.utils.simple_preprocess(doc, deacc=False, min_len=2, max_len=15)[source]\n",
        "# Convert a document into a list of tokens.\n",
        "# This lowercases, tokenizes, de-accents (optional). – the output are final tokens = unicode strings, that won’t be processed any further.\n",
        "\n",
        "df1.iloc[:, 0] = df1.iloc[:, 0].apply(lambda x: ' '.join(simple_preprocess(x)))"
      ],
      "metadata": {
        "id": "hdd1tdzS2HmB"
      },
      "execution_count": 15,
      "outputs": []
    },
    {
      "cell_type": "code",
      "source": [
        "#print(df1)\n",
        "df1.count()"
      ],
      "metadata": {
        "id": "h6wPx2906bxr",
        "colab": {
          "base_uri": "https://localhost:8080/"
        },
        "outputId": "90c73d72-3357-46a7-da1b-f2947d979743"
      },
      "execution_count": 16,
      "outputs": [
        {
          "output_type": "execute_result",
          "data": {
            "text/plain": [
              "title      22140\n",
              "labelML    22140\n",
              "dtype: int64"
            ]
          },
          "metadata": {},
          "execution_count": 16
        }
      ]
    },
    {
      "cell_type": "code",
      "source": [
        "# Prefixing each row of the category column with '__label__' 0;10 all rows. same for column. \n",
        "df1.iloc[:5322, 0] = df1.iloc[:, 0].apply(lambda x: '__label__0 ' + x)\n",
        "df1.iloc[5323:, 0] = df1.iloc[1:, 0].apply(lambda x: '__label__1 ' + x)\n",
        "\n",
        "# NOTE BIG NOTE In general it is important to properly preprocess your data. In particular our example scripts in the root folder do this. i can see why the last cell is wierd, fix in post.\n"
      ],
      "metadata": {
        "id": "A6LGL-V67EHw"
      },
      "execution_count": 17,
      "outputs": []
    },
    {
      "cell_type": "code",
      "source": [
        "print(df1)"
      ],
      "metadata": {
        "colab": {
          "base_uri": "https://localhost:8080/"
        },
        "id": "d370GpN5NJc7",
        "outputId": "eea81d2b-3139-4f35-e09f-aebe8c7ce047"
      },
      "execution_count": 18,
      "outputs": [
        {
          "output_type": "stream",
          "name": "stdout",
          "text": [
            "                                                   title  labelML\n",
            "0      __label__0 did miley cyrus and liam hemsworth ...        0\n",
            "1      __label__0 paris jackson cara delevingne enjoy...        0\n",
            "2      __label__0 celebrities join tax march in prote...        0\n",
            "3      __label__0 cindy crawford daughter kaia gerber...        0\n",
            "4      __label__0 full list of oscar nominations variety        0\n",
            "...                                                  ...      ...\n",
            "22135  __label__1 hollywood film awards the complete ...        1\n",
            "22136  __label__1 jada pinkett smith explains why son...        1\n",
            "22137  __label__1 tinsley mortimer reacts to luann de...        1\n",
            "22138  __label__1 prince harry carries on princess di...        1\n",
            "22139  __label__1 kylie jenner is actually terrified ...        1\n",
            "\n",
            "[22140 rows x 2 columns]\n"
          ]
        }
      ]
    },
    {
      "cell_type": "code",
      "source": [
        "df1.count()"
      ],
      "metadata": {
        "colab": {
          "base_uri": "https://localhost:8080/"
        },
        "id": "6cQ2Qo3dE028",
        "outputId": "5d7c1bd6-29ea-470c-f285-819a671f19a0"
      },
      "execution_count": 19,
      "outputs": [
        {
          "output_type": "execute_result",
          "data": {
            "text/plain": [
              "title      22140\n",
              "labelML    22140\n",
              "dtype: int64"
            ]
          },
          "metadata": {},
          "execution_count": 19
        }
      ]
    },
    {
      "cell_type": "code",
      "source": [
        "df2=df1\n",
        "# ------------- df2 = df2.reindex(columns=['labelML', 'title'])\n",
        "#print(df1)"
      ],
      "metadata": {
        "id": "k8Q5iYqKFV5l"
      },
      "execution_count": 20,
      "outputs": []
    },
    {
      "cell_type": "code",
      "source": [
        "traindf, testdf = train_test_split(df2, test_size=0.2)\n",
        "print(traindf)\n",
        "print(testdf)  \n",
        "\n",
        "traindf.count()"
      ],
      "metadata": {
        "id": "uPFqJirScaCL",
        "colab": {
          "base_uri": "https://localhost:8080/"
        },
        "outputId": "2c423097-5462-43a8-d1aa-50b5648d354b"
      },
      "execution_count": 21,
      "outputs": [
        {
          "output_type": "stream",
          "name": "stdout",
          "text": [
            "                                                   title  labelML\n",
            "8639   __label__1 how jersey shore revival will find ...        1\n",
            "10475  __label__1 why harry potter fans are freaking ...        1\n",
            "18942  __label__1 billboard awards jenna dewan domina...        1\n",
            "1565   __label__0 lady gaga shows off huge engagement...        0\n",
            "17427  __label__1 bella thorne says scott disick part...        1\n",
            "...                                                  ...      ...\n",
            "8059   __label__1 most talked about moments from the ...        1\n",
            "18665  __label__1 dumbo comes to life in first traile...        1\n",
            "18486  __label__1 queer eye fans are getting antoni p...        1\n",
            "14721  __label__1 mystery restaurant accidentally lea...        1\n",
            "7017   __label__1 tyler perry is donating million to ...        1\n",
            "\n",
            "[17712 rows x 2 columns]\n",
            "                                                   title  labelML\n",
            "12979  __label__1 beyoncé is going vegan again in pre...        1\n",
            "21061  __label__1 titans trailer robins drops an bomb...        1\n",
            "2391   __label__0 chloë grace moretz speaks out about...        0\n",
            "4541   __label__0 brad pitt my twelve years of hell w...        0\n",
            "9563   __label__1 vanderpump rules finale jax taylor ...        1\n",
            "...                                                  ...      ...\n",
            "16282  __label__1 kate middleton prince william and k...        1\n",
            "7012         __label__1 what does bidi bidi bom bom mean        1\n",
            "17265  __label__1 who went home on bachelor in paradi...        1\n",
            "13759  __label__1 meryl davis is engaged to fedor and...        1\n",
            "4438   __label__0 rob kardashian wants tristan thomps...        0\n",
            "\n",
            "[4428 rows x 2 columns]\n"
          ]
        },
        {
          "output_type": "execute_result",
          "data": {
            "text/plain": [
              "title      17712\n",
              "labelML    17712\n",
              "dtype: int64"
            ]
          },
          "metadata": {},
          "execution_count": 21
        }
      ]
    },
    {
      "cell_type": "code",
      "source": [
        "# Saving the CSV file as a text file to train/test the classifier\n",
        "import csv #needed\n",
        "traindf[['labelML', 'title']].to_csv('traindf.txt', \n",
        "                                          index = False, \n",
        "                                          sep = ' ',\n",
        "                                          header = None, \n",
        "                                          quoting = csv.QUOTE_NONE, \n",
        "                                          quotechar = \"\", \n",
        "                                          escapechar = \" \")\n",
        "\n",
        "testdf[['labelML', 'title']].to_csv('testdf.txt', \n",
        "                                     index = False, \n",
        "                                     sep = ' ',\n",
        "                                     header = None, \n",
        "                                     quoting = csv.QUOTE_NONE, \n",
        "                                     quotechar = \"\", \n",
        "                                     escapechar = \" \")"
      ],
      "metadata": {
        "id": "XS3912OVE1hT"
      },
      "execution_count": 22,
      "outputs": []
    },
    {
      "cell_type": "code",
      "source": [
        "!pip install fasttext\n",
        "import fasttext\n",
        "# Training the fastText classifier\n",
        "model = fasttext.train_supervised('traindf.txt', wordNgrams = 2, dim=300)\n",
        "\n",
        "# Evaluating performance on the entire test file\n",
        "model.test('testdf.txt')                      \n",
        "\n",
        "# Predicting on a single input\n",
        "testdf['labelML'] = testdf['labelML'].astype(str)\n",
        "model.predict(testdf.iloc[56, 0])\n",
        "#model.test(testdf.txt)\n",
        "\n",
        "# Save the trained model\n",
        "#model.save_model('modelFTme.bin')"
      ],
      "metadata": {
        "colab": {
          "base_uri": "https://localhost:8080/"
        },
        "id": "OmeXA3LwwCJZ",
        "outputId": "63b02411-9762-4af6-85a9-20d9ff322d28"
      },
      "execution_count": 23,
      "outputs": [
        {
          "output_type": "stream",
          "name": "stdout",
          "text": [
            "Requirement already satisfied: fasttext in /usr/local/lib/python3.7/dist-packages (0.9.2)\n",
            "Requirement already satisfied: numpy in /usr/local/lib/python3.7/dist-packages (from fasttext) (1.19.5)\n",
            "Requirement already satisfied: pybind11>=2.2 in /usr/local/lib/python3.7/dist-packages (from fasttext) (2.9.0)\n",
            "Requirement already satisfied: setuptools>=0.7.0 in /usr/local/lib/python3.7/dist-packages (from fasttext) (57.4.0)\n"
          ]
        },
        {
          "output_type": "execute_result",
          "data": {
            "text/plain": [
              "(('__label__1',), array([0.67295575]))"
            ]
          },
          "metadata": {},
          "execution_count": 23
        }
      ]
    },
    {
      "cell_type": "code",
      "source": [
        "testdf.head(10)\n",
        "#print(testdf.columns)"
      ],
      "metadata": {
        "colab": {
          "base_uri": "https://localhost:8080/",
          "height": 363
        },
        "id": "q2JYv7k5xkh9",
        "outputId": "65b07ca6-a223-45a4-a726-b0017b9f7232"
      },
      "execution_count": 24,
      "outputs": [
        {
          "output_type": "execute_result",
          "data": {
            "text/html": [
              "\n",
              "  <div id=\"df-c36c6fe5-7b50-4957-b638-37c68b5cd378\">\n",
              "    <div class=\"colab-df-container\">\n",
              "      <div>\n",
              "<style scoped>\n",
              "    .dataframe tbody tr th:only-of-type {\n",
              "        vertical-align: middle;\n",
              "    }\n",
              "\n",
              "    .dataframe tbody tr th {\n",
              "        vertical-align: top;\n",
              "    }\n",
              "\n",
              "    .dataframe thead th {\n",
              "        text-align: right;\n",
              "    }\n",
              "</style>\n",
              "<table border=\"1\" class=\"dataframe\">\n",
              "  <thead>\n",
              "    <tr style=\"text-align: right;\">\n",
              "      <th></th>\n",
              "      <th>title</th>\n",
              "      <th>labelML</th>\n",
              "    </tr>\n",
              "  </thead>\n",
              "  <tbody>\n",
              "    <tr>\n",
              "      <th>12979</th>\n",
              "      <td>__label__1 beyoncé is going vegan again in pre...</td>\n",
              "      <td>1</td>\n",
              "    </tr>\n",
              "    <tr>\n",
              "      <th>21061</th>\n",
              "      <td>__label__1 titans trailer robins drops an bomb...</td>\n",
              "      <td>1</td>\n",
              "    </tr>\n",
              "    <tr>\n",
              "      <th>2391</th>\n",
              "      <td>__label__0 chloë grace moretz speaks out about...</td>\n",
              "      <td>0</td>\n",
              "    </tr>\n",
              "    <tr>\n",
              "      <th>4541</th>\n",
              "      <td>__label__0 brad pitt my twelve years of hell w...</td>\n",
              "      <td>0</td>\n",
              "    </tr>\n",
              "    <tr>\n",
              "      <th>9563</th>\n",
              "      <td>__label__1 vanderpump rules finale jax taylor ...</td>\n",
              "      <td>1</td>\n",
              "    </tr>\n",
              "    <tr>\n",
              "      <th>16072</th>\n",
              "      <td>__label__1 gigi hadid proves it time to swap y...</td>\n",
              "      <td>1</td>\n",
              "    </tr>\n",
              "    <tr>\n",
              "      <th>11272</th>\n",
              "      <td>__label__1 cara delevingne photo gallery high ...</td>\n",
              "      <td>1</td>\n",
              "    </tr>\n",
              "    <tr>\n",
              "      <th>6750</th>\n",
              "      <td>__label__1 southern charm shep talks kathryn h...</td>\n",
              "      <td>1</td>\n",
              "    </tr>\n",
              "    <tr>\n",
              "      <th>11929</th>\n",
              "      <td>__label__1 chiquis rivera reveals her beauty r...</td>\n",
              "      <td>1</td>\n",
              "    </tr>\n",
              "    <tr>\n",
              "      <th>7787</th>\n",
              "      <td>__label__1 latin american music awards ozuna a...</td>\n",
              "      <td>1</td>\n",
              "    </tr>\n",
              "  </tbody>\n",
              "</table>\n",
              "</div>\n",
              "      <button class=\"colab-df-convert\" onclick=\"convertToInteractive('df-c36c6fe5-7b50-4957-b638-37c68b5cd378')\"\n",
              "              title=\"Convert this dataframe to an interactive table.\"\n",
              "              style=\"display:none;\">\n",
              "        \n",
              "  <svg xmlns=\"http://www.w3.org/2000/svg\" height=\"24px\"viewBox=\"0 0 24 24\"\n",
              "       width=\"24px\">\n",
              "    <path d=\"M0 0h24v24H0V0z\" fill=\"none\"/>\n",
              "    <path d=\"M18.56 5.44l.94 2.06.94-2.06 2.06-.94-2.06-.94-.94-2.06-.94 2.06-2.06.94zm-11 1L8.5 8.5l.94-2.06 2.06-.94-2.06-.94L8.5 2.5l-.94 2.06-2.06.94zm10 10l.94 2.06.94-2.06 2.06-.94-2.06-.94-.94-2.06-.94 2.06-2.06.94z\"/><path d=\"M17.41 7.96l-1.37-1.37c-.4-.4-.92-.59-1.43-.59-.52 0-1.04.2-1.43.59L10.3 9.45l-7.72 7.72c-.78.78-.78 2.05 0 2.83L4 21.41c.39.39.9.59 1.41.59.51 0 1.02-.2 1.41-.59l7.78-7.78 2.81-2.81c.8-.78.8-2.07 0-2.86zM5.41 20L4 18.59l7.72-7.72 1.47 1.35L5.41 20z\"/>\n",
              "  </svg>\n",
              "      </button>\n",
              "      \n",
              "  <style>\n",
              "    .colab-df-container {\n",
              "      display:flex;\n",
              "      flex-wrap:wrap;\n",
              "      gap: 12px;\n",
              "    }\n",
              "\n",
              "    .colab-df-convert {\n",
              "      background-color: #E8F0FE;\n",
              "      border: none;\n",
              "      border-radius: 50%;\n",
              "      cursor: pointer;\n",
              "      display: none;\n",
              "      fill: #1967D2;\n",
              "      height: 32px;\n",
              "      padding: 0 0 0 0;\n",
              "      width: 32px;\n",
              "    }\n",
              "\n",
              "    .colab-df-convert:hover {\n",
              "      background-color: #E2EBFA;\n",
              "      box-shadow: 0px 1px 2px rgba(60, 64, 67, 0.3), 0px 1px 3px 1px rgba(60, 64, 67, 0.15);\n",
              "      fill: #174EA6;\n",
              "    }\n",
              "\n",
              "    [theme=dark] .colab-df-convert {\n",
              "      background-color: #3B4455;\n",
              "      fill: #D2E3FC;\n",
              "    }\n",
              "\n",
              "    [theme=dark] .colab-df-convert:hover {\n",
              "      background-color: #434B5C;\n",
              "      box-shadow: 0px 1px 3px 1px rgba(0, 0, 0, 0.15);\n",
              "      filter: drop-shadow(0px 1px 2px rgba(0, 0, 0, 0.3));\n",
              "      fill: #FFFFFF;\n",
              "    }\n",
              "  </style>\n",
              "\n",
              "      <script>\n",
              "        const buttonEl =\n",
              "          document.querySelector('#df-c36c6fe5-7b50-4957-b638-37c68b5cd378 button.colab-df-convert');\n",
              "        buttonEl.style.display =\n",
              "          google.colab.kernel.accessAllowed ? 'block' : 'none';\n",
              "\n",
              "        async function convertToInteractive(key) {\n",
              "          const element = document.querySelector('#df-c36c6fe5-7b50-4957-b638-37c68b5cd378');\n",
              "          const dataTable =\n",
              "            await google.colab.kernel.invokeFunction('convertToInteractive',\n",
              "                                                     [key], {});\n",
              "          if (!dataTable) return;\n",
              "\n",
              "          const docLinkHtml = 'Like what you see? Visit the ' +\n",
              "            '<a target=\"_blank\" href=https://colab.research.google.com/notebooks/data_table.ipynb>data table notebook</a>'\n",
              "            + ' to learn more about interactive tables.';\n",
              "          element.innerHTML = '';\n",
              "          dataTable['output_type'] = 'display_data';\n",
              "          await google.colab.output.renderOutput(dataTable, element);\n",
              "          const docLink = document.createElement('div');\n",
              "          docLink.innerHTML = docLinkHtml;\n",
              "          element.appendChild(docLink);\n",
              "        }\n",
              "      </script>\n",
              "    </div>\n",
              "  </div>\n",
              "  "
            ],
            "text/plain": [
              "                                                   title labelML\n",
              "12979  __label__1 beyoncé is going vegan again in pre...       1\n",
              "21061  __label__1 titans trailer robins drops an bomb...       1\n",
              "2391   __label__0 chloë grace moretz speaks out about...       0\n",
              "4541   __label__0 brad pitt my twelve years of hell w...       0\n",
              "9563   __label__1 vanderpump rules finale jax taylor ...       1\n",
              "16072  __label__1 gigi hadid proves it time to swap y...       1\n",
              "11272  __label__1 cara delevingne photo gallery high ...       1\n",
              "6750   __label__1 southern charm shep talks kathryn h...       1\n",
              "11929  __label__1 chiquis rivera reveals her beauty r...       1\n",
              "7787   __label__1 latin american music awards ozuna a...       1"
            ]
          },
          "metadata": {},
          "execution_count": 24
        }
      ]
    },
    {
      "cell_type": "markdown",
      "source": [
        "This model is running, so trying to change with vectors, or textual input for new vectors. Accuracy is only 50 percent coz I've given it such a balanced dataset."
      ],
      "metadata": {
        "id": "gH6DjpzfyzPb"
      }
    },
    {
      "cell_type": "code",
      "source": [
        "# Predicting on a single input\n",
        "#model.predict(test.iloc['Miley cyrus is new'])\n",
        "#model.test(testdf.txt)\n",
        "#use this later when we have the representations I guess. \n"
      ],
      "metadata": {
        "id": "XJE1lyAxy9wB"
      },
      "execution_count": null,
      "outputs": []
    },
    {
      "cell_type": "code",
      "source": [
        "# Once the model is trained, we can retrieve the list of words and labels\n",
        "\n",
        "# model.words \n",
        "model.labels\n",
        "#It returns all words in the vocabulary, sorted by decreasing frequency. "
      ],
      "metadata": {
        "colab": {
          "base_uri": "https://localhost:8080/"
        },
        "id": "Cpwz0En5TQAM",
        "outputId": "403116dd-4b80-40dd-cd90-5f4758fa6f9d"
      },
      "execution_count": 25,
      "outputs": [
        {
          "output_type": "execute_result",
          "data": {
            "text/plain": [
              "['__label__1', '__label__0']"
            ]
          },
          "metadata": {},
          "execution_count": 25
        }
      ]
    },
    {
      "cell_type": "code",
      "source": [
        "# To evaluate our model by computing the precision at 1 (P@1) and the recall on a test set, we use the test function:\n",
        "\n",
        "def print_results(N, p, r):\n",
        "    print(\"N\\t\" + str(N))\n",
        "    print(\"P@{}\\t{:.3f}\".format(1, p))\n",
        "    print(\"R@{}\\t{:.3f}\".format(1, r))\n",
        "\n",
        "print_results(*model.test('testdf.txt'))"
      ],
      "metadata": {
        "colab": {
          "base_uri": "https://localhost:8080/"
        },
        "id": "lIrKDza2aujM",
        "outputId": "b034c146-b181-49fb-8f26-899991171e3d"
      },
      "execution_count": 26,
      "outputs": [
        {
          "output_type": "stream",
          "name": "stdout",
          "text": [
            "N\t4428\n",
            "P@1\t1.000\n",
            "R@1\t1.000\n"
          ]
        }
      ]
    },
    {
      "cell_type": "code",
      "source": [
        "#We can also predict labels for a specific text. By default, predict returns only one label :\n",
        "# the one with the highest probability. You can also predict more than one label by specifying the parameter k:\n",
        "model.predict(\"katy perry and orlando bloom cozy up\", k=2)"
      ],
      "metadata": {
        "colab": {
          "base_uri": "https://localhost:8080/"
        },
        "id": "46d45je9bTf4",
        "outputId": "2da347e4-d37c-47af-82ce-4a762824a9ff"
      },
      "execution_count": 27,
      "outputs": [
        {
          "output_type": "execute_result",
          "data": {
            "text/plain": [
              "(('__label__1', '__label__0'), array([0.67086583, 0.32915416]))"
            ]
          },
          "metadata": {},
          "execution_count": 27
        }
      ]
    },
    {
      "cell_type": "code",
      "source": [
        "#traindf['title'] = \n",
        "model.get_word_vector(\"the\")"
      ],
      "metadata": {
        "colab": {
          "base_uri": "https://localhost:8080/"
        },
        "id": "NIayPxG_XW3N",
        "outputId": "b78bedfa-8c89-4f0b-f72b-bd6add4b0de6"
      },
      "execution_count": 28,
      "outputs": [
        {
          "output_type": "execute_result",
          "data": {
            "text/plain": [
              "array([ 3.63492989e-03,  4.25533652e-02, -3.98730822e-02, -3.82359475e-02,\n",
              "        2.25766879e-02,  2.71376539e-02, -2.04544291e-02,  3.24283668e-04,\n",
              "        3.97516824e-02,  5.82379065e-02, -9.29062348e-03,  5.05774096e-02,\n",
              "       -1.79257076e-02,  4.45502773e-02,  1.74699742e-02,  1.01548294e-02,\n",
              "       -2.11427622e-02, -9.41488054e-03,  3.43184844e-02, -4.37699072e-03,\n",
              "        4.07454632e-02,  5.17966561e-02,  1.02073736e-02, -1.41332941e-02,\n",
              "       -3.34797637e-03,  2.34971335e-03,  2.02158019e-02, -1.79247616e-03,\n",
              "       -4.54281233e-02,  2.25372594e-02,  7.55718863e-03,  1.57746114e-02,\n",
              "       -2.39454973e-02,  2.36597285e-02, -2.67151687e-02,  2.91361064e-02,\n",
              "        1.87356658e-02, -5.00144325e-02, -2.64299251e-02,  5.27520198e-03,\n",
              "        2.16428880e-02,  1.15506081e-02,  2.97212182e-03, -3.14723216e-02,\n",
              "       -7.49276194e-04, -2.60525737e-02,  1.49026075e-02, -8.24028812e-03,\n",
              "        6.34765252e-03,  2.70553157e-02, -4.17404808e-02,  1.19085610e-02,\n",
              "       -2.58501060e-02, -1.02395378e-02, -8.60205013e-03, -4.40746620e-02,\n",
              "       -7.81915151e-03, -3.72333382e-03,  2.01910920e-02,  6.14228612e-03,\n",
              "       -2.92569734e-02,  1.73686743e-02,  2.19763238e-02, -2.62143239e-02,\n",
              "       -4.07434069e-02,  1.06570506e-02, -1.23588275e-02, -2.85296957e-03,\n",
              "        1.33590680e-02, -2.31531635e-03, -7.17867957e-03,  1.69057027e-02,\n",
              "       -1.27645982e-02,  2.84083816e-03, -5.34864608e-03,  1.26570147e-02,\n",
              "        4.52765971e-02,  3.66189778e-02,  4.18395037e-03, -3.48558351e-02,\n",
              "       -2.06308737e-02,  3.50249037e-02,  4.75890301e-02, -1.27255078e-03,\n",
              "        4.60065491e-02, -2.82683242e-02,  2.25349814e-02,  2.39534546e-02,\n",
              "       -3.05944011e-02, -4.30071503e-02,  2.27324832e-02, -3.09856981e-02,\n",
              "        1.65283885e-02, -1.27544822e-02, -6.83767302e-03, -3.92705612e-02,\n",
              "        1.36438543e-02,  3.11882347e-02, -3.84287164e-03,  9.07623582e-03,\n",
              "       -1.39147956e-02,  1.90409422e-02,  2.27367505e-02, -1.76660772e-02,\n",
              "        4.53568138e-02,  4.54526991e-02, -5.24467602e-03, -2.44061965e-02,\n",
              "        2.46560518e-02,  9.01854876e-03, -1.53200086e-02, -3.71302031e-02,\n",
              "       -3.93643901e-02,  1.24136191e-02,  1.91040207e-02,  2.22926401e-03,\n",
              "        1.90838333e-02,  1.19367223e-02, -5.68244644e-02,  2.06578691e-02,\n",
              "        1.53669352e-02,  1.45007670e-02, -2.28664149e-02,  6.68500317e-03,\n",
              "       -6.94708014e-03,  2.49999039e-06,  1.96830882e-03,  2.19877586e-02,\n",
              "        2.09963359e-02,  5.87553391e-03,  1.04489531e-02, -2.12172028e-02,\n",
              "       -8.92883167e-03, -1.49102015e-02, -3.17256823e-02,  3.77612226e-02,\n",
              "       -4.22452204e-02,  2.85434108e-02,  2.03887857e-02,  1.35443527e-02,\n",
              "       -2.72239987e-02,  2.17075218e-02,  2.61078123e-02,  5.71939535e-02,\n",
              "        4.37327176e-02, -3.50908376e-02,  2.89129745e-02,  1.63242538e-02,\n",
              "       -4.23271395e-03, -1.07108401e-02, -1.24424715e-02,  1.05240708e-02,\n",
              "        1.36617282e-02,  2.44445018e-02, -3.46366316e-03,  3.10600698e-02,\n",
              "       -3.81896235e-02,  2.01669224e-02, -2.20096558e-02,  2.23128498e-02,\n",
              "        5.44809876e-03,  3.32217664e-03,  6.03834866e-04,  2.23455997e-03,\n",
              "        3.72820795e-02, -1.38068646e-02, -2.73308326e-02, -3.36142927e-02,\n",
              "       -3.09088416e-02, -1.18263131e-02, -3.79228555e-02,  1.18314812e-03,\n",
              "       -2.46369559e-02,  1.20283281e-02, -5.92733780e-03, -2.77337115e-02,\n",
              "       -3.43663618e-02, -3.39992382e-02,  2.24509779e-02,  4.93176747e-03,\n",
              "       -2.33223774e-02, -2.65488476e-02,  6.88454136e-03,  2.86930054e-02,\n",
              "       -9.66347661e-03,  2.66051888e-02,  1.41917262e-02, -3.49258701e-03,\n",
              "       -2.45017167e-02,  4.32776175e-02,  3.18891779e-02, -2.97165988e-03,\n",
              "        2.36680098e-02, -2.79727485e-03,  2.94572059e-02,  3.13980691e-02,\n",
              "       -3.34201343e-02, -2.05086768e-02, -2.60540694e-02, -4.68616858e-02,\n",
              "        4.71324995e-02, -1.41908852e-02,  3.17979530e-02, -2.19545364e-02,\n",
              "        3.30085829e-02, -1.28846252e-02, -5.91866150e-02, -3.17019112e-02,\n",
              "       -4.83252760e-03,  5.01924604e-02, -2.34225597e-02,  5.41974837e-03,\n",
              "       -3.19752395e-02, -6.69926265e-03, -4.31240574e-02,  2.99964380e-02,\n",
              "       -1.52320135e-02, -2.42390595e-02,  8.51558615e-03, -7.73176365e-03,\n",
              "       -2.23096069e-02, -1.64790768e-02,  4.99263825e-03, -2.02564746e-02,\n",
              "        1.21014453e-02,  1.02004902e-02,  2.57355366e-02, -6.92570135e-02,\n",
              "       -3.00849397e-02, -1.46022178e-02, -2.22212691e-02,  3.83121967e-02,\n",
              "       -1.92347206e-02,  1.24310199e-02, -1.22539802e-02, -6.05549430e-03,\n",
              "       -1.43198846e-02,  1.43362498e-02, -1.29615860e-02,  4.86847498e-02,\n",
              "       -5.25275879e-02, -8.62012245e-03, -7.67468847e-03,  7.63161713e-03,\n",
              "        3.43914032e-02, -8.69168155e-03,  1.98053736e-02, -6.85566012e-03,\n",
              "        8.65817070e-03,  4.24263217e-02, -2.87546106e-02, -1.63700674e-02,\n",
              "       -3.86650041e-02,  2.44163722e-02, -2.16574930e-02,  8.65659490e-03,\n",
              "        4.64785052e-03, -2.07614545e-02, -3.21817547e-02,  4.70481068e-03,\n",
              "       -1.01784123e-02,  4.36377106e-03,  3.94568443e-02,  5.15412306e-03,\n",
              "       -6.87593361e-03,  1.57107748e-02, -2.96667088e-02, -2.64189504e-02,\n",
              "       -3.81518342e-03, -6.10028300e-03,  1.07659139e-02,  2.46149469e-02,\n",
              "        4.29096743e-02, -4.29220162e-02, -2.67158933e-02,  1.99398282e-03,\n",
              "        3.59269753e-02, -2.03818940e-02, -7.23568629e-03, -2.22333195e-03,\n",
              "        3.80010232e-02,  7.99487904e-03,  2.39727739e-03,  9.65159852e-03,\n",
              "        1.44533692e-02, -1.42616583e-02, -3.27111706e-02,  3.99517268e-02,\n",
              "       -1.66015569e-02,  3.28852385e-02, -2.26439387e-02, -3.44985165e-02,\n",
              "        3.86451394e-03, -1.33379654e-03, -7.71414582e-03, -4.32072021e-03,\n",
              "       -2.46090870e-02,  1.76438447e-02, -3.46840061e-05, -5.74372848e-03],\n",
              "      dtype=float32)"
            ]
          },
          "metadata": {},
          "execution_count": 28
        }
      ]
    },
    {
      "cell_type": "code",
      "source": [
        "model.get_sentence_vector(\"simon cowell rushed to hospital\")"
      ],
      "metadata": {
        "colab": {
          "base_uri": "https://localhost:8080/"
        },
        "id": "ieRTxztPYT7L",
        "outputId": "ccd6ea90-8395-4053-e02b-b9ce8c6f8760"
      },
      "execution_count": 29,
      "outputs": [
        {
          "output_type": "execute_result",
          "data": {
            "text/plain": [
              "array([-2.0828411e-05,  5.4449625e-03, -5.4275612e-03, -3.9652106e-03,\n",
              "        3.3909334e-03,  3.5494212e-03, -3.2821349e-03,  4.9510179e-04,\n",
              "        5.4604923e-03,  7.9394914e-03, -1.1704124e-03,  5.9545189e-03,\n",
              "       -1.5568185e-03,  6.3504665e-03,  2.4874166e-03,  1.7113602e-03,\n",
              "       -2.3464574e-03, -3.6827984e-04,  4.4790213e-03, -9.0026343e-04,\n",
              "        5.0095599e-03,  6.4060730e-03,  6.8410783e-04, -1.2589074e-03,\n",
              "       -2.2507658e-04, -1.7090159e-04,  1.7470310e-03, -8.0549333e-05,\n",
              "       -6.0802260e-03,  3.0135456e-03,  1.2908336e-03,  2.3154598e-03,\n",
              "       -3.2759293e-03,  2.4565023e-03, -3.9448878e-03,  2.7611430e-03,\n",
              "        1.9411294e-03, -7.0049651e-03, -2.8077886e-03,  7.0554588e-04,\n",
              "        3.5394451e-03,  1.3703725e-03,  5.4959860e-04, -3.7206437e-03,\n",
              "       -2.4191073e-04, -3.3507317e-03,  1.9954948e-03,  9.1113172e-05,\n",
              "        4.2991224e-04,  3.6727984e-03, -5.8367536e-03,  1.5816852e-03,\n",
              "       -2.9917620e-03, -1.2930275e-03, -8.9254969e-04, -5.0667194e-03,\n",
              "       -1.4811340e-03, -2.5028441e-04,  2.6957910e-03,  1.0782798e-03,\n",
              "       -3.5741960e-03,  1.3558684e-03,  3.7449112e-03, -2.8354740e-03,\n",
              "       -5.1117628e-03,  9.3908544e-04, -9.4726193e-04, -4.5383058e-04,\n",
              "        1.5254695e-03, -8.7062339e-04, -6.9489301e-04,  1.8900274e-03,\n",
              "       -1.9169243e-03,  5.9411983e-04, -6.5727311e-04,  1.2696715e-03,\n",
              "        5.6981901e-03,  5.2876906e-03,  1.1824925e-03, -4.4470630e-03,\n",
              "       -2.5037385e-03,  5.0616921e-03,  6.1848946e-03, -1.3439732e-05,\n",
              "        5.7511549e-03, -3.3517112e-03,  2.2891674e-03,  2.3957198e-03,\n",
              "       -3.7862509e-03, -5.9101642e-03,  2.6324480e-03, -3.0181250e-03,\n",
              "        2.8347482e-03, -2.1380635e-03, -9.1677735e-05, -4.4061029e-03,\n",
              "        1.7027768e-03,  4.2143106e-03, -8.0453116e-04,  1.6493395e-03,\n",
              "       -1.6162209e-03,  2.3321370e-03,  3.4024988e-03, -2.5603219e-03,\n",
              "        5.9282817e-03,  5.5551175e-03, -9.0890040e-04, -2.8185963e-03,\n",
              "        2.8902255e-03,  1.0252468e-03, -1.4742879e-03, -4.2920494e-03,\n",
              "       -5.0733499e-03,  1.2610916e-03,  2.1380766e-03,  1.1782764e-04,\n",
              "        2.6235839e-03,  9.3964988e-04, -7.9734465e-03,  2.9705730e-03,\n",
              "        1.8813058e-03,  2.4281796e-03, -2.7856953e-03,  1.6073486e-03,\n",
              "       -5.0090376e-04,  4.3555116e-04,  2.8918916e-04,  3.1389212e-03,\n",
              "        2.4989613e-03,  5.1516155e-04,  1.6970286e-03, -2.5908174e-03,\n",
              "       -1.1917893e-03, -2.0907805e-03, -4.3245973e-03,  4.7276150e-03,\n",
              "       -5.7021151e-03,  3.6502210e-03,  2.1699511e-03,  1.4947752e-03,\n",
              "       -3.7627215e-03,  2.7545211e-03,  2.8931890e-03,  7.9432772e-03,\n",
              "        5.6312657e-03, -4.2812950e-03,  3.9396738e-03,  1.4293108e-03,\n",
              "       -9.6467603e-04, -1.8148033e-03, -5.9777737e-04,  1.3664694e-03,\n",
              "        2.1672547e-03,  2.5216534e-03, -6.0545997e-04,  4.4793454e-03,\n",
              "       -4.6151546e-03,  2.7375561e-03, -3.4669323e-03,  2.4317876e-03,\n",
              "        1.2267345e-03,  1.5083421e-03,  1.0463103e-04,  1.3032753e-03,\n",
              "        5.2516405e-03, -1.6454874e-03, -3.4461273e-03, -4.7081737e-03,\n",
              "       -3.2210518e-03, -1.3200641e-03, -4.4935220e-03,  5.0362502e-04,\n",
              "       -2.6707822e-03,  1.4922749e-03, -9.2980609e-04, -3.5680223e-03,\n",
              "       -3.9589386e-03, -4.0740380e-03,  3.1589193e-03,  7.0842245e-04,\n",
              "       -3.2462908e-03, -3.5550005e-03,  8.7558190e-05,  3.2767877e-03,\n",
              "       -1.3467325e-03,  3.0669663e-03,  1.5728622e-03, -1.3663280e-03,\n",
              "       -3.1886983e-03,  5.9983339e-03,  3.9556464e-03, -6.1590436e-05,\n",
              "        3.2768135e-03,  2.4221928e-04,  4.4999868e-03,  4.2356583e-03,\n",
              "       -4.3544634e-03, -2.4972630e-03, -3.2461537e-03, -6.1746445e-03,\n",
              "        5.9053502e-03, -1.5550911e-03,  3.8315449e-03, -2.4985906e-03,\n",
              "        3.3346224e-03, -1.6549242e-03, -7.5411811e-03, -3.9749327e-03,\n",
              "       -3.6651101e-05,  6.3018599e-03, -3.0572291e-03,  8.4762479e-04,\n",
              "       -3.4184789e-03, -1.9550035e-03, -6.1175167e-03,  4.6535982e-03,\n",
              "       -1.2283610e-03, -3.0194509e-03,  6.0969975e-04, -5.7461218e-04,\n",
              "       -1.8774653e-03, -1.5817489e-03,  2.0571145e-04, -2.0715543e-03,\n",
              "        1.0484690e-03,  1.9193457e-03,  2.7692469e-03, -9.3235038e-03,\n",
              "       -4.6672882e-03, -1.8227272e-03, -3.2039664e-03,  4.0672170e-03,\n",
              "       -2.7629130e-03,  1.7647810e-03, -2.1888709e-03, -1.2984462e-03,\n",
              "       -1.9020028e-03,  2.3526244e-03, -8.0235460e-04,  6.0810968e-03,\n",
              "       -5.6974567e-03, -2.7997710e-04, -1.2957287e-03,  1.0723623e-03,\n",
              "        4.4788048e-03, -1.3322588e-03,  3.4902426e-03, -8.7037002e-04,\n",
              "        1.5457704e-03,  4.5459145e-03, -3.6924023e-03, -2.5299790e-03,\n",
              "       -4.7320873e-03,  2.2205322e-03, -2.6954673e-03,  9.8462398e-05,\n",
              "        1.1002701e-03, -2.7204638e-03, -4.4117928e-03,  1.6800358e-04,\n",
              "       -1.3814452e-03,  9.0332341e-04,  4.9677454e-03,  2.1878679e-04,\n",
              "       -9.6142467e-04,  2.0198307e-03, -4.2683822e-03, -2.8220222e-03,\n",
              "       -3.5584279e-04, -8.8127307e-04,  1.3030535e-03,  3.6010144e-03,\n",
              "        5.4537752e-03, -6.1443360e-03, -3.7247702e-03,  4.7472797e-04,\n",
              "        4.2714863e-03, -2.6503205e-03, -6.0126476e-04, -3.3062580e-04,\n",
              "        5.6714131e-03,  1.1613757e-03, -1.9616875e-04,  1.6742497e-03,\n",
              "        1.8093995e-03, -2.3821036e-03, -4.5767026e-03,  5.1902356e-03,\n",
              "       -1.8345612e-03,  4.1553900e-03, -2.3071112e-03, -3.9912979e-03,\n",
              "        6.4894103e-04, -3.9141689e-04, -4.4084224e-04, -8.2302187e-04,\n",
              "       -3.0621968e-03,  2.5829028e-03, -3.9749328e-04, -3.4151174e-04],\n",
              "      dtype=float32)"
            ]
          },
          "metadata": {},
          "execution_count": 29
        }
      ]
    },
    {
      "cell_type": "code",
      "source": [
        "model.get_nearest_neighbors('green') #https://fasttext.cc/docs/en/unsupervised-tutorial.html"
      ],
      "metadata": {
        "colab": {
          "base_uri": "https://localhost:8080/"
        },
        "id": "4Pn7dhscaAng",
        "outputId": "7a89da37-66b2-4e87-e4f6-ad9dfb226596"
      },
      "execution_count": 30,
      "outputs": [
        {
          "output_type": "execute_result",
          "data": {
            "text/plain": [
              "[(0.35302436351776123, 'demi'),\n",
              " (0.34610652923583984, 'mom'),\n",
              " (0.33271485567092896, 'stars'),\n",
              " (0.3299618065357208, 'red'),\n",
              " (0.3291133642196655, 'netflix'),\n",
              " (0.32498109340667725, 'you'),\n",
              " (0.31989428400993347, 'mtv'),\n",
              " (0.31866654753685, 'bell'),\n",
              " (0.3186097741127014, 'brie'),\n",
              " (0.3179978132247925, 'see')]"
            ]
          },
          "metadata": {},
          "execution_count": 30
        }
      ]
    },
    {
      "cell_type": "markdown",
      "source": [
        "Will be attempting vectors here."
      ],
      "metadata": {
        "id": "KiNRzdelTQqa"
      }
    },
    {
      "cell_type": "code",
      "source": [
        "!pip install sister\n",
        "import sister\n"
      ],
      "metadata": {
        "colab": {
          "base_uri": "https://localhost:8080/"
        },
        "id": "2uEAw5jc9qsV",
        "outputId": "74d6627d-e064-472a-b68f-46f53f7d021d"
      },
      "execution_count": 31,
      "outputs": [
        {
          "output_type": "stream",
          "name": "stdout",
          "text": [
            "Requirement already satisfied: sister in /usr/local/lib/python3.7/dist-packages (0.1.10)\n",
            "Requirement already satisfied: numpy in /usr/local/lib/python3.7/dist-packages (from sister) (1.19.5)\n",
            "Requirement already satisfied: joblib in /usr/local/lib/python3.7/dist-packages (from sister) (1.1.0)\n",
            "Requirement already satisfied: gensim in /usr/local/lib/python3.7/dist-packages (from sister) (3.6.0)\n",
            "Requirement already satisfied: fasttext in /usr/local/lib/python3.7/dist-packages (from sister) (0.9.2)\n",
            "Requirement already satisfied: Janome in /usr/local/lib/python3.7/dist-packages (from sister) (0.4.1)\n",
            "Requirement already satisfied: setuptools>=0.7.0 in /usr/local/lib/python3.7/dist-packages (from fasttext->sister) (57.4.0)\n",
            "Requirement already satisfied: pybind11>=2.2 in /usr/local/lib/python3.7/dist-packages (from fasttext->sister) (2.9.0)\n",
            "Requirement already satisfied: smart-open>=1.2.1 in /usr/local/lib/python3.7/dist-packages (from gensim->sister) (5.2.1)\n",
            "Requirement already satisfied: scipy>=0.18.1 in /usr/local/lib/python3.7/dist-packages (from gensim->sister) (1.4.1)\n",
            "Requirement already satisfied: six>=1.5.0 in /usr/local/lib/python3.7/dist-packages (from gensim->sister) (1.15.0)\n"
          ]
        }
      ]
    },
    {
      "cell_type": "code",
      "source": [
        "embedder = sister.MeanEmbedding(lang=\"en\")\n",
        "\n",
        "sentence = \"I am a dog.\"\n",
        "vector = embedder(sentence)  # 300-dim vector\n"
      ],
      "metadata": {
        "colab": {
          "base_uri": "https://localhost:8080/"
        },
        "id": "wqyHOjsLzdCK",
        "outputId": "ee550bb4-820d-4ada-f7dd-23dcc911e1bf"
      },
      "execution_count": 32,
      "outputs": [
        {
          "output_type": "stream",
          "name": "stdout",
          "text": [
            "Loading model...\n"
          ]
        },
        {
          "output_type": "stream",
          "name": "stderr",
          "text": [
            "Warning : `load_model` does not return WordVectorModel or SupervisedModel any more, but a `FastText` object which is very similar.\n"
          ]
        }
      ]
    },
    {
      "cell_type": "code",
      "source": [
        "print(vector)"
      ],
      "metadata": {
        "colab": {
          "base_uri": "https://localhost:8080/"
        },
        "id": "iIAmMKeM0rxn",
        "outputId": "31c1ae9b-7c44-4869-cba9-9e34289a314c"
      },
      "execution_count": 33,
      "outputs": [
        {
          "output_type": "stream",
          "name": "stdout",
          "text": [
            "[ 1.45553529e-01  2.93777343e-02  7.25906417e-02 -3.32199186e-01\n",
            "  1.16119541e-01  3.68818134e-01 -1.01360753e-01  6.13834858e-02\n",
            "  9.52781364e-02  7.21023753e-02  2.20229030e-02 -1.12615541e-01\n",
            "  5.77215105e-04  1.48535818e-01 -5.01247048e-02 -2.63762064e-02\n",
            " -1.00038767e-01  2.95178946e-02 -4.22474258e-02  6.19036630e-02\n",
            "  8.73639509e-02  6.23530126e-04 -1.02920629e-01 -5.05673476e-02\n",
            " -2.43382186e-01 -5.01833446e-02  3.40687782e-02 -1.88491017e-01\n",
            "  2.04292275e-02  1.45984618e-02  5.52195907e-02  8.40069652e-02\n",
            " -2.68052034e-02  1.21745087e-01 -1.02101944e-01  1.85941588e-02\n",
            " -7.98325688e-02 -2.78020445e-02 -2.32372917e-02  8.07202831e-02\n",
            "  9.49704796e-02 -1.15997776e-01 -5.40836044e-02 -8.32328051e-02\n",
            "  2.55872514e-02  1.02682985e-01 -1.13008637e-02 -7.92161524e-02\n",
            "  5.31888008e-03 -5.63134067e-02  1.35553302e-02  2.82942466e-02\n",
            " -1.43566862e-01 -5.00163734e-02 -3.94095294e-02  7.77156502e-02\n",
            "  9.01533887e-02  8.26578513e-02  1.37465566e-01  1.76570296e-01\n",
            " -1.79537944e-02  2.28038639e-01 -6.07401319e-02 -7.05500469e-02\n",
            " -2.12720558e-01  5.20118698e-02 -1.15629360e-01 -1.26492783e-01\n",
            "  3.07000913e-02  1.93098243e-02  1.67311784e-02  6.37550792e-03\n",
            " -9.63248834e-02 -5.48976734e-02  1.83836874e-02 -1.66284993e-01\n",
            " -6.41416684e-02  2.83878539e-02  1.93064541e-01  2.80399863e-02\n",
            " -2.77964287e-02 -9.27423909e-02 -1.11511713e-02 -8.40345100e-02\n",
            " -2.99886055e-02  8.04750845e-02 -5.75744398e-02 -6.78744912e-02\n",
            " -4.05833423e-02 -1.42276198e-01 -9.57948714e-02  5.44480160e-02\n",
            "  1.06211277e-02 -1.08315848e-01  9.23000276e-02  8.17737430e-02\n",
            " -1.98102921e-01  1.94050476e-01  1.34500444e-01 -1.80599205e-02\n",
            " -4.78391461e-02 -3.80860046e-02 -1.23251472e-02  1.31780431e-01\n",
            " -1.54260337e-01  1.92727491e-01  8.51898789e-02 -8.53108317e-02\n",
            "  6.62606210e-02 -7.89892450e-02 -1.43160135e-01  1.49455950e-01\n",
            " -3.44200060e-02 -1.25092879e-01 -5.27557433e-02 -7.76426494e-03\n",
            " -1.63453929e-02  9.69999209e-02 -1.15842141e-01  7.99153671e-02\n",
            " -3.80743518e-02 -4.55522873e-02  3.91262174e-02 -1.66294705e-02\n",
            " -2.27142781e-01 -2.98638523e-01 -1.55383591e-02  5.43034673e-02\n",
            " -1.11477569e-01 -1.99442618e-02 -1.92663018e-02 -8.38244110e-02\n",
            " -8.71911794e-02 -5.27531020e-02  4.74176779e-02 -5.28885350e-02\n",
            " -6.76627755e-02 -1.07061602e-01 -1.03866145e-01 -2.09662896e-02\n",
            " -1.32990871e-02  7.55855888e-02  1.53063014e-01  1.96338296e-02\n",
            "  8.54672045e-02 -1.80356607e-01 -3.49539071e-02  1.15271606e-01\n",
            " -3.64214485e-03 -2.49556869e-01  1.65275365e-01 -8.79770294e-02\n",
            "  2.11127102e-03 -1.32009119e-01  9.03541073e-02  8.41734931e-02\n",
            " -2.05868632e-01  1.51276156e-01  2.07247928e-01  1.38449982e-01\n",
            " -8.32360797e-03 -1.30990520e-05  1.43462811e-02 -2.73039285e-02\n",
            "  2.13690288e-02 -1.24274813e-01  8.11799914e-02 -8.38454962e-02\n",
            "  3.97055149e-02 -7.59528205e-02  5.39662838e-02  1.64848380e-02\n",
            "  1.29425973e-01  9.91432741e-02 -6.31780773e-02 -1.38819963e-01\n",
            "  1.01312719e-01  5.66064119e-02 -4.37893579e-03 -1.16688512e-01\n",
            " -1.65942788e-01  4.56753979e-03  1.33364024e-02  1.91261575e-01\n",
            "  5.43521419e-02 -2.91904844e-02 -2.30405834e-02  2.67259665e-02\n",
            " -4.65015844e-02 -7.85060748e-02  3.09222676e-02  4.54221703e-02\n",
            "  1.53932616e-01  2.59197801e-02  5.05326986e-02 -5.90862148e-02\n",
            " -3.55218142e-01 -2.70880107e-02 -4.52477671e-02 -2.58199088e-02\n",
            "  1.85657710e-01  9.53781456e-02  1.25852466e-01 -1.31656781e-01\n",
            "  1.71350345e-01 -1.68822616e-01  4.95102294e-02 -6.85508698e-02\n",
            " -3.29093710e-02 -2.19106629e-01 -1.12797841e-01 -4.50800499e-03\n",
            " -6.76535591e-02  4.73161861e-02 -1.78326920e-01  5.10048941e-02\n",
            "  8.22065622e-02 -8.07719752e-02 -3.34253348e-02  1.39372319e-01\n",
            "  1.66859962e-02  1.18211269e-01 -4.68984358e-02  1.42187804e-01\n",
            " -5.64147830e-02 -8.85924771e-02 -4.78066280e-02 -4.34097368e-03\n",
            " -1.44283473e-01  1.99484937e-02  3.25328782e-02  2.27824688e-01\n",
            " -3.85709032e-02 -5.48869260e-02 -1.34756893e-01 -1.00159883e-01\n",
            " -5.41822203e-02 -1.37351707e-01 -7.33464509e-02  5.05712330e-02\n",
            "  1.72279865e-01  3.48188505e-02 -3.49962488e-02  1.78386778e-01\n",
            "  9.80559438e-02 -6.93026334e-02 -1.49644002e-01 -1.52305618e-01\n",
            "  1.03963926e-01  4.39855680e-02 -1.24187492e-01  2.52262980e-01\n",
            " -7.20567033e-02 -6.50204271e-02  1.29391968e-01 -9.59812179e-02\n",
            " -1.99138924e-01  9.75269899e-02 -6.95095211e-02  1.76281512e-01\n",
            "  4.09444235e-02  1.02537081e-01  7.63447732e-02  1.67745858e-01\n",
            "  2.32217647e-02  3.63696329e-02  5.04144654e-02 -1.51624873e-01\n",
            " -1.97898652e-02 -1.36228263e-01  1.27794389e-02  2.48482674e-02\n",
            "  1.69609450e-02  7.65656605e-02 -3.88548449e-02 -9.62698087e-02\n",
            " -4.33719164e-04 -1.45810038e-01  2.74132099e-02  5.92287481e-02\n",
            " -5.75245805e-02  3.39808175e-03 -6.46366030e-02 -8.29472691e-02\n",
            "  2.65729185e-02  1.66422009e-01  2.43644603e-02  2.63292581e-01\n",
            " -2.33975381e-01 -1.55139174e-02  2.05418430e-02 -3.12288404e-01\n",
            " -5.91345727e-02  2.08599269e-02  1.84188053e-01 -9.12561640e-03\n",
            " -9.70555395e-02 -2.60652632e-01 -1.94144294e-01 -1.58489496e-01]\n"
          ]
        }
      ]
    },
    {
      "cell_type": "code",
      "source": [
        "dfready = dforiginal.drop(['tweet_ids', 'news_url','id'], axis=1)\n",
        "\n",
        "from string import punctuation\n",
        "from nltk.corpus import stopwords\n",
        "\n",
        "\n"
      ],
      "metadata": {
        "id": "6bFi8_6PCCfD"
      },
      "execution_count": 34,
      "outputs": []
    },
    {
      "cell_type": "code",
      "source": [
        "def preprocess(data):\n",
        "    \"\"\"\n",
        "    Preprocess data, filtering out stopwords, punctuation and lowering \n",
        "    all splitted tokens.\n",
        "    \n",
        "    :param data: the string data to be processed\n",
        "    \"\"\"    \n",
        "    # Pad punctuation with spaces on both sides\n",
        "    for char in ['.', '\"', ',', '(', ')', '!', '?', ';', ':']:\n",
        "        data = data.replace(char, ' ' + char + ' ')\n",
        "    sw = stopwords.words('english')\n",
        "    splitted_chunks = data.split()\n",
        "    lowered_chunks = (item.lower() for item in splitted_chunks)\n",
        "    chunks_without_punctuation = (chunk for chunk in lowered_chunks if chunk not in punctuation)\n",
        "    chunks_without_stopwords = (chunk for chunk in chunks_without_punctuation if chunk not in sw)\n",
        "    return \" \".join(list(chunks_without_stopwords))\n"
      ],
      "metadata": {
        "id": "M8Xnx7ZQESe1"
      },
      "execution_count": 35,
      "outputs": []
    },
    {
      "cell_type": "code",
      "source": [
        "import pandas as pd\n",
        "def write_data(filename, data):\n",
        "    \"\"\"\n",
        "    Write result to a file.\n",
        "    \n",
        "    :param result: the list to be written to the file\n",
        "    \"\"\"\n",
        "    with open(filename, \"a\") as output:\n",
        "        output.write('{}\\n'.format(data))\n",
        "\n",
        "def create_vectors(title):\n",
        "  embedder = sister.MeanEmbedding(lang=\"en\")\n",
        "  sentence = title\n",
        "  vector = embedder(sentence)  # 300-dim vector\n",
        "  return vector\n",
        "\n",
        "# executing the function\n",
        "dfready['title'] = dfready['title'].apply(preprocess)\n",
        "\n",
        "# executing the function\n",
        "dfready['title'] = dfready['title'].apply(create_vectors)\n",
        "\n",
        "dfready.preprocess()\n",
        "dfready.create_vectors()"
      ],
      "metadata": {
        "colab": {
          "base_uri": "https://localhost:8080/"
        },
        "id": "zE4tX7iuEQEG",
        "outputId": "eee4cc23-7f10-42d7-dccd-8c5e89c6418d"
      },
      "execution_count": null,
      "outputs": [
        {
          "output_type": "stream",
          "name": "stdout",
          "text": [
            "Loading model...\n",
            "Loading model...\n"
          ]
        },
        {
          "output_type": "stream",
          "name": "stderr",
          "text": [
            "Warning : `load_model` does not return WordVectorModel or SupervisedModel any more, but a `FastText` object which is very similar.\n",
            "Warning : `load_model` does not return WordVectorModel or SupervisedModel any more, but a `FastText` object which is very similar.\n"
          ]
        },
        {
          "output_type": "stream",
          "name": "stdout",
          "text": [
            "Loading model...\n"
          ]
        },
        {
          "output_type": "stream",
          "name": "stderr",
          "text": [
            "Warning : `load_model` does not return WordVectorModel or SupervisedModel any more, but a `FastText` object which is very similar.\n"
          ]
        },
        {
          "output_type": "stream",
          "name": "stdout",
          "text": [
            "Loading model...\n"
          ]
        },
        {
          "output_type": "stream",
          "name": "stderr",
          "text": [
            "Warning : `load_model` does not return WordVectorModel or SupervisedModel any more, but a `FastText` object which is very similar.\n"
          ]
        },
        {
          "output_type": "stream",
          "name": "stdout",
          "text": [
            "Loading model...\n"
          ]
        },
        {
          "output_type": "stream",
          "name": "stderr",
          "text": [
            "Warning : `load_model` does not return WordVectorModel or SupervisedModel any more, but a `FastText` object which is very similar.\n"
          ]
        },
        {
          "output_type": "stream",
          "name": "stdout",
          "text": [
            "Loading model...\n"
          ]
        },
        {
          "output_type": "stream",
          "name": "stderr",
          "text": [
            "Warning : `load_model` does not return WordVectorModel or SupervisedModel any more, but a `FastText` object which is very similar.\n"
          ]
        },
        {
          "output_type": "stream",
          "name": "stdout",
          "text": [
            "Loading model...\n",
            "Loading model...\n"
          ]
        },
        {
          "output_type": "stream",
          "name": "stderr",
          "text": [
            "Warning : `load_model` does not return WordVectorModel or SupervisedModel any more, but a `FastText` object which is very similar.\n",
            "Warning : `load_model` does not return WordVectorModel or SupervisedModel any more, but a `FastText` object which is very similar.\n"
          ]
        },
        {
          "output_type": "stream",
          "name": "stdout",
          "text": [
            "Loading model...\n",
            "Loading model...\n"
          ]
        },
        {
          "output_type": "stream",
          "name": "stderr",
          "text": [
            "Warning : `load_model` does not return WordVectorModel or SupervisedModel any more, but a `FastText` object which is very similar.\n",
            "Warning : `load_model` does not return WordVectorModel or SupervisedModel any more, but a `FastText` object which is very similar.\n"
          ]
        },
        {
          "output_type": "stream",
          "name": "stdout",
          "text": [
            "Loading model...\n",
            "Loading model...\n"
          ]
        },
        {
          "output_type": "stream",
          "name": "stderr",
          "text": [
            "Warning : `load_model` does not return WordVectorModel or SupervisedModel any more, but a `FastText` object which is very similar.\n",
            "Warning : `load_model` does not return WordVectorModel or SupervisedModel any more, but a `FastText` object which is very similar.\n"
          ]
        },
        {
          "output_type": "stream",
          "name": "stdout",
          "text": [
            "Loading model...\n",
            "Loading model...\n"
          ]
        },
        {
          "output_type": "stream",
          "name": "stderr",
          "text": [
            "Warning : `load_model` does not return WordVectorModel or SupervisedModel any more, but a `FastText` object which is very similar.\n",
            "Warning : `load_model` does not return WordVectorModel or SupervisedModel any more, but a `FastText` object which is very similar.\n"
          ]
        },
        {
          "output_type": "stream",
          "name": "stdout",
          "text": [
            "Loading model...\n",
            "Loading model...\n"
          ]
        },
        {
          "output_type": "stream",
          "name": "stderr",
          "text": [
            "Warning : `load_model` does not return WordVectorModel or SupervisedModel any more, but a `FastText` object which is very similar.\n",
            "Warning : `load_model` does not return WordVectorModel or SupervisedModel any more, but a `FastText` object which is very similar.\n"
          ]
        },
        {
          "output_type": "stream",
          "name": "stdout",
          "text": [
            "Loading model...\n",
            "Loading model...\n"
          ]
        },
        {
          "output_type": "stream",
          "name": "stderr",
          "text": [
            "Warning : `load_model` does not return WordVectorModel or SupervisedModel any more, but a `FastText` object which is very similar.\n",
            "Warning : `load_model` does not return WordVectorModel or SupervisedModel any more, but a `FastText` object which is very similar.\n"
          ]
        },
        {
          "output_type": "stream",
          "name": "stdout",
          "text": [
            "Loading model...\n",
            "Loading model...\n"
          ]
        },
        {
          "output_type": "stream",
          "name": "stderr",
          "text": [
            "Warning : `load_model` does not return WordVectorModel or SupervisedModel any more, but a `FastText` object which is very similar.\n",
            "Warning : `load_model` does not return WordVectorModel or SupervisedModel any more, but a `FastText` object which is very similar.\n"
          ]
        },
        {
          "output_type": "stream",
          "name": "stdout",
          "text": [
            "Loading model...\n",
            "Loading model...\n"
          ]
        },
        {
          "output_type": "stream",
          "name": "stderr",
          "text": [
            "Warning : `load_model` does not return WordVectorModel or SupervisedModel any more, but a `FastText` object which is very similar.\n",
            "Warning : `load_model` does not return WordVectorModel or SupervisedModel any more, but a `FastText` object which is very similar.\n"
          ]
        },
        {
          "output_type": "stream",
          "name": "stdout",
          "text": [
            "Loading model...\n",
            "Loading model...\n"
          ]
        },
        {
          "output_type": "stream",
          "name": "stderr",
          "text": [
            "Warning : `load_model` does not return WordVectorModel or SupervisedModel any more, but a `FastText` object which is very similar.\n",
            "Warning : `load_model` does not return WordVectorModel or SupervisedModel any more, but a `FastText` object which is very similar.\n"
          ]
        },
        {
          "output_type": "stream",
          "name": "stdout",
          "text": [
            "Loading model...\n",
            "Loading model...\n"
          ]
        },
        {
          "output_type": "stream",
          "name": "stderr",
          "text": [
            "Warning : `load_model` does not return WordVectorModel or SupervisedModel any more, but a `FastText` object which is very similar.\n",
            "Warning : `load_model` does not return WordVectorModel or SupervisedModel any more, but a `FastText` object which is very similar.\n"
          ]
        },
        {
          "output_type": "stream",
          "name": "stdout",
          "text": [
            "Loading model...\n"
          ]
        },
        {
          "output_type": "stream",
          "name": "stderr",
          "text": [
            "Warning : `load_model` does not return WordVectorModel or SupervisedModel any more, but a `FastText` object which is very similar.\n"
          ]
        },
        {
          "output_type": "stream",
          "name": "stdout",
          "text": [
            "Loading model...\n"
          ]
        },
        {
          "output_type": "stream",
          "name": "stderr",
          "text": [
            "Warning : `load_model` does not return WordVectorModel or SupervisedModel any more, but a `FastText` object which is very similar.\n"
          ]
        },
        {
          "output_type": "stream",
          "name": "stdout",
          "text": [
            "Loading model...\n"
          ]
        },
        {
          "output_type": "stream",
          "name": "stderr",
          "text": [
            "Warning : `load_model` does not return WordVectorModel or SupervisedModel any more, but a `FastText` object which is very similar.\n"
          ]
        },
        {
          "output_type": "stream",
          "name": "stdout",
          "text": [
            "Loading model...\n"
          ]
        },
        {
          "output_type": "stream",
          "name": "stderr",
          "text": [
            "Warning : `load_model` does not return WordVectorModel or SupervisedModel any more, but a `FastText` object which is very similar.\n"
          ]
        },
        {
          "output_type": "stream",
          "name": "stdout",
          "text": [
            "Loading model...\n"
          ]
        },
        {
          "output_type": "stream",
          "name": "stderr",
          "text": [
            "Warning : `load_model` does not return WordVectorModel or SupervisedModel any more, but a `FastText` object which is very similar.\n"
          ]
        },
        {
          "output_type": "stream",
          "name": "stdout",
          "text": [
            "Loading model...\n",
            "Loading model...\n"
          ]
        },
        {
          "output_type": "stream",
          "name": "stderr",
          "text": [
            "Warning : `load_model` does not return WordVectorModel or SupervisedModel any more, but a `FastText` object which is very similar.\n",
            "Warning : `load_model` does not return WordVectorModel or SupervisedModel any more, but a `FastText` object which is very similar.\n"
          ]
        },
        {
          "output_type": "stream",
          "name": "stdout",
          "text": [
            "Loading model...\n",
            "Loading model...\n"
          ]
        },
        {
          "output_type": "stream",
          "name": "stderr",
          "text": [
            "Warning : `load_model` does not return WordVectorModel or SupervisedModel any more, but a `FastText` object which is very similar.\n",
            "Warning : `load_model` does not return WordVectorModel or SupervisedModel any more, but a `FastText` object which is very similar.\n"
          ]
        },
        {
          "output_type": "stream",
          "name": "stdout",
          "text": [
            "Loading model...\n",
            "Loading model...\n"
          ]
        },
        {
          "output_type": "stream",
          "name": "stderr",
          "text": [
            "Warning : `load_model` does not return WordVectorModel or SupervisedModel any more, but a `FastText` object which is very similar.\n",
            "Warning : `load_model` does not return WordVectorModel or SupervisedModel any more, but a `FastText` object which is very similar.\n"
          ]
        },
        {
          "output_type": "stream",
          "name": "stdout",
          "text": [
            "Loading model...\n",
            "Loading model...\n"
          ]
        },
        {
          "output_type": "stream",
          "name": "stderr",
          "text": [
            "Warning : `load_model` does not return WordVectorModel or SupervisedModel any more, but a `FastText` object which is very similar.\n",
            "Warning : `load_model` does not return WordVectorModel or SupervisedModel any more, but a `FastText` object which is very similar.\n"
          ]
        },
        {
          "output_type": "stream",
          "name": "stdout",
          "text": [
            "Loading model...\n"
          ]
        },
        {
          "output_type": "stream",
          "name": "stderr",
          "text": [
            "Warning : `load_model` does not return WordVectorModel or SupervisedModel any more, but a `FastText` object which is very similar.\n"
          ]
        },
        {
          "output_type": "stream",
          "name": "stdout",
          "text": [
            "Loading model...\n"
          ]
        },
        {
          "output_type": "stream",
          "name": "stderr",
          "text": [
            "Warning : `load_model` does not return WordVectorModel or SupervisedModel any more, but a `FastText` object which is very similar.\n"
          ]
        }
      ]
    },
    {
      "cell_type": "code",
      "source": [
        "dfready.head()"
      ],
      "metadata": {
        "colab": {
          "base_uri": "https://localhost:8080/",
          "height": 165
        },
        "id": "AEQtvXaRNbqj",
        "outputId": "024246d0-b4c6-4a99-8e70-5d61305dc8d2"
      },
      "execution_count": 3,
      "outputs": [
        {
          "output_type": "error",
          "ename": "NameError",
          "evalue": "ignored",
          "traceback": [
            "\u001b[0;31m---------------------------------------------------------------------------\u001b[0m",
            "\u001b[0;31mNameError\u001b[0m                                 Traceback (most recent call last)",
            "\u001b[0;32m<ipython-input-3-18e5a0e3ab37>\u001b[0m in \u001b[0;36m<module>\u001b[0;34m()\u001b[0m\n\u001b[0;32m----> 1\u001b[0;31m \u001b[0mdfready\u001b[0m\u001b[0;34m\u001b[0m\u001b[0;34m\u001b[0m\u001b[0m\n\u001b[0m",
            "\u001b[0;31mNameError\u001b[0m: name 'dfready' is not defined"
          ]
        }
      ]
    },
    {
      "cell_type": "code",
      "source": [
        "import xgboost as xgb\n",
        "#TASK #2: Create an XGBoost classifier that will work for the vectors that you have (size 300), and train it....\n",
        "\n",
        "# Instantiate the XGBClassifier: xg_cl\n",
        "xg_cl = xgb.XGBClassifier(objective='binary:logistic', n_estimators=10, seed=123)\n",
        "\n",
        "# Fit the classifier to the training set\n",
        "xg_cl.fit(X_train, y_train)\n",
        "\n",
        "# Predict the labels of the test set: preds\n",
        "preds = xg_cl.predict(X_test)\n",
        "\n",
        "# Compute the accuracy: accuracy\n",
        "accuracy = float(np.sum(preds == y_test)) / y_test.shape[0]\n",
        "print(\"accuracy: %f\" % (accuracy))\n",
        "\n",
        "#TASK 3: Analyze the results of one training example with the confusion matrix\n",
        "\n",
        "#If you can also get the confusion matrix"
      ],
      "metadata": {
        "colab": {
          "base_uri": "https://localhost:8080/"
        },
        "id": "uz6F4x7mQd9Z",
        "outputId": "ab0f1e04-ad7f-4688-de99-015823085e2a"
      },
      "execution_count": null,
      "outputs": [
        {
          "output_type": "stream",
          "name": "stdout",
          "text": [
            "accuracy: 1.000000\n"
          ]
        }
      ]
    },
    {
      "cell_type": "markdown",
      "source": [
        ""
      ],
      "metadata": {
        "id": "GkBYwvUd07Eo"
      }
    }
  ]
}