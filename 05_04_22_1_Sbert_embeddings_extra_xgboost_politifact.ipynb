{
  "nbformat": 4,
  "nbformat_minor": 0,
  "metadata": {
    "colab": {
      "name": "Sbert_embeddings_extra_xgboost_politifact.ipynb",
      "provenance": [],
      "collapsed_sections": [],
      "authorship_tag": "ABX9TyOHbKl9xyby+/mOtEZM877e",
      "include_colab_link": true
    },
    "kernelspec": {
      "name": "python3",
      "display_name": "Python 3"
    },
    "language_info": {
      "name": "python"
    },
    "accelerator": "GPU",
    "widgets": {
      "application/vnd.jupyter.widget-state+json": {
        "9d47953f71e148dba44cd6bc93086be4": {
          "model_module": "@jupyter-widgets/controls",
          "model_name": "VBoxModel",
          "model_module_version": "1.5.0",
          "state": {
            "_dom_classes": [],
            "_model_module": "@jupyter-widgets/controls",
            "_model_module_version": "1.5.0",
            "_model_name": "VBoxModel",
            "_view_count": null,
            "_view_module": "@jupyter-widgets/controls",
            "_view_module_version": "1.5.0",
            "_view_name": "VBoxView",
            "box_style": "",
            "children": [
              "IPY_MODEL_18ef20d4580648de90913d4a178f3b47",
              "IPY_MODEL_717ee8c965a14385a78b51a7918e35ee"
            ],
            "layout": "IPY_MODEL_7f22522e95e743c9a877e9f3738a69e0"
          }
        },
        "18ef20d4580648de90913d4a178f3b47": {
          "model_module": "@jupyter-widgets/controls",
          "model_name": "LabelModel",
          "model_module_version": "1.5.0",
          "state": {
            "_dom_classes": [],
            "_model_module": "@jupyter-widgets/controls",
            "_model_module_version": "1.5.0",
            "_model_name": "LabelModel",
            "_view_count": null,
            "_view_module": "@jupyter-widgets/controls",
            "_view_module_version": "1.5.0",
            "_view_name": "LabelView",
            "description": "",
            "description_tooltip": null,
            "layout": "IPY_MODEL_eb9741b5c99d4721b4f598ee63cdfd60",
            "placeholder": "​",
            "style": "IPY_MODEL_ab01468617144349af450384f0bc5b03",
            "value": "0.039 MB of 0.039 MB uploaded (0.000 MB deduped)\r"
          }
        },
        "717ee8c965a14385a78b51a7918e35ee": {
          "model_module": "@jupyter-widgets/controls",
          "model_name": "FloatProgressModel",
          "model_module_version": "1.5.0",
          "state": {
            "_dom_classes": [],
            "_model_module": "@jupyter-widgets/controls",
            "_model_module_version": "1.5.0",
            "_model_name": "FloatProgressModel",
            "_view_count": null,
            "_view_module": "@jupyter-widgets/controls",
            "_view_module_version": "1.5.0",
            "_view_name": "ProgressView",
            "bar_style": "",
            "description": "",
            "description_tooltip": null,
            "layout": "IPY_MODEL_5a763b2157004d418db8410cd5351986",
            "max": 1,
            "min": 0,
            "orientation": "horizontal",
            "style": "IPY_MODEL_dd04460983644e14b233993fcfb3bb3c",
            "value": 1
          }
        },
        "7f22522e95e743c9a877e9f3738a69e0": {
          "model_module": "@jupyter-widgets/base",
          "model_name": "LayoutModel",
          "model_module_version": "1.2.0",
          "state": {
            "_model_module": "@jupyter-widgets/base",
            "_model_module_version": "1.2.0",
            "_model_name": "LayoutModel",
            "_view_count": null,
            "_view_module": "@jupyter-widgets/base",
            "_view_module_version": "1.2.0",
            "_view_name": "LayoutView",
            "align_content": null,
            "align_items": null,
            "align_self": null,
            "border": null,
            "bottom": null,
            "display": null,
            "flex": null,
            "flex_flow": null,
            "grid_area": null,
            "grid_auto_columns": null,
            "grid_auto_flow": null,
            "grid_auto_rows": null,
            "grid_column": null,
            "grid_gap": null,
            "grid_row": null,
            "grid_template_areas": null,
            "grid_template_columns": null,
            "grid_template_rows": null,
            "height": null,
            "justify_content": null,
            "justify_items": null,
            "left": null,
            "margin": null,
            "max_height": null,
            "max_width": null,
            "min_height": null,
            "min_width": null,
            "object_fit": null,
            "object_position": null,
            "order": null,
            "overflow": null,
            "overflow_x": null,
            "overflow_y": null,
            "padding": null,
            "right": null,
            "top": null,
            "visibility": null,
            "width": null
          }
        },
        "eb9741b5c99d4721b4f598ee63cdfd60": {
          "model_module": "@jupyter-widgets/base",
          "model_name": "LayoutModel",
          "model_module_version": "1.2.0",
          "state": {
            "_model_module": "@jupyter-widgets/base",
            "_model_module_version": "1.2.0",
            "_model_name": "LayoutModel",
            "_view_count": null,
            "_view_module": "@jupyter-widgets/base",
            "_view_module_version": "1.2.0",
            "_view_name": "LayoutView",
            "align_content": null,
            "align_items": null,
            "align_self": null,
            "border": null,
            "bottom": null,
            "display": null,
            "flex": null,
            "flex_flow": null,
            "grid_area": null,
            "grid_auto_columns": null,
            "grid_auto_flow": null,
            "grid_auto_rows": null,
            "grid_column": null,
            "grid_gap": null,
            "grid_row": null,
            "grid_template_areas": null,
            "grid_template_columns": null,
            "grid_template_rows": null,
            "height": null,
            "justify_content": null,
            "justify_items": null,
            "left": null,
            "margin": null,
            "max_height": null,
            "max_width": null,
            "min_height": null,
            "min_width": null,
            "object_fit": null,
            "object_position": null,
            "order": null,
            "overflow": null,
            "overflow_x": null,
            "overflow_y": null,
            "padding": null,
            "right": null,
            "top": null,
            "visibility": null,
            "width": null
          }
        },
        "ab01468617144349af450384f0bc5b03": {
          "model_module": "@jupyter-widgets/controls",
          "model_name": "DescriptionStyleModel",
          "model_module_version": "1.5.0",
          "state": {
            "_model_module": "@jupyter-widgets/controls",
            "_model_module_version": "1.5.0",
            "_model_name": "DescriptionStyleModel",
            "_view_count": null,
            "_view_module": "@jupyter-widgets/base",
            "_view_module_version": "1.2.0",
            "_view_name": "StyleView",
            "description_width": ""
          }
        },
        "5a763b2157004d418db8410cd5351986": {
          "model_module": "@jupyter-widgets/base",
          "model_name": "LayoutModel",
          "model_module_version": "1.2.0",
          "state": {
            "_model_module": "@jupyter-widgets/base",
            "_model_module_version": "1.2.0",
            "_model_name": "LayoutModel",
            "_view_count": null,
            "_view_module": "@jupyter-widgets/base",
            "_view_module_version": "1.2.0",
            "_view_name": "LayoutView",
            "align_content": null,
            "align_items": null,
            "align_self": null,
            "border": null,
            "bottom": null,
            "display": null,
            "flex": null,
            "flex_flow": null,
            "grid_area": null,
            "grid_auto_columns": null,
            "grid_auto_flow": null,
            "grid_auto_rows": null,
            "grid_column": null,
            "grid_gap": null,
            "grid_row": null,
            "grid_template_areas": null,
            "grid_template_columns": null,
            "grid_template_rows": null,
            "height": null,
            "justify_content": null,
            "justify_items": null,
            "left": null,
            "margin": null,
            "max_height": null,
            "max_width": null,
            "min_height": null,
            "min_width": null,
            "object_fit": null,
            "object_position": null,
            "order": null,
            "overflow": null,
            "overflow_x": null,
            "overflow_y": null,
            "padding": null,
            "right": null,
            "top": null,
            "visibility": null,
            "width": null
          }
        },
        "dd04460983644e14b233993fcfb3bb3c": {
          "model_module": "@jupyter-widgets/controls",
          "model_name": "ProgressStyleModel",
          "model_module_version": "1.5.0",
          "state": {
            "_model_module": "@jupyter-widgets/controls",
            "_model_module_version": "1.5.0",
            "_model_name": "ProgressStyleModel",
            "_view_count": null,
            "_view_module": "@jupyter-widgets/base",
            "_view_module_version": "1.2.0",
            "_view_name": "StyleView",
            "bar_color": null,
            "description_width": ""
          }
        },
        "6f20efe6f7db446fb96f68e3a3269db0": {
          "model_module": "@jupyter-widgets/controls",
          "model_name": "VBoxModel",
          "model_module_version": "1.5.0",
          "state": {
            "_dom_classes": [],
            "_model_module": "@jupyter-widgets/controls",
            "_model_module_version": "1.5.0",
            "_model_name": "VBoxModel",
            "_view_count": null,
            "_view_module": "@jupyter-widgets/controls",
            "_view_module_version": "1.5.0",
            "_view_name": "VBoxView",
            "box_style": "",
            "children": [
              "IPY_MODEL_5f0ab9c004c3479c8df36272f87a9db2",
              "IPY_MODEL_e2c1a843196444e2ac26df4c6f7dc860"
            ],
            "layout": "IPY_MODEL_0870cfb2a84f44838714cfe4a00193ba"
          }
        },
        "5f0ab9c004c3479c8df36272f87a9db2": {
          "model_module": "@jupyter-widgets/controls",
          "model_name": "LabelModel",
          "model_module_version": "1.5.0",
          "state": {
            "_dom_classes": [],
            "_model_module": "@jupyter-widgets/controls",
            "_model_module_version": "1.5.0",
            "_model_name": "LabelModel",
            "_view_count": null,
            "_view_module": "@jupyter-widgets/controls",
            "_view_module_version": "1.5.0",
            "_view_name": "LabelView",
            "description": "",
            "description_tooltip": null,
            "layout": "IPY_MODEL_d6d33fe989e7472b92d8b2cb7b0a096b",
            "placeholder": "​",
            "style": "IPY_MODEL_1ae9a1b9322a47da8e96aa1d64151942",
            "value": "0.039 MB of 0.039 MB uploaded (0.000 MB deduped)\r"
          }
        },
        "e2c1a843196444e2ac26df4c6f7dc860": {
          "model_module": "@jupyter-widgets/controls",
          "model_name": "FloatProgressModel",
          "model_module_version": "1.5.0",
          "state": {
            "_dom_classes": [],
            "_model_module": "@jupyter-widgets/controls",
            "_model_module_version": "1.5.0",
            "_model_name": "FloatProgressModel",
            "_view_count": null,
            "_view_module": "@jupyter-widgets/controls",
            "_view_module_version": "1.5.0",
            "_view_name": "ProgressView",
            "bar_style": "",
            "description": "",
            "description_tooltip": null,
            "layout": "IPY_MODEL_2b497ea50ad04b76be54783bb09affc7",
            "max": 1,
            "min": 0,
            "orientation": "horizontal",
            "style": "IPY_MODEL_de18767b657841ca8291954253757552",
            "value": 1
          }
        },
        "0870cfb2a84f44838714cfe4a00193ba": {
          "model_module": "@jupyter-widgets/base",
          "model_name": "LayoutModel",
          "model_module_version": "1.2.0",
          "state": {
            "_model_module": "@jupyter-widgets/base",
            "_model_module_version": "1.2.0",
            "_model_name": "LayoutModel",
            "_view_count": null,
            "_view_module": "@jupyter-widgets/base",
            "_view_module_version": "1.2.0",
            "_view_name": "LayoutView",
            "align_content": null,
            "align_items": null,
            "align_self": null,
            "border": null,
            "bottom": null,
            "display": null,
            "flex": null,
            "flex_flow": null,
            "grid_area": null,
            "grid_auto_columns": null,
            "grid_auto_flow": null,
            "grid_auto_rows": null,
            "grid_column": null,
            "grid_gap": null,
            "grid_row": null,
            "grid_template_areas": null,
            "grid_template_columns": null,
            "grid_template_rows": null,
            "height": null,
            "justify_content": null,
            "justify_items": null,
            "left": null,
            "margin": null,
            "max_height": null,
            "max_width": null,
            "min_height": null,
            "min_width": null,
            "object_fit": null,
            "object_position": null,
            "order": null,
            "overflow": null,
            "overflow_x": null,
            "overflow_y": null,
            "padding": null,
            "right": null,
            "top": null,
            "visibility": null,
            "width": null
          }
        },
        "d6d33fe989e7472b92d8b2cb7b0a096b": {
          "model_module": "@jupyter-widgets/base",
          "model_name": "LayoutModel",
          "model_module_version": "1.2.0",
          "state": {
            "_model_module": "@jupyter-widgets/base",
            "_model_module_version": "1.2.0",
            "_model_name": "LayoutModel",
            "_view_count": null,
            "_view_module": "@jupyter-widgets/base",
            "_view_module_version": "1.2.0",
            "_view_name": "LayoutView",
            "align_content": null,
            "align_items": null,
            "align_self": null,
            "border": null,
            "bottom": null,
            "display": null,
            "flex": null,
            "flex_flow": null,
            "grid_area": null,
            "grid_auto_columns": null,
            "grid_auto_flow": null,
            "grid_auto_rows": null,
            "grid_column": null,
            "grid_gap": null,
            "grid_row": null,
            "grid_template_areas": null,
            "grid_template_columns": null,
            "grid_template_rows": null,
            "height": null,
            "justify_content": null,
            "justify_items": null,
            "left": null,
            "margin": null,
            "max_height": null,
            "max_width": null,
            "min_height": null,
            "min_width": null,
            "object_fit": null,
            "object_position": null,
            "order": null,
            "overflow": null,
            "overflow_x": null,
            "overflow_y": null,
            "padding": null,
            "right": null,
            "top": null,
            "visibility": null,
            "width": null
          }
        },
        "1ae9a1b9322a47da8e96aa1d64151942": {
          "model_module": "@jupyter-widgets/controls",
          "model_name": "DescriptionStyleModel",
          "model_module_version": "1.5.0",
          "state": {
            "_model_module": "@jupyter-widgets/controls",
            "_model_module_version": "1.5.0",
            "_model_name": "DescriptionStyleModel",
            "_view_count": null,
            "_view_module": "@jupyter-widgets/base",
            "_view_module_version": "1.2.0",
            "_view_name": "StyleView",
            "description_width": ""
          }
        },
        "2b497ea50ad04b76be54783bb09affc7": {
          "model_module": "@jupyter-widgets/base",
          "model_name": "LayoutModel",
          "model_module_version": "1.2.0",
          "state": {
            "_model_module": "@jupyter-widgets/base",
            "_model_module_version": "1.2.0",
            "_model_name": "LayoutModel",
            "_view_count": null,
            "_view_module": "@jupyter-widgets/base",
            "_view_module_version": "1.2.0",
            "_view_name": "LayoutView",
            "align_content": null,
            "align_items": null,
            "align_self": null,
            "border": null,
            "bottom": null,
            "display": null,
            "flex": null,
            "flex_flow": null,
            "grid_area": null,
            "grid_auto_columns": null,
            "grid_auto_flow": null,
            "grid_auto_rows": null,
            "grid_column": null,
            "grid_gap": null,
            "grid_row": null,
            "grid_template_areas": null,
            "grid_template_columns": null,
            "grid_template_rows": null,
            "height": null,
            "justify_content": null,
            "justify_items": null,
            "left": null,
            "margin": null,
            "max_height": null,
            "max_width": null,
            "min_height": null,
            "min_width": null,
            "object_fit": null,
            "object_position": null,
            "order": null,
            "overflow": null,
            "overflow_x": null,
            "overflow_y": null,
            "padding": null,
            "right": null,
            "top": null,
            "visibility": null,
            "width": null
          }
        },
        "de18767b657841ca8291954253757552": {
          "model_module": "@jupyter-widgets/controls",
          "model_name": "ProgressStyleModel",
          "model_module_version": "1.5.0",
          "state": {
            "_model_module": "@jupyter-widgets/controls",
            "_model_module_version": "1.5.0",
            "_model_name": "ProgressStyleModel",
            "_view_count": null,
            "_view_module": "@jupyter-widgets/base",
            "_view_module_version": "1.2.0",
            "_view_name": "StyleView",
            "bar_color": null,
            "description_width": ""
          }
        },
        "f9231b552a494a7f9f180133cfb8ff1f": {
          "model_module": "@jupyter-widgets/controls",
          "model_name": "VBoxModel",
          "model_module_version": "1.5.0",
          "state": {
            "_dom_classes": [],
            "_model_module": "@jupyter-widgets/controls",
            "_model_module_version": "1.5.0",
            "_model_name": "VBoxModel",
            "_view_count": null,
            "_view_module": "@jupyter-widgets/controls",
            "_view_module_version": "1.5.0",
            "_view_name": "VBoxView",
            "box_style": "",
            "children": [
              "IPY_MODEL_93e98e16565e4483a1b4286e773ea48c",
              "IPY_MODEL_ecee7dc7e66d48c89124e2d9f09187ec"
            ],
            "layout": "IPY_MODEL_bf08e18bc1d243329bec9335ea6cecdc"
          }
        },
        "93e98e16565e4483a1b4286e773ea48c": {
          "model_module": "@jupyter-widgets/controls",
          "model_name": "LabelModel",
          "model_module_version": "1.5.0",
          "state": {
            "_dom_classes": [],
            "_model_module": "@jupyter-widgets/controls",
            "_model_module_version": "1.5.0",
            "_model_name": "LabelModel",
            "_view_count": null,
            "_view_module": "@jupyter-widgets/controls",
            "_view_module_version": "1.5.0",
            "_view_name": "LabelView",
            "description": "",
            "description_tooltip": null,
            "layout": "IPY_MODEL_85a5df76bb1f468998abb815a28fa1cf",
            "placeholder": "​",
            "style": "IPY_MODEL_f3808cd906f8475792d5735e57b9bb9c",
            "value": "0.039 MB of 0.039 MB uploaded (0.000 MB deduped)\r"
          }
        },
        "ecee7dc7e66d48c89124e2d9f09187ec": {
          "model_module": "@jupyter-widgets/controls",
          "model_name": "FloatProgressModel",
          "model_module_version": "1.5.0",
          "state": {
            "_dom_classes": [],
            "_model_module": "@jupyter-widgets/controls",
            "_model_module_version": "1.5.0",
            "_model_name": "FloatProgressModel",
            "_view_count": null,
            "_view_module": "@jupyter-widgets/controls",
            "_view_module_version": "1.5.0",
            "_view_name": "ProgressView",
            "bar_style": "",
            "description": "",
            "description_tooltip": null,
            "layout": "IPY_MODEL_3f069521b6ae445b82c2a2b1288fedfe",
            "max": 1,
            "min": 0,
            "orientation": "horizontal",
            "style": "IPY_MODEL_d6dca618258542b4bdfc3ba029cb31d7",
            "value": 1
          }
        },
        "bf08e18bc1d243329bec9335ea6cecdc": {
          "model_module": "@jupyter-widgets/base",
          "model_name": "LayoutModel",
          "model_module_version": "1.2.0",
          "state": {
            "_model_module": "@jupyter-widgets/base",
            "_model_module_version": "1.2.0",
            "_model_name": "LayoutModel",
            "_view_count": null,
            "_view_module": "@jupyter-widgets/base",
            "_view_module_version": "1.2.0",
            "_view_name": "LayoutView",
            "align_content": null,
            "align_items": null,
            "align_self": null,
            "border": null,
            "bottom": null,
            "display": null,
            "flex": null,
            "flex_flow": null,
            "grid_area": null,
            "grid_auto_columns": null,
            "grid_auto_flow": null,
            "grid_auto_rows": null,
            "grid_column": null,
            "grid_gap": null,
            "grid_row": null,
            "grid_template_areas": null,
            "grid_template_columns": null,
            "grid_template_rows": null,
            "height": null,
            "justify_content": null,
            "justify_items": null,
            "left": null,
            "margin": null,
            "max_height": null,
            "max_width": null,
            "min_height": null,
            "min_width": null,
            "object_fit": null,
            "object_position": null,
            "order": null,
            "overflow": null,
            "overflow_x": null,
            "overflow_y": null,
            "padding": null,
            "right": null,
            "top": null,
            "visibility": null,
            "width": null
          }
        },
        "85a5df76bb1f468998abb815a28fa1cf": {
          "model_module": "@jupyter-widgets/base",
          "model_name": "LayoutModel",
          "model_module_version": "1.2.0",
          "state": {
            "_model_module": "@jupyter-widgets/base",
            "_model_module_version": "1.2.0",
            "_model_name": "LayoutModel",
            "_view_count": null,
            "_view_module": "@jupyter-widgets/base",
            "_view_module_version": "1.2.0",
            "_view_name": "LayoutView",
            "align_content": null,
            "align_items": null,
            "align_self": null,
            "border": null,
            "bottom": null,
            "display": null,
            "flex": null,
            "flex_flow": null,
            "grid_area": null,
            "grid_auto_columns": null,
            "grid_auto_flow": null,
            "grid_auto_rows": null,
            "grid_column": null,
            "grid_gap": null,
            "grid_row": null,
            "grid_template_areas": null,
            "grid_template_columns": null,
            "grid_template_rows": null,
            "height": null,
            "justify_content": null,
            "justify_items": null,
            "left": null,
            "margin": null,
            "max_height": null,
            "max_width": null,
            "min_height": null,
            "min_width": null,
            "object_fit": null,
            "object_position": null,
            "order": null,
            "overflow": null,
            "overflow_x": null,
            "overflow_y": null,
            "padding": null,
            "right": null,
            "top": null,
            "visibility": null,
            "width": null
          }
        },
        "f3808cd906f8475792d5735e57b9bb9c": {
          "model_module": "@jupyter-widgets/controls",
          "model_name": "DescriptionStyleModel",
          "model_module_version": "1.5.0",
          "state": {
            "_model_module": "@jupyter-widgets/controls",
            "_model_module_version": "1.5.0",
            "_model_name": "DescriptionStyleModel",
            "_view_count": null,
            "_view_module": "@jupyter-widgets/base",
            "_view_module_version": "1.2.0",
            "_view_name": "StyleView",
            "description_width": ""
          }
        },
        "3f069521b6ae445b82c2a2b1288fedfe": {
          "model_module": "@jupyter-widgets/base",
          "model_name": "LayoutModel",
          "model_module_version": "1.2.0",
          "state": {
            "_model_module": "@jupyter-widgets/base",
            "_model_module_version": "1.2.0",
            "_model_name": "LayoutModel",
            "_view_count": null,
            "_view_module": "@jupyter-widgets/base",
            "_view_module_version": "1.2.0",
            "_view_name": "LayoutView",
            "align_content": null,
            "align_items": null,
            "align_self": null,
            "border": null,
            "bottom": null,
            "display": null,
            "flex": null,
            "flex_flow": null,
            "grid_area": null,
            "grid_auto_columns": null,
            "grid_auto_flow": null,
            "grid_auto_rows": null,
            "grid_column": null,
            "grid_gap": null,
            "grid_row": null,
            "grid_template_areas": null,
            "grid_template_columns": null,
            "grid_template_rows": null,
            "height": null,
            "justify_content": null,
            "justify_items": null,
            "left": null,
            "margin": null,
            "max_height": null,
            "max_width": null,
            "min_height": null,
            "min_width": null,
            "object_fit": null,
            "object_position": null,
            "order": null,
            "overflow": null,
            "overflow_x": null,
            "overflow_y": null,
            "padding": null,
            "right": null,
            "top": null,
            "visibility": null,
            "width": null
          }
        },
        "d6dca618258542b4bdfc3ba029cb31d7": {
          "model_module": "@jupyter-widgets/controls",
          "model_name": "ProgressStyleModel",
          "model_module_version": "1.5.0",
          "state": {
            "_model_module": "@jupyter-widgets/controls",
            "_model_module_version": "1.5.0",
            "_model_name": "ProgressStyleModel",
            "_view_count": null,
            "_view_module": "@jupyter-widgets/base",
            "_view_module_version": "1.2.0",
            "_view_name": "StyleView",
            "bar_color": null,
            "description_width": ""
          }
        },
        "6d95d93a2a524a30a61e2ef09b21ddc5": {
          "model_module": "@jupyter-widgets/controls",
          "model_name": "VBoxModel",
          "model_module_version": "1.5.0",
          "state": {
            "_dom_classes": [],
            "_model_module": "@jupyter-widgets/controls",
            "_model_module_version": "1.5.0",
            "_model_name": "VBoxModel",
            "_view_count": null,
            "_view_module": "@jupyter-widgets/controls",
            "_view_module_version": "1.5.0",
            "_view_name": "VBoxView",
            "box_style": "",
            "children": [
              "IPY_MODEL_046e621bff8c49d79fa930c445ed4718",
              "IPY_MODEL_ec9001d1196c4cbfadf366e3fdd47b4e"
            ],
            "layout": "IPY_MODEL_2310214a35554cd097dfeb68196620c0"
          }
        },
        "046e621bff8c49d79fa930c445ed4718": {
          "model_module": "@jupyter-widgets/controls",
          "model_name": "LabelModel",
          "model_module_version": "1.5.0",
          "state": {
            "_dom_classes": [],
            "_model_module": "@jupyter-widgets/controls",
            "_model_module_version": "1.5.0",
            "_model_name": "LabelModel",
            "_view_count": null,
            "_view_module": "@jupyter-widgets/controls",
            "_view_module_version": "1.5.0",
            "_view_name": "LabelView",
            "description": "",
            "description_tooltip": null,
            "layout": "IPY_MODEL_30fd6f5093b64de785903ec76b5f6c2e",
            "placeholder": "​",
            "style": "IPY_MODEL_a783fbee5eb5453cbeaa70025359ece6",
            "value": "0.039 MB of 0.039 MB uploaded (0.000 MB deduped)\r"
          }
        },
        "ec9001d1196c4cbfadf366e3fdd47b4e": {
          "model_module": "@jupyter-widgets/controls",
          "model_name": "FloatProgressModel",
          "model_module_version": "1.5.0",
          "state": {
            "_dom_classes": [],
            "_model_module": "@jupyter-widgets/controls",
            "_model_module_version": "1.5.0",
            "_model_name": "FloatProgressModel",
            "_view_count": null,
            "_view_module": "@jupyter-widgets/controls",
            "_view_module_version": "1.5.0",
            "_view_name": "ProgressView",
            "bar_style": "",
            "description": "",
            "description_tooltip": null,
            "layout": "IPY_MODEL_22734ef702ba44f0bdef34bcd29dd1ee",
            "max": 1,
            "min": 0,
            "orientation": "horizontal",
            "style": "IPY_MODEL_5f8c9b4264664b06bd62705f5f3684b9",
            "value": 1
          }
        },
        "2310214a35554cd097dfeb68196620c0": {
          "model_module": "@jupyter-widgets/base",
          "model_name": "LayoutModel",
          "model_module_version": "1.2.0",
          "state": {
            "_model_module": "@jupyter-widgets/base",
            "_model_module_version": "1.2.0",
            "_model_name": "LayoutModel",
            "_view_count": null,
            "_view_module": "@jupyter-widgets/base",
            "_view_module_version": "1.2.0",
            "_view_name": "LayoutView",
            "align_content": null,
            "align_items": null,
            "align_self": null,
            "border": null,
            "bottom": null,
            "display": null,
            "flex": null,
            "flex_flow": null,
            "grid_area": null,
            "grid_auto_columns": null,
            "grid_auto_flow": null,
            "grid_auto_rows": null,
            "grid_column": null,
            "grid_gap": null,
            "grid_row": null,
            "grid_template_areas": null,
            "grid_template_columns": null,
            "grid_template_rows": null,
            "height": null,
            "justify_content": null,
            "justify_items": null,
            "left": null,
            "margin": null,
            "max_height": null,
            "max_width": null,
            "min_height": null,
            "min_width": null,
            "object_fit": null,
            "object_position": null,
            "order": null,
            "overflow": null,
            "overflow_x": null,
            "overflow_y": null,
            "padding": null,
            "right": null,
            "top": null,
            "visibility": null,
            "width": null
          }
        },
        "30fd6f5093b64de785903ec76b5f6c2e": {
          "model_module": "@jupyter-widgets/base",
          "model_name": "LayoutModel",
          "model_module_version": "1.2.0",
          "state": {
            "_model_module": "@jupyter-widgets/base",
            "_model_module_version": "1.2.0",
            "_model_name": "LayoutModel",
            "_view_count": null,
            "_view_module": "@jupyter-widgets/base",
            "_view_module_version": "1.2.0",
            "_view_name": "LayoutView",
            "align_content": null,
            "align_items": null,
            "align_self": null,
            "border": null,
            "bottom": null,
            "display": null,
            "flex": null,
            "flex_flow": null,
            "grid_area": null,
            "grid_auto_columns": null,
            "grid_auto_flow": null,
            "grid_auto_rows": null,
            "grid_column": null,
            "grid_gap": null,
            "grid_row": null,
            "grid_template_areas": null,
            "grid_template_columns": null,
            "grid_template_rows": null,
            "height": null,
            "justify_content": null,
            "justify_items": null,
            "left": null,
            "margin": null,
            "max_height": null,
            "max_width": null,
            "min_height": null,
            "min_width": null,
            "object_fit": null,
            "object_position": null,
            "order": null,
            "overflow": null,
            "overflow_x": null,
            "overflow_y": null,
            "padding": null,
            "right": null,
            "top": null,
            "visibility": null,
            "width": null
          }
        },
        "a783fbee5eb5453cbeaa70025359ece6": {
          "model_module": "@jupyter-widgets/controls",
          "model_name": "DescriptionStyleModel",
          "model_module_version": "1.5.0",
          "state": {
            "_model_module": "@jupyter-widgets/controls",
            "_model_module_version": "1.5.0",
            "_model_name": "DescriptionStyleModel",
            "_view_count": null,
            "_view_module": "@jupyter-widgets/base",
            "_view_module_version": "1.2.0",
            "_view_name": "StyleView",
            "description_width": ""
          }
        },
        "22734ef702ba44f0bdef34bcd29dd1ee": {
          "model_module": "@jupyter-widgets/base",
          "model_name": "LayoutModel",
          "model_module_version": "1.2.0",
          "state": {
            "_model_module": "@jupyter-widgets/base",
            "_model_module_version": "1.2.0",
            "_model_name": "LayoutModel",
            "_view_count": null,
            "_view_module": "@jupyter-widgets/base",
            "_view_module_version": "1.2.0",
            "_view_name": "LayoutView",
            "align_content": null,
            "align_items": null,
            "align_self": null,
            "border": null,
            "bottom": null,
            "display": null,
            "flex": null,
            "flex_flow": null,
            "grid_area": null,
            "grid_auto_columns": null,
            "grid_auto_flow": null,
            "grid_auto_rows": null,
            "grid_column": null,
            "grid_gap": null,
            "grid_row": null,
            "grid_template_areas": null,
            "grid_template_columns": null,
            "grid_template_rows": null,
            "height": null,
            "justify_content": null,
            "justify_items": null,
            "left": null,
            "margin": null,
            "max_height": null,
            "max_width": null,
            "min_height": null,
            "min_width": null,
            "object_fit": null,
            "object_position": null,
            "order": null,
            "overflow": null,
            "overflow_x": null,
            "overflow_y": null,
            "padding": null,
            "right": null,
            "top": null,
            "visibility": null,
            "width": null
          }
        },
        "5f8c9b4264664b06bd62705f5f3684b9": {
          "model_module": "@jupyter-widgets/controls",
          "model_name": "ProgressStyleModel",
          "model_module_version": "1.5.0",
          "state": {
            "_model_module": "@jupyter-widgets/controls",
            "_model_module_version": "1.5.0",
            "_model_name": "ProgressStyleModel",
            "_view_count": null,
            "_view_module": "@jupyter-widgets/base",
            "_view_module_version": "1.2.0",
            "_view_name": "StyleView",
            "bar_color": null,
            "description_width": ""
          }
        },
        "fa24ae85ab6d484ca7e7e9fd68b2c53c": {
          "model_module": "@jupyter-widgets/controls",
          "model_name": "VBoxModel",
          "model_module_version": "1.5.0",
          "state": {
            "_dom_classes": [],
            "_model_module": "@jupyter-widgets/controls",
            "_model_module_version": "1.5.0",
            "_model_name": "VBoxModel",
            "_view_count": null,
            "_view_module": "@jupyter-widgets/controls",
            "_view_module_version": "1.5.0",
            "_view_name": "VBoxView",
            "box_style": "",
            "children": [
              "IPY_MODEL_da987249fab54ef7b17bdf47d9bd0fc0",
              "IPY_MODEL_87af1a1f841e4f85bd23769efdba83ce"
            ],
            "layout": "IPY_MODEL_15a1bc70842a44bdbc91ab1743dd482c"
          }
        },
        "da987249fab54ef7b17bdf47d9bd0fc0": {
          "model_module": "@jupyter-widgets/controls",
          "model_name": "LabelModel",
          "model_module_version": "1.5.0",
          "state": {
            "_dom_classes": [],
            "_model_module": "@jupyter-widgets/controls",
            "_model_module_version": "1.5.0",
            "_model_name": "LabelModel",
            "_view_count": null,
            "_view_module": "@jupyter-widgets/controls",
            "_view_module_version": "1.5.0",
            "_view_name": "LabelView",
            "description": "",
            "description_tooltip": null,
            "layout": "IPY_MODEL_fbea84c0340f443bb3828b51c62347d2",
            "placeholder": "​",
            "style": "IPY_MODEL_b9fffcd42ffd46e19a06d50fa41f39fa",
            "value": "0.040 MB of 0.040 MB uploaded (0.000 MB deduped)\r"
          }
        },
        "87af1a1f841e4f85bd23769efdba83ce": {
          "model_module": "@jupyter-widgets/controls",
          "model_name": "FloatProgressModel",
          "model_module_version": "1.5.0",
          "state": {
            "_dom_classes": [],
            "_model_module": "@jupyter-widgets/controls",
            "_model_module_version": "1.5.0",
            "_model_name": "FloatProgressModel",
            "_view_count": null,
            "_view_module": "@jupyter-widgets/controls",
            "_view_module_version": "1.5.0",
            "_view_name": "ProgressView",
            "bar_style": "",
            "description": "",
            "description_tooltip": null,
            "layout": "IPY_MODEL_39276f431a2648de83b101fe530c1bb6",
            "max": 1,
            "min": 0,
            "orientation": "horizontal",
            "style": "IPY_MODEL_5205dae2927049d895035e30dcc1bbea",
            "value": 1
          }
        },
        "15a1bc70842a44bdbc91ab1743dd482c": {
          "model_module": "@jupyter-widgets/base",
          "model_name": "LayoutModel",
          "model_module_version": "1.2.0",
          "state": {
            "_model_module": "@jupyter-widgets/base",
            "_model_module_version": "1.2.0",
            "_model_name": "LayoutModel",
            "_view_count": null,
            "_view_module": "@jupyter-widgets/base",
            "_view_module_version": "1.2.0",
            "_view_name": "LayoutView",
            "align_content": null,
            "align_items": null,
            "align_self": null,
            "border": null,
            "bottom": null,
            "display": null,
            "flex": null,
            "flex_flow": null,
            "grid_area": null,
            "grid_auto_columns": null,
            "grid_auto_flow": null,
            "grid_auto_rows": null,
            "grid_column": null,
            "grid_gap": null,
            "grid_row": null,
            "grid_template_areas": null,
            "grid_template_columns": null,
            "grid_template_rows": null,
            "height": null,
            "justify_content": null,
            "justify_items": null,
            "left": null,
            "margin": null,
            "max_height": null,
            "max_width": null,
            "min_height": null,
            "min_width": null,
            "object_fit": null,
            "object_position": null,
            "order": null,
            "overflow": null,
            "overflow_x": null,
            "overflow_y": null,
            "padding": null,
            "right": null,
            "top": null,
            "visibility": null,
            "width": null
          }
        },
        "fbea84c0340f443bb3828b51c62347d2": {
          "model_module": "@jupyter-widgets/base",
          "model_name": "LayoutModel",
          "model_module_version": "1.2.0",
          "state": {
            "_model_module": "@jupyter-widgets/base",
            "_model_module_version": "1.2.0",
            "_model_name": "LayoutModel",
            "_view_count": null,
            "_view_module": "@jupyter-widgets/base",
            "_view_module_version": "1.2.0",
            "_view_name": "LayoutView",
            "align_content": null,
            "align_items": null,
            "align_self": null,
            "border": null,
            "bottom": null,
            "display": null,
            "flex": null,
            "flex_flow": null,
            "grid_area": null,
            "grid_auto_columns": null,
            "grid_auto_flow": null,
            "grid_auto_rows": null,
            "grid_column": null,
            "grid_gap": null,
            "grid_row": null,
            "grid_template_areas": null,
            "grid_template_columns": null,
            "grid_template_rows": null,
            "height": null,
            "justify_content": null,
            "justify_items": null,
            "left": null,
            "margin": null,
            "max_height": null,
            "max_width": null,
            "min_height": null,
            "min_width": null,
            "object_fit": null,
            "object_position": null,
            "order": null,
            "overflow": null,
            "overflow_x": null,
            "overflow_y": null,
            "padding": null,
            "right": null,
            "top": null,
            "visibility": null,
            "width": null
          }
        },
        "b9fffcd42ffd46e19a06d50fa41f39fa": {
          "model_module": "@jupyter-widgets/controls",
          "model_name": "DescriptionStyleModel",
          "model_module_version": "1.5.0",
          "state": {
            "_model_module": "@jupyter-widgets/controls",
            "_model_module_version": "1.5.0",
            "_model_name": "DescriptionStyleModel",
            "_view_count": null,
            "_view_module": "@jupyter-widgets/base",
            "_view_module_version": "1.2.0",
            "_view_name": "StyleView",
            "description_width": ""
          }
        },
        "39276f431a2648de83b101fe530c1bb6": {
          "model_module": "@jupyter-widgets/base",
          "model_name": "LayoutModel",
          "model_module_version": "1.2.0",
          "state": {
            "_model_module": "@jupyter-widgets/base",
            "_model_module_version": "1.2.0",
            "_model_name": "LayoutModel",
            "_view_count": null,
            "_view_module": "@jupyter-widgets/base",
            "_view_module_version": "1.2.0",
            "_view_name": "LayoutView",
            "align_content": null,
            "align_items": null,
            "align_self": null,
            "border": null,
            "bottom": null,
            "display": null,
            "flex": null,
            "flex_flow": null,
            "grid_area": null,
            "grid_auto_columns": null,
            "grid_auto_flow": null,
            "grid_auto_rows": null,
            "grid_column": null,
            "grid_gap": null,
            "grid_row": null,
            "grid_template_areas": null,
            "grid_template_columns": null,
            "grid_template_rows": null,
            "height": null,
            "justify_content": null,
            "justify_items": null,
            "left": null,
            "margin": null,
            "max_height": null,
            "max_width": null,
            "min_height": null,
            "min_width": null,
            "object_fit": null,
            "object_position": null,
            "order": null,
            "overflow": null,
            "overflow_x": null,
            "overflow_y": null,
            "padding": null,
            "right": null,
            "top": null,
            "visibility": null,
            "width": null
          }
        },
        "5205dae2927049d895035e30dcc1bbea": {
          "model_module": "@jupyter-widgets/controls",
          "model_name": "ProgressStyleModel",
          "model_module_version": "1.5.0",
          "state": {
            "_model_module": "@jupyter-widgets/controls",
            "_model_module_version": "1.5.0",
            "_model_name": "ProgressStyleModel",
            "_view_count": null,
            "_view_module": "@jupyter-widgets/base",
            "_view_module_version": "1.2.0",
            "_view_name": "StyleView",
            "bar_color": null,
            "description_width": ""
          }
        }
      }
    }
  },
  "cells": [
    {
      "cell_type": "markdown",
      "metadata": {
        "id": "view-in-github",
        "colab_type": "text"
      },
      "source": [
        "<a href=\"https://colab.research.google.com/github/verma-saloni/Thesis-Work/blob/main/4_5_22_1_Sbert_embeddings_extra_xgboost_politifact.ipynb\" target=\"_parent\"><img src=\"https://colab.research.google.com/assets/colab-badge.svg\" alt=\"Open In Colab\"/></a>"
      ]
    },
    {
      "cell_type": "code",
      "execution_count": null,
      "metadata": {
        "id": "1iEcGgC9BwYv"
      },
      "outputs": [],
      "source": [
        "%%capture\n",
        "!pip install -U xgboost sentence-transformers wandb"
      ]
    },
    {
      "cell_type": "code",
      "source": [
        "from pathlib import Path\n",
        "import numpy as np\n",
        "import pandas as pd\n",
        "import re\n",
        "\n",
        "from sentence_transformers import SentenceTransformer \n",
        "\n",
        "from sklearn.model_selection import StratifiedKFold\n",
        "from sklearn.metrics import accuracy_score, f1_score, precision_score, recall_score\n",
        "import xgboost as xgb\n",
        "\n",
        "import wandb\n",
        "from wandb.xgboost import WandbCallback"
      ],
      "metadata": {
        "id": "JxihpCn2BzGw"
      },
      "execution_count": null,
      "outputs": []
    },
    {
      "cell_type": "code",
      "source": [
        "metrics = [accuracy_score, f1_score, precision_score, recall_score]\n",
        "\n",
        "def get_name(score_func):\n",
        "    return score_func.__name__.split(\"_\")[0]\n"
      ],
      "metadata": {
        "id": "rI4IVs_ABzJm"
      },
      "execution_count": null,
      "outputs": []
    },
    {
      "cell_type": "markdown",
      "source": [
        "Load data"
      ],
      "metadata": {
        "id": "ZLUcstlzCM78"
      }
    },
    {
      "cell_type": "code",
      "source": [
        "from google.colab import drive\n",
        "drive.mount('/content/drive')"
      ],
      "metadata": {
        "colab": {
          "base_uri": "https://localhost:8080/"
        },
        "id": "3J8czLOCBzPn",
        "outputId": "69fa9fa5-c905-4f00-9ff8-53f53871234d"
      },
      "execution_count": null,
      "outputs": [
        {
          "output_type": "stream",
          "name": "stdout",
          "text": [
            "Drive already mounted at /content/drive; to attempt to forcibly remount, call drive.mount(\"/content/drive\", force_remount=True).\n"
          ]
        }
      ]
    },
    {
      "cell_type": "code",
      "source": [
        "base_dir = Path(\"/content/drive/MyDrive/\")\n",
        "assert base_dir.exists()"
      ],
      "metadata": {
        "id": "XSbvPF0qBzRs"
      },
      "execution_count": null,
      "outputs": []
    },
    {
      "cell_type": "code",
      "source": [
        "df_fake = pd.read_csv(base_dir/'politifact_fake.csv')\n",
        "df_real = pd.read_csv(base_dir/'politifact_real.csv')\n",
        "df_fake['label']=0\n",
        "df_real['label']=1\n",
        "df_fake.count()"
      ],
      "metadata": {
        "colab": {
          "base_uri": "https://localhost:8080/"
        },
        "id": "T4q2Gci2BzUB",
        "outputId": "533e1646-3989-4087-df85-f6d2b1368e2e"
      },
      "execution_count": null,
      "outputs": [
        {
          "output_type": "execute_result",
          "data": {
            "text/plain": [
              "id           432\n",
              "news_url     428\n",
              "title        432\n",
              "tweet_ids    392\n",
              "label        432\n",
              "dtype: int64"
            ]
          },
          "metadata": {},
          "execution_count": 23
        }
      ]
    },
    {
      "cell_type": "code",
      "source": [
        "df = df_fake.append(df_real)\n",
        "df.reset_index(drop=True, inplace=True)"
      ],
      "metadata": {
        "id": "B16nUA-DBzWI"
      },
      "execution_count": null,
      "outputs": []
    },
    {
      "cell_type": "code",
      "source": [
        "df.head()"
      ],
      "metadata": {
        "colab": {
          "base_uri": "https://localhost:8080/",
          "height": 206
        },
        "id": "8KC3GbylBzYa",
        "outputId": "fe1566d5-b86b-448b-aa73-c68d892e6dec"
      },
      "execution_count": null,
      "outputs": [
        {
          "output_type": "execute_result",
          "data": {
            "text/plain": [
              "                id                                           news_url  \\\n",
              "0  politifact15014          speedtalk.com/forum/viewtopic.php?t=51650   \n",
              "1  politifact15156  politics2020.info/index.php/2018/03/13/court-o...   \n",
              "2  politifact14745  www.nscdscamps.org/blog/category/parenting/467...   \n",
              "3  politifact14355  https://howafrica.com/oscar-pistorius-attempts...   \n",
              "4  politifact15371  http://washingtonsources.org/trump-votes-for-d...   \n",
              "\n",
              "                                               title  \\\n",
              "0  BREAKING: First NFL Team Declares Bankruptcy O...   \n",
              "1  Court Orders Obama To Pay $400 Million In Rest...   \n",
              "2  UPDATE: Second Roy Moore Accuser Works For Mic...   \n",
              "3         Oscar Pistorius Attempts To Commit Suicide   \n",
              "4        Trump Votes For Death Penalty For Being Gay   \n",
              "\n",
              "                                           tweet_ids  label  \n",
              "0  937349434668498944\\t937379378006282240\\t937380...      0  \n",
              "1  972666281441878016\\t972678396575559680\\t972827...      0  \n",
              "2  929405740732870656\\t929439450400264192\\t929439...      0  \n",
              "3  886941526458347521\\t887011300278194176\\t887023...      0  \n",
              "4  915205698212040704\\t915242076681506816\\t915249...      0  "
            ],
            "text/html": [
              "\n",
              "  <div id=\"df-74380178-9fe2-4d35-84ff-8eee6f4c6d6f\">\n",
              "    <div class=\"colab-df-container\">\n",
              "      <div>\n",
              "<style scoped>\n",
              "    .dataframe tbody tr th:only-of-type {\n",
              "        vertical-align: middle;\n",
              "    }\n",
              "\n",
              "    .dataframe tbody tr th {\n",
              "        vertical-align: top;\n",
              "    }\n",
              "\n",
              "    .dataframe thead th {\n",
              "        text-align: right;\n",
              "    }\n",
              "</style>\n",
              "<table border=\"1\" class=\"dataframe\">\n",
              "  <thead>\n",
              "    <tr style=\"text-align: right;\">\n",
              "      <th></th>\n",
              "      <th>id</th>\n",
              "      <th>news_url</th>\n",
              "      <th>title</th>\n",
              "      <th>tweet_ids</th>\n",
              "      <th>label</th>\n",
              "    </tr>\n",
              "  </thead>\n",
              "  <tbody>\n",
              "    <tr>\n",
              "      <th>0</th>\n",
              "      <td>politifact15014</td>\n",
              "      <td>speedtalk.com/forum/viewtopic.php?t=51650</td>\n",
              "      <td>BREAKING: First NFL Team Declares Bankruptcy O...</td>\n",
              "      <td>937349434668498944\\t937379378006282240\\t937380...</td>\n",
              "      <td>0</td>\n",
              "    </tr>\n",
              "    <tr>\n",
              "      <th>1</th>\n",
              "      <td>politifact15156</td>\n",
              "      <td>politics2020.info/index.php/2018/03/13/court-o...</td>\n",
              "      <td>Court Orders Obama To Pay $400 Million In Rest...</td>\n",
              "      <td>972666281441878016\\t972678396575559680\\t972827...</td>\n",
              "      <td>0</td>\n",
              "    </tr>\n",
              "    <tr>\n",
              "      <th>2</th>\n",
              "      <td>politifact14745</td>\n",
              "      <td>www.nscdscamps.org/blog/category/parenting/467...</td>\n",
              "      <td>UPDATE: Second Roy Moore Accuser Works For Mic...</td>\n",
              "      <td>929405740732870656\\t929439450400264192\\t929439...</td>\n",
              "      <td>0</td>\n",
              "    </tr>\n",
              "    <tr>\n",
              "      <th>3</th>\n",
              "      <td>politifact14355</td>\n",
              "      <td>https://howafrica.com/oscar-pistorius-attempts...</td>\n",
              "      <td>Oscar Pistorius Attempts To Commit Suicide</td>\n",
              "      <td>886941526458347521\\t887011300278194176\\t887023...</td>\n",
              "      <td>0</td>\n",
              "    </tr>\n",
              "    <tr>\n",
              "      <th>4</th>\n",
              "      <td>politifact15371</td>\n",
              "      <td>http://washingtonsources.org/trump-votes-for-d...</td>\n",
              "      <td>Trump Votes For Death Penalty For Being Gay</td>\n",
              "      <td>915205698212040704\\t915242076681506816\\t915249...</td>\n",
              "      <td>0</td>\n",
              "    </tr>\n",
              "  </tbody>\n",
              "</table>\n",
              "</div>\n",
              "      <button class=\"colab-df-convert\" onclick=\"convertToInteractive('df-74380178-9fe2-4d35-84ff-8eee6f4c6d6f')\"\n",
              "              title=\"Convert this dataframe to an interactive table.\"\n",
              "              style=\"display:none;\">\n",
              "        \n",
              "  <svg xmlns=\"http://www.w3.org/2000/svg\" height=\"24px\"viewBox=\"0 0 24 24\"\n",
              "       width=\"24px\">\n",
              "    <path d=\"M0 0h24v24H0V0z\" fill=\"none\"/>\n",
              "    <path d=\"M18.56 5.44l.94 2.06.94-2.06 2.06-.94-2.06-.94-.94-2.06-.94 2.06-2.06.94zm-11 1L8.5 8.5l.94-2.06 2.06-.94-2.06-.94L8.5 2.5l-.94 2.06-2.06.94zm10 10l.94 2.06.94-2.06 2.06-.94-2.06-.94-.94-2.06-.94 2.06-2.06.94z\"/><path d=\"M17.41 7.96l-1.37-1.37c-.4-.4-.92-.59-1.43-.59-.52 0-1.04.2-1.43.59L10.3 9.45l-7.72 7.72c-.78.78-.78 2.05 0 2.83L4 21.41c.39.39.9.59 1.41.59.51 0 1.02-.2 1.41-.59l7.78-7.78 2.81-2.81c.8-.78.8-2.07 0-2.86zM5.41 20L4 18.59l7.72-7.72 1.47 1.35L5.41 20z\"/>\n",
              "  </svg>\n",
              "      </button>\n",
              "      \n",
              "  <style>\n",
              "    .colab-df-container {\n",
              "      display:flex;\n",
              "      flex-wrap:wrap;\n",
              "      gap: 12px;\n",
              "    }\n",
              "\n",
              "    .colab-df-convert {\n",
              "      background-color: #E8F0FE;\n",
              "      border: none;\n",
              "      border-radius: 50%;\n",
              "      cursor: pointer;\n",
              "      display: none;\n",
              "      fill: #1967D2;\n",
              "      height: 32px;\n",
              "      padding: 0 0 0 0;\n",
              "      width: 32px;\n",
              "    }\n",
              "\n",
              "    .colab-df-convert:hover {\n",
              "      background-color: #E2EBFA;\n",
              "      box-shadow: 0px 1px 2px rgba(60, 64, 67, 0.3), 0px 1px 3px 1px rgba(60, 64, 67, 0.15);\n",
              "      fill: #174EA6;\n",
              "    }\n",
              "\n",
              "    [theme=dark] .colab-df-convert {\n",
              "      background-color: #3B4455;\n",
              "      fill: #D2E3FC;\n",
              "    }\n",
              "\n",
              "    [theme=dark] .colab-df-convert:hover {\n",
              "      background-color: #434B5C;\n",
              "      box-shadow: 0px 1px 3px 1px rgba(0, 0, 0, 0.15);\n",
              "      filter: drop-shadow(0px 1px 2px rgba(0, 0, 0, 0.3));\n",
              "      fill: #FFFFFF;\n",
              "    }\n",
              "  </style>\n",
              "\n",
              "      <script>\n",
              "        const buttonEl =\n",
              "          document.querySelector('#df-74380178-9fe2-4d35-84ff-8eee6f4c6d6f button.colab-df-convert');\n",
              "        buttonEl.style.display =\n",
              "          google.colab.kernel.accessAllowed ? 'block' : 'none';\n",
              "\n",
              "        async function convertToInteractive(key) {\n",
              "          const element = document.querySelector('#df-74380178-9fe2-4d35-84ff-8eee6f4c6d6f');\n",
              "          const dataTable =\n",
              "            await google.colab.kernel.invokeFunction('convertToInteractive',\n",
              "                                                     [key], {});\n",
              "          if (!dataTable) return;\n",
              "\n",
              "          const docLinkHtml = 'Like what you see? Visit the ' +\n",
              "            '<a target=\"_blank\" href=https://colab.research.google.com/notebooks/data_table.ipynb>data table notebook</a>'\n",
              "            + ' to learn more about interactive tables.';\n",
              "          element.innerHTML = '';\n",
              "          dataTable['output_type'] = 'display_data';\n",
              "          await google.colab.output.renderOutput(dataTable, element);\n",
              "          const docLink = document.createElement('div');\n",
              "          docLink.innerHTML = docLinkHtml;\n",
              "          element.appendChild(docLink);\n",
              "        }\n",
              "      </script>\n",
              "    </div>\n",
              "  </div>\n",
              "  "
            ]
          },
          "metadata": {},
          "execution_count": 25
        }
      ]
    },
    {
      "cell_type": "markdown",
      "source": [
        "Compute emebeddings"
      ],
      "metadata": {
        "id": "G1EznoxgCdpE"
      }
    },
    {
      "cell_type": "code",
      "source": [
        "embedding_file = Path(\"/content/drive/MyDrive/sbert_embeddings.npy\")\n",
        "\n",
        "if embedding_file.exists():\n",
        "    embeddings = np.load(embedding_file)\n",
        "else:\n",
        "    model_id = \"all-mpnet-base-v2\"\n",
        "    model = SentenceTransformer(model_id)\n",
        "\n",
        "    sentences = df.title.to_list()\n",
        "    embeddings = model.encode(sentences, show_progress_bar=True)\n",
        "    np.save(embedding_file, embeddings)"
      ],
      "metadata": {
        "id": "xHYOdkkCBzcY"
      },
      "execution_count": null,
      "outputs": []
    },
    {
      "cell_type": "markdown",
      "source": [
        "Extra features: add more features here, if all looks good. "
      ],
      "metadata": {
        "id": "qqw_UnllCn1c"
      }
    },
    {
      "cell_type": "markdown",
      "source": [
        "Source"
      ],
      "metadata": {
        "id": "zzq-rqVnCuHT"
      }
    },
    {
      "cell_type": "code",
      "source": [
        "source = df.news_url.str.replace(\"^(https://)?web.archive.org/web/\\d+/\", \"\", regex=True)"
      ],
      "metadata": {
        "id": "WKUFMxStBzeu"
      },
      "execution_count": null,
      "outputs": []
    },
    {
      "cell_type": "code",
      "source": [
        "source = source.str.replace(\"^(https?://)?(www.)?\", \"\", regex=True)"
      ],
      "metadata": {
        "id": "ytgu33w0BzhE"
      },
      "execution_count": null,
      "outputs": []
    },
    {
      "cell_type": "code",
      "source": [
        "source = source.str.replace(\"\\.(com|info|org|gov|tv|us|news|me|co.uk|net|club|co|live|edu|xyz|site|life|ru|online|tk|website|pw|one|world|mil).*$\", \"\", regex=True)"
      ],
      "metadata": {
        "id": "Nv-qlAWQBzi4"
      },
      "execution_count": null,
      "outputs": []
    },
    {
      "cell_type": "code",
      "source": [
        "len(source), len(source.unique())\n"
      ],
      "metadata": {
        "colab": {
          "base_uri": "https://localhost:8080/"
        },
        "id": "aZi6nvQJBzku",
        "outputId": "0e037388-f992-44c4-dc04-9250f5a39a0a"
      },
      "execution_count": null,
      "outputs": [
        {
          "output_type": "execute_result",
          "data": {
            "text/plain": [
              "(1056, 526)"
            ]
          },
          "metadata": {},
          "execution_count": 30
        }
      ]
    },
    {
      "cell_type": "markdown",
      "source": [
        "Number of retweets"
      ],
      "metadata": {
        "id": "safAA7AFC6_-"
      }
    },
    {
      "cell_type": "code",
      "source": [
        "df[\"num_retweets\"] = df.tweet_ids.fillna(\"\").map(lambda x: len(str(x).split(\"\\t\")) if len(x) else 0)\n",
        "df[\"log_num_retweets\"] = np.log(df.num_retweets.to_numpy() + 1)"
      ],
      "metadata": {
        "id": "OOhnH2NEBzmy"
      },
      "execution_count": null,
      "outputs": []
    },
    {
      "cell_type": "code",
      "source": [
        "df.describe()"
      ],
      "metadata": {
        "colab": {
          "base_uri": "https://localhost:8080/",
          "height": 300
        },
        "id": "DFl9XjIbBzo-",
        "outputId": "c9fc3f27-b3ee-4c69-ef62-995ae02318a9"
      },
      "execution_count": null,
      "outputs": [
        {
          "output_type": "execute_result",
          "data": {
            "text/plain": [
              "             label  num_retweets  log_num_retweets\n",
              "count  1056.000000   1056.000000       1056.000000\n",
              "mean      0.590909    552.571970          3.363832\n",
              "std       0.491899   2126.317823          2.704599\n",
              "min       0.000000      0.000000          0.000000\n",
              "25%       0.000000      1.000000          0.693147\n",
              "50%       1.000000     30.000000          3.433987\n",
              "75%       1.000000    246.250000          5.510398\n",
              "max       1.000000  29060.000000         10.277152"
            ],
            "text/html": [
              "\n",
              "  <div id=\"df-ae63160c-0db2-410e-84bb-186e27d4e680\">\n",
              "    <div class=\"colab-df-container\">\n",
              "      <div>\n",
              "<style scoped>\n",
              "    .dataframe tbody tr th:only-of-type {\n",
              "        vertical-align: middle;\n",
              "    }\n",
              "\n",
              "    .dataframe tbody tr th {\n",
              "        vertical-align: top;\n",
              "    }\n",
              "\n",
              "    .dataframe thead th {\n",
              "        text-align: right;\n",
              "    }\n",
              "</style>\n",
              "<table border=\"1\" class=\"dataframe\">\n",
              "  <thead>\n",
              "    <tr style=\"text-align: right;\">\n",
              "      <th></th>\n",
              "      <th>label</th>\n",
              "      <th>num_retweets</th>\n",
              "      <th>log_num_retweets</th>\n",
              "    </tr>\n",
              "  </thead>\n",
              "  <tbody>\n",
              "    <tr>\n",
              "      <th>count</th>\n",
              "      <td>1056.000000</td>\n",
              "      <td>1056.000000</td>\n",
              "      <td>1056.000000</td>\n",
              "    </tr>\n",
              "    <tr>\n",
              "      <th>mean</th>\n",
              "      <td>0.590909</td>\n",
              "      <td>552.571970</td>\n",
              "      <td>3.363832</td>\n",
              "    </tr>\n",
              "    <tr>\n",
              "      <th>std</th>\n",
              "      <td>0.491899</td>\n",
              "      <td>2126.317823</td>\n",
              "      <td>2.704599</td>\n",
              "    </tr>\n",
              "    <tr>\n",
              "      <th>min</th>\n",
              "      <td>0.000000</td>\n",
              "      <td>0.000000</td>\n",
              "      <td>0.000000</td>\n",
              "    </tr>\n",
              "    <tr>\n",
              "      <th>25%</th>\n",
              "      <td>0.000000</td>\n",
              "      <td>1.000000</td>\n",
              "      <td>0.693147</td>\n",
              "    </tr>\n",
              "    <tr>\n",
              "      <th>50%</th>\n",
              "      <td>1.000000</td>\n",
              "      <td>30.000000</td>\n",
              "      <td>3.433987</td>\n",
              "    </tr>\n",
              "    <tr>\n",
              "      <th>75%</th>\n",
              "      <td>1.000000</td>\n",
              "      <td>246.250000</td>\n",
              "      <td>5.510398</td>\n",
              "    </tr>\n",
              "    <tr>\n",
              "      <th>max</th>\n",
              "      <td>1.000000</td>\n",
              "      <td>29060.000000</td>\n",
              "      <td>10.277152</td>\n",
              "    </tr>\n",
              "  </tbody>\n",
              "</table>\n",
              "</div>\n",
              "      <button class=\"colab-df-convert\" onclick=\"convertToInteractive('df-ae63160c-0db2-410e-84bb-186e27d4e680')\"\n",
              "              title=\"Convert this dataframe to an interactive table.\"\n",
              "              style=\"display:none;\">\n",
              "        \n",
              "  <svg xmlns=\"http://www.w3.org/2000/svg\" height=\"24px\"viewBox=\"0 0 24 24\"\n",
              "       width=\"24px\">\n",
              "    <path d=\"M0 0h24v24H0V0z\" fill=\"none\"/>\n",
              "    <path d=\"M18.56 5.44l.94 2.06.94-2.06 2.06-.94-2.06-.94-.94-2.06-.94 2.06-2.06.94zm-11 1L8.5 8.5l.94-2.06 2.06-.94-2.06-.94L8.5 2.5l-.94 2.06-2.06.94zm10 10l.94 2.06.94-2.06 2.06-.94-2.06-.94-.94-2.06-.94 2.06-2.06.94z\"/><path d=\"M17.41 7.96l-1.37-1.37c-.4-.4-.92-.59-1.43-.59-.52 0-1.04.2-1.43.59L10.3 9.45l-7.72 7.72c-.78.78-.78 2.05 0 2.83L4 21.41c.39.39.9.59 1.41.59.51 0 1.02-.2 1.41-.59l7.78-7.78 2.81-2.81c.8-.78.8-2.07 0-2.86zM5.41 20L4 18.59l7.72-7.72 1.47 1.35L5.41 20z\"/>\n",
              "  </svg>\n",
              "      </button>\n",
              "      \n",
              "  <style>\n",
              "    .colab-df-container {\n",
              "      display:flex;\n",
              "      flex-wrap:wrap;\n",
              "      gap: 12px;\n",
              "    }\n",
              "\n",
              "    .colab-df-convert {\n",
              "      background-color: #E8F0FE;\n",
              "      border: none;\n",
              "      border-radius: 50%;\n",
              "      cursor: pointer;\n",
              "      display: none;\n",
              "      fill: #1967D2;\n",
              "      height: 32px;\n",
              "      padding: 0 0 0 0;\n",
              "      width: 32px;\n",
              "    }\n",
              "\n",
              "    .colab-df-convert:hover {\n",
              "      background-color: #E2EBFA;\n",
              "      box-shadow: 0px 1px 2px rgba(60, 64, 67, 0.3), 0px 1px 3px 1px rgba(60, 64, 67, 0.15);\n",
              "      fill: #174EA6;\n",
              "    }\n",
              "\n",
              "    [theme=dark] .colab-df-convert {\n",
              "      background-color: #3B4455;\n",
              "      fill: #D2E3FC;\n",
              "    }\n",
              "\n",
              "    [theme=dark] .colab-df-convert:hover {\n",
              "      background-color: #434B5C;\n",
              "      box-shadow: 0px 1px 3px 1px rgba(0, 0, 0, 0.15);\n",
              "      filter: drop-shadow(0px 1px 2px rgba(0, 0, 0, 0.3));\n",
              "      fill: #FFFFFF;\n",
              "    }\n",
              "  </style>\n",
              "\n",
              "      <script>\n",
              "        const buttonEl =\n",
              "          document.querySelector('#df-ae63160c-0db2-410e-84bb-186e27d4e680 button.colab-df-convert');\n",
              "        buttonEl.style.display =\n",
              "          google.colab.kernel.accessAllowed ? 'block' : 'none';\n",
              "\n",
              "        async function convertToInteractive(key) {\n",
              "          const element = document.querySelector('#df-ae63160c-0db2-410e-84bb-186e27d4e680');\n",
              "          const dataTable =\n",
              "            await google.colab.kernel.invokeFunction('convertToInteractive',\n",
              "                                                     [key], {});\n",
              "          if (!dataTable) return;\n",
              "\n",
              "          const docLinkHtml = 'Like what you see? Visit the ' +\n",
              "            '<a target=\"_blank\" href=https://colab.research.google.com/notebooks/data_table.ipynb>data table notebook</a>'\n",
              "            + ' to learn more about interactive tables.';\n",
              "          element.innerHTML = '';\n",
              "          dataTable['output_type'] = 'display_data';\n",
              "          await google.colab.output.renderOutput(dataTable, element);\n",
              "          const docLink = document.createElement('div');\n",
              "          docLink.innerHTML = docLinkHtml;\n",
              "          element.appendChild(docLink);\n",
              "        }\n",
              "      </script>\n",
              "    </div>\n",
              "  </div>\n",
              "  "
            ]
          },
          "metadata": {},
          "execution_count": 32
        }
      ]
    },
    {
      "cell_type": "markdown",
      "source": [
        "More to come here.."
      ],
      "metadata": {
        "id": "fxBbssjRDaGJ"
      }
    },
    {
      "cell_type": "markdown",
      "source": [
        "Training"
      ],
      "metadata": {
        "id": "hWRC7hNADZXy"
      }
    },
    {
      "cell_type": "code",
      "source": [
        "X = np.concatenate([embeddings, df.log_num_retweets.to_numpy()[..., None]], axis=1)\n",
        "y = df.label.to_numpy()\n",
        "\n",
        "X.shape, y.shape"
      ],
      "metadata": {
        "colab": {
          "base_uri": "https://localhost:8080/"
        },
        "id": "bwI8wqvqDdZy",
        "outputId": "ec2df578-ec38-469b-c90a-2a64ff041d0a"
      },
      "execution_count": null,
      "outputs": [
        {
          "output_type": "execute_result",
          "data": {
            "text/plain": [
              "((1056, 769), (1056,))"
            ]
          },
          "metadata": {},
          "execution_count": 33
        }
      ]
    },
    {
      "cell_type": "code",
      "source": [
        "skf = StratifiedKFold(shuffle=True, random_state=124)"
      ],
      "metadata": {
        "id": "oEhyMwR7DdiY"
      },
      "execution_count": null,
      "outputs": []
    },
    {
      "cell_type": "code",
      "source": [
        "def train(train_idx, test_idx, params):\n",
        "\n",
        "    # training\n",
        "    X_train, X_test = X[train_idx], X[test_idx]\n",
        "    y_train, y_test = y[train_idx], y[test_idx]\n",
        "    dtrain = xgb.DMatrix(X_train, label=y_train)\n",
        "    dtest = xgb.DMatrix(X_test, label=y_test)\n",
        "    watchlist = [(dtrain,'train'), (dtest,'eval')]\n",
        "    clf = xgb.train(params, dtrain, num_boost_round=100, early_stopping_rounds=None, evals=watchlist, callbacks=[WandbCallback()])\n",
        "    #evaluation\n",
        "    probs = clf.predict(dtest)\n",
        "    y_pred = (probs > 0.5).astype(int)\n",
        "    eval_results = {get_name(f):f(y_pred=y_pred, y_true=y_test) for f in metrics}\n",
        "    wandb.log(eval_results)\n",
        "    wandb.log({\"conf_mat\" : wandb.plot.confusion_matrix(probs=None,\n",
        "                            y_true=y_test, preds=y_pred,\n",
        "                            class_names=[\"Fake\", \"Real\"])})"
      ],
      "metadata": {
        "id": "hhS6QNeWDdk_"
      },
      "execution_count": null,
      "outputs": []
    },
    {
      "cell_type": "code",
      "source": [
        "params = {\n",
        "    \"objective\":'binary:logistic',\n",
        "    \"seed\":124\n",
        "}"
      ],
      "metadata": {
        "id": "jRnADhK4Ddnm"
      },
      "execution_count": null,
      "outputs": []
    },
    {
      "cell_type": "code",
      "source": [
        "for fold_id, (train_idx, test_idx) in enumerate(skf.split(X, y)):\n",
        "    with wandb.init(entity=\"saloniteam\", project=\"fnd\", group=\"sbert-mpnet-v2+lnt-xgb\", name=f\"sbert-mpnet-v2+xgb-fold-{fold_id}\") as run:\n",
        "        train(train_idx, test_idx, params)"
      ],
      "metadata": {
        "colab": {
          "base_uri": "https://localhost:8080/",
          "height": 1000,
          "referenced_widgets": [
            "9d47953f71e148dba44cd6bc93086be4",
            "18ef20d4580648de90913d4a178f3b47",
            "717ee8c965a14385a78b51a7918e35ee",
            "7f22522e95e743c9a877e9f3738a69e0",
            "eb9741b5c99d4721b4f598ee63cdfd60",
            "ab01468617144349af450384f0bc5b03",
            "5a763b2157004d418db8410cd5351986",
            "dd04460983644e14b233993fcfb3bb3c",
            "6f20efe6f7db446fb96f68e3a3269db0",
            "5f0ab9c004c3479c8df36272f87a9db2",
            "e2c1a843196444e2ac26df4c6f7dc860",
            "0870cfb2a84f44838714cfe4a00193ba",
            "d6d33fe989e7472b92d8b2cb7b0a096b",
            "1ae9a1b9322a47da8e96aa1d64151942",
            "2b497ea50ad04b76be54783bb09affc7",
            "de18767b657841ca8291954253757552",
            "f9231b552a494a7f9f180133cfb8ff1f",
            "93e98e16565e4483a1b4286e773ea48c",
            "ecee7dc7e66d48c89124e2d9f09187ec",
            "bf08e18bc1d243329bec9335ea6cecdc",
            "85a5df76bb1f468998abb815a28fa1cf",
            "f3808cd906f8475792d5735e57b9bb9c",
            "3f069521b6ae445b82c2a2b1288fedfe",
            "d6dca618258542b4bdfc3ba029cb31d7",
            "6d95d93a2a524a30a61e2ef09b21ddc5",
            "046e621bff8c49d79fa930c445ed4718",
            "ec9001d1196c4cbfadf366e3fdd47b4e",
            "2310214a35554cd097dfeb68196620c0",
            "30fd6f5093b64de785903ec76b5f6c2e",
            "a783fbee5eb5453cbeaa70025359ece6",
            "22734ef702ba44f0bdef34bcd29dd1ee",
            "5f8c9b4264664b06bd62705f5f3684b9",
            "fa24ae85ab6d484ca7e7e9fd68b2c53c",
            "da987249fab54ef7b17bdf47d9bd0fc0",
            "87af1a1f841e4f85bd23769efdba83ce",
            "15a1bc70842a44bdbc91ab1743dd482c",
            "fbea84c0340f443bb3828b51c62347d2",
            "b9fffcd42ffd46e19a06d50fa41f39fa",
            "39276f431a2648de83b101fe530c1bb6",
            "5205dae2927049d895035e30dcc1bbea"
          ]
        },
        "id": "vItaFsjnDdp8",
        "outputId": "f0c5e82d-7985-4f7f-b554-5986a993d2b1"
      },
      "execution_count": null,
      "outputs": [
        {
          "output_type": "display_data",
          "data": {
            "text/plain": [
              "<IPython.core.display.Javascript object>"
            ],
            "application/javascript": [
              "\n",
              "        window._wandbApiKey = new Promise((resolve, reject) => {\n",
              "            function loadScript(url) {\n",
              "            return new Promise(function(resolve, reject) {\n",
              "                let newScript = document.createElement(\"script\");\n",
              "                newScript.onerror = reject;\n",
              "                newScript.onload = resolve;\n",
              "                document.body.appendChild(newScript);\n",
              "                newScript.src = url;\n",
              "            });\n",
              "            }\n",
              "            loadScript(\"https://cdn.jsdelivr.net/npm/postmate/build/postmate.min.js\").then(() => {\n",
              "            const iframe = document.createElement('iframe')\n",
              "            iframe.style.cssText = \"width:0;height:0;border:none\"\n",
              "            document.body.appendChild(iframe)\n",
              "            const handshake = new Postmate({\n",
              "                container: iframe,\n",
              "                url: 'https://wandb.ai/authorize'\n",
              "            });\n",
              "            const timeout = setTimeout(() => reject(\"Couldn't auto authenticate\"), 5000)\n",
              "            handshake.then(function(child) {\n",
              "                child.on('authorize', data => {\n",
              "                    clearTimeout(timeout)\n",
              "                    resolve(data)\n",
              "                });\n",
              "            });\n",
              "            })\n",
              "        });\n",
              "    "
            ]
          },
          "metadata": {}
        },
        {
          "output_type": "stream",
          "name": "stderr",
          "text": [
            "\u001b[34m\u001b[1mwandb\u001b[0m: Appending key for api.wandb.ai to your netrc file: /root/.netrc\n"
          ]
        },
        {
          "output_type": "display_data",
          "data": {
            "text/plain": [
              "<IPython.core.display.HTML object>"
            ],
            "text/html": [
              "Tracking run with wandb version 0.12.14"
            ]
          },
          "metadata": {}
        },
        {
          "output_type": "display_data",
          "data": {
            "text/plain": [
              "<IPython.core.display.HTML object>"
            ],
            "text/html": [
              "Run data is saved locally in <code>/content/wandb/run-20220421_075514-37ic752f</code>"
            ]
          },
          "metadata": {}
        },
        {
          "output_type": "display_data",
          "data": {
            "text/plain": [
              "<IPython.core.display.HTML object>"
            ],
            "text/html": [
              "Syncing run <strong><a href=\"https://wandb.ai/saloniteam/fnd/runs/37ic752f\" target=\"_blank\">sbert-mpnet-v2+xgb-fold-0</a></strong> to <a href=\"https://wandb.ai/saloniteam/fnd\" target=\"_blank\">Weights & Biases</a> (<a href=\"https://wandb.me/run\" target=\"_blank\">docs</a>)<br/>"
            ]
          },
          "metadata": {}
        },
        {
          "output_type": "stream",
          "name": "stdout",
          "text": [
            "[0]\ttrain-logloss:0.49849\teval-logloss:0.58610\n",
            "[1]\ttrain-logloss:0.37901\teval-logloss:0.50565\n",
            "[2]\ttrain-logloss:0.29266\teval-logloss:0.44708\n",
            "[3]\ttrain-logloss:0.23140\teval-logloss:0.41384\n",
            "[4]\ttrain-logloss:0.18511\teval-logloss:0.38660\n",
            "[5]\ttrain-logloss:0.15363\teval-logloss:0.36962\n",
            "[6]\ttrain-logloss:0.12667\teval-logloss:0.34499\n",
            "[7]\ttrain-logloss:0.10608\teval-logloss:0.33883\n",
            "[8]\ttrain-logloss:0.09053\teval-logloss:0.32773\n",
            "[9]\ttrain-logloss:0.07714\teval-logloss:0.32147\n",
            "[10]\ttrain-logloss:0.06679\teval-logloss:0.31234\n",
            "[11]\ttrain-logloss:0.05845\teval-logloss:0.30866\n",
            "[12]\ttrain-logloss:0.05152\teval-logloss:0.30468\n",
            "[13]\ttrain-logloss:0.04586\teval-logloss:0.29732\n",
            "[14]\ttrain-logloss:0.04089\teval-logloss:0.29311\n",
            "[15]\ttrain-logloss:0.03713\teval-logloss:0.28604\n",
            "[16]\ttrain-logloss:0.03365\teval-logloss:0.28250\n",
            "[17]\ttrain-logloss:0.03086\teval-logloss:0.27879\n",
            "[18]\ttrain-logloss:0.02857\teval-logloss:0.27749\n",
            "[19]\ttrain-logloss:0.02652\teval-logloss:0.27341\n",
            "[20]\ttrain-logloss:0.02481\teval-logloss:0.27075\n",
            "[21]\ttrain-logloss:0.02324\teval-logloss:0.27112\n",
            "[22]\ttrain-logloss:0.02182\teval-logloss:0.27075\n",
            "[23]\ttrain-logloss:0.02069\teval-logloss:0.27006\n",
            "[24]\ttrain-logloss:0.01957\teval-logloss:0.26948\n",
            "[25]\ttrain-logloss:0.01860\teval-logloss:0.27250\n",
            "[26]\ttrain-logloss:0.01768\teval-logloss:0.27604\n",
            "[27]\ttrain-logloss:0.01679\teval-logloss:0.27278\n",
            "[28]\ttrain-logloss:0.01606\teval-logloss:0.27310\n",
            "[29]\ttrain-logloss:0.01539\teval-logloss:0.27030\n",
            "[30]\ttrain-logloss:0.01481\teval-logloss:0.26935\n",
            "[31]\ttrain-logloss:0.01420\teval-logloss:0.26877\n",
            "[32]\ttrain-logloss:0.01372\teval-logloss:0.26620\n",
            "[33]\ttrain-logloss:0.01323\teval-logloss:0.26858\n",
            "[34]\ttrain-logloss:0.01278\teval-logloss:0.26841\n",
            "[35]\ttrain-logloss:0.01237\teval-logloss:0.27077\n",
            "[36]\ttrain-logloss:0.01202\teval-logloss:0.26986\n",
            "[37]\ttrain-logloss:0.01171\teval-logloss:0.27002\n",
            "[38]\ttrain-logloss:0.01140\teval-logloss:0.26968\n",
            "[39]\ttrain-logloss:0.01108\teval-logloss:0.26967\n",
            "[40]\ttrain-logloss:0.01080\teval-logloss:0.26967\n",
            "[41]\ttrain-logloss:0.01054\teval-logloss:0.27186\n",
            "[42]\ttrain-logloss:0.01026\teval-logloss:0.27108\n",
            "[43]\ttrain-logloss:0.01003\teval-logloss:0.27200\n",
            "[44]\ttrain-logloss:0.00987\teval-logloss:0.27170\n",
            "[45]\ttrain-logloss:0.00969\teval-logloss:0.27339\n",
            "[46]\ttrain-logloss:0.00948\teval-logloss:0.27421\n",
            "[47]\ttrain-logloss:0.00930\teval-logloss:0.27474\n",
            "[48]\ttrain-logloss:0.00912\teval-logloss:0.27615\n",
            "[49]\ttrain-logloss:0.00893\teval-logloss:0.27560\n",
            "[50]\ttrain-logloss:0.00879\teval-logloss:0.27727\n",
            "[51]\ttrain-logloss:0.00866\teval-logloss:0.27721\n",
            "[52]\ttrain-logloss:0.00851\teval-logloss:0.27949\n",
            "[53]\ttrain-logloss:0.00840\teval-logloss:0.27989\n",
            "[54]\ttrain-logloss:0.00826\teval-logloss:0.28120\n",
            "[55]\ttrain-logloss:0.00812\teval-logloss:0.27984\n",
            "[56]\ttrain-logloss:0.00801\teval-logloss:0.28144\n",
            "[57]\ttrain-logloss:0.00789\teval-logloss:0.28072\n",
            "[58]\ttrain-logloss:0.00776\teval-logloss:0.28157\n",
            "[59]\ttrain-logloss:0.00767\teval-logloss:0.28067\n",
            "[60]\ttrain-logloss:0.00758\teval-logloss:0.28271\n",
            "[61]\ttrain-logloss:0.00748\teval-logloss:0.28431\n",
            "[62]\ttrain-logloss:0.00740\teval-logloss:0.28404\n",
            "[63]\ttrain-logloss:0.00733\teval-logloss:0.28512\n",
            "[64]\ttrain-logloss:0.00726\teval-logloss:0.28299\n",
            "[65]\ttrain-logloss:0.00720\teval-logloss:0.28170\n",
            "[66]\ttrain-logloss:0.00712\teval-logloss:0.28019\n",
            "[67]\ttrain-logloss:0.00704\teval-logloss:0.27962\n",
            "[68]\ttrain-logloss:0.00697\teval-logloss:0.27928\n",
            "[69]\ttrain-logloss:0.00690\teval-logloss:0.27981\n",
            "[70]\ttrain-logloss:0.00683\teval-logloss:0.28010\n",
            "[71]\ttrain-logloss:0.00675\teval-logloss:0.27861\n",
            "[72]\ttrain-logloss:0.00669\teval-logloss:0.27816\n",
            "[73]\ttrain-logloss:0.00662\teval-logloss:0.27860\n",
            "[74]\ttrain-logloss:0.00657\teval-logloss:0.27881\n",
            "[75]\ttrain-logloss:0.00651\teval-logloss:0.27874\n",
            "[76]\ttrain-logloss:0.00645\teval-logloss:0.27998\n",
            "[77]\ttrain-logloss:0.00639\teval-logloss:0.27831\n",
            "[78]\ttrain-logloss:0.00635\teval-logloss:0.27696\n",
            "[79]\ttrain-logloss:0.00628\teval-logloss:0.27689\n",
            "[80]\ttrain-logloss:0.00622\teval-logloss:0.27662\n",
            "[81]\ttrain-logloss:0.00618\teval-logloss:0.27579\n",
            "[82]\ttrain-logloss:0.00613\teval-logloss:0.27561\n",
            "[83]\ttrain-logloss:0.00608\teval-logloss:0.27573\n",
            "[84]\ttrain-logloss:0.00605\teval-logloss:0.27616\n",
            "[85]\ttrain-logloss:0.00601\teval-logloss:0.27765\n",
            "[86]\ttrain-logloss:0.00597\teval-logloss:0.27693\n",
            "[87]\ttrain-logloss:0.00594\teval-logloss:0.27700\n",
            "[88]\ttrain-logloss:0.00590\teval-logloss:0.27817\n",
            "[89]\ttrain-logloss:0.00586\teval-logloss:0.27819\n",
            "[90]\ttrain-logloss:0.00583\teval-logloss:0.27826\n",
            "[91]\ttrain-logloss:0.00579\teval-logloss:0.27696\n",
            "[92]\ttrain-logloss:0.00575\teval-logloss:0.27794\n",
            "[93]\ttrain-logloss:0.00571\teval-logloss:0.27783\n",
            "[94]\ttrain-logloss:0.00568\teval-logloss:0.27827\n",
            "[95]\ttrain-logloss:0.00565\teval-logloss:0.27908\n",
            "[96]\ttrain-logloss:0.00561\teval-logloss:0.27892\n",
            "[97]\ttrain-logloss:0.00557\teval-logloss:0.27919\n",
            "[98]\ttrain-logloss:0.00554\teval-logloss:0.27958\n",
            "[99]\ttrain-logloss:0.00553\teval-logloss:0.27951\n",
            "\n"
          ]
        },
        {
          "output_type": "display_data",
          "data": {
            "text/plain": [
              "<IPython.core.display.HTML object>"
            ],
            "text/html": [
              "Waiting for W&B process to finish... <strong style=\"color:green\">(success).</strong>"
            ]
          },
          "metadata": {}
        },
        {
          "output_type": "display_data",
          "data": {
            "text/plain": [
              "VBox(children=(Label(value='0.020 MB of 0.020 MB uploaded (0.000 MB deduped)\\r'), FloatProgress(value=0.992643…"
            ],
            "application/vnd.jupyter.widget-view+json": {
              "version_major": 2,
              "version_minor": 0,
              "model_id": "9d47953f71e148dba44cd6bc93086be4"
            }
          },
          "metadata": {}
        },
        {
          "output_type": "display_data",
          "data": {
            "text/plain": [
              "<IPython.core.display.HTML object>"
            ],
            "text/html": [
              "<style>\n",
              "    table.wandb td:nth-child(1) { padding: 0 10px; text-align: right }\n",
              "    .wandb-row { display: flex; flex-direction: row; flex-wrap: wrap; width: 100% }\n",
              "    .wandb-col { display: flex; flex-direction: column; flex-basis: 100%; flex: 1; padding: 10px; }\n",
              "    </style>\n",
              "<div class=\"wandb-row\"><div class=\"wandb-col\"><h3>Run history:</h3><br/><table class=\"wandb\"><tr><td>accuracy</td><td>▁</td></tr><tr><td>epoch</td><td>▁▁▁▁▂▂▂▂▂▃▃▃▃▃▃▄▄▄▄▄▅▅▅▅▅▅▆▆▆▆▆▇▇▇▇▇▇███</td></tr><tr><td>eval-logloss</td><td>█▅▃▃▂▂▁▁▁▁▁▁▁▁▁▁▁▁▁▁▁▁▁▁▁▁▁▁▁▁▁▁▁▁▁▁▁▁▁▁</td></tr><tr><td>f1</td><td>▁</td></tr><tr><td>precision</td><td>▁</td></tr><tr><td>recall</td><td>▁</td></tr><tr><td>train-logloss</td><td>█▅▃▂▂▂▁▁▁▁▁▁▁▁▁▁▁▁▁▁▁▁▁▁▁▁▁▁▁▁▁▁▁▁▁▁▁▁▁▁</td></tr></table><br/></div><div class=\"wandb-col\"><h3>Run summary:</h3><br/><table class=\"wandb\"><tr><td>accuracy</td><td>0.89623</td></tr><tr><td>epoch</td><td>99</td></tr><tr><td>f1</td><td>0.91406</td></tr><tr><td>precision</td><td>0.89313</td></tr><tr><td>recall</td><td>0.936</td></tr></table><br/></div></div>"
            ]
          },
          "metadata": {}
        },
        {
          "output_type": "display_data",
          "data": {
            "text/plain": [
              "<IPython.core.display.HTML object>"
            ],
            "text/html": [
              "Synced <strong style=\"color:#cdcd00\">sbert-mpnet-v2+xgb-fold-0</strong>: <a href=\"https://wandb.ai/saloniteam/fnd/runs/37ic752f\" target=\"_blank\">https://wandb.ai/saloniteam/fnd/runs/37ic752f</a><br/>Synced 5 W&B file(s), 2 media file(s), 2 artifact file(s) and 0 other file(s)"
            ]
          },
          "metadata": {}
        },
        {
          "output_type": "display_data",
          "data": {
            "text/plain": [
              "<IPython.core.display.HTML object>"
            ],
            "text/html": [
              "Find logs at: <code>./wandb/run-20220421_075514-37ic752f/logs</code>"
            ]
          },
          "metadata": {}
        },
        {
          "output_type": "stream",
          "name": "stderr",
          "text": [
            "\u001b[34m\u001b[1mwandb\u001b[0m: Currently logged in as: \u001b[33msaloniteam\u001b[0m (use `wandb login --relogin` to force relogin)\n"
          ]
        },
        {
          "output_type": "display_data",
          "data": {
            "text/plain": [
              "<IPython.core.display.HTML object>"
            ],
            "text/html": [
              "Tracking run with wandb version 0.12.14"
            ]
          },
          "metadata": {}
        },
        {
          "output_type": "display_data",
          "data": {
            "text/plain": [
              "<IPython.core.display.HTML object>"
            ],
            "text/html": [
              "Run data is saved locally in <code>/content/wandb/run-20220421_075543-ec25nwsw</code>"
            ]
          },
          "metadata": {}
        },
        {
          "output_type": "display_data",
          "data": {
            "text/plain": [
              "<IPython.core.display.HTML object>"
            ],
            "text/html": [
              "Syncing run <strong><a href=\"https://wandb.ai/saloniteam/fnd/runs/ec25nwsw\" target=\"_blank\">sbert-mpnet-v2+xgb-fold-1</a></strong> to <a href=\"https://wandb.ai/saloniteam/fnd\" target=\"_blank\">Weights & Biases</a> (<a href=\"https://wandb.me/run\" target=\"_blank\">docs</a>)<br/>"
            ]
          },
          "metadata": {}
        },
        {
          "output_type": "stream",
          "name": "stdout",
          "text": [
            "[0]\ttrain-logloss:0.50387\teval-logloss:0.59078\n",
            "[1]\ttrain-logloss:0.37930\teval-logloss:0.50672\n",
            "[2]\ttrain-logloss:0.29503\teval-logloss:0.46410\n",
            "[3]\ttrain-logloss:0.23637\teval-logloss:0.42757\n",
            "[4]\ttrain-logloss:0.18915\teval-logloss:0.39747\n",
            "[5]\ttrain-logloss:0.15388\teval-logloss:0.37551\n",
            "[6]\ttrain-logloss:0.12860\teval-logloss:0.36201\n",
            "[7]\ttrain-logloss:0.10971\teval-logloss:0.34939\n",
            "[8]\ttrain-logloss:0.09309\teval-logloss:0.33636\n",
            "[9]\ttrain-logloss:0.07964\teval-logloss:0.32171\n",
            "[10]\ttrain-logloss:0.06920\teval-logloss:0.31029\n",
            "[11]\ttrain-logloss:0.06062\teval-logloss:0.30451\n",
            "[12]\ttrain-logloss:0.05357\teval-logloss:0.30012\n",
            "[13]\ttrain-logloss:0.04794\teval-logloss:0.30056\n",
            "[14]\ttrain-logloss:0.04266\teval-logloss:0.29977\n",
            "[15]\ttrain-logloss:0.03883\teval-logloss:0.29412\n",
            "[16]\ttrain-logloss:0.03549\teval-logloss:0.29326\n",
            "[17]\ttrain-logloss:0.03260\teval-logloss:0.29213\n",
            "[18]\ttrain-logloss:0.03022\teval-logloss:0.29230\n",
            "[19]\ttrain-logloss:0.02813\teval-logloss:0.28887\n",
            "[20]\ttrain-logloss:0.02636\teval-logloss:0.28893\n",
            "[21]\ttrain-logloss:0.02474\teval-logloss:0.28788\n",
            "[22]\ttrain-logloss:0.02332\teval-logloss:0.28357\n",
            "[23]\ttrain-logloss:0.02199\teval-logloss:0.28033\n",
            "[24]\ttrain-logloss:0.02088\teval-logloss:0.27907\n",
            "[25]\ttrain-logloss:0.01980\teval-logloss:0.27974\n",
            "[26]\ttrain-logloss:0.01883\teval-logloss:0.28324\n",
            "[27]\ttrain-logloss:0.01801\teval-logloss:0.28377\n",
            "[28]\ttrain-logloss:0.01729\teval-logloss:0.28436\n",
            "[29]\ttrain-logloss:0.01671\teval-logloss:0.28546\n",
            "[30]\ttrain-logloss:0.01610\teval-logloss:0.29176\n",
            "[31]\ttrain-logloss:0.01557\teval-logloss:0.29323\n",
            "[32]\ttrain-logloss:0.01507\teval-logloss:0.29650\n",
            "[33]\ttrain-logloss:0.01465\teval-logloss:0.29774\n",
            "[34]\ttrain-logloss:0.01425\teval-logloss:0.29800\n",
            "[35]\ttrain-logloss:0.01387\teval-logloss:0.29416\n",
            "[36]\ttrain-logloss:0.01346\teval-logloss:0.29566\n",
            "[37]\ttrain-logloss:0.01314\teval-logloss:0.29635\n",
            "[38]\ttrain-logloss:0.01283\teval-logloss:0.30030\n",
            "[39]\ttrain-logloss:0.01249\teval-logloss:0.30025\n",
            "[40]\ttrain-logloss:0.01223\teval-logloss:0.29968\n",
            "[41]\ttrain-logloss:0.01198\teval-logloss:0.29937\n",
            "[42]\ttrain-logloss:0.01177\teval-logloss:0.30192\n",
            "[43]\ttrain-logloss:0.01154\teval-logloss:0.30083\n",
            "[44]\ttrain-logloss:0.01135\teval-logloss:0.30241\n",
            "[45]\ttrain-logloss:0.01112\teval-logloss:0.30589\n",
            "[46]\ttrain-logloss:0.01093\teval-logloss:0.30527\n",
            "[47]\ttrain-logloss:0.01075\teval-logloss:0.30549\n",
            "[48]\ttrain-logloss:0.01059\teval-logloss:0.30485\n",
            "[49]\ttrain-logloss:0.01041\teval-logloss:0.30440\n",
            "[50]\ttrain-logloss:0.01026\teval-logloss:0.30444\n",
            "[51]\ttrain-logloss:0.01011\teval-logloss:0.30231\n",
            "[52]\ttrain-logloss:0.00999\teval-logloss:0.30381\n",
            "[53]\ttrain-logloss:0.00985\teval-logloss:0.30446\n",
            "[54]\ttrain-logloss:0.00968\teval-logloss:0.30536\n",
            "[55]\ttrain-logloss:0.00957\teval-logloss:0.30674\n",
            "[56]\ttrain-logloss:0.00945\teval-logloss:0.30819\n",
            "[57]\ttrain-logloss:0.00936\teval-logloss:0.30809\n",
            "[58]\ttrain-logloss:0.00923\teval-logloss:0.30820\n",
            "[59]\ttrain-logloss:0.00914\teval-logloss:0.30728\n",
            "[60]\ttrain-logloss:0.00903\teval-logloss:0.30743\n",
            "[61]\ttrain-logloss:0.00893\teval-logloss:0.30837\n",
            "[62]\ttrain-logloss:0.00885\teval-logloss:0.30909\n",
            "[63]\ttrain-logloss:0.00878\teval-logloss:0.30921\n",
            "[64]\ttrain-logloss:0.00868\teval-logloss:0.31026\n",
            "[65]\ttrain-logloss:0.00859\teval-logloss:0.30978\n",
            "[66]\ttrain-logloss:0.00852\teval-logloss:0.30961\n",
            "[67]\ttrain-logloss:0.00845\teval-logloss:0.30944\n",
            "[68]\ttrain-logloss:0.00837\teval-logloss:0.31001\n",
            "[69]\ttrain-logloss:0.00830\teval-logloss:0.30990\n",
            "[70]\ttrain-logloss:0.00825\teval-logloss:0.30953\n",
            "[71]\ttrain-logloss:0.00818\teval-logloss:0.30867\n",
            "[72]\ttrain-logloss:0.00811\teval-logloss:0.30920\n",
            "[73]\ttrain-logloss:0.00803\teval-logloss:0.31010\n",
            "[74]\ttrain-logloss:0.00799\teval-logloss:0.30944\n",
            "[75]\ttrain-logloss:0.00795\teval-logloss:0.31149\n",
            "[76]\ttrain-logloss:0.00789\teval-logloss:0.31266\n",
            "[77]\ttrain-logloss:0.00785\teval-logloss:0.31173\n",
            "[78]\ttrain-logloss:0.00780\teval-logloss:0.31330\n",
            "[79]\ttrain-logloss:0.00776\teval-logloss:0.31344\n",
            "[80]\ttrain-logloss:0.00770\teval-logloss:0.31388\n",
            "[81]\ttrain-logloss:0.00764\teval-logloss:0.31346\n",
            "[82]\ttrain-logloss:0.00761\teval-logloss:0.31395\n",
            "[83]\ttrain-logloss:0.00757\teval-logloss:0.31346\n",
            "[84]\ttrain-logloss:0.00752\teval-logloss:0.31324\n",
            "[85]\ttrain-logloss:0.00748\teval-logloss:0.31352\n",
            "[86]\ttrain-logloss:0.00745\teval-logloss:0.31336\n",
            "[87]\ttrain-logloss:0.00741\teval-logloss:0.31414\n",
            "[88]\ttrain-logloss:0.00737\teval-logloss:0.31527\n",
            "[89]\ttrain-logloss:0.00734\teval-logloss:0.31561\n",
            "[90]\ttrain-logloss:0.00731\teval-logloss:0.31590\n",
            "[91]\ttrain-logloss:0.00728\teval-logloss:0.31631\n",
            "[92]\ttrain-logloss:0.00724\teval-logloss:0.31587\n",
            "[93]\ttrain-logloss:0.00721\teval-logloss:0.31547\n",
            "[94]\ttrain-logloss:0.00717\teval-logloss:0.31603\n",
            "[95]\ttrain-logloss:0.00714\teval-logloss:0.31534\n",
            "[96]\ttrain-logloss:0.00712\teval-logloss:0.31624\n",
            "[97]\ttrain-logloss:0.00709\teval-logloss:0.31746\n",
            "[98]\ttrain-logloss:0.00706\teval-logloss:0.31701\n",
            "[99]\ttrain-logloss:0.00702\teval-logloss:0.31575\n",
            "\n"
          ]
        },
        {
          "output_type": "display_data",
          "data": {
            "text/plain": [
              "<IPython.core.display.HTML object>"
            ],
            "text/html": [
              "Waiting for W&B process to finish... <strong style=\"color:green\">(success).</strong>"
            ]
          },
          "metadata": {}
        },
        {
          "output_type": "display_data",
          "data": {
            "text/plain": [
              "VBox(children=(Label(value='0.021 MB of 0.021 MB uploaded (0.000 MB deduped)\\r'), FloatProgress(value=0.992875…"
            ],
            "application/vnd.jupyter.widget-view+json": {
              "version_major": 2,
              "version_minor": 0,
              "model_id": "6f20efe6f7db446fb96f68e3a3269db0"
            }
          },
          "metadata": {}
        },
        {
          "output_type": "display_data",
          "data": {
            "text/plain": [
              "<IPython.core.display.HTML object>"
            ],
            "text/html": [
              "<style>\n",
              "    table.wandb td:nth-child(1) { padding: 0 10px; text-align: right }\n",
              "    .wandb-row { display: flex; flex-direction: row; flex-wrap: wrap; width: 100% }\n",
              "    .wandb-col { display: flex; flex-direction: column; flex-basis: 100%; flex: 1; padding: 10px; }\n",
              "    </style>\n",
              "<div class=\"wandb-row\"><div class=\"wandb-col\"><h3>Run history:</h3><br/><table class=\"wandb\"><tr><td>accuracy</td><td>▁</td></tr><tr><td>epoch</td><td>▁▁▁▁▂▂▂▂▂▃▃▃▃▃▃▄▄▄▄▄▅▅▅▅▅▅▆▆▆▆▆▇▇▇▇▇▇███</td></tr><tr><td>eval-logloss</td><td>█▅▃▃▂▁▁▁▁▁▁▁▁▁▁▁▁▁▂▂▂▂▂▂▂▂▂▂▂▂▂▂▂▂▂▂▂▂▂▂</td></tr><tr><td>f1</td><td>▁</td></tr><tr><td>precision</td><td>▁</td></tr><tr><td>recall</td><td>▁</td></tr><tr><td>train-logloss</td><td>█▅▃▂▂▂▁▁▁▁▁▁▁▁▁▁▁▁▁▁▁▁▁▁▁▁▁▁▁▁▁▁▁▁▁▁▁▁▁▁</td></tr></table><br/></div><div class=\"wandb-col\"><h3>Run summary:</h3><br/><table class=\"wandb\"><tr><td>accuracy</td><td>0.88152</td></tr><tr><td>epoch</td><td>99</td></tr><tr><td>f1</td><td>0.90347</td></tr><tr><td>precision</td><td>0.86667</td></tr><tr><td>recall</td><td>0.94355</td></tr></table><br/></div></div>"
            ]
          },
          "metadata": {}
        },
        {
          "output_type": "display_data",
          "data": {
            "text/plain": [
              "<IPython.core.display.HTML object>"
            ],
            "text/html": [
              "Synced <strong style=\"color:#cdcd00\">sbert-mpnet-v2+xgb-fold-1</strong>: <a href=\"https://wandb.ai/saloniteam/fnd/runs/ec25nwsw\" target=\"_blank\">https://wandb.ai/saloniteam/fnd/runs/ec25nwsw</a><br/>Synced 5 W&B file(s), 2 media file(s), 2 artifact file(s) and 0 other file(s)"
            ]
          },
          "metadata": {}
        },
        {
          "output_type": "display_data",
          "data": {
            "text/plain": [
              "<IPython.core.display.HTML object>"
            ],
            "text/html": [
              "Find logs at: <code>./wandb/run-20220421_075543-ec25nwsw/logs</code>"
            ]
          },
          "metadata": {}
        },
        {
          "output_type": "display_data",
          "data": {
            "text/plain": [
              "<IPython.core.display.HTML object>"
            ],
            "text/html": [
              "Tracking run with wandb version 0.12.14"
            ]
          },
          "metadata": {}
        },
        {
          "output_type": "display_data",
          "data": {
            "text/plain": [
              "<IPython.core.display.HTML object>"
            ],
            "text/html": [
              "Run data is saved locally in <code>/content/wandb/run-20220421_075603-d6g5cksg</code>"
            ]
          },
          "metadata": {}
        },
        {
          "output_type": "display_data",
          "data": {
            "text/plain": [
              "<IPython.core.display.HTML object>"
            ],
            "text/html": [
              "Syncing run <strong><a href=\"https://wandb.ai/saloniteam/fnd/runs/d6g5cksg\" target=\"_blank\">sbert-mpnet-v2+xgb-fold-2</a></strong> to <a href=\"https://wandb.ai/saloniteam/fnd\" target=\"_blank\">Weights & Biases</a> (<a href=\"https://wandb.me/run\" target=\"_blank\">docs</a>)<br/>"
            ]
          },
          "metadata": {}
        },
        {
          "output_type": "stream",
          "name": "stdout",
          "text": [
            "[0]\ttrain-logloss:0.49856\teval-logloss:0.58805\n",
            "[1]\ttrain-logloss:0.38498\teval-logloss:0.51283\n",
            "[2]\ttrain-logloss:0.29712\teval-logloss:0.47288\n",
            "[3]\ttrain-logloss:0.23533\teval-logloss:0.42939\n",
            "[4]\ttrain-logloss:0.18514\teval-logloss:0.41292\n",
            "[5]\ttrain-logloss:0.15231\teval-logloss:0.38415\n",
            "[6]\ttrain-logloss:0.12431\teval-logloss:0.36477\n",
            "[7]\ttrain-logloss:0.10405\teval-logloss:0.34777\n",
            "[8]\ttrain-logloss:0.08856\teval-logloss:0.33520\n",
            "[9]\ttrain-logloss:0.07586\teval-logloss:0.32718\n",
            "[10]\ttrain-logloss:0.06628\teval-logloss:0.32368\n",
            "[11]\ttrain-logloss:0.05771\teval-logloss:0.31283\n",
            "[12]\ttrain-logloss:0.05134\teval-logloss:0.30400\n",
            "[13]\ttrain-logloss:0.04597\teval-logloss:0.29380\n",
            "[14]\ttrain-logloss:0.04122\teval-logloss:0.29468\n",
            "[15]\ttrain-logloss:0.03714\teval-logloss:0.28512\n",
            "[16]\ttrain-logloss:0.03398\teval-logloss:0.28407\n",
            "[17]\ttrain-logloss:0.03116\teval-logloss:0.28228\n",
            "[18]\ttrain-logloss:0.02861\teval-logloss:0.28015\n",
            "[19]\ttrain-logloss:0.02652\teval-logloss:0.27806\n",
            "[20]\ttrain-logloss:0.02476\teval-logloss:0.27954\n",
            "[21]\ttrain-logloss:0.02304\teval-logloss:0.27566\n",
            "[22]\ttrain-logloss:0.02163\teval-logloss:0.27202\n",
            "[23]\ttrain-logloss:0.02034\teval-logloss:0.26854\n",
            "[24]\ttrain-logloss:0.01927\teval-logloss:0.26458\n",
            "[25]\ttrain-logloss:0.01818\teval-logloss:0.26362\n",
            "[26]\ttrain-logloss:0.01729\teval-logloss:0.26250\n",
            "[27]\ttrain-logloss:0.01652\teval-logloss:0.26054\n",
            "[28]\ttrain-logloss:0.01580\teval-logloss:0.25825\n",
            "[29]\ttrain-logloss:0.01510\teval-logloss:0.25774\n",
            "[30]\ttrain-logloss:0.01457\teval-logloss:0.25605\n",
            "[31]\ttrain-logloss:0.01404\teval-logloss:0.25633\n",
            "[32]\ttrain-logloss:0.01349\teval-logloss:0.25528\n",
            "[33]\ttrain-logloss:0.01304\teval-logloss:0.25344\n",
            "[34]\ttrain-logloss:0.01264\teval-logloss:0.25264\n",
            "[35]\ttrain-logloss:0.01227\teval-logloss:0.25393\n",
            "[36]\ttrain-logloss:0.01195\teval-logloss:0.25114\n",
            "[37]\ttrain-logloss:0.01160\teval-logloss:0.24895\n",
            "[38]\ttrain-logloss:0.01134\teval-logloss:0.24841\n",
            "[39]\ttrain-logloss:0.01102\teval-logloss:0.24610\n",
            "[40]\ttrain-logloss:0.01076\teval-logloss:0.24681\n",
            "[41]\ttrain-logloss:0.01049\teval-logloss:0.24656\n",
            "[42]\ttrain-logloss:0.01027\teval-logloss:0.24727\n",
            "[43]\ttrain-logloss:0.01005\teval-logloss:0.24981\n",
            "[44]\ttrain-logloss:0.00983\teval-logloss:0.24847\n",
            "[45]\ttrain-logloss:0.00967\teval-logloss:0.24784\n",
            "[46]\ttrain-logloss:0.00947\teval-logloss:0.24723\n",
            "[47]\ttrain-logloss:0.00931\teval-logloss:0.24776\n",
            "[48]\ttrain-logloss:0.00915\teval-logloss:0.24776\n",
            "[49]\ttrain-logloss:0.00896\teval-logloss:0.25040\n",
            "[50]\ttrain-logloss:0.00879\teval-logloss:0.25007\n",
            "[51]\ttrain-logloss:0.00864\teval-logloss:0.24774\n",
            "[52]\ttrain-logloss:0.00848\teval-logloss:0.24718\n",
            "[53]\ttrain-logloss:0.00834\teval-logloss:0.24771\n",
            "[54]\ttrain-logloss:0.00823\teval-logloss:0.24661\n",
            "[55]\ttrain-logloss:0.00812\teval-logloss:0.24772\n",
            "[56]\ttrain-logloss:0.00801\teval-logloss:0.24714\n",
            "[57]\ttrain-logloss:0.00790\teval-logloss:0.24677\n",
            "[58]\ttrain-logloss:0.00779\teval-logloss:0.24614\n",
            "[59]\ttrain-logloss:0.00770\teval-logloss:0.24671\n",
            "[60]\ttrain-logloss:0.00760\teval-logloss:0.24831\n",
            "[61]\ttrain-logloss:0.00750\teval-logloss:0.24827\n",
            "[62]\ttrain-logloss:0.00740\teval-logloss:0.24887\n",
            "[63]\ttrain-logloss:0.00733\teval-logloss:0.24947\n",
            "[64]\ttrain-logloss:0.00724\teval-logloss:0.24910\n",
            "[65]\ttrain-logloss:0.00718\teval-logloss:0.24912\n",
            "[66]\ttrain-logloss:0.00710\teval-logloss:0.25124\n",
            "[67]\ttrain-logloss:0.00703\teval-logloss:0.25052\n",
            "[68]\ttrain-logloss:0.00694\teval-logloss:0.24903\n",
            "[69]\ttrain-logloss:0.00687\teval-logloss:0.25019\n",
            "[70]\ttrain-logloss:0.00681\teval-logloss:0.24636\n",
            "[71]\ttrain-logloss:0.00674\teval-logloss:0.24690\n",
            "[72]\ttrain-logloss:0.00668\teval-logloss:0.24881\n",
            "[73]\ttrain-logloss:0.00662\teval-logloss:0.24863\n",
            "[74]\ttrain-logloss:0.00656\teval-logloss:0.24723\n",
            "[75]\ttrain-logloss:0.00651\teval-logloss:0.24817\n",
            "[76]\ttrain-logloss:0.00647\teval-logloss:0.24814\n",
            "[77]\ttrain-logloss:0.00643\teval-logloss:0.24890\n",
            "[78]\ttrain-logloss:0.00636\teval-logloss:0.24825\n",
            "[79]\ttrain-logloss:0.00633\teval-logloss:0.24744\n",
            "[80]\ttrain-logloss:0.00628\teval-logloss:0.24751\n",
            "[81]\ttrain-logloss:0.00624\teval-logloss:0.24594\n",
            "[82]\ttrain-logloss:0.00620\teval-logloss:0.24497\n",
            "[83]\ttrain-logloss:0.00616\teval-logloss:0.24390\n",
            "[84]\ttrain-logloss:0.00611\teval-logloss:0.24360\n",
            "[85]\ttrain-logloss:0.00606\teval-logloss:0.24432\n",
            "[86]\ttrain-logloss:0.00601\teval-logloss:0.24458\n",
            "[87]\ttrain-logloss:0.00598\teval-logloss:0.24507\n",
            "[88]\ttrain-logloss:0.00594\teval-logloss:0.24465\n",
            "[89]\ttrain-logloss:0.00590\teval-logloss:0.24448\n",
            "[90]\ttrain-logloss:0.00586\teval-logloss:0.24524\n",
            "[91]\ttrain-logloss:0.00583\teval-logloss:0.24532\n",
            "[92]\ttrain-logloss:0.00579\teval-logloss:0.24652\n",
            "[93]\ttrain-logloss:0.00576\teval-logloss:0.24705\n",
            "[94]\ttrain-logloss:0.00572\teval-logloss:0.24636\n",
            "[95]\ttrain-logloss:0.00571\teval-logloss:0.24574\n",
            "[96]\ttrain-logloss:0.00568\teval-logloss:0.24521\n",
            "[97]\ttrain-logloss:0.00564\teval-logloss:0.24620\n",
            "[98]\ttrain-logloss:0.00561\teval-logloss:0.24504\n",
            "[99]\ttrain-logloss:0.00558\teval-logloss:0.24594\n",
            "\n"
          ]
        },
        {
          "output_type": "display_data",
          "data": {
            "text/plain": [
              "<IPython.core.display.HTML object>"
            ],
            "text/html": [
              "Waiting for W&B process to finish... <strong style=\"color:green\">(success).</strong>"
            ]
          },
          "metadata": {}
        },
        {
          "output_type": "display_data",
          "data": {
            "text/plain": [
              "VBox(children=(Label(value='0.021 MB of 0.021 MB uploaded (0.000 MB deduped)\\r'), FloatProgress(value=1.0, max…"
            ],
            "application/vnd.jupyter.widget-view+json": {
              "version_major": 2,
              "version_minor": 0,
              "model_id": "f9231b552a494a7f9f180133cfb8ff1f"
            }
          },
          "metadata": {}
        },
        {
          "output_type": "display_data",
          "data": {
            "text/plain": [
              "<IPython.core.display.HTML object>"
            ],
            "text/html": [
              "<style>\n",
              "    table.wandb td:nth-child(1) { padding: 0 10px; text-align: right }\n",
              "    .wandb-row { display: flex; flex-direction: row; flex-wrap: wrap; width: 100% }\n",
              "    .wandb-col { display: flex; flex-direction: column; flex-basis: 100%; flex: 1; padding: 10px; }\n",
              "    </style>\n",
              "<div class=\"wandb-row\"><div class=\"wandb-col\"><h3>Run history:</h3><br/><table class=\"wandb\"><tr><td>accuracy</td><td>▁</td></tr><tr><td>epoch</td><td>▁▁▁▁▂▂▂▂▂▃▃▃▃▃▃▄▄▄▄▄▅▅▅▅▅▅▆▆▆▆▆▇▇▇▇▇▇███</td></tr><tr><td>eval-logloss</td><td>█▆▄▃▃▂▂▂▂▂▁▁▁▁▁▁▁▁▁▁▁▁▁▁▁▁▁▁▁▁▁▁▁▁▁▁▁▁▁▁</td></tr><tr><td>f1</td><td>▁</td></tr><tr><td>precision</td><td>▁</td></tr><tr><td>recall</td><td>▁</td></tr><tr><td>train-logloss</td><td>█▅▃▂▂▂▁▁▁▁▁▁▁▁▁▁▁▁▁▁▁▁▁▁▁▁▁▁▁▁▁▁▁▁▁▁▁▁▁▁</td></tr></table><br/></div><div class=\"wandb-col\"><h3>Run summary:</h3><br/><table class=\"wandb\"><tr><td>accuracy</td><td>0.90047</td></tr><tr><td>epoch</td><td>99</td></tr><tr><td>f1</td><td>0.91566</td></tr><tr><td>precision</td><td>0.91935</td></tr><tr><td>recall</td><td>0.912</td></tr></table><br/></div></div>"
            ]
          },
          "metadata": {}
        },
        {
          "output_type": "display_data",
          "data": {
            "text/plain": [
              "<IPython.core.display.HTML object>"
            ],
            "text/html": [
              "Synced <strong style=\"color:#cdcd00\">sbert-mpnet-v2+xgb-fold-2</strong>: <a href=\"https://wandb.ai/saloniteam/fnd/runs/d6g5cksg\" target=\"_blank\">https://wandb.ai/saloniteam/fnd/runs/d6g5cksg</a><br/>Synced 5 W&B file(s), 2 media file(s), 2 artifact file(s) and 0 other file(s)"
            ]
          },
          "metadata": {}
        },
        {
          "output_type": "display_data",
          "data": {
            "text/plain": [
              "<IPython.core.display.HTML object>"
            ],
            "text/html": [
              "Find logs at: <code>./wandb/run-20220421_075603-d6g5cksg/logs</code>"
            ]
          },
          "metadata": {}
        },
        {
          "output_type": "display_data",
          "data": {
            "text/plain": [
              "<IPython.core.display.HTML object>"
            ],
            "text/html": [
              "Tracking run with wandb version 0.12.14"
            ]
          },
          "metadata": {}
        },
        {
          "output_type": "display_data",
          "data": {
            "text/plain": [
              "<IPython.core.display.HTML object>"
            ],
            "text/html": [
              "Run data is saved locally in <code>/content/wandb/run-20220421_075623-2mv1vw81</code>"
            ]
          },
          "metadata": {}
        },
        {
          "output_type": "display_data",
          "data": {
            "text/plain": [
              "<IPython.core.display.HTML object>"
            ],
            "text/html": [
              "Syncing run <strong><a href=\"https://wandb.ai/saloniteam/fnd/runs/2mv1vw81\" target=\"_blank\">sbert-mpnet-v2+xgb-fold-3</a></strong> to <a href=\"https://wandb.ai/saloniteam/fnd\" target=\"_blank\">Weights & Biases</a> (<a href=\"https://wandb.me/run\" target=\"_blank\">docs</a>)<br/>"
            ]
          },
          "metadata": {}
        },
        {
          "output_type": "stream",
          "name": "stdout",
          "text": [
            "[0]\ttrain-logloss:0.49186\teval-logloss:0.57930\n",
            "[1]\ttrain-logloss:0.36852\teval-logloss:0.51609\n",
            "[2]\ttrain-logloss:0.28510\teval-logloss:0.46525\n",
            "[3]\ttrain-logloss:0.22635\teval-logloss:0.43531\n",
            "[4]\ttrain-logloss:0.18224\teval-logloss:0.40688\n",
            "[5]\ttrain-logloss:0.14910\teval-logloss:0.39505\n",
            "[6]\ttrain-logloss:0.12409\teval-logloss:0.39153\n",
            "[7]\ttrain-logloss:0.10269\teval-logloss:0.37595\n",
            "[8]\ttrain-logloss:0.08609\teval-logloss:0.37879\n",
            "[9]\ttrain-logloss:0.07327\teval-logloss:0.36113\n",
            "[10]\ttrain-logloss:0.06339\teval-logloss:0.35517\n",
            "[11]\ttrain-logloss:0.05553\teval-logloss:0.35670\n",
            "[12]\ttrain-logloss:0.04906\teval-logloss:0.35280\n",
            "[13]\ttrain-logloss:0.04363\teval-logloss:0.34793\n",
            "[14]\ttrain-logloss:0.03904\teval-logloss:0.34494\n",
            "[15]\ttrain-logloss:0.03527\teval-logloss:0.34186\n",
            "[16]\ttrain-logloss:0.03224\teval-logloss:0.33630\n",
            "[17]\ttrain-logloss:0.02958\teval-logloss:0.33333\n",
            "[18]\ttrain-logloss:0.02727\teval-logloss:0.33390\n",
            "[19]\ttrain-logloss:0.02539\teval-logloss:0.33458\n",
            "[20]\ttrain-logloss:0.02361\teval-logloss:0.33476\n",
            "[21]\ttrain-logloss:0.02206\teval-logloss:0.33697\n",
            "[22]\ttrain-logloss:0.02079\teval-logloss:0.33318\n",
            "[23]\ttrain-logloss:0.01962\teval-logloss:0.33175\n",
            "[24]\ttrain-logloss:0.01859\teval-logloss:0.33101\n",
            "[25]\ttrain-logloss:0.01761\teval-logloss:0.33344\n",
            "[26]\ttrain-logloss:0.01674\teval-logloss:0.33040\n",
            "[27]\ttrain-logloss:0.01601\teval-logloss:0.32790\n",
            "[28]\ttrain-logloss:0.01530\teval-logloss:0.32524\n",
            "[29]\ttrain-logloss:0.01467\teval-logloss:0.32442\n",
            "[30]\ttrain-logloss:0.01408\teval-logloss:0.32176\n",
            "[31]\ttrain-logloss:0.01362\teval-logloss:0.32205\n",
            "[32]\ttrain-logloss:0.01313\teval-logloss:0.32310\n",
            "[33]\ttrain-logloss:0.01267\teval-logloss:0.32542\n",
            "[34]\ttrain-logloss:0.01225\teval-logloss:0.32447\n",
            "[35]\ttrain-logloss:0.01190\teval-logloss:0.32487\n",
            "[36]\ttrain-logloss:0.01154\teval-logloss:0.32512\n",
            "[37]\ttrain-logloss:0.01122\teval-logloss:0.32608\n",
            "[38]\ttrain-logloss:0.01089\teval-logloss:0.32539\n",
            "[39]\ttrain-logloss:0.01065\teval-logloss:0.32415\n",
            "[40]\ttrain-logloss:0.01040\teval-logloss:0.32263\n",
            "[41]\ttrain-logloss:0.01014\teval-logloss:0.32171\n",
            "[42]\ttrain-logloss:0.00991\teval-logloss:0.32343\n",
            "[43]\ttrain-logloss:0.00972\teval-logloss:0.32348\n",
            "[44]\ttrain-logloss:0.00956\teval-logloss:0.32552\n",
            "[45]\ttrain-logloss:0.00936\teval-logloss:0.32623\n",
            "[46]\ttrain-logloss:0.00917\teval-logloss:0.32588\n",
            "[47]\ttrain-logloss:0.00896\teval-logloss:0.32637\n",
            "[48]\ttrain-logloss:0.00880\teval-logloss:0.32670\n",
            "[49]\ttrain-logloss:0.00862\teval-logloss:0.32341\n",
            "[50]\ttrain-logloss:0.00846\teval-logloss:0.32252\n",
            "[51]\ttrain-logloss:0.00834\teval-logloss:0.32300\n",
            "[52]\ttrain-logloss:0.00818\teval-logloss:0.32181\n",
            "[53]\ttrain-logloss:0.00805\teval-logloss:0.32299\n",
            "[54]\ttrain-logloss:0.00792\teval-logloss:0.32417\n",
            "[55]\ttrain-logloss:0.00782\teval-logloss:0.32445\n",
            "[56]\ttrain-logloss:0.00772\teval-logloss:0.32296\n",
            "[57]\ttrain-logloss:0.00765\teval-logloss:0.32235\n",
            "[58]\ttrain-logloss:0.00753\teval-logloss:0.32385\n",
            "[59]\ttrain-logloss:0.00745\teval-logloss:0.32730\n",
            "[60]\ttrain-logloss:0.00735\teval-logloss:0.32913\n",
            "[61]\ttrain-logloss:0.00726\teval-logloss:0.32869\n",
            "[62]\ttrain-logloss:0.00720\teval-logloss:0.32830\n",
            "[63]\ttrain-logloss:0.00711\teval-logloss:0.32917\n",
            "[64]\ttrain-logloss:0.00702\teval-logloss:0.33071\n",
            "[65]\ttrain-logloss:0.00693\teval-logloss:0.33141\n",
            "[66]\ttrain-logloss:0.00686\teval-logloss:0.33096\n",
            "[67]\ttrain-logloss:0.00680\teval-logloss:0.32982\n",
            "[68]\ttrain-logloss:0.00673\teval-logloss:0.33082\n",
            "[69]\ttrain-logloss:0.00667\teval-logloss:0.33145\n",
            "[70]\ttrain-logloss:0.00660\teval-logloss:0.33308\n",
            "[71]\ttrain-logloss:0.00654\teval-logloss:0.33533\n",
            "[72]\ttrain-logloss:0.00649\teval-logloss:0.33600\n",
            "[73]\ttrain-logloss:0.00642\teval-logloss:0.33532\n",
            "[74]\ttrain-logloss:0.00637\teval-logloss:0.33543\n",
            "[75]\ttrain-logloss:0.00632\teval-logloss:0.33279\n",
            "[76]\ttrain-logloss:0.00626\teval-logloss:0.33334\n",
            "[77]\ttrain-logloss:0.00619\teval-logloss:0.33256\n",
            "[78]\ttrain-logloss:0.00615\teval-logloss:0.33315\n",
            "[79]\ttrain-logloss:0.00611\teval-logloss:0.33378\n",
            "[80]\ttrain-logloss:0.00607\teval-logloss:0.33375\n",
            "[81]\ttrain-logloss:0.00603\teval-logloss:0.33516\n",
            "[82]\ttrain-logloss:0.00598\teval-logloss:0.33559\n",
            "[83]\ttrain-logloss:0.00594\teval-logloss:0.33562\n",
            "[84]\ttrain-logloss:0.00590\teval-logloss:0.33787\n",
            "[85]\ttrain-logloss:0.00586\teval-logloss:0.33827\n",
            "[86]\ttrain-logloss:0.00583\teval-logloss:0.33853\n",
            "[87]\ttrain-logloss:0.00579\teval-logloss:0.33773\n",
            "[88]\ttrain-logloss:0.00575\teval-logloss:0.33722\n",
            "[89]\ttrain-logloss:0.00572\teval-logloss:0.33630\n",
            "[90]\ttrain-logloss:0.00569\teval-logloss:0.33697\n",
            "[91]\ttrain-logloss:0.00565\teval-logloss:0.33760\n",
            "[92]\ttrain-logloss:0.00562\teval-logloss:0.33805\n",
            "[93]\ttrain-logloss:0.00559\teval-logloss:0.33887\n",
            "[94]\ttrain-logloss:0.00556\teval-logloss:0.34091\n",
            "[95]\ttrain-logloss:0.00552\teval-logloss:0.34059\n",
            "[96]\ttrain-logloss:0.00549\teval-logloss:0.34041\n",
            "[97]\ttrain-logloss:0.00546\teval-logloss:0.33911\n",
            "[98]\ttrain-logloss:0.00543\teval-logloss:0.33947\n",
            "[99]\ttrain-logloss:0.00540\teval-logloss:0.33902\n",
            "\n"
          ]
        },
        {
          "output_type": "display_data",
          "data": {
            "text/plain": [
              "<IPython.core.display.HTML object>"
            ],
            "text/html": [
              "Waiting for W&B process to finish... <strong style=\"color:green\">(success).</strong>"
            ]
          },
          "metadata": {}
        },
        {
          "output_type": "display_data",
          "data": {
            "text/plain": [
              "VBox(children=(Label(value='0.021 MB of 0.021 MB uploaded (0.000 MB deduped)\\r'), FloatProgress(value=0.992710…"
            ],
            "application/vnd.jupyter.widget-view+json": {
              "version_major": 2,
              "version_minor": 0,
              "model_id": "6d95d93a2a524a30a61e2ef09b21ddc5"
            }
          },
          "metadata": {}
        },
        {
          "output_type": "display_data",
          "data": {
            "text/plain": [
              "<IPython.core.display.HTML object>"
            ],
            "text/html": [
              "<style>\n",
              "    table.wandb td:nth-child(1) { padding: 0 10px; text-align: right }\n",
              "    .wandb-row { display: flex; flex-direction: row; flex-wrap: wrap; width: 100% }\n",
              "    .wandb-col { display: flex; flex-direction: column; flex-basis: 100%; flex: 1; padding: 10px; }\n",
              "    </style>\n",
              "<div class=\"wandb-row\"><div class=\"wandb-col\"><h3>Run history:</h3><br/><table class=\"wandb\"><tr><td>accuracy</td><td>▁</td></tr><tr><td>epoch</td><td>▁▁▁▁▂▂▂▂▂▃▃▃▃▃▃▄▄▄▄▄▅▅▅▅▅▅▆▆▆▆▆▇▇▇▇▇▇███</td></tr><tr><td>eval-logloss</td><td>█▅▃▂▂▂▂▁▁▁▁▁▁▁▁▁▁▁▁▁▁▁▁▁▁▁▁▁▁▁▁▁▁▁▁▁▁▁▂▁</td></tr><tr><td>f1</td><td>▁</td></tr><tr><td>precision</td><td>▁</td></tr><tr><td>recall</td><td>▁</td></tr><tr><td>train-logloss</td><td>█▅▃▂▂▂▁▁▁▁▁▁▁▁▁▁▁▁▁▁▁▁▁▁▁▁▁▁▁▁▁▁▁▁▁▁▁▁▁▁</td></tr></table><br/></div><div class=\"wandb-col\"><h3>Run summary:</h3><br/><table class=\"wandb\"><tr><td>accuracy</td><td>0.87678</td></tr><tr><td>epoch</td><td>99</td></tr><tr><td>f1</td><td>0.89344</td></tr><tr><td>precision</td><td>0.91597</td></tr><tr><td>recall</td><td>0.872</td></tr></table><br/></div></div>"
            ]
          },
          "metadata": {}
        },
        {
          "output_type": "display_data",
          "data": {
            "text/plain": [
              "<IPython.core.display.HTML object>"
            ],
            "text/html": [
              "Synced <strong style=\"color:#cdcd00\">sbert-mpnet-v2+xgb-fold-3</strong>: <a href=\"https://wandb.ai/saloniteam/fnd/runs/2mv1vw81\" target=\"_blank\">https://wandb.ai/saloniteam/fnd/runs/2mv1vw81</a><br/>Synced 5 W&B file(s), 2 media file(s), 2 artifact file(s) and 0 other file(s)"
            ]
          },
          "metadata": {}
        },
        {
          "output_type": "display_data",
          "data": {
            "text/plain": [
              "<IPython.core.display.HTML object>"
            ],
            "text/html": [
              "Find logs at: <code>./wandb/run-20220421_075623-2mv1vw81/logs</code>"
            ]
          },
          "metadata": {}
        },
        {
          "output_type": "display_data",
          "data": {
            "text/plain": [
              "<IPython.core.display.HTML object>"
            ],
            "text/html": [
              "Tracking run with wandb version 0.12.14"
            ]
          },
          "metadata": {}
        },
        {
          "output_type": "display_data",
          "data": {
            "text/plain": [
              "<IPython.core.display.HTML object>"
            ],
            "text/html": [
              "Run data is saved locally in <code>/content/wandb/run-20220421_075642-1w0mzclx</code>"
            ]
          },
          "metadata": {}
        },
        {
          "output_type": "display_data",
          "data": {
            "text/plain": [
              "<IPython.core.display.HTML object>"
            ],
            "text/html": [
              "Syncing run <strong><a href=\"https://wandb.ai/saloniteam/fnd/runs/1w0mzclx\" target=\"_blank\">sbert-mpnet-v2+xgb-fold-4</a></strong> to <a href=\"https://wandb.ai/saloniteam/fnd\" target=\"_blank\">Weights & Biases</a> (<a href=\"https://wandb.me/run\" target=\"_blank\">docs</a>)<br/>"
            ]
          },
          "metadata": {}
        },
        {
          "output_type": "stream",
          "name": "stdout",
          "text": [
            "[0]\ttrain-logloss:0.50642\teval-logloss:0.58410\n",
            "[1]\ttrain-logloss:0.38076\teval-logloss:0.52984\n",
            "[2]\ttrain-logloss:0.29592\teval-logloss:0.48506\n",
            "[3]\ttrain-logloss:0.23673\teval-logloss:0.45727\n",
            "[4]\ttrain-logloss:0.18913\teval-logloss:0.42034\n",
            "[5]\ttrain-logloss:0.15454\teval-logloss:0.39430\n",
            "[6]\ttrain-logloss:0.12735\teval-logloss:0.38000\n",
            "[7]\ttrain-logloss:0.10566\teval-logloss:0.37681\n",
            "[8]\ttrain-logloss:0.08931\teval-logloss:0.38139\n",
            "[9]\ttrain-logloss:0.07614\teval-logloss:0.38026\n",
            "[10]\ttrain-logloss:0.06559\teval-logloss:0.37055\n",
            "[11]\ttrain-logloss:0.05741\teval-logloss:0.36313\n",
            "[12]\ttrain-logloss:0.05115\teval-logloss:0.35830\n",
            "[13]\ttrain-logloss:0.04567\teval-logloss:0.35464\n",
            "[14]\ttrain-logloss:0.04086\teval-logloss:0.34977\n",
            "[15]\ttrain-logloss:0.03711\teval-logloss:0.34289\n",
            "[16]\ttrain-logloss:0.03367\teval-logloss:0.34921\n",
            "[17]\ttrain-logloss:0.03085\teval-logloss:0.35037\n",
            "[18]\ttrain-logloss:0.02842\teval-logloss:0.35486\n",
            "[19]\ttrain-logloss:0.02637\teval-logloss:0.35609\n",
            "[20]\ttrain-logloss:0.02472\teval-logloss:0.35815\n",
            "[21]\ttrain-logloss:0.02333\teval-logloss:0.36198\n",
            "[22]\ttrain-logloss:0.02209\teval-logloss:0.35949\n",
            "[23]\ttrain-logloss:0.02079\teval-logloss:0.35905\n",
            "[24]\ttrain-logloss:0.01969\teval-logloss:0.36306\n",
            "[25]\ttrain-logloss:0.01877\teval-logloss:0.36826\n",
            "[26]\ttrain-logloss:0.01789\teval-logloss:0.36701\n",
            "[27]\ttrain-logloss:0.01721\teval-logloss:0.36688\n",
            "[28]\ttrain-logloss:0.01658\teval-logloss:0.36382\n",
            "[29]\ttrain-logloss:0.01594\teval-logloss:0.36542\n",
            "[30]\ttrain-logloss:0.01537\teval-logloss:0.36890\n",
            "[31]\ttrain-logloss:0.01483\teval-logloss:0.37144\n",
            "[32]\ttrain-logloss:0.01437\teval-logloss:0.37067\n",
            "[33]\ttrain-logloss:0.01396\teval-logloss:0.36768\n",
            "[34]\ttrain-logloss:0.01355\teval-logloss:0.36967\n",
            "[35]\ttrain-logloss:0.01317\teval-logloss:0.37213\n",
            "[36]\ttrain-logloss:0.01283\teval-logloss:0.37152\n",
            "[37]\ttrain-logloss:0.01247\teval-logloss:0.37019\n",
            "[38]\ttrain-logloss:0.01220\teval-logloss:0.36935\n",
            "[39]\ttrain-logloss:0.01192\teval-logloss:0.36912\n",
            "[40]\ttrain-logloss:0.01159\teval-logloss:0.37092\n",
            "[41]\ttrain-logloss:0.01134\teval-logloss:0.37271\n",
            "[42]\ttrain-logloss:0.01108\teval-logloss:0.37571\n",
            "[43]\ttrain-logloss:0.01089\teval-logloss:0.37762\n",
            "[44]\ttrain-logloss:0.01068\teval-logloss:0.38017\n",
            "[45]\ttrain-logloss:0.01048\teval-logloss:0.37973\n",
            "[46]\ttrain-logloss:0.01030\teval-logloss:0.37873\n",
            "[47]\ttrain-logloss:0.01014\teval-logloss:0.37966\n",
            "[48]\ttrain-logloss:0.00998\teval-logloss:0.38089\n",
            "[49]\ttrain-logloss:0.00981\teval-logloss:0.38385\n",
            "[50]\ttrain-logloss:0.00969\teval-logloss:0.38306\n",
            "[51]\ttrain-logloss:0.00956\teval-logloss:0.38294\n",
            "[52]\ttrain-logloss:0.00944\teval-logloss:0.38414\n",
            "[53]\ttrain-logloss:0.00931\teval-logloss:0.38637\n",
            "[54]\ttrain-logloss:0.00918\teval-logloss:0.38919\n",
            "[55]\ttrain-logloss:0.00907\teval-logloss:0.38859\n",
            "[56]\ttrain-logloss:0.00894\teval-logloss:0.39042\n",
            "[57]\ttrain-logloss:0.00885\teval-logloss:0.39188\n",
            "[58]\ttrain-logloss:0.00875\teval-logloss:0.39370\n",
            "[59]\ttrain-logloss:0.00866\teval-logloss:0.39280\n",
            "[60]\ttrain-logloss:0.00856\teval-logloss:0.39410\n",
            "[61]\ttrain-logloss:0.00848\teval-logloss:0.39434\n",
            "[62]\ttrain-logloss:0.00840\teval-logloss:0.39397\n",
            "[63]\ttrain-logloss:0.00832\teval-logloss:0.39423\n",
            "[64]\ttrain-logloss:0.00826\teval-logloss:0.39413\n",
            "[65]\ttrain-logloss:0.00819\teval-logloss:0.39273\n",
            "[66]\ttrain-logloss:0.00811\teval-logloss:0.39381\n",
            "[67]\ttrain-logloss:0.00803\teval-logloss:0.39384\n",
            "[68]\ttrain-logloss:0.00798\teval-logloss:0.39364\n",
            "[69]\ttrain-logloss:0.00791\teval-logloss:0.39327\n",
            "[70]\ttrain-logloss:0.00784\teval-logloss:0.39533\n",
            "[71]\ttrain-logloss:0.00777\teval-logloss:0.39465\n",
            "[72]\ttrain-logloss:0.00772\teval-logloss:0.39486\n",
            "[73]\ttrain-logloss:0.00767\teval-logloss:0.39410\n",
            "[74]\ttrain-logloss:0.00761\teval-logloss:0.39485\n",
            "[75]\ttrain-logloss:0.00755\teval-logloss:0.39407\n",
            "[76]\ttrain-logloss:0.00751\teval-logloss:0.39251\n",
            "[77]\ttrain-logloss:0.00746\teval-logloss:0.39279\n",
            "[78]\ttrain-logloss:0.00740\teval-logloss:0.39301\n",
            "[79]\ttrain-logloss:0.00737\teval-logloss:0.39182\n",
            "[80]\ttrain-logloss:0.00733\teval-logloss:0.39231\n",
            "[81]\ttrain-logloss:0.00729\teval-logloss:0.39181\n",
            "[82]\ttrain-logloss:0.00723\teval-logloss:0.39264\n",
            "[83]\ttrain-logloss:0.00717\teval-logloss:0.39276\n",
            "[84]\ttrain-logloss:0.00714\teval-logloss:0.39298\n",
            "[85]\ttrain-logloss:0.00711\teval-logloss:0.39361\n",
            "[86]\ttrain-logloss:0.00707\teval-logloss:0.39457\n",
            "[87]\ttrain-logloss:0.00703\teval-logloss:0.39624\n",
            "[88]\ttrain-logloss:0.00700\teval-logloss:0.39647\n",
            "[89]\ttrain-logloss:0.00695\teval-logloss:0.39514\n",
            "[90]\ttrain-logloss:0.00692\teval-logloss:0.39420\n",
            "[91]\ttrain-logloss:0.00689\teval-logloss:0.39409\n",
            "[92]\ttrain-logloss:0.00687\teval-logloss:0.39452\n",
            "[93]\ttrain-logloss:0.00683\teval-logloss:0.39437\n",
            "[94]\ttrain-logloss:0.00680\teval-logloss:0.39459\n",
            "[95]\ttrain-logloss:0.00678\teval-logloss:0.39489\n",
            "[96]\ttrain-logloss:0.00675\teval-logloss:0.39537\n",
            "[97]\ttrain-logloss:0.00670\teval-logloss:0.39513\n",
            "[98]\ttrain-logloss:0.00667\teval-logloss:0.39518\n",
            "[99]\ttrain-logloss:0.00665\teval-logloss:0.39627\n",
            "\n"
          ]
        },
        {
          "output_type": "display_data",
          "data": {
            "text/plain": [
              "<IPython.core.display.HTML object>"
            ],
            "text/html": [
              "Waiting for W&B process to finish... <strong style=\"color:green\">(success).</strong>"
            ]
          },
          "metadata": {}
        },
        {
          "output_type": "display_data",
          "data": {
            "text/plain": [
              "VBox(children=(Label(value='0.021 MB of 0.021 MB uploaded (0.000 MB deduped)\\r'), FloatProgress(value=0.992867…"
            ],
            "application/vnd.jupyter.widget-view+json": {
              "version_major": 2,
              "version_minor": 0,
              "model_id": "fa24ae85ab6d484ca7e7e9fd68b2c53c"
            }
          },
          "metadata": {}
        },
        {
          "output_type": "display_data",
          "data": {
            "text/plain": [
              "<IPython.core.display.HTML object>"
            ],
            "text/html": [
              "<style>\n",
              "    table.wandb td:nth-child(1) { padding: 0 10px; text-align: right }\n",
              "    .wandb-row { display: flex; flex-direction: row; flex-wrap: wrap; width: 100% }\n",
              "    .wandb-col { display: flex; flex-direction: column; flex-basis: 100%; flex: 1; padding: 10px; }\n",
              "    </style>\n",
              "<div class=\"wandb-row\"><div class=\"wandb-col\"><h3>Run history:</h3><br/><table class=\"wandb\"><tr><td>accuracy</td><td>▁</td></tr><tr><td>epoch</td><td>▁▁▁▁▂▂▂▂▂▃▃▃▃▃▃▄▄▄▄▄▅▅▅▅▅▅▆▆▆▆▆▇▇▇▇▇▇███</td></tr><tr><td>eval-logloss</td><td>█▅▂▂▂▁▁▁▁▁▂▂▂▂▂▂▂▂▂▂▂▂▂▂▂▂▂▂▃▂▂▂▂▂▂▃▂▂▃▃</td></tr><tr><td>f1</td><td>▁</td></tr><tr><td>precision</td><td>▁</td></tr><tr><td>recall</td><td>▁</td></tr><tr><td>train-logloss</td><td>█▅▃▂▂▂▁▁▁▁▁▁▁▁▁▁▁▁▁▁▁▁▁▁▁▁▁▁▁▁▁▁▁▁▁▁▁▁▁▁</td></tr></table><br/></div><div class=\"wandb-col\"><h3>Run summary:</h3><br/><table class=\"wandb\"><tr><td>accuracy</td><td>0.88152</td></tr><tr><td>epoch</td><td>99</td></tr><tr><td>f1</td><td>0.90119</td></tr><tr><td>precision</td><td>0.89062</td></tr><tr><td>recall</td><td>0.912</td></tr></table><br/></div></div>"
            ]
          },
          "metadata": {}
        },
        {
          "output_type": "display_data",
          "data": {
            "text/plain": [
              "<IPython.core.display.HTML object>"
            ],
            "text/html": [
              "Synced <strong style=\"color:#cdcd00\">sbert-mpnet-v2+xgb-fold-4</strong>: <a href=\"https://wandb.ai/saloniteam/fnd/runs/1w0mzclx\" target=\"_blank\">https://wandb.ai/saloniteam/fnd/runs/1w0mzclx</a><br/>Synced 5 W&B file(s), 2 media file(s), 2 artifact file(s) and 0 other file(s)"
            ]
          },
          "metadata": {}
        },
        {
          "output_type": "display_data",
          "data": {
            "text/plain": [
              "<IPython.core.display.HTML object>"
            ],
            "text/html": [
              "Find logs at: <code>./wandb/run-20220421_075642-1w0mzclx/logs</code>"
            ]
          },
          "metadata": {}
        }
      ]
    },
    {
      "cell_type": "code",
      "source": [
        ""
      ],
      "metadata": {
        "id": "Rs-eyeXVDd4i"
      },
      "execution_count": null,
      "outputs": []
    },
    {
      "cell_type": "code",
      "source": [
        ""
      ],
      "metadata": {
        "id": "x8lfQw03Dd64"
      },
      "execution_count": null,
      "outputs": []
    }
  ]
}
