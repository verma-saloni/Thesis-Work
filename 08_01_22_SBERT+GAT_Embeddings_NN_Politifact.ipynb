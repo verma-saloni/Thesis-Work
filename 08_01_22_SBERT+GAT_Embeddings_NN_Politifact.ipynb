{
  "nbformat": 4,
  "nbformat_minor": 0,
  "metadata": {
    "colab": {
      "name": "SBERT+GAT Embeddings - extra - NN Politifact.ipynb",
      "provenance": [],
      "collapsed_sections": [],
      "include_colab_link": true
    },
    "kernelspec": {
      "name": "python3",
      "display_name": "Python 3"
    },
    "language_info": {
      "name": "python"
    },
    "widgets": {
      "application/vnd.jupyter.widget-state+json": {
        "a0504ca4d2e341ec925b277fcd3eb6a4": {
          "model_module": "@jupyter-widgets/controls",
          "model_name": "VBoxModel",
          "model_module_version": "1.5.0",
          "state": {
            "_dom_classes": [],
            "_model_module": "@jupyter-widgets/controls",
            "_model_module_version": "1.5.0",
            "_model_name": "VBoxModel",
            "_view_count": null,
            "_view_module": "@jupyter-widgets/controls",
            "_view_module_version": "1.5.0",
            "_view_name": "VBoxView",
            "box_style": "",
            "children": [
              "IPY_MODEL_25f93d85e9c24f1ab98c0968a8cc19d1",
              "IPY_MODEL_c3374e7a43184facb13690a6952e5972"
            ],
            "layout": "IPY_MODEL_c06152e81c00455dbdfbcb04d09bac1d"
          }
        },
        "25f93d85e9c24f1ab98c0968a8cc19d1": {
          "model_module": "@jupyter-widgets/controls",
          "model_name": "LabelModel",
          "model_module_version": "1.5.0",
          "state": {
            "_dom_classes": [],
            "_model_module": "@jupyter-widgets/controls",
            "_model_module_version": "1.5.0",
            "_model_name": "LabelModel",
            "_view_count": null,
            "_view_module": "@jupyter-widgets/controls",
            "_view_module_version": "1.5.0",
            "_view_name": "LabelView",
            "description": "",
            "description_tooltip": null,
            "layout": "IPY_MODEL_235e7ba05d3749af9b2aefbe81c7a0ce",
            "placeholder": "​",
            "style": "IPY_MODEL_fbc7936c0aa64c569e5e6f1ad03aad75",
            "value": "0.686 MB of 0.686 MB uploaded (0.000 MB deduped)\r"
          }
        },
        "c3374e7a43184facb13690a6952e5972": {
          "model_module": "@jupyter-widgets/controls",
          "model_name": "FloatProgressModel",
          "model_module_version": "1.5.0",
          "state": {
            "_dom_classes": [],
            "_model_module": "@jupyter-widgets/controls",
            "_model_module_version": "1.5.0",
            "_model_name": "FloatProgressModel",
            "_view_count": null,
            "_view_module": "@jupyter-widgets/controls",
            "_view_module_version": "1.5.0",
            "_view_name": "ProgressView",
            "bar_style": "",
            "description": "",
            "description_tooltip": null,
            "layout": "IPY_MODEL_78964e7cfb2248a280be96c208660474",
            "max": 1,
            "min": 0,
            "orientation": "horizontal",
            "style": "IPY_MODEL_26cac642953d460daef5bb10ca314e2b",
            "value": 1
          }
        },
        "c06152e81c00455dbdfbcb04d09bac1d": {
          "model_module": "@jupyter-widgets/base",
          "model_name": "LayoutModel",
          "model_module_version": "1.2.0",
          "state": {
            "_model_module": "@jupyter-widgets/base",
            "_model_module_version": "1.2.0",
            "_model_name": "LayoutModel",
            "_view_count": null,
            "_view_module": "@jupyter-widgets/base",
            "_view_module_version": "1.2.0",
            "_view_name": "LayoutView",
            "align_content": null,
            "align_items": null,
            "align_self": null,
            "border": null,
            "bottom": null,
            "display": null,
            "flex": null,
            "flex_flow": null,
            "grid_area": null,
            "grid_auto_columns": null,
            "grid_auto_flow": null,
            "grid_auto_rows": null,
            "grid_column": null,
            "grid_gap": null,
            "grid_row": null,
            "grid_template_areas": null,
            "grid_template_columns": null,
            "grid_template_rows": null,
            "height": null,
            "justify_content": null,
            "justify_items": null,
            "left": null,
            "margin": null,
            "max_height": null,
            "max_width": null,
            "min_height": null,
            "min_width": null,
            "object_fit": null,
            "object_position": null,
            "order": null,
            "overflow": null,
            "overflow_x": null,
            "overflow_y": null,
            "padding": null,
            "right": null,
            "top": null,
            "visibility": null,
            "width": null
          }
        },
        "235e7ba05d3749af9b2aefbe81c7a0ce": {
          "model_module": "@jupyter-widgets/base",
          "model_name": "LayoutModel",
          "model_module_version": "1.2.0",
          "state": {
            "_model_module": "@jupyter-widgets/base",
            "_model_module_version": "1.2.0",
            "_model_name": "LayoutModel",
            "_view_count": null,
            "_view_module": "@jupyter-widgets/base",
            "_view_module_version": "1.2.0",
            "_view_name": "LayoutView",
            "align_content": null,
            "align_items": null,
            "align_self": null,
            "border": null,
            "bottom": null,
            "display": null,
            "flex": null,
            "flex_flow": null,
            "grid_area": null,
            "grid_auto_columns": null,
            "grid_auto_flow": null,
            "grid_auto_rows": null,
            "grid_column": null,
            "grid_gap": null,
            "grid_row": null,
            "grid_template_areas": null,
            "grid_template_columns": null,
            "grid_template_rows": null,
            "height": null,
            "justify_content": null,
            "justify_items": null,
            "left": null,
            "margin": null,
            "max_height": null,
            "max_width": null,
            "min_height": null,
            "min_width": null,
            "object_fit": null,
            "object_position": null,
            "order": null,
            "overflow": null,
            "overflow_x": null,
            "overflow_y": null,
            "padding": null,
            "right": null,
            "top": null,
            "visibility": null,
            "width": null
          }
        },
        "fbc7936c0aa64c569e5e6f1ad03aad75": {
          "model_module": "@jupyter-widgets/controls",
          "model_name": "DescriptionStyleModel",
          "model_module_version": "1.5.0",
          "state": {
            "_model_module": "@jupyter-widgets/controls",
            "_model_module_version": "1.5.0",
            "_model_name": "DescriptionStyleModel",
            "_view_count": null,
            "_view_module": "@jupyter-widgets/base",
            "_view_module_version": "1.2.0",
            "_view_name": "StyleView",
            "description_width": ""
          }
        },
        "78964e7cfb2248a280be96c208660474": {
          "model_module": "@jupyter-widgets/base",
          "model_name": "LayoutModel",
          "model_module_version": "1.2.0",
          "state": {
            "_model_module": "@jupyter-widgets/base",
            "_model_module_version": "1.2.0",
            "_model_name": "LayoutModel",
            "_view_count": null,
            "_view_module": "@jupyter-widgets/base",
            "_view_module_version": "1.2.0",
            "_view_name": "LayoutView",
            "align_content": null,
            "align_items": null,
            "align_self": null,
            "border": null,
            "bottom": null,
            "display": null,
            "flex": null,
            "flex_flow": null,
            "grid_area": null,
            "grid_auto_columns": null,
            "grid_auto_flow": null,
            "grid_auto_rows": null,
            "grid_column": null,
            "grid_gap": null,
            "grid_row": null,
            "grid_template_areas": null,
            "grid_template_columns": null,
            "grid_template_rows": null,
            "height": null,
            "justify_content": null,
            "justify_items": null,
            "left": null,
            "margin": null,
            "max_height": null,
            "max_width": null,
            "min_height": null,
            "min_width": null,
            "object_fit": null,
            "object_position": null,
            "order": null,
            "overflow": null,
            "overflow_x": null,
            "overflow_y": null,
            "padding": null,
            "right": null,
            "top": null,
            "visibility": null,
            "width": null
          }
        },
        "26cac642953d460daef5bb10ca314e2b": {
          "model_module": "@jupyter-widgets/controls",
          "model_name": "ProgressStyleModel",
          "model_module_version": "1.5.0",
          "state": {
            "_model_module": "@jupyter-widgets/controls",
            "_model_module_version": "1.5.0",
            "_model_name": "ProgressStyleModel",
            "_view_count": null,
            "_view_module": "@jupyter-widgets/base",
            "_view_module_version": "1.2.0",
            "_view_name": "StyleView",
            "bar_color": null,
            "description_width": ""
          }
        }
      }
    }
  },
  "cells": [
    {
      "cell_type": "markdown",
      "metadata": {
        "id": "view-in-github",
        "colab_type": "text"
      },
      "source": [
        "<a href=\"https://colab.research.google.com/github/verma-saloni/Thesis-Work/blob/main/08_01_22_SBERT%2BGAT_Embeddings_NN_Politifact.ipynb\" target=\"_parent\"><img src=\"https://colab.research.google.com/assets/colab-badge.svg\" alt=\"Open In Colab\"/></a>"
      ]
    },
    {
      "cell_type": "markdown",
      "source": [
        "notebook to concatenate the SBERT (ML) and GAT (graph) embeddings and input to a base Machine Learning model. Initial step to testing multimodality in this regard. The ML model reported good results before for RQ1, so using the same architecture."
      ],
      "metadata": {
        "id": "9uf9GWQUGcBR"
      }
    },
    {
      "cell_type": "code",
      "source": [
        "#%%capture\n",
        "!pip install -U sentence-transformers wandb"
      ],
      "metadata": {
        "id": "aByzVMdkzqAJ"
      },
      "execution_count": null,
      "outputs": []
    },
    {
      "cell_type": "code",
      "execution_count": null,
      "metadata": {
        "id": "8wffusyCytsx"
      },
      "outputs": [],
      "source": [
        "from pathlib import Path\n",
        "import numpy as np\n",
        "import pandas as pd\n",
        "import re\n",
        "import json\n",
        "\n",
        "from sentence_transformers import SentenceTransformer \n",
        "\n",
        "from sklearn.model_selection import StratifiedKFold\n",
        "from sklearn.metrics import accuracy_score, f1_score, precision_score, recall_score\n",
        "\n",
        "import wandb\n",
        "from wandb.keras import WandbCallback\n",
        "from IPython.display import clear_output"
      ]
    },
    {
      "cell_type": "code",
      "source": [
        "metrics = [accuracy_score, f1_score, precision_score, recall_score]\n",
        "\n",
        "def get_name(score_func):\n",
        "    return 'eval/' + score_func.__name__.split(\"_\")[0]"
      ],
      "metadata": {
        "id": "oUUMZeWMuZXE"
      },
      "execution_count": null,
      "outputs": []
    },
    {
      "cell_type": "markdown",
      "source": [
        "# Load data"
      ],
      "metadata": {
        "id": "R_4mZElNIVb5"
      }
    },
    {
      "cell_type": "code",
      "source": [
        "from google.colab import drive\n",
        "drive.mount('/content/drive')\n",
        "\n",
        "base_dir = Path(\"/content/drive/MyDrive/ResearchFND\")\n",
        "assert base_dir.exists()"
      ],
      "metadata": {
        "id": "UxNEaltli8H_",
        "colab": {
          "base_uri": "https://localhost:8080/"
        },
        "outputId": "b3e7b751-2a0d-4fe6-cd63-b8223ffe8178"
      },
      "execution_count": null,
      "outputs": [
        {
          "output_type": "stream",
          "name": "stdout",
          "text": [
            "Mounted at /content/drive\n"
          ]
        }
      ]
    },
    {
      "cell_type": "code",
      "source": [
        "dataset_id = 'politifact'"
      ],
      "metadata": {
        "id": "GdnjXaSwE46w"
      },
      "execution_count": null,
      "outputs": []
    },
    {
      "cell_type": "code",
      "source": [
        "import ast\n",
        "\n",
        "converters = {\"retweets\":ast.literal_eval, \"tweets\":ast.literal_eval}\n",
        "df = pd.read_csv(base_dir/f\"{dataset_id}_agg.csv\", converters=converters)\n",
        "df.head()"
      ],
      "metadata": {
        "id": "2YYgYvwB7nkO",
        "colab": {
          "base_uri": "https://localhost:8080/",
          "height": 479
        },
        "outputId": "228e028b-69ce-4440-e954-683c8134e89a"
      },
      "execution_count": null,
      "outputs": [
        {
          "output_type": "execute_result",
          "data": {
            "text/plain": [
              "   Unnamed: 0                                              title  \\\n",
              "0           0   Actress Emma Stone ‘For the first time in his...   \n",
              "1           1   Breaking President Trump makes English the of...   \n",
              "2           2   Friendly Fire … Charlottesville Car attacker ...   \n",
              "3           3   If You Are Using This Toothpaste… Throw It Aw...   \n",
              "4           4  \"Face the Nation\" transcripts, August 26, 2012...   \n",
              "\n",
              "                                                text tweets  \\\n",
              "0                                                NaN     []   \n",
              "1                                                NaN     []   \n",
              "2                                                NaN     []   \n",
              "3  MightyLiving Blog\\n\\nHelpful inspiration from ...     []   \n",
              "4  \"Face the Nation\" transcripts, August 26, 2012...     []   \n",
              "\n",
              "                                            retweets label  \\\n",
              "0  [1020554564334964741, 1020817527046197248, 106...  fake   \n",
              "1                                                 []  fake   \n",
              "2  [3265439004, 3250621593, 3253922920, 326691851...  fake   \n",
              "3  [911971426571255810, 1036749614853103616, 1033...  fake   \n",
              "4                                                 []  real   \n",
              "\n",
              "                                                 url tweet_ids  num_retweets  \\\n",
              "0                                                NaN        []          2911   \n",
              "1                                                NaN        []             0   \n",
              "2                                                NaN        []            24   \n",
              "3  mightynest.com/learn/research-by-concern/dange...        []          2569   \n",
              "4  https://web.archive.org/web/20120827001956/htt...        []             0   \n",
              "\n",
              "   log_num_retweets  num_tweets  log_num_tweets  \n",
              "0          7.976595           0             0.0  \n",
              "1          0.000000           0             0.0  \n",
              "2          3.218876           0             0.0  \n",
              "3          7.851661           0             0.0  \n",
              "4          0.000000           0             0.0  "
            ],
            "text/html": [
              "\n",
              "  <div id=\"df-262f3a09-6d30-4bf3-bc0c-5ec8bc2d52c3\">\n",
              "    <div class=\"colab-df-container\">\n",
              "      <div>\n",
              "<style scoped>\n",
              "    .dataframe tbody tr th:only-of-type {\n",
              "        vertical-align: middle;\n",
              "    }\n",
              "\n",
              "    .dataframe tbody tr th {\n",
              "        vertical-align: top;\n",
              "    }\n",
              "\n",
              "    .dataframe thead th {\n",
              "        text-align: right;\n",
              "    }\n",
              "</style>\n",
              "<table border=\"1\" class=\"dataframe\">\n",
              "  <thead>\n",
              "    <tr style=\"text-align: right;\">\n",
              "      <th></th>\n",
              "      <th>Unnamed: 0</th>\n",
              "      <th>title</th>\n",
              "      <th>text</th>\n",
              "      <th>tweets</th>\n",
              "      <th>retweets</th>\n",
              "      <th>label</th>\n",
              "      <th>url</th>\n",
              "      <th>tweet_ids</th>\n",
              "      <th>num_retweets</th>\n",
              "      <th>log_num_retweets</th>\n",
              "      <th>num_tweets</th>\n",
              "      <th>log_num_tweets</th>\n",
              "    </tr>\n",
              "  </thead>\n",
              "  <tbody>\n",
              "    <tr>\n",
              "      <th>0</th>\n",
              "      <td>0</td>\n",
              "      <td>Actress Emma Stone ‘For the first time in his...</td>\n",
              "      <td>NaN</td>\n",
              "      <td>[]</td>\n",
              "      <td>[1020554564334964741, 1020817527046197248, 106...</td>\n",
              "      <td>fake</td>\n",
              "      <td>NaN</td>\n",
              "      <td>[]</td>\n",
              "      <td>2911</td>\n",
              "      <td>7.976595</td>\n",
              "      <td>0</td>\n",
              "      <td>0.0</td>\n",
              "    </tr>\n",
              "    <tr>\n",
              "      <th>1</th>\n",
              "      <td>1</td>\n",
              "      <td>Breaking President Trump makes English the of...</td>\n",
              "      <td>NaN</td>\n",
              "      <td>[]</td>\n",
              "      <td>[]</td>\n",
              "      <td>fake</td>\n",
              "      <td>NaN</td>\n",
              "      <td>[]</td>\n",
              "      <td>0</td>\n",
              "      <td>0.000000</td>\n",
              "      <td>0</td>\n",
              "      <td>0.0</td>\n",
              "    </tr>\n",
              "    <tr>\n",
              "      <th>2</th>\n",
              "      <td>2</td>\n",
              "      <td>Friendly Fire … Charlottesville Car attacker ...</td>\n",
              "      <td>NaN</td>\n",
              "      <td>[]</td>\n",
              "      <td>[3265439004, 3250621593, 3253922920, 326691851...</td>\n",
              "      <td>fake</td>\n",
              "      <td>NaN</td>\n",
              "      <td>[]</td>\n",
              "      <td>24</td>\n",
              "      <td>3.218876</td>\n",
              "      <td>0</td>\n",
              "      <td>0.0</td>\n",
              "    </tr>\n",
              "    <tr>\n",
              "      <th>3</th>\n",
              "      <td>3</td>\n",
              "      <td>If You Are Using This Toothpaste… Throw It Aw...</td>\n",
              "      <td>MightyLiving Blog\\n\\nHelpful inspiration from ...</td>\n",
              "      <td>[]</td>\n",
              "      <td>[911971426571255810, 1036749614853103616, 1033...</td>\n",
              "      <td>fake</td>\n",
              "      <td>mightynest.com/learn/research-by-concern/dange...</td>\n",
              "      <td>[]</td>\n",
              "      <td>2569</td>\n",
              "      <td>7.851661</td>\n",
              "      <td>0</td>\n",
              "      <td>0.0</td>\n",
              "    </tr>\n",
              "    <tr>\n",
              "      <th>4</th>\n",
              "      <td>4</td>\n",
              "      <td>\"Face the Nation\" transcripts, August 26, 2012...</td>\n",
              "      <td>\"Face the Nation\" transcripts, August 26, 2012...</td>\n",
              "      <td>[]</td>\n",
              "      <td>[]</td>\n",
              "      <td>real</td>\n",
              "      <td>https://web.archive.org/web/20120827001956/htt...</td>\n",
              "      <td>[]</td>\n",
              "      <td>0</td>\n",
              "      <td>0.000000</td>\n",
              "      <td>0</td>\n",
              "      <td>0.0</td>\n",
              "    </tr>\n",
              "  </tbody>\n",
              "</table>\n",
              "</div>\n",
              "      <button class=\"colab-df-convert\" onclick=\"convertToInteractive('df-262f3a09-6d30-4bf3-bc0c-5ec8bc2d52c3')\"\n",
              "              title=\"Convert this dataframe to an interactive table.\"\n",
              "              style=\"display:none;\">\n",
              "        \n",
              "  <svg xmlns=\"http://www.w3.org/2000/svg\" height=\"24px\"viewBox=\"0 0 24 24\"\n",
              "       width=\"24px\">\n",
              "    <path d=\"M0 0h24v24H0V0z\" fill=\"none\"/>\n",
              "    <path d=\"M18.56 5.44l.94 2.06.94-2.06 2.06-.94-2.06-.94-.94-2.06-.94 2.06-2.06.94zm-11 1L8.5 8.5l.94-2.06 2.06-.94-2.06-.94L8.5 2.5l-.94 2.06-2.06.94zm10 10l.94 2.06.94-2.06 2.06-.94-2.06-.94-.94-2.06-.94 2.06-2.06.94z\"/><path d=\"M17.41 7.96l-1.37-1.37c-.4-.4-.92-.59-1.43-.59-.52 0-1.04.2-1.43.59L10.3 9.45l-7.72 7.72c-.78.78-.78 2.05 0 2.83L4 21.41c.39.39.9.59 1.41.59.51 0 1.02-.2 1.41-.59l7.78-7.78 2.81-2.81c.8-.78.8-2.07 0-2.86zM5.41 20L4 18.59l7.72-7.72 1.47 1.35L5.41 20z\"/>\n",
              "  </svg>\n",
              "      </button>\n",
              "      \n",
              "  <style>\n",
              "    .colab-df-container {\n",
              "      display:flex;\n",
              "      flex-wrap:wrap;\n",
              "      gap: 12px;\n",
              "    }\n",
              "\n",
              "    .colab-df-convert {\n",
              "      background-color: #E8F0FE;\n",
              "      border: none;\n",
              "      border-radius: 50%;\n",
              "      cursor: pointer;\n",
              "      display: none;\n",
              "      fill: #1967D2;\n",
              "      height: 32px;\n",
              "      padding: 0 0 0 0;\n",
              "      width: 32px;\n",
              "    }\n",
              "\n",
              "    .colab-df-convert:hover {\n",
              "      background-color: #E2EBFA;\n",
              "      box-shadow: 0px 1px 2px rgba(60, 64, 67, 0.3), 0px 1px 3px 1px rgba(60, 64, 67, 0.15);\n",
              "      fill: #174EA6;\n",
              "    }\n",
              "\n",
              "    [theme=dark] .colab-df-convert {\n",
              "      background-color: #3B4455;\n",
              "      fill: #D2E3FC;\n",
              "    }\n",
              "\n",
              "    [theme=dark] .colab-df-convert:hover {\n",
              "      background-color: #434B5C;\n",
              "      box-shadow: 0px 1px 3px 1px rgba(0, 0, 0, 0.15);\n",
              "      filter: drop-shadow(0px 1px 2px rgba(0, 0, 0, 0.3));\n",
              "      fill: #FFFFFF;\n",
              "    }\n",
              "  </style>\n",
              "\n",
              "      <script>\n",
              "        const buttonEl =\n",
              "          document.querySelector('#df-262f3a09-6d30-4bf3-bc0c-5ec8bc2d52c3 button.colab-df-convert');\n",
              "        buttonEl.style.display =\n",
              "          google.colab.kernel.accessAllowed ? 'block' : 'none';\n",
              "\n",
              "        async function convertToInteractive(key) {\n",
              "          const element = document.querySelector('#df-262f3a09-6d30-4bf3-bc0c-5ec8bc2d52c3');\n",
              "          const dataTable =\n",
              "            await google.colab.kernel.invokeFunction('convertToInteractive',\n",
              "                                                     [key], {});\n",
              "          if (!dataTable) return;\n",
              "\n",
              "          const docLinkHtml = 'Like what you see? Visit the ' +\n",
              "            '<a target=\"_blank\" href=https://colab.research.google.com/notebooks/data_table.ipynb>data table notebook</a>'\n",
              "            + ' to learn more about interactive tables.';\n",
              "          element.innerHTML = '';\n",
              "          dataTable['output_type'] = 'display_data';\n",
              "          await google.colab.output.renderOutput(dataTable, element);\n",
              "          const docLink = document.createElement('div');\n",
              "          docLink.innerHTML = docLinkHtml;\n",
              "          element.appendChild(docLink);\n",
              "        }\n",
              "      </script>\n",
              "    </div>\n",
              "  </div>\n",
              "  "
            ]
          },
          "metadata": {},
          "execution_count": 19
        }
      ]
    },
    {
      "cell_type": "markdown",
      "source": [
        "# Using the embeddings for title and text from previous experiments"
      ],
      "metadata": {
        "id": "CnksS6trIRdd"
      }
    },
    {
      "cell_type": "code",
      "source": [
        "title_embedding_file = base_dir/f\"{dataset_id}_sbert_title_embeddings.npy\"\n",
        "\n",
        "if title_embedding_file.exists():\n",
        "    title_embeddings = np.load(title_embedding_file)\n",
        "else:\n",
        "    model_id = \"all-mpnet-base-v2\"\n",
        "    model = SentenceTransformer(model_id)\n",
        "    titles = df.title.tolist()\n",
        "    title_embeddings = model.encode(titles, show_progress_bar=True)\n",
        "    np.save(title_embedding_file, title_embeddings)"
      ],
      "metadata": {
        "id": "8H5eVnOyPFam"
      },
      "execution_count": null,
      "outputs": []
    },
    {
      "cell_type": "code",
      "source": [
        "text_embedding_file = base_dir/f\"{dataset_id}_sbert_fulltext_embeddings.npy\"\n",
        "\n",
        "if text_embedding_file.exists():\n",
        "    text_embeddings = np.load(text_embedding_file)\n",
        "else:\n",
        "    model_id = \"all-mpnet-base-v2\"\n",
        "    model = SentenceTransformer(model_id)\n",
        "    texts = (df.title + \"\\n\" + df.text).tolist()\n",
        "    text_embeddings = model.encode(texts, show_progress_bar=True)\n",
        "    np.save(text_embedding_file, text_embeddings)"
      ],
      "metadata": {
        "id": "Uc88pT1nIRFX"
      },
      "execution_count": null,
      "outputs": []
    },
    {
      "cell_type": "code",
      "source": [
        "graph_embeddings = np.load(base_dir/'politifact_gat_embeddings.npy')"
      ],
      "metadata": {
        "id": "2jWwSTCrCMR8"
      },
      "execution_count": null,
      "outputs": []
    },
    {
      "cell_type": "markdown",
      "source": [
        "Adding other features like number of tweets amd retweets for each article from the politifact dataset."
      ],
      "metadata": {
        "id": "fwLbyqz1mRMA"
      }
    },
    {
      "cell_type": "code",
      "source": [
        "df[\"num_retweets\"] = df.retweets.map(lambda x: len(set(x)))\n",
        "df[\"log_num_retweets\"] = np.log1p(df.num_retweets.to_numpy())\n",
        "df[\"num_tweets\"] = df.tweets.map(lambda x: len(set([t[\"id\"] for t in x])))\n",
        "df[\"log_num_tweets\"] = np.log1p(df.num_tweets.to_numpy())"
      ],
      "metadata": {
        "id": "h3uRPu4yGYvp"
      },
      "execution_count": null,
      "outputs": []
    },
    {
      "cell_type": "markdown",
      "source": [
        "# Training - Saving the machine learning model specifications"
      ],
      "metadata": {
        "id": "BIJrjc_jMSmB"
      }
    },
    {
      "cell_type": "code",
      "source": [
        "import tensorflow as tf"
      ],
      "metadata": {
        "id": "crdL5CNX_guQ"
      },
      "execution_count": null,
      "outputs": []
    },
    {
      "cell_type": "code",
      "source": [
        "def get_model(d_h=64, p_in:float=0.2, p_out:float=0.2):\n",
        "    model = tf.keras.Sequential([\n",
        "        tf.keras.layers.Dropout(p_in), # input dropout\n",
        "        tf.keras.layers.Dense(d_h, activation='relu'),\n",
        "        tf.keras.layers.Dropout(p_out),  \n",
        "        tf.keras.layers.Dense(1)\n",
        "    ])\n",
        "\n",
        "    model.compile(loss=tf.keras.losses.BinaryCrossentropy(from_logits=True), \n",
        "                  optimizer='adam',metrics=['accuracy'])\n",
        "    return model"
      ],
      "metadata": {
        "id": "-_V-I0VdTezQ"
      },
      "execution_count": null,
      "outputs": []
    },
    {
      "cell_type": "code",
      "source": [
        "def train(fold_id, train_idx, test_idx, params):\n",
        "\n",
        "    # setup\n",
        "    X_train, X_test = X[train_idx], X[test_idx]\n",
        "    y_train, y_test = y[train_idx], y[test_idx]\n",
        "    model = get_model()\n",
        "    # training\n",
        "    ckpt_filepath = f'ckpt/fold_{fold_id}'\n",
        "    save_model_cb = tf.keras.callbacks.ModelCheckpoint(\n",
        "        filepath=ckpt_filepath,\n",
        "        save_weights_only=True,\n",
        "        monitor='val_accuracy',\n",
        "        mode='max',\n",
        "        save_best_only=True)\n",
        "    history = model.fit(\n",
        "        X_train, y_train, validation_data = (X_test, y_test), \n",
        "        batch_size = params['bs'] , epochs=params['epochs'],\n",
        "        callbacks=[WandbCallback(), save_model_cb]\n",
        "    )\n",
        "    #evaluation\n",
        "    model.load_weights(ckpt_filepath)\n",
        "    logits = model.predict(X_test).squeeze()\n",
        "    y_pred = (logits > 0.).astype(int)\n",
        "    eval_results = {get_name(f):f(y_pred=y_pred, y_true=y_test) for f in metrics}\n",
        "    wandb.log(eval_results)\n",
        "    wandb.log({\"conf_mat\" : wandb.plot.confusion_matrix(probs=None,\n",
        "                            y_true=y_test, preds=y_pred,\n",
        "                            class_names=[\"Fake\", \"Real\"])})\n",
        "    return history"
      ],
      "metadata": {
        "id": "d4qbKryd_e3g"
      },
      "execution_count": null,
      "outputs": []
    },
    {
      "cell_type": "code",
      "source": [
        "params = {\n",
        "    \"epochs\":200,\n",
        "    \"bs\":128,\n",
        "    # 'lr':1e-3\n",
        "}"
      ],
      "metadata": {
        "id": "srO1Fnw1_e3i"
      },
      "execution_count": null,
      "outputs": []
    },
    {
      "cell_type": "code",
      "source": [
        "graph_embeddings.shape"
      ],
      "metadata": {
        "colab": {
          "base_uri": "https://localhost:8080/"
        },
        "id": "7D_xAxZ1C_H0",
        "outputId": "05831976-df54-4737-81ee-9440196ee3d8"
      },
      "execution_count": null,
      "outputs": [
        {
          "output_type": "execute_result",
          "data": {
            "text/plain": [
              "(894, 64)"
            ]
          },
          "metadata": {},
          "execution_count": 16
        }
      ]
    },
    {
      "cell_type": "code",
      "source": [
        "X = np.concatenate([\n",
        "    text_embeddings, \n",
        "    df.log_num_retweets.to_numpy()[..., None], \n",
        "    df.log_num_tweets.to_numpy()[..., None],\n",
        "    graph_embeddings], axis=1)\n",
        "y = (df.label==\"real\").to_numpy().astype(int)\n",
        "\n",
        "X.shape, y.shape"
      ],
      "metadata": {
        "colab": {
          "base_uri": "https://localhost:8080/"
        },
        "outputId": "a86271c2-baf3-4a2f-b941-3a15be4c4cc8",
        "id": "NYFQrhVkqGbC"
      },
      "execution_count": null,
      "outputs": [
        {
          "output_type": "execute_result",
          "data": {
            "text/plain": [
              "((894, 834), (894,))"
            ]
          },
          "metadata": {},
          "execution_count": 23
        }
      ]
    },
    {
      "cell_type": "code",
      "source": [
        "skf = StratifiedKFold(shuffle=True, random_state=124)"
      ],
      "metadata": {
        "id": "klzwNg8FqGbD"
      },
      "execution_count": null,
      "outputs": []
    },
    {
      "cell_type": "markdown",
      "source": [
        "Creating a group and logging all train, test data in wandb for better tracking and visualisation."
      ],
      "metadata": {
        "id": "1-xC0mIBHj-w"
      }
    },
    {
      "cell_type": "code",
      "source": [
        "GROUP = f\"{dataset_id}-fulltext-sbert+tw+gat-mlp\"\n",
        "\n",
        "for fold_id, (train_idx, test_idx) in enumerate(skf.split(X, y)):\n",
        "    clear_output()\n",
        "    with wandb.init(entity=\"saloniteam\", project=\"nofolds\", group=GROUP, name=f\"{GROUP}-{fold_id}\") as run:\n",
        "        train(fold_id, train_idx, test_idx, params)\n",
        "    break"
      ],
      "metadata": {
        "id": "j24fAfr2rTJI",
        "colab": {
          "base_uri": "https://localhost:8080/",
          "height": 1000,
          "referenced_widgets": [
            "a0504ca4d2e341ec925b277fcd3eb6a4",
            "25f93d85e9c24f1ab98c0968a8cc19d1",
            "c3374e7a43184facb13690a6952e5972",
            "c06152e81c00455dbdfbcb04d09bac1d",
            "235e7ba05d3749af9b2aefbe81c7a0ce",
            "fbc7936c0aa64c569e5e6f1ad03aad75",
            "78964e7cfb2248a280be96c208660474",
            "26cac642953d460daef5bb10ca314e2b"
          ]
        },
        "outputId": "37cbd4b7-1e81-4433-84d4-ec0080eaaa62"
      },
      "execution_count": null,
      "outputs": [
        {
          "output_type": "stream",
          "name": "stderr",
          "text": [
            "\u001b[34m\u001b[1mwandb\u001b[0m: Currently logged in as: \u001b[33msaloni\u001b[0m (\u001b[33msaloniteam\u001b[0m). Use \u001b[1m`wandb login --relogin`\u001b[0m to force relogin\n"
          ]
        },
        {
          "output_type": "display_data",
          "data": {
            "text/plain": [
              "<IPython.core.display.HTML object>"
            ],
            "text/html": [
              "Tracking run with wandb version 0.12.21"
            ]
          },
          "metadata": {}
        },
        {
          "output_type": "display_data",
          "data": {
            "text/plain": [
              "<IPython.core.display.HTML object>"
            ],
            "text/html": [
              "Run data is saved locally in <code>/content/wandb/run-20220802_101637-3htcun84</code>"
            ]
          },
          "metadata": {}
        },
        {
          "output_type": "display_data",
          "data": {
            "text/plain": [
              "<IPython.core.display.HTML object>"
            ],
            "text/html": [
              "Syncing run <strong><a href=\"https://wandb.ai/saloniteam/nofolds/runs/3htcun84\" target=\"_blank\">politifact-fulltext-sbert+tw+gat-mlp-0</a></strong> to <a href=\"https://wandb.ai/saloniteam/nofolds\" target=\"_blank\">Weights & Biases</a> (<a href=\"https://wandb.me/run\" target=\"_blank\">docs</a>)<br/>"
            ]
          },
          "metadata": {}
        },
        {
          "output_type": "stream",
          "name": "stderr",
          "text": [
            "\u001b[34m\u001b[1mwandb\u001b[0m: \u001b[33mWARNING\u001b[0m The save_model argument by default saves the model in the HDF5 format that cannot save custom objects like subclassed models and custom layers. This behavior will be deprecated in a future release in favor of the SavedModel format. Meanwhile, the HDF5 model is saved as W&B files and the SavedModel as W&B Artifacts.\n",
            "\u001b[34m\u001b[1mwandb\u001b[0m: \u001b[33mWARNING\u001b[0m Unable to compute FLOPs for this model.\n"
          ]
        },
        {
          "output_type": "stream",
          "name": "stdout",
          "text": [
            "Epoch 1/200\n",
            "6/6 [==============================] - 1s 56ms/step - loss: 0.6970 - accuracy: 0.5329 - val_loss: 0.4622 - val_accuracy: 0.7486 - _timestamp: 1659435400.0000 - _runtime: 3.0000\n",
            "Epoch 2/200\n",
            "6/6 [==============================] - 0s 18ms/step - loss: 0.4142 - accuracy: 0.8308 - val_loss: 0.3410 - val_accuracy: 0.8883 - _timestamp: 1659435400.0000 - _runtime: 3.0000\n",
            "Epoch 3/200\n",
            "6/6 [==============================] - 0s 21ms/step - loss: 0.3192 - accuracy: 0.8909 - val_loss: 0.2719 - val_accuracy: 0.8939 - _timestamp: 1659435400.0000 - _runtime: 3.0000\n",
            "Epoch 4/200\n",
            "6/6 [==============================] - 0s 17ms/step - loss: 0.2641 - accuracy: 0.9133 - val_loss: 0.2327 - val_accuracy: 0.9162 - _timestamp: 1659435400.0000 - _runtime: 3.0000\n",
            "Epoch 5/200\n",
            "6/6 [==============================] - 0s 17ms/step - loss: 0.2310 - accuracy: 0.9175 - val_loss: 0.2110 - val_accuracy: 0.9162 - _timestamp: 1659435401.0000 - _runtime: 4.0000\n",
            "Epoch 6/200\n",
            "6/6 [==============================] - 0s 16ms/step - loss: 0.2068 - accuracy: 0.9273 - val_loss: 0.1987 - val_accuracy: 0.9218 - _timestamp: 1659435401.0000 - _runtime: 4.0000\n",
            "Epoch 7/200\n",
            "6/6 [==============================] - 0s 13ms/step - loss: 0.1951 - accuracy: 0.9217 - val_loss: 0.1927 - val_accuracy: 0.9218 - _timestamp: 1659435401.0000 - _runtime: 4.0000\n",
            "Epoch 8/200\n",
            "6/6 [==============================] - 0s 17ms/step - loss: 0.1877 - accuracy: 0.9217 - val_loss: 0.1891 - val_accuracy: 0.9274 - _timestamp: 1659435401.0000 - _runtime: 4.0000\n",
            "Epoch 9/200\n",
            "6/6 [==============================] - 0s 14ms/step - loss: 0.1876 - accuracy: 0.9203 - val_loss: 0.1864 - val_accuracy: 0.9274 - _timestamp: 1659435401.0000 - _runtime: 4.0000\n",
            "Epoch 10/200\n",
            "6/6 [==============================] - 0s 13ms/step - loss: 0.1774 - accuracy: 0.9245 - val_loss: 0.1845 - val_accuracy: 0.9274 - _timestamp: 1659435401.0000 - _runtime: 4.0000\n",
            "Epoch 11/200\n",
            "6/6 [==============================] - 0s 13ms/step - loss: 0.1781 - accuracy: 0.9231 - val_loss: 0.1833 - val_accuracy: 0.9274 - _timestamp: 1659435401.0000 - _runtime: 4.0000\n",
            "Epoch 12/200\n",
            "6/6 [==============================] - 0s 14ms/step - loss: 0.1730 - accuracy: 0.9259 - val_loss: 0.1821 - val_accuracy: 0.9218 - _timestamp: 1659435401.0000 - _runtime: 4.0000\n",
            "Epoch 13/200\n",
            "6/6 [==============================] - 0s 16ms/step - loss: 0.1721 - accuracy: 0.9273 - val_loss: 0.1810 - val_accuracy: 0.9162 - _timestamp: 1659435401.0000 - _runtime: 4.0000\n",
            "Epoch 14/200\n",
            "6/6 [==============================] - 0s 13ms/step - loss: 0.1633 - accuracy: 0.9315 - val_loss: 0.1795 - val_accuracy: 0.9162 - _timestamp: 1659435401.0000 - _runtime: 4.0000\n",
            "Epoch 15/200\n",
            "6/6 [==============================] - 0s 13ms/step - loss: 0.1577 - accuracy: 0.9371 - val_loss: 0.1787 - val_accuracy: 0.9162 - _timestamp: 1659435401.0000 - _runtime: 4.0000\n",
            "Epoch 16/200\n",
            "6/6 [==============================] - 0s 13ms/step - loss: 0.1691 - accuracy: 0.9301 - val_loss: 0.1767 - val_accuracy: 0.9162 - _timestamp: 1659435402.0000 - _runtime: 5.0000\n",
            "Epoch 17/200\n",
            "6/6 [==============================] - 0s 15ms/step - loss: 0.1561 - accuracy: 0.9343 - val_loss: 0.1761 - val_accuracy: 0.9162 - _timestamp: 1659435402.0000 - _runtime: 5.0000\n",
            "Epoch 18/200\n",
            "6/6 [==============================] - 0s 14ms/step - loss: 0.1509 - accuracy: 0.9315 - val_loss: 0.1752 - val_accuracy: 0.9162 - _timestamp: 1659435402.0000 - _runtime: 5.0000\n",
            "Epoch 19/200\n",
            "6/6 [==============================] - 0s 12ms/step - loss: 0.1479 - accuracy: 0.9385 - val_loss: 0.1747 - val_accuracy: 0.9162 - _timestamp: 1659435402.0000 - _runtime: 5.0000\n",
            "Epoch 20/200\n",
            "6/6 [==============================] - 0s 14ms/step - loss: 0.1508 - accuracy: 0.9413 - val_loss: 0.1732 - val_accuracy: 0.9162 - _timestamp: 1659435402.0000 - _runtime: 5.0000\n",
            "Epoch 21/200\n",
            "6/6 [==============================] - 0s 13ms/step - loss: 0.1497 - accuracy: 0.9301 - val_loss: 0.1731 - val_accuracy: 0.9162 - _timestamp: 1659435402.0000 - _runtime: 5.0000\n",
            "Epoch 22/200\n",
            "6/6 [==============================] - 0s 14ms/step - loss: 0.1388 - accuracy: 0.9371 - val_loss: 0.1723 - val_accuracy: 0.9162 - _timestamp: 1659435402.0000 - _runtime: 5.0000\n",
            "Epoch 23/200\n",
            "6/6 [==============================] - 0s 13ms/step - loss: 0.1424 - accuracy: 0.9357 - val_loss: 0.1708 - val_accuracy: 0.9162 - _timestamp: 1659435402.0000 - _runtime: 5.0000\n",
            "Epoch 24/200\n",
            "6/6 [==============================] - 0s 13ms/step - loss: 0.1341 - accuracy: 0.9483 - val_loss: 0.1696 - val_accuracy: 0.9162 - _timestamp: 1659435402.0000 - _runtime: 5.0000\n",
            "Epoch 25/200\n",
            "6/6 [==============================] - 0s 15ms/step - loss: 0.1320 - accuracy: 0.9469 - val_loss: 0.1693 - val_accuracy: 0.9162 - _timestamp: 1659435402.0000 - _runtime: 5.0000\n",
            "Epoch 26/200\n",
            "6/6 [==============================] - 0s 13ms/step - loss: 0.1376 - accuracy: 0.9413 - val_loss: 0.1691 - val_accuracy: 0.9218 - _timestamp: 1659435402.0000 - _runtime: 5.0000\n",
            "Epoch 27/200\n",
            "6/6 [==============================] - 0s 13ms/step - loss: 0.1302 - accuracy: 0.9427 - val_loss: 0.1694 - val_accuracy: 0.9218 - _timestamp: 1659435402.0000 - _runtime: 5.0000\n",
            "Epoch 28/200\n",
            "6/6 [==============================] - 0s 13ms/step - loss: 0.1339 - accuracy: 0.9413 - val_loss: 0.1676 - val_accuracy: 0.9162 - _timestamp: 1659435403.0000 - _runtime: 6.0000\n",
            "Epoch 29/200\n",
            "6/6 [==============================] - 0s 15ms/step - loss: 0.1229 - accuracy: 0.9469 - val_loss: 0.1662 - val_accuracy: 0.9162 - _timestamp: 1659435403.0000 - _runtime: 6.0000\n",
            "Epoch 30/200\n",
            "6/6 [==============================] - 0s 14ms/step - loss: 0.1189 - accuracy: 0.9538 - val_loss: 0.1659 - val_accuracy: 0.9162 - _timestamp: 1659435403.0000 - _runtime: 6.0000\n",
            "Epoch 31/200\n",
            "6/6 [==============================] - 0s 13ms/step - loss: 0.1164 - accuracy: 0.9524 - val_loss: 0.1656 - val_accuracy: 0.9162 - _timestamp: 1659435403.0000 - _runtime: 6.0000\n",
            "Epoch 32/200\n",
            "6/6 [==============================] - 0s 9ms/step - loss: 0.1156 - accuracy: 0.9469 - val_loss: 0.1660 - val_accuracy: 0.9162 - _timestamp: 1659435403.0000 - _runtime: 6.0000\n",
            "Epoch 33/200\n",
            "6/6 [==============================] - 0s 13ms/step - loss: 0.1210 - accuracy: 0.9455 - val_loss: 0.1651 - val_accuracy: 0.9162 - _timestamp: 1659435403.0000 - _runtime: 6.0000\n",
            "Epoch 34/200\n",
            "6/6 [==============================] - 0s 12ms/step - loss: 0.1139 - accuracy: 0.9552 - val_loss: 0.1652 - val_accuracy: 0.9162 - _timestamp: 1659435403.0000 - _runtime: 6.0000\n",
            "Epoch 35/200\n",
            "6/6 [==============================] - 0s 11ms/step - loss: 0.1076 - accuracy: 0.9552 - val_loss: 0.1658 - val_accuracy: 0.9274 - _timestamp: 1659435403.0000 - _runtime: 6.0000\n",
            "Epoch 36/200\n",
            "6/6 [==============================] - 0s 10ms/step - loss: 0.1131 - accuracy: 0.9538 - val_loss: 0.1659 - val_accuracy: 0.9274 - _timestamp: 1659435403.0000 - _runtime: 6.0000\n",
            "Epoch 37/200\n",
            "6/6 [==============================] - 0s 13ms/step - loss: 0.1030 - accuracy: 0.9580 - val_loss: 0.1639 - val_accuracy: 0.9218 - _timestamp: 1659435403.0000 - _runtime: 6.0000\n",
            "Epoch 38/200\n",
            "6/6 [==============================] - 0s 14ms/step - loss: 0.1075 - accuracy: 0.9524 - val_loss: 0.1630 - val_accuracy: 0.9218 - _timestamp: 1659435403.0000 - _runtime: 6.0000\n",
            "Epoch 39/200\n",
            "6/6 [==============================] - 0s 13ms/step - loss: 0.1002 - accuracy: 0.9580 - val_loss: 0.1617 - val_accuracy: 0.9218 - _timestamp: 1659435403.0000 - _runtime: 6.0000\n",
            "Epoch 40/200\n",
            "6/6 [==============================] - 0s 15ms/step - loss: 0.0981 - accuracy: 0.9552 - val_loss: 0.1610 - val_accuracy: 0.9218 - _timestamp: 1659435404.0000 - _runtime: 7.0000\n",
            "Epoch 41/200\n",
            "6/6 [==============================] - 0s 13ms/step - loss: 0.0984 - accuracy: 0.9580 - val_loss: 0.1600 - val_accuracy: 0.9218 - _timestamp: 1659435404.0000 - _runtime: 7.0000\n",
            "Epoch 42/200\n",
            "6/6 [==============================] - 0s 11ms/step - loss: 0.0973 - accuracy: 0.9622 - val_loss: 0.1610 - val_accuracy: 0.9218 - _timestamp: 1659435404.0000 - _runtime: 7.0000\n",
            "Epoch 43/200\n",
            "6/6 [==============================] - 0s 10ms/step - loss: 0.0961 - accuracy: 0.9552 - val_loss: 0.1639 - val_accuracy: 0.9218 - _timestamp: 1659435404.0000 - _runtime: 7.0000\n",
            "Epoch 44/200\n",
            "6/6 [==============================] - 0s 10ms/step - loss: 0.0909 - accuracy: 0.9594 - val_loss: 0.1635 - val_accuracy: 0.9162 - _timestamp: 1659435404.0000 - _runtime: 7.0000\n",
            "Epoch 45/200\n",
            "6/6 [==============================] - 0s 10ms/step - loss: 0.0900 - accuracy: 0.9636 - val_loss: 0.1605 - val_accuracy: 0.9218 - _timestamp: 1659435404.0000 - _runtime: 7.0000\n",
            "Epoch 46/200\n",
            "6/6 [==============================] - 0s 14ms/step - loss: 0.0873 - accuracy: 0.9678 - val_loss: 0.1599 - val_accuracy: 0.9162 - _timestamp: 1659435404.0000 - _runtime: 7.0000\n",
            "Epoch 47/200\n",
            "6/6 [==============================] - 0s 11ms/step - loss: 0.0886 - accuracy: 0.9650 - val_loss: 0.1605 - val_accuracy: 0.9162 - _timestamp: 1659435404.0000 - _runtime: 7.0000\n",
            "Epoch 48/200\n",
            "6/6 [==============================] - 0s 13ms/step - loss: 0.0909 - accuracy: 0.9566 - val_loss: 0.1595 - val_accuracy: 0.9162 - _timestamp: 1659435404.0000 - _runtime: 7.0000\n",
            "Epoch 49/200\n",
            "6/6 [==============================] - 0s 9ms/step - loss: 0.0875 - accuracy: 0.9622 - val_loss: 0.1623 - val_accuracy: 0.9162 - _timestamp: 1659435404.0000 - _runtime: 7.0000\n",
            "Epoch 50/200\n",
            "6/6 [==============================] - 0s 10ms/step - loss: 0.0791 - accuracy: 0.9720 - val_loss: 0.1618 - val_accuracy: 0.9162 - _timestamp: 1659435404.0000 - _runtime: 7.0000\n",
            "Epoch 51/200\n",
            "6/6 [==============================] - 0s 11ms/step - loss: 0.0795 - accuracy: 0.9636 - val_loss: 0.1601 - val_accuracy: 0.9218 - _timestamp: 1659435404.0000 - _runtime: 7.0000\n",
            "Epoch 52/200\n",
            "6/6 [==============================] - 0s 10ms/step - loss: 0.0787 - accuracy: 0.9706 - val_loss: 0.1599 - val_accuracy: 0.9218 - _timestamp: 1659435404.0000 - _runtime: 7.0000\n",
            "Epoch 53/200\n",
            "6/6 [==============================] - 0s 10ms/step - loss: 0.0699 - accuracy: 0.9706 - val_loss: 0.1609 - val_accuracy: 0.9218 - _timestamp: 1659435404.0000 - _runtime: 7.0000\n",
            "Epoch 54/200\n",
            "6/6 [==============================] - 0s 16ms/step - loss: 0.0746 - accuracy: 0.9678 - val_loss: 0.1587 - val_accuracy: 0.9218 - _timestamp: 1659435405.0000 - _runtime: 8.0000\n",
            "Epoch 55/200\n",
            "6/6 [==============================] - 0s 10ms/step - loss: 0.0770 - accuracy: 0.9734 - val_loss: 0.1594 - val_accuracy: 0.9162 - _timestamp: 1659435405.0000 - _runtime: 8.0000\n",
            "Epoch 56/200\n",
            "6/6 [==============================] - 0s 10ms/step - loss: 0.0722 - accuracy: 0.9748 - val_loss: 0.1630 - val_accuracy: 0.9218 - _timestamp: 1659435405.0000 - _runtime: 8.0000\n",
            "Epoch 57/200\n",
            "6/6 [==============================] - 0s 11ms/step - loss: 0.0728 - accuracy: 0.9692 - val_loss: 0.1627 - val_accuracy: 0.9162 - _timestamp: 1659435405.0000 - _runtime: 8.0000\n",
            "Epoch 58/200\n",
            "6/6 [==============================] - 0s 9ms/step - loss: 0.0665 - accuracy: 0.9734 - val_loss: 0.1611 - val_accuracy: 0.9162 - _timestamp: 1659435405.0000 - _runtime: 8.0000\n",
            "Epoch 59/200\n",
            "6/6 [==============================] - 0s 9ms/step - loss: 0.0684 - accuracy: 0.9748 - val_loss: 0.1605 - val_accuracy: 0.9106 - _timestamp: 1659435405.0000 - _runtime: 8.0000\n",
            "Epoch 60/200\n",
            "6/6 [==============================] - 0s 9ms/step - loss: 0.0698 - accuracy: 0.9720 - val_loss: 0.1604 - val_accuracy: 0.9162 - _timestamp: 1659435405.0000 - _runtime: 8.0000\n",
            "Epoch 61/200\n",
            "6/6 [==============================] - 0s 11ms/step - loss: 0.0638 - accuracy: 0.9776 - val_loss: 0.1598 - val_accuracy: 0.9162 - _timestamp: 1659435405.0000 - _runtime: 8.0000\n",
            "Epoch 62/200\n",
            "6/6 [==============================] - 0s 10ms/step - loss: 0.0630 - accuracy: 0.9804 - val_loss: 0.1607 - val_accuracy: 0.9050 - _timestamp: 1659435405.0000 - _runtime: 8.0000\n",
            "Epoch 63/200\n",
            "6/6 [==============================] - 0s 9ms/step - loss: 0.0639 - accuracy: 0.9748 - val_loss: 0.1609 - val_accuracy: 0.9106 - _timestamp: 1659435405.0000 - _runtime: 8.0000\n",
            "Epoch 64/200\n",
            "6/6 [==============================] - 0s 10ms/step - loss: 0.0694 - accuracy: 0.9776 - val_loss: 0.1600 - val_accuracy: 0.9106 - _timestamp: 1659435405.0000 - _runtime: 8.0000\n",
            "Epoch 65/200\n",
            "6/6 [==============================] - 0s 10ms/step - loss: 0.0624 - accuracy: 0.9832 - val_loss: 0.1593 - val_accuracy: 0.9106 - _timestamp: 1659435405.0000 - _runtime: 8.0000\n",
            "Epoch 66/200\n",
            "6/6 [==============================] - 0s 10ms/step - loss: 0.0598 - accuracy: 0.9860 - val_loss: 0.1603 - val_accuracy: 0.9106 - _timestamp: 1659435405.0000 - _runtime: 8.0000\n",
            "Epoch 67/200\n",
            "6/6 [==============================] - 0s 11ms/step - loss: 0.0551 - accuracy: 0.9888 - val_loss: 0.1631 - val_accuracy: 0.9106 - _timestamp: 1659435405.0000 - _runtime: 8.0000\n",
            "Epoch 68/200\n",
            "6/6 [==============================] - 0s 12ms/step - loss: 0.0561 - accuracy: 0.9832 - val_loss: 0.1657 - val_accuracy: 0.9106 - _timestamp: 1659435406.0000 - _runtime: 9.0000\n",
            "Epoch 69/200\n",
            "6/6 [==============================] - 0s 10ms/step - loss: 0.0621 - accuracy: 0.9762 - val_loss: 0.1674 - val_accuracy: 0.9050 - _timestamp: 1659435406.0000 - _runtime: 9.0000\n",
            "Epoch 70/200\n",
            "6/6 [==============================] - 0s 10ms/step - loss: 0.0562 - accuracy: 0.9776 - val_loss: 0.1656 - val_accuracy: 0.9106 - _timestamp: 1659435406.0000 - _runtime: 9.0000\n",
            "Epoch 71/200\n",
            "6/6 [==============================] - 0s 10ms/step - loss: 0.0589 - accuracy: 0.9804 - val_loss: 0.1636 - val_accuracy: 0.9106 - _timestamp: 1659435406.0000 - _runtime: 9.0000\n",
            "Epoch 72/200\n",
            "6/6 [==============================] - 0s 12ms/step - loss: 0.0514 - accuracy: 0.9832 - val_loss: 0.1650 - val_accuracy: 0.9106 - _timestamp: 1659435406.0000 - _runtime: 9.0000\n",
            "Epoch 73/200\n",
            "6/6 [==============================] - 0s 11ms/step - loss: 0.0554 - accuracy: 0.9776 - val_loss: 0.1715 - val_accuracy: 0.9106 - _timestamp: 1659435406.0000 - _runtime: 9.0000\n",
            "Epoch 74/200\n",
            "6/6 [==============================] - 0s 9ms/step - loss: 0.0522 - accuracy: 0.9790 - val_loss: 0.1657 - val_accuracy: 0.9050 - _timestamp: 1659435406.0000 - _runtime: 9.0000\n",
            "Epoch 75/200\n",
            "6/6 [==============================] - 0s 12ms/step - loss: 0.0553 - accuracy: 0.9860 - val_loss: 0.1652 - val_accuracy: 0.9050 - _timestamp: 1659435406.0000 - _runtime: 9.0000\n",
            "Epoch 76/200\n",
            "6/6 [==============================] - 0s 10ms/step - loss: 0.0520 - accuracy: 0.9846 - val_loss: 0.1676 - val_accuracy: 0.9050 - _timestamp: 1659435406.0000 - _runtime: 9.0000\n",
            "Epoch 77/200\n",
            "6/6 [==============================] - 0s 11ms/step - loss: 0.0478 - accuracy: 0.9846 - val_loss: 0.1659 - val_accuracy: 0.9106 - _timestamp: 1659435406.0000 - _runtime: 9.0000\n",
            "Epoch 78/200\n",
            "6/6 [==============================] - 0s 10ms/step - loss: 0.0449 - accuracy: 0.9888 - val_loss: 0.1644 - val_accuracy: 0.9050 - _timestamp: 1659435406.0000 - _runtime: 9.0000\n",
            "Epoch 79/200\n",
            "6/6 [==============================] - 0s 10ms/step - loss: 0.0516 - accuracy: 0.9860 - val_loss: 0.1635 - val_accuracy: 0.9050 - _timestamp: 1659435406.0000 - _runtime: 9.0000\n",
            "Epoch 80/200\n",
            "6/6 [==============================] - 0s 12ms/step - loss: 0.0404 - accuracy: 0.9916 - val_loss: 0.1632 - val_accuracy: 0.9050 - _timestamp: 1659435406.0000 - _runtime: 9.0000\n",
            "Epoch 81/200\n",
            "6/6 [==============================] - 0s 13ms/step - loss: 0.0491 - accuracy: 0.9874 - val_loss: 0.1642 - val_accuracy: 0.9050 - _timestamp: 1659435407.0000 - _runtime: 10.0000\n",
            "Epoch 82/200\n",
            "6/6 [==============================] - 0s 10ms/step - loss: 0.0468 - accuracy: 0.9804 - val_loss: 0.1661 - val_accuracy: 0.9106 - _timestamp: 1659435407.0000 - _runtime: 10.0000\n",
            "Epoch 83/200\n",
            "6/6 [==============================] - 0s 10ms/step - loss: 0.0419 - accuracy: 0.9874 - val_loss: 0.1657 - val_accuracy: 0.9106 - _timestamp: 1659435407.0000 - _runtime: 10.0000\n",
            "Epoch 84/200\n",
            "6/6 [==============================] - 0s 10ms/step - loss: 0.0383 - accuracy: 0.9902 - val_loss: 0.1640 - val_accuracy: 0.9050 - _timestamp: 1659435407.0000 - _runtime: 10.0000\n",
            "Epoch 85/200\n",
            "6/6 [==============================] - 0s 10ms/step - loss: 0.0480 - accuracy: 0.9874 - val_loss: 0.1635 - val_accuracy: 0.9050 - _timestamp: 1659435407.0000 - _runtime: 10.0000\n",
            "Epoch 86/200\n",
            "6/6 [==============================] - 0s 9ms/step - loss: 0.0390 - accuracy: 0.9860 - val_loss: 0.1657 - val_accuracy: 0.9106 - _timestamp: 1659435407.0000 - _runtime: 10.0000\n",
            "Epoch 87/200\n",
            "6/6 [==============================] - 0s 9ms/step - loss: 0.0470 - accuracy: 0.9846 - val_loss: 0.1633 - val_accuracy: 0.9050 - _timestamp: 1659435407.0000 - _runtime: 10.0000\n",
            "Epoch 88/200\n",
            "6/6 [==============================] - 0s 9ms/step - loss: 0.0361 - accuracy: 0.9874 - val_loss: 0.1631 - val_accuracy: 0.9050 - _timestamp: 1659435407.0000 - _runtime: 10.0000\n",
            "Epoch 89/200\n",
            "6/6 [==============================] - 0s 10ms/step - loss: 0.0369 - accuracy: 0.9944 - val_loss: 0.1629 - val_accuracy: 0.9106 - _timestamp: 1659435407.0000 - _runtime: 10.0000\n",
            "Epoch 90/200\n",
            "6/6 [==============================] - 0s 13ms/step - loss: 0.0378 - accuracy: 0.9860 - val_loss: 0.1643 - val_accuracy: 0.9106 - _timestamp: 1659435407.0000 - _runtime: 10.0000\n",
            "Epoch 91/200\n",
            "6/6 [==============================] - 0s 10ms/step - loss: 0.0324 - accuracy: 0.9916 - val_loss: 0.1647 - val_accuracy: 0.9106 - _timestamp: 1659435407.0000 - _runtime: 10.0000\n",
            "Epoch 92/200\n",
            "6/6 [==============================] - 0s 13ms/step - loss: 0.0395 - accuracy: 0.9888 - val_loss: 0.1679 - val_accuracy: 0.9050 - _timestamp: 1659435407.0000 - _runtime: 10.0000\n",
            "Epoch 93/200\n",
            "6/6 [==============================] - 0s 9ms/step - loss: 0.0369 - accuracy: 0.9944 - val_loss: 0.1686 - val_accuracy: 0.9050 - _timestamp: 1659435407.0000 - _runtime: 10.0000\n",
            "Epoch 94/200\n",
            "6/6 [==============================] - 0s 12ms/step - loss: 0.0325 - accuracy: 0.9958 - val_loss: 0.1682 - val_accuracy: 0.9106 - _timestamp: 1659435407.0000 - _runtime: 10.0000\n",
            "Epoch 95/200\n",
            "6/6 [==============================] - 0s 10ms/step - loss: 0.0348 - accuracy: 0.9902 - val_loss: 0.1656 - val_accuracy: 0.9162 - _timestamp: 1659435408.0000 - _runtime: 11.0000\n",
            "Epoch 96/200\n",
            "6/6 [==============================] - 0s 10ms/step - loss: 0.0353 - accuracy: 0.9916 - val_loss: 0.1649 - val_accuracy: 0.9162 - _timestamp: 1659435408.0000 - _runtime: 11.0000\n",
            "Epoch 97/200\n",
            "6/6 [==============================] - 0s 10ms/step - loss: 0.0387 - accuracy: 0.9902 - val_loss: 0.1669 - val_accuracy: 0.9162 - _timestamp: 1659435408.0000 - _runtime: 11.0000\n",
            "Epoch 98/200\n",
            "6/6 [==============================] - 0s 11ms/step - loss: 0.0317 - accuracy: 0.9902 - val_loss: 0.1707 - val_accuracy: 0.9106 - _timestamp: 1659435408.0000 - _runtime: 11.0000\n",
            "Epoch 99/200\n",
            "6/6 [==============================] - 0s 10ms/step - loss: 0.0362 - accuracy: 0.9958 - val_loss: 0.1775 - val_accuracy: 0.9050 - _timestamp: 1659435408.0000 - _runtime: 11.0000\n",
            "Epoch 100/200\n",
            "6/6 [==============================] - 0s 11ms/step - loss: 0.0362 - accuracy: 0.9888 - val_loss: 0.1782 - val_accuracy: 0.9050 - _timestamp: 1659435408.0000 - _runtime: 11.0000\n",
            "Epoch 101/200\n",
            "6/6 [==============================] - 0s 10ms/step - loss: 0.0312 - accuracy: 0.9916 - val_loss: 0.1762 - val_accuracy: 0.8994 - _timestamp: 1659435408.0000 - _runtime: 11.0000\n",
            "Epoch 102/200\n",
            "6/6 [==============================] - 0s 10ms/step - loss: 0.0335 - accuracy: 0.9874 - val_loss: 0.1759 - val_accuracy: 0.9050 - _timestamp: 1659435408.0000 - _runtime: 11.0000\n",
            "Epoch 103/200\n",
            "6/6 [==============================] - 0s 11ms/step - loss: 0.0285 - accuracy: 0.9944 - val_loss: 0.1707 - val_accuracy: 0.9162 - _timestamp: 1659435408.0000 - _runtime: 11.0000\n",
            "Epoch 104/200\n",
            "6/6 [==============================] - 0s 11ms/step - loss: 0.0340 - accuracy: 0.9916 - val_loss: 0.1690 - val_accuracy: 0.9162 - _timestamp: 1659435408.0000 - _runtime: 11.0000\n",
            "Epoch 105/200\n",
            "6/6 [==============================] - 0s 11ms/step - loss: 0.0304 - accuracy: 0.9944 - val_loss: 0.1687 - val_accuracy: 0.9162 - _timestamp: 1659435408.0000 - _runtime: 11.0000\n",
            "Epoch 106/200\n",
            "6/6 [==============================] - 0s 10ms/step - loss: 0.0311 - accuracy: 0.9916 - val_loss: 0.1667 - val_accuracy: 0.9218 - _timestamp: 1659435408.0000 - _runtime: 11.0000\n",
            "Epoch 107/200\n",
            "6/6 [==============================] - 0s 11ms/step - loss: 0.0276 - accuracy: 0.9944 - val_loss: 0.1687 - val_accuracy: 0.9218 - _timestamp: 1659435408.0000 - _runtime: 11.0000\n",
            "Epoch 108/200\n",
            "6/6 [==============================] - 0s 11ms/step - loss: 0.0334 - accuracy: 0.9930 - val_loss: 0.1709 - val_accuracy: 0.9162 - _timestamp: 1659435409.0000 - _runtime: 12.0000\n",
            "Epoch 109/200\n",
            "6/6 [==============================] - 0s 10ms/step - loss: 0.0289 - accuracy: 0.9944 - val_loss: 0.1734 - val_accuracy: 0.9106 - _timestamp: 1659435409.0000 - _runtime: 12.0000\n",
            "Epoch 110/200\n",
            "6/6 [==============================] - 0s 11ms/step - loss: 0.0302 - accuracy: 0.9944 - val_loss: 0.1769 - val_accuracy: 0.9050 - _timestamp: 1659435409.0000 - _runtime: 12.0000\n",
            "Epoch 111/200\n",
            "6/6 [==============================] - 0s 9ms/step - loss: 0.0263 - accuracy: 0.9930 - val_loss: 0.1793 - val_accuracy: 0.9050 - _timestamp: 1659435409.0000 - _runtime: 12.0000\n",
            "Epoch 112/200\n",
            "6/6 [==============================] - 0s 10ms/step - loss: 0.0291 - accuracy: 0.9916 - val_loss: 0.1786 - val_accuracy: 0.9106 - _timestamp: 1659435409.0000 - _runtime: 12.0000\n",
            "Epoch 113/200\n",
            "6/6 [==============================] - 0s 10ms/step - loss: 0.0329 - accuracy: 0.9958 - val_loss: 0.1797 - val_accuracy: 0.9050 - _timestamp: 1659435409.0000 - _runtime: 12.0000\n",
            "Epoch 114/200\n",
            "6/6 [==============================] - 0s 9ms/step - loss: 0.0267 - accuracy: 0.9958 - val_loss: 0.1769 - val_accuracy: 0.9162 - _timestamp: 1659435409.0000 - _runtime: 12.0000\n",
            "Epoch 115/200\n",
            "6/6 [==============================] - 0s 10ms/step - loss: 0.0271 - accuracy: 0.9916 - val_loss: 0.1729 - val_accuracy: 0.9218 - _timestamp: 1659435409.0000 - _runtime: 12.0000\n",
            "Epoch 116/200\n",
            "6/6 [==============================] - 0s 10ms/step - loss: 0.0229 - accuracy: 0.9986 - val_loss: 0.1714 - val_accuracy: 0.9218 - _timestamp: 1659435409.0000 - _runtime: 12.0000\n",
            "Epoch 117/200\n",
            "6/6 [==============================] - 0s 9ms/step - loss: 0.0253 - accuracy: 0.9958 - val_loss: 0.1727 - val_accuracy: 0.9218 - _timestamp: 1659435409.0000 - _runtime: 12.0000\n",
            "Epoch 118/200\n",
            "6/6 [==============================] - 0s 10ms/step - loss: 0.0240 - accuracy: 0.9944 - val_loss: 0.1722 - val_accuracy: 0.9274 - _timestamp: 1659435409.0000 - _runtime: 12.0000\n",
            "Epoch 119/200\n",
            "6/6 [==============================] - 0s 11ms/step - loss: 0.0234 - accuracy: 0.9944 - val_loss: 0.1744 - val_accuracy: 0.9274 - _timestamp: 1659435409.0000 - _runtime: 12.0000\n",
            "Epoch 120/200\n",
            "6/6 [==============================] - 0s 9ms/step - loss: 0.0275 - accuracy: 0.9972 - val_loss: 0.1772 - val_accuracy: 0.9274 - _timestamp: 1659435409.0000 - _runtime: 12.0000\n",
            "Epoch 121/200\n",
            "6/6 [==============================] - 0s 10ms/step - loss: 0.0239 - accuracy: 0.9972 - val_loss: 0.1812 - val_accuracy: 0.9106 - _timestamp: 1659435409.0000 - _runtime: 12.0000\n",
            "Epoch 122/200\n",
            "6/6 [==============================] - 0s 11ms/step - loss: 0.0233 - accuracy: 0.9972 - val_loss: 0.1815 - val_accuracy: 0.9274 - _timestamp: 1659435409.0000 - _runtime: 12.0000\n",
            "Epoch 123/200\n",
            "6/6 [==============================] - 0s 10ms/step - loss: 0.0211 - accuracy: 0.9986 - val_loss: 0.1809 - val_accuracy: 0.9274 - _timestamp: 1659435410.0000 - _runtime: 13.0000\n",
            "Epoch 124/200\n",
            "6/6 [==============================] - 0s 9ms/step - loss: 0.0269 - accuracy: 0.9944 - val_loss: 0.1828 - val_accuracy: 0.9162 - _timestamp: 1659435410.0000 - _runtime: 13.0000\n",
            "Epoch 125/200\n",
            "6/6 [==============================] - 0s 12ms/step - loss: 0.0263 - accuracy: 0.9944 - val_loss: 0.1846 - val_accuracy: 0.9162 - _timestamp: 1659435410.0000 - _runtime: 13.0000\n",
            "Epoch 126/200\n",
            "6/6 [==============================] - 0s 11ms/step - loss: 0.0253 - accuracy: 0.9916 - val_loss: 0.1812 - val_accuracy: 0.9162 - _timestamp: 1659435410.0000 - _runtime: 13.0000\n",
            "Epoch 127/200\n",
            "6/6 [==============================] - 0s 10ms/step - loss: 0.0241 - accuracy: 0.9972 - val_loss: 0.1826 - val_accuracy: 0.9162 - _timestamp: 1659435410.0000 - _runtime: 13.0000\n",
            "Epoch 128/200\n",
            "6/6 [==============================] - 0s 11ms/step - loss: 0.0218 - accuracy: 0.9972 - val_loss: 0.1852 - val_accuracy: 0.9162 - _timestamp: 1659435410.0000 - _runtime: 13.0000\n",
            "Epoch 129/200\n",
            "6/6 [==============================] - 0s 11ms/step - loss: 0.0307 - accuracy: 0.9860 - val_loss: 0.1828 - val_accuracy: 0.9162 - _timestamp: 1659435410.0000 - _runtime: 13.0000\n",
            "Epoch 130/200\n",
            "6/6 [==============================] - 0s 9ms/step - loss: 0.0208 - accuracy: 0.9944 - val_loss: 0.1831 - val_accuracy: 0.9162 - _timestamp: 1659435410.0000 - _runtime: 13.0000\n",
            "Epoch 131/200\n",
            "6/6 [==============================] - 0s 9ms/step - loss: 0.0246 - accuracy: 0.9930 - val_loss: 0.1819 - val_accuracy: 0.9162 - _timestamp: 1659435410.0000 - _runtime: 13.0000\n",
            "Epoch 132/200\n",
            "6/6 [==============================] - 0s 9ms/step - loss: 0.0236 - accuracy: 0.9916 - val_loss: 0.1806 - val_accuracy: 0.9218 - _timestamp: 1659435410.0000 - _runtime: 13.0000\n",
            "Epoch 133/200\n",
            "6/6 [==============================] - 0s 10ms/step - loss: 0.0221 - accuracy: 0.9944 - val_loss: 0.1801 - val_accuracy: 0.9162 - _timestamp: 1659435410.0000 - _runtime: 13.0000\n",
            "Epoch 134/200\n",
            "6/6 [==============================] - 0s 10ms/step - loss: 0.0215 - accuracy: 0.9986 - val_loss: 0.1835 - val_accuracy: 0.9162 - _timestamp: 1659435410.0000 - _runtime: 13.0000\n",
            "Epoch 135/200\n",
            "6/6 [==============================] - 0s 10ms/step - loss: 0.0218 - accuracy: 0.9986 - val_loss: 0.1904 - val_accuracy: 0.9218 - _timestamp: 1659435410.0000 - _runtime: 13.0000\n",
            "Epoch 136/200\n",
            "6/6 [==============================] - 0s 10ms/step - loss: 0.0200 - accuracy: 0.9986 - val_loss: 0.1917 - val_accuracy: 0.9218 - _timestamp: 1659435410.0000 - _runtime: 13.0000\n",
            "Epoch 137/200\n",
            "6/6 [==============================] - 0s 11ms/step - loss: 0.0192 - accuracy: 0.9986 - val_loss: 0.1920 - val_accuracy: 0.9162 - _timestamp: 1659435411.0000 - _runtime: 14.0000\n",
            "Epoch 138/200\n",
            "6/6 [==============================] - 0s 11ms/step - loss: 0.0156 - accuracy: 0.9986 - val_loss: 0.1888 - val_accuracy: 0.9162 - _timestamp: 1659435411.0000 - _runtime: 14.0000\n",
            "Epoch 139/200\n",
            "6/6 [==============================] - 0s 11ms/step - loss: 0.0174 - accuracy: 0.9972 - val_loss: 0.1873 - val_accuracy: 0.9218 - _timestamp: 1659435411.0000 - _runtime: 14.0000\n",
            "Epoch 140/200\n",
            "6/6 [==============================] - 0s 10ms/step - loss: 0.0205 - accuracy: 0.9958 - val_loss: 0.1856 - val_accuracy: 0.9274 - _timestamp: 1659435411.0000 - _runtime: 14.0000\n",
            "Epoch 141/200\n",
            "6/6 [==============================] - 0s 10ms/step - loss: 0.0173 - accuracy: 0.9986 - val_loss: 0.1894 - val_accuracy: 0.9162 - _timestamp: 1659435411.0000 - _runtime: 14.0000\n",
            "Epoch 142/200\n",
            "6/6 [==============================] - 0s 10ms/step - loss: 0.0172 - accuracy: 0.9958 - val_loss: 0.1929 - val_accuracy: 0.9162 - _timestamp: 1659435411.0000 - _runtime: 14.0000\n",
            "Epoch 143/200\n",
            "6/6 [==============================] - 0s 11ms/step - loss: 0.0216 - accuracy: 0.9958 - val_loss: 0.1915 - val_accuracy: 0.9218 - _timestamp: 1659435411.0000 - _runtime: 14.0000\n",
            "Epoch 144/200\n",
            "6/6 [==============================] - 0s 10ms/step - loss: 0.0178 - accuracy: 0.9986 - val_loss: 0.1918 - val_accuracy: 0.9218 - _timestamp: 1659435411.0000 - _runtime: 14.0000\n",
            "Epoch 145/200\n",
            "6/6 [==============================] - 0s 10ms/step - loss: 0.0181 - accuracy: 0.9986 - val_loss: 0.1901 - val_accuracy: 0.9162 - _timestamp: 1659435411.0000 - _runtime: 14.0000\n",
            "Epoch 146/200\n",
            "6/6 [==============================] - 0s 10ms/step - loss: 0.0167 - accuracy: 0.9986 - val_loss: 0.1897 - val_accuracy: 0.9162 - _timestamp: 1659435411.0000 - _runtime: 14.0000\n",
            "Epoch 147/200\n",
            "6/6 [==============================] - 0s 11ms/step - loss: 0.0174 - accuracy: 0.9972 - val_loss: 0.1901 - val_accuracy: 0.9162 - _timestamp: 1659435411.0000 - _runtime: 14.0000\n",
            "Epoch 148/200\n",
            "6/6 [==============================] - 0s 9ms/step - loss: 0.0174 - accuracy: 0.9986 - val_loss: 0.1916 - val_accuracy: 0.9162 - _timestamp: 1659435411.0000 - _runtime: 14.0000\n",
            "Epoch 149/200\n",
            "6/6 [==============================] - 0s 10ms/step - loss: 0.0182 - accuracy: 0.9972 - val_loss: 0.1914 - val_accuracy: 0.9162 - _timestamp: 1659435411.0000 - _runtime: 14.0000\n",
            "Epoch 150/200\n",
            "6/6 [==============================] - 0s 10ms/step - loss: 0.0167 - accuracy: 1.0000 - val_loss: 0.1873 - val_accuracy: 0.9162 - _timestamp: 1659435411.0000 - _runtime: 14.0000\n",
            "Epoch 151/200\n",
            "6/6 [==============================] - 0s 12ms/step - loss: 0.0236 - accuracy: 0.9930 - val_loss: 0.1890 - val_accuracy: 0.9218 - _timestamp: 1659435412.0000 - _runtime: 15.0000\n",
            "Epoch 152/200\n",
            "6/6 [==============================] - 0s 9ms/step - loss: 0.0163 - accuracy: 0.9972 - val_loss: 0.1886 - val_accuracy: 0.9218 - _timestamp: 1659435412.0000 - _runtime: 15.0000\n",
            "Epoch 153/200\n",
            "6/6 [==============================] - 0s 10ms/step - loss: 0.0160 - accuracy: 0.9986 - val_loss: 0.1900 - val_accuracy: 0.9218 - _timestamp: 1659435412.0000 - _runtime: 15.0000\n",
            "Epoch 154/200\n",
            "6/6 [==============================] - 0s 10ms/step - loss: 0.0151 - accuracy: 0.9972 - val_loss: 0.1944 - val_accuracy: 0.9218 - _timestamp: 1659435412.0000 - _runtime: 15.0000\n",
            "Epoch 155/200\n",
            "6/6 [==============================] - 0s 11ms/step - loss: 0.0159 - accuracy: 0.9986 - val_loss: 0.1929 - val_accuracy: 0.9218 - _timestamp: 1659435412.0000 - _runtime: 15.0000\n",
            "Epoch 156/200\n",
            "6/6 [==============================] - 0s 10ms/step - loss: 0.0169 - accuracy: 0.9986 - val_loss: 0.1932 - val_accuracy: 0.9162 - _timestamp: 1659435412.0000 - _runtime: 15.0000\n",
            "Epoch 157/200\n",
            "6/6 [==============================] - 0s 10ms/step - loss: 0.0157 - accuracy: 0.9958 - val_loss: 0.1934 - val_accuracy: 0.9162 - _timestamp: 1659435412.0000 - _runtime: 15.0000\n",
            "Epoch 158/200\n",
            "6/6 [==============================] - 0s 9ms/step - loss: 0.0142 - accuracy: 0.9972 - val_loss: 0.1959 - val_accuracy: 0.9162 - _timestamp: 1659435412.0000 - _runtime: 15.0000\n",
            "Epoch 159/200\n",
            "6/6 [==============================] - 0s 11ms/step - loss: 0.0209 - accuracy: 0.9958 - val_loss: 0.1986 - val_accuracy: 0.9162 - _timestamp: 1659435412.0000 - _runtime: 15.0000\n",
            "Epoch 160/200\n",
            "6/6 [==============================] - 0s 10ms/step - loss: 0.0159 - accuracy: 0.9972 - val_loss: 0.2026 - val_accuracy: 0.9218 - _timestamp: 1659435412.0000 - _runtime: 15.0000\n",
            "Epoch 161/200\n",
            "6/6 [==============================] - 0s 13ms/step - loss: 0.0129 - accuracy: 0.9972 - val_loss: 0.1985 - val_accuracy: 0.9162 - _timestamp: 1659435412.0000 - _runtime: 15.0000\n",
            "Epoch 162/200\n",
            "6/6 [==============================] - 0s 10ms/step - loss: 0.0131 - accuracy: 1.0000 - val_loss: 0.1981 - val_accuracy: 0.9218 - _timestamp: 1659435412.0000 - _runtime: 15.0000\n",
            "Epoch 163/200\n",
            "6/6 [==============================] - 0s 9ms/step - loss: 0.0167 - accuracy: 0.9972 - val_loss: 0.2003 - val_accuracy: 0.9162 - _timestamp: 1659435412.0000 - _runtime: 15.0000\n",
            "Epoch 164/200\n",
            "6/6 [==============================] - 0s 10ms/step - loss: 0.0128 - accuracy: 1.0000 - val_loss: 0.2023 - val_accuracy: 0.9162 - _timestamp: 1659435412.0000 - _runtime: 15.0000\n",
            "Epoch 165/200\n",
            "6/6 [==============================] - 0s 10ms/step - loss: 0.0145 - accuracy: 0.9930 - val_loss: 0.2011 - val_accuracy: 0.9162 - _timestamp: 1659435413.0000 - _runtime: 16.0000\n",
            "Epoch 166/200\n",
            "6/6 [==============================] - 0s 12ms/step - loss: 0.0186 - accuracy: 0.9958 - val_loss: 0.2030 - val_accuracy: 0.9162 - _timestamp: 1659435413.0000 - _runtime: 16.0000\n",
            "Epoch 167/200\n",
            "6/6 [==============================] - 0s 10ms/step - loss: 0.0139 - accuracy: 0.9972 - val_loss: 0.2045 - val_accuracy: 0.9218 - _timestamp: 1659435413.0000 - _runtime: 16.0000\n",
            "Epoch 168/200\n",
            "6/6 [==============================] - 0s 12ms/step - loss: 0.0149 - accuracy: 0.9972 - val_loss: 0.2058 - val_accuracy: 0.9218 - _timestamp: 1659435413.0000 - _runtime: 16.0000\n",
            "Epoch 169/200\n",
            "6/6 [==============================] - 0s 10ms/step - loss: 0.0134 - accuracy: 0.9958 - val_loss: 0.2031 - val_accuracy: 0.9218 - _timestamp: 1659435413.0000 - _runtime: 16.0000\n",
            "Epoch 170/200\n",
            "6/6 [==============================] - 0s 10ms/step - loss: 0.0115 - accuracy: 1.0000 - val_loss: 0.2015 - val_accuracy: 0.9162 - _timestamp: 1659435413.0000 - _runtime: 16.0000\n",
            "Epoch 171/200\n",
            "6/6 [==============================] - 0s 10ms/step - loss: 0.0177 - accuracy: 0.9958 - val_loss: 0.2043 - val_accuracy: 0.9162 - _timestamp: 1659435413.0000 - _runtime: 16.0000\n",
            "Epoch 172/200\n",
            "6/6 [==============================] - 0s 13ms/step - loss: 0.0136 - accuracy: 0.9986 - val_loss: 0.2095 - val_accuracy: 0.9162 - _timestamp: 1659435413.0000 - _runtime: 16.0000\n",
            "Epoch 173/200\n",
            "6/6 [==============================] - 0s 10ms/step - loss: 0.0137 - accuracy: 0.9972 - val_loss: 0.2108 - val_accuracy: 0.9162 - _timestamp: 1659435413.0000 - _runtime: 16.0000\n",
            "Epoch 174/200\n",
            "6/6 [==============================] - 0s 10ms/step - loss: 0.0102 - accuracy: 1.0000 - val_loss: 0.2105 - val_accuracy: 0.9162 - _timestamp: 1659435413.0000 - _runtime: 16.0000\n",
            "Epoch 175/200\n",
            "6/6 [==============================] - 0s 12ms/step - loss: 0.0126 - accuracy: 0.9986 - val_loss: 0.2102 - val_accuracy: 0.9162 - _timestamp: 1659435413.0000 - _runtime: 16.0000\n",
            "Epoch 176/200\n",
            "6/6 [==============================] - 0s 9ms/step - loss: 0.0154 - accuracy: 0.9972 - val_loss: 0.2068 - val_accuracy: 0.9162 - _timestamp: 1659435413.0000 - _runtime: 16.0000\n",
            "Epoch 177/200\n",
            "6/6 [==============================] - 0s 11ms/step - loss: 0.0116 - accuracy: 0.9986 - val_loss: 0.2051 - val_accuracy: 0.9162 - _timestamp: 1659435413.0000 - _runtime: 16.0000\n",
            "Epoch 178/200\n",
            "6/6 [==============================] - 0s 10ms/step - loss: 0.0129 - accuracy: 0.9972 - val_loss: 0.2071 - val_accuracy: 0.9162 - _timestamp: 1659435414.0000 - _runtime: 17.0000\n",
            "Epoch 179/200\n",
            "6/6 [==============================] - 0s 9ms/step - loss: 0.0143 - accuracy: 0.9944 - val_loss: 0.2116 - val_accuracy: 0.9218 - _timestamp: 1659435414.0000 - _runtime: 17.0000\n",
            "Epoch 180/200\n",
            "6/6 [==============================] - 0s 10ms/step - loss: 0.0113 - accuracy: 1.0000 - val_loss: 0.2144 - val_accuracy: 0.9218 - _timestamp: 1659435414.0000 - _runtime: 17.0000\n",
            "Epoch 181/200\n",
            "6/6 [==============================] - 0s 10ms/step - loss: 0.0110 - accuracy: 0.9972 - val_loss: 0.2136 - val_accuracy: 0.9162 - _timestamp: 1659435414.0000 - _runtime: 17.0000\n",
            "Epoch 182/200\n",
            "6/6 [==============================] - 0s 12ms/step - loss: 0.0120 - accuracy: 0.9972 - val_loss: 0.2115 - val_accuracy: 0.9162 - _timestamp: 1659435414.0000 - _runtime: 17.0000\n",
            "Epoch 183/200\n",
            "6/6 [==============================] - 0s 10ms/step - loss: 0.0109 - accuracy: 0.9986 - val_loss: 0.2072 - val_accuracy: 0.9162 - _timestamp: 1659435414.0000 - _runtime: 17.0000\n",
            "Epoch 184/200\n",
            "6/6 [==============================] - 0s 12ms/step - loss: 0.0126 - accuracy: 0.9944 - val_loss: 0.2062 - val_accuracy: 0.9162 - _timestamp: 1659435414.0000 - _runtime: 17.0000\n",
            "Epoch 185/200\n",
            "6/6 [==============================] - 0s 11ms/step - loss: 0.0129 - accuracy: 1.0000 - val_loss: 0.2087 - val_accuracy: 0.9162 - _timestamp: 1659435414.0000 - _runtime: 17.0000\n",
            "Epoch 186/200\n",
            "6/6 [==============================] - 0s 9ms/step - loss: 0.0105 - accuracy: 1.0000 - val_loss: 0.2141 - val_accuracy: 0.9218 - _timestamp: 1659435414.0000 - _runtime: 17.0000\n",
            "Epoch 187/200\n",
            "6/6 [==============================] - 0s 10ms/step - loss: 0.0118 - accuracy: 0.9972 - val_loss: 0.2168 - val_accuracy: 0.9218 - _timestamp: 1659435414.0000 - _runtime: 17.0000\n",
            "Epoch 188/200\n",
            "6/6 [==============================] - 0s 10ms/step - loss: 0.0106 - accuracy: 0.9972 - val_loss: 0.2140 - val_accuracy: 0.9162 - _timestamp: 1659435414.0000 - _runtime: 17.0000\n",
            "Epoch 189/200\n",
            "6/6 [==============================] - 0s 11ms/step - loss: 0.0116 - accuracy: 0.9972 - val_loss: 0.2118 - val_accuracy: 0.9162 - _timestamp: 1659435414.0000 - _runtime: 17.0000\n",
            "Epoch 190/200\n",
            "6/6 [==============================] - 0s 10ms/step - loss: 0.0077 - accuracy: 1.0000 - val_loss: 0.2123 - val_accuracy: 0.9162 - _timestamp: 1659435414.0000 - _runtime: 17.0000\n",
            "Epoch 191/200\n",
            "6/6 [==============================] - 0s 13ms/step - loss: 0.0118 - accuracy: 0.9986 - val_loss: 0.2150 - val_accuracy: 0.9162 - _timestamp: 1659435414.0000 - _runtime: 17.0000\n",
            "Epoch 192/200\n",
            "6/6 [==============================] - 0s 10ms/step - loss: 0.0147 - accuracy: 0.9944 - val_loss: 0.2168 - val_accuracy: 0.9162 - _timestamp: 1659435415.0000 - _runtime: 18.0000\n",
            "Epoch 193/200\n",
            "6/6 [==============================] - 0s 15ms/step - loss: 0.0107 - accuracy: 1.0000 - val_loss: 0.2177 - val_accuracy: 0.9218 - _timestamp: 1659435415.0000 - _runtime: 18.0000\n",
            "Epoch 194/200\n",
            "6/6 [==============================] - 0s 10ms/step - loss: 0.0141 - accuracy: 0.9944 - val_loss: 0.2161 - val_accuracy: 0.9218 - _timestamp: 1659435415.0000 - _runtime: 18.0000\n",
            "Epoch 195/200\n",
            "6/6 [==============================] - 0s 10ms/step - loss: 0.0086 - accuracy: 1.0000 - val_loss: 0.2141 - val_accuracy: 0.9218 - _timestamp: 1659435415.0000 - _runtime: 18.0000\n",
            "Epoch 196/200\n",
            "6/6 [==============================] - 0s 12ms/step - loss: 0.0104 - accuracy: 0.9986 - val_loss: 0.2120 - val_accuracy: 0.9218 - _timestamp: 1659435415.0000 - _runtime: 18.0000\n",
            "Epoch 197/200\n",
            "6/6 [==============================] - 0s 9ms/step - loss: 0.0096 - accuracy: 0.9986 - val_loss: 0.2122 - val_accuracy: 0.9218 - _timestamp: 1659435415.0000 - _runtime: 18.0000\n",
            "Epoch 198/200\n",
            "6/6 [==============================] - 0s 10ms/step - loss: 0.0100 - accuracy: 0.9986 - val_loss: 0.2165 - val_accuracy: 0.9162 - _timestamp: 1659435415.0000 - _runtime: 18.0000\n",
            "Epoch 199/200\n",
            "6/6 [==============================] - 0s 10ms/step - loss: 0.0119 - accuracy: 0.9986 - val_loss: 0.2186 - val_accuracy: 0.9218 - _timestamp: 1659435415.0000 - _runtime: 18.0000\n",
            "Epoch 200/200\n",
            "6/6 [==============================] - 0s 11ms/step - loss: 0.0096 - accuracy: 0.9986 - val_loss: 0.2171 - val_accuracy: 0.9162 - _timestamp: 1659435415.0000 - _runtime: 18.0000\n"
          ]
        },
        {
          "output_type": "display_data",
          "data": {
            "text/plain": [
              "<IPython.core.display.HTML object>"
            ],
            "text/html": [
              "Waiting for W&B process to finish... <strong style=\"color:green\">(success).</strong>"
            ]
          },
          "metadata": {}
        },
        {
          "output_type": "display_data",
          "data": {
            "text/plain": [
              "VBox(children=(Label(value='0.639 MB of 0.639 MB uploaded (0.000 MB deduped)\\r'), FloatProgress(value=1.0, max…"
            ],
            "application/vnd.jupyter.widget-view+json": {
              "version_major": 2,
              "version_minor": 0,
              "model_id": "a0504ca4d2e341ec925b277fcd3eb6a4"
            }
          },
          "metadata": {}
        },
        {
          "output_type": "display_data",
          "data": {
            "text/plain": [
              "<IPython.core.display.HTML object>"
            ],
            "text/html": [
              "<style>\n",
              "    table.wandb td:nth-child(1) { padding: 0 10px; text-align: left ; width: auto;} td:nth-child(2) {text-align: left ; width: 100%}\n",
              "    .wandb-row { display: flex; flex-direction: row; flex-wrap: wrap; justify-content: flex-start; width: 100% }\n",
              "    .wandb-col { display: flex; flex-direction: column; flex-basis: 100%; flex: 1; padding: 10px; }\n",
              "    </style>\n",
              "<div class=\"wandb-row\"><div class=\"wandb-col\"><h3>Run history:</h3><br/><table class=\"wandb\"><tr><td>accuracy</td><td>▁▅▅▅▅▆▆▆▆▇▇▇▇▇▇█▇▇██▇███████████████████</td></tr><tr><td>epoch</td><td>▁▁▁▁▂▂▂▂▂▃▃▃▃▃▃▄▄▄▄▄▅▅▅▅▅▅▆▆▆▆▆▇▇▇▇▇▇███</td></tr><tr><td>eval/accuracy</td><td>▁</td></tr><tr><td>eval/f1</td><td>▁</td></tr><tr><td>eval/precision</td><td>▁</td></tr><tr><td>eval/recall</td><td>▁</td></tr><tr><td>loss</td><td>█▄▄▄▃▃▃▃▃▂▂▂▂▂▂▂▂▁▂▁▁▁▁▁▁▁▁▁▁▁▁▁▁▁▁▁▁▁▁▁</td></tr><tr><td>val_accuracy</td><td>▁▇▇▆▆▇▆█▇▆▇▇▄▅▅▄▅▄▄▅▄▆▅██▆▆▆▇▆▇▆▆▇▆▆▆▆▇▆</td></tr><tr><td>val_loss</td><td>█▃▂▂▁▁▁▁▁▁▁▁▁▁▁▁▁▁▁▁▂▁▂▁▂▂▂▂▂▂▂▂▃▃▃▃▃▃▃▃</td></tr></table><br/></div><div class=\"wandb-col\"><h3>Run summary:</h3><br/><table class=\"wandb\"><tr><td>accuracy</td><td>0.9986</td></tr><tr><td>best_epoch</td><td>53</td></tr><tr><td>best_val_loss</td><td>0.15872</td></tr><tr><td>epoch</td><td>199</td></tr><tr><td>eval/accuracy</td><td>0.92737</td></tr><tr><td>eval/f1</td><td>0.93194</td></tr><tr><td>eval/precision</td><td>0.93684</td></tr><tr><td>eval/recall</td><td>0.92708</td></tr><tr><td>loss</td><td>0.00958</td></tr><tr><td>val_accuracy</td><td>0.9162</td></tr><tr><td>val_loss</td><td>0.21707</td></tr></table><br/></div></div>"
            ]
          },
          "metadata": {}
        },
        {
          "output_type": "display_data",
          "data": {
            "text/plain": [
              "<IPython.core.display.HTML object>"
            ],
            "text/html": [
              "Synced <strong style=\"color:#cdcd00\">politifact-fulltext-sbert+tw+gat-mlp-0</strong>: <a href=\"https://wandb.ai/saloniteam/nofolds/runs/3htcun84\" target=\"_blank\">https://wandb.ai/saloniteam/nofolds/runs/3htcun84</a><br/>Synced 5 W&B file(s), 2 media file(s), 1 artifact file(s) and 1 other file(s)"
            ]
          },
          "metadata": {}
        },
        {
          "output_type": "display_data",
          "data": {
            "text/plain": [
              "<IPython.core.display.HTML object>"
            ],
            "text/html": [
              "Find logs at: <code>./wandb/run-20220802_101637-3htcun84/logs</code>"
            ]
          },
          "metadata": {}
        }
      ]
    },
    {
      "cell_type": "markdown",
      "source": [
        "The extremely good accuracy could mean that the model may have overfit. the F1 is a better representation for the testing on a NN. "
      ],
      "metadata": {
        "id": "VkQ4zF3wHvcH"
      }
    },
    {
      "cell_type": "code",
      "source": [
        ""
      ],
      "metadata": {
        "id": "uQjE8biJFfW8"
      },
      "execution_count": null,
      "outputs": []
    }
  ]
}