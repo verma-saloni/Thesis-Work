{
  "nbformat": 4,
  "nbformat_minor": 0,
  "metadata": {
    "colab": {
      "provenance": [],
      "collapsed_sections": [
        "ywmJcojaOk4E",
        "FfaOg08xmfEp"
      ],
      "include_colab_link": true
    },
    "kernelspec": {
      "name": "python3",
      "display_name": "Python 3"
    },
    "language_info": {
      "name": "python"
    },
    "widgets": {
      "application/vnd.jupyter.widget-state+json": {
        "cd6c422146394f12be8b4e165e7ef42c": {
          "model_module": "@jupyter-widgets/controls",
          "model_name": "VBoxModel",
          "model_module_version": "1.5.0",
          "state": {
            "_dom_classes": [],
            "_model_module": "@jupyter-widgets/controls",
            "_model_module_version": "1.5.0",
            "_model_name": "VBoxModel",
            "_view_count": null,
            "_view_module": "@jupyter-widgets/controls",
            "_view_module_version": "1.5.0",
            "_view_name": "VBoxView",
            "box_style": "",
            "children": [
              "IPY_MODEL_6f2fa08b2269486d8b8a344ef47c588f",
              "IPY_MODEL_7c0df41fe8fa4b3b9f9568a7888b0480"
            ],
            "layout": "IPY_MODEL_4f80044ff9a14e5ba668dae91f2d07ec"
          }
        },
        "6f2fa08b2269486d8b8a344ef47c588f": {
          "model_module": "@jupyter-widgets/controls",
          "model_name": "LabelModel",
          "model_module_version": "1.5.0",
          "state": {
            "_dom_classes": [],
            "_model_module": "@jupyter-widgets/controls",
            "_model_module_version": "1.5.0",
            "_model_name": "LabelModel",
            "_view_count": null,
            "_view_module": "@jupyter-widgets/controls",
            "_view_module_version": "1.5.0",
            "_view_name": "LabelView",
            "description": "",
            "description_tooltip": null,
            "layout": "IPY_MODEL_db59a88da57a43578eb3729213a6354d",
            "placeholder": "​",
            "style": "IPY_MODEL_77bad3fdcef043329b3538a3f526fd45",
            "value": "0.001 MB of 0.001 MB uploaded (0.000 MB deduped)\r"
          }
        },
        "7c0df41fe8fa4b3b9f9568a7888b0480": {
          "model_module": "@jupyter-widgets/controls",
          "model_name": "FloatProgressModel",
          "model_module_version": "1.5.0",
          "state": {
            "_dom_classes": [],
            "_model_module": "@jupyter-widgets/controls",
            "_model_module_version": "1.5.0",
            "_model_name": "FloatProgressModel",
            "_view_count": null,
            "_view_module": "@jupyter-widgets/controls",
            "_view_module_version": "1.5.0",
            "_view_name": "ProgressView",
            "bar_style": "",
            "description": "",
            "description_tooltip": null,
            "layout": "IPY_MODEL_886a6a840a5a4a54982a362ceb10ff64",
            "max": 1,
            "min": 0,
            "orientation": "horizontal",
            "style": "IPY_MODEL_5519b5034d294f7b9a97fb948422d162",
            "value": 0.8624472573839662
          }
        },
        "4f80044ff9a14e5ba668dae91f2d07ec": {
          "model_module": "@jupyter-widgets/base",
          "model_name": "LayoutModel",
          "model_module_version": "1.2.0",
          "state": {
            "_model_module": "@jupyter-widgets/base",
            "_model_module_version": "1.2.0",
            "_model_name": "LayoutModel",
            "_view_count": null,
            "_view_module": "@jupyter-widgets/base",
            "_view_module_version": "1.2.0",
            "_view_name": "LayoutView",
            "align_content": null,
            "align_items": null,
            "align_self": null,
            "border": null,
            "bottom": null,
            "display": null,
            "flex": null,
            "flex_flow": null,
            "grid_area": null,
            "grid_auto_columns": null,
            "grid_auto_flow": null,
            "grid_auto_rows": null,
            "grid_column": null,
            "grid_gap": null,
            "grid_row": null,
            "grid_template_areas": null,
            "grid_template_columns": null,
            "grid_template_rows": null,
            "height": null,
            "justify_content": null,
            "justify_items": null,
            "left": null,
            "margin": null,
            "max_height": null,
            "max_width": null,
            "min_height": null,
            "min_width": null,
            "object_fit": null,
            "object_position": null,
            "order": null,
            "overflow": null,
            "overflow_x": null,
            "overflow_y": null,
            "padding": null,
            "right": null,
            "top": null,
            "visibility": null,
            "width": null
          }
        },
        "db59a88da57a43578eb3729213a6354d": {
          "model_module": "@jupyter-widgets/base",
          "model_name": "LayoutModel",
          "model_module_version": "1.2.0",
          "state": {
            "_model_module": "@jupyter-widgets/base",
            "_model_module_version": "1.2.0",
            "_model_name": "LayoutModel",
            "_view_count": null,
            "_view_module": "@jupyter-widgets/base",
            "_view_module_version": "1.2.0",
            "_view_name": "LayoutView",
            "align_content": null,
            "align_items": null,
            "align_self": null,
            "border": null,
            "bottom": null,
            "display": null,
            "flex": null,
            "flex_flow": null,
            "grid_area": null,
            "grid_auto_columns": null,
            "grid_auto_flow": null,
            "grid_auto_rows": null,
            "grid_column": null,
            "grid_gap": null,
            "grid_row": null,
            "grid_template_areas": null,
            "grid_template_columns": null,
            "grid_template_rows": null,
            "height": null,
            "justify_content": null,
            "justify_items": null,
            "left": null,
            "margin": null,
            "max_height": null,
            "max_width": null,
            "min_height": null,
            "min_width": null,
            "object_fit": null,
            "object_position": null,
            "order": null,
            "overflow": null,
            "overflow_x": null,
            "overflow_y": null,
            "padding": null,
            "right": null,
            "top": null,
            "visibility": null,
            "width": null
          }
        },
        "77bad3fdcef043329b3538a3f526fd45": {
          "model_module": "@jupyter-widgets/controls",
          "model_name": "DescriptionStyleModel",
          "model_module_version": "1.5.0",
          "state": {
            "_model_module": "@jupyter-widgets/controls",
            "_model_module_version": "1.5.0",
            "_model_name": "DescriptionStyleModel",
            "_view_count": null,
            "_view_module": "@jupyter-widgets/base",
            "_view_module_version": "1.2.0",
            "_view_name": "StyleView",
            "description_width": ""
          }
        },
        "886a6a840a5a4a54982a362ceb10ff64": {
          "model_module": "@jupyter-widgets/base",
          "model_name": "LayoutModel",
          "model_module_version": "1.2.0",
          "state": {
            "_model_module": "@jupyter-widgets/base",
            "_model_module_version": "1.2.0",
            "_model_name": "LayoutModel",
            "_view_count": null,
            "_view_module": "@jupyter-widgets/base",
            "_view_module_version": "1.2.0",
            "_view_name": "LayoutView",
            "align_content": null,
            "align_items": null,
            "align_self": null,
            "border": null,
            "bottom": null,
            "display": null,
            "flex": null,
            "flex_flow": null,
            "grid_area": null,
            "grid_auto_columns": null,
            "grid_auto_flow": null,
            "grid_auto_rows": null,
            "grid_column": null,
            "grid_gap": null,
            "grid_row": null,
            "grid_template_areas": null,
            "grid_template_columns": null,
            "grid_template_rows": null,
            "height": null,
            "justify_content": null,
            "justify_items": null,
            "left": null,
            "margin": null,
            "max_height": null,
            "max_width": null,
            "min_height": null,
            "min_width": null,
            "object_fit": null,
            "object_position": null,
            "order": null,
            "overflow": null,
            "overflow_x": null,
            "overflow_y": null,
            "padding": null,
            "right": null,
            "top": null,
            "visibility": null,
            "width": null
          }
        },
        "5519b5034d294f7b9a97fb948422d162": {
          "model_module": "@jupyter-widgets/controls",
          "model_name": "ProgressStyleModel",
          "model_module_version": "1.5.0",
          "state": {
            "_model_module": "@jupyter-widgets/controls",
            "_model_module_version": "1.5.0",
            "_model_name": "ProgressStyleModel",
            "_view_count": null,
            "_view_module": "@jupyter-widgets/base",
            "_view_module_version": "1.2.0",
            "_view_name": "StyleView",
            "bar_color": null,
            "description_width": ""
          }
        }
      }
    }
  },
  "cells": [
    {
      "cell_type": "markdown",
      "metadata": {
        "id": "view-in-github",
        "colab_type": "text"
      },
      "source": [
        "<a href=\"https://colab.research.google.com/github/verma-saloni/Thesis-Work/blob/main/10_19_22_gossipcop_dgl_GCN_text_embs.ipynb\" target=\"_parent\"><img src=\"https://colab.research.google.com/assets/colab-badge.svg\" alt=\"Open In Colab\"/></a>"
      ]
    },
    {
      "cell_type": "code",
      "execution_count": 1,
      "metadata": {
        "id": "xpTeMbYZwmf7"
      },
      "outputs": [],
      "source": [
        "!pip -qq install jsonlines"
      ]
    },
    {
      "cell_type": "markdown",
      "source": [
        "Gossipcop: Text Embeddings + GCN (The choice of embeddings Sbert or Fasttext FT) can be done at the top. Fully customisable. "
      ],
      "metadata": {
        "id": "f-BFWYzNAPBW"
      }
    },
    {
      "cell_type": "code",
      "source": [
        "from google.colab import drive\n",
        "drive.mount('/gdrive')"
      ],
      "metadata": {
        "colab": {
          "base_uri": "https://localhost:8080/"
        },
        "id": "UxNEaltli8H_",
        "outputId": "2f0644f6-9aa6-4b64-e281-4717f435fea6"
      },
      "execution_count": 2,
      "outputs": [
        {
          "output_type": "stream",
          "name": "stdout",
          "text": [
            "Mounted at /gdrive\n"
          ]
        }
      ]
    },
    {
      "cell_type": "code",
      "source": [
        "from pathlib import Path\n",
        "base_dir = Path(\"/gdrive/MyDrive/ResearchFND\")\n",
        "assert base_dir.exists()"
      ],
      "metadata": {
        "id": "E1KzQ-APvvbj"
      },
      "execution_count": 3,
      "outputs": []
    },
    {
      "cell_type": "markdown",
      "source": [
        "## Data"
      ],
      "metadata": {
        "id": "ywmJcojaOk4E"
      }
    },
    {
      "cell_type": "code",
      "source": [
        "import pandas as pd\n",
        "import ast\n",
        "import json"
      ],
      "metadata": {
        "id": "Pi19HZwbOnpK"
      },
      "execution_count": 4,
      "outputs": []
    },
    {
      "cell_type": "code",
      "source": [
        "dataset_id = 'gossipcop'\n",
        "text_embeddings = 'ft' # options: sbert, ft"
      ],
      "metadata": {
        "id": "5XqiYfvoPECo"
      },
      "execution_count": 5,
      "outputs": []
    },
    {
      "cell_type": "code",
      "source": [
        "df = pd.read_csv(base_dir/f'{dataset_id}_agg.csv')\n",
        "df.head(2)"
      ],
      "metadata": {
        "colab": {
          "base_uri": "https://localhost:8080/",
          "height": 112
        },
        "outputId": "c232fce2-b4ff-4439-883b-1c73575399b0",
        "id": "9fSNOSLsOnpP"
      },
      "execution_count": 6,
      "outputs": [
        {
          "output_type": "execute_result",
          "data": {
            "text/plain": [
              "                                               title text tweets  \\\n",
              "0      Kendall   Kylie Jenner Jenner NOT Upset Up...  NaN     []   \n",
              "1      Kim Kardashian Dethroned Dethroned By Khlo...  NaN     []   \n",
              "\n",
              "                                            retweets label  url  num_retweets  \\\n",
              "0  ['995423424741888001', '995461685166202880', '...  fake  NaN             3   \n",
              "1  ['848843565027516416', '849030801970868224', '...  fake  NaN             3   \n",
              "\n",
              "   log_num_retweets  num_tweets  log_num_tweets  \n",
              "0          1.386294           0             0.0  \n",
              "1          1.386294           0             0.0  "
            ],
            "text/html": [
              "\n",
              "  <div id=\"df-e4a38226-9a47-44ad-b0ab-7ce624a0a07e\">\n",
              "    <div class=\"colab-df-container\">\n",
              "      <div>\n",
              "<style scoped>\n",
              "    .dataframe tbody tr th:only-of-type {\n",
              "        vertical-align: middle;\n",
              "    }\n",
              "\n",
              "    .dataframe tbody tr th {\n",
              "        vertical-align: top;\n",
              "    }\n",
              "\n",
              "    .dataframe thead th {\n",
              "        text-align: right;\n",
              "    }\n",
              "</style>\n",
              "<table border=\"1\" class=\"dataframe\">\n",
              "  <thead>\n",
              "    <tr style=\"text-align: right;\">\n",
              "      <th></th>\n",
              "      <th>title</th>\n",
              "      <th>text</th>\n",
              "      <th>tweets</th>\n",
              "      <th>retweets</th>\n",
              "      <th>label</th>\n",
              "      <th>url</th>\n",
              "      <th>num_retweets</th>\n",
              "      <th>log_num_retweets</th>\n",
              "      <th>num_tweets</th>\n",
              "      <th>log_num_tweets</th>\n",
              "    </tr>\n",
              "  </thead>\n",
              "  <tbody>\n",
              "    <tr>\n",
              "      <th>0</th>\n",
              "      <td>Kendall   Kylie Jenner Jenner NOT Upset Up...</td>\n",
              "      <td>NaN</td>\n",
              "      <td>[]</td>\n",
              "      <td>['995423424741888001', '995461685166202880', '...</td>\n",
              "      <td>fake</td>\n",
              "      <td>NaN</td>\n",
              "      <td>3</td>\n",
              "      <td>1.386294</td>\n",
              "      <td>0</td>\n",
              "      <td>0.0</td>\n",
              "    </tr>\n",
              "    <tr>\n",
              "      <th>1</th>\n",
              "      <td>Kim Kardashian Dethroned Dethroned By Khlo...</td>\n",
              "      <td>NaN</td>\n",
              "      <td>[]</td>\n",
              "      <td>['848843565027516416', '849030801970868224', '...</td>\n",
              "      <td>fake</td>\n",
              "      <td>NaN</td>\n",
              "      <td>3</td>\n",
              "      <td>1.386294</td>\n",
              "      <td>0</td>\n",
              "      <td>0.0</td>\n",
              "    </tr>\n",
              "  </tbody>\n",
              "</table>\n",
              "</div>\n",
              "      <button class=\"colab-df-convert\" onclick=\"convertToInteractive('df-e4a38226-9a47-44ad-b0ab-7ce624a0a07e')\"\n",
              "              title=\"Convert this dataframe to an interactive table.\"\n",
              "              style=\"display:none;\">\n",
              "        \n",
              "  <svg xmlns=\"http://www.w3.org/2000/svg\" height=\"24px\"viewBox=\"0 0 24 24\"\n",
              "       width=\"24px\">\n",
              "    <path d=\"M0 0h24v24H0V0z\" fill=\"none\"/>\n",
              "    <path d=\"M18.56 5.44l.94 2.06.94-2.06 2.06-.94-2.06-.94-.94-2.06-.94 2.06-2.06.94zm-11 1L8.5 8.5l.94-2.06 2.06-.94-2.06-.94L8.5 2.5l-.94 2.06-2.06.94zm10 10l.94 2.06.94-2.06 2.06-.94-2.06-.94-.94-2.06-.94 2.06-2.06.94z\"/><path d=\"M17.41 7.96l-1.37-1.37c-.4-.4-.92-.59-1.43-.59-.52 0-1.04.2-1.43.59L10.3 9.45l-7.72 7.72c-.78.78-.78 2.05 0 2.83L4 21.41c.39.39.9.59 1.41.59.51 0 1.02-.2 1.41-.59l7.78-7.78 2.81-2.81c.8-.78.8-2.07 0-2.86zM5.41 20L4 18.59l7.72-7.72 1.47 1.35L5.41 20z\"/>\n",
              "  </svg>\n",
              "      </button>\n",
              "      \n",
              "  <style>\n",
              "    .colab-df-container {\n",
              "      display:flex;\n",
              "      flex-wrap:wrap;\n",
              "      gap: 12px;\n",
              "    }\n",
              "\n",
              "    .colab-df-convert {\n",
              "      background-color: #E8F0FE;\n",
              "      border: none;\n",
              "      border-radius: 50%;\n",
              "      cursor: pointer;\n",
              "      display: none;\n",
              "      fill: #1967D2;\n",
              "      height: 32px;\n",
              "      padding: 0 0 0 0;\n",
              "      width: 32px;\n",
              "    }\n",
              "\n",
              "    .colab-df-convert:hover {\n",
              "      background-color: #E2EBFA;\n",
              "      box-shadow: 0px 1px 2px rgba(60, 64, 67, 0.3), 0px 1px 3px 1px rgba(60, 64, 67, 0.15);\n",
              "      fill: #174EA6;\n",
              "    }\n",
              "\n",
              "    [theme=dark] .colab-df-convert {\n",
              "      background-color: #3B4455;\n",
              "      fill: #D2E3FC;\n",
              "    }\n",
              "\n",
              "    [theme=dark] .colab-df-convert:hover {\n",
              "      background-color: #434B5C;\n",
              "      box-shadow: 0px 1px 3px 1px rgba(0, 0, 0, 0.15);\n",
              "      filter: drop-shadow(0px 1px 2px rgba(0, 0, 0, 0.3));\n",
              "      fill: #FFFFFF;\n",
              "    }\n",
              "  </style>\n",
              "\n",
              "      <script>\n",
              "        const buttonEl =\n",
              "          document.querySelector('#df-e4a38226-9a47-44ad-b0ab-7ce624a0a07e button.colab-df-convert');\n",
              "        buttonEl.style.display =\n",
              "          google.colab.kernel.accessAllowed ? 'block' : 'none';\n",
              "\n",
              "        async function convertToInteractive(key) {\n",
              "          const element = document.querySelector('#df-e4a38226-9a47-44ad-b0ab-7ce624a0a07e');\n",
              "          const dataTable =\n",
              "            await google.colab.kernel.invokeFunction('convertToInteractive',\n",
              "                                                     [key], {});\n",
              "          if (!dataTable) return;\n",
              "\n",
              "          const docLinkHtml = 'Like what you see? Visit the ' +\n",
              "            '<a target=\"_blank\" href=https://colab.research.google.com/notebooks/data_table.ipynb>data table notebook</a>'\n",
              "            + ' to learn more about interactive tables.';\n",
              "          element.innerHTML = '';\n",
              "          dataTable['output_type'] = 'display_data';\n",
              "          await google.colab.output.renderOutput(dataTable, element);\n",
              "          const docLink = document.createElement('div');\n",
              "          docLink.innerHTML = docLinkHtml;\n",
              "          element.appendChild(docLink);\n",
              "        }\n",
              "      </script>\n",
              "    </div>\n",
              "  </div>\n",
              "  "
            ]
          },
          "metadata": {},
          "execution_count": 6
        }
      ]
    },
    {
      "cell_type": "code",
      "source": [
        "df['tweets'] = df.tweets.map(ast.literal_eval)"
      ],
      "metadata": {
        "id": "qjvjCmHpOnpS"
      },
      "execution_count": 7,
      "outputs": []
    },
    {
      "cell_type": "code",
      "source": [
        "users_tweeted = df.tweets.map(lambda x: [int(e['user_id']) for e in x])"
      ],
      "metadata": {
        "id": "CovrRHkeOnpU"
      },
      "execution_count": 8,
      "outputs": []
    },
    {
      "cell_type": "code",
      "source": [
        "len(users_tweeted), sum(users_tweeted.map(len) > 0)"
      ],
      "metadata": {
        "colab": {
          "base_uri": "https://localhost:8080/"
        },
        "outputId": "da88703d-d9de-47c5-b568-741ef1f4eff1",
        "id": "VmjV_67MOnpW"
      },
      "execution_count": 9,
      "outputs": [
        {
          "output_type": "execute_result",
          "data": {
            "text/plain": [
              "(19968, 2117)"
            ]
          },
          "metadata": {},
          "execution_count": 9
        }
      ]
    },
    {
      "cell_type": "markdown",
      "source": [
        "## GNN"
      ],
      "metadata": {
        "id": "gI6AtSffmcqr"
      }
    },
    {
      "cell_type": "markdown",
      "source": [
        "### Data"
      ],
      "metadata": {
        "id": "FfaOg08xmfEp"
      }
    },
    {
      "cell_type": "code",
      "source": [
        "%%capture\n",
        "!pip install dgl wandb"
      ],
      "metadata": {
        "id": "xjD3rF-MmwKa"
      },
      "execution_count": 10,
      "outputs": []
    },
    {
      "cell_type": "code",
      "source": [
        "%env DGLBACKEND=pytorch"
      ],
      "metadata": {
        "colab": {
          "base_uri": "https://localhost:8080/"
        },
        "id": "w96ReVNpwHTY",
        "outputId": "46456828-50f3-478f-ed6c-eb917464bdda"
      },
      "execution_count": 11,
      "outputs": [
        {
          "output_type": "stream",
          "name": "stdout",
          "text": [
            "env: DGLBACKEND=pytorch\n"
          ]
        }
      ]
    },
    {
      "cell_type": "code",
      "source": [
        "import os\n",
        "import json\n",
        "import jsonlines\n",
        "import numpy as np\n",
        "import torch\n",
        "import dgl\n",
        "\n",
        "import wandb\n",
        "import IPython.display as ipd"
      ],
      "metadata": {
        "id": "yp52MLR1mdxA"
      },
      "execution_count": 12,
      "outputs": []
    },
    {
      "cell_type": "code",
      "source": [
        "u2i = {}\n",
        "\n",
        "follow_src = []\n",
        "follow_dst = []\n",
        "with jsonlines.open(base_dir/\"followers.jsonl\") as reader:\n",
        "    for line in reader:\n",
        "        v = line[\"user_id\"]\n",
        "        if v not in u2i:\n",
        "            u2i[v] = len(u2i)\n",
        "        for u in line[\"followers\"]:\n",
        "            if u not in u2i:\n",
        "                u2i[u] = len(u2i)\n",
        "            follow_src.append(u2i[u])\n",
        "            follow_dst.append(u2i[v])"
      ],
      "metadata": {
        "id": "h3XOCaEwoMvx"
      },
      "execution_count": 13,
      "outputs": []
    },
    {
      "cell_type": "code",
      "source": [
        "with jsonlines.open(base_dir/\"following.jsonl\") as reader:\n",
        "    for line in reader:\n",
        "        u = line[\"user_id\"]\n",
        "        if u not in u2i:\n",
        "            u2i[u] = len(u2i)\n",
        "        for v in line[\"following\"]:\n",
        "            if v not in u2i:\n",
        "                u2i[v] = len(u2i)\n",
        "            follow_src.append(u2i[u])\n",
        "            follow_dst.append(u2i[v])"
      ],
      "metadata": {
        "id": "sWJFoJ_4oMvz"
      },
      "execution_count": 14,
      "outputs": []
    },
    {
      "cell_type": "code",
      "source": [
        "tweet_src = []\n",
        "tweet_dst = []\n",
        "\n",
        "for v, l in users_tweeted.iteritems():\n",
        "    if not len(l):\n",
        "        continue\n",
        "    for u in l:\n",
        "        u = int(u)\n",
        "        if u in u2i:\n",
        "            tweet_src.append(u2i[u])\n",
        "            tweet_dst.append(v)"
      ],
      "metadata": {
        "id": "DWM9MEXDpiyX"
      },
      "execution_count": 15,
      "outputs": []
    },
    {
      "cell_type": "code",
      "source": [
        "text_embs = np.load(base_dir/f'{dataset_id}_{text_embeddings}_fulltext_embeddings.npy')\n",
        "text_embs.shape"
      ],
      "metadata": {
        "id": "CxkWUv799WnY",
        "colab": {
          "base_uri": "https://localhost:8080/"
        },
        "outputId": "cc32e1a1-5816-4940-a6a7-07c0a2c8c6b1"
      },
      "execution_count": 16,
      "outputs": [
        {
          "output_type": "execute_result",
          "data": {
            "text/plain": [
              "(19968, 300)"
            ]
          },
          "metadata": {},
          "execution_count": 16
        }
      ]
    },
    {
      "cell_type": "code",
      "source": [
        "num_users = len(set(follow_src+follow_dst+tweet_src))"
      ],
      "metadata": {
        "id": "CWYAnXYALbwo"
      },
      "execution_count": 17,
      "outputs": []
    },
    {
      "cell_type": "code",
      "source": [
        "follow_src = torch.tensor(follow_src)\n",
        "follow_dst = torch.tensor(follow_dst)\n",
        "tweet_src = torch.tensor(tweet_src)\n",
        "tweet_dst = torch.tensor(tweet_dst)\n",
        "\n",
        "graph = dgl.heterograph({\n",
        "    ('user', 'follow', 'user'): (follow_src, follow_dst),\n",
        "    ('user', 'followed-by', 'user'): (follow_dst, follow_src),\n",
        "    ('user', 'tweet', 'article'): (tweet_src, tweet_dst),\n",
        "    ('article', 'tweeted-by', 'user'): (tweet_dst, tweet_src)},\n",
        "    {'article':len(df), 'user':num_users}\n",
        ")\n",
        "\n",
        "graph.nodes['user'].data['feat'] = torch.arange(graph.num_nodes('user'))\n",
        "graph.nodes['article'].data['feat'] = torch.tensor(text_embs)\n",
        "graph.nodes['article'].data['label'] = torch.tensor((df.label==\"real\").to_numpy()).long()"
      ],
      "metadata": {
        "id": "0o-_TVpQ2Ag8"
      },
      "execution_count": 18,
      "outputs": []
    },
    {
      "cell_type": "code",
      "source": [
        "graph"
      ],
      "metadata": {
        "colab": {
          "base_uri": "https://localhost:8080/"
        },
        "id": "o_gsQ0ELzwpN",
        "outputId": "b6843221-67f5-412c-ac1e-952e49be8d8c"
      },
      "execution_count": 19,
      "outputs": [
        {
          "output_type": "execute_result",
          "data": {
            "text/plain": [
              "Graph(num_nodes={'article': 19968, 'user': 31792},\n",
              "      num_edges={('article', 'tweeted-by', 'user'): 588, ('user', 'follow', 'user'): 48409, ('user', 'followed-by', 'user'): 48409, ('user', 'tweet', 'article'): 588},\n",
              "      metagraph=[('article', 'user', 'tweeted-by'), ('user', 'user', 'follow'), ('user', 'user', 'followed-by'), ('user', 'article', 'tweet')])"
            ]
          },
          "metadata": {},
          "execution_count": 19
        }
      ]
    },
    {
      "cell_type": "code",
      "source": [
        "from sklearn.model_selection import StratifiedKFold\n",
        "\n",
        "skf = StratifiedKFold(shuffle=True, random_state=124)"
      ],
      "metadata": {
        "id": "_wR6tgjekCGZ"
      },
      "execution_count": 20,
      "outputs": []
    },
    {
      "cell_type": "code",
      "source": [
        "labels = graph.ndata['label']['article']\n",
        "\n",
        "train_idx, valid_idx = next(skf.split(labels, labels))"
      ],
      "metadata": {
        "id": "vUYRWGCqkNJw"
      },
      "execution_count": 21,
      "outputs": []
    },
    {
      "cell_type": "code",
      "source": [
        "device = torch.device('cuda' if torch.cuda.is_available() else 'cpu')"
      ],
      "metadata": {
        "id": "bz8FvZRmkrFt"
      },
      "execution_count": 22,
      "outputs": []
    },
    {
      "cell_type": "code",
      "source": [
        "sampler = dgl.dataloading.NeighborSampler([10, 10])\n",
        "train_loader = dgl.dataloading.DataLoader(\n",
        "    graph,\n",
        "    {'article':train_idx},\n",
        "    sampler,\n",
        "    device=device,\n",
        "    batch_size=64,\n",
        "    shuffle=True,\n",
        "    drop_last=False,\n",
        "    num_workers=0\n",
        ")"
      ],
      "metadata": {
        "id": "9lWNOaTwj86U"
      },
      "execution_count": 23,
      "outputs": []
    },
    {
      "cell_type": "code",
      "source": [
        "eval_sampler = dgl.dataloading.NeighborSampler([-1, -1])\n",
        "eval_loader = dgl.dataloading.DataLoader(\n",
        "    graph,\n",
        "    {'article':valid_idx},\n",
        "    eval_sampler,\n",
        "    device=device,\n",
        "    batch_size=64,\n",
        "    shuffle=False,\n",
        "    drop_last=False,\n",
        "    num_workers=0\n",
        ")"
      ],
      "metadata": {
        "id": "2P7O9wNi1GXS"
      },
      "execution_count": 24,
      "outputs": []
    },
    {
      "cell_type": "code",
      "source": [
        "batch = next(iter(train_loader))"
      ],
      "metadata": {
        "colab": {
          "base_uri": "https://localhost:8080/"
        },
        "id": "XKlDjmxnkvaT",
        "outputId": "a4629c59-2581-4df4-fce1-3792fdcf0e0e"
      },
      "execution_count": 25,
      "outputs": [
        {
          "output_type": "stream",
          "name": "stderr",
          "text": [
            "/usr/local/lib/python3.7/dist-packages/dgl/dataloading/dataloader.py:859: DGLWarning: Dataloader CPU affinity opt is not enabled, consider switching it on (see enable_cpu_affinity() or CPU best practices for DGL [https://docs.dgl.ai/tutorials/cpu/cpu_best_practises.html])\n",
            "  dgl_warning(f'Dataloader CPU affinity opt is not enabled, consider switching it on '\n"
          ]
        }
      ]
    },
    {
      "cell_type": "markdown",
      "source": [
        "### Model"
      ],
      "metadata": {
        "id": "a_NnqbhIvgQm"
      }
    },
    {
      "cell_type": "code",
      "source": [
        "from collections import defaultdict\n",
        "import torch.nn as nn\n",
        "import torch.nn.functional as F\n",
        "\n",
        "d_emb_dict = defaultdict(lambda: 64)\n",
        "\n",
        "def flatten_dict(d):\n",
        "    for k, v in d.items():\n",
        "        d[k] = v.flatten(1)\n",
        "    return d"
      ],
      "metadata": {
        "id": "oSGL7euSjzR-"
      },
      "execution_count": 26,
      "outputs": []
    },
    {
      "cell_type": "code",
      "source": [
        "class NodeEmbedding(nn.Module):\n",
        "\n",
        "    def __init__(self, n_nodes:dict, d_in:dict, d_emb:dict, proj_nodes=None, embed_nodes=None):\n",
        "        super().__init__()\n",
        "        self.proj_nodes = proj_nodes if proj_nodes is not None else list(d_in.keys())\n",
        "        self.embed_nodes = embed_nodes if embed_nodes is not None else list(n_nodes.keys())\n",
        "        self.emb = nn.ModuleDict({k:nn.Embedding(n_nodes[k], d_emb) for k in self.embed_nodes})\n",
        "        self.proj = nn.ModuleDict({k:nn.Linear(d_in[k], d_emb, bias=False) for k in self.proj_nodes})\n",
        "        self.init()\n",
        "\n",
        "    def forward(self, nx):\n",
        "        out = {}\n",
        "        for k, m  in self.emb.items():\n",
        "            out[k] = m(nx[k])\n",
        "        for k, m  in self.proj.items():\n",
        "            out[k] = m(nx[k])\n",
        "        return out\n",
        "\n",
        "    def init(self):\n",
        "        for _, m in self.emb.items():\n",
        "            torch.nn.init.xavier_uniform_(m.weight)\n",
        "        for _, m in self.proj.items():\n",
        "            torch.nn.init.xavier_uniform_(m.weight)"
      ],
      "metadata": {
        "id": "YGqNa5UVgfio"
      },
      "execution_count": 27,
      "outputs": []
    },
    {
      "cell_type": "code",
      "source": [
        "class Residual(nn.Module):\n",
        "\n",
        "    def __init__(self, conv):\n",
        "        super().__init__()\n",
        "        self.conv = conv\n",
        "\n",
        "    def forward(self, graph, x):\n",
        "        h = self.conv(graph, x)\n",
        "        res = x[1]\n",
        "        return h + res"
      ],
      "metadata": {
        "id": "vN3hV1uAv1L2"
      },
      "execution_count": 28,
      "outputs": []
    },
    {
      "cell_type": "code",
      "source": [
        "in_proj = NodeEmbedding({k:graph.num_nodes(k) for k in [\"user\"]}, {\"article\":text_embs.shape[1]}, 64)\n",
        "conv = dgl.nn.HeteroGraphConv({rel:Residual(dgl.nn.GraphConv(64, 64, allow_zero_in_degree=True)) for rel in graph.etypes})"
      ],
      "metadata": {
        "id": "yc-vcrjpw-6T"
      },
      "execution_count": 29,
      "outputs": []
    },
    {
      "cell_type": "code",
      "source": [
        "blocks = batch[-1]\n",
        "block = blocks[0]\n",
        "x = block.ndata['feat']\n",
        "\n",
        "with torch.no_grad():\n",
        "    h = in_proj(x)\n",
        "    res = conv(block, h)"
      ],
      "metadata": {
        "id": "uKQd2Wn3xDSn"
      },
      "execution_count": 30,
      "outputs": []
    },
    {
      "cell_type": "code",
      "source": [
        "res['article'].shape, res['user'].shape"
      ],
      "metadata": {
        "colab": {
          "base_uri": "https://localhost:8080/"
        },
        "id": "dEYSQp_oyewZ",
        "outputId": "c33451ee-bea1-44e7-a397-92511b8df77a"
      },
      "execution_count": 31,
      "outputs": [
        {
          "output_type": "execute_result",
          "data": {
            "text/plain": [
              "(torch.Size([64, 64]), torch.Size([0, 64]))"
            ]
          },
          "metadata": {},
          "execution_count": 31
        }
      ]
    },
    {
      "cell_type": "code",
      "source": [
        "class Encoder(torch.nn.Module):\n",
        "\n",
        "    def __init__(self, d_in, d_h, etypes, dropout=0.0):\n",
        "        super().__init__()\n",
        "        self.layers = nn.ModuleList([\n",
        "            dgl.nn.HeteroGraphConv({\n",
        "                rel : Residual(dgl.nn.GraphConv(d_in, d_h, allow_zero_in_degree=True)) for rel in etypes\n",
        "            }),\n",
        "            dgl.nn.HeteroGraphConv({\n",
        "                rel : Residual(dgl.nn.GraphConv(d_h, d_h, allow_zero_in_degree=True)) for rel in etypes\n",
        "            })\n",
        "        ])\n",
        "\n",
        "    def forward(self, blocks, x):\n",
        "        \n",
        "        for layer, block in zip(self.layers, blocks):\n",
        "            x = layer(block, x)\n",
        "        return x"
      ],
      "metadata": {
        "id": "bceu2k_-OgIG"
      },
      "execution_count": 32,
      "outputs": []
    },
    {
      "cell_type": "code",
      "source": [
        "graph.ndata['feat']['article'].shape"
      ],
      "metadata": {
        "colab": {
          "base_uri": "https://localhost:8080/"
        },
        "id": "9tfx9M1N37yc",
        "outputId": "ef5ce4a8-da55-4907-c82b-c13ae652a011"
      },
      "execution_count": 33,
      "outputs": [
        {
          "output_type": "execute_result",
          "data": {
            "text/plain": [
              "torch.Size([19968, 300])"
            ]
          },
          "metadata": {},
          "execution_count": 33
        }
      ]
    },
    {
      "cell_type": "code",
      "source": [
        "class GNN(nn.Module):\n",
        "\n",
        "    def __init__(self, g, d_h:int, tgt_ntype:str, emb_nodes:list=['user'], proj_nodes:list=['article']):\n",
        "        super().__init__()\n",
        "        self.tgt_ntype = tgt_ntype\n",
        "        self.in_proj = NodeEmbedding(\n",
        "            {k:g.num_nodes(k) for k in emb_nodes}, \n",
        "            {k:graph.ndata['feat'][k].shape[1] for k in proj_nodes},\n",
        "            d_h\n",
        "        )\n",
        "        self.encoder = Encoder(d_h, d_h, g.etypes)\n",
        "        self.head = nn.Linear(d_h, 2)\n",
        "\n",
        "    def forward(self, blocks, x):\n",
        "        h = self.in_proj(x)\n",
        "        h = self.encoder(blocks, h)\n",
        "        return self.head(h[self.tgt_ntype])\n",
        "\n",
        "    @torch.no_grad()\n",
        "    def get_embeddings(self, graph, x):\n",
        "        h = self.emb(x)\n",
        "        h = self.encoder(graph, h)\n",
        "        return h[self.tgt_ntype]"
      ],
      "metadata": {
        "id": "hFfx0YmfXoom"
      },
      "execution_count": 34,
      "outputs": []
    },
    {
      "cell_type": "code",
      "source": [
        "model = GNN(graph, 128, 'article')\n",
        "\n",
        "with torch.no_grad():\n",
        "    logits = model(blocks, x)"
      ],
      "metadata": {
        "id": "wFkuDQQgd3-v"
      },
      "execution_count": 35,
      "outputs": []
    },
    {
      "cell_type": "code",
      "source": [
        "logits.shape"
      ],
      "metadata": {
        "colab": {
          "base_uri": "https://localhost:8080/"
        },
        "id": "yhjU0-N1zShT",
        "outputId": "def461cb-fe41-44a8-899f-19cefdf504b1"
      },
      "execution_count": 36,
      "outputs": [
        {
          "output_type": "execute_result",
          "data": {
            "text/plain": [
              "torch.Size([64, 2])"
            ]
          },
          "metadata": {},
          "execution_count": 36
        }
      ]
    },
    {
      "cell_type": "code",
      "source": [
        "def accuracy(logits, labels):\n",
        "    return (logits.argmax(-1) == labels).float().mean()"
      ],
      "metadata": {
        "id": "BunQmwFY8Xso"
      },
      "execution_count": 37,
      "outputs": []
    },
    {
      "cell_type": "code",
      "source": [
        "from sklearn.model_selection import StratifiedKFold\n",
        "\n",
        "skf = StratifiedKFold(shuffle=True, random_state=124)"
      ],
      "metadata": {
        "id": "faEjToOWbAQl"
      },
      "execution_count": 38,
      "outputs": []
    },
    {
      "cell_type": "code",
      "source": [
        "from sklearn.metrics import accuracy_score, f1_score, precision_score, recall_score\n",
        "\n",
        "metrics = [accuracy_score, f1_score, precision_score, recall_score]\n",
        "def get_name(score_func):\n",
        "    return score_func.__name__.split(\"_\")[0]"
      ],
      "metadata": {
        "id": "1vjIXm2wM6_T"
      },
      "execution_count": 39,
      "outputs": []
    },
    {
      "cell_type": "code",
      "source": [
        "class AverageMeter:\n",
        "\n",
        "    def __init__(self, store_vals=False, store_avgs=False):\n",
        "        self.store_vals = store_vals\n",
        "        self.store_avgs = store_avgs\n",
        "        if store_vals: self.values = []\n",
        "        if store_avgs: self.avgs = []\n",
        "        self.tot, self.n = 0, 0\n",
        "\n",
        "    def update(self, v, n=1):\n",
        "        if self.store_vals: self.values.append(v)\n",
        "        self.n += n\n",
        "        self.tot += v*n\n",
        "\n",
        "    @property\n",
        "    def avg(self):\n",
        "        if self.n == 0:\n",
        "            return\n",
        "        return self.tot / self.n\n",
        "\n",
        "    def reset(self):\n",
        "        if self.store_avgs and self.avg: self.avgs.append(self.avg)\n",
        "        self.tot, self.n = 0, 0"
      ],
      "metadata": {
        "id": "S40fYMCU7nzh"
      },
      "execution_count": 40,
      "outputs": []
    },
    {
      "cell_type": "code",
      "source": [
        "def train(fold, train_idx, valid_idx, params):\n",
        "\n",
        "    model = GNN(graph, 128, 'article')\n",
        "    opt = torch.optim.Adam(model.parameters(), params['lr'])\n",
        "    scheduler = torch.optim.lr_scheduler.ReduceLROnPlateau(opt, factor=0.5, patience=10, verbose=True)\n",
        "\n",
        "    train_loss = AverageMeter(store_avgs=True)\n",
        "    train_acc = AverageMeter(store_avgs=True)\n",
        "    valid_loss = AverageMeter(store_avgs=True)\n",
        "    valid_acc = AverageMeter(store_avgs=True)\n",
        "\n",
        "    best_acc = 0\n",
        "    for epoch in range(params['n_epochs']):\n",
        "        model.train()\n",
        "        for batch in train_loader:\n",
        "            blocks = batch[-1]\n",
        "            x = blocks[0].ndata['feat']\n",
        "            logits = model(blocks, x)\n",
        "            \n",
        "            labels = blocks[-1].dstdata['label']['article']\n",
        "            loss = F.cross_entropy(logits, labels)\n",
        "            acc = accuracy(logits, labels)\n",
        "            opt.zero_grad()\n",
        "            loss.backward()\n",
        "            opt.step()\n",
        "\n",
        "            train_loss.update(loss.item(), len(labels))\n",
        "            train_acc.update(acc, len(labels))\n",
        "\n",
        "        model.eval()\n",
        "        for i, batch in enumerate(eval_loader):\n",
        "            blocks = batch[-1]\n",
        "            x = blocks[0].ndata['feat']\n",
        "            with torch.no_grad():\n",
        "                logits = model(blocks, x)\n",
        "\n",
        "                labels = blocks[-1].dstdata['label']['article']\n",
        "                val_loss = F.cross_entropy(logits, labels)\n",
        "                val_acc = accuracy(logits, labels)\n",
        "\n",
        "                valid_loss.update(val_loss.item(), len(labels))\n",
        "                valid_acc.update(val_acc, len(labels))\n",
        "        \n",
        "        scheduler.step(valid_loss.avg)\n",
        "        wandb.log({'train_loss':loss.item(), 'train_acc':acc, 'valid_loss':val_loss.item(), 'valid_acc':val_acc}, step=epoch)\n",
        "        print(f\"{epoch+1:>3}: Train loss {train_loss.avg:.4f}, acc {train_acc.avg:.4f}%; validation loss {valid_loss.avg:.4f}, acc {valid_acc.avg:.4f}%\")\n",
        "        \n",
        "        if valid_acc.avg >= best_acc:\n",
        "            best_acc = valid_acc.avg\n",
        "            torch.save(model.state_dict(), f'models/model-{fold}.pt')\n",
        "        \n",
        "        train_loss.reset()\n",
        "        train_acc.reset()\n",
        "        valid_loss.reset()\n",
        "        valid_acc.reset()\n",
        "\n",
        "        \n",
        "\n",
        "    # load best model and evaluate\n",
        "    model.load_state_dict(torch.load(f'models/model-{fold}.pt'))\n",
        "    model.eval()\n",
        "    preds = []\n",
        "    targs = []\n",
        "    for i, batch in enumerate(eval_loader):\n",
        "        blocks = batch[-1]\n",
        "        x = blocks[0].ndata['feat']\n",
        "        with torch.no_grad():\n",
        "            logits = model(blocks, x)\n",
        "\n",
        "            labels = blocks[-1].dstdata['label']['article']\n",
        "            \n",
        "        preds.append(logits.argmax(-1).cpu().numpy())\n",
        "        targs.append(labels.cpu().numpy())\n",
        "    preds = np.concatenate(preds)\n",
        "    targs = np.concatenate(targs)\n",
        "    eval_results = {get_name(f):f(y_pred=preds, y_true=targs) for f in metrics}\n",
        "    print(\"Final evaluation results:\")\n",
        "    for k,v in eval_results.items():\n",
        "        print(f\"{k:<16}{v:.4f}\")\n",
        "    \n",
        "    wandb.log(eval_results)\n",
        "    wandb.log({\"conf_mat\" : wandb.plot.confusion_matrix(probs=None,\n",
        "                            y_true=targs, preds=preds,\n",
        "                            class_names=[\"Fake\", \"Real\"])})\n",
        "\n",
        "    return {\n",
        "        'train_loss':train_loss,\n",
        "        'train_acc':train_acc,\n",
        "        'valid_loss':valid_loss,\n",
        "        'valid_acc':valid_acc\n",
        "    }"
      ],
      "metadata": {
        "id": "4lvLwrItbAQp"
      },
      "execution_count": 41,
      "outputs": []
    },
    {
      "cell_type": "code",
      "source": [
        "params = {\n",
        "    \"n_epochs\":100,\n",
        "    'bs': 16,\n",
        "    'lr':1e-2,\n",
        "    \"seed\":124,\n",
        "}\n",
        "\n",
        "labels = graph.ndata['label']['article']"
      ],
      "metadata": {
        "id": "VWKvv1xebAQu"
      },
      "execution_count": 42,
      "outputs": []
    },
    {
      "cell_type": "code",
      "source": [
        "if not os.path.exists('models'):\n",
        "    os.mkdir('models')\n",
        "\n",
        "GROUP = \"sbert-fulltextGCop-hetgnn-ua-e100\"\n",
        "for fold_id, (train_idx, valid_idx) in enumerate(skf.split(labels, labels)):\n",
        "    ipd.clear_output()\n",
        "    with wandb.init(entity=\"saloniteam\", project=\"nofolds\", group=GROUP, name=f\"{GROUP}-fold-{fold_id}\") as run:\n",
        "        log = train(fold_id, train_idx, valid_idx, params)\n",
        "    break"
      ],
      "metadata": {
        "id": "7qBu9i1ebAQx",
        "colab": {
          "base_uri": "https://localhost:8080/",
          "height": 1000,
          "referenced_widgets": [
            "cd6c422146394f12be8b4e165e7ef42c",
            "6f2fa08b2269486d8b8a344ef47c588f",
            "7c0df41fe8fa4b3b9f9568a7888b0480",
            "4f80044ff9a14e5ba668dae91f2d07ec",
            "db59a88da57a43578eb3729213a6354d",
            "77bad3fdcef043329b3538a3f526fd45",
            "886a6a840a5a4a54982a362ceb10ff64",
            "5519b5034d294f7b9a97fb948422d162"
          ]
        },
        "outputId": "013dfd6e-42ac-4b85-8a6c-bd96040099ae"
      },
      "execution_count": 43,
      "outputs": [
        {
          "metadata": {
            "tags": null
          },
          "name": "stderr",
          "output_type": "stream",
          "text": [
            "ERROR:wandb.jupyter:Failed to detect the name of this notebook, you can set it manually with the WANDB_NOTEBOOK_NAME environment variable to enable code saving.\n"
          ]
        },
        {
          "data": {
            "application/javascript": [
              "\n",
              "        window._wandbApiKey = new Promise((resolve, reject) => {\n",
              "            function loadScript(url) {\n",
              "            return new Promise(function(resolve, reject) {\n",
              "                let newScript = document.createElement(\"script\");\n",
              "                newScript.onerror = reject;\n",
              "                newScript.onload = resolve;\n",
              "                document.body.appendChild(newScript);\n",
              "                newScript.src = url;\n",
              "            });\n",
              "            }\n",
              "            loadScript(\"https://cdn.jsdelivr.net/npm/postmate/build/postmate.min.js\").then(() => {\n",
              "            const iframe = document.createElement('iframe')\n",
              "            iframe.style.cssText = \"width:0;height:0;border:none\"\n",
              "            document.body.appendChild(iframe)\n",
              "            const handshake = new Postmate({\n",
              "                container: iframe,\n",
              "                url: 'https://wandb.ai/authorize'\n",
              "            });\n",
              "            const timeout = setTimeout(() => reject(\"Couldn't auto authenticate\"), 5000)\n",
              "            handshake.then(function(child) {\n",
              "                child.on('authorize', data => {\n",
              "                    clearTimeout(timeout)\n",
              "                    resolve(data)\n",
              "                });\n",
              "            });\n",
              "            })\n",
              "        });\n",
              "    "
            ],
            "text/plain": [
              "<IPython.core.display.Javascript object>"
            ]
          },
          "metadata": {},
          "output_type": "display_data"
        },
        {
          "metadata": {
            "tags": null
          },
          "name": "stderr",
          "output_type": "stream",
          "text": [
            "\u001b[34m\u001b[1mwandb\u001b[0m: Appending key for api.wandb.ai to your netrc file: /root/.netrc\n"
          ]
        },
        {
          "data": {
            "text/html": [
              "Tracking run with wandb version 0.13.4"
            ],
            "text/plain": [
              "<IPython.core.display.HTML object>"
            ]
          },
          "metadata": {},
          "output_type": "display_data"
        },
        {
          "data": {
            "text/html": [
              "Run data is saved locally in <code>/content/wandb/run-20221019_161050-podqpjna</code>"
            ],
            "text/plain": [
              "<IPython.core.display.HTML object>"
            ]
          },
          "metadata": {},
          "output_type": "display_data"
        },
        {
          "data": {
            "text/html": [
              "Syncing run <strong><a href=\"https://wandb.ai/saloniteam/nofolds/runs/podqpjna\" target=\"_blank\">sbert-fulltextGCop-hetgnn-ua-e100-fold-0</a></strong> to <a href=\"https://wandb.ai/saloniteam/nofolds\" target=\"_blank\">Weights & Biases</a> (<a href=\"https://wandb.me/run\" target=\"_blank\">docs</a>)<br/>"
            ],
            "text/plain": [
              "<IPython.core.display.HTML object>"
            ]
          },
          "metadata": {},
          "output_type": "display_data"
        },
        {
          "metadata": {
            "tags": null
          },
          "name": "stderr",
          "output_type": "stream",
          "text": [
            "/usr/local/lib/python3.7/dist-packages/dgl/dataloading/dataloader.py:859: DGLWarning: Dataloader CPU affinity opt is not enabled, consider switching it on (see enable_cpu_affinity() or CPU best practices for DGL [https://docs.dgl.ai/tutorials/cpu/cpu_best_practises.html])\n",
            "  dgl_warning(f'Dataloader CPU affinity opt is not enabled, consider switching it on '\n",
            "/usr/local/lib/python3.7/dist-packages/torch/amp/autocast_mode.py:198: UserWarning: User provided device_type of 'cuda', but CUDA is not available. Disabling\n",
            "  warnings.warn('User provided device_type of \\'cuda\\', but CUDA is not available. Disabling')\n"
          ]
        },
        {
          "output_type": "stream",
          "name": "stdout",
          "text": [
            "  1: Train loss 0.5462, acc 0.7838%; validation loss 0.4535, acc 0.8122%\n",
            "  2: Train loss 0.5085, acc 0.8052%; validation loss 0.6805, acc 0.8092%\n",
            "  3: Train loss 1.4171, acc 0.8071%; validation loss 1.3209, acc 0.8210%\n",
            "  4: Train loss 0.5650, acc 0.8108%; validation loss 0.5960, acc 0.7904%\n",
            "  5: Train loss 0.4521, acc 0.8153%; validation loss 0.6834, acc 0.8167%\n",
            "  6: Train loss 0.4435, acc 0.8260%; validation loss 0.6213, acc 0.8222%\n",
            "  7: Train loss 0.4244, acc 0.8297%; validation loss 0.5874, acc 0.8175%\n",
            "  8: Train loss 0.4246, acc 0.8333%; validation loss 0.8300, acc 0.8065%\n",
            "  9: Train loss 0.4274, acc 0.8316%; validation loss 0.5520, acc 0.8207%\n",
            " 10: Train loss 0.4334, acc 0.8346%; validation loss 0.5905, acc 0.8142%\n",
            " 11: Train loss 0.4154, acc 0.8352%; validation loss 0.4856, acc 0.8270%\n",
            "Epoch 00012: reducing learning rate of group 0 to 5.0000e-03.\n",
            " 12: Train loss 0.4032, acc 0.8370%; validation loss 0.4884, acc 0.8272%\n",
            " 13: Train loss 0.3947, acc 0.8411%; validation loss 0.4694, acc 0.8245%\n",
            " 14: Train loss 0.3963, acc 0.8415%; validation loss 0.4816, acc 0.8220%\n",
            " 15: Train loss 0.3938, acc 0.8417%; validation loss 0.5401, acc 0.8242%\n",
            " 16: Train loss 0.3937, acc 0.8439%; validation loss 0.5643, acc 0.8257%\n",
            " 17: Train loss 0.3944, acc 0.8412%; validation loss 0.5401, acc 0.8242%\n",
            " 18: Train loss 0.3895, acc 0.8427%; validation loss 0.4440, acc 0.8257%\n",
            " 19: Train loss 0.3919, acc 0.8442%; validation loss 0.5279, acc 0.8260%\n",
            " 20: Train loss 0.3999, acc 0.8422%; validation loss 0.4770, acc 0.8250%\n",
            " 21: Train loss 0.4108, acc 0.8432%; validation loss 0.4815, acc 0.8312%\n",
            " 22: Train loss 0.3940, acc 0.8437%; validation loss 0.4492, acc 0.8307%\n",
            " 23: Train loss 0.3874, acc 0.8442%; validation loss 0.5119, acc 0.8242%\n",
            " 24: Train loss 0.3956, acc 0.8419%; validation loss 0.5016, acc 0.8312%\n",
            " 25: Train loss 0.3868, acc 0.8448%; validation loss 0.4560, acc 0.8252%\n",
            " 26: Train loss 0.3882, acc 0.8443%; validation loss 0.5828, acc 0.8255%\n",
            " 27: Train loss 0.3986, acc 0.8432%; validation loss 0.5708, acc 0.8270%\n",
            " 28: Train loss 0.3971, acc 0.8417%; validation loss 0.4793, acc 0.8297%\n",
            "Epoch 00029: reducing learning rate of group 0 to 2.5000e-03.\n",
            " 29: Train loss 0.3950, acc 0.8459%; validation loss 0.4890, acc 0.8322%\n",
            " 30: Train loss 0.3831, acc 0.8468%; validation loss 0.5283, acc 0.8295%\n",
            " 31: Train loss 0.3849, acc 0.8465%; validation loss 0.5039, acc 0.8252%\n",
            " 32: Train loss 0.3836, acc 0.8461%; validation loss 0.5094, acc 0.8275%\n",
            " 33: Train loss 0.3810, acc 0.8473%; validation loss 0.4481, acc 0.8280%\n",
            " 34: Train loss 0.3812, acc 0.8476%; validation loss 0.4763, acc 0.8255%\n",
            " 35: Train loss 0.3801, acc 0.8476%; validation loss 0.4910, acc 0.8282%\n",
            " 36: Train loss 0.3812, acc 0.8483%; validation loss 0.4454, acc 0.8285%\n",
            " 37: Train loss 0.3798, acc 0.8468%; validation loss 0.4548, acc 0.8307%\n",
            " 38: Train loss 0.3779, acc 0.8489%; validation loss 0.5478, acc 0.8287%\n",
            " 39: Train loss 0.3806, acc 0.8480%; validation loss 0.4900, acc 0.8285%\n",
            "Epoch 00040: reducing learning rate of group 0 to 1.2500e-03.\n",
            " 40: Train loss 0.3784, acc 0.8483%; validation loss 0.4576, acc 0.8305%\n",
            " 41: Train loss 0.3762, acc 0.8485%; validation loss 0.4584, acc 0.8282%\n",
            " 42: Train loss 0.3763, acc 0.8478%; validation loss 0.4633, acc 0.8287%\n",
            " 43: Train loss 0.3769, acc 0.8484%; validation loss 0.4920, acc 0.8292%\n",
            " 44: Train loss 0.3768, acc 0.8487%; validation loss 0.4652, acc 0.8292%\n",
            " 45: Train loss 0.3755, acc 0.8497%; validation loss 0.4678, acc 0.8307%\n",
            " 46: Train loss 0.3751, acc 0.8494%; validation loss 0.4391, acc 0.8295%\n",
            " 47: Train loss 0.3755, acc 0.8484%; validation loss 0.4438, acc 0.8292%\n",
            " 48: Train loss 0.3751, acc 0.8491%; validation loss 0.4444, acc 0.8285%\n",
            " 49: Train loss 0.3754, acc 0.8491%; validation loss 0.4359, acc 0.8285%\n",
            " 50: Train loss 0.3751, acc 0.8494%; validation loss 0.4362, acc 0.8272%\n",
            " 51: Train loss 0.3749, acc 0.8486%; validation loss 0.4324, acc 0.8295%\n",
            " 52: Train loss 0.3746, acc 0.8495%; validation loss 0.4414, acc 0.8287%\n",
            " 53: Train loss 0.3761, acc 0.8482%; validation loss 0.4415, acc 0.8275%\n",
            " 54: Train loss 0.3760, acc 0.8499%; validation loss 0.4613, acc 0.8267%\n",
            " 55: Train loss 0.3754, acc 0.8484%; validation loss 0.4661, acc 0.8277%\n",
            " 56: Train loss 0.3775, acc 0.8498%; validation loss 0.4442, acc 0.8297%\n",
            " 57: Train loss 0.3749, acc 0.8506%; validation loss 0.4321, acc 0.8282%\n",
            " 58: Train loss 0.3742, acc 0.8488%; validation loss 0.4292, acc 0.8270%\n",
            " 59: Train loss 0.3748, acc 0.8488%; validation loss 0.4585, acc 0.8277%\n",
            " 60: Train loss 0.3756, acc 0.8504%; validation loss 0.4423, acc 0.8260%\n",
            " 61: Train loss 0.3745, acc 0.8494%; validation loss 0.4273, acc 0.8300%\n",
            " 62: Train loss 0.3744, acc 0.8492%; validation loss 0.4371, acc 0.8290%\n",
            " 63: Train loss 0.3750, acc 0.8493%; validation loss 0.4394, acc 0.8292%\n",
            " 64: Train loss 0.3738, acc 0.8501%; validation loss 0.4319, acc 0.8295%\n",
            " 65: Train loss 0.3742, acc 0.8489%; validation loss 0.4466, acc 0.8277%\n",
            " 66: Train loss 0.3746, acc 0.8496%; validation loss 0.4237, acc 0.8277%\n",
            " 67: Train loss 0.3739, acc 0.8505%; validation loss 0.4340, acc 0.8277%\n",
            " 68: Train loss 0.3740, acc 0.8503%; validation loss 0.4314, acc 0.8290%\n",
            " 69: Train loss 0.3744, acc 0.8497%; validation loss 0.4268, acc 0.8295%\n",
            " 70: Train loss 0.3747, acc 0.8506%; validation loss 0.4307, acc 0.8302%\n",
            " 71: Train loss 0.3752, acc 0.8501%; validation loss 0.4974, acc 0.8295%\n",
            " 72: Train loss 0.3752, acc 0.8489%; validation loss 0.4405, acc 0.8305%\n",
            " 73: Train loss 0.3745, acc 0.8496%; validation loss 0.4437, acc 0.8267%\n",
            " 74: Train loss 0.3739, acc 0.8503%; validation loss 0.4261, acc 0.8292%\n",
            " 75: Train loss 0.3746, acc 0.8496%; validation loss 0.4451, acc 0.8290%\n",
            " 76: Train loss 0.3740, acc 0.8509%; validation loss 0.4291, acc 0.8277%\n",
            "Epoch 00077: reducing learning rate of group 0 to 6.2500e-04.\n",
            " 77: Train loss 0.3739, acc 0.8505%; validation loss 0.4355, acc 0.8277%\n",
            " 78: Train loss 0.3738, acc 0.8505%; validation loss 0.4344, acc 0.8295%\n",
            " 79: Train loss 0.3727, acc 0.8506%; validation loss 0.4269, acc 0.8302%\n",
            " 80: Train loss 0.3727, acc 0.8505%; validation loss 0.4250, acc 0.8300%\n",
            " 81: Train loss 0.3727, acc 0.8503%; validation loss 0.4313, acc 0.8302%\n",
            " 82: Train loss 0.3726, acc 0.8500%; validation loss 0.4267, acc 0.8295%\n",
            " 83: Train loss 0.3728, acc 0.8501%; validation loss 0.4235, acc 0.8295%\n",
            " 84: Train loss 0.3728, acc 0.8504%; validation loss 0.4251, acc 0.8300%\n",
            " 85: Train loss 0.3727, acc 0.8503%; validation loss 0.4171, acc 0.8292%\n",
            " 86: Train loss 0.3727, acc 0.8503%; validation loss 0.4279, acc 0.8297%\n",
            " 87: Train loss 0.3726, acc 0.8496%; validation loss 0.4208, acc 0.8307%\n",
            " 88: Train loss 0.3728, acc 0.8505%; validation loss 0.4230, acc 0.8302%\n",
            " 89: Train loss 0.3727, acc 0.8503%; validation loss 0.4260, acc 0.8310%\n",
            " 90: Train loss 0.3728, acc 0.8504%; validation loss 0.4326, acc 0.8302%\n",
            " 91: Train loss 0.3724, acc 0.8495%; validation loss 0.4264, acc 0.8297%\n",
            " 92: Train loss 0.3725, acc 0.8503%; validation loss 0.4272, acc 0.8290%\n",
            " 93: Train loss 0.3724, acc 0.8503%; validation loss 0.4178, acc 0.8307%\n",
            " 94: Train loss 0.3724, acc 0.8509%; validation loss 0.4219, acc 0.8285%\n",
            " 95: Train loss 0.3725, acc 0.8496%; validation loss 0.4193, acc 0.8292%\n",
            "Epoch 00096: reducing learning rate of group 0 to 3.1250e-04.\n",
            " 96: Train loss 0.3727, acc 0.8496%; validation loss 0.4198, acc 0.8290%\n",
            " 97: Train loss 0.3722, acc 0.8503%; validation loss 0.4206, acc 0.8295%\n",
            " 98: Train loss 0.3720, acc 0.8505%; validation loss 0.4218, acc 0.8302%\n",
            " 99: Train loss 0.3721, acc 0.8514%; validation loss 0.4224, acc 0.8305%\n",
            "100: Train loss 0.3718, acc 0.8511%; validation loss 0.4199, acc 0.8312%\n",
            "Final evaluation results:\n",
            "accuracy        0.8322\n",
            "f1              0.8972\n",
            "precision       0.8518\n",
            "recall          0.9478\n"
          ]
        },
        {
          "output_type": "display_data",
          "data": {
            "text/plain": [
              "<IPython.core.display.HTML object>"
            ],
            "text/html": [
              "Waiting for W&B process to finish... <strong style=\"color:green\">(success).</strong>"
            ]
          },
          "metadata": {}
        },
        {
          "output_type": "display_data",
          "data": {
            "text/plain": [
              "VBox(children=(Label(value='0.001 MB of 0.001 MB uploaded (0.000 MB deduped)\\r'), FloatProgress(value=0.862447…"
            ],
            "application/vnd.jupyter.widget-view+json": {
              "version_major": 2,
              "version_minor": 0,
              "model_id": "cd6c422146394f12be8b4e165e7ef42c"
            }
          },
          "metadata": {}
        },
        {
          "output_type": "display_data",
          "data": {
            "text/plain": [
              "<IPython.core.display.HTML object>"
            ],
            "text/html": [
              "<style>\n",
              "    table.wandb td:nth-child(1) { padding: 0 10px; text-align: left ; width: auto;} td:nth-child(2) {text-align: left ; width: 100%}\n",
              "    .wandb-row { display: flex; flex-direction: row; flex-wrap: wrap; justify-content: flex-start; width: 100% }\n",
              "    .wandb-col { display: flex; flex-direction: column; flex-basis: 100%; flex: 1; padding: 10px; }\n",
              "    </style>\n",
              "<div class=\"wandb-row\"><div class=\"wandb-col\"><h3>Run history:</h3><br/><table class=\"wandb\"><tr><td>accuracy</td><td>▁</td></tr><tr><td>f1</td><td>▁</td></tr><tr><td>precision</td><td>▁</td></tr><tr><td>recall</td><td>▁</td></tr><tr><td>train_acc</td><td>▅▄▇▂▁▄▆▃▇▅▇▇▅▄▄▅▄▅▆▅▇▇▆▇▇▄▆▇▅▅▅▇▇▇▄▆█▇▁▆</td></tr><tr><td>train_loss</td><td>▄▅▄█▆▅▂▆▃▅▂▃▄▆▇▃█▃▂▄▂▁▇▂▂▅▄▁▅▅▄▄▂▁▄▂▂▃█▆</td></tr><tr><td>valid_acc</td><td>▄▄▄▁▄▄▄█▄█▄▄▄▄█▄▄▄▄██▄█▄█▄▄███▄█████████</td></tr><tr><td>valid_loss</td><td>▁█▄▅▁▁▂▁▁▁▂▁▁▁▁▁▁▁▁▁▁▁▁▁▁▁▁▁▁▁▁▁▁▁▁▁▁▁▁▁</td></tr></table><br/></div><div class=\"wandb-col\"><h3>Run summary:</h3><br/><table class=\"wandb\"><tr><td>accuracy</td><td>0.83225</td></tr><tr><td>f1</td><td>0.89724</td></tr><tr><td>precision</td><td>0.85178</td></tr><tr><td>recall</td><td>0.94783</td></tr><tr><td>train_acc</td><td>0.86842</td></tr><tr><td>train_loss</td><td>0.5219</td></tr><tr><td>valid_acc</td><td>0.92308</td></tr><tr><td>valid_loss</td><td>0.38298</td></tr></table><br/></div></div>"
            ]
          },
          "metadata": {}
        },
        {
          "output_type": "display_data",
          "data": {
            "text/plain": [
              "<IPython.core.display.HTML object>"
            ],
            "text/html": [
              "Synced <strong style=\"color:#cdcd00\">sbert-fulltextGCop-hetgnn-ua-e100-fold-0</strong>: <a href=\"https://wandb.ai/saloniteam/nofolds/runs/podqpjna\" target=\"_blank\">https://wandb.ai/saloniteam/nofolds/runs/podqpjna</a><br/>Synced 5 W&B file(s), 1 media file(s), 1 artifact file(s) and 0 other file(s)"
            ]
          },
          "metadata": {}
        },
        {
          "output_type": "display_data",
          "data": {
            "text/plain": [
              "<IPython.core.display.HTML object>"
            ],
            "text/html": [
              "Find logs at: <code>./wandb/run-20221019_161050-podqpjna/logs</code>"
            ]
          },
          "metadata": {}
        }
      ]
    },
    {
      "cell_type": "code",
      "source": [
        "model = GNN(graph, 128, \"article\")\n",
        "\n",
        "model.load_state_dict(torch.load(f'models/model-{fold_id}.pt'))"
      ],
      "metadata": {
        "id": "wY33CRA85L6h",
        "colab": {
          "base_uri": "https://localhost:8080/"
        },
        "outputId": "1bc830a4-5e50-409a-a32c-78ae5d15d9c6"
      },
      "execution_count": 44,
      "outputs": [
        {
          "output_type": "execute_result",
          "data": {
            "text/plain": [
              "<All keys matched successfully>"
            ]
          },
          "metadata": {},
          "execution_count": 44
        }
      ]
    },
    {
      "cell_type": "code",
      "source": [],
      "metadata": {
        "id": "wj6KA7GN5Q8s"
      },
      "execution_count": null,
      "outputs": []
    }
  ]
}