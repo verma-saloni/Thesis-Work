{
  "nbformat": 4,
  "nbformat_minor": 0,
  "metadata": {
    "colab": {
      "name": "Copy of Clean Fasttext 10 records",
      "provenance": [],
      "collapsed_sections": [],
      "mount_file_id": "1NPiUWitUBXWieq0thHC8jHYIxBVDDwfA",
      "authorship_tag": "ABX9TyOhy4Pg5zMJnuxHogoTwtKh",
      "include_colab_link": true
    },
    "kernelspec": {
      "name": "python3",
      "display_name": "Python 3"
    },
    "language_info": {
      "name": "python"
    }
  },
  "cells": [
    {
      "cell_type": "markdown",
      "metadata": {
        "id": "view-in-github",
        "colab_type": "text"
      },
      "source": [
        "<a href=\"https://colab.research.google.com/github/verma-saloni/Thesis-Work/blob/main/Copy_of_Clean_Fasttext_10_records.ipynb\" target=\"_parent\"><img src=\"https://colab.research.google.com/assets/colab-badge.svg\" alt=\"Open In Colab\"/></a>"
      ]
    },
    {
      "cell_type": "code",
      "source": [
        "!pip install unidecode\n",
        "!pip install word2number\n",
        "!pip install contractions"
      ],
      "metadata": {
        "colab": {
          "base_uri": "https://localhost:8080/"
        },
        "id": "aByzVMdkzqAJ",
        "outputId": "ea9abef4-ee96-49cd-8346-bfd4ef4dbf24"
      },
      "execution_count": 1,
      "outputs": [
        {
          "output_type": "stream",
          "name": "stdout",
          "text": [
            "Collecting unidecode\n",
            "  Downloading Unidecode-1.3.2-py3-none-any.whl (235 kB)\n",
            "\u001b[?25l\r\u001b[K     |█▍                              | 10 kB 19.4 MB/s eta 0:00:01\r\u001b[K     |██▉                             | 20 kB 10.4 MB/s eta 0:00:01\r\u001b[K     |████▏                           | 30 kB 8.1 MB/s eta 0:00:01\r\u001b[K     |█████▋                          | 40 kB 7.4 MB/s eta 0:00:01\r\u001b[K     |███████                         | 51 kB 4.4 MB/s eta 0:00:01\r\u001b[K     |████████▍                       | 61 kB 4.6 MB/s eta 0:00:01\r\u001b[K     |█████████▊                      | 71 kB 4.5 MB/s eta 0:00:01\r\u001b[K     |███████████▏                    | 81 kB 5.0 MB/s eta 0:00:01\r\u001b[K     |████████████▌                   | 92 kB 5.5 MB/s eta 0:00:01\r\u001b[K     |██████████████                  | 102 kB 4.2 MB/s eta 0:00:01\r\u001b[K     |███████████████▎                | 112 kB 4.2 MB/s eta 0:00:01\r\u001b[K     |████████████████▊               | 122 kB 4.2 MB/s eta 0:00:01\r\u001b[K     |██████████████████              | 133 kB 4.2 MB/s eta 0:00:01\r\u001b[K     |███████████████████▌            | 143 kB 4.2 MB/s eta 0:00:01\r\u001b[K     |████████████████████▉           | 153 kB 4.2 MB/s eta 0:00:01\r\u001b[K     |██████████████████████▎         | 163 kB 4.2 MB/s eta 0:00:01\r\u001b[K     |███████████████████████▋        | 174 kB 4.2 MB/s eta 0:00:01\r\u001b[K     |█████████████████████████       | 184 kB 4.2 MB/s eta 0:00:01\r\u001b[K     |██████████████████████████▍     | 194 kB 4.2 MB/s eta 0:00:01\r\u001b[K     |███████████████████████████▉    | 204 kB 4.2 MB/s eta 0:00:01\r\u001b[K     |█████████████████████████████▏  | 215 kB 4.2 MB/s eta 0:00:01\r\u001b[K     |██████████████████████████████▋ | 225 kB 4.2 MB/s eta 0:00:01\r\u001b[K     |████████████████████████████████| 235 kB 4.2 MB/s eta 0:00:01\r\u001b[K     |████████████████████████████████| 235 kB 4.2 MB/s \n",
            "\u001b[?25hInstalling collected packages: unidecode\n",
            "Successfully installed unidecode-1.3.2\n",
            "Collecting word2number\n",
            "  Downloading word2number-1.1.zip (9.7 kB)\n",
            "Building wheels for collected packages: word2number\n",
            "  Building wheel for word2number (setup.py) ... \u001b[?25l\u001b[?25hdone\n",
            "  Created wheel for word2number: filename=word2number-1.1-py3-none-any.whl size=5582 sha256=c5a037acaa1e5468eb49dfa4da9cc71270e4911d94e9a34b9c30948394af909f\n",
            "  Stored in directory: /root/.cache/pip/wheels/4b/c3/77/a5f48aeb0d3efb7cd5ad61cbd3da30bbf9ffc9662b07c9f879\n",
            "Successfully built word2number\n",
            "Installing collected packages: word2number\n",
            "Successfully installed word2number-1.1\n",
            "Collecting contractions\n",
            "  Downloading contractions-0.0.58-py2.py3-none-any.whl (8.0 kB)\n",
            "Collecting textsearch>=0.0.21\n",
            "  Downloading textsearch-0.0.21-py2.py3-none-any.whl (7.5 kB)\n",
            "Collecting anyascii\n",
            "  Downloading anyascii-0.3.0-py3-none-any.whl (284 kB)\n",
            "\u001b[K     |████████████████████████████████| 284 kB 4.3 MB/s \n",
            "\u001b[?25hCollecting pyahocorasick\n",
            "  Downloading pyahocorasick-1.4.2.tar.gz (321 kB)\n",
            "\u001b[K     |████████████████████████████████| 321 kB 51.0 MB/s \n",
            "\u001b[?25hBuilding wheels for collected packages: pyahocorasick\n",
            "  Building wheel for pyahocorasick (setup.py) ... \u001b[?25l\u001b[?25hdone\n",
            "  Created wheel for pyahocorasick: filename=pyahocorasick-1.4.2-cp37-cp37m-linux_x86_64.whl size=85440 sha256=21c7ab6e5606554e8769ff8d9f670f0557b3ca99df8b10ad60f769686483b851\n",
            "  Stored in directory: /root/.cache/pip/wheels/25/19/a6/8f363d9939162782bb8439d886469756271abc01f76fbd790f\n",
            "Successfully built pyahocorasick\n",
            "Installing collected packages: pyahocorasick, anyascii, textsearch, contractions\n",
            "Successfully installed anyascii-0.3.0 contractions-0.0.58 pyahocorasick-1.4.2 textsearch-0.0.21\n"
          ]
        }
      ]
    },
    {
      "cell_type": "code",
      "execution_count": null,
      "metadata": {
        "id": "8wffusyCytsx"
      },
      "outputs": [],
      "source": [
        "import pandas as pd\n",
        "import numpy as np\n",
        "import nltk\n",
        "import gensim\n",
        "from gensim.models import Word2Vec\n",
        "import string\n",
        "string.punctuation\n",
        "nltk.download('stopwords')\n",
        "import re\n",
        "from bs4 import BeautifulSoup\n",
        "import spacy\n",
        "import unidecode\n",
        "from word2number import w2n\n",
        "import contractions\n",
        "from nltk.tokenize.treebank import TreebankWordDetokenizer\n",
        "# load spacy model, can be \"en_core_web_sm\" as well\n",
        "from sklearn.model_selection import train_test_split\n",
        "import xgboost as xgb\n",
        "\n"
      ]
    },
    {
      "cell_type": "code",
      "source": [
        "from google.colab import drive\n",
        "drive._mount('/content/drive')"
      ],
      "metadata": {
        "colab": {
          "base_uri": "https://localhost:8080/"
        },
        "id": "SusBhh-CzXYG",
        "outputId": "7ab0f3a9-88ef-4b9c-947e-4389a39f7526"
      },
      "execution_count": 5,
      "outputs": [
        {
          "output_type": "stream",
          "name": "stdout",
          "text": [
            "Drive already mounted at /content/drive; to attempt to forcibly remount, call drive.mount(\"/content/drive\", force_remount=True).\n"
          ]
        }
      ]
    },
    {
      "cell_type": "code",
      "source": [
        "df_fake = pd.read_csv('/content/drive/MyDrive/Thesis/gossipcop_fake.csv')\n",
        "df_real = pd.read_csv('/content/drive/MyDrive/Thesis/gossipcop_real.csv')\n",
        "df_fake['labelML']=0\n",
        "df_real['labelML']=1\n",
        "\n",
        "df_fake.count()\n"
      ],
      "metadata": {
        "id": "bwskIeYazYL6",
        "colab": {
          "base_uri": "https://localhost:8080/"
        },
        "outputId": "1b067a1a-cd66-4255-e21e-df03c85162fc"
      },
      "execution_count": 71,
      "outputs": [
        {
          "output_type": "execute_result",
          "data": {
            "text/plain": [
              "id           5323\n",
              "news_url     5067\n",
              "title        5323\n",
              "tweet_ids    5135\n",
              "labelML      5323\n",
              "dtype: int64"
            ]
          },
          "metadata": {},
          "execution_count": 71
        }
      ]
    },
    {
      "cell_type": "code",
      "source": [
        "dforiginal = df_fake.head(5).append(df_real.head(5))"
      ],
      "metadata": {
        "id": "wfCAm3KZ4mxR"
      },
      "execution_count": 72,
      "outputs": []
    },
    {
      "cell_type": "code",
      "source": [
        "df= df_fake.head(5).append(df_real.head(5))\n",
        "df.reset_index(drop=True, inplace=True)"
      ],
      "metadata": {
        "id": "mbqeWkN1JDGJ"
      },
      "execution_count": 73,
      "outputs": []
    },
    {
      "cell_type": "code",
      "source": [
        "print(df.columns)\n",
        "df.count()"
      ],
      "metadata": {
        "colab": {
          "base_uri": "https://localhost:8080/"
        },
        "id": "bjYdaIs51j87",
        "outputId": "17a600c9-46ec-4595-9be1-e6888dbf5ddd"
      },
      "execution_count": 74,
      "outputs": [
        {
          "output_type": "stream",
          "name": "stdout",
          "text": [
            "Index(['id', 'news_url', 'title', 'tweet_ids', 'labelML'], dtype='object')\n"
          ]
        },
        {
          "output_type": "execute_result",
          "data": {
            "text/plain": [
              "id           10\n",
              "news_url     10\n",
              "title        10\n",
              "tweet_ids    10\n",
              "labelML      10\n",
              "dtype: int64"
            ]
          },
          "metadata": {},
          "execution_count": 74
        }
      ]
    },
    {
      "cell_type": "code",
      "source": [
        "print(df)"
      ],
      "metadata": {
        "id": "o2VUVYCL1q1i",
        "colab": {
          "base_uri": "https://localhost:8080/"
        },
        "outputId": "03f2f6b3-85b8-44c9-95c7-bcf3e6bb63fc"
      },
      "execution_count": 75,
      "outputs": [
        {
          "output_type": "stream",
          "name": "stdout",
          "text": [
            "                     id  ... labelML\n",
            "0  gossipcop-2493749932  ...       0\n",
            "1  gossipcop-4580247171  ...       0\n",
            "2   gossipcop-941805037  ...       0\n",
            "3  gossipcop-2547891536  ...       0\n",
            "4  gossipcop-5476631226  ...       0\n",
            "5      gossipcop-882573  ...       1\n",
            "6      gossipcop-875924  ...       1\n",
            "7      gossipcop-894416  ...       1\n",
            "8      gossipcop-857248  ...       1\n",
            "9      gossipcop-884684  ...       1\n",
            "\n",
            "[10 rows x 5 columns]\n"
          ]
        }
      ]
    },
    {
      "cell_type": "code",
      "source": [
        "df1= df.drop(['tweet_ids', 'news_url','id'], axis=1)\n",
        "df1.count()"
      ],
      "metadata": {
        "id": "jwscw5FG1t8P",
        "colab": {
          "base_uri": "https://localhost:8080/"
        },
        "outputId": "afac04f8-2539-4c80-eff1-e4d8034de9fb"
      },
      "execution_count": 76,
      "outputs": [
        {
          "output_type": "execute_result",
          "data": {
            "text/plain": [
              "title      10\n",
              "labelML    10\n",
              "dtype: int64"
            ]
          },
          "metadata": {},
          "execution_count": 76
        }
      ]
    },
    {
      "cell_type": "code",
      "source": [
        "# NLP Preprocessing\n",
        "from gensim.utils import simple_preprocess\n",
        "\n",
        "# NLP Preprocess - gensim.utils.simple_preprocess(doc, deacc=False, min_len=2, max_len=15)[source]\n",
        "# Convert a document into a list of tokens.\n",
        "# This lowercases, tokenizes, de-accents (optional). – the output are final tokens = unicode strings, that won’t be processed any further.\n",
        "\n",
        "df1.iloc[:, 0] = df1.iloc[:, 0].apply(lambda x: ' '.join(simple_preprocess(x)))"
      ],
      "metadata": {
        "id": "hdd1tdzS2HmB"
      },
      "execution_count": 77,
      "outputs": []
    },
    {
      "cell_type": "code",
      "source": [
        "#print(df1)\n",
        "df1.count()"
      ],
      "metadata": {
        "id": "h6wPx2906bxr",
        "colab": {
          "base_uri": "https://localhost:8080/"
        },
        "outputId": "eb818d54-d2d2-433c-8795-cbacd4c65c28"
      },
      "execution_count": 78,
      "outputs": [
        {
          "output_type": "execute_result",
          "data": {
            "text/plain": [
              "title      10\n",
              "labelML    10\n",
              "dtype: int64"
            ]
          },
          "metadata": {},
          "execution_count": 78
        }
      ]
    },
    {
      "cell_type": "code",
      "source": [
        "# Prefixing each row of the category column with '__label__' 0;10 all rows. same for column. \n",
        "df1.iloc[:4, 0] = df1.iloc[:, 0].apply(lambda x: '__label__0 ' + x)\n",
        "df1.iloc[5:, 0] = df1.iloc[1:, 0].apply(lambda x: '__label__1 ' + x)\n",
        "\n",
        "# NOTE BIG NOTE In general it is important to properly preprocess your data. In particular our example scripts in the root folder do this. i can see why the last cell is wierd, fix in post.\n"
      ],
      "metadata": {
        "id": "A6LGL-V67EHw"
      },
      "execution_count": 79,
      "outputs": []
    },
    {
      "cell_type": "code",
      "source": [
        "print(df1)"
      ],
      "metadata": {
        "colab": {
          "base_uri": "https://localhost:8080/"
        },
        "id": "d370GpN5NJc7",
        "outputId": "839cbe3b-5884-44e6-c0c6-17b52c4bd095"
      },
      "execution_count": 80,
      "outputs": [
        {
          "output_type": "stream",
          "name": "stdout",
          "text": [
            "                                               title  labelML\n",
            "0  __label__0 did miley cyrus and liam hemsworth ...        0\n",
            "1  __label__0 paris jackson cara delevingne enjoy...        0\n",
            "2  __label__0 celebrities join tax march in prote...        0\n",
            "3  __label__0 cindy crawford daughter kaia gerber...        0\n",
            "4             full list of oscar nominations variety        0\n",
            "5  __label__1 teen mom star jenelle evans wedding...        1\n",
            "6  __label__1 kylie jenner refusing to discuss ty...        1\n",
            "7                           __label__1 quinn perkins        1\n",
            "8  __label__1 tried kim kardashian butt workout a...        1\n",
            "9  __label__1 celine dion donates concert proceed...        1\n"
          ]
        }
      ]
    },
    {
      "cell_type": "code",
      "source": [
        "df1.count()"
      ],
      "metadata": {
        "colab": {
          "base_uri": "https://localhost:8080/"
        },
        "id": "6cQ2Qo3dE028",
        "outputId": "1cedea80-34d7-44f2-f48f-b303dcb664a2"
      },
      "execution_count": 81,
      "outputs": [
        {
          "output_type": "execute_result",
          "data": {
            "text/plain": [
              "title      10\n",
              "labelML    10\n",
              "dtype: int64"
            ]
          },
          "metadata": {},
          "execution_count": 81
        }
      ]
    },
    {
      "cell_type": "code",
      "source": [
        "df2=df1\n",
        "# ------------- df2 = df2.reindex(columns=['labelML', 'title'])\n",
        "#print(df1)"
      ],
      "metadata": {
        "id": "k8Q5iYqKFV5l"
      },
      "execution_count": 44,
      "outputs": []
    },
    {
      "cell_type": "code",
      "source": [
        "traindf, testdf = train_test_split(df2, test_size=0.2)\n",
        "print(traindf)\n",
        "print(testdf)  \n",
        "\n",
        "traindf.count()"
      ],
      "metadata": {
        "id": "uPFqJirScaCL",
        "colab": {
          "base_uri": "https://localhost:8080/"
        },
        "outputId": "453c3d92-c84a-4757-9264-0be9626418e2"
      },
      "execution_count": 45,
      "outputs": [
        {
          "output_type": "stream",
          "name": "stdout",
          "text": [
            "                                               title  labelML\n",
            "9  __label__1 celine dion donates concert proceed...        1\n",
            "4             full list of oscar nominations variety        0\n",
            "7                           __label__1 quinn perkins        1\n",
            "1  __label__0 paris jackson cara delevingne enjoy...        0\n",
            "8  __label__1 tried kim kardashian butt workout a...        1\n",
            "3  __label__0 cindy crawford daughter kaia gerber...        0\n",
            "2  __label__0 celebrities join tax march in prote...        0\n",
            "0  __label__0 did miley cyrus and liam hemsworth ...        0\n",
            "                                               title  labelML\n",
            "6  __label__1 kylie jenner refusing to discuss ty...        1\n",
            "5  __label__1 teen mom star jenelle evans wedding...        1\n"
          ]
        },
        {
          "output_type": "execute_result",
          "data": {
            "text/plain": [
              "title      8\n",
              "labelML    8\n",
              "dtype: int64"
            ]
          },
          "metadata": {},
          "execution_count": 45
        }
      ]
    },
    {
      "cell_type": "code",
      "source": [
        "# Saving the CSV file as a text file to train/test the classifier\n",
        "import csv #needed\n",
        "traindf[['labelML', 'title']].to_csv('traindf.txt', \n",
        "                                          index = False, \n",
        "                                          sep = ' ',\n",
        "                                          header = None, \n",
        "                                          quoting = csv.QUOTE_NONE, \n",
        "                                          quotechar = \"\", \n",
        "                                          escapechar = \" \")\n",
        "\n",
        "testdf[['labelML', 'title']].to_csv('testdf.txt', \n",
        "                                     index = False, \n",
        "                                     sep = ' ',\n",
        "                                     header = None, \n",
        "                                     quoting = csv.QUOTE_NONE, \n",
        "                                     quotechar = \"\", \n",
        "                                     escapechar = \" \")"
      ],
      "metadata": {
        "id": "XS3912OVE1hT"
      },
      "execution_count": 82,
      "outputs": []
    },
    {
      "cell_type": "code",
      "source": [
        "!pip install fasttext\n",
        "import fasttext\n",
        "# Training the fastText classifier\n",
        "model = fasttext.train_supervised('traindf.txt', wordNgrams = 2, dim=300)\n",
        "\n",
        "# Evaluating performance on the entire test file\n",
        "model.test('testdf.txt')                      \n",
        "\n",
        "# Predicting on a single input\n",
        "testdf['labelML'] = testdf['labelML'].astype(str)\n",
        "model.predict(testdf.iloc[1, 0])\n",
        "#model.test(testdf.txt)\n",
        "\n",
        "# Save the trained model\n",
        "#model.save_model('modelFTme.bin')"
      ],
      "metadata": {
        "colab": {
          "base_uri": "https://localhost:8080/"
        },
        "id": "OmeXA3LwwCJZ",
        "outputId": "b5f295a8-fd4e-40a3-9ab6-1a141bf39c6e"
      },
      "execution_count": 83,
      "outputs": [
        {
          "output_type": "stream",
          "name": "stdout",
          "text": [
            "Requirement already satisfied: fasttext in /usr/local/lib/python3.7/dist-packages (0.9.2)\n",
            "Requirement already satisfied: pybind11>=2.2 in /usr/local/lib/python3.7/dist-packages (from fasttext) (2.9.0)\n",
            "Requirement already satisfied: numpy in /usr/local/lib/python3.7/dist-packages (from fasttext) (1.19.5)\n",
            "Requirement already satisfied: setuptools>=0.7.0 in /usr/local/lib/python3.7/dist-packages (from fasttext) (57.4.0)\n"
          ]
        },
        {
          "output_type": "execute_result",
          "data": {
            "text/plain": [
              "(('__label__1',), array([0.50001079]))"
            ]
          },
          "metadata": {},
          "execution_count": 83
        }
      ]
    },
    {
      "cell_type": "code",
      "source": [
        "testdf.head()\n",
        "#print(testdf.columns)"
      ],
      "metadata": {
        "colab": {
          "base_uri": "https://localhost:8080/",
          "height": 112
        },
        "id": "q2JYv7k5xkh9",
        "outputId": "5611f427-bf15-43ca-9a22-2d3e2e6f4e21"
      },
      "execution_count": 84,
      "outputs": [
        {
          "output_type": "execute_result",
          "data": {
            "text/html": [
              "\n",
              "  <div id=\"df-dc801c0f-2616-4e3f-95c4-e2c8c0dc4330\">\n",
              "    <div class=\"colab-df-container\">\n",
              "      <div>\n",
              "<style scoped>\n",
              "    .dataframe tbody tr th:only-of-type {\n",
              "        vertical-align: middle;\n",
              "    }\n",
              "\n",
              "    .dataframe tbody tr th {\n",
              "        vertical-align: top;\n",
              "    }\n",
              "\n",
              "    .dataframe thead th {\n",
              "        text-align: right;\n",
              "    }\n",
              "</style>\n",
              "<table border=\"1\" class=\"dataframe\">\n",
              "  <thead>\n",
              "    <tr style=\"text-align: right;\">\n",
              "      <th></th>\n",
              "      <th>title</th>\n",
              "      <th>labelML</th>\n",
              "    </tr>\n",
              "  </thead>\n",
              "  <tbody>\n",
              "    <tr>\n",
              "      <th>6</th>\n",
              "      <td>__label__1 kylie jenner refusing to discuss ty...</td>\n",
              "      <td>1</td>\n",
              "    </tr>\n",
              "    <tr>\n",
              "      <th>5</th>\n",
              "      <td>__label__1 teen mom star jenelle evans wedding...</td>\n",
              "      <td>1</td>\n",
              "    </tr>\n",
              "  </tbody>\n",
              "</table>\n",
              "</div>\n",
              "      <button class=\"colab-df-convert\" onclick=\"convertToInteractive('df-dc801c0f-2616-4e3f-95c4-e2c8c0dc4330')\"\n",
              "              title=\"Convert this dataframe to an interactive table.\"\n",
              "              style=\"display:none;\">\n",
              "        \n",
              "  <svg xmlns=\"http://www.w3.org/2000/svg\" height=\"24px\"viewBox=\"0 0 24 24\"\n",
              "       width=\"24px\">\n",
              "    <path d=\"M0 0h24v24H0V0z\" fill=\"none\"/>\n",
              "    <path d=\"M18.56 5.44l.94 2.06.94-2.06 2.06-.94-2.06-.94-.94-2.06-.94 2.06-2.06.94zm-11 1L8.5 8.5l.94-2.06 2.06-.94-2.06-.94L8.5 2.5l-.94 2.06-2.06.94zm10 10l.94 2.06.94-2.06 2.06-.94-2.06-.94-.94-2.06-.94 2.06-2.06.94z\"/><path d=\"M17.41 7.96l-1.37-1.37c-.4-.4-.92-.59-1.43-.59-.52 0-1.04.2-1.43.59L10.3 9.45l-7.72 7.72c-.78.78-.78 2.05 0 2.83L4 21.41c.39.39.9.59 1.41.59.51 0 1.02-.2 1.41-.59l7.78-7.78 2.81-2.81c.8-.78.8-2.07 0-2.86zM5.41 20L4 18.59l7.72-7.72 1.47 1.35L5.41 20z\"/>\n",
              "  </svg>\n",
              "      </button>\n",
              "      \n",
              "  <style>\n",
              "    .colab-df-container {\n",
              "      display:flex;\n",
              "      flex-wrap:wrap;\n",
              "      gap: 12px;\n",
              "    }\n",
              "\n",
              "    .colab-df-convert {\n",
              "      background-color: #E8F0FE;\n",
              "      border: none;\n",
              "      border-radius: 50%;\n",
              "      cursor: pointer;\n",
              "      display: none;\n",
              "      fill: #1967D2;\n",
              "      height: 32px;\n",
              "      padding: 0 0 0 0;\n",
              "      width: 32px;\n",
              "    }\n",
              "\n",
              "    .colab-df-convert:hover {\n",
              "      background-color: #E2EBFA;\n",
              "      box-shadow: 0px 1px 2px rgba(60, 64, 67, 0.3), 0px 1px 3px 1px rgba(60, 64, 67, 0.15);\n",
              "      fill: #174EA6;\n",
              "    }\n",
              "\n",
              "    [theme=dark] .colab-df-convert {\n",
              "      background-color: #3B4455;\n",
              "      fill: #D2E3FC;\n",
              "    }\n",
              "\n",
              "    [theme=dark] .colab-df-convert:hover {\n",
              "      background-color: #434B5C;\n",
              "      box-shadow: 0px 1px 3px 1px rgba(0, 0, 0, 0.15);\n",
              "      filter: drop-shadow(0px 1px 2px rgba(0, 0, 0, 0.3));\n",
              "      fill: #FFFFFF;\n",
              "    }\n",
              "  </style>\n",
              "\n",
              "      <script>\n",
              "        const buttonEl =\n",
              "          document.querySelector('#df-dc801c0f-2616-4e3f-95c4-e2c8c0dc4330 button.colab-df-convert');\n",
              "        buttonEl.style.display =\n",
              "          google.colab.kernel.accessAllowed ? 'block' : 'none';\n",
              "\n",
              "        async function convertToInteractive(key) {\n",
              "          const element = document.querySelector('#df-dc801c0f-2616-4e3f-95c4-e2c8c0dc4330');\n",
              "          const dataTable =\n",
              "            await google.colab.kernel.invokeFunction('convertToInteractive',\n",
              "                                                     [key], {});\n",
              "          if (!dataTable) return;\n",
              "\n",
              "          const docLinkHtml = 'Like what you see? Visit the ' +\n",
              "            '<a target=\"_blank\" href=https://colab.research.google.com/notebooks/data_table.ipynb>data table notebook</a>'\n",
              "            + ' to learn more about interactive tables.';\n",
              "          element.innerHTML = '';\n",
              "          dataTable['output_type'] = 'display_data';\n",
              "          await google.colab.output.renderOutput(dataTable, element);\n",
              "          const docLink = document.createElement('div');\n",
              "          docLink.innerHTML = docLinkHtml;\n",
              "          element.appendChild(docLink);\n",
              "        }\n",
              "      </script>\n",
              "    </div>\n",
              "  </div>\n",
              "  "
            ],
            "text/plain": [
              "                                               title labelML\n",
              "6  __label__1 kylie jenner refusing to discuss ty...       1\n",
              "5  __label__1 teen mom star jenelle evans wedding...       1"
            ]
          },
          "metadata": {},
          "execution_count": 84
        }
      ]
    },
    {
      "cell_type": "markdown",
      "source": [
        "This model is running, so trying to change with vectors, or textual input for new vectors. Accuracy is only 50 percent coz I've given it such a balanced dataset."
      ],
      "metadata": {
        "id": "gH6DjpzfyzPb"
      }
    },
    {
      "cell_type": "code",
      "source": [
        "# Predicting on a single input\n",
        "#model.predict(test.iloc['Miley cyrus is new'])\n",
        "#model.test(testdf.txt)\n",
        "#use this later when we have the representations I guess. \n"
      ],
      "metadata": {
        "id": "XJE1lyAxy9wB"
      },
      "execution_count": 85,
      "outputs": []
    },
    {
      "cell_type": "code",
      "source": [
        "# Once the model is trained, we can retrieve the list of words and labels\n",
        "\n",
        "# model.words \n",
        "model.labels\n",
        "#It returns all words in the vocabulary, sorted by decreasing frequency. "
      ],
      "metadata": {
        "colab": {
          "base_uri": "https://localhost:8080/"
        },
        "id": "Cpwz0En5TQAM",
        "outputId": "1e813592-b63b-4603-fc02-c3563ba02229"
      },
      "execution_count": 86,
      "outputs": [
        {
          "output_type": "execute_result",
          "data": {
            "text/plain": [
              "['__label__0', '__label__1']"
            ]
          },
          "metadata": {},
          "execution_count": 86
        }
      ]
    },
    {
      "cell_type": "code",
      "source": [
        "# To evaluate our model by computing the precision at 1 (P@1) and the recall on a test set, we use the test function:\n",
        "\n",
        "def print_results(N, p, r):\n",
        "    print(\"N\\t\" + str(N))\n",
        "    print(\"P@{}\\t{:.3f}\".format(1, p))\n",
        "    print(\"R@{}\\t{:.3f}\".format(1, r))\n",
        "\n",
        "print_results(*model.test('testdf.txt'))"
      ],
      "metadata": {
        "colab": {
          "base_uri": "https://localhost:8080/"
        },
        "id": "lIrKDza2aujM",
        "outputId": "055194b8-1b19-4a9e-9f0b-5f68cdaca19d"
      },
      "execution_count": 87,
      "outputs": [
        {
          "output_type": "stream",
          "name": "stdout",
          "text": [
            "N\t2\n",
            "P@1\t1.000\n",
            "R@1\t1.000\n"
          ]
        }
      ]
    },
    {
      "cell_type": "code",
      "source": [
        "#We can also predict labels for a specific text. By default, predict returns only one label :\n",
        "# the one with the highest probability. You can also predict more than one label by specifying the parameter k:\n",
        "model.predict(\"katy perry and orlando bloom cozy up\", k=2)"
      ],
      "metadata": {
        "colab": {
          "base_uri": "https://localhost:8080/"
        },
        "id": "46d45je9bTf4",
        "outputId": "3f84f061-9a74-4a82-d603-092b05b32abc"
      },
      "execution_count": 88,
      "outputs": [
        {
          "output_type": "execute_result",
          "data": {
            "text/plain": [
              "(('__label__1', '__label__0'), array([0.50001037, 0.50000966]))"
            ]
          },
          "metadata": {},
          "execution_count": 88
        }
      ]
    },
    {
      "cell_type": "code",
      "source": [
        "#traindf['title'] = \n",
        "model.get_word_vector(\"the\")"
      ],
      "metadata": {
        "colab": {
          "base_uri": "https://localhost:8080/"
        },
        "id": "NIayPxG_XW3N",
        "outputId": "02840a8b-dd57-4c4b-80ff-f3cd2fb6d6ab"
      },
      "execution_count": 89,
      "outputs": [
        {
          "output_type": "execute_result",
          "data": {
            "text/plain": [
              "array([0., 0., 0., 0., 0., 0., 0., 0., 0., 0., 0., 0., 0., 0., 0., 0., 0.,\n",
              "       0., 0., 0., 0., 0., 0., 0., 0., 0., 0., 0., 0., 0., 0., 0., 0., 0.,\n",
              "       0., 0., 0., 0., 0., 0., 0., 0., 0., 0., 0., 0., 0., 0., 0., 0., 0.,\n",
              "       0., 0., 0., 0., 0., 0., 0., 0., 0., 0., 0., 0., 0., 0., 0., 0., 0.,\n",
              "       0., 0., 0., 0., 0., 0., 0., 0., 0., 0., 0., 0., 0., 0., 0., 0., 0.,\n",
              "       0., 0., 0., 0., 0., 0., 0., 0., 0., 0., 0., 0., 0., 0., 0., 0., 0.,\n",
              "       0., 0., 0., 0., 0., 0., 0., 0., 0., 0., 0., 0., 0., 0., 0., 0., 0.,\n",
              "       0., 0., 0., 0., 0., 0., 0., 0., 0., 0., 0., 0., 0., 0., 0., 0., 0.,\n",
              "       0., 0., 0., 0., 0., 0., 0., 0., 0., 0., 0., 0., 0., 0., 0., 0., 0.,\n",
              "       0., 0., 0., 0., 0., 0., 0., 0., 0., 0., 0., 0., 0., 0., 0., 0., 0.,\n",
              "       0., 0., 0., 0., 0., 0., 0., 0., 0., 0., 0., 0., 0., 0., 0., 0., 0.,\n",
              "       0., 0., 0., 0., 0., 0., 0., 0., 0., 0., 0., 0., 0., 0., 0., 0., 0.,\n",
              "       0., 0., 0., 0., 0., 0., 0., 0., 0., 0., 0., 0., 0., 0., 0., 0., 0.,\n",
              "       0., 0., 0., 0., 0., 0., 0., 0., 0., 0., 0., 0., 0., 0., 0., 0., 0.,\n",
              "       0., 0., 0., 0., 0., 0., 0., 0., 0., 0., 0., 0., 0., 0., 0., 0., 0.,\n",
              "       0., 0., 0., 0., 0., 0., 0., 0., 0., 0., 0., 0., 0., 0., 0., 0., 0.,\n",
              "       0., 0., 0., 0., 0., 0., 0., 0., 0., 0., 0., 0., 0., 0., 0., 0., 0.,\n",
              "       0., 0., 0., 0., 0., 0., 0., 0., 0., 0., 0.], dtype=float32)"
            ]
          },
          "metadata": {},
          "execution_count": 89
        }
      ]
    },
    {
      "cell_type": "code",
      "source": [
        "model.get_sentence_vector(\"simon cowell rushed to hospital\")"
      ],
      "metadata": {
        "colab": {
          "base_uri": "https://localhost:8080/"
        },
        "id": "ieRTxztPYT7L",
        "outputId": "bcf8d6d9-e94a-4838-ebd5-ac186badc606"
      },
      "execution_count": 90,
      "outputs": [
        {
          "output_type": "execute_result",
          "data": {
            "text/plain": [
              "array([-6.95087074e-04, -6.53951138e-05,  1.36586474e-04, -3.16465739e-04,\n",
              "        5.08174533e-04,  3.58914607e-04, -1.15762938e-04,  3.72914568e-04,\n",
              "        2.42630515e-04,  3.02364584e-04,  1.38007599e-04, -5.31478363e-05,\n",
              "        8.74496647e-04, -8.18732733e-05, -5.73847728e-06,  3.79808538e-04,\n",
              "        1.31127686e-04,  4.12637193e-04,  2.60535540e-04, -8.57295119e-04,\n",
              "       -3.03287288e-06,  6.00468949e-04,  6.74782263e-04, -4.10863606e-04,\n",
              "        5.74132609e-05, -2.02935465e-04, -3.21459578e-04, -1.98773523e-05,\n",
              "       -4.10947425e-04,  4.83242693e-05, -4.41215379e-04, -2.47165910e-04,\n",
              "       -7.24782585e-04, -2.55656400e-04, -6.73103321e-04, -1.56693844e-04,\n",
              "        1.60323456e-04, -2.47491320e-04, -9.68757740e-05, -6.35423057e-04,\n",
              "        2.14422180e-04,  4.54639812e-04,  5.31330646e-04,  3.54101707e-04,\n",
              "       -6.87181364e-06, -1.04621417e-04, -5.48096257e-04, -1.71012871e-04,\n",
              "       -1.98763737e-04,  2.98773775e-05, -3.40820203e-04,  4.27266379e-04,\n",
              "       -4.11979941e-04,  4.88849582e-06,  4.12529538e-04,  1.63592413e-04,\n",
              "        1.85735567e-04,  5.62403700e-04, -5.02273942e-05,  6.01015461e-04,\n",
              "       -1.84066565e-04,  1.20385084e-06,  5.96428639e-04,  6.97697862e-04,\n",
              "        2.50842189e-04,  3.84755112e-04, -7.75554101e-04,  6.99153054e-04,\n",
              "        4.99818474e-04,  3.48447713e-07, -7.41500291e-04, -4.25854872e-04,\n",
              "       -4.54781868e-04,  1.69880164e-04,  6.17931728e-05, -4.74949600e-04,\n",
              "        8.48353666e-04,  7.49065366e-04,  2.61455454e-04, -4.10421577e-04,\n",
              "       -8.38225009e-04,  3.50984948e-04,  6.85029489e-04, -1.96290508e-04,\n",
              "       -5.03614778e-04, -1.95148299e-04, -2.70004792e-04, -4.49908926e-04,\n",
              "       -4.91592975e-04,  1.71489184e-04,  1.90733714e-04,  2.71236408e-04,\n",
              "        5.73209662e-04, -3.87722132e-04,  3.15616955e-04, -7.01763958e-04,\n",
              "        6.03898603e-04,  5.01996430e-04, -1.46237508e-04,  1.20035220e-04,\n",
              "       -4.13653361e-05,  2.55301886e-04,  3.80686542e-04, -6.13267417e-04,\n",
              "        6.17838814e-04,  5.32878912e-04, -3.31590243e-04,  5.32492595e-05,\n",
              "       -2.03319301e-04, -3.14364443e-04,  1.97929388e-04, -6.20695762e-04,\n",
              "       -5.98793886e-05, -1.66441241e-04, -5.18853194e-04, -6.34468975e-04,\n",
              "        8.99365696e-05, -1.01895239e-04,  8.26769028e-05, -5.30448488e-05,\n",
              "       -2.82260415e-04,  3.60185863e-04,  1.34539499e-04,  8.57297782e-05,\n",
              "       -2.14487751e-04, -4.39364085e-04, -7.06563878e-05,  3.77877906e-04,\n",
              "       -6.17796250e-05, -2.64164264e-04,  1.30488144e-04,  1.89765691e-04,\n",
              "       -1.68327504e-04, -5.53833437e-04, -2.16126980e-04, -2.71016499e-04,\n",
              "       -4.79269256e-05,  4.63583798e-04, -3.18360951e-04,  1.05335406e-04,\n",
              "       -6.19451632e-04,  2.34709485e-04,  1.05183179e-04,  4.14503011e-04,\n",
              "        2.94953556e-04, -4.69607294e-05,  2.83996225e-04,  2.86128838e-04,\n",
              "       -2.58967833e-04,  1.74056782e-04, -2.62768997e-04,  3.72757408e-04,\n",
              "        2.35552270e-05, -1.48770545e-04, -3.75571472e-05,  5.93541190e-04,\n",
              "       -8.27528187e-04, -2.29733065e-04,  6.80892437e-04, -5.62169065e-04,\n",
              "       -4.29126521e-04,  4.00720310e-04,  6.54570234e-04, -3.02569752e-05,\n",
              "        5.42289286e-04, -2.25694515e-04,  1.27215317e-04, -5.30881924e-04,\n",
              "       -6.29519753e-04, -2.86933500e-04,  2.99600040e-04,  4.55496251e-04,\n",
              "        5.74619276e-04, -2.96317914e-04,  2.26501419e-04,  1.34044647e-04,\n",
              "       -2.36138862e-04,  2.01089861e-04,  1.53761299e-04,  2.09917605e-04,\n",
              "        4.04304388e-04, -1.49439264e-04, -1.61167351e-04, -1.57101022e-04,\n",
              "       -1.23195525e-04,  3.22586857e-04,  2.75691564e-04, -5.99444844e-04,\n",
              "        7.53104905e-05, -7.43682031e-05, -1.64229234e-04, -1.22244790e-04,\n",
              "        3.57599492e-04, -2.79626227e-04,  9.20279774e-07,  6.41865881e-06,\n",
              "        7.22927871e-05, -3.20389139e-04, -1.90700535e-04, -3.16964986e-04,\n",
              "        5.92722965e-04, -3.00021813e-04,  8.30335484e-05, -7.45324178e-06,\n",
              "       -1.91346771e-04, -2.58673739e-04, -1.32402507e-04, -9.95051669e-05,\n",
              "        9.26854147e-04,  6.85315346e-04, -1.45635800e-04, -7.08850348e-05,\n",
              "       -5.26946213e-04, -1.62967757e-04, -3.72801471e-04,  3.11472686e-05,\n",
              "        3.07478076e-05,  7.63771095e-05, -2.87757808e-04,  4.54425754e-04,\n",
              "        8.55915932e-05, -2.95910519e-04, -6.71263027e-04, -1.55587259e-04,\n",
              "       -4.30356340e-05, -1.48434527e-04,  1.81409356e-04, -1.25999999e-04,\n",
              "       -6.55720709e-04, -2.66921706e-04, -2.63878283e-05,  5.11090911e-04,\n",
              "        1.00762139e-04, -2.18860310e-04, -7.08544685e-04, -1.11741254e-04,\n",
              "       -5.80218330e-04,  3.23546992e-04,  3.08870804e-04,  5.85952250e-04,\n",
              "       -4.65479068e-04,  1.38457835e-04, -1.39575393e-04,  4.40174335e-04,\n",
              "        3.90435918e-04,  3.97998883e-05,  4.27013074e-05,  4.71502892e-04,\n",
              "        1.65742225e-04, -8.59535576e-05, -2.18065397e-04,  1.56237205e-04,\n",
              "        5.56342944e-04, -4.40758478e-04, -5.85122209e-04,  4.16088587e-04,\n",
              "        2.58961605e-04, -1.84190474e-04, -4.15634218e-04, -3.38667480e-04,\n",
              "        8.48425087e-04,  4.99196904e-05,  6.97489537e-04,  5.46790368e-04,\n",
              "        1.56555063e-04,  3.84280545e-04,  7.22902587e-06,  3.30255629e-04,\n",
              "        4.52646113e-04, -8.83964007e-04, -8.68541829e-05,  4.25176724e-04,\n",
              "        3.80687445e-04, -3.11630312e-04, -1.91980333e-04,  2.31769329e-04,\n",
              "        8.70227872e-04, -3.48138768e-04,  4.21519857e-04, -2.37086279e-04,\n",
              "        2.17672496e-04, -3.60673963e-04, -3.50851275e-04, -2.02822557e-04,\n",
              "        2.48379074e-04, -6.79824385e-04,  3.34378652e-04,  7.63721124e-04,\n",
              "        4.16303781e-04,  6.03995322e-05, -6.14043325e-04, -3.73620016e-04,\n",
              "        3.85887310e-04,  2.40230816e-04, -1.55790302e-04, -1.01366873e-04,\n",
              "       -9.20385064e-05,  7.21126620e-04,  2.54927290e-04,  7.70580547e-04],\n",
              "      dtype=float32)"
            ]
          },
          "metadata": {},
          "execution_count": 90
        }
      ]
    },
    {
      "cell_type": "code",
      "source": [
        "model.get_nearest_neighbors('green') #https://fasttext.cc/docs/en/unsupervised-tutorial.html"
      ],
      "metadata": {
        "colab": {
          "base_uri": "https://localhost:8080/"
        },
        "id": "4Pn7dhscaAng",
        "outputId": "3fe144d0-213f-4c77-aef5-6b7bef43f592"
      },
      "execution_count": 91,
      "outputs": [
        {
          "output_type": "execute_result",
          "data": {
            "text/plain": [
              "[(0.0, 'of'),\n",
              " (0.0, '0'),\n",
              " (0.0, 'in'),\n",
              " (0.0, 'dining'),\n",
              " (0.0, 'with'),\n",
              " (0.0, 'after'),\n",
              " (0.0, 'wig'),\n",
              " (0.0, 'kardashian'),\n",
              " (0.0, 'chemistry'),\n",
              " (0.0, 'amazing')]"
            ]
          },
          "metadata": {},
          "execution_count": 91
        }
      ]
    },
    {
      "cell_type": "markdown",
      "source": [
        "Will be attempting vectors here."
      ],
      "metadata": {
        "id": "KiNRzdelTQqa"
      }
    },
    {
      "cell_type": "code",
      "source": [
        "!pip install sister\n",
        "import sister\n"
      ],
      "metadata": {
        "colab": {
          "base_uri": "https://localhost:8080/"
        },
        "id": "2uEAw5jc9qsV",
        "outputId": "3a1a412d-221b-4c0e-8c18-01a9c3886f67"
      },
      "execution_count": 92,
      "outputs": [
        {
          "output_type": "stream",
          "name": "stdout",
          "text": [
            "Requirement already satisfied: sister in /usr/local/lib/python3.7/dist-packages (0.1.10)\n",
            "Requirement already satisfied: gensim in /usr/local/lib/python3.7/dist-packages (from sister) (3.6.0)\n",
            "Requirement already satisfied: numpy in /usr/local/lib/python3.7/dist-packages (from sister) (1.19.5)\n",
            "Requirement already satisfied: fasttext in /usr/local/lib/python3.7/dist-packages (from sister) (0.9.2)\n",
            "Requirement already satisfied: joblib in /usr/local/lib/python3.7/dist-packages (from sister) (1.1.0)\n",
            "Requirement already satisfied: Janome in /usr/local/lib/python3.7/dist-packages (from sister) (0.4.1)\n",
            "Requirement already satisfied: setuptools>=0.7.0 in /usr/local/lib/python3.7/dist-packages (from fasttext->sister) (57.4.0)\n",
            "Requirement already satisfied: pybind11>=2.2 in /usr/local/lib/python3.7/dist-packages (from fasttext->sister) (2.9.0)\n",
            "Requirement already satisfied: scipy>=0.18.1 in /usr/local/lib/python3.7/dist-packages (from gensim->sister) (1.4.1)\n",
            "Requirement already satisfied: smart-open>=1.2.1 in /usr/local/lib/python3.7/dist-packages (from gensim->sister) (5.2.1)\n",
            "Requirement already satisfied: six>=1.5.0 in /usr/local/lib/python3.7/dist-packages (from gensim->sister) (1.15.0)\n"
          ]
        }
      ]
    },
    {
      "cell_type": "code",
      "source": [
        "embedder = sister.MeanEmbedding(lang=\"en\")\n",
        "\n",
        "sentence = \"I am a dog.\"\n",
        "vector = embedder(sentence)  # 300-dim vector\n"
      ],
      "metadata": {
        "colab": {
          "base_uri": "https://localhost:8080/"
        },
        "id": "wqyHOjsLzdCK",
        "outputId": "ee550bb4-820d-4ada-f7dd-23dcc911e1bf"
      },
      "execution_count": null,
      "outputs": [
        {
          "output_type": "stream",
          "name": "stdout",
          "text": [
            "Loading model...\n"
          ]
        },
        {
          "output_type": "stream",
          "name": "stderr",
          "text": [
            "Warning : `load_model` does not return WordVectorModel or SupervisedModel any more, but a `FastText` object which is very similar.\n"
          ]
        }
      ]
    },
    {
      "cell_type": "code",
      "source": [
        "print(vector)"
      ],
      "metadata": {
        "colab": {
          "base_uri": "https://localhost:8080/"
        },
        "id": "iIAmMKeM0rxn",
        "outputId": "31c1ae9b-7c44-4869-cba9-9e34289a314c"
      },
      "execution_count": null,
      "outputs": [
        {
          "output_type": "stream",
          "name": "stdout",
          "text": [
            "[ 1.45553529e-01  2.93777343e-02  7.25906417e-02 -3.32199186e-01\n",
            "  1.16119541e-01  3.68818134e-01 -1.01360753e-01  6.13834858e-02\n",
            "  9.52781364e-02  7.21023753e-02  2.20229030e-02 -1.12615541e-01\n",
            "  5.77215105e-04  1.48535818e-01 -5.01247048e-02 -2.63762064e-02\n",
            " -1.00038767e-01  2.95178946e-02 -4.22474258e-02  6.19036630e-02\n",
            "  8.73639509e-02  6.23530126e-04 -1.02920629e-01 -5.05673476e-02\n",
            " -2.43382186e-01 -5.01833446e-02  3.40687782e-02 -1.88491017e-01\n",
            "  2.04292275e-02  1.45984618e-02  5.52195907e-02  8.40069652e-02\n",
            " -2.68052034e-02  1.21745087e-01 -1.02101944e-01  1.85941588e-02\n",
            " -7.98325688e-02 -2.78020445e-02 -2.32372917e-02  8.07202831e-02\n",
            "  9.49704796e-02 -1.15997776e-01 -5.40836044e-02 -8.32328051e-02\n",
            "  2.55872514e-02  1.02682985e-01 -1.13008637e-02 -7.92161524e-02\n",
            "  5.31888008e-03 -5.63134067e-02  1.35553302e-02  2.82942466e-02\n",
            " -1.43566862e-01 -5.00163734e-02 -3.94095294e-02  7.77156502e-02\n",
            "  9.01533887e-02  8.26578513e-02  1.37465566e-01  1.76570296e-01\n",
            " -1.79537944e-02  2.28038639e-01 -6.07401319e-02 -7.05500469e-02\n",
            " -2.12720558e-01  5.20118698e-02 -1.15629360e-01 -1.26492783e-01\n",
            "  3.07000913e-02  1.93098243e-02  1.67311784e-02  6.37550792e-03\n",
            " -9.63248834e-02 -5.48976734e-02  1.83836874e-02 -1.66284993e-01\n",
            " -6.41416684e-02  2.83878539e-02  1.93064541e-01  2.80399863e-02\n",
            " -2.77964287e-02 -9.27423909e-02 -1.11511713e-02 -8.40345100e-02\n",
            " -2.99886055e-02  8.04750845e-02 -5.75744398e-02 -6.78744912e-02\n",
            " -4.05833423e-02 -1.42276198e-01 -9.57948714e-02  5.44480160e-02\n",
            "  1.06211277e-02 -1.08315848e-01  9.23000276e-02  8.17737430e-02\n",
            " -1.98102921e-01  1.94050476e-01  1.34500444e-01 -1.80599205e-02\n",
            " -4.78391461e-02 -3.80860046e-02 -1.23251472e-02  1.31780431e-01\n",
            " -1.54260337e-01  1.92727491e-01  8.51898789e-02 -8.53108317e-02\n",
            "  6.62606210e-02 -7.89892450e-02 -1.43160135e-01  1.49455950e-01\n",
            " -3.44200060e-02 -1.25092879e-01 -5.27557433e-02 -7.76426494e-03\n",
            " -1.63453929e-02  9.69999209e-02 -1.15842141e-01  7.99153671e-02\n",
            " -3.80743518e-02 -4.55522873e-02  3.91262174e-02 -1.66294705e-02\n",
            " -2.27142781e-01 -2.98638523e-01 -1.55383591e-02  5.43034673e-02\n",
            " -1.11477569e-01 -1.99442618e-02 -1.92663018e-02 -8.38244110e-02\n",
            " -8.71911794e-02 -5.27531020e-02  4.74176779e-02 -5.28885350e-02\n",
            " -6.76627755e-02 -1.07061602e-01 -1.03866145e-01 -2.09662896e-02\n",
            " -1.32990871e-02  7.55855888e-02  1.53063014e-01  1.96338296e-02\n",
            "  8.54672045e-02 -1.80356607e-01 -3.49539071e-02  1.15271606e-01\n",
            " -3.64214485e-03 -2.49556869e-01  1.65275365e-01 -8.79770294e-02\n",
            "  2.11127102e-03 -1.32009119e-01  9.03541073e-02  8.41734931e-02\n",
            " -2.05868632e-01  1.51276156e-01  2.07247928e-01  1.38449982e-01\n",
            " -8.32360797e-03 -1.30990520e-05  1.43462811e-02 -2.73039285e-02\n",
            "  2.13690288e-02 -1.24274813e-01  8.11799914e-02 -8.38454962e-02\n",
            "  3.97055149e-02 -7.59528205e-02  5.39662838e-02  1.64848380e-02\n",
            "  1.29425973e-01  9.91432741e-02 -6.31780773e-02 -1.38819963e-01\n",
            "  1.01312719e-01  5.66064119e-02 -4.37893579e-03 -1.16688512e-01\n",
            " -1.65942788e-01  4.56753979e-03  1.33364024e-02  1.91261575e-01\n",
            "  5.43521419e-02 -2.91904844e-02 -2.30405834e-02  2.67259665e-02\n",
            " -4.65015844e-02 -7.85060748e-02  3.09222676e-02  4.54221703e-02\n",
            "  1.53932616e-01  2.59197801e-02  5.05326986e-02 -5.90862148e-02\n",
            " -3.55218142e-01 -2.70880107e-02 -4.52477671e-02 -2.58199088e-02\n",
            "  1.85657710e-01  9.53781456e-02  1.25852466e-01 -1.31656781e-01\n",
            "  1.71350345e-01 -1.68822616e-01  4.95102294e-02 -6.85508698e-02\n",
            " -3.29093710e-02 -2.19106629e-01 -1.12797841e-01 -4.50800499e-03\n",
            " -6.76535591e-02  4.73161861e-02 -1.78326920e-01  5.10048941e-02\n",
            "  8.22065622e-02 -8.07719752e-02 -3.34253348e-02  1.39372319e-01\n",
            "  1.66859962e-02  1.18211269e-01 -4.68984358e-02  1.42187804e-01\n",
            " -5.64147830e-02 -8.85924771e-02 -4.78066280e-02 -4.34097368e-03\n",
            " -1.44283473e-01  1.99484937e-02  3.25328782e-02  2.27824688e-01\n",
            " -3.85709032e-02 -5.48869260e-02 -1.34756893e-01 -1.00159883e-01\n",
            " -5.41822203e-02 -1.37351707e-01 -7.33464509e-02  5.05712330e-02\n",
            "  1.72279865e-01  3.48188505e-02 -3.49962488e-02  1.78386778e-01\n",
            "  9.80559438e-02 -6.93026334e-02 -1.49644002e-01 -1.52305618e-01\n",
            "  1.03963926e-01  4.39855680e-02 -1.24187492e-01  2.52262980e-01\n",
            " -7.20567033e-02 -6.50204271e-02  1.29391968e-01 -9.59812179e-02\n",
            " -1.99138924e-01  9.75269899e-02 -6.95095211e-02  1.76281512e-01\n",
            "  4.09444235e-02  1.02537081e-01  7.63447732e-02  1.67745858e-01\n",
            "  2.32217647e-02  3.63696329e-02  5.04144654e-02 -1.51624873e-01\n",
            " -1.97898652e-02 -1.36228263e-01  1.27794389e-02  2.48482674e-02\n",
            "  1.69609450e-02  7.65656605e-02 -3.88548449e-02 -9.62698087e-02\n",
            " -4.33719164e-04 -1.45810038e-01  2.74132099e-02  5.92287481e-02\n",
            " -5.75245805e-02  3.39808175e-03 -6.46366030e-02 -8.29472691e-02\n",
            "  2.65729185e-02  1.66422009e-01  2.43644603e-02  2.63292581e-01\n",
            " -2.33975381e-01 -1.55139174e-02  2.05418430e-02 -3.12288404e-01\n",
            " -5.91345727e-02  2.08599269e-02  1.84188053e-01 -9.12561640e-03\n",
            " -9.70555395e-02 -2.60652632e-01 -1.94144294e-01 -1.58489496e-01]\n"
          ]
        }
      ]
    },
    {
      "cell_type": "code",
      "source": [
        "dfready = dforiginal.drop(['tweet_ids', 'news_url','id'], axis=1)\n",
        "\n",
        "from string import punctuation\n",
        "from nltk.corpus import stopwords\n",
        "\n",
        "dfready.head()\n"
      ],
      "metadata": {
        "id": "6bFi8_6PCCfD",
        "colab": {
          "base_uri": "https://localhost:8080/",
          "height": 206
        },
        "outputId": "5eface0d-1a84-403c-b63b-c73b6e0aac32"
      },
      "execution_count": 93,
      "outputs": [
        {
          "output_type": "execute_result",
          "data": {
            "text/html": [
              "\n",
              "  <div id=\"df-2953fcb6-bf97-4281-97b9-9bc12cb44378\">\n",
              "    <div class=\"colab-df-container\">\n",
              "      <div>\n",
              "<style scoped>\n",
              "    .dataframe tbody tr th:only-of-type {\n",
              "        vertical-align: middle;\n",
              "    }\n",
              "\n",
              "    .dataframe tbody tr th {\n",
              "        vertical-align: top;\n",
              "    }\n",
              "\n",
              "    .dataframe thead th {\n",
              "        text-align: right;\n",
              "    }\n",
              "</style>\n",
              "<table border=\"1\" class=\"dataframe\">\n",
              "  <thead>\n",
              "    <tr style=\"text-align: right;\">\n",
              "      <th></th>\n",
              "      <th>title</th>\n",
              "      <th>labelML</th>\n",
              "    </tr>\n",
              "  </thead>\n",
              "  <tbody>\n",
              "    <tr>\n",
              "      <th>0</th>\n",
              "      <td>Did Miley Cyrus and Liam Hemsworth secretly ge...</td>\n",
              "      <td>0</td>\n",
              "    </tr>\n",
              "    <tr>\n",
              "      <th>1</th>\n",
              "      <td>Paris Jackson &amp; Cara Delevingne Enjoy Night Ou...</td>\n",
              "      <td>0</td>\n",
              "    </tr>\n",
              "    <tr>\n",
              "      <th>2</th>\n",
              "      <td>Celebrities Join Tax March in Protest of Donal...</td>\n",
              "      <td>0</td>\n",
              "    </tr>\n",
              "    <tr>\n",
              "      <th>3</th>\n",
              "      <td>Cindy Crawford's daughter Kaia Gerber wears a ...</td>\n",
              "      <td>0</td>\n",
              "    </tr>\n",
              "    <tr>\n",
              "      <th>4</th>\n",
              "      <td>Full List of 2018 Oscar Nominations – Variety</td>\n",
              "      <td>0</td>\n",
              "    </tr>\n",
              "  </tbody>\n",
              "</table>\n",
              "</div>\n",
              "      <button class=\"colab-df-convert\" onclick=\"convertToInteractive('df-2953fcb6-bf97-4281-97b9-9bc12cb44378')\"\n",
              "              title=\"Convert this dataframe to an interactive table.\"\n",
              "              style=\"display:none;\">\n",
              "        \n",
              "  <svg xmlns=\"http://www.w3.org/2000/svg\" height=\"24px\"viewBox=\"0 0 24 24\"\n",
              "       width=\"24px\">\n",
              "    <path d=\"M0 0h24v24H0V0z\" fill=\"none\"/>\n",
              "    <path d=\"M18.56 5.44l.94 2.06.94-2.06 2.06-.94-2.06-.94-.94-2.06-.94 2.06-2.06.94zm-11 1L8.5 8.5l.94-2.06 2.06-.94-2.06-.94L8.5 2.5l-.94 2.06-2.06.94zm10 10l.94 2.06.94-2.06 2.06-.94-2.06-.94-.94-2.06-.94 2.06-2.06.94z\"/><path d=\"M17.41 7.96l-1.37-1.37c-.4-.4-.92-.59-1.43-.59-.52 0-1.04.2-1.43.59L10.3 9.45l-7.72 7.72c-.78.78-.78 2.05 0 2.83L4 21.41c.39.39.9.59 1.41.59.51 0 1.02-.2 1.41-.59l7.78-7.78 2.81-2.81c.8-.78.8-2.07 0-2.86zM5.41 20L4 18.59l7.72-7.72 1.47 1.35L5.41 20z\"/>\n",
              "  </svg>\n",
              "      </button>\n",
              "      \n",
              "  <style>\n",
              "    .colab-df-container {\n",
              "      display:flex;\n",
              "      flex-wrap:wrap;\n",
              "      gap: 12px;\n",
              "    }\n",
              "\n",
              "    .colab-df-convert {\n",
              "      background-color: #E8F0FE;\n",
              "      border: none;\n",
              "      border-radius: 50%;\n",
              "      cursor: pointer;\n",
              "      display: none;\n",
              "      fill: #1967D2;\n",
              "      height: 32px;\n",
              "      padding: 0 0 0 0;\n",
              "      width: 32px;\n",
              "    }\n",
              "\n",
              "    .colab-df-convert:hover {\n",
              "      background-color: #E2EBFA;\n",
              "      box-shadow: 0px 1px 2px rgba(60, 64, 67, 0.3), 0px 1px 3px 1px rgba(60, 64, 67, 0.15);\n",
              "      fill: #174EA6;\n",
              "    }\n",
              "\n",
              "    [theme=dark] .colab-df-convert {\n",
              "      background-color: #3B4455;\n",
              "      fill: #D2E3FC;\n",
              "    }\n",
              "\n",
              "    [theme=dark] .colab-df-convert:hover {\n",
              "      background-color: #434B5C;\n",
              "      box-shadow: 0px 1px 3px 1px rgba(0, 0, 0, 0.15);\n",
              "      filter: drop-shadow(0px 1px 2px rgba(0, 0, 0, 0.3));\n",
              "      fill: #FFFFFF;\n",
              "    }\n",
              "  </style>\n",
              "\n",
              "      <script>\n",
              "        const buttonEl =\n",
              "          document.querySelector('#df-2953fcb6-bf97-4281-97b9-9bc12cb44378 button.colab-df-convert');\n",
              "        buttonEl.style.display =\n",
              "          google.colab.kernel.accessAllowed ? 'block' : 'none';\n",
              "\n",
              "        async function convertToInteractive(key) {\n",
              "          const element = document.querySelector('#df-2953fcb6-bf97-4281-97b9-9bc12cb44378');\n",
              "          const dataTable =\n",
              "            await google.colab.kernel.invokeFunction('convertToInteractive',\n",
              "                                                     [key], {});\n",
              "          if (!dataTable) return;\n",
              "\n",
              "          const docLinkHtml = 'Like what you see? Visit the ' +\n",
              "            '<a target=\"_blank\" href=https://colab.research.google.com/notebooks/data_table.ipynb>data table notebook</a>'\n",
              "            + ' to learn more about interactive tables.';\n",
              "          element.innerHTML = '';\n",
              "          dataTable['output_type'] = 'display_data';\n",
              "          await google.colab.output.renderOutput(dataTable, element);\n",
              "          const docLink = document.createElement('div');\n",
              "          docLink.innerHTML = docLinkHtml;\n",
              "          element.appendChild(docLink);\n",
              "        }\n",
              "      </script>\n",
              "    </div>\n",
              "  </div>\n",
              "  "
            ],
            "text/plain": [
              "                                               title  labelML\n",
              "0  Did Miley Cyrus and Liam Hemsworth secretly ge...        0\n",
              "1  Paris Jackson & Cara Delevingne Enjoy Night Ou...        0\n",
              "2  Celebrities Join Tax March in Protest of Donal...        0\n",
              "3  Cindy Crawford's daughter Kaia Gerber wears a ...        0\n",
              "4      Full List of 2018 Oscar Nominations – Variety        0"
            ]
          },
          "metadata": {},
          "execution_count": 93
        }
      ]
    },
    {
      "cell_type": "code",
      "source": [
        "def preprocess(data):\n",
        "    \"\"\"\n",
        "    Preprocess data, filtering out stopwords, punctuation and lowering \n",
        "    all splitted tokens.\n",
        "    \n",
        "    :param data: the string data to be processed\n",
        "    \"\"\"    \n",
        "    # Pad punctuation with spaces on both sides\n",
        "    for char in ['.', '\"', ',', '(', ')', '!', '?', ';', ':']:\n",
        "        data = data.replace(char, ' ' + char + ' ')\n",
        "    sw = stopwords.words('english')\n",
        "    splitted_chunks = data.split()\n",
        "    lowered_chunks = (item.lower() for item in splitted_chunks)\n",
        "    chunks_without_punctuation = (chunk for chunk in lowered_chunks if chunk not in punctuation)\n",
        "    chunks_without_stopwords = (chunk for chunk in chunks_without_punctuation if chunk not in sw)\n",
        "    return \" \".join(list(chunks_without_stopwords))\n"
      ],
      "metadata": {
        "id": "M8Xnx7ZQESe1"
      },
      "execution_count": 94,
      "outputs": []
    },
    {
      "cell_type": "code",
      "source": [
        "import pandas as pd\n",
        "\n",
        "def create_vectors(title):\n",
        "  embedder = sister.MeanEmbedding(lang=\"en\")\n",
        "  sentence = title\n",
        "  vector = embedder(sentence)  # 300-dim vector\n",
        "  return vector\n",
        "\n",
        "# executing the function\n",
        "dfready['title'] = dfready['title'].apply(preprocess)\n",
        "\n",
        "# executing the function\n",
        "dfready['vectorcol'] = dfready['title'].apply(create_vectors)\n"
      ],
      "metadata": {
        "colab": {
          "base_uri": "https://localhost:8080/"
        },
        "id": "zE4tX7iuEQEG",
        "outputId": "70c2e19c-b930-4cd6-8423-0b2198f6755a"
      },
      "execution_count": 95,
      "outputs": [
        {
          "output_type": "stream",
          "name": "stdout",
          "text": [
            "Loading model...\n"
          ]
        },
        {
          "output_type": "stream",
          "name": "stderr",
          "text": [
            "Warning : `load_model` does not return WordVectorModel or SupervisedModel any more, but a `FastText` object which is very similar.\n"
          ]
        },
        {
          "output_type": "stream",
          "name": "stdout",
          "text": [
            "Loading model...\n",
            "Loading model...\n"
          ]
        },
        {
          "output_type": "stream",
          "name": "stderr",
          "text": [
            "Warning : `load_model` does not return WordVectorModel or SupervisedModel any more, but a `FastText` object which is very similar.\n",
            "Warning : `load_model` does not return WordVectorModel or SupervisedModel any more, but a `FastText` object which is very similar.\n"
          ]
        },
        {
          "output_type": "stream",
          "name": "stdout",
          "text": [
            "Loading model...\n",
            "Loading model...\n"
          ]
        },
        {
          "output_type": "stream",
          "name": "stderr",
          "text": [
            "Warning : `load_model` does not return WordVectorModel or SupervisedModel any more, but a `FastText` object which is very similar.\n",
            "Warning : `load_model` does not return WordVectorModel or SupervisedModel any more, but a `FastText` object which is very similar.\n"
          ]
        },
        {
          "output_type": "stream",
          "name": "stdout",
          "text": [
            "Loading model...\n",
            "Loading model...\n"
          ]
        },
        {
          "output_type": "stream",
          "name": "stderr",
          "text": [
            "Warning : `load_model` does not return WordVectorModel or SupervisedModel any more, but a `FastText` object which is very similar.\n",
            "Warning : `load_model` does not return WordVectorModel or SupervisedModel any more, but a `FastText` object which is very similar.\n"
          ]
        },
        {
          "output_type": "stream",
          "name": "stdout",
          "text": [
            "Loading model...\n"
          ]
        },
        {
          "output_type": "stream",
          "name": "stderr",
          "text": [
            "Warning : `load_model` does not return WordVectorModel or SupervisedModel any more, but a `FastText` object which is very similar.\n"
          ]
        },
        {
          "output_type": "stream",
          "name": "stdout",
          "text": [
            "Loading model...\n",
            "Loading model...\n"
          ]
        },
        {
          "output_type": "stream",
          "name": "stderr",
          "text": [
            "Warning : `load_model` does not return WordVectorModel or SupervisedModel any more, but a `FastText` object which is very similar.\n",
            "Warning : `load_model` does not return WordVectorModel or SupervisedModel any more, but a `FastText` object which is very similar.\n"
          ]
        }
      ]
    },
    {
      "cell_type": "code",
      "source": [
        ""
      ],
      "metadata": {
        "id": "6AiPpVjdVHil"
      },
      "execution_count": null,
      "outputs": []
    },
    {
      "cell_type": "code",
      "source": [
        "dfready.head()"
      ],
      "metadata": {
        "colab": {
          "base_uri": "https://localhost:8080/",
          "height": 206
        },
        "id": "AEQtvXaRNbqj",
        "outputId": "568b97bb-4118-4e53-fe80-36e56d2c6c6d"
      },
      "execution_count": 96,
      "outputs": [
        {
          "output_type": "execute_result",
          "data": {
            "text/html": [
              "\n",
              "  <div id=\"df-02d1dd6b-cfd6-45ce-ad89-4fd9d41efb42\">\n",
              "    <div class=\"colab-df-container\">\n",
              "      <div>\n",
              "<style scoped>\n",
              "    .dataframe tbody tr th:only-of-type {\n",
              "        vertical-align: middle;\n",
              "    }\n",
              "\n",
              "    .dataframe tbody tr th {\n",
              "        vertical-align: top;\n",
              "    }\n",
              "\n",
              "    .dataframe thead th {\n",
              "        text-align: right;\n",
              "    }\n",
              "</style>\n",
              "<table border=\"1\" class=\"dataframe\">\n",
              "  <thead>\n",
              "    <tr style=\"text-align: right;\">\n",
              "      <th></th>\n",
              "      <th>title</th>\n",
              "      <th>labelML</th>\n",
              "      <th>vectorcol</th>\n",
              "    </tr>\n",
              "  </thead>\n",
              "  <tbody>\n",
              "    <tr>\n",
              "      <th>0</th>\n",
              "      <td>miley cyrus liam hemsworth secretly get married</td>\n",
              "      <td>0</td>\n",
              "      <td>[-0.12480343, -0.06694698, -0.18565401, 0.1694...</td>\n",
              "    </tr>\n",
              "    <tr>\n",
              "      <th>1</th>\n",
              "      <td>paris jackson cara delevingne enjoy night matc...</td>\n",
              "      <td>0</td>\n",
              "      <td>[0.08161997, 0.019448318, -0.05987478, -0.1275...</td>\n",
              "    </tr>\n",
              "    <tr>\n",
              "      <th>2</th>\n",
              "      <td>celebrities join tax march protest donald trump</td>\n",
              "      <td>0</td>\n",
              "      <td>[-0.0071617686, 0.05993736, 0.22043763, -0.147...</td>\n",
              "    </tr>\n",
              "    <tr>\n",
              "      <th>3</th>\n",
              "      <td>cindy crawford's daughter kaia gerber wears wi...</td>\n",
              "      <td>0</td>\n",
              "      <td>[0.051251747, 0.003807944, -0.023948468, 0.009...</td>\n",
              "    </tr>\n",
              "    <tr>\n",
              "      <th>4</th>\n",
              "      <td>full list 2018 oscar nominations – variety</td>\n",
              "      <td>0</td>\n",
              "      <td>[-0.04029811, -0.0011204657, 0.2647286, -0.059...</td>\n",
              "    </tr>\n",
              "  </tbody>\n",
              "</table>\n",
              "</div>\n",
              "      <button class=\"colab-df-convert\" onclick=\"convertToInteractive('df-02d1dd6b-cfd6-45ce-ad89-4fd9d41efb42')\"\n",
              "              title=\"Convert this dataframe to an interactive table.\"\n",
              "              style=\"display:none;\">\n",
              "        \n",
              "  <svg xmlns=\"http://www.w3.org/2000/svg\" height=\"24px\"viewBox=\"0 0 24 24\"\n",
              "       width=\"24px\">\n",
              "    <path d=\"M0 0h24v24H0V0z\" fill=\"none\"/>\n",
              "    <path d=\"M18.56 5.44l.94 2.06.94-2.06 2.06-.94-2.06-.94-.94-2.06-.94 2.06-2.06.94zm-11 1L8.5 8.5l.94-2.06 2.06-.94-2.06-.94L8.5 2.5l-.94 2.06-2.06.94zm10 10l.94 2.06.94-2.06 2.06-.94-2.06-.94-.94-2.06-.94 2.06-2.06.94z\"/><path d=\"M17.41 7.96l-1.37-1.37c-.4-.4-.92-.59-1.43-.59-.52 0-1.04.2-1.43.59L10.3 9.45l-7.72 7.72c-.78.78-.78 2.05 0 2.83L4 21.41c.39.39.9.59 1.41.59.51 0 1.02-.2 1.41-.59l7.78-7.78 2.81-2.81c.8-.78.8-2.07 0-2.86zM5.41 20L4 18.59l7.72-7.72 1.47 1.35L5.41 20z\"/>\n",
              "  </svg>\n",
              "      </button>\n",
              "      \n",
              "  <style>\n",
              "    .colab-df-container {\n",
              "      display:flex;\n",
              "      flex-wrap:wrap;\n",
              "      gap: 12px;\n",
              "    }\n",
              "\n",
              "    .colab-df-convert {\n",
              "      background-color: #E8F0FE;\n",
              "      border: none;\n",
              "      border-radius: 50%;\n",
              "      cursor: pointer;\n",
              "      display: none;\n",
              "      fill: #1967D2;\n",
              "      height: 32px;\n",
              "      padding: 0 0 0 0;\n",
              "      width: 32px;\n",
              "    }\n",
              "\n",
              "    .colab-df-convert:hover {\n",
              "      background-color: #E2EBFA;\n",
              "      box-shadow: 0px 1px 2px rgba(60, 64, 67, 0.3), 0px 1px 3px 1px rgba(60, 64, 67, 0.15);\n",
              "      fill: #174EA6;\n",
              "    }\n",
              "\n",
              "    [theme=dark] .colab-df-convert {\n",
              "      background-color: #3B4455;\n",
              "      fill: #D2E3FC;\n",
              "    }\n",
              "\n",
              "    [theme=dark] .colab-df-convert:hover {\n",
              "      background-color: #434B5C;\n",
              "      box-shadow: 0px 1px 3px 1px rgba(0, 0, 0, 0.15);\n",
              "      filter: drop-shadow(0px 1px 2px rgba(0, 0, 0, 0.3));\n",
              "      fill: #FFFFFF;\n",
              "    }\n",
              "  </style>\n",
              "\n",
              "      <script>\n",
              "        const buttonEl =\n",
              "          document.querySelector('#df-02d1dd6b-cfd6-45ce-ad89-4fd9d41efb42 button.colab-df-convert');\n",
              "        buttonEl.style.display =\n",
              "          google.colab.kernel.accessAllowed ? 'block' : 'none';\n",
              "\n",
              "        async function convertToInteractive(key) {\n",
              "          const element = document.querySelector('#df-02d1dd6b-cfd6-45ce-ad89-4fd9d41efb42');\n",
              "          const dataTable =\n",
              "            await google.colab.kernel.invokeFunction('convertToInteractive',\n",
              "                                                     [key], {});\n",
              "          if (!dataTable) return;\n",
              "\n",
              "          const docLinkHtml = 'Like what you see? Visit the ' +\n",
              "            '<a target=\"_blank\" href=https://colab.research.google.com/notebooks/data_table.ipynb>data table notebook</a>'\n",
              "            + ' to learn more about interactive tables.';\n",
              "          element.innerHTML = '';\n",
              "          dataTable['output_type'] = 'display_data';\n",
              "          await google.colab.output.renderOutput(dataTable, element);\n",
              "          const docLink = document.createElement('div');\n",
              "          docLink.innerHTML = docLinkHtml;\n",
              "          element.appendChild(docLink);\n",
              "        }\n",
              "      </script>\n",
              "    </div>\n",
              "  </div>\n",
              "  "
            ],
            "text/plain": [
              "                                               title  ...                                          vectorcol\n",
              "0    miley cyrus liam hemsworth secretly get married  ...  [-0.12480343, -0.06694698, -0.18565401, 0.1694...\n",
              "1  paris jackson cara delevingne enjoy night matc...  ...  [0.08161997, 0.019448318, -0.05987478, -0.1275...\n",
              "2    celebrities join tax march protest donald trump  ...  [-0.0071617686, 0.05993736, 0.22043763, -0.147...\n",
              "3  cindy crawford's daughter kaia gerber wears wi...  ...  [0.051251747, 0.003807944, -0.023948468, 0.009...\n",
              "4         full list 2018 oscar nominations – variety  ...  [-0.04029811, -0.0011204657, 0.2647286, -0.059...\n",
              "\n",
              "[5 rows x 3 columns]"
            ]
          },
          "metadata": {},
          "execution_count": 96
        }
      ]
    },
    {
      "cell_type": "code",
      "source": [
        "dfready[['vectorcol']]"
      ],
      "metadata": {
        "colab": {
          "base_uri": "https://localhost:8080/",
          "height": 363
        },
        "id": "dauLhmpBZ2ql",
        "outputId": "baef12ca-1c50-454f-cd0a-4a4b824cb570"
      },
      "execution_count": 108,
      "outputs": [
        {
          "output_type": "execute_result",
          "data": {
            "text/html": [
              "\n",
              "  <div id=\"df-7c88080f-92ed-4d31-9106-c46b0d819e7e\">\n",
              "    <div class=\"colab-df-container\">\n",
              "      <div>\n",
              "<style scoped>\n",
              "    .dataframe tbody tr th:only-of-type {\n",
              "        vertical-align: middle;\n",
              "    }\n",
              "\n",
              "    .dataframe tbody tr th {\n",
              "        vertical-align: top;\n",
              "    }\n",
              "\n",
              "    .dataframe thead th {\n",
              "        text-align: right;\n",
              "    }\n",
              "</style>\n",
              "<table border=\"1\" class=\"dataframe\">\n",
              "  <thead>\n",
              "    <tr style=\"text-align: right;\">\n",
              "      <th></th>\n",
              "      <th>vectorcol</th>\n",
              "    </tr>\n",
              "  </thead>\n",
              "  <tbody>\n",
              "    <tr>\n",
              "      <th>0</th>\n",
              "      <td>[-0.12480343, -0.06694698, -0.18565401, 0.1694...</td>\n",
              "    </tr>\n",
              "    <tr>\n",
              "      <th>1</th>\n",
              "      <td>[0.08161997, 0.019448318, -0.05987478, -0.1275...</td>\n",
              "    </tr>\n",
              "    <tr>\n",
              "      <th>2</th>\n",
              "      <td>[-0.0071617686, 0.05993736, 0.22043763, -0.147...</td>\n",
              "    </tr>\n",
              "    <tr>\n",
              "      <th>3</th>\n",
              "      <td>[0.051251747, 0.003807944, -0.023948468, 0.009...</td>\n",
              "    </tr>\n",
              "    <tr>\n",
              "      <th>4</th>\n",
              "      <td>[-0.04029811, -0.0011204657, 0.2647286, -0.059...</td>\n",
              "    </tr>\n",
              "    <tr>\n",
              "      <th>0</th>\n",
              "      <td>[-0.07722194, -0.05114095, -0.06775734, -0.041...</td>\n",
              "    </tr>\n",
              "    <tr>\n",
              "      <th>1</th>\n",
              "      <td>[0.03420729, -0.07510132, -0.020634918, -0.002...</td>\n",
              "    </tr>\n",
              "    <tr>\n",
              "      <th>2</th>\n",
              "      <td>[-0.30353433, -0.20470504, -0.12673381, -0.285...</td>\n",
              "    </tr>\n",
              "    <tr>\n",
              "      <th>3</th>\n",
              "      <td>[0.026270678, 0.09265323, -0.10167308, 0.08931...</td>\n",
              "    </tr>\n",
              "    <tr>\n",
              "      <th>4</th>\n",
              "      <td>[0.023988368, 0.038268402, -0.10333933, -0.012...</td>\n",
              "    </tr>\n",
              "  </tbody>\n",
              "</table>\n",
              "</div>\n",
              "      <button class=\"colab-df-convert\" onclick=\"convertToInteractive('df-7c88080f-92ed-4d31-9106-c46b0d819e7e')\"\n",
              "              title=\"Convert this dataframe to an interactive table.\"\n",
              "              style=\"display:none;\">\n",
              "        \n",
              "  <svg xmlns=\"http://www.w3.org/2000/svg\" height=\"24px\"viewBox=\"0 0 24 24\"\n",
              "       width=\"24px\">\n",
              "    <path d=\"M0 0h24v24H0V0z\" fill=\"none\"/>\n",
              "    <path d=\"M18.56 5.44l.94 2.06.94-2.06 2.06-.94-2.06-.94-.94-2.06-.94 2.06-2.06.94zm-11 1L8.5 8.5l.94-2.06 2.06-.94-2.06-.94L8.5 2.5l-.94 2.06-2.06.94zm10 10l.94 2.06.94-2.06 2.06-.94-2.06-.94-.94-2.06-.94 2.06-2.06.94z\"/><path d=\"M17.41 7.96l-1.37-1.37c-.4-.4-.92-.59-1.43-.59-.52 0-1.04.2-1.43.59L10.3 9.45l-7.72 7.72c-.78.78-.78 2.05 0 2.83L4 21.41c.39.39.9.59 1.41.59.51 0 1.02-.2 1.41-.59l7.78-7.78 2.81-2.81c.8-.78.8-2.07 0-2.86zM5.41 20L4 18.59l7.72-7.72 1.47 1.35L5.41 20z\"/>\n",
              "  </svg>\n",
              "      </button>\n",
              "      \n",
              "  <style>\n",
              "    .colab-df-container {\n",
              "      display:flex;\n",
              "      flex-wrap:wrap;\n",
              "      gap: 12px;\n",
              "    }\n",
              "\n",
              "    .colab-df-convert {\n",
              "      background-color: #E8F0FE;\n",
              "      border: none;\n",
              "      border-radius: 50%;\n",
              "      cursor: pointer;\n",
              "      display: none;\n",
              "      fill: #1967D2;\n",
              "      height: 32px;\n",
              "      padding: 0 0 0 0;\n",
              "      width: 32px;\n",
              "    }\n",
              "\n",
              "    .colab-df-convert:hover {\n",
              "      background-color: #E2EBFA;\n",
              "      box-shadow: 0px 1px 2px rgba(60, 64, 67, 0.3), 0px 1px 3px 1px rgba(60, 64, 67, 0.15);\n",
              "      fill: #174EA6;\n",
              "    }\n",
              "\n",
              "    [theme=dark] .colab-df-convert {\n",
              "      background-color: #3B4455;\n",
              "      fill: #D2E3FC;\n",
              "    }\n",
              "\n",
              "    [theme=dark] .colab-df-convert:hover {\n",
              "      background-color: #434B5C;\n",
              "      box-shadow: 0px 1px 3px 1px rgba(0, 0, 0, 0.15);\n",
              "      filter: drop-shadow(0px 1px 2px rgba(0, 0, 0, 0.3));\n",
              "      fill: #FFFFFF;\n",
              "    }\n",
              "  </style>\n",
              "\n",
              "      <script>\n",
              "        const buttonEl =\n",
              "          document.querySelector('#df-7c88080f-92ed-4d31-9106-c46b0d819e7e button.colab-df-convert');\n",
              "        buttonEl.style.display =\n",
              "          google.colab.kernel.accessAllowed ? 'block' : 'none';\n",
              "\n",
              "        async function convertToInteractive(key) {\n",
              "          const element = document.querySelector('#df-7c88080f-92ed-4d31-9106-c46b0d819e7e');\n",
              "          const dataTable =\n",
              "            await google.colab.kernel.invokeFunction('convertToInteractive',\n",
              "                                                     [key], {});\n",
              "          if (!dataTable) return;\n",
              "\n",
              "          const docLinkHtml = 'Like what you see? Visit the ' +\n",
              "            '<a target=\"_blank\" href=https://colab.research.google.com/notebooks/data_table.ipynb>data table notebook</a>'\n",
              "            + ' to learn more about interactive tables.';\n",
              "          element.innerHTML = '';\n",
              "          dataTable['output_type'] = 'display_data';\n",
              "          await google.colab.output.renderOutput(dataTable, element);\n",
              "          const docLink = document.createElement('div');\n",
              "          docLink.innerHTML = docLinkHtml;\n",
              "          element.appendChild(docLink);\n",
              "        }\n",
              "      </script>\n",
              "    </div>\n",
              "  </div>\n",
              "  "
            ],
            "text/plain": [
              "                                           vectorcol\n",
              "0  [-0.12480343, -0.06694698, -0.18565401, 0.1694...\n",
              "1  [0.08161997, 0.019448318, -0.05987478, -0.1275...\n",
              "2  [-0.0071617686, 0.05993736, 0.22043763, -0.147...\n",
              "3  [0.051251747, 0.003807944, -0.023948468, 0.009...\n",
              "4  [-0.04029811, -0.0011204657, 0.2647286, -0.059...\n",
              "0  [-0.07722194, -0.05114095, -0.06775734, -0.041...\n",
              "1  [0.03420729, -0.07510132, -0.020634918, -0.002...\n",
              "2  [-0.30353433, -0.20470504, -0.12673381, -0.285...\n",
              "3  [0.026270678, 0.09265323, -0.10167308, 0.08931...\n",
              "4  [0.023988368, 0.038268402, -0.10333933, -0.012..."
            ]
          },
          "metadata": {},
          "execution_count": 108
        }
      ]
    },
    {
      "cell_type": "code",
      "source": [
        "X = dfready[['vectorcol']]"
      ],
      "metadata": {
        "id": "YjBQgQXIZ_5Z"
      },
      "execution_count": 112,
      "outputs": []
    },
    {
      "cell_type": "code",
      "source": [
        "X"
      ],
      "metadata": {
        "colab": {
          "base_uri": "https://localhost:8080/",
          "height": 363
        },
        "id": "DbDlA-XeaGGe",
        "outputId": "1500f5e2-e9d9-4cba-de83-cb06aa422536"
      },
      "execution_count": 113,
      "outputs": [
        {
          "output_type": "execute_result",
          "data": {
            "text/html": [
              "\n",
              "  <div id=\"df-e586e8e6-c1c2-4613-87fa-55c465cd00a8\">\n",
              "    <div class=\"colab-df-container\">\n",
              "      <div>\n",
              "<style scoped>\n",
              "    .dataframe tbody tr th:only-of-type {\n",
              "        vertical-align: middle;\n",
              "    }\n",
              "\n",
              "    .dataframe tbody tr th {\n",
              "        vertical-align: top;\n",
              "    }\n",
              "\n",
              "    .dataframe thead th {\n",
              "        text-align: right;\n",
              "    }\n",
              "</style>\n",
              "<table border=\"1\" class=\"dataframe\">\n",
              "  <thead>\n",
              "    <tr style=\"text-align: right;\">\n",
              "      <th></th>\n",
              "      <th>vectorcol</th>\n",
              "    </tr>\n",
              "  </thead>\n",
              "  <tbody>\n",
              "    <tr>\n",
              "      <th>0</th>\n",
              "      <td>[-0.12480343, -0.06694698, -0.18565401, 0.1694...</td>\n",
              "    </tr>\n",
              "    <tr>\n",
              "      <th>1</th>\n",
              "      <td>[0.08161997, 0.019448318, -0.05987478, -0.1275...</td>\n",
              "    </tr>\n",
              "    <tr>\n",
              "      <th>2</th>\n",
              "      <td>[-0.0071617686, 0.05993736, 0.22043763, -0.147...</td>\n",
              "    </tr>\n",
              "    <tr>\n",
              "      <th>3</th>\n",
              "      <td>[0.051251747, 0.003807944, -0.023948468, 0.009...</td>\n",
              "    </tr>\n",
              "    <tr>\n",
              "      <th>4</th>\n",
              "      <td>[-0.04029811, -0.0011204657, 0.2647286, -0.059...</td>\n",
              "    </tr>\n",
              "    <tr>\n",
              "      <th>0</th>\n",
              "      <td>[-0.07722194, -0.05114095, -0.06775734, -0.041...</td>\n",
              "    </tr>\n",
              "    <tr>\n",
              "      <th>1</th>\n",
              "      <td>[0.03420729, -0.07510132, -0.020634918, -0.002...</td>\n",
              "    </tr>\n",
              "    <tr>\n",
              "      <th>2</th>\n",
              "      <td>[-0.30353433, -0.20470504, -0.12673381, -0.285...</td>\n",
              "    </tr>\n",
              "    <tr>\n",
              "      <th>3</th>\n",
              "      <td>[0.026270678, 0.09265323, -0.10167308, 0.08931...</td>\n",
              "    </tr>\n",
              "    <tr>\n",
              "      <th>4</th>\n",
              "      <td>[0.023988368, 0.038268402, -0.10333933, -0.012...</td>\n",
              "    </tr>\n",
              "  </tbody>\n",
              "</table>\n",
              "</div>\n",
              "      <button class=\"colab-df-convert\" onclick=\"convertToInteractive('df-e586e8e6-c1c2-4613-87fa-55c465cd00a8')\"\n",
              "              title=\"Convert this dataframe to an interactive table.\"\n",
              "              style=\"display:none;\">\n",
              "        \n",
              "  <svg xmlns=\"http://www.w3.org/2000/svg\" height=\"24px\"viewBox=\"0 0 24 24\"\n",
              "       width=\"24px\">\n",
              "    <path d=\"M0 0h24v24H0V0z\" fill=\"none\"/>\n",
              "    <path d=\"M18.56 5.44l.94 2.06.94-2.06 2.06-.94-2.06-.94-.94-2.06-.94 2.06-2.06.94zm-11 1L8.5 8.5l.94-2.06 2.06-.94-2.06-.94L8.5 2.5l-.94 2.06-2.06.94zm10 10l.94 2.06.94-2.06 2.06-.94-2.06-.94-.94-2.06-.94 2.06-2.06.94z\"/><path d=\"M17.41 7.96l-1.37-1.37c-.4-.4-.92-.59-1.43-.59-.52 0-1.04.2-1.43.59L10.3 9.45l-7.72 7.72c-.78.78-.78 2.05 0 2.83L4 21.41c.39.39.9.59 1.41.59.51 0 1.02-.2 1.41-.59l7.78-7.78 2.81-2.81c.8-.78.8-2.07 0-2.86zM5.41 20L4 18.59l7.72-7.72 1.47 1.35L5.41 20z\"/>\n",
              "  </svg>\n",
              "      </button>\n",
              "      \n",
              "  <style>\n",
              "    .colab-df-container {\n",
              "      display:flex;\n",
              "      flex-wrap:wrap;\n",
              "      gap: 12px;\n",
              "    }\n",
              "\n",
              "    .colab-df-convert {\n",
              "      background-color: #E8F0FE;\n",
              "      border: none;\n",
              "      border-radius: 50%;\n",
              "      cursor: pointer;\n",
              "      display: none;\n",
              "      fill: #1967D2;\n",
              "      height: 32px;\n",
              "      padding: 0 0 0 0;\n",
              "      width: 32px;\n",
              "    }\n",
              "\n",
              "    .colab-df-convert:hover {\n",
              "      background-color: #E2EBFA;\n",
              "      box-shadow: 0px 1px 2px rgba(60, 64, 67, 0.3), 0px 1px 3px 1px rgba(60, 64, 67, 0.15);\n",
              "      fill: #174EA6;\n",
              "    }\n",
              "\n",
              "    [theme=dark] .colab-df-convert {\n",
              "      background-color: #3B4455;\n",
              "      fill: #D2E3FC;\n",
              "    }\n",
              "\n",
              "    [theme=dark] .colab-df-convert:hover {\n",
              "      background-color: #434B5C;\n",
              "      box-shadow: 0px 1px 3px 1px rgba(0, 0, 0, 0.15);\n",
              "      filter: drop-shadow(0px 1px 2px rgba(0, 0, 0, 0.3));\n",
              "      fill: #FFFFFF;\n",
              "    }\n",
              "  </style>\n",
              "\n",
              "      <script>\n",
              "        const buttonEl =\n",
              "          document.querySelector('#df-e586e8e6-c1c2-4613-87fa-55c465cd00a8 button.colab-df-convert');\n",
              "        buttonEl.style.display =\n",
              "          google.colab.kernel.accessAllowed ? 'block' : 'none';\n",
              "\n",
              "        async function convertToInteractive(key) {\n",
              "          const element = document.querySelector('#df-e586e8e6-c1c2-4613-87fa-55c465cd00a8');\n",
              "          const dataTable =\n",
              "            await google.colab.kernel.invokeFunction('convertToInteractive',\n",
              "                                                     [key], {});\n",
              "          if (!dataTable) return;\n",
              "\n",
              "          const docLinkHtml = 'Like what you see? Visit the ' +\n",
              "            '<a target=\"_blank\" href=https://colab.research.google.com/notebooks/data_table.ipynb>data table notebook</a>'\n",
              "            + ' to learn more about interactive tables.';\n",
              "          element.innerHTML = '';\n",
              "          dataTable['output_type'] = 'display_data';\n",
              "          await google.colab.output.renderOutput(dataTable, element);\n",
              "          const docLink = document.createElement('div');\n",
              "          docLink.innerHTML = docLinkHtml;\n",
              "          element.appendChild(docLink);\n",
              "        }\n",
              "      </script>\n",
              "    </div>\n",
              "  </div>\n",
              "  "
            ],
            "text/plain": [
              "                                           vectorcol\n",
              "0  [-0.12480343, -0.06694698, -0.18565401, 0.1694...\n",
              "1  [0.08161997, 0.019448318, -0.05987478, -0.1275...\n",
              "2  [-0.0071617686, 0.05993736, 0.22043763, -0.147...\n",
              "3  [0.051251747, 0.003807944, -0.023948468, 0.009...\n",
              "4  [-0.04029811, -0.0011204657, 0.2647286, -0.059...\n",
              "0  [-0.07722194, -0.05114095, -0.06775734, -0.041...\n",
              "1  [0.03420729, -0.07510132, -0.020634918, -0.002...\n",
              "2  [-0.30353433, -0.20470504, -0.12673381, -0.285...\n",
              "3  [0.026270678, 0.09265323, -0.10167308, 0.08931...\n",
              "4  [0.023988368, 0.038268402, -0.10333933, -0.012..."
            ]
          },
          "metadata": {},
          "execution_count": 113
        }
      ]
    },
    {
      "cell_type": "code",
      "source": [
        "type(X)"
      ],
      "metadata": {
        "colab": {
          "base_uri": "https://localhost:8080/"
        },
        "id": "R267RjzIaJ5y",
        "outputId": "9edbe806-be53-4cfa-ff5b-edbfaa428a8c"
      },
      "execution_count": 142,
      "outputs": [
        {
          "output_type": "execute_result",
          "data": {
            "text/plain": [
              "pandas.core.frame.DataFrame"
            ]
          },
          "metadata": {},
          "execution_count": 142
        }
      ]
    },
    {
      "cell_type": "code",
      "source": [
        "y = dfready[['labelML']]"
      ],
      "metadata": {
        "id": "o0ycM00NaeJj"
      },
      "execution_count": 143,
      "outputs": []
    },
    {
      "cell_type": "code",
      "source": [
        "type(y)"
      ],
      "metadata": {
        "colab": {
          "base_uri": "https://localhost:8080/"
        },
        "id": "qZDpVOu3aljo",
        "outputId": "67696377-d0e2-4d3f-873f-be552ced8dcd"
      },
      "execution_count": 144,
      "outputs": [
        {
          "output_type": "execute_result",
          "data": {
            "text/plain": [
              "pandas.core.frame.DataFrame"
            ]
          },
          "metadata": {},
          "execution_count": 144
        }
      ]
    },
    {
      "cell_type": "code",
      "source": [
        "X_train.dtypes\n",
        "#X_train = X_train.drop(['array'])"
      ],
      "metadata": {
        "colab": {
          "base_uri": "https://localhost:8080/"
        },
        "id": "ZXjv0qWKcZas",
        "outputId": "0c49c88b-fce6-4781-8ac3-22c57539f2e2"
      },
      "execution_count": 160,
      "outputs": [
        {
          "output_type": "execute_result",
          "data": {
            "text/plain": [
              "vectorcol    object\n",
              "dtype: object"
            ]
          },
          "metadata": {},
          "execution_count": 160
        }
      ]
    },
    {
      "cell_type": "code",
      "source": [
        "X_train_new = X_train.to_numpy()\n",
        "y_train_new = y_train.to_numpy()\n",
        "X_test_new = X_test.to_numpy()\n",
        "y_test_new = y_test.to_numpy()"
      ],
      "metadata": {
        "id": "Cs1fYAd-dQlp"
      },
      "execution_count": 161,
      "outputs": []
    },
    {
      "cell_type": "code",
      "source": [
        "#X_train_new = X_train_new.drop['array']\n",
        "X_train_new.shape\n",
        "#type(X_train_new)\n",
        "#type(y_train_new)"
      ],
      "metadata": {
        "colab": {
          "base_uri": "https://localhost:8080/"
        },
        "id": "CSAC2afbdXDc",
        "outputId": "416b4aef-e3f3-4775-b226-fd0b59d5c9bd"
      },
      "execution_count": 164,
      "outputs": [
        {
          "output_type": "execute_result",
          "data": {
            "text/plain": [
              "(9, 1)"
            ]
          },
          "metadata": {},
          "execution_count": 164
        }
      ]
    },
    {
      "cell_type": "code",
      "source": [
        "import xgboost as xgb\n",
        "from sklearn.datasets import dump_svmlight_file\n",
        "\n",
        "dump_svmlight_file(X_train, y_train, 'dtrain.svm', zero_based=True)\n",
        "dump_svmlight_file(X_test, y_test, 'dtest.svm', zero_based=True)\n",
        "dtrain_svm = xgb.DMatrix('dtrain.svm')\n",
        "dtest_svm = xgb.DMatrix('dtest.svm')"
      ],
      "metadata": {
        "colab": {
          "base_uri": "https://localhost:8080/",
          "height": 374
        },
        "id": "xBeLw6V_fXB2",
        "outputId": "32e5b9c5-7985-4b7a-db90-f51df6393043"
      },
      "execution_count": 156,
      "outputs": [
        {
          "output_type": "error",
          "ename": "ValueError",
          "evalue": "ignored",
          "traceback": [
            "\u001b[0;31m---------------------------------------------------------------------------\u001b[0m",
            "\u001b[0;31mValueError\u001b[0m                                Traceback (most recent call last)",
            "\u001b[0;32m<ipython-input-156-d2be4ac1d9c1>\u001b[0m in \u001b[0;36m<module>\u001b[0;34m()\u001b[0m\n\u001b[1;32m      2\u001b[0m \u001b[0;32mfrom\u001b[0m \u001b[0msklearn\u001b[0m\u001b[0;34m.\u001b[0m\u001b[0mdatasets\u001b[0m \u001b[0;32mimport\u001b[0m \u001b[0mdump_svmlight_file\u001b[0m\u001b[0;34m\u001b[0m\u001b[0;34m\u001b[0m\u001b[0m\n\u001b[1;32m      3\u001b[0m \u001b[0;34m\u001b[0m\u001b[0m\n\u001b[0;32m----> 4\u001b[0;31m \u001b[0mdump_svmlight_file\u001b[0m\u001b[0;34m(\u001b[0m\u001b[0mX_train\u001b[0m\u001b[0;34m,\u001b[0m \u001b[0my_train\u001b[0m\u001b[0;34m,\u001b[0m \u001b[0;34m'dtrain.svm'\u001b[0m\u001b[0;34m,\u001b[0m \u001b[0mzero_based\u001b[0m\u001b[0;34m=\u001b[0m\u001b[0;32mTrue\u001b[0m\u001b[0;34m)\u001b[0m\u001b[0;34m\u001b[0m\u001b[0;34m\u001b[0m\u001b[0m\n\u001b[0m\u001b[1;32m      5\u001b[0m \u001b[0mdump_svmlight_file\u001b[0m\u001b[0;34m(\u001b[0m\u001b[0mX_test\u001b[0m\u001b[0;34m,\u001b[0m \u001b[0my_test\u001b[0m\u001b[0;34m,\u001b[0m \u001b[0;34m'dtest.svm'\u001b[0m\u001b[0;34m,\u001b[0m \u001b[0mzero_based\u001b[0m\u001b[0;34m=\u001b[0m\u001b[0;32mTrue\u001b[0m\u001b[0;34m)\u001b[0m\u001b[0;34m\u001b[0m\u001b[0;34m\u001b[0m\u001b[0m\n\u001b[1;32m      6\u001b[0m \u001b[0mdtrain_svm\u001b[0m \u001b[0;34m=\u001b[0m \u001b[0mxgb\u001b[0m\u001b[0;34m.\u001b[0m\u001b[0mDMatrix\u001b[0m\u001b[0;34m(\u001b[0m\u001b[0;34m'dtrain.svm'\u001b[0m\u001b[0;34m)\u001b[0m\u001b[0;34m\u001b[0m\u001b[0;34m\u001b[0m\u001b[0m\n",
            "\u001b[0;32m/usr/local/lib/python3.7/dist-packages/sklearn/datasets/_svmlight_format_io.py\u001b[0m in \u001b[0;36mdump_svmlight_file\u001b[0;34m(X, y, f, zero_based, comment, query_id, multilabel)\u001b[0m\n\u001b[1;32m    494\u001b[0m     \u001b[0;32melse\u001b[0m\u001b[0;34m:\u001b[0m\u001b[0;34m\u001b[0m\u001b[0;34m\u001b[0m\u001b[0m\n\u001b[1;32m    495\u001b[0m         \u001b[0;32mif\u001b[0m \u001b[0myval\u001b[0m\u001b[0;34m.\u001b[0m\u001b[0mndim\u001b[0m \u001b[0;34m!=\u001b[0m \u001b[0;36m1\u001b[0m \u001b[0;32mand\u001b[0m \u001b[0;32mnot\u001b[0m \u001b[0mmultilabel\u001b[0m\u001b[0;34m:\u001b[0m\u001b[0;34m\u001b[0m\u001b[0;34m\u001b[0m\u001b[0m\n\u001b[0;32m--> 496\u001b[0;31m             \u001b[0;32mraise\u001b[0m \u001b[0mValueError\u001b[0m\u001b[0;34m(\u001b[0m\u001b[0;34m\"expected y of shape (n_samples,), got %r\"\u001b[0m \u001b[0;34m%\u001b[0m \u001b[0;34m(\u001b[0m\u001b[0myval\u001b[0m\u001b[0;34m.\u001b[0m\u001b[0mshape\u001b[0m\u001b[0;34m,\u001b[0m\u001b[0;34m)\u001b[0m\u001b[0;34m)\u001b[0m\u001b[0;34m\u001b[0m\u001b[0;34m\u001b[0m\u001b[0m\n\u001b[0m\u001b[1;32m    497\u001b[0m \u001b[0;34m\u001b[0m\u001b[0m\n\u001b[1;32m    498\u001b[0m     \u001b[0mXval\u001b[0m \u001b[0;34m=\u001b[0m \u001b[0mcheck_array\u001b[0m\u001b[0;34m(\u001b[0m\u001b[0mX\u001b[0m\u001b[0;34m,\u001b[0m \u001b[0maccept_sparse\u001b[0m\u001b[0;34m=\u001b[0m\u001b[0;34m\"csr\"\u001b[0m\u001b[0;34m)\u001b[0m\u001b[0;34m\u001b[0m\u001b[0;34m\u001b[0m\u001b[0m\n",
            "\u001b[0;31mValueError\u001b[0m: expected y of shape (n_samples,), got (9, 1)"
          ]
        }
      ]
    },
    {
      "cell_type": "code",
      "source": [
        "import xgboost as xgb\n",
        "#TASK #2: Create an XGBoost classifier that will work for the vectors that you have (size 300), and train it....\n",
        "\n",
        "#X, y = dfready.[:, 2:], dfready['labelML']\n",
        "#print(X.columns)\n",
        "\n",
        "# Create the training and test sets\n",
        "X_train, X_test, y_train, y_test = train_test_split(X, y, test_size=0.1, random_state=123)\n",
        "\n"
      ],
      "metadata": {
        "id": "uz6F4x7mQd9Z"
      },
      "execution_count": 120,
      "outputs": []
    },
    {
      "cell_type": "code",
      "source": [
        "print(X_train)"
      ],
      "metadata": {
        "colab": {
          "base_uri": "https://localhost:8080/"
        },
        "id": "MKiu2a0iXrQy",
        "outputId": "8861bf4c-0ca7-4020-fd87-5b312c7926e5"
      },
      "execution_count": 105,
      "outputs": [
        {
          "output_type": "stream",
          "name": "stdout",
          "text": [
            "                                           vectorcol\n",
            "0  [-0.12480343, -0.06694698, -0.18565401, 0.1694...\n",
            "2  [-0.30353433, -0.20470504, -0.12673381, -0.285...\n",
            "0  [-0.07722194, -0.05114095, -0.06775734, -0.041...\n",
            "3  [0.026270678, 0.09265323, -0.10167308, 0.08931...\n",
            "3  [0.051251747, 0.003807944, -0.023948468, 0.009...\n",
            "1  [0.08161997, 0.019448318, -0.05987478, -0.1275...\n",
            "1  [0.03420729, -0.07510132, -0.020634918, -0.002...\n",
            "4  [0.023988368, 0.038268402, -0.10333933, -0.012...\n",
            "2  [-0.0071617686, 0.05993736, 0.22043763, -0.147...\n"
          ]
        }
      ]
    },
    {
      "cell_type": "code",
      "source": [
        "# Instantiate the XGBClassifier: xg_cl\n",
        "xg_cl = xgb.XGBClassifier(objective='binary:logistic', n_estimators=10, seed=123)\n",
        "\n",
        "# Fit the classifier to the training set\n",
        "xg_cl.fit(X_train_new, y_train_new)\n"
      ],
      "metadata": {
        "colab": {
          "base_uri": "https://localhost:8080/",
          "height": 522
        },
        "id": "qqvrkHF8XUUF",
        "outputId": "67226e6a-c44a-4c58-c638-5cdf2f436d42"
      },
      "execution_count": 139,
      "outputs": [
        {
          "output_type": "stream",
          "name": "stderr",
          "text": [
            "/usr/local/lib/python3.7/dist-packages/sklearn/preprocessing/_label.py:98: DataConversionWarning: A column-vector y was passed when a 1d array was expected. Please change the shape of y to (n_samples, ), for example using ravel().\n",
            "  y = column_or_1d(y, warn=True)\n",
            "/usr/local/lib/python3.7/dist-packages/sklearn/preprocessing/_label.py:133: DataConversionWarning: A column-vector y was passed when a 1d array was expected. Please change the shape of y to (n_samples, ), for example using ravel().\n",
            "  y = column_or_1d(y, warn=True)\n"
          ]
        },
        {
          "output_type": "error",
          "ename": "ValueError",
          "evalue": "ignored",
          "traceback": [
            "\u001b[0;31m---------------------------------------------------------------------------\u001b[0m",
            "\u001b[0;31mTypeError\u001b[0m                                 Traceback (most recent call last)",
            "\u001b[0;31mTypeError\u001b[0m: only size-1 arrays can be converted to Python scalars",
            "\nThe above exception was the direct cause of the following exception:\n",
            "\u001b[0;31mValueError\u001b[0m                                Traceback (most recent call last)",
            "\u001b[0;32m<ipython-input-139-00ffdb3644a8>\u001b[0m in \u001b[0;36m<module>\u001b[0;34m()\u001b[0m\n\u001b[1;32m      3\u001b[0m \u001b[0;34m\u001b[0m\u001b[0m\n\u001b[1;32m      4\u001b[0m \u001b[0;31m# Fit the classifier to the training set\u001b[0m\u001b[0;34m\u001b[0m\u001b[0;34m\u001b[0m\u001b[0;34m\u001b[0m\u001b[0m\n\u001b[0;32m----> 5\u001b[0;31m \u001b[0mxg_cl\u001b[0m\u001b[0;34m.\u001b[0m\u001b[0mfit\u001b[0m\u001b[0;34m(\u001b[0m\u001b[0mX_train_new\u001b[0m\u001b[0;34m,\u001b[0m \u001b[0my_train_new\u001b[0m\u001b[0;34m)\u001b[0m\u001b[0;34m\u001b[0m\u001b[0;34m\u001b[0m\u001b[0m\n\u001b[0m",
            "\u001b[0;32m/usr/local/lib/python3.7/dist-packages/xgboost/sklearn.py\u001b[0m in \u001b[0;36mfit\u001b[0;34m(self, X, y, sample_weight, eval_set, eval_metric, early_stopping_rounds, verbose, xgb_model, sample_weight_eval_set, callbacks)\u001b[0m\n\u001b[1;32m    724\u001b[0m         \u001b[0;32melse\u001b[0m\u001b[0;34m:\u001b[0m\u001b[0;34m\u001b[0m\u001b[0;34m\u001b[0m\u001b[0m\n\u001b[1;32m    725\u001b[0m             train_dmatrix = DMatrix(X, label=training_labels,\n\u001b[0;32m--> 726\u001b[0;31m                                     missing=self.missing, nthread=self.n_jobs)\n\u001b[0m\u001b[1;32m    727\u001b[0m \u001b[0;34m\u001b[0m\u001b[0m\n\u001b[1;32m    728\u001b[0m         self._Booster = train(xgb_options, train_dmatrix, self.get_num_boosting_rounds(),\n",
            "\u001b[0;32m/usr/local/lib/python3.7/dist-packages/xgboost/core.py\u001b[0m in \u001b[0;36m__init__\u001b[0;34m(self, data, label, missing, weight, silent, feature_names, feature_types, nthread)\u001b[0m\n\u001b[1;32m    402\u001b[0m             \u001b[0mself\u001b[0m\u001b[0;34m.\u001b[0m\u001b[0m_init_from_csc\u001b[0m\u001b[0;34m(\u001b[0m\u001b[0mdata\u001b[0m\u001b[0;34m)\u001b[0m\u001b[0;34m\u001b[0m\u001b[0;34m\u001b[0m\u001b[0m\n\u001b[1;32m    403\u001b[0m         \u001b[0;32melif\u001b[0m \u001b[0misinstance\u001b[0m\u001b[0;34m(\u001b[0m\u001b[0mdata\u001b[0m\u001b[0;34m,\u001b[0m \u001b[0mnp\u001b[0m\u001b[0;34m.\u001b[0m\u001b[0mndarray\u001b[0m\u001b[0;34m)\u001b[0m\u001b[0;34m:\u001b[0m\u001b[0;34m\u001b[0m\u001b[0;34m\u001b[0m\u001b[0m\n\u001b[0;32m--> 404\u001b[0;31m             \u001b[0mself\u001b[0m\u001b[0;34m.\u001b[0m\u001b[0m_init_from_npy2d\u001b[0m\u001b[0;34m(\u001b[0m\u001b[0mdata\u001b[0m\u001b[0;34m,\u001b[0m \u001b[0mmissing\u001b[0m\u001b[0;34m,\u001b[0m \u001b[0mnthread\u001b[0m\u001b[0;34m)\u001b[0m\u001b[0;34m\u001b[0m\u001b[0;34m\u001b[0m\u001b[0m\n\u001b[0m\u001b[1;32m    405\u001b[0m         \u001b[0;32melif\u001b[0m \u001b[0misinstance\u001b[0m\u001b[0;34m(\u001b[0m\u001b[0mdata\u001b[0m\u001b[0;34m,\u001b[0m \u001b[0mDataTable\u001b[0m\u001b[0;34m)\u001b[0m\u001b[0;34m:\u001b[0m\u001b[0;34m\u001b[0m\u001b[0;34m\u001b[0m\u001b[0m\n\u001b[1;32m    406\u001b[0m             \u001b[0mself\u001b[0m\u001b[0;34m.\u001b[0m\u001b[0m_init_from_dt\u001b[0m\u001b[0;34m(\u001b[0m\u001b[0mdata\u001b[0m\u001b[0;34m,\u001b[0m \u001b[0mnthread\u001b[0m\u001b[0;34m)\u001b[0m\u001b[0;34m\u001b[0m\u001b[0;34m\u001b[0m\u001b[0m\n",
            "\u001b[0;32m/usr/local/lib/python3.7/dist-packages/xgboost/core.py\u001b[0m in \u001b[0;36m_init_from_npy2d\u001b[0;34m(self, mat, missing, nthread)\u001b[0m\n\u001b[1;32m    476\u001b[0m         \u001b[0;31m# we try to avoid data copies if possible (reshape returns a view when possible\u001b[0m\u001b[0;34m\u001b[0m\u001b[0;34m\u001b[0m\u001b[0;34m\u001b[0m\u001b[0m\n\u001b[1;32m    477\u001b[0m         \u001b[0;31m# and we explicitly tell np.array to try and avoid copying)\u001b[0m\u001b[0;34m\u001b[0m\u001b[0;34m\u001b[0m\u001b[0;34m\u001b[0m\u001b[0m\n\u001b[0;32m--> 478\u001b[0;31m         \u001b[0mdata\u001b[0m \u001b[0;34m=\u001b[0m \u001b[0mnp\u001b[0m\u001b[0;34m.\u001b[0m\u001b[0marray\u001b[0m\u001b[0;34m(\u001b[0m\u001b[0mmat\u001b[0m\u001b[0;34m.\u001b[0m\u001b[0mreshape\u001b[0m\u001b[0;34m(\u001b[0m\u001b[0mmat\u001b[0m\u001b[0;34m.\u001b[0m\u001b[0msize\u001b[0m\u001b[0;34m)\u001b[0m\u001b[0;34m,\u001b[0m \u001b[0mcopy\u001b[0m\u001b[0;34m=\u001b[0m\u001b[0;32mFalse\u001b[0m\u001b[0;34m,\u001b[0m \u001b[0mdtype\u001b[0m\u001b[0;34m=\u001b[0m\u001b[0mnp\u001b[0m\u001b[0;34m.\u001b[0m\u001b[0mfloat32\u001b[0m\u001b[0;34m)\u001b[0m\u001b[0;34m\u001b[0m\u001b[0;34m\u001b[0m\u001b[0m\n\u001b[0m\u001b[1;32m    479\u001b[0m         \u001b[0mhandle\u001b[0m \u001b[0;34m=\u001b[0m \u001b[0mctypes\u001b[0m\u001b[0;34m.\u001b[0m\u001b[0mc_void_p\u001b[0m\u001b[0;34m(\u001b[0m\u001b[0;34m)\u001b[0m\u001b[0;34m\u001b[0m\u001b[0;34m\u001b[0m\u001b[0m\n\u001b[1;32m    480\u001b[0m         \u001b[0mmissing\u001b[0m \u001b[0;34m=\u001b[0m \u001b[0mmissing\u001b[0m \u001b[0;32mif\u001b[0m \u001b[0mmissing\u001b[0m \u001b[0;32mis\u001b[0m \u001b[0;32mnot\u001b[0m \u001b[0;32mNone\u001b[0m \u001b[0;32melse\u001b[0m \u001b[0mnp\u001b[0m\u001b[0;34m.\u001b[0m\u001b[0mnan\u001b[0m\u001b[0;34m\u001b[0m\u001b[0;34m\u001b[0m\u001b[0m\n",
            "\u001b[0;31mValueError\u001b[0m: setting an array element with a sequence."
          ]
        }
      ]
    },
    {
      "cell_type": "code",
      "source": [
        "\n",
        "# Predict the labels of the test set: preds\n",
        "preds = xg_cl.predict(X_test)\n",
        "\n",
        "# Compute the accuracy: accuracy\n",
        "accuracy = float(np.sum(preds == y_test)) / y_test.shape[0]\n",
        "print(\"accuracy: %f\" % (accuracy))\n",
        "\n",
        "#TASK 3: Analyze the results of one training example with the confusion matrix\n",
        "\n",
        "#If you can also get the confusion matrix"
      ],
      "metadata": {
        "id": "CaiAX_eMegID"
      },
      "execution_count": null,
      "outputs": []
    },
    {
      "cell_type": "markdown",
      "source": [
        ""
      ],
      "metadata": {
        "id": "GkBYwvUd07Eo"
      }
    }
  ]
}