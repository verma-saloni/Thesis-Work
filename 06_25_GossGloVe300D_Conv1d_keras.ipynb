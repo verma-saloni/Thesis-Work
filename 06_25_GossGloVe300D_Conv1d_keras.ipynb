{
  "nbformat": 4,
  "nbformat_minor": 0,
  "metadata": {
    "colab": {
      "name": "GloVe300D_Conv1d-keras.ipynb",
      "provenance": [],
      "collapsed_sections": [],
      "include_colab_link": true
    },
    "kernelspec": {
      "name": "python3",
      "display_name": "Python 3"
    },
    "language_info": {
      "name": "python"
    },
    "accelerator": "GPU",
    "gpuClass": "standard"
  },
  "cells": [
    {
      "cell_type": "markdown",
      "metadata": {
        "id": "view-in-github",
        "colab_type": "text"
      },
      "source": [
        "<a href=\"https://colab.research.google.com/github/verma-saloni/Thesis-Work/blob/main/06_25_GossGloVe300D_Conv1d_keras.ipynb\" target=\"_parent\"><img src=\"https://colab.research.google.com/assets/colab-badge.svg\" alt=\"Open In Colab\"/></a>"
      ]
    },
    {
      "cell_type": "code",
      "execution_count": 44,
      "metadata": {
        "id": "nCwf-JxlIEJ3"
      },
      "outputs": [],
      "source": [
        "# First we import the required libraries\n",
        "\n",
        "import numpy as np\n",
        "import pandas as pd\n",
        "import seaborn as sns\n",
        "import matplotlib.pyplot as plt\n",
        "import nltk\n",
        "from sklearn.preprocessing import LabelBinarizer\n",
        "from nltk.corpus import stopwords\n",
        "from nltk.stem.porter import PorterStemmer\n",
        "from wordcloud import WordCloud,STOPWORDS\n",
        "from nltk.stem import WordNetLemmatizer\n",
        "from nltk.tokenize import word_tokenize,sent_tokenize\n",
        "from bs4 import BeautifulSoup\n",
        "import re,string,unicodedata\n",
        "from keras.preprocessing import text, sequence\n",
        "from nltk.tokenize.toktok import ToktokTokenizer\n",
        "from sklearn.metrics import classification_report,confusion_matrix,accuracy_score\n",
        "from sklearn.model_selection import train_test_split\n",
        "from string import punctuation\n",
        "from nltk import pos_tag\n",
        "from nltk.corpus import wordnet\n",
        "import keras\n",
        "from keras.models import Sequential\n",
        "from keras.layers import Dense,Embedding,LSTM,Dropout\n",
        "import tensorflow as tf\n",
        "\n",
        "from pathlib import Path"
      ]
    },
    {
      "cell_type": "code",
      "source": [
        "from google.colab import drive\n",
        "drive.mount('/content/drive')\n",
        "\n",
        "base_dir = Path(\"/content/drive/MyDrive/\")\n",
        "assert base_dir.exists()"
      ],
      "metadata": {
        "id": "JNkz9D2TIS3n",
        "colab": {
          "base_uri": "https://localhost:8080/"
        },
        "outputId": "bc6d3575-7a78-4930-ec6b-76e65b4bf5f6"
      },
      "execution_count": 45,
      "outputs": [
        {
          "output_type": "stream",
          "name": "stdout",
          "text": [
            "Drive already mounted at /content/drive; to attempt to forcibly remount, call drive.mount(\"/content/drive\", force_remount=True).\n"
          ]
        }
      ]
    },
    {
      "cell_type": "markdown",
      "source": [
        "Fake 0\n",
        "Real 1"
      ],
      "metadata": {
        "id": "u-74C3vOMMkb"
      }
    },
    {
      "cell_type": "code",
      "source": [
        "df_fake = pd.read_csv(base_dir/'gossipcop_fake.csv')\n",
        "df_real = pd.read_csv(base_dir/'gossipcop_real.csv')\n",
        "df_fake['labelML']=0\n",
        "df_real['labelML']=1"
      ],
      "metadata": {
        "id": "5EOKd3_lIS6L"
      },
      "execution_count": 46,
      "outputs": []
    },
    {
      "cell_type": "code",
      "source": [
        "news= df_fake.append(df_real)\n",
        "news.reset_index(drop=True, inplace=True)"
      ],
      "metadata": {
        "id": "p_oFvQTNIS8B"
      },
      "execution_count": 47,
      "outputs": []
    },
    {
      "cell_type": "code",
      "source": [
        "# news_dummies = pd.get_dummies(news.labelML)\n",
        "# news = pd.concat([news, news_dummies], axis=1)"
      ],
      "metadata": {
        "id": "u8091auo1lFw"
      },
      "execution_count": 48,
      "outputs": []
    },
    {
      "cell_type": "code",
      "source": [
        "news.head()"
      ],
      "metadata": {
        "colab": {
          "base_uri": "https://localhost:8080/",
          "height": 206
        },
        "id": "2jgJfG862YKW",
        "outputId": "8b8a9131-1a38-4c8c-d3ff-07ccd2199ef1"
      },
      "execution_count": 49,
      "outputs": [
        {
          "output_type": "execute_result",
          "data": {
            "text/plain": [
              "                     id                                           news_url  \\\n",
              "0  gossipcop-2493749932  www.dailymail.co.uk/tvshowbiz/article-5874213/...   \n",
              "1  gossipcop-4580247171  hollywoodlife.com/2018/05/05/paris-jackson-car...   \n",
              "2   gossipcop-941805037  variety.com/2017/biz/news/tax-march-donald-tru...   \n",
              "3  gossipcop-2547891536  www.dailymail.co.uk/femail/article-3499192/Do-...   \n",
              "4  gossipcop-5476631226  variety.com/2018/film/news/list-2018-oscar-nom...   \n",
              "\n",
              "                                               title  \\\n",
              "0  Did Miley Cyrus and Liam Hemsworth secretly ge...   \n",
              "1  Paris Jackson & Cara Delevingne Enjoy Night Ou...   \n",
              "2  Celebrities Join Tax March in Protest of Donal...   \n",
              "3  Cindy Crawford's daughter Kaia Gerber wears a ...   \n",
              "4      Full List of 2018 Oscar Nominations – Variety   \n",
              "\n",
              "                                           tweet_ids  labelML  \n",
              "0  284329075902926848\\t284332744559968256\\t284335...        0  \n",
              "1  992895508267130880\\t992897935418503169\\t992899...        0  \n",
              "2  853359353532829696\\t853359576543920128\\t853359...        0  \n",
              "3  988821905196158981\\t988824206556172288\\t988825...        0  \n",
              "4  955792793632432131\\t955795063925301249\\t955798...        0  "
            ],
            "text/html": [
              "\n",
              "  <div id=\"df-01d61839-e92c-4f4b-8ba4-eaf5d0e0017d\">\n",
              "    <div class=\"colab-df-container\">\n",
              "      <div>\n",
              "<style scoped>\n",
              "    .dataframe tbody tr th:only-of-type {\n",
              "        vertical-align: middle;\n",
              "    }\n",
              "\n",
              "    .dataframe tbody tr th {\n",
              "        vertical-align: top;\n",
              "    }\n",
              "\n",
              "    .dataframe thead th {\n",
              "        text-align: right;\n",
              "    }\n",
              "</style>\n",
              "<table border=\"1\" class=\"dataframe\">\n",
              "  <thead>\n",
              "    <tr style=\"text-align: right;\">\n",
              "      <th></th>\n",
              "      <th>id</th>\n",
              "      <th>news_url</th>\n",
              "      <th>title</th>\n",
              "      <th>tweet_ids</th>\n",
              "      <th>labelML</th>\n",
              "    </tr>\n",
              "  </thead>\n",
              "  <tbody>\n",
              "    <tr>\n",
              "      <th>0</th>\n",
              "      <td>gossipcop-2493749932</td>\n",
              "      <td>www.dailymail.co.uk/tvshowbiz/article-5874213/...</td>\n",
              "      <td>Did Miley Cyrus and Liam Hemsworth secretly ge...</td>\n",
              "      <td>284329075902926848\\t284332744559968256\\t284335...</td>\n",
              "      <td>0</td>\n",
              "    </tr>\n",
              "    <tr>\n",
              "      <th>1</th>\n",
              "      <td>gossipcop-4580247171</td>\n",
              "      <td>hollywoodlife.com/2018/05/05/paris-jackson-car...</td>\n",
              "      <td>Paris Jackson &amp; Cara Delevingne Enjoy Night Ou...</td>\n",
              "      <td>992895508267130880\\t992897935418503169\\t992899...</td>\n",
              "      <td>0</td>\n",
              "    </tr>\n",
              "    <tr>\n",
              "      <th>2</th>\n",
              "      <td>gossipcop-941805037</td>\n",
              "      <td>variety.com/2017/biz/news/tax-march-donald-tru...</td>\n",
              "      <td>Celebrities Join Tax March in Protest of Donal...</td>\n",
              "      <td>853359353532829696\\t853359576543920128\\t853359...</td>\n",
              "      <td>0</td>\n",
              "    </tr>\n",
              "    <tr>\n",
              "      <th>3</th>\n",
              "      <td>gossipcop-2547891536</td>\n",
              "      <td>www.dailymail.co.uk/femail/article-3499192/Do-...</td>\n",
              "      <td>Cindy Crawford's daughter Kaia Gerber wears a ...</td>\n",
              "      <td>988821905196158981\\t988824206556172288\\t988825...</td>\n",
              "      <td>0</td>\n",
              "    </tr>\n",
              "    <tr>\n",
              "      <th>4</th>\n",
              "      <td>gossipcop-5476631226</td>\n",
              "      <td>variety.com/2018/film/news/list-2018-oscar-nom...</td>\n",
              "      <td>Full List of 2018 Oscar Nominations – Variety</td>\n",
              "      <td>955792793632432131\\t955795063925301249\\t955798...</td>\n",
              "      <td>0</td>\n",
              "    </tr>\n",
              "  </tbody>\n",
              "</table>\n",
              "</div>\n",
              "      <button class=\"colab-df-convert\" onclick=\"convertToInteractive('df-01d61839-e92c-4f4b-8ba4-eaf5d0e0017d')\"\n",
              "              title=\"Convert this dataframe to an interactive table.\"\n",
              "              style=\"display:none;\">\n",
              "        \n",
              "  <svg xmlns=\"http://www.w3.org/2000/svg\" height=\"24px\"viewBox=\"0 0 24 24\"\n",
              "       width=\"24px\">\n",
              "    <path d=\"M0 0h24v24H0V0z\" fill=\"none\"/>\n",
              "    <path d=\"M18.56 5.44l.94 2.06.94-2.06 2.06-.94-2.06-.94-.94-2.06-.94 2.06-2.06.94zm-11 1L8.5 8.5l.94-2.06 2.06-.94-2.06-.94L8.5 2.5l-.94 2.06-2.06.94zm10 10l.94 2.06.94-2.06 2.06-.94-2.06-.94-.94-2.06-.94 2.06-2.06.94z\"/><path d=\"M17.41 7.96l-1.37-1.37c-.4-.4-.92-.59-1.43-.59-.52 0-1.04.2-1.43.59L10.3 9.45l-7.72 7.72c-.78.78-.78 2.05 0 2.83L4 21.41c.39.39.9.59 1.41.59.51 0 1.02-.2 1.41-.59l7.78-7.78 2.81-2.81c.8-.78.8-2.07 0-2.86zM5.41 20L4 18.59l7.72-7.72 1.47 1.35L5.41 20z\"/>\n",
              "  </svg>\n",
              "      </button>\n",
              "      \n",
              "  <style>\n",
              "    .colab-df-container {\n",
              "      display:flex;\n",
              "      flex-wrap:wrap;\n",
              "      gap: 12px;\n",
              "    }\n",
              "\n",
              "    .colab-df-convert {\n",
              "      background-color: #E8F0FE;\n",
              "      border: none;\n",
              "      border-radius: 50%;\n",
              "      cursor: pointer;\n",
              "      display: none;\n",
              "      fill: #1967D2;\n",
              "      height: 32px;\n",
              "      padding: 0 0 0 0;\n",
              "      width: 32px;\n",
              "    }\n",
              "\n",
              "    .colab-df-convert:hover {\n",
              "      background-color: #E2EBFA;\n",
              "      box-shadow: 0px 1px 2px rgba(60, 64, 67, 0.3), 0px 1px 3px 1px rgba(60, 64, 67, 0.15);\n",
              "      fill: #174EA6;\n",
              "    }\n",
              "\n",
              "    [theme=dark] .colab-df-convert {\n",
              "      background-color: #3B4455;\n",
              "      fill: #D2E3FC;\n",
              "    }\n",
              "\n",
              "    [theme=dark] .colab-df-convert:hover {\n",
              "      background-color: #434B5C;\n",
              "      box-shadow: 0px 1px 3px 1px rgba(0, 0, 0, 0.15);\n",
              "      filter: drop-shadow(0px 1px 2px rgba(0, 0, 0, 0.3));\n",
              "      fill: #FFFFFF;\n",
              "    }\n",
              "  </style>\n",
              "\n",
              "      <script>\n",
              "        const buttonEl =\n",
              "          document.querySelector('#df-01d61839-e92c-4f4b-8ba4-eaf5d0e0017d button.colab-df-convert');\n",
              "        buttonEl.style.display =\n",
              "          google.colab.kernel.accessAllowed ? 'block' : 'none';\n",
              "\n",
              "        async function convertToInteractive(key) {\n",
              "          const element = document.querySelector('#df-01d61839-e92c-4f4b-8ba4-eaf5d0e0017d');\n",
              "          const dataTable =\n",
              "            await google.colab.kernel.invokeFunction('convertToInteractive',\n",
              "                                                     [key], {});\n",
              "          if (!dataTable) return;\n",
              "\n",
              "          const docLinkHtml = 'Like what you see? Visit the ' +\n",
              "            '<a target=\"_blank\" href=https://colab.research.google.com/notebooks/data_table.ipynb>data table notebook</a>'\n",
              "            + ' to learn more about interactive tables.';\n",
              "          element.innerHTML = '';\n",
              "          dataTable['output_type'] = 'display_data';\n",
              "          await google.colab.output.renderOutput(dataTable, element);\n",
              "          const docLink = document.createElement('div');\n",
              "          docLink.innerHTML = docLinkHtml;\n",
              "          element.appendChild(docLink);\n",
              "        }\n",
              "      </script>\n",
              "    </div>\n",
              "  </div>\n",
              "  "
            ]
          },
          "metadata": {},
          "execution_count": 49
        }
      ]
    },
    {
      "cell_type": "code",
      "source": [
        "news.tail()"
      ],
      "metadata": {
        "id": "u080QMjNIS-T",
        "colab": {
          "base_uri": "https://localhost:8080/",
          "height": 206
        },
        "outputId": "3b57b48b-ff18-419d-94d7-a723157d14dc"
      },
      "execution_count": 50,
      "outputs": [
        {
          "output_type": "execute_result",
          "data": {
            "text/plain": [
              "                     id                                           news_url  \\\n",
              "22135  gossipcop-891749  https://omgcheckitout.com/2017-hollywood-film-...   \n",
              "22136  gossipcop-941486  https://pagesix.com/2018/06/04/jada-pinkett-sm...   \n",
              "22137  gossipcop-953143  https://www.etonline.com/tinsley-mortimer-reac...   \n",
              "22138  gossipcop-954366  https://www.healthbreakingnews.net/2018/07/pri...   \n",
              "22139  gossipcop-877062  https://www.cosmopolitan.com/uk/entertainment/...   \n",
              "\n",
              "                                                   title  \\\n",
              "22135  2017 Hollywood Film Awards: The Complete List ...   \n",
              "22136  Jada Pinkett Smith explains why son Jaden move...   \n",
              "22137  Tinsley Mortimer Reacts to Luann de Lesseps' R...   \n",
              "22138  Prince Harry Carries on Princess Diana’s Legac...   \n",
              "22139  Kylie Jenner is actually terrified of butterflies   \n",
              "\n",
              "                                               tweet_ids  labelML  \n",
              "22135  927385466357260288\\t927386601034010625\\t927387...        1  \n",
              "22136  1004044947006386178\\t1004045964401889285\\t1004...        1  \n",
              "22137  1019924845889572864\\t1019925702676709377\\t1019...        1  \n",
              "22138  1021766291139584000\\t1021772054599802880\\t1021...        1  \n",
              "22139                                                NaN        1  "
            ],
            "text/html": [
              "\n",
              "  <div id=\"df-24123f4f-682d-4554-95a9-d289d97f360a\">\n",
              "    <div class=\"colab-df-container\">\n",
              "      <div>\n",
              "<style scoped>\n",
              "    .dataframe tbody tr th:only-of-type {\n",
              "        vertical-align: middle;\n",
              "    }\n",
              "\n",
              "    .dataframe tbody tr th {\n",
              "        vertical-align: top;\n",
              "    }\n",
              "\n",
              "    .dataframe thead th {\n",
              "        text-align: right;\n",
              "    }\n",
              "</style>\n",
              "<table border=\"1\" class=\"dataframe\">\n",
              "  <thead>\n",
              "    <tr style=\"text-align: right;\">\n",
              "      <th></th>\n",
              "      <th>id</th>\n",
              "      <th>news_url</th>\n",
              "      <th>title</th>\n",
              "      <th>tweet_ids</th>\n",
              "      <th>labelML</th>\n",
              "    </tr>\n",
              "  </thead>\n",
              "  <tbody>\n",
              "    <tr>\n",
              "      <th>22135</th>\n",
              "      <td>gossipcop-891749</td>\n",
              "      <td>https://omgcheckitout.com/2017-hollywood-film-...</td>\n",
              "      <td>2017 Hollywood Film Awards: The Complete List ...</td>\n",
              "      <td>927385466357260288\\t927386601034010625\\t927387...</td>\n",
              "      <td>1</td>\n",
              "    </tr>\n",
              "    <tr>\n",
              "      <th>22136</th>\n",
              "      <td>gossipcop-941486</td>\n",
              "      <td>https://pagesix.com/2018/06/04/jada-pinkett-sm...</td>\n",
              "      <td>Jada Pinkett Smith explains why son Jaden move...</td>\n",
              "      <td>1004044947006386178\\t1004045964401889285\\t1004...</td>\n",
              "      <td>1</td>\n",
              "    </tr>\n",
              "    <tr>\n",
              "      <th>22137</th>\n",
              "      <td>gossipcop-953143</td>\n",
              "      <td>https://www.etonline.com/tinsley-mortimer-reac...</td>\n",
              "      <td>Tinsley Mortimer Reacts to Luann de Lesseps' R...</td>\n",
              "      <td>1019924845889572864\\t1019925702676709377\\t1019...</td>\n",
              "      <td>1</td>\n",
              "    </tr>\n",
              "    <tr>\n",
              "      <th>22138</th>\n",
              "      <td>gossipcop-954366</td>\n",
              "      <td>https://www.healthbreakingnews.net/2018/07/pri...</td>\n",
              "      <td>Prince Harry Carries on Princess Diana’s Legac...</td>\n",
              "      <td>1021766291139584000\\t1021772054599802880\\t1021...</td>\n",
              "      <td>1</td>\n",
              "    </tr>\n",
              "    <tr>\n",
              "      <th>22139</th>\n",
              "      <td>gossipcop-877062</td>\n",
              "      <td>https://www.cosmopolitan.com/uk/entertainment/...</td>\n",
              "      <td>Kylie Jenner is actually terrified of butterflies</td>\n",
              "      <td>NaN</td>\n",
              "      <td>1</td>\n",
              "    </tr>\n",
              "  </tbody>\n",
              "</table>\n",
              "</div>\n",
              "      <button class=\"colab-df-convert\" onclick=\"convertToInteractive('df-24123f4f-682d-4554-95a9-d289d97f360a')\"\n",
              "              title=\"Convert this dataframe to an interactive table.\"\n",
              "              style=\"display:none;\">\n",
              "        \n",
              "  <svg xmlns=\"http://www.w3.org/2000/svg\" height=\"24px\"viewBox=\"0 0 24 24\"\n",
              "       width=\"24px\">\n",
              "    <path d=\"M0 0h24v24H0V0z\" fill=\"none\"/>\n",
              "    <path d=\"M18.56 5.44l.94 2.06.94-2.06 2.06-.94-2.06-.94-.94-2.06-.94 2.06-2.06.94zm-11 1L8.5 8.5l.94-2.06 2.06-.94-2.06-.94L8.5 2.5l-.94 2.06-2.06.94zm10 10l.94 2.06.94-2.06 2.06-.94-2.06-.94-.94-2.06-.94 2.06-2.06.94z\"/><path d=\"M17.41 7.96l-1.37-1.37c-.4-.4-.92-.59-1.43-.59-.52 0-1.04.2-1.43.59L10.3 9.45l-7.72 7.72c-.78.78-.78 2.05 0 2.83L4 21.41c.39.39.9.59 1.41.59.51 0 1.02-.2 1.41-.59l7.78-7.78 2.81-2.81c.8-.78.8-2.07 0-2.86zM5.41 20L4 18.59l7.72-7.72 1.47 1.35L5.41 20z\"/>\n",
              "  </svg>\n",
              "      </button>\n",
              "      \n",
              "  <style>\n",
              "    .colab-df-container {\n",
              "      display:flex;\n",
              "      flex-wrap:wrap;\n",
              "      gap: 12px;\n",
              "    }\n",
              "\n",
              "    .colab-df-convert {\n",
              "      background-color: #E8F0FE;\n",
              "      border: none;\n",
              "      border-radius: 50%;\n",
              "      cursor: pointer;\n",
              "      display: none;\n",
              "      fill: #1967D2;\n",
              "      height: 32px;\n",
              "      padding: 0 0 0 0;\n",
              "      width: 32px;\n",
              "    }\n",
              "\n",
              "    .colab-df-convert:hover {\n",
              "      background-color: #E2EBFA;\n",
              "      box-shadow: 0px 1px 2px rgba(60, 64, 67, 0.3), 0px 1px 3px 1px rgba(60, 64, 67, 0.15);\n",
              "      fill: #174EA6;\n",
              "    }\n",
              "\n",
              "    [theme=dark] .colab-df-convert {\n",
              "      background-color: #3B4455;\n",
              "      fill: #D2E3FC;\n",
              "    }\n",
              "\n",
              "    [theme=dark] .colab-df-convert:hover {\n",
              "      background-color: #434B5C;\n",
              "      box-shadow: 0px 1px 3px 1px rgba(0, 0, 0, 0.15);\n",
              "      filter: drop-shadow(0px 1px 2px rgba(0, 0, 0, 0.3));\n",
              "      fill: #FFFFFF;\n",
              "    }\n",
              "  </style>\n",
              "\n",
              "      <script>\n",
              "        const buttonEl =\n",
              "          document.querySelector('#df-24123f4f-682d-4554-95a9-d289d97f360a button.colab-df-convert');\n",
              "        buttonEl.style.display =\n",
              "          google.colab.kernel.accessAllowed ? 'block' : 'none';\n",
              "\n",
              "        async function convertToInteractive(key) {\n",
              "          const element = document.querySelector('#df-24123f4f-682d-4554-95a9-d289d97f360a');\n",
              "          const dataTable =\n",
              "            await google.colab.kernel.invokeFunction('convertToInteractive',\n",
              "                                                     [key], {});\n",
              "          if (!dataTable) return;\n",
              "\n",
              "          const docLinkHtml = 'Like what you see? Visit the ' +\n",
              "            '<a target=\"_blank\" href=https://colab.research.google.com/notebooks/data_table.ipynb>data table notebook</a>'\n",
              "            + ' to learn more about interactive tables.';\n",
              "          element.innerHTML = '';\n",
              "          dataTable['output_type'] = 'display_data';\n",
              "          await google.colab.output.renderOutput(dataTable, element);\n",
              "          const docLink = document.createElement('div');\n",
              "          docLink.innerHTML = docLinkHtml;\n",
              "          element.appendChild(docLink);\n",
              "        }\n",
              "      </script>\n",
              "    </div>\n",
              "  </div>\n",
              "  "
            ]
          },
          "metadata": {},
          "execution_count": 50
        }
      ]
    },
    {
      "cell_type": "code",
      "source": [
        "news = news.drop(['tweet_ids', 'news_url','id'], axis=1)\n",
        "\n",
        "assert not news.isna().any().any()\n",
        "news.count()"
      ],
      "metadata": {
        "id": "bKsgv1uaITAo",
        "outputId": "6e2f1d19-c598-46a1-f035-0b4888cf658a",
        "colab": {
          "base_uri": "https://localhost:8080/"
        }
      },
      "execution_count": 51,
      "outputs": [
        {
          "output_type": "execute_result",
          "data": {
            "text/plain": [
              "title      22140\n",
              "labelML    22140\n",
              "dtype: int64"
            ]
          },
          "metadata": {},
          "execution_count": 51
        }
      ]
    },
    {
      "cell_type": "code",
      "source": [
        "news.dtypes"
      ],
      "metadata": {
        "id": "toXWp7TGJSZc",
        "colab": {
          "base_uri": "https://localhost:8080/"
        },
        "outputId": "fb46252a-6f3e-485b-c9c7-56af0d8dac58"
      },
      "execution_count": 52,
      "outputs": [
        {
          "output_type": "execute_result",
          "data": {
            "text/plain": [
              "title      object\n",
              "labelML     int64\n",
              "dtype: object"
            ]
          },
          "metadata": {},
          "execution_count": 52
        }
      ]
    },
    {
      "cell_type": "code",
      "source": [
        "import nltk\n",
        "nltk.download('stopwords')\n",
        "\n",
        "stop = set(stopwords.words('english'))\n",
        "punctuation = list(string.punctuation)\n",
        "stop.update(punctuation)"
      ],
      "metadata": {
        "id": "7A0mIde_JSkM",
        "colab": {
          "base_uri": "https://localhost:8080/"
        },
        "outputId": "bf69c624-d263-4ba8-ef88-eb534df838cb"
      },
      "execution_count": 53,
      "outputs": [
        {
          "output_type": "stream",
          "name": "stderr",
          "text": [
            "[nltk_data] Downloading package stopwords to /root/nltk_data...\n",
            "[nltk_data]   Package stopwords is already up-to-date!\n"
          ]
        }
      ]
    },
    {
      "cell_type": "code",
      "source": [
        "def strip_html(text):\n",
        "    soup = BeautifulSoup(text, \"html.parser\")\n",
        "    return soup.get_text()\n",
        "\n",
        "#Removing the square brackets\n",
        "def remove_between_square_brackets(text):\n",
        "    return re.sub('\\[[^]]*\\]', '', text)\n",
        "# Removing URL's\n",
        "def remove_between_square_brackets(text):\n",
        "    return re.sub(r'http\\S+', '', text)\n",
        "#Removing the stopwords from text\n",
        "def remove_stopwords(text):\n",
        "    final_text = []\n",
        "    for i in text.split():\n",
        "        if i.strip().lower() not in stop:\n",
        "            final_text.append(i.strip())\n",
        "    return \" \".join(final_text)\n",
        "#Removing the noisy text\n",
        "def denoise_text(text):\n",
        "    text = strip_html(text)\n",
        "    text = remove_between_square_brackets(text)\n",
        "    text = remove_stopwords(text)\n",
        "    return text\n",
        "#Apply function on review column\n",
        "news['title']= news['title'].apply(denoise_text)"
      ],
      "metadata": {
        "id": "3szcamzHJSnN"
      },
      "execution_count": 54,
      "outputs": []
    },
    {
      "cell_type": "code",
      "source": [
        "#Splitting the data into 2 parts - training and testing data\n",
        "X_train, X_test,y_train,y_test = train_test_split(news.title,news.labelML,test_size=0.3,random_state=42)\n"
      ],
      "metadata": {
        "id": "zs_xR289Koi-"
      },
      "execution_count": 55,
      "outputs": []
    },
    {
      "cell_type": "code",
      "source": [
        "#Tokenizing Text -> Repsesenting each word by a number\n",
        "tokenizer = text.Tokenizer(oov_token=\"<unk>\")\n",
        "tokenizer.fit_on_texts(X_train)\n",
        "tokenized_train = tokenizer.texts_to_sequences(X_train)\n",
        "\n"
      ],
      "metadata": {
        "id": "p4YesU-aKold"
      },
      "execution_count": 56,
      "outputs": []
    },
    {
      "cell_type": "code",
      "source": [
        "max_len = max(map(len, tokenized_train))"
      ],
      "metadata": {
        "id": "9wpbxg4Mg84S"
      },
      "execution_count": 57,
      "outputs": []
    },
    {
      "cell_type": "code",
      "source": [
        "max(tokenizer.word_index.values())"
      ],
      "metadata": {
        "id": "qJcq1rQ1g87t",
        "colab": {
          "base_uri": "https://localhost:8080/"
        },
        "outputId": "7b24fdc0-b380-4140-b645-a15c7b69d87e"
      },
      "execution_count": 58,
      "outputs": [
        {
          "output_type": "execute_result",
          "data": {
            "text/plain": [
              "19268"
            ]
          },
          "metadata": {},
          "execution_count": 58
        }
      ]
    },
    {
      "cell_type": "code",
      "source": [
        "X_train = sequence.pad_sequences(tokenized_train, maxlen=max_len)\n",
        "tokenized_test = tokenizer.texts_to_sequences(X_test)\n",
        "X_test = sequence.pad_sequences(tokenized_test, maxlen=max_len)"
      ],
      "metadata": {
        "id": "BytT7j9WKon0"
      },
      "execution_count": 59,
      "outputs": []
    },
    {
      "cell_type": "code",
      "source": [
        "#!wget https://nlp.stanford.edu/data/glove.6B.zip && unzip glove.6B.zip glove.6B.300d.txt"
      ],
      "metadata": {
        "id": "tqPP0wHLDAIA"
      },
      "execution_count": 60,
      "outputs": []
    },
    {
      "cell_type": "code",
      "source": [
        "#Glove\n",
        "EMBEDDING_FILE = '/content/drive/MyDrive/glove.6B.300d.txt' #'./glove.6B.300d.txt' "
      ],
      "metadata": {
        "id": "x55QJkmDq4m-"
      },
      "execution_count": 67,
      "outputs": []
    },
    {
      "cell_type": "code",
      "source": [
        "def get_coefs(word, *arr): \n",
        "    return word, np.asarray(arr, dtype='float32')\n",
        "embeddings_index = dict(get_coefs(*o.rstrip().rsplit(' ')) for o in open(EMBEDDING_FILE))"
      ],
      "metadata": {
        "id": "_Vffhw8WKotN"
      },
      "execution_count": 68,
      "outputs": []
    },
    {
      "cell_type": "code",
      "source": [
        "len(embeddings_index['question'])"
      ],
      "metadata": {
        "id": "vW6ZqHMDdciO",
        "colab": {
          "base_uri": "https://localhost:8080/"
        },
        "outputId": "acd15a6e-2d6e-4992-9c7b-1da5c8c415c3"
      },
      "execution_count": 70,
      "outputs": [
        {
          "output_type": "execute_result",
          "data": {
            "text/plain": [
              "300"
            ]
          },
          "metadata": {},
          "execution_count": 70
        }
      ]
    },
    {
      "cell_type": "markdown",
      "source": [
        "from tensorflow.python.ops.array_ops import zeros\n",
        "from pandas.core.arrays.sparse import array\n",
        "1. form an empty list, holds embedding confusion_matrix\n",
        ".. add empty array to array of zeros- padding token\n",
        "2. iterate from smaller toekn no to biggest token no 0....n, token[0]=empty array\n",
        "3. for each no, find what is the word and look it up in the all_embs, then append to embedding emb matrix\n"
      ],
      "metadata": {
        "id": "7o5ykTK-z-f2"
      }
    },
    {
      "cell_type": "code",
      "source": [
        "emb_matrix=list()\n",
        "emb_matrix.append(np.zeros(300,dtype=np.float32))\n",
        "for i in range(1,max(tokenizer.word_index.values())+1):\n",
        "  word = tokenizer.index_word[i]\n",
        "  if word not in embeddings_index:\n",
        "    emb_matrix.append(np.zeros(300,dtype=np.float32))\n",
        "  else: \n",
        "    emb_matrix.append(embeddings_index[word]) "
      ],
      "metadata": {
        "id": "18kZxkq9h6yD"
      },
      "execution_count": 71,
      "outputs": []
    },
    {
      "cell_type": "code",
      "source": [
        "emb_matrix[:3]"
      ],
      "metadata": {
        "id": "R_L4QZfwew0J",
        "colab": {
          "base_uri": "https://localhost:8080/"
        },
        "outputId": "ab96ecf5-928c-4502-c91d-b539bf662de6"
      },
      "execution_count": 72,
      "outputs": [
        {
          "output_type": "execute_result",
          "data": {
            "text/plain": [
              "[array([0., 0., 0., 0., 0., 0., 0., 0., 0., 0., 0., 0., 0., 0., 0., 0., 0.,\n",
              "        0., 0., 0., 0., 0., 0., 0., 0., 0., 0., 0., 0., 0., 0., 0., 0., 0.,\n",
              "        0., 0., 0., 0., 0., 0., 0., 0., 0., 0., 0., 0., 0., 0., 0., 0., 0.,\n",
              "        0., 0., 0., 0., 0., 0., 0., 0., 0., 0., 0., 0., 0., 0., 0., 0., 0.,\n",
              "        0., 0., 0., 0., 0., 0., 0., 0., 0., 0., 0., 0., 0., 0., 0., 0., 0.,\n",
              "        0., 0., 0., 0., 0., 0., 0., 0., 0., 0., 0., 0., 0., 0., 0., 0., 0.,\n",
              "        0., 0., 0., 0., 0., 0., 0., 0., 0., 0., 0., 0., 0., 0., 0., 0., 0.,\n",
              "        0., 0., 0., 0., 0., 0., 0., 0., 0., 0., 0., 0., 0., 0., 0., 0., 0.,\n",
              "        0., 0., 0., 0., 0., 0., 0., 0., 0., 0., 0., 0., 0., 0., 0., 0., 0.,\n",
              "        0., 0., 0., 0., 0., 0., 0., 0., 0., 0., 0., 0., 0., 0., 0., 0., 0.,\n",
              "        0., 0., 0., 0., 0., 0., 0., 0., 0., 0., 0., 0., 0., 0., 0., 0., 0.,\n",
              "        0., 0., 0., 0., 0., 0., 0., 0., 0., 0., 0., 0., 0., 0., 0., 0., 0.,\n",
              "        0., 0., 0., 0., 0., 0., 0., 0., 0., 0., 0., 0., 0., 0., 0., 0., 0.,\n",
              "        0., 0., 0., 0., 0., 0., 0., 0., 0., 0., 0., 0., 0., 0., 0., 0., 0.,\n",
              "        0., 0., 0., 0., 0., 0., 0., 0., 0., 0., 0., 0., 0., 0., 0., 0., 0.,\n",
              "        0., 0., 0., 0., 0., 0., 0., 0., 0., 0., 0., 0., 0., 0., 0., 0., 0.,\n",
              "        0., 0., 0., 0., 0., 0., 0., 0., 0., 0., 0., 0., 0., 0., 0., 0., 0.,\n",
              "        0., 0., 0., 0., 0., 0., 0., 0., 0., 0., 0.], dtype=float32),\n",
              " array([0., 0., 0., 0., 0., 0., 0., 0., 0., 0., 0., 0., 0., 0., 0., 0., 0.,\n",
              "        0., 0., 0., 0., 0., 0., 0., 0., 0., 0., 0., 0., 0., 0., 0., 0., 0.,\n",
              "        0., 0., 0., 0., 0., 0., 0., 0., 0., 0., 0., 0., 0., 0., 0., 0., 0.,\n",
              "        0., 0., 0., 0., 0., 0., 0., 0., 0., 0., 0., 0., 0., 0., 0., 0., 0.,\n",
              "        0., 0., 0., 0., 0., 0., 0., 0., 0., 0., 0., 0., 0., 0., 0., 0., 0.,\n",
              "        0., 0., 0., 0., 0., 0., 0., 0., 0., 0., 0., 0., 0., 0., 0., 0., 0.,\n",
              "        0., 0., 0., 0., 0., 0., 0., 0., 0., 0., 0., 0., 0., 0., 0., 0., 0.,\n",
              "        0., 0., 0., 0., 0., 0., 0., 0., 0., 0., 0., 0., 0., 0., 0., 0., 0.,\n",
              "        0., 0., 0., 0., 0., 0., 0., 0., 0., 0., 0., 0., 0., 0., 0., 0., 0.,\n",
              "        0., 0., 0., 0., 0., 0., 0., 0., 0., 0., 0., 0., 0., 0., 0., 0., 0.,\n",
              "        0., 0., 0., 0., 0., 0., 0., 0., 0., 0., 0., 0., 0., 0., 0., 0., 0.,\n",
              "        0., 0., 0., 0., 0., 0., 0., 0., 0., 0., 0., 0., 0., 0., 0., 0., 0.,\n",
              "        0., 0., 0., 0., 0., 0., 0., 0., 0., 0., 0., 0., 0., 0., 0., 0., 0.,\n",
              "        0., 0., 0., 0., 0., 0., 0., 0., 0., 0., 0., 0., 0., 0., 0., 0., 0.,\n",
              "        0., 0., 0., 0., 0., 0., 0., 0., 0., 0., 0., 0., 0., 0., 0., 0., 0.,\n",
              "        0., 0., 0., 0., 0., 0., 0., 0., 0., 0., 0., 0., 0., 0., 0., 0., 0.,\n",
              "        0., 0., 0., 0., 0., 0., 0., 0., 0., 0., 0., 0., 0., 0., 0., 0., 0.,\n",
              "        0., 0., 0., 0., 0., 0., 0., 0., 0., 0., 0.], dtype=float32),\n",
              " array([-6.2333e-01, -4.2434e-01, -3.5321e-02, -2.6693e-02,  2.3120e-01,\n",
              "         1.7631e-01,  2.8722e-01, -2.4921e-01,  2.2212e-01, -1.6780e+00,\n",
              "         3.7103e-01, -1.1762e-01,  7.7491e-02,  9.0667e-02,  3.9790e-01,\n",
              "         6.2393e-01, -4.6144e-01, -9.5078e-02,  9.2384e-02, -1.4494e-02,\n",
              "        -3.6806e-01,  3.7096e-01,  4.9309e-01,  3.6888e-01,  1.0793e-01,\n",
              "         1.7544e-01,  2.5030e-01,  4.4187e-01, -1.1506e-01,  1.0503e-01,\n",
              "         2.0957e-01,  1.9104e-01, -1.7090e-01,  8.9148e-01, -1.0973e+00,\n",
              "         4.5797e-01,  1.7506e-01, -1.4931e-04,  3.5701e-01,  1.5610e-01,\n",
              "        -2.0892e-01,  5.3822e-01, -3.1083e-01,  3.9404e-01,  2.9395e-02,\n",
              "         3.4538e-01, -2.3040e-02,  3.6526e-01, -9.1282e-02, -2.4338e-01,\n",
              "        -9.7490e-02, -5.9859e-01, -1.5199e-01, -2.7588e-01, -4.4608e-02,\n",
              "         1.3343e-02, -1.7576e-01,  6.6883e-02,  1.2440e-01, -4.1805e-01,\n",
              "         9.1045e-02,  1.0094e-01,  2.7680e-01, -3.4494e-01,  3.8171e-01,\n",
              "         1.6173e-01,  3.3254e-01, -2.5571e-01,  1.1421e-01,  1.1263e-01,\n",
              "        -6.4870e-02,  1.8191e-01, -4.0583e-02,  4.4194e-03, -4.0280e-01,\n",
              "         2.2875e-01, -4.8651e-01,  2.0342e-01, -1.3837e-01, -2.7807e-02,\n",
              "        -4.0996e-01,  1.7771e-01, -5.8229e-03, -1.0168e-01,  2.1132e-02,\n",
              "         1.4129e-01,  1.1464e-01, -4.0138e-01,  3.7798e-01, -1.9581e-01,\n",
              "         1.3855e-01, -3.0581e-01,  2.0365e-01, -3.7313e-01, -7.1853e-01,\n",
              "        -3.4696e-01, -7.9949e-01, -4.3267e-01,  1.8972e-01, -5.8428e-01,\n",
              "        -8.9209e-02,  2.3599e-01,  2.2807e-01, -1.2161e-01, -7.8572e-02,\n",
              "        -2.9761e-01,  3.5760e-01,  4.8434e-01,  5.7360e-02,  6.1779e-02,\n",
              "         6.2813e-01, -1.0907e-01, -6.6463e-01, -1.3922e-01,  1.3837e-01,\n",
              "        -1.1042e-01, -1.7531e-01,  1.4530e-01,  3.3204e-03, -9.3726e-01,\n",
              "         3.4386e-01, -2.6018e-01, -1.1917e-01,  2.0453e-01, -1.1092e-01,\n",
              "        -3.5100e-01,  2.1743e-01, -4.6176e-02,  9.4035e-02, -1.4177e-01,\n",
              "         3.1232e-01,  1.1681e-01, -5.6011e-02, -3.2107e-01,  1.1948e-01,\n",
              "        -2.9672e-02,  9.1405e-03, -2.4925e-02, -1.9246e-01,  1.7617e-02,\n",
              "        -2.8366e-01,  1.6294e-02,  1.6605e-01,  2.7107e-01, -4.1828e-01,\n",
              "         1.2791e-01, -1.7348e-01,  4.5633e-02, -2.1362e-01, -9.8511e-02,\n",
              "         8.1756e-01, -1.6544e-01,  1.6803e-01, -8.9451e-02,  1.7107e-01,\n",
              "        -2.9946e-02, -8.3150e-01,  2.0279e-01, -1.4591e-01, -2.4494e-01,\n",
              "         5.7916e-01,  2.6843e-02, -6.0915e-01,  2.1700e-01, -2.1601e-01,\n",
              "         9.8120e-02,  1.8690e-01,  2.8011e-01,  1.1309e-01,  9.5148e-02,\n",
              "         1.6718e-01, -1.7299e-01, -7.7863e-01,  4.9693e-01, -8.8093e-02,\n",
              "        -1.2110e-01,  8.1590e-01, -3.3868e-01, -1.5790e-01,  3.2240e-01,\n",
              "         1.0812e-01,  4.1685e-01,  3.4886e-01,  2.0563e-01,  1.0629e-01,\n",
              "         1.0475e-01, -4.6482e-01, -2.3170e-01,  1.7055e-01, -3.6993e-01,\n",
              "         1.7078e-01,  2.6872e-01,  8.6361e-04, -1.9947e-02, -1.5615e-01,\n",
              "         5.3355e-02, -7.8258e-02, -1.3426e-01, -3.5860e-02,  4.8269e-01,\n",
              "         6.5611e-01,  3.7293e-01, -1.2687e-01, -2.0077e-01, -1.2776e-01,\n",
              "        -1.1849e-01, -7.3055e-02,  6.1109e-01, -9.6248e-02, -1.3414e-01,\n",
              "        -1.3632e-01, -1.8696e-01,  3.7692e-01,  1.4634e-01, -1.2757e-01,\n",
              "        -3.3056e-01,  9.0971e-02,  3.4136e-01, -1.9732e-01, -1.0375e-01,\n",
              "         6.4241e-01,  3.1729e-01,  7.0839e-03,  6.1258e-01,  3.0718e-01,\n",
              "        -6.6504e-02,  3.6865e-01,  4.0577e-01, -3.4728e-01,  3.7603e-01,\n",
              "        -1.9706e-01,  3.2046e-01, -1.3319e-01,  3.2251e-01,  3.2251e-01,\n",
              "        -4.6048e-02,  2.8165e-01, -6.7550e-02,  1.6264e-01,  9.4879e-03,\n",
              "        -4.1441e-01, -3.0511e-01,  5.8839e-01,  3.2493e-01, -8.9047e-01,\n",
              "         3.1496e-03,  2.0549e-01, -2.2942e-01, -3.4868e-01,  2.7447e-02,\n",
              "         3.4776e-01, -2.9882e-01, -3.0771e-01,  3.9355e-01,  2.6713e-01,\n",
              "        -2.2932e-01,  4.6594e-02, -1.5041e-01,  3.6369e-01,  1.1948e-01,\n",
              "        -3.7471e-01, -2.1203e-01,  4.1945e-01,  1.8002e-01,  2.8413e-01,\n",
              "        -9.5694e-02, -7.2786e-02,  4.8981e-01, -2.6203e-01, -2.4184e-01,\n",
              "         4.7692e-02,  1.0932e-01,  2.4465e-02, -7.6462e-02,  3.0095e-01,\n",
              "         6.7031e-01, -2.0557e+00,  2.4284e-01,  5.6468e-01,  4.5036e-01,\n",
              "        -2.5781e-01, -2.7406e-02, -4.8791e-02,  6.2385e-02, -2.7711e-01,\n",
              "         5.7464e-02, -5.3527e-01,  7.8191e-01, -3.8200e-02, -5.1820e-01,\n",
              "        -3.6521e-01, -9.0286e-01, -4.2851e-01,  1.0705e-01,  3.8003e-02,\n",
              "         6.8034e-01, -4.0102e-02, -1.3613e-01,  9.8680e-02,  6.0900e-01],\n",
              "       dtype=float32)]"
            ]
          },
          "metadata": {},
          "execution_count": 72
        }
      ]
    },
    {
      "cell_type": "markdown",
      "source": [
        ""
      ],
      "metadata": {
        "id": "FgWdyvtqe_xA"
      }
    },
    {
      "cell_type": "code",
      "source": [
        "emb_matrix = np.stack(emb_matrix, axis=0)\n",
        "emb_matrix.shape"
      ],
      "metadata": {
        "id": "rAZ9NP8lmJ4H",
        "colab": {
          "base_uri": "https://localhost:8080/"
        },
        "outputId": "1ccc8f4b-e368-43aa-9dc2-9a43a25e81f3"
      },
      "execution_count": 73,
      "outputs": [
        {
          "output_type": "execute_result",
          "data": {
            "text/plain": [
              "(19269, 300)"
            ]
          },
          "metadata": {},
          "execution_count": 73
        }
      ]
    },
    {
      "cell_type": "markdown",
      "source": [
        ""
      ],
      "metadata": {
        "id": "0RYjT6il0MV2"
      }
    },
    {
      "cell_type": "markdown",
      "source": [
        ""
      ],
      "metadata": {
        "id": "Mfo3GRHh67AP"
      }
    },
    {
      "cell_type": "code",
      "source": [
        "batch_size = 256\n",
        "epochs = 200\n",
        "embed_size = 50\n",
        "# tf.compat.v1.GPUOptions(per_process_gpu_memory_fraction=0.333)"
      ],
      "metadata": {
        "id": "w9jp24CXPrB5"
      },
      "execution_count": 74,
      "outputs": []
    },
    {
      "cell_type": "code",
      "source": [
        "#with Gabriel\n",
        "#Defining Neural Network\n",
        "# model = Sequential()\n",
        "#Non-trainable embeddidng layer\n",
        "# model.add(Embedding(max_features, output_dim=embed_size, weights=[embedding_matrix], input_length=maxlen, trainable=False))\n",
        "#LSTM \n",
        "# model.add(LSTM(units=128 , return_sequences = True))\n",
        "# model.add(Dropout(0.2))\n",
        "# model.add(LSTM(units=64))\n",
        "# model.add(Dropout(0.1))\n",
        "# model.add(Dense(units = 32 , activation = 'relu'))\n",
        "# model.add(Dense(1, activation='sigmoid'))\n",
        "# model.compile(optimizer='adam', loss='binary_crossentropy', metrics=['accuracy'])\n",
        "# emb_matrix2 = np.array(emb_matrix)\n",
        "#Hybrid Neural Network\n",
        "model = tf.keras.Sequential([\n",
        "    tf.keras.layers.Embedding(emb_matrix.shape[0], output_dim=emb_matrix.shape[1], weights=[emb_matrix],trainable=False, mask_zero=True),\n",
        "    tf.keras.layers.Dropout(0.2),\n",
        "    tf.keras.layers.Conv1D(256, 5, activation='relu'),\n",
        "    tf.keras.layers.MaxPooling1D(pool_size=4),\n",
        "    tf.keras.layers.LSTM(20, return_sequences=True),\n",
        "    tf.keras.layers.LSTM(20),\n",
        "    tf.keras.layers.Dropout(0.5),  \n",
        "    tf.keras.layers.Dense(64),\n",
        "    tf.keras.layers.Dropout(0.4),  \n",
        "    tf.keras.layers.Dense(128),\n",
        "    tf.keras.layers.Dropout(0.1),\n",
        "    tf.keras.layers.Dense(1, activation='sigmoid')\n",
        "])\n"
      ],
      "metadata": {
        "id": "-_V-I0VdTezQ"
      },
      "execution_count": 75,
      "outputs": []
    },
    {
      "cell_type": "code",
      "source": [
        "model.compile(loss='binary_crossentropy',optimizer='adam',metrics=['accuracy'])"
      ],
      "metadata": {
        "id": "iQA3AW4RPrHh"
      },
      "execution_count": 76,
      "outputs": []
    },
    {
      "cell_type": "code",
      "source": [
        "model.summary()"
      ],
      "metadata": {
        "id": "1QVtqhPDL8KQ",
        "colab": {
          "base_uri": "https://localhost:8080/"
        },
        "outputId": "ae3af8b4-f4da-4b9c-ca1b-51f73fa76883"
      },
      "execution_count": 77,
      "outputs": [
        {
          "output_type": "stream",
          "name": "stdout",
          "text": [
            "Model: \"sequential_3\"\n",
            "_________________________________________________________________\n",
            " Layer (type)                Output Shape              Param #   \n",
            "=================================================================\n",
            " embedding_3 (Embedding)     (None, None, 300)         5780700   \n",
            "                                                                 \n",
            " dropout_11 (Dropout)        (None, None, 300)         0         \n",
            "                                                                 \n",
            " conv1d_3 (Conv1D)           (None, None, 256)         384256    \n",
            "                                                                 \n",
            " max_pooling1d_2 (MaxPooling  (None, None, 256)        0         \n",
            " 1D)                                                             \n",
            "                                                                 \n",
            " lstm_6 (LSTM)               (None, None, 20)          22160     \n",
            "                                                                 \n",
            " lstm_7 (LSTM)               (None, 20)                3280      \n",
            "                                                                 \n",
            " dropout_12 (Dropout)        (None, 20)                0         \n",
            "                                                                 \n",
            " dense_8 (Dense)             (None, 64)                1344      \n",
            "                                                                 \n",
            " dropout_13 (Dropout)        (None, 64)                0         \n",
            "                                                                 \n",
            " dense_9 (Dense)             (None, 128)               8320      \n",
            "                                                                 \n",
            " dropout_14 (Dropout)        (None, 128)               0         \n",
            "                                                                 \n",
            " dense_10 (Dense)            (None, 1)                 129       \n",
            "                                                                 \n",
            "=================================================================\n",
            "Total params: 6,200,189\n",
            "Trainable params: 419,489\n",
            "Non-trainable params: 5,780,700\n",
            "_________________________________________________________________\n"
          ]
        }
      ]
    },
    {
      "cell_type": "code",
      "source": [
        "history = model.fit(X_train, y_train, batch_size = batch_size , validation_data = (X_test, y_test), epochs=epochs)"
      ],
      "metadata": {
        "id": "FRqRKoPQL8Mk",
        "colab": {
          "base_uri": "https://localhost:8080/"
        },
        "outputId": "8235bf42-0830-4be9-fb06-fd23ef4affc7"
      },
      "execution_count": 78,
      "outputs": [
        {
          "output_type": "stream",
          "name": "stdout",
          "text": [
            "Epoch 1/200\n",
            "61/61 [==============================] - 5s 26ms/step - loss: 0.5149 - accuracy: 0.7711 - val_loss: 0.4320 - val_accuracy: 0.8106\n",
            "Epoch 2/200\n",
            "61/61 [==============================] - 1s 11ms/step - loss: 0.4209 - accuracy: 0.8204 - val_loss: 0.4068 - val_accuracy: 0.8246\n",
            "Epoch 3/200\n",
            "61/61 [==============================] - 1s 12ms/step - loss: 0.3680 - accuracy: 0.8449 - val_loss: 0.4024 - val_accuracy: 0.8293\n",
            "Epoch 4/200\n",
            "61/61 [==============================] - 1s 11ms/step - loss: 0.3059 - accuracy: 0.8737 - val_loss: 0.4276 - val_accuracy: 0.8154\n",
            "Epoch 5/200\n",
            "61/61 [==============================] - 1s 12ms/step - loss: 0.2542 - accuracy: 0.8981 - val_loss: 0.4636 - val_accuracy: 0.8305\n",
            "Epoch 6/200\n",
            "61/61 [==============================] - 1s 11ms/step - loss: 0.2002 - accuracy: 0.9208 - val_loss: 0.5186 - val_accuracy: 0.8228\n",
            "Epoch 7/200\n",
            "61/61 [==============================] - 1s 11ms/step - loss: 0.1632 - accuracy: 0.9359 - val_loss: 0.5349 - val_accuracy: 0.8234\n",
            "Epoch 8/200\n",
            "61/61 [==============================] - 1s 11ms/step - loss: 0.1356 - accuracy: 0.9479 - val_loss: 0.6362 - val_accuracy: 0.8234\n",
            "Epoch 9/200\n",
            "61/61 [==============================] - 1s 11ms/step - loss: 0.1223 - accuracy: 0.9537 - val_loss: 0.7434 - val_accuracy: 0.8196\n",
            "Epoch 10/200\n",
            "61/61 [==============================] - 1s 11ms/step - loss: 0.1095 - accuracy: 0.9585 - val_loss: 0.7300 - val_accuracy: 0.8132\n",
            "Epoch 11/200\n",
            "61/61 [==============================] - 1s 11ms/step - loss: 0.0938 - accuracy: 0.9657 - val_loss: 0.7680 - val_accuracy: 0.8153\n",
            "Epoch 12/200\n",
            "61/61 [==============================] - 1s 11ms/step - loss: 0.0887 - accuracy: 0.9672 - val_loss: 0.8091 - val_accuracy: 0.8210\n",
            "Epoch 13/200\n",
            "61/61 [==============================] - 1s 11ms/step - loss: 0.0842 - accuracy: 0.9686 - val_loss: 0.8853 - val_accuracy: 0.8248\n",
            "Epoch 14/200\n",
            "61/61 [==============================] - 1s 12ms/step - loss: 0.0821 - accuracy: 0.9688 - val_loss: 0.7802 - val_accuracy: 0.8106\n",
            "Epoch 15/200\n",
            "61/61 [==============================] - 1s 11ms/step - loss: 0.0718 - accuracy: 0.9723 - val_loss: 0.8696 - val_accuracy: 0.8017\n",
            "Epoch 16/200\n",
            "61/61 [==============================] - 1s 11ms/step - loss: 0.0692 - accuracy: 0.9746 - val_loss: 0.9309 - val_accuracy: 0.8175\n",
            "Epoch 17/200\n",
            "61/61 [==============================] - 1s 11ms/step - loss: 0.0686 - accuracy: 0.9755 - val_loss: 0.8659 - val_accuracy: 0.8129\n",
            "Epoch 18/200\n",
            "61/61 [==============================] - 1s 11ms/step - loss: 0.0617 - accuracy: 0.9774 - val_loss: 0.9400 - val_accuracy: 0.8098\n",
            "Epoch 19/200\n",
            "61/61 [==============================] - 1s 11ms/step - loss: 0.0671 - accuracy: 0.9754 - val_loss: 0.9581 - val_accuracy: 0.8177\n",
            "Epoch 20/200\n",
            "61/61 [==============================] - 1s 11ms/step - loss: 0.0661 - accuracy: 0.9746 - val_loss: 0.9148 - val_accuracy: 0.8118\n",
            "Epoch 21/200\n",
            "61/61 [==============================] - 1s 11ms/step - loss: 0.0556 - accuracy: 0.9783 - val_loss: 1.0372 - val_accuracy: 0.8109\n",
            "Epoch 22/200\n",
            "61/61 [==============================] - 1s 12ms/step - loss: 0.0579 - accuracy: 0.9779 - val_loss: 1.0145 - val_accuracy: 0.8124\n",
            "Epoch 23/200\n",
            "61/61 [==============================] - 1s 11ms/step - loss: 0.0562 - accuracy: 0.9780 - val_loss: 1.0897 - val_accuracy: 0.8226\n",
            "Epoch 24/200\n",
            "61/61 [==============================] - 1s 11ms/step - loss: 0.0504 - accuracy: 0.9799 - val_loss: 1.0630 - val_accuracy: 0.7957\n",
            "Epoch 25/200\n",
            "61/61 [==============================] - 1s 11ms/step - loss: 0.0538 - accuracy: 0.9796 - val_loss: 1.0618 - val_accuracy: 0.8086\n",
            "Epoch 26/200\n",
            "61/61 [==============================] - 1s 11ms/step - loss: 0.0516 - accuracy: 0.9788 - val_loss: 1.0845 - val_accuracy: 0.8243\n",
            "Epoch 27/200\n",
            "61/61 [==============================] - 1s 11ms/step - loss: 0.0513 - accuracy: 0.9800 - val_loss: 1.0334 - val_accuracy: 0.8166\n",
            "Epoch 28/200\n",
            "61/61 [==============================] - 1s 11ms/step - loss: 0.0491 - accuracy: 0.9806 - val_loss: 1.0275 - val_accuracy: 0.8082\n",
            "Epoch 29/200\n",
            "61/61 [==============================] - 1s 11ms/step - loss: 0.0519 - accuracy: 0.9798 - val_loss: 1.0569 - val_accuracy: 0.8169\n",
            "Epoch 30/200\n",
            "61/61 [==============================] - 1s 11ms/step - loss: 0.0499 - accuracy: 0.9799 - val_loss: 1.0976 - val_accuracy: 0.8205\n",
            "Epoch 31/200\n",
            "61/61 [==============================] - 1s 12ms/step - loss: 0.0487 - accuracy: 0.9801 - val_loss: 1.0602 - val_accuracy: 0.8067\n",
            "Epoch 32/200\n",
            "61/61 [==============================] - 1s 12ms/step - loss: 0.0530 - accuracy: 0.9786 - val_loss: 0.9887 - val_accuracy: 0.8086\n",
            "Epoch 33/200\n",
            "61/61 [==============================] - 1s 11ms/step - loss: 0.0467 - accuracy: 0.9814 - val_loss: 1.2141 - val_accuracy: 0.8062\n",
            "Epoch 34/200\n",
            "61/61 [==============================] - 1s 11ms/step - loss: 0.0461 - accuracy: 0.9814 - val_loss: 1.1360 - val_accuracy: 0.8091\n",
            "Epoch 35/200\n",
            "61/61 [==============================] - 1s 12ms/step - loss: 0.0577 - accuracy: 0.9773 - val_loss: 0.9252 - val_accuracy: 0.8035\n",
            "Epoch 36/200\n",
            "61/61 [==============================] - 1s 11ms/step - loss: 0.0491 - accuracy: 0.9806 - val_loss: 1.1261 - val_accuracy: 0.8059\n",
            "Epoch 37/200\n",
            "61/61 [==============================] - 1s 11ms/step - loss: 0.0499 - accuracy: 0.9804 - val_loss: 1.0770 - val_accuracy: 0.8162\n",
            "Epoch 38/200\n",
            "61/61 [==============================] - 1s 11ms/step - loss: 0.0481 - accuracy: 0.9796 - val_loss: 1.1648 - val_accuracy: 0.8168\n",
            "Epoch 39/200\n",
            "61/61 [==============================] - 1s 11ms/step - loss: 0.0439 - accuracy: 0.9808 - val_loss: 1.1973 - val_accuracy: 0.8172\n",
            "Epoch 40/200\n",
            "61/61 [==============================] - 1s 11ms/step - loss: 0.0488 - accuracy: 0.9810 - val_loss: 1.0645 - val_accuracy: 0.8086\n",
            "Epoch 41/200\n",
            "61/61 [==============================] - 1s 11ms/step - loss: 0.0439 - accuracy: 0.9817 - val_loss: 1.0751 - val_accuracy: 0.8046\n",
            "Epoch 42/200\n",
            "61/61 [==============================] - 1s 11ms/step - loss: 0.0434 - accuracy: 0.9823 - val_loss: 1.0850 - val_accuracy: 0.8142\n",
            "Epoch 43/200\n",
            "61/61 [==============================] - 1s 12ms/step - loss: 0.0467 - accuracy: 0.9814 - val_loss: 1.0475 - val_accuracy: 0.8139\n",
            "Epoch 44/200\n",
            "61/61 [==============================] - 1s 11ms/step - loss: 0.0446 - accuracy: 0.9810 - val_loss: 1.2703 - val_accuracy: 0.8162\n",
            "Epoch 45/200\n",
            "61/61 [==============================] - 1s 11ms/step - loss: 0.0413 - accuracy: 0.9817 - val_loss: 1.1578 - val_accuracy: 0.8142\n",
            "Epoch 46/200\n",
            "61/61 [==============================] - 1s 12ms/step - loss: 0.0448 - accuracy: 0.9819 - val_loss: 1.1348 - val_accuracy: 0.8127\n",
            "Epoch 47/200\n",
            "61/61 [==============================] - 1s 11ms/step - loss: 0.0437 - accuracy: 0.9808 - val_loss: 1.2469 - val_accuracy: 0.8091\n",
            "Epoch 48/200\n",
            "61/61 [==============================] - 1s 11ms/step - loss: 0.0425 - accuracy: 0.9817 - val_loss: 1.1991 - val_accuracy: 0.8142\n",
            "Epoch 49/200\n",
            "61/61 [==============================] - 1s 11ms/step - loss: 0.0446 - accuracy: 0.9816 - val_loss: 0.9953 - val_accuracy: 0.8083\n",
            "Epoch 50/200\n",
            "61/61 [==============================] - 1s 12ms/step - loss: 0.0460 - accuracy: 0.9807 - val_loss: 1.2325 - val_accuracy: 0.8148\n",
            "Epoch 51/200\n",
            "61/61 [==============================] - 1s 11ms/step - loss: 0.0424 - accuracy: 0.9821 - val_loss: 1.1281 - val_accuracy: 0.8114\n",
            "Epoch 52/200\n",
            "61/61 [==============================] - 1s 11ms/step - loss: 0.0443 - accuracy: 0.9813 - val_loss: 1.0155 - val_accuracy: 0.8177\n",
            "Epoch 53/200\n",
            "61/61 [==============================] - 1s 12ms/step - loss: 0.0410 - accuracy: 0.9828 - val_loss: 1.1204 - val_accuracy: 0.8127\n",
            "Epoch 54/200\n",
            "61/61 [==============================] - 1s 11ms/step - loss: 0.0373 - accuracy: 0.9837 - val_loss: 1.2025 - val_accuracy: 0.8139\n",
            "Epoch 55/200\n",
            "61/61 [==============================] - 1s 11ms/step - loss: 0.0399 - accuracy: 0.9828 - val_loss: 1.1995 - val_accuracy: 0.8098\n",
            "Epoch 56/200\n",
            "61/61 [==============================] - 1s 11ms/step - loss: 0.0383 - accuracy: 0.9834 - val_loss: 1.3772 - val_accuracy: 0.8214\n",
            "Epoch 57/200\n",
            "61/61 [==============================] - 1s 11ms/step - loss: 0.0401 - accuracy: 0.9829 - val_loss: 1.3424 - val_accuracy: 0.8038\n",
            "Epoch 58/200\n",
            "61/61 [==============================] - 1s 11ms/step - loss: 0.0408 - accuracy: 0.9822 - val_loss: 1.2282 - val_accuracy: 0.8222\n",
            "Epoch 59/200\n",
            "61/61 [==============================] - 1s 11ms/step - loss: 0.0403 - accuracy: 0.9833 - val_loss: 1.1741 - val_accuracy: 0.8174\n",
            "Epoch 60/200\n",
            "61/61 [==============================] - 1s 11ms/step - loss: 0.0380 - accuracy: 0.9839 - val_loss: 1.2944 - val_accuracy: 0.8166\n",
            "Epoch 61/200\n",
            "61/61 [==============================] - 1s 12ms/step - loss: 0.0387 - accuracy: 0.9832 - val_loss: 1.2685 - val_accuracy: 0.8228\n",
            "Epoch 62/200\n",
            "61/61 [==============================] - 1s 11ms/step - loss: 0.0365 - accuracy: 0.9832 - val_loss: 1.4272 - val_accuracy: 0.8163\n",
            "Epoch 63/200\n",
            "61/61 [==============================] - 1s 12ms/step - loss: 0.0435 - accuracy: 0.9812 - val_loss: 1.1389 - val_accuracy: 0.8142\n",
            "Epoch 64/200\n",
            "61/61 [==============================] - 1s 11ms/step - loss: 0.0396 - accuracy: 0.9836 - val_loss: 1.3235 - val_accuracy: 0.8172\n",
            "Epoch 65/200\n",
            "61/61 [==============================] - 1s 12ms/step - loss: 0.0400 - accuracy: 0.9825 - val_loss: 1.3796 - val_accuracy: 0.8201\n",
            "Epoch 66/200\n",
            "61/61 [==============================] - 1s 12ms/step - loss: 0.0401 - accuracy: 0.9823 - val_loss: 1.3023 - val_accuracy: 0.8166\n",
            "Epoch 67/200\n",
            "61/61 [==============================] - 1s 11ms/step - loss: 0.0415 - accuracy: 0.9821 - val_loss: 1.1774 - val_accuracy: 0.8172\n",
            "Epoch 68/200\n",
            "61/61 [==============================] - 1s 11ms/step - loss: 0.0385 - accuracy: 0.9828 - val_loss: 1.2601 - val_accuracy: 0.8160\n",
            "Epoch 69/200\n",
            "61/61 [==============================] - 1s 11ms/step - loss: 0.0362 - accuracy: 0.9837 - val_loss: 1.3820 - val_accuracy: 0.8111\n",
            "Epoch 70/200\n",
            "61/61 [==============================] - 1s 11ms/step - loss: 0.0400 - accuracy: 0.9824 - val_loss: 1.1609 - val_accuracy: 0.8174\n",
            "Epoch 71/200\n",
            "61/61 [==============================] - 1s 11ms/step - loss: 0.0423 - accuracy: 0.9831 - val_loss: 1.2179 - val_accuracy: 0.8213\n",
            "Epoch 72/200\n",
            "61/61 [==============================] - 1s 12ms/step - loss: 0.0383 - accuracy: 0.9832 - val_loss: 1.2089 - val_accuracy: 0.8095\n",
            "Epoch 73/200\n",
            "61/61 [==============================] - 1s 12ms/step - loss: 0.0453 - accuracy: 0.9817 - val_loss: 1.1006 - val_accuracy: 0.8118\n",
            "Epoch 74/200\n",
            "61/61 [==============================] - 1s 11ms/step - loss: 0.0414 - accuracy: 0.9824 - val_loss: 1.2096 - val_accuracy: 0.8092\n",
            "Epoch 75/200\n",
            "61/61 [==============================] - 1s 11ms/step - loss: 0.0441 - accuracy: 0.9817 - val_loss: 1.3310 - val_accuracy: 0.8192\n",
            "Epoch 76/200\n",
            "61/61 [==============================] - 1s 11ms/step - loss: 0.0401 - accuracy: 0.9826 - val_loss: 1.4049 - val_accuracy: 0.8159\n",
            "Epoch 77/200\n",
            "61/61 [==============================] - 1s 11ms/step - loss: 0.0378 - accuracy: 0.9832 - val_loss: 1.2962 - val_accuracy: 0.8151\n",
            "Epoch 78/200\n",
            "61/61 [==============================] - 1s 11ms/step - loss: 0.0412 - accuracy: 0.9822 - val_loss: 1.1450 - val_accuracy: 0.8139\n",
            "Epoch 79/200\n",
            "61/61 [==============================] - 1s 12ms/step - loss: 0.0373 - accuracy: 0.9834 - val_loss: 1.4340 - val_accuracy: 0.8165\n",
            "Epoch 80/200\n",
            "61/61 [==============================] - 1s 12ms/step - loss: 0.0396 - accuracy: 0.9826 - val_loss: 1.3044 - val_accuracy: 0.8175\n",
            "Epoch 81/200\n",
            "61/61 [==============================] - 1s 11ms/step - loss: 0.0348 - accuracy: 0.9843 - val_loss: 1.5504 - val_accuracy: 0.8130\n",
            "Epoch 82/200\n",
            "61/61 [==============================] - 1s 11ms/step - loss: 0.0362 - accuracy: 0.9835 - val_loss: 1.4943 - val_accuracy: 0.8220\n",
            "Epoch 83/200\n",
            "61/61 [==============================] - 1s 11ms/step - loss: 0.0383 - accuracy: 0.9833 - val_loss: 1.2136 - val_accuracy: 0.7873\n",
            "Epoch 84/200\n",
            "61/61 [==============================] - 1s 11ms/step - loss: 0.0407 - accuracy: 0.9819 - val_loss: 1.2590 - val_accuracy: 0.8014\n",
            "Epoch 85/200\n",
            "61/61 [==============================] - 1s 11ms/step - loss: 0.0375 - accuracy: 0.9841 - val_loss: 1.4798 - val_accuracy: 0.8177\n",
            "Epoch 86/200\n",
            "61/61 [==============================] - 1s 11ms/step - loss: 0.0382 - accuracy: 0.9839 - val_loss: 1.3007 - val_accuracy: 0.8160\n",
            "Epoch 87/200\n",
            "61/61 [==============================] - 1s 11ms/step - loss: 0.0372 - accuracy: 0.9835 - val_loss: 1.4475 - val_accuracy: 0.8165\n",
            "Epoch 88/200\n",
            "61/61 [==============================] - 1s 11ms/step - loss: 0.0346 - accuracy: 0.9847 - val_loss: 1.5292 - val_accuracy: 0.8115\n",
            "Epoch 89/200\n",
            "61/61 [==============================] - 1s 11ms/step - loss: 0.0413 - accuracy: 0.9819 - val_loss: 1.5053 - val_accuracy: 0.8211\n",
            "Epoch 90/200\n",
            "61/61 [==============================] - 1s 11ms/step - loss: 0.0400 - accuracy: 0.9821 - val_loss: 1.2027 - val_accuracy: 0.8117\n",
            "Epoch 91/200\n",
            "61/61 [==============================] - 1s 11ms/step - loss: 0.0354 - accuracy: 0.9838 - val_loss: 1.3591 - val_accuracy: 0.8068\n",
            "Epoch 92/200\n",
            "61/61 [==============================] - 1s 11ms/step - loss: 0.0359 - accuracy: 0.9835 - val_loss: 1.4013 - val_accuracy: 0.8178\n",
            "Epoch 93/200\n",
            "61/61 [==============================] - 1s 17ms/step - loss: 0.0366 - accuracy: 0.9827 - val_loss: 1.4356 - val_accuracy: 0.8192\n",
            "Epoch 94/200\n",
            "61/61 [==============================] - 1s 15ms/step - loss: 0.0324 - accuracy: 0.9847 - val_loss: 1.5055 - val_accuracy: 0.8192\n",
            "Epoch 95/200\n",
            "61/61 [==============================] - 1s 16ms/step - loss: 0.0332 - accuracy: 0.9843 - val_loss: 1.2552 - val_accuracy: 0.8123\n",
            "Epoch 96/200\n",
            "61/61 [==============================] - 1s 11ms/step - loss: 0.0357 - accuracy: 0.9834 - val_loss: 1.2489 - val_accuracy: 0.8061\n",
            "Epoch 97/200\n",
            "61/61 [==============================] - 1s 12ms/step - loss: 0.0342 - accuracy: 0.9843 - val_loss: 1.5010 - val_accuracy: 0.8123\n",
            "Epoch 98/200\n",
            "61/61 [==============================] - 1s 12ms/step - loss: 0.0346 - accuracy: 0.9846 - val_loss: 1.4106 - val_accuracy: 0.8229\n",
            "Epoch 99/200\n",
            "61/61 [==============================] - 1s 11ms/step - loss: 0.0380 - accuracy: 0.9830 - val_loss: 1.3193 - val_accuracy: 0.8252\n",
            "Epoch 100/200\n",
            "61/61 [==============================] - 1s 11ms/step - loss: 0.0357 - accuracy: 0.9843 - val_loss: 1.3934 - val_accuracy: 0.8237\n",
            "Epoch 101/200\n",
            "61/61 [==============================] - 1s 11ms/step - loss: 0.0384 - accuracy: 0.9838 - val_loss: 1.2327 - val_accuracy: 0.8187\n",
            "Epoch 102/200\n",
            "61/61 [==============================] - 1s 11ms/step - loss: 0.0351 - accuracy: 0.9843 - val_loss: 1.5700 - val_accuracy: 0.8214\n",
            "Epoch 103/200\n",
            "61/61 [==============================] - 1s 11ms/step - loss: 0.0382 - accuracy: 0.9831 - val_loss: 1.3561 - val_accuracy: 0.8166\n",
            "Epoch 104/200\n",
            "61/61 [==============================] - 1s 11ms/step - loss: 0.0398 - accuracy: 0.9829 - val_loss: 1.2029 - val_accuracy: 0.8172\n",
            "Epoch 105/200\n",
            "61/61 [==============================] - 1s 11ms/step - loss: 0.0357 - accuracy: 0.9837 - val_loss: 1.2958 - val_accuracy: 0.8217\n",
            "Epoch 106/200\n",
            "61/61 [==============================] - 1s 11ms/step - loss: 0.0349 - accuracy: 0.9841 - val_loss: 1.4348 - val_accuracy: 0.8177\n",
            "Epoch 107/200\n",
            "61/61 [==============================] - 1s 12ms/step - loss: 0.0337 - accuracy: 0.9844 - val_loss: 1.3718 - val_accuracy: 0.8148\n",
            "Epoch 108/200\n",
            "61/61 [==============================] - 1s 11ms/step - loss: 0.0391 - accuracy: 0.9839 - val_loss: 1.2731 - val_accuracy: 0.8172\n",
            "Epoch 109/200\n",
            "61/61 [==============================] - 1s 11ms/step - loss: 0.0366 - accuracy: 0.9836 - val_loss: 1.3910 - val_accuracy: 0.8139\n",
            "Epoch 110/200\n",
            "61/61 [==============================] - 1s 12ms/step - loss: 0.0395 - accuracy: 0.9827 - val_loss: 1.2721 - val_accuracy: 0.8195\n",
            "Epoch 111/200\n",
            "61/61 [==============================] - 1s 11ms/step - loss: 0.0359 - accuracy: 0.9830 - val_loss: 1.3452 - val_accuracy: 0.8142\n",
            "Epoch 112/200\n",
            "61/61 [==============================] - 1s 11ms/step - loss: 0.0339 - accuracy: 0.9843 - val_loss: 1.3904 - val_accuracy: 0.8156\n",
            "Epoch 113/200\n",
            "61/61 [==============================] - 1s 11ms/step - loss: 0.0350 - accuracy: 0.9841 - val_loss: 1.2750 - val_accuracy: 0.8178\n",
            "Epoch 114/200\n",
            "61/61 [==============================] - 1s 12ms/step - loss: 0.0348 - accuracy: 0.9844 - val_loss: 1.3793 - val_accuracy: 0.8098\n",
            "Epoch 115/200\n",
            "61/61 [==============================] - 1s 11ms/step - loss: 0.0342 - accuracy: 0.9844 - val_loss: 1.2799 - val_accuracy: 0.8094\n",
            "Epoch 116/200\n",
            "61/61 [==============================] - 1s 12ms/step - loss: 0.0337 - accuracy: 0.9844 - val_loss: 1.5051 - val_accuracy: 0.8214\n",
            "Epoch 117/200\n",
            "61/61 [==============================] - 1s 11ms/step - loss: 0.0355 - accuracy: 0.9834 - val_loss: 1.3104 - val_accuracy: 0.8184\n",
            "Epoch 118/200\n",
            "61/61 [==============================] - 1s 11ms/step - loss: 0.0326 - accuracy: 0.9847 - val_loss: 1.3851 - val_accuracy: 0.8088\n",
            "Epoch 119/200\n",
            "61/61 [==============================] - 1s 12ms/step - loss: 0.0335 - accuracy: 0.9850 - val_loss: 1.5424 - val_accuracy: 0.8037\n",
            "Epoch 120/200\n",
            "61/61 [==============================] - 1s 11ms/step - loss: 0.0408 - accuracy: 0.9829 - val_loss: 1.3602 - val_accuracy: 0.8199\n",
            "Epoch 121/200\n",
            "61/61 [==============================] - 1s 12ms/step - loss: 0.0370 - accuracy: 0.9832 - val_loss: 1.2983 - val_accuracy: 0.8178\n",
            "Epoch 122/200\n",
            "61/61 [==============================] - 1s 11ms/step - loss: 0.0340 - accuracy: 0.9844 - val_loss: 1.4164 - val_accuracy: 0.8130\n",
            "Epoch 123/200\n",
            "61/61 [==============================] - 1s 11ms/step - loss: 0.0324 - accuracy: 0.9847 - val_loss: 1.5298 - val_accuracy: 0.8216\n",
            "Epoch 124/200\n",
            "61/61 [==============================] - 1s 11ms/step - loss: 0.0348 - accuracy: 0.9850 - val_loss: 1.4420 - val_accuracy: 0.8139\n",
            "Epoch 125/200\n",
            "61/61 [==============================] - 1s 11ms/step - loss: 0.0330 - accuracy: 0.9842 - val_loss: 1.5214 - val_accuracy: 0.8178\n",
            "Epoch 126/200\n",
            "61/61 [==============================] - 1s 11ms/step - loss: 0.0358 - accuracy: 0.9839 - val_loss: 1.4567 - val_accuracy: 0.8195\n",
            "Epoch 127/200\n",
            "61/61 [==============================] - 1s 12ms/step - loss: 0.0347 - accuracy: 0.9851 - val_loss: 1.3666 - val_accuracy: 0.8153\n",
            "Epoch 128/200\n",
            "61/61 [==============================] - 1s 11ms/step - loss: 0.0352 - accuracy: 0.9839 - val_loss: 1.2371 - val_accuracy: 0.8162\n",
            "Epoch 129/200\n",
            "61/61 [==============================] - 1s 11ms/step - loss: 0.0350 - accuracy: 0.9842 - val_loss: 1.2919 - val_accuracy: 0.8141\n",
            "Epoch 130/200\n",
            "61/61 [==============================] - 1s 12ms/step - loss: 0.0346 - accuracy: 0.9843 - val_loss: 1.4479 - val_accuracy: 0.8178\n",
            "Epoch 131/200\n",
            "61/61 [==============================] - 1s 11ms/step - loss: 0.0323 - accuracy: 0.9852 - val_loss: 1.5243 - val_accuracy: 0.8166\n",
            "Epoch 132/200\n",
            "61/61 [==============================] - 1s 11ms/step - loss: 0.0319 - accuracy: 0.9855 - val_loss: 1.5308 - val_accuracy: 0.8153\n",
            "Epoch 133/200\n",
            "61/61 [==============================] - 1s 11ms/step - loss: 0.0340 - accuracy: 0.9848 - val_loss: 1.3888 - val_accuracy: 0.8160\n",
            "Epoch 134/200\n",
            "61/61 [==============================] - 1s 11ms/step - loss: 0.0324 - accuracy: 0.9851 - val_loss: 1.3925 - val_accuracy: 0.8103\n",
            "Epoch 135/200\n",
            "61/61 [==============================] - 1s 11ms/step - loss: 0.0356 - accuracy: 0.9836 - val_loss: 1.2835 - val_accuracy: 0.8130\n",
            "Epoch 136/200\n",
            "61/61 [==============================] - 1s 11ms/step - loss: 0.0314 - accuracy: 0.9844 - val_loss: 1.7393 - val_accuracy: 0.8228\n",
            "Epoch 137/200\n",
            "61/61 [==============================] - 1s 12ms/step - loss: 0.0344 - accuracy: 0.9850 - val_loss: 1.3274 - val_accuracy: 0.8117\n",
            "Epoch 138/200\n",
            "61/61 [==============================] - 1s 11ms/step - loss: 0.0351 - accuracy: 0.9846 - val_loss: 1.2402 - val_accuracy: 0.8177\n",
            "Epoch 139/200\n",
            "61/61 [==============================] - 1s 11ms/step - loss: 0.0337 - accuracy: 0.9849 - val_loss: 1.4658 - val_accuracy: 0.8111\n",
            "Epoch 140/200\n",
            "61/61 [==============================] - 1s 11ms/step - loss: 0.0370 - accuracy: 0.9840 - val_loss: 1.2724 - val_accuracy: 0.8177\n",
            "Epoch 141/200\n",
            "61/61 [==============================] - 1s 11ms/step - loss: 0.0318 - accuracy: 0.9855 - val_loss: 1.6117 - val_accuracy: 0.8214\n",
            "Epoch 142/200\n",
            "61/61 [==============================] - 1s 11ms/step - loss: 0.0336 - accuracy: 0.9844 - val_loss: 1.3221 - val_accuracy: 0.8163\n",
            "Epoch 143/200\n",
            "61/61 [==============================] - 1s 12ms/step - loss: 0.0367 - accuracy: 0.9847 - val_loss: 1.2539 - val_accuracy: 0.8168\n",
            "Epoch 144/200\n",
            "61/61 [==============================] - 1s 12ms/step - loss: 0.0329 - accuracy: 0.9847 - val_loss: 1.4394 - val_accuracy: 0.8059\n",
            "Epoch 145/200\n",
            "61/61 [==============================] - 1s 12ms/step - loss: 0.0353 - accuracy: 0.9843 - val_loss: 1.4574 - val_accuracy: 0.8193\n",
            "Epoch 146/200\n",
            "61/61 [==============================] - 1s 11ms/step - loss: 0.0345 - accuracy: 0.9844 - val_loss: 1.3131 - val_accuracy: 0.8117\n",
            "Epoch 147/200\n",
            "61/61 [==============================] - 1s 11ms/step - loss: 0.0326 - accuracy: 0.9849 - val_loss: 1.6169 - val_accuracy: 0.8208\n",
            "Epoch 148/200\n",
            "61/61 [==============================] - 1s 11ms/step - loss: 0.0324 - accuracy: 0.9850 - val_loss: 1.4923 - val_accuracy: 0.8159\n",
            "Epoch 149/200\n",
            "61/61 [==============================] - 1s 11ms/step - loss: 0.0352 - accuracy: 0.9841 - val_loss: 1.4343 - val_accuracy: 0.8121\n",
            "Epoch 150/200\n",
            "61/61 [==============================] - 1s 11ms/step - loss: 0.0365 - accuracy: 0.9839 - val_loss: 1.3313 - val_accuracy: 0.8109\n",
            "Epoch 151/200\n",
            "61/61 [==============================] - 1s 12ms/step - loss: 0.0367 - accuracy: 0.9833 - val_loss: 1.3919 - val_accuracy: 0.8139\n",
            "Epoch 152/200\n",
            "61/61 [==============================] - 1s 13ms/step - loss: 0.0307 - accuracy: 0.9854 - val_loss: 1.4924 - val_accuracy: 0.8120\n",
            "Epoch 153/200\n",
            "61/61 [==============================] - 1s 11ms/step - loss: 0.0323 - accuracy: 0.9849 - val_loss: 1.4161 - val_accuracy: 0.8228\n",
            "Epoch 154/200\n",
            "61/61 [==============================] - 1s 11ms/step - loss: 0.0321 - accuracy: 0.9850 - val_loss: 1.3761 - val_accuracy: 0.8226\n",
            "Epoch 155/200\n",
            "61/61 [==============================] - 1s 11ms/step - loss: 0.0312 - accuracy: 0.9856 - val_loss: 1.5302 - val_accuracy: 0.8050\n",
            "Epoch 156/200\n",
            "61/61 [==============================] - 1s 11ms/step - loss: 0.0310 - accuracy: 0.9849 - val_loss: 1.5665 - val_accuracy: 0.8213\n",
            "Epoch 157/200\n",
            "61/61 [==============================] - 1s 11ms/step - loss: 0.0322 - accuracy: 0.9857 - val_loss: 1.5697 - val_accuracy: 0.8147\n",
            "Epoch 158/200\n",
            "61/61 [==============================] - 1s 11ms/step - loss: 0.0337 - accuracy: 0.9842 - val_loss: 1.6043 - val_accuracy: 0.8141\n",
            "Epoch 159/200\n",
            "61/61 [==============================] - 1s 11ms/step - loss: 0.0363 - accuracy: 0.9835 - val_loss: 1.3390 - val_accuracy: 0.8117\n",
            "Epoch 160/200\n",
            "61/61 [==============================] - 1s 12ms/step - loss: 0.0344 - accuracy: 0.9843 - val_loss: 1.3997 - val_accuracy: 0.8126\n",
            "Epoch 161/200\n",
            "61/61 [==============================] - 1s 11ms/step - loss: 0.0359 - accuracy: 0.9843 - val_loss: 1.3321 - val_accuracy: 0.8162\n",
            "Epoch 162/200\n",
            "61/61 [==============================] - 1s 12ms/step - loss: 0.0352 - accuracy: 0.9835 - val_loss: 1.3729 - val_accuracy: 0.8157\n",
            "Epoch 163/200\n",
            "61/61 [==============================] - 1s 11ms/step - loss: 0.0369 - accuracy: 0.9837 - val_loss: 1.2776 - val_accuracy: 0.8237\n",
            "Epoch 164/200\n",
            "61/61 [==============================] - 1s 11ms/step - loss: 0.0311 - accuracy: 0.9854 - val_loss: 1.3861 - val_accuracy: 0.8195\n",
            "Epoch 165/200\n",
            "61/61 [==============================] - 1s 11ms/step - loss: 0.0357 - accuracy: 0.9845 - val_loss: 1.4238 - val_accuracy: 0.8178\n",
            "Epoch 166/200\n",
            "61/61 [==============================] - 1s 12ms/step - loss: 0.0352 - accuracy: 0.9837 - val_loss: 1.2244 - val_accuracy: 0.8204\n",
            "Epoch 167/200\n",
            "61/61 [==============================] - 1s 11ms/step - loss: 0.0348 - accuracy: 0.9846 - val_loss: 1.3074 - val_accuracy: 0.8180\n",
            "Epoch 168/200\n",
            "61/61 [==============================] - 1s 11ms/step - loss: 0.0312 - accuracy: 0.9852 - val_loss: 1.4676 - val_accuracy: 0.8162\n",
            "Epoch 169/200\n",
            "61/61 [==============================] - 1s 11ms/step - loss: 0.0320 - accuracy: 0.9855 - val_loss: 1.4103 - val_accuracy: 0.8213\n",
            "Epoch 170/200\n",
            "61/61 [==============================] - 1s 11ms/step - loss: 0.0314 - accuracy: 0.9854 - val_loss: 1.5482 - val_accuracy: 0.8201\n",
            "Epoch 171/200\n",
            "61/61 [==============================] - 1s 11ms/step - loss: 0.0316 - accuracy: 0.9854 - val_loss: 1.3617 - val_accuracy: 0.8106\n",
            "Epoch 172/200\n",
            "61/61 [==============================] - 1s 11ms/step - loss: 0.0363 - accuracy: 0.9845 - val_loss: 1.3607 - val_accuracy: 0.8135\n",
            "Epoch 173/200\n",
            "61/61 [==============================] - 1s 13ms/step - loss: 0.0317 - accuracy: 0.9851 - val_loss: 1.4139 - val_accuracy: 0.8202\n",
            "Epoch 174/200\n",
            "61/61 [==============================] - 1s 14ms/step - loss: 0.0357 - accuracy: 0.9844 - val_loss: 1.1716 - val_accuracy: 0.8186\n",
            "Epoch 175/200\n",
            "61/61 [==============================] - 1s 14ms/step - loss: 0.0332 - accuracy: 0.9850 - val_loss: 1.4244 - val_accuracy: 0.8159\n",
            "Epoch 176/200\n",
            "61/61 [==============================] - 1s 14ms/step - loss: 0.0324 - accuracy: 0.9857 - val_loss: 1.3393 - val_accuracy: 0.8204\n",
            "Epoch 177/200\n",
            "61/61 [==============================] - 1s 14ms/step - loss: 0.0299 - accuracy: 0.9857 - val_loss: 1.5296 - val_accuracy: 0.8132\n",
            "Epoch 178/200\n",
            "61/61 [==============================] - 1s 11ms/step - loss: 0.0297 - accuracy: 0.9852 - val_loss: 1.6650 - val_accuracy: 0.8127\n",
            "Epoch 179/200\n",
            "61/61 [==============================] - 1s 11ms/step - loss: 0.0303 - accuracy: 0.9858 - val_loss: 1.5752 - val_accuracy: 0.8195\n",
            "Epoch 180/200\n",
            "61/61 [==============================] - 1s 11ms/step - loss: 0.0328 - accuracy: 0.9857 - val_loss: 1.3375 - val_accuracy: 0.8062\n",
            "Epoch 181/200\n",
            "61/61 [==============================] - 1s 11ms/step - loss: 0.0324 - accuracy: 0.9852 - val_loss: 1.4686 - val_accuracy: 0.8201\n",
            "Epoch 182/200\n",
            "61/61 [==============================] - 1s 11ms/step - loss: 0.0311 - accuracy: 0.9859 - val_loss: 1.5430 - val_accuracy: 0.8150\n",
            "Epoch 183/200\n",
            "61/61 [==============================] - 1s 11ms/step - loss: 0.0320 - accuracy: 0.9850 - val_loss: 1.5132 - val_accuracy: 0.8151\n",
            "Epoch 184/200\n",
            "61/61 [==============================] - 1s 11ms/step - loss: 0.0322 - accuracy: 0.9844 - val_loss: 1.3797 - val_accuracy: 0.8225\n",
            "Epoch 185/200\n",
            "61/61 [==============================] - 1s 12ms/step - loss: 0.0313 - accuracy: 0.9852 - val_loss: 1.4128 - val_accuracy: 0.8234\n",
            "Epoch 186/200\n",
            "61/61 [==============================] - 1s 11ms/step - loss: 0.0307 - accuracy: 0.9851 - val_loss: 1.2958 - val_accuracy: 0.8142\n",
            "Epoch 187/200\n",
            "61/61 [==============================] - 1s 11ms/step - loss: 0.0330 - accuracy: 0.9852 - val_loss: 1.3780 - val_accuracy: 0.8202\n",
            "Epoch 188/200\n",
            "61/61 [==============================] - 1s 11ms/step - loss: 0.0310 - accuracy: 0.9860 - val_loss: 1.3916 - val_accuracy: 0.8198\n",
            "Epoch 189/200\n",
            "61/61 [==============================] - 1s 11ms/step - loss: 0.0311 - accuracy: 0.9855 - val_loss: 1.6196 - val_accuracy: 0.8226\n",
            "Epoch 190/200\n",
            "61/61 [==============================] - 1s 11ms/step - loss: 0.0320 - accuracy: 0.9855 - val_loss: 1.2844 - val_accuracy: 0.8174\n",
            "Epoch 191/200\n",
            "61/61 [==============================] - 1s 11ms/step - loss: 0.0312 - accuracy: 0.9856 - val_loss: 1.4431 - val_accuracy: 0.8241\n",
            "Epoch 192/200\n",
            "61/61 [==============================] - 1s 12ms/step - loss: 0.0301 - accuracy: 0.9861 - val_loss: 1.4621 - val_accuracy: 0.8266\n",
            "Epoch 193/200\n",
            "61/61 [==============================] - 1s 11ms/step - loss: 0.0296 - accuracy: 0.9860 - val_loss: 1.5841 - val_accuracy: 0.8248\n",
            "Epoch 194/200\n",
            "61/61 [==============================] - 1s 11ms/step - loss: 0.0317 - accuracy: 0.9851 - val_loss: 1.4344 - val_accuracy: 0.8222\n",
            "Epoch 195/200\n",
            "61/61 [==============================] - 1s 11ms/step - loss: 0.0323 - accuracy: 0.9846 - val_loss: 1.6500 - val_accuracy: 0.8181\n",
            "Epoch 196/200\n",
            "61/61 [==============================] - 1s 13ms/step - loss: 0.0325 - accuracy: 0.9849 - val_loss: 1.6849 - val_accuracy: 0.8208\n",
            "Epoch 197/200\n",
            "61/61 [==============================] - 1s 11ms/step - loss: 0.0333 - accuracy: 0.9848 - val_loss: 1.3563 - val_accuracy: 0.8130\n",
            "Epoch 198/200\n",
            "61/61 [==============================] - 1s 11ms/step - loss: 0.0360 - accuracy: 0.9837 - val_loss: 1.4743 - val_accuracy: 0.8123\n",
            "Epoch 199/200\n",
            "61/61 [==============================] - 1s 11ms/step - loss: 0.0351 - accuracy: 0.9841 - val_loss: 1.4740 - val_accuracy: 0.8241\n",
            "Epoch 200/200\n",
            "61/61 [==============================] - 1s 12ms/step - loss: 0.0327 - accuracy: 0.9857 - val_loss: 1.6258 - val_accuracy: 0.8243\n"
          ]
        }
      ]
    },
    {
      "cell_type": "code",
      "source": [
        "model.evaluate(X_train,y_train)\n",
        "model.evaluate(X_test,y_test)"
      ],
      "metadata": {
        "id": "Mwm2AxztL8O6",
        "colab": {
          "base_uri": "https://localhost:8080/"
        },
        "outputId": "285753b5-e83e-4472-d17c-3096486d3763"
      },
      "execution_count": 79,
      "outputs": [
        {
          "output_type": "stream",
          "name": "stdout",
          "text": [
            "485/485 [==============================] - 2s 4ms/step - loss: 0.0252 - accuracy: 0.9874\n",
            "208/208 [==============================] - 1s 4ms/step - loss: 1.6258 - accuracy: 0.8243\n"
          ]
        },
        {
          "output_type": "execute_result",
          "data": {
            "text/plain": [
              "[1.6258195638656616, 0.8242999315261841]"
            ]
          },
          "metadata": {},
          "execution_count": 79
        }
      ]
    },
    {
      "cell_type": "code",
      "source": [
        "epoch_list = [i for i in range(0,epochs)]\n",
        "fig , ax = plt.subplots(1,2)\n",
        "train_acc = history.history['accuracy']\n",
        "train_loss = history.history['loss']\n",
        "val_acc = history.history['val_accuracy']\n",
        "val_loss = history.history['val_loss']\n",
        "fig.set_size_inches(20,10)\n",
        "\n",
        "ax[0].plot(epoch_list , train_acc , 'g-' , label = 'Training Accuracy')\n",
        "ax[0].plot(epoch_list , val_acc , 'r-' , label = 'Testing Accuracy')\n",
        "ax[0].set_title('Training & Testing Accuracy')\n",
        "ax[0].legend()\n",
        "ax[0].set_xlabel(\"Epochs\")\n",
        "ax[0].set_ylabel(\"Accuracy\")\n",
        "\n",
        "ax[1].plot(epoch_list , train_loss , 'g-' , label = 'Training Loss')\n",
        "ax[1].plot(epoch_list , val_loss , 'r-' , label = 'Testing Loss')\n",
        "ax[1].set_title('Training & Testing Loss')\n",
        "ax[1].legend()\n",
        "ax[1].set_xlabel(\"Epochs\")\n",
        "ax[1].set_ylabel(\"Loss\")\n",
        "plt.show()"
      ],
      "metadata": {
        "id": "K5zKEKG-L8Tk",
        "colab": {
          "base_uri": "https://localhost:8080/",
          "height": 621
        },
        "outputId": "a128c529-0d6d-4d63-bf6b-e10da4dfea42"
      },
      "execution_count": 80,
      "outputs": [
        {
          "output_type": "display_data",
          "data": {
            "text/plain": [
              "<Figure size 1440x720 with 2 Axes>"
            ],
            "image/png": "[encoded data removed]"
          },
          "metadata": {
            "needs_background": "light"
          }
        }
      ]
    },
    {
      "cell_type": "code",
      "source": [
        "pred_train = model.predict(X_train)\n",
        "pred_test = model.predict(X_test)"
      ],
      "metadata": {
        "id": "KdZ4w6eoIkM_"
      },
      "execution_count": 81,
      "outputs": []
    },
    {
      "cell_type": "markdown",
      "source": [
        "Final layer has sigmoid activation. If pred < 0.5 class is 0 (Fake), else 1 (Real)"
      ],
      "metadata": {
        "id": "w-MOrJJojF4p"
      }
    },
    {
      "cell_type": "code",
      "source": [
        "pred_train_classes = (pred_train > 0.5).astype(int)\n",
        "pred_test_classes = (pred_test > 0.5).astype(int)"
      ],
      "metadata": {
        "id": "385jQkAjfO5-"
      },
      "execution_count": 82,
      "outputs": []
    },
    {
      "cell_type": "code",
      "source": [
        "(pred_train_classes.squeeze() == y_train).mean(), (pred_test_classes.squeeze() == y_test).mean()"
      ],
      "metadata": {
        "id": "zXZx19UojdXF",
        "colab": {
          "base_uri": "https://localhost:8080/"
        },
        "outputId": "a69e6087-b118-4d6d-cc84-f660b091e8b4"
      },
      "execution_count": 83,
      "outputs": [
        {
          "output_type": "execute_result",
          "data": {
            "text/plain": [
              "(0.987353206865402, 0.8242999096657633)"
            ]
          },
          "metadata": {},
          "execution_count": 83
        }
      ]
    },
    {
      "cell_type": "code",
      "source": [
        "from sklearn.metrics import ConfusionMatrixDisplay"
      ],
      "metadata": {
        "id": "mLRpUkAGgDyi"
      },
      "execution_count": 84,
      "outputs": []
    },
    {
      "cell_type": "code",
      "source": [
        "cmdisp = ConfusionMatrixDisplay.from_predictions(y_train, pred_train_classes, display_labels=[\"Fake\", \"Real\"])\n",
        "cmdisp.ax_.set_title(\"Training\")\n",
        "plt.show()"
      ],
      "metadata": {
        "id": "RL70VChtgqvO",
        "colab": {
          "base_uri": "https://localhost:8080/",
          "height": 295
        },
        "outputId": "93be6122-1222-40a6-85bd-7b4c6cc6a647"
      },
      "execution_count": 85,
      "outputs": [
        {
          "output_type": "display_data",
          "data": {
            "text/plain": [
              "<Figure size 432x288 with 2 Axes>"
            ],
            "image/png": "[encoded data removed]"
          },
          "metadata": {
            "needs_background": "light"
          }
        }
      ]
    },
    {
      "cell_type": "code",
      "source": [
        "cmdisp = ConfusionMatrixDisplay.from_predictions(y_test, pred_test_classes, display_labels=[\"Fake\", \"Real\"])\n",
        "cmdisp.ax_.set_title(\"Validation\")\n",
        "plt.show()"
      ],
      "metadata": {
        "id": "e5p_LvMEhCsX",
        "colab": {
          "base_uri": "https://localhost:8080/",
          "height": 295
        },
        "outputId": "7d636121-5a70-46c8-9c90-97761c0b8d58"
      },
      "execution_count": 86,
      "outputs": [
        {
          "output_type": "display_data",
          "data": {
            "text/plain": [
              "<Figure size 432x288 with 2 Axes>"
            ],
            "image/png": "[encoded data removed]"
          },
          "metadata": {
            "needs_background": "light"
          }
        }
      ]
    },
    {
      "cell_type": "code",
      "source": [
        "from collections import Counter\n",
        "\n",
        "\n",
        "print(Counter(y_test).keys()) # equals to list(set(words))\n",
        "print(Counter(y_test).values())"
      ],
      "metadata": {
        "id": "3Tl2Plp5XPAQ",
        "outputId": "b7bd139d-a2c6-4b62-f171-da107a38eb96",
        "colab": {
          "base_uri": "https://localhost:8080/"
        }
      },
      "execution_count": 87,
      "outputs": [
        {
          "output_type": "stream",
          "name": "stdout",
          "text": [
            "dict_keys([1, 0])\n",
            "dict_values([5069, 1573])\n"
          ]
        }
      ]
    },
    {
      "cell_type": "code",
      "source": [
        "sentence = [\"All the universities and schools remain closed for two months due to the corona virus outbreak in the country.\"]\n",
        "sequences = tokenizer.texts_to_sequences(sentence)\n",
        "padded = sequence.pad_sequences(sequences, maxlen=max_len)\n",
        "model_decision = model.predict(padded)\n",
        "print(model_decision)"
      ],
      "metadata": {
        "id": "iOoQod9yMgEB",
        "colab": {
          "base_uri": "https://localhost:8080/"
        },
        "outputId": "dde3893d-1c28-4c7e-999f-83256db3d218"
      },
      "execution_count": 88,
      "outputs": [
        {
          "output_type": "stream",
          "name": "stdout",
          "text": [
            "[[0.99999917]]\n"
          ]
        }
      ]
    },
    {
      "cell_type": "code",
      "source": [
        "sentence1 = [\"leeee keen to nooo where leaves\"]\n",
        "sequences1 = tokenizer.texts_to_sequences(sentence)\n",
        "padded1 = sequence.pad_sequences(sequences1, maxlen=max_len)\n",
        "model_decision1 = model.predict(padded1)\n",
        "print(model_decision1)"
      ],
      "metadata": {
        "id": "8MlPrlKXMgIe",
        "colab": {
          "base_uri": "https://localhost:8080/"
        },
        "outputId": "652a4646-2d1c-4cbd-957d-69776982b61b"
      },
      "execution_count": 89,
      "outputs": [
        {
          "output_type": "stream",
          "name": "stdout",
          "text": [
            "[[0.99999917]]\n"
          ]
        }
      ]
    }
  ]
}